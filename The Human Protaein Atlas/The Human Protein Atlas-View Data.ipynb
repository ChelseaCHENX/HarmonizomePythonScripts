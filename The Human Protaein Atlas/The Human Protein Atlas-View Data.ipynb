{
 "cells": [
  {
   "cell_type": "code",
   "execution_count": 4,
   "metadata": {
    "collapsed": true
   },
   "outputs": [],
   "source": [
    "import os\n",
    "import numpy as np\n",
    "import pandas as pd"
   ]
  },
  {
   "cell_type": "code",
   "execution_count": 5,
   "metadata": {
    "collapsed": true
   },
   "outputs": [],
   "source": [
    "pd.set_option('display.notebook_repr_html', True)\n",
    "\n",
    "def _repr_latex_(self):\n",
    "    return \"\\centering{%s}\" % self.to_latex()\n",
    "\n",
    "pd.DataFrame._repr_latex_ = _repr_latex_  # monkey patch pandas DataFrame"
   ]
  },
  {
   "cell_type": "markdown",
   "metadata": {},
   "source": [
    "Normal tissue data\n",
    "Expression profiles for proteins in human tissues based on immunohistochemisty using tissue micro arrays. The comma-separated file includes Ensembl gene identifier (\"Gene\"), tissue name (\"Tissue\"), annotated cell type (\"Cell type\"), expression value (\"Level\"), and the gene reliability of the expression value (\"Reliability\"). The data is based on The Human Protein Atlas version 16 and Ensembl version 83.38."
   ]
  },
  {
   "cell_type": "code",
   "execution_count": 6,
   "metadata": {
    "collapsed": false
   },
   "outputs": [],
   "source": [
    "df1 = pd.read_csv('Data/normal_tissue.csv.zip', sep=',')"
   ]
  },
  {
   "cell_type": "code",
   "execution_count": 7,
   "metadata": {
    "collapsed": false
   },
   "outputs": [
    {
     "data": {
      "text/html": [
       "<div>\n",
       "<table border=\"1\" class=\"dataframe\">\n",
       "  <thead>\n",
       "    <tr style=\"text-align: right;\">\n",
       "      <th></th>\n",
       "      <th>Gene</th>\n",
       "      <th>Gene name</th>\n",
       "      <th>Tissue</th>\n",
       "      <th>Cell type</th>\n",
       "      <th>Level</th>\n",
       "      <th>Reliability</th>\n",
       "    </tr>\n",
       "  </thead>\n",
       "  <tbody>\n",
       "    <tr>\n",
       "      <th>0</th>\n",
       "      <td>ENSG00000000003</td>\n",
       "      <td>TSPAN6</td>\n",
       "      <td>adrenal gland</td>\n",
       "      <td>glandular cells</td>\n",
       "      <td>Not detected</td>\n",
       "      <td>Uncertain</td>\n",
       "    </tr>\n",
       "    <tr>\n",
       "      <th>1</th>\n",
       "      <td>ENSG00000000003</td>\n",
       "      <td>TSPAN6</td>\n",
       "      <td>appendix</td>\n",
       "      <td>glandular cells</td>\n",
       "      <td>Medium</td>\n",
       "      <td>Uncertain</td>\n",
       "    </tr>\n",
       "    <tr>\n",
       "      <th>2</th>\n",
       "      <td>ENSG00000000003</td>\n",
       "      <td>TSPAN6</td>\n",
       "      <td>appendix</td>\n",
       "      <td>lymphoid tissue</td>\n",
       "      <td>Not detected</td>\n",
       "      <td>Uncertain</td>\n",
       "    </tr>\n",
       "    <tr>\n",
       "      <th>3</th>\n",
       "      <td>ENSG00000000003</td>\n",
       "      <td>TSPAN6</td>\n",
       "      <td>bone marrow</td>\n",
       "      <td>hematopoietic cells</td>\n",
       "      <td>Not detected</td>\n",
       "      <td>Uncertain</td>\n",
       "    </tr>\n",
       "    <tr>\n",
       "      <th>4</th>\n",
       "      <td>ENSG00000000003</td>\n",
       "      <td>TSPAN6</td>\n",
       "      <td>breast</td>\n",
       "      <td>adipocytes</td>\n",
       "      <td>Not detected</td>\n",
       "      <td>Uncertain</td>\n",
       "    </tr>\n",
       "  </tbody>\n",
       "</table>\n",
       "</div>"
      ],
      "text/latex": [
       "\\centering{\\begin{tabular}{lllllll}\n",
       "\\toprule\n",
       "{} &             Gene & Gene name &         Tissue &            Cell type &         Level & Reliability \\\\\n",
       "\\midrule\n",
       "0 &  ENSG00000000003 &    TSPAN6 &  adrenal gland &      glandular cells &  Not detected &   Uncertain \\\\\n",
       "1 &  ENSG00000000003 &    TSPAN6 &       appendix &      glandular cells &        Medium &   Uncertain \\\\\n",
       "2 &  ENSG00000000003 &    TSPAN6 &       appendix &      lymphoid tissue &  Not detected &   Uncertain \\\\\n",
       "3 &  ENSG00000000003 &    TSPAN6 &    bone marrow &  hematopoietic cells &  Not detected &   Uncertain \\\\\n",
       "4 &  ENSG00000000003 &    TSPAN6 &         breast &           adipocytes &  Not detected &   Uncertain \\\\\n",
       "\\bottomrule\n",
       "\\end{tabular}\n",
       "}"
      ],
      "text/plain": [
       "              Gene Gene name         Tissue            Cell type  \\\n",
       "0  ENSG00000000003    TSPAN6  adrenal gland      glandular cells   \n",
       "1  ENSG00000000003    TSPAN6       appendix      glandular cells   \n",
       "2  ENSG00000000003    TSPAN6       appendix      lymphoid tissue   \n",
       "3  ENSG00000000003    TSPAN6    bone marrow  hematopoietic cells   \n",
       "4  ENSG00000000003    TSPAN6         breast           adipocytes   \n",
       "\n",
       "          Level Reliability  \n",
       "0  Not detected   Uncertain  \n",
       "1        Medium   Uncertain  \n",
       "2  Not detected   Uncertain  \n",
       "3  Not detected   Uncertain  \n",
       "4  Not detected   Uncertain  "
      ]
     },
     "execution_count": 7,
     "metadata": {},
     "output_type": "execute_result"
    }
   ],
   "source": [
    "df1.head()"
   ]
  },
  {
   "cell_type": "code",
   "execution_count": 52,
   "metadata": {
    "collapsed": false
   },
   "outputs": [
    {
     "data": {
      "text/plain": [
       "12978"
      ]
     },
     "execution_count": 52,
     "metadata": {},
     "output_type": "execute_result"
    }
   ],
   "source": [
    "len(df1['Gene name'].unique())"
   ]
  },
  {
   "cell_type": "markdown",
   "metadata": {},
   "source": [
    "RNA gene data\n",
    "RNA levels in 56 cell lines and 37 tissues based on RNA-seq. The comma-separated file includes Ensembl gene identifier (\"Gene\"), analysed sample (\"Sample\") and fragments per kilobase of transcript per million fragments mapped (\"Value\" and \"Unit\"). The data is based on The Human Protein Atlas version 16 and Ensembl version 83.38. "
   ]
  },
  {
   "cell_type": "markdown",
   "metadata": {},
   "source": [
    "RNA sequencing data for human tissue "
   ]
  },
  {
   "cell_type": "code",
   "execution_count": 9,
   "metadata": {
    "collapsed": false
   },
   "outputs": [],
   "source": [
    "df2 = pd.read_csv('Data/rna_celline.csv.zip', sep=',')"
   ]
  },
  {
   "cell_type": "code",
   "execution_count": 10,
   "metadata": {
    "collapsed": false
   },
   "outputs": [
    {
     "data": {
      "text/html": [
       "<div>\n",
       "<table border=\"1\" class=\"dataframe\">\n",
       "  <thead>\n",
       "    <tr style=\"text-align: right;\">\n",
       "      <th></th>\n",
       "      <th>Gene</th>\n",
       "      <th>Gene name</th>\n",
       "      <th>Sample</th>\n",
       "      <th>Value</th>\n",
       "      <th>Unit</th>\n",
       "    </tr>\n",
       "  </thead>\n",
       "  <tbody>\n",
       "    <tr>\n",
       "      <th>0</th>\n",
       "      <td>ENSG00000000003</td>\n",
       "      <td>TSPAN6</td>\n",
       "      <td>A-431</td>\n",
       "      <td>27.8</td>\n",
       "      <td>TPM</td>\n",
       "    </tr>\n",
       "    <tr>\n",
       "      <th>1</th>\n",
       "      <td>ENSG00000000003</td>\n",
       "      <td>TSPAN6</td>\n",
       "      <td>A549</td>\n",
       "      <td>37.6</td>\n",
       "      <td>TPM</td>\n",
       "    </tr>\n",
       "    <tr>\n",
       "      <th>2</th>\n",
       "      <td>ENSG00000000003</td>\n",
       "      <td>TSPAN6</td>\n",
       "      <td>AF22</td>\n",
       "      <td>108.2</td>\n",
       "      <td>TPM</td>\n",
       "    </tr>\n",
       "    <tr>\n",
       "      <th>3</th>\n",
       "      <td>ENSG00000000003</td>\n",
       "      <td>TSPAN6</td>\n",
       "      <td>AN3-CA</td>\n",
       "      <td>51.8</td>\n",
       "      <td>TPM</td>\n",
       "    </tr>\n",
       "    <tr>\n",
       "      <th>4</th>\n",
       "      <td>ENSG00000000003</td>\n",
       "      <td>TSPAN6</td>\n",
       "      <td>ASC TERT1</td>\n",
       "      <td>17.8</td>\n",
       "      <td>TPM</td>\n",
       "    </tr>\n",
       "  </tbody>\n",
       "</table>\n",
       "</div>"
      ],
      "text/latex": [
       "\\centering{\\begin{tabular}{llllrl}\n",
       "\\toprule\n",
       "{} &             Gene & Gene name &     Sample &  Value & Unit \\\\\n",
       "\\midrule\n",
       "0 &  ENSG00000000003 &    TSPAN6 &      A-431 &   27.8 &  TPM \\\\\n",
       "1 &  ENSG00000000003 &    TSPAN6 &       A549 &   37.6 &  TPM \\\\\n",
       "2 &  ENSG00000000003 &    TSPAN6 &       AF22 &  108.2 &  TPM \\\\\n",
       "3 &  ENSG00000000003 &    TSPAN6 &     AN3-CA &   51.8 &  TPM \\\\\n",
       "4 &  ENSG00000000003 &    TSPAN6 &  ASC TERT1 &   17.8 &  TPM \\\\\n",
       "\\bottomrule\n",
       "\\end{tabular}\n",
       "}"
      ],
      "text/plain": [
       "              Gene Gene name     Sample  Value Unit\n",
       "0  ENSG00000000003    TSPAN6      A-431   27.8  TPM\n",
       "1  ENSG00000000003    TSPAN6       A549   37.6  TPM\n",
       "2  ENSG00000000003    TSPAN6       AF22  108.2  TPM\n",
       "3  ENSG00000000003    TSPAN6     AN3-CA   51.8  TPM\n",
       "4  ENSG00000000003    TSPAN6  ASC TERT1   17.8  TPM"
      ]
     },
     "execution_count": 10,
     "metadata": {},
     "output_type": "execute_result"
    }
   ],
   "source": [
    "df2.head()"
   ]
  },
  {
   "cell_type": "code",
   "execution_count": 11,
   "metadata": {
    "collapsed": false
   },
   "outputs": [
    {
     "data": {
      "text/plain": [
       "(56,)"
      ]
     },
     "execution_count": 11,
     "metadata": {},
     "output_type": "execute_result"
    }
   ],
   "source": [
    "df2.Sample.unique().shape"
   ]
  },
  {
   "cell_type": "code",
   "execution_count": 12,
   "metadata": {
    "collapsed": false
   },
   "outputs": [
    {
     "data": {
      "text/plain": [
       "(1099168, 5)"
      ]
     },
     "execution_count": 12,
     "metadata": {},
     "output_type": "execute_result"
    }
   ],
   "source": [
    "df2.shape"
   ]
  },
  {
   "cell_type": "markdown",
   "metadata": {},
   "source": [
    "RNA gene data RNA levels in 56 cell lines and 37 tissues based on RNA-seq. The comma-separated file includes Ensembl gene identifier (\"Gene\"), analysed sample (\"Sample\") and fragments per kilobase of transcript per million fragments mapped (\"Value\" and \"Unit\"). The data is based on The Human Protein Atlas version 16 and Ensembl version 83.38."
   ]
  },
  {
   "cell_type": "markdown",
   "metadata": {},
   "source": [
    "RNA sequencing data for human cell lines"
   ]
  },
  {
   "cell_type": "code",
   "execution_count": 13,
   "metadata": {
    "collapsed": true
   },
   "outputs": [],
   "source": [
    "df3 = pd.read_csv('Data/rna_tissue.csv.zip', sep=',')"
   ]
  },
  {
   "cell_type": "code",
   "execution_count": 14,
   "metadata": {
    "collapsed": false
   },
   "outputs": [
    {
     "data": {
      "text/html": [
       "<div>\n",
       "<table border=\"1\" class=\"dataframe\">\n",
       "  <thead>\n",
       "    <tr style=\"text-align: right;\">\n",
       "      <th></th>\n",
       "      <th>Gene</th>\n",
       "      <th>Gene name</th>\n",
       "      <th>Sample</th>\n",
       "      <th>Value</th>\n",
       "      <th>Unit</th>\n",
       "    </tr>\n",
       "  </thead>\n",
       "  <tbody>\n",
       "    <tr>\n",
       "      <th>0</th>\n",
       "      <td>ENSG00000000003</td>\n",
       "      <td>TSPAN6</td>\n",
       "      <td>adipose tissue</td>\n",
       "      <td>31.5</td>\n",
       "      <td>TPM</td>\n",
       "    </tr>\n",
       "    <tr>\n",
       "      <th>1</th>\n",
       "      <td>ENSG00000000003</td>\n",
       "      <td>TSPAN6</td>\n",
       "      <td>adrenal gland</td>\n",
       "      <td>26.5</td>\n",
       "      <td>TPM</td>\n",
       "    </tr>\n",
       "    <tr>\n",
       "      <th>2</th>\n",
       "      <td>ENSG00000000003</td>\n",
       "      <td>TSPAN6</td>\n",
       "      <td>appendix</td>\n",
       "      <td>9.5</td>\n",
       "      <td>TPM</td>\n",
       "    </tr>\n",
       "    <tr>\n",
       "      <th>3</th>\n",
       "      <td>ENSG00000000003</td>\n",
       "      <td>TSPAN6</td>\n",
       "      <td>bone marrow</td>\n",
       "      <td>0.7</td>\n",
       "      <td>TPM</td>\n",
       "    </tr>\n",
       "    <tr>\n",
       "      <th>4</th>\n",
       "      <td>ENSG00000000003</td>\n",
       "      <td>TSPAN6</td>\n",
       "      <td>breast</td>\n",
       "      <td>53.0</td>\n",
       "      <td>TPM</td>\n",
       "    </tr>\n",
       "  </tbody>\n",
       "</table>\n",
       "</div>"
      ],
      "text/latex": [
       "\\centering{\\begin{tabular}{llllrl}\n",
       "\\toprule\n",
       "{} &             Gene & Gene name &          Sample &  Value & Unit \\\\\n",
       "\\midrule\n",
       "0 &  ENSG00000000003 &    TSPAN6 &  adipose tissue &   31.5 &  TPM \\\\\n",
       "1 &  ENSG00000000003 &    TSPAN6 &   adrenal gland &   26.5 &  TPM \\\\\n",
       "2 &  ENSG00000000003 &    TSPAN6 &        appendix &    9.5 &  TPM \\\\\n",
       "3 &  ENSG00000000003 &    TSPAN6 &     bone marrow &    0.7 &  TPM \\\\\n",
       "4 &  ENSG00000000003 &    TSPAN6 &          breast &   53.0 &  TPM \\\\\n",
       "\\bottomrule\n",
       "\\end{tabular}\n",
       "}"
      ],
      "text/plain": [
       "              Gene Gene name          Sample  Value Unit\n",
       "0  ENSG00000000003    TSPAN6  adipose tissue   31.5  TPM\n",
       "1  ENSG00000000003    TSPAN6   adrenal gland   26.5  TPM\n",
       "2  ENSG00000000003    TSPAN6        appendix    9.5  TPM\n",
       "3  ENSG00000000003    TSPAN6     bone marrow    0.7  TPM\n",
       "4  ENSG00000000003    TSPAN6          breast   53.0  TPM"
      ]
     },
     "execution_count": 14,
     "metadata": {},
     "output_type": "execute_result"
    }
   ],
   "source": [
    "df3.head()"
   ]
  },
  {
   "cell_type": "code",
   "execution_count": 15,
   "metadata": {
    "collapsed": false
   },
   "outputs": [
    {
     "data": {
      "text/plain": [
       "(37,)"
      ]
     },
     "execution_count": 15,
     "metadata": {},
     "output_type": "execute_result"
    }
   ],
   "source": [
    "df3.Sample.unique().shape"
   ]
  },
  {
   "cell_type": "code",
   "execution_count": 16,
   "metadata": {
    "collapsed": false
   },
   "outputs": [
    {
     "data": {
      "text/plain": [
       "(726236, 5)"
      ]
     },
     "execution_count": 16,
     "metadata": {},
     "output_type": "execute_result"
    }
   ],
   "source": [
    "df3.shape"
   ]
  },
  {
   "cell_type": "markdown",
   "metadata": {},
   "source": [
    "Subcellular location data\n",
    "Subcellular localization of proteins based on immunofluorescently stained cells. The comma-separated file includes Ensembl gene identifier (\"Gene\"), main subcellular location of the protein (\"Main location\"), other locations (\"Other location\"), and the gene reliability of the expression value (\"Reliability\"). The data is based on The Human Protein Atlas version 16 and Ensembl version 83.38."
   ]
  },
  {
   "cell_type": "code",
   "execution_count": 17,
   "metadata": {
    "collapsed": true
   },
   "outputs": [],
   "source": [
    "df4 = pd.read_csv('Data/subcellular_location.csv.zip', sep=',')"
   ]
  },
  {
   "cell_type": "code",
   "execution_count": 18,
   "metadata": {
    "collapsed": false
   },
   "outputs": [
    {
     "data": {
      "text/html": [
       "<div>\n",
       "<table border=\"1\" class=\"dataframe\">\n",
       "  <thead>\n",
       "    <tr style=\"text-align: right;\">\n",
       "      <th></th>\n",
       "      <th>Gene</th>\n",
       "      <th>Gene name</th>\n",
       "      <th>Reliability</th>\n",
       "      <th>Validated</th>\n",
       "      <th>Supportive</th>\n",
       "      <th>Uncertain</th>\n",
       "      <th>Unreliable</th>\n",
       "      <th>Cell-to-cell variation intensity</th>\n",
       "      <th>Cell-to-cell variation spatial</th>\n",
       "      <th>Cell cycle dependency</th>\n",
       "      <th>GO id</th>\n",
       "    </tr>\n",
       "  </thead>\n",
       "  <tbody>\n",
       "    <tr>\n",
       "      <th>0</th>\n",
       "      <td>ENSG00000000003</td>\n",
       "      <td>TSPAN6</td>\n",
       "      <td>Uncertain</td>\n",
       "      <td>NaN</td>\n",
       "      <td>NaN</td>\n",
       "      <td>Cytosol</td>\n",
       "      <td>NaN</td>\n",
       "      <td>NaN</td>\n",
       "      <td>NaN</td>\n",
       "      <td>NaN</td>\n",
       "      <td>Cytosol (GO:0005829)</td>\n",
       "    </tr>\n",
       "    <tr>\n",
       "      <th>1</th>\n",
       "      <td>ENSG00000000457</td>\n",
       "      <td>SCYL3</td>\n",
       "      <td>Unreliable</td>\n",
       "      <td>NaN</td>\n",
       "      <td>NaN</td>\n",
       "      <td>NaN</td>\n",
       "      <td>Microtubules;Nuclear bodies</td>\n",
       "      <td>NaN</td>\n",
       "      <td>NaN</td>\n",
       "      <td>NaN</td>\n",
       "      <td>Microtubules (GO:0015630);Nuclear bodies (GO:0...</td>\n",
       "    </tr>\n",
       "    <tr>\n",
       "      <th>2</th>\n",
       "      <td>ENSG00000000460</td>\n",
       "      <td>C1orf112</td>\n",
       "      <td>Uncertain</td>\n",
       "      <td>NaN</td>\n",
       "      <td>NaN</td>\n",
       "      <td>Mitochondria</td>\n",
       "      <td>NaN</td>\n",
       "      <td>NaN</td>\n",
       "      <td>NaN</td>\n",
       "      <td>NaN</td>\n",
       "      <td>Mitochondria (GO:0005739)</td>\n",
       "    </tr>\n",
       "    <tr>\n",
       "      <th>3</th>\n",
       "      <td>ENSG00000000938</td>\n",
       "      <td>FGR</td>\n",
       "      <td>Uncertain</td>\n",
       "      <td>NaN</td>\n",
       "      <td>NaN</td>\n",
       "      <td>Aggresome;Plasma membrane</td>\n",
       "      <td>NaN</td>\n",
       "      <td>NaN</td>\n",
       "      <td>NaN</td>\n",
       "      <td>NaN</td>\n",
       "      <td>Aggresome (GO:0016235);Plasma membrane (GO:000...</td>\n",
       "    </tr>\n",
       "    <tr>\n",
       "      <th>4</th>\n",
       "      <td>ENSG00000000971</td>\n",
       "      <td>CFH</td>\n",
       "      <td>Uncertain</td>\n",
       "      <td>NaN</td>\n",
       "      <td>NaN</td>\n",
       "      <td>Vesicles</td>\n",
       "      <td>NaN</td>\n",
       "      <td>NaN</td>\n",
       "      <td>NaN</td>\n",
       "      <td>NaN</td>\n",
       "      <td>Vesicles (GO:0043231)</td>\n",
       "    </tr>\n",
       "  </tbody>\n",
       "</table>\n",
       "</div>"
      ],
      "text/latex": [
       "\\centering{\\begin{tabular}{llllllllllll}\n",
       "\\toprule\n",
       "{} &             Gene & Gene name & Reliability & Validated & Supportive &                  Uncertain &                   Unreliable & Cell-to-cell variation intensity & Cell-to-cell variation spatial & Cell cycle dependency &                                              GO id \\\\\n",
       "\\midrule\n",
       "0 &  ENSG00000000003 &    TSPAN6 &   Uncertain &       NaN &        NaN &                    Cytosol &                          NaN &                              NaN &                            NaN &                   NaN &                               Cytosol (GO:0005829) \\\\\n",
       "1 &  ENSG00000000457 &     SCYL3 &  Unreliable &       NaN &        NaN &                        NaN &  Microtubules;Nuclear bodies &                              NaN &                            NaN &                   NaN &  Microtubules (GO:0015630);Nuclear bodies (GO:0... \\\\\n",
       "2 &  ENSG00000000460 &  C1orf112 &   Uncertain &       NaN &        NaN &               Mitochondria &                          NaN &                              NaN &                            NaN &                   NaN &                          Mitochondria (GO:0005739) \\\\\n",
       "3 &  ENSG00000000938 &       FGR &   Uncertain &       NaN &        NaN &  Aggresome;Plasma membrane &                          NaN &                              NaN &                            NaN &                   NaN &  Aggresome (GO:0016235);Plasma membrane (GO:000... \\\\\n",
       "4 &  ENSG00000000971 &       CFH &   Uncertain &       NaN &        NaN &                   Vesicles &                          NaN &                              NaN &                            NaN &                   NaN &                              Vesicles (GO:0043231) \\\\\n",
       "\\bottomrule\n",
       "\\end{tabular}\n",
       "}"
      ],
      "text/plain": [
       "              Gene Gene name Reliability Validated Supportive  \\\n",
       "0  ENSG00000000003    TSPAN6   Uncertain       NaN        NaN   \n",
       "1  ENSG00000000457     SCYL3  Unreliable       NaN        NaN   \n",
       "2  ENSG00000000460  C1orf112   Uncertain       NaN        NaN   \n",
       "3  ENSG00000000938       FGR   Uncertain       NaN        NaN   \n",
       "4  ENSG00000000971       CFH   Uncertain       NaN        NaN   \n",
       "\n",
       "                   Uncertain                   Unreliable  \\\n",
       "0                    Cytosol                          NaN   \n",
       "1                        NaN  Microtubules;Nuclear bodies   \n",
       "2               Mitochondria                          NaN   \n",
       "3  Aggresome;Plasma membrane                          NaN   \n",
       "4                   Vesicles                          NaN   \n",
       "\n",
       "  Cell-to-cell variation intensity Cell-to-cell variation spatial  \\\n",
       "0                              NaN                            NaN   \n",
       "1                              NaN                            NaN   \n",
       "2                              NaN                            NaN   \n",
       "3                              NaN                            NaN   \n",
       "4                              NaN                            NaN   \n",
       "\n",
       "  Cell cycle dependency                                              GO id  \n",
       "0                   NaN                               Cytosol (GO:0005829)  \n",
       "1                   NaN  Microtubules (GO:0015630);Nuclear bodies (GO:0...  \n",
       "2                   NaN                          Mitochondria (GO:0005739)  \n",
       "3                   NaN  Aggresome (GO:0016235);Plasma membrane (GO:000...  \n",
       "4                   NaN                              Vesicles (GO:0043231)  "
      ]
     },
     "execution_count": 18,
     "metadata": {},
     "output_type": "execute_result"
    }
   ],
   "source": [
    "df4.head()"
   ]
  },
  {
   "cell_type": "markdown",
   "metadata": {},
   "source": [
    "Cancer tumor data\n",
    "Staining profiles for proteins in human tumor tissue based on immunohistochemisty using tissue micro arrays. The comma-separated file includes Ensembl gene identifier (\"Gene\"), tumor name (\"Tumor\"), staining value (\"Level\"), the number of patients that stain for this staining value (\"Count patients\") and the total amount of patients for this tumor type (\"Total patients\"). The data is based on The Human Protein Atlas version 16 and Ensembl version 83.38."
   ]
  },
  {
   "cell_type": "code",
   "execution_count": 19,
   "metadata": {
    "collapsed": true
   },
   "outputs": [],
   "source": [
    "df5 = pd.read_csv('Data/cancer.csv.zip', sep=',')"
   ]
  },
  {
   "cell_type": "code",
   "execution_count": 20,
   "metadata": {
    "collapsed": false
   },
   "outputs": [
    {
     "data": {
      "text/html": [
       "<div>\n",
       "<table border=\"1\" class=\"dataframe\">\n",
       "  <thead>\n",
       "    <tr style=\"text-align: right;\">\n",
       "      <th></th>\n",
       "      <th>Gene</th>\n",
       "      <th>Gene name</th>\n",
       "      <th>Tumor</th>\n",
       "      <th>Level</th>\n",
       "      <th>Count patients</th>\n",
       "      <th>Total patients</th>\n",
       "    </tr>\n",
       "  </thead>\n",
       "  <tbody>\n",
       "    <tr>\n",
       "      <th>0</th>\n",
       "      <td>ENSG00000000003</td>\n",
       "      <td>TSPAN6</td>\n",
       "      <td>breast cancer</td>\n",
       "      <td>High</td>\n",
       "      <td>1</td>\n",
       "      <td>12</td>\n",
       "    </tr>\n",
       "    <tr>\n",
       "      <th>1</th>\n",
       "      <td>ENSG00000000003</td>\n",
       "      <td>TSPAN6</td>\n",
       "      <td>breast cancer</td>\n",
       "      <td>Medium</td>\n",
       "      <td>7</td>\n",
       "      <td>12</td>\n",
       "    </tr>\n",
       "    <tr>\n",
       "      <th>2</th>\n",
       "      <td>ENSG00000000003</td>\n",
       "      <td>TSPAN6</td>\n",
       "      <td>breast cancer</td>\n",
       "      <td>Low</td>\n",
       "      <td>2</td>\n",
       "      <td>12</td>\n",
       "    </tr>\n",
       "    <tr>\n",
       "      <th>3</th>\n",
       "      <td>ENSG00000000003</td>\n",
       "      <td>TSPAN6</td>\n",
       "      <td>breast cancer</td>\n",
       "      <td>Not detected</td>\n",
       "      <td>2</td>\n",
       "      <td>12</td>\n",
       "    </tr>\n",
       "    <tr>\n",
       "      <th>4</th>\n",
       "      <td>ENSG00000000003</td>\n",
       "      <td>TSPAN6</td>\n",
       "      <td>carcinoid</td>\n",
       "      <td>High</td>\n",
       "      <td>0</td>\n",
       "      <td>4</td>\n",
       "    </tr>\n",
       "  </tbody>\n",
       "</table>\n",
       "</div>"
      ],
      "text/latex": [
       "\\centering{\\begin{tabular}{lllllrr}\n",
       "\\toprule\n",
       "{} &             Gene & Gene name &          Tumor &         Level &  Count patients &  Total patients \\\\\n",
       "\\midrule\n",
       "0 &  ENSG00000000003 &    TSPAN6 &  breast cancer &          High &               1 &              12 \\\\\n",
       "1 &  ENSG00000000003 &    TSPAN6 &  breast cancer &        Medium &               7 &              12 \\\\\n",
       "2 &  ENSG00000000003 &    TSPAN6 &  breast cancer &           Low &               2 &              12 \\\\\n",
       "3 &  ENSG00000000003 &    TSPAN6 &  breast cancer &  Not detected &               2 &              12 \\\\\n",
       "4 &  ENSG00000000003 &    TSPAN6 &      carcinoid &          High &               0 &               4 \\\\\n",
       "\\bottomrule\n",
       "\\end{tabular}\n",
       "}"
      ],
      "text/plain": [
       "              Gene Gene name          Tumor         Level  Count patients  \\\n",
       "0  ENSG00000000003    TSPAN6  breast cancer          High               1   \n",
       "1  ENSG00000000003    TSPAN6  breast cancer        Medium               7   \n",
       "2  ENSG00000000003    TSPAN6  breast cancer           Low               2   \n",
       "3  ENSG00000000003    TSPAN6  breast cancer  Not detected               2   \n",
       "4  ENSG00000000003    TSPAN6      carcinoid          High               0   \n",
       "\n",
       "   Total patients  \n",
       "0              12  \n",
       "1              12  \n",
       "2              12  \n",
       "3              12  \n",
       "4               4  "
      ]
     },
     "execution_count": 20,
     "metadata": {},
     "output_type": "execute_result"
    }
   ],
   "source": [
    "df5.head()"
   ]
  },
  {
   "cell_type": "code",
   "execution_count": 50,
   "metadata": {
    "collapsed": false
   },
   "outputs": [
    {
     "data": {
      "text/plain": [
       "15288"
      ]
     },
     "execution_count": 50,
     "metadata": {},
     "output_type": "execute_result"
    }
   ],
   "source": [
    "len(df5['Gene name'].unique())"
   ]
  },
  {
   "cell_type": "markdown",
   "metadata": {},
   "source": [
    "RNA isoform data\n",
    "RNA levels in 56 cell lines and 37 tissues based on RNA-seq. The tab-separated file includes Ensembl gene identifier (\"Gene\"), Ensembl transcript identifier (\"Transcript\"), analysed sample (\"Sample\") and transcript per million (\"TPM\"). The data is based on The Human Protein Atlas version 16 and Ensembl version 83.38. \n"
   ]
  },
  {
   "cell_type": "markdown",
   "metadata": {},
   "source": [
    "Tissue"
   ]
  },
  {
   "cell_type": "code",
   "execution_count": 22,
   "metadata": {
    "collapsed": true
   },
   "outputs": [],
   "source": [
    "df6 = pd.read_csv('Data/transcript_rna_tissue.tsv.zip', sep='\\t')"
   ]
  },
  {
   "cell_type": "code",
   "execution_count": 23,
   "metadata": {
    "collapsed": false
   },
   "outputs": [
    {
     "data": {
      "text/html": [
       "<div>\n",
       "<table border=\"1\" class=\"dataframe\">\n",
       "  <thead>\n",
       "    <tr style=\"text-align: right;\">\n",
       "      <th></th>\n",
       "      <th>ensgid</th>\n",
       "      <th>enstid</th>\n",
       "      <th>adipose tissue.V1</th>\n",
       "      <th>adipose tissue.V2</th>\n",
       "      <th>adipose tissue.V20</th>\n",
       "      <th>adipose tissue.V313</th>\n",
       "      <th>adipose tissue.V315</th>\n",
       "      <th>adrenal gland.V119</th>\n",
       "      <th>adrenal gland.V121</th>\n",
       "      <th>adrenal gland.V122</th>\n",
       "      <th>...</th>\n",
       "      <th>thyroid gland.V198</th>\n",
       "      <th>thyroid gland.V199</th>\n",
       "      <th>thyroid gland.V370</th>\n",
       "      <th>tonsil.V263</th>\n",
       "      <th>tonsil.V287</th>\n",
       "      <th>tonsil.V294</th>\n",
       "      <th>tonsil.V298</th>\n",
       "      <th>tonsil.V301</th>\n",
       "      <th>urinary bladder.V176</th>\n",
       "      <th>urinary bladder.V177</th>\n",
       "    </tr>\n",
       "  </thead>\n",
       "  <tbody>\n",
       "    <tr>\n",
       "      <th>0</th>\n",
       "      <td>ENSG00000000003</td>\n",
       "      <td>ENST00000373020</td>\n",
       "      <td>27.39150</td>\n",
       "      <td>34.49580</td>\n",
       "      <td>39.608101</td>\n",
       "      <td>16.381399</td>\n",
       "      <td>29.387100</td>\n",
       "      <td>29.186001</td>\n",
       "      <td>21.676800</td>\n",
       "      <td>25.614201</td>\n",
       "      <td>...</td>\n",
       "      <td>64.079697</td>\n",
       "      <td>49.60770</td>\n",
       "      <td>72.531197</td>\n",
       "      <td>7.795770</td>\n",
       "      <td>9.398710</td>\n",
       "      <td>9.744870</td>\n",
       "      <td>14.307000</td>\n",
       "      <td>10.708000</td>\n",
       "      <td>20.936701</td>\n",
       "      <td>89.081703</td>\n",
       "    </tr>\n",
       "    <tr>\n",
       "      <th>1</th>\n",
       "      <td>ENSG00000000003</td>\n",
       "      <td>ENST00000494424</td>\n",
       "      <td>0.00000</td>\n",
       "      <td>0.00000</td>\n",
       "      <td>0.173174</td>\n",
       "      <td>0.000000</td>\n",
       "      <td>0.000000</td>\n",
       "      <td>1.375400</td>\n",
       "      <td>0.816387</td>\n",
       "      <td>0.000000</td>\n",
       "      <td>...</td>\n",
       "      <td>0.000000</td>\n",
       "      <td>0.00000</td>\n",
       "      <td>0.216909</td>\n",
       "      <td>0.000000</td>\n",
       "      <td>0.000000</td>\n",
       "      <td>0.000000</td>\n",
       "      <td>0.000000</td>\n",
       "      <td>0.000000</td>\n",
       "      <td>0.000000</td>\n",
       "      <td>0.621756</td>\n",
       "    </tr>\n",
       "    <tr>\n",
       "      <th>2</th>\n",
       "      <td>ENSG00000000003</td>\n",
       "      <td>ENST00000496771</td>\n",
       "      <td>1.93696</td>\n",
       "      <td>1.81727</td>\n",
       "      <td>1.523330</td>\n",
       "      <td>0.240641</td>\n",
       "      <td>0.562465</td>\n",
       "      <td>2.000480</td>\n",
       "      <td>0.776128</td>\n",
       "      <td>0.928242</td>\n",
       "      <td>...</td>\n",
       "      <td>1.543600</td>\n",
       "      <td>1.14814</td>\n",
       "      <td>2.121130</td>\n",
       "      <td>0.000000</td>\n",
       "      <td>0.000000</td>\n",
       "      <td>0.270458</td>\n",
       "      <td>0.571232</td>\n",
       "      <td>0.170098</td>\n",
       "      <td>0.575539</td>\n",
       "      <td>1.357650</td>\n",
       "    </tr>\n",
       "    <tr>\n",
       "      <th>3</th>\n",
       "      <td>ENSG00000000003</td>\n",
       "      <td>ENST00000612152</td>\n",
       "      <td>1.60782</td>\n",
       "      <td>1.65983</td>\n",
       "      <td>2.637380</td>\n",
       "      <td>0.840478</td>\n",
       "      <td>0.985923</td>\n",
       "      <td>1.259700</td>\n",
       "      <td>1.077270</td>\n",
       "      <td>0.910853</td>\n",
       "      <td>...</td>\n",
       "      <td>2.605910</td>\n",
       "      <td>2.05323</td>\n",
       "      <td>2.699720</td>\n",
       "      <td>0.314084</td>\n",
       "      <td>0.267579</td>\n",
       "      <td>0.323288</td>\n",
       "      <td>0.434302</td>\n",
       "      <td>0.193390</td>\n",
       "      <td>0.910751</td>\n",
       "      <td>2.071070</td>\n",
       "    </tr>\n",
       "    <tr>\n",
       "      <th>4</th>\n",
       "      <td>ENSG00000000003</td>\n",
       "      <td>ENST00000614008</td>\n",
       "      <td>0.00000</td>\n",
       "      <td>1.43542</td>\n",
       "      <td>0.000000</td>\n",
       "      <td>0.834401</td>\n",
       "      <td>0.266975</td>\n",
       "      <td>0.000000</td>\n",
       "      <td>0.000000</td>\n",
       "      <td>0.000000</td>\n",
       "      <td>...</td>\n",
       "      <td>0.452601</td>\n",
       "      <td>0.00000</td>\n",
       "      <td>0.000000</td>\n",
       "      <td>0.000000</td>\n",
       "      <td>0.238278</td>\n",
       "      <td>0.000000</td>\n",
       "      <td>0.051987</td>\n",
       "      <td>0.000000</td>\n",
       "      <td>0.284086</td>\n",
       "      <td>1.472240</td>\n",
       "    </tr>\n",
       "  </tbody>\n",
       "</table>\n",
       "<p>5 rows × 174 columns</p>\n",
       "</div>"
      ],
      "text/latex": [
       "\\centering{\\begin{tabular}{lllrrrrrrrrrrrrrrrrrrrrrrrrrrrrrrrrrrrrrrrrrrrrrrrrrrrrrrrrrrrrrrrrrrrrrrrrrrrrrrrrrrrrrrrrrrrrrrrrrrrrrrrrrrrrrrrrrrrrrrrrrrrrrrrrrrrrrrrrrrrrrrrrrrrrrrrrrrrrrrrrrrrrrrrrrrrr}\n",
       "\\toprule\n",
       "{} &           ensgid &           enstid &  adipose tissue.V1 &  adipose tissue.V2 &  adipose tissue.V20 &  adipose tissue.V313 &  adipose tissue.V315 &  adrenal gland.V119 &  adrenal gland.V121 &  adrenal gland.V122 &  appendix.V154 &  appendix.V155 &  appendix.V160 &  bone marrow.V230 &  bone marrow.V248 &  bone marrow.V249 &  bone marrow.V250 &  breast.V406 &  breast.V408 &  breast.V410 &  breast.V412 &  cerebral cortex.V102 &  cerebral cortex.V103 &  cerebral cortex.V29 &  cervix, uterine.V430 &  cervix, uterine.V431 &  colon.V10 &  colon.V11 &  colon.V14 &  colon.V15 &  colon.V22 &  colon.V268 &  colon.V269 &  colon.V354 &  colon.V355 &  colon.V420 &  colon.V422 &  colon.V424 &  colon.V425 &  duodenum.V145 &  duodenum.V150 &  endometrium 1.V143 &  endometrium 1.V165 &  endometrium 1.V200 &  endometrium 1.V265 &  endometrium 1.V271 &  epididymis.V343 &  esophagus.V183 &  esophagus.V184 &  esophagus.V185 &  fallopian tube.V201 &  fallopian tube.V275 &  fallopian tube.V277 &  fallopian tube.V279 &  fallopian tube.V280 &  gallbladder.V179 &  gallbladder.V182 &  gallbladder.V186 &  heart muscle.V191 &  heart muscle.V195 &  heart muscle.V235 &  heart muscle.V237 &  kidney.V23 &  kidney.V24 &  kidney.V344 &  kidney.V345 &  kidney.V346 &  kidney.V347 &  kidney.V359 &  kidney.V5 &  kidney.V6 &  liver.V108 &  liver.V110 &  liver.V111 &  liver.V348 &  liver.V349 &  liver.V350 &  liver.V351 &  liver.V358 &  liver.V362 &  liver.V363 &  lung.V130 &  lung.V131 &  lung.V133 &  lung.V352 &  lung.V400 &  lung.V402 &  lung.V404 &   lung.V80 &   lung.V81 &  lymph node.V157 &  lymph node.V164 &  lymph node.V190 &  lymph node.V192 &  lymph node.V193 &  ovary.V233 &  ovary.V234 &  ovary.V281 &  pancreas.V229 &  pancreas.V232 &  parathyroid gland.V369 &  placenta.V221 &  placenta.V223 &  placenta.V224 &  placenta.V339 &  placenta.V341 &  placenta.V360 &  placenta.V361 &  placenta.V76 &  prostate.V12 &  prostate.V127 &  prostate.V128 &  prostate.V129 &  prostate.V327 &  prostate.V328 &  prostate.V331 &  prostate.V333 &  prostate.V334 &  rectum.V319 &  rectum.V321 &  rectum.V322 &  rectum.V325 &  salivary gland.V238 &  salivary gland.V239 &  salivary gland.V240 &  seminal vesicle.V427 &  seminal vesicle.V428 &  seminal vesicle.V429 &  skeletal muscle.VX1 &  skeletal muscle.VX2 &  skeletal muscle.VX3 &  skeletal muscle.VX4 &  skeletal muscle.VX5 &  skin 1.V245 &  skin 1.V246 &  skin 1.V247 &  small intestine.V151 &  small intestine.V152 &  small intestine.V153 &  small intestine.V156 &  smooth muscle.V266 &  smooth muscle.V272 &  smooth muscle.V314 &  spleen.V356 &  spleen.V82 &  spleen.V83 &  spleen.V84 &  spleen.V85 &  stomach 1.V18 &  stomach 1.V353 &  stomach 1.V90 &  stomach 1.V91 &  testis.V134 &  testis.V255 &  testis.V256 &  testis.V257 &  testis.V258 &  testis.V259 &  testis.V260 &  testis.V336 &  testis.V338 &  testis.V340 &  thyroid gland.V196 &  thyroid gland.V197 &  thyroid gland.V198 &  thyroid gland.V199 &  thyroid gland.V370 &  tonsil.V263 &  tonsil.V287 &  tonsil.V294 &  tonsil.V298 &  tonsil.V301 &  urinary bladder.V176 &  urinary bladder.V177 \\\\\n",
       "\\midrule\n",
       "0 &  ENSG00000000003 &  ENST00000373020 &           27.39150 &           34.49580 &           39.608101 &            16.381399 &            29.387100 &           29.186001 &           21.676800 &           25.614201 &       7.475030 &       8.369660 &      12.078100 &          0.317586 &          0.450450 &          0.359213 &          1.160050 &    35.941299 &    80.826897 &     31.79130 &    55.239899 &             29.014299 &              8.935530 &            13.227000 &             48.920101 &             53.695599 &  58.049198 &  33.284599 &  54.777599 &  36.351299 &  40.352299 &   34.831100 &   61.523800 &   43.981899 &   47.735699 &   39.781200 &   61.451599 &   36.393501 &   67.308601 &      25.849701 &      25.861500 &            30.09420 &           27.982201 &           43.783001 &           37.213600 &           41.312401 &        31.823299 &       45.142899 &       42.579601 &       56.461101 &            69.521896 &            45.236900 &           117.763000 &           155.664993 &            93.616600 &         41.682701 &         41.902302 &         31.733801 &           3.149090 &           6.152360 &           4.702100 &           6.656780 &   70.736397 &   30.105301 &    56.367901 &    83.750702 &    80.978401 &    46.595600 &    77.888901 &  53.749199 &  33.988499 &   53.366100 &   37.856098 &   59.085499 &   64.274002 &   51.164299 &   63.389999 &   43.587898 &   58.383999 &   69.317703 &    51.00090 &  11.795600 &  20.532900 &  14.662800 &  19.528900 &  18.379999 &  11.093400 &  22.335199 &  27.085400 &  18.718901 &         4.477080 &         3.607310 &         2.618840 &         6.795120 &         5.152180 &   61.271099 &   60.983299 &   80.616203 &       5.263710 &       6.599560 &               77.205597 &      19.964701 &      45.799999 &      25.429600 &      41.602299 &      75.224098 &      57.610699 &       26.49090 &     32.474499 &     21.999201 &      36.711899 &      42.901401 &       61.02710 &      39.110699 &      69.338501 &       30.84090 &      78.552101 &      42.480202 &    59.126099 &    51.435200 &    65.681297 &    53.248699 &             30.49890 &            29.845400 &             39.19590 &             20.664000 &             26.408899 &             21.765301 &             1.131480 &             1.589380 &             2.184270 &             1.158190 &             1.486100 &     5.939800 &     8.936730 &     6.942300 &             11.988500 &             22.264000 &             19.914499 &             18.860901 &            26.33000 &           16.191200 &            8.505520 &    17.757200 &   13.606800 &    8.630860 &   11.597600 &   17.380100 &      17.865400 &       25.224701 &      21.689400 &      14.971600 &    45.110599 &    31.087299 &    48.562500 &     27.90070 &    36.713600 &    28.594000 &    43.802601 &    59.592999 &    64.112396 &    43.793400 &           30.209299 &           37.041801 &           64.079697 &            49.60770 &           72.531197 &     7.795770 &     9.398710 &     9.744870 &    14.307000 &    10.708000 &             20.936701 &             89.081703 \\\\\n",
       "1 &  ENSG00000000003 &  ENST00000494424 &            0.00000 &            0.00000 &            0.173174 &             0.000000 &             0.000000 &            1.375400 &            0.816387 &            0.000000 &       0.000000 &       0.000000 &       0.000000 &          0.232088 &          0.000000 &          0.141154 &          0.090733 &     1.186020 &     1.024720 &      0.54246 &     0.133340 &              1.392960 &              0.387889 &             0.528225 &              3.060130 &              0.000000 &   0.974707 &   0.602756 &   1.261230 &   1.830940 &   1.575810 &    0.150076 &    0.182735 &    0.182487 &    0.756819 &    0.422046 &    1.150460 &    0.679302 &    0.862616 &       0.000000 &       0.616832 &             0.00000 &            1.792280 &            3.725520 &            1.636840 &            2.811360 &         2.155000 &        0.000000 &        0.000000 &        1.378370 &             1.793700 &             0.862603 &             0.000000 &             0.000000 &             0.218600 &          0.000000 &          0.957014 &          0.709350 &           0.000000 &           0.017470 &           0.000000 &           0.000000 &    0.735345 &    0.000000 &     0.000000 &     0.428080 &     0.000000 &     0.000000 &     0.000000 &   0.000000 &   0.167967 &    0.000000 &    0.000000 &    0.000000 &    0.000000 &    0.000000 &    0.000000 &    0.000000 &    0.000000 &    0.320855 &     0.00000 &   0.000000 &   0.000000 &   0.000000 &   0.873067 &   0.841228 &   0.000000 &   0.563104 &   0.815709 &   0.000000 &         0.251549 &         0.000000 &         0.228697 &         0.000000 &         0.000000 &    2.703190 &    1.625250 &    5.080440 &       0.000000 &       0.000000 &                0.000000 &       0.000000 &       0.000000 &       0.000000 &       0.202920 &       0.000000 &       0.000000 &        0.00000 &      0.213344 &      0.364527 &       0.000000 &       1.806920 &        1.01539 &       1.307080 &       0.640506 &        1.02016 &       0.721356 &       1.134590 &     0.237611 &     0.680715 &     0.661629 &     0.000000 &              0.00000 &             0.000000 &              0.00000 &              0.459852 &              0.160333 &              0.749080 &             0.000000 &             0.000000 &             0.000000 &             0.000000 &             0.000000 &     0.000000 &     0.000000 &     0.000000 &              0.735151 &              0.478671 &              0.905259 &              0.000000 &             3.44008 &            1.155680 &            0.000000 &     0.315124 &    0.000000 &    0.000000 &    0.000000 &    0.000000 &       0.314664 &        0.338734 &       0.000000 &       0.000000 &    22.578501 &    15.574300 &    50.855099 &     16.46060 &    28.604299 &    22.447599 &    29.331600 &    27.757900 &    18.966999 &    13.558000 &            0.233236 &            0.507523 &            0.000000 &             0.00000 &            0.216909 &     0.000000 &     0.000000 &     0.000000 &     0.000000 &     0.000000 &              0.000000 &              0.621756 \\\\\n",
       "2 &  ENSG00000000003 &  ENST00000496771 &            1.93696 &            1.81727 &            1.523330 &             0.240641 &             0.562465 &            2.000480 &            0.776128 &            0.928242 &       0.000000 &       0.000000 &       0.178123 &          0.000000 &          0.084293 &          0.000000 &          0.133668 &     2.137190 &     1.021870 &      1.02809 &     0.612085 &              3.823200 &              1.328040 &             1.258630 &              3.568760 &              2.144750 &   1.066000 &   0.863604 &   1.683890 &   1.791740 &   1.899920 &    0.230363 &    0.750661 &    1.237700 &    0.714943 &    0.766193 &    1.128520 &    1.564220 &    1.988580 &       0.850613 &       0.825963 &             3.24549 &            5.980690 &            4.417970 &            3.146730 &            3.709390 &         0.998623 &        1.452690 &        1.151860 &        2.645810 &             2.978430 &             1.594660 &             1.819470 &             1.687910 &             1.290140 &          1.915000 &          1.664180 &          0.612699 &           0.083510 &           0.000000 &           0.325749 &           0.250777 &    2.807850 &    0.484038 &     0.720034 &     1.611440 &     0.714645 &     0.795838 &     1.100970 &   2.258360 &   0.947139 &    0.290564 &    0.299471 &    0.592722 &    0.387536 &    0.293278 &    0.929532 &    0.648759 &    0.086729 &    0.332971 &     0.00000 &   0.000000 &   0.826277 &   0.971591 &   0.542587 &   1.025850 &   0.828453 &   0.431665 &   2.209300 &   1.400730 &         0.000000 &         0.000000 &         0.000000 &         0.358621 &         0.385242 &   11.307800 &    9.816180 &   10.415100 &       0.331970 &       0.000000 &                0.000000 &       0.435228 &       0.776551 &       0.402270 &       1.820330 &       5.004420 &       1.311640 &        0.65481 &      1.217360 &      1.333280 &       1.257020 &       3.866120 &        4.06306 &       1.273540 &       1.239440 &        1.65679 &       0.925733 &       1.292180 &     0.565851 &     1.396090 &     1.392040 &     1.201240 &              0.92432 &             0.378412 &              1.16288 &              1.454040 &              1.165940 &              1.101250 &             0.388007 &             0.000000 &             0.371393 &             0.317811 &             0.283592 &     0.282982 &     0.376740 &     0.349798 &              0.366406 &              0.344802 &              1.698640 &              1.165590 &             6.52612 &            1.644980 &            0.209066 &     0.448862 &    1.291650 &    1.051690 &    0.778398 &    1.150690 &       0.597395 &        0.692578 &       0.473109 &       1.295660 &     4.115890 &     4.912580 &     6.549500 &      4.91875 &     3.607720 &     3.805940 &     5.959580 &     2.899700 &     3.456380 &     2.839920 &            0.132936 &            1.449290 &            1.543600 &             1.14814 &            2.121130 &     0.000000 &     0.000000 &     0.270458 &     0.571232 &     0.170098 &              0.575539 &              1.357650 \\\\\n",
       "3 &  ENSG00000000003 &  ENST00000612152 &            1.60782 &            1.65983 &            2.637380 &             0.840478 &             0.985923 &            1.259700 &            1.077270 &            0.910853 &       0.178251 &       0.267584 &       0.331946 &          0.204191 &          0.209804 &          0.138430 &          0.034107 &     1.251070 &     3.129460 &      1.36759 &     2.652530 &              2.797610 &              0.510488 &             1.239820 &              2.252740 &              2.534250 &   2.727110 &   0.828424 &   1.468510 &   1.124670 &   2.533670 &    0.953229 &    2.178880 &    1.396630 &    1.989490 &    1.621950 &    2.219680 &    1.361880 &    2.405110 &       0.708874 &       0.921099 &             1.69443 &            2.743880 &            1.924000 &            1.900210 &            2.458500 &         0.950659 &        0.584789 &        0.839203 &        0.953330 &             2.542910 &             3.083450 &             6.581690 &             6.700050 &             3.982880 &          1.167140 &          0.872310 &          1.802750 &           0.094421 &           0.087231 &           0.187885 &           0.472730 &    3.818530 &    2.015620 &     2.144070 &     2.603370 &     2.618720 &     2.022240 &     2.954100 &   2.170560 &   1.694050 &    2.179840 &    1.416040 &    1.781410 &    2.019540 &    1.215320 &    2.015500 &    1.042190 &    1.975930 &    1.933370 &     1.31202 &   0.676414 &   1.408340 &   1.332120 &   1.052470 &   0.797239 &   0.457552 &   0.707522 &   1.608660 &   1.646970 &         0.354180 &         0.111699 &         0.062331 &         0.451683 &         0.466717 &    3.758170 &    3.879540 &    4.097150 &       0.076441 &       0.106712 &                1.981320 &       0.825419 &       2.880310 &       1.151160 &       2.025550 &       4.317200 &       2.435600 &        1.51381 &      1.901310 &      1.495040 &       1.880430 &       2.113970 &        2.59151 &       1.709860 &       2.716860 &        1.65502 &       2.849160 &       2.450540 &     1.581080 &     2.125950 &     1.962090 &     1.702700 &              1.14884 &             0.725744 &              1.24721 &              0.790010 &              1.680810 &              0.608138 &             0.053487 &             0.210317 &             0.209215 &             0.169725 &             0.156240 &     0.523232 &     0.635713 &     0.743202 &              0.749626 &              0.862295 &              0.859197 &              1.151880 &             1.67720 &            0.984176 &            0.215474 &     0.908056 &    0.806925 &    0.426364 &    0.704096 &    1.103720 &       0.700161 &        1.151510 &       1.351990 &       0.414563 &     1.432420 &     1.136240 &     0.851673 &      1.15902 &     0.621000 &     0.792315 &     0.671294 &     0.894524 &     0.644971 &     0.794709 &            1.824040 &            1.691830 &            2.605910 &             2.05323 &            2.699720 &     0.314084 &     0.267579 &     0.323288 &     0.434302 &     0.193390 &              0.910751 &              2.071070 \\\\\n",
       "4 &  ENSG00000000003 &  ENST00000614008 &            0.00000 &            1.43542 &            0.000000 &             0.834401 &             0.266975 &            0.000000 &            0.000000 &            0.000000 &       0.000000 &       0.000000 &       0.000000 &          0.000000 &          0.000000 &          0.000000 &          0.000000 &     0.000000 &     0.175363 &      0.00000 &     0.000000 &              0.000000 &              0.000000 &             0.000000 &              0.210653 &              0.320513 &   0.874833 &   0.105771 &   1.317240 &   0.000000 &   0.000000 &    0.399479 &    0.530406 &    0.211720 &    0.143138 &    0.000000 &    0.145874 &    0.557703 &    0.000000 &       0.000000 &       2.508430 &             0.00000 &            0.000000 &            0.388730 &            0.190387 &            0.000000 &         0.000000 &        1.322440 &        0.452069 &        1.509760 &             0.000000 &             0.000000 &             0.464428 &             0.000000 &             0.267928 &          1.507200 &          0.558746 &          0.000000 &           0.025810 &           0.139449 &           0.000000 &           0.192680 &    0.000000 &    0.000000 &     0.000000 &     0.000000 &     0.000000 &     0.000000 &     0.000000 &   0.511741 &   0.452288 &    0.000000 &    0.000000 &    0.000000 &    0.000000 &    0.060913 &    0.449409 &    0.287018 &    0.000000 &    0.181856 &     0.00000 &   0.446298 &   0.315912 &   0.001001 &   0.000000 &   0.000000 &   0.000000 &   0.000000 &   0.000000 &   0.343017 &         0.000000 &         0.485098 &         0.243837 &         0.000000 &         0.000000 &    0.000000 &    0.000000 &    0.196096 &       0.000000 &       0.000000 &                0.000000 &       0.256025 &       2.262060 &       0.504168 &       0.537087 &       1.867900 &       0.517299 &        0.00000 &      0.587737 &      0.000000 &       0.000000 &       0.000000 &        0.00000 &       0.000000 &       0.000000 &        0.00000 &       0.000000 &       0.000000 &     0.000000 &     0.350905 &     0.592392 &     1.316490 &              0.00000 &             0.000000 &              0.00000 &              0.000000 &              0.000000 &              0.319984 &             0.000000 &             0.000000 &             0.000000 &             0.000000 &             0.086725 &     0.000000 &     0.000000 &     0.000000 &              0.000000 &              0.185016 &              0.000000 &              0.066618 &             0.00000 &            0.000000 &            0.331202 &     0.156485 &    0.000000 &    0.000000 &    0.000000 &    0.048031 &       0.000000 &        0.000000 &       0.000000 &       0.945638 &    51.536999 &    29.019199 &    56.328400 &     12.25180 &    44.462601 &    34.042198 &    46.008800 &    55.089401 &    51.095902 &    25.987101 &            0.329623 &            0.314042 &            0.452601 &             0.00000 &            0.000000 &     0.000000 &     0.238278 &     0.000000 &     0.051987 &     0.000000 &              0.284086 &              1.472240 \\\\\n",
       "\\bottomrule\n",
       "\\end{tabular}\n",
       "}"
      ],
      "text/plain": [
       "            ensgid           enstid  adipose tissue.V1  adipose tissue.V2  \\\n",
       "0  ENSG00000000003  ENST00000373020           27.39150           34.49580   \n",
       "1  ENSG00000000003  ENST00000494424            0.00000            0.00000   \n",
       "2  ENSG00000000003  ENST00000496771            1.93696            1.81727   \n",
       "3  ENSG00000000003  ENST00000612152            1.60782            1.65983   \n",
       "4  ENSG00000000003  ENST00000614008            0.00000            1.43542   \n",
       "\n",
       "   adipose tissue.V20  adipose tissue.V313  adipose tissue.V315  \\\n",
       "0           39.608101            16.381399            29.387100   \n",
       "1            0.173174             0.000000             0.000000   \n",
       "2            1.523330             0.240641             0.562465   \n",
       "3            2.637380             0.840478             0.985923   \n",
       "4            0.000000             0.834401             0.266975   \n",
       "\n",
       "   adrenal gland.V119  adrenal gland.V121  adrenal gland.V122  \\\n",
       "0           29.186001           21.676800           25.614201   \n",
       "1            1.375400            0.816387            0.000000   \n",
       "2            2.000480            0.776128            0.928242   \n",
       "3            1.259700            1.077270            0.910853   \n",
       "4            0.000000            0.000000            0.000000   \n",
       "\n",
       "           ...           thyroid gland.V198  thyroid gland.V199  \\\n",
       "0          ...                    64.079697            49.60770   \n",
       "1          ...                     0.000000             0.00000   \n",
       "2          ...                     1.543600             1.14814   \n",
       "3          ...                     2.605910             2.05323   \n",
       "4          ...                     0.452601             0.00000   \n",
       "\n",
       "   thyroid gland.V370  tonsil.V263  tonsil.V287  tonsil.V294  tonsil.V298  \\\n",
       "0           72.531197     7.795770     9.398710     9.744870    14.307000   \n",
       "1            0.216909     0.000000     0.000000     0.000000     0.000000   \n",
       "2            2.121130     0.000000     0.000000     0.270458     0.571232   \n",
       "3            2.699720     0.314084     0.267579     0.323288     0.434302   \n",
       "4            0.000000     0.000000     0.238278     0.000000     0.051987   \n",
       "\n",
       "   tonsil.V301  urinary bladder.V176  urinary bladder.V177  \n",
       "0    10.708000             20.936701             89.081703  \n",
       "1     0.000000              0.000000              0.621756  \n",
       "2     0.170098              0.575539              1.357650  \n",
       "3     0.193390              0.910751              2.071070  \n",
       "4     0.000000              0.284086              1.472240  \n",
       "\n",
       "[5 rows x 174 columns]"
      ]
     },
     "execution_count": 23,
     "metadata": {},
     "output_type": "execute_result"
    }
   ],
   "source": [
    "df6.head()"
   ]
  },
  {
   "cell_type": "code",
   "execution_count": 24,
   "metadata": {
    "collapsed": false
   },
   "outputs": [
    {
     "data": {
      "text/plain": [
       "(156921, 174)"
      ]
     },
     "execution_count": 24,
     "metadata": {},
     "output_type": "execute_result"
    }
   ],
   "source": [
    "df6.shape"
   ]
  },
  {
   "cell_type": "markdown",
   "metadata": {},
   "source": [
    "RNA isoform data\n",
    "RNA levels in 56 cell lines and 37 tissues based on RNA-seq. The tab-separated file includes Ensembl gene identifier (\"Gene\"), Ensembl transcript identifier (\"Transcript\"), analysed sample (\"Sample\") and transcript per million (\"TPM\"). The data is based on The Human Protein Atlas version 16 and Ensembl version 83.38. \n"
   ]
  },
  {
   "cell_type": "markdown",
   "metadata": {},
   "source": [
    "Celline"
   ]
  },
  {
   "cell_type": "code",
   "execution_count": 25,
   "metadata": {
    "collapsed": true
   },
   "outputs": [],
   "source": [
    "df7 = pd.read_csv('Data/transcript_rna_celline.tsv.zip', sep='\\t')"
   ]
  },
  {
   "cell_type": "code",
   "execution_count": 26,
   "metadata": {
    "collapsed": false
   },
   "outputs": [
    {
     "data": {
      "text/html": [
       "<div>\n",
       "<table border=\"1\" class=\"dataframe\">\n",
       "  <thead>\n",
       "    <tr style=\"text-align: right;\">\n",
       "      <th></th>\n",
       "      <th>ensgid</th>\n",
       "      <th>enstid</th>\n",
       "      <th>A-431.C35</th>\n",
       "      <th>A-431.C36</th>\n",
       "      <th>A549.C1</th>\n",
       "      <th>A549.C2</th>\n",
       "      <th>AF22.C114</th>\n",
       "      <th>AF22.C115</th>\n",
       "      <th>AN3-CA.C53</th>\n",
       "      <th>AN3-CA.C54</th>\n",
       "      <th>...</th>\n",
       "      <th>U-698.C49</th>\n",
       "      <th>U-698.C50</th>\n",
       "      <th>U-87 MG.C91</th>\n",
       "      <th>U-87 MG.C92</th>\n",
       "      <th>U-937.C33</th>\n",
       "      <th>U-937.C34</th>\n",
       "      <th>U-937.C51</th>\n",
       "      <th>U-937.C52</th>\n",
       "      <th>WM-115.C93</th>\n",
       "      <th>WM-115.C94</th>\n",
       "    </tr>\n",
       "  </thead>\n",
       "  <tbody>\n",
       "    <tr>\n",
       "      <th>0</th>\n",
       "      <td>ENSG00000000003</td>\n",
       "      <td>ENST00000373020</td>\n",
       "      <td>29.451500</td>\n",
       "      <td>25.063000</td>\n",
       "      <td>38.923199</td>\n",
       "      <td>35.746700</td>\n",
       "      <td>109.218002</td>\n",
       "      <td>109.218002</td>\n",
       "      <td>47.717899</td>\n",
       "      <td>52.060200</td>\n",
       "      <td>...</td>\n",
       "      <td>0.401723</td>\n",
       "      <td>0.104767</td>\n",
       "      <td>17.078899</td>\n",
       "      <td>18.074400</td>\n",
       "      <td>0.000000</td>\n",
       "      <td>0.067573</td>\n",
       "      <td>0.130372</td>\n",
       "      <td>0.000000</td>\n",
       "      <td>15.300600</td>\n",
       "      <td>13.797000</td>\n",
       "    </tr>\n",
       "    <tr>\n",
       "      <th>1</th>\n",
       "      <td>ENSG00000000003</td>\n",
       "      <td>ENST00000494424</td>\n",
       "      <td>0.000000</td>\n",
       "      <td>0.000000</td>\n",
       "      <td>0.000000</td>\n",
       "      <td>0.000000</td>\n",
       "      <td>0.000000</td>\n",
       "      <td>0.000000</td>\n",
       "      <td>0.000000</td>\n",
       "      <td>0.000000</td>\n",
       "      <td>...</td>\n",
       "      <td>0.000000</td>\n",
       "      <td>0.000000</td>\n",
       "      <td>0.000000</td>\n",
       "      <td>0.000000</td>\n",
       "      <td>0.000000</td>\n",
       "      <td>0.000000</td>\n",
       "      <td>0.000000</td>\n",
       "      <td>0.000000</td>\n",
       "      <td>0.000000</td>\n",
       "      <td>0.000000</td>\n",
       "    </tr>\n",
       "    <tr>\n",
       "      <th>2</th>\n",
       "      <td>ENSG00000000003</td>\n",
       "      <td>ENST00000496771</td>\n",
       "      <td>0.992257</td>\n",
       "      <td>1.333530</td>\n",
       "      <td>2.195340</td>\n",
       "      <td>3.998430</td>\n",
       "      <td>3.701400</td>\n",
       "      <td>3.701400</td>\n",
       "      <td>1.136850</td>\n",
       "      <td>2.179750</td>\n",
       "      <td>...</td>\n",
       "      <td>0.000000</td>\n",
       "      <td>0.000000</td>\n",
       "      <td>0.505533</td>\n",
       "      <td>1.040980</td>\n",
       "      <td>0.000000</td>\n",
       "      <td>0.000000</td>\n",
       "      <td>0.000000</td>\n",
       "      <td>0.000000</td>\n",
       "      <td>0.178061</td>\n",
       "      <td>0.613054</td>\n",
       "    </tr>\n",
       "    <tr>\n",
       "      <th>3</th>\n",
       "      <td>ENSG00000000003</td>\n",
       "      <td>ENST00000612152</td>\n",
       "      <td>0.399004</td>\n",
       "      <td>0.325001</td>\n",
       "      <td>0.224186</td>\n",
       "      <td>0.365967</td>\n",
       "      <td>2.386970</td>\n",
       "      <td>2.386970</td>\n",
       "      <td>1.050810</td>\n",
       "      <td>1.048460</td>\n",
       "      <td>...</td>\n",
       "      <td>0.039315</td>\n",
       "      <td>0.048414</td>\n",
       "      <td>0.472912</td>\n",
       "      <td>0.714656</td>\n",
       "      <td>0.073748</td>\n",
       "      <td>0.000000</td>\n",
       "      <td>0.084929</td>\n",
       "      <td>0.068934</td>\n",
       "      <td>0.239081</td>\n",
       "      <td>0.376477</td>\n",
       "    </tr>\n",
       "    <tr>\n",
       "      <th>4</th>\n",
       "      <td>ENSG00000000003</td>\n",
       "      <td>ENST00000614008</td>\n",
       "      <td>0.238097</td>\n",
       "      <td>0.232515</td>\n",
       "      <td>0.000000</td>\n",
       "      <td>0.000000</td>\n",
       "      <td>0.797062</td>\n",
       "      <td>0.797062</td>\n",
       "      <td>1.254260</td>\n",
       "      <td>0.603664</td>\n",
       "      <td>...</td>\n",
       "      <td>0.084184</td>\n",
       "      <td>0.000000</td>\n",
       "      <td>0.395000</td>\n",
       "      <td>0.500561</td>\n",
       "      <td>0.000000</td>\n",
       "      <td>0.000000</td>\n",
       "      <td>0.000000</td>\n",
       "      <td>0.000000</td>\n",
       "      <td>0.747933</td>\n",
       "      <td>0.365231</td>\n",
       "    </tr>\n",
       "  </tbody>\n",
       "</table>\n",
       "<p>5 rows × 117 columns</p>\n",
       "</div>"
      ],
      "text/latex": [
       "\\centering{\\begin{tabular}{lllrrrrrrrrrrrrrrrrrrrrrrrrrrrrrrrrrrrrrrrrrrrrrrrrrrrrrrrrrrrrrrrrrrrrrrrrrrrrrrrrrrrrrrrrrrrrrrrrrrrrrrrrrrrrrrrrrrr}\n",
       "\\toprule\n",
       "{} &           ensgid &           enstid &  A-431.C35 &  A-431.C36 &    A549.C1 &    A549.C2 &   AF22.C114 &   AF22.C115 &  AN3-CA.C53 &  AN3-CA.C54 &  ASC TERT1.C113 &  ASC TERT1.C96 &   BEWO.C55 &   BEWO.C56 &      BJ.S1 &      BJ.S2 &  BJ hTERT+.C107 &  BJ hTERT+.C108 &  BJ hTERT+ SV40 Large T+.C109 &  BJ hTERT+ SV40 Large T+.C110 &  BJ hTERT+ SV40 Large T+ RasG12V.C111 &  BJ hTERT+ SV40 Large T+ RasG12V.C112 &  CACO-2.C3 &  CACO-2.C4 &  CAPAN-2.C57 &  CAPAN-2.C58 &  Daudi.C5 &  Daudi.C6 &  EFO-21.C37 &  EFO-21.C38 &  HaCaT.C168 &  HaCaT.C60 &  HBF TERT88.C105 &  HBF TERT88.C106 &  HDLM-2.C95 &  HEK 293.C7 &  HEK 293.C8 &   HEL.C10 &   HEL.C9 &   HeLa.C11 &  HeLa.C12 &  Hep G2.C13 &  Hep G2.C14 &  HL-60.C15 &  HL-60.C16 &  HMC-1.C61 &  HMC-1.C62 &  hTCEpi.C101 &  hTCEpi.C102 &  HUVEC TERT2.C98 &  HUVEC TERT2.C99 &  K-562.C17 &  K-562.C18 &  Karpas-707.C63 &  Karpas-707.C64 &  LHCN-M2.C103 &  LHCN-M2.C104 &   MCF7.C19 &   MCF7.C20 &  MOLT-4.C67 &  MOLT-4.C68 &  NB-4.C69 &  NB-4.C70 &  NTERA-2.C71 &  NTERA-2.C72 &   PC-3.C21 &   PC-3.C22 &   REH.C65 &   REH.C66 &  RH-30.C23 &  RH-30.C24 &  RPMI-8226.C73 &  RPMI-8226.C74 &  RPTEC TERT1.C100 &  RPTEC TERT1.C97 &    RT4.C25 &     RT4.C26 &  SCLC-21H.C75 &  SCLC-21H.C76 &  SH-SY5Y.C77 &   SH-SY5Y.C78 &   SiHa.C27 &  SK-BR-3.C79 &  SK-BR-3.C80 &  SK-MEL-30.C39 &  SK-MEL-30.C40 &  T-47d.C81 &  T-47d.C82 &  THP-1.C41 &  THP-1.C42 &   TIME.C29 &  U-138 MG.C83 &  U-138 MG.C84 &  U-2 OS.C43 &  U-2 OS.C44 &  U-2 OS.C89 &  U-2 OS.C90 &  U-2197.C85 &  U-2197.C86 &  U-251 MG.C45 &  U-251 MG.C46 &  U-266/70.C87 &  U-266/70.C88 &  U-266/84.C47 &  U-266/84.C48 &  U-698.C31 &  U-698.C32 &  U-698.C49 &  U-698.C50 &  U-87 MG.C91 &  U-87 MG.C92 &  U-937.C33 &  U-937.C34 &  U-937.C51 &  U-937.C52 &  WM-115.C93 &  WM-115.C94 \\\\\n",
       "\\midrule\n",
       "0 &  ENSG00000000003 &  ENST00000373020 &  29.451500 &  25.063000 &  38.923199 &  35.746700 &  109.218002 &  109.218002 &   47.717899 &   52.060200 &       16.081200 &      17.549299 &  41.924099 &  41.176498 &  13.588900 &  15.980100 &       21.273500 &       22.928900 &                     31.265200 &                     31.219801 &                             73.494202 &                             78.856697 &  75.835403 &  76.358398 &    50.750099 &    41.389500 &       0.0 &  0.000000 &   63.975300 &    66.41050 &   24.451300 &  19.029600 &        37.362499 &        38.036301 &    0.243858 &    52.26030 &   53.834999 &  4.928080 &  5.58529 &  31.801100 &  3.925020 &   67.392097 &   73.942001 &   0.203451 &   0.084499 &   3.898210 &   3.408020 &    11.109500 &    11.766800 &        57.114399 &        57.268200 &   0.005753 &    0.00000 &        0.000000 &        0.004310 &     26.942900 &     30.883301 &  23.561501 &  25.985399 &    0.144706 &    0.206618 &  0.102063 &  0.239068 &   159.807999 &   159.910996 &  26.368601 &  29.986799 &  0.065695 &  0.000000 &  46.733898 &  49.802299 &       0.163701 &       0.000000 &         35.281300 &        43.112099 &  199.41600 &  203.188995 &      7.913990 &      6.781070 &    29.480700 &  3.113470e+01 &  17.963100 &    10.122100 &    11.963000 &      18.551701 &      17.782301 &  17.485701 &  22.575800 &   2.756880 &   2.164220 &  16.744400 &     20.726801 &     19.841801 &   25.482401 &   31.135401 &   32.843300 &   39.001301 &   29.249001 &   34.290501 &      9.093890 &      9.750600 &      0.041467 &      0.000000 &      0.058334 &      0.217947 &   0.156221 &   0.000000 &   0.401723 &   0.104767 &    17.078899 &    18.074400 &   0.000000 &   0.067573 &   0.130372 &   0.000000 &   15.300600 &   13.797000 \\\\\n",
       "1 &  ENSG00000000003 &  ENST00000494424 &   0.000000 &   0.000000 &   0.000000 &   0.000000 &    0.000000 &    0.000000 &    0.000000 &    0.000000 &        0.000006 &       0.000000 &   0.000000 &   0.000000 &   0.000000 &   0.000000 &        0.000000 &        0.000000 &                      0.000000 &                      0.000000 &                              0.000000 &                              0.237154 &   0.000000 &   0.000000 &     0.338435 &     0.000000 &       0.0 &  0.000000 &    0.100822 &     0.00000 &    0.000000 &   0.000000 &         0.000000 &         0.000000 &    0.000000 &     0.00000 &    0.000000 &  0.000000 &  0.00000 &   0.000000 &  0.000000 &    0.000000 &    0.000000 &   0.000000 &   0.000000 &   1.463640 &   0.870801 &     0.000000 &     0.000000 &         0.000000 &         0.000000 &   0.000000 &    0.00000 &        0.000261 &        0.000000 &      0.000000 &      0.000000 &   0.000000 &   0.000000 &    0.000000 &    0.000000 &  0.000000 &  0.000000 &     0.000000 &     0.000000 &   0.000000 &   0.000000 &  0.000000 &  0.119773 &   0.000000 &   0.000000 &       0.000000 &       0.000000 &          0.000000 &         0.000000 &    0.00000 &    0.332000 &      0.000000 &      0.000000 &     0.000000 &  0.000000e+00 &   0.000000 &     0.000000 &     0.000000 &       0.000000 &       0.000000 &   0.000000 &   0.000000 &   0.000000 &   0.000000 &   1.492180 &      0.000000 &      0.000000 &    0.000000 &    0.000000 &    0.000000 &    0.384148 &    0.000000 &    0.274271 &      0.239839 &      0.098296 &      0.000000 &      0.000000 &      0.000000 &      0.000000 &   0.000000 &   0.000000 &   0.000000 &   0.000000 &     0.000000 &     0.000000 &   0.000000 &   0.000000 &   0.000000 &   0.000000 &    0.000000 &    0.000000 \\\\\n",
       "2 &  ENSG00000000003 &  ENST00000496771 &   0.992257 &   1.333530 &   2.195340 &   3.998430 &    3.701400 &    3.701400 &    1.136850 &    2.179750 &        0.000000 &       0.000000 &   2.533170 &   3.172150 &   0.221213 &   0.863290 &        0.551603 &        0.268437 &                      0.978282 &                      0.506762 &                              0.945703 &                              2.658140 &   6.478420 &   4.102320 &     0.823045 &     0.922861 &       0.0 &  0.000000 &    5.242230 &     4.95088 &    0.891156 &   1.751430 &         0.787727 &         0.397971 &    0.000000 &     8.17017 &    7.145640 &  0.250485 &  0.00000 &   0.674832 &  0.526780 &    2.233390 &    1.897590 &   0.000000 &   0.000000 &   3.508910 &   2.871630 &     0.000000 &     0.000000 &         0.172245 &         0.168851 &   0.000000 &    0.00000 &        0.000000 &        0.000000 &      0.220247 &      0.341147 &   1.249450 &   0.225239 &    0.000000 &    0.000000 &  0.000000 &  0.000000 &     9.225880 &    11.464100 &   0.852620 &   1.889390 &  0.000000 &  0.000000 &   4.059760 &   4.456460 &       0.000000 &       0.000000 &          0.475094 &         0.138899 &    6.16140 &    4.291490 &      1.003360 &      1.500140 &     2.897530 &  5.654420e+00 &   0.151710 &     0.175758 &     0.298055 &       0.959114 &       0.757686 &   0.489579 &   0.168302 &   0.481544 &   0.000000 &   0.562575 &      0.756191 &      0.799405 &    1.880920 &    0.786163 &    2.700620 &    1.308130 &    0.496017 &    0.351297 &      1.033240 &      0.825686 &      0.000000 &      0.000000 &      0.000000 &      0.000000 &   0.000000 &   0.000000 &   0.000000 &   0.000000 &     0.505533 &     1.040980 &   0.000000 &   0.000000 &   0.000000 &   0.000000 &    0.178061 &    0.613054 \\\\\n",
       "3 &  ENSG00000000003 &  ENST00000612152 &   0.399004 &   0.325001 &   0.224186 &   0.365967 &    2.386970 &    2.386970 &    1.050810 &    1.048460 &        0.341627 &       0.629332 &   0.369596 &   0.518246 &   0.230243 &   0.230455 &        0.184579 &        0.310853 &                      0.669370 &                      0.225851 &                              0.945217 &                              0.754203 &   0.805860 &   0.938710 &     0.577465 &     0.487985 &       0.0 &  0.015327 &    2.054560 &     1.80004 &    0.534469 &   0.445877 &         0.646850 &         0.434975 &    0.026576 &     1.61055 &    1.598920 &  0.054661 &  0.00000 &   0.335572 &  0.118562 &    0.793821 &    1.008050 &   0.063586 &   0.058054 &   0.412627 &   0.253518 &     0.228973 &     0.159268 &         0.975785 &         0.712116 &   0.063441 &    0.13495 &        0.086190 &        0.187782 &      0.509788 &      0.410586 &   0.283004 &   0.283333 &    0.079607 &    0.093474 &  0.032879 &  0.227114 &     3.188880 &     3.409850 &   0.422668 &   0.257933 &  0.085334 &  0.000000 &   1.630420 &   1.424200 &       0.000000 &       0.018845 &          0.828925 &         1.085540 &    1.81118 &    2.205530 &      0.661437 &      0.494769 &     0.870536 &  1.431530e+00 &   0.832033 &     0.389597 &     0.476498 &       0.497043 &       0.171212 &   0.571743 &   0.561050 &   0.092404 &   0.000000 &   0.370761 &      0.587306 &      0.496504 &    0.679155 &    0.663789 &    0.609643 &    0.884646 &    0.948624 &    0.998804 &      0.221157 &      0.172596 &      0.125051 &      0.073699 &      0.104232 &      0.048596 &   0.000000 &   0.079185 &   0.039315 &   0.048414 &     0.472912 &     0.714656 &   0.073748 &   0.000000 &   0.084929 &   0.068934 &    0.239081 &    0.376477 \\\\\n",
       "4 &  ENSG00000000003 &  ENST00000614008 &   0.238097 &   0.232515 &   0.000000 &   0.000000 &    0.797062 &    0.797062 &    1.254260 &    0.603664 &        1.134060 &       0.000097 &   0.000000 &   1.670280 &   0.000000 &   0.000000 &        0.000000 &        0.000000 &                      0.261820 &                      0.039439 &                              0.365286 &                              0.000000 &   1.137630 &   0.000000 &     0.900597 &     0.764847 &       0.0 &  0.000000 &    1.190760 &     1.05735 &    0.000000 &   0.640846 &         0.363260 &         0.283018 &    0.000000 &     0.00000 &    0.000000 &  0.000000 &  0.00000 &   0.084432 &  0.000000 &    0.000000 &    0.537699 &   0.000000 &   0.000000 &   0.000000 &   0.000000 &     0.000000 &     0.000000 &         3.693880 &         2.938640 &   0.000000 &    0.00000 &        0.000000 &        0.000000 &      0.000000 &      0.000000 &   0.000000 &   0.104118 &    0.000000 &    0.000000 &  0.023541 &  0.000000 &     1.768930 &     3.574380 &   0.023328 &   0.815933 &  0.000000 &  0.000000 &   1.318170 &   0.000000 &       0.000000 &       0.000000 &          0.827238 &         0.000000 &    1.52335 &    0.438242 &      0.000000 &      0.568476 &     0.409960 &  5.000000e-07 &   0.000000 &     0.000000 &     0.000000 &       0.256602 &       0.000000 &   0.000000 &   0.530645 &   0.000000 &   0.743661 &   0.000000 &      0.222321 &      0.396888 &    0.000000 &    1.775320 &    2.238190 &    0.598817 &    0.000000 &    0.000000 &      0.320875 &      0.000000 &      0.000000 &      0.000000 &      0.000000 &      0.036847 &   0.000000 &   0.000000 &   0.084184 &   0.000000 &     0.395000 &     0.500561 &   0.000000 &   0.000000 &   0.000000 &   0.000000 &    0.747933 &    0.365231 \\\\\n",
       "\\bottomrule\n",
       "\\end{tabular}\n",
       "}"
      ],
      "text/plain": [
       "            ensgid           enstid  A-431.C35  A-431.C36    A549.C1  \\\n",
       "0  ENSG00000000003  ENST00000373020  29.451500  25.063000  38.923199   \n",
       "1  ENSG00000000003  ENST00000494424   0.000000   0.000000   0.000000   \n",
       "2  ENSG00000000003  ENST00000496771   0.992257   1.333530   2.195340   \n",
       "3  ENSG00000000003  ENST00000612152   0.399004   0.325001   0.224186   \n",
       "4  ENSG00000000003  ENST00000614008   0.238097   0.232515   0.000000   \n",
       "\n",
       "     A549.C2   AF22.C114   AF22.C115  AN3-CA.C53  AN3-CA.C54     ...      \\\n",
       "0  35.746700  109.218002  109.218002   47.717899   52.060200     ...       \n",
       "1   0.000000    0.000000    0.000000    0.000000    0.000000     ...       \n",
       "2   3.998430    3.701400    3.701400    1.136850    2.179750     ...       \n",
       "3   0.365967    2.386970    2.386970    1.050810    1.048460     ...       \n",
       "4   0.000000    0.797062    0.797062    1.254260    0.603664     ...       \n",
       "\n",
       "   U-698.C49  U-698.C50  U-87 MG.C91  U-87 MG.C92  U-937.C33  U-937.C34  \\\n",
       "0   0.401723   0.104767    17.078899    18.074400   0.000000   0.067573   \n",
       "1   0.000000   0.000000     0.000000     0.000000   0.000000   0.000000   \n",
       "2   0.000000   0.000000     0.505533     1.040980   0.000000   0.000000   \n",
       "3   0.039315   0.048414     0.472912     0.714656   0.073748   0.000000   \n",
       "4   0.084184   0.000000     0.395000     0.500561   0.000000   0.000000   \n",
       "\n",
       "   U-937.C51  U-937.C52  WM-115.C93  WM-115.C94  \n",
       "0   0.130372   0.000000   15.300600   13.797000  \n",
       "1   0.000000   0.000000    0.000000    0.000000  \n",
       "2   0.000000   0.000000    0.178061    0.613054  \n",
       "3   0.084929   0.068934    0.239081    0.376477  \n",
       "4   0.000000   0.000000    0.747933    0.365231  \n",
       "\n",
       "[5 rows x 117 columns]"
      ]
     },
     "execution_count": 26,
     "metadata": {},
     "output_type": "execute_result"
    }
   ],
   "source": [
    "df7.head()"
   ]
  },
  {
   "cell_type": "code",
   "execution_count": 27,
   "metadata": {
    "collapsed": false
   },
   "outputs": [
    {
     "data": {
      "text/plain": [
       "(156921, 117)"
      ]
     },
     "execution_count": 27,
     "metadata": {},
     "output_type": "execute_result"
    }
   ],
   "source": [
    "df7.shape"
   ]
  },
  {
   "cell_type": "markdown",
   "metadata": {},
   "source": [
    "Meta Data for the Tissue Samples"
   ]
  },
  {
   "cell_type": "code",
   "execution_count": 28,
   "metadata": {
    "collapsed": false
   },
   "outputs": [],
   "source": [
    "df8 = pd.read_csv('Data/metadata.txt', sep='\\t')"
   ]
  },
  {
   "cell_type": "code",
   "execution_count": 29,
   "metadata": {
    "collapsed": false
   },
   "outputs": [
    {
     "data": {
      "text/html": [
       "<div>\n",
       "<table border=\"1\" class=\"dataframe\">\n",
       "  <thead>\n",
       "    <tr style=\"text-align: right;\">\n",
       "      <th></th>\n",
       "      <th>Source Name</th>\n",
       "      <th>Comment[ENA_SAMPLE]</th>\n",
       "      <th>Material Type</th>\n",
       "      <th>Characteristics[organism part]</th>\n",
       "      <th>Characteristics[organism]</th>\n",
       "      <th>Characteristics[sex]</th>\n",
       "      <th>Characteristics[developmental stage]</th>\n",
       "      <th>Protocol REF</th>\n",
       "      <th>Term Source REF</th>\n",
       "      <th>Protocol REF.1</th>\n",
       "      <th>...</th>\n",
       "      <th>Comment[technical replicate group]</th>\n",
       "      <th>Comment[ENA_EXPERIMENT]</th>\n",
       "      <th>Scan Name</th>\n",
       "      <th>Comment[SUBMITTED_FILE_NAME]</th>\n",
       "      <th>Comment[ENA_RUN]</th>\n",
       "      <th>Comment[FASTQ_URI]</th>\n",
       "      <th>Comment[MD5]</th>\n",
       "      <th>Comment[SPOT_LENGTH]</th>\n",
       "      <th>Comment[READ_INDEX_1_BASE_COORD]</th>\n",
       "      <th>Factor Value[organism part]</th>\n",
       "    </tr>\n",
       "  </thead>\n",
       "  <tbody>\n",
       "    <tr>\n",
       "      <th>0</th>\n",
       "      <td>colon_8a</td>\n",
       "      <td>ERS526279</td>\n",
       "      <td>organism part</td>\n",
       "      <td>colon</td>\n",
       "      <td>Homo sapiens</td>\n",
       "      <td>female</td>\n",
       "      <td>adult</td>\n",
       "      <td></td>\n",
       "      <td></td>\n",
       "      <td>P-MTAB-40602</td>\n",
       "      <td>...</td>\n",
       "      <td>group 96</td>\n",
       "      <td>ERX537316</td>\n",
       "      <td>3_140328_AC3TDEACXX_P973_106_1.fastq.gz</td>\n",
       "      <td>3_140328_AC3TDEACXX_P973_106_1.fastq.gz</td>\n",
       "      <td>ERR579148</td>\n",
       "      <td>ftp://ftp.sra.ebi.ac.uk/vol1/fastq/ERR579/ERR5...</td>\n",
       "      <td>463d2a5e8a77d6d602717074d918a804</td>\n",
       "      <td>202</td>\n",
       "      <td>102</td>\n",
       "      <td>colon</td>\n",
       "    </tr>\n",
       "    <tr>\n",
       "      <th>1</th>\n",
       "      <td>colon_8a</td>\n",
       "      <td>ERS526279</td>\n",
       "      <td>organism part</td>\n",
       "      <td>colon</td>\n",
       "      <td>Homo sapiens</td>\n",
       "      <td>female</td>\n",
       "      <td>adult</td>\n",
       "      <td></td>\n",
       "      <td></td>\n",
       "      <td>P-MTAB-40602</td>\n",
       "      <td>...</td>\n",
       "      <td>group 96</td>\n",
       "      <td>ERX537316</td>\n",
       "      <td>3_140328_AC3TDEACXX_P973_106_2.fastq.gz</td>\n",
       "      <td>3_140328_AC3TDEACXX_P973_106_2.fastq.gz</td>\n",
       "      <td>ERR579148</td>\n",
       "      <td>ftp://ftp.sra.ebi.ac.uk/vol1/fastq/ERR579/ERR5...</td>\n",
       "      <td>4402c73454367ce79d801cae4d8a0194</td>\n",
       "      <td>202</td>\n",
       "      <td>102</td>\n",
       "      <td>colon</td>\n",
       "    </tr>\n",
       "    <tr>\n",
       "      <th>2</th>\n",
       "      <td>colon_8b</td>\n",
       "      <td>ERS526284</td>\n",
       "      <td>organism part</td>\n",
       "      <td>colon</td>\n",
       "      <td>Homo sapiens</td>\n",
       "      <td>male</td>\n",
       "      <td>adult</td>\n",
       "      <td></td>\n",
       "      <td></td>\n",
       "      <td>P-MTAB-40602</td>\n",
       "      <td>...</td>\n",
       "      <td>group 97</td>\n",
       "      <td>ERX537321</td>\n",
       "      <td>4_140328_AC3TDEACXX_P973_107_1.fastq.gz</td>\n",
       "      <td>4_140328_AC3TDEACXX_P973_107_1.fastq.gz</td>\n",
       "      <td>ERR579129</td>\n",
       "      <td>ftp://ftp.sra.ebi.ac.uk/vol1/fastq/ERR579/ERR5...</td>\n",
       "      <td>d321dba62b7ff9e04c38056be77e924f</td>\n",
       "      <td>202</td>\n",
       "      <td>102</td>\n",
       "      <td>colon</td>\n",
       "    </tr>\n",
       "    <tr>\n",
       "      <th>3</th>\n",
       "      <td>colon_8b</td>\n",
       "      <td>ERS526284</td>\n",
       "      <td>organism part</td>\n",
       "      <td>colon</td>\n",
       "      <td>Homo sapiens</td>\n",
       "      <td>male</td>\n",
       "      <td>adult</td>\n",
       "      <td></td>\n",
       "      <td></td>\n",
       "      <td>P-MTAB-40602</td>\n",
       "      <td>...</td>\n",
       "      <td>group 97</td>\n",
       "      <td>ERX537321</td>\n",
       "      <td>4_140328_AC3TDEACXX_P973_107_2.fastq.gz</td>\n",
       "      <td>4_140328_AC3TDEACXX_P973_107_2.fastq.gz</td>\n",
       "      <td>ERR579129</td>\n",
       "      <td>ftp://ftp.sra.ebi.ac.uk/vol1/fastq/ERR579/ERR5...</td>\n",
       "      <td>bf1f36c9002d189660761d2cba67c510</td>\n",
       "      <td>202</td>\n",
       "      <td>102</td>\n",
       "      <td>colon</td>\n",
       "    </tr>\n",
       "    <tr>\n",
       "      <th>4</th>\n",
       "      <td>endometrium_8a</td>\n",
       "      <td>ERS526292</td>\n",
       "      <td>organism part</td>\n",
       "      <td>endometrium</td>\n",
       "      <td>Homo sapiens</td>\n",
       "      <td>female</td>\n",
       "      <td>adult</td>\n",
       "      <td></td>\n",
       "      <td></td>\n",
       "      <td>P-MTAB-40602</td>\n",
       "      <td>...</td>\n",
       "      <td>group 98</td>\n",
       "      <td>ERX537329</td>\n",
       "      <td>2_140328_AC3TDEACXX_P973_104_1.fastq.gz</td>\n",
       "      <td>2_140328_AC3TDEACXX_P973_104_1.fastq.gz</td>\n",
       "      <td>ERR579123</td>\n",
       "      <td>ftp://ftp.sra.ebi.ac.uk/vol1/fastq/ERR579/ERR5...</td>\n",
       "      <td>dd4fc329c68803ee16b519b82eb79583</td>\n",
       "      <td>202</td>\n",
       "      <td>102</td>\n",
       "      <td>endometrium</td>\n",
       "    </tr>\n",
       "  </tbody>\n",
       "</table>\n",
       "<p>5 rows × 35 columns</p>\n",
       "</div>"
      ],
      "text/latex": [
       "\\centering{\\begin{tabular}{llllllllllllllllllllrllllllllllllrrl}\n",
       "\\toprule\n",
       "{} &     Source Name & Comment[ENA\\_SAMPLE] &  Material Type & Characteristics[organism part] & Characteristics[organism] & Characteristics[sex] & Characteristics[developmental stage] & Protocol REF & Term Source REF & Protocol REF.1 & Term Source REF.1 & Protocol REF.2 & Term Source REF.2 &    Extract Name & Comment[LIBRARY\\_SELECTION] & Comment[LIBRARY\\_SOURCE] & Comment[LIBRARY\\_STRATEGY] & Comment[LIBRARY\\_LAYOUT] & Comment[ORIENTATION] &  Comment[NOMINAL\\_LENGTH] & Protocol REF.3 & Term Source REF.3 &                               Performer &      Assay Name &   Technology Type & Comment[technical replicate group] & Comment[ENA\\_EXPERIMENT] &                                Scan Name &             Comment[SUBMITTED\\_FILE\\_NAME] & Comment[ENA\\_RUN] &                                 Comment[FASTQ\\_URI] &                      Comment[MD5] &  Comment[SPOT\\_LENGTH] &  Comment[READ\\_INDEX\\_1\\_BASE\\_COORD] & Factor Value[organism part] \\\\\n",
       "\\midrule\n",
       "0 &        colon\\_8a &           ERS526279 &  organism part &                          colon &              Homo sapiens &               female &                                adult &              &                 &   P-MTAB-40602 &                   &   P-MTAB-40601 &                   &        colon\\_8a &                       cDNA &          TRANSCRIPTOMIC &                   RNA-Seq &                  PAIRED &           5'-3'-3'-5 &                      200 &   P-MTAB-40600 &                   &  Science for Life Laboratory, Stockholm &        colon\\_8a &  sequencing assay &                           group 96 &               ERX537316 &  3\\_140328\\_AC3TDEACXX\\_P973\\_106\\_1.fastq.gz &  3\\_140328\\_AC3TDEACXX\\_P973\\_106\\_1.fastq.gz &        ERR579148 &  ftp://ftp.sra.ebi.ac.uk/vol1/fastq/ERR579/ERR5... &  463d2a5e8a77d6d602717074d918a804 &                   202 &                               102 &                       colon \\\\\n",
       "1 &        colon\\_8a &           ERS526279 &  organism part &                          colon &              Homo sapiens &               female &                                adult &              &                 &   P-MTAB-40602 &                   &   P-MTAB-40601 &                   &        colon\\_8a &                       cDNA &          TRANSCRIPTOMIC &                   RNA-Seq &                  PAIRED &           5'-3'-3'-5 &                      200 &   P-MTAB-40600 &                   &  Science for Life Laboratory, Stockholm &        colon\\_8a &  sequencing assay &                           group 96 &               ERX537316 &  3\\_140328\\_AC3TDEACXX\\_P973\\_106\\_2.fastq.gz &  3\\_140328\\_AC3TDEACXX\\_P973\\_106\\_2.fastq.gz &        ERR579148 &  ftp://ftp.sra.ebi.ac.uk/vol1/fastq/ERR579/ERR5... &  4402c73454367ce79d801cae4d8a0194 &                   202 &                               102 &                       colon \\\\\n",
       "2 &        colon\\_8b &           ERS526284 &  organism part &                          colon &              Homo sapiens &                 male &                                adult &              &                 &   P-MTAB-40602 &                   &   P-MTAB-40601 &                   &        colon\\_8b &                       cDNA &          TRANSCRIPTOMIC &                   RNA-Seq &                  PAIRED &           5'-3'-3'-5 &                      205 &   P-MTAB-40600 &                   &  Science for Life Laboratory, Stockholm &        colon\\_8b &  sequencing assay &                           group 97 &               ERX537321 &  4\\_140328\\_AC3TDEACXX\\_P973\\_107\\_1.fastq.gz &  4\\_140328\\_AC3TDEACXX\\_P973\\_107\\_1.fastq.gz &        ERR579129 &  ftp://ftp.sra.ebi.ac.uk/vol1/fastq/ERR579/ERR5... &  d321dba62b7ff9e04c38056be77e924f &                   202 &                               102 &                       colon \\\\\n",
       "3 &        colon\\_8b &           ERS526284 &  organism part &                          colon &              Homo sapiens &                 male &                                adult &              &                 &   P-MTAB-40602 &                   &   P-MTAB-40601 &                   &        colon\\_8b &                       cDNA &          TRANSCRIPTOMIC &                   RNA-Seq &                  PAIRED &           5'-3'-3'-5 &                      205 &   P-MTAB-40600 &                   &  Science for Life Laboratory, Stockholm &        colon\\_8b &  sequencing assay &                           group 97 &               ERX537321 &  4\\_140328\\_AC3TDEACXX\\_P973\\_107\\_2.fastq.gz &  4\\_140328\\_AC3TDEACXX\\_P973\\_107\\_2.fastq.gz &        ERR579129 &  ftp://ftp.sra.ebi.ac.uk/vol1/fastq/ERR579/ERR5... &  bf1f36c9002d189660761d2cba67c510 &                   202 &                               102 &                       colon \\\\\n",
       "4 &  endometrium\\_8a &           ERS526292 &  organism part &                    endometrium &              Homo sapiens &               female &                                adult &              &                 &   P-MTAB-40602 &                   &   P-MTAB-40601 &                   &  endometrium\\_8a &                       cDNA &          TRANSCRIPTOMIC &                   RNA-Seq &                  PAIRED &           5'-3'-3'-5 &                      299 &   P-MTAB-40600 &                   &  Science for Life Laboratory, Stockholm &  endometrium\\_8a &  sequencing assay &                           group 98 &               ERX537329 &  2\\_140328\\_AC3TDEACXX\\_P973\\_104\\_1.fastq.gz &  2\\_140328\\_AC3TDEACXX\\_P973\\_104\\_1.fastq.gz &        ERR579123 &  ftp://ftp.sra.ebi.ac.uk/vol1/fastq/ERR579/ERR5... &  dd4fc329c68803ee16b519b82eb79583 &                   202 &                               102 &                 endometrium \\\\\n",
       "\\bottomrule\n",
       "\\end{tabular}\n",
       "}"
      ],
      "text/plain": [
       "      Source Name Comment[ENA_SAMPLE]  Material Type  \\\n",
       "0        colon_8a           ERS526279  organism part   \n",
       "1        colon_8a           ERS526279  organism part   \n",
       "2        colon_8b           ERS526284  organism part   \n",
       "3        colon_8b           ERS526284  organism part   \n",
       "4  endometrium_8a           ERS526292  organism part   \n",
       "\n",
       "  Characteristics[organism part] Characteristics[organism]  \\\n",
       "0                          colon              Homo sapiens   \n",
       "1                          colon              Homo sapiens   \n",
       "2                          colon              Homo sapiens   \n",
       "3                          colon              Homo sapiens   \n",
       "4                    endometrium              Homo sapiens   \n",
       "\n",
       "  Characteristics[sex] Characteristics[developmental stage] Protocol REF  \\\n",
       "0               female                                adult                \n",
       "1               female                                adult                \n",
       "2                 male                                adult                \n",
       "3                 male                                adult                \n",
       "4               female                                adult                \n",
       "\n",
       "  Term Source REF Protocol REF.1             ...               \\\n",
       "0                   P-MTAB-40602             ...                \n",
       "1                   P-MTAB-40602             ...                \n",
       "2                   P-MTAB-40602             ...                \n",
       "3                   P-MTAB-40602             ...                \n",
       "4                   P-MTAB-40602             ...                \n",
       "\n",
       "  Comment[technical replicate group] Comment[ENA_EXPERIMENT]  \\\n",
       "0                           group 96               ERX537316   \n",
       "1                           group 96               ERX537316   \n",
       "2                           group 97               ERX537321   \n",
       "3                           group 97               ERX537321   \n",
       "4                           group 98               ERX537329   \n",
       "\n",
       "                                 Scan Name  \\\n",
       "0  3_140328_AC3TDEACXX_P973_106_1.fastq.gz   \n",
       "1  3_140328_AC3TDEACXX_P973_106_2.fastq.gz   \n",
       "2  4_140328_AC3TDEACXX_P973_107_1.fastq.gz   \n",
       "3  4_140328_AC3TDEACXX_P973_107_2.fastq.gz   \n",
       "4  2_140328_AC3TDEACXX_P973_104_1.fastq.gz   \n",
       "\n",
       "              Comment[SUBMITTED_FILE_NAME] Comment[ENA_RUN]  \\\n",
       "0  3_140328_AC3TDEACXX_P973_106_1.fastq.gz        ERR579148   \n",
       "1  3_140328_AC3TDEACXX_P973_106_2.fastq.gz        ERR579148   \n",
       "2  4_140328_AC3TDEACXX_P973_107_1.fastq.gz        ERR579129   \n",
       "3  4_140328_AC3TDEACXX_P973_107_2.fastq.gz        ERR579129   \n",
       "4  2_140328_AC3TDEACXX_P973_104_1.fastq.gz        ERR579123   \n",
       "\n",
       "                                  Comment[FASTQ_URI]  \\\n",
       "0  ftp://ftp.sra.ebi.ac.uk/vol1/fastq/ERR579/ERR5...   \n",
       "1  ftp://ftp.sra.ebi.ac.uk/vol1/fastq/ERR579/ERR5...   \n",
       "2  ftp://ftp.sra.ebi.ac.uk/vol1/fastq/ERR579/ERR5...   \n",
       "3  ftp://ftp.sra.ebi.ac.uk/vol1/fastq/ERR579/ERR5...   \n",
       "4  ftp://ftp.sra.ebi.ac.uk/vol1/fastq/ERR579/ERR5...   \n",
       "\n",
       "                       Comment[MD5] Comment[SPOT_LENGTH]  \\\n",
       "0  463d2a5e8a77d6d602717074d918a804                  202   \n",
       "1  4402c73454367ce79d801cae4d8a0194                  202   \n",
       "2  d321dba62b7ff9e04c38056be77e924f                  202   \n",
       "3  bf1f36c9002d189660761d2cba67c510                  202   \n",
       "4  dd4fc329c68803ee16b519b82eb79583                  202   \n",
       "\n",
       "  Comment[READ_INDEX_1_BASE_COORD]  Factor Value[organism part]  \n",
       "0                              102                        colon  \n",
       "1                              102                        colon  \n",
       "2                              102                        colon  \n",
       "3                              102                        colon  \n",
       "4                              102                  endometrium  \n",
       "\n",
       "[5 rows x 35 columns]"
      ]
     },
     "execution_count": 29,
     "metadata": {},
     "output_type": "execute_result"
    }
   ],
   "source": [
    "df8.head()"
   ]
  },
  {
   "cell_type": "code",
   "execution_count": 30,
   "metadata": {
    "collapsed": false
   },
   "outputs": [
    {
     "data": {
      "text/plain": [
       "(400, 35)"
      ]
     },
     "execution_count": 30,
     "metadata": {},
     "output_type": "execute_result"
    }
   ],
   "source": [
    "df8.shape"
   ]
  },
  {
   "cell_type": "code",
   "execution_count": 31,
   "metadata": {
    "collapsed": false
   },
   "outputs": [
    {
     "data": {
      "text/plain": [
       "Index(['Source Name', 'Comment[ENA_SAMPLE]', 'Material Type',\n",
       "       'Characteristics[organism part]', 'Characteristics[organism]',\n",
       "       'Characteristics[sex]', 'Characteristics[developmental stage]',\n",
       "       'Protocol REF', 'Term Source REF', 'Protocol REF.1',\n",
       "       'Term Source REF.1', 'Protocol REF.2', 'Term Source REF.2',\n",
       "       'Extract Name', 'Comment[LIBRARY_SELECTION]', 'Comment[LIBRARY_SOURCE]',\n",
       "       'Comment[LIBRARY_STRATEGY]', 'Comment[LIBRARY_LAYOUT]',\n",
       "       'Comment[ORIENTATION]', 'Comment[NOMINAL_LENGTH]', 'Protocol REF.3',\n",
       "       'Term Source REF.3', 'Performer', 'Assay Name', 'Technology Type',\n",
       "       'Comment[technical replicate group]', 'Comment[ENA_EXPERIMENT]',\n",
       "       'Scan Name', 'Comment[SUBMITTED_FILE_NAME]', 'Comment[ENA_RUN]',\n",
       "       'Comment[FASTQ_URI]', 'Comment[MD5]', 'Comment[SPOT_LENGTH]',\n",
       "       'Comment[READ_INDEX_1_BASE_COORD]', 'Factor Value[organism part]'],\n",
       "      dtype='object')"
      ]
     },
     "execution_count": 31,
     "metadata": {},
     "output_type": "execute_result"
    }
   ],
   "source": [
    "df8.columns"
   ]
  },
  {
   "cell_type": "markdown",
   "metadata": {},
   "source": [
    "RNA isoform data\n",
    "RNA levels in 32 tissues based on RNA-seq. The tab-separated file includes Ensembl gene identifier (\"Gene\"), Ensembl transcript identifier (\"Transcript\"), analysed sample (\"Sample\") and fragments per kilobase of transcript per million fragments mapped (\"FPKM\"). The data is based on The Human Protein Atlas version version 13 and Ensembl version 75.37."
   ]
  },
  {
   "cell_type": "code",
   "execution_count": 34,
   "metadata": {
    "collapsed": false
   },
   "outputs": [
    {
     "ename": "FileNotFoundError",
     "evalue": "[Errno 2] No such file or directory: 'Data/rna_transcript.tsv.zip'",
     "output_type": "error",
     "traceback": [
      "\u001b[0;31m---------------------------------------------------------------------------\u001b[0m",
      "\u001b[0;31mFileNotFoundError\u001b[0m                         Traceback (most recent call last)",
      "\u001b[0;32m<ipython-input-34-79ae0095bb1a>\u001b[0m in \u001b[0;36m<module>\u001b[0;34m()\u001b[0m\n\u001b[0;32m----> 1\u001b[0;31m \u001b[0mdf9\u001b[0m\u001b[0;34m=\u001b[0m \u001b[0mpd\u001b[0m\u001b[0;34m.\u001b[0m\u001b[0mread_csv\u001b[0m\u001b[0;34m(\u001b[0m\u001b[0;34m'Data/rna_transcript.tsv.zip'\u001b[0m\u001b[0;34m,\u001b[0m \u001b[0msep\u001b[0m\u001b[0;34m=\u001b[0m\u001b[0;34m'\\t'\u001b[0m\u001b[0;34m)\u001b[0m\u001b[0;34m\u001b[0m\u001b[0m\n\u001b[0m",
      "\u001b[0;32m/Users/moshesilverstein/anaconda/lib/python3.5/site-packages/pandas/io/parsers.py\u001b[0m in \u001b[0;36mparser_f\u001b[0;34m(filepath_or_buffer, sep, delimiter, header, names, index_col, usecols, squeeze, prefix, mangle_dupe_cols, dtype, engine, converters, true_values, false_values, skipinitialspace, skiprows, nrows, na_values, keep_default_na, na_filter, verbose, skip_blank_lines, parse_dates, infer_datetime_format, keep_date_col, date_parser, dayfirst, iterator, chunksize, compression, thousands, decimal, lineterminator, quotechar, quoting, escapechar, comment, encoding, dialect, tupleize_cols, error_bad_lines, warn_bad_lines, skipfooter, skip_footer, doublequote, delim_whitespace, as_recarray, compact_ints, use_unsigned, low_memory, buffer_lines, memory_map, float_precision)\u001b[0m\n\u001b[1;32m    643\u001b[0m                     skip_blank_lines=skip_blank_lines)\n\u001b[1;32m    644\u001b[0m \u001b[0;34m\u001b[0m\u001b[0m\n\u001b[0;32m--> 645\u001b[0;31m         \u001b[0;32mreturn\u001b[0m \u001b[0m_read\u001b[0m\u001b[0;34m(\u001b[0m\u001b[0mfilepath_or_buffer\u001b[0m\u001b[0;34m,\u001b[0m \u001b[0mkwds\u001b[0m\u001b[0;34m)\u001b[0m\u001b[0;34m\u001b[0m\u001b[0m\n\u001b[0m\u001b[1;32m    646\u001b[0m \u001b[0;34m\u001b[0m\u001b[0m\n\u001b[1;32m    647\u001b[0m     \u001b[0mparser_f\u001b[0m\u001b[0;34m.\u001b[0m\u001b[0m__name__\u001b[0m \u001b[0;34m=\u001b[0m \u001b[0mname\u001b[0m\u001b[0;34m\u001b[0m\u001b[0m\n",
      "\u001b[0;32m/Users/moshesilverstein/anaconda/lib/python3.5/site-packages/pandas/io/parsers.py\u001b[0m in \u001b[0;36m_read\u001b[0;34m(filepath_or_buffer, kwds)\u001b[0m\n\u001b[1;32m    386\u001b[0m \u001b[0;34m\u001b[0m\u001b[0m\n\u001b[1;32m    387\u001b[0m     \u001b[0;31m# Create the parser.\u001b[0m\u001b[0;34m\u001b[0m\u001b[0;34m\u001b[0m\u001b[0m\n\u001b[0;32m--> 388\u001b[0;31m     \u001b[0mparser\u001b[0m \u001b[0;34m=\u001b[0m \u001b[0mTextFileReader\u001b[0m\u001b[0;34m(\u001b[0m\u001b[0mfilepath_or_buffer\u001b[0m\u001b[0;34m,\u001b[0m \u001b[0;34m**\u001b[0m\u001b[0mkwds\u001b[0m\u001b[0;34m)\u001b[0m\u001b[0;34m\u001b[0m\u001b[0m\n\u001b[0m\u001b[1;32m    389\u001b[0m \u001b[0;34m\u001b[0m\u001b[0m\n\u001b[1;32m    390\u001b[0m     \u001b[0;32mif\u001b[0m \u001b[0;34m(\u001b[0m\u001b[0mnrows\u001b[0m \u001b[0;32mis\u001b[0m \u001b[0;32mnot\u001b[0m \u001b[0;32mNone\u001b[0m\u001b[0;34m)\u001b[0m \u001b[0;32mand\u001b[0m \u001b[0;34m(\u001b[0m\u001b[0mchunksize\u001b[0m \u001b[0;32mis\u001b[0m \u001b[0;32mnot\u001b[0m \u001b[0;32mNone\u001b[0m\u001b[0;34m)\u001b[0m\u001b[0;34m:\u001b[0m\u001b[0;34m\u001b[0m\u001b[0m\n",
      "\u001b[0;32m/Users/moshesilverstein/anaconda/lib/python3.5/site-packages/pandas/io/parsers.py\u001b[0m in \u001b[0;36m__init__\u001b[0;34m(self, f, engine, **kwds)\u001b[0m\n\u001b[1;32m    727\u001b[0m             \u001b[0mself\u001b[0m\u001b[0;34m.\u001b[0m\u001b[0moptions\u001b[0m\u001b[0;34m[\u001b[0m\u001b[0;34m'has_index_names'\u001b[0m\u001b[0;34m]\u001b[0m \u001b[0;34m=\u001b[0m \u001b[0mkwds\u001b[0m\u001b[0;34m[\u001b[0m\u001b[0;34m'has_index_names'\u001b[0m\u001b[0;34m]\u001b[0m\u001b[0;34m\u001b[0m\u001b[0m\n\u001b[1;32m    728\u001b[0m \u001b[0;34m\u001b[0m\u001b[0m\n\u001b[0;32m--> 729\u001b[0;31m         \u001b[0mself\u001b[0m\u001b[0;34m.\u001b[0m\u001b[0m_make_engine\u001b[0m\u001b[0;34m(\u001b[0m\u001b[0mself\u001b[0m\u001b[0;34m.\u001b[0m\u001b[0mengine\u001b[0m\u001b[0;34m)\u001b[0m\u001b[0;34m\u001b[0m\u001b[0m\n\u001b[0m\u001b[1;32m    730\u001b[0m \u001b[0;34m\u001b[0m\u001b[0m\n\u001b[1;32m    731\u001b[0m     \u001b[0;32mdef\u001b[0m \u001b[0mclose\u001b[0m\u001b[0;34m(\u001b[0m\u001b[0mself\u001b[0m\u001b[0;34m)\u001b[0m\u001b[0;34m:\u001b[0m\u001b[0;34m\u001b[0m\u001b[0m\n",
      "\u001b[0;32m/Users/moshesilverstein/anaconda/lib/python3.5/site-packages/pandas/io/parsers.py\u001b[0m in \u001b[0;36m_make_engine\u001b[0;34m(self, engine)\u001b[0m\n\u001b[1;32m    920\u001b[0m     \u001b[0;32mdef\u001b[0m \u001b[0m_make_engine\u001b[0m\u001b[0;34m(\u001b[0m\u001b[0mself\u001b[0m\u001b[0;34m,\u001b[0m \u001b[0mengine\u001b[0m\u001b[0;34m=\u001b[0m\u001b[0;34m'c'\u001b[0m\u001b[0;34m)\u001b[0m\u001b[0;34m:\u001b[0m\u001b[0;34m\u001b[0m\u001b[0m\n\u001b[1;32m    921\u001b[0m         \u001b[0;32mif\u001b[0m \u001b[0mengine\u001b[0m \u001b[0;34m==\u001b[0m \u001b[0;34m'c'\u001b[0m\u001b[0;34m:\u001b[0m\u001b[0;34m\u001b[0m\u001b[0m\n\u001b[0;32m--> 922\u001b[0;31m             \u001b[0mself\u001b[0m\u001b[0;34m.\u001b[0m\u001b[0m_engine\u001b[0m \u001b[0;34m=\u001b[0m \u001b[0mCParserWrapper\u001b[0m\u001b[0;34m(\u001b[0m\u001b[0mself\u001b[0m\u001b[0;34m.\u001b[0m\u001b[0mf\u001b[0m\u001b[0;34m,\u001b[0m \u001b[0;34m**\u001b[0m\u001b[0mself\u001b[0m\u001b[0;34m.\u001b[0m\u001b[0moptions\u001b[0m\u001b[0;34m)\u001b[0m\u001b[0;34m\u001b[0m\u001b[0m\n\u001b[0m\u001b[1;32m    923\u001b[0m         \u001b[0;32melse\u001b[0m\u001b[0;34m:\u001b[0m\u001b[0;34m\u001b[0m\u001b[0m\n\u001b[1;32m    924\u001b[0m             \u001b[0;32mif\u001b[0m \u001b[0mengine\u001b[0m \u001b[0;34m==\u001b[0m \u001b[0;34m'python'\u001b[0m\u001b[0;34m:\u001b[0m\u001b[0;34m\u001b[0m\u001b[0m\n",
      "\u001b[0;32m/Users/moshesilverstein/anaconda/lib/python3.5/site-packages/pandas/io/parsers.py\u001b[0m in \u001b[0;36m__init__\u001b[0;34m(self, src, **kwds)\u001b[0m\n\u001b[1;32m   1387\u001b[0m         \u001b[0mkwds\u001b[0m\u001b[0;34m[\u001b[0m\u001b[0;34m'allow_leading_cols'\u001b[0m\u001b[0;34m]\u001b[0m \u001b[0;34m=\u001b[0m \u001b[0mself\u001b[0m\u001b[0;34m.\u001b[0m\u001b[0mindex_col\u001b[0m \u001b[0;32mis\u001b[0m \u001b[0;32mnot\u001b[0m \u001b[0;32mFalse\u001b[0m\u001b[0;34m\u001b[0m\u001b[0m\n\u001b[1;32m   1388\u001b[0m \u001b[0;34m\u001b[0m\u001b[0m\n\u001b[0;32m-> 1389\u001b[0;31m         \u001b[0mself\u001b[0m\u001b[0;34m.\u001b[0m\u001b[0m_reader\u001b[0m \u001b[0;34m=\u001b[0m \u001b[0m_parser\u001b[0m\u001b[0;34m.\u001b[0m\u001b[0mTextReader\u001b[0m\u001b[0;34m(\u001b[0m\u001b[0msrc\u001b[0m\u001b[0;34m,\u001b[0m \u001b[0;34m**\u001b[0m\u001b[0mkwds\u001b[0m\u001b[0;34m)\u001b[0m\u001b[0;34m\u001b[0m\u001b[0m\n\u001b[0m\u001b[1;32m   1390\u001b[0m \u001b[0;34m\u001b[0m\u001b[0m\n\u001b[1;32m   1391\u001b[0m         \u001b[0;31m# XXX\u001b[0m\u001b[0;34m\u001b[0m\u001b[0;34m\u001b[0m\u001b[0m\n",
      "\u001b[0;32mpandas/parser.pyx\u001b[0m in \u001b[0;36mpandas.parser.TextReader.__cinit__ (pandas/parser.c:4175)\u001b[0;34m()\u001b[0m\n",
      "\u001b[0;32mpandas/parser.pyx\u001b[0m in \u001b[0;36mpandas.parser.TextReader._setup_parser_source (pandas/parser.c:7568)\u001b[0;34m()\u001b[0m\n",
      "\u001b[0;32m/Users/moshesilverstein/anaconda/lib/python3.5/zipfile.py\u001b[0m in \u001b[0;36m__init__\u001b[0;34m(self, file, mode, compression, allowZip64)\u001b[0m\n\u001b[1;32m   1007\u001b[0m             \u001b[0;32mwhile\u001b[0m \u001b[0;32mTrue\u001b[0m\u001b[0;34m:\u001b[0m\u001b[0;34m\u001b[0m\u001b[0m\n\u001b[1;32m   1008\u001b[0m                 \u001b[0;32mtry\u001b[0m\u001b[0;34m:\u001b[0m\u001b[0;34m\u001b[0m\u001b[0m\n\u001b[0;32m-> 1009\u001b[0;31m                     \u001b[0mself\u001b[0m\u001b[0;34m.\u001b[0m\u001b[0mfp\u001b[0m \u001b[0;34m=\u001b[0m \u001b[0mio\u001b[0m\u001b[0;34m.\u001b[0m\u001b[0mopen\u001b[0m\u001b[0;34m(\u001b[0m\u001b[0mfile\u001b[0m\u001b[0;34m,\u001b[0m \u001b[0mfilemode\u001b[0m\u001b[0;34m)\u001b[0m\u001b[0;34m\u001b[0m\u001b[0m\n\u001b[0m\u001b[1;32m   1010\u001b[0m                 \u001b[0;32mexcept\u001b[0m \u001b[0mOSError\u001b[0m\u001b[0;34m:\u001b[0m\u001b[0;34m\u001b[0m\u001b[0m\n\u001b[1;32m   1011\u001b[0m                     \u001b[0;32mif\u001b[0m \u001b[0mfilemode\u001b[0m \u001b[0;32min\u001b[0m \u001b[0mmodeDict\u001b[0m\u001b[0;34m:\u001b[0m\u001b[0;34m\u001b[0m\u001b[0m\n",
      "\u001b[0;31mFileNotFoundError\u001b[0m: [Errno 2] No such file or directory: 'Data/rna_transcript.tsv.zip'"
     ]
    }
   ],
   "source": [
    "df9= pd.read_csv('Data/rna_transcript.tsv.zip', sep='\\t')"
   ]
  },
  {
   "cell_type": "code",
   "execution_count": null,
   "metadata": {
    "collapsed": false
   },
   "outputs": [],
   "source": [
    "df9.head()"
   ]
  },
  {
   "cell_type": "code",
   "execution_count": null,
   "metadata": {
    "collapsed": false
   },
   "outputs": [],
   "source": [
    "df9.shape"
   ]
  },
  {
   "cell_type": "markdown",
   "metadata": {},
   "source": [
    "CMA expression data.\n",
    "Expression profiles for proteins based on immunohistochemisty using cell micro arrays. The comma-separated file includes antibody identifier (hpa_id), Ensembl gene identifier (ensembl_gene_id), name of cell line (celline) and the summary expression value in that cell line (summary_expression_value). The data is based on The Human Protein Atlas version 4.1 and Ensembl version 54.36."
   ]
  },
  {
   "cell_type": "code",
   "execution_count": 36,
   "metadata": {
    "collapsed": false
   },
   "outputs": [],
   "source": [
    "df10= pd.read_csv('Data/expression_data.CMA.csv.zip', sep=',')"
   ]
  },
  {
   "cell_type": "code",
   "execution_count": 37,
   "metadata": {
    "collapsed": false
   },
   "outputs": [
    {
     "data": {
      "text/html": [
       "<div>\n",
       "<table border=\"1\" class=\"dataframe\">\n",
       "  <thead>\n",
       "    <tr style=\"text-align: right;\">\n",
       "      <th></th>\n",
       "      <th>hpa_id</th>\n",
       "      <th>ensembl_gene_id</th>\n",
       "      <th>celline</th>\n",
       "      <th>summary_expression_value</th>\n",
       "    </tr>\n",
       "  </thead>\n",
       "  <tbody>\n",
       "    <tr>\n",
       "      <th>0</th>\n",
       "      <td>CAB000001</td>\n",
       "      <td>ENSG00000169083</td>\n",
       "      <td>A-431</td>\n",
       "      <td>negative</td>\n",
       "    </tr>\n",
       "    <tr>\n",
       "      <th>1</th>\n",
       "      <td>CAB000001</td>\n",
       "      <td>ENSG00000169083</td>\n",
       "      <td>A-549</td>\n",
       "      <td>negative</td>\n",
       "    </tr>\n",
       "    <tr>\n",
       "      <th>2</th>\n",
       "      <td>CAB000001</td>\n",
       "      <td>ENSG00000169083</td>\n",
       "      <td>AN3-CA</td>\n",
       "      <td>negative</td>\n",
       "    </tr>\n",
       "    <tr>\n",
       "      <th>3</th>\n",
       "      <td>CAB000001</td>\n",
       "      <td>ENSG00000169083</td>\n",
       "      <td>BEWO</td>\n",
       "      <td>negative</td>\n",
       "    </tr>\n",
       "    <tr>\n",
       "      <th>4</th>\n",
       "      <td>CAB000001</td>\n",
       "      <td>ENSG00000169083</td>\n",
       "      <td>CACO-2</td>\n",
       "      <td>negative</td>\n",
       "    </tr>\n",
       "  </tbody>\n",
       "</table>\n",
       "</div>"
      ],
      "text/latex": [
       "\\centering{\\begin{tabular}{lllll}\n",
       "\\toprule\n",
       "{} &     hpa\\_id &  ensembl\\_gene\\_id & celline & summary\\_expression\\_value \\\\\n",
       "\\midrule\n",
       "0 &  CAB000001 &  ENSG00000169083 &   A-431 &                 negative \\\\\n",
       "1 &  CAB000001 &  ENSG00000169083 &   A-549 &                 negative \\\\\n",
       "2 &  CAB000001 &  ENSG00000169083 &  AN3-CA &                 negative \\\\\n",
       "3 &  CAB000001 &  ENSG00000169083 &    BEWO &                 negative \\\\\n",
       "4 &  CAB000001 &  ENSG00000169083 &  CACO-2 &                 negative \\\\\n",
       "\\bottomrule\n",
       "\\end{tabular}\n",
       "}"
      ],
      "text/plain": [
       "      hpa_id  ensembl_gene_id celline summary_expression_value\n",
       "0  CAB000001  ENSG00000169083   A-431                 negative\n",
       "1  CAB000001  ENSG00000169083   A-549                 negative\n",
       "2  CAB000001  ENSG00000169083  AN3-CA                 negative\n",
       "3  CAB000001  ENSG00000169083    BEWO                 negative\n",
       "4  CAB000001  ENSG00000169083  CACO-2                 negative"
      ]
     },
     "execution_count": 37,
     "metadata": {},
     "output_type": "execute_result"
    }
   ],
   "source": [
    "df10.head()"
   ]
  },
  {
   "cell_type": "code",
   "execution_count": 38,
   "metadata": {
    "collapsed": false
   },
   "outputs": [
    {
     "data": {
      "text/plain": [
       "(240705, 4)"
      ]
     },
     "execution_count": 38,
     "metadata": {},
     "output_type": "execute_result"
    }
   ],
   "source": [
    "df10.shape"
   ]
  },
  {
   "cell_type": "markdown",
   "metadata": {},
   "source": [
    "IF expression data.\n",
    "Expression profiles for proteins based on immunofluorescently stained cells. The comma-separated file includes antibody identifier (hpa_id), Ensembl gene identifier (ensembl_gene_id), name of cell line (celline) and the summary expression value in that cell line (summary_expression_value). The data is based on The Human Protein Atlas version 4.1 and Ensembl version 54.36."
   ]
  },
  {
   "cell_type": "code",
   "execution_count": 39,
   "metadata": {
    "collapsed": false
   },
   "outputs": [],
   "source": [
    "df11= pd.read_csv('Data/expression_data.IF.csv.zip', sep=',')"
   ]
  },
  {
   "cell_type": "code",
   "execution_count": 40,
   "metadata": {
    "collapsed": false
   },
   "outputs": [
    {
     "data": {
      "text/html": [
       "<div>\n",
       "<table border=\"1\" class=\"dataframe\">\n",
       "  <thead>\n",
       "    <tr style=\"text-align: right;\">\n",
       "      <th></th>\n",
       "      <th>hpa_id</th>\n",
       "      <th>ensembl_gene_id</th>\n",
       "      <th>celline</th>\n",
       "      <th>summary_expression_value</th>\n",
       "    </tr>\n",
       "  </thead>\n",
       "  <tbody>\n",
       "    <tr>\n",
       "      <th>0</th>\n",
       "      <td>HPA000164</td>\n",
       "      <td>ENSG00000174740</td>\n",
       "      <td>A-431</td>\n",
       "      <td>moderate</td>\n",
       "    </tr>\n",
       "    <tr>\n",
       "      <th>1</th>\n",
       "      <td>HPA000164</td>\n",
       "      <td>ENSG00000174740</td>\n",
       "      <td>U-2 OS</td>\n",
       "      <td>not representative</td>\n",
       "    </tr>\n",
       "    <tr>\n",
       "      <th>2</th>\n",
       "      <td>HPA000164</td>\n",
       "      <td>ENSG00000174740</td>\n",
       "      <td>U-251MG</td>\n",
       "      <td>not representative</td>\n",
       "    </tr>\n",
       "    <tr>\n",
       "      <th>3</th>\n",
       "      <td>HPA000165</td>\n",
       "      <td>ENSG00000174740</td>\n",
       "      <td>A-431</td>\n",
       "      <td>moderate</td>\n",
       "    </tr>\n",
       "    <tr>\n",
       "      <th>4</th>\n",
       "      <td>HPA000165</td>\n",
       "      <td>ENSG00000174740</td>\n",
       "      <td>U-2 OS</td>\n",
       "      <td>moderate</td>\n",
       "    </tr>\n",
       "  </tbody>\n",
       "</table>\n",
       "</div>"
      ],
      "text/latex": [
       "\\centering{\\begin{tabular}{lllll}\n",
       "\\toprule\n",
       "{} &     hpa\\_id &  ensembl\\_gene\\_id &  celline & summary\\_expression\\_value \\\\\n",
       "\\midrule\n",
       "0 &  HPA000164 &  ENSG00000174740 &    A-431 &                 moderate \\\\\n",
       "1 &  HPA000164 &  ENSG00000174740 &   U-2 OS &       not representative \\\\\n",
       "2 &  HPA000164 &  ENSG00000174740 &  U-251MG &       not representative \\\\\n",
       "3 &  HPA000165 &  ENSG00000174740 &    A-431 &                 moderate \\\\\n",
       "4 &  HPA000165 &  ENSG00000174740 &   U-2 OS &                 moderate \\\\\n",
       "\\bottomrule\n",
       "\\end{tabular}\n",
       "}"
      ],
      "text/plain": [
       "      hpa_id  ensembl_gene_id  celline summary_expression_value\n",
       "0  HPA000164  ENSG00000174740    A-431                 moderate\n",
       "1  HPA000164  ENSG00000174740   U-2 OS       not representative\n",
       "2  HPA000164  ENSG00000174740  U-251MG       not representative\n",
       "3  HPA000165  ENSG00000174740    A-431                 moderate\n",
       "4  HPA000165  ENSG00000174740   U-2 OS                 moderate"
      ]
     },
     "execution_count": 40,
     "metadata": {},
     "output_type": "execute_result"
    }
   ],
   "source": [
    "df11.head()"
   ]
  },
  {
   "cell_type": "code",
   "execution_count": 41,
   "metadata": {
    "collapsed": false
   },
   "outputs": [
    {
     "data": {
      "text/plain": [
       "(6750, 4)"
      ]
     },
     "execution_count": 41,
     "metadata": {},
     "output_type": "execute_result"
    }
   ],
   "source": [
    "df11.shape"
   ]
  },
  {
   "cell_type": "markdown",
   "metadata": {},
   "source": [
    "TMA expression data.\n",
    "Expression profiles for proteins based on immunohistochemisty using tissue micro arrays. The comma-separated file includes antibody identifier (hpa_id), Ensembl gene identifier (ensembl_gene_id), tissue name, intensity, fraction and the summary expression value. The data is based on The Human Protein Atlas version 4.1 and Ensembl version 54.36."
   ]
  },
  {
   "cell_type": "code",
   "execution_count": 42,
   "metadata": {
    "collapsed": false
   },
   "outputs": [],
   "source": [
    "df12= pd.read_csv('Data/expression_data.TMA.csv.zip', sep=',')"
   ]
  },
  {
   "cell_type": "code",
   "execution_count": 43,
   "metadata": {
    "collapsed": false
   },
   "outputs": [
    {
     "data": {
      "text/html": [
       "<div>\n",
       "<table border=\"1\" class=\"dataframe\">\n",
       "  <thead>\n",
       "    <tr style=\"text-align: right;\">\n",
       "      <th></th>\n",
       "      <th>hpa_id</th>\n",
       "      <th>ensembl_gene_id</th>\n",
       "      <th>tissue</th>\n",
       "      <th>intensity</th>\n",
       "      <th>fraction</th>\n",
       "      <th>summary_expression_value</th>\n",
       "    </tr>\n",
       "  </thead>\n",
       "  <tbody>\n",
       "    <tr>\n",
       "      <th>0</th>\n",
       "      <td>CAB000001</td>\n",
       "      <td>ENSG00000169083</td>\n",
       "      <td>Adrenal</td>\n",
       "      <td>weak</td>\n",
       "      <td>&lt;25%</td>\n",
       "      <td>negative</td>\n",
       "    </tr>\n",
       "    <tr>\n",
       "      <th>1</th>\n",
       "      <td>CAB000001</td>\n",
       "      <td>ENSG00000169083</td>\n",
       "      <td>Appendix, glandular cells</td>\n",
       "      <td>negative</td>\n",
       "      <td>NaN</td>\n",
       "      <td>negative</td>\n",
       "    </tr>\n",
       "    <tr>\n",
       "      <th>2</th>\n",
       "      <td>CAB000001</td>\n",
       "      <td>ENSG00000169083</td>\n",
       "      <td>Appendix, lymphocytes</td>\n",
       "      <td>negative</td>\n",
       "      <td>NaN</td>\n",
       "      <td>negative</td>\n",
       "    </tr>\n",
       "    <tr>\n",
       "      <th>3</th>\n",
       "      <td>CAB000001</td>\n",
       "      <td>ENSG00000169083</td>\n",
       "      <td>Bladder, urothelial cells</td>\n",
       "      <td>weak</td>\n",
       "      <td>&lt;25%</td>\n",
       "      <td>negative</td>\n",
       "    </tr>\n",
       "    <tr>\n",
       "      <th>4</th>\n",
       "      <td>CAB000001</td>\n",
       "      <td>ENSG00000169083</td>\n",
       "      <td>Bone marrow</td>\n",
       "      <td>negative</td>\n",
       "      <td>NaN</td>\n",
       "      <td>negative</td>\n",
       "    </tr>\n",
       "  </tbody>\n",
       "</table>\n",
       "</div>"
      ],
      "text/latex": [
       "\\centering{\\begin{tabular}{lllllll}\n",
       "\\toprule\n",
       "{} &     hpa\\_id &  ensembl\\_gene\\_id &                     tissue & intensity & fraction & summary\\_expression\\_value \\\\\n",
       "\\midrule\n",
       "0 &  CAB000001 &  ENSG00000169083 &                    Adrenal &      weak &     <25\\% &                 negative \\\\\n",
       "1 &  CAB000001 &  ENSG00000169083 &  Appendix, glandular cells &  negative &      NaN &                 negative \\\\\n",
       "2 &  CAB000001 &  ENSG00000169083 &      Appendix, lymphocytes &  negative &      NaN &                 negative \\\\\n",
       "3 &  CAB000001 &  ENSG00000169083 &  Bladder, urothelial cells &      weak &     <25\\% &                 negative \\\\\n",
       "4 &  CAB000001 &  ENSG00000169083 &                Bone marrow &  negative &      NaN &                 negative \\\\\n",
       "\\bottomrule\n",
       "\\end{tabular}\n",
       "}"
      ],
      "text/plain": [
       "      hpa_id  ensembl_gene_id                     tissue intensity fraction  \\\n",
       "0  CAB000001  ENSG00000169083                    Adrenal      weak     <25%   \n",
       "1  CAB000001  ENSG00000169083  Appendix, glandular cells  negative      NaN   \n",
       "2  CAB000001  ENSG00000169083      Appendix, lymphocytes  negative      NaN   \n",
       "3  CAB000001  ENSG00000169083  Bladder, urothelial cells      weak     <25%   \n",
       "4  CAB000001  ENSG00000169083                Bone marrow  negative      NaN   \n",
       "\n",
       "  summary_expression_value  \n",
       "0                 negative  \n",
       "1                 negative  \n",
       "2                 negative  \n",
       "3                 negative  \n",
       "4                 negative  "
      ]
     },
     "execution_count": 43,
     "metadata": {},
     "output_type": "execute_result"
    }
   ],
   "source": [
    "df12.head()"
   ]
  },
  {
   "cell_type": "code",
   "execution_count": 44,
   "metadata": {
    "collapsed": false
   },
   "outputs": [
    {
     "data": {
      "text/plain": [
       "(385710, 6)"
      ]
     },
     "execution_count": 44,
     "metadata": {},
     "output_type": "execute_result"
    }
   ],
   "source": [
    "df12.shape"
   ]
  },
  {
   "cell_type": "markdown",
   "metadata": {},
   "source": [
    "Antibody Response Data.\n",
    "Results from 12634 immunizations using different Protein Epitope Signature Tags (PrEST) as antigens to generate monospecific antibodies. The result is given as amount (mg) specific antibody obtained after immunization and affinity purification using the same specific protein fragment (PrEST) as antigen and purification partner. The comma-separated file includes: antigen id, antibody id, antigen sequence and antibody amount (mg)."
   ]
  },
  {
   "cell_type": "code",
   "execution_count": 45,
   "metadata": {
    "collapsed": true
   },
   "outputs": [],
   "source": [
    "df13 = pd.read_csv('Data/antibodyresponse.csv.zip', sep=',')"
   ]
  },
  {
   "cell_type": "code",
   "execution_count": 46,
   "metadata": {
    "collapsed": false
   },
   "outputs": [
    {
     "data": {
      "text/html": [
       "<div>\n",
       "<table border=\"1\" class=\"dataframe\">\n",
       "  <thead>\n",
       "    <tr style=\"text-align: right;\">\n",
       "      <th></th>\n",
       "      <th>antigen_id</th>\n",
       "      <th>antibody_id</th>\n",
       "      <th>aa_seq</th>\n",
       "      <th>amount</th>\n",
       "    </tr>\n",
       "  </thead>\n",
       "  <tbody>\n",
       "    <tr>\n",
       "      <th>0</th>\n",
       "      <td>2250374</td>\n",
       "      <td>2250260</td>\n",
       "      <td>KSPSPVQGKKSPRLLCIEKVTTDKDPKEEKEEEDDSALPQEVSIAA...</td>\n",
       "      <td>0.010500</td>\n",
       "    </tr>\n",
       "    <tr>\n",
       "      <th>1</th>\n",
       "      <td>670140</td>\n",
       "      <td>670067</td>\n",
       "      <td>ANLLKTVVTGCSCPLLSNLGSCKGLRVKKDFLRTFYTHQELWCKAP...</td>\n",
       "      <td>0.011000</td>\n",
       "    </tr>\n",
       "    <tr>\n",
       "      <th>2</th>\n",
       "      <td>2180028</td>\n",
       "      <td>2180132</td>\n",
       "      <td>TTIFLKFDGEPCDLSLNITWYLKSADCYNEIYNFKAEEVELYLEKL...</td>\n",
       "      <td>0.011083</td>\n",
       "    </tr>\n",
       "    <tr>\n",
       "      <th>3</th>\n",
       "      <td>230454</td>\n",
       "      <td>230063</td>\n",
       "      <td>PAESQSGMALKVAATVLQPLCLGESPVVMPIHMQVEGSSAPELNPN...</td>\n",
       "      <td>0.013500</td>\n",
       "    </tr>\n",
       "    <tr>\n",
       "      <th>4</th>\n",
       "      <td>2440684</td>\n",
       "      <td>2440477</td>\n",
       "      <td>SISYSCSAVPHQGRGFSQYGVSGSPTKSKVTSCPGCRKPLPRCALC...</td>\n",
       "      <td>0.016917</td>\n",
       "    </tr>\n",
       "  </tbody>\n",
       "</table>\n",
       "</div>"
      ],
      "text/latex": [
       "\\centering{\\begin{tabular}{lrrlr}\n",
       "\\toprule\n",
       "{} &  antigen\\_id &  antibody\\_id &                                             aa\\_seq &    amount \\\\\n",
       "\\midrule\n",
       "0 &     2250374 &      2250260 &  KSPSPVQGKKSPRLLCIEKVTTDKDPKEEKEEEDDSALPQEVSIAA... &  0.010500 \\\\\n",
       "1 &      670140 &       670067 &  ANLLKTVVTGCSCPLLSNLGSCKGLRVKKDFLRTFYTHQELWCKAP... &  0.011000 \\\\\n",
       "2 &     2180028 &      2180132 &  TTIFLKFDGEPCDLSLNITWYLKSADCYNEIYNFKAEEVELYLEKL... &  0.011083 \\\\\n",
       "3 &      230454 &       230063 &  PAESQSGMALKVAATVLQPLCLGESPVVMPIHMQVEGSSAPELNPN... &  0.013500 \\\\\n",
       "4 &     2440684 &      2440477 &  SISYSCSAVPHQGRGFSQYGVSGSPTKSKVTSCPGCRKPLPRCALC... &  0.016917 \\\\\n",
       "\\bottomrule\n",
       "\\end{tabular}\n",
       "}"
      ],
      "text/plain": [
       "   antigen_id  antibody_id                                             aa_seq  \\\n",
       "0     2250374      2250260  KSPSPVQGKKSPRLLCIEKVTTDKDPKEEKEEEDDSALPQEVSIAA...   \n",
       "1      670140       670067  ANLLKTVVTGCSCPLLSNLGSCKGLRVKKDFLRTFYTHQELWCKAP...   \n",
       "2     2180028      2180132  TTIFLKFDGEPCDLSLNITWYLKSADCYNEIYNFKAEEVELYLEKL...   \n",
       "3      230454       230063  PAESQSGMALKVAATVLQPLCLGESPVVMPIHMQVEGSSAPELNPN...   \n",
       "4     2440684      2440477  SISYSCSAVPHQGRGFSQYGVSGSPTKSKVTSCPGCRKPLPRCALC...   \n",
       "\n",
       "     amount  \n",
       "0  0.010500  \n",
       "1  0.011000  \n",
       "2  0.011083  \n",
       "3  0.013500  \n",
       "4  0.016917  "
      ]
     },
     "execution_count": 46,
     "metadata": {},
     "output_type": "execute_result"
    }
   ],
   "source": [
    "df13.head()"
   ]
  },
  {
   "cell_type": "code",
   "execution_count": 47,
   "metadata": {
    "collapsed": false
   },
   "outputs": [
    {
     "data": {
      "text/plain": [
       "(12634, 4)"
      ]
     },
     "execution_count": 47,
     "metadata": {},
     "output_type": "execute_result"
    }
   ],
   "source": [
    "df13.shape"
   ]
  }
 ],
 "metadata": {
  "anaconda-cloud": {},
  "kernelspec": {
   "display_name": "Python [default]",
   "language": "python",
   "name": "python3"
  },
  "language_info": {
   "codemirror_mode": {
    "name": "ipython",
    "version": 3
   },
   "file_extension": ".py",
   "mimetype": "text/x-python",
   "name": "python",
   "nbconvert_exporter": "python",
   "pygments_lexer": "ipython3",
   "version": "3.5.2"
  }
 },
 "nbformat": 4,
 "nbformat_minor": 2
}
