{
 "cells": [
  {
   "cell_type": "markdown",
   "metadata": {},
   "source": [
    "# Drugbank-Drug Carrier"
   ]
  },
  {
   "cell_type": "markdown",
   "metadata": {},
   "source": [
    "Author: Moshe Silverstein <br/>\n",
    "Date: 03-2018 <br/>\n",
    "Data Source Home: http://www.drugbank.ca/ <br/>\n",
    "Data Source Downlaod: https://www.drugbank.ca/releases/latest"
   ]
  },
  {
   "cell_type": "code",
   "execution_count": 1,
   "metadata": {
    "collapsed": true
   },
   "outputs": [],
   "source": [
    "import sys, datetime, os\n",
    "import numpy as np\n",
    "import pandas as pd\n",
    "import importlib\n",
    "import my_functions as mf\n",
    "%matplotlib inline"
   ]
  },
  {
   "cell_type": "code",
   "execution_count": 2,
   "metadata": {
    "collapsed": true
   },
   "outputs": [],
   "source": [
    "from clustergrammer_widget import *\n",
    "net = Network(clustergrammer_widget)"
   ]
  },
  {
   "cell_type": "code",
   "execution_count": 3,
   "metadata": {},
   "outputs": [
    {
     "data": {
      "text/plain": [
       "<module 'my_functions' from '/Users/moshesilverstein/Documents/Harmonizome/Drugbank/my_functions.py'>"
      ]
     },
     "execution_count": 3,
     "metadata": {},
     "output_type": "execute_result"
    }
   ],
   "source": [
    "importlib.reload(mf)"
   ]
  },
  {
   "cell_type": "markdown",
   "metadata": {},
   "source": [
    "# Versions Of Modules In Use"
   ]
  },
  {
   "cell_type": "code",
   "execution_count": 4,
   "metadata": {},
   "outputs": [
    {
     "data": {
      "application/json": {
       "Software versions": [
        {
         "module": "Python",
         "version": "3.5.2 64bit [GCC 4.2.1 Compatible Apple LLVM 4.2 (clang-425.0.28)]"
        },
        {
         "module": "IPython",
         "version": "5.3.0"
        },
        {
         "module": "OS",
         "version": "Darwin 17.2.0 x86_64 i386 64bit"
        },
        {
         "module": "numpy",
         "version": "1.13.1"
        },
        {
         "module": "pandas",
         "version": "0.21.0"
        },
        {
         "module": "clustergrammer_widget",
         "version": "1.9.0"
        }
       ]
      },
      "text/html": [
       "<table><tr><th>Software</th><th>Version</th></tr><tr><td>Python</td><td>3.5.2 64bit [GCC 4.2.1 Compatible Apple LLVM 4.2 (clang-425.0.28)]</td></tr><tr><td>IPython</td><td>5.3.0</td></tr><tr><td>OS</td><td>Darwin 17.2.0 x86_64 i386 64bit</td></tr><tr><td>numpy</td><td>1.13.1</td></tr><tr><td>pandas</td><td>0.21.0</td></tr><tr><td>clustergrammer_widget</td><td>1.9.0</td></tr><tr><td colspan='2'>Wed Mar 28 16:39:57 2018 EDT</td></tr></table>"
      ],
      "text/latex": [
       "\\begin{tabular}{|l|l|}\\hline\n",
       "{\\bf Software} & {\\bf Version} \\\\ \\hline\\hline\n",
       "Python & 3.5.2 64bit [GCC 4.2.1 Compatible Apple LLVM 4.2 (clang-425.0.28)] \\\\ \\hline\n",
       "IPython & 5.3.0 \\\\ \\hline\n",
       "OS & Darwin 17.2.0 x86\\_64 i386 64bit \\\\ \\hline\n",
       "numpy & 1.13.1 \\\\ \\hline\n",
       "pandas & 0.21.0 \\\\ \\hline\n",
       "clustergrammer_widget & 1.9.0 \\\\ \\hline\n",
       "\\hline \\multicolumn{2}{|l|}{Wed Mar 28 16:39:57 2018 EDT} \\\\ \\hline\n",
       "\\end{tabular}\n"
      ],
      "text/plain": [
       "Software versions\n",
       "Python 3.5.2 64bit [GCC 4.2.1 Compatible Apple LLVM 4.2 (clang-425.0.28)]\n",
       "IPython 5.3.0\n",
       "OS Darwin 17.2.0 x86_64 i386 64bit\n",
       "numpy 1.13.1\n",
       "pandas 0.21.0\n",
       "clustergrammer_widget 1.9.0\n",
       "Wed Mar 28 16:39:57 2018 EDT"
      ]
     },
     "execution_count": 4,
     "metadata": {},
     "output_type": "execute_result"
    }
   ],
   "source": [
    "%load_ext version_information\n",
    "%version_information numpy, pandas, clustergrammer_widget "
   ]
  },
  {
   "cell_type": "markdown",
   "metadata": {},
   "source": [
    "# Path to Output Files"
   ]
  },
  {
   "cell_type": "code",
   "execution_count": 5,
   "metadata": {
    "collapsed": true
   },
   "outputs": [],
   "source": [
    "path = '/Users/moshesilverstein/Documents/Harmonizome/Drugbank/Output/'"
   ]
  },
  {
   "cell_type": "markdown",
   "metadata": {},
   "source": [
    "# Load Data"
   ]
  },
  {
   "cell_type": "code",
   "execution_count": 6,
   "metadata": {
    "collapsed": true
   },
   "outputs": [],
   "source": [
    "df = pd.read_csv('Input/drugbank_all_carrier_polypeptide_ids.csv/all.csv')"
   ]
  },
  {
   "cell_type": "code",
   "execution_count": 7,
   "metadata": {},
   "outputs": [
    {
     "data": {
      "text/html": [
       "<div>\n",
       "<style scoped>\n",
       "    .dataframe tbody tr th:only-of-type {\n",
       "        vertical-align: middle;\n",
       "    }\n",
       "\n",
       "    .dataframe tbody tr th {\n",
       "        vertical-align: top;\n",
       "    }\n",
       "\n",
       "    .dataframe thead th {\n",
       "        text-align: right;\n",
       "    }\n",
       "</style>\n",
       "<table border=\"1\" class=\"dataframe\">\n",
       "  <thead>\n",
       "    <tr style=\"text-align: right;\">\n",
       "      <th></th>\n",
       "      <th>ID</th>\n",
       "      <th>Name</th>\n",
       "      <th>Gene Name</th>\n",
       "      <th>GenBank Protein ID</th>\n",
       "      <th>GenBank Gene ID</th>\n",
       "      <th>UniProt ID</th>\n",
       "      <th>Uniprot Title</th>\n",
       "      <th>PDB ID</th>\n",
       "      <th>GeneCard ID</th>\n",
       "      <th>GenAtlas ID</th>\n",
       "      <th>HGNC ID</th>\n",
       "      <th>Species</th>\n",
       "      <th>Drug IDs</th>\n",
       "    </tr>\n",
       "  </thead>\n",
       "  <tbody>\n",
       "    <tr>\n",
       "      <th>0</th>\n",
       "      <td>P00451</td>\n",
       "      <td>Coagulation factor VIII</td>\n",
       "      <td>F8</td>\n",
       "      <td>182818.0</td>\n",
       "      <td>M14113</td>\n",
       "      <td>P00451</td>\n",
       "      <td>FA8_HUMAN</td>\n",
       "      <td>1CFG; 1D7P; 1FAC; 1IQD; 2R7E; 3CDZ; 3HNB; 3HNY...</td>\n",
       "      <td>NaN</td>\n",
       "      <td>F8</td>\n",
       "      <td>HGNC:3546</td>\n",
       "      <td>Human</td>\n",
       "      <td>DB09130</td>\n",
       "    </tr>\n",
       "    <tr>\n",
       "      <th>1</th>\n",
       "      <td>P12259</td>\n",
       "      <td>Coagulation factor V</td>\n",
       "      <td>F5</td>\n",
       "      <td>182412.0</td>\n",
       "      <td>M16967</td>\n",
       "      <td>P12259</td>\n",
       "      <td>FA5_HUMAN</td>\n",
       "      <td>1CZS; 1CZT; 1CZV; 1FV4; 1Y61; 3P6Z; 3P70; 3S9C</td>\n",
       "      <td>NaN</td>\n",
       "      <td>F5</td>\n",
       "      <td>HGNC:3542</td>\n",
       "      <td>Human</td>\n",
       "      <td>DB09130</td>\n",
       "    </tr>\n",
       "    <tr>\n",
       "      <th>2</th>\n",
       "      <td>P08185</td>\n",
       "      <td>Corticosteroid-binding globulin</td>\n",
       "      <td>SERPINA6</td>\n",
       "      <td>179971.0</td>\n",
       "      <td>J02943</td>\n",
       "      <td>P08185</td>\n",
       "      <td>CBG_HUMAN</td>\n",
       "      <td>2VDX; 2VDY; 4BB2; 4C41; 4C49</td>\n",
       "      <td>NaN</td>\n",
       "      <td>SERPINA6</td>\n",
       "      <td>HGNC:1540</td>\n",
       "      <td>Human</td>\n",
       "      <td>DB00180; DB00240; DB00253; DB00324; DB00394; D...</td>\n",
       "    </tr>\n",
       "    <tr>\n",
       "      <th>3</th>\n",
       "      <td>P54710</td>\n",
       "      <td>Sodium/potassium-transporting ATPase subunit g...</td>\n",
       "      <td>FXYD2</td>\n",
       "      <td>1575004.0</td>\n",
       "      <td>U50743</td>\n",
       "      <td>P54710</td>\n",
       "      <td>ATNG_HUMAN</td>\n",
       "      <td>2MKV</td>\n",
       "      <td>NaN</td>\n",
       "      <td>FXYD2</td>\n",
       "      <td>HGNC:4026</td>\n",
       "      <td>Human</td>\n",
       "      <td>DB09479</td>\n",
       "    </tr>\n",
       "    <tr>\n",
       "      <th>4</th>\n",
       "      <td>P02753</td>\n",
       "      <td>Retinol-binding protein 4</td>\n",
       "      <td>RBP4</td>\n",
       "      <td>35897.0</td>\n",
       "      <td>X00129</td>\n",
       "      <td>P02753</td>\n",
       "      <td>RET4_HUMAN</td>\n",
       "      <td>1BRP; 1BRQ; 1JYD; 1JYJ; 1QAB; 1RBP; 1RLB; 2WQ9...</td>\n",
       "      <td>NaN</td>\n",
       "      <td>RBP4</td>\n",
       "      <td>HGNC:9922</td>\n",
       "      <td>Human</td>\n",
       "      <td>DB00162; DB03917; DB05076; DB06985</td>\n",
       "    </tr>\n",
       "  </tbody>\n",
       "</table>\n",
       "</div>"
      ],
      "text/plain": [
       "       ID                                               Name Gene Name  \\\n",
       "0  P00451                            Coagulation factor VIII        F8   \n",
       "1  P12259                               Coagulation factor V        F5   \n",
       "2  P08185                    Corticosteroid-binding globulin  SERPINA6   \n",
       "3  P54710  Sodium/potassium-transporting ATPase subunit g...     FXYD2   \n",
       "4  P02753                          Retinol-binding protein 4      RBP4   \n",
       "\n",
       "   GenBank Protein ID GenBank Gene ID UniProt ID Uniprot Title  \\\n",
       "0            182818.0          M14113     P00451     FA8_HUMAN   \n",
       "1            182412.0          M16967     P12259     FA5_HUMAN   \n",
       "2            179971.0          J02943     P08185     CBG_HUMAN   \n",
       "3           1575004.0          U50743     P54710    ATNG_HUMAN   \n",
       "4             35897.0          X00129     P02753    RET4_HUMAN   \n",
       "\n",
       "                                              PDB ID  GeneCard ID GenAtlas ID  \\\n",
       "0  1CFG; 1D7P; 1FAC; 1IQD; 2R7E; 3CDZ; 3HNB; 3HNY...          NaN          F8   \n",
       "1     1CZS; 1CZT; 1CZV; 1FV4; 1Y61; 3P6Z; 3P70; 3S9C          NaN          F5   \n",
       "2                       2VDX; 2VDY; 4BB2; 4C41; 4C49          NaN    SERPINA6   \n",
       "3                                               2MKV          NaN       FXYD2   \n",
       "4  1BRP; 1BRQ; 1JYD; 1JYJ; 1QAB; 1RBP; 1RLB; 2WQ9...          NaN        RBP4   \n",
       "\n",
       "     HGNC ID Species                                           Drug IDs  \n",
       "0  HGNC:3546   Human                                            DB09130  \n",
       "1  HGNC:3542   Human                                            DB09130  \n",
       "2  HGNC:1540   Human  DB00180; DB00240; DB00253; DB00324; DB00394; D...  \n",
       "3  HGNC:4026   Human                                            DB09479  \n",
       "4  HGNC:9922   Human                 DB00162; DB03917; DB05076; DB06985  "
      ]
     },
     "execution_count": 7,
     "metadata": {},
     "output_type": "execute_result"
    }
   ],
   "source": [
    "df.head()"
   ]
  },
  {
   "cell_type": "code",
   "execution_count": 8,
   "metadata": {},
   "outputs": [
    {
     "data": {
      "text/plain": [
       "(66, 13)"
      ]
     },
     "execution_count": 8,
     "metadata": {},
     "output_type": "execute_result"
    }
   ],
   "source": [
    "df.shape"
   ]
  },
  {
   "cell_type": "markdown",
   "metadata": {},
   "source": [
    "# Load Drug Meta Data"
   ]
  },
  {
   "cell_type": "code",
   "execution_count": 9,
   "metadata": {
    "collapsed": true
   },
   "outputs": [],
   "source": [
    "drug_meta = pd.read_csv('Input/drugbank_all_drug_links.csv.zip', index_col=0)"
   ]
  },
  {
   "cell_type": "code",
   "execution_count": 10,
   "metadata": {},
   "outputs": [
    {
     "data": {
      "text/html": [
       "<div>\n",
       "<style scoped>\n",
       "    .dataframe tbody tr th:only-of-type {\n",
       "        vertical-align: middle;\n",
       "    }\n",
       "\n",
       "    .dataframe tbody tr th {\n",
       "        vertical-align: top;\n",
       "    }\n",
       "\n",
       "    .dataframe thead th {\n",
       "        text-align: right;\n",
       "    }\n",
       "</style>\n",
       "<table border=\"1\" class=\"dataframe\">\n",
       "  <thead>\n",
       "    <tr style=\"text-align: right;\">\n",
       "      <th></th>\n",
       "      <th>Name</th>\n",
       "      <th>CAS Number</th>\n",
       "      <th>Drug Type</th>\n",
       "      <th>KEGG Compound ID</th>\n",
       "      <th>KEGG Drug ID</th>\n",
       "      <th>PubChem Compound ID</th>\n",
       "      <th>PubChem Substance ID</th>\n",
       "      <th>ChEBI ID</th>\n",
       "      <th>PharmGKB ID</th>\n",
       "      <th>HET ID</th>\n",
       "      <th>...</th>\n",
       "      <th>GenBank ID</th>\n",
       "      <th>DPD ID</th>\n",
       "      <th>RxList Link</th>\n",
       "      <th>Pdrhealth Link</th>\n",
       "      <th>Wikipedia ID</th>\n",
       "      <th>Drugs.com Link</th>\n",
       "      <th>NDC ID</th>\n",
       "      <th>ChemSpider ID</th>\n",
       "      <th>BindingDB ID</th>\n",
       "      <th>TTD ID</th>\n",
       "    </tr>\n",
       "    <tr>\n",
       "      <th>DrugBank ID</th>\n",
       "      <th></th>\n",
       "      <th></th>\n",
       "      <th></th>\n",
       "      <th></th>\n",
       "      <th></th>\n",
       "      <th></th>\n",
       "      <th></th>\n",
       "      <th></th>\n",
       "      <th></th>\n",
       "      <th></th>\n",
       "      <th></th>\n",
       "      <th></th>\n",
       "      <th></th>\n",
       "      <th></th>\n",
       "      <th></th>\n",
       "      <th></th>\n",
       "      <th></th>\n",
       "      <th></th>\n",
       "      <th></th>\n",
       "      <th></th>\n",
       "      <th></th>\n",
       "    </tr>\n",
       "  </thead>\n",
       "  <tbody>\n",
       "    <tr>\n",
       "      <th>DB00001</th>\n",
       "      <td>Lepirudin</td>\n",
       "      <td>138068-37-8</td>\n",
       "      <td>BiotechDrug</td>\n",
       "      <td>NaN</td>\n",
       "      <td>D06880</td>\n",
       "      <td>NaN</td>\n",
       "      <td>46507011.0</td>\n",
       "      <td>NaN</td>\n",
       "      <td>PA450195</td>\n",
       "      <td>NaN</td>\n",
       "      <td>...</td>\n",
       "      <td>NaN</td>\n",
       "      <td>11916</td>\n",
       "      <td>http://www.rxlist.com/cgi/generic/lepirudin.htm</td>\n",
       "      <td>NaN</td>\n",
       "      <td>Lepirudin</td>\n",
       "      <td>http://www.drugs.com/cdi/lepirudin.html</td>\n",
       "      <td>NaN</td>\n",
       "      <td>NaN</td>\n",
       "      <td>NaN</td>\n",
       "      <td>DAP000541</td>\n",
       "    </tr>\n",
       "    <tr>\n",
       "      <th>DB00002</th>\n",
       "      <td>Cetuximab</td>\n",
       "      <td>205923-56-4</td>\n",
       "      <td>BiotechDrug</td>\n",
       "      <td>NaN</td>\n",
       "      <td>D03455</td>\n",
       "      <td>NaN</td>\n",
       "      <td>46507042.0</td>\n",
       "      <td>NaN</td>\n",
       "      <td>PA10040</td>\n",
       "      <td>NaN</td>\n",
       "      <td>...</td>\n",
       "      <td>J00228</td>\n",
       "      <td>13175</td>\n",
       "      <td>http://www.rxlist.com/cgi/generic3/erbitux.htm</td>\n",
       "      <td>NaN</td>\n",
       "      <td>Cetuximab</td>\n",
       "      <td>http://www.drugs.com/cdi/cetuximab.html</td>\n",
       "      <td>NaN</td>\n",
       "      <td>NaN</td>\n",
       "      <td>NaN</td>\n",
       "      <td>DNC000788</td>\n",
       "    </tr>\n",
       "    <tr>\n",
       "      <th>DB00003</th>\n",
       "      <td>Dornase alfa</td>\n",
       "      <td>143831-71-4</td>\n",
       "      <td>BiotechDrug</td>\n",
       "      <td>NaN</td>\n",
       "      <td>NaN</td>\n",
       "      <td>NaN</td>\n",
       "      <td>46507792.0</td>\n",
       "      <td>NaN</td>\n",
       "      <td>PA10318</td>\n",
       "      <td>NaN</td>\n",
       "      <td>...</td>\n",
       "      <td>M55983</td>\n",
       "      <td>650</td>\n",
       "      <td>http://www.rxlist.com/cgi/generic/pulmozyme.htm</td>\n",
       "      <td>NaN</td>\n",
       "      <td>Dornase_alfa</td>\n",
       "      <td>http://www.drugs.com/cdi/dornase-alfa.html</td>\n",
       "      <td>NaN</td>\n",
       "      <td>NaN</td>\n",
       "      <td>NaN</td>\n",
       "      <td>DAP000981</td>\n",
       "    </tr>\n",
       "    <tr>\n",
       "      <th>DB00004</th>\n",
       "      <td>Denileukin diftitox</td>\n",
       "      <td>173146-27-5</td>\n",
       "      <td>BiotechDrug</td>\n",
       "      <td>NaN</td>\n",
       "      <td>NaN</td>\n",
       "      <td>NaN</td>\n",
       "      <td>46506950.0</td>\n",
       "      <td>NaN</td>\n",
       "      <td>PA164750594</td>\n",
       "      <td>NaN</td>\n",
       "      <td>...</td>\n",
       "      <td>V01536</td>\n",
       "      <td>NaN</td>\n",
       "      <td>http://www.rxlist.com/cgi/generic2/denileukin.htm</td>\n",
       "      <td>NaN</td>\n",
       "      <td>Denileukin_diftitox</td>\n",
       "      <td>http://www.drugs.com/cdi/denileukin-diftitox.html</td>\n",
       "      <td>NaN</td>\n",
       "      <td>NaN</td>\n",
       "      <td>NaN</td>\n",
       "      <td>DAP001098</td>\n",
       "    </tr>\n",
       "    <tr>\n",
       "      <th>DB00005</th>\n",
       "      <td>Etanercept</td>\n",
       "      <td>185243-69-0</td>\n",
       "      <td>BiotechDrug</td>\n",
       "      <td>C07897</td>\n",
       "      <td>D00742</td>\n",
       "      <td>NaN</td>\n",
       "      <td>46506732.0</td>\n",
       "      <td>NaN</td>\n",
       "      <td>PA449515</td>\n",
       "      <td>NaN</td>\n",
       "      <td>...</td>\n",
       "      <td>M32315</td>\n",
       "      <td>12032</td>\n",
       "      <td>http://www.rxlist.com/cgi/generic/etanercept.htm</td>\n",
       "      <td>NaN</td>\n",
       "      <td>Etanercept</td>\n",
       "      <td>http://www.drugs.com/cdi/etanercept.html</td>\n",
       "      <td>NaN</td>\n",
       "      <td>NaN</td>\n",
       "      <td>NaN</td>\n",
       "      <td>DNC000605</td>\n",
       "    </tr>\n",
       "  </tbody>\n",
       "</table>\n",
       "<p>5 rows × 22 columns</p>\n",
       "</div>"
      ],
      "text/plain": [
       "                            Name   CAS Number    Drug Type KEGG Compound ID  \\\n",
       "DrugBank ID                                                                   \n",
       "DB00001                Lepirudin  138068-37-8  BiotechDrug              NaN   \n",
       "DB00002                Cetuximab  205923-56-4  BiotechDrug              NaN   \n",
       "DB00003             Dornase alfa  143831-71-4  BiotechDrug              NaN   \n",
       "DB00004      Denileukin diftitox  173146-27-5  BiotechDrug              NaN   \n",
       "DB00005               Etanercept  185243-69-0  BiotechDrug           C07897   \n",
       "\n",
       "            KEGG Drug ID  PubChem Compound ID  PubChem Substance ID  ChEBI ID  \\\n",
       "DrugBank ID                                                                     \n",
       "DB00001           D06880                  NaN            46507011.0       NaN   \n",
       "DB00002           D03455                  NaN            46507042.0       NaN   \n",
       "DB00003              NaN                  NaN            46507792.0       NaN   \n",
       "DB00004              NaN                  NaN            46506950.0       NaN   \n",
       "DB00005           D00742                  NaN            46506732.0       NaN   \n",
       "\n",
       "             PharmGKB ID HET ID    ...     GenBank ID DPD ID  \\\n",
       "DrugBank ID                        ...                         \n",
       "DB00001         PA450195    NaN    ...            NaN  11916   \n",
       "DB00002          PA10040    NaN    ...         J00228  13175   \n",
       "DB00003          PA10318    NaN    ...         M55983    650   \n",
       "DB00004      PA164750594    NaN    ...         V01536    NaN   \n",
       "DB00005         PA449515    NaN    ...         M32315  12032   \n",
       "\n",
       "                                                   RxList Link Pdrhealth Link  \\\n",
       "DrugBank ID                                                                     \n",
       "DB00001        http://www.rxlist.com/cgi/generic/lepirudin.htm            NaN   \n",
       "DB00002         http://www.rxlist.com/cgi/generic3/erbitux.htm            NaN   \n",
       "DB00003        http://www.rxlist.com/cgi/generic/pulmozyme.htm            NaN   \n",
       "DB00004      http://www.rxlist.com/cgi/generic2/denileukin.htm            NaN   \n",
       "DB00005       http://www.rxlist.com/cgi/generic/etanercept.htm            NaN   \n",
       "\n",
       "                    Wikipedia ID  \\\n",
       "DrugBank ID                        \n",
       "DB00001                Lepirudin   \n",
       "DB00002                Cetuximab   \n",
       "DB00003             Dornase_alfa   \n",
       "DB00004      Denileukin_diftitox   \n",
       "DB00005               Etanercept   \n",
       "\n",
       "                                                Drugs.com Link NDC ID  \\\n",
       "DrugBank ID                                                             \n",
       "DB00001                http://www.drugs.com/cdi/lepirudin.html    NaN   \n",
       "DB00002                http://www.drugs.com/cdi/cetuximab.html    NaN   \n",
       "DB00003             http://www.drugs.com/cdi/dornase-alfa.html    NaN   \n",
       "DB00004      http://www.drugs.com/cdi/denileukin-diftitox.html    NaN   \n",
       "DB00005               http://www.drugs.com/cdi/etanercept.html    NaN   \n",
       "\n",
       "            ChemSpider ID  BindingDB ID     TTD ID  \n",
       "DrugBank ID                                         \n",
       "DB00001               NaN           NaN  DAP000541  \n",
       "DB00002               NaN           NaN  DNC000788  \n",
       "DB00003               NaN           NaN  DAP000981  \n",
       "DB00004               NaN           NaN  DAP001098  \n",
       "DB00005               NaN           NaN  DNC000605  \n",
       "\n",
       "[5 rows x 22 columns]"
      ]
     },
     "execution_count": 10,
     "metadata": {},
     "output_type": "execute_result"
    }
   ],
   "source": [
    "drug_meta.head()"
   ]
  },
  {
   "cell_type": "code",
   "execution_count": 11,
   "metadata": {},
   "outputs": [
    {
     "data": {
      "text/plain": [
       "(10562, 22)"
      ]
     },
     "execution_count": 11,
     "metadata": {},
     "output_type": "execute_result"
    }
   ],
   "source": [
    "drug_meta.shape"
   ]
  },
  {
   "cell_type": "markdown",
   "metadata": {},
   "source": [
    "# Get Relevant Data"
   ]
  },
  {
   "cell_type": "code",
   "execution_count": 12,
   "metadata": {
    "collapsed": true
   },
   "outputs": [],
   "source": [
    "# get only relevetn spcies\n",
    "\n",
    "human = df[df['Species'] == 'Human'].copy()\n",
    "mouse = df[df['Species'] == 'Mouse'].copy()\n",
    "rat = df[df['Species'] == 'Rat'].copy()\n",
    "\n",
    "df = pd.concat([human, mouse])\n",
    "df = pd.concat([df, rat])"
   ]
  },
  {
   "cell_type": "code",
   "execution_count": 13,
   "metadata": {
    "collapsed": true
   },
   "outputs": [],
   "source": [
    "df = df[['Gene Name', 'Drug IDs']]"
   ]
  },
  {
   "cell_type": "code",
   "execution_count": 14,
   "metadata": {},
   "outputs": [
    {
     "data": {
      "text/plain": [
       "(63, 2)"
      ]
     },
     "execution_count": 14,
     "metadata": {},
     "output_type": "execute_result"
    }
   ],
   "source": [
    "df.shape"
   ]
  },
  {
   "cell_type": "code",
   "execution_count": 15,
   "metadata": {},
   "outputs": [
    {
     "data": {
      "text/html": [
       "<div>\n",
       "<style scoped>\n",
       "    .dataframe tbody tr th:only-of-type {\n",
       "        vertical-align: middle;\n",
       "    }\n",
       "\n",
       "    .dataframe tbody tr th {\n",
       "        vertical-align: top;\n",
       "    }\n",
       "\n",
       "    .dataframe thead th {\n",
       "        text-align: right;\n",
       "    }\n",
       "</style>\n",
       "<table border=\"1\" class=\"dataframe\">\n",
       "  <thead>\n",
       "    <tr style=\"text-align: right;\">\n",
       "      <th></th>\n",
       "      <th>Gene Name</th>\n",
       "      <th>Drug IDs</th>\n",
       "    </tr>\n",
       "  </thead>\n",
       "  <tbody>\n",
       "    <tr>\n",
       "      <th>0</th>\n",
       "      <td>F8</td>\n",
       "      <td>DB09130</td>\n",
       "    </tr>\n",
       "    <tr>\n",
       "      <th>1</th>\n",
       "      <td>F5</td>\n",
       "      <td>DB09130</td>\n",
       "    </tr>\n",
       "    <tr>\n",
       "      <th>2</th>\n",
       "      <td>SERPINA6</td>\n",
       "      <td>DB00180; DB00240; DB00253; DB00324; DB00394; D...</td>\n",
       "    </tr>\n",
       "    <tr>\n",
       "      <th>3</th>\n",
       "      <td>FXYD2</td>\n",
       "      <td>DB09479</td>\n",
       "    </tr>\n",
       "    <tr>\n",
       "      <th>4</th>\n",
       "      <td>RBP4</td>\n",
       "      <td>DB00162; DB03917; DB05076; DB06985</td>\n",
       "    </tr>\n",
       "  </tbody>\n",
       "</table>\n",
       "</div>"
      ],
      "text/plain": [
       "  Gene Name                                           Drug IDs\n",
       "0        F8                                            DB09130\n",
       "1        F5                                            DB09130\n",
       "2  SERPINA6  DB00180; DB00240; DB00253; DB00324; DB00394; D...\n",
       "3     FXYD2                                            DB09479\n",
       "4      RBP4                 DB00162; DB03917; DB05076; DB06985"
      ]
     },
     "execution_count": 15,
     "metadata": {},
     "output_type": "execute_result"
    }
   ],
   "source": [
    "df.head()"
   ]
  },
  {
   "cell_type": "code",
   "execution_count": 16,
   "metadata": {},
   "outputs": [
    {
     "name": "stdout",
     "output_type": "stream",
     "text": [
      "Progeres: 100%  63 Out of 63   \r"
     ]
    }
   ],
   "source": [
    "df_interactions = pd.DataFrame()\n",
    "\n",
    "for i, index in enumerate(df.index):\n",
    "    \n",
    "    progressPercent = ((i+1)/len(df.index))*100\n",
    "\n",
    "    sys.stdout.write(\"Progeres: %d%%  %d Out of %d   \\r\" % (progressPercent, (i+1), len(df.index)))\n",
    "    sys.stdout.flush()\n",
    "    \n",
    "    if type(df.loc[index, 'Gene Name']) != float:\n",
    "        lst2 = df.loc[index, 'Drug IDs'].split(';')\n",
    "        lst1 = [df.loc[index, 'Gene Name'].split('(')[0]]*(len(lst2))\n",
    "        temp = pd.DataFrame()\n",
    "        temp['Drug'] = lst2\n",
    "        temp['Gene Name'] = lst1\n",
    "        df_interactions = pd.concat([df_interactions, temp]) "
   ]
  },
  {
   "cell_type": "code",
   "execution_count": 17,
   "metadata": {},
   "outputs": [
    {
     "data": {
      "text/html": [
       "<div>\n",
       "<style scoped>\n",
       "    .dataframe tbody tr th:only-of-type {\n",
       "        vertical-align: middle;\n",
       "    }\n",
       "\n",
       "    .dataframe tbody tr th {\n",
       "        vertical-align: top;\n",
       "    }\n",
       "\n",
       "    .dataframe thead th {\n",
       "        text-align: right;\n",
       "    }\n",
       "</style>\n",
       "<table border=\"1\" class=\"dataframe\">\n",
       "  <thead>\n",
       "    <tr style=\"text-align: right;\">\n",
       "      <th></th>\n",
       "      <th>Drug</th>\n",
       "      <th>Gene Name</th>\n",
       "    </tr>\n",
       "  </thead>\n",
       "  <tbody>\n",
       "    <tr>\n",
       "      <th>0</th>\n",
       "      <td>DB09130</td>\n",
       "      <td>F8</td>\n",
       "    </tr>\n",
       "    <tr>\n",
       "      <th>0</th>\n",
       "      <td>DB09130</td>\n",
       "      <td>F5</td>\n",
       "    </tr>\n",
       "    <tr>\n",
       "      <th>0</th>\n",
       "      <td>DB00180</td>\n",
       "      <td>SERPINA6</td>\n",
       "    </tr>\n",
       "    <tr>\n",
       "      <th>1</th>\n",
       "      <td>DB00240</td>\n",
       "      <td>SERPINA6</td>\n",
       "    </tr>\n",
       "    <tr>\n",
       "      <th>2</th>\n",
       "      <td>DB00253</td>\n",
       "      <td>SERPINA6</td>\n",
       "    </tr>\n",
       "  </tbody>\n",
       "</table>\n",
       "</div>"
      ],
      "text/plain": [
       "       Drug Gene Name\n",
       "0   DB09130        F8\n",
       "0   DB09130        F5\n",
       "0   DB00180  SERPINA6\n",
       "1   DB00240  SERPINA6\n",
       "2   DB00253  SERPINA6"
      ]
     },
     "execution_count": 17,
     "metadata": {},
     "output_type": "execute_result"
    }
   ],
   "source": [
    "df_interactions.head()"
   ]
  },
  {
   "cell_type": "code",
   "execution_count": 18,
   "metadata": {},
   "outputs": [
    {
     "data": {
      "text/plain": [
       "(352, 2)"
      ]
     },
     "execution_count": 18,
     "metadata": {},
     "output_type": "execute_result"
    }
   ],
   "source": [
    "df_interactions.shape"
   ]
  },
  {
   "cell_type": "markdown",
   "metadata": {},
   "source": [
    "# Map Drug Id's to drug names"
   ]
  },
  {
   "cell_type": "code",
   "execution_count": 19,
   "metadata": {
    "collapsed": true
   },
   "outputs": [],
   "source": [
    "df_interactions.reset_index(inplace=True)"
   ]
  },
  {
   "cell_type": "code",
   "execution_count": 20,
   "metadata": {
    "collapsed": true
   },
   "outputs": [],
   "source": [
    "df_interactions.drop('index', axis=1, inplace=True)"
   ]
  },
  {
   "cell_type": "code",
   "execution_count": 21,
   "metadata": {},
   "outputs": [
    {
     "name": "stdout",
     "output_type": "stream",
     "text": [
      "Progeres: 100%  352 Out of 352   \r"
     ]
    }
   ],
   "source": [
    "lst = []\n",
    "\n",
    "for i, index in enumerate(df_interactions.index):\n",
    "    \n",
    "    progressPercent = ((i+1)/len(df_interactions.index))*100\n",
    "\n",
    "    sys.stdout.write(\"Progeres: %d%%  %d Out of %d   \\r\" % (progressPercent, (i+1), len(df_interactions.index)))\n",
    "    sys.stdout.flush()\n",
    "    \n",
    "    if len(df_interactions.loc[index, 'Drug'].split(' ')) > 1:\n",
    "        lst.append(drug_meta.loc[df_interactions.loc[index, 'Drug'].split(' ')[1],'Name'])\n",
    "    else:\n",
    "        lst.append(drug_meta.loc[df_interactions.loc[index, 'Drug'],'Name'])\n",
    "        \n",
    "df_interactions['Drug'] = lst"
   ]
  },
  {
   "cell_type": "markdown",
   "metadata": {},
   "source": [
    "# Map Gene Symbols To Up-to-date Approved Gene Symbols"
   ]
  },
  {
   "cell_type": "code",
   "execution_count": 22,
   "metadata": {
    "collapsed": true
   },
   "outputs": [],
   "source": [
    "df_interactions.set_index('Gene Name', inplace=True)"
   ]
  },
  {
   "cell_type": "code",
   "execution_count": 23,
   "metadata": {},
   "outputs": [
    {
     "name": "stdout",
     "output_type": "stream",
     "text": [
      "Progeres: 100%  352 Out of 352   \r"
     ]
    }
   ],
   "source": [
    "mf.mapgenesymbols(df_interactions)"
   ]
  },
  {
   "cell_type": "markdown",
   "metadata": {},
   "source": [
    "# Drop Duplicates"
   ]
  },
  {
   "cell_type": "code",
   "execution_count": 24,
   "metadata": {
    "collapsed": true
   },
   "outputs": [],
   "source": [
    "df_interactions.reset_index(inplace=True)"
   ]
  },
  {
   "cell_type": "code",
   "execution_count": 25,
   "metadata": {
    "collapsed": true
   },
   "outputs": [],
   "source": [
    "df_interactions.drop_duplicates(inplace=True)"
   ]
  },
  {
   "cell_type": "code",
   "execution_count": 26,
   "metadata": {},
   "outputs": [
    {
     "data": {
      "text/plain": [
       "(352, 2)"
      ]
     },
     "execution_count": 26,
     "metadata": {},
     "output_type": "execute_result"
    }
   ],
   "source": [
    "df_interactions.shape"
   ]
  },
  {
   "cell_type": "markdown",
   "metadata": {},
   "source": [
    "# Create Binary Matrix"
   ]
  },
  {
   "cell_type": "code",
   "execution_count": 27,
   "metadata": {},
   "outputs": [
    {
     "name": "stdout",
     "output_type": "stream",
     "text": [
      "Progeres: 100%  61 Out of 61   \r"
     ]
    }
   ],
   "source": [
    "binary_matrix = mf.createBinaryMatrix(df_interactions)"
   ]
  },
  {
   "cell_type": "code",
   "execution_count": 28,
   "metadata": {},
   "outputs": [
    {
     "data": {
      "text/html": [
       "<div>\n",
       "<style scoped>\n",
       "    .dataframe tbody tr th:only-of-type {\n",
       "        vertical-align: middle;\n",
       "    }\n",
       "\n",
       "    .dataframe tbody tr th {\n",
       "        vertical-align: top;\n",
       "    }\n",
       "\n",
       "    .dataframe thead th {\n",
       "        text-align: right;\n",
       "    }\n",
       "</style>\n",
       "<table border=\"1\" class=\"dataframe\">\n",
       "  <thead>\n",
       "    <tr style=\"text-align: right;\">\n",
       "      <th></th>\n",
       "      <th>Riociguat</th>\n",
       "      <th>Erlotinib</th>\n",
       "      <th>Sucralfate</th>\n",
       "      <th>2-[(3,5-Dichloro-4-trioxidanylphenyl)amino]benzoic acid</th>\n",
       "      <th>Sodium lauryl sulfate</th>\n",
       "      <th>Glyburide</th>\n",
       "      <th>1-Anilino-8-Naphthalene Sulfonate</th>\n",
       "      <th>Maprotiline</th>\n",
       "      <th>Grazoprevir</th>\n",
       "      <th>Fenoprofen</th>\n",
       "      <th>...</th>\n",
       "      <th>Etodolac</th>\n",
       "      <th>(2S)-3-[(9H-fluoren-9-ylideneamino)oxy]-2-methylpropanoic acid</th>\n",
       "      <th>Oxcarbazepine</th>\n",
       "      <th>Acetylsalicylic acid</th>\n",
       "      <th>Tolbutamide</th>\n",
       "      <th>Vitamin A</th>\n",
       "      <th>Abiraterone</th>\n",
       "      <th>2-(3,5-DIMETHYLPHENYL)-1,3-BENZOXAZOLE</th>\n",
       "      <th>Iron saccharate</th>\n",
       "      <th>Sulfinpyrazone</th>\n",
       "    </tr>\n",
       "  </thead>\n",
       "  <tbody>\n",
       "    <tr>\n",
       "      <th>S100G</th>\n",
       "      <td>0</td>\n",
       "      <td>0</td>\n",
       "      <td>0</td>\n",
       "      <td>0</td>\n",
       "      <td>0</td>\n",
       "      <td>0</td>\n",
       "      <td>0</td>\n",
       "      <td>0</td>\n",
       "      <td>0</td>\n",
       "      <td>0</td>\n",
       "      <td>...</td>\n",
       "      <td>0</td>\n",
       "      <td>0</td>\n",
       "      <td>0</td>\n",
       "      <td>0</td>\n",
       "      <td>0</td>\n",
       "      <td>0</td>\n",
       "      <td>0</td>\n",
       "      <td>0</td>\n",
       "      <td>0</td>\n",
       "      <td>0</td>\n",
       "    </tr>\n",
       "    <tr>\n",
       "      <th>TESMIN</th>\n",
       "      <td>0</td>\n",
       "      <td>0</td>\n",
       "      <td>0</td>\n",
       "      <td>0</td>\n",
       "      <td>0</td>\n",
       "      <td>0</td>\n",
       "      <td>0</td>\n",
       "      <td>0</td>\n",
       "      <td>0</td>\n",
       "      <td>0</td>\n",
       "      <td>...</td>\n",
       "      <td>0</td>\n",
       "      <td>0</td>\n",
       "      <td>0</td>\n",
       "      <td>0</td>\n",
       "      <td>0</td>\n",
       "      <td>0</td>\n",
       "      <td>0</td>\n",
       "      <td>0</td>\n",
       "      <td>0</td>\n",
       "      <td>0</td>\n",
       "    </tr>\n",
       "    <tr>\n",
       "      <th>ATOX1</th>\n",
       "      <td>0</td>\n",
       "      <td>0</td>\n",
       "      <td>0</td>\n",
       "      <td>0</td>\n",
       "      <td>0</td>\n",
       "      <td>0</td>\n",
       "      <td>0</td>\n",
       "      <td>0</td>\n",
       "      <td>0</td>\n",
       "      <td>0</td>\n",
       "      <td>...</td>\n",
       "      <td>0</td>\n",
       "      <td>0</td>\n",
       "      <td>0</td>\n",
       "      <td>0</td>\n",
       "      <td>0</td>\n",
       "      <td>0</td>\n",
       "      <td>0</td>\n",
       "      <td>0</td>\n",
       "      <td>0</td>\n",
       "      <td>0</td>\n",
       "    </tr>\n",
       "    <tr>\n",
       "      <th>CRABP2</th>\n",
       "      <td>0</td>\n",
       "      <td>0</td>\n",
       "      <td>0</td>\n",
       "      <td>0</td>\n",
       "      <td>0</td>\n",
       "      <td>0</td>\n",
       "      <td>0</td>\n",
       "      <td>0</td>\n",
       "      <td>0</td>\n",
       "      <td>0</td>\n",
       "      <td>...</td>\n",
       "      <td>0</td>\n",
       "      <td>0</td>\n",
       "      <td>0</td>\n",
       "      <td>0</td>\n",
       "      <td>0</td>\n",
       "      <td>0</td>\n",
       "      <td>0</td>\n",
       "      <td>0</td>\n",
       "      <td>0</td>\n",
       "      <td>0</td>\n",
       "    </tr>\n",
       "    <tr>\n",
       "      <th>FABP5</th>\n",
       "      <td>0</td>\n",
       "      <td>0</td>\n",
       "      <td>0</td>\n",
       "      <td>0</td>\n",
       "      <td>0</td>\n",
       "      <td>0</td>\n",
       "      <td>0</td>\n",
       "      <td>0</td>\n",
       "      <td>0</td>\n",
       "      <td>0</td>\n",
       "      <td>...</td>\n",
       "      <td>0</td>\n",
       "      <td>0</td>\n",
       "      <td>0</td>\n",
       "      <td>0</td>\n",
       "      <td>0</td>\n",
       "      <td>0</td>\n",
       "      <td>0</td>\n",
       "      <td>0</td>\n",
       "      <td>0</td>\n",
       "      <td>0</td>\n",
       "    </tr>\n",
       "  </tbody>\n",
       "</table>\n",
       "<p>5 rows × 270 columns</p>\n",
       "</div>"
      ],
      "text/plain": [
       "        Riociguat  Erlotinib  Sucralfate  \\\n",
       "S100G           0          0           0   \n",
       "TESMIN          0          0           0   \n",
       "ATOX1           0          0           0   \n",
       "CRABP2          0          0           0   \n",
       "FABP5           0          0           0   \n",
       "\n",
       "        2-[(3,5-Dichloro-4-trioxidanylphenyl)amino]benzoic acid  \\\n",
       "S100G                                                   0         \n",
       "TESMIN                                                  0         \n",
       "ATOX1                                                   0         \n",
       "CRABP2                                                  0         \n",
       "FABP5                                                   0         \n",
       "\n",
       "        Sodium lauryl sulfate  Glyburide  1-Anilino-8-Naphthalene Sulfonate  \\\n",
       "S100G                       0          0                                  0   \n",
       "TESMIN                      0          0                                  0   \n",
       "ATOX1                       0          0                                  0   \n",
       "CRABP2                      0          0                                  0   \n",
       "FABP5                       0          0                                  0   \n",
       "\n",
       "        Maprotiline  Grazoprevir  Fenoprofen       ...        Etodolac  \\\n",
       "S100G             0            0           0       ...               0   \n",
       "TESMIN            0            0           0       ...               0   \n",
       "ATOX1             0            0           0       ...               0   \n",
       "CRABP2            0            0           0       ...               0   \n",
       "FABP5             0            0           0       ...               0   \n",
       "\n",
       "        (2S)-3-[(9H-fluoren-9-ylideneamino)oxy]-2-methylpropanoic acid  \\\n",
       "S100G                                                   0                \n",
       "TESMIN                                                  0                \n",
       "ATOX1                                                   0                \n",
       "CRABP2                                                  0                \n",
       "FABP5                                                   0                \n",
       "\n",
       "        Oxcarbazepine  Acetylsalicylic acid  Tolbutamide  Vitamin A  \\\n",
       "S100G               0                     0            0          0   \n",
       "TESMIN              0                     0            0          0   \n",
       "ATOX1               0                     0            0          0   \n",
       "CRABP2              0                     0            0          0   \n",
       "FABP5               0                     0            0          0   \n",
       "\n",
       "        Abiraterone  2-(3,5-DIMETHYLPHENYL)-1,3-BENZOXAZOLE  Iron saccharate  \\\n",
       "S100G             0                                       0                0   \n",
       "TESMIN            0                                       0                0   \n",
       "ATOX1             0                                       0                0   \n",
       "CRABP2            0                                       0                0   \n",
       "FABP5             0                                       0                0   \n",
       "\n",
       "        Sulfinpyrazone  \n",
       "S100G                0  \n",
       "TESMIN               0  \n",
       "ATOX1                0  \n",
       "CRABP2               0  \n",
       "FABP5                0  \n",
       "\n",
       "[5 rows x 270 columns]"
      ]
     },
     "execution_count": 28,
     "metadata": {},
     "output_type": "execute_result"
    }
   ],
   "source": [
    "binary_matrix.head()"
   ]
  },
  {
   "cell_type": "code",
   "execution_count": 29,
   "metadata": {},
   "outputs": [
    {
     "data": {
      "text/plain": [
       "(61, 270)"
      ]
     },
     "execution_count": 29,
     "metadata": {},
     "output_type": "execute_result"
    }
   ],
   "source": [
    "binary_matrix.shape"
   ]
  },
  {
   "cell_type": "markdown",
   "metadata": {},
   "source": [
    "# Save Binary Matrix"
   ]
  },
  {
   "cell_type": "code",
   "execution_count": 30,
   "metadata": {
    "collapsed": true
   },
   "outputs": [],
   "source": [
    "filename = path+'drugbank_carrier_binary_matrix_%s.tsv.zip'% str(datetime.date.today())[0:7].replace('-', '_')\n",
    "binary_matrix.to_csv(filename, sep='\\t', compression='gzip')"
   ]
  },
  {
   "cell_type": "markdown",
   "metadata": {},
   "source": [
    "# Create Gene Set Library"
   ]
  },
  {
   "cell_type": "code",
   "execution_count": 31,
   "metadata": {
    "collapsed": true
   },
   "outputs": [],
   "source": [
    "name = 'drugbank_carrier_gene_set'"
   ]
  },
  {
   "cell_type": "code",
   "execution_count": 32,
   "metadata": {},
   "outputs": [
    {
     "name": "stdout",
     "output_type": "stream",
     "text": [
      "Progeres: 100%  270 Out of 270   \r"
     ]
    }
   ],
   "source": [
    "mf.createUpGeneSetLib(binary_matrix, path, name)"
   ]
  },
  {
   "cell_type": "markdown",
   "metadata": {},
   "source": [
    "# Create Attribute Library"
   ]
  },
  {
   "cell_type": "code",
   "execution_count": 33,
   "metadata": {
    "collapsed": true
   },
   "outputs": [],
   "source": [
    "name = 'drugbank_carrier_attribute_set'"
   ]
  },
  {
   "cell_type": "code",
   "execution_count": 34,
   "metadata": {},
   "outputs": [
    {
     "name": "stdout",
     "output_type": "stream",
     "text": [
      "Progeres: 100%  61 Out of 61   \r"
     ]
    }
   ],
   "source": [
    "mf.createUpAttributeSetLib(binary_matrix, path, name)"
   ]
  },
  {
   "cell_type": "markdown",
   "metadata": {},
   "source": [
    "# Create Gene Similarity Matrix"
   ]
  },
  {
   "cell_type": "code",
   "execution_count": 35,
   "metadata": {
    "collapsed": true
   },
   "outputs": [],
   "source": [
    "gene_similarity_matix = mf.createSimilarityMatrix(binary_matrix, 'jaccard')"
   ]
  },
  {
   "cell_type": "code",
   "execution_count": 36,
   "metadata": {},
   "outputs": [
    {
     "data": {
      "text/html": [
       "<div>\n",
       "<style scoped>\n",
       "    .dataframe tbody tr th:only-of-type {\n",
       "        vertical-align: middle;\n",
       "    }\n",
       "\n",
       "    .dataframe tbody tr th {\n",
       "        vertical-align: top;\n",
       "    }\n",
       "\n",
       "    .dataframe thead th {\n",
       "        text-align: right;\n",
       "    }\n",
       "</style>\n",
       "<table border=\"1\" class=\"dataframe\">\n",
       "  <thead>\n",
       "    <tr style=\"text-align: right;\">\n",
       "      <th></th>\n",
       "      <th>S100G</th>\n",
       "      <th>TESMIN</th>\n",
       "      <th>ATOX1</th>\n",
       "      <th>CRABP2</th>\n",
       "      <th>FABP5</th>\n",
       "      <th>MT1A</th>\n",
       "      <th>ORM2</th>\n",
       "      <th>ABCB1</th>\n",
       "      <th>ALB</th>\n",
       "      <th>MTF1</th>\n",
       "      <th>...</th>\n",
       "      <th>CP</th>\n",
       "      <th>MT1DP</th>\n",
       "      <th>MT1G</th>\n",
       "      <th>ATP1A4</th>\n",
       "      <th>APOM</th>\n",
       "      <th>TTR</th>\n",
       "      <th>POLR2D</th>\n",
       "      <th>F8</th>\n",
       "      <th>MT1X</th>\n",
       "      <th>ATP1A3</th>\n",
       "    </tr>\n",
       "    <tr>\n",
       "      <th></th>\n",
       "      <th></th>\n",
       "      <th></th>\n",
       "      <th></th>\n",
       "      <th></th>\n",
       "      <th></th>\n",
       "      <th></th>\n",
       "      <th></th>\n",
       "      <th></th>\n",
       "      <th></th>\n",
       "      <th></th>\n",
       "      <th></th>\n",
       "      <th></th>\n",
       "      <th></th>\n",
       "      <th></th>\n",
       "      <th></th>\n",
       "      <th></th>\n",
       "      <th></th>\n",
       "      <th></th>\n",
       "      <th></th>\n",
       "      <th></th>\n",
       "      <th></th>\n",
       "    </tr>\n",
       "  </thead>\n",
       "  <tbody>\n",
       "    <tr>\n",
       "      <th>S100G</th>\n",
       "      <td>1.0</td>\n",
       "      <td>0.0</td>\n",
       "      <td>0.0</td>\n",
       "      <td>0.0</td>\n",
       "      <td>0.0</td>\n",
       "      <td>0.0</td>\n",
       "      <td>0.0</td>\n",
       "      <td>0.0</td>\n",
       "      <td>0.0</td>\n",
       "      <td>0.0</td>\n",
       "      <td>...</td>\n",
       "      <td>0.0</td>\n",
       "      <td>0.0</td>\n",
       "      <td>0.0</td>\n",
       "      <td>0.0</td>\n",
       "      <td>0.0</td>\n",
       "      <td>0.0</td>\n",
       "      <td>0.0</td>\n",
       "      <td>0.0</td>\n",
       "      <td>0.0</td>\n",
       "      <td>0.0</td>\n",
       "    </tr>\n",
       "    <tr>\n",
       "      <th>TESMIN</th>\n",
       "      <td>0.0</td>\n",
       "      <td>1.0</td>\n",
       "      <td>1.0</td>\n",
       "      <td>0.0</td>\n",
       "      <td>0.0</td>\n",
       "      <td>1.0</td>\n",
       "      <td>0.0</td>\n",
       "      <td>0.0</td>\n",
       "      <td>0.0</td>\n",
       "      <td>1.0</td>\n",
       "      <td>...</td>\n",
       "      <td>1.0</td>\n",
       "      <td>1.0</td>\n",
       "      <td>1.0</td>\n",
       "      <td>0.0</td>\n",
       "      <td>0.0</td>\n",
       "      <td>0.0</td>\n",
       "      <td>0.0</td>\n",
       "      <td>1.0</td>\n",
       "      <td>1.0</td>\n",
       "      <td>0.0</td>\n",
       "    </tr>\n",
       "    <tr>\n",
       "      <th>ATOX1</th>\n",
       "      <td>0.0</td>\n",
       "      <td>1.0</td>\n",
       "      <td>1.0</td>\n",
       "      <td>0.0</td>\n",
       "      <td>0.0</td>\n",
       "      <td>1.0</td>\n",
       "      <td>0.0</td>\n",
       "      <td>0.0</td>\n",
       "      <td>0.0</td>\n",
       "      <td>1.0</td>\n",
       "      <td>...</td>\n",
       "      <td>1.0</td>\n",
       "      <td>1.0</td>\n",
       "      <td>1.0</td>\n",
       "      <td>0.0</td>\n",
       "      <td>0.0</td>\n",
       "      <td>0.0</td>\n",
       "      <td>0.0</td>\n",
       "      <td>1.0</td>\n",
       "      <td>1.0</td>\n",
       "      <td>0.0</td>\n",
       "    </tr>\n",
       "    <tr>\n",
       "      <th>CRABP2</th>\n",
       "      <td>0.0</td>\n",
       "      <td>0.0</td>\n",
       "      <td>0.0</td>\n",
       "      <td>1.0</td>\n",
       "      <td>0.0</td>\n",
       "      <td>0.0</td>\n",
       "      <td>0.0</td>\n",
       "      <td>0.0</td>\n",
       "      <td>0.0</td>\n",
       "      <td>0.0</td>\n",
       "      <td>...</td>\n",
       "      <td>0.0</td>\n",
       "      <td>0.0</td>\n",
       "      <td>0.0</td>\n",
       "      <td>0.0</td>\n",
       "      <td>0.0</td>\n",
       "      <td>0.0</td>\n",
       "      <td>0.0</td>\n",
       "      <td>0.0</td>\n",
       "      <td>0.0</td>\n",
       "      <td>0.0</td>\n",
       "    </tr>\n",
       "    <tr>\n",
       "      <th>FABP5</th>\n",
       "      <td>0.0</td>\n",
       "      <td>0.0</td>\n",
       "      <td>0.0</td>\n",
       "      <td>0.0</td>\n",
       "      <td>1.0</td>\n",
       "      <td>0.0</td>\n",
       "      <td>0.0</td>\n",
       "      <td>0.0</td>\n",
       "      <td>0.0</td>\n",
       "      <td>0.0</td>\n",
       "      <td>...</td>\n",
       "      <td>0.0</td>\n",
       "      <td>0.0</td>\n",
       "      <td>0.0</td>\n",
       "      <td>0.0</td>\n",
       "      <td>0.0</td>\n",
       "      <td>0.0</td>\n",
       "      <td>0.0</td>\n",
       "      <td>0.0</td>\n",
       "      <td>0.0</td>\n",
       "      <td>0.0</td>\n",
       "    </tr>\n",
       "  </tbody>\n",
       "</table>\n",
       "<p>5 rows × 61 columns</p>\n",
       "</div>"
      ],
      "text/plain": [
       "        S100G  TESMIN  ATOX1  CRABP2  FABP5  MT1A  ORM2  ABCB1  ALB  MTF1  \\\n",
       "                                                                            \n",
       "S100G     1.0     0.0    0.0     0.0    0.0   0.0   0.0    0.0  0.0   0.0   \n",
       "TESMIN    0.0     1.0    1.0     0.0    0.0   1.0   0.0    0.0  0.0   1.0   \n",
       "ATOX1     0.0     1.0    1.0     0.0    0.0   1.0   0.0    0.0  0.0   1.0   \n",
       "CRABP2    0.0     0.0    0.0     1.0    0.0   0.0   0.0    0.0  0.0   0.0   \n",
       "FABP5     0.0     0.0    0.0     0.0    1.0   0.0   0.0    0.0  0.0   0.0   \n",
       "\n",
       "         ...     CP  MT1DP  MT1G  ATP1A4  APOM  TTR  POLR2D   F8  MT1X  ATP1A3  \n",
       "         ...                                                                    \n",
       "S100G    ...    0.0    0.0   0.0     0.0   0.0  0.0     0.0  0.0   0.0     0.0  \n",
       "TESMIN   ...    1.0    1.0   1.0     0.0   0.0  0.0     0.0  1.0   1.0     0.0  \n",
       "ATOX1    ...    1.0    1.0   1.0     0.0   0.0  0.0     0.0  1.0   1.0     0.0  \n",
       "CRABP2   ...    0.0    0.0   0.0     0.0   0.0  0.0     0.0  0.0   0.0     0.0  \n",
       "FABP5    ...    0.0    0.0   0.0     0.0   0.0  0.0     0.0  0.0   0.0     0.0  \n",
       "\n",
       "[5 rows x 61 columns]"
      ]
     },
     "execution_count": 36,
     "metadata": {},
     "output_type": "execute_result"
    }
   ],
   "source": [
    "gene_similarity_matix.head()"
   ]
  },
  {
   "cell_type": "markdown",
   "metadata": {},
   "source": [
    "# Save Gene Similarity Matrix"
   ]
  },
  {
   "cell_type": "code",
   "execution_count": 37,
   "metadata": {
    "collapsed": true
   },
   "outputs": [],
   "source": [
    "filename = path+'drugbank_carrier_gene_similarity_matix_%s.tsv.zip'% str(datetime.date.today())[0:7].replace('-', '_')\n",
    "gene_similarity_matix.to_csv(filename, sep='\\t', compression='gzip')"
   ]
  },
  {
   "cell_type": "markdown",
   "metadata": {},
   "source": [
    "# Create Attribute Similarity matrix"
   ]
  },
  {
   "cell_type": "code",
   "execution_count": 38,
   "metadata": {
    "collapsed": true
   },
   "outputs": [],
   "source": [
    "attribute_similarity_matix = mf.createSimilarityMatrix(binary_matrix.T, 'jaccard')"
   ]
  },
  {
   "cell_type": "code",
   "execution_count": 39,
   "metadata": {},
   "outputs": [
    {
     "data": {
      "text/html": [
       "<div>\n",
       "<style scoped>\n",
       "    .dataframe tbody tr th:only-of-type {\n",
       "        vertical-align: middle;\n",
       "    }\n",
       "\n",
       "    .dataframe tbody tr th {\n",
       "        vertical-align: top;\n",
       "    }\n",
       "\n",
       "    .dataframe thead th {\n",
       "        text-align: right;\n",
       "    }\n",
       "</style>\n",
       "<table border=\"1\" class=\"dataframe\">\n",
       "  <thead>\n",
       "    <tr style=\"text-align: right;\">\n",
       "      <th></th>\n",
       "      <th>Riociguat</th>\n",
       "      <th>Erlotinib</th>\n",
       "      <th>Sucralfate</th>\n",
       "      <th>2-[(3,5-Dichloro-4-trioxidanylphenyl)amino]benzoic acid</th>\n",
       "      <th>Sodium lauryl sulfate</th>\n",
       "      <th>Glyburide</th>\n",
       "      <th>1-Anilino-8-Naphthalene Sulfonate</th>\n",
       "      <th>Maprotiline</th>\n",
       "      <th>Grazoprevir</th>\n",
       "      <th>Fenoprofen</th>\n",
       "      <th>...</th>\n",
       "      <th>Etodolac</th>\n",
       "      <th>(2S)-3-[(9H-fluoren-9-ylideneamino)oxy]-2-methylpropanoic acid</th>\n",
       "      <th>Oxcarbazepine</th>\n",
       "      <th>Acetylsalicylic acid</th>\n",
       "      <th>Tolbutamide</th>\n",
       "      <th>Vitamin A</th>\n",
       "      <th>Abiraterone</th>\n",
       "      <th>2-(3,5-DIMETHYLPHENYL)-1,3-BENZOXAZOLE</th>\n",
       "      <th>Iron saccharate</th>\n",
       "      <th>Sulfinpyrazone</th>\n",
       "    </tr>\n",
       "    <tr>\n",
       "      <th></th>\n",
       "      <th></th>\n",
       "      <th></th>\n",
       "      <th></th>\n",
       "      <th></th>\n",
       "      <th></th>\n",
       "      <th></th>\n",
       "      <th></th>\n",
       "      <th></th>\n",
       "      <th></th>\n",
       "      <th></th>\n",
       "      <th></th>\n",
       "      <th></th>\n",
       "      <th></th>\n",
       "      <th></th>\n",
       "      <th></th>\n",
       "      <th></th>\n",
       "      <th></th>\n",
       "      <th></th>\n",
       "      <th></th>\n",
       "      <th></th>\n",
       "      <th></th>\n",
       "    </tr>\n",
       "  </thead>\n",
       "  <tbody>\n",
       "    <tr>\n",
       "      <th>Riociguat</th>\n",
       "      <td>1.0</td>\n",
       "      <td>0.5</td>\n",
       "      <td>0.0</td>\n",
       "      <td>0.0</td>\n",
       "      <td>0.0</td>\n",
       "      <td>0.0</td>\n",
       "      <td>0.0</td>\n",
       "      <td>1.0</td>\n",
       "      <td>1.0</td>\n",
       "      <td>0.0</td>\n",
       "      <td>...</td>\n",
       "      <td>0.0</td>\n",
       "      <td>0.0</td>\n",
       "      <td>0.0</td>\n",
       "      <td>0.0</td>\n",
       "      <td>0.0</td>\n",
       "      <td>0.000000</td>\n",
       "      <td>1.0</td>\n",
       "      <td>0.0</td>\n",
       "      <td>0.0</td>\n",
       "      <td>0.0</td>\n",
       "    </tr>\n",
       "    <tr>\n",
       "      <th>Erlotinib</th>\n",
       "      <td>0.5</td>\n",
       "      <td>1.0</td>\n",
       "      <td>0.5</td>\n",
       "      <td>0.0</td>\n",
       "      <td>0.5</td>\n",
       "      <td>0.5</td>\n",
       "      <td>0.0</td>\n",
       "      <td>0.5</td>\n",
       "      <td>0.5</td>\n",
       "      <td>0.5</td>\n",
       "      <td>...</td>\n",
       "      <td>0.5</td>\n",
       "      <td>0.0</td>\n",
       "      <td>0.5</td>\n",
       "      <td>0.5</td>\n",
       "      <td>0.5</td>\n",
       "      <td>0.166667</td>\n",
       "      <td>0.5</td>\n",
       "      <td>0.0</td>\n",
       "      <td>0.0</td>\n",
       "      <td>0.0</td>\n",
       "    </tr>\n",
       "    <tr>\n",
       "      <th>Sucralfate</th>\n",
       "      <td>0.0</td>\n",
       "      <td>0.5</td>\n",
       "      <td>1.0</td>\n",
       "      <td>0.0</td>\n",
       "      <td>1.0</td>\n",
       "      <td>1.0</td>\n",
       "      <td>0.0</td>\n",
       "      <td>0.0</td>\n",
       "      <td>0.0</td>\n",
       "      <td>1.0</td>\n",
       "      <td>...</td>\n",
       "      <td>1.0</td>\n",
       "      <td>0.0</td>\n",
       "      <td>1.0</td>\n",
       "      <td>1.0</td>\n",
       "      <td>1.0</td>\n",
       "      <td>0.200000</td>\n",
       "      <td>0.0</td>\n",
       "      <td>0.0</td>\n",
       "      <td>0.0</td>\n",
       "      <td>0.0</td>\n",
       "    </tr>\n",
       "    <tr>\n",
       "      <th>2-[(3,5-Dichloro-4-trioxidanylphenyl)amino]benzoic acid</th>\n",
       "      <td>0.0</td>\n",
       "      <td>0.0</td>\n",
       "      <td>0.0</td>\n",
       "      <td>1.0</td>\n",
       "      <td>0.0</td>\n",
       "      <td>0.0</td>\n",
       "      <td>0.5</td>\n",
       "      <td>0.0</td>\n",
       "      <td>0.0</td>\n",
       "      <td>0.0</td>\n",
       "      <td>...</td>\n",
       "      <td>0.0</td>\n",
       "      <td>1.0</td>\n",
       "      <td>0.0</td>\n",
       "      <td>0.0</td>\n",
       "      <td>0.0</td>\n",
       "      <td>0.000000</td>\n",
       "      <td>0.0</td>\n",
       "      <td>1.0</td>\n",
       "      <td>0.0</td>\n",
       "      <td>0.0</td>\n",
       "    </tr>\n",
       "    <tr>\n",
       "      <th>Sodium lauryl sulfate</th>\n",
       "      <td>0.0</td>\n",
       "      <td>0.5</td>\n",
       "      <td>1.0</td>\n",
       "      <td>0.0</td>\n",
       "      <td>1.0</td>\n",
       "      <td>1.0</td>\n",
       "      <td>0.0</td>\n",
       "      <td>0.0</td>\n",
       "      <td>0.0</td>\n",
       "      <td>1.0</td>\n",
       "      <td>...</td>\n",
       "      <td>1.0</td>\n",
       "      <td>0.0</td>\n",
       "      <td>1.0</td>\n",
       "      <td>1.0</td>\n",
       "      <td>1.0</td>\n",
       "      <td>0.200000</td>\n",
       "      <td>0.0</td>\n",
       "      <td>0.0</td>\n",
       "      <td>0.0</td>\n",
       "      <td>0.0</td>\n",
       "    </tr>\n",
       "  </tbody>\n",
       "</table>\n",
       "<p>5 rows × 270 columns</p>\n",
       "</div>"
      ],
      "text/plain": [
       "                                                    Riociguat  Erlotinib  \\\n",
       "                                                                           \n",
       "Riociguat                                                 1.0        0.5   \n",
       "Erlotinib                                                 0.5        1.0   \n",
       "Sucralfate                                                0.0        0.5   \n",
       "2-[(3,5-Dichloro-4-trioxidanylphenyl)amino]benz...        0.0        0.0   \n",
       "Sodium lauryl sulfate                                     0.0        0.5   \n",
       "\n",
       "                                                    Sucralfate  \\\n",
       "                                                                 \n",
       "Riociguat                                                  0.0   \n",
       "Erlotinib                                                  0.5   \n",
       "Sucralfate                                                 1.0   \n",
       "2-[(3,5-Dichloro-4-trioxidanylphenyl)amino]benz...         0.0   \n",
       "Sodium lauryl sulfate                                      1.0   \n",
       "\n",
       "                                                    2-[(3,5-Dichloro-4-trioxidanylphenyl)amino]benzoic acid  \\\n",
       "                                                                                                              \n",
       "Riociguat                                                                                         0.0         \n",
       "Erlotinib                                                                                         0.0         \n",
       "Sucralfate                                                                                        0.0         \n",
       "2-[(3,5-Dichloro-4-trioxidanylphenyl)amino]benz...                                                1.0         \n",
       "Sodium lauryl sulfate                                                                             0.0         \n",
       "\n",
       "                                                    Sodium lauryl sulfate  \\\n",
       "                                                                            \n",
       "Riociguat                                                             0.0   \n",
       "Erlotinib                                                             0.5   \n",
       "Sucralfate                                                            1.0   \n",
       "2-[(3,5-Dichloro-4-trioxidanylphenyl)amino]benz...                    0.0   \n",
       "Sodium lauryl sulfate                                                 1.0   \n",
       "\n",
       "                                                    Glyburide  \\\n",
       "                                                                \n",
       "Riociguat                                                 0.0   \n",
       "Erlotinib                                                 0.5   \n",
       "Sucralfate                                                1.0   \n",
       "2-[(3,5-Dichloro-4-trioxidanylphenyl)amino]benz...        0.0   \n",
       "Sodium lauryl sulfate                                     1.0   \n",
       "\n",
       "                                                    1-Anilino-8-Naphthalene Sulfonate  \\\n",
       "                                                                                        \n",
       "Riociguat                                                                         0.0   \n",
       "Erlotinib                                                                         0.0   \n",
       "Sucralfate                                                                        0.0   \n",
       "2-[(3,5-Dichloro-4-trioxidanylphenyl)amino]benz...                                0.5   \n",
       "Sodium lauryl sulfate                                                             0.0   \n",
       "\n",
       "                                                    Maprotiline  Grazoprevir  \\\n",
       "                                                                               \n",
       "Riociguat                                                   1.0          1.0   \n",
       "Erlotinib                                                   0.5          0.5   \n",
       "Sucralfate                                                  0.0          0.0   \n",
       "2-[(3,5-Dichloro-4-trioxidanylphenyl)amino]benz...          0.0          0.0   \n",
       "Sodium lauryl sulfate                                       0.0          0.0   \n",
       "\n",
       "                                                    Fenoprofen  \\\n",
       "                                                                 \n",
       "Riociguat                                                  0.0   \n",
       "Erlotinib                                                  0.5   \n",
       "Sucralfate                                                 1.0   \n",
       "2-[(3,5-Dichloro-4-trioxidanylphenyl)amino]benz...         0.0   \n",
       "Sodium lauryl sulfate                                      1.0   \n",
       "\n",
       "                                                         ...        Etodolac  \\\n",
       "                                                         ...                   \n",
       "Riociguat                                                ...             0.0   \n",
       "Erlotinib                                                ...             0.5   \n",
       "Sucralfate                                               ...             1.0   \n",
       "2-[(3,5-Dichloro-4-trioxidanylphenyl)amino]benz...       ...             0.0   \n",
       "Sodium lauryl sulfate                                    ...             1.0   \n",
       "\n",
       "                                                    (2S)-3-[(9H-fluoren-9-ylideneamino)oxy]-2-methylpropanoic acid  \\\n",
       "                                                                                                                     \n",
       "Riociguat                                                                                         0.0                \n",
       "Erlotinib                                                                                         0.0                \n",
       "Sucralfate                                                                                        0.0                \n",
       "2-[(3,5-Dichloro-4-trioxidanylphenyl)amino]benz...                                                1.0                \n",
       "Sodium lauryl sulfate                                                                             0.0                \n",
       "\n",
       "                                                    Oxcarbazepine  \\\n",
       "                                                                    \n",
       "Riociguat                                                     0.0   \n",
       "Erlotinib                                                     0.5   \n",
       "Sucralfate                                                    1.0   \n",
       "2-[(3,5-Dichloro-4-trioxidanylphenyl)amino]benz...            0.0   \n",
       "Sodium lauryl sulfate                                         1.0   \n",
       "\n",
       "                                                    Acetylsalicylic acid  \\\n",
       "                                                                           \n",
       "Riociguat                                                            0.0   \n",
       "Erlotinib                                                            0.5   \n",
       "Sucralfate                                                           1.0   \n",
       "2-[(3,5-Dichloro-4-trioxidanylphenyl)amino]benz...                   0.0   \n",
       "Sodium lauryl sulfate                                                1.0   \n",
       "\n",
       "                                                    Tolbutamide  Vitamin A  \\\n",
       "                                                                             \n",
       "Riociguat                                                   0.0   0.000000   \n",
       "Erlotinib                                                   0.5   0.166667   \n",
       "Sucralfate                                                  1.0   0.200000   \n",
       "2-[(3,5-Dichloro-4-trioxidanylphenyl)amino]benz...          0.0   0.000000   \n",
       "Sodium lauryl sulfate                                       1.0   0.200000   \n",
       "\n",
       "                                                    Abiraterone  \\\n",
       "                                                                  \n",
       "Riociguat                                                   1.0   \n",
       "Erlotinib                                                   0.5   \n",
       "Sucralfate                                                  0.0   \n",
       "2-[(3,5-Dichloro-4-trioxidanylphenyl)amino]benz...          0.0   \n",
       "Sodium lauryl sulfate                                       0.0   \n",
       "\n",
       "                                                    2-(3,5-DIMETHYLPHENYL)-1,3-BENZOXAZOLE  \\\n",
       "                                                                                             \n",
       "Riociguat                                                                              0.0   \n",
       "Erlotinib                                                                              0.0   \n",
       "Sucralfate                                                                             0.0   \n",
       "2-[(3,5-Dichloro-4-trioxidanylphenyl)amino]benz...                                     1.0   \n",
       "Sodium lauryl sulfate                                                                  0.0   \n",
       "\n",
       "                                                    Iron saccharate  \\\n",
       "                                                                      \n",
       "Riociguat                                                       0.0   \n",
       "Erlotinib                                                       0.0   \n",
       "Sucralfate                                                      0.0   \n",
       "2-[(3,5-Dichloro-4-trioxidanylphenyl)amino]benz...              0.0   \n",
       "Sodium lauryl sulfate                                           0.0   \n",
       "\n",
       "                                                    Sulfinpyrazone  \n",
       "                                                                    \n",
       "Riociguat                                                      0.0  \n",
       "Erlotinib                                                      0.0  \n",
       "Sucralfate                                                     0.0  \n",
       "2-[(3,5-Dichloro-4-trioxidanylphenyl)amino]benz...             0.0  \n",
       "Sodium lauryl sulfate                                          0.0  \n",
       "\n",
       "[5 rows x 270 columns]"
      ]
     },
     "execution_count": 39,
     "metadata": {},
     "output_type": "execute_result"
    }
   ],
   "source": [
    "attribute_similarity_matix.head()"
   ]
  },
  {
   "cell_type": "markdown",
   "metadata": {},
   "source": [
    "# Save Attribute Similarity Matrix"
   ]
  },
  {
   "cell_type": "code",
   "execution_count": 40,
   "metadata": {
    "collapsed": true
   },
   "outputs": [],
   "source": [
    "filename = path+'drugbank_carrier_attribute_similarity_matix_%s.tsv.zip'% str(datetime.date.today())[0:7].replace('-', '_')\n",
    "attribute_similarity_matix.to_csv(filename, sep='\\t', compression='gzip')"
   ]
  },
  {
   "cell_type": "markdown",
   "metadata": {},
   "source": [
    "# Create Gene List"
   ]
  },
  {
   "cell_type": "code",
   "execution_count": 41,
   "metadata": {},
   "outputs": [
    {
     "name": "stdout",
     "output_type": "stream",
     "text": [
      "Progeres: 100%  61 Out of 61   \r"
     ]
    }
   ],
   "source": [
    "gene_list = mf.createGeneList(binary_matrix)"
   ]
  },
  {
   "cell_type": "code",
   "execution_count": 42,
   "metadata": {},
   "outputs": [
    {
     "data": {
      "text/html": [
       "<div>\n",
       "<style scoped>\n",
       "    .dataframe tbody tr th:only-of-type {\n",
       "        vertical-align: middle;\n",
       "    }\n",
       "\n",
       "    .dataframe tbody tr th {\n",
       "        vertical-align: top;\n",
       "    }\n",
       "\n",
       "    .dataframe thead th {\n",
       "        text-align: right;\n",
       "    }\n",
       "</style>\n",
       "<table border=\"1\" class=\"dataframe\">\n",
       "  <thead>\n",
       "    <tr style=\"text-align: right;\">\n",
       "      <th></th>\n",
       "      <th>GeneSym</th>\n",
       "      <th>GeneID</th>\n",
       "    </tr>\n",
       "  </thead>\n",
       "  <tbody>\n",
       "    <tr>\n",
       "      <th>0</th>\n",
       "      <td>S100G</td>\n",
       "      <td>795</td>\n",
       "    </tr>\n",
       "    <tr>\n",
       "      <th>1</th>\n",
       "      <td>TESMIN</td>\n",
       "      <td>9633</td>\n",
       "    </tr>\n",
       "    <tr>\n",
       "      <th>2</th>\n",
       "      <td>ATOX1</td>\n",
       "      <td>475</td>\n",
       "    </tr>\n",
       "    <tr>\n",
       "      <th>3</th>\n",
       "      <td>CRABP2</td>\n",
       "      <td>1382</td>\n",
       "    </tr>\n",
       "    <tr>\n",
       "      <th>4</th>\n",
       "      <td>FABP5</td>\n",
       "      <td>2171</td>\n",
       "    </tr>\n",
       "  </tbody>\n",
       "</table>\n",
       "</div>"
      ],
      "text/plain": [
       "  GeneSym GeneID\n",
       "0   S100G    795\n",
       "1  TESMIN   9633\n",
       "2   ATOX1    475\n",
       "3  CRABP2   1382\n",
       "4   FABP5   2171"
      ]
     },
     "execution_count": 42,
     "metadata": {},
     "output_type": "execute_result"
    }
   ],
   "source": [
    "gene_list.head()"
   ]
  },
  {
   "cell_type": "code",
   "execution_count": 43,
   "metadata": {},
   "outputs": [
    {
     "data": {
      "text/plain": [
       "(61, 2)"
      ]
     },
     "execution_count": 43,
     "metadata": {},
     "output_type": "execute_result"
    }
   ],
   "source": [
    "gene_list.shape"
   ]
  },
  {
   "cell_type": "markdown",
   "metadata": {},
   "source": [
    "# Save Gene List"
   ]
  },
  {
   "cell_type": "code",
   "execution_count": 44,
   "metadata": {
    "collapsed": true
   },
   "outputs": [],
   "source": [
    "filename = path+'drugbank_carrier_gene_list_%s.tsv.zip'% str(datetime.date.today())[0:7].replace('-', '_')\n",
    "gene_list.to_csv(filename, sep='\\t', index=False, compression='gzip')"
   ]
  },
  {
   "cell_type": "markdown",
   "metadata": {},
   "source": [
    "# Create Attribute List"
   ]
  },
  {
   "cell_type": "code",
   "execution_count": 45,
   "metadata": {
    "collapsed": true
   },
   "outputs": [],
   "source": [
    "attribute_list = mf.createAttributeList(binary_matrix)"
   ]
  },
  {
   "cell_type": "code",
   "execution_count": 46,
   "metadata": {},
   "outputs": [
    {
     "data": {
      "text/html": [
       "<div>\n",
       "<style scoped>\n",
       "    .dataframe tbody tr th:only-of-type {\n",
       "        vertical-align: middle;\n",
       "    }\n",
       "\n",
       "    .dataframe tbody tr th {\n",
       "        vertical-align: top;\n",
       "    }\n",
       "\n",
       "    .dataframe thead th {\n",
       "        text-align: right;\n",
       "    }\n",
       "</style>\n",
       "<table border=\"1\" class=\"dataframe\">\n",
       "  <thead>\n",
       "    <tr style=\"text-align: right;\">\n",
       "      <th></th>\n",
       "    </tr>\n",
       "    <tr>\n",
       "      <th>Attributes</th>\n",
       "    </tr>\n",
       "  </thead>\n",
       "  <tbody>\n",
       "    <tr>\n",
       "      <th>Riociguat</th>\n",
       "    </tr>\n",
       "    <tr>\n",
       "      <th>Erlotinib</th>\n",
       "    </tr>\n",
       "    <tr>\n",
       "      <th>Sucralfate</th>\n",
       "    </tr>\n",
       "    <tr>\n",
       "      <th>2-[(3,5-Dichloro-4-trioxidanylphenyl)amino]benzoic acid</th>\n",
       "    </tr>\n",
       "    <tr>\n",
       "      <th>Sodium lauryl sulfate</th>\n",
       "    </tr>\n",
       "  </tbody>\n",
       "</table>\n",
       "</div>"
      ],
      "text/plain": [
       "Empty DataFrame\n",
       "Columns: []\n",
       "Index: [Riociguat, Erlotinib, Sucralfate, 2-[(3,5-Dichloro-4-trioxidanylphenyl)amino]benzoic acid, Sodium lauryl sulfate]"
      ]
     },
     "execution_count": 46,
     "metadata": {},
     "output_type": "execute_result"
    }
   ],
   "source": [
    "attribute_list.head()"
   ]
  },
  {
   "cell_type": "code",
   "execution_count": 47,
   "metadata": {},
   "outputs": [
    {
     "data": {
      "text/plain": [
       "(270, 0)"
      ]
     },
     "execution_count": 47,
     "metadata": {},
     "output_type": "execute_result"
    }
   ],
   "source": [
    "attribute_list.shape"
   ]
  },
  {
   "cell_type": "markdown",
   "metadata": {},
   "source": [
    "# Save Attribute List"
   ]
  },
  {
   "cell_type": "code",
   "execution_count": 48,
   "metadata": {
    "collapsed": true
   },
   "outputs": [],
   "source": [
    "filename = path+'drugbank_carrier_attribute_list_%s.tsv.zip'% str(datetime.date.today())[0:7].replace('-', '_')\n",
    "attribute_list.to_csv(filename, sep='\\t', index=False, compression='gzip')"
   ]
  },
  {
   "cell_type": "markdown",
   "metadata": {},
   "source": [
    "# Create Gene-Attribute Edge List"
   ]
  },
  {
   "cell_type": "code",
   "execution_count": 49,
   "metadata": {
    "collapsed": true
   },
   "outputs": [],
   "source": [
    "name = 'drugbank_carrier_gene_attribute_edge_list'"
   ]
  },
  {
   "cell_type": "code",
   "execution_count": 50,
   "metadata": {},
   "outputs": [
    {
     "name": "stdout",
     "output_type": "stream",
     "text": [
      "Progeres: 100%  270 Out of 270   \n",
      "\n",
      " The number of statisticaly relevent gene-attribute associations is: 352\n"
     ]
    }
   ],
   "source": [
    "mf.createGeneAttributeEdgeList(binary_matrix, attribute_list, gene_list, path, name)"
   ]
  }
 ],
 "metadata": {
  "kernelspec": {
   "display_name": "Python [default]",
   "language": "python",
   "name": "python3"
  },
  "language_info": {
   "codemirror_mode": {
    "name": "ipython",
    "version": 3
   },
   "file_extension": ".py",
   "mimetype": "text/x-python",
   "name": "python",
   "nbconvert_exporter": "python",
   "pygments_lexer": "ipython3",
   "version": "3.5.2"
  }
 },
 "nbformat": 4,
 "nbformat_minor": 2
}
