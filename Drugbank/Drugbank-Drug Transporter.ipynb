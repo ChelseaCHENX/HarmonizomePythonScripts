{
 "cells": [
  {
   "cell_type": "markdown",
   "metadata": {},
   "source": [
    "# Drugbank-Drug Transporter"
   ]
  },
  {
   "cell_type": "markdown",
   "metadata": {},
   "source": [
    "Author: Moshe Silverstein <br/>\n",
    "Date: 03-2018 <br/>\n",
    "Data Source Home: http://www.drugbank.ca/ <br/>\n",
    "Data Source Downlaod: https://www.drugbank.ca/releases/latest"
   ]
  },
  {
   "cell_type": "code",
   "execution_count": 1,
   "metadata": {
    "collapsed": true
   },
   "outputs": [],
   "source": [
    "import sys, datetime, os\n",
    "import numpy as np\n",
    "import pandas as pd\n",
    "import importlib\n",
    "import my_functions as mf\n",
    "%matplotlib inline"
   ]
  },
  {
   "cell_type": "code",
   "execution_count": 2,
   "metadata": {
    "collapsed": true
   },
   "outputs": [],
   "source": [
    "from clustergrammer_widget import *\n",
    "net = Network(clustergrammer_widget)"
   ]
  },
  {
   "cell_type": "code",
   "execution_count": 3,
   "metadata": {},
   "outputs": [
    {
     "data": {
      "text/plain": [
       "<module 'my_functions' from '/Users/moshesilverstein/Documents/Harmonizome/Drugbank/my_functions.py'>"
      ]
     },
     "execution_count": 3,
     "metadata": {},
     "output_type": "execute_result"
    }
   ],
   "source": [
    "importlib.reload(mf)"
   ]
  },
  {
   "cell_type": "markdown",
   "metadata": {},
   "source": [
    "# Versions Of Modules In Use"
   ]
  },
  {
   "cell_type": "code",
   "execution_count": 4,
   "metadata": {},
   "outputs": [
    {
     "data": {
      "application/json": {
       "Software versions": [
        {
         "module": "Python",
         "version": "3.5.2 64bit [GCC 4.2.1 Compatible Apple LLVM 4.2 (clang-425.0.28)]"
        },
        {
         "module": "IPython",
         "version": "5.3.0"
        },
        {
         "module": "OS",
         "version": "Darwin 17.2.0 x86_64 i386 64bit"
        },
        {
         "module": "numpy",
         "version": "1.13.1"
        },
        {
         "module": "pandas",
         "version": "0.21.0"
        },
        {
         "module": "clustergrammer_widget",
         "version": "1.9.0"
        }
       ]
      },
      "text/html": [
       "<table><tr><th>Software</th><th>Version</th></tr><tr><td>Python</td><td>3.5.2 64bit [GCC 4.2.1 Compatible Apple LLVM 4.2 (clang-425.0.28)]</td></tr><tr><td>IPython</td><td>5.3.0</td></tr><tr><td>OS</td><td>Darwin 17.2.0 x86_64 i386 64bit</td></tr><tr><td>numpy</td><td>1.13.1</td></tr><tr><td>pandas</td><td>0.21.0</td></tr><tr><td>clustergrammer_widget</td><td>1.9.0</td></tr><tr><td colspan='2'>Wed Mar 28 15:57:17 2018 EDT</td></tr></table>"
      ],
      "text/latex": [
       "\\begin{tabular}{|l|l|}\\hline\n",
       "{\\bf Software} & {\\bf Version} \\\\ \\hline\\hline\n",
       "Python & 3.5.2 64bit [GCC 4.2.1 Compatible Apple LLVM 4.2 (clang-425.0.28)] \\\\ \\hline\n",
       "IPython & 5.3.0 \\\\ \\hline\n",
       "OS & Darwin 17.2.0 x86\\_64 i386 64bit \\\\ \\hline\n",
       "numpy & 1.13.1 \\\\ \\hline\n",
       "pandas & 0.21.0 \\\\ \\hline\n",
       "clustergrammer_widget & 1.9.0 \\\\ \\hline\n",
       "\\hline \\multicolumn{2}{|l|}{Wed Mar 28 15:57:17 2018 EDT} \\\\ \\hline\n",
       "\\end{tabular}\n"
      ],
      "text/plain": [
       "Software versions\n",
       "Python 3.5.2 64bit [GCC 4.2.1 Compatible Apple LLVM 4.2 (clang-425.0.28)]\n",
       "IPython 5.3.0\n",
       "OS Darwin 17.2.0 x86_64 i386 64bit\n",
       "numpy 1.13.1\n",
       "pandas 0.21.0\n",
       "clustergrammer_widget 1.9.0\n",
       "Wed Mar 28 15:57:17 2018 EDT"
      ]
     },
     "execution_count": 4,
     "metadata": {},
     "output_type": "execute_result"
    }
   ],
   "source": [
    "%load_ext version_information\n",
    "%version_information numpy, pandas, clustergrammer_widget "
   ]
  },
  {
   "cell_type": "markdown",
   "metadata": {},
   "source": [
    "# Path to Output Files"
   ]
  },
  {
   "cell_type": "code",
   "execution_count": 5,
   "metadata": {
    "collapsed": true
   },
   "outputs": [],
   "source": [
    "path = '/Users/moshesilverstein/Documents/Harmonizome/Drugbank/Output/'"
   ]
  },
  {
   "cell_type": "markdown",
   "metadata": {},
   "source": [
    "# Load Data"
   ]
  },
  {
   "cell_type": "code",
   "execution_count": 6,
   "metadata": {
    "collapsed": true
   },
   "outputs": [],
   "source": [
    "df = pd.read_csv('Input/drugbank_all_transporter_polypeptide_ids.csv/all.csv')"
   ]
  },
  {
   "cell_type": "code",
   "execution_count": 7,
   "metadata": {},
   "outputs": [
    {
     "data": {
      "text/html": [
       "<div>\n",
       "<style scoped>\n",
       "    .dataframe tbody tr th:only-of-type {\n",
       "        vertical-align: middle;\n",
       "    }\n",
       "\n",
       "    .dataframe tbody tr th {\n",
       "        vertical-align: top;\n",
       "    }\n",
       "\n",
       "    .dataframe thead th {\n",
       "        text-align: right;\n",
       "    }\n",
       "</style>\n",
       "<table border=\"1\" class=\"dataframe\">\n",
       "  <thead>\n",
       "    <tr style=\"text-align: right;\">\n",
       "      <th></th>\n",
       "      <th>ID</th>\n",
       "      <th>Name</th>\n",
       "      <th>Gene Name</th>\n",
       "      <th>GenBank Protein ID</th>\n",
       "      <th>GenBank Gene ID</th>\n",
       "      <th>UniProt ID</th>\n",
       "      <th>Uniprot Title</th>\n",
       "      <th>PDB ID</th>\n",
       "      <th>GeneCard ID</th>\n",
       "      <th>GenAtlas ID</th>\n",
       "      <th>HGNC ID</th>\n",
       "      <th>Species</th>\n",
       "      <th>Drug IDs</th>\n",
       "    </tr>\n",
       "  </thead>\n",
       "  <tbody>\n",
       "    <tr>\n",
       "      <th>0</th>\n",
       "      <td>Q9P0X4</td>\n",
       "      <td>Voltage-dependent T-type calcium channel subun...</td>\n",
       "      <td>CACNA1I</td>\n",
       "      <td>5565888.0</td>\n",
       "      <td>AF129133</td>\n",
       "      <td>Q9P0X4</td>\n",
       "      <td>CAC1I_HUMAN</td>\n",
       "      <td>NaN</td>\n",
       "      <td>NaN</td>\n",
       "      <td>CACNA1I</td>\n",
       "      <td>HGNC:1396</td>\n",
       "      <td>Human</td>\n",
       "      <td>DB09498</td>\n",
       "    </tr>\n",
       "    <tr>\n",
       "      <th>1</th>\n",
       "      <td>Q9UPY5</td>\n",
       "      <td>Cystine/glutamate transporter</td>\n",
       "      <td>SLC7A11</td>\n",
       "      <td>5668545.0</td>\n",
       "      <td>AB026891</td>\n",
       "      <td>Q9UPY5</td>\n",
       "      <td>XCT_HUMAN</td>\n",
       "      <td>NaN</td>\n",
       "      <td>NaN</td>\n",
       "      <td>SLC7A11</td>\n",
       "      <td>HGNC:11059</td>\n",
       "      <td>Human</td>\n",
       "      <td>DB01098; DB04348; DB05540; DB08834</td>\n",
       "    </tr>\n",
       "    <tr>\n",
       "      <th>2</th>\n",
       "      <td>Q9H2X9</td>\n",
       "      <td>Solute carrier family 12 member 5</td>\n",
       "      <td>SLC12A5</td>\n",
       "      <td>12003227.0</td>\n",
       "      <td>AF208159</td>\n",
       "      <td>Q9H2X9</td>\n",
       "      <td>S12A5_HUMAN</td>\n",
       "      <td>NaN</td>\n",
       "      <td>NaN</td>\n",
       "      <td>SLC12A5</td>\n",
       "      <td>HGNC:13818</td>\n",
       "      <td>Human</td>\n",
       "      <td>DB00761</td>\n",
       "    </tr>\n",
       "    <tr>\n",
       "      <th>3</th>\n",
       "      <td>P02792</td>\n",
       "      <td>Ferritin light chain</td>\n",
       "      <td>FTL</td>\n",
       "      <td>182514.0</td>\n",
       "      <td>M11147</td>\n",
       "      <td>P02792</td>\n",
       "      <td>FRIL_HUMAN</td>\n",
       "      <td>2FFX; 2FG4; 2FG8; 3KXU; 4V6B</td>\n",
       "      <td>NaN</td>\n",
       "      <td>FTL</td>\n",
       "      <td>HGNC:3999</td>\n",
       "      <td>Human</td>\n",
       "      <td>DB06784</td>\n",
       "    </tr>\n",
       "    <tr>\n",
       "      <th>4</th>\n",
       "      <td>Q12809</td>\n",
       "      <td>Potassium voltage-gated channel subfamily H me...</td>\n",
       "      <td>KCNH2</td>\n",
       "      <td>487738.0</td>\n",
       "      <td>U04270</td>\n",
       "      <td>Q12809</td>\n",
       "      <td>KCNH2_HUMAN</td>\n",
       "      <td>1BYW; 1UJL; 2L0W; 2L1M; 2L4R; 2LE7; 4HP9; 4HQA</td>\n",
       "      <td>NaN</td>\n",
       "      <td>KCNH2</td>\n",
       "      <td>HGNC:6251</td>\n",
       "      <td>Human</td>\n",
       "      <td>DB12364</td>\n",
       "    </tr>\n",
       "  </tbody>\n",
       "</table>\n",
       "</div>"
      ],
      "text/plain": [
       "       ID                                               Name Gene Name  \\\n",
       "0  Q9P0X4  Voltage-dependent T-type calcium channel subun...   CACNA1I   \n",
       "1  Q9UPY5                      Cystine/glutamate transporter   SLC7A11   \n",
       "2  Q9H2X9                  Solute carrier family 12 member 5   SLC12A5   \n",
       "3  P02792                               Ferritin light chain       FTL   \n",
       "4  Q12809  Potassium voltage-gated channel subfamily H me...     KCNH2   \n",
       "\n",
       "   GenBank Protein ID GenBank Gene ID UniProt ID Uniprot Title  \\\n",
       "0           5565888.0        AF129133     Q9P0X4   CAC1I_HUMAN   \n",
       "1           5668545.0        AB026891     Q9UPY5     XCT_HUMAN   \n",
       "2          12003227.0        AF208159     Q9H2X9   S12A5_HUMAN   \n",
       "3            182514.0          M11147     P02792    FRIL_HUMAN   \n",
       "4            487738.0          U04270     Q12809   KCNH2_HUMAN   \n",
       "\n",
       "                                           PDB ID  GeneCard ID GenAtlas ID  \\\n",
       "0                                             NaN          NaN     CACNA1I   \n",
       "1                                             NaN          NaN     SLC7A11   \n",
       "2                                             NaN          NaN     SLC12A5   \n",
       "3                    2FFX; 2FG4; 2FG8; 3KXU; 4V6B          NaN         FTL   \n",
       "4  1BYW; 1UJL; 2L0W; 2L1M; 2L4R; 2LE7; 4HP9; 4HQA          NaN       KCNH2   \n",
       "\n",
       "      HGNC ID Species                            Drug IDs  \n",
       "0   HGNC:1396   Human                             DB09498  \n",
       "1  HGNC:11059   Human  DB01098; DB04348; DB05540; DB08834  \n",
       "2  HGNC:13818   Human                             DB00761  \n",
       "3   HGNC:3999   Human                             DB06784  \n",
       "4   HGNC:6251   Human                             DB12364  "
      ]
     },
     "execution_count": 7,
     "metadata": {},
     "output_type": "execute_result"
    }
   ],
   "source": [
    "df.head()"
   ]
  },
  {
   "cell_type": "code",
   "execution_count": 8,
   "metadata": {},
   "outputs": [
    {
     "data": {
      "text/plain": [
       "(178, 13)"
      ]
     },
     "execution_count": 8,
     "metadata": {},
     "output_type": "execute_result"
    }
   ],
   "source": [
    "df.shape"
   ]
  },
  {
   "cell_type": "markdown",
   "metadata": {},
   "source": [
    "# Load Drug Meta Data"
   ]
  },
  {
   "cell_type": "code",
   "execution_count": 9,
   "metadata": {
    "collapsed": true
   },
   "outputs": [],
   "source": [
    "drug_meta = pd.read_csv('Input/drugbank_all_drug_links.csv.zip', index_col=0)"
   ]
  },
  {
   "cell_type": "code",
   "execution_count": 10,
   "metadata": {},
   "outputs": [
    {
     "data": {
      "text/html": [
       "<div>\n",
       "<style scoped>\n",
       "    .dataframe tbody tr th:only-of-type {\n",
       "        vertical-align: middle;\n",
       "    }\n",
       "\n",
       "    .dataframe tbody tr th {\n",
       "        vertical-align: top;\n",
       "    }\n",
       "\n",
       "    .dataframe thead th {\n",
       "        text-align: right;\n",
       "    }\n",
       "</style>\n",
       "<table border=\"1\" class=\"dataframe\">\n",
       "  <thead>\n",
       "    <tr style=\"text-align: right;\">\n",
       "      <th></th>\n",
       "      <th>Name</th>\n",
       "      <th>CAS Number</th>\n",
       "      <th>Drug Type</th>\n",
       "      <th>KEGG Compound ID</th>\n",
       "      <th>KEGG Drug ID</th>\n",
       "      <th>PubChem Compound ID</th>\n",
       "      <th>PubChem Substance ID</th>\n",
       "      <th>ChEBI ID</th>\n",
       "      <th>PharmGKB ID</th>\n",
       "      <th>HET ID</th>\n",
       "      <th>...</th>\n",
       "      <th>GenBank ID</th>\n",
       "      <th>DPD ID</th>\n",
       "      <th>RxList Link</th>\n",
       "      <th>Pdrhealth Link</th>\n",
       "      <th>Wikipedia ID</th>\n",
       "      <th>Drugs.com Link</th>\n",
       "      <th>NDC ID</th>\n",
       "      <th>ChemSpider ID</th>\n",
       "      <th>BindingDB ID</th>\n",
       "      <th>TTD ID</th>\n",
       "    </tr>\n",
       "    <tr>\n",
       "      <th>DrugBank ID</th>\n",
       "      <th></th>\n",
       "      <th></th>\n",
       "      <th></th>\n",
       "      <th></th>\n",
       "      <th></th>\n",
       "      <th></th>\n",
       "      <th></th>\n",
       "      <th></th>\n",
       "      <th></th>\n",
       "      <th></th>\n",
       "      <th></th>\n",
       "      <th></th>\n",
       "      <th></th>\n",
       "      <th></th>\n",
       "      <th></th>\n",
       "      <th></th>\n",
       "      <th></th>\n",
       "      <th></th>\n",
       "      <th></th>\n",
       "      <th></th>\n",
       "      <th></th>\n",
       "    </tr>\n",
       "  </thead>\n",
       "  <tbody>\n",
       "    <tr>\n",
       "      <th>DB00001</th>\n",
       "      <td>Lepirudin</td>\n",
       "      <td>138068-37-8</td>\n",
       "      <td>BiotechDrug</td>\n",
       "      <td>NaN</td>\n",
       "      <td>D06880</td>\n",
       "      <td>NaN</td>\n",
       "      <td>46507011.0</td>\n",
       "      <td>NaN</td>\n",
       "      <td>PA450195</td>\n",
       "      <td>NaN</td>\n",
       "      <td>...</td>\n",
       "      <td>NaN</td>\n",
       "      <td>11916</td>\n",
       "      <td>http://www.rxlist.com/cgi/generic/lepirudin.htm</td>\n",
       "      <td>NaN</td>\n",
       "      <td>Lepirudin</td>\n",
       "      <td>http://www.drugs.com/cdi/lepirudin.html</td>\n",
       "      <td>NaN</td>\n",
       "      <td>NaN</td>\n",
       "      <td>NaN</td>\n",
       "      <td>DAP000541</td>\n",
       "    </tr>\n",
       "    <tr>\n",
       "      <th>DB00002</th>\n",
       "      <td>Cetuximab</td>\n",
       "      <td>205923-56-4</td>\n",
       "      <td>BiotechDrug</td>\n",
       "      <td>NaN</td>\n",
       "      <td>D03455</td>\n",
       "      <td>NaN</td>\n",
       "      <td>46507042.0</td>\n",
       "      <td>NaN</td>\n",
       "      <td>PA10040</td>\n",
       "      <td>NaN</td>\n",
       "      <td>...</td>\n",
       "      <td>J00228</td>\n",
       "      <td>13175</td>\n",
       "      <td>http://www.rxlist.com/cgi/generic3/erbitux.htm</td>\n",
       "      <td>NaN</td>\n",
       "      <td>Cetuximab</td>\n",
       "      <td>http://www.drugs.com/cdi/cetuximab.html</td>\n",
       "      <td>NaN</td>\n",
       "      <td>NaN</td>\n",
       "      <td>NaN</td>\n",
       "      <td>DNC000788</td>\n",
       "    </tr>\n",
       "    <tr>\n",
       "      <th>DB00003</th>\n",
       "      <td>Dornase alfa</td>\n",
       "      <td>143831-71-4</td>\n",
       "      <td>BiotechDrug</td>\n",
       "      <td>NaN</td>\n",
       "      <td>NaN</td>\n",
       "      <td>NaN</td>\n",
       "      <td>46507792.0</td>\n",
       "      <td>NaN</td>\n",
       "      <td>PA10318</td>\n",
       "      <td>NaN</td>\n",
       "      <td>...</td>\n",
       "      <td>M55983</td>\n",
       "      <td>650</td>\n",
       "      <td>http://www.rxlist.com/cgi/generic/pulmozyme.htm</td>\n",
       "      <td>NaN</td>\n",
       "      <td>Dornase_alfa</td>\n",
       "      <td>http://www.drugs.com/cdi/dornase-alfa.html</td>\n",
       "      <td>NaN</td>\n",
       "      <td>NaN</td>\n",
       "      <td>NaN</td>\n",
       "      <td>DAP000981</td>\n",
       "    </tr>\n",
       "    <tr>\n",
       "      <th>DB00004</th>\n",
       "      <td>Denileukin diftitox</td>\n",
       "      <td>173146-27-5</td>\n",
       "      <td>BiotechDrug</td>\n",
       "      <td>NaN</td>\n",
       "      <td>NaN</td>\n",
       "      <td>NaN</td>\n",
       "      <td>46506950.0</td>\n",
       "      <td>NaN</td>\n",
       "      <td>PA164750594</td>\n",
       "      <td>NaN</td>\n",
       "      <td>...</td>\n",
       "      <td>V01536</td>\n",
       "      <td>NaN</td>\n",
       "      <td>http://www.rxlist.com/cgi/generic2/denileukin.htm</td>\n",
       "      <td>NaN</td>\n",
       "      <td>Denileukin_diftitox</td>\n",
       "      <td>http://www.drugs.com/cdi/denileukin-diftitox.html</td>\n",
       "      <td>NaN</td>\n",
       "      <td>NaN</td>\n",
       "      <td>NaN</td>\n",
       "      <td>DAP001098</td>\n",
       "    </tr>\n",
       "    <tr>\n",
       "      <th>DB00005</th>\n",
       "      <td>Etanercept</td>\n",
       "      <td>185243-69-0</td>\n",
       "      <td>BiotechDrug</td>\n",
       "      <td>C07897</td>\n",
       "      <td>D00742</td>\n",
       "      <td>NaN</td>\n",
       "      <td>46506732.0</td>\n",
       "      <td>NaN</td>\n",
       "      <td>PA449515</td>\n",
       "      <td>NaN</td>\n",
       "      <td>...</td>\n",
       "      <td>M32315</td>\n",
       "      <td>12032</td>\n",
       "      <td>http://www.rxlist.com/cgi/generic/etanercept.htm</td>\n",
       "      <td>NaN</td>\n",
       "      <td>Etanercept</td>\n",
       "      <td>http://www.drugs.com/cdi/etanercept.html</td>\n",
       "      <td>NaN</td>\n",
       "      <td>NaN</td>\n",
       "      <td>NaN</td>\n",
       "      <td>DNC000605</td>\n",
       "    </tr>\n",
       "  </tbody>\n",
       "</table>\n",
       "<p>5 rows × 22 columns</p>\n",
       "</div>"
      ],
      "text/plain": [
       "                            Name   CAS Number    Drug Type KEGG Compound ID  \\\n",
       "DrugBank ID                                                                   \n",
       "DB00001                Lepirudin  138068-37-8  BiotechDrug              NaN   \n",
       "DB00002                Cetuximab  205923-56-4  BiotechDrug              NaN   \n",
       "DB00003             Dornase alfa  143831-71-4  BiotechDrug              NaN   \n",
       "DB00004      Denileukin diftitox  173146-27-5  BiotechDrug              NaN   \n",
       "DB00005               Etanercept  185243-69-0  BiotechDrug           C07897   \n",
       "\n",
       "            KEGG Drug ID  PubChem Compound ID  PubChem Substance ID  ChEBI ID  \\\n",
       "DrugBank ID                                                                     \n",
       "DB00001           D06880                  NaN            46507011.0       NaN   \n",
       "DB00002           D03455                  NaN            46507042.0       NaN   \n",
       "DB00003              NaN                  NaN            46507792.0       NaN   \n",
       "DB00004              NaN                  NaN            46506950.0       NaN   \n",
       "DB00005           D00742                  NaN            46506732.0       NaN   \n",
       "\n",
       "             PharmGKB ID HET ID    ...     GenBank ID DPD ID  \\\n",
       "DrugBank ID                        ...                         \n",
       "DB00001         PA450195    NaN    ...            NaN  11916   \n",
       "DB00002          PA10040    NaN    ...         J00228  13175   \n",
       "DB00003          PA10318    NaN    ...         M55983    650   \n",
       "DB00004      PA164750594    NaN    ...         V01536    NaN   \n",
       "DB00005         PA449515    NaN    ...         M32315  12032   \n",
       "\n",
       "                                                   RxList Link Pdrhealth Link  \\\n",
       "DrugBank ID                                                                     \n",
       "DB00001        http://www.rxlist.com/cgi/generic/lepirudin.htm            NaN   \n",
       "DB00002         http://www.rxlist.com/cgi/generic3/erbitux.htm            NaN   \n",
       "DB00003        http://www.rxlist.com/cgi/generic/pulmozyme.htm            NaN   \n",
       "DB00004      http://www.rxlist.com/cgi/generic2/denileukin.htm            NaN   \n",
       "DB00005       http://www.rxlist.com/cgi/generic/etanercept.htm            NaN   \n",
       "\n",
       "                    Wikipedia ID  \\\n",
       "DrugBank ID                        \n",
       "DB00001                Lepirudin   \n",
       "DB00002                Cetuximab   \n",
       "DB00003             Dornase_alfa   \n",
       "DB00004      Denileukin_diftitox   \n",
       "DB00005               Etanercept   \n",
       "\n",
       "                                                Drugs.com Link NDC ID  \\\n",
       "DrugBank ID                                                             \n",
       "DB00001                http://www.drugs.com/cdi/lepirudin.html    NaN   \n",
       "DB00002                http://www.drugs.com/cdi/cetuximab.html    NaN   \n",
       "DB00003             http://www.drugs.com/cdi/dornase-alfa.html    NaN   \n",
       "DB00004      http://www.drugs.com/cdi/denileukin-diftitox.html    NaN   \n",
       "DB00005               http://www.drugs.com/cdi/etanercept.html    NaN   \n",
       "\n",
       "            ChemSpider ID  BindingDB ID     TTD ID  \n",
       "DrugBank ID                                         \n",
       "DB00001               NaN           NaN  DAP000541  \n",
       "DB00002               NaN           NaN  DNC000788  \n",
       "DB00003               NaN           NaN  DAP000981  \n",
       "DB00004               NaN           NaN  DAP001098  \n",
       "DB00005               NaN           NaN  DNC000605  \n",
       "\n",
       "[5 rows x 22 columns]"
      ]
     },
     "execution_count": 10,
     "metadata": {},
     "output_type": "execute_result"
    }
   ],
   "source": [
    "drug_meta.head()"
   ]
  },
  {
   "cell_type": "code",
   "execution_count": 11,
   "metadata": {},
   "outputs": [
    {
     "data": {
      "text/plain": [
       "(10562, 22)"
      ]
     },
     "execution_count": 11,
     "metadata": {},
     "output_type": "execute_result"
    }
   ],
   "source": [
    "drug_meta.shape"
   ]
  },
  {
   "cell_type": "markdown",
   "metadata": {},
   "source": [
    "# Get Relevant Data"
   ]
  },
  {
   "cell_type": "code",
   "execution_count": 12,
   "metadata": {
    "collapsed": true
   },
   "outputs": [],
   "source": [
    "# get only relevetn spcies\n",
    "\n",
    "human = df[df['Species'] == 'Human'].copy()\n",
    "mouse = df[df['Species'] == 'Mouse'].copy()\n",
    "rat = df[df['Species'] == 'Rat'].copy()\n",
    "\n",
    "df = pd.concat([human, mouse])\n",
    "df = pd.concat([df, rat])"
   ]
  },
  {
   "cell_type": "code",
   "execution_count": 13,
   "metadata": {
    "collapsed": true
   },
   "outputs": [],
   "source": [
    "df = df[['Gene Name', 'Drug IDs']]"
   ]
  },
  {
   "cell_type": "code",
   "execution_count": 14,
   "metadata": {},
   "outputs": [
    {
     "data": {
      "text/plain": [
       "(156, 2)"
      ]
     },
     "execution_count": 14,
     "metadata": {},
     "output_type": "execute_result"
    }
   ],
   "source": [
    "df.shape"
   ]
  },
  {
   "cell_type": "code",
   "execution_count": 15,
   "metadata": {},
   "outputs": [
    {
     "data": {
      "text/html": [
       "<div>\n",
       "<style scoped>\n",
       "    .dataframe tbody tr th:only-of-type {\n",
       "        vertical-align: middle;\n",
       "    }\n",
       "\n",
       "    .dataframe tbody tr th {\n",
       "        vertical-align: top;\n",
       "    }\n",
       "\n",
       "    .dataframe thead th {\n",
       "        text-align: right;\n",
       "    }\n",
       "</style>\n",
       "<table border=\"1\" class=\"dataframe\">\n",
       "  <thead>\n",
       "    <tr style=\"text-align: right;\">\n",
       "      <th></th>\n",
       "      <th>Gene Name</th>\n",
       "      <th>Drug IDs</th>\n",
       "    </tr>\n",
       "  </thead>\n",
       "  <tbody>\n",
       "    <tr>\n",
       "      <th>0</th>\n",
       "      <td>CACNA1I</td>\n",
       "      <td>DB09498</td>\n",
       "    </tr>\n",
       "    <tr>\n",
       "      <th>1</th>\n",
       "      <td>SLC7A11</td>\n",
       "      <td>DB01098; DB04348; DB05540; DB08834</td>\n",
       "    </tr>\n",
       "    <tr>\n",
       "      <th>2</th>\n",
       "      <td>SLC12A5</td>\n",
       "      <td>DB00761</td>\n",
       "    </tr>\n",
       "    <tr>\n",
       "      <th>3</th>\n",
       "      <td>FTL</td>\n",
       "      <td>DB06784</td>\n",
       "    </tr>\n",
       "    <tr>\n",
       "      <th>4</th>\n",
       "      <td>KCNH2</td>\n",
       "      <td>DB12364</td>\n",
       "    </tr>\n",
       "  </tbody>\n",
       "</table>\n",
       "</div>"
      ],
      "text/plain": [
       "  Gene Name                            Drug IDs\n",
       "0   CACNA1I                             DB09498\n",
       "1   SLC7A11  DB01098; DB04348; DB05540; DB08834\n",
       "2   SLC12A5                             DB00761\n",
       "3       FTL                             DB06784\n",
       "4     KCNH2                             DB12364"
      ]
     },
     "execution_count": 15,
     "metadata": {},
     "output_type": "execute_result"
    }
   ],
   "source": [
    "df.head()"
   ]
  },
  {
   "cell_type": "code",
   "execution_count": 16,
   "metadata": {},
   "outputs": [
    {
     "name": "stdout",
     "output_type": "stream",
     "text": [
      "Progeres: 100%  156 Out of 156   \r"
     ]
    }
   ],
   "source": [
    "df_interactions = pd.DataFrame()\n",
    "\n",
    "for i, index in enumerate(df.index):\n",
    "    \n",
    "    progressPercent = ((i+1)/len(df.index))*100\n",
    "\n",
    "    sys.stdout.write(\"Progeres: %d%%  %d Out of %d   \\r\" % (progressPercent, (i+1), len(df.index)))\n",
    "    sys.stdout.flush()\n",
    "    \n",
    "    if type(df.loc[index, 'Gene Name']) != float:\n",
    "        lst2 = df.loc[index, 'Drug IDs'].split(';')\n",
    "        lst1 = [df.loc[index, 'Gene Name'].split('(')[0]]*(len(lst2))\n",
    "        temp = pd.DataFrame()\n",
    "        temp['Drug'] = lst2\n",
    "        temp['Gene Name'] = lst1\n",
    "        df_interactions = pd.concat([df_interactions, temp]) "
   ]
  },
  {
   "cell_type": "code",
   "execution_count": 17,
   "metadata": {},
   "outputs": [
    {
     "data": {
      "text/html": [
       "<div>\n",
       "<style scoped>\n",
       "    .dataframe tbody tr th:only-of-type {\n",
       "        vertical-align: middle;\n",
       "    }\n",
       "\n",
       "    .dataframe tbody tr th {\n",
       "        vertical-align: top;\n",
       "    }\n",
       "\n",
       "    .dataframe thead th {\n",
       "        text-align: right;\n",
       "    }\n",
       "</style>\n",
       "<table border=\"1\" class=\"dataframe\">\n",
       "  <thead>\n",
       "    <tr style=\"text-align: right;\">\n",
       "      <th></th>\n",
       "      <th>Drug</th>\n",
       "      <th>Gene Name</th>\n",
       "    </tr>\n",
       "  </thead>\n",
       "  <tbody>\n",
       "    <tr>\n",
       "      <th>0</th>\n",
       "      <td>DB09498</td>\n",
       "      <td>CACNA1I</td>\n",
       "    </tr>\n",
       "    <tr>\n",
       "      <th>0</th>\n",
       "      <td>DB01098</td>\n",
       "      <td>SLC7A11</td>\n",
       "    </tr>\n",
       "    <tr>\n",
       "      <th>1</th>\n",
       "      <td>DB04348</td>\n",
       "      <td>SLC7A11</td>\n",
       "    </tr>\n",
       "    <tr>\n",
       "      <th>2</th>\n",
       "      <td>DB05540</td>\n",
       "      <td>SLC7A11</td>\n",
       "    </tr>\n",
       "    <tr>\n",
       "      <th>3</th>\n",
       "      <td>DB08834</td>\n",
       "      <td>SLC7A11</td>\n",
       "    </tr>\n",
       "  </tbody>\n",
       "</table>\n",
       "</div>"
      ],
      "text/plain": [
       "       Drug Gene Name\n",
       "0   DB09498   CACNA1I\n",
       "0   DB01098   SLC7A11\n",
       "1   DB04348   SLC7A11\n",
       "2   DB05540   SLC7A11\n",
       "3   DB08834   SLC7A11"
      ]
     },
     "execution_count": 17,
     "metadata": {},
     "output_type": "execute_result"
    }
   ],
   "source": [
    "df_interactions.head()"
   ]
  },
  {
   "cell_type": "code",
   "execution_count": 18,
   "metadata": {},
   "outputs": [
    {
     "data": {
      "text/plain": [
       "(1786, 2)"
      ]
     },
     "execution_count": 18,
     "metadata": {},
     "output_type": "execute_result"
    }
   ],
   "source": [
    "df_interactions.shape"
   ]
  },
  {
   "cell_type": "markdown",
   "metadata": {},
   "source": [
    "# Map Drug Id's to drug names"
   ]
  },
  {
   "cell_type": "code",
   "execution_count": 19,
   "metadata": {
    "collapsed": true
   },
   "outputs": [],
   "source": [
    "df_interactions.reset_index(inplace=True)"
   ]
  },
  {
   "cell_type": "code",
   "execution_count": 20,
   "metadata": {
    "collapsed": true
   },
   "outputs": [],
   "source": [
    "df_interactions.drop('index', axis=1, inplace=True)"
   ]
  },
  {
   "cell_type": "code",
   "execution_count": 21,
   "metadata": {},
   "outputs": [
    {
     "name": "stdout",
     "output_type": "stream",
     "text": [
      "Progeres: 100%  1786 Out of 1786   \r"
     ]
    }
   ],
   "source": [
    "lst = []\n",
    "\n",
    "for i, index in enumerate(df_interactions.index):\n",
    "    \n",
    "    progressPercent = ((i+1)/len(df_interactions.index))*100\n",
    "\n",
    "    sys.stdout.write(\"Progeres: %d%%  %d Out of %d   \\r\" % (progressPercent, (i+1), len(df_interactions.index)))\n",
    "    sys.stdout.flush()\n",
    "    \n",
    "    if len(df_interactions.loc[index, 'Drug'].split(' ')) > 1:\n",
    "        lst.append(drug_meta.loc[df_interactions.loc[index, 'Drug'].split(' ')[1],'Name'])\n",
    "    else:\n",
    "        lst.append(drug_meta.loc[df_interactions.loc[index, 'Drug'],'Name'])\n",
    "        \n",
    "df_interactions['Drug'] = lst"
   ]
  },
  {
   "cell_type": "markdown",
   "metadata": {},
   "source": [
    "# Map Gene Symbols To Up-to-date Approved Gene Symbols"
   ]
  },
  {
   "cell_type": "code",
   "execution_count": 22,
   "metadata": {
    "collapsed": true
   },
   "outputs": [],
   "source": [
    "df_interactions.set_index('Gene Name', inplace=True)"
   ]
  },
  {
   "cell_type": "code",
   "execution_count": 23,
   "metadata": {},
   "outputs": [
    {
     "name": "stdout",
     "output_type": "stream",
     "text": [
      "Progeres: 100%  1786 Out of 1786   \r"
     ]
    }
   ],
   "source": [
    "mf.mapgenesymbols(df_interactions)"
   ]
  },
  {
   "cell_type": "markdown",
   "metadata": {},
   "source": [
    "# Drop Duplicates"
   ]
  },
  {
   "cell_type": "code",
   "execution_count": 24,
   "metadata": {
    "collapsed": true
   },
   "outputs": [],
   "source": [
    "df_interactions.reset_index(inplace=True)"
   ]
  },
  {
   "cell_type": "code",
   "execution_count": 25,
   "metadata": {
    "collapsed": true
   },
   "outputs": [],
   "source": [
    "df_interactions.drop_duplicates(inplace=True)"
   ]
  },
  {
   "cell_type": "code",
   "execution_count": 26,
   "metadata": {},
   "outputs": [
    {
     "data": {
      "text/plain": [
       "(1784, 2)"
      ]
     },
     "execution_count": 26,
     "metadata": {},
     "output_type": "execute_result"
    }
   ],
   "source": [
    "df_interactions.shape"
   ]
  },
  {
   "cell_type": "markdown",
   "metadata": {},
   "source": [
    "# Create Binary Matrix"
   ]
  },
  {
   "cell_type": "code",
   "execution_count": 27,
   "metadata": {},
   "outputs": [
    {
     "name": "stdout",
     "output_type": "stream",
     "text": [
      "Progeres: 100%  154 Out of 154   \r"
     ]
    }
   ],
   "source": [
    "binary_matrix = mf.createBinaryMatrix(df_interactions)"
   ]
  },
  {
   "cell_type": "code",
   "execution_count": 28,
   "metadata": {},
   "outputs": [
    {
     "data": {
      "text/html": [
       "<div>\n",
       "<style scoped>\n",
       "    .dataframe tbody tr th:only-of-type {\n",
       "        vertical-align: middle;\n",
       "    }\n",
       "\n",
       "    .dataframe tbody tr th {\n",
       "        vertical-align: top;\n",
       "    }\n",
       "\n",
       "    .dataframe thead th {\n",
       "        text-align: right;\n",
       "    }\n",
       "</style>\n",
       "<table border=\"1\" class=\"dataframe\">\n",
       "  <thead>\n",
       "    <tr style=\"text-align: right;\">\n",
       "      <th></th>\n",
       "      <th>Cladribine</th>\n",
       "      <th>Deutetrabenazine</th>\n",
       "      <th>Technetium Tc-99m mebrofenin</th>\n",
       "      <th>Eletriptan</th>\n",
       "      <th>Cefepime</th>\n",
       "      <th>L-Aspartic Acid</th>\n",
       "      <th>Fludarabine</th>\n",
       "      <th>Saquinavir</th>\n",
       "      <th>Fluvoxamine</th>\n",
       "      <th>Fusidic Acid</th>\n",
       "      <th>...</th>\n",
       "      <th>Morphine</th>\n",
       "      <th>Acamprosate</th>\n",
       "      <th>Novobiocin</th>\n",
       "      <th>Cefotiam</th>\n",
       "      <th>Carbamazepine</th>\n",
       "      <th>Nisoldipine</th>\n",
       "      <th>Alectinib</th>\n",
       "      <th>Mebendazole</th>\n",
       "      <th>Amantadine</th>\n",
       "      <th>Cobicistat</th>\n",
       "    </tr>\n",
       "  </thead>\n",
       "  <tbody>\n",
       "    <tr>\n",
       "      <th>ABCC5</th>\n",
       "      <td>0</td>\n",
       "      <td>0</td>\n",
       "      <td>0</td>\n",
       "      <td>0</td>\n",
       "      <td>0</td>\n",
       "      <td>0</td>\n",
       "      <td>0</td>\n",
       "      <td>0</td>\n",
       "      <td>0</td>\n",
       "      <td>0</td>\n",
       "      <td>...</td>\n",
       "      <td>0</td>\n",
       "      <td>0</td>\n",
       "      <td>0</td>\n",
       "      <td>0</td>\n",
       "      <td>0</td>\n",
       "      <td>0</td>\n",
       "      <td>0</td>\n",
       "      <td>0</td>\n",
       "      <td>0</td>\n",
       "      <td>0</td>\n",
       "    </tr>\n",
       "    <tr>\n",
       "      <th>SLCO3A1</th>\n",
       "      <td>0</td>\n",
       "      <td>0</td>\n",
       "      <td>0</td>\n",
       "      <td>0</td>\n",
       "      <td>0</td>\n",
       "      <td>0</td>\n",
       "      <td>0</td>\n",
       "      <td>0</td>\n",
       "      <td>0</td>\n",
       "      <td>0</td>\n",
       "      <td>...</td>\n",
       "      <td>0</td>\n",
       "      <td>0</td>\n",
       "      <td>0</td>\n",
       "      <td>0</td>\n",
       "      <td>0</td>\n",
       "      <td>0</td>\n",
       "      <td>0</td>\n",
       "      <td>0</td>\n",
       "      <td>0</td>\n",
       "      <td>0</td>\n",
       "    </tr>\n",
       "    <tr>\n",
       "      <th>SLC7A7</th>\n",
       "      <td>0</td>\n",
       "      <td>0</td>\n",
       "      <td>0</td>\n",
       "      <td>0</td>\n",
       "      <td>0</td>\n",
       "      <td>0</td>\n",
       "      <td>0</td>\n",
       "      <td>0</td>\n",
       "      <td>0</td>\n",
       "      <td>0</td>\n",
       "      <td>...</td>\n",
       "      <td>0</td>\n",
       "      <td>0</td>\n",
       "      <td>0</td>\n",
       "      <td>0</td>\n",
       "      <td>0</td>\n",
       "      <td>0</td>\n",
       "      <td>0</td>\n",
       "      <td>0</td>\n",
       "      <td>0</td>\n",
       "      <td>0</td>\n",
       "    </tr>\n",
       "    <tr>\n",
       "      <th>SLC6A3</th>\n",
       "      <td>0</td>\n",
       "      <td>0</td>\n",
       "      <td>0</td>\n",
       "      <td>0</td>\n",
       "      <td>0</td>\n",
       "      <td>0</td>\n",
       "      <td>0</td>\n",
       "      <td>0</td>\n",
       "      <td>0</td>\n",
       "      <td>0</td>\n",
       "      <td>...</td>\n",
       "      <td>0</td>\n",
       "      <td>0</td>\n",
       "      <td>0</td>\n",
       "      <td>0</td>\n",
       "      <td>0</td>\n",
       "      <td>0</td>\n",
       "      <td>0</td>\n",
       "      <td>0</td>\n",
       "      <td>0</td>\n",
       "      <td>0</td>\n",
       "    </tr>\n",
       "    <tr>\n",
       "      <th>SLC22A5</th>\n",
       "      <td>0</td>\n",
       "      <td>0</td>\n",
       "      <td>0</td>\n",
       "      <td>0</td>\n",
       "      <td>1</td>\n",
       "      <td>0</td>\n",
       "      <td>0</td>\n",
       "      <td>0</td>\n",
       "      <td>0</td>\n",
       "      <td>0</td>\n",
       "      <td>...</td>\n",
       "      <td>0</td>\n",
       "      <td>0</td>\n",
       "      <td>0</td>\n",
       "      <td>0</td>\n",
       "      <td>0</td>\n",
       "      <td>0</td>\n",
       "      <td>0</td>\n",
       "      <td>0</td>\n",
       "      <td>0</td>\n",
       "      <td>0</td>\n",
       "    </tr>\n",
       "  </tbody>\n",
       "</table>\n",
       "<p>5 rows × 609 columns</p>\n",
       "</div>"
      ],
      "text/plain": [
       "         Cladribine  Deutetrabenazine  Technetium Tc-99m mebrofenin  \\\n",
       "ABCC5             0                 0                             0   \n",
       "SLCO3A1           0                 0                             0   \n",
       "SLC7A7            0                 0                             0   \n",
       "SLC6A3            0                 0                             0   \n",
       "SLC22A5           0                 0                             0   \n",
       "\n",
       "         Eletriptan  Cefepime  L-Aspartic Acid  Fludarabine  Saquinavir  \\\n",
       "ABCC5             0         0                0            0           0   \n",
       "SLCO3A1           0         0                0            0           0   \n",
       "SLC7A7            0         0                0            0           0   \n",
       "SLC6A3            0         0                0            0           0   \n",
       "SLC22A5           0         1                0            0           0   \n",
       "\n",
       "         Fluvoxamine  Fusidic Acid     ...      Morphine  Acamprosate  \\\n",
       "ABCC5              0             0     ...             0            0   \n",
       "SLCO3A1            0             0     ...             0            0   \n",
       "SLC7A7             0             0     ...             0            0   \n",
       "SLC6A3             0             0     ...             0            0   \n",
       "SLC22A5            0             0     ...             0            0   \n",
       "\n",
       "         Novobiocin  Cefotiam  Carbamazepine  Nisoldipine  Alectinib  \\\n",
       "ABCC5             0         0              0            0          0   \n",
       "SLCO3A1           0         0              0            0          0   \n",
       "SLC7A7            0         0              0            0          0   \n",
       "SLC6A3            0         0              0            0          0   \n",
       "SLC22A5           0         0              0            0          0   \n",
       "\n",
       "         Mebendazole  Amantadine  Cobicistat  \n",
       "ABCC5              0           0           0  \n",
       "SLCO3A1            0           0           0  \n",
       "SLC7A7             0           0           0  \n",
       "SLC6A3             0           0           0  \n",
       "SLC22A5            0           0           0  \n",
       "\n",
       "[5 rows x 609 columns]"
      ]
     },
     "execution_count": 28,
     "metadata": {},
     "output_type": "execute_result"
    }
   ],
   "source": [
    "binary_matrix.head()"
   ]
  },
  {
   "cell_type": "code",
   "execution_count": 29,
   "metadata": {},
   "outputs": [
    {
     "data": {
      "text/plain": [
       "(154, 609)"
      ]
     },
     "execution_count": 29,
     "metadata": {},
     "output_type": "execute_result"
    }
   ],
   "source": [
    "binary_matrix.shape"
   ]
  },
  {
   "cell_type": "markdown",
   "metadata": {},
   "source": [
    "# Save Binary Matrix"
   ]
  },
  {
   "cell_type": "code",
   "execution_count": 30,
   "metadata": {
    "collapsed": true
   },
   "outputs": [],
   "source": [
    "filename = path+'drugbank_transporter_binary_matrix_%s.tsv.zip'% str(datetime.date.today())[0:7].replace('-', '_')\n",
    "binary_matrix.to_csv(filename, sep='\\t', compression='gzip')"
   ]
  },
  {
   "cell_type": "markdown",
   "metadata": {},
   "source": [
    "# Create Gene Set Library"
   ]
  },
  {
   "cell_type": "code",
   "execution_count": 31,
   "metadata": {
    "collapsed": true
   },
   "outputs": [],
   "source": [
    "name = 'drugbank_transporter_gene_set'"
   ]
  },
  {
   "cell_type": "code",
   "execution_count": 32,
   "metadata": {},
   "outputs": [
    {
     "name": "stdout",
     "output_type": "stream",
     "text": [
      "Progeres: 100%  609 Out of 609   \r"
     ]
    }
   ],
   "source": [
    "mf.createUpGeneSetLib(binary_matrix, path, name)"
   ]
  },
  {
   "cell_type": "markdown",
   "metadata": {},
   "source": [
    "# Create Attribute Library"
   ]
  },
  {
   "cell_type": "code",
   "execution_count": 33,
   "metadata": {
    "collapsed": true
   },
   "outputs": [],
   "source": [
    "name = 'drugbank_transporter_attribute_set'"
   ]
  },
  {
   "cell_type": "code",
   "execution_count": 34,
   "metadata": {},
   "outputs": [
    {
     "name": "stdout",
     "output_type": "stream",
     "text": [
      "Progeres: 100%  154 Out of 154   \r"
     ]
    }
   ],
   "source": [
    "mf.createUpAttributeSetLib(binary_matrix, path, name)"
   ]
  },
  {
   "cell_type": "markdown",
   "metadata": {},
   "source": [
    "# Create Gene Similarity Matrix"
   ]
  },
  {
   "cell_type": "code",
   "execution_count": 35,
   "metadata": {
    "collapsed": true
   },
   "outputs": [],
   "source": [
    "gene_similarity_matix = mf.createSimilarityMatrix(binary_matrix, 'jaccard')"
   ]
  },
  {
   "cell_type": "code",
   "execution_count": 36,
   "metadata": {},
   "outputs": [
    {
     "data": {
      "text/html": [
       "<div>\n",
       "<style scoped>\n",
       "    .dataframe tbody tr th:only-of-type {\n",
       "        vertical-align: middle;\n",
       "    }\n",
       "\n",
       "    .dataframe tbody tr th {\n",
       "        vertical-align: top;\n",
       "    }\n",
       "\n",
       "    .dataframe thead th {\n",
       "        text-align: right;\n",
       "    }\n",
       "</style>\n",
       "<table border=\"1\" class=\"dataframe\">\n",
       "  <thead>\n",
       "    <tr style=\"text-align: right;\">\n",
       "      <th></th>\n",
       "      <th>ABCC5</th>\n",
       "      <th>SLCO3A1</th>\n",
       "      <th>SLC7A7</th>\n",
       "      <th>SLC6A3</th>\n",
       "      <th>SLC22A5</th>\n",
       "      <th>SLC22A4</th>\n",
       "      <th>SLC2A10</th>\n",
       "      <th>SLC10A1</th>\n",
       "      <th>SLC5A7</th>\n",
       "      <th>TRPV6</th>\n",
       "      <th>...</th>\n",
       "      <th>GIF</th>\n",
       "      <th>TRPM6</th>\n",
       "      <th>CACNB2</th>\n",
       "      <th>SLC22A11</th>\n",
       "      <th>ABCC4</th>\n",
       "      <th>SLC1A5</th>\n",
       "      <th>SLC2A2</th>\n",
       "      <th>ATP7A</th>\n",
       "      <th>SLC22A7</th>\n",
       "      <th>SLC4A8</th>\n",
       "    </tr>\n",
       "    <tr>\n",
       "      <th></th>\n",
       "      <th></th>\n",
       "      <th></th>\n",
       "      <th></th>\n",
       "      <th></th>\n",
       "      <th></th>\n",
       "      <th></th>\n",
       "      <th></th>\n",
       "      <th></th>\n",
       "      <th></th>\n",
       "      <th></th>\n",
       "      <th></th>\n",
       "      <th></th>\n",
       "      <th></th>\n",
       "      <th></th>\n",
       "      <th></th>\n",
       "      <th></th>\n",
       "      <th></th>\n",
       "      <th></th>\n",
       "      <th></th>\n",
       "      <th></th>\n",
       "      <th></th>\n",
       "    </tr>\n",
       "  </thead>\n",
       "  <tbody>\n",
       "    <tr>\n",
       "      <th>ABCC5</th>\n",
       "      <td>1.000000</td>\n",
       "      <td>0.083333</td>\n",
       "      <td>0.0</td>\n",
       "      <td>0.0</td>\n",
       "      <td>0.014706</td>\n",
       "      <td>0.000000</td>\n",
       "      <td>0.0</td>\n",
       "      <td>0.032258</td>\n",
       "      <td>0.000000</td>\n",
       "      <td>0.0</td>\n",
       "      <td>...</td>\n",
       "      <td>0.0</td>\n",
       "      <td>0.0</td>\n",
       "      <td>0.0</td>\n",
       "      <td>0.062500</td>\n",
       "      <td>0.309524</td>\n",
       "      <td>0.0</td>\n",
       "      <td>0.0</td>\n",
       "      <td>0.055556</td>\n",
       "      <td>0.133333</td>\n",
       "      <td>0.0</td>\n",
       "    </tr>\n",
       "    <tr>\n",
       "      <th>SLCO3A1</th>\n",
       "      <td>0.083333</td>\n",
       "      <td>1.000000</td>\n",
       "      <td>0.0</td>\n",
       "      <td>0.0</td>\n",
       "      <td>0.031746</td>\n",
       "      <td>0.055556</td>\n",
       "      <td>0.0</td>\n",
       "      <td>0.076923</td>\n",
       "      <td>0.000000</td>\n",
       "      <td>0.0</td>\n",
       "      <td>...</td>\n",
       "      <td>0.0</td>\n",
       "      <td>0.0</td>\n",
       "      <td>0.0</td>\n",
       "      <td>0.146341</td>\n",
       "      <td>0.108696</td>\n",
       "      <td>0.0</td>\n",
       "      <td>0.0</td>\n",
       "      <td>0.000000</td>\n",
       "      <td>0.093023</td>\n",
       "      <td>0.0</td>\n",
       "    </tr>\n",
       "    <tr>\n",
       "      <th>SLC7A7</th>\n",
       "      <td>0.000000</td>\n",
       "      <td>0.000000</td>\n",
       "      <td>1.0</td>\n",
       "      <td>0.0</td>\n",
       "      <td>0.000000</td>\n",
       "      <td>0.000000</td>\n",
       "      <td>0.0</td>\n",
       "      <td>0.000000</td>\n",
       "      <td>0.000000</td>\n",
       "      <td>0.0</td>\n",
       "      <td>...</td>\n",
       "      <td>0.0</td>\n",
       "      <td>0.0</td>\n",
       "      <td>0.0</td>\n",
       "      <td>0.000000</td>\n",
       "      <td>0.000000</td>\n",
       "      <td>0.0</td>\n",
       "      <td>0.0</td>\n",
       "      <td>0.000000</td>\n",
       "      <td>0.000000</td>\n",
       "      <td>0.0</td>\n",
       "    </tr>\n",
       "    <tr>\n",
       "      <th>SLC6A3</th>\n",
       "      <td>0.000000</td>\n",
       "      <td>0.000000</td>\n",
       "      <td>0.0</td>\n",
       "      <td>1.0</td>\n",
       "      <td>0.000000</td>\n",
       "      <td>0.000000</td>\n",
       "      <td>0.0</td>\n",
       "      <td>0.000000</td>\n",
       "      <td>0.000000</td>\n",
       "      <td>0.0</td>\n",
       "      <td>...</td>\n",
       "      <td>0.0</td>\n",
       "      <td>0.0</td>\n",
       "      <td>0.0</td>\n",
       "      <td>0.000000</td>\n",
       "      <td>0.000000</td>\n",
       "      <td>0.0</td>\n",
       "      <td>0.0</td>\n",
       "      <td>0.000000</td>\n",
       "      <td>0.000000</td>\n",
       "      <td>0.0</td>\n",
       "    </tr>\n",
       "    <tr>\n",
       "      <th>SLC22A5</th>\n",
       "      <td>0.014706</td>\n",
       "      <td>0.031746</td>\n",
       "      <td>0.0</td>\n",
       "      <td>0.0</td>\n",
       "      <td>1.000000</td>\n",
       "      <td>0.306452</td>\n",
       "      <td>0.0</td>\n",
       "      <td>0.014286</td>\n",
       "      <td>0.018519</td>\n",
       "      <td>0.0</td>\n",
       "      <td>...</td>\n",
       "      <td>0.0</td>\n",
       "      <td>0.0</td>\n",
       "      <td>0.0</td>\n",
       "      <td>0.084337</td>\n",
       "      <td>0.021739</td>\n",
       "      <td>0.0</td>\n",
       "      <td>0.0</td>\n",
       "      <td>0.000000</td>\n",
       "      <td>0.058824</td>\n",
       "      <td>0.0</td>\n",
       "    </tr>\n",
       "  </tbody>\n",
       "</table>\n",
       "<p>5 rows × 154 columns</p>\n",
       "</div>"
      ],
      "text/plain": [
       "            ABCC5   SLCO3A1  SLC7A7  SLC6A3   SLC22A5   SLC22A4  SLC2A10  \\\n",
       "                                                                           \n",
       "ABCC5    1.000000  0.083333     0.0     0.0  0.014706  0.000000      0.0   \n",
       "SLCO3A1  0.083333  1.000000     0.0     0.0  0.031746  0.055556      0.0   \n",
       "SLC7A7   0.000000  0.000000     1.0     0.0  0.000000  0.000000      0.0   \n",
       "SLC6A3   0.000000  0.000000     0.0     1.0  0.000000  0.000000      0.0   \n",
       "SLC22A5  0.014706  0.031746     0.0     0.0  1.000000  0.306452      0.0   \n",
       "\n",
       "          SLC10A1    SLC5A7  TRPV6   ...    GIF  TRPM6  CACNB2  SLC22A11  \\\n",
       "                                     ...                                   \n",
       "ABCC5    0.032258  0.000000    0.0   ...    0.0    0.0     0.0  0.062500   \n",
       "SLCO3A1  0.076923  0.000000    0.0   ...    0.0    0.0     0.0  0.146341   \n",
       "SLC7A7   0.000000  0.000000    0.0   ...    0.0    0.0     0.0  0.000000   \n",
       "SLC6A3   0.000000  0.000000    0.0   ...    0.0    0.0     0.0  0.000000   \n",
       "SLC22A5  0.014286  0.018519    0.0   ...    0.0    0.0     0.0  0.084337   \n",
       "\n",
       "            ABCC4  SLC1A5  SLC2A2     ATP7A   SLC22A7  SLC4A8  \n",
       "                                                               \n",
       "ABCC5    0.309524     0.0     0.0  0.055556  0.133333     0.0  \n",
       "SLCO3A1  0.108696     0.0     0.0  0.000000  0.093023     0.0  \n",
       "SLC7A7   0.000000     0.0     0.0  0.000000  0.000000     0.0  \n",
       "SLC6A3   0.000000     0.0     0.0  0.000000  0.000000     0.0  \n",
       "SLC22A5  0.021739     0.0     0.0  0.000000  0.058824     0.0  \n",
       "\n",
       "[5 rows x 154 columns]"
      ]
     },
     "execution_count": 36,
     "metadata": {},
     "output_type": "execute_result"
    }
   ],
   "source": [
    "gene_similarity_matix.head()"
   ]
  },
  {
   "cell_type": "markdown",
   "metadata": {},
   "source": [
    "# Save Gene Similarity Matrix"
   ]
  },
  {
   "cell_type": "code",
   "execution_count": 37,
   "metadata": {
    "collapsed": true
   },
   "outputs": [],
   "source": [
    "filename = path+'drugbank_transporter_gene_similarity_matix_%s.tsv.zip'% str(datetime.date.today())[0:7].replace('-', '_')\n",
    "gene_similarity_matix.to_csv(filename, sep='\\t', compression='gzip')"
   ]
  },
  {
   "cell_type": "markdown",
   "metadata": {},
   "source": [
    "# Create Attribute Similarity matrix"
   ]
  },
  {
   "cell_type": "code",
   "execution_count": 38,
   "metadata": {
    "collapsed": true
   },
   "outputs": [],
   "source": [
    "attribute_similarity_matix = mf.createSimilarityMatrix(binary_matrix.T, 'jaccard')"
   ]
  },
  {
   "cell_type": "code",
   "execution_count": 39,
   "metadata": {},
   "outputs": [
    {
     "data": {
      "text/html": [
       "<div>\n",
       "<style scoped>\n",
       "    .dataframe tbody tr th:only-of-type {\n",
       "        vertical-align: middle;\n",
       "    }\n",
       "\n",
       "    .dataframe tbody tr th {\n",
       "        vertical-align: top;\n",
       "    }\n",
       "\n",
       "    .dataframe thead th {\n",
       "        text-align: right;\n",
       "    }\n",
       "</style>\n",
       "<table border=\"1\" class=\"dataframe\">\n",
       "  <thead>\n",
       "    <tr style=\"text-align: right;\">\n",
       "      <th></th>\n",
       "      <th>Cladribine</th>\n",
       "      <th>Deutetrabenazine</th>\n",
       "      <th>Technetium Tc-99m mebrofenin</th>\n",
       "      <th>Eletriptan</th>\n",
       "      <th>Cefepime</th>\n",
       "      <th>L-Aspartic Acid</th>\n",
       "      <th>Fludarabine</th>\n",
       "      <th>Saquinavir</th>\n",
       "      <th>Fluvoxamine</th>\n",
       "      <th>Fusidic Acid</th>\n",
       "      <th>...</th>\n",
       "      <th>Morphine</th>\n",
       "      <th>Acamprosate</th>\n",
       "      <th>Novobiocin</th>\n",
       "      <th>Cefotiam</th>\n",
       "      <th>Carbamazepine</th>\n",
       "      <th>Nisoldipine</th>\n",
       "      <th>Alectinib</th>\n",
       "      <th>Mebendazole</th>\n",
       "      <th>Amantadine</th>\n",
       "      <th>Cobicistat</th>\n",
       "    </tr>\n",
       "    <tr>\n",
       "      <th></th>\n",
       "      <th></th>\n",
       "      <th></th>\n",
       "      <th></th>\n",
       "      <th></th>\n",
       "      <th></th>\n",
       "      <th></th>\n",
       "      <th></th>\n",
       "      <th></th>\n",
       "      <th></th>\n",
       "      <th></th>\n",
       "      <th></th>\n",
       "      <th></th>\n",
       "      <th></th>\n",
       "      <th></th>\n",
       "      <th></th>\n",
       "      <th></th>\n",
       "      <th></th>\n",
       "      <th></th>\n",
       "      <th></th>\n",
       "      <th></th>\n",
       "      <th></th>\n",
       "    </tr>\n",
       "  </thead>\n",
       "  <tbody>\n",
       "    <tr>\n",
       "      <th>Cladribine</th>\n",
       "      <td>1.0</td>\n",
       "      <td>0.0</td>\n",
       "      <td>0.0</td>\n",
       "      <td>0.0</td>\n",
       "      <td>0.0</td>\n",
       "      <td>0.0</td>\n",
       "      <td>0.2</td>\n",
       "      <td>0.250000</td>\n",
       "      <td>0.0</td>\n",
       "      <td>0.0</td>\n",
       "      <td>...</td>\n",
       "      <td>0.0</td>\n",
       "      <td>0.0</td>\n",
       "      <td>0.125</td>\n",
       "      <td>0.0</td>\n",
       "      <td>0.000000</td>\n",
       "      <td>0.0</td>\n",
       "      <td>0.25</td>\n",
       "      <td>0.0</td>\n",
       "      <td>0.5</td>\n",
       "      <td>0.25</td>\n",
       "    </tr>\n",
       "    <tr>\n",
       "      <th>Deutetrabenazine</th>\n",
       "      <td>0.0</td>\n",
       "      <td>1.0</td>\n",
       "      <td>0.0</td>\n",
       "      <td>0.0</td>\n",
       "      <td>0.0</td>\n",
       "      <td>0.0</td>\n",
       "      <td>0.0</td>\n",
       "      <td>0.000000</td>\n",
       "      <td>0.0</td>\n",
       "      <td>0.0</td>\n",
       "      <td>...</td>\n",
       "      <td>0.0</td>\n",
       "      <td>0.0</td>\n",
       "      <td>0.000</td>\n",
       "      <td>0.0</td>\n",
       "      <td>0.000000</td>\n",
       "      <td>0.0</td>\n",
       "      <td>0.00</td>\n",
       "      <td>0.0</td>\n",
       "      <td>0.0</td>\n",
       "      <td>0.00</td>\n",
       "    </tr>\n",
       "    <tr>\n",
       "      <th>Technetium Tc-99m mebrofenin</th>\n",
       "      <td>0.0</td>\n",
       "      <td>0.0</td>\n",
       "      <td>1.0</td>\n",
       "      <td>0.0</td>\n",
       "      <td>0.0</td>\n",
       "      <td>0.0</td>\n",
       "      <td>0.0</td>\n",
       "      <td>0.142857</td>\n",
       "      <td>0.0</td>\n",
       "      <td>0.0</td>\n",
       "      <td>...</td>\n",
       "      <td>0.0</td>\n",
       "      <td>0.0</td>\n",
       "      <td>0.000</td>\n",
       "      <td>0.0</td>\n",
       "      <td>0.000000</td>\n",
       "      <td>0.0</td>\n",
       "      <td>0.00</td>\n",
       "      <td>0.0</td>\n",
       "      <td>0.0</td>\n",
       "      <td>0.00</td>\n",
       "    </tr>\n",
       "    <tr>\n",
       "      <th>Eletriptan</th>\n",
       "      <td>0.0</td>\n",
       "      <td>0.0</td>\n",
       "      <td>0.0</td>\n",
       "      <td>1.0</td>\n",
       "      <td>0.0</td>\n",
       "      <td>0.0</td>\n",
       "      <td>0.0</td>\n",
       "      <td>0.000000</td>\n",
       "      <td>1.0</td>\n",
       "      <td>0.0</td>\n",
       "      <td>...</td>\n",
       "      <td>1.0</td>\n",
       "      <td>0.0</td>\n",
       "      <td>0.000</td>\n",
       "      <td>0.0</td>\n",
       "      <td>0.333333</td>\n",
       "      <td>1.0</td>\n",
       "      <td>0.00</td>\n",
       "      <td>1.0</td>\n",
       "      <td>0.0</td>\n",
       "      <td>0.00</td>\n",
       "    </tr>\n",
       "    <tr>\n",
       "      <th>Cefepime</th>\n",
       "      <td>0.0</td>\n",
       "      <td>0.0</td>\n",
       "      <td>0.0</td>\n",
       "      <td>0.0</td>\n",
       "      <td>1.0</td>\n",
       "      <td>0.0</td>\n",
       "      <td>0.0</td>\n",
       "      <td>0.000000</td>\n",
       "      <td>0.0</td>\n",
       "      <td>0.0</td>\n",
       "      <td>...</td>\n",
       "      <td>0.0</td>\n",
       "      <td>0.0</td>\n",
       "      <td>0.000</td>\n",
       "      <td>0.0</td>\n",
       "      <td>0.000000</td>\n",
       "      <td>0.0</td>\n",
       "      <td>0.00</td>\n",
       "      <td>0.0</td>\n",
       "      <td>0.0</td>\n",
       "      <td>0.00</td>\n",
       "    </tr>\n",
       "  </tbody>\n",
       "</table>\n",
       "<p>5 rows × 609 columns</p>\n",
       "</div>"
      ],
      "text/plain": [
       "                              Cladribine  Deutetrabenazine  \\\n",
       "                                                             \n",
       "Cladribine                           1.0               0.0   \n",
       "Deutetrabenazine                     0.0               1.0   \n",
       "Technetium Tc-99m mebrofenin         0.0               0.0   \n",
       "Eletriptan                           0.0               0.0   \n",
       "Cefepime                             0.0               0.0   \n",
       "\n",
       "                              Technetium Tc-99m mebrofenin  Eletriptan  \\\n",
       "                                                                         \n",
       "Cladribine                                             0.0         0.0   \n",
       "Deutetrabenazine                                       0.0         0.0   \n",
       "Technetium Tc-99m mebrofenin                           1.0         0.0   \n",
       "Eletriptan                                             0.0         1.0   \n",
       "Cefepime                                               0.0         0.0   \n",
       "\n",
       "                              Cefepime  L-Aspartic Acid  Fludarabine  \\\n",
       "                                                                       \n",
       "Cladribine                         0.0              0.0          0.2   \n",
       "Deutetrabenazine                   0.0              0.0          0.0   \n",
       "Technetium Tc-99m mebrofenin       0.0              0.0          0.0   \n",
       "Eletriptan                         0.0              0.0          0.0   \n",
       "Cefepime                           1.0              0.0          0.0   \n",
       "\n",
       "                              Saquinavir  Fluvoxamine  Fusidic Acid  \\\n",
       "                                                                      \n",
       "Cladribine                      0.250000          0.0           0.0   \n",
       "Deutetrabenazine                0.000000          0.0           0.0   \n",
       "Technetium Tc-99m mebrofenin    0.142857          0.0           0.0   \n",
       "Eletriptan                      0.000000          1.0           0.0   \n",
       "Cefepime                        0.000000          0.0           0.0   \n",
       "\n",
       "                                 ...      Morphine  Acamprosate  Novobiocin  \\\n",
       "                                 ...                                          \n",
       "Cladribine                       ...           0.0          0.0       0.125   \n",
       "Deutetrabenazine                 ...           0.0          0.0       0.000   \n",
       "Technetium Tc-99m mebrofenin     ...           0.0          0.0       0.000   \n",
       "Eletriptan                       ...           1.0          0.0       0.000   \n",
       "Cefepime                         ...           0.0          0.0       0.000   \n",
       "\n",
       "                              Cefotiam  Carbamazepine  Nisoldipine  Alectinib  \\\n",
       "                                                                                \n",
       "Cladribine                         0.0       0.000000          0.0       0.25   \n",
       "Deutetrabenazine                   0.0       0.000000          0.0       0.00   \n",
       "Technetium Tc-99m mebrofenin       0.0       0.000000          0.0       0.00   \n",
       "Eletriptan                         0.0       0.333333          1.0       0.00   \n",
       "Cefepime                           0.0       0.000000          0.0       0.00   \n",
       "\n",
       "                              Mebendazole  Amantadine  Cobicistat  \n",
       "                                                                   \n",
       "Cladribine                            0.0         0.5        0.25  \n",
       "Deutetrabenazine                      0.0         0.0        0.00  \n",
       "Technetium Tc-99m mebrofenin          0.0         0.0        0.00  \n",
       "Eletriptan                            1.0         0.0        0.00  \n",
       "Cefepime                              0.0         0.0        0.00  \n",
       "\n",
       "[5 rows x 609 columns]"
      ]
     },
     "execution_count": 39,
     "metadata": {},
     "output_type": "execute_result"
    }
   ],
   "source": [
    "attribute_similarity_matix.head()"
   ]
  },
  {
   "cell_type": "markdown",
   "metadata": {},
   "source": [
    "# Save Attribute Similarity Matrix"
   ]
  },
  {
   "cell_type": "code",
   "execution_count": 40,
   "metadata": {
    "collapsed": true
   },
   "outputs": [],
   "source": [
    "filename = path+'drugbank_transporter_attribute_similarity_matix_%s.tsv.zip'% str(datetime.date.today())[0:7].replace('-', '_')\n",
    "attribute_similarity_matix.to_csv(filename, sep='\\t', compression='gzip')"
   ]
  },
  {
   "cell_type": "markdown",
   "metadata": {},
   "source": [
    "# Create Gene List"
   ]
  },
  {
   "cell_type": "code",
   "execution_count": 41,
   "metadata": {},
   "outputs": [
    {
     "name": "stdout",
     "output_type": "stream",
     "text": [
      "Progeres: 100%  154 Out of 154   \r"
     ]
    }
   ],
   "source": [
    "gene_list = mf.createGeneList(binary_matrix)"
   ]
  },
  {
   "cell_type": "code",
   "execution_count": 42,
   "metadata": {},
   "outputs": [
    {
     "data": {
      "text/html": [
       "<div>\n",
       "<style scoped>\n",
       "    .dataframe tbody tr th:only-of-type {\n",
       "        vertical-align: middle;\n",
       "    }\n",
       "\n",
       "    .dataframe tbody tr th {\n",
       "        vertical-align: top;\n",
       "    }\n",
       "\n",
       "    .dataframe thead th {\n",
       "        text-align: right;\n",
       "    }\n",
       "</style>\n",
       "<table border=\"1\" class=\"dataframe\">\n",
       "  <thead>\n",
       "    <tr style=\"text-align: right;\">\n",
       "      <th></th>\n",
       "      <th>GeneSym</th>\n",
       "      <th>GeneID</th>\n",
       "    </tr>\n",
       "  </thead>\n",
       "  <tbody>\n",
       "    <tr>\n",
       "      <th>0</th>\n",
       "      <td>ABCC5</td>\n",
       "      <td>10057</td>\n",
       "    </tr>\n",
       "    <tr>\n",
       "      <th>1</th>\n",
       "      <td>SLCO3A1</td>\n",
       "      <td>28232</td>\n",
       "    </tr>\n",
       "    <tr>\n",
       "      <th>2</th>\n",
       "      <td>SLC7A7</td>\n",
       "      <td>9056</td>\n",
       "    </tr>\n",
       "    <tr>\n",
       "      <th>3</th>\n",
       "      <td>SLC6A3</td>\n",
       "      <td>6531</td>\n",
       "    </tr>\n",
       "    <tr>\n",
       "      <th>4</th>\n",
       "      <td>SLC22A5</td>\n",
       "      <td>6584</td>\n",
       "    </tr>\n",
       "  </tbody>\n",
       "</table>\n",
       "</div>"
      ],
      "text/plain": [
       "   GeneSym GeneID\n",
       "0    ABCC5  10057\n",
       "1  SLCO3A1  28232\n",
       "2   SLC7A7   9056\n",
       "3   SLC6A3   6531\n",
       "4  SLC22A5   6584"
      ]
     },
     "execution_count": 42,
     "metadata": {},
     "output_type": "execute_result"
    }
   ],
   "source": [
    "gene_list.head()"
   ]
  },
  {
   "cell_type": "code",
   "execution_count": 43,
   "metadata": {},
   "outputs": [
    {
     "data": {
      "text/plain": [
       "(154, 2)"
      ]
     },
     "execution_count": 43,
     "metadata": {},
     "output_type": "execute_result"
    }
   ],
   "source": [
    "gene_list.shape"
   ]
  },
  {
   "cell_type": "markdown",
   "metadata": {},
   "source": [
    "# Save Gene List"
   ]
  },
  {
   "cell_type": "code",
   "execution_count": 44,
   "metadata": {
    "collapsed": true
   },
   "outputs": [],
   "source": [
    "filename = path+'drugbank_transporter_gene_list_%s.tsv.zip'% str(datetime.date.today())[0:7].replace('-', '_')\n",
    "gene_list.to_csv(filename, sep='\\t', index=False, compression='gzip')"
   ]
  },
  {
   "cell_type": "markdown",
   "metadata": {},
   "source": [
    "# Create Attribute List"
   ]
  },
  {
   "cell_type": "code",
   "execution_count": 45,
   "metadata": {
    "collapsed": true
   },
   "outputs": [],
   "source": [
    "attribute_list = mf.createAttributeList(binary_matrix)"
   ]
  },
  {
   "cell_type": "code",
   "execution_count": 46,
   "metadata": {},
   "outputs": [
    {
     "data": {
      "text/html": [
       "<div>\n",
       "<style scoped>\n",
       "    .dataframe tbody tr th:only-of-type {\n",
       "        vertical-align: middle;\n",
       "    }\n",
       "\n",
       "    .dataframe tbody tr th {\n",
       "        vertical-align: top;\n",
       "    }\n",
       "\n",
       "    .dataframe thead th {\n",
       "        text-align: right;\n",
       "    }\n",
       "</style>\n",
       "<table border=\"1\" class=\"dataframe\">\n",
       "  <thead>\n",
       "    <tr style=\"text-align: right;\">\n",
       "      <th></th>\n",
       "    </tr>\n",
       "    <tr>\n",
       "      <th>Attributes</th>\n",
       "    </tr>\n",
       "  </thead>\n",
       "  <tbody>\n",
       "    <tr>\n",
       "      <th>Cladribine</th>\n",
       "    </tr>\n",
       "    <tr>\n",
       "      <th>Deutetrabenazine</th>\n",
       "    </tr>\n",
       "    <tr>\n",
       "      <th>Technetium Tc-99m mebrofenin</th>\n",
       "    </tr>\n",
       "    <tr>\n",
       "      <th>Eletriptan</th>\n",
       "    </tr>\n",
       "    <tr>\n",
       "      <th>Cefepime</th>\n",
       "    </tr>\n",
       "  </tbody>\n",
       "</table>\n",
       "</div>"
      ],
      "text/plain": [
       "Empty DataFrame\n",
       "Columns: []\n",
       "Index: [Cladribine, Deutetrabenazine, Technetium Tc-99m mebrofenin, Eletriptan, Cefepime]"
      ]
     },
     "execution_count": 46,
     "metadata": {},
     "output_type": "execute_result"
    }
   ],
   "source": [
    "attribute_list.head()"
   ]
  },
  {
   "cell_type": "code",
   "execution_count": 47,
   "metadata": {},
   "outputs": [
    {
     "data": {
      "text/plain": [
       "(609, 0)"
      ]
     },
     "execution_count": 47,
     "metadata": {},
     "output_type": "execute_result"
    }
   ],
   "source": [
    "attribute_list.shape"
   ]
  },
  {
   "cell_type": "markdown",
   "metadata": {},
   "source": [
    "# Save Attribute List"
   ]
  },
  {
   "cell_type": "code",
   "execution_count": 48,
   "metadata": {
    "collapsed": true
   },
   "outputs": [],
   "source": [
    "filename = path+'drugbank_transporter_attribute_list_%s.tsv.zip'% str(datetime.date.today())[0:7].replace('-', '_')\n",
    "attribute_list.to_csv(filename, sep='\\t', index=False, compression='gzip')"
   ]
  },
  {
   "cell_type": "markdown",
   "metadata": {},
   "source": [
    "# Create Gene-Attribute Edge List"
   ]
  },
  {
   "cell_type": "code",
   "execution_count": 49,
   "metadata": {
    "collapsed": true
   },
   "outputs": [],
   "source": [
    "name = 'drugbank_transporter_gene_attribute_edge_list'"
   ]
  },
  {
   "cell_type": "code",
   "execution_count": 50,
   "metadata": {},
   "outputs": [
    {
     "name": "stdout",
     "output_type": "stream",
     "text": [
      "Progeres: 100%  609 Out of 609   \n",
      "\n",
      " The number of statisticaly relevent gene-attribute associations is: 1784\n"
     ]
    }
   ],
   "source": [
    "mf.createGeneAttributeEdgeList(binary_matrix, attribute_list, gene_list, path, name)"
   ]
  }
 ],
 "metadata": {
  "kernelspec": {
   "display_name": "Python [default]",
   "language": "python",
   "name": "python3"
  },
  "language_info": {
   "codemirror_mode": {
    "name": "ipython",
    "version": 3
   },
   "file_extension": ".py",
   "mimetype": "text/x-python",
   "name": "python",
   "nbconvert_exporter": "python",
   "pygments_lexer": "ipython3",
   "version": "3.5.2"
  }
 },
 "nbformat": 4,
 "nbformat_minor": 2
}
