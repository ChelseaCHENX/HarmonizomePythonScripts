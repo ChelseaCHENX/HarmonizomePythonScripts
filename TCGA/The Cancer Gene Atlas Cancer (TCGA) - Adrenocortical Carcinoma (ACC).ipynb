{
 "cells": [
  {
   "cell_type": "markdown",
   "metadata": {},
   "source": [
    "# The Cancer Gene Atlas Cancer (TCGA) - Adrenocortical Carcinoma (ACC)"
   ]
  },
  {
   "cell_type": "markdown",
   "metadata": {},
   "source": [
    "Author: Moshe Silverstein <br/>\n",
    "Date: 7-17 <br/>\n",
    "Data Source: https://cancergenome.nih.gov/"
   ]
  },
  {
   "cell_type": "code",
   "execution_count": 1,
   "metadata": {
    "collapsed": true
   },
   "outputs": [],
   "source": [
    "import sys, datetime, os\n",
    "import numpy as np\n",
    "import pandas as pd\n",
    "import importlib\n",
    "import untility_functions as uf\n",
    "import matplotlib.pyplot as plt\n",
    "%matplotlib inline\n",
    "from collections import Counter"
   ]
  },
  {
   "cell_type": "code",
   "execution_count": 2,
   "metadata": {
    "collapsed": true
   },
   "outputs": [],
   "source": [
    "import seaborn as sns\n",
    "sns.set(color_codes=True)\n",
    "np.random.seed(sum(map(ord, \"distributions\")))"
   ]
  },
  {
   "cell_type": "code",
   "execution_count": 3,
   "metadata": {
    "collapsed": true
   },
   "outputs": [],
   "source": [
    "from clustergrammer_widget import *\n",
    "net = Network(clustergrammer_widget)"
   ]
  },
  {
   "cell_type": "code",
   "execution_count": 4,
   "metadata": {},
   "outputs": [
    {
     "data": {
      "text/plain": [
       "<module 'untility_functions' from '/Users/moshesilverstein/Documents/Harmonizome/TCGA/untility_functions.py'>"
      ]
     },
     "execution_count": 4,
     "metadata": {},
     "output_type": "execute_result"
    }
   ],
   "source": [
    "importlib.reload(uf)"
   ]
  },
  {
   "cell_type": "markdown",
   "metadata": {},
   "source": [
    "# Versions Of Modules In Use"
   ]
  },
  {
   "cell_type": "code",
   "execution_count": 5,
   "metadata": {},
   "outputs": [
    {
     "data": {
      "application/json": {
       "Software versions": [
        {
         "module": "Python",
         "version": "3.5.2 64bit [GCC 4.2.1 Compatible Apple LLVM 4.2 (clang-425.0.28)]"
        },
        {
         "module": "IPython",
         "version": "5.3.0"
        },
        {
         "module": "OS",
         "version": "Darwin 17.5.0 x86_64 i386 64bit"
        },
        {
         "module": "numpy",
         "version": "1.13.1"
        },
        {
         "module": "pandas",
         "version": "0.21.0"
        },
        {
         "module": "clustergrammer_widget",
         "version": "1.9.0"
        }
       ]
      },
      "text/html": [
       "<table><tr><th>Software</th><th>Version</th></tr><tr><td>Python</td><td>3.5.2 64bit [GCC 4.2.1 Compatible Apple LLVM 4.2 (clang-425.0.28)]</td></tr><tr><td>IPython</td><td>5.3.0</td></tr><tr><td>OS</td><td>Darwin 17.5.0 x86_64 i386 64bit</td></tr><tr><td>numpy</td><td>1.13.1</td></tr><tr><td>pandas</td><td>0.21.0</td></tr><tr><td>clustergrammer_widget</td><td>1.9.0</td></tr><tr><td colspan='2'>Fri Apr 20 12:53:11 2018 EDT</td></tr></table>"
      ],
      "text/latex": [
       "\\begin{tabular}{|l|l|}\\hline\n",
       "{\\bf Software} & {\\bf Version} \\\\ \\hline\\hline\n",
       "Python & 3.5.2 64bit [GCC 4.2.1 Compatible Apple LLVM 4.2 (clang-425.0.28)] \\\\ \\hline\n",
       "IPython & 5.3.0 \\\\ \\hline\n",
       "OS & Darwin 17.5.0 x86\\_64 i386 64bit \\\\ \\hline\n",
       "numpy & 1.13.1 \\\\ \\hline\n",
       "pandas & 0.21.0 \\\\ \\hline\n",
       "clustergrammer_widget & 1.9.0 \\\\ \\hline\n",
       "\\hline \\multicolumn{2}{|l|}{Fri Apr 20 12:53:11 2018 EDT} \\\\ \\hline\n",
       "\\end{tabular}\n"
      ],
      "text/plain": [
       "Software versions\n",
       "Python 3.5.2 64bit [GCC 4.2.1 Compatible Apple LLVM 4.2 (clang-425.0.28)]\n",
       "IPython 5.3.0\n",
       "OS Darwin 17.5.0 x86_64 i386 64bit\n",
       "numpy 1.13.1\n",
       "pandas 0.21.0\n",
       "clustergrammer_widget 1.9.0\n",
       "Fri Apr 20 12:53:11 2018 EDT"
      ]
     },
     "execution_count": 5,
     "metadata": {},
     "output_type": "execute_result"
    }
   ],
   "source": [
    "%load_ext version_information\n",
    "%version_information numpy, pandas, clustergrammer_widget "
   ]
  },
  {
   "cell_type": "markdown",
   "metadata": {},
   "source": [
    "# Functions"
   ]
  },
  {
   "cell_type": "code",
   "execution_count": 6,
   "metadata": {
    "collapsed": true
   },
   "outputs": [],
   "source": [
    "def getGenes(inputDF):\n",
    "    \n",
    "    inputDF.reset_index(inplace=True)\n",
    "    \n",
    "    inputDF.rename(columns={'index':'Gene Symbol'}, inplace=True)\n",
    "\n",
    "    inputDF.set_index('Gene Symbol', inplace=True)\n",
    "\n",
    "    lst = []\n",
    "\n",
    "    for index in  inputDF.index:\n",
    "        lst.append(index.split('|')[5])\n",
    "\n",
    "    inputDF.index = lst"
   ]
  },
  {
   "cell_type": "code",
   "execution_count": 7,
   "metadata": {
    "collapsed": true
   },
   "outputs": [],
   "source": [
    "def getSampleID(inputDF, metaDF):\n",
    "    \n",
    "    lst = []\n",
    "    \n",
    "    for i,col in enumerate(inputDF.columns):\n",
    "\n",
    "        progressPercent = ((i+1)/len(inputDF.columns))*100\n",
    "\n",
    "        sys.stdout.write(\"Progress: %d%%  %d Out of %d   \\r\" % (progressPercent, (i+1), len(inputDF.columns)))\n",
    "        sys.stdout.flush()\n",
    "\n",
    "        ID = ('-').join(metaDF.loc[col, 'a_AliquotBarcode'].split('-')[0:4])\n",
    "\n",
    "        lst.append(ID)\n",
    "\n",
    "        \n",
    "    inputDF.columns = lst"
   ]
  },
  {
   "cell_type": "code",
   "execution_count": 8,
   "metadata": {
    "collapsed": true
   },
   "outputs": [],
   "source": [
    "def getSampleData(inputDF, metaDF):\n",
    "    \n",
    "    lst = []\n",
    "\n",
    "    for i,col in enumerate(inputDF.columns):\n",
    "\n",
    "        progressPercent = ((i+1)/len(inputDF.columns))*100\n",
    "\n",
    "        sys.stdout.write(\"Progress: %d%%  %d Out of %d   \\r\" % (progressPercent, (i+1), len(inputDF.columns)))\n",
    "        sys.stdout.flush()\n",
    "        \n",
    "#         ID = ('-').join(meta.loc[col, 'a_AliquotBarcode'].split('-')[0:3])\n",
    "        ID = ('-').join(col.split('-')[0:3])\n",
    "        \n",
    "        donor = 'Donor:'+ID\n",
    "        \n",
    "        if str(col.split('-')[3]) == '01A':\n",
    "            sampleType = 'Primary Solid Tumor'\n",
    "        elif str(col.split('-')[3]) == '11A':\n",
    "            sampleType= 'Solid Tissue Normal'\n",
    "        \n",
    "        if ID in metaDF.index:\n",
    "            info = (donor, \n",
    "                'Age:'+str(metaDF.loc[ID, 'age_at_initial_pathologic_diagnosis']),\n",
    "                'Gender:'+str(metaDF.loc[ID, 'gender']),    \n",
    "                'SampleType:'+sampleType,\n",
    "                'Stage:'+str(metaDF.loc[ID, 'pathologic_stage']),\n",
    "                'Histology:'+str(metaDF.loc[ID, 'histological_type']),\n",
    "                'Tissue:'+str(metaDF.loc[ID, 'tumor_tissue_site']), \n",
    "                'Tumor:'+str(metaDF.loc[ID, 'tumor_type']),    \n",
    "                'Grade'+str(metaDF.loc[ID, 'neoplasm_histologic_grade'])\n",
    "#                 'SampleType:'+str(ID.split('-')[3])\n",
    "               )\n",
    "#             for col in metaDF.columns:\n",
    "#                 if len(metaDF[col].dropna()) >= .5*len(metaDF[col]) and len(metaDF[col].unique()) > 2 and len(metaDF[col].unique()) < len(metaDF[col]) and 'age' not in col:\n",
    "#                     info = info + (str(col)+':'+str(metaDF.loc[ID, col]),)\n",
    "        lst.append(info)\n",
    "\n",
    "        \n",
    "    inputDF.columns = lst"
   ]
  },
  {
   "cell_type": "markdown",
   "metadata": {},
   "source": [
    "# Path to Output Files"
   ]
  },
  {
   "cell_type": "code",
   "execution_count": 9,
   "metadata": {
    "collapsed": true
   },
   "outputs": [],
   "source": [
    "path = '/Users/moshesilverstein/Documents/Harmonizome/TCGA/Output/'"
   ]
  },
  {
   "cell_type": "markdown",
   "metadata": {},
   "source": [
    "# Load Meta Data"
   ]
  },
  {
   "cell_type": "code",
   "execution_count": 10,
   "metadata": {
    "collapsed": true
   },
   "outputs": [],
   "source": [
    "meta = pd.read_csv('Input/TCGA_Metadata.csv', index_col=9)"
   ]
  },
  {
   "cell_type": "code",
   "execution_count": 11,
   "metadata": {},
   "outputs": [
    {
     "data": {
      "text/html": [
       "<div>\n",
       "<style scoped>\n",
       "    .dataframe tbody tr th:only-of-type {\n",
       "        vertical-align: middle;\n",
       "    }\n",
       "\n",
       "    .dataframe tbody tr th {\n",
       "        vertical-align: top;\n",
       "    }\n",
       "\n",
       "    .dataframe thead th {\n",
       "        text-align: right;\n",
       "    }\n",
       "</style>\n",
       "<table border=\"1\" class=\"dataframe\">\n",
       "  <thead>\n",
       "    <tr style=\"text-align: right;\">\n",
       "      <th></th>\n",
       "      <th>a_AliquotBarcode</th>\n",
       "      <th>b_disease</th>\n",
       "      <th>a_objectSizeBytes</th>\n",
       "      <th>b_uploaded</th>\n",
       "      <th>b_state</th>\n",
       "      <th>b_library_type</th>\n",
       "      <th>b_center</th>\n",
       "      <th>b_assembly</th>\n",
       "      <th>a_GCSobject</th>\n",
       "    </tr>\n",
       "    <tr>\n",
       "      <th>a_CGHubAnalysisID</th>\n",
       "      <th></th>\n",
       "      <th></th>\n",
       "      <th></th>\n",
       "      <th></th>\n",
       "      <th></th>\n",
       "      <th></th>\n",
       "      <th></th>\n",
       "      <th></th>\n",
       "      <th></th>\n",
       "    </tr>\n",
       "  </thead>\n",
       "  <tbody>\n",
       "    <tr>\n",
       "      <th>3a8e6a74-137f-468f-8987-fa0acdde2836</th>\n",
       "      <td>TCGA-CS-6188-01A-11R-1896-07</td>\n",
       "      <td>LGG</td>\n",
       "      <td>6354301047</td>\n",
       "      <td>8/14/2013</td>\n",
       "      <td>Live</td>\n",
       "      <td>RNA-Seq</td>\n",
       "      <td>UNC-LCCC</td>\n",
       "      <td>unaligned</td>\n",
       "      <td>gs://5aa919de-0aa0-43ec-9ec3-288481102b6d/tcga...</td>\n",
       "    </tr>\n",
       "    <tr>\n",
       "      <th>c63d44f1-c9ad-4391-b1aa-0feb3713441b</th>\n",
       "      <td>TCGA-EO-A22Y-01A-11R-A180-07</td>\n",
       "      <td>UCEC</td>\n",
       "      <td>5497637066</td>\n",
       "      <td>8/29/2013</td>\n",
       "      <td>Live</td>\n",
       "      <td>RNA-Seq</td>\n",
       "      <td>UNC-LCCC</td>\n",
       "      <td>unaligned</td>\n",
       "      <td>gs://5aa919de-0aa0-43ec-9ec3-288481102b6d/tcga...</td>\n",
       "    </tr>\n",
       "    <tr>\n",
       "      <th>21912089-1e42-4bcc-9ad9-fe9a9b88fb09</th>\n",
       "      <td>TCGA-94-A5I4-01A-11R-A26W-07</td>\n",
       "      <td>LUSC</td>\n",
       "      <td>4600317850</td>\n",
       "      <td>8/29/2013</td>\n",
       "      <td>Live</td>\n",
       "      <td>RNA-Seq</td>\n",
       "      <td>UNC-LCCC</td>\n",
       "      <td>unaligned</td>\n",
       "      <td>gs://5aa919de-0aa0-43ec-9ec3-288481102b6d/tcga...</td>\n",
       "    </tr>\n",
       "    <tr>\n",
       "      <th>6b86e544-0372-434a-9f28-6fa4075dd228</th>\n",
       "      <td>TCGA-N5-A4RV-01A-21R-A28V-07</td>\n",
       "      <td>UCS</td>\n",
       "      <td>4964387768</td>\n",
       "      <td>8/30/2013</td>\n",
       "      <td>Live</td>\n",
       "      <td>RNA-Seq</td>\n",
       "      <td>UNC-LCCC</td>\n",
       "      <td>unaligned</td>\n",
       "      <td>gs://5aa919de-0aa0-43ec-9ec3-288481102b6d/tcga...</td>\n",
       "    </tr>\n",
       "    <tr>\n",
       "      <th>30518eb4-2783-4988-bcd4-36a1a8bb4dfa</th>\n",
       "      <td>TCGA-BK-A56F-01A-32R-A27V-07</td>\n",
       "      <td>UCEC</td>\n",
       "      <td>5668623460</td>\n",
       "      <td>8/31/2013</td>\n",
       "      <td>Live</td>\n",
       "      <td>RNA-Seq</td>\n",
       "      <td>UNC-LCCC</td>\n",
       "      <td>unaligned</td>\n",
       "      <td>gs://5aa919de-0aa0-43ec-9ec3-288481102b6d/tcga...</td>\n",
       "    </tr>\n",
       "  </tbody>\n",
       "</table>\n",
       "</div>"
      ],
      "text/plain": [
       "                                                  a_AliquotBarcode b_disease  \\\n",
       "a_CGHubAnalysisID                                                              \n",
       "3a8e6a74-137f-468f-8987-fa0acdde2836  TCGA-CS-6188-01A-11R-1896-07       LGG   \n",
       "c63d44f1-c9ad-4391-b1aa-0feb3713441b  TCGA-EO-A22Y-01A-11R-A180-07      UCEC   \n",
       "21912089-1e42-4bcc-9ad9-fe9a9b88fb09  TCGA-94-A5I4-01A-11R-A26W-07      LUSC   \n",
       "6b86e544-0372-434a-9f28-6fa4075dd228  TCGA-N5-A4RV-01A-21R-A28V-07       UCS   \n",
       "30518eb4-2783-4988-bcd4-36a1a8bb4dfa  TCGA-BK-A56F-01A-32R-A27V-07      UCEC   \n",
       "\n",
       "                                      a_objectSizeBytes b_uploaded b_state  \\\n",
       "a_CGHubAnalysisID                                                            \n",
       "3a8e6a74-137f-468f-8987-fa0acdde2836         6354301047  8/14/2013    Live   \n",
       "c63d44f1-c9ad-4391-b1aa-0feb3713441b         5497637066  8/29/2013    Live   \n",
       "21912089-1e42-4bcc-9ad9-fe9a9b88fb09         4600317850  8/29/2013    Live   \n",
       "6b86e544-0372-434a-9f28-6fa4075dd228         4964387768  8/30/2013    Live   \n",
       "30518eb4-2783-4988-bcd4-36a1a8bb4dfa         5668623460  8/31/2013    Live   \n",
       "\n",
       "                                     b_library_type  b_center b_assembly  \\\n",
       "a_CGHubAnalysisID                                                          \n",
       "3a8e6a74-137f-468f-8987-fa0acdde2836        RNA-Seq  UNC-LCCC  unaligned   \n",
       "c63d44f1-c9ad-4391-b1aa-0feb3713441b        RNA-Seq  UNC-LCCC  unaligned   \n",
       "21912089-1e42-4bcc-9ad9-fe9a9b88fb09        RNA-Seq  UNC-LCCC  unaligned   \n",
       "6b86e544-0372-434a-9f28-6fa4075dd228        RNA-Seq  UNC-LCCC  unaligned   \n",
       "30518eb4-2783-4988-bcd4-36a1a8bb4dfa        RNA-Seq  UNC-LCCC  unaligned   \n",
       "\n",
       "                                                                            a_GCSobject  \n",
       "a_CGHubAnalysisID                                                                        \n",
       "3a8e6a74-137f-468f-8987-fa0acdde2836  gs://5aa919de-0aa0-43ec-9ec3-288481102b6d/tcga...  \n",
       "c63d44f1-c9ad-4391-b1aa-0feb3713441b  gs://5aa919de-0aa0-43ec-9ec3-288481102b6d/tcga...  \n",
       "21912089-1e42-4bcc-9ad9-fe9a9b88fb09  gs://5aa919de-0aa0-43ec-9ec3-288481102b6d/tcga...  \n",
       "6b86e544-0372-434a-9f28-6fa4075dd228  gs://5aa919de-0aa0-43ec-9ec3-288481102b6d/tcga...  \n",
       "30518eb4-2783-4988-bcd4-36a1a8bb4dfa  gs://5aa919de-0aa0-43ec-9ec3-288481102b6d/tcga...  "
      ]
     },
     "execution_count": 11,
     "metadata": {},
     "output_type": "execute_result"
    }
   ],
   "source": [
    "meta.head()"
   ]
  },
  {
   "cell_type": "code",
   "execution_count": 12,
   "metadata": {},
   "outputs": [
    {
     "data": {
      "text/plain": [
       "(11373, 9)"
      ]
     },
     "execution_count": 12,
     "metadata": {},
     "output_type": "execute_result"
    }
   ],
   "source": [
    "meta.shape"
   ]
  },
  {
   "cell_type": "markdown",
   "metadata": {},
   "source": [
    "# Load Sample MetaData"
   ]
  },
  {
   "cell_type": "code",
   "execution_count": 13,
   "metadata": {
    "collapsed": true
   },
   "outputs": [],
   "source": [
    "sample_meta = pd.read_csv('Input/metadata_Adrenocortical carcinoma [ACC]', sep='\\t', index_col=1)"
   ]
  },
  {
   "cell_type": "code",
   "execution_count": 14,
   "metadata": {
    "scrolled": false
   },
   "outputs": [
    {
     "data": {
      "text/html": [
       "<div>\n",
       "<style scoped>\n",
       "    .dataframe tbody tr th:only-of-type {\n",
       "        vertical-align: middle;\n",
       "    }\n",
       "\n",
       "    .dataframe tbody tr th {\n",
       "        vertical-align: top;\n",
       "    }\n",
       "\n",
       "    .dataframe thead th {\n",
       "        text-align: right;\n",
       "    }\n",
       "</style>\n",
       "<table border=\"1\" class=\"dataframe\">\n",
       "  <thead>\n",
       "    <tr style=\"text-align: right;\">\n",
       "      <th></th>\n",
       "      <th>Unnamed: 0</th>\n",
       "      <th>Study</th>\n",
       "      <th>Project</th>\n",
       "      <th>ParticipantUUID</th>\n",
       "      <th>TSSCode</th>\n",
       "      <th>age_at_initial_pathologic_diagnosis</th>\n",
       "      <th>anatomic_neoplasm_subdivision</th>\n",
       "      <th>batch_number</th>\n",
       "      <th>bcr</th>\n",
       "      <th>clinical_M</th>\n",
       "      <th>...</th>\n",
       "      <th>BMI</th>\n",
       "      <th>age_began_smoking_in_years</th>\n",
       "      <th>h_pylori_infection</th>\n",
       "      <th>other_dx</th>\n",
       "      <th>other_malignancy_anatomic_site</th>\n",
       "      <th>other_malignancy_histological_type</th>\n",
       "      <th>other_malignancy_malignancy_type</th>\n",
       "      <th>stopped_smoking_year</th>\n",
       "      <th>venous_invasion</th>\n",
       "      <th>year_of_tobacco_smoking_onset</th>\n",
       "    </tr>\n",
       "    <tr>\n",
       "      <th>ParticipantBarcode</th>\n",
       "      <th></th>\n",
       "      <th></th>\n",
       "      <th></th>\n",
       "      <th></th>\n",
       "      <th></th>\n",
       "      <th></th>\n",
       "      <th></th>\n",
       "      <th></th>\n",
       "      <th></th>\n",
       "      <th></th>\n",
       "      <th></th>\n",
       "      <th></th>\n",
       "      <th></th>\n",
       "      <th></th>\n",
       "      <th></th>\n",
       "      <th></th>\n",
       "      <th></th>\n",
       "      <th></th>\n",
       "      <th></th>\n",
       "      <th></th>\n",
       "      <th></th>\n",
       "    </tr>\n",
       "  </thead>\n",
       "  <tbody>\n",
       "    <tr>\n",
       "      <th>TCGA-OR-A5K3</th>\n",
       "      <td>10480</td>\n",
       "      <td>ACC</td>\n",
       "      <td>TCGA</td>\n",
       "      <td>C72B973B-4719-46AB-AC99-05D14088D3BC</td>\n",
       "      <td>OR</td>\n",
       "      <td>53.0</td>\n",
       "      <td>NaN</td>\n",
       "      <td>304</td>\n",
       "      <td>Nationwide Children's Hospital</td>\n",
       "      <td>M0</td>\n",
       "      <td>...</td>\n",
       "      <td>NaN</td>\n",
       "      <td>NaN</td>\n",
       "      <td>NaN</td>\n",
       "      <td>No</td>\n",
       "      <td>NaN</td>\n",
       "      <td>NaN</td>\n",
       "      <td>NaN</td>\n",
       "      <td>NaN</td>\n",
       "      <td>NaN</td>\n",
       "      <td>NaN</td>\n",
       "    </tr>\n",
       "    <tr>\n",
       "      <th>TCGA-OR-A5KV</th>\n",
       "      <td>10481</td>\n",
       "      <td>ACC</td>\n",
       "      <td>TCGA</td>\n",
       "      <td>202F7A77-9E5A-4F12-8FFE-78AE5527A746</td>\n",
       "      <td>OR</td>\n",
       "      <td>17.0</td>\n",
       "      <td>NaN</td>\n",
       "      <td>304</td>\n",
       "      <td>Nationwide Children's Hospital</td>\n",
       "      <td>M0</td>\n",
       "      <td>...</td>\n",
       "      <td>NaN</td>\n",
       "      <td>NaN</td>\n",
       "      <td>NaN</td>\n",
       "      <td>No</td>\n",
       "      <td>NaN</td>\n",
       "      <td>NaN</td>\n",
       "      <td>NaN</td>\n",
       "      <td>NaN</td>\n",
       "      <td>NaN</td>\n",
       "      <td>NaN</td>\n",
       "    </tr>\n",
       "    <tr>\n",
       "      <th>TCGA-OR-A5L5</th>\n",
       "      <td>10482</td>\n",
       "      <td>ACC</td>\n",
       "      <td>TCGA</td>\n",
       "      <td>2F04E760-8A64-49F2-A1D6-3D390604745C</td>\n",
       "      <td>OR</td>\n",
       "      <td>77.0</td>\n",
       "      <td>NaN</td>\n",
       "      <td>304</td>\n",
       "      <td>Nationwide Children's Hospital</td>\n",
       "      <td>M0</td>\n",
       "      <td>...</td>\n",
       "      <td>NaN</td>\n",
       "      <td>NaN</td>\n",
       "      <td>NaN</td>\n",
       "      <td>Yes, History of Synchronous/Bilateral Malignancy</td>\n",
       "      <td>Ovary</td>\n",
       "      <td>Other, specify</td>\n",
       "      <td>Synchronous Malignancy</td>\n",
       "      <td>NaN</td>\n",
       "      <td>NaN</td>\n",
       "      <td>NaN</td>\n",
       "    </tr>\n",
       "    <tr>\n",
       "      <th>TCGA-OR-A5KX</th>\n",
       "      <td>10483</td>\n",
       "      <td>ACC</td>\n",
       "      <td>TCGA</td>\n",
       "      <td>33C02ECE-911B-4F45-B410-9DF07E9B189E</td>\n",
       "      <td>OR</td>\n",
       "      <td>25.0</td>\n",
       "      <td>NaN</td>\n",
       "      <td>304</td>\n",
       "      <td>Nationwide Children's Hospital</td>\n",
       "      <td>M0</td>\n",
       "      <td>...</td>\n",
       "      <td>NaN</td>\n",
       "      <td>NaN</td>\n",
       "      <td>NaN</td>\n",
       "      <td>No</td>\n",
       "      <td>NaN</td>\n",
       "      <td>NaN</td>\n",
       "      <td>NaN</td>\n",
       "      <td>NaN</td>\n",
       "      <td>NaN</td>\n",
       "      <td>NaN</td>\n",
       "    </tr>\n",
       "    <tr>\n",
       "      <th>TCGA-OR-A5JB</th>\n",
       "      <td>10484</td>\n",
       "      <td>ACC</td>\n",
       "      <td>TCGA</td>\n",
       "      <td>D63F2F1E-1970-445F-907B-23CF4D9EFD83</td>\n",
       "      <td>OR</td>\n",
       "      <td>52.0</td>\n",
       "      <td>NaN</td>\n",
       "      <td>304</td>\n",
       "      <td>Nationwide Children's Hospital</td>\n",
       "      <td>M1</td>\n",
       "      <td>...</td>\n",
       "      <td>NaN</td>\n",
       "      <td>NaN</td>\n",
       "      <td>NaN</td>\n",
       "      <td>No</td>\n",
       "      <td>NaN</td>\n",
       "      <td>NaN</td>\n",
       "      <td>NaN</td>\n",
       "      <td>NaN</td>\n",
       "      <td>NaN</td>\n",
       "      <td>NaN</td>\n",
       "    </tr>\n",
       "  </tbody>\n",
       "</table>\n",
       "<p>5 rows × 70 columns</p>\n",
       "</div>"
      ],
      "text/plain": [
       "                    Unnamed: 0 Study Project  \\\n",
       "ParticipantBarcode                             \n",
       "TCGA-OR-A5K3             10480   ACC    TCGA   \n",
       "TCGA-OR-A5KV             10481   ACC    TCGA   \n",
       "TCGA-OR-A5L5             10482   ACC    TCGA   \n",
       "TCGA-OR-A5KX             10483   ACC    TCGA   \n",
       "TCGA-OR-A5JB             10484   ACC    TCGA   \n",
       "\n",
       "                                         ParticipantUUID TSSCode  \\\n",
       "ParticipantBarcode                                                 \n",
       "TCGA-OR-A5K3        C72B973B-4719-46AB-AC99-05D14088D3BC      OR   \n",
       "TCGA-OR-A5KV        202F7A77-9E5A-4F12-8FFE-78AE5527A746      OR   \n",
       "TCGA-OR-A5L5        2F04E760-8A64-49F2-A1D6-3D390604745C      OR   \n",
       "TCGA-OR-A5KX        33C02ECE-911B-4F45-B410-9DF07E9B189E      OR   \n",
       "TCGA-OR-A5JB        D63F2F1E-1970-445F-907B-23CF4D9EFD83      OR   \n",
       "\n",
       "                    age_at_initial_pathologic_diagnosis  \\\n",
       "ParticipantBarcode                                        \n",
       "TCGA-OR-A5K3                                       53.0   \n",
       "TCGA-OR-A5KV                                       17.0   \n",
       "TCGA-OR-A5L5                                       77.0   \n",
       "TCGA-OR-A5KX                                       25.0   \n",
       "TCGA-OR-A5JB                                       52.0   \n",
       "\n",
       "                    anatomic_neoplasm_subdivision  batch_number  \\\n",
       "ParticipantBarcode                                                \n",
       "TCGA-OR-A5K3                                  NaN           304   \n",
       "TCGA-OR-A5KV                                  NaN           304   \n",
       "TCGA-OR-A5L5                                  NaN           304   \n",
       "TCGA-OR-A5KX                                  NaN           304   \n",
       "TCGA-OR-A5JB                                  NaN           304   \n",
       "\n",
       "                                               bcr clinical_M  \\\n",
       "ParticipantBarcode                                              \n",
       "TCGA-OR-A5K3        Nationwide Children's Hospital         M0   \n",
       "TCGA-OR-A5KV        Nationwide Children's Hospital         M0   \n",
       "TCGA-OR-A5L5        Nationwide Children's Hospital         M0   \n",
       "TCGA-OR-A5KX        Nationwide Children's Hospital         M0   \n",
       "TCGA-OR-A5JB        Nationwide Children's Hospital         M1   \n",
       "\n",
       "                                ...                BMI  \\\n",
       "ParticipantBarcode              ...                      \n",
       "TCGA-OR-A5K3                    ...                NaN   \n",
       "TCGA-OR-A5KV                    ...                NaN   \n",
       "TCGA-OR-A5L5                    ...                NaN   \n",
       "TCGA-OR-A5KX                    ...                NaN   \n",
       "TCGA-OR-A5JB                    ...                NaN   \n",
       "\n",
       "                    age_began_smoking_in_years  h_pylori_infection  \\\n",
       "ParticipantBarcode                                                   \n",
       "TCGA-OR-A5K3                               NaN                 NaN   \n",
       "TCGA-OR-A5KV                               NaN                 NaN   \n",
       "TCGA-OR-A5L5                               NaN                 NaN   \n",
       "TCGA-OR-A5KX                               NaN                 NaN   \n",
       "TCGA-OR-A5JB                               NaN                 NaN   \n",
       "\n",
       "                                                            other_dx  \\\n",
       "ParticipantBarcode                                                     \n",
       "TCGA-OR-A5K3                                                      No   \n",
       "TCGA-OR-A5KV                                                      No   \n",
       "TCGA-OR-A5L5        Yes, History of Synchronous/Bilateral Malignancy   \n",
       "TCGA-OR-A5KX                                                      No   \n",
       "TCGA-OR-A5JB                                                      No   \n",
       "\n",
       "                   other_malignancy_anatomic_site  \\\n",
       "ParticipantBarcode                                  \n",
       "TCGA-OR-A5K3                                  NaN   \n",
       "TCGA-OR-A5KV                                  NaN   \n",
       "TCGA-OR-A5L5                                Ovary   \n",
       "TCGA-OR-A5KX                                  NaN   \n",
       "TCGA-OR-A5JB                                  NaN   \n",
       "\n",
       "                   other_malignancy_histological_type  \\\n",
       "ParticipantBarcode                                      \n",
       "TCGA-OR-A5K3                                      NaN   \n",
       "TCGA-OR-A5KV                                      NaN   \n",
       "TCGA-OR-A5L5                           Other, specify   \n",
       "TCGA-OR-A5KX                                      NaN   \n",
       "TCGA-OR-A5JB                                      NaN   \n",
       "\n",
       "                    other_malignancy_malignancy_type  stopped_smoking_year  \\\n",
       "ParticipantBarcode                                                           \n",
       "TCGA-OR-A5K3                                     NaN                   NaN   \n",
       "TCGA-OR-A5KV                                     NaN                   NaN   \n",
       "TCGA-OR-A5L5                  Synchronous Malignancy                   NaN   \n",
       "TCGA-OR-A5KX                                     NaN                   NaN   \n",
       "TCGA-OR-A5JB                                     NaN                   NaN   \n",
       "\n",
       "                    venous_invasion  year_of_tobacco_smoking_onset  \n",
       "ParticipantBarcode                                                  \n",
       "TCGA-OR-A5K3                    NaN                            NaN  \n",
       "TCGA-OR-A5KV                    NaN                            NaN  \n",
       "TCGA-OR-A5L5                    NaN                            NaN  \n",
       "TCGA-OR-A5KX                    NaN                            NaN  \n",
       "TCGA-OR-A5JB                    NaN                            NaN  \n",
       "\n",
       "[5 rows x 70 columns]"
      ]
     },
     "execution_count": 14,
     "metadata": {},
     "output_type": "execute_result"
    }
   ],
   "source": [
    "sample_meta.head()"
   ]
  },
  {
   "cell_type": "code",
   "execution_count": 15,
   "metadata": {},
   "outputs": [
    {
     "data": {
      "text/plain": [
       "(92, 70)"
      ]
     },
     "execution_count": 15,
     "metadata": {},
     "output_type": "execute_result"
    }
   ],
   "source": [
    "sample_meta.shape"
   ]
  },
  {
   "cell_type": "markdown",
   "metadata": {},
   "source": [
    "# Load Data"
   ]
  },
  {
   "cell_type": "code",
   "execution_count": 16,
   "metadata": {
    "collapsed": true
   },
   "outputs": [],
   "source": [
    "matrix = pd.read_csv('Input/TCGA_ACC_tpm.tsv', sep='\\t', index_col=0)"
   ]
  },
  {
   "cell_type": "code",
   "execution_count": 17,
   "metadata": {},
   "outputs": [
    {
     "data": {
      "text/html": [
       "<div>\n",
       "<style scoped>\n",
       "    .dataframe tbody tr th:only-of-type {\n",
       "        vertical-align: middle;\n",
       "    }\n",
       "\n",
       "    .dataframe tbody tr th {\n",
       "        vertical-align: top;\n",
       "    }\n",
       "\n",
       "    .dataframe thead th {\n",
       "        text-align: right;\n",
       "    }\n",
       "</style>\n",
       "<table border=\"1\" class=\"dataframe\">\n",
       "  <thead>\n",
       "    <tr style=\"text-align: right;\">\n",
       "      <th></th>\n",
       "      <th>ca6d9c83-f6bc-474a-a87a-04a8d64f6752</th>\n",
       "      <th>e6f11961-dfda-4c6e-b051-54b27ad9d0de</th>\n",
       "      <th>25de321c-8ad7-4882-8c04-056649e9b4e5</th>\n",
       "      <th>80653994-a361-4e45-b044-502ce874a9d8</th>\n",
       "      <th>8c0b0a9b-6066-4bc3-8f09-1e0454e8b8a3</th>\n",
       "      <th>ec870197-fd7c-405b-bcdf-03c309ed4274</th>\n",
       "      <th>f33c9ee1-d32c-4606-b264-99bcd01e2059</th>\n",
       "      <th>0009f27d-a053-49b0-a030-ba9c1469224f</th>\n",
       "      <th>9b75d36c-9d68-45c1-8a47-bde800bf287e</th>\n",
       "      <th>8e4b078b-e6f7-4424-95fd-51a550203835</th>\n",
       "      <th>...</th>\n",
       "      <th>a8b9b341-f75d-4711-b7d9-667fa7d7efeb</th>\n",
       "      <th>e996049f-b7a5-4e57-b67f-4aa802c671ea</th>\n",
       "      <th>31767219-2d21-4258-86d9-ad0ef4a507f9</th>\n",
       "      <th>cc0f11a0-c323-422a-88f9-7238e050ad73</th>\n",
       "      <th>1b43c9ef-bae9-4160-9185-e1d81bd3c4fb</th>\n",
       "      <th>e03dc734-759e-4aec-a071-279ab599fb7b</th>\n",
       "      <th>c096d69c-d628-46bd-b553-9e90f73c8fb2</th>\n",
       "      <th>d2c3e0e7-bc22-435e-974c-a175e10d7542</th>\n",
       "      <th>f3b57849-0302-47b0-9e3b-7cbe9de07056</th>\n",
       "      <th>8bf5ee5d-fc34-4305-9e23-f9d999e8a64c</th>\n",
       "    </tr>\n",
       "  </thead>\n",
       "  <tbody>\n",
       "    <tr>\n",
       "      <th>ENST00000000233.9|ENSG00000004059.10|OTTHUMG00000023246.6|OTTHUMT00000059567.2|ARF5-001|ARF5|1103|protein_coding|</th>\n",
       "      <td>139.56300</td>\n",
       "      <td>152.81100</td>\n",
       "      <td>78.854900</td>\n",
       "      <td>407.21200</td>\n",
       "      <td>173.95600</td>\n",
       "      <td>160.92800</td>\n",
       "      <td>81.53210</td>\n",
       "      <td>137.521000</td>\n",
       "      <td>272.265000</td>\n",
       "      <td>91.5068</td>\n",
       "      <td>...</td>\n",
       "      <td>221.2150</td>\n",
       "      <td>164.633000</td>\n",
       "      <td>109.46500</td>\n",
       "      <td>168.300000</td>\n",
       "      <td>1.666770e+02</td>\n",
       "      <td>187.81800</td>\n",
       "      <td>117.1930</td>\n",
       "      <td>85.76750</td>\n",
       "      <td>105.5070</td>\n",
       "      <td>188.308000</td>\n",
       "    </tr>\n",
       "    <tr>\n",
       "      <th>ENST00000000412.7|ENSG00000003056.7|OTTHUMG00000168276.2|OTTHUMT00000399130.1|M6PR-001|M6PR|2756|protein_coding|</th>\n",
       "      <td>39.48070</td>\n",
       "      <td>8.00477</td>\n",
       "      <td>20.878100</td>\n",
       "      <td>1.48273</td>\n",
       "      <td>30.70750</td>\n",
       "      <td>36.89430</td>\n",
       "      <td>20.10400</td>\n",
       "      <td>13.871800</td>\n",
       "      <td>27.336000</td>\n",
       "      <td>36.1530</td>\n",
       "      <td>...</td>\n",
       "      <td>58.2828</td>\n",
       "      <td>43.083100</td>\n",
       "      <td>33.01430</td>\n",
       "      <td>25.820600</td>\n",
       "      <td>5.660110e+00</td>\n",
       "      <td>37.79450</td>\n",
       "      <td>23.4717</td>\n",
       "      <td>20.58830</td>\n",
       "      <td>86.6886</td>\n",
       "      <td>32.430200</td>\n",
       "    </tr>\n",
       "    <tr>\n",
       "      <th>ENST00000000442.10|ENSG00000173153.13|OTTHUMG00000150641.6|OTTHUMT00000319303.1|ESRRA-002|ESRRA|2215|protein_coding|</th>\n",
       "      <td>15.78650</td>\n",
       "      <td>25.01430</td>\n",
       "      <td>24.295800</td>\n",
       "      <td>41.15060</td>\n",
       "      <td>11.51740</td>\n",
       "      <td>40.52380</td>\n",
       "      <td>20.28820</td>\n",
       "      <td>18.515200</td>\n",
       "      <td>28.573800</td>\n",
       "      <td>39.1969</td>\n",
       "      <td>...</td>\n",
       "      <td>23.5859</td>\n",
       "      <td>12.906400</td>\n",
       "      <td>26.79040</td>\n",
       "      <td>33.599500</td>\n",
       "      <td>1.372730e+01</td>\n",
       "      <td>28.93700</td>\n",
       "      <td>14.1818</td>\n",
       "      <td>7.59664</td>\n",
       "      <td>21.5032</td>\n",
       "      <td>11.909600</td>\n",
       "    </tr>\n",
       "    <tr>\n",
       "      <th>ENST00000001008.5|ENSG00000004478.7|OTTHUMG00000090429.3|OTTHUMT00000206861.2|FKBP4-001|FKBP4|3732|protein_coding|</th>\n",
       "      <td>113.86700</td>\n",
       "      <td>13.45580</td>\n",
       "      <td>30.066700</td>\n",
       "      <td>41.50720</td>\n",
       "      <td>57.47680</td>\n",
       "      <td>41.25560</td>\n",
       "      <td>38.37850</td>\n",
       "      <td>13.410100</td>\n",
       "      <td>19.983700</td>\n",
       "      <td>13.5083</td>\n",
       "      <td>...</td>\n",
       "      <td>30.3721</td>\n",
       "      <td>39.656500</td>\n",
       "      <td>29.74550</td>\n",
       "      <td>13.497900</td>\n",
       "      <td>4.999490e+01</td>\n",
       "      <td>13.19950</td>\n",
       "      <td>59.1308</td>\n",
       "      <td>45.94380</td>\n",
       "      <td>55.6202</td>\n",
       "      <td>40.776200</td>\n",
       "    </tr>\n",
       "    <tr>\n",
       "      <th>ENST00000001146.6|ENSG00000003137.8|OTTHUMG00000129756.5|OTTHUMT00000251969.1|CYP26B1-001|CYP26B1|4732|protein_coding|</th>\n",
       "      <td>5.13914</td>\n",
       "      <td>0.23997</td>\n",
       "      <td>0.049712</td>\n",
       "      <td>0.00000</td>\n",
       "      <td>0.26945</td>\n",
       "      <td>2.17208</td>\n",
       "      <td>0.14382</td>\n",
       "      <td>0.119374</td>\n",
       "      <td>0.382538</td>\n",
       "      <td>12.1989</td>\n",
       "      <td>...</td>\n",
       "      <td>0.0000</td>\n",
       "      <td>0.074344</td>\n",
       "      <td>1.71667</td>\n",
       "      <td>0.499127</td>\n",
       "      <td>4.939720e-08</td>\n",
       "      <td>4.48836</td>\n",
       "      <td>11.9792</td>\n",
       "      <td>0.00000</td>\n",
       "      <td>1.4864</td>\n",
       "      <td>0.138578</td>\n",
       "    </tr>\n",
       "  </tbody>\n",
       "</table>\n",
       "<p>5 rows × 79 columns</p>\n",
       "</div>"
      ],
      "text/plain": [
       "                                                    ca6d9c83-f6bc-474a-a87a-04a8d64f6752  \\\n",
       "ENST00000000233.9|ENSG00000004059.10|OTTHUMG000...                             139.56300   \n",
       "ENST00000000412.7|ENSG00000003056.7|OTTHUMG0000...                              39.48070   \n",
       "ENST00000000442.10|ENSG00000173153.13|OTTHUMG00...                              15.78650   \n",
       "ENST00000001008.5|ENSG00000004478.7|OTTHUMG0000...                             113.86700   \n",
       "ENST00000001146.6|ENSG00000003137.8|OTTHUMG0000...                               5.13914   \n",
       "\n",
       "                                                    e6f11961-dfda-4c6e-b051-54b27ad9d0de  \\\n",
       "ENST00000000233.9|ENSG00000004059.10|OTTHUMG000...                             152.81100   \n",
       "ENST00000000412.7|ENSG00000003056.7|OTTHUMG0000...                               8.00477   \n",
       "ENST00000000442.10|ENSG00000173153.13|OTTHUMG00...                              25.01430   \n",
       "ENST00000001008.5|ENSG00000004478.7|OTTHUMG0000...                              13.45580   \n",
       "ENST00000001146.6|ENSG00000003137.8|OTTHUMG0000...                               0.23997   \n",
       "\n",
       "                                                    25de321c-8ad7-4882-8c04-056649e9b4e5  \\\n",
       "ENST00000000233.9|ENSG00000004059.10|OTTHUMG000...                             78.854900   \n",
       "ENST00000000412.7|ENSG00000003056.7|OTTHUMG0000...                             20.878100   \n",
       "ENST00000000442.10|ENSG00000173153.13|OTTHUMG00...                             24.295800   \n",
       "ENST00000001008.5|ENSG00000004478.7|OTTHUMG0000...                             30.066700   \n",
       "ENST00000001146.6|ENSG00000003137.8|OTTHUMG0000...                              0.049712   \n",
       "\n",
       "                                                    80653994-a361-4e45-b044-502ce874a9d8  \\\n",
       "ENST00000000233.9|ENSG00000004059.10|OTTHUMG000...                             407.21200   \n",
       "ENST00000000412.7|ENSG00000003056.7|OTTHUMG0000...                               1.48273   \n",
       "ENST00000000442.10|ENSG00000173153.13|OTTHUMG00...                              41.15060   \n",
       "ENST00000001008.5|ENSG00000004478.7|OTTHUMG0000...                              41.50720   \n",
       "ENST00000001146.6|ENSG00000003137.8|OTTHUMG0000...                               0.00000   \n",
       "\n",
       "                                                    8c0b0a9b-6066-4bc3-8f09-1e0454e8b8a3  \\\n",
       "ENST00000000233.9|ENSG00000004059.10|OTTHUMG000...                             173.95600   \n",
       "ENST00000000412.7|ENSG00000003056.7|OTTHUMG0000...                              30.70750   \n",
       "ENST00000000442.10|ENSG00000173153.13|OTTHUMG00...                              11.51740   \n",
       "ENST00000001008.5|ENSG00000004478.7|OTTHUMG0000...                              57.47680   \n",
       "ENST00000001146.6|ENSG00000003137.8|OTTHUMG0000...                               0.26945   \n",
       "\n",
       "                                                    ec870197-fd7c-405b-bcdf-03c309ed4274  \\\n",
       "ENST00000000233.9|ENSG00000004059.10|OTTHUMG000...                             160.92800   \n",
       "ENST00000000412.7|ENSG00000003056.7|OTTHUMG0000...                              36.89430   \n",
       "ENST00000000442.10|ENSG00000173153.13|OTTHUMG00...                              40.52380   \n",
       "ENST00000001008.5|ENSG00000004478.7|OTTHUMG0000...                              41.25560   \n",
       "ENST00000001146.6|ENSG00000003137.8|OTTHUMG0000...                               2.17208   \n",
       "\n",
       "                                                    f33c9ee1-d32c-4606-b264-99bcd01e2059  \\\n",
       "ENST00000000233.9|ENSG00000004059.10|OTTHUMG000...                              81.53210   \n",
       "ENST00000000412.7|ENSG00000003056.7|OTTHUMG0000...                              20.10400   \n",
       "ENST00000000442.10|ENSG00000173153.13|OTTHUMG00...                              20.28820   \n",
       "ENST00000001008.5|ENSG00000004478.7|OTTHUMG0000...                              38.37850   \n",
       "ENST00000001146.6|ENSG00000003137.8|OTTHUMG0000...                               0.14382   \n",
       "\n",
       "                                                    0009f27d-a053-49b0-a030-ba9c1469224f  \\\n",
       "ENST00000000233.9|ENSG00000004059.10|OTTHUMG000...                            137.521000   \n",
       "ENST00000000412.7|ENSG00000003056.7|OTTHUMG0000...                             13.871800   \n",
       "ENST00000000442.10|ENSG00000173153.13|OTTHUMG00...                             18.515200   \n",
       "ENST00000001008.5|ENSG00000004478.7|OTTHUMG0000...                             13.410100   \n",
       "ENST00000001146.6|ENSG00000003137.8|OTTHUMG0000...                              0.119374   \n",
       "\n",
       "                                                    9b75d36c-9d68-45c1-8a47-bde800bf287e  \\\n",
       "ENST00000000233.9|ENSG00000004059.10|OTTHUMG000...                            272.265000   \n",
       "ENST00000000412.7|ENSG00000003056.7|OTTHUMG0000...                             27.336000   \n",
       "ENST00000000442.10|ENSG00000173153.13|OTTHUMG00...                             28.573800   \n",
       "ENST00000001008.5|ENSG00000004478.7|OTTHUMG0000...                             19.983700   \n",
       "ENST00000001146.6|ENSG00000003137.8|OTTHUMG0000...                              0.382538   \n",
       "\n",
       "                                                    8e4b078b-e6f7-4424-95fd-51a550203835  \\\n",
       "ENST00000000233.9|ENSG00000004059.10|OTTHUMG000...                               91.5068   \n",
       "ENST00000000412.7|ENSG00000003056.7|OTTHUMG0000...                               36.1530   \n",
       "ENST00000000442.10|ENSG00000173153.13|OTTHUMG00...                               39.1969   \n",
       "ENST00000001008.5|ENSG00000004478.7|OTTHUMG0000...                               13.5083   \n",
       "ENST00000001146.6|ENSG00000003137.8|OTTHUMG0000...                               12.1989   \n",
       "\n",
       "                                                                    ...                   \\\n",
       "ENST00000000233.9|ENSG00000004059.10|OTTHUMG000...                  ...                    \n",
       "ENST00000000412.7|ENSG00000003056.7|OTTHUMG0000...                  ...                    \n",
       "ENST00000000442.10|ENSG00000173153.13|OTTHUMG00...                  ...                    \n",
       "ENST00000001008.5|ENSG00000004478.7|OTTHUMG0000...                  ...                    \n",
       "ENST00000001146.6|ENSG00000003137.8|OTTHUMG0000...                  ...                    \n",
       "\n",
       "                                                    a8b9b341-f75d-4711-b7d9-667fa7d7efeb  \\\n",
       "ENST00000000233.9|ENSG00000004059.10|OTTHUMG000...                              221.2150   \n",
       "ENST00000000412.7|ENSG00000003056.7|OTTHUMG0000...                               58.2828   \n",
       "ENST00000000442.10|ENSG00000173153.13|OTTHUMG00...                               23.5859   \n",
       "ENST00000001008.5|ENSG00000004478.7|OTTHUMG0000...                               30.3721   \n",
       "ENST00000001146.6|ENSG00000003137.8|OTTHUMG0000...                                0.0000   \n",
       "\n",
       "                                                    e996049f-b7a5-4e57-b67f-4aa802c671ea  \\\n",
       "ENST00000000233.9|ENSG00000004059.10|OTTHUMG000...                            164.633000   \n",
       "ENST00000000412.7|ENSG00000003056.7|OTTHUMG0000...                             43.083100   \n",
       "ENST00000000442.10|ENSG00000173153.13|OTTHUMG00...                             12.906400   \n",
       "ENST00000001008.5|ENSG00000004478.7|OTTHUMG0000...                             39.656500   \n",
       "ENST00000001146.6|ENSG00000003137.8|OTTHUMG0000...                              0.074344   \n",
       "\n",
       "                                                    31767219-2d21-4258-86d9-ad0ef4a507f9  \\\n",
       "ENST00000000233.9|ENSG00000004059.10|OTTHUMG000...                             109.46500   \n",
       "ENST00000000412.7|ENSG00000003056.7|OTTHUMG0000...                              33.01430   \n",
       "ENST00000000442.10|ENSG00000173153.13|OTTHUMG00...                              26.79040   \n",
       "ENST00000001008.5|ENSG00000004478.7|OTTHUMG0000...                              29.74550   \n",
       "ENST00000001146.6|ENSG00000003137.8|OTTHUMG0000...                               1.71667   \n",
       "\n",
       "                                                    cc0f11a0-c323-422a-88f9-7238e050ad73  \\\n",
       "ENST00000000233.9|ENSG00000004059.10|OTTHUMG000...                            168.300000   \n",
       "ENST00000000412.7|ENSG00000003056.7|OTTHUMG0000...                             25.820600   \n",
       "ENST00000000442.10|ENSG00000173153.13|OTTHUMG00...                             33.599500   \n",
       "ENST00000001008.5|ENSG00000004478.7|OTTHUMG0000...                             13.497900   \n",
       "ENST00000001146.6|ENSG00000003137.8|OTTHUMG0000...                              0.499127   \n",
       "\n",
       "                                                    1b43c9ef-bae9-4160-9185-e1d81bd3c4fb  \\\n",
       "ENST00000000233.9|ENSG00000004059.10|OTTHUMG000...                          1.666770e+02   \n",
       "ENST00000000412.7|ENSG00000003056.7|OTTHUMG0000...                          5.660110e+00   \n",
       "ENST00000000442.10|ENSG00000173153.13|OTTHUMG00...                          1.372730e+01   \n",
       "ENST00000001008.5|ENSG00000004478.7|OTTHUMG0000...                          4.999490e+01   \n",
       "ENST00000001146.6|ENSG00000003137.8|OTTHUMG0000...                          4.939720e-08   \n",
       "\n",
       "                                                    e03dc734-759e-4aec-a071-279ab599fb7b  \\\n",
       "ENST00000000233.9|ENSG00000004059.10|OTTHUMG000...                             187.81800   \n",
       "ENST00000000412.7|ENSG00000003056.7|OTTHUMG0000...                              37.79450   \n",
       "ENST00000000442.10|ENSG00000173153.13|OTTHUMG00...                              28.93700   \n",
       "ENST00000001008.5|ENSG00000004478.7|OTTHUMG0000...                              13.19950   \n",
       "ENST00000001146.6|ENSG00000003137.8|OTTHUMG0000...                               4.48836   \n",
       "\n",
       "                                                    c096d69c-d628-46bd-b553-9e90f73c8fb2  \\\n",
       "ENST00000000233.9|ENSG00000004059.10|OTTHUMG000...                              117.1930   \n",
       "ENST00000000412.7|ENSG00000003056.7|OTTHUMG0000...                               23.4717   \n",
       "ENST00000000442.10|ENSG00000173153.13|OTTHUMG00...                               14.1818   \n",
       "ENST00000001008.5|ENSG00000004478.7|OTTHUMG0000...                               59.1308   \n",
       "ENST00000001146.6|ENSG00000003137.8|OTTHUMG0000...                               11.9792   \n",
       "\n",
       "                                                    d2c3e0e7-bc22-435e-974c-a175e10d7542  \\\n",
       "ENST00000000233.9|ENSG00000004059.10|OTTHUMG000...                              85.76750   \n",
       "ENST00000000412.7|ENSG00000003056.7|OTTHUMG0000...                              20.58830   \n",
       "ENST00000000442.10|ENSG00000173153.13|OTTHUMG00...                               7.59664   \n",
       "ENST00000001008.5|ENSG00000004478.7|OTTHUMG0000...                              45.94380   \n",
       "ENST00000001146.6|ENSG00000003137.8|OTTHUMG0000...                               0.00000   \n",
       "\n",
       "                                                    f3b57849-0302-47b0-9e3b-7cbe9de07056  \\\n",
       "ENST00000000233.9|ENSG00000004059.10|OTTHUMG000...                              105.5070   \n",
       "ENST00000000412.7|ENSG00000003056.7|OTTHUMG0000...                               86.6886   \n",
       "ENST00000000442.10|ENSG00000173153.13|OTTHUMG00...                               21.5032   \n",
       "ENST00000001008.5|ENSG00000004478.7|OTTHUMG0000...                               55.6202   \n",
       "ENST00000001146.6|ENSG00000003137.8|OTTHUMG0000...                                1.4864   \n",
       "\n",
       "                                                    8bf5ee5d-fc34-4305-9e23-f9d999e8a64c  \n",
       "ENST00000000233.9|ENSG00000004059.10|OTTHUMG000...                            188.308000  \n",
       "ENST00000000412.7|ENSG00000003056.7|OTTHUMG0000...                             32.430200  \n",
       "ENST00000000442.10|ENSG00000173153.13|OTTHUMG00...                             11.909600  \n",
       "ENST00000001008.5|ENSG00000004478.7|OTTHUMG0000...                             40.776200  \n",
       "ENST00000001146.6|ENSG00000003137.8|OTTHUMG0000...                              0.138578  \n",
       "\n",
       "[5 rows x 79 columns]"
      ]
     },
     "execution_count": 17,
     "metadata": {},
     "output_type": "execute_result"
    }
   ],
   "source": [
    "matrix.head()"
   ]
  },
  {
   "cell_type": "code",
   "execution_count": 18,
   "metadata": {},
   "outputs": [
    {
     "data": {
      "text/plain": [
       "(199169, 79)"
      ]
     },
     "execution_count": 18,
     "metadata": {},
     "output_type": "execute_result"
    }
   ],
   "source": [
    "matrix.shape"
   ]
  },
  {
   "cell_type": "markdown",
   "metadata": {},
   "source": [
    "# Get Only Protein Coding Genes"
   ]
  },
  {
   "cell_type": "code",
   "execution_count": 19,
   "metadata": {},
   "outputs": [
    {
     "name": "stdout",
     "output_type": "stream",
     "text": [
      "Progress: 99%  199010 Out of 199169   \r"
     ]
    }
   ],
   "source": [
    "lst = []\n",
    "\n",
    "for i,index in enumerate(matrix.index):\n",
    "    \n",
    "    progressPercent = ((i+1)/len(matrix.index)*100)\n",
    "\n",
    "    sys.stdout.write(\"Progress: %d%%  %d Out of %d   \\r\" % (progressPercent, (i+1), len(matrix.index)))\n",
    "    sys.stdout.flush()\n",
    "                                 \n",
    "    lst.append(index.split('|')[7])    \n",
    "                       \n",
    "matrix['Gene Type'] = lst\n",
    "\n",
    "matrix = matrix[matrix['Gene Type'] == 'protein_coding']\n",
    "\n",
    "matrix.drop('Gene Type', axis=1, inplace=True)"
   ]
  },
  {
   "cell_type": "code",
   "execution_count": 20,
   "metadata": {},
   "outputs": [],
   "source": [
    "matrix.head()"
   ]
  },
  {
   "cell_type": "code",
   "execution_count": 21,
   "metadata": {},
   "outputs": [],
   "source": [
    "matrix.shape "
   ]
  },
  {
   "cell_type": "markdown",
   "metadata": {},
   "source": [
    "# Map Sample Meta Data to Sample ID"
   ]
  },
  {
   "cell_type": "code",
   "execution_count": 22,
   "metadata": {},
   "outputs": [],
   "source": [
    "getSampleID(matrix, meta)"
   ]
  },
  {
   "cell_type": "code",
   "execution_count": 23,
   "metadata": {},
   "outputs": [],
   "source": [
    "matrix.head()"
   ]
  },
  {
   "cell_type": "markdown",
   "metadata": {},
   "source": [
    "# Map Gene Symbol to Gene ID"
   ]
  },
  {
   "cell_type": "code",
   "execution_count": 24,
   "metadata": {
    "collapsed": true
   },
   "outputs": [],
   "source": [
    "getGenes(matrix)"
   ]
  },
  {
   "cell_type": "code",
   "execution_count": 25,
   "metadata": {},
   "outputs": [],
   "source": [
    "matrix.head()"
   ]
  },
  {
   "cell_type": "markdown",
   "metadata": {},
   "source": [
    "# Histogram of First Sample"
   ]
  },
  {
   "cell_type": "code",
   "execution_count": 26,
   "metadata": {},
   "outputs": [
    {
     "data": {
      "image/png": "[encoded data removed]",
      "text/plain": [
       "<matplotlib.figure.Figure at 0x11fd96e48>"
      ]
     },
     "metadata": {},
     "output_type": "display_data"
    }
   ],
   "source": [
    "# matrix.iloc[:, 0].hist(bins=100, log=True);\n",
    "sns.distplot(matrix.iloc[:, 0]);"
   ]
  },
  {
   "cell_type": "markdown",
   "metadata": {},
   "source": [
    "# Histogram of First Gene"
   ]
  },
  {
   "cell_type": "code",
   "execution_count": 27,
   "metadata": {},
   "outputs": [
    {
     "data": {
      "image/png": "[encoded data removed]",
      "text/plain": [
       "<matplotlib.figure.Figure at 0x11f1414a8>"
      ]
     },
     "metadata": {},
     "output_type": "display_data"
    }
   ],
   "source": [
    "# matrix.iloc[0, :].hist(bins=100);\n",
    "sns.distplot(matrix.iloc[0, :]);"
   ]
  },
  {
   "cell_type": "markdown",
   "metadata": {},
   "source": [
    "# Save Unfiltered Matrix to File"
   ]
  },
  {
   "cell_type": "code",
   "execution_count": 28,
   "metadata": {
    "collapsed": true
   },
   "outputs": [],
   "source": [
    "filename = path+'tcga_acc_matrix_unfilltered_%s.tsv.zip'% str(datetime.date.today())[0:7].replace('-', '_')\n",
    "matrix.to_csv(filename, sep='\\t', compression='gzip')"
   ]
  },
  {
   "cell_type": "markdown",
   "metadata": {},
   "source": [
    "# Filtered"
   ]
  },
  {
   "cell_type": "code",
   "execution_count": 29,
   "metadata": {
    "collapsed": true
   },
   "outputs": [],
   "source": [
    "normalized_matrix = matrix.copy()"
   ]
  },
  {
   "cell_type": "code",
   "execution_count": 30,
   "metadata": {
    "collapsed": true
   },
   "outputs": [],
   "source": [
    "normalized_matrix = normalized_matrix.groupby(level=0).max()"
   ]
  },
  {
   "cell_type": "markdown",
   "metadata": {},
   "source": [
    "# Remove any data with more than 95% missing and imput remaining mssing values to matrix mean"
   ]
  },
  {
   "cell_type": "code",
   "execution_count": 31,
   "metadata": {
    "collapsed": true
   },
   "outputs": [],
   "source": [
    "normalized_matrix = uf.removeAndImpute(normalized_matrix)"
   ]
  },
  {
   "cell_type": "code",
   "execution_count": 32,
   "metadata": {},
   "outputs": [
    {
     "data": {
      "text/html": [
       "<div>\n",
       "<style scoped>\n",
       "    .dataframe tbody tr th:only-of-type {\n",
       "        vertical-align: middle;\n",
       "    }\n",
       "\n",
       "    .dataframe tbody tr th {\n",
       "        vertical-align: top;\n",
       "    }\n",
       "\n",
       "    .dataframe thead th {\n",
       "        text-align: right;\n",
       "    }\n",
       "</style>\n",
       "<table border=\"1\" class=\"dataframe\">\n",
       "  <thead>\n",
       "    <tr style=\"text-align: right;\">\n",
       "      <th></th>\n",
       "      <th>TCGA-OR-A5JG-01A</th>\n",
       "      <th>TCGA-OR-A5LG-01A</th>\n",
       "      <th>TCGA-OR-A5JD-01A</th>\n",
       "      <th>TCGA-OR-A5LH-01A</th>\n",
       "      <th>TCGA-OR-A5KY-01A</th>\n",
       "      <th>TCGA-PK-A5HB-01A</th>\n",
       "      <th>TCGA-PK-A5HA-01A</th>\n",
       "      <th>TCGA-OR-A5KX-01A</th>\n",
       "      <th>TCGA-PK-A5H8-01A</th>\n",
       "      <th>TCGA-PK-A5H9-01A</th>\n",
       "      <th>...</th>\n",
       "      <th>TCGA-OR-A5JL-01A</th>\n",
       "      <th>TCGA-OR-A5JW-01A</th>\n",
       "      <th>TCGA-OR-A5JM-01A</th>\n",
       "      <th>TCGA-OR-A5JO-01A</th>\n",
       "      <th>TCGA-OR-A5JX-01A</th>\n",
       "      <th>TCGA-OR-A5JY-01A</th>\n",
       "      <th>TCGA-OR-A5K9-01A</th>\n",
       "      <th>TCGA-OR-A5K6-01A</th>\n",
       "      <th>TCGA-OR-A5J2-01A</th>\n",
       "      <th>TCGA-OR-A5J3-01A</th>\n",
       "    </tr>\n",
       "  </thead>\n",
       "  <tbody>\n",
       "    <tr>\n",
       "      <th>A1BG</th>\n",
       "      <td>0.156866</td>\n",
       "      <td>0.041220</td>\n",
       "      <td>0.041220</td>\n",
       "      <td>0.041220</td>\n",
       "      <td>0.041220</td>\n",
       "      <td>0.041220</td>\n",
       "      <td>0.028512</td>\n",
       "      <td>0.023254</td>\n",
       "      <td>0.022345</td>\n",
       "      <td>0.041220</td>\n",
       "      <td>...</td>\n",
       "      <td>0.041220</td>\n",
       "      <td>0.041220</td>\n",
       "      <td>0.041220</td>\n",
       "      <td>0.041220</td>\n",
       "      <td>0.026223</td>\n",
       "      <td>0.041220</td>\n",
       "      <td>0.041220</td>\n",
       "      <td>0.041220</td>\n",
       "      <td>0.041220</td>\n",
       "      <td>0.047193</td>\n",
       "    </tr>\n",
       "    <tr>\n",
       "      <th>A1CF</th>\n",
       "      <td>0.014681</td>\n",
       "      <td>0.013787</td>\n",
       "      <td>0.007410</td>\n",
       "      <td>0.073812</td>\n",
       "      <td>0.025045</td>\n",
       "      <td>0.081300</td>\n",
       "      <td>0.006817</td>\n",
       "      <td>0.011464</td>\n",
       "      <td>0.002801</td>\n",
       "      <td>0.430081</td>\n",
       "      <td>...</td>\n",
       "      <td>0.013082</td>\n",
       "      <td>0.091919</td>\n",
       "      <td>0.011600</td>\n",
       "      <td>0.270317</td>\n",
       "      <td>0.062173</td>\n",
       "      <td>0.015945</td>\n",
       "      <td>0.002572</td>\n",
       "      <td>0.009528</td>\n",
       "      <td>0.025045</td>\n",
       "      <td>0.008615</td>\n",
       "    </tr>\n",
       "    <tr>\n",
       "      <th>A2M</th>\n",
       "      <td>63.791800</td>\n",
       "      <td>60.448400</td>\n",
       "      <td>44.173500</td>\n",
       "      <td>106.658000</td>\n",
       "      <td>82.479000</td>\n",
       "      <td>146.937000</td>\n",
       "      <td>104.417000</td>\n",
       "      <td>42.631700</td>\n",
       "      <td>59.316500</td>\n",
       "      <td>4005.930000</td>\n",
       "      <td>...</td>\n",
       "      <td>75.113700</td>\n",
       "      <td>76.831600</td>\n",
       "      <td>31.308200</td>\n",
       "      <td>1287.360000</td>\n",
       "      <td>72.070700</td>\n",
       "      <td>73.939900</td>\n",
       "      <td>38.041300</td>\n",
       "      <td>39.414800</td>\n",
       "      <td>105.559000</td>\n",
       "      <td>62.771700</td>\n",
       "    </tr>\n",
       "    <tr>\n",
       "      <th>A2ML1</th>\n",
       "      <td>0.098411</td>\n",
       "      <td>0.048085</td>\n",
       "      <td>0.218348</td>\n",
       "      <td>0.749764</td>\n",
       "      <td>0.190570</td>\n",
       "      <td>0.035602</td>\n",
       "      <td>0.021462</td>\n",
       "      <td>0.116991</td>\n",
       "      <td>0.291238</td>\n",
       "      <td>0.263584</td>\n",
       "      <td>...</td>\n",
       "      <td>0.667841</td>\n",
       "      <td>0.130362</td>\n",
       "      <td>0.015975</td>\n",
       "      <td>0.080181</td>\n",
       "      <td>0.782357</td>\n",
       "      <td>0.085386</td>\n",
       "      <td>0.084290</td>\n",
       "      <td>0.083801</td>\n",
       "      <td>0.035500</td>\n",
       "      <td>0.107645</td>\n",
       "    </tr>\n",
       "    <tr>\n",
       "      <th>A3GALT2</th>\n",
       "      <td>0.071749</td>\n",
       "      <td>0.071749</td>\n",
       "      <td>0.071749</td>\n",
       "      <td>0.071749</td>\n",
       "      <td>0.071749</td>\n",
       "      <td>0.045591</td>\n",
       "      <td>0.071749</td>\n",
       "      <td>0.071749</td>\n",
       "      <td>0.049750</td>\n",
       "      <td>0.022483</td>\n",
       "      <td>...</td>\n",
       "      <td>0.071749</td>\n",
       "      <td>0.151256</td>\n",
       "      <td>0.106385</td>\n",
       "      <td>0.071749</td>\n",
       "      <td>0.019416</td>\n",
       "      <td>1.067380</td>\n",
       "      <td>0.071749</td>\n",
       "      <td>0.021218</td>\n",
       "      <td>0.071749</td>\n",
       "      <td>0.068970</td>\n",
       "    </tr>\n",
       "  </tbody>\n",
       "</table>\n",
       "<p>5 rows × 79 columns</p>\n",
       "</div>"
      ],
      "text/plain": [
       "         TCGA-OR-A5JG-01A  TCGA-OR-A5LG-01A  TCGA-OR-A5JD-01A  \\\n",
       "A1BG             0.156866          0.041220          0.041220   \n",
       "A1CF             0.014681          0.013787          0.007410   \n",
       "A2M             63.791800         60.448400         44.173500   \n",
       "A2ML1            0.098411          0.048085          0.218348   \n",
       "A3GALT2          0.071749          0.071749          0.071749   \n",
       "\n",
       "         TCGA-OR-A5LH-01A  TCGA-OR-A5KY-01A  TCGA-PK-A5HB-01A  \\\n",
       "A1BG             0.041220          0.041220          0.041220   \n",
       "A1CF             0.073812          0.025045          0.081300   \n",
       "A2M            106.658000         82.479000        146.937000   \n",
       "A2ML1            0.749764          0.190570          0.035602   \n",
       "A3GALT2          0.071749          0.071749          0.045591   \n",
       "\n",
       "         TCGA-PK-A5HA-01A  TCGA-OR-A5KX-01A  TCGA-PK-A5H8-01A  \\\n",
       "A1BG             0.028512          0.023254          0.022345   \n",
       "A1CF             0.006817          0.011464          0.002801   \n",
       "A2M            104.417000         42.631700         59.316500   \n",
       "A2ML1            0.021462          0.116991          0.291238   \n",
       "A3GALT2          0.071749          0.071749          0.049750   \n",
       "\n",
       "         TCGA-PK-A5H9-01A        ...         TCGA-OR-A5JL-01A  \\\n",
       "A1BG             0.041220        ...                 0.041220   \n",
       "A1CF             0.430081        ...                 0.013082   \n",
       "A2M           4005.930000        ...                75.113700   \n",
       "A2ML1            0.263584        ...                 0.667841   \n",
       "A3GALT2          0.022483        ...                 0.071749   \n",
       "\n",
       "         TCGA-OR-A5JW-01A  TCGA-OR-A5JM-01A  TCGA-OR-A5JO-01A  \\\n",
       "A1BG             0.041220          0.041220          0.041220   \n",
       "A1CF             0.091919          0.011600          0.270317   \n",
       "A2M             76.831600         31.308200       1287.360000   \n",
       "A2ML1            0.130362          0.015975          0.080181   \n",
       "A3GALT2          0.151256          0.106385          0.071749   \n",
       "\n",
       "         TCGA-OR-A5JX-01A  TCGA-OR-A5JY-01A  TCGA-OR-A5K9-01A  \\\n",
       "A1BG             0.026223          0.041220          0.041220   \n",
       "A1CF             0.062173          0.015945          0.002572   \n",
       "A2M             72.070700         73.939900         38.041300   \n",
       "A2ML1            0.782357          0.085386          0.084290   \n",
       "A3GALT2          0.019416          1.067380          0.071749   \n",
       "\n",
       "         TCGA-OR-A5K6-01A  TCGA-OR-A5J2-01A  TCGA-OR-A5J3-01A  \n",
       "A1BG             0.041220          0.041220          0.047193  \n",
       "A1CF             0.009528          0.025045          0.008615  \n",
       "A2M             39.414800        105.559000         62.771700  \n",
       "A2ML1            0.083801          0.035500          0.107645  \n",
       "A3GALT2          0.021218          0.071749          0.068970  \n",
       "\n",
       "[5 rows x 79 columns]"
      ]
     },
     "execution_count": 32,
     "metadata": {},
     "output_type": "execute_result"
    }
   ],
   "source": [
    "normalized_matrix.head()"
   ]
  },
  {
   "cell_type": "code",
   "execution_count": 33,
   "metadata": {},
   "outputs": [
    {
     "data": {
      "text/plain": [
       "(18942, 79)"
      ]
     },
     "execution_count": 33,
     "metadata": {},
     "output_type": "execute_result"
    }
   ],
   "source": [
    "normalized_matrix.shape"
   ]
  },
  {
   "cell_type": "markdown",
   "metadata": {},
   "source": [
    "# logCPM Transform"
   ]
  },
  {
   "cell_type": "markdown",
   "metadata": {},
   "source": [
    "Raw counts were normalized to log10-Counts Per Million (logCPM) by dividing each column by the total sum of its counts, multiplying it by 106, followed by the application of a log10-transform."
   ]
  },
  {
   "cell_type": "code",
   "execution_count": 34,
   "metadata": {
    "collapsed": true
   },
   "outputs": [],
   "source": [
    "for col in normalized_matrix.columns:\n",
    "\n",
    "    total = normalized_matrix[col].sum()\n",
    "    \n",
    "    normalized_matrix[col] = normalized_matrix[col].apply(lambda x: np.log10(((x)/total)*10**6))"
   ]
  },
  {
   "cell_type": "code",
   "execution_count": 35,
   "metadata": {},
   "outputs": [
    {
     "data": {
      "text/html": [
       "<div>\n",
       "<style scoped>\n",
       "    .dataframe tbody tr th:only-of-type {\n",
       "        vertical-align: middle;\n",
       "    }\n",
       "\n",
       "    .dataframe tbody tr th {\n",
       "        vertical-align: top;\n",
       "    }\n",
       "\n",
       "    .dataframe thead th {\n",
       "        text-align: right;\n",
       "    }\n",
       "</style>\n",
       "<table border=\"1\" class=\"dataframe\">\n",
       "  <thead>\n",
       "    <tr style=\"text-align: right;\">\n",
       "      <th></th>\n",
       "      <th>TCGA-OR-A5JG-01A</th>\n",
       "      <th>TCGA-OR-A5LG-01A</th>\n",
       "      <th>TCGA-OR-A5JD-01A</th>\n",
       "      <th>TCGA-OR-A5LH-01A</th>\n",
       "      <th>TCGA-OR-A5KY-01A</th>\n",
       "      <th>TCGA-PK-A5HB-01A</th>\n",
       "      <th>TCGA-PK-A5HA-01A</th>\n",
       "      <th>TCGA-OR-A5KX-01A</th>\n",
       "      <th>TCGA-PK-A5H8-01A</th>\n",
       "      <th>TCGA-PK-A5H9-01A</th>\n",
       "      <th>...</th>\n",
       "      <th>TCGA-OR-A5JL-01A</th>\n",
       "      <th>TCGA-OR-A5JW-01A</th>\n",
       "      <th>TCGA-OR-A5JM-01A</th>\n",
       "      <th>TCGA-OR-A5JO-01A</th>\n",
       "      <th>TCGA-OR-A5JX-01A</th>\n",
       "      <th>TCGA-OR-A5JY-01A</th>\n",
       "      <th>TCGA-OR-A5K9-01A</th>\n",
       "      <th>TCGA-OR-A5K6-01A</th>\n",
       "      <th>TCGA-OR-A5J2-01A</th>\n",
       "      <th>TCGA-OR-A5J3-01A</th>\n",
       "    </tr>\n",
       "  </thead>\n",
       "  <tbody>\n",
       "    <tr>\n",
       "      <th>A1BG</th>\n",
       "      <td>-0.638711</td>\n",
       "      <td>-1.202029</td>\n",
       "      <td>-1.242035</td>\n",
       "      <td>-1.145422</td>\n",
       "      <td>-1.206982</td>\n",
       "      <td>-1.209328</td>\n",
       "      <td>-1.441934</td>\n",
       "      <td>-1.440753</td>\n",
       "      <td>-1.449663</td>\n",
       "      <td>-1.211022</td>\n",
       "      <td>...</td>\n",
       "      <td>-1.203244</td>\n",
       "      <td>-1.219899</td>\n",
       "      <td>-1.194185</td>\n",
       "      <td>-1.205777</td>\n",
       "      <td>-1.414634</td>\n",
       "      <td>-1.212832</td>\n",
       "      <td>-1.199554</td>\n",
       "      <td>-1.226342</td>\n",
       "      <td>-1.223599</td>\n",
       "      <td>-1.171409</td>\n",
       "    </tr>\n",
       "    <tr>\n",
       "      <th>A1CF</th>\n",
       "      <td>-1.667490</td>\n",
       "      <td>-1.677671</td>\n",
       "      <td>-1.987335</td>\n",
       "      <td>-0.892406</td>\n",
       "      <td>-1.423372</td>\n",
       "      <td>-0.914349</td>\n",
       "      <td>-2.063395</td>\n",
       "      <td>-1.747920</td>\n",
       "      <td>-2.351517</td>\n",
       "      <td>-0.192584</td>\n",
       "      <td>...</td>\n",
       "      <td>-1.701685</td>\n",
       "      <td>-0.871605</td>\n",
       "      <td>-1.744843</td>\n",
       "      <td>-0.389015</td>\n",
       "      <td>-1.039719</td>\n",
       "      <td>-1.625319</td>\n",
       "      <td>-2.404476</td>\n",
       "      <td>-1.862456</td>\n",
       "      <td>-1.439989</td>\n",
       "      <td>-1.910019</td>\n",
       "    </tr>\n",
       "    <tr>\n",
       "      <th>A2M</th>\n",
       "      <td>1.970525</td>\n",
       "      <td>1.964244</td>\n",
       "      <td>1.788015</td>\n",
       "      <td>2.267459</td>\n",
       "      <td>2.094249</td>\n",
       "      <td>2.342691</td>\n",
       "      <td>2.121813</td>\n",
       "      <td>1.822476</td>\n",
       "      <td>1.974326</td>\n",
       "      <td>3.776569</td>\n",
       "      <td>...</td>\n",
       "      <td>2.057363</td>\n",
       "      <td>2.050529</td>\n",
       "      <td>1.686361</td>\n",
       "      <td>3.288811</td>\n",
       "      <td>2.024438</td>\n",
       "      <td>2.040935</td>\n",
       "      <td>1.765589</td>\n",
       "      <td>1.754205</td>\n",
       "      <td>2.184785</td>\n",
       "      <td>1.952479</td>\n",
       "    </tr>\n",
       "    <tr>\n",
       "      <th>A2ML1</th>\n",
       "      <td>-0.841196</td>\n",
       "      <td>-1.135131</td>\n",
       "      <td>-0.517998</td>\n",
       "      <td>0.114390</td>\n",
       "      <td>-0.542039</td>\n",
       "      <td>-1.272972</td>\n",
       "      <td>-1.565282</td>\n",
       "      <td>-0.739104</td>\n",
       "      <td>-0.334601</td>\n",
       "      <td>-0.405215</td>\n",
       "      <td>...</td>\n",
       "      <td>0.006317</td>\n",
       "      <td>-0.719860</td>\n",
       "      <td>-1.605848</td>\n",
       "      <td>-0.916816</td>\n",
       "      <td>0.060084</td>\n",
       "      <td>-0.896557</td>\n",
       "      <td>-0.888890</td>\n",
       "      <td>-0.918203</td>\n",
       "      <td>-1.288481</td>\n",
       "      <td>-0.813291</td>\n",
       "    </tr>\n",
       "    <tr>\n",
       "      <th>A3GALT2</th>\n",
       "      <td>-0.978422</td>\n",
       "      <td>-0.961323</td>\n",
       "      <td>-1.001329</td>\n",
       "      <td>-0.904716</td>\n",
       "      <td>-0.966276</td>\n",
       "      <td>-1.165565</td>\n",
       "      <td>-1.041140</td>\n",
       "      <td>-0.951438</td>\n",
       "      <td>-1.102056</td>\n",
       "      <td>-1.474284</td>\n",
       "      <td>...</td>\n",
       "      <td>-0.962538</td>\n",
       "      <td>-0.655299</td>\n",
       "      <td>-0.782417</td>\n",
       "      <td>-0.965071</td>\n",
       "      <td>-1.545168</td>\n",
       "      <td>0.200375</td>\n",
       "      <td>-0.958848</td>\n",
       "      <td>-1.514756</td>\n",
       "      <td>-0.982893</td>\n",
       "      <td>-1.006628</td>\n",
       "    </tr>\n",
       "  </tbody>\n",
       "</table>\n",
       "<p>5 rows × 79 columns</p>\n",
       "</div>"
      ],
      "text/plain": [
       "         TCGA-OR-A5JG-01A  TCGA-OR-A5LG-01A  TCGA-OR-A5JD-01A  \\\n",
       "A1BG            -0.638711         -1.202029         -1.242035   \n",
       "A1CF            -1.667490         -1.677671         -1.987335   \n",
       "A2M              1.970525          1.964244          1.788015   \n",
       "A2ML1           -0.841196         -1.135131         -0.517998   \n",
       "A3GALT2         -0.978422         -0.961323         -1.001329   \n",
       "\n",
       "         TCGA-OR-A5LH-01A  TCGA-OR-A5KY-01A  TCGA-PK-A5HB-01A  \\\n",
       "A1BG            -1.145422         -1.206982         -1.209328   \n",
       "A1CF            -0.892406         -1.423372         -0.914349   \n",
       "A2M              2.267459          2.094249          2.342691   \n",
       "A2ML1            0.114390         -0.542039         -1.272972   \n",
       "A3GALT2         -0.904716         -0.966276         -1.165565   \n",
       "\n",
       "         TCGA-PK-A5HA-01A  TCGA-OR-A5KX-01A  TCGA-PK-A5H8-01A  \\\n",
       "A1BG            -1.441934         -1.440753         -1.449663   \n",
       "A1CF            -2.063395         -1.747920         -2.351517   \n",
       "A2M              2.121813          1.822476          1.974326   \n",
       "A2ML1           -1.565282         -0.739104         -0.334601   \n",
       "A3GALT2         -1.041140         -0.951438         -1.102056   \n",
       "\n",
       "         TCGA-PK-A5H9-01A        ...         TCGA-OR-A5JL-01A  \\\n",
       "A1BG            -1.211022        ...                -1.203244   \n",
       "A1CF            -0.192584        ...                -1.701685   \n",
       "A2M              3.776569        ...                 2.057363   \n",
       "A2ML1           -0.405215        ...                 0.006317   \n",
       "A3GALT2         -1.474284        ...                -0.962538   \n",
       "\n",
       "         TCGA-OR-A5JW-01A  TCGA-OR-A5JM-01A  TCGA-OR-A5JO-01A  \\\n",
       "A1BG            -1.219899         -1.194185         -1.205777   \n",
       "A1CF            -0.871605         -1.744843         -0.389015   \n",
       "A2M              2.050529          1.686361          3.288811   \n",
       "A2ML1           -0.719860         -1.605848         -0.916816   \n",
       "A3GALT2         -0.655299         -0.782417         -0.965071   \n",
       "\n",
       "         TCGA-OR-A5JX-01A  TCGA-OR-A5JY-01A  TCGA-OR-A5K9-01A  \\\n",
       "A1BG            -1.414634         -1.212832         -1.199554   \n",
       "A1CF            -1.039719         -1.625319         -2.404476   \n",
       "A2M              2.024438          2.040935          1.765589   \n",
       "A2ML1            0.060084         -0.896557         -0.888890   \n",
       "A3GALT2         -1.545168          0.200375         -0.958848   \n",
       "\n",
       "         TCGA-OR-A5K6-01A  TCGA-OR-A5J2-01A  TCGA-OR-A5J3-01A  \n",
       "A1BG            -1.226342         -1.223599         -1.171409  \n",
       "A1CF            -1.862456         -1.439989         -1.910019  \n",
       "A2M              1.754205          2.184785          1.952479  \n",
       "A2ML1           -0.918203         -1.288481         -0.813291  \n",
       "A3GALT2         -1.514756         -0.982893         -1.006628  \n",
       "\n",
       "[5 rows x 79 columns]"
      ]
     },
     "execution_count": 35,
     "metadata": {},
     "output_type": "execute_result"
    }
   ],
   "source": [
    "normalized_matrix.head()"
   ]
  },
  {
   "cell_type": "markdown",
   "metadata": {},
   "source": [
    "# Normalize Matrix (Quantile Normalize the matrix for the columns)"
   ]
  },
  {
   "cell_type": "code",
   "execution_count": 36,
   "metadata": {},
   "outputs": [
    {
     "name": "stdout",
     "output_type": "stream",
     "text": [
      "Step 2/2 progress: 100%  79 Out of 79   \r"
     ]
    }
   ],
   "source": [
    "normalized_matrix = uf.quantileNormalize(normalized_matrix)"
   ]
  },
  {
   "cell_type": "code",
   "execution_count": 37,
   "metadata": {},
   "outputs": [
    {
     "data": {
      "text/html": [
       "<div>\n",
       "<style scoped>\n",
       "    .dataframe tbody tr th:only-of-type {\n",
       "        vertical-align: middle;\n",
       "    }\n",
       "\n",
       "    .dataframe tbody tr th {\n",
       "        vertical-align: top;\n",
       "    }\n",
       "\n",
       "    .dataframe thead th {\n",
       "        text-align: right;\n",
       "    }\n",
       "</style>\n",
       "<table border=\"1\" class=\"dataframe\">\n",
       "  <thead>\n",
       "    <tr style=\"text-align: right;\">\n",
       "      <th></th>\n",
       "      <th>TCGA-OR-A5JG-01A</th>\n",
       "      <th>TCGA-OR-A5LG-01A</th>\n",
       "      <th>TCGA-OR-A5JD-01A</th>\n",
       "      <th>TCGA-OR-A5LH-01A</th>\n",
       "      <th>TCGA-OR-A5KY-01A</th>\n",
       "      <th>TCGA-PK-A5HB-01A</th>\n",
       "      <th>TCGA-PK-A5HA-01A</th>\n",
       "      <th>TCGA-OR-A5KX-01A</th>\n",
       "      <th>TCGA-PK-A5H8-01A</th>\n",
       "      <th>TCGA-PK-A5H9-01A</th>\n",
       "      <th>...</th>\n",
       "      <th>TCGA-OR-A5JL-01A</th>\n",
       "      <th>TCGA-OR-A5JW-01A</th>\n",
       "      <th>TCGA-OR-A5JM-01A</th>\n",
       "      <th>TCGA-OR-A5JO-01A</th>\n",
       "      <th>TCGA-OR-A5JX-01A</th>\n",
       "      <th>TCGA-OR-A5JY-01A</th>\n",
       "      <th>TCGA-OR-A5K9-01A</th>\n",
       "      <th>TCGA-OR-A5K6-01A</th>\n",
       "      <th>TCGA-OR-A5J2-01A</th>\n",
       "      <th>TCGA-OR-A5J3-01A</th>\n",
       "    </tr>\n",
       "  </thead>\n",
       "  <tbody>\n",
       "    <tr>\n",
       "      <th>A1BG</th>\n",
       "      <td>-0.571788</td>\n",
       "      <td>-1.145362</td>\n",
       "      <td>-1.079838</td>\n",
       "      <td>-1.460520</td>\n",
       "      <td>-1.217320</td>\n",
       "      <td>-1.262630</td>\n",
       "      <td>-1.277548</td>\n",
       "      <td>-1.439316</td>\n",
       "      <td>-1.509637</td>\n",
       "      <td>-1.271298</td>\n",
       "      <td>...</td>\n",
       "      <td>-1.250523</td>\n",
       "      <td>-1.247208</td>\n",
       "      <td>-1.237270</td>\n",
       "      <td>-1.263803</td>\n",
       "      <td>-1.375212</td>\n",
       "      <td>-1.293831</td>\n",
       "      <td>-1.193047</td>\n",
       "      <td>-1.194534</td>\n",
       "      <td>-1.220309</td>\n",
       "      <td>-1.188571</td>\n",
       "    </tr>\n",
       "    <tr>\n",
       "      <th>A1CF</th>\n",
       "      <td>-1.625907</td>\n",
       "      <td>-1.606723</td>\n",
       "      <td>-1.791546</td>\n",
       "      <td>-1.202049</td>\n",
       "      <td>-1.421487</td>\n",
       "      <td>-0.973647</td>\n",
       "      <td>-1.826819</td>\n",
       "      <td>-1.728389</td>\n",
       "      <td>-2.359489</td>\n",
       "      <td>-0.342735</td>\n",
       "      <td>...</td>\n",
       "      <td>-1.754250</td>\n",
       "      <td>-0.914330</td>\n",
       "      <td>-1.814707</td>\n",
       "      <td>-0.523019</td>\n",
       "      <td>-0.998524</td>\n",
       "      <td>-1.707977</td>\n",
       "      <td>-2.271921</td>\n",
       "      <td>-1.827601</td>\n",
       "      <td>-1.426402</td>\n",
       "      <td>-1.938644</td>\n",
       "    </tr>\n",
       "    <tr>\n",
       "      <th>A2M</th>\n",
       "      <td>1.924820</td>\n",
       "      <td>1.907796</td>\n",
       "      <td>2.061700</td>\n",
       "      <td>2.154738</td>\n",
       "      <td>2.024303</td>\n",
       "      <td>2.173065</td>\n",
       "      <td>2.366827</td>\n",
       "      <td>1.761977</td>\n",
       "      <td>1.928294</td>\n",
       "      <td>3.617204</td>\n",
       "      <td>...</td>\n",
       "      <td>1.920462</td>\n",
       "      <td>1.992277</td>\n",
       "      <td>1.470176</td>\n",
       "      <td>3.073233</td>\n",
       "      <td>2.089256</td>\n",
       "      <td>1.924820</td>\n",
       "      <td>1.639667</td>\n",
       "      <td>1.715326</td>\n",
       "      <td>2.175782</td>\n",
       "      <td>1.918706</td>\n",
       "    </tr>\n",
       "    <tr>\n",
       "      <th>A2ML1</th>\n",
       "      <td>-0.789614</td>\n",
       "      <td>-1.068842</td>\n",
       "      <td>-0.334305</td>\n",
       "      <td>-0.130596</td>\n",
       "      <td>-0.566594</td>\n",
       "      <td>-1.320414</td>\n",
       "      <td>-1.405082</td>\n",
       "      <td>-0.741531</td>\n",
       "      <td>-0.415895</td>\n",
       "      <td>-0.535167</td>\n",
       "      <td>...</td>\n",
       "      <td>-0.085592</td>\n",
       "      <td>-0.762326</td>\n",
       "      <td>-1.658301</td>\n",
       "      <td>-0.987228</td>\n",
       "      <td>0.142831</td>\n",
       "      <td>-0.994366</td>\n",
       "      <td>-0.880288</td>\n",
       "      <td>-0.884127</td>\n",
       "      <td>-1.287465</td>\n",
       "      <td>-0.836279</td>\n",
       "    </tr>\n",
       "    <tr>\n",
       "      <th>A3GALT2</th>\n",
       "      <td>-0.928499</td>\n",
       "      <td>-0.891094</td>\n",
       "      <td>-0.831436</td>\n",
       "      <td>-1.214898</td>\n",
       "      <td>-0.981177</td>\n",
       "      <td>-1.220821</td>\n",
       "      <td>-0.866586</td>\n",
       "      <td>-0.950115</td>\n",
       "      <td>-1.172615</td>\n",
       "      <td>-1.518025</td>\n",
       "      <td>...</td>\n",
       "      <td>-1.014756</td>\n",
       "      <td>-0.696508</td>\n",
       "      <td>-0.817078</td>\n",
       "      <td>-1.040125</td>\n",
       "      <td>-1.510091</td>\n",
       "      <td>0.058165</td>\n",
       "      <td>-0.949605</td>\n",
       "      <td>-1.477832</td>\n",
       "      <td>-0.990521</td>\n",
       "      <td>-1.024335</td>\n",
       "    </tr>\n",
       "  </tbody>\n",
       "</table>\n",
       "<p>5 rows × 79 columns</p>\n",
       "</div>"
      ],
      "text/plain": [
       "         TCGA-OR-A5JG-01A  TCGA-OR-A5LG-01A  TCGA-OR-A5JD-01A  \\\n",
       "A1BG            -0.571788         -1.145362         -1.079838   \n",
       "A1CF            -1.625907         -1.606723         -1.791546   \n",
       "A2M              1.924820          1.907796          2.061700   \n",
       "A2ML1           -0.789614         -1.068842         -0.334305   \n",
       "A3GALT2         -0.928499         -0.891094         -0.831436   \n",
       "\n",
       "         TCGA-OR-A5LH-01A  TCGA-OR-A5KY-01A  TCGA-PK-A5HB-01A  \\\n",
       "A1BG            -1.460520         -1.217320         -1.262630   \n",
       "A1CF            -1.202049         -1.421487         -0.973647   \n",
       "A2M              2.154738          2.024303          2.173065   \n",
       "A2ML1           -0.130596         -0.566594         -1.320414   \n",
       "A3GALT2         -1.214898         -0.981177         -1.220821   \n",
       "\n",
       "         TCGA-PK-A5HA-01A  TCGA-OR-A5KX-01A  TCGA-PK-A5H8-01A  \\\n",
       "A1BG            -1.277548         -1.439316         -1.509637   \n",
       "A1CF            -1.826819         -1.728389         -2.359489   \n",
       "A2M              2.366827          1.761977          1.928294   \n",
       "A2ML1           -1.405082         -0.741531         -0.415895   \n",
       "A3GALT2         -0.866586         -0.950115         -1.172615   \n",
       "\n",
       "         TCGA-PK-A5H9-01A        ...         TCGA-OR-A5JL-01A  \\\n",
       "A1BG            -1.271298        ...                -1.250523   \n",
       "A1CF            -0.342735        ...                -1.754250   \n",
       "A2M              3.617204        ...                 1.920462   \n",
       "A2ML1           -0.535167        ...                -0.085592   \n",
       "A3GALT2         -1.518025        ...                -1.014756   \n",
       "\n",
       "         TCGA-OR-A5JW-01A  TCGA-OR-A5JM-01A  TCGA-OR-A5JO-01A  \\\n",
       "A1BG            -1.247208         -1.237270         -1.263803   \n",
       "A1CF            -0.914330         -1.814707         -0.523019   \n",
       "A2M              1.992277          1.470176          3.073233   \n",
       "A2ML1           -0.762326         -1.658301         -0.987228   \n",
       "A3GALT2         -0.696508         -0.817078         -1.040125   \n",
       "\n",
       "         TCGA-OR-A5JX-01A  TCGA-OR-A5JY-01A  TCGA-OR-A5K9-01A  \\\n",
       "A1BG            -1.375212         -1.293831         -1.193047   \n",
       "A1CF            -0.998524         -1.707977         -2.271921   \n",
       "A2M              2.089256          1.924820          1.639667   \n",
       "A2ML1            0.142831         -0.994366         -0.880288   \n",
       "A3GALT2         -1.510091          0.058165         -0.949605   \n",
       "\n",
       "         TCGA-OR-A5K6-01A  TCGA-OR-A5J2-01A  TCGA-OR-A5J3-01A  \n",
       "A1BG            -1.194534         -1.220309         -1.188571  \n",
       "A1CF            -1.827601         -1.426402         -1.938644  \n",
       "A2M              1.715326          2.175782          1.918706  \n",
       "A2ML1           -0.884127         -1.287465         -0.836279  \n",
       "A3GALT2         -1.477832         -0.990521         -1.024335  \n",
       "\n",
       "[5 rows x 79 columns]"
      ]
     },
     "execution_count": 37,
     "metadata": {},
     "output_type": "execute_result"
    }
   ],
   "source": [
    "normalized_matrix.head()"
   ]
  },
  {
   "cell_type": "markdown",
   "metadata": {},
   "source": [
    "# Normalize Matrix (z-score the rows)"
   ]
  },
  {
   "cell_type": "code",
   "execution_count": 38,
   "metadata": {},
   "outputs": [
    {
     "name": "stdout",
     "output_type": "stream",
     "text": [
      "Progress: 100%  18942 Out of 18942   \r"
     ]
    }
   ],
   "source": [
    "uf.zscore(normalized_matrix, 'row')"
   ]
  },
  {
   "cell_type": "code",
   "execution_count": 39,
   "metadata": {},
   "outputs": [
    {
     "data": {
      "text/html": [
       "<div>\n",
       "<style scoped>\n",
       "    .dataframe tbody tr th:only-of-type {\n",
       "        vertical-align: middle;\n",
       "    }\n",
       "\n",
       "    .dataframe tbody tr th {\n",
       "        vertical-align: top;\n",
       "    }\n",
       "\n",
       "    .dataframe thead th {\n",
       "        text-align: right;\n",
       "    }\n",
       "</style>\n",
       "<table border=\"1\" class=\"dataframe\">\n",
       "  <thead>\n",
       "    <tr style=\"text-align: right;\">\n",
       "      <th></th>\n",
       "      <th>TCGA-OR-A5JG-01A</th>\n",
       "      <th>TCGA-OR-A5LG-01A</th>\n",
       "      <th>TCGA-OR-A5JD-01A</th>\n",
       "      <th>TCGA-OR-A5LH-01A</th>\n",
       "      <th>TCGA-OR-A5KY-01A</th>\n",
       "      <th>TCGA-PK-A5HB-01A</th>\n",
       "      <th>TCGA-PK-A5HA-01A</th>\n",
       "      <th>TCGA-OR-A5KX-01A</th>\n",
       "      <th>TCGA-PK-A5H8-01A</th>\n",
       "      <th>TCGA-PK-A5H9-01A</th>\n",
       "      <th>...</th>\n",
       "      <th>TCGA-OR-A5JL-01A</th>\n",
       "      <th>TCGA-OR-A5JW-01A</th>\n",
       "      <th>TCGA-OR-A5JM-01A</th>\n",
       "      <th>TCGA-OR-A5JO-01A</th>\n",
       "      <th>TCGA-OR-A5JX-01A</th>\n",
       "      <th>TCGA-OR-A5JY-01A</th>\n",
       "      <th>TCGA-OR-A5K9-01A</th>\n",
       "      <th>TCGA-OR-A5K6-01A</th>\n",
       "      <th>TCGA-OR-A5J2-01A</th>\n",
       "      <th>TCGA-OR-A5J3-01A</th>\n",
       "    </tr>\n",
       "  </thead>\n",
       "  <tbody>\n",
       "    <tr>\n",
       "      <th>A1BG</th>\n",
       "      <td>9.341924</td>\n",
       "      <td>1.238522</td>\n",
       "      <td>2.164250</td>\n",
       "      <td>-3.213986</td>\n",
       "      <td>0.221907</td>\n",
       "      <td>-0.418219</td>\n",
       "      <td>-0.628976</td>\n",
       "      <td>-2.914423</td>\n",
       "      <td>-3.907905</td>\n",
       "      <td>-0.540678</td>\n",
       "      <td>...</td>\n",
       "      <td>-0.247178</td>\n",
       "      <td>-0.200343</td>\n",
       "      <td>-0.059936</td>\n",
       "      <td>-0.434792</td>\n",
       "      <td>-2.008766</td>\n",
       "      <td>-0.859028</td>\n",
       "      <td>0.564845</td>\n",
       "      <td>0.543828</td>\n",
       "      <td>0.179678</td>\n",
       "      <td>0.628074</td>\n",
       "    </tr>\n",
       "    <tr>\n",
       "      <th>A1CF</th>\n",
       "      <td>0.491016</td>\n",
       "      <td>0.549629</td>\n",
       "      <td>-0.015058</td>\n",
       "      <td>1.786023</td>\n",
       "      <td>1.115577</td>\n",
       "      <td>2.483856</td>\n",
       "      <td>-0.122827</td>\n",
       "      <td>0.177906</td>\n",
       "      <td>-1.750288</td>\n",
       "      <td>4.411473</td>\n",
       "      <td>...</td>\n",
       "      <td>0.098892</td>\n",
       "      <td>2.665089</td>\n",
       "      <td>-0.085823</td>\n",
       "      <td>3.860656</td>\n",
       "      <td>2.407851</td>\n",
       "      <td>0.240268</td>\n",
       "      <td>-1.482741</td>\n",
       "      <td>-0.125218</td>\n",
       "      <td>1.100562</td>\n",
       "      <td>-0.464484</td>\n",
       "    </tr>\n",
       "    <tr>\n",
       "      <th>A2M</th>\n",
       "      <td>-0.218752</td>\n",
       "      <td>-0.280010</td>\n",
       "      <td>0.273779</td>\n",
       "      <td>0.608557</td>\n",
       "      <td>0.139216</td>\n",
       "      <td>0.674500</td>\n",
       "      <td>1.371711</td>\n",
       "      <td>-0.804705</td>\n",
       "      <td>-0.206251</td>\n",
       "      <td>5.870909</td>\n",
       "      <td>...</td>\n",
       "      <td>-0.234433</td>\n",
       "      <td>0.023976</td>\n",
       "      <td>-1.854687</td>\n",
       "      <td>3.913551</td>\n",
       "      <td>0.372934</td>\n",
       "      <td>-0.218752</td>\n",
       "      <td>-1.244812</td>\n",
       "      <td>-0.972568</td>\n",
       "      <td>0.684277</td>\n",
       "      <td>-0.240751</td>\n",
       "    </tr>\n",
       "    <tr>\n",
       "      <th>A2ML1</th>\n",
       "      <td>-0.052013</td>\n",
       "      <td>-0.584252</td>\n",
       "      <td>0.815856</td>\n",
       "      <td>1.204147</td>\n",
       "      <td>0.373086</td>\n",
       "      <td>-1.063775</td>\n",
       "      <td>-1.225162</td>\n",
       "      <td>0.039638</td>\n",
       "      <td>0.660336</td>\n",
       "      <td>0.432991</td>\n",
       "      <td>...</td>\n",
       "      <td>1.289929</td>\n",
       "      <td>0.000000</td>\n",
       "      <td>-1.707826</td>\n",
       "      <td>-0.428687</td>\n",
       "      <td>1.725328</td>\n",
       "      <td>-0.442293</td>\n",
       "      <td>-0.224848</td>\n",
       "      <td>-0.232165</td>\n",
       "      <td>-1.000971</td>\n",
       "      <td>-0.140962</td>\n",
       "    </tr>\n",
       "    <tr>\n",
       "      <th>A3GALT2</th>\n",
       "      <td>0.513198</td>\n",
       "      <td>0.674500</td>\n",
       "      <td>0.931767</td>\n",
       "      <td>-0.721849</td>\n",
       "      <td>0.286033</td>\n",
       "      <td>-0.747391</td>\n",
       "      <td>0.780188</td>\n",
       "      <td>0.419981</td>\n",
       "      <td>-0.539512</td>\n",
       "      <td>-2.029036</td>\n",
       "      <td>...</td>\n",
       "      <td>0.141226</td>\n",
       "      <td>1.513618</td>\n",
       "      <td>0.993680</td>\n",
       "      <td>0.031828</td>\n",
       "      <td>-1.994822</td>\n",
       "      <td>4.768020</td>\n",
       "      <td>0.422180</td>\n",
       "      <td>-1.855709</td>\n",
       "      <td>0.245737</td>\n",
       "      <td>0.099919</td>\n",
       "    </tr>\n",
       "  </tbody>\n",
       "</table>\n",
       "<p>5 rows × 79 columns</p>\n",
       "</div>"
      ],
      "text/plain": [
       "         TCGA-OR-A5JG-01A  TCGA-OR-A5LG-01A  TCGA-OR-A5JD-01A  \\\n",
       "A1BG             9.341924          1.238522          2.164250   \n",
       "A1CF             0.491016          0.549629         -0.015058   \n",
       "A2M             -0.218752         -0.280010          0.273779   \n",
       "A2ML1           -0.052013         -0.584252          0.815856   \n",
       "A3GALT2          0.513198          0.674500          0.931767   \n",
       "\n",
       "         TCGA-OR-A5LH-01A  TCGA-OR-A5KY-01A  TCGA-PK-A5HB-01A  \\\n",
       "A1BG            -3.213986          0.221907         -0.418219   \n",
       "A1CF             1.786023          1.115577          2.483856   \n",
       "A2M              0.608557          0.139216          0.674500   \n",
       "A2ML1            1.204147          0.373086         -1.063775   \n",
       "A3GALT2         -0.721849          0.286033         -0.747391   \n",
       "\n",
       "         TCGA-PK-A5HA-01A  TCGA-OR-A5KX-01A  TCGA-PK-A5H8-01A  \\\n",
       "A1BG            -0.628976         -2.914423         -3.907905   \n",
       "A1CF            -0.122827          0.177906         -1.750288   \n",
       "A2M              1.371711         -0.804705         -0.206251   \n",
       "A2ML1           -1.225162          0.039638          0.660336   \n",
       "A3GALT2          0.780188          0.419981         -0.539512   \n",
       "\n",
       "         TCGA-PK-A5H9-01A        ...         TCGA-OR-A5JL-01A  \\\n",
       "A1BG            -0.540678        ...                -0.247178   \n",
       "A1CF             4.411473        ...                 0.098892   \n",
       "A2M              5.870909        ...                -0.234433   \n",
       "A2ML1            0.432991        ...                 1.289929   \n",
       "A3GALT2         -2.029036        ...                 0.141226   \n",
       "\n",
       "         TCGA-OR-A5JW-01A  TCGA-OR-A5JM-01A  TCGA-OR-A5JO-01A  \\\n",
       "A1BG            -0.200343         -0.059936         -0.434792   \n",
       "A1CF             2.665089         -0.085823          3.860656   \n",
       "A2M              0.023976         -1.854687          3.913551   \n",
       "A2ML1            0.000000         -1.707826         -0.428687   \n",
       "A3GALT2          1.513618          0.993680          0.031828   \n",
       "\n",
       "         TCGA-OR-A5JX-01A  TCGA-OR-A5JY-01A  TCGA-OR-A5K9-01A  \\\n",
       "A1BG            -2.008766         -0.859028          0.564845   \n",
       "A1CF             2.407851          0.240268         -1.482741   \n",
       "A2M              0.372934         -0.218752         -1.244812   \n",
       "A2ML1            1.725328         -0.442293         -0.224848   \n",
       "A3GALT2         -1.994822          4.768020          0.422180   \n",
       "\n",
       "         TCGA-OR-A5K6-01A  TCGA-OR-A5J2-01A  TCGA-OR-A5J3-01A  \n",
       "A1BG             0.543828          0.179678          0.628074  \n",
       "A1CF            -0.125218          1.100562         -0.464484  \n",
       "A2M             -0.972568          0.684277         -0.240751  \n",
       "A2ML1           -0.232165         -1.000971         -0.140962  \n",
       "A3GALT2         -1.855709          0.245737          0.099919  \n",
       "\n",
       "[5 rows x 79 columns]"
      ]
     },
     "execution_count": 39,
     "metadata": {},
     "output_type": "execute_result"
    }
   ],
   "source": [
    "normalized_matrix.head()"
   ]
  },
  {
   "cell_type": "markdown",
   "metadata": {},
   "source": [
    "# Merge Like Column (by taking the mean)"
   ]
  },
  {
   "cell_type": "code",
   "execution_count": 40,
   "metadata": {
    "collapsed": true
   },
   "outputs": [],
   "source": [
    "normalized_matrix = uf.merge(normalized_matrix, 'column', 'mean')"
   ]
  },
  {
   "cell_type": "code",
   "execution_count": 41,
   "metadata": {},
   "outputs": [
    {
     "data": {
      "text/plain": [
       "(18942, 79)"
      ]
     },
     "execution_count": 41,
     "metadata": {},
     "output_type": "execute_result"
    }
   ],
   "source": [
    "normalized_matrix.shape"
   ]
  },
  {
   "cell_type": "markdown",
   "metadata": {},
   "source": [
    "# Map Gene Symbols To Up-to-date Approved Gene Symbols"
   ]
  },
  {
   "cell_type": "code",
   "execution_count": 42,
   "metadata": {},
   "outputs": [
    {
     "name": "stdout",
     "output_type": "stream",
     "text": [
      "Progeres: 100%  18942 Out of 18942   \r"
     ]
    }
   ],
   "source": [
    "uf.mapgenesymbols(normalized_matrix)"
   ]
  },
  {
   "cell_type": "code",
   "execution_count": 43,
   "metadata": {},
   "outputs": [
    {
     "data": {
      "text/plain": [
       "(18513, 79)"
      ]
     },
     "execution_count": 43,
     "metadata": {},
     "output_type": "execute_result"
    }
   ],
   "source": [
    "normalized_matrix.shape"
   ]
  },
  {
   "cell_type": "markdown",
   "metadata": {},
   "source": [
    "# Merge Duplicate Genes By Rows"
   ]
  },
  {
   "cell_type": "code",
   "execution_count": 44,
   "metadata": {
    "collapsed": true
   },
   "outputs": [],
   "source": [
    "normalized_matrix = uf.merge(normalized_matrix, 'row', 'mean')"
   ]
  },
  {
   "cell_type": "code",
   "execution_count": 45,
   "metadata": {},
   "outputs": [
    {
     "data": {
      "text/plain": [
       "(18423, 79)"
      ]
     },
     "execution_count": 45,
     "metadata": {},
     "output_type": "execute_result"
    }
   ],
   "source": [
    "normalized_matrix.shape"
   ]
  },
  {
   "cell_type": "markdown",
   "metadata": {},
   "source": [
    "# Histogram of First Sample"
   ]
  },
  {
   "cell_type": "code",
   "execution_count": 46,
   "metadata": {},
   "outputs": [
    {
     "data": {
      "image/png": "[encoded data removed]",
      "text/plain": [
       "<matplotlib.figure.Figure at 0x11f108d68>"
      ]
     },
     "metadata": {},
     "output_type": "display_data"
    }
   ],
   "source": [
    "# normalized_matrix.iloc[:, 0].hist(bins=100, log=True);\n",
    "sns.distplot(normalized_matrix.iloc[:, 10]);"
   ]
  },
  {
   "cell_type": "markdown",
   "metadata": {},
   "source": [
    "# Histogram of First Gene"
   ]
  },
  {
   "cell_type": "code",
   "execution_count": 47,
   "metadata": {},
   "outputs": [
    {
     "data": {
      "image/png": "[encoded data removed]",
      "text/plain": [
       "<matplotlib.figure.Figure at 0x120856080>"
      ]
     },
     "metadata": {},
     "output_type": "display_data"
    }
   ],
   "source": [
    "# normalized_matrix.iloc[1, :].hist(bins=50);\n",
    "sns.distplot(normalized_matrix.iloc[10, :]);"
   ]
  },
  {
   "cell_type": "markdown",
   "metadata": {},
   "source": [
    "# Save Filtered Matrix"
   ]
  },
  {
   "cell_type": "code",
   "execution_count": 48,
   "metadata": {
    "collapsed": true
   },
   "outputs": [],
   "source": [
    "filename = path+'tcga_acc_matrix_filltered_%s.tsv.zip'% str(datetime.date.today())[0:7].replace('-', '_')\n",
    "normalized_matrix.to_csv(filename, sep='\\t', compression='gzip')"
   ]
  },
  {
   "cell_type": "markdown",
   "metadata": {},
   "source": [
    "# Create Gene List"
   ]
  },
  {
   "cell_type": "code",
   "execution_count": 49,
   "metadata": {},
   "outputs": [
    {
     "name": "stdout",
     "output_type": "stream",
     "text": [
      "Progeres: 100%  18423 Out of 18423   \r"
     ]
    }
   ],
   "source": [
    "gene_list = uf.createGeneList(normalized_matrix)"
   ]
  },
  {
   "cell_type": "code",
   "execution_count": 50,
   "metadata": {},
   "outputs": [
    {
     "data": {
      "text/html": [
       "<div>\n",
       "<style scoped>\n",
       "    .dataframe tbody tr th:only-of-type {\n",
       "        vertical-align: middle;\n",
       "    }\n",
       "\n",
       "    .dataframe tbody tr th {\n",
       "        vertical-align: top;\n",
       "    }\n",
       "\n",
       "    .dataframe thead th {\n",
       "        text-align: right;\n",
       "    }\n",
       "</style>\n",
       "<table border=\"1\" class=\"dataframe\">\n",
       "  <thead>\n",
       "    <tr style=\"text-align: right;\">\n",
       "      <th></th>\n",
       "      <th>GeneSym</th>\n",
       "      <th>GeneID</th>\n",
       "    </tr>\n",
       "  </thead>\n",
       "  <tbody>\n",
       "    <tr>\n",
       "      <th>0</th>\n",
       "      <td>A1BG</td>\n",
       "      <td>1</td>\n",
       "    </tr>\n",
       "    <tr>\n",
       "      <th>1</th>\n",
       "      <td>A1CF</td>\n",
       "      <td>29974</td>\n",
       "    </tr>\n",
       "    <tr>\n",
       "      <th>2</th>\n",
       "      <td>A2M</td>\n",
       "      <td>2</td>\n",
       "    </tr>\n",
       "    <tr>\n",
       "      <th>3</th>\n",
       "      <td>A2ML1</td>\n",
       "      <td>144568</td>\n",
       "    </tr>\n",
       "    <tr>\n",
       "      <th>4</th>\n",
       "      <td>A3GALT2</td>\n",
       "      <td>127550</td>\n",
       "    </tr>\n",
       "  </tbody>\n",
       "</table>\n",
       "</div>"
      ],
      "text/plain": [
       "   GeneSym  GeneID\n",
       "0     A1BG       1\n",
       "1     A1CF   29974\n",
       "2      A2M       2\n",
       "3    A2ML1  144568\n",
       "4  A3GALT2  127550"
      ]
     },
     "execution_count": 50,
     "metadata": {},
     "output_type": "execute_result"
    }
   ],
   "source": [
    "gene_list.head()"
   ]
  },
  {
   "cell_type": "code",
   "execution_count": 51,
   "metadata": {},
   "outputs": [
    {
     "data": {
      "text/plain": [
       "(18423, 2)"
      ]
     },
     "execution_count": 51,
     "metadata": {},
     "output_type": "execute_result"
    }
   ],
   "source": [
    "gene_list.shape"
   ]
  },
  {
   "cell_type": "markdown",
   "metadata": {},
   "source": [
    "# Save Gene List"
   ]
  },
  {
   "cell_type": "code",
   "execution_count": 52,
   "metadata": {
    "collapsed": true
   },
   "outputs": [],
   "source": [
    "filename = path+'tcga_acc_gene_list_%s.tsv.zip'% str(datetime.date.today())[0:7].replace('-', '_')\n",
    "gene_list.to_csv(filename, sep='\\t', compression='gzip')"
   ]
  },
  {
   "cell_type": "markdown",
   "metadata": {},
   "source": [
    "# Create Attribute List"
   ]
  },
  {
   "cell_type": "code",
   "execution_count": 53,
   "metadata": {
    "collapsed": true
   },
   "outputs": [],
   "source": [
    "metaData = pd.DataFrame(index=normalized_matrix.columns)\n",
    "\n",
    "for index in metaData.index:\n",
    "    metaData.loc[index, 'Age'] = sample_meta.loc[('-').join(index.split('-')[0:3]), 'age_at_initial_pathologic_diagnosis']\n",
    "    metaData.loc[index, 'Gender'] = sample_meta.loc[('-').join(index.split('-')[0:3]), 'gender']\n",
    "    metaData.loc[index, 'Pathologic M'] = sample_meta.loc[('-').join(index.split('-')[0:3]), 'pathologic_M']\n",
    "    metaData.loc[index, 'Pathologic N'] = sample_meta.loc[('-').join(index.split('-')[0:3]), 'pathologic_N']\n",
    "    metaData.loc[index, 'Pathologic T'] = sample_meta.loc[('-').join(index.split('-')[0:3]), 'pathologic_T']\n",
    "    metaData.loc[index, 'Pathologic Stage'] = sample_meta.loc[('-').join(index.split('-')[0:3]), 'pathologic_stage']\n",
    "    metaData.loc[index, 'Histological Type'] = sample_meta.loc[('-').join(index.split('-')[0:3]), 'histological_type']\n",
    "    if str(index.split('-')[3]) == '01A':\n",
    "        sampleType = 'Primary Solid Tumor'\n",
    "    elif str(index.split('-')[3]) == '11A':\n",
    "        sampleType= 'Solid Tissue Normal'\n",
    "    metaData.loc[index, 'Sample Type'] = sampleType\n",
    "    metaData.loc[index, 'Tumor Tissue Site'] = sample_meta.loc[('-').join(index.split('-')[0:3]), 'tumor_tissue_site']\n",
    "    metaData.loc[index, 'Neoplasm Histologic Grade'] = sample_meta.loc[('-').join(index.split('-')[0:3]), 'neoplasm_histologic_grade']\n",
    "    "
   ]
  },
  {
   "cell_type": "code",
   "execution_count": 54,
   "metadata": {},
   "outputs": [
    {
     "name": "stdout",
     "output_type": "stream",
     "text": [
      "Progeres: 100%  79 Out of 79   \r"
     ]
    }
   ],
   "source": [
    "attribute_list = uf.createAttributeList(normalized_matrix, metaData)"
   ]
  },
  {
   "cell_type": "code",
   "execution_count": 55,
   "metadata": {},
   "outputs": [
    {
     "data": {
      "text/html": [
       "<div>\n",
       "<style scoped>\n",
       "    .dataframe tbody tr th:only-of-type {\n",
       "        vertical-align: middle;\n",
       "    }\n",
       "\n",
       "    .dataframe tbody tr th {\n",
       "        vertical-align: top;\n",
       "    }\n",
       "\n",
       "    .dataframe thead th {\n",
       "        text-align: right;\n",
       "    }\n",
       "</style>\n",
       "<table border=\"1\" class=\"dataframe\">\n",
       "  <thead>\n",
       "    <tr style=\"text-align: right;\">\n",
       "      <th></th>\n",
       "      <th>Age</th>\n",
       "      <th>Gender</th>\n",
       "      <th>Pathologic M</th>\n",
       "      <th>Pathologic N</th>\n",
       "      <th>Pathologic T</th>\n",
       "      <th>Pathologic Stage</th>\n",
       "      <th>Histological Type</th>\n",
       "      <th>Sample Type</th>\n",
       "      <th>Tumor Tissue Site</th>\n",
       "      <th>Neoplasm Histologic Grade</th>\n",
       "    </tr>\n",
       "    <tr>\n",
       "      <th>Attributes</th>\n",
       "      <th></th>\n",
       "      <th></th>\n",
       "      <th></th>\n",
       "      <th></th>\n",
       "      <th></th>\n",
       "      <th></th>\n",
       "      <th></th>\n",
       "      <th></th>\n",
       "      <th></th>\n",
       "      <th></th>\n",
       "    </tr>\n",
       "  </thead>\n",
       "  <tbody>\n",
       "    <tr>\n",
       "      <th>TCGA-OR-A5J1-01A</th>\n",
       "      <td>58</td>\n",
       "      <td>MALE</td>\n",
       "      <td>NaN</td>\n",
       "      <td>N0</td>\n",
       "      <td>T2</td>\n",
       "      <td>Stage II</td>\n",
       "      <td>Adrenocortical carcinoma- Usual Type</td>\n",
       "      <td>Primary Solid Tumor</td>\n",
       "      <td>Adrenal</td>\n",
       "      <td>NaN</td>\n",
       "    </tr>\n",
       "    <tr>\n",
       "      <th>TCGA-OR-A5J2-01A</th>\n",
       "      <td>44</td>\n",
       "      <td>FEMALE</td>\n",
       "      <td>NaN</td>\n",
       "      <td>N0</td>\n",
       "      <td>T3</td>\n",
       "      <td>Stage IV</td>\n",
       "      <td>Adrenocortical carcinoma- Usual Type</td>\n",
       "      <td>Primary Solid Tumor</td>\n",
       "      <td>Adrenal</td>\n",
       "      <td>NaN</td>\n",
       "    </tr>\n",
       "    <tr>\n",
       "      <th>TCGA-OR-A5J3-01A</th>\n",
       "      <td>23</td>\n",
       "      <td>FEMALE</td>\n",
       "      <td>NaN</td>\n",
       "      <td>N0</td>\n",
       "      <td>T3</td>\n",
       "      <td>Stage III</td>\n",
       "      <td>Adrenocortical carcinoma- Usual Type</td>\n",
       "      <td>Primary Solid Tumor</td>\n",
       "      <td>Adrenal</td>\n",
       "      <td>NaN</td>\n",
       "    </tr>\n",
       "    <tr>\n",
       "      <th>TCGA-OR-A5J5-01A</th>\n",
       "      <td>30</td>\n",
       "      <td>MALE</td>\n",
       "      <td>NaN</td>\n",
       "      <td>N0</td>\n",
       "      <td>T4</td>\n",
       "      <td>Stage III</td>\n",
       "      <td>Adrenocortical carcinoma- Usual Type</td>\n",
       "      <td>Primary Solid Tumor</td>\n",
       "      <td>Adrenal</td>\n",
       "      <td>NaN</td>\n",
       "    </tr>\n",
       "    <tr>\n",
       "      <th>TCGA-OR-A5J6-01A</th>\n",
       "      <td>29</td>\n",
       "      <td>FEMALE</td>\n",
       "      <td>NaN</td>\n",
       "      <td>N0</td>\n",
       "      <td>T2</td>\n",
       "      <td>Stage II</td>\n",
       "      <td>Adrenocortical carcinoma- Usual Type</td>\n",
       "      <td>Primary Solid Tumor</td>\n",
       "      <td>Adrenal</td>\n",
       "      <td>NaN</td>\n",
       "    </tr>\n",
       "  </tbody>\n",
       "</table>\n",
       "</div>"
      ],
      "text/plain": [
       "                 Age  Gender Pathologic M Pathologic N Pathologic T  \\\n",
       "Attributes                                                            \n",
       "TCGA-OR-A5J1-01A  58    MALE          NaN           N0           T2   \n",
       "TCGA-OR-A5J2-01A  44  FEMALE          NaN           N0           T3   \n",
       "TCGA-OR-A5J3-01A  23  FEMALE          NaN           N0           T3   \n",
       "TCGA-OR-A5J5-01A  30    MALE          NaN           N0           T4   \n",
       "TCGA-OR-A5J6-01A  29  FEMALE          NaN           N0           T2   \n",
       "\n",
       "                 Pathologic Stage                     Histological Type  \\\n",
       "Attributes                                                                \n",
       "TCGA-OR-A5J1-01A         Stage II  Adrenocortical carcinoma- Usual Type   \n",
       "TCGA-OR-A5J2-01A         Stage IV  Adrenocortical carcinoma- Usual Type   \n",
       "TCGA-OR-A5J3-01A        Stage III  Adrenocortical carcinoma- Usual Type   \n",
       "TCGA-OR-A5J5-01A        Stage III  Adrenocortical carcinoma- Usual Type   \n",
       "TCGA-OR-A5J6-01A         Stage II  Adrenocortical carcinoma- Usual Type   \n",
       "\n",
       "                          Sample Type Tumor Tissue Site  \\\n",
       "Attributes                                                \n",
       "TCGA-OR-A5J1-01A  Primary Solid Tumor           Adrenal   \n",
       "TCGA-OR-A5J2-01A  Primary Solid Tumor           Adrenal   \n",
       "TCGA-OR-A5J3-01A  Primary Solid Tumor           Adrenal   \n",
       "TCGA-OR-A5J5-01A  Primary Solid Tumor           Adrenal   \n",
       "TCGA-OR-A5J6-01A  Primary Solid Tumor           Adrenal   \n",
       "\n",
       "                 Neoplasm Histologic Grade  \n",
       "Attributes                                  \n",
       "TCGA-OR-A5J1-01A                       NaN  \n",
       "TCGA-OR-A5J2-01A                       NaN  \n",
       "TCGA-OR-A5J3-01A                       NaN  \n",
       "TCGA-OR-A5J5-01A                       NaN  \n",
       "TCGA-OR-A5J6-01A                       NaN  "
      ]
     },
     "execution_count": 55,
     "metadata": {},
     "output_type": "execute_result"
    }
   ],
   "source": [
    "attribute_list.head()"
   ]
  },
  {
   "cell_type": "code",
   "execution_count": 56,
   "metadata": {},
   "outputs": [
    {
     "data": {
      "text/plain": [
       "(79, 10)"
      ]
     },
     "execution_count": 56,
     "metadata": {},
     "output_type": "execute_result"
    }
   ],
   "source": [
    "attribute_list.shape"
   ]
  },
  {
   "cell_type": "markdown",
   "metadata": {},
   "source": [
    "# Save Attribute List"
   ]
  },
  {
   "cell_type": "code",
   "execution_count": 57,
   "metadata": {
    "collapsed": true
   },
   "outputs": [],
   "source": [
    "filename = path+'tcga_acc_attribute_list_%s.tsv.zip'% str(datetime.date.today())[0:7].replace('-', '_')\n",
    "attribute_list.to_csv(filename, sep='\\t', compression='gzip')"
   ]
  },
  {
   "cell_type": "markdown",
   "metadata": {},
   "source": [
    "# Create matrix of Standardized values (values between -1, and 1)"
   ]
  },
  {
   "cell_type": "code",
   "execution_count": 58,
   "metadata": {},
   "outputs": [
    {
     "name": "stdout",
     "output_type": "stream",
     "text": [
      "Progeres: 100%  18423 Out of 18423   \r"
     ]
    }
   ],
   "source": [
    "standard_matrix = uf.createStandardizedMatrix(normalized_matrix)"
   ]
  },
  {
   "cell_type": "code",
   "execution_count": 59,
   "metadata": {},
   "outputs": [
    {
     "data": {
      "text/html": [
       "<div>\n",
       "<style scoped>\n",
       "    .dataframe tbody tr th:only-of-type {\n",
       "        vertical-align: middle;\n",
       "    }\n",
       "\n",
       "    .dataframe tbody tr th {\n",
       "        vertical-align: top;\n",
       "    }\n",
       "\n",
       "    .dataframe thead th {\n",
       "        text-align: right;\n",
       "    }\n",
       "</style>\n",
       "<table border=\"1\" class=\"dataframe\">\n",
       "  <thead>\n",
       "    <tr style=\"text-align: right;\">\n",
       "      <th></th>\n",
       "      <th>TCGA-OR-A5J1-01A</th>\n",
       "      <th>TCGA-OR-A5J2-01A</th>\n",
       "      <th>TCGA-OR-A5J3-01A</th>\n",
       "      <th>TCGA-OR-A5J5-01A</th>\n",
       "      <th>TCGA-OR-A5J6-01A</th>\n",
       "      <th>TCGA-OR-A5J7-01A</th>\n",
       "      <th>TCGA-OR-A5J8-01A</th>\n",
       "      <th>TCGA-OR-A5J9-01A</th>\n",
       "      <th>TCGA-OR-A5JA-01A</th>\n",
       "      <th>TCGA-OR-A5JB-01A</th>\n",
       "      <th>...</th>\n",
       "      <th>TCGA-OR-A5LS-01A</th>\n",
       "      <th>TCGA-OR-A5LT-01A</th>\n",
       "      <th>TCGA-OU-A5PI-01A</th>\n",
       "      <th>TCGA-P6-A5OF-01A</th>\n",
       "      <th>TCGA-P6-A5OG-01A</th>\n",
       "      <th>TCGA-PA-A5YG-01A</th>\n",
       "      <th>TCGA-PK-A5H8-01A</th>\n",
       "      <th>TCGA-PK-A5H9-01A</th>\n",
       "      <th>TCGA-PK-A5HA-01A</th>\n",
       "      <th>TCGA-PK-A5HB-01A</th>\n",
       "    </tr>\n",
       "    <tr>\n",
       "      <th></th>\n",
       "      <th></th>\n",
       "      <th></th>\n",
       "      <th></th>\n",
       "      <th></th>\n",
       "      <th></th>\n",
       "      <th></th>\n",
       "      <th></th>\n",
       "      <th></th>\n",
       "      <th></th>\n",
       "      <th></th>\n",
       "      <th></th>\n",
       "      <th></th>\n",
       "      <th></th>\n",
       "      <th></th>\n",
       "      <th></th>\n",
       "      <th></th>\n",
       "      <th></th>\n",
       "      <th></th>\n",
       "      <th></th>\n",
       "      <th></th>\n",
       "      <th></th>\n",
       "    </tr>\n",
       "  </thead>\n",
       "  <tbody>\n",
       "    <tr>\n",
       "      <th>A1BG</th>\n",
       "      <td>0.598122</td>\n",
       "      <td>0.142314</td>\n",
       "      <td>0.395397</td>\n",
       "      <td>0.243545</td>\n",
       "      <td>0.522080</td>\n",
       "      <td>0.319472</td>\n",
       "      <td>-0.161531</td>\n",
       "      <td>0.091762</td>\n",
       "      <td>-0.667584</td>\n",
       "      <td>-0.338654</td>\n",
       "      <td>...</td>\n",
       "      <td>-0.996346</td>\n",
       "      <td>0.294127</td>\n",
       "      <td>-0.768764</td>\n",
       "      <td>-0.692871</td>\n",
       "      <td>-0.490443</td>\n",
       "      <td>0.750201</td>\n",
       "      <td>-0.971128</td>\n",
       "      <td>-0.414618</td>\n",
       "      <td>-0.465132</td>\n",
       "      <td>-0.363947</td>\n",
       "    </tr>\n",
       "    <tr>\n",
       "      <th>A1CF</th>\n",
       "      <td>-0.482706</td>\n",
       "      <td>0.656535</td>\n",
       "      <td>-0.406835</td>\n",
       "      <td>0.580551</td>\n",
       "      <td>-0.836932</td>\n",
       "      <td>0.327215</td>\n",
       "      <td>0.605862</td>\n",
       "      <td>-0.533270</td>\n",
       "      <td>0.783312</td>\n",
       "      <td>-0.659828</td>\n",
       "      <td>...</td>\n",
       "      <td>0.859371</td>\n",
       "      <td>0.428538</td>\n",
       "      <td>-0.305635</td>\n",
       "      <td>-0.255005</td>\n",
       "      <td>-0.280261</td>\n",
       "      <td>-0.811665</td>\n",
       "      <td>-0.836932</td>\n",
       "      <td>0.986090</td>\n",
       "      <td>-0.103105</td>\n",
       "      <td>0.910018</td>\n",
       "    </tr>\n",
       "    <tr>\n",
       "      <th>A2M</th>\n",
       "      <td>0.343441</td>\n",
       "      <td>0.571424</td>\n",
       "      <td>-0.213435</td>\n",
       "      <td>-0.896597</td>\n",
       "      <td>0.140985</td>\n",
       "      <td>0.318141</td>\n",
       "      <td>0.926312</td>\n",
       "      <td>0.672764</td>\n",
       "      <td>-0.162859</td>\n",
       "      <td>-0.871327</td>\n",
       "      <td>...</td>\n",
       "      <td>-0.466463</td>\n",
       "      <td>-0.846018</td>\n",
       "      <td>-0.390596</td>\n",
       "      <td>0.014352</td>\n",
       "      <td>0.850276</td>\n",
       "      <td>0.748856</td>\n",
       "      <td>-0.086932</td>\n",
       "      <td>0.976980</td>\n",
       "      <td>0.824911</td>\n",
       "      <td>0.546114</td>\n",
       "    </tr>\n",
       "    <tr>\n",
       "      <th>A2ML1</th>\n",
       "      <td>0.667977</td>\n",
       "      <td>-0.825485</td>\n",
       "      <td>-0.167591</td>\n",
       "      <td>0.161533</td>\n",
       "      <td>-0.699041</td>\n",
       "      <td>-0.142355</td>\n",
       "      <td>-0.420710</td>\n",
       "      <td>0.465252</td>\n",
       "      <td>0.439982</td>\n",
       "      <td>-0.951931</td>\n",
       "      <td>...</td>\n",
       "      <td>0.617306</td>\n",
       "      <td>0.034901</td>\n",
       "      <td>0.744085</td>\n",
       "      <td>0.313334</td>\n",
       "      <td>-0.294191</td>\n",
       "      <td>0.794757</td>\n",
       "      <td>0.414623</td>\n",
       "      <td>0.338657</td>\n",
       "      <td>-0.901350</td>\n",
       "      <td>-0.876076</td>\n",
       "    </tr>\n",
       "    <tr>\n",
       "      <th>A3GALT2</th>\n",
       "      <td>-0.912798</td>\n",
       "      <td>0.200669</td>\n",
       "      <td>0.099485</td>\n",
       "      <td>-0.988654</td>\n",
       "      <td>-0.634489</td>\n",
       "      <td>-0.457381</td>\n",
       "      <td>-0.432147</td>\n",
       "      <td>-0.153797</td>\n",
       "      <td>-0.887523</td>\n",
       "      <td>-0.710480</td>\n",
       "      <td>...</td>\n",
       "      <td>-0.027161</td>\n",
       "      <td>0.453811</td>\n",
       "      <td>-0.128504</td>\n",
       "      <td>-0.103105</td>\n",
       "      <td>0.504519</td>\n",
       "      <td>0.707174</td>\n",
       "      <td>-0.204390</td>\n",
       "      <td>-0.761036</td>\n",
       "      <td>0.732641</td>\n",
       "      <td>-0.381514</td>\n",
       "    </tr>\n",
       "  </tbody>\n",
       "</table>\n",
       "<p>5 rows × 79 columns</p>\n",
       "</div>"
      ],
      "text/plain": [
       "         TCGA-OR-A5J1-01A  TCGA-OR-A5J2-01A  TCGA-OR-A5J3-01A  \\\n",
       "                                                                \n",
       "A1BG             0.598122          0.142314          0.395397   \n",
       "A1CF            -0.482706          0.656535         -0.406835   \n",
       "A2M              0.343441          0.571424         -0.213435   \n",
       "A2ML1            0.667977         -0.825485         -0.167591   \n",
       "A3GALT2         -0.912798          0.200669          0.099485   \n",
       "\n",
       "         TCGA-OR-A5J5-01A  TCGA-OR-A5J6-01A  TCGA-OR-A5J7-01A  \\\n",
       "                                                                \n",
       "A1BG             0.243545          0.522080          0.319472   \n",
       "A1CF             0.580551         -0.836932          0.327215   \n",
       "A2M             -0.896597          0.140985          0.318141   \n",
       "A2ML1            0.161533         -0.699041         -0.142355   \n",
       "A3GALT2         -0.988654         -0.634489         -0.457381   \n",
       "\n",
       "         TCGA-OR-A5J8-01A  TCGA-OR-A5J9-01A  TCGA-OR-A5JA-01A  \\\n",
       "                                                                \n",
       "A1BG            -0.161531          0.091762         -0.667584   \n",
       "A1CF             0.605862         -0.533270          0.783312   \n",
       "A2M              0.926312          0.672764         -0.162859   \n",
       "A2ML1           -0.420710          0.465252          0.439982   \n",
       "A3GALT2         -0.432147         -0.153797         -0.887523   \n",
       "\n",
       "         TCGA-OR-A5JB-01A        ...         TCGA-OR-A5LS-01A  \\\n",
       "                                 ...                            \n",
       "A1BG            -0.338654        ...                -0.996346   \n",
       "A1CF            -0.659828        ...                 0.859371   \n",
       "A2M             -0.871327        ...                -0.466463   \n",
       "A2ML1           -0.951931        ...                 0.617306   \n",
       "A3GALT2         -0.710480        ...                -0.027161   \n",
       "\n",
       "         TCGA-OR-A5LT-01A  TCGA-OU-A5PI-01A  TCGA-P6-A5OF-01A  \\\n",
       "                                                                \n",
       "A1BG             0.294127         -0.768764         -0.692871   \n",
       "A1CF             0.428538         -0.305635         -0.255005   \n",
       "A2M             -0.846018         -0.390596          0.014352   \n",
       "A2ML1            0.034901          0.744085          0.313334   \n",
       "A3GALT2          0.453811         -0.128504         -0.103105   \n",
       "\n",
       "         TCGA-P6-A5OG-01A  TCGA-PA-A5YG-01A  TCGA-PK-A5H8-01A  \\\n",
       "                                                                \n",
       "A1BG            -0.490443          0.750201         -0.971128   \n",
       "A1CF            -0.280261         -0.811665         -0.836932   \n",
       "A2M              0.850276          0.748856         -0.086932   \n",
       "A2ML1           -0.294191          0.794757          0.414623   \n",
       "A3GALT2          0.504519          0.707174         -0.204390   \n",
       "\n",
       "         TCGA-PK-A5H9-01A  TCGA-PK-A5HA-01A  TCGA-PK-A5HB-01A  \n",
       "                                                               \n",
       "A1BG            -0.414618         -0.465132         -0.363947  \n",
       "A1CF             0.986090         -0.103105          0.910018  \n",
       "A2M              0.976980          0.824911          0.546114  \n",
       "A2ML1            0.338657         -0.901350         -0.876076  \n",
       "A3GALT2         -0.761036          0.732641         -0.381514  \n",
       "\n",
       "[5 rows x 79 columns]"
      ]
     },
     "execution_count": 59,
     "metadata": {},
     "output_type": "execute_result"
    }
   ],
   "source": [
    "standard_matrix.head()"
   ]
  },
  {
   "cell_type": "markdown",
   "metadata": {},
   "source": [
    "# Plot of A Single Celltype, Normalized Value vs. Standardized Value"
   ]
  },
  {
   "cell_type": "code",
   "execution_count": 60,
   "metadata": {},
   "outputs": [
    {
     "data": {
      "image/png": "[encoded data removed]",
      "text/plain": [
       "<matplotlib.figure.Figure at 0x1208391d0>"
      ]
     },
     "metadata": {},
     "output_type": "display_data"
    }
   ],
   "source": [
    "plt.plot(normalized_matrix[normalized_matrix.columns[0]], standard_matrix[standard_matrix.columns[0]], 'bo')\n",
    "plt.xlabel('Normalized Values')\n",
    "plt.ylabel('Standardized Values')\n",
    "plt.title(standard_matrix.columns[0])\n",
    "plt.grid(True)"
   ]
  },
  {
   "cell_type": "markdown",
   "metadata": {},
   "source": [
    "# Save Standardized Matrix"
   ]
  },
  {
   "cell_type": "code",
   "execution_count": 61,
   "metadata": {
    "collapsed": true
   },
   "outputs": [],
   "source": [
    "filename = path+'tcga_acc_standard_matrix_%s.tsv.zip'% str(datetime.date.today())[0:7].replace('-', '_')\n",
    "standard_matrix.to_csv(filename, sep='\\t', compression='gzip')"
   ]
  },
  {
   "cell_type": "markdown",
   "metadata": {},
   "source": [
    "# Create Tertiary Matrix"
   ]
  },
  {
   "cell_type": "code",
   "execution_count": 62,
   "metadata": {
    "collapsed": true
   },
   "outputs": [],
   "source": [
    "tertiary_matrix = uf.createTertiaryMatrix(standard_matrix)"
   ]
  },
  {
   "cell_type": "code",
   "execution_count": 63,
   "metadata": {},
   "outputs": [
    {
     "data": {
      "text/html": [
       "<div>\n",
       "<style scoped>\n",
       "    .dataframe tbody tr th:only-of-type {\n",
       "        vertical-align: middle;\n",
       "    }\n",
       "\n",
       "    .dataframe tbody tr th {\n",
       "        vertical-align: top;\n",
       "    }\n",
       "\n",
       "    .dataframe thead th {\n",
       "        text-align: right;\n",
       "    }\n",
       "</style>\n",
       "<table border=\"1\" class=\"dataframe\">\n",
       "  <thead>\n",
       "    <tr style=\"text-align: right;\">\n",
       "      <th></th>\n",
       "      <th>TCGA-OR-A5J1-01A</th>\n",
       "      <th>TCGA-OR-A5J2-01A</th>\n",
       "      <th>TCGA-OR-A5J3-01A</th>\n",
       "      <th>TCGA-OR-A5J5-01A</th>\n",
       "      <th>TCGA-OR-A5J6-01A</th>\n",
       "      <th>TCGA-OR-A5J7-01A</th>\n",
       "      <th>TCGA-OR-A5J8-01A</th>\n",
       "      <th>TCGA-OR-A5J9-01A</th>\n",
       "      <th>TCGA-OR-A5JA-01A</th>\n",
       "      <th>TCGA-OR-A5JB-01A</th>\n",
       "      <th>...</th>\n",
       "      <th>TCGA-OR-A5LS-01A</th>\n",
       "      <th>TCGA-OR-A5LT-01A</th>\n",
       "      <th>TCGA-OU-A5PI-01A</th>\n",
       "      <th>TCGA-P6-A5OF-01A</th>\n",
       "      <th>TCGA-P6-A5OG-01A</th>\n",
       "      <th>TCGA-PA-A5YG-01A</th>\n",
       "      <th>TCGA-PK-A5H8-01A</th>\n",
       "      <th>TCGA-PK-A5H9-01A</th>\n",
       "      <th>TCGA-PK-A5HA-01A</th>\n",
       "      <th>TCGA-PK-A5HB-01A</th>\n",
       "    </tr>\n",
       "    <tr>\n",
       "      <th></th>\n",
       "      <th></th>\n",
       "      <th></th>\n",
       "      <th></th>\n",
       "      <th></th>\n",
       "      <th></th>\n",
       "      <th></th>\n",
       "      <th></th>\n",
       "      <th></th>\n",
       "      <th></th>\n",
       "      <th></th>\n",
       "      <th></th>\n",
       "      <th></th>\n",
       "      <th></th>\n",
       "      <th></th>\n",
       "      <th></th>\n",
       "      <th></th>\n",
       "      <th></th>\n",
       "      <th></th>\n",
       "      <th></th>\n",
       "      <th></th>\n",
       "      <th></th>\n",
       "    </tr>\n",
       "  </thead>\n",
       "  <tbody>\n",
       "    <tr>\n",
       "      <th>A1BG</th>\n",
       "      <td>0</td>\n",
       "      <td>0</td>\n",
       "      <td>0</td>\n",
       "      <td>0</td>\n",
       "      <td>0</td>\n",
       "      <td>0</td>\n",
       "      <td>0</td>\n",
       "      <td>0</td>\n",
       "      <td>0</td>\n",
       "      <td>0</td>\n",
       "      <td>...</td>\n",
       "      <td>-1</td>\n",
       "      <td>0</td>\n",
       "      <td>0</td>\n",
       "      <td>0</td>\n",
       "      <td>0</td>\n",
       "      <td>0</td>\n",
       "      <td>-1</td>\n",
       "      <td>0</td>\n",
       "      <td>0</td>\n",
       "      <td>0</td>\n",
       "    </tr>\n",
       "    <tr>\n",
       "      <th>A1CF</th>\n",
       "      <td>0</td>\n",
       "      <td>0</td>\n",
       "      <td>0</td>\n",
       "      <td>0</td>\n",
       "      <td>0</td>\n",
       "      <td>0</td>\n",
       "      <td>0</td>\n",
       "      <td>0</td>\n",
       "      <td>0</td>\n",
       "      <td>0</td>\n",
       "      <td>...</td>\n",
       "      <td>0</td>\n",
       "      <td>0</td>\n",
       "      <td>0</td>\n",
       "      <td>0</td>\n",
       "      <td>0</td>\n",
       "      <td>0</td>\n",
       "      <td>0</td>\n",
       "      <td>1</td>\n",
       "      <td>0</td>\n",
       "      <td>0</td>\n",
       "    </tr>\n",
       "    <tr>\n",
       "      <th>A2M</th>\n",
       "      <td>0</td>\n",
       "      <td>0</td>\n",
       "      <td>0</td>\n",
       "      <td>0</td>\n",
       "      <td>0</td>\n",
       "      <td>0</td>\n",
       "      <td>0</td>\n",
       "      <td>0</td>\n",
       "      <td>0</td>\n",
       "      <td>0</td>\n",
       "      <td>...</td>\n",
       "      <td>0</td>\n",
       "      <td>0</td>\n",
       "      <td>0</td>\n",
       "      <td>0</td>\n",
       "      <td>0</td>\n",
       "      <td>0</td>\n",
       "      <td>0</td>\n",
       "      <td>1</td>\n",
       "      <td>0</td>\n",
       "      <td>0</td>\n",
       "    </tr>\n",
       "    <tr>\n",
       "      <th>A2ML1</th>\n",
       "      <td>0</td>\n",
       "      <td>0</td>\n",
       "      <td>0</td>\n",
       "      <td>0</td>\n",
       "      <td>0</td>\n",
       "      <td>0</td>\n",
       "      <td>0</td>\n",
       "      <td>0</td>\n",
       "      <td>0</td>\n",
       "      <td>-1</td>\n",
       "      <td>...</td>\n",
       "      <td>0</td>\n",
       "      <td>0</td>\n",
       "      <td>0</td>\n",
       "      <td>0</td>\n",
       "      <td>0</td>\n",
       "      <td>0</td>\n",
       "      <td>0</td>\n",
       "      <td>0</td>\n",
       "      <td>0</td>\n",
       "      <td>0</td>\n",
       "    </tr>\n",
       "    <tr>\n",
       "      <th>A3GALT2</th>\n",
       "      <td>0</td>\n",
       "      <td>0</td>\n",
       "      <td>0</td>\n",
       "      <td>-1</td>\n",
       "      <td>0</td>\n",
       "      <td>0</td>\n",
       "      <td>0</td>\n",
       "      <td>0</td>\n",
       "      <td>0</td>\n",
       "      <td>0</td>\n",
       "      <td>...</td>\n",
       "      <td>0</td>\n",
       "      <td>0</td>\n",
       "      <td>0</td>\n",
       "      <td>0</td>\n",
       "      <td>0</td>\n",
       "      <td>0</td>\n",
       "      <td>0</td>\n",
       "      <td>0</td>\n",
       "      <td>0</td>\n",
       "      <td>0</td>\n",
       "    </tr>\n",
       "  </tbody>\n",
       "</table>\n",
       "<p>5 rows × 79 columns</p>\n",
       "</div>"
      ],
      "text/plain": [
       "         TCGA-OR-A5J1-01A  TCGA-OR-A5J2-01A  TCGA-OR-A5J3-01A  \\\n",
       "                                                                \n",
       "A1BG                    0                 0                 0   \n",
       "A1CF                    0                 0                 0   \n",
       "A2M                     0                 0                 0   \n",
       "A2ML1                   0                 0                 0   \n",
       "A3GALT2                 0                 0                 0   \n",
       "\n",
       "         TCGA-OR-A5J5-01A  TCGA-OR-A5J6-01A  TCGA-OR-A5J7-01A  \\\n",
       "                                                                \n",
       "A1BG                    0                 0                 0   \n",
       "A1CF                    0                 0                 0   \n",
       "A2M                     0                 0                 0   \n",
       "A2ML1                   0                 0                 0   \n",
       "A3GALT2                -1                 0                 0   \n",
       "\n",
       "         TCGA-OR-A5J8-01A  TCGA-OR-A5J9-01A  TCGA-OR-A5JA-01A  \\\n",
       "                                                                \n",
       "A1BG                    0                 0                 0   \n",
       "A1CF                    0                 0                 0   \n",
       "A2M                     0                 0                 0   \n",
       "A2ML1                   0                 0                 0   \n",
       "A3GALT2                 0                 0                 0   \n",
       "\n",
       "         TCGA-OR-A5JB-01A        ...         TCGA-OR-A5LS-01A  \\\n",
       "                                 ...                            \n",
       "A1BG                    0        ...                       -1   \n",
       "A1CF                    0        ...                        0   \n",
       "A2M                     0        ...                        0   \n",
       "A2ML1                  -1        ...                        0   \n",
       "A3GALT2                 0        ...                        0   \n",
       "\n",
       "         TCGA-OR-A5LT-01A  TCGA-OU-A5PI-01A  TCGA-P6-A5OF-01A  \\\n",
       "                                                                \n",
       "A1BG                    0                 0                 0   \n",
       "A1CF                    0                 0                 0   \n",
       "A2M                     0                 0                 0   \n",
       "A2ML1                   0                 0                 0   \n",
       "A3GALT2                 0                 0                 0   \n",
       "\n",
       "         TCGA-P6-A5OG-01A  TCGA-PA-A5YG-01A  TCGA-PK-A5H8-01A  \\\n",
       "                                                                \n",
       "A1BG                    0                 0                -1   \n",
       "A1CF                    0                 0                 0   \n",
       "A2M                     0                 0                 0   \n",
       "A2ML1                   0                 0                 0   \n",
       "A3GALT2                 0                 0                 0   \n",
       "\n",
       "         TCGA-PK-A5H9-01A  TCGA-PK-A5HA-01A  TCGA-PK-A5HB-01A  \n",
       "                                                               \n",
       "A1BG                    0                 0                 0  \n",
       "A1CF                    1                 0                 0  \n",
       "A2M                     1                 0                 0  \n",
       "A2ML1                   0                 0                 0  \n",
       "A3GALT2                 0                 0                 0  \n",
       "\n",
       "[5 rows x 79 columns]"
      ]
     },
     "execution_count": 63,
     "metadata": {},
     "output_type": "execute_result"
    }
   ],
   "source": [
    "tertiary_matrix.head()"
   ]
  },
  {
   "cell_type": "markdown",
   "metadata": {},
   "source": [
    "# Save Teriary Matrix"
   ]
  },
  {
   "cell_type": "code",
   "execution_count": 64,
   "metadata": {
    "collapsed": true
   },
   "outputs": [],
   "source": [
    "filename = path+'tcga_acc_tertiary_matrix_%s.tsv.zip'% str(datetime.date.today())[0:7].replace('-', '_')\n",
    "tertiary_matrix.to_csv(filename, sep='\\t', compression='gzip')"
   ]
  },
  {
   "cell_type": "markdown",
   "metadata": {
    "collapsed": true
   },
   "source": [
    "# Create Up Gene Set Library"
   ]
  },
  {
   "cell_type": "code",
   "execution_count": 65,
   "metadata": {
    "collapsed": true
   },
   "outputs": [],
   "source": [
    "name = 'tcga_acc_gene_up_set'"
   ]
  },
  {
   "cell_type": "code",
   "execution_count": 66,
   "metadata": {},
   "outputs": [
    {
     "name": "stdout",
     "output_type": "stream",
     "text": [
      "Progeres: 100%  79 Out of 79   \r"
     ]
    }
   ],
   "source": [
    "uf.createUpGeneSetLib(tertiary_matrix, path, name)"
   ]
  },
  {
   "cell_type": "markdown",
   "metadata": {},
   "source": [
    "# Create Down Gene Set Library"
   ]
  },
  {
   "cell_type": "code",
   "execution_count": 67,
   "metadata": {
    "collapsed": true
   },
   "outputs": [],
   "source": [
    "name = 'tcga_acc_gene_down_set'"
   ]
  },
  {
   "cell_type": "code",
   "execution_count": 68,
   "metadata": {},
   "outputs": [
    {
     "name": "stdout",
     "output_type": "stream",
     "text": [
      "Progeres: 100%  79 Out of 79   \r"
     ]
    }
   ],
   "source": [
    "uf.createDownGeneSetLib(tertiary_matrix, path, name)"
   ]
  },
  {
   "cell_type": "markdown",
   "metadata": {},
   "source": [
    "# Create Up Attribute Library"
   ]
  },
  {
   "cell_type": "code",
   "execution_count": 69,
   "metadata": {
    "collapsed": true
   },
   "outputs": [],
   "source": [
    "name = 'tcga_acc_attribute_up_set'"
   ]
  },
  {
   "cell_type": "code",
   "execution_count": 70,
   "metadata": {},
   "outputs": [
    {
     "name": "stdout",
     "output_type": "stream",
     "text": [
      "Progeres: 100%  18423 Out of 18423   \r"
     ]
    }
   ],
   "source": [
    "uf.createUpAttributeSetLib(tertiary_matrix, path, name)"
   ]
  },
  {
   "cell_type": "markdown",
   "metadata": {},
   "source": [
    "# Create Down Attribute Library"
   ]
  },
  {
   "cell_type": "code",
   "execution_count": 71,
   "metadata": {
    "collapsed": true
   },
   "outputs": [],
   "source": [
    "name = 'tcga_acc_attribute_down_set'"
   ]
  },
  {
   "cell_type": "code",
   "execution_count": 72,
   "metadata": {},
   "outputs": [
    {
     "name": "stdout",
     "output_type": "stream",
     "text": [
      "Progeres: 100%  18423 Out of 18423   \r"
     ]
    }
   ],
   "source": [
    "uf.createDownAttributeSetLib(tertiary_matrix, path, name)"
   ]
  },
  {
   "cell_type": "markdown",
   "metadata": {},
   "source": [
    "# Create Attribute Similarity matrix"
   ]
  },
  {
   "cell_type": "code",
   "execution_count": 73,
   "metadata": {
    "collapsed": true
   },
   "outputs": [],
   "source": [
    "attribute_normalized_matrix = normalized_matrix.copy()"
   ]
  },
  {
   "cell_type": "code",
   "execution_count": 74,
   "metadata": {},
   "outputs": [
    {
     "name": "stdout",
     "output_type": "stream",
     "text": [
      "Progress: 100%  79 Out of 79   \r"
     ]
    }
   ],
   "source": [
    "getSampleData(attribute_normalized_matrix, sample_meta)"
   ]
  },
  {
   "cell_type": "code",
   "execution_count": 75,
   "metadata": {
    "collapsed": true
   },
   "outputs": [],
   "source": [
    "attribute_similarity_matix = uf.createSimilarityMatrix(attribute_normalized_matrix.T, 'cosine')"
   ]
  },
  {
   "cell_type": "code",
   "execution_count": 76,
   "metadata": {},
   "outputs": [
    {
     "data": {
      "text/html": [
       "<div>\n",
       "<style scoped>\n",
       "    .dataframe tbody tr th:only-of-type {\n",
       "        vertical-align: middle;\n",
       "    }\n",
       "\n",
       "    .dataframe tbody tr th {\n",
       "        vertical-align: top;\n",
       "    }\n",
       "\n",
       "    .dataframe thead th {\n",
       "        text-align: right;\n",
       "    }\n",
       "</style>\n",
       "<table border=\"1\" class=\"dataframe\">\n",
       "  <thead>\n",
       "    <tr style=\"text-align: right;\">\n",
       "      <th></th>\n",
       "      <th>(Donor:TCGA-OR-A5J1, Age:58.0, Gender:MALE, SampleType:Primary Solid Tumor, Stage:Stage II, Histology:Adrenocortical carcinoma- Usual Type, Tissue:Adrenal, Tumor:nan, Gradenan)</th>\n",
       "      <th>(Donor:TCGA-OR-A5J2, Age:44.0, Gender:FEMALE, SampleType:Primary Solid Tumor, Stage:Stage IV, Histology:Adrenocortical carcinoma- Usual Type, Tissue:Adrenal, Tumor:nan, Gradenan)</th>\n",
       "      <th>(Donor:TCGA-OR-A5J3, Age:23.0, Gender:FEMALE, SampleType:Primary Solid Tumor, Stage:Stage III, Histology:Adrenocortical carcinoma- Usual Type, Tissue:Adrenal, Tumor:nan, Gradenan)</th>\n",
       "      <th>(Donor:TCGA-OR-A5J5, Age:30.0, Gender:MALE, SampleType:Primary Solid Tumor, Stage:Stage III, Histology:Adrenocortical carcinoma- Usual Type, Tissue:Adrenal, Tumor:nan, Gradenan)</th>\n",
       "      <th>(Donor:TCGA-OR-A5J6, Age:29.0, Gender:FEMALE, SampleType:Primary Solid Tumor, Stage:Stage II, Histology:Adrenocortical carcinoma- Usual Type, Tissue:Adrenal, Tumor:nan, Gradenan)</th>\n",
       "      <th>(Donor:TCGA-OR-A5J7, Age:30.0, Gender:FEMALE, SampleType:Primary Solid Tumor, Stage:Stage III, Histology:Adrenocortical carcinoma- Usual Type, Tissue:Adrenal, Tumor:nan, Gradenan)</th>\n",
       "      <th>(Donor:TCGA-OR-A5J8, Age:66.0, Gender:MALE, SampleType:Primary Solid Tumor, Stage:Stage III, Histology:Adrenocortical carcinoma- Usual Type, Tissue:Adrenal, Tumor:nan, Gradenan)</th>\n",
       "      <th>(Donor:TCGA-OR-A5J9, Age:22.0, Gender:FEMALE, SampleType:Primary Solid Tumor, Stage:Stage II, Histology:Adrenocortical carcinoma- Usual Type, Tissue:Adrenal, Tumor:nan, Gradenan)</th>\n",
       "      <th>(Donor:TCGA-OR-A5JA, Age:53.0, Gender:FEMALE, SampleType:Primary Solid Tumor, Stage:Stage IV, Histology:Adrenocortical carcinoma- Usual Type, Tissue:Adrenal, Tumor:nan, Gradenan)</th>\n",
       "      <th>(Donor:TCGA-OR-A5JB, Age:52.0, Gender:MALE, SampleType:Primary Solid Tumor, Stage:Stage IV, Histology:Adrenocortical carcinoma- Usual Type, Tissue:Adrenal, Tumor:nan, Gradenan)</th>\n",
       "      <th>...</th>\n",
       "      <th>(Donor:TCGA-OR-A5LS, Age:34.0, Gender:FEMALE, SampleType:Primary Solid Tumor, Stage:Stage II, Histology:Adrenocortical carcinoma- Usual Type, Tissue:Adrenal, Tumor:nan, Gradenan)</th>\n",
       "      <th>(Donor:TCGA-OR-A5LT, Age:57.0, Gender:MALE, SampleType:Primary Solid Tumor, Stage:Stage III, Histology:Adrenocortical carcinoma- Usual Type, Tissue:Adrenal, Tumor:nan, Gradenan)</th>\n",
       "      <th>(Donor:TCGA-OU-A5PI, Age:53.0, Gender:FEMALE, SampleType:Primary Solid Tumor, Stage:Stage IV, Histology:Adrenocortical carcinoma- Usual Type, Tissue:Adrenal, Tumor:nan, Gradenan)</th>\n",
       "      <th>(Donor:TCGA-P6-A5OF, Age:55.0, Gender:FEMALE, SampleType:Primary Solid Tumor, Stage:Stage III, Histology:Adrenocortical carcinoma- Usual Type, Tissue:Adrenal, Tumor:nan, Gradenan)</th>\n",
       "      <th>(Donor:TCGA-P6-A5OG, Age:45.0, Gender:FEMALE, SampleType:Primary Solid Tumor, Stage:Stage IV, Histology:Adrenocortical carcinoma- Usual Type, Tissue:Adrenal, Tumor:nan, Gradenan)</th>\n",
       "      <th>(Donor:TCGA-PA-A5YG, Age:51.0, Gender:MALE, SampleType:Primary Solid Tumor, Stage:Stage II, Histology:Adrenocortical carcinoma- Usual Type, Tissue:Adrenal, Tumor:nan, Gradenan)</th>\n",
       "      <th>(Donor:TCGA-PK-A5H8, Age:42.0, Gender:MALE, SampleType:Primary Solid Tumor, Stage:Stage II, Histology:Adrenocortical carcinoma- Usual Type, Tissue:Adrenal, Tumor:nan, Gradenan)</th>\n",
       "      <th>(Donor:TCGA-PK-A5H9, Age:27.0, Gender:FEMALE, SampleType:Primary Solid Tumor, Stage:Stage II, Histology:Adrenocortical carcinoma- Usual Type, Tissue:Adrenal, Tumor:nan, Gradenan)</th>\n",
       "      <th>(Donor:TCGA-PK-A5HA, Age:63.0, Gender:MALE, SampleType:Primary Solid Tumor, Stage:Stage I, Histology:Adrenocortical carcinoma- Usual Type, Tissue:Adrenal, Tumor:nan, Gradenan)</th>\n",
       "      <th>(Donor:TCGA-PK-A5HB, Age:63.0, Gender:MALE, SampleType:Primary Solid Tumor, Stage:nan, Histology:Adrenocortical carcinoma- Usual Type, Tissue:Adrenal, Tumor:nan, Gradenan)</th>\n",
       "    </tr>\n",
       "    <tr>\n",
       "      <th></th>\n",
       "      <th></th>\n",
       "      <th></th>\n",
       "      <th></th>\n",
       "      <th></th>\n",
       "      <th></th>\n",
       "      <th></th>\n",
       "      <th></th>\n",
       "      <th></th>\n",
       "      <th></th>\n",
       "      <th></th>\n",
       "      <th></th>\n",
       "      <th></th>\n",
       "      <th></th>\n",
       "      <th></th>\n",
       "      <th></th>\n",
       "      <th></th>\n",
       "      <th></th>\n",
       "      <th></th>\n",
       "      <th></th>\n",
       "      <th></th>\n",
       "      <th></th>\n",
       "    </tr>\n",
       "  </thead>\n",
       "  <tbody>\n",
       "    <tr>\n",
       "      <th>(Donor:TCGA-OR-A5J1, Age:58.0, Gender:MALE, SampleType:Primary Solid Tumor, Stage:Stage II, Histology:Adrenocortical carcinoma- Usual Type, Tissue:Adrenal, Tumor:nan, Gradenan)</th>\n",
       "      <td>1.000000</td>\n",
       "      <td>0.062957</td>\n",
       "      <td>-0.043846</td>\n",
       "      <td>0.080815</td>\n",
       "      <td>0.029129</td>\n",
       "      <td>0.010228</td>\n",
       "      <td>0.034140</td>\n",
       "      <td>0.062756</td>\n",
       "      <td>0.011210</td>\n",
       "      <td>0.053346</td>\n",
       "      <td>...</td>\n",
       "      <td>-0.049717</td>\n",
       "      <td>0.003716</td>\n",
       "      <td>-0.048197</td>\n",
       "      <td>-0.017809</td>\n",
       "      <td>0.082957</td>\n",
       "      <td>-0.045064</td>\n",
       "      <td>0.012252</td>\n",
       "      <td>0.019193</td>\n",
       "      <td>-0.049812</td>\n",
       "      <td>-0.019561</td>\n",
       "    </tr>\n",
       "    <tr>\n",
       "      <th>(Donor:TCGA-OR-A5J2, Age:44.0, Gender:FEMALE, SampleType:Primary Solid Tumor, Stage:Stage IV, Histology:Adrenocortical carcinoma- Usual Type, Tissue:Adrenal, Tumor:nan, Gradenan)</th>\n",
       "      <td>0.062957</td>\n",
       "      <td>1.000000</td>\n",
       "      <td>0.071580</td>\n",
       "      <td>-0.059969</td>\n",
       "      <td>-0.006406</td>\n",
       "      <td>0.064407</td>\n",
       "      <td>0.107314</td>\n",
       "      <td>0.135848</td>\n",
       "      <td>0.048791</td>\n",
       "      <td>0.052042</td>\n",
       "      <td>...</td>\n",
       "      <td>0.091513</td>\n",
       "      <td>-0.000262</td>\n",
       "      <td>0.137840</td>\n",
       "      <td>0.167492</td>\n",
       "      <td>0.123389</td>\n",
       "      <td>0.089881</td>\n",
       "      <td>-0.014190</td>\n",
       "      <td>0.170427</td>\n",
       "      <td>0.063051</td>\n",
       "      <td>0.141937</td>\n",
       "    </tr>\n",
       "    <tr>\n",
       "      <th>(Donor:TCGA-OR-A5J3, Age:23.0, Gender:FEMALE, SampleType:Primary Solid Tumor, Stage:Stage III, Histology:Adrenocortical carcinoma- Usual Type, Tissue:Adrenal, Tumor:nan, Gradenan)</th>\n",
       "      <td>-0.043846</td>\n",
       "      <td>0.071580</td>\n",
       "      <td>1.000000</td>\n",
       "      <td>0.051304</td>\n",
       "      <td>-0.052363</td>\n",
       "      <td>0.076917</td>\n",
       "      <td>0.000853</td>\n",
       "      <td>0.058920</td>\n",
       "      <td>0.172282</td>\n",
       "      <td>-0.066096</td>\n",
       "      <td>...</td>\n",
       "      <td>0.146283</td>\n",
       "      <td>0.015945</td>\n",
       "      <td>0.159890</td>\n",
       "      <td>0.143769</td>\n",
       "      <td>-0.024343</td>\n",
       "      <td>0.026554</td>\n",
       "      <td>0.076768</td>\n",
       "      <td>0.009866</td>\n",
       "      <td>-0.041933</td>\n",
       "      <td>0.093847</td>\n",
       "    </tr>\n",
       "    <tr>\n",
       "      <th>(Donor:TCGA-OR-A5J5, Age:30.0, Gender:MALE, SampleType:Primary Solid Tumor, Stage:Stage III, Histology:Adrenocortical carcinoma- Usual Type, Tissue:Adrenal, Tumor:nan, Gradenan)</th>\n",
       "      <td>0.080815</td>\n",
       "      <td>-0.059969</td>\n",
       "      <td>0.051304</td>\n",
       "      <td>1.000000</td>\n",
       "      <td>-0.097627</td>\n",
       "      <td>-0.022198</td>\n",
       "      <td>0.034145</td>\n",
       "      <td>0.041914</td>\n",
       "      <td>0.097177</td>\n",
       "      <td>0.007941</td>\n",
       "      <td>...</td>\n",
       "      <td>0.028231</td>\n",
       "      <td>0.016306</td>\n",
       "      <td>0.014841</td>\n",
       "      <td>0.037302</td>\n",
       "      <td>0.016771</td>\n",
       "      <td>-0.034035</td>\n",
       "      <td>0.039502</td>\n",
       "      <td>-0.089279</td>\n",
       "      <td>-0.021107</td>\n",
       "      <td>-0.022423</td>\n",
       "    </tr>\n",
       "    <tr>\n",
       "      <th>(Donor:TCGA-OR-A5J6, Age:29.0, Gender:FEMALE, SampleType:Primary Solid Tumor, Stage:Stage II, Histology:Adrenocortical carcinoma- Usual Type, Tissue:Adrenal, Tumor:nan, Gradenan)</th>\n",
       "      <td>0.029129</td>\n",
       "      <td>-0.006406</td>\n",
       "      <td>-0.052363</td>\n",
       "      <td>-0.097627</td>\n",
       "      <td>1.000000</td>\n",
       "      <td>0.059092</td>\n",
       "      <td>0.048651</td>\n",
       "      <td>-0.072223</td>\n",
       "      <td>-0.040301</td>\n",
       "      <td>0.063554</td>\n",
       "      <td>...</td>\n",
       "      <td>-0.042766</td>\n",
       "      <td>-0.059188</td>\n",
       "      <td>-0.126998</td>\n",
       "      <td>-0.030957</td>\n",
       "      <td>0.010172</td>\n",
       "      <td>0.142759</td>\n",
       "      <td>0.004743</td>\n",
       "      <td>0.168016</td>\n",
       "      <td>0.040573</td>\n",
       "      <td>0.022398</td>\n",
       "    </tr>\n",
       "  </tbody>\n",
       "</table>\n",
       "<p>5 rows × 79 columns</p>\n",
       "</div>"
      ],
      "text/plain": [
       "                                                    (Donor:TCGA-OR-A5J1, Age:58.0, Gender:MALE, SampleType:Primary Solid Tumor, Stage:Stage II, Histology:Adrenocortical carcinoma- Usual Type, Tissue:Adrenal, Tumor:nan, Gradenan)  \\\n",
       "                                                                                                                                                                                                                                       \n",
       "(Donor:TCGA-OR-A5J1, Age:58.0, Gender:MALE, Sam...                                           1.000000                                                                                                                                  \n",
       "(Donor:TCGA-OR-A5J2, Age:44.0, Gender:FEMALE, S...                                           0.062957                                                                                                                                  \n",
       "(Donor:TCGA-OR-A5J3, Age:23.0, Gender:FEMALE, S...                                          -0.043846                                                                                                                                  \n",
       "(Donor:TCGA-OR-A5J5, Age:30.0, Gender:MALE, Sam...                                           0.080815                                                                                                                                  \n",
       "(Donor:TCGA-OR-A5J6, Age:29.0, Gender:FEMALE, S...                                           0.029129                                                                                                                                  \n",
       "\n",
       "                                                    (Donor:TCGA-OR-A5J2, Age:44.0, Gender:FEMALE, SampleType:Primary Solid Tumor, Stage:Stage IV, Histology:Adrenocortical carcinoma- Usual Type, Tissue:Adrenal, Tumor:nan, Gradenan)  \\\n",
       "                                                                                                                                                                                                                                         \n",
       "(Donor:TCGA-OR-A5J1, Age:58.0, Gender:MALE, Sam...                                           0.062957                                                                                                                                    \n",
       "(Donor:TCGA-OR-A5J2, Age:44.0, Gender:FEMALE, S...                                           1.000000                                                                                                                                    \n",
       "(Donor:TCGA-OR-A5J3, Age:23.0, Gender:FEMALE, S...                                           0.071580                                                                                                                                    \n",
       "(Donor:TCGA-OR-A5J5, Age:30.0, Gender:MALE, Sam...                                          -0.059969                                                                                                                                    \n",
       "(Donor:TCGA-OR-A5J6, Age:29.0, Gender:FEMALE, S...                                          -0.006406                                                                                                                                    \n",
       "\n",
       "                                                    (Donor:TCGA-OR-A5J3, Age:23.0, Gender:FEMALE, SampleType:Primary Solid Tumor, Stage:Stage III, Histology:Adrenocortical carcinoma- Usual Type, Tissue:Adrenal, Tumor:nan, Gradenan)  \\\n",
       "                                                                                                                                                                                                                                          \n",
       "(Donor:TCGA-OR-A5J1, Age:58.0, Gender:MALE, Sam...                                          -0.043846                                                                                                                                     \n",
       "(Donor:TCGA-OR-A5J2, Age:44.0, Gender:FEMALE, S...                                           0.071580                                                                                                                                     \n",
       "(Donor:TCGA-OR-A5J3, Age:23.0, Gender:FEMALE, S...                                           1.000000                                                                                                                                     \n",
       "(Donor:TCGA-OR-A5J5, Age:30.0, Gender:MALE, Sam...                                           0.051304                                                                                                                                     \n",
       "(Donor:TCGA-OR-A5J6, Age:29.0, Gender:FEMALE, S...                                          -0.052363                                                                                                                                     \n",
       "\n",
       "                                                    (Donor:TCGA-OR-A5J5, Age:30.0, Gender:MALE, SampleType:Primary Solid Tumor, Stage:Stage III, Histology:Adrenocortical carcinoma- Usual Type, Tissue:Adrenal, Tumor:nan, Gradenan)  \\\n",
       "                                                                                                                                                                                                                                        \n",
       "(Donor:TCGA-OR-A5J1, Age:58.0, Gender:MALE, Sam...                                           0.080815                                                                                                                                   \n",
       "(Donor:TCGA-OR-A5J2, Age:44.0, Gender:FEMALE, S...                                          -0.059969                                                                                                                                   \n",
       "(Donor:TCGA-OR-A5J3, Age:23.0, Gender:FEMALE, S...                                           0.051304                                                                                                                                   \n",
       "(Donor:TCGA-OR-A5J5, Age:30.0, Gender:MALE, Sam...                                           1.000000                                                                                                                                   \n",
       "(Donor:TCGA-OR-A5J6, Age:29.0, Gender:FEMALE, S...                                          -0.097627                                                                                                                                   \n",
       "\n",
       "                                                    (Donor:TCGA-OR-A5J6, Age:29.0, Gender:FEMALE, SampleType:Primary Solid Tumor, Stage:Stage II, Histology:Adrenocortical carcinoma- Usual Type, Tissue:Adrenal, Tumor:nan, Gradenan)  \\\n",
       "                                                                                                                                                                                                                                         \n",
       "(Donor:TCGA-OR-A5J1, Age:58.0, Gender:MALE, Sam...                                           0.029129                                                                                                                                    \n",
       "(Donor:TCGA-OR-A5J2, Age:44.0, Gender:FEMALE, S...                                          -0.006406                                                                                                                                    \n",
       "(Donor:TCGA-OR-A5J3, Age:23.0, Gender:FEMALE, S...                                          -0.052363                                                                                                                                    \n",
       "(Donor:TCGA-OR-A5J5, Age:30.0, Gender:MALE, Sam...                                          -0.097627                                                                                                                                    \n",
       "(Donor:TCGA-OR-A5J6, Age:29.0, Gender:FEMALE, S...                                           1.000000                                                                                                                                    \n",
       "\n",
       "                                                    (Donor:TCGA-OR-A5J7, Age:30.0, Gender:FEMALE, SampleType:Primary Solid Tumor, Stage:Stage III, Histology:Adrenocortical carcinoma- Usual Type, Tissue:Adrenal, Tumor:nan, Gradenan)  \\\n",
       "                                                                                                                                                                                                                                          \n",
       "(Donor:TCGA-OR-A5J1, Age:58.0, Gender:MALE, Sam...                                           0.010228                                                                                                                                     \n",
       "(Donor:TCGA-OR-A5J2, Age:44.0, Gender:FEMALE, S...                                           0.064407                                                                                                                                     \n",
       "(Donor:TCGA-OR-A5J3, Age:23.0, Gender:FEMALE, S...                                           0.076917                                                                                                                                     \n",
       "(Donor:TCGA-OR-A5J5, Age:30.0, Gender:MALE, Sam...                                          -0.022198                                                                                                                                     \n",
       "(Donor:TCGA-OR-A5J6, Age:29.0, Gender:FEMALE, S...                                           0.059092                                                                                                                                     \n",
       "\n",
       "                                                    (Donor:TCGA-OR-A5J8, Age:66.0, Gender:MALE, SampleType:Primary Solid Tumor, Stage:Stage III, Histology:Adrenocortical carcinoma- Usual Type, Tissue:Adrenal, Tumor:nan, Gradenan)  \\\n",
       "                                                                                                                                                                                                                                        \n",
       "(Donor:TCGA-OR-A5J1, Age:58.0, Gender:MALE, Sam...                                           0.034140                                                                                                                                   \n",
       "(Donor:TCGA-OR-A5J2, Age:44.0, Gender:FEMALE, S...                                           0.107314                                                                                                                                   \n",
       "(Donor:TCGA-OR-A5J3, Age:23.0, Gender:FEMALE, S...                                           0.000853                                                                                                                                   \n",
       "(Donor:TCGA-OR-A5J5, Age:30.0, Gender:MALE, Sam...                                           0.034145                                                                                                                                   \n",
       "(Donor:TCGA-OR-A5J6, Age:29.0, Gender:FEMALE, S...                                           0.048651                                                                                                                                   \n",
       "\n",
       "                                                    (Donor:TCGA-OR-A5J9, Age:22.0, Gender:FEMALE, SampleType:Primary Solid Tumor, Stage:Stage II, Histology:Adrenocortical carcinoma- Usual Type, Tissue:Adrenal, Tumor:nan, Gradenan)  \\\n",
       "                                                                                                                                                                                                                                         \n",
       "(Donor:TCGA-OR-A5J1, Age:58.0, Gender:MALE, Sam...                                           0.062756                                                                                                                                    \n",
       "(Donor:TCGA-OR-A5J2, Age:44.0, Gender:FEMALE, S...                                           0.135848                                                                                                                                    \n",
       "(Donor:TCGA-OR-A5J3, Age:23.0, Gender:FEMALE, S...                                           0.058920                                                                                                                                    \n",
       "(Donor:TCGA-OR-A5J5, Age:30.0, Gender:MALE, Sam...                                           0.041914                                                                                                                                    \n",
       "(Donor:TCGA-OR-A5J6, Age:29.0, Gender:FEMALE, S...                                          -0.072223                                                                                                                                    \n",
       "\n",
       "                                                    (Donor:TCGA-OR-A5JA, Age:53.0, Gender:FEMALE, SampleType:Primary Solid Tumor, Stage:Stage IV, Histology:Adrenocortical carcinoma- Usual Type, Tissue:Adrenal, Tumor:nan, Gradenan)  \\\n",
       "                                                                                                                                                                                                                                         \n",
       "(Donor:TCGA-OR-A5J1, Age:58.0, Gender:MALE, Sam...                                           0.011210                                                                                                                                    \n",
       "(Donor:TCGA-OR-A5J2, Age:44.0, Gender:FEMALE, S...                                           0.048791                                                                                                                                    \n",
       "(Donor:TCGA-OR-A5J3, Age:23.0, Gender:FEMALE, S...                                           0.172282                                                                                                                                    \n",
       "(Donor:TCGA-OR-A5J5, Age:30.0, Gender:MALE, Sam...                                           0.097177                                                                                                                                    \n",
       "(Donor:TCGA-OR-A5J6, Age:29.0, Gender:FEMALE, S...                                          -0.040301                                                                                                                                    \n",
       "\n",
       "                                                    (Donor:TCGA-OR-A5JB, Age:52.0, Gender:MALE, SampleType:Primary Solid Tumor, Stage:Stage IV, Histology:Adrenocortical carcinoma- Usual Type, Tissue:Adrenal, Tumor:nan, Gradenan)  \\\n",
       "                                                                                                                                                                                                                                       \n",
       "(Donor:TCGA-OR-A5J1, Age:58.0, Gender:MALE, Sam...                                           0.053346                                                                                                                                  \n",
       "(Donor:TCGA-OR-A5J2, Age:44.0, Gender:FEMALE, S...                                           0.052042                                                                                                                                  \n",
       "(Donor:TCGA-OR-A5J3, Age:23.0, Gender:FEMALE, S...                                          -0.066096                                                                                                                                  \n",
       "(Donor:TCGA-OR-A5J5, Age:30.0, Gender:MALE, Sam...                                           0.007941                                                                                                                                  \n",
       "(Donor:TCGA-OR-A5J6, Age:29.0, Gender:FEMALE, S...                                           0.063554                                                                                                                                  \n",
       "\n",
       "                                                                                                                                       ...                                                                                       \\\n",
       "                                                                                                                                       ...                                                                                        \n",
       "(Donor:TCGA-OR-A5J1, Age:58.0, Gender:MALE, Sam...                                                                                     ...                                                                                        \n",
       "(Donor:TCGA-OR-A5J2, Age:44.0, Gender:FEMALE, S...                                                                                     ...                                                                                        \n",
       "(Donor:TCGA-OR-A5J3, Age:23.0, Gender:FEMALE, S...                                                                                     ...                                                                                        \n",
       "(Donor:TCGA-OR-A5J5, Age:30.0, Gender:MALE, Sam...                                                                                     ...                                                                                        \n",
       "(Donor:TCGA-OR-A5J6, Age:29.0, Gender:FEMALE, S...                                                                                     ...                                                                                        \n",
       "\n",
       "                                                    (Donor:TCGA-OR-A5LS, Age:34.0, Gender:FEMALE, SampleType:Primary Solid Tumor, Stage:Stage II, Histology:Adrenocortical carcinoma- Usual Type, Tissue:Adrenal, Tumor:nan, Gradenan)  \\\n",
       "                                                                                                                                                                                                                                         \n",
       "(Donor:TCGA-OR-A5J1, Age:58.0, Gender:MALE, Sam...                                          -0.049717                                                                                                                                    \n",
       "(Donor:TCGA-OR-A5J2, Age:44.0, Gender:FEMALE, S...                                           0.091513                                                                                                                                    \n",
       "(Donor:TCGA-OR-A5J3, Age:23.0, Gender:FEMALE, S...                                           0.146283                                                                                                                                    \n",
       "(Donor:TCGA-OR-A5J5, Age:30.0, Gender:MALE, Sam...                                           0.028231                                                                                                                                    \n",
       "(Donor:TCGA-OR-A5J6, Age:29.0, Gender:FEMALE, S...                                          -0.042766                                                                                                                                    \n",
       "\n",
       "                                                    (Donor:TCGA-OR-A5LT, Age:57.0, Gender:MALE, SampleType:Primary Solid Tumor, Stage:Stage III, Histology:Adrenocortical carcinoma- Usual Type, Tissue:Adrenal, Tumor:nan, Gradenan)  \\\n",
       "                                                                                                                                                                                                                                        \n",
       "(Donor:TCGA-OR-A5J1, Age:58.0, Gender:MALE, Sam...                                           0.003716                                                                                                                                   \n",
       "(Donor:TCGA-OR-A5J2, Age:44.0, Gender:FEMALE, S...                                          -0.000262                                                                                                                                   \n",
       "(Donor:TCGA-OR-A5J3, Age:23.0, Gender:FEMALE, S...                                           0.015945                                                                                                                                   \n",
       "(Donor:TCGA-OR-A5J5, Age:30.0, Gender:MALE, Sam...                                           0.016306                                                                                                                                   \n",
       "(Donor:TCGA-OR-A5J6, Age:29.0, Gender:FEMALE, S...                                          -0.059188                                                                                                                                   \n",
       "\n",
       "                                                    (Donor:TCGA-OU-A5PI, Age:53.0, Gender:FEMALE, SampleType:Primary Solid Tumor, Stage:Stage IV, Histology:Adrenocortical carcinoma- Usual Type, Tissue:Adrenal, Tumor:nan, Gradenan)  \\\n",
       "                                                                                                                                                                                                                                         \n",
       "(Donor:TCGA-OR-A5J1, Age:58.0, Gender:MALE, Sam...                                          -0.048197                                                                                                                                    \n",
       "(Donor:TCGA-OR-A5J2, Age:44.0, Gender:FEMALE, S...                                           0.137840                                                                                                                                    \n",
       "(Donor:TCGA-OR-A5J3, Age:23.0, Gender:FEMALE, S...                                           0.159890                                                                                                                                    \n",
       "(Donor:TCGA-OR-A5J5, Age:30.0, Gender:MALE, Sam...                                           0.014841                                                                                                                                    \n",
       "(Donor:TCGA-OR-A5J6, Age:29.0, Gender:FEMALE, S...                                          -0.126998                                                                                                                                    \n",
       "\n",
       "                                                    (Donor:TCGA-P6-A5OF, Age:55.0, Gender:FEMALE, SampleType:Primary Solid Tumor, Stage:Stage III, Histology:Adrenocortical carcinoma- Usual Type, Tissue:Adrenal, Tumor:nan, Gradenan)  \\\n",
       "                                                                                                                                                                                                                                          \n",
       "(Donor:TCGA-OR-A5J1, Age:58.0, Gender:MALE, Sam...                                          -0.017809                                                                                                                                     \n",
       "(Donor:TCGA-OR-A5J2, Age:44.0, Gender:FEMALE, S...                                           0.167492                                                                                                                                     \n",
       "(Donor:TCGA-OR-A5J3, Age:23.0, Gender:FEMALE, S...                                           0.143769                                                                                                                                     \n",
       "(Donor:TCGA-OR-A5J5, Age:30.0, Gender:MALE, Sam...                                           0.037302                                                                                                                                     \n",
       "(Donor:TCGA-OR-A5J6, Age:29.0, Gender:FEMALE, S...                                          -0.030957                                                                                                                                     \n",
       "\n",
       "                                                    (Donor:TCGA-P6-A5OG, Age:45.0, Gender:FEMALE, SampleType:Primary Solid Tumor, Stage:Stage IV, Histology:Adrenocortical carcinoma- Usual Type, Tissue:Adrenal, Tumor:nan, Gradenan)  \\\n",
       "                                                                                                                                                                                                                                         \n",
       "(Donor:TCGA-OR-A5J1, Age:58.0, Gender:MALE, Sam...                                           0.082957                                                                                                                                    \n",
       "(Donor:TCGA-OR-A5J2, Age:44.0, Gender:FEMALE, S...                                           0.123389                                                                                                                                    \n",
       "(Donor:TCGA-OR-A5J3, Age:23.0, Gender:FEMALE, S...                                          -0.024343                                                                                                                                    \n",
       "(Donor:TCGA-OR-A5J5, Age:30.0, Gender:MALE, Sam...                                           0.016771                                                                                                                                    \n",
       "(Donor:TCGA-OR-A5J6, Age:29.0, Gender:FEMALE, S...                                           0.010172                                                                                                                                    \n",
       "\n",
       "                                                    (Donor:TCGA-PA-A5YG, Age:51.0, Gender:MALE, SampleType:Primary Solid Tumor, Stage:Stage II, Histology:Adrenocortical carcinoma- Usual Type, Tissue:Adrenal, Tumor:nan, Gradenan)  \\\n",
       "                                                                                                                                                                                                                                       \n",
       "(Donor:TCGA-OR-A5J1, Age:58.0, Gender:MALE, Sam...                                          -0.045064                                                                                                                                  \n",
       "(Donor:TCGA-OR-A5J2, Age:44.0, Gender:FEMALE, S...                                           0.089881                                                                                                                                  \n",
       "(Donor:TCGA-OR-A5J3, Age:23.0, Gender:FEMALE, S...                                           0.026554                                                                                                                                  \n",
       "(Donor:TCGA-OR-A5J5, Age:30.0, Gender:MALE, Sam...                                          -0.034035                                                                                                                                  \n",
       "(Donor:TCGA-OR-A5J6, Age:29.0, Gender:FEMALE, S...                                           0.142759                                                                                                                                  \n",
       "\n",
       "                                                    (Donor:TCGA-PK-A5H8, Age:42.0, Gender:MALE, SampleType:Primary Solid Tumor, Stage:Stage II, Histology:Adrenocortical carcinoma- Usual Type, Tissue:Adrenal, Tumor:nan, Gradenan)  \\\n",
       "                                                                                                                                                                                                                                       \n",
       "(Donor:TCGA-OR-A5J1, Age:58.0, Gender:MALE, Sam...                                           0.012252                                                                                                                                  \n",
       "(Donor:TCGA-OR-A5J2, Age:44.0, Gender:FEMALE, S...                                          -0.014190                                                                                                                                  \n",
       "(Donor:TCGA-OR-A5J3, Age:23.0, Gender:FEMALE, S...                                           0.076768                                                                                                                                  \n",
       "(Donor:TCGA-OR-A5J5, Age:30.0, Gender:MALE, Sam...                                           0.039502                                                                                                                                  \n",
       "(Donor:TCGA-OR-A5J6, Age:29.0, Gender:FEMALE, S...                                           0.004743                                                                                                                                  \n",
       "\n",
       "                                                    (Donor:TCGA-PK-A5H9, Age:27.0, Gender:FEMALE, SampleType:Primary Solid Tumor, Stage:Stage II, Histology:Adrenocortical carcinoma- Usual Type, Tissue:Adrenal, Tumor:nan, Gradenan)  \\\n",
       "                                                                                                                                                                                                                                         \n",
       "(Donor:TCGA-OR-A5J1, Age:58.0, Gender:MALE, Sam...                                           0.019193                                                                                                                                    \n",
       "(Donor:TCGA-OR-A5J2, Age:44.0, Gender:FEMALE, S...                                           0.170427                                                                                                                                    \n",
       "(Donor:TCGA-OR-A5J3, Age:23.0, Gender:FEMALE, S...                                           0.009866                                                                                                                                    \n",
       "(Donor:TCGA-OR-A5J5, Age:30.0, Gender:MALE, Sam...                                          -0.089279                                                                                                                                    \n",
       "(Donor:TCGA-OR-A5J6, Age:29.0, Gender:FEMALE, S...                                           0.168016                                                                                                                                    \n",
       "\n",
       "                                                    (Donor:TCGA-PK-A5HA, Age:63.0, Gender:MALE, SampleType:Primary Solid Tumor, Stage:Stage I, Histology:Adrenocortical carcinoma- Usual Type, Tissue:Adrenal, Tumor:nan, Gradenan)  \\\n",
       "                                                                                                                                                                                                                                      \n",
       "(Donor:TCGA-OR-A5J1, Age:58.0, Gender:MALE, Sam...                                          -0.049812                                                                                                                                 \n",
       "(Donor:TCGA-OR-A5J2, Age:44.0, Gender:FEMALE, S...                                           0.063051                                                                                                                                 \n",
       "(Donor:TCGA-OR-A5J3, Age:23.0, Gender:FEMALE, S...                                          -0.041933                                                                                                                                 \n",
       "(Donor:TCGA-OR-A5J5, Age:30.0, Gender:MALE, Sam...                                          -0.021107                                                                                                                                 \n",
       "(Donor:TCGA-OR-A5J6, Age:29.0, Gender:FEMALE, S...                                           0.040573                                                                                                                                 \n",
       "\n",
       "                                                    (Donor:TCGA-PK-A5HB, Age:63.0, Gender:MALE, SampleType:Primary Solid Tumor, Stage:nan, Histology:Adrenocortical carcinoma- Usual Type, Tissue:Adrenal, Tumor:nan, Gradenan)  \n",
       "                                                                                                                                                                                                                                 \n",
       "(Donor:TCGA-OR-A5J1, Age:58.0, Gender:MALE, Sam...                                          -0.019561                                                                                                                            \n",
       "(Donor:TCGA-OR-A5J2, Age:44.0, Gender:FEMALE, S...                                           0.141937                                                                                                                            \n",
       "(Donor:TCGA-OR-A5J3, Age:23.0, Gender:FEMALE, S...                                           0.093847                                                                                                                            \n",
       "(Donor:TCGA-OR-A5J5, Age:30.0, Gender:MALE, Sam...                                          -0.022423                                                                                                                            \n",
       "(Donor:TCGA-OR-A5J6, Age:29.0, Gender:FEMALE, S...                                           0.022398                                                                                                                            \n",
       "\n",
       "[5 rows x 79 columns]"
      ]
     },
     "execution_count": 76,
     "metadata": {},
     "output_type": "execute_result"
    }
   ],
   "source": [
    "attribute_similarity_matix.head()"
   ]
  },
  {
   "cell_type": "markdown",
   "metadata": {},
   "source": [
    "# HeatMap (clustergrammer) of Similarity Matrix"
   ]
  },
  {
   "cell_type": "code",
   "execution_count": 77,
   "metadata": {},
   "outputs": [
    {
     "name": "stderr",
     "output_type": "stream",
     "text": [
      "Widget Javascript not detected.  It may not be installed or enabled properly.\n"
     ]
    },
    {
     "data": {
      "application/vnd.jupyter.widget-view+json": {
       "model_id": "dee8389138ad40b19b16547d6d2659ee"
      }
     },
     "metadata": {},
     "output_type": "display_data"
    }
   ],
   "source": [
    "net.load_df(attribute_similarity_matix.iloc[:,:].copy())\n",
    "# net.filter_N_top('row', rank_type='sum', N_top=300)\n",
    "net.cluster()\n",
    "net.widget()"
   ]
  },
  {
   "cell_type": "markdown",
   "metadata": {},
   "source": [
    "# Save Attribute Similarity Matrix"
   ]
  },
  {
   "cell_type": "code",
   "execution_count": 78,
   "metadata": {
    "collapsed": true
   },
   "outputs": [],
   "source": [
    "filename = path+'tcga_acc_attribute_similarity_matix_%s.tsv.zip'% str(datetime.date.today())[0:7].replace('-', '_')\n",
    "attribute_similarity_matix.to_csv(filename, sep='\\t', compression='gzip')"
   ]
  },
  {
   "cell_type": "markdown",
   "metadata": {
    "collapsed": true
   },
   "source": [
    "# Create Gene Similarity Matrix"
   ]
  },
  {
   "cell_type": "code",
   "execution_count": 79,
   "metadata": {
    "collapsed": true
   },
   "outputs": [],
   "source": [
    "gene_similarity_matix = uf.createSimilarityMatrix(normalized_matrix, 'cosine')"
   ]
  },
  {
   "cell_type": "code",
   "execution_count": 80,
   "metadata": {},
   "outputs": [
    {
     "data": {
      "text/html": [
       "<div>\n",
       "<style scoped>\n",
       "    .dataframe tbody tr th:only-of-type {\n",
       "        vertical-align: middle;\n",
       "    }\n",
       "\n",
       "    .dataframe tbody tr th {\n",
       "        vertical-align: top;\n",
       "    }\n",
       "\n",
       "    .dataframe thead th {\n",
       "        text-align: right;\n",
       "    }\n",
       "</style>\n",
       "<table border=\"1\" class=\"dataframe\">\n",
       "  <thead>\n",
       "    <tr style=\"text-align: right;\">\n",
       "      <th></th>\n",
       "      <th>A1BG</th>\n",
       "      <th>A1CF</th>\n",
       "      <th>A2M</th>\n",
       "      <th>A2ML1</th>\n",
       "      <th>A3GALT2</th>\n",
       "      <th>A4GALT</th>\n",
       "      <th>A4GNT</th>\n",
       "      <th>AAAS</th>\n",
       "      <th>AACS</th>\n",
       "      <th>AADAC</th>\n",
       "      <th>...</th>\n",
       "      <th>ZWILCH</th>\n",
       "      <th>ZWINT</th>\n",
       "      <th>ZXDA</th>\n",
       "      <th>ZXDB</th>\n",
       "      <th>ZXDC</th>\n",
       "      <th>ZYG11A</th>\n",
       "      <th>ZYG11B</th>\n",
       "      <th>ZYX</th>\n",
       "      <th>ZZEF1</th>\n",
       "      <th>ZZZ3</th>\n",
       "    </tr>\n",
       "    <tr>\n",
       "      <th></th>\n",
       "      <th></th>\n",
       "      <th></th>\n",
       "      <th></th>\n",
       "      <th></th>\n",
       "      <th></th>\n",
       "      <th></th>\n",
       "      <th></th>\n",
       "      <th></th>\n",
       "      <th></th>\n",
       "      <th></th>\n",
       "      <th></th>\n",
       "      <th></th>\n",
       "      <th></th>\n",
       "      <th></th>\n",
       "      <th></th>\n",
       "      <th></th>\n",
       "      <th></th>\n",
       "      <th></th>\n",
       "      <th></th>\n",
       "      <th></th>\n",
       "      <th></th>\n",
       "    </tr>\n",
       "  </thead>\n",
       "  <tbody>\n",
       "    <tr>\n",
       "      <th>A1BG</th>\n",
       "      <td>1.000000</td>\n",
       "      <td>-0.209192</td>\n",
       "      <td>-0.000979</td>\n",
       "      <td>-0.128201</td>\n",
       "      <td>0.177032</td>\n",
       "      <td>-0.156170</td>\n",
       "      <td>0.235723</td>\n",
       "      <td>-0.021756</td>\n",
       "      <td>-0.235740</td>\n",
       "      <td>0.243267</td>\n",
       "      <td>...</td>\n",
       "      <td>-0.170545</td>\n",
       "      <td>-0.082186</td>\n",
       "      <td>-0.241999</td>\n",
       "      <td>-0.198973</td>\n",
       "      <td>-0.271664</td>\n",
       "      <td>-0.294991</td>\n",
       "      <td>-0.238936</td>\n",
       "      <td>0.102319</td>\n",
       "      <td>0.049555</td>\n",
       "      <td>-0.264833</td>\n",
       "    </tr>\n",
       "    <tr>\n",
       "      <th>A1CF</th>\n",
       "      <td>-0.209192</td>\n",
       "      <td>1.000000</td>\n",
       "      <td>0.329085</td>\n",
       "      <td>0.021247</td>\n",
       "      <td>-0.132199</td>\n",
       "      <td>0.171632</td>\n",
       "      <td>-0.124970</td>\n",
       "      <td>0.079549</td>\n",
       "      <td>0.076521</td>\n",
       "      <td>0.032595</td>\n",
       "      <td>...</td>\n",
       "      <td>0.148094</td>\n",
       "      <td>0.061908</td>\n",
       "      <td>0.080256</td>\n",
       "      <td>0.170755</td>\n",
       "      <td>0.205849</td>\n",
       "      <td>0.051630</td>\n",
       "      <td>0.174334</td>\n",
       "      <td>0.141525</td>\n",
       "      <td>0.165578</td>\n",
       "      <td>0.107422</td>\n",
       "    </tr>\n",
       "    <tr>\n",
       "      <th>A2M</th>\n",
       "      <td>-0.000979</td>\n",
       "      <td>0.329085</td>\n",
       "      <td>1.000000</td>\n",
       "      <td>0.107580</td>\n",
       "      <td>0.041436</td>\n",
       "      <td>0.160231</td>\n",
       "      <td>-0.031248</td>\n",
       "      <td>-0.042285</td>\n",
       "      <td>-0.138630</td>\n",
       "      <td>-0.037913</td>\n",
       "      <td>...</td>\n",
       "      <td>-0.072363</td>\n",
       "      <td>-0.194659</td>\n",
       "      <td>0.105942</td>\n",
       "      <td>0.000461</td>\n",
       "      <td>-0.082203</td>\n",
       "      <td>-0.091180</td>\n",
       "      <td>0.262432</td>\n",
       "      <td>0.354856</td>\n",
       "      <td>-0.057830</td>\n",
       "      <td>0.170772</td>\n",
       "    </tr>\n",
       "    <tr>\n",
       "      <th>A2ML1</th>\n",
       "      <td>-0.128201</td>\n",
       "      <td>0.021247</td>\n",
       "      <td>0.107580</td>\n",
       "      <td>1.000000</td>\n",
       "      <td>-0.165897</td>\n",
       "      <td>-0.207178</td>\n",
       "      <td>-0.078741</td>\n",
       "      <td>0.230414</td>\n",
       "      <td>-0.001675</td>\n",
       "      <td>-0.249628</td>\n",
       "      <td>...</td>\n",
       "      <td>-0.221549</td>\n",
       "      <td>-0.286476</td>\n",
       "      <td>0.295641</td>\n",
       "      <td>0.274000</td>\n",
       "      <td>-0.155349</td>\n",
       "      <td>-0.285644</td>\n",
       "      <td>0.037764</td>\n",
       "      <td>-0.054197</td>\n",
       "      <td>-0.005422</td>\n",
       "      <td>0.050536</td>\n",
       "    </tr>\n",
       "    <tr>\n",
       "      <th>A3GALT2</th>\n",
       "      <td>0.177032</td>\n",
       "      <td>-0.132199</td>\n",
       "      <td>0.041436</td>\n",
       "      <td>-0.165897</td>\n",
       "      <td>1.000000</td>\n",
       "      <td>-0.217129</td>\n",
       "      <td>0.088365</td>\n",
       "      <td>0.224822</td>\n",
       "      <td>0.027681</td>\n",
       "      <td>0.057266</td>\n",
       "      <td>...</td>\n",
       "      <td>-0.024488</td>\n",
       "      <td>0.038240</td>\n",
       "      <td>-0.084552</td>\n",
       "      <td>-0.034493</td>\n",
       "      <td>-0.072490</td>\n",
       "      <td>-0.156257</td>\n",
       "      <td>-0.036899</td>\n",
       "      <td>-0.173242</td>\n",
       "      <td>-0.040956</td>\n",
       "      <td>-0.092124</td>\n",
       "    </tr>\n",
       "  </tbody>\n",
       "</table>\n",
       "<p>5 rows × 18423 columns</p>\n",
       "</div>"
      ],
      "text/plain": [
       "             A1BG      A1CF       A2M     A2ML1   A3GALT2    A4GALT     A4GNT  \\\n",
       "                                                                                \n",
       "A1BG     1.000000 -0.209192 -0.000979 -0.128201  0.177032 -0.156170  0.235723   \n",
       "A1CF    -0.209192  1.000000  0.329085  0.021247 -0.132199  0.171632 -0.124970   \n",
       "A2M     -0.000979  0.329085  1.000000  0.107580  0.041436  0.160231 -0.031248   \n",
       "A2ML1   -0.128201  0.021247  0.107580  1.000000 -0.165897 -0.207178 -0.078741   \n",
       "A3GALT2  0.177032 -0.132199  0.041436 -0.165897  1.000000 -0.217129  0.088365   \n",
       "\n",
       "             AAAS      AACS     AADAC    ...       ZWILCH     ZWINT      ZXDA  \\\n",
       "                                         ...                                    \n",
       "A1BG    -0.021756 -0.235740  0.243267    ...    -0.170545 -0.082186 -0.241999   \n",
       "A1CF     0.079549  0.076521  0.032595    ...     0.148094  0.061908  0.080256   \n",
       "A2M     -0.042285 -0.138630 -0.037913    ...    -0.072363 -0.194659  0.105942   \n",
       "A2ML1    0.230414 -0.001675 -0.249628    ...    -0.221549 -0.286476  0.295641   \n",
       "A3GALT2  0.224822  0.027681  0.057266    ...    -0.024488  0.038240 -0.084552   \n",
       "\n",
       "             ZXDB      ZXDC    ZYG11A    ZYG11B       ZYX     ZZEF1      ZZZ3  \n",
       "                                                                               \n",
       "A1BG    -0.198973 -0.271664 -0.294991 -0.238936  0.102319  0.049555 -0.264833  \n",
       "A1CF     0.170755  0.205849  0.051630  0.174334  0.141525  0.165578  0.107422  \n",
       "A2M      0.000461 -0.082203 -0.091180  0.262432  0.354856 -0.057830  0.170772  \n",
       "A2ML1    0.274000 -0.155349 -0.285644  0.037764 -0.054197 -0.005422  0.050536  \n",
       "A3GALT2 -0.034493 -0.072490 -0.156257 -0.036899 -0.173242 -0.040956 -0.092124  \n",
       "\n",
       "[5 rows x 18423 columns]"
      ]
     },
     "execution_count": 80,
     "metadata": {},
     "output_type": "execute_result"
    }
   ],
   "source": [
    "gene_similarity_matix.head()"
   ]
  },
  {
   "cell_type": "markdown",
   "metadata": {
    "collapsed": true
   },
   "source": [
    "# Save Gene Similarity Matrix"
   ]
  },
  {
   "cell_type": "code",
   "execution_count": 81,
   "metadata": {
    "collapsed": true
   },
   "outputs": [],
   "source": [
    "filename = path+'tcga_acc_gene_similarity_matix_%s.tsv.zip'% str(datetime.date.today())[0:7].replace('-', '_')\n",
    "gene_similarity_matix.to_csv(filename, sep='\\t', compression='gzip')"
   ]
  },
  {
   "cell_type": "markdown",
   "metadata": {},
   "source": [
    "# Create Gene-Attribute Edge List"
   ]
  },
  {
   "cell_type": "code",
   "execution_count": 82,
   "metadata": {
    "collapsed": true
   },
   "outputs": [],
   "source": [
    "name = 'tcga_acc_gene_attribute_edge_list'"
   ]
  },
  {
   "cell_type": "code",
   "execution_count": 83,
   "metadata": {},
   "outputs": [
    {
     "name": "stdout",
     "output_type": "stream",
     "text": [
      "Progeres: 100%  79 Out of 79   \n",
      "\n",
      " The number of statisticaly relevent gene-attribute associations is: 72970\n"
     ]
    }
   ],
   "source": [
    "uf.createGeneAttributeEdgeList(standard_matrix, attribute_list, gene_list, path, name)"
   ]
  }
 ],
 "metadata": {
  "kernelspec": {
   "display_name": "Python [default]",
   "language": "python",
   "name": "python3"
  },
  "language_info": {
   "codemirror_mode": {
    "name": "ipython",
    "version": 3
   },
   "file_extension": ".py",
   "mimetype": "text/x-python",
   "name": "python",
   "nbconvert_exporter": "python",
   "pygments_lexer": "ipython3",
   "version": "3.5.2"
  }
 },
 "nbformat": 4,
 "nbformat_minor": 2
}
