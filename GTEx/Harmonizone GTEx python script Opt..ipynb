{
 "cells": [
  {
   "cell_type": "code",
   "execution_count": 1,
   "metadata": {
    "collapsed": false
   },
   "outputs": [],
   "source": [
    "import os\n",
    "import numpy as np\n",
    "import pandas as pd\n",
    "import matplotlib.pyplot as plt\n",
    "import scipy.spatial.distance as dist\n",
    "import seaborn as sns"
   ]
  },
  {
   "cell_type": "code",
   "execution_count": 2,
   "metadata": {
    "collapsed": true
   },
   "outputs": [],
   "source": [
    "%matplotlib inline"
   ]
  },
  {
   "cell_type": "code",
   "execution_count": 3,
   "metadata": {
    "collapsed": true
   },
   "outputs": [],
   "source": [
    "cwd = os.getcwd()\n",
    "\n",
    "meta_data_file_samples = r'GTEx_Data_V6_Annotations_SampleAttributesDS.txt'\n",
    "meta_data_file_subjects = r'GTEx_Data_V6_Annotations_SubjectPhenotypesDS.txt'\n",
    "sybol_mapping_file = r'Homo_sapiens.gene_info.gene_info'\n",
    "data_file = r'GTEx_Analysis_v6p_RNA-seq_RNA-SeQCv1.1.8_gene_rpkm.gct'"
   ]
  },
  {
   "cell_type": "markdown",
   "metadata": {},
   "source": [
    "### Creat Sample Meta Data Table"
   ]
  },
  {
   "cell_type": "code",
   "execution_count": 4,
   "metadata": {
    "collapsed": false
   },
   "outputs": [],
   "source": [
    "meta_df_SA = pd.read_csv(os.path.join(cwd, meta_data_file_samples), sep='\\t', index_col=0)"
   ]
  },
  {
   "cell_type": "code",
   "execution_count": 5,
   "metadata": {
    "collapsed": true
   },
   "outputs": [],
   "source": [
    "meta_df_SP = pd.read_csv(os.path.join(cwd, meta_data_file_subjects), sep='\\t')"
   ]
  },
  {
   "cell_type": "code",
   "execution_count": 6,
   "metadata": {
    "collapsed": false
   },
   "outputs": [],
   "source": [
    "# meta_df_SP.GENDER[meta_df_SP.GENDER == 1] = 'male' \n",
    "# meta_df_SP.GENDER[meta_df_SP.GENDER == 2] = 'female' \n",
    "meta_df_SP.GENDER = meta_df_SP.GENDER.where(meta_df_SP.GENDER == 1, other='female')\n",
    "meta_df_SP.GENDER = meta_df_SP.GENDER.where(meta_df_SP.GENDER == 'female', other='male')"
   ]
  },
  {
   "cell_type": "code",
   "execution_count": 7,
   "metadata": {
    "collapsed": false
   },
   "outputs": [],
   "source": [
    "meta_df = pd.DataFrame(columns=['TISSUE', 'SUBJID'], index=meta_df_SA.index)\n",
    "meta_df.TISSUE = meta_df_SA.SMTS\n",
    "meta_df.SUBJID = [item[0] for item in meta_df.index.str.rsplit('-', 3)]"
   ]
  },
  {
   "cell_type": "code",
   "execution_count": 8,
   "metadata": {
    "collapsed": false
   },
   "outputs": [],
   "source": [
    "index = meta_df.index\n",
    "meta_df = pd.merge(meta_df, meta_df_SP, how='left')\n",
    "meta_df.index = index"
   ]
  },
  {
   "cell_type": "code",
   "execution_count": 9,
   "metadata": {
    "collapsed": false
   },
   "outputs": [],
   "source": [
    "meta_df.dropna(inplace=True)\n",
    "meta_df.drop(['DTHHRDY','SUBJID'], axis=1, inplace=True)\n",
    "meta_df.columns.name = 'ATTRIBUTES'\n",
    "meta_df.index.name = 'TISSUE SAMPLE'"
   ]
  },
  {
   "cell_type": "markdown",
   "metadata": {},
   "source": [
    "### Get Data"
   ]
  },
  {
   "cell_type": "code",
   "execution_count": 10,
   "metadata": {
    "collapsed": false
   },
   "outputs": [],
   "source": [
    "data = pd.read_csv(os.path.join(cwd, data_file), sep='\\t' ,skiprows=2)"
   ]
  },
  {
   "cell_type": "markdown",
   "metadata": {},
   "source": [
    "### Creat Gene Meta Data Table"
   ]
  },
  {
   "cell_type": "code",
   "execution_count": 11,
   "metadata": {
    "collapsed": true
   },
   "outputs": [],
   "source": [
    "sm = pd.read_csv(os.path.join(cwd, sybol_mapping_file), sep='\\t')"
   ]
  },
  {
   "cell_type": "code",
   "execution_count": 12,
   "metadata": {
    "collapsed": true
   },
   "outputs": [],
   "source": [
    "sm.drop_duplicates(subset='Symbol', inplace=True)\n",
    "sm = sm[['Symbol', 'GeneID']]"
   ]
  },
  {
   "cell_type": "code",
   "execution_count": 13,
   "metadata": {
    "collapsed": false
   },
   "outputs": [],
   "source": [
    "gene_df = data[['Description', 'Name']].copy()\n",
    "gene_df.columns = [['Symbol', 'Ensemble Acc']]"
   ]
  },
  {
   "cell_type": "code",
   "execution_count": 14,
   "metadata": {
    "collapsed": false
   },
   "outputs": [],
   "source": [
    "gene_df = pd.merge(gene_df, sm, how='left')"
   ]
  },
  {
   "cell_type": "code",
   "execution_count": 15,
   "metadata": {
    "collapsed": false
   },
   "outputs": [
    {
     "data": {
      "text/plain": [
       "(56238, 3)"
      ]
     },
     "execution_count": 15,
     "metadata": {},
     "output_type": "execute_result"
    }
   ],
   "source": [
    "gene_df.shape"
   ]
  },
  {
   "cell_type": "code",
   "execution_count": 16,
   "metadata": {
    "collapsed": false
   },
   "outputs": [],
   "source": [
    "gene_df.dropna(inplace=True)"
   ]
  },
  {
   "cell_type": "code",
   "execution_count": 17,
   "metadata": {
    "collapsed": false
   },
   "outputs": [
    {
     "data": {
      "text/plain": [
       "(32219, 3)"
      ]
     },
     "execution_count": 17,
     "metadata": {},
     "output_type": "execute_result"
    }
   ],
   "source": [
    "gene_df.shape"
   ]
  },
  {
   "cell_type": "markdown",
   "metadata": {},
   "source": [
    "### Creat Gene Attribute Matirx"
   ]
  },
  {
   "cell_type": "code",
   "execution_count": 18,
   "metadata": {
    "collapsed": true
   },
   "outputs": [],
   "source": [
    "data_matrix = data.copy()"
   ]
  },
  {
   "cell_type": "code",
   "execution_count": 19,
   "metadata": {
    "collapsed": false
   },
   "outputs": [
    {
     "data": {
      "text/plain": [
       "(56238, 8557)"
      ]
     },
     "execution_count": 19,
     "metadata": {},
     "output_type": "execute_result"
    }
   ],
   "source": [
    "data_matrix.shape"
   ]
  },
  {
   "cell_type": "code",
   "execution_count": 20,
   "metadata": {
    "collapsed": false
   },
   "outputs": [],
   "source": [
    "data_matrix.rename(columns={'Description':'Symbol', 'Name': 'Ensembel Acc'}, inplace=True)"
   ]
  },
  {
   "cell_type": "code",
   "execution_count": 21,
   "metadata": {
    "collapsed": false
   },
   "outputs": [],
   "source": [
    "#drop genes for which there is no info\n",
    "data_matrix = pd.merge(gene_df, data_matrix, how='left', on='Symbol')"
   ]
  },
  {
   "cell_type": "code",
   "execution_count": 22,
   "metadata": {
    "collapsed": false
   },
   "outputs": [
    {
     "data": {
      "text/plain": [
       "(38447, 8559)"
      ]
     },
     "execution_count": 22,
     "metadata": {},
     "output_type": "execute_result"
    }
   ],
   "source": [
    "data_matrix.shape"
   ]
  },
  {
   "cell_type": "code",
   "execution_count": 23,
   "metadata": {
    "collapsed": false
   },
   "outputs": [],
   "source": [
    "#drop samples for which there is no meta data\n",
    "lst = data_matrix.columns.intersection(meta_df.index)\n",
    "data_matrix = data_matrix[lst]"
   ]
  },
  {
   "cell_type": "code",
   "execution_count": 24,
   "metadata": {
    "collapsed": false
   },
   "outputs": [
    {
     "data": {
      "text/plain": [
       "(38447, 7425)"
      ]
     },
     "execution_count": 24,
     "metadata": {},
     "output_type": "execute_result"
    }
   ],
   "source": [
    "data_matrix.shape"
   ]
  },
  {
   "cell_type": "code",
   "execution_count": 25,
   "metadata": {
    "collapsed": true
   },
   "outputs": [],
   "source": [
    "data_matrix.insert(0, 'Symbol', gene_df['Symbol'])"
   ]
  },
  {
   "cell_type": "code",
   "execution_count": 26,
   "metadata": {
    "collapsed": true
   },
   "outputs": [],
   "source": [
    "data_matrix.dropna(inplace=True)"
   ]
  },
  {
   "cell_type": "code",
   "execution_count": 27,
   "metadata": {
    "collapsed": false
   },
   "outputs": [
    {
     "data": {
      "text/plain": [
       "(21752, 7426)"
      ]
     },
     "execution_count": 27,
     "metadata": {},
     "output_type": "execute_result"
    }
   ],
   "source": [
    "data_matrix.shape"
   ]
  },
  {
   "cell_type": "code",
   "execution_count": 28,
   "metadata": {
    "collapsed": false
   },
   "outputs": [],
   "source": [
    "data_matrix.replace(to_replace=0.000000, value=np.nan, inplace=True)"
   ]
  },
  {
   "cell_type": "code",
   "execution_count": 29,
   "metadata": {
    "collapsed": false
   },
   "outputs": [],
   "source": [
    "data_matrix.dropna(axis=1, thresh=(0.05*data_matrix.index.size), inplace=True)#drop any missing at least 5% on columns\n",
    "data_matrix.dropna(axis=0, thresh=(0.05*data_matrix.columns.size), inplace=True)#drop any missing at least 5% on rows"
   ]
  },
  {
   "cell_type": "code",
   "execution_count": 30,
   "metadata": {
    "collapsed": false
   },
   "outputs": [
    {
     "data": {
      "text/plain": [
       "(14823, 7426)"
      ]
     },
     "execution_count": 30,
     "metadata": {},
     "output_type": "execute_result"
    }
   ],
   "source": [
    "data_matrix.shape"
   ]
  },
  {
   "cell_type": "code",
   "execution_count": 31,
   "metadata": {
    "collapsed": false
   },
   "outputs": [],
   "source": [
    "data_matrix.set_index('Symbol', inplace=True)"
   ]
  },
  {
   "cell_type": "code",
   "execution_count": 32,
   "metadata": {
    "collapsed": false
   },
   "outputs": [],
   "source": [
    "# impute remaining missing values\n",
    "data_matrix.fillna(data_matrix.median(numeric_only=True), inplace=True);"
   ]
  },
  {
   "cell_type": "code",
   "execution_count": 33,
   "metadata": {
    "collapsed": false
   },
   "outputs": [],
   "source": [
    "# Log transform \n",
    "data_matrix = np.log2(data_matrix)"
   ]
  },
  {
   "cell_type": "code",
   "execution_count": 34,
   "metadata": {
    "collapsed": true
   },
   "outputs": [],
   "source": [
    "# functin for quantile normalization\n",
    "def quantileNormalize(df_input):\n",
    "    df = df_input.copy()\n",
    "    #compute rank\n",
    "    dic = {}\n",
    "    for col in df:\n",
    "        dic.update({col : sorted(df[col])})\n",
    "    sorted_df = pd.DataFrame(dic)\n",
    "    rank = sorted_df.mean(axis = 1).tolist()\n",
    "    #sort\n",
    "    for col in df:\n",
    "        t = np.searchsorted(np.sort(df[col]), df[col])\n",
    "        df[col] = [rank[i] for i in t]\n",
    "    return df"
   ]
  },
  {
   "cell_type": "code",
   "execution_count": 35,
   "metadata": {
    "collapsed": false
   },
   "outputs": [],
   "source": [
    "data_matrix = quantileNormalize(data_matrix)"
   ]
  },
  {
   "cell_type": "code",
   "execution_count": 36,
   "metadata": {
    "collapsed": false
   },
   "outputs": [],
   "source": [
    "data_matrix = data_matrix.groupby(level=0).sum()"
   ]
  },
  {
   "cell_type": "code",
   "execution_count": 37,
   "metadata": {
    "collapsed": true
   },
   "outputs": [],
   "source": [
    "# z-score standardize the data\n",
    "data_matrix = data_matrix.apply(lambda x: (x-x.mean())/x.std(ddof=0), axis=1)"
   ]
  },
  {
   "cell_type": "code",
   "execution_count": 38,
   "metadata": {
    "collapsed": false
   },
   "outputs": [
    {
     "data": {
      "text/plain": [
       "(14659, 7425)"
      ]
     },
     "execution_count": 38,
     "metadata": {},
     "output_type": "execute_result"
    }
   ],
   "source": [
    "data_matrix.shape"
   ]
  },
  {
   "cell_type": "markdown",
   "metadata": {},
   "source": [
    "### Creat Tertiary Matrix"
   ]
  },
  {
   "cell_type": "code",
   "execution_count": 39,
   "metadata": {
    "collapsed": false
   },
   "outputs": [],
   "source": [
    "vals = abs(data_matrix.values.flatten())\n",
    "vals = np.sort(vals)"
   ]
  },
  {
   "cell_type": "code",
   "execution_count": 40,
   "metadata": {
    "collapsed": false
   },
   "outputs": [],
   "source": [
    "pos = abs(data_matrix) > vals[-int(0.1*data_matrix.values.size):][0] \n",
    "up = data_matrix > 0\n",
    "down = data_matrix < 0"
   ]
  },
  {
   "cell_type": "code",
   "execution_count": 41,
   "metadata": {
    "collapsed": true
   },
   "outputs": [],
   "source": [
    "terup = pos & up\n",
    "terup = terup.applymap(lambda x: 1 if x else np.nan)\n",
    "terdown = pos & down\n",
    "terdown = terdown.applymap(lambda x: -1 if x else np.nan)\n",
    "terup.fillna(0, inplace=True)\n",
    "terdown.fillna(0, inplace=True)"
   ]
  },
  {
   "cell_type": "code",
   "execution_count": 42,
   "metadata": {
    "collapsed": false
   },
   "outputs": [],
   "source": [
    "tertiary_df = terup + terdown"
   ]
  },
  {
   "cell_type": "code",
   "execution_count": 43,
   "metadata": {
    "collapsed": false
   },
   "outputs": [],
   "source": [
    "tertiary_df.replace(0.0, np.nan, inplace=True)\n",
    "tertiary_df.dropna(axis=1, how='all', inplace=True)\n",
    "tertiary_df.dropna(axis=0, how='all', inplace=True)\n",
    "tertiary_df.replace(np.nan, 0, inplace=True)"
   ]
  },
  {
   "cell_type": "markdown",
   "metadata": {
    "collapsed": false
   },
   "source": [
    "### Clean Tables"
   ]
  },
  {
   "cell_type": "code",
   "execution_count": 44,
   "metadata": {
    "collapsed": false
   },
   "outputs": [],
   "source": [
    "data_matrix = data_matrix[tertiary_df.columns]\n",
    "data_matrix =  data_matrix.ix[tertiary_df.index]"
   ]
  },
  {
   "cell_type": "code",
   "execution_count": 45,
   "metadata": {
    "collapsed": false
   },
   "outputs": [],
   "source": [
    "meta_df = meta_df.ix[data_matrix.columns]"
   ]
  },
  {
   "cell_type": "code",
   "execution_count": 46,
   "metadata": {
    "collapsed": false
   },
   "outputs": [],
   "source": [
    "gene_df.drop_duplicates(subset='Symbol', inplace=True)\n",
    "gene_df.set_index('Symbol', inplace=True)\n",
    "gene_df = gene_df.ix[data_matrix.index]"
   ]
  },
  {
   "cell_type": "markdown",
   "metadata": {},
   "source": [
    "### Calculate The Cosine Attribute Matrix"
   ]
  },
  {
   "cell_type": "code",
   "execution_count": 47,
   "metadata": {
    "collapsed": true
   },
   "outputs": [],
   "source": [
    "# Check the cosine distance between the samples (attributes)\n",
    "attribute_similarity_matrix = dist.pdist(data_matrix.T, 'cosine')\n",
    "attribute_similarity_matrix = dist.squareform(attribute_similarity_matrix)\n",
    "attribute_similarity_df = pd.DataFrame(data=attribute_similarity_matrix[0:,0:], index=data_matrix.columns, columns=data_matrix.columns)\n",
    "attribute_similarity_df = attribute_similarity_df.applymap(lambda x: 1-x)"
   ]
  },
  {
   "cell_type": "markdown",
   "metadata": {},
   "source": [
    "### Calculate The Cosine Gene Matrix"
   ]
  },
  {
   "cell_type": "code",
   "execution_count": 48,
   "metadata": {
    "collapsed": false
   },
   "outputs": [],
   "source": [
    "# Check the cosine distance between the genes\n",
    "gene_similarity_matrix = dist.pdist(data_matrix, 'cosine')\n",
    "gene_similarity_matrix = dist.squareform(gene_similarity_matrix)\n",
    "gene_similarity_df = pd.DataFrame(data=gene_similarity_matrix[0:,0:], index=data_matrix.index, columns=data_matrix.index)\n",
    "gene_similarity_df = gene_similarity_df.applymap(lambda x: 1-x)"
   ]
  },
  {
   "cell_type": "markdown",
   "metadata": {},
   "source": [
    "### Add Relevent Data To Table"
   ]
  },
  {
   "cell_type": "code",
   "execution_count": 49,
   "metadata": {
    "collapsed": false
   },
   "outputs": [],
   "source": [
    "data_matrix.insert(0, 'Ensemble Acc', gene_df['Ensemble Acc'])\n",
    "data_matrix.insert(1, 'GeneID', gene_df['GeneID'])"
   ]
  },
  {
   "cell_type": "code",
   "execution_count": 50,
   "metadata": {
    "collapsed": true
   },
   "outputs": [],
   "source": [
    "tertiary_df.insert(0, 'Ensemble Acc', gene_df['Ensemble Acc'])\n",
    "tertiary_df.insert(1, 'GeneID', gene_df['GeneID'])"
   ]
  },
  {
   "cell_type": "code",
   "execution_count": 51,
   "metadata": {
    "collapsed": true
   },
   "outputs": [],
   "source": [
    "attribute_similarity_df.insert(0, 'Ensemble Acc', gene_df['Ensemble Acc'])\n",
    "attribute_similarity_df.insert(1, 'GeneID', gene_df['GeneID'])"
   ]
  },
  {
   "cell_type": "code",
   "execution_count": 52,
   "metadata": {
    "collapsed": true
   },
   "outputs": [],
   "source": [
    "gene_similarity_df.insert(0, 'Ensemble Acc', gene_df['Ensemble Acc'])\n",
    "gene_similarity_df.insert(1, 'GeneID', gene_df['GeneID'])"
   ]
  },
  {
   "cell_type": "markdown",
   "metadata": {},
   "source": [
    "### Creat Attribute Set Libraries"
   ]
  },
  {
   "cell_type": "code",
   "execution_count": 53,
   "metadata": {
    "collapsed": false
   },
   "outputs": [
    {
     "name": "stdout",
     "output_type": "stream",
     "text": [
      "100.0"
     ]
    }
   ],
   "source": [
    "attribute_up_lib = pd.DataFrame()\n",
    "\n",
    "up1 = pos & up\n",
    "\n",
    "i=1\n",
    "\n",
    "for index in up1.index:\n",
    "    lst = up1.ix[index].values\n",
    "    \n",
    "    temp_df = pd.DataFrame(index=[index], columns=range(0, len(up1.columns[lst].values)))\n",
    "    temp_df.ix[index] = up1.columns[lst].values\n",
    "    attribute_up_lib = attribute_up_lib.append(temp_df)\n",
    "    \n",
    "    print('\\r'+str(i/up1.index.size*100), end='', flush=True)\n",
    "    i+=1\n",
    "    \n",
    "\n",
    "attribute_up_lib.sort_index(inplace=True)\n",
    "\n",
    "attribute_up_lib.dropna(axis=1, how='all')\n",
    "attribute_up_lib = attribute_up_lib.replace(np.nan, r' ', regex=True)"
   ]
  },
  {
   "cell_type": "code",
   "execution_count": 54,
   "metadata": {
    "collapsed": false
   },
   "outputs": [
    {
     "name": "stdout",
     "output_type": "stream",
     "text": [
      "100.0"
     ]
    }
   ],
   "source": [
    "attribute_down_lib = pd.DataFrame()\n",
    "\n",
    "down1 = pos & down\n",
    "\n",
    "i=1\n",
    "\n",
    "for index in down1.index:\n",
    "    lst = down1.ix[index].values\n",
    "    \n",
    "    temp_df = pd.DataFrame(index=[index], columns=range(0, len(down1.columns[lst].values)))\n",
    "    temp_df.ix[index] = down1.columns[lst].values\n",
    "    attribute_down_lib = attribute_down_lib.append(temp_df)\n",
    "    \n",
    "    print('\\r'+str(i/down1.index.size*100), end='', flush=True)\n",
    "    i+=1\n",
    "    \n",
    "\n",
    "attribute_down_lib.sort_index(inplace=True)\n",
    "\n",
    "attribute_down_lib.dropna(axis=1, how='all')\n",
    "attribute_down_lib = attribute_down_lib.replace(np.nan, r' ', regex=True)"
   ]
  },
  {
   "cell_type": "markdown",
   "metadata": {},
   "source": [
    "### Creat Gene Set Libraries"
   ]
  },
  {
   "cell_type": "code",
   "execution_count": 55,
   "metadata": {
    "collapsed": false
   },
   "outputs": [
    {
     "name": "stdout",
     "output_type": "stream",
     "text": [
      "100.0"
     ]
    }
   ],
   "source": [
    "gene_up_lib = pd.DataFrame()\n",
    "\n",
    "up2 = pos & up\n",
    "\n",
    "i=1\n",
    "\n",
    "for index in up2.T.index:\n",
    "    lst = up2.T.ix[index].values\n",
    "    \n",
    "    temp_df = pd.DataFrame(index=[index], columns=range(0, len(up2.T.columns[lst].values)))\n",
    "    temp_df.ix[index] = up2.T.columns[lst].values\n",
    "    gene_up_lib = gene_up_lib.append(temp_df)\n",
    "    \n",
    "    print('\\r'+str(i/up2.T.index.size*100), end='', flush=True)\n",
    "    i+=1\n",
    "    \n",
    "\n",
    "gene_up_lib.sort_index(inplace=True)\n",
    "\n",
    "gene_up_lib.dropna(axis=1, how='all')\n",
    "gene_up_lib = gene_up_lib.replace(np.nan, r' ', regex=True)"
   ]
  },
  {
   "cell_type": "code",
   "execution_count": 56,
   "metadata": {
    "collapsed": false
   },
   "outputs": [
    {
     "name": "stdout",
     "output_type": "stream",
     "text": [
      "100.0"
     ]
    }
   ],
   "source": [
    "gene_down_lib = pd.DataFrame()\n",
    "\n",
    "down2 = pos & down\n",
    "\n",
    "i=1\n",
    "\n",
    "for index in down2.T.index:\n",
    "    lst = down2.T.ix[index].values\n",
    "    \n",
    "    temp_df = pd.DataFrame(index=[index], columns=range(0, len(down2.T.columns[lst].values)))\n",
    "    temp_df.ix[index] = down2.T.columns[lst].values\n",
    "    gene_up_lib = gene_up_lib.append(temp_df)\n",
    "    \n",
    "    print('\\r'+str(i/down2.T.index.size*100), end='', flush=True)\n",
    "    i+=1\n",
    "    \n",
    "\n",
    "gene_down_lib.sort_index(inplace=True)\n",
    "\n",
    "gene_down_lib.dropna(axis=1, how='all')\n",
    "gene_down_lib = gene_up_lib.replace(np.nan, r' ', regex=True)"
   ]
  },
  {
   "cell_type": "markdown",
   "metadata": {
    "collapsed": true
   },
   "source": [
    "### Creat Gene Attribute Edges"
   ]
  },
  {
   "cell_type": "code",
   "execution_count": 57,
   "metadata": {
    "collapsed": false
   },
   "outputs": [
    {
     "name": "stdout",
     "output_type": "stream",
     "text": [
      "100.0"
     ]
    }
   ],
   "source": [
    "# used just to get a percent done while running Creat Gene Attribute Edges\n",
    "m = 0\n",
    "j = 1\n",
    "for index in attribute_up_lib.index:\n",
    "    m += attribute_up_lib.ix[index].unique().size\n",
    "    print('\\r'+str(j/(attribute_up_lib.index.size)*100), end='', flush=True)\n",
    "    j += 1\n",
    "n = 0    \n",
    "j = 1\n",
    "for index in attribute_down_lib.index:\n",
    "    n += attribute_down_lib.ix[index].unique().size\n",
    "    print('\\r'+str(j/(attribute_down_lib.index.size)*100), end='', flush=True)\n",
    "    j += 1 \n",
    "\n",
    "size = m+n"
   ]
  },
  {
   "cell_type": "code",
   "execution_count": null,
   "metadata": {
    "collapsed": false
   },
   "outputs": [
    {
     "name": "stdout",
     "output_type": "stream",
     "text": [
      "0.05868812926525486"
     ]
    }
   ],
   "source": [
    "gene_attribute_edges = pd.DataFrame(columns=['GeneSym','Ensemble Acc', 'GeneID','Tissue Sample', 'Tissue', 'Gender', 'Age', 'Weight'])\n",
    "temp = pd.Series()\n",
    "\n",
    "i=1\n",
    "\n",
    "for index in attribute_up_lib.index:\n",
    "    for col in attribute_up_lib.ix[index].unique():\n",
    "        if col != ' ':\n",
    "            temp['GeneSym'] = index \n",
    "            temp['Ensemble Acc'] = gene_df.at[index, 'Ensemble Acc']\n",
    "            temp['GeneID'] = gene_df.at[index, 'GeneID']\n",
    "            temp['Tissue Sample'] = col\n",
    "            temp['Tissue'] = meta_df.at[col, 'TISSUE']\n",
    "            temp['Age'] = meta_df.at[col, 'AGE']\n",
    "            temp['Gender'] = meta_df.at[col, 'GENDER']\n",
    "            temp['Weight'] = 1.0\n",
    "            \n",
    "            gene_attribute_edges = gene_attribute_edges.append(temp, ignore_index=True)\n",
    "            \n",
    "            print('\\r'+str(i/(size)*100), end='', flush=True)\n",
    "            i+=1\n",
    "            \n",
    "for index in attribute_down_lib.index:\n",
    "    for col in attribute_down_lib.ix[index].unique():\n",
    "        if col != ' ':\n",
    "            temp['GeneSym'] = index \n",
    "            temp['Ensemble Acc'] = gene_df.at[index, 'Ensemble Acc']\n",
    "            temp['GeneID'] = gene_df.at[index, 'GeneID']\n",
    "            temp['Tissue Sample'] = col\n",
    "            temp['Tissue'] = meta_df.at[col, 'TISSUE']\n",
    "            temp['Age'] = meta_df.at[col, 'AGE']\n",
    "            temp['Gender'] = meta_df.at[col, 'GENDER']\n",
    "            temp['Weight'] = -1.0\n",
    "            \n",
    "            gene_attribute_edges = gene_attribute_edges.append(temp, ignore_index=True)\n",
    "            \n",
    "            print('\\r'+str(i/(size)*100), end='', flush=True)\n",
    "            i+=1\n",
    "            "
   ]
  },
  {
   "cell_type": "code",
   "execution_count": null,
   "metadata": {
    "collapsed": false
   },
   "outputs": [],
   "source": [
    "gene_attribute_edges.set_index('Symbol', inplace=True)"
   ]
  },
  {
   "cell_type": "markdown",
   "metadata": {},
   "source": [
    "### Plot Heatmaps"
   ]
  },
  {
   "cell_type": "code",
   "execution_count": null,
   "metadata": {
    "collapsed": false
   },
   "outputs": [],
   "source": [
    "data_matrix_vis = data_matrix.copy()\n",
    "\n",
    "data_matrix_vis.pop('Ensemble Acc')\n",
    "data_matrix_vis.pop('GeneID')\n",
    "plt.pcolormesh(data_matrix_vis, cmap='seismic')\n",
    "plt.axis('tight')\n"
   ]
  },
  {
   "cell_type": "code",
   "execution_count": null,
   "metadata": {
    "collapsed": false
   },
   "outputs": [],
   "source": [
    "plt.pcolormesh(attribute_similarity_df, cmap='seismic')\n",
    "plt.axis('tight')\n"
   ]
  },
  {
   "cell_type": "code",
   "execution_count": null,
   "metadata": {
    "collapsed": true
   },
   "outputs": [],
   "source": [
    "plt.pcolormesh(gene_similarity_df, cmap='seismic')\n",
    "plt.axis('tight')\n"
   ]
  },
  {
   "cell_type": "markdown",
   "metadata": {},
   "source": [
    "### Print Tables to Files"
   ]
  },
  {
   "cell_type": "code",
   "execution_count": 59,
   "metadata": {
    "collapsed": true
   },
   "outputs": [],
   "source": [
    "meta_df.to_csv('Output/attribute_list_entries.txt', sep='\\t', quotechar=' ')"
   ]
  },
  {
   "cell_type": "code",
   "execution_count": 60,
   "metadata": {
    "collapsed": true
   },
   "outputs": [],
   "source": [
    "gene_df.to_csv('Output/gene_list_terms.txt', sep='\\t', quotechar=' ')"
   ]
  },
  {
   "cell_type": "code",
   "execution_count": 61,
   "metadata": {
    "collapsed": true
   },
   "outputs": [],
   "source": [
    "data_matrix.to_csv('Output/gene_attribute_matrix_standardized.txt', sep='\\t', quotechar=' ')"
   ]
  },
  {
   "cell_type": "code",
   "execution_count": 62,
   "metadata": {
    "collapsed": true
   },
   "outputs": [],
   "source": [
    "tertiary_df.to_csv('Output/gene_attribute_matrix.txt', sep='\\t', quotechar=' ')"
   ]
  },
  {
   "cell_type": "code",
   "execution_count": 63,
   "metadata": {
    "collapsed": true
   },
   "outputs": [],
   "source": [
    "attribute_similarity_df.to_csv('Output/attribute_similarity_matrix_cosine.txt', sep='\\t', quotechar=' ')"
   ]
  },
  {
   "cell_type": "code",
   "execution_count": 64,
   "metadata": {
    "collapsed": true
   },
   "outputs": [],
   "source": [
    "gene_similarity_df.to_csv('Output/gene_similarity_matrix_cosine.txt', sep='\\t', quotechar=' ')"
   ]
  },
  {
   "cell_type": "code",
   "execution_count": 65,
   "metadata": {
    "collapsed": false
   },
   "outputs": [],
   "source": [
    "gene_attribute_edges.to_csv('Output/gene_attribute_edges.txt', sep='\\t')"
   ]
  },
  {
   "cell_type": "code",
   "execution_count": 71,
   "metadata": {
    "collapsed": true
   },
   "outputs": [],
   "source": [
    "attribute_down_lib.to_csv('Output/attribute_set_library_dn_crisp.gmt', sep='\\t')"
   ]
  },
  {
   "cell_type": "code",
   "execution_count": 72,
   "metadata": {
    "collapsed": true
   },
   "outputs": [],
   "source": [
    "attribute_up_lib.to_csv('Output/attribute_set_library_up_crisp.gmt', sep='\\t')"
   ]
  },
  {
   "cell_type": "code",
   "execution_count": 73,
   "metadata": {
    "collapsed": false
   },
   "outputs": [],
   "source": [
    "gene_down_lib.to_csv('Output/gene_set_library_dn_crisp.gmt', sep='\\t')"
   ]
  },
  {
   "cell_type": "code",
   "execution_count": 74,
   "metadata": {
    "collapsed": true
   },
   "outputs": [],
   "source": [
    "gene_up_lib.to_csv('Output/gene_set_library_up_crisp.gmt', sep='\\t')"
   ]
  },
  {
   "cell_type": "markdown",
   "metadata": {},
   "source": [
    "### Print Version Of Modules In Use"
   ]
  },
  {
   "cell_type": "code",
   "execution_count": 70,
   "metadata": {
    "collapsed": false
   },
   "outputs": [
    {
     "data": {
      "application/json": {
       "Software versions": [
        {
         "module": "Python",
         "version": "3.5.2 64bit [GCC 4.2.1 Compatible Apple LLVM 4.2 (clang-425.0.28)]"
        },
        {
         "module": "IPython",
         "version": "5.1.0"
        },
        {
         "module": "OS",
         "version": "Darwin 14.5.0 x86_64 i386 64bit"
        },
        {
         "module": "numpy",
         "version": "1.11.2"
        },
        {
         "module": "scipy",
         "version": "0.18.1"
        },
        {
         "module": "matplotlib",
         "version": "1.5.3"
        },
        {
         "module": "pandas",
         "version": "0.19.1"
        },
        {
         "module": "seaborn",
         "version": "0.7.1"
        },
        {
         "module": "version_information",
         "version": "1.0.3"
        }
       ]
      },
      "text/html": [
       "<table><tr><th>Software</th><th>Version</th></tr><tr><td>Python</td><td>3.5.2 64bit [GCC 4.2.1 Compatible Apple LLVM 4.2 (clang-425.0.28)]</td></tr><tr><td>IPython</td><td>5.1.0</td></tr><tr><td>OS</td><td>Darwin 14.5.0 x86_64 i386 64bit</td></tr><tr><td>numpy</td><td>1.11.2</td></tr><tr><td>scipy</td><td>0.18.1</td></tr><tr><td>matplotlib</td><td>1.5.3</td></tr><tr><td>pandas</td><td>0.19.1</td></tr><tr><td>seaborn</td><td>0.7.1</td></tr><tr><td>version_information</td><td>1.0.3</td></tr><tr><td colspan='2'>Tue Jan 03 11:09:13 2017 EST</td></tr></table>"
      ],
      "text/latex": [
       "\\begin{tabular}{|l|l|}\\hline\n",
       "{\\bf Software} & {\\bf Version} \\\\ \\hline\\hline\n",
       "Python & 3.5.2 64bit [GCC 4.2.1 Compatible Apple LLVM 4.2 (clang-425.0.28)] \\\\ \\hline\n",
       "IPython & 5.1.0 \\\\ \\hline\n",
       "OS & Darwin 14.5.0 x86\\_64 i386 64bit \\\\ \\hline\n",
       "numpy & 1.11.2 \\\\ \\hline\n",
       "scipy & 0.18.1 \\\\ \\hline\n",
       "matplotlib & 1.5.3 \\\\ \\hline\n",
       "pandas & 0.19.1 \\\\ \\hline\n",
       "seaborn & 0.7.1 \\\\ \\hline\n",
       "version_information & 1.0.3 \\\\ \\hline\n",
       "\\hline \\multicolumn{2}{|l|}{Tue Jan 03 11:09:13 2017 EST} \\\\ \\hline\n",
       "\\end{tabular}\n"
      ],
      "text/plain": [
       "Software versions\n",
       "Python 3.5.2 64bit [GCC 4.2.1 Compatible Apple LLVM 4.2 (clang-425.0.28)]\n",
       "IPython 5.1.0\n",
       "OS Darwin 14.5.0 x86_64 i386 64bit\n",
       "numpy 1.11.2\n",
       "scipy 0.18.1\n",
       "matplotlib 1.5.3\n",
       "pandas 0.19.1\n",
       "seaborn 0.7.1\n",
       "version_information 1.0.3\n",
       "Tue Jan 03 11:09:13 2017 EST"
      ]
     },
     "execution_count": 70,
     "metadata": {},
     "output_type": "execute_result"
    }
   ],
   "source": [
    "%load_ext version_information\n",
    "%version_information numpy, scipy, matplotlib, pandas, seaborn, version_information"
   ]
  }
 ],
 "metadata": {
  "anaconda-cloud": {},
  "kernelspec": {
   "display_name": "Python [default]",
   "language": "python",
   "name": "python3"
  },
  "language_info": {
   "codemirror_mode": {
    "name": "ipython",
    "version": 3
   },
   "file_extension": ".py",
   "mimetype": "text/x-python",
   "name": "python",
   "nbconvert_exporter": "python",
   "pygments_lexer": "ipython3",
   "version": "3.5.2"
  }
 },
 "nbformat": 4,
 "nbformat_minor": 2
}
