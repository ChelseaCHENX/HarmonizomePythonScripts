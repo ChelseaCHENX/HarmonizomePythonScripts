{
 "cells": [
  {
   "cell_type": "markdown",
   "metadata": {},
   "source": [
    "# Orphanet"
   ]
  },
  {
   "cell_type": "markdown",
   "metadata": {},
   "source": [
    "Author: John Erol Evangelista <br/>\n",
    "Date: 01-19 <br/>\n",
    "Data Source: http://www.orphadata.org"
   ]
  },
  {
   "cell_type": "code",
   "execution_count": 127,
   "metadata": {},
   "outputs": [],
   "source": [
    "import sys, datetime, os, csv, json\n",
    "import numpy as np\n",
    "import pandas as pd\n",
    "import importlib\n",
    "import xml.etree.ElementTree as ET\n",
    "%matplotlib inline\n",
    "if \"/Users/maayan/sigsets/Harmonizome/HarmonizomePythonScripts\" not in sys.path:\n",
    "    sys.path.append(\"/Users/maayan/sigsets/Harmonizome/HarmonizomePythonScripts\")\n",
    "import utility_functions as uf\n",
    "from entrez_helper import entrez"
   ]
  },
  {
   "cell_type": "code",
   "execution_count": 128,
   "metadata": {},
   "outputs": [],
   "source": [
    "ez = entrez(\"JohnErol.Evangelista@mssm.edu\", \"83a36edabe6b67dec8d71446a47b7c3b3e09\")"
   ]
  },
  {
   "cell_type": "code",
   "execution_count": 2,
   "metadata": {},
   "outputs": [
    {
     "data": {
      "text/plain": [
       "<module 'utility_functions' from '/Users/maayan/sigsets/Harmonizome/HarmonizomePythonScripts/utility_functions.py'>"
      ]
     },
     "execution_count": 2,
     "metadata": {},
     "output_type": "execute_result"
    }
   ],
   "source": [
    "importlib.reload(uf)"
   ]
  },
  {
   "cell_type": "markdown",
   "metadata": {},
   "source": [
    "## Load Data"
   ]
  },
  {
   "cell_type": "code",
   "execution_count": 3,
   "metadata": {},
   "outputs": [],
   "source": [
    "data_path = '/Users/maayan/sigsets/Harmonizome/Data/'"
   ]
  },
  {
   "cell_type": "code",
   "execution_count": 21,
   "metadata": {},
   "outputs": [
    {
     "data": {
      "text/html": [
       "<div>\n",
       "<style scoped>\n",
       "    .dataframe tbody tr th:only-of-type {\n",
       "        vertical-align: middle;\n",
       "    }\n",
       "\n",
       "    .dataframe tbody tr th {\n",
       "        vertical-align: top;\n",
       "    }\n",
       "\n",
       "    .dataframe thead th {\n",
       "        text-align: right;\n",
       "    }\n",
       "</style>\n",
       "<table border=\"1\" class=\"dataframe\">\n",
       "  <thead>\n",
       "    <tr style=\"text-align: right;\">\n",
       "      <th></th>\n",
       "      <th>ORPHA number</th>\n",
       "      <th>Disease Name</th>\n",
       "    </tr>\n",
       "  </thead>\n",
       "  <tbody>\n",
       "    <tr>\n",
       "      <th>0</th>\n",
       "      <td>289157</td>\n",
       "      <td>1-alpha-hydroxylase deficiency</td>\n",
       "    </tr>\n",
       "    <tr>\n",
       "      <th>1</th>\n",
       "      <td>431361</td>\n",
       "      <td>2,4-dienoyl-CoA reductase\\ndeficiency</td>\n",
       "    </tr>\n",
       "    <tr>\n",
       "      <th>2</th>\n",
       "      <td>976</td>\n",
       "      <td>2,8-dihydroxyadenine urolithiasis</td>\n",
       "    </tr>\n",
       "    <tr>\n",
       "      <th>3</th>\n",
       "      <td>79154</td>\n",
       "      <td>2-aminoadipic 2-oxoadipic aciduria</td>\n",
       "    </tr>\n",
       "    <tr>\n",
       "      <th>4</th>\n",
       "      <td>391417</td>\n",
       "      <td>2-methyl-3-hydroxybutyric aciduria</td>\n",
       "    </tr>\n",
       "  </tbody>\n",
       "</table>\n",
       "</div>"
      ],
      "text/plain": [
       "   ORPHA number                           Disease Name\n",
       "0        289157         1-alpha-hydroxylase deficiency\n",
       "1        431361  2,4-dienoyl-CoA reductase\\ndeficiency\n",
       "2           976      2,8-dihydroxyadenine urolithiasis\n",
       "3         79154     2-aminoadipic 2-oxoadipic aciduria\n",
       "4        391417     2-methyl-3-hydroxybutyric aciduria"
      ]
     },
     "execution_count": 21,
     "metadata": {},
     "output_type": "execute_result"
    }
   ],
   "source": [
    "df = pd.read_csv(data_path+\"orphadisease.csv\")\n",
    "df.head()"
   ]
  },
  {
   "cell_type": "code",
   "execution_count": 28,
   "metadata": {},
   "outputs": [],
   "source": [
    "a = set([])\n",
    "tot = 0\n",
    "for i in df[\"ORPHA number\"]:\n",
    "    tot+=1\n",
    "    try:\n",
    "        a.add(int(i))\n",
    "    except Exception as e:\n",
    "        print(i)"
   ]
  },
  {
   "cell_type": "code",
   "execution_count": 29,
   "metadata": {},
   "outputs": [
    {
     "data": {
      "text/plain": [
       "ORPHA number      int64\n",
       " Disease Name    object\n",
       "dtype: object"
      ]
     },
     "execution_count": 29,
     "metadata": {},
     "output_type": "execute_result"
    }
   ],
   "source": [
    "df.dtypes"
   ]
  },
  {
   "cell_type": "code",
   "execution_count": 30,
   "metadata": {},
   "outputs": [
    {
     "data": {
      "text/plain": [
       "18359"
      ]
     },
     "execution_count": 30,
     "metadata": {},
     "output_type": "execute_result"
    }
   ],
   "source": [
    "tot"
   ]
  },
  {
   "cell_type": "code",
   "execution_count": 31,
   "metadata": {},
   "outputs": [
    {
     "data": {
      "text/plain": [
       "7101"
      ]
     },
     "execution_count": 31,
     "metadata": {},
     "output_type": "execute_result"
    }
   ],
   "source": [
    "len(a)"
   ]
  },
  {
   "cell_type": "markdown",
   "metadata": {},
   "source": [
    "### Read XML"
   ]
  },
  {
   "cell_type": "code",
   "execution_count": 33,
   "metadata": {},
   "outputs": [],
   "source": [
    "tree = ET.parse(data_path + \"OrphaData_DiseaseList.xml\")\n",
    "root = tree.getroot()"
   ]
  },
  {
   "cell_type": "code",
   "execution_count": 103,
   "metadata": {},
   "outputs": [
    {
     "data": {
      "text/plain": [
       "6340"
      ]
     },
     "execution_count": 103,
     "metadata": {},
     "output_type": "execute_result"
    }
   ],
   "source": [
    "# Remove subtypes, categorical, and deprecated entries\n",
    "tot=0\n",
    "with open(\"/Users/maayan/sigsets/Harmonizome/Output/Orphanet/Disorder_list.csv\", \"w\") as o:\n",
    "    csv_writer = csv.writer(o)\n",
    "    for disorder in root.find(\"DisorderList\").findall(\"Disorder\"):\n",
    "        did = disorder.attrib[\"id\"]\n",
    "        orphaID = int(disorder.find(\"OrphaNumber\").text)\n",
    "        name = disorder.find(\"Name\").text\n",
    "        flags = disorder.find(\"DisorderFlagList\").findall(\"DisorderFlag\")\n",
    "        disorderType = disorder.find(\"DisorderType\").find(\"Name\").text\n",
    "        unflagged = True\n",
    "        if \"subtype\" in disorderType:\n",
    "            unflagged = False\n",
    "        for flag in flags:\n",
    "            label = flag.find(\"Label\").text\n",
    "            if label in [\"Category\", \"Deprecated entity\", \"Head of classification\"]:\n",
    "                unflagged = False\n",
    "        textauto = disorder.find(\"TextAuto\")\n",
    "        text = textauto.find(\"Info\").text if textauto else None\n",
    "        if text and \"group of diseases\" in text:\n",
    "            unflagged = False\n",
    "        if unflagged:\n",
    "            csv_writer.writerow([orphaID, name, disorderType])\n",
    "            tot+=1\n",
    "tot"
   ]
  },
  {
   "cell_type": "code",
   "execution_count": 115,
   "metadata": {},
   "outputs": [
    {
     "data": {
      "text/html": [
       "<div>\n",
       "<style scoped>\n",
       "    .dataframe tbody tr th:only-of-type {\n",
       "        vertical-align: middle;\n",
       "    }\n",
       "\n",
       "    .dataframe tbody tr th {\n",
       "        vertical-align: top;\n",
       "    }\n",
       "\n",
       "    .dataframe thead th {\n",
       "        text-align: right;\n",
       "    }\n",
       "</style>\n",
       "<table border=\"1\" class=\"dataframe\">\n",
       "  <thead>\n",
       "    <tr style=\"text-align: right;\">\n",
       "      <th></th>\n",
       "      <th>ORPHA ID</th>\n",
       "      <th>Disease</th>\n",
       "      <th>Type</th>\n",
       "    </tr>\n",
       "  </thead>\n",
       "  <tbody>\n",
       "    <tr>\n",
       "      <th>0</th>\n",
       "      <td>166024</td>\n",
       "      <td>Multiple epiphyseal dysplasia, Al-Gazali type</td>\n",
       "      <td>Disease</td>\n",
       "    </tr>\n",
       "    <tr>\n",
       "      <th>1</th>\n",
       "      <td>166032</td>\n",
       "      <td>Multiple epiphyseal dysplasia, with miniepiphyses</td>\n",
       "      <td>Disease</td>\n",
       "    </tr>\n",
       "    <tr>\n",
       "      <th>2</th>\n",
       "      <td>58</td>\n",
       "      <td>Alexander disease</td>\n",
       "      <td>Disease</td>\n",
       "    </tr>\n",
       "    <tr>\n",
       "      <th>3</th>\n",
       "      <td>166029</td>\n",
       "      <td>Multiple epiphyseal dysplasia, with severe pro...</td>\n",
       "      <td>Disease</td>\n",
       "    </tr>\n",
       "    <tr>\n",
       "      <th>4</th>\n",
       "      <td>61</td>\n",
       "      <td>Alpha-mannosidosis</td>\n",
       "      <td>Disease</td>\n",
       "    </tr>\n",
       "  </tbody>\n",
       "</table>\n",
       "</div>"
      ],
      "text/plain": [
       "   ORPHA ID                                            Disease     Type\n",
       "0    166024      Multiple epiphyseal dysplasia, Al-Gazali type  Disease\n",
       "1    166032  Multiple epiphyseal dysplasia, with miniepiphyses  Disease\n",
       "2        58                                  Alexander disease  Disease\n",
       "3    166029  Multiple epiphyseal dysplasia, with severe pro...  Disease\n",
       "4        61                                 Alpha-mannosidosis  Disease"
      ]
     },
     "execution_count": 115,
     "metadata": {},
     "output_type": "execute_result"
    }
   ],
   "source": [
    "df = pd.read_csv(\"/Users/maayan/sigsets/Harmonizome/Output/Orphanet/Disorder_list.csv\")\n",
    "df.head()"
   ]
  },
  {
   "cell_type": "code",
   "execution_count": 124,
   "metadata": {},
   "outputs": [],
   "source": [
    "rare_diseases = df.to_dict(orient=\"list\")[\"Disease\"]"
   ]
  },
  {
   "cell_type": "markdown",
   "metadata": {},
   "source": [
    "## Get PMIDs"
   ]
  },
  {
   "cell_type": "code",
   "execution_count": 125,
   "metadata": {},
   "outputs": [],
   "source": [
    "# Get disease dict from another library\n",
    "GARD_pmid_file = \"/Users/maayan/sigsets/Harmonizome/Output/GARD/GARD_PMID.json\"\n",
    "with open(GARD_pmid_file) as o:\n",
    "    GARD_pmids = json.loads(o.read())"
   ]
  },
  {
   "cell_type": "code",
   "execution_count": 126,
   "metadata": {},
   "outputs": [
    {
     "data": {
      "text/plain": [
       "6328"
      ]
     },
     "execution_count": 126,
     "metadata": {},
     "output_type": "execute_result"
    }
   ],
   "source": [
    "len(GARD_pmids)"
   ]
  },
  {
   "cell_type": "code",
   "execution_count": 130,
   "metadata": {},
   "outputs": [
    {
     "name": "stdout",
     "output_type": "stream",
     "text": [
      "Processing term Mosaic trisomy 9-sclerotic bones syndromene syndromedeficiencylete IFNgammaR1 deficiencyibitor22)dromeic traumaencydrome\r"
     ]
    }
   ],
   "source": [
    "rare_disease_pmids = ez.get_all_pmids_of_list(rare_diseases, GARD_pmids, timeout1=1, timeout2=5)"
   ]
  },
  {
   "cell_type": "code",
   "execution_count": 131,
   "metadata": {},
   "outputs": [],
   "source": [
    "with open(\"/Users/maayan/sigsets/Harmonizome/Output/Orphanet/Orphanet_PMID.json\", \"w\") as o:\n",
    "    o.write(json.dumps(rare_disease_pmids))"
   ]
  },
  {
   "cell_type": "markdown",
   "metadata": {},
   "source": [
    "## Load Mapping File, GeneRIF, and AutoRIF"
   ]
  },
  {
   "cell_type": "code",
   "execution_count": 132,
   "metadata": {},
   "outputs": [],
   "source": [
    "mappingDFHMR_updated = pd.read_csv('/Users/maayan/sigsets/Harmonizome/Data/mappingFileHMR_2019.tsv', sep='\\t', header=None, index_col=[0,1]).sort_index()\n",
    "getGeneIDsHMR_updated = pd.read_csv('/Users/maayan/sigsets/Harmonizome/Data/GeneSymbolsAndIDSHMR_2019.tsv', sep='\\t', index_col=[0,2]).sort_index()"
   ]
  },
  {
   "cell_type": "code",
   "execution_count": 134,
   "metadata": {},
   "outputs": [],
   "source": [
    "geneRIF = pd.read_csv('/Users/maayan/sigsets/Harmonizome/Data/generifs_basic', sep='\\t', index_col=[0,2]).sort_index()"
   ]
  },
  {
   "cell_type": "code",
   "execution_count": 135,
   "metadata": {},
   "outputs": [],
   "source": [
    "autoRIF = pd.read_csv('/Users/maayan/sigsets/Harmonizome/Data/autorif.tsv', sep='\\t', header=None, index_col=1)"
   ]
  },
  {
   "cell_type": "markdown",
   "metadata": {},
   "source": [
    "## GeneRIF Geneset"
   ]
  },
  {
   "cell_type": "code",
   "execution_count": 136,
   "metadata": {},
   "outputs": [],
   "source": [
    "HUMAN_TAXON_ID = 9606"
   ]
  },
  {
   "cell_type": "code",
   "execution_count": 137,
   "metadata": {},
   "outputs": [
    {
     "name": "stdout",
     "output_type": "stream",
     "text": [
      "Processing disease Mosaic trisomy 9-sclerotic bones syndromene syndromedeficiencylete IFNgammaR1 deficiencyibitor22)dromeic traumaencydrome\r"
     ]
    }
   ],
   "source": [
    "with open(\"/Users/maayan/sigsets/Harmonizome/Output/Orphanet/Orphanet_GeneRIF.gmt\", \"w\") as o:\n",
    "    for disease, pmids in rare_disease_pmids.items():\n",
    "        gmt_line = disease + \"\\t\\t\"\n",
    "        sys.stdout.write(\"Processing disease %s\\r\" % (disease))\n",
    "        genes = set([])\n",
    "        for pmid in pmids:\n",
    "            pmid = int(pmid)\n",
    "            if (HUMAN_TAXON_ID, pmid) in geneRIF.index:\n",
    "                gene_ids = geneRIF.loc[(HUMAN_TAXON_ID,pmid), \"Gene ID\"]\n",
    "                for gene_id in gene_ids:\n",
    "                    if (HUMAN_TAXON_ID, gene_id) in getGeneIDsHMR_updated.index:\n",
    "                        gene = getGeneIDsHMR_updated.loc[(HUMAN_TAXON_ID, gene_id), \"Human, Mouse, and Rat Approved Symbol\"]\n",
    "                        genes.add(gene)\n",
    "                        # gmt_line += (\"\\t\" + gene)\n",
    "        if genes:\n",
    "            gmt_line += (\"\\t\".join(list(genes)) +\"\\n\")        \n",
    "            o.write(gmt_line)"
   ]
  },
  {
   "cell_type": "markdown",
   "metadata": {},
   "source": [
    "## AutoRIF Geneset"
   ]
  },
  {
   "cell_type": "code",
   "execution_count": null,
   "metadata": {},
   "outputs": [
    {
     "name": "stdout",
     "output_type": "stream",
     "text": [
      "Processing disease Listeriosishalytions associated with rare immunoglobulin isotypes deficiencysynostosis syndromeHirschsprung disease\r"
     ]
    }
   ],
   "source": [
    "with open(\"/Users/maayan/sigsets/Harmonizome/Output/Orphanet/Orphanet_AutoRIF.gmt\", \"w\") as o:\n",
    "    for disease, pmids in rare_disease_pmids.items():\n",
    "        gmt_line = disease + \"\\t\\t\"\n",
    "        sys.stdout.write(\"Processing disease %s\\r\" % (disease))\n",
    "        genes = set([])\n",
    "        for pmid in pmids:\n",
    "            pmid = int(pmid)\n",
    "            if pmid in autoRIF.index:\n",
    "                gene = autoRIF.loc[pmid, 0]\n",
    "                if not isinstance(gene, str): # Multiple genes\n",
    "                    for g in gene:\n",
    "                        genes.add(g)\n",
    "                else:\n",
    "                    genes.add(gene)\n",
    "               # gmt_line += (\"\\t\" + genes)\n",
    "        if genes:\n",
    "            gmt_line += (\"\\t\".join(list(genes)) +\"\\n\")        \n",
    "            o.write(gmt_line)"
   ]
  },
  {
   "cell_type": "code",
   "execution_count": null,
   "metadata": {},
   "outputs": [],
   "source": []
  }
 ],
 "metadata": {
  "kernelspec": {
   "display_name": "pvenv",
   "language": "python",
   "name": "pvenv"
  },
  "language_info": {
   "codemirror_mode": {
    "name": "ipython",
    "version": 3
   },
   "file_extension": ".py",
   "mimetype": "text/x-python",
   "name": "python",
   "nbconvert_exporter": "python",
   "pygments_lexer": "ipython3",
   "version": "3.6.5"
  }
 },
 "nbformat": 4,
 "nbformat_minor": 2
}
