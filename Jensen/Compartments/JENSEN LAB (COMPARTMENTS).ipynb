{
 "cells": [
  {
   "cell_type": "markdown",
   "metadata": {},
   "source": [
    "# JENSEN LAB (COMPARTMENTS)"
   ]
  },
  {
   "cell_type": "markdown",
   "metadata": {},
   "source": [
    "Author: Moshe Silverstein <br/>\n",
    "Date: 7-17 <br/>\n",
    "Data Source: http://compartments.jensenlab.org/Search"
   ]
  },
  {
   "cell_type": "code",
   "execution_count": 1,
   "metadata": {
    "collapsed": true
   },
   "outputs": [],
   "source": [
    "import sys, datetime\n",
    "import numpy as np\n",
    "import pandas as pd\n",
    "import importlib\n",
    "import my_functions as mf\n",
    "%matplotlib inline"
   ]
  },
  {
   "cell_type": "code",
   "execution_count": 80,
   "metadata": {},
   "outputs": [
    {
     "data": {
      "text/plain": [
       "<module 'my_functions' from '/Users/moshesilverstein/Documents/Harmonizome/Jensen/Compartments/my_functions.py'>"
      ]
     },
     "execution_count": 80,
     "metadata": {},
     "output_type": "execute_result"
    }
   ],
   "source": [
    "importlib.reload(mf)"
   ]
  },
  {
   "cell_type": "markdown",
   "metadata": {},
   "source": [
    "# LOAD DATA"
   ]
  },
  {
   "cell_type": "code",
   "execution_count": 11,
   "metadata": {
    "collapsed": true
   },
   "outputs": [],
   "source": [
    "col = ['Ensemble Acc', 'GeneSym', 'BTO', 'Compartment', 'Source', 'SampleInfo', 'Value']"
   ]
  },
  {
   "cell_type": "code",
   "execution_count": 12,
   "metadata": {},
   "outputs": [],
   "source": [
    "dfE = pd.read_csv('Input/human_compartment_experiments_full.tsv', sep='\\t', names=col)"
   ]
  },
  {
   "cell_type": "code",
   "execution_count": 13,
   "metadata": {
    "collapsed": true
   },
   "outputs": [],
   "source": [
    "dfK = pd.read_csv('Input/human_compartment_knowledge_full.tsv', sep='\\t', names=col)"
   ]
  },
  {
   "cell_type": "code",
   "execution_count": 14,
   "metadata": {
    "collapsed": true
   },
   "outputs": [],
   "source": [
    "dfT = pd.read_csv('Input/human_compartment_textmining_full.tsv', sep='\\t', names=col)"
   ]
  },
  {
   "cell_type": "code",
   "execution_count": 15,
   "metadata": {
    "collapsed": true
   },
   "outputs": [],
   "source": [
    "df = pd.concat([dfE, dfK, dfT])"
   ]
  },
  {
   "cell_type": "code",
   "execution_count": 16,
   "metadata": {},
   "outputs": [
    {
     "data": {
      "text/html": [
       "<div>\n",
       "<table border=\"1\" class=\"dataframe\">\n",
       "  <thead>\n",
       "    <tr style=\"text-align: right;\">\n",
       "      <th></th>\n",
       "      <th>Ensemble Acc</th>\n",
       "      <th>GeneSym</th>\n",
       "      <th>BTO</th>\n",
       "      <th>Compartment</th>\n",
       "      <th>Source</th>\n",
       "      <th>SampleInfo</th>\n",
       "      <th>Value</th>\n",
       "    </tr>\n",
       "  </thead>\n",
       "  <tbody>\n",
       "    <tr>\n",
       "      <th>0</th>\n",
       "      <td>ENSP00000000442</td>\n",
       "      <td>ESRRA</td>\n",
       "      <td>GO:0005575</td>\n",
       "      <td>cellular_component</td>\n",
       "      <td>HPA</td>\n",
       "      <td>Weak: 1 antibody</td>\n",
       "      <td>1</td>\n",
       "    </tr>\n",
       "    <tr>\n",
       "      <th>1</th>\n",
       "      <td>ENSP00000000442</td>\n",
       "      <td>ESRRA</td>\n",
       "      <td>GO:0005622</td>\n",
       "      <td>Intracellular</td>\n",
       "      <td>HPA</td>\n",
       "      <td>Weak: 1 antibody</td>\n",
       "      <td>1</td>\n",
       "    </tr>\n",
       "    <tr>\n",
       "      <th>2</th>\n",
       "      <td>ENSP00000000442</td>\n",
       "      <td>ESRRA</td>\n",
       "      <td>GO:0005623</td>\n",
       "      <td>Cell</td>\n",
       "      <td>HPA</td>\n",
       "      <td>Weak: 1 antibody</td>\n",
       "      <td>1</td>\n",
       "    </tr>\n",
       "    <tr>\n",
       "      <th>3</th>\n",
       "      <td>ENSP00000000442</td>\n",
       "      <td>ESRRA</td>\n",
       "      <td>GO:0005634</td>\n",
       "      <td>Nucleus</td>\n",
       "      <td>HPA</td>\n",
       "      <td>Weak: 1 antibody</td>\n",
       "      <td>1</td>\n",
       "    </tr>\n",
       "    <tr>\n",
       "      <th>4</th>\n",
       "      <td>ENSP00000000442</td>\n",
       "      <td>ESRRA</td>\n",
       "      <td>GO:0005730</td>\n",
       "      <td>Nucleolus</td>\n",
       "      <td>HPA</td>\n",
       "      <td>Weak: 1 antibody</td>\n",
       "      <td>1</td>\n",
       "    </tr>\n",
       "  </tbody>\n",
       "</table>\n",
       "</div>"
      ],
      "text/plain": [
       "      Ensemble Acc GeneSym         BTO         Compartment Source  \\\n",
       "0  ENSP00000000442   ESRRA  GO:0005575  cellular_component    HPA   \n",
       "1  ENSP00000000442   ESRRA  GO:0005622       Intracellular    HPA   \n",
       "2  ENSP00000000442   ESRRA  GO:0005623                Cell    HPA   \n",
       "3  ENSP00000000442   ESRRA  GO:0005634             Nucleus    HPA   \n",
       "4  ENSP00000000442   ESRRA  GO:0005730           Nucleolus    HPA   \n",
       "\n",
       "         SampleInfo Value  \n",
       "0  Weak: 1 antibody     1  \n",
       "1  Weak: 1 antibody     1  \n",
       "2  Weak: 1 antibody     1  \n",
       "3  Weak: 1 antibody     1  \n",
       "4  Weak: 1 antibody     1  "
      ]
     },
     "execution_count": 16,
     "metadata": {},
     "output_type": "execute_result"
    }
   ],
   "source": [
    "df.head()"
   ]
  },
  {
   "cell_type": "code",
   "execution_count": 17,
   "metadata": {},
   "outputs": [
    {
     "data": {
      "text/plain": [
       "(1375086, 7)"
      ]
     },
     "execution_count": 17,
     "metadata": {},
     "output_type": "execute_result"
    }
   ],
   "source": [
    "df.shape"
   ]
  },
  {
   "cell_type": "markdown",
   "metadata": {},
   "source": [
    "# Get Only Gene-Tissue Data"
   ]
  },
  {
   "cell_type": "code",
   "execution_count": 18,
   "metadata": {
    "collapsed": true
   },
   "outputs": [],
   "source": [
    "df = df[['GeneSym', 'Compartment']]"
   ]
  },
  {
   "cell_type": "code",
   "execution_count": 19,
   "metadata": {
    "collapsed": true
   },
   "outputs": [],
   "source": [
    "df.drop_duplicates(inplace=True)"
   ]
  },
  {
   "cell_type": "code",
   "execution_count": 20,
   "metadata": {
    "collapsed": true
   },
   "outputs": [],
   "source": [
    "df.set_index('GeneSym', inplace=True)"
   ]
  },
  {
   "cell_type": "code",
   "execution_count": 21,
   "metadata": {},
   "outputs": [
    {
     "data": {
      "text/html": [
       "<div>\n",
       "<table border=\"1\" class=\"dataframe\">\n",
       "  <thead>\n",
       "    <tr style=\"text-align: right;\">\n",
       "      <th></th>\n",
       "      <th>Compartment</th>\n",
       "    </tr>\n",
       "    <tr>\n",
       "      <th>GeneSym</th>\n",
       "      <th></th>\n",
       "    </tr>\n",
       "  </thead>\n",
       "  <tbody>\n",
       "    <tr>\n",
       "      <th>ESRRA</th>\n",
       "      <td>cellular_component</td>\n",
       "    </tr>\n",
       "    <tr>\n",
       "      <th>ESRRA</th>\n",
       "      <td>Intracellular</td>\n",
       "    </tr>\n",
       "    <tr>\n",
       "      <th>ESRRA</th>\n",
       "      <td>Cell</td>\n",
       "    </tr>\n",
       "    <tr>\n",
       "      <th>ESRRA</th>\n",
       "      <td>Nucleus</td>\n",
       "    </tr>\n",
       "    <tr>\n",
       "      <th>ESRRA</th>\n",
       "      <td>Nucleolus</td>\n",
       "    </tr>\n",
       "  </tbody>\n",
       "</table>\n",
       "</div>"
      ],
      "text/plain": [
       "                Compartment\n",
       "GeneSym                    \n",
       "ESRRA    cellular_component\n",
       "ESRRA         Intracellular\n",
       "ESRRA                  Cell\n",
       "ESRRA               Nucleus\n",
       "ESRRA             Nucleolus"
      ]
     },
     "execution_count": 21,
     "metadata": {},
     "output_type": "execute_result"
    }
   ],
   "source": [
    "df.head()"
   ]
  },
  {
   "cell_type": "code",
   "execution_count": 22,
   "metadata": {},
   "outputs": [
    {
     "data": {
      "text/plain": [
       "(847583, 1)"
      ]
     },
     "execution_count": 22,
     "metadata": {},
     "output_type": "execute_result"
    }
   ],
   "source": [
    "df.shape"
   ]
  },
  {
   "cell_type": "markdown",
   "metadata": {},
   "source": [
    "# Map Gene Symbols To Up-to-date Approved Gene Symbols"
   ]
  },
  {
   "cell_type": "code",
   "execution_count": 23,
   "metadata": {},
   "outputs": [
    {
     "name": "stdout",
     "output_type": "stream",
     "text": [
      "Progeres: 100%  847583 Out of 847583   \r"
     ]
    }
   ],
   "source": [
    "mf.mapgenesymbols(df)"
   ]
  },
  {
   "cell_type": "code",
   "execution_count": 24,
   "metadata": {},
   "outputs": [
    {
     "data": {
      "text/plain": [
       "(831825, 1)"
      ]
     },
     "execution_count": 24,
     "metadata": {},
     "output_type": "execute_result"
    }
   ],
   "source": [
    "df.shape"
   ]
  },
  {
   "cell_type": "markdown",
   "metadata": {},
   "source": [
    "# Create Binary Matrix"
   ]
  },
  {
   "cell_type": "code",
   "execution_count": 25,
   "metadata": {
    "collapsed": true
   },
   "outputs": [],
   "source": [
    "df.reset_index(inplace=True)"
   ]
  },
  {
   "cell_type": "code",
   "execution_count": 26,
   "metadata": {},
   "outputs": [
    {
     "name": "stdout",
     "output_type": "stream",
     "text": [
      "Progeres: 100%  18535 Out of 18535   \r"
     ]
    }
   ],
   "source": [
    "binary_matrix = mf.createBinaryMatix(df)"
   ]
  },
  {
   "cell_type": "code",
   "execution_count": 27,
   "metadata": {},
   "outputs": [
    {
     "data": {
      "text/html": [
       "<div>\n",
       "<table border=\"1\" class=\"dataframe\">\n",
       "  <thead>\n",
       "    <tr style=\"text-align: right;\">\n",
       "      <th></th>\n",
       "      <th>Chloroplast stroma</th>\n",
       "      <th>calcium- and calmodulin-dependent protein kinase complex</th>\n",
       "      <th>XY body</th>\n",
       "      <th>Acidocalcisome membrane</th>\n",
       "      <th>Anchored component of membrane</th>\n",
       "      <th>Diamine N-acetyltransferase complex</th>\n",
       "      <th>Membrane part</th>\n",
       "      <th>Scrib-APC-beta-catenin complex</th>\n",
       "      <th>Nuclear membrane</th>\n",
       "      <th>AIP1-IRE1 complex</th>\n",
       "      <th>...</th>\n",
       "      <th>Endosome</th>\n",
       "      <th>cell-cell contact zone</th>\n",
       "      <th>Nitrate reductase complex</th>\n",
       "      <th>protein-DNA-RNA complex</th>\n",
       "      <th>Sorting endosome</th>\n",
       "      <th>Longitudinal sarcoplasmic reticulum</th>\n",
       "      <th>XRCC2-RAD51D complex</th>\n",
       "      <th>MutLbeta complex</th>\n",
       "      <th>Serine C-palmitoyltransferase complex</th>\n",
       "      <th>DNA-directed RNA polymerase V complex</th>\n",
       "    </tr>\n",
       "  </thead>\n",
       "  <tbody>\n",
       "    <tr>\n",
       "      <th>WDR91</th>\n",
       "      <td>0</td>\n",
       "      <td>0</td>\n",
       "      <td>0</td>\n",
       "      <td>0</td>\n",
       "      <td>0</td>\n",
       "      <td>0</td>\n",
       "      <td>0</td>\n",
       "      <td>0</td>\n",
       "      <td>0</td>\n",
       "      <td>0</td>\n",
       "      <td>...</td>\n",
       "      <td>1</td>\n",
       "      <td>0</td>\n",
       "      <td>0</td>\n",
       "      <td>0</td>\n",
       "      <td>0</td>\n",
       "      <td>0</td>\n",
       "      <td>0</td>\n",
       "      <td>0</td>\n",
       "      <td>0</td>\n",
       "      <td>0</td>\n",
       "    </tr>\n",
       "    <tr>\n",
       "      <th>ALOX5</th>\n",
       "      <td>0</td>\n",
       "      <td>0</td>\n",
       "      <td>0</td>\n",
       "      <td>0</td>\n",
       "      <td>0</td>\n",
       "      <td>0</td>\n",
       "      <td>1</td>\n",
       "      <td>0</td>\n",
       "      <td>1</td>\n",
       "      <td>0</td>\n",
       "      <td>...</td>\n",
       "      <td>0</td>\n",
       "      <td>0</td>\n",
       "      <td>0</td>\n",
       "      <td>0</td>\n",
       "      <td>0</td>\n",
       "      <td>0</td>\n",
       "      <td>0</td>\n",
       "      <td>0</td>\n",
       "      <td>0</td>\n",
       "      <td>0</td>\n",
       "    </tr>\n",
       "    <tr>\n",
       "      <th>SLC36A1</th>\n",
       "      <td>0</td>\n",
       "      <td>0</td>\n",
       "      <td>0</td>\n",
       "      <td>0</td>\n",
       "      <td>0</td>\n",
       "      <td>0</td>\n",
       "      <td>1</td>\n",
       "      <td>0</td>\n",
       "      <td>0</td>\n",
       "      <td>0</td>\n",
       "      <td>...</td>\n",
       "      <td>1</td>\n",
       "      <td>0</td>\n",
       "      <td>0</td>\n",
       "      <td>0</td>\n",
       "      <td>0</td>\n",
       "      <td>0</td>\n",
       "      <td>0</td>\n",
       "      <td>0</td>\n",
       "      <td>0</td>\n",
       "      <td>0</td>\n",
       "    </tr>\n",
       "    <tr>\n",
       "      <th>ZNF275</th>\n",
       "      <td>0</td>\n",
       "      <td>0</td>\n",
       "      <td>0</td>\n",
       "      <td>0</td>\n",
       "      <td>0</td>\n",
       "      <td>0</td>\n",
       "      <td>0</td>\n",
       "      <td>0</td>\n",
       "      <td>0</td>\n",
       "      <td>0</td>\n",
       "      <td>...</td>\n",
       "      <td>0</td>\n",
       "      <td>0</td>\n",
       "      <td>0</td>\n",
       "      <td>0</td>\n",
       "      <td>0</td>\n",
       "      <td>0</td>\n",
       "      <td>0</td>\n",
       "      <td>0</td>\n",
       "      <td>0</td>\n",
       "      <td>0</td>\n",
       "    </tr>\n",
       "    <tr>\n",
       "      <th>BDNF</th>\n",
       "      <td>0</td>\n",
       "      <td>1</td>\n",
       "      <td>0</td>\n",
       "      <td>0</td>\n",
       "      <td>0</td>\n",
       "      <td>0</td>\n",
       "      <td>1</td>\n",
       "      <td>0</td>\n",
       "      <td>0</td>\n",
       "      <td>0</td>\n",
       "      <td>...</td>\n",
       "      <td>1</td>\n",
       "      <td>0</td>\n",
       "      <td>0</td>\n",
       "      <td>0</td>\n",
       "      <td>0</td>\n",
       "      <td>0</td>\n",
       "      <td>0</td>\n",
       "      <td>0</td>\n",
       "      <td>0</td>\n",
       "      <td>0</td>\n",
       "    </tr>\n",
       "  </tbody>\n",
       "</table>\n",
       "<p>5 rows × 2826 columns</p>\n",
       "</div>"
      ],
      "text/plain": [
       "         Chloroplast stroma  \\\n",
       "WDR91                     0   \n",
       "ALOX5                     0   \n",
       "SLC36A1                   0   \n",
       "ZNF275                    0   \n",
       "BDNF                      0   \n",
       "\n",
       "         calcium- and calmodulin-dependent protein kinase complex  XY body  \\\n",
       "WDR91                                                    0               0   \n",
       "ALOX5                                                    0               0   \n",
       "SLC36A1                                                  0               0   \n",
       "ZNF275                                                   0               0   \n",
       "BDNF                                                     1               0   \n",
       "\n",
       "         Acidocalcisome membrane  Anchored component of membrane  \\\n",
       "WDR91                          0                               0   \n",
       "ALOX5                          0                               0   \n",
       "SLC36A1                        0                               0   \n",
       "ZNF275                         0                               0   \n",
       "BDNF                           0                               0   \n",
       "\n",
       "         Diamine N-acetyltransferase complex  Membrane part  \\\n",
       "WDR91                                      0              0   \n",
       "ALOX5                                      0              1   \n",
       "SLC36A1                                    0              1   \n",
       "ZNF275                                     0              0   \n",
       "BDNF                                       0              1   \n",
       "\n",
       "         Scrib-APC-beta-catenin complex  Nuclear membrane  AIP1-IRE1 complex  \\\n",
       "WDR91                                 0                 0                  0   \n",
       "ALOX5                                 0                 1                  0   \n",
       "SLC36A1                               0                 0                  0   \n",
       "ZNF275                                0                 0                  0   \n",
       "BDNF                                  0                 0                  0   \n",
       "\n",
       "                         ...                    Endosome  \\\n",
       "WDR91                    ...                           1   \n",
       "ALOX5                    ...                           0   \n",
       "SLC36A1                  ...                           1   \n",
       "ZNF275                   ...                           0   \n",
       "BDNF                     ...                           1   \n",
       "\n",
       "         cell-cell contact zone  Nitrate reductase complex  \\\n",
       "WDR91                         0                          0   \n",
       "ALOX5                         0                          0   \n",
       "SLC36A1                       0                          0   \n",
       "ZNF275                        0                          0   \n",
       "BDNF                          0                          0   \n",
       "\n",
       "         protein-DNA-RNA complex  Sorting endosome  \\\n",
       "WDR91                          0                 0   \n",
       "ALOX5                          0                 0   \n",
       "SLC36A1                        0                 0   \n",
       "ZNF275                         0                 0   \n",
       "BDNF                           0                 0   \n",
       "\n",
       "         Longitudinal sarcoplasmic reticulum  XRCC2-RAD51D complex  \\\n",
       "WDR91                                      0                     0   \n",
       "ALOX5                                      0                     0   \n",
       "SLC36A1                                    0                     0   \n",
       "ZNF275                                     0                     0   \n",
       "BDNF                                       0                     0   \n",
       "\n",
       "         MutLbeta complex  Serine C-palmitoyltransferase complex  \\\n",
       "WDR91                   0                                      0   \n",
       "ALOX5                   0                                      0   \n",
       "SLC36A1                 0                                      0   \n",
       "ZNF275                  0                                      0   \n",
       "BDNF                    0                                      0   \n",
       "\n",
       "         DNA-directed RNA polymerase V complex  \n",
       "WDR91                                        0  \n",
       "ALOX5                                        0  \n",
       "SLC36A1                                      0  \n",
       "ZNF275                                       0  \n",
       "BDNF                                         0  \n",
       "\n",
       "[5 rows x 2826 columns]"
      ]
     },
     "execution_count": 27,
     "metadata": {},
     "output_type": "execute_result"
    }
   ],
   "source": [
    "binary_matrix.head()"
   ]
  },
  {
   "cell_type": "code",
   "execution_count": 28,
   "metadata": {},
   "outputs": [
    {
     "data": {
      "text/plain": [
       "(18535, 2826)"
      ]
     },
     "execution_count": 28,
     "metadata": {},
     "output_type": "execute_result"
    }
   ],
   "source": [
    "binary_matrix.shape"
   ]
  },
  {
   "cell_type": "markdown",
   "metadata": {},
   "source": [
    "# Save Binary Matrix"
   ]
  },
  {
   "cell_type": "code",
   "execution_count": 29,
   "metadata": {
    "collapsed": true
   },
   "outputs": [],
   "source": [
    "filename = '~/./Documents/Harmonizome/Jensen/Compartments/Output/jensen_compartments_binary_matrix_%s.tsv.zip'% str(datetime.date.today())[0:7].replace('-', '_')\n",
    "binary_matrix.to_csv(filename, sep='\\t', compression='gzip')"
   ]
  },
  {
   "cell_type": "markdown",
   "metadata": {},
   "source": [
    "# Create Gene Set Library"
   ]
  },
  {
   "cell_type": "code",
   "execution_count": 30,
   "metadata": {
    "collapsed": true
   },
   "outputs": [],
   "source": [
    "path = '/Users/moshesilverstein/Documents/Harmonizome/Jensen/Compartments/Output/'"
   ]
  },
  {
   "cell_type": "code",
   "execution_count": 31,
   "metadata": {
    "collapsed": true
   },
   "outputs": [],
   "source": [
    "name = 'jensen_compartments_gene_set'"
   ]
  },
  {
   "cell_type": "code",
   "execution_count": 32,
   "metadata": {},
   "outputs": [
    {
     "name": "stdout",
     "output_type": "stream",
     "text": [
      "Progeres: 100%  2826 Out of 2826   \r"
     ]
    }
   ],
   "source": [
    "mf.createUpGeneSetLib(binary_matrix, path, name)"
   ]
  },
  {
   "cell_type": "markdown",
   "metadata": {},
   "source": [
    "# Create Attribute Library"
   ]
  },
  {
   "cell_type": "code",
   "execution_count": 33,
   "metadata": {
    "collapsed": true
   },
   "outputs": [],
   "source": [
    "path = '/Users/moshesilverstein/Documents/Harmonizome/Jensen/Compartments/Output/'"
   ]
  },
  {
   "cell_type": "code",
   "execution_count": 34,
   "metadata": {
    "collapsed": true
   },
   "outputs": [],
   "source": [
    "name = 'jensen_compartments_attribute_set'"
   ]
  },
  {
   "cell_type": "code",
   "execution_count": 35,
   "metadata": {},
   "outputs": [
    {
     "name": "stdout",
     "output_type": "stream",
     "text": [
      "Progeres: 100%  18535 Out of 18535   \r"
     ]
    }
   ],
   "source": [
    "mf.createUpAttributeSetLib(binary_matrix, path, name)"
   ]
  },
  {
   "cell_type": "markdown",
   "metadata": {},
   "source": [
    "# Create Gene Similarity Matrix"
   ]
  },
  {
   "cell_type": "code",
   "execution_count": 36,
   "metadata": {
    "collapsed": true
   },
   "outputs": [],
   "source": [
    "gene_similarity_matix = mf.createSimilarityMatrix(binary_matrix, 'jaccard')"
   ]
  },
  {
   "cell_type": "code",
   "execution_count": 37,
   "metadata": {},
   "outputs": [
    {
     "data": {
      "text/html": [
       "<div>\n",
       "<table border=\"1\" class=\"dataframe\">\n",
       "  <thead>\n",
       "    <tr style=\"text-align: right;\">\n",
       "      <th></th>\n",
       "      <th>WDR91</th>\n",
       "      <th>ALOX5</th>\n",
       "      <th>SLC36A1</th>\n",
       "      <th>ZNF275</th>\n",
       "      <th>BDNF</th>\n",
       "      <th>PRDM16</th>\n",
       "      <th>UPF3A</th>\n",
       "      <th>FMO2</th>\n",
       "      <th>JAK3</th>\n",
       "      <th>NFIB</th>\n",
       "      <th>...</th>\n",
       "      <th>LNPEP</th>\n",
       "      <th>ZNF510</th>\n",
       "      <th>OR7A5</th>\n",
       "      <th>PTPN21</th>\n",
       "      <th>SLC35G2</th>\n",
       "      <th>HNRNPR</th>\n",
       "      <th>LSS</th>\n",
       "      <th>KIF21B</th>\n",
       "      <th>PRR5</th>\n",
       "      <th>USF2</th>\n",
       "    </tr>\n",
       "  </thead>\n",
       "  <tbody>\n",
       "    <tr>\n",
       "      <th>WDR91</th>\n",
       "      <td>1.000000</td>\n",
       "      <td>0.121951</td>\n",
       "      <td>0.222222</td>\n",
       "      <td>0.400000</td>\n",
       "      <td>0.048387</td>\n",
       "      <td>0.188679</td>\n",
       "      <td>0.188679</td>\n",
       "      <td>0.290323</td>\n",
       "      <td>0.126437</td>\n",
       "      <td>0.238095</td>\n",
       "      <td>...</td>\n",
       "      <td>0.141176</td>\n",
       "      <td>0.555556</td>\n",
       "      <td>0.136364</td>\n",
       "      <td>0.218750</td>\n",
       "      <td>0.310345</td>\n",
       "      <td>0.200000</td>\n",
       "      <td>0.153846</td>\n",
       "      <td>0.155556</td>\n",
       "      <td>0.156250</td>\n",
       "      <td>0.276596</td>\n",
       "    </tr>\n",
       "    <tr>\n",
       "      <th>ALOX5</th>\n",
       "      <td>0.121951</td>\n",
       "      <td>1.000000</td>\n",
       "      <td>0.207547</td>\n",
       "      <td>0.243590</td>\n",
       "      <td>0.219697</td>\n",
       "      <td>0.302083</td>\n",
       "      <td>0.288660</td>\n",
       "      <td>0.243902</td>\n",
       "      <td>0.355932</td>\n",
       "      <td>0.225806</td>\n",
       "      <td>...</td>\n",
       "      <td>0.261905</td>\n",
       "      <td>0.168831</td>\n",
       "      <td>0.115385</td>\n",
       "      <td>0.134831</td>\n",
       "      <td>0.265823</td>\n",
       "      <td>0.220000</td>\n",
       "      <td>0.317308</td>\n",
       "      <td>0.140000</td>\n",
       "      <td>0.112360</td>\n",
       "      <td>0.326087</td>\n",
       "    </tr>\n",
       "    <tr>\n",
       "      <th>SLC36A1</th>\n",
       "      <td>0.222222</td>\n",
       "      <td>0.207547</td>\n",
       "      <td>1.000000</td>\n",
       "      <td>0.183333</td>\n",
       "      <td>0.129771</td>\n",
       "      <td>0.164706</td>\n",
       "      <td>0.192771</td>\n",
       "      <td>0.357143</td>\n",
       "      <td>0.207207</td>\n",
       "      <td>0.157895</td>\n",
       "      <td>...</td>\n",
       "      <td>0.330000</td>\n",
       "      <td>0.207547</td>\n",
       "      <td>0.173077</td>\n",
       "      <td>0.153846</td>\n",
       "      <td>0.345455</td>\n",
       "      <td>0.215190</td>\n",
       "      <td>0.206522</td>\n",
       "      <td>0.173333</td>\n",
       "      <td>0.123077</td>\n",
       "      <td>0.280000</td>\n",
       "    </tr>\n",
       "    <tr>\n",
       "      <th>ZNF275</th>\n",
       "      <td>0.400000</td>\n",
       "      <td>0.243590</td>\n",
       "      <td>0.183333</td>\n",
       "      <td>1.000000</td>\n",
       "      <td>0.077236</td>\n",
       "      <td>0.387755</td>\n",
       "      <td>0.387755</td>\n",
       "      <td>0.323529</td>\n",
       "      <td>0.157303</td>\n",
       "      <td>0.540541</td>\n",
       "      <td>...</td>\n",
       "      <td>0.159091</td>\n",
       "      <td>0.434783</td>\n",
       "      <td>0.111111</td>\n",
       "      <td>0.257143</td>\n",
       "      <td>0.264706</td>\n",
       "      <td>0.354167</td>\n",
       "      <td>0.212121</td>\n",
       "      <td>0.239130</td>\n",
       "      <td>0.135135</td>\n",
       "      <td>0.413043</td>\n",
       "    </tr>\n",
       "    <tr>\n",
       "      <th>BDNF</th>\n",
       "      <td>0.048387</td>\n",
       "      <td>0.219697</td>\n",
       "      <td>0.129771</td>\n",
       "      <td>0.077236</td>\n",
       "      <td>1.000000</td>\n",
       "      <td>0.131274</td>\n",
       "      <td>0.122605</td>\n",
       "      <td>0.093117</td>\n",
       "      <td>0.210332</td>\n",
       "      <td>0.114625</td>\n",
       "      <td>...</td>\n",
       "      <td>0.202206</td>\n",
       "      <td>0.053061</td>\n",
       "      <td>0.036585</td>\n",
       "      <td>0.063241</td>\n",
       "      <td>0.093878</td>\n",
       "      <td>0.150794</td>\n",
       "      <td>0.138060</td>\n",
       "      <td>0.137097</td>\n",
       "      <td>0.059524</td>\n",
       "      <td>0.146245</td>\n",
       "    </tr>\n",
       "  </tbody>\n",
       "</table>\n",
       "<p>5 rows × 18535 columns</p>\n",
       "</div>"
      ],
      "text/plain": [
       "            WDR91     ALOX5   SLC36A1    ZNF275      BDNF    PRDM16     UPF3A  \\\n",
       "WDR91    1.000000  0.121951  0.222222  0.400000  0.048387  0.188679  0.188679   \n",
       "ALOX5    0.121951  1.000000  0.207547  0.243590  0.219697  0.302083  0.288660   \n",
       "SLC36A1  0.222222  0.207547  1.000000  0.183333  0.129771  0.164706  0.192771   \n",
       "ZNF275   0.400000  0.243590  0.183333  1.000000  0.077236  0.387755  0.387755   \n",
       "BDNF     0.048387  0.219697  0.129771  0.077236  1.000000  0.131274  0.122605   \n",
       "\n",
       "             FMO2      JAK3      NFIB    ...        LNPEP    ZNF510     OR7A5  \\\n",
       "WDR91    0.290323  0.126437  0.238095    ...     0.141176  0.555556  0.136364   \n",
       "ALOX5    0.243902  0.355932  0.225806    ...     0.261905  0.168831  0.115385   \n",
       "SLC36A1  0.357143  0.207207  0.157895    ...     0.330000  0.207547  0.173077   \n",
       "ZNF275   0.323529  0.157303  0.540541    ...     0.159091  0.434783  0.111111   \n",
       "BDNF     0.093117  0.210332  0.114625    ...     0.202206  0.053061  0.036585   \n",
       "\n",
       "           PTPN21   SLC35G2    HNRNPR       LSS    KIF21B      PRR5      USF2  \n",
       "WDR91    0.218750  0.310345  0.200000  0.153846  0.155556  0.156250  0.276596  \n",
       "ALOX5    0.134831  0.265823  0.220000  0.317308  0.140000  0.112360  0.326087  \n",
       "SLC36A1  0.153846  0.345455  0.215190  0.206522  0.173333  0.123077  0.280000  \n",
       "ZNF275   0.257143  0.264706  0.354167  0.212121  0.239130  0.135135  0.413043  \n",
       "BDNF     0.063241  0.093878  0.150794  0.138060  0.137097  0.059524  0.146245  \n",
       "\n",
       "[5 rows x 18535 columns]"
      ]
     },
     "execution_count": 37,
     "metadata": {},
     "output_type": "execute_result"
    }
   ],
   "source": [
    "gene_similarity_matix.head()"
   ]
  },
  {
   "cell_type": "markdown",
   "metadata": {},
   "source": [
    "## Save Gene Similarity Matrix "
   ]
  },
  {
   "cell_type": "code",
   "execution_count": 38,
   "metadata": {
    "collapsed": true
   },
   "outputs": [],
   "source": [
    "filename = '~/./Documents/Harmonizome/Jensen/Compartments/Output/jensen_compartments_gene_similarity_matix_%s.tsv.zip'% str(datetime.date.today())[0:7].replace('-', '_')\n",
    "gene_similarity_matix.to_csv(filename, sep='\\t', compression='gzip')"
   ]
  },
  {
   "cell_type": "markdown",
   "metadata": {},
   "source": [
    "# Create Attribute Similarity matrix"
   ]
  },
  {
   "cell_type": "code",
   "execution_count": 39,
   "metadata": {
    "collapsed": true
   },
   "outputs": [],
   "source": [
    "attribute_similarity_matix = mf.createSimilarityMatrix(binary_matrix.T, 'jaccard')"
   ]
  },
  {
   "cell_type": "code",
   "execution_count": 40,
   "metadata": {},
   "outputs": [
    {
     "data": {
      "text/html": [
       "<div>\n",
       "<table border=\"1\" class=\"dataframe\">\n",
       "  <thead>\n",
       "    <tr style=\"text-align: right;\">\n",
       "      <th></th>\n",
       "      <th>Chloroplast stroma</th>\n",
       "      <th>calcium- and calmodulin-dependent protein kinase complex</th>\n",
       "      <th>XY body</th>\n",
       "      <th>Acidocalcisome membrane</th>\n",
       "      <th>Anchored component of membrane</th>\n",
       "      <th>Diamine N-acetyltransferase complex</th>\n",
       "      <th>Membrane part</th>\n",
       "      <th>Scrib-APC-beta-catenin complex</th>\n",
       "      <th>Nuclear membrane</th>\n",
       "      <th>AIP1-IRE1 complex</th>\n",
       "      <th>...</th>\n",
       "      <th>Endosome</th>\n",
       "      <th>cell-cell contact zone</th>\n",
       "      <th>Nitrate reductase complex</th>\n",
       "      <th>protein-DNA-RNA complex</th>\n",
       "      <th>Sorting endosome</th>\n",
       "      <th>Longitudinal sarcoplasmic reticulum</th>\n",
       "      <th>XRCC2-RAD51D complex</th>\n",
       "      <th>MutLbeta complex</th>\n",
       "      <th>Serine C-palmitoyltransferase complex</th>\n",
       "      <th>DNA-directed RNA polymerase V complex</th>\n",
       "    </tr>\n",
       "  </thead>\n",
       "  <tbody>\n",
       "    <tr>\n",
       "      <th>Chloroplast stroma</th>\n",
       "      <td>1.000000</td>\n",
       "      <td>0.007168</td>\n",
       "      <td>0.000000</td>\n",
       "      <td>0.000000</td>\n",
       "      <td>0.003165</td>\n",
       "      <td>0.006711</td>\n",
       "      <td>0.007322</td>\n",
       "      <td>0.000000</td>\n",
       "      <td>0.008111</td>\n",
       "      <td>0.0</td>\n",
       "      <td>...</td>\n",
       "      <td>0.004289</td>\n",
       "      <td>0.000000</td>\n",
       "      <td>0.034483</td>\n",
       "      <td>0.0</td>\n",
       "      <td>0.000000</td>\n",
       "      <td>0.014085</td>\n",
       "      <td>0.000000</td>\n",
       "      <td>0.000000</td>\n",
       "      <td>0.006494</td>\n",
       "      <td>0.0</td>\n",
       "    </tr>\n",
       "    <tr>\n",
       "      <th>calcium- and calmodulin-dependent protein kinase complex</th>\n",
       "      <td>0.007168</td>\n",
       "      <td>1.000000</td>\n",
       "      <td>0.007782</td>\n",
       "      <td>0.006329</td>\n",
       "      <td>0.002865</td>\n",
       "      <td>0.000000</td>\n",
       "      <td>0.014445</td>\n",
       "      <td>0.006329</td>\n",
       "      <td>0.020339</td>\n",
       "      <td>0.0</td>\n",
       "      <td>...</td>\n",
       "      <td>0.017032</td>\n",
       "      <td>0.032558</td>\n",
       "      <td>0.000000</td>\n",
       "      <td>0.0</td>\n",
       "      <td>0.007273</td>\n",
       "      <td>0.023121</td>\n",
       "      <td>0.004878</td>\n",
       "      <td>0.000000</td>\n",
       "      <td>0.000000</td>\n",
       "      <td>0.0</td>\n",
       "    </tr>\n",
       "    <tr>\n",
       "      <th>XY body</th>\n",
       "      <td>0.000000</td>\n",
       "      <td>0.007782</td>\n",
       "      <td>1.000000</td>\n",
       "      <td>0.000000</td>\n",
       "      <td>0.000000</td>\n",
       "      <td>0.007874</td>\n",
       "      <td>0.003658</td>\n",
       "      <td>0.000000</td>\n",
       "      <td>0.011933</td>\n",
       "      <td>0.0</td>\n",
       "      <td>...</td>\n",
       "      <td>0.000619</td>\n",
       "      <td>0.000000</td>\n",
       "      <td>0.000000</td>\n",
       "      <td>0.0</td>\n",
       "      <td>0.000000</td>\n",
       "      <td>0.000000</td>\n",
       "      <td>0.000000</td>\n",
       "      <td>0.008929</td>\n",
       "      <td>0.000000</td>\n",
       "      <td>0.0</td>\n",
       "    </tr>\n",
       "    <tr>\n",
       "      <th>Acidocalcisome membrane</th>\n",
       "      <td>0.000000</td>\n",
       "      <td>0.006329</td>\n",
       "      <td>0.000000</td>\n",
       "      <td>1.000000</td>\n",
       "      <td>0.000000</td>\n",
       "      <td>0.000000</td>\n",
       "      <td>0.000246</td>\n",
       "      <td>0.000000</td>\n",
       "      <td>0.001339</td>\n",
       "      <td>0.0</td>\n",
       "      <td>...</td>\n",
       "      <td>0.000660</td>\n",
       "      <td>0.001961</td>\n",
       "      <td>0.000000</td>\n",
       "      <td>0.0</td>\n",
       "      <td>0.000000</td>\n",
       "      <td>0.047619</td>\n",
       "      <td>0.000000</td>\n",
       "      <td>0.000000</td>\n",
       "      <td>0.000000</td>\n",
       "      <td>0.0</td>\n",
       "    </tr>\n",
       "    <tr>\n",
       "      <th>Anchored component of membrane</th>\n",
       "      <td>0.003165</td>\n",
       "      <td>0.002865</td>\n",
       "      <td>0.000000</td>\n",
       "      <td>0.000000</td>\n",
       "      <td>1.000000</td>\n",
       "      <td>0.004587</td>\n",
       "      <td>0.023236</td>\n",
       "      <td>0.000000</td>\n",
       "      <td>0.009677</td>\n",
       "      <td>0.0</td>\n",
       "      <td>...</td>\n",
       "      <td>0.010651</td>\n",
       "      <td>0.021834</td>\n",
       "      <td>0.003597</td>\n",
       "      <td>0.0</td>\n",
       "      <td>0.009677</td>\n",
       "      <td>0.000000</td>\n",
       "      <td>0.000000</td>\n",
       "      <td>0.000000</td>\n",
       "      <td>0.000000</td>\n",
       "      <td>0.0</td>\n",
       "    </tr>\n",
       "  </tbody>\n",
       "</table>\n",
       "<p>5 rows × 2826 columns</p>\n",
       "</div>"
      ],
      "text/plain": [
       "                                                    Chloroplast stroma  \\\n",
       "Chloroplast stroma                                            1.000000   \n",
       "calcium- and calmodulin-dependent protein kinas...            0.007168   \n",
       "XY body                                                       0.000000   \n",
       "Acidocalcisome membrane                                       0.000000   \n",
       "Anchored component of membrane                                0.003165   \n",
       "\n",
       "                                                    calcium- and calmodulin-dependent protein kinase complex  \\\n",
       "Chloroplast stroma                                                                           0.007168          \n",
       "calcium- and calmodulin-dependent protein kinas...                                           1.000000          \n",
       "XY body                                                                                      0.007782          \n",
       "Acidocalcisome membrane                                                                      0.006329          \n",
       "Anchored component of membrane                                                               0.002865          \n",
       "\n",
       "                                                     XY body  \\\n",
       "Chloroplast stroma                                  0.000000   \n",
       "calcium- and calmodulin-dependent protein kinas...  0.007782   \n",
       "XY body                                             1.000000   \n",
       "Acidocalcisome membrane                             0.000000   \n",
       "Anchored component of membrane                      0.000000   \n",
       "\n",
       "                                                    Acidocalcisome membrane  \\\n",
       "Chloroplast stroma                                                 0.000000   \n",
       "calcium- and calmodulin-dependent protein kinas...                 0.006329   \n",
       "XY body                                                            0.000000   \n",
       "Acidocalcisome membrane                                            1.000000   \n",
       "Anchored component of membrane                                     0.000000   \n",
       "\n",
       "                                                    Anchored component of membrane  \\\n",
       "Chloroplast stroma                                                        0.003165   \n",
       "calcium- and calmodulin-dependent protein kinas...                        0.002865   \n",
       "XY body                                                                   0.000000   \n",
       "Acidocalcisome membrane                                                   0.000000   \n",
       "Anchored component of membrane                                            1.000000   \n",
       "\n",
       "                                                    Diamine N-acetyltransferase complex  \\\n",
       "Chloroplast stroma                                                             0.006711   \n",
       "calcium- and calmodulin-dependent protein kinas...                             0.000000   \n",
       "XY body                                                                        0.007874   \n",
       "Acidocalcisome membrane                                                        0.000000   \n",
       "Anchored component of membrane                                                 0.004587   \n",
       "\n",
       "                                                    Membrane part  \\\n",
       "Chloroplast stroma                                       0.007322   \n",
       "calcium- and calmodulin-dependent protein kinas...       0.014445   \n",
       "XY body                                                  0.003658   \n",
       "Acidocalcisome membrane                                  0.000246   \n",
       "Anchored component of membrane                           0.023236   \n",
       "\n",
       "                                                    Scrib-APC-beta-catenin complex  \\\n",
       "Chloroplast stroma                                                        0.000000   \n",
       "calcium- and calmodulin-dependent protein kinas...                        0.006329   \n",
       "XY body                                                                   0.000000   \n",
       "Acidocalcisome membrane                                                   0.000000   \n",
       "Anchored component of membrane                                            0.000000   \n",
       "\n",
       "                                                    Nuclear membrane  \\\n",
       "Chloroplast stroma                                          0.008111   \n",
       "calcium- and calmodulin-dependent protein kinas...          0.020339   \n",
       "XY body                                                     0.011933   \n",
       "Acidocalcisome membrane                                     0.001339   \n",
       "Anchored component of membrane                              0.009677   \n",
       "\n",
       "                                                    AIP1-IRE1 complex  \\\n",
       "Chloroplast stroma                                                0.0   \n",
       "calcium- and calmodulin-dependent protein kinas...                0.0   \n",
       "XY body                                                           0.0   \n",
       "Acidocalcisome membrane                                           0.0   \n",
       "Anchored component of membrane                                    0.0   \n",
       "\n",
       "                                                                    ...                    \\\n",
       "Chloroplast stroma                                                  ...                     \n",
       "calcium- and calmodulin-dependent protein kinas...                  ...                     \n",
       "XY body                                                             ...                     \n",
       "Acidocalcisome membrane                                             ...                     \n",
       "Anchored component of membrane                                      ...                     \n",
       "\n",
       "                                                    Endosome  \\\n",
       "Chloroplast stroma                                  0.004289   \n",
       "calcium- and calmodulin-dependent protein kinas...  0.017032   \n",
       "XY body                                             0.000619   \n",
       "Acidocalcisome membrane                             0.000660   \n",
       "Anchored component of membrane                      0.010651   \n",
       "\n",
       "                                                    cell-cell contact zone  \\\n",
       "Chloroplast stroma                                                0.000000   \n",
       "calcium- and calmodulin-dependent protein kinas...                0.032558   \n",
       "XY body                                                           0.000000   \n",
       "Acidocalcisome membrane                                           0.001961   \n",
       "Anchored component of membrane                                    0.021834   \n",
       "\n",
       "                                                    Nitrate reductase complex  \\\n",
       "Chloroplast stroma                                                   0.034483   \n",
       "calcium- and calmodulin-dependent protein kinas...                   0.000000   \n",
       "XY body                                                              0.000000   \n",
       "Acidocalcisome membrane                                              0.000000   \n",
       "Anchored component of membrane                                       0.003597   \n",
       "\n",
       "                                                    protein-DNA-RNA complex  \\\n",
       "Chloroplast stroma                                                      0.0   \n",
       "calcium- and calmodulin-dependent protein kinas...                      0.0   \n",
       "XY body                                                                 0.0   \n",
       "Acidocalcisome membrane                                                 0.0   \n",
       "Anchored component of membrane                                          0.0   \n",
       "\n",
       "                                                    Sorting endosome  \\\n",
       "Chloroplast stroma                                          0.000000   \n",
       "calcium- and calmodulin-dependent protein kinas...          0.007273   \n",
       "XY body                                                     0.000000   \n",
       "Acidocalcisome membrane                                     0.000000   \n",
       "Anchored component of membrane                              0.009677   \n",
       "\n",
       "                                                    Longitudinal sarcoplasmic reticulum  \\\n",
       "Chloroplast stroma                                                             0.014085   \n",
       "calcium- and calmodulin-dependent protein kinas...                             0.023121   \n",
       "XY body                                                                        0.000000   \n",
       "Acidocalcisome membrane                                                        0.047619   \n",
       "Anchored component of membrane                                                 0.000000   \n",
       "\n",
       "                                                    XRCC2-RAD51D complex  \\\n",
       "Chloroplast stroma                                              0.000000   \n",
       "calcium- and calmodulin-dependent protein kinas...              0.004878   \n",
       "XY body                                                         0.000000   \n",
       "Acidocalcisome membrane                                         0.000000   \n",
       "Anchored component of membrane                                  0.000000   \n",
       "\n",
       "                                                    MutLbeta complex  \\\n",
       "Chloroplast stroma                                          0.000000   \n",
       "calcium- and calmodulin-dependent protein kinas...          0.000000   \n",
       "XY body                                                     0.008929   \n",
       "Acidocalcisome membrane                                     0.000000   \n",
       "Anchored component of membrane                              0.000000   \n",
       "\n",
       "                                                    Serine C-palmitoyltransferase complex  \\\n",
       "Chloroplast stroma                                                               0.006494   \n",
       "calcium- and calmodulin-dependent protein kinas...                               0.000000   \n",
       "XY body                                                                          0.000000   \n",
       "Acidocalcisome membrane                                                          0.000000   \n",
       "Anchored component of membrane                                                   0.000000   \n",
       "\n",
       "                                                    DNA-directed RNA polymerase V complex  \n",
       "Chloroplast stroma                                                                    0.0  \n",
       "calcium- and calmodulin-dependent protein kinas...                                    0.0  \n",
       "XY body                                                                               0.0  \n",
       "Acidocalcisome membrane                                                               0.0  \n",
       "Anchored component of membrane                                                        0.0  \n",
       "\n",
       "[5 rows x 2826 columns]"
      ]
     },
     "execution_count": 40,
     "metadata": {},
     "output_type": "execute_result"
    }
   ],
   "source": [
    "attribute_similarity_matix.head()"
   ]
  },
  {
   "cell_type": "markdown",
   "metadata": {},
   "source": [
    "## Save Attribute Similarity Matrix"
   ]
  },
  {
   "cell_type": "code",
   "execution_count": 41,
   "metadata": {
    "collapsed": true
   },
   "outputs": [],
   "source": [
    "filename = '~/./Documents/Harmonizome/Jensen/Compartments/Output/jensen_compartments_attribute_similarity_matix_%s.tsv.zip'% str(datetime.date.today())[0:7].replace('-', '_')\n",
    "attribute_similarity_matix.to_csv(filename, sep='\\t', compression='gzip')"
   ]
  },
  {
   "cell_type": "markdown",
   "metadata": {},
   "source": [
    "# Create Gene List"
   ]
  },
  {
   "cell_type": "code",
   "execution_count": 42,
   "metadata": {},
   "outputs": [
    {
     "name": "stdout",
     "output_type": "stream",
     "text": [
      "Progeres: 100%  18535 Out of 18535   \r"
     ]
    }
   ],
   "source": [
    "gene_list = mf.createGeneList(binary_matrix)"
   ]
  },
  {
   "cell_type": "code",
   "execution_count": 43,
   "metadata": {},
   "outputs": [
    {
     "data": {
      "text/html": [
       "<div>\n",
       "<table border=\"1\" class=\"dataframe\">\n",
       "  <thead>\n",
       "    <tr style=\"text-align: right;\">\n",
       "      <th></th>\n",
       "      <th>GeneSym</th>\n",
       "      <th>GeneID</th>\n",
       "    </tr>\n",
       "  </thead>\n",
       "  <tbody>\n",
       "    <tr>\n",
       "      <th>0</th>\n",
       "      <td>WDR91</td>\n",
       "      <td>29062</td>\n",
       "    </tr>\n",
       "    <tr>\n",
       "      <th>1</th>\n",
       "      <td>ALOX5</td>\n",
       "      <td>240</td>\n",
       "    </tr>\n",
       "    <tr>\n",
       "      <th>2</th>\n",
       "      <td>SLC36A1</td>\n",
       "      <td>206358</td>\n",
       "    </tr>\n",
       "    <tr>\n",
       "      <th>3</th>\n",
       "      <td>ZNF275</td>\n",
       "      <td>10838</td>\n",
       "    </tr>\n",
       "    <tr>\n",
       "      <th>4</th>\n",
       "      <td>BDNF</td>\n",
       "      <td>627</td>\n",
       "    </tr>\n",
       "  </tbody>\n",
       "</table>\n",
       "</div>"
      ],
      "text/plain": [
       "   GeneSym  GeneID\n",
       "0    WDR91   29062\n",
       "1    ALOX5     240\n",
       "2  SLC36A1  206358\n",
       "3   ZNF275   10838\n",
       "4     BDNF     627"
      ]
     },
     "execution_count": 43,
     "metadata": {},
     "output_type": "execute_result"
    }
   ],
   "source": [
    "gene_list.head()"
   ]
  },
  {
   "cell_type": "code",
   "execution_count": 44,
   "metadata": {},
   "outputs": [
    {
     "data": {
      "text/plain": [
       "(18535, 2)"
      ]
     },
     "execution_count": 44,
     "metadata": {},
     "output_type": "execute_result"
    }
   ],
   "source": [
    "gene_list.shape"
   ]
  },
  {
   "cell_type": "markdown",
   "metadata": {},
   "source": [
    "### Save Gene List"
   ]
  },
  {
   "cell_type": "code",
   "execution_count": 45,
   "metadata": {
    "collapsed": true
   },
   "outputs": [],
   "source": [
    "filename = '~/./Documents/Harmonizome/Jensen/Compartments/Output/jensen_compartments_gene_list_%s.tsv.zip'% str(datetime.date.today())[0:7].replace('-', '_')\n",
    "gene_list.to_csv(filename, sep='\\t', index=False, compression='gzip')"
   ]
  },
  {
   "cell_type": "markdown",
   "metadata": {},
   "source": [
    "# Create Attribute List "
   ]
  },
  {
   "cell_type": "code",
   "execution_count": 46,
   "metadata": {
    "collapsed": true
   },
   "outputs": [],
   "source": [
    "attribute_list = mf.createAttributeList(binary_matrix)"
   ]
  },
  {
   "cell_type": "code",
   "execution_count": 47,
   "metadata": {},
   "outputs": [
    {
     "data": {
      "text/html": [
       "<div>\n",
       "<table border=\"1\" class=\"dataframe\">\n",
       "  <thead>\n",
       "    <tr style=\"text-align: right;\">\n",
       "      <th></th>\n",
       "      <th>Attributes</th>\n",
       "    </tr>\n",
       "  </thead>\n",
       "  <tbody>\n",
       "    <tr>\n",
       "      <th>0</th>\n",
       "      <td>Chloroplast stroma</td>\n",
       "    </tr>\n",
       "    <tr>\n",
       "      <th>1</th>\n",
       "      <td>calcium- and calmodulin-dependent protein kina...</td>\n",
       "    </tr>\n",
       "    <tr>\n",
       "      <th>2</th>\n",
       "      <td>XY body</td>\n",
       "    </tr>\n",
       "    <tr>\n",
       "      <th>3</th>\n",
       "      <td>Acidocalcisome membrane</td>\n",
       "    </tr>\n",
       "    <tr>\n",
       "      <th>4</th>\n",
       "      <td>Anchored component of membrane</td>\n",
       "    </tr>\n",
       "  </tbody>\n",
       "</table>\n",
       "</div>"
      ],
      "text/plain": [
       "                                          Attributes\n",
       "0                                 Chloroplast stroma\n",
       "1  calcium- and calmodulin-dependent protein kina...\n",
       "2                                            XY body\n",
       "3                            Acidocalcisome membrane\n",
       "4                     Anchored component of membrane"
      ]
     },
     "execution_count": 47,
     "metadata": {},
     "output_type": "execute_result"
    }
   ],
   "source": [
    "attribute_list.head()"
   ]
  },
  {
   "cell_type": "code",
   "execution_count": 48,
   "metadata": {},
   "outputs": [
    {
     "data": {
      "text/plain": [
       "(2826, 1)"
      ]
     },
     "execution_count": 48,
     "metadata": {},
     "output_type": "execute_result"
    }
   ],
   "source": [
    "attribute_list.shape"
   ]
  },
  {
   "cell_type": "markdown",
   "metadata": {},
   "source": [
    "### Save Attribute List"
   ]
  },
  {
   "cell_type": "code",
   "execution_count": 49,
   "metadata": {
    "collapsed": true
   },
   "outputs": [],
   "source": [
    "filename = '~/./Documents/Harmonizome/Jensen/Compartments/Output/jensen_compartments_attribute_list_%s.tsv.zip'% str(datetime.date.today())[0:7].replace('-', '_')\n",
    "attribute_list.to_csv(filename, sep='\\t', index=False, compression='gzip')"
   ]
  },
  {
   "cell_type": "markdown",
   "metadata": {},
   "source": [
    "# Create Gene-Attribute Edge List"
   ]
  },
  {
   "cell_type": "code",
   "execution_count": 52,
   "metadata": {
    "collapsed": true
   },
   "outputs": [],
   "source": [
    "path = '/Users/moshesilverstein/Documents/Harmonizome/Jensen/Compartments/Output/'"
   ]
  },
  {
   "cell_type": "code",
   "execution_count": 53,
   "metadata": {
    "collapsed": true
   },
   "outputs": [],
   "source": [
    "name = 'jensen_compartments_gene_attribute_edge_list'"
   ]
  },
  {
   "cell_type": "code",
   "execution_count": 81,
   "metadata": {},
   "outputs": [
    {
     "name": "stdout",
     "output_type": "stream",
     "text": [
      "Progeres: 100%  2826 Out of 2826   \n",
      "\n",
      " The number of statisticaly relevent gene-attribute associations is: 829693\n"
     ]
    }
   ],
   "source": [
    "mf.createGeneAttributeEdgeList(binary_matrix, gene_list, path, name)"
   ]
  }
 ],
 "metadata": {
  "kernelspec": {
   "display_name": "Python [default]",
   "language": "python",
   "name": "python3"
  },
  "language_info": {
   "codemirror_mode": {
    "name": "ipython",
    "version": 3
   },
   "file_extension": ".py",
   "mimetype": "text/x-python",
   "name": "python",
   "nbconvert_exporter": "python",
   "pygments_lexer": "ipython3",
   "version": "3.5.2"
  }
 },
 "nbformat": 4,
 "nbformat_minor": 2
}
