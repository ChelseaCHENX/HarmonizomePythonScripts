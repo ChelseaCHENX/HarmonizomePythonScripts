{
 "cells": [
  {
   "cell_type": "markdown",
   "metadata": {},
   "source": [
    "# JENSEN LAB (DISEASE)"
   ]
  },
  {
   "cell_type": "markdown",
   "metadata": {},
   "source": [
    "Author: Moshe Silverstein <br/>\n",
    "Date: 7-17 <br/>\n",
    "Data Source: http://diseases.jensenlab.org/Search"
   ]
  },
  {
   "cell_type": "code",
   "execution_count": 1,
   "metadata": {
    "collapsed": true
   },
   "outputs": [],
   "source": [
    "import sys, datetime\n",
    "import numpy as np\n",
    "import pandas as pd\n",
    "import importlib\n",
    "import my_functions as mf\n",
    "%matplotlib inline"
   ]
  },
  {
   "cell_type": "code",
   "execution_count": 2,
   "metadata": {},
   "outputs": [
    {
     "data": {
      "text/plain": [
       "<module 'my_functions' from '/Users/moshesilverstein/Documents/Harmonizome/Jensen/Disease/my_functions.py'>"
      ]
     },
     "execution_count": 2,
     "metadata": {},
     "output_type": "execute_result"
    }
   ],
   "source": [
    "importlib.reload(mf)"
   ]
  },
  {
   "cell_type": "markdown",
   "metadata": {},
   "source": [
    "# LOAD DATA"
   ]
  },
  {
   "cell_type": "code",
   "execution_count": 3,
   "metadata": {
    "collapsed": true
   },
   "outputs": [],
   "source": [
    "col = ['Ensemble Acc', 'GeneSym', 'BTO', 'Disease', 'Source', 'SampleInfo', 'Value']"
   ]
  },
  {
   "cell_type": "code",
   "execution_count": 4,
   "metadata": {},
   "outputs": [],
   "source": [
    "dfE = pd.read_csv('Input/human_disease_experiments_filtered.tsv', sep='\\t', names=col)"
   ]
  },
  {
   "cell_type": "code",
   "execution_count": 5,
   "metadata": {
    "collapsed": true
   },
   "outputs": [],
   "source": [
    "dfK = pd.read_csv('Input/human_disease_knowledge_filtered.tsv', sep='\\t', names=col)"
   ]
  },
  {
   "cell_type": "code",
   "execution_count": 6,
   "metadata": {
    "collapsed": true
   },
   "outputs": [],
   "source": [
    "dfT = pd.read_csv('Input/human_disease_textmining_filtered.tsv', sep='\\t', names=col)"
   ]
  },
  {
   "cell_type": "code",
   "execution_count": 7,
   "metadata": {
    "collapsed": true
   },
   "outputs": [],
   "source": [
    "df = pd.concat([dfE, dfK, dfT])"
   ]
  },
  {
   "cell_type": "code",
   "execution_count": 8,
   "metadata": {},
   "outputs": [
    {
     "data": {
      "text/html": [
       "<div>\n",
       "<table border=\"1\" class=\"dataframe\">\n",
       "  <thead>\n",
       "    <tr style=\"text-align: right;\">\n",
       "      <th></th>\n",
       "      <th>Ensemble Acc</th>\n",
       "      <th>GeneSym</th>\n",
       "      <th>BTO</th>\n",
       "      <th>Disease</th>\n",
       "      <th>Source</th>\n",
       "      <th>SampleInfo</th>\n",
       "      <th>Value</th>\n",
       "    </tr>\n",
       "  </thead>\n",
       "  <tbody>\n",
       "    <tr>\n",
       "      <th>0</th>\n",
       "      <td>ENSP00000000412</td>\n",
       "      <td>M6PR</td>\n",
       "      <td>DOID:2377</td>\n",
       "      <td>Multiple sclerosis</td>\n",
       "      <td>DistiLD</td>\n",
       "      <td>p-value = 5e-14</td>\n",
       "      <td>2</td>\n",
       "    </tr>\n",
       "    <tr>\n",
       "      <th>1</th>\n",
       "      <td>ENSP00000000442</td>\n",
       "      <td>ESRRA</td>\n",
       "      <td>DOID:305</td>\n",
       "      <td>Carcinoma</td>\n",
       "      <td>COSMIC</td>\n",
       "      <td>11 samples</td>\n",
       "      <td>0</td>\n",
       "    </tr>\n",
       "    <tr>\n",
       "      <th>2</th>\n",
       "      <td>ENSP00000001008</td>\n",
       "      <td>FKBP4</td>\n",
       "      <td>DOID:305</td>\n",
       "      <td>Carcinoma</td>\n",
       "      <td>COSMIC</td>\n",
       "      <td>14 samples</td>\n",
       "      <td>0</td>\n",
       "    </tr>\n",
       "    <tr>\n",
       "      <th>3</th>\n",
       "      <td>ENSP00000001146</td>\n",
       "      <td>CYP26B1</td>\n",
       "      <td>DOID:305</td>\n",
       "      <td>Carcinoma</td>\n",
       "      <td>COSMIC</td>\n",
       "      <td>14 samples</td>\n",
       "      <td>0</td>\n",
       "    </tr>\n",
       "    <tr>\n",
       "      <th>4</th>\n",
       "      <td>ENSP00000002165</td>\n",
       "      <td>FUCA2</td>\n",
       "      <td>DOID:305</td>\n",
       "      <td>Carcinoma</td>\n",
       "      <td>COSMIC</td>\n",
       "      <td>10 samples</td>\n",
       "      <td>0</td>\n",
       "    </tr>\n",
       "  </tbody>\n",
       "</table>\n",
       "</div>"
      ],
      "text/plain": [
       "      Ensemble Acc  GeneSym        BTO             Disease   Source  \\\n",
       "0  ENSP00000000412     M6PR  DOID:2377  Multiple sclerosis  DistiLD   \n",
       "1  ENSP00000000442    ESRRA   DOID:305           Carcinoma   COSMIC   \n",
       "2  ENSP00000001008    FKBP4   DOID:305           Carcinoma   COSMIC   \n",
       "3  ENSP00000001146  CYP26B1   DOID:305           Carcinoma   COSMIC   \n",
       "4  ENSP00000002165    FUCA2   DOID:305           Carcinoma   COSMIC   \n",
       "\n",
       "        SampleInfo Value  \n",
       "0  p-value = 5e-14     2  \n",
       "1       11 samples     0  \n",
       "2       14 samples     0  \n",
       "3       14 samples     0  \n",
       "4       10 samples     0  "
      ]
     },
     "execution_count": 8,
     "metadata": {},
     "output_type": "execute_result"
    }
   ],
   "source": [
    "df.head()"
   ]
  },
  {
   "cell_type": "code",
   "execution_count": 9,
   "metadata": {},
   "outputs": [
    {
     "data": {
      "text/plain": [
       "(72762, 7)"
      ]
     },
     "execution_count": 9,
     "metadata": {},
     "output_type": "execute_result"
    }
   ],
   "source": [
    "df.shape"
   ]
  },
  {
   "cell_type": "markdown",
   "metadata": {},
   "source": [
    "# Get Only Gene-Tissue Data"
   ]
  },
  {
   "cell_type": "code",
   "execution_count": 10,
   "metadata": {
    "collapsed": true
   },
   "outputs": [],
   "source": [
    "df = df[['GeneSym', 'Disease']]"
   ]
  },
  {
   "cell_type": "code",
   "execution_count": 11,
   "metadata": {
    "collapsed": true
   },
   "outputs": [],
   "source": [
    "df.drop_duplicates(inplace=True)"
   ]
  },
  {
   "cell_type": "code",
   "execution_count": 12,
   "metadata": {
    "collapsed": true
   },
   "outputs": [],
   "source": [
    "df.set_index('GeneSym', inplace=True)"
   ]
  },
  {
   "cell_type": "code",
   "execution_count": 13,
   "metadata": {},
   "outputs": [
    {
     "data": {
      "text/html": [
       "<div>\n",
       "<table border=\"1\" class=\"dataframe\">\n",
       "  <thead>\n",
       "    <tr style=\"text-align: right;\">\n",
       "      <th></th>\n",
       "      <th>Disease</th>\n",
       "    </tr>\n",
       "    <tr>\n",
       "      <th>GeneSym</th>\n",
       "      <th></th>\n",
       "    </tr>\n",
       "  </thead>\n",
       "  <tbody>\n",
       "    <tr>\n",
       "      <th>M6PR</th>\n",
       "      <td>Multiple sclerosis</td>\n",
       "    </tr>\n",
       "    <tr>\n",
       "      <th>ESRRA</th>\n",
       "      <td>Carcinoma</td>\n",
       "    </tr>\n",
       "    <tr>\n",
       "      <th>FKBP4</th>\n",
       "      <td>Carcinoma</td>\n",
       "    </tr>\n",
       "    <tr>\n",
       "      <th>CYP26B1</th>\n",
       "      <td>Carcinoma</td>\n",
       "    </tr>\n",
       "    <tr>\n",
       "      <th>FUCA2</th>\n",
       "      <td>Carcinoma</td>\n",
       "    </tr>\n",
       "  </tbody>\n",
       "</table>\n",
       "</div>"
      ],
      "text/plain": [
       "                    Disease\n",
       "GeneSym                    \n",
       "M6PR     Multiple sclerosis\n",
       "ESRRA             Carcinoma\n",
       "FKBP4             Carcinoma\n",
       "CYP26B1           Carcinoma\n",
       "FUCA2             Carcinoma"
      ]
     },
     "execution_count": 13,
     "metadata": {},
     "output_type": "execute_result"
    }
   ],
   "source": [
    "df.head()"
   ]
  },
  {
   "cell_type": "code",
   "execution_count": 14,
   "metadata": {},
   "outputs": [
    {
     "data": {
      "text/plain": [
       "(69735, 1)"
      ]
     },
     "execution_count": 14,
     "metadata": {},
     "output_type": "execute_result"
    }
   ],
   "source": [
    "df.shape"
   ]
  },
  {
   "cell_type": "markdown",
   "metadata": {},
   "source": [
    "# Map Gene Symbols To Up-to-date Approved Gene Symbols"
   ]
  },
  {
   "cell_type": "code",
   "execution_count": 15,
   "metadata": {},
   "outputs": [
    {
     "name": "stdout",
     "output_type": "stream",
     "text": [
      "Progeres: 100%  69735 Out of 69735   \r"
     ]
    }
   ],
   "source": [
    "mf.mapgenesymbols(df)"
   ]
  },
  {
   "cell_type": "code",
   "execution_count": 16,
   "metadata": {},
   "outputs": [
    {
     "data": {
      "text/plain": [
       "(67957, 1)"
      ]
     },
     "execution_count": 16,
     "metadata": {},
     "output_type": "execute_result"
    }
   ],
   "source": [
    "df.shape"
   ]
  },
  {
   "cell_type": "markdown",
   "metadata": {},
   "source": [
    "# Create Binary Matrix"
   ]
  },
  {
   "cell_type": "code",
   "execution_count": 17,
   "metadata": {
    "collapsed": true
   },
   "outputs": [],
   "source": [
    "df.reset_index(inplace=True)"
   ]
  },
  {
   "cell_type": "code",
   "execution_count": 18,
   "metadata": {},
   "outputs": [
    {
     "name": "stdout",
     "output_type": "stream",
     "text": [
      "Progeres: 100%  16089 Out of 16089   \r"
     ]
    }
   ],
   "source": [
    "binary_matrix = mf.createBinaryMatix(df)"
   ]
  },
  {
   "cell_type": "code",
   "execution_count": 19,
   "metadata": {},
   "outputs": [
    {
     "data": {
      "text/html": [
       "<div>\n",
       "<table border=\"1\" class=\"dataframe\">\n",
       "  <thead>\n",
       "    <tr style=\"text-align: right;\">\n",
       "      <th></th>\n",
       "      <th>Gastroesophageal reflux disease</th>\n",
       "      <th>Protein C deficiency</th>\n",
       "      <th>Schistosomiasis</th>\n",
       "      <th>Lemierre's syndrome</th>\n",
       "      <th>Choroid cancer</th>\n",
       "      <th>Acrocephalosyndactylia</th>\n",
       "      <th>Juvenile dermatitis herpetiformis</th>\n",
       "      <th>Kidney disease</th>\n",
       "      <th>Legg-Calve-Perthes Disease</th>\n",
       "      <th>Carbuncle</th>\n",
       "      <th>...</th>\n",
       "      <th>Tinea pedis</th>\n",
       "      <th>Diffuse lipomatosis</th>\n",
       "      <th>Histidinemia</th>\n",
       "      <th>Musculoskeletal system disease</th>\n",
       "      <th>Atrioventricular block</th>\n",
       "      <th>Cerebral lipidosis</th>\n",
       "      <th>Dyspepsia</th>\n",
       "      <th>Leydig cell tumor</th>\n",
       "      <th>Peroxisomal disease</th>\n",
       "      <th>Frontal sinus cancer</th>\n",
       "    </tr>\n",
       "  </thead>\n",
       "  <tbody>\n",
       "    <tr>\n",
       "      <th>NOL4</th>\n",
       "      <td>0</td>\n",
       "      <td>0</td>\n",
       "      <td>0</td>\n",
       "      <td>0</td>\n",
       "      <td>0</td>\n",
       "      <td>0</td>\n",
       "      <td>0</td>\n",
       "      <td>0</td>\n",
       "      <td>0</td>\n",
       "      <td>0</td>\n",
       "      <td>...</td>\n",
       "      <td>0</td>\n",
       "      <td>0</td>\n",
       "      <td>0</td>\n",
       "      <td>0</td>\n",
       "      <td>0</td>\n",
       "      <td>0</td>\n",
       "      <td>0</td>\n",
       "      <td>0</td>\n",
       "      <td>0</td>\n",
       "      <td>0</td>\n",
       "    </tr>\n",
       "    <tr>\n",
       "      <th>RFLNA</th>\n",
       "      <td>0</td>\n",
       "      <td>0</td>\n",
       "      <td>0</td>\n",
       "      <td>0</td>\n",
       "      <td>0</td>\n",
       "      <td>0</td>\n",
       "      <td>0</td>\n",
       "      <td>0</td>\n",
       "      <td>0</td>\n",
       "      <td>0</td>\n",
       "      <td>...</td>\n",
       "      <td>0</td>\n",
       "      <td>0</td>\n",
       "      <td>0</td>\n",
       "      <td>0</td>\n",
       "      <td>0</td>\n",
       "      <td>0</td>\n",
       "      <td>0</td>\n",
       "      <td>0</td>\n",
       "      <td>0</td>\n",
       "      <td>0</td>\n",
       "    </tr>\n",
       "    <tr>\n",
       "      <th>OPRPN</th>\n",
       "      <td>0</td>\n",
       "      <td>0</td>\n",
       "      <td>0</td>\n",
       "      <td>0</td>\n",
       "      <td>0</td>\n",
       "      <td>0</td>\n",
       "      <td>0</td>\n",
       "      <td>0</td>\n",
       "      <td>0</td>\n",
       "      <td>0</td>\n",
       "      <td>...</td>\n",
       "      <td>0</td>\n",
       "      <td>0</td>\n",
       "      <td>0</td>\n",
       "      <td>0</td>\n",
       "      <td>0</td>\n",
       "      <td>0</td>\n",
       "      <td>0</td>\n",
       "      <td>0</td>\n",
       "      <td>0</td>\n",
       "      <td>0</td>\n",
       "    </tr>\n",
       "    <tr>\n",
       "      <th>PRPF31</th>\n",
       "      <td>0</td>\n",
       "      <td>0</td>\n",
       "      <td>0</td>\n",
       "      <td>0</td>\n",
       "      <td>0</td>\n",
       "      <td>0</td>\n",
       "      <td>0</td>\n",
       "      <td>0</td>\n",
       "      <td>0</td>\n",
       "      <td>0</td>\n",
       "      <td>...</td>\n",
       "      <td>0</td>\n",
       "      <td>0</td>\n",
       "      <td>0</td>\n",
       "      <td>0</td>\n",
       "      <td>0</td>\n",
       "      <td>0</td>\n",
       "      <td>0</td>\n",
       "      <td>0</td>\n",
       "      <td>0</td>\n",
       "      <td>0</td>\n",
       "    </tr>\n",
       "    <tr>\n",
       "      <th>CHM</th>\n",
       "      <td>0</td>\n",
       "      <td>0</td>\n",
       "      <td>0</td>\n",
       "      <td>0</td>\n",
       "      <td>0</td>\n",
       "      <td>0</td>\n",
       "      <td>0</td>\n",
       "      <td>0</td>\n",
       "      <td>0</td>\n",
       "      <td>0</td>\n",
       "      <td>...</td>\n",
       "      <td>0</td>\n",
       "      <td>0</td>\n",
       "      <td>0</td>\n",
       "      <td>0</td>\n",
       "      <td>0</td>\n",
       "      <td>0</td>\n",
       "      <td>0</td>\n",
       "      <td>0</td>\n",
       "      <td>0</td>\n",
       "      <td>0</td>\n",
       "    </tr>\n",
       "  </tbody>\n",
       "</table>\n",
       "<p>5 rows × 3690 columns</p>\n",
       "</div>"
      ],
      "text/plain": [
       "        Gastroesophageal reflux disease  Protein C deficiency  \\\n",
       "NOL4                                  0                     0   \n",
       "RFLNA                                 0                     0   \n",
       "OPRPN                                 0                     0   \n",
       "PRPF31                                0                     0   \n",
       "CHM                                   0                     0   \n",
       "\n",
       "        Schistosomiasis  Lemierre's syndrome  Choroid cancer  \\\n",
       "NOL4                  0                    0               0   \n",
       "RFLNA                 0                    0               0   \n",
       "OPRPN                 0                    0               0   \n",
       "PRPF31                0                    0               0   \n",
       "CHM                   0                    0               0   \n",
       "\n",
       "        Acrocephalosyndactylia  Juvenile dermatitis herpetiformis  \\\n",
       "NOL4                         0                                  0   \n",
       "RFLNA                        0                                  0   \n",
       "OPRPN                        0                                  0   \n",
       "PRPF31                       0                                  0   \n",
       "CHM                          0                                  0   \n",
       "\n",
       "        Kidney disease  Legg-Calve-Perthes Disease  Carbuncle  \\\n",
       "NOL4                 0                           0          0   \n",
       "RFLNA                0                           0          0   \n",
       "OPRPN                0                           0          0   \n",
       "PRPF31               0                           0          0   \n",
       "CHM                  0                           0          0   \n",
       "\n",
       "                ...           Tinea pedis  Diffuse lipomatosis  Histidinemia  \\\n",
       "NOL4            ...                     0                    0             0   \n",
       "RFLNA           ...                     0                    0             0   \n",
       "OPRPN           ...                     0                    0             0   \n",
       "PRPF31          ...                     0                    0             0   \n",
       "CHM             ...                     0                    0             0   \n",
       "\n",
       "        Musculoskeletal system disease  Atrioventricular block  \\\n",
       "NOL4                                 0                       0   \n",
       "RFLNA                                0                       0   \n",
       "OPRPN                                0                       0   \n",
       "PRPF31                               0                       0   \n",
       "CHM                                  0                       0   \n",
       "\n",
       "        Cerebral lipidosis  Dyspepsia  Leydig cell tumor  Peroxisomal disease  \\\n",
       "NOL4                     0          0                  0                    0   \n",
       "RFLNA                    0          0                  0                    0   \n",
       "OPRPN                    0          0                  0                    0   \n",
       "PRPF31                   0          0                  0                    0   \n",
       "CHM                      0          0                  0                    0   \n",
       "\n",
       "        Frontal sinus cancer  \n",
       "NOL4                       0  \n",
       "RFLNA                      0  \n",
       "OPRPN                      0  \n",
       "PRPF31                     0  \n",
       "CHM                        0  \n",
       "\n",
       "[5 rows x 3690 columns]"
      ]
     },
     "execution_count": 19,
     "metadata": {},
     "output_type": "execute_result"
    }
   ],
   "source": [
    "binary_matrix.head()"
   ]
  },
  {
   "cell_type": "code",
   "execution_count": 20,
   "metadata": {},
   "outputs": [
    {
     "data": {
      "text/plain": [
       "(16089, 3690)"
      ]
     },
     "execution_count": 20,
     "metadata": {},
     "output_type": "execute_result"
    }
   ],
   "source": [
    "binary_matrix.shape"
   ]
  },
  {
   "cell_type": "markdown",
   "metadata": {},
   "source": [
    "# Save Binary Matrix"
   ]
  },
  {
   "cell_type": "code",
   "execution_count": 21,
   "metadata": {
    "collapsed": true
   },
   "outputs": [],
   "source": [
    "filename = '~/./Documents/Harmonizome/Jensen/Disease/Output/jensen_disease_binary_matrix_%s.tsv.zip'% str(datetime.date.today())[0:7].replace('-', '_')\n",
    "binary_matrix.to_csv(filename, sep='\\t', compression='gzip')"
   ]
  },
  {
   "cell_type": "markdown",
   "metadata": {},
   "source": [
    "# Create Gene Set Library"
   ]
  },
  {
   "cell_type": "code",
   "execution_count": 22,
   "metadata": {
    "collapsed": true
   },
   "outputs": [],
   "source": [
    "path = '/Users/moshesilverstein/Documents/Harmonizome/Jensen/Disease/Output/'"
   ]
  },
  {
   "cell_type": "code",
   "execution_count": 23,
   "metadata": {
    "collapsed": true
   },
   "outputs": [],
   "source": [
    "name = 'jensen_disease_gene_set'"
   ]
  },
  {
   "cell_type": "code",
   "execution_count": 24,
   "metadata": {},
   "outputs": [
    {
     "name": "stdout",
     "output_type": "stream",
     "text": [
      "Progeres: 100%  3690 Out of 3690   \r"
     ]
    }
   ],
   "source": [
    "mf.createUpGeneSetLib(binary_matrix, path, name)"
   ]
  },
  {
   "cell_type": "markdown",
   "metadata": {},
   "source": [
    "# Create Attribute Library"
   ]
  },
  {
   "cell_type": "code",
   "execution_count": 25,
   "metadata": {
    "collapsed": true
   },
   "outputs": [],
   "source": [
    "path = '/Users/moshesilverstein/Documents/Harmonizome/Jensen/Disease/Output/'"
   ]
  },
  {
   "cell_type": "code",
   "execution_count": 26,
   "metadata": {
    "collapsed": true
   },
   "outputs": [],
   "source": [
    "name = 'jensen_disease_attribute_set'"
   ]
  },
  {
   "cell_type": "code",
   "execution_count": 27,
   "metadata": {},
   "outputs": [
    {
     "name": "stdout",
     "output_type": "stream",
     "text": [
      "Progeres: 100%  16089 Out of 16089   \r"
     ]
    }
   ],
   "source": [
    "mf.createUpAttributeSetLib(binary_matrix, path, name)"
   ]
  },
  {
   "cell_type": "markdown",
   "metadata": {},
   "source": [
    "# Create Gene Similarity Matrix"
   ]
  },
  {
   "cell_type": "code",
   "execution_count": 28,
   "metadata": {
    "collapsed": true
   },
   "outputs": [],
   "source": [
    "gene_similarity_matix = mf.createSimilarityMatrix(binary_matrix, 'jaccard')"
   ]
  },
  {
   "cell_type": "code",
   "execution_count": 29,
   "metadata": {},
   "outputs": [
    {
     "data": {
      "text/html": [
       "<div>\n",
       "<table border=\"1\" class=\"dataframe\">\n",
       "  <thead>\n",
       "    <tr style=\"text-align: right;\">\n",
       "      <th></th>\n",
       "      <th>NOL4</th>\n",
       "      <th>RFLNA</th>\n",
       "      <th>OPRPN</th>\n",
       "      <th>PRPF31</th>\n",
       "      <th>CHM</th>\n",
       "      <th>E2F8</th>\n",
       "      <th>PARPBP</th>\n",
       "      <th>NRP1</th>\n",
       "      <th>RNU11</th>\n",
       "      <th>PTDSS2</th>\n",
       "      <th>...</th>\n",
       "      <th>DYNC1I1</th>\n",
       "      <th>C14orf177</th>\n",
       "      <th>RASA3</th>\n",
       "      <th>MCCC2</th>\n",
       "      <th>TBX6</th>\n",
       "      <th>FEM1B</th>\n",
       "      <th>MGAT4B</th>\n",
       "      <th>CCDC7</th>\n",
       "      <th>CACNB2</th>\n",
       "      <th>ABCA7</th>\n",
       "    </tr>\n",
       "  </thead>\n",
       "  <tbody>\n",
       "    <tr>\n",
       "      <th>NOL4</th>\n",
       "      <td>1.000000</td>\n",
       "      <td>0.0</td>\n",
       "      <td>0.0</td>\n",
       "      <td>0.125</td>\n",
       "      <td>0.142857</td>\n",
       "      <td>0.200000</td>\n",
       "      <td>0.125000</td>\n",
       "      <td>0.166667</td>\n",
       "      <td>0.0</td>\n",
       "      <td>0.25</td>\n",
       "      <td>...</td>\n",
       "      <td>0.333333</td>\n",
       "      <td>0.0</td>\n",
       "      <td>0.285714</td>\n",
       "      <td>0.125000</td>\n",
       "      <td>0.0</td>\n",
       "      <td>0.25</td>\n",
       "      <td>0.25</td>\n",
       "      <td>0.25</td>\n",
       "      <td>0.181818</td>\n",
       "      <td>0.166667</td>\n",
       "    </tr>\n",
       "    <tr>\n",
       "      <th>RFLNA</th>\n",
       "      <td>0.000000</td>\n",
       "      <td>1.0</td>\n",
       "      <td>0.0</td>\n",
       "      <td>0.000</td>\n",
       "      <td>0.000000</td>\n",
       "      <td>0.000000</td>\n",
       "      <td>0.000000</td>\n",
       "      <td>0.000000</td>\n",
       "      <td>0.0</td>\n",
       "      <td>0.00</td>\n",
       "      <td>...</td>\n",
       "      <td>0.000000</td>\n",
       "      <td>0.0</td>\n",
       "      <td>0.000000</td>\n",
       "      <td>0.000000</td>\n",
       "      <td>0.0</td>\n",
       "      <td>0.00</td>\n",
       "      <td>0.00</td>\n",
       "      <td>0.00</td>\n",
       "      <td>0.000000</td>\n",
       "      <td>0.000000</td>\n",
       "    </tr>\n",
       "    <tr>\n",
       "      <th>OPRPN</th>\n",
       "      <td>0.000000</td>\n",
       "      <td>0.0</td>\n",
       "      <td>1.0</td>\n",
       "      <td>0.000</td>\n",
       "      <td>0.000000</td>\n",
       "      <td>0.000000</td>\n",
       "      <td>0.000000</td>\n",
       "      <td>0.000000</td>\n",
       "      <td>0.0</td>\n",
       "      <td>0.00</td>\n",
       "      <td>...</td>\n",
       "      <td>0.000000</td>\n",
       "      <td>0.0</td>\n",
       "      <td>0.000000</td>\n",
       "      <td>0.000000</td>\n",
       "      <td>0.0</td>\n",
       "      <td>0.00</td>\n",
       "      <td>0.00</td>\n",
       "      <td>0.00</td>\n",
       "      <td>0.000000</td>\n",
       "      <td>0.000000</td>\n",
       "    </tr>\n",
       "    <tr>\n",
       "      <th>PRPF31</th>\n",
       "      <td>0.125000</td>\n",
       "      <td>0.0</td>\n",
       "      <td>0.0</td>\n",
       "      <td>1.000</td>\n",
       "      <td>0.125000</td>\n",
       "      <td>0.166667</td>\n",
       "      <td>0.111111</td>\n",
       "      <td>0.142857</td>\n",
       "      <td>0.0</td>\n",
       "      <td>0.20</td>\n",
       "      <td>...</td>\n",
       "      <td>0.125000</td>\n",
       "      <td>0.0</td>\n",
       "      <td>0.111111</td>\n",
       "      <td>0.111111</td>\n",
       "      <td>0.0</td>\n",
       "      <td>0.20</td>\n",
       "      <td>0.20</td>\n",
       "      <td>0.20</td>\n",
       "      <td>0.076923</td>\n",
       "      <td>0.071429</td>\n",
       "    </tr>\n",
       "    <tr>\n",
       "      <th>CHM</th>\n",
       "      <td>0.142857</td>\n",
       "      <td>0.0</td>\n",
       "      <td>0.0</td>\n",
       "      <td>0.125</td>\n",
       "      <td>1.000000</td>\n",
       "      <td>0.200000</td>\n",
       "      <td>0.125000</td>\n",
       "      <td>0.166667</td>\n",
       "      <td>0.0</td>\n",
       "      <td>0.25</td>\n",
       "      <td>...</td>\n",
       "      <td>0.142857</td>\n",
       "      <td>0.0</td>\n",
       "      <td>0.125000</td>\n",
       "      <td>0.125000</td>\n",
       "      <td>0.0</td>\n",
       "      <td>0.25</td>\n",
       "      <td>0.25</td>\n",
       "      <td>0.25</td>\n",
       "      <td>0.083333</td>\n",
       "      <td>0.076923</td>\n",
       "    </tr>\n",
       "  </tbody>\n",
       "</table>\n",
       "<p>5 rows × 16089 columns</p>\n",
       "</div>"
      ],
      "text/plain": [
       "            NOL4  RFLNA  OPRPN  PRPF31       CHM      E2F8    PARPBP  \\\n",
       "NOL4    1.000000    0.0    0.0   0.125  0.142857  0.200000  0.125000   \n",
       "RFLNA   0.000000    1.0    0.0   0.000  0.000000  0.000000  0.000000   \n",
       "OPRPN   0.000000    0.0    1.0   0.000  0.000000  0.000000  0.000000   \n",
       "PRPF31  0.125000    0.0    0.0   1.000  0.125000  0.166667  0.111111   \n",
       "CHM     0.142857    0.0    0.0   0.125  1.000000  0.200000  0.125000   \n",
       "\n",
       "            NRP1  RNU11  PTDSS2    ...      DYNC1I1  C14orf177     RASA3  \\\n",
       "NOL4    0.166667    0.0    0.25    ...     0.333333        0.0  0.285714   \n",
       "RFLNA   0.000000    0.0    0.00    ...     0.000000        0.0  0.000000   \n",
       "OPRPN   0.000000    0.0    0.00    ...     0.000000        0.0  0.000000   \n",
       "PRPF31  0.142857    0.0    0.20    ...     0.125000        0.0  0.111111   \n",
       "CHM     0.166667    0.0    0.25    ...     0.142857        0.0  0.125000   \n",
       "\n",
       "           MCCC2  TBX6  FEM1B  MGAT4B  CCDC7    CACNB2     ABCA7  \n",
       "NOL4    0.125000   0.0   0.25    0.25   0.25  0.181818  0.166667  \n",
       "RFLNA   0.000000   0.0   0.00    0.00   0.00  0.000000  0.000000  \n",
       "OPRPN   0.000000   0.0   0.00    0.00   0.00  0.000000  0.000000  \n",
       "PRPF31  0.111111   0.0   0.20    0.20   0.20  0.076923  0.071429  \n",
       "CHM     0.125000   0.0   0.25    0.25   0.25  0.083333  0.076923  \n",
       "\n",
       "[5 rows x 16089 columns]"
      ]
     },
     "execution_count": 29,
     "metadata": {},
     "output_type": "execute_result"
    }
   ],
   "source": [
    "gene_similarity_matix.head()"
   ]
  },
  {
   "cell_type": "markdown",
   "metadata": {},
   "source": [
    "## Save Gene Similarity Matrix "
   ]
  },
  {
   "cell_type": "code",
   "execution_count": 30,
   "metadata": {
    "collapsed": true
   },
   "outputs": [],
   "source": [
    "filename = '~/./Documents/Harmonizome/Jensen/Disease/Output/jensen_disease_gene_similarity_matix_%s.tsv.zip'% str(datetime.date.today())[0:7].replace('-', '_')\n",
    "gene_similarity_matix.to_csv(filename, sep='\\t', compression='gzip')"
   ]
  },
  {
   "cell_type": "markdown",
   "metadata": {},
   "source": [
    "# Create Attribute Similarity matrix"
   ]
  },
  {
   "cell_type": "code",
   "execution_count": 31,
   "metadata": {
    "collapsed": true
   },
   "outputs": [],
   "source": [
    "attribute_similarity_matix = mf.createSimilarityMatrix(binary_matrix.T, 'jaccard')"
   ]
  },
  {
   "cell_type": "code",
   "execution_count": 32,
   "metadata": {},
   "outputs": [
    {
     "data": {
      "text/html": [
       "<div>\n",
       "<table border=\"1\" class=\"dataframe\">\n",
       "  <thead>\n",
       "    <tr style=\"text-align: right;\">\n",
       "      <th></th>\n",
       "      <th>Gastroesophageal reflux disease</th>\n",
       "      <th>Protein C deficiency</th>\n",
       "      <th>Schistosomiasis</th>\n",
       "      <th>Lemierre's syndrome</th>\n",
       "      <th>Choroid cancer</th>\n",
       "      <th>Acrocephalosyndactylia</th>\n",
       "      <th>Juvenile dermatitis herpetiformis</th>\n",
       "      <th>Kidney disease</th>\n",
       "      <th>Legg-Calve-Perthes Disease</th>\n",
       "      <th>Carbuncle</th>\n",
       "      <th>...</th>\n",
       "      <th>Tinea pedis</th>\n",
       "      <th>Diffuse lipomatosis</th>\n",
       "      <th>Histidinemia</th>\n",
       "      <th>Musculoskeletal system disease</th>\n",
       "      <th>Atrioventricular block</th>\n",
       "      <th>Cerebral lipidosis</th>\n",
       "      <th>Dyspepsia</th>\n",
       "      <th>Leydig cell tumor</th>\n",
       "      <th>Peroxisomal disease</th>\n",
       "      <th>Frontal sinus cancer</th>\n",
       "    </tr>\n",
       "  </thead>\n",
       "  <tbody>\n",
       "    <tr>\n",
       "      <th>Gastroesophageal reflux disease</th>\n",
       "      <td>1.0</td>\n",
       "      <td>0.0</td>\n",
       "      <td>0.0</td>\n",
       "      <td>0.0</td>\n",
       "      <td>0.0</td>\n",
       "      <td>0.0</td>\n",
       "      <td>0.0</td>\n",
       "      <td>0.005051</td>\n",
       "      <td>0.0</td>\n",
       "      <td>0.0</td>\n",
       "      <td>...</td>\n",
       "      <td>0.0</td>\n",
       "      <td>0.0</td>\n",
       "      <td>0.0</td>\n",
       "      <td>0.000000</td>\n",
       "      <td>0.0</td>\n",
       "      <td>0.0</td>\n",
       "      <td>0.183673</td>\n",
       "      <td>0.0</td>\n",
       "      <td>0.0</td>\n",
       "      <td>0.0</td>\n",
       "    </tr>\n",
       "    <tr>\n",
       "      <th>Protein C deficiency</th>\n",
       "      <td>0.0</td>\n",
       "      <td>1.0</td>\n",
       "      <td>0.0</td>\n",
       "      <td>0.0</td>\n",
       "      <td>0.0</td>\n",
       "      <td>0.0</td>\n",
       "      <td>0.0</td>\n",
       "      <td>0.015584</td>\n",
       "      <td>0.0</td>\n",
       "      <td>0.0</td>\n",
       "      <td>...</td>\n",
       "      <td>0.0</td>\n",
       "      <td>0.0</td>\n",
       "      <td>0.0</td>\n",
       "      <td>0.000000</td>\n",
       "      <td>0.0</td>\n",
       "      <td>0.0</td>\n",
       "      <td>0.000000</td>\n",
       "      <td>0.0</td>\n",
       "      <td>0.0</td>\n",
       "      <td>0.0</td>\n",
       "    </tr>\n",
       "    <tr>\n",
       "      <th>Schistosomiasis</th>\n",
       "      <td>0.0</td>\n",
       "      <td>0.0</td>\n",
       "      <td>1.0</td>\n",
       "      <td>0.0</td>\n",
       "      <td>0.0</td>\n",
       "      <td>0.0</td>\n",
       "      <td>0.0</td>\n",
       "      <td>0.029925</td>\n",
       "      <td>0.0</td>\n",
       "      <td>0.0</td>\n",
       "      <td>...</td>\n",
       "      <td>0.0</td>\n",
       "      <td>0.0</td>\n",
       "      <td>0.0</td>\n",
       "      <td>0.021739</td>\n",
       "      <td>0.0</td>\n",
       "      <td>0.0</td>\n",
       "      <td>0.013889</td>\n",
       "      <td>0.0</td>\n",
       "      <td>0.0</td>\n",
       "      <td>0.0</td>\n",
       "    </tr>\n",
       "    <tr>\n",
       "      <th>Lemierre's syndrome</th>\n",
       "      <td>0.0</td>\n",
       "      <td>0.0</td>\n",
       "      <td>0.0</td>\n",
       "      <td>1.0</td>\n",
       "      <td>0.0</td>\n",
       "      <td>0.0</td>\n",
       "      <td>0.0</td>\n",
       "      <td>0.000000</td>\n",
       "      <td>0.0</td>\n",
       "      <td>0.0</td>\n",
       "      <td>...</td>\n",
       "      <td>0.0</td>\n",
       "      <td>0.0</td>\n",
       "      <td>0.0</td>\n",
       "      <td>0.000000</td>\n",
       "      <td>0.0</td>\n",
       "      <td>0.0</td>\n",
       "      <td>0.000000</td>\n",
       "      <td>0.0</td>\n",
       "      <td>0.0</td>\n",
       "      <td>0.0</td>\n",
       "    </tr>\n",
       "    <tr>\n",
       "      <th>Choroid cancer</th>\n",
       "      <td>0.0</td>\n",
       "      <td>0.0</td>\n",
       "      <td>0.0</td>\n",
       "      <td>0.0</td>\n",
       "      <td>1.0</td>\n",
       "      <td>0.0</td>\n",
       "      <td>0.0</td>\n",
       "      <td>0.000000</td>\n",
       "      <td>0.0</td>\n",
       "      <td>0.0</td>\n",
       "      <td>...</td>\n",
       "      <td>0.0</td>\n",
       "      <td>0.0</td>\n",
       "      <td>0.0</td>\n",
       "      <td>0.000000</td>\n",
       "      <td>0.0</td>\n",
       "      <td>0.0</td>\n",
       "      <td>0.000000</td>\n",
       "      <td>0.0</td>\n",
       "      <td>0.0</td>\n",
       "      <td>0.0</td>\n",
       "    </tr>\n",
       "  </tbody>\n",
       "</table>\n",
       "<p>5 rows × 3690 columns</p>\n",
       "</div>"
      ],
      "text/plain": [
       "                                 Gastroesophageal reflux disease  \\\n",
       "Gastroesophageal reflux disease                              1.0   \n",
       "Protein C deficiency                                         0.0   \n",
       "Schistosomiasis                                              0.0   \n",
       "Lemierre's syndrome                                          0.0   \n",
       "Choroid cancer                                               0.0   \n",
       "\n",
       "                                 Protein C deficiency  Schistosomiasis  \\\n",
       "Gastroesophageal reflux disease                   0.0              0.0   \n",
       "Protein C deficiency                              1.0              0.0   \n",
       "Schistosomiasis                                   0.0              1.0   \n",
       "Lemierre's syndrome                               0.0              0.0   \n",
       "Choroid cancer                                    0.0              0.0   \n",
       "\n",
       "                                 Lemierre's syndrome  Choroid cancer  \\\n",
       "Gastroesophageal reflux disease                  0.0             0.0   \n",
       "Protein C deficiency                             0.0             0.0   \n",
       "Schistosomiasis                                  0.0             0.0   \n",
       "Lemierre's syndrome                              1.0             0.0   \n",
       "Choroid cancer                                   0.0             1.0   \n",
       "\n",
       "                                 Acrocephalosyndactylia  \\\n",
       "Gastroesophageal reflux disease                     0.0   \n",
       "Protein C deficiency                                0.0   \n",
       "Schistosomiasis                                     0.0   \n",
       "Lemierre's syndrome                                 0.0   \n",
       "Choroid cancer                                      0.0   \n",
       "\n",
       "                                 Juvenile dermatitis herpetiformis  \\\n",
       "Gastroesophageal reflux disease                                0.0   \n",
       "Protein C deficiency                                           0.0   \n",
       "Schistosomiasis                                                0.0   \n",
       "Lemierre's syndrome                                            0.0   \n",
       "Choroid cancer                                                 0.0   \n",
       "\n",
       "                                 Kidney disease  Legg-Calve-Perthes Disease  \\\n",
       "Gastroesophageal reflux disease        0.005051                         0.0   \n",
       "Protein C deficiency                   0.015584                         0.0   \n",
       "Schistosomiasis                        0.029925                         0.0   \n",
       "Lemierre's syndrome                    0.000000                         0.0   \n",
       "Choroid cancer                         0.000000                         0.0   \n",
       "\n",
       "                                 Carbuncle          ...           Tinea pedis  \\\n",
       "Gastroesophageal reflux disease        0.0          ...                   0.0   \n",
       "Protein C deficiency                   0.0          ...                   0.0   \n",
       "Schistosomiasis                        0.0          ...                   0.0   \n",
       "Lemierre's syndrome                    0.0          ...                   0.0   \n",
       "Choroid cancer                         0.0          ...                   0.0   \n",
       "\n",
       "                                 Diffuse lipomatosis  Histidinemia  \\\n",
       "Gastroesophageal reflux disease                  0.0           0.0   \n",
       "Protein C deficiency                             0.0           0.0   \n",
       "Schistosomiasis                                  0.0           0.0   \n",
       "Lemierre's syndrome                              0.0           0.0   \n",
       "Choroid cancer                                   0.0           0.0   \n",
       "\n",
       "                                 Musculoskeletal system disease  \\\n",
       "Gastroesophageal reflux disease                        0.000000   \n",
       "Protein C deficiency                                   0.000000   \n",
       "Schistosomiasis                                        0.021739   \n",
       "Lemierre's syndrome                                    0.000000   \n",
       "Choroid cancer                                         0.000000   \n",
       "\n",
       "                                 Atrioventricular block  Cerebral lipidosis  \\\n",
       "Gastroesophageal reflux disease                     0.0                 0.0   \n",
       "Protein C deficiency                                0.0                 0.0   \n",
       "Schistosomiasis                                     0.0                 0.0   \n",
       "Lemierre's syndrome                                 0.0                 0.0   \n",
       "Choroid cancer                                      0.0                 0.0   \n",
       "\n",
       "                                 Dyspepsia  Leydig cell tumor  \\\n",
       "Gastroesophageal reflux disease   0.183673                0.0   \n",
       "Protein C deficiency              0.000000                0.0   \n",
       "Schistosomiasis                   0.013889                0.0   \n",
       "Lemierre's syndrome               0.000000                0.0   \n",
       "Choroid cancer                    0.000000                0.0   \n",
       "\n",
       "                                 Peroxisomal disease  Frontal sinus cancer  \n",
       "Gastroesophageal reflux disease                  0.0                   0.0  \n",
       "Protein C deficiency                             0.0                   0.0  \n",
       "Schistosomiasis                                  0.0                   0.0  \n",
       "Lemierre's syndrome                              0.0                   0.0  \n",
       "Choroid cancer                                   0.0                   0.0  \n",
       "\n",
       "[5 rows x 3690 columns]"
      ]
     },
     "execution_count": 32,
     "metadata": {},
     "output_type": "execute_result"
    }
   ],
   "source": [
    "attribute_similarity_matix.head()"
   ]
  },
  {
   "cell_type": "markdown",
   "metadata": {},
   "source": [
    "## Save Attribute Similarity Matrix"
   ]
  },
  {
   "cell_type": "code",
   "execution_count": 33,
   "metadata": {
    "collapsed": true
   },
   "outputs": [],
   "source": [
    "filename = '~/./Documents/Harmonizome/Jensen/Disease/Output/jensen_disease_attribute_similarity_matix_%s.tsv.zip'% str(datetime.date.today())[0:7].replace('-', '_')\n",
    "attribute_similarity_matix.to_csv(filename, sep='\\t', compression='gzip')"
   ]
  },
  {
   "cell_type": "markdown",
   "metadata": {},
   "source": [
    "# Create Gene List"
   ]
  },
  {
   "cell_type": "code",
   "execution_count": 34,
   "metadata": {},
   "outputs": [
    {
     "name": "stdout",
     "output_type": "stream",
     "text": [
      "Progeres: 100%  16089 Out of 16089   \r"
     ]
    }
   ],
   "source": [
    "gene_list = mf.createGeneList(binary_matrix)"
   ]
  },
  {
   "cell_type": "code",
   "execution_count": 35,
   "metadata": {},
   "outputs": [
    {
     "data": {
      "text/html": [
       "<div>\n",
       "<table border=\"1\" class=\"dataframe\">\n",
       "  <thead>\n",
       "    <tr style=\"text-align: right;\">\n",
       "      <th></th>\n",
       "      <th>GeneSym</th>\n",
       "      <th>GeneID</th>\n",
       "    </tr>\n",
       "  </thead>\n",
       "  <tbody>\n",
       "    <tr>\n",
       "      <th>0</th>\n",
       "      <td>NOL4</td>\n",
       "      <td>8715</td>\n",
       "    </tr>\n",
       "    <tr>\n",
       "      <th>1</th>\n",
       "      <td>RFLNA</td>\n",
       "      <td>144347</td>\n",
       "    </tr>\n",
       "    <tr>\n",
       "      <th>2</th>\n",
       "      <td>OPRPN</td>\n",
       "      <td>58503</td>\n",
       "    </tr>\n",
       "    <tr>\n",
       "      <th>3</th>\n",
       "      <td>PRPF31</td>\n",
       "      <td>26121</td>\n",
       "    </tr>\n",
       "    <tr>\n",
       "      <th>4</th>\n",
       "      <td>CHM</td>\n",
       "      <td>1121</td>\n",
       "    </tr>\n",
       "  </tbody>\n",
       "</table>\n",
       "</div>"
      ],
      "text/plain": [
       "  GeneSym  GeneID\n",
       "0    NOL4    8715\n",
       "1   RFLNA  144347\n",
       "2   OPRPN   58503\n",
       "3  PRPF31   26121\n",
       "4     CHM    1121"
      ]
     },
     "execution_count": 35,
     "metadata": {},
     "output_type": "execute_result"
    }
   ],
   "source": [
    "gene_list.head()"
   ]
  },
  {
   "cell_type": "code",
   "execution_count": 36,
   "metadata": {},
   "outputs": [
    {
     "data": {
      "text/plain": [
       "(16089, 2)"
      ]
     },
     "execution_count": 36,
     "metadata": {},
     "output_type": "execute_result"
    }
   ],
   "source": [
    "gene_list.shape"
   ]
  },
  {
   "cell_type": "markdown",
   "metadata": {},
   "source": [
    "### Save Gene List"
   ]
  },
  {
   "cell_type": "code",
   "execution_count": 38,
   "metadata": {},
   "outputs": [],
   "source": [
    "filename = '~/./Documents/Harmonizome/Jensen/Disease/Output/jensen_disease_gene_list_%s.tsv.zip'% str(datetime.date.today())[0:7].replace('-', '_')\n",
    "gene_list.to_csv(filename, sep='\\t', index=False, compression='gzip')"
   ]
  },
  {
   "cell_type": "markdown",
   "metadata": {},
   "source": [
    "# Create Attribute List "
   ]
  },
  {
   "cell_type": "code",
   "execution_count": 39,
   "metadata": {
    "collapsed": true
   },
   "outputs": [],
   "source": [
    "attribute_list = mf.createAttributeList(binary_matrix)"
   ]
  },
  {
   "cell_type": "code",
   "execution_count": 40,
   "metadata": {},
   "outputs": [
    {
     "data": {
      "text/html": [
       "<div>\n",
       "<table border=\"1\" class=\"dataframe\">\n",
       "  <thead>\n",
       "    <tr style=\"text-align: right;\">\n",
       "      <th></th>\n",
       "      <th>Attributes</th>\n",
       "    </tr>\n",
       "  </thead>\n",
       "  <tbody>\n",
       "    <tr>\n",
       "      <th>0</th>\n",
       "      <td>Gastroesophageal reflux disease</td>\n",
       "    </tr>\n",
       "    <tr>\n",
       "      <th>1</th>\n",
       "      <td>Protein C deficiency</td>\n",
       "    </tr>\n",
       "    <tr>\n",
       "      <th>2</th>\n",
       "      <td>Schistosomiasis</td>\n",
       "    </tr>\n",
       "    <tr>\n",
       "      <th>3</th>\n",
       "      <td>Lemierre's syndrome</td>\n",
       "    </tr>\n",
       "    <tr>\n",
       "      <th>4</th>\n",
       "      <td>Choroid cancer</td>\n",
       "    </tr>\n",
       "  </tbody>\n",
       "</table>\n",
       "</div>"
      ],
      "text/plain": [
       "                        Attributes\n",
       "0  Gastroesophageal reflux disease\n",
       "1             Protein C deficiency\n",
       "2                  Schistosomiasis\n",
       "3              Lemierre's syndrome\n",
       "4                   Choroid cancer"
      ]
     },
     "execution_count": 40,
     "metadata": {},
     "output_type": "execute_result"
    }
   ],
   "source": [
    "attribute_list.head()"
   ]
  },
  {
   "cell_type": "code",
   "execution_count": 41,
   "metadata": {},
   "outputs": [
    {
     "data": {
      "text/plain": [
       "(3690, 1)"
      ]
     },
     "execution_count": 41,
     "metadata": {},
     "output_type": "execute_result"
    }
   ],
   "source": [
    "attribute_list.shape"
   ]
  },
  {
   "cell_type": "markdown",
   "metadata": {},
   "source": [
    "### Save Attribute List"
   ]
  },
  {
   "cell_type": "code",
   "execution_count": 42,
   "metadata": {
    "collapsed": true
   },
   "outputs": [],
   "source": [
    "filename = '~/./Documents/Harmonizome/Jensen/Disease/Output/jensen_disease_attribute_list_%s.tsv.zip'% str(datetime.date.today())[0:7].replace('-', '_')\n",
    "attribute_list.to_csv(filename, sep='\\t', index=False, compression='gzip')"
   ]
  },
  {
   "cell_type": "markdown",
   "metadata": {},
   "source": [
    "# Create Gene-Attribute Edge List"
   ]
  },
  {
   "cell_type": "code",
   "execution_count": 44,
   "metadata": {},
   "outputs": [
    {
     "name": "stdout",
     "output_type": "stream",
     "text": [
      "Progeres: 100%  3690 Out of 3690   \r"
     ]
    }
   ],
   "source": [
    "gene_attribute_edge_list = mf.createGeneAttributeEdgeList(binary_matrix, gene_list)"
   ]
  },
  {
   "cell_type": "code",
   "execution_count": 45,
   "metadata": {},
   "outputs": [
    {
     "data": {
      "text/html": [
       "<div>\n",
       "<table border=\"1\" class=\"dataframe\">\n",
       "  <thead>\n",
       "    <tr style=\"text-align: right;\">\n",
       "      <th></th>\n",
       "      <th>Attribute</th>\n",
       "      <th>Gene</th>\n",
       "      <th>GeneID</th>\n",
       "      <th>Weight</th>\n",
       "    </tr>\n",
       "  </thead>\n",
       "  <tbody>\n",
       "    <tr>\n",
       "      <th>0</th>\n",
       "      <td>Gastroesophageal reflux disease</td>\n",
       "      <td>NOL4</td>\n",
       "      <td>8715</td>\n",
       "      <td>0.0</td>\n",
       "    </tr>\n",
       "    <tr>\n",
       "      <th>1</th>\n",
       "      <td>Gastroesophageal reflux disease</td>\n",
       "      <td>RFLNA</td>\n",
       "      <td>144347</td>\n",
       "      <td>0.0</td>\n",
       "    </tr>\n",
       "    <tr>\n",
       "      <th>2</th>\n",
       "      <td>Gastroesophageal reflux disease</td>\n",
       "      <td>OPRPN</td>\n",
       "      <td>58503</td>\n",
       "      <td>0.0</td>\n",
       "    </tr>\n",
       "    <tr>\n",
       "      <th>3</th>\n",
       "      <td>Gastroesophageal reflux disease</td>\n",
       "      <td>PRPF31</td>\n",
       "      <td>26121</td>\n",
       "      <td>0.0</td>\n",
       "    </tr>\n",
       "    <tr>\n",
       "      <th>4</th>\n",
       "      <td>Gastroesophageal reflux disease</td>\n",
       "      <td>CHM</td>\n",
       "      <td>1121</td>\n",
       "      <td>0.0</td>\n",
       "    </tr>\n",
       "  </tbody>\n",
       "</table>\n",
       "</div>"
      ],
      "text/plain": [
       "                         Attribute    Gene  GeneID  Weight\n",
       "0  Gastroesophageal reflux disease    NOL4    8715     0.0\n",
       "1  Gastroesophageal reflux disease   RFLNA  144347     0.0\n",
       "2  Gastroesophageal reflux disease   OPRPN   58503     0.0\n",
       "3  Gastroesophageal reflux disease  PRPF31   26121     0.0\n",
       "4  Gastroesophageal reflux disease     CHM    1121     0.0"
      ]
     },
     "execution_count": 45,
     "metadata": {},
     "output_type": "execute_result"
    }
   ],
   "source": [
    "gene_attribute_edge_list.head()"
   ]
  },
  {
   "cell_type": "code",
   "execution_count": 46,
   "metadata": {},
   "outputs": [
    {
     "data": {
      "text/plain": [
       "(59368410, 4)"
      ]
     },
     "execution_count": 46,
     "metadata": {},
     "output_type": "execute_result"
    }
   ],
   "source": [
    "gene_attribute_edge_list.shape"
   ]
  },
  {
   "cell_type": "markdown",
   "metadata": {},
   "source": [
    "### Get Number of (Statistically Relevant) Gene-Attribute Associations"
   ]
  },
  {
   "cell_type": "code",
   "execution_count": 47,
   "metadata": {},
   "outputs": [
    {
     "data": {
      "text/plain": [
       "(67890, 4)"
      ]
     },
     "execution_count": 47,
     "metadata": {},
     "output_type": "execute_result"
    }
   ],
   "source": [
    "gene_attribute_edge_list[gene_attribute_edge_list['Weight'] != 0].shape"
   ]
  },
  {
   "cell_type": "markdown",
   "metadata": {},
   "source": [
    "### Save Gene-Attribute Edge List"
   ]
  },
  {
   "cell_type": "code",
   "execution_count": 48,
   "metadata": {
    "collapsed": true
   },
   "outputs": [],
   "source": [
    "filename = '~/./Documents/Harmonizome/Jensen/Disease/Output/jensen_disease_gene_attribute_edge_list_%s.tsv.zip'% str(datetime.date.today())[0:7].replace('-', '_')\n",
    "gene_attribute_edge_list.to_csv(filename, sep='\\t', index=False, compression='gzip')"
   ]
  }
 ],
 "metadata": {
  "kernelspec": {
   "display_name": "Python [default]",
   "language": "python",
   "name": "python3"
  },
  "language_info": {
   "codemirror_mode": {
    "name": "ipython",
    "version": 3
   },
   "file_extension": ".py",
   "mimetype": "text/x-python",
   "name": "python",
   "nbconvert_exporter": "python",
   "pygments_lexer": "ipython3",
   "version": "3.5.2"
  }
 },
 "nbformat": 4,
 "nbformat_minor": 2
}
