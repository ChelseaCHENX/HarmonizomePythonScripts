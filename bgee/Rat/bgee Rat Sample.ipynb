{
 "cells": [
  {
   "cell_type": "markdown",
   "metadata": {},
   "source": [
    "# bgee Rat Sample"
   ]
  },
  {
   "cell_type": "markdown",
   "metadata": {},
   "source": [
    "Author: Moshe Silverstein  \n",
    "Date: 08-18  \n",
    "Data Source Home: https://bgee.org/     \n",
    "Data Source Download: https://bgee.org/?page=download&action=expr_calls#id1 "
   ]
  },
  {
   "cell_type": "code",
   "execution_count": 1,
   "metadata": {},
   "outputs": [],
   "source": [
    "import sys, datetime, os\n",
    "import numpy as np\n",
    "import pandas as pd\n",
    "import importlib\n",
    "import utility_functions as uf\n",
    "import matplotlib.pyplot as plt\n",
    "%matplotlib inline\n",
    "from collections import Counter"
   ]
  },
  {
   "cell_type": "code",
   "execution_count": 2,
   "metadata": {},
   "outputs": [],
   "source": [
    "import seaborn as sns\n",
    "sns.set(color_codes=True)\n",
    "np.random.seed(sum(map(ord, \"distributions\")))"
   ]
  },
  {
   "cell_type": "markdown",
   "metadata": {},
   "source": [
    "# Path to Output Files"
   ]
  },
  {
   "cell_type": "code",
   "execution_count": 3,
   "metadata": {},
   "outputs": [],
   "source": [
    "path = '/Users/moshesilverstein/Documents/Harmonizome/bgee/Output/'"
   ]
  },
  {
   "cell_type": "markdown",
   "metadata": {},
   "source": [
    "# Load Data"
   ]
  },
  {
   "cell_type": "code",
   "execution_count": 4,
   "metadata": {},
   "outputs": [
    {
     "name": "stderr",
     "output_type": "stream",
     "text": [
      "/Users/moshesilverstein/anaconda3/lib/python3.6/site-packages/IPython/core/interactiveshell.py:2785: DtypeWarning: Columns (8) have mixed types. Specify dtype option on import or set low_memory=False.\n",
      "  interactivity=interactivity, compiler=compiler, result=result)\n"
     ]
    }
   ],
   "source": [
    "df = pd.read_csv('Input/Rattus_norvegicus_expr_advanced_development.tsv', sep='\\t')"
   ]
  },
  {
   "cell_type": "code",
   "execution_count": 5,
   "metadata": {},
   "outputs": [
    {
     "data": {
      "text/html": [
       "<div>\n",
       "<style scoped>\n",
       "    .dataframe tbody tr th:only-of-type {\n",
       "        vertical-align: middle;\n",
       "    }\n",
       "\n",
       "    .dataframe tbody tr th {\n",
       "        vertical-align: top;\n",
       "    }\n",
       "\n",
       "    .dataframe thead th {\n",
       "        text-align: right;\n",
       "    }\n",
       "</style>\n",
       "<table border=\"1\" class=\"dataframe\">\n",
       "  <thead>\n",
       "    <tr style=\"text-align: right;\">\n",
       "      <th></th>\n",
       "      <th>Gene ID</th>\n",
       "      <th>Gene name</th>\n",
       "      <th>Anatomical entity ID</th>\n",
       "      <th>Anatomical entity name</th>\n",
       "      <th>Developmental stage ID</th>\n",
       "      <th>Developmental stage name</th>\n",
       "      <th>Expression</th>\n",
       "      <th>Call quality</th>\n",
       "      <th>Expression rank</th>\n",
       "      <th>Including observed data</th>\n",
       "      <th>...</th>\n",
       "      <th>In situ hybridization experiment count showing expression of this gene in this condition or in sub-conditions with a low quality</th>\n",
       "      <th>In situ hybridization experiment count showing absence of expression of this gene in this condition or valid parent conditions with a high quality</th>\n",
       "      <th>In situ hybridization experiment count showing absence of expression of this gene in this condition or valid parent conditions with a low quality</th>\n",
       "      <th>Including in situ hybridization observed data</th>\n",
       "      <th>RNA-Seq data</th>\n",
       "      <th>RNA-Seq  experiment count showing expression of this gene in this condition or in sub-conditions with a high quality</th>\n",
       "      <th>RNA-Seq  experiment count showing expression of this gene in this condition or in sub-conditions with a low quality</th>\n",
       "      <th>RNA-Seq  experiment count showing absence of expression of this gene in this condition or valid parent conditions with a high quality</th>\n",
       "      <th>RNA-Seq  experiment count showing absence of expression of this gene in this condition or valid parent conditions with a low quality</th>\n",
       "      <th>Including RNA-Seq observed data</th>\n",
       "    </tr>\n",
       "  </thead>\n",
       "  <tbody>\n",
       "    <tr>\n",
       "      <th>0</th>\n",
       "      <td>ENSRNOG00000000001</td>\n",
       "      <td>AABR07013255.1</td>\n",
       "      <td>UBERON:0000082</td>\n",
       "      <td>adult mammalian kidney</td>\n",
       "      <td>UBERON:0000113</td>\n",
       "      <td>post-juvenile adult stage</td>\n",
       "      <td>present</td>\n",
       "      <td>gold quality</td>\n",
       "      <td>17400</td>\n",
       "      <td>yes</td>\n",
       "      <td>...</td>\n",
       "      <td>0</td>\n",
       "      <td>0</td>\n",
       "      <td>0</td>\n",
       "      <td>no</td>\n",
       "      <td>present</td>\n",
       "      <td>2</td>\n",
       "      <td>0</td>\n",
       "      <td>0</td>\n",
       "      <td>0</td>\n",
       "      <td>yes</td>\n",
       "    </tr>\n",
       "    <tr>\n",
       "      <th>1</th>\n",
       "      <td>ENSRNOG00000000001</td>\n",
       "      <td>AABR07013255.1</td>\n",
       "      <td>UBERON:0000473</td>\n",
       "      <td>testis</td>\n",
       "      <td>UBERON:0000113</td>\n",
       "      <td>post-juvenile adult stage</td>\n",
       "      <td>absent</td>\n",
       "      <td>silver quality</td>\n",
       "      <td>22800</td>\n",
       "      <td>yes</td>\n",
       "      <td>...</td>\n",
       "      <td>0</td>\n",
       "      <td>0</td>\n",
       "      <td>0</td>\n",
       "      <td>no</td>\n",
       "      <td>absent</td>\n",
       "      <td>0</td>\n",
       "      <td>0</td>\n",
       "      <td>1</td>\n",
       "      <td>0</td>\n",
       "      <td>yes</td>\n",
       "    </tr>\n",
       "    <tr>\n",
       "      <th>2</th>\n",
       "      <td>ENSRNOG00000000001</td>\n",
       "      <td>AABR07013255.1</td>\n",
       "      <td>UBERON:0000948</td>\n",
       "      <td>heart</td>\n",
       "      <td>UBERON:0000113</td>\n",
       "      <td>post-juvenile adult stage</td>\n",
       "      <td>present</td>\n",
       "      <td>silver quality</td>\n",
       "      <td>13400</td>\n",
       "      <td>yes</td>\n",
       "      <td>...</td>\n",
       "      <td>0</td>\n",
       "      <td>0</td>\n",
       "      <td>0</td>\n",
       "      <td>no</td>\n",
       "      <td>present</td>\n",
       "      <td>1</td>\n",
       "      <td>0</td>\n",
       "      <td>0</td>\n",
       "      <td>0</td>\n",
       "      <td>yes</td>\n",
       "    </tr>\n",
       "    <tr>\n",
       "      <th>3</th>\n",
       "      <td>ENSRNOG00000000001</td>\n",
       "      <td>AABR07013255.1</td>\n",
       "      <td>UBERON:0000955</td>\n",
       "      <td>brain</td>\n",
       "      <td>UBERON:0000113</td>\n",
       "      <td>post-juvenile adult stage</td>\n",
       "      <td>present</td>\n",
       "      <td>gold quality</td>\n",
       "      <td>16400</td>\n",
       "      <td>yes</td>\n",
       "      <td>...</td>\n",
       "      <td>0</td>\n",
       "      <td>0</td>\n",
       "      <td>0</td>\n",
       "      <td>no</td>\n",
       "      <td>present</td>\n",
       "      <td>2</td>\n",
       "      <td>0</td>\n",
       "      <td>0</td>\n",
       "      <td>0</td>\n",
       "      <td>yes</td>\n",
       "    </tr>\n",
       "    <tr>\n",
       "      <th>4</th>\n",
       "      <td>ENSRNOG00000000001</td>\n",
       "      <td>AABR07013255.1</td>\n",
       "      <td>UBERON:0001134</td>\n",
       "      <td>skeletal muscle tissue</td>\n",
       "      <td>UBERON:0000113</td>\n",
       "      <td>post-juvenile adult stage</td>\n",
       "      <td>present</td>\n",
       "      <td>silver quality</td>\n",
       "      <td>13400</td>\n",
       "      <td>yes</td>\n",
       "      <td>...</td>\n",
       "      <td>0</td>\n",
       "      <td>0</td>\n",
       "      <td>0</td>\n",
       "      <td>no</td>\n",
       "      <td>present</td>\n",
       "      <td>1</td>\n",
       "      <td>0</td>\n",
       "      <td>0</td>\n",
       "      <td>0</td>\n",
       "      <td>yes</td>\n",
       "    </tr>\n",
       "  </tbody>\n",
       "</table>\n",
       "<p>5 rows × 32 columns</p>\n",
       "</div>"
      ],
      "text/plain": [
       "              Gene ID       Gene name Anatomical entity ID  \\\n",
       "0  ENSRNOG00000000001  AABR07013255.1       UBERON:0000082   \n",
       "1  ENSRNOG00000000001  AABR07013255.1       UBERON:0000473   \n",
       "2  ENSRNOG00000000001  AABR07013255.1       UBERON:0000948   \n",
       "3  ENSRNOG00000000001  AABR07013255.1       UBERON:0000955   \n",
       "4  ENSRNOG00000000001  AABR07013255.1       UBERON:0001134   \n",
       "\n",
       "   Anatomical entity name Developmental stage ID   Developmental stage name  \\\n",
       "0  adult mammalian kidney         UBERON:0000113  post-juvenile adult stage   \n",
       "1                  testis         UBERON:0000113  post-juvenile adult stage   \n",
       "2                   heart         UBERON:0000113  post-juvenile adult stage   \n",
       "3                   brain         UBERON:0000113  post-juvenile adult stage   \n",
       "4  skeletal muscle tissue         UBERON:0000113  post-juvenile adult stage   \n",
       "\n",
       "  Expression    Call quality Expression rank Including observed data  \\\n",
       "0    present    gold quality           17400                     yes   \n",
       "1     absent  silver quality           22800                     yes   \n",
       "2    present  silver quality           13400                     yes   \n",
       "3    present    gold quality           16400                     yes   \n",
       "4    present  silver quality           13400                     yes   \n",
       "\n",
       "                ...                \\\n",
       "0               ...                 \n",
       "1               ...                 \n",
       "2               ...                 \n",
       "3               ...                 \n",
       "4               ...                 \n",
       "\n",
       "  In situ hybridization experiment count showing expression of this gene in this condition or in sub-conditions with a low quality  \\\n",
       "0                                                  0                                                                                 \n",
       "1                                                  0                                                                                 \n",
       "2                                                  0                                                                                 \n",
       "3                                                  0                                                                                 \n",
       "4                                                  0                                                                                 \n",
       "\n",
       "   In situ hybridization experiment count showing absence of expression of this gene in this condition or valid parent conditions with a high quality  \\\n",
       "0                                                  0                                                                                                    \n",
       "1                                                  0                                                                                                    \n",
       "2                                                  0                                                                                                    \n",
       "3                                                  0                                                                                                    \n",
       "4                                                  0                                                                                                    \n",
       "\n",
       "   In situ hybridization experiment count showing absence of expression of this gene in this condition or valid parent conditions with a low quality  \\\n",
       "0                                                  0                                                                                                   \n",
       "1                                                  0                                                                                                   \n",
       "2                                                  0                                                                                                   \n",
       "3                                                  0                                                                                                   \n",
       "4                                                  0                                                                                                   \n",
       "\n",
       "   Including in situ hybridization observed data  RNA-Seq data  \\\n",
       "0                                             no       present   \n",
       "1                                             no        absent   \n",
       "2                                             no       present   \n",
       "3                                             no       present   \n",
       "4                                             no       present   \n",
       "\n",
       "  RNA-Seq  experiment count showing expression of this gene in this condition or in sub-conditions with a high quality  \\\n",
       "0                                                  2                                                                     \n",
       "1                                                  0                                                                     \n",
       "2                                                  1                                                                     \n",
       "3                                                  2                                                                     \n",
       "4                                                  1                                                                     \n",
       "\n",
       "  RNA-Seq  experiment count showing expression of this gene in this condition or in sub-conditions with a low quality  \\\n",
       "0                                                  0                                                                    \n",
       "1                                                  0                                                                    \n",
       "2                                                  0                                                                    \n",
       "3                                                  0                                                                    \n",
       "4                                                  0                                                                    \n",
       "\n",
       "   RNA-Seq  experiment count showing absence of expression of this gene in this condition or valid parent conditions with a high quality  \\\n",
       "0                                                  0                                                                                       \n",
       "1                                                  1                                                                                       \n",
       "2                                                  0                                                                                       \n",
       "3                                                  0                                                                                       \n",
       "4                                                  0                                                                                       \n",
       "\n",
       "   RNA-Seq  experiment count showing absence of expression of this gene in this condition or valid parent conditions with a low quality  \\\n",
       "0                                                  0                                                                                      \n",
       "1                                                  0                                                                                      \n",
       "2                                                  0                                                                                      \n",
       "3                                                  0                                                                                      \n",
       "4                                                  0                                                                                      \n",
       "\n",
       "  Including RNA-Seq observed data  \n",
       "0                             yes  \n",
       "1                             yes  \n",
       "2                             yes  \n",
       "3                             yes  \n",
       "4                             yes  \n",
       "\n",
       "[5 rows x 32 columns]"
      ]
     },
     "execution_count": 5,
     "metadata": {},
     "output_type": "execute_result"
    }
   ],
   "source": [
    "df.head()"
   ]
  },
  {
   "cell_type": "code",
   "execution_count": 6,
   "metadata": {},
   "outputs": [
    {
     "data": {
      "text/plain": [
       "(272914, 32)"
      ]
     },
     "execution_count": 6,
     "metadata": {},
     "output_type": "execute_result"
    }
   ],
   "source": [
    "df.shape"
   ]
  },
  {
   "cell_type": "markdown",
   "metadata": {},
   "source": [
    "# Get relevant data"
   ]
  },
  {
   "cell_type": "code",
   "execution_count": 7,
   "metadata": {},
   "outputs": [],
   "source": [
    "df = df[['Gene name', 'Anatomical entity name', 'Developmental stage name', 'Expression', 'Call quality']]"
   ]
  },
  {
   "cell_type": "code",
   "execution_count": 8,
   "metadata": {},
   "outputs": [
    {
     "data": {
      "text/html": [
       "<div>\n",
       "<style scoped>\n",
       "    .dataframe tbody tr th:only-of-type {\n",
       "        vertical-align: middle;\n",
       "    }\n",
       "\n",
       "    .dataframe tbody tr th {\n",
       "        vertical-align: top;\n",
       "    }\n",
       "\n",
       "    .dataframe thead th {\n",
       "        text-align: right;\n",
       "    }\n",
       "</style>\n",
       "<table border=\"1\" class=\"dataframe\">\n",
       "  <thead>\n",
       "    <tr style=\"text-align: right;\">\n",
       "      <th></th>\n",
       "      <th>Gene name</th>\n",
       "      <th>Anatomical entity name</th>\n",
       "      <th>Developmental stage name</th>\n",
       "      <th>Expression</th>\n",
       "      <th>Call quality</th>\n",
       "    </tr>\n",
       "  </thead>\n",
       "  <tbody>\n",
       "    <tr>\n",
       "      <th>0</th>\n",
       "      <td>AABR07013255.1</td>\n",
       "      <td>adult mammalian kidney</td>\n",
       "      <td>post-juvenile adult stage</td>\n",
       "      <td>present</td>\n",
       "      <td>gold quality</td>\n",
       "    </tr>\n",
       "    <tr>\n",
       "      <th>1</th>\n",
       "      <td>AABR07013255.1</td>\n",
       "      <td>testis</td>\n",
       "      <td>post-juvenile adult stage</td>\n",
       "      <td>absent</td>\n",
       "      <td>silver quality</td>\n",
       "    </tr>\n",
       "    <tr>\n",
       "      <th>2</th>\n",
       "      <td>AABR07013255.1</td>\n",
       "      <td>heart</td>\n",
       "      <td>post-juvenile adult stage</td>\n",
       "      <td>present</td>\n",
       "      <td>silver quality</td>\n",
       "    </tr>\n",
       "    <tr>\n",
       "      <th>3</th>\n",
       "      <td>AABR07013255.1</td>\n",
       "      <td>brain</td>\n",
       "      <td>post-juvenile adult stage</td>\n",
       "      <td>present</td>\n",
       "      <td>gold quality</td>\n",
       "    </tr>\n",
       "    <tr>\n",
       "      <th>4</th>\n",
       "      <td>AABR07013255.1</td>\n",
       "      <td>skeletal muscle tissue</td>\n",
       "      <td>post-juvenile adult stage</td>\n",
       "      <td>present</td>\n",
       "      <td>silver quality</td>\n",
       "    </tr>\n",
       "  </tbody>\n",
       "</table>\n",
       "</div>"
      ],
      "text/plain": [
       "        Gene name  Anatomical entity name   Developmental stage name  \\\n",
       "0  AABR07013255.1  adult mammalian kidney  post-juvenile adult stage   \n",
       "1  AABR07013255.1                  testis  post-juvenile adult stage   \n",
       "2  AABR07013255.1                   heart  post-juvenile adult stage   \n",
       "3  AABR07013255.1                   brain  post-juvenile adult stage   \n",
       "4  AABR07013255.1  skeletal muscle tissue  post-juvenile adult stage   \n",
       "\n",
       "  Expression    Call quality  \n",
       "0    present    gold quality  \n",
       "1     absent  silver quality  \n",
       "2    present  silver quality  \n",
       "3    present    gold quality  \n",
       "4    present  silver quality  "
      ]
     },
     "execution_count": 8,
     "metadata": {},
     "output_type": "execute_result"
    }
   ],
   "source": [
    "df.head()"
   ]
  },
  {
   "cell_type": "code",
   "execution_count": 9,
   "metadata": {},
   "outputs": [],
   "source": [
    "df = df[df['Expression'] == 'present']"
   ]
  },
  {
   "cell_type": "code",
   "execution_count": 10,
   "metadata": {},
   "outputs": [],
   "source": [
    "df['Sample'] = df['Anatomical entity name'].map(str) +'_'+ df['Developmental stage name'].map(str)"
   ]
  },
  {
   "cell_type": "code",
   "execution_count": 11,
   "metadata": {},
   "outputs": [
    {
     "data": {
      "text/html": [
       "<div>\n",
       "<style scoped>\n",
       "    .dataframe tbody tr th:only-of-type {\n",
       "        vertical-align: middle;\n",
       "    }\n",
       "\n",
       "    .dataframe tbody tr th {\n",
       "        vertical-align: top;\n",
       "    }\n",
       "\n",
       "    .dataframe thead th {\n",
       "        text-align: right;\n",
       "    }\n",
       "</style>\n",
       "<table border=\"1\" class=\"dataframe\">\n",
       "  <thead>\n",
       "    <tr style=\"text-align: right;\">\n",
       "      <th></th>\n",
       "      <th>Gene name</th>\n",
       "      <th>Anatomical entity name</th>\n",
       "      <th>Developmental stage name</th>\n",
       "      <th>Expression</th>\n",
       "      <th>Call quality</th>\n",
       "      <th>Sample</th>\n",
       "    </tr>\n",
       "  </thead>\n",
       "  <tbody>\n",
       "    <tr>\n",
       "      <th>0</th>\n",
       "      <td>AABR07013255.1</td>\n",
       "      <td>adult mammalian kidney</td>\n",
       "      <td>post-juvenile adult stage</td>\n",
       "      <td>present</td>\n",
       "      <td>gold quality</td>\n",
       "      <td>adult mammalian kidney_post-juvenile adult stage</td>\n",
       "    </tr>\n",
       "    <tr>\n",
       "      <th>2</th>\n",
       "      <td>AABR07013255.1</td>\n",
       "      <td>heart</td>\n",
       "      <td>post-juvenile adult stage</td>\n",
       "      <td>present</td>\n",
       "      <td>silver quality</td>\n",
       "      <td>heart_post-juvenile adult stage</td>\n",
       "    </tr>\n",
       "    <tr>\n",
       "      <th>3</th>\n",
       "      <td>AABR07013255.1</td>\n",
       "      <td>brain</td>\n",
       "      <td>post-juvenile adult stage</td>\n",
       "      <td>present</td>\n",
       "      <td>gold quality</td>\n",
       "      <td>brain_post-juvenile adult stage</td>\n",
       "    </tr>\n",
       "    <tr>\n",
       "      <th>4</th>\n",
       "      <td>AABR07013255.1</td>\n",
       "      <td>skeletal muscle tissue</td>\n",
       "      <td>post-juvenile adult stage</td>\n",
       "      <td>present</td>\n",
       "      <td>silver quality</td>\n",
       "      <td>skeletal muscle tissue_post-juvenile adult stage</td>\n",
       "    </tr>\n",
       "    <tr>\n",
       "      <th>5</th>\n",
       "      <td>AABR07013255.1</td>\n",
       "      <td>colon</td>\n",
       "      <td>post-juvenile adult stage</td>\n",
       "      <td>present</td>\n",
       "      <td>silver quality</td>\n",
       "      <td>colon_post-juvenile adult stage</td>\n",
       "    </tr>\n",
       "  </tbody>\n",
       "</table>\n",
       "</div>"
      ],
      "text/plain": [
       "        Gene name  Anatomical entity name   Developmental stage name  \\\n",
       "0  AABR07013255.1  adult mammalian kidney  post-juvenile adult stage   \n",
       "2  AABR07013255.1                   heart  post-juvenile adult stage   \n",
       "3  AABR07013255.1                   brain  post-juvenile adult stage   \n",
       "4  AABR07013255.1  skeletal muscle tissue  post-juvenile adult stage   \n",
       "5  AABR07013255.1                   colon  post-juvenile adult stage   \n",
       "\n",
       "  Expression    Call quality                                            Sample  \n",
       "0    present    gold quality  adult mammalian kidney_post-juvenile adult stage  \n",
       "2    present  silver quality                   heart_post-juvenile adult stage  \n",
       "3    present    gold quality                   brain_post-juvenile adult stage  \n",
       "4    present  silver quality  skeletal muscle tissue_post-juvenile adult stage  \n",
       "5    present  silver quality                   colon_post-juvenile adult stage  "
      ]
     },
     "execution_count": 11,
     "metadata": {},
     "output_type": "execute_result"
    }
   ],
   "source": [
    "df.head()"
   ]
  },
  {
   "cell_type": "code",
   "execution_count": 12,
   "metadata": {},
   "outputs": [],
   "source": [
    "meta_data = df[['Sample', 'Anatomical entity name', 'Developmental stage name']].copy()"
   ]
  },
  {
   "cell_type": "code",
   "execution_count": 13,
   "metadata": {},
   "outputs": [],
   "source": [
    "meta_data.set_index('Sample', inplace=True)"
   ]
  },
  {
   "cell_type": "code",
   "execution_count": 14,
   "metadata": {},
   "outputs": [],
   "source": [
    "meta_data.drop_duplicates(inplace=True)"
   ]
  },
  {
   "cell_type": "code",
   "execution_count": 15,
   "metadata": {},
   "outputs": [
    {
     "data": {
      "text/html": [
       "<div>\n",
       "<style scoped>\n",
       "    .dataframe tbody tr th:only-of-type {\n",
       "        vertical-align: middle;\n",
       "    }\n",
       "\n",
       "    .dataframe tbody tr th {\n",
       "        vertical-align: top;\n",
       "    }\n",
       "\n",
       "    .dataframe thead th {\n",
       "        text-align: right;\n",
       "    }\n",
       "</style>\n",
       "<table border=\"1\" class=\"dataframe\">\n",
       "  <thead>\n",
       "    <tr style=\"text-align: right;\">\n",
       "      <th></th>\n",
       "      <th>Anatomical entity name</th>\n",
       "      <th>Developmental stage name</th>\n",
       "    </tr>\n",
       "    <tr>\n",
       "      <th>Sample</th>\n",
       "      <th></th>\n",
       "      <th></th>\n",
       "    </tr>\n",
       "  </thead>\n",
       "  <tbody>\n",
       "    <tr>\n",
       "      <th>adult mammalian kidney_post-juvenile adult stage</th>\n",
       "      <td>adult mammalian kidney</td>\n",
       "      <td>post-juvenile adult stage</td>\n",
       "    </tr>\n",
       "    <tr>\n",
       "      <th>heart_post-juvenile adult stage</th>\n",
       "      <td>heart</td>\n",
       "      <td>post-juvenile adult stage</td>\n",
       "    </tr>\n",
       "    <tr>\n",
       "      <th>brain_post-juvenile adult stage</th>\n",
       "      <td>brain</td>\n",
       "      <td>post-juvenile adult stage</td>\n",
       "    </tr>\n",
       "    <tr>\n",
       "      <th>skeletal muscle tissue_post-juvenile adult stage</th>\n",
       "      <td>skeletal muscle tissue</td>\n",
       "      <td>post-juvenile adult stage</td>\n",
       "    </tr>\n",
       "    <tr>\n",
       "      <th>colon_post-juvenile adult stage</th>\n",
       "      <td>colon</td>\n",
       "      <td>post-juvenile adult stage</td>\n",
       "    </tr>\n",
       "  </tbody>\n",
       "</table>\n",
       "</div>"
      ],
      "text/plain": [
       "                                                  Anatomical entity name  \\\n",
       "Sample                                                                     \n",
       "adult mammalian kidney_post-juvenile adult stage  adult mammalian kidney   \n",
       "heart_post-juvenile adult stage                                    heart   \n",
       "brain_post-juvenile adult stage                                    brain   \n",
       "skeletal muscle tissue_post-juvenile adult stage  skeletal muscle tissue   \n",
       "colon_post-juvenile adult stage                                    colon   \n",
       "\n",
       "                                                   Developmental stage name  \n",
       "Sample                                                                       \n",
       "adult mammalian kidney_post-juvenile adult stage  post-juvenile adult stage  \n",
       "heart_post-juvenile adult stage                   post-juvenile adult stage  \n",
       "brain_post-juvenile adult stage                   post-juvenile adult stage  \n",
       "skeletal muscle tissue_post-juvenile adult stage  post-juvenile adult stage  \n",
       "colon_post-juvenile adult stage                   post-juvenile adult stage  "
      ]
     },
     "execution_count": 15,
     "metadata": {},
     "output_type": "execute_result"
    }
   ],
   "source": [
    "meta_data.head()"
   ]
  },
  {
   "cell_type": "code",
   "execution_count": 16,
   "metadata": {},
   "outputs": [],
   "source": [
    "df = df[['Gene name', 'Sample']]"
   ]
  },
  {
   "cell_type": "code",
   "execution_count": 17,
   "metadata": {},
   "outputs": [
    {
     "data": {
      "text/html": [
       "<div>\n",
       "<style scoped>\n",
       "    .dataframe tbody tr th:only-of-type {\n",
       "        vertical-align: middle;\n",
       "    }\n",
       "\n",
       "    .dataframe tbody tr th {\n",
       "        vertical-align: top;\n",
       "    }\n",
       "\n",
       "    .dataframe thead th {\n",
       "        text-align: right;\n",
       "    }\n",
       "</style>\n",
       "<table border=\"1\" class=\"dataframe\">\n",
       "  <thead>\n",
       "    <tr style=\"text-align: right;\">\n",
       "      <th></th>\n",
       "      <th>Gene name</th>\n",
       "      <th>Sample</th>\n",
       "    </tr>\n",
       "  </thead>\n",
       "  <tbody>\n",
       "    <tr>\n",
       "      <th>0</th>\n",
       "      <td>AABR07013255.1</td>\n",
       "      <td>adult mammalian kidney_post-juvenile adult stage</td>\n",
       "    </tr>\n",
       "    <tr>\n",
       "      <th>2</th>\n",
       "      <td>AABR07013255.1</td>\n",
       "      <td>heart_post-juvenile adult stage</td>\n",
       "    </tr>\n",
       "    <tr>\n",
       "      <th>3</th>\n",
       "      <td>AABR07013255.1</td>\n",
       "      <td>brain_post-juvenile adult stage</td>\n",
       "    </tr>\n",
       "    <tr>\n",
       "      <th>4</th>\n",
       "      <td>AABR07013255.1</td>\n",
       "      <td>skeletal muscle tissue_post-juvenile adult stage</td>\n",
       "    </tr>\n",
       "    <tr>\n",
       "      <th>5</th>\n",
       "      <td>AABR07013255.1</td>\n",
       "      <td>colon_post-juvenile adult stage</td>\n",
       "    </tr>\n",
       "  </tbody>\n",
       "</table>\n",
       "</div>"
      ],
      "text/plain": [
       "        Gene name                                            Sample\n",
       "0  AABR07013255.1  adult mammalian kidney_post-juvenile adult stage\n",
       "2  AABR07013255.1                   heart_post-juvenile adult stage\n",
       "3  AABR07013255.1                   brain_post-juvenile adult stage\n",
       "4  AABR07013255.1  skeletal muscle tissue_post-juvenile adult stage\n",
       "5  AABR07013255.1                   colon_post-juvenile adult stage"
      ]
     },
     "execution_count": 17,
     "metadata": {},
     "output_type": "execute_result"
    }
   ],
   "source": [
    "df.head()"
   ]
  },
  {
   "cell_type": "code",
   "execution_count": 18,
   "metadata": {},
   "outputs": [
    {
     "data": {
      "text/plain": [
       "(201567, 2)"
      ]
     },
     "execution_count": 18,
     "metadata": {},
     "output_type": "execute_result"
    }
   ],
   "source": [
    "df.shape"
   ]
  },
  {
   "cell_type": "markdown",
   "metadata": {},
   "source": [
    "# Map Gene Symbols To Up-to-date Approved Gene Symbols"
   ]
  },
  {
   "cell_type": "code",
   "execution_count": 19,
   "metadata": {},
   "outputs": [],
   "source": [
    "df.set_index('Gene name', inplace=True)"
   ]
  },
  {
   "cell_type": "code",
   "execution_count": 20,
   "metadata": {},
   "outputs": [
    {
     "name": "stdout",
     "output_type": "stream",
     "text": [
      "Progeres: 100%  201567 Out of 201567   \r"
     ]
    }
   ],
   "source": [
    "uf.mapgenesymbols(df)"
   ]
  },
  {
   "cell_type": "markdown",
   "metadata": {},
   "source": [
    "# Drop Duplicates"
   ]
  },
  {
   "cell_type": "code",
   "execution_count": 21,
   "metadata": {},
   "outputs": [],
   "source": [
    "df.reset_index(inplace=True)"
   ]
  },
  {
   "cell_type": "code",
   "execution_count": 22,
   "metadata": {},
   "outputs": [],
   "source": [
    "df.drop_duplicates(inplace=True)"
   ]
  },
  {
   "cell_type": "code",
   "execution_count": 23,
   "metadata": {},
   "outputs": [
    {
     "data": {
      "text/html": [
       "<div>\n",
       "<style scoped>\n",
       "    .dataframe tbody tr th:only-of-type {\n",
       "        vertical-align: middle;\n",
       "    }\n",
       "\n",
       "    .dataframe tbody tr th {\n",
       "        vertical-align: top;\n",
       "    }\n",
       "\n",
       "    .dataframe thead th {\n",
       "        text-align: right;\n",
       "    }\n",
       "</style>\n",
       "<table border=\"1\" class=\"dataframe\">\n",
       "  <thead>\n",
       "    <tr style=\"text-align: right;\">\n",
       "      <th></th>\n",
       "      <th>Gene name</th>\n",
       "      <th>Sample</th>\n",
       "    </tr>\n",
       "  </thead>\n",
       "  <tbody>\n",
       "    <tr>\n",
       "      <th>0</th>\n",
       "      <td>GAD1</td>\n",
       "      <td>testis_post-juvenile adult stage</td>\n",
       "    </tr>\n",
       "    <tr>\n",
       "      <th>1</th>\n",
       "      <td>GAD1</td>\n",
       "      <td>heart_post-juvenile adult stage</td>\n",
       "    </tr>\n",
       "    <tr>\n",
       "      <th>2</th>\n",
       "      <td>GAD1</td>\n",
       "      <td>brain_post-juvenile adult stage</td>\n",
       "    </tr>\n",
       "    <tr>\n",
       "      <th>3</th>\n",
       "      <td>GAD1</td>\n",
       "      <td>colon_post-juvenile adult stage</td>\n",
       "    </tr>\n",
       "    <tr>\n",
       "      <th>4</th>\n",
       "      <td>GAD1</td>\n",
       "      <td>Ammon's horn_4-6-month-old stage (rat)</td>\n",
       "    </tr>\n",
       "  </tbody>\n",
       "</table>\n",
       "</div>"
      ],
      "text/plain": [
       "  Gene name                                  Sample\n",
       "0      GAD1        testis_post-juvenile adult stage\n",
       "1      GAD1         heart_post-juvenile adult stage\n",
       "2      GAD1         brain_post-juvenile adult stage\n",
       "3      GAD1         colon_post-juvenile adult stage\n",
       "4      GAD1  Ammon's horn_4-6-month-old stage (rat)"
      ]
     },
     "execution_count": 23,
     "metadata": {},
     "output_type": "execute_result"
    }
   ],
   "source": [
    "df.head()"
   ]
  },
  {
   "cell_type": "code",
   "execution_count": 24,
   "metadata": {},
   "outputs": [
    {
     "data": {
      "text/plain": [
       "(139136, 2)"
      ]
     },
     "execution_count": 24,
     "metadata": {},
     "output_type": "execute_result"
    }
   ],
   "source": [
    "df.shape"
   ]
  },
  {
   "cell_type": "markdown",
   "metadata": {},
   "source": [
    "# Create Binary Matrix"
   ]
  },
  {
   "cell_type": "code",
   "execution_count": 25,
   "metadata": {},
   "outputs": [
    {
     "name": "stdout",
     "output_type": "stream",
     "text": [
      "Progeres: 100%  15799 Out of 15799   \r"
     ]
    }
   ],
   "source": [
    "binary_matrix = uf.createBinaryMatrix(df)"
   ]
  },
  {
   "cell_type": "code",
   "execution_count": 26,
   "metadata": {},
   "outputs": [
    {
     "data": {
      "text/html": [
       "<div>\n",
       "<style scoped>\n",
       "    .dataframe tbody tr th:only-of-type {\n",
       "        vertical-align: middle;\n",
       "    }\n",
       "\n",
       "    .dataframe tbody tr th {\n",
       "        vertical-align: top;\n",
       "    }\n",
       "\n",
       "    .dataframe thead th {\n",
       "        text-align: right;\n",
       "    }\n",
       "</style>\n",
       "<table border=\"1\" class=\"dataframe\">\n",
       "  <thead>\n",
       "    <tr style=\"text-align: right;\">\n",
       "      <th></th>\n",
       "      <th>skeletal muscle tissue_post-juvenile adult stage</th>\n",
       "      <th>spleen_post-juvenile adult stage</th>\n",
       "      <th>liver_post-juvenile adult stage</th>\n",
       "      <th>testis_post-juvenile adult stage</th>\n",
       "      <th>Ammon's horn_post-juvenile adult stage</th>\n",
       "      <th>brain_post-juvenile adult stage</th>\n",
       "      <th>colon_post-juvenile adult stage</th>\n",
       "      <th>lung_post-juvenile adult stage</th>\n",
       "      <th>Ammon's horn_4-6-month-old stage (rat)</th>\n",
       "      <th>heart_post-juvenile adult stage</th>\n",
       "      <th>adult mammalian kidney_post-juvenile adult stage</th>\n",
       "    </tr>\n",
       "  </thead>\n",
       "  <tbody>\n",
       "    <tr>\n",
       "      <th>CD177</th>\n",
       "      <td>0.0</td>\n",
       "      <td>1.0</td>\n",
       "      <td>0.0</td>\n",
       "      <td>1.0</td>\n",
       "      <td>0.0</td>\n",
       "      <td>0.0</td>\n",
       "      <td>1.0</td>\n",
       "      <td>1.0</td>\n",
       "      <td>0.0</td>\n",
       "      <td>0.0</td>\n",
       "      <td>0.0</td>\n",
       "    </tr>\n",
       "    <tr>\n",
       "      <th>HTR7</th>\n",
       "      <td>1.0</td>\n",
       "      <td>1.0</td>\n",
       "      <td>0.0</td>\n",
       "      <td>0.0</td>\n",
       "      <td>0.0</td>\n",
       "      <td>1.0</td>\n",
       "      <td>1.0</td>\n",
       "      <td>0.0</td>\n",
       "      <td>0.0</td>\n",
       "      <td>0.0</td>\n",
       "      <td>1.0</td>\n",
       "    </tr>\n",
       "    <tr>\n",
       "      <th>RSL24D1</th>\n",
       "      <td>1.0</td>\n",
       "      <td>1.0</td>\n",
       "      <td>1.0</td>\n",
       "      <td>1.0</td>\n",
       "      <td>0.0</td>\n",
       "      <td>1.0</td>\n",
       "      <td>1.0</td>\n",
       "      <td>1.0</td>\n",
       "      <td>0.0</td>\n",
       "      <td>1.0</td>\n",
       "      <td>1.0</td>\n",
       "    </tr>\n",
       "    <tr>\n",
       "      <th>CKS2</th>\n",
       "      <td>1.0</td>\n",
       "      <td>1.0</td>\n",
       "      <td>1.0</td>\n",
       "      <td>1.0</td>\n",
       "      <td>1.0</td>\n",
       "      <td>1.0</td>\n",
       "      <td>1.0</td>\n",
       "      <td>1.0</td>\n",
       "      <td>0.0</td>\n",
       "      <td>1.0</td>\n",
       "      <td>1.0</td>\n",
       "    </tr>\n",
       "    <tr>\n",
       "      <th>UBE2R2</th>\n",
       "      <td>1.0</td>\n",
       "      <td>1.0</td>\n",
       "      <td>1.0</td>\n",
       "      <td>1.0</td>\n",
       "      <td>1.0</td>\n",
       "      <td>1.0</td>\n",
       "      <td>1.0</td>\n",
       "      <td>1.0</td>\n",
       "      <td>1.0</td>\n",
       "      <td>1.0</td>\n",
       "      <td>1.0</td>\n",
       "    </tr>\n",
       "  </tbody>\n",
       "</table>\n",
       "</div>"
      ],
      "text/plain": [
       "         skeletal muscle tissue_post-juvenile adult stage  \\\n",
       "CD177                                                 0.0   \n",
       "HTR7                                                  1.0   \n",
       "RSL24D1                                               1.0   \n",
       "CKS2                                                  1.0   \n",
       "UBE2R2                                                1.0   \n",
       "\n",
       "         spleen_post-juvenile adult stage  liver_post-juvenile adult stage  \\\n",
       "CD177                                 1.0                              0.0   \n",
       "HTR7                                  1.0                              0.0   \n",
       "RSL24D1                               1.0                              1.0   \n",
       "CKS2                                  1.0                              1.0   \n",
       "UBE2R2                                1.0                              1.0   \n",
       "\n",
       "         testis_post-juvenile adult stage  \\\n",
       "CD177                                 1.0   \n",
       "HTR7                                  0.0   \n",
       "RSL24D1                               1.0   \n",
       "CKS2                                  1.0   \n",
       "UBE2R2                                1.0   \n",
       "\n",
       "         Ammon's horn_post-juvenile adult stage  \\\n",
       "CD177                                       0.0   \n",
       "HTR7                                        0.0   \n",
       "RSL24D1                                     0.0   \n",
       "CKS2                                        1.0   \n",
       "UBE2R2                                      1.0   \n",
       "\n",
       "         brain_post-juvenile adult stage  colon_post-juvenile adult stage  \\\n",
       "CD177                                0.0                              1.0   \n",
       "HTR7                                 1.0                              1.0   \n",
       "RSL24D1                              1.0                              1.0   \n",
       "CKS2                                 1.0                              1.0   \n",
       "UBE2R2                               1.0                              1.0   \n",
       "\n",
       "         lung_post-juvenile adult stage  \\\n",
       "CD177                               1.0   \n",
       "HTR7                                0.0   \n",
       "RSL24D1                             1.0   \n",
       "CKS2                                1.0   \n",
       "UBE2R2                              1.0   \n",
       "\n",
       "         Ammon's horn_4-6-month-old stage (rat)  \\\n",
       "CD177                                       0.0   \n",
       "HTR7                                        0.0   \n",
       "RSL24D1                                     0.0   \n",
       "CKS2                                        0.0   \n",
       "UBE2R2                                      1.0   \n",
       "\n",
       "         heart_post-juvenile adult stage  \\\n",
       "CD177                                0.0   \n",
       "HTR7                                 0.0   \n",
       "RSL24D1                              1.0   \n",
       "CKS2                                 1.0   \n",
       "UBE2R2                               1.0   \n",
       "\n",
       "         adult mammalian kidney_post-juvenile adult stage  \n",
       "CD177                                                 0.0  \n",
       "HTR7                                                  1.0  \n",
       "RSL24D1                                               1.0  \n",
       "CKS2                                                  1.0  \n",
       "UBE2R2                                                1.0  "
      ]
     },
     "execution_count": 26,
     "metadata": {},
     "output_type": "execute_result"
    }
   ],
   "source": [
    "binary_matrix.head()"
   ]
  },
  {
   "cell_type": "code",
   "execution_count": 27,
   "metadata": {},
   "outputs": [
    {
     "data": {
      "text/plain": [
       "(15799, 11)"
      ]
     },
     "execution_count": 27,
     "metadata": {},
     "output_type": "execute_result"
    }
   ],
   "source": [
    "binary_matrix.shape"
   ]
  },
  {
   "cell_type": "markdown",
   "metadata": {},
   "source": [
    "# Save Binary Matrix"
   ]
  },
  {
   "cell_type": "code",
   "execution_count": 28,
   "metadata": {},
   "outputs": [],
   "source": [
    "filename = path+'bgee_rat_sample_binary_matrix_%s.tsv.zip'% str(datetime.date.today())[0:7].replace('-', '_')\n",
    "binary_matrix.to_csv(filename, sep='\\t', compression='gzip')"
   ]
  },
  {
   "cell_type": "markdown",
   "metadata": {},
   "source": [
    "# Create Gene Set Library"
   ]
  },
  {
   "cell_type": "code",
   "execution_count": 29,
   "metadata": {},
   "outputs": [],
   "source": [
    "name = 'bgee_rat_sample_gene_set'"
   ]
  },
  {
   "cell_type": "code",
   "execution_count": 30,
   "metadata": {},
   "outputs": [
    {
     "name": "stdout",
     "output_type": "stream",
     "text": [
      "Progeres: 100%  11 Out of 11   \r"
     ]
    }
   ],
   "source": [
    "uf.createUpGeneSetLib(binary_matrix, path, name)"
   ]
  },
  {
   "cell_type": "markdown",
   "metadata": {},
   "source": [
    "# Create Attribute Library"
   ]
  },
  {
   "cell_type": "code",
   "execution_count": 31,
   "metadata": {},
   "outputs": [],
   "source": [
    "name = 'bgee_rat_sample_attribute_set'"
   ]
  },
  {
   "cell_type": "code",
   "execution_count": 32,
   "metadata": {},
   "outputs": [
    {
     "name": "stdout",
     "output_type": "stream",
     "text": [
      "Progeres: 100%  15799 Out of 15799   \r"
     ]
    }
   ],
   "source": [
    "uf.createUpAttributeSetLib(binary_matrix, path, name)"
   ]
  },
  {
   "cell_type": "markdown",
   "metadata": {},
   "source": [
    "# Create Gene List"
   ]
  },
  {
   "cell_type": "code",
   "execution_count": 33,
   "metadata": {},
   "outputs": [
    {
     "name": "stdout",
     "output_type": "stream",
     "text": [
      "Progeres: 100%  15799 Out of 15799   \r"
     ]
    }
   ],
   "source": [
    "gene_list = uf.createGeneList(binary_matrix)"
   ]
  },
  {
   "cell_type": "code",
   "execution_count": 34,
   "metadata": {},
   "outputs": [
    {
     "data": {
      "text/html": [
       "<div>\n",
       "<style scoped>\n",
       "    .dataframe tbody tr th:only-of-type {\n",
       "        vertical-align: middle;\n",
       "    }\n",
       "\n",
       "    .dataframe tbody tr th {\n",
       "        vertical-align: top;\n",
       "    }\n",
       "\n",
       "    .dataframe thead th {\n",
       "        text-align: right;\n",
       "    }\n",
       "</style>\n",
       "<table border=\"1\" class=\"dataframe\">\n",
       "  <thead>\n",
       "    <tr style=\"text-align: right;\">\n",
       "      <th></th>\n",
       "      <th>GeneSym</th>\n",
       "      <th>GeneID</th>\n",
       "    </tr>\n",
       "  </thead>\n",
       "  <tbody>\n",
       "    <tr>\n",
       "      <th>0</th>\n",
       "      <td>CD177</td>\n",
       "      <td>57126</td>\n",
       "    </tr>\n",
       "    <tr>\n",
       "      <th>1</th>\n",
       "      <td>HTR7</td>\n",
       "      <td>3363</td>\n",
       "    </tr>\n",
       "    <tr>\n",
       "      <th>2</th>\n",
       "      <td>RSL24D1</td>\n",
       "      <td>51187</td>\n",
       "    </tr>\n",
       "    <tr>\n",
       "      <th>3</th>\n",
       "      <td>CKS2</td>\n",
       "      <td>1164</td>\n",
       "    </tr>\n",
       "    <tr>\n",
       "      <th>4</th>\n",
       "      <td>UBE2R2</td>\n",
       "      <td>54926</td>\n",
       "    </tr>\n",
       "  </tbody>\n",
       "</table>\n",
       "</div>"
      ],
      "text/plain": [
       "   GeneSym GeneID\n",
       "0    CD177  57126\n",
       "1     HTR7   3363\n",
       "2  RSL24D1  51187\n",
       "3     CKS2   1164\n",
       "4   UBE2R2  54926"
      ]
     },
     "execution_count": 34,
     "metadata": {},
     "output_type": "execute_result"
    }
   ],
   "source": [
    "gene_list.head()"
   ]
  },
  {
   "cell_type": "code",
   "execution_count": 35,
   "metadata": {},
   "outputs": [
    {
     "data": {
      "text/plain": [
       "(15799, 2)"
      ]
     },
     "execution_count": 35,
     "metadata": {},
     "output_type": "execute_result"
    }
   ],
   "source": [
    "gene_list.shape"
   ]
  },
  {
   "cell_type": "markdown",
   "metadata": {},
   "source": [
    "# Save Gene List"
   ]
  },
  {
   "cell_type": "code",
   "execution_count": 36,
   "metadata": {},
   "outputs": [],
   "source": [
    "filename = path+'bgee_rat_sample_gene_list_%s.tsv.zip'% str(datetime.date.today())[0:7].replace('-', '_')\n",
    "gene_list.to_csv(filename, sep='\\t', index=False, compression='gzip')"
   ]
  },
  {
   "cell_type": "markdown",
   "metadata": {},
   "source": [
    "# Create Attribute List"
   ]
  },
  {
   "cell_type": "code",
   "execution_count": 37,
   "metadata": {},
   "outputs": [
    {
     "name": "stdout",
     "output_type": "stream",
     "text": [
      "Progeres: 100%  11 Out of 11   \r"
     ]
    }
   ],
   "source": [
    "attribute_list = uf.createAttributeList(binary_matrix, metaData=meta_data)"
   ]
  },
  {
   "cell_type": "code",
   "execution_count": 38,
   "metadata": {},
   "outputs": [
    {
     "data": {
      "text/html": [
       "<div>\n",
       "<style scoped>\n",
       "    .dataframe tbody tr th:only-of-type {\n",
       "        vertical-align: middle;\n",
       "    }\n",
       "\n",
       "    .dataframe tbody tr th {\n",
       "        vertical-align: top;\n",
       "    }\n",
       "\n",
       "    .dataframe thead th {\n",
       "        text-align: right;\n",
       "    }\n",
       "</style>\n",
       "<table border=\"1\" class=\"dataframe\">\n",
       "  <thead>\n",
       "    <tr style=\"text-align: right;\">\n",
       "      <th></th>\n",
       "      <th>Anatomical entity name</th>\n",
       "      <th>Developmental stage name</th>\n",
       "    </tr>\n",
       "    <tr>\n",
       "      <th>Attributes</th>\n",
       "      <th></th>\n",
       "      <th></th>\n",
       "    </tr>\n",
       "  </thead>\n",
       "  <tbody>\n",
       "    <tr>\n",
       "      <th>skeletal muscle tissue_post-juvenile adult stage</th>\n",
       "      <td>skeletal muscle tissue</td>\n",
       "      <td>post-juvenile adult stage</td>\n",
       "    </tr>\n",
       "    <tr>\n",
       "      <th>spleen_post-juvenile adult stage</th>\n",
       "      <td>spleen</td>\n",
       "      <td>post-juvenile adult stage</td>\n",
       "    </tr>\n",
       "    <tr>\n",
       "      <th>liver_post-juvenile adult stage</th>\n",
       "      <td>liver</td>\n",
       "      <td>post-juvenile adult stage</td>\n",
       "    </tr>\n",
       "    <tr>\n",
       "      <th>testis_post-juvenile adult stage</th>\n",
       "      <td>testis</td>\n",
       "      <td>post-juvenile adult stage</td>\n",
       "    </tr>\n",
       "    <tr>\n",
       "      <th>Ammon's horn_post-juvenile adult stage</th>\n",
       "      <td>Ammon's horn</td>\n",
       "      <td>post-juvenile adult stage</td>\n",
       "    </tr>\n",
       "  </tbody>\n",
       "</table>\n",
       "</div>"
      ],
      "text/plain": [
       "                                                  Anatomical entity name  \\\n",
       "Attributes                                                                 \n",
       "skeletal muscle tissue_post-juvenile adult stage  skeletal muscle tissue   \n",
       "spleen_post-juvenile adult stage                                  spleen   \n",
       "liver_post-juvenile adult stage                                    liver   \n",
       "testis_post-juvenile adult stage                                  testis   \n",
       "Ammon's horn_post-juvenile adult stage                      Ammon's horn   \n",
       "\n",
       "                                                   Developmental stage name  \n",
       "Attributes                                                                   \n",
       "skeletal muscle tissue_post-juvenile adult stage  post-juvenile adult stage  \n",
       "spleen_post-juvenile adult stage                  post-juvenile adult stage  \n",
       "liver_post-juvenile adult stage                   post-juvenile adult stage  \n",
       "testis_post-juvenile adult stage                  post-juvenile adult stage  \n",
       "Ammon's horn_post-juvenile adult stage            post-juvenile adult stage  "
      ]
     },
     "execution_count": 38,
     "metadata": {},
     "output_type": "execute_result"
    }
   ],
   "source": [
    "attribute_list.head()"
   ]
  },
  {
   "cell_type": "code",
   "execution_count": 39,
   "metadata": {},
   "outputs": [
    {
     "data": {
      "text/plain": [
       "(11, 2)"
      ]
     },
     "execution_count": 39,
     "metadata": {},
     "output_type": "execute_result"
    }
   ],
   "source": [
    "attribute_list.shape"
   ]
  },
  {
   "cell_type": "markdown",
   "metadata": {},
   "source": [
    "# Save Attribute List"
   ]
  },
  {
   "cell_type": "code",
   "execution_count": 40,
   "metadata": {},
   "outputs": [],
   "source": [
    "filename = path+'bgee_rat_sample_attribute_list_%s.tsv.zip'% str(datetime.date.today())[0:7].replace('-', '_')\n",
    "attribute_list.to_csv(filename, sep='\\t', index=False, compression='gzip')"
   ]
  },
  {
   "cell_type": "markdown",
   "metadata": {},
   "source": [
    "# Create Attribute Similarity matrix"
   ]
  },
  {
   "cell_type": "code",
   "execution_count": 41,
   "metadata": {},
   "outputs": [],
   "source": [
    "attribute_similarity_matix = uf.createSimilarityMatrix(binary_matrix.T, 'jaccard')"
   ]
  },
  {
   "cell_type": "code",
   "execution_count": 42,
   "metadata": {},
   "outputs": [
    {
     "data": {
      "text/html": [
       "<div>\n",
       "<style scoped>\n",
       "    .dataframe tbody tr th:only-of-type {\n",
       "        vertical-align: middle;\n",
       "    }\n",
       "\n",
       "    .dataframe tbody tr th {\n",
       "        vertical-align: top;\n",
       "    }\n",
       "\n",
       "    .dataframe thead th {\n",
       "        text-align: right;\n",
       "    }\n",
       "</style>\n",
       "<table border=\"1\" class=\"dataframe\">\n",
       "  <thead>\n",
       "    <tr style=\"text-align: right;\">\n",
       "      <th></th>\n",
       "      <th>skeletal muscle tissue_post-juvenile adult stage</th>\n",
       "      <th>spleen_post-juvenile adult stage</th>\n",
       "      <th>liver_post-juvenile adult stage</th>\n",
       "      <th>testis_post-juvenile adult stage</th>\n",
       "      <th>Ammon's horn_post-juvenile adult stage</th>\n",
       "      <th>brain_post-juvenile adult stage</th>\n",
       "      <th>colon_post-juvenile adult stage</th>\n",
       "      <th>lung_post-juvenile adult stage</th>\n",
       "      <th>Ammon's horn_4-6-month-old stage (rat)</th>\n",
       "      <th>heart_post-juvenile adult stage</th>\n",
       "      <th>adult mammalian kidney_post-juvenile adult stage</th>\n",
       "    </tr>\n",
       "    <tr>\n",
       "      <th></th>\n",
       "      <th></th>\n",
       "      <th></th>\n",
       "      <th></th>\n",
       "      <th></th>\n",
       "      <th></th>\n",
       "      <th></th>\n",
       "      <th></th>\n",
       "      <th></th>\n",
       "      <th></th>\n",
       "      <th></th>\n",
       "      <th></th>\n",
       "    </tr>\n",
       "  </thead>\n",
       "  <tbody>\n",
       "    <tr>\n",
       "      <th>skeletal muscle tissue_post-juvenile adult stage</th>\n",
       "      <td>1.000000</td>\n",
       "      <td>0.888843</td>\n",
       "      <td>0.871915</td>\n",
       "      <td>0.868675</td>\n",
       "      <td>0.463616</td>\n",
       "      <td>0.885579</td>\n",
       "      <td>0.893073</td>\n",
       "      <td>0.896969</td>\n",
       "      <td>0.437023</td>\n",
       "      <td>0.913377</td>\n",
       "      <td>0.898518</td>\n",
       "    </tr>\n",
       "    <tr>\n",
       "      <th>spleen_post-juvenile adult stage</th>\n",
       "      <td>0.888843</td>\n",
       "      <td>1.000000</td>\n",
       "      <td>0.897345</td>\n",
       "      <td>0.854460</td>\n",
       "      <td>0.465066</td>\n",
       "      <td>0.871564</td>\n",
       "      <td>0.905771</td>\n",
       "      <td>0.910662</td>\n",
       "      <td>0.438288</td>\n",
       "      <td>0.902607</td>\n",
       "      <td>0.896272</td>\n",
       "    </tr>\n",
       "    <tr>\n",
       "      <th>liver_post-juvenile adult stage</th>\n",
       "      <td>0.871915</td>\n",
       "      <td>0.897345</td>\n",
       "      <td>1.000000</td>\n",
       "      <td>0.844225</td>\n",
       "      <td>0.467595</td>\n",
       "      <td>0.858542</td>\n",
       "      <td>0.884728</td>\n",
       "      <td>0.890806</td>\n",
       "      <td>0.441196</td>\n",
       "      <td>0.888312</td>\n",
       "      <td>0.894913</td>\n",
       "    </tr>\n",
       "    <tr>\n",
       "      <th>testis_post-juvenile adult stage</th>\n",
       "      <td>0.868675</td>\n",
       "      <td>0.854460</td>\n",
       "      <td>0.844225</td>\n",
       "      <td>1.000000</td>\n",
       "      <td>0.451111</td>\n",
       "      <td>0.882017</td>\n",
       "      <td>0.872455</td>\n",
       "      <td>0.873434</td>\n",
       "      <td>0.426275</td>\n",
       "      <td>0.857143</td>\n",
       "      <td>0.878317</td>\n",
       "    </tr>\n",
       "    <tr>\n",
       "      <th>Ammon's horn_post-juvenile adult stage</th>\n",
       "      <td>0.463616</td>\n",
       "      <td>0.465066</td>\n",
       "      <td>0.467595</td>\n",
       "      <td>0.451111</td>\n",
       "      <td>1.000000</td>\n",
       "      <td>0.453462</td>\n",
       "      <td>0.455767</td>\n",
       "      <td>0.455819</td>\n",
       "      <td>0.940448</td>\n",
       "      <td>0.468741</td>\n",
       "      <td>0.449932</td>\n",
       "    </tr>\n",
       "  </tbody>\n",
       "</table>\n",
       "</div>"
      ],
      "text/plain": [
       "                                                  skeletal muscle tissue_post-juvenile adult stage  \\\n",
       "                                                                                                     \n",
       "skeletal muscle tissue_post-juvenile adult stage                                          1.000000   \n",
       "spleen_post-juvenile adult stage                                                          0.888843   \n",
       "liver_post-juvenile adult stage                                                           0.871915   \n",
       "testis_post-juvenile adult stage                                                          0.868675   \n",
       "Ammon's horn_post-juvenile adult stage                                                    0.463616   \n",
       "\n",
       "                                                  spleen_post-juvenile adult stage  \\\n",
       "                                                                                     \n",
       "skeletal muscle tissue_post-juvenile adult stage                          0.888843   \n",
       "spleen_post-juvenile adult stage                                          1.000000   \n",
       "liver_post-juvenile adult stage                                           0.897345   \n",
       "testis_post-juvenile adult stage                                          0.854460   \n",
       "Ammon's horn_post-juvenile adult stage                                    0.465066   \n",
       "\n",
       "                                                  liver_post-juvenile adult stage  \\\n",
       "                                                                                    \n",
       "skeletal muscle tissue_post-juvenile adult stage                         0.871915   \n",
       "spleen_post-juvenile adult stage                                         0.897345   \n",
       "liver_post-juvenile adult stage                                          1.000000   \n",
       "testis_post-juvenile adult stage                                         0.844225   \n",
       "Ammon's horn_post-juvenile adult stage                                   0.467595   \n",
       "\n",
       "                                                  testis_post-juvenile adult stage  \\\n",
       "                                                                                     \n",
       "skeletal muscle tissue_post-juvenile adult stage                          0.868675   \n",
       "spleen_post-juvenile adult stage                                          0.854460   \n",
       "liver_post-juvenile adult stage                                           0.844225   \n",
       "testis_post-juvenile adult stage                                          1.000000   \n",
       "Ammon's horn_post-juvenile adult stage                                    0.451111   \n",
       "\n",
       "                                                  Ammon's horn_post-juvenile adult stage  \\\n",
       "                                                                                           \n",
       "skeletal muscle tissue_post-juvenile adult stage                                0.463616   \n",
       "spleen_post-juvenile adult stage                                                0.465066   \n",
       "liver_post-juvenile adult stage                                                 0.467595   \n",
       "testis_post-juvenile adult stage                                                0.451111   \n",
       "Ammon's horn_post-juvenile adult stage                                          1.000000   \n",
       "\n",
       "                                                  brain_post-juvenile adult stage  \\\n",
       "                                                                                    \n",
       "skeletal muscle tissue_post-juvenile adult stage                         0.885579   \n",
       "spleen_post-juvenile adult stage                                         0.871564   \n",
       "liver_post-juvenile adult stage                                          0.858542   \n",
       "testis_post-juvenile adult stage                                         0.882017   \n",
       "Ammon's horn_post-juvenile adult stage                                   0.453462   \n",
       "\n",
       "                                                  colon_post-juvenile adult stage  \\\n",
       "                                                                                    \n",
       "skeletal muscle tissue_post-juvenile adult stage                         0.893073   \n",
       "spleen_post-juvenile adult stage                                         0.905771   \n",
       "liver_post-juvenile adult stage                                          0.884728   \n",
       "testis_post-juvenile adult stage                                         0.872455   \n",
       "Ammon's horn_post-juvenile adult stage                                   0.455767   \n",
       "\n",
       "                                                  lung_post-juvenile adult stage  \\\n",
       "                                                                                   \n",
       "skeletal muscle tissue_post-juvenile adult stage                        0.896969   \n",
       "spleen_post-juvenile adult stage                                        0.910662   \n",
       "liver_post-juvenile adult stage                                         0.890806   \n",
       "testis_post-juvenile adult stage                                        0.873434   \n",
       "Ammon's horn_post-juvenile adult stage                                  0.455819   \n",
       "\n",
       "                                                  Ammon's horn_4-6-month-old stage (rat)  \\\n",
       "                                                                                           \n",
       "skeletal muscle tissue_post-juvenile adult stage                                0.437023   \n",
       "spleen_post-juvenile adult stage                                                0.438288   \n",
       "liver_post-juvenile adult stage                                                 0.441196   \n",
       "testis_post-juvenile adult stage                                                0.426275   \n",
       "Ammon's horn_post-juvenile adult stage                                          0.940448   \n",
       "\n",
       "                                                  heart_post-juvenile adult stage  \\\n",
       "                                                                                    \n",
       "skeletal muscle tissue_post-juvenile adult stage                         0.913377   \n",
       "spleen_post-juvenile adult stage                                         0.902607   \n",
       "liver_post-juvenile adult stage                                          0.888312   \n",
       "testis_post-juvenile adult stage                                         0.857143   \n",
       "Ammon's horn_post-juvenile adult stage                                   0.468741   \n",
       "\n",
       "                                                  adult mammalian kidney_post-juvenile adult stage  \n",
       "                                                                                                    \n",
       "skeletal muscle tissue_post-juvenile adult stage                                          0.898518  \n",
       "spleen_post-juvenile adult stage                                                          0.896272  \n",
       "liver_post-juvenile adult stage                                                           0.894913  \n",
       "testis_post-juvenile adult stage                                                          0.878317  \n",
       "Ammon's horn_post-juvenile adult stage                                                    0.449932  "
      ]
     },
     "execution_count": 42,
     "metadata": {},
     "output_type": "execute_result"
    }
   ],
   "source": [
    "attribute_similarity_matix.head()"
   ]
  },
  {
   "cell_type": "code",
   "execution_count": 43,
   "metadata": {},
   "outputs": [
    {
     "data": {
      "text/plain": [
       "(11, 11)"
      ]
     },
     "execution_count": 43,
     "metadata": {},
     "output_type": "execute_result"
    }
   ],
   "source": [
    "attribute_similarity_matix.shape"
   ]
  },
  {
   "cell_type": "markdown",
   "metadata": {},
   "source": [
    "# Save Attribute Similarity Matrix"
   ]
  },
  {
   "cell_type": "code",
   "execution_count": 44,
   "metadata": {},
   "outputs": [],
   "source": [
    "filename = path+'bgee_rat_sample_attribute_similarity_matix_%s.tsv.zip'% str(datetime.date.today())[0:7].replace('-', '_')\n",
    "attribute_similarity_matix.to_csv(filename, sep='\\t', compression='gzip')"
   ]
  },
  {
   "cell_type": "markdown",
   "metadata": {},
   "source": [
    "# Create Gene Similarity Matrix"
   ]
  },
  {
   "cell_type": "code",
   "execution_count": 45,
   "metadata": {},
   "outputs": [],
   "source": [
    "gene_similarity_matix = uf.createSimilarityMatrix(binary_matrix, 'jaccard')"
   ]
  },
  {
   "cell_type": "code",
   "execution_count": 46,
   "metadata": {},
   "outputs": [
    {
     "data": {
      "text/html": [
       "<div>\n",
       "<style scoped>\n",
       "    .dataframe tbody tr th:only-of-type {\n",
       "        vertical-align: middle;\n",
       "    }\n",
       "\n",
       "    .dataframe tbody tr th {\n",
       "        vertical-align: top;\n",
       "    }\n",
       "\n",
       "    .dataframe thead th {\n",
       "        text-align: right;\n",
       "    }\n",
       "</style>\n",
       "<table border=\"1\" class=\"dataframe\">\n",
       "  <thead>\n",
       "    <tr style=\"text-align: right;\">\n",
       "      <th></th>\n",
       "      <th>CD177</th>\n",
       "      <th>HTR7</th>\n",
       "      <th>RSL24D1</th>\n",
       "      <th>CKS2</th>\n",
       "      <th>UBE2R2</th>\n",
       "      <th>INCA1</th>\n",
       "      <th>SOS2</th>\n",
       "      <th>TTC23</th>\n",
       "      <th>UQCRQ</th>\n",
       "      <th>HIST3H2A</th>\n",
       "      <th>...</th>\n",
       "      <th>MFRP</th>\n",
       "      <th>UMODL1</th>\n",
       "      <th>DYNLL2</th>\n",
       "      <th>BCL7A</th>\n",
       "      <th>MINDY1</th>\n",
       "      <th>POLG</th>\n",
       "      <th>OXLD1</th>\n",
       "      <th>MICAL1</th>\n",
       "      <th>MCMDC2</th>\n",
       "      <th>PLA2R1</th>\n",
       "    </tr>\n",
       "    <tr>\n",
       "      <th></th>\n",
       "      <th></th>\n",
       "      <th></th>\n",
       "      <th></th>\n",
       "      <th></th>\n",
       "      <th></th>\n",
       "      <th></th>\n",
       "      <th></th>\n",
       "      <th></th>\n",
       "      <th></th>\n",
       "      <th></th>\n",
       "      <th></th>\n",
       "      <th></th>\n",
       "      <th></th>\n",
       "      <th></th>\n",
       "      <th></th>\n",
       "      <th></th>\n",
       "      <th></th>\n",
       "      <th></th>\n",
       "      <th></th>\n",
       "      <th></th>\n",
       "      <th></th>\n",
       "    </tr>\n",
       "  </thead>\n",
       "  <tbody>\n",
       "    <tr>\n",
       "      <th>CD177</th>\n",
       "      <td>1.000000</td>\n",
       "      <td>0.285714</td>\n",
       "      <td>0.444444</td>\n",
       "      <td>0.400000</td>\n",
       "      <td>0.363636</td>\n",
       "      <td>0.444444</td>\n",
       "      <td>0.363636</td>\n",
       "      <td>0.444444</td>\n",
       "      <td>0.363636</td>\n",
       "      <td>0.285714</td>\n",
       "      <td>...</td>\n",
       "      <td>0.571429</td>\n",
       "      <td>0.000000</td>\n",
       "      <td>0.363636</td>\n",
       "      <td>0.444444</td>\n",
       "      <td>0.363636</td>\n",
       "      <td>0.444444</td>\n",
       "      <td>0.444444</td>\n",
       "      <td>0.444444</td>\n",
       "      <td>0.444444</td>\n",
       "      <td>0.444444</td>\n",
       "    </tr>\n",
       "    <tr>\n",
       "      <th>HTR7</th>\n",
       "      <td>0.285714</td>\n",
       "      <td>1.000000</td>\n",
       "      <td>0.555556</td>\n",
       "      <td>0.500000</td>\n",
       "      <td>0.454545</td>\n",
       "      <td>0.555556</td>\n",
       "      <td>0.454545</td>\n",
       "      <td>0.555556</td>\n",
       "      <td>0.454545</td>\n",
       "      <td>0.250000</td>\n",
       "      <td>...</td>\n",
       "      <td>0.714286</td>\n",
       "      <td>0.400000</td>\n",
       "      <td>0.454545</td>\n",
       "      <td>0.555556</td>\n",
       "      <td>0.454545</td>\n",
       "      <td>0.555556</td>\n",
       "      <td>0.555556</td>\n",
       "      <td>0.555556</td>\n",
       "      <td>0.555556</td>\n",
       "      <td>0.555556</td>\n",
       "    </tr>\n",
       "    <tr>\n",
       "      <th>RSL24D1</th>\n",
       "      <td>0.444444</td>\n",
       "      <td>0.555556</td>\n",
       "      <td>1.000000</td>\n",
       "      <td>0.900000</td>\n",
       "      <td>0.818182</td>\n",
       "      <td>1.000000</td>\n",
       "      <td>0.818182</td>\n",
       "      <td>1.000000</td>\n",
       "      <td>0.818182</td>\n",
       "      <td>0.555556</td>\n",
       "      <td>...</td>\n",
       "      <td>0.777778</td>\n",
       "      <td>0.222222</td>\n",
       "      <td>0.818182</td>\n",
       "      <td>1.000000</td>\n",
       "      <td>0.818182</td>\n",
       "      <td>1.000000</td>\n",
       "      <td>1.000000</td>\n",
       "      <td>1.000000</td>\n",
       "      <td>1.000000</td>\n",
       "      <td>1.000000</td>\n",
       "    </tr>\n",
       "    <tr>\n",
       "      <th>CKS2</th>\n",
       "      <td>0.400000</td>\n",
       "      <td>0.500000</td>\n",
       "      <td>0.900000</td>\n",
       "      <td>1.000000</td>\n",
       "      <td>0.909091</td>\n",
       "      <td>0.900000</td>\n",
       "      <td>0.909091</td>\n",
       "      <td>0.900000</td>\n",
       "      <td>0.909091</td>\n",
       "      <td>0.500000</td>\n",
       "      <td>...</td>\n",
       "      <td>0.700000</td>\n",
       "      <td>0.200000</td>\n",
       "      <td>0.909091</td>\n",
       "      <td>0.900000</td>\n",
       "      <td>0.909091</td>\n",
       "      <td>0.900000</td>\n",
       "      <td>0.900000</td>\n",
       "      <td>0.900000</td>\n",
       "      <td>0.900000</td>\n",
       "      <td>0.900000</td>\n",
       "    </tr>\n",
       "    <tr>\n",
       "      <th>UBE2R2</th>\n",
       "      <td>0.363636</td>\n",
       "      <td>0.454545</td>\n",
       "      <td>0.818182</td>\n",
       "      <td>0.909091</td>\n",
       "      <td>1.000000</td>\n",
       "      <td>0.818182</td>\n",
       "      <td>1.000000</td>\n",
       "      <td>0.818182</td>\n",
       "      <td>1.000000</td>\n",
       "      <td>0.454545</td>\n",
       "      <td>...</td>\n",
       "      <td>0.636364</td>\n",
       "      <td>0.181818</td>\n",
       "      <td>1.000000</td>\n",
       "      <td>0.818182</td>\n",
       "      <td>1.000000</td>\n",
       "      <td>0.818182</td>\n",
       "      <td>0.818182</td>\n",
       "      <td>0.818182</td>\n",
       "      <td>0.818182</td>\n",
       "      <td>0.818182</td>\n",
       "    </tr>\n",
       "  </tbody>\n",
       "</table>\n",
       "<p>5 rows × 15799 columns</p>\n",
       "</div>"
      ],
      "text/plain": [
       "            CD177      HTR7   RSL24D1      CKS2    UBE2R2     INCA1      SOS2  \\\n",
       "                                                                                \n",
       "CD177    1.000000  0.285714  0.444444  0.400000  0.363636  0.444444  0.363636   \n",
       "HTR7     0.285714  1.000000  0.555556  0.500000  0.454545  0.555556  0.454545   \n",
       "RSL24D1  0.444444  0.555556  1.000000  0.900000  0.818182  1.000000  0.818182   \n",
       "CKS2     0.400000  0.500000  0.900000  1.000000  0.909091  0.900000  0.909091   \n",
       "UBE2R2   0.363636  0.454545  0.818182  0.909091  1.000000  0.818182  1.000000   \n",
       "\n",
       "            TTC23     UQCRQ  HIST3H2A    ...         MFRP    UMODL1    DYNLL2  \\\n",
       "                                         ...                                    \n",
       "CD177    0.444444  0.363636  0.285714    ...     0.571429  0.000000  0.363636   \n",
       "HTR7     0.555556  0.454545  0.250000    ...     0.714286  0.400000  0.454545   \n",
       "RSL24D1  1.000000  0.818182  0.555556    ...     0.777778  0.222222  0.818182   \n",
       "CKS2     0.900000  0.909091  0.500000    ...     0.700000  0.200000  0.909091   \n",
       "UBE2R2   0.818182  1.000000  0.454545    ...     0.636364  0.181818  1.000000   \n",
       "\n",
       "            BCL7A    MINDY1      POLG     OXLD1    MICAL1    MCMDC2    PLA2R1  \n",
       "                                                                               \n",
       "CD177    0.444444  0.363636  0.444444  0.444444  0.444444  0.444444  0.444444  \n",
       "HTR7     0.555556  0.454545  0.555556  0.555556  0.555556  0.555556  0.555556  \n",
       "RSL24D1  1.000000  0.818182  1.000000  1.000000  1.000000  1.000000  1.000000  \n",
       "CKS2     0.900000  0.909091  0.900000  0.900000  0.900000  0.900000  0.900000  \n",
       "UBE2R2   0.818182  1.000000  0.818182  0.818182  0.818182  0.818182  0.818182  \n",
       "\n",
       "[5 rows x 15799 columns]"
      ]
     },
     "execution_count": 46,
     "metadata": {},
     "output_type": "execute_result"
    }
   ],
   "source": [
    "gene_similarity_matix.head()"
   ]
  },
  {
   "cell_type": "code",
   "execution_count": 47,
   "metadata": {},
   "outputs": [
    {
     "data": {
      "text/plain": [
       "(15799, 15799)"
      ]
     },
     "execution_count": 47,
     "metadata": {},
     "output_type": "execute_result"
    }
   ],
   "source": [
    "gene_similarity_matix.shape"
   ]
  },
  {
   "cell_type": "markdown",
   "metadata": {},
   "source": [
    "# Save Gene Similarity Matrix"
   ]
  },
  {
   "cell_type": "code",
   "execution_count": 48,
   "metadata": {},
   "outputs": [],
   "source": [
    "filename = path+'bgee_rat_sample_gene_similarity_matix_%s.tsv.zip'% str(datetime.date.today())[0:7].replace('-', '_')\n",
    "gene_similarity_matix.to_csv(filename, sep='\\t', compression='gzip')"
   ]
  },
  {
   "cell_type": "markdown",
   "metadata": {},
   "source": [
    "# Create Gene-Attribute Edge List"
   ]
  },
  {
   "cell_type": "code",
   "execution_count": 49,
   "metadata": {},
   "outputs": [],
   "source": [
    "name = 'bgee_rat_sample_gene_attribute_edge_list'"
   ]
  },
  {
   "cell_type": "code",
   "execution_count": 50,
   "metadata": {},
   "outputs": [
    {
     "name": "stdout",
     "output_type": "stream",
     "text": [
      "Progeres: 100%  11 Out of 11   \n",
      "\n",
      " The number of statisticaly relevent gene-attribute associations is: 139136\n"
     ]
    }
   ],
   "source": [
    "uf.createGeneAttributeEdgeList(binary_matrix, attribute_list, gene_list, path, name)"
   ]
  }
 ],
 "metadata": {
  "kernelspec": {
   "display_name": "Python 3",
   "language": "python",
   "name": "python3"
  },
  "language_info": {
   "codemirror_mode": {
    "name": "ipython",
    "version": 3
   },
   "file_extension": ".py",
   "mimetype": "text/x-python",
   "name": "python",
   "nbconvert_exporter": "python",
   "pygments_lexer": "ipython3",
   "version": "3.6.4"
  }
 },
 "nbformat": 4,
 "nbformat_minor": 2
}
