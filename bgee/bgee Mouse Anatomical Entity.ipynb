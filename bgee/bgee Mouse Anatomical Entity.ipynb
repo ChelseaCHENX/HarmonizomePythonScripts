{
 "cells": [
  {
   "cell_type": "markdown",
   "metadata": {},
   "source": [
    "# bgee Mouse Anatomical Entity"
   ]
  },
  {
   "cell_type": "markdown",
   "metadata": {},
   "source": [
    "Author: Moshe Silverstein  \n",
    "Date: 08-18  \n",
    "Data Source Home: https://bgee.org/     \n",
    "Data Source Download: https://bgee.org/?page=download&action=expr_calls#id1 "
   ]
  },
  {
   "cell_type": "code",
   "execution_count": 1,
   "metadata": {},
   "outputs": [],
   "source": [
    "import sys, datetime, os\n",
    "import numpy as np\n",
    "import pandas as pd\n",
    "import importlib\n",
    "import utility_functions as uf\n",
    "import matplotlib.pyplot as plt\n",
    "%matplotlib inline\n",
    "from collections import Counter"
   ]
  },
  {
   "cell_type": "code",
   "execution_count": 2,
   "metadata": {},
   "outputs": [],
   "source": [
    "import seaborn as sns\n",
    "sns.set(color_codes=True)\n",
    "np.random.seed(sum(map(ord, \"distributions\")))"
   ]
  },
  {
   "cell_type": "markdown",
   "metadata": {},
   "source": [
    "# Path to Output Files"
   ]
  },
  {
   "cell_type": "code",
   "execution_count": 3,
   "metadata": {},
   "outputs": [],
   "source": [
    "path = '/Users/moshesilverstein/Documents/Harmonizome/bgee/Output/'"
   ]
  },
  {
   "cell_type": "markdown",
   "metadata": {},
   "source": [
    "# Load Data"
   ]
  },
  {
   "cell_type": "code",
   "execution_count": 4,
   "metadata": {},
   "outputs": [
    {
     "name": "stderr",
     "output_type": "stream",
     "text": [
      "/Users/moshesilverstein/anaconda3/lib/python3.6/site-packages/IPython/core/interactiveshell.py:2785: DtypeWarning: Columns (8) have mixed types. Specify dtype option on import or set low_memory=False.\n",
      "  interactivity=interactivity, compiler=compiler, result=result)\n"
     ]
    }
   ],
   "source": [
    "df = pd.read_csv('Input/Mus_musculus_expr_advanced_development.tsv', sep='\\t')"
   ]
  },
  {
   "cell_type": "code",
   "execution_count": 5,
   "metadata": {},
   "outputs": [
    {
     "data": {
      "text/html": [
       "<div>\n",
       "<style scoped>\n",
       "    .dataframe tbody tr th:only-of-type {\n",
       "        vertical-align: middle;\n",
       "    }\n",
       "\n",
       "    .dataframe tbody tr th {\n",
       "        vertical-align: top;\n",
       "    }\n",
       "\n",
       "    .dataframe thead th {\n",
       "        text-align: right;\n",
       "    }\n",
       "</style>\n",
       "<table border=\"1\" class=\"dataframe\">\n",
       "  <thead>\n",
       "    <tr style=\"text-align: right;\">\n",
       "      <th></th>\n",
       "      <th>Gene ID</th>\n",
       "      <th>Gene name</th>\n",
       "      <th>Anatomical entity ID</th>\n",
       "      <th>Anatomical entity name</th>\n",
       "      <th>Developmental stage ID</th>\n",
       "      <th>Developmental stage name</th>\n",
       "      <th>Expression</th>\n",
       "      <th>Call quality</th>\n",
       "      <th>Expression rank</th>\n",
       "      <th>Including observed data</th>\n",
       "      <th>...</th>\n",
       "      <th>In situ hybridization experiment count showing expression of this gene in this condition or in sub-conditions with a low quality</th>\n",
       "      <th>In situ hybridization experiment count showing absence of expression of this gene in this condition or valid parent conditions with a high quality</th>\n",
       "      <th>In situ hybridization experiment count showing absence of expression of this gene in this condition or valid parent conditions with a low quality</th>\n",
       "      <th>Including in situ hybridization observed data</th>\n",
       "      <th>RNA-Seq data</th>\n",
       "      <th>RNA-Seq  experiment count showing expression of this gene in this condition or in sub-conditions with a high quality</th>\n",
       "      <th>RNA-Seq  experiment count showing expression of this gene in this condition or in sub-conditions with a low quality</th>\n",
       "      <th>RNA-Seq  experiment count showing absence of expression of this gene in this condition or valid parent conditions with a high quality</th>\n",
       "      <th>RNA-Seq  experiment count showing absence of expression of this gene in this condition or valid parent conditions with a low quality</th>\n",
       "      <th>Including RNA-Seq observed data</th>\n",
       "    </tr>\n",
       "  </thead>\n",
       "  <tbody>\n",
       "    <tr>\n",
       "      <th>0</th>\n",
       "      <td>ENSMUSG00000000001</td>\n",
       "      <td>Gnai3</td>\n",
       "      <td>CL:0000023</td>\n",
       "      <td>oocyte</td>\n",
       "      <td>UBERON:0000104</td>\n",
       "      <td>life cycle</td>\n",
       "      <td>present</td>\n",
       "      <td>gold quality</td>\n",
       "      <td>1120</td>\n",
       "      <td>yes</td>\n",
       "      <td>...</td>\n",
       "      <td>0</td>\n",
       "      <td>0</td>\n",
       "      <td>0</td>\n",
       "      <td>no</td>\n",
       "      <td>no data</td>\n",
       "      <td>0</td>\n",
       "      <td>0</td>\n",
       "      <td>0</td>\n",
       "      <td>0</td>\n",
       "      <td>no</td>\n",
       "    </tr>\n",
       "    <tr>\n",
       "      <th>1</th>\n",
       "      <td>ENSMUSG00000000001</td>\n",
       "      <td>Gnai3</td>\n",
       "      <td>CL:0000025</td>\n",
       "      <td>egg cell</td>\n",
       "      <td>UBERON:0000113</td>\n",
       "      <td>post-juvenile adult stage</td>\n",
       "      <td>present</td>\n",
       "      <td>silver quality</td>\n",
       "      <td>18600</td>\n",
       "      <td>yes</td>\n",
       "      <td>...</td>\n",
       "      <td>0</td>\n",
       "      <td>0</td>\n",
       "      <td>0</td>\n",
       "      <td>no</td>\n",
       "      <td>no data</td>\n",
       "      <td>0</td>\n",
       "      <td>0</td>\n",
       "      <td>0</td>\n",
       "      <td>0</td>\n",
       "      <td>no</td>\n",
       "    </tr>\n",
       "    <tr>\n",
       "      <th>2</th>\n",
       "      <td>ENSMUSG00000000001</td>\n",
       "      <td>Gnai3</td>\n",
       "      <td>CL:0000057</td>\n",
       "      <td>fibroblast</td>\n",
       "      <td>MmusDv:0000052</td>\n",
       "      <td>8 weeks (mouse)</td>\n",
       "      <td>present</td>\n",
       "      <td>silver quality</td>\n",
       "      <td>1850</td>\n",
       "      <td>yes</td>\n",
       "      <td>...</td>\n",
       "      <td>0</td>\n",
       "      <td>0</td>\n",
       "      <td>0</td>\n",
       "      <td>no</td>\n",
       "      <td>present</td>\n",
       "      <td>1</td>\n",
       "      <td>0</td>\n",
       "      <td>0</td>\n",
       "      <td>0</td>\n",
       "      <td>yes</td>\n",
       "    </tr>\n",
       "    <tr>\n",
       "      <th>3</th>\n",
       "      <td>ENSMUSG00000000001</td>\n",
       "      <td>Gnai3</td>\n",
       "      <td>CL:0000365</td>\n",
       "      <td>zygote</td>\n",
       "      <td>UBERON:0000106</td>\n",
       "      <td>zygote stage</td>\n",
       "      <td>present</td>\n",
       "      <td>gold quality</td>\n",
       "      <td>1410</td>\n",
       "      <td>yes</td>\n",
       "      <td>...</td>\n",
       "      <td>0</td>\n",
       "      <td>0</td>\n",
       "      <td>0</td>\n",
       "      <td>no</td>\n",
       "      <td>no data</td>\n",
       "      <td>0</td>\n",
       "      <td>0</td>\n",
       "      <td>0</td>\n",
       "      <td>0</td>\n",
       "      <td>no</td>\n",
       "    </tr>\n",
       "    <tr>\n",
       "      <th>4</th>\n",
       "      <td>ENSMUSG00000000001</td>\n",
       "      <td>Gnai3</td>\n",
       "      <td>CL:0000510</td>\n",
       "      <td>paneth cell</td>\n",
       "      <td>MmusDv:0000050</td>\n",
       "      <td>6 weeks (mouse)</td>\n",
       "      <td>present</td>\n",
       "      <td>silver quality</td>\n",
       "      <td>1820</td>\n",
       "      <td>yes</td>\n",
       "      <td>...</td>\n",
       "      <td>0</td>\n",
       "      <td>0</td>\n",
       "      <td>0</td>\n",
       "      <td>no</td>\n",
       "      <td>no data</td>\n",
       "      <td>0</td>\n",
       "      <td>0</td>\n",
       "      <td>0</td>\n",
       "      <td>0</td>\n",
       "      <td>no</td>\n",
       "    </tr>\n",
       "  </tbody>\n",
       "</table>\n",
       "<p>5 rows × 32 columns</p>\n",
       "</div>"
      ],
      "text/plain": [
       "              Gene ID Gene name Anatomical entity ID Anatomical entity name  \\\n",
       "0  ENSMUSG00000000001     Gnai3           CL:0000023                 oocyte   \n",
       "1  ENSMUSG00000000001     Gnai3           CL:0000025               egg cell   \n",
       "2  ENSMUSG00000000001     Gnai3           CL:0000057             fibroblast   \n",
       "3  ENSMUSG00000000001     Gnai3           CL:0000365                 zygote   \n",
       "4  ENSMUSG00000000001     Gnai3           CL:0000510            paneth cell   \n",
       "\n",
       "  Developmental stage ID   Developmental stage name Expression  \\\n",
       "0         UBERON:0000104                 life cycle    present   \n",
       "1         UBERON:0000113  post-juvenile adult stage    present   \n",
       "2         MmusDv:0000052            8 weeks (mouse)    present   \n",
       "3         UBERON:0000106               zygote stage    present   \n",
       "4         MmusDv:0000050            6 weeks (mouse)    present   \n",
       "\n",
       "     Call quality Expression rank Including observed data  \\\n",
       "0    gold quality            1120                     yes   \n",
       "1  silver quality           18600                     yes   \n",
       "2  silver quality            1850                     yes   \n",
       "3    gold quality            1410                     yes   \n",
       "4  silver quality            1820                     yes   \n",
       "\n",
       "                ...                \\\n",
       "0               ...                 \n",
       "1               ...                 \n",
       "2               ...                 \n",
       "3               ...                 \n",
       "4               ...                 \n",
       "\n",
       "  In situ hybridization experiment count showing expression of this gene in this condition or in sub-conditions with a low quality  \\\n",
       "0                                                  0                                                                                 \n",
       "1                                                  0                                                                                 \n",
       "2                                                  0                                                                                 \n",
       "3                                                  0                                                                                 \n",
       "4                                                  0                                                                                 \n",
       "\n",
       "   In situ hybridization experiment count showing absence of expression of this gene in this condition or valid parent conditions with a high quality  \\\n",
       "0                                                  0                                                                                                    \n",
       "1                                                  0                                                                                                    \n",
       "2                                                  0                                                                                                    \n",
       "3                                                  0                                                                                                    \n",
       "4                                                  0                                                                                                    \n",
       "\n",
       "   In situ hybridization experiment count showing absence of expression of this gene in this condition or valid parent conditions with a low quality  \\\n",
       "0                                                  0                                                                                                   \n",
       "1                                                  0                                                                                                   \n",
       "2                                                  0                                                                                                   \n",
       "3                                                  0                                                                                                   \n",
       "4                                                  0                                                                                                   \n",
       "\n",
       "   Including in situ hybridization observed data  RNA-Seq data  \\\n",
       "0                                             no       no data   \n",
       "1                                             no       no data   \n",
       "2                                             no       present   \n",
       "3                                             no       no data   \n",
       "4                                             no       no data   \n",
       "\n",
       "  RNA-Seq  experiment count showing expression of this gene in this condition or in sub-conditions with a high quality  \\\n",
       "0                                                  0                                                                     \n",
       "1                                                  0                                                                     \n",
       "2                                                  1                                                                     \n",
       "3                                                  0                                                                     \n",
       "4                                                  0                                                                     \n",
       "\n",
       "  RNA-Seq  experiment count showing expression of this gene in this condition or in sub-conditions with a low quality  \\\n",
       "0                                                  0                                                                    \n",
       "1                                                  0                                                                    \n",
       "2                                                  0                                                                    \n",
       "3                                                  0                                                                    \n",
       "4                                                  0                                                                    \n",
       "\n",
       "   RNA-Seq  experiment count showing absence of expression of this gene in this condition or valid parent conditions with a high quality  \\\n",
       "0                                                  0                                                                                       \n",
       "1                                                  0                                                                                       \n",
       "2                                                  0                                                                                       \n",
       "3                                                  0                                                                                       \n",
       "4                                                  0                                                                                       \n",
       "\n",
       "   RNA-Seq  experiment count showing absence of expression of this gene in this condition or valid parent conditions with a low quality  \\\n",
       "0                                                  0                                                                                      \n",
       "1                                                  0                                                                                      \n",
       "2                                                  0                                                                                      \n",
       "3                                                  0                                                                                      \n",
       "4                                                  0                                                                                      \n",
       "\n",
       "  Including RNA-Seq observed data  \n",
       "0                              no  \n",
       "1                              no  \n",
       "2                             yes  \n",
       "3                              no  \n",
       "4                              no  \n",
       "\n",
       "[5 rows x 32 columns]"
      ]
     },
     "execution_count": 5,
     "metadata": {},
     "output_type": "execute_result"
    }
   ],
   "source": [
    "df.head()"
   ]
  },
  {
   "cell_type": "code",
   "execution_count": 6,
   "metadata": {},
   "outputs": [
    {
     "data": {
      "text/plain": [
       "(15706235, 32)"
      ]
     },
     "execution_count": 6,
     "metadata": {},
     "output_type": "execute_result"
    }
   ],
   "source": [
    "df.shape"
   ]
  },
  {
   "cell_type": "markdown",
   "metadata": {},
   "source": [
    "# Get relevant data"
   ]
  },
  {
   "cell_type": "code",
   "execution_count": 7,
   "metadata": {},
   "outputs": [],
   "source": [
    "df = df[['Gene name', 'Anatomical entity name', 'Developmental stage name', 'Expression', 'Call quality']]"
   ]
  },
  {
   "cell_type": "code",
   "execution_count": 8,
   "metadata": {},
   "outputs": [
    {
     "data": {
      "text/html": [
       "<div>\n",
       "<style scoped>\n",
       "    .dataframe tbody tr th:only-of-type {\n",
       "        vertical-align: middle;\n",
       "    }\n",
       "\n",
       "    .dataframe tbody tr th {\n",
       "        vertical-align: top;\n",
       "    }\n",
       "\n",
       "    .dataframe thead th {\n",
       "        text-align: right;\n",
       "    }\n",
       "</style>\n",
       "<table border=\"1\" class=\"dataframe\">\n",
       "  <thead>\n",
       "    <tr style=\"text-align: right;\">\n",
       "      <th></th>\n",
       "      <th>Gene name</th>\n",
       "      <th>Anatomical entity name</th>\n",
       "      <th>Developmental stage name</th>\n",
       "      <th>Expression</th>\n",
       "      <th>Call quality</th>\n",
       "    </tr>\n",
       "  </thead>\n",
       "  <tbody>\n",
       "    <tr>\n",
       "      <th>0</th>\n",
       "      <td>Gnai3</td>\n",
       "      <td>oocyte</td>\n",
       "      <td>life cycle</td>\n",
       "      <td>present</td>\n",
       "      <td>gold quality</td>\n",
       "    </tr>\n",
       "    <tr>\n",
       "      <th>1</th>\n",
       "      <td>Gnai3</td>\n",
       "      <td>egg cell</td>\n",
       "      <td>post-juvenile adult stage</td>\n",
       "      <td>present</td>\n",
       "      <td>silver quality</td>\n",
       "    </tr>\n",
       "    <tr>\n",
       "      <th>2</th>\n",
       "      <td>Gnai3</td>\n",
       "      <td>fibroblast</td>\n",
       "      <td>8 weeks (mouse)</td>\n",
       "      <td>present</td>\n",
       "      <td>silver quality</td>\n",
       "    </tr>\n",
       "    <tr>\n",
       "      <th>3</th>\n",
       "      <td>Gnai3</td>\n",
       "      <td>zygote</td>\n",
       "      <td>zygote stage</td>\n",
       "      <td>present</td>\n",
       "      <td>gold quality</td>\n",
       "    </tr>\n",
       "    <tr>\n",
       "      <th>4</th>\n",
       "      <td>Gnai3</td>\n",
       "      <td>paneth cell</td>\n",
       "      <td>6 weeks (mouse)</td>\n",
       "      <td>present</td>\n",
       "      <td>silver quality</td>\n",
       "    </tr>\n",
       "  </tbody>\n",
       "</table>\n",
       "</div>"
      ],
      "text/plain": [
       "  Gene name Anatomical entity name   Developmental stage name Expression  \\\n",
       "0     Gnai3                 oocyte                 life cycle    present   \n",
       "1     Gnai3               egg cell  post-juvenile adult stage    present   \n",
       "2     Gnai3             fibroblast            8 weeks (mouse)    present   \n",
       "3     Gnai3                 zygote               zygote stage    present   \n",
       "4     Gnai3            paneth cell            6 weeks (mouse)    present   \n",
       "\n",
       "     Call quality  \n",
       "0    gold quality  \n",
       "1  silver quality  \n",
       "2  silver quality  \n",
       "3    gold quality  \n",
       "4  silver quality  "
      ]
     },
     "execution_count": 8,
     "metadata": {},
     "output_type": "execute_result"
    }
   ],
   "source": [
    "df.head()"
   ]
  },
  {
   "cell_type": "code",
   "execution_count": 9,
   "metadata": {},
   "outputs": [],
   "source": [
    "df = df[df['Expression'] == 'present']"
   ]
  },
  {
   "cell_type": "code",
   "execution_count": 10,
   "metadata": {},
   "outputs": [],
   "source": [
    "df = df[['Gene name', 'Anatomical entity name']]"
   ]
  },
  {
   "cell_type": "code",
   "execution_count": 11,
   "metadata": {},
   "outputs": [
    {
     "data": {
      "text/html": [
       "<div>\n",
       "<style scoped>\n",
       "    .dataframe tbody tr th:only-of-type {\n",
       "        vertical-align: middle;\n",
       "    }\n",
       "\n",
       "    .dataframe tbody tr th {\n",
       "        vertical-align: top;\n",
       "    }\n",
       "\n",
       "    .dataframe thead th {\n",
       "        text-align: right;\n",
       "    }\n",
       "</style>\n",
       "<table border=\"1\" class=\"dataframe\">\n",
       "  <thead>\n",
       "    <tr style=\"text-align: right;\">\n",
       "      <th></th>\n",
       "      <th>Gene name</th>\n",
       "      <th>Anatomical entity name</th>\n",
       "    </tr>\n",
       "  </thead>\n",
       "  <tbody>\n",
       "    <tr>\n",
       "      <th>0</th>\n",
       "      <td>Gnai3</td>\n",
       "      <td>oocyte</td>\n",
       "    </tr>\n",
       "    <tr>\n",
       "      <th>1</th>\n",
       "      <td>Gnai3</td>\n",
       "      <td>egg cell</td>\n",
       "    </tr>\n",
       "    <tr>\n",
       "      <th>2</th>\n",
       "      <td>Gnai3</td>\n",
       "      <td>fibroblast</td>\n",
       "    </tr>\n",
       "    <tr>\n",
       "      <th>3</th>\n",
       "      <td>Gnai3</td>\n",
       "      <td>zygote</td>\n",
       "    </tr>\n",
       "    <tr>\n",
       "      <th>4</th>\n",
       "      <td>Gnai3</td>\n",
       "      <td>paneth cell</td>\n",
       "    </tr>\n",
       "  </tbody>\n",
       "</table>\n",
       "</div>"
      ],
      "text/plain": [
       "  Gene name Anatomical entity name\n",
       "0     Gnai3                 oocyte\n",
       "1     Gnai3               egg cell\n",
       "2     Gnai3             fibroblast\n",
       "3     Gnai3                 zygote\n",
       "4     Gnai3            paneth cell"
      ]
     },
     "execution_count": 11,
     "metadata": {},
     "output_type": "execute_result"
    }
   ],
   "source": [
    "df.head()"
   ]
  },
  {
   "cell_type": "code",
   "execution_count": 12,
   "metadata": {},
   "outputs": [
    {
     "data": {
      "text/plain": [
       "(10506933, 2)"
      ]
     },
     "execution_count": 12,
     "metadata": {},
     "output_type": "execute_result"
    }
   ],
   "source": [
    "df.shape"
   ]
  },
  {
   "cell_type": "markdown",
   "metadata": {},
   "source": [
    "# Map Gene Symbols To Up-to-date Approved Gene Symbols"
   ]
  },
  {
   "cell_type": "code",
   "execution_count": 13,
   "metadata": {},
   "outputs": [],
   "source": [
    "df.set_index('Gene name', inplace=True)"
   ]
  },
  {
   "cell_type": "code",
   "execution_count": 14,
   "metadata": {},
   "outputs": [
    {
     "name": "stdout",
     "output_type": "stream",
     "text": [
      "Progeres: 99%  10506385 Out of 10506933   \r"
     ]
    }
   ],
   "source": [
    "uf.mapgenesymbols(df)"
   ]
  },
  {
   "cell_type": "markdown",
   "metadata": {},
   "source": [
    "# Drop Duplicates"
   ]
  },
  {
   "cell_type": "code",
   "execution_count": 15,
   "metadata": {},
   "outputs": [],
   "source": [
    "df.reset_index(inplace=True)"
   ]
  },
  {
   "cell_type": "code",
   "execution_count": 16,
   "metadata": {},
   "outputs": [],
   "source": [
    "df.drop_duplicates(inplace=True)"
   ]
  },
  {
   "cell_type": "code",
   "execution_count": 17,
   "metadata": {},
   "outputs": [
    {
     "data": {
      "text/html": [
       "<div>\n",
       "<style scoped>\n",
       "    .dataframe tbody tr th:only-of-type {\n",
       "        vertical-align: middle;\n",
       "    }\n",
       "\n",
       "    .dataframe tbody tr th {\n",
       "        vertical-align: top;\n",
       "    }\n",
       "\n",
       "    .dataframe thead th {\n",
       "        text-align: right;\n",
       "    }\n",
       "</style>\n",
       "<table border=\"1\" class=\"dataframe\">\n",
       "  <thead>\n",
       "    <tr style=\"text-align: right;\">\n",
       "      <th></th>\n",
       "      <th>Gene name</th>\n",
       "      <th>Anatomical entity name</th>\n",
       "    </tr>\n",
       "  </thead>\n",
       "  <tbody>\n",
       "    <tr>\n",
       "      <th>0</th>\n",
       "      <td>GNAI3</td>\n",
       "      <td>oocyte</td>\n",
       "    </tr>\n",
       "    <tr>\n",
       "      <th>1</th>\n",
       "      <td>GNAI3</td>\n",
       "      <td>egg cell</td>\n",
       "    </tr>\n",
       "    <tr>\n",
       "      <th>2</th>\n",
       "      <td>GNAI3</td>\n",
       "      <td>fibroblast</td>\n",
       "    </tr>\n",
       "    <tr>\n",
       "      <th>3</th>\n",
       "      <td>GNAI3</td>\n",
       "      <td>zygote</td>\n",
       "    </tr>\n",
       "    <tr>\n",
       "      <th>4</th>\n",
       "      <td>GNAI3</td>\n",
       "      <td>paneth cell</td>\n",
       "    </tr>\n",
       "  </tbody>\n",
       "</table>\n",
       "</div>"
      ],
      "text/plain": [
       "  Gene name Anatomical entity name\n",
       "0     GNAI3                 oocyte\n",
       "1     GNAI3               egg cell\n",
       "2     GNAI3             fibroblast\n",
       "3     GNAI3                 zygote\n",
       "4     GNAI3            paneth cell"
      ]
     },
     "execution_count": 17,
     "metadata": {},
     "output_type": "execute_result"
    }
   ],
   "source": [
    "df.head()"
   ]
  },
  {
   "cell_type": "code",
   "execution_count": 18,
   "metadata": {},
   "outputs": [
    {
     "data": {
      "text/plain": [
       "(3163055, 2)"
      ]
     },
     "execution_count": 18,
     "metadata": {},
     "output_type": "execute_result"
    }
   ],
   "source": [
    "df.shape"
   ]
  },
  {
   "cell_type": "markdown",
   "metadata": {},
   "source": [
    "# Create Binary Matrix"
   ]
  },
  {
   "cell_type": "code",
   "execution_count": 19,
   "metadata": {},
   "outputs": [
    {
     "name": "stdout",
     "output_type": "stream",
     "text": [
      "Progeres: 100%  16289 Out of 16289   \r"
     ]
    }
   ],
   "source": [
    "binary_matrix = uf.createBinaryMatrix(df)"
   ]
  },
  {
   "cell_type": "code",
   "execution_count": 20,
   "metadata": {},
   "outputs": [
    {
     "data": {
      "text/html": [
       "<div>\n",
       "<style scoped>\n",
       "    .dataframe tbody tr th:only-of-type {\n",
       "        vertical-align: middle;\n",
       "    }\n",
       "\n",
       "    .dataframe tbody tr th {\n",
       "        vertical-align: top;\n",
       "    }\n",
       "\n",
       "    .dataframe thead th {\n",
       "        text-align: right;\n",
       "    }\n",
       "</style>\n",
       "<table border=\"1\" class=\"dataframe\">\n",
       "  <thead>\n",
       "    <tr style=\"text-align: right;\">\n",
       "      <th></th>\n",
       "      <th>rhombomere lateral wall</th>\n",
       "      <th>pons</th>\n",
       "      <th>rete ovarii of mesonephros (mouse)</th>\n",
       "      <th>bronchiole</th>\n",
       "      <th>mesenchyme of umbilical cord</th>\n",
       "      <th>posteromedial cortical amygdaloid nucleus</th>\n",
       "      <th>dorsal motor nucleus of vagus nerve</th>\n",
       "      <th>L5 vertebral cartilage condensation (mouse)</th>\n",
       "      <th>subscapularis muscle</th>\n",
       "      <th>hilus of dentate gyrus</th>\n",
       "      <th>...</th>\n",
       "      <th>CA2 field of hippocampus</th>\n",
       "      <th>external female genitalia</th>\n",
       "      <th>ventral part of pharyngeal pouch 3</th>\n",
       "      <th>interdigital region between manual digits 4 and 5</th>\n",
       "      <th>acoustico-facial VII-VIII ganglion complex</th>\n",
       "      <th>inferior vestibular nucleus</th>\n",
       "      <th>liver primordium</th>\n",
       "      <th>internal capsule of telencephalon</th>\n",
       "      <th>layer of neocortex</th>\n",
       "      <th>mesenchyme of rest of paramesonephric duct of female (mouse)</th>\n",
       "    </tr>\n",
       "  </thead>\n",
       "  <tbody>\n",
       "    <tr>\n",
       "      <th>HOXB4</th>\n",
       "      <td>0.0</td>\n",
       "      <td>0.0</td>\n",
       "      <td>0.0</td>\n",
       "      <td>0.0</td>\n",
       "      <td>0.0</td>\n",
       "      <td>0.0</td>\n",
       "      <td>0.0</td>\n",
       "      <td>0.0</td>\n",
       "      <td>0.0</td>\n",
       "      <td>0.0</td>\n",
       "      <td>...</td>\n",
       "      <td>0.0</td>\n",
       "      <td>0.0</td>\n",
       "      <td>0.0</td>\n",
       "      <td>0.0</td>\n",
       "      <td>0.0</td>\n",
       "      <td>0.0</td>\n",
       "      <td>0.0</td>\n",
       "      <td>0.0</td>\n",
       "      <td>0.0</td>\n",
       "      <td>0.0</td>\n",
       "    </tr>\n",
       "    <tr>\n",
       "      <th>TRNAU1AP</th>\n",
       "      <td>0.0</td>\n",
       "      <td>0.0</td>\n",
       "      <td>0.0</td>\n",
       "      <td>0.0</td>\n",
       "      <td>0.0</td>\n",
       "      <td>0.0</td>\n",
       "      <td>0.0</td>\n",
       "      <td>0.0</td>\n",
       "      <td>0.0</td>\n",
       "      <td>0.0</td>\n",
       "      <td>...</td>\n",
       "      <td>0.0</td>\n",
       "      <td>0.0</td>\n",
       "      <td>0.0</td>\n",
       "      <td>0.0</td>\n",
       "      <td>0.0</td>\n",
       "      <td>0.0</td>\n",
       "      <td>0.0</td>\n",
       "      <td>0.0</td>\n",
       "      <td>0.0</td>\n",
       "      <td>0.0</td>\n",
       "    </tr>\n",
       "    <tr>\n",
       "      <th>LRBA</th>\n",
       "      <td>0.0</td>\n",
       "      <td>0.0</td>\n",
       "      <td>0.0</td>\n",
       "      <td>0.0</td>\n",
       "      <td>0.0</td>\n",
       "      <td>0.0</td>\n",
       "      <td>0.0</td>\n",
       "      <td>0.0</td>\n",
       "      <td>0.0</td>\n",
       "      <td>0.0</td>\n",
       "      <td>...</td>\n",
       "      <td>0.0</td>\n",
       "      <td>0.0</td>\n",
       "      <td>0.0</td>\n",
       "      <td>0.0</td>\n",
       "      <td>0.0</td>\n",
       "      <td>0.0</td>\n",
       "      <td>0.0</td>\n",
       "      <td>0.0</td>\n",
       "      <td>0.0</td>\n",
       "      <td>0.0</td>\n",
       "    </tr>\n",
       "    <tr>\n",
       "      <th>RNF181</th>\n",
       "      <td>0.0</td>\n",
       "      <td>0.0</td>\n",
       "      <td>0.0</td>\n",
       "      <td>0.0</td>\n",
       "      <td>0.0</td>\n",
       "      <td>0.0</td>\n",
       "      <td>0.0</td>\n",
       "      <td>0.0</td>\n",
       "      <td>0.0</td>\n",
       "      <td>0.0</td>\n",
       "      <td>...</td>\n",
       "      <td>0.0</td>\n",
       "      <td>0.0</td>\n",
       "      <td>0.0</td>\n",
       "      <td>0.0</td>\n",
       "      <td>0.0</td>\n",
       "      <td>0.0</td>\n",
       "      <td>0.0</td>\n",
       "      <td>0.0</td>\n",
       "      <td>0.0</td>\n",
       "      <td>0.0</td>\n",
       "    </tr>\n",
       "    <tr>\n",
       "      <th>SNRPF</th>\n",
       "      <td>0.0</td>\n",
       "      <td>0.0</td>\n",
       "      <td>0.0</td>\n",
       "      <td>0.0</td>\n",
       "      <td>0.0</td>\n",
       "      <td>0.0</td>\n",
       "      <td>0.0</td>\n",
       "      <td>0.0</td>\n",
       "      <td>0.0</td>\n",
       "      <td>0.0</td>\n",
       "      <td>...</td>\n",
       "      <td>0.0</td>\n",
       "      <td>0.0</td>\n",
       "      <td>0.0</td>\n",
       "      <td>0.0</td>\n",
       "      <td>0.0</td>\n",
       "      <td>0.0</td>\n",
       "      <td>0.0</td>\n",
       "      <td>0.0</td>\n",
       "      <td>0.0</td>\n",
       "      <td>0.0</td>\n",
       "    </tr>\n",
       "  </tbody>\n",
       "</table>\n",
       "<p>5 rows × 3142 columns</p>\n",
       "</div>"
      ],
      "text/plain": [
       "          rhombomere lateral wall  pons  rete ovarii of mesonephros (mouse)  \\\n",
       "HOXB4                         0.0   0.0                                 0.0   \n",
       "TRNAU1AP                      0.0   0.0                                 0.0   \n",
       "LRBA                          0.0   0.0                                 0.0   \n",
       "RNF181                        0.0   0.0                                 0.0   \n",
       "SNRPF                         0.0   0.0                                 0.0   \n",
       "\n",
       "          bronchiole  mesenchyme of umbilical cord  \\\n",
       "HOXB4            0.0                           0.0   \n",
       "TRNAU1AP         0.0                           0.0   \n",
       "LRBA             0.0                           0.0   \n",
       "RNF181           0.0                           0.0   \n",
       "SNRPF            0.0                           0.0   \n",
       "\n",
       "          posteromedial cortical amygdaloid nucleus  \\\n",
       "HOXB4                                           0.0   \n",
       "TRNAU1AP                                        0.0   \n",
       "LRBA                                            0.0   \n",
       "RNF181                                          0.0   \n",
       "SNRPF                                           0.0   \n",
       "\n",
       "          dorsal motor nucleus of vagus nerve  \\\n",
       "HOXB4                                     0.0   \n",
       "TRNAU1AP                                  0.0   \n",
       "LRBA                                      0.0   \n",
       "RNF181                                    0.0   \n",
       "SNRPF                                     0.0   \n",
       "\n",
       "          L5 vertebral cartilage condensation (mouse)  subscapularis muscle  \\\n",
       "HOXB4                                             0.0                   0.0   \n",
       "TRNAU1AP                                          0.0                   0.0   \n",
       "LRBA                                              0.0                   0.0   \n",
       "RNF181                                            0.0                   0.0   \n",
       "SNRPF                                             0.0                   0.0   \n",
       "\n",
       "          hilus of dentate gyrus  \\\n",
       "HOXB4                        0.0   \n",
       "TRNAU1AP                     0.0   \n",
       "LRBA                         0.0   \n",
       "RNF181                       0.0   \n",
       "SNRPF                        0.0   \n",
       "\n",
       "                                      ...                               \\\n",
       "HOXB4                                 ...                                \n",
       "TRNAU1AP                              ...                                \n",
       "LRBA                                  ...                                \n",
       "RNF181                                ...                                \n",
       "SNRPF                                 ...                                \n",
       "\n",
       "          CA2 field of hippocampus  external female genitalia  \\\n",
       "HOXB4                          0.0                        0.0   \n",
       "TRNAU1AP                       0.0                        0.0   \n",
       "LRBA                           0.0                        0.0   \n",
       "RNF181                         0.0                        0.0   \n",
       "SNRPF                          0.0                        0.0   \n",
       "\n",
       "          ventral part of pharyngeal pouch 3  \\\n",
       "HOXB4                                    0.0   \n",
       "TRNAU1AP                                 0.0   \n",
       "LRBA                                     0.0   \n",
       "RNF181                                   0.0   \n",
       "SNRPF                                    0.0   \n",
       "\n",
       "          interdigital region between manual digits 4 and 5  \\\n",
       "HOXB4                                                   0.0   \n",
       "TRNAU1AP                                                0.0   \n",
       "LRBA                                                    0.0   \n",
       "RNF181                                                  0.0   \n",
       "SNRPF                                                   0.0   \n",
       "\n",
       "          acoustico-facial VII-VIII ganglion complex  \\\n",
       "HOXB4                                            0.0   \n",
       "TRNAU1AP                                         0.0   \n",
       "LRBA                                             0.0   \n",
       "RNF181                                           0.0   \n",
       "SNRPF                                            0.0   \n",
       "\n",
       "          inferior vestibular nucleus  liver primordium  \\\n",
       "HOXB4                             0.0               0.0   \n",
       "TRNAU1AP                          0.0               0.0   \n",
       "LRBA                              0.0               0.0   \n",
       "RNF181                            0.0               0.0   \n",
       "SNRPF                             0.0               0.0   \n",
       "\n",
       "          internal capsule of telencephalon  layer of neocortex  \\\n",
       "HOXB4                                   0.0                 0.0   \n",
       "TRNAU1AP                                0.0                 0.0   \n",
       "LRBA                                    0.0                 0.0   \n",
       "RNF181                                  0.0                 0.0   \n",
       "SNRPF                                   0.0                 0.0   \n",
       "\n",
       "          mesenchyme of rest of paramesonephric duct of female (mouse)  \n",
       "HOXB4                                                   0.0             \n",
       "TRNAU1AP                                                0.0             \n",
       "LRBA                                                    0.0             \n",
       "RNF181                                                  0.0             \n",
       "SNRPF                                                   0.0             \n",
       "\n",
       "[5 rows x 3142 columns]"
      ]
     },
     "execution_count": 20,
     "metadata": {},
     "output_type": "execute_result"
    }
   ],
   "source": [
    "binary_matrix.head()"
   ]
  },
  {
   "cell_type": "code",
   "execution_count": 21,
   "metadata": {},
   "outputs": [
    {
     "data": {
      "text/plain": [
       "(16289, 3142)"
      ]
     },
     "execution_count": 21,
     "metadata": {},
     "output_type": "execute_result"
    }
   ],
   "source": [
    "binary_matrix.shape"
   ]
  },
  {
   "cell_type": "markdown",
   "metadata": {},
   "source": [
    "# Save Binary Matrix"
   ]
  },
  {
   "cell_type": "code",
   "execution_count": 22,
   "metadata": {},
   "outputs": [],
   "source": [
    "filename = path+'bgee_mouse_anatomical_matrix_%s.tsv.zip'% str(datetime.date.today())[0:7].replace('-', '_')\n",
    "binary_matrix.to_csv(filename, sep='\\t', compression='gzip')"
   ]
  },
  {
   "cell_type": "markdown",
   "metadata": {},
   "source": [
    "# Create Gene Set Library"
   ]
  },
  {
   "cell_type": "code",
   "execution_count": 27,
   "metadata": {},
   "outputs": [],
   "source": [
    "name = 'bgee_mouse_anatomical_gene_set'"
   ]
  },
  {
   "cell_type": "code",
   "execution_count": 28,
   "metadata": {},
   "outputs": [
    {
     "name": "stdout",
     "output_type": "stream",
     "text": [
      "Progeres: 100%  3142 Out of 3142   \r"
     ]
    }
   ],
   "source": [
    "uf.createUpGeneSetLib(binary_matrix, path, name)"
   ]
  },
  {
   "cell_type": "markdown",
   "metadata": {},
   "source": [
    "# Create Attribute Library"
   ]
  },
  {
   "cell_type": "code",
   "execution_count": 29,
   "metadata": {},
   "outputs": [],
   "source": [
    "name = 'bgee_mouse_anatomical_attribute_set'"
   ]
  },
  {
   "cell_type": "code",
   "execution_count": 30,
   "metadata": {},
   "outputs": [
    {
     "name": "stdout",
     "output_type": "stream",
     "text": [
      "Progeres: 100%  16289 Out of 16289   \r"
     ]
    }
   ],
   "source": [
    "uf.createUpAttributeSetLib(binary_matrix, path, name)"
   ]
  },
  {
   "cell_type": "markdown",
   "metadata": {},
   "source": [
    "# Create Gene List"
   ]
  },
  {
   "cell_type": "code",
   "execution_count": 23,
   "metadata": {},
   "outputs": [
    {
     "name": "stdout",
     "output_type": "stream",
     "text": [
      "Progeres: 100%  16289 Out of 16289   \r"
     ]
    }
   ],
   "source": [
    "gene_list = uf.createGeneList(binary_matrix)"
   ]
  },
  {
   "cell_type": "code",
   "execution_count": 24,
   "metadata": {},
   "outputs": [
    {
     "data": {
      "text/html": [
       "<div>\n",
       "<style scoped>\n",
       "    .dataframe tbody tr th:only-of-type {\n",
       "        vertical-align: middle;\n",
       "    }\n",
       "\n",
       "    .dataframe tbody tr th {\n",
       "        vertical-align: top;\n",
       "    }\n",
       "\n",
       "    .dataframe thead th {\n",
       "        text-align: right;\n",
       "    }\n",
       "</style>\n",
       "<table border=\"1\" class=\"dataframe\">\n",
       "  <thead>\n",
       "    <tr style=\"text-align: right;\">\n",
       "      <th></th>\n",
       "      <th>GeneSym</th>\n",
       "      <th>GeneID</th>\n",
       "    </tr>\n",
       "  </thead>\n",
       "  <tbody>\n",
       "    <tr>\n",
       "      <th>0</th>\n",
       "      <td>HOXB4</td>\n",
       "      <td>3214</td>\n",
       "    </tr>\n",
       "    <tr>\n",
       "      <th>1</th>\n",
       "      <td>TRNAU1AP</td>\n",
       "      <td>54952</td>\n",
       "    </tr>\n",
       "    <tr>\n",
       "      <th>2</th>\n",
       "      <td>LRBA</td>\n",
       "      <td>987</td>\n",
       "    </tr>\n",
       "    <tr>\n",
       "      <th>3</th>\n",
       "      <td>RNF181</td>\n",
       "      <td>51255</td>\n",
       "    </tr>\n",
       "    <tr>\n",
       "      <th>4</th>\n",
       "      <td>SNRPF</td>\n",
       "      <td>6636</td>\n",
       "    </tr>\n",
       "  </tbody>\n",
       "</table>\n",
       "</div>"
      ],
      "text/plain": [
       "    GeneSym GeneID\n",
       "0     HOXB4   3214\n",
       "1  TRNAU1AP  54952\n",
       "2      LRBA    987\n",
       "3    RNF181  51255\n",
       "4     SNRPF   6636"
      ]
     },
     "execution_count": 24,
     "metadata": {},
     "output_type": "execute_result"
    }
   ],
   "source": [
    "gene_list.head()"
   ]
  },
  {
   "cell_type": "code",
   "execution_count": 25,
   "metadata": {},
   "outputs": [
    {
     "data": {
      "text/plain": [
       "(16289, 2)"
      ]
     },
     "execution_count": 25,
     "metadata": {},
     "output_type": "execute_result"
    }
   ],
   "source": [
    "gene_list.shape"
   ]
  },
  {
   "cell_type": "markdown",
   "metadata": {},
   "source": [
    "# Save Gene List"
   ]
  },
  {
   "cell_type": "code",
   "execution_count": 26,
   "metadata": {},
   "outputs": [],
   "source": [
    "filename = path+'bgee_mouse_anatomical_gene_list_%s.tsv.zip'% str(datetime.date.today())[0:7].replace('-', '_')\n",
    "gene_list.to_csv(filename, sep='\\t', index=False, compression='gzip')"
   ]
  },
  {
   "cell_type": "markdown",
   "metadata": {},
   "source": [
    "# Create Attribute List"
   ]
  },
  {
   "cell_type": "code",
   "execution_count": 31,
   "metadata": {},
   "outputs": [],
   "source": [
    "attribute_list = uf.createAttributeList(binary_matrix)"
   ]
  },
  {
   "cell_type": "code",
   "execution_count": 32,
   "metadata": {},
   "outputs": [
    {
     "data": {
      "text/html": [
       "<div>\n",
       "<style scoped>\n",
       "    .dataframe tbody tr th:only-of-type {\n",
       "        vertical-align: middle;\n",
       "    }\n",
       "\n",
       "    .dataframe tbody tr th {\n",
       "        vertical-align: top;\n",
       "    }\n",
       "\n",
       "    .dataframe thead th {\n",
       "        text-align: right;\n",
       "    }\n",
       "</style>\n",
       "<table border=\"1\" class=\"dataframe\">\n",
       "  <thead>\n",
       "    <tr style=\"text-align: right;\">\n",
       "      <th></th>\n",
       "    </tr>\n",
       "    <tr>\n",
       "      <th>Attributes</th>\n",
       "    </tr>\n",
       "  </thead>\n",
       "  <tbody>\n",
       "    <tr>\n",
       "      <th>rhombomere lateral wall</th>\n",
       "    </tr>\n",
       "    <tr>\n",
       "      <th>pons</th>\n",
       "    </tr>\n",
       "    <tr>\n",
       "      <th>rete ovarii of mesonephros (mouse)</th>\n",
       "    </tr>\n",
       "    <tr>\n",
       "      <th>bronchiole</th>\n",
       "    </tr>\n",
       "    <tr>\n",
       "      <th>mesenchyme of umbilical cord</th>\n",
       "    </tr>\n",
       "  </tbody>\n",
       "</table>\n",
       "</div>"
      ],
      "text/plain": [
       "Empty DataFrame\n",
       "Columns: []\n",
       "Index: [rhombomere lateral wall, pons, rete ovarii of mesonephros (mouse), bronchiole, mesenchyme of umbilical cord]"
      ]
     },
     "execution_count": 32,
     "metadata": {},
     "output_type": "execute_result"
    }
   ],
   "source": [
    "attribute_list.head()"
   ]
  },
  {
   "cell_type": "code",
   "execution_count": 33,
   "metadata": {},
   "outputs": [
    {
     "data": {
      "text/plain": [
       "(3142, 0)"
      ]
     },
     "execution_count": 33,
     "metadata": {},
     "output_type": "execute_result"
    }
   ],
   "source": [
    "attribute_list.shape"
   ]
  },
  {
   "cell_type": "markdown",
   "metadata": {},
   "source": [
    "# Save Attribute List"
   ]
  },
  {
   "cell_type": "code",
   "execution_count": 34,
   "metadata": {},
   "outputs": [],
   "source": [
    "filename = path+'bgee_mouse_anatomical_attribute_list_%s.tsv.zip'% str(datetime.date.today())[0:7].replace('-', '_')\n",
    "attribute_list.to_csv(filename, sep='\\t', index=False, compression='gzip')"
   ]
  },
  {
   "cell_type": "markdown",
   "metadata": {},
   "source": [
    "# Create Attribute Similarity matrix"
   ]
  },
  {
   "cell_type": "code",
   "execution_count": 35,
   "metadata": {},
   "outputs": [],
   "source": [
    "attribute_similarity_matix = uf.createSimilarityMatrix(binary_matrix.T, 'jaccard')"
   ]
  },
  {
   "cell_type": "code",
   "execution_count": 36,
   "metadata": {},
   "outputs": [
    {
     "data": {
      "text/html": [
       "<div>\n",
       "<style scoped>\n",
       "    .dataframe tbody tr th:only-of-type {\n",
       "        vertical-align: middle;\n",
       "    }\n",
       "\n",
       "    .dataframe tbody tr th {\n",
       "        vertical-align: top;\n",
       "    }\n",
       "\n",
       "    .dataframe thead th {\n",
       "        text-align: right;\n",
       "    }\n",
       "</style>\n",
       "<table border=\"1\" class=\"dataframe\">\n",
       "  <thead>\n",
       "    <tr style=\"text-align: right;\">\n",
       "      <th></th>\n",
       "      <th>rhombomere lateral wall</th>\n",
       "      <th>pons</th>\n",
       "      <th>rete ovarii of mesonephros (mouse)</th>\n",
       "      <th>bronchiole</th>\n",
       "      <th>mesenchyme of umbilical cord</th>\n",
       "      <th>posteromedial cortical amygdaloid nucleus</th>\n",
       "      <th>dorsal motor nucleus of vagus nerve</th>\n",
       "      <th>L5 vertebral cartilage condensation (mouse)</th>\n",
       "      <th>subscapularis muscle</th>\n",
       "      <th>hilus of dentate gyrus</th>\n",
       "      <th>...</th>\n",
       "      <th>CA2 field of hippocampus</th>\n",
       "      <th>external female genitalia</th>\n",
       "      <th>ventral part of pharyngeal pouch 3</th>\n",
       "      <th>interdigital region between manual digits 4 and 5</th>\n",
       "      <th>acoustico-facial VII-VIII ganglion complex</th>\n",
       "      <th>inferior vestibular nucleus</th>\n",
       "      <th>liver primordium</th>\n",
       "      <th>internal capsule of telencephalon</th>\n",
       "      <th>layer of neocortex</th>\n",
       "      <th>mesenchyme of rest of paramesonephric duct of female (mouse)</th>\n",
       "    </tr>\n",
       "    <tr>\n",
       "      <th></th>\n",
       "      <th></th>\n",
       "      <th></th>\n",
       "      <th></th>\n",
       "      <th></th>\n",
       "      <th></th>\n",
       "      <th></th>\n",
       "      <th></th>\n",
       "      <th></th>\n",
       "      <th></th>\n",
       "      <th></th>\n",
       "      <th></th>\n",
       "      <th></th>\n",
       "      <th></th>\n",
       "      <th></th>\n",
       "      <th></th>\n",
       "      <th></th>\n",
       "      <th></th>\n",
       "      <th></th>\n",
       "      <th></th>\n",
       "      <th></th>\n",
       "      <th></th>\n",
       "    </tr>\n",
       "  </thead>\n",
       "  <tbody>\n",
       "    <tr>\n",
       "      <th>rhombomere lateral wall</th>\n",
       "      <td>1.0</td>\n",
       "      <td>0.000000</td>\n",
       "      <td>0.000000</td>\n",
       "      <td>0.0000</td>\n",
       "      <td>0.0</td>\n",
       "      <td>0.0</td>\n",
       "      <td>0.00000</td>\n",
       "      <td>0.000000</td>\n",
       "      <td>0.000000</td>\n",
       "      <td>0.000000</td>\n",
       "      <td>...</td>\n",
       "      <td>0.000000</td>\n",
       "      <td>0.000000</td>\n",
       "      <td>0.000000</td>\n",
       "      <td>0.000000</td>\n",
       "      <td>0.00000</td>\n",
       "      <td>0.000000</td>\n",
       "      <td>0.000000</td>\n",
       "      <td>0.000000</td>\n",
       "      <td>0.000000</td>\n",
       "      <td>0.000000</td>\n",
       "    </tr>\n",
       "    <tr>\n",
       "      <th>pons</th>\n",
       "      <td>0.0</td>\n",
       "      <td>1.000000</td>\n",
       "      <td>0.000907</td>\n",
       "      <td>0.0036</td>\n",
       "      <td>0.0</td>\n",
       "      <td>0.0</td>\n",
       "      <td>0.00181</td>\n",
       "      <td>0.000905</td>\n",
       "      <td>0.000904</td>\n",
       "      <td>0.006346</td>\n",
       "      <td>...</td>\n",
       "      <td>0.026564</td>\n",
       "      <td>0.004476</td>\n",
       "      <td>0.001808</td>\n",
       "      <td>0.002712</td>\n",
       "      <td>0.00361</td>\n",
       "      <td>0.000907</td>\n",
       "      <td>0.010453</td>\n",
       "      <td>0.002715</td>\n",
       "      <td>0.012456</td>\n",
       "      <td>0.003591</td>\n",
       "    </tr>\n",
       "    <tr>\n",
       "      <th>rete ovarii of mesonephros (mouse)</th>\n",
       "      <td>0.0</td>\n",
       "      <td>0.000907</td>\n",
       "      <td>1.000000</td>\n",
       "      <td>0.0000</td>\n",
       "      <td>0.0</td>\n",
       "      <td>0.0</td>\n",
       "      <td>0.00000</td>\n",
       "      <td>0.000000</td>\n",
       "      <td>0.000000</td>\n",
       "      <td>0.000000</td>\n",
       "      <td>...</td>\n",
       "      <td>0.000000</td>\n",
       "      <td>0.000000</td>\n",
       "      <td>0.000000</td>\n",
       "      <td>0.000000</td>\n",
       "      <td>0.00000</td>\n",
       "      <td>0.000000</td>\n",
       "      <td>0.000000</td>\n",
       "      <td>0.000000</td>\n",
       "      <td>0.000000</td>\n",
       "      <td>0.000000</td>\n",
       "    </tr>\n",
       "    <tr>\n",
       "      <th>bronchiole</th>\n",
       "      <td>0.0</td>\n",
       "      <td>0.003600</td>\n",
       "      <td>0.000000</td>\n",
       "      <td>1.0000</td>\n",
       "      <td>0.0</td>\n",
       "      <td>0.0</td>\n",
       "      <td>0.00000</td>\n",
       "      <td>0.000000</td>\n",
       "      <td>0.000000</td>\n",
       "      <td>0.000000</td>\n",
       "      <td>...</td>\n",
       "      <td>0.000000</td>\n",
       "      <td>0.000000</td>\n",
       "      <td>0.000000</td>\n",
       "      <td>0.000000</td>\n",
       "      <td>0.00000</td>\n",
       "      <td>0.000000</td>\n",
       "      <td>0.000000</td>\n",
       "      <td>0.000000</td>\n",
       "      <td>0.000000</td>\n",
       "      <td>0.000000</td>\n",
       "    </tr>\n",
       "    <tr>\n",
       "      <th>mesenchyme of umbilical cord</th>\n",
       "      <td>0.0</td>\n",
       "      <td>0.000000</td>\n",
       "      <td>0.000000</td>\n",
       "      <td>0.0000</td>\n",
       "      <td>1.0</td>\n",
       "      <td>0.0</td>\n",
       "      <td>0.00000</td>\n",
       "      <td>0.000000</td>\n",
       "      <td>0.000000</td>\n",
       "      <td>0.000000</td>\n",
       "      <td>...</td>\n",
       "      <td>0.000000</td>\n",
       "      <td>0.000000</td>\n",
       "      <td>0.000000</td>\n",
       "      <td>0.000000</td>\n",
       "      <td>0.00000</td>\n",
       "      <td>0.000000</td>\n",
       "      <td>0.000000</td>\n",
       "      <td>0.000000</td>\n",
       "      <td>0.000000</td>\n",
       "      <td>0.000000</td>\n",
       "    </tr>\n",
       "  </tbody>\n",
       "</table>\n",
       "<p>5 rows × 3142 columns</p>\n",
       "</div>"
      ],
      "text/plain": [
       "                                    rhombomere lateral wall      pons  \\\n",
       "                                                                        \n",
       "rhombomere lateral wall                                 1.0  0.000000   \n",
       "pons                                                    0.0  1.000000   \n",
       "rete ovarii of mesonephros (mouse)                      0.0  0.000907   \n",
       "bronchiole                                              0.0  0.003600   \n",
       "mesenchyme of umbilical cord                            0.0  0.000000   \n",
       "\n",
       "                                    rete ovarii of mesonephros (mouse)  \\\n",
       "                                                                         \n",
       "rhombomere lateral wall                                       0.000000   \n",
       "pons                                                          0.000907   \n",
       "rete ovarii of mesonephros (mouse)                            1.000000   \n",
       "bronchiole                                                    0.000000   \n",
       "mesenchyme of umbilical cord                                  0.000000   \n",
       "\n",
       "                                    bronchiole  mesenchyme of umbilical cord  \\\n",
       "                                                                               \n",
       "rhombomere lateral wall                 0.0000                           0.0   \n",
       "pons                                    0.0036                           0.0   \n",
       "rete ovarii of mesonephros (mouse)      0.0000                           0.0   \n",
       "bronchiole                              1.0000                           0.0   \n",
       "mesenchyme of umbilical cord            0.0000                           1.0   \n",
       "\n",
       "                                    posteromedial cortical amygdaloid nucleus  \\\n",
       "                                                                                \n",
       "rhombomere lateral wall                                                   0.0   \n",
       "pons                                                                      0.0   \n",
       "rete ovarii of mesonephros (mouse)                                        0.0   \n",
       "bronchiole                                                                0.0   \n",
       "mesenchyme of umbilical cord                                              0.0   \n",
       "\n",
       "                                    dorsal motor nucleus of vagus nerve  \\\n",
       "                                                                          \n",
       "rhombomere lateral wall                                         0.00000   \n",
       "pons                                                            0.00181   \n",
       "rete ovarii of mesonephros (mouse)                              0.00000   \n",
       "bronchiole                                                      0.00000   \n",
       "mesenchyme of umbilical cord                                    0.00000   \n",
       "\n",
       "                                    L5 vertebral cartilage condensation (mouse)  \\\n",
       "                                                                                  \n",
       "rhombomere lateral wall                                                0.000000   \n",
       "pons                                                                   0.000905   \n",
       "rete ovarii of mesonephros (mouse)                                     0.000000   \n",
       "bronchiole                                                             0.000000   \n",
       "mesenchyme of umbilical cord                                           0.000000   \n",
       "\n",
       "                                    subscapularis muscle  \\\n",
       "                                                           \n",
       "rhombomere lateral wall                         0.000000   \n",
       "pons                                            0.000904   \n",
       "rete ovarii of mesonephros (mouse)              0.000000   \n",
       "bronchiole                                      0.000000   \n",
       "mesenchyme of umbilical cord                    0.000000   \n",
       "\n",
       "                                    hilus of dentate gyrus  \\\n",
       "                                                             \n",
       "rhombomere lateral wall                           0.000000   \n",
       "pons                                              0.006346   \n",
       "rete ovarii of mesonephros (mouse)                0.000000   \n",
       "bronchiole                                        0.000000   \n",
       "mesenchyme of umbilical cord                      0.000000   \n",
       "\n",
       "                                                                ...                               \\\n",
       "                                                                ...                                \n",
       "rhombomere lateral wall                                         ...                                \n",
       "pons                                                            ...                                \n",
       "rete ovarii of mesonephros (mouse)                              ...                                \n",
       "bronchiole                                                      ...                                \n",
       "mesenchyme of umbilical cord                                    ...                                \n",
       "\n",
       "                                    CA2 field of hippocampus  \\\n",
       "                                                               \n",
       "rhombomere lateral wall                             0.000000   \n",
       "pons                                                0.026564   \n",
       "rete ovarii of mesonephros (mouse)                  0.000000   \n",
       "bronchiole                                          0.000000   \n",
       "mesenchyme of umbilical cord                        0.000000   \n",
       "\n",
       "                                    external female genitalia  \\\n",
       "                                                                \n",
       "rhombomere lateral wall                              0.000000   \n",
       "pons                                                 0.004476   \n",
       "rete ovarii of mesonephros (mouse)                   0.000000   \n",
       "bronchiole                                           0.000000   \n",
       "mesenchyme of umbilical cord                         0.000000   \n",
       "\n",
       "                                    ventral part of pharyngeal pouch 3  \\\n",
       "                                                                         \n",
       "rhombomere lateral wall                                       0.000000   \n",
       "pons                                                          0.001808   \n",
       "rete ovarii of mesonephros (mouse)                            0.000000   \n",
       "bronchiole                                                    0.000000   \n",
       "mesenchyme of umbilical cord                                  0.000000   \n",
       "\n",
       "                                    interdigital region between manual digits 4 and 5  \\\n",
       "                                                                                        \n",
       "rhombomere lateral wall                                                      0.000000   \n",
       "pons                                                                         0.002712   \n",
       "rete ovarii of mesonephros (mouse)                                           0.000000   \n",
       "bronchiole                                                                   0.000000   \n",
       "mesenchyme of umbilical cord                                                 0.000000   \n",
       "\n",
       "                                    acoustico-facial VII-VIII ganglion complex  \\\n",
       "                                                                                 \n",
       "rhombomere lateral wall                                                0.00000   \n",
       "pons                                                                   0.00361   \n",
       "rete ovarii of mesonephros (mouse)                                     0.00000   \n",
       "bronchiole                                                             0.00000   \n",
       "mesenchyme of umbilical cord                                           0.00000   \n",
       "\n",
       "                                    inferior vestibular nucleus  \\\n",
       "                                                                  \n",
       "rhombomere lateral wall                                0.000000   \n",
       "pons                                                   0.000907   \n",
       "rete ovarii of mesonephros (mouse)                     0.000000   \n",
       "bronchiole                                             0.000000   \n",
       "mesenchyme of umbilical cord                           0.000000   \n",
       "\n",
       "                                    liver primordium  \\\n",
       "                                                       \n",
       "rhombomere lateral wall                     0.000000   \n",
       "pons                                        0.010453   \n",
       "rete ovarii of mesonephros (mouse)          0.000000   \n",
       "bronchiole                                  0.000000   \n",
       "mesenchyme of umbilical cord                0.000000   \n",
       "\n",
       "                                    internal capsule of telencephalon  \\\n",
       "                                                                        \n",
       "rhombomere lateral wall                                      0.000000   \n",
       "pons                                                         0.002715   \n",
       "rete ovarii of mesonephros (mouse)                           0.000000   \n",
       "bronchiole                                                   0.000000   \n",
       "mesenchyme of umbilical cord                                 0.000000   \n",
       "\n",
       "                                    layer of neocortex  \\\n",
       "                                                         \n",
       "rhombomere lateral wall                       0.000000   \n",
       "pons                                          0.012456   \n",
       "rete ovarii of mesonephros (mouse)            0.000000   \n",
       "bronchiole                                    0.000000   \n",
       "mesenchyme of umbilical cord                  0.000000   \n",
       "\n",
       "                                    mesenchyme of rest of paramesonephric duct of female (mouse)  \n",
       "                                                                                                  \n",
       "rhombomere lateral wall                                                      0.000000             \n",
       "pons                                                                         0.003591             \n",
       "rete ovarii of mesonephros (mouse)                                           0.000000             \n",
       "bronchiole                                                                   0.000000             \n",
       "mesenchyme of umbilical cord                                                 0.000000             \n",
       "\n",
       "[5 rows x 3142 columns]"
      ]
     },
     "execution_count": 36,
     "metadata": {},
     "output_type": "execute_result"
    }
   ],
   "source": [
    "attribute_similarity_matix.head()"
   ]
  },
  {
   "cell_type": "code",
   "execution_count": 37,
   "metadata": {},
   "outputs": [
    {
     "data": {
      "text/plain": [
       "(3142, 3142)"
      ]
     },
     "execution_count": 37,
     "metadata": {},
     "output_type": "execute_result"
    }
   ],
   "source": [
    "attribute_similarity_matix.shape"
   ]
  },
  {
   "cell_type": "markdown",
   "metadata": {},
   "source": [
    "# Save Attribute Similarity Matrix"
   ]
  },
  {
   "cell_type": "code",
   "execution_count": 38,
   "metadata": {},
   "outputs": [],
   "source": [
    "filename = path+'bgee_mouse_anatomical_attribute_similarity_matix_%s.tsv.zip'% str(datetime.date.today())[0:7].replace('-', '_')\n",
    "attribute_similarity_matix.to_csv(filename, sep='\\t', compression='gzip')"
   ]
  },
  {
   "cell_type": "markdown",
   "metadata": {},
   "source": [
    "# Create Gene Similarity Matrix"
   ]
  },
  {
   "cell_type": "code",
   "execution_count": 41,
   "metadata": {},
   "outputs": [],
   "source": [
    "gene_similarity_matix = uf.createSimilarityMatrix(binary_matrix, 'jaccard')"
   ]
  },
  {
   "cell_type": "code",
   "execution_count": 42,
   "metadata": {},
   "outputs": [
    {
     "data": {
      "text/html": [
       "<div>\n",
       "<style scoped>\n",
       "    .dataframe tbody tr th:only-of-type {\n",
       "        vertical-align: middle;\n",
       "    }\n",
       "\n",
       "    .dataframe tbody tr th {\n",
       "        vertical-align: top;\n",
       "    }\n",
       "\n",
       "    .dataframe thead th {\n",
       "        text-align: right;\n",
       "    }\n",
       "</style>\n",
       "<table border=\"1\" class=\"dataframe\">\n",
       "  <thead>\n",
       "    <tr style=\"text-align: right;\">\n",
       "      <th></th>\n",
       "      <th>HOXB4</th>\n",
       "      <th>TRNAU1AP</th>\n",
       "      <th>LRBA</th>\n",
       "      <th>RNF181</th>\n",
       "      <th>SNRPF</th>\n",
       "      <th>TSEN34</th>\n",
       "      <th>TGFB1</th>\n",
       "      <th>NTN5</th>\n",
       "      <th>ZDHHC23</th>\n",
       "      <th>DNAJC13</th>\n",
       "      <th>...</th>\n",
       "      <th>ZIC5</th>\n",
       "      <th>MANEAL</th>\n",
       "      <th>ADAM29</th>\n",
       "      <th>ARHGEF3</th>\n",
       "      <th>ZG16</th>\n",
       "      <th>SLC29A4</th>\n",
       "      <th>TSSC4</th>\n",
       "      <th>OR13J1</th>\n",
       "      <th>ITGAM</th>\n",
       "      <th>FKBP7</th>\n",
       "    </tr>\n",
       "    <tr>\n",
       "      <th></th>\n",
       "      <th></th>\n",
       "      <th></th>\n",
       "      <th></th>\n",
       "      <th></th>\n",
       "      <th></th>\n",
       "      <th></th>\n",
       "      <th></th>\n",
       "      <th></th>\n",
       "      <th></th>\n",
       "      <th></th>\n",
       "      <th></th>\n",
       "      <th></th>\n",
       "      <th></th>\n",
       "      <th></th>\n",
       "      <th></th>\n",
       "      <th></th>\n",
       "      <th></th>\n",
       "      <th></th>\n",
       "      <th></th>\n",
       "      <th></th>\n",
       "      <th></th>\n",
       "    </tr>\n",
       "  </thead>\n",
       "  <tbody>\n",
       "    <tr>\n",
       "      <th>HOXB4</th>\n",
       "      <td>1.000000</td>\n",
       "      <td>0.319209</td>\n",
       "      <td>0.326316</td>\n",
       "      <td>0.318653</td>\n",
       "      <td>0.095890</td>\n",
       "      <td>0.085714</td>\n",
       "      <td>0.273743</td>\n",
       "      <td>0.062201</td>\n",
       "      <td>0.076190</td>\n",
       "      <td>0.317708</td>\n",
       "      <td>...</td>\n",
       "      <td>0.192691</td>\n",
       "      <td>0.136691</td>\n",
       "      <td>0.019324</td>\n",
       "      <td>0.319672</td>\n",
       "      <td>0.318584</td>\n",
       "      <td>0.177122</td>\n",
       "      <td>0.333333</td>\n",
       "      <td>0.114679</td>\n",
       "      <td>0.085714</td>\n",
       "      <td>0.324468</td>\n",
       "    </tr>\n",
       "    <tr>\n",
       "      <th>TRNAU1AP</th>\n",
       "      <td>0.319209</td>\n",
       "      <td>1.000000</td>\n",
       "      <td>0.820261</td>\n",
       "      <td>0.801282</td>\n",
       "      <td>0.122605</td>\n",
       "      <td>0.080769</td>\n",
       "      <td>0.413889</td>\n",
       "      <td>0.057692</td>\n",
       "      <td>0.073077</td>\n",
       "      <td>0.814935</td>\n",
       "      <td>...</td>\n",
       "      <td>0.445614</td>\n",
       "      <td>0.387218</td>\n",
       "      <td>0.015385</td>\n",
       "      <td>0.798658</td>\n",
       "      <td>0.754386</td>\n",
       "      <td>0.367647</td>\n",
       "      <td>0.836120</td>\n",
       "      <td>0.129771</td>\n",
       "      <td>0.080769</td>\n",
       "      <td>0.777419</td>\n",
       "    </tr>\n",
       "    <tr>\n",
       "      <th>LRBA</th>\n",
       "      <td>0.326316</td>\n",
       "      <td>0.820261</td>\n",
       "      <td>1.000000</td>\n",
       "      <td>0.932258</td>\n",
       "      <td>0.096346</td>\n",
       "      <td>0.070707</td>\n",
       "      <td>0.425587</td>\n",
       "      <td>0.050505</td>\n",
       "      <td>0.063973</td>\n",
       "      <td>0.947712</td>\n",
       "      <td>...</td>\n",
       "      <td>0.385802</td>\n",
       "      <td>0.348837</td>\n",
       "      <td>0.013468</td>\n",
       "      <td>0.897351</td>\n",
       "      <td>0.778146</td>\n",
       "      <td>0.349835</td>\n",
       "      <td>0.896440</td>\n",
       "      <td>0.121212</td>\n",
       "      <td>0.070707</td>\n",
       "      <td>0.849057</td>\n",
       "    </tr>\n",
       "    <tr>\n",
       "      <th>RNF181</th>\n",
       "      <td>0.318653</td>\n",
       "      <td>0.801282</td>\n",
       "      <td>0.932258</td>\n",
       "      <td>1.000000</td>\n",
       "      <td>0.094771</td>\n",
       "      <td>0.069536</td>\n",
       "      <td>0.420103</td>\n",
       "      <td>0.049669</td>\n",
       "      <td>0.062914</td>\n",
       "      <td>0.964052</td>\n",
       "      <td>...</td>\n",
       "      <td>0.371601</td>\n",
       "      <td>0.338762</td>\n",
       "      <td>0.013245</td>\n",
       "      <td>0.907591</td>\n",
       "      <td>0.794702</td>\n",
       "      <td>0.352941</td>\n",
       "      <td>0.888179</td>\n",
       "      <td>0.119205</td>\n",
       "      <td>0.069536</td>\n",
       "      <td>0.864780</td>\n",
       "    </tr>\n",
       "    <tr>\n",
       "      <th>SNRPF</th>\n",
       "      <td>0.095890</td>\n",
       "      <td>0.122605</td>\n",
       "      <td>0.096346</td>\n",
       "      <td>0.094771</td>\n",
       "      <td>1.000000</td>\n",
       "      <td>0.636364</td>\n",
       "      <td>0.105882</td>\n",
       "      <td>0.454545</td>\n",
       "      <td>0.575758</td>\n",
       "      <td>0.095710</td>\n",
       "      <td>...</td>\n",
       "      <td>0.178344</td>\n",
       "      <td>0.224138</td>\n",
       "      <td>0.121212</td>\n",
       "      <td>0.099644</td>\n",
       "      <td>0.105263</td>\n",
       "      <td>0.239316</td>\n",
       "      <td>0.098976</td>\n",
       "      <td>0.277778</td>\n",
       "      <td>0.636364</td>\n",
       "      <td>0.105802</td>\n",
       "    </tr>\n",
       "  </tbody>\n",
       "</table>\n",
       "<p>5 rows × 16289 columns</p>\n",
       "</div>"
      ],
      "text/plain": [
       "             HOXB4  TRNAU1AP      LRBA    RNF181     SNRPF    TSEN34  \\\n",
       "                                                                       \n",
       "HOXB4     1.000000  0.319209  0.326316  0.318653  0.095890  0.085714   \n",
       "TRNAU1AP  0.319209  1.000000  0.820261  0.801282  0.122605  0.080769   \n",
       "LRBA      0.326316  0.820261  1.000000  0.932258  0.096346  0.070707   \n",
       "RNF181    0.318653  0.801282  0.932258  1.000000  0.094771  0.069536   \n",
       "SNRPF     0.095890  0.122605  0.096346  0.094771  1.000000  0.636364   \n",
       "\n",
       "             TGFB1      NTN5   ZDHHC23   DNAJC13    ...         ZIC5  \\\n",
       "                                                    ...                \n",
       "HOXB4     0.273743  0.062201  0.076190  0.317708    ...     0.192691   \n",
       "TRNAU1AP  0.413889  0.057692  0.073077  0.814935    ...     0.445614   \n",
       "LRBA      0.425587  0.050505  0.063973  0.947712    ...     0.385802   \n",
       "RNF181    0.420103  0.049669  0.062914  0.964052    ...     0.371601   \n",
       "SNRPF     0.105882  0.454545  0.575758  0.095710    ...     0.178344   \n",
       "\n",
       "            MANEAL    ADAM29   ARHGEF3      ZG16   SLC29A4     TSSC4  \\\n",
       "                                                                       \n",
       "HOXB4     0.136691  0.019324  0.319672  0.318584  0.177122  0.333333   \n",
       "TRNAU1AP  0.387218  0.015385  0.798658  0.754386  0.367647  0.836120   \n",
       "LRBA      0.348837  0.013468  0.897351  0.778146  0.349835  0.896440   \n",
       "RNF181    0.338762  0.013245  0.907591  0.794702  0.352941  0.888179   \n",
       "SNRPF     0.224138  0.121212  0.099644  0.105263  0.239316  0.098976   \n",
       "\n",
       "            OR13J1     ITGAM     FKBP7  \n",
       "                                        \n",
       "HOXB4     0.114679  0.085714  0.324468  \n",
       "TRNAU1AP  0.129771  0.080769  0.777419  \n",
       "LRBA      0.121212  0.070707  0.849057  \n",
       "RNF181    0.119205  0.069536  0.864780  \n",
       "SNRPF     0.277778  0.636364  0.105802  \n",
       "\n",
       "[5 rows x 16289 columns]"
      ]
     },
     "execution_count": 42,
     "metadata": {},
     "output_type": "execute_result"
    }
   ],
   "source": [
    "gene_similarity_matix.head()"
   ]
  },
  {
   "cell_type": "code",
   "execution_count": 43,
   "metadata": {},
   "outputs": [
    {
     "data": {
      "text/plain": [
       "(16289, 16289)"
      ]
     },
     "execution_count": 43,
     "metadata": {},
     "output_type": "execute_result"
    }
   ],
   "source": [
    "gene_similarity_matix.shape"
   ]
  },
  {
   "cell_type": "markdown",
   "metadata": {},
   "source": [
    "# Save Gene Similarity Matrix"
   ]
  },
  {
   "cell_type": "code",
   "execution_count": 44,
   "metadata": {},
   "outputs": [],
   "source": [
    "filename = path+'bgee_mouse_anatomical_gene_similarity_matix_%s.tsv.zip'% str(datetime.date.today())[0:7].replace('-', '_')\n",
    "gene_similarity_matix.to_csv(filename, sep='\\t', compression='gzip')"
   ]
  },
  {
   "cell_type": "markdown",
   "metadata": {},
   "source": [
    "# Create Gene-Attribute Edge List"
   ]
  },
  {
   "cell_type": "code",
   "execution_count": 39,
   "metadata": {},
   "outputs": [],
   "source": [
    "name = 'bgee_mouse_anatomical_gene_attribute_edge_list'"
   ]
  },
  {
   "cell_type": "code",
   "execution_count": 40,
   "metadata": {},
   "outputs": [
    {
     "name": "stdout",
     "output_type": "stream",
     "text": [
      "Progeres: 100%  3142 Out of 3142   \n",
      "\n",
      " The number of statisticaly relevent gene-attribute associations is: 3163055\n"
     ]
    }
   ],
   "source": [
    "uf.createGeneAttributeEdgeList(binary_matrix, attribute_list, gene_list, path, name)"
   ]
  }
 ],
 "metadata": {
  "kernelspec": {
   "display_name": "Python 3",
   "language": "python",
   "name": "python3"
  },
  "language_info": {
   "codemirror_mode": {
    "name": "ipython",
    "version": 3
   },
   "file_extension": ".py",
   "mimetype": "text/x-python",
   "name": "python",
   "nbconvert_exporter": "python",
   "pygments_lexer": "ipython3",
   "version": "3.6.4"
  }
 },
 "nbformat": 4,
 "nbformat_minor": 2
}
