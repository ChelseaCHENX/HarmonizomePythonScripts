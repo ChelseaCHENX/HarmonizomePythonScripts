{
 "cells": [
  {
   "cell_type": "markdown",
   "metadata": {},
   "source": [
    "# bgee Mouse Developmental Stage"
   ]
  },
  {
   "cell_type": "markdown",
   "metadata": {},
   "source": [
    "Author: Moshe Silverstein  \n",
    "Date: 08-18  \n",
    "Data Source Home: https://bgee.org/     \n",
    "Data Source Download: https://bgee.org/?page=download&action=expr_calls#id1 "
   ]
  },
  {
   "cell_type": "code",
   "execution_count": 1,
   "metadata": {},
   "outputs": [],
   "source": [
    "import sys, datetime, os\n",
    "import numpy as np\n",
    "import pandas as pd\n",
    "import importlib\n",
    "import utility_functions as uf\n",
    "import matplotlib.pyplot as plt\n",
    "%matplotlib inline\n",
    "from collections import Counter"
   ]
  },
  {
   "cell_type": "code",
   "execution_count": 2,
   "metadata": {},
   "outputs": [],
   "source": [
    "import seaborn as sns\n",
    "sns.set(color_codes=True)\n",
    "np.random.seed(sum(map(ord, \"distributions\")))"
   ]
  },
  {
   "cell_type": "markdown",
   "metadata": {},
   "source": [
    "# Path to Output Files"
   ]
  },
  {
   "cell_type": "code",
   "execution_count": 3,
   "metadata": {},
   "outputs": [],
   "source": [
    "path = '/Users/moshesilverstein/Documents/Harmonizome/bgee/Output/'"
   ]
  },
  {
   "cell_type": "markdown",
   "metadata": {},
   "source": [
    "# Load Data"
   ]
  },
  {
   "cell_type": "code",
   "execution_count": 4,
   "metadata": {},
   "outputs": [
    {
     "name": "stderr",
     "output_type": "stream",
     "text": [
      "/Users/moshesilverstein/anaconda3/lib/python3.6/site-packages/IPython/core/interactiveshell.py:2785: DtypeWarning: Columns (8) have mixed types. Specify dtype option on import or set low_memory=False.\n",
      "  interactivity=interactivity, compiler=compiler, result=result)\n"
     ]
    }
   ],
   "source": [
    "df = pd.read_csv('Input/Mus_musculus_expr_advanced_development.tsv', sep='\\t')"
   ]
  },
  {
   "cell_type": "code",
   "execution_count": 5,
   "metadata": {},
   "outputs": [
    {
     "data": {
      "text/html": [
       "<div>\n",
       "<style scoped>\n",
       "    .dataframe tbody tr th:only-of-type {\n",
       "        vertical-align: middle;\n",
       "    }\n",
       "\n",
       "    .dataframe tbody tr th {\n",
       "        vertical-align: top;\n",
       "    }\n",
       "\n",
       "    .dataframe thead th {\n",
       "        text-align: right;\n",
       "    }\n",
       "</style>\n",
       "<table border=\"1\" class=\"dataframe\">\n",
       "  <thead>\n",
       "    <tr style=\"text-align: right;\">\n",
       "      <th></th>\n",
       "      <th>Gene ID</th>\n",
       "      <th>Gene name</th>\n",
       "      <th>Anatomical entity ID</th>\n",
       "      <th>Anatomical entity name</th>\n",
       "      <th>Developmental stage ID</th>\n",
       "      <th>Developmental stage name</th>\n",
       "      <th>Expression</th>\n",
       "      <th>Call quality</th>\n",
       "      <th>Expression rank</th>\n",
       "      <th>Including observed data</th>\n",
       "      <th>...</th>\n",
       "      <th>In situ hybridization experiment count showing expression of this gene in this condition or in sub-conditions with a low quality</th>\n",
       "      <th>In situ hybridization experiment count showing absence of expression of this gene in this condition or valid parent conditions with a high quality</th>\n",
       "      <th>In situ hybridization experiment count showing absence of expression of this gene in this condition or valid parent conditions with a low quality</th>\n",
       "      <th>Including in situ hybridization observed data</th>\n",
       "      <th>RNA-Seq data</th>\n",
       "      <th>RNA-Seq  experiment count showing expression of this gene in this condition or in sub-conditions with a high quality</th>\n",
       "      <th>RNA-Seq  experiment count showing expression of this gene in this condition or in sub-conditions with a low quality</th>\n",
       "      <th>RNA-Seq  experiment count showing absence of expression of this gene in this condition or valid parent conditions with a high quality</th>\n",
       "      <th>RNA-Seq  experiment count showing absence of expression of this gene in this condition or valid parent conditions with a low quality</th>\n",
       "      <th>Including RNA-Seq observed data</th>\n",
       "    </tr>\n",
       "  </thead>\n",
       "  <tbody>\n",
       "    <tr>\n",
       "      <th>0</th>\n",
       "      <td>ENSMUSG00000000001</td>\n",
       "      <td>Gnai3</td>\n",
       "      <td>CL:0000023</td>\n",
       "      <td>oocyte</td>\n",
       "      <td>UBERON:0000104</td>\n",
       "      <td>life cycle</td>\n",
       "      <td>present</td>\n",
       "      <td>gold quality</td>\n",
       "      <td>1120</td>\n",
       "      <td>yes</td>\n",
       "      <td>...</td>\n",
       "      <td>0</td>\n",
       "      <td>0</td>\n",
       "      <td>0</td>\n",
       "      <td>no</td>\n",
       "      <td>no data</td>\n",
       "      <td>0</td>\n",
       "      <td>0</td>\n",
       "      <td>0</td>\n",
       "      <td>0</td>\n",
       "      <td>no</td>\n",
       "    </tr>\n",
       "    <tr>\n",
       "      <th>1</th>\n",
       "      <td>ENSMUSG00000000001</td>\n",
       "      <td>Gnai3</td>\n",
       "      <td>CL:0000025</td>\n",
       "      <td>egg cell</td>\n",
       "      <td>UBERON:0000113</td>\n",
       "      <td>post-juvenile adult stage</td>\n",
       "      <td>present</td>\n",
       "      <td>silver quality</td>\n",
       "      <td>18600</td>\n",
       "      <td>yes</td>\n",
       "      <td>...</td>\n",
       "      <td>0</td>\n",
       "      <td>0</td>\n",
       "      <td>0</td>\n",
       "      <td>no</td>\n",
       "      <td>no data</td>\n",
       "      <td>0</td>\n",
       "      <td>0</td>\n",
       "      <td>0</td>\n",
       "      <td>0</td>\n",
       "      <td>no</td>\n",
       "    </tr>\n",
       "    <tr>\n",
       "      <th>2</th>\n",
       "      <td>ENSMUSG00000000001</td>\n",
       "      <td>Gnai3</td>\n",
       "      <td>CL:0000057</td>\n",
       "      <td>fibroblast</td>\n",
       "      <td>MmusDv:0000052</td>\n",
       "      <td>8 weeks (mouse)</td>\n",
       "      <td>present</td>\n",
       "      <td>silver quality</td>\n",
       "      <td>1850</td>\n",
       "      <td>yes</td>\n",
       "      <td>...</td>\n",
       "      <td>0</td>\n",
       "      <td>0</td>\n",
       "      <td>0</td>\n",
       "      <td>no</td>\n",
       "      <td>present</td>\n",
       "      <td>1</td>\n",
       "      <td>0</td>\n",
       "      <td>0</td>\n",
       "      <td>0</td>\n",
       "      <td>yes</td>\n",
       "    </tr>\n",
       "    <tr>\n",
       "      <th>3</th>\n",
       "      <td>ENSMUSG00000000001</td>\n",
       "      <td>Gnai3</td>\n",
       "      <td>CL:0000365</td>\n",
       "      <td>zygote</td>\n",
       "      <td>UBERON:0000106</td>\n",
       "      <td>zygote stage</td>\n",
       "      <td>present</td>\n",
       "      <td>gold quality</td>\n",
       "      <td>1410</td>\n",
       "      <td>yes</td>\n",
       "      <td>...</td>\n",
       "      <td>0</td>\n",
       "      <td>0</td>\n",
       "      <td>0</td>\n",
       "      <td>no</td>\n",
       "      <td>no data</td>\n",
       "      <td>0</td>\n",
       "      <td>0</td>\n",
       "      <td>0</td>\n",
       "      <td>0</td>\n",
       "      <td>no</td>\n",
       "    </tr>\n",
       "    <tr>\n",
       "      <th>4</th>\n",
       "      <td>ENSMUSG00000000001</td>\n",
       "      <td>Gnai3</td>\n",
       "      <td>CL:0000510</td>\n",
       "      <td>paneth cell</td>\n",
       "      <td>MmusDv:0000050</td>\n",
       "      <td>6 weeks (mouse)</td>\n",
       "      <td>present</td>\n",
       "      <td>silver quality</td>\n",
       "      <td>1820</td>\n",
       "      <td>yes</td>\n",
       "      <td>...</td>\n",
       "      <td>0</td>\n",
       "      <td>0</td>\n",
       "      <td>0</td>\n",
       "      <td>no</td>\n",
       "      <td>no data</td>\n",
       "      <td>0</td>\n",
       "      <td>0</td>\n",
       "      <td>0</td>\n",
       "      <td>0</td>\n",
       "      <td>no</td>\n",
       "    </tr>\n",
       "  </tbody>\n",
       "</table>\n",
       "<p>5 rows × 32 columns</p>\n",
       "</div>"
      ],
      "text/plain": [
       "              Gene ID Gene name Anatomical entity ID Anatomical entity name  \\\n",
       "0  ENSMUSG00000000001     Gnai3           CL:0000023                 oocyte   \n",
       "1  ENSMUSG00000000001     Gnai3           CL:0000025               egg cell   \n",
       "2  ENSMUSG00000000001     Gnai3           CL:0000057             fibroblast   \n",
       "3  ENSMUSG00000000001     Gnai3           CL:0000365                 zygote   \n",
       "4  ENSMUSG00000000001     Gnai3           CL:0000510            paneth cell   \n",
       "\n",
       "  Developmental stage ID   Developmental stage name Expression  \\\n",
       "0         UBERON:0000104                 life cycle    present   \n",
       "1         UBERON:0000113  post-juvenile adult stage    present   \n",
       "2         MmusDv:0000052            8 weeks (mouse)    present   \n",
       "3         UBERON:0000106               zygote stage    present   \n",
       "4         MmusDv:0000050            6 weeks (mouse)    present   \n",
       "\n",
       "     Call quality Expression rank Including observed data  \\\n",
       "0    gold quality            1120                     yes   \n",
       "1  silver quality           18600                     yes   \n",
       "2  silver quality            1850                     yes   \n",
       "3    gold quality            1410                     yes   \n",
       "4  silver quality            1820                     yes   \n",
       "\n",
       "                ...                \\\n",
       "0               ...                 \n",
       "1               ...                 \n",
       "2               ...                 \n",
       "3               ...                 \n",
       "4               ...                 \n",
       "\n",
       "  In situ hybridization experiment count showing expression of this gene in this condition or in sub-conditions with a low quality  \\\n",
       "0                                                  0                                                                                 \n",
       "1                                                  0                                                                                 \n",
       "2                                                  0                                                                                 \n",
       "3                                                  0                                                                                 \n",
       "4                                                  0                                                                                 \n",
       "\n",
       "   In situ hybridization experiment count showing absence of expression of this gene in this condition or valid parent conditions with a high quality  \\\n",
       "0                                                  0                                                                                                    \n",
       "1                                                  0                                                                                                    \n",
       "2                                                  0                                                                                                    \n",
       "3                                                  0                                                                                                    \n",
       "4                                                  0                                                                                                    \n",
       "\n",
       "   In situ hybridization experiment count showing absence of expression of this gene in this condition or valid parent conditions with a low quality  \\\n",
       "0                                                  0                                                                                                   \n",
       "1                                                  0                                                                                                   \n",
       "2                                                  0                                                                                                   \n",
       "3                                                  0                                                                                                   \n",
       "4                                                  0                                                                                                   \n",
       "\n",
       "   Including in situ hybridization observed data  RNA-Seq data  \\\n",
       "0                                             no       no data   \n",
       "1                                             no       no data   \n",
       "2                                             no       present   \n",
       "3                                             no       no data   \n",
       "4                                             no       no data   \n",
       "\n",
       "  RNA-Seq  experiment count showing expression of this gene in this condition or in sub-conditions with a high quality  \\\n",
       "0                                                  0                                                                     \n",
       "1                                                  0                                                                     \n",
       "2                                                  1                                                                     \n",
       "3                                                  0                                                                     \n",
       "4                                                  0                                                                     \n",
       "\n",
       "  RNA-Seq  experiment count showing expression of this gene in this condition or in sub-conditions with a low quality  \\\n",
       "0                                                  0                                                                    \n",
       "1                                                  0                                                                    \n",
       "2                                                  0                                                                    \n",
       "3                                                  0                                                                    \n",
       "4                                                  0                                                                    \n",
       "\n",
       "   RNA-Seq  experiment count showing absence of expression of this gene in this condition or valid parent conditions with a high quality  \\\n",
       "0                                                  0                                                                                       \n",
       "1                                                  0                                                                                       \n",
       "2                                                  0                                                                                       \n",
       "3                                                  0                                                                                       \n",
       "4                                                  0                                                                                       \n",
       "\n",
       "   RNA-Seq  experiment count showing absence of expression of this gene in this condition or valid parent conditions with a low quality  \\\n",
       "0                                                  0                                                                                      \n",
       "1                                                  0                                                                                      \n",
       "2                                                  0                                                                                      \n",
       "3                                                  0                                                                                      \n",
       "4                                                  0                                                                                      \n",
       "\n",
       "  Including RNA-Seq observed data  \n",
       "0                              no  \n",
       "1                              no  \n",
       "2                             yes  \n",
       "3                              no  \n",
       "4                              no  \n",
       "\n",
       "[5 rows x 32 columns]"
      ]
     },
     "execution_count": 5,
     "metadata": {},
     "output_type": "execute_result"
    }
   ],
   "source": [
    "df.head()"
   ]
  },
  {
   "cell_type": "code",
   "execution_count": 6,
   "metadata": {},
   "outputs": [
    {
     "data": {
      "text/plain": [
       "(15706235, 32)"
      ]
     },
     "execution_count": 6,
     "metadata": {},
     "output_type": "execute_result"
    }
   ],
   "source": [
    "df.shape"
   ]
  },
  {
   "cell_type": "markdown",
   "metadata": {},
   "source": [
    "# Get relevant data"
   ]
  },
  {
   "cell_type": "code",
   "execution_count": 7,
   "metadata": {},
   "outputs": [],
   "source": [
    "df = df[['Gene name', 'Anatomical entity name', 'Developmental stage name', 'Expression', 'Call quality']]"
   ]
  },
  {
   "cell_type": "code",
   "execution_count": 8,
   "metadata": {},
   "outputs": [
    {
     "data": {
      "text/html": [
       "<div>\n",
       "<style scoped>\n",
       "    .dataframe tbody tr th:only-of-type {\n",
       "        vertical-align: middle;\n",
       "    }\n",
       "\n",
       "    .dataframe tbody tr th {\n",
       "        vertical-align: top;\n",
       "    }\n",
       "\n",
       "    .dataframe thead th {\n",
       "        text-align: right;\n",
       "    }\n",
       "</style>\n",
       "<table border=\"1\" class=\"dataframe\">\n",
       "  <thead>\n",
       "    <tr style=\"text-align: right;\">\n",
       "      <th></th>\n",
       "      <th>Gene name</th>\n",
       "      <th>Anatomical entity name</th>\n",
       "      <th>Developmental stage name</th>\n",
       "      <th>Expression</th>\n",
       "      <th>Call quality</th>\n",
       "    </tr>\n",
       "  </thead>\n",
       "  <tbody>\n",
       "    <tr>\n",
       "      <th>0</th>\n",
       "      <td>Gnai3</td>\n",
       "      <td>oocyte</td>\n",
       "      <td>life cycle</td>\n",
       "      <td>present</td>\n",
       "      <td>gold quality</td>\n",
       "    </tr>\n",
       "    <tr>\n",
       "      <th>1</th>\n",
       "      <td>Gnai3</td>\n",
       "      <td>egg cell</td>\n",
       "      <td>post-juvenile adult stage</td>\n",
       "      <td>present</td>\n",
       "      <td>silver quality</td>\n",
       "    </tr>\n",
       "    <tr>\n",
       "      <th>2</th>\n",
       "      <td>Gnai3</td>\n",
       "      <td>fibroblast</td>\n",
       "      <td>8 weeks (mouse)</td>\n",
       "      <td>present</td>\n",
       "      <td>silver quality</td>\n",
       "    </tr>\n",
       "    <tr>\n",
       "      <th>3</th>\n",
       "      <td>Gnai3</td>\n",
       "      <td>zygote</td>\n",
       "      <td>zygote stage</td>\n",
       "      <td>present</td>\n",
       "      <td>gold quality</td>\n",
       "    </tr>\n",
       "    <tr>\n",
       "      <th>4</th>\n",
       "      <td>Gnai3</td>\n",
       "      <td>paneth cell</td>\n",
       "      <td>6 weeks (mouse)</td>\n",
       "      <td>present</td>\n",
       "      <td>silver quality</td>\n",
       "    </tr>\n",
       "  </tbody>\n",
       "</table>\n",
       "</div>"
      ],
      "text/plain": [
       "  Gene name Anatomical entity name   Developmental stage name Expression  \\\n",
       "0     Gnai3                 oocyte                 life cycle    present   \n",
       "1     Gnai3               egg cell  post-juvenile adult stage    present   \n",
       "2     Gnai3             fibroblast            8 weeks (mouse)    present   \n",
       "3     Gnai3                 zygote               zygote stage    present   \n",
       "4     Gnai3            paneth cell            6 weeks (mouse)    present   \n",
       "\n",
       "     Call quality  \n",
       "0    gold quality  \n",
       "1  silver quality  \n",
       "2  silver quality  \n",
       "3    gold quality  \n",
       "4  silver quality  "
      ]
     },
     "execution_count": 8,
     "metadata": {},
     "output_type": "execute_result"
    }
   ],
   "source": [
    "df.head()"
   ]
  },
  {
   "cell_type": "code",
   "execution_count": 9,
   "metadata": {},
   "outputs": [],
   "source": [
    "df = df[df['Expression'] == 'present']"
   ]
  },
  {
   "cell_type": "code",
   "execution_count": 10,
   "metadata": {},
   "outputs": [],
   "source": [
    "df = df[['Gene name', 'Developmental stage name']]"
   ]
  },
  {
   "cell_type": "code",
   "execution_count": 11,
   "metadata": {},
   "outputs": [
    {
     "data": {
      "text/html": [
       "<div>\n",
       "<style scoped>\n",
       "    .dataframe tbody tr th:only-of-type {\n",
       "        vertical-align: middle;\n",
       "    }\n",
       "\n",
       "    .dataframe tbody tr th {\n",
       "        vertical-align: top;\n",
       "    }\n",
       "\n",
       "    .dataframe thead th {\n",
       "        text-align: right;\n",
       "    }\n",
       "</style>\n",
       "<table border=\"1\" class=\"dataframe\">\n",
       "  <thead>\n",
       "    <tr style=\"text-align: right;\">\n",
       "      <th></th>\n",
       "      <th>Gene name</th>\n",
       "      <th>Developmental stage name</th>\n",
       "    </tr>\n",
       "  </thead>\n",
       "  <tbody>\n",
       "    <tr>\n",
       "      <th>0</th>\n",
       "      <td>Gnai3</td>\n",
       "      <td>life cycle</td>\n",
       "    </tr>\n",
       "    <tr>\n",
       "      <th>1</th>\n",
       "      <td>Gnai3</td>\n",
       "      <td>post-juvenile adult stage</td>\n",
       "    </tr>\n",
       "    <tr>\n",
       "      <th>2</th>\n",
       "      <td>Gnai3</td>\n",
       "      <td>8 weeks (mouse)</td>\n",
       "    </tr>\n",
       "    <tr>\n",
       "      <th>3</th>\n",
       "      <td>Gnai3</td>\n",
       "      <td>zygote stage</td>\n",
       "    </tr>\n",
       "    <tr>\n",
       "      <th>4</th>\n",
       "      <td>Gnai3</td>\n",
       "      <td>6 weeks (mouse)</td>\n",
       "    </tr>\n",
       "  </tbody>\n",
       "</table>\n",
       "</div>"
      ],
      "text/plain": [
       "  Gene name   Developmental stage name\n",
       "0     Gnai3                 life cycle\n",
       "1     Gnai3  post-juvenile adult stage\n",
       "2     Gnai3            8 weeks (mouse)\n",
       "3     Gnai3               zygote stage\n",
       "4     Gnai3            6 weeks (mouse)"
      ]
     },
     "execution_count": 11,
     "metadata": {},
     "output_type": "execute_result"
    }
   ],
   "source": [
    "df.head()"
   ]
  },
  {
   "cell_type": "code",
   "execution_count": 12,
   "metadata": {},
   "outputs": [
    {
     "data": {
      "text/plain": [
       "(10506933, 2)"
      ]
     },
     "execution_count": 12,
     "metadata": {},
     "output_type": "execute_result"
    }
   ],
   "source": [
    "df.shape"
   ]
  },
  {
   "cell_type": "markdown",
   "metadata": {},
   "source": [
    "# Map Gene Symbols To Up-to-date Approved Gene Symbols"
   ]
  },
  {
   "cell_type": "code",
   "execution_count": 13,
   "metadata": {},
   "outputs": [],
   "source": [
    "df.set_index('Gene name', inplace=True)"
   ]
  },
  {
   "cell_type": "code",
   "execution_count": 14,
   "metadata": {},
   "outputs": [
    {
     "name": "stdout",
     "output_type": "stream",
     "text": [
      "Progeres: 100%  10506933 Out of 10506933   \r"
     ]
    }
   ],
   "source": [
    "uf.mapgenesymbols(df)"
   ]
  },
  {
   "cell_type": "markdown",
   "metadata": {},
   "source": [
    "# Drop Duplicates"
   ]
  },
  {
   "cell_type": "code",
   "execution_count": 15,
   "metadata": {},
   "outputs": [],
   "source": [
    "df.reset_index(inplace=True)"
   ]
  },
  {
   "cell_type": "code",
   "execution_count": 16,
   "metadata": {},
   "outputs": [],
   "source": [
    "df.drop_duplicates(inplace=True)"
   ]
  },
  {
   "cell_type": "code",
   "execution_count": 17,
   "metadata": {},
   "outputs": [
    {
     "data": {
      "text/html": [
       "<div>\n",
       "<style scoped>\n",
       "    .dataframe tbody tr th:only-of-type {\n",
       "        vertical-align: middle;\n",
       "    }\n",
       "\n",
       "    .dataframe tbody tr th {\n",
       "        vertical-align: top;\n",
       "    }\n",
       "\n",
       "    .dataframe thead th {\n",
       "        text-align: right;\n",
       "    }\n",
       "</style>\n",
       "<table border=\"1\" class=\"dataframe\">\n",
       "  <thead>\n",
       "    <tr style=\"text-align: right;\">\n",
       "      <th></th>\n",
       "      <th>Gene name</th>\n",
       "      <th>Developmental stage name</th>\n",
       "    </tr>\n",
       "  </thead>\n",
       "  <tbody>\n",
       "    <tr>\n",
       "      <th>0</th>\n",
       "      <td>GNAI3</td>\n",
       "      <td>life cycle</td>\n",
       "    </tr>\n",
       "    <tr>\n",
       "      <th>1</th>\n",
       "      <td>GNAI3</td>\n",
       "      <td>post-juvenile adult stage</td>\n",
       "    </tr>\n",
       "    <tr>\n",
       "      <th>2</th>\n",
       "      <td>GNAI3</td>\n",
       "      <td>8 weeks (mouse)</td>\n",
       "    </tr>\n",
       "    <tr>\n",
       "      <th>3</th>\n",
       "      <td>GNAI3</td>\n",
       "      <td>zygote stage</td>\n",
       "    </tr>\n",
       "    <tr>\n",
       "      <th>4</th>\n",
       "      <td>GNAI3</td>\n",
       "      <td>6 weeks (mouse)</td>\n",
       "    </tr>\n",
       "  </tbody>\n",
       "</table>\n",
       "</div>"
      ],
      "text/plain": [
       "  Gene name   Developmental stage name\n",
       "0     GNAI3                 life cycle\n",
       "1     GNAI3  post-juvenile adult stage\n",
       "2     GNAI3            8 weeks (mouse)\n",
       "3     GNAI3               zygote stage\n",
       "4     GNAI3            6 weeks (mouse)"
      ]
     },
     "execution_count": 17,
     "metadata": {},
     "output_type": "execute_result"
    }
   ],
   "source": [
    "df.head()"
   ]
  },
  {
   "cell_type": "code",
   "execution_count": 18,
   "metadata": {},
   "outputs": [
    {
     "data": {
      "text/plain": [
       "(660778, 2)"
      ]
     },
     "execution_count": 18,
     "metadata": {},
     "output_type": "execute_result"
    }
   ],
   "source": [
    "df.shape"
   ]
  },
  {
   "cell_type": "markdown",
   "metadata": {},
   "source": [
    "# Create Binary Matrix"
   ]
  },
  {
   "cell_type": "code",
   "execution_count": 19,
   "metadata": {},
   "outputs": [
    {
     "name": "stdout",
     "output_type": "stream",
     "text": [
      "Progeres: 100%  16289 Out of 16289   \r"
     ]
    }
   ],
   "source": [
    "binary_matrix = uf.createBinaryMatrix(df)"
   ]
  },
  {
   "cell_type": "code",
   "execution_count": 20,
   "metadata": {},
   "outputs": [
    {
     "data": {
      "text/html": [
       "<div>\n",
       "<style scoped>\n",
       "    .dataframe tbody tr th:only-of-type {\n",
       "        vertical-align: middle;\n",
       "    }\n",
       "\n",
       "    .dataframe tbody tr th {\n",
       "        vertical-align: top;\n",
       "    }\n",
       "\n",
       "    .dataframe thead th {\n",
       "        text-align: right;\n",
       "    }\n",
       "</style>\n",
       "<table border=\"1\" class=\"dataframe\">\n",
       "  <thead>\n",
       "    <tr style=\"text-align: right;\">\n",
       "      <th></th>\n",
       "      <th>10 weeks (mouse)</th>\n",
       "      <th>2 month-old stage (mouse)</th>\n",
       "      <th>Theiler stage 06 (mouse)</th>\n",
       "      <th>late embryonic stage</th>\n",
       "      <th>Theiler stage 13 (mouse)</th>\n",
       "      <th>Theiler stage 16 (mouse)</th>\n",
       "      <th>Theiler stage 04 (mouse)</th>\n",
       "      <th>cleavage stage</th>\n",
       "      <th>Theiler stage 10 (mouse)</th>\n",
       "      <th>middle aged stage (mouse)</th>\n",
       "      <th>...</th>\n",
       "      <th>Theiler stage 07 (mouse)</th>\n",
       "      <th>Theiler stage 14 (mouse)</th>\n",
       "      <th>6 weeks (mouse)</th>\n",
       "      <th>gastrula stage</th>\n",
       "      <th>Theiler stage 02 (mouse)</th>\n",
       "      <th>Theiler stage 21 (mouse)</th>\n",
       "      <th>2 weeks (mouse)</th>\n",
       "      <th>Theiler stage 24 (mouse)</th>\n",
       "      <th>Theiler stage 19 (mouse)</th>\n",
       "      <th>Theiler stage 25 (mouse)</th>\n",
       "    </tr>\n",
       "  </thead>\n",
       "  <tbody>\n",
       "    <tr>\n",
       "      <th>CHTF8</th>\n",
       "      <td>1.0</td>\n",
       "      <td>1.0</td>\n",
       "      <td>1.0</td>\n",
       "      <td>1.0</td>\n",
       "      <td>1.0</td>\n",
       "      <td>1.0</td>\n",
       "      <td>1.0</td>\n",
       "      <td>0.0</td>\n",
       "      <td>1.0</td>\n",
       "      <td>1.0</td>\n",
       "      <td>...</td>\n",
       "      <td>1.0</td>\n",
       "      <td>1.0</td>\n",
       "      <td>1.0</td>\n",
       "      <td>0.0</td>\n",
       "      <td>1.0</td>\n",
       "      <td>1.0</td>\n",
       "      <td>1.0</td>\n",
       "      <td>1.0</td>\n",
       "      <td>1.0</td>\n",
       "      <td>1.0</td>\n",
       "    </tr>\n",
       "    <tr>\n",
       "      <th>NLGN3</th>\n",
       "      <td>1.0</td>\n",
       "      <td>1.0</td>\n",
       "      <td>0.0</td>\n",
       "      <td>1.0</td>\n",
       "      <td>0.0</td>\n",
       "      <td>0.0</td>\n",
       "      <td>0.0</td>\n",
       "      <td>0.0</td>\n",
       "      <td>0.0</td>\n",
       "      <td>1.0</td>\n",
       "      <td>...</td>\n",
       "      <td>0.0</td>\n",
       "      <td>0.0</td>\n",
       "      <td>1.0</td>\n",
       "      <td>0.0</td>\n",
       "      <td>0.0</td>\n",
       "      <td>1.0</td>\n",
       "      <td>1.0</td>\n",
       "      <td>1.0</td>\n",
       "      <td>1.0</td>\n",
       "      <td>1.0</td>\n",
       "    </tr>\n",
       "    <tr>\n",
       "      <th>ATP8B3</th>\n",
       "      <td>0.0</td>\n",
       "      <td>1.0</td>\n",
       "      <td>0.0</td>\n",
       "      <td>0.0</td>\n",
       "      <td>0.0</td>\n",
       "      <td>0.0</td>\n",
       "      <td>0.0</td>\n",
       "      <td>0.0</td>\n",
       "      <td>0.0</td>\n",
       "      <td>0.0</td>\n",
       "      <td>...</td>\n",
       "      <td>0.0</td>\n",
       "      <td>0.0</td>\n",
       "      <td>1.0</td>\n",
       "      <td>0.0</td>\n",
       "      <td>0.0</td>\n",
       "      <td>1.0</td>\n",
       "      <td>1.0</td>\n",
       "      <td>0.0</td>\n",
       "      <td>0.0</td>\n",
       "      <td>0.0</td>\n",
       "    </tr>\n",
       "    <tr>\n",
       "      <th>EDRF1</th>\n",
       "      <td>1.0</td>\n",
       "      <td>1.0</td>\n",
       "      <td>0.0</td>\n",
       "      <td>1.0</td>\n",
       "      <td>1.0</td>\n",
       "      <td>1.0</td>\n",
       "      <td>1.0</td>\n",
       "      <td>0.0</td>\n",
       "      <td>0.0</td>\n",
       "      <td>1.0</td>\n",
       "      <td>...</td>\n",
       "      <td>0.0</td>\n",
       "      <td>1.0</td>\n",
       "      <td>1.0</td>\n",
       "      <td>0.0</td>\n",
       "      <td>1.0</td>\n",
       "      <td>1.0</td>\n",
       "      <td>1.0</td>\n",
       "      <td>1.0</td>\n",
       "      <td>1.0</td>\n",
       "      <td>1.0</td>\n",
       "    </tr>\n",
       "    <tr>\n",
       "      <th>VAC14</th>\n",
       "      <td>1.0</td>\n",
       "      <td>1.0</td>\n",
       "      <td>1.0</td>\n",
       "      <td>1.0</td>\n",
       "      <td>1.0</td>\n",
       "      <td>1.0</td>\n",
       "      <td>1.0</td>\n",
       "      <td>0.0</td>\n",
       "      <td>0.0</td>\n",
       "      <td>1.0</td>\n",
       "      <td>...</td>\n",
       "      <td>0.0</td>\n",
       "      <td>1.0</td>\n",
       "      <td>1.0</td>\n",
       "      <td>0.0</td>\n",
       "      <td>1.0</td>\n",
       "      <td>1.0</td>\n",
       "      <td>1.0</td>\n",
       "      <td>1.0</td>\n",
       "      <td>1.0</td>\n",
       "      <td>1.0</td>\n",
       "    </tr>\n",
       "  </tbody>\n",
       "</table>\n",
       "<p>5 rows × 58 columns</p>\n",
       "</div>"
      ],
      "text/plain": [
       "        10 weeks (mouse)  2 month-old stage (mouse)  Theiler stage 06 (mouse)  \\\n",
       "CHTF8                1.0                        1.0                       1.0   \n",
       "NLGN3                1.0                        1.0                       0.0   \n",
       "ATP8B3               0.0                        1.0                       0.0   \n",
       "EDRF1                1.0                        1.0                       0.0   \n",
       "VAC14                1.0                        1.0                       1.0   \n",
       "\n",
       "        late embryonic stage  Theiler stage 13 (mouse)  \\\n",
       "CHTF8                    1.0                       1.0   \n",
       "NLGN3                    1.0                       0.0   \n",
       "ATP8B3                   0.0                       0.0   \n",
       "EDRF1                    1.0                       1.0   \n",
       "VAC14                    1.0                       1.0   \n",
       "\n",
       "        Theiler stage 16 (mouse)  Theiler stage 04 (mouse)  cleavage stage  \\\n",
       "CHTF8                        1.0                       1.0             0.0   \n",
       "NLGN3                        0.0                       0.0             0.0   \n",
       "ATP8B3                       0.0                       0.0             0.0   \n",
       "EDRF1                        1.0                       1.0             0.0   \n",
       "VAC14                        1.0                       1.0             0.0   \n",
       "\n",
       "        Theiler stage 10 (mouse)  middle aged stage (mouse)  \\\n",
       "CHTF8                        1.0                        1.0   \n",
       "NLGN3                        0.0                        1.0   \n",
       "ATP8B3                       0.0                        0.0   \n",
       "EDRF1                        0.0                        1.0   \n",
       "VAC14                        0.0                        1.0   \n",
       "\n",
       "                  ...             Theiler stage 07 (mouse)  \\\n",
       "CHTF8             ...                                  1.0   \n",
       "NLGN3             ...                                  0.0   \n",
       "ATP8B3            ...                                  0.0   \n",
       "EDRF1             ...                                  0.0   \n",
       "VAC14             ...                                  0.0   \n",
       "\n",
       "        Theiler stage 14 (mouse)  6 weeks (mouse)  gastrula stage  \\\n",
       "CHTF8                        1.0              1.0             0.0   \n",
       "NLGN3                        0.0              1.0             0.0   \n",
       "ATP8B3                       0.0              1.0             0.0   \n",
       "EDRF1                        1.0              1.0             0.0   \n",
       "VAC14                        1.0              1.0             0.0   \n",
       "\n",
       "        Theiler stage 02 (mouse)  Theiler stage 21 (mouse)  2 weeks (mouse)  \\\n",
       "CHTF8                        1.0                       1.0              1.0   \n",
       "NLGN3                        0.0                       1.0              1.0   \n",
       "ATP8B3                       0.0                       1.0              1.0   \n",
       "EDRF1                        1.0                       1.0              1.0   \n",
       "VAC14                        1.0                       1.0              1.0   \n",
       "\n",
       "        Theiler stage 24 (mouse)  Theiler stage 19 (mouse)  \\\n",
       "CHTF8                        1.0                       1.0   \n",
       "NLGN3                        1.0                       1.0   \n",
       "ATP8B3                       0.0                       0.0   \n",
       "EDRF1                        1.0                       1.0   \n",
       "VAC14                        1.0                       1.0   \n",
       "\n",
       "        Theiler stage 25 (mouse)  \n",
       "CHTF8                        1.0  \n",
       "NLGN3                        1.0  \n",
       "ATP8B3                       0.0  \n",
       "EDRF1                        1.0  \n",
       "VAC14                        1.0  \n",
       "\n",
       "[5 rows x 58 columns]"
      ]
     },
     "execution_count": 20,
     "metadata": {},
     "output_type": "execute_result"
    }
   ],
   "source": [
    "binary_matrix.head()"
   ]
  },
  {
   "cell_type": "code",
   "execution_count": 21,
   "metadata": {},
   "outputs": [
    {
     "data": {
      "text/plain": [
       "(16289, 58)"
      ]
     },
     "execution_count": 21,
     "metadata": {},
     "output_type": "execute_result"
    }
   ],
   "source": [
    "binary_matrix.shape"
   ]
  },
  {
   "cell_type": "markdown",
   "metadata": {},
   "source": [
    "# Save Binary Matrix"
   ]
  },
  {
   "cell_type": "code",
   "execution_count": 22,
   "metadata": {},
   "outputs": [],
   "source": [
    "filename = path+'bgee_mouse_developmental_binary_matrix_%s.tsv.zip'% str(datetime.date.today())[0:7].replace('-', '_')\n",
    "binary_matrix.to_csv(filename, sep='\\t', compression='gzip')"
   ]
  },
  {
   "cell_type": "markdown",
   "metadata": {},
   "source": [
    "# Create Gene Set Library"
   ]
  },
  {
   "cell_type": "code",
   "execution_count": 23,
   "metadata": {},
   "outputs": [],
   "source": [
    "name = 'bgee_mouse_developmental_gene_set'"
   ]
  },
  {
   "cell_type": "code",
   "execution_count": 24,
   "metadata": {},
   "outputs": [
    {
     "name": "stdout",
     "output_type": "stream",
     "text": [
      "Progeres: 100%  58 Out of 58   \r"
     ]
    }
   ],
   "source": [
    "uf.createUpGeneSetLib(binary_matrix, path, name)"
   ]
  },
  {
   "cell_type": "markdown",
   "metadata": {},
   "source": [
    "# Create Attribute Library"
   ]
  },
  {
   "cell_type": "code",
   "execution_count": 25,
   "metadata": {},
   "outputs": [],
   "source": [
    "name = 'bgee_mouse_developmental_attribute_set'"
   ]
  },
  {
   "cell_type": "code",
   "execution_count": 26,
   "metadata": {},
   "outputs": [
    {
     "name": "stdout",
     "output_type": "stream",
     "text": [
      "Progeres: 100%  16289 Out of 16289   \r"
     ]
    }
   ],
   "source": [
    "uf.createUpAttributeSetLib(binary_matrix, path, name)"
   ]
  },
  {
   "cell_type": "markdown",
   "metadata": {},
   "source": [
    "# Create Gene List"
   ]
  },
  {
   "cell_type": "code",
   "execution_count": 27,
   "metadata": {},
   "outputs": [
    {
     "name": "stdout",
     "output_type": "stream",
     "text": [
      "Progeres: 100%  16289 Out of 16289   \r"
     ]
    }
   ],
   "source": [
    "gene_list = uf.createGeneList(binary_matrix)"
   ]
  },
  {
   "cell_type": "code",
   "execution_count": 28,
   "metadata": {},
   "outputs": [
    {
     "data": {
      "text/html": [
       "<div>\n",
       "<style scoped>\n",
       "    .dataframe tbody tr th:only-of-type {\n",
       "        vertical-align: middle;\n",
       "    }\n",
       "\n",
       "    .dataframe tbody tr th {\n",
       "        vertical-align: top;\n",
       "    }\n",
       "\n",
       "    .dataframe thead th {\n",
       "        text-align: right;\n",
       "    }\n",
       "</style>\n",
       "<table border=\"1\" class=\"dataframe\">\n",
       "  <thead>\n",
       "    <tr style=\"text-align: right;\">\n",
       "      <th></th>\n",
       "      <th>GeneSym</th>\n",
       "      <th>GeneID</th>\n",
       "    </tr>\n",
       "  </thead>\n",
       "  <tbody>\n",
       "    <tr>\n",
       "      <th>0</th>\n",
       "      <td>CHTF8</td>\n",
       "      <td>54921</td>\n",
       "    </tr>\n",
       "    <tr>\n",
       "      <th>1</th>\n",
       "      <td>NLGN3</td>\n",
       "      <td>54413</td>\n",
       "    </tr>\n",
       "    <tr>\n",
       "      <th>2</th>\n",
       "      <td>ATP8B3</td>\n",
       "      <td>148229</td>\n",
       "    </tr>\n",
       "    <tr>\n",
       "      <th>3</th>\n",
       "      <td>EDRF1</td>\n",
       "      <td>26098</td>\n",
       "    </tr>\n",
       "    <tr>\n",
       "      <th>4</th>\n",
       "      <td>VAC14</td>\n",
       "      <td>55697</td>\n",
       "    </tr>\n",
       "  </tbody>\n",
       "</table>\n",
       "</div>"
      ],
      "text/plain": [
       "  GeneSym  GeneID\n",
       "0   CHTF8   54921\n",
       "1   NLGN3   54413\n",
       "2  ATP8B3  148229\n",
       "3   EDRF1   26098\n",
       "4   VAC14   55697"
      ]
     },
     "execution_count": 28,
     "metadata": {},
     "output_type": "execute_result"
    }
   ],
   "source": [
    "gene_list.head()"
   ]
  },
  {
   "cell_type": "code",
   "execution_count": 29,
   "metadata": {},
   "outputs": [
    {
     "data": {
      "text/plain": [
       "(16289, 2)"
      ]
     },
     "execution_count": 29,
     "metadata": {},
     "output_type": "execute_result"
    }
   ],
   "source": [
    "gene_list.shape"
   ]
  },
  {
   "cell_type": "markdown",
   "metadata": {},
   "source": [
    "# Save Gene List"
   ]
  },
  {
   "cell_type": "code",
   "execution_count": 30,
   "metadata": {},
   "outputs": [],
   "source": [
    "filename = path+'bgee_mouse_developmental_gene_list_%s.tsv.zip'% str(datetime.date.today())[0:7].replace('-', '_')\n",
    "gene_list.to_csv(filename, sep='\\t', index=False, compression='gzip')"
   ]
  },
  {
   "cell_type": "markdown",
   "metadata": {},
   "source": [
    "# Create Attribute List"
   ]
  },
  {
   "cell_type": "code",
   "execution_count": 31,
   "metadata": {},
   "outputs": [],
   "source": [
    "attribute_list = uf.createAttributeList(binary_matrix)"
   ]
  },
  {
   "cell_type": "code",
   "execution_count": 32,
   "metadata": {},
   "outputs": [
    {
     "data": {
      "text/html": [
       "<div>\n",
       "<style scoped>\n",
       "    .dataframe tbody tr th:only-of-type {\n",
       "        vertical-align: middle;\n",
       "    }\n",
       "\n",
       "    .dataframe tbody tr th {\n",
       "        vertical-align: top;\n",
       "    }\n",
       "\n",
       "    .dataframe thead th {\n",
       "        text-align: right;\n",
       "    }\n",
       "</style>\n",
       "<table border=\"1\" class=\"dataframe\">\n",
       "  <thead>\n",
       "    <tr style=\"text-align: right;\">\n",
       "      <th></th>\n",
       "    </tr>\n",
       "    <tr>\n",
       "      <th>Attributes</th>\n",
       "    </tr>\n",
       "  </thead>\n",
       "  <tbody>\n",
       "    <tr>\n",
       "      <th>10 weeks (mouse)</th>\n",
       "    </tr>\n",
       "    <tr>\n",
       "      <th>2 month-old stage (mouse)</th>\n",
       "    </tr>\n",
       "    <tr>\n",
       "      <th>Theiler stage 06 (mouse)</th>\n",
       "    </tr>\n",
       "    <tr>\n",
       "      <th>late embryonic stage</th>\n",
       "    </tr>\n",
       "    <tr>\n",
       "      <th>Theiler stage 13 (mouse)</th>\n",
       "    </tr>\n",
       "  </tbody>\n",
       "</table>\n",
       "</div>"
      ],
      "text/plain": [
       "Empty DataFrame\n",
       "Columns: []\n",
       "Index: [10 weeks (mouse), 2 month-old stage (mouse), Theiler stage 06 (mouse), late embryonic stage, Theiler stage 13 (mouse)]"
      ]
     },
     "execution_count": 32,
     "metadata": {},
     "output_type": "execute_result"
    }
   ],
   "source": [
    "attribute_list.head()"
   ]
  },
  {
   "cell_type": "code",
   "execution_count": 33,
   "metadata": {},
   "outputs": [
    {
     "data": {
      "text/plain": [
       "(58, 0)"
      ]
     },
     "execution_count": 33,
     "metadata": {},
     "output_type": "execute_result"
    }
   ],
   "source": [
    "attribute_list.shape"
   ]
  },
  {
   "cell_type": "markdown",
   "metadata": {},
   "source": [
    "# Save Attribute List"
   ]
  },
  {
   "cell_type": "code",
   "execution_count": 34,
   "metadata": {},
   "outputs": [],
   "source": [
    "filename = path+'bgee_mouse_developmental_attribute_list_%s.tsv.zip'% str(datetime.date.today())[0:7].replace('-', '_')\n",
    "attribute_list.to_csv(filename, sep='\\t', index=False, compression='gzip')"
   ]
  },
  {
   "cell_type": "markdown",
   "metadata": {},
   "source": [
    "# Create Attribute Similarity matrix"
   ]
  },
  {
   "cell_type": "code",
   "execution_count": 35,
   "metadata": {},
   "outputs": [],
   "source": [
    "attribute_similarity_matix = uf.createSimilarityMatrix(binary_matrix.T, 'jaccard')"
   ]
  },
  {
   "cell_type": "code",
   "execution_count": 36,
   "metadata": {},
   "outputs": [
    {
     "data": {
      "text/html": [
       "<div>\n",
       "<style scoped>\n",
       "    .dataframe tbody tr th:only-of-type {\n",
       "        vertical-align: middle;\n",
       "    }\n",
       "\n",
       "    .dataframe tbody tr th {\n",
       "        vertical-align: top;\n",
       "    }\n",
       "\n",
       "    .dataframe thead th {\n",
       "        text-align: right;\n",
       "    }\n",
       "</style>\n",
       "<table border=\"1\" class=\"dataframe\">\n",
       "  <thead>\n",
       "    <tr style=\"text-align: right;\">\n",
       "      <th></th>\n",
       "      <th>10 weeks (mouse)</th>\n",
       "      <th>2 month-old stage (mouse)</th>\n",
       "      <th>Theiler stage 06 (mouse)</th>\n",
       "      <th>late embryonic stage</th>\n",
       "      <th>Theiler stage 13 (mouse)</th>\n",
       "      <th>Theiler stage 16 (mouse)</th>\n",
       "      <th>Theiler stage 04 (mouse)</th>\n",
       "      <th>cleavage stage</th>\n",
       "      <th>Theiler stage 10 (mouse)</th>\n",
       "      <th>middle aged stage (mouse)</th>\n",
       "      <th>...</th>\n",
       "      <th>Theiler stage 07 (mouse)</th>\n",
       "      <th>Theiler stage 14 (mouse)</th>\n",
       "      <th>6 weeks (mouse)</th>\n",
       "      <th>gastrula stage</th>\n",
       "      <th>Theiler stage 02 (mouse)</th>\n",
       "      <th>Theiler stage 21 (mouse)</th>\n",
       "      <th>2 weeks (mouse)</th>\n",
       "      <th>Theiler stage 24 (mouse)</th>\n",
       "      <th>Theiler stage 19 (mouse)</th>\n",
       "      <th>Theiler stage 25 (mouse)</th>\n",
       "    </tr>\n",
       "    <tr>\n",
       "      <th></th>\n",
       "      <th></th>\n",
       "      <th></th>\n",
       "      <th></th>\n",
       "      <th></th>\n",
       "      <th></th>\n",
       "      <th></th>\n",
       "      <th></th>\n",
       "      <th></th>\n",
       "      <th></th>\n",
       "      <th></th>\n",
       "      <th></th>\n",
       "      <th></th>\n",
       "      <th></th>\n",
       "      <th></th>\n",
       "      <th></th>\n",
       "      <th></th>\n",
       "      <th></th>\n",
       "      <th></th>\n",
       "      <th></th>\n",
       "      <th></th>\n",
       "      <th></th>\n",
       "    </tr>\n",
       "  </thead>\n",
       "  <tbody>\n",
       "    <tr>\n",
       "      <th>10 weeks (mouse)</th>\n",
       "      <td>1.000000</td>\n",
       "      <td>0.843117</td>\n",
       "      <td>0.276083</td>\n",
       "      <td>0.857080</td>\n",
       "      <td>0.817138</td>\n",
       "      <td>0.771833</td>\n",
       "      <td>0.719219</td>\n",
       "      <td>0.000897</td>\n",
       "      <td>0.138360</td>\n",
       "      <td>0.935659</td>\n",
       "      <td>...</td>\n",
       "      <td>0.027299</td>\n",
       "      <td>0.834025</td>\n",
       "      <td>0.932636</td>\n",
       "      <td>0.000075</td>\n",
       "      <td>0.723626</td>\n",
       "      <td>0.902056</td>\n",
       "      <td>0.918049</td>\n",
       "      <td>0.912507</td>\n",
       "      <td>0.882626</td>\n",
       "      <td>0.907062</td>\n",
       "    </tr>\n",
       "    <tr>\n",
       "      <th>2 month-old stage (mouse)</th>\n",
       "      <td>0.843117</td>\n",
       "      <td>1.000000</td>\n",
       "      <td>0.235828</td>\n",
       "      <td>0.741472</td>\n",
       "      <td>0.723245</td>\n",
       "      <td>0.678918</td>\n",
       "      <td>0.644767</td>\n",
       "      <td>0.000946</td>\n",
       "      <td>0.121178</td>\n",
       "      <td>0.843307</td>\n",
       "      <td>...</td>\n",
       "      <td>0.025348</td>\n",
       "      <td>0.744484</td>\n",
       "      <td>0.891614</td>\n",
       "      <td>0.000063</td>\n",
       "      <td>0.657923</td>\n",
       "      <td>0.859268</td>\n",
       "      <td>0.899565</td>\n",
       "      <td>0.875031</td>\n",
       "      <td>0.815312</td>\n",
       "      <td>0.826369</td>\n",
       "    </tr>\n",
       "    <tr>\n",
       "      <th>Theiler stage 06 (mouse)</th>\n",
       "      <td>0.276083</td>\n",
       "      <td>0.235828</td>\n",
       "      <td>1.000000</td>\n",
       "      <td>0.305619</td>\n",
       "      <td>0.314508</td>\n",
       "      <td>0.333578</td>\n",
       "      <td>0.363299</td>\n",
       "      <td>0.001600</td>\n",
       "      <td>0.209223</td>\n",
       "      <td>0.276688</td>\n",
       "      <td>...</td>\n",
       "      <td>0.063415</td>\n",
       "      <td>0.307001</td>\n",
       "      <td>0.263567</td>\n",
       "      <td>0.000000</td>\n",
       "      <td>0.334903</td>\n",
       "      <td>0.272661</td>\n",
       "      <td>0.261204</td>\n",
       "      <td>0.267706</td>\n",
       "      <td>0.285824</td>\n",
       "      <td>0.279114</td>\n",
       "    </tr>\n",
       "    <tr>\n",
       "      <th>late embryonic stage</th>\n",
       "      <td>0.857080</td>\n",
       "      <td>0.741472</td>\n",
       "      <td>0.305619</td>\n",
       "      <td>1.000000</td>\n",
       "      <td>0.861514</td>\n",
       "      <td>0.831938</td>\n",
       "      <td>0.750060</td>\n",
       "      <td>0.001105</td>\n",
       "      <td>0.155464</td>\n",
       "      <td>0.855382</td>\n",
       "      <td>...</td>\n",
       "      <td>0.030419</td>\n",
       "      <td>0.858912</td>\n",
       "      <td>0.824143</td>\n",
       "      <td>0.000000</td>\n",
       "      <td>0.732069</td>\n",
       "      <td>0.854358</td>\n",
       "      <td>0.819319</td>\n",
       "      <td>0.844230</td>\n",
       "      <td>0.870619</td>\n",
       "      <td>0.884202</td>\n",
       "    </tr>\n",
       "    <tr>\n",
       "      <th>Theiler stage 13 (mouse)</th>\n",
       "      <td>0.817138</td>\n",
       "      <td>0.723245</td>\n",
       "      <td>0.314508</td>\n",
       "      <td>0.861514</td>\n",
       "      <td>1.000000</td>\n",
       "      <td>0.855273</td>\n",
       "      <td>0.764672</td>\n",
       "      <td>0.001219</td>\n",
       "      <td>0.165638</td>\n",
       "      <td>0.815897</td>\n",
       "      <td>...</td>\n",
       "      <td>0.033481</td>\n",
       "      <td>0.900620</td>\n",
       "      <td>0.791262</td>\n",
       "      <td>0.000087</td>\n",
       "      <td>0.737159</td>\n",
       "      <td>0.823222</td>\n",
       "      <td>0.789327</td>\n",
       "      <td>0.811314</td>\n",
       "      <td>0.846293</td>\n",
       "      <td>0.843537</td>\n",
       "    </tr>\n",
       "  </tbody>\n",
       "</table>\n",
       "<p>5 rows × 58 columns</p>\n",
       "</div>"
      ],
      "text/plain": [
       "                           10 weeks (mouse)  2 month-old stage (mouse)  \\\n",
       "                                                                         \n",
       "10 weeks (mouse)                   1.000000                   0.843117   \n",
       "2 month-old stage (mouse)          0.843117                   1.000000   \n",
       "Theiler stage 06 (mouse)           0.276083                   0.235828   \n",
       "late embryonic stage               0.857080                   0.741472   \n",
       "Theiler stage 13 (mouse)           0.817138                   0.723245   \n",
       "\n",
       "                           Theiler stage 06 (mouse)  late embryonic stage  \\\n",
       "                                                                            \n",
       "10 weeks (mouse)                           0.276083              0.857080   \n",
       "2 month-old stage (mouse)                  0.235828              0.741472   \n",
       "Theiler stage 06 (mouse)                   1.000000              0.305619   \n",
       "late embryonic stage                       0.305619              1.000000   \n",
       "Theiler stage 13 (mouse)                   0.314508              0.861514   \n",
       "\n",
       "                           Theiler stage 13 (mouse)  Theiler stage 16 (mouse)  \\\n",
       "                                                                                \n",
       "10 weeks (mouse)                           0.817138                  0.771833   \n",
       "2 month-old stage (mouse)                  0.723245                  0.678918   \n",
       "Theiler stage 06 (mouse)                   0.314508                  0.333578   \n",
       "late embryonic stage                       0.861514                  0.831938   \n",
       "Theiler stage 13 (mouse)                   1.000000                  0.855273   \n",
       "\n",
       "                           Theiler stage 04 (mouse)  cleavage stage  \\\n",
       "                                                                      \n",
       "10 weeks (mouse)                           0.719219        0.000897   \n",
       "2 month-old stage (mouse)                  0.644767        0.000946   \n",
       "Theiler stage 06 (mouse)                   0.363299        0.001600   \n",
       "late embryonic stage                       0.750060        0.001105   \n",
       "Theiler stage 13 (mouse)                   0.764672        0.001219   \n",
       "\n",
       "                           Theiler stage 10 (mouse)  \\\n",
       "                                                      \n",
       "10 weeks (mouse)                           0.138360   \n",
       "2 month-old stage (mouse)                  0.121178   \n",
       "Theiler stage 06 (mouse)                   0.209223   \n",
       "late embryonic stage                       0.155464   \n",
       "Theiler stage 13 (mouse)                   0.165638   \n",
       "\n",
       "                           middle aged stage (mouse)  \\\n",
       "                                                       \n",
       "10 weeks (mouse)                            0.935659   \n",
       "2 month-old stage (mouse)                   0.843307   \n",
       "Theiler stage 06 (mouse)                    0.276688   \n",
       "late embryonic stage                        0.855382   \n",
       "Theiler stage 13 (mouse)                    0.815897   \n",
       "\n",
       "                                     ...             Theiler stage 07 (mouse)  \\\n",
       "                                     ...                                        \n",
       "10 weeks (mouse)                     ...                             0.027299   \n",
       "2 month-old stage (mouse)            ...                             0.025348   \n",
       "Theiler stage 06 (mouse)             ...                             0.063415   \n",
       "late embryonic stage                 ...                             0.030419   \n",
       "Theiler stage 13 (mouse)             ...                             0.033481   \n",
       "\n",
       "                           Theiler stage 14 (mouse)  6 weeks (mouse)  \\\n",
       "                                                                       \n",
       "10 weeks (mouse)                           0.834025         0.932636   \n",
       "2 month-old stage (mouse)                  0.744484         0.891614   \n",
       "Theiler stage 06 (mouse)                   0.307001         0.263567   \n",
       "late embryonic stage                       0.858912         0.824143   \n",
       "Theiler stage 13 (mouse)                   0.900620         0.791262   \n",
       "\n",
       "                           gastrula stage  Theiler stage 02 (mouse)  \\\n",
       "                                                                      \n",
       "10 weeks (mouse)                 0.000075                  0.723626   \n",
       "2 month-old stage (mouse)        0.000063                  0.657923   \n",
       "Theiler stage 06 (mouse)         0.000000                  0.334903   \n",
       "late embryonic stage             0.000000                  0.732069   \n",
       "Theiler stage 13 (mouse)         0.000087                  0.737159   \n",
       "\n",
       "                           Theiler stage 21 (mouse)  2 weeks (mouse)  \\\n",
       "                                                                       \n",
       "10 weeks (mouse)                           0.902056         0.918049   \n",
       "2 month-old stage (mouse)                  0.859268         0.899565   \n",
       "Theiler stage 06 (mouse)                   0.272661         0.261204   \n",
       "late embryonic stage                       0.854358         0.819319   \n",
       "Theiler stage 13 (mouse)                   0.823222         0.789327   \n",
       "\n",
       "                           Theiler stage 24 (mouse)  Theiler stage 19 (mouse)  \\\n",
       "                                                                                \n",
       "10 weeks (mouse)                           0.912507                  0.882626   \n",
       "2 month-old stage (mouse)                  0.875031                  0.815312   \n",
       "Theiler stage 06 (mouse)                   0.267706                  0.285824   \n",
       "late embryonic stage                       0.844230                  0.870619   \n",
       "Theiler stage 13 (mouse)                   0.811314                  0.846293   \n",
       "\n",
       "                           Theiler stage 25 (mouse)  \n",
       "                                                     \n",
       "10 weeks (mouse)                           0.907062  \n",
       "2 month-old stage (mouse)                  0.826369  \n",
       "Theiler stage 06 (mouse)                   0.279114  \n",
       "late embryonic stage                       0.884202  \n",
       "Theiler stage 13 (mouse)                   0.843537  \n",
       "\n",
       "[5 rows x 58 columns]"
      ]
     },
     "execution_count": 36,
     "metadata": {},
     "output_type": "execute_result"
    }
   ],
   "source": [
    "attribute_similarity_matix.head()"
   ]
  },
  {
   "cell_type": "code",
   "execution_count": 37,
   "metadata": {},
   "outputs": [
    {
     "data": {
      "text/plain": [
       "(58, 58)"
      ]
     },
     "execution_count": 37,
     "metadata": {},
     "output_type": "execute_result"
    }
   ],
   "source": [
    "attribute_similarity_matix.shape"
   ]
  },
  {
   "cell_type": "markdown",
   "metadata": {},
   "source": [
    "# Save Attribute Similarity Matrix"
   ]
  },
  {
   "cell_type": "code",
   "execution_count": 38,
   "metadata": {},
   "outputs": [],
   "source": [
    "filename = path+'bgee_mouse_developmental_attribute_similarity_matix_%s.tsv.zip'% str(datetime.date.today())[0:7].replace('-', '_')\n",
    "attribute_similarity_matix.to_csv(filename, sep='\\t', compression='gzip')"
   ]
  },
  {
   "cell_type": "markdown",
   "metadata": {},
   "source": [
    "# Create Gene Similarity Matrix"
   ]
  },
  {
   "cell_type": "code",
   "execution_count": 41,
   "metadata": {},
   "outputs": [],
   "source": [
    "gene_similarity_matix = uf.createSimilarityMatrix(binary_matrix, 'jaccard')"
   ]
  },
  {
   "cell_type": "code",
   "execution_count": 42,
   "metadata": {},
   "outputs": [
    {
     "data": {
      "text/html": [
       "<div>\n",
       "<style scoped>\n",
       "    .dataframe tbody tr th:only-of-type {\n",
       "        vertical-align: middle;\n",
       "    }\n",
       "\n",
       "    .dataframe tbody tr th {\n",
       "        vertical-align: top;\n",
       "    }\n",
       "\n",
       "    .dataframe thead th {\n",
       "        text-align: right;\n",
       "    }\n",
       "</style>\n",
       "<table border=\"1\" class=\"dataframe\">\n",
       "  <thead>\n",
       "    <tr style=\"text-align: right;\">\n",
       "      <th></th>\n",
       "      <th>CHTF8</th>\n",
       "      <th>NLGN3</th>\n",
       "      <th>ATP8B3</th>\n",
       "      <th>EDRF1</th>\n",
       "      <th>VAC14</th>\n",
       "      <th>F2R</th>\n",
       "      <th>HIST1H4I</th>\n",
       "      <th>LRRC31</th>\n",
       "      <th>GPR37</th>\n",
       "      <th>OSBPL11</th>\n",
       "      <th>...</th>\n",
       "      <th>SAA1</th>\n",
       "      <th>KCNN4</th>\n",
       "      <th>LYPD3</th>\n",
       "      <th>CCNF</th>\n",
       "      <th>SMIM20</th>\n",
       "      <th>UTS2B</th>\n",
       "      <th>RGS16</th>\n",
       "      <th>C16orf74</th>\n",
       "      <th>DLL4</th>\n",
       "      <th>SARNP</th>\n",
       "    </tr>\n",
       "    <tr>\n",
       "      <th></th>\n",
       "      <th></th>\n",
       "      <th></th>\n",
       "      <th></th>\n",
       "      <th></th>\n",
       "      <th></th>\n",
       "      <th></th>\n",
       "      <th></th>\n",
       "      <th></th>\n",
       "      <th></th>\n",
       "      <th></th>\n",
       "      <th></th>\n",
       "      <th></th>\n",
       "      <th></th>\n",
       "      <th></th>\n",
       "      <th></th>\n",
       "      <th></th>\n",
       "      <th></th>\n",
       "      <th></th>\n",
       "      <th></th>\n",
       "      <th></th>\n",
       "      <th></th>\n",
       "    </tr>\n",
       "  </thead>\n",
       "  <tbody>\n",
       "    <tr>\n",
       "      <th>CHTF8</th>\n",
       "      <td>1.000000</td>\n",
       "      <td>0.735849</td>\n",
       "      <td>0.396226</td>\n",
       "      <td>0.924528</td>\n",
       "      <td>0.925926</td>\n",
       "      <td>0.981132</td>\n",
       "      <td>0.830189</td>\n",
       "      <td>0.547170</td>\n",
       "      <td>0.811321</td>\n",
       "      <td>0.944444</td>\n",
       "      <td>...</td>\n",
       "      <td>0.830189</td>\n",
       "      <td>0.905660</td>\n",
       "      <td>0.811321</td>\n",
       "      <td>0.888889</td>\n",
       "      <td>0.907407</td>\n",
       "      <td>0.113208</td>\n",
       "      <td>0.924528</td>\n",
       "      <td>0.264151</td>\n",
       "      <td>0.849057</td>\n",
       "      <td>0.226415</td>\n",
       "    </tr>\n",
       "    <tr>\n",
       "      <th>NLGN3</th>\n",
       "      <td>0.735849</td>\n",
       "      <td>1.000000</td>\n",
       "      <td>0.538462</td>\n",
       "      <td>0.795918</td>\n",
       "      <td>0.764706</td>\n",
       "      <td>0.750000</td>\n",
       "      <td>0.804348</td>\n",
       "      <td>0.581395</td>\n",
       "      <td>0.863636</td>\n",
       "      <td>0.750000</td>\n",
       "      <td>...</td>\n",
       "      <td>0.804348</td>\n",
       "      <td>0.812500</td>\n",
       "      <td>0.822222</td>\n",
       "      <td>0.725490</td>\n",
       "      <td>0.780000</td>\n",
       "      <td>0.153846</td>\n",
       "      <td>0.795918</td>\n",
       "      <td>0.358974</td>\n",
       "      <td>0.826087</td>\n",
       "      <td>0.307692</td>\n",
       "    </tr>\n",
       "    <tr>\n",
       "      <th>ATP8B3</th>\n",
       "      <td>0.396226</td>\n",
       "      <td>0.538462</td>\n",
       "      <td>1.000000</td>\n",
       "      <td>0.428571</td>\n",
       "      <td>0.411765</td>\n",
       "      <td>0.403846</td>\n",
       "      <td>0.477273</td>\n",
       "      <td>0.470588</td>\n",
       "      <td>0.454545</td>\n",
       "      <td>0.403846</td>\n",
       "      <td>...</td>\n",
       "      <td>0.444444</td>\n",
       "      <td>0.437500</td>\n",
       "      <td>0.488372</td>\n",
       "      <td>0.428571</td>\n",
       "      <td>0.420000</td>\n",
       "      <td>0.173913</td>\n",
       "      <td>0.428571</td>\n",
       "      <td>0.250000</td>\n",
       "      <td>0.434783</td>\n",
       "      <td>0.222222</td>\n",
       "    </tr>\n",
       "    <tr>\n",
       "      <th>EDRF1</th>\n",
       "      <td>0.924528</td>\n",
       "      <td>0.795918</td>\n",
       "      <td>0.428571</td>\n",
       "      <td>1.000000</td>\n",
       "      <td>0.960784</td>\n",
       "      <td>0.942308</td>\n",
       "      <td>0.897959</td>\n",
       "      <td>0.591837</td>\n",
       "      <td>0.877551</td>\n",
       "      <td>0.942308</td>\n",
       "      <td>...</td>\n",
       "      <td>0.897959</td>\n",
       "      <td>0.979592</td>\n",
       "      <td>0.877551</td>\n",
       "      <td>0.921569</td>\n",
       "      <td>0.941176</td>\n",
       "      <td>0.122449</td>\n",
       "      <td>1.000000</td>\n",
       "      <td>0.285714</td>\n",
       "      <td>0.880000</td>\n",
       "      <td>0.244898</td>\n",
       "    </tr>\n",
       "    <tr>\n",
       "      <th>VAC14</th>\n",
       "      <td>0.925926</td>\n",
       "      <td>0.764706</td>\n",
       "      <td>0.411765</td>\n",
       "      <td>0.960784</td>\n",
       "      <td>1.000000</td>\n",
       "      <td>0.943396</td>\n",
       "      <td>0.862745</td>\n",
       "      <td>0.568627</td>\n",
       "      <td>0.843137</td>\n",
       "      <td>0.980769</td>\n",
       "      <td>...</td>\n",
       "      <td>0.862745</td>\n",
       "      <td>0.941176</td>\n",
       "      <td>0.843137</td>\n",
       "      <td>0.960784</td>\n",
       "      <td>0.980392</td>\n",
       "      <td>0.117647</td>\n",
       "      <td>0.960784</td>\n",
       "      <td>0.274510</td>\n",
       "      <td>0.846154</td>\n",
       "      <td>0.235294</td>\n",
       "    </tr>\n",
       "  </tbody>\n",
       "</table>\n",
       "<p>5 rows × 16289 columns</p>\n",
       "</div>"
      ],
      "text/plain": [
       "           CHTF8     NLGN3    ATP8B3     EDRF1     VAC14       F2R  HIST1H4I  \\\n",
       "                                                                               \n",
       "CHTF8   1.000000  0.735849  0.396226  0.924528  0.925926  0.981132  0.830189   \n",
       "NLGN3   0.735849  1.000000  0.538462  0.795918  0.764706  0.750000  0.804348   \n",
       "ATP8B3  0.396226  0.538462  1.000000  0.428571  0.411765  0.403846  0.477273   \n",
       "EDRF1   0.924528  0.795918  0.428571  1.000000  0.960784  0.942308  0.897959   \n",
       "VAC14   0.925926  0.764706  0.411765  0.960784  1.000000  0.943396  0.862745   \n",
       "\n",
       "          LRRC31     GPR37   OSBPL11    ...         SAA1     KCNN4     LYPD3  \\\n",
       "                                        ...                                    \n",
       "CHTF8   0.547170  0.811321  0.944444    ...     0.830189  0.905660  0.811321   \n",
       "NLGN3   0.581395  0.863636  0.750000    ...     0.804348  0.812500  0.822222   \n",
       "ATP8B3  0.470588  0.454545  0.403846    ...     0.444444  0.437500  0.488372   \n",
       "EDRF1   0.591837  0.877551  0.942308    ...     0.897959  0.979592  0.877551   \n",
       "VAC14   0.568627  0.843137  0.980769    ...     0.862745  0.941176  0.843137   \n",
       "\n",
       "            CCNF    SMIM20     UTS2B     RGS16  C16orf74      DLL4     SARNP  \n",
       "                                                                              \n",
       "CHTF8   0.888889  0.907407  0.113208  0.924528  0.264151  0.849057  0.226415  \n",
       "NLGN3   0.725490  0.780000  0.153846  0.795918  0.358974  0.826087  0.307692  \n",
       "ATP8B3  0.428571  0.420000  0.173913  0.428571  0.250000  0.434783  0.222222  \n",
       "EDRF1   0.921569  0.941176  0.122449  1.000000  0.285714  0.880000  0.244898  \n",
       "VAC14   0.960784  0.980392  0.117647  0.960784  0.274510  0.846154  0.235294  \n",
       "\n",
       "[5 rows x 16289 columns]"
      ]
     },
     "execution_count": 42,
     "metadata": {},
     "output_type": "execute_result"
    }
   ],
   "source": [
    "gene_similarity_matix.head()"
   ]
  },
  {
   "cell_type": "code",
   "execution_count": 43,
   "metadata": {},
   "outputs": [
    {
     "data": {
      "text/plain": [
       "(16289, 16289)"
      ]
     },
     "execution_count": 43,
     "metadata": {},
     "output_type": "execute_result"
    }
   ],
   "source": [
    "gene_similarity_matix.shape"
   ]
  },
  {
   "cell_type": "markdown",
   "metadata": {},
   "source": [
    "# Save Gene Similarity Matrix"
   ]
  },
  {
   "cell_type": "code",
   "execution_count": 44,
   "metadata": {},
   "outputs": [],
   "source": [
    "filename = path+'bgee_mouse_developmental_gene_similarity_matix_%s.tsv.zip'% str(datetime.date.today())[0:7].replace('-', '_')\n",
    "gene_similarity_matix.to_csv(filename, sep='\\t', compression='gzip')"
   ]
  },
  {
   "cell_type": "markdown",
   "metadata": {},
   "source": [
    "# Create Gene-Attribute Edge List"
   ]
  },
  {
   "cell_type": "code",
   "execution_count": 39,
   "metadata": {},
   "outputs": [],
   "source": [
    "name = 'bgee_mouse_developmental_gene_attribute_edge_list'"
   ]
  },
  {
   "cell_type": "code",
   "execution_count": 40,
   "metadata": {},
   "outputs": [
    {
     "name": "stdout",
     "output_type": "stream",
     "text": [
      "Progeres: 100%  58 Out of 58   \n",
      "\n",
      " The number of statisticaly relevent gene-attribute associations is: 660778\n"
     ]
    }
   ],
   "source": [
    "uf.createGeneAttributeEdgeList(binary_matrix, attribute_list, gene_list, path, name)"
   ]
  }
 ],
 "metadata": {
  "kernelspec": {
   "display_name": "Python 3",
   "language": "python",
   "name": "python3"
  },
  "language_info": {
   "codemirror_mode": {
    "name": "ipython",
    "version": 3
   },
   "file_extension": ".py",
   "mimetype": "text/x-python",
   "name": "python",
   "nbconvert_exporter": "python",
   "pygments_lexer": "ipython3",
   "version": "3.6.4"
  }
 },
 "nbformat": 4,
 "nbformat_minor": 2
}
