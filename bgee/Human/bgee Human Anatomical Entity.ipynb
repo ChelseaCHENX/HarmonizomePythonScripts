{
 "cells": [
  {
   "cell_type": "markdown",
   "metadata": {},
   "source": [
    "# bgee Human Anatomical Entity"
   ]
  },
  {
   "cell_type": "markdown",
   "metadata": {},
   "source": [
    "Author: Moshe Silverstein  \n",
    "Date: 07-18  \n",
    "Data Source Home: https://bgee.org/     \n",
    "Data Source Download: https://bgee.org/?page=download&action=expr_calls#id1 "
   ]
  },
  {
   "cell_type": "code",
   "execution_count": 1,
   "metadata": {},
   "outputs": [],
   "source": [
    "import sys, datetime, os\n",
    "import numpy as np\n",
    "import pandas as pd\n",
    "import importlib\n",
    "import utility_functions as uf\n",
    "import matplotlib.pyplot as plt\n",
    "%matplotlib inline\n",
    "from collections import Counter"
   ]
  },
  {
   "cell_type": "code",
   "execution_count": 2,
   "metadata": {},
   "outputs": [],
   "source": [
    "import seaborn as sns\n",
    "sns.set(color_codes=True)\n",
    "np.random.seed(sum(map(ord, \"distributions\")))"
   ]
  },
  {
   "cell_type": "markdown",
   "metadata": {},
   "source": [
    "# Path to Output Files"
   ]
  },
  {
   "cell_type": "code",
   "execution_count": 3,
   "metadata": {},
   "outputs": [],
   "source": [
    "path = '/Users/moshesilverstein/Documents/Harmonizome/bgee/Output/'"
   ]
  },
  {
   "cell_type": "markdown",
   "metadata": {},
   "source": [
    "# Load Data"
   ]
  },
  {
   "cell_type": "code",
   "execution_count": 4,
   "metadata": {},
   "outputs": [
    {
     "name": "stderr",
     "output_type": "stream",
     "text": [
      "/Users/moshesilverstein/anaconda3/lib/python3.6/site-packages/IPython/core/interactiveshell.py:2785: DtypeWarning: Columns (8) have mixed types. Specify dtype option on import or set low_memory=False.\n",
      "  interactivity=interactivity, compiler=compiler, result=result)\n"
     ]
    }
   ],
   "source": [
    "df = pd.read_csv('Input/Homo_sapiens_expr_advanced_development.tsv', sep='\\t')"
   ]
  },
  {
   "cell_type": "code",
   "execution_count": 5,
   "metadata": {},
   "outputs": [
    {
     "data": {
      "text/html": [
       "<div>\n",
       "<style scoped>\n",
       "    .dataframe tbody tr th:only-of-type {\n",
       "        vertical-align: middle;\n",
       "    }\n",
       "\n",
       "    .dataframe tbody tr th {\n",
       "        vertical-align: top;\n",
       "    }\n",
       "\n",
       "    .dataframe thead th {\n",
       "        text-align: right;\n",
       "    }\n",
       "</style>\n",
       "<table border=\"1\" class=\"dataframe\">\n",
       "  <thead>\n",
       "    <tr style=\"text-align: right;\">\n",
       "      <th></th>\n",
       "      <th>Gene ID</th>\n",
       "      <th>Gene name</th>\n",
       "      <th>Anatomical entity ID</th>\n",
       "      <th>Anatomical entity name</th>\n",
       "      <th>Developmental stage ID</th>\n",
       "      <th>Developmental stage name</th>\n",
       "      <th>Expression</th>\n",
       "      <th>Call quality</th>\n",
       "      <th>Expression rank</th>\n",
       "      <th>Including observed data</th>\n",
       "      <th>...</th>\n",
       "      <th>In situ hybridization experiment count showing expression of this gene in this condition or in sub-conditions with a low quality</th>\n",
       "      <th>In situ hybridization experiment count showing absence of expression of this gene in this condition or valid parent conditions with a high quality</th>\n",
       "      <th>In situ hybridization experiment count showing absence of expression of this gene in this condition or valid parent conditions with a low quality</th>\n",
       "      <th>Including in situ hybridization observed data</th>\n",
       "      <th>RNA-Seq data</th>\n",
       "      <th>RNA-Seq  experiment count showing expression of this gene in this condition or in sub-conditions with a high quality</th>\n",
       "      <th>RNA-Seq  experiment count showing expression of this gene in this condition or in sub-conditions with a low quality</th>\n",
       "      <th>RNA-Seq  experiment count showing absence of expression of this gene in this condition or valid parent conditions with a high quality</th>\n",
       "      <th>RNA-Seq  experiment count showing absence of expression of this gene in this condition or valid parent conditions with a low quality</th>\n",
       "      <th>Including RNA-Seq observed data</th>\n",
       "    </tr>\n",
       "  </thead>\n",
       "  <tbody>\n",
       "    <tr>\n",
       "      <th>0</th>\n",
       "      <td>ENSG00000000003</td>\n",
       "      <td>TSPAN6</td>\n",
       "      <td>CL:0000015</td>\n",
       "      <td>male germ cell</td>\n",
       "      <td>HsapDv:0000092</td>\n",
       "      <td>human middle aged stage (human)</td>\n",
       "      <td>present</td>\n",
       "      <td>silver quality</td>\n",
       "      <td>5940</td>\n",
       "      <td>yes</td>\n",
       "      <td>...</td>\n",
       "      <td>0</td>\n",
       "      <td>0</td>\n",
       "      <td>0</td>\n",
       "      <td>no</td>\n",
       "      <td>no data</td>\n",
       "      <td>0</td>\n",
       "      <td>0</td>\n",
       "      <td>0</td>\n",
       "      <td>0</td>\n",
       "      <td>no</td>\n",
       "    </tr>\n",
       "    <tr>\n",
       "      <th>1</th>\n",
       "      <td>ENSG00000000003</td>\n",
       "      <td>TSPAN6</td>\n",
       "      <td>CL:0000019</td>\n",
       "      <td>sperm</td>\n",
       "      <td>HsapDv:0000088</td>\n",
       "      <td>human early adulthood stage (human)</td>\n",
       "      <td>present</td>\n",
       "      <td>silver quality</td>\n",
       "      <td>23</td>\n",
       "      <td>yes</td>\n",
       "      <td>...</td>\n",
       "      <td>0</td>\n",
       "      <td>0</td>\n",
       "      <td>0</td>\n",
       "      <td>no</td>\n",
       "      <td>no data</td>\n",
       "      <td>0</td>\n",
       "      <td>0</td>\n",
       "      <td>0</td>\n",
       "      <td>0</td>\n",
       "      <td>no</td>\n",
       "    </tr>\n",
       "    <tr>\n",
       "      <th>2</th>\n",
       "      <td>ENSG00000000003</td>\n",
       "      <td>TSPAN6</td>\n",
       "      <td>CL:0000023</td>\n",
       "      <td>oocyte</td>\n",
       "      <td>HsapDv:0000087</td>\n",
       "      <td>human adult stage (human)</td>\n",
       "      <td>absent</td>\n",
       "      <td>silver quality</td>\n",
       "      <td>20500</td>\n",
       "      <td>yes</td>\n",
       "      <td>...</td>\n",
       "      <td>0</td>\n",
       "      <td>0</td>\n",
       "      <td>0</td>\n",
       "      <td>no</td>\n",
       "      <td>no data</td>\n",
       "      <td>0</td>\n",
       "      <td>0</td>\n",
       "      <td>0</td>\n",
       "      <td>0</td>\n",
       "      <td>no</td>\n",
       "    </tr>\n",
       "    <tr>\n",
       "      <th>3</th>\n",
       "      <td>ENSG00000000003</td>\n",
       "      <td>TSPAN6</td>\n",
       "      <td>CL:0000083</td>\n",
       "      <td>epithelial cell of pancreas</td>\n",
       "      <td>UBERON:0000104</td>\n",
       "      <td>life cycle</td>\n",
       "      <td>present</td>\n",
       "      <td>silver quality</td>\n",
       "      <td>6050</td>\n",
       "      <td>yes</td>\n",
       "      <td>...</td>\n",
       "      <td>0</td>\n",
       "      <td>0</td>\n",
       "      <td>0</td>\n",
       "      <td>no</td>\n",
       "      <td>no data</td>\n",
       "      <td>0</td>\n",
       "      <td>0</td>\n",
       "      <td>0</td>\n",
       "      <td>0</td>\n",
       "      <td>no</td>\n",
       "    </tr>\n",
       "    <tr>\n",
       "      <th>4</th>\n",
       "      <td>ENSG00000000003</td>\n",
       "      <td>TSPAN6</td>\n",
       "      <td>CL:0000115</td>\n",
       "      <td>endothelial cell</td>\n",
       "      <td>HsapDv:0000092</td>\n",
       "      <td>human middle aged stage (human)</td>\n",
       "      <td>present</td>\n",
       "      <td>silver quality</td>\n",
       "      <td>11800</td>\n",
       "      <td>yes</td>\n",
       "      <td>...</td>\n",
       "      <td>0</td>\n",
       "      <td>0</td>\n",
       "      <td>0</td>\n",
       "      <td>no</td>\n",
       "      <td>no data</td>\n",
       "      <td>0</td>\n",
       "      <td>0</td>\n",
       "      <td>0</td>\n",
       "      <td>0</td>\n",
       "      <td>no</td>\n",
       "    </tr>\n",
       "  </tbody>\n",
       "</table>\n",
       "<p>5 rows × 32 columns</p>\n",
       "</div>"
      ],
      "text/plain": [
       "           Gene ID Gene name Anatomical entity ID  \\\n",
       "0  ENSG00000000003    TSPAN6           CL:0000015   \n",
       "1  ENSG00000000003    TSPAN6           CL:0000019   \n",
       "2  ENSG00000000003    TSPAN6           CL:0000023   \n",
       "3  ENSG00000000003    TSPAN6           CL:0000083   \n",
       "4  ENSG00000000003    TSPAN6           CL:0000115   \n",
       "\n",
       "        Anatomical entity name Developmental stage ID  \\\n",
       "0               male germ cell         HsapDv:0000092   \n",
       "1                        sperm         HsapDv:0000088   \n",
       "2                       oocyte         HsapDv:0000087   \n",
       "3  epithelial cell of pancreas         UBERON:0000104   \n",
       "4             endothelial cell         HsapDv:0000092   \n",
       "\n",
       "              Developmental stage name Expression    Call quality  \\\n",
       "0      human middle aged stage (human)    present  silver quality   \n",
       "1  human early adulthood stage (human)    present  silver quality   \n",
       "2            human adult stage (human)     absent  silver quality   \n",
       "3                           life cycle    present  silver quality   \n",
       "4      human middle aged stage (human)    present  silver quality   \n",
       "\n",
       "  Expression rank Including observed data               ...                \\\n",
       "0            5940                     yes               ...                 \n",
       "1              23                     yes               ...                 \n",
       "2           20500                     yes               ...                 \n",
       "3            6050                     yes               ...                 \n",
       "4           11800                     yes               ...                 \n",
       "\n",
       "  In situ hybridization experiment count showing expression of this gene in this condition or in sub-conditions with a low quality  \\\n",
       "0                                                  0                                                                                 \n",
       "1                                                  0                                                                                 \n",
       "2                                                  0                                                                                 \n",
       "3                                                  0                                                                                 \n",
       "4                                                  0                                                                                 \n",
       "\n",
       "   In situ hybridization experiment count showing absence of expression of this gene in this condition or valid parent conditions with a high quality  \\\n",
       "0                                                  0                                                                                                    \n",
       "1                                                  0                                                                                                    \n",
       "2                                                  0                                                                                                    \n",
       "3                                                  0                                                                                                    \n",
       "4                                                  0                                                                                                    \n",
       "\n",
       "   In situ hybridization experiment count showing absence of expression of this gene in this condition or valid parent conditions with a low quality  \\\n",
       "0                                                  0                                                                                                   \n",
       "1                                                  0                                                                                                   \n",
       "2                                                  0                                                                                                   \n",
       "3                                                  0                                                                                                   \n",
       "4                                                  0                                                                                                   \n",
       "\n",
       "   Including in situ hybridization observed data  RNA-Seq data  \\\n",
       "0                                             no       no data   \n",
       "1                                             no       no data   \n",
       "2                                             no       no data   \n",
       "3                                             no       no data   \n",
       "4                                             no       no data   \n",
       "\n",
       "  RNA-Seq  experiment count showing expression of this gene in this condition or in sub-conditions with a high quality  \\\n",
       "0                                                  0                                                                     \n",
       "1                                                  0                                                                     \n",
       "2                                                  0                                                                     \n",
       "3                                                  0                                                                     \n",
       "4                                                  0                                                                     \n",
       "\n",
       "  RNA-Seq  experiment count showing expression of this gene in this condition or in sub-conditions with a low quality  \\\n",
       "0                                                  0                                                                    \n",
       "1                                                  0                                                                    \n",
       "2                                                  0                                                                    \n",
       "3                                                  0                                                                    \n",
       "4                                                  0                                                                    \n",
       "\n",
       "   RNA-Seq  experiment count showing absence of expression of this gene in this condition or valid parent conditions with a high quality  \\\n",
       "0                                                  0                                                                                       \n",
       "1                                                  0                                                                                       \n",
       "2                                                  0                                                                                       \n",
       "3                                                  0                                                                                       \n",
       "4                                                  0                                                                                       \n",
       "\n",
       "   RNA-Seq  experiment count showing absence of expression of this gene in this condition or valid parent conditions with a low quality  \\\n",
       "0                                                  0                                                                                      \n",
       "1                                                  0                                                                                      \n",
       "2                                                  0                                                                                      \n",
       "3                                                  0                                                                                      \n",
       "4                                                  0                                                                                      \n",
       "\n",
       "  Including RNA-Seq observed data  \n",
       "0                              no  \n",
       "1                              no  \n",
       "2                              no  \n",
       "3                              no  \n",
       "4                              no  \n",
       "\n",
       "[5 rows x 32 columns]"
      ]
     },
     "execution_count": 5,
     "metadata": {},
     "output_type": "execute_result"
    }
   ],
   "source": [
    "df.head()"
   ]
  },
  {
   "cell_type": "code",
   "execution_count": 6,
   "metadata": {},
   "outputs": [
    {
     "data": {
      "text/plain": [
       "(32962486, 32)"
      ]
     },
     "execution_count": 6,
     "metadata": {},
     "output_type": "execute_result"
    }
   ],
   "source": [
    "df.shape"
   ]
  },
  {
   "cell_type": "markdown",
   "metadata": {},
   "source": [
    "# Get relevant data"
   ]
  },
  {
   "cell_type": "code",
   "execution_count": 7,
   "metadata": {},
   "outputs": [],
   "source": [
    "df = df[['Gene name', 'Anatomical entity name', 'Developmental stage name', 'Expression', 'Call quality']]"
   ]
  },
  {
   "cell_type": "code",
   "execution_count": 8,
   "metadata": {},
   "outputs": [
    {
     "data": {
      "text/html": [
       "<div>\n",
       "<style scoped>\n",
       "    .dataframe tbody tr th:only-of-type {\n",
       "        vertical-align: middle;\n",
       "    }\n",
       "\n",
       "    .dataframe tbody tr th {\n",
       "        vertical-align: top;\n",
       "    }\n",
       "\n",
       "    .dataframe thead th {\n",
       "        text-align: right;\n",
       "    }\n",
       "</style>\n",
       "<table border=\"1\" class=\"dataframe\">\n",
       "  <thead>\n",
       "    <tr style=\"text-align: right;\">\n",
       "      <th></th>\n",
       "      <th>Gene name</th>\n",
       "      <th>Anatomical entity name</th>\n",
       "      <th>Developmental stage name</th>\n",
       "      <th>Expression</th>\n",
       "      <th>Call quality</th>\n",
       "    </tr>\n",
       "  </thead>\n",
       "  <tbody>\n",
       "    <tr>\n",
       "      <th>0</th>\n",
       "      <td>TSPAN6</td>\n",
       "      <td>male germ cell</td>\n",
       "      <td>human middle aged stage (human)</td>\n",
       "      <td>present</td>\n",
       "      <td>silver quality</td>\n",
       "    </tr>\n",
       "    <tr>\n",
       "      <th>1</th>\n",
       "      <td>TSPAN6</td>\n",
       "      <td>sperm</td>\n",
       "      <td>human early adulthood stage (human)</td>\n",
       "      <td>present</td>\n",
       "      <td>silver quality</td>\n",
       "    </tr>\n",
       "    <tr>\n",
       "      <th>2</th>\n",
       "      <td>TSPAN6</td>\n",
       "      <td>oocyte</td>\n",
       "      <td>human adult stage (human)</td>\n",
       "      <td>absent</td>\n",
       "      <td>silver quality</td>\n",
       "    </tr>\n",
       "    <tr>\n",
       "      <th>3</th>\n",
       "      <td>TSPAN6</td>\n",
       "      <td>epithelial cell of pancreas</td>\n",
       "      <td>life cycle</td>\n",
       "      <td>present</td>\n",
       "      <td>silver quality</td>\n",
       "    </tr>\n",
       "    <tr>\n",
       "      <th>4</th>\n",
       "      <td>TSPAN6</td>\n",
       "      <td>endothelial cell</td>\n",
       "      <td>human middle aged stage (human)</td>\n",
       "      <td>present</td>\n",
       "      <td>silver quality</td>\n",
       "    </tr>\n",
       "  </tbody>\n",
       "</table>\n",
       "</div>"
      ],
      "text/plain": [
       "  Gene name       Anatomical entity name             Developmental stage name  \\\n",
       "0    TSPAN6               male germ cell      human middle aged stage (human)   \n",
       "1    TSPAN6                        sperm  human early adulthood stage (human)   \n",
       "2    TSPAN6                       oocyte            human adult stage (human)   \n",
       "3    TSPAN6  epithelial cell of pancreas                           life cycle   \n",
       "4    TSPAN6             endothelial cell      human middle aged stage (human)   \n",
       "\n",
       "  Expression    Call quality  \n",
       "0    present  silver quality  \n",
       "1    present  silver quality  \n",
       "2     absent  silver quality  \n",
       "3    present  silver quality  \n",
       "4    present  silver quality  "
      ]
     },
     "execution_count": 8,
     "metadata": {},
     "output_type": "execute_result"
    }
   ],
   "source": [
    "df.head()"
   ]
  },
  {
   "cell_type": "code",
   "execution_count": 9,
   "metadata": {},
   "outputs": [],
   "source": [
    "df = df[df['Expression'] == 'present']"
   ]
  },
  {
   "cell_type": "code",
   "execution_count": 10,
   "metadata": {},
   "outputs": [],
   "source": [
    "df = df[['Gene name', 'Anatomical entity name']]"
   ]
  },
  {
   "cell_type": "code",
   "execution_count": 11,
   "metadata": {},
   "outputs": [
    {
     "data": {
      "text/html": [
       "<div>\n",
       "<style scoped>\n",
       "    .dataframe tbody tr th:only-of-type {\n",
       "        vertical-align: middle;\n",
       "    }\n",
       "\n",
       "    .dataframe tbody tr th {\n",
       "        vertical-align: top;\n",
       "    }\n",
       "\n",
       "    .dataframe thead th {\n",
       "        text-align: right;\n",
       "    }\n",
       "</style>\n",
       "<table border=\"1\" class=\"dataframe\">\n",
       "  <thead>\n",
       "    <tr style=\"text-align: right;\">\n",
       "      <th></th>\n",
       "      <th>Gene name</th>\n",
       "      <th>Anatomical entity name</th>\n",
       "    </tr>\n",
       "  </thead>\n",
       "  <tbody>\n",
       "    <tr>\n",
       "      <th>0</th>\n",
       "      <td>TSPAN6</td>\n",
       "      <td>male germ cell</td>\n",
       "    </tr>\n",
       "    <tr>\n",
       "      <th>1</th>\n",
       "      <td>TSPAN6</td>\n",
       "      <td>sperm</td>\n",
       "    </tr>\n",
       "    <tr>\n",
       "      <th>3</th>\n",
       "      <td>TSPAN6</td>\n",
       "      <td>epithelial cell of pancreas</td>\n",
       "    </tr>\n",
       "    <tr>\n",
       "      <th>4</th>\n",
       "      <td>TSPAN6</td>\n",
       "      <td>endothelial cell</td>\n",
       "    </tr>\n",
       "    <tr>\n",
       "      <th>7</th>\n",
       "      <td>TSPAN6</td>\n",
       "      <td>leukocyte</td>\n",
       "    </tr>\n",
       "  </tbody>\n",
       "</table>\n",
       "</div>"
      ],
      "text/plain": [
       "  Gene name       Anatomical entity name\n",
       "0    TSPAN6               male germ cell\n",
       "1    TSPAN6                        sperm\n",
       "3    TSPAN6  epithelial cell of pancreas\n",
       "4    TSPAN6             endothelial cell\n",
       "7    TSPAN6                    leukocyte"
      ]
     },
     "execution_count": 11,
     "metadata": {},
     "output_type": "execute_result"
    }
   ],
   "source": [
    "df.head()"
   ]
  },
  {
   "cell_type": "code",
   "execution_count": 12,
   "metadata": {},
   "outputs": [
    {
     "data": {
      "text/plain": [
       "(19631082, 2)"
      ]
     },
     "execution_count": 12,
     "metadata": {},
     "output_type": "execute_result"
    }
   ],
   "source": [
    "df.shape"
   ]
  },
  {
   "cell_type": "markdown",
   "metadata": {},
   "source": [
    "# Map Gene Symbols To Up-to-date Approved Gene Symbols"
   ]
  },
  {
   "cell_type": "code",
   "execution_count": 13,
   "metadata": {},
   "outputs": [],
   "source": [
    "df.set_index('Gene name', inplace=True)"
   ]
  },
  {
   "cell_type": "code",
   "execution_count": 14,
   "metadata": {},
   "outputs": [
    {
     "name": "stdout",
     "output_type": "stream",
     "text": [
      "Progeres: 10%  2028828 Out of 19631082   \r"
     ]
    },
    {
     "name": "stderr",
     "output_type": "stream",
     "text": [
      "IOPub message rate exceeded.\n",
      "The notebook server will temporarily stop sending output\n",
      "to the client in order to avoid crashing it.\n",
      "To change this limit, set the config variable\n",
      "`--NotebookApp.iopub_msg_rate_limit`.\n",
      "\n",
      "Current values:\n",
      "NotebookApp.iopub_msg_rate_limit=1000.0 (msgs/sec)\n",
      "NotebookApp.rate_limit_window=3.0 (secs)\n",
      "\n"
     ]
    },
    {
     "name": "stdout",
     "output_type": "stream",
     "text": [
      "Progeres: 99%  19630607 Out of 19631082   \r"
     ]
    }
   ],
   "source": [
    "uf.mapgenesymbols(df)"
   ]
  },
  {
   "cell_type": "markdown",
   "metadata": {},
   "source": [
    "# Drop Duplicates"
   ]
  },
  {
   "cell_type": "code",
   "execution_count": 17,
   "metadata": {},
   "outputs": [],
   "source": [
    "df.reset_index(inplace=True)"
   ]
  },
  {
   "cell_type": "code",
   "execution_count": 18,
   "metadata": {},
   "outputs": [],
   "source": [
    "df.drop_duplicates(inplace=True)"
   ]
  },
  {
   "cell_type": "code",
   "execution_count": 19,
   "metadata": {},
   "outputs": [
    {
     "data": {
      "text/html": [
       "<div>\n",
       "<style scoped>\n",
       "    .dataframe tbody tr th:only-of-type {\n",
       "        vertical-align: middle;\n",
       "    }\n",
       "\n",
       "    .dataframe tbody tr th {\n",
       "        vertical-align: top;\n",
       "    }\n",
       "\n",
       "    .dataframe thead th {\n",
       "        text-align: right;\n",
       "    }\n",
       "</style>\n",
       "<table border=\"1\" class=\"dataframe\">\n",
       "  <thead>\n",
       "    <tr style=\"text-align: right;\">\n",
       "      <th></th>\n",
       "      <th>Gene name</th>\n",
       "      <th>Anatomical entity name</th>\n",
       "    </tr>\n",
       "  </thead>\n",
       "  <tbody>\n",
       "    <tr>\n",
       "      <th>0</th>\n",
       "      <td>TSPAN6</td>\n",
       "      <td>male germ cell</td>\n",
       "    </tr>\n",
       "    <tr>\n",
       "      <th>1</th>\n",
       "      <td>TSPAN6</td>\n",
       "      <td>sperm</td>\n",
       "    </tr>\n",
       "    <tr>\n",
       "      <th>2</th>\n",
       "      <td>TSPAN6</td>\n",
       "      <td>epithelial cell of pancreas</td>\n",
       "    </tr>\n",
       "    <tr>\n",
       "      <th>3</th>\n",
       "      <td>TSPAN6</td>\n",
       "      <td>endothelial cell</td>\n",
       "    </tr>\n",
       "    <tr>\n",
       "      <th>4</th>\n",
       "      <td>TSPAN6</td>\n",
       "      <td>leukocyte</td>\n",
       "    </tr>\n",
       "  </tbody>\n",
       "</table>\n",
       "</div>"
      ],
      "text/plain": [
       "  Gene name       Anatomical entity name\n",
       "0    TSPAN6               male germ cell\n",
       "1    TSPAN6                        sperm\n",
       "2    TSPAN6  epithelial cell of pancreas\n",
       "3    TSPAN6             endothelial cell\n",
       "4    TSPAN6                    leukocyte"
      ]
     },
     "execution_count": 19,
     "metadata": {},
     "output_type": "execute_result"
    }
   ],
   "source": [
    "df.head()"
   ]
  },
  {
   "cell_type": "code",
   "execution_count": 20,
   "metadata": {},
   "outputs": [
    {
     "data": {
      "text/plain": [
       "(4308050, 2)"
      ]
     },
     "execution_count": 20,
     "metadata": {},
     "output_type": "execute_result"
    }
   ],
   "source": [
    "df.shape"
   ]
  },
  {
   "cell_type": "markdown",
   "metadata": {},
   "source": [
    "# Create Binary Matrix"
   ]
  },
  {
   "cell_type": "code",
   "execution_count": 21,
   "metadata": {},
   "outputs": [
    {
     "name": "stdout",
     "output_type": "stream",
     "text": [
      "Progeres: 100%  34668 Out of 34668   \r"
     ]
    }
   ],
   "source": [
    "binary_matrix = uf.createBinaryMatrix(df)"
   ]
  },
  {
   "cell_type": "code",
   "execution_count": 22,
   "metadata": {},
   "outputs": [
    {
     "data": {
      "text/html": [
       "<div>\n",
       "<style scoped>\n",
       "    .dataframe tbody tr th:only-of-type {\n",
       "        vertical-align: middle;\n",
       "    }\n",
       "\n",
       "    .dataframe tbody tr th {\n",
       "        vertical-align: top;\n",
       "    }\n",
       "\n",
       "    .dataframe thead th {\n",
       "        text-align: right;\n",
       "    }\n",
       "</style>\n",
       "<table border=\"1\" class=\"dataframe\">\n",
       "  <thead>\n",
       "    <tr style=\"text-align: right;\">\n",
       "      <th></th>\n",
       "      <th>dorsal root ganglion</th>\n",
       "      <th>quadriceps femoris</th>\n",
       "      <th>pleura</th>\n",
       "      <th>saliva-secreting gland</th>\n",
       "      <th>Brodmann (1909) area 23</th>\n",
       "      <th>fundus of stomach</th>\n",
       "      <th>colonic mucosa</th>\n",
       "      <th>dorsolateral prefrontal cortex</th>\n",
       "      <th>left uterine tube</th>\n",
       "      <th>biceps brachii</th>\n",
       "      <th>...</th>\n",
       "      <th>visceral pleura</th>\n",
       "      <th>thyroid gland</th>\n",
       "      <th>pituitary gland</th>\n",
       "      <th>tibial nerve</th>\n",
       "      <th>cervix epithelium</th>\n",
       "      <th>superficial temporal artery</th>\n",
       "      <th>lower esophagus mucosa</th>\n",
       "      <th>esophagus mucosa</th>\n",
       "      <th>oocyte</th>\n",
       "      <th>tibia</th>\n",
       "    </tr>\n",
       "  </thead>\n",
       "  <tbody>\n",
       "    <tr>\n",
       "      <th>AQP7P1</th>\n",
       "      <td>0.0</td>\n",
       "      <td>0.0</td>\n",
       "      <td>0.0</td>\n",
       "      <td>0.0</td>\n",
       "      <td>0.0</td>\n",
       "      <td>1.0</td>\n",
       "      <td>0.0</td>\n",
       "      <td>1.0</td>\n",
       "      <td>1.0</td>\n",
       "      <td>0.0</td>\n",
       "      <td>...</td>\n",
       "      <td>0.0</td>\n",
       "      <td>1.0</td>\n",
       "      <td>1.0</td>\n",
       "      <td>1.0</td>\n",
       "      <td>0.0</td>\n",
       "      <td>0.0</td>\n",
       "      <td>1.0</td>\n",
       "      <td>1.0</td>\n",
       "      <td>0.0</td>\n",
       "      <td>0.0</td>\n",
       "    </tr>\n",
       "    <tr>\n",
       "      <th>ASS1P10</th>\n",
       "      <td>0.0</td>\n",
       "      <td>0.0</td>\n",
       "      <td>0.0</td>\n",
       "      <td>0.0</td>\n",
       "      <td>0.0</td>\n",
       "      <td>0.0</td>\n",
       "      <td>0.0</td>\n",
       "      <td>1.0</td>\n",
       "      <td>0.0</td>\n",
       "      <td>0.0</td>\n",
       "      <td>...</td>\n",
       "      <td>0.0</td>\n",
       "      <td>0.0</td>\n",
       "      <td>0.0</td>\n",
       "      <td>1.0</td>\n",
       "      <td>0.0</td>\n",
       "      <td>0.0</td>\n",
       "      <td>0.0</td>\n",
       "      <td>1.0</td>\n",
       "      <td>0.0</td>\n",
       "      <td>0.0</td>\n",
       "    </tr>\n",
       "    <tr>\n",
       "      <th>LINC01496</th>\n",
       "      <td>0.0</td>\n",
       "      <td>0.0</td>\n",
       "      <td>0.0</td>\n",
       "      <td>0.0</td>\n",
       "      <td>0.0</td>\n",
       "      <td>1.0</td>\n",
       "      <td>0.0</td>\n",
       "      <td>1.0</td>\n",
       "      <td>0.0</td>\n",
       "      <td>0.0</td>\n",
       "      <td>...</td>\n",
       "      <td>0.0</td>\n",
       "      <td>1.0</td>\n",
       "      <td>1.0</td>\n",
       "      <td>1.0</td>\n",
       "      <td>0.0</td>\n",
       "      <td>0.0</td>\n",
       "      <td>0.0</td>\n",
       "      <td>1.0</td>\n",
       "      <td>0.0</td>\n",
       "      <td>0.0</td>\n",
       "    </tr>\n",
       "    <tr>\n",
       "      <th>CFH</th>\n",
       "      <td>1.0</td>\n",
       "      <td>1.0</td>\n",
       "      <td>1.0</td>\n",
       "      <td>1.0</td>\n",
       "      <td>1.0</td>\n",
       "      <td>1.0</td>\n",
       "      <td>1.0</td>\n",
       "      <td>1.0</td>\n",
       "      <td>1.0</td>\n",
       "      <td>1.0</td>\n",
       "      <td>...</td>\n",
       "      <td>1.0</td>\n",
       "      <td>1.0</td>\n",
       "      <td>1.0</td>\n",
       "      <td>1.0</td>\n",
       "      <td>1.0</td>\n",
       "      <td>1.0</td>\n",
       "      <td>1.0</td>\n",
       "      <td>1.0</td>\n",
       "      <td>0.0</td>\n",
       "      <td>1.0</td>\n",
       "    </tr>\n",
       "    <tr>\n",
       "      <th>SNORD96B</th>\n",
       "      <td>0.0</td>\n",
       "      <td>0.0</td>\n",
       "      <td>0.0</td>\n",
       "      <td>0.0</td>\n",
       "      <td>0.0</td>\n",
       "      <td>0.0</td>\n",
       "      <td>0.0</td>\n",
       "      <td>1.0</td>\n",
       "      <td>0.0</td>\n",
       "      <td>0.0</td>\n",
       "      <td>...</td>\n",
       "      <td>0.0</td>\n",
       "      <td>1.0</td>\n",
       "      <td>1.0</td>\n",
       "      <td>1.0</td>\n",
       "      <td>0.0</td>\n",
       "      <td>0.0</td>\n",
       "      <td>0.0</td>\n",
       "      <td>1.0</td>\n",
       "      <td>0.0</td>\n",
       "      <td>0.0</td>\n",
       "    </tr>\n",
       "  </tbody>\n",
       "</table>\n",
       "<p>5 rows × 308 columns</p>\n",
       "</div>"
      ],
      "text/plain": [
       "           dorsal root ganglion  quadriceps femoris  pleura  \\\n",
       "AQP7P1                      0.0                 0.0     0.0   \n",
       "ASS1P10                     0.0                 0.0     0.0   \n",
       "LINC01496                   0.0                 0.0     0.0   \n",
       "CFH                         1.0                 1.0     1.0   \n",
       "SNORD96B                    0.0                 0.0     0.0   \n",
       "\n",
       "           saliva-secreting gland  Brodmann (1909) area 23  fundus of stomach  \\\n",
       "AQP7P1                        0.0                      0.0                1.0   \n",
       "ASS1P10                       0.0                      0.0                0.0   \n",
       "LINC01496                     0.0                      0.0                1.0   \n",
       "CFH                           1.0                      1.0                1.0   \n",
       "SNORD96B                      0.0                      0.0                0.0   \n",
       "\n",
       "           colonic mucosa  dorsolateral prefrontal cortex  left uterine tube  \\\n",
       "AQP7P1                0.0                             1.0                1.0   \n",
       "ASS1P10               0.0                             1.0                0.0   \n",
       "LINC01496             0.0                             1.0                0.0   \n",
       "CFH                   1.0                             1.0                1.0   \n",
       "SNORD96B              0.0                             1.0                0.0   \n",
       "\n",
       "           biceps brachii  ...    visceral pleura  thyroid gland  \\\n",
       "AQP7P1                0.0  ...                0.0            1.0   \n",
       "ASS1P10               0.0  ...                0.0            0.0   \n",
       "LINC01496             0.0  ...                0.0            1.0   \n",
       "CFH                   1.0  ...                1.0            1.0   \n",
       "SNORD96B              0.0  ...                0.0            1.0   \n",
       "\n",
       "           pituitary gland  tibial nerve  cervix epithelium  \\\n",
       "AQP7P1                 1.0           1.0                0.0   \n",
       "ASS1P10                0.0           1.0                0.0   \n",
       "LINC01496              1.0           1.0                0.0   \n",
       "CFH                    1.0           1.0                1.0   \n",
       "SNORD96B               1.0           1.0                0.0   \n",
       "\n",
       "           superficial temporal artery  lower esophagus mucosa  \\\n",
       "AQP7P1                             0.0                     1.0   \n",
       "ASS1P10                            0.0                     0.0   \n",
       "LINC01496                          0.0                     0.0   \n",
       "CFH                                1.0                     1.0   \n",
       "SNORD96B                           0.0                     0.0   \n",
       "\n",
       "           esophagus mucosa  oocyte  tibia  \n",
       "AQP7P1                  1.0     0.0    0.0  \n",
       "ASS1P10                 1.0     0.0    0.0  \n",
       "LINC01496               1.0     0.0    0.0  \n",
       "CFH                     1.0     0.0    1.0  \n",
       "SNORD96B                1.0     0.0    0.0  \n",
       "\n",
       "[5 rows x 308 columns]"
      ]
     },
     "execution_count": 22,
     "metadata": {},
     "output_type": "execute_result"
    }
   ],
   "source": [
    "binary_matrix.head()"
   ]
  },
  {
   "cell_type": "code",
   "execution_count": 23,
   "metadata": {},
   "outputs": [
    {
     "data": {
      "text/plain": [
       "(34668, 308)"
      ]
     },
     "execution_count": 23,
     "metadata": {},
     "output_type": "execute_result"
    }
   ],
   "source": [
    "binary_matrix.shape"
   ]
  },
  {
   "cell_type": "markdown",
   "metadata": {},
   "source": [
    "# Save Binary Matrix"
   ]
  },
  {
   "cell_type": "code",
   "execution_count": 24,
   "metadata": {},
   "outputs": [],
   "source": [
    "filename = path+'bgee_human_anatomical_matrix_%s.tsv.zip'% str(datetime.date.today())[0:7].replace('-', '_')\n",
    "binary_matrix.to_csv(filename, sep='\\t', compression='gzip')"
   ]
  },
  {
   "cell_type": "markdown",
   "metadata": {},
   "source": [
    "# Create Gene Set Library"
   ]
  },
  {
   "cell_type": "code",
   "execution_count": 25,
   "metadata": {},
   "outputs": [],
   "source": [
    "name = 'bgee_human_anatomical_gene_set'"
   ]
  },
  {
   "cell_type": "code",
   "execution_count": 26,
   "metadata": {},
   "outputs": [
    {
     "name": "stdout",
     "output_type": "stream",
     "text": [
      "Progeres: 100%  308 Out of 308   \r"
     ]
    }
   ],
   "source": [
    "uf.createUpGeneSetLib(binary_matrix, path, name)"
   ]
  },
  {
   "cell_type": "markdown",
   "metadata": {},
   "source": [
    "# Create Attribute Library"
   ]
  },
  {
   "cell_type": "code",
   "execution_count": 27,
   "metadata": {},
   "outputs": [],
   "source": [
    "name = 'bgee_human_anatomical_attribute_set'"
   ]
  },
  {
   "cell_type": "code",
   "execution_count": 28,
   "metadata": {},
   "outputs": [
    {
     "name": "stdout",
     "output_type": "stream",
     "text": [
      "Progeres: 100%  34668 Out of 34668   \r"
     ]
    }
   ],
   "source": [
    "uf.createUpAttributeSetLib(binary_matrix, path, name)"
   ]
  },
  {
   "cell_type": "markdown",
   "metadata": {},
   "source": [
    "# Create Gene List"
   ]
  },
  {
   "cell_type": "code",
   "execution_count": 29,
   "metadata": {},
   "outputs": [
    {
     "name": "stdout",
     "output_type": "stream",
     "text": [
      "Progeres: 100%  34668 Out of 34668   \r"
     ]
    }
   ],
   "source": [
    "gene_list = uf.createGeneList(binary_matrix)"
   ]
  },
  {
   "cell_type": "code",
   "execution_count": 30,
   "metadata": {},
   "outputs": [
    {
     "data": {
      "text/html": [
       "<div>\n",
       "<style scoped>\n",
       "    .dataframe tbody tr th:only-of-type {\n",
       "        vertical-align: middle;\n",
       "    }\n",
       "\n",
       "    .dataframe tbody tr th {\n",
       "        vertical-align: top;\n",
       "    }\n",
       "\n",
       "    .dataframe thead th {\n",
       "        text-align: right;\n",
       "    }\n",
       "</style>\n",
       "<table border=\"1\" class=\"dataframe\">\n",
       "  <thead>\n",
       "    <tr style=\"text-align: right;\">\n",
       "      <th></th>\n",
       "      <th>GeneSym</th>\n",
       "      <th>GeneID</th>\n",
       "    </tr>\n",
       "  </thead>\n",
       "  <tbody>\n",
       "    <tr>\n",
       "      <th>0</th>\n",
       "      <td>AQP7P1</td>\n",
       "      <td>375719</td>\n",
       "    </tr>\n",
       "    <tr>\n",
       "      <th>1</th>\n",
       "      <td>ASS1P10</td>\n",
       "      <td>455</td>\n",
       "    </tr>\n",
       "    <tr>\n",
       "      <th>2</th>\n",
       "      <td>LINC01496</td>\n",
       "      <td>1.02723e+08</td>\n",
       "    </tr>\n",
       "    <tr>\n",
       "      <th>3</th>\n",
       "      <td>CFH</td>\n",
       "      <td>3075</td>\n",
       "    </tr>\n",
       "    <tr>\n",
       "      <th>4</th>\n",
       "      <td>SNORD96B</td>\n",
       "      <td>692226</td>\n",
       "    </tr>\n",
       "  </tbody>\n",
       "</table>\n",
       "</div>"
      ],
      "text/plain": [
       "     GeneSym       GeneID\n",
       "0     AQP7P1       375719\n",
       "1    ASS1P10          455\n",
       "2  LINC01496  1.02723e+08\n",
       "3        CFH         3075\n",
       "4   SNORD96B       692226"
      ]
     },
     "execution_count": 30,
     "metadata": {},
     "output_type": "execute_result"
    }
   ],
   "source": [
    "gene_list.head()"
   ]
  },
  {
   "cell_type": "code",
   "execution_count": 31,
   "metadata": {},
   "outputs": [
    {
     "data": {
      "text/plain": [
       "(34668, 2)"
      ]
     },
     "execution_count": 31,
     "metadata": {},
     "output_type": "execute_result"
    }
   ],
   "source": [
    "gene_list.shape"
   ]
  },
  {
   "cell_type": "markdown",
   "metadata": {},
   "source": [
    "# Save Gene List"
   ]
  },
  {
   "cell_type": "code",
   "execution_count": 32,
   "metadata": {},
   "outputs": [],
   "source": [
    "filename = path+'bgee_human_anatomical_gene_list_%s.tsv.zip'% str(datetime.date.today())[0:7].replace('-', '_')\n",
    "gene_list.to_csv(filename, sep='\\t', index=False, compression='gzip')"
   ]
  },
  {
   "cell_type": "markdown",
   "metadata": {},
   "source": [
    "# Create Attribute List"
   ]
  },
  {
   "cell_type": "code",
   "execution_count": 33,
   "metadata": {},
   "outputs": [],
   "source": [
    "attribute_list = uf.createAttributeList(binary_matrix)"
   ]
  },
  {
   "cell_type": "code",
   "execution_count": 34,
   "metadata": {},
   "outputs": [
    {
     "data": {
      "text/html": [
       "<div>\n",
       "<style scoped>\n",
       "    .dataframe tbody tr th:only-of-type {\n",
       "        vertical-align: middle;\n",
       "    }\n",
       "\n",
       "    .dataframe tbody tr th {\n",
       "        vertical-align: top;\n",
       "    }\n",
       "\n",
       "    .dataframe thead th {\n",
       "        text-align: right;\n",
       "    }\n",
       "</style>\n",
       "<table border=\"1\" class=\"dataframe\">\n",
       "  <thead>\n",
       "    <tr style=\"text-align: right;\">\n",
       "      <th></th>\n",
       "    </tr>\n",
       "    <tr>\n",
       "      <th>Attributes</th>\n",
       "    </tr>\n",
       "  </thead>\n",
       "  <tbody>\n",
       "    <tr>\n",
       "      <th>dorsal root ganglion</th>\n",
       "    </tr>\n",
       "    <tr>\n",
       "      <th>quadriceps femoris</th>\n",
       "    </tr>\n",
       "    <tr>\n",
       "      <th>pleura</th>\n",
       "    </tr>\n",
       "    <tr>\n",
       "      <th>saliva-secreting gland</th>\n",
       "    </tr>\n",
       "    <tr>\n",
       "      <th>Brodmann (1909) area 23</th>\n",
       "    </tr>\n",
       "  </tbody>\n",
       "</table>\n",
       "</div>"
      ],
      "text/plain": [
       "Empty DataFrame\n",
       "Columns: []\n",
       "Index: [dorsal root ganglion, quadriceps femoris, pleura, saliva-secreting gland, Brodmann (1909) area 23]"
      ]
     },
     "execution_count": 34,
     "metadata": {},
     "output_type": "execute_result"
    }
   ],
   "source": [
    "attribute_list.head()"
   ]
  },
  {
   "cell_type": "code",
   "execution_count": 35,
   "metadata": {},
   "outputs": [
    {
     "data": {
      "text/plain": [
       "(308, 0)"
      ]
     },
     "execution_count": 35,
     "metadata": {},
     "output_type": "execute_result"
    }
   ],
   "source": [
    "attribute_list.shape"
   ]
  },
  {
   "cell_type": "markdown",
   "metadata": {},
   "source": [
    "# Save Attribute List"
   ]
  },
  {
   "cell_type": "code",
   "execution_count": 36,
   "metadata": {},
   "outputs": [],
   "source": [
    "filename = path+'bgee_human_anatomical_attribute_list_%s.tsv.zip'% str(datetime.date.today())[0:7].replace('-', '_')\n",
    "attribute_list.to_csv(filename, sep='\\t', index=False, compression='gzip')"
   ]
  },
  {
   "cell_type": "markdown",
   "metadata": {},
   "source": [
    "# Create Attribute Similarity matrix"
   ]
  },
  {
   "cell_type": "code",
   "execution_count": 37,
   "metadata": {},
   "outputs": [],
   "source": [
    "attribute_similarity_matix = uf.createSimilarityMatrix(binary_matrix.T, 'jaccard')"
   ]
  },
  {
   "cell_type": "code",
   "execution_count": 38,
   "metadata": {},
   "outputs": [
    {
     "data": {
      "text/html": [
       "<div>\n",
       "<style scoped>\n",
       "    .dataframe tbody tr th:only-of-type {\n",
       "        vertical-align: middle;\n",
       "    }\n",
       "\n",
       "    .dataframe tbody tr th {\n",
       "        vertical-align: top;\n",
       "    }\n",
       "\n",
       "    .dataframe thead th {\n",
       "        text-align: right;\n",
       "    }\n",
       "</style>\n",
       "<table border=\"1\" class=\"dataframe\">\n",
       "  <thead>\n",
       "    <tr style=\"text-align: right;\">\n",
       "      <th></th>\n",
       "      <th>dorsal root ganglion</th>\n",
       "      <th>quadriceps femoris</th>\n",
       "      <th>pleura</th>\n",
       "      <th>saliva-secreting gland</th>\n",
       "      <th>Brodmann (1909) area 23</th>\n",
       "      <th>fundus of stomach</th>\n",
       "      <th>colonic mucosa</th>\n",
       "      <th>dorsolateral prefrontal cortex</th>\n",
       "      <th>left uterine tube</th>\n",
       "      <th>biceps brachii</th>\n",
       "      <th>...</th>\n",
       "      <th>visceral pleura</th>\n",
       "      <th>thyroid gland</th>\n",
       "      <th>pituitary gland</th>\n",
       "      <th>tibial nerve</th>\n",
       "      <th>cervix epithelium</th>\n",
       "      <th>superficial temporal artery</th>\n",
       "      <th>lower esophagus mucosa</th>\n",
       "      <th>esophagus mucosa</th>\n",
       "      <th>oocyte</th>\n",
       "      <th>tibia</th>\n",
       "    </tr>\n",
       "    <tr>\n",
       "      <th></th>\n",
       "      <th></th>\n",
       "      <th></th>\n",
       "      <th></th>\n",
       "      <th></th>\n",
       "      <th></th>\n",
       "      <th></th>\n",
       "      <th></th>\n",
       "      <th></th>\n",
       "      <th></th>\n",
       "      <th></th>\n",
       "      <th></th>\n",
       "      <th></th>\n",
       "      <th></th>\n",
       "      <th></th>\n",
       "      <th></th>\n",
       "      <th></th>\n",
       "      <th></th>\n",
       "      <th></th>\n",
       "      <th></th>\n",
       "      <th></th>\n",
       "      <th></th>\n",
       "    </tr>\n",
       "  </thead>\n",
       "  <tbody>\n",
       "    <tr>\n",
       "      <th>dorsal root ganglion</th>\n",
       "      <td>1.000000</td>\n",
       "      <td>0.790052</td>\n",
       "      <td>0.635409</td>\n",
       "      <td>0.691557</td>\n",
       "      <td>0.801105</td>\n",
       "      <td>0.529852</td>\n",
       "      <td>0.740784</td>\n",
       "      <td>0.436862</td>\n",
       "      <td>0.552239</td>\n",
       "      <td>0.796877</td>\n",
       "      <td>...</td>\n",
       "      <td>0.795575</td>\n",
       "      <td>0.430613</td>\n",
       "      <td>0.457686</td>\n",
       "      <td>0.416033</td>\n",
       "      <td>0.588608</td>\n",
       "      <td>0.684640</td>\n",
       "      <td>0.616856</td>\n",
       "      <td>0.416108</td>\n",
       "      <td>0.572003</td>\n",
       "      <td>0.795560</td>\n",
       "    </tr>\n",
       "    <tr>\n",
       "      <th>quadriceps femoris</th>\n",
       "      <td>0.790052</td>\n",
       "      <td>1.000000</td>\n",
       "      <td>0.618021</td>\n",
       "      <td>0.728350</td>\n",
       "      <td>0.751667</td>\n",
       "      <td>0.554178</td>\n",
       "      <td>0.767797</td>\n",
       "      <td>0.462397</td>\n",
       "      <td>0.574602</td>\n",
       "      <td>0.879464</td>\n",
       "      <td>...</td>\n",
       "      <td>0.774268</td>\n",
       "      <td>0.458539</td>\n",
       "      <td>0.482007</td>\n",
       "      <td>0.441707</td>\n",
       "      <td>0.569185</td>\n",
       "      <td>0.643732</td>\n",
       "      <td>0.635057</td>\n",
       "      <td>0.442069</td>\n",
       "      <td>0.553612</td>\n",
       "      <td>0.772187</td>\n",
       "    </tr>\n",
       "    <tr>\n",
       "      <th>pleura</th>\n",
       "      <td>0.635409</td>\n",
       "      <td>0.618021</td>\n",
       "      <td>1.000000</td>\n",
       "      <td>0.544827</td>\n",
       "      <td>0.596111</td>\n",
       "      <td>0.415475</td>\n",
       "      <td>0.591384</td>\n",
       "      <td>0.339121</td>\n",
       "      <td>0.438192</td>\n",
       "      <td>0.629506</td>\n",
       "      <td>...</td>\n",
       "      <td>0.702801</td>\n",
       "      <td>0.336791</td>\n",
       "      <td>0.356257</td>\n",
       "      <td>0.324827</td>\n",
       "      <td>0.802813</td>\n",
       "      <td>0.593532</td>\n",
       "      <td>0.492303</td>\n",
       "      <td>0.326988</td>\n",
       "      <td>0.500127</td>\n",
       "      <td>0.650086</td>\n",
       "    </tr>\n",
       "    <tr>\n",
       "      <th>saliva-secreting gland</th>\n",
       "      <td>0.691557</td>\n",
       "      <td>0.728350</td>\n",
       "      <td>0.544827</td>\n",
       "      <td>1.000000</td>\n",
       "      <td>0.702379</td>\n",
       "      <td>0.693158</td>\n",
       "      <td>0.864609</td>\n",
       "      <td>0.597126</td>\n",
       "      <td>0.700560</td>\n",
       "      <td>0.684437</td>\n",
       "      <td>...</td>\n",
       "      <td>0.698678</td>\n",
       "      <td>0.596623</td>\n",
       "      <td>0.620420</td>\n",
       "      <td>0.582468</td>\n",
       "      <td>0.480879</td>\n",
       "      <td>0.517180</td>\n",
       "      <td>0.710224</td>\n",
       "      <td>0.586597</td>\n",
       "      <td>0.486699</td>\n",
       "      <td>0.688437</td>\n",
       "    </tr>\n",
       "    <tr>\n",
       "      <th>Brodmann (1909) area 23</th>\n",
       "      <td>0.801105</td>\n",
       "      <td>0.751667</td>\n",
       "      <td>0.596111</td>\n",
       "      <td>0.702379</td>\n",
       "      <td>1.000000</td>\n",
       "      <td>0.534606</td>\n",
       "      <td>0.736450</td>\n",
       "      <td>0.450177</td>\n",
       "      <td>0.554763</td>\n",
       "      <td>0.753665</td>\n",
       "      <td>...</td>\n",
       "      <td>0.763660</td>\n",
       "      <td>0.438311</td>\n",
       "      <td>0.469287</td>\n",
       "      <td>0.425776</td>\n",
       "      <td>0.535050</td>\n",
       "      <td>0.614680</td>\n",
       "      <td>0.608746</td>\n",
       "      <td>0.424728</td>\n",
       "      <td>0.572179</td>\n",
       "      <td>0.774411</td>\n",
       "    </tr>\n",
       "  </tbody>\n",
       "</table>\n",
       "<p>5 rows × 308 columns</p>\n",
       "</div>"
      ],
      "text/plain": [
       "                         dorsal root ganglion  quadriceps femoris    pleura  \\\n",
       "                                                                              \n",
       "dorsal root ganglion                 1.000000            0.790052  0.635409   \n",
       "quadriceps femoris                   0.790052            1.000000  0.618021   \n",
       "pleura                               0.635409            0.618021  1.000000   \n",
       "saliva-secreting gland               0.691557            0.728350  0.544827   \n",
       "Brodmann (1909) area 23              0.801105            0.751667  0.596111   \n",
       "\n",
       "                         saliva-secreting gland  Brodmann (1909) area 23  \\\n",
       "                                                                           \n",
       "dorsal root ganglion                   0.691557                 0.801105   \n",
       "quadriceps femoris                     0.728350                 0.751667   \n",
       "pleura                                 0.544827                 0.596111   \n",
       "saliva-secreting gland                 1.000000                 0.702379   \n",
       "Brodmann (1909) area 23                0.702379                 1.000000   \n",
       "\n",
       "                         fundus of stomach  colonic mucosa  \\\n",
       "                                                             \n",
       "dorsal root ganglion              0.529852        0.740784   \n",
       "quadriceps femoris                0.554178        0.767797   \n",
       "pleura                            0.415475        0.591384   \n",
       "saliva-secreting gland            0.693158        0.864609   \n",
       "Brodmann (1909) area 23           0.534606        0.736450   \n",
       "\n",
       "                         dorsolateral prefrontal cortex  left uterine tube  \\\n",
       "                                                                             \n",
       "dorsal root ganglion                           0.436862           0.552239   \n",
       "quadriceps femoris                             0.462397           0.574602   \n",
       "pleura                                         0.339121           0.438192   \n",
       "saliva-secreting gland                         0.597126           0.700560   \n",
       "Brodmann (1909) area 23                        0.450177           0.554763   \n",
       "\n",
       "                         biceps brachii    ...     visceral pleura  \\\n",
       "                                           ...                       \n",
       "dorsal root ganglion           0.796877    ...            0.795575   \n",
       "quadriceps femoris             0.879464    ...            0.774268   \n",
       "pleura                         0.629506    ...            0.702801   \n",
       "saliva-secreting gland         0.684437    ...            0.698678   \n",
       "Brodmann (1909) area 23        0.753665    ...            0.763660   \n",
       "\n",
       "                         thyroid gland  pituitary gland  tibial nerve  \\\n",
       "                                                                        \n",
       "dorsal root ganglion          0.430613         0.457686      0.416033   \n",
       "quadriceps femoris            0.458539         0.482007      0.441707   \n",
       "pleura                        0.336791         0.356257      0.324827   \n",
       "saliva-secreting gland        0.596623         0.620420      0.582468   \n",
       "Brodmann (1909) area 23       0.438311         0.469287      0.425776   \n",
       "\n",
       "                         cervix epithelium  superficial temporal artery  \\\n",
       "                                                                          \n",
       "dorsal root ganglion              0.588608                     0.684640   \n",
       "quadriceps femoris                0.569185                     0.643732   \n",
       "pleura                            0.802813                     0.593532   \n",
       "saliva-secreting gland            0.480879                     0.517180   \n",
       "Brodmann (1909) area 23           0.535050                     0.614680   \n",
       "\n",
       "                         lower esophagus mucosa  esophagus mucosa    oocyte  \\\n",
       "                                                                              \n",
       "dorsal root ganglion                   0.616856          0.416108  0.572003   \n",
       "quadriceps femoris                     0.635057          0.442069  0.553612   \n",
       "pleura                                 0.492303          0.326988  0.500127   \n",
       "saliva-secreting gland                 0.710224          0.586597  0.486699   \n",
       "Brodmann (1909) area 23                0.608746          0.424728  0.572179   \n",
       "\n",
       "                            tibia  \n",
       "                                   \n",
       "dorsal root ganglion     0.795560  \n",
       "quadriceps femoris       0.772187  \n",
       "pleura                   0.650086  \n",
       "saliva-secreting gland   0.688437  \n",
       "Brodmann (1909) area 23  0.774411  \n",
       "\n",
       "[5 rows x 308 columns]"
      ]
     },
     "execution_count": 38,
     "metadata": {},
     "output_type": "execute_result"
    }
   ],
   "source": [
    "attribute_similarity_matix.head()"
   ]
  },
  {
   "cell_type": "markdown",
   "metadata": {},
   "source": [
    "# Save Attribute Similarity Matrix"
   ]
  },
  {
   "cell_type": "code",
   "execution_count": 39,
   "metadata": {},
   "outputs": [],
   "source": [
    "filename = path+'bgee_human_anatomical_attribute_similarity_matix_%s.tsv.zip'% str(datetime.date.today())[0:7].replace('-', '_')\n",
    "attribute_similarity_matix.to_csv(filename, sep='\\t', compression='gzip')"
   ]
  },
  {
   "cell_type": "markdown",
   "metadata": {},
   "source": [
    "# Create Gene Similarity Matrix"
   ]
  },
  {
   "cell_type": "code",
   "execution_count": 42,
   "metadata": {},
   "outputs": [],
   "source": [
    "gene_similarity_matix = uf.createSimilarityMatrix(binary_matrix, 'jaccard')"
   ]
  },
  {
   "cell_type": "code",
   "execution_count": 43,
   "metadata": {},
   "outputs": [
    {
     "data": {
      "text/html": [
       "<div>\n",
       "<style scoped>\n",
       "    .dataframe tbody tr th:only-of-type {\n",
       "        vertical-align: middle;\n",
       "    }\n",
       "\n",
       "    .dataframe tbody tr th {\n",
       "        vertical-align: top;\n",
       "    }\n",
       "\n",
       "    .dataframe thead th {\n",
       "        text-align: right;\n",
       "    }\n",
       "</style>\n",
       "<table border=\"1\" class=\"dataframe\">\n",
       "  <thead>\n",
       "    <tr style=\"text-align: right;\">\n",
       "      <th></th>\n",
       "      <th>AQP7P1</th>\n",
       "      <th>ASS1P10</th>\n",
       "      <th>LINC01496</th>\n",
       "      <th>CFH</th>\n",
       "      <th>SNORD96B</th>\n",
       "      <th>RN7SL339P</th>\n",
       "      <th>RNU6-1338P</th>\n",
       "      <th>KMT2E-AS1</th>\n",
       "      <th>TEKT4</th>\n",
       "      <th>SON</th>\n",
       "      <th>...</th>\n",
       "      <th>ZNF223</th>\n",
       "      <th>FAM89B</th>\n",
       "      <th>COX5B</th>\n",
       "      <th>TMED5</th>\n",
       "      <th>RSL24D1P2</th>\n",
       "      <th>MIR4261</th>\n",
       "      <th>PGM1</th>\n",
       "      <th>PTH</th>\n",
       "      <th>HSPB11</th>\n",
       "      <th>RNU6-1040P</th>\n",
       "    </tr>\n",
       "    <tr>\n",
       "      <th></th>\n",
       "      <th></th>\n",
       "      <th></th>\n",
       "      <th></th>\n",
       "      <th></th>\n",
       "      <th></th>\n",
       "      <th></th>\n",
       "      <th></th>\n",
       "      <th></th>\n",
       "      <th></th>\n",
       "      <th></th>\n",
       "      <th></th>\n",
       "      <th></th>\n",
       "      <th></th>\n",
       "      <th></th>\n",
       "      <th></th>\n",
       "      <th></th>\n",
       "      <th></th>\n",
       "      <th></th>\n",
       "      <th></th>\n",
       "      <th></th>\n",
       "      <th></th>\n",
       "    </tr>\n",
       "  </thead>\n",
       "  <tbody>\n",
       "    <tr>\n",
       "      <th>AQP7P1</th>\n",
       "      <td>1.000000</td>\n",
       "      <td>0.369048</td>\n",
       "      <td>0.700000</td>\n",
       "      <td>0.342857</td>\n",
       "      <td>0.634409</td>\n",
       "      <td>0.711111</td>\n",
       "      <td>0.534091</td>\n",
       "      <td>0.865979</td>\n",
       "      <td>0.860215</td>\n",
       "      <td>0.300000</td>\n",
       "      <td>...</td>\n",
       "      <td>0.521739</td>\n",
       "      <td>0.857143</td>\n",
       "      <td>0.309963</td>\n",
       "      <td>0.313433</td>\n",
       "      <td>0.441860</td>\n",
       "      <td>0.517241</td>\n",
       "      <td>0.307692</td>\n",
       "      <td>0.574074</td>\n",
       "      <td>0.312268</td>\n",
       "      <td>0.271739</td>\n",
       "    </tr>\n",
       "    <tr>\n",
       "      <th>ASS1P10</th>\n",
       "      <td>0.369048</td>\n",
       "      <td>1.000000</td>\n",
       "      <td>0.333333</td>\n",
       "      <td>0.126531</td>\n",
       "      <td>0.394366</td>\n",
       "      <td>0.402778</td>\n",
       "      <td>0.344262</td>\n",
       "      <td>0.319588</td>\n",
       "      <td>0.348315</td>\n",
       "      <td>0.110714</td>\n",
       "      <td>...</td>\n",
       "      <td>0.192547</td>\n",
       "      <td>0.316327</td>\n",
       "      <td>0.114391</td>\n",
       "      <td>0.115672</td>\n",
       "      <td>0.365385</td>\n",
       "      <td>0.410714</td>\n",
       "      <td>0.113553</td>\n",
       "      <td>0.300000</td>\n",
       "      <td>0.115242</td>\n",
       "      <td>0.207547</td>\n",
       "    </tr>\n",
       "    <tr>\n",
       "      <th>LINC01496</th>\n",
       "      <td>0.700000</td>\n",
       "      <td>0.333333</td>\n",
       "      <td>1.000000</td>\n",
       "      <td>0.281633</td>\n",
       "      <td>0.756410</td>\n",
       "      <td>0.737500</td>\n",
       "      <td>0.621622</td>\n",
       "      <td>0.693878</td>\n",
       "      <td>0.698925</td>\n",
       "      <td>0.246429</td>\n",
       "      <td>...</td>\n",
       "      <td>0.428571</td>\n",
       "      <td>0.704082</td>\n",
       "      <td>0.254613</td>\n",
       "      <td>0.257463</td>\n",
       "      <td>0.453333</td>\n",
       "      <td>0.560000</td>\n",
       "      <td>0.252747</td>\n",
       "      <td>0.550000</td>\n",
       "      <td>0.256506</td>\n",
       "      <td>0.378378</td>\n",
       "    </tr>\n",
       "    <tr>\n",
       "      <th>CFH</th>\n",
       "      <td>0.342857</td>\n",
       "      <td>0.126531</td>\n",
       "      <td>0.281633</td>\n",
       "      <td>1.000000</td>\n",
       "      <td>0.277551</td>\n",
       "      <td>0.285714</td>\n",
       "      <td>0.208163</td>\n",
       "      <td>0.395918</td>\n",
       "      <td>0.363265</td>\n",
       "      <td>0.875000</td>\n",
       "      <td>...</td>\n",
       "      <td>0.650407</td>\n",
       "      <td>0.400000</td>\n",
       "      <td>0.869565</td>\n",
       "      <td>0.872263</td>\n",
       "      <td>0.163265</td>\n",
       "      <td>0.195918</td>\n",
       "      <td>0.876812</td>\n",
       "      <td>0.351020</td>\n",
       "      <td>0.862319</td>\n",
       "      <td>0.134694</td>\n",
       "    </tr>\n",
       "    <tr>\n",
       "      <th>SNORD96B</th>\n",
       "      <td>0.634409</td>\n",
       "      <td>0.394366</td>\n",
       "      <td>0.756410</td>\n",
       "      <td>0.277551</td>\n",
       "      <td>1.000000</td>\n",
       "      <td>0.725000</td>\n",
       "      <td>0.565789</td>\n",
       "      <td>0.683673</td>\n",
       "      <td>0.688172</td>\n",
       "      <td>0.242857</td>\n",
       "      <td>...</td>\n",
       "      <td>0.422360</td>\n",
       "      <td>0.693878</td>\n",
       "      <td>0.250923</td>\n",
       "      <td>0.253731</td>\n",
       "      <td>0.459459</td>\n",
       "      <td>0.633803</td>\n",
       "      <td>0.249084</td>\n",
       "      <td>0.524752</td>\n",
       "      <td>0.252788</td>\n",
       "      <td>0.442857</td>\n",
       "    </tr>\n",
       "  </tbody>\n",
       "</table>\n",
       "<p>5 rows × 34668 columns</p>\n",
       "</div>"
      ],
      "text/plain": [
       "             AQP7P1   ASS1P10  LINC01496       CFH  SNORD96B  RN7SL339P  \\\n",
       "                                                                          \n",
       "AQP7P1     1.000000  0.369048   0.700000  0.342857  0.634409   0.711111   \n",
       "ASS1P10    0.369048  1.000000   0.333333  0.126531  0.394366   0.402778   \n",
       "LINC01496  0.700000  0.333333   1.000000  0.281633  0.756410   0.737500   \n",
       "CFH        0.342857  0.126531   0.281633  1.000000  0.277551   0.285714   \n",
       "SNORD96B   0.634409  0.394366   0.756410  0.277551  1.000000   0.725000   \n",
       "\n",
       "           RNU6-1338P  KMT2E-AS1     TEKT4       SON     ...        ZNF223  \\\n",
       "                                                         ...                 \n",
       "AQP7P1       0.534091   0.865979  0.860215  0.300000     ...      0.521739   \n",
       "ASS1P10      0.344262   0.319588  0.348315  0.110714     ...      0.192547   \n",
       "LINC01496    0.621622   0.693878  0.698925  0.246429     ...      0.428571   \n",
       "CFH          0.208163   0.395918  0.363265  0.875000     ...      0.650407   \n",
       "SNORD96B     0.565789   0.683673  0.688172  0.242857     ...      0.422360   \n",
       "\n",
       "             FAM89B     COX5B     TMED5  RSL24D1P2   MIR4261      PGM1  \\\n",
       "                                                                         \n",
       "AQP7P1     0.857143  0.309963  0.313433   0.441860  0.517241  0.307692   \n",
       "ASS1P10    0.316327  0.114391  0.115672   0.365385  0.410714  0.113553   \n",
       "LINC01496  0.704082  0.254613  0.257463   0.453333  0.560000  0.252747   \n",
       "CFH        0.400000  0.869565  0.872263   0.163265  0.195918  0.876812   \n",
       "SNORD96B   0.693878  0.250923  0.253731   0.459459  0.633803  0.249084   \n",
       "\n",
       "                PTH    HSPB11  RNU6-1040P  \n",
       "                                           \n",
       "AQP7P1     0.574074  0.312268    0.271739  \n",
       "ASS1P10    0.300000  0.115242    0.207547  \n",
       "LINC01496  0.550000  0.256506    0.378378  \n",
       "CFH        0.351020  0.862319    0.134694  \n",
       "SNORD96B   0.524752  0.252788    0.442857  \n",
       "\n",
       "[5 rows x 34668 columns]"
      ]
     },
     "execution_count": 43,
     "metadata": {},
     "output_type": "execute_result"
    }
   ],
   "source": [
    "gene_similarity_matix.head()"
   ]
  },
  {
   "cell_type": "markdown",
   "metadata": {},
   "source": [
    "# Save Gene Similarity Matrix"
   ]
  },
  {
   "cell_type": "code",
   "execution_count": 44,
   "metadata": {},
   "outputs": [],
   "source": [
    "filename = path+'bgee_human_anatomical_gene_similarity_matix_%s.tsv.zip'% str(datetime.date.today())[0:7].replace('-', '_')\n",
    "gene_similarity_matix.to_csv(filename, sep='\\t', compression='gzip')"
   ]
  },
  {
   "cell_type": "markdown",
   "metadata": {},
   "source": [
    "# Create Gene-Attribute Edge List"
   ]
  },
  {
   "cell_type": "code",
   "execution_count": 40,
   "metadata": {},
   "outputs": [],
   "source": [
    "name = 'bgee_human_anatomical_gene_attribute_edge_list'"
   ]
  },
  {
   "cell_type": "code",
   "execution_count": 41,
   "metadata": {},
   "outputs": [
    {
     "name": "stdout",
     "output_type": "stream",
     "text": [
      "Progeres: 100%  308 Out of 308   \n",
      "\n",
      " The number of statisticaly relevent gene-attribute associations is: 4308050\n"
     ]
    }
   ],
   "source": [
    "uf.createGeneAttributeEdgeList(binary_matrix, attribute_list, gene_list, path, name)"
   ]
  }
 ],
 "metadata": {
  "kernelspec": {
   "display_name": "Python 3",
   "language": "python",
   "name": "python3"
  },
  "language_info": {
   "codemirror_mode": {
    "name": "ipython",
    "version": 3
   },
   "file_extension": ".py",
   "mimetype": "text/x-python",
   "name": "python",
   "nbconvert_exporter": "python",
   "pygments_lexer": "ipython3",
   "version": "3.6.4"
  }
 },
 "nbformat": 4,
 "nbformat_minor": 2
}
