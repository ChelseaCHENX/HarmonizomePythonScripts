{
 "cells": [
  {
   "cell_type": "markdown",
   "metadata": {},
   "source": [
    "# bgee Human Developmental Stage"
   ]
  },
  {
   "cell_type": "markdown",
   "metadata": {},
   "source": [
    "Author: Moshe Silverstein  \n",
    "Date: 07-18  \n",
    "Data Source Home: https://bgee.org/     \n",
    "Data Source Download: https://bgee.org/?page=download&action=expr_calls#id1 "
   ]
  },
  {
   "cell_type": "code",
   "execution_count": 1,
   "metadata": {},
   "outputs": [],
   "source": [
    "import sys, datetime, os\n",
    "import numpy as np\n",
    "import pandas as pd\n",
    "import importlib\n",
    "import utility_functions as uf\n",
    "import matplotlib.pyplot as plt\n",
    "%matplotlib inline\n",
    "from collections import Counter"
   ]
  },
  {
   "cell_type": "code",
   "execution_count": 2,
   "metadata": {},
   "outputs": [],
   "source": [
    "import seaborn as sns\n",
    "sns.set(color_codes=True)\n",
    "np.random.seed(sum(map(ord, \"distributions\")))"
   ]
  },
  {
   "cell_type": "markdown",
   "metadata": {},
   "source": [
    "# Path to Output Files"
   ]
  },
  {
   "cell_type": "code",
   "execution_count": 3,
   "metadata": {},
   "outputs": [],
   "source": [
    "path = '/Users/moshesilverstein/Documents/Harmonizome/bgee/Output/'"
   ]
  },
  {
   "cell_type": "markdown",
   "metadata": {},
   "source": [
    "# Load Data"
   ]
  },
  {
   "cell_type": "code",
   "execution_count": 4,
   "metadata": {},
   "outputs": [
    {
     "name": "stderr",
     "output_type": "stream",
     "text": [
      "/Users/moshesilverstein/anaconda3/lib/python3.6/site-packages/IPython/core/interactiveshell.py:2785: DtypeWarning: Columns (8) have mixed types. Specify dtype option on import or set low_memory=False.\n",
      "  interactivity=interactivity, compiler=compiler, result=result)\n"
     ]
    }
   ],
   "source": [
    "df = pd.read_csv('Input/Homo_sapiens_expr_advanced_development.tsv', sep='\\t')"
   ]
  },
  {
   "cell_type": "code",
   "execution_count": 5,
   "metadata": {},
   "outputs": [
    {
     "data": {
      "text/html": [
       "<div>\n",
       "<style scoped>\n",
       "    .dataframe tbody tr th:only-of-type {\n",
       "        vertical-align: middle;\n",
       "    }\n",
       "\n",
       "    .dataframe tbody tr th {\n",
       "        vertical-align: top;\n",
       "    }\n",
       "\n",
       "    .dataframe thead th {\n",
       "        text-align: right;\n",
       "    }\n",
       "</style>\n",
       "<table border=\"1\" class=\"dataframe\">\n",
       "  <thead>\n",
       "    <tr style=\"text-align: right;\">\n",
       "      <th></th>\n",
       "      <th>Gene ID</th>\n",
       "      <th>Gene name</th>\n",
       "      <th>Anatomical entity ID</th>\n",
       "      <th>Anatomical entity name</th>\n",
       "      <th>Developmental stage ID</th>\n",
       "      <th>Developmental stage name</th>\n",
       "      <th>Expression</th>\n",
       "      <th>Call quality</th>\n",
       "      <th>Expression rank</th>\n",
       "      <th>Including observed data</th>\n",
       "      <th>...</th>\n",
       "      <th>In situ hybridization experiment count showing expression of this gene in this condition or in sub-conditions with a low quality</th>\n",
       "      <th>In situ hybridization experiment count showing absence of expression of this gene in this condition or valid parent conditions with a high quality</th>\n",
       "      <th>In situ hybridization experiment count showing absence of expression of this gene in this condition or valid parent conditions with a low quality</th>\n",
       "      <th>Including in situ hybridization observed data</th>\n",
       "      <th>RNA-Seq data</th>\n",
       "      <th>RNA-Seq  experiment count showing expression of this gene in this condition or in sub-conditions with a high quality</th>\n",
       "      <th>RNA-Seq  experiment count showing expression of this gene in this condition or in sub-conditions with a low quality</th>\n",
       "      <th>RNA-Seq  experiment count showing absence of expression of this gene in this condition or valid parent conditions with a high quality</th>\n",
       "      <th>RNA-Seq  experiment count showing absence of expression of this gene in this condition or valid parent conditions with a low quality</th>\n",
       "      <th>Including RNA-Seq observed data</th>\n",
       "    </tr>\n",
       "  </thead>\n",
       "  <tbody>\n",
       "    <tr>\n",
       "      <th>0</th>\n",
       "      <td>ENSG00000000003</td>\n",
       "      <td>TSPAN6</td>\n",
       "      <td>CL:0000015</td>\n",
       "      <td>male germ cell</td>\n",
       "      <td>HsapDv:0000092</td>\n",
       "      <td>human middle aged stage (human)</td>\n",
       "      <td>present</td>\n",
       "      <td>silver quality</td>\n",
       "      <td>5940</td>\n",
       "      <td>yes</td>\n",
       "      <td>...</td>\n",
       "      <td>0</td>\n",
       "      <td>0</td>\n",
       "      <td>0</td>\n",
       "      <td>no</td>\n",
       "      <td>no data</td>\n",
       "      <td>0</td>\n",
       "      <td>0</td>\n",
       "      <td>0</td>\n",
       "      <td>0</td>\n",
       "      <td>no</td>\n",
       "    </tr>\n",
       "    <tr>\n",
       "      <th>1</th>\n",
       "      <td>ENSG00000000003</td>\n",
       "      <td>TSPAN6</td>\n",
       "      <td>CL:0000019</td>\n",
       "      <td>sperm</td>\n",
       "      <td>HsapDv:0000088</td>\n",
       "      <td>human early adulthood stage (human)</td>\n",
       "      <td>present</td>\n",
       "      <td>silver quality</td>\n",
       "      <td>23</td>\n",
       "      <td>yes</td>\n",
       "      <td>...</td>\n",
       "      <td>0</td>\n",
       "      <td>0</td>\n",
       "      <td>0</td>\n",
       "      <td>no</td>\n",
       "      <td>no data</td>\n",
       "      <td>0</td>\n",
       "      <td>0</td>\n",
       "      <td>0</td>\n",
       "      <td>0</td>\n",
       "      <td>no</td>\n",
       "    </tr>\n",
       "    <tr>\n",
       "      <th>2</th>\n",
       "      <td>ENSG00000000003</td>\n",
       "      <td>TSPAN6</td>\n",
       "      <td>CL:0000023</td>\n",
       "      <td>oocyte</td>\n",
       "      <td>HsapDv:0000087</td>\n",
       "      <td>human adult stage (human)</td>\n",
       "      <td>absent</td>\n",
       "      <td>silver quality</td>\n",
       "      <td>20500</td>\n",
       "      <td>yes</td>\n",
       "      <td>...</td>\n",
       "      <td>0</td>\n",
       "      <td>0</td>\n",
       "      <td>0</td>\n",
       "      <td>no</td>\n",
       "      <td>no data</td>\n",
       "      <td>0</td>\n",
       "      <td>0</td>\n",
       "      <td>0</td>\n",
       "      <td>0</td>\n",
       "      <td>no</td>\n",
       "    </tr>\n",
       "    <tr>\n",
       "      <th>3</th>\n",
       "      <td>ENSG00000000003</td>\n",
       "      <td>TSPAN6</td>\n",
       "      <td>CL:0000083</td>\n",
       "      <td>epithelial cell of pancreas</td>\n",
       "      <td>UBERON:0000104</td>\n",
       "      <td>life cycle</td>\n",
       "      <td>present</td>\n",
       "      <td>silver quality</td>\n",
       "      <td>6050</td>\n",
       "      <td>yes</td>\n",
       "      <td>...</td>\n",
       "      <td>0</td>\n",
       "      <td>0</td>\n",
       "      <td>0</td>\n",
       "      <td>no</td>\n",
       "      <td>no data</td>\n",
       "      <td>0</td>\n",
       "      <td>0</td>\n",
       "      <td>0</td>\n",
       "      <td>0</td>\n",
       "      <td>no</td>\n",
       "    </tr>\n",
       "    <tr>\n",
       "      <th>4</th>\n",
       "      <td>ENSG00000000003</td>\n",
       "      <td>TSPAN6</td>\n",
       "      <td>CL:0000115</td>\n",
       "      <td>endothelial cell</td>\n",
       "      <td>HsapDv:0000092</td>\n",
       "      <td>human middle aged stage (human)</td>\n",
       "      <td>present</td>\n",
       "      <td>silver quality</td>\n",
       "      <td>11800</td>\n",
       "      <td>yes</td>\n",
       "      <td>...</td>\n",
       "      <td>0</td>\n",
       "      <td>0</td>\n",
       "      <td>0</td>\n",
       "      <td>no</td>\n",
       "      <td>no data</td>\n",
       "      <td>0</td>\n",
       "      <td>0</td>\n",
       "      <td>0</td>\n",
       "      <td>0</td>\n",
       "      <td>no</td>\n",
       "    </tr>\n",
       "  </tbody>\n",
       "</table>\n",
       "<p>5 rows × 32 columns</p>\n",
       "</div>"
      ],
      "text/plain": [
       "           Gene ID Gene name Anatomical entity ID  \\\n",
       "0  ENSG00000000003    TSPAN6           CL:0000015   \n",
       "1  ENSG00000000003    TSPAN6           CL:0000019   \n",
       "2  ENSG00000000003    TSPAN6           CL:0000023   \n",
       "3  ENSG00000000003    TSPAN6           CL:0000083   \n",
       "4  ENSG00000000003    TSPAN6           CL:0000115   \n",
       "\n",
       "        Anatomical entity name Developmental stage ID  \\\n",
       "0               male germ cell         HsapDv:0000092   \n",
       "1                        sperm         HsapDv:0000088   \n",
       "2                       oocyte         HsapDv:0000087   \n",
       "3  epithelial cell of pancreas         UBERON:0000104   \n",
       "4             endothelial cell         HsapDv:0000092   \n",
       "\n",
       "              Developmental stage name Expression    Call quality  \\\n",
       "0      human middle aged stage (human)    present  silver quality   \n",
       "1  human early adulthood stage (human)    present  silver quality   \n",
       "2            human adult stage (human)     absent  silver quality   \n",
       "3                           life cycle    present  silver quality   \n",
       "4      human middle aged stage (human)    present  silver quality   \n",
       "\n",
       "  Expression rank Including observed data               ...                \\\n",
       "0            5940                     yes               ...                 \n",
       "1              23                     yes               ...                 \n",
       "2           20500                     yes               ...                 \n",
       "3            6050                     yes               ...                 \n",
       "4           11800                     yes               ...                 \n",
       "\n",
       "  In situ hybridization experiment count showing expression of this gene in this condition or in sub-conditions with a low quality  \\\n",
       "0                                                  0                                                                                 \n",
       "1                                                  0                                                                                 \n",
       "2                                                  0                                                                                 \n",
       "3                                                  0                                                                                 \n",
       "4                                                  0                                                                                 \n",
       "\n",
       "   In situ hybridization experiment count showing absence of expression of this gene in this condition or valid parent conditions with a high quality  \\\n",
       "0                                                  0                                                                                                    \n",
       "1                                                  0                                                                                                    \n",
       "2                                                  0                                                                                                    \n",
       "3                                                  0                                                                                                    \n",
       "4                                                  0                                                                                                    \n",
       "\n",
       "   In situ hybridization experiment count showing absence of expression of this gene in this condition or valid parent conditions with a low quality  \\\n",
       "0                                                  0                                                                                                   \n",
       "1                                                  0                                                                                                   \n",
       "2                                                  0                                                                                                   \n",
       "3                                                  0                                                                                                   \n",
       "4                                                  0                                                                                                   \n",
       "\n",
       "   Including in situ hybridization observed data  RNA-Seq data  \\\n",
       "0                                             no       no data   \n",
       "1                                             no       no data   \n",
       "2                                             no       no data   \n",
       "3                                             no       no data   \n",
       "4                                             no       no data   \n",
       "\n",
       "  RNA-Seq  experiment count showing expression of this gene in this condition or in sub-conditions with a high quality  \\\n",
       "0                                                  0                                                                     \n",
       "1                                                  0                                                                     \n",
       "2                                                  0                                                                     \n",
       "3                                                  0                                                                     \n",
       "4                                                  0                                                                     \n",
       "\n",
       "  RNA-Seq  experiment count showing expression of this gene in this condition or in sub-conditions with a low quality  \\\n",
       "0                                                  0                                                                    \n",
       "1                                                  0                                                                    \n",
       "2                                                  0                                                                    \n",
       "3                                                  0                                                                    \n",
       "4                                                  0                                                                    \n",
       "\n",
       "   RNA-Seq  experiment count showing absence of expression of this gene in this condition or valid parent conditions with a high quality  \\\n",
       "0                                                  0                                                                                       \n",
       "1                                                  0                                                                                       \n",
       "2                                                  0                                                                                       \n",
       "3                                                  0                                                                                       \n",
       "4                                                  0                                                                                       \n",
       "\n",
       "   RNA-Seq  experiment count showing absence of expression of this gene in this condition or valid parent conditions with a low quality  \\\n",
       "0                                                  0                                                                                      \n",
       "1                                                  0                                                                                      \n",
       "2                                                  0                                                                                      \n",
       "3                                                  0                                                                                      \n",
       "4                                                  0                                                                                      \n",
       "\n",
       "  Including RNA-Seq observed data  \n",
       "0                              no  \n",
       "1                              no  \n",
       "2                              no  \n",
       "3                              no  \n",
       "4                              no  \n",
       "\n",
       "[5 rows x 32 columns]"
      ]
     },
     "execution_count": 5,
     "metadata": {},
     "output_type": "execute_result"
    }
   ],
   "source": [
    "df.head()"
   ]
  },
  {
   "cell_type": "code",
   "execution_count": 6,
   "metadata": {},
   "outputs": [
    {
     "data": {
      "text/plain": [
       "(32962486, 32)"
      ]
     },
     "execution_count": 6,
     "metadata": {},
     "output_type": "execute_result"
    }
   ],
   "source": [
    "df.shape"
   ]
  },
  {
   "cell_type": "markdown",
   "metadata": {},
   "source": [
    "# Get relevant data"
   ]
  },
  {
   "cell_type": "code",
   "execution_count": 7,
   "metadata": {},
   "outputs": [],
   "source": [
    "df = df[['Gene name', 'Anatomical entity name', 'Developmental stage name', 'Expression', 'Call quality']]"
   ]
  },
  {
   "cell_type": "code",
   "execution_count": 8,
   "metadata": {},
   "outputs": [
    {
     "data": {
      "text/html": [
       "<div>\n",
       "<style scoped>\n",
       "    .dataframe tbody tr th:only-of-type {\n",
       "        vertical-align: middle;\n",
       "    }\n",
       "\n",
       "    .dataframe tbody tr th {\n",
       "        vertical-align: top;\n",
       "    }\n",
       "\n",
       "    .dataframe thead th {\n",
       "        text-align: right;\n",
       "    }\n",
       "</style>\n",
       "<table border=\"1\" class=\"dataframe\">\n",
       "  <thead>\n",
       "    <tr style=\"text-align: right;\">\n",
       "      <th></th>\n",
       "      <th>Gene name</th>\n",
       "      <th>Anatomical entity name</th>\n",
       "      <th>Developmental stage name</th>\n",
       "      <th>Expression</th>\n",
       "      <th>Call quality</th>\n",
       "    </tr>\n",
       "  </thead>\n",
       "  <tbody>\n",
       "    <tr>\n",
       "      <th>0</th>\n",
       "      <td>TSPAN6</td>\n",
       "      <td>male germ cell</td>\n",
       "      <td>human middle aged stage (human)</td>\n",
       "      <td>present</td>\n",
       "      <td>silver quality</td>\n",
       "    </tr>\n",
       "    <tr>\n",
       "      <th>1</th>\n",
       "      <td>TSPAN6</td>\n",
       "      <td>sperm</td>\n",
       "      <td>human early adulthood stage (human)</td>\n",
       "      <td>present</td>\n",
       "      <td>silver quality</td>\n",
       "    </tr>\n",
       "    <tr>\n",
       "      <th>2</th>\n",
       "      <td>TSPAN6</td>\n",
       "      <td>oocyte</td>\n",
       "      <td>human adult stage (human)</td>\n",
       "      <td>absent</td>\n",
       "      <td>silver quality</td>\n",
       "    </tr>\n",
       "    <tr>\n",
       "      <th>3</th>\n",
       "      <td>TSPAN6</td>\n",
       "      <td>epithelial cell of pancreas</td>\n",
       "      <td>life cycle</td>\n",
       "      <td>present</td>\n",
       "      <td>silver quality</td>\n",
       "    </tr>\n",
       "    <tr>\n",
       "      <th>4</th>\n",
       "      <td>TSPAN6</td>\n",
       "      <td>endothelial cell</td>\n",
       "      <td>human middle aged stage (human)</td>\n",
       "      <td>present</td>\n",
       "      <td>silver quality</td>\n",
       "    </tr>\n",
       "  </tbody>\n",
       "</table>\n",
       "</div>"
      ],
      "text/plain": [
       "  Gene name       Anatomical entity name             Developmental stage name  \\\n",
       "0    TSPAN6               male germ cell      human middle aged stage (human)   \n",
       "1    TSPAN6                        sperm  human early adulthood stage (human)   \n",
       "2    TSPAN6                       oocyte            human adult stage (human)   \n",
       "3    TSPAN6  epithelial cell of pancreas                           life cycle   \n",
       "4    TSPAN6             endothelial cell      human middle aged stage (human)   \n",
       "\n",
       "  Expression    Call quality  \n",
       "0    present  silver quality  \n",
       "1    present  silver quality  \n",
       "2     absent  silver quality  \n",
       "3    present  silver quality  \n",
       "4    present  silver quality  "
      ]
     },
     "execution_count": 8,
     "metadata": {},
     "output_type": "execute_result"
    }
   ],
   "source": [
    "df.head()"
   ]
  },
  {
   "cell_type": "code",
   "execution_count": 9,
   "metadata": {},
   "outputs": [],
   "source": [
    "df = df[df['Expression'] == 'present']"
   ]
  },
  {
   "cell_type": "code",
   "execution_count": 10,
   "metadata": {},
   "outputs": [],
   "source": [
    "df = df[['Gene name', 'Developmental stage name']]"
   ]
  },
  {
   "cell_type": "code",
   "execution_count": 11,
   "metadata": {},
   "outputs": [
    {
     "data": {
      "text/html": [
       "<div>\n",
       "<style scoped>\n",
       "    .dataframe tbody tr th:only-of-type {\n",
       "        vertical-align: middle;\n",
       "    }\n",
       "\n",
       "    .dataframe tbody tr th {\n",
       "        vertical-align: top;\n",
       "    }\n",
       "\n",
       "    .dataframe thead th {\n",
       "        text-align: right;\n",
       "    }\n",
       "</style>\n",
       "<table border=\"1\" class=\"dataframe\">\n",
       "  <thead>\n",
       "    <tr style=\"text-align: right;\">\n",
       "      <th></th>\n",
       "      <th>Gene name</th>\n",
       "      <th>Developmental stage name</th>\n",
       "    </tr>\n",
       "  </thead>\n",
       "  <tbody>\n",
       "    <tr>\n",
       "      <th>0</th>\n",
       "      <td>TSPAN6</td>\n",
       "      <td>human middle aged stage (human)</td>\n",
       "    </tr>\n",
       "    <tr>\n",
       "      <th>1</th>\n",
       "      <td>TSPAN6</td>\n",
       "      <td>human early adulthood stage (human)</td>\n",
       "    </tr>\n",
       "    <tr>\n",
       "      <th>3</th>\n",
       "      <td>TSPAN6</td>\n",
       "      <td>life cycle</td>\n",
       "    </tr>\n",
       "    <tr>\n",
       "      <th>4</th>\n",
       "      <td>TSPAN6</td>\n",
       "      <td>human middle aged stage (human)</td>\n",
       "    </tr>\n",
       "    <tr>\n",
       "      <th>7</th>\n",
       "      <td>TSPAN6</td>\n",
       "      <td>human middle aged stage (human)</td>\n",
       "    </tr>\n",
       "  </tbody>\n",
       "</table>\n",
       "</div>"
      ],
      "text/plain": [
       "  Gene name             Developmental stage name\n",
       "0    TSPAN6      human middle aged stage (human)\n",
       "1    TSPAN6  human early adulthood stage (human)\n",
       "3    TSPAN6                           life cycle\n",
       "4    TSPAN6      human middle aged stage (human)\n",
       "7    TSPAN6      human middle aged stage (human)"
      ]
     },
     "execution_count": 11,
     "metadata": {},
     "output_type": "execute_result"
    }
   ],
   "source": [
    "df.head()"
   ]
  },
  {
   "cell_type": "code",
   "execution_count": 12,
   "metadata": {},
   "outputs": [
    {
     "data": {
      "text/plain": [
       "(19631082, 2)"
      ]
     },
     "execution_count": 12,
     "metadata": {},
     "output_type": "execute_result"
    }
   ],
   "source": [
    "df.shape"
   ]
  },
  {
   "cell_type": "markdown",
   "metadata": {},
   "source": [
    "# Map Gene Symbols To Up-to-date Approved Gene Symbols"
   ]
  },
  {
   "cell_type": "code",
   "execution_count": 13,
   "metadata": {},
   "outputs": [],
   "source": [
    "df.set_index('Gene name', inplace=True)"
   ]
  },
  {
   "cell_type": "code",
   "execution_count": 14,
   "metadata": {},
   "outputs": [
    {
     "name": "stdout",
     "output_type": "stream",
     "text": [
      "Progeres: 100%  19631082 Out of 19631082   \r"
     ]
    }
   ],
   "source": [
    "uf.mapgenesymbols(df)"
   ]
  },
  {
   "cell_type": "markdown",
   "metadata": {},
   "source": [
    "# Drop Duplicates"
   ]
  },
  {
   "cell_type": "code",
   "execution_count": 16,
   "metadata": {},
   "outputs": [],
   "source": [
    "df.reset_index(inplace=True)"
   ]
  },
  {
   "cell_type": "code",
   "execution_count": 17,
   "metadata": {},
   "outputs": [],
   "source": [
    "df.drop_duplicates(inplace=True)"
   ]
  },
  {
   "cell_type": "code",
   "execution_count": 18,
   "metadata": {},
   "outputs": [
    {
     "data": {
      "text/html": [
       "<div>\n",
       "<style scoped>\n",
       "    .dataframe tbody tr th:only-of-type {\n",
       "        vertical-align: middle;\n",
       "    }\n",
       "\n",
       "    .dataframe tbody tr th {\n",
       "        vertical-align: top;\n",
       "    }\n",
       "\n",
       "    .dataframe thead th {\n",
       "        text-align: right;\n",
       "    }\n",
       "</style>\n",
       "<table border=\"1\" class=\"dataframe\">\n",
       "  <thead>\n",
       "    <tr style=\"text-align: right;\">\n",
       "      <th></th>\n",
       "      <th>Gene name</th>\n",
       "      <th>Developmental stage name</th>\n",
       "    </tr>\n",
       "  </thead>\n",
       "  <tbody>\n",
       "    <tr>\n",
       "      <th>0</th>\n",
       "      <td>TSPAN6</td>\n",
       "      <td>human middle aged stage (human)</td>\n",
       "    </tr>\n",
       "    <tr>\n",
       "      <th>1</th>\n",
       "      <td>TSPAN6</td>\n",
       "      <td>human early adulthood stage (human)</td>\n",
       "    </tr>\n",
       "    <tr>\n",
       "      <th>2</th>\n",
       "      <td>TSPAN6</td>\n",
       "      <td>life cycle</td>\n",
       "    </tr>\n",
       "    <tr>\n",
       "      <th>5</th>\n",
       "      <td>TSPAN6</td>\n",
       "      <td>young adult stage (human)</td>\n",
       "    </tr>\n",
       "    <tr>\n",
       "      <th>6</th>\n",
       "      <td>TSPAN6</td>\n",
       "      <td>25-44 year-old human stage (human)</td>\n",
       "    </tr>\n",
       "  </tbody>\n",
       "</table>\n",
       "</div>"
      ],
      "text/plain": [
       "  Gene name             Developmental stage name\n",
       "0    TSPAN6      human middle aged stage (human)\n",
       "1    TSPAN6  human early adulthood stage (human)\n",
       "2    TSPAN6                           life cycle\n",
       "5    TSPAN6            young adult stage (human)\n",
       "6    TSPAN6   25-44 year-old human stage (human)"
      ]
     },
     "execution_count": 18,
     "metadata": {},
     "output_type": "execute_result"
    }
   ],
   "source": [
    "df.head()"
   ]
  },
  {
   "cell_type": "code",
   "execution_count": 19,
   "metadata": {},
   "outputs": [
    {
     "data": {
      "text/plain": [
       "(603839, 2)"
      ]
     },
     "execution_count": 19,
     "metadata": {},
     "output_type": "execute_result"
    }
   ],
   "source": [
    "df.shape"
   ]
  },
  {
   "cell_type": "markdown",
   "metadata": {},
   "source": [
    "# Create Binary Matrix"
   ]
  },
  {
   "cell_type": "code",
   "execution_count": 20,
   "metadata": {},
   "outputs": [
    {
     "name": "stdout",
     "output_type": "stream",
     "text": [
      "Progeres: 100%  34668 Out of 34668   \r"
     ]
    }
   ],
   "source": [
    "binary_matrix = uf.createBinaryMatrix(df)"
   ]
  },
  {
   "cell_type": "code",
   "execution_count": 21,
   "metadata": {},
   "outputs": [
    {
     "data": {
      "text/html": [
       "<div>\n",
       "<style scoped>\n",
       "    .dataframe tbody tr th:only-of-type {\n",
       "        vertical-align: middle;\n",
       "    }\n",
       "\n",
       "    .dataframe tbody tr th {\n",
       "        vertical-align: top;\n",
       "    }\n",
       "\n",
       "    .dataframe thead th {\n",
       "        text-align: right;\n",
       "    }\n",
       "</style>\n",
       "<table border=\"1\" class=\"dataframe\">\n",
       "  <thead>\n",
       "    <tr style=\"text-align: right;\">\n",
       "      <th></th>\n",
       "      <th>CS17</th>\n",
       "      <th>65-79 year-old human stage (human)</th>\n",
       "      <th>sixth LMP month human stage (human)</th>\n",
       "      <th>juvenile stage</th>\n",
       "      <th>human aged stage</th>\n",
       "      <th>human middle aged stage (human)</th>\n",
       "      <th>2-5 year-old child stage (human)</th>\n",
       "      <th>38th week post-fertilization and over human stage (human)</th>\n",
       "      <th>6-12 year-old child stage (human)</th>\n",
       "      <th>Carnegie stage 10 (human)</th>\n",
       "      <th>...</th>\n",
       "      <th>CS09</th>\n",
       "      <th>infant stage</th>\n",
       "      <th>ninth LMP month human stage (human)</th>\n",
       "      <th>adolescent stage (human)</th>\n",
       "      <th>Carnegie stage 12 (human)</th>\n",
       "      <th>Carnegie stage 14 (human)</th>\n",
       "      <th>80 year-old and over human stage (human)</th>\n",
       "      <th>fifth LMP month human stage (human)</th>\n",
       "      <th>young adult stage (human)</th>\n",
       "      <th>CS11</th>\n",
       "    </tr>\n",
       "  </thead>\n",
       "  <tbody>\n",
       "    <tr>\n",
       "      <th>IGLV3-17</th>\n",
       "      <td>0.0</td>\n",
       "      <td>1.0</td>\n",
       "      <td>0.0</td>\n",
       "      <td>0.0</td>\n",
       "      <td>0.0</td>\n",
       "      <td>1.0</td>\n",
       "      <td>0.0</td>\n",
       "      <td>0.0</td>\n",
       "      <td>0.0</td>\n",
       "      <td>0.0</td>\n",
       "      <td>...</td>\n",
       "      <td>0.0</td>\n",
       "      <td>0.0</td>\n",
       "      <td>0.0</td>\n",
       "      <td>0.0</td>\n",
       "      <td>0.0</td>\n",
       "      <td>0.0</td>\n",
       "      <td>1.0</td>\n",
       "      <td>0.0</td>\n",
       "      <td>0.0</td>\n",
       "      <td>0.0</td>\n",
       "    </tr>\n",
       "    <tr>\n",
       "      <th>EMC4</th>\n",
       "      <td>0.0</td>\n",
       "      <td>1.0</td>\n",
       "      <td>1.0</td>\n",
       "      <td>1.0</td>\n",
       "      <td>1.0</td>\n",
       "      <td>1.0</td>\n",
       "      <td>1.0</td>\n",
       "      <td>1.0</td>\n",
       "      <td>1.0</td>\n",
       "      <td>0.0</td>\n",
       "      <td>...</td>\n",
       "      <td>0.0</td>\n",
       "      <td>1.0</td>\n",
       "      <td>1.0</td>\n",
       "      <td>1.0</td>\n",
       "      <td>0.0</td>\n",
       "      <td>0.0</td>\n",
       "      <td>1.0</td>\n",
       "      <td>1.0</td>\n",
       "      <td>1.0</td>\n",
       "      <td>0.0</td>\n",
       "    </tr>\n",
       "    <tr>\n",
       "      <th>CRISP2</th>\n",
       "      <td>0.0</td>\n",
       "      <td>1.0</td>\n",
       "      <td>0.0</td>\n",
       "      <td>1.0</td>\n",
       "      <td>1.0</td>\n",
       "      <td>1.0</td>\n",
       "      <td>1.0</td>\n",
       "      <td>0.0</td>\n",
       "      <td>1.0</td>\n",
       "      <td>0.0</td>\n",
       "      <td>...</td>\n",
       "      <td>0.0</td>\n",
       "      <td>1.0</td>\n",
       "      <td>0.0</td>\n",
       "      <td>1.0</td>\n",
       "      <td>0.0</td>\n",
       "      <td>0.0</td>\n",
       "      <td>1.0</td>\n",
       "      <td>1.0</td>\n",
       "      <td>1.0</td>\n",
       "      <td>0.0</td>\n",
       "    </tr>\n",
       "    <tr>\n",
       "      <th>ODC1</th>\n",
       "      <td>0.0</td>\n",
       "      <td>1.0</td>\n",
       "      <td>1.0</td>\n",
       "      <td>1.0</td>\n",
       "      <td>1.0</td>\n",
       "      <td>1.0</td>\n",
       "      <td>1.0</td>\n",
       "      <td>1.0</td>\n",
       "      <td>1.0</td>\n",
       "      <td>1.0</td>\n",
       "      <td>...</td>\n",
       "      <td>1.0</td>\n",
       "      <td>1.0</td>\n",
       "      <td>1.0</td>\n",
       "      <td>1.0</td>\n",
       "      <td>1.0</td>\n",
       "      <td>1.0</td>\n",
       "      <td>1.0</td>\n",
       "      <td>1.0</td>\n",
       "      <td>1.0</td>\n",
       "      <td>1.0</td>\n",
       "    </tr>\n",
       "    <tr>\n",
       "      <th>NAT16</th>\n",
       "      <td>0.0</td>\n",
       "      <td>1.0</td>\n",
       "      <td>0.0</td>\n",
       "      <td>1.0</td>\n",
       "      <td>1.0</td>\n",
       "      <td>1.0</td>\n",
       "      <td>0.0</td>\n",
       "      <td>1.0</td>\n",
       "      <td>1.0</td>\n",
       "      <td>0.0</td>\n",
       "      <td>...</td>\n",
       "      <td>0.0</td>\n",
       "      <td>1.0</td>\n",
       "      <td>0.0</td>\n",
       "      <td>1.0</td>\n",
       "      <td>0.0</td>\n",
       "      <td>0.0</td>\n",
       "      <td>1.0</td>\n",
       "      <td>1.0</td>\n",
       "      <td>1.0</td>\n",
       "      <td>0.0</td>\n",
       "    </tr>\n",
       "  </tbody>\n",
       "</table>\n",
       "<p>5 rows × 33 columns</p>\n",
       "</div>"
      ],
      "text/plain": [
       "          CS17  65-79 year-old human stage (human)  \\\n",
       "IGLV3-17   0.0                                 1.0   \n",
       "EMC4       0.0                                 1.0   \n",
       "CRISP2     0.0                                 1.0   \n",
       "ODC1       0.0                                 1.0   \n",
       "NAT16      0.0                                 1.0   \n",
       "\n",
       "          sixth LMP month human stage (human)  juvenile stage  \\\n",
       "IGLV3-17                                  0.0             0.0   \n",
       "EMC4                                      1.0             1.0   \n",
       "CRISP2                                    0.0             1.0   \n",
       "ODC1                                      1.0             1.0   \n",
       "NAT16                                     0.0             1.0   \n",
       "\n",
       "          human aged stage  human middle aged stage (human)  \\\n",
       "IGLV3-17               0.0                              1.0   \n",
       "EMC4                   1.0                              1.0   \n",
       "CRISP2                 1.0                              1.0   \n",
       "ODC1                   1.0                              1.0   \n",
       "NAT16                  1.0                              1.0   \n",
       "\n",
       "          2-5 year-old child stage (human)  \\\n",
       "IGLV3-17                               0.0   \n",
       "EMC4                                   1.0   \n",
       "CRISP2                                 1.0   \n",
       "ODC1                                   1.0   \n",
       "NAT16                                  0.0   \n",
       "\n",
       "          38th week post-fertilization and over human stage (human)  \\\n",
       "IGLV3-17                                                0.0           \n",
       "EMC4                                                    1.0           \n",
       "CRISP2                                                  0.0           \n",
       "ODC1                                                    1.0           \n",
       "NAT16                                                   1.0           \n",
       "\n",
       "          6-12 year-old child stage (human)  Carnegie stage 10 (human)  ...   \\\n",
       "IGLV3-17                                0.0                        0.0  ...    \n",
       "EMC4                                    1.0                        0.0  ...    \n",
       "CRISP2                                  1.0                        0.0  ...    \n",
       "ODC1                                    1.0                        1.0  ...    \n",
       "NAT16                                   1.0                        0.0  ...    \n",
       "\n",
       "          CS09  infant stage  ninth LMP month human stage (human)  \\\n",
       "IGLV3-17   0.0           0.0                                  0.0   \n",
       "EMC4       0.0           1.0                                  1.0   \n",
       "CRISP2     0.0           1.0                                  0.0   \n",
       "ODC1       1.0           1.0                                  1.0   \n",
       "NAT16      0.0           1.0                                  0.0   \n",
       "\n",
       "          adolescent stage (human)  Carnegie stage 12 (human)  \\\n",
       "IGLV3-17                       0.0                        0.0   \n",
       "EMC4                           1.0                        0.0   \n",
       "CRISP2                         1.0                        0.0   \n",
       "ODC1                           1.0                        1.0   \n",
       "NAT16                          1.0                        0.0   \n",
       "\n",
       "          Carnegie stage 14 (human)  80 year-old and over human stage (human)  \\\n",
       "IGLV3-17                        0.0                                       1.0   \n",
       "EMC4                            0.0                                       1.0   \n",
       "CRISP2                          0.0                                       1.0   \n",
       "ODC1                            1.0                                       1.0   \n",
       "NAT16                           0.0                                       1.0   \n",
       "\n",
       "          fifth LMP month human stage (human)  young adult stage (human)  CS11  \n",
       "IGLV3-17                                  0.0                        0.0   0.0  \n",
       "EMC4                                      1.0                        1.0   0.0  \n",
       "CRISP2                                    1.0                        1.0   0.0  \n",
       "ODC1                                      1.0                        1.0   1.0  \n",
       "NAT16                                     1.0                        1.0   0.0  \n",
       "\n",
       "[5 rows x 33 columns]"
      ]
     },
     "execution_count": 21,
     "metadata": {},
     "output_type": "execute_result"
    }
   ],
   "source": [
    "binary_matrix.head()"
   ]
  },
  {
   "cell_type": "code",
   "execution_count": 22,
   "metadata": {},
   "outputs": [
    {
     "data": {
      "text/plain": [
       "(34668, 33)"
      ]
     },
     "execution_count": 22,
     "metadata": {},
     "output_type": "execute_result"
    }
   ],
   "source": [
    "binary_matrix.shape"
   ]
  },
  {
   "cell_type": "markdown",
   "metadata": {},
   "source": [
    "# Save Binary Matrix"
   ]
  },
  {
   "cell_type": "code",
   "execution_count": 23,
   "metadata": {},
   "outputs": [],
   "source": [
    "filename = path+'bgee_human_developmental_matrix_%s.tsv.zip'% str(datetime.date.today())[0:7].replace('-', '_')\n",
    "binary_matrix.to_csv(filename, sep='\\t', compression='gzip')"
   ]
  },
  {
   "cell_type": "markdown",
   "metadata": {},
   "source": [
    "# Create Gene Set Library"
   ]
  },
  {
   "cell_type": "code",
   "execution_count": 24,
   "metadata": {},
   "outputs": [],
   "source": [
    "name = 'bgee_human_developmental_gene_set'"
   ]
  },
  {
   "cell_type": "code",
   "execution_count": 25,
   "metadata": {},
   "outputs": [
    {
     "name": "stdout",
     "output_type": "stream",
     "text": [
      "Progeres: 100%  33 Out of 33   \r"
     ]
    }
   ],
   "source": [
    "uf.createUpGeneSetLib(binary_matrix, path, name)"
   ]
  },
  {
   "cell_type": "markdown",
   "metadata": {},
   "source": [
    "# Create Attribute Library"
   ]
  },
  {
   "cell_type": "code",
   "execution_count": 26,
   "metadata": {},
   "outputs": [],
   "source": [
    "name = 'bgee_human_developmental_attribute_set'"
   ]
  },
  {
   "cell_type": "code",
   "execution_count": 27,
   "metadata": {},
   "outputs": [
    {
     "name": "stdout",
     "output_type": "stream",
     "text": [
      "Progeres: 100%  34668 Out of 34668   \r"
     ]
    }
   ],
   "source": [
    "uf.createUpAttributeSetLib(binary_matrix, path, name)"
   ]
  },
  {
   "cell_type": "markdown",
   "metadata": {},
   "source": [
    "# Create Gene List"
   ]
  },
  {
   "cell_type": "code",
   "execution_count": 28,
   "metadata": {},
   "outputs": [
    {
     "name": "stdout",
     "output_type": "stream",
     "text": [
      "Progeres: 100%  34668 Out of 34668   \r"
     ]
    }
   ],
   "source": [
    "gene_list = uf.createGeneList(binary_matrix)"
   ]
  },
  {
   "cell_type": "code",
   "execution_count": 29,
   "metadata": {},
   "outputs": [
    {
     "data": {
      "text/html": [
       "<div>\n",
       "<style scoped>\n",
       "    .dataframe tbody tr th:only-of-type {\n",
       "        vertical-align: middle;\n",
       "    }\n",
       "\n",
       "    .dataframe tbody tr th {\n",
       "        vertical-align: top;\n",
       "    }\n",
       "\n",
       "    .dataframe thead th {\n",
       "        text-align: right;\n",
       "    }\n",
       "</style>\n",
       "<table border=\"1\" class=\"dataframe\">\n",
       "  <thead>\n",
       "    <tr style=\"text-align: right;\">\n",
       "      <th></th>\n",
       "      <th>GeneSym</th>\n",
       "      <th>GeneID</th>\n",
       "    </tr>\n",
       "  </thead>\n",
       "  <tbody>\n",
       "    <tr>\n",
       "      <th>0</th>\n",
       "      <td>IGLV3-17</td>\n",
       "      <td>28798</td>\n",
       "    </tr>\n",
       "    <tr>\n",
       "      <th>1</th>\n",
       "      <td>EMC4</td>\n",
       "      <td>51234</td>\n",
       "    </tr>\n",
       "    <tr>\n",
       "      <th>2</th>\n",
       "      <td>CRISP2</td>\n",
       "      <td>7180</td>\n",
       "    </tr>\n",
       "    <tr>\n",
       "      <th>3</th>\n",
       "      <td>ODC1</td>\n",
       "      <td>4953</td>\n",
       "    </tr>\n",
       "    <tr>\n",
       "      <th>4</th>\n",
       "      <td>NAT16</td>\n",
       "      <td>375607</td>\n",
       "    </tr>\n",
       "  </tbody>\n",
       "</table>\n",
       "</div>"
      ],
      "text/plain": [
       "    GeneSym  GeneID\n",
       "0  IGLV3-17   28798\n",
       "1      EMC4   51234\n",
       "2    CRISP2    7180\n",
       "3      ODC1    4953\n",
       "4     NAT16  375607"
      ]
     },
     "execution_count": 29,
     "metadata": {},
     "output_type": "execute_result"
    }
   ],
   "source": [
    "gene_list.head()"
   ]
  },
  {
   "cell_type": "code",
   "execution_count": 30,
   "metadata": {},
   "outputs": [
    {
     "data": {
      "text/plain": [
       "(34668, 2)"
      ]
     },
     "execution_count": 30,
     "metadata": {},
     "output_type": "execute_result"
    }
   ],
   "source": [
    "gene_list.shape"
   ]
  },
  {
   "cell_type": "markdown",
   "metadata": {},
   "source": [
    "# Save Gene List"
   ]
  },
  {
   "cell_type": "code",
   "execution_count": 31,
   "metadata": {},
   "outputs": [],
   "source": [
    "filename = path+'bgee_human_developmental_gene_list_%s.tsv.zip'% str(datetime.date.today())[0:7].replace('-', '_')\n",
    "gene_list.to_csv(filename, sep='\\t', index=False, compression='gzip')"
   ]
  },
  {
   "cell_type": "markdown",
   "metadata": {},
   "source": [
    "# Create Attribute List"
   ]
  },
  {
   "cell_type": "code",
   "execution_count": 32,
   "metadata": {},
   "outputs": [],
   "source": [
    "attribute_list = uf.createAttributeList(binary_matrix)"
   ]
  },
  {
   "cell_type": "code",
   "execution_count": 33,
   "metadata": {},
   "outputs": [
    {
     "data": {
      "text/html": [
       "<div>\n",
       "<style scoped>\n",
       "    .dataframe tbody tr th:only-of-type {\n",
       "        vertical-align: middle;\n",
       "    }\n",
       "\n",
       "    .dataframe tbody tr th {\n",
       "        vertical-align: top;\n",
       "    }\n",
       "\n",
       "    .dataframe thead th {\n",
       "        text-align: right;\n",
       "    }\n",
       "</style>\n",
       "<table border=\"1\" class=\"dataframe\">\n",
       "  <thead>\n",
       "    <tr style=\"text-align: right;\">\n",
       "      <th></th>\n",
       "    </tr>\n",
       "    <tr>\n",
       "      <th>Attributes</th>\n",
       "    </tr>\n",
       "  </thead>\n",
       "  <tbody>\n",
       "    <tr>\n",
       "      <th>CS17</th>\n",
       "    </tr>\n",
       "    <tr>\n",
       "      <th>65-79 year-old human stage (human)</th>\n",
       "    </tr>\n",
       "    <tr>\n",
       "      <th>sixth LMP month human stage (human)</th>\n",
       "    </tr>\n",
       "    <tr>\n",
       "      <th>juvenile stage</th>\n",
       "    </tr>\n",
       "    <tr>\n",
       "      <th>human aged stage</th>\n",
       "    </tr>\n",
       "  </tbody>\n",
       "</table>\n",
       "</div>"
      ],
      "text/plain": [
       "Empty DataFrame\n",
       "Columns: []\n",
       "Index: [CS17, 65-79 year-old human stage (human), sixth LMP month human stage (human), juvenile stage, human aged stage]"
      ]
     },
     "execution_count": 33,
     "metadata": {},
     "output_type": "execute_result"
    }
   ],
   "source": [
    "attribute_list.head()"
   ]
  },
  {
   "cell_type": "code",
   "execution_count": 34,
   "metadata": {},
   "outputs": [
    {
     "data": {
      "text/plain": [
       "(33, 0)"
      ]
     },
     "execution_count": 34,
     "metadata": {},
     "output_type": "execute_result"
    }
   ],
   "source": [
    "attribute_list.shape"
   ]
  },
  {
   "cell_type": "markdown",
   "metadata": {},
   "source": [
    "# Save Attribute List"
   ]
  },
  {
   "cell_type": "code",
   "execution_count": 35,
   "metadata": {},
   "outputs": [],
   "source": [
    "filename = path+'bgee_human_developmental_attribute_list_%s.tsv.zip'% str(datetime.date.today())[0:7].replace('-', '_')\n",
    "attribute_list.to_csv(filename, sep='\\t', index=False, compression='gzip')"
   ]
  },
  {
   "cell_type": "markdown",
   "metadata": {},
   "source": [
    "# Create Attribute Similarity matrix"
   ]
  },
  {
   "cell_type": "code",
   "execution_count": 36,
   "metadata": {},
   "outputs": [],
   "source": [
    "attribute_similarity_matix = uf.createSimilarityMatrix(binary_matrix.T, 'jaccard')"
   ]
  },
  {
   "cell_type": "code",
   "execution_count": 37,
   "metadata": {},
   "outputs": [
    {
     "data": {
      "text/html": [
       "<div>\n",
       "<style scoped>\n",
       "    .dataframe tbody tr th:only-of-type {\n",
       "        vertical-align: middle;\n",
       "    }\n",
       "\n",
       "    .dataframe tbody tr th {\n",
       "        vertical-align: top;\n",
       "    }\n",
       "\n",
       "    .dataframe thead th {\n",
       "        text-align: right;\n",
       "    }\n",
       "</style>\n",
       "<table border=\"1\" class=\"dataframe\">\n",
       "  <thead>\n",
       "    <tr style=\"text-align: right;\">\n",
       "      <th></th>\n",
       "      <th>CS17</th>\n",
       "      <th>65-79 year-old human stage (human)</th>\n",
       "      <th>sixth LMP month human stage (human)</th>\n",
       "      <th>juvenile stage</th>\n",
       "      <th>human aged stage</th>\n",
       "      <th>human middle aged stage (human)</th>\n",
       "      <th>2-5 year-old child stage (human)</th>\n",
       "      <th>38th week post-fertilization and over human stage (human)</th>\n",
       "      <th>6-12 year-old child stage (human)</th>\n",
       "      <th>Carnegie stage 10 (human)</th>\n",
       "      <th>...</th>\n",
       "      <th>CS09</th>\n",
       "      <th>infant stage</th>\n",
       "      <th>ninth LMP month human stage (human)</th>\n",
       "      <th>adolescent stage (human)</th>\n",
       "      <th>Carnegie stage 12 (human)</th>\n",
       "      <th>Carnegie stage 14 (human)</th>\n",
       "      <th>80 year-old and over human stage (human)</th>\n",
       "      <th>fifth LMP month human stage (human)</th>\n",
       "      <th>young adult stage (human)</th>\n",
       "      <th>CS11</th>\n",
       "    </tr>\n",
       "    <tr>\n",
       "      <th></th>\n",
       "      <th></th>\n",
       "      <th></th>\n",
       "      <th></th>\n",
       "      <th></th>\n",
       "      <th></th>\n",
       "      <th></th>\n",
       "      <th></th>\n",
       "      <th></th>\n",
       "      <th></th>\n",
       "      <th></th>\n",
       "      <th></th>\n",
       "      <th></th>\n",
       "      <th></th>\n",
       "      <th></th>\n",
       "      <th></th>\n",
       "      <th></th>\n",
       "      <th></th>\n",
       "      <th></th>\n",
       "      <th></th>\n",
       "      <th></th>\n",
       "      <th></th>\n",
       "    </tr>\n",
       "  </thead>\n",
       "  <tbody>\n",
       "    <tr>\n",
       "      <th>CS17</th>\n",
       "      <td>1.000000</td>\n",
       "      <td>0.000194</td>\n",
       "      <td>0.000237</td>\n",
       "      <td>0.000268</td>\n",
       "      <td>0.000341</td>\n",
       "      <td>0.000177</td>\n",
       "      <td>0.000242</td>\n",
       "      <td>0.000235</td>\n",
       "      <td>0.000247</td>\n",
       "      <td>0.000467</td>\n",
       "      <td>...</td>\n",
       "      <td>0.000479</td>\n",
       "      <td>0.000265</td>\n",
       "      <td>0.000242</td>\n",
       "      <td>0.000228</td>\n",
       "      <td>0.000502</td>\n",
       "      <td>0.000470</td>\n",
       "      <td>0.000206</td>\n",
       "      <td>0.000229</td>\n",
       "      <td>0.000188</td>\n",
       "      <td>0.000487</td>\n",
       "    </tr>\n",
       "    <tr>\n",
       "      <th>65-79 year-old human stage (human)</th>\n",
       "      <td>0.000194</td>\n",
       "      <td>1.000000</td>\n",
       "      <td>0.273384</td>\n",
       "      <td>0.482550</td>\n",
       "      <td>0.475242</td>\n",
       "      <td>0.909633</td>\n",
       "      <td>0.656132</td>\n",
       "      <td>0.413572</td>\n",
       "      <td>0.646233</td>\n",
       "      <td>0.208155</td>\n",
       "      <td>...</td>\n",
       "      <td>0.202714</td>\n",
       "      <td>0.609560</td>\n",
       "      <td>0.401885</td>\n",
       "      <td>0.690280</td>\n",
       "      <td>0.193516</td>\n",
       "      <td>0.206503</td>\n",
       "      <td>0.775402</td>\n",
       "      <td>0.802237</td>\n",
       "      <td>0.829965</td>\n",
       "      <td>0.199411</td>\n",
       "    </tr>\n",
       "    <tr>\n",
       "      <th>sixth LMP month human stage (human)</th>\n",
       "      <td>0.000237</td>\n",
       "      <td>0.273384</td>\n",
       "      <td>1.000000</td>\n",
       "      <td>0.549144</td>\n",
       "      <td>0.566222</td>\n",
       "      <td>0.249667</td>\n",
       "      <td>0.407094</td>\n",
       "      <td>0.602567</td>\n",
       "      <td>0.415458</td>\n",
       "      <td>0.566702</td>\n",
       "      <td>...</td>\n",
       "      <td>0.555556</td>\n",
       "      <td>0.446004</td>\n",
       "      <td>0.620291</td>\n",
       "      <td>0.382940</td>\n",
       "      <td>0.560004</td>\n",
       "      <td>0.580817</td>\n",
       "      <td>0.347609</td>\n",
       "      <td>0.322742</td>\n",
       "      <td>0.318168</td>\n",
       "      <td>0.561617</td>\n",
       "    </tr>\n",
       "    <tr>\n",
       "      <th>juvenile stage</th>\n",
       "      <td>0.000268</td>\n",
       "      <td>0.482550</td>\n",
       "      <td>0.549144</td>\n",
       "      <td>1.000000</td>\n",
       "      <td>0.840027</td>\n",
       "      <td>0.441214</td>\n",
       "      <td>0.686590</td>\n",
       "      <td>0.807281</td>\n",
       "      <td>0.708920</td>\n",
       "      <td>0.426452</td>\n",
       "      <td>...</td>\n",
       "      <td>0.415319</td>\n",
       "      <td>0.750609</td>\n",
       "      <td>0.793923</td>\n",
       "      <td>0.644717</td>\n",
       "      <td>0.397178</td>\n",
       "      <td>0.421239</td>\n",
       "      <td>0.604038</td>\n",
       "      <td>0.558849</td>\n",
       "      <td>0.558041</td>\n",
       "      <td>0.409067</td>\n",
       "    </tr>\n",
       "    <tr>\n",
       "      <th>human aged stage</th>\n",
       "      <td>0.000341</td>\n",
       "      <td>0.475242</td>\n",
       "      <td>0.566222</td>\n",
       "      <td>0.840027</td>\n",
       "      <td>1.000000</td>\n",
       "      <td>0.434102</td>\n",
       "      <td>0.674379</td>\n",
       "      <td>0.796494</td>\n",
       "      <td>0.685922</td>\n",
       "      <td>0.432401</td>\n",
       "      <td>...</td>\n",
       "      <td>0.421288</td>\n",
       "      <td>0.744551</td>\n",
       "      <td>0.805611</td>\n",
       "      <td>0.641600</td>\n",
       "      <td>0.402866</td>\n",
       "      <td>0.428940</td>\n",
       "      <td>0.598637</td>\n",
       "      <td>0.551368</td>\n",
       "      <td>0.551389</td>\n",
       "      <td>0.414652</td>\n",
       "    </tr>\n",
       "  </tbody>\n",
       "</table>\n",
       "<p>5 rows × 33 columns</p>\n",
       "</div>"
      ],
      "text/plain": [
       "                                         CS17  \\\n",
       "                                                \n",
       "CS17                                 1.000000   \n",
       "65-79 year-old human stage (human)   0.000194   \n",
       "sixth LMP month human stage (human)  0.000237   \n",
       "juvenile stage                       0.000268   \n",
       "human aged stage                     0.000341   \n",
       "\n",
       "                                     65-79 year-old human stage (human)  \\\n",
       "                                                                          \n",
       "CS17                                                           0.000194   \n",
       "65-79 year-old human stage (human)                             1.000000   \n",
       "sixth LMP month human stage (human)                            0.273384   \n",
       "juvenile stage                                                 0.482550   \n",
       "human aged stage                                               0.475242   \n",
       "\n",
       "                                     sixth LMP month human stage (human)  \\\n",
       "                                                                           \n",
       "CS17                                                            0.000237   \n",
       "65-79 year-old human stage (human)                              0.273384   \n",
       "sixth LMP month human stage (human)                             1.000000   \n",
       "juvenile stage                                                  0.549144   \n",
       "human aged stage                                                0.566222   \n",
       "\n",
       "                                     juvenile stage  human aged stage  \\\n",
       "                                                                        \n",
       "CS17                                       0.000268          0.000341   \n",
       "65-79 year-old human stage (human)         0.482550          0.475242   \n",
       "sixth LMP month human stage (human)        0.549144          0.566222   \n",
       "juvenile stage                             1.000000          0.840027   \n",
       "human aged stage                           0.840027          1.000000   \n",
       "\n",
       "                                     human middle aged stage (human)  \\\n",
       "                                                                       \n",
       "CS17                                                        0.000177   \n",
       "65-79 year-old human stage (human)                          0.909633   \n",
       "sixth LMP month human stage (human)                         0.249667   \n",
       "juvenile stage                                              0.441214   \n",
       "human aged stage                                            0.434102   \n",
       "\n",
       "                                     2-5 year-old child stage (human)  \\\n",
       "                                                                        \n",
       "CS17                                                         0.000242   \n",
       "65-79 year-old human stage (human)                           0.656132   \n",
       "sixth LMP month human stage (human)                          0.407094   \n",
       "juvenile stage                                               0.686590   \n",
       "human aged stage                                             0.674379   \n",
       "\n",
       "                                     38th week post-fertilization and over human stage (human)  \\\n",
       "                                                                                                 \n",
       "CS17                                                                          0.000235           \n",
       "65-79 year-old human stage (human)                                            0.413572           \n",
       "sixth LMP month human stage (human)                                           0.602567           \n",
       "juvenile stage                                                                0.807281           \n",
       "human aged stage                                                              0.796494           \n",
       "\n",
       "                                     6-12 year-old child stage (human)  \\\n",
       "                                                                         \n",
       "CS17                                                          0.000247   \n",
       "65-79 year-old human stage (human)                            0.646233   \n",
       "sixth LMP month human stage (human)                           0.415458   \n",
       "juvenile stage                                                0.708920   \n",
       "human aged stage                                              0.685922   \n",
       "\n",
       "                                     Carnegie stage 10 (human)    ...     \\\n",
       "                                                                  ...      \n",
       "CS17                                                  0.000467    ...      \n",
       "65-79 year-old human stage (human)                    0.208155    ...      \n",
       "sixth LMP month human stage (human)                   0.566702    ...      \n",
       "juvenile stage                                        0.426452    ...      \n",
       "human aged stage                                      0.432401    ...      \n",
       "\n",
       "                                         CS09  infant stage  \\\n",
       "                                                              \n",
       "CS17                                 0.000479      0.000265   \n",
       "65-79 year-old human stage (human)   0.202714      0.609560   \n",
       "sixth LMP month human stage (human)  0.555556      0.446004   \n",
       "juvenile stage                       0.415319      0.750609   \n",
       "human aged stage                     0.421288      0.744551   \n",
       "\n",
       "                                     ninth LMP month human stage (human)  \\\n",
       "                                                                           \n",
       "CS17                                                            0.000242   \n",
       "65-79 year-old human stage (human)                              0.401885   \n",
       "sixth LMP month human stage (human)                             0.620291   \n",
       "juvenile stage                                                  0.793923   \n",
       "human aged stage                                                0.805611   \n",
       "\n",
       "                                     adolescent stage (human)  \\\n",
       "                                                                \n",
       "CS17                                                 0.000228   \n",
       "65-79 year-old human stage (human)                   0.690280   \n",
       "sixth LMP month human stage (human)                  0.382940   \n",
       "juvenile stage                                       0.644717   \n",
       "human aged stage                                     0.641600   \n",
       "\n",
       "                                     Carnegie stage 12 (human)  \\\n",
       "                                                                 \n",
       "CS17                                                  0.000502   \n",
       "65-79 year-old human stage (human)                    0.193516   \n",
       "sixth LMP month human stage (human)                   0.560004   \n",
       "juvenile stage                                        0.397178   \n",
       "human aged stage                                      0.402866   \n",
       "\n",
       "                                     Carnegie stage 14 (human)  \\\n",
       "                                                                 \n",
       "CS17                                                  0.000470   \n",
       "65-79 year-old human stage (human)                    0.206503   \n",
       "sixth LMP month human stage (human)                   0.580817   \n",
       "juvenile stage                                        0.421239   \n",
       "human aged stage                                      0.428940   \n",
       "\n",
       "                                     80 year-old and over human stage (human)  \\\n",
       "                                                                                \n",
       "CS17                                                                 0.000206   \n",
       "65-79 year-old human stage (human)                                   0.775402   \n",
       "sixth LMP month human stage (human)                                  0.347609   \n",
       "juvenile stage                                                       0.604038   \n",
       "human aged stage                                                     0.598637   \n",
       "\n",
       "                                     fifth LMP month human stage (human)  \\\n",
       "                                                                           \n",
       "CS17                                                            0.000229   \n",
       "65-79 year-old human stage (human)                              0.802237   \n",
       "sixth LMP month human stage (human)                             0.322742   \n",
       "juvenile stage                                                  0.558849   \n",
       "human aged stage                                                0.551368   \n",
       "\n",
       "                                     young adult stage (human)      CS11  \n",
       "                                                                          \n",
       "CS17                                                  0.000188  0.000487  \n",
       "65-79 year-old human stage (human)                    0.829965  0.199411  \n",
       "sixth LMP month human stage (human)                   0.318168  0.561617  \n",
       "juvenile stage                                        0.558041  0.409067  \n",
       "human aged stage                                      0.551389  0.414652  \n",
       "\n",
       "[5 rows x 33 columns]"
      ]
     },
     "execution_count": 37,
     "metadata": {},
     "output_type": "execute_result"
    }
   ],
   "source": [
    "attribute_similarity_matix.head()"
   ]
  },
  {
   "cell_type": "code",
   "execution_count": 39,
   "metadata": {},
   "outputs": [
    {
     "data": {
      "text/plain": [
       "(33, 33)"
      ]
     },
     "execution_count": 39,
     "metadata": {},
     "output_type": "execute_result"
    }
   ],
   "source": [
    "attribute_similarity_matix.shape"
   ]
  },
  {
   "cell_type": "markdown",
   "metadata": {},
   "source": [
    "# Save Attribute Similarity Matrix"
   ]
  },
  {
   "cell_type": "code",
   "execution_count": 38,
   "metadata": {},
   "outputs": [],
   "source": [
    "filename = path+'bgee_human_developmental_attribute_similarity_matix_%s.tsv.zip'% str(datetime.date.today())[0:7].replace('-', '_')\n",
    "attribute_similarity_matix.to_csv(filename, sep='\\t', compression='gzip')"
   ]
  },
  {
   "cell_type": "markdown",
   "metadata": {},
   "source": [
    "# Create Gene Similarity Matrix"
   ]
  },
  {
   "cell_type": "code",
   "execution_count": 42,
   "metadata": {},
   "outputs": [],
   "source": [
    "gene_similarity_matix = uf.createSimilarityMatrix(binary_matrix, 'jaccard')"
   ]
  },
  {
   "cell_type": "code",
   "execution_count": 43,
   "metadata": {},
   "outputs": [
    {
     "data": {
      "text/html": [
       "<div>\n",
       "<style scoped>\n",
       "    .dataframe tbody tr th:only-of-type {\n",
       "        vertical-align: middle;\n",
       "    }\n",
       "\n",
       "    .dataframe tbody tr th {\n",
       "        vertical-align: top;\n",
       "    }\n",
       "\n",
       "    .dataframe thead th {\n",
       "        text-align: right;\n",
       "    }\n",
       "</style>\n",
       "<table border=\"1\" class=\"dataframe\">\n",
       "  <thead>\n",
       "    <tr style=\"text-align: right;\">\n",
       "      <th></th>\n",
       "      <th>IGLV3-17</th>\n",
       "      <th>EMC4</th>\n",
       "      <th>CRISP2</th>\n",
       "      <th>ODC1</th>\n",
       "      <th>NAT16</th>\n",
       "      <th>TMLHE-AS1</th>\n",
       "      <th>SH3BP2</th>\n",
       "      <th>RNU6-245P</th>\n",
       "      <th>PSPC1</th>\n",
       "      <th>LINC00443</th>\n",
       "      <th>...</th>\n",
       "      <th>HIST2H4A</th>\n",
       "      <th>MIR6835</th>\n",
       "      <th>FDX2</th>\n",
       "      <th>CRYBA2</th>\n",
       "      <th>CTAGE15</th>\n",
       "      <th>SNX20</th>\n",
       "      <th>NDUFB9P1</th>\n",
       "      <th>GPR182</th>\n",
       "      <th>ICOSLG</th>\n",
       "      <th>ALOX15B</th>\n",
       "    </tr>\n",
       "    <tr>\n",
       "      <th></th>\n",
       "      <th></th>\n",
       "      <th></th>\n",
       "      <th></th>\n",
       "      <th></th>\n",
       "      <th></th>\n",
       "      <th></th>\n",
       "      <th></th>\n",
       "      <th></th>\n",
       "      <th></th>\n",
       "      <th></th>\n",
       "      <th></th>\n",
       "      <th></th>\n",
       "      <th></th>\n",
       "      <th></th>\n",
       "      <th></th>\n",
       "      <th></th>\n",
       "      <th></th>\n",
       "      <th></th>\n",
       "      <th></th>\n",
       "      <th></th>\n",
       "      <th></th>\n",
       "    </tr>\n",
       "  </thead>\n",
       "  <tbody>\n",
       "    <tr>\n",
       "      <th>IGLV3-17</th>\n",
       "      <td>1.000000</td>\n",
       "      <td>0.320000</td>\n",
       "      <td>0.380952</td>\n",
       "      <td>0.258065</td>\n",
       "      <td>0.363636</td>\n",
       "      <td>0.500000</td>\n",
       "      <td>0.320000</td>\n",
       "      <td>0.538462</td>\n",
       "      <td>0.258065</td>\n",
       "      <td>0.875000</td>\n",
       "      <td>...</td>\n",
       "      <td>0.500000</td>\n",
       "      <td>0.800000</td>\n",
       "      <td>0.500000</td>\n",
       "      <td>0.571429</td>\n",
       "      <td>0.666667</td>\n",
       "      <td>0.333333</td>\n",
       "      <td>0.600000</td>\n",
       "      <td>0.444444</td>\n",
       "      <td>0.421053</td>\n",
       "      <td>0.470588</td>\n",
       "    </tr>\n",
       "    <tr>\n",
       "      <th>EMC4</th>\n",
       "      <td>0.320000</td>\n",
       "      <td>1.000000</td>\n",
       "      <td>0.840000</td>\n",
       "      <td>0.806452</td>\n",
       "      <td>0.880000</td>\n",
       "      <td>0.640000</td>\n",
       "      <td>1.000000</td>\n",
       "      <td>0.480000</td>\n",
       "      <td>0.806452</td>\n",
       "      <td>0.280000</td>\n",
       "      <td>...</td>\n",
       "      <td>0.640000</td>\n",
       "      <td>0.400000</td>\n",
       "      <td>0.640000</td>\n",
       "      <td>0.560000</td>\n",
       "      <td>0.480000</td>\n",
       "      <td>0.960000</td>\n",
       "      <td>0.320000</td>\n",
       "      <td>0.720000</td>\n",
       "      <td>0.760000</td>\n",
       "      <td>0.680000</td>\n",
       "    </tr>\n",
       "    <tr>\n",
       "      <th>CRISP2</th>\n",
       "      <td>0.380952</td>\n",
       "      <td>0.840000</td>\n",
       "      <td>1.000000</td>\n",
       "      <td>0.677419</td>\n",
       "      <td>0.869565</td>\n",
       "      <td>0.681818</td>\n",
       "      <td>0.840000</td>\n",
       "      <td>0.500000</td>\n",
       "      <td>0.677419</td>\n",
       "      <td>0.333333</td>\n",
       "      <td>...</td>\n",
       "      <td>0.681818</td>\n",
       "      <td>0.476190</td>\n",
       "      <td>0.681818</td>\n",
       "      <td>0.590909</td>\n",
       "      <td>0.500000</td>\n",
       "      <td>0.875000</td>\n",
       "      <td>0.318182</td>\n",
       "      <td>0.772727</td>\n",
       "      <td>0.818182</td>\n",
       "      <td>0.809524</td>\n",
       "    </tr>\n",
       "    <tr>\n",
       "      <th>ODC1</th>\n",
       "      <td>0.258065</td>\n",
       "      <td>0.806452</td>\n",
       "      <td>0.677419</td>\n",
       "      <td>1.000000</td>\n",
       "      <td>0.709677</td>\n",
       "      <td>0.516129</td>\n",
       "      <td>0.806452</td>\n",
       "      <td>0.387097</td>\n",
       "      <td>1.000000</td>\n",
       "      <td>0.225806</td>\n",
       "      <td>...</td>\n",
       "      <td>0.516129</td>\n",
       "      <td>0.322581</td>\n",
       "      <td>0.516129</td>\n",
       "      <td>0.451613</td>\n",
       "      <td>0.387097</td>\n",
       "      <td>0.774194</td>\n",
       "      <td>0.258065</td>\n",
       "      <td>0.580645</td>\n",
       "      <td>0.612903</td>\n",
       "      <td>0.548387</td>\n",
       "    </tr>\n",
       "    <tr>\n",
       "      <th>NAT16</th>\n",
       "      <td>0.363636</td>\n",
       "      <td>0.880000</td>\n",
       "      <td>0.869565</td>\n",
       "      <td>0.709677</td>\n",
       "      <td>1.000000</td>\n",
       "      <td>0.652174</td>\n",
       "      <td>0.880000</td>\n",
       "      <td>0.478261</td>\n",
       "      <td>0.709677</td>\n",
       "      <td>0.318182</td>\n",
       "      <td>...</td>\n",
       "      <td>0.652174</td>\n",
       "      <td>0.454545</td>\n",
       "      <td>0.652174</td>\n",
       "      <td>0.636364</td>\n",
       "      <td>0.545455</td>\n",
       "      <td>0.916667</td>\n",
       "      <td>0.363636</td>\n",
       "      <td>0.818182</td>\n",
       "      <td>0.782609</td>\n",
       "      <td>0.772727</td>\n",
       "    </tr>\n",
       "  </tbody>\n",
       "</table>\n",
       "<p>5 rows × 34668 columns</p>\n",
       "</div>"
      ],
      "text/plain": [
       "          IGLV3-17      EMC4    CRISP2      ODC1     NAT16  TMLHE-AS1  \\\n",
       "                                                                        \n",
       "IGLV3-17  1.000000  0.320000  0.380952  0.258065  0.363636   0.500000   \n",
       "EMC4      0.320000  1.000000  0.840000  0.806452  0.880000   0.640000   \n",
       "CRISP2    0.380952  0.840000  1.000000  0.677419  0.869565   0.681818   \n",
       "ODC1      0.258065  0.806452  0.677419  1.000000  0.709677   0.516129   \n",
       "NAT16     0.363636  0.880000  0.869565  0.709677  1.000000   0.652174   \n",
       "\n",
       "            SH3BP2  RNU6-245P     PSPC1  LINC00443    ...     HIST2H4A  \\\n",
       "                                                      ...                \n",
       "IGLV3-17  0.320000   0.538462  0.258065   0.875000    ...     0.500000   \n",
       "EMC4      1.000000   0.480000  0.806452   0.280000    ...     0.640000   \n",
       "CRISP2    0.840000   0.500000  0.677419   0.333333    ...     0.681818   \n",
       "ODC1      0.806452   0.387097  1.000000   0.225806    ...     0.516129   \n",
       "NAT16     0.880000   0.478261  0.709677   0.318182    ...     0.652174   \n",
       "\n",
       "           MIR6835      FDX2    CRYBA2   CTAGE15     SNX20  NDUFB9P1  \\\n",
       "                                                                       \n",
       "IGLV3-17  0.800000  0.500000  0.571429  0.666667  0.333333  0.600000   \n",
       "EMC4      0.400000  0.640000  0.560000  0.480000  0.960000  0.320000   \n",
       "CRISP2    0.476190  0.681818  0.590909  0.500000  0.875000  0.318182   \n",
       "ODC1      0.322581  0.516129  0.451613  0.387097  0.774194  0.258065   \n",
       "NAT16     0.454545  0.652174  0.636364  0.545455  0.916667  0.363636   \n",
       "\n",
       "            GPR182    ICOSLG   ALOX15B  \n",
       "                                        \n",
       "IGLV3-17  0.444444  0.421053  0.470588  \n",
       "EMC4      0.720000  0.760000  0.680000  \n",
       "CRISP2    0.772727  0.818182  0.809524  \n",
       "ODC1      0.580645  0.612903  0.548387  \n",
       "NAT16     0.818182  0.782609  0.772727  \n",
       "\n",
       "[5 rows x 34668 columns]"
      ]
     },
     "execution_count": 43,
     "metadata": {},
     "output_type": "execute_result"
    }
   ],
   "source": [
    "gene_similarity_matix.head()"
   ]
  },
  {
   "cell_type": "markdown",
   "metadata": {},
   "source": [
    "# Save Gene Similarity Matrix"
   ]
  },
  {
   "cell_type": "code",
   "execution_count": 44,
   "metadata": {},
   "outputs": [],
   "source": [
    "filename = path+'bgee_human_developmental_gene_similarity_matix_%s.tsv.zip'% str(datetime.date.today())[0:7].replace('-', '_')\n",
    "gene_similarity_matix.to_csv(filename, sep='\\t', compression='gzip')"
   ]
  },
  {
   "cell_type": "markdown",
   "metadata": {},
   "source": [
    "# Create Gene-Attribute Edge List"
   ]
  },
  {
   "cell_type": "code",
   "execution_count": 40,
   "metadata": {},
   "outputs": [],
   "source": [
    "name = 'bgee_human_developmental_gene_attribute_edge_list'"
   ]
  },
  {
   "cell_type": "code",
   "execution_count": 41,
   "metadata": {},
   "outputs": [
    {
     "name": "stdout",
     "output_type": "stream",
     "text": [
      "Progeres: 100%  33 Out of 33   \n",
      "\n",
      " The number of statisticaly relevent gene-attribute associations is: 603839\n"
     ]
    }
   ],
   "source": [
    "uf.createGeneAttributeEdgeList(binary_matrix, attribute_list, gene_list, path, name)"
   ]
  }
 ],
 "metadata": {
  "kernelspec": {
   "display_name": "Python 3",
   "language": "python",
   "name": "python3"
  },
  "language_info": {
   "codemirror_mode": {
    "name": "ipython",
    "version": 3
   },
   "file_extension": ".py",
   "mimetype": "text/x-python",
   "name": "python",
   "nbconvert_exporter": "python",
   "pygments_lexer": "ipython3",
   "version": "3.6.4"
  }
 },
 "nbformat": 4,
 "nbformat_minor": 2
}
