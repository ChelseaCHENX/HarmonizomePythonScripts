{
 "cells": [
  {
   "cell_type": "markdown",
   "metadata": {},
   "source": [
    "# National Organization for Rare Disorders list"
   ]
  },
  {
   "cell_type": "markdown",
   "metadata": {},
   "source": [
    "Author: John Erol Evangelista <br/>\n",
    "Date: 01-19 <br/>\n",
    "Data Source: https://rarediseases.org"
   ]
  },
  {
   "cell_type": "code",
   "execution_count": 1,
   "metadata": {},
   "outputs": [],
   "source": [
    "import sys, datetime, os\n",
    "import numpy as np\n",
    "import pandas as pd\n",
    "import importlib\n",
    "import requests\n",
    "from bs4 import BeautifulSoup\n",
    "import time\n",
    "%matplotlib inline\n",
    "if \"/Users/maayan/sigsets/Harmonizome/HarmonizomePythonScripts\" not in sys.path:\n",
    "    sys.path.append(\"/Users/maayan/sigsets/Harmonizome/HarmonizomePythonScripts\")\n",
    "import utility_functions as uf\n",
    "from entrez_helper import entrez\n"
   ]
  },
  {
   "cell_type": "code",
   "execution_count": 30,
   "metadata": {},
   "outputs": [],
   "source": [
    "import json, csv"
   ]
  },
  {
   "cell_type": "code",
   "execution_count": 2,
   "metadata": {},
   "outputs": [],
   "source": [
    "ez = entrez(\"JohnErol.Evangelista@mssm.edu\", \"83a36edabe6b67dec8d71446a47b7c3b3e09\")"
   ]
  },
  {
   "cell_type": "markdown",
   "metadata": {},
   "source": [
    "## Extract diseases from website"
   ]
  },
  {
   "cell_type": "code",
   "execution_count": 3,
   "metadata": {},
   "outputs": [],
   "source": [
    "baseUrl = \"https://rarediseases.org/for-patients-and-families/information-resources/rare-disease-information/\"\n",
    "pages = 82"
   ]
  },
  {
   "cell_type": "code",
   "execution_count": 4,
   "metadata": {},
   "outputs": [
    {
     "name": "stdout",
     "output_type": "stream",
     "text": [
      "Processing page 82\r"
     ]
    }
   ],
   "source": [
    "rare_diseases = []\n",
    "for page in range(pages):\n",
    "    if page == 1:\n",
    "        suffix = \"\"\n",
    "    else:\n",
    "        suffix = \"page/%d\" % (page+1)\n",
    "    sys.stdout.write(\"Processing page %d\\r\" % (page+1))\n",
    "    url = baseUrl + suffix\n",
    "    res = requests.get(url)\n",
    "    soup = BeautifulSoup(res.text, 'html.parser')\n",
    "    lists = soup.find('div', class_=\"rare-diseases-db-index\")\n",
    "    for entry in lists.findAll(\"article\"):\n",
    "        rare_diseases.append(entry.text.strip())\n",
    "    time.sleep(1)"
   ]
  },
  {
   "cell_type": "code",
   "execution_count": 24,
   "metadata": {},
   "outputs": [
    {
     "data": {
      "text/plain": [
       "1215"
      ]
     },
     "execution_count": 24,
     "metadata": {},
     "output_type": "execute_result"
    }
   ],
   "source": [
    "len(set(rare_diseases))"
   ]
  },
  {
   "cell_type": "markdown",
   "metadata": {},
   "source": [
    "## Get PMIDs"
   ]
  },
  {
   "cell_type": "code",
   "execution_count": 19,
   "metadata": {},
   "outputs": [],
   "source": [
    "# rare_disease_pmids = {}\n",
    "for disease in rare_diseases:\n",
    "    # Continue where it failed\n",
    "#     sys.stdout.write(\"Processing disease %s\\r\" % (disease))\n",
    "    if disease not in rare_disease_pmids:\n",
    "        sys.stdout.write(\"Processing disease %s\\r\" % (disease))\n",
    "        time.sleep(0.3)\n",
    "        for i in range(5):\n",
    "            try:\n",
    "                pmids = ez.get_pmid(disease)\n",
    "            except Exception as e:\n",
    "                if i == 4:\n",
    "                    raise e\n",
    "                else:\n",
    "                    time.sleep(5)\n",
    "                    continue\n",
    "        rare_disease_pmids[disease] = pmids"
   ]
  },
  {
   "cell_type": "code",
   "execution_count": 21,
   "metadata": {},
   "outputs": [
    {
     "data": {
      "text/plain": [
       "1215"
      ]
     },
     "execution_count": 21,
     "metadata": {},
     "output_type": "execute_result"
    }
   ],
   "source": [
    "len(rare_disease_pmids)"
   ]
  },
  {
   "cell_type": "code",
   "execution_count": 27,
   "metadata": {},
   "outputs": [],
   "source": [
    "data_path = \"/Users/maayan/sigsets/Harmonizome/Output/NORD/NORD_PMID.json\"\n",
    "with open(data_path, \"w\") as o:\n",
    "    o.write(json.dumps(rare_disease_pmids))"
   ]
  },
  {
   "cell_type": "markdown",
   "metadata": {},
   "source": [
    "## Load Mapping File, GeneRIF, and AutoRIF"
   ]
  },
  {
   "cell_type": "code",
   "execution_count": 74,
   "metadata": {},
   "outputs": [],
   "source": [
    "mappingDFHMR_updated = pd.read_csv('/Users/maayan/sigsets/Harmonizome/Data/mappingFileHMR_2019.tsv', sep='\\t', header=None, index_col=[0,1]).sort_index()\n",
    "getGeneIDsHMR_updated = pd.read_csv('/Users/maayan/sigsets/Harmonizome/Data/GeneSymbolsAndIDSHMR_2019.tsv', sep='\\t', index_col=[0,2]).sort_index()\n"
   ]
  },
  {
   "cell_type": "code",
   "execution_count": 41,
   "metadata": {},
   "outputs": [],
   "source": [
    "geneRIF = pd.read_csv('/Users/maayan/sigsets/Harmonizome/Data/generifs_basic', sep='\\t', index_col=[0,2]).sort_index()"
   ]
  },
  {
   "cell_type": "code",
   "execution_count": 47,
   "metadata": {},
   "outputs": [],
   "source": [
    "autoRIF = pd.read_csv('/Users/maayan/sigsets/Harmonizome/Data/autorif.tsv', sep='\\t', header=None, index_col=1)"
   ]
  },
  {
   "cell_type": "markdown",
   "metadata": {},
   "source": [
    "## GeneRIF Gene Set"
   ]
  },
  {
   "cell_type": "code",
   "execution_count": 93,
   "metadata": {},
   "outputs": [],
   "source": [
    "HUMAN_TAXON_ID = 9606"
   ]
  },
  {
   "cell_type": "code",
   "execution_count": 94,
   "metadata": {},
   "outputs": [
    {
     "data": {
      "text/html": [
       "<div>\n",
       "<style scoped>\n",
       "    .dataframe tbody tr th:only-of-type {\n",
       "        vertical-align: middle;\n",
       "    }\n",
       "\n",
       "    .dataframe tbody tr th {\n",
       "        vertical-align: top;\n",
       "    }\n",
       "\n",
       "    .dataframe thead th {\n",
       "        text-align: right;\n",
       "    }\n",
       "</style>\n",
       "<table border=\"1\" class=\"dataframe\">\n",
       "  <thead>\n",
       "    <tr style=\"text-align: right;\">\n",
       "      <th></th>\n",
       "      <th></th>\n",
       "      <th>Human, Mouse, and Rat Approved Symbol</th>\n",
       "    </tr>\n",
       "    <tr>\n",
       "      <th>tax_id</th>\n",
       "      <th>Entrez Gene ID(supplied by NCBI)</th>\n",
       "      <th></th>\n",
       "    </tr>\n",
       "  </thead>\n",
       "  <tbody>\n",
       "    <tr>\n",
       "      <th rowspan=\"5\" valign=\"top\">9606</th>\n",
       "      <th>1</th>\n",
       "      <td>A1BG</td>\n",
       "    </tr>\n",
       "    <tr>\n",
       "      <th>2</th>\n",
       "      <td>A2M</td>\n",
       "    </tr>\n",
       "    <tr>\n",
       "      <th>3</th>\n",
       "      <td>A2MP1</td>\n",
       "    </tr>\n",
       "    <tr>\n",
       "      <th>9</th>\n",
       "      <td>NAT1</td>\n",
       "    </tr>\n",
       "    <tr>\n",
       "      <th>10</th>\n",
       "      <td>NAT2</td>\n",
       "    </tr>\n",
       "  </tbody>\n",
       "</table>\n",
       "</div>"
      ],
      "text/plain": [
       "                                        Human, Mouse, and Rat Approved Symbol\n",
       "tax_id Entrez Gene ID(supplied by NCBI)                                      \n",
       "9606   1                                                                 A1BG\n",
       "       2                                                                  A2M\n",
       "       3                                                                A2MP1\n",
       "       9                                                                 NAT1\n",
       "       10                                                                NAT2"
      ]
     },
     "execution_count": 94,
     "metadata": {},
     "output_type": "execute_result"
    }
   ],
   "source": [
    "getGeneIDsHMR_updated.head()"
   ]
  },
  {
   "cell_type": "code",
   "execution_count": 156,
   "metadata": {},
   "outputs": [
    {
     "name": "stdout",
     "output_type": "stream",
     "text": [
      "Processing disease Zollinger Ellison Syndromerseive Autophagyiciency (LCAD)omeilation, and Autonomic Dysregulation (FIRES)\r"
     ]
    }
   ],
   "source": [
    "with open(\"/Users/maayan/sigsets/Harmonizome/Output/NORD/NORD_GeneRIF.gmt\", \"w\") as o:\n",
    "    for disease, pmids in rare_disease_pmids.items():\n",
    "        gmt_line = disease + \"\\t\\t\"\n",
    "        sys.stdout.write(\"Processing disease %s\\r\" % (disease))\n",
    "        genes = set([])\n",
    "        for pmid in pmids:\n",
    "            pmid = int(pmid)\n",
    "            if (HUMAN_TAXON_ID, pmid) in geneRIF.index:\n",
    "                gene_ids = geneRIF.loc[(HUMAN_TAXON_ID,pmid), \"Gene ID\"]\n",
    "                for gene_id in gene_ids:\n",
    "                    if (HUMAN_TAXON_ID, gene_id) in getGeneIDsHMR_updated.index:\n",
    "                        gene = getGeneIDsHMR_updated.loc[(HUMAN_TAXON_ID, gene_id), \"Human, Mouse, and Rat Approved Symbol\"]\n",
    "                        genes.add(gene)\n",
    "                        # gmt_line += (\"\\t\" + gene)\n",
    "        if genes:\n",
    "            gmt_line += (\"\\t\".join(list(genes)) +\"\\n\")        \n",
    "            o.write(gmt_line)"
   ]
  },
  {
   "cell_type": "markdown",
   "metadata": {},
   "source": [
    "## AutoRIF Gene Set"
   ]
  },
  {
   "cell_type": "code",
   "execution_count": 160,
   "metadata": {},
   "outputs": [
    {
     "name": "stdout",
     "output_type": "stream",
     "text": [
      "Processing disease Zollinger Ellison Syndromerseive Autophagyiciency (LCAD)omeilation, and Autonomic Dysregulation (FIRES)\r"
     ]
    }
   ],
   "source": [
    "with open(\"/Users/maayan/sigsets/Harmonizome/Output/NORD/NORD_AutoRIF.gmt\", \"w\") as o:\n",
    "    for disease, pmids in rare_disease_pmids.items():\n",
    "        gmt_line = disease + \"\\t\\t\"\n",
    "        sys.stdout.write(\"Processing disease %s\\r\" % (disease))\n",
    "        genes = set([])\n",
    "        for pmid in pmids:\n",
    "            pmid = int(pmid)\n",
    "            if pmid in autoRIF.index:\n",
    "                gene = autoRIF.loc[pmid, 0]\n",
    "                if not isinstance(gene, str): # Multiple genes\n",
    "                    for g in gene:\n",
    "                        genes.add(g)\n",
    "                else:\n",
    "                    genes.add(gene)\n",
    "               # gmt_line += (\"\\t\" + genes)\n",
    "        if genes:\n",
    "            gmt_line += (\"\\t\".join(list(genes)) +\"\\n\")        \n",
    "            o.write(gmt_line)"
   ]
  },
  {
   "cell_type": "code",
   "execution_count": 151,
   "metadata": {},
   "outputs": [
    {
     "data": {
      "text/plain": [
       "True"
      ]
     },
     "execution_count": 151,
     "metadata": {},
     "output_type": "execute_result"
    }
   ],
   "source": [
    "(9606, 12851857) in geneRIF.index"
   ]
  },
  {
   "cell_type": "code",
   "execution_count": null,
   "metadata": {},
   "outputs": [],
   "source": []
  }
 ],
 "metadata": {
  "kernelspec": {
   "display_name": "pvenv",
   "language": "python",
   "name": "pvenv"
  },
  "language_info": {
   "codemirror_mode": {
    "name": "ipython",
    "version": 3
   },
   "file_extension": ".py",
   "mimetype": "text/x-python",
   "name": "python",
   "nbconvert_exporter": "python",
   "pygments_lexer": "ipython3",
   "version": "3.6.5"
  }
 },
 "nbformat": 4,
 "nbformat_minor": 2
}
