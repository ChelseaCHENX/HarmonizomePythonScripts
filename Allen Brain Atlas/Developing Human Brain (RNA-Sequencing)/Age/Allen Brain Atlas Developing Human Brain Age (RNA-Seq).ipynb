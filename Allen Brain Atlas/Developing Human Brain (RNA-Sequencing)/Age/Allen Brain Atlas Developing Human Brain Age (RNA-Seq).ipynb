{
 "cells": [
  {
   "cell_type": "markdown",
   "metadata": {},
   "source": [
    "# Allen Brain Atlas Developing Human Brain Age (RNA-Seq)"
   ]
  },
  {
   "cell_type": "markdown",
   "metadata": {},
   "source": [
    "Author: Moshe Silverstein <br/>\n",
    "Date: 3-18 <br/>\n",
    "Data Source: http://www.brainspan.org/static/download.html"
   ]
  },
  {
   "cell_type": "code",
   "execution_count": 1,
   "metadata": {
    "collapsed": true
   },
   "outputs": [],
   "source": [
    "import sys, datetime\n",
    "import numpy as np\n",
    "import pandas as pd\n",
    "import importlib\n",
    "import my_functions as mf\n",
    "import matplotlib.pyplot as plt\n",
    "%matplotlib inline"
   ]
  },
  {
   "cell_type": "code",
   "execution_count": 2,
   "metadata": {
    "collapsed": true
   },
   "outputs": [],
   "source": [
    "from clustergrammer_widget import *\n",
    "net = Network(clustergrammer_widget)"
   ]
  },
  {
   "cell_type": "code",
   "execution_count": 3,
   "metadata": {},
   "outputs": [
    {
     "data": {
      "text/plain": [
       "<module 'my_functions' from '/Users/moshesilverstein/Documents/Harmonizome/Allen Brain Atlas/BRAINSPAN atlas of the developing brain/Developnetal Transcriptome Dataset/RNA-Seq/my_functions.py'>"
      ]
     },
     "execution_count": 3,
     "metadata": {},
     "output_type": "execute_result"
    }
   ],
   "source": [
    "importlib.reload(mf)"
   ]
  },
  {
   "cell_type": "markdown",
   "metadata": {},
   "source": [
    "# Versions Of Modules In Use"
   ]
  },
  {
   "cell_type": "code",
   "execution_count": 4,
   "metadata": {},
   "outputs": [
    {
     "data": {
      "application/json": {
       "Software versions": [
        {
         "module": "Python",
         "version": "3.5.2 64bit [GCC 4.2.1 Compatible Apple LLVM 4.2 (clang-425.0.28)]"
        },
        {
         "module": "IPython",
         "version": "5.3.0"
        },
        {
         "module": "OS",
         "version": "Darwin 17.2.0 x86_64 i386 64bit"
        },
        {
         "module": "numpy",
         "version": "1.13.1"
        },
        {
         "module": "pandas",
         "version": "0.21.0"
        },
        {
         "module": "clustergrammer_widget",
         "version": "1.9.0"
        }
       ]
      },
      "text/html": [
       "<table><tr><th>Software</th><th>Version</th></tr><tr><td>Python</td><td>3.5.2 64bit [GCC 4.2.1 Compatible Apple LLVM 4.2 (clang-425.0.28)]</td></tr><tr><td>IPython</td><td>5.3.0</td></tr><tr><td>OS</td><td>Darwin 17.2.0 x86_64 i386 64bit</td></tr><tr><td>numpy</td><td>1.13.1</td></tr><tr><td>pandas</td><td>0.21.0</td></tr><tr><td>clustergrammer_widget</td><td>1.9.0</td></tr><tr><td colspan='2'>Wed Mar 07 16:53:42 2018 EST</td></tr></table>"
      ],
      "text/latex": [
       "\\begin{tabular}{|l|l|}\\hline\n",
       "{\\bf Software} & {\\bf Version} \\\\ \\hline\\hline\n",
       "Python & 3.5.2 64bit [GCC 4.2.1 Compatible Apple LLVM 4.2 (clang-425.0.28)] \\\\ \\hline\n",
       "IPython & 5.3.0 \\\\ \\hline\n",
       "OS & Darwin 17.2.0 x86\\_64 i386 64bit \\\\ \\hline\n",
       "numpy & 1.13.1 \\\\ \\hline\n",
       "pandas & 0.21.0 \\\\ \\hline\n",
       "clustergrammer_widget & 1.9.0 \\\\ \\hline\n",
       "\\hline \\multicolumn{2}{|l|}{Wed Mar 07 16:53:42 2018 EST} \\\\ \\hline\n",
       "\\end{tabular}\n"
      ],
      "text/plain": [
       "Software versions\n",
       "Python 3.5.2 64bit [GCC 4.2.1 Compatible Apple LLVM 4.2 (clang-425.0.28)]\n",
       "IPython 5.3.0\n",
       "OS Darwin 17.2.0 x86_64 i386 64bit\n",
       "numpy 1.13.1\n",
       "pandas 0.21.0\n",
       "clustergrammer_widget 1.9.0\n",
       "Wed Mar 07 16:53:42 2018 EST"
      ]
     },
     "execution_count": 4,
     "metadata": {},
     "output_type": "execute_result"
    }
   ],
   "source": [
    "%load_ext version_information\n",
    "%version_information numpy, pandas, clustergrammer_widget "
   ]
  },
  {
   "cell_type": "markdown",
   "metadata": {},
   "source": [
    "# Path to Output Files"
   ]
  },
  {
   "cell_type": "code",
   "execution_count": 5,
   "metadata": {
    "collapsed": true
   },
   "outputs": [],
   "source": [
    "path = '/Users/moshesilverstein/Documents/Harmonizome/Allen Brain Atlas/BRAINSPAN atlas of the developing brain/Developnetal Transcriptome Dataset/RNA-Seq/Output/'"
   ]
  },
  {
   "cell_type": "markdown",
   "metadata": {},
   "source": [
    "# Load Data"
   ]
  },
  {
   "cell_type": "code",
   "execution_count": 6,
   "metadata": {
    "collapsed": true
   },
   "outputs": [],
   "source": [
    "matrix = pd.read_csv('Input/genes_matrix_csv/expression_matrix.csv', header=None, index_col=0)"
   ]
  },
  {
   "cell_type": "code",
   "execution_count": 7,
   "metadata": {},
   "outputs": [
    {
     "data": {
      "text/html": [
       "<div>\n",
       "<style scoped>\n",
       "    .dataframe tbody tr th:only-of-type {\n",
       "        vertical-align: middle;\n",
       "    }\n",
       "\n",
       "    .dataframe tbody tr th {\n",
       "        vertical-align: top;\n",
       "    }\n",
       "\n",
       "    .dataframe thead th {\n",
       "        text-align: right;\n",
       "    }\n",
       "</style>\n",
       "<table border=\"1\" class=\"dataframe\">\n",
       "  <thead>\n",
       "    <tr style=\"text-align: right;\">\n",
       "      <th></th>\n",
       "      <th>1</th>\n",
       "      <th>2</th>\n",
       "      <th>3</th>\n",
       "      <th>4</th>\n",
       "      <th>5</th>\n",
       "      <th>6</th>\n",
       "      <th>7</th>\n",
       "      <th>8</th>\n",
       "      <th>9</th>\n",
       "      <th>10</th>\n",
       "      <th>...</th>\n",
       "      <th>515</th>\n",
       "      <th>516</th>\n",
       "      <th>517</th>\n",
       "      <th>518</th>\n",
       "      <th>519</th>\n",
       "      <th>520</th>\n",
       "      <th>521</th>\n",
       "      <th>522</th>\n",
       "      <th>523</th>\n",
       "      <th>524</th>\n",
       "    </tr>\n",
       "    <tr>\n",
       "      <th>0</th>\n",
       "      <th></th>\n",
       "      <th></th>\n",
       "      <th></th>\n",
       "      <th></th>\n",
       "      <th></th>\n",
       "      <th></th>\n",
       "      <th></th>\n",
       "      <th></th>\n",
       "      <th></th>\n",
       "      <th></th>\n",
       "      <th></th>\n",
       "      <th></th>\n",
       "      <th></th>\n",
       "      <th></th>\n",
       "      <th></th>\n",
       "      <th></th>\n",
       "      <th></th>\n",
       "      <th></th>\n",
       "      <th></th>\n",
       "      <th></th>\n",
       "      <th></th>\n",
       "    </tr>\n",
       "  </thead>\n",
       "  <tbody>\n",
       "    <tr>\n",
       "      <th>1</th>\n",
       "      <td>36.447128</td>\n",
       "      <td>24.251253</td>\n",
       "      <td>19.330479</td>\n",
       "      <td>27.668607</td>\n",
       "      <td>19.998231</td>\n",
       "      <td>14.680673</td>\n",
       "      <td>27.548101</td>\n",
       "      <td>16.580183</td>\n",
       "      <td>44.587799</td>\n",
       "      <td>44.943915</td>\n",
       "      <td>...</td>\n",
       "      <td>2.320932</td>\n",
       "      <td>1.781548</td>\n",
       "      <td>2.277359</td>\n",
       "      <td>1.832737</td>\n",
       "      <td>1.555696</td>\n",
       "      <td>2.081944</td>\n",
       "      <td>3.484685</td>\n",
       "      <td>4.816781</td>\n",
       "      <td>3.034464</td>\n",
       "      <td>3.082820</td>\n",
       "    </tr>\n",
       "    <tr>\n",
       "      <th>2</th>\n",
       "      <td>0.044081</td>\n",
       "      <td>0.067338</td>\n",
       "      <td>0.000000</td>\n",
       "      <td>0.145466</td>\n",
       "      <td>0.185188</td>\n",
       "      <td>0.311180</td>\n",
       "      <td>0.000000</td>\n",
       "      <td>0.000000</td>\n",
       "      <td>0.473831</td>\n",
       "      <td>0.181220</td>\n",
       "      <td>...</td>\n",
       "      <td>0.758571</td>\n",
       "      <td>0.000000</td>\n",
       "      <td>0.061869</td>\n",
       "      <td>0.026876</td>\n",
       "      <td>0.100691</td>\n",
       "      <td>0.140675</td>\n",
       "      <td>0.300576</td>\n",
       "      <td>0.126526</td>\n",
       "      <td>0.000000</td>\n",
       "      <td>0.424134</td>\n",
       "    </tr>\n",
       "    <tr>\n",
       "      <th>3</th>\n",
       "      <td>34.373239</td>\n",
       "      <td>20.765661</td>\n",
       "      <td>18.734947</td>\n",
       "      <td>22.366394</td>\n",
       "      <td>19.228431</td>\n",
       "      <td>11.020365</td>\n",
       "      <td>25.394607</td>\n",
       "      <td>17.671327</td>\n",
       "      <td>32.903100</td>\n",
       "      <td>38.157569</td>\n",
       "      <td>...</td>\n",
       "      <td>23.769167</td>\n",
       "      <td>20.142132</td>\n",
       "      <td>20.063257</td>\n",
       "      <td>16.575379</td>\n",
       "      <td>18.783516</td>\n",
       "      <td>21.631293</td>\n",
       "      <td>28.006120</td>\n",
       "      <td>28.731717</td>\n",
       "      <td>16.679597</td>\n",
       "      <td>28.866042</td>\n",
       "    </tr>\n",
       "    <tr>\n",
       "      <th>4</th>\n",
       "      <td>4.379337</td>\n",
       "      <td>4.227521</td>\n",
       "      <td>2.551825</td>\n",
       "      <td>3.603764</td>\n",
       "      <td>2.948976</td>\n",
       "      <td>2.405183</td>\n",
       "      <td>3.613642</td>\n",
       "      <td>2.573935</td>\n",
       "      <td>3.483817</td>\n",
       "      <td>3.609830</td>\n",
       "      <td>...</td>\n",
       "      <td>1.593009</td>\n",
       "      <td>1.563377</td>\n",
       "      <td>1.648571</td>\n",
       "      <td>2.231466</td>\n",
       "      <td>2.040326</td>\n",
       "      <td>2.161741</td>\n",
       "      <td>1.275352</td>\n",
       "      <td>1.184766</td>\n",
       "      <td>1.735579</td>\n",
       "      <td>1.500363</td>\n",
       "    </tr>\n",
       "    <tr>\n",
       "      <th>5</th>\n",
       "      <td>3.957119</td>\n",
       "      <td>3.520794</td>\n",
       "      <td>2.037805</td>\n",
       "      <td>3.487035</td>\n",
       "      <td>2.177235</td>\n",
       "      <td>0.999693</td>\n",
       "      <td>3.481555</td>\n",
       "      <td>1.747568</td>\n",
       "      <td>3.741580</td>\n",
       "      <td>3.560650</td>\n",
       "      <td>...</td>\n",
       "      <td>0.583488</td>\n",
       "      <td>0.797376</td>\n",
       "      <td>0.607141</td>\n",
       "      <td>0.575555</td>\n",
       "      <td>0.606445</td>\n",
       "      <td>0.683625</td>\n",
       "      <td>0.495084</td>\n",
       "      <td>0.761265</td>\n",
       "      <td>0.766482</td>\n",
       "      <td>0.468859</td>\n",
       "    </tr>\n",
       "  </tbody>\n",
       "</table>\n",
       "<p>5 rows × 524 columns</p>\n",
       "</div>"
      ],
      "text/plain": [
       "         1          2          3          4          5          6    \\\n",
       "0                                                                     \n",
       "1  36.447128  24.251253  19.330479  27.668607  19.998231  14.680673   \n",
       "2   0.044081   0.067338   0.000000   0.145466   0.185188   0.311180   \n",
       "3  34.373239  20.765661  18.734947  22.366394  19.228431  11.020365   \n",
       "4   4.379337   4.227521   2.551825   3.603764   2.948976   2.405183   \n",
       "5   3.957119   3.520794   2.037805   3.487035   2.177235   0.999693   \n",
       "\n",
       "         7          8          9          10     ...            515  \\\n",
       "0                                                ...                  \n",
       "1  27.548101  16.580183  44.587799  44.943915    ...       2.320932   \n",
       "2   0.000000   0.000000   0.473831   0.181220    ...       0.758571   \n",
       "3  25.394607  17.671327  32.903100  38.157569    ...      23.769167   \n",
       "4   3.613642   2.573935   3.483817   3.609830    ...       1.593009   \n",
       "5   3.481555   1.747568   3.741580   3.560650    ...       0.583488   \n",
       "\n",
       "         516        517        518        519        520        521  \\\n",
       "0                                                                     \n",
       "1   1.781548   2.277359   1.832737   1.555696   2.081944   3.484685   \n",
       "2   0.000000   0.061869   0.026876   0.100691   0.140675   0.300576   \n",
       "3  20.142132  20.063257  16.575379  18.783516  21.631293  28.006120   \n",
       "4   1.563377   1.648571   2.231466   2.040326   2.161741   1.275352   \n",
       "5   0.797376   0.607141   0.575555   0.606445   0.683625   0.495084   \n",
       "\n",
       "         522        523        524  \n",
       "0                                   \n",
       "1   4.816781   3.034464   3.082820  \n",
       "2   0.126526   0.000000   0.424134  \n",
       "3  28.731717  16.679597  28.866042  \n",
       "4   1.184766   1.735579   1.500363  \n",
       "5   0.761265   0.766482   0.468859  \n",
       "\n",
       "[5 rows x 524 columns]"
      ]
     },
     "execution_count": 7,
     "metadata": {},
     "output_type": "execute_result"
    }
   ],
   "source": [
    "matrix.head()"
   ]
  },
  {
   "cell_type": "code",
   "execution_count": 8,
   "metadata": {},
   "outputs": [
    {
     "data": {
      "text/plain": [
       "(52376, 524)"
      ]
     },
     "execution_count": 8,
     "metadata": {},
     "output_type": "execute_result"
    }
   ],
   "source": [
    "matrix.shape"
   ]
  },
  {
   "cell_type": "markdown",
   "metadata": {},
   "source": [
    "# Load Sample Metadata"
   ]
  },
  {
   "cell_type": "code",
   "execution_count": 9,
   "metadata": {
    "collapsed": true
   },
   "outputs": [],
   "source": [
    "sample_meta = pd.read_csv('Input/genes_matrix_csv/columns_metadata.csv', index_col=0)"
   ]
  },
  {
   "cell_type": "code",
   "execution_count": 10,
   "metadata": {},
   "outputs": [
    {
     "data": {
      "text/html": [
       "<div>\n",
       "<style scoped>\n",
       "    .dataframe tbody tr th:only-of-type {\n",
       "        vertical-align: middle;\n",
       "    }\n",
       "\n",
       "    .dataframe tbody tr th {\n",
       "        vertical-align: top;\n",
       "    }\n",
       "\n",
       "    .dataframe thead th {\n",
       "        text-align: right;\n",
       "    }\n",
       "</style>\n",
       "<table border=\"1\" class=\"dataframe\">\n",
       "  <thead>\n",
       "    <tr style=\"text-align: right;\">\n",
       "      <th></th>\n",
       "      <th>donor_id</th>\n",
       "      <th>donor_name</th>\n",
       "      <th>age</th>\n",
       "      <th>gender</th>\n",
       "      <th>structure_id</th>\n",
       "      <th>structure_acronym</th>\n",
       "      <th>structure_name</th>\n",
       "    </tr>\n",
       "    <tr>\n",
       "      <th>column_num</th>\n",
       "      <th></th>\n",
       "      <th></th>\n",
       "      <th></th>\n",
       "      <th></th>\n",
       "      <th></th>\n",
       "      <th></th>\n",
       "      <th></th>\n",
       "    </tr>\n",
       "  </thead>\n",
       "  <tbody>\n",
       "    <tr>\n",
       "      <th>1</th>\n",
       "      <td>13058</td>\n",
       "      <td>H376.IIA.51</td>\n",
       "      <td>8 pcw</td>\n",
       "      <td>M</td>\n",
       "      <td>10268</td>\n",
       "      <td>Ocx</td>\n",
       "      <td>occipital neocortex</td>\n",
       "    </tr>\n",
       "    <tr>\n",
       "      <th>2</th>\n",
       "      <td>13058</td>\n",
       "      <td>H376.IIA.51</td>\n",
       "      <td>8 pcw</td>\n",
       "      <td>M</td>\n",
       "      <td>10291</td>\n",
       "      <td>M1C-S1C</td>\n",
       "      <td>primary motor-sensory cortex (samples)</td>\n",
       "    </tr>\n",
       "    <tr>\n",
       "      <th>3</th>\n",
       "      <td>13058</td>\n",
       "      <td>H376.IIA.51</td>\n",
       "      <td>8 pcw</td>\n",
       "      <td>M</td>\n",
       "      <td>10361</td>\n",
       "      <td>AMY</td>\n",
       "      <td>amygdaloid complex</td>\n",
       "    </tr>\n",
       "    <tr>\n",
       "      <th>4</th>\n",
       "      <td>13058</td>\n",
       "      <td>H376.IIA.51</td>\n",
       "      <td>8 pcw</td>\n",
       "      <td>M</td>\n",
       "      <td>10550</td>\n",
       "      <td>MGE</td>\n",
       "      <td>medial ganglionic eminence</td>\n",
       "    </tr>\n",
       "    <tr>\n",
       "      <th>5</th>\n",
       "      <td>13058</td>\n",
       "      <td>H376.IIA.51</td>\n",
       "      <td>8 pcw</td>\n",
       "      <td>M</td>\n",
       "      <td>10243</td>\n",
       "      <td>STC</td>\n",
       "      <td>posterior (caudal) superior temporal cortex (a...</td>\n",
       "    </tr>\n",
       "  </tbody>\n",
       "</table>\n",
       "</div>"
      ],
      "text/plain": [
       "            donor_id   donor_name    age gender  structure_id  \\\n",
       "column_num                                                      \n",
       "1              13058  H376.IIA.51  8 pcw      M         10268   \n",
       "2              13058  H376.IIA.51  8 pcw      M         10291   \n",
       "3              13058  H376.IIA.51  8 pcw      M         10361   \n",
       "4              13058  H376.IIA.51  8 pcw      M         10550   \n",
       "5              13058  H376.IIA.51  8 pcw      M         10243   \n",
       "\n",
       "           structure_acronym  \\\n",
       "column_num                     \n",
       "1                        Ocx   \n",
       "2                    M1C-S1C   \n",
       "3                        AMY   \n",
       "4                        MGE   \n",
       "5                        STC   \n",
       "\n",
       "                                               structure_name  \n",
       "column_num                                                     \n",
       "1                                         occipital neocortex  \n",
       "2                      primary motor-sensory cortex (samples)  \n",
       "3                                          amygdaloid complex  \n",
       "4                                  medial ganglionic eminence  \n",
       "5           posterior (caudal) superior temporal cortex (a...  "
      ]
     },
     "execution_count": 10,
     "metadata": {},
     "output_type": "execute_result"
    }
   ],
   "source": [
    "sample_meta.head()"
   ]
  },
  {
   "cell_type": "code",
   "execution_count": 11,
   "metadata": {},
   "outputs": [
    {
     "data": {
      "text/plain": [
       "(524, 7)"
      ]
     },
     "execution_count": 11,
     "metadata": {},
     "output_type": "execute_result"
    }
   ],
   "source": [
    "sample_meta.shape"
   ]
  },
  {
   "cell_type": "markdown",
   "metadata": {},
   "source": [
    "# Load Gene Metadata"
   ]
  },
  {
   "cell_type": "code",
   "execution_count": 12,
   "metadata": {
    "collapsed": true
   },
   "outputs": [],
   "source": [
    "gene_meta = pd.read_csv('Input/genes_matrix_csv/rows_metadata.csv', index_col=0)"
   ]
  },
  {
   "cell_type": "code",
   "execution_count": 13,
   "metadata": {},
   "outputs": [
    {
     "data": {
      "text/html": [
       "<div>\n",
       "<style scoped>\n",
       "    .dataframe tbody tr th:only-of-type {\n",
       "        vertical-align: middle;\n",
       "    }\n",
       "\n",
       "    .dataframe tbody tr th {\n",
       "        vertical-align: top;\n",
       "    }\n",
       "\n",
       "    .dataframe thead th {\n",
       "        text-align: right;\n",
       "    }\n",
       "</style>\n",
       "<table border=\"1\" class=\"dataframe\">\n",
       "  <thead>\n",
       "    <tr style=\"text-align: right;\">\n",
       "      <th></th>\n",
       "      <th>gene_id</th>\n",
       "      <th>ensembl_gene_id</th>\n",
       "      <th>gene_symbol</th>\n",
       "      <th>entrez_id</th>\n",
       "    </tr>\n",
       "    <tr>\n",
       "      <th>row_num</th>\n",
       "      <th></th>\n",
       "      <th></th>\n",
       "      <th></th>\n",
       "      <th></th>\n",
       "    </tr>\n",
       "  </thead>\n",
       "  <tbody>\n",
       "    <tr>\n",
       "      <th>1</th>\n",
       "      <td>7062.0</td>\n",
       "      <td>ENSG00000000003</td>\n",
       "      <td>TSPAN6</td>\n",
       "      <td>7105.0</td>\n",
       "    </tr>\n",
       "    <tr>\n",
       "      <th>2</th>\n",
       "      <td>40735.0</td>\n",
       "      <td>ENSG00000000005</td>\n",
       "      <td>TNMD</td>\n",
       "      <td>64102.0</td>\n",
       "    </tr>\n",
       "    <tr>\n",
       "      <th>3</th>\n",
       "      <td>8736.0</td>\n",
       "      <td>ENSG00000000419</td>\n",
       "      <td>DPM1</td>\n",
       "      <td>8813.0</td>\n",
       "    </tr>\n",
       "    <tr>\n",
       "      <th>4</th>\n",
       "      <td>36423.0</td>\n",
       "      <td>ENSG00000000457</td>\n",
       "      <td>SCYL3</td>\n",
       "      <td>57147.0</td>\n",
       "    </tr>\n",
       "    <tr>\n",
       "      <th>5</th>\n",
       "      <td>35021.0</td>\n",
       "      <td>ENSG00000000460</td>\n",
       "      <td>C1orf112</td>\n",
       "      <td>55732.0</td>\n",
       "    </tr>\n",
       "  </tbody>\n",
       "</table>\n",
       "</div>"
      ],
      "text/plain": [
       "         gene_id  ensembl_gene_id gene_symbol  entrez_id\n",
       "row_num                                                 \n",
       "1         7062.0  ENSG00000000003      TSPAN6     7105.0\n",
       "2        40735.0  ENSG00000000005        TNMD    64102.0\n",
       "3         8736.0  ENSG00000000419        DPM1     8813.0\n",
       "4        36423.0  ENSG00000000457       SCYL3    57147.0\n",
       "5        35021.0  ENSG00000000460    C1orf112    55732.0"
      ]
     },
     "execution_count": 13,
     "metadata": {},
     "output_type": "execute_result"
    }
   ],
   "source": [
    "gene_meta.head()"
   ]
  },
  {
   "cell_type": "code",
   "execution_count": 14,
   "metadata": {},
   "outputs": [
    {
     "data": {
      "text/plain": [
       "(52376, 4)"
      ]
     },
     "execution_count": 14,
     "metadata": {},
     "output_type": "execute_result"
    }
   ],
   "source": [
    "gene_meta.shape"
   ]
  },
  {
   "cell_type": "markdown",
   "metadata": {},
   "source": [
    "# Map Sample Metadata to Sample ID"
   ]
  },
  {
   "cell_type": "code",
   "execution_count": 15,
   "metadata": {
    "collapsed": true
   },
   "outputs": [],
   "source": [
    "lst = []\n",
    "\n",
    "for i,col in enumerate(matrix.columns):\n",
    "    col_num = i+1\n",
    "    sample = str(sample_meta.loc[col_num, 'age'])\n",
    "    lst.append(sample)\n",
    "    \n",
    "matrix.columns = lst"
   ]
  },
  {
   "cell_type": "code",
   "execution_count": 16,
   "metadata": {},
   "outputs": [
    {
     "data": {
      "text/html": [
       "<div>\n",
       "<style scoped>\n",
       "    .dataframe tbody tr th:only-of-type {\n",
       "        vertical-align: middle;\n",
       "    }\n",
       "\n",
       "    .dataframe tbody tr th {\n",
       "        vertical-align: top;\n",
       "    }\n",
       "\n",
       "    .dataframe thead th {\n",
       "        text-align: right;\n",
       "    }\n",
       "</style>\n",
       "<table border=\"1\" class=\"dataframe\">\n",
       "  <thead>\n",
       "    <tr style=\"text-align: right;\">\n",
       "      <th></th>\n",
       "      <th>8 pcw</th>\n",
       "      <th>8 pcw</th>\n",
       "      <th>8 pcw</th>\n",
       "      <th>8 pcw</th>\n",
       "      <th>8 pcw</th>\n",
       "      <th>8 pcw</th>\n",
       "      <th>8 pcw</th>\n",
       "      <th>8 pcw</th>\n",
       "      <th>8 pcw</th>\n",
       "      <th>8 pcw</th>\n",
       "      <th>...</th>\n",
       "      <th>40 yrs</th>\n",
       "      <th>40 yrs</th>\n",
       "      <th>40 yrs</th>\n",
       "      <th>40 yrs</th>\n",
       "      <th>40 yrs</th>\n",
       "      <th>40 yrs</th>\n",
       "      <th>40 yrs</th>\n",
       "      <th>40 yrs</th>\n",
       "      <th>40 yrs</th>\n",
       "      <th>40 yrs</th>\n",
       "    </tr>\n",
       "    <tr>\n",
       "      <th>0</th>\n",
       "      <th></th>\n",
       "      <th></th>\n",
       "      <th></th>\n",
       "      <th></th>\n",
       "      <th></th>\n",
       "      <th></th>\n",
       "      <th></th>\n",
       "      <th></th>\n",
       "      <th></th>\n",
       "      <th></th>\n",
       "      <th></th>\n",
       "      <th></th>\n",
       "      <th></th>\n",
       "      <th></th>\n",
       "      <th></th>\n",
       "      <th></th>\n",
       "      <th></th>\n",
       "      <th></th>\n",
       "      <th></th>\n",
       "      <th></th>\n",
       "      <th></th>\n",
       "    </tr>\n",
       "  </thead>\n",
       "  <tbody>\n",
       "    <tr>\n",
       "      <th>1</th>\n",
       "      <td>36.447128</td>\n",
       "      <td>24.251253</td>\n",
       "      <td>19.330479</td>\n",
       "      <td>27.668607</td>\n",
       "      <td>19.998231</td>\n",
       "      <td>14.680673</td>\n",
       "      <td>27.548101</td>\n",
       "      <td>16.580183</td>\n",
       "      <td>44.587799</td>\n",
       "      <td>44.943915</td>\n",
       "      <td>...</td>\n",
       "      <td>2.320932</td>\n",
       "      <td>1.781548</td>\n",
       "      <td>2.277359</td>\n",
       "      <td>1.832737</td>\n",
       "      <td>1.555696</td>\n",
       "      <td>2.081944</td>\n",
       "      <td>3.484685</td>\n",
       "      <td>4.816781</td>\n",
       "      <td>3.034464</td>\n",
       "      <td>3.082820</td>\n",
       "    </tr>\n",
       "    <tr>\n",
       "      <th>2</th>\n",
       "      <td>0.044081</td>\n",
       "      <td>0.067338</td>\n",
       "      <td>0.000000</td>\n",
       "      <td>0.145466</td>\n",
       "      <td>0.185188</td>\n",
       "      <td>0.311180</td>\n",
       "      <td>0.000000</td>\n",
       "      <td>0.000000</td>\n",
       "      <td>0.473831</td>\n",
       "      <td>0.181220</td>\n",
       "      <td>...</td>\n",
       "      <td>0.758571</td>\n",
       "      <td>0.000000</td>\n",
       "      <td>0.061869</td>\n",
       "      <td>0.026876</td>\n",
       "      <td>0.100691</td>\n",
       "      <td>0.140675</td>\n",
       "      <td>0.300576</td>\n",
       "      <td>0.126526</td>\n",
       "      <td>0.000000</td>\n",
       "      <td>0.424134</td>\n",
       "    </tr>\n",
       "    <tr>\n",
       "      <th>3</th>\n",
       "      <td>34.373239</td>\n",
       "      <td>20.765661</td>\n",
       "      <td>18.734947</td>\n",
       "      <td>22.366394</td>\n",
       "      <td>19.228431</td>\n",
       "      <td>11.020365</td>\n",
       "      <td>25.394607</td>\n",
       "      <td>17.671327</td>\n",
       "      <td>32.903100</td>\n",
       "      <td>38.157569</td>\n",
       "      <td>...</td>\n",
       "      <td>23.769167</td>\n",
       "      <td>20.142132</td>\n",
       "      <td>20.063257</td>\n",
       "      <td>16.575379</td>\n",
       "      <td>18.783516</td>\n",
       "      <td>21.631293</td>\n",
       "      <td>28.006120</td>\n",
       "      <td>28.731717</td>\n",
       "      <td>16.679597</td>\n",
       "      <td>28.866042</td>\n",
       "    </tr>\n",
       "    <tr>\n",
       "      <th>4</th>\n",
       "      <td>4.379337</td>\n",
       "      <td>4.227521</td>\n",
       "      <td>2.551825</td>\n",
       "      <td>3.603764</td>\n",
       "      <td>2.948976</td>\n",
       "      <td>2.405183</td>\n",
       "      <td>3.613642</td>\n",
       "      <td>2.573935</td>\n",
       "      <td>3.483817</td>\n",
       "      <td>3.609830</td>\n",
       "      <td>...</td>\n",
       "      <td>1.593009</td>\n",
       "      <td>1.563377</td>\n",
       "      <td>1.648571</td>\n",
       "      <td>2.231466</td>\n",
       "      <td>2.040326</td>\n",
       "      <td>2.161741</td>\n",
       "      <td>1.275352</td>\n",
       "      <td>1.184766</td>\n",
       "      <td>1.735579</td>\n",
       "      <td>1.500363</td>\n",
       "    </tr>\n",
       "    <tr>\n",
       "      <th>5</th>\n",
       "      <td>3.957119</td>\n",
       "      <td>3.520794</td>\n",
       "      <td>2.037805</td>\n",
       "      <td>3.487035</td>\n",
       "      <td>2.177235</td>\n",
       "      <td>0.999693</td>\n",
       "      <td>3.481555</td>\n",
       "      <td>1.747568</td>\n",
       "      <td>3.741580</td>\n",
       "      <td>3.560650</td>\n",
       "      <td>...</td>\n",
       "      <td>0.583488</td>\n",
       "      <td>0.797376</td>\n",
       "      <td>0.607141</td>\n",
       "      <td>0.575555</td>\n",
       "      <td>0.606445</td>\n",
       "      <td>0.683625</td>\n",
       "      <td>0.495084</td>\n",
       "      <td>0.761265</td>\n",
       "      <td>0.766482</td>\n",
       "      <td>0.468859</td>\n",
       "    </tr>\n",
       "  </tbody>\n",
       "</table>\n",
       "<p>5 rows × 524 columns</p>\n",
       "</div>"
      ],
      "text/plain": [
       "       8 pcw      8 pcw      8 pcw      8 pcw      8 pcw      8 pcw  \\\n",
       "0                                                                     \n",
       "1  36.447128  24.251253  19.330479  27.668607  19.998231  14.680673   \n",
       "2   0.044081   0.067338   0.000000   0.145466   0.185188   0.311180   \n",
       "3  34.373239  20.765661  18.734947  22.366394  19.228431  11.020365   \n",
       "4   4.379337   4.227521   2.551825   3.603764   2.948976   2.405183   \n",
       "5   3.957119   3.520794   2.037805   3.487035   2.177235   0.999693   \n",
       "\n",
       "       8 pcw      8 pcw      8 pcw      8 pcw    ...         40 yrs  \\\n",
       "0                                                ...                  \n",
       "1  27.548101  16.580183  44.587799  44.943915    ...       2.320932   \n",
       "2   0.000000   0.000000   0.473831   0.181220    ...       0.758571   \n",
       "3  25.394607  17.671327  32.903100  38.157569    ...      23.769167   \n",
       "4   3.613642   2.573935   3.483817   3.609830    ...       1.593009   \n",
       "5   3.481555   1.747568   3.741580   3.560650    ...       0.583488   \n",
       "\n",
       "      40 yrs     40 yrs     40 yrs     40 yrs     40 yrs     40 yrs  \\\n",
       "0                                                                     \n",
       "1   1.781548   2.277359   1.832737   1.555696   2.081944   3.484685   \n",
       "2   0.000000   0.061869   0.026876   0.100691   0.140675   0.300576   \n",
       "3  20.142132  20.063257  16.575379  18.783516  21.631293  28.006120   \n",
       "4   1.563377   1.648571   2.231466   2.040326   2.161741   1.275352   \n",
       "5   0.797376   0.607141   0.575555   0.606445   0.683625   0.495084   \n",
       "\n",
       "      40 yrs     40 yrs     40 yrs  \n",
       "0                                   \n",
       "1   4.816781   3.034464   3.082820  \n",
       "2   0.126526   0.000000   0.424134  \n",
       "3  28.731717  16.679597  28.866042  \n",
       "4   1.184766   1.735579   1.500363  \n",
       "5   0.761265   0.766482   0.468859  \n",
       "\n",
       "[5 rows x 524 columns]"
      ]
     },
     "execution_count": 16,
     "metadata": {},
     "output_type": "execute_result"
    }
   ],
   "source": [
    "matrix.head()"
   ]
  },
  {
   "cell_type": "markdown",
   "metadata": {},
   "source": [
    "# Map Gene to Row"
   ]
  },
  {
   "cell_type": "code",
   "execution_count": 17,
   "metadata": {
    "collapsed": true
   },
   "outputs": [],
   "source": [
    "matrix.index = gene_meta['gene_symbol']"
   ]
  },
  {
   "cell_type": "code",
   "execution_count": 18,
   "metadata": {
    "collapsed": true
   },
   "outputs": [],
   "source": [
    "matrix.index.name = ''"
   ]
  },
  {
   "cell_type": "code",
   "execution_count": 19,
   "metadata": {},
   "outputs": [
    {
     "data": {
      "text/html": [
       "<div>\n",
       "<style scoped>\n",
       "    .dataframe tbody tr th:only-of-type {\n",
       "        vertical-align: middle;\n",
       "    }\n",
       "\n",
       "    .dataframe tbody tr th {\n",
       "        vertical-align: top;\n",
       "    }\n",
       "\n",
       "    .dataframe thead th {\n",
       "        text-align: right;\n",
       "    }\n",
       "</style>\n",
       "<table border=\"1\" class=\"dataframe\">\n",
       "  <thead>\n",
       "    <tr style=\"text-align: right;\">\n",
       "      <th></th>\n",
       "      <th>8 pcw</th>\n",
       "      <th>8 pcw</th>\n",
       "      <th>8 pcw</th>\n",
       "      <th>8 pcw</th>\n",
       "      <th>8 pcw</th>\n",
       "      <th>8 pcw</th>\n",
       "      <th>8 pcw</th>\n",
       "      <th>8 pcw</th>\n",
       "      <th>8 pcw</th>\n",
       "      <th>8 pcw</th>\n",
       "      <th>...</th>\n",
       "      <th>40 yrs</th>\n",
       "      <th>40 yrs</th>\n",
       "      <th>40 yrs</th>\n",
       "      <th>40 yrs</th>\n",
       "      <th>40 yrs</th>\n",
       "      <th>40 yrs</th>\n",
       "      <th>40 yrs</th>\n",
       "      <th>40 yrs</th>\n",
       "      <th>40 yrs</th>\n",
       "      <th>40 yrs</th>\n",
       "    </tr>\n",
       "    <tr>\n",
       "      <th></th>\n",
       "      <th></th>\n",
       "      <th></th>\n",
       "      <th></th>\n",
       "      <th></th>\n",
       "      <th></th>\n",
       "      <th></th>\n",
       "      <th></th>\n",
       "      <th></th>\n",
       "      <th></th>\n",
       "      <th></th>\n",
       "      <th></th>\n",
       "      <th></th>\n",
       "      <th></th>\n",
       "      <th></th>\n",
       "      <th></th>\n",
       "      <th></th>\n",
       "      <th></th>\n",
       "      <th></th>\n",
       "      <th></th>\n",
       "      <th></th>\n",
       "      <th></th>\n",
       "    </tr>\n",
       "  </thead>\n",
       "  <tbody>\n",
       "    <tr>\n",
       "      <th>TSPAN6</th>\n",
       "      <td>36.447128</td>\n",
       "      <td>24.251253</td>\n",
       "      <td>19.330479</td>\n",
       "      <td>27.668607</td>\n",
       "      <td>19.998231</td>\n",
       "      <td>14.680673</td>\n",
       "      <td>27.548101</td>\n",
       "      <td>16.580183</td>\n",
       "      <td>44.587799</td>\n",
       "      <td>44.943915</td>\n",
       "      <td>...</td>\n",
       "      <td>2.320932</td>\n",
       "      <td>1.781548</td>\n",
       "      <td>2.277359</td>\n",
       "      <td>1.832737</td>\n",
       "      <td>1.555696</td>\n",
       "      <td>2.081944</td>\n",
       "      <td>3.484685</td>\n",
       "      <td>4.816781</td>\n",
       "      <td>3.034464</td>\n",
       "      <td>3.082820</td>\n",
       "    </tr>\n",
       "    <tr>\n",
       "      <th>TNMD</th>\n",
       "      <td>0.044081</td>\n",
       "      <td>0.067338</td>\n",
       "      <td>0.000000</td>\n",
       "      <td>0.145466</td>\n",
       "      <td>0.185188</td>\n",
       "      <td>0.311180</td>\n",
       "      <td>0.000000</td>\n",
       "      <td>0.000000</td>\n",
       "      <td>0.473831</td>\n",
       "      <td>0.181220</td>\n",
       "      <td>...</td>\n",
       "      <td>0.758571</td>\n",
       "      <td>0.000000</td>\n",
       "      <td>0.061869</td>\n",
       "      <td>0.026876</td>\n",
       "      <td>0.100691</td>\n",
       "      <td>0.140675</td>\n",
       "      <td>0.300576</td>\n",
       "      <td>0.126526</td>\n",
       "      <td>0.000000</td>\n",
       "      <td>0.424134</td>\n",
       "    </tr>\n",
       "    <tr>\n",
       "      <th>DPM1</th>\n",
       "      <td>34.373239</td>\n",
       "      <td>20.765661</td>\n",
       "      <td>18.734947</td>\n",
       "      <td>22.366394</td>\n",
       "      <td>19.228431</td>\n",
       "      <td>11.020365</td>\n",
       "      <td>25.394607</td>\n",
       "      <td>17.671327</td>\n",
       "      <td>32.903100</td>\n",
       "      <td>38.157569</td>\n",
       "      <td>...</td>\n",
       "      <td>23.769167</td>\n",
       "      <td>20.142132</td>\n",
       "      <td>20.063257</td>\n",
       "      <td>16.575379</td>\n",
       "      <td>18.783516</td>\n",
       "      <td>21.631293</td>\n",
       "      <td>28.006120</td>\n",
       "      <td>28.731717</td>\n",
       "      <td>16.679597</td>\n",
       "      <td>28.866042</td>\n",
       "    </tr>\n",
       "    <tr>\n",
       "      <th>SCYL3</th>\n",
       "      <td>4.379337</td>\n",
       "      <td>4.227521</td>\n",
       "      <td>2.551825</td>\n",
       "      <td>3.603764</td>\n",
       "      <td>2.948976</td>\n",
       "      <td>2.405183</td>\n",
       "      <td>3.613642</td>\n",
       "      <td>2.573935</td>\n",
       "      <td>3.483817</td>\n",
       "      <td>3.609830</td>\n",
       "      <td>...</td>\n",
       "      <td>1.593009</td>\n",
       "      <td>1.563377</td>\n",
       "      <td>1.648571</td>\n",
       "      <td>2.231466</td>\n",
       "      <td>2.040326</td>\n",
       "      <td>2.161741</td>\n",
       "      <td>1.275352</td>\n",
       "      <td>1.184766</td>\n",
       "      <td>1.735579</td>\n",
       "      <td>1.500363</td>\n",
       "    </tr>\n",
       "    <tr>\n",
       "      <th>C1orf112</th>\n",
       "      <td>3.957119</td>\n",
       "      <td>3.520794</td>\n",
       "      <td>2.037805</td>\n",
       "      <td>3.487035</td>\n",
       "      <td>2.177235</td>\n",
       "      <td>0.999693</td>\n",
       "      <td>3.481555</td>\n",
       "      <td>1.747568</td>\n",
       "      <td>3.741580</td>\n",
       "      <td>3.560650</td>\n",
       "      <td>...</td>\n",
       "      <td>0.583488</td>\n",
       "      <td>0.797376</td>\n",
       "      <td>0.607141</td>\n",
       "      <td>0.575555</td>\n",
       "      <td>0.606445</td>\n",
       "      <td>0.683625</td>\n",
       "      <td>0.495084</td>\n",
       "      <td>0.761265</td>\n",
       "      <td>0.766482</td>\n",
       "      <td>0.468859</td>\n",
       "    </tr>\n",
       "  </tbody>\n",
       "</table>\n",
       "<p>5 rows × 524 columns</p>\n",
       "</div>"
      ],
      "text/plain": [
       "              8 pcw      8 pcw      8 pcw      8 pcw      8 pcw      8 pcw  \\\n",
       "                                                                             \n",
       "TSPAN6    36.447128  24.251253  19.330479  27.668607  19.998231  14.680673   \n",
       "TNMD       0.044081   0.067338   0.000000   0.145466   0.185188   0.311180   \n",
       "DPM1      34.373239  20.765661  18.734947  22.366394  19.228431  11.020365   \n",
       "SCYL3      4.379337   4.227521   2.551825   3.603764   2.948976   2.405183   \n",
       "C1orf112   3.957119   3.520794   2.037805   3.487035   2.177235   0.999693   \n",
       "\n",
       "              8 pcw      8 pcw      8 pcw      8 pcw    ...         40 yrs  \\\n",
       "                                                        ...                  \n",
       "TSPAN6    27.548101  16.580183  44.587799  44.943915    ...       2.320932   \n",
       "TNMD       0.000000   0.000000   0.473831   0.181220    ...       0.758571   \n",
       "DPM1      25.394607  17.671327  32.903100  38.157569    ...      23.769167   \n",
       "SCYL3      3.613642   2.573935   3.483817   3.609830    ...       1.593009   \n",
       "C1orf112   3.481555   1.747568   3.741580   3.560650    ...       0.583488   \n",
       "\n",
       "             40 yrs     40 yrs     40 yrs     40 yrs     40 yrs     40 yrs  \\\n",
       "                                                                             \n",
       "TSPAN6     1.781548   2.277359   1.832737   1.555696   2.081944   3.484685   \n",
       "TNMD       0.000000   0.061869   0.026876   0.100691   0.140675   0.300576   \n",
       "DPM1      20.142132  20.063257  16.575379  18.783516  21.631293  28.006120   \n",
       "SCYL3      1.563377   1.648571   2.231466   2.040326   2.161741   1.275352   \n",
       "C1orf112   0.797376   0.607141   0.575555   0.606445   0.683625   0.495084   \n",
       "\n",
       "             40 yrs     40 yrs     40 yrs  \n",
       "                                           \n",
       "TSPAN6     4.816781   3.034464   3.082820  \n",
       "TNMD       0.126526   0.000000   0.424134  \n",
       "DPM1      28.731717  16.679597  28.866042  \n",
       "SCYL3      1.184766   1.735579   1.500363  \n",
       "C1orf112   0.761265   0.766482   0.468859  \n",
       "\n",
       "[5 rows x 524 columns]"
      ]
     },
     "execution_count": 19,
     "metadata": {},
     "output_type": "execute_result"
    }
   ],
   "source": [
    "matrix.head()"
   ]
  },
  {
   "cell_type": "markdown",
   "metadata": {},
   "source": [
    "# Save Unfiltered Matrix to File"
   ]
  },
  {
   "cell_type": "code",
   "execution_count": 20,
   "metadata": {
    "collapsed": true
   },
   "outputs": [],
   "source": [
    "filename = path+'aba_dev_rnaseq_age_matrix_unfilltered_%s.tsv.zip'% str(datetime.date.today())[0:7].replace('-', '_')\n",
    "matrix.to_csv(filename, sep='\\t', compression='gzip')"
   ]
  },
  {
   "cell_type": "markdown",
   "metadata": {},
   "source": [
    "# Filtered"
   ]
  },
  {
   "cell_type": "code",
   "execution_count": 256,
   "metadata": {
    "collapsed": true
   },
   "outputs": [],
   "source": [
    "normalized_matrix = matrix.copy()"
   ]
  },
  {
   "cell_type": "code",
   "execution_count": 257,
   "metadata": {},
   "outputs": [
    {
     "data": {
      "text/html": [
       "<div>\n",
       "<style scoped>\n",
       "    .dataframe tbody tr th:only-of-type {\n",
       "        vertical-align: middle;\n",
       "    }\n",
       "\n",
       "    .dataframe tbody tr th {\n",
       "        vertical-align: top;\n",
       "    }\n",
       "\n",
       "    .dataframe thead th {\n",
       "        text-align: right;\n",
       "    }\n",
       "</style>\n",
       "<table border=\"1\" class=\"dataframe\">\n",
       "  <thead>\n",
       "    <tr style=\"text-align: right;\">\n",
       "      <th></th>\n",
       "      <th>8 pcw</th>\n",
       "      <th>8 pcw</th>\n",
       "      <th>8 pcw</th>\n",
       "      <th>8 pcw</th>\n",
       "      <th>8 pcw</th>\n",
       "      <th>8 pcw</th>\n",
       "      <th>8 pcw</th>\n",
       "      <th>8 pcw</th>\n",
       "      <th>8 pcw</th>\n",
       "      <th>8 pcw</th>\n",
       "      <th>...</th>\n",
       "      <th>40 yrs</th>\n",
       "      <th>40 yrs</th>\n",
       "      <th>40 yrs</th>\n",
       "      <th>40 yrs</th>\n",
       "      <th>40 yrs</th>\n",
       "      <th>40 yrs</th>\n",
       "      <th>40 yrs</th>\n",
       "      <th>40 yrs</th>\n",
       "      <th>40 yrs</th>\n",
       "      <th>40 yrs</th>\n",
       "    </tr>\n",
       "    <tr>\n",
       "      <th></th>\n",
       "      <th></th>\n",
       "      <th></th>\n",
       "      <th></th>\n",
       "      <th></th>\n",
       "      <th></th>\n",
       "      <th></th>\n",
       "      <th></th>\n",
       "      <th></th>\n",
       "      <th></th>\n",
       "      <th></th>\n",
       "      <th></th>\n",
       "      <th></th>\n",
       "      <th></th>\n",
       "      <th></th>\n",
       "      <th></th>\n",
       "      <th></th>\n",
       "      <th></th>\n",
       "      <th></th>\n",
       "      <th></th>\n",
       "      <th></th>\n",
       "      <th></th>\n",
       "    </tr>\n",
       "  </thead>\n",
       "  <tbody>\n",
       "    <tr>\n",
       "      <th>TSPAN6</th>\n",
       "      <td>36.447128</td>\n",
       "      <td>24.251253</td>\n",
       "      <td>19.330479</td>\n",
       "      <td>27.668607</td>\n",
       "      <td>19.998231</td>\n",
       "      <td>14.680673</td>\n",
       "      <td>27.548101</td>\n",
       "      <td>16.580183</td>\n",
       "      <td>44.587799</td>\n",
       "      <td>44.943915</td>\n",
       "      <td>...</td>\n",
       "      <td>2.320932</td>\n",
       "      <td>1.781548</td>\n",
       "      <td>2.277359</td>\n",
       "      <td>1.832737</td>\n",
       "      <td>1.555696</td>\n",
       "      <td>2.081944</td>\n",
       "      <td>3.484685</td>\n",
       "      <td>4.816781</td>\n",
       "      <td>3.034464</td>\n",
       "      <td>3.082820</td>\n",
       "    </tr>\n",
       "    <tr>\n",
       "      <th>TNMD</th>\n",
       "      <td>0.044081</td>\n",
       "      <td>0.067338</td>\n",
       "      <td>0.000000</td>\n",
       "      <td>0.145466</td>\n",
       "      <td>0.185188</td>\n",
       "      <td>0.311180</td>\n",
       "      <td>0.000000</td>\n",
       "      <td>0.000000</td>\n",
       "      <td>0.473831</td>\n",
       "      <td>0.181220</td>\n",
       "      <td>...</td>\n",
       "      <td>0.758571</td>\n",
       "      <td>0.000000</td>\n",
       "      <td>0.061869</td>\n",
       "      <td>0.026876</td>\n",
       "      <td>0.100691</td>\n",
       "      <td>0.140675</td>\n",
       "      <td>0.300576</td>\n",
       "      <td>0.126526</td>\n",
       "      <td>0.000000</td>\n",
       "      <td>0.424134</td>\n",
       "    </tr>\n",
       "    <tr>\n",
       "      <th>DPM1</th>\n",
       "      <td>34.373239</td>\n",
       "      <td>20.765661</td>\n",
       "      <td>18.734947</td>\n",
       "      <td>22.366394</td>\n",
       "      <td>19.228431</td>\n",
       "      <td>11.020365</td>\n",
       "      <td>25.394607</td>\n",
       "      <td>17.671327</td>\n",
       "      <td>32.903100</td>\n",
       "      <td>38.157569</td>\n",
       "      <td>...</td>\n",
       "      <td>23.769167</td>\n",
       "      <td>20.142132</td>\n",
       "      <td>20.063257</td>\n",
       "      <td>16.575379</td>\n",
       "      <td>18.783516</td>\n",
       "      <td>21.631293</td>\n",
       "      <td>28.006120</td>\n",
       "      <td>28.731717</td>\n",
       "      <td>16.679597</td>\n",
       "      <td>28.866042</td>\n",
       "    </tr>\n",
       "    <tr>\n",
       "      <th>SCYL3</th>\n",
       "      <td>4.379337</td>\n",
       "      <td>4.227521</td>\n",
       "      <td>2.551825</td>\n",
       "      <td>3.603764</td>\n",
       "      <td>2.948976</td>\n",
       "      <td>2.405183</td>\n",
       "      <td>3.613642</td>\n",
       "      <td>2.573935</td>\n",
       "      <td>3.483817</td>\n",
       "      <td>3.609830</td>\n",
       "      <td>...</td>\n",
       "      <td>1.593009</td>\n",
       "      <td>1.563377</td>\n",
       "      <td>1.648571</td>\n",
       "      <td>2.231466</td>\n",
       "      <td>2.040326</td>\n",
       "      <td>2.161741</td>\n",
       "      <td>1.275352</td>\n",
       "      <td>1.184766</td>\n",
       "      <td>1.735579</td>\n",
       "      <td>1.500363</td>\n",
       "    </tr>\n",
       "    <tr>\n",
       "      <th>C1orf112</th>\n",
       "      <td>3.957119</td>\n",
       "      <td>3.520794</td>\n",
       "      <td>2.037805</td>\n",
       "      <td>3.487035</td>\n",
       "      <td>2.177235</td>\n",
       "      <td>0.999693</td>\n",
       "      <td>3.481555</td>\n",
       "      <td>1.747568</td>\n",
       "      <td>3.741580</td>\n",
       "      <td>3.560650</td>\n",
       "      <td>...</td>\n",
       "      <td>0.583488</td>\n",
       "      <td>0.797376</td>\n",
       "      <td>0.607141</td>\n",
       "      <td>0.575555</td>\n",
       "      <td>0.606445</td>\n",
       "      <td>0.683625</td>\n",
       "      <td>0.495084</td>\n",
       "      <td>0.761265</td>\n",
       "      <td>0.766482</td>\n",
       "      <td>0.468859</td>\n",
       "    </tr>\n",
       "  </tbody>\n",
       "</table>\n",
       "<p>5 rows × 524 columns</p>\n",
       "</div>"
      ],
      "text/plain": [
       "              8 pcw      8 pcw      8 pcw      8 pcw      8 pcw      8 pcw  \\\n",
       "                                                                             \n",
       "TSPAN6    36.447128  24.251253  19.330479  27.668607  19.998231  14.680673   \n",
       "TNMD       0.044081   0.067338   0.000000   0.145466   0.185188   0.311180   \n",
       "DPM1      34.373239  20.765661  18.734947  22.366394  19.228431  11.020365   \n",
       "SCYL3      4.379337   4.227521   2.551825   3.603764   2.948976   2.405183   \n",
       "C1orf112   3.957119   3.520794   2.037805   3.487035   2.177235   0.999693   \n",
       "\n",
       "              8 pcw      8 pcw      8 pcw      8 pcw    ...         40 yrs  \\\n",
       "                                                        ...                  \n",
       "TSPAN6    27.548101  16.580183  44.587799  44.943915    ...       2.320932   \n",
       "TNMD       0.000000   0.000000   0.473831   0.181220    ...       0.758571   \n",
       "DPM1      25.394607  17.671327  32.903100  38.157569    ...      23.769167   \n",
       "SCYL3      3.613642   2.573935   3.483817   3.609830    ...       1.593009   \n",
       "C1orf112   3.481555   1.747568   3.741580   3.560650    ...       0.583488   \n",
       "\n",
       "             40 yrs     40 yrs     40 yrs     40 yrs     40 yrs     40 yrs  \\\n",
       "                                                                             \n",
       "TSPAN6     1.781548   2.277359   1.832737   1.555696   2.081944   3.484685   \n",
       "TNMD       0.000000   0.061869   0.026876   0.100691   0.140675   0.300576   \n",
       "DPM1      20.142132  20.063257  16.575379  18.783516  21.631293  28.006120   \n",
       "SCYL3      1.563377   1.648571   2.231466   2.040326   2.161741   1.275352   \n",
       "C1orf112   0.797376   0.607141   0.575555   0.606445   0.683625   0.495084   \n",
       "\n",
       "             40 yrs     40 yrs     40 yrs  \n",
       "                                           \n",
       "TSPAN6     4.816781   3.034464   3.082820  \n",
       "TNMD       0.126526   0.000000   0.424134  \n",
       "DPM1      28.731717  16.679597  28.866042  \n",
       "SCYL3      1.184766   1.735579   1.500363  \n",
       "C1orf112   0.761265   0.766482   0.468859  \n",
       "\n",
       "[5 rows x 524 columns]"
      ]
     },
     "execution_count": 257,
     "metadata": {},
     "output_type": "execute_result"
    }
   ],
   "source": [
    "normalized_matrix.head()"
   ]
  },
  {
   "cell_type": "code",
   "execution_count": 258,
   "metadata": {},
   "outputs": [
    {
     "data": {
      "text/plain": [
       "(52376, 524)"
      ]
     },
     "execution_count": 258,
     "metadata": {},
     "output_type": "execute_result"
    }
   ],
   "source": [
    "normalized_matrix.shape"
   ]
  },
  {
   "cell_type": "markdown",
   "metadata": {},
   "source": [
    "# Remove any data with more than 95% missing and imput remaining mssing values to matrix mean"
   ]
  },
  {
   "cell_type": "code",
   "execution_count": 259,
   "metadata": {
    "collapsed": true
   },
   "outputs": [],
   "source": [
    "normalized_matrix = mf.removeAndImpute(normalized_matrix)"
   ]
  },
  {
   "cell_type": "code",
   "execution_count": 260,
   "metadata": {},
   "outputs": [
    {
     "data": {
      "text/plain": [
       "(38855, 524)"
      ]
     },
     "execution_count": 260,
     "metadata": {},
     "output_type": "execute_result"
    }
   ],
   "source": [
    "normalized_matrix.shape"
   ]
  },
  {
   "cell_type": "markdown",
   "metadata": {},
   "source": [
    "# Log2 Transform"
   ]
  },
  {
   "cell_type": "code",
   "execution_count": 261,
   "metadata": {
    "collapsed": true
   },
   "outputs": [],
   "source": [
    "normalized_matrix = mf.log2(normalized_matrix)"
   ]
  },
  {
   "cell_type": "code",
   "execution_count": 262,
   "metadata": {},
   "outputs": [
    {
     "data": {
      "text/html": [
       "<div>\n",
       "<style scoped>\n",
       "    .dataframe tbody tr th:only-of-type {\n",
       "        vertical-align: middle;\n",
       "    }\n",
       "\n",
       "    .dataframe tbody tr th {\n",
       "        vertical-align: top;\n",
       "    }\n",
       "\n",
       "    .dataframe thead th {\n",
       "        text-align: right;\n",
       "    }\n",
       "</style>\n",
       "<table border=\"1\" class=\"dataframe\">\n",
       "  <thead>\n",
       "    <tr style=\"text-align: right;\">\n",
       "      <th></th>\n",
       "      <th>8 pcw</th>\n",
       "      <th>8 pcw</th>\n",
       "      <th>8 pcw</th>\n",
       "      <th>8 pcw</th>\n",
       "      <th>8 pcw</th>\n",
       "      <th>8 pcw</th>\n",
       "      <th>8 pcw</th>\n",
       "      <th>8 pcw</th>\n",
       "      <th>8 pcw</th>\n",
       "      <th>8 pcw</th>\n",
       "      <th>...</th>\n",
       "      <th>40 yrs</th>\n",
       "      <th>40 yrs</th>\n",
       "      <th>40 yrs</th>\n",
       "      <th>40 yrs</th>\n",
       "      <th>40 yrs</th>\n",
       "      <th>40 yrs</th>\n",
       "      <th>40 yrs</th>\n",
       "      <th>40 yrs</th>\n",
       "      <th>40 yrs</th>\n",
       "      <th>40 yrs</th>\n",
       "    </tr>\n",
       "  </thead>\n",
       "  <tbody>\n",
       "    <tr>\n",
       "      <th>TSPAN6</th>\n",
       "      <td>5.226783</td>\n",
       "      <td>4.658283</td>\n",
       "      <td>4.345572</td>\n",
       "      <td>4.841400</td>\n",
       "      <td>4.392196</td>\n",
       "      <td>3.970916</td>\n",
       "      <td>4.835323</td>\n",
       "      <td>4.135878</td>\n",
       "      <td>5.510576</td>\n",
       "      <td>5.521802</td>\n",
       "      <td>...</td>\n",
       "      <td>1.731588</td>\n",
       "      <td>1.475888</td>\n",
       "      <td>1.712534</td>\n",
       "      <td>1.502197</td>\n",
       "      <td>1.353716</td>\n",
       "      <td>1.623841</td>\n",
       "      <td>2.165007</td>\n",
       "      <td>2.540221</td>\n",
       "      <td>2.012377</td>\n",
       "      <td>2.029566</td>\n",
       "    </tr>\n",
       "    <tr>\n",
       "      <th>TNMD</th>\n",
       "      <td>0.062234</td>\n",
       "      <td>0.094017</td>\n",
       "      <td>0.153085</td>\n",
       "      <td>0.195935</td>\n",
       "      <td>0.245116</td>\n",
       "      <td>0.390866</td>\n",
       "      <td>0.153085</td>\n",
       "      <td>0.153085</td>\n",
       "      <td>0.559571</td>\n",
       "      <td>0.240278</td>\n",
       "      <td>...</td>\n",
       "      <td>0.814404</td>\n",
       "      <td>0.153085</td>\n",
       "      <td>0.086606</td>\n",
       "      <td>0.038262</td>\n",
       "      <td>0.138410</td>\n",
       "      <td>0.189888</td>\n",
       "      <td>0.379151</td>\n",
       "      <td>0.171881</td>\n",
       "      <td>0.153085</td>\n",
       "      <td>0.510085</td>\n",
       "    </tr>\n",
       "    <tr>\n",
       "      <th>DPM1</th>\n",
       "      <td>5.144586</td>\n",
       "      <td>4.443982</td>\n",
       "      <td>4.302681</td>\n",
       "      <td>4.546363</td>\n",
       "      <td>4.338313</td>\n",
       "      <td>3.587409</td>\n",
       "      <td>4.722171</td>\n",
       "      <td>4.222753</td>\n",
       "      <td>5.083345</td>\n",
       "      <td>5.291219</td>\n",
       "      <td>...</td>\n",
       "      <td>4.630473</td>\n",
       "      <td>4.402049</td>\n",
       "      <td>4.396657</td>\n",
       "      <td>4.135484</td>\n",
       "      <td>4.306227</td>\n",
       "      <td>4.500247</td>\n",
       "      <td>4.858285</td>\n",
       "      <td>4.893931</td>\n",
       "      <td>4.144013</td>\n",
       "      <td>4.900434</td>\n",
       "    </tr>\n",
       "    <tr>\n",
       "      <th>SCYL3</th>\n",
       "      <td>2.427428</td>\n",
       "      <td>2.386127</td>\n",
       "      <td>1.828561</td>\n",
       "      <td>2.202814</td>\n",
       "      <td>1.981479</td>\n",
       "      <td>1.767732</td>\n",
       "      <td>2.205906</td>\n",
       "      <td>1.837513</td>\n",
       "      <td>2.164727</td>\n",
       "      <td>2.204714</td>\n",
       "      <td>...</td>\n",
       "      <td>1.374627</td>\n",
       "      <td>1.358046</td>\n",
       "      <td>1.405214</td>\n",
       "      <td>1.692189</td>\n",
       "      <td>1.604226</td>\n",
       "      <td>1.660719</td>\n",
       "      <td>1.186090</td>\n",
       "      <td>1.127479</td>\n",
       "      <td>1.451846</td>\n",
       "      <td>1.322138</td>\n",
       "    </tr>\n",
       "    <tr>\n",
       "      <th>C1orf112</th>\n",
       "      <td>2.309502</td>\n",
       "      <td>2.176576</td>\n",
       "      <td>1.603029</td>\n",
       "      <td>2.165762</td>\n",
       "      <td>1.667772</td>\n",
       "      <td>0.999779</td>\n",
       "      <td>2.163999</td>\n",
       "      <td>1.458155</td>\n",
       "      <td>2.245368</td>\n",
       "      <td>2.189239</td>\n",
       "      <td>...</td>\n",
       "      <td>0.663106</td>\n",
       "      <td>0.845892</td>\n",
       "      <td>0.684497</td>\n",
       "      <td>0.655860</td>\n",
       "      <td>0.683872</td>\n",
       "      <td>0.751571</td>\n",
       "      <td>0.580227</td>\n",
       "      <td>0.816612</td>\n",
       "      <td>0.820879</td>\n",
       "      <td>0.554696</td>\n",
       "    </tr>\n",
       "  </tbody>\n",
       "</table>\n",
       "<p>5 rows × 524 columns</p>\n",
       "</div>"
      ],
      "text/plain": [
       "             8 pcw     8 pcw     8 pcw     8 pcw     8 pcw     8 pcw  \\\n",
       "TSPAN6    5.226783  4.658283  4.345572  4.841400  4.392196  3.970916   \n",
       "TNMD      0.062234  0.094017  0.153085  0.195935  0.245116  0.390866   \n",
       "DPM1      5.144586  4.443982  4.302681  4.546363  4.338313  3.587409   \n",
       "SCYL3     2.427428  2.386127  1.828561  2.202814  1.981479  1.767732   \n",
       "C1orf112  2.309502  2.176576  1.603029  2.165762  1.667772  0.999779   \n",
       "\n",
       "             8 pcw     8 pcw     8 pcw     8 pcw    ...       40 yrs  \\\n",
       "TSPAN6    4.835323  4.135878  5.510576  5.521802    ...     1.731588   \n",
       "TNMD      0.153085  0.153085  0.559571  0.240278    ...     0.814404   \n",
       "DPM1      4.722171  4.222753  5.083345  5.291219    ...     4.630473   \n",
       "SCYL3     2.205906  1.837513  2.164727  2.204714    ...     1.374627   \n",
       "C1orf112  2.163999  1.458155  2.245368  2.189239    ...     0.663106   \n",
       "\n",
       "            40 yrs    40 yrs    40 yrs    40 yrs    40 yrs    40 yrs  \\\n",
       "TSPAN6    1.475888  1.712534  1.502197  1.353716  1.623841  2.165007   \n",
       "TNMD      0.153085  0.086606  0.038262  0.138410  0.189888  0.379151   \n",
       "DPM1      4.402049  4.396657  4.135484  4.306227  4.500247  4.858285   \n",
       "SCYL3     1.358046  1.405214  1.692189  1.604226  1.660719  1.186090   \n",
       "C1orf112  0.845892  0.684497  0.655860  0.683872  0.751571  0.580227   \n",
       "\n",
       "            40 yrs    40 yrs    40 yrs  \n",
       "TSPAN6    2.540221  2.012377  2.029566  \n",
       "TNMD      0.171881  0.153085  0.510085  \n",
       "DPM1      4.893931  4.144013  4.900434  \n",
       "SCYL3     1.127479  1.451846  1.322138  \n",
       "C1orf112  0.816612  0.820879  0.554696  \n",
       "\n",
       "[5 rows x 524 columns]"
      ]
     },
     "execution_count": 262,
     "metadata": {},
     "output_type": "execute_result"
    }
   ],
   "source": [
    "normalized_matrix.head()"
   ]
  },
  {
   "cell_type": "markdown",
   "metadata": {},
   "source": [
    "# Normalize Matrix (Quantile Normalize the matrix for the columns)"
   ]
  },
  {
   "cell_type": "code",
   "execution_count": 263,
   "metadata": {},
   "outputs": [
    {
     "name": "stdout",
     "output_type": "stream",
     "text": [
      "Step 2/2 progress: 100%  524 Out of 524   \r"
     ]
    }
   ],
   "source": [
    "normalized_matrix = mf.quantileNormalize(normalized_matrix)"
   ]
  },
  {
   "cell_type": "code",
   "execution_count": 264,
   "metadata": {},
   "outputs": [
    {
     "data": {
      "text/html": [
       "<div>\n",
       "<style scoped>\n",
       "    .dataframe tbody tr th:only-of-type {\n",
       "        vertical-align: middle;\n",
       "    }\n",
       "\n",
       "    .dataframe tbody tr th {\n",
       "        vertical-align: top;\n",
       "    }\n",
       "\n",
       "    .dataframe thead th {\n",
       "        text-align: right;\n",
       "    }\n",
       "</style>\n",
       "<table border=\"1\" class=\"dataframe\">\n",
       "  <thead>\n",
       "    <tr style=\"text-align: right;\">\n",
       "      <th></th>\n",
       "      <th>8 pcw</th>\n",
       "      <th>8 pcw</th>\n",
       "      <th>8 pcw</th>\n",
       "      <th>8 pcw</th>\n",
       "      <th>8 pcw</th>\n",
       "      <th>8 pcw</th>\n",
       "      <th>8 pcw</th>\n",
       "      <th>8 pcw</th>\n",
       "      <th>8 pcw</th>\n",
       "      <th>8 pcw</th>\n",
       "      <th>...</th>\n",
       "      <th>40 yrs</th>\n",
       "      <th>40 yrs</th>\n",
       "      <th>40 yrs</th>\n",
       "      <th>40 yrs</th>\n",
       "      <th>40 yrs</th>\n",
       "      <th>40 yrs</th>\n",
       "      <th>40 yrs</th>\n",
       "      <th>40 yrs</th>\n",
       "      <th>40 yrs</th>\n",
       "      <th>40 yrs</th>\n",
       "    </tr>\n",
       "  </thead>\n",
       "  <tbody>\n",
       "    <tr>\n",
       "      <th>TSPAN6</th>\n",
       "      <td>4.946887</td>\n",
       "      <td>4.496292</td>\n",
       "      <td>4.171544</td>\n",
       "      <td>4.605324</td>\n",
       "      <td>4.208949</td>\n",
       "      <td>3.861627</td>\n",
       "      <td>4.613033</td>\n",
       "      <td>4.026760</td>\n",
       "      <td>5.252112</td>\n",
       "      <td>5.170083</td>\n",
       "      <td>...</td>\n",
       "      <td>1.881484</td>\n",
       "      <td>1.546679</td>\n",
       "      <td>1.694628</td>\n",
       "      <td>1.562609</td>\n",
       "      <td>1.373520</td>\n",
       "      <td>1.710180</td>\n",
       "      <td>2.387218</td>\n",
       "      <td>2.784525</td>\n",
       "      <td>1.949217</td>\n",
       "      <td>2.141495</td>\n",
       "    </tr>\n",
       "    <tr>\n",
       "      <th>TNMD</th>\n",
       "      <td>0.069855</td>\n",
       "      <td>0.105250</td>\n",
       "      <td>0.159660</td>\n",
       "      <td>0.220311</td>\n",
       "      <td>0.261020</td>\n",
       "      <td>0.390958</td>\n",
       "      <td>0.171967</td>\n",
       "      <td>0.168416</td>\n",
       "      <td>0.595886</td>\n",
       "      <td>0.254855</td>\n",
       "      <td>...</td>\n",
       "      <td>0.861962</td>\n",
       "      <td>0.132378</td>\n",
       "      <td>0.083479</td>\n",
       "      <td>0.040956</td>\n",
       "      <td>0.144317</td>\n",
       "      <td>0.203627</td>\n",
       "      <td>0.373074</td>\n",
       "      <td>0.170121</td>\n",
       "      <td>0.148534</td>\n",
       "      <td>0.515522</td>\n",
       "    </tr>\n",
       "    <tr>\n",
       "      <th>DPM1</th>\n",
       "      <td>4.844502</td>\n",
       "      <td>4.269782</td>\n",
       "      <td>4.125504</td>\n",
       "      <td>4.344710</td>\n",
       "      <td>4.155874</td>\n",
       "      <td>3.452939</td>\n",
       "      <td>4.490930</td>\n",
       "      <td>4.108773</td>\n",
       "      <td>4.838092</td>\n",
       "      <td>4.967244</td>\n",
       "      <td>...</td>\n",
       "      <td>4.517090</td>\n",
       "      <td>4.417961</td>\n",
       "      <td>4.429446</td>\n",
       "      <td>4.165658</td>\n",
       "      <td>4.334977</td>\n",
       "      <td>4.544859</td>\n",
       "      <td>4.681795</td>\n",
       "      <td>4.761670</td>\n",
       "      <td>4.174600</td>\n",
       "      <td>4.661932</td>\n",
       "    </tr>\n",
       "    <tr>\n",
       "      <th>SCYL3</th>\n",
       "      <td>2.214087</td>\n",
       "      <td>2.110741</td>\n",
       "      <td>1.685856</td>\n",
       "      <td>2.034293</td>\n",
       "      <td>1.745668</td>\n",
       "      <td>1.635089</td>\n",
       "      <td>2.034515</td>\n",
       "      <td>1.859603</td>\n",
       "      <td>2.001090</td>\n",
       "      <td>2.088049</td>\n",
       "      <td>...</td>\n",
       "      <td>1.508120</td>\n",
       "      <td>1.411003</td>\n",
       "      <td>1.372095</td>\n",
       "      <td>1.759209</td>\n",
       "      <td>1.637556</td>\n",
       "      <td>1.751145</td>\n",
       "      <td>1.342930</td>\n",
       "      <td>1.322765</td>\n",
       "      <td>1.338258</td>\n",
       "      <td>1.409954</td>\n",
       "    </tr>\n",
       "    <tr>\n",
       "      <th>C1orf112</th>\n",
       "      <td>2.105242</td>\n",
       "      <td>1.911024</td>\n",
       "      <td>1.473570</td>\n",
       "      <td>2.002650</td>\n",
       "      <td>1.475725</td>\n",
       "      <td>0.928149</td>\n",
       "      <td>1.994941</td>\n",
       "      <td>1.521599</td>\n",
       "      <td>2.077464</td>\n",
       "      <td>2.070888</td>\n",
       "      <td>...</td>\n",
       "      <td>0.687427</td>\n",
       "      <td>0.832202</td>\n",
       "      <td>0.661253</td>\n",
       "      <td>0.678436</td>\n",
       "      <td>0.700340</td>\n",
       "      <td>0.802339</td>\n",
       "      <td>0.597547</td>\n",
       "      <td>0.932114</td>\n",
       "      <td>0.725134</td>\n",
       "      <td>0.563731</td>\n",
       "    </tr>\n",
       "  </tbody>\n",
       "</table>\n",
       "<p>5 rows × 524 columns</p>\n",
       "</div>"
      ],
      "text/plain": [
       "             8 pcw     8 pcw     8 pcw     8 pcw     8 pcw     8 pcw  \\\n",
       "TSPAN6    4.946887  4.496292  4.171544  4.605324  4.208949  3.861627   \n",
       "TNMD      0.069855  0.105250  0.159660  0.220311  0.261020  0.390958   \n",
       "DPM1      4.844502  4.269782  4.125504  4.344710  4.155874  3.452939   \n",
       "SCYL3     2.214087  2.110741  1.685856  2.034293  1.745668  1.635089   \n",
       "C1orf112  2.105242  1.911024  1.473570  2.002650  1.475725  0.928149   \n",
       "\n",
       "             8 pcw     8 pcw     8 pcw     8 pcw    ...       40 yrs  \\\n",
       "TSPAN6    4.613033  4.026760  5.252112  5.170083    ...     1.881484   \n",
       "TNMD      0.171967  0.168416  0.595886  0.254855    ...     0.861962   \n",
       "DPM1      4.490930  4.108773  4.838092  4.967244    ...     4.517090   \n",
       "SCYL3     2.034515  1.859603  2.001090  2.088049    ...     1.508120   \n",
       "C1orf112  1.994941  1.521599  2.077464  2.070888    ...     0.687427   \n",
       "\n",
       "            40 yrs    40 yrs    40 yrs    40 yrs    40 yrs    40 yrs  \\\n",
       "TSPAN6    1.546679  1.694628  1.562609  1.373520  1.710180  2.387218   \n",
       "TNMD      0.132378  0.083479  0.040956  0.144317  0.203627  0.373074   \n",
       "DPM1      4.417961  4.429446  4.165658  4.334977  4.544859  4.681795   \n",
       "SCYL3     1.411003  1.372095  1.759209  1.637556  1.751145  1.342930   \n",
       "C1orf112  0.832202  0.661253  0.678436  0.700340  0.802339  0.597547   \n",
       "\n",
       "            40 yrs    40 yrs    40 yrs  \n",
       "TSPAN6    2.784525  1.949217  2.141495  \n",
       "TNMD      0.170121  0.148534  0.515522  \n",
       "DPM1      4.761670  4.174600  4.661932  \n",
       "SCYL3     1.322765  1.338258  1.409954  \n",
       "C1orf112  0.932114  0.725134  0.563731  \n",
       "\n",
       "[5 rows x 524 columns]"
      ]
     },
     "execution_count": 264,
     "metadata": {},
     "output_type": "execute_result"
    }
   ],
   "source": [
    "normalized_matrix.head()"
   ]
  },
  {
   "cell_type": "markdown",
   "metadata": {},
   "source": [
    "# Normalize Matrix (z-score the rows)"
   ]
  },
  {
   "cell_type": "code",
   "execution_count": 265,
   "metadata": {},
   "outputs": [
    {
     "name": "stdout",
     "output_type": "stream",
     "text": [
      "Progress: 100%  38855 Out of 38855   \r"
     ]
    }
   ],
   "source": [
    "mf.zscore(normalized_matrix, 'row')"
   ]
  },
  {
   "cell_type": "code",
   "execution_count": 266,
   "metadata": {},
   "outputs": [
    {
     "data": {
      "text/html": [
       "<div>\n",
       "<style scoped>\n",
       "    .dataframe tbody tr th:only-of-type {\n",
       "        vertical-align: middle;\n",
       "    }\n",
       "\n",
       "    .dataframe tbody tr th {\n",
       "        vertical-align: top;\n",
       "    }\n",
       "\n",
       "    .dataframe thead th {\n",
       "        text-align: right;\n",
       "    }\n",
       "</style>\n",
       "<table border=\"1\" class=\"dataframe\">\n",
       "  <thead>\n",
       "    <tr style=\"text-align: right;\">\n",
       "      <th></th>\n",
       "      <th>8 pcw</th>\n",
       "      <th>8 pcw</th>\n",
       "      <th>8 pcw</th>\n",
       "      <th>8 pcw</th>\n",
       "      <th>8 pcw</th>\n",
       "      <th>8 pcw</th>\n",
       "      <th>8 pcw</th>\n",
       "      <th>8 pcw</th>\n",
       "      <th>8 pcw</th>\n",
       "      <th>8 pcw</th>\n",
       "      <th>...</th>\n",
       "      <th>40 yrs</th>\n",
       "      <th>40 yrs</th>\n",
       "      <th>40 yrs</th>\n",
       "      <th>40 yrs</th>\n",
       "      <th>40 yrs</th>\n",
       "      <th>40 yrs</th>\n",
       "      <th>40 yrs</th>\n",
       "      <th>40 yrs</th>\n",
       "      <th>40 yrs</th>\n",
       "      <th>40 yrs</th>\n",
       "    </tr>\n",
       "  </thead>\n",
       "  <tbody>\n",
       "    <tr>\n",
       "      <th>TSPAN6</th>\n",
       "      <td>2.481762</td>\n",
       "      <td>1.964784</td>\n",
       "      <td>1.592192</td>\n",
       "      <td>2.089879</td>\n",
       "      <td>1.635108</td>\n",
       "      <td>1.236617</td>\n",
       "      <td>2.098723</td>\n",
       "      <td>1.426077</td>\n",
       "      <td>2.831955</td>\n",
       "      <td>2.737841</td>\n",
       "      <td>...</td>\n",
       "      <td>-1.035251</td>\n",
       "      <td>-1.419381</td>\n",
       "      <td>-1.249636</td>\n",
       "      <td>-1.401105</td>\n",
       "      <td>-1.618051</td>\n",
       "      <td>-1.231793</td>\n",
       "      <td>-0.455010</td>\n",
       "      <td>0.000830</td>\n",
       "      <td>-0.957539</td>\n",
       "      <td>-0.736934</td>\n",
       "    </tr>\n",
       "    <tr>\n",
       "      <th>TNMD</th>\n",
       "      <td>-1.050735</td>\n",
       "      <td>-0.530026</td>\n",
       "      <td>0.270423</td>\n",
       "      <td>1.162692</td>\n",
       "      <td>1.761577</td>\n",
       "      <td>3.673157</td>\n",
       "      <td>0.451471</td>\n",
       "      <td>0.399241</td>\n",
       "      <td>6.687950</td>\n",
       "      <td>1.670882</td>\n",
       "      <td>...</td>\n",
       "      <td>10.602326</td>\n",
       "      <td>-0.130935</td>\n",
       "      <td>-0.850314</td>\n",
       "      <td>-1.475883</td>\n",
       "      <td>0.044704</td>\n",
       "      <td>0.917248</td>\n",
       "      <td>3.410054</td>\n",
       "      <td>0.424322</td>\n",
       "      <td>0.106749</td>\n",
       "      <td>5.505684</td>\n",
       "    </tr>\n",
       "    <tr>\n",
       "      <th>DPM1</th>\n",
       "      <td>2.937816</td>\n",
       "      <td>1.566944</td>\n",
       "      <td>1.222799</td>\n",
       "      <td>1.745669</td>\n",
       "      <td>1.295240</td>\n",
       "      <td>-0.381462</td>\n",
       "      <td>2.094446</td>\n",
       "      <td>1.182890</td>\n",
       "      <td>2.922528</td>\n",
       "      <td>3.230593</td>\n",
       "      <td>...</td>\n",
       "      <td>2.156844</td>\n",
       "      <td>1.920394</td>\n",
       "      <td>1.947788</td>\n",
       "      <td>1.318577</td>\n",
       "      <td>1.722454</td>\n",
       "      <td>2.223082</td>\n",
       "      <td>2.549713</td>\n",
       "      <td>2.740238</td>\n",
       "      <td>1.339907</td>\n",
       "      <td>2.502334</td>\n",
       "    </tr>\n",
       "    <tr>\n",
       "      <th>SCYL3</th>\n",
       "      <td>1.972960</td>\n",
       "      <td>1.616378</td>\n",
       "      <td>0.150357</td>\n",
       "      <td>1.352602</td>\n",
       "      <td>0.356731</td>\n",
       "      <td>-0.024810</td>\n",
       "      <td>1.353369</td>\n",
       "      <td>0.749853</td>\n",
       "      <td>1.238037</td>\n",
       "      <td>1.538081</td>\n",
       "      <td>...</td>\n",
       "      <td>-0.462902</td>\n",
       "      <td>-0.797994</td>\n",
       "      <td>-0.932241</td>\n",
       "      <td>0.403453</td>\n",
       "      <td>-0.016298</td>\n",
       "      <td>0.375631</td>\n",
       "      <td>-1.032873</td>\n",
       "      <td>-1.102450</td>\n",
       "      <td>-1.048993</td>\n",
       "      <td>-0.801613</td>\n",
       "    </tr>\n",
       "    <tr>\n",
       "      <th>C1orf112</th>\n",
       "      <td>4.311829</td>\n",
       "      <td>3.661702</td>\n",
       "      <td>2.197364</td>\n",
       "      <td>3.968414</td>\n",
       "      <td>2.204577</td>\n",
       "      <td>0.371615</td>\n",
       "      <td>3.942609</td>\n",
       "      <td>2.358135</td>\n",
       "      <td>4.218845</td>\n",
       "      <td>4.196834</td>\n",
       "      <td>...</td>\n",
       "      <td>-0.434180</td>\n",
       "      <td>0.050440</td>\n",
       "      <td>-0.521796</td>\n",
       "      <td>-0.464277</td>\n",
       "      <td>-0.390956</td>\n",
       "      <td>-0.049522</td>\n",
       "      <td>-0.735048</td>\n",
       "      <td>0.384887</td>\n",
       "      <td>-0.307959</td>\n",
       "      <td>-0.848242</td>\n",
       "    </tr>\n",
       "  </tbody>\n",
       "</table>\n",
       "<p>5 rows × 524 columns</p>\n",
       "</div>"
      ],
      "text/plain": [
       "             8 pcw     8 pcw     8 pcw     8 pcw     8 pcw     8 pcw  \\\n",
       "TSPAN6    2.481762  1.964784  1.592192  2.089879  1.635108  1.236617   \n",
       "TNMD     -1.050735 -0.530026  0.270423  1.162692  1.761577  3.673157   \n",
       "DPM1      2.937816  1.566944  1.222799  1.745669  1.295240 -0.381462   \n",
       "SCYL3     1.972960  1.616378  0.150357  1.352602  0.356731 -0.024810   \n",
       "C1orf112  4.311829  3.661702  2.197364  3.968414  2.204577  0.371615   \n",
       "\n",
       "             8 pcw     8 pcw     8 pcw     8 pcw    ...        40 yrs  \\\n",
       "TSPAN6    2.098723  1.426077  2.831955  2.737841    ...     -1.035251   \n",
       "TNMD      0.451471  0.399241  6.687950  1.670882    ...     10.602326   \n",
       "DPM1      2.094446  1.182890  2.922528  3.230593    ...      2.156844   \n",
       "SCYL3     1.353369  0.749853  1.238037  1.538081    ...     -0.462902   \n",
       "C1orf112  3.942609  2.358135  4.218845  4.196834    ...     -0.434180   \n",
       "\n",
       "            40 yrs    40 yrs    40 yrs    40 yrs    40 yrs    40 yrs  \\\n",
       "TSPAN6   -1.419381 -1.249636 -1.401105 -1.618051 -1.231793 -0.455010   \n",
       "TNMD     -0.130935 -0.850314 -1.475883  0.044704  0.917248  3.410054   \n",
       "DPM1      1.920394  1.947788  1.318577  1.722454  2.223082  2.549713   \n",
       "SCYL3    -0.797994 -0.932241  0.403453 -0.016298  0.375631 -1.032873   \n",
       "C1orf112  0.050440 -0.521796 -0.464277 -0.390956 -0.049522 -0.735048   \n",
       "\n",
       "            40 yrs    40 yrs    40 yrs  \n",
       "TSPAN6    0.000830 -0.957539 -0.736934  \n",
       "TNMD      0.424322  0.106749  5.505684  \n",
       "DPM1      2.740238  1.339907  2.502334  \n",
       "SCYL3    -1.102450 -1.048993 -0.801613  \n",
       "C1orf112  0.384887 -0.307959 -0.848242  \n",
       "\n",
       "[5 rows x 524 columns]"
      ]
     },
     "execution_count": 266,
     "metadata": {},
     "output_type": "execute_result"
    }
   ],
   "source": [
    "normalized_matrix.head()"
   ]
  },
  {
   "cell_type": "markdown",
   "metadata": {},
   "source": [
    "# Merge Like Column (by taking the mean)"
   ]
  },
  {
   "cell_type": "code",
   "execution_count": 267,
   "metadata": {
    "collapsed": true
   },
   "outputs": [],
   "source": [
    "normalized_matrix = mf.merge(normalized_matrix, 'column', 'mean')"
   ]
  },
  {
   "cell_type": "code",
   "execution_count": 268,
   "metadata": {},
   "outputs": [
    {
     "data": {
      "text/plain": [
       "(38855, 31)"
      ]
     },
     "execution_count": 268,
     "metadata": {},
     "output_type": "execute_result"
    }
   ],
   "source": [
    "normalized_matrix.shape"
   ]
  },
  {
   "cell_type": "markdown",
   "metadata": {},
   "source": [
    "# Map Gene Symbols To Up-to-date Approved Gene Symbols"
   ]
  },
  {
   "cell_type": "code",
   "execution_count": 269,
   "metadata": {},
   "outputs": [
    {
     "name": "stdout",
     "output_type": "stream",
     "text": [
      "Progeres: 100%  38855 Out of 38855   \r"
     ]
    }
   ],
   "source": [
    "mf.mapgenesymbols(normalized_matrix)"
   ]
  },
  {
   "cell_type": "code",
   "execution_count": 270,
   "metadata": {},
   "outputs": [
    {
     "data": {
      "text/plain": [
       "(23269, 31)"
      ]
     },
     "execution_count": 270,
     "metadata": {},
     "output_type": "execute_result"
    }
   ],
   "source": [
    "normalized_matrix.shape"
   ]
  },
  {
   "cell_type": "markdown",
   "metadata": {},
   "source": [
    "# Merge Duplicate Genes By Rows"
   ]
  },
  {
   "cell_type": "code",
   "execution_count": 271,
   "metadata": {
    "collapsed": true
   },
   "outputs": [],
   "source": [
    "normalized_matrix = mf.merge(normalized_matrix, 'row', 'mean')"
   ]
  },
  {
   "cell_type": "code",
   "execution_count": 272,
   "metadata": {},
   "outputs": [
    {
     "data": {
      "text/plain": [
       "(22411, 31)"
      ]
     },
     "execution_count": 272,
     "metadata": {},
     "output_type": "execute_result"
    }
   ],
   "source": [
    "normalized_matrix.shape"
   ]
  },
  {
   "cell_type": "markdown",
   "metadata": {},
   "source": [
    "# Histogram of First Sample"
   ]
  },
  {
   "cell_type": "code",
   "execution_count": 273,
   "metadata": {},
   "outputs": [
    {
     "data": {
      "text/plain": [
       "<matplotlib.axes._subplots.AxesSubplot at 0x12ac34f28>"
      ]
     },
     "execution_count": 273,
     "metadata": {},
     "output_type": "execute_result"
    },
    {
     "data": {
      "image/png": "[encoded data removed]",
      "text/plain": [
       "<matplotlib.figure.Figure at 0x12cd2d4a8>"
      ]
     },
     "metadata": {},
     "output_type": "display_data"
    }
   ],
   "source": [
    "normalized_matrix[normalized_matrix.columns[0]].hist(bins=100)"
   ]
  },
  {
   "cell_type": "markdown",
   "metadata": {},
   "source": [
    "# Histogram of First Gene"
   ]
  },
  {
   "cell_type": "code",
   "execution_count": 274,
   "metadata": {},
   "outputs": [
    {
     "data": {
      "text/plain": [
       "<matplotlib.axes._subplots.AxesSubplot at 0x11a83f6d8>"
      ]
     },
     "execution_count": 274,
     "metadata": {},
     "output_type": "execute_result"
    },
    {
     "data": {
      "image/png": "[encoded data removed]",
      "text/plain": [
       "<matplotlib.figure.Figure at 0x11bb249b0>"
      ]
     },
     "metadata": {},
     "output_type": "display_data"
    }
   ],
   "source": [
    "normalized_matrix.loc[normalized_matrix.index[0]].hist(bins=50)"
   ]
  },
  {
   "cell_type": "markdown",
   "metadata": {},
   "source": [
    "# Save Filtered Matrix"
   ]
  },
  {
   "cell_type": "code",
   "execution_count": 275,
   "metadata": {
    "collapsed": true
   },
   "outputs": [],
   "source": [
    "filename = path+'aba_dev_rnaseq_age_matrix_filltered_%s.tsv.zip'% str(datetime.date.today())[0:7].replace('-', '_')\n",
    "normalized_matrix.to_csv(filename, sep='\\t', compression='gzip')"
   ]
  },
  {
   "cell_type": "markdown",
   "metadata": {},
   "source": [
    "# Create Gene List"
   ]
  },
  {
   "cell_type": "code",
   "execution_count": 276,
   "metadata": {},
   "outputs": [
    {
     "name": "stdout",
     "output_type": "stream",
     "text": [
      "Progeres: 100%  22411 Out of 22411   \r"
     ]
    }
   ],
   "source": [
    "gene_list = mf.createGeneList(normalized_matrix)"
   ]
  },
  {
   "cell_type": "code",
   "execution_count": 277,
   "metadata": {},
   "outputs": [
    {
     "data": {
      "text/html": [
       "<div>\n",
       "<style scoped>\n",
       "    .dataframe tbody tr th:only-of-type {\n",
       "        vertical-align: middle;\n",
       "    }\n",
       "\n",
       "    .dataframe tbody tr th {\n",
       "        vertical-align: top;\n",
       "    }\n",
       "\n",
       "    .dataframe thead th {\n",
       "        text-align: right;\n",
       "    }\n",
       "</style>\n",
       "<table border=\"1\" class=\"dataframe\">\n",
       "  <thead>\n",
       "    <tr style=\"text-align: right;\">\n",
       "      <th></th>\n",
       "      <th>GeneSym</th>\n",
       "      <th>GeneID</th>\n",
       "    </tr>\n",
       "  </thead>\n",
       "  <tbody>\n",
       "    <tr>\n",
       "      <th>0</th>\n",
       "      <td>A1BG</td>\n",
       "      <td>1</td>\n",
       "    </tr>\n",
       "    <tr>\n",
       "      <th>1</th>\n",
       "      <td>A1CF</td>\n",
       "      <td>29974</td>\n",
       "    </tr>\n",
       "    <tr>\n",
       "      <th>2</th>\n",
       "      <td>A2M</td>\n",
       "      <td>2</td>\n",
       "    </tr>\n",
       "    <tr>\n",
       "      <th>3</th>\n",
       "      <td>A2ML1</td>\n",
       "      <td>144568</td>\n",
       "    </tr>\n",
       "    <tr>\n",
       "      <th>4</th>\n",
       "      <td>A2ML1-AS1</td>\n",
       "      <td>1.00874e+08</td>\n",
       "    </tr>\n",
       "  </tbody>\n",
       "</table>\n",
       "</div>"
      ],
      "text/plain": [
       "     GeneSym       GeneID\n",
       "0       A1BG            1\n",
       "1       A1CF        29974\n",
       "2        A2M            2\n",
       "3      A2ML1       144568\n",
       "4  A2ML1-AS1  1.00874e+08"
      ]
     },
     "execution_count": 277,
     "metadata": {},
     "output_type": "execute_result"
    }
   ],
   "source": [
    "gene_list.head()"
   ]
  },
  {
   "cell_type": "code",
   "execution_count": 278,
   "metadata": {},
   "outputs": [
    {
     "data": {
      "text/plain": [
       "(22411, 2)"
      ]
     },
     "execution_count": 278,
     "metadata": {},
     "output_type": "execute_result"
    }
   ],
   "source": [
    "gene_list.shape"
   ]
  },
  {
   "cell_type": "markdown",
   "metadata": {},
   "source": [
    "# Save Gene List"
   ]
  },
  {
   "cell_type": "code",
   "execution_count": 279,
   "metadata": {
    "collapsed": true
   },
   "outputs": [],
   "source": [
    "filename = path+'aba_dev_rnaseq_age_gene_list_%s.tsv.zip'% str(datetime.date.today())[0:7].replace('-', '_')\n",
    "gene_list.to_csv(filename, sep='\\t', compression='gzip')"
   ]
  },
  {
   "cell_type": "markdown",
   "metadata": {},
   "source": [
    "# Create Attribute List"
   ]
  },
  {
   "cell_type": "code",
   "execution_count": 280,
   "metadata": {
    "collapsed": true
   },
   "outputs": [],
   "source": [
    "attribute_list = mf.createAttributeList(normalized_matrix)"
   ]
  },
  {
   "cell_type": "code",
   "execution_count": 281,
   "metadata": {},
   "outputs": [
    {
     "data": {
      "text/html": [
       "<div>\n",
       "<style scoped>\n",
       "    .dataframe tbody tr th:only-of-type {\n",
       "        vertical-align: middle;\n",
       "    }\n",
       "\n",
       "    .dataframe tbody tr th {\n",
       "        vertical-align: top;\n",
       "    }\n",
       "\n",
       "    .dataframe thead th {\n",
       "        text-align: right;\n",
       "    }\n",
       "</style>\n",
       "<table border=\"1\" class=\"dataframe\">\n",
       "  <thead>\n",
       "    <tr style=\"text-align: right;\">\n",
       "      <th></th>\n",
       "    </tr>\n",
       "    <tr>\n",
       "      <th>Attributes</th>\n",
       "    </tr>\n",
       "  </thead>\n",
       "  <tbody>\n",
       "    <tr>\n",
       "      <th>1 yrs</th>\n",
       "    </tr>\n",
       "    <tr>\n",
       "      <th>10 mos</th>\n",
       "    </tr>\n",
       "    <tr>\n",
       "      <th>11 yrs</th>\n",
       "    </tr>\n",
       "    <tr>\n",
       "      <th>12 pcw</th>\n",
       "    </tr>\n",
       "    <tr>\n",
       "      <th>13 pcw</th>\n",
       "    </tr>\n",
       "  </tbody>\n",
       "</table>\n",
       "</div>"
      ],
      "text/plain": [
       "Empty DataFrame\n",
       "Columns: []\n",
       "Index: [1 yrs, 10 mos, 11 yrs, 12 pcw, 13 pcw]"
      ]
     },
     "execution_count": 281,
     "metadata": {},
     "output_type": "execute_result"
    }
   ],
   "source": [
    "attribute_list.head()"
   ]
  },
  {
   "cell_type": "code",
   "execution_count": 282,
   "metadata": {},
   "outputs": [
    {
     "data": {
      "text/plain": [
       "(31, 0)"
      ]
     },
     "execution_count": 282,
     "metadata": {},
     "output_type": "execute_result"
    }
   ],
   "source": [
    "attribute_list.shape"
   ]
  },
  {
   "cell_type": "markdown",
   "metadata": {},
   "source": [
    "# Save Attribute List"
   ]
  },
  {
   "cell_type": "code",
   "execution_count": 283,
   "metadata": {
    "collapsed": true
   },
   "outputs": [],
   "source": [
    "filename = path+'aba_dev_rnaseq_age_attribute_list_%s.tsv.zip'% str(datetime.date.today())[0:7].replace('-', '_')\n",
    "attribute_list.to_csv(filename, sep='\\t', compression='gzip')"
   ]
  },
  {
   "cell_type": "markdown",
   "metadata": {},
   "source": [
    "# Create matrix of Standardized values (values between -1, and 1)"
   ]
  },
  {
   "cell_type": "code",
   "execution_count": 284,
   "metadata": {},
   "outputs": [
    {
     "name": "stdout",
     "output_type": "stream",
     "text": [
      "Progeres: 100%  22411 Out of 22411   \r"
     ]
    }
   ],
   "source": [
    "standard_matrix = mf.createStandardizedMatrix(normalized_matrix)"
   ]
  },
  {
   "cell_type": "code",
   "execution_count": 285,
   "metadata": {},
   "outputs": [
    {
     "data": {
      "text/html": [
       "<div>\n",
       "<style scoped>\n",
       "    .dataframe tbody tr th:only-of-type {\n",
       "        vertical-align: middle;\n",
       "    }\n",
       "\n",
       "    .dataframe tbody tr th {\n",
       "        vertical-align: top;\n",
       "    }\n",
       "\n",
       "    .dataframe thead th {\n",
       "        text-align: right;\n",
       "    }\n",
       "</style>\n",
       "<table border=\"1\" class=\"dataframe\">\n",
       "  <thead>\n",
       "    <tr style=\"text-align: right;\">\n",
       "      <th></th>\n",
       "      <th>1 yrs</th>\n",
       "      <th>10 mos</th>\n",
       "      <th>11 yrs</th>\n",
       "      <th>12 pcw</th>\n",
       "      <th>13 pcw</th>\n",
       "      <th>13 yrs</th>\n",
       "      <th>15 yrs</th>\n",
       "      <th>16 pcw</th>\n",
       "      <th>17 pcw</th>\n",
       "      <th>18 yrs</th>\n",
       "      <th>...</th>\n",
       "      <th>35 pcw</th>\n",
       "      <th>36 yrs</th>\n",
       "      <th>37 pcw</th>\n",
       "      <th>37 yrs</th>\n",
       "      <th>4 mos</th>\n",
       "      <th>4 yrs</th>\n",
       "      <th>40 yrs</th>\n",
       "      <th>8 pcw</th>\n",
       "      <th>8 yrs</th>\n",
       "      <th>9 pcw</th>\n",
       "    </tr>\n",
       "    <tr>\n",
       "      <th></th>\n",
       "      <th></th>\n",
       "      <th></th>\n",
       "      <th></th>\n",
       "      <th></th>\n",
       "      <th></th>\n",
       "      <th></th>\n",
       "      <th></th>\n",
       "      <th></th>\n",
       "      <th></th>\n",
       "      <th></th>\n",
       "      <th></th>\n",
       "      <th></th>\n",
       "      <th></th>\n",
       "      <th></th>\n",
       "      <th></th>\n",
       "      <th></th>\n",
       "      <th></th>\n",
       "      <th></th>\n",
       "      <th></th>\n",
       "      <th></th>\n",
       "      <th></th>\n",
       "    </tr>\n",
       "  </thead>\n",
       "  <tbody>\n",
       "    <tr>\n",
       "      <th>A1BG</th>\n",
       "      <td>0.194534</td>\n",
       "      <td>0.388083</td>\n",
       "      <td>-0.386111</td>\n",
       "      <td>-0.644175</td>\n",
       "      <td>-0.257078</td>\n",
       "      <td>0.000986</td>\n",
       "      <td>-0.450627</td>\n",
       "      <td>-0.837724</td>\n",
       "      <td>0.130018</td>\n",
       "      <td>0.581631</td>\n",
       "      <td>...</td>\n",
       "      <td>0.839696</td>\n",
       "      <td>-0.063530</td>\n",
       "      <td>0.775180</td>\n",
       "      <td>-0.579659</td>\n",
       "      <td>0.517115</td>\n",
       "      <td>0.968728</td>\n",
       "      <td>0.452599</td>\n",
       "      <td>-0.902240</td>\n",
       "      <td>0.323567</td>\n",
       "      <td>-0.966756</td>\n",
       "    </tr>\n",
       "    <tr>\n",
       "      <th>A1CF</th>\n",
       "      <td>0.194534</td>\n",
       "      <td>0.323567</td>\n",
       "      <td>-0.773208</td>\n",
       "      <td>0.000986</td>\n",
       "      <td>0.065502</td>\n",
       "      <td>-0.966756</td>\n",
       "      <td>-0.515143</td>\n",
       "      <td>0.517115</td>\n",
       "      <td>-0.063530</td>\n",
       "      <td>-0.837724</td>\n",
       "      <td>...</td>\n",
       "      <td>0.968728</td>\n",
       "      <td>-0.579659</td>\n",
       "      <td>0.904212</td>\n",
       "      <td>0.646147</td>\n",
       "      <td>0.259051</td>\n",
       "      <td>-0.128046</td>\n",
       "      <td>-0.257078</td>\n",
       "      <td>0.710663</td>\n",
       "      <td>0.839696</td>\n",
       "      <td>0.581631</td>\n",
       "    </tr>\n",
       "    <tr>\n",
       "      <th>A2M</th>\n",
       "      <td>0.522858</td>\n",
       "      <td>-0.315851</td>\n",
       "      <td>0.006729</td>\n",
       "      <td>-0.702948</td>\n",
       "      <td>-0.831980</td>\n",
       "      <td>0.200278</td>\n",
       "      <td>-0.057787</td>\n",
       "      <td>-0.573916</td>\n",
       "      <td>-0.896497</td>\n",
       "      <td>0.716407</td>\n",
       "      <td>...</td>\n",
       "      <td>-0.122303</td>\n",
       "      <td>0.329310</td>\n",
       "      <td>0.845439</td>\n",
       "      <td>0.264794</td>\n",
       "      <td>0.135761</td>\n",
       "      <td>-0.186819</td>\n",
       "      <td>-0.380368</td>\n",
       "      <td>-0.638432</td>\n",
       "      <td>-0.509400</td>\n",
       "      <td>-0.767464</td>\n",
       "    </tr>\n",
       "    <tr>\n",
       "      <th>A2ML1</th>\n",
       "      <td>-0.128046</td>\n",
       "      <td>-0.386111</td>\n",
       "      <td>-0.644175</td>\n",
       "      <td>-0.837724</td>\n",
       "      <td>-0.902240</td>\n",
       "      <td>0.646147</td>\n",
       "      <td>-0.063530</td>\n",
       "      <td>-0.708691</td>\n",
       "      <td>-0.192562</td>\n",
       "      <td>0.839696</td>\n",
       "      <td>...</td>\n",
       "      <td>0.452599</td>\n",
       "      <td>0.323567</td>\n",
       "      <td>0.388083</td>\n",
       "      <td>0.259051</td>\n",
       "      <td>0.581631</td>\n",
       "      <td>0.065502</td>\n",
       "      <td>-0.257078</td>\n",
       "      <td>-0.773208</td>\n",
       "      <td>0.130018</td>\n",
       "      <td>-0.966756</td>\n",
       "    </tr>\n",
       "    <tr>\n",
       "      <th>A2ML1-AS1</th>\n",
       "      <td>-0.644175</td>\n",
       "      <td>-0.128046</td>\n",
       "      <td>-0.063530</td>\n",
       "      <td>0.968728</td>\n",
       "      <td>0.710663</td>\n",
       "      <td>-0.321595</td>\n",
       "      <td>-0.579659</td>\n",
       "      <td>0.581631</td>\n",
       "      <td>0.775180</td>\n",
       "      <td>0.065502</td>\n",
       "      <td>...</td>\n",
       "      <td>0.904212</td>\n",
       "      <td>-0.386111</td>\n",
       "      <td>-0.192562</td>\n",
       "      <td>-0.515143</td>\n",
       "      <td>0.259051</td>\n",
       "      <td>-0.773208</td>\n",
       "      <td>-0.450627</td>\n",
       "      <td>0.323567</td>\n",
       "      <td>-0.708691</td>\n",
       "      <td>0.388083</td>\n",
       "    </tr>\n",
       "  </tbody>\n",
       "</table>\n",
       "<p>5 rows × 31 columns</p>\n",
       "</div>"
      ],
      "text/plain": [
       "              1 yrs    10 mos    11 yrs    12 pcw    13 pcw    13 yrs  \\\n",
       "                                                                        \n",
       "A1BG       0.194534  0.388083 -0.386111 -0.644175 -0.257078  0.000986   \n",
       "A1CF       0.194534  0.323567 -0.773208  0.000986  0.065502 -0.966756   \n",
       "A2M        0.522858 -0.315851  0.006729 -0.702948 -0.831980  0.200278   \n",
       "A2ML1     -0.128046 -0.386111 -0.644175 -0.837724 -0.902240  0.646147   \n",
       "A2ML1-AS1 -0.644175 -0.128046 -0.063530  0.968728  0.710663 -0.321595   \n",
       "\n",
       "             15 yrs    16 pcw    17 pcw    18 yrs    ...       35 pcw  \\\n",
       "                                                     ...                \n",
       "A1BG      -0.450627 -0.837724  0.130018  0.581631    ...     0.839696   \n",
       "A1CF      -0.515143  0.517115 -0.063530 -0.837724    ...     0.968728   \n",
       "A2M       -0.057787 -0.573916 -0.896497  0.716407    ...    -0.122303   \n",
       "A2ML1     -0.063530 -0.708691 -0.192562  0.839696    ...     0.452599   \n",
       "A2ML1-AS1 -0.579659  0.581631  0.775180  0.065502    ...     0.904212   \n",
       "\n",
       "             36 yrs    37 pcw    37 yrs     4 mos     4 yrs    40 yrs  \\\n",
       "                                                                        \n",
       "A1BG      -0.063530  0.775180 -0.579659  0.517115  0.968728  0.452599   \n",
       "A1CF      -0.579659  0.904212  0.646147  0.259051 -0.128046 -0.257078   \n",
       "A2M        0.329310  0.845439  0.264794  0.135761 -0.186819 -0.380368   \n",
       "A2ML1      0.323567  0.388083  0.259051  0.581631  0.065502 -0.257078   \n",
       "A2ML1-AS1 -0.386111 -0.192562 -0.515143  0.259051 -0.773208 -0.450627   \n",
       "\n",
       "              8 pcw     8 yrs     9 pcw  \n",
       "                                         \n",
       "A1BG      -0.902240  0.323567 -0.966756  \n",
       "A1CF       0.710663  0.839696  0.581631  \n",
       "A2M       -0.638432 -0.509400 -0.767464  \n",
       "A2ML1     -0.773208  0.130018 -0.966756  \n",
       "A2ML1-AS1  0.323567 -0.708691  0.388083  \n",
       "\n",
       "[5 rows x 31 columns]"
      ]
     },
     "execution_count": 285,
     "metadata": {},
     "output_type": "execute_result"
    }
   ],
   "source": [
    "standard_matrix.head()"
   ]
  },
  {
   "cell_type": "markdown",
   "metadata": {},
   "source": [
    "# Plot of A Single Celltype, Normalized Value vs. Standardized Value"
   ]
  },
  {
   "cell_type": "code",
   "execution_count": 286,
   "metadata": {},
   "outputs": [
    {
     "data": {
      "image/png": "[encoded data removed]",
      "text/plain": [
       "<matplotlib.figure.Figure at 0x11a7e9048>"
      ]
     },
     "metadata": {},
     "output_type": "display_data"
    }
   ],
   "source": [
    "plt.plot(normalized_matrix[normalized_matrix.columns[0]], standard_matrix[standard_matrix.columns[0]], 'bo')\n",
    "plt.xlabel('Normalized Values')\n",
    "plt.ylabel('Standardized Values')\n",
    "plt.title(standard_matrix.columns[0])\n",
    "plt.grid(True)"
   ]
  },
  {
   "cell_type": "markdown",
   "metadata": {},
   "source": [
    "# Save Standardized Matrix"
   ]
  },
  {
   "cell_type": "code",
   "execution_count": 287,
   "metadata": {
    "collapsed": true
   },
   "outputs": [],
   "source": [
    "filename = path+'aba_dev_rnaseq_age_standard_matrix_%s.tsv.zip'% str(datetime.date.today())[0:7].replace('-', '_')\n",
    "standard_matrix.to_csv(filename, sep='\\t', compression='gzip')"
   ]
  },
  {
   "cell_type": "markdown",
   "metadata": {},
   "source": [
    "# Create Tertiary Matrix"
   ]
  },
  {
   "cell_type": "code",
   "execution_count": 288,
   "metadata": {
    "collapsed": true
   },
   "outputs": [],
   "source": [
    "tertiary_matrix = mf.createTertiaryMatrix(standard_matrix)"
   ]
  },
  {
   "cell_type": "code",
   "execution_count": 289,
   "metadata": {},
   "outputs": [
    {
     "data": {
      "text/html": [
       "<div>\n",
       "<style scoped>\n",
       "    .dataframe tbody tr th:only-of-type {\n",
       "        vertical-align: middle;\n",
       "    }\n",
       "\n",
       "    .dataframe tbody tr th {\n",
       "        vertical-align: top;\n",
       "    }\n",
       "\n",
       "    .dataframe thead th {\n",
       "        text-align: right;\n",
       "    }\n",
       "</style>\n",
       "<table border=\"1\" class=\"dataframe\">\n",
       "  <thead>\n",
       "    <tr style=\"text-align: right;\">\n",
       "      <th></th>\n",
       "      <th>1 yrs</th>\n",
       "      <th>10 mos</th>\n",
       "      <th>11 yrs</th>\n",
       "      <th>12 pcw</th>\n",
       "      <th>13 pcw</th>\n",
       "      <th>13 yrs</th>\n",
       "      <th>15 yrs</th>\n",
       "      <th>16 pcw</th>\n",
       "      <th>17 pcw</th>\n",
       "      <th>18 yrs</th>\n",
       "      <th>...</th>\n",
       "      <th>35 pcw</th>\n",
       "      <th>36 yrs</th>\n",
       "      <th>37 pcw</th>\n",
       "      <th>37 yrs</th>\n",
       "      <th>4 mos</th>\n",
       "      <th>4 yrs</th>\n",
       "      <th>40 yrs</th>\n",
       "      <th>8 pcw</th>\n",
       "      <th>8 yrs</th>\n",
       "      <th>9 pcw</th>\n",
       "    </tr>\n",
       "    <tr>\n",
       "      <th></th>\n",
       "      <th></th>\n",
       "      <th></th>\n",
       "      <th></th>\n",
       "      <th></th>\n",
       "      <th></th>\n",
       "      <th></th>\n",
       "      <th></th>\n",
       "      <th></th>\n",
       "      <th></th>\n",
       "      <th></th>\n",
       "      <th></th>\n",
       "      <th></th>\n",
       "      <th></th>\n",
       "      <th></th>\n",
       "      <th></th>\n",
       "      <th></th>\n",
       "      <th></th>\n",
       "      <th></th>\n",
       "      <th></th>\n",
       "      <th></th>\n",
       "      <th></th>\n",
       "    </tr>\n",
       "  </thead>\n",
       "  <tbody>\n",
       "    <tr>\n",
       "      <th>A1BG</th>\n",
       "      <td>0</td>\n",
       "      <td>0</td>\n",
       "      <td>0</td>\n",
       "      <td>0</td>\n",
       "      <td>0</td>\n",
       "      <td>0</td>\n",
       "      <td>0</td>\n",
       "      <td>0</td>\n",
       "      <td>0</td>\n",
       "      <td>0</td>\n",
       "      <td>...</td>\n",
       "      <td>0</td>\n",
       "      <td>0</td>\n",
       "      <td>0</td>\n",
       "      <td>0</td>\n",
       "      <td>0</td>\n",
       "      <td>1</td>\n",
       "      <td>0</td>\n",
       "      <td>0</td>\n",
       "      <td>0</td>\n",
       "      <td>-1</td>\n",
       "    </tr>\n",
       "    <tr>\n",
       "      <th>A1CF</th>\n",
       "      <td>0</td>\n",
       "      <td>0</td>\n",
       "      <td>0</td>\n",
       "      <td>0</td>\n",
       "      <td>0</td>\n",
       "      <td>-1</td>\n",
       "      <td>0</td>\n",
       "      <td>0</td>\n",
       "      <td>0</td>\n",
       "      <td>0</td>\n",
       "      <td>...</td>\n",
       "      <td>1</td>\n",
       "      <td>0</td>\n",
       "      <td>0</td>\n",
       "      <td>0</td>\n",
       "      <td>0</td>\n",
       "      <td>0</td>\n",
       "      <td>0</td>\n",
       "      <td>0</td>\n",
       "      <td>0</td>\n",
       "      <td>0</td>\n",
       "    </tr>\n",
       "    <tr>\n",
       "      <th>A2M</th>\n",
       "      <td>0</td>\n",
       "      <td>0</td>\n",
       "      <td>0</td>\n",
       "      <td>0</td>\n",
       "      <td>0</td>\n",
       "      <td>0</td>\n",
       "      <td>0</td>\n",
       "      <td>0</td>\n",
       "      <td>0</td>\n",
       "      <td>0</td>\n",
       "      <td>...</td>\n",
       "      <td>0</td>\n",
       "      <td>0</td>\n",
       "      <td>0</td>\n",
       "      <td>0</td>\n",
       "      <td>0</td>\n",
       "      <td>0</td>\n",
       "      <td>0</td>\n",
       "      <td>0</td>\n",
       "      <td>0</td>\n",
       "      <td>0</td>\n",
       "    </tr>\n",
       "    <tr>\n",
       "      <th>A2ML1</th>\n",
       "      <td>0</td>\n",
       "      <td>0</td>\n",
       "      <td>0</td>\n",
       "      <td>0</td>\n",
       "      <td>0</td>\n",
       "      <td>0</td>\n",
       "      <td>0</td>\n",
       "      <td>0</td>\n",
       "      <td>0</td>\n",
       "      <td>0</td>\n",
       "      <td>...</td>\n",
       "      <td>0</td>\n",
       "      <td>0</td>\n",
       "      <td>0</td>\n",
       "      <td>0</td>\n",
       "      <td>0</td>\n",
       "      <td>0</td>\n",
       "      <td>0</td>\n",
       "      <td>0</td>\n",
       "      <td>0</td>\n",
       "      <td>-1</td>\n",
       "    </tr>\n",
       "    <tr>\n",
       "      <th>A2ML1-AS1</th>\n",
       "      <td>0</td>\n",
       "      <td>0</td>\n",
       "      <td>0</td>\n",
       "      <td>1</td>\n",
       "      <td>0</td>\n",
       "      <td>0</td>\n",
       "      <td>0</td>\n",
       "      <td>0</td>\n",
       "      <td>0</td>\n",
       "      <td>0</td>\n",
       "      <td>...</td>\n",
       "      <td>0</td>\n",
       "      <td>0</td>\n",
       "      <td>0</td>\n",
       "      <td>0</td>\n",
       "      <td>0</td>\n",
       "      <td>0</td>\n",
       "      <td>0</td>\n",
       "      <td>0</td>\n",
       "      <td>0</td>\n",
       "      <td>0</td>\n",
       "    </tr>\n",
       "  </tbody>\n",
       "</table>\n",
       "<p>5 rows × 31 columns</p>\n",
       "</div>"
      ],
      "text/plain": [
       "           1 yrs  10 mos  11 yrs  12 pcw  13 pcw  13 yrs  15 yrs  16 pcw  \\\n",
       "                                                                           \n",
       "A1BG           0       0       0       0       0       0       0       0   \n",
       "A1CF           0       0       0       0       0      -1       0       0   \n",
       "A2M            0       0       0       0       0       0       0       0   \n",
       "A2ML1          0       0       0       0       0       0       0       0   \n",
       "A2ML1-AS1      0       0       0       1       0       0       0       0   \n",
       "\n",
       "           17 pcw  18 yrs  ...    35 pcw  36 yrs  37 pcw  37 yrs  4 mos  \\\n",
       "                           ...                                            \n",
       "A1BG            0       0  ...         0       0       0       0      0   \n",
       "A1CF            0       0  ...         1       0       0       0      0   \n",
       "A2M             0       0  ...         0       0       0       0      0   \n",
       "A2ML1           0       0  ...         0       0       0       0      0   \n",
       "A2ML1-AS1       0       0  ...         0       0       0       0      0   \n",
       "\n",
       "           4 yrs  40 yrs  8 pcw  8 yrs  9 pcw  \n",
       "                                               \n",
       "A1BG           1       0      0      0     -1  \n",
       "A1CF           0       0      0      0      0  \n",
       "A2M            0       0      0      0      0  \n",
       "A2ML1          0       0      0      0     -1  \n",
       "A2ML1-AS1      0       0      0      0      0  \n",
       "\n",
       "[5 rows x 31 columns]"
      ]
     },
     "execution_count": 289,
     "metadata": {},
     "output_type": "execute_result"
    }
   ],
   "source": [
    "tertiary_matrix.head()"
   ]
  },
  {
   "cell_type": "markdown",
   "metadata": {},
   "source": [
    "# Save Teriary Matrix"
   ]
  },
  {
   "cell_type": "code",
   "execution_count": 290,
   "metadata": {
    "collapsed": true
   },
   "outputs": [],
   "source": [
    "filename = path+'aba_dev_rnaseq_age_tertiary_matrix_%s.tsv.zip'% str(datetime.date.today())[0:7].replace('-', '_')\n",
    "tertiary_matrix.to_csv(filename, sep='\\t', compression='gzip')"
   ]
  },
  {
   "cell_type": "markdown",
   "metadata": {},
   "source": [
    "# Create Up Gene Set Library"
   ]
  },
  {
   "cell_type": "code",
   "execution_count": 291,
   "metadata": {
    "collapsed": true
   },
   "outputs": [],
   "source": [
    "name = 'aba_dev_rnaseq_age_gene_up_set'"
   ]
  },
  {
   "cell_type": "code",
   "execution_count": 292,
   "metadata": {},
   "outputs": [
    {
     "name": "stdout",
     "output_type": "stream",
     "text": [
      "Progeres: 100%  31 Out of 31   \r"
     ]
    }
   ],
   "source": [
    "mf.createUpGeneSetLib(tertiary_matrix, path, name)"
   ]
  },
  {
   "cell_type": "markdown",
   "metadata": {},
   "source": [
    "# Create Down Gene Set Library"
   ]
  },
  {
   "cell_type": "code",
   "execution_count": 293,
   "metadata": {
    "collapsed": true
   },
   "outputs": [],
   "source": [
    "name = 'aba_dev_rnaseq_age_gene_down_set'"
   ]
  },
  {
   "cell_type": "code",
   "execution_count": 294,
   "metadata": {},
   "outputs": [
    {
     "name": "stdout",
     "output_type": "stream",
     "text": [
      "Progeres: 100%  31 Out of 31   \r"
     ]
    }
   ],
   "source": [
    "mf.createDownGeneSetLib(tertiary_matrix, path, name)"
   ]
  },
  {
   "cell_type": "markdown",
   "metadata": {},
   "source": [
    "# Create Up Attribute Library"
   ]
  },
  {
   "cell_type": "code",
   "execution_count": 295,
   "metadata": {
    "collapsed": true
   },
   "outputs": [],
   "source": [
    "name = 'aba_dev_rnaseq_age_attribute_up_set'"
   ]
  },
  {
   "cell_type": "code",
   "execution_count": 296,
   "metadata": {},
   "outputs": [
    {
     "name": "stdout",
     "output_type": "stream",
     "text": [
      "Progeres: 100%  22411 Out of 22411   \r"
     ]
    }
   ],
   "source": [
    "mf.createUpAttributeSetLib(tertiary_matrix, path, name)"
   ]
  },
  {
   "cell_type": "markdown",
   "metadata": {},
   "source": [
    "# Create Down Attribute Library"
   ]
  },
  {
   "cell_type": "code",
   "execution_count": 297,
   "metadata": {
    "collapsed": true
   },
   "outputs": [],
   "source": [
    "name = 'aba_dev_rnaseq_age_attribute_down_set'"
   ]
  },
  {
   "cell_type": "code",
   "execution_count": 298,
   "metadata": {},
   "outputs": [
    {
     "name": "stdout",
     "output_type": "stream",
     "text": [
      "Progeres: 100%  22411 Out of 22411   \r"
     ]
    }
   ],
   "source": [
    "mf.createDownAttributeSetLib(tertiary_matrix, path, name)"
   ]
  },
  {
   "cell_type": "markdown",
   "metadata": {},
   "source": [
    "# Create Attribute Similarity Matrix"
   ]
  },
  {
   "cell_type": "code",
   "execution_count": 299,
   "metadata": {
    "collapsed": true
   },
   "outputs": [],
   "source": [
    "attribute_similarity_matix = mf.createSimilarityMatrix(normalized_matrix.T, 'cosine')"
   ]
  },
  {
   "cell_type": "code",
   "execution_count": 300,
   "metadata": {},
   "outputs": [
    {
     "data": {
      "text/html": [
       "<div>\n",
       "<style scoped>\n",
       "    .dataframe tbody tr th:only-of-type {\n",
       "        vertical-align: middle;\n",
       "    }\n",
       "\n",
       "    .dataframe tbody tr th {\n",
       "        vertical-align: top;\n",
       "    }\n",
       "\n",
       "    .dataframe thead th {\n",
       "        text-align: right;\n",
       "    }\n",
       "</style>\n",
       "<table border=\"1\" class=\"dataframe\">\n",
       "  <thead>\n",
       "    <tr style=\"text-align: right;\">\n",
       "      <th></th>\n",
       "      <th>1 yrs</th>\n",
       "      <th>10 mos</th>\n",
       "      <th>11 yrs</th>\n",
       "      <th>12 pcw</th>\n",
       "      <th>13 pcw</th>\n",
       "      <th>13 yrs</th>\n",
       "      <th>15 yrs</th>\n",
       "      <th>16 pcw</th>\n",
       "      <th>17 pcw</th>\n",
       "      <th>18 yrs</th>\n",
       "      <th>...</th>\n",
       "      <th>35 pcw</th>\n",
       "      <th>36 yrs</th>\n",
       "      <th>37 pcw</th>\n",
       "      <th>37 yrs</th>\n",
       "      <th>4 mos</th>\n",
       "      <th>4 yrs</th>\n",
       "      <th>40 yrs</th>\n",
       "      <th>8 pcw</th>\n",
       "      <th>8 yrs</th>\n",
       "      <th>9 pcw</th>\n",
       "    </tr>\n",
       "    <tr>\n",
       "      <th></th>\n",
       "      <th></th>\n",
       "      <th></th>\n",
       "      <th></th>\n",
       "      <th></th>\n",
       "      <th></th>\n",
       "      <th></th>\n",
       "      <th></th>\n",
       "      <th></th>\n",
       "      <th></th>\n",
       "      <th></th>\n",
       "      <th></th>\n",
       "      <th></th>\n",
       "      <th></th>\n",
       "      <th></th>\n",
       "      <th></th>\n",
       "      <th></th>\n",
       "      <th></th>\n",
       "      <th></th>\n",
       "      <th></th>\n",
       "      <th></th>\n",
       "      <th></th>\n",
       "    </tr>\n",
       "  </thead>\n",
       "  <tbody>\n",
       "    <tr>\n",
       "      <th>1 yrs</th>\n",
       "      <td>1.000000</td>\n",
       "      <td>0.243690</td>\n",
       "      <td>0.385644</td>\n",
       "      <td>-0.180870</td>\n",
       "      <td>-0.256898</td>\n",
       "      <td>0.321596</td>\n",
       "      <td>0.486517</td>\n",
       "      <td>-0.137522</td>\n",
       "      <td>-0.153218</td>\n",
       "      <td>-0.099874</td>\n",
       "      <td>...</td>\n",
       "      <td>-0.102395</td>\n",
       "      <td>0.414583</td>\n",
       "      <td>0.008771</td>\n",
       "      <td>0.354934</td>\n",
       "      <td>0.354515</td>\n",
       "      <td>-0.014587</td>\n",
       "      <td>0.125131</td>\n",
       "      <td>-0.227201</td>\n",
       "      <td>0.268805</td>\n",
       "      <td>-0.169414</td>\n",
       "    </tr>\n",
       "    <tr>\n",
       "      <th>10 mos</th>\n",
       "      <td>0.243690</td>\n",
       "      <td>1.000000</td>\n",
       "      <td>0.278240</td>\n",
       "      <td>-0.107641</td>\n",
       "      <td>-0.097721</td>\n",
       "      <td>0.088000</td>\n",
       "      <td>0.174177</td>\n",
       "      <td>-0.166708</td>\n",
       "      <td>-0.068040</td>\n",
       "      <td>0.046169</td>\n",
       "      <td>...</td>\n",
       "      <td>0.043135</td>\n",
       "      <td>0.088563</td>\n",
       "      <td>-0.017435</td>\n",
       "      <td>0.064287</td>\n",
       "      <td>0.259043</td>\n",
       "      <td>0.273404</td>\n",
       "      <td>0.236846</td>\n",
       "      <td>-0.068905</td>\n",
       "      <td>0.327771</td>\n",
       "      <td>-0.139382</td>\n",
       "    </tr>\n",
       "    <tr>\n",
       "      <th>11 yrs</th>\n",
       "      <td>0.385644</td>\n",
       "      <td>0.278240</td>\n",
       "      <td>1.000000</td>\n",
       "      <td>-0.115025</td>\n",
       "      <td>-0.239116</td>\n",
       "      <td>0.233352</td>\n",
       "      <td>0.520573</td>\n",
       "      <td>-0.343115</td>\n",
       "      <td>-0.343797</td>\n",
       "      <td>-0.008812</td>\n",
       "      <td>...</td>\n",
       "      <td>-0.127867</td>\n",
       "      <td>0.311264</td>\n",
       "      <td>-0.207744</td>\n",
       "      <td>0.335770</td>\n",
       "      <td>0.157229</td>\n",
       "      <td>0.319411</td>\n",
       "      <td>0.436816</td>\n",
       "      <td>-0.136591</td>\n",
       "      <td>0.443436</td>\n",
       "      <td>-0.205644</td>\n",
       "    </tr>\n",
       "    <tr>\n",
       "      <th>12 pcw</th>\n",
       "      <td>-0.180870</td>\n",
       "      <td>-0.107641</td>\n",
       "      <td>-0.115025</td>\n",
       "      <td>1.000000</td>\n",
       "      <td>0.885149</td>\n",
       "      <td>-0.541057</td>\n",
       "      <td>-0.154920</td>\n",
       "      <td>0.658256</td>\n",
       "      <td>0.408968</td>\n",
       "      <td>-0.453764</td>\n",
       "      <td>...</td>\n",
       "      <td>-0.003446</td>\n",
       "      <td>-0.408169</td>\n",
       "      <td>-0.210909</td>\n",
       "      <td>-0.348678</td>\n",
       "      <td>-0.369679</td>\n",
       "      <td>-0.182560</td>\n",
       "      <td>-0.268307</td>\n",
       "      <td>0.514288</td>\n",
       "      <td>-0.245801</td>\n",
       "      <td>0.484871</td>\n",
       "    </tr>\n",
       "    <tr>\n",
       "      <th>13 pcw</th>\n",
       "      <td>-0.256898</td>\n",
       "      <td>-0.097721</td>\n",
       "      <td>-0.239116</td>\n",
       "      <td>0.885149</td>\n",
       "      <td>1.000000</td>\n",
       "      <td>-0.522645</td>\n",
       "      <td>-0.254268</td>\n",
       "      <td>0.705010</td>\n",
       "      <td>0.485365</td>\n",
       "      <td>-0.409889</td>\n",
       "      <td>...</td>\n",
       "      <td>0.033304</td>\n",
       "      <td>-0.422838</td>\n",
       "      <td>-0.183667</td>\n",
       "      <td>-0.400556</td>\n",
       "      <td>-0.406609</td>\n",
       "      <td>-0.218676</td>\n",
       "      <td>-0.317509</td>\n",
       "      <td>0.543662</td>\n",
       "      <td>-0.311037</td>\n",
       "      <td>0.565160</td>\n",
       "    </tr>\n",
       "  </tbody>\n",
       "</table>\n",
       "<p>5 rows × 31 columns</p>\n",
       "</div>"
      ],
      "text/plain": [
       "           1 yrs    10 mos    11 yrs    12 pcw    13 pcw    13 yrs    15 yrs  \\\n",
       "                                                                               \n",
       "1 yrs   1.000000  0.243690  0.385644 -0.180870 -0.256898  0.321596  0.486517   \n",
       "10 mos  0.243690  1.000000  0.278240 -0.107641 -0.097721  0.088000  0.174177   \n",
       "11 yrs  0.385644  0.278240  1.000000 -0.115025 -0.239116  0.233352  0.520573   \n",
       "12 pcw -0.180870 -0.107641 -0.115025  1.000000  0.885149 -0.541057 -0.154920   \n",
       "13 pcw -0.256898 -0.097721 -0.239116  0.885149  1.000000 -0.522645 -0.254268   \n",
       "\n",
       "          16 pcw    17 pcw    18 yrs    ...       35 pcw    36 yrs    37 pcw  \\\n",
       "                                        ...                                    \n",
       "1 yrs  -0.137522 -0.153218 -0.099874    ...    -0.102395  0.414583  0.008771   \n",
       "10 mos -0.166708 -0.068040  0.046169    ...     0.043135  0.088563 -0.017435   \n",
       "11 yrs -0.343115 -0.343797 -0.008812    ...    -0.127867  0.311264 -0.207744   \n",
       "12 pcw  0.658256  0.408968 -0.453764    ...    -0.003446 -0.408169 -0.210909   \n",
       "13 pcw  0.705010  0.485365 -0.409889    ...     0.033304 -0.422838 -0.183667   \n",
       "\n",
       "          37 yrs     4 mos     4 yrs    40 yrs     8 pcw     8 yrs     9 pcw  \n",
       "                                                                              \n",
       "1 yrs   0.354934  0.354515 -0.014587  0.125131 -0.227201  0.268805 -0.169414  \n",
       "10 mos  0.064287  0.259043  0.273404  0.236846 -0.068905  0.327771 -0.139382  \n",
       "11 yrs  0.335770  0.157229  0.319411  0.436816 -0.136591  0.443436 -0.205644  \n",
       "12 pcw -0.348678 -0.369679 -0.182560 -0.268307  0.514288 -0.245801  0.484871  \n",
       "13 pcw -0.400556 -0.406609 -0.218676 -0.317509  0.543662 -0.311037  0.565160  \n",
       "\n",
       "[5 rows x 31 columns]"
      ]
     },
     "execution_count": 300,
     "metadata": {},
     "output_type": "execute_result"
    }
   ],
   "source": [
    "attribute_similarity_matix.head()"
   ]
  },
  {
   "cell_type": "markdown",
   "metadata": {},
   "source": [
    "# Save Attribute Similarity Matrix"
   ]
  },
  {
   "cell_type": "code",
   "execution_count": 301,
   "metadata": {
    "collapsed": true
   },
   "outputs": [],
   "source": [
    "filename = path+'aba_dev_rnaseq_age_attribute_similarity_matix_%s.tsv.zip'% str(datetime.date.today())[0:7].replace('-', '_')\n",
    "attribute_similarity_matix.to_csv(filename, sep='\\t', compression='gzip')"
   ]
  },
  {
   "cell_type": "code",
   "execution_count": 302,
   "metadata": {},
   "outputs": [
    {
     "data": {
      "application/vnd.jupyter.widget-view+json": {
       "model_id": "9e6373884d084093ab5886278167708c"
      }
     },
     "metadata": {},
     "output_type": "display_data"
    }
   ],
   "source": [
    "net.load_df(attribute_similarity_matix.iloc[:,:].copy())\n",
    "# net.filter_N_top('row', rank_type='sum', N_top=300)\n",
    "net.cluster()\n",
    "net.widget()"
   ]
  },
  {
   "cell_type": "markdown",
   "metadata": {},
   "source": [
    "# Create Gene Similarity Matrix"
   ]
  },
  {
   "cell_type": "code",
   "execution_count": 303,
   "metadata": {
    "collapsed": true
   },
   "outputs": [],
   "source": [
    "gene_similarity_matix = mf.createSimilarityMatrix(normalized_matrix, 'cosine')"
   ]
  },
  {
   "cell_type": "code",
   "execution_count": 304,
   "metadata": {},
   "outputs": [
    {
     "data": {
      "text/html": [
       "<div>\n",
       "<style scoped>\n",
       "    .dataframe tbody tr th:only-of-type {\n",
       "        vertical-align: middle;\n",
       "    }\n",
       "\n",
       "    .dataframe tbody tr th {\n",
       "        vertical-align: top;\n",
       "    }\n",
       "\n",
       "    .dataframe thead th {\n",
       "        text-align: right;\n",
       "    }\n",
       "</style>\n",
       "<table border=\"1\" class=\"dataframe\">\n",
       "  <thead>\n",
       "    <tr style=\"text-align: right;\">\n",
       "      <th></th>\n",
       "      <th>A1BG</th>\n",
       "      <th>A1CF</th>\n",
       "      <th>A2M</th>\n",
       "      <th>A2ML1</th>\n",
       "      <th>A2ML1-AS1</th>\n",
       "      <th>A2MP1</th>\n",
       "      <th>A3GALT2</th>\n",
       "      <th>A4GALT</th>\n",
       "      <th>A4GNT</th>\n",
       "      <th>AAAS</th>\n",
       "      <th>...</th>\n",
       "      <th>ZWILCH</th>\n",
       "      <th>ZWINT</th>\n",
       "      <th>ZXDA</th>\n",
       "      <th>ZXDB</th>\n",
       "      <th>ZXDC</th>\n",
       "      <th>ZYG11A</th>\n",
       "      <th>ZYG11B</th>\n",
       "      <th>ZYX</th>\n",
       "      <th>ZZEF1</th>\n",
       "      <th>ZZZ3</th>\n",
       "    </tr>\n",
       "    <tr>\n",
       "      <th></th>\n",
       "      <th></th>\n",
       "      <th></th>\n",
       "      <th></th>\n",
       "      <th></th>\n",
       "      <th></th>\n",
       "      <th></th>\n",
       "      <th></th>\n",
       "      <th></th>\n",
       "      <th></th>\n",
       "      <th></th>\n",
       "      <th></th>\n",
       "      <th></th>\n",
       "      <th></th>\n",
       "      <th></th>\n",
       "      <th></th>\n",
       "      <th></th>\n",
       "      <th></th>\n",
       "      <th></th>\n",
       "      <th></th>\n",
       "      <th></th>\n",
       "      <th></th>\n",
       "    </tr>\n",
       "  </thead>\n",
       "  <tbody>\n",
       "    <tr>\n",
       "      <th>A1BG</th>\n",
       "      <td>1.000000</td>\n",
       "      <td>0.280492</td>\n",
       "      <td>0.276342</td>\n",
       "      <td>0.312877</td>\n",
       "      <td>-0.186912</td>\n",
       "      <td>0.403848</td>\n",
       "      <td>0.366812</td>\n",
       "      <td>0.587955</td>\n",
       "      <td>0.086415</td>\n",
       "      <td>-0.085579</td>\n",
       "      <td>...</td>\n",
       "      <td>-0.461840</td>\n",
       "      <td>-0.177294</td>\n",
       "      <td>-0.652374</td>\n",
       "      <td>-0.643132</td>\n",
       "      <td>-0.534404</td>\n",
       "      <td>0.159834</td>\n",
       "      <td>-0.631109</td>\n",
       "      <td>0.159829</td>\n",
       "      <td>-0.605360</td>\n",
       "      <td>-0.770051</td>\n",
       "    </tr>\n",
       "    <tr>\n",
       "      <th>A1CF</th>\n",
       "      <td>0.280492</td>\n",
       "      <td>1.000000</td>\n",
       "      <td>-0.088866</td>\n",
       "      <td>-0.022756</td>\n",
       "      <td>0.233548</td>\n",
       "      <td>-0.170770</td>\n",
       "      <td>0.715128</td>\n",
       "      <td>0.125462</td>\n",
       "      <td>0.423917</td>\n",
       "      <td>0.317637</td>\n",
       "      <td>...</td>\n",
       "      <td>0.198488</td>\n",
       "      <td>0.418715</td>\n",
       "      <td>-0.116256</td>\n",
       "      <td>-0.059452</td>\n",
       "      <td>0.081584</td>\n",
       "      <td>0.773081</td>\n",
       "      <td>-0.309916</td>\n",
       "      <td>0.414664</td>\n",
       "      <td>-0.028621</td>\n",
       "      <td>-0.219995</td>\n",
       "    </tr>\n",
       "    <tr>\n",
       "      <th>A2M</th>\n",
       "      <td>0.276342</td>\n",
       "      <td>-0.088866</td>\n",
       "      <td>1.000000</td>\n",
       "      <td>0.676427</td>\n",
       "      <td>-0.498359</td>\n",
       "      <td>0.276165</td>\n",
       "      <td>-0.040291</td>\n",
       "      <td>0.703623</td>\n",
       "      <td>0.113973</td>\n",
       "      <td>-0.432248</td>\n",
       "      <td>...</td>\n",
       "      <td>-0.815963</td>\n",
       "      <td>-0.532631</td>\n",
       "      <td>-0.678467</td>\n",
       "      <td>-0.630121</td>\n",
       "      <td>-0.494807</td>\n",
       "      <td>-0.208108</td>\n",
       "      <td>-0.405992</td>\n",
       "      <td>-0.014155</td>\n",
       "      <td>-0.163989</td>\n",
       "      <td>-0.562955</td>\n",
       "    </tr>\n",
       "    <tr>\n",
       "      <th>A2ML1</th>\n",
       "      <td>0.312877</td>\n",
       "      <td>-0.022756</td>\n",
       "      <td>0.676427</td>\n",
       "      <td>1.000000</td>\n",
       "      <td>-0.106701</td>\n",
       "      <td>0.308032</td>\n",
       "      <td>0.107359</td>\n",
       "      <td>0.783952</td>\n",
       "      <td>0.062299</td>\n",
       "      <td>-0.153101</td>\n",
       "      <td>...</td>\n",
       "      <td>-0.695566</td>\n",
       "      <td>-0.163682</td>\n",
       "      <td>-0.507576</td>\n",
       "      <td>-0.756313</td>\n",
       "      <td>-0.254936</td>\n",
       "      <td>-0.077063</td>\n",
       "      <td>-0.693556</td>\n",
       "      <td>0.060896</td>\n",
       "      <td>-0.231101</td>\n",
       "      <td>-0.346503</td>\n",
       "    </tr>\n",
       "    <tr>\n",
       "      <th>A2ML1-AS1</th>\n",
       "      <td>-0.186912</td>\n",
       "      <td>0.233548</td>\n",
       "      <td>-0.498359</td>\n",
       "      <td>-0.106701</td>\n",
       "      <td>1.000000</td>\n",
       "      <td>-0.151850</td>\n",
       "      <td>0.376203</td>\n",
       "      <td>-0.128022</td>\n",
       "      <td>-0.113819</td>\n",
       "      <td>0.658217</td>\n",
       "      <td>...</td>\n",
       "      <td>0.598002</td>\n",
       "      <td>0.433013</td>\n",
       "      <td>0.576750</td>\n",
       "      <td>0.254362</td>\n",
       "      <td>0.699442</td>\n",
       "      <td>0.538329</td>\n",
       "      <td>-0.040744</td>\n",
       "      <td>0.485839</td>\n",
       "      <td>0.341765</td>\n",
       "      <td>0.528794</td>\n",
       "    </tr>\n",
       "  </tbody>\n",
       "</table>\n",
       "<p>5 rows × 22411 columns</p>\n",
       "</div>"
      ],
      "text/plain": [
       "               A1BG      A1CF       A2M     A2ML1  A2ML1-AS1     A2MP1  \\\n",
       "                                                                         \n",
       "A1BG       1.000000  0.280492  0.276342  0.312877  -0.186912  0.403848   \n",
       "A1CF       0.280492  1.000000 -0.088866 -0.022756   0.233548 -0.170770   \n",
       "A2M        0.276342 -0.088866  1.000000  0.676427  -0.498359  0.276165   \n",
       "A2ML1      0.312877 -0.022756  0.676427  1.000000  -0.106701  0.308032   \n",
       "A2ML1-AS1 -0.186912  0.233548 -0.498359 -0.106701   1.000000 -0.151850   \n",
       "\n",
       "            A3GALT2    A4GALT     A4GNT      AAAS    ...       ZWILCH  \\\n",
       "                                                     ...                \n",
       "A1BG       0.366812  0.587955  0.086415 -0.085579    ...    -0.461840   \n",
       "A1CF       0.715128  0.125462  0.423917  0.317637    ...     0.198488   \n",
       "A2M       -0.040291  0.703623  0.113973 -0.432248    ...    -0.815963   \n",
       "A2ML1      0.107359  0.783952  0.062299 -0.153101    ...    -0.695566   \n",
       "A2ML1-AS1  0.376203 -0.128022 -0.113819  0.658217    ...     0.598002   \n",
       "\n",
       "              ZWINT      ZXDA      ZXDB      ZXDC    ZYG11A    ZYG11B  \\\n",
       "                                                                        \n",
       "A1BG      -0.177294 -0.652374 -0.643132 -0.534404  0.159834 -0.631109   \n",
       "A1CF       0.418715 -0.116256 -0.059452  0.081584  0.773081 -0.309916   \n",
       "A2M       -0.532631 -0.678467 -0.630121 -0.494807 -0.208108 -0.405992   \n",
       "A2ML1     -0.163682 -0.507576 -0.756313 -0.254936 -0.077063 -0.693556   \n",
       "A2ML1-AS1  0.433013  0.576750  0.254362  0.699442  0.538329 -0.040744   \n",
       "\n",
       "                ZYX     ZZEF1      ZZZ3  \n",
       "                                         \n",
       "A1BG       0.159829 -0.605360 -0.770051  \n",
       "A1CF       0.414664 -0.028621 -0.219995  \n",
       "A2M       -0.014155 -0.163989 -0.562955  \n",
       "A2ML1      0.060896 -0.231101 -0.346503  \n",
       "A2ML1-AS1  0.485839  0.341765  0.528794  \n",
       "\n",
       "[5 rows x 22411 columns]"
      ]
     },
     "execution_count": 304,
     "metadata": {},
     "output_type": "execute_result"
    }
   ],
   "source": [
    "gene_similarity_matix.head()"
   ]
  },
  {
   "cell_type": "markdown",
   "metadata": {},
   "source": [
    "# Save Gene Similarity Matrix"
   ]
  },
  {
   "cell_type": "code",
   "execution_count": 305,
   "metadata": {
    "collapsed": true
   },
   "outputs": [],
   "source": [
    "filename = path+'aba_dev_rnaseq_age_gene_similarity_matix_%s.tsv.zip'% str(datetime.date.today())[0:7].replace('-', '_')\n",
    "gene_similarity_matix.to_csv(filename, sep='\\t', compression='gzip')"
   ]
  },
  {
   "cell_type": "markdown",
   "metadata": {},
   "source": [
    "# Create Gene-Attribute Edge List"
   ]
  },
  {
   "cell_type": "code",
   "execution_count": 306,
   "metadata": {
    "collapsed": true
   },
   "outputs": [],
   "source": [
    "name = 'aba_dev_rnaseq_age_gene_attribute_edge_list'"
   ]
  },
  {
   "cell_type": "code",
   "execution_count": 307,
   "metadata": {},
   "outputs": [
    {
     "name": "stdout",
     "output_type": "stream",
     "text": [
      "Progeres: 100%  31 Out of 31   \n",
      "\n",
      " The number of statisticaly relevent gene-attribute associations is: 44822\n"
     ]
    }
   ],
   "source": [
    "mf.createGeneAttributeEdgeList(standard_matrix, attribute_list, gene_list, path, name)"
   ]
  }
 ],
 "metadata": {
  "kernelspec": {
   "display_name": "Python [default]",
   "language": "python",
   "name": "python3"
  },
  "language_info": {
   "codemirror_mode": {
    "name": "ipython",
    "version": 3
   },
   "file_extension": ".py",
   "mimetype": "text/x-python",
   "name": "python",
   "nbconvert_exporter": "python",
   "pygments_lexer": "ipython3",
   "version": "3.5.2"
  }
 },
 "nbformat": 4,
 "nbformat_minor": 2
}
