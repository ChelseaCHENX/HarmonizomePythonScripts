{
 "cells": [
  {
   "cell_type": "markdown",
   "metadata": {},
   "source": [
    "# Allen Brain Atlas Developing Human Brain Age (microarray)"
   ]
  },
  {
   "cell_type": "markdown",
   "metadata": {},
   "source": [
    "Author: Moshe Silverstein <br/>\n",
    "Date: 3-18 <br/>\n",
    "Data Source: http://www.brainspan.org/static/download.html"
   ]
  },
  {
   "cell_type": "code",
   "execution_count": 1,
   "metadata": {
    "collapsed": true
   },
   "outputs": [],
   "source": [
    "import sys, datetime\n",
    "import numpy as np\n",
    "import pandas as pd\n",
    "import importlib\n",
    "import my_functions as mf\n",
    "import matplotlib.pyplot as plt\n",
    "%matplotlib inline"
   ]
  },
  {
   "cell_type": "code",
   "execution_count": 2,
   "metadata": {
    "collapsed": true
   },
   "outputs": [],
   "source": [
    "from clustergrammer_widget import *\n",
    "net = Network(clustergrammer_widget)"
   ]
  },
  {
   "cell_type": "code",
   "execution_count": 3,
   "metadata": {},
   "outputs": [
    {
     "data": {
      "text/plain": [
       "<module 'my_functions' from '/Users/moshesilverstein/Documents/Harmonizome/Allen Brain Atlas/BRAINSPAN atlas of the developing brain/Developnetal Transcriptome Dataset/Microarray/my_functions.py'>"
      ]
     },
     "execution_count": 3,
     "metadata": {},
     "output_type": "execute_result"
    }
   ],
   "source": [
    "importlib.reload(mf)"
   ]
  },
  {
   "cell_type": "markdown",
   "metadata": {},
   "source": [
    "# Versions Of Modules In Use"
   ]
  },
  {
   "cell_type": "code",
   "execution_count": 4,
   "metadata": {},
   "outputs": [
    {
     "data": {
      "application/json": {
       "Software versions": [
        {
         "module": "Python",
         "version": "3.5.2 64bit [GCC 4.2.1 Compatible Apple LLVM 4.2 (clang-425.0.28)]"
        },
        {
         "module": "IPython",
         "version": "5.3.0"
        },
        {
         "module": "OS",
         "version": "Darwin 17.2.0 x86_64 i386 64bit"
        },
        {
         "module": "numpy",
         "version": "1.13.1"
        },
        {
         "module": "pandas",
         "version": "0.21.0"
        },
        {
         "module": "clustergrammer_widget",
         "version": "1.9.0"
        }
       ]
      },
      "text/html": [
       "<table><tr><th>Software</th><th>Version</th></tr><tr><td>Python</td><td>3.5.2 64bit [GCC 4.2.1 Compatible Apple LLVM 4.2 (clang-425.0.28)]</td></tr><tr><td>IPython</td><td>5.3.0</td></tr><tr><td>OS</td><td>Darwin 17.2.0 x86_64 i386 64bit</td></tr><tr><td>numpy</td><td>1.13.1</td></tr><tr><td>pandas</td><td>0.21.0</td></tr><tr><td>clustergrammer_widget</td><td>1.9.0</td></tr><tr><td colspan='2'>Tue Mar 06 15:45:43 2018 EST</td></tr></table>"
      ],
      "text/latex": [
       "\\begin{tabular}{|l|l|}\\hline\n",
       "{\\bf Software} & {\\bf Version} \\\\ \\hline\\hline\n",
       "Python & 3.5.2 64bit [GCC 4.2.1 Compatible Apple LLVM 4.2 (clang-425.0.28)] \\\\ \\hline\n",
       "IPython & 5.3.0 \\\\ \\hline\n",
       "OS & Darwin 17.2.0 x86\\_64 i386 64bit \\\\ \\hline\n",
       "numpy & 1.13.1 \\\\ \\hline\n",
       "pandas & 0.21.0 \\\\ \\hline\n",
       "clustergrammer_widget & 1.9.0 \\\\ \\hline\n",
       "\\hline \\multicolumn{2}{|l|}{Tue Mar 06 15:45:43 2018 EST} \\\\ \\hline\n",
       "\\end{tabular}\n"
      ],
      "text/plain": [
       "Software versions\n",
       "Python 3.5.2 64bit [GCC 4.2.1 Compatible Apple LLVM 4.2 (clang-425.0.28)]\n",
       "IPython 5.3.0\n",
       "OS Darwin 17.2.0 x86_64 i386 64bit\n",
       "numpy 1.13.1\n",
       "pandas 0.21.0\n",
       "clustergrammer_widget 1.9.0\n",
       "Tue Mar 06 15:45:43 2018 EST"
      ]
     },
     "execution_count": 4,
     "metadata": {},
     "output_type": "execute_result"
    }
   ],
   "source": [
    "%load_ext version_information\n",
    "%version_information numpy, pandas, clustergrammer_widget "
   ]
  },
  {
   "cell_type": "markdown",
   "metadata": {},
   "source": [
    "# Path to Output Files"
   ]
  },
  {
   "cell_type": "code",
   "execution_count": 5,
   "metadata": {
    "collapsed": true
   },
   "outputs": [],
   "source": [
    "path = '/Users/moshesilverstein/Documents/Harmonizome/Allen Brain Atlas/BRAINSPAN atlas of the developing brain/Developnetal Transcriptome Dataset/Microarray/Output/'"
   ]
  },
  {
   "cell_type": "markdown",
   "metadata": {},
   "source": [
    "# Load Data"
   ]
  },
  {
   "cell_type": "code",
   "execution_count": 6,
   "metadata": {
    "collapsed": true
   },
   "outputs": [],
   "source": [
    "matrix = pd.read_csv('input/gene_array_matrix_csv/expression_matrix.csv', header=None, index_col=0)"
   ]
  },
  {
   "cell_type": "code",
   "execution_count": 7,
   "metadata": {},
   "outputs": [
    {
     "data": {
      "text/html": [
       "<div>\n",
       "<style scoped>\n",
       "    .dataframe tbody tr th:only-of-type {\n",
       "        vertical-align: middle;\n",
       "    }\n",
       "\n",
       "    .dataframe tbody tr th {\n",
       "        vertical-align: top;\n",
       "    }\n",
       "\n",
       "    .dataframe thead th {\n",
       "        text-align: right;\n",
       "    }\n",
       "</style>\n",
       "<table border=\"1\" class=\"dataframe\">\n",
       "  <thead>\n",
       "    <tr style=\"text-align: right;\">\n",
       "      <th></th>\n",
       "      <th>1</th>\n",
       "      <th>2</th>\n",
       "      <th>3</th>\n",
       "      <th>4</th>\n",
       "      <th>5</th>\n",
       "      <th>6</th>\n",
       "      <th>7</th>\n",
       "      <th>8</th>\n",
       "      <th>9</th>\n",
       "      <th>10</th>\n",
       "      <th>...</th>\n",
       "      <th>483</th>\n",
       "      <th>484</th>\n",
       "      <th>485</th>\n",
       "      <th>486</th>\n",
       "      <th>487</th>\n",
       "      <th>488</th>\n",
       "      <th>489</th>\n",
       "      <th>490</th>\n",
       "      <th>491</th>\n",
       "      <th>492</th>\n",
       "    </tr>\n",
       "    <tr>\n",
       "      <th>0</th>\n",
       "      <th></th>\n",
       "      <th></th>\n",
       "      <th></th>\n",
       "      <th></th>\n",
       "      <th></th>\n",
       "      <th></th>\n",
       "      <th></th>\n",
       "      <th></th>\n",
       "      <th></th>\n",
       "      <th></th>\n",
       "      <th></th>\n",
       "      <th></th>\n",
       "      <th></th>\n",
       "      <th></th>\n",
       "      <th></th>\n",
       "      <th></th>\n",
       "      <th></th>\n",
       "      <th></th>\n",
       "      <th></th>\n",
       "      <th></th>\n",
       "      <th></th>\n",
       "    </tr>\n",
       "  </thead>\n",
       "  <tbody>\n",
       "    <tr>\n",
       "      <th>1</th>\n",
       "      <td>9.16596</td>\n",
       "      <td>9.35303</td>\n",
       "      <td>9.12842</td>\n",
       "      <td>9.28837</td>\n",
       "      <td>9.17170</td>\n",
       "      <td>9.52198</td>\n",
       "      <td>9.26660</td>\n",
       "      <td>9.31059</td>\n",
       "      <td>9.16732</td>\n",
       "      <td>9.12500</td>\n",
       "      <td>...</td>\n",
       "      <td>9.07099</td>\n",
       "      <td>8.77870</td>\n",
       "      <td>8.85986</td>\n",
       "      <td>8.34032</td>\n",
       "      <td>9.35445</td>\n",
       "      <td>8.70370</td>\n",
       "      <td>9.64959</td>\n",
       "      <td>8.52157</td>\n",
       "      <td>9.22952</td>\n",
       "      <td>9.64878</td>\n",
       "    </tr>\n",
       "    <tr>\n",
       "      <th>2</th>\n",
       "      <td>8.40401</td>\n",
       "      <td>8.43084</td>\n",
       "      <td>8.87691</td>\n",
       "      <td>8.81414</td>\n",
       "      <td>8.83160</td>\n",
       "      <td>8.56038</td>\n",
       "      <td>8.42721</td>\n",
       "      <td>8.85843</td>\n",
       "      <td>8.54096</td>\n",
       "      <td>8.34537</td>\n",
       "      <td>...</td>\n",
       "      <td>8.34760</td>\n",
       "      <td>8.45158</td>\n",
       "      <td>8.50765</td>\n",
       "      <td>8.19684</td>\n",
       "      <td>8.14229</td>\n",
       "      <td>8.54619</td>\n",
       "      <td>8.15847</td>\n",
       "      <td>8.77172</td>\n",
       "      <td>8.64942</td>\n",
       "      <td>8.18061</td>\n",
       "    </tr>\n",
       "    <tr>\n",
       "      <th>3</th>\n",
       "      <td>9.35942</td>\n",
       "      <td>9.58458</td>\n",
       "      <td>9.76375</td>\n",
       "      <td>9.53778</td>\n",
       "      <td>9.61363</td>\n",
       "      <td>9.37657</td>\n",
       "      <td>9.55275</td>\n",
       "      <td>9.83603</td>\n",
       "      <td>9.55960</td>\n",
       "      <td>9.36183</td>\n",
       "      <td>...</td>\n",
       "      <td>8.43173</td>\n",
       "      <td>8.54623</td>\n",
       "      <td>9.02475</td>\n",
       "      <td>8.21754</td>\n",
       "      <td>8.91127</td>\n",
       "      <td>8.77168</td>\n",
       "      <td>9.11248</td>\n",
       "      <td>8.40019</td>\n",
       "      <td>9.05908</td>\n",
       "      <td>8.82711</td>\n",
       "    </tr>\n",
       "    <tr>\n",
       "      <th>4</th>\n",
       "      <td>6.30357</td>\n",
       "      <td>6.73438</td>\n",
       "      <td>6.50582</td>\n",
       "      <td>7.24431</td>\n",
       "      <td>6.62531</td>\n",
       "      <td>6.96386</td>\n",
       "      <td>6.74376</td>\n",
       "      <td>6.67833</td>\n",
       "      <td>7.06941</td>\n",
       "      <td>5.86169</td>\n",
       "      <td>...</td>\n",
       "      <td>6.82257</td>\n",
       "      <td>7.54365</td>\n",
       "      <td>7.09902</td>\n",
       "      <td>6.71188</td>\n",
       "      <td>7.16314</td>\n",
       "      <td>7.18352</td>\n",
       "      <td>7.36694</td>\n",
       "      <td>6.70071</td>\n",
       "      <td>7.54916</td>\n",
       "      <td>6.78094</td>\n",
       "    </tr>\n",
       "    <tr>\n",
       "      <th>5</th>\n",
       "      <td>4.57404</td>\n",
       "      <td>5.22911</td>\n",
       "      <td>4.66054</td>\n",
       "      <td>5.03038</td>\n",
       "      <td>5.02629</td>\n",
       "      <td>4.77163</td>\n",
       "      <td>4.89984</td>\n",
       "      <td>5.13641</td>\n",
       "      <td>5.27419</td>\n",
       "      <td>4.73643</td>\n",
       "      <td>...</td>\n",
       "      <td>4.53204</td>\n",
       "      <td>4.72392</td>\n",
       "      <td>4.04599</td>\n",
       "      <td>5.12808</td>\n",
       "      <td>4.59776</td>\n",
       "      <td>4.47878</td>\n",
       "      <td>4.37817</td>\n",
       "      <td>4.59131</td>\n",
       "      <td>4.96854</td>\n",
       "      <td>4.35579</td>\n",
       "    </tr>\n",
       "  </tbody>\n",
       "</table>\n",
       "<p>5 rows × 492 columns</p>\n",
       "</div>"
      ],
      "text/plain": [
       "       1        2        3        4        5        6        7        8    \\\n",
       "0                                                                           \n",
       "1  9.16596  9.35303  9.12842  9.28837  9.17170  9.52198  9.26660  9.31059   \n",
       "2  8.40401  8.43084  8.87691  8.81414  8.83160  8.56038  8.42721  8.85843   \n",
       "3  9.35942  9.58458  9.76375  9.53778  9.61363  9.37657  9.55275  9.83603   \n",
       "4  6.30357  6.73438  6.50582  7.24431  6.62531  6.96386  6.74376  6.67833   \n",
       "5  4.57404  5.22911  4.66054  5.03038  5.02629  4.77163  4.89984  5.13641   \n",
       "\n",
       "       9        10    ...         483      484      485      486      487  \\\n",
       "0                     ...                                                   \n",
       "1  9.16732  9.12500   ...     9.07099  8.77870  8.85986  8.34032  9.35445   \n",
       "2  8.54096  8.34537   ...     8.34760  8.45158  8.50765  8.19684  8.14229   \n",
       "3  9.55960  9.36183   ...     8.43173  8.54623  9.02475  8.21754  8.91127   \n",
       "4  7.06941  5.86169   ...     6.82257  7.54365  7.09902  6.71188  7.16314   \n",
       "5  5.27419  4.73643   ...     4.53204  4.72392  4.04599  5.12808  4.59776   \n",
       "\n",
       "       488      489      490      491      492  \n",
       "0                                               \n",
       "1  8.70370  9.64959  8.52157  9.22952  9.64878  \n",
       "2  8.54619  8.15847  8.77172  8.64942  8.18061  \n",
       "3  8.77168  9.11248  8.40019  9.05908  8.82711  \n",
       "4  7.18352  7.36694  6.70071  7.54916  6.78094  \n",
       "5  4.47878  4.37817  4.59131  4.96854  4.35579  \n",
       "\n",
       "[5 rows x 492 columns]"
      ]
     },
     "execution_count": 7,
     "metadata": {},
     "output_type": "execute_result"
    }
   ],
   "source": [
    "matrix.head()"
   ]
  },
  {
   "cell_type": "code",
   "execution_count": 8,
   "metadata": {},
   "outputs": [
    {
     "data": {
      "text/plain": [
       "(17604, 492)"
      ]
     },
     "execution_count": 8,
     "metadata": {},
     "output_type": "execute_result"
    }
   ],
   "source": [
    "matrix.shape"
   ]
  },
  {
   "cell_type": "markdown",
   "metadata": {},
   "source": [
    "# Load Sample Metadata"
   ]
  },
  {
   "cell_type": "code",
   "execution_count": 9,
   "metadata": {
    "collapsed": true
   },
   "outputs": [],
   "source": [
    "sample_meta = pd.read_csv('input/gene_array_matrix_csv/columns_metadata.csv', index_col=0)"
   ]
  },
  {
   "cell_type": "code",
   "execution_count": 10,
   "metadata": {},
   "outputs": [
    {
     "data": {
      "text/html": [
       "<div>\n",
       "<style scoped>\n",
       "    .dataframe tbody tr th:only-of-type {\n",
       "        vertical-align: middle;\n",
       "    }\n",
       "\n",
       "    .dataframe tbody tr th {\n",
       "        vertical-align: top;\n",
       "    }\n",
       "\n",
       "    .dataframe thead th {\n",
       "        text-align: right;\n",
       "    }\n",
       "</style>\n",
       "<table border=\"1\" class=\"dataframe\">\n",
       "  <thead>\n",
       "    <tr style=\"text-align: right;\">\n",
       "      <th></th>\n",
       "      <th>donor_id</th>\n",
       "      <th>donor_name</th>\n",
       "      <th>age</th>\n",
       "      <th>gender</th>\n",
       "      <th>structure_id</th>\n",
       "      <th>structure_acronym</th>\n",
       "      <th>structure_name</th>\n",
       "    </tr>\n",
       "    <tr>\n",
       "      <th>column_num</th>\n",
       "      <th></th>\n",
       "      <th></th>\n",
       "      <th></th>\n",
       "      <th></th>\n",
       "      <th></th>\n",
       "      <th></th>\n",
       "      <th></th>\n",
       "    </tr>\n",
       "  </thead>\n",
       "  <tbody>\n",
       "    <tr>\n",
       "      <th>1</th>\n",
       "      <td>13058</td>\n",
       "      <td>H376.IIA.51</td>\n",
       "      <td>8 pcw</td>\n",
       "      <td>M</td>\n",
       "      <td>10361</td>\n",
       "      <td>AMY</td>\n",
       "      <td>amygdaloid complex</td>\n",
       "    </tr>\n",
       "    <tr>\n",
       "      <th>2</th>\n",
       "      <td>13058</td>\n",
       "      <td>H376.IIA.51</td>\n",
       "      <td>8 pcw</td>\n",
       "      <td>M</td>\n",
       "      <td>10552</td>\n",
       "      <td>CGE</td>\n",
       "      <td>caudal ganglionic eminence</td>\n",
       "    </tr>\n",
       "    <tr>\n",
       "      <th>3</th>\n",
       "      <td>13058</td>\n",
       "      <td>H376.IIA.51</td>\n",
       "      <td>8 pcw</td>\n",
       "      <td>M</td>\n",
       "      <td>10173</td>\n",
       "      <td>DFC</td>\n",
       "      <td>dorsolateral prefrontal cortex</td>\n",
       "    </tr>\n",
       "    <tr>\n",
       "      <th>4</th>\n",
       "      <td>13058</td>\n",
       "      <td>H376.IIA.51</td>\n",
       "      <td>8 pcw</td>\n",
       "      <td>M</td>\n",
       "      <td>10391</td>\n",
       "      <td>DTH</td>\n",
       "      <td>dorsal thalamus</td>\n",
       "    </tr>\n",
       "    <tr>\n",
       "      <th>5</th>\n",
       "      <td>13058</td>\n",
       "      <td>H376.IIA.51</td>\n",
       "      <td>8 pcw</td>\n",
       "      <td>M</td>\n",
       "      <td>10294</td>\n",
       "      <td>HIP</td>\n",
       "      <td>hippocampus (hippocampal formation)</td>\n",
       "    </tr>\n",
       "  </tbody>\n",
       "</table>\n",
       "</div>"
      ],
      "text/plain": [
       "            donor_id   donor_name    age gender  structure_id  \\\n",
       "column_num                                                      \n",
       "1              13058  H376.IIA.51  8 pcw      M         10361   \n",
       "2              13058  H376.IIA.51  8 pcw      M         10552   \n",
       "3              13058  H376.IIA.51  8 pcw      M         10173   \n",
       "4              13058  H376.IIA.51  8 pcw      M         10391   \n",
       "5              13058  H376.IIA.51  8 pcw      M         10294   \n",
       "\n",
       "           structure_acronym                       structure_name  \n",
       "column_num                                                         \n",
       "1                        AMY                   amygdaloid complex  \n",
       "2                        CGE           caudal ganglionic eminence  \n",
       "3                        DFC       dorsolateral prefrontal cortex  \n",
       "4                        DTH                      dorsal thalamus  \n",
       "5                        HIP  hippocampus (hippocampal formation)  "
      ]
     },
     "execution_count": 10,
     "metadata": {},
     "output_type": "execute_result"
    }
   ],
   "source": [
    "sample_meta.head()"
   ]
  },
  {
   "cell_type": "code",
   "execution_count": 11,
   "metadata": {},
   "outputs": [
    {
     "data": {
      "text/plain": [
       "(492, 7)"
      ]
     },
     "execution_count": 11,
     "metadata": {},
     "output_type": "execute_result"
    }
   ],
   "source": [
    "sample_meta.shape"
   ]
  },
  {
   "cell_type": "markdown",
   "metadata": {},
   "source": [
    "# Load Gene Metadata"
   ]
  },
  {
   "cell_type": "code",
   "execution_count": 12,
   "metadata": {
    "collapsed": true
   },
   "outputs": [],
   "source": [
    "gene_meta = pd.read_csv('input/gene_array_matrix_csv/rows_metadata.csv', index_col=0)"
   ]
  },
  {
   "cell_type": "code",
   "execution_count": 13,
   "metadata": {},
   "outputs": [
    {
     "data": {
      "text/html": [
       "<div>\n",
       "<style scoped>\n",
       "    .dataframe tbody tr th:only-of-type {\n",
       "        vertical-align: middle;\n",
       "    }\n",
       "\n",
       "    .dataframe tbody tr th {\n",
       "        vertical-align: top;\n",
       "    }\n",
       "\n",
       "    .dataframe thead th {\n",
       "        text-align: right;\n",
       "    }\n",
       "</style>\n",
       "<table border=\"1\" class=\"dataframe\">\n",
       "  <thead>\n",
       "    <tr style=\"text-align: right;\">\n",
       "      <th></th>\n",
       "      <th>gene_id</th>\n",
       "      <th>ensembl_gene_id</th>\n",
       "      <th>gene_symbol</th>\n",
       "      <th>entrez_id</th>\n",
       "    </tr>\n",
       "    <tr>\n",
       "      <th>row_num</th>\n",
       "      <th></th>\n",
       "      <th></th>\n",
       "      <th></th>\n",
       "      <th></th>\n",
       "    </tr>\n",
       "  </thead>\n",
       "  <tbody>\n",
       "    <tr>\n",
       "      <th>1</th>\n",
       "      <td>9633</td>\n",
       "      <td>ENSG00000101337</td>\n",
       "      <td>TM9SF4</td>\n",
       "      <td>9777</td>\n",
       "    </tr>\n",
       "    <tr>\n",
       "      <th>2</th>\n",
       "      <td>22692</td>\n",
       "      <td>ENSG00000114650</td>\n",
       "      <td>SCAP</td>\n",
       "      <td>22937</td>\n",
       "    </tr>\n",
       "    <tr>\n",
       "      <th>3</th>\n",
       "      <td>22952</td>\n",
       "      <td>ENSG00000113194</td>\n",
       "      <td>FAF2</td>\n",
       "      <td>23197</td>\n",
       "    </tr>\n",
       "    <tr>\n",
       "      <th>4</th>\n",
       "      <td>34497</td>\n",
       "      <td>ENSG00000150401</td>\n",
       "      <td>DCUN1D2</td>\n",
       "      <td>55208</td>\n",
       "    </tr>\n",
       "    <tr>\n",
       "      <th>5</th>\n",
       "      <td>35224</td>\n",
       "      <td>ENSG00000204444</td>\n",
       "      <td>APOM</td>\n",
       "      <td>55937</td>\n",
       "    </tr>\n",
       "  </tbody>\n",
       "</table>\n",
       "</div>"
      ],
      "text/plain": [
       "         gene_id  ensembl_gene_id gene_symbol  entrez_id\n",
       "row_num                                                 \n",
       "1           9633  ENSG00000101337      TM9SF4       9777\n",
       "2          22692  ENSG00000114650        SCAP      22937\n",
       "3          22952  ENSG00000113194        FAF2      23197\n",
       "4          34497  ENSG00000150401     DCUN1D2      55208\n",
       "5          35224  ENSG00000204444        APOM      55937"
      ]
     },
     "execution_count": 13,
     "metadata": {},
     "output_type": "execute_result"
    }
   ],
   "source": [
    "gene_meta.head()"
   ]
  },
  {
   "cell_type": "code",
   "execution_count": 14,
   "metadata": {},
   "outputs": [
    {
     "data": {
      "text/plain": [
       "(17604, 4)"
      ]
     },
     "execution_count": 14,
     "metadata": {},
     "output_type": "execute_result"
    }
   ],
   "source": [
    "gene_meta.shape"
   ]
  },
  {
   "cell_type": "markdown",
   "metadata": {},
   "source": [
    "# Map Sample Metadata to Sample ID"
   ]
  },
  {
   "cell_type": "code",
   "execution_count": 15,
   "metadata": {
    "collapsed": true
   },
   "outputs": [],
   "source": [
    "matrix.columns = sample_meta['age']"
   ]
  },
  {
   "cell_type": "code",
   "execution_count": 16,
   "metadata": {
    "collapsed": true
   },
   "outputs": [],
   "source": [
    "matrix.columns.name = ''"
   ]
  },
  {
   "cell_type": "code",
   "execution_count": 17,
   "metadata": {},
   "outputs": [
    {
     "data": {
      "text/html": [
       "<div>\n",
       "<style scoped>\n",
       "    .dataframe tbody tr th:only-of-type {\n",
       "        vertical-align: middle;\n",
       "    }\n",
       "\n",
       "    .dataframe tbody tr th {\n",
       "        vertical-align: top;\n",
       "    }\n",
       "\n",
       "    .dataframe thead th {\n",
       "        text-align: right;\n",
       "    }\n",
       "</style>\n",
       "<table border=\"1\" class=\"dataframe\">\n",
       "  <thead>\n",
       "    <tr style=\"text-align: right;\">\n",
       "      <th></th>\n",
       "      <th>8 pcw</th>\n",
       "      <th>8 pcw</th>\n",
       "      <th>8 pcw</th>\n",
       "      <th>8 pcw</th>\n",
       "      <th>8 pcw</th>\n",
       "      <th>8 pcw</th>\n",
       "      <th>8 pcw</th>\n",
       "      <th>8 pcw</th>\n",
       "      <th>8 pcw</th>\n",
       "      <th>8 pcw</th>\n",
       "      <th>...</th>\n",
       "      <th>40 yrs</th>\n",
       "      <th>40 yrs</th>\n",
       "      <th>40 yrs</th>\n",
       "      <th>40 yrs</th>\n",
       "      <th>40 yrs</th>\n",
       "      <th>40 yrs</th>\n",
       "      <th>40 yrs</th>\n",
       "      <th>40 yrs</th>\n",
       "      <th>40 yrs</th>\n",
       "      <th>40 yrs</th>\n",
       "    </tr>\n",
       "    <tr>\n",
       "      <th>0</th>\n",
       "      <th></th>\n",
       "      <th></th>\n",
       "      <th></th>\n",
       "      <th></th>\n",
       "      <th></th>\n",
       "      <th></th>\n",
       "      <th></th>\n",
       "      <th></th>\n",
       "      <th></th>\n",
       "      <th></th>\n",
       "      <th></th>\n",
       "      <th></th>\n",
       "      <th></th>\n",
       "      <th></th>\n",
       "      <th></th>\n",
       "      <th></th>\n",
       "      <th></th>\n",
       "      <th></th>\n",
       "      <th></th>\n",
       "      <th></th>\n",
       "      <th></th>\n",
       "    </tr>\n",
       "  </thead>\n",
       "  <tbody>\n",
       "    <tr>\n",
       "      <th>1</th>\n",
       "      <td>9.16596</td>\n",
       "      <td>9.35303</td>\n",
       "      <td>9.12842</td>\n",
       "      <td>9.28837</td>\n",
       "      <td>9.17170</td>\n",
       "      <td>9.52198</td>\n",
       "      <td>9.26660</td>\n",
       "      <td>9.31059</td>\n",
       "      <td>9.16732</td>\n",
       "      <td>9.12500</td>\n",
       "      <td>...</td>\n",
       "      <td>9.07099</td>\n",
       "      <td>8.77870</td>\n",
       "      <td>8.85986</td>\n",
       "      <td>8.34032</td>\n",
       "      <td>9.35445</td>\n",
       "      <td>8.70370</td>\n",
       "      <td>9.64959</td>\n",
       "      <td>8.52157</td>\n",
       "      <td>9.22952</td>\n",
       "      <td>9.64878</td>\n",
       "    </tr>\n",
       "    <tr>\n",
       "      <th>2</th>\n",
       "      <td>8.40401</td>\n",
       "      <td>8.43084</td>\n",
       "      <td>8.87691</td>\n",
       "      <td>8.81414</td>\n",
       "      <td>8.83160</td>\n",
       "      <td>8.56038</td>\n",
       "      <td>8.42721</td>\n",
       "      <td>8.85843</td>\n",
       "      <td>8.54096</td>\n",
       "      <td>8.34537</td>\n",
       "      <td>...</td>\n",
       "      <td>8.34760</td>\n",
       "      <td>8.45158</td>\n",
       "      <td>8.50765</td>\n",
       "      <td>8.19684</td>\n",
       "      <td>8.14229</td>\n",
       "      <td>8.54619</td>\n",
       "      <td>8.15847</td>\n",
       "      <td>8.77172</td>\n",
       "      <td>8.64942</td>\n",
       "      <td>8.18061</td>\n",
       "    </tr>\n",
       "    <tr>\n",
       "      <th>3</th>\n",
       "      <td>9.35942</td>\n",
       "      <td>9.58458</td>\n",
       "      <td>9.76375</td>\n",
       "      <td>9.53778</td>\n",
       "      <td>9.61363</td>\n",
       "      <td>9.37657</td>\n",
       "      <td>9.55275</td>\n",
       "      <td>9.83603</td>\n",
       "      <td>9.55960</td>\n",
       "      <td>9.36183</td>\n",
       "      <td>...</td>\n",
       "      <td>8.43173</td>\n",
       "      <td>8.54623</td>\n",
       "      <td>9.02475</td>\n",
       "      <td>8.21754</td>\n",
       "      <td>8.91127</td>\n",
       "      <td>8.77168</td>\n",
       "      <td>9.11248</td>\n",
       "      <td>8.40019</td>\n",
       "      <td>9.05908</td>\n",
       "      <td>8.82711</td>\n",
       "    </tr>\n",
       "    <tr>\n",
       "      <th>4</th>\n",
       "      <td>6.30357</td>\n",
       "      <td>6.73438</td>\n",
       "      <td>6.50582</td>\n",
       "      <td>7.24431</td>\n",
       "      <td>6.62531</td>\n",
       "      <td>6.96386</td>\n",
       "      <td>6.74376</td>\n",
       "      <td>6.67833</td>\n",
       "      <td>7.06941</td>\n",
       "      <td>5.86169</td>\n",
       "      <td>...</td>\n",
       "      <td>6.82257</td>\n",
       "      <td>7.54365</td>\n",
       "      <td>7.09902</td>\n",
       "      <td>6.71188</td>\n",
       "      <td>7.16314</td>\n",
       "      <td>7.18352</td>\n",
       "      <td>7.36694</td>\n",
       "      <td>6.70071</td>\n",
       "      <td>7.54916</td>\n",
       "      <td>6.78094</td>\n",
       "    </tr>\n",
       "    <tr>\n",
       "      <th>5</th>\n",
       "      <td>4.57404</td>\n",
       "      <td>5.22911</td>\n",
       "      <td>4.66054</td>\n",
       "      <td>5.03038</td>\n",
       "      <td>5.02629</td>\n",
       "      <td>4.77163</td>\n",
       "      <td>4.89984</td>\n",
       "      <td>5.13641</td>\n",
       "      <td>5.27419</td>\n",
       "      <td>4.73643</td>\n",
       "      <td>...</td>\n",
       "      <td>4.53204</td>\n",
       "      <td>4.72392</td>\n",
       "      <td>4.04599</td>\n",
       "      <td>5.12808</td>\n",
       "      <td>4.59776</td>\n",
       "      <td>4.47878</td>\n",
       "      <td>4.37817</td>\n",
       "      <td>4.59131</td>\n",
       "      <td>4.96854</td>\n",
       "      <td>4.35579</td>\n",
       "    </tr>\n",
       "  </tbody>\n",
       "</table>\n",
       "<p>5 rows × 492 columns</p>\n",
       "</div>"
      ],
      "text/plain": [
       "     8 pcw    8 pcw    8 pcw    8 pcw    8 pcw    8 pcw    8 pcw    8 pcw  \\\n",
       "0                                                                           \n",
       "1  9.16596  9.35303  9.12842  9.28837  9.17170  9.52198  9.26660  9.31059   \n",
       "2  8.40401  8.43084  8.87691  8.81414  8.83160  8.56038  8.42721  8.85843   \n",
       "3  9.35942  9.58458  9.76375  9.53778  9.61363  9.37657  9.55275  9.83603   \n",
       "4  6.30357  6.73438  6.50582  7.24431  6.62531  6.96386  6.74376  6.67833   \n",
       "5  4.57404  5.22911  4.66054  5.03038  5.02629  4.77163  4.89984  5.13641   \n",
       "\n",
       "     8 pcw    8 pcw   ...      40 yrs   40 yrs   40 yrs   40 yrs   40 yrs  \\\n",
       "0                     ...                                                   \n",
       "1  9.16732  9.12500   ...     9.07099  8.77870  8.85986  8.34032  9.35445   \n",
       "2  8.54096  8.34537   ...     8.34760  8.45158  8.50765  8.19684  8.14229   \n",
       "3  9.55960  9.36183   ...     8.43173  8.54623  9.02475  8.21754  8.91127   \n",
       "4  7.06941  5.86169   ...     6.82257  7.54365  7.09902  6.71188  7.16314   \n",
       "5  5.27419  4.73643   ...     4.53204  4.72392  4.04599  5.12808  4.59776   \n",
       "\n",
       "    40 yrs   40 yrs   40 yrs   40 yrs   40 yrs  \n",
       "0                                               \n",
       "1  8.70370  9.64959  8.52157  9.22952  9.64878  \n",
       "2  8.54619  8.15847  8.77172  8.64942  8.18061  \n",
       "3  8.77168  9.11248  8.40019  9.05908  8.82711  \n",
       "4  7.18352  7.36694  6.70071  7.54916  6.78094  \n",
       "5  4.47878  4.37817  4.59131  4.96854  4.35579  \n",
       "\n",
       "[5 rows x 492 columns]"
      ]
     },
     "execution_count": 17,
     "metadata": {},
     "output_type": "execute_result"
    }
   ],
   "source": [
    "matrix.head()"
   ]
  },
  {
   "cell_type": "markdown",
   "metadata": {},
   "source": [
    "# Map Gene to Row"
   ]
  },
  {
   "cell_type": "code",
   "execution_count": 18,
   "metadata": {
    "collapsed": true
   },
   "outputs": [],
   "source": [
    "matrix.index = gene_meta['gene_symbol']"
   ]
  },
  {
   "cell_type": "code",
   "execution_count": 19,
   "metadata": {
    "collapsed": true
   },
   "outputs": [],
   "source": [
    "matrix.index.name = ''"
   ]
  },
  {
   "cell_type": "code",
   "execution_count": 20,
   "metadata": {},
   "outputs": [
    {
     "data": {
      "text/html": [
       "<div>\n",
       "<style scoped>\n",
       "    .dataframe tbody tr th:only-of-type {\n",
       "        vertical-align: middle;\n",
       "    }\n",
       "\n",
       "    .dataframe tbody tr th {\n",
       "        vertical-align: top;\n",
       "    }\n",
       "\n",
       "    .dataframe thead th {\n",
       "        text-align: right;\n",
       "    }\n",
       "</style>\n",
       "<table border=\"1\" class=\"dataframe\">\n",
       "  <thead>\n",
       "    <tr style=\"text-align: right;\">\n",
       "      <th></th>\n",
       "      <th>8 pcw</th>\n",
       "      <th>8 pcw</th>\n",
       "      <th>8 pcw</th>\n",
       "      <th>8 pcw</th>\n",
       "      <th>8 pcw</th>\n",
       "      <th>8 pcw</th>\n",
       "      <th>8 pcw</th>\n",
       "      <th>8 pcw</th>\n",
       "      <th>8 pcw</th>\n",
       "      <th>8 pcw</th>\n",
       "      <th>...</th>\n",
       "      <th>40 yrs</th>\n",
       "      <th>40 yrs</th>\n",
       "      <th>40 yrs</th>\n",
       "      <th>40 yrs</th>\n",
       "      <th>40 yrs</th>\n",
       "      <th>40 yrs</th>\n",
       "      <th>40 yrs</th>\n",
       "      <th>40 yrs</th>\n",
       "      <th>40 yrs</th>\n",
       "      <th>40 yrs</th>\n",
       "    </tr>\n",
       "    <tr>\n",
       "      <th></th>\n",
       "      <th></th>\n",
       "      <th></th>\n",
       "      <th></th>\n",
       "      <th></th>\n",
       "      <th></th>\n",
       "      <th></th>\n",
       "      <th></th>\n",
       "      <th></th>\n",
       "      <th></th>\n",
       "      <th></th>\n",
       "      <th></th>\n",
       "      <th></th>\n",
       "      <th></th>\n",
       "      <th></th>\n",
       "      <th></th>\n",
       "      <th></th>\n",
       "      <th></th>\n",
       "      <th></th>\n",
       "      <th></th>\n",
       "      <th></th>\n",
       "      <th></th>\n",
       "    </tr>\n",
       "  </thead>\n",
       "  <tbody>\n",
       "    <tr>\n",
       "      <th>TM9SF4</th>\n",
       "      <td>9.16596</td>\n",
       "      <td>9.35303</td>\n",
       "      <td>9.12842</td>\n",
       "      <td>9.28837</td>\n",
       "      <td>9.17170</td>\n",
       "      <td>9.52198</td>\n",
       "      <td>9.26660</td>\n",
       "      <td>9.31059</td>\n",
       "      <td>9.16732</td>\n",
       "      <td>9.12500</td>\n",
       "      <td>...</td>\n",
       "      <td>9.07099</td>\n",
       "      <td>8.77870</td>\n",
       "      <td>8.85986</td>\n",
       "      <td>8.34032</td>\n",
       "      <td>9.35445</td>\n",
       "      <td>8.70370</td>\n",
       "      <td>9.64959</td>\n",
       "      <td>8.52157</td>\n",
       "      <td>9.22952</td>\n",
       "      <td>9.64878</td>\n",
       "    </tr>\n",
       "    <tr>\n",
       "      <th>SCAP</th>\n",
       "      <td>8.40401</td>\n",
       "      <td>8.43084</td>\n",
       "      <td>8.87691</td>\n",
       "      <td>8.81414</td>\n",
       "      <td>8.83160</td>\n",
       "      <td>8.56038</td>\n",
       "      <td>8.42721</td>\n",
       "      <td>8.85843</td>\n",
       "      <td>8.54096</td>\n",
       "      <td>8.34537</td>\n",
       "      <td>...</td>\n",
       "      <td>8.34760</td>\n",
       "      <td>8.45158</td>\n",
       "      <td>8.50765</td>\n",
       "      <td>8.19684</td>\n",
       "      <td>8.14229</td>\n",
       "      <td>8.54619</td>\n",
       "      <td>8.15847</td>\n",
       "      <td>8.77172</td>\n",
       "      <td>8.64942</td>\n",
       "      <td>8.18061</td>\n",
       "    </tr>\n",
       "    <tr>\n",
       "      <th>FAF2</th>\n",
       "      <td>9.35942</td>\n",
       "      <td>9.58458</td>\n",
       "      <td>9.76375</td>\n",
       "      <td>9.53778</td>\n",
       "      <td>9.61363</td>\n",
       "      <td>9.37657</td>\n",
       "      <td>9.55275</td>\n",
       "      <td>9.83603</td>\n",
       "      <td>9.55960</td>\n",
       "      <td>9.36183</td>\n",
       "      <td>...</td>\n",
       "      <td>8.43173</td>\n",
       "      <td>8.54623</td>\n",
       "      <td>9.02475</td>\n",
       "      <td>8.21754</td>\n",
       "      <td>8.91127</td>\n",
       "      <td>8.77168</td>\n",
       "      <td>9.11248</td>\n",
       "      <td>8.40019</td>\n",
       "      <td>9.05908</td>\n",
       "      <td>8.82711</td>\n",
       "    </tr>\n",
       "    <tr>\n",
       "      <th>DCUN1D2</th>\n",
       "      <td>6.30357</td>\n",
       "      <td>6.73438</td>\n",
       "      <td>6.50582</td>\n",
       "      <td>7.24431</td>\n",
       "      <td>6.62531</td>\n",
       "      <td>6.96386</td>\n",
       "      <td>6.74376</td>\n",
       "      <td>6.67833</td>\n",
       "      <td>7.06941</td>\n",
       "      <td>5.86169</td>\n",
       "      <td>...</td>\n",
       "      <td>6.82257</td>\n",
       "      <td>7.54365</td>\n",
       "      <td>7.09902</td>\n",
       "      <td>6.71188</td>\n",
       "      <td>7.16314</td>\n",
       "      <td>7.18352</td>\n",
       "      <td>7.36694</td>\n",
       "      <td>6.70071</td>\n",
       "      <td>7.54916</td>\n",
       "      <td>6.78094</td>\n",
       "    </tr>\n",
       "    <tr>\n",
       "      <th>APOM</th>\n",
       "      <td>4.57404</td>\n",
       "      <td>5.22911</td>\n",
       "      <td>4.66054</td>\n",
       "      <td>5.03038</td>\n",
       "      <td>5.02629</td>\n",
       "      <td>4.77163</td>\n",
       "      <td>4.89984</td>\n",
       "      <td>5.13641</td>\n",
       "      <td>5.27419</td>\n",
       "      <td>4.73643</td>\n",
       "      <td>...</td>\n",
       "      <td>4.53204</td>\n",
       "      <td>4.72392</td>\n",
       "      <td>4.04599</td>\n",
       "      <td>5.12808</td>\n",
       "      <td>4.59776</td>\n",
       "      <td>4.47878</td>\n",
       "      <td>4.37817</td>\n",
       "      <td>4.59131</td>\n",
       "      <td>4.96854</td>\n",
       "      <td>4.35579</td>\n",
       "    </tr>\n",
       "  </tbody>\n",
       "</table>\n",
       "<p>5 rows × 492 columns</p>\n",
       "</div>"
      ],
      "text/plain": [
       "           8 pcw    8 pcw    8 pcw    8 pcw    8 pcw    8 pcw    8 pcw  \\\n",
       "                                                                         \n",
       "TM9SF4   9.16596  9.35303  9.12842  9.28837  9.17170  9.52198  9.26660   \n",
       "SCAP     8.40401  8.43084  8.87691  8.81414  8.83160  8.56038  8.42721   \n",
       "FAF2     9.35942  9.58458  9.76375  9.53778  9.61363  9.37657  9.55275   \n",
       "DCUN1D2  6.30357  6.73438  6.50582  7.24431  6.62531  6.96386  6.74376   \n",
       "APOM     4.57404  5.22911  4.66054  5.03038  5.02629  4.77163  4.89984   \n",
       "\n",
       "           8 pcw    8 pcw    8 pcw   ...      40 yrs   40 yrs   40 yrs  \\\n",
       "                                     ...                                 \n",
       "TM9SF4   9.31059  9.16732  9.12500   ...     9.07099  8.77870  8.85986   \n",
       "SCAP     8.85843  8.54096  8.34537   ...     8.34760  8.45158  8.50765   \n",
       "FAF2     9.83603  9.55960  9.36183   ...     8.43173  8.54623  9.02475   \n",
       "DCUN1D2  6.67833  7.06941  5.86169   ...     6.82257  7.54365  7.09902   \n",
       "APOM     5.13641  5.27419  4.73643   ...     4.53204  4.72392  4.04599   \n",
       "\n",
       "          40 yrs   40 yrs   40 yrs   40 yrs   40 yrs   40 yrs   40 yrs  \n",
       "                                                                        \n",
       "TM9SF4   8.34032  9.35445  8.70370  9.64959  8.52157  9.22952  9.64878  \n",
       "SCAP     8.19684  8.14229  8.54619  8.15847  8.77172  8.64942  8.18061  \n",
       "FAF2     8.21754  8.91127  8.77168  9.11248  8.40019  9.05908  8.82711  \n",
       "DCUN1D2  6.71188  7.16314  7.18352  7.36694  6.70071  7.54916  6.78094  \n",
       "APOM     5.12808  4.59776  4.47878  4.37817  4.59131  4.96854  4.35579  \n",
       "\n",
       "[5 rows x 492 columns]"
      ]
     },
     "execution_count": 20,
     "metadata": {},
     "output_type": "execute_result"
    }
   ],
   "source": [
    "matrix.head()"
   ]
  },
  {
   "cell_type": "markdown",
   "metadata": {},
   "source": [
    "# Save Unfiltered Matrix to file"
   ]
  },
  {
   "cell_type": "code",
   "execution_count": 21,
   "metadata": {
    "collapsed": true
   },
   "outputs": [],
   "source": [
    "filename = path+'aba_dev_mic_age_matrix_unfilltered_%s.tsv.zip'% str(datetime.date.today())[0:7].replace('-', '_')\n",
    "matrix.to_csv(filename, sep='\\t', compression='gzip')"
   ]
  },
  {
   "cell_type": "markdown",
   "metadata": {},
   "source": [
    "# Filtered"
   ]
  },
  {
   "cell_type": "code",
   "execution_count": 22,
   "metadata": {
    "collapsed": true
   },
   "outputs": [],
   "source": [
    "normalized_matrix = matrix.copy()"
   ]
  },
  {
   "cell_type": "code",
   "execution_count": 23,
   "metadata": {},
   "outputs": [
    {
     "data": {
      "text/html": [
       "<div>\n",
       "<style scoped>\n",
       "    .dataframe tbody tr th:only-of-type {\n",
       "        vertical-align: middle;\n",
       "    }\n",
       "\n",
       "    .dataframe tbody tr th {\n",
       "        vertical-align: top;\n",
       "    }\n",
       "\n",
       "    .dataframe thead th {\n",
       "        text-align: right;\n",
       "    }\n",
       "</style>\n",
       "<table border=\"1\" class=\"dataframe\">\n",
       "  <thead>\n",
       "    <tr style=\"text-align: right;\">\n",
       "      <th></th>\n",
       "      <th>8 pcw</th>\n",
       "      <th>8 pcw</th>\n",
       "      <th>8 pcw</th>\n",
       "      <th>8 pcw</th>\n",
       "      <th>8 pcw</th>\n",
       "      <th>8 pcw</th>\n",
       "      <th>8 pcw</th>\n",
       "      <th>8 pcw</th>\n",
       "      <th>8 pcw</th>\n",
       "      <th>8 pcw</th>\n",
       "      <th>...</th>\n",
       "      <th>40 yrs</th>\n",
       "      <th>40 yrs</th>\n",
       "      <th>40 yrs</th>\n",
       "      <th>40 yrs</th>\n",
       "      <th>40 yrs</th>\n",
       "      <th>40 yrs</th>\n",
       "      <th>40 yrs</th>\n",
       "      <th>40 yrs</th>\n",
       "      <th>40 yrs</th>\n",
       "      <th>40 yrs</th>\n",
       "    </tr>\n",
       "    <tr>\n",
       "      <th></th>\n",
       "      <th></th>\n",
       "      <th></th>\n",
       "      <th></th>\n",
       "      <th></th>\n",
       "      <th></th>\n",
       "      <th></th>\n",
       "      <th></th>\n",
       "      <th></th>\n",
       "      <th></th>\n",
       "      <th></th>\n",
       "      <th></th>\n",
       "      <th></th>\n",
       "      <th></th>\n",
       "      <th></th>\n",
       "      <th></th>\n",
       "      <th></th>\n",
       "      <th></th>\n",
       "      <th></th>\n",
       "      <th></th>\n",
       "      <th></th>\n",
       "      <th></th>\n",
       "    </tr>\n",
       "  </thead>\n",
       "  <tbody>\n",
       "    <tr>\n",
       "      <th>TM9SF4</th>\n",
       "      <td>9.16596</td>\n",
       "      <td>9.35303</td>\n",
       "      <td>9.12842</td>\n",
       "      <td>9.28837</td>\n",
       "      <td>9.17170</td>\n",
       "      <td>9.52198</td>\n",
       "      <td>9.26660</td>\n",
       "      <td>9.31059</td>\n",
       "      <td>9.16732</td>\n",
       "      <td>9.12500</td>\n",
       "      <td>...</td>\n",
       "      <td>9.07099</td>\n",
       "      <td>8.77870</td>\n",
       "      <td>8.85986</td>\n",
       "      <td>8.34032</td>\n",
       "      <td>9.35445</td>\n",
       "      <td>8.70370</td>\n",
       "      <td>9.64959</td>\n",
       "      <td>8.52157</td>\n",
       "      <td>9.22952</td>\n",
       "      <td>9.64878</td>\n",
       "    </tr>\n",
       "    <tr>\n",
       "      <th>SCAP</th>\n",
       "      <td>8.40401</td>\n",
       "      <td>8.43084</td>\n",
       "      <td>8.87691</td>\n",
       "      <td>8.81414</td>\n",
       "      <td>8.83160</td>\n",
       "      <td>8.56038</td>\n",
       "      <td>8.42721</td>\n",
       "      <td>8.85843</td>\n",
       "      <td>8.54096</td>\n",
       "      <td>8.34537</td>\n",
       "      <td>...</td>\n",
       "      <td>8.34760</td>\n",
       "      <td>8.45158</td>\n",
       "      <td>8.50765</td>\n",
       "      <td>8.19684</td>\n",
       "      <td>8.14229</td>\n",
       "      <td>8.54619</td>\n",
       "      <td>8.15847</td>\n",
       "      <td>8.77172</td>\n",
       "      <td>8.64942</td>\n",
       "      <td>8.18061</td>\n",
       "    </tr>\n",
       "    <tr>\n",
       "      <th>FAF2</th>\n",
       "      <td>9.35942</td>\n",
       "      <td>9.58458</td>\n",
       "      <td>9.76375</td>\n",
       "      <td>9.53778</td>\n",
       "      <td>9.61363</td>\n",
       "      <td>9.37657</td>\n",
       "      <td>9.55275</td>\n",
       "      <td>9.83603</td>\n",
       "      <td>9.55960</td>\n",
       "      <td>9.36183</td>\n",
       "      <td>...</td>\n",
       "      <td>8.43173</td>\n",
       "      <td>8.54623</td>\n",
       "      <td>9.02475</td>\n",
       "      <td>8.21754</td>\n",
       "      <td>8.91127</td>\n",
       "      <td>8.77168</td>\n",
       "      <td>9.11248</td>\n",
       "      <td>8.40019</td>\n",
       "      <td>9.05908</td>\n",
       "      <td>8.82711</td>\n",
       "    </tr>\n",
       "    <tr>\n",
       "      <th>DCUN1D2</th>\n",
       "      <td>6.30357</td>\n",
       "      <td>6.73438</td>\n",
       "      <td>6.50582</td>\n",
       "      <td>7.24431</td>\n",
       "      <td>6.62531</td>\n",
       "      <td>6.96386</td>\n",
       "      <td>6.74376</td>\n",
       "      <td>6.67833</td>\n",
       "      <td>7.06941</td>\n",
       "      <td>5.86169</td>\n",
       "      <td>...</td>\n",
       "      <td>6.82257</td>\n",
       "      <td>7.54365</td>\n",
       "      <td>7.09902</td>\n",
       "      <td>6.71188</td>\n",
       "      <td>7.16314</td>\n",
       "      <td>7.18352</td>\n",
       "      <td>7.36694</td>\n",
       "      <td>6.70071</td>\n",
       "      <td>7.54916</td>\n",
       "      <td>6.78094</td>\n",
       "    </tr>\n",
       "    <tr>\n",
       "      <th>APOM</th>\n",
       "      <td>4.57404</td>\n",
       "      <td>5.22911</td>\n",
       "      <td>4.66054</td>\n",
       "      <td>5.03038</td>\n",
       "      <td>5.02629</td>\n",
       "      <td>4.77163</td>\n",
       "      <td>4.89984</td>\n",
       "      <td>5.13641</td>\n",
       "      <td>5.27419</td>\n",
       "      <td>4.73643</td>\n",
       "      <td>...</td>\n",
       "      <td>4.53204</td>\n",
       "      <td>4.72392</td>\n",
       "      <td>4.04599</td>\n",
       "      <td>5.12808</td>\n",
       "      <td>4.59776</td>\n",
       "      <td>4.47878</td>\n",
       "      <td>4.37817</td>\n",
       "      <td>4.59131</td>\n",
       "      <td>4.96854</td>\n",
       "      <td>4.35579</td>\n",
       "    </tr>\n",
       "  </tbody>\n",
       "</table>\n",
       "<p>5 rows × 492 columns</p>\n",
       "</div>"
      ],
      "text/plain": [
       "           8 pcw    8 pcw    8 pcw    8 pcw    8 pcw    8 pcw    8 pcw  \\\n",
       "                                                                         \n",
       "TM9SF4   9.16596  9.35303  9.12842  9.28837  9.17170  9.52198  9.26660   \n",
       "SCAP     8.40401  8.43084  8.87691  8.81414  8.83160  8.56038  8.42721   \n",
       "FAF2     9.35942  9.58458  9.76375  9.53778  9.61363  9.37657  9.55275   \n",
       "DCUN1D2  6.30357  6.73438  6.50582  7.24431  6.62531  6.96386  6.74376   \n",
       "APOM     4.57404  5.22911  4.66054  5.03038  5.02629  4.77163  4.89984   \n",
       "\n",
       "           8 pcw    8 pcw    8 pcw   ...      40 yrs   40 yrs   40 yrs  \\\n",
       "                                     ...                                 \n",
       "TM9SF4   9.31059  9.16732  9.12500   ...     9.07099  8.77870  8.85986   \n",
       "SCAP     8.85843  8.54096  8.34537   ...     8.34760  8.45158  8.50765   \n",
       "FAF2     9.83603  9.55960  9.36183   ...     8.43173  8.54623  9.02475   \n",
       "DCUN1D2  6.67833  7.06941  5.86169   ...     6.82257  7.54365  7.09902   \n",
       "APOM     5.13641  5.27419  4.73643   ...     4.53204  4.72392  4.04599   \n",
       "\n",
       "          40 yrs   40 yrs   40 yrs   40 yrs   40 yrs   40 yrs   40 yrs  \n",
       "                                                                        \n",
       "TM9SF4   8.34032  9.35445  8.70370  9.64959  8.52157  9.22952  9.64878  \n",
       "SCAP     8.19684  8.14229  8.54619  8.15847  8.77172  8.64942  8.18061  \n",
       "FAF2     8.21754  8.91127  8.77168  9.11248  8.40019  9.05908  8.82711  \n",
       "DCUN1D2  6.71188  7.16314  7.18352  7.36694  6.70071  7.54916  6.78094  \n",
       "APOM     5.12808  4.59776  4.47878  4.37817  4.59131  4.96854  4.35579  \n",
       "\n",
       "[5 rows x 492 columns]"
      ]
     },
     "execution_count": 23,
     "metadata": {},
     "output_type": "execute_result"
    }
   ],
   "source": [
    "normalized_matrix.head()"
   ]
  },
  {
   "cell_type": "code",
   "execution_count": 24,
   "metadata": {},
   "outputs": [
    {
     "data": {
      "text/plain": [
       "(17604, 492)"
      ]
     },
     "execution_count": 24,
     "metadata": {},
     "output_type": "execute_result"
    }
   ],
   "source": [
    "normalized_matrix.shape"
   ]
  },
  {
   "cell_type": "markdown",
   "metadata": {},
   "source": [
    "# Remove any data with more than 95% missing and imput remaining mssing values to matrix mean"
   ]
  },
  {
   "cell_type": "code",
   "execution_count": 25,
   "metadata": {
    "collapsed": true
   },
   "outputs": [],
   "source": [
    "normalized_matrix = mf.removeAndImpute(normalized_matrix)"
   ]
  },
  {
   "cell_type": "code",
   "execution_count": 26,
   "metadata": {},
   "outputs": [
    {
     "data": {
      "text/plain": [
       "(17604, 492)"
      ]
     },
     "execution_count": 26,
     "metadata": {},
     "output_type": "execute_result"
    }
   ],
   "source": [
    "normalized_matrix.shape"
   ]
  },
  {
   "cell_type": "markdown",
   "metadata": {},
   "source": [
    "# Log2 Transform"
   ]
  },
  {
   "cell_type": "code",
   "execution_count": 27,
   "metadata": {
    "collapsed": true
   },
   "outputs": [],
   "source": [
    "normalized_matrix = mf.log2(normalized_matrix)"
   ]
  },
  {
   "cell_type": "code",
   "execution_count": 28,
   "metadata": {},
   "outputs": [
    {
     "data": {
      "text/html": [
       "<div>\n",
       "<style scoped>\n",
       "    .dataframe tbody tr th:only-of-type {\n",
       "        vertical-align: middle;\n",
       "    }\n",
       "\n",
       "    .dataframe tbody tr th {\n",
       "        vertical-align: top;\n",
       "    }\n",
       "\n",
       "    .dataframe thead th {\n",
       "        text-align: right;\n",
       "    }\n",
       "</style>\n",
       "<table border=\"1\" class=\"dataframe\">\n",
       "  <thead>\n",
       "    <tr style=\"text-align: right;\">\n",
       "      <th></th>\n",
       "      <th>8 pcw</th>\n",
       "      <th>8 pcw</th>\n",
       "      <th>8 pcw</th>\n",
       "      <th>8 pcw</th>\n",
       "      <th>8 pcw</th>\n",
       "      <th>8 pcw</th>\n",
       "      <th>8 pcw</th>\n",
       "      <th>8 pcw</th>\n",
       "      <th>8 pcw</th>\n",
       "      <th>8 pcw</th>\n",
       "      <th>...</th>\n",
       "      <th>40 yrs</th>\n",
       "      <th>40 yrs</th>\n",
       "      <th>40 yrs</th>\n",
       "      <th>40 yrs</th>\n",
       "      <th>40 yrs</th>\n",
       "      <th>40 yrs</th>\n",
       "      <th>40 yrs</th>\n",
       "      <th>40 yrs</th>\n",
       "      <th>40 yrs</th>\n",
       "      <th>40 yrs</th>\n",
       "    </tr>\n",
       "  </thead>\n",
       "  <tbody>\n",
       "    <tr>\n",
       "      <th>TM9SF4</th>\n",
       "      <td>3.345675</td>\n",
       "      <td>3.371981</td>\n",
       "      <td>3.340337</td>\n",
       "      <td>3.362943</td>\n",
       "      <td>3.346489</td>\n",
       "      <td>3.395334</td>\n",
       "      <td>3.359887</td>\n",
       "      <td>3.366055</td>\n",
       "      <td>3.345868</td>\n",
       "      <td>3.339850</td>\n",
       "      <td>...</td>\n",
       "      <td>3.332134</td>\n",
       "      <td>3.289643</td>\n",
       "      <td>3.301567</td>\n",
       "      <td>3.223472</td>\n",
       "      <td>3.372179</td>\n",
       "      <td>3.278535</td>\n",
       "      <td>3.412726</td>\n",
       "      <td>3.251199</td>\n",
       "      <td>3.354667</td>\n",
       "      <td>3.412616</td>\n",
       "    </tr>\n",
       "    <tr>\n",
       "      <th>SCAP</th>\n",
       "      <td>3.233276</td>\n",
       "      <td>3.237386</td>\n",
       "      <td>3.304060</td>\n",
       "      <td>3.294862</td>\n",
       "      <td>3.297426</td>\n",
       "      <td>3.257068</td>\n",
       "      <td>3.236831</td>\n",
       "      <td>3.301358</td>\n",
       "      <td>3.254134</td>\n",
       "      <td>3.224252</td>\n",
       "      <td>...</td>\n",
       "      <td>3.224596</td>\n",
       "      <td>3.240556</td>\n",
       "      <td>3.249089</td>\n",
       "      <td>3.201138</td>\n",
       "      <td>3.192556</td>\n",
       "      <td>3.254925</td>\n",
       "      <td>3.195107</td>\n",
       "      <td>3.288613</td>\n",
       "      <td>3.270442</td>\n",
       "      <td>3.198590</td>\n",
       "    </tr>\n",
       "    <tr>\n",
       "      <th>FAF2</th>\n",
       "      <td>3.372871</td>\n",
       "      <td>3.403892</td>\n",
       "      <td>3.428109</td>\n",
       "      <td>3.397499</td>\n",
       "      <td>3.407846</td>\n",
       "      <td>3.375258</td>\n",
       "      <td>3.399547</td>\n",
       "      <td>3.437764</td>\n",
       "      <td>3.400483</td>\n",
       "      <td>3.373207</td>\n",
       "      <td>...</td>\n",
       "      <td>3.237522</td>\n",
       "      <td>3.254931</td>\n",
       "      <td>3.325494</td>\n",
       "      <td>3.204382</td>\n",
       "      <td>3.309070</td>\n",
       "      <td>3.288607</td>\n",
       "      <td>3.338065</td>\n",
       "      <td>3.232690</td>\n",
       "      <td>3.330426</td>\n",
       "      <td>3.296767</td>\n",
       "    </tr>\n",
       "    <tr>\n",
       "      <th>DCUN1D2</th>\n",
       "      <td>2.868602</td>\n",
       "      <td>2.951286</td>\n",
       "      <td>2.908010</td>\n",
       "      <td>3.043399</td>\n",
       "      <td>2.930796</td>\n",
       "      <td>2.993468</td>\n",
       "      <td>2.953034</td>\n",
       "      <td>2.940793</td>\n",
       "      <td>3.012463</td>\n",
       "      <td>2.778564</td>\n",
       "      <td>...</td>\n",
       "      <td>2.967643</td>\n",
       "      <td>3.094853</td>\n",
       "      <td>3.017747</td>\n",
       "      <td>2.947083</td>\n",
       "      <td>3.029124</td>\n",
       "      <td>3.032722</td>\n",
       "      <td>3.064700</td>\n",
       "      <td>2.944991</td>\n",
       "      <td>3.095783</td>\n",
       "      <td>2.959944</td>\n",
       "    </tr>\n",
       "    <tr>\n",
       "      <th>APOM</th>\n",
       "      <td>2.478723</td>\n",
       "      <td>2.639026</td>\n",
       "      <td>2.500940</td>\n",
       "      <td>2.592249</td>\n",
       "      <td>2.591270</td>\n",
       "      <td>2.528979</td>\n",
       "      <td>2.560676</td>\n",
       "      <td>2.617395</td>\n",
       "      <td>2.649429</td>\n",
       "      <td>2.520153</td>\n",
       "      <td>...</td>\n",
       "      <td>2.467812</td>\n",
       "      <td>2.517004</td>\n",
       "      <td>2.335137</td>\n",
       "      <td>2.615435</td>\n",
       "      <td>2.484850</td>\n",
       "      <td>2.453855</td>\n",
       "      <td>2.427115</td>\n",
       "      <td>2.483186</td>\n",
       "      <td>2.577378</td>\n",
       "      <td>2.421099</td>\n",
       "    </tr>\n",
       "  </tbody>\n",
       "</table>\n",
       "<p>5 rows × 492 columns</p>\n",
       "</div>"
      ],
      "text/plain": [
       "            8 pcw     8 pcw     8 pcw     8 pcw     8 pcw     8 pcw     8 pcw  \\\n",
       "TM9SF4   3.345675  3.371981  3.340337  3.362943  3.346489  3.395334  3.359887   \n",
       "SCAP     3.233276  3.237386  3.304060  3.294862  3.297426  3.257068  3.236831   \n",
       "FAF2     3.372871  3.403892  3.428109  3.397499  3.407846  3.375258  3.399547   \n",
       "DCUN1D2  2.868602  2.951286  2.908010  3.043399  2.930796  2.993468  2.953034   \n",
       "APOM     2.478723  2.639026  2.500940  2.592249  2.591270  2.528979  2.560676   \n",
       "\n",
       "            8 pcw     8 pcw     8 pcw    ...       40 yrs    40 yrs    40 yrs  \\\n",
       "TM9SF4   3.366055  3.345868  3.339850    ...     3.332134  3.289643  3.301567   \n",
       "SCAP     3.301358  3.254134  3.224252    ...     3.224596  3.240556  3.249089   \n",
       "FAF2     3.437764  3.400483  3.373207    ...     3.237522  3.254931  3.325494   \n",
       "DCUN1D2  2.940793  3.012463  2.778564    ...     2.967643  3.094853  3.017747   \n",
       "APOM     2.617395  2.649429  2.520153    ...     2.467812  2.517004  2.335137   \n",
       "\n",
       "           40 yrs    40 yrs    40 yrs    40 yrs    40 yrs    40 yrs    40 yrs  \n",
       "TM9SF4   3.223472  3.372179  3.278535  3.412726  3.251199  3.354667  3.412616  \n",
       "SCAP     3.201138  3.192556  3.254925  3.195107  3.288613  3.270442  3.198590  \n",
       "FAF2     3.204382  3.309070  3.288607  3.338065  3.232690  3.330426  3.296767  \n",
       "DCUN1D2  2.947083  3.029124  3.032722  3.064700  2.944991  3.095783  2.959944  \n",
       "APOM     2.615435  2.484850  2.453855  2.427115  2.483186  2.577378  2.421099  \n",
       "\n",
       "[5 rows x 492 columns]"
      ]
     },
     "execution_count": 28,
     "metadata": {},
     "output_type": "execute_result"
    }
   ],
   "source": [
    "normalized_matrix.head()"
   ]
  },
  {
   "cell_type": "markdown",
   "metadata": {},
   "source": [
    "# Normalize Matrix (Quantile Normalize the matrix for the columns)"
   ]
  },
  {
   "cell_type": "code",
   "execution_count": 29,
   "metadata": {},
   "outputs": [
    {
     "name": "stdout",
     "output_type": "stream",
     "text": [
      "Step 2/2 progress: 100%  492 Out of 492   \r"
     ]
    }
   ],
   "source": [
    "normalized_matrix = mf.quantileNormalize(normalized_matrix)"
   ]
  },
  {
   "cell_type": "code",
   "execution_count": 30,
   "metadata": {},
   "outputs": [
    {
     "data": {
      "text/html": [
       "<div>\n",
       "<style scoped>\n",
       "    .dataframe tbody tr th:only-of-type {\n",
       "        vertical-align: middle;\n",
       "    }\n",
       "\n",
       "    .dataframe tbody tr th {\n",
       "        vertical-align: top;\n",
       "    }\n",
       "\n",
       "    .dataframe thead th {\n",
       "        text-align: right;\n",
       "    }\n",
       "</style>\n",
       "<table border=\"1\" class=\"dataframe\">\n",
       "  <thead>\n",
       "    <tr style=\"text-align: right;\">\n",
       "      <th></th>\n",
       "      <th>8 pcw</th>\n",
       "      <th>8 pcw</th>\n",
       "      <th>8 pcw</th>\n",
       "      <th>8 pcw</th>\n",
       "      <th>8 pcw</th>\n",
       "      <th>8 pcw</th>\n",
       "      <th>8 pcw</th>\n",
       "      <th>8 pcw</th>\n",
       "      <th>8 pcw</th>\n",
       "      <th>8 pcw</th>\n",
       "      <th>...</th>\n",
       "      <th>40 yrs</th>\n",
       "      <th>40 yrs</th>\n",
       "      <th>40 yrs</th>\n",
       "      <th>40 yrs</th>\n",
       "      <th>40 yrs</th>\n",
       "      <th>40 yrs</th>\n",
       "      <th>40 yrs</th>\n",
       "      <th>40 yrs</th>\n",
       "      <th>40 yrs</th>\n",
       "      <th>40 yrs</th>\n",
       "    </tr>\n",
       "  </thead>\n",
       "  <tbody>\n",
       "    <tr>\n",
       "      <th>TM9SF4</th>\n",
       "      <td>3.318568</td>\n",
       "      <td>3.346568</td>\n",
       "      <td>3.292878</td>\n",
       "      <td>3.339135</td>\n",
       "      <td>3.329387</td>\n",
       "      <td>3.372281</td>\n",
       "      <td>3.341785</td>\n",
       "      <td>3.324728</td>\n",
       "      <td>3.335019</td>\n",
       "      <td>3.332764</td>\n",
       "      <td>...</td>\n",
       "      <td>3.358100</td>\n",
       "      <td>3.314388</td>\n",
       "      <td>3.306802</td>\n",
       "      <td>3.263693</td>\n",
       "      <td>3.363503</td>\n",
       "      <td>3.260040</td>\n",
       "      <td>3.407774</td>\n",
       "      <td>3.275924</td>\n",
       "      <td>3.369965</td>\n",
       "      <td>3.401656</td>\n",
       "    </tr>\n",
       "    <tr>\n",
       "      <th>SCAP</th>\n",
       "      <td>3.203393</td>\n",
       "      <td>3.203926</td>\n",
       "      <td>3.255924</td>\n",
       "      <td>3.274452</td>\n",
       "      <td>3.279795</td>\n",
       "      <td>3.232974</td>\n",
       "      <td>3.215392</td>\n",
       "      <td>3.256086</td>\n",
       "      <td>3.239898</td>\n",
       "      <td>3.212979</td>\n",
       "      <td>...</td>\n",
       "      <td>3.252154</td>\n",
       "      <td>3.263849</td>\n",
       "      <td>3.252154</td>\n",
       "      <td>3.241446</td>\n",
       "      <td>3.189945</td>\n",
       "      <td>3.236746</td>\n",
       "      <td>3.195343</td>\n",
       "      <td>3.317638</td>\n",
       "      <td>3.286907</td>\n",
       "      <td>3.189799</td>\n",
       "    </tr>\n",
       "    <tr>\n",
       "      <th>FAF2</th>\n",
       "      <td>3.346478</td>\n",
       "      <td>3.377179</td>\n",
       "      <td>3.388459</td>\n",
       "      <td>3.372002</td>\n",
       "      <td>3.392332</td>\n",
       "      <td>3.353167</td>\n",
       "      <td>3.382003</td>\n",
       "      <td>3.404823</td>\n",
       "      <td>3.386221</td>\n",
       "      <td>3.370427</td>\n",
       "      <td>...</td>\n",
       "      <td>3.266258</td>\n",
       "      <td>3.278179</td>\n",
       "      <td>3.334060</td>\n",
       "      <td>3.244740</td>\n",
       "      <td>3.302921</td>\n",
       "      <td>3.271039</td>\n",
       "      <td>3.332929</td>\n",
       "      <td>3.256478</td>\n",
       "      <td>3.345235</td>\n",
       "      <td>3.285282</td>\n",
       "    </tr>\n",
       "    <tr>\n",
       "      <th>DCUN1D2</th>\n",
       "      <td>2.860570</td>\n",
       "      <td>2.938214</td>\n",
       "      <td>2.872029</td>\n",
       "      <td>3.035452</td>\n",
       "      <td>2.907134</td>\n",
       "      <td>2.974594</td>\n",
       "      <td>2.942766</td>\n",
       "      <td>2.903866</td>\n",
       "      <td>3.011122</td>\n",
       "      <td>2.777025</td>\n",
       "      <td>...</td>\n",
       "      <td>2.987686</td>\n",
       "      <td>3.115290</td>\n",
       "      <td>3.014339</td>\n",
       "      <td>2.976529</td>\n",
       "      <td>3.034074</td>\n",
       "      <td>3.014495</td>\n",
       "      <td>3.068267</td>\n",
       "      <td>2.956461</td>\n",
       "      <td>3.113786</td>\n",
       "      <td>2.959161</td>\n",
       "    </tr>\n",
       "    <tr>\n",
       "      <th>APOM</th>\n",
       "      <td>2.509154</td>\n",
       "      <td>2.667648</td>\n",
       "      <td>2.551769</td>\n",
       "      <td>2.590102</td>\n",
       "      <td>2.595067</td>\n",
       "      <td>2.553394</td>\n",
       "      <td>2.587694</td>\n",
       "      <td>2.652378</td>\n",
       "      <td>2.651379</td>\n",
       "      <td>2.556025</td>\n",
       "      <td>...</td>\n",
       "      <td>2.437397</td>\n",
       "      <td>2.454041</td>\n",
       "      <td>2.385200</td>\n",
       "      <td>2.571765</td>\n",
       "      <td>2.493744</td>\n",
       "      <td>2.469914</td>\n",
       "      <td>2.437794</td>\n",
       "      <td>2.478457</td>\n",
       "      <td>2.564279</td>\n",
       "      <td>2.455049</td>\n",
       "    </tr>\n",
       "  </tbody>\n",
       "</table>\n",
       "<p>5 rows × 492 columns</p>\n",
       "</div>"
      ],
      "text/plain": [
       "            8 pcw     8 pcw     8 pcw     8 pcw     8 pcw     8 pcw     8 pcw  \\\n",
       "TM9SF4   3.318568  3.346568  3.292878  3.339135  3.329387  3.372281  3.341785   \n",
       "SCAP     3.203393  3.203926  3.255924  3.274452  3.279795  3.232974  3.215392   \n",
       "FAF2     3.346478  3.377179  3.388459  3.372002  3.392332  3.353167  3.382003   \n",
       "DCUN1D2  2.860570  2.938214  2.872029  3.035452  2.907134  2.974594  2.942766   \n",
       "APOM     2.509154  2.667648  2.551769  2.590102  2.595067  2.553394  2.587694   \n",
       "\n",
       "            8 pcw     8 pcw     8 pcw    ...       40 yrs    40 yrs    40 yrs  \\\n",
       "TM9SF4   3.324728  3.335019  3.332764    ...     3.358100  3.314388  3.306802   \n",
       "SCAP     3.256086  3.239898  3.212979    ...     3.252154  3.263849  3.252154   \n",
       "FAF2     3.404823  3.386221  3.370427    ...     3.266258  3.278179  3.334060   \n",
       "DCUN1D2  2.903866  3.011122  2.777025    ...     2.987686  3.115290  3.014339   \n",
       "APOM     2.652378  2.651379  2.556025    ...     2.437397  2.454041  2.385200   \n",
       "\n",
       "           40 yrs    40 yrs    40 yrs    40 yrs    40 yrs    40 yrs    40 yrs  \n",
       "TM9SF4   3.263693  3.363503  3.260040  3.407774  3.275924  3.369965  3.401656  \n",
       "SCAP     3.241446  3.189945  3.236746  3.195343  3.317638  3.286907  3.189799  \n",
       "FAF2     3.244740  3.302921  3.271039  3.332929  3.256478  3.345235  3.285282  \n",
       "DCUN1D2  2.976529  3.034074  3.014495  3.068267  2.956461  3.113786  2.959161  \n",
       "APOM     2.571765  2.493744  2.469914  2.437794  2.478457  2.564279  2.455049  \n",
       "\n",
       "[5 rows x 492 columns]"
      ]
     },
     "execution_count": 30,
     "metadata": {},
     "output_type": "execute_result"
    }
   ],
   "source": [
    "normalized_matrix.head()"
   ]
  },
  {
   "cell_type": "markdown",
   "metadata": {},
   "source": [
    "# Normalize Matrix (z-score the rows)"
   ]
  },
  {
   "cell_type": "code",
   "execution_count": 31,
   "metadata": {},
   "outputs": [
    {
     "name": "stdout",
     "output_type": "stream",
     "text": [
      "Progress: 100%  17604 Out of 17604   \r"
     ]
    }
   ],
   "source": [
    "mf.zscore(normalized_matrix, 'row')"
   ]
  },
  {
   "cell_type": "code",
   "execution_count": 32,
   "metadata": {},
   "outputs": [
    {
     "data": {
      "text/html": [
       "<div>\n",
       "<style scoped>\n",
       "    .dataframe tbody tr th:only-of-type {\n",
       "        vertical-align: middle;\n",
       "    }\n",
       "\n",
       "    .dataframe tbody tr th {\n",
       "        vertical-align: top;\n",
       "    }\n",
       "\n",
       "    .dataframe thead th {\n",
       "        text-align: right;\n",
       "    }\n",
       "</style>\n",
       "<table border=\"1\" class=\"dataframe\">\n",
       "  <thead>\n",
       "    <tr style=\"text-align: right;\">\n",
       "      <th></th>\n",
       "      <th>8 pcw</th>\n",
       "      <th>8 pcw</th>\n",
       "      <th>8 pcw</th>\n",
       "      <th>8 pcw</th>\n",
       "      <th>8 pcw</th>\n",
       "      <th>8 pcw</th>\n",
       "      <th>8 pcw</th>\n",
       "      <th>8 pcw</th>\n",
       "      <th>8 pcw</th>\n",
       "      <th>8 pcw</th>\n",
       "      <th>...</th>\n",
       "      <th>40 yrs</th>\n",
       "      <th>40 yrs</th>\n",
       "      <th>40 yrs</th>\n",
       "      <th>40 yrs</th>\n",
       "      <th>40 yrs</th>\n",
       "      <th>40 yrs</th>\n",
       "      <th>40 yrs</th>\n",
       "      <th>40 yrs</th>\n",
       "      <th>40 yrs</th>\n",
       "      <th>40 yrs</th>\n",
       "    </tr>\n",
       "  </thead>\n",
       "  <tbody>\n",
       "    <tr>\n",
       "      <th>TM9SF4</th>\n",
       "      <td>-0.868153</td>\n",
       "      <td>-0.310503</td>\n",
       "      <td>-1.379815</td>\n",
       "      <td>-0.458551</td>\n",
       "      <td>-0.652697</td>\n",
       "      <td>0.201592</td>\n",
       "      <td>-0.405766</td>\n",
       "      <td>-0.745484</td>\n",
       "      <td>-0.540520</td>\n",
       "      <td>-0.585422</td>\n",
       "      <td>...</td>\n",
       "      <td>-0.080832</td>\n",
       "      <td>-0.951408</td>\n",
       "      <td>-1.102505</td>\n",
       "      <td>-1.961070</td>\n",
       "      <td>0.026766</td>\n",
       "      <td>-2.033829</td>\n",
       "      <td>0.908480</td>\n",
       "      <td>-1.717469</td>\n",
       "      <td>0.155473</td>\n",
       "      <td>0.786635</td>\n",
       "    </tr>\n",
       "    <tr>\n",
       "      <th>SCAP</th>\n",
       "      <td>-0.402826</td>\n",
       "      <td>-0.393433</td>\n",
       "      <td>0.522454</td>\n",
       "      <td>0.848799</td>\n",
       "      <td>0.942920</td>\n",
       "      <td>0.118207</td>\n",
       "      <td>-0.191475</td>\n",
       "      <td>0.525315</td>\n",
       "      <td>0.240166</td>\n",
       "      <td>-0.233982</td>\n",
       "      <td>...</td>\n",
       "      <td>0.456048</td>\n",
       "      <td>0.662044</td>\n",
       "      <td>0.456048</td>\n",
       "      <td>0.267440</td>\n",
       "      <td>-0.639698</td>\n",
       "      <td>0.184660</td>\n",
       "      <td>-0.544624</td>\n",
       "      <td>1.609480</td>\n",
       "      <td>1.068194</td>\n",
       "      <td>-0.642270</td>\n",
       "    </tr>\n",
       "    <tr>\n",
       "      <th>FAF2</th>\n",
       "      <td>0.624915</td>\n",
       "      <td>1.368306</td>\n",
       "      <td>1.641432</td>\n",
       "      <td>1.242943</td>\n",
       "      <td>1.735208</td>\n",
       "      <td>0.786861</td>\n",
       "      <td>1.485113</td>\n",
       "      <td>2.037672</td>\n",
       "      <td>1.587237</td>\n",
       "      <td>1.204798</td>\n",
       "      <td>...</td>\n",
       "      <td>-1.317561</td>\n",
       "      <td>-1.028901</td>\n",
       "      <td>0.324207</td>\n",
       "      <td>-1.838591</td>\n",
       "      <td>-0.429790</td>\n",
       "      <td>-1.201792</td>\n",
       "      <td>0.296835</td>\n",
       "      <td>-1.554363</td>\n",
       "      <td>0.594816</td>\n",
       "      <td>-0.856899</td>\n",
       "    </tr>\n",
       "    <tr>\n",
       "      <th>DCUN1D2</th>\n",
       "      <td>-1.030641</td>\n",
       "      <td>-0.072109</td>\n",
       "      <td>-0.889183</td>\n",
       "      <td>1.128336</td>\n",
       "      <td>-0.455802</td>\n",
       "      <td>0.377021</td>\n",
       "      <td>-0.015906</td>\n",
       "      <td>-0.496147</td>\n",
       "      <td>0.827969</td>\n",
       "      <td>-2.062034</td>\n",
       "      <td>...</td>\n",
       "      <td>0.538639</td>\n",
       "      <td>2.113961</td>\n",
       "      <td>0.867682</td>\n",
       "      <td>0.400908</td>\n",
       "      <td>1.111325</td>\n",
       "      <td>0.869614</td>\n",
       "      <td>1.533448</td>\n",
       "      <td>0.153158</td>\n",
       "      <td>2.095387</td>\n",
       "      <td>0.186491</td>\n",
       "    </tr>\n",
       "    <tr>\n",
       "      <th>APOM</th>\n",
       "      <td>0.003779</td>\n",
       "      <td>2.016500</td>\n",
       "      <td>0.544946</td>\n",
       "      <td>1.031742</td>\n",
       "      <td>1.094794</td>\n",
       "      <td>0.565586</td>\n",
       "      <td>1.001163</td>\n",
       "      <td>1.822589</td>\n",
       "      <td>1.809903</td>\n",
       "      <td>0.598998</td>\n",
       "      <td>...</td>\n",
       "      <td>-0.907457</td>\n",
       "      <td>-0.696094</td>\n",
       "      <td>-1.570309</td>\n",
       "      <td>0.798876</td>\n",
       "      <td>-0.191915</td>\n",
       "      <td>-0.494525</td>\n",
       "      <td>-0.902421</td>\n",
       "      <td>-0.386035</td>\n",
       "      <td>0.703812</td>\n",
       "      <td>-0.683299</td>\n",
       "    </tr>\n",
       "  </tbody>\n",
       "</table>\n",
       "<p>5 rows × 492 columns</p>\n",
       "</div>"
      ],
      "text/plain": [
       "            8 pcw     8 pcw     8 pcw     8 pcw     8 pcw     8 pcw     8 pcw  \\\n",
       "TM9SF4  -0.868153 -0.310503 -1.379815 -0.458551 -0.652697  0.201592 -0.405766   \n",
       "SCAP    -0.402826 -0.393433  0.522454  0.848799  0.942920  0.118207 -0.191475   \n",
       "FAF2     0.624915  1.368306  1.641432  1.242943  1.735208  0.786861  1.485113   \n",
       "DCUN1D2 -1.030641 -0.072109 -0.889183  1.128336 -0.455802  0.377021 -0.015906   \n",
       "APOM     0.003779  2.016500  0.544946  1.031742  1.094794  0.565586  1.001163   \n",
       "\n",
       "            8 pcw     8 pcw     8 pcw    ...       40 yrs    40 yrs    40 yrs  \\\n",
       "TM9SF4  -0.745484 -0.540520 -0.585422    ...    -0.080832 -0.951408 -1.102505   \n",
       "SCAP     0.525315  0.240166 -0.233982    ...     0.456048  0.662044  0.456048   \n",
       "FAF2     2.037672  1.587237  1.204798    ...    -1.317561 -1.028901  0.324207   \n",
       "DCUN1D2 -0.496147  0.827969 -2.062034    ...     0.538639  2.113961  0.867682   \n",
       "APOM     1.822589  1.809903  0.598998    ...    -0.907457 -0.696094 -1.570309   \n",
       "\n",
       "           40 yrs    40 yrs    40 yrs    40 yrs    40 yrs    40 yrs    40 yrs  \n",
       "TM9SF4  -1.961070  0.026766 -2.033829  0.908480 -1.717469  0.155473  0.786635  \n",
       "SCAP     0.267440 -0.639698  0.184660 -0.544624  1.609480  1.068194 -0.642270  \n",
       "FAF2    -1.838591 -0.429790 -1.201792  0.296835 -1.554363  0.594816 -0.856899  \n",
       "DCUN1D2  0.400908  1.111325  0.869614  1.533448  0.153158  2.095387  0.186491  \n",
       "APOM     0.798876 -0.191915 -0.494525 -0.902421 -0.386035  0.703812 -0.683299  \n",
       "\n",
       "[5 rows x 492 columns]"
      ]
     },
     "execution_count": 32,
     "metadata": {},
     "output_type": "execute_result"
    }
   ],
   "source": [
    "normalized_matrix.head()"
   ]
  },
  {
   "cell_type": "markdown",
   "metadata": {},
   "source": [
    "# Merge Like Column (by taking the mean)"
   ]
  },
  {
   "cell_type": "code",
   "execution_count": 33,
   "metadata": {
    "collapsed": true
   },
   "outputs": [],
   "source": [
    "normalized_matrix = mf.merge(normalized_matrix, 'column', 'mean')"
   ]
  },
  {
   "cell_type": "code",
   "execution_count": 34,
   "metadata": {},
   "outputs": [
    {
     "data": {
      "text/plain": [
       "(17604, 27)"
      ]
     },
     "execution_count": 34,
     "metadata": {},
     "output_type": "execute_result"
    }
   ],
   "source": [
    "normalized_matrix.shape"
   ]
  },
  {
   "cell_type": "markdown",
   "metadata": {},
   "source": [
    "# Map Gene Symbols To Up-to-date Approved Gene Symbols"
   ]
  },
  {
   "cell_type": "code",
   "execution_count": 35,
   "metadata": {},
   "outputs": [
    {
     "name": "stdout",
     "output_type": "stream",
     "text": [
      "Progeres: 99%  17568 Out of 17604   \r"
     ]
    }
   ],
   "source": [
    "mf.mapgenesymbols(normalized_matrix)"
   ]
  },
  {
   "cell_type": "code",
   "execution_count": 36,
   "metadata": {
    "collapsed": true
   },
   "outputs": [],
   "source": [
    "normalized_matrix.shape"
   ]
  },
  {
   "cell_type": "markdown",
   "metadata": {},
   "source": [
    "# Merge Duplicate Genes By Rows"
   ]
  },
  {
   "cell_type": "code",
   "execution_count": 37,
   "metadata": {
    "collapsed": true
   },
   "outputs": [],
   "source": [
    "normalized_matrix = mf.merge(normalized_matrix, 'row', 'mean')"
   ]
  },
  {
   "cell_type": "code",
   "execution_count": 38,
   "metadata": {
    "collapsed": true
   },
   "outputs": [],
   "source": [
    "normalized_matrix.shape"
   ]
  },
  {
   "cell_type": "markdown",
   "metadata": {},
   "source": [
    "# Histogram of First Sample"
   ]
  },
  {
   "cell_type": "code",
   "execution_count": 39,
   "metadata": {},
   "outputs": [
    {
     "data": {
      "text/plain": [
       "<matplotlib.axes._subplots.AxesSubplot at 0x118f6a978>"
      ]
     },
     "execution_count": 39,
     "metadata": {},
     "output_type": "execute_result"
    },
    {
     "data": {
      "image/png": "[encoded data removed]",
      "text/plain": [
       "<matplotlib.figure.Figure at 0x11901bb38>"
      ]
     },
     "metadata": {},
     "output_type": "display_data"
    }
   ],
   "source": [
    "normalized_matrix[normalized_matrix.columns[0]].hist(bins=100)"
   ]
  },
  {
   "cell_type": "markdown",
   "metadata": {},
   "source": [
    "# Histogram of First Gene"
   ]
  },
  {
   "cell_type": "code",
   "execution_count": 40,
   "metadata": {},
   "outputs": [
    {
     "data": {
      "text/plain": [
       "<matplotlib.axes._subplots.AxesSubplot at 0x14aa83f98>"
      ]
     },
     "execution_count": 40,
     "metadata": {},
     "output_type": "execute_result"
    },
    {
     "data": {
      "image/png": "[encoded data removed]",
      "text/plain": [
       "<matplotlib.figure.Figure at 0x118ef58d0>"
      ]
     },
     "metadata": {},
     "output_type": "display_data"
    }
   ],
   "source": [
    "normalized_matrix.loc[normalized_matrix.index[0]].hist()"
   ]
  },
  {
   "cell_type": "markdown",
   "metadata": {},
   "source": [
    "# Save Filtered Matrix"
   ]
  },
  {
   "cell_type": "code",
   "execution_count": 41,
   "metadata": {
    "collapsed": true
   },
   "outputs": [],
   "source": [
    "filename = path+'aba_dev_mic_age_matrix_filltered_%s.tsv.zip'% str(datetime.date.today())[0:7].replace('-', '_')\n",
    "normalized_matrix.to_csv(filename, sep='\\t', compression='gzip')"
   ]
  },
  {
   "cell_type": "markdown",
   "metadata": {},
   "source": [
    "# Create Gene List"
   ]
  },
  {
   "cell_type": "code",
   "execution_count": 42,
   "metadata": {},
   "outputs": [
    {
     "name": "stdout",
     "output_type": "stream",
     "text": [
      "Progeres: 100%  16827 Out of 16827   \r"
     ]
    }
   ],
   "source": [
    "gene_list = mf.createGeneList(normalized_matrix)"
   ]
  },
  {
   "cell_type": "code",
   "execution_count": 43,
   "metadata": {},
   "outputs": [
    {
     "data": {
      "text/html": [
       "<div>\n",
       "<style scoped>\n",
       "    .dataframe tbody tr th:only-of-type {\n",
       "        vertical-align: middle;\n",
       "    }\n",
       "\n",
       "    .dataframe tbody tr th {\n",
       "        vertical-align: top;\n",
       "    }\n",
       "\n",
       "    .dataframe thead th {\n",
       "        text-align: right;\n",
       "    }\n",
       "</style>\n",
       "<table border=\"1\" class=\"dataframe\">\n",
       "  <thead>\n",
       "    <tr style=\"text-align: right;\">\n",
       "      <th></th>\n",
       "      <th>GeneSym</th>\n",
       "      <th>GeneID</th>\n",
       "    </tr>\n",
       "  </thead>\n",
       "  <tbody>\n",
       "    <tr>\n",
       "      <th>0</th>\n",
       "      <td>A1BG</td>\n",
       "      <td>1</td>\n",
       "    </tr>\n",
       "    <tr>\n",
       "      <th>1</th>\n",
       "      <td>A1CF</td>\n",
       "      <td>29974</td>\n",
       "    </tr>\n",
       "    <tr>\n",
       "      <th>2</th>\n",
       "      <td>A2M</td>\n",
       "      <td>2</td>\n",
       "    </tr>\n",
       "    <tr>\n",
       "      <th>3</th>\n",
       "      <td>A2ML1</td>\n",
       "      <td>144568</td>\n",
       "    </tr>\n",
       "    <tr>\n",
       "      <th>4</th>\n",
       "      <td>A4GALT</td>\n",
       "      <td>53947</td>\n",
       "    </tr>\n",
       "  </tbody>\n",
       "</table>\n",
       "</div>"
      ],
      "text/plain": [
       "  GeneSym  GeneID\n",
       "0    A1BG       1\n",
       "1    A1CF   29974\n",
       "2     A2M       2\n",
       "3   A2ML1  144568\n",
       "4  A4GALT   53947"
      ]
     },
     "execution_count": 43,
     "metadata": {},
     "output_type": "execute_result"
    }
   ],
   "source": [
    "gene_list.head()"
   ]
  },
  {
   "cell_type": "code",
   "execution_count": 44,
   "metadata": {},
   "outputs": [
    {
     "data": {
      "text/plain": [
       "(16827, 2)"
      ]
     },
     "execution_count": 44,
     "metadata": {},
     "output_type": "execute_result"
    }
   ],
   "source": [
    "gene_list.shape"
   ]
  },
  {
   "cell_type": "markdown",
   "metadata": {},
   "source": [
    "# Save Gene List"
   ]
  },
  {
   "cell_type": "code",
   "execution_count": 45,
   "metadata": {
    "collapsed": true
   },
   "outputs": [],
   "source": [
    "filename = path+'aba_dev_mic_age_gene_list_%s.tsv.zip'% str(datetime.date.today())[0:7].replace('-', '_')\n",
    "gene_list.to_csv(filename, sep='\\t', compression='gzip')"
   ]
  },
  {
   "cell_type": "markdown",
   "metadata": {},
   "source": [
    "# Create Attribute List"
   ]
  },
  {
   "cell_type": "code",
   "execution_count": 46,
   "metadata": {
    "collapsed": true
   },
   "outputs": [],
   "source": [
    "attribute_list = mf.createAttributeList(normalized_matrix)"
   ]
  },
  {
   "cell_type": "code",
   "execution_count": 47,
   "metadata": {},
   "outputs": [
    {
     "data": {
      "text/html": [
       "<div>\n",
       "<style scoped>\n",
       "    .dataframe tbody tr th:only-of-type {\n",
       "        vertical-align: middle;\n",
       "    }\n",
       "\n",
       "    .dataframe tbody tr th {\n",
       "        vertical-align: top;\n",
       "    }\n",
       "\n",
       "    .dataframe thead th {\n",
       "        text-align: right;\n",
       "    }\n",
       "</style>\n",
       "<table border=\"1\" class=\"dataframe\">\n",
       "  <thead>\n",
       "    <tr style=\"text-align: right;\">\n",
       "      <th></th>\n",
       "    </tr>\n",
       "    <tr>\n",
       "      <th>Attributes</th>\n",
       "    </tr>\n",
       "  </thead>\n",
       "  <tbody>\n",
       "    <tr>\n",
       "      <th>1 yrs</th>\n",
       "    </tr>\n",
       "    <tr>\n",
       "      <th>10 mos</th>\n",
       "    </tr>\n",
       "    <tr>\n",
       "      <th>12 pcw</th>\n",
       "    </tr>\n",
       "    <tr>\n",
       "      <th>13 pcw</th>\n",
       "    </tr>\n",
       "    <tr>\n",
       "      <th>13 yrs</th>\n",
       "    </tr>\n",
       "  </tbody>\n",
       "</table>\n",
       "</div>"
      ],
      "text/plain": [
       "Empty DataFrame\n",
       "Columns: []\n",
       "Index: [1 yrs, 10 mos, 12 pcw, 13 pcw, 13 yrs]"
      ]
     },
     "execution_count": 47,
     "metadata": {},
     "output_type": "execute_result"
    }
   ],
   "source": [
    "attribute_list.head()"
   ]
  },
  {
   "cell_type": "code",
   "execution_count": 48,
   "metadata": {},
   "outputs": [
    {
     "data": {
      "text/plain": [
       "(27, 0)"
      ]
     },
     "execution_count": 48,
     "metadata": {},
     "output_type": "execute_result"
    }
   ],
   "source": [
    "attribute_list.shape"
   ]
  },
  {
   "cell_type": "markdown",
   "metadata": {},
   "source": [
    "# Save Attribute List"
   ]
  },
  {
   "cell_type": "code",
   "execution_count": 49,
   "metadata": {
    "collapsed": true
   },
   "outputs": [],
   "source": [
    "filename = path+'aba_dev_mic_age_attribute_list_%s.tsv.zip'% str(datetime.date.today())[0:7].replace('-', '_')\n",
    "attribute_list.to_csv(filename, sep='\\t', compression='gzip')"
   ]
  },
  {
   "cell_type": "markdown",
   "metadata": {},
   "source": [
    "# Create matrix of Standardized values (values between -1, and 1)"
   ]
  },
  {
   "cell_type": "code",
   "execution_count": 50,
   "metadata": {},
   "outputs": [
    {
     "name": "stdout",
     "output_type": "stream",
     "text": [
      "Progeres: 100%  16827 Out of 16827   \r"
     ]
    }
   ],
   "source": [
    "standard_matrix = mf.createStandardizedMatrix(normalized_matrix)"
   ]
  },
  {
   "cell_type": "code",
   "execution_count": 51,
   "metadata": {},
   "outputs": [
    {
     "data": {
      "text/html": [
       "<div>\n",
       "<style scoped>\n",
       "    .dataframe tbody tr th:only-of-type {\n",
       "        vertical-align: middle;\n",
       "    }\n",
       "\n",
       "    .dataframe tbody tr th {\n",
       "        vertical-align: top;\n",
       "    }\n",
       "\n",
       "    .dataframe thead th {\n",
       "        text-align: right;\n",
       "    }\n",
       "</style>\n",
       "<table border=\"1\" class=\"dataframe\">\n",
       "  <thead>\n",
       "    <tr style=\"text-align: right;\">\n",
       "      <th></th>\n",
       "      <th>1 yrs</th>\n",
       "      <th>10 mos</th>\n",
       "      <th>12 pcw</th>\n",
       "      <th>13 pcw</th>\n",
       "      <th>13 yrs</th>\n",
       "      <th>15 yrs</th>\n",
       "      <th>16 pcw</th>\n",
       "      <th>17 pcw</th>\n",
       "      <th>18 yrs</th>\n",
       "      <th>19 pcw</th>\n",
       "      <th>...</th>\n",
       "      <th>3 yrs</th>\n",
       "      <th>30 yrs</th>\n",
       "      <th>36 yrs</th>\n",
       "      <th>37 yrs</th>\n",
       "      <th>4 mos</th>\n",
       "      <th>4 yrs</th>\n",
       "      <th>40 yrs</th>\n",
       "      <th>8 pcw</th>\n",
       "      <th>8 yrs</th>\n",
       "      <th>9 pcw</th>\n",
       "    </tr>\n",
       "    <tr>\n",
       "      <th></th>\n",
       "      <th></th>\n",
       "      <th></th>\n",
       "      <th></th>\n",
       "      <th></th>\n",
       "      <th></th>\n",
       "      <th></th>\n",
       "      <th></th>\n",
       "      <th></th>\n",
       "      <th></th>\n",
       "      <th></th>\n",
       "      <th></th>\n",
       "      <th></th>\n",
       "      <th></th>\n",
       "      <th></th>\n",
       "      <th></th>\n",
       "      <th></th>\n",
       "      <th></th>\n",
       "      <th></th>\n",
       "      <th></th>\n",
       "      <th></th>\n",
       "      <th></th>\n",
       "    </tr>\n",
       "  </thead>\n",
       "  <tbody>\n",
       "    <tr>\n",
       "      <th>A1BG</th>\n",
       "      <td>-0.278591</td>\n",
       "      <td>0.684372</td>\n",
       "      <td>0.165853</td>\n",
       "      <td>-0.352665</td>\n",
       "      <td>-0.130443</td>\n",
       "      <td>0.536224</td>\n",
       "      <td>0.388076</td>\n",
       "      <td>-0.056369</td>\n",
       "      <td>0.610293</td>\n",
       "      <td>0.832520</td>\n",
       "      <td>...</td>\n",
       "      <td>0.758446</td>\n",
       "      <td>0.017705</td>\n",
       "      <td>-0.500813</td>\n",
       "      <td>-0.648962</td>\n",
       "      <td>0.239927</td>\n",
       "      <td>0.091779</td>\n",
       "      <td>-0.723036</td>\n",
       "      <td>-0.871184</td>\n",
       "      <td>-0.797110</td>\n",
       "      <td>-0.945258</td>\n",
       "    </tr>\n",
       "    <tr>\n",
       "      <th>A1CF</th>\n",
       "      <td>-0.752235</td>\n",
       "      <td>-0.159642</td>\n",
       "      <td>-0.085568</td>\n",
       "      <td>-0.455938</td>\n",
       "      <td>-0.381864</td>\n",
       "      <td>0.655173</td>\n",
       "      <td>-0.678161</td>\n",
       "      <td>-0.233716</td>\n",
       "      <td>0.803321</td>\n",
       "      <td>0.284802</td>\n",
       "      <td>...</td>\n",
       "      <td>0.358876</td>\n",
       "      <td>0.507025</td>\n",
       "      <td>0.877391</td>\n",
       "      <td>0.136654</td>\n",
       "      <td>0.581094</td>\n",
       "      <td>-0.530012</td>\n",
       "      <td>0.210728</td>\n",
       "      <td>-0.974457</td>\n",
       "      <td>-0.011494</td>\n",
       "      <td>-0.900383</td>\n",
       "    </tr>\n",
       "    <tr>\n",
       "      <th>A2M</th>\n",
       "      <td>0.758446</td>\n",
       "      <td>-0.056369</td>\n",
       "      <td>-0.574887</td>\n",
       "      <td>-0.723036</td>\n",
       "      <td>0.017705</td>\n",
       "      <td>0.239927</td>\n",
       "      <td>-0.500813</td>\n",
       "      <td>-0.871184</td>\n",
       "      <td>0.906590</td>\n",
       "      <td>-0.945258</td>\n",
       "      <td>...</td>\n",
       "      <td>0.536224</td>\n",
       "      <td>0.165853</td>\n",
       "      <td>0.314001</td>\n",
       "      <td>0.684372</td>\n",
       "      <td>0.462150</td>\n",
       "      <td>0.610293</td>\n",
       "      <td>-0.278591</td>\n",
       "      <td>-0.426739</td>\n",
       "      <td>-0.130443</td>\n",
       "      <td>-0.797110</td>\n",
       "    </tr>\n",
       "    <tr>\n",
       "      <th>A2ML1</th>\n",
       "      <td>0.136654</td>\n",
       "      <td>0.284802</td>\n",
       "      <td>-0.826309</td>\n",
       "      <td>-0.752235</td>\n",
       "      <td>0.432951</td>\n",
       "      <td>-0.085568</td>\n",
       "      <td>-0.678161</td>\n",
       "      <td>-0.530012</td>\n",
       "      <td>0.951469</td>\n",
       "      <td>-0.455938</td>\n",
       "      <td>...</td>\n",
       "      <td>0.581094</td>\n",
       "      <td>0.507025</td>\n",
       "      <td>0.062580</td>\n",
       "      <td>0.803321</td>\n",
       "      <td>0.729247</td>\n",
       "      <td>0.655173</td>\n",
       "      <td>-0.011494</td>\n",
       "      <td>-0.974457</td>\n",
       "      <td>0.210728</td>\n",
       "      <td>-0.900383</td>\n",
       "    </tr>\n",
       "    <tr>\n",
       "      <th>A4GALT</th>\n",
       "      <td>0.388076</td>\n",
       "      <td>-0.648962</td>\n",
       "      <td>0.758446</td>\n",
       "      <td>-0.130443</td>\n",
       "      <td>0.165853</td>\n",
       "      <td>0.610293</td>\n",
       "      <td>0.091779</td>\n",
       "      <td>-0.723036</td>\n",
       "      <td>-0.574887</td>\n",
       "      <td>-0.352665</td>\n",
       "      <td>...</td>\n",
       "      <td>-0.871184</td>\n",
       "      <td>0.536224</td>\n",
       "      <td>-0.945258</td>\n",
       "      <td>0.017705</td>\n",
       "      <td>0.684372</td>\n",
       "      <td>0.832520</td>\n",
       "      <td>-0.797110</td>\n",
       "      <td>0.462150</td>\n",
       "      <td>0.314001</td>\n",
       "      <td>-0.056369</td>\n",
       "    </tr>\n",
       "  </tbody>\n",
       "</table>\n",
       "<p>5 rows × 27 columns</p>\n",
       "</div>"
      ],
      "text/plain": [
       "           1 yrs    10 mos    12 pcw    13 pcw    13 yrs    15 yrs    16 pcw  \\\n",
       "                                                                               \n",
       "A1BG   -0.278591  0.684372  0.165853 -0.352665 -0.130443  0.536224  0.388076   \n",
       "A1CF   -0.752235 -0.159642 -0.085568 -0.455938 -0.381864  0.655173 -0.678161   \n",
       "A2M     0.758446 -0.056369 -0.574887 -0.723036  0.017705  0.239927 -0.500813   \n",
       "A2ML1   0.136654  0.284802 -0.826309 -0.752235  0.432951 -0.085568 -0.678161   \n",
       "A4GALT  0.388076 -0.648962  0.758446 -0.130443  0.165853  0.610293  0.091779   \n",
       "\n",
       "          17 pcw    18 yrs    19 pcw    ...        3 yrs    30 yrs    36 yrs  \\\n",
       "                                        ...                                    \n",
       "A1BG   -0.056369  0.610293  0.832520    ...     0.758446  0.017705 -0.500813   \n",
       "A1CF   -0.233716  0.803321  0.284802    ...     0.358876  0.507025  0.877391   \n",
       "A2M    -0.871184  0.906590 -0.945258    ...     0.536224  0.165853  0.314001   \n",
       "A2ML1  -0.530012  0.951469 -0.455938    ...     0.581094  0.507025  0.062580   \n",
       "A4GALT -0.723036 -0.574887 -0.352665    ...    -0.871184  0.536224 -0.945258   \n",
       "\n",
       "          37 yrs     4 mos     4 yrs    40 yrs     8 pcw     8 yrs     9 pcw  \n",
       "                                                                              \n",
       "A1BG   -0.648962  0.239927  0.091779 -0.723036 -0.871184 -0.797110 -0.945258  \n",
       "A1CF    0.136654  0.581094 -0.530012  0.210728 -0.974457 -0.011494 -0.900383  \n",
       "A2M     0.684372  0.462150  0.610293 -0.278591 -0.426739 -0.130443 -0.797110  \n",
       "A2ML1   0.803321  0.729247  0.655173 -0.011494 -0.974457  0.210728 -0.900383  \n",
       "A4GALT  0.017705  0.684372  0.832520 -0.797110  0.462150  0.314001 -0.056369  \n",
       "\n",
       "[5 rows x 27 columns]"
      ]
     },
     "execution_count": 51,
     "metadata": {},
     "output_type": "execute_result"
    }
   ],
   "source": [
    "standard_matrix.head()"
   ]
  },
  {
   "cell_type": "markdown",
   "metadata": {},
   "source": [
    "# Plot of A Single Celltype, Normalized Value vs. Standardized Value"
   ]
  },
  {
   "cell_type": "code",
   "execution_count": 52,
   "metadata": {},
   "outputs": [
    {
     "data": {
      "image/png": "[encoded data removed]",
      "text/plain": [
       "<matplotlib.figure.Figure at 0x11901ba20>"
      ]
     },
     "metadata": {},
     "output_type": "display_data"
    }
   ],
   "source": [
    "plt.plot(normalized_matrix[normalized_matrix.columns[0]], standard_matrix[standard_matrix.columns[0]], 'bo')\n",
    "plt.xlabel('Normalized Values')\n",
    "plt.ylabel('Standardized Values')\n",
    "plt.title(standard_matrix.columns[0])\n",
    "plt.grid(True)"
   ]
  },
  {
   "cell_type": "markdown",
   "metadata": {},
   "source": [
    "# Save Standardized Matrix"
   ]
  },
  {
   "cell_type": "code",
   "execution_count": 53,
   "metadata": {
    "collapsed": true
   },
   "outputs": [],
   "source": [
    "filename = path+'aba_dev_mic_age_standard_matrix_%s.tsv.zip'% str(datetime.date.today())[0:7].replace('-', '_')\n",
    "standard_matrix.to_csv(filename, sep='\\t', compression='gzip')"
   ]
  },
  {
   "cell_type": "markdown",
   "metadata": {},
   "source": [
    "# Create Tertiary Matrix"
   ]
  },
  {
   "cell_type": "code",
   "execution_count": 54,
   "metadata": {
    "collapsed": true
   },
   "outputs": [],
   "source": [
    "tertiary_matrix = mf.createTertiaryMatrix(standard_matrix)"
   ]
  },
  {
   "cell_type": "code",
   "execution_count": 55,
   "metadata": {},
   "outputs": [
    {
     "data": {
      "text/html": [
       "<div>\n",
       "<style scoped>\n",
       "    .dataframe tbody tr th:only-of-type {\n",
       "        vertical-align: middle;\n",
       "    }\n",
       "\n",
       "    .dataframe tbody tr th {\n",
       "        vertical-align: top;\n",
       "    }\n",
       "\n",
       "    .dataframe thead th {\n",
       "        text-align: right;\n",
       "    }\n",
       "</style>\n",
       "<table border=\"1\" class=\"dataframe\">\n",
       "  <thead>\n",
       "    <tr style=\"text-align: right;\">\n",
       "      <th></th>\n",
       "      <th>1 yrs</th>\n",
       "      <th>10 mos</th>\n",
       "      <th>12 pcw</th>\n",
       "      <th>13 pcw</th>\n",
       "      <th>13 yrs</th>\n",
       "      <th>15 yrs</th>\n",
       "      <th>16 pcw</th>\n",
       "      <th>17 pcw</th>\n",
       "      <th>18 yrs</th>\n",
       "      <th>19 pcw</th>\n",
       "      <th>...</th>\n",
       "      <th>3 yrs</th>\n",
       "      <th>30 yrs</th>\n",
       "      <th>36 yrs</th>\n",
       "      <th>37 yrs</th>\n",
       "      <th>4 mos</th>\n",
       "      <th>4 yrs</th>\n",
       "      <th>40 yrs</th>\n",
       "      <th>8 pcw</th>\n",
       "      <th>8 yrs</th>\n",
       "      <th>9 pcw</th>\n",
       "    </tr>\n",
       "    <tr>\n",
       "      <th></th>\n",
       "      <th></th>\n",
       "      <th></th>\n",
       "      <th></th>\n",
       "      <th></th>\n",
       "      <th></th>\n",
       "      <th></th>\n",
       "      <th></th>\n",
       "      <th></th>\n",
       "      <th></th>\n",
       "      <th></th>\n",
       "      <th></th>\n",
       "      <th></th>\n",
       "      <th></th>\n",
       "      <th></th>\n",
       "      <th></th>\n",
       "      <th></th>\n",
       "      <th></th>\n",
       "      <th></th>\n",
       "      <th></th>\n",
       "      <th></th>\n",
       "      <th></th>\n",
       "    </tr>\n",
       "  </thead>\n",
       "  <tbody>\n",
       "    <tr>\n",
       "      <th>A1BG</th>\n",
       "      <td>0</td>\n",
       "      <td>0</td>\n",
       "      <td>0</td>\n",
       "      <td>0</td>\n",
       "      <td>0</td>\n",
       "      <td>0</td>\n",
       "      <td>0</td>\n",
       "      <td>0</td>\n",
       "      <td>0</td>\n",
       "      <td>0</td>\n",
       "      <td>...</td>\n",
       "      <td>0</td>\n",
       "      <td>0</td>\n",
       "      <td>0</td>\n",
       "      <td>0</td>\n",
       "      <td>0</td>\n",
       "      <td>0</td>\n",
       "      <td>0</td>\n",
       "      <td>0</td>\n",
       "      <td>0</td>\n",
       "      <td>0</td>\n",
       "    </tr>\n",
       "    <tr>\n",
       "      <th>A1CF</th>\n",
       "      <td>0</td>\n",
       "      <td>0</td>\n",
       "      <td>0</td>\n",
       "      <td>0</td>\n",
       "      <td>0</td>\n",
       "      <td>0</td>\n",
       "      <td>0</td>\n",
       "      <td>0</td>\n",
       "      <td>0</td>\n",
       "      <td>0</td>\n",
       "      <td>...</td>\n",
       "      <td>0</td>\n",
       "      <td>0</td>\n",
       "      <td>0</td>\n",
       "      <td>0</td>\n",
       "      <td>0</td>\n",
       "      <td>0</td>\n",
       "      <td>0</td>\n",
       "      <td>-1</td>\n",
       "      <td>0</td>\n",
       "      <td>0</td>\n",
       "    </tr>\n",
       "    <tr>\n",
       "      <th>A2M</th>\n",
       "      <td>0</td>\n",
       "      <td>0</td>\n",
       "      <td>0</td>\n",
       "      <td>0</td>\n",
       "      <td>0</td>\n",
       "      <td>0</td>\n",
       "      <td>0</td>\n",
       "      <td>0</td>\n",
       "      <td>0</td>\n",
       "      <td>0</td>\n",
       "      <td>...</td>\n",
       "      <td>0</td>\n",
       "      <td>0</td>\n",
       "      <td>0</td>\n",
       "      <td>0</td>\n",
       "      <td>0</td>\n",
       "      <td>0</td>\n",
       "      <td>0</td>\n",
       "      <td>0</td>\n",
       "      <td>0</td>\n",
       "      <td>0</td>\n",
       "    </tr>\n",
       "    <tr>\n",
       "      <th>A2ML1</th>\n",
       "      <td>0</td>\n",
       "      <td>0</td>\n",
       "      <td>0</td>\n",
       "      <td>0</td>\n",
       "      <td>0</td>\n",
       "      <td>0</td>\n",
       "      <td>0</td>\n",
       "      <td>0</td>\n",
       "      <td>1</td>\n",
       "      <td>0</td>\n",
       "      <td>...</td>\n",
       "      <td>0</td>\n",
       "      <td>0</td>\n",
       "      <td>0</td>\n",
       "      <td>0</td>\n",
       "      <td>0</td>\n",
       "      <td>0</td>\n",
       "      <td>0</td>\n",
       "      <td>-1</td>\n",
       "      <td>0</td>\n",
       "      <td>0</td>\n",
       "    </tr>\n",
       "    <tr>\n",
       "      <th>A4GALT</th>\n",
       "      <td>0</td>\n",
       "      <td>0</td>\n",
       "      <td>0</td>\n",
       "      <td>0</td>\n",
       "      <td>0</td>\n",
       "      <td>0</td>\n",
       "      <td>0</td>\n",
       "      <td>0</td>\n",
       "      <td>0</td>\n",
       "      <td>0</td>\n",
       "      <td>...</td>\n",
       "      <td>0</td>\n",
       "      <td>0</td>\n",
       "      <td>0</td>\n",
       "      <td>0</td>\n",
       "      <td>0</td>\n",
       "      <td>0</td>\n",
       "      <td>0</td>\n",
       "      <td>0</td>\n",
       "      <td>0</td>\n",
       "      <td>0</td>\n",
       "    </tr>\n",
       "  </tbody>\n",
       "</table>\n",
       "<p>5 rows × 27 columns</p>\n",
       "</div>"
      ],
      "text/plain": [
       "        1 yrs  10 mos  12 pcw  13 pcw  13 yrs  15 yrs  16 pcw  17 pcw  18 yrs  \\\n",
       "                                                                                \n",
       "A1BG        0       0       0       0       0       0       0       0       0   \n",
       "A1CF        0       0       0       0       0       0       0       0       0   \n",
       "A2M         0       0       0       0       0       0       0       0       0   \n",
       "A2ML1       0       0       0       0       0       0       0       0       1   \n",
       "A4GALT      0       0       0       0       0       0       0       0       0   \n",
       "\n",
       "        19 pcw  ...    3 yrs  30 yrs  36 yrs  37 yrs  4 mos  4 yrs  40 yrs  \\\n",
       "                ...                                                          \n",
       "A1BG         0  ...        0       0       0       0      0      0       0   \n",
       "A1CF         0  ...        0       0       0       0      0      0       0   \n",
       "A2M          0  ...        0       0       0       0      0      0       0   \n",
       "A2ML1        0  ...        0       0       0       0      0      0       0   \n",
       "A4GALT       0  ...        0       0       0       0      0      0       0   \n",
       "\n",
       "        8 pcw  8 yrs  9 pcw  \n",
       "                             \n",
       "A1BG        0      0      0  \n",
       "A1CF       -1      0      0  \n",
       "A2M         0      0      0  \n",
       "A2ML1      -1      0      0  \n",
       "A4GALT      0      0      0  \n",
       "\n",
       "[5 rows x 27 columns]"
      ]
     },
     "execution_count": 55,
     "metadata": {},
     "output_type": "execute_result"
    }
   ],
   "source": [
    "tertiary_matrix.head()"
   ]
  },
  {
   "cell_type": "markdown",
   "metadata": {},
   "source": [
    "# Save Teriary Matrix"
   ]
  },
  {
   "cell_type": "code",
   "execution_count": 56,
   "metadata": {
    "collapsed": true
   },
   "outputs": [],
   "source": [
    "filename = path+'aba_dev_mic_age_tertiary_matrix_%s.tsv.zip'% str(datetime.date.today())[0:7].replace('-', '_')\n",
    "tertiary_matrix.to_csv(filename, sep='\\t', compression='gzip')"
   ]
  },
  {
   "cell_type": "markdown",
   "metadata": {},
   "source": [
    "# Create Up Gene Set Library"
   ]
  },
  {
   "cell_type": "code",
   "execution_count": 57,
   "metadata": {
    "collapsed": true
   },
   "outputs": [],
   "source": [
    "name = 'aba_dev_mic_age_gene_up_set'"
   ]
  },
  {
   "cell_type": "code",
   "execution_count": 58,
   "metadata": {},
   "outputs": [
    {
     "name": "stdout",
     "output_type": "stream",
     "text": [
      "Progeres: 100%  27 Out of 27   \r"
     ]
    }
   ],
   "source": [
    "mf.createUpGeneSetLib(tertiary_matrix, path, name)"
   ]
  },
  {
   "cell_type": "markdown",
   "metadata": {},
   "source": [
    "# Create Down Gene Set Library"
   ]
  },
  {
   "cell_type": "code",
   "execution_count": 59,
   "metadata": {
    "collapsed": true
   },
   "outputs": [],
   "source": [
    "name = 'aba_dev_mic_age_gene_down_set'"
   ]
  },
  {
   "cell_type": "code",
   "execution_count": 60,
   "metadata": {},
   "outputs": [
    {
     "name": "stdout",
     "output_type": "stream",
     "text": [
      "Progeres: 100%  27 Out of 27   \r"
     ]
    }
   ],
   "source": [
    "mf.createDownGeneSetLib(tertiary_matrix, path, name)"
   ]
  },
  {
   "cell_type": "markdown",
   "metadata": {},
   "source": [
    "# Create Up Attribute Library"
   ]
  },
  {
   "cell_type": "code",
   "execution_count": 61,
   "metadata": {
    "collapsed": true
   },
   "outputs": [],
   "source": [
    "name = 'aba_dev_mic_age_attribute_up_set'"
   ]
  },
  {
   "cell_type": "code",
   "execution_count": 62,
   "metadata": {},
   "outputs": [
    {
     "name": "stdout",
     "output_type": "stream",
     "text": [
      "Progeres: 100%  16827 Out of 16827   \r"
     ]
    }
   ],
   "source": [
    "mf.createDownAttributeSetLib(tertiary_matrix, path, name)"
   ]
  },
  {
   "cell_type": "markdown",
   "metadata": {},
   "source": [
    "# Create Down Attribute Library"
   ]
  },
  {
   "cell_type": "code",
   "execution_count": 63,
   "metadata": {
    "collapsed": true
   },
   "outputs": [],
   "source": [
    "name = 'aba_dev_mic_age_attribute_down_set'"
   ]
  },
  {
   "cell_type": "code",
   "execution_count": 64,
   "metadata": {},
   "outputs": [
    {
     "name": "stdout",
     "output_type": "stream",
     "text": [
      "Progeres: 100%  16827 Out of 16827   \r"
     ]
    }
   ],
   "source": [
    "mf.createDownAttributeSetLib(tertiary_matrix, path, name)"
   ]
  },
  {
   "cell_type": "markdown",
   "metadata": {},
   "source": [
    "# Create Attribute Similarity Matrix"
   ]
  },
  {
   "cell_type": "code",
   "execution_count": 65,
   "metadata": {
    "collapsed": true
   },
   "outputs": [],
   "source": [
    "attribute_similarity_matix = mf.createSimilarityMatrix(normalized_matrix.T, 'cosine')"
   ]
  },
  {
   "cell_type": "code",
   "execution_count": 66,
   "metadata": {},
   "outputs": [
    {
     "data": {
      "text/html": [
       "<div>\n",
       "<style scoped>\n",
       "    .dataframe tbody tr th:only-of-type {\n",
       "        vertical-align: middle;\n",
       "    }\n",
       "\n",
       "    .dataframe tbody tr th {\n",
       "        vertical-align: top;\n",
       "    }\n",
       "\n",
       "    .dataframe thead th {\n",
       "        text-align: right;\n",
       "    }\n",
       "</style>\n",
       "<table border=\"1\" class=\"dataframe\">\n",
       "  <thead>\n",
       "    <tr style=\"text-align: right;\">\n",
       "      <th></th>\n",
       "      <th>1 yrs</th>\n",
       "      <th>10 mos</th>\n",
       "      <th>12 pcw</th>\n",
       "      <th>13 pcw</th>\n",
       "      <th>13 yrs</th>\n",
       "      <th>15 yrs</th>\n",
       "      <th>16 pcw</th>\n",
       "      <th>17 pcw</th>\n",
       "      <th>18 yrs</th>\n",
       "      <th>19 pcw</th>\n",
       "      <th>...</th>\n",
       "      <th>3 yrs</th>\n",
       "      <th>30 yrs</th>\n",
       "      <th>36 yrs</th>\n",
       "      <th>37 yrs</th>\n",
       "      <th>4 mos</th>\n",
       "      <th>4 yrs</th>\n",
       "      <th>40 yrs</th>\n",
       "      <th>8 pcw</th>\n",
       "      <th>8 yrs</th>\n",
       "      <th>9 pcw</th>\n",
       "    </tr>\n",
       "    <tr>\n",
       "      <th></th>\n",
       "      <th></th>\n",
       "      <th></th>\n",
       "      <th></th>\n",
       "      <th></th>\n",
       "      <th></th>\n",
       "      <th></th>\n",
       "      <th></th>\n",
       "      <th></th>\n",
       "      <th></th>\n",
       "      <th></th>\n",
       "      <th></th>\n",
       "      <th></th>\n",
       "      <th></th>\n",
       "      <th></th>\n",
       "      <th></th>\n",
       "      <th></th>\n",
       "      <th></th>\n",
       "      <th></th>\n",
       "      <th></th>\n",
       "      <th></th>\n",
       "      <th></th>\n",
       "    </tr>\n",
       "  </thead>\n",
       "  <tbody>\n",
       "    <tr>\n",
       "      <th>1 yrs</th>\n",
       "      <td>1.000000</td>\n",
       "      <td>0.229255</td>\n",
       "      <td>-0.423971</td>\n",
       "      <td>-0.478731</td>\n",
       "      <td>0.591577</td>\n",
       "      <td>0.699625</td>\n",
       "      <td>-0.456106</td>\n",
       "      <td>-0.436590</td>\n",
       "      <td>0.192221</td>\n",
       "      <td>-0.388758</td>\n",
       "      <td>...</td>\n",
       "      <td>0.222775</td>\n",
       "      <td>0.438414</td>\n",
       "      <td>0.427166</td>\n",
       "      <td>0.337913</td>\n",
       "      <td>0.632003</td>\n",
       "      <td>0.417323</td>\n",
       "      <td>0.257523</td>\n",
       "      <td>-0.313771</td>\n",
       "      <td>0.273767</td>\n",
       "      <td>-0.351622</td>\n",
       "    </tr>\n",
       "    <tr>\n",
       "      <th>10 mos</th>\n",
       "      <td>0.229255</td>\n",
       "      <td>1.000000</td>\n",
       "      <td>-0.256588</td>\n",
       "      <td>-0.314539</td>\n",
       "      <td>0.227146</td>\n",
       "      <td>0.243284</td>\n",
       "      <td>-0.328138</td>\n",
       "      <td>-0.235298</td>\n",
       "      <td>0.175985</td>\n",
       "      <td>-0.171132</td>\n",
       "      <td>...</td>\n",
       "      <td>0.364640</td>\n",
       "      <td>0.097261</td>\n",
       "      <td>0.131074</td>\n",
       "      <td>0.240945</td>\n",
       "      <td>0.244659</td>\n",
       "      <td>0.249025</td>\n",
       "      <td>0.285600</td>\n",
       "      <td>-0.188899</td>\n",
       "      <td>0.305381</td>\n",
       "      <td>-0.211706</td>\n",
       "    </tr>\n",
       "    <tr>\n",
       "      <th>12 pcw</th>\n",
       "      <td>-0.423971</td>\n",
       "      <td>-0.256588</td>\n",
       "      <td>1.000000</td>\n",
       "      <td>0.902232</td>\n",
       "      <td>-0.610184</td>\n",
       "      <td>-0.424373</td>\n",
       "      <td>0.694538</td>\n",
       "      <td>0.414345</td>\n",
       "      <td>-0.568124</td>\n",
       "      <td>0.398235</td>\n",
       "      <td>...</td>\n",
       "      <td>-0.496080</td>\n",
       "      <td>-0.536674</td>\n",
       "      <td>-0.530075</td>\n",
       "      <td>-0.517889</td>\n",
       "      <td>-0.457627</td>\n",
       "      <td>-0.401587</td>\n",
       "      <td>-0.473109</td>\n",
       "      <td>0.607544</td>\n",
       "      <td>-0.376715</td>\n",
       "      <td>0.507783</td>\n",
       "    </tr>\n",
       "    <tr>\n",
       "      <th>13 pcw</th>\n",
       "      <td>-0.478731</td>\n",
       "      <td>-0.314539</td>\n",
       "      <td>0.902232</td>\n",
       "      <td>1.000000</td>\n",
       "      <td>-0.600979</td>\n",
       "      <td>-0.495923</td>\n",
       "      <td>0.749846</td>\n",
       "      <td>0.500732</td>\n",
       "      <td>-0.500583</td>\n",
       "      <td>0.432592</td>\n",
       "      <td>...</td>\n",
       "      <td>-0.492341</td>\n",
       "      <td>-0.492613</td>\n",
       "      <td>-0.468354</td>\n",
       "      <td>-0.541422</td>\n",
       "      <td>-0.444338</td>\n",
       "      <td>-0.415390</td>\n",
       "      <td>-0.501024</td>\n",
       "      <td>0.631531</td>\n",
       "      <td>-0.389277</td>\n",
       "      <td>0.634596</td>\n",
       "    </tr>\n",
       "    <tr>\n",
       "      <th>13 yrs</th>\n",
       "      <td>0.591577</td>\n",
       "      <td>0.227146</td>\n",
       "      <td>-0.610184</td>\n",
       "      <td>-0.600979</td>\n",
       "      <td>1.000000</td>\n",
       "      <td>0.590577</td>\n",
       "      <td>-0.556047</td>\n",
       "      <td>-0.467630</td>\n",
       "      <td>0.512272</td>\n",
       "      <td>-0.480985</td>\n",
       "      <td>...</td>\n",
       "      <td>0.423884</td>\n",
       "      <td>0.721612</td>\n",
       "      <td>0.572357</td>\n",
       "      <td>0.594002</td>\n",
       "      <td>0.470386</td>\n",
       "      <td>0.376197</td>\n",
       "      <td>0.563934</td>\n",
       "      <td>-0.399576</td>\n",
       "      <td>0.368592</td>\n",
       "      <td>-0.365811</td>\n",
       "    </tr>\n",
       "  </tbody>\n",
       "</table>\n",
       "<p>5 rows × 27 columns</p>\n",
       "</div>"
      ],
      "text/plain": [
       "           1 yrs    10 mos    12 pcw    13 pcw    13 yrs    15 yrs    16 pcw  \\\n",
       "                                                                               \n",
       "1 yrs   1.000000  0.229255 -0.423971 -0.478731  0.591577  0.699625 -0.456106   \n",
       "10 mos  0.229255  1.000000 -0.256588 -0.314539  0.227146  0.243284 -0.328138   \n",
       "12 pcw -0.423971 -0.256588  1.000000  0.902232 -0.610184 -0.424373  0.694538   \n",
       "13 pcw -0.478731 -0.314539  0.902232  1.000000 -0.600979 -0.495923  0.749846   \n",
       "13 yrs  0.591577  0.227146 -0.610184 -0.600979  1.000000  0.590577 -0.556047   \n",
       "\n",
       "          17 pcw    18 yrs    19 pcw    ...        3 yrs    30 yrs    36 yrs  \\\n",
       "                                        ...                                    \n",
       "1 yrs  -0.436590  0.192221 -0.388758    ...     0.222775  0.438414  0.427166   \n",
       "10 mos -0.235298  0.175985 -0.171132    ...     0.364640  0.097261  0.131074   \n",
       "12 pcw  0.414345 -0.568124  0.398235    ...    -0.496080 -0.536674 -0.530075   \n",
       "13 pcw  0.500732 -0.500583  0.432592    ...    -0.492341 -0.492613 -0.468354   \n",
       "13 yrs -0.467630  0.512272 -0.480985    ...     0.423884  0.721612  0.572357   \n",
       "\n",
       "          37 yrs     4 mos     4 yrs    40 yrs     8 pcw     8 yrs     9 pcw  \n",
       "                                                                              \n",
       "1 yrs   0.337913  0.632003  0.417323  0.257523 -0.313771  0.273767 -0.351622  \n",
       "10 mos  0.240945  0.244659  0.249025  0.285600 -0.188899  0.305381 -0.211706  \n",
       "12 pcw -0.517889 -0.457627 -0.401587 -0.473109  0.607544 -0.376715  0.507783  \n",
       "13 pcw -0.541422 -0.444338 -0.415390 -0.501024  0.631531 -0.389277  0.634596  \n",
       "13 yrs  0.594002  0.470386  0.376197  0.563934 -0.399576  0.368592 -0.365811  \n",
       "\n",
       "[5 rows x 27 columns]"
      ]
     },
     "execution_count": 66,
     "metadata": {},
     "output_type": "execute_result"
    }
   ],
   "source": [
    "attribute_similarity_matix.head()"
   ]
  },
  {
   "cell_type": "markdown",
   "metadata": {},
   "source": [
    "# Save Attribute Similarity Matrix"
   ]
  },
  {
   "cell_type": "code",
   "execution_count": 67,
   "metadata": {
    "collapsed": true
   },
   "outputs": [],
   "source": [
    "filename = path+'aba_dev_mic_age_attribute_similarity_matix_%s.tsv.zip'% str(datetime.date.today())[0:7].replace('-', '_')\n",
    "attribute_similarity_matix.to_csv(filename, sep='\\t', compression='gzip')"
   ]
  },
  {
   "cell_type": "code",
   "execution_count": 68,
   "metadata": {},
   "outputs": [
    {
     "data": {
      "application/vnd.jupyter.widget-view+json": {
       "model_id": "d7b9c1a6400846588e02e43e16ce2f4b"
      }
     },
     "metadata": {},
     "output_type": "display_data"
    }
   ],
   "source": [
    "net.load_df(attribute_similarity_matix.iloc[:,:].copy())\n",
    "# net.filter_N_top('row', rank_type='sum', N_top=300)\n",
    "net.cluster()\n",
    "net.widget()"
   ]
  },
  {
   "cell_type": "markdown",
   "metadata": {},
   "source": [
    "# Create Gene Similarity Matrix"
   ]
  },
  {
   "cell_type": "code",
   "execution_count": 69,
   "metadata": {
    "collapsed": true
   },
   "outputs": [],
   "source": [
    "gene_similarity_matix = mf.createSimilarityMatrix(normalized_matrix, 'cosine')"
   ]
  },
  {
   "cell_type": "code",
   "execution_count": 70,
   "metadata": {},
   "outputs": [
    {
     "data": {
      "text/html": [
       "<div>\n",
       "<style scoped>\n",
       "    .dataframe tbody tr th:only-of-type {\n",
       "        vertical-align: middle;\n",
       "    }\n",
       "\n",
       "    .dataframe tbody tr th {\n",
       "        vertical-align: top;\n",
       "    }\n",
       "\n",
       "    .dataframe thead th {\n",
       "        text-align: right;\n",
       "    }\n",
       "</style>\n",
       "<table border=\"1\" class=\"dataframe\">\n",
       "  <thead>\n",
       "    <tr style=\"text-align: right;\">\n",
       "      <th></th>\n",
       "      <th>A1BG</th>\n",
       "      <th>A1CF</th>\n",
       "      <th>A2M</th>\n",
       "      <th>A2ML1</th>\n",
       "      <th>A4GALT</th>\n",
       "      <th>A4GNT</th>\n",
       "      <th>AAAS</th>\n",
       "      <th>AACS</th>\n",
       "      <th>AADAC</th>\n",
       "      <th>AADACL2</th>\n",
       "      <th>...</th>\n",
       "      <th>ZWILCH</th>\n",
       "      <th>ZWINT</th>\n",
       "      <th>ZXDA</th>\n",
       "      <th>ZXDB</th>\n",
       "      <th>ZXDC</th>\n",
       "      <th>ZYG11A</th>\n",
       "      <th>ZYG11B</th>\n",
       "      <th>ZYX</th>\n",
       "      <th>ZZEF1</th>\n",
       "      <th>ZZZ3</th>\n",
       "    </tr>\n",
       "    <tr>\n",
       "      <th></th>\n",
       "      <th></th>\n",
       "      <th></th>\n",
       "      <th></th>\n",
       "      <th></th>\n",
       "      <th></th>\n",
       "      <th></th>\n",
       "      <th></th>\n",
       "      <th></th>\n",
       "      <th></th>\n",
       "      <th></th>\n",
       "      <th></th>\n",
       "      <th></th>\n",
       "      <th></th>\n",
       "      <th></th>\n",
       "      <th></th>\n",
       "      <th></th>\n",
       "      <th></th>\n",
       "      <th></th>\n",
       "      <th></th>\n",
       "      <th></th>\n",
       "      <th></th>\n",
       "    </tr>\n",
       "  </thead>\n",
       "  <tbody>\n",
       "    <tr>\n",
       "      <th>A1BG</th>\n",
       "      <td>1.000000</td>\n",
       "      <td>0.296422</td>\n",
       "      <td>0.155986</td>\n",
       "      <td>0.194341</td>\n",
       "      <td>-0.108073</td>\n",
       "      <td>0.327260</td>\n",
       "      <td>-0.329756</td>\n",
       "      <td>0.457867</td>\n",
       "      <td>-0.101162</td>\n",
       "      <td>0.066543</td>\n",
       "      <td>...</td>\n",
       "      <td>-0.126302</td>\n",
       "      <td>-0.481792</td>\n",
       "      <td>-0.095622</td>\n",
       "      <td>0.046523</td>\n",
       "      <td>0.145363</td>\n",
       "      <td>0.102294</td>\n",
       "      <td>0.311826</td>\n",
       "      <td>-0.165132</td>\n",
       "      <td>0.104158</td>\n",
       "      <td>-0.256139</td>\n",
       "    </tr>\n",
       "    <tr>\n",
       "      <th>A1CF</th>\n",
       "      <td>0.296422</td>\n",
       "      <td>1.000000</td>\n",
       "      <td>0.461106</td>\n",
       "      <td>0.478920</td>\n",
       "      <td>-0.195064</td>\n",
       "      <td>-0.069359</td>\n",
       "      <td>-0.503428</td>\n",
       "      <td>0.047922</td>\n",
       "      <td>0.018994</td>\n",
       "      <td>0.176018</td>\n",
       "      <td>...</td>\n",
       "      <td>-0.342834</td>\n",
       "      <td>-0.377706</td>\n",
       "      <td>-0.339205</td>\n",
       "      <td>0.235242</td>\n",
       "      <td>-0.038463</td>\n",
       "      <td>-0.053572</td>\n",
       "      <td>0.061142</td>\n",
       "      <td>-0.158043</td>\n",
       "      <td>-0.201800</td>\n",
       "      <td>-0.328976</td>\n",
       "    </tr>\n",
       "    <tr>\n",
       "      <th>A2M</th>\n",
       "      <td>0.155986</td>\n",
       "      <td>0.461106</td>\n",
       "      <td>1.000000</td>\n",
       "      <td>0.770274</td>\n",
       "      <td>0.114322</td>\n",
       "      <td>0.197028</td>\n",
       "      <td>-0.753855</td>\n",
       "      <td>0.394254</td>\n",
       "      <td>-0.063477</td>\n",
       "      <td>0.440295</td>\n",
       "      <td>...</td>\n",
       "      <td>-0.792678</td>\n",
       "      <td>-0.583132</td>\n",
       "      <td>-0.709951</td>\n",
       "      <td>0.445909</td>\n",
       "      <td>-0.280817</td>\n",
       "      <td>-0.610911</td>\n",
       "      <td>-0.446552</td>\n",
       "      <td>-0.048922</td>\n",
       "      <td>-0.386448</td>\n",
       "      <td>-0.727883</td>\n",
       "    </tr>\n",
       "    <tr>\n",
       "      <th>A2ML1</th>\n",
       "      <td>0.194341</td>\n",
       "      <td>0.478920</td>\n",
       "      <td>0.770274</td>\n",
       "      <td>1.000000</td>\n",
       "      <td>-0.165366</td>\n",
       "      <td>0.217371</td>\n",
       "      <td>-0.814640</td>\n",
       "      <td>0.514279</td>\n",
       "      <td>0.127296</td>\n",
       "      <td>0.526037</td>\n",
       "      <td>...</td>\n",
       "      <td>-0.861613</td>\n",
       "      <td>-0.531728</td>\n",
       "      <td>-0.897144</td>\n",
       "      <td>0.509972</td>\n",
       "      <td>0.036919</td>\n",
       "      <td>-0.565189</td>\n",
       "      <td>-0.403580</td>\n",
       "      <td>-0.130150</td>\n",
       "      <td>-0.399338</td>\n",
       "      <td>-0.879274</td>\n",
       "    </tr>\n",
       "    <tr>\n",
       "      <th>A4GALT</th>\n",
       "      <td>-0.108073</td>\n",
       "      <td>-0.195064</td>\n",
       "      <td>0.114322</td>\n",
       "      <td>-0.165366</td>\n",
       "      <td>1.000000</td>\n",
       "      <td>-0.085337</td>\n",
       "      <td>0.198501</td>\n",
       "      <td>-0.125821</td>\n",
       "      <td>-0.300537</td>\n",
       "      <td>-0.266760</td>\n",
       "      <td>...</td>\n",
       "      <td>0.197676</td>\n",
       "      <td>0.194871</td>\n",
       "      <td>0.209549</td>\n",
       "      <td>0.115213</td>\n",
       "      <td>-0.541682</td>\n",
       "      <td>-0.057062</td>\n",
       "      <td>-0.136643</td>\n",
       "      <td>0.000742</td>\n",
       "      <td>-0.261128</td>\n",
       "      <td>0.079777</td>\n",
       "    </tr>\n",
       "  </tbody>\n",
       "</table>\n",
       "<p>5 rows × 16827 columns</p>\n",
       "</div>"
      ],
      "text/plain": [
       "            A1BG      A1CF       A2M     A2ML1    A4GALT     A4GNT      AAAS  \\\n",
       "                                                                               \n",
       "A1BG    1.000000  0.296422  0.155986  0.194341 -0.108073  0.327260 -0.329756   \n",
       "A1CF    0.296422  1.000000  0.461106  0.478920 -0.195064 -0.069359 -0.503428   \n",
       "A2M     0.155986  0.461106  1.000000  0.770274  0.114322  0.197028 -0.753855   \n",
       "A2ML1   0.194341  0.478920  0.770274  1.000000 -0.165366  0.217371 -0.814640   \n",
       "A4GALT -0.108073 -0.195064  0.114322 -0.165366  1.000000 -0.085337  0.198501   \n",
       "\n",
       "            AACS     AADAC   AADACL2    ...       ZWILCH     ZWINT      ZXDA  \\\n",
       "                                        ...                                    \n",
       "A1BG    0.457867 -0.101162  0.066543    ...    -0.126302 -0.481792 -0.095622   \n",
       "A1CF    0.047922  0.018994  0.176018    ...    -0.342834 -0.377706 -0.339205   \n",
       "A2M     0.394254 -0.063477  0.440295    ...    -0.792678 -0.583132 -0.709951   \n",
       "A2ML1   0.514279  0.127296  0.526037    ...    -0.861613 -0.531728 -0.897144   \n",
       "A4GALT -0.125821 -0.300537 -0.266760    ...     0.197676  0.194871  0.209549   \n",
       "\n",
       "            ZXDB      ZXDC    ZYG11A    ZYG11B       ZYX     ZZEF1      ZZZ3  \n",
       "                                                                              \n",
       "A1BG    0.046523  0.145363  0.102294  0.311826 -0.165132  0.104158 -0.256139  \n",
       "A1CF    0.235242 -0.038463 -0.053572  0.061142 -0.158043 -0.201800 -0.328976  \n",
       "A2M     0.445909 -0.280817 -0.610911 -0.446552 -0.048922 -0.386448 -0.727883  \n",
       "A2ML1   0.509972  0.036919 -0.565189 -0.403580 -0.130150 -0.399338 -0.879274  \n",
       "A4GALT  0.115213 -0.541682 -0.057062 -0.136643  0.000742 -0.261128  0.079777  \n",
       "\n",
       "[5 rows x 16827 columns]"
      ]
     },
     "execution_count": 70,
     "metadata": {},
     "output_type": "execute_result"
    }
   ],
   "source": [
    "gene_similarity_matix.head()"
   ]
  },
  {
   "cell_type": "markdown",
   "metadata": {},
   "source": [
    "# Save Gene Similarity Matrix"
   ]
  },
  {
   "cell_type": "code",
   "execution_count": 71,
   "metadata": {
    "collapsed": true
   },
   "outputs": [],
   "source": [
    "filename = path+'aba_dev_mic_age_gene_similarity_matix_%s.tsv.zip'% str(datetime.date.today())[0:7].replace('-', '_')\n",
    "gene_similarity_matix.to_csv(filename, sep='\\t', compression='gzip')"
   ]
  },
  {
   "cell_type": "markdown",
   "metadata": {},
   "source": [
    "# Create Gene-Attribute Edge List"
   ]
  },
  {
   "cell_type": "code",
   "execution_count": 72,
   "metadata": {
    "collapsed": true
   },
   "outputs": [],
   "source": [
    "name = 'aba_dev_mic_age_gene_attribute_edge_list'"
   ]
  },
  {
   "cell_type": "code",
   "execution_count": 73,
   "metadata": {},
   "outputs": [
    {
     "name": "stdout",
     "output_type": "stream",
     "text": [
      "Progeres: 100%  27 Out of 27   \n",
      "\n",
      " The number of statisticaly relevent gene-attribute associations is: 27015\n"
     ]
    }
   ],
   "source": [
    "mf.createGeneAttributeEdgeList(standard_matrix, attribute_list, gene_list, path, name)"
   ]
  }
 ],
 "metadata": {
  "kernelspec": {
   "display_name": "Python [default]",
   "language": "python",
   "name": "python3"
  },
  "language_info": {
   "codemirror_mode": {
    "name": "ipython",
    "version": 3
   },
   "file_extension": ".py",
   "mimetype": "text/x-python",
   "name": "python",
   "nbconvert_exporter": "python",
   "pygments_lexer": "ipython3",
   "version": "3.5.2"
  }
 },
 "nbformat": 4,
 "nbformat_minor": 2
}
