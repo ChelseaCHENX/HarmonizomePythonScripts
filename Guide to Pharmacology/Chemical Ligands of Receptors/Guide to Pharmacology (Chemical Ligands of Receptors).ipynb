{
 "cells": [
  {
   "cell_type": "markdown",
   "metadata": {},
   "source": [
    "# Guide to Pharmacology (Chemical Ligands of Receptors)"
   ]
  },
  {
   "cell_type": "markdown",
   "metadata": {},
   "source": [
    "Author: Moshe Silverstein <br/>\n",
    "Date: 8-17 <br/>\n",
    "Data Source: http://www.guidetopharmacology.org/download.jsp"
   ]
  },
  {
   "cell_type": "code",
   "execution_count": 1,
   "metadata": {
    "collapsed": true
   },
   "outputs": [],
   "source": [
    "import sys, datetime, os\n",
    "import numpy as np\n",
    "import pandas as pd\n",
    "import importlib\n",
    "import untility_functions as uf\n",
    "%matplotlib inline"
   ]
  },
  {
   "cell_type": "code",
   "execution_count": 2,
   "metadata": {},
   "outputs": [
    {
     "data": {
      "text/plain": [
       "<module 'untility_functions' from '/Users/moshesilverstein/Documents/Harmonizome/Guide to Pharmacology/untility_functions.py'>"
      ]
     },
     "execution_count": 2,
     "metadata": {},
     "output_type": "execute_result"
    }
   ],
   "source": [
    "importlib.reload(uf)"
   ]
  },
  {
   "cell_type": "markdown",
   "metadata": {},
   "source": [
    "# Load Data"
   ]
  },
  {
   "cell_type": "code",
   "execution_count": 3,
   "metadata": {},
   "outputs": [],
   "source": [
    "df = pd.read_csv('Input/interactions.csv', low_memory=False)"
   ]
  },
  {
   "cell_type": "code",
   "execution_count": 4,
   "metadata": {},
   "outputs": [
    {
     "data": {
      "text/html": [
       "<div>\n",
       "<table border=\"1\" class=\"dataframe\">\n",
       "  <thead>\n",
       "    <tr style=\"text-align: right;\">\n",
       "      <th></th>\n",
       "      <th>target</th>\n",
       "      <th>target_id</th>\n",
       "      <th>target_gene_symbol</th>\n",
       "      <th>target_uniprot</th>\n",
       "      <th>target_ligand</th>\n",
       "      <th>target_ligand_id</th>\n",
       "      <th>target_ligand_gene_symbol</th>\n",
       "      <th>target_ligand_uniprot</th>\n",
       "      <th>target_ligand_pubchem_sid</th>\n",
       "      <th>target_species</th>\n",
       "      <th>...</th>\n",
       "      <th>affinity_low</th>\n",
       "      <th>original_affinity_units</th>\n",
       "      <th>original_affinity_low_nm</th>\n",
       "      <th>original_affinity_median_nm</th>\n",
       "      <th>original_affinity_high_nm</th>\n",
       "      <th>original_affinity_relation</th>\n",
       "      <th>assay_description</th>\n",
       "      <th>receptor_site</th>\n",
       "      <th>ligand_context</th>\n",
       "      <th>pubmed_id</th>\n",
       "    </tr>\n",
       "  </thead>\n",
       "  <tbody>\n",
       "    <tr>\n",
       "      <th>0</th>\n",
       "      <td>12S-LOX</td>\n",
       "      <td>1387.0</td>\n",
       "      <td>ALOX12</td>\n",
       "      <td>P18054</td>\n",
       "      <td>NaN</td>\n",
       "      <td>NaN</td>\n",
       "      <td>NaN</td>\n",
       "      <td>NaN</td>\n",
       "      <td>NaN</td>\n",
       "      <td>Human</td>\n",
       "      <td>...</td>\n",
       "      <td>NaN</td>\n",
       "      <td>IC50</td>\n",
       "      <td>NaN</td>\n",
       "      <td>340.0</td>\n",
       "      <td>NaN</td>\n",
       "      <td>=</td>\n",
       "      <td>NaN</td>\n",
       "      <td>NaN</td>\n",
       "      <td>NaN</td>\n",
       "      <td>24393039</td>\n",
       "    </tr>\n",
       "    <tr>\n",
       "      <th>1</th>\n",
       "      <td>15-LOX-1</td>\n",
       "      <td>1388.0</td>\n",
       "      <td>ALOX15</td>\n",
       "      <td>P16050</td>\n",
       "      <td>NaN</td>\n",
       "      <td>NaN</td>\n",
       "      <td>NaN</td>\n",
       "      <td>NaN</td>\n",
       "      <td>NaN</td>\n",
       "      <td>Human</td>\n",
       "      <td>...</td>\n",
       "      <td>NaN</td>\n",
       "      <td>Kd</td>\n",
       "      <td>NaN</td>\n",
       "      <td>3900.0</td>\n",
       "      <td>NaN</td>\n",
       "      <td>=</td>\n",
       "      <td>Determined by surface plasmon\\r\\nresonance (SPR).</td>\n",
       "      <td>NaN</td>\n",
       "      <td>NaN</td>\n",
       "      <td>26290290</td>\n",
       "    </tr>\n",
       "    <tr>\n",
       "      <th>2</th>\n",
       "      <td>15-LOX-1</td>\n",
       "      <td>1388.0</td>\n",
       "      <td>ALOX15</td>\n",
       "      <td>P16050</td>\n",
       "      <td>NaN</td>\n",
       "      <td>NaN</td>\n",
       "      <td>NaN</td>\n",
       "      <td>NaN</td>\n",
       "      <td>NaN</td>\n",
       "      <td>Human</td>\n",
       "      <td>...</td>\n",
       "      <td>NaN</td>\n",
       "      <td>Ki</td>\n",
       "      <td>NaN</td>\n",
       "      <td>10.0</td>\n",
       "      <td>NaN</td>\n",
       "      <td>&lt;</td>\n",
       "      <td>NaN</td>\n",
       "      <td>NaN</td>\n",
       "      <td>NaN</td>\n",
       "      <td>20866075</td>\n",
       "    </tr>\n",
       "    <tr>\n",
       "      <th>3</th>\n",
       "      <td>15-LOX-2</td>\n",
       "      <td>1389.0</td>\n",
       "      <td>ALOX15B</td>\n",
       "      <td>O15296</td>\n",
       "      <td>NaN</td>\n",
       "      <td>NaN</td>\n",
       "      <td>NaN</td>\n",
       "      <td>NaN</td>\n",
       "      <td>NaN</td>\n",
       "      <td>Human</td>\n",
       "      <td>...</td>\n",
       "      <td>NaN</td>\n",
       "      <td>IC50</td>\n",
       "      <td>NaN</td>\n",
       "      <td>51.0</td>\n",
       "      <td>NaN</td>\n",
       "      <td>=</td>\n",
       "      <td>NaN</td>\n",
       "      <td>NaN</td>\n",
       "      <td>NaN</td>\n",
       "      <td>17656086</td>\n",
       "    </tr>\n",
       "    <tr>\n",
       "      <th>4</th>\n",
       "      <td>3-phosphoinositide dependent protein kinase 1</td>\n",
       "      <td>1519.0</td>\n",
       "      <td>PDPK1</td>\n",
       "      <td>O15530</td>\n",
       "      <td>NaN</td>\n",
       "      <td>NaN</td>\n",
       "      <td>NaN</td>\n",
       "      <td>NaN</td>\n",
       "      <td>NaN</td>\n",
       "      <td>Human</td>\n",
       "      <td>...</td>\n",
       "      <td>NaN</td>\n",
       "      <td>IC50</td>\n",
       "      <td>NaN</td>\n",
       "      <td>33.0</td>\n",
       "      <td>NaN</td>\n",
       "      <td>=</td>\n",
       "      <td>NaN</td>\n",
       "      <td>NaN</td>\n",
       "      <td>NaN</td>\n",
       "      <td>11896604</td>\n",
       "    </tr>\n",
       "  </tbody>\n",
       "</table>\n",
       "<p>5 rows × 34 columns</p>\n",
       "</div>"
      ],
      "text/plain": [
       "                                          target  target_id  \\\n",
       "0                                        12S-LOX     1387.0   \n",
       "1                                       15-LOX-1     1388.0   \n",
       "2                                       15-LOX-1     1388.0   \n",
       "3                                       15-LOX-2     1389.0   \n",
       "4  3-phosphoinositide dependent protein kinase 1     1519.0   \n",
       "\n",
       "  target_gene_symbol target_uniprot target_ligand  target_ligand_id  \\\n",
       "0             ALOX12         P18054           NaN               NaN   \n",
       "1             ALOX15         P16050           NaN               NaN   \n",
       "2             ALOX15         P16050           NaN               NaN   \n",
       "3            ALOX15B         O15296           NaN               NaN   \n",
       "4              PDPK1         O15530           NaN               NaN   \n",
       "\n",
       "  target_ligand_gene_symbol target_ligand_uniprot  target_ligand_pubchem_sid  \\\n",
       "0                       NaN                   NaN                        NaN   \n",
       "1                       NaN                   NaN                        NaN   \n",
       "2                       NaN                   NaN                        NaN   \n",
       "3                       NaN                   NaN                        NaN   \n",
       "4                       NaN                   NaN                        NaN   \n",
       "\n",
       "  target_species    ...    affinity_low  original_affinity_units  \\\n",
       "0          Human    ...             NaN                     IC50   \n",
       "1          Human    ...             NaN                       Kd   \n",
       "2          Human    ...             NaN                       Ki   \n",
       "3          Human    ...             NaN                     IC50   \n",
       "4          Human    ...             NaN                     IC50   \n",
       "\n",
       "  original_affinity_low_nm original_affinity_median_nm  \\\n",
       "0                      NaN                       340.0   \n",
       "1                      NaN                      3900.0   \n",
       "2                      NaN                        10.0   \n",
       "3                      NaN                        51.0   \n",
       "4                      NaN                        33.0   \n",
       "\n",
       "   original_affinity_high_nm original_affinity_relation  \\\n",
       "0                        NaN                          =   \n",
       "1                        NaN                          =   \n",
       "2                        NaN                          <   \n",
       "3                        NaN                          =   \n",
       "4                        NaN                          =   \n",
       "\n",
       "                                   assay_description receptor_site  \\\n",
       "0                                                NaN           NaN   \n",
       "1  Determined by surface plasmon\\r\\nresonance (SPR).           NaN   \n",
       "2                                                NaN           NaN   \n",
       "3                                                NaN           NaN   \n",
       "4                                                NaN           NaN   \n",
       "\n",
       "  ligand_context pubmed_id  \n",
       "0            NaN  24393039  \n",
       "1            NaN  26290290  \n",
       "2            NaN  20866075  \n",
       "3            NaN  17656086  \n",
       "4            NaN  11896604  \n",
       "\n",
       "[5 rows x 34 columns]"
      ]
     },
     "execution_count": 4,
     "metadata": {},
     "output_type": "execute_result"
    }
   ],
   "source": [
    "df.head()"
   ]
  },
  {
   "cell_type": "code",
   "execution_count": 5,
   "metadata": {},
   "outputs": [
    {
     "data": {
      "text/plain": [
       "(17191, 34)"
      ]
     },
     "execution_count": 5,
     "metadata": {},
     "output_type": "execute_result"
    }
   ],
   "source": [
    "df.shape"
   ]
  },
  {
   "cell_type": "code",
   "execution_count": 6,
   "metadata": {},
   "outputs": [
    {
     "data": {
      "text/plain": [
       "Index(['target', 'target_id', 'target_gene_symbol', 'target_uniprot',\n",
       "       'target_ligand', 'target_ligand_id', 'target_ligand_gene_symbol',\n",
       "       'target_ligand_uniprot', 'target_ligand_pubchem_sid', 'target_species',\n",
       "       'ligand', 'ligand_id', 'ligand_gene_symbol', 'ligand_species',\n",
       "       'ligand_pubchem_sid', 'type', 'action', 'action_comment', 'endogenous',\n",
       "       'primary_target', 'concentration_range', 'affinity_units',\n",
       "       'affinity_high', 'affinity_median', 'affinity_low',\n",
       "       'original_affinity_units', 'original_affinity_low_nm',\n",
       "       'original_affinity_median_nm', 'original_affinity_high_nm',\n",
       "       'original_affinity_relation', 'assay_description', 'receptor_site',\n",
       "       'ligand_context', 'pubmed_id'],\n",
       "      dtype='object')"
      ]
     },
     "execution_count": 6,
     "metadata": {},
     "output_type": "execute_result"
    }
   ],
   "source": [
    "df.columns"
   ]
  },
  {
   "cell_type": "code",
   "execution_count": 7,
   "metadata": {},
   "outputs": [
    {
     "data": {
      "text/plain": [
       "0    NaN\n",
       "1    NaN\n",
       "2    NaN\n",
       "3    NaN\n",
       "4    NaN\n",
       "Name: ligand_gene_symbol, dtype: object"
      ]
     },
     "execution_count": 7,
     "metadata": {},
     "output_type": "execute_result"
    }
   ],
   "source": [
    "df['ligand_gene_symbol'].head()"
   ]
  },
  {
   "cell_type": "code",
   "execution_count": 8,
   "metadata": {},
   "outputs": [
    {
     "data": {
      "text/plain": [
       "362"
      ]
     },
     "execution_count": 8,
     "metadata": {},
     "output_type": "execute_result"
    }
   ],
   "source": [
    "len(df['ligand_gene_symbol'].unique())"
   ]
  },
  {
   "cell_type": "markdown",
   "metadata": {},
   "source": [
    "# Get Relevant Data"
   ]
  },
  {
   "cell_type": "code",
   "execution_count": 9,
   "metadata": {
    "collapsed": true
   },
   "outputs": [],
   "source": [
    "df = df[df['target_species'].isin(['Human', 'Mouse', 'Rat'])] # Grap only selective species of target\n",
    "df = df[df['target_species'].isin(['Human', 'Mouse|Rat', \n",
    "                                   'Human|Mouse|Rat', \n",
    "                                   'Human|Rat',\n",
    "                                  'Mouse',\n",
    "                                  'Rat'])] # Grap only selective species of ligand"
   ]
  },
  {
   "cell_type": "code",
   "execution_count": 10,
   "metadata": {
    "collapsed": true
   },
   "outputs": [],
   "source": [
    "df = df[['target_gene_symbol', 'ligand']]"
   ]
  },
  {
   "cell_type": "code",
   "execution_count": 11,
   "metadata": {
    "collapsed": true
   },
   "outputs": [],
   "source": [
    "df.dropna(how='any', inplace=True)"
   ]
  },
  {
   "cell_type": "code",
   "execution_count": 12,
   "metadata": {},
   "outputs": [
    {
     "data": {
      "text/html": [
       "<div>\n",
       "<table border=\"1\" class=\"dataframe\">\n",
       "  <thead>\n",
       "    <tr style=\"text-align: right;\">\n",
       "      <th></th>\n",
       "      <th>target_gene_symbol</th>\n",
       "      <th>ligand</th>\n",
       "    </tr>\n",
       "  </thead>\n",
       "  <tbody>\n",
       "    <tr>\n",
       "      <th>0</th>\n",
       "      <td>ALOX12</td>\n",
       "      <td>ML355</td>\n",
       "    </tr>\n",
       "    <tr>\n",
       "      <th>1</th>\n",
       "      <td>ALOX15</td>\n",
       "      <td>PKUMDL_MH_1001</td>\n",
       "    </tr>\n",
       "    <tr>\n",
       "      <th>2</th>\n",
       "      <td>ALOX15</td>\n",
       "      <td>compound 34 [PMID: 20866075]</td>\n",
       "    </tr>\n",
       "    <tr>\n",
       "      <th>3</th>\n",
       "      <td>ALOX15B</td>\n",
       "      <td>compound 21n [PMID: 17656086]</td>\n",
       "    </tr>\n",
       "    <tr>\n",
       "      <th>4</th>\n",
       "      <td>PDPK1</td>\n",
       "      <td>7-hydroxystaurosporine</td>\n",
       "    </tr>\n",
       "  </tbody>\n",
       "</table>\n",
       "</div>"
      ],
      "text/plain": [
       "  target_gene_symbol                         ligand\n",
       "0             ALOX12                          ML355\n",
       "1             ALOX15                 PKUMDL_MH_1001\n",
       "2             ALOX15   compound 34 [PMID: 20866075]\n",
       "3            ALOX15B  compound 21n [PMID: 17656086]\n",
       "4              PDPK1         7-hydroxystaurosporine"
      ]
     },
     "execution_count": 12,
     "metadata": {},
     "output_type": "execute_result"
    }
   ],
   "source": [
    "df.head()"
   ]
  },
  {
   "cell_type": "code",
   "execution_count": 13,
   "metadata": {},
   "outputs": [
    {
     "data": {
      "text/plain": [
       "(16789, 2)"
      ]
     },
     "execution_count": 13,
     "metadata": {},
     "output_type": "execute_result"
    }
   ],
   "source": [
    "df.shape"
   ]
  },
  {
   "cell_type": "markdown",
   "metadata": {},
   "source": [
    "# Map Gene Symbols To Up-to-date Approved Gene Symbols"
   ]
  },
  {
   "cell_type": "code",
   "execution_count": 17,
   "metadata": {},
   "outputs": [],
   "source": [
    "df.set_index('target_gene_symbol', inplace=True)"
   ]
  },
  {
   "cell_type": "code",
   "execution_count": 18,
   "metadata": {},
   "outputs": [
    {
     "name": "stdout",
     "output_type": "stream",
     "text": [
      "Progeres: 100%  16789 Out of 16789   \r"
     ]
    }
   ],
   "source": [
    "uf.mapgenesymbols(df)"
   ]
  },
  {
   "cell_type": "markdown",
   "metadata": {},
   "source": [
    "# Drop Duplicates"
   ]
  },
  {
   "cell_type": "code",
   "execution_count": 19,
   "metadata": {
    "collapsed": true
   },
   "outputs": [],
   "source": [
    "df.reset_index(inplace=True)"
   ]
  },
  {
   "cell_type": "code",
   "execution_count": 20,
   "metadata": {
    "collapsed": true
   },
   "outputs": [],
   "source": [
    "df.drop_duplicates(inplace=True)"
   ]
  },
  {
   "cell_type": "code",
   "execution_count": 21,
   "metadata": {},
   "outputs": [
    {
     "data": {
      "text/plain": [
       "(13759, 2)"
      ]
     },
     "execution_count": 21,
     "metadata": {},
     "output_type": "execute_result"
    }
   ],
   "source": [
    "df.shape"
   ]
  },
  {
   "cell_type": "markdown",
   "metadata": {},
   "source": [
    "# Create Binary Matrix"
   ]
  },
  {
   "cell_type": "code",
   "execution_count": 22,
   "metadata": {},
   "outputs": [
    {
     "name": "stdout",
     "output_type": "stream",
     "text": [
      "Progeres: 100%  1577 Out of 1577   \r"
     ]
    }
   ],
   "source": [
    "binary_matrix = uf.createBinaryMatix(df)"
   ]
  },
  {
   "cell_type": "code",
   "execution_count": 23,
   "metadata": {},
   "outputs": [
    {
     "data": {
      "text/html": [
       "<div>\n",
       "<table border=\"1\" class=\"dataframe\">\n",
       "  <thead>\n",
       "    <tr style=\"text-align: right;\">\n",
       "      <th></th>\n",
       "      <th>[Ava&lt;sup&gt;9,10&lt;/sup&gt;,Ava&lt;sup&gt;14,15&lt;/sup&gt;]-Ac-hMCH&lt;sub&gt;6-16&lt;/sub&gt;-NH2</th>\n",
       "      <th>anlotinib</th>\n",
       "      <th>latanoprost (isopropyl ester)</th>\n",
       "      <th>I-CBP112</th>\n",
       "      <th>DSLET</th>\n",
       "      <th>surinabant</th>\n",
       "      <th>fMet-Leu-Phe-Glu</th>\n",
       "      <th>ASN04421891</th>\n",
       "      <th>compound 39a [PMID: 15634016]</th>\n",
       "      <th>TMP269</th>\n",
       "      <th>...</th>\n",
       "      <th>urocortin 3</th>\n",
       "      <th>cenderitide</th>\n",
       "      <th>PMX53</th>\n",
       "      <th>octanol</th>\n",
       "      <th>bazedoxifene</th>\n",
       "      <th>roxindole</th>\n",
       "      <th>ALRT 1550</th>\n",
       "      <th>ginkgolide X</th>\n",
       "      <th>D-serine</th>\n",
       "      <th>ACDPP</th>\n",
       "    </tr>\n",
       "  </thead>\n",
       "  <tbody>\n",
       "    <tr>\n",
       "      <th>GJB2</th>\n",
       "      <td>0</td>\n",
       "      <td>0</td>\n",
       "      <td>0</td>\n",
       "      <td>0</td>\n",
       "      <td>0</td>\n",
       "      <td>0</td>\n",
       "      <td>0</td>\n",
       "      <td>0</td>\n",
       "      <td>0</td>\n",
       "      <td>0</td>\n",
       "      <td>...</td>\n",
       "      <td>0</td>\n",
       "      <td>0</td>\n",
       "      <td>0</td>\n",
       "      <td>1</td>\n",
       "      <td>0</td>\n",
       "      <td>0</td>\n",
       "      <td>0</td>\n",
       "      <td>0</td>\n",
       "      <td>0</td>\n",
       "      <td>0</td>\n",
       "    </tr>\n",
       "    <tr>\n",
       "      <th>KCNH6</th>\n",
       "      <td>0</td>\n",
       "      <td>0</td>\n",
       "      <td>0</td>\n",
       "      <td>0</td>\n",
       "      <td>0</td>\n",
       "      <td>0</td>\n",
       "      <td>0</td>\n",
       "      <td>0</td>\n",
       "      <td>0</td>\n",
       "      <td>0</td>\n",
       "      <td>...</td>\n",
       "      <td>0</td>\n",
       "      <td>0</td>\n",
       "      <td>0</td>\n",
       "      <td>0</td>\n",
       "      <td>0</td>\n",
       "      <td>0</td>\n",
       "      <td>0</td>\n",
       "      <td>0</td>\n",
       "      <td>0</td>\n",
       "      <td>0</td>\n",
       "    </tr>\n",
       "    <tr>\n",
       "      <th>TEK</th>\n",
       "      <td>0</td>\n",
       "      <td>0</td>\n",
       "      <td>0</td>\n",
       "      <td>0</td>\n",
       "      <td>0</td>\n",
       "      <td>0</td>\n",
       "      <td>0</td>\n",
       "      <td>0</td>\n",
       "      <td>0</td>\n",
       "      <td>0</td>\n",
       "      <td>...</td>\n",
       "      <td>0</td>\n",
       "      <td>0</td>\n",
       "      <td>0</td>\n",
       "      <td>0</td>\n",
       "      <td>0</td>\n",
       "      <td>0</td>\n",
       "      <td>0</td>\n",
       "      <td>0</td>\n",
       "      <td>0</td>\n",
       "      <td>0</td>\n",
       "    </tr>\n",
       "    <tr>\n",
       "      <th>SLC40A1</th>\n",
       "      <td>0</td>\n",
       "      <td>0</td>\n",
       "      <td>0</td>\n",
       "      <td>0</td>\n",
       "      <td>0</td>\n",
       "      <td>0</td>\n",
       "      <td>0</td>\n",
       "      <td>0</td>\n",
       "      <td>0</td>\n",
       "      <td>0</td>\n",
       "      <td>...</td>\n",
       "      <td>0</td>\n",
       "      <td>0</td>\n",
       "      <td>0</td>\n",
       "      <td>0</td>\n",
       "      <td>0</td>\n",
       "      <td>0</td>\n",
       "      <td>0</td>\n",
       "      <td>0</td>\n",
       "      <td>0</td>\n",
       "      <td>0</td>\n",
       "    </tr>\n",
       "    <tr>\n",
       "      <th>RORA</th>\n",
       "      <td>0</td>\n",
       "      <td>0</td>\n",
       "      <td>0</td>\n",
       "      <td>0</td>\n",
       "      <td>0</td>\n",
       "      <td>0</td>\n",
       "      <td>0</td>\n",
       "      <td>0</td>\n",
       "      <td>0</td>\n",
       "      <td>0</td>\n",
       "      <td>...</td>\n",
       "      <td>0</td>\n",
       "      <td>0</td>\n",
       "      <td>0</td>\n",
       "      <td>0</td>\n",
       "      <td>0</td>\n",
       "      <td>0</td>\n",
       "      <td>0</td>\n",
       "      <td>0</td>\n",
       "      <td>0</td>\n",
       "      <td>0</td>\n",
       "    </tr>\n",
       "  </tbody>\n",
       "</table>\n",
       "<p>5 rows × 7087 columns</p>\n",
       "</div>"
      ],
      "text/plain": [
       "         [Ava<sup>9,10</sup>,Ava<sup>14,15</sup>]-Ac-hMCH<sub>6-16</sub>-NH2  \\\n",
       "GJB2                                                     0                     \n",
       "KCNH6                                                    0                     \n",
       "TEK                                                      0                     \n",
       "SLC40A1                                                  0                     \n",
       "RORA                                                     0                     \n",
       "\n",
       "         anlotinib  latanoprost (isopropyl ester)  I-CBP112  DSLET  \\\n",
       "GJB2             0                              0         0      0   \n",
       "KCNH6            0                              0         0      0   \n",
       "TEK              0                              0         0      0   \n",
       "SLC40A1          0                              0         0      0   \n",
       "RORA             0                              0         0      0   \n",
       "\n",
       "         surinabant  fMet-Leu-Phe-Glu  ASN04421891  \\\n",
       "GJB2              0                 0            0   \n",
       "KCNH6             0                 0            0   \n",
       "TEK               0                 0            0   \n",
       "SLC40A1           0                 0            0   \n",
       "RORA              0                 0            0   \n",
       "\n",
       "         compound 39a [PMID: 15634016]  TMP269  ...    urocortin 3  \\\n",
       "GJB2                                 0       0  ...              0   \n",
       "KCNH6                                0       0  ...              0   \n",
       "TEK                                  0       0  ...              0   \n",
       "SLC40A1                              0       0  ...              0   \n",
       "RORA                                 0       0  ...              0   \n",
       "\n",
       "         cenderitide  PMX53  octanol  bazedoxifene  roxindole  ALRT 1550  \\\n",
       "GJB2               0      0        1             0          0          0   \n",
       "KCNH6              0      0        0             0          0          0   \n",
       "TEK                0      0        0             0          0          0   \n",
       "SLC40A1            0      0        0             0          0          0   \n",
       "RORA               0      0        0             0          0          0   \n",
       "\n",
       "         ginkgolide X  D-serine  ACDPP  \n",
       "GJB2                0         0      0  \n",
       "KCNH6               0         0      0  \n",
       "TEK                 0         0      0  \n",
       "SLC40A1             0         0      0  \n",
       "RORA                0         0      0  \n",
       "\n",
       "[5 rows x 7087 columns]"
      ]
     },
     "execution_count": 23,
     "metadata": {},
     "output_type": "execute_result"
    }
   ],
   "source": [
    "binary_matrix.head()"
   ]
  },
  {
   "cell_type": "code",
   "execution_count": 24,
   "metadata": {},
   "outputs": [
    {
     "data": {
      "text/plain": [
       "(1577, 7087)"
      ]
     },
     "execution_count": 24,
     "metadata": {},
     "output_type": "execute_result"
    }
   ],
   "source": [
    "binary_matrix.shape"
   ]
  },
  {
   "cell_type": "markdown",
   "metadata": {},
   "source": [
    "# Save Binary Matrix"
   ]
  },
  {
   "cell_type": "code",
   "execution_count": 26,
   "metadata": {},
   "outputs": [],
   "source": [
    "filename = '~/./Documents/Harmonizome/Guide to Pharmacology/Output/gp_chem_binary_matrix_%s.tsv.zip'% str(datetime.date.today())[0:7].replace('-', '_')\n",
    "binary_matrix.to_csv(filename, sep='\\t', compression='gzip')"
   ]
  },
  {
   "cell_type": "markdown",
   "metadata": {},
   "source": [
    "# Create Gene Set Library"
   ]
  },
  {
   "cell_type": "code",
   "execution_count": 27,
   "metadata": {
    "collapsed": true
   },
   "outputs": [],
   "source": [
    "path = '/Users/moshesilverstein/Documents/Harmonizome/Guide to Pharmacology/Output/'"
   ]
  },
  {
   "cell_type": "code",
   "execution_count": 28,
   "metadata": {
    "collapsed": true
   },
   "outputs": [],
   "source": [
    "name = 'gp_chem_gene_set'"
   ]
  },
  {
   "cell_type": "code",
   "execution_count": 29,
   "metadata": {},
   "outputs": [
    {
     "name": "stdout",
     "output_type": "stream",
     "text": [
      "Progeres: 100%  7087 Out of 7087   \r"
     ]
    }
   ],
   "source": [
    "uf.createUpGeneSetLib(binary_matrix, path, name)"
   ]
  },
  {
   "cell_type": "markdown",
   "metadata": {},
   "source": [
    "# Create Attribute Library"
   ]
  },
  {
   "cell_type": "code",
   "execution_count": 30,
   "metadata": {
    "collapsed": true
   },
   "outputs": [],
   "source": [
    "path = '/Users/moshesilverstein/Documents/Harmonizome/Guide to Pharmacology/Output/'"
   ]
  },
  {
   "cell_type": "code",
   "execution_count": 31,
   "metadata": {
    "collapsed": true
   },
   "outputs": [],
   "source": [
    "name = 'gp_chem_attribute_set'"
   ]
  },
  {
   "cell_type": "code",
   "execution_count": 32,
   "metadata": {},
   "outputs": [
    {
     "name": "stdout",
     "output_type": "stream",
     "text": [
      "Progeres: 100%  1577 Out of 1577   \r"
     ]
    }
   ],
   "source": [
    "uf.createUpAttributeSetLib(binary_matrix, path, name)"
   ]
  },
  {
   "cell_type": "markdown",
   "metadata": {},
   "source": [
    "# Create Gene Similarity Matrix"
   ]
  },
  {
   "cell_type": "code",
   "execution_count": 33,
   "metadata": {
    "collapsed": true
   },
   "outputs": [],
   "source": [
    "gene_similarity_matix = uf.createSimilarityMatrix(binary_matrix, 'jaccard')"
   ]
  },
  {
   "cell_type": "code",
   "execution_count": 34,
   "metadata": {},
   "outputs": [
    {
     "data": {
      "text/html": [
       "<div>\n",
       "<table border=\"1\" class=\"dataframe\">\n",
       "  <thead>\n",
       "    <tr style=\"text-align: right;\">\n",
       "      <th></th>\n",
       "      <th>GJB2</th>\n",
       "      <th>KCNH6</th>\n",
       "      <th>TEK</th>\n",
       "      <th>SLC40A1</th>\n",
       "      <th>RORA</th>\n",
       "      <th>AKT2</th>\n",
       "      <th>SLC5A3</th>\n",
       "      <th>GABRR3</th>\n",
       "      <th>KDM4A</th>\n",
       "      <th>BMP1</th>\n",
       "      <th>...</th>\n",
       "      <th>PKD2</th>\n",
       "      <th>CFB</th>\n",
       "      <th>KCNK9</th>\n",
       "      <th>BRSK2</th>\n",
       "      <th>AQP5</th>\n",
       "      <th>IDH1</th>\n",
       "      <th>SLC6A4</th>\n",
       "      <th>HDAC2</th>\n",
       "      <th>ACHE</th>\n",
       "      <th>SLC1A2</th>\n",
       "    </tr>\n",
       "  </thead>\n",
       "  <tbody>\n",
       "    <tr>\n",
       "      <th>GJB2</th>\n",
       "      <td>1.0</td>\n",
       "      <td>0.0</td>\n",
       "      <td>0.0</td>\n",
       "      <td>0.0</td>\n",
       "      <td>0.0</td>\n",
       "      <td>0.0</td>\n",
       "      <td>0.0</td>\n",
       "      <td>0.0</td>\n",
       "      <td>0.0</td>\n",
       "      <td>0.0</td>\n",
       "      <td>...</td>\n",
       "      <td>0.142857</td>\n",
       "      <td>0.0</td>\n",
       "      <td>0.0</td>\n",
       "      <td>0.0</td>\n",
       "      <td>0.0</td>\n",
       "      <td>0.0</td>\n",
       "      <td>0.0</td>\n",
       "      <td>0.0</td>\n",
       "      <td>0.0</td>\n",
       "      <td>0.0</td>\n",
       "    </tr>\n",
       "    <tr>\n",
       "      <th>KCNH6</th>\n",
       "      <td>0.0</td>\n",
       "      <td>1.0</td>\n",
       "      <td>0.0</td>\n",
       "      <td>0.0</td>\n",
       "      <td>0.0</td>\n",
       "      <td>0.0</td>\n",
       "      <td>0.0</td>\n",
       "      <td>0.0</td>\n",
       "      <td>0.0</td>\n",
       "      <td>0.0</td>\n",
       "      <td>...</td>\n",
       "      <td>0.000000</td>\n",
       "      <td>0.0</td>\n",
       "      <td>0.0</td>\n",
       "      <td>0.0</td>\n",
       "      <td>0.0</td>\n",
       "      <td>0.0</td>\n",
       "      <td>0.0</td>\n",
       "      <td>0.0</td>\n",
       "      <td>0.0</td>\n",
       "      <td>0.0</td>\n",
       "    </tr>\n",
       "    <tr>\n",
       "      <th>TEK</th>\n",
       "      <td>0.0</td>\n",
       "      <td>0.0</td>\n",
       "      <td>1.0</td>\n",
       "      <td>0.0</td>\n",
       "      <td>0.0</td>\n",
       "      <td>0.0</td>\n",
       "      <td>0.0</td>\n",
       "      <td>0.0</td>\n",
       "      <td>0.0</td>\n",
       "      <td>0.0</td>\n",
       "      <td>...</td>\n",
       "      <td>0.000000</td>\n",
       "      <td>0.0</td>\n",
       "      <td>0.0</td>\n",
       "      <td>0.0</td>\n",
       "      <td>0.0</td>\n",
       "      <td>0.0</td>\n",
       "      <td>0.0</td>\n",
       "      <td>0.0</td>\n",
       "      <td>0.0</td>\n",
       "      <td>0.0</td>\n",
       "    </tr>\n",
       "    <tr>\n",
       "      <th>SLC40A1</th>\n",
       "      <td>0.0</td>\n",
       "      <td>0.0</td>\n",
       "      <td>0.0</td>\n",
       "      <td>1.0</td>\n",
       "      <td>0.0</td>\n",
       "      <td>0.0</td>\n",
       "      <td>0.0</td>\n",
       "      <td>0.0</td>\n",
       "      <td>0.0</td>\n",
       "      <td>0.0</td>\n",
       "      <td>...</td>\n",
       "      <td>0.000000</td>\n",
       "      <td>0.0</td>\n",
       "      <td>0.0</td>\n",
       "      <td>0.0</td>\n",
       "      <td>0.0</td>\n",
       "      <td>0.0</td>\n",
       "      <td>0.0</td>\n",
       "      <td>0.0</td>\n",
       "      <td>0.0</td>\n",
       "      <td>0.0</td>\n",
       "    </tr>\n",
       "    <tr>\n",
       "      <th>RORA</th>\n",
       "      <td>0.0</td>\n",
       "      <td>0.0</td>\n",
       "      <td>0.0</td>\n",
       "      <td>0.0</td>\n",
       "      <td>1.0</td>\n",
       "      <td>0.0</td>\n",
       "      <td>0.0</td>\n",
       "      <td>0.0</td>\n",
       "      <td>0.0</td>\n",
       "      <td>0.0</td>\n",
       "      <td>...</td>\n",
       "      <td>0.000000</td>\n",
       "      <td>0.0</td>\n",
       "      <td>0.0</td>\n",
       "      <td>0.0</td>\n",
       "      <td>0.0</td>\n",
       "      <td>0.0</td>\n",
       "      <td>0.0</td>\n",
       "      <td>0.0</td>\n",
       "      <td>0.0</td>\n",
       "      <td>0.0</td>\n",
       "    </tr>\n",
       "  </tbody>\n",
       "</table>\n",
       "<p>5 rows × 1577 columns</p>\n",
       "</div>"
      ],
      "text/plain": [
       "         GJB2  KCNH6  TEK  SLC40A1  RORA  AKT2  SLC5A3  GABRR3  KDM4A  BMP1  \\\n",
       "GJB2      1.0    0.0  0.0      0.0   0.0   0.0     0.0     0.0    0.0   0.0   \n",
       "KCNH6     0.0    1.0  0.0      0.0   0.0   0.0     0.0     0.0    0.0   0.0   \n",
       "TEK       0.0    0.0  1.0      0.0   0.0   0.0     0.0     0.0    0.0   0.0   \n",
       "SLC40A1   0.0    0.0  0.0      1.0   0.0   0.0     0.0     0.0    0.0   0.0   \n",
       "RORA      0.0    0.0  0.0      0.0   1.0   0.0     0.0     0.0    0.0   0.0   \n",
       "\n",
       "          ...        PKD2  CFB  KCNK9  BRSK2  AQP5  IDH1  SLC6A4  HDAC2  ACHE  \\\n",
       "GJB2      ...    0.142857  0.0    0.0    0.0   0.0   0.0     0.0    0.0   0.0   \n",
       "KCNH6     ...    0.000000  0.0    0.0    0.0   0.0   0.0     0.0    0.0   0.0   \n",
       "TEK       ...    0.000000  0.0    0.0    0.0   0.0   0.0     0.0    0.0   0.0   \n",
       "SLC40A1   ...    0.000000  0.0    0.0    0.0   0.0   0.0     0.0    0.0   0.0   \n",
       "RORA      ...    0.000000  0.0    0.0    0.0   0.0   0.0     0.0    0.0   0.0   \n",
       "\n",
       "         SLC1A2  \n",
       "GJB2        0.0  \n",
       "KCNH6       0.0  \n",
       "TEK         0.0  \n",
       "SLC40A1     0.0  \n",
       "RORA        0.0  \n",
       "\n",
       "[5 rows x 1577 columns]"
      ]
     },
     "execution_count": 34,
     "metadata": {},
     "output_type": "execute_result"
    }
   ],
   "source": [
    "gene_similarity_matix.head()"
   ]
  },
  {
   "cell_type": "markdown",
   "metadata": {},
   "source": [
    "# Save Gene Similarity Matrix"
   ]
  },
  {
   "cell_type": "code",
   "execution_count": 35,
   "metadata": {
    "collapsed": true
   },
   "outputs": [],
   "source": [
    "filename = '~/./Documents/Harmonizome/Guide to Pharmacology/Output/gp_chem_gene_similarity_matix_%s.tsv.zip'% str(datetime.date.today())[0:7].replace('-', '_')\n",
    "gene_similarity_matix.to_csv(filename, sep='\\t', compression='gzip')"
   ]
  },
  {
   "cell_type": "markdown",
   "metadata": {},
   "source": [
    "# Create Attribute Similarity matrix"
   ]
  },
  {
   "cell_type": "code",
   "execution_count": 36,
   "metadata": {
    "collapsed": true
   },
   "outputs": [],
   "source": [
    "attribute_similarity_matix = uf.createSimilarityMatrix(binary_matrix.T, 'jaccard')"
   ]
  },
  {
   "cell_type": "code",
   "execution_count": 37,
   "metadata": {},
   "outputs": [
    {
     "data": {
      "text/html": [
       "<div>\n",
       "<table border=\"1\" class=\"dataframe\">\n",
       "  <thead>\n",
       "    <tr style=\"text-align: right;\">\n",
       "      <th></th>\n",
       "      <th>[Ava&lt;sup&gt;9,10&lt;/sup&gt;,Ava&lt;sup&gt;14,15&lt;/sup&gt;]-Ac-hMCH&lt;sub&gt;6-16&lt;/sub&gt;-NH2</th>\n",
       "      <th>anlotinib</th>\n",
       "      <th>latanoprost (isopropyl ester)</th>\n",
       "      <th>I-CBP112</th>\n",
       "      <th>DSLET</th>\n",
       "      <th>surinabant</th>\n",
       "      <th>fMet-Leu-Phe-Glu</th>\n",
       "      <th>ASN04421891</th>\n",
       "      <th>compound 39a [PMID: 15634016]</th>\n",
       "      <th>TMP269</th>\n",
       "      <th>...</th>\n",
       "      <th>urocortin 3</th>\n",
       "      <th>cenderitide</th>\n",
       "      <th>PMX53</th>\n",
       "      <th>octanol</th>\n",
       "      <th>bazedoxifene</th>\n",
       "      <th>roxindole</th>\n",
       "      <th>ALRT 1550</th>\n",
       "      <th>ginkgolide X</th>\n",
       "      <th>D-serine</th>\n",
       "      <th>ACDPP</th>\n",
       "    </tr>\n",
       "  </thead>\n",
       "  <tbody>\n",
       "    <tr>\n",
       "      <th>[Ava&lt;sup&gt;9,10&lt;/sup&gt;,Ava&lt;sup&gt;14,15&lt;/sup&gt;]-Ac-hMCH&lt;sub&gt;6-16&lt;/sub&gt;-NH2</th>\n",
       "      <td>1.0</td>\n",
       "      <td>0.0</td>\n",
       "      <td>0.0</td>\n",
       "      <td>0.0</td>\n",
       "      <td>0.0</td>\n",
       "      <td>0.0</td>\n",
       "      <td>0.0</td>\n",
       "      <td>0.0</td>\n",
       "      <td>0.0</td>\n",
       "      <td>0.0</td>\n",
       "      <td>...</td>\n",
       "      <td>0.0</td>\n",
       "      <td>0.0</td>\n",
       "      <td>0.0</td>\n",
       "      <td>0.0</td>\n",
       "      <td>0.0</td>\n",
       "      <td>0.0</td>\n",
       "      <td>0.0</td>\n",
       "      <td>0.0</td>\n",
       "      <td>0.0</td>\n",
       "      <td>0.0</td>\n",
       "    </tr>\n",
       "    <tr>\n",
       "      <th>anlotinib</th>\n",
       "      <td>0.0</td>\n",
       "      <td>1.0</td>\n",
       "      <td>0.0</td>\n",
       "      <td>0.0</td>\n",
       "      <td>0.0</td>\n",
       "      <td>0.0</td>\n",
       "      <td>0.0</td>\n",
       "      <td>0.0</td>\n",
       "      <td>0.0</td>\n",
       "      <td>0.0</td>\n",
       "      <td>...</td>\n",
       "      <td>0.0</td>\n",
       "      <td>0.0</td>\n",
       "      <td>0.0</td>\n",
       "      <td>0.0</td>\n",
       "      <td>0.0</td>\n",
       "      <td>0.0</td>\n",
       "      <td>0.0</td>\n",
       "      <td>0.0</td>\n",
       "      <td>0.0</td>\n",
       "      <td>0.0</td>\n",
       "    </tr>\n",
       "    <tr>\n",
       "      <th>latanoprost (isopropyl ester)</th>\n",
       "      <td>0.0</td>\n",
       "      <td>0.0</td>\n",
       "      <td>1.0</td>\n",
       "      <td>0.0</td>\n",
       "      <td>0.0</td>\n",
       "      <td>0.0</td>\n",
       "      <td>0.0</td>\n",
       "      <td>0.0</td>\n",
       "      <td>0.0</td>\n",
       "      <td>0.0</td>\n",
       "      <td>...</td>\n",
       "      <td>0.0</td>\n",
       "      <td>0.0</td>\n",
       "      <td>0.0</td>\n",
       "      <td>0.0</td>\n",
       "      <td>0.0</td>\n",
       "      <td>0.0</td>\n",
       "      <td>0.0</td>\n",
       "      <td>0.0</td>\n",
       "      <td>0.0</td>\n",
       "      <td>0.0</td>\n",
       "    </tr>\n",
       "    <tr>\n",
       "      <th>I-CBP112</th>\n",
       "      <td>0.0</td>\n",
       "      <td>0.0</td>\n",
       "      <td>0.0</td>\n",
       "      <td>1.0</td>\n",
       "      <td>0.0</td>\n",
       "      <td>0.0</td>\n",
       "      <td>0.0</td>\n",
       "      <td>0.0</td>\n",
       "      <td>0.0</td>\n",
       "      <td>0.0</td>\n",
       "      <td>...</td>\n",
       "      <td>0.0</td>\n",
       "      <td>0.0</td>\n",
       "      <td>0.0</td>\n",
       "      <td>0.0</td>\n",
       "      <td>0.0</td>\n",
       "      <td>0.0</td>\n",
       "      <td>0.0</td>\n",
       "      <td>0.0</td>\n",
       "      <td>0.0</td>\n",
       "      <td>0.0</td>\n",
       "    </tr>\n",
       "    <tr>\n",
       "      <th>DSLET</th>\n",
       "      <td>0.0</td>\n",
       "      <td>0.0</td>\n",
       "      <td>0.0</td>\n",
       "      <td>0.0</td>\n",
       "      <td>1.0</td>\n",
       "      <td>0.0</td>\n",
       "      <td>0.0</td>\n",
       "      <td>0.0</td>\n",
       "      <td>0.0</td>\n",
       "      <td>0.0</td>\n",
       "      <td>...</td>\n",
       "      <td>0.0</td>\n",
       "      <td>0.0</td>\n",
       "      <td>0.0</td>\n",
       "      <td>0.0</td>\n",
       "      <td>0.0</td>\n",
       "      <td>0.0</td>\n",
       "      <td>0.0</td>\n",
       "      <td>0.0</td>\n",
       "      <td>0.0</td>\n",
       "      <td>0.0</td>\n",
       "    </tr>\n",
       "  </tbody>\n",
       "</table>\n",
       "<p>5 rows × 7087 columns</p>\n",
       "</div>"
      ],
      "text/plain": [
       "                                                    [Ava<sup>9,10</sup>,Ava<sup>14,15</sup>]-Ac-hMCH<sub>6-16</sub>-NH2  \\\n",
       "[Ava<sup>9,10</sup>,Ava<sup>14,15</sup>]-Ac-hMC...                                                1.0                     \n",
       "anlotinib                                                                                         0.0                     \n",
       "latanoprost (isopropyl ester)                                                                     0.0                     \n",
       "I-CBP112                                                                                          0.0                     \n",
       "DSLET                                                                                             0.0                     \n",
       "\n",
       "                                                    anlotinib  \\\n",
       "[Ava<sup>9,10</sup>,Ava<sup>14,15</sup>]-Ac-hMC...        0.0   \n",
       "anlotinib                                                 1.0   \n",
       "latanoprost (isopropyl ester)                             0.0   \n",
       "I-CBP112                                                  0.0   \n",
       "DSLET                                                     0.0   \n",
       "\n",
       "                                                    latanoprost (isopropyl ester)  \\\n",
       "[Ava<sup>9,10</sup>,Ava<sup>14,15</sup>]-Ac-hMC...                            0.0   \n",
       "anlotinib                                                                     0.0   \n",
       "latanoprost (isopropyl ester)                                                 1.0   \n",
       "I-CBP112                                                                      0.0   \n",
       "DSLET                                                                         0.0   \n",
       "\n",
       "                                                    I-CBP112  DSLET  \\\n",
       "[Ava<sup>9,10</sup>,Ava<sup>14,15</sup>]-Ac-hMC...       0.0    0.0   \n",
       "anlotinib                                                0.0    0.0   \n",
       "latanoprost (isopropyl ester)                            0.0    0.0   \n",
       "I-CBP112                                                 1.0    0.0   \n",
       "DSLET                                                    0.0    1.0   \n",
       "\n",
       "                                                    surinabant  \\\n",
       "[Ava<sup>9,10</sup>,Ava<sup>14,15</sup>]-Ac-hMC...         0.0   \n",
       "anlotinib                                                  0.0   \n",
       "latanoprost (isopropyl ester)                              0.0   \n",
       "I-CBP112                                                   0.0   \n",
       "DSLET                                                      0.0   \n",
       "\n",
       "                                                    fMet-Leu-Phe-Glu  \\\n",
       "[Ava<sup>9,10</sup>,Ava<sup>14,15</sup>]-Ac-hMC...               0.0   \n",
       "anlotinib                                                        0.0   \n",
       "latanoprost (isopropyl ester)                                    0.0   \n",
       "I-CBP112                                                         0.0   \n",
       "DSLET                                                            0.0   \n",
       "\n",
       "                                                    ASN04421891  \\\n",
       "[Ava<sup>9,10</sup>,Ava<sup>14,15</sup>]-Ac-hMC...          0.0   \n",
       "anlotinib                                                   0.0   \n",
       "latanoprost (isopropyl ester)                               0.0   \n",
       "I-CBP112                                                    0.0   \n",
       "DSLET                                                       0.0   \n",
       "\n",
       "                                                    compound 39a [PMID: 15634016]  \\\n",
       "[Ava<sup>9,10</sup>,Ava<sup>14,15</sup>]-Ac-hMC...                            0.0   \n",
       "anlotinib                                                                     0.0   \n",
       "latanoprost (isopropyl ester)                                                 0.0   \n",
       "I-CBP112                                                                      0.0   \n",
       "DSLET                                                                         0.0   \n",
       "\n",
       "                                                    TMP269  ...    \\\n",
       "[Ava<sup>9,10</sup>,Ava<sup>14,15</sup>]-Ac-hMC...     0.0  ...     \n",
       "anlotinib                                              0.0  ...     \n",
       "latanoprost (isopropyl ester)                          0.0  ...     \n",
       "I-CBP112                                               0.0  ...     \n",
       "DSLET                                                  0.0  ...     \n",
       "\n",
       "                                                    urocortin 3  cenderitide  \\\n",
       "[Ava<sup>9,10</sup>,Ava<sup>14,15</sup>]-Ac-hMC...          0.0          0.0   \n",
       "anlotinib                                                   0.0          0.0   \n",
       "latanoprost (isopropyl ester)                               0.0          0.0   \n",
       "I-CBP112                                                    0.0          0.0   \n",
       "DSLET                                                       0.0          0.0   \n",
       "\n",
       "                                                    PMX53  octanol  \\\n",
       "[Ava<sup>9,10</sup>,Ava<sup>14,15</sup>]-Ac-hMC...    0.0      0.0   \n",
       "anlotinib                                             0.0      0.0   \n",
       "latanoprost (isopropyl ester)                         0.0      0.0   \n",
       "I-CBP112                                              0.0      0.0   \n",
       "DSLET                                                 0.0      0.0   \n",
       "\n",
       "                                                    bazedoxifene  roxindole  \\\n",
       "[Ava<sup>9,10</sup>,Ava<sup>14,15</sup>]-Ac-hMC...           0.0        0.0   \n",
       "anlotinib                                                    0.0        0.0   \n",
       "latanoprost (isopropyl ester)                                0.0        0.0   \n",
       "I-CBP112                                                     0.0        0.0   \n",
       "DSLET                                                        0.0        0.0   \n",
       "\n",
       "                                                    ALRT 1550  ginkgolide X  \\\n",
       "[Ava<sup>9,10</sup>,Ava<sup>14,15</sup>]-Ac-hMC...        0.0           0.0   \n",
       "anlotinib                                                 0.0           0.0   \n",
       "latanoprost (isopropyl ester)                             0.0           0.0   \n",
       "I-CBP112                                                  0.0           0.0   \n",
       "DSLET                                                     0.0           0.0   \n",
       "\n",
       "                                                    D-serine  ACDPP  \n",
       "[Ava<sup>9,10</sup>,Ava<sup>14,15</sup>]-Ac-hMC...       0.0    0.0  \n",
       "anlotinib                                                0.0    0.0  \n",
       "latanoprost (isopropyl ester)                            0.0    0.0  \n",
       "I-CBP112                                                 0.0    0.0  \n",
       "DSLET                                                    0.0    0.0  \n",
       "\n",
       "[5 rows x 7087 columns]"
      ]
     },
     "execution_count": 37,
     "metadata": {},
     "output_type": "execute_result"
    }
   ],
   "source": [
    "attribute_similarity_matix.head()"
   ]
  },
  {
   "cell_type": "markdown",
   "metadata": {},
   "source": [
    "# Save Attribute Similarity Matrix"
   ]
  },
  {
   "cell_type": "code",
   "execution_count": 38,
   "metadata": {
    "collapsed": true
   },
   "outputs": [],
   "source": [
    "filename = '~/./Documents/Harmonizome/Guide to Pharmacology/Output/gp_chem_attribute_similarity_matix_%s.tsv.zip'% str(datetime.date.today())[0:7].replace('-', '_')\n",
    "attribute_similarity_matix.to_csv(filename, sep='\\t', compression='gzip')"
   ]
  },
  {
   "cell_type": "markdown",
   "metadata": {},
   "source": [
    "# Create Gene List"
   ]
  },
  {
   "cell_type": "code",
   "execution_count": 39,
   "metadata": {},
   "outputs": [
    {
     "name": "stdout",
     "output_type": "stream",
     "text": [
      "Progeres: 100%  1577 Out of 1577   \r"
     ]
    }
   ],
   "source": [
    "gene_list = uf.createGeneList(binary_matrix)"
   ]
  },
  {
   "cell_type": "code",
   "execution_count": 40,
   "metadata": {},
   "outputs": [
    {
     "data": {
      "text/html": [
       "<div>\n",
       "<table border=\"1\" class=\"dataframe\">\n",
       "  <thead>\n",
       "    <tr style=\"text-align: right;\">\n",
       "      <th></th>\n",
       "      <th>GeneSym</th>\n",
       "      <th>GeneID</th>\n",
       "    </tr>\n",
       "  </thead>\n",
       "  <tbody>\n",
       "    <tr>\n",
       "      <th>0</th>\n",
       "      <td>GJB2</td>\n",
       "      <td>2706</td>\n",
       "    </tr>\n",
       "    <tr>\n",
       "      <th>1</th>\n",
       "      <td>KCNH6</td>\n",
       "      <td>81033</td>\n",
       "    </tr>\n",
       "    <tr>\n",
       "      <th>2</th>\n",
       "      <td>TEK</td>\n",
       "      <td>7010</td>\n",
       "    </tr>\n",
       "    <tr>\n",
       "      <th>3</th>\n",
       "      <td>SLC40A1</td>\n",
       "      <td>30061</td>\n",
       "    </tr>\n",
       "    <tr>\n",
       "      <th>4</th>\n",
       "      <td>RORA</td>\n",
       "      <td>6095</td>\n",
       "    </tr>\n",
       "  </tbody>\n",
       "</table>\n",
       "</div>"
      ],
      "text/plain": [
       "   GeneSym GeneID\n",
       "0     GJB2   2706\n",
       "1    KCNH6  81033\n",
       "2      TEK   7010\n",
       "3  SLC40A1  30061\n",
       "4     RORA   6095"
      ]
     },
     "execution_count": 40,
     "metadata": {},
     "output_type": "execute_result"
    }
   ],
   "source": [
    "gene_list.head()"
   ]
  },
  {
   "cell_type": "code",
   "execution_count": 41,
   "metadata": {},
   "outputs": [
    {
     "data": {
      "text/plain": [
       "(1577, 2)"
      ]
     },
     "execution_count": 41,
     "metadata": {},
     "output_type": "execute_result"
    }
   ],
   "source": [
    "gene_list.shape"
   ]
  },
  {
   "cell_type": "markdown",
   "metadata": {},
   "source": [
    "# Save Gene List"
   ]
  },
  {
   "cell_type": "code",
   "execution_count": 42,
   "metadata": {
    "collapsed": true
   },
   "outputs": [],
   "source": [
    "filename = '~/./Documents/Harmonizome/Guide to Pharmacology/Output/gp_chem_gene_list_%s.tsv.zip'% str(datetime.date.today())[0:7].replace('-', '_')\n",
    "gene_list.to_csv(filename, sep='\\t', index=False, compression='gzip')"
   ]
  },
  {
   "cell_type": "markdown",
   "metadata": {},
   "source": [
    "# Create Attribute List"
   ]
  },
  {
   "cell_type": "code",
   "execution_count": 43,
   "metadata": {
    "collapsed": true
   },
   "outputs": [],
   "source": [
    "attribute_list = uf.createAttributeList(binary_matrix)"
   ]
  },
  {
   "cell_type": "code",
   "execution_count": 44,
   "metadata": {},
   "outputs": [
    {
     "data": {
      "text/html": [
       "<div>\n",
       "<table border=\"1\" class=\"dataframe\">\n",
       "  <thead>\n",
       "    <tr style=\"text-align: right;\">\n",
       "      <th></th>\n",
       "      <th>Attributes</th>\n",
       "    </tr>\n",
       "  </thead>\n",
       "  <tbody>\n",
       "    <tr>\n",
       "      <th>0</th>\n",
       "      <td>[Ava&lt;sup&gt;9,10&lt;/sup&gt;,Ava&lt;sup&gt;14,15&lt;/sup&gt;]-Ac-hM...</td>\n",
       "    </tr>\n",
       "    <tr>\n",
       "      <th>1</th>\n",
       "      <td>anlotinib</td>\n",
       "    </tr>\n",
       "    <tr>\n",
       "      <th>2</th>\n",
       "      <td>latanoprost (isopropyl ester)</td>\n",
       "    </tr>\n",
       "    <tr>\n",
       "      <th>3</th>\n",
       "      <td>I-CBP112</td>\n",
       "    </tr>\n",
       "    <tr>\n",
       "      <th>4</th>\n",
       "      <td>DSLET</td>\n",
       "    </tr>\n",
       "  </tbody>\n",
       "</table>\n",
       "</div>"
      ],
      "text/plain": [
       "                                          Attributes\n",
       "0  [Ava<sup>9,10</sup>,Ava<sup>14,15</sup>]-Ac-hM...\n",
       "1                                          anlotinib\n",
       "2                      latanoprost (isopropyl ester)\n",
       "3                                           I-CBP112\n",
       "4                                              DSLET"
      ]
     },
     "execution_count": 44,
     "metadata": {},
     "output_type": "execute_result"
    }
   ],
   "source": [
    "attribute_list.head()"
   ]
  },
  {
   "cell_type": "code",
   "execution_count": 45,
   "metadata": {},
   "outputs": [
    {
     "data": {
      "text/plain": [
       "(7087, 1)"
      ]
     },
     "execution_count": 45,
     "metadata": {},
     "output_type": "execute_result"
    }
   ],
   "source": [
    "attribute_list.shape"
   ]
  },
  {
   "cell_type": "markdown",
   "metadata": {},
   "source": [
    "# Save Attribute List"
   ]
  },
  {
   "cell_type": "code",
   "execution_count": 46,
   "metadata": {
    "collapsed": true
   },
   "outputs": [],
   "source": [
    "filename = '~/./Documents/Harmonizome/Guide to Pharmacology/Output/gp_chem_attribute_list_%s.tsv.zip'% str(datetime.date.today())[0:7].replace('-', '_')\n",
    "attribute_list.to_csv(filename, sep='\\t', index=False, compression='gzip')"
   ]
  },
  {
   "cell_type": "markdown",
   "metadata": {},
   "source": [
    "# Create Gene-Attribute Edge List"
   ]
  },
  {
   "cell_type": "code",
   "execution_count": 47,
   "metadata": {
    "collapsed": true
   },
   "outputs": [],
   "source": [
    "path = '/Users/moshesilverstein/Documents/Harmonizome/Guide to Pharmacology/Output/'"
   ]
  },
  {
   "cell_type": "code",
   "execution_count": 48,
   "metadata": {
    "collapsed": true
   },
   "outputs": [],
   "source": [
    "name = 'gp_chem_gene_attribute_edge_list'"
   ]
  },
  {
   "cell_type": "code",
   "execution_count": 49,
   "metadata": {},
   "outputs": [
    {
     "name": "stdout",
     "output_type": "stream",
     "text": [
      "Progeres: 100%  7087 Out of 7087   \n",
      "\n",
      " The number of statisticaly relevent gene-attribute associations is: 13759\n"
     ]
    }
   ],
   "source": [
    "uf.createGeneAttributeEdgeList(binary_matrix, gene_list, path, name)"
   ]
  }
 ],
 "metadata": {
  "kernelspec": {
   "display_name": "Python [default]",
   "language": "python",
   "name": "python3"
  },
  "language_info": {
   "codemirror_mode": {
    "name": "ipython",
    "version": 3
   },
   "file_extension": ".py",
   "mimetype": "text/x-python",
   "name": "python",
   "nbconvert_exporter": "python",
   "pygments_lexer": "ipython3",
   "version": "3.5.2"
  }
 },
 "nbformat": 4,
 "nbformat_minor": 2
}
