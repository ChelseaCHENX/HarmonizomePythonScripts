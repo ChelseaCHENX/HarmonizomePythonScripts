{
 "cells": [
  {
   "cell_type": "markdown",
   "metadata": {},
   "source": [
    "# DSigDB Computational Drug Signatures"
   ]
  },
  {
   "cell_type": "markdown",
   "metadata": {},
   "source": [
    "Author: Moshe Silverstein   \n",
    "Date: 05-07-2018  \n",
    "Data Source Home: http://tanlab.ucdenver.edu/DSigDB/DSigDBv1.0/  \n",
    "Data Source Download: http://tanlab.ucdenver.edu/DSigDB/DSigDBv1.0/download.html  "
   ]
  },
  {
   "cell_type": "code",
   "execution_count": 1,
   "metadata": {},
   "outputs": [],
   "source": [
    "import sys, datetime, os\n",
    "import numpy as np\n",
    "import pandas as pd\n",
    "import importlib\n",
    "import utility_functions as uf\n",
    "import matplotlib.pyplot as plt\n",
    "%matplotlib inline\n",
    "from collections import Counter"
   ]
  },
  {
   "cell_type": "code",
   "execution_count": 2,
   "metadata": {},
   "outputs": [],
   "source": [
    "import seaborn as sns\n",
    "sns.set(color_codes=True)\n",
    "np.random.seed(sum(map(ord, \"distributions\")))"
   ]
  },
  {
   "cell_type": "code",
   "execution_count": 3,
   "metadata": {},
   "outputs": [],
   "source": [
    "from clustergrammer_widget import *\n",
    "net = Network(clustergrammer_widget)"
   ]
  },
  {
   "cell_type": "code",
   "execution_count": 4,
   "metadata": {},
   "outputs": [
    {
     "data": {
      "text/plain": [
       "<module 'utility_functions' from '/Users/moshesilverstein/Documents/Harmonizome/DSigDB/utility_functions.py'>"
      ]
     },
     "execution_count": 4,
     "metadata": {},
     "output_type": "execute_result"
    }
   ],
   "source": [
    "importlib.reload(uf)"
   ]
  },
  {
   "cell_type": "markdown",
   "metadata": {},
   "source": [
    "# Path to Output Files"
   ]
  },
  {
   "cell_type": "code",
   "execution_count": 5,
   "metadata": {},
   "outputs": [],
   "source": [
    "path = '/Users/moshesilverstein/Documents/Harmonizome/DSigDB/Output/'"
   ]
  },
  {
   "cell_type": "markdown",
   "metadata": {},
   "source": [
    "# Load Data"
   ]
  },
  {
   "cell_type": "code",
   "execution_count": 6,
   "metadata": {},
   "outputs": [],
   "source": [
    "data = pd.read_csv('Input/DSigDB_All_detailed.txt', sep='\\t')"
   ]
  },
  {
   "cell_type": "code",
   "execution_count": 7,
   "metadata": {},
   "outputs": [
    {
     "data": {
      "text/html": [
       "<div>\n",
       "<style scoped>\n",
       "    .dataframe tbody tr th:only-of-type {\n",
       "        vertical-align: middle;\n",
       "    }\n",
       "\n",
       "    .dataframe tbody tr th {\n",
       "        vertical-align: top;\n",
       "    }\n",
       "\n",
       "    .dataframe thead th {\n",
       "        text-align: right;\n",
       "    }\n",
       "</style>\n",
       "<table border=\"1\" class=\"dataframe\">\n",
       "  <thead>\n",
       "    <tr style=\"text-align: right;\">\n",
       "      <th></th>\n",
       "      <th>Drug</th>\n",
       "      <th>Gene</th>\n",
       "      <th>Type</th>\n",
       "      <th>Source</th>\n",
       "    </tr>\n",
       "  </thead>\n",
       "  <tbody>\n",
       "    <tr>\n",
       "      <th>0</th>\n",
       "      <td>citric acid</td>\n",
       "      <td>ABHD5</td>\n",
       "      <td>IC50=3.545(uM)</td>\n",
       "      <td>D1 PubChem</td>\n",
       "    </tr>\n",
       "    <tr>\n",
       "      <th>1</th>\n",
       "      <td>citric acid</td>\n",
       "      <td>PLIN5</td>\n",
       "      <td>IC50=3.545(uM)</td>\n",
       "      <td>D1 PubChem</td>\n",
       "    </tr>\n",
       "    <tr>\n",
       "      <th>2</th>\n",
       "      <td>citric acid</td>\n",
       "      <td>PLIN1</td>\n",
       "      <td>IC50=3.708(uM)</td>\n",
       "      <td>D1 PubChem</td>\n",
       "    </tr>\n",
       "    <tr>\n",
       "      <th>3</th>\n",
       "      <td>citric acid</td>\n",
       "      <td>ABHD5</td>\n",
       "      <td>IC50=5.632(uM)</td>\n",
       "      <td>D1 PubChem</td>\n",
       "    </tr>\n",
       "    <tr>\n",
       "      <th>4</th>\n",
       "      <td>citric acid</td>\n",
       "      <td>PLIN5</td>\n",
       "      <td>IC50=5.632(uM)</td>\n",
       "      <td>D1 PubChem</td>\n",
       "    </tr>\n",
       "  </tbody>\n",
       "</table>\n",
       "</div>"
      ],
      "text/plain": [
       "          Drug   Gene            Type      Source\n",
       "0  citric acid  ABHD5  IC50=3.545(uM)  D1 PubChem\n",
       "1  citric acid  PLIN5  IC50=3.545(uM)  D1 PubChem\n",
       "2  citric acid  PLIN1  IC50=3.708(uM)  D1 PubChem\n",
       "3  citric acid  ABHD5  IC50=5.632(uM)  D1 PubChem\n",
       "4  citric acid  PLIN5  IC50=5.632(uM)  D1 PubChem"
      ]
     },
     "execution_count": 7,
     "metadata": {},
     "output_type": "execute_result"
    }
   ],
   "source": [
    "data.head()"
   ]
  },
  {
   "cell_type": "code",
   "execution_count": 8,
   "metadata": {},
   "outputs": [
    {
     "data": {
      "text/plain": [
       "(688782, 4)"
      ]
     },
     "execution_count": 8,
     "metadata": {},
     "output_type": "execute_result"
    }
   ],
   "source": [
    "data.shape"
   ]
  },
  {
   "cell_type": "markdown",
   "metadata": {},
   "source": [
    "# Get Perturbagen Signatures"
   ]
  },
  {
   "cell_type": "code",
   "execution_count": 9,
   "metadata": {},
   "outputs": [],
   "source": [
    "lst = []\n",
    "\n",
    "for index in data.index:\n",
    "    if type(data.loc[index, 'Source']) == str:\n",
    "        if 'BOSS' in data.loc[index, 'Source'] or 'CTD' in data.loc[index, 'Source'] or 'TTD' in data.loc[index, 'Source'] or 'D4 PubChem' in data.loc[index, 'Source'] or 'D4 ChEMBL' in data.loc[index, 'Source']:\n",
    "            lst.append(index) \n",
    "            \n",
    "data = data.loc[lst, :]"
   ]
  },
  {
   "cell_type": "code",
   "execution_count": 10,
   "metadata": {},
   "outputs": [
    {
     "data": {
      "text/html": [
       "<div>\n",
       "<style scoped>\n",
       "    .dataframe tbody tr th:only-of-type {\n",
       "        vertical-align: middle;\n",
       "    }\n",
       "\n",
       "    .dataframe tbody tr th {\n",
       "        vertical-align: top;\n",
       "    }\n",
       "\n",
       "    .dataframe thead th {\n",
       "        text-align: right;\n",
       "    }\n",
       "</style>\n",
       "<table border=\"1\" class=\"dataframe\">\n",
       "  <thead>\n",
       "    <tr style=\"text-align: right;\">\n",
       "      <th></th>\n",
       "      <th>Drug</th>\n",
       "      <th>Gene</th>\n",
       "      <th>Type</th>\n",
       "      <th>Source</th>\n",
       "    </tr>\n",
       "  </thead>\n",
       "  <tbody>\n",
       "    <tr>\n",
       "      <th>236173</th>\n",
       "      <td>Gatifloxacin</td>\n",
       "      <td>SLC9A6</td>\n",
       "      <td>Text_Mining(PMID21764484,PMID21481984,PMID2380...</td>\n",
       "      <td>BOSS</td>\n",
       "    </tr>\n",
       "    <tr>\n",
       "      <th>236174</th>\n",
       "      <td>Gatifloxacin</td>\n",
       "      <td>KSR1</td>\n",
       "      <td>Text_Mining(PMID21722249,PMID20499531,PMID2197...</td>\n",
       "      <td>BOSS</td>\n",
       "    </tr>\n",
       "    <tr>\n",
       "      <th>236175</th>\n",
       "      <td>Gatifloxacin</td>\n",
       "      <td>INS</td>\n",
       "      <td>Text_Mining(PMID20068268,PMID20674567,PMID2320...</td>\n",
       "      <td>BOSS</td>\n",
       "    </tr>\n",
       "    <tr>\n",
       "      <th>236176</th>\n",
       "      <td>Gatifloxacin</td>\n",
       "      <td>ESR1</td>\n",
       "      <td>Potency-Replicate_1=26.6032(uM)</td>\n",
       "      <td>D4 PubChem</td>\n",
       "    </tr>\n",
       "    <tr>\n",
       "      <th>236177</th>\n",
       "      <td>Gatifloxacin</td>\n",
       "      <td>HSD17B10</td>\n",
       "      <td>Potency=31622.8(nM)</td>\n",
       "      <td>D4 ChEMBL</td>\n",
       "    </tr>\n",
       "  </tbody>\n",
       "</table>\n",
       "</div>"
      ],
      "text/plain": [
       "                Drug      Gene  \\\n",
       "236173  Gatifloxacin    SLC9A6   \n",
       "236174  Gatifloxacin      KSR1   \n",
       "236175  Gatifloxacin       INS   \n",
       "236176  Gatifloxacin      ESR1   \n",
       "236177  Gatifloxacin  HSD17B10   \n",
       "\n",
       "                                                     Type      Source  \n",
       "236173  Text_Mining(PMID21764484,PMID21481984,PMID2380...        BOSS  \n",
       "236174  Text_Mining(PMID21722249,PMID20499531,PMID2197...        BOSS  \n",
       "236175  Text_Mining(PMID20068268,PMID20674567,PMID2320...        BOSS  \n",
       "236176                    Potency-Replicate_1=26.6032(uM)  D4 PubChem  \n",
       "236177                                Potency=31622.8(nM)   D4 ChEMBL  "
      ]
     },
     "execution_count": 10,
     "metadata": {},
     "output_type": "execute_result"
    }
   ],
   "source": [
    "data.head()"
   ]
  },
  {
   "cell_type": "code",
   "execution_count": 11,
   "metadata": {},
   "outputs": [
    {
     "data": {
      "text/plain": [
       "(452605, 4)"
      ]
     },
     "execution_count": 11,
     "metadata": {},
     "output_type": "execute_result"
    }
   ],
   "source": [
    "data.shape"
   ]
  },
  {
   "cell_type": "markdown",
   "metadata": {},
   "source": [
    "# Map Gene Symbols To Up-to-date Approved Gene Symbols"
   ]
  },
  {
   "cell_type": "code",
   "execution_count": 12,
   "metadata": {},
   "outputs": [],
   "source": [
    "data.set_index('Gene', inplace=True)"
   ]
  },
  {
   "cell_type": "code",
   "execution_count": 13,
   "metadata": {},
   "outputs": [
    {
     "name": "stdout",
     "output_type": "stream",
     "text": [
      "Progeres: 99%  452554 Out of 452605   \r"
     ]
    }
   ],
   "source": [
    "uf.mapgenesymbols(data)"
   ]
  },
  {
   "cell_type": "code",
   "execution_count": 14,
   "metadata": {},
   "outputs": [
    {
     "data": {
      "text/plain": [
       "(449549, 3)"
      ]
     },
     "execution_count": 14,
     "metadata": {},
     "output_type": "execute_result"
    }
   ],
   "source": [
    "data.shape"
   ]
  },
  {
   "cell_type": "markdown",
   "metadata": {},
   "source": [
    "# Drop Duplicates"
   ]
  },
  {
   "cell_type": "code",
   "execution_count": 15,
   "metadata": {},
   "outputs": [],
   "source": [
    "data.reset_index(inplace=True)"
   ]
  },
  {
   "cell_type": "code",
   "execution_count": 16,
   "metadata": {},
   "outputs": [],
   "source": [
    "data.drop_duplicates(subset=['Gene', 'Drug'], inplace=True)"
   ]
  },
  {
   "cell_type": "code",
   "execution_count": 17,
   "metadata": {},
   "outputs": [
    {
     "data": {
      "text/plain": [
       "(293199, 4)"
      ]
     },
     "execution_count": 17,
     "metadata": {},
     "output_type": "execute_result"
    }
   ],
   "source": [
    "data.shape"
   ]
  },
  {
   "cell_type": "markdown",
   "metadata": {},
   "source": [
    "# Create Binary Matrix"
   ]
  },
  {
   "cell_type": "code",
   "execution_count": 18,
   "metadata": {},
   "outputs": [
    {
     "name": "stdout",
     "output_type": "stream",
     "text": [
      "Progeres: 100%  18215 Out of 18215   \r"
     ]
    }
   ],
   "source": [
    "binary_matrix = uf.createBinaryMatrix(data[['Gene', 'Drug']])"
   ]
  },
  {
   "cell_type": "code",
   "execution_count": 19,
   "metadata": {},
   "outputs": [],
   "source": [
    "lst = [x.upper() for x in binary_matrix.columns]\n",
    "\n",
    "binary_matrix.columns = lst"
   ]
  },
  {
   "cell_type": "code",
   "execution_count": 20,
   "metadata": {},
   "outputs": [],
   "source": [
    "binary_matrix = binary_matrix.T.groupby(level=0).max().T"
   ]
  },
  {
   "cell_type": "code",
   "execution_count": 21,
   "metadata": {},
   "outputs": [
    {
     "data": {
      "text/html": [
       "<div>\n",
       "<style scoped>\n",
       "    .dataframe tbody tr th:only-of-type {\n",
       "        vertical-align: middle;\n",
       "    }\n",
       "\n",
       "    .dataframe tbody tr th {\n",
       "        vertical-align: top;\n",
       "    }\n",
       "\n",
       "    .dataframe thead th {\n",
       "        text-align: right;\n",
       "    }\n",
       "</style>\n",
       "<table border=\"1\" class=\"dataframe\">\n",
       "  <thead>\n",
       "    <tr style=\"text-align: right;\">\n",
       "      <th></th>\n",
       "      <th>( -)-CANDOXATRILAT</th>\n",
       "      <th>(+)-(5ALPHA,7ALPHA,8BETA)-N-METHYL-N-[7-(1-PYRROLIDINYL)-1-OXASPIRO[4.5]DEC-8-YL]-BENZENEACETAMIDE</th>\n",
       "      <th>(+)-5-DEOXYADEENOPHORINE</th>\n",
       "      <th>(+)-BUTACLAMOL</th>\n",
       "      <th>(+)-EHNA</th>\n",
       "      <th>(+)-MK 801 MALEATE</th>\n",
       "      <th>(+)-MK-801 HYDROGEN MALEATE</th>\n",
       "      <th>(+)-NIGULDIPINE</th>\n",
       "      <th>(+)-QUISQUALIC ACID</th>\n",
       "      <th>(+/-)-CGP-12177A</th>\n",
       "      <th>...</th>\n",
       "      <th>[7-METHOXY-8-[2-METHYL-3-(3-METHYLBUT-2-ENYL)OXIRAN-2-YL]-2-OXASPIRO[2.5]OCTAN-6-YL] N-(2-CHLOROACETYL)CARBAMATE</th>\n",
       "      <th>[HYDROXY(3-PHENYLPROPYL)AMINO]METHANOL</th>\n",
       "      <th>[LYS8(ALEXA 488) ]PVA</th>\n",
       "      <th>[LYS8(ALEXA 546) ]PVA</th>\n",
       "      <th>[N40,PRO1,TYR4,NLE 14]BB</th>\n",
       "      <th>[N40,PRO1,TYR4]BB</th>\n",
       "      <th>[R]-MESOPRAM</th>\n",
       "      <th>[TYR4]BOMBESIN</th>\n",
       "      <th>[[4-(AMINOMETHYL)PHENYL]AMINO]OXO-ACETIC ACID,</th>\n",
       "      <th>{5-FLUORO-2-METHYL-1-[4-(METHYLSULFINYL)BENZYLIDENE]-1H-INDEN-3-YL}ACETIC ACID</th>\n",
       "    </tr>\n",
       "  </thead>\n",
       "  <tbody>\n",
       "    <tr>\n",
       "      <th>BAIAP2</th>\n",
       "      <td>0</td>\n",
       "      <td>0</td>\n",
       "      <td>0</td>\n",
       "      <td>0</td>\n",
       "      <td>0</td>\n",
       "      <td>0</td>\n",
       "      <td>0</td>\n",
       "      <td>0</td>\n",
       "      <td>0</td>\n",
       "      <td>0</td>\n",
       "      <td>...</td>\n",
       "      <td>0</td>\n",
       "      <td>0</td>\n",
       "      <td>0</td>\n",
       "      <td>0</td>\n",
       "      <td>0</td>\n",
       "      <td>0</td>\n",
       "      <td>0</td>\n",
       "      <td>0</td>\n",
       "      <td>0</td>\n",
       "      <td>0</td>\n",
       "    </tr>\n",
       "    <tr>\n",
       "      <th>OR51A7</th>\n",
       "      <td>0</td>\n",
       "      <td>0</td>\n",
       "      <td>0</td>\n",
       "      <td>0</td>\n",
       "      <td>0</td>\n",
       "      <td>0</td>\n",
       "      <td>0</td>\n",
       "      <td>0</td>\n",
       "      <td>0</td>\n",
       "      <td>0</td>\n",
       "      <td>...</td>\n",
       "      <td>0</td>\n",
       "      <td>0</td>\n",
       "      <td>0</td>\n",
       "      <td>0</td>\n",
       "      <td>0</td>\n",
       "      <td>0</td>\n",
       "      <td>0</td>\n",
       "      <td>0</td>\n",
       "      <td>0</td>\n",
       "      <td>0</td>\n",
       "    </tr>\n",
       "    <tr>\n",
       "      <th>DES</th>\n",
       "      <td>0</td>\n",
       "      <td>0</td>\n",
       "      <td>0</td>\n",
       "      <td>0</td>\n",
       "      <td>0</td>\n",
       "      <td>0</td>\n",
       "      <td>0</td>\n",
       "      <td>0</td>\n",
       "      <td>0</td>\n",
       "      <td>0</td>\n",
       "      <td>...</td>\n",
       "      <td>0</td>\n",
       "      <td>0</td>\n",
       "      <td>0</td>\n",
       "      <td>0</td>\n",
       "      <td>0</td>\n",
       "      <td>0</td>\n",
       "      <td>0</td>\n",
       "      <td>0</td>\n",
       "      <td>0</td>\n",
       "      <td>0</td>\n",
       "    </tr>\n",
       "    <tr>\n",
       "      <th>MIR124-2HG</th>\n",
       "      <td>0</td>\n",
       "      <td>0</td>\n",
       "      <td>0</td>\n",
       "      <td>0</td>\n",
       "      <td>0</td>\n",
       "      <td>0</td>\n",
       "      <td>0</td>\n",
       "      <td>0</td>\n",
       "      <td>0</td>\n",
       "      <td>0</td>\n",
       "      <td>...</td>\n",
       "      <td>0</td>\n",
       "      <td>0</td>\n",
       "      <td>0</td>\n",
       "      <td>0</td>\n",
       "      <td>0</td>\n",
       "      <td>0</td>\n",
       "      <td>0</td>\n",
       "      <td>0</td>\n",
       "      <td>0</td>\n",
       "      <td>0</td>\n",
       "    </tr>\n",
       "    <tr>\n",
       "      <th>OPN4</th>\n",
       "      <td>0</td>\n",
       "      <td>0</td>\n",
       "      <td>0</td>\n",
       "      <td>0</td>\n",
       "      <td>0</td>\n",
       "      <td>0</td>\n",
       "      <td>0</td>\n",
       "      <td>0</td>\n",
       "      <td>0</td>\n",
       "      <td>0</td>\n",
       "      <td>...</td>\n",
       "      <td>0</td>\n",
       "      <td>0</td>\n",
       "      <td>0</td>\n",
       "      <td>0</td>\n",
       "      <td>0</td>\n",
       "      <td>0</td>\n",
       "      <td>0</td>\n",
       "      <td>0</td>\n",
       "      <td>0</td>\n",
       "      <td>0</td>\n",
       "    </tr>\n",
       "  </tbody>\n",
       "</table>\n",
       "<p>5 rows × 15819 columns</p>\n",
       "</div>"
      ],
      "text/plain": [
       "            ( -)-CANDOXATRILAT  \\\n",
       "BAIAP2                       0   \n",
       "OR51A7                       0   \n",
       "DES                          0   \n",
       "MIR124-2HG                   0   \n",
       "OPN4                         0   \n",
       "\n",
       "            (+)-(5ALPHA,7ALPHA,8BETA)-N-METHYL-N-[7-(1-PYRROLIDINYL)-1-OXASPIRO[4.5]DEC-8-YL]-BENZENEACETAMIDE  \\\n",
       "BAIAP2                                                      0                                                    \n",
       "OR51A7                                                      0                                                    \n",
       "DES                                                         0                                                    \n",
       "MIR124-2HG                                                  0                                                    \n",
       "OPN4                                                        0                                                    \n",
       "\n",
       "            (+)-5-DEOXYADEENOPHORINE  (+)-BUTACLAMOL  (+)-EHNA  \\\n",
       "BAIAP2                             0               0         0   \n",
       "OR51A7                             0               0         0   \n",
       "DES                                0               0         0   \n",
       "MIR124-2HG                         0               0         0   \n",
       "OPN4                               0               0         0   \n",
       "\n",
       "            (+)-MK 801 MALEATE  (+)-MK-801 HYDROGEN MALEATE  (+)-NIGULDIPINE  \\\n",
       "BAIAP2                       0                            0                0   \n",
       "OR51A7                       0                            0                0   \n",
       "DES                          0                            0                0   \n",
       "MIR124-2HG                   0                            0                0   \n",
       "OPN4                         0                            0                0   \n",
       "\n",
       "            (+)-QUISQUALIC ACID  (+/-)-CGP-12177A  \\\n",
       "BAIAP2                        0                 0   \n",
       "OR51A7                        0                 0   \n",
       "DES                           0                 0   \n",
       "MIR124-2HG                    0                 0   \n",
       "OPN4                          0                 0   \n",
       "\n",
       "                                                 ...                                        \\\n",
       "BAIAP2                                           ...                                         \n",
       "OR51A7                                           ...                                         \n",
       "DES                                              ...                                         \n",
       "MIR124-2HG                                       ...                                         \n",
       "OPN4                                             ...                                         \n",
       "\n",
       "            [7-METHOXY-8-[2-METHYL-3-(3-METHYLBUT-2-ENYL)OXIRAN-2-YL]-2-OXASPIRO[2.5]OCTAN-6-YL] N-(2-CHLOROACETYL)CARBAMATE  \\\n",
       "BAIAP2                                                      0                                                                  \n",
       "OR51A7                                                      0                                                                  \n",
       "DES                                                         0                                                                  \n",
       "MIR124-2HG                                                  0                                                                  \n",
       "OPN4                                                        0                                                                  \n",
       "\n",
       "            [HYDROXY(3-PHENYLPROPYL)AMINO]METHANOL  [LYS8(ALEXA 488) ]PVA  \\\n",
       "BAIAP2                                           0                      0   \n",
       "OR51A7                                           0                      0   \n",
       "DES                                              0                      0   \n",
       "MIR124-2HG                                       0                      0   \n",
       "OPN4                                             0                      0   \n",
       "\n",
       "            [LYS8(ALEXA 546) ]PVA  [N40,PRO1,TYR4,NLE 14]BB  \\\n",
       "BAIAP2                          0                         0   \n",
       "OR51A7                          0                         0   \n",
       "DES                             0                         0   \n",
       "MIR124-2HG                      0                         0   \n",
       "OPN4                            0                         0   \n",
       "\n",
       "            [N40,PRO1,TYR4]BB  [R]-MESOPRAM  [TYR4]BOMBESIN  \\\n",
       "BAIAP2                      0             0               0   \n",
       "OR51A7                      0             0               0   \n",
       "DES                         0             0               0   \n",
       "MIR124-2HG                  0             0               0   \n",
       "OPN4                        0             0               0   \n",
       "\n",
       "            [[4-(AMINOMETHYL)PHENYL]AMINO]OXO-ACETIC ACID,  \\\n",
       "BAIAP2                                                   0   \n",
       "OR51A7                                                   0   \n",
       "DES                                                      0   \n",
       "MIR124-2HG                                               0   \n",
       "OPN4                                                     0   \n",
       "\n",
       "            {5-FLUORO-2-METHYL-1-[4-(METHYLSULFINYL)BENZYLIDENE]-1H-INDEN-3-YL}ACETIC ACID  \n",
       "BAIAP2                                                      0                               \n",
       "OR51A7                                                      0                               \n",
       "DES                                                         0                               \n",
       "MIR124-2HG                                                  0                               \n",
       "OPN4                                                        0                               \n",
       "\n",
       "[5 rows x 15819 columns]"
      ]
     },
     "execution_count": 21,
     "metadata": {},
     "output_type": "execute_result"
    }
   ],
   "source": [
    "binary_matrix.head()"
   ]
  },
  {
   "cell_type": "code",
   "execution_count": 22,
   "metadata": {},
   "outputs": [
    {
     "data": {
      "text/plain": [
       "(18215, 15819)"
      ]
     },
     "execution_count": 22,
     "metadata": {},
     "output_type": "execute_result"
    }
   ],
   "source": [
    "binary_matrix.shape"
   ]
  },
  {
   "cell_type": "markdown",
   "metadata": {},
   "source": [
    "# Save Binary Matrix"
   ]
  },
  {
   "cell_type": "code",
   "execution_count": 23,
   "metadata": {},
   "outputs": [],
   "source": [
    "filename = path+'dsigdb_computational_drug_signatures_binary_matrix_%s.tsv.zip'% str(datetime.date.today())[0:7].replace('-', '_')\n",
    "binary_matrix.to_csv(filename, sep='\\t', compression='gzip')"
   ]
  },
  {
   "cell_type": "markdown",
   "metadata": {},
   "source": [
    "# Create Gene Set Library"
   ]
  },
  {
   "cell_type": "code",
   "execution_count": 24,
   "metadata": {},
   "outputs": [],
   "source": [
    "name = 'dsigdb_computational_drug_signatures_gene_set'"
   ]
  },
  {
   "cell_type": "code",
   "execution_count": 25,
   "metadata": {},
   "outputs": [
    {
     "name": "stdout",
     "output_type": "stream",
     "text": [
      "Progeres: 100%  15819 Out of 15819   \r"
     ]
    }
   ],
   "source": [
    "uf.createUpGeneSetLib(binary_matrix, path, name)"
   ]
  },
  {
   "cell_type": "markdown",
   "metadata": {},
   "source": [
    "# Create Attribute Library"
   ]
  },
  {
   "cell_type": "code",
   "execution_count": 26,
   "metadata": {},
   "outputs": [],
   "source": [
    "name = 'dsigdb_computational_drug_signatures_attribute_set'"
   ]
  },
  {
   "cell_type": "code",
   "execution_count": 27,
   "metadata": {},
   "outputs": [
    {
     "name": "stdout",
     "output_type": "stream",
     "text": [
      "Progeres: 100%  18215 Out of 18215   \r"
     ]
    }
   ],
   "source": [
    "uf.createUpAttributeSetLib(binary_matrix, path, name)"
   ]
  },
  {
   "cell_type": "markdown",
   "metadata": {},
   "source": [
    "# Create Gene Similarity Matrix"
   ]
  },
  {
   "cell_type": "code",
   "execution_count": 28,
   "metadata": {},
   "outputs": [],
   "source": [
    "gene_similarity_matix = uf.createSimilarityMatrix(binary_matrix, 'jaccard')"
   ]
  },
  {
   "cell_type": "code",
   "execution_count": 29,
   "metadata": {},
   "outputs": [
    {
     "data": {
      "text/html": [
       "<div>\n",
       "<style scoped>\n",
       "    .dataframe tbody tr th:only-of-type {\n",
       "        vertical-align: middle;\n",
       "    }\n",
       "\n",
       "    .dataframe tbody tr th {\n",
       "        vertical-align: top;\n",
       "    }\n",
       "\n",
       "    .dataframe thead th {\n",
       "        text-align: right;\n",
       "    }\n",
       "</style>\n",
       "<table border=\"1\" class=\"dataframe\">\n",
       "  <thead>\n",
       "    <tr style=\"text-align: right;\">\n",
       "      <th></th>\n",
       "      <th>BAIAP2</th>\n",
       "      <th>OR51A7</th>\n",
       "      <th>DES</th>\n",
       "      <th>MIR124-2HG</th>\n",
       "      <th>OPN4</th>\n",
       "      <th>MCOLN2</th>\n",
       "      <th>UBE3C</th>\n",
       "      <th>TRIQK</th>\n",
       "      <th>CLC</th>\n",
       "      <th>MTFR2</th>\n",
       "      <th>...</th>\n",
       "      <th>CATSPERD</th>\n",
       "      <th>POM121L9P</th>\n",
       "      <th>C1D</th>\n",
       "      <th>GPR182</th>\n",
       "      <th>UCK2</th>\n",
       "      <th>IFI27</th>\n",
       "      <th>RELA</th>\n",
       "      <th>FAM98A</th>\n",
       "      <th>SPRR2E</th>\n",
       "      <th>MIR616</th>\n",
       "    </tr>\n",
       "    <tr>\n",
       "      <th></th>\n",
       "      <th></th>\n",
       "      <th></th>\n",
       "      <th></th>\n",
       "      <th></th>\n",
       "      <th></th>\n",
       "      <th></th>\n",
       "      <th></th>\n",
       "      <th></th>\n",
       "      <th></th>\n",
       "      <th></th>\n",
       "      <th></th>\n",
       "      <th></th>\n",
       "      <th></th>\n",
       "      <th></th>\n",
       "      <th></th>\n",
       "      <th></th>\n",
       "      <th></th>\n",
       "      <th></th>\n",
       "      <th></th>\n",
       "      <th></th>\n",
       "      <th></th>\n",
       "    </tr>\n",
       "  </thead>\n",
       "  <tbody>\n",
       "    <tr>\n",
       "      <th>BAIAP2</th>\n",
       "      <td>1.000000</td>\n",
       "      <td>0.1</td>\n",
       "      <td>0.034483</td>\n",
       "      <td>0.0</td>\n",
       "      <td>0.0</td>\n",
       "      <td>0.000</td>\n",
       "      <td>0.055556</td>\n",
       "      <td>0.000000</td>\n",
       "      <td>0.0</td>\n",
       "      <td>0.142857</td>\n",
       "      <td>...</td>\n",
       "      <td>0.000000</td>\n",
       "      <td>0.1</td>\n",
       "      <td>0.0</td>\n",
       "      <td>0.014337</td>\n",
       "      <td>0.115385</td>\n",
       "      <td>0.074074</td>\n",
       "      <td>0.019608</td>\n",
       "      <td>0.0</td>\n",
       "      <td>0.0</td>\n",
       "      <td>0.10</td>\n",
       "    </tr>\n",
       "    <tr>\n",
       "      <th>OR51A7</th>\n",
       "      <td>0.100000</td>\n",
       "      <td>1.0</td>\n",
       "      <td>0.000000</td>\n",
       "      <td>0.0</td>\n",
       "      <td>0.0</td>\n",
       "      <td>0.000</td>\n",
       "      <td>0.000000</td>\n",
       "      <td>0.000000</td>\n",
       "      <td>0.0</td>\n",
       "      <td>0.000000</td>\n",
       "      <td>...</td>\n",
       "      <td>0.000000</td>\n",
       "      <td>0.0</td>\n",
       "      <td>0.0</td>\n",
       "      <td>0.000000</td>\n",
       "      <td>0.000000</td>\n",
       "      <td>0.000000</td>\n",
       "      <td>0.002463</td>\n",
       "      <td>0.0</td>\n",
       "      <td>0.0</td>\n",
       "      <td>0.00</td>\n",
       "    </tr>\n",
       "    <tr>\n",
       "      <th>DES</th>\n",
       "      <td>0.034483</td>\n",
       "      <td>0.0</td>\n",
       "      <td>1.000000</td>\n",
       "      <td>0.0</td>\n",
       "      <td>0.0</td>\n",
       "      <td>0.000</td>\n",
       "      <td>0.000000</td>\n",
       "      <td>0.017241</td>\n",
       "      <td>0.0</td>\n",
       "      <td>0.000000</td>\n",
       "      <td>...</td>\n",
       "      <td>0.019231</td>\n",
       "      <td>0.0</td>\n",
       "      <td>0.0</td>\n",
       "      <td>0.106164</td>\n",
       "      <td>0.014706</td>\n",
       "      <td>0.045455</td>\n",
       "      <td>0.031674</td>\n",
       "      <td>0.0</td>\n",
       "      <td>0.0</td>\n",
       "      <td>0.02</td>\n",
       "    </tr>\n",
       "    <tr>\n",
       "      <th>MIR124-2HG</th>\n",
       "      <td>0.000000</td>\n",
       "      <td>0.0</td>\n",
       "      <td>0.000000</td>\n",
       "      <td>1.0</td>\n",
       "      <td>0.0</td>\n",
       "      <td>0.125</td>\n",
       "      <td>0.111111</td>\n",
       "      <td>0.111111</td>\n",
       "      <td>0.0</td>\n",
       "      <td>0.071429</td>\n",
       "      <td>...</td>\n",
       "      <td>0.000000</td>\n",
       "      <td>0.0</td>\n",
       "      <td>0.0</td>\n",
       "      <td>0.000000</td>\n",
       "      <td>0.000000</td>\n",
       "      <td>0.000000</td>\n",
       "      <td>0.002463</td>\n",
       "      <td>0.1</td>\n",
       "      <td>0.0</td>\n",
       "      <td>0.00</td>\n",
       "    </tr>\n",
       "    <tr>\n",
       "      <th>OPN4</th>\n",
       "      <td>0.000000</td>\n",
       "      <td>0.0</td>\n",
       "      <td>0.000000</td>\n",
       "      <td>0.0</td>\n",
       "      <td>1.0</td>\n",
       "      <td>0.000</td>\n",
       "      <td>0.000000</td>\n",
       "      <td>0.000000</td>\n",
       "      <td>0.0</td>\n",
       "      <td>0.000000</td>\n",
       "      <td>...</td>\n",
       "      <td>0.000000</td>\n",
       "      <td>0.0</td>\n",
       "      <td>0.0</td>\n",
       "      <td>0.000000</td>\n",
       "      <td>0.000000</td>\n",
       "      <td>0.000000</td>\n",
       "      <td>0.000000</td>\n",
       "      <td>0.0</td>\n",
       "      <td>0.0</td>\n",
       "      <td>0.00</td>\n",
       "    </tr>\n",
       "  </tbody>\n",
       "</table>\n",
       "<p>5 rows × 18215 columns</p>\n",
       "</div>"
      ],
      "text/plain": [
       "              BAIAP2  OR51A7       DES  MIR124-2HG  OPN4  MCOLN2     UBE3C  \\\n",
       "                                                                             \n",
       "BAIAP2      1.000000     0.1  0.034483         0.0   0.0   0.000  0.055556   \n",
       "OR51A7      0.100000     1.0  0.000000         0.0   0.0   0.000  0.000000   \n",
       "DES         0.034483     0.0  1.000000         0.0   0.0   0.000  0.000000   \n",
       "MIR124-2HG  0.000000     0.0  0.000000         1.0   0.0   0.125  0.111111   \n",
       "OPN4        0.000000     0.0  0.000000         0.0   1.0   0.000  0.000000   \n",
       "\n",
       "               TRIQK  CLC     MTFR2   ...    CATSPERD  POM121L9P  C1D  \\\n",
       "                                      ...                               \n",
       "BAIAP2      0.000000  0.0  0.142857   ...    0.000000        0.1  0.0   \n",
       "OR51A7      0.000000  0.0  0.000000   ...    0.000000        0.0  0.0   \n",
       "DES         0.017241  0.0  0.000000   ...    0.019231        0.0  0.0   \n",
       "MIR124-2HG  0.111111  0.0  0.071429   ...    0.000000        0.0  0.0   \n",
       "OPN4        0.000000  0.0  0.000000   ...    0.000000        0.0  0.0   \n",
       "\n",
       "              GPR182      UCK2     IFI27      RELA  FAM98A  SPRR2E  MIR616  \n",
       "                                                                            \n",
       "BAIAP2      0.014337  0.115385  0.074074  0.019608     0.0     0.0    0.10  \n",
       "OR51A7      0.000000  0.000000  0.000000  0.002463     0.0     0.0    0.00  \n",
       "DES         0.106164  0.014706  0.045455  0.031674     0.0     0.0    0.02  \n",
       "MIR124-2HG  0.000000  0.000000  0.000000  0.002463     0.1     0.0    0.00  \n",
       "OPN4        0.000000  0.000000  0.000000  0.000000     0.0     0.0    0.00  \n",
       "\n",
       "[5 rows x 18215 columns]"
      ]
     },
     "execution_count": 29,
     "metadata": {},
     "output_type": "execute_result"
    }
   ],
   "source": [
    "gene_similarity_matix.head()"
   ]
  },
  {
   "cell_type": "markdown",
   "metadata": {},
   "source": [
    "# Save Gene Similarity Matrix"
   ]
  },
  {
   "cell_type": "code",
   "execution_count": 30,
   "metadata": {},
   "outputs": [],
   "source": [
    "filename = path+'dsigdb_computational_drug_signatures_gene_similarity_matix_%s.tsv.zip'% str(datetime.date.today())[0:7].replace('-', '_')\n",
    "gene_similarity_matix.to_csv(filename, sep='\\t', compression='gzip')"
   ]
  },
  {
   "cell_type": "markdown",
   "metadata": {},
   "source": [
    "# Create Attribute Similarity matrix"
   ]
  },
  {
   "cell_type": "code",
   "execution_count": 31,
   "metadata": {},
   "outputs": [],
   "source": [
    "attribute_similarity_matix = uf.createSimilarityMatrix(binary_matrix.T, 'jaccard')"
   ]
  },
  {
   "cell_type": "code",
   "execution_count": 32,
   "metadata": {},
   "outputs": [
    {
     "data": {
      "text/html": [
       "<div>\n",
       "<style scoped>\n",
       "    .dataframe tbody tr th:only-of-type {\n",
       "        vertical-align: middle;\n",
       "    }\n",
       "\n",
       "    .dataframe tbody tr th {\n",
       "        vertical-align: top;\n",
       "    }\n",
       "\n",
       "    .dataframe thead th {\n",
       "        text-align: right;\n",
       "    }\n",
       "</style>\n",
       "<table border=\"1\" class=\"dataframe\">\n",
       "  <thead>\n",
       "    <tr style=\"text-align: right;\">\n",
       "      <th></th>\n",
       "      <th>( -)-CANDOXATRILAT</th>\n",
       "      <th>(+)-(5ALPHA,7ALPHA,8BETA)-N-METHYL-N-[7-(1-PYRROLIDINYL)-1-OXASPIRO[4.5]DEC-8-YL]-BENZENEACETAMIDE</th>\n",
       "      <th>(+)-5-DEOXYADEENOPHORINE</th>\n",
       "      <th>(+)-BUTACLAMOL</th>\n",
       "      <th>(+)-EHNA</th>\n",
       "      <th>(+)-MK 801 MALEATE</th>\n",
       "      <th>(+)-MK-801 HYDROGEN MALEATE</th>\n",
       "      <th>(+)-NIGULDIPINE</th>\n",
       "      <th>(+)-QUISQUALIC ACID</th>\n",
       "      <th>(+/-)-CGP-12177A</th>\n",
       "      <th>...</th>\n",
       "      <th>[7-METHOXY-8-[2-METHYL-3-(3-METHYLBUT-2-ENYL)OXIRAN-2-YL]-2-OXASPIRO[2.5]OCTAN-6-YL] N-(2-CHLOROACETYL)CARBAMATE</th>\n",
       "      <th>[HYDROXY(3-PHENYLPROPYL)AMINO]METHANOL</th>\n",
       "      <th>[LYS8(ALEXA 488) ]PVA</th>\n",
       "      <th>[LYS8(ALEXA 546) ]PVA</th>\n",
       "      <th>[N40,PRO1,TYR4,NLE 14]BB</th>\n",
       "      <th>[N40,PRO1,TYR4]BB</th>\n",
       "      <th>[R]-MESOPRAM</th>\n",
       "      <th>[TYR4]BOMBESIN</th>\n",
       "      <th>[[4-(AMINOMETHYL)PHENYL]AMINO]OXO-ACETIC ACID,</th>\n",
       "      <th>{5-FLUORO-2-METHYL-1-[4-(METHYLSULFINYL)BENZYLIDENE]-1H-INDEN-3-YL}ACETIC ACID</th>\n",
       "    </tr>\n",
       "    <tr>\n",
       "      <th></th>\n",
       "      <th></th>\n",
       "      <th></th>\n",
       "      <th></th>\n",
       "      <th></th>\n",
       "      <th></th>\n",
       "      <th></th>\n",
       "      <th></th>\n",
       "      <th></th>\n",
       "      <th></th>\n",
       "      <th></th>\n",
       "      <th></th>\n",
       "      <th></th>\n",
       "      <th></th>\n",
       "      <th></th>\n",
       "      <th></th>\n",
       "      <th></th>\n",
       "      <th></th>\n",
       "      <th></th>\n",
       "      <th></th>\n",
       "      <th></th>\n",
       "      <th></th>\n",
       "    </tr>\n",
       "  </thead>\n",
       "  <tbody>\n",
       "    <tr>\n",
       "      <th>( -)-CANDOXATRILAT</th>\n",
       "      <td>1.0</td>\n",
       "      <td>0.0</td>\n",
       "      <td>0.0</td>\n",
       "      <td>0.0</td>\n",
       "      <td>0.0</td>\n",
       "      <td>0.0</td>\n",
       "      <td>0.000000</td>\n",
       "      <td>0.000000</td>\n",
       "      <td>0.0</td>\n",
       "      <td>0.0</td>\n",
       "      <td>...</td>\n",
       "      <td>0.0</td>\n",
       "      <td>0.0</td>\n",
       "      <td>0.0</td>\n",
       "      <td>0.0</td>\n",
       "      <td>0.0</td>\n",
       "      <td>0.0</td>\n",
       "      <td>0.0</td>\n",
       "      <td>0.0</td>\n",
       "      <td>0.0</td>\n",
       "      <td>0.0</td>\n",
       "    </tr>\n",
       "    <tr>\n",
       "      <th>(+)-(5ALPHA,7ALPHA,8BETA)-N-METHYL-N-[7-(1-PYRROLIDINYL)-1-OXASPIRO[4.5]DEC-8-YL]-BENZENEACETAMIDE</th>\n",
       "      <td>0.0</td>\n",
       "      <td>1.0</td>\n",
       "      <td>0.0</td>\n",
       "      <td>0.0</td>\n",
       "      <td>0.0</td>\n",
       "      <td>0.0</td>\n",
       "      <td>0.000000</td>\n",
       "      <td>0.000000</td>\n",
       "      <td>0.0</td>\n",
       "      <td>0.0</td>\n",
       "      <td>...</td>\n",
       "      <td>0.0</td>\n",
       "      <td>0.0</td>\n",
       "      <td>0.0</td>\n",
       "      <td>0.0</td>\n",
       "      <td>0.0</td>\n",
       "      <td>0.0</td>\n",
       "      <td>0.0</td>\n",
       "      <td>0.0</td>\n",
       "      <td>0.0</td>\n",
       "      <td>0.0</td>\n",
       "    </tr>\n",
       "    <tr>\n",
       "      <th>(+)-5-DEOXYADEENOPHORINE</th>\n",
       "      <td>0.0</td>\n",
       "      <td>0.0</td>\n",
       "      <td>1.0</td>\n",
       "      <td>0.0</td>\n",
       "      <td>0.0</td>\n",
       "      <td>0.0</td>\n",
       "      <td>0.000000</td>\n",
       "      <td>0.000000</td>\n",
       "      <td>0.0</td>\n",
       "      <td>0.0</td>\n",
       "      <td>...</td>\n",
       "      <td>0.0</td>\n",
       "      <td>0.0</td>\n",
       "      <td>0.0</td>\n",
       "      <td>0.0</td>\n",
       "      <td>0.0</td>\n",
       "      <td>0.0</td>\n",
       "      <td>0.0</td>\n",
       "      <td>0.0</td>\n",
       "      <td>0.0</td>\n",
       "      <td>0.0</td>\n",
       "    </tr>\n",
       "    <tr>\n",
       "      <th>(+)-BUTACLAMOL</th>\n",
       "      <td>0.0</td>\n",
       "      <td>0.0</td>\n",
       "      <td>0.0</td>\n",
       "      <td>1.0</td>\n",
       "      <td>0.0</td>\n",
       "      <td>0.0</td>\n",
       "      <td>0.017241</td>\n",
       "      <td>0.066667</td>\n",
       "      <td>0.0</td>\n",
       "      <td>0.0</td>\n",
       "      <td>...</td>\n",
       "      <td>0.0</td>\n",
       "      <td>0.0</td>\n",
       "      <td>0.0</td>\n",
       "      <td>0.0</td>\n",
       "      <td>0.0</td>\n",
       "      <td>0.0</td>\n",
       "      <td>0.0</td>\n",
       "      <td>0.0</td>\n",
       "      <td>0.0</td>\n",
       "      <td>0.0</td>\n",
       "    </tr>\n",
       "    <tr>\n",
       "      <th>(+)-EHNA</th>\n",
       "      <td>0.0</td>\n",
       "      <td>0.0</td>\n",
       "      <td>0.0</td>\n",
       "      <td>0.0</td>\n",
       "      <td>1.0</td>\n",
       "      <td>0.0</td>\n",
       "      <td>0.000000</td>\n",
       "      <td>0.000000</td>\n",
       "      <td>0.0</td>\n",
       "      <td>0.0</td>\n",
       "      <td>...</td>\n",
       "      <td>0.0</td>\n",
       "      <td>0.0</td>\n",
       "      <td>0.0</td>\n",
       "      <td>0.0</td>\n",
       "      <td>0.0</td>\n",
       "      <td>0.0</td>\n",
       "      <td>0.0</td>\n",
       "      <td>0.0</td>\n",
       "      <td>0.0</td>\n",
       "      <td>0.0</td>\n",
       "    </tr>\n",
       "  </tbody>\n",
       "</table>\n",
       "<p>5 rows × 15819 columns</p>\n",
       "</div>"
      ],
      "text/plain": [
       "                                                    ( -)-CANDOXATRILAT  \\\n",
       "                                                                         \n",
       "( -)-CANDOXATRILAT                                                 1.0   \n",
       "(+)-(5ALPHA,7ALPHA,8BETA)-N-METHYL-N-[7-(1-PYRR...                 0.0   \n",
       "(+)-5-DEOXYADEENOPHORINE                                           0.0   \n",
       "(+)-BUTACLAMOL                                                     0.0   \n",
       "(+)-EHNA                                                           0.0   \n",
       "\n",
       "                                                    (+)-(5ALPHA,7ALPHA,8BETA)-N-METHYL-N-[7-(1-PYRROLIDINYL)-1-OXASPIRO[4.5]DEC-8-YL]-BENZENEACETAMIDE  \\\n",
       "                                                                                                                                                         \n",
       "( -)-CANDOXATRILAT                                                                                0.0                                                    \n",
       "(+)-(5ALPHA,7ALPHA,8BETA)-N-METHYL-N-[7-(1-PYRR...                                                1.0                                                    \n",
       "(+)-5-DEOXYADEENOPHORINE                                                                          0.0                                                    \n",
       "(+)-BUTACLAMOL                                                                                    0.0                                                    \n",
       "(+)-EHNA                                                                                          0.0                                                    \n",
       "\n",
       "                                                    (+)-5-DEOXYADEENOPHORINE  \\\n",
       "                                                                               \n",
       "( -)-CANDOXATRILAT                                                       0.0   \n",
       "(+)-(5ALPHA,7ALPHA,8BETA)-N-METHYL-N-[7-(1-PYRR...                       0.0   \n",
       "(+)-5-DEOXYADEENOPHORINE                                                 1.0   \n",
       "(+)-BUTACLAMOL                                                           0.0   \n",
       "(+)-EHNA                                                                 0.0   \n",
       "\n",
       "                                                    (+)-BUTACLAMOL  (+)-EHNA  \\\n",
       "                                                                               \n",
       "( -)-CANDOXATRILAT                                             0.0       0.0   \n",
       "(+)-(5ALPHA,7ALPHA,8BETA)-N-METHYL-N-[7-(1-PYRR...             0.0       0.0   \n",
       "(+)-5-DEOXYADEENOPHORINE                                       0.0       0.0   \n",
       "(+)-BUTACLAMOL                                                 1.0       0.0   \n",
       "(+)-EHNA                                                       0.0       1.0   \n",
       "\n",
       "                                                    (+)-MK 801 MALEATE  \\\n",
       "                                                                         \n",
       "( -)-CANDOXATRILAT                                                 0.0   \n",
       "(+)-(5ALPHA,7ALPHA,8BETA)-N-METHYL-N-[7-(1-PYRR...                 0.0   \n",
       "(+)-5-DEOXYADEENOPHORINE                                           0.0   \n",
       "(+)-BUTACLAMOL                                                     0.0   \n",
       "(+)-EHNA                                                           0.0   \n",
       "\n",
       "                                                    (+)-MK-801 HYDROGEN MALEATE  \\\n",
       "                                                                                  \n",
       "( -)-CANDOXATRILAT                                                     0.000000   \n",
       "(+)-(5ALPHA,7ALPHA,8BETA)-N-METHYL-N-[7-(1-PYRR...                     0.000000   \n",
       "(+)-5-DEOXYADEENOPHORINE                                               0.000000   \n",
       "(+)-BUTACLAMOL                                                         0.017241   \n",
       "(+)-EHNA                                                               0.000000   \n",
       "\n",
       "                                                    (+)-NIGULDIPINE  \\\n",
       "                                                                      \n",
       "( -)-CANDOXATRILAT                                         0.000000   \n",
       "(+)-(5ALPHA,7ALPHA,8BETA)-N-METHYL-N-[7-(1-PYRR...         0.000000   \n",
       "(+)-5-DEOXYADEENOPHORINE                                   0.000000   \n",
       "(+)-BUTACLAMOL                                             0.066667   \n",
       "(+)-EHNA                                                   0.000000   \n",
       "\n",
       "                                                    (+)-QUISQUALIC ACID  \\\n",
       "                                                                          \n",
       "( -)-CANDOXATRILAT                                                  0.0   \n",
       "(+)-(5ALPHA,7ALPHA,8BETA)-N-METHYL-N-[7-(1-PYRR...                  0.0   \n",
       "(+)-5-DEOXYADEENOPHORINE                                            0.0   \n",
       "(+)-BUTACLAMOL                                                      0.0   \n",
       "(+)-EHNA                                                            0.0   \n",
       "\n",
       "                                                    (+/-)-CGP-12177A  \\\n",
       "                                                                       \n",
       "( -)-CANDOXATRILAT                                               0.0   \n",
       "(+)-(5ALPHA,7ALPHA,8BETA)-N-METHYL-N-[7-(1-PYRR...               0.0   \n",
       "(+)-5-DEOXYADEENOPHORINE                                         0.0   \n",
       "(+)-BUTACLAMOL                                                   0.0   \n",
       "(+)-EHNA                                                         0.0   \n",
       "\n",
       "                                                                                         ...                                        \\\n",
       "                                                                                         ...                                         \n",
       "( -)-CANDOXATRILAT                                                                       ...                                         \n",
       "(+)-(5ALPHA,7ALPHA,8BETA)-N-METHYL-N-[7-(1-PYRR...                                       ...                                         \n",
       "(+)-5-DEOXYADEENOPHORINE                                                                 ...                                         \n",
       "(+)-BUTACLAMOL                                                                           ...                                         \n",
       "(+)-EHNA                                                                                 ...                                         \n",
       "\n",
       "                                                    [7-METHOXY-8-[2-METHYL-3-(3-METHYLBUT-2-ENYL)OXIRAN-2-YL]-2-OXASPIRO[2.5]OCTAN-6-YL] N-(2-CHLOROACETYL)CARBAMATE  \\\n",
       "                                                                                                                                                                       \n",
       "( -)-CANDOXATRILAT                                                                                0.0                                                                  \n",
       "(+)-(5ALPHA,7ALPHA,8BETA)-N-METHYL-N-[7-(1-PYRR...                                                0.0                                                                  \n",
       "(+)-5-DEOXYADEENOPHORINE                                                                          0.0                                                                  \n",
       "(+)-BUTACLAMOL                                                                                    0.0                                                                  \n",
       "(+)-EHNA                                                                                          0.0                                                                  \n",
       "\n",
       "                                                    [HYDROXY(3-PHENYLPROPYL)AMINO]METHANOL  \\\n",
       "                                                                                             \n",
       "( -)-CANDOXATRILAT                                                                     0.0   \n",
       "(+)-(5ALPHA,7ALPHA,8BETA)-N-METHYL-N-[7-(1-PYRR...                                     0.0   \n",
       "(+)-5-DEOXYADEENOPHORINE                                                               0.0   \n",
       "(+)-BUTACLAMOL                                                                         0.0   \n",
       "(+)-EHNA                                                                               0.0   \n",
       "\n",
       "                                                    [LYS8(ALEXA 488) ]PVA  \\\n",
       "                                                                            \n",
       "( -)-CANDOXATRILAT                                                    0.0   \n",
       "(+)-(5ALPHA,7ALPHA,8BETA)-N-METHYL-N-[7-(1-PYRR...                    0.0   \n",
       "(+)-5-DEOXYADEENOPHORINE                                              0.0   \n",
       "(+)-BUTACLAMOL                                                        0.0   \n",
       "(+)-EHNA                                                              0.0   \n",
       "\n",
       "                                                    [LYS8(ALEXA 546) ]PVA  \\\n",
       "                                                                            \n",
       "( -)-CANDOXATRILAT                                                    0.0   \n",
       "(+)-(5ALPHA,7ALPHA,8BETA)-N-METHYL-N-[7-(1-PYRR...                    0.0   \n",
       "(+)-5-DEOXYADEENOPHORINE                                              0.0   \n",
       "(+)-BUTACLAMOL                                                        0.0   \n",
       "(+)-EHNA                                                              0.0   \n",
       "\n",
       "                                                    [N40,PRO1,TYR4,NLE 14]BB  \\\n",
       "                                                                               \n",
       "( -)-CANDOXATRILAT                                                       0.0   \n",
       "(+)-(5ALPHA,7ALPHA,8BETA)-N-METHYL-N-[7-(1-PYRR...                       0.0   \n",
       "(+)-5-DEOXYADEENOPHORINE                                                 0.0   \n",
       "(+)-BUTACLAMOL                                                           0.0   \n",
       "(+)-EHNA                                                                 0.0   \n",
       "\n",
       "                                                    [N40,PRO1,TYR4]BB  \\\n",
       "                                                                        \n",
       "( -)-CANDOXATRILAT                                                0.0   \n",
       "(+)-(5ALPHA,7ALPHA,8BETA)-N-METHYL-N-[7-(1-PYRR...                0.0   \n",
       "(+)-5-DEOXYADEENOPHORINE                                          0.0   \n",
       "(+)-BUTACLAMOL                                                    0.0   \n",
       "(+)-EHNA                                                          0.0   \n",
       "\n",
       "                                                    [R]-MESOPRAM  \\\n",
       "                                                                   \n",
       "( -)-CANDOXATRILAT                                           0.0   \n",
       "(+)-(5ALPHA,7ALPHA,8BETA)-N-METHYL-N-[7-(1-PYRR...           0.0   \n",
       "(+)-5-DEOXYADEENOPHORINE                                     0.0   \n",
       "(+)-BUTACLAMOL                                               0.0   \n",
       "(+)-EHNA                                                     0.0   \n",
       "\n",
       "                                                    [TYR4]BOMBESIN  \\\n",
       "                                                                     \n",
       "( -)-CANDOXATRILAT                                             0.0   \n",
       "(+)-(5ALPHA,7ALPHA,8BETA)-N-METHYL-N-[7-(1-PYRR...             0.0   \n",
       "(+)-5-DEOXYADEENOPHORINE                                       0.0   \n",
       "(+)-BUTACLAMOL                                                 0.0   \n",
       "(+)-EHNA                                                       0.0   \n",
       "\n",
       "                                                    [[4-(AMINOMETHYL)PHENYL]AMINO]OXO-ACETIC ACID,  \\\n",
       "                                                                                                     \n",
       "( -)-CANDOXATRILAT                                                                             0.0   \n",
       "(+)-(5ALPHA,7ALPHA,8BETA)-N-METHYL-N-[7-(1-PYRR...                                             0.0   \n",
       "(+)-5-DEOXYADEENOPHORINE                                                                       0.0   \n",
       "(+)-BUTACLAMOL                                                                                 0.0   \n",
       "(+)-EHNA                                                                                       0.0   \n",
       "\n",
       "                                                    {5-FLUORO-2-METHYL-1-[4-(METHYLSULFINYL)BENZYLIDENE]-1H-INDEN-3-YL}ACETIC ACID  \n",
       "                                                                                                                                    \n",
       "( -)-CANDOXATRILAT                                                                                0.0                               \n",
       "(+)-(5ALPHA,7ALPHA,8BETA)-N-METHYL-N-[7-(1-PYRR...                                                0.0                               \n",
       "(+)-5-DEOXYADEENOPHORINE                                                                          0.0                               \n",
       "(+)-BUTACLAMOL                                                                                    0.0                               \n",
       "(+)-EHNA                                                                                          0.0                               \n",
       "\n",
       "[5 rows x 15819 columns]"
      ]
     },
     "execution_count": 32,
     "metadata": {},
     "output_type": "execute_result"
    }
   ],
   "source": [
    "attribute_similarity_matix.head()"
   ]
  },
  {
   "cell_type": "markdown",
   "metadata": {},
   "source": [
    "# Save Attribute Similarity Matrix"
   ]
  },
  {
   "cell_type": "code",
   "execution_count": 33,
   "metadata": {},
   "outputs": [],
   "source": [
    "filename = path+'dsigdb_computational_drug_signatures_attribute_similarity_matix_%s.tsv.zip'% str(datetime.date.today())[0:7].replace('-', '_')\n",
    "attribute_similarity_matix.to_csv(filename, sep='\\t', compression='gzip')"
   ]
  },
  {
   "cell_type": "markdown",
   "metadata": {},
   "source": [
    "# HeatMap (clustergrammer) of Similarity Matrix"
   ]
  },
  {
   "cell_type": "code",
   "execution_count": 34,
   "metadata": {},
   "outputs": [],
   "source": [
    "# net.load_df(attribute_similarity_matix.iloc[0:100,0:100].copy())\n",
    "# # net.filter_N_top('row', rank_type='sum', N_top=300)\n",
    "# net.cluster()\n",
    "# net.widget()"
   ]
  },
  {
   "cell_type": "markdown",
   "metadata": {},
   "source": [
    "# Create Gene List"
   ]
  },
  {
   "cell_type": "code",
   "execution_count": 35,
   "metadata": {},
   "outputs": [
    {
     "name": "stdout",
     "output_type": "stream",
     "text": [
      "Progeres: 100%  18215 Out of 18215   \r"
     ]
    }
   ],
   "source": [
    "gene_list = uf.createGeneList(binary_matrix)"
   ]
  },
  {
   "cell_type": "code",
   "execution_count": 36,
   "metadata": {},
   "outputs": [
    {
     "data": {
      "text/html": [
       "<div>\n",
       "<style scoped>\n",
       "    .dataframe tbody tr th:only-of-type {\n",
       "        vertical-align: middle;\n",
       "    }\n",
       "\n",
       "    .dataframe tbody tr th {\n",
       "        vertical-align: top;\n",
       "    }\n",
       "\n",
       "    .dataframe thead th {\n",
       "        text-align: right;\n",
       "    }\n",
       "</style>\n",
       "<table border=\"1\" class=\"dataframe\">\n",
       "  <thead>\n",
       "    <tr style=\"text-align: right;\">\n",
       "      <th></th>\n",
       "      <th>GeneSym</th>\n",
       "      <th>GeneID</th>\n",
       "    </tr>\n",
       "  </thead>\n",
       "  <tbody>\n",
       "    <tr>\n",
       "      <th>0</th>\n",
       "      <td>BAIAP2</td>\n",
       "      <td>10458</td>\n",
       "    </tr>\n",
       "    <tr>\n",
       "      <th>1</th>\n",
       "      <td>OR51A7</td>\n",
       "      <td>119687</td>\n",
       "    </tr>\n",
       "    <tr>\n",
       "      <th>2</th>\n",
       "      <td>DES</td>\n",
       "      <td>1674</td>\n",
       "    </tr>\n",
       "    <tr>\n",
       "      <th>3</th>\n",
       "      <td>MIR124-2HG</td>\n",
       "      <td>1.0013e+08</td>\n",
       "    </tr>\n",
       "    <tr>\n",
       "      <th>4</th>\n",
       "      <td>OPN4</td>\n",
       "      <td>94233</td>\n",
       "    </tr>\n",
       "  </tbody>\n",
       "</table>\n",
       "</div>"
      ],
      "text/plain": [
       "      GeneSym      GeneID\n",
       "0      BAIAP2       10458\n",
       "1      OR51A7      119687\n",
       "2         DES        1674\n",
       "3  MIR124-2HG  1.0013e+08\n",
       "4        OPN4       94233"
      ]
     },
     "execution_count": 36,
     "metadata": {},
     "output_type": "execute_result"
    }
   ],
   "source": [
    "gene_list.head()"
   ]
  },
  {
   "cell_type": "code",
   "execution_count": 37,
   "metadata": {},
   "outputs": [
    {
     "data": {
      "text/plain": [
       "(18215, 2)"
      ]
     },
     "execution_count": 37,
     "metadata": {},
     "output_type": "execute_result"
    }
   ],
   "source": [
    "gene_list.shape"
   ]
  },
  {
   "cell_type": "markdown",
   "metadata": {},
   "source": [
    "# Save Gene List"
   ]
  },
  {
   "cell_type": "code",
   "execution_count": 38,
   "metadata": {},
   "outputs": [],
   "source": [
    "filename = path+'dsigdb_computational_drug_signatures_gene_list_%s.tsv.zip'% str(datetime.date.today())[0:7].replace('-', '_')\n",
    "gene_list.to_csv(filename, sep='\\t', index=False, compression='gzip')"
   ]
  },
  {
   "cell_type": "markdown",
   "metadata": {},
   "source": [
    "# Create Attribute List"
   ]
  },
  {
   "cell_type": "markdown",
   "metadata": {},
   "source": [
    "### Create Metadata Table"
   ]
  },
  {
   "cell_type": "code",
   "execution_count": 39,
   "metadata": {},
   "outputs": [
    {
     "data": {
      "text/html": [
       "<div>\n",
       "<style scoped>\n",
       "    .dataframe tbody tr th:only-of-type {\n",
       "        vertical-align: middle;\n",
       "    }\n",
       "\n",
       "    .dataframe tbody tr th {\n",
       "        vertical-align: top;\n",
       "    }\n",
       "\n",
       "    .dataframe thead th {\n",
       "        text-align: right;\n",
       "    }\n",
       "</style>\n",
       "<table border=\"1\" class=\"dataframe\">\n",
       "  <thead>\n",
       "    <tr style=\"text-align: right;\">\n",
       "      <th></th>\n",
       "      <th>Gene</th>\n",
       "      <th>Drug</th>\n",
       "      <th>Type</th>\n",
       "      <th>Source</th>\n",
       "    </tr>\n",
       "  </thead>\n",
       "  <tbody>\n",
       "    <tr>\n",
       "      <th>0</th>\n",
       "      <td>SLC9A6</td>\n",
       "      <td>Gatifloxacin</td>\n",
       "      <td>Text_Mining(PMID21764484,PMID21481984,PMID2380...</td>\n",
       "      <td>BOSS</td>\n",
       "    </tr>\n",
       "    <tr>\n",
       "      <th>1</th>\n",
       "      <td>KSR1</td>\n",
       "      <td>Gatifloxacin</td>\n",
       "      <td>Text_Mining(PMID21722249,PMID20499531,PMID2197...</td>\n",
       "      <td>BOSS</td>\n",
       "    </tr>\n",
       "    <tr>\n",
       "      <th>2</th>\n",
       "      <td>INS</td>\n",
       "      <td>Gatifloxacin</td>\n",
       "      <td>Text_Mining(PMID20068268,PMID20674567,PMID2320...</td>\n",
       "      <td>BOSS</td>\n",
       "    </tr>\n",
       "    <tr>\n",
       "      <th>3</th>\n",
       "      <td>ESR1</td>\n",
       "      <td>Gatifloxacin</td>\n",
       "      <td>Potency-Replicate_1=26.6032(uM)</td>\n",
       "      <td>D4 PubChem</td>\n",
       "    </tr>\n",
       "    <tr>\n",
       "      <th>4</th>\n",
       "      <td>HSD17B10</td>\n",
       "      <td>Gatifloxacin</td>\n",
       "      <td>Potency=31622.8(nM)</td>\n",
       "      <td>D4 ChEMBL</td>\n",
       "    </tr>\n",
       "  </tbody>\n",
       "</table>\n",
       "</div>"
      ],
      "text/plain": [
       "       Gene          Drug                                               Type  \\\n",
       "0    SLC9A6  Gatifloxacin  Text_Mining(PMID21764484,PMID21481984,PMID2380...   \n",
       "1      KSR1  Gatifloxacin  Text_Mining(PMID21722249,PMID20499531,PMID2197...   \n",
       "2       INS  Gatifloxacin  Text_Mining(PMID20068268,PMID20674567,PMID2320...   \n",
       "3      ESR1  Gatifloxacin                    Potency-Replicate_1=26.6032(uM)   \n",
       "4  HSD17B10  Gatifloxacin                                Potency=31622.8(nM)   \n",
       "\n",
       "       Source  \n",
       "0        BOSS  \n",
       "1        BOSS  \n",
       "2        BOSS  \n",
       "3  D4 PubChem  \n",
       "4   D4 ChEMBL  "
      ]
     },
     "execution_count": 39,
     "metadata": {},
     "output_type": "execute_result"
    }
   ],
   "source": [
    "data.head()"
   ]
  },
  {
   "cell_type": "code",
   "execution_count": 40,
   "metadata": {},
   "outputs": [],
   "source": [
    "temp = data[['Drug', 'Type', 'Source']].copy()"
   ]
  },
  {
   "cell_type": "code",
   "execution_count": 41,
   "metadata": {},
   "outputs": [],
   "source": [
    "lst = [x.upper() for x in temp['Drug']]\n",
    "\n",
    "temp['Drug'] = lst"
   ]
  },
  {
   "cell_type": "code",
   "execution_count": 42,
   "metadata": {},
   "outputs": [],
   "source": [
    "temp.set_index('Drug', inplace=True)"
   ]
  },
  {
   "cell_type": "code",
   "execution_count": 43,
   "metadata": {},
   "outputs": [
    {
     "data": {
      "text/html": [
       "<div>\n",
       "<style scoped>\n",
       "    .dataframe tbody tr th:only-of-type {\n",
       "        vertical-align: middle;\n",
       "    }\n",
       "\n",
       "    .dataframe tbody tr th {\n",
       "        vertical-align: top;\n",
       "    }\n",
       "\n",
       "    .dataframe thead th {\n",
       "        text-align: right;\n",
       "    }\n",
       "</style>\n",
       "<table border=\"1\" class=\"dataframe\">\n",
       "  <thead>\n",
       "    <tr style=\"text-align: right;\">\n",
       "      <th></th>\n",
       "      <th>Source</th>\n",
       "    </tr>\n",
       "    <tr>\n",
       "      <th></th>\n",
       "      <th></th>\n",
       "    </tr>\n",
       "  </thead>\n",
       "  <tbody>\n",
       "    <tr>\n",
       "      <th>( -)-CANDOXATRILAT</th>\n",
       "      <td>CTD</td>\n",
       "    </tr>\n",
       "    <tr>\n",
       "      <th>(+)-(5ALPHA,7ALPHA,8BETA)-N-METHYL-N-[7-(1-PYRROLIDINYL)-1-OXASPIRO[4.5]DEC-8-YL]-BENZENEACETAMIDE</th>\n",
       "      <td>D4 PubChem</td>\n",
       "    </tr>\n",
       "    <tr>\n",
       "      <th>(+)-5-DEOXYADEENOPHORINE</th>\n",
       "      <td>TTD</td>\n",
       "    </tr>\n",
       "    <tr>\n",
       "      <th>(+)-BUTACLAMOL</th>\n",
       "      <td>D4 PubChem:TTD</td>\n",
       "    </tr>\n",
       "    <tr>\n",
       "      <th>(+)-EHNA</th>\n",
       "      <td>TTD</td>\n",
       "    </tr>\n",
       "  </tbody>\n",
       "</table>\n",
       "</div>"
      ],
      "text/plain": [
       "                                                            Source\n",
       "                                                                  \n",
       "( -)-CANDOXATRILAT                                             CTD\n",
       "(+)-(5ALPHA,7ALPHA,8BETA)-N-METHYL-N-[7-(1-PYRR...      D4 PubChem\n",
       "(+)-5-DEOXYADEENOPHORINE                                       TTD\n",
       "(+)-BUTACLAMOL                                      D4 PubChem:TTD\n",
       "(+)-EHNA                                                       TTD"
      ]
     },
     "execution_count": 43,
     "metadata": {},
     "output_type": "execute_result"
    }
   ],
   "source": [
    "source = []\n",
    "\n",
    "metaData = pd.DataFrame(columns=['Source'], index=binary_matrix.columns)\n",
    "\n",
    "for index in metaData.index:\n",
    "    if type(temp.loc[index, 'Source']) == str:\n",
    "        source.append(temp.loc[index, 'Source'])\n",
    "    else:\n",
    "        source.append((':').join(set([x for x in temp.loc[index, 'Source'].values.tolist()])))\n",
    "    \n",
    "metaData['Source'] = source\n",
    "\n",
    "metaData.head()"
   ]
  },
  {
   "cell_type": "code",
   "execution_count": 44,
   "metadata": {},
   "outputs": [
    {
     "name": "stdout",
     "output_type": "stream",
     "text": [
      "Progeres: 100%  15819 Out of 15819   \r"
     ]
    }
   ],
   "source": [
    "attribute_list = uf.createAttributeList(binary_matrix, metaData)"
   ]
  },
  {
   "cell_type": "code",
   "execution_count": 45,
   "metadata": {},
   "outputs": [
    {
     "data": {
      "text/html": [
       "<div>\n",
       "<style scoped>\n",
       "    .dataframe tbody tr th:only-of-type {\n",
       "        vertical-align: middle;\n",
       "    }\n",
       "\n",
       "    .dataframe tbody tr th {\n",
       "        vertical-align: top;\n",
       "    }\n",
       "\n",
       "    .dataframe thead th {\n",
       "        text-align: right;\n",
       "    }\n",
       "</style>\n",
       "<table border=\"1\" class=\"dataframe\">\n",
       "  <thead>\n",
       "    <tr style=\"text-align: right;\">\n",
       "      <th></th>\n",
       "      <th>Source</th>\n",
       "    </tr>\n",
       "    <tr>\n",
       "      <th>Attributes</th>\n",
       "      <th></th>\n",
       "    </tr>\n",
       "  </thead>\n",
       "  <tbody>\n",
       "    <tr>\n",
       "      <th>( -)-CANDOXATRILAT</th>\n",
       "      <td>CTD</td>\n",
       "    </tr>\n",
       "    <tr>\n",
       "      <th>(+)-(5ALPHA,7ALPHA,8BETA)-N-METHYL-N-[7-(1-PYRROLIDINYL)-1-OXASPIRO[4.5]DEC-8-YL]-BENZENEACETAMIDE</th>\n",
       "      <td>D4 PubChem</td>\n",
       "    </tr>\n",
       "    <tr>\n",
       "      <th>(+)-5-DEOXYADEENOPHORINE</th>\n",
       "      <td>TTD</td>\n",
       "    </tr>\n",
       "    <tr>\n",
       "      <th>(+)-BUTACLAMOL</th>\n",
       "      <td>D4 PubChem:TTD</td>\n",
       "    </tr>\n",
       "    <tr>\n",
       "      <th>(+)-EHNA</th>\n",
       "      <td>TTD</td>\n",
       "    </tr>\n",
       "  </tbody>\n",
       "</table>\n",
       "</div>"
      ],
      "text/plain": [
       "                                                            Source\n",
       "Attributes                                                        \n",
       "( -)-CANDOXATRILAT                                             CTD\n",
       "(+)-(5ALPHA,7ALPHA,8BETA)-N-METHYL-N-[7-(1-PYRR...      D4 PubChem\n",
       "(+)-5-DEOXYADEENOPHORINE                                       TTD\n",
       "(+)-BUTACLAMOL                                      D4 PubChem:TTD\n",
       "(+)-EHNA                                                       TTD"
      ]
     },
     "execution_count": 45,
     "metadata": {},
     "output_type": "execute_result"
    }
   ],
   "source": [
    "attribute_list.head()"
   ]
  },
  {
   "cell_type": "code",
   "execution_count": 46,
   "metadata": {},
   "outputs": [
    {
     "data": {
      "text/plain": [
       "(15819, 1)"
      ]
     },
     "execution_count": 46,
     "metadata": {},
     "output_type": "execute_result"
    }
   ],
   "source": [
    "attribute_list.shape"
   ]
  },
  {
   "cell_type": "markdown",
   "metadata": {},
   "source": [
    "# Save Attribute List"
   ]
  },
  {
   "cell_type": "code",
   "execution_count": 47,
   "metadata": {},
   "outputs": [],
   "source": [
    "filename = path+'dsigdb_computational_drug_signatures_attribute_list_%s.tsv.zip'% str(datetime.date.today())[0:7].replace('-', '_')\n",
    "attribute_list.to_csv(filename, sep='\\t', index=False, compression='gzip')"
   ]
  },
  {
   "cell_type": "markdown",
   "metadata": {},
   "source": [
    "# Create Gene-Attribute Edge List"
   ]
  },
  {
   "cell_type": "code",
   "execution_count": 48,
   "metadata": {},
   "outputs": [],
   "source": [
    "name = 'dsigdb_computational_drug_signatures_gene_attribute_edge_list'"
   ]
  },
  {
   "cell_type": "code",
   "execution_count": 49,
   "metadata": {},
   "outputs": [
    {
     "name": "stdout",
     "output_type": "stream",
     "text": [
      "Progeres: 100%  15819 Out of 15819   \n",
      "\n",
      " The number of statisticaly relevent gene-attribute associations is: 293199\n"
     ]
    }
   ],
   "source": [
    "uf.createGeneAttributeEdgeList(binary_matrix, attribute_list, gene_list, path, name)"
   ]
  }
 ],
 "metadata": {
  "kernelspec": {
   "display_name": "Python [default]",
   "language": "python",
   "name": "python3"
  },
  "language_info": {
   "codemirror_mode": {
    "name": "ipython",
    "version": 3
   },
   "file_extension": ".py",
   "mimetype": "text/x-python",
   "name": "python",
   "nbconvert_exporter": "python",
   "pygments_lexer": "ipython3",
   "version": "3.5.5"
  }
 },
 "nbformat": 4,
 "nbformat_minor": 2
}
