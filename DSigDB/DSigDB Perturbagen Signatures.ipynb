{
 "cells": [
  {
   "cell_type": "markdown",
   "metadata": {},
   "source": [
    "# DSigDB Perturbagen Signatures"
   ]
  },
  {
   "cell_type": "markdown",
   "metadata": {},
   "source": [
    "Author: Moshe Silverstein   \n",
    "Date: 05-07-2018  \n",
    "Data Source Home: http://tanlab.ucdenver.edu/DSigDB/DSigDBv1.0/  \n",
    "Data Source Download: http://tanlab.ucdenver.edu/DSigDB/DSigDBv1.0/download.html  "
   ]
  },
  {
   "cell_type": "code",
   "execution_count": 1,
   "metadata": {},
   "outputs": [],
   "source": [
    "import sys, datetime, os\n",
    "import numpy as np\n",
    "import pandas as pd\n",
    "import importlib\n",
    "import utility_functions as uf\n",
    "import matplotlib.pyplot as plt\n",
    "%matplotlib inline\n",
    "from collections import Counter"
   ]
  },
  {
   "cell_type": "code",
   "execution_count": 2,
   "metadata": {},
   "outputs": [],
   "source": [
    "import seaborn as sns\n",
    "sns.set(color_codes=True)\n",
    "np.random.seed(sum(map(ord, \"distributions\")))"
   ]
  },
  {
   "cell_type": "code",
   "execution_count": 3,
   "metadata": {},
   "outputs": [],
   "source": [
    "from clustergrammer_widget import *\n",
    "net = Network(clustergrammer_widget)"
   ]
  },
  {
   "cell_type": "code",
   "execution_count": 4,
   "metadata": {},
   "outputs": [
    {
     "data": {
      "text/plain": [
       "<module 'utility_functions' from '/Users/moshesilverstein/Documents/Harmonizome/DSigDB/utility_functions.py'>"
      ]
     },
     "execution_count": 4,
     "metadata": {},
     "output_type": "execute_result"
    }
   ],
   "source": [
    "importlib.reload(uf)"
   ]
  },
  {
   "cell_type": "markdown",
   "metadata": {},
   "source": [
    "# Path to Output Files"
   ]
  },
  {
   "cell_type": "code",
   "execution_count": 5,
   "metadata": {},
   "outputs": [],
   "source": [
    "path = '/Users/moshesilverstein/Documents/Harmonizome/DSigDB/Output/'"
   ]
  },
  {
   "cell_type": "markdown",
   "metadata": {},
   "source": [
    "# Load Data"
   ]
  },
  {
   "cell_type": "code",
   "execution_count": 6,
   "metadata": {},
   "outputs": [],
   "source": [
    "data = pd.read_csv('Input/DSigDB_All_detailed.txt', sep='\\t')"
   ]
  },
  {
   "cell_type": "code",
   "execution_count": 7,
   "metadata": {},
   "outputs": [
    {
     "data": {
      "text/html": [
       "<div>\n",
       "<style scoped>\n",
       "    .dataframe tbody tr th:only-of-type {\n",
       "        vertical-align: middle;\n",
       "    }\n",
       "\n",
       "    .dataframe tbody tr th {\n",
       "        vertical-align: top;\n",
       "    }\n",
       "\n",
       "    .dataframe thead th {\n",
       "        text-align: right;\n",
       "    }\n",
       "</style>\n",
       "<table border=\"1\" class=\"dataframe\">\n",
       "  <thead>\n",
       "    <tr style=\"text-align: right;\">\n",
       "      <th></th>\n",
       "      <th>Drug</th>\n",
       "      <th>Gene</th>\n",
       "      <th>Type</th>\n",
       "      <th>Source</th>\n",
       "    </tr>\n",
       "  </thead>\n",
       "  <tbody>\n",
       "    <tr>\n",
       "      <th>0</th>\n",
       "      <td>citric acid</td>\n",
       "      <td>ABHD5</td>\n",
       "      <td>IC50=3.545(uM)</td>\n",
       "      <td>D1 PubChem</td>\n",
       "    </tr>\n",
       "    <tr>\n",
       "      <th>1</th>\n",
       "      <td>citric acid</td>\n",
       "      <td>PLIN5</td>\n",
       "      <td>IC50=3.545(uM)</td>\n",
       "      <td>D1 PubChem</td>\n",
       "    </tr>\n",
       "    <tr>\n",
       "      <th>2</th>\n",
       "      <td>citric acid</td>\n",
       "      <td>PLIN1</td>\n",
       "      <td>IC50=3.708(uM)</td>\n",
       "      <td>D1 PubChem</td>\n",
       "    </tr>\n",
       "    <tr>\n",
       "      <th>3</th>\n",
       "      <td>citric acid</td>\n",
       "      <td>ABHD5</td>\n",
       "      <td>IC50=5.632(uM)</td>\n",
       "      <td>D1 PubChem</td>\n",
       "    </tr>\n",
       "    <tr>\n",
       "      <th>4</th>\n",
       "      <td>citric acid</td>\n",
       "      <td>PLIN5</td>\n",
       "      <td>IC50=5.632(uM)</td>\n",
       "      <td>D1 PubChem</td>\n",
       "    </tr>\n",
       "  </tbody>\n",
       "</table>\n",
       "</div>"
      ],
      "text/plain": [
       "          Drug   Gene            Type      Source\n",
       "0  citric acid  ABHD5  IC50=3.545(uM)  D1 PubChem\n",
       "1  citric acid  PLIN5  IC50=3.545(uM)  D1 PubChem\n",
       "2  citric acid  PLIN1  IC50=3.708(uM)  D1 PubChem\n",
       "3  citric acid  ABHD5  IC50=5.632(uM)  D1 PubChem\n",
       "4  citric acid  PLIN5  IC50=5.632(uM)  D1 PubChem"
      ]
     },
     "execution_count": 7,
     "metadata": {},
     "output_type": "execute_result"
    }
   ],
   "source": [
    "data.head()"
   ]
  },
  {
   "cell_type": "code",
   "execution_count": 8,
   "metadata": {},
   "outputs": [
    {
     "data": {
      "text/plain": [
       "(688782, 4)"
      ]
     },
     "execution_count": 8,
     "metadata": {},
     "output_type": "execute_result"
    }
   ],
   "source": [
    "data.shape"
   ]
  },
  {
   "cell_type": "markdown",
   "metadata": {},
   "source": [
    "# Get Perturbagen Signatures"
   ]
  },
  {
   "cell_type": "code",
   "execution_count": 11,
   "metadata": {},
   "outputs": [],
   "source": [
    "lst = []\n",
    "\n",
    "for index in data.index:\n",
    "    if type(data.loc[index, 'Source']) == str:\n",
    "        if 'CMAP' in data.loc[index, 'Source']:\n",
    "            lst.append(index) \n",
    "            \n",
    "data = data.loc[lst, :]"
   ]
  },
  {
   "cell_type": "code",
   "execution_count": 12,
   "metadata": {},
   "outputs": [
    {
     "data": {
      "text/html": [
       "<div>\n",
       "<style scoped>\n",
       "    .dataframe tbody tr th:only-of-type {\n",
       "        vertical-align: middle;\n",
       "    }\n",
       "\n",
       "    .dataframe tbody tr th {\n",
       "        vertical-align: top;\n",
       "    }\n",
       "\n",
       "    .dataframe thead th {\n",
       "        text-align: right;\n",
       "    }\n",
       "</style>\n",
       "<table border=\"1\" class=\"dataframe\">\n",
       "  <thead>\n",
       "    <tr style=\"text-align: right;\">\n",
       "      <th></th>\n",
       "      <th>Drug</th>\n",
       "      <th>Gene</th>\n",
       "      <th>Type</th>\n",
       "      <th>Source</th>\n",
       "    </tr>\n",
       "  </thead>\n",
       "  <tbody>\n",
       "    <tr>\n",
       "      <th>45966</th>\n",
       "      <td>(+)-chelidonine</td>\n",
       "      <td>ABHD2</td>\n",
       "      <td>0.0000108=UP(HL60)</td>\n",
       "      <td>CMAP</td>\n",
       "    </tr>\n",
       "    <tr>\n",
       "      <th>45967</th>\n",
       "      <td>(+)-chelidonine</td>\n",
       "      <td>ACSL1</td>\n",
       "      <td>0.0000108=UP(HL60)</td>\n",
       "      <td>CMAP</td>\n",
       "    </tr>\n",
       "    <tr>\n",
       "      <th>45968</th>\n",
       "      <td>(+)-chelidonine</td>\n",
       "      <td>ADD3</td>\n",
       "      <td>0.0000108=UP(HL60)</td>\n",
       "      <td>CMAP</td>\n",
       "    </tr>\n",
       "    <tr>\n",
       "      <th>45969</th>\n",
       "      <td>(+)-chelidonine</td>\n",
       "      <td>ADORA3</td>\n",
       "      <td>0.0000108=UP(HL60)</td>\n",
       "      <td>CMAP</td>\n",
       "    </tr>\n",
       "    <tr>\n",
       "      <th>45970</th>\n",
       "      <td>(+)-chelidonine</td>\n",
       "      <td>AFF1</td>\n",
       "      <td>0.0000108=UP(HL60)</td>\n",
       "      <td>CMAP</td>\n",
       "    </tr>\n",
       "  </tbody>\n",
       "</table>\n",
       "</div>"
      ],
      "text/plain": [
       "                  Drug    Gene                Type Source\n",
       "45966  (+)-chelidonine   ABHD2  0.0000108=UP(HL60)   CMAP\n",
       "45967  (+)-chelidonine   ACSL1  0.0000108=UP(HL60)   CMAP\n",
       "45968  (+)-chelidonine    ADD3  0.0000108=UP(HL60)   CMAP\n",
       "45969  (+)-chelidonine  ADORA3  0.0000108=UP(HL60)   CMAP\n",
       "45970  (+)-chelidonine    AFF1  0.0000108=UP(HL60)   CMAP"
      ]
     },
     "execution_count": 12,
     "metadata": {},
     "output_type": "execute_result"
    }
   ],
   "source": [
    "data.head()"
   ]
  },
  {
   "cell_type": "code",
   "execution_count": 13,
   "metadata": {},
   "outputs": [
    {
     "data": {
      "text/plain": [
       "(190206, 4)"
      ]
     },
     "execution_count": 13,
     "metadata": {},
     "output_type": "execute_result"
    }
   ],
   "source": [
    "data.shape"
   ]
  },
  {
   "cell_type": "markdown",
   "metadata": {},
   "source": [
    "# Map Gene Symbols To Up-to-date Approved Gene Symbols"
   ]
  },
  {
   "cell_type": "code",
   "execution_count": 14,
   "metadata": {},
   "outputs": [],
   "source": [
    "data.set_index('Gene', inplace=True)"
   ]
  },
  {
   "cell_type": "code",
   "execution_count": 15,
   "metadata": {},
   "outputs": [
    {
     "name": "stdout",
     "output_type": "stream",
     "text": [
      "Progeres: 100%  190206 Out of 190206   \r"
     ]
    }
   ],
   "source": [
    "uf.mapgenesymbols(data)"
   ]
  },
  {
   "cell_type": "code",
   "execution_count": 16,
   "metadata": {},
   "outputs": [
    {
     "data": {
      "text/plain": [
       "(187604, 3)"
      ]
     },
     "execution_count": 16,
     "metadata": {},
     "output_type": "execute_result"
    }
   ],
   "source": [
    "data.shape"
   ]
  },
  {
   "cell_type": "markdown",
   "metadata": {},
   "source": [
    "# Drop Duplicates"
   ]
  },
  {
   "cell_type": "code",
   "execution_count": 17,
   "metadata": {},
   "outputs": [],
   "source": [
    "data.reset_index(inplace=True)"
   ]
  },
  {
   "cell_type": "code",
   "execution_count": 18,
   "metadata": {},
   "outputs": [],
   "source": [
    "data.drop_duplicates(subset=['Gene', 'Drug'], inplace=True)"
   ]
  },
  {
   "cell_type": "code",
   "execution_count": 19,
   "metadata": {},
   "outputs": [
    {
     "data": {
      "text/plain": [
       "(158860, 4)"
      ]
     },
     "execution_count": 19,
     "metadata": {},
     "output_type": "execute_result"
    }
   ],
   "source": [
    "data.shape"
   ]
  },
  {
   "cell_type": "markdown",
   "metadata": {},
   "source": [
    "# Create Binary Matrix"
   ]
  },
  {
   "cell_type": "code",
   "execution_count": 20,
   "metadata": {},
   "outputs": [
    {
     "name": "stdout",
     "output_type": "stream",
     "text": [
      "Progeres: 100%  10933 Out of 10933   \r"
     ]
    }
   ],
   "source": [
    "binary_matrix = uf.createBinaryMatrix(data[['Gene', 'Drug']])"
   ]
  },
  {
   "cell_type": "code",
   "execution_count": 21,
   "metadata": {},
   "outputs": [],
   "source": [
    "lst = [x.upper() for x in binary_matrix.columns]\n",
    "\n",
    "binary_matrix.columns = lst"
   ]
  },
  {
   "cell_type": "code",
   "execution_count": 22,
   "metadata": {},
   "outputs": [],
   "source": [
    "binary_matrix = binary_matrix.T.groupby(level=0).max().T"
   ]
  },
  {
   "cell_type": "code",
   "execution_count": 23,
   "metadata": {},
   "outputs": [
    {
     "data": {
      "text/html": [
       "<div>\n",
       "<style scoped>\n",
       "    .dataframe tbody tr th:only-of-type {\n",
       "        vertical-align: middle;\n",
       "    }\n",
       "\n",
       "    .dataframe tbody tr th {\n",
       "        vertical-align: top;\n",
       "    }\n",
       "\n",
       "    .dataframe thead th {\n",
       "        text-align: right;\n",
       "    }\n",
       "</style>\n",
       "<table border=\"1\" class=\"dataframe\">\n",
       "  <thead>\n",
       "    <tr style=\"text-align: right;\">\n",
       "      <th></th>\n",
       "      <th>(+)-CHELIDONINE</th>\n",
       "      <th>(+)-ISOPRENALINE</th>\n",
       "      <th>(-)-ATENOLOL</th>\n",
       "      <th>(-)-ISOPRENALINE</th>\n",
       "      <th>(-)-MK-801</th>\n",
       "      <th>0173570-0000</th>\n",
       "      <th>0175029-0000</th>\n",
       "      <th>0179445-0000</th>\n",
       "      <th>0198306-0000</th>\n",
       "      <th>0225151-0000</th>\n",
       "      <th>...</th>\n",
       "      <th>YOHIMBIC ACID</th>\n",
       "      <th>YOHIMBINE</th>\n",
       "      <th>ZALCITABINE</th>\n",
       "      <th>ZAPRINAST</th>\n",
       "      <th>ZARDAVERINE</th>\n",
       "      <th>ZIDOVUDINE</th>\n",
       "      <th>ZIMELDINE</th>\n",
       "      <th>ZOMEPIRAC</th>\n",
       "      <th>ZOXAZOLAMINE</th>\n",
       "      <th>ZUCLOPENTHIXOL</th>\n",
       "    </tr>\n",
       "  </thead>\n",
       "  <tbody>\n",
       "    <tr>\n",
       "      <th>ZNF407</th>\n",
       "      <td>0</td>\n",
       "      <td>0</td>\n",
       "      <td>0</td>\n",
       "      <td>0</td>\n",
       "      <td>0</td>\n",
       "      <td>0</td>\n",
       "      <td>0</td>\n",
       "      <td>0</td>\n",
       "      <td>0</td>\n",
       "      <td>0</td>\n",
       "      <td>...</td>\n",
       "      <td>0</td>\n",
       "      <td>0</td>\n",
       "      <td>0</td>\n",
       "      <td>0</td>\n",
       "      <td>0</td>\n",
       "      <td>0</td>\n",
       "      <td>0</td>\n",
       "      <td>0</td>\n",
       "      <td>0</td>\n",
       "      <td>1</td>\n",
       "    </tr>\n",
       "    <tr>\n",
       "      <th>SV2B</th>\n",
       "      <td>0</td>\n",
       "      <td>0</td>\n",
       "      <td>0</td>\n",
       "      <td>0</td>\n",
       "      <td>0</td>\n",
       "      <td>0</td>\n",
       "      <td>0</td>\n",
       "      <td>0</td>\n",
       "      <td>0</td>\n",
       "      <td>0</td>\n",
       "      <td>...</td>\n",
       "      <td>0</td>\n",
       "      <td>0</td>\n",
       "      <td>0</td>\n",
       "      <td>0</td>\n",
       "      <td>0</td>\n",
       "      <td>0</td>\n",
       "      <td>0</td>\n",
       "      <td>0</td>\n",
       "      <td>0</td>\n",
       "      <td>0</td>\n",
       "    </tr>\n",
       "    <tr>\n",
       "      <th>ZNF16</th>\n",
       "      <td>0</td>\n",
       "      <td>0</td>\n",
       "      <td>0</td>\n",
       "      <td>0</td>\n",
       "      <td>0</td>\n",
       "      <td>0</td>\n",
       "      <td>1</td>\n",
       "      <td>0</td>\n",
       "      <td>0</td>\n",
       "      <td>0</td>\n",
       "      <td>...</td>\n",
       "      <td>0</td>\n",
       "      <td>0</td>\n",
       "      <td>0</td>\n",
       "      <td>0</td>\n",
       "      <td>0</td>\n",
       "      <td>0</td>\n",
       "      <td>0</td>\n",
       "      <td>0</td>\n",
       "      <td>0</td>\n",
       "      <td>0</td>\n",
       "    </tr>\n",
       "    <tr>\n",
       "      <th>LRCH3</th>\n",
       "      <td>0</td>\n",
       "      <td>0</td>\n",
       "      <td>0</td>\n",
       "      <td>0</td>\n",
       "      <td>0</td>\n",
       "      <td>0</td>\n",
       "      <td>1</td>\n",
       "      <td>0</td>\n",
       "      <td>0</td>\n",
       "      <td>0</td>\n",
       "      <td>...</td>\n",
       "      <td>0</td>\n",
       "      <td>0</td>\n",
       "      <td>0</td>\n",
       "      <td>0</td>\n",
       "      <td>0</td>\n",
       "      <td>0</td>\n",
       "      <td>0</td>\n",
       "      <td>0</td>\n",
       "      <td>0</td>\n",
       "      <td>0</td>\n",
       "    </tr>\n",
       "    <tr>\n",
       "      <th>PALMD</th>\n",
       "      <td>0</td>\n",
       "      <td>0</td>\n",
       "      <td>0</td>\n",
       "      <td>0</td>\n",
       "      <td>0</td>\n",
       "      <td>0</td>\n",
       "      <td>1</td>\n",
       "      <td>0</td>\n",
       "      <td>0</td>\n",
       "      <td>0</td>\n",
       "      <td>...</td>\n",
       "      <td>0</td>\n",
       "      <td>0</td>\n",
       "      <td>0</td>\n",
       "      <td>0</td>\n",
       "      <td>0</td>\n",
       "      <td>0</td>\n",
       "      <td>0</td>\n",
       "      <td>0</td>\n",
       "      <td>0</td>\n",
       "      <td>0</td>\n",
       "    </tr>\n",
       "  </tbody>\n",
       "</table>\n",
       "<p>5 rows × 1163 columns</p>\n",
       "</div>"
      ],
      "text/plain": [
       "        (+)-CHELIDONINE  (+)-ISOPRENALINE  (-)-ATENOLOL  (-)-ISOPRENALINE  \\\n",
       "ZNF407                0                 0             0                 0   \n",
       "SV2B                  0                 0             0                 0   \n",
       "ZNF16                 0                 0             0                 0   \n",
       "LRCH3                 0                 0             0                 0   \n",
       "PALMD                 0                 0             0                 0   \n",
       "\n",
       "        (-)-MK-801  0173570-0000  0175029-0000  0179445-0000  0198306-0000  \\\n",
       "ZNF407           0             0             0             0             0   \n",
       "SV2B             0             0             0             0             0   \n",
       "ZNF16            0             0             1             0             0   \n",
       "LRCH3            0             0             1             0             0   \n",
       "PALMD            0             0             1             0             0   \n",
       "\n",
       "        0225151-0000       ...        YOHIMBIC ACID  YOHIMBINE  ZALCITABINE  \\\n",
       "ZNF407             0       ...                    0          0            0   \n",
       "SV2B               0       ...                    0          0            0   \n",
       "ZNF16              0       ...                    0          0            0   \n",
       "LRCH3              0       ...                    0          0            0   \n",
       "PALMD              0       ...                    0          0            0   \n",
       "\n",
       "        ZAPRINAST  ZARDAVERINE  ZIDOVUDINE  ZIMELDINE  ZOMEPIRAC  \\\n",
       "ZNF407          0            0           0          0          0   \n",
       "SV2B            0            0           0          0          0   \n",
       "ZNF16           0            0           0          0          0   \n",
       "LRCH3           0            0           0          0          0   \n",
       "PALMD           0            0           0          0          0   \n",
       "\n",
       "        ZOXAZOLAMINE  ZUCLOPENTHIXOL  \n",
       "ZNF407             0               1  \n",
       "SV2B               0               0  \n",
       "ZNF16              0               0  \n",
       "LRCH3              0               0  \n",
       "PALMD              0               0  \n",
       "\n",
       "[5 rows x 1163 columns]"
      ]
     },
     "execution_count": 23,
     "metadata": {},
     "output_type": "execute_result"
    }
   ],
   "source": [
    "binary_matrix.head()"
   ]
  },
  {
   "cell_type": "code",
   "execution_count": 24,
   "metadata": {},
   "outputs": [
    {
     "data": {
      "text/plain": [
       "(10933, 1163)"
      ]
     },
     "execution_count": 24,
     "metadata": {},
     "output_type": "execute_result"
    }
   ],
   "source": [
    "binary_matrix.shape"
   ]
  },
  {
   "cell_type": "markdown",
   "metadata": {},
   "source": [
    "# Save Binary Matrix"
   ]
  },
  {
   "cell_type": "code",
   "execution_count": 25,
   "metadata": {},
   "outputs": [],
   "source": [
    "filename = path+'dsigdb_pertubagen_signatures_binary_matrix_%s.tsv.zip'% str(datetime.date.today())[0:7].replace('-', '_')\n",
    "binary_matrix.to_csv(filename, sep='\\t', compression='gzip')"
   ]
  },
  {
   "cell_type": "markdown",
   "metadata": {},
   "source": [
    "# Create Gene Set Library"
   ]
  },
  {
   "cell_type": "code",
   "execution_count": 26,
   "metadata": {},
   "outputs": [],
   "source": [
    "name = 'dsigdb_pertubagen_signatures_gene_set'"
   ]
  },
  {
   "cell_type": "code",
   "execution_count": 27,
   "metadata": {},
   "outputs": [
    {
     "name": "stdout",
     "output_type": "stream",
     "text": [
      "Progeres: 100%  1163 Out of 1163   \r"
     ]
    }
   ],
   "source": [
    "uf.createUpGeneSetLib(binary_matrix, path, name)"
   ]
  },
  {
   "cell_type": "markdown",
   "metadata": {},
   "source": [
    "# Create Attribute Library"
   ]
  },
  {
   "cell_type": "code",
   "execution_count": 28,
   "metadata": {},
   "outputs": [],
   "source": [
    "name = 'dsigdb_pertubagen_signatures_attribute_set'"
   ]
  },
  {
   "cell_type": "code",
   "execution_count": 29,
   "metadata": {},
   "outputs": [
    {
     "name": "stdout",
     "output_type": "stream",
     "text": [
      "Progeres: 100%  10933 Out of 10933   \r"
     ]
    }
   ],
   "source": [
    "uf.createUpAttributeSetLib(binary_matrix, path, name)"
   ]
  },
  {
   "cell_type": "markdown",
   "metadata": {},
   "source": [
    "# Create Gene Similarity Matrix"
   ]
  },
  {
   "cell_type": "code",
   "execution_count": 30,
   "metadata": {},
   "outputs": [],
   "source": [
    "gene_similarity_matix = uf.createSimilarityMatrix(binary_matrix, 'jaccard')"
   ]
  },
  {
   "cell_type": "code",
   "execution_count": 31,
   "metadata": {},
   "outputs": [
    {
     "data": {
      "text/html": [
       "<div>\n",
       "<style scoped>\n",
       "    .dataframe tbody tr th:only-of-type {\n",
       "        vertical-align: middle;\n",
       "    }\n",
       "\n",
       "    .dataframe tbody tr th {\n",
       "        vertical-align: top;\n",
       "    }\n",
       "\n",
       "    .dataframe thead th {\n",
       "        text-align: right;\n",
       "    }\n",
       "</style>\n",
       "<table border=\"1\" class=\"dataframe\">\n",
       "  <thead>\n",
       "    <tr style=\"text-align: right;\">\n",
       "      <th></th>\n",
       "      <th>ZNF407</th>\n",
       "      <th>SV2B</th>\n",
       "      <th>ZNF16</th>\n",
       "      <th>LRCH3</th>\n",
       "      <th>PALMD</th>\n",
       "      <th>ATP6V1G2-DDX39B</th>\n",
       "      <th>ETHE1</th>\n",
       "      <th>NINL</th>\n",
       "      <th>NBPF7</th>\n",
       "      <th>ZNF266</th>\n",
       "      <th>...</th>\n",
       "      <th>TREX1</th>\n",
       "      <th>MXD3</th>\n",
       "      <th>ELOVL6</th>\n",
       "      <th>KCNB2</th>\n",
       "      <th>IL2</th>\n",
       "      <th>AGBL3</th>\n",
       "      <th>MAGEA1</th>\n",
       "      <th>GRK6</th>\n",
       "      <th>SCAMP3</th>\n",
       "      <th>TSFM</th>\n",
       "    </tr>\n",
       "    <tr>\n",
       "      <th></th>\n",
       "      <th></th>\n",
       "      <th></th>\n",
       "      <th></th>\n",
       "      <th></th>\n",
       "      <th></th>\n",
       "      <th></th>\n",
       "      <th></th>\n",
       "      <th></th>\n",
       "      <th></th>\n",
       "      <th></th>\n",
       "      <th></th>\n",
       "      <th></th>\n",
       "      <th></th>\n",
       "      <th></th>\n",
       "      <th></th>\n",
       "      <th></th>\n",
       "      <th></th>\n",
       "      <th></th>\n",
       "      <th></th>\n",
       "      <th></th>\n",
       "      <th></th>\n",
       "    </tr>\n",
       "  </thead>\n",
       "  <tbody>\n",
       "    <tr>\n",
       "      <th>ZNF407</th>\n",
       "      <td>1.000000</td>\n",
       "      <td>0.0</td>\n",
       "      <td>0.000000</td>\n",
       "      <td>0.000000</td>\n",
       "      <td>0.030303</td>\n",
       "      <td>0.000000</td>\n",
       "      <td>0.000000</td>\n",
       "      <td>0.000000</td>\n",
       "      <td>0.000000</td>\n",
       "      <td>0.000000</td>\n",
       "      <td>...</td>\n",
       "      <td>0.000000</td>\n",
       "      <td>0.0000</td>\n",
       "      <td>0.173077</td>\n",
       "      <td>0.346154</td>\n",
       "      <td>0.384615</td>\n",
       "      <td>0.200000</td>\n",
       "      <td>0.0</td>\n",
       "      <td>0.125000</td>\n",
       "      <td>0.0625</td>\n",
       "      <td>0.133333</td>\n",
       "    </tr>\n",
       "    <tr>\n",
       "      <th>SV2B</th>\n",
       "      <td>0.000000</td>\n",
       "      <td>1.0</td>\n",
       "      <td>0.000000</td>\n",
       "      <td>0.000000</td>\n",
       "      <td>0.000000</td>\n",
       "      <td>0.000000</td>\n",
       "      <td>0.000000</td>\n",
       "      <td>0.000000</td>\n",
       "      <td>0.030303</td>\n",
       "      <td>0.000000</td>\n",
       "      <td>...</td>\n",
       "      <td>0.000000</td>\n",
       "      <td>0.0000</td>\n",
       "      <td>0.000000</td>\n",
       "      <td>0.000000</td>\n",
       "      <td>0.047619</td>\n",
       "      <td>0.000000</td>\n",
       "      <td>1.0</td>\n",
       "      <td>0.000000</td>\n",
       "      <td>0.0000</td>\n",
       "      <td>0.052632</td>\n",
       "    </tr>\n",
       "    <tr>\n",
       "      <th>ZNF16</th>\n",
       "      <td>0.000000</td>\n",
       "      <td>0.0</td>\n",
       "      <td>1.000000</td>\n",
       "      <td>0.333333</td>\n",
       "      <td>0.208333</td>\n",
       "      <td>0.108108</td>\n",
       "      <td>0.083333</td>\n",
       "      <td>0.000000</td>\n",
       "      <td>0.194444</td>\n",
       "      <td>0.318182</td>\n",
       "      <td>...</td>\n",
       "      <td>0.050000</td>\n",
       "      <td>0.0000</td>\n",
       "      <td>0.018182</td>\n",
       "      <td>0.000000</td>\n",
       "      <td>0.000000</td>\n",
       "      <td>0.000000</td>\n",
       "      <td>0.0</td>\n",
       "      <td>0.000000</td>\n",
       "      <td>0.0000</td>\n",
       "      <td>0.074074</td>\n",
       "    </tr>\n",
       "    <tr>\n",
       "      <th>LRCH3</th>\n",
       "      <td>0.000000</td>\n",
       "      <td>0.0</td>\n",
       "      <td>0.333333</td>\n",
       "      <td>1.000000</td>\n",
       "      <td>0.178571</td>\n",
       "      <td>0.125000</td>\n",
       "      <td>0.000000</td>\n",
       "      <td>0.047619</td>\n",
       "      <td>0.236842</td>\n",
       "      <td>0.320000</td>\n",
       "      <td>...</td>\n",
       "      <td>0.136364</td>\n",
       "      <td>0.0625</td>\n",
       "      <td>0.016949</td>\n",
       "      <td>0.000000</td>\n",
       "      <td>0.000000</td>\n",
       "      <td>0.000000</td>\n",
       "      <td>0.0</td>\n",
       "      <td>0.000000</td>\n",
       "      <td>0.0000</td>\n",
       "      <td>0.031250</td>\n",
       "    </tr>\n",
       "    <tr>\n",
       "      <th>PALMD</th>\n",
       "      <td>0.030303</td>\n",
       "      <td>0.0</td>\n",
       "      <td>0.208333</td>\n",
       "      <td>0.178571</td>\n",
       "      <td>1.000000</td>\n",
       "      <td>0.086957</td>\n",
       "      <td>0.100000</td>\n",
       "      <td>0.000000</td>\n",
       "      <td>0.106383</td>\n",
       "      <td>0.187500</td>\n",
       "      <td>...</td>\n",
       "      <td>0.034483</td>\n",
       "      <td>0.0000</td>\n",
       "      <td>0.031746</td>\n",
       "      <td>0.054054</td>\n",
       "      <td>0.052632</td>\n",
       "      <td>0.047619</td>\n",
       "      <td>0.0</td>\n",
       "      <td>0.025641</td>\n",
       "      <td>0.0500</td>\n",
       "      <td>0.027027</td>\n",
       "    </tr>\n",
       "  </tbody>\n",
       "</table>\n",
       "<p>5 rows × 10933 columns</p>\n",
       "</div>"
      ],
      "text/plain": [
       "          ZNF407  SV2B     ZNF16     LRCH3     PALMD  ATP6V1G2-DDX39B  \\\n",
       "                                                                        \n",
       "ZNF407  1.000000   0.0  0.000000  0.000000  0.030303         0.000000   \n",
       "SV2B    0.000000   1.0  0.000000  0.000000  0.000000         0.000000   \n",
       "ZNF16   0.000000   0.0  1.000000  0.333333  0.208333         0.108108   \n",
       "LRCH3   0.000000   0.0  0.333333  1.000000  0.178571         0.125000   \n",
       "PALMD   0.030303   0.0  0.208333  0.178571  1.000000         0.086957   \n",
       "\n",
       "           ETHE1      NINL     NBPF7    ZNF266    ...        TREX1    MXD3  \\\n",
       "                                                  ...                        \n",
       "ZNF407  0.000000  0.000000  0.000000  0.000000    ...     0.000000  0.0000   \n",
       "SV2B    0.000000  0.000000  0.030303  0.000000    ...     0.000000  0.0000   \n",
       "ZNF16   0.083333  0.000000  0.194444  0.318182    ...     0.050000  0.0000   \n",
       "LRCH3   0.000000  0.047619  0.236842  0.320000    ...     0.136364  0.0625   \n",
       "PALMD   0.100000  0.000000  0.106383  0.187500    ...     0.034483  0.0000   \n",
       "\n",
       "          ELOVL6     KCNB2       IL2     AGBL3  MAGEA1      GRK6  SCAMP3  \\\n",
       "                                                                           \n",
       "ZNF407  0.173077  0.346154  0.384615  0.200000     0.0  0.125000  0.0625   \n",
       "SV2B    0.000000  0.000000  0.047619  0.000000     1.0  0.000000  0.0000   \n",
       "ZNF16   0.018182  0.000000  0.000000  0.000000     0.0  0.000000  0.0000   \n",
       "LRCH3   0.016949  0.000000  0.000000  0.000000     0.0  0.000000  0.0000   \n",
       "PALMD   0.031746  0.054054  0.052632  0.047619     0.0  0.025641  0.0500   \n",
       "\n",
       "            TSFM  \n",
       "                  \n",
       "ZNF407  0.133333  \n",
       "SV2B    0.052632  \n",
       "ZNF16   0.074074  \n",
       "LRCH3   0.031250  \n",
       "PALMD   0.027027  \n",
       "\n",
       "[5 rows x 10933 columns]"
      ]
     },
     "execution_count": 31,
     "metadata": {},
     "output_type": "execute_result"
    }
   ],
   "source": [
    "gene_similarity_matix.head()"
   ]
  },
  {
   "cell_type": "markdown",
   "metadata": {},
   "source": [
    "# Save Gene Similarity Matrix"
   ]
  },
  {
   "cell_type": "code",
   "execution_count": 32,
   "metadata": {},
   "outputs": [],
   "source": [
    "filename = path+'dsigdb_pertubagen_signatures_gene_similarity_matix_%s.tsv.zip'% str(datetime.date.today())[0:7].replace('-', '_')\n",
    "gene_similarity_matix.to_csv(filename, sep='\\t', compression='gzip')"
   ]
  },
  {
   "cell_type": "markdown",
   "metadata": {},
   "source": [
    "# Create Attribute Similarity matrix"
   ]
  },
  {
   "cell_type": "code",
   "execution_count": 33,
   "metadata": {},
   "outputs": [],
   "source": [
    "attribute_similarity_matix = uf.createSimilarityMatrix(binary_matrix.T, 'jaccard')"
   ]
  },
  {
   "cell_type": "code",
   "execution_count": 34,
   "metadata": {},
   "outputs": [
    {
     "data": {
      "text/html": [
       "<div>\n",
       "<style scoped>\n",
       "    .dataframe tbody tr th:only-of-type {\n",
       "        vertical-align: middle;\n",
       "    }\n",
       "\n",
       "    .dataframe tbody tr th {\n",
       "        vertical-align: top;\n",
       "    }\n",
       "\n",
       "    .dataframe thead th {\n",
       "        text-align: right;\n",
       "    }\n",
       "</style>\n",
       "<table border=\"1\" class=\"dataframe\">\n",
       "  <thead>\n",
       "    <tr style=\"text-align: right;\">\n",
       "      <th></th>\n",
       "      <th>(+)-CHELIDONINE</th>\n",
       "      <th>(+)-ISOPRENALINE</th>\n",
       "      <th>(-)-ATENOLOL</th>\n",
       "      <th>(-)-ISOPRENALINE</th>\n",
       "      <th>(-)-MK-801</th>\n",
       "      <th>0173570-0000</th>\n",
       "      <th>0175029-0000</th>\n",
       "      <th>0179445-0000</th>\n",
       "      <th>0198306-0000</th>\n",
       "      <th>0225151-0000</th>\n",
       "      <th>...</th>\n",
       "      <th>YOHIMBIC ACID</th>\n",
       "      <th>YOHIMBINE</th>\n",
       "      <th>ZALCITABINE</th>\n",
       "      <th>ZAPRINAST</th>\n",
       "      <th>ZARDAVERINE</th>\n",
       "      <th>ZIDOVUDINE</th>\n",
       "      <th>ZIMELDINE</th>\n",
       "      <th>ZOMEPIRAC</th>\n",
       "      <th>ZOXAZOLAMINE</th>\n",
       "      <th>ZUCLOPENTHIXOL</th>\n",
       "    </tr>\n",
       "    <tr>\n",
       "      <th></th>\n",
       "      <th></th>\n",
       "      <th></th>\n",
       "      <th></th>\n",
       "      <th></th>\n",
       "      <th></th>\n",
       "      <th></th>\n",
       "      <th></th>\n",
       "      <th></th>\n",
       "      <th></th>\n",
       "      <th></th>\n",
       "      <th></th>\n",
       "      <th></th>\n",
       "      <th></th>\n",
       "      <th></th>\n",
       "      <th></th>\n",
       "      <th></th>\n",
       "      <th></th>\n",
       "      <th></th>\n",
       "      <th></th>\n",
       "      <th></th>\n",
       "      <th></th>\n",
       "    </tr>\n",
       "  </thead>\n",
       "  <tbody>\n",
       "    <tr>\n",
       "      <th>(+)-CHELIDONINE</th>\n",
       "      <td>1.000000</td>\n",
       "      <td>0.100917</td>\n",
       "      <td>0.000000</td>\n",
       "      <td>0.127883</td>\n",
       "      <td>0.006173</td>\n",
       "      <td>0.027027</td>\n",
       "      <td>0.017338</td>\n",
       "      <td>0.021327</td>\n",
       "      <td>0.011236</td>\n",
       "      <td>0.005917</td>\n",
       "      <td>...</td>\n",
       "      <td>0.003717</td>\n",
       "      <td>0.0</td>\n",
       "      <td>0.018311</td>\n",
       "      <td>0.0</td>\n",
       "      <td>0.137931</td>\n",
       "      <td>0.008403</td>\n",
       "      <td>0.010526</td>\n",
       "      <td>0.000000</td>\n",
       "      <td>0.000000</td>\n",
       "      <td>0.021521</td>\n",
       "    </tr>\n",
       "    <tr>\n",
       "      <th>(+)-ISOPRENALINE</th>\n",
       "      <td>0.100917</td>\n",
       "      <td>1.000000</td>\n",
       "      <td>0.000000</td>\n",
       "      <td>0.161616</td>\n",
       "      <td>0.011905</td>\n",
       "      <td>0.102941</td>\n",
       "      <td>0.008912</td>\n",
       "      <td>0.005795</td>\n",
       "      <td>0.000000</td>\n",
       "      <td>0.010989</td>\n",
       "      <td>...</td>\n",
       "      <td>0.005236</td>\n",
       "      <td>0.0</td>\n",
       "      <td>0.007344</td>\n",
       "      <td>0.0</td>\n",
       "      <td>0.200000</td>\n",
       "      <td>0.006211</td>\n",
       "      <td>0.008850</td>\n",
       "      <td>0.000000</td>\n",
       "      <td>0.000000</td>\n",
       "      <td>0.014400</td>\n",
       "    </tr>\n",
       "    <tr>\n",
       "      <th>(-)-ATENOLOL</th>\n",
       "      <td>0.000000</td>\n",
       "      <td>0.000000</td>\n",
       "      <td>1.000000</td>\n",
       "      <td>0.002525</td>\n",
       "      <td>0.000000</td>\n",
       "      <td>0.000000</td>\n",
       "      <td>0.002730</td>\n",
       "      <td>0.000000</td>\n",
       "      <td>0.026316</td>\n",
       "      <td>0.000000</td>\n",
       "      <td>...</td>\n",
       "      <td>0.057377</td>\n",
       "      <td>0.0</td>\n",
       "      <td>0.003805</td>\n",
       "      <td>0.0</td>\n",
       "      <td>0.005319</td>\n",
       "      <td>0.178571</td>\n",
       "      <td>0.020000</td>\n",
       "      <td>0.055556</td>\n",
       "      <td>0.000000</td>\n",
       "      <td>0.016014</td>\n",
       "    </tr>\n",
       "    <tr>\n",
       "      <th>(-)-ISOPRENALINE</th>\n",
       "      <td>0.127883</td>\n",
       "      <td>0.161616</td>\n",
       "      <td>0.002525</td>\n",
       "      <td>1.000000</td>\n",
       "      <td>0.000000</td>\n",
       "      <td>0.044289</td>\n",
       "      <td>0.037551</td>\n",
       "      <td>0.037723</td>\n",
       "      <td>0.007557</td>\n",
       "      <td>0.000000</td>\n",
       "      <td>...</td>\n",
       "      <td>0.006160</td>\n",
       "      <td>0.0</td>\n",
       "      <td>0.034043</td>\n",
       "      <td>0.0</td>\n",
       "      <td>0.244344</td>\n",
       "      <td>0.004367</td>\n",
       "      <td>0.004878</td>\n",
       "      <td>0.000000</td>\n",
       "      <td>0.002591</td>\n",
       "      <td>0.026432</td>\n",
       "    </tr>\n",
       "    <tr>\n",
       "      <th>(-)-MK-801</th>\n",
       "      <td>0.006173</td>\n",
       "      <td>0.011905</td>\n",
       "      <td>0.000000</td>\n",
       "      <td>0.000000</td>\n",
       "      <td>1.000000</td>\n",
       "      <td>0.000000</td>\n",
       "      <td>0.000273</td>\n",
       "      <td>0.000000</td>\n",
       "      <td>0.000000</td>\n",
       "      <td>0.153846</td>\n",
       "      <td>...</td>\n",
       "      <td>0.000000</td>\n",
       "      <td>0.0</td>\n",
       "      <td>0.000000</td>\n",
       "      <td>0.0</td>\n",
       "      <td>0.000000</td>\n",
       "      <td>0.024096</td>\n",
       "      <td>0.000000</td>\n",
       "      <td>0.000000</td>\n",
       "      <td>0.000000</td>\n",
       "      <td>0.000000</td>\n",
       "    </tr>\n",
       "  </tbody>\n",
       "</table>\n",
       "<p>5 rows × 1163 columns</p>\n",
       "</div>"
      ],
      "text/plain": [
       "                  (+)-CHELIDONINE  (+)-ISOPRENALINE  (-)-ATENOLOL  \\\n",
       "                                                                    \n",
       "(+)-CHELIDONINE          1.000000          0.100917      0.000000   \n",
       "(+)-ISOPRENALINE         0.100917          1.000000      0.000000   \n",
       "(-)-ATENOLOL             0.000000          0.000000      1.000000   \n",
       "(-)-ISOPRENALINE         0.127883          0.161616      0.002525   \n",
       "(-)-MK-801               0.006173          0.011905      0.000000   \n",
       "\n",
       "                  (-)-ISOPRENALINE  (-)-MK-801  0173570-0000  0175029-0000  \\\n",
       "                                                                             \n",
       "(+)-CHELIDONINE           0.127883    0.006173      0.027027      0.017338   \n",
       "(+)-ISOPRENALINE          0.161616    0.011905      0.102941      0.008912   \n",
       "(-)-ATENOLOL              0.002525    0.000000      0.000000      0.002730   \n",
       "(-)-ISOPRENALINE          1.000000    0.000000      0.044289      0.037551   \n",
       "(-)-MK-801                0.000000    1.000000      0.000000      0.000273   \n",
       "\n",
       "                  0179445-0000  0198306-0000  0225151-0000       ...        \\\n",
       "                                                                 ...         \n",
       "(+)-CHELIDONINE       0.021327      0.011236      0.005917       ...         \n",
       "(+)-ISOPRENALINE      0.005795      0.000000      0.010989       ...         \n",
       "(-)-ATENOLOL          0.000000      0.026316      0.000000       ...         \n",
       "(-)-ISOPRENALINE      0.037723      0.007557      0.000000       ...         \n",
       "(-)-MK-801            0.000000      0.000000      0.153846       ...         \n",
       "\n",
       "                  YOHIMBIC ACID  YOHIMBINE  ZALCITABINE  ZAPRINAST  \\\n",
       "                                                                     \n",
       "(+)-CHELIDONINE        0.003717        0.0     0.018311        0.0   \n",
       "(+)-ISOPRENALINE       0.005236        0.0     0.007344        0.0   \n",
       "(-)-ATENOLOL           0.057377        0.0     0.003805        0.0   \n",
       "(-)-ISOPRENALINE       0.006160        0.0     0.034043        0.0   \n",
       "(-)-MK-801             0.000000        0.0     0.000000        0.0   \n",
       "\n",
       "                  ZARDAVERINE  ZIDOVUDINE  ZIMELDINE  ZOMEPIRAC  ZOXAZOLAMINE  \\\n",
       "                                                                                \n",
       "(+)-CHELIDONINE      0.137931    0.008403   0.010526   0.000000      0.000000   \n",
       "(+)-ISOPRENALINE     0.200000    0.006211   0.008850   0.000000      0.000000   \n",
       "(-)-ATENOLOL         0.005319    0.178571   0.020000   0.055556      0.000000   \n",
       "(-)-ISOPRENALINE     0.244344    0.004367   0.004878   0.000000      0.002591   \n",
       "(-)-MK-801           0.000000    0.024096   0.000000   0.000000      0.000000   \n",
       "\n",
       "                  ZUCLOPENTHIXOL  \n",
       "                                  \n",
       "(+)-CHELIDONINE         0.021521  \n",
       "(+)-ISOPRENALINE        0.014400  \n",
       "(-)-ATENOLOL            0.016014  \n",
       "(-)-ISOPRENALINE        0.026432  \n",
       "(-)-MK-801              0.000000  \n",
       "\n",
       "[5 rows x 1163 columns]"
      ]
     },
     "execution_count": 34,
     "metadata": {},
     "output_type": "execute_result"
    }
   ],
   "source": [
    "attribute_similarity_matix.head()"
   ]
  },
  {
   "cell_type": "markdown",
   "metadata": {},
   "source": [
    "# Save Attribute Similarity Matrix"
   ]
  },
  {
   "cell_type": "code",
   "execution_count": 35,
   "metadata": {},
   "outputs": [],
   "source": [
    "filename = path+'dsigdb_pertubagen_signatures_attribute_similarity_matix_%s.tsv.zip'% str(datetime.date.today())[0:7].replace('-', '_')\n",
    "attribute_similarity_matix.to_csv(filename, sep='\\t', compression='gzip')"
   ]
  },
  {
   "cell_type": "markdown",
   "metadata": {},
   "source": [
    "# HeatMap (clustergrammer) of Similarity Matrix"
   ]
  },
  {
   "cell_type": "code",
   "execution_count": 36,
   "metadata": {},
   "outputs": [],
   "source": [
    "# net.load_df(attribute_similarity_matix.iloc[0:100,0:100].copy())\n",
    "# # net.filter_N_top('row', rank_type='sum', N_top=300)\n",
    "# net.cluster()\n",
    "# net.widget()"
   ]
  },
  {
   "cell_type": "markdown",
   "metadata": {},
   "source": [
    "# Create Gene List"
   ]
  },
  {
   "cell_type": "code",
   "execution_count": 37,
   "metadata": {},
   "outputs": [
    {
     "name": "stdout",
     "output_type": "stream",
     "text": [
      "Progeres: 100%  10933 Out of 10933   \r"
     ]
    }
   ],
   "source": [
    "gene_list = uf.createGeneList(binary_matrix)"
   ]
  },
  {
   "cell_type": "code",
   "execution_count": 38,
   "metadata": {},
   "outputs": [
    {
     "data": {
      "text/html": [
       "<div>\n",
       "<style scoped>\n",
       "    .dataframe tbody tr th:only-of-type {\n",
       "        vertical-align: middle;\n",
       "    }\n",
       "\n",
       "    .dataframe tbody tr th {\n",
       "        vertical-align: top;\n",
       "    }\n",
       "\n",
       "    .dataframe thead th {\n",
       "        text-align: right;\n",
       "    }\n",
       "</style>\n",
       "<table border=\"1\" class=\"dataframe\">\n",
       "  <thead>\n",
       "    <tr style=\"text-align: right;\">\n",
       "      <th></th>\n",
       "      <th>GeneSym</th>\n",
       "      <th>GeneID</th>\n",
       "    </tr>\n",
       "  </thead>\n",
       "  <tbody>\n",
       "    <tr>\n",
       "      <th>0</th>\n",
       "      <td>ZNF407</td>\n",
       "      <td>55628</td>\n",
       "    </tr>\n",
       "    <tr>\n",
       "      <th>1</th>\n",
       "      <td>SV2B</td>\n",
       "      <td>9899</td>\n",
       "    </tr>\n",
       "    <tr>\n",
       "      <th>2</th>\n",
       "      <td>ZNF16</td>\n",
       "      <td>7564</td>\n",
       "    </tr>\n",
       "    <tr>\n",
       "      <th>3</th>\n",
       "      <td>LRCH3</td>\n",
       "      <td>84859</td>\n",
       "    </tr>\n",
       "    <tr>\n",
       "      <th>4</th>\n",
       "      <td>PALMD</td>\n",
       "      <td>54873</td>\n",
       "    </tr>\n",
       "  </tbody>\n",
       "</table>\n",
       "</div>"
      ],
      "text/plain": [
       "  GeneSym GeneID\n",
       "0  ZNF407  55628\n",
       "1    SV2B   9899\n",
       "2   ZNF16   7564\n",
       "3   LRCH3  84859\n",
       "4   PALMD  54873"
      ]
     },
     "execution_count": 38,
     "metadata": {},
     "output_type": "execute_result"
    }
   ],
   "source": [
    "gene_list.head()"
   ]
  },
  {
   "cell_type": "code",
   "execution_count": 39,
   "metadata": {},
   "outputs": [
    {
     "data": {
      "text/plain": [
       "(10933, 2)"
      ]
     },
     "execution_count": 39,
     "metadata": {},
     "output_type": "execute_result"
    }
   ],
   "source": [
    "gene_list.shape"
   ]
  },
  {
   "cell_type": "markdown",
   "metadata": {},
   "source": [
    "# Save Gene List"
   ]
  },
  {
   "cell_type": "code",
   "execution_count": 40,
   "metadata": {},
   "outputs": [],
   "source": [
    "filename = path+'dsigdb_pertubagen_signatures_gene_list_%s.tsv.zip'% str(datetime.date.today())[0:7].replace('-', '_')\n",
    "gene_list.to_csv(filename, sep='\\t', index=False, compression='gzip')"
   ]
  },
  {
   "cell_type": "markdown",
   "metadata": {},
   "source": [
    "# Create Attribute List"
   ]
  },
  {
   "cell_type": "markdown",
   "metadata": {},
   "source": [
    "### Create Metadata Table"
   ]
  },
  {
   "cell_type": "code",
   "execution_count": 41,
   "metadata": {},
   "outputs": [
    {
     "data": {
      "text/html": [
       "<div>\n",
       "<style scoped>\n",
       "    .dataframe tbody tr th:only-of-type {\n",
       "        vertical-align: middle;\n",
       "    }\n",
       "\n",
       "    .dataframe tbody tr th {\n",
       "        vertical-align: top;\n",
       "    }\n",
       "\n",
       "    .dataframe thead th {\n",
       "        text-align: right;\n",
       "    }\n",
       "</style>\n",
       "<table border=\"1\" class=\"dataframe\">\n",
       "  <thead>\n",
       "    <tr style=\"text-align: right;\">\n",
       "      <th></th>\n",
       "      <th>Gene</th>\n",
       "      <th>Drug</th>\n",
       "      <th>Type</th>\n",
       "      <th>Source</th>\n",
       "    </tr>\n",
       "  </thead>\n",
       "  <tbody>\n",
       "    <tr>\n",
       "      <th>0</th>\n",
       "      <td>ABHD2</td>\n",
       "      <td>(+)-chelidonine</td>\n",
       "      <td>0.0000108=UP(HL60)</td>\n",
       "      <td>CMAP</td>\n",
       "    </tr>\n",
       "    <tr>\n",
       "      <th>1</th>\n",
       "      <td>ACSL1</td>\n",
       "      <td>(+)-chelidonine</td>\n",
       "      <td>0.0000108=UP(HL60)</td>\n",
       "      <td>CMAP</td>\n",
       "    </tr>\n",
       "    <tr>\n",
       "      <th>2</th>\n",
       "      <td>ADD3</td>\n",
       "      <td>(+)-chelidonine</td>\n",
       "      <td>0.0000108=UP(HL60)</td>\n",
       "      <td>CMAP</td>\n",
       "    </tr>\n",
       "    <tr>\n",
       "      <th>3</th>\n",
       "      <td>ADORA3</td>\n",
       "      <td>(+)-chelidonine</td>\n",
       "      <td>0.0000108=UP(HL60)</td>\n",
       "      <td>CMAP</td>\n",
       "    </tr>\n",
       "    <tr>\n",
       "      <th>4</th>\n",
       "      <td>AFF1</td>\n",
       "      <td>(+)-chelidonine</td>\n",
       "      <td>0.0000108=UP(HL60)</td>\n",
       "      <td>CMAP</td>\n",
       "    </tr>\n",
       "  </tbody>\n",
       "</table>\n",
       "</div>"
      ],
      "text/plain": [
       "     Gene             Drug                Type Source\n",
       "0   ABHD2  (+)-chelidonine  0.0000108=UP(HL60)   CMAP\n",
       "1   ACSL1  (+)-chelidonine  0.0000108=UP(HL60)   CMAP\n",
       "2    ADD3  (+)-chelidonine  0.0000108=UP(HL60)   CMAP\n",
       "3  ADORA3  (+)-chelidonine  0.0000108=UP(HL60)   CMAP\n",
       "4    AFF1  (+)-chelidonine  0.0000108=UP(HL60)   CMAP"
      ]
     },
     "execution_count": 41,
     "metadata": {},
     "output_type": "execute_result"
    }
   ],
   "source": [
    "data.head()"
   ]
  },
  {
   "cell_type": "code",
   "execution_count": 42,
   "metadata": {},
   "outputs": [],
   "source": [
    "temp = data[['Drug', 'Type', 'Source']].copy()"
   ]
  },
  {
   "cell_type": "code",
   "execution_count": 43,
   "metadata": {},
   "outputs": [],
   "source": [
    "lst = [x.upper() for x in temp['Drug']]\n",
    "\n",
    "temp['Drug'] = lst"
   ]
  },
  {
   "cell_type": "code",
   "execution_count": 44,
   "metadata": {},
   "outputs": [],
   "source": [
    "temp.set_index('Drug', inplace=True)"
   ]
  },
  {
   "cell_type": "code",
   "execution_count": 45,
   "metadata": {},
   "outputs": [
    {
     "data": {
      "text/html": [
       "<div>\n",
       "<style scoped>\n",
       "    .dataframe tbody tr th:only-of-type {\n",
       "        vertical-align: middle;\n",
       "    }\n",
       "\n",
       "    .dataframe tbody tr th {\n",
       "        vertical-align: top;\n",
       "    }\n",
       "\n",
       "    .dataframe thead th {\n",
       "        text-align: right;\n",
       "    }\n",
       "</style>\n",
       "<table border=\"1\" class=\"dataframe\">\n",
       "  <thead>\n",
       "    <tr style=\"text-align: right;\">\n",
       "      <th></th>\n",
       "      <th>Source</th>\n",
       "    </tr>\n",
       "    <tr>\n",
       "      <th></th>\n",
       "      <th></th>\n",
       "    </tr>\n",
       "  </thead>\n",
       "  <tbody>\n",
       "    <tr>\n",
       "      <th>(+)-CHELIDONINE</th>\n",
       "      <td>CMAP</td>\n",
       "    </tr>\n",
       "    <tr>\n",
       "      <th>(+)-ISOPRENALINE</th>\n",
       "      <td>CMAP</td>\n",
       "    </tr>\n",
       "    <tr>\n",
       "      <th>(-)-ATENOLOL</th>\n",
       "      <td>CMAP</td>\n",
       "    </tr>\n",
       "    <tr>\n",
       "      <th>(-)-ISOPRENALINE</th>\n",
       "      <td>CMAP</td>\n",
       "    </tr>\n",
       "    <tr>\n",
       "      <th>(-)-MK-801</th>\n",
       "      <td>CMAP</td>\n",
       "    </tr>\n",
       "  </tbody>\n",
       "</table>\n",
       "</div>"
      ],
      "text/plain": [
       "                 Source\n",
       "                       \n",
       "(+)-CHELIDONINE    CMAP\n",
       "(+)-ISOPRENALINE   CMAP\n",
       "(-)-ATENOLOL       CMAP\n",
       "(-)-ISOPRENALINE   CMAP\n",
       "(-)-MK-801         CMAP"
      ]
     },
     "execution_count": 45,
     "metadata": {},
     "output_type": "execute_result"
    }
   ],
   "source": [
    "source = []\n",
    "\n",
    "metaData = pd.DataFrame(columns=['Source'], index=binary_matrix.columns)\n",
    "\n",
    "for index in metaData.index:\n",
    "    if type(temp.loc[index, 'Source']) == str:\n",
    "        source.append(temp.loc[index, 'Source'])\n",
    "    else:\n",
    "        source.append((':').join(set([x for x in temp.loc[index, 'Source'].values.tolist()])))\n",
    "    \n",
    "metaData['Source'] = source\n",
    "\n",
    "metaData.head()"
   ]
  },
  {
   "cell_type": "code",
   "execution_count": 46,
   "metadata": {},
   "outputs": [
    {
     "name": "stdout",
     "output_type": "stream",
     "text": [
      "Progeres: 100%  1163 Out of 1163   \r"
     ]
    }
   ],
   "source": [
    "attribute_list = uf.createAttributeList(binary_matrix, metaData)"
   ]
  },
  {
   "cell_type": "code",
   "execution_count": 47,
   "metadata": {},
   "outputs": [
    {
     "data": {
      "text/html": [
       "<div>\n",
       "<style scoped>\n",
       "    .dataframe tbody tr th:only-of-type {\n",
       "        vertical-align: middle;\n",
       "    }\n",
       "\n",
       "    .dataframe tbody tr th {\n",
       "        vertical-align: top;\n",
       "    }\n",
       "\n",
       "    .dataframe thead th {\n",
       "        text-align: right;\n",
       "    }\n",
       "</style>\n",
       "<table border=\"1\" class=\"dataframe\">\n",
       "  <thead>\n",
       "    <tr style=\"text-align: right;\">\n",
       "      <th></th>\n",
       "      <th>Source</th>\n",
       "    </tr>\n",
       "    <tr>\n",
       "      <th>Attributes</th>\n",
       "      <th></th>\n",
       "    </tr>\n",
       "  </thead>\n",
       "  <tbody>\n",
       "    <tr>\n",
       "      <th>(+)-CHELIDONINE</th>\n",
       "      <td>CMAP</td>\n",
       "    </tr>\n",
       "    <tr>\n",
       "      <th>(+)-ISOPRENALINE</th>\n",
       "      <td>CMAP</td>\n",
       "    </tr>\n",
       "    <tr>\n",
       "      <th>(-)-ATENOLOL</th>\n",
       "      <td>CMAP</td>\n",
       "    </tr>\n",
       "    <tr>\n",
       "      <th>(-)-ISOPRENALINE</th>\n",
       "      <td>CMAP</td>\n",
       "    </tr>\n",
       "    <tr>\n",
       "      <th>(-)-MK-801</th>\n",
       "      <td>CMAP</td>\n",
       "    </tr>\n",
       "  </tbody>\n",
       "</table>\n",
       "</div>"
      ],
      "text/plain": [
       "                 Source\n",
       "Attributes             \n",
       "(+)-CHELIDONINE    CMAP\n",
       "(+)-ISOPRENALINE   CMAP\n",
       "(-)-ATENOLOL       CMAP\n",
       "(-)-ISOPRENALINE   CMAP\n",
       "(-)-MK-801         CMAP"
      ]
     },
     "execution_count": 47,
     "metadata": {},
     "output_type": "execute_result"
    }
   ],
   "source": [
    "attribute_list.head()"
   ]
  },
  {
   "cell_type": "code",
   "execution_count": 48,
   "metadata": {},
   "outputs": [
    {
     "data": {
      "text/plain": [
       "(1163, 1)"
      ]
     },
     "execution_count": 48,
     "metadata": {},
     "output_type": "execute_result"
    }
   ],
   "source": [
    "attribute_list.shape"
   ]
  },
  {
   "cell_type": "markdown",
   "metadata": {},
   "source": [
    "# Save Attribute List"
   ]
  },
  {
   "cell_type": "code",
   "execution_count": 49,
   "metadata": {},
   "outputs": [],
   "source": [
    "filename = path+'dsigdb_pertubagen_signatures_attribute_list_%s.tsv.zip'% str(datetime.date.today())[0:7].replace('-', '_')\n",
    "attribute_list.to_csv(filename, sep='\\t', index=False, compression='gzip')"
   ]
  },
  {
   "cell_type": "markdown",
   "metadata": {},
   "source": [
    "# Create Gene-Attribute Edge List"
   ]
  },
  {
   "cell_type": "code",
   "execution_count": 50,
   "metadata": {},
   "outputs": [],
   "source": [
    "name = 'dsigdb_pertubagen_signatures_attribute_edge_list'"
   ]
  },
  {
   "cell_type": "code",
   "execution_count": 51,
   "metadata": {},
   "outputs": [
    {
     "name": "stdout",
     "output_type": "stream",
     "text": [
      "Progeres: 100%  1163 Out of 1163   \n",
      "\n",
      " The number of statisticaly relevent gene-attribute associations is: 158860\n"
     ]
    }
   ],
   "source": [
    "uf.createGeneAttributeEdgeList(binary_matrix, attribute_list, gene_list, path, name)"
   ]
  }
 ],
 "metadata": {
  "kernelspec": {
   "display_name": "Python [default]",
   "language": "python",
   "name": "python3"
  },
  "language_info": {
   "codemirror_mode": {
    "name": "ipython",
    "version": 3
   },
   "file_extension": ".py",
   "mimetype": "text/x-python",
   "name": "python",
   "nbconvert_exporter": "python",
   "pygments_lexer": "ipython3",
   "version": "3.5.5"
  }
 },
 "nbformat": 4,
 "nbformat_minor": 2
}
