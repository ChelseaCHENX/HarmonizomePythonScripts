{
 "cells": [
  {
   "cell_type": "markdown",
   "metadata": {},
   "source": [
    "# DSigDB Kinase Inhibitors"
   ]
  },
  {
   "cell_type": "markdown",
   "metadata": {},
   "source": [
    "Author: Moshe Silverstein   \n",
    "Date: 05-07-2018  \n",
    "Data Source Home: http://tanlab.ucdenver.edu/DSigDB/DSigDBv1.0/  \n",
    "Data Source Download: http://tanlab.ucdenver.edu/DSigDB/DSigDBv1.0/download.html  "
   ]
  },
  {
   "cell_type": "code",
   "execution_count": 1,
   "metadata": {},
   "outputs": [],
   "source": [
    "import sys, datetime, os\n",
    "import numpy as np\n",
    "import pandas as pd\n",
    "import importlib\n",
    "import utility_functions as uf\n",
    "import matplotlib.pyplot as plt\n",
    "%matplotlib inline\n",
    "from collections import Counter"
   ]
  },
  {
   "cell_type": "code",
   "execution_count": 2,
   "metadata": {},
   "outputs": [],
   "source": [
    "import seaborn as sns\n",
    "sns.set(color_codes=True)\n",
    "np.random.seed(sum(map(ord, \"distributions\")))"
   ]
  },
  {
   "cell_type": "code",
   "execution_count": 3,
   "metadata": {},
   "outputs": [],
   "source": [
    "from clustergrammer_widget import *\n",
    "net = Network(clustergrammer_widget)"
   ]
  },
  {
   "cell_type": "code",
   "execution_count": 4,
   "metadata": {},
   "outputs": [
    {
     "data": {
      "text/plain": [
       "<module 'utility_functions' from '/Users/moshesilverstein/Documents/Harmonizome/DSigDB/utility_functions.py'>"
      ]
     },
     "execution_count": 4,
     "metadata": {},
     "output_type": "execute_result"
    }
   ],
   "source": [
    "importlib.reload(uf)"
   ]
  },
  {
   "cell_type": "markdown",
   "metadata": {},
   "source": [
    "# Path to Output Files"
   ]
  },
  {
   "cell_type": "code",
   "execution_count": 5,
   "metadata": {},
   "outputs": [],
   "source": [
    "path = '/Users/moshesilverstein/Documents/Harmonizome/DSigDB/Output/'"
   ]
  },
  {
   "cell_type": "markdown",
   "metadata": {},
   "source": [
    "# Load Data"
   ]
  },
  {
   "cell_type": "code",
   "execution_count": 6,
   "metadata": {},
   "outputs": [],
   "source": [
    "data = pd.read_csv('Input/DSigDB_All_detailed.txt', sep='\\t')"
   ]
  },
  {
   "cell_type": "code",
   "execution_count": 7,
   "metadata": {},
   "outputs": [
    {
     "data": {
      "text/html": [
       "<div>\n",
       "<style scoped>\n",
       "    .dataframe tbody tr th:only-of-type {\n",
       "        vertical-align: middle;\n",
       "    }\n",
       "\n",
       "    .dataframe tbody tr th {\n",
       "        vertical-align: top;\n",
       "    }\n",
       "\n",
       "    .dataframe thead th {\n",
       "        text-align: right;\n",
       "    }\n",
       "</style>\n",
       "<table border=\"1\" class=\"dataframe\">\n",
       "  <thead>\n",
       "    <tr style=\"text-align: right;\">\n",
       "      <th></th>\n",
       "      <th>Drug</th>\n",
       "      <th>Gene</th>\n",
       "      <th>Type</th>\n",
       "      <th>Source</th>\n",
       "    </tr>\n",
       "  </thead>\n",
       "  <tbody>\n",
       "    <tr>\n",
       "      <th>0</th>\n",
       "      <td>citric acid</td>\n",
       "      <td>ABHD5</td>\n",
       "      <td>IC50=3.545(uM)</td>\n",
       "      <td>D1 PubChem</td>\n",
       "    </tr>\n",
       "    <tr>\n",
       "      <th>1</th>\n",
       "      <td>citric acid</td>\n",
       "      <td>PLIN5</td>\n",
       "      <td>IC50=3.545(uM)</td>\n",
       "      <td>D1 PubChem</td>\n",
       "    </tr>\n",
       "    <tr>\n",
       "      <th>2</th>\n",
       "      <td>citric acid</td>\n",
       "      <td>PLIN1</td>\n",
       "      <td>IC50=3.708(uM)</td>\n",
       "      <td>D1 PubChem</td>\n",
       "    </tr>\n",
       "    <tr>\n",
       "      <th>3</th>\n",
       "      <td>citric acid</td>\n",
       "      <td>ABHD5</td>\n",
       "      <td>IC50=5.632(uM)</td>\n",
       "      <td>D1 PubChem</td>\n",
       "    </tr>\n",
       "    <tr>\n",
       "      <th>4</th>\n",
       "      <td>citric acid</td>\n",
       "      <td>PLIN5</td>\n",
       "      <td>IC50=5.632(uM)</td>\n",
       "      <td>D1 PubChem</td>\n",
       "    </tr>\n",
       "  </tbody>\n",
       "</table>\n",
       "</div>"
      ],
      "text/plain": [
       "          Drug   Gene            Type      Source\n",
       "0  citric acid  ABHD5  IC50=3.545(uM)  D1 PubChem\n",
       "1  citric acid  PLIN5  IC50=3.545(uM)  D1 PubChem\n",
       "2  citric acid  PLIN1  IC50=3.708(uM)  D1 PubChem\n",
       "3  citric acid  ABHD5  IC50=5.632(uM)  D1 PubChem\n",
       "4  citric acid  PLIN5  IC50=5.632(uM)  D1 PubChem"
      ]
     },
     "execution_count": 7,
     "metadata": {},
     "output_type": "execute_result"
    }
   ],
   "source": [
    "data.head()"
   ]
  },
  {
   "cell_type": "code",
   "execution_count": 8,
   "metadata": {},
   "outputs": [
    {
     "data": {
      "text/plain": [
       "(688782, 4)"
      ]
     },
     "execution_count": 8,
     "metadata": {},
     "output_type": "execute_result"
    }
   ],
   "source": [
    "data.shape"
   ]
  },
  {
   "cell_type": "markdown",
   "metadata": {},
   "source": [
    "# Get Kinase Inhibitor Data"
   ]
  },
  {
   "cell_type": "code",
   "execution_count": 9,
   "metadata": {},
   "outputs": [],
   "source": [
    "lst = []\n",
    "\n",
    "for index in data.index:\n",
    "    if type(data.loc[index, 'Source']) == str:\n",
    "        if 'FDA' in data.loc[index, 'Source'] or 'Kinome Scan' in data.loc[index, 'Source'] or 'LINCS' in data.loc[index, 'Source'] or 'MRC' in data.loc[index, 'Source'] or 'GSK' in data.loc[index, 'Source'] or 'Roche' in data.loc[index, 'Source'] or 'RBC' in data.loc[index, 'Source']:\n",
    "            lst.append(index)\n",
    "            \n",
    "data = data.loc[lst, :]"
   ]
  },
  {
   "cell_type": "code",
   "execution_count": 10,
   "metadata": {},
   "outputs": [
    {
     "data": {
      "text/html": [
       "<div>\n",
       "<style scoped>\n",
       "    .dataframe tbody tr th:only-of-type {\n",
       "        vertical-align: middle;\n",
       "    }\n",
       "\n",
       "    .dataframe tbody tr th {\n",
       "        vertical-align: top;\n",
       "    }\n",
       "\n",
       "    .dataframe thead th {\n",
       "        text-align: right;\n",
       "    }\n",
       "</style>\n",
       "<table border=\"1\" class=\"dataframe\">\n",
       "  <thead>\n",
       "    <tr style=\"text-align: right;\">\n",
       "      <th></th>\n",
       "      <th>Drug</th>\n",
       "      <th>Gene</th>\n",
       "      <th>Type</th>\n",
       "      <th>Source</th>\n",
       "    </tr>\n",
       "  </thead>\n",
       "  <tbody>\n",
       "    <tr>\n",
       "      <th>23883</th>\n",
       "      <td>2-(2-Quinolin-3-Ylpyridin-4-Yl)-1,5,6,7-Tetrah...</td>\n",
       "      <td>DYRK1A</td>\n",
       "      <td>Ki=3.98107(nM)</td>\n",
       "      <td>Roche</td>\n",
       "    </tr>\n",
       "    <tr>\n",
       "      <th>23884</th>\n",
       "      <td>GSK978744A</td>\n",
       "      <td>PLK1</td>\n",
       "      <td>POC=7.85(0.1uM)</td>\n",
       "      <td>GSK</td>\n",
       "    </tr>\n",
       "    <tr>\n",
       "      <th>23885</th>\n",
       "      <td>GSK978744A</td>\n",
       "      <td>PLK1</td>\n",
       "      <td>POC=6.47(1uM)</td>\n",
       "      <td>GSK</td>\n",
       "    </tr>\n",
       "    <tr>\n",
       "      <th>23886</th>\n",
       "      <td>GSK978744A</td>\n",
       "      <td>STK10</td>\n",
       "      <td>POC=14.26(1uM)</td>\n",
       "      <td>GSK</td>\n",
       "    </tr>\n",
       "    <tr>\n",
       "      <th>23887</th>\n",
       "      <td>GSK978744A</td>\n",
       "      <td>NEK9</td>\n",
       "      <td>POC=8.59(1uM)</td>\n",
       "      <td>GSK</td>\n",
       "    </tr>\n",
       "  </tbody>\n",
       "</table>\n",
       "</div>"
      ],
      "text/plain": [
       "                                                    Drug    Gene  \\\n",
       "23883  2-(2-Quinolin-3-Ylpyridin-4-Yl)-1,5,6,7-Tetrah...  DYRK1A   \n",
       "23884                                         GSK978744A    PLK1   \n",
       "23885                                         GSK978744A    PLK1   \n",
       "23886                                         GSK978744A   STK10   \n",
       "23887                                         GSK978744A    NEK9   \n",
       "\n",
       "                  Type Source  \n",
       "23883   Ki=3.98107(nM)  Roche  \n",
       "23884  POC=7.85(0.1uM)    GSK  \n",
       "23885    POC=6.47(1uM)    GSK  \n",
       "23886   POC=14.26(1uM)    GSK  \n",
       "23887    POC=8.59(1uM)    GSK  "
      ]
     },
     "execution_count": 10,
     "metadata": {},
     "output_type": "execute_result"
    }
   ],
   "source": [
    "data.head()"
   ]
  },
  {
   "cell_type": "code",
   "execution_count": 11,
   "metadata": {},
   "outputs": [
    {
     "data": {
      "text/plain": [
       "(22082, 4)"
      ]
     },
     "execution_count": 11,
     "metadata": {},
     "output_type": "execute_result"
    }
   ],
   "source": [
    "data.shape"
   ]
  },
  {
   "cell_type": "markdown",
   "metadata": {},
   "source": [
    "# Map Gene Symbols To Up-to-date Approved Gene Symbols"
   ]
  },
  {
   "cell_type": "code",
   "execution_count": 12,
   "metadata": {},
   "outputs": [],
   "source": [
    "data.set_index('Gene', inplace=True)"
   ]
  },
  {
   "cell_type": "code",
   "execution_count": 13,
   "metadata": {},
   "outputs": [
    {
     "name": "stdout",
     "output_type": "stream",
     "text": [
      "Progeres: 98%  21818 Out of 22082   \r"
     ]
    }
   ],
   "source": [
    "uf.mapgenesymbols(data)"
   ]
  },
  {
   "cell_type": "code",
   "execution_count": 14,
   "metadata": {},
   "outputs": [],
   "source": [
    "data.shape"
   ]
  },
  {
   "cell_type": "markdown",
   "metadata": {},
   "source": [
    "# Drop Duplicates"
   ]
  },
  {
   "cell_type": "code",
   "execution_count": 15,
   "metadata": {},
   "outputs": [],
   "source": [
    "data.reset_index(inplace=True)"
   ]
  },
  {
   "cell_type": "code",
   "execution_count": 16,
   "metadata": {},
   "outputs": [],
   "source": [
    "data.drop_duplicates(subset=['Gene', 'Drug'], inplace=True)"
   ]
  },
  {
   "cell_type": "code",
   "execution_count": 17,
   "metadata": {},
   "outputs": [],
   "source": [
    "data.shape"
   ]
  },
  {
   "cell_type": "markdown",
   "metadata": {},
   "source": [
    "# Create Binary Matrix"
   ]
  },
  {
   "cell_type": "code",
   "execution_count": 18,
   "metadata": {},
   "outputs": [
    {
     "name": "stdout",
     "output_type": "stream",
     "text": [
      "Progeres: 100%  404 Out of 404   \r"
     ]
    }
   ],
   "source": [
    "binary_matrix = uf.createBinaryMatrix(data[['Gene', 'Drug']])"
   ]
  },
  {
   "cell_type": "code",
   "execution_count": 19,
   "metadata": {},
   "outputs": [],
   "source": [
    "lst = [x.upper() for x in binary_matrix.columns]\n",
    "\n",
    "binary_matrix.columns = lst"
   ]
  },
  {
   "cell_type": "code",
   "execution_count": 20,
   "metadata": {},
   "outputs": [],
   "source": [
    "binary_matrix = binary_matrix.T.groupby(level=0).max().T"
   ]
  },
  {
   "cell_type": "code",
   "execution_count": 21,
   "metadata": {},
   "outputs": [
    {
     "data": {
      "text/html": [
       "<div>\n",
       "<style scoped>\n",
       "    .dataframe tbody tr th:only-of-type {\n",
       "        vertical-align: middle;\n",
       "    }\n",
       "\n",
       "    .dataframe tbody tr th {\n",
       "        vertical-align: top;\n",
       "    }\n",
       "\n",
       "    .dataframe thead th {\n",
       "        text-align: right;\n",
       "    }\n",
       "</style>\n",
       "<table border=\"1\" class=\"dataframe\">\n",
       "  <thead>\n",
       "    <tr style=\"text-align: right;\">\n",
       "      <th></th>\n",
       "      <th>(5Z)-7-OXOZEAENOL</th>\n",
       "      <th>(E)-N-METHYL-2-((3-(2-(PYRIDIN-2-YL)VINYL)-1H-INDAZOL-6-YL)THIO)BENZAMIDE</th>\n",
       "      <th>(R)-ROSCOVITINE</th>\n",
       "      <th>1 NA-PP1 (PP1 ANALOG)</th>\n",
       "      <th>1 NM-PP1 (PP1 ANALOG II)</th>\n",
       "      <th>1,2,4-TRIAZOLO[4,3-B]PYRIDAZINE, 3-(3-NITROPHENYL)-6-(1-PIPERIDINYL)-</th>\n",
       "      <th>1,9-PYRAZOLOANTHRONE</th>\n",
       "      <th>1-(3-METHYLPHENYL)-3-[4-(1-OXO-2,3-DIHYDROISOINDOL-4-YL)PHENYL]UREA</th>\n",
       "      <th>1-(4-AMINO-1,2,5-OXADIAZOL-3-YL)-N-[(2-ETHOXYPHENYL)METHYLIDENEAMINO]-5-PYRROLIDIN-1-YLTRIAZOLE-4-CARBOXAMIDE</th>\n",
       "      <th>1-AZAKENPAULLONE</th>\n",
       "      <th>...</th>\n",
       "      <th>XMD8-92</th>\n",
       "      <th>Y-27632</th>\n",
       "      <th>ZEARALENONE</th>\n",
       "      <th>ZINC00027781</th>\n",
       "      <th>ZINC00121334</th>\n",
       "      <th>ZINC04457925</th>\n",
       "      <th>ZINC04494446</th>\n",
       "      <th>ZINC04547409</th>\n",
       "      <th>ZM 336372</th>\n",
       "      <th>ZM-447439</th>\n",
       "    </tr>\n",
       "  </thead>\n",
       "  <tbody>\n",
       "    <tr>\n",
       "      <th>EPHA2</th>\n",
       "      <td>0</td>\n",
       "      <td>0</td>\n",
       "      <td>0</td>\n",
       "      <td>0</td>\n",
       "      <td>0</td>\n",
       "      <td>0</td>\n",
       "      <td>0</td>\n",
       "      <td>0</td>\n",
       "      <td>0</td>\n",
       "      <td>0</td>\n",
       "      <td>...</td>\n",
       "      <td>0</td>\n",
       "      <td>0</td>\n",
       "      <td>0</td>\n",
       "      <td>0</td>\n",
       "      <td>0</td>\n",
       "      <td>0</td>\n",
       "      <td>0</td>\n",
       "      <td>0</td>\n",
       "      <td>1</td>\n",
       "      <td>0</td>\n",
       "    </tr>\n",
       "    <tr>\n",
       "      <th>BRSK1</th>\n",
       "      <td>0</td>\n",
       "      <td>0</td>\n",
       "      <td>0</td>\n",
       "      <td>0</td>\n",
       "      <td>0</td>\n",
       "      <td>0</td>\n",
       "      <td>0</td>\n",
       "      <td>0</td>\n",
       "      <td>0</td>\n",
       "      <td>0</td>\n",
       "      <td>...</td>\n",
       "      <td>0</td>\n",
       "      <td>0</td>\n",
       "      <td>0</td>\n",
       "      <td>0</td>\n",
       "      <td>0</td>\n",
       "      <td>0</td>\n",
       "      <td>0</td>\n",
       "      <td>0</td>\n",
       "      <td>0</td>\n",
       "      <td>0</td>\n",
       "    </tr>\n",
       "    <tr>\n",
       "      <th>WEE2</th>\n",
       "      <td>0</td>\n",
       "      <td>0</td>\n",
       "      <td>0</td>\n",
       "      <td>0</td>\n",
       "      <td>0</td>\n",
       "      <td>0</td>\n",
       "      <td>0</td>\n",
       "      <td>0</td>\n",
       "      <td>0</td>\n",
       "      <td>0</td>\n",
       "      <td>...</td>\n",
       "      <td>0</td>\n",
       "      <td>0</td>\n",
       "      <td>0</td>\n",
       "      <td>0</td>\n",
       "      <td>0</td>\n",
       "      <td>0</td>\n",
       "      <td>0</td>\n",
       "      <td>0</td>\n",
       "      <td>0</td>\n",
       "      <td>0</td>\n",
       "    </tr>\n",
       "    <tr>\n",
       "      <th>CDK7</th>\n",
       "      <td>0</td>\n",
       "      <td>0</td>\n",
       "      <td>1</td>\n",
       "      <td>0</td>\n",
       "      <td>0</td>\n",
       "      <td>0</td>\n",
       "      <td>0</td>\n",
       "      <td>0</td>\n",
       "      <td>0</td>\n",
       "      <td>0</td>\n",
       "      <td>...</td>\n",
       "      <td>0</td>\n",
       "      <td>0</td>\n",
       "      <td>0</td>\n",
       "      <td>0</td>\n",
       "      <td>0</td>\n",
       "      <td>0</td>\n",
       "      <td>0</td>\n",
       "      <td>0</td>\n",
       "      <td>0</td>\n",
       "      <td>1</td>\n",
       "    </tr>\n",
       "    <tr>\n",
       "      <th>MKNK1</th>\n",
       "      <td>1</td>\n",
       "      <td>0</td>\n",
       "      <td>0</td>\n",
       "      <td>0</td>\n",
       "      <td>0</td>\n",
       "      <td>0</td>\n",
       "      <td>0</td>\n",
       "      <td>0</td>\n",
       "      <td>0</td>\n",
       "      <td>0</td>\n",
       "      <td>...</td>\n",
       "      <td>0</td>\n",
       "      <td>0</td>\n",
       "      <td>0</td>\n",
       "      <td>0</td>\n",
       "      <td>0</td>\n",
       "      <td>0</td>\n",
       "      <td>0</td>\n",
       "      <td>0</td>\n",
       "      <td>0</td>\n",
       "      <td>0</td>\n",
       "    </tr>\n",
       "  </tbody>\n",
       "</table>\n",
       "<p>5 rows × 1150 columns</p>\n",
       "</div>"
      ],
      "text/plain": [
       "       (5Z)-7-OXOZEAENOL  \\\n",
       "EPHA2                  0   \n",
       "BRSK1                  0   \n",
       "WEE2                   0   \n",
       "CDK7                   0   \n",
       "MKNK1                  1   \n",
       "\n",
       "       (E)-N-METHYL-2-((3-(2-(PYRIDIN-2-YL)VINYL)-1H-INDAZOL-6-YL)THIO)BENZAMIDE  \\\n",
       "EPHA2                                                  0                           \n",
       "BRSK1                                                  0                           \n",
       "WEE2                                                   0                           \n",
       "CDK7                                                   0                           \n",
       "MKNK1                                                  0                           \n",
       "\n",
       "       (R)-ROSCOVITINE  1 NA-PP1 (PP1 ANALOG)  1 NM-PP1 (PP1 ANALOG II)  \\\n",
       "EPHA2                0                      0                         0   \n",
       "BRSK1                0                      0                         0   \n",
       "WEE2                 0                      0                         0   \n",
       "CDK7                 1                      0                         0   \n",
       "MKNK1                0                      0                         0   \n",
       "\n",
       "       1,2,4-TRIAZOLO[4,3-B]PYRIDAZINE, 3-(3-NITROPHENYL)-6-(1-PIPERIDINYL)-  \\\n",
       "EPHA2                                                  0                       \n",
       "BRSK1                                                  0                       \n",
       "WEE2                                                   0                       \n",
       "CDK7                                                   0                       \n",
       "MKNK1                                                  0                       \n",
       "\n",
       "       1,9-PYRAZOLOANTHRONE  \\\n",
       "EPHA2                     0   \n",
       "BRSK1                     0   \n",
       "WEE2                      0   \n",
       "CDK7                      0   \n",
       "MKNK1                     0   \n",
       "\n",
       "       1-(3-METHYLPHENYL)-3-[4-(1-OXO-2,3-DIHYDROISOINDOL-4-YL)PHENYL]UREA  \\\n",
       "EPHA2                                                  0                     \n",
       "BRSK1                                                  0                     \n",
       "WEE2                                                   0                     \n",
       "CDK7                                                   0                     \n",
       "MKNK1                                                  0                     \n",
       "\n",
       "       1-(4-AMINO-1,2,5-OXADIAZOL-3-YL)-N-[(2-ETHOXYPHENYL)METHYLIDENEAMINO]-5-PYRROLIDIN-1-YLTRIAZOLE-4-CARBOXAMIDE  \\\n",
       "EPHA2                                                  0                                                               \n",
       "BRSK1                                                  0                                                               \n",
       "WEE2                                                   0                                                               \n",
       "CDK7                                                   0                                                               \n",
       "MKNK1                                                  0                                                               \n",
       "\n",
       "       1-AZAKENPAULLONE    ...      XMD8-92  Y-27632  ZEARALENONE  \\\n",
       "EPHA2                 0    ...            0        0            0   \n",
       "BRSK1                 0    ...            0        0            0   \n",
       "WEE2                  0    ...            0        0            0   \n",
       "CDK7                  0    ...            0        0            0   \n",
       "MKNK1                 0    ...            0        0            0   \n",
       "\n",
       "       ZINC00027781  ZINC00121334  ZINC04457925  ZINC04494446  ZINC04547409  \\\n",
       "EPHA2             0             0             0             0             0   \n",
       "BRSK1             0             0             0             0             0   \n",
       "WEE2              0             0             0             0             0   \n",
       "CDK7              0             0             0             0             0   \n",
       "MKNK1             0             0             0             0             0   \n",
       "\n",
       "       ZM 336372  ZM-447439  \n",
       "EPHA2          1          0  \n",
       "BRSK1          0          0  \n",
       "WEE2           0          0  \n",
       "CDK7           0          1  \n",
       "MKNK1          0          0  \n",
       "\n",
       "[5 rows x 1150 columns]"
      ]
     },
     "execution_count": 21,
     "metadata": {},
     "output_type": "execute_result"
    }
   ],
   "source": [
    "binary_matrix.head()"
   ]
  },
  {
   "cell_type": "code",
   "execution_count": 22,
   "metadata": {},
   "outputs": [
    {
     "data": {
      "text/plain": [
       "(404, 1150)"
      ]
     },
     "execution_count": 22,
     "metadata": {},
     "output_type": "execute_result"
    }
   ],
   "source": [
    "binary_matrix.shape"
   ]
  },
  {
   "cell_type": "markdown",
   "metadata": {},
   "source": [
    "# Save Binary Matrix"
   ]
  },
  {
   "cell_type": "code",
   "execution_count": 23,
   "metadata": {},
   "outputs": [],
   "source": [
    "filename = path+'dsigdb_kinase_inhibitors_binary_matrix_%s.tsv.zip'% str(datetime.date.today())[0:7].replace('-', '_')\n",
    "binary_matrix.to_csv(filename, sep='\\t', compression='gzip')"
   ]
  },
  {
   "cell_type": "markdown",
   "metadata": {},
   "source": [
    "# Create Gene Set Library"
   ]
  },
  {
   "cell_type": "code",
   "execution_count": 24,
   "metadata": {},
   "outputs": [],
   "source": [
    "name = 'dsigdb_kinase_inhibitors_gene_set'"
   ]
  },
  {
   "cell_type": "code",
   "execution_count": 25,
   "metadata": {},
   "outputs": [
    {
     "name": "stdout",
     "output_type": "stream",
     "text": [
      "Progeres: 100%  1150 Out of 1150   \r"
     ]
    }
   ],
   "source": [
    "uf.createUpGeneSetLib(binary_matrix, path, name)"
   ]
  },
  {
   "cell_type": "markdown",
   "metadata": {},
   "source": [
    "# Create Attribute Library"
   ]
  },
  {
   "cell_type": "code",
   "execution_count": 26,
   "metadata": {},
   "outputs": [],
   "source": [
    "name = 'dsigdb_kinase_inhibitors_attribute_set'"
   ]
  },
  {
   "cell_type": "code",
   "execution_count": 27,
   "metadata": {},
   "outputs": [
    {
     "name": "stdout",
     "output_type": "stream",
     "text": [
      "Progeres: 100%  404 Out of 404   \r"
     ]
    }
   ],
   "source": [
    "uf.createUpAttributeSetLib(binary_matrix, path, name)"
   ]
  },
  {
   "cell_type": "markdown",
   "metadata": {},
   "source": [
    "# Create Gene Similarity Matrix"
   ]
  },
  {
   "cell_type": "code",
   "execution_count": 28,
   "metadata": {},
   "outputs": [],
   "source": [
    "gene_similarity_matix = uf.createSimilarityMatrix(binary_matrix, 'jaccard')"
   ]
  },
  {
   "cell_type": "code",
   "execution_count": 29,
   "metadata": {},
   "outputs": [
    {
     "data": {
      "text/html": [
       "<div>\n",
       "<style scoped>\n",
       "    .dataframe tbody tr th:only-of-type {\n",
       "        vertical-align: middle;\n",
       "    }\n",
       "\n",
       "    .dataframe tbody tr th {\n",
       "        vertical-align: top;\n",
       "    }\n",
       "\n",
       "    .dataframe thead th {\n",
       "        text-align: right;\n",
       "    }\n",
       "</style>\n",
       "<table border=\"1\" class=\"dataframe\">\n",
       "  <thead>\n",
       "    <tr style=\"text-align: right;\">\n",
       "      <th></th>\n",
       "      <th>EPHA2</th>\n",
       "      <th>BRSK1</th>\n",
       "      <th>WEE2</th>\n",
       "      <th>CDK7</th>\n",
       "      <th>MKNK1</th>\n",
       "      <th>MAP3K10</th>\n",
       "      <th>PRKAA1</th>\n",
       "      <th>NEK6</th>\n",
       "      <th>STK35</th>\n",
       "      <th>MAP2K3</th>\n",
       "      <th>...</th>\n",
       "      <th>CIT</th>\n",
       "      <th>SRPK2</th>\n",
       "      <th>MAP2K4</th>\n",
       "      <th>TNK1</th>\n",
       "      <th>PRKACG</th>\n",
       "      <th>NEK11</th>\n",
       "      <th>CDC42BPB</th>\n",
       "      <th>PIK3CA</th>\n",
       "      <th>MELK</th>\n",
       "      <th>SIK2</th>\n",
       "    </tr>\n",
       "    <tr>\n",
       "      <th></th>\n",
       "      <th></th>\n",
       "      <th></th>\n",
       "      <th></th>\n",
       "      <th></th>\n",
       "      <th></th>\n",
       "      <th></th>\n",
       "      <th></th>\n",
       "      <th></th>\n",
       "      <th></th>\n",
       "      <th></th>\n",
       "      <th></th>\n",
       "      <th></th>\n",
       "      <th></th>\n",
       "      <th></th>\n",
       "      <th></th>\n",
       "      <th></th>\n",
       "      <th></th>\n",
       "      <th></th>\n",
       "      <th></th>\n",
       "      <th></th>\n",
       "      <th></th>\n",
       "    </tr>\n",
       "  </thead>\n",
       "  <tbody>\n",
       "    <tr>\n",
       "      <th>EPHA2</th>\n",
       "      <td>1.000000</td>\n",
       "      <td>0.126984</td>\n",
       "      <td>0.122449</td>\n",
       "      <td>0.080808</td>\n",
       "      <td>0.109375</td>\n",
       "      <td>0.114754</td>\n",
       "      <td>0.133333</td>\n",
       "      <td>0.033333</td>\n",
       "      <td>0.250000</td>\n",
       "      <td>0.166667</td>\n",
       "      <td>...</td>\n",
       "      <td>0.164384</td>\n",
       "      <td>0.067797</td>\n",
       "      <td>0.144928</td>\n",
       "      <td>0.219512</td>\n",
       "      <td>0.020833</td>\n",
       "      <td>0.083333</td>\n",
       "      <td>0.129630</td>\n",
       "      <td>0.074627</td>\n",
       "      <td>0.120690</td>\n",
       "      <td>0.257143</td>\n",
       "    </tr>\n",
       "    <tr>\n",
       "      <th>BRSK1</th>\n",
       "      <td>0.126984</td>\n",
       "      <td>1.000000</td>\n",
       "      <td>0.000000</td>\n",
       "      <td>0.102564</td>\n",
       "      <td>0.162791</td>\n",
       "      <td>0.270270</td>\n",
       "      <td>0.163636</td>\n",
       "      <td>0.108108</td>\n",
       "      <td>0.125000</td>\n",
       "      <td>0.166667</td>\n",
       "      <td>...</td>\n",
       "      <td>0.103448</td>\n",
       "      <td>0.135135</td>\n",
       "      <td>0.183673</td>\n",
       "      <td>0.128571</td>\n",
       "      <td>0.076923</td>\n",
       "      <td>0.033333</td>\n",
       "      <td>0.111111</td>\n",
       "      <td>0.108696</td>\n",
       "      <td>0.184783</td>\n",
       "      <td>0.218182</td>\n",
       "    </tr>\n",
       "    <tr>\n",
       "      <th>WEE2</th>\n",
       "      <td>0.122449</td>\n",
       "      <td>0.000000</td>\n",
       "      <td>1.000000</td>\n",
       "      <td>0.014493</td>\n",
       "      <td>0.062500</td>\n",
       "      <td>0.107143</td>\n",
       "      <td>0.043478</td>\n",
       "      <td>0.136364</td>\n",
       "      <td>0.151515</td>\n",
       "      <td>0.064516</td>\n",
       "      <td>...</td>\n",
       "      <td>0.090909</td>\n",
       "      <td>0.083333</td>\n",
       "      <td>0.076923</td>\n",
       "      <td>0.086207</td>\n",
       "      <td>0.000000</td>\n",
       "      <td>0.363636</td>\n",
       "      <td>0.000000</td>\n",
       "      <td>0.000000</td>\n",
       "      <td>0.021978</td>\n",
       "      <td>0.133333</td>\n",
       "    </tr>\n",
       "    <tr>\n",
       "      <th>CDK7</th>\n",
       "      <td>0.080808</td>\n",
       "      <td>0.102564</td>\n",
       "      <td>0.014493</td>\n",
       "      <td>1.000000</td>\n",
       "      <td>0.088608</td>\n",
       "      <td>0.106667</td>\n",
       "      <td>0.234568</td>\n",
       "      <td>0.115942</td>\n",
       "      <td>0.232877</td>\n",
       "      <td>0.164384</td>\n",
       "      <td>...</td>\n",
       "      <td>0.265823</td>\n",
       "      <td>0.181818</td>\n",
       "      <td>0.205128</td>\n",
       "      <td>0.210526</td>\n",
       "      <td>0.000000</td>\n",
       "      <td>0.015152</td>\n",
       "      <td>0.101449</td>\n",
       "      <td>0.175676</td>\n",
       "      <td>0.208333</td>\n",
       "      <td>0.211765</td>\n",
       "    </tr>\n",
       "    <tr>\n",
       "      <th>MKNK1</th>\n",
       "      <td>0.109375</td>\n",
       "      <td>0.162791</td>\n",
       "      <td>0.062500</td>\n",
       "      <td>0.088608</td>\n",
       "      <td>1.000000</td>\n",
       "      <td>0.175000</td>\n",
       "      <td>0.103448</td>\n",
       "      <td>0.051282</td>\n",
       "      <td>0.148936</td>\n",
       "      <td>0.113636</td>\n",
       "      <td>...</td>\n",
       "      <td>0.142857</td>\n",
       "      <td>0.105263</td>\n",
       "      <td>0.115385</td>\n",
       "      <td>0.128571</td>\n",
       "      <td>0.037037</td>\n",
       "      <td>0.033333</td>\n",
       "      <td>0.081081</td>\n",
       "      <td>0.062500</td>\n",
       "      <td>0.135417</td>\n",
       "      <td>0.155172</td>\n",
       "    </tr>\n",
       "  </tbody>\n",
       "</table>\n",
       "<p>5 rows × 404 columns</p>\n",
       "</div>"
      ],
      "text/plain": [
       "          EPHA2     BRSK1      WEE2      CDK7     MKNK1   MAP3K10    PRKAA1  \\\n",
       "                                                                              \n",
       "EPHA2  1.000000  0.126984  0.122449  0.080808  0.109375  0.114754  0.133333   \n",
       "BRSK1  0.126984  1.000000  0.000000  0.102564  0.162791  0.270270  0.163636   \n",
       "WEE2   0.122449  0.000000  1.000000  0.014493  0.062500  0.107143  0.043478   \n",
       "CDK7   0.080808  0.102564  0.014493  1.000000  0.088608  0.106667  0.234568   \n",
       "MKNK1  0.109375  0.162791  0.062500  0.088608  1.000000  0.175000  0.103448   \n",
       "\n",
       "           NEK6     STK35    MAP2K3    ...          CIT     SRPK2    MAP2K4  \\\n",
       "                                       ...                                    \n",
       "EPHA2  0.033333  0.250000  0.166667    ...     0.164384  0.067797  0.144928   \n",
       "BRSK1  0.108108  0.125000  0.166667    ...     0.103448  0.135135  0.183673   \n",
       "WEE2   0.136364  0.151515  0.064516    ...     0.090909  0.083333  0.076923   \n",
       "CDK7   0.115942  0.232877  0.164384    ...     0.265823  0.181818  0.205128   \n",
       "MKNK1  0.051282  0.148936  0.113636    ...     0.142857  0.105263  0.115385   \n",
       "\n",
       "           TNK1    PRKACG     NEK11  CDC42BPB    PIK3CA      MELK      SIK2  \n",
       "                                                                             \n",
       "EPHA2  0.219512  0.020833  0.083333  0.129630  0.074627  0.120690  0.257143  \n",
       "BRSK1  0.128571  0.076923  0.033333  0.111111  0.108696  0.184783  0.218182  \n",
       "WEE2   0.086207  0.000000  0.363636  0.000000  0.000000  0.021978  0.133333  \n",
       "CDK7   0.210526  0.000000  0.015152  0.101449  0.175676  0.208333  0.211765  \n",
       "MKNK1  0.128571  0.037037  0.033333  0.081081  0.062500  0.135417  0.155172  \n",
       "\n",
       "[5 rows x 404 columns]"
      ]
     },
     "execution_count": 29,
     "metadata": {},
     "output_type": "execute_result"
    }
   ],
   "source": [
    "gene_similarity_matix.head()"
   ]
  },
  {
   "cell_type": "markdown",
   "metadata": {},
   "source": [
    "# Save Gene Similarity Matrix"
   ]
  },
  {
   "cell_type": "code",
   "execution_count": 30,
   "metadata": {},
   "outputs": [],
   "source": [
    "filename = path+'dsigdb_kinase_inhibitors_gene_similarity_matix_%s.tsv.zip'% str(datetime.date.today())[0:7].replace('-', '_')\n",
    "gene_similarity_matix.to_csv(filename, sep='\\t', compression='gzip')"
   ]
  },
  {
   "cell_type": "markdown",
   "metadata": {},
   "source": [
    "# Create Attribute Similarity matrix"
   ]
  },
  {
   "cell_type": "code",
   "execution_count": 31,
   "metadata": {},
   "outputs": [],
   "source": [
    "attribute_similarity_matix = uf.createSimilarityMatrix(binary_matrix.T, 'jaccard')"
   ]
  },
  {
   "cell_type": "code",
   "execution_count": 32,
   "metadata": {},
   "outputs": [
    {
     "data": {
      "text/html": [
       "<div>\n",
       "<style scoped>\n",
       "    .dataframe tbody tr th:only-of-type {\n",
       "        vertical-align: middle;\n",
       "    }\n",
       "\n",
       "    .dataframe tbody tr th {\n",
       "        vertical-align: top;\n",
       "    }\n",
       "\n",
       "    .dataframe thead th {\n",
       "        text-align: right;\n",
       "    }\n",
       "</style>\n",
       "<table border=\"1\" class=\"dataframe\">\n",
       "  <thead>\n",
       "    <tr style=\"text-align: right;\">\n",
       "      <th></th>\n",
       "      <th>(5Z)-7-OXOZEAENOL</th>\n",
       "      <th>(E)-N-METHYL-2-((3-(2-(PYRIDIN-2-YL)VINYL)-1H-INDAZOL-6-YL)THIO)BENZAMIDE</th>\n",
       "      <th>(R)-ROSCOVITINE</th>\n",
       "      <th>1 NA-PP1 (PP1 ANALOG)</th>\n",
       "      <th>1 NM-PP1 (PP1 ANALOG II)</th>\n",
       "      <th>1,2,4-TRIAZOLO[4,3-B]PYRIDAZINE, 3-(3-NITROPHENYL)-6-(1-PIPERIDINYL)-</th>\n",
       "      <th>1,9-PYRAZOLOANTHRONE</th>\n",
       "      <th>1-(3-METHYLPHENYL)-3-[4-(1-OXO-2,3-DIHYDROISOINDOL-4-YL)PHENYL]UREA</th>\n",
       "      <th>1-(4-AMINO-1,2,5-OXADIAZOL-3-YL)-N-[(2-ETHOXYPHENYL)METHYLIDENEAMINO]-5-PYRROLIDIN-1-YLTRIAZOLE-4-CARBOXAMIDE</th>\n",
       "      <th>1-AZAKENPAULLONE</th>\n",
       "      <th>...</th>\n",
       "      <th>XMD8-92</th>\n",
       "      <th>Y-27632</th>\n",
       "      <th>ZEARALENONE</th>\n",
       "      <th>ZINC00027781</th>\n",
       "      <th>ZINC00121334</th>\n",
       "      <th>ZINC04457925</th>\n",
       "      <th>ZINC04494446</th>\n",
       "      <th>ZINC04547409</th>\n",
       "      <th>ZM 336372</th>\n",
       "      <th>ZM-447439</th>\n",
       "    </tr>\n",
       "    <tr>\n",
       "      <th></th>\n",
       "      <th></th>\n",
       "      <th></th>\n",
       "      <th></th>\n",
       "      <th></th>\n",
       "      <th></th>\n",
       "      <th></th>\n",
       "      <th></th>\n",
       "      <th></th>\n",
       "      <th></th>\n",
       "      <th></th>\n",
       "      <th></th>\n",
       "      <th></th>\n",
       "      <th></th>\n",
       "      <th></th>\n",
       "      <th></th>\n",
       "      <th></th>\n",
       "      <th></th>\n",
       "      <th></th>\n",
       "      <th></th>\n",
       "      <th></th>\n",
       "      <th></th>\n",
       "    </tr>\n",
       "  </thead>\n",
       "  <tbody>\n",
       "    <tr>\n",
       "      <th>(5Z)-7-OXOZEAENOL</th>\n",
       "      <td>1.000000</td>\n",
       "      <td>0.071429</td>\n",
       "      <td>0.000000</td>\n",
       "      <td>0.000000</td>\n",
       "      <td>0.000000</td>\n",
       "      <td>0.000000</td>\n",
       "      <td>0.000000</td>\n",
       "      <td>0.111111</td>\n",
       "      <td>0.0</td>\n",
       "      <td>0.0</td>\n",
       "      <td>...</td>\n",
       "      <td>0.0</td>\n",
       "      <td>0.0</td>\n",
       "      <td>0.0</td>\n",
       "      <td>0.000</td>\n",
       "      <td>0.000000</td>\n",
       "      <td>0.000000</td>\n",
       "      <td>0.000000</td>\n",
       "      <td>0.000000</td>\n",
       "      <td>0.000000</td>\n",
       "      <td>0.040000</td>\n",
       "    </tr>\n",
       "    <tr>\n",
       "      <th>(E)-N-METHYL-2-((3-(2-(PYRIDIN-2-YL)VINYL)-1H-INDAZOL-6-YL)THIO)BENZAMIDE</th>\n",
       "      <td>0.071429</td>\n",
       "      <td>1.000000</td>\n",
       "      <td>0.000000</td>\n",
       "      <td>0.000000</td>\n",
       "      <td>0.000000</td>\n",
       "      <td>0.000000</td>\n",
       "      <td>0.111111</td>\n",
       "      <td>0.125000</td>\n",
       "      <td>0.0</td>\n",
       "      <td>0.0</td>\n",
       "      <td>...</td>\n",
       "      <td>0.0</td>\n",
       "      <td>0.0</td>\n",
       "      <td>0.0</td>\n",
       "      <td>0.125</td>\n",
       "      <td>0.000000</td>\n",
       "      <td>0.000000</td>\n",
       "      <td>0.000000</td>\n",
       "      <td>0.000000</td>\n",
       "      <td>0.000000</td>\n",
       "      <td>0.108696</td>\n",
       "    </tr>\n",
       "    <tr>\n",
       "      <th>(R)-ROSCOVITINE</th>\n",
       "      <td>0.000000</td>\n",
       "      <td>0.000000</td>\n",
       "      <td>1.000000</td>\n",
       "      <td>0.055556</td>\n",
       "      <td>0.047619</td>\n",
       "      <td>0.066667</td>\n",
       "      <td>0.000000</td>\n",
       "      <td>0.000000</td>\n",
       "      <td>0.0</td>\n",
       "      <td>0.0</td>\n",
       "      <td>...</td>\n",
       "      <td>0.0</td>\n",
       "      <td>0.0</td>\n",
       "      <td>0.0</td>\n",
       "      <td>0.000</td>\n",
       "      <td>0.076923</td>\n",
       "      <td>0.071429</td>\n",
       "      <td>0.066667</td>\n",
       "      <td>0.076923</td>\n",
       "      <td>0.000000</td>\n",
       "      <td>0.055556</td>\n",
       "    </tr>\n",
       "    <tr>\n",
       "      <th>1 NA-PP1 (PP1 ANALOG)</th>\n",
       "      <td>0.000000</td>\n",
       "      <td>0.000000</td>\n",
       "      <td>0.055556</td>\n",
       "      <td>1.000000</td>\n",
       "      <td>0.666667</td>\n",
       "      <td>0.000000</td>\n",
       "      <td>0.000000</td>\n",
       "      <td>0.000000</td>\n",
       "      <td>0.0</td>\n",
       "      <td>0.0</td>\n",
       "      <td>...</td>\n",
       "      <td>0.0</td>\n",
       "      <td>0.0</td>\n",
       "      <td>0.0</td>\n",
       "      <td>0.000</td>\n",
       "      <td>0.000000</td>\n",
       "      <td>0.000000</td>\n",
       "      <td>0.000000</td>\n",
       "      <td>0.000000</td>\n",
       "      <td>0.100000</td>\n",
       "      <td>0.041667</td>\n",
       "    </tr>\n",
       "    <tr>\n",
       "      <th>1 NM-PP1 (PP1 ANALOG II)</th>\n",
       "      <td>0.000000</td>\n",
       "      <td>0.000000</td>\n",
       "      <td>0.047619</td>\n",
       "      <td>0.666667</td>\n",
       "      <td>1.000000</td>\n",
       "      <td>0.000000</td>\n",
       "      <td>0.000000</td>\n",
       "      <td>0.000000</td>\n",
       "      <td>0.0</td>\n",
       "      <td>0.0</td>\n",
       "      <td>...</td>\n",
       "      <td>0.0</td>\n",
       "      <td>0.0</td>\n",
       "      <td>0.0</td>\n",
       "      <td>0.000</td>\n",
       "      <td>0.000000</td>\n",
       "      <td>0.000000</td>\n",
       "      <td>0.000000</td>\n",
       "      <td>0.000000</td>\n",
       "      <td>0.272727</td>\n",
       "      <td>0.039216</td>\n",
       "    </tr>\n",
       "  </tbody>\n",
       "</table>\n",
       "<p>5 rows × 1150 columns</p>\n",
       "</div>"
      ],
      "text/plain": [
       "                                                    (5Z)-7-OXOZEAENOL  \\\n",
       "                                                                        \n",
       "(5Z)-7-OXOZEAENOL                                            1.000000   \n",
       "(E)-N-METHYL-2-((3-(2-(PYRIDIN-2-YL)VINYL)-1H-I...           0.071429   \n",
       "(R)-ROSCOVITINE                                              0.000000   \n",
       "1 NA-PP1 (PP1 ANALOG)                                        0.000000   \n",
       "1 NM-PP1 (PP1 ANALOG II)                                     0.000000   \n",
       "\n",
       "                                                    (E)-N-METHYL-2-((3-(2-(PYRIDIN-2-YL)VINYL)-1H-INDAZOL-6-YL)THIO)BENZAMIDE  \\\n",
       "                                                                                                                                \n",
       "(5Z)-7-OXOZEAENOL                                                                            0.071429                           \n",
       "(E)-N-METHYL-2-((3-(2-(PYRIDIN-2-YL)VINYL)-1H-I...                                           1.000000                           \n",
       "(R)-ROSCOVITINE                                                                              0.000000                           \n",
       "1 NA-PP1 (PP1 ANALOG)                                                                        0.000000                           \n",
       "1 NM-PP1 (PP1 ANALOG II)                                                                     0.000000                           \n",
       "\n",
       "                                                    (R)-ROSCOVITINE  \\\n",
       "                                                                      \n",
       "(5Z)-7-OXOZEAENOL                                          0.000000   \n",
       "(E)-N-METHYL-2-((3-(2-(PYRIDIN-2-YL)VINYL)-1H-I...         0.000000   \n",
       "(R)-ROSCOVITINE                                            1.000000   \n",
       "1 NA-PP1 (PP1 ANALOG)                                      0.055556   \n",
       "1 NM-PP1 (PP1 ANALOG II)                                   0.047619   \n",
       "\n",
       "                                                    1 NA-PP1 (PP1 ANALOG)  \\\n",
       "                                                                            \n",
       "(5Z)-7-OXOZEAENOL                                                0.000000   \n",
       "(E)-N-METHYL-2-((3-(2-(PYRIDIN-2-YL)VINYL)-1H-I...               0.000000   \n",
       "(R)-ROSCOVITINE                                                  0.055556   \n",
       "1 NA-PP1 (PP1 ANALOG)                                            1.000000   \n",
       "1 NM-PP1 (PP1 ANALOG II)                                         0.666667   \n",
       "\n",
       "                                                    1 NM-PP1 (PP1 ANALOG II)  \\\n",
       "                                                                               \n",
       "(5Z)-7-OXOZEAENOL                                                   0.000000   \n",
       "(E)-N-METHYL-2-((3-(2-(PYRIDIN-2-YL)VINYL)-1H-I...                  0.000000   \n",
       "(R)-ROSCOVITINE                                                     0.047619   \n",
       "1 NA-PP1 (PP1 ANALOG)                                               0.666667   \n",
       "1 NM-PP1 (PP1 ANALOG II)                                            1.000000   \n",
       "\n",
       "                                                    1,2,4-TRIAZOLO[4,3-B]PYRIDAZINE, 3-(3-NITROPHENYL)-6-(1-PIPERIDINYL)-  \\\n",
       "                                                                                                                            \n",
       "(5Z)-7-OXOZEAENOL                                                                            0.000000                       \n",
       "(E)-N-METHYL-2-((3-(2-(PYRIDIN-2-YL)VINYL)-1H-I...                                           0.000000                       \n",
       "(R)-ROSCOVITINE                                                                              0.066667                       \n",
       "1 NA-PP1 (PP1 ANALOG)                                                                        0.000000                       \n",
       "1 NM-PP1 (PP1 ANALOG II)                                                                     0.000000                       \n",
       "\n",
       "                                                    1,9-PYRAZOLOANTHRONE  \\\n",
       "                                                                           \n",
       "(5Z)-7-OXOZEAENOL                                               0.000000   \n",
       "(E)-N-METHYL-2-((3-(2-(PYRIDIN-2-YL)VINYL)-1H-I...              0.111111   \n",
       "(R)-ROSCOVITINE                                                 0.000000   \n",
       "1 NA-PP1 (PP1 ANALOG)                                           0.000000   \n",
       "1 NM-PP1 (PP1 ANALOG II)                                        0.000000   \n",
       "\n",
       "                                                    1-(3-METHYLPHENYL)-3-[4-(1-OXO-2,3-DIHYDROISOINDOL-4-YL)PHENYL]UREA  \\\n",
       "                                                                                                                          \n",
       "(5Z)-7-OXOZEAENOL                                                                            0.111111                     \n",
       "(E)-N-METHYL-2-((3-(2-(PYRIDIN-2-YL)VINYL)-1H-I...                                           0.125000                     \n",
       "(R)-ROSCOVITINE                                                                              0.000000                     \n",
       "1 NA-PP1 (PP1 ANALOG)                                                                        0.000000                     \n",
       "1 NM-PP1 (PP1 ANALOG II)                                                                     0.000000                     \n",
       "\n",
       "                                                    1-(4-AMINO-1,2,5-OXADIAZOL-3-YL)-N-[(2-ETHOXYPHENYL)METHYLIDENEAMINO]-5-PYRROLIDIN-1-YLTRIAZOLE-4-CARBOXAMIDE  \\\n",
       "                                                                                                                                                                    \n",
       "(5Z)-7-OXOZEAENOL                                                                                 0.0                                                               \n",
       "(E)-N-METHYL-2-((3-(2-(PYRIDIN-2-YL)VINYL)-1H-I...                                                0.0                                                               \n",
       "(R)-ROSCOVITINE                                                                                   0.0                                                               \n",
       "1 NA-PP1 (PP1 ANALOG)                                                                             0.0                                                               \n",
       "1 NM-PP1 (PP1 ANALOG II)                                                                          0.0                                                               \n",
       "\n",
       "                                                    1-AZAKENPAULLONE  \\\n",
       "                                                                       \n",
       "(5Z)-7-OXOZEAENOL                                                0.0   \n",
       "(E)-N-METHYL-2-((3-(2-(PYRIDIN-2-YL)VINYL)-1H-I...               0.0   \n",
       "(R)-ROSCOVITINE                                                  0.0   \n",
       "1 NA-PP1 (PP1 ANALOG)                                            0.0   \n",
       "1 NM-PP1 (PP1 ANALOG II)                                         0.0   \n",
       "\n",
       "                                                      ...      XMD8-92  \\\n",
       "                                                      ...                \n",
       "(5Z)-7-OXOZEAENOL                                     ...          0.0   \n",
       "(E)-N-METHYL-2-((3-(2-(PYRIDIN-2-YL)VINYL)-1H-I...    ...          0.0   \n",
       "(R)-ROSCOVITINE                                       ...          0.0   \n",
       "1 NA-PP1 (PP1 ANALOG)                                 ...          0.0   \n",
       "1 NM-PP1 (PP1 ANALOG II)                              ...          0.0   \n",
       "\n",
       "                                                    Y-27632  ZEARALENONE  \\\n",
       "                                                                           \n",
       "(5Z)-7-OXOZEAENOL                                       0.0          0.0   \n",
       "(E)-N-METHYL-2-((3-(2-(PYRIDIN-2-YL)VINYL)-1H-I...      0.0          0.0   \n",
       "(R)-ROSCOVITINE                                         0.0          0.0   \n",
       "1 NA-PP1 (PP1 ANALOG)                                   0.0          0.0   \n",
       "1 NM-PP1 (PP1 ANALOG II)                                0.0          0.0   \n",
       "\n",
       "                                                    ZINC00027781  \\\n",
       "                                                                   \n",
       "(5Z)-7-OXOZEAENOL                                          0.000   \n",
       "(E)-N-METHYL-2-((3-(2-(PYRIDIN-2-YL)VINYL)-1H-I...         0.125   \n",
       "(R)-ROSCOVITINE                                            0.000   \n",
       "1 NA-PP1 (PP1 ANALOG)                                      0.000   \n",
       "1 NM-PP1 (PP1 ANALOG II)                                   0.000   \n",
       "\n",
       "                                                    ZINC00121334  \\\n",
       "                                                                   \n",
       "(5Z)-7-OXOZEAENOL                                       0.000000   \n",
       "(E)-N-METHYL-2-((3-(2-(PYRIDIN-2-YL)VINYL)-1H-I...      0.000000   \n",
       "(R)-ROSCOVITINE                                         0.076923   \n",
       "1 NA-PP1 (PP1 ANALOG)                                   0.000000   \n",
       "1 NM-PP1 (PP1 ANALOG II)                                0.000000   \n",
       "\n",
       "                                                    ZINC04457925  \\\n",
       "                                                                   \n",
       "(5Z)-7-OXOZEAENOL                                       0.000000   \n",
       "(E)-N-METHYL-2-((3-(2-(PYRIDIN-2-YL)VINYL)-1H-I...      0.000000   \n",
       "(R)-ROSCOVITINE                                         0.071429   \n",
       "1 NA-PP1 (PP1 ANALOG)                                   0.000000   \n",
       "1 NM-PP1 (PP1 ANALOG II)                                0.000000   \n",
       "\n",
       "                                                    ZINC04494446  \\\n",
       "                                                                   \n",
       "(5Z)-7-OXOZEAENOL                                       0.000000   \n",
       "(E)-N-METHYL-2-((3-(2-(PYRIDIN-2-YL)VINYL)-1H-I...      0.000000   \n",
       "(R)-ROSCOVITINE                                         0.066667   \n",
       "1 NA-PP1 (PP1 ANALOG)                                   0.000000   \n",
       "1 NM-PP1 (PP1 ANALOG II)                                0.000000   \n",
       "\n",
       "                                                    ZINC04547409  ZM 336372  \\\n",
       "                                                                              \n",
       "(5Z)-7-OXOZEAENOL                                       0.000000   0.000000   \n",
       "(E)-N-METHYL-2-((3-(2-(PYRIDIN-2-YL)VINYL)-1H-I...      0.000000   0.000000   \n",
       "(R)-ROSCOVITINE                                         0.076923   0.000000   \n",
       "1 NA-PP1 (PP1 ANALOG)                                   0.000000   0.100000   \n",
       "1 NM-PP1 (PP1 ANALOG II)                                0.000000   0.272727   \n",
       "\n",
       "                                                    ZM-447439  \n",
       "                                                               \n",
       "(5Z)-7-OXOZEAENOL                                    0.040000  \n",
       "(E)-N-METHYL-2-((3-(2-(PYRIDIN-2-YL)VINYL)-1H-I...   0.108696  \n",
       "(R)-ROSCOVITINE                                      0.055556  \n",
       "1 NA-PP1 (PP1 ANALOG)                                0.041667  \n",
       "1 NM-PP1 (PP1 ANALOG II)                             0.039216  \n",
       "\n",
       "[5 rows x 1150 columns]"
      ]
     },
     "execution_count": 32,
     "metadata": {},
     "output_type": "execute_result"
    }
   ],
   "source": [
    "attribute_similarity_matix.head()"
   ]
  },
  {
   "cell_type": "markdown",
   "metadata": {},
   "source": [
    "# Save Attribute Similarity Matrix"
   ]
  },
  {
   "cell_type": "code",
   "execution_count": 33,
   "metadata": {},
   "outputs": [],
   "source": [
    "filename = path+'dsigdb_kinase_inhibitors_attribute_similarity_matix_%s.tsv.zip'% str(datetime.date.today())[0:7].replace('-', '_')\n",
    "attribute_similarity_matix.to_csv(filename, sep='\\t', compression='gzip')"
   ]
  },
  {
   "cell_type": "markdown",
   "metadata": {},
   "source": [
    "# HeatMap (clustergrammer) of Similarity Matrix"
   ]
  },
  {
   "cell_type": "code",
   "execution_count": 35,
   "metadata": {},
   "outputs": [],
   "source": [
    "# net.load_df(attribute_similarity_matix.iloc[0:100,0:100].copy())\n",
    "# # net.filter_N_top('row', rank_type='sum', N_top=300)\n",
    "# net.cluster()\n",
    "# net.widget()"
   ]
  },
  {
   "cell_type": "markdown",
   "metadata": {},
   "source": [
    "# Create Gene List"
   ]
  },
  {
   "cell_type": "code",
   "execution_count": 36,
   "metadata": {},
   "outputs": [
    {
     "name": "stdout",
     "output_type": "stream",
     "text": [
      "Progeres: 100%  404 Out of 404   \r"
     ]
    }
   ],
   "source": [
    "gene_list = uf.createGeneList(binary_matrix)"
   ]
  },
  {
   "cell_type": "code",
   "execution_count": 37,
   "metadata": {},
   "outputs": [
    {
     "data": {
      "text/html": [
       "<div>\n",
       "<style scoped>\n",
       "    .dataframe tbody tr th:only-of-type {\n",
       "        vertical-align: middle;\n",
       "    }\n",
       "\n",
       "    .dataframe tbody tr th {\n",
       "        vertical-align: top;\n",
       "    }\n",
       "\n",
       "    .dataframe thead th {\n",
       "        text-align: right;\n",
       "    }\n",
       "</style>\n",
       "<table border=\"1\" class=\"dataframe\">\n",
       "  <thead>\n",
       "    <tr style=\"text-align: right;\">\n",
       "      <th></th>\n",
       "      <th>GeneSym</th>\n",
       "      <th>GeneID</th>\n",
       "    </tr>\n",
       "  </thead>\n",
       "  <tbody>\n",
       "    <tr>\n",
       "      <th>0</th>\n",
       "      <td>EPHA2</td>\n",
       "      <td>1969</td>\n",
       "    </tr>\n",
       "    <tr>\n",
       "      <th>1</th>\n",
       "      <td>BRSK1</td>\n",
       "      <td>84446</td>\n",
       "    </tr>\n",
       "    <tr>\n",
       "      <th>2</th>\n",
       "      <td>WEE2</td>\n",
       "      <td>494551</td>\n",
       "    </tr>\n",
       "    <tr>\n",
       "      <th>3</th>\n",
       "      <td>CDK7</td>\n",
       "      <td>1022</td>\n",
       "    </tr>\n",
       "    <tr>\n",
       "      <th>4</th>\n",
       "      <td>MKNK1</td>\n",
       "      <td>8569</td>\n",
       "    </tr>\n",
       "  </tbody>\n",
       "</table>\n",
       "</div>"
      ],
      "text/plain": [
       "  GeneSym  GeneID\n",
       "0   EPHA2    1969\n",
       "1   BRSK1   84446\n",
       "2    WEE2  494551\n",
       "3    CDK7    1022\n",
       "4   MKNK1    8569"
      ]
     },
     "execution_count": 37,
     "metadata": {},
     "output_type": "execute_result"
    }
   ],
   "source": [
    "gene_list.head()"
   ]
  },
  {
   "cell_type": "code",
   "execution_count": 38,
   "metadata": {},
   "outputs": [
    {
     "data": {
      "text/plain": [
       "(404, 2)"
      ]
     },
     "execution_count": 38,
     "metadata": {},
     "output_type": "execute_result"
    }
   ],
   "source": [
    "gene_list.shape"
   ]
  },
  {
   "cell_type": "markdown",
   "metadata": {},
   "source": [
    "# Save Gene List"
   ]
  },
  {
   "cell_type": "code",
   "execution_count": 39,
   "metadata": {},
   "outputs": [],
   "source": [
    "filename = path+'dsigdb_kinase_inhibitors_gene_list_%s.tsv.zip'% str(datetime.date.today())[0:7].replace('-', '_')\n",
    "gene_list.to_csv(filename, sep='\\t', index=False, compression='gzip')"
   ]
  },
  {
   "cell_type": "markdown",
   "metadata": {},
   "source": [
    "# Create Attribute List"
   ]
  },
  {
   "cell_type": "markdown",
   "metadata": {},
   "source": [
    "### Create Metadata Table"
   ]
  },
  {
   "cell_type": "code",
   "execution_count": 40,
   "metadata": {},
   "outputs": [
    {
     "data": {
      "text/html": [
       "<div>\n",
       "<style scoped>\n",
       "    .dataframe tbody tr th:only-of-type {\n",
       "        vertical-align: middle;\n",
       "    }\n",
       "\n",
       "    .dataframe tbody tr th {\n",
       "        vertical-align: top;\n",
       "    }\n",
       "\n",
       "    .dataframe thead th {\n",
       "        text-align: right;\n",
       "    }\n",
       "</style>\n",
       "<table border=\"1\" class=\"dataframe\">\n",
       "  <thead>\n",
       "    <tr style=\"text-align: right;\">\n",
       "      <th></th>\n",
       "      <th>Gene</th>\n",
       "      <th>Drug</th>\n",
       "      <th>Type</th>\n",
       "      <th>Source</th>\n",
       "    </tr>\n",
       "  </thead>\n",
       "  <tbody>\n",
       "    <tr>\n",
       "      <th>0</th>\n",
       "      <td>DYRK1A</td>\n",
       "      <td>2-(2-Quinolin-3-Ylpyridin-4-Yl)-1,5,6,7-Tetrah...</td>\n",
       "      <td>Ki=3.98107(nM)</td>\n",
       "      <td>Roche</td>\n",
       "    </tr>\n",
       "    <tr>\n",
       "      <th>1</th>\n",
       "      <td>PLK1</td>\n",
       "      <td>GSK978744A</td>\n",
       "      <td>POC=7.85(0.1uM)</td>\n",
       "      <td>GSK</td>\n",
       "    </tr>\n",
       "    <tr>\n",
       "      <th>3</th>\n",
       "      <td>STK10</td>\n",
       "      <td>GSK978744A</td>\n",
       "      <td>POC=14.26(1uM)</td>\n",
       "      <td>GSK</td>\n",
       "    </tr>\n",
       "    <tr>\n",
       "      <th>4</th>\n",
       "      <td>NEK9</td>\n",
       "      <td>GSK978744A</td>\n",
       "      <td>POC=8.59(1uM)</td>\n",
       "      <td>GSK</td>\n",
       "    </tr>\n",
       "    <tr>\n",
       "      <th>5</th>\n",
       "      <td>EGFR</td>\n",
       "      <td>Erlotinib</td>\n",
       "      <td>Kd=140.0(nM)</td>\n",
       "      <td>FDA</td>\n",
       "    </tr>\n",
       "  </tbody>\n",
       "</table>\n",
       "</div>"
      ],
      "text/plain": [
       "     Gene                                               Drug             Type  \\\n",
       "0  DYRK1A  2-(2-Quinolin-3-Ylpyridin-4-Yl)-1,5,6,7-Tetrah...   Ki=3.98107(nM)   \n",
       "1    PLK1                                         GSK978744A  POC=7.85(0.1uM)   \n",
       "3   STK10                                         GSK978744A   POC=14.26(1uM)   \n",
       "4    NEK9                                         GSK978744A    POC=8.59(1uM)   \n",
       "5    EGFR                                          Erlotinib     Kd=140.0(nM)   \n",
       "\n",
       "  Source  \n",
       "0  Roche  \n",
       "1    GSK  \n",
       "3    GSK  \n",
       "4    GSK  \n",
       "5    FDA  "
      ]
     },
     "execution_count": 40,
     "metadata": {},
     "output_type": "execute_result"
    }
   ],
   "source": [
    "data.head()"
   ]
  },
  {
   "cell_type": "code",
   "execution_count": 41,
   "metadata": {},
   "outputs": [],
   "source": [
    "temp = data[['Drug', 'Type', 'Source']].copy()"
   ]
  },
  {
   "cell_type": "code",
   "execution_count": 42,
   "metadata": {},
   "outputs": [],
   "source": [
    "lst = [x.upper() for x in temp['Drug']]\n",
    "\n",
    "temp['Drug'] = lst"
   ]
  },
  {
   "cell_type": "code",
   "execution_count": 43,
   "metadata": {},
   "outputs": [],
   "source": [
    "temp.set_index('Drug', inplace=True)"
   ]
  },
  {
   "cell_type": "code",
   "execution_count": 47,
   "metadata": {},
   "outputs": [
    {
     "data": {
      "text/html": [
       "<div>\n",
       "<style scoped>\n",
       "    .dataframe tbody tr th:only-of-type {\n",
       "        vertical-align: middle;\n",
       "    }\n",
       "\n",
       "    .dataframe tbody tr th {\n",
       "        vertical-align: top;\n",
       "    }\n",
       "\n",
       "    .dataframe thead th {\n",
       "        text-align: right;\n",
       "    }\n",
       "</style>\n",
       "<table border=\"1\" class=\"dataframe\">\n",
       "  <thead>\n",
       "    <tr style=\"text-align: right;\">\n",
       "      <th></th>\n",
       "      <th>Source</th>\n",
       "    </tr>\n",
       "    <tr>\n",
       "      <th></th>\n",
       "      <th></th>\n",
       "    </tr>\n",
       "  </thead>\n",
       "  <tbody>\n",
       "    <tr>\n",
       "      <th>(5Z)-7-OXOZEAENOL</th>\n",
       "      <td>MRC</td>\n",
       "    </tr>\n",
       "    <tr>\n",
       "      <th>(E)-N-METHYL-2-((3-(2-(PYRIDIN-2-YL)VINYL)-1H-INDAZOL-6-YL)THIO)BENZAMIDE</th>\n",
       "      <td>Roche</td>\n",
       "    </tr>\n",
       "    <tr>\n",
       "      <th>(R)-ROSCOVITINE</th>\n",
       "      <td>LINCS</td>\n",
       "    </tr>\n",
       "    <tr>\n",
       "      <th>1 NA-PP1 (PP1 ANALOG)</th>\n",
       "      <td>MRC</td>\n",
       "    </tr>\n",
       "    <tr>\n",
       "      <th>1 NM-PP1 (PP1 ANALOG II)</th>\n",
       "      <td>MRC</td>\n",
       "    </tr>\n",
       "  </tbody>\n",
       "</table>\n",
       "</div>"
      ],
      "text/plain": [
       "                                                   Source\n",
       "                                                         \n",
       "(5Z)-7-OXOZEAENOL                                     MRC\n",
       "(E)-N-METHYL-2-((3-(2-(PYRIDIN-2-YL)VINYL)-1H-I...  Roche\n",
       "(R)-ROSCOVITINE                                     LINCS\n",
       "1 NA-PP1 (PP1 ANALOG)                                 MRC\n",
       "1 NM-PP1 (PP1 ANALOG II)                              MRC"
      ]
     },
     "execution_count": 47,
     "metadata": {},
     "output_type": "execute_result"
    }
   ],
   "source": [
    "source = []\n",
    "\n",
    "metaData = pd.DataFrame(columns=['Source'], index=binary_matrix.columns)\n",
    "\n",
    "for index in metaData.index:\n",
    "    if type(temp.loc[index, 'Source']) == str:\n",
    "        source.append(temp.loc[index, 'Source'])\n",
    "    else:\n",
    "        source.append((':').join(set([x for x in temp.loc[index, 'Source'].values.tolist()])))\n",
    "    \n",
    "metaData['Source'] = source\n",
    "\n",
    "metaData.head()"
   ]
  },
  {
   "cell_type": "code",
   "execution_count": 49,
   "metadata": {},
   "outputs": [
    {
     "name": "stdout",
     "output_type": "stream",
     "text": [
      "Progeres: 100%  1150 Out of 1150   \r"
     ]
    }
   ],
   "source": [
    "attribute_list = uf.createAttributeList(binary_matrix, metaData)"
   ]
  },
  {
   "cell_type": "code",
   "execution_count": 50,
   "metadata": {},
   "outputs": [
    {
     "data": {
      "text/html": [
       "<div>\n",
       "<style scoped>\n",
       "    .dataframe tbody tr th:only-of-type {\n",
       "        vertical-align: middle;\n",
       "    }\n",
       "\n",
       "    .dataframe tbody tr th {\n",
       "        vertical-align: top;\n",
       "    }\n",
       "\n",
       "    .dataframe thead th {\n",
       "        text-align: right;\n",
       "    }\n",
       "</style>\n",
       "<table border=\"1\" class=\"dataframe\">\n",
       "  <thead>\n",
       "    <tr style=\"text-align: right;\">\n",
       "      <th></th>\n",
       "      <th>Source</th>\n",
       "    </tr>\n",
       "    <tr>\n",
       "      <th>Attributes</th>\n",
       "      <th></th>\n",
       "    </tr>\n",
       "  </thead>\n",
       "  <tbody>\n",
       "    <tr>\n",
       "      <th>(5Z)-7-OXOZEAENOL</th>\n",
       "      <td>MRC</td>\n",
       "    </tr>\n",
       "    <tr>\n",
       "      <th>(E)-N-METHYL-2-((3-(2-(PYRIDIN-2-YL)VINYL)-1H-INDAZOL-6-YL)THIO)BENZAMIDE</th>\n",
       "      <td>Roche</td>\n",
       "    </tr>\n",
       "    <tr>\n",
       "      <th>(R)-ROSCOVITINE</th>\n",
       "      <td>LINCS</td>\n",
       "    </tr>\n",
       "    <tr>\n",
       "      <th>1 NA-PP1 (PP1 ANALOG)</th>\n",
       "      <td>MRC</td>\n",
       "    </tr>\n",
       "    <tr>\n",
       "      <th>1 NM-PP1 (PP1 ANALOG II)</th>\n",
       "      <td>MRC</td>\n",
       "    </tr>\n",
       "  </tbody>\n",
       "</table>\n",
       "</div>"
      ],
      "text/plain": [
       "                                                   Source\n",
       "Attributes                                               \n",
       "(5Z)-7-OXOZEAENOL                                     MRC\n",
       "(E)-N-METHYL-2-((3-(2-(PYRIDIN-2-YL)VINYL)-1H-I...  Roche\n",
       "(R)-ROSCOVITINE                                     LINCS\n",
       "1 NA-PP1 (PP1 ANALOG)                                 MRC\n",
       "1 NM-PP1 (PP1 ANALOG II)                              MRC"
      ]
     },
     "execution_count": 50,
     "metadata": {},
     "output_type": "execute_result"
    }
   ],
   "source": [
    "attribute_list.head()"
   ]
  },
  {
   "cell_type": "code",
   "execution_count": 51,
   "metadata": {},
   "outputs": [
    {
     "data": {
      "text/plain": [
       "(1150, 1)"
      ]
     },
     "execution_count": 51,
     "metadata": {},
     "output_type": "execute_result"
    }
   ],
   "source": [
    "attribute_list.shape"
   ]
  },
  {
   "cell_type": "markdown",
   "metadata": {},
   "source": [
    "# Save Attribute List"
   ]
  },
  {
   "cell_type": "code",
   "execution_count": 52,
   "metadata": {},
   "outputs": [],
   "source": [
    "filename = path+'dsigdb_kinase_inhibitors_attribute_list_%s.tsv.zip'% str(datetime.date.today())[0:7].replace('-', '_')\n",
    "attribute_list.to_csv(filename, sep='\\t', index=False, compression='gzip')"
   ]
  },
  {
   "cell_type": "markdown",
   "metadata": {},
   "source": [
    "# Create Gene-Attribute Edge List"
   ]
  },
  {
   "cell_type": "code",
   "execution_count": 53,
   "metadata": {},
   "outputs": [],
   "source": [
    "name = 'dsigdb_kinase_inhibitors_attribute_edge_list'"
   ]
  },
  {
   "cell_type": "code",
   "execution_count": 54,
   "metadata": {},
   "outputs": [
    {
     "name": "stdout",
     "output_type": "stream",
     "text": [
      "Progeres: 100%  1150 Out of 1150   \n",
      "\n",
      " The number of statisticaly relevent gene-attribute associations is: 16240\n"
     ]
    }
   ],
   "source": [
    "uf.createGeneAttributeEdgeList(binary_matrix, attribute_list, gene_list, path, name)"
   ]
  }
 ],
 "metadata": {
  "kernelspec": {
   "display_name": "Python [default]",
   "language": "python",
   "name": "python3"
  },
  "language_info": {
   "codemirror_mode": {
    "name": "ipython",
    "version": 3
   },
   "file_extension": ".py",
   "mimetype": "text/x-python",
   "name": "python",
   "nbconvert_exporter": "python",
   "pygments_lexer": "ipython3",
   "version": "3.5.5"
  }
 },
 "nbformat": 4,
 "nbformat_minor": 2
}
