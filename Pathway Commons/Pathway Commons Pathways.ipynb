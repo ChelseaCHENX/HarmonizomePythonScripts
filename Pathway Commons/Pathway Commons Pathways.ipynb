{
 "cells": [
  {
   "cell_type": "markdown",
   "metadata": {},
   "source": [
    "# Pathway Commons Pathways"
   ]
  },
  {
   "cell_type": "markdown",
   "metadata": {},
   "source": [
    "Author: Moshe Silverstein  \n",
    "Date: 08-18  \n",
    "Data Source Home: https://www.pathwaycommons.org/    \n",
    "Data Source Download: http://www.pathwaycommons.org/archives/PC2/v10/"
   ]
  },
  {
   "cell_type": "code",
   "execution_count": 1,
   "metadata": {},
   "outputs": [],
   "source": [
    "import sys, datetime, os\n",
    "import numpy as np\n",
    "import pandas as pd\n",
    "import importlib\n",
    "import utility_functions as uf\n",
    "import matplotlib.pyplot as plt\n",
    "%matplotlib inline\n",
    "from collections import Counter"
   ]
  },
  {
   "cell_type": "code",
   "execution_count": 2,
   "metadata": {},
   "outputs": [],
   "source": [
    "import seaborn as sns\n",
    "sns.set(color_codes=True)\n",
    "np.random.seed(sum(map(ord, \"distributions\")))"
   ]
  },
  {
   "cell_type": "markdown",
   "metadata": {},
   "source": [
    "# Path to Output Files"
   ]
  },
  {
   "cell_type": "code",
   "execution_count": 3,
   "metadata": {},
   "outputs": [],
   "source": [
    "path = '/Users/moshesilverstein/Documents/Harmonizome/Pathwaycommons/Output/'"
   ]
  },
  {
   "cell_type": "markdown",
   "metadata": {},
   "source": [
    "# Load Data"
   ]
  },
  {
   "cell_type": "code",
   "execution_count": 4,
   "metadata": {},
   "outputs": [],
   "source": [
    "df = pd.read_csv('Input/PathwayCommons10.All.hgnc.txt', sep='\\t')"
   ]
  },
  {
   "cell_type": "code",
   "execution_count": 5,
   "metadata": {},
   "outputs": [
    {
     "data": {
      "text/html": [
       "<div>\n",
       "<style scoped>\n",
       "    .dataframe tbody tr th:only-of-type {\n",
       "        vertical-align: middle;\n",
       "    }\n",
       "\n",
       "    .dataframe tbody tr th {\n",
       "        vertical-align: top;\n",
       "    }\n",
       "\n",
       "    .dataframe thead th {\n",
       "        text-align: right;\n",
       "    }\n",
       "</style>\n",
       "<table border=\"1\" class=\"dataframe\">\n",
       "  <thead>\n",
       "    <tr style=\"text-align: right;\">\n",
       "      <th></th>\n",
       "      <th>PARTICIPANT_A</th>\n",
       "      <th>INTERACTION_TYPE</th>\n",
       "      <th>PARTICIPANT_B</th>\n",
       "      <th>INTERACTION_DATA_SOURCE</th>\n",
       "      <th>INTERACTION_PUBMED_ID</th>\n",
       "      <th>PATHWAY_NAMES</th>\n",
       "      <th>MEDIATOR_IDS</th>\n",
       "    </tr>\n",
       "  </thead>\n",
       "  <tbody>\n",
       "    <tr>\n",
       "      <th>0</th>\n",
       "      <td>A1BG</td>\n",
       "      <td>controls-expression-of</td>\n",
       "      <td>A2M</td>\n",
       "      <td>pid</td>\n",
       "      <td>12456685;7678052;9794795</td>\n",
       "      <td>IL6-mediated signaling events</td>\n",
       "      <td>http://pathwaycommons.org/pc2/TemplateReaction...</td>\n",
       "    </tr>\n",
       "    <tr>\n",
       "      <th>1</th>\n",
       "      <td>A1BG</td>\n",
       "      <td>interacts-with</td>\n",
       "      <td>ABCC6</td>\n",
       "      <td>BioGRID</td>\n",
       "      <td>21988832</td>\n",
       "      <td>NaN</td>\n",
       "      <td>http://pathwaycommons.org/pc2/MolecularInterac...</td>\n",
       "    </tr>\n",
       "    <tr>\n",
       "      <th>2</th>\n",
       "      <td>A1BG</td>\n",
       "      <td>interacts-with</td>\n",
       "      <td>ACE2</td>\n",
       "      <td>BIND</td>\n",
       "      <td>15791205</td>\n",
       "      <td>NaN</td>\n",
       "      <td>http://pathwaycommons.org/pc2/MolecularInterac...</td>\n",
       "    </tr>\n",
       "    <tr>\n",
       "      <th>3</th>\n",
       "      <td>A1BG</td>\n",
       "      <td>interacts-with</td>\n",
       "      <td>ADAM10</td>\n",
       "      <td>BIND</td>\n",
       "      <td>15280379</td>\n",
       "      <td>NaN</td>\n",
       "      <td>http://pathwaycommons.org/pc2/MolecularInterac...</td>\n",
       "    </tr>\n",
       "    <tr>\n",
       "      <th>4</th>\n",
       "      <td>A1BG</td>\n",
       "      <td>interacts-with</td>\n",
       "      <td>ADAM17</td>\n",
       "      <td>BIND</td>\n",
       "      <td>15280379</td>\n",
       "      <td>NaN</td>\n",
       "      <td>http://pathwaycommons.org/pc2/MolecularInterac...</td>\n",
       "    </tr>\n",
       "  </tbody>\n",
       "</table>\n",
       "</div>"
      ],
      "text/plain": [
       "  PARTICIPANT_A        INTERACTION_TYPE PARTICIPANT_B INTERACTION_DATA_SOURCE  \\\n",
       "0          A1BG  controls-expression-of           A2M                     pid   \n",
       "1          A1BG          interacts-with         ABCC6                 BioGRID   \n",
       "2          A1BG          interacts-with          ACE2                    BIND   \n",
       "3          A1BG          interacts-with        ADAM10                    BIND   \n",
       "4          A1BG          interacts-with        ADAM17                    BIND   \n",
       "\n",
       "      INTERACTION_PUBMED_ID                  PATHWAY_NAMES  \\\n",
       "0  12456685;7678052;9794795  IL6-mediated signaling events   \n",
       "1                  21988832                            NaN   \n",
       "2                  15791205                            NaN   \n",
       "3                  15280379                            NaN   \n",
       "4                  15280379                            NaN   \n",
       "\n",
       "                                        MEDIATOR_IDS  \n",
       "0  http://pathwaycommons.org/pc2/TemplateReaction...  \n",
       "1  http://pathwaycommons.org/pc2/MolecularInterac...  \n",
       "2  http://pathwaycommons.org/pc2/MolecularInterac...  \n",
       "3  http://pathwaycommons.org/pc2/MolecularInterac...  \n",
       "4  http://pathwaycommons.org/pc2/MolecularInterac...  "
      ]
     },
     "execution_count": 5,
     "metadata": {},
     "output_type": "execute_result"
    }
   ],
   "source": [
    "df.head()"
   ]
  },
  {
   "cell_type": "code",
   "execution_count": 6,
   "metadata": {},
   "outputs": [
    {
     "data": {
      "text/plain": [
       "(2407583, 7)"
      ]
     },
     "execution_count": 6,
     "metadata": {},
     "output_type": "execute_result"
    }
   ],
   "source": [
    "df.shape"
   ]
  },
  {
   "cell_type": "markdown",
   "metadata": {},
   "source": [
    "# Get relevant data"
   ]
  },
  {
   "cell_type": "code",
   "execution_count": 7,
   "metadata": {},
   "outputs": [],
   "source": [
    "df1 = df[['PARTICIPANT_A', 'PATHWAY_NAMES']]"
   ]
  },
  {
   "cell_type": "code",
   "execution_count": 8,
   "metadata": {},
   "outputs": [],
   "source": [
    "df1.columns = ['Gene', 'Pathway']"
   ]
  },
  {
   "cell_type": "code",
   "execution_count": 9,
   "metadata": {},
   "outputs": [
    {
     "data": {
      "text/plain": [
       "(2407583, 2)"
      ]
     },
     "execution_count": 9,
     "metadata": {},
     "output_type": "execute_result"
    }
   ],
   "source": [
    "df1.shape"
   ]
  },
  {
   "cell_type": "code",
   "execution_count": 10,
   "metadata": {},
   "outputs": [],
   "source": [
    "df2 = df[['PARTICIPANT_B', 'PATHWAY_NAMES']]"
   ]
  },
  {
   "cell_type": "code",
   "execution_count": 11,
   "metadata": {},
   "outputs": [],
   "source": [
    "df2.columns = ['Gene', 'Pathway']"
   ]
  },
  {
   "cell_type": "code",
   "execution_count": 12,
   "metadata": {},
   "outputs": [
    {
     "data": {
      "text/plain": [
       "(2407583, 2)"
      ]
     },
     "execution_count": 12,
     "metadata": {},
     "output_type": "execute_result"
    }
   ],
   "source": [
    "df2.shape"
   ]
  },
  {
   "cell_type": "code",
   "execution_count": 13,
   "metadata": {},
   "outputs": [],
   "source": [
    "df = pd.concat([df1,df2])"
   ]
  },
  {
   "cell_type": "code",
   "execution_count": 14,
   "metadata": {},
   "outputs": [],
   "source": [
    "df.reset_index(inplace=True)"
   ]
  },
  {
   "cell_type": "code",
   "execution_count": 15,
   "metadata": {},
   "outputs": [],
   "source": [
    "df.drop('index', axis=1, inplace=True)"
   ]
  },
  {
   "cell_type": "code",
   "execution_count": 16,
   "metadata": {},
   "outputs": [
    {
     "data": {
      "text/html": [
       "<div>\n",
       "<style scoped>\n",
       "    .dataframe tbody tr th:only-of-type {\n",
       "        vertical-align: middle;\n",
       "    }\n",
       "\n",
       "    .dataframe tbody tr th {\n",
       "        vertical-align: top;\n",
       "    }\n",
       "\n",
       "    .dataframe thead th {\n",
       "        text-align: right;\n",
       "    }\n",
       "</style>\n",
       "<table border=\"1\" class=\"dataframe\">\n",
       "  <thead>\n",
       "    <tr style=\"text-align: right;\">\n",
       "      <th></th>\n",
       "      <th>Gene</th>\n",
       "      <th>Pathway</th>\n",
       "    </tr>\n",
       "  </thead>\n",
       "  <tbody>\n",
       "    <tr>\n",
       "      <th>0</th>\n",
       "      <td>A1BG</td>\n",
       "      <td>IL6-mediated signaling events</td>\n",
       "    </tr>\n",
       "    <tr>\n",
       "      <th>1</th>\n",
       "      <td>A1BG</td>\n",
       "      <td>NaN</td>\n",
       "    </tr>\n",
       "    <tr>\n",
       "      <th>2</th>\n",
       "      <td>A1BG</td>\n",
       "      <td>NaN</td>\n",
       "    </tr>\n",
       "    <tr>\n",
       "      <th>3</th>\n",
       "      <td>A1BG</td>\n",
       "      <td>NaN</td>\n",
       "    </tr>\n",
       "    <tr>\n",
       "      <th>4</th>\n",
       "      <td>A1BG</td>\n",
       "      <td>NaN</td>\n",
       "    </tr>\n",
       "  </tbody>\n",
       "</table>\n",
       "</div>"
      ],
      "text/plain": [
       "   Gene                        Pathway\n",
       "0  A1BG  IL6-mediated signaling events\n",
       "1  A1BG                            NaN\n",
       "2  A1BG                            NaN\n",
       "3  A1BG                            NaN\n",
       "4  A1BG                            NaN"
      ]
     },
     "execution_count": 16,
     "metadata": {},
     "output_type": "execute_result"
    }
   ],
   "source": [
    "df.head()"
   ]
  },
  {
   "cell_type": "code",
   "execution_count": 17,
   "metadata": {},
   "outputs": [
    {
     "data": {
      "text/plain": [
       "(4815166, 2)"
      ]
     },
     "execution_count": 17,
     "metadata": {},
     "output_type": "execute_result"
    }
   ],
   "source": [
    "df.shape"
   ]
  },
  {
   "cell_type": "markdown",
   "metadata": {},
   "source": [
    "# Drop NAs"
   ]
  },
  {
   "cell_type": "code",
   "execution_count": 18,
   "metadata": {},
   "outputs": [],
   "source": [
    "df.dropna(how='any', inplace=True)"
   ]
  },
  {
   "cell_type": "code",
   "execution_count": 19,
   "metadata": {},
   "outputs": [
    {
     "data": {
      "text/html": [
       "<div>\n",
       "<style scoped>\n",
       "    .dataframe tbody tr th:only-of-type {\n",
       "        vertical-align: middle;\n",
       "    }\n",
       "\n",
       "    .dataframe tbody tr th {\n",
       "        vertical-align: top;\n",
       "    }\n",
       "\n",
       "    .dataframe thead th {\n",
       "        text-align: right;\n",
       "    }\n",
       "</style>\n",
       "<table border=\"1\" class=\"dataframe\">\n",
       "  <thead>\n",
       "    <tr style=\"text-align: right;\">\n",
       "      <th></th>\n",
       "      <th>Gene</th>\n",
       "      <th>Pathway</th>\n",
       "    </tr>\n",
       "  </thead>\n",
       "  <tbody>\n",
       "    <tr>\n",
       "      <th>0</th>\n",
       "      <td>A1BG</td>\n",
       "      <td>IL6-mediated signaling events</td>\n",
       "    </tr>\n",
       "    <tr>\n",
       "      <th>7</th>\n",
       "      <td>A1BG</td>\n",
       "      <td>IL6-mediated signaling events;Integrin-linked ...</td>\n",
       "    </tr>\n",
       "    <tr>\n",
       "      <th>8</th>\n",
       "      <td>A1BG</td>\n",
       "      <td>IL6-mediated signaling events;Integrin-linked ...</td>\n",
       "    </tr>\n",
       "    <tr>\n",
       "      <th>26</th>\n",
       "      <td>A1BG</td>\n",
       "      <td>IL6-mediated signaling events</td>\n",
       "    </tr>\n",
       "    <tr>\n",
       "      <th>41</th>\n",
       "      <td>A1BG</td>\n",
       "      <td>IL6-mediated signaling events</td>\n",
       "    </tr>\n",
       "  </tbody>\n",
       "</table>\n",
       "</div>"
      ],
      "text/plain": [
       "    Gene                                            Pathway\n",
       "0   A1BG                      IL6-mediated signaling events\n",
       "7   A1BG  IL6-mediated signaling events;Integrin-linked ...\n",
       "8   A1BG  IL6-mediated signaling events;Integrin-linked ...\n",
       "26  A1BG                      IL6-mediated signaling events\n",
       "41  A1BG                      IL6-mediated signaling events"
      ]
     },
     "execution_count": 19,
     "metadata": {},
     "output_type": "execute_result"
    }
   ],
   "source": [
    "df.head()"
   ]
  },
  {
   "cell_type": "code",
   "execution_count": 20,
   "metadata": {},
   "outputs": [
    {
     "data": {
      "text/plain": [
       "(951058, 2)"
      ]
     },
     "execution_count": 20,
     "metadata": {},
     "output_type": "execute_result"
    }
   ],
   "source": [
    "df.shape"
   ]
  },
  {
   "cell_type": "markdown",
   "metadata": {},
   "source": [
    "# Drop Duplicates"
   ]
  },
  {
   "cell_type": "code",
   "execution_count": 21,
   "metadata": {},
   "outputs": [],
   "source": [
    "df.drop_duplicates(inplace=True)"
   ]
  },
  {
   "cell_type": "code",
   "execution_count": 22,
   "metadata": {},
   "outputs": [
    {
     "data": {
      "text/html": [
       "<div>\n",
       "<style scoped>\n",
       "    .dataframe tbody tr th:only-of-type {\n",
       "        vertical-align: middle;\n",
       "    }\n",
       "\n",
       "    .dataframe tbody tr th {\n",
       "        vertical-align: top;\n",
       "    }\n",
       "\n",
       "    .dataframe thead th {\n",
       "        text-align: right;\n",
       "    }\n",
       "</style>\n",
       "<table border=\"1\" class=\"dataframe\">\n",
       "  <thead>\n",
       "    <tr style=\"text-align: right;\">\n",
       "      <th></th>\n",
       "      <th>Gene</th>\n",
       "      <th>Pathway</th>\n",
       "    </tr>\n",
       "  </thead>\n",
       "  <tbody>\n",
       "    <tr>\n",
       "      <th>0</th>\n",
       "      <td>A1BG</td>\n",
       "      <td>IL6-mediated signaling events</td>\n",
       "    </tr>\n",
       "    <tr>\n",
       "      <th>7</th>\n",
       "      <td>A1BG</td>\n",
       "      <td>IL6-mediated signaling events;Integrin-linked ...</td>\n",
       "    </tr>\n",
       "    <tr>\n",
       "      <th>70</th>\n",
       "      <td>A1CF</td>\n",
       "      <td>Formation of the Editosome;mRNA Editing: C to ...</td>\n",
       "    </tr>\n",
       "    <tr>\n",
       "      <th>132</th>\n",
       "      <td>A2M</td>\n",
       "      <td>HDL assembly</td>\n",
       "    </tr>\n",
       "    <tr>\n",
       "      <th>145</th>\n",
       "      <td>A2M</td>\n",
       "      <td>IL-6 signaling pathway</td>\n",
       "    </tr>\n",
       "  </tbody>\n",
       "</table>\n",
       "</div>"
      ],
      "text/plain": [
       "     Gene                                            Pathway\n",
       "0    A1BG                      IL6-mediated signaling events\n",
       "7    A1BG  IL6-mediated signaling events;Integrin-linked ...\n",
       "70   A1CF  Formation of the Editosome;mRNA Editing: C to ...\n",
       "132   A2M                                       HDL assembly\n",
       "145   A2M                             IL-6 signaling pathway"
      ]
     },
     "execution_count": 22,
     "metadata": {},
     "output_type": "execute_result"
    }
   ],
   "source": [
    "df.head()"
   ]
  },
  {
   "cell_type": "code",
   "execution_count": 23,
   "metadata": {},
   "outputs": [
    {
     "data": {
      "text/plain": [
       "(148973, 2)"
      ]
     },
     "execution_count": 23,
     "metadata": {},
     "output_type": "execute_result"
    }
   ],
   "source": [
    "df.shape"
   ]
  },
  {
   "cell_type": "markdown",
   "metadata": {},
   "source": [
    "# Split Pathway Data"
   ]
  },
  {
   "cell_type": "code",
   "execution_count": 24,
   "metadata": {},
   "outputs": [
    {
     "name": "stdout",
     "output_type": "stream",
     "text": [
      "Progress: 100%  148973 Out of 148973   \r"
     ]
    }
   ],
   "source": [
    "genes = []\n",
    "pathways = []\n",
    "\n",
    "for i,index in enumerate(df.index):\n",
    "    \n",
    "    progressPercent = ((i+1)/len(df.index))*100\n",
    "\n",
    "    sys.stdout.write(\"Progress: %d%%  %d Out of %d   \\r\" % (progressPercent, (i+1), len(df.index)))\n",
    "    sys.stdout.flush()\n",
    "    \n",
    "    pathway = df.loc[index, 'Pathway'].split(';')\n",
    "    gene = [df.loc[index, 'Gene']]*len(pathway)\n",
    "    \n",
    "    pathways.extend(pathway)\n",
    "    genes.extend(gene)\n",
    "    \n",
    "df = pd.DataFrame(columns=['Gene', 'Pathway'])\n",
    "\n",
    "df['Gene'] = genes\n",
    "df['Pathway'] = pathways"
   ]
  },
  {
   "cell_type": "code",
   "execution_count": 25,
   "metadata": {},
   "outputs": [
    {
     "data": {
      "text/html": [
       "<div>\n",
       "<style scoped>\n",
       "    .dataframe tbody tr th:only-of-type {\n",
       "        vertical-align: middle;\n",
       "    }\n",
       "\n",
       "    .dataframe tbody tr th {\n",
       "        vertical-align: top;\n",
       "    }\n",
       "\n",
       "    .dataframe thead th {\n",
       "        text-align: right;\n",
       "    }\n",
       "</style>\n",
       "<table border=\"1\" class=\"dataframe\">\n",
       "  <thead>\n",
       "    <tr style=\"text-align: right;\">\n",
       "      <th></th>\n",
       "      <th>Gene</th>\n",
       "      <th>Pathway</th>\n",
       "    </tr>\n",
       "  </thead>\n",
       "  <tbody>\n",
       "    <tr>\n",
       "      <th>0</th>\n",
       "      <td>A1BG</td>\n",
       "      <td>IL6-mediated signaling events</td>\n",
       "    </tr>\n",
       "    <tr>\n",
       "      <th>1</th>\n",
       "      <td>A1BG</td>\n",
       "      <td>IL6-mediated signaling events</td>\n",
       "    </tr>\n",
       "    <tr>\n",
       "      <th>2</th>\n",
       "      <td>A1BG</td>\n",
       "      <td>Integrin-linked kinase signaling</td>\n",
       "    </tr>\n",
       "    <tr>\n",
       "      <th>3</th>\n",
       "      <td>A1CF</td>\n",
       "      <td>Formation of the Editosome</td>\n",
       "    </tr>\n",
       "    <tr>\n",
       "      <th>4</th>\n",
       "      <td>A1CF</td>\n",
       "      <td>mRNA Editing: C to U Conversion</td>\n",
       "    </tr>\n",
       "  </tbody>\n",
       "</table>\n",
       "</div>"
      ],
      "text/plain": [
       "   Gene                           Pathway\n",
       "0  A1BG     IL6-mediated signaling events\n",
       "1  A1BG     IL6-mediated signaling events\n",
       "2  A1BG  Integrin-linked kinase signaling\n",
       "3  A1CF        Formation of the Editosome\n",
       "4  A1CF   mRNA Editing: C to U Conversion"
      ]
     },
     "execution_count": 25,
     "metadata": {},
     "output_type": "execute_result"
    }
   ],
   "source": [
    "df.head()"
   ]
  },
  {
   "cell_type": "code",
   "execution_count": 26,
   "metadata": {},
   "outputs": [
    {
     "data": {
      "text/plain": [
       "(27123782, 2)"
      ]
     },
     "execution_count": 26,
     "metadata": {},
     "output_type": "execute_result"
    }
   ],
   "source": [
    "df.shape"
   ]
  },
  {
   "cell_type": "markdown",
   "metadata": {},
   "source": [
    "# Drop Duplicates"
   ]
  },
  {
   "cell_type": "code",
   "execution_count": 27,
   "metadata": {},
   "outputs": [],
   "source": [
    "df.drop_duplicates(inplace=True)"
   ]
  },
  {
   "cell_type": "code",
   "execution_count": 28,
   "metadata": {},
   "outputs": [
    {
     "data": {
      "text/html": [
       "<div>\n",
       "<style scoped>\n",
       "    .dataframe tbody tr th:only-of-type {\n",
       "        vertical-align: middle;\n",
       "    }\n",
       "\n",
       "    .dataframe tbody tr th {\n",
       "        vertical-align: top;\n",
       "    }\n",
       "\n",
       "    .dataframe thead th {\n",
       "        text-align: right;\n",
       "    }\n",
       "</style>\n",
       "<table border=\"1\" class=\"dataframe\">\n",
       "  <thead>\n",
       "    <tr style=\"text-align: right;\">\n",
       "      <th></th>\n",
       "      <th>Gene</th>\n",
       "      <th>Pathway</th>\n",
       "    </tr>\n",
       "  </thead>\n",
       "  <tbody>\n",
       "    <tr>\n",
       "      <th>0</th>\n",
       "      <td>A1BG</td>\n",
       "      <td>IL6-mediated signaling events</td>\n",
       "    </tr>\n",
       "    <tr>\n",
       "      <th>2</th>\n",
       "      <td>A1BG</td>\n",
       "      <td>Integrin-linked kinase signaling</td>\n",
       "    </tr>\n",
       "    <tr>\n",
       "      <th>3</th>\n",
       "      <td>A1CF</td>\n",
       "      <td>Formation of the Editosome</td>\n",
       "    </tr>\n",
       "    <tr>\n",
       "      <th>4</th>\n",
       "      <td>A1CF</td>\n",
       "      <td>mRNA Editing: C to U Conversion</td>\n",
       "    </tr>\n",
       "    <tr>\n",
       "      <th>5</th>\n",
       "      <td>A2M</td>\n",
       "      <td>HDL assembly</td>\n",
       "    </tr>\n",
       "  </tbody>\n",
       "</table>\n",
       "</div>"
      ],
      "text/plain": [
       "   Gene                           Pathway\n",
       "0  A1BG     IL6-mediated signaling events\n",
       "2  A1BG  Integrin-linked kinase signaling\n",
       "3  A1CF        Formation of the Editosome\n",
       "4  A1CF   mRNA Editing: C to U Conversion\n",
       "5   A2M                      HDL assembly"
      ]
     },
     "execution_count": 28,
     "metadata": {},
     "output_type": "execute_result"
    }
   ],
   "source": [
    "df.head()"
   ]
  },
  {
   "cell_type": "code",
   "execution_count": 29,
   "metadata": {},
   "outputs": [
    {
     "data": {
      "text/plain": [
       "(17412643, 2)"
      ]
     },
     "execution_count": 29,
     "metadata": {},
     "output_type": "execute_result"
    }
   ],
   "source": [
    "df.shape"
   ]
  },
  {
   "cell_type": "markdown",
   "metadata": {},
   "source": [
    "# Map Gene Symbols To Up-to-date Approved Gene Symbols"
   ]
  },
  {
   "cell_type": "code",
   "execution_count": 30,
   "metadata": {},
   "outputs": [],
   "source": [
    "df.set_index('Gene', inplace=True)"
   ]
  },
  {
   "cell_type": "code",
   "execution_count": 31,
   "metadata": {},
   "outputs": [
    {
     "name": "stdout",
     "output_type": "stream",
     "text": [
      "Progeres: 99%  17412449 Out of 17412643   \r"
     ]
    },
    {
     "name": "stderr",
     "output_type": "stream",
     "text": [
      "IOPub message rate exceeded.\n",
      "The notebook server will temporarily stop sending output\n",
      "to the client in order to avoid crashing it.\n",
      "To change this limit, set the config variable\n",
      "`--NotebookApp.iopub_msg_rate_limit`.\n",
      "\n",
      "Current values:\n",
      "NotebookApp.iopub_msg_rate_limit=1000.0 (msgs/sec)\n",
      "NotebookApp.rate_limit_window=3.0 (secs)\n",
      "\n"
     ]
    }
   ],
   "source": [
    "uf.mapgenesymbols(df)"
   ]
  },
  {
   "cell_type": "markdown",
   "metadata": {},
   "source": [
    "# Drop Duplicates"
   ]
  },
  {
   "cell_type": "code",
   "execution_count": 32,
   "metadata": {},
   "outputs": [],
   "source": [
    "df.reset_index(inplace=True)"
   ]
  },
  {
   "cell_type": "code",
   "execution_count": 35,
   "metadata": {},
   "outputs": [],
   "source": [
    "df.drop_duplicates(inplace=True)"
   ]
  },
  {
   "cell_type": "code",
   "execution_count": 36,
   "metadata": {},
   "outputs": [
    {
     "data": {
      "text/html": [
       "<div>\n",
       "<style scoped>\n",
       "    .dataframe tbody tr th:only-of-type {\n",
       "        vertical-align: middle;\n",
       "    }\n",
       "\n",
       "    .dataframe tbody tr th {\n",
       "        vertical-align: top;\n",
       "    }\n",
       "\n",
       "    .dataframe thead th {\n",
       "        text-align: right;\n",
       "    }\n",
       "</style>\n",
       "<table border=\"1\" class=\"dataframe\">\n",
       "  <thead>\n",
       "    <tr style=\"text-align: right;\">\n",
       "      <th></th>\n",
       "      <th>Gene</th>\n",
       "      <th>Pathway</th>\n",
       "    </tr>\n",
       "  </thead>\n",
       "  <tbody>\n",
       "    <tr>\n",
       "      <th>0</th>\n",
       "      <td>A1BG</td>\n",
       "      <td>IL6-mediated signaling events</td>\n",
       "    </tr>\n",
       "    <tr>\n",
       "      <th>1</th>\n",
       "      <td>A1BG</td>\n",
       "      <td>Integrin-linked kinase signaling</td>\n",
       "    </tr>\n",
       "    <tr>\n",
       "      <th>2</th>\n",
       "      <td>A1CF</td>\n",
       "      <td>Formation of the Editosome</td>\n",
       "    </tr>\n",
       "    <tr>\n",
       "      <th>3</th>\n",
       "      <td>A1CF</td>\n",
       "      <td>mRNA Editing: C to U Conversion</td>\n",
       "    </tr>\n",
       "    <tr>\n",
       "      <th>4</th>\n",
       "      <td>A2M</td>\n",
       "      <td>HDL assembly</td>\n",
       "    </tr>\n",
       "  </tbody>\n",
       "</table>\n",
       "</div>"
      ],
      "text/plain": [
       "   Gene                           Pathway\n",
       "0  A1BG     IL6-mediated signaling events\n",
       "1  A1BG  Integrin-linked kinase signaling\n",
       "2  A1CF        Formation of the Editosome\n",
       "3  A1CF   mRNA Editing: C to U Conversion\n",
       "4   A2M                      HDL assembly"
      ]
     },
     "execution_count": 36,
     "metadata": {},
     "output_type": "execute_result"
    }
   ],
   "source": [
    "df.head()"
   ]
  },
  {
   "cell_type": "code",
   "execution_count": 37,
   "metadata": {},
   "outputs": [
    {
     "data": {
      "text/plain": [
       "(1257932, 2)"
      ]
     },
     "execution_count": 37,
     "metadata": {},
     "output_type": "execute_result"
    }
   ],
   "source": [
    "df.shape"
   ]
  },
  {
   "cell_type": "markdown",
   "metadata": {},
   "source": [
    "# Create Binary Matrix"
   ]
  },
  {
   "cell_type": "code",
   "execution_count": 38,
   "metadata": {},
   "outputs": [
    {
     "name": "stdout",
     "output_type": "stream",
     "text": [
      "Progeres: 100%  11164 Out of 11164   \r"
     ]
    }
   ],
   "source": [
    "binary_matrix = uf.createBinaryMatrix(df)"
   ]
  },
  {
   "cell_type": "code",
   "execution_count": 39,
   "metadata": {},
   "outputs": [
    {
     "data": {
      "text/html": [
       "<div>\n",
       "<style scoped>\n",
       "    .dataframe tbody tr th:only-of-type {\n",
       "        vertical-align: middle;\n",
       "    }\n",
       "\n",
       "    .dataframe tbody tr th {\n",
       "        vertical-align: top;\n",
       "    }\n",
       "\n",
       "    .dataframe thead th {\n",
       "        text-align: right;\n",
       "    }\n",
       "</style>\n",
       "<table border=\"1\" class=\"dataframe\">\n",
       "  <thead>\n",
       "    <tr style=\"text-align: right;\">\n",
       "      <th></th>\n",
       "      <th>De Novo Triacylglycerol Biosynthesis TG(a-21:0/i-24:0/i-17:0)</th>\n",
       "      <th>Cardiolipin Biosynthesis CL(i-13:0/18:2(9Z,11Z)/a-17:0/i-15:0)</th>\n",
       "      <th>De Novo Triacylglycerol Biosynthesis TG(i-20:0/22:0/10:0)</th>\n",
       "      <th>De Novo Triacylglycerol Biosynthesis TG(22:1(13Z)/16:1(9Z)/22:2(13Z,16Z))</th>\n",
       "      <th>Cardiolipin Biosynthesis CL(a-13:0/i-12:0/i-14:0/i-16:0)</th>\n",
       "      <th>De Novo Triacylglycerol Biosynthesis TG(20:3(5Z,8Z,11Z)/24:1(15Z)/20:5(5Z,8Z,11Z,14Z,17Z))</th>\n",
       "      <th>Cardiolipin Biosynthesis CL(a-13:0/a-21:0/a-25:0/a-15:0)</th>\n",
       "      <th>Phosphatidylethanolamine Biosynthesis PE(16:1(9Z)/22:1(13Z))</th>\n",
       "      <th>Cardiolipin Biosynthesis CL(22:5(4Z,7Z,10Z,13Z,16Z)/18:0/22:6(4Z,7Z,10Z,13Z,16Z,19Z)/18:0)</th>\n",
       "      <th>Cardiolipin Biosynthesis CL(i-12:0/i-19:0/i-18:0/a-21:0)</th>\n",
       "      <th>...</th>\n",
       "      <th>De Novo Triacylglycerol Biosynthesis TG(15:0/15:0/22:5(7Z,10Z,13Z,16Z,19Z))</th>\n",
       "      <th>Cardiolipin Biosynthesis CL(i-13:0/i-19:0/18:2(9Z,11Z)/i-14:0)</th>\n",
       "      <th>Cardiolipin Biosynthesis CL(i-13:0/a-25:0/a-21:0/i-14:0)</th>\n",
       "      <th>Cardiolipin Biosynthesis CL(i-12:0/a-25:0/a-15:0/i-13:0)</th>\n",
       "      <th>Cardiolipin Biosynthesis CL(i-13:0/i-24:0/i-21:0/i-17:0)</th>\n",
       "      <th>De Novo Triacylglycerol Biosynthesis TG(a-25:0/i-21:0/i-18:0)</th>\n",
       "      <th>De Novo Triacylglycerol Biosynthesis TG(16:1(9Z)/18:3(6Z,9Z,12Z)/18:2(9Z,12Z))</th>\n",
       "      <th>Cardiolipin Biosynthesis CL(i-12:0/i-17:0/a-15:0/i-17:0)</th>\n",
       "      <th>De Novo Triacylglycerol Biosynthesis TG(20:0/24:0/18:3(9Z,12Z,15Z))</th>\n",
       "      <th>De Novo Triacylglycerol Biosynthesis TG(14:1(9Z)/18:3(6Z,9Z,12Z)/14:1(9Z))</th>\n",
       "    </tr>\n",
       "  </thead>\n",
       "  <tbody>\n",
       "    <tr>\n",
       "      <th>PIGB</th>\n",
       "      <td>0.0</td>\n",
       "      <td>0.0</td>\n",
       "      <td>0.0</td>\n",
       "      <td>0.0</td>\n",
       "      <td>0.0</td>\n",
       "      <td>0.0</td>\n",
       "      <td>0.0</td>\n",
       "      <td>0.0</td>\n",
       "      <td>0.0</td>\n",
       "      <td>0.0</td>\n",
       "      <td>...</td>\n",
       "      <td>0.0</td>\n",
       "      <td>0.0</td>\n",
       "      <td>0.0</td>\n",
       "      <td>0.0</td>\n",
       "      <td>0.0</td>\n",
       "      <td>0.0</td>\n",
       "      <td>0.0</td>\n",
       "      <td>0.0</td>\n",
       "      <td>0.0</td>\n",
       "      <td>0.0</td>\n",
       "    </tr>\n",
       "    <tr>\n",
       "      <th>CEACAM5</th>\n",
       "      <td>0.0</td>\n",
       "      <td>0.0</td>\n",
       "      <td>0.0</td>\n",
       "      <td>0.0</td>\n",
       "      <td>0.0</td>\n",
       "      <td>0.0</td>\n",
       "      <td>0.0</td>\n",
       "      <td>0.0</td>\n",
       "      <td>0.0</td>\n",
       "      <td>0.0</td>\n",
       "      <td>...</td>\n",
       "      <td>0.0</td>\n",
       "      <td>0.0</td>\n",
       "      <td>0.0</td>\n",
       "      <td>0.0</td>\n",
       "      <td>0.0</td>\n",
       "      <td>0.0</td>\n",
       "      <td>0.0</td>\n",
       "      <td>0.0</td>\n",
       "      <td>0.0</td>\n",
       "      <td>0.0</td>\n",
       "    </tr>\n",
       "    <tr>\n",
       "      <th>ZNF551</th>\n",
       "      <td>0.0</td>\n",
       "      <td>0.0</td>\n",
       "      <td>0.0</td>\n",
       "      <td>0.0</td>\n",
       "      <td>0.0</td>\n",
       "      <td>0.0</td>\n",
       "      <td>0.0</td>\n",
       "      <td>0.0</td>\n",
       "      <td>0.0</td>\n",
       "      <td>0.0</td>\n",
       "      <td>...</td>\n",
       "      <td>0.0</td>\n",
       "      <td>0.0</td>\n",
       "      <td>0.0</td>\n",
       "      <td>0.0</td>\n",
       "      <td>0.0</td>\n",
       "      <td>0.0</td>\n",
       "      <td>0.0</td>\n",
       "      <td>0.0</td>\n",
       "      <td>0.0</td>\n",
       "      <td>0.0</td>\n",
       "    </tr>\n",
       "    <tr>\n",
       "      <th>GRIA4</th>\n",
       "      <td>0.0</td>\n",
       "      <td>0.0</td>\n",
       "      <td>0.0</td>\n",
       "      <td>0.0</td>\n",
       "      <td>0.0</td>\n",
       "      <td>0.0</td>\n",
       "      <td>0.0</td>\n",
       "      <td>0.0</td>\n",
       "      <td>0.0</td>\n",
       "      <td>0.0</td>\n",
       "      <td>...</td>\n",
       "      <td>0.0</td>\n",
       "      <td>0.0</td>\n",
       "      <td>0.0</td>\n",
       "      <td>0.0</td>\n",
       "      <td>0.0</td>\n",
       "      <td>0.0</td>\n",
       "      <td>0.0</td>\n",
       "      <td>0.0</td>\n",
       "      <td>0.0</td>\n",
       "      <td>0.0</td>\n",
       "    </tr>\n",
       "    <tr>\n",
       "      <th>RAB8B</th>\n",
       "      <td>0.0</td>\n",
       "      <td>0.0</td>\n",
       "      <td>0.0</td>\n",
       "      <td>0.0</td>\n",
       "      <td>0.0</td>\n",
       "      <td>0.0</td>\n",
       "      <td>0.0</td>\n",
       "      <td>0.0</td>\n",
       "      <td>0.0</td>\n",
       "      <td>0.0</td>\n",
       "      <td>...</td>\n",
       "      <td>0.0</td>\n",
       "      <td>0.0</td>\n",
       "      <td>0.0</td>\n",
       "      <td>0.0</td>\n",
       "      <td>0.0</td>\n",
       "      <td>0.0</td>\n",
       "      <td>0.0</td>\n",
       "      <td>0.0</td>\n",
       "      <td>0.0</td>\n",
       "      <td>0.0</td>\n",
       "    </tr>\n",
       "  </tbody>\n",
       "</table>\n",
       "<p>5 rows × 51319 columns</p>\n",
       "</div>"
      ],
      "text/plain": [
       "         De Novo Triacylglycerol Biosynthesis TG(a-21:0/i-24:0/i-17:0)  \\\n",
       "PIGB                                                   0.0               \n",
       "CEACAM5                                                0.0               \n",
       "ZNF551                                                 0.0               \n",
       "GRIA4                                                  0.0               \n",
       "RAB8B                                                  0.0               \n",
       "\n",
       "         Cardiolipin Biosynthesis CL(i-13:0/18:2(9Z,11Z)/a-17:0/i-15:0)  \\\n",
       "PIGB                                                   0.0                \n",
       "CEACAM5                                                0.0                \n",
       "ZNF551                                                 0.0                \n",
       "GRIA4                                                  0.0                \n",
       "RAB8B                                                  0.0                \n",
       "\n",
       "         De Novo Triacylglycerol Biosynthesis TG(i-20:0/22:0/10:0)  \\\n",
       "PIGB                                                   0.0           \n",
       "CEACAM5                                                0.0           \n",
       "ZNF551                                                 0.0           \n",
       "GRIA4                                                  0.0           \n",
       "RAB8B                                                  0.0           \n",
       "\n",
       "         De Novo Triacylglycerol Biosynthesis TG(22:1(13Z)/16:1(9Z)/22:2(13Z,16Z))  \\\n",
       "PIGB                                                   0.0                           \n",
       "CEACAM5                                                0.0                           \n",
       "ZNF551                                                 0.0                           \n",
       "GRIA4                                                  0.0                           \n",
       "RAB8B                                                  0.0                           \n",
       "\n",
       "         Cardiolipin Biosynthesis CL(a-13:0/i-12:0/i-14:0/i-16:0)  \\\n",
       "PIGB                                                   0.0          \n",
       "CEACAM5                                                0.0          \n",
       "ZNF551                                                 0.0          \n",
       "GRIA4                                                  0.0          \n",
       "RAB8B                                                  0.0          \n",
       "\n",
       "         De Novo Triacylglycerol Biosynthesis TG(20:3(5Z,8Z,11Z)/24:1(15Z)/20:5(5Z,8Z,11Z,14Z,17Z))  \\\n",
       "PIGB                                                   0.0                                            \n",
       "CEACAM5                                                0.0                                            \n",
       "ZNF551                                                 0.0                                            \n",
       "GRIA4                                                  0.0                                            \n",
       "RAB8B                                                  0.0                                            \n",
       "\n",
       "         Cardiolipin Biosynthesis CL(a-13:0/a-21:0/a-25:0/a-15:0)  \\\n",
       "PIGB                                                   0.0          \n",
       "CEACAM5                                                0.0          \n",
       "ZNF551                                                 0.0          \n",
       "GRIA4                                                  0.0          \n",
       "RAB8B                                                  0.0          \n",
       "\n",
       "         Phosphatidylethanolamine Biosynthesis PE(16:1(9Z)/22:1(13Z))  \\\n",
       "PIGB                                                   0.0              \n",
       "CEACAM5                                                0.0              \n",
       "ZNF551                                                 0.0              \n",
       "GRIA4                                                  0.0              \n",
       "RAB8B                                                  0.0              \n",
       "\n",
       "         Cardiolipin Biosynthesis CL(22:5(4Z,7Z,10Z,13Z,16Z)/18:0/22:6(4Z,7Z,10Z,13Z,16Z,19Z)/18:0)  \\\n",
       "PIGB                                                   0.0                                            \n",
       "CEACAM5                                                0.0                                            \n",
       "ZNF551                                                 0.0                                            \n",
       "GRIA4                                                  0.0                                            \n",
       "RAB8B                                                  0.0                                            \n",
       "\n",
       "         Cardiolipin Biosynthesis CL(i-12:0/i-19:0/i-18:0/a-21:0)  \\\n",
       "PIGB                                                   0.0          \n",
       "CEACAM5                                                0.0          \n",
       "ZNF551                                                 0.0          \n",
       "GRIA4                                                  0.0          \n",
       "RAB8B                                                  0.0          \n",
       "\n",
       "                                            ...                                      \\\n",
       "PIGB                                        ...                                       \n",
       "CEACAM5                                     ...                                       \n",
       "ZNF551                                      ...                                       \n",
       "GRIA4                                       ...                                       \n",
       "RAB8B                                       ...                                       \n",
       "\n",
       "         De Novo Triacylglycerol Biosynthesis TG(15:0/15:0/22:5(7Z,10Z,13Z,16Z,19Z))  \\\n",
       "PIGB                                                   0.0                             \n",
       "CEACAM5                                                0.0                             \n",
       "ZNF551                                                 0.0                             \n",
       "GRIA4                                                  0.0                             \n",
       "RAB8B                                                  0.0                             \n",
       "\n",
       "         Cardiolipin Biosynthesis CL(i-13:0/i-19:0/18:2(9Z,11Z)/i-14:0)  \\\n",
       "PIGB                                                   0.0                \n",
       "CEACAM5                                                0.0                \n",
       "ZNF551                                                 0.0                \n",
       "GRIA4                                                  0.0                \n",
       "RAB8B                                                  0.0                \n",
       "\n",
       "         Cardiolipin Biosynthesis CL(i-13:0/a-25:0/a-21:0/i-14:0)  \\\n",
       "PIGB                                                   0.0          \n",
       "CEACAM5                                                0.0          \n",
       "ZNF551                                                 0.0          \n",
       "GRIA4                                                  0.0          \n",
       "RAB8B                                                  0.0          \n",
       "\n",
       "         Cardiolipin Biosynthesis CL(i-12:0/a-25:0/a-15:0/i-13:0)  \\\n",
       "PIGB                                                   0.0          \n",
       "CEACAM5                                                0.0          \n",
       "ZNF551                                                 0.0          \n",
       "GRIA4                                                  0.0          \n",
       "RAB8B                                                  0.0          \n",
       "\n",
       "         Cardiolipin Biosynthesis CL(i-13:0/i-24:0/i-21:0/i-17:0)  \\\n",
       "PIGB                                                   0.0          \n",
       "CEACAM5                                                0.0          \n",
       "ZNF551                                                 0.0          \n",
       "GRIA4                                                  0.0          \n",
       "RAB8B                                                  0.0          \n",
       "\n",
       "         De Novo Triacylglycerol Biosynthesis TG(a-25:0/i-21:0/i-18:0)  \\\n",
       "PIGB                                                   0.0               \n",
       "CEACAM5                                                0.0               \n",
       "ZNF551                                                 0.0               \n",
       "GRIA4                                                  0.0               \n",
       "RAB8B                                                  0.0               \n",
       "\n",
       "         De Novo Triacylglycerol Biosynthesis TG(16:1(9Z)/18:3(6Z,9Z,12Z)/18:2(9Z,12Z))  \\\n",
       "PIGB                                                   0.0                                \n",
       "CEACAM5                                                0.0                                \n",
       "ZNF551                                                 0.0                                \n",
       "GRIA4                                                  0.0                                \n",
       "RAB8B                                                  0.0                                \n",
       "\n",
       "         Cardiolipin Biosynthesis CL(i-12:0/i-17:0/a-15:0/i-17:0)  \\\n",
       "PIGB                                                   0.0          \n",
       "CEACAM5                                                0.0          \n",
       "ZNF551                                                 0.0          \n",
       "GRIA4                                                  0.0          \n",
       "RAB8B                                                  0.0          \n",
       "\n",
       "         De Novo Triacylglycerol Biosynthesis TG(20:0/24:0/18:3(9Z,12Z,15Z))  \\\n",
       "PIGB                                                   0.0                     \n",
       "CEACAM5                                                0.0                     \n",
       "ZNF551                                                 0.0                     \n",
       "GRIA4                                                  0.0                     \n",
       "RAB8B                                                  0.0                     \n",
       "\n",
       "         De Novo Triacylglycerol Biosynthesis TG(14:1(9Z)/18:3(6Z,9Z,12Z)/14:1(9Z))  \n",
       "PIGB                                                   0.0                           \n",
       "CEACAM5                                                0.0                           \n",
       "ZNF551                                                 0.0                           \n",
       "GRIA4                                                  0.0                           \n",
       "RAB8B                                                  0.0                           \n",
       "\n",
       "[5 rows x 51319 columns]"
      ]
     },
     "execution_count": 39,
     "metadata": {},
     "output_type": "execute_result"
    }
   ],
   "source": [
    "binary_matrix.head()"
   ]
  },
  {
   "cell_type": "code",
   "execution_count": 40,
   "metadata": {},
   "outputs": [
    {
     "data": {
      "text/plain": [
       "(11164, 51319)"
      ]
     },
     "execution_count": 40,
     "metadata": {},
     "output_type": "execute_result"
    }
   ],
   "source": [
    "binary_matrix.shape"
   ]
  },
  {
   "cell_type": "markdown",
   "metadata": {},
   "source": [
    "# Save Binary Matrix"
   ]
  },
  {
   "cell_type": "code",
   "execution_count": 41,
   "metadata": {},
   "outputs": [],
   "source": [
    "filename = path+'pathway_commons_pathways_matrix_%s.tsv.zip'% str(datetime.date.today())[0:7].replace('-', '_')\n",
    "binary_matrix.to_csv(filename, sep='\\t', compression='gzip')"
   ]
  },
  {
   "cell_type": "markdown",
   "metadata": {},
   "source": [
    "# Create Gene Set Library"
   ]
  },
  {
   "cell_type": "code",
   "execution_count": 42,
   "metadata": {},
   "outputs": [],
   "source": [
    "name = 'pathway_commons_pathways_gene_set'"
   ]
  },
  {
   "cell_type": "code",
   "execution_count": 43,
   "metadata": {},
   "outputs": [
    {
     "name": "stdout",
     "output_type": "stream",
     "text": [
      "Progeres: 100%  51319 Out of 51319   \r"
     ]
    }
   ],
   "source": [
    "uf.createUpGeneSetLib(binary_matrix, path, name)"
   ]
  },
  {
   "cell_type": "markdown",
   "metadata": {},
   "source": [
    "# Create Attribute Library"
   ]
  },
  {
   "cell_type": "code",
   "execution_count": 44,
   "metadata": {},
   "outputs": [],
   "source": [
    "name = 'pathway_commons_pathways_attribute_set'"
   ]
  },
  {
   "cell_type": "code",
   "execution_count": 45,
   "metadata": {},
   "outputs": [
    {
     "name": "stdout",
     "output_type": "stream",
     "text": [
      "Progeres: 100%  11164 Out of 11164   \r"
     ]
    }
   ],
   "source": [
    "uf.createUpAttributeSetLib(binary_matrix, path, name)"
   ]
  },
  {
   "cell_type": "markdown",
   "metadata": {},
   "source": [
    "# Create Gene List"
   ]
  },
  {
   "cell_type": "code",
   "execution_count": 46,
   "metadata": {},
   "outputs": [
    {
     "name": "stdout",
     "output_type": "stream",
     "text": [
      "Progeres: 100%  11164 Out of 11164   \r"
     ]
    }
   ],
   "source": [
    "gene_list = uf.createGeneList(binary_matrix)"
   ]
  },
  {
   "cell_type": "code",
   "execution_count": 47,
   "metadata": {},
   "outputs": [
    {
     "data": {
      "text/html": [
       "<div>\n",
       "<style scoped>\n",
       "    .dataframe tbody tr th:only-of-type {\n",
       "        vertical-align: middle;\n",
       "    }\n",
       "\n",
       "    .dataframe tbody tr th {\n",
       "        vertical-align: top;\n",
       "    }\n",
       "\n",
       "    .dataframe thead th {\n",
       "        text-align: right;\n",
       "    }\n",
       "</style>\n",
       "<table border=\"1\" class=\"dataframe\">\n",
       "  <thead>\n",
       "    <tr style=\"text-align: right;\">\n",
       "      <th></th>\n",
       "      <th>GeneSym</th>\n",
       "      <th>GeneID</th>\n",
       "    </tr>\n",
       "  </thead>\n",
       "  <tbody>\n",
       "    <tr>\n",
       "      <th>0</th>\n",
       "      <td>PIGB</td>\n",
       "      <td>9488</td>\n",
       "    </tr>\n",
       "    <tr>\n",
       "      <th>1</th>\n",
       "      <td>CEACAM5</td>\n",
       "      <td>1048</td>\n",
       "    </tr>\n",
       "    <tr>\n",
       "      <th>2</th>\n",
       "      <td>ZNF551</td>\n",
       "      <td>90233</td>\n",
       "    </tr>\n",
       "    <tr>\n",
       "      <th>3</th>\n",
       "      <td>GRIA4</td>\n",
       "      <td>2893</td>\n",
       "    </tr>\n",
       "    <tr>\n",
       "      <th>4</th>\n",
       "      <td>RAB8B</td>\n",
       "      <td>51762</td>\n",
       "    </tr>\n",
       "  </tbody>\n",
       "</table>\n",
       "</div>"
      ],
      "text/plain": [
       "   GeneSym GeneID\n",
       "0     PIGB   9488\n",
       "1  CEACAM5   1048\n",
       "2   ZNF551  90233\n",
       "3    GRIA4   2893\n",
       "4    RAB8B  51762"
      ]
     },
     "execution_count": 47,
     "metadata": {},
     "output_type": "execute_result"
    }
   ],
   "source": [
    "gene_list.head()"
   ]
  },
  {
   "cell_type": "code",
   "execution_count": 48,
   "metadata": {},
   "outputs": [
    {
     "data": {
      "text/plain": [
       "(11164, 2)"
      ]
     },
     "execution_count": 48,
     "metadata": {},
     "output_type": "execute_result"
    }
   ],
   "source": [
    "gene_list.shape"
   ]
  },
  {
   "cell_type": "markdown",
   "metadata": {},
   "source": [
    "# Save Gene List"
   ]
  },
  {
   "cell_type": "code",
   "execution_count": 49,
   "metadata": {},
   "outputs": [],
   "source": [
    "filename = path+'pathway_commons_pathways_gene_list_%s.tsv.zip'% str(datetime.date.today())[0:7].replace('-', '_')\n",
    "gene_list.to_csv(filename, sep='\\t', index=False, compression='gzip')"
   ]
  },
  {
   "cell_type": "markdown",
   "metadata": {},
   "source": [
    "# Create Attribute List"
   ]
  },
  {
   "cell_type": "code",
   "execution_count": 54,
   "metadata": {},
   "outputs": [],
   "source": [
    "attribute_list = uf.createAttributeList(binary_matrix)"
   ]
  },
  {
   "cell_type": "code",
   "execution_count": 55,
   "metadata": {},
   "outputs": [
    {
     "data": {
      "text/html": [
       "<div>\n",
       "<style scoped>\n",
       "    .dataframe tbody tr th:only-of-type {\n",
       "        vertical-align: middle;\n",
       "    }\n",
       "\n",
       "    .dataframe tbody tr th {\n",
       "        vertical-align: top;\n",
       "    }\n",
       "\n",
       "    .dataframe thead th {\n",
       "        text-align: right;\n",
       "    }\n",
       "</style>\n",
       "<table border=\"1\" class=\"dataframe\">\n",
       "  <thead>\n",
       "    <tr style=\"text-align: right;\">\n",
       "      <th></th>\n",
       "    </tr>\n",
       "    <tr>\n",
       "      <th>Attributes</th>\n",
       "    </tr>\n",
       "  </thead>\n",
       "  <tbody>\n",
       "    <tr>\n",
       "      <th>De Novo Triacylglycerol Biosynthesis TG(a-21:0/i-24:0/i-17:0)</th>\n",
       "    </tr>\n",
       "    <tr>\n",
       "      <th>Cardiolipin Biosynthesis CL(i-13:0/18:2(9Z,11Z)/a-17:0/i-15:0)</th>\n",
       "    </tr>\n",
       "    <tr>\n",
       "      <th>De Novo Triacylglycerol Biosynthesis TG(i-20:0/22:0/10:0)</th>\n",
       "    </tr>\n",
       "    <tr>\n",
       "      <th>De Novo Triacylglycerol Biosynthesis TG(22:1(13Z)/16:1(9Z)/22:2(13Z,16Z))</th>\n",
       "    </tr>\n",
       "    <tr>\n",
       "      <th>Cardiolipin Biosynthesis CL(a-13:0/i-12:0/i-14:0/i-16:0)</th>\n",
       "    </tr>\n",
       "  </tbody>\n",
       "</table>\n",
       "</div>"
      ],
      "text/plain": [
       "Empty DataFrame\n",
       "Columns: []\n",
       "Index: [De Novo Triacylglycerol Biosynthesis TG(a-21:0/i-24:0/i-17:0), Cardiolipin Biosynthesis CL(i-13:0/18:2(9Z,11Z)/a-17:0/i-15:0), De Novo Triacylglycerol Biosynthesis TG(i-20:0/22:0/10:0), De Novo Triacylglycerol Biosynthesis TG(22:1(13Z)/16:1(9Z)/22:2(13Z,16Z)), Cardiolipin Biosynthesis CL(a-13:0/i-12:0/i-14:0/i-16:0)]"
      ]
     },
     "execution_count": 55,
     "metadata": {},
     "output_type": "execute_result"
    }
   ],
   "source": [
    "attribute_list.head()"
   ]
  },
  {
   "cell_type": "code",
   "execution_count": 56,
   "metadata": {},
   "outputs": [
    {
     "data": {
      "text/plain": [
       "(51319, 0)"
      ]
     },
     "execution_count": 56,
     "metadata": {},
     "output_type": "execute_result"
    }
   ],
   "source": [
    "attribute_list.shape"
   ]
  },
  {
   "cell_type": "markdown",
   "metadata": {},
   "source": [
    "# Save Attribute List"
   ]
  },
  {
   "cell_type": "code",
   "execution_count": 57,
   "metadata": {},
   "outputs": [],
   "source": [
    "filename = path+'pathway_commons_pathways_attribute_list_%s.tsv.zip'% str(datetime.date.today())[0:7].replace('-', '_')\n",
    "attribute_list.to_csv(filename, sep='\\t', compression='gzip')"
   ]
  },
  {
   "cell_type": "markdown",
   "metadata": {},
   "source": [
    "# Create Gene Similarity Matrix"
   ]
  },
  {
   "cell_type": "code",
   "execution_count": 58,
   "metadata": {},
   "outputs": [],
   "source": [
    "gene_similarity_matix = uf.createSimilarityMatrix(binary_matrix, 'jaccard')"
   ]
  },
  {
   "cell_type": "code",
   "execution_count": 59,
   "metadata": {},
   "outputs": [
    {
     "data": {
      "text/html": [
       "<div>\n",
       "<style scoped>\n",
       "    .dataframe tbody tr th:only-of-type {\n",
       "        vertical-align: middle;\n",
       "    }\n",
       "\n",
       "    .dataframe tbody tr th {\n",
       "        vertical-align: top;\n",
       "    }\n",
       "\n",
       "    .dataframe thead th {\n",
       "        text-align: right;\n",
       "    }\n",
       "</style>\n",
       "<table border=\"1\" class=\"dataframe\">\n",
       "  <thead>\n",
       "    <tr style=\"text-align: right;\">\n",
       "      <th></th>\n",
       "      <th>PIGB</th>\n",
       "      <th>CEACAM5</th>\n",
       "      <th>ZNF551</th>\n",
       "      <th>GRIA4</th>\n",
       "      <th>RAB8B</th>\n",
       "      <th>TRAPPC9</th>\n",
       "      <th>SKAP1</th>\n",
       "      <th>CEP83</th>\n",
       "      <th>NRBF2</th>\n",
       "      <th>ATP7A</th>\n",
       "      <th>...</th>\n",
       "      <th>SNX1</th>\n",
       "      <th>ERCC6L</th>\n",
       "      <th>MTMR10</th>\n",
       "      <th>RIN2</th>\n",
       "      <th>TAGLN</th>\n",
       "      <th>GPCPD1</th>\n",
       "      <th>ARHGEF12</th>\n",
       "      <th>LHX2</th>\n",
       "      <th>ENAH</th>\n",
       "      <th>MFSD4B</th>\n",
       "    </tr>\n",
       "    <tr>\n",
       "      <th></th>\n",
       "      <th></th>\n",
       "      <th></th>\n",
       "      <th></th>\n",
       "      <th></th>\n",
       "      <th></th>\n",
       "      <th></th>\n",
       "      <th></th>\n",
       "      <th></th>\n",
       "      <th></th>\n",
       "      <th></th>\n",
       "      <th></th>\n",
       "      <th></th>\n",
       "      <th></th>\n",
       "      <th></th>\n",
       "      <th></th>\n",
       "      <th></th>\n",
       "      <th></th>\n",
       "      <th></th>\n",
       "      <th></th>\n",
       "      <th></th>\n",
       "      <th></th>\n",
       "    </tr>\n",
       "  </thead>\n",
       "  <tbody>\n",
       "    <tr>\n",
       "      <th>PIGB</th>\n",
       "      <td>1.0</td>\n",
       "      <td>0.0</td>\n",
       "      <td>0.0</td>\n",
       "      <td>0.0</td>\n",
       "      <td>0.0</td>\n",
       "      <td>0.0</td>\n",
       "      <td>0.0</td>\n",
       "      <td>0.0</td>\n",
       "      <td>0.0</td>\n",
       "      <td>0.000000</td>\n",
       "      <td>...</td>\n",
       "      <td>0.0</td>\n",
       "      <td>0.0</td>\n",
       "      <td>0.0</td>\n",
       "      <td>0.000000</td>\n",
       "      <td>0.0</td>\n",
       "      <td>0.0</td>\n",
       "      <td>0.0</td>\n",
       "      <td>0.0</td>\n",
       "      <td>0.0</td>\n",
       "      <td>0.0</td>\n",
       "    </tr>\n",
       "    <tr>\n",
       "      <th>CEACAM5</th>\n",
       "      <td>0.0</td>\n",
       "      <td>1.0</td>\n",
       "      <td>0.0</td>\n",
       "      <td>0.0</td>\n",
       "      <td>0.0</td>\n",
       "      <td>0.0</td>\n",
       "      <td>0.0</td>\n",
       "      <td>0.0</td>\n",
       "      <td>0.0</td>\n",
       "      <td>0.000000</td>\n",
       "      <td>...</td>\n",
       "      <td>0.0</td>\n",
       "      <td>0.0</td>\n",
       "      <td>0.0</td>\n",
       "      <td>0.000000</td>\n",
       "      <td>0.0</td>\n",
       "      <td>0.0</td>\n",
       "      <td>0.0</td>\n",
       "      <td>0.0</td>\n",
       "      <td>0.0</td>\n",
       "      <td>0.0</td>\n",
       "    </tr>\n",
       "    <tr>\n",
       "      <th>ZNF551</th>\n",
       "      <td>0.0</td>\n",
       "      <td>0.0</td>\n",
       "      <td>1.0</td>\n",
       "      <td>0.0</td>\n",
       "      <td>0.0</td>\n",
       "      <td>0.0</td>\n",
       "      <td>0.0</td>\n",
       "      <td>0.0</td>\n",
       "      <td>0.0</td>\n",
       "      <td>0.000000</td>\n",
       "      <td>...</td>\n",
       "      <td>0.0</td>\n",
       "      <td>0.0</td>\n",
       "      <td>0.0</td>\n",
       "      <td>0.000000</td>\n",
       "      <td>0.0</td>\n",
       "      <td>0.0</td>\n",
       "      <td>0.0</td>\n",
       "      <td>0.0</td>\n",
       "      <td>0.0</td>\n",
       "      <td>0.0</td>\n",
       "    </tr>\n",
       "    <tr>\n",
       "      <th>GRIA4</th>\n",
       "      <td>0.0</td>\n",
       "      <td>0.0</td>\n",
       "      <td>0.0</td>\n",
       "      <td>1.0</td>\n",
       "      <td>0.0</td>\n",
       "      <td>0.0</td>\n",
       "      <td>0.0</td>\n",
       "      <td>0.0</td>\n",
       "      <td>0.0</td>\n",
       "      <td>0.015873</td>\n",
       "      <td>...</td>\n",
       "      <td>0.0</td>\n",
       "      <td>0.0</td>\n",
       "      <td>0.0</td>\n",
       "      <td>0.000000</td>\n",
       "      <td>0.0</td>\n",
       "      <td>0.0</td>\n",
       "      <td>0.0</td>\n",
       "      <td>0.0</td>\n",
       "      <td>0.0</td>\n",
       "      <td>0.2</td>\n",
       "    </tr>\n",
       "    <tr>\n",
       "      <th>RAB8B</th>\n",
       "      <td>0.0</td>\n",
       "      <td>0.0</td>\n",
       "      <td>0.0</td>\n",
       "      <td>0.0</td>\n",
       "      <td>1.0</td>\n",
       "      <td>0.2</td>\n",
       "      <td>0.0</td>\n",
       "      <td>0.0</td>\n",
       "      <td>0.0</td>\n",
       "      <td>0.000000</td>\n",
       "      <td>...</td>\n",
       "      <td>0.0</td>\n",
       "      <td>0.0</td>\n",
       "      <td>0.0</td>\n",
       "      <td>0.142857</td>\n",
       "      <td>0.0</td>\n",
       "      <td>0.0</td>\n",
       "      <td>0.0</td>\n",
       "      <td>0.0</td>\n",
       "      <td>0.0</td>\n",
       "      <td>0.0</td>\n",
       "    </tr>\n",
       "  </tbody>\n",
       "</table>\n",
       "<p>5 rows × 11164 columns</p>\n",
       "</div>"
      ],
      "text/plain": [
       "         PIGB  CEACAM5  ZNF551  GRIA4  RAB8B  TRAPPC9  SKAP1  CEP83  NRBF2  \\\n",
       "                                                                             \n",
       "PIGB      1.0      0.0     0.0    0.0    0.0      0.0    0.0    0.0    0.0   \n",
       "CEACAM5   0.0      1.0     0.0    0.0    0.0      0.0    0.0    0.0    0.0   \n",
       "ZNF551    0.0      0.0     1.0    0.0    0.0      0.0    0.0    0.0    0.0   \n",
       "GRIA4     0.0      0.0     0.0    1.0    0.0      0.0    0.0    0.0    0.0   \n",
       "RAB8B     0.0      0.0     0.0    0.0    1.0      0.2    0.0    0.0    0.0   \n",
       "\n",
       "            ATP7A   ...    SNX1  ERCC6L  MTMR10      RIN2  TAGLN  GPCPD1  \\\n",
       "                    ...                                                    \n",
       "PIGB     0.000000   ...     0.0     0.0     0.0  0.000000    0.0     0.0   \n",
       "CEACAM5  0.000000   ...     0.0     0.0     0.0  0.000000    0.0     0.0   \n",
       "ZNF551   0.000000   ...     0.0     0.0     0.0  0.000000    0.0     0.0   \n",
       "GRIA4    0.015873   ...     0.0     0.0     0.0  0.000000    0.0     0.0   \n",
       "RAB8B    0.000000   ...     0.0     0.0     0.0  0.142857    0.0     0.0   \n",
       "\n",
       "         ARHGEF12  LHX2  ENAH  MFSD4B  \n",
       "                                       \n",
       "PIGB          0.0   0.0   0.0     0.0  \n",
       "CEACAM5       0.0   0.0   0.0     0.0  \n",
       "ZNF551        0.0   0.0   0.0     0.0  \n",
       "GRIA4         0.0   0.0   0.0     0.2  \n",
       "RAB8B         0.0   0.0   0.0     0.0  \n",
       "\n",
       "[5 rows x 11164 columns]"
      ]
     },
     "execution_count": 59,
     "metadata": {},
     "output_type": "execute_result"
    }
   ],
   "source": [
    "gene_similarity_matix.head()"
   ]
  },
  {
   "cell_type": "code",
   "execution_count": 60,
   "metadata": {},
   "outputs": [
    {
     "data": {
      "text/plain": [
       "(11164, 11164)"
      ]
     },
     "execution_count": 60,
     "metadata": {},
     "output_type": "execute_result"
    }
   ],
   "source": [
    "gene_similarity_matix.shape"
   ]
  },
  {
   "cell_type": "markdown",
   "metadata": {},
   "source": [
    "# Save Gene Similarity Matrix"
   ]
  },
  {
   "cell_type": "code",
   "execution_count": 61,
   "metadata": {},
   "outputs": [],
   "source": [
    "filename = path+'pathway_commons_pathways_gene_similarity_matix_%s.tsv.zip'% str(datetime.date.today())[0:7].replace('-', '_')\n",
    "gene_similarity_matix.to_csv(filename, sep='\\t', compression='gzip')"
   ]
  },
  {
   "cell_type": "markdown",
   "metadata": {},
   "source": [
    "# Create Attribute Similarity matrix"
   ]
  },
  {
   "cell_type": "code",
   "execution_count": 64,
   "metadata": {},
   "outputs": [],
   "source": [
    "attribute_similarity_matix = uf.createSimilarityMatrix(binary_matrix.T, 'jaccard')"
   ]
  },
  {
   "cell_type": "code",
   "execution_count": 65,
   "metadata": {},
   "outputs": [
    {
     "data": {
      "text/html": [
       "<div>\n",
       "<style scoped>\n",
       "    .dataframe tbody tr th:only-of-type {\n",
       "        vertical-align: middle;\n",
       "    }\n",
       "\n",
       "    .dataframe tbody tr th {\n",
       "        vertical-align: top;\n",
       "    }\n",
       "\n",
       "    .dataframe thead th {\n",
       "        text-align: right;\n",
       "    }\n",
       "</style>\n",
       "<table border=\"1\" class=\"dataframe\">\n",
       "  <thead>\n",
       "    <tr style=\"text-align: right;\">\n",
       "      <th></th>\n",
       "      <th>De Novo Triacylglycerol Biosynthesis TG(a-21:0/i-24:0/i-17:0)</th>\n",
       "      <th>Cardiolipin Biosynthesis CL(i-13:0/18:2(9Z,11Z)/a-17:0/i-15:0)</th>\n",
       "      <th>De Novo Triacylglycerol Biosynthesis TG(i-20:0/22:0/10:0)</th>\n",
       "      <th>De Novo Triacylglycerol Biosynthesis TG(22:1(13Z)/16:1(9Z)/22:2(13Z,16Z))</th>\n",
       "      <th>Cardiolipin Biosynthesis CL(a-13:0/i-12:0/i-14:0/i-16:0)</th>\n",
       "      <th>De Novo Triacylglycerol Biosynthesis TG(20:3(5Z,8Z,11Z)/24:1(15Z)/20:5(5Z,8Z,11Z,14Z,17Z))</th>\n",
       "      <th>Cardiolipin Biosynthesis CL(a-13:0/a-21:0/a-25:0/a-15:0)</th>\n",
       "      <th>Phosphatidylethanolamine Biosynthesis PE(16:1(9Z)/22:1(13Z))</th>\n",
       "      <th>Cardiolipin Biosynthesis CL(22:5(4Z,7Z,10Z,13Z,16Z)/18:0/22:6(4Z,7Z,10Z,13Z,16Z,19Z)/18:0)</th>\n",
       "      <th>Cardiolipin Biosynthesis CL(i-12:0/i-19:0/i-18:0/a-21:0)</th>\n",
       "      <th>...</th>\n",
       "      <th>De Novo Triacylglycerol Biosynthesis TG(15:0/15:0/22:5(7Z,10Z,13Z,16Z,19Z))</th>\n",
       "      <th>Cardiolipin Biosynthesis CL(i-13:0/i-19:0/18:2(9Z,11Z)/i-14:0)</th>\n",
       "      <th>Cardiolipin Biosynthesis CL(i-13:0/a-25:0/a-21:0/i-14:0)</th>\n",
       "      <th>Cardiolipin Biosynthesis CL(i-12:0/a-25:0/a-15:0/i-13:0)</th>\n",
       "      <th>Cardiolipin Biosynthesis CL(i-13:0/i-24:0/i-21:0/i-17:0)</th>\n",
       "      <th>De Novo Triacylglycerol Biosynthesis TG(a-25:0/i-21:0/i-18:0)</th>\n",
       "      <th>De Novo Triacylglycerol Biosynthesis TG(16:1(9Z)/18:3(6Z,9Z,12Z)/18:2(9Z,12Z))</th>\n",
       "      <th>Cardiolipin Biosynthesis CL(i-12:0/i-17:0/a-15:0/i-17:0)</th>\n",
       "      <th>De Novo Triacylglycerol Biosynthesis TG(20:0/24:0/18:3(9Z,12Z,15Z))</th>\n",
       "      <th>De Novo Triacylglycerol Biosynthesis TG(14:1(9Z)/18:3(6Z,9Z,12Z)/14:1(9Z))</th>\n",
       "    </tr>\n",
       "    <tr>\n",
       "      <th></th>\n",
       "      <th></th>\n",
       "      <th></th>\n",
       "      <th></th>\n",
       "      <th></th>\n",
       "      <th></th>\n",
       "      <th></th>\n",
       "      <th></th>\n",
       "      <th></th>\n",
       "      <th></th>\n",
       "      <th></th>\n",
       "      <th></th>\n",
       "      <th></th>\n",
       "      <th></th>\n",
       "      <th></th>\n",
       "      <th></th>\n",
       "      <th></th>\n",
       "      <th></th>\n",
       "      <th></th>\n",
       "      <th></th>\n",
       "      <th></th>\n",
       "      <th></th>\n",
       "    </tr>\n",
       "  </thead>\n",
       "  <tbody>\n",
       "    <tr>\n",
       "      <th>De Novo Triacylglycerol Biosynthesis TG(a-21:0/i-24:0/i-17:0)</th>\n",
       "      <td>1.000000</td>\n",
       "      <td>0.833333</td>\n",
       "      <td>1.000000</td>\n",
       "      <td>1.000000</td>\n",
       "      <td>0.833333</td>\n",
       "      <td>1.000000</td>\n",
       "      <td>0.833333</td>\n",
       "      <td>0.081081</td>\n",
       "      <td>0.833333</td>\n",
       "      <td>0.833333</td>\n",
       "      <td>...</td>\n",
       "      <td>1.000000</td>\n",
       "      <td>0.833333</td>\n",
       "      <td>0.833333</td>\n",
       "      <td>0.833333</td>\n",
       "      <td>0.833333</td>\n",
       "      <td>1.000000</td>\n",
       "      <td>1.000000</td>\n",
       "      <td>0.833333</td>\n",
       "      <td>1.000000</td>\n",
       "      <td>1.000000</td>\n",
       "    </tr>\n",
       "    <tr>\n",
       "      <th>Cardiolipin Biosynthesis CL(i-13:0/18:2(9Z,11Z)/a-17:0/i-15:0)</th>\n",
       "      <td>0.833333</td>\n",
       "      <td>1.000000</td>\n",
       "      <td>0.833333</td>\n",
       "      <td>0.833333</td>\n",
       "      <td>1.000000</td>\n",
       "      <td>0.833333</td>\n",
       "      <td>1.000000</td>\n",
       "      <td>0.052632</td>\n",
       "      <td>1.000000</td>\n",
       "      <td>1.000000</td>\n",
       "      <td>...</td>\n",
       "      <td>0.833333</td>\n",
       "      <td>1.000000</td>\n",
       "      <td>1.000000</td>\n",
       "      <td>1.000000</td>\n",
       "      <td>1.000000</td>\n",
       "      <td>0.833333</td>\n",
       "      <td>0.833333</td>\n",
       "      <td>1.000000</td>\n",
       "      <td>0.833333</td>\n",
       "      <td>0.833333</td>\n",
       "    </tr>\n",
       "    <tr>\n",
       "      <th>De Novo Triacylglycerol Biosynthesis TG(i-20:0/22:0/10:0)</th>\n",
       "      <td>1.000000</td>\n",
       "      <td>0.833333</td>\n",
       "      <td>1.000000</td>\n",
       "      <td>1.000000</td>\n",
       "      <td>0.833333</td>\n",
       "      <td>1.000000</td>\n",
       "      <td>0.833333</td>\n",
       "      <td>0.081081</td>\n",
       "      <td>0.833333</td>\n",
       "      <td>0.833333</td>\n",
       "      <td>...</td>\n",
       "      <td>1.000000</td>\n",
       "      <td>0.833333</td>\n",
       "      <td>0.833333</td>\n",
       "      <td>0.833333</td>\n",
       "      <td>0.833333</td>\n",
       "      <td>1.000000</td>\n",
       "      <td>1.000000</td>\n",
       "      <td>0.833333</td>\n",
       "      <td>1.000000</td>\n",
       "      <td>1.000000</td>\n",
       "    </tr>\n",
       "    <tr>\n",
       "      <th>De Novo Triacylglycerol Biosynthesis TG(22:1(13Z)/16:1(9Z)/22:2(13Z,16Z))</th>\n",
       "      <td>1.000000</td>\n",
       "      <td>0.833333</td>\n",
       "      <td>1.000000</td>\n",
       "      <td>1.000000</td>\n",
       "      <td>0.833333</td>\n",
       "      <td>1.000000</td>\n",
       "      <td>0.833333</td>\n",
       "      <td>0.081081</td>\n",
       "      <td>0.833333</td>\n",
       "      <td>0.833333</td>\n",
       "      <td>...</td>\n",
       "      <td>1.000000</td>\n",
       "      <td>0.833333</td>\n",
       "      <td>0.833333</td>\n",
       "      <td>0.833333</td>\n",
       "      <td>0.833333</td>\n",
       "      <td>1.000000</td>\n",
       "      <td>1.000000</td>\n",
       "      <td>0.833333</td>\n",
       "      <td>1.000000</td>\n",
       "      <td>1.000000</td>\n",
       "    </tr>\n",
       "    <tr>\n",
       "      <th>Cardiolipin Biosynthesis CL(a-13:0/i-12:0/i-14:0/i-16:0)</th>\n",
       "      <td>0.833333</td>\n",
       "      <td>1.000000</td>\n",
       "      <td>0.833333</td>\n",
       "      <td>0.833333</td>\n",
       "      <td>1.000000</td>\n",
       "      <td>0.833333</td>\n",
       "      <td>1.000000</td>\n",
       "      <td>0.052632</td>\n",
       "      <td>1.000000</td>\n",
       "      <td>1.000000</td>\n",
       "      <td>...</td>\n",
       "      <td>0.833333</td>\n",
       "      <td>1.000000</td>\n",
       "      <td>1.000000</td>\n",
       "      <td>1.000000</td>\n",
       "      <td>1.000000</td>\n",
       "      <td>0.833333</td>\n",
       "      <td>0.833333</td>\n",
       "      <td>1.000000</td>\n",
       "      <td>0.833333</td>\n",
       "      <td>0.833333</td>\n",
       "    </tr>\n",
       "  </tbody>\n",
       "</table>\n",
       "<p>5 rows × 51319 columns</p>\n",
       "</div>"
      ],
      "text/plain": [
       "                                                    De Novo Triacylglycerol Biosynthesis TG(a-21:0/i-24:0/i-17:0)  \\\n",
       "                                                                                                                    \n",
       "De Novo Triacylglycerol Biosynthesis TG(a-21:0/...                                           1.000000               \n",
       "Cardiolipin Biosynthesis CL(i-13:0/18:2(9Z,11Z)...                                           0.833333               \n",
       "De Novo Triacylglycerol Biosynthesis TG(i-20:0/...                                           1.000000               \n",
       "De Novo Triacylglycerol Biosynthesis TG(22:1(13...                                           1.000000               \n",
       "Cardiolipin Biosynthesis CL(a-13:0/i-12:0/i-14:...                                           0.833333               \n",
       "\n",
       "                                                    Cardiolipin Biosynthesis CL(i-13:0/18:2(9Z,11Z)/a-17:0/i-15:0)  \\\n",
       "                                                                                                                     \n",
       "De Novo Triacylglycerol Biosynthesis TG(a-21:0/...                                           0.833333                \n",
       "Cardiolipin Biosynthesis CL(i-13:0/18:2(9Z,11Z)...                                           1.000000                \n",
       "De Novo Triacylglycerol Biosynthesis TG(i-20:0/...                                           0.833333                \n",
       "De Novo Triacylglycerol Biosynthesis TG(22:1(13...                                           0.833333                \n",
       "Cardiolipin Biosynthesis CL(a-13:0/i-12:0/i-14:...                                           1.000000                \n",
       "\n",
       "                                                    De Novo Triacylglycerol Biosynthesis TG(i-20:0/22:0/10:0)  \\\n",
       "                                                                                                                \n",
       "De Novo Triacylglycerol Biosynthesis TG(a-21:0/...                                           1.000000           \n",
       "Cardiolipin Biosynthesis CL(i-13:0/18:2(9Z,11Z)...                                           0.833333           \n",
       "De Novo Triacylglycerol Biosynthesis TG(i-20:0/...                                           1.000000           \n",
       "De Novo Triacylglycerol Biosynthesis TG(22:1(13...                                           1.000000           \n",
       "Cardiolipin Biosynthesis CL(a-13:0/i-12:0/i-14:...                                           0.833333           \n",
       "\n",
       "                                                    De Novo Triacylglycerol Biosynthesis TG(22:1(13Z)/16:1(9Z)/22:2(13Z,16Z))  \\\n",
       "                                                                                                                                \n",
       "De Novo Triacylglycerol Biosynthesis TG(a-21:0/...                                           1.000000                           \n",
       "Cardiolipin Biosynthesis CL(i-13:0/18:2(9Z,11Z)...                                           0.833333                           \n",
       "De Novo Triacylglycerol Biosynthesis TG(i-20:0/...                                           1.000000                           \n",
       "De Novo Triacylglycerol Biosynthesis TG(22:1(13...                                           1.000000                           \n",
       "Cardiolipin Biosynthesis CL(a-13:0/i-12:0/i-14:...                                           0.833333                           \n",
       "\n",
       "                                                    Cardiolipin Biosynthesis CL(a-13:0/i-12:0/i-14:0/i-16:0)  \\\n",
       "                                                                                                               \n",
       "De Novo Triacylglycerol Biosynthesis TG(a-21:0/...                                           0.833333          \n",
       "Cardiolipin Biosynthesis CL(i-13:0/18:2(9Z,11Z)...                                           1.000000          \n",
       "De Novo Triacylglycerol Biosynthesis TG(i-20:0/...                                           0.833333          \n",
       "De Novo Triacylglycerol Biosynthesis TG(22:1(13...                                           0.833333          \n",
       "Cardiolipin Biosynthesis CL(a-13:0/i-12:0/i-14:...                                           1.000000          \n",
       "\n",
       "                                                    De Novo Triacylglycerol Biosynthesis TG(20:3(5Z,8Z,11Z)/24:1(15Z)/20:5(5Z,8Z,11Z,14Z,17Z))  \\\n",
       "                                                                                                                                                 \n",
       "De Novo Triacylglycerol Biosynthesis TG(a-21:0/...                                           1.000000                                            \n",
       "Cardiolipin Biosynthesis CL(i-13:0/18:2(9Z,11Z)...                                           0.833333                                            \n",
       "De Novo Triacylglycerol Biosynthesis TG(i-20:0/...                                           1.000000                                            \n",
       "De Novo Triacylglycerol Biosynthesis TG(22:1(13...                                           1.000000                                            \n",
       "Cardiolipin Biosynthesis CL(a-13:0/i-12:0/i-14:...                                           0.833333                                            \n",
       "\n",
       "                                                    Cardiolipin Biosynthesis CL(a-13:0/a-21:0/a-25:0/a-15:0)  \\\n",
       "                                                                                                               \n",
       "De Novo Triacylglycerol Biosynthesis TG(a-21:0/...                                           0.833333          \n",
       "Cardiolipin Biosynthesis CL(i-13:0/18:2(9Z,11Z)...                                           1.000000          \n",
       "De Novo Triacylglycerol Biosynthesis TG(i-20:0/...                                           0.833333          \n",
       "De Novo Triacylglycerol Biosynthesis TG(22:1(13...                                           0.833333          \n",
       "Cardiolipin Biosynthesis CL(a-13:0/i-12:0/i-14:...                                           1.000000          \n",
       "\n",
       "                                                    Phosphatidylethanolamine Biosynthesis PE(16:1(9Z)/22:1(13Z))  \\\n",
       "                                                                                                                   \n",
       "De Novo Triacylglycerol Biosynthesis TG(a-21:0/...                                           0.081081              \n",
       "Cardiolipin Biosynthesis CL(i-13:0/18:2(9Z,11Z)...                                           0.052632              \n",
       "De Novo Triacylglycerol Biosynthesis TG(i-20:0/...                                           0.081081              \n",
       "De Novo Triacylglycerol Biosynthesis TG(22:1(13...                                           0.081081              \n",
       "Cardiolipin Biosynthesis CL(a-13:0/i-12:0/i-14:...                                           0.052632              \n",
       "\n",
       "                                                    Cardiolipin Biosynthesis CL(22:5(4Z,7Z,10Z,13Z,16Z)/18:0/22:6(4Z,7Z,10Z,13Z,16Z,19Z)/18:0)  \\\n",
       "                                                                                                                                                 \n",
       "De Novo Triacylglycerol Biosynthesis TG(a-21:0/...                                           0.833333                                            \n",
       "Cardiolipin Biosynthesis CL(i-13:0/18:2(9Z,11Z)...                                           1.000000                                            \n",
       "De Novo Triacylglycerol Biosynthesis TG(i-20:0/...                                           0.833333                                            \n",
       "De Novo Triacylglycerol Biosynthesis TG(22:1(13...                                           0.833333                                            \n",
       "Cardiolipin Biosynthesis CL(a-13:0/i-12:0/i-14:...                                           1.000000                                            \n",
       "\n",
       "                                                    Cardiolipin Biosynthesis CL(i-12:0/i-19:0/i-18:0/a-21:0)  \\\n",
       "                                                                                                               \n",
       "De Novo Triacylglycerol Biosynthesis TG(a-21:0/...                                           0.833333          \n",
       "Cardiolipin Biosynthesis CL(i-13:0/18:2(9Z,11Z)...                                           1.000000          \n",
       "De Novo Triacylglycerol Biosynthesis TG(i-20:0/...                                           0.833333          \n",
       "De Novo Triacylglycerol Biosynthesis TG(22:1(13...                                           0.833333          \n",
       "Cardiolipin Biosynthesis CL(a-13:0/i-12:0/i-14:...                                           1.000000          \n",
       "\n",
       "                                                                                       ...                                      \\\n",
       "                                                                                       ...                                       \n",
       "De Novo Triacylglycerol Biosynthesis TG(a-21:0/...                                     ...                                       \n",
       "Cardiolipin Biosynthesis CL(i-13:0/18:2(9Z,11Z)...                                     ...                                       \n",
       "De Novo Triacylglycerol Biosynthesis TG(i-20:0/...                                     ...                                       \n",
       "De Novo Triacylglycerol Biosynthesis TG(22:1(13...                                     ...                                       \n",
       "Cardiolipin Biosynthesis CL(a-13:0/i-12:0/i-14:...                                     ...                                       \n",
       "\n",
       "                                                    De Novo Triacylglycerol Biosynthesis TG(15:0/15:0/22:5(7Z,10Z,13Z,16Z,19Z))  \\\n",
       "                                                                                                                                  \n",
       "De Novo Triacylglycerol Biosynthesis TG(a-21:0/...                                           1.000000                             \n",
       "Cardiolipin Biosynthesis CL(i-13:0/18:2(9Z,11Z)...                                           0.833333                             \n",
       "De Novo Triacylglycerol Biosynthesis TG(i-20:0/...                                           1.000000                             \n",
       "De Novo Triacylglycerol Biosynthesis TG(22:1(13...                                           1.000000                             \n",
       "Cardiolipin Biosynthesis CL(a-13:0/i-12:0/i-14:...                                           0.833333                             \n",
       "\n",
       "                                                    Cardiolipin Biosynthesis CL(i-13:0/i-19:0/18:2(9Z,11Z)/i-14:0)  \\\n",
       "                                                                                                                     \n",
       "De Novo Triacylglycerol Biosynthesis TG(a-21:0/...                                           0.833333                \n",
       "Cardiolipin Biosynthesis CL(i-13:0/18:2(9Z,11Z)...                                           1.000000                \n",
       "De Novo Triacylglycerol Biosynthesis TG(i-20:0/...                                           0.833333                \n",
       "De Novo Triacylglycerol Biosynthesis TG(22:1(13...                                           0.833333                \n",
       "Cardiolipin Biosynthesis CL(a-13:0/i-12:0/i-14:...                                           1.000000                \n",
       "\n",
       "                                                    Cardiolipin Biosynthesis CL(i-13:0/a-25:0/a-21:0/i-14:0)  \\\n",
       "                                                                                                               \n",
       "De Novo Triacylglycerol Biosynthesis TG(a-21:0/...                                           0.833333          \n",
       "Cardiolipin Biosynthesis CL(i-13:0/18:2(9Z,11Z)...                                           1.000000          \n",
       "De Novo Triacylglycerol Biosynthesis TG(i-20:0/...                                           0.833333          \n",
       "De Novo Triacylglycerol Biosynthesis TG(22:1(13...                                           0.833333          \n",
       "Cardiolipin Biosynthesis CL(a-13:0/i-12:0/i-14:...                                           1.000000          \n",
       "\n",
       "                                                    Cardiolipin Biosynthesis CL(i-12:0/a-25:0/a-15:0/i-13:0)  \\\n",
       "                                                                                                               \n",
       "De Novo Triacylglycerol Biosynthesis TG(a-21:0/...                                           0.833333          \n",
       "Cardiolipin Biosynthesis CL(i-13:0/18:2(9Z,11Z)...                                           1.000000          \n",
       "De Novo Triacylglycerol Biosynthesis TG(i-20:0/...                                           0.833333          \n",
       "De Novo Triacylglycerol Biosynthesis TG(22:1(13...                                           0.833333          \n",
       "Cardiolipin Biosynthesis CL(a-13:0/i-12:0/i-14:...                                           1.000000          \n",
       "\n",
       "                                                    Cardiolipin Biosynthesis CL(i-13:0/i-24:0/i-21:0/i-17:0)  \\\n",
       "                                                                                                               \n",
       "De Novo Triacylglycerol Biosynthesis TG(a-21:0/...                                           0.833333          \n",
       "Cardiolipin Biosynthesis CL(i-13:0/18:2(9Z,11Z)...                                           1.000000          \n",
       "De Novo Triacylglycerol Biosynthesis TG(i-20:0/...                                           0.833333          \n",
       "De Novo Triacylglycerol Biosynthesis TG(22:1(13...                                           0.833333          \n",
       "Cardiolipin Biosynthesis CL(a-13:0/i-12:0/i-14:...                                           1.000000          \n",
       "\n",
       "                                                    De Novo Triacylglycerol Biosynthesis TG(a-25:0/i-21:0/i-18:0)  \\\n",
       "                                                                                                                    \n",
       "De Novo Triacylglycerol Biosynthesis TG(a-21:0/...                                           1.000000               \n",
       "Cardiolipin Biosynthesis CL(i-13:0/18:2(9Z,11Z)...                                           0.833333               \n",
       "De Novo Triacylglycerol Biosynthesis TG(i-20:0/...                                           1.000000               \n",
       "De Novo Triacylglycerol Biosynthesis TG(22:1(13...                                           1.000000               \n",
       "Cardiolipin Biosynthesis CL(a-13:0/i-12:0/i-14:...                                           0.833333               \n",
       "\n",
       "                                                    De Novo Triacylglycerol Biosynthesis TG(16:1(9Z)/18:3(6Z,9Z,12Z)/18:2(9Z,12Z))  \\\n",
       "                                                                                                                                     \n",
       "De Novo Triacylglycerol Biosynthesis TG(a-21:0/...                                           1.000000                                \n",
       "Cardiolipin Biosynthesis CL(i-13:0/18:2(9Z,11Z)...                                           0.833333                                \n",
       "De Novo Triacylglycerol Biosynthesis TG(i-20:0/...                                           1.000000                                \n",
       "De Novo Triacylglycerol Biosynthesis TG(22:1(13...                                           1.000000                                \n",
       "Cardiolipin Biosynthesis CL(a-13:0/i-12:0/i-14:...                                           0.833333                                \n",
       "\n",
       "                                                    Cardiolipin Biosynthesis CL(i-12:0/i-17:0/a-15:0/i-17:0)  \\\n",
       "                                                                                                               \n",
       "De Novo Triacylglycerol Biosynthesis TG(a-21:0/...                                           0.833333          \n",
       "Cardiolipin Biosynthesis CL(i-13:0/18:2(9Z,11Z)...                                           1.000000          \n",
       "De Novo Triacylglycerol Biosynthesis TG(i-20:0/...                                           0.833333          \n",
       "De Novo Triacylglycerol Biosynthesis TG(22:1(13...                                           0.833333          \n",
       "Cardiolipin Biosynthesis CL(a-13:0/i-12:0/i-14:...                                           1.000000          \n",
       "\n",
       "                                                    De Novo Triacylglycerol Biosynthesis TG(20:0/24:0/18:3(9Z,12Z,15Z))  \\\n",
       "                                                                                                                          \n",
       "De Novo Triacylglycerol Biosynthesis TG(a-21:0/...                                           1.000000                     \n",
       "Cardiolipin Biosynthesis CL(i-13:0/18:2(9Z,11Z)...                                           0.833333                     \n",
       "De Novo Triacylglycerol Biosynthesis TG(i-20:0/...                                           1.000000                     \n",
       "De Novo Triacylglycerol Biosynthesis TG(22:1(13...                                           1.000000                     \n",
       "Cardiolipin Biosynthesis CL(a-13:0/i-12:0/i-14:...                                           0.833333                     \n",
       "\n",
       "                                                    De Novo Triacylglycerol Biosynthesis TG(14:1(9Z)/18:3(6Z,9Z,12Z)/14:1(9Z))  \n",
       "                                                                                                                                \n",
       "De Novo Triacylglycerol Biosynthesis TG(a-21:0/...                                           1.000000                           \n",
       "Cardiolipin Biosynthesis CL(i-13:0/18:2(9Z,11Z)...                                           0.833333                           \n",
       "De Novo Triacylglycerol Biosynthesis TG(i-20:0/...                                           1.000000                           \n",
       "De Novo Triacylglycerol Biosynthesis TG(22:1(13...                                           1.000000                           \n",
       "Cardiolipin Biosynthesis CL(a-13:0/i-12:0/i-14:...                                           0.833333                           \n",
       "\n",
       "[5 rows x 51319 columns]"
      ]
     },
     "execution_count": 65,
     "metadata": {},
     "output_type": "execute_result"
    }
   ],
   "source": [
    "attribute_similarity_matix.head()"
   ]
  },
  {
   "cell_type": "code",
   "execution_count": 66,
   "metadata": {},
   "outputs": [
    {
     "data": {
      "text/plain": [
       "(51319, 51319)"
      ]
     },
     "execution_count": 66,
     "metadata": {},
     "output_type": "execute_result"
    }
   ],
   "source": [
    "attribute_similarity_matix.shape"
   ]
  },
  {
   "cell_type": "markdown",
   "metadata": {},
   "source": [
    "# Save Attribute Similarity Matrix"
   ]
  },
  {
   "cell_type": "code",
   "execution_count": 67,
   "metadata": {},
   "outputs": [],
   "source": [
    "filename = path+'pathway_commons_pathways_attribute_similarity_matix_%s.tsv.zip'% str(datetime.date.today())[0:7].replace('-', '_')\n",
    "attribute_similarity_matix.to_csv(filename, sep='\\t', compression='gzip')"
   ]
  },
  {
   "cell_type": "markdown",
   "metadata": {},
   "source": [
    "# Create Gene-Attribute Edge List"
   ]
  },
  {
   "cell_type": "code",
   "execution_count": 62,
   "metadata": {},
   "outputs": [],
   "source": [
    "name = 'pathway_commons_pathways_gene_attribute_edge_list'"
   ]
  },
  {
   "cell_type": "code",
   "execution_count": 63,
   "metadata": {},
   "outputs": [
    {
     "name": "stdout",
     "output_type": "stream",
     "text": [
      "Progeres: 100%  51319 Out of 51319   \n",
      "\n",
      " The number of statisticaly relevent gene-attribute associations is: 1257932\n"
     ]
    }
   ],
   "source": [
    "uf.createGeneAttributeEdgeList(binary_matrix, attribute_list, gene_list, path, name)"
   ]
  }
 ],
 "metadata": {
  "kernelspec": {
   "display_name": "Python 3",
   "language": "python",
   "name": "python3"
  },
  "language_info": {
   "codemirror_mode": {
    "name": "ipython",
    "version": 3
   },
   "file_extension": ".py",
   "mimetype": "text/x-python",
   "name": "python",
   "nbconvert_exporter": "python",
   "pygments_lexer": "ipython3",
   "version": "3.6.4"
  }
 },
 "nbformat": 4,
 "nbformat_minor": 2
}
