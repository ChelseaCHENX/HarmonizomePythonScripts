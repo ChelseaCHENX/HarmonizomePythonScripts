{
 "cells": [
  {
   "cell_type": "markdown",
   "metadata": {},
   "source": [
    "# FDA Orphan Disease List"
   ]
  },
  {
   "cell_type": "markdown",
   "metadata": {},
   "source": [
    "Author: John Erol Evangelista <br/>\n",
    "Date: 01-19 <br/>\n",
    "Data Source: https://www.accessdata.fda.gov/scripts/opdlisting/oopd/index.cfm; https://rarediseases.info.nih.gov/diseases/fda-orphan-drugs"
   ]
  },
  {
   "cell_type": "code",
   "execution_count": 1,
   "metadata": {},
   "outputs": [],
   "source": [
    "import sys, datetime, os, json\n",
    "import numpy as np\n",
    "import pandas as pd\n",
    "import importlib\n",
    "import xml.etree.ElementTree as ET\n",
    "import requests\n",
    "from bs4 import BeautifulSoup\n",
    "import time\n",
    "\n",
    "%matplotlib inline\n",
    "if \"/Users/maayan/sigsets/Harmonizome/HarmonizomePythonScripts\" not in sys.path:\n",
    "    sys.path.append(\"/Users/maayan/sigsets/Harmonizome/HarmonizomePythonScripts\")\n",
    "import utility_functions as uf\n",
    "from entrez_helper import entrez"
   ]
  },
  {
   "cell_type": "code",
   "execution_count": 2,
   "metadata": {},
   "outputs": [],
   "source": [
    "ez = entrez(\"JohnErol.Evangelista@mssm.edu\", \"83a36edabe6b67dec8d71446a47b7c3b3e09\")"
   ]
  },
  {
   "cell_type": "markdown",
   "metadata": {},
   "source": [
    "## Fetch csv file"
   ]
  },
  {
   "cell_type": "code",
   "execution_count": 3,
   "metadata": {},
   "outputs": [],
   "source": [
    "data_path = '/Users/maayan/sigsets/Harmonizome/Data/'"
   ]
  },
  {
   "cell_type": "code",
   "execution_count": 4,
   "metadata": {},
   "outputs": [
    {
     "data": {
      "text/html": [
       "<div>\n",
       "<style scoped>\n",
       "    .dataframe tbody tr th:only-of-type {\n",
       "        vertical-align: middle;\n",
       "    }\n",
       "\n",
       "    .dataframe tbody tr th {\n",
       "        vertical-align: top;\n",
       "    }\n",
       "\n",
       "    .dataframe thead th {\n",
       "        text-align: right;\n",
       "    }\n",
       "</style>\n",
       "<table border=\"1\" class=\"dataframe\">\n",
       "  <thead>\n",
       "    <tr style=\"text-align: right;\">\n",
       "      <th></th>\n",
       "      <th>Generic Name</th>\n",
       "      <th>Trade Name</th>\n",
       "      <th>Designation Date</th>\n",
       "      <th>Designation</th>\n",
       "      <th>Orphan Drug Status</th>\n",
       "      <th>FDA Approval Status</th>\n",
       "      <th>Approved Indication</th>\n",
       "      <th>Marketing Approval Date</th>\n",
       "      <th>Exclusivity End Date</th>\n",
       "      <th>Contact Company</th>\n",
       "      <th>Contact Address 1</th>\n",
       "      <th>Contact Address 2</th>\n",
       "      <th>Contact City</th>\n",
       "      <th>Contact State</th>\n",
       "      <th>Contact Zip</th>\n",
       "      <th>Contact Country</th>\n",
       "      <th>CF Grid Key</th>\n",
       "    </tr>\n",
       "  </thead>\n",
       "  <tbody>\n",
       "    <tr>\n",
       "      <th>0</th>\n",
       "      <td>(2S,3S,4E,6S,7R,10R)-7,10-Dihydroxy-3,7-dimeth...</td>\n",
       "      <td>NaN</td>\n",
       "      <td>6/22/17</td>\n",
       "      <td>Treatment of chronic myelomonocytic leukemia (...</td>\n",
       "      <td>Designated</td>\n",
       "      <td>NaN</td>\n",
       "      <td>NaN</td>\n",
       "      <td>ÊN/A</td>\n",
       "      <td>ÊN/A</td>\n",
       "      <td>H3 Biomedicine Inc. (US Research Subsidiary of...</td>\n",
       "      <td>300 Technology Square</td>\n",
       "      <td>Floor 5</td>\n",
       "      <td>Cambridge</td>\n",
       "      <td>Massachusetts</td>\n",
       "      <td>2139</td>\n",
       "      <td>USA</td>\n",
       "      <td>581717</td>\n",
       "    </tr>\n",
       "    <tr>\n",
       "      <th>1</th>\n",
       "      <td>(2S,4R)-1-(2-(3-acetyl-5-(2-methylpyrimidin-5-...</td>\n",
       "      <td>NaN</td>\n",
       "      <td>11/2/17</td>\n",
       "      <td>Treatment of paroxysmal nocturnal hemoglobinuria</td>\n",
       "      <td>Designated</td>\n",
       "      <td>NaN</td>\n",
       "      <td>NaN</td>\n",
       "      <td>ÊN/A</td>\n",
       "      <td>ÊN/A</td>\n",
       "      <td>Achillion Pharmaceuticals, Inc</td>\n",
       "      <td>300 George Street</td>\n",
       "      <td>NaN</td>\n",
       "      <td>New Haven</td>\n",
       "      <td>Connecticut</td>\n",
       "      <td>6511</td>\n",
       "      <td>USA</td>\n",
       "      <td>512715</td>\n",
       "    </tr>\n",
       "    <tr>\n",
       "      <th>2</th>\n",
       "      <td>1-(2-Nitro-imidazolyl)-3-[18F]fluoro-2-propano...</td>\n",
       "      <td>NaN</td>\n",
       "      <td>1/6/16</td>\n",
       "      <td>As a diagnostic for clinical management of sof...</td>\n",
       "      <td>Designated</td>\n",
       "      <td>NaN</td>\n",
       "      <td>NaN</td>\n",
       "      <td>ÊN/A</td>\n",
       "      <td>ÊN/A</td>\n",
       "      <td>Advanced Imaging Projects, LLC</td>\n",
       "      <td>7947 Brookside Ct.</td>\n",
       "      <td>NaN</td>\n",
       "      <td>Lake Worth</td>\n",
       "      <td>Florida</td>\n",
       "      <td>33467</td>\n",
       "      <td>USA</td>\n",
       "      <td>509715</td>\n",
       "    </tr>\n",
       "    <tr>\n",
       "      <th>3</th>\n",
       "      <td>ascorbic acid</td>\n",
       "      <td>NaN</td>\n",
       "      <td>5/11/09</td>\n",
       "      <td>Treatment of Charcot-Marie-Tooth disease type 1A.</td>\n",
       "      <td>Designated</td>\n",
       "      <td>NaN</td>\n",
       "      <td>NaN</td>\n",
       "      <td>ÊN/A</td>\n",
       "      <td>ÊN/A</td>\n",
       "      <td>Murigenetics SAS</td>\n",
       "      <td>Faculte de Medecine Timone</td>\n",
       "      <td>13005 Marseille</td>\n",
       "      <td>NaN</td>\n",
       "      <td>NaN</td>\n",
       "      <td>NaN</td>\n",
       "      <td>France</td>\n",
       "      <td>280909</td>\n",
       "    </tr>\n",
       "    <tr>\n",
       "      <th>4</th>\n",
       "      <td>bosentan</td>\n",
       "      <td>Tracleer</td>\n",
       "      <td>10/6/00</td>\n",
       "      <td>Treatment of pulmonary arterial hypertension</td>\n",
       "      <td>Designated/Approved</td>\n",
       "      <td>Approved for Orphan Indication</td>\n",
       "      <td>Treatment of pulmonary arterial hypertension.</td>\n",
       "      <td>Ê11/20/2001Ê</td>\n",
       "      <td>Ê11/20/2008</td>\n",
       "      <td>Actelion Pharmaceuticals, Ltd.</td>\n",
       "      <td>1840 Gateway Drive</td>\n",
       "      <td>Suite 300</td>\n",
       "      <td>Cherry Hill</td>\n",
       "      <td>New Jersey</td>\n",
       "      <td>8002</td>\n",
       "      <td>USA</td>\n",
       "      <td>134200</td>\n",
       "    </tr>\n",
       "  </tbody>\n",
       "</table>\n",
       "</div>"
      ],
      "text/plain": [
       "                                        Generic Name Trade Name  \\\n",
       "0  (2S,3S,4E,6S,7R,10R)-7,10-Dihydroxy-3,7-dimeth...        NaN   \n",
       "1  (2S,4R)-1-(2-(3-acetyl-5-(2-methylpyrimidin-5-...        NaN   \n",
       "2  1-(2-Nitro-imidazolyl)-3-[18F]fluoro-2-propano...        NaN   \n",
       "3                                      ascorbic acid        NaN   \n",
       "4                                           bosentan   Tracleer   \n",
       "\n",
       "  Designation Date                                        Designation  \\\n",
       "0          6/22/17  Treatment of chronic myelomonocytic leukemia (...   \n",
       "1          11/2/17   Treatment of paroxysmal nocturnal hemoglobinuria   \n",
       "2           1/6/16  As a diagnostic for clinical management of sof...   \n",
       "3          5/11/09  Treatment of Charcot-Marie-Tooth disease type 1A.   \n",
       "4          10/6/00       Treatment of pulmonary arterial hypertension   \n",
       "\n",
       "    Orphan Drug Status             FDA Approval Status  \\\n",
       "0           Designated                             NaN   \n",
       "1           Designated                             NaN   \n",
       "2           Designated                             NaN   \n",
       "3           Designated                             NaN   \n",
       "4  Designated/Approved  Approved for Orphan Indication   \n",
       "\n",
       "                             Approved Indication Marketing Approval Date  \\\n",
       "0                                            NaN                    ÊN/A   \n",
       "1                                            NaN                    ÊN/A   \n",
       "2                                            NaN                    ÊN/A   \n",
       "3                                            NaN                    ÊN/A   \n",
       "4  Treatment of pulmonary arterial hypertension.            Ê11/20/2001Ê   \n",
       "\n",
       "  Exclusivity End Date                                    Contact Company  \\\n",
       "0                 ÊN/A  H3 Biomedicine Inc. (US Research Subsidiary of...   \n",
       "1                 ÊN/A                     Achillion Pharmaceuticals, Inc   \n",
       "2                 ÊN/A                     Advanced Imaging Projects, LLC   \n",
       "3                 ÊN/A                                   Murigenetics SAS   \n",
       "4          Ê11/20/2008                     Actelion Pharmaceuticals, Ltd.   \n",
       "\n",
       "            Contact Address 1 Contact Address 2 Contact City  Contact State  \\\n",
       "0       300 Technology Square           Floor 5    Cambridge  Massachusetts   \n",
       "1           300 George Street               NaN    New Haven    Connecticut   \n",
       "2          7947 Brookside Ct.               NaN   Lake Worth        Florida   \n",
       "3  Faculte de Medecine Timone   13005 Marseille          NaN            NaN   \n",
       "4          1840 Gateway Drive         Suite 300  Cherry Hill     New Jersey   \n",
       "\n",
       "  Contact Zip Contact Country  CF Grid Key  \n",
       "0        2139             USA       581717  \n",
       "1        6511             USA       512715  \n",
       "2       33467             USA       509715  \n",
       "3         NaN          France       280909  \n",
       "4        8002             USA       134200  "
      ]
     },
     "execution_count": 4,
     "metadata": {},
     "output_type": "execute_result"
    }
   ],
   "source": [
    "df = pd.read_csv(data_path + \"AllOrphanFDA.csv\")\n",
    "df.head()"
   ]
  },
  {
   "cell_type": "markdown",
   "metadata": {},
   "source": [
    "## Extract diseases from website"
   ]
  },
  {
   "cell_type": "code",
   "execution_count": 8,
   "metadata": {},
   "outputs": [],
   "source": [
    "baseUrl = \"https://rarediseases.info.nih.gov/diseases/fda-orphan-drugs/\""
   ]
  },
  {
   "cell_type": "code",
   "execution_count": 16,
   "metadata": {},
   "outputs": [
    {
     "name": "stdout",
     "output_type": "stream",
     "text": [
      "Processing: 0-9\r"
     ]
    }
   ],
   "source": [
    "rare_diseases = []\n",
    "for num in range(27):\n",
    "    if num == 26:\n",
    "        sym = \"0-9\"\n",
    "    else:\n",
    "        sym = chr(ord('A')+num)\n",
    "    sys.stdout.write(\"Processing: %s\\r\" % (sym))\n",
    "    url = baseUrl + sym\n",
    "    res = requests.get(url)\n",
    "    soup = BeautifulSoup(res.text, 'html.parser')\n",
    "    lists = soup.find('ul', class_=\"MedicalProductsDiseaseLinks\")\n",
    "    for entry in lists.findAll(\"li\"):\n",
    "        disease = entry.find(\"a\").text\n",
    "        if not \"\\n -\" in disease:\n",
    "            rare_diseases.append(disease.strip())\n",
    "    time.sleep(1)"
   ]
  },
  {
   "cell_type": "code",
   "execution_count": 17,
   "metadata": {},
   "outputs": [
    {
     "data": {
      "text/plain": [
       "380"
      ]
     },
     "execution_count": 17,
     "metadata": {},
     "output_type": "execute_result"
    }
   ],
   "source": [
    "len(rare_diseases)"
   ]
  },
  {
   "cell_type": "code",
   "execution_count": 18,
   "metadata": {},
   "outputs": [],
   "source": [
    "with open(\"/Users/maayan/sigsets/Harmonizome/Output/FDAOrphan/Disease_list.json\", \"w\") as o:\n",
    "    o.write(json.dumps(rare_diseases))"
   ]
  },
  {
   "cell_type": "code",
   "execution_count": 20,
   "metadata": {},
   "outputs": [],
   "source": [
    "#Get Edited version\n",
    "with open(\"/Users/maayan/sigsets/Harmonizome/Output/FDAOrphan/Disease_list.json\") as o:\n",
    "    rare_diseases = json.loads(o.read())"
   ]
  },
  {
   "cell_type": "code",
   "execution_count": 21,
   "metadata": {},
   "outputs": [
    {
     "data": {
      "text/plain": [
       "334"
      ]
     },
     "execution_count": 21,
     "metadata": {},
     "output_type": "execute_result"
    }
   ],
   "source": [
    "len(rare_diseases)"
   ]
  },
  {
   "cell_type": "markdown",
   "metadata": {},
   "source": [
    "## Get PMIDs"
   ]
  },
  {
   "cell_type": "code",
   "execution_count": 22,
   "metadata": {},
   "outputs": [],
   "source": [
    "# Get disease dict from another library\n",
    "GARD_pmid_file = \"/Users/maayan/sigsets/Harmonizome/Output/GARD/GARD_PMID.json\"\n",
    "with open(GARD_pmid_file) as o:\n",
    "    GARD_pmids = json.loads(o.read())"
   ]
  },
  {
   "cell_type": "code",
   "execution_count": 23,
   "metadata": {},
   "outputs": [
    {
     "name": "stdout",
     "output_type": "stream",
     "text": [
      "Processing term Zygomycosisllison syndromeadiopathiciated periodic syndromesyndromeal defect\r"
     ]
    }
   ],
   "source": [
    "rare_disease_pmids = ez.get_all_pmids_of_list(rare_diseases, GARD_pmids, timeout1=1, timeout2=5)"
   ]
  },
  {
   "cell_type": "code",
   "execution_count": 24,
   "metadata": {},
   "outputs": [],
   "source": [
    "with open(\"/Users/maayan/sigsets/Harmonizome/Output/FDAOrphan/FDAOrphan_PMID.json\", \"w\") as o:\n",
    "    o.write(json.dumps(rare_disease_pmids))"
   ]
  },
  {
   "cell_type": "markdown",
   "metadata": {},
   "source": [
    "## Load Mapping File, GeneRIF, and AutoRIF"
   ]
  },
  {
   "cell_type": "code",
   "execution_count": 25,
   "metadata": {},
   "outputs": [],
   "source": [
    "mappingDFHMR_updated = pd.read_csv('/Users/maayan/sigsets/Harmonizome/Data/mappingFileHMR_2019.tsv', sep='\\t', header=None, index_col=[0,1]).sort_index()\n",
    "getGeneIDsHMR_updated = pd.read_csv('/Users/maayan/sigsets/Harmonizome/Data/GeneSymbolsAndIDSHMR_2019.tsv', sep='\\t', index_col=[0,2]).sort_index()"
   ]
  },
  {
   "cell_type": "code",
   "execution_count": 27,
   "metadata": {},
   "outputs": [],
   "source": [
    "geneRIF = pd.read_csv('/Users/maayan/sigsets/Harmonizome/Data/generifs_basic', sep='\\t', index_col=[0,2]).sort_index()"
   ]
  },
  {
   "cell_type": "code",
   "execution_count": 28,
   "metadata": {},
   "outputs": [],
   "source": [
    "autoRIF = pd.read_csv('/Users/maayan/sigsets/Harmonizome/Data/autorif.tsv', sep='\\t', header=None, index_col=1)"
   ]
  },
  {
   "cell_type": "markdown",
   "metadata": {},
   "source": [
    "## GeneRIF Geneset"
   ]
  },
  {
   "cell_type": "code",
   "execution_count": 29,
   "metadata": {},
   "outputs": [],
   "source": [
    "HUMAN_TAXON_ID = 9606"
   ]
  },
  {
   "cell_type": "code",
   "execution_count": 30,
   "metadata": {},
   "outputs": [
    {
     "name": "stdout",
     "output_type": "stream",
     "text": [
      "Processing disease Zygomycosisllison syndromeadiopathiciated periodic syndromesyndromeal defect\r"
     ]
    }
   ],
   "source": [
    "with open(\"/Users/maayan/sigsets/Harmonizome/Output/FDAOrphan/FDAOrphan_GeneRIF.gmt\", \"w\") as o:\n",
    "    for disease, pmids in rare_disease_pmids.items():\n",
    "        gmt_line = disease + \"\\t\\t\"\n",
    "        sys.stdout.write(\"Processing disease %s\\r\" % (disease))\n",
    "        genes = set([])\n",
    "        for pmid in pmids:\n",
    "            pmid = int(pmid)\n",
    "            if (HUMAN_TAXON_ID, pmid) in geneRIF.index:\n",
    "                gene_ids = geneRIF.loc[(HUMAN_TAXON_ID,pmid), \"Gene ID\"]\n",
    "                for gene_id in gene_ids:\n",
    "                    if (HUMAN_TAXON_ID, gene_id) in getGeneIDsHMR_updated.index:\n",
    "                        gene = getGeneIDsHMR_updated.loc[(HUMAN_TAXON_ID, gene_id), \"Human, Mouse, and Rat Approved Symbol\"]\n",
    "                        genes.add(gene)\n",
    "                        # gmt_line += (\"\\t\" + gene)\n",
    "        if genes:\n",
    "            gmt_line += (\"\\t\".join(list(genes)) +\"\\n\")        \n",
    "            o.write(gmt_line)"
   ]
  },
  {
   "cell_type": "markdown",
   "metadata": {},
   "source": [
    "## AutoRIF Geneset"
   ]
  },
  {
   "cell_type": "code",
   "execution_count": 31,
   "metadata": {},
   "outputs": [
    {
     "name": "stdout",
     "output_type": "stream",
     "text": [
      "Processing disease Zygomycosisllison syndromeadiopathiciated periodic syndromesyndromeal defect\r"
     ]
    }
   ],
   "source": [
    "with open(\"/Users/maayan/sigsets/Harmonizome/Output/FDAOrphan/FDAOrphan_AutoRIF.gmt\", \"w\") as o:\n",
    "    for disease, pmids in rare_disease_pmids.items():\n",
    "        gmt_line = disease + \"\\t\\t\"\n",
    "        sys.stdout.write(\"Processing disease %s\\r\" % (disease))\n",
    "        genes = set([])\n",
    "        for pmid in pmids:\n",
    "            pmid = int(pmid)\n",
    "            if pmid in autoRIF.index:\n",
    "                gene = autoRIF.loc[pmid, 0]\n",
    "                if not isinstance(gene, str): # Multiple genes\n",
    "                    for g in gene:\n",
    "                        genes.add(g)\n",
    "                else:\n",
    "                    genes.add(gene)\n",
    "               # gmt_line += (\"\\t\" + genes)\n",
    "        if genes:\n",
    "            gmt_line += (\"\\t\".join(list(genes)) +\"\\n\")        \n",
    "            o.write(gmt_line)"
   ]
  },
  {
   "cell_type": "code",
   "execution_count": null,
   "metadata": {},
   "outputs": [],
   "source": []
  }
 ],
 "metadata": {
  "kernelspec": {
   "display_name": "pvenv",
   "language": "python",
   "name": "pvenv"
  },
  "language_info": {
   "codemirror_mode": {
    "name": "ipython",
    "version": 3
   },
   "file_extension": ".py",
   "mimetype": "text/x-python",
   "name": "python",
   "nbconvert_exporter": "python",
   "pygments_lexer": "ipython3",
   "version": "3.6.5"
  }
 },
 "nbformat": 4,
 "nbformat_minor": 2
}
