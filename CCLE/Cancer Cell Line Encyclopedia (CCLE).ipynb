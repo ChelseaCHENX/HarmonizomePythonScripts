{
 "cells": [
  {
   "cell_type": "markdown",
   "metadata": {},
   "source": [
    "# Cancer Cell Line Encyclopedia (CCLE)"
   ]
  },
  {
   "cell_type": "markdown",
   "metadata": {},
   "source": [
    "Author: Moshe Silverstein <br/>\n",
    "Date: 7-17 <br/>\n",
    "Data Source: http://software.broadinstitute.org/software/cprg/?q=node/11"
   ]
  },
  {
   "cell_type": "code",
   "execution_count": 1,
   "metadata": {
    "collapsed": true
   },
   "outputs": [],
   "source": [
    "import sys, datetime, os\n",
    "import numpy as np\n",
    "import pandas as pd\n",
    "import importlib\n",
    "import my_functions as mf\n",
    "import matplotlib.pyplot as plt\n",
    "%matplotlib inline"
   ]
  },
  {
   "cell_type": "code",
   "execution_count": 2,
   "metadata": {
    "collapsed": true
   },
   "outputs": [],
   "source": [
    "from clustergrammer_widget import *\n",
    "net = Network(clustergrammer_widget)"
   ]
  },
  {
   "cell_type": "code",
   "execution_count": 3,
   "metadata": {},
   "outputs": [
    {
     "data": {
      "text/plain": [
       "<module 'my_functions' from '/Users/moshesilverstein/Documents/Harmonizome/CCLE/my_functions.py'>"
      ]
     },
     "execution_count": 3,
     "metadata": {},
     "output_type": "execute_result"
    }
   ],
   "source": [
    "importlib.reload(mf)"
   ]
  },
  {
   "cell_type": "markdown",
   "metadata": {},
   "source": [
    "# Versions Of Modules In Use"
   ]
  },
  {
   "cell_type": "code",
   "execution_count": 4,
   "metadata": {},
   "outputs": [
    {
     "data": {
      "application/json": {
       "Software versions": [
        {
         "module": "Python",
         "version": "3.5.2 64bit [GCC 4.2.1 Compatible Apple LLVM 4.2 (clang-425.0.28)]"
        },
        {
         "module": "IPython",
         "version": "5.3.0"
        },
        {
         "module": "OS",
         "version": "Darwin 17.2.0 x86_64 i386 64bit"
        },
        {
         "module": "numpy",
         "version": "1.13.1"
        },
        {
         "module": "pandas",
         "version": "0.21.0"
        },
        {
         "module": "clustergrammer_widget",
         "version": "1.9.0"
        }
       ]
      },
      "text/html": [
       "<table><tr><th>Software</th><th>Version</th></tr><tr><td>Python</td><td>3.5.2 64bit [GCC 4.2.1 Compatible Apple LLVM 4.2 (clang-425.0.28)]</td></tr><tr><td>IPython</td><td>5.3.0</td></tr><tr><td>OS</td><td>Darwin 17.2.0 x86_64 i386 64bit</td></tr><tr><td>numpy</td><td>1.13.1</td></tr><tr><td>pandas</td><td>0.21.0</td></tr><tr><td>clustergrammer_widget</td><td>1.9.0</td></tr><tr><td colspan='2'>Wed Dec 13 13:39:03 2017 EST</td></tr></table>"
      ],
      "text/latex": [
       "\\begin{tabular}{|l|l|}\\hline\n",
       "{\\bf Software} & {\\bf Version} \\\\ \\hline\\hline\n",
       "Python & 3.5.2 64bit [GCC 4.2.1 Compatible Apple LLVM 4.2 (clang-425.0.28)] \\\\ \\hline\n",
       "IPython & 5.3.0 \\\\ \\hline\n",
       "OS & Darwin 17.2.0 x86\\_64 i386 64bit \\\\ \\hline\n",
       "numpy & 1.13.1 \\\\ \\hline\n",
       "pandas & 0.21.0 \\\\ \\hline\n",
       "clustergrammer_widget & 1.9.0 \\\\ \\hline\n",
       "\\hline \\multicolumn{2}{|l|}{Wed Dec 13 13:39:03 2017 EST} \\\\ \\hline\n",
       "\\end{tabular}\n"
      ],
      "text/plain": [
       "Software versions\n",
       "Python 3.5.2 64bit [GCC 4.2.1 Compatible Apple LLVM 4.2 (clang-425.0.28)]\n",
       "IPython 5.3.0\n",
       "OS Darwin 17.2.0 x86_64 i386 64bit\n",
       "numpy 1.13.1\n",
       "pandas 0.21.0\n",
       "clustergrammer_widget 1.9.0\n",
       "Wed Dec 13 13:39:03 2017 EST"
      ]
     },
     "execution_count": 4,
     "metadata": {},
     "output_type": "execute_result"
    }
   ],
   "source": [
    "%load_ext version_information\n",
    "%version_information numpy, pandas, clustergrammer_widget "
   ]
  },
  {
   "cell_type": "markdown",
   "metadata": {},
   "source": [
    "# Functions"
   ]
  },
  {
   "cell_type": "markdown",
   "metadata": {},
   "source": [
    "## Load Sample Metadata "
   ]
  },
  {
   "cell_type": "code",
   "execution_count": 5,
   "metadata": {
    "collapsed": true
   },
   "outputs": [],
   "source": [
    "sample_meta = pd.read_csv('Input/CCLE_Expression.Arrays.sif_2012-10-18.txt', sep='\\t', index_col=1)"
   ]
  },
  {
   "cell_type": "code",
   "execution_count": 6,
   "metadata": {},
   "outputs": [
    {
     "data": {
      "text/html": [
       "<div>\n",
       "<style scoped>\n",
       "    .dataframe tbody tr th:only-of-type {\n",
       "        vertical-align: middle;\n",
       "    }\n",
       "\n",
       "    .dataframe tbody tr th {\n",
       "        vertical-align: top;\n",
       "    }\n",
       "\n",
       "    .dataframe thead th {\n",
       "        text-align: right;\n",
       "    }\n",
       "</style>\n",
       "<table border=\"1\" class=\"dataframe\">\n",
       "  <thead>\n",
       "    <tr style=\"text-align: right;\">\n",
       "      <th></th>\n",
       "      <th>ID</th>\n",
       "      <th>Cell line primary name</th>\n",
       "      <th>Gender</th>\n",
       "      <th>Batch</th>\n",
       "      <th>Site Primary</th>\n",
       "      <th>Histology</th>\n",
       "      <th>Hist Subtype1</th>\n",
       "    </tr>\n",
       "    <tr>\n",
       "      <th>CCLE name</th>\n",
       "      <th></th>\n",
       "      <th></th>\n",
       "      <th></th>\n",
       "      <th></th>\n",
       "      <th></th>\n",
       "      <th></th>\n",
       "      <th></th>\n",
       "    </tr>\n",
       "  </thead>\n",
       "  <tbody>\n",
       "    <tr>\n",
       "      <th>LN18_CENTRAL_NERVOUS_SYSTEM</th>\n",
       "      <td>METIS_p_NCLE_RNA1_Human_U133_Plus_2.0_A02_240852</td>\n",
       "      <td>LN-18</td>\n",
       "      <td>M</td>\n",
       "      <td>1</td>\n",
       "      <td>central_nervous_system</td>\n",
       "      <td>glioma</td>\n",
       "      <td>astrocytoma_Grade_IV</td>\n",
       "    </tr>\n",
       "    <tr>\n",
       "      <th>769P_KIDNEY</th>\n",
       "      <td>METIS_p_NCLE_RNA1_Human_U133_Plus_2.0_A05_240858</td>\n",
       "      <td>769-P</td>\n",
       "      <td>F</td>\n",
       "      <td>1</td>\n",
       "      <td>kidney</td>\n",
       "      <td>carcinoma</td>\n",
       "      <td>clear_cell_renal_cell_carcinoma</td>\n",
       "    </tr>\n",
       "    <tr>\n",
       "      <th>786O_KIDNEY</th>\n",
       "      <td>METIS_p_NCLE_RNA1_Human_U133_Plus_2.0_A07_240862</td>\n",
       "      <td>786-O</td>\n",
       "      <td>M</td>\n",
       "      <td>1</td>\n",
       "      <td>kidney</td>\n",
       "      <td>carcinoma</td>\n",
       "      <td>clear_cell_renal_cell_carcinoma</td>\n",
       "    </tr>\n",
       "    <tr>\n",
       "      <th>CAOV3_OVARY</th>\n",
       "      <td>METIS_p_NCLE_RNA1_Human_U133_Plus_2.0_A08_240864</td>\n",
       "      <td>Caov-3</td>\n",
       "      <td>F</td>\n",
       "      <td>1</td>\n",
       "      <td>ovary</td>\n",
       "      <td>carcinoma</td>\n",
       "      <td>adenocarcinoma</td>\n",
       "    </tr>\n",
       "    <tr>\n",
       "      <th>HEPG2_LIVER</th>\n",
       "      <td>METIS_p_NCLE_RNA1_Human_U133_Plus_2.0_A09_240866</td>\n",
       "      <td>Hep G2</td>\n",
       "      <td>M</td>\n",
       "      <td>1</td>\n",
       "      <td>liver</td>\n",
       "      <td>carcinoma</td>\n",
       "      <td>hepatocellular_carcinoma</td>\n",
       "    </tr>\n",
       "  </tbody>\n",
       "</table>\n",
       "</div>"
      ],
      "text/plain": [
       "                                                                           ID  \\\n",
       "CCLE name                                                                       \n",
       "LN18_CENTRAL_NERVOUS_SYSTEM  METIS_p_NCLE_RNA1_Human_U133_Plus_2.0_A02_240852   \n",
       "769P_KIDNEY                  METIS_p_NCLE_RNA1_Human_U133_Plus_2.0_A05_240858   \n",
       "786O_KIDNEY                  METIS_p_NCLE_RNA1_Human_U133_Plus_2.0_A07_240862   \n",
       "CAOV3_OVARY                  METIS_p_NCLE_RNA1_Human_U133_Plus_2.0_A08_240864   \n",
       "HEPG2_LIVER                  METIS_p_NCLE_RNA1_Human_U133_Plus_2.0_A09_240866   \n",
       "\n",
       "                            Cell line primary name Gender  Batch  \\\n",
       "CCLE name                                                          \n",
       "LN18_CENTRAL_NERVOUS_SYSTEM                  LN-18      M      1   \n",
       "769P_KIDNEY                                  769-P      F      1   \n",
       "786O_KIDNEY                                  786-O      M      1   \n",
       "CAOV3_OVARY                                 Caov-3      F      1   \n",
       "HEPG2_LIVER                                 Hep G2      M      1   \n",
       "\n",
       "                                       Site Primary  Histology  \\\n",
       "CCLE name                                                        \n",
       "LN18_CENTRAL_NERVOUS_SYSTEM  central_nervous_system     glioma   \n",
       "769P_KIDNEY                                  kidney  carcinoma   \n",
       "786O_KIDNEY                                  kidney  carcinoma   \n",
       "CAOV3_OVARY                                   ovary  carcinoma   \n",
       "HEPG2_LIVER                                   liver  carcinoma   \n",
       "\n",
       "                                               Hist Subtype1  \n",
       "CCLE name                                                     \n",
       "LN18_CENTRAL_NERVOUS_SYSTEM             astrocytoma_Grade_IV  \n",
       "769P_KIDNEY                  clear_cell_renal_cell_carcinoma  \n",
       "786O_KIDNEY                  clear_cell_renal_cell_carcinoma  \n",
       "CAOV3_OVARY                                   adenocarcinoma  \n",
       "HEPG2_LIVER                         hepatocellular_carcinoma  "
      ]
     },
     "execution_count": 6,
     "metadata": {},
     "output_type": "execute_result"
    }
   ],
   "source": [
    "sample_meta.head()"
   ]
  },
  {
   "cell_type": "markdown",
   "metadata": {},
   "source": [
    "## Load Data"
   ]
  },
  {
   "cell_type": "code",
   "execution_count": 7,
   "metadata": {},
   "outputs": [
    {
     "name": "stderr",
     "output_type": "stream",
     "text": [
      "/Users/moshesilverstein/anaconda/lib/python3.5/site-packages/IPython/core/interactiveshell.py:2717: DtypeWarning: Columns (1) have mixed types. Specify dtype option on import or set low_memory=False.\n",
      "  interactivity=interactivity, compiler=compiler, result=result)\n"
     ]
    }
   ],
   "source": [
    "matrix = pd.read_csv('Input/CCLE_Expression_Entrez_2012-09-29.gct', sep='\\t', skiprows=2)"
   ]
  },
  {
   "cell_type": "code",
   "execution_count": 8,
   "metadata": {},
   "outputs": [
    {
     "data": {
      "text/html": [
       "<div>\n",
       "<style scoped>\n",
       "    .dataframe tbody tr th:only-of-type {\n",
       "        vertical-align: middle;\n",
       "    }\n",
       "\n",
       "    .dataframe tbody tr th {\n",
       "        vertical-align: top;\n",
       "    }\n",
       "\n",
       "    .dataframe thead th {\n",
       "        text-align: right;\n",
       "    }\n",
       "</style>\n",
       "<table border=\"1\" class=\"dataframe\">\n",
       "  <thead>\n",
       "    <tr style=\"text-align: right;\">\n",
       "      <th></th>\n",
       "      <th>Name</th>\n",
       "      <th>Description</th>\n",
       "      <th>LN18_CENTRAL_NERVOUS_SYSTEM</th>\n",
       "      <th>769P_KIDNEY</th>\n",
       "      <th>786O_KIDNEY</th>\n",
       "      <th>CAOV3_OVARY</th>\n",
       "      <th>HEPG2_LIVER</th>\n",
       "      <th>MOLT4_HAEMATOPOIETIC_AND_LYMPHOID_TISSUE</th>\n",
       "      <th>NCIH524_LUNG</th>\n",
       "      <th>NCIH209_LUNG</th>\n",
       "      <th>...</th>\n",
       "      <th>SLR21_KIDNEY</th>\n",
       "      <th>LNZ308_CENTRAL_NERVOUS_SYSTEM</th>\n",
       "      <th>LN340_CENTRAL_NERVOUS_SYSTEM</th>\n",
       "      <th>HCC827GR5_LUNG</th>\n",
       "      <th>SLR20_KIDNEY</th>\n",
       "      <th>HK2_KIDNEY</th>\n",
       "      <th>EW8_BONE</th>\n",
       "      <th>UOK101_KIDNEY</th>\n",
       "      <th>JHESOAD1_OESOPHAGUS</th>\n",
       "      <th>CH157MN_CENTRAL_NERVOUS_SYSTEM</th>\n",
       "    </tr>\n",
       "  </thead>\n",
       "  <tbody>\n",
       "    <tr>\n",
       "      <th>0</th>\n",
       "      <td>100009676_at</td>\n",
       "      <td>LOC100009676</td>\n",
       "      <td>5.987545</td>\n",
       "      <td>5.444892</td>\n",
       "      <td>5.838828</td>\n",
       "      <td>6.074743</td>\n",
       "      <td>5.788600</td>\n",
       "      <td>5.459675</td>\n",
       "      <td>5.755560</td>\n",
       "      <td>7.190493</td>\n",
       "      <td>...</td>\n",
       "      <td>5.473156</td>\n",
       "      <td>5.517208</td>\n",
       "      <td>5.858379</td>\n",
       "      <td>5.196033</td>\n",
       "      <td>5.831437</td>\n",
       "      <td>5.362021</td>\n",
       "      <td>5.799747</td>\n",
       "      <td>5.865606</td>\n",
       "      <td>5.463812</td>\n",
       "      <td>5.720593</td>\n",
       "    </tr>\n",
       "    <tr>\n",
       "      <th>1</th>\n",
       "      <td>10000_at</td>\n",
       "      <td>AKT3</td>\n",
       "      <td>6.230233</td>\n",
       "      <td>7.544216</td>\n",
       "      <td>7.328450</td>\n",
       "      <td>4.270720</td>\n",
       "      <td>4.478293</td>\n",
       "      <td>6.212102</td>\n",
       "      <td>7.562398</td>\n",
       "      <td>8.642669</td>\n",
       "      <td>...</td>\n",
       "      <td>6.375324</td>\n",
       "      <td>6.119814</td>\n",
       "      <td>6.561409</td>\n",
       "      <td>4.521773</td>\n",
       "      <td>6.830904</td>\n",
       "      <td>7.031690</td>\n",
       "      <td>4.881235</td>\n",
       "      <td>6.914640</td>\n",
       "      <td>5.313795</td>\n",
       "      <td>5.757825</td>\n",
       "    </tr>\n",
       "    <tr>\n",
       "      <th>2</th>\n",
       "      <td>10001_at</td>\n",
       "      <td>MED6</td>\n",
       "      <td>9.363550</td>\n",
       "      <td>8.715909</td>\n",
       "      <td>8.410834</td>\n",
       "      <td>9.845271</td>\n",
       "      <td>9.761157</td>\n",
       "      <td>10.532820</td>\n",
       "      <td>10.393960</td>\n",
       "      <td>9.478429</td>\n",
       "      <td>...</td>\n",
       "      <td>8.849773</td>\n",
       "      <td>8.767192</td>\n",
       "      <td>8.521635</td>\n",
       "      <td>8.224544</td>\n",
       "      <td>9.325785</td>\n",
       "      <td>8.362727</td>\n",
       "      <td>8.990524</td>\n",
       "      <td>8.958629</td>\n",
       "      <td>9.748100</td>\n",
       "      <td>9.758431</td>\n",
       "    </tr>\n",
       "    <tr>\n",
       "      <th>3</th>\n",
       "      <td>10002_at</td>\n",
       "      <td>NR2E3</td>\n",
       "      <td>3.803069</td>\n",
       "      <td>4.173643</td>\n",
       "      <td>3.776557</td>\n",
       "      <td>3.934091</td>\n",
       "      <td>3.822202</td>\n",
       "      <td>3.949198</td>\n",
       "      <td>3.807546</td>\n",
       "      <td>3.930186</td>\n",
       "      <td>...</td>\n",
       "      <td>3.717506</td>\n",
       "      <td>3.977377</td>\n",
       "      <td>3.659459</td>\n",
       "      <td>3.933996</td>\n",
       "      <td>4.515748</td>\n",
       "      <td>4.434658</td>\n",
       "      <td>4.127832</td>\n",
       "      <td>3.942736</td>\n",
       "      <td>4.062648</td>\n",
       "      <td>4.074257</td>\n",
       "    </tr>\n",
       "    <tr>\n",
       "      <th>4</th>\n",
       "      <td>10003_at</td>\n",
       "      <td>NAALAD2</td>\n",
       "      <td>3.586430</td>\n",
       "      <td>3.663081</td>\n",
       "      <td>4.047007</td>\n",
       "      <td>3.817250</td>\n",
       "      <td>6.444302</td>\n",
       "      <td>4.081071</td>\n",
       "      <td>5.462774</td>\n",
       "      <td>4.252446</td>\n",
       "      <td>...</td>\n",
       "      <td>3.520843</td>\n",
       "      <td>4.036661</td>\n",
       "      <td>4.168351</td>\n",
       "      <td>3.535915</td>\n",
       "      <td>4.445632</td>\n",
       "      <td>3.622032</td>\n",
       "      <td>5.436580</td>\n",
       "      <td>3.666404</td>\n",
       "      <td>3.556565</td>\n",
       "      <td>3.728828</td>\n",
       "    </tr>\n",
       "  </tbody>\n",
       "</table>\n",
       "<p>5 rows × 1039 columns</p>\n",
       "</div>"
      ],
      "text/plain": [
       "           Name   Description  LN18_CENTRAL_NERVOUS_SYSTEM  769P_KIDNEY  \\\n",
       "0  100009676_at  LOC100009676                     5.987545     5.444892   \n",
       "1      10000_at          AKT3                     6.230233     7.544216   \n",
       "2      10001_at          MED6                     9.363550     8.715909   \n",
       "3      10002_at         NR2E3                     3.803069     4.173643   \n",
       "4      10003_at       NAALAD2                     3.586430     3.663081   \n",
       "\n",
       "   786O_KIDNEY  CAOV3_OVARY  HEPG2_LIVER  \\\n",
       "0     5.838828     6.074743     5.788600   \n",
       "1     7.328450     4.270720     4.478293   \n",
       "2     8.410834     9.845271     9.761157   \n",
       "3     3.776557     3.934091     3.822202   \n",
       "4     4.047007     3.817250     6.444302   \n",
       "\n",
       "   MOLT4_HAEMATOPOIETIC_AND_LYMPHOID_TISSUE  NCIH524_LUNG  NCIH209_LUNG  \\\n",
       "0                                  5.459675      5.755560      7.190493   \n",
       "1                                  6.212102      7.562398      8.642669   \n",
       "2                                 10.532820     10.393960      9.478429   \n",
       "3                                  3.949198      3.807546      3.930186   \n",
       "4                                  4.081071      5.462774      4.252446   \n",
       "\n",
       "                ...                SLR21_KIDNEY  \\\n",
       "0               ...                    5.473156   \n",
       "1               ...                    6.375324   \n",
       "2               ...                    8.849773   \n",
       "3               ...                    3.717506   \n",
       "4               ...                    3.520843   \n",
       "\n",
       "   LNZ308_CENTRAL_NERVOUS_SYSTEM  LN340_CENTRAL_NERVOUS_SYSTEM  \\\n",
       "0                       5.517208                      5.858379   \n",
       "1                       6.119814                      6.561409   \n",
       "2                       8.767192                      8.521635   \n",
       "3                       3.977377                      3.659459   \n",
       "4                       4.036661                      4.168351   \n",
       "\n",
       "   HCC827GR5_LUNG  SLR20_KIDNEY  HK2_KIDNEY  EW8_BONE  UOK101_KIDNEY  \\\n",
       "0        5.196033      5.831437    5.362021  5.799747       5.865606   \n",
       "1        4.521773      6.830904    7.031690  4.881235       6.914640   \n",
       "2        8.224544      9.325785    8.362727  8.990524       8.958629   \n",
       "3        3.933996      4.515748    4.434658  4.127832       3.942736   \n",
       "4        3.535915      4.445632    3.622032  5.436580       3.666404   \n",
       "\n",
       "   JHESOAD1_OESOPHAGUS  CH157MN_CENTRAL_NERVOUS_SYSTEM  \n",
       "0             5.463812                        5.720593  \n",
       "1             5.313795                        5.757825  \n",
       "2             9.748100                        9.758431  \n",
       "3             4.062648                        4.074257  \n",
       "4             3.556565                        3.728828  \n",
       "\n",
       "[5 rows x 1039 columns]"
      ]
     },
     "execution_count": 8,
     "metadata": {},
     "output_type": "execute_result"
    }
   ],
   "source": [
    "matrix.head()"
   ]
  },
  {
   "cell_type": "markdown",
   "metadata": {},
   "source": [
    "## Set Matrix to Show Gene Symbols"
   ]
  },
  {
   "cell_type": "code",
   "execution_count": 9,
   "metadata": {
    "collapsed": true
   },
   "outputs": [],
   "source": [
    "matrix.rename(columns={'Description':'Gene Symbol'}, inplace=True)"
   ]
  },
  {
   "cell_type": "code",
   "execution_count": 10,
   "metadata": {
    "collapsed": true
   },
   "outputs": [],
   "source": [
    "matrix.set_index('Gene Symbol', inplace=True)"
   ]
  },
  {
   "cell_type": "code",
   "execution_count": 11,
   "metadata": {
    "collapsed": true
   },
   "outputs": [],
   "source": [
    "matrix.drop('Name', axis=1, inplace=True)"
   ]
  },
  {
   "cell_type": "code",
   "execution_count": 12,
   "metadata": {},
   "outputs": [
    {
     "data": {
      "text/html": [
       "<div>\n",
       "<style scoped>\n",
       "    .dataframe tbody tr th:only-of-type {\n",
       "        vertical-align: middle;\n",
       "    }\n",
       "\n",
       "    .dataframe tbody tr th {\n",
       "        vertical-align: top;\n",
       "    }\n",
       "\n",
       "    .dataframe thead th {\n",
       "        text-align: right;\n",
       "    }\n",
       "</style>\n",
       "<table border=\"1\" class=\"dataframe\">\n",
       "  <thead>\n",
       "    <tr style=\"text-align: right;\">\n",
       "      <th></th>\n",
       "      <th>LN18_CENTRAL_NERVOUS_SYSTEM</th>\n",
       "      <th>769P_KIDNEY</th>\n",
       "      <th>786O_KIDNEY</th>\n",
       "      <th>CAOV3_OVARY</th>\n",
       "      <th>HEPG2_LIVER</th>\n",
       "      <th>MOLT4_HAEMATOPOIETIC_AND_LYMPHOID_TISSUE</th>\n",
       "      <th>NCIH524_LUNG</th>\n",
       "      <th>NCIH209_LUNG</th>\n",
       "      <th>MIAPACA2_PANCREAS</th>\n",
       "      <th>MCAS_OVARY</th>\n",
       "      <th>...</th>\n",
       "      <th>SLR21_KIDNEY</th>\n",
       "      <th>LNZ308_CENTRAL_NERVOUS_SYSTEM</th>\n",
       "      <th>LN340_CENTRAL_NERVOUS_SYSTEM</th>\n",
       "      <th>HCC827GR5_LUNG</th>\n",
       "      <th>SLR20_KIDNEY</th>\n",
       "      <th>HK2_KIDNEY</th>\n",
       "      <th>EW8_BONE</th>\n",
       "      <th>UOK101_KIDNEY</th>\n",
       "      <th>JHESOAD1_OESOPHAGUS</th>\n",
       "      <th>CH157MN_CENTRAL_NERVOUS_SYSTEM</th>\n",
       "    </tr>\n",
       "    <tr>\n",
       "      <th>Gene Symbol</th>\n",
       "      <th></th>\n",
       "      <th></th>\n",
       "      <th></th>\n",
       "      <th></th>\n",
       "      <th></th>\n",
       "      <th></th>\n",
       "      <th></th>\n",
       "      <th></th>\n",
       "      <th></th>\n",
       "      <th></th>\n",
       "      <th></th>\n",
       "      <th></th>\n",
       "      <th></th>\n",
       "      <th></th>\n",
       "      <th></th>\n",
       "      <th></th>\n",
       "      <th></th>\n",
       "      <th></th>\n",
       "      <th></th>\n",
       "      <th></th>\n",
       "      <th></th>\n",
       "    </tr>\n",
       "  </thead>\n",
       "  <tbody>\n",
       "    <tr>\n",
       "      <th>LOC100009676</th>\n",
       "      <td>5.987545</td>\n",
       "      <td>5.444892</td>\n",
       "      <td>5.838828</td>\n",
       "      <td>6.074743</td>\n",
       "      <td>5.788600</td>\n",
       "      <td>5.459675</td>\n",
       "      <td>5.755560</td>\n",
       "      <td>7.190493</td>\n",
       "      <td>5.449818</td>\n",
       "      <td>5.801820</td>\n",
       "      <td>...</td>\n",
       "      <td>5.473156</td>\n",
       "      <td>5.517208</td>\n",
       "      <td>5.858379</td>\n",
       "      <td>5.196033</td>\n",
       "      <td>5.831437</td>\n",
       "      <td>5.362021</td>\n",
       "      <td>5.799747</td>\n",
       "      <td>5.865606</td>\n",
       "      <td>5.463812</td>\n",
       "      <td>5.720593</td>\n",
       "    </tr>\n",
       "    <tr>\n",
       "      <th>AKT3</th>\n",
       "      <td>6.230233</td>\n",
       "      <td>7.544216</td>\n",
       "      <td>7.328450</td>\n",
       "      <td>4.270720</td>\n",
       "      <td>4.478293</td>\n",
       "      <td>6.212102</td>\n",
       "      <td>7.562398</td>\n",
       "      <td>8.642669</td>\n",
       "      <td>5.556191</td>\n",
       "      <td>6.808673</td>\n",
       "      <td>...</td>\n",
       "      <td>6.375324</td>\n",
       "      <td>6.119814</td>\n",
       "      <td>6.561409</td>\n",
       "      <td>4.521773</td>\n",
       "      <td>6.830904</td>\n",
       "      <td>7.031690</td>\n",
       "      <td>4.881235</td>\n",
       "      <td>6.914640</td>\n",
       "      <td>5.313795</td>\n",
       "      <td>5.757825</td>\n",
       "    </tr>\n",
       "    <tr>\n",
       "      <th>MED6</th>\n",
       "      <td>9.363550</td>\n",
       "      <td>8.715909</td>\n",
       "      <td>8.410834</td>\n",
       "      <td>9.845271</td>\n",
       "      <td>9.761157</td>\n",
       "      <td>10.532820</td>\n",
       "      <td>10.393960</td>\n",
       "      <td>9.478429</td>\n",
       "      <td>9.112954</td>\n",
       "      <td>9.815614</td>\n",
       "      <td>...</td>\n",
       "      <td>8.849773</td>\n",
       "      <td>8.767192</td>\n",
       "      <td>8.521635</td>\n",
       "      <td>8.224544</td>\n",
       "      <td>9.325785</td>\n",
       "      <td>8.362727</td>\n",
       "      <td>8.990524</td>\n",
       "      <td>8.958629</td>\n",
       "      <td>9.748100</td>\n",
       "      <td>9.758431</td>\n",
       "    </tr>\n",
       "    <tr>\n",
       "      <th>NR2E3</th>\n",
       "      <td>3.803069</td>\n",
       "      <td>4.173643</td>\n",
       "      <td>3.776557</td>\n",
       "      <td>3.934091</td>\n",
       "      <td>3.822202</td>\n",
       "      <td>3.949198</td>\n",
       "      <td>3.807546</td>\n",
       "      <td>3.930186</td>\n",
       "      <td>4.161937</td>\n",
       "      <td>4.028581</td>\n",
       "      <td>...</td>\n",
       "      <td>3.717506</td>\n",
       "      <td>3.977377</td>\n",
       "      <td>3.659459</td>\n",
       "      <td>3.933996</td>\n",
       "      <td>4.515748</td>\n",
       "      <td>4.434658</td>\n",
       "      <td>4.127832</td>\n",
       "      <td>3.942736</td>\n",
       "      <td>4.062648</td>\n",
       "      <td>4.074257</td>\n",
       "    </tr>\n",
       "    <tr>\n",
       "      <th>NAALAD2</th>\n",
       "      <td>3.586430</td>\n",
       "      <td>3.663081</td>\n",
       "      <td>4.047007</td>\n",
       "      <td>3.817250</td>\n",
       "      <td>6.444302</td>\n",
       "      <td>4.081071</td>\n",
       "      <td>5.462774</td>\n",
       "      <td>4.252446</td>\n",
       "      <td>3.932451</td>\n",
       "      <td>3.835827</td>\n",
       "      <td>...</td>\n",
       "      <td>3.520843</td>\n",
       "      <td>4.036661</td>\n",
       "      <td>4.168351</td>\n",
       "      <td>3.535915</td>\n",
       "      <td>4.445632</td>\n",
       "      <td>3.622032</td>\n",
       "      <td>5.436580</td>\n",
       "      <td>3.666404</td>\n",
       "      <td>3.556565</td>\n",
       "      <td>3.728828</td>\n",
       "    </tr>\n",
       "  </tbody>\n",
       "</table>\n",
       "<p>5 rows × 1037 columns</p>\n",
       "</div>"
      ],
      "text/plain": [
       "              LN18_CENTRAL_NERVOUS_SYSTEM  769P_KIDNEY  786O_KIDNEY  \\\n",
       "Gene Symbol                                                           \n",
       "LOC100009676                     5.987545     5.444892     5.838828   \n",
       "AKT3                             6.230233     7.544216     7.328450   \n",
       "MED6                             9.363550     8.715909     8.410834   \n",
       "NR2E3                            3.803069     4.173643     3.776557   \n",
       "NAALAD2                          3.586430     3.663081     4.047007   \n",
       "\n",
       "              CAOV3_OVARY  HEPG2_LIVER  \\\n",
       "Gene Symbol                              \n",
       "LOC100009676     6.074743     5.788600   \n",
       "AKT3             4.270720     4.478293   \n",
       "MED6             9.845271     9.761157   \n",
       "NR2E3            3.934091     3.822202   \n",
       "NAALAD2          3.817250     6.444302   \n",
       "\n",
       "              MOLT4_HAEMATOPOIETIC_AND_LYMPHOID_TISSUE  NCIH524_LUNG  \\\n",
       "Gene Symbol                                                            \n",
       "LOC100009676                                  5.459675      5.755560   \n",
       "AKT3                                          6.212102      7.562398   \n",
       "MED6                                         10.532820     10.393960   \n",
       "NR2E3                                         3.949198      3.807546   \n",
       "NAALAD2                                       4.081071      5.462774   \n",
       "\n",
       "              NCIH209_LUNG  MIAPACA2_PANCREAS  MCAS_OVARY  \\\n",
       "Gene Symbol                                                 \n",
       "LOC100009676      7.190493           5.449818    5.801820   \n",
       "AKT3              8.642669           5.556191    6.808673   \n",
       "MED6              9.478429           9.112954    9.815614   \n",
       "NR2E3             3.930186           4.161937    4.028581   \n",
       "NAALAD2           4.252446           3.932451    3.835827   \n",
       "\n",
       "                           ...                SLR21_KIDNEY  \\\n",
       "Gene Symbol                ...                               \n",
       "LOC100009676               ...                    5.473156   \n",
       "AKT3                       ...                    6.375324   \n",
       "MED6                       ...                    8.849773   \n",
       "NR2E3                      ...                    3.717506   \n",
       "NAALAD2                    ...                    3.520843   \n",
       "\n",
       "              LNZ308_CENTRAL_NERVOUS_SYSTEM  LN340_CENTRAL_NERVOUS_SYSTEM  \\\n",
       "Gene Symbol                                                                 \n",
       "LOC100009676                       5.517208                      5.858379   \n",
       "AKT3                               6.119814                      6.561409   \n",
       "MED6                               8.767192                      8.521635   \n",
       "NR2E3                              3.977377                      3.659459   \n",
       "NAALAD2                            4.036661                      4.168351   \n",
       "\n",
       "              HCC827GR5_LUNG  SLR20_KIDNEY  HK2_KIDNEY  EW8_BONE  \\\n",
       "Gene Symbol                                                        \n",
       "LOC100009676        5.196033      5.831437    5.362021  5.799747   \n",
       "AKT3                4.521773      6.830904    7.031690  4.881235   \n",
       "MED6                8.224544      9.325785    8.362727  8.990524   \n",
       "NR2E3               3.933996      4.515748    4.434658  4.127832   \n",
       "NAALAD2             3.535915      4.445632    3.622032  5.436580   \n",
       "\n",
       "              UOK101_KIDNEY  JHESOAD1_OESOPHAGUS  \\\n",
       "Gene Symbol                                        \n",
       "LOC100009676       5.865606             5.463812   \n",
       "AKT3               6.914640             5.313795   \n",
       "MED6               8.958629             9.748100   \n",
       "NR2E3              3.942736             4.062648   \n",
       "NAALAD2            3.666404             3.556565   \n",
       "\n",
       "              CH157MN_CENTRAL_NERVOUS_SYSTEM  \n",
       "Gene Symbol                                   \n",
       "LOC100009676                        5.720593  \n",
       "AKT3                                5.757825  \n",
       "MED6                                9.758431  \n",
       "NR2E3                               4.074257  \n",
       "NAALAD2                             3.728828  \n",
       "\n",
       "[5 rows x 1037 columns]"
      ]
     },
     "execution_count": 12,
     "metadata": {},
     "output_type": "execute_result"
    }
   ],
   "source": [
    "matrix.head()"
   ]
  },
  {
   "cell_type": "markdown",
   "metadata": {},
   "source": [
    "# Histogram of First Sample"
   ]
  },
  {
   "cell_type": "code",
   "execution_count": 13,
   "metadata": {},
   "outputs": [
    {
     "data": {
      "image/png": "[encoded data removed]",
      "text/plain": [
       "<matplotlib.figure.Figure at 0x11c087f60>"
      ]
     },
     "metadata": {},
     "output_type": "display_data"
    }
   ],
   "source": [
    "matrix.iloc[:, 0].hist();"
   ]
  },
  {
   "cell_type": "markdown",
   "metadata": {},
   "source": [
    "# Histogram of First Gene"
   ]
  },
  {
   "cell_type": "code",
   "execution_count": 14,
   "metadata": {},
   "outputs": [
    {
     "data": {
      "image/png": "[encoded data removed]",
      "text/plain": [
       "<matplotlib.figure.Figure at 0x11af9cc88>"
      ]
     },
     "metadata": {},
     "output_type": "display_data"
    }
   ],
   "source": [
    "matrix.iloc[0, :].hist();"
   ]
  },
  {
   "cell_type": "markdown",
   "metadata": {},
   "source": [
    "# Save Unfiltered Sample Matrix To File"
   ]
  },
  {
   "cell_type": "code",
   "execution_count": 15,
   "metadata": {
    "collapsed": true
   },
   "outputs": [],
   "source": [
    "filename = '~/./Documents/Harmonizome/CCLE/Output/ccle_matrix_unfilltered_%s.tsv.zip'% str(datetime.date.today())[0:7].replace('-', '_')\n",
    "matrix.to_csv(filename, sep='\\t', compression='gzip')"
   ]
  },
  {
   "cell_type": "markdown",
   "metadata": {},
   "source": [
    "# Log2 Transform"
   ]
  },
  {
   "cell_type": "code",
   "execution_count": 16,
   "metadata": {
    "collapsed": true
   },
   "outputs": [],
   "source": [
    "normalized_matrix = mf.log2(matrix)"
   ]
  },
  {
   "cell_type": "markdown",
   "metadata": {},
   "source": [
    "# Normalize Matrix (Quantile Normalize the matrix for the columns)"
   ]
  },
  {
   "cell_type": "code",
   "execution_count": 17,
   "metadata": {},
   "outputs": [
    {
     "name": "stdout",
     "output_type": "stream",
     "text": [
      "Step 2/2 progress: 100%  1037 Out of 1037   \r"
     ]
    }
   ],
   "source": [
    "normalized_matrix = mf.quantileNormalize(normalized_matrix)"
   ]
  },
  {
   "cell_type": "code",
   "execution_count": 18,
   "metadata": {},
   "outputs": [
    {
     "data": {
      "text/html": [
       "<div>\n",
       "<style scoped>\n",
       "    .dataframe tbody tr th:only-of-type {\n",
       "        vertical-align: middle;\n",
       "    }\n",
       "\n",
       "    .dataframe tbody tr th {\n",
       "        vertical-align: top;\n",
       "    }\n",
       "\n",
       "    .dataframe thead th {\n",
       "        text-align: right;\n",
       "    }\n",
       "</style>\n",
       "<table border=\"1\" class=\"dataframe\">\n",
       "  <thead>\n",
       "    <tr style=\"text-align: right;\">\n",
       "      <th></th>\n",
       "      <th>LN18_CENTRAL_NERVOUS_SYSTEM</th>\n",
       "      <th>769P_KIDNEY</th>\n",
       "      <th>786O_KIDNEY</th>\n",
       "      <th>CAOV3_OVARY</th>\n",
       "      <th>HEPG2_LIVER</th>\n",
       "      <th>MOLT4_HAEMATOPOIETIC_AND_LYMPHOID_TISSUE</th>\n",
       "      <th>NCIH524_LUNG</th>\n",
       "      <th>NCIH209_LUNG</th>\n",
       "      <th>MIAPACA2_PANCREAS</th>\n",
       "      <th>MCAS_OVARY</th>\n",
       "      <th>...</th>\n",
       "      <th>SLR21_KIDNEY</th>\n",
       "      <th>LNZ308_CENTRAL_NERVOUS_SYSTEM</th>\n",
       "      <th>LN340_CENTRAL_NERVOUS_SYSTEM</th>\n",
       "      <th>HCC827GR5_LUNG</th>\n",
       "      <th>SLR20_KIDNEY</th>\n",
       "      <th>HK2_KIDNEY</th>\n",
       "      <th>EW8_BONE</th>\n",
       "      <th>UOK101_KIDNEY</th>\n",
       "      <th>JHESOAD1_OESOPHAGUS</th>\n",
       "      <th>CH157MN_CENTRAL_NERVOUS_SYSTEM</th>\n",
       "    </tr>\n",
       "    <tr>\n",
       "      <th>Gene Symbol</th>\n",
       "      <th></th>\n",
       "      <th></th>\n",
       "      <th></th>\n",
       "      <th></th>\n",
       "      <th></th>\n",
       "      <th></th>\n",
       "      <th></th>\n",
       "      <th></th>\n",
       "      <th></th>\n",
       "      <th></th>\n",
       "      <th></th>\n",
       "      <th></th>\n",
       "      <th></th>\n",
       "      <th></th>\n",
       "      <th></th>\n",
       "      <th></th>\n",
       "      <th></th>\n",
       "      <th></th>\n",
       "      <th></th>\n",
       "      <th></th>\n",
       "      <th></th>\n",
       "    </tr>\n",
       "  </thead>\n",
       "  <tbody>\n",
       "    <tr>\n",
       "      <th>LOC100009676</th>\n",
       "      <td>2.792691</td>\n",
       "      <td>2.717358</td>\n",
       "      <td>2.792019</td>\n",
       "      <td>2.794189</td>\n",
       "      <td>2.757648</td>\n",
       "      <td>2.732784</td>\n",
       "      <td>2.741136</td>\n",
       "      <td>3.016166</td>\n",
       "      <td>2.712445</td>\n",
       "      <td>2.780647</td>\n",
       "      <td>...</td>\n",
       "      <td>2.664627</td>\n",
       "      <td>2.703281</td>\n",
       "      <td>2.763699</td>\n",
       "      <td>2.587849</td>\n",
       "      <td>2.753469</td>\n",
       "      <td>2.628623</td>\n",
       "      <td>2.750337</td>\n",
       "      <td>2.771534</td>\n",
       "      <td>2.665826</td>\n",
       "      <td>2.740670</td>\n",
       "    </tr>\n",
       "    <tr>\n",
       "      <th>AKT3</th>\n",
       "      <td>2.838888</td>\n",
       "      <td>3.099018</td>\n",
       "      <td>3.057718</td>\n",
       "      <td>2.397224</td>\n",
       "      <td>2.461344</td>\n",
       "      <td>2.874932</td>\n",
       "      <td>3.089446</td>\n",
       "      <td>3.260833</td>\n",
       "      <td>2.732901</td>\n",
       "      <td>2.976620</td>\n",
       "      <td>...</td>\n",
       "      <td>2.882207</td>\n",
       "      <td>2.837634</td>\n",
       "      <td>2.907438</td>\n",
       "      <td>2.429785</td>\n",
       "      <td>2.954894</td>\n",
       "      <td>3.008941</td>\n",
       "      <td>2.516845</td>\n",
       "      <td>2.980435</td>\n",
       "      <td>2.629029</td>\n",
       "      <td>2.750337</td>\n",
       "    </tr>\n",
       "    <tr>\n",
       "      <th>MED6</th>\n",
       "      <td>3.368981</td>\n",
       "      <td>3.279511</td>\n",
       "      <td>3.230255</td>\n",
       "      <td>3.432240</td>\n",
       "      <td>3.419995</td>\n",
       "      <td>3.509972</td>\n",
       "      <td>3.496921</td>\n",
       "      <td>3.384545</td>\n",
       "      <td>3.326996</td>\n",
       "      <td>3.430442</td>\n",
       "      <td>...</td>\n",
       "      <td>3.313016</td>\n",
       "      <td>3.287789</td>\n",
       "      <td>3.249583</td>\n",
       "      <td>3.218033</td>\n",
       "      <td>3.362708</td>\n",
       "      <td>3.244687</td>\n",
       "      <td>3.325592</td>\n",
       "      <td>3.313989</td>\n",
       "      <td>3.424978</td>\n",
       "      <td>3.420571</td>\n",
       "    </tr>\n",
       "    <tr>\n",
       "      <th>NR2E3</th>\n",
       "      <td>2.281060</td>\n",
       "      <td>2.373993</td>\n",
       "      <td>2.247252</td>\n",
       "      <td>2.310389</td>\n",
       "      <td>2.276574</td>\n",
       "      <td>2.302860</td>\n",
       "      <td>2.291889</td>\n",
       "      <td>2.328591</td>\n",
       "      <td>2.387928</td>\n",
       "      <td>2.320287</td>\n",
       "      <td>...</td>\n",
       "      <td>2.244347</td>\n",
       "      <td>2.310819</td>\n",
       "      <td>2.233569</td>\n",
       "      <td>2.290139</td>\n",
       "      <td>2.457867</td>\n",
       "      <td>2.411836</td>\n",
       "      <td>2.334216</td>\n",
       "      <td>2.304309</td>\n",
       "      <td>2.330678</td>\n",
       "      <td>2.323673</td>\n",
       "    </tr>\n",
       "    <tr>\n",
       "      <th>NAALAD2</th>\n",
       "      <td>2.210096</td>\n",
       "      <td>2.215710</td>\n",
       "      <td>2.332528</td>\n",
       "      <td>2.279505</td>\n",
       "      <td>2.881008</td>\n",
       "      <td>2.341552</td>\n",
       "      <td>2.680526</td>\n",
       "      <td>2.415018</td>\n",
       "      <td>2.317020</td>\n",
       "      <td>2.260960</td>\n",
       "      <td>...</td>\n",
       "      <td>2.190732</td>\n",
       "      <td>2.325089</td>\n",
       "      <td>2.375426</td>\n",
       "      <td>2.185617</td>\n",
       "      <td>2.439897</td>\n",
       "      <td>2.212152</td>\n",
       "      <td>2.654054</td>\n",
       "      <td>2.226434</td>\n",
       "      <td>2.197812</td>\n",
       "      <td>2.233975</td>\n",
       "    </tr>\n",
       "  </tbody>\n",
       "</table>\n",
       "<p>5 rows × 1037 columns</p>\n",
       "</div>"
      ],
      "text/plain": [
       "              LN18_CENTRAL_NERVOUS_SYSTEM  769P_KIDNEY  786O_KIDNEY  \\\n",
       "Gene Symbol                                                           \n",
       "LOC100009676                     2.792691     2.717358     2.792019   \n",
       "AKT3                             2.838888     3.099018     3.057718   \n",
       "MED6                             3.368981     3.279511     3.230255   \n",
       "NR2E3                            2.281060     2.373993     2.247252   \n",
       "NAALAD2                          2.210096     2.215710     2.332528   \n",
       "\n",
       "              CAOV3_OVARY  HEPG2_LIVER  \\\n",
       "Gene Symbol                              \n",
       "LOC100009676     2.794189     2.757648   \n",
       "AKT3             2.397224     2.461344   \n",
       "MED6             3.432240     3.419995   \n",
       "NR2E3            2.310389     2.276574   \n",
       "NAALAD2          2.279505     2.881008   \n",
       "\n",
       "              MOLT4_HAEMATOPOIETIC_AND_LYMPHOID_TISSUE  NCIH524_LUNG  \\\n",
       "Gene Symbol                                                            \n",
       "LOC100009676                                  2.732784      2.741136   \n",
       "AKT3                                          2.874932      3.089446   \n",
       "MED6                                          3.509972      3.496921   \n",
       "NR2E3                                         2.302860      2.291889   \n",
       "NAALAD2                                       2.341552      2.680526   \n",
       "\n",
       "              NCIH209_LUNG  MIAPACA2_PANCREAS  MCAS_OVARY  \\\n",
       "Gene Symbol                                                 \n",
       "LOC100009676      3.016166           2.712445    2.780647   \n",
       "AKT3              3.260833           2.732901    2.976620   \n",
       "MED6              3.384545           3.326996    3.430442   \n",
       "NR2E3             2.328591           2.387928    2.320287   \n",
       "NAALAD2           2.415018           2.317020    2.260960   \n",
       "\n",
       "                           ...                SLR21_KIDNEY  \\\n",
       "Gene Symbol                ...                               \n",
       "LOC100009676               ...                    2.664627   \n",
       "AKT3                       ...                    2.882207   \n",
       "MED6                       ...                    3.313016   \n",
       "NR2E3                      ...                    2.244347   \n",
       "NAALAD2                    ...                    2.190732   \n",
       "\n",
       "              LNZ308_CENTRAL_NERVOUS_SYSTEM  LN340_CENTRAL_NERVOUS_SYSTEM  \\\n",
       "Gene Symbol                                                                 \n",
       "LOC100009676                       2.703281                      2.763699   \n",
       "AKT3                               2.837634                      2.907438   \n",
       "MED6                               3.287789                      3.249583   \n",
       "NR2E3                              2.310819                      2.233569   \n",
       "NAALAD2                            2.325089                      2.375426   \n",
       "\n",
       "              HCC827GR5_LUNG  SLR20_KIDNEY  HK2_KIDNEY  EW8_BONE  \\\n",
       "Gene Symbol                                                        \n",
       "LOC100009676        2.587849      2.753469    2.628623  2.750337   \n",
       "AKT3                2.429785      2.954894    3.008941  2.516845   \n",
       "MED6                3.218033      3.362708    3.244687  3.325592   \n",
       "NR2E3               2.290139      2.457867    2.411836  2.334216   \n",
       "NAALAD2             2.185617      2.439897    2.212152  2.654054   \n",
       "\n",
       "              UOK101_KIDNEY  JHESOAD1_OESOPHAGUS  \\\n",
       "Gene Symbol                                        \n",
       "LOC100009676       2.771534             2.665826   \n",
       "AKT3               2.980435             2.629029   \n",
       "MED6               3.313989             3.424978   \n",
       "NR2E3              2.304309             2.330678   \n",
       "NAALAD2            2.226434             2.197812   \n",
       "\n",
       "              CH157MN_CENTRAL_NERVOUS_SYSTEM  \n",
       "Gene Symbol                                   \n",
       "LOC100009676                        2.740670  \n",
       "AKT3                                2.750337  \n",
       "MED6                                3.420571  \n",
       "NR2E3                               2.323673  \n",
       "NAALAD2                             2.233975  \n",
       "\n",
       "[5 rows x 1037 columns]"
      ]
     },
     "execution_count": 18,
     "metadata": {},
     "output_type": "execute_result"
    }
   ],
   "source": [
    "normalized_matrix.head()"
   ]
  },
  {
   "cell_type": "markdown",
   "metadata": {},
   "source": [
    "# Nomalize Matrix (z-score the rows)"
   ]
  },
  {
   "cell_type": "code",
   "execution_count": 19,
   "metadata": {
    "collapsed": true
   },
   "outputs": [],
   "source": [
    "genes = normalized_matrix.index.values.tolist()"
   ]
  },
  {
   "cell_type": "code",
   "execution_count": 20,
   "metadata": {
    "collapsed": true
   },
   "outputs": [],
   "source": [
    "normalized_matrix.reset_index(inplace=True)"
   ]
  },
  {
   "cell_type": "code",
   "execution_count": 21,
   "metadata": {
    "collapsed": true
   },
   "outputs": [],
   "source": [
    "normalized_matrix.drop('Gene Symbol', axis=1, inplace=True)"
   ]
  },
  {
   "cell_type": "code",
   "execution_count": 22,
   "metadata": {},
   "outputs": [
    {
     "name": "stdout",
     "output_type": "stream",
     "text": [
      "Progress: 100%  18988 Out of 18988   \r"
     ]
    }
   ],
   "source": [
    "mf.zscore(normalized_matrix, 'row')"
   ]
  },
  {
   "cell_type": "code",
   "execution_count": 23,
   "metadata": {
    "collapsed": true
   },
   "outputs": [],
   "source": [
    "normalized_matrix.index = genes"
   ]
  },
  {
   "cell_type": "code",
   "execution_count": 24,
   "metadata": {},
   "outputs": [
    {
     "data": {
      "text/html": [
       "<div>\n",
       "<style scoped>\n",
       "    .dataframe tbody tr th:only-of-type {\n",
       "        vertical-align: middle;\n",
       "    }\n",
       "\n",
       "    .dataframe tbody tr th {\n",
       "        vertical-align: top;\n",
       "    }\n",
       "\n",
       "    .dataframe thead th {\n",
       "        text-align: right;\n",
       "    }\n",
       "</style>\n",
       "<table border=\"1\" class=\"dataframe\">\n",
       "  <thead>\n",
       "    <tr style=\"text-align: right;\">\n",
       "      <th></th>\n",
       "      <th>LN18_CENTRAL_NERVOUS_SYSTEM</th>\n",
       "      <th>769P_KIDNEY</th>\n",
       "      <th>786O_KIDNEY</th>\n",
       "      <th>CAOV3_OVARY</th>\n",
       "      <th>HEPG2_LIVER</th>\n",
       "      <th>MOLT4_HAEMATOPOIETIC_AND_LYMPHOID_TISSUE</th>\n",
       "      <th>NCIH524_LUNG</th>\n",
       "      <th>NCIH209_LUNG</th>\n",
       "      <th>MIAPACA2_PANCREAS</th>\n",
       "      <th>MCAS_OVARY</th>\n",
       "      <th>...</th>\n",
       "      <th>SLR21_KIDNEY</th>\n",
       "      <th>LNZ308_CENTRAL_NERVOUS_SYSTEM</th>\n",
       "      <th>LN340_CENTRAL_NERVOUS_SYSTEM</th>\n",
       "      <th>HCC827GR5_LUNG</th>\n",
       "      <th>SLR20_KIDNEY</th>\n",
       "      <th>HK2_KIDNEY</th>\n",
       "      <th>EW8_BONE</th>\n",
       "      <th>UOK101_KIDNEY</th>\n",
       "      <th>JHESOAD1_OESOPHAGUS</th>\n",
       "      <th>CH157MN_CENTRAL_NERVOUS_SYSTEM</th>\n",
       "    </tr>\n",
       "  </thead>\n",
       "  <tbody>\n",
       "    <tr>\n",
       "      <th>LOC100009676</th>\n",
       "      <td>0.391998</td>\n",
       "      <td>-0.365417</td>\n",
       "      <td>0.385242</td>\n",
       "      <td>0.407053</td>\n",
       "      <td>0.039670</td>\n",
       "      <td>-0.210317</td>\n",
       "      <td>-0.126351</td>\n",
       "      <td>2.638848</td>\n",
       "      <td>-0.414810</td>\n",
       "      <td>0.270906</td>\n",
       "      <td>...</td>\n",
       "      <td>-0.895576</td>\n",
       "      <td>-0.506949</td>\n",
       "      <td>0.100510</td>\n",
       "      <td>-1.667514</td>\n",
       "      <td>-0.002346</td>\n",
       "      <td>-1.257572</td>\n",
       "      <td>-0.033839</td>\n",
       "      <td>0.179276</td>\n",
       "      <td>-0.883521</td>\n",
       "      <td>-0.131032</td>\n",
       "    </tr>\n",
       "    <tr>\n",
       "      <th>AKT3</th>\n",
       "      <td>0.117319</td>\n",
       "      <td>1.089486</td>\n",
       "      <td>0.935138</td>\n",
       "      <td>-1.533287</td>\n",
       "      <td>-1.293657</td>\n",
       "      <td>0.252023</td>\n",
       "      <td>1.053715</td>\n",
       "      <td>1.694227</td>\n",
       "      <td>-0.278782</td>\n",
       "      <td>0.632057</td>\n",
       "      <td>...</td>\n",
       "      <td>0.279210</td>\n",
       "      <td>0.112632</td>\n",
       "      <td>0.373507</td>\n",
       "      <td>-1.411598</td>\n",
       "      <td>0.550861</td>\n",
       "      <td>0.752847</td>\n",
       "      <td>-1.086235</td>\n",
       "      <td>0.646312</td>\n",
       "      <td>-0.666975</td>\n",
       "      <td>-0.213619</td>\n",
       "    </tr>\n",
       "    <tr>\n",
       "      <th>MED6</th>\n",
       "      <td>0.234318</td>\n",
       "      <td>-0.877739</td>\n",
       "      <td>-1.489964</td>\n",
       "      <td>1.020577</td>\n",
       "      <td>0.868388</td>\n",
       "      <td>1.986733</td>\n",
       "      <td>1.824520</td>\n",
       "      <td>0.427758</td>\n",
       "      <td>-0.287535</td>\n",
       "      <td>0.998238</td>\n",
       "      <td>...</td>\n",
       "      <td>-0.461291</td>\n",
       "      <td>-0.774846</td>\n",
       "      <td>-1.249728</td>\n",
       "      <td>-1.641870</td>\n",
       "      <td>0.156346</td>\n",
       "      <td>-1.310586</td>\n",
       "      <td>-0.304986</td>\n",
       "      <td>-0.449205</td>\n",
       "      <td>0.930325</td>\n",
       "      <td>0.875542</td>\n",
       "    </tr>\n",
       "    <tr>\n",
       "      <th>NR2E3</th>\n",
       "      <td>-0.252500</td>\n",
       "      <td>1.317899</td>\n",
       "      <td>-0.823796</td>\n",
       "      <td>0.243110</td>\n",
       "      <td>-0.328312</td>\n",
       "      <td>0.115875</td>\n",
       "      <td>-0.069506</td>\n",
       "      <td>0.550691</td>\n",
       "      <td>1.553368</td>\n",
       "      <td>0.410354</td>\n",
       "      <td>...</td>\n",
       "      <td>-0.872882</td>\n",
       "      <td>0.250378</td>\n",
       "      <td>-1.055006</td>\n",
       "      <td>-0.099089</td>\n",
       "      <td>2.735204</td>\n",
       "      <td>1.957367</td>\n",
       "      <td>0.645739</td>\n",
       "      <td>0.140371</td>\n",
       "      <td>0.585954</td>\n",
       "      <td>0.467580</td>\n",
       "    </tr>\n",
       "    <tr>\n",
       "      <th>NAALAD2</th>\n",
       "      <td>-0.570330</td>\n",
       "      <td>-0.540984</td>\n",
       "      <td>0.069653</td>\n",
       "      <td>-0.207510</td>\n",
       "      <td>2.936693</td>\n",
       "      <td>0.116823</td>\n",
       "      <td>1.888723</td>\n",
       "      <td>0.500850</td>\n",
       "      <td>-0.011411</td>\n",
       "      <td>-0.304452</td>\n",
       "      <td>...</td>\n",
       "      <td>-0.671550</td>\n",
       "      <td>0.030769</td>\n",
       "      <td>0.293890</td>\n",
       "      <td>-0.698291</td>\n",
       "      <td>0.630896</td>\n",
       "      <td>-0.559585</td>\n",
       "      <td>1.750351</td>\n",
       "      <td>-0.484927</td>\n",
       "      <td>-0.634543</td>\n",
       "      <td>-0.445509</td>\n",
       "    </tr>\n",
       "  </tbody>\n",
       "</table>\n",
       "<p>5 rows × 1037 columns</p>\n",
       "</div>"
      ],
      "text/plain": [
       "              LN18_CENTRAL_NERVOUS_SYSTEM  769P_KIDNEY  786O_KIDNEY  \\\n",
       "LOC100009676                     0.391998    -0.365417     0.385242   \n",
       "AKT3                             0.117319     1.089486     0.935138   \n",
       "MED6                             0.234318    -0.877739    -1.489964   \n",
       "NR2E3                           -0.252500     1.317899    -0.823796   \n",
       "NAALAD2                         -0.570330    -0.540984     0.069653   \n",
       "\n",
       "              CAOV3_OVARY  HEPG2_LIVER  \\\n",
       "LOC100009676     0.407053     0.039670   \n",
       "AKT3            -1.533287    -1.293657   \n",
       "MED6             1.020577     0.868388   \n",
       "NR2E3            0.243110    -0.328312   \n",
       "NAALAD2         -0.207510     2.936693   \n",
       "\n",
       "              MOLT4_HAEMATOPOIETIC_AND_LYMPHOID_TISSUE  NCIH524_LUNG  \\\n",
       "LOC100009676                                 -0.210317     -0.126351   \n",
       "AKT3                                          0.252023      1.053715   \n",
       "MED6                                          1.986733      1.824520   \n",
       "NR2E3                                         0.115875     -0.069506   \n",
       "NAALAD2                                       0.116823      1.888723   \n",
       "\n",
       "              NCIH209_LUNG  MIAPACA2_PANCREAS  MCAS_OVARY  \\\n",
       "LOC100009676      2.638848          -0.414810    0.270906   \n",
       "AKT3              1.694227          -0.278782    0.632057   \n",
       "MED6              0.427758          -0.287535    0.998238   \n",
       "NR2E3             0.550691           1.553368    0.410354   \n",
       "NAALAD2           0.500850          -0.011411   -0.304452   \n",
       "\n",
       "                           ...                SLR21_KIDNEY  \\\n",
       "LOC100009676               ...                   -0.895576   \n",
       "AKT3                       ...                    0.279210   \n",
       "MED6                       ...                   -0.461291   \n",
       "NR2E3                      ...                   -0.872882   \n",
       "NAALAD2                    ...                   -0.671550   \n",
       "\n",
       "              LNZ308_CENTRAL_NERVOUS_SYSTEM  LN340_CENTRAL_NERVOUS_SYSTEM  \\\n",
       "LOC100009676                      -0.506949                      0.100510   \n",
       "AKT3                               0.112632                      0.373507   \n",
       "MED6                              -0.774846                     -1.249728   \n",
       "NR2E3                              0.250378                     -1.055006   \n",
       "NAALAD2                            0.030769                      0.293890   \n",
       "\n",
       "              HCC827GR5_LUNG  SLR20_KIDNEY  HK2_KIDNEY  EW8_BONE  \\\n",
       "LOC100009676       -1.667514     -0.002346   -1.257572 -0.033839   \n",
       "AKT3               -1.411598      0.550861    0.752847 -1.086235   \n",
       "MED6               -1.641870      0.156346   -1.310586 -0.304986   \n",
       "NR2E3              -0.099089      2.735204    1.957367  0.645739   \n",
       "NAALAD2            -0.698291      0.630896   -0.559585  1.750351   \n",
       "\n",
       "              UOK101_KIDNEY  JHESOAD1_OESOPHAGUS  \\\n",
       "LOC100009676       0.179276            -0.883521   \n",
       "AKT3               0.646312            -0.666975   \n",
       "MED6              -0.449205             0.930325   \n",
       "NR2E3              0.140371             0.585954   \n",
       "NAALAD2           -0.484927            -0.634543   \n",
       "\n",
       "              CH157MN_CENTRAL_NERVOUS_SYSTEM  \n",
       "LOC100009676                       -0.131032  \n",
       "AKT3                               -0.213619  \n",
       "MED6                                0.875542  \n",
       "NR2E3                               0.467580  \n",
       "NAALAD2                            -0.445509  \n",
       "\n",
       "[5 rows x 1037 columns]"
      ]
     },
     "execution_count": 24,
     "metadata": {},
     "output_type": "execute_result"
    }
   ],
   "source": [
    "normalized_matrix.head()"
   ]
  },
  {
   "cell_type": "markdown",
   "metadata": {},
   "source": [
    "# Map Gene Symbols To Up-to-date Approved Gene Symbols"
   ]
  },
  {
   "cell_type": "code",
   "execution_count": 25,
   "metadata": {},
   "outputs": [
    {
     "name": "stdout",
     "output_type": "stream",
     "text": [
      "Progeres: 100%  18988 Out of 18988   \r"
     ]
    }
   ],
   "source": [
    "mf.mapgenesymbols(normalized_matrix)"
   ]
  },
  {
   "cell_type": "code",
   "execution_count": 26,
   "metadata": {},
   "outputs": [
    {
     "data": {
      "text/plain": [
       "(17514, 1037)"
      ]
     },
     "execution_count": 26,
     "metadata": {},
     "output_type": "execute_result"
    }
   ],
   "source": [
    "normalized_matrix.shape"
   ]
  },
  {
   "cell_type": "markdown",
   "metadata": {},
   "source": [
    "# Merge Duplicate Genes By Rows"
   ]
  },
  {
   "cell_type": "code",
   "execution_count": 27,
   "metadata": {
    "collapsed": true
   },
   "outputs": [],
   "source": [
    "normalized_matrix = mf.merge(normalized_matrix, 'row', 'mean')"
   ]
  },
  {
   "cell_type": "code",
   "execution_count": 28,
   "metadata": {},
   "outputs": [
    {
     "data": {
      "text/plain": [
       "(17337, 1037)"
      ]
     },
     "execution_count": 28,
     "metadata": {},
     "output_type": "execute_result"
    }
   ],
   "source": [
    "normalized_matrix.shape"
   ]
  },
  {
   "cell_type": "markdown",
   "metadata": {},
   "source": [
    "# Map Sample Metadata to Sample ID"
   ]
  },
  {
   "cell_type": "code",
   "execution_count": 29,
   "metadata": {},
   "outputs": [
    {
     "name": "stdout",
     "output_type": "stream",
     "text": [
      "Progress: 17%  181 Out of 1037   \r"
     ]
    },
    {
     "name": "stderr",
     "output_type": "stream",
     "text": [
      "/Users/moshesilverstein/anaconda/lib/python3.5/site-packages/ipykernel/__main__.py:15: DeprecationWarning: \n",
      ".ix is deprecated. Please use\n",
      ".loc for label based indexing or\n",
      ".iloc for positional indexing\n",
      "\n",
      "See the documentation here:\n",
      "http://pandas.pydata.org/pandas-docs/stable/indexing.html#ix-indexer-is-deprecated\n"
     ]
    },
    {
     "name": "stdout",
     "output_type": "stream",
     "text": [
      "Progress: 100%  1037 Out of 1037   \r"
     ]
    }
   ],
   "source": [
    "lst = []\n",
    "\n",
    "for i,col in enumerate(normalized_matrix.columns):\n",
    "    \n",
    "    col = col.split('.')[0]\n",
    "\n",
    "    progressPercent = ((i+1)/len(normalized_matrix.columns))*100\n",
    "\n",
    "    sys.stdout.write(\"Progress: %d%%  %d Out of %d   \\r\" % (progressPercent, (i+1), len(normalized_matrix.columns)))\n",
    "    sys.stdout.flush()\n",
    "\n",
    "    \n",
    "    tissue = 'Tissue:'+(' ').join(col.split('_')[1:])\n",
    "    cellline = 'Cell-Line:'+col.split('_')[0]\n",
    "    gender = 'Gender:'+str(sample_meta.ix[col, 'Gender'])\n",
    "    histology = 'Histology:'+sample_meta.ix[col, 'Histology'].upper()\n",
    "\n",
    "    lst.append(tuple((tissue, cellline, gender, histology)))\n",
    "\n",
    "\n",
    "normalized_matrix.columns = lst"
   ]
  },
  {
   "cell_type": "markdown",
   "metadata": {},
   "source": [
    "# Merge Like Column (by taking the mean)"
   ]
  },
  {
   "cell_type": "code",
   "execution_count": 30,
   "metadata": {
    "collapsed": true
   },
   "outputs": [],
   "source": [
    "normalized_matrix = mf.merge(normalized_matrix, 'column', 'mean')"
   ]
  },
  {
   "cell_type": "code",
   "execution_count": 31,
   "metadata": {},
   "outputs": [
    {
     "data": {
      "text/html": [
       "<div>\n",
       "<style scoped>\n",
       "    .dataframe tbody tr th:only-of-type {\n",
       "        vertical-align: middle;\n",
       "    }\n",
       "\n",
       "    .dataframe tbody tr th {\n",
       "        vertical-align: top;\n",
       "    }\n",
       "\n",
       "    .dataframe thead th {\n",
       "        text-align: right;\n",
       "    }\n",
       "</style>\n",
       "<table border=\"1\" class=\"dataframe\">\n",
       "  <thead>\n",
       "    <tr style=\"text-align: right;\">\n",
       "      <th></th>\n",
       "      <th>(Tissue:AUTONOMIC GANGLIA, Cell-Line:CHP126, Gender:F, Histology:NEUROBLASTOMA)</th>\n",
       "      <th>(Tissue:AUTONOMIC GANGLIA, Cell-Line:CHP212, Gender:nan, Histology:NEUROBLASTOMA)</th>\n",
       "      <th>(Tissue:AUTONOMIC GANGLIA, Cell-Line:IMR32, Gender:M, Histology:NEUROBLASTOMA)</th>\n",
       "      <th>(Tissue:AUTONOMIC GANGLIA, Cell-Line:KELLY, Gender:nan, Histology:NEUROBLASTOMA)</th>\n",
       "      <th>(Tissue:AUTONOMIC GANGLIA, Cell-Line:KPNRTBM1, Gender:nan, Histology:NEUROBLASTOMA)</th>\n",
       "      <th>(Tissue:AUTONOMIC GANGLIA, Cell-Line:KPNSI9S, Gender:M, Histology:NEUROBLASTOMA)</th>\n",
       "      <th>(Tissue:AUTONOMIC GANGLIA, Cell-Line:KPNYN, Gender:nan, Histology:NEUROBLASTOMA)</th>\n",
       "      <th>(Tissue:AUTONOMIC GANGLIA, Cell-Line:MHHNB11, Gender:M, Histology:NEUROBLASTOMA)</th>\n",
       "      <th>(Tissue:AUTONOMIC GANGLIA, Cell-Line:NB1, Gender:M, Histology:NEUROBLASTOMA)</th>\n",
       "      <th>(Tissue:AUTONOMIC GANGLIA, Cell-Line:NH6, Gender:nan, Histology:NEUROBLASTOMA)</th>\n",
       "      <th>...</th>\n",
       "      <th>(Tissue:URINARY TRACT, Cell-Line:RT4, Gender:M, Histology:CARCINOMA)</th>\n",
       "      <th>(Tissue:URINARY TRACT, Cell-Line:SCABER, Gender:M, Histology:CARCINOMA)</th>\n",
       "      <th>(Tissue:URINARY TRACT, Cell-Line:SW1710, Gender:F, Histology:CARCINOMA)</th>\n",
       "      <th>(Tissue:URINARY TRACT, Cell-Line:SW780, Gender:F, Histology:CARCINOMA)</th>\n",
       "      <th>(Tissue:URINARY TRACT, Cell-Line:T24, Gender:F, Histology:CARCINOMA)</th>\n",
       "      <th>(Tissue:URINARY TRACT, Cell-Line:TCCSUP, Gender:F, Histology:CARCINOMA)</th>\n",
       "      <th>(Tissue:URINARY TRACT, Cell-Line:UBLC1, Gender:F, Histology:CARCINOMA)</th>\n",
       "      <th>(Tissue:URINARY TRACT, Cell-Line:UMUC1, Gender:M, Histology:CARCINOMA)</th>\n",
       "      <th>(Tissue:URINARY TRACT, Cell-Line:UMUC3, Gender:M, Histology:CARCINOMA)</th>\n",
       "      <th>(Tissue:URINARY TRACT, Cell-Line:VMCUB1, Gender:M, Histology:CARCINOMA)</th>\n",
       "    </tr>\n",
       "    <tr>\n",
       "      <th>index</th>\n",
       "      <th></th>\n",
       "      <th></th>\n",
       "      <th></th>\n",
       "      <th></th>\n",
       "      <th></th>\n",
       "      <th></th>\n",
       "      <th></th>\n",
       "      <th></th>\n",
       "      <th></th>\n",
       "      <th></th>\n",
       "      <th></th>\n",
       "      <th></th>\n",
       "      <th></th>\n",
       "      <th></th>\n",
       "      <th></th>\n",
       "      <th></th>\n",
       "      <th></th>\n",
       "      <th></th>\n",
       "      <th></th>\n",
       "      <th></th>\n",
       "      <th></th>\n",
       "    </tr>\n",
       "  </thead>\n",
       "  <tbody>\n",
       "    <tr>\n",
       "      <th>A1BG</th>\n",
       "      <td>0.061150</td>\n",
       "      <td>0.363364</td>\n",
       "      <td>0.775190</td>\n",
       "      <td>0.251860</td>\n",
       "      <td>0.463979</td>\n",
       "      <td>0.989795</td>\n",
       "      <td>0.870464</td>\n",
       "      <td>1.783551</td>\n",
       "      <td>1.184752</td>\n",
       "      <td>0.929649</td>\n",
       "      <td>...</td>\n",
       "      <td>-1.172933</td>\n",
       "      <td>-1.048049</td>\n",
       "      <td>-0.595673</td>\n",
       "      <td>-0.947634</td>\n",
       "      <td>-1.324057</td>\n",
       "      <td>-0.907755</td>\n",
       "      <td>-0.996395</td>\n",
       "      <td>-0.820354</td>\n",
       "      <td>0.074883</td>\n",
       "      <td>-1.446118</td>\n",
       "    </tr>\n",
       "    <tr>\n",
       "      <th>A1BG-AS1</th>\n",
       "      <td>0.277491</td>\n",
       "      <td>0.045649</td>\n",
       "      <td>0.728217</td>\n",
       "      <td>0.998537</td>\n",
       "      <td>-0.178796</td>\n",
       "      <td>0.195440</td>\n",
       "      <td>-0.221541</td>\n",
       "      <td>-0.538833</td>\n",
       "      <td>0.511497</td>\n",
       "      <td>-0.190140</td>\n",
       "      <td>...</td>\n",
       "      <td>-1.729218</td>\n",
       "      <td>0.351586</td>\n",
       "      <td>-0.685520</td>\n",
       "      <td>-0.130492</td>\n",
       "      <td>-2.248171</td>\n",
       "      <td>-0.711564</td>\n",
       "      <td>-1.427787</td>\n",
       "      <td>0.303201</td>\n",
       "      <td>0.659586</td>\n",
       "      <td>-1.059017</td>\n",
       "    </tr>\n",
       "    <tr>\n",
       "      <th>A1CF</th>\n",
       "      <td>-0.333466</td>\n",
       "      <td>-0.208228</td>\n",
       "      <td>-0.456124</td>\n",
       "      <td>-0.545437</td>\n",
       "      <td>-0.415528</td>\n",
       "      <td>-0.359914</td>\n",
       "      <td>-0.141044</td>\n",
       "      <td>-0.556374</td>\n",
       "      <td>-0.563420</td>\n",
       "      <td>-0.335947</td>\n",
       "      <td>...</td>\n",
       "      <td>-0.437279</td>\n",
       "      <td>-0.203937</td>\n",
       "      <td>-0.178824</td>\n",
       "      <td>-0.402897</td>\n",
       "      <td>-0.427072</td>\n",
       "      <td>-0.061313</td>\n",
       "      <td>-0.333959</td>\n",
       "      <td>-0.149224</td>\n",
       "      <td>-0.319659</td>\n",
       "      <td>-0.354017</td>\n",
       "    </tr>\n",
       "    <tr>\n",
       "      <th>A2M</th>\n",
       "      <td>-0.424442</td>\n",
       "      <td>1.151566</td>\n",
       "      <td>-0.596106</td>\n",
       "      <td>-0.233031</td>\n",
       "      <td>-0.365967</td>\n",
       "      <td>3.263003</td>\n",
       "      <td>-0.579555</td>\n",
       "      <td>-0.161783</td>\n",
       "      <td>-0.295207</td>\n",
       "      <td>-0.319042</td>\n",
       "      <td>...</td>\n",
       "      <td>-0.502725</td>\n",
       "      <td>-0.511815</td>\n",
       "      <td>-0.505589</td>\n",
       "      <td>-0.292201</td>\n",
       "      <td>-0.596432</td>\n",
       "      <td>3.256469</td>\n",
       "      <td>-0.157074</td>\n",
       "      <td>-0.543286</td>\n",
       "      <td>-0.208490</td>\n",
       "      <td>-0.144220</td>\n",
       "    </tr>\n",
       "    <tr>\n",
       "      <th>A2ML1</th>\n",
       "      <td>-0.044042</td>\n",
       "      <td>-0.287341</td>\n",
       "      <td>0.014433</td>\n",
       "      <td>-0.688573</td>\n",
       "      <td>-0.373021</td>\n",
       "      <td>-0.321417</td>\n",
       "      <td>-0.188700</td>\n",
       "      <td>-0.739148</td>\n",
       "      <td>0.335277</td>\n",
       "      <td>-0.060602</td>\n",
       "      <td>...</td>\n",
       "      <td>-0.214005</td>\n",
       "      <td>0.243290</td>\n",
       "      <td>-0.330796</td>\n",
       "      <td>-0.034232</td>\n",
       "      <td>0.331624</td>\n",
       "      <td>-0.183215</td>\n",
       "      <td>-0.297064</td>\n",
       "      <td>0.148682</td>\n",
       "      <td>-0.501153</td>\n",
       "      <td>0.007102</td>\n",
       "    </tr>\n",
       "  </tbody>\n",
       "</table>\n",
       "<p>5 rows × 1036 columns</p>\n",
       "</div>"
      ],
      "text/plain": [
       "          (Tissue:AUTONOMIC GANGLIA, Cell-Line:CHP126, Gender:F, Histology:NEUROBLASTOMA)  \\\n",
       "index                                                                                       \n",
       "A1BG                                               0.061150                                 \n",
       "A1BG-AS1                                           0.277491                                 \n",
       "A1CF                                              -0.333466                                 \n",
       "A2M                                               -0.424442                                 \n",
       "A2ML1                                             -0.044042                                 \n",
       "\n",
       "          (Tissue:AUTONOMIC GANGLIA, Cell-Line:CHP212, Gender:nan, Histology:NEUROBLASTOMA)  \\\n",
       "index                                                                                         \n",
       "A1BG                                               0.363364                                   \n",
       "A1BG-AS1                                           0.045649                                   \n",
       "A1CF                                              -0.208228                                   \n",
       "A2M                                                1.151566                                   \n",
       "A2ML1                                             -0.287341                                   \n",
       "\n",
       "          (Tissue:AUTONOMIC GANGLIA, Cell-Line:IMR32, Gender:M, Histology:NEUROBLASTOMA)  \\\n",
       "index                                                                                      \n",
       "A1BG                                               0.775190                                \n",
       "A1BG-AS1                                           0.728217                                \n",
       "A1CF                                              -0.456124                                \n",
       "A2M                                               -0.596106                                \n",
       "A2ML1                                              0.014433                                \n",
       "\n",
       "          (Tissue:AUTONOMIC GANGLIA, Cell-Line:KELLY, Gender:nan, Histology:NEUROBLASTOMA)  \\\n",
       "index                                                                                        \n",
       "A1BG                                               0.251860                                  \n",
       "A1BG-AS1                                           0.998537                                  \n",
       "A1CF                                              -0.545437                                  \n",
       "A2M                                               -0.233031                                  \n",
       "A2ML1                                             -0.688573                                  \n",
       "\n",
       "          (Tissue:AUTONOMIC GANGLIA, Cell-Line:KPNRTBM1, Gender:nan, Histology:NEUROBLASTOMA)  \\\n",
       "index                                                                                           \n",
       "A1BG                                               0.463979                                     \n",
       "A1BG-AS1                                          -0.178796                                     \n",
       "A1CF                                              -0.415528                                     \n",
       "A2M                                               -0.365967                                     \n",
       "A2ML1                                             -0.373021                                     \n",
       "\n",
       "          (Tissue:AUTONOMIC GANGLIA, Cell-Line:KPNSI9S, Gender:M, Histology:NEUROBLASTOMA)  \\\n",
       "index                                                                                        \n",
       "A1BG                                               0.989795                                  \n",
       "A1BG-AS1                                           0.195440                                  \n",
       "A1CF                                              -0.359914                                  \n",
       "A2M                                                3.263003                                  \n",
       "A2ML1                                             -0.321417                                  \n",
       "\n",
       "          (Tissue:AUTONOMIC GANGLIA, Cell-Line:KPNYN, Gender:nan, Histology:NEUROBLASTOMA)  \\\n",
       "index                                                                                        \n",
       "A1BG                                               0.870464                                  \n",
       "A1BG-AS1                                          -0.221541                                  \n",
       "A1CF                                              -0.141044                                  \n",
       "A2M                                               -0.579555                                  \n",
       "A2ML1                                             -0.188700                                  \n",
       "\n",
       "          (Tissue:AUTONOMIC GANGLIA, Cell-Line:MHHNB11, Gender:M, Histology:NEUROBLASTOMA)  \\\n",
       "index                                                                                        \n",
       "A1BG                                               1.783551                                  \n",
       "A1BG-AS1                                          -0.538833                                  \n",
       "A1CF                                              -0.556374                                  \n",
       "A2M                                               -0.161783                                  \n",
       "A2ML1                                             -0.739148                                  \n",
       "\n",
       "          (Tissue:AUTONOMIC GANGLIA, Cell-Line:NB1, Gender:M, Histology:NEUROBLASTOMA)  \\\n",
       "index                                                                                    \n",
       "A1BG                                               1.184752                              \n",
       "A1BG-AS1                                           0.511497                              \n",
       "A1CF                                              -0.563420                              \n",
       "A2M                                               -0.295207                              \n",
       "A2ML1                                              0.335277                              \n",
       "\n",
       "          (Tissue:AUTONOMIC GANGLIA, Cell-Line:NH6, Gender:nan, Histology:NEUROBLASTOMA)  \\\n",
       "index                                                                                      \n",
       "A1BG                                               0.929649                                \n",
       "A1BG-AS1                                          -0.190140                                \n",
       "A1CF                                              -0.335947                                \n",
       "A2M                                               -0.319042                                \n",
       "A2ML1                                             -0.060602                                \n",
       "\n",
       "                                           ...                                     \\\n",
       "index                                      ...                                      \n",
       "A1BG                                       ...                                      \n",
       "A1BG-AS1                                   ...                                      \n",
       "A1CF                                       ...                                      \n",
       "A2M                                        ...                                      \n",
       "A2ML1                                      ...                                      \n",
       "\n",
       "          (Tissue:URINARY TRACT, Cell-Line:RT4, Gender:M, Histology:CARCINOMA)  \\\n",
       "index                                                                            \n",
       "A1BG                                              -1.172933                      \n",
       "A1BG-AS1                                          -1.729218                      \n",
       "A1CF                                              -0.437279                      \n",
       "A2M                                               -0.502725                      \n",
       "A2ML1                                             -0.214005                      \n",
       "\n",
       "          (Tissue:URINARY TRACT, Cell-Line:SCABER, Gender:M, Histology:CARCINOMA)  \\\n",
       "index                                                                               \n",
       "A1BG                                              -1.048049                         \n",
       "A1BG-AS1                                           0.351586                         \n",
       "A1CF                                              -0.203937                         \n",
       "A2M                                               -0.511815                         \n",
       "A2ML1                                              0.243290                         \n",
       "\n",
       "          (Tissue:URINARY TRACT, Cell-Line:SW1710, Gender:F, Histology:CARCINOMA)  \\\n",
       "index                                                                               \n",
       "A1BG                                              -0.595673                         \n",
       "A1BG-AS1                                          -0.685520                         \n",
       "A1CF                                              -0.178824                         \n",
       "A2M                                               -0.505589                         \n",
       "A2ML1                                             -0.330796                         \n",
       "\n",
       "          (Tissue:URINARY TRACT, Cell-Line:SW780, Gender:F, Histology:CARCINOMA)  \\\n",
       "index                                                                              \n",
       "A1BG                                              -0.947634                        \n",
       "A1BG-AS1                                          -0.130492                        \n",
       "A1CF                                              -0.402897                        \n",
       "A2M                                               -0.292201                        \n",
       "A2ML1                                             -0.034232                        \n",
       "\n",
       "          (Tissue:URINARY TRACT, Cell-Line:T24, Gender:F, Histology:CARCINOMA)  \\\n",
       "index                                                                            \n",
       "A1BG                                              -1.324057                      \n",
       "A1BG-AS1                                          -2.248171                      \n",
       "A1CF                                              -0.427072                      \n",
       "A2M                                               -0.596432                      \n",
       "A2ML1                                              0.331624                      \n",
       "\n",
       "          (Tissue:URINARY TRACT, Cell-Line:TCCSUP, Gender:F, Histology:CARCINOMA)  \\\n",
       "index                                                                               \n",
       "A1BG                                              -0.907755                         \n",
       "A1BG-AS1                                          -0.711564                         \n",
       "A1CF                                              -0.061313                         \n",
       "A2M                                                3.256469                         \n",
       "A2ML1                                             -0.183215                         \n",
       "\n",
       "          (Tissue:URINARY TRACT, Cell-Line:UBLC1, Gender:F, Histology:CARCINOMA)  \\\n",
       "index                                                                              \n",
       "A1BG                                              -0.996395                        \n",
       "A1BG-AS1                                          -1.427787                        \n",
       "A1CF                                              -0.333959                        \n",
       "A2M                                               -0.157074                        \n",
       "A2ML1                                             -0.297064                        \n",
       "\n",
       "          (Tissue:URINARY TRACT, Cell-Line:UMUC1, Gender:M, Histology:CARCINOMA)  \\\n",
       "index                                                                              \n",
       "A1BG                                              -0.820354                        \n",
       "A1BG-AS1                                           0.303201                        \n",
       "A1CF                                              -0.149224                        \n",
       "A2M                                               -0.543286                        \n",
       "A2ML1                                              0.148682                        \n",
       "\n",
       "          (Tissue:URINARY TRACT, Cell-Line:UMUC3, Gender:M, Histology:CARCINOMA)  \\\n",
       "index                                                                              \n",
       "A1BG                                               0.074883                        \n",
       "A1BG-AS1                                           0.659586                        \n",
       "A1CF                                              -0.319659                        \n",
       "A2M                                               -0.208490                        \n",
       "A2ML1                                             -0.501153                        \n",
       "\n",
       "          (Tissue:URINARY TRACT, Cell-Line:VMCUB1, Gender:M, Histology:CARCINOMA)  \n",
       "index                                                                              \n",
       "A1BG                                              -1.446118                        \n",
       "A1BG-AS1                                          -1.059017                        \n",
       "A1CF                                              -0.354017                        \n",
       "A2M                                               -0.144220                        \n",
       "A2ML1                                              0.007102                        \n",
       "\n",
       "[5 rows x 1036 columns]"
      ]
     },
     "execution_count": 31,
     "metadata": {},
     "output_type": "execute_result"
    }
   ],
   "source": [
    "normalized_matrix.head()"
   ]
  },
  {
   "cell_type": "markdown",
   "metadata": {},
   "source": [
    "# Histogram of First Celline"
   ]
  },
  {
   "cell_type": "code",
   "execution_count": 32,
   "metadata": {},
   "outputs": [
    {
     "data": {
      "text/plain": [
       "<matplotlib.axes._subplots.AxesSubplot at 0x11b08e0f0>"
      ]
     },
     "execution_count": 32,
     "metadata": {},
     "output_type": "execute_result"
    },
    {
     "data": {
      "image/png": "[encoded data removed]",
      "text/plain": [
       "<matplotlib.figure.Figure at 0x1192c65c0>"
      ]
     },
     "metadata": {},
     "output_type": "display_data"
    }
   ],
   "source": [
    "normalized_matrix[normalized_matrix.columns[0]].hist()"
   ]
  },
  {
   "cell_type": "markdown",
   "metadata": {},
   "source": [
    "# Histogram of First Gene"
   ]
  },
  {
   "cell_type": "code",
   "execution_count": 33,
   "metadata": {},
   "outputs": [
    {
     "data": {
      "text/plain": [
       "<matplotlib.axes._subplots.AxesSubplot at 0x11b0643c8>"
      ]
     },
     "execution_count": 33,
     "metadata": {},
     "output_type": "execute_result"
    },
    {
     "data": {
      "image/png": "[encoded data removed]",
      "text/plain": [
       "<matplotlib.figure.Figure at 0x11afdd588>"
      ]
     },
     "metadata": {},
     "output_type": "display_data"
    }
   ],
   "source": [
    "normalized_matrix.loc[normalized_matrix.index[0]].hist()"
   ]
  },
  {
   "cell_type": "markdown",
   "metadata": {},
   "source": [
    "# Save Normalized Matrix To File"
   ]
  },
  {
   "cell_type": "code",
   "execution_count": 34,
   "metadata": {
    "collapsed": true
   },
   "outputs": [],
   "source": [
    "filename = '~/./Documents/Harmonizome/CCLE/Output/ccle_matrix_filltered_%s.tsv.zip'% str(datetime.date.today())[0:7].replace('-', '_')\n",
    "normalized_matrix.to_csv(filename, sep='\\t', compression='gzip')"
   ]
  },
  {
   "cell_type": "markdown",
   "metadata": {},
   "source": [
    "# HeatMap (clustergrammer) of Data"
   ]
  },
  {
   "cell_type": "code",
   "execution_count": 35,
   "metadata": {},
   "outputs": [
    {
     "name": "stderr",
     "output_type": "stream",
     "text": [
      "Widget Javascript not detected.  It may not be installed or enabled properly.\n"
     ]
    },
    {
     "data": {
      "application/vnd.jupyter.widget-view+json": {
       "model_id": "524d87d9669c44e48508597f1fb477e1"
      }
     },
     "metadata": {},
     "output_type": "display_data"
    }
   ],
   "source": [
    "net.load_df(normalized_matrix.iloc[:,:100].copy())\n",
    "net.filter_N_top('row', rank_type='sum', N_top=50)\n",
    "net.cluster()\n",
    "net.widget()"
   ]
  },
  {
   "cell_type": "markdown",
   "metadata": {},
   "source": [
    "# Create Tertiary Matrix"
   ]
  },
  {
   "cell_type": "markdown",
   "metadata": {},
   "source": [
    "Top 500 up expressed genes get a value of 1. Top 500 down expressed genes get a value of -1. All other values are set to 0."
   ]
  },
  {
   "cell_type": "code",
   "execution_count": 36,
   "metadata": {},
   "outputs": [
    {
     "name": "stdout",
     "output_type": "stream",
     "text": [
      "Progeres: 100%  1036 Out of 1036   \r"
     ]
    }
   ],
   "source": [
    "tertiary_matrix = mf.createTertiaryMarix(normalized_matrix)"
   ]
  },
  {
   "cell_type": "code",
   "execution_count": 37,
   "metadata": {},
   "outputs": [
    {
     "data": {
      "text/html": [
       "<div>\n",
       "<style scoped>\n",
       "    .dataframe tbody tr th:only-of-type {\n",
       "        vertical-align: middle;\n",
       "    }\n",
       "\n",
       "    .dataframe tbody tr th {\n",
       "        vertical-align: top;\n",
       "    }\n",
       "\n",
       "    .dataframe thead th {\n",
       "        text-align: right;\n",
       "    }\n",
       "</style>\n",
       "<table border=\"1\" class=\"dataframe\">\n",
       "  <thead>\n",
       "    <tr style=\"text-align: right;\">\n",
       "      <th></th>\n",
       "      <th>(Tissue:AUTONOMIC GANGLIA, Cell-Line:CHP126, Gender:F, Histology:NEUROBLASTOMA)</th>\n",
       "      <th>(Tissue:AUTONOMIC GANGLIA, Cell-Line:CHP212, Gender:nan, Histology:NEUROBLASTOMA)</th>\n",
       "      <th>(Tissue:AUTONOMIC GANGLIA, Cell-Line:IMR32, Gender:M, Histology:NEUROBLASTOMA)</th>\n",
       "      <th>(Tissue:AUTONOMIC GANGLIA, Cell-Line:KELLY, Gender:nan, Histology:NEUROBLASTOMA)</th>\n",
       "      <th>(Tissue:AUTONOMIC GANGLIA, Cell-Line:KPNRTBM1, Gender:nan, Histology:NEUROBLASTOMA)</th>\n",
       "      <th>(Tissue:AUTONOMIC GANGLIA, Cell-Line:KPNSI9S, Gender:M, Histology:NEUROBLASTOMA)</th>\n",
       "      <th>(Tissue:AUTONOMIC GANGLIA, Cell-Line:KPNYN, Gender:nan, Histology:NEUROBLASTOMA)</th>\n",
       "      <th>(Tissue:AUTONOMIC GANGLIA, Cell-Line:MHHNB11, Gender:M, Histology:NEUROBLASTOMA)</th>\n",
       "      <th>(Tissue:AUTONOMIC GANGLIA, Cell-Line:NB1, Gender:M, Histology:NEUROBLASTOMA)</th>\n",
       "      <th>(Tissue:AUTONOMIC GANGLIA, Cell-Line:NH6, Gender:nan, Histology:NEUROBLASTOMA)</th>\n",
       "      <th>...</th>\n",
       "      <th>(Tissue:URINARY TRACT, Cell-Line:RT4, Gender:M, Histology:CARCINOMA)</th>\n",
       "      <th>(Tissue:URINARY TRACT, Cell-Line:SCABER, Gender:M, Histology:CARCINOMA)</th>\n",
       "      <th>(Tissue:URINARY TRACT, Cell-Line:SW1710, Gender:F, Histology:CARCINOMA)</th>\n",
       "      <th>(Tissue:URINARY TRACT, Cell-Line:SW780, Gender:F, Histology:CARCINOMA)</th>\n",
       "      <th>(Tissue:URINARY TRACT, Cell-Line:T24, Gender:F, Histology:CARCINOMA)</th>\n",
       "      <th>(Tissue:URINARY TRACT, Cell-Line:TCCSUP, Gender:F, Histology:CARCINOMA)</th>\n",
       "      <th>(Tissue:URINARY TRACT, Cell-Line:UBLC1, Gender:F, Histology:CARCINOMA)</th>\n",
       "      <th>(Tissue:URINARY TRACT, Cell-Line:UMUC1, Gender:M, Histology:CARCINOMA)</th>\n",
       "      <th>(Tissue:URINARY TRACT, Cell-Line:UMUC3, Gender:M, Histology:CARCINOMA)</th>\n",
       "      <th>(Tissue:URINARY TRACT, Cell-Line:VMCUB1, Gender:M, Histology:CARCINOMA)</th>\n",
       "    </tr>\n",
       "    <tr>\n",
       "      <th>index</th>\n",
       "      <th></th>\n",
       "      <th></th>\n",
       "      <th></th>\n",
       "      <th></th>\n",
       "      <th></th>\n",
       "      <th></th>\n",
       "      <th></th>\n",
       "      <th></th>\n",
       "      <th></th>\n",
       "      <th></th>\n",
       "      <th></th>\n",
       "      <th></th>\n",
       "      <th></th>\n",
       "      <th></th>\n",
       "      <th></th>\n",
       "      <th></th>\n",
       "      <th></th>\n",
       "      <th></th>\n",
       "      <th></th>\n",
       "      <th></th>\n",
       "      <th></th>\n",
       "    </tr>\n",
       "  </thead>\n",
       "  <tbody>\n",
       "    <tr>\n",
       "      <th>A1BG</th>\n",
       "      <td>0.0</td>\n",
       "      <td>0.0</td>\n",
       "      <td>0.0</td>\n",
       "      <td>0.0</td>\n",
       "      <td>0.0</td>\n",
       "      <td>0.0</td>\n",
       "      <td>0.0</td>\n",
       "      <td>0.0</td>\n",
       "      <td>0.0</td>\n",
       "      <td>0.0</td>\n",
       "      <td>...</td>\n",
       "      <td>0.0</td>\n",
       "      <td>0.0</td>\n",
       "      <td>0.0</td>\n",
       "      <td>0.0</td>\n",
       "      <td>-1.0</td>\n",
       "      <td>0.0</td>\n",
       "      <td>0.0</td>\n",
       "      <td>0.0</td>\n",
       "      <td>0.0</td>\n",
       "      <td>0.0</td>\n",
       "    </tr>\n",
       "    <tr>\n",
       "      <th>A1BG-AS1</th>\n",
       "      <td>0.0</td>\n",
       "      <td>0.0</td>\n",
       "      <td>0.0</td>\n",
       "      <td>0.0</td>\n",
       "      <td>0.0</td>\n",
       "      <td>0.0</td>\n",
       "      <td>0.0</td>\n",
       "      <td>0.0</td>\n",
       "      <td>0.0</td>\n",
       "      <td>0.0</td>\n",
       "      <td>...</td>\n",
       "      <td>-1.0</td>\n",
       "      <td>0.0</td>\n",
       "      <td>0.0</td>\n",
       "      <td>0.0</td>\n",
       "      <td>-1.0</td>\n",
       "      <td>0.0</td>\n",
       "      <td>0.0</td>\n",
       "      <td>0.0</td>\n",
       "      <td>0.0</td>\n",
       "      <td>0.0</td>\n",
       "    </tr>\n",
       "    <tr>\n",
       "      <th>A1CF</th>\n",
       "      <td>0.0</td>\n",
       "      <td>0.0</td>\n",
       "      <td>0.0</td>\n",
       "      <td>0.0</td>\n",
       "      <td>0.0</td>\n",
       "      <td>0.0</td>\n",
       "      <td>0.0</td>\n",
       "      <td>0.0</td>\n",
       "      <td>0.0</td>\n",
       "      <td>0.0</td>\n",
       "      <td>...</td>\n",
       "      <td>0.0</td>\n",
       "      <td>0.0</td>\n",
       "      <td>0.0</td>\n",
       "      <td>0.0</td>\n",
       "      <td>0.0</td>\n",
       "      <td>0.0</td>\n",
       "      <td>0.0</td>\n",
       "      <td>0.0</td>\n",
       "      <td>0.0</td>\n",
       "      <td>0.0</td>\n",
       "    </tr>\n",
       "    <tr>\n",
       "      <th>A2M</th>\n",
       "      <td>0.0</td>\n",
       "      <td>0.0</td>\n",
       "      <td>0.0</td>\n",
       "      <td>0.0</td>\n",
       "      <td>0.0</td>\n",
       "      <td>1.0</td>\n",
       "      <td>0.0</td>\n",
       "      <td>0.0</td>\n",
       "      <td>0.0</td>\n",
       "      <td>0.0</td>\n",
       "      <td>...</td>\n",
       "      <td>0.0</td>\n",
       "      <td>0.0</td>\n",
       "      <td>0.0</td>\n",
       "      <td>0.0</td>\n",
       "      <td>0.0</td>\n",
       "      <td>1.0</td>\n",
       "      <td>0.0</td>\n",
       "      <td>0.0</td>\n",
       "      <td>0.0</td>\n",
       "      <td>0.0</td>\n",
       "    </tr>\n",
       "    <tr>\n",
       "      <th>A2ML1</th>\n",
       "      <td>0.0</td>\n",
       "      <td>0.0</td>\n",
       "      <td>0.0</td>\n",
       "      <td>0.0</td>\n",
       "      <td>0.0</td>\n",
       "      <td>0.0</td>\n",
       "      <td>0.0</td>\n",
       "      <td>0.0</td>\n",
       "      <td>0.0</td>\n",
       "      <td>0.0</td>\n",
       "      <td>...</td>\n",
       "      <td>0.0</td>\n",
       "      <td>0.0</td>\n",
       "      <td>0.0</td>\n",
       "      <td>0.0</td>\n",
       "      <td>0.0</td>\n",
       "      <td>0.0</td>\n",
       "      <td>0.0</td>\n",
       "      <td>0.0</td>\n",
       "      <td>0.0</td>\n",
       "      <td>0.0</td>\n",
       "    </tr>\n",
       "  </tbody>\n",
       "</table>\n",
       "<p>5 rows × 1036 columns</p>\n",
       "</div>"
      ],
      "text/plain": [
       "          (Tissue:AUTONOMIC GANGLIA, Cell-Line:CHP126, Gender:F, Histology:NEUROBLASTOMA)  \\\n",
       "index                                                                                       \n",
       "A1BG                                                    0.0                                 \n",
       "A1BG-AS1                                                0.0                                 \n",
       "A1CF                                                    0.0                                 \n",
       "A2M                                                     0.0                                 \n",
       "A2ML1                                                   0.0                                 \n",
       "\n",
       "          (Tissue:AUTONOMIC GANGLIA, Cell-Line:CHP212, Gender:nan, Histology:NEUROBLASTOMA)  \\\n",
       "index                                                                                         \n",
       "A1BG                                                    0.0                                   \n",
       "A1BG-AS1                                                0.0                                   \n",
       "A1CF                                                    0.0                                   \n",
       "A2M                                                     0.0                                   \n",
       "A2ML1                                                   0.0                                   \n",
       "\n",
       "          (Tissue:AUTONOMIC GANGLIA, Cell-Line:IMR32, Gender:M, Histology:NEUROBLASTOMA)  \\\n",
       "index                                                                                      \n",
       "A1BG                                                    0.0                                \n",
       "A1BG-AS1                                                0.0                                \n",
       "A1CF                                                    0.0                                \n",
       "A2M                                                     0.0                                \n",
       "A2ML1                                                   0.0                                \n",
       "\n",
       "          (Tissue:AUTONOMIC GANGLIA, Cell-Line:KELLY, Gender:nan, Histology:NEUROBLASTOMA)  \\\n",
       "index                                                                                        \n",
       "A1BG                                                    0.0                                  \n",
       "A1BG-AS1                                                0.0                                  \n",
       "A1CF                                                    0.0                                  \n",
       "A2M                                                     0.0                                  \n",
       "A2ML1                                                   0.0                                  \n",
       "\n",
       "          (Tissue:AUTONOMIC GANGLIA, Cell-Line:KPNRTBM1, Gender:nan, Histology:NEUROBLASTOMA)  \\\n",
       "index                                                                                           \n",
       "A1BG                                                    0.0                                     \n",
       "A1BG-AS1                                                0.0                                     \n",
       "A1CF                                                    0.0                                     \n",
       "A2M                                                     0.0                                     \n",
       "A2ML1                                                   0.0                                     \n",
       "\n",
       "          (Tissue:AUTONOMIC GANGLIA, Cell-Line:KPNSI9S, Gender:M, Histology:NEUROBLASTOMA)  \\\n",
       "index                                                                                        \n",
       "A1BG                                                    0.0                                  \n",
       "A1BG-AS1                                                0.0                                  \n",
       "A1CF                                                    0.0                                  \n",
       "A2M                                                     1.0                                  \n",
       "A2ML1                                                   0.0                                  \n",
       "\n",
       "          (Tissue:AUTONOMIC GANGLIA, Cell-Line:KPNYN, Gender:nan, Histology:NEUROBLASTOMA)  \\\n",
       "index                                                                                        \n",
       "A1BG                                                    0.0                                  \n",
       "A1BG-AS1                                                0.0                                  \n",
       "A1CF                                                    0.0                                  \n",
       "A2M                                                     0.0                                  \n",
       "A2ML1                                                   0.0                                  \n",
       "\n",
       "          (Tissue:AUTONOMIC GANGLIA, Cell-Line:MHHNB11, Gender:M, Histology:NEUROBLASTOMA)  \\\n",
       "index                                                                                        \n",
       "A1BG                                                    0.0                                  \n",
       "A1BG-AS1                                                0.0                                  \n",
       "A1CF                                                    0.0                                  \n",
       "A2M                                                     0.0                                  \n",
       "A2ML1                                                   0.0                                  \n",
       "\n",
       "          (Tissue:AUTONOMIC GANGLIA, Cell-Line:NB1, Gender:M, Histology:NEUROBLASTOMA)  \\\n",
       "index                                                                                    \n",
       "A1BG                                                    0.0                              \n",
       "A1BG-AS1                                                0.0                              \n",
       "A1CF                                                    0.0                              \n",
       "A2M                                                     0.0                              \n",
       "A2ML1                                                   0.0                              \n",
       "\n",
       "          (Tissue:AUTONOMIC GANGLIA, Cell-Line:NH6, Gender:nan, Histology:NEUROBLASTOMA)  \\\n",
       "index                                                                                      \n",
       "A1BG                                                    0.0                                \n",
       "A1BG-AS1                                                0.0                                \n",
       "A1CF                                                    0.0                                \n",
       "A2M                                                     0.0                                \n",
       "A2ML1                                                   0.0                                \n",
       "\n",
       "                                           ...                                     \\\n",
       "index                                      ...                                      \n",
       "A1BG                                       ...                                      \n",
       "A1BG-AS1                                   ...                                      \n",
       "A1CF                                       ...                                      \n",
       "A2M                                        ...                                      \n",
       "A2ML1                                      ...                                      \n",
       "\n",
       "          (Tissue:URINARY TRACT, Cell-Line:RT4, Gender:M, Histology:CARCINOMA)  \\\n",
       "index                                                                            \n",
       "A1BG                                                    0.0                      \n",
       "A1BG-AS1                                               -1.0                      \n",
       "A1CF                                                    0.0                      \n",
       "A2M                                                     0.0                      \n",
       "A2ML1                                                   0.0                      \n",
       "\n",
       "          (Tissue:URINARY TRACT, Cell-Line:SCABER, Gender:M, Histology:CARCINOMA)  \\\n",
       "index                                                                               \n",
       "A1BG                                                    0.0                         \n",
       "A1BG-AS1                                                0.0                         \n",
       "A1CF                                                    0.0                         \n",
       "A2M                                                     0.0                         \n",
       "A2ML1                                                   0.0                         \n",
       "\n",
       "          (Tissue:URINARY TRACT, Cell-Line:SW1710, Gender:F, Histology:CARCINOMA)  \\\n",
       "index                                                                               \n",
       "A1BG                                                    0.0                         \n",
       "A1BG-AS1                                                0.0                         \n",
       "A1CF                                                    0.0                         \n",
       "A2M                                                     0.0                         \n",
       "A2ML1                                                   0.0                         \n",
       "\n",
       "          (Tissue:URINARY TRACT, Cell-Line:SW780, Gender:F, Histology:CARCINOMA)  \\\n",
       "index                                                                              \n",
       "A1BG                                                    0.0                        \n",
       "A1BG-AS1                                                0.0                        \n",
       "A1CF                                                    0.0                        \n",
       "A2M                                                     0.0                        \n",
       "A2ML1                                                   0.0                        \n",
       "\n",
       "          (Tissue:URINARY TRACT, Cell-Line:T24, Gender:F, Histology:CARCINOMA)  \\\n",
       "index                                                                            \n",
       "A1BG                                                   -1.0                      \n",
       "A1BG-AS1                                               -1.0                      \n",
       "A1CF                                                    0.0                      \n",
       "A2M                                                     0.0                      \n",
       "A2ML1                                                   0.0                      \n",
       "\n",
       "          (Tissue:URINARY TRACT, Cell-Line:TCCSUP, Gender:F, Histology:CARCINOMA)  \\\n",
       "index                                                                               \n",
       "A1BG                                                    0.0                         \n",
       "A1BG-AS1                                                0.0                         \n",
       "A1CF                                                    0.0                         \n",
       "A2M                                                     1.0                         \n",
       "A2ML1                                                   0.0                         \n",
       "\n",
       "          (Tissue:URINARY TRACT, Cell-Line:UBLC1, Gender:F, Histology:CARCINOMA)  \\\n",
       "index                                                                              \n",
       "A1BG                                                    0.0                        \n",
       "A1BG-AS1                                                0.0                        \n",
       "A1CF                                                    0.0                        \n",
       "A2M                                                     0.0                        \n",
       "A2ML1                                                   0.0                        \n",
       "\n",
       "          (Tissue:URINARY TRACT, Cell-Line:UMUC1, Gender:M, Histology:CARCINOMA)  \\\n",
       "index                                                                              \n",
       "A1BG                                                    0.0                        \n",
       "A1BG-AS1                                                0.0                        \n",
       "A1CF                                                    0.0                        \n",
       "A2M                                                     0.0                        \n",
       "A2ML1                                                   0.0                        \n",
       "\n",
       "          (Tissue:URINARY TRACT, Cell-Line:UMUC3, Gender:M, Histology:CARCINOMA)  \\\n",
       "index                                                                              \n",
       "A1BG                                                    0.0                        \n",
       "A1BG-AS1                                                0.0                        \n",
       "A1CF                                                    0.0                        \n",
       "A2M                                                     0.0                        \n",
       "A2ML1                                                   0.0                        \n",
       "\n",
       "          (Tissue:URINARY TRACT, Cell-Line:VMCUB1, Gender:M, Histology:CARCINOMA)  \n",
       "index                                                                              \n",
       "A1BG                                                    0.0                        \n",
       "A1BG-AS1                                                0.0                        \n",
       "A1CF                                                    0.0                        \n",
       "A2M                                                     0.0                        \n",
       "A2ML1                                                   0.0                        \n",
       "\n",
       "[5 rows x 1036 columns]"
      ]
     },
     "execution_count": 37,
     "metadata": {},
     "output_type": "execute_result"
    }
   ],
   "source": [
    "tertiary_matrix.head()"
   ]
  },
  {
   "cell_type": "markdown",
   "metadata": {},
   "source": [
    "# Save Teriary Matrix"
   ]
  },
  {
   "cell_type": "code",
   "execution_count": 38,
   "metadata": {
    "collapsed": true
   },
   "outputs": [],
   "source": [
    "filename = '~/./Documents/Harmonizome/CCLE/Output/ccle_tertiary_matrix_%s.tsv.zip'% str(datetime.date.today())[0:7].replace('-', '_')\n",
    "tertiary_matrix.to_csv(filename, sep='\\t', compression='gzip')"
   ]
  },
  {
   "cell_type": "markdown",
   "metadata": {},
   "source": [
    "# Create matrix of Standardized values (values between -1, and 1)"
   ]
  },
  {
   "cell_type": "code",
   "execution_count": 39,
   "metadata": {},
   "outputs": [
    {
     "name": "stdout",
     "output_type": "stream",
     "text": [
      "Progeres: 100%  1036 Out of 1036   \r"
     ]
    }
   ],
   "source": [
    "standard_matrix = mf.createStandardizedMatix(normalized_matrix)"
   ]
  },
  {
   "cell_type": "code",
   "execution_count": 40,
   "metadata": {},
   "outputs": [
    {
     "data": {
      "text/html": [
       "<div>\n",
       "<style scoped>\n",
       "    .dataframe tbody tr th:only-of-type {\n",
       "        vertical-align: middle;\n",
       "    }\n",
       "\n",
       "    .dataframe tbody tr th {\n",
       "        vertical-align: top;\n",
       "    }\n",
       "\n",
       "    .dataframe thead th {\n",
       "        text-align: right;\n",
       "    }\n",
       "</style>\n",
       "<table border=\"1\" class=\"dataframe\">\n",
       "  <thead>\n",
       "    <tr style=\"text-align: right;\">\n",
       "      <th></th>\n",
       "      <th>(Tissue:AUTONOMIC GANGLIA, Cell-Line:CHP126, Gender:F, Histology:NEUROBLASTOMA)</th>\n",
       "      <th>(Tissue:AUTONOMIC GANGLIA, Cell-Line:CHP212, Gender:nan, Histology:NEUROBLASTOMA)</th>\n",
       "      <th>(Tissue:AUTONOMIC GANGLIA, Cell-Line:IMR32, Gender:M, Histology:NEUROBLASTOMA)</th>\n",
       "      <th>(Tissue:AUTONOMIC GANGLIA, Cell-Line:KELLY, Gender:nan, Histology:NEUROBLASTOMA)</th>\n",
       "      <th>(Tissue:AUTONOMIC GANGLIA, Cell-Line:KPNRTBM1, Gender:nan, Histology:NEUROBLASTOMA)</th>\n",
       "      <th>(Tissue:AUTONOMIC GANGLIA, Cell-Line:KPNSI9S, Gender:M, Histology:NEUROBLASTOMA)</th>\n",
       "      <th>(Tissue:AUTONOMIC GANGLIA, Cell-Line:KPNYN, Gender:nan, Histology:NEUROBLASTOMA)</th>\n",
       "      <th>(Tissue:AUTONOMIC GANGLIA, Cell-Line:MHHNB11, Gender:M, Histology:NEUROBLASTOMA)</th>\n",
       "      <th>(Tissue:AUTONOMIC GANGLIA, Cell-Line:NB1, Gender:M, Histology:NEUROBLASTOMA)</th>\n",
       "      <th>(Tissue:AUTONOMIC GANGLIA, Cell-Line:NH6, Gender:nan, Histology:NEUROBLASTOMA)</th>\n",
       "      <th>...</th>\n",
       "      <th>(Tissue:URINARY TRACT, Cell-Line:RT4, Gender:M, Histology:CARCINOMA)</th>\n",
       "      <th>(Tissue:URINARY TRACT, Cell-Line:SCABER, Gender:M, Histology:CARCINOMA)</th>\n",
       "      <th>(Tissue:URINARY TRACT, Cell-Line:SW1710, Gender:F, Histology:CARCINOMA)</th>\n",
       "      <th>(Tissue:URINARY TRACT, Cell-Line:SW780, Gender:F, Histology:CARCINOMA)</th>\n",
       "      <th>(Tissue:URINARY TRACT, Cell-Line:T24, Gender:F, Histology:CARCINOMA)</th>\n",
       "      <th>(Tissue:URINARY TRACT, Cell-Line:TCCSUP, Gender:F, Histology:CARCINOMA)</th>\n",
       "      <th>(Tissue:URINARY TRACT, Cell-Line:UBLC1, Gender:F, Histology:CARCINOMA)</th>\n",
       "      <th>(Tissue:URINARY TRACT, Cell-Line:UMUC1, Gender:M, Histology:CARCINOMA)</th>\n",
       "      <th>(Tissue:URINARY TRACT, Cell-Line:UMUC3, Gender:M, Histology:CARCINOMA)</th>\n",
       "      <th>(Tissue:URINARY TRACT, Cell-Line:VMCUB1, Gender:M, Histology:CARCINOMA)</th>\n",
       "    </tr>\n",
       "    <tr>\n",
       "      <th>index</th>\n",
       "      <th></th>\n",
       "      <th></th>\n",
       "      <th></th>\n",
       "      <th></th>\n",
       "      <th></th>\n",
       "      <th></th>\n",
       "      <th></th>\n",
       "      <th></th>\n",
       "      <th></th>\n",
       "      <th></th>\n",
       "      <th></th>\n",
       "      <th></th>\n",
       "      <th></th>\n",
       "      <th></th>\n",
       "      <th></th>\n",
       "      <th></th>\n",
       "      <th></th>\n",
       "      <th></th>\n",
       "      <th></th>\n",
       "      <th></th>\n",
       "      <th></th>\n",
       "    </tr>\n",
       "  </thead>\n",
       "  <tbody>\n",
       "    <tr>\n",
       "      <th>A1BG</th>\n",
       "      <td>0.050696</td>\n",
       "      <td>0.354615</td>\n",
       "      <td>0.511321</td>\n",
       "      <td>0.195524</td>\n",
       "      <td>0.331123</td>\n",
       "      <td>0.770524</td>\n",
       "      <td>0.557341</td>\n",
       "      <td>0.819757</td>\n",
       "      <td>0.754775</td>\n",
       "      <td>0.637942</td>\n",
       "      <td>...</td>\n",
       "      <td>-0.886660</td>\n",
       "      <td>-0.834601</td>\n",
       "      <td>-0.586524</td>\n",
       "      <td>-0.802185</td>\n",
       "      <td>-0.954113</td>\n",
       "      <td>-0.672637</td>\n",
       "      <td>-0.760964</td>\n",
       "      <td>-0.651052</td>\n",
       "      <td>0.068245</td>\n",
       "      <td>-0.906323</td>\n",
       "    </tr>\n",
       "    <tr>\n",
       "      <th>A1BG-AS1</th>\n",
       "      <td>0.203422</td>\n",
       "      <td>0.048974</td>\n",
       "      <td>0.486191</td>\n",
       "      <td>0.649741</td>\n",
       "      <td>-0.129912</td>\n",
       "      <td>0.202945</td>\n",
       "      <td>-0.164089</td>\n",
       "      <td>-0.419983</td>\n",
       "      <td>0.407394</td>\n",
       "      <td>-0.137531</td>\n",
       "      <td>...</td>\n",
       "      <td>-0.971665</td>\n",
       "      <td>0.337510</td>\n",
       "      <td>-0.663602</td>\n",
       "      <td>-0.116545</td>\n",
       "      <td>-0.997899</td>\n",
       "      <td>-0.558472</td>\n",
       "      <td>-0.889577</td>\n",
       "      <td>0.245235</td>\n",
       "      <td>0.553853</td>\n",
       "      <td>-0.808093</td>\n",
       "    </tr>\n",
       "    <tr>\n",
       "      <th>A1CF</th>\n",
       "      <td>-0.247212</td>\n",
       "      <td>-0.188948</td>\n",
       "      <td>-0.350790</td>\n",
       "      <td>-0.459783</td>\n",
       "      <td>-0.326179</td>\n",
       "      <td>-0.316926</td>\n",
       "      <td>-0.103948</td>\n",
       "      <td>-0.431833</td>\n",
       "      <td>-0.524507</td>\n",
       "      <td>-0.254006</td>\n",
       "      <td>...</td>\n",
       "      <td>-0.426934</td>\n",
       "      <td>-0.188119</td>\n",
       "      <td>-0.163956</td>\n",
       "      <td>-0.387097</td>\n",
       "      <td>-0.461300</td>\n",
       "      <td>-0.044369</td>\n",
       "      <td>-0.276794</td>\n",
       "      <td>-0.107181</td>\n",
       "      <td>-0.318083</td>\n",
       "      <td>-0.314922</td>\n",
       "    </tr>\n",
       "    <tr>\n",
       "      <th>A2M</th>\n",
       "      <td>-0.327793</td>\n",
       "      <td>0.818205</td>\n",
       "      <td>-0.469728</td>\n",
       "      <td>-0.182473</td>\n",
       "      <td>-0.281597</td>\n",
       "      <td>0.992499</td>\n",
       "      <td>-0.471282</td>\n",
       "      <td>-0.116547</td>\n",
       "      <td>-0.269573</td>\n",
       "      <td>-0.242399</td>\n",
       "      <td>...</td>\n",
       "      <td>-0.490502</td>\n",
       "      <td>-0.489213</td>\n",
       "      <td>-0.503687</td>\n",
       "      <td>-0.273985</td>\n",
       "      <td>-0.628262</td>\n",
       "      <td>0.985570</td>\n",
       "      <td>-0.117797</td>\n",
       "      <td>-0.447419</td>\n",
       "      <td>-0.204564</td>\n",
       "      <td>-0.118260</td>\n",
       "    </tr>\n",
       "    <tr>\n",
       "      <th>A2ML1</th>\n",
       "      <td>-0.029139</td>\n",
       "      <td>-0.266646</td>\n",
       "      <td>0.009953</td>\n",
       "      <td>-0.569909</td>\n",
       "      <td>-0.289269</td>\n",
       "      <td>-0.282107</td>\n",
       "      <td>-0.139968</td>\n",
       "      <td>-0.568602</td>\n",
       "      <td>0.277634</td>\n",
       "      <td>-0.039544</td>\n",
       "      <td>...</td>\n",
       "      <td>-0.200785</td>\n",
       "      <td>0.244381</td>\n",
       "      <td>-0.320638</td>\n",
       "      <td>-0.030489</td>\n",
       "      <td>0.336428</td>\n",
       "      <td>-0.136092</td>\n",
       "      <td>-0.241495</td>\n",
       "      <td>0.123691</td>\n",
       "      <td>-0.504185</td>\n",
       "      <td>0.008186</td>\n",
       "    </tr>\n",
       "  </tbody>\n",
       "</table>\n",
       "<p>5 rows × 1036 columns</p>\n",
       "</div>"
      ],
      "text/plain": [
       "          (Tissue:AUTONOMIC GANGLIA, Cell-Line:CHP126, Gender:F, Histology:NEUROBLASTOMA)  \\\n",
       "index                                                                                       \n",
       "A1BG                                               0.050696                                 \n",
       "A1BG-AS1                                           0.203422                                 \n",
       "A1CF                                              -0.247212                                 \n",
       "A2M                                               -0.327793                                 \n",
       "A2ML1                                             -0.029139                                 \n",
       "\n",
       "          (Tissue:AUTONOMIC GANGLIA, Cell-Line:CHP212, Gender:nan, Histology:NEUROBLASTOMA)  \\\n",
       "index                                                                                         \n",
       "A1BG                                               0.354615                                   \n",
       "A1BG-AS1                                           0.048974                                   \n",
       "A1CF                                              -0.188948                                   \n",
       "A2M                                                0.818205                                   \n",
       "A2ML1                                             -0.266646                                   \n",
       "\n",
       "          (Tissue:AUTONOMIC GANGLIA, Cell-Line:IMR32, Gender:M, Histology:NEUROBLASTOMA)  \\\n",
       "index                                                                                      \n",
       "A1BG                                               0.511321                                \n",
       "A1BG-AS1                                           0.486191                                \n",
       "A1CF                                              -0.350790                                \n",
       "A2M                                               -0.469728                                \n",
       "A2ML1                                              0.009953                                \n",
       "\n",
       "          (Tissue:AUTONOMIC GANGLIA, Cell-Line:KELLY, Gender:nan, Histology:NEUROBLASTOMA)  \\\n",
       "index                                                                                        \n",
       "A1BG                                               0.195524                                  \n",
       "A1BG-AS1                                           0.649741                                  \n",
       "A1CF                                              -0.459783                                  \n",
       "A2M                                               -0.182473                                  \n",
       "A2ML1                                             -0.569909                                  \n",
       "\n",
       "          (Tissue:AUTONOMIC GANGLIA, Cell-Line:KPNRTBM1, Gender:nan, Histology:NEUROBLASTOMA)  \\\n",
       "index                                                                                           \n",
       "A1BG                                               0.331123                                     \n",
       "A1BG-AS1                                          -0.129912                                     \n",
       "A1CF                                              -0.326179                                     \n",
       "A2M                                               -0.281597                                     \n",
       "A2ML1                                             -0.289269                                     \n",
       "\n",
       "          (Tissue:AUTONOMIC GANGLIA, Cell-Line:KPNSI9S, Gender:M, Histology:NEUROBLASTOMA)  \\\n",
       "index                                                                                        \n",
       "A1BG                                               0.770524                                  \n",
       "A1BG-AS1                                           0.202945                                  \n",
       "A1CF                                              -0.316926                                  \n",
       "A2M                                                0.992499                                  \n",
       "A2ML1                                             -0.282107                                  \n",
       "\n",
       "          (Tissue:AUTONOMIC GANGLIA, Cell-Line:KPNYN, Gender:nan, Histology:NEUROBLASTOMA)  \\\n",
       "index                                                                                        \n",
       "A1BG                                               0.557341                                  \n",
       "A1BG-AS1                                          -0.164089                                  \n",
       "A1CF                                              -0.103948                                  \n",
       "A2M                                               -0.471282                                  \n",
       "A2ML1                                             -0.139968                                  \n",
       "\n",
       "          (Tissue:AUTONOMIC GANGLIA, Cell-Line:MHHNB11, Gender:M, Histology:NEUROBLASTOMA)  \\\n",
       "index                                                                                        \n",
       "A1BG                                               0.819757                                  \n",
       "A1BG-AS1                                          -0.419983                                  \n",
       "A1CF                                              -0.431833                                  \n",
       "A2M                                               -0.116547                                  \n",
       "A2ML1                                             -0.568602                                  \n",
       "\n",
       "          (Tissue:AUTONOMIC GANGLIA, Cell-Line:NB1, Gender:M, Histology:NEUROBLASTOMA)  \\\n",
       "index                                                                                    \n",
       "A1BG                                               0.754775                              \n",
       "A1BG-AS1                                           0.407394                              \n",
       "A1CF                                              -0.524507                              \n",
       "A2M                                               -0.269573                              \n",
       "A2ML1                                              0.277634                              \n",
       "\n",
       "          (Tissue:AUTONOMIC GANGLIA, Cell-Line:NH6, Gender:nan, Histology:NEUROBLASTOMA)  \\\n",
       "index                                                                                      \n",
       "A1BG                                               0.637942                                \n",
       "A1BG-AS1                                          -0.137531                                \n",
       "A1CF                                              -0.254006                                \n",
       "A2M                                               -0.242399                                \n",
       "A2ML1                                             -0.039544                                \n",
       "\n",
       "                                           ...                                     \\\n",
       "index                                      ...                                      \n",
       "A1BG                                       ...                                      \n",
       "A1BG-AS1                                   ...                                      \n",
       "A1CF                                       ...                                      \n",
       "A2M                                        ...                                      \n",
       "A2ML1                                      ...                                      \n",
       "\n",
       "          (Tissue:URINARY TRACT, Cell-Line:RT4, Gender:M, Histology:CARCINOMA)  \\\n",
       "index                                                                            \n",
       "A1BG                                              -0.886660                      \n",
       "A1BG-AS1                                          -0.971665                      \n",
       "A1CF                                              -0.426934                      \n",
       "A2M                                               -0.490502                      \n",
       "A2ML1                                             -0.200785                      \n",
       "\n",
       "          (Tissue:URINARY TRACT, Cell-Line:SCABER, Gender:M, Histology:CARCINOMA)  \\\n",
       "index                                                                               \n",
       "A1BG                                              -0.834601                         \n",
       "A1BG-AS1                                           0.337510                         \n",
       "A1CF                                              -0.188119                         \n",
       "A2M                                               -0.489213                         \n",
       "A2ML1                                              0.244381                         \n",
       "\n",
       "          (Tissue:URINARY TRACT, Cell-Line:SW1710, Gender:F, Histology:CARCINOMA)  \\\n",
       "index                                                                               \n",
       "A1BG                                              -0.586524                         \n",
       "A1BG-AS1                                          -0.663602                         \n",
       "A1CF                                              -0.163956                         \n",
       "A2M                                               -0.503687                         \n",
       "A2ML1                                             -0.320638                         \n",
       "\n",
       "          (Tissue:URINARY TRACT, Cell-Line:SW780, Gender:F, Histology:CARCINOMA)  \\\n",
       "index                                                                              \n",
       "A1BG                                              -0.802185                        \n",
       "A1BG-AS1                                          -0.116545                        \n",
       "A1CF                                              -0.387097                        \n",
       "A2M                                               -0.273985                        \n",
       "A2ML1                                             -0.030489                        \n",
       "\n",
       "          (Tissue:URINARY TRACT, Cell-Line:T24, Gender:F, Histology:CARCINOMA)  \\\n",
       "index                                                                            \n",
       "A1BG                                              -0.954113                      \n",
       "A1BG-AS1                                          -0.997899                      \n",
       "A1CF                                              -0.461300                      \n",
       "A2M                                               -0.628262                      \n",
       "A2ML1                                              0.336428                      \n",
       "\n",
       "          (Tissue:URINARY TRACT, Cell-Line:TCCSUP, Gender:F, Histology:CARCINOMA)  \\\n",
       "index                                                                               \n",
       "A1BG                                              -0.672637                         \n",
       "A1BG-AS1                                          -0.558472                         \n",
       "A1CF                                              -0.044369                         \n",
       "A2M                                                0.985570                         \n",
       "A2ML1                                             -0.136092                         \n",
       "\n",
       "          (Tissue:URINARY TRACT, Cell-Line:UBLC1, Gender:F, Histology:CARCINOMA)  \\\n",
       "index                                                                              \n",
       "A1BG                                              -0.760964                        \n",
       "A1BG-AS1                                          -0.889577                        \n",
       "A1CF                                              -0.276794                        \n",
       "A2M                                               -0.117797                        \n",
       "A2ML1                                             -0.241495                        \n",
       "\n",
       "          (Tissue:URINARY TRACT, Cell-Line:UMUC1, Gender:M, Histology:CARCINOMA)  \\\n",
       "index                                                                              \n",
       "A1BG                                              -0.651052                        \n",
       "A1BG-AS1                                           0.245235                        \n",
       "A1CF                                              -0.107181                        \n",
       "A2M                                               -0.447419                        \n",
       "A2ML1                                              0.123691                        \n",
       "\n",
       "          (Tissue:URINARY TRACT, Cell-Line:UMUC3, Gender:M, Histology:CARCINOMA)  \\\n",
       "index                                                                              \n",
       "A1BG                                               0.068245                        \n",
       "A1BG-AS1                                           0.553853                        \n",
       "A1CF                                              -0.318083                        \n",
       "A2M                                               -0.204564                        \n",
       "A2ML1                                             -0.504185                        \n",
       "\n",
       "          (Tissue:URINARY TRACT, Cell-Line:VMCUB1, Gender:M, Histology:CARCINOMA)  \n",
       "index                                                                              \n",
       "A1BG                                              -0.906323                        \n",
       "A1BG-AS1                                          -0.808093                        \n",
       "A1CF                                              -0.314922                        \n",
       "A2M                                               -0.118260                        \n",
       "A2ML1                                              0.008186                        \n",
       "\n",
       "[5 rows x 1036 columns]"
      ]
     },
     "execution_count": 40,
     "metadata": {},
     "output_type": "execute_result"
    }
   ],
   "source": [
    "standard_matrix.head()"
   ]
  },
  {
   "cell_type": "markdown",
   "metadata": {},
   "source": [
    "# Plot of A Single Celltype, Normalized Value vs. Standardized Value¶"
   ]
  },
  {
   "cell_type": "code",
   "execution_count": 41,
   "metadata": {},
   "outputs": [
    {
     "data": {
      "image/png": "[encoded data removed]",
      "text/plain": [
       "<matplotlib.figure.Figure at 0x11af9cf60>"
      ]
     },
     "metadata": {},
     "output_type": "display_data"
    }
   ],
   "source": [
    "plt.plot(normalized_matrix[normalized_matrix.columns[0]], standard_matrix[standard_matrix.columns[0]], 'bo')\n",
    "plt.xlabel('Normalized Values')\n",
    "plt.ylabel('Standardized Values')\n",
    "plt.title(standard_matrix.columns[0])\n",
    "plt.grid(True)"
   ]
  },
  {
   "cell_type": "markdown",
   "metadata": {},
   "source": [
    "# Save Standardized Matrix"
   ]
  },
  {
   "cell_type": "code",
   "execution_count": 42,
   "metadata": {
    "collapsed": true
   },
   "outputs": [],
   "source": [
    "filename = '~/./Documents/Harmonizome/CCLE/Output/ccle_sample_standard_matrix_%s.tsv.zip'% str(datetime.date.today())[0:7].replace('-', '_')\n",
    "standard_matrix.to_csv(filename, sep='\\t', compression='gzip')"
   ]
  },
  {
   "cell_type": "markdown",
   "metadata": {},
   "source": [
    "# Path to output files¶"
   ]
  },
  {
   "cell_type": "code",
   "execution_count": 43,
   "metadata": {
    "collapsed": true
   },
   "outputs": [],
   "source": [
    "path = '/Users/moshesilverstein/Documents/Harmonizome/CCLE/Output/'"
   ]
  },
  {
   "cell_type": "markdown",
   "metadata": {},
   "source": [
    "# Create Up Gene Set Library"
   ]
  },
  {
   "cell_type": "markdown",
   "metadata": {},
   "source": [
    "Top 500 up expressed genes"
   ]
  },
  {
   "cell_type": "code",
   "execution_count": 44,
   "metadata": {
    "collapsed": true
   },
   "outputs": [],
   "source": [
    "name = 'ccle_gene_up_set'"
   ]
  },
  {
   "cell_type": "code",
   "execution_count": 45,
   "metadata": {},
   "outputs": [
    {
     "name": "stdout",
     "output_type": "stream",
     "text": [
      "Progeres: 100%  1036 Out of 1036   \r"
     ]
    }
   ],
   "source": [
    "mf.createUpGeneSetLib(tertiary_matrix, path, name)"
   ]
  },
  {
   "cell_type": "markdown",
   "metadata": {},
   "source": [
    "# Create Down Gene Set Library"
   ]
  },
  {
   "cell_type": "markdown",
   "metadata": {},
   "source": [
    "Top 500 down expressed genes"
   ]
  },
  {
   "cell_type": "code",
   "execution_count": 46,
   "metadata": {
    "collapsed": true
   },
   "outputs": [],
   "source": [
    "name = 'ccle_gene_down_set'"
   ]
  },
  {
   "cell_type": "code",
   "execution_count": 47,
   "metadata": {},
   "outputs": [
    {
     "name": "stdout",
     "output_type": "stream",
     "text": [
      "Progeres: 100%  1036 Out of 1036   \r"
     ]
    }
   ],
   "source": [
    "mf.createDownGeneSetLib(tertiary_matrix, path, name)"
   ]
  },
  {
   "cell_type": "markdown",
   "metadata": {},
   "source": [
    "# Create Up Attribute Library"
   ]
  },
  {
   "cell_type": "code",
   "execution_count": 48,
   "metadata": {
    "collapsed": true
   },
   "outputs": [],
   "source": [
    "name = 'ccle_attribute_up_set'"
   ]
  },
  {
   "cell_type": "code",
   "execution_count": 49,
   "metadata": {},
   "outputs": [
    {
     "name": "stdout",
     "output_type": "stream",
     "text": [
      "Progeres: 100%  17337 Out of 17337   \r"
     ]
    }
   ],
   "source": [
    "mf.createUpAttributeSetLib(tertiary_matrix, path, name)"
   ]
  },
  {
   "cell_type": "markdown",
   "metadata": {},
   "source": [
    "# Create Down Attribute Library"
   ]
  },
  {
   "cell_type": "code",
   "execution_count": 50,
   "metadata": {
    "collapsed": true
   },
   "outputs": [],
   "source": [
    "name = 'ccle_attribute_down_set'"
   ]
  },
  {
   "cell_type": "code",
   "execution_count": 51,
   "metadata": {},
   "outputs": [
    {
     "name": "stdout",
     "output_type": "stream",
     "text": [
      "Progeres: 100%  17337 Out of 17337   \r"
     ]
    }
   ],
   "source": [
    "mf.createDownAttributeSetLib(tertiary_matrix, path, name)"
   ]
  },
  {
   "cell_type": "markdown",
   "metadata": {},
   "source": [
    "# Create Attribute Similarity matrix"
   ]
  },
  {
   "cell_type": "code",
   "execution_count": 52,
   "metadata": {
    "collapsed": true
   },
   "outputs": [],
   "source": [
    "attribute_similarity_matix = mf.createSimilarityMatrix(normalized_matrix.T, 'cosine')"
   ]
  },
  {
   "cell_type": "code",
   "execution_count": 53,
   "metadata": {},
   "outputs": [
    {
     "data": {
      "text/html": [
       "<div>\n",
       "<style scoped>\n",
       "    .dataframe tbody tr th:only-of-type {\n",
       "        vertical-align: middle;\n",
       "    }\n",
       "\n",
       "    .dataframe tbody tr th {\n",
       "        vertical-align: top;\n",
       "    }\n",
       "\n",
       "    .dataframe thead th {\n",
       "        text-align: right;\n",
       "    }\n",
       "</style>\n",
       "<table border=\"1\" class=\"dataframe\">\n",
       "  <thead>\n",
       "    <tr style=\"text-align: right;\">\n",
       "      <th></th>\n",
       "      <th>(Tissue:AUTONOMIC GANGLIA, Cell-Line:CHP126, Gender:F, Histology:NEUROBLASTOMA)</th>\n",
       "      <th>(Tissue:AUTONOMIC GANGLIA, Cell-Line:CHP212, Gender:nan, Histology:NEUROBLASTOMA)</th>\n",
       "      <th>(Tissue:AUTONOMIC GANGLIA, Cell-Line:IMR32, Gender:M, Histology:NEUROBLASTOMA)</th>\n",
       "      <th>(Tissue:AUTONOMIC GANGLIA, Cell-Line:KELLY, Gender:nan, Histology:NEUROBLASTOMA)</th>\n",
       "      <th>(Tissue:AUTONOMIC GANGLIA, Cell-Line:KPNRTBM1, Gender:nan, Histology:NEUROBLASTOMA)</th>\n",
       "      <th>(Tissue:AUTONOMIC GANGLIA, Cell-Line:KPNSI9S, Gender:M, Histology:NEUROBLASTOMA)</th>\n",
       "      <th>(Tissue:AUTONOMIC GANGLIA, Cell-Line:KPNYN, Gender:nan, Histology:NEUROBLASTOMA)</th>\n",
       "      <th>(Tissue:AUTONOMIC GANGLIA, Cell-Line:MHHNB11, Gender:M, Histology:NEUROBLASTOMA)</th>\n",
       "      <th>(Tissue:AUTONOMIC GANGLIA, Cell-Line:NB1, Gender:M, Histology:NEUROBLASTOMA)</th>\n",
       "      <th>(Tissue:AUTONOMIC GANGLIA, Cell-Line:NH6, Gender:nan, Histology:NEUROBLASTOMA)</th>\n",
       "      <th>...</th>\n",
       "      <th>(Tissue:URINARY TRACT, Cell-Line:RT4, Gender:M, Histology:CARCINOMA)</th>\n",
       "      <th>(Tissue:URINARY TRACT, Cell-Line:SCABER, Gender:M, Histology:CARCINOMA)</th>\n",
       "      <th>(Tissue:URINARY TRACT, Cell-Line:SW1710, Gender:F, Histology:CARCINOMA)</th>\n",
       "      <th>(Tissue:URINARY TRACT, Cell-Line:SW780, Gender:F, Histology:CARCINOMA)</th>\n",
       "      <th>(Tissue:URINARY TRACT, Cell-Line:T24, Gender:F, Histology:CARCINOMA)</th>\n",
       "      <th>(Tissue:URINARY TRACT, Cell-Line:TCCSUP, Gender:F, Histology:CARCINOMA)</th>\n",
       "      <th>(Tissue:URINARY TRACT, Cell-Line:UBLC1, Gender:F, Histology:CARCINOMA)</th>\n",
       "      <th>(Tissue:URINARY TRACT, Cell-Line:UMUC1, Gender:M, Histology:CARCINOMA)</th>\n",
       "      <th>(Tissue:URINARY TRACT, Cell-Line:UMUC3, Gender:M, Histology:CARCINOMA)</th>\n",
       "      <th>(Tissue:URINARY TRACT, Cell-Line:VMCUB1, Gender:M, Histology:CARCINOMA)</th>\n",
       "    </tr>\n",
       "  </thead>\n",
       "  <tbody>\n",
       "    <tr>\n",
       "      <th>(Tissue:AUTONOMIC GANGLIA, Cell-Line:CHP126, Gender:F, Histology:NEUROBLASTOMA)</th>\n",
       "      <td>1.000000</td>\n",
       "      <td>0.331349</td>\n",
       "      <td>0.612660</td>\n",
       "      <td>0.571099</td>\n",
       "      <td>0.694771</td>\n",
       "      <td>0.212375</td>\n",
       "      <td>0.632541</td>\n",
       "      <td>0.490232</td>\n",
       "      <td>0.470622</td>\n",
       "      <td>0.629805</td>\n",
       "      <td>...</td>\n",
       "      <td>-0.086276</td>\n",
       "      <td>-0.248894</td>\n",
       "      <td>-0.006004</td>\n",
       "      <td>-0.110781</td>\n",
       "      <td>-0.128424</td>\n",
       "      <td>-0.041712</td>\n",
       "      <td>-0.040882</td>\n",
       "      <td>-0.140267</td>\n",
       "      <td>-0.020693</td>\n",
       "      <td>-0.106122</td>\n",
       "    </tr>\n",
       "    <tr>\n",
       "      <th>(Tissue:AUTONOMIC GANGLIA, Cell-Line:CHP212, Gender:nan, Histology:NEUROBLASTOMA)</th>\n",
       "      <td>0.331349</td>\n",
       "      <td>1.000000</td>\n",
       "      <td>0.347276</td>\n",
       "      <td>0.326879</td>\n",
       "      <td>0.390673</td>\n",
       "      <td>0.380620</td>\n",
       "      <td>0.347333</td>\n",
       "      <td>0.171329</td>\n",
       "      <td>0.336643</td>\n",
       "      <td>0.404424</td>\n",
       "      <td>...</td>\n",
       "      <td>0.007380</td>\n",
       "      <td>-0.118645</td>\n",
       "      <td>-0.006215</td>\n",
       "      <td>-0.059849</td>\n",
       "      <td>-0.039184</td>\n",
       "      <td>-0.002968</td>\n",
       "      <td>-0.020010</td>\n",
       "      <td>-0.115711</td>\n",
       "      <td>0.035748</td>\n",
       "      <td>-0.091398</td>\n",
       "    </tr>\n",
       "    <tr>\n",
       "      <th>(Tissue:AUTONOMIC GANGLIA, Cell-Line:IMR32, Gender:M, Histology:NEUROBLASTOMA)</th>\n",
       "      <td>0.612660</td>\n",
       "      <td>0.347276</td>\n",
       "      <td>1.000000</td>\n",
       "      <td>0.516548</td>\n",
       "      <td>0.596590</td>\n",
       "      <td>0.184289</td>\n",
       "      <td>0.600418</td>\n",
       "      <td>0.373589</td>\n",
       "      <td>0.484023</td>\n",
       "      <td>0.564340</td>\n",
       "      <td>...</td>\n",
       "      <td>-0.061879</td>\n",
       "      <td>-0.208530</td>\n",
       "      <td>-0.082744</td>\n",
       "      <td>-0.108577</td>\n",
       "      <td>-0.065688</td>\n",
       "      <td>-0.075823</td>\n",
       "      <td>-0.046384</td>\n",
       "      <td>-0.219427</td>\n",
       "      <td>0.021848</td>\n",
       "      <td>-0.138428</td>\n",
       "    </tr>\n",
       "    <tr>\n",
       "      <th>(Tissue:AUTONOMIC GANGLIA, Cell-Line:KELLY, Gender:nan, Histology:NEUROBLASTOMA)</th>\n",
       "      <td>0.571099</td>\n",
       "      <td>0.326879</td>\n",
       "      <td>0.516548</td>\n",
       "      <td>1.000000</td>\n",
       "      <td>0.556232</td>\n",
       "      <td>0.195428</td>\n",
       "      <td>0.567730</td>\n",
       "      <td>0.431946</td>\n",
       "      <td>0.441993</td>\n",
       "      <td>0.528967</td>\n",
       "      <td>...</td>\n",
       "      <td>-0.032801</td>\n",
       "      <td>-0.136573</td>\n",
       "      <td>-0.106956</td>\n",
       "      <td>-0.123391</td>\n",
       "      <td>-0.095945</td>\n",
       "      <td>-0.085474</td>\n",
       "      <td>-0.079780</td>\n",
       "      <td>-0.194125</td>\n",
       "      <td>0.056092</td>\n",
       "      <td>-0.151430</td>\n",
       "    </tr>\n",
       "    <tr>\n",
       "      <th>(Tissue:AUTONOMIC GANGLIA, Cell-Line:KPNRTBM1, Gender:nan, Histology:NEUROBLASTOMA)</th>\n",
       "      <td>0.694771</td>\n",
       "      <td>0.390673</td>\n",
       "      <td>0.596590</td>\n",
       "      <td>0.556232</td>\n",
       "      <td>1.000000</td>\n",
       "      <td>0.199291</td>\n",
       "      <td>0.736222</td>\n",
       "      <td>0.487150</td>\n",
       "      <td>0.489208</td>\n",
       "      <td>0.747082</td>\n",
       "      <td>...</td>\n",
       "      <td>-0.067379</td>\n",
       "      <td>-0.255871</td>\n",
       "      <td>-0.010779</td>\n",
       "      <td>-0.062794</td>\n",
       "      <td>-0.092840</td>\n",
       "      <td>-0.036653</td>\n",
       "      <td>-0.044845</td>\n",
       "      <td>-0.167604</td>\n",
       "      <td>0.018944</td>\n",
       "      <td>-0.112552</td>\n",
       "    </tr>\n",
       "  </tbody>\n",
       "</table>\n",
       "<p>5 rows × 1036 columns</p>\n",
       "</div>"
      ],
      "text/plain": [
       "                                                    (Tissue:AUTONOMIC GANGLIA, Cell-Line:CHP126, Gender:F, Histology:NEUROBLASTOMA)  \\\n",
       "(Tissue:AUTONOMIC GANGLIA, Cell-Line:CHP126, Ge...                                           1.000000                                 \n",
       "(Tissue:AUTONOMIC GANGLIA, Cell-Line:CHP212, Ge...                                           0.331349                                 \n",
       "(Tissue:AUTONOMIC GANGLIA, Cell-Line:IMR32, Gen...                                           0.612660                                 \n",
       "(Tissue:AUTONOMIC GANGLIA, Cell-Line:KELLY, Gen...                                           0.571099                                 \n",
       "(Tissue:AUTONOMIC GANGLIA, Cell-Line:KPNRTBM1, ...                                           0.694771                                 \n",
       "\n",
       "                                                    (Tissue:AUTONOMIC GANGLIA, Cell-Line:CHP212, Gender:nan, Histology:NEUROBLASTOMA)  \\\n",
       "(Tissue:AUTONOMIC GANGLIA, Cell-Line:CHP126, Ge...                                           0.331349                                   \n",
       "(Tissue:AUTONOMIC GANGLIA, Cell-Line:CHP212, Ge...                                           1.000000                                   \n",
       "(Tissue:AUTONOMIC GANGLIA, Cell-Line:IMR32, Gen...                                           0.347276                                   \n",
       "(Tissue:AUTONOMIC GANGLIA, Cell-Line:KELLY, Gen...                                           0.326879                                   \n",
       "(Tissue:AUTONOMIC GANGLIA, Cell-Line:KPNRTBM1, ...                                           0.390673                                   \n",
       "\n",
       "                                                    (Tissue:AUTONOMIC GANGLIA, Cell-Line:IMR32, Gender:M, Histology:NEUROBLASTOMA)  \\\n",
       "(Tissue:AUTONOMIC GANGLIA, Cell-Line:CHP126, Ge...                                           0.612660                                \n",
       "(Tissue:AUTONOMIC GANGLIA, Cell-Line:CHP212, Ge...                                           0.347276                                \n",
       "(Tissue:AUTONOMIC GANGLIA, Cell-Line:IMR32, Gen...                                           1.000000                                \n",
       "(Tissue:AUTONOMIC GANGLIA, Cell-Line:KELLY, Gen...                                           0.516548                                \n",
       "(Tissue:AUTONOMIC GANGLIA, Cell-Line:KPNRTBM1, ...                                           0.596590                                \n",
       "\n",
       "                                                    (Tissue:AUTONOMIC GANGLIA, Cell-Line:KELLY, Gender:nan, Histology:NEUROBLASTOMA)  \\\n",
       "(Tissue:AUTONOMIC GANGLIA, Cell-Line:CHP126, Ge...                                           0.571099                                  \n",
       "(Tissue:AUTONOMIC GANGLIA, Cell-Line:CHP212, Ge...                                           0.326879                                  \n",
       "(Tissue:AUTONOMIC GANGLIA, Cell-Line:IMR32, Gen...                                           0.516548                                  \n",
       "(Tissue:AUTONOMIC GANGLIA, Cell-Line:KELLY, Gen...                                           1.000000                                  \n",
       "(Tissue:AUTONOMIC GANGLIA, Cell-Line:KPNRTBM1, ...                                           0.556232                                  \n",
       "\n",
       "                                                    (Tissue:AUTONOMIC GANGLIA, Cell-Line:KPNRTBM1, Gender:nan, Histology:NEUROBLASTOMA)  \\\n",
       "(Tissue:AUTONOMIC GANGLIA, Cell-Line:CHP126, Ge...                                           0.694771                                     \n",
       "(Tissue:AUTONOMIC GANGLIA, Cell-Line:CHP212, Ge...                                           0.390673                                     \n",
       "(Tissue:AUTONOMIC GANGLIA, Cell-Line:IMR32, Gen...                                           0.596590                                     \n",
       "(Tissue:AUTONOMIC GANGLIA, Cell-Line:KELLY, Gen...                                           0.556232                                     \n",
       "(Tissue:AUTONOMIC GANGLIA, Cell-Line:KPNRTBM1, ...                                           1.000000                                     \n",
       "\n",
       "                                                    (Tissue:AUTONOMIC GANGLIA, Cell-Line:KPNSI9S, Gender:M, Histology:NEUROBLASTOMA)  \\\n",
       "(Tissue:AUTONOMIC GANGLIA, Cell-Line:CHP126, Ge...                                           0.212375                                  \n",
       "(Tissue:AUTONOMIC GANGLIA, Cell-Line:CHP212, Ge...                                           0.380620                                  \n",
       "(Tissue:AUTONOMIC GANGLIA, Cell-Line:IMR32, Gen...                                           0.184289                                  \n",
       "(Tissue:AUTONOMIC GANGLIA, Cell-Line:KELLY, Gen...                                           0.195428                                  \n",
       "(Tissue:AUTONOMIC GANGLIA, Cell-Line:KPNRTBM1, ...                                           0.199291                                  \n",
       "\n",
       "                                                    (Tissue:AUTONOMIC GANGLIA, Cell-Line:KPNYN, Gender:nan, Histology:NEUROBLASTOMA)  \\\n",
       "(Tissue:AUTONOMIC GANGLIA, Cell-Line:CHP126, Ge...                                           0.632541                                  \n",
       "(Tissue:AUTONOMIC GANGLIA, Cell-Line:CHP212, Ge...                                           0.347333                                  \n",
       "(Tissue:AUTONOMIC GANGLIA, Cell-Line:IMR32, Gen...                                           0.600418                                  \n",
       "(Tissue:AUTONOMIC GANGLIA, Cell-Line:KELLY, Gen...                                           0.567730                                  \n",
       "(Tissue:AUTONOMIC GANGLIA, Cell-Line:KPNRTBM1, ...                                           0.736222                                  \n",
       "\n",
       "                                                    (Tissue:AUTONOMIC GANGLIA, Cell-Line:MHHNB11, Gender:M, Histology:NEUROBLASTOMA)  \\\n",
       "(Tissue:AUTONOMIC GANGLIA, Cell-Line:CHP126, Ge...                                           0.490232                                  \n",
       "(Tissue:AUTONOMIC GANGLIA, Cell-Line:CHP212, Ge...                                           0.171329                                  \n",
       "(Tissue:AUTONOMIC GANGLIA, Cell-Line:IMR32, Gen...                                           0.373589                                  \n",
       "(Tissue:AUTONOMIC GANGLIA, Cell-Line:KELLY, Gen...                                           0.431946                                  \n",
       "(Tissue:AUTONOMIC GANGLIA, Cell-Line:KPNRTBM1, ...                                           0.487150                                  \n",
       "\n",
       "                                                    (Tissue:AUTONOMIC GANGLIA, Cell-Line:NB1, Gender:M, Histology:NEUROBLASTOMA)  \\\n",
       "(Tissue:AUTONOMIC GANGLIA, Cell-Line:CHP126, Ge...                                           0.470622                              \n",
       "(Tissue:AUTONOMIC GANGLIA, Cell-Line:CHP212, Ge...                                           0.336643                              \n",
       "(Tissue:AUTONOMIC GANGLIA, Cell-Line:IMR32, Gen...                                           0.484023                              \n",
       "(Tissue:AUTONOMIC GANGLIA, Cell-Line:KELLY, Gen...                                           0.441993                              \n",
       "(Tissue:AUTONOMIC GANGLIA, Cell-Line:KPNRTBM1, ...                                           0.489208                              \n",
       "\n",
       "                                                    (Tissue:AUTONOMIC GANGLIA, Cell-Line:NH6, Gender:nan, Histology:NEUROBLASTOMA)  \\\n",
       "(Tissue:AUTONOMIC GANGLIA, Cell-Line:CHP126, Ge...                                           0.629805                                \n",
       "(Tissue:AUTONOMIC GANGLIA, Cell-Line:CHP212, Ge...                                           0.404424                                \n",
       "(Tissue:AUTONOMIC GANGLIA, Cell-Line:IMR32, Gen...                                           0.564340                                \n",
       "(Tissue:AUTONOMIC GANGLIA, Cell-Line:KELLY, Gen...                                           0.528967                                \n",
       "(Tissue:AUTONOMIC GANGLIA, Cell-Line:KPNRTBM1, ...                                           0.747082                                \n",
       "\n",
       "                                                                                     ...                                     \\\n",
       "(Tissue:AUTONOMIC GANGLIA, Cell-Line:CHP126, Ge...                                   ...                                      \n",
       "(Tissue:AUTONOMIC GANGLIA, Cell-Line:CHP212, Ge...                                   ...                                      \n",
       "(Tissue:AUTONOMIC GANGLIA, Cell-Line:IMR32, Gen...                                   ...                                      \n",
       "(Tissue:AUTONOMIC GANGLIA, Cell-Line:KELLY, Gen...                                   ...                                      \n",
       "(Tissue:AUTONOMIC GANGLIA, Cell-Line:KPNRTBM1, ...                                   ...                                      \n",
       "\n",
       "                                                    (Tissue:URINARY TRACT, Cell-Line:RT4, Gender:M, Histology:CARCINOMA)  \\\n",
       "(Tissue:AUTONOMIC GANGLIA, Cell-Line:CHP126, Ge...                                          -0.086276                      \n",
       "(Tissue:AUTONOMIC GANGLIA, Cell-Line:CHP212, Ge...                                           0.007380                      \n",
       "(Tissue:AUTONOMIC GANGLIA, Cell-Line:IMR32, Gen...                                          -0.061879                      \n",
       "(Tissue:AUTONOMIC GANGLIA, Cell-Line:KELLY, Gen...                                          -0.032801                      \n",
       "(Tissue:AUTONOMIC GANGLIA, Cell-Line:KPNRTBM1, ...                                          -0.067379                      \n",
       "\n",
       "                                                    (Tissue:URINARY TRACT, Cell-Line:SCABER, Gender:M, Histology:CARCINOMA)  \\\n",
       "(Tissue:AUTONOMIC GANGLIA, Cell-Line:CHP126, Ge...                                          -0.248894                         \n",
       "(Tissue:AUTONOMIC GANGLIA, Cell-Line:CHP212, Ge...                                          -0.118645                         \n",
       "(Tissue:AUTONOMIC GANGLIA, Cell-Line:IMR32, Gen...                                          -0.208530                         \n",
       "(Tissue:AUTONOMIC GANGLIA, Cell-Line:KELLY, Gen...                                          -0.136573                         \n",
       "(Tissue:AUTONOMIC GANGLIA, Cell-Line:KPNRTBM1, ...                                          -0.255871                         \n",
       "\n",
       "                                                    (Tissue:URINARY TRACT, Cell-Line:SW1710, Gender:F, Histology:CARCINOMA)  \\\n",
       "(Tissue:AUTONOMIC GANGLIA, Cell-Line:CHP126, Ge...                                          -0.006004                         \n",
       "(Tissue:AUTONOMIC GANGLIA, Cell-Line:CHP212, Ge...                                          -0.006215                         \n",
       "(Tissue:AUTONOMIC GANGLIA, Cell-Line:IMR32, Gen...                                          -0.082744                         \n",
       "(Tissue:AUTONOMIC GANGLIA, Cell-Line:KELLY, Gen...                                          -0.106956                         \n",
       "(Tissue:AUTONOMIC GANGLIA, Cell-Line:KPNRTBM1, ...                                          -0.010779                         \n",
       "\n",
       "                                                    (Tissue:URINARY TRACT, Cell-Line:SW780, Gender:F, Histology:CARCINOMA)  \\\n",
       "(Tissue:AUTONOMIC GANGLIA, Cell-Line:CHP126, Ge...                                          -0.110781                        \n",
       "(Tissue:AUTONOMIC GANGLIA, Cell-Line:CHP212, Ge...                                          -0.059849                        \n",
       "(Tissue:AUTONOMIC GANGLIA, Cell-Line:IMR32, Gen...                                          -0.108577                        \n",
       "(Tissue:AUTONOMIC GANGLIA, Cell-Line:KELLY, Gen...                                          -0.123391                        \n",
       "(Tissue:AUTONOMIC GANGLIA, Cell-Line:KPNRTBM1, ...                                          -0.062794                        \n",
       "\n",
       "                                                    (Tissue:URINARY TRACT, Cell-Line:T24, Gender:F, Histology:CARCINOMA)  \\\n",
       "(Tissue:AUTONOMIC GANGLIA, Cell-Line:CHP126, Ge...                                          -0.128424                      \n",
       "(Tissue:AUTONOMIC GANGLIA, Cell-Line:CHP212, Ge...                                          -0.039184                      \n",
       "(Tissue:AUTONOMIC GANGLIA, Cell-Line:IMR32, Gen...                                          -0.065688                      \n",
       "(Tissue:AUTONOMIC GANGLIA, Cell-Line:KELLY, Gen...                                          -0.095945                      \n",
       "(Tissue:AUTONOMIC GANGLIA, Cell-Line:KPNRTBM1, ...                                          -0.092840                      \n",
       "\n",
       "                                                    (Tissue:URINARY TRACT, Cell-Line:TCCSUP, Gender:F, Histology:CARCINOMA)  \\\n",
       "(Tissue:AUTONOMIC GANGLIA, Cell-Line:CHP126, Ge...                                          -0.041712                         \n",
       "(Tissue:AUTONOMIC GANGLIA, Cell-Line:CHP212, Ge...                                          -0.002968                         \n",
       "(Tissue:AUTONOMIC GANGLIA, Cell-Line:IMR32, Gen...                                          -0.075823                         \n",
       "(Tissue:AUTONOMIC GANGLIA, Cell-Line:KELLY, Gen...                                          -0.085474                         \n",
       "(Tissue:AUTONOMIC GANGLIA, Cell-Line:KPNRTBM1, ...                                          -0.036653                         \n",
       "\n",
       "                                                    (Tissue:URINARY TRACT, Cell-Line:UBLC1, Gender:F, Histology:CARCINOMA)  \\\n",
       "(Tissue:AUTONOMIC GANGLIA, Cell-Line:CHP126, Ge...                                          -0.040882                        \n",
       "(Tissue:AUTONOMIC GANGLIA, Cell-Line:CHP212, Ge...                                          -0.020010                        \n",
       "(Tissue:AUTONOMIC GANGLIA, Cell-Line:IMR32, Gen...                                          -0.046384                        \n",
       "(Tissue:AUTONOMIC GANGLIA, Cell-Line:KELLY, Gen...                                          -0.079780                        \n",
       "(Tissue:AUTONOMIC GANGLIA, Cell-Line:KPNRTBM1, ...                                          -0.044845                        \n",
       "\n",
       "                                                    (Tissue:URINARY TRACT, Cell-Line:UMUC1, Gender:M, Histology:CARCINOMA)  \\\n",
       "(Tissue:AUTONOMIC GANGLIA, Cell-Line:CHP126, Ge...                                          -0.140267                        \n",
       "(Tissue:AUTONOMIC GANGLIA, Cell-Line:CHP212, Ge...                                          -0.115711                        \n",
       "(Tissue:AUTONOMIC GANGLIA, Cell-Line:IMR32, Gen...                                          -0.219427                        \n",
       "(Tissue:AUTONOMIC GANGLIA, Cell-Line:KELLY, Gen...                                          -0.194125                        \n",
       "(Tissue:AUTONOMIC GANGLIA, Cell-Line:KPNRTBM1, ...                                          -0.167604                        \n",
       "\n",
       "                                                    (Tissue:URINARY TRACT, Cell-Line:UMUC3, Gender:M, Histology:CARCINOMA)  \\\n",
       "(Tissue:AUTONOMIC GANGLIA, Cell-Line:CHP126, Ge...                                          -0.020693                        \n",
       "(Tissue:AUTONOMIC GANGLIA, Cell-Line:CHP212, Ge...                                           0.035748                        \n",
       "(Tissue:AUTONOMIC GANGLIA, Cell-Line:IMR32, Gen...                                           0.021848                        \n",
       "(Tissue:AUTONOMIC GANGLIA, Cell-Line:KELLY, Gen...                                           0.056092                        \n",
       "(Tissue:AUTONOMIC GANGLIA, Cell-Line:KPNRTBM1, ...                                           0.018944                        \n",
       "\n",
       "                                                    (Tissue:URINARY TRACT, Cell-Line:VMCUB1, Gender:M, Histology:CARCINOMA)  \n",
       "(Tissue:AUTONOMIC GANGLIA, Cell-Line:CHP126, Ge...                                          -0.106122                        \n",
       "(Tissue:AUTONOMIC GANGLIA, Cell-Line:CHP212, Ge...                                          -0.091398                        \n",
       "(Tissue:AUTONOMIC GANGLIA, Cell-Line:IMR32, Gen...                                          -0.138428                        \n",
       "(Tissue:AUTONOMIC GANGLIA, Cell-Line:KELLY, Gen...                                          -0.151430                        \n",
       "(Tissue:AUTONOMIC GANGLIA, Cell-Line:KPNRTBM1, ...                                          -0.112552                        \n",
       "\n",
       "[5 rows x 1036 columns]"
      ]
     },
     "execution_count": 53,
     "metadata": {},
     "output_type": "execute_result"
    }
   ],
   "source": [
    "attribute_similarity_matix.head()"
   ]
  },
  {
   "cell_type": "markdown",
   "metadata": {},
   "source": [
    "# HeatMap (clustergrammer) of Attribute Similarity Matrix"
   ]
  },
  {
   "cell_type": "code",
   "execution_count": 54,
   "metadata": {},
   "outputs": [
    {
     "name": "stderr",
     "output_type": "stream",
     "text": [
      "Widget Javascript not detected.  It may not be installed or enabled properly.\n"
     ]
    },
    {
     "data": {
      "application/vnd.jupyter.widget-view+json": {
       "model_id": "06ffacfda57b48d38d1e113634b122b3"
      }
     },
     "metadata": {},
     "output_type": "display_data"
    }
   ],
   "source": [
    "net.load_df(attribute_similarity_matix.iloc[:100,:100].copy())\n",
    "# net.filter_N_top('row', rank_type='sum', N_top=50)\n",
    "net.cluster()\n",
    "net.widget()"
   ]
  },
  {
   "cell_type": "markdown",
   "metadata": {},
   "source": [
    "# Save Attribute Similarity Matrix"
   ]
  },
  {
   "cell_type": "code",
   "execution_count": 55,
   "metadata": {
    "collapsed": true
   },
   "outputs": [],
   "source": [
    "filename = '~/./Documents/Harmonizome/CCLE/Output/ccle_attribute_similarity_matix_%s.tsv.zip'% str(datetime.date.today())[0:7].replace('-', '_')\n",
    "attribute_similarity_matix.to_csv(filename, sep='\\t', compression='gzip')"
   ]
  },
  {
   "cell_type": "markdown",
   "metadata": {},
   "source": [
    "# Create Gene Similarity Matrix"
   ]
  },
  {
   "cell_type": "code",
   "execution_count": 56,
   "metadata": {
    "collapsed": true
   },
   "outputs": [],
   "source": [
    "gene_similarity_matix = mf.createSimilarityMatrix(normalized_matrix, 'cosine')"
   ]
  },
  {
   "cell_type": "code",
   "execution_count": 57,
   "metadata": {},
   "outputs": [
    {
     "data": {
      "text/html": [
       "<div>\n",
       "<style scoped>\n",
       "    .dataframe tbody tr th:only-of-type {\n",
       "        vertical-align: middle;\n",
       "    }\n",
       "\n",
       "    .dataframe tbody tr th {\n",
       "        vertical-align: top;\n",
       "    }\n",
       "\n",
       "    .dataframe thead th {\n",
       "        text-align: right;\n",
       "    }\n",
       "</style>\n",
       "<table border=\"1\" class=\"dataframe\">\n",
       "  <thead>\n",
       "    <tr style=\"text-align: right;\">\n",
       "      <th>index</th>\n",
       "      <th>A1BG</th>\n",
       "      <th>A1BG-AS1</th>\n",
       "      <th>A1CF</th>\n",
       "      <th>A2M</th>\n",
       "      <th>A2ML1</th>\n",
       "      <th>A4GALT</th>\n",
       "      <th>A4GNT</th>\n",
       "      <th>AAAS</th>\n",
       "      <th>AACS</th>\n",
       "      <th>AACSP1</th>\n",
       "      <th>...</th>\n",
       "      <th>ZWILCH</th>\n",
       "      <th>ZWINT</th>\n",
       "      <th>ZXDA</th>\n",
       "      <th>ZXDB</th>\n",
       "      <th>ZXDC</th>\n",
       "      <th>ZYG11A</th>\n",
       "      <th>ZYG11B</th>\n",
       "      <th>ZYX</th>\n",
       "      <th>ZZEF1</th>\n",
       "      <th>ZZZ3</th>\n",
       "    </tr>\n",
       "    <tr>\n",
       "      <th>index</th>\n",
       "      <th></th>\n",
       "      <th></th>\n",
       "      <th></th>\n",
       "      <th></th>\n",
       "      <th></th>\n",
       "      <th></th>\n",
       "      <th></th>\n",
       "      <th></th>\n",
       "      <th></th>\n",
       "      <th></th>\n",
       "      <th></th>\n",
       "      <th></th>\n",
       "      <th></th>\n",
       "      <th></th>\n",
       "      <th></th>\n",
       "      <th></th>\n",
       "      <th></th>\n",
       "      <th></th>\n",
       "      <th></th>\n",
       "      <th></th>\n",
       "      <th></th>\n",
       "    </tr>\n",
       "  </thead>\n",
       "  <tbody>\n",
       "    <tr>\n",
       "      <th>A1BG</th>\n",
       "      <td>1.000000</td>\n",
       "      <td>0.596851</td>\n",
       "      <td>-0.243931</td>\n",
       "      <td>0.189987</td>\n",
       "      <td>-0.166880</td>\n",
       "      <td>-0.128301</td>\n",
       "      <td>-0.034042</td>\n",
       "      <td>0.007837</td>\n",
       "      <td>-0.161146</td>\n",
       "      <td>0.029964</td>\n",
       "      <td>...</td>\n",
       "      <td>-0.001704</td>\n",
       "      <td>-0.031726</td>\n",
       "      <td>0.067513</td>\n",
       "      <td>-0.010867</td>\n",
       "      <td>0.055228</td>\n",
       "      <td>0.126723</td>\n",
       "      <td>0.272440</td>\n",
       "      <td>-0.081220</td>\n",
       "      <td>0.123122</td>\n",
       "      <td>-0.013082</td>\n",
       "    </tr>\n",
       "    <tr>\n",
       "      <th>A1BG-AS1</th>\n",
       "      <td>0.596851</td>\n",
       "      <td>1.000000</td>\n",
       "      <td>-0.176698</td>\n",
       "      <td>0.156808</td>\n",
       "      <td>-0.080779</td>\n",
       "      <td>0.052316</td>\n",
       "      <td>-0.067747</td>\n",
       "      <td>-0.051585</td>\n",
       "      <td>-0.080567</td>\n",
       "      <td>-0.001154</td>\n",
       "      <td>...</td>\n",
       "      <td>-0.057162</td>\n",
       "      <td>-0.006485</td>\n",
       "      <td>-0.003639</td>\n",
       "      <td>-0.036441</td>\n",
       "      <td>-0.047775</td>\n",
       "      <td>0.106721</td>\n",
       "      <td>0.154773</td>\n",
       "      <td>-0.022569</td>\n",
       "      <td>0.109399</td>\n",
       "      <td>-0.009966</td>\n",
       "    </tr>\n",
       "    <tr>\n",
       "      <th>A1CF</th>\n",
       "      <td>-0.243931</td>\n",
       "      <td>-0.176698</td>\n",
       "      <td>1.000000</td>\n",
       "      <td>0.100369</td>\n",
       "      <td>-0.039706</td>\n",
       "      <td>-0.050114</td>\n",
       "      <td>-0.008956</td>\n",
       "      <td>0.110677</td>\n",
       "      <td>0.206441</td>\n",
       "      <td>0.007335</td>\n",
       "      <td>...</td>\n",
       "      <td>-0.037952</td>\n",
       "      <td>-0.022905</td>\n",
       "      <td>-0.113184</td>\n",
       "      <td>0.016149</td>\n",
       "      <td>-0.028504</td>\n",
       "      <td>-0.084513</td>\n",
       "      <td>-0.175273</td>\n",
       "      <td>-0.014728</td>\n",
       "      <td>-0.097254</td>\n",
       "      <td>-0.086147</td>\n",
       "    </tr>\n",
       "    <tr>\n",
       "      <th>A2M</th>\n",
       "      <td>0.189987</td>\n",
       "      <td>0.156808</td>\n",
       "      <td>0.100369</td>\n",
       "      <td>1.000000</td>\n",
       "      <td>-0.075798</td>\n",
       "      <td>-0.052986</td>\n",
       "      <td>-0.049071</td>\n",
       "      <td>-0.039809</td>\n",
       "      <td>-0.022533</td>\n",
       "      <td>-0.020581</td>\n",
       "      <td>...</td>\n",
       "      <td>-0.032750</td>\n",
       "      <td>-0.111824</td>\n",
       "      <td>-0.089930</td>\n",
       "      <td>-0.090369</td>\n",
       "      <td>-0.146994</td>\n",
       "      <td>-0.105087</td>\n",
       "      <td>0.145424</td>\n",
       "      <td>0.179349</td>\n",
       "      <td>-0.018438</td>\n",
       "      <td>-0.010643</td>\n",
       "    </tr>\n",
       "    <tr>\n",
       "      <th>A2ML1</th>\n",
       "      <td>-0.166880</td>\n",
       "      <td>-0.080779</td>\n",
       "      <td>-0.039706</td>\n",
       "      <td>-0.075798</td>\n",
       "      <td>1.000000</td>\n",
       "      <td>0.242454</td>\n",
       "      <td>0.112144</td>\n",
       "      <td>-0.024019</td>\n",
       "      <td>0.058975</td>\n",
       "      <td>-0.034723</td>\n",
       "      <td>...</td>\n",
       "      <td>-0.079342</td>\n",
       "      <td>-0.064512</td>\n",
       "      <td>-0.087489</td>\n",
       "      <td>-0.043181</td>\n",
       "      <td>-0.058163</td>\n",
       "      <td>-0.065240</td>\n",
       "      <td>-0.074898</td>\n",
       "      <td>0.018393</td>\n",
       "      <td>-0.089842</td>\n",
       "      <td>-0.049234</td>\n",
       "    </tr>\n",
       "  </tbody>\n",
       "</table>\n",
       "<p>5 rows × 17337 columns</p>\n",
       "</div>"
      ],
      "text/plain": [
       "index         A1BG  A1BG-AS1      A1CF       A2M     A2ML1    A4GALT  \\\n",
       "index                                                                  \n",
       "A1BG      1.000000  0.596851 -0.243931  0.189987 -0.166880 -0.128301   \n",
       "A1BG-AS1  0.596851  1.000000 -0.176698  0.156808 -0.080779  0.052316   \n",
       "A1CF     -0.243931 -0.176698  1.000000  0.100369 -0.039706 -0.050114   \n",
       "A2M       0.189987  0.156808  0.100369  1.000000 -0.075798 -0.052986   \n",
       "A2ML1    -0.166880 -0.080779 -0.039706 -0.075798  1.000000  0.242454   \n",
       "\n",
       "index        A4GNT      AAAS      AACS    AACSP1    ...       ZWILCH  \\\n",
       "index                                               ...                \n",
       "A1BG     -0.034042  0.007837 -0.161146  0.029964    ...    -0.001704   \n",
       "A1BG-AS1 -0.067747 -0.051585 -0.080567 -0.001154    ...    -0.057162   \n",
       "A1CF     -0.008956  0.110677  0.206441  0.007335    ...    -0.037952   \n",
       "A2M      -0.049071 -0.039809 -0.022533 -0.020581    ...    -0.032750   \n",
       "A2ML1     0.112144 -0.024019  0.058975 -0.034723    ...    -0.079342   \n",
       "\n",
       "index        ZWINT      ZXDA      ZXDB      ZXDC    ZYG11A    ZYG11B  \\\n",
       "index                                                                  \n",
       "A1BG     -0.031726  0.067513 -0.010867  0.055228  0.126723  0.272440   \n",
       "A1BG-AS1 -0.006485 -0.003639 -0.036441 -0.047775  0.106721  0.154773   \n",
       "A1CF     -0.022905 -0.113184  0.016149 -0.028504 -0.084513 -0.175273   \n",
       "A2M      -0.111824 -0.089930 -0.090369 -0.146994 -0.105087  0.145424   \n",
       "A2ML1    -0.064512 -0.087489 -0.043181 -0.058163 -0.065240 -0.074898   \n",
       "\n",
       "index          ZYX     ZZEF1      ZZZ3  \n",
       "index                                   \n",
       "A1BG     -0.081220  0.123122 -0.013082  \n",
       "A1BG-AS1 -0.022569  0.109399 -0.009966  \n",
       "A1CF     -0.014728 -0.097254 -0.086147  \n",
       "A2M       0.179349 -0.018438 -0.010643  \n",
       "A2ML1     0.018393 -0.089842 -0.049234  \n",
       "\n",
       "[5 rows x 17337 columns]"
      ]
     },
     "execution_count": 57,
     "metadata": {},
     "output_type": "execute_result"
    }
   ],
   "source": [
    "gene_similarity_matix.head()"
   ]
  },
  {
   "cell_type": "markdown",
   "metadata": {},
   "source": [
    "# HeatMap (clustergrammer) of Gene Similarity Matrix"
   ]
  },
  {
   "cell_type": "code",
   "execution_count": 58,
   "metadata": {},
   "outputs": [
    {
     "name": "stderr",
     "output_type": "stream",
     "text": [
      "Widget Javascript not detected.  It may not be installed or enabled properly.\n"
     ]
    },
    {
     "data": {
      "application/vnd.jupyter.widget-view+json": {
       "model_id": "18cce76cb0ff422fabf037d112ce942b"
      }
     },
     "metadata": {},
     "output_type": "display_data"
    }
   ],
   "source": [
    "net.load_df(gene_similarity_matix.iloc[:50,:50].copy())\n",
    "# net.filter_N_top('row', rank_type='sum', N_top=50)\n",
    "net.cluster()\n",
    "net.widget()"
   ]
  },
  {
   "cell_type": "markdown",
   "metadata": {},
   "source": [
    "# Save Gene Similarity Matrix"
   ]
  },
  {
   "cell_type": "code",
   "execution_count": 59,
   "metadata": {
    "collapsed": true
   },
   "outputs": [],
   "source": [
    "filename = '~/./Documents/Harmonizome/CCLE/Output/ccle_gene_similarity_matix_%s.tsv.zip'% str(datetime.date.today())[0:7].replace('-', '_')\n",
    "gene_similarity_matix.to_csv(filename, sep='\\t', compression='gzip')"
   ]
  },
  {
   "cell_type": "markdown",
   "metadata": {},
   "source": [
    "# Create Gene List"
   ]
  },
  {
   "cell_type": "code",
   "execution_count": 60,
   "metadata": {},
   "outputs": [
    {
     "name": "stdout",
     "output_type": "stream",
     "text": [
      "Progeres: 100%  17337 Out of 17337   \r"
     ]
    }
   ],
   "source": [
    "gene_list = mf.createGeneList(normalized_matrix)"
   ]
  },
  {
   "cell_type": "code",
   "execution_count": 61,
   "metadata": {},
   "outputs": [
    {
     "data": {
      "text/html": [
       "<div>\n",
       "<style scoped>\n",
       "    .dataframe tbody tr th:only-of-type {\n",
       "        vertical-align: middle;\n",
       "    }\n",
       "\n",
       "    .dataframe tbody tr th {\n",
       "        vertical-align: top;\n",
       "    }\n",
       "\n",
       "    .dataframe thead th {\n",
       "        text-align: right;\n",
       "    }\n",
       "</style>\n",
       "<table border=\"1\" class=\"dataframe\">\n",
       "  <thead>\n",
       "    <tr style=\"text-align: right;\">\n",
       "      <th></th>\n",
       "      <th>GeneSym</th>\n",
       "      <th>GeneID</th>\n",
       "    </tr>\n",
       "  </thead>\n",
       "  <tbody>\n",
       "    <tr>\n",
       "      <th>0</th>\n",
       "      <td>A1BG</td>\n",
       "      <td>1</td>\n",
       "    </tr>\n",
       "    <tr>\n",
       "      <th>1</th>\n",
       "      <td>A1BG-AS1</td>\n",
       "      <td>503538</td>\n",
       "    </tr>\n",
       "    <tr>\n",
       "      <th>2</th>\n",
       "      <td>A1CF</td>\n",
       "      <td>29974</td>\n",
       "    </tr>\n",
       "    <tr>\n",
       "      <th>3</th>\n",
       "      <td>A2M</td>\n",
       "      <td>2</td>\n",
       "    </tr>\n",
       "    <tr>\n",
       "      <th>4</th>\n",
       "      <td>A2ML1</td>\n",
       "      <td>144568</td>\n",
       "    </tr>\n",
       "  </tbody>\n",
       "</table>\n",
       "</div>"
      ],
      "text/plain": [
       "    GeneSym  GeneID\n",
       "0      A1BG       1\n",
       "1  A1BG-AS1  503538\n",
       "2      A1CF   29974\n",
       "3       A2M       2\n",
       "4     A2ML1  144568"
      ]
     },
     "execution_count": 61,
     "metadata": {},
     "output_type": "execute_result"
    }
   ],
   "source": [
    "gene_list.head()"
   ]
  },
  {
   "cell_type": "code",
   "execution_count": 62,
   "metadata": {},
   "outputs": [
    {
     "data": {
      "text/plain": [
       "(17337, 2)"
      ]
     },
     "execution_count": 62,
     "metadata": {},
     "output_type": "execute_result"
    }
   ],
   "source": [
    "gene_list.shape"
   ]
  },
  {
   "cell_type": "markdown",
   "metadata": {},
   "source": [
    "# Save Gene List"
   ]
  },
  {
   "cell_type": "code",
   "execution_count": 63,
   "metadata": {
    "collapsed": true
   },
   "outputs": [],
   "source": [
    "filename = '~/./Documents/Harmonizome/CCLE/Output/ccle_gene_list_%s.tsv.zip'% str(datetime.date.today())[0:7].replace('-', '_')\n",
    "gene_list.to_csv(filename, sep='\\t', index=False, compression='gzip')"
   ]
  },
  {
   "cell_type": "markdown",
   "metadata": {},
   "source": [
    "# Create Attribute List"
   ]
  },
  {
   "cell_type": "code",
   "execution_count": 64,
   "metadata": {
    "collapsed": true
   },
   "outputs": [],
   "source": [
    "attribute_list = mf.createAttributeList(normalized_matrix)"
   ]
  },
  {
   "cell_type": "code",
   "execution_count": 65,
   "metadata": {},
   "outputs": [
    {
     "data": {
      "text/html": [
       "<div>\n",
       "<style scoped>\n",
       "    .dataframe tbody tr th:only-of-type {\n",
       "        vertical-align: middle;\n",
       "    }\n",
       "\n",
       "    .dataframe tbody tr th {\n",
       "        vertical-align: top;\n",
       "    }\n",
       "\n",
       "    .dataframe thead th {\n",
       "        text-align: right;\n",
       "    }\n",
       "</style>\n",
       "<table border=\"1\" class=\"dataframe\">\n",
       "  <thead>\n",
       "    <tr style=\"text-align: right;\">\n",
       "      <th></th>\n",
       "      <th>Attributes</th>\n",
       "    </tr>\n",
       "  </thead>\n",
       "  <tbody>\n",
       "    <tr>\n",
       "      <th>0</th>\n",
       "      <td>(Tissue:AUTONOMIC GANGLIA, Cell-Line:CHP126, G...</td>\n",
       "    </tr>\n",
       "    <tr>\n",
       "      <th>1</th>\n",
       "      <td>(Tissue:AUTONOMIC GANGLIA, Cell-Line:CHP212, G...</td>\n",
       "    </tr>\n",
       "    <tr>\n",
       "      <th>2</th>\n",
       "      <td>(Tissue:AUTONOMIC GANGLIA, Cell-Line:IMR32, Ge...</td>\n",
       "    </tr>\n",
       "    <tr>\n",
       "      <th>3</th>\n",
       "      <td>(Tissue:AUTONOMIC GANGLIA, Cell-Line:KELLY, Ge...</td>\n",
       "    </tr>\n",
       "    <tr>\n",
       "      <th>4</th>\n",
       "      <td>(Tissue:AUTONOMIC GANGLIA, Cell-Line:KPNRTBM1,...</td>\n",
       "    </tr>\n",
       "  </tbody>\n",
       "</table>\n",
       "</div>"
      ],
      "text/plain": [
       "                                          Attributes\n",
       "0  (Tissue:AUTONOMIC GANGLIA, Cell-Line:CHP126, G...\n",
       "1  (Tissue:AUTONOMIC GANGLIA, Cell-Line:CHP212, G...\n",
       "2  (Tissue:AUTONOMIC GANGLIA, Cell-Line:IMR32, Ge...\n",
       "3  (Tissue:AUTONOMIC GANGLIA, Cell-Line:KELLY, Ge...\n",
       "4  (Tissue:AUTONOMIC GANGLIA, Cell-Line:KPNRTBM1,..."
      ]
     },
     "execution_count": 65,
     "metadata": {},
     "output_type": "execute_result"
    }
   ],
   "source": [
    "attribute_list.head()"
   ]
  },
  {
   "cell_type": "code",
   "execution_count": 66,
   "metadata": {},
   "outputs": [
    {
     "data": {
      "text/plain": [
       "(1036, 1)"
      ]
     },
     "execution_count": 66,
     "metadata": {},
     "output_type": "execute_result"
    }
   ],
   "source": [
    "attribute_list.shape"
   ]
  },
  {
   "cell_type": "markdown",
   "metadata": {},
   "source": [
    "# Save Attribute List"
   ]
  },
  {
   "cell_type": "code",
   "execution_count": 67,
   "metadata": {
    "collapsed": true
   },
   "outputs": [],
   "source": [
    "filename = '~/./Documents/Harmonizome/CCLE/Output/ccle_attribute_list_%s.tsv.zip'% str(datetime.date.today())[0:7].replace('-', '_')\n",
    "attribute_list.to_csv(filename, sep='\\t', index=False, compression='gzip')"
   ]
  },
  {
   "cell_type": "markdown",
   "metadata": {},
   "source": [
    "# Create Gene-Attribute Edge List"
   ]
  },
  {
   "cell_type": "code",
   "execution_count": 68,
   "metadata": {
    "collapsed": true
   },
   "outputs": [],
   "source": [
    "path = '/Users/moshesilverstein/Documents/Harmonizome/CCLE/Output/'"
   ]
  },
  {
   "cell_type": "code",
   "execution_count": 69,
   "metadata": {
    "collapsed": true
   },
   "outputs": [],
   "source": [
    "name = 'ccle_gene_attribute_edge_list'"
   ]
  },
  {
   "cell_type": "code",
   "execution_count": 70,
   "metadata": {},
   "outputs": [
    {
     "name": "stdout",
     "output_type": "stream",
     "text": [
      "Progeres: 100%  1036 Out of 1036   \n",
      "\n",
      " The number of statisticaly relevent gene-attribute associations is: 17961132\n"
     ]
    }
   ],
   "source": [
    "mf.createGeneAttributeEdgeList(standard_matrix, gene_list, path, name)"
   ]
  }
 ],
 "metadata": {
  "kernelspec": {
   "display_name": "Python [default]",
   "language": "python",
   "name": "python3"
  },
  "language_info": {
   "codemirror_mode": {
    "name": "ipython",
    "version": 3
   },
   "file_extension": ".py",
   "mimetype": "text/x-python",
   "name": "python",
   "nbconvert_exporter": "python",
   "pygments_lexer": "ipython3",
   "version": "3.5.2"
  }
 },
 "nbformat": 4,
 "nbformat_minor": 2
}
