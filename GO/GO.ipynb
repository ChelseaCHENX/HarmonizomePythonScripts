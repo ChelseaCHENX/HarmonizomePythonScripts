{
 "cells": [
  {
   "cell_type": "code",
   "execution_count": 1,
   "metadata": {
    "collapsed": true
   },
   "outputs": [],
   "source": [
    "import numpy as np\n",
    "import pandas as pd\n",
    "import datetime\n",
    "import os, sys\n",
    "import scipy.spatial.distance as dist"
   ]
  },
  {
   "cell_type": "markdown",
   "metadata": {},
   "source": [
    "data downloaded 6-6-17"
   ]
  },
  {
   "cell_type": "markdown",
   "metadata": {},
   "source": [
    "data source: http://geneontology.org/gene-associations/goa_human.gaf.gz"
   ]
  },
  {
   "cell_type": "code",
   "execution_count": 2,
   "metadata": {
    "collapsed": true
   },
   "outputs": [],
   "source": [
    "depth = 4 # the minimum depth down the ontology tree a term must have to be included \n",
    "min_genes = 5 # the minimum number of genes that must be present to be included in a gene library\n",
    "min_terms = 5 # the minimum number of terms that must be present to be included in a attribute library\n",
    "max_genes = 2000 # the maximum number of genes that are present to be included in a gene library\n",
    "max_terms = 2000 # the maximum number of terms that are present to be included in a attribute library"
   ]
  },
  {
   "cell_type": "markdown",
   "metadata": {},
   "source": [
    "### The GO annotation dataset"
   ]
  },
  {
   "cell_type": "code",
   "execution_count": 3,
   "metadata": {
    "collapsed": true
   },
   "outputs": [],
   "source": [
    "go_human = pd.read_csv('input/goa_human.gaf', sep='\\t', skiprows=34, header=None, index_col=False)"
   ]
  },
  {
   "cell_type": "code",
   "execution_count": 4,
   "metadata": {},
   "outputs": [
    {
     "data": {
      "text/html": [
       "<div>\n",
       "<table border=\"1\" class=\"dataframe\">\n",
       "  <thead>\n",
       "    <tr style=\"text-align: right;\">\n",
       "      <th></th>\n",
       "      <th>0</th>\n",
       "      <th>1</th>\n",
       "      <th>2</th>\n",
       "      <th>3</th>\n",
       "      <th>4</th>\n",
       "      <th>5</th>\n",
       "      <th>6</th>\n",
       "      <th>7</th>\n",
       "      <th>8</th>\n",
       "      <th>9</th>\n",
       "      <th>10</th>\n",
       "      <th>11</th>\n",
       "      <th>12</th>\n",
       "      <th>13</th>\n",
       "      <th>14</th>\n",
       "      <th>15</th>\n",
       "      <th>16</th>\n",
       "    </tr>\n",
       "  </thead>\n",
       "  <tbody>\n",
       "    <tr>\n",
       "      <th>0</th>\n",
       "      <td>UniProtKB</td>\n",
       "      <td>A0A024R161</td>\n",
       "      <td>DNAJC25-GNG10</td>\n",
       "      <td>NaN</td>\n",
       "      <td>GO:0004871</td>\n",
       "      <td>GO_REF:0000038</td>\n",
       "      <td>IEA</td>\n",
       "      <td>UniProtKB-KW:KW-0807</td>\n",
       "      <td>F</td>\n",
       "      <td>Guanine nucleotide-binding protein subunit gamma</td>\n",
       "      <td>A0A024R161_HUMAN|DNAJC25-GNG10|hCG_1994888</td>\n",
       "      <td>protein</td>\n",
       "      <td>taxon:9606</td>\n",
       "      <td>20170506</td>\n",
       "      <td>UniProt</td>\n",
       "      <td>NaN</td>\n",
       "      <td>NaN</td>\n",
       "    </tr>\n",
       "    <tr>\n",
       "      <th>1</th>\n",
       "      <td>UniProtKB</td>\n",
       "      <td>A0A024R161</td>\n",
       "      <td>DNAJC25-GNG10</td>\n",
       "      <td>NaN</td>\n",
       "      <td>GO:0005834</td>\n",
       "      <td>GO_REF:0000002</td>\n",
       "      <td>IEA</td>\n",
       "      <td>InterPro:IPR001770|InterPro:IPR015898</td>\n",
       "      <td>C</td>\n",
       "      <td>Guanine nucleotide-binding protein subunit gamma</td>\n",
       "      <td>A0A024R161_HUMAN|DNAJC25-GNG10|hCG_1994888</td>\n",
       "      <td>protein</td>\n",
       "      <td>taxon:9606</td>\n",
       "      <td>20170506</td>\n",
       "      <td>InterPro</td>\n",
       "      <td>NaN</td>\n",
       "      <td>NaN</td>\n",
       "    </tr>\n",
       "    <tr>\n",
       "      <th>2</th>\n",
       "      <td>UniProtKB</td>\n",
       "      <td>A0A024R161</td>\n",
       "      <td>DNAJC25-GNG10</td>\n",
       "      <td>NaN</td>\n",
       "      <td>GO:0007186</td>\n",
       "      <td>GO_REF:0000002</td>\n",
       "      <td>IEA</td>\n",
       "      <td>InterPro:IPR001770|InterPro:IPR015898</td>\n",
       "      <td>P</td>\n",
       "      <td>Guanine nucleotide-binding protein subunit gamma</td>\n",
       "      <td>A0A024R161_HUMAN|DNAJC25-GNG10|hCG_1994888</td>\n",
       "      <td>protein</td>\n",
       "      <td>taxon:9606</td>\n",
       "      <td>20170506</td>\n",
       "      <td>InterPro</td>\n",
       "      <td>NaN</td>\n",
       "      <td>NaN</td>\n",
       "    </tr>\n",
       "    <tr>\n",
       "      <th>3</th>\n",
       "      <td>UniProtKB</td>\n",
       "      <td>A0A075B6H7</td>\n",
       "      <td>IGKV3-7</td>\n",
       "      <td>NaN</td>\n",
       "      <td>GO:0002377</td>\n",
       "      <td>GO_REF:0000033</td>\n",
       "      <td>IBA</td>\n",
       "      <td>PANTHER:PTN000587099</td>\n",
       "      <td>P</td>\n",
       "      <td>Immunoglobulin kappa variable 3-7 (non-functio...</td>\n",
       "      <td>A0A075B6H7_HUMAN|IGKV3-7</td>\n",
       "      <td>protein</td>\n",
       "      <td>taxon:9606</td>\n",
       "      <td>20150528</td>\n",
       "      <td>GO_Central</td>\n",
       "      <td>NaN</td>\n",
       "      <td>NaN</td>\n",
       "    </tr>\n",
       "    <tr>\n",
       "      <th>4</th>\n",
       "      <td>UniProtKB</td>\n",
       "      <td>A0A075B6H7</td>\n",
       "      <td>IGKV3-7</td>\n",
       "      <td>NaN</td>\n",
       "      <td>GO:0005615</td>\n",
       "      <td>GO_REF:0000033</td>\n",
       "      <td>IBA</td>\n",
       "      <td>PANTHER:PTN000587099</td>\n",
       "      <td>C</td>\n",
       "      <td>Immunoglobulin kappa variable 3-7 (non-functio...</td>\n",
       "      <td>A0A075B6H7_HUMAN|IGKV3-7</td>\n",
       "      <td>protein</td>\n",
       "      <td>taxon:9606</td>\n",
       "      <td>20150528</td>\n",
       "      <td>GO_Central</td>\n",
       "      <td>NaN</td>\n",
       "      <td>NaN</td>\n",
       "    </tr>\n",
       "  </tbody>\n",
       "</table>\n",
       "</div>"
      ],
      "text/plain": [
       "          0           1              2    3           4               5    6   \\\n",
       "0  UniProtKB  A0A024R161  DNAJC25-GNG10  NaN  GO:0004871  GO_REF:0000038  IEA   \n",
       "1  UniProtKB  A0A024R161  DNAJC25-GNG10  NaN  GO:0005834  GO_REF:0000002  IEA   \n",
       "2  UniProtKB  A0A024R161  DNAJC25-GNG10  NaN  GO:0007186  GO_REF:0000002  IEA   \n",
       "3  UniProtKB  A0A075B6H7        IGKV3-7  NaN  GO:0002377  GO_REF:0000033  IBA   \n",
       "4  UniProtKB  A0A075B6H7        IGKV3-7  NaN  GO:0005615  GO_REF:0000033  IBA   \n",
       "\n",
       "                                      7  8   \\\n",
       "0                   UniProtKB-KW:KW-0807  F   \n",
       "1  InterPro:IPR001770|InterPro:IPR015898  C   \n",
       "2  InterPro:IPR001770|InterPro:IPR015898  P   \n",
       "3                   PANTHER:PTN000587099  P   \n",
       "4                   PANTHER:PTN000587099  C   \n",
       "\n",
       "                                                  9   \\\n",
       "0   Guanine nucleotide-binding protein subunit gamma   \n",
       "1   Guanine nucleotide-binding protein subunit gamma   \n",
       "2   Guanine nucleotide-binding protein subunit gamma   \n",
       "3  Immunoglobulin kappa variable 3-7 (non-functio...   \n",
       "4  Immunoglobulin kappa variable 3-7 (non-functio...   \n",
       "\n",
       "                                           10       11          12        13  \\\n",
       "0  A0A024R161_HUMAN|DNAJC25-GNG10|hCG_1994888  protein  taxon:9606  20170506   \n",
       "1  A0A024R161_HUMAN|DNAJC25-GNG10|hCG_1994888  protein  taxon:9606  20170506   \n",
       "2  A0A024R161_HUMAN|DNAJC25-GNG10|hCG_1994888  protein  taxon:9606  20170506   \n",
       "3                    A0A075B6H7_HUMAN|IGKV3-7  protein  taxon:9606  20150528   \n",
       "4                    A0A075B6H7_HUMAN|IGKV3-7  protein  taxon:9606  20150528   \n",
       "\n",
       "           14   15  16  \n",
       "0     UniProt  NaN NaN  \n",
       "1    InterPro  NaN NaN  \n",
       "2    InterPro  NaN NaN  \n",
       "3  GO_Central  NaN NaN  \n",
       "4  GO_Central  NaN NaN  "
      ]
     },
     "execution_count": 4,
     "metadata": {},
     "output_type": "execute_result"
    }
   ],
   "source": [
    "go_human.head()"
   ]
  },
  {
   "cell_type": "code",
   "execution_count": 5,
   "metadata": {},
   "outputs": [
    {
     "data": {
      "text/plain": [
       "(417076, 17)"
      ]
     },
     "execution_count": 5,
     "metadata": {},
     "output_type": "execute_result"
    }
   ],
   "source": [
    "go_human.shape"
   ]
  },
  {
   "cell_type": "markdown",
   "metadata": {},
   "source": [
    "### The mapping of the GO ID's to the GO term with reference to ansestor terms"
   ]
  },
  {
   "cell_type": "markdown",
   "metadata": {},
   "source": [
    "sorce: http://amigo.geneontology.org/amigo/search/ontology?q=*:*&fq=idspace:%22GO%22&fq=is_obsolete:%22false%22&sfq=document_category:%22ontology_class%22"
   ]
  },
  {
   "cell_type": "code",
   "execution_count": 6,
   "metadata": {
    "collapsed": true
   },
   "outputs": [],
   "source": [
    "go_terms_col = ['ID', 'TERM', 'ANCESTOR']"
   ]
  },
  {
   "cell_type": "code",
   "execution_count": 7,
   "metadata": {},
   "outputs": [],
   "source": [
    "go_tems = pd.read_csv('input/GO_TERMS.tsv', sep='\\t', header=None)"
   ]
  },
  {
   "cell_type": "code",
   "execution_count": 8,
   "metadata": {},
   "outputs": [],
   "source": [
    "go_tems.columns = go_terms_col"
   ]
  },
  {
   "cell_type": "code",
   "execution_count": 9,
   "metadata": {},
   "outputs": [
    {
     "data": {
      "text/html": [
       "<div>\n",
       "<table border=\"1\" class=\"dataframe\">\n",
       "  <thead>\n",
       "    <tr style=\"text-align: right;\">\n",
       "      <th></th>\n",
       "      <th>ID</th>\n",
       "      <th>TERM</th>\n",
       "      <th>ANCESTOR</th>\n",
       "    </tr>\n",
       "  </thead>\n",
       "  <tbody>\n",
       "    <tr>\n",
       "      <th>0</th>\n",
       "      <td>GO:0102675</td>\n",
       "      <td>C4-methyltransferase activity</td>\n",
       "      <td>GO:0008150|GO:0003824|GO:0008152|GO:0102675|GO...</td>\n",
       "    </tr>\n",
       "    <tr>\n",
       "      <th>1</th>\n",
       "      <td>GO:0102674</td>\n",
       "      <td>C4-demethylase activity</td>\n",
       "      <td>GO:0008150|GO:0003824|GO:0008152|GO:0008168|GO...</td>\n",
       "    </tr>\n",
       "    <tr>\n",
       "      <th>2</th>\n",
       "      <td>GO:0102677</td>\n",
       "      <td>campesterol,NADPH:oxygen oxidoreductase activity</td>\n",
       "      <td>GO:0008150|GO:0102677|GO:0016705|GO:0003824|GO...</td>\n",
       "    </tr>\n",
       "    <tr>\n",
       "      <th>3</th>\n",
       "      <td>GO:0102676</td>\n",
       "      <td>avenasterol-desaturase activity</td>\n",
       "      <td>GO:0008150|GO:0102676|GO:0003824|GO:0016705|GO...</td>\n",
       "    </tr>\n",
       "    <tr>\n",
       "      <th>4</th>\n",
       "      <td>GO:0102671</td>\n",
       "      <td>6a-hydroxymaackiain-3-O-methyltransferase acti...</td>\n",
       "      <td>GO:0008150|GO:0003824|GO:0008152|GO:0008168|GO...</td>\n",
       "    </tr>\n",
       "  </tbody>\n",
       "</table>\n",
       "</div>"
      ],
      "text/plain": [
       "           ID                                               TERM  \\\n",
       "0  GO:0102675                      C4-methyltransferase activity   \n",
       "1  GO:0102674                            C4-demethylase activity   \n",
       "2  GO:0102677   campesterol,NADPH:oxygen oxidoreductase activity   \n",
       "3  GO:0102676                    avenasterol-desaturase activity   \n",
       "4  GO:0102671  6a-hydroxymaackiain-3-O-methyltransferase acti...   \n",
       "\n",
       "                                            ANCESTOR  \n",
       "0  GO:0008150|GO:0003824|GO:0008152|GO:0102675|GO...  \n",
       "1  GO:0008150|GO:0003824|GO:0008152|GO:0008168|GO...  \n",
       "2  GO:0008150|GO:0102677|GO:0016705|GO:0003824|GO...  \n",
       "3  GO:0008150|GO:0102676|GO:0003824|GO:0016705|GO...  \n",
       "4  GO:0008150|GO:0003824|GO:0008152|GO:0008168|GO...  "
      ]
     },
     "execution_count": 9,
     "metadata": {},
     "output_type": "execute_result"
    }
   ],
   "source": [
    "go_tems.head()"
   ]
  },
  {
   "cell_type": "code",
   "execution_count": 10,
   "metadata": {
    "collapsed": true
   },
   "outputs": [],
   "source": [
    "go_tems.set_index('ID', inplace=True)"
   ]
  },
  {
   "cell_type": "markdown",
   "metadata": {},
   "source": [
    "### The mapping of gene ID's and symbol"
   ]
  },
  {
   "cell_type": "code",
   "execution_count": 11,
   "metadata": {},
   "outputs": [],
   "source": [
    "gene_mapping = pd.read_csv('input/gene_id_mapping.txt', sep='\\t', index_col=2)"
   ]
  },
  {
   "cell_type": "code",
   "execution_count": 12,
   "metadata": {},
   "outputs": [
    {
     "data": {
      "text/html": [
       "<div>\n",
       "<table border=\"1\" class=\"dataframe\">\n",
       "  <thead>\n",
       "    <tr style=\"text-align: right;\">\n",
       "      <th></th>\n",
       "      <th>Approved Symbol</th>\n",
       "      <th>Entrez Gene ID</th>\n",
       "    </tr>\n",
       "    <tr>\n",
       "      <th>UniProt ID(supplied by UniProt)</th>\n",
       "      <th></th>\n",
       "      <th></th>\n",
       "    </tr>\n",
       "  </thead>\n",
       "  <tbody>\n",
       "    <tr>\n",
       "      <th>P04217</th>\n",
       "      <td>A1BG</td>\n",
       "      <td>1.0</td>\n",
       "    </tr>\n",
       "    <tr>\n",
       "      <th>NaN</th>\n",
       "      <td>A1BG-AS1</td>\n",
       "      <td>503538.0</td>\n",
       "    </tr>\n",
       "    <tr>\n",
       "      <th>Q9NQ94</th>\n",
       "      <td>A1CF</td>\n",
       "      <td>29974.0</td>\n",
       "    </tr>\n",
       "    <tr>\n",
       "      <th>P01023</th>\n",
       "      <td>A2M</td>\n",
       "      <td>2.0</td>\n",
       "    </tr>\n",
       "    <tr>\n",
       "      <th>NaN</th>\n",
       "      <td>A2M-AS1</td>\n",
       "      <td>144571.0</td>\n",
       "    </tr>\n",
       "  </tbody>\n",
       "</table>\n",
       "</div>"
      ],
      "text/plain": [
       "                                Approved Symbol  Entrez Gene ID\n",
       "UniProt ID(supplied by UniProt)                                \n",
       "P04217                                     A1BG             1.0\n",
       "NaN                                    A1BG-AS1        503538.0\n",
       "Q9NQ94                                     A1CF         29974.0\n",
       "P01023                                      A2M             2.0\n",
       "NaN                                     A2M-AS1        144571.0"
      ]
     },
     "execution_count": 12,
     "metadata": {},
     "output_type": "execute_result"
    }
   ],
   "source": [
    "gene_mapping.head()"
   ]
  },
  {
   "cell_type": "code",
   "execution_count": 13,
   "metadata": {
    "collapsed": true
   },
   "outputs": [],
   "source": [
    "gene_mapping.dropna(how='any', inplace=True)"
   ]
  },
  {
   "cell_type": "markdown",
   "metadata": {},
   "source": [
    "### Biological Process (P)"
   ]
  },
  {
   "cell_type": "code",
   "execution_count": 14,
   "metadata": {
    "collapsed": true
   },
   "outputs": [],
   "source": [
    "bp_go_human = go_human[go_human[8]=='P'].copy()"
   ]
  },
  {
   "cell_type": "code",
   "execution_count": 15,
   "metadata": {},
   "outputs": [
    {
     "data": {
      "text/plain": [
       "(140959, 17)"
      ]
     },
     "execution_count": 15,
     "metadata": {},
     "output_type": "execute_result"
    }
   ],
   "source": [
    "bp_go_human.shape"
   ]
  },
  {
   "cell_type": "markdown",
   "metadata": {},
   "source": [
    "filter data by eveidance type (currently not in use)"
   ]
  },
  {
   "cell_type": "code",
   "execution_count": 16,
   "metadata": {
    "collapsed": true
   },
   "outputs": [],
   "source": [
    "bp_go_human = bp_go_human[~bp_go_human[6].isin(['IEA'])]"
   ]
  },
  {
   "cell_type": "code",
   "execution_count": 17,
   "metadata": {},
   "outputs": [
    {
     "data": {
      "text/plain": [
       "(95323, 17)"
      ]
     },
     "execution_count": 17,
     "metadata": {},
     "output_type": "execute_result"
    }
   ],
   "source": [
    "bp_go_human.shape"
   ]
  },
  {
   "cell_type": "code",
   "execution_count": null,
   "metadata": {},
   "outputs": [],
   "source": []
  },
  {
   "cell_type": "code",
   "execution_count": 18,
   "metadata": {},
   "outputs": [],
   "source": [
    "#bp_go_human.head()"
   ]
  },
  {
   "cell_type": "code",
   "execution_count": 19,
   "metadata": {},
   "outputs": [],
   "source": [
    "bp_go_human = bp_go_human[[1,2,4]]"
   ]
  },
  {
   "cell_type": "code",
   "execution_count": 20,
   "metadata": {},
   "outputs": [
    {
     "data": {
      "text/html": [
       "<div>\n",
       "<table border=\"1\" class=\"dataframe\">\n",
       "  <thead>\n",
       "    <tr style=\"text-align: right;\">\n",
       "      <th></th>\n",
       "      <th>1</th>\n",
       "      <th>2</th>\n",
       "      <th>4</th>\n",
       "    </tr>\n",
       "  </thead>\n",
       "  <tbody>\n",
       "    <tr>\n",
       "      <th>3</th>\n",
       "      <td>A0A075B6H7</td>\n",
       "      <td>IGKV3-7</td>\n",
       "      <td>GO:0002377</td>\n",
       "    </tr>\n",
       "    <tr>\n",
       "      <th>5</th>\n",
       "      <td>A0A075B6H7</td>\n",
       "      <td>IGKV3-7</td>\n",
       "      <td>GO:0006955</td>\n",
       "    </tr>\n",
       "    <tr>\n",
       "      <th>6</th>\n",
       "      <td>A0A075B6H8</td>\n",
       "      <td>IGKV1D-42</td>\n",
       "      <td>GO:0002377</td>\n",
       "    </tr>\n",
       "    <tr>\n",
       "      <th>8</th>\n",
       "      <td>A0A075B6H8</td>\n",
       "      <td>IGKV1D-42</td>\n",
       "      <td>GO:0006955</td>\n",
       "    </tr>\n",
       "    <tr>\n",
       "      <th>10</th>\n",
       "      <td>A0A075B6H9</td>\n",
       "      <td>IGLV4-69</td>\n",
       "      <td>GO:0002377</td>\n",
       "    </tr>\n",
       "  </tbody>\n",
       "</table>\n",
       "</div>"
      ],
      "text/plain": [
       "             1          2           4\n",
       "3   A0A075B6H7    IGKV3-7  GO:0002377\n",
       "5   A0A075B6H7    IGKV3-7  GO:0006955\n",
       "6   A0A075B6H8  IGKV1D-42  GO:0002377\n",
       "8   A0A075B6H8  IGKV1D-42  GO:0006955\n",
       "10  A0A075B6H9   IGLV4-69  GO:0002377"
      ]
     },
     "execution_count": 20,
     "metadata": {},
     "output_type": "execute_result"
    }
   ],
   "source": [
    "bp_go_human.head()"
   ]
  },
  {
   "cell_type": "markdown",
   "metadata": {},
   "source": [
    "map Uniprot to id gene symbol "
   ]
  },
  {
   "cell_type": "code",
   "execution_count": 21,
   "metadata": {},
   "outputs": [
    {
     "name": "stdout",
     "output_type": "stream",
     "text": [
      "Progress: 100%  95323 Out of 95323   \r"
     ]
    }
   ],
   "source": [
    "lst = []\n",
    "\n",
    "for i,index in enumerate(bp_go_human.index):\n",
    "    \n",
    "    progressPercent = ((i+1)/len(bp_go_human.index))*100\n",
    "\n",
    "    sys.stdout.write(\"Progress: %d%%  %d Out of %d   \\r\" % (progressPercent, (i+1), len(bp_go_human.index)))\n",
    "    sys.stdout.flush()\n",
    "    \n",
    "    geneID = bp_go_human.ix[index, 1]\n",
    "    if geneID in gene_mapping.index:\n",
    "        if type(gene_mapping.ix[geneID, 'Approved Symbol']) == str:\n",
    "            lst.append(gene_mapping.ix[geneID, 'Approved Symbol'])\n",
    "        else:\n",
    "            lst.append(bp_go_human.ix[index, 2])\n",
    "    else:\n",
    "        lst.append(np.nan)\n",
    "\n",
    "bp_go_human[1] = lst\n",
    "bp_go_human.drop(2, axis=1, inplace=True)"
   ]
  },
  {
   "cell_type": "markdown",
   "metadata": {},
   "source": [
    "Drop genes that dont map to NCBI entraz ids"
   ]
  },
  {
   "cell_type": "code",
   "execution_count": 22,
   "metadata": {},
   "outputs": [
    {
     "data": {
      "text/plain": [
       "(95323, 2)"
      ]
     },
     "execution_count": 22,
     "metadata": {},
     "output_type": "execute_result"
    }
   ],
   "source": [
    "bp_go_human.shape"
   ]
  },
  {
   "cell_type": "code",
   "execution_count": 23,
   "metadata": {
    "collapsed": true
   },
   "outputs": [],
   "source": [
    "bp_go_human.dropna(how='any', inplace=True)"
   ]
  },
  {
   "cell_type": "code",
   "execution_count": 24,
   "metadata": {},
   "outputs": [
    {
     "data": {
      "text/plain": [
       "(94102, 2)"
      ]
     },
     "execution_count": 24,
     "metadata": {},
     "output_type": "execute_result"
    }
   ],
   "source": [
    "bp_go_human.shape"
   ]
  },
  {
   "cell_type": "markdown",
   "metadata": {},
   "source": [
    "map GO term to id for lower level (i.e. detailed) terms (level defined by depth variable)"
   ]
  },
  {
   "cell_type": "code",
   "execution_count": 25,
   "metadata": {},
   "outputs": [],
   "source": [
    "lst = []\n",
    "\n",
    "for index in bp_go_human.index:\n",
    "    termID = bp_go_human.ix[index, 4]\n",
    "    ansestors = go_tems.ix[termID, 'ANCESTOR'].split('|')\n",
    "    if len(ansestors) > depth:\n",
    "        lst.append(go_tems.ix[termID, 'TERM'])\n",
    "    else:\n",
    "        lst.append(np.nan)\n",
    "\n",
    "bp_go_human[5] = lst"
   ]
  },
  {
   "cell_type": "code",
   "execution_count": 26,
   "metadata": {},
   "outputs": [
    {
     "data": {
      "text/html": [
       "<div>\n",
       "<table border=\"1\" class=\"dataframe\">\n",
       "  <thead>\n",
       "    <tr style=\"text-align: right;\">\n",
       "      <th></th>\n",
       "      <th>1</th>\n",
       "      <th>4</th>\n",
       "      <th>5</th>\n",
       "    </tr>\n",
       "  </thead>\n",
       "  <tbody>\n",
       "    <tr>\n",
       "      <th>10</th>\n",
       "      <td>IGLV4-69</td>\n",
       "      <td>GO:0002377</td>\n",
       "      <td>NaN</td>\n",
       "    </tr>\n",
       "    <tr>\n",
       "      <th>14</th>\n",
       "      <td>IGLV4-69</td>\n",
       "      <td>GO:0006955</td>\n",
       "      <td>NaN</td>\n",
       "    </tr>\n",
       "    <tr>\n",
       "      <th>16</th>\n",
       "      <td>IGLV8-61</td>\n",
       "      <td>GO:0002377</td>\n",
       "      <td>NaN</td>\n",
       "    </tr>\n",
       "    <tr>\n",
       "      <th>20</th>\n",
       "      <td>IGLV8-61</td>\n",
       "      <td>GO:0006955</td>\n",
       "      <td>NaN</td>\n",
       "    </tr>\n",
       "    <tr>\n",
       "      <th>22</th>\n",
       "      <td>IGLV4-60</td>\n",
       "      <td>GO:0002377</td>\n",
       "      <td>NaN</td>\n",
       "    </tr>\n",
       "  </tbody>\n",
       "</table>\n",
       "</div>"
      ],
      "text/plain": [
       "           1           4    5\n",
       "10  IGLV4-69  GO:0002377  NaN\n",
       "14  IGLV4-69  GO:0006955  NaN\n",
       "16  IGLV8-61  GO:0002377  NaN\n",
       "20  IGLV8-61  GO:0006955  NaN\n",
       "22  IGLV4-60  GO:0002377  NaN"
      ]
     },
     "execution_count": 26,
     "metadata": {},
     "output_type": "execute_result"
    }
   ],
   "source": [
    "bp_go_human.head()"
   ]
  },
  {
   "cell_type": "markdown",
   "metadata": {},
   "source": [
    "Drop High Level (too general description as defined by depth)"
   ]
  },
  {
   "cell_type": "code",
   "execution_count": 27,
   "metadata": {},
   "outputs": [
    {
     "data": {
      "text/plain": [
       "(94102, 3)"
      ]
     },
     "execution_count": 27,
     "metadata": {},
     "output_type": "execute_result"
    }
   ],
   "source": [
    "bp_go_human.shape"
   ]
  },
  {
   "cell_type": "code",
   "execution_count": 28,
   "metadata": {
    "collapsed": true
   },
   "outputs": [],
   "source": [
    "bp_go_human.dropna(inplace=True)"
   ]
  },
  {
   "cell_type": "code",
   "execution_count": 29,
   "metadata": {},
   "outputs": [
    {
     "data": {
      "text/plain": [
       "(90995, 3)"
      ]
     },
     "execution_count": 29,
     "metadata": {},
     "output_type": "execute_result"
    }
   ],
   "source": [
    "bp_go_human.shape"
   ]
  },
  {
   "cell_type": "code",
   "execution_count": 30,
   "metadata": {},
   "outputs": [
    {
     "data": {
      "text/html": [
       "<div>\n",
       "<table border=\"1\" class=\"dataframe\">\n",
       "  <thead>\n",
       "    <tr style=\"text-align: right;\">\n",
       "      <th></th>\n",
       "      <th>1</th>\n",
       "      <th>4</th>\n",
       "      <th>5</th>\n",
       "    </tr>\n",
       "  </thead>\n",
       "  <tbody>\n",
       "    <tr>\n",
       "      <th>145</th>\n",
       "      <td>IGKV2-28</td>\n",
       "      <td>GO:0006898</td>\n",
       "      <td>receptor-mediated endocytosis</td>\n",
       "    </tr>\n",
       "    <tr>\n",
       "      <th>147</th>\n",
       "      <td>IGKV2-28</td>\n",
       "      <td>GO:0006956</td>\n",
       "      <td>complement activation</td>\n",
       "    </tr>\n",
       "    <tr>\n",
       "      <th>148</th>\n",
       "      <td>IGKV2-28</td>\n",
       "      <td>GO:0006958</td>\n",
       "      <td>complement activation, classical pathway</td>\n",
       "    </tr>\n",
       "    <tr>\n",
       "      <th>149</th>\n",
       "      <td>IGKV2-28</td>\n",
       "      <td>GO:0030449</td>\n",
       "      <td>regulation of complement activation</td>\n",
       "    </tr>\n",
       "    <tr>\n",
       "      <th>150</th>\n",
       "      <td>IGKV2-28</td>\n",
       "      <td>GO:0038095</td>\n",
       "      <td>Fc-epsilon receptor signaling pathway</td>\n",
       "    </tr>\n",
       "  </tbody>\n",
       "</table>\n",
       "</div>"
      ],
      "text/plain": [
       "            1           4                                         5\n",
       "145  IGKV2-28  GO:0006898             receptor-mediated endocytosis\n",
       "147  IGKV2-28  GO:0006956                     complement activation\n",
       "148  IGKV2-28  GO:0006958  complement activation, classical pathway\n",
       "149  IGKV2-28  GO:0030449       regulation of complement activation\n",
       "150  IGKV2-28  GO:0038095     Fc-epsilon receptor signaling pathway"
      ]
     },
     "execution_count": 30,
     "metadata": {},
     "output_type": "execute_result"
    }
   ],
   "source": [
    "bp_go_human.head()"
   ]
  },
  {
   "cell_type": "markdown",
   "metadata": {},
   "source": [
    "create gene set library per go term"
   ]
  },
  {
   "cell_type": "code",
   "execution_count": 31,
   "metadata": {},
   "outputs": [
    {
     "name": "stdout",
     "output_type": "stream",
     "text": [
      "Progress: 100%  9458 Out of 9458   \r"
     ]
    }
   ],
   "source": [
    "filenameTSV = 'output/go_biological_process_human_gene_set_%s.tsv'% str(datetime.date.today())[0:7].replace('-', '_')\n",
    "filenameGMT = 'output/go_biological_process_human_gene_set_%s.gmt'% str(datetime.date.today())[0:7].replace('-', '_')\n",
    "\n",
    "if os.path.isfile(filenameTSV):\n",
    "    os.remove(filenameTSV)\n",
    "if os.path.isfile(filenameGMT):\n",
    "    os.remove(filenameGMT)\n",
    "\n",
    "for i,term in enumerate(bp_go_human[5].unique()):\n",
    "    \n",
    "    progressPercent = ((i+1)/len(bp_go_human[5].unique()))*100\n",
    "\n",
    "    sys.stdout.write(\"Progress: %d%%  %d Out of %d   \\r\" % (progressPercent, (i+1), len(bp_go_human[5].unique())))\n",
    "    sys.stdout.flush()\n",
    "    \n",
    "    ID = bp_go_human[bp_go_human[5]==term][4].tolist()[0]\n",
    "    lst = bp_go_human[bp_go_human[5]==term][1].tolist()\n",
    "    lst = list(set(lst))\n",
    "    if len(lst) >= min_genes and len(lst) <= max_genes:\n",
    "        lst.insert(0,term)\n",
    "        lst.insert(1, '('+ID+')')\n",
    "        lst = ['{0}\\t'.format(elem) for elem in lst] # add tabs between terms in the lst\n",
    "        lst.insert(len(lst), '\\n') # add a newline char at the end of each lst\n",
    "        \n",
    "        with open(filenameTSV, 'a') as the_file:\n",
    "            the_file.writelines(lst)\n",
    "\n",
    "        with open(filenameGMT, 'a') as the_file:\n",
    "            the_file.writelines(lst)"
   ]
  },
  {
   "cell_type": "markdown",
   "metadata": {},
   "source": [
    "create go term set library per gene"
   ]
  },
  {
   "cell_type": "code",
   "execution_count": 32,
   "metadata": {},
   "outputs": [
    {
     "name": "stdout",
     "output_type": "stream",
     "text": [
      "Progress: 100%  14082 Out of 14082   \r"
     ]
    }
   ],
   "source": [
    "filenameTSV = 'output/go_biological_process_human_attibute _set_%s.tsv'% str(datetime.date.today())[0:7].replace('-', '_')\n",
    "filenameGMT = 'output/go_biological_process_human_attribute_set_%s.gmt'% str(datetime.date.today())[0:7].replace('-', '_')\n",
    "\n",
    "if os.path.isfile(filenameTSV):\n",
    "    os.remove(filenameTSV)\n",
    "if os.path.isfile(filenameGMT):\n",
    "    os.remove(filenameGMT)\n",
    "\n",
    "for i,gene in enumerate(bp_go_human[1].unique()):\n",
    "    \n",
    "    progressPercent = ((i+1)/len(bp_go_human[1].unique()))*100\n",
    "\n",
    "    sys.stdout.write(\"Progress: %d%%  %d Out of %d   \\r\" % (progressPercent, (i+1), len(bp_go_human[1].unique())))\n",
    "    sys.stdout.flush()\n",
    "    \n",
    "    lst = bp_go_human[bp_go_human[1]==gene][5].tolist()\n",
    "    lst = list(set(lst))\n",
    "    if len(lst) >= min_terms and len(lst) <= max_terms:\n",
    "        lst.insert(0, gene)\n",
    "        lst.insert(1, 'NA')\n",
    "        lst = ['{0}\\t'.format(elem) for elem in lst] # add tabs between terms in the lst\n",
    "        lst.insert(len(lst), '\\n') # add a newline char at the end of each lst\n",
    "        \n",
    "        with open(filenameTSV, 'a') as the_file:\n",
    "            the_file.writelines(lst)\n",
    "\n",
    "        with open(filenameGMT, 'a') as the_file:\n",
    "            the_file.writelines(lst)"
   ]
  },
  {
   "cell_type": "markdown",
   "metadata": {},
   "source": [
    "create binary matrix"
   ]
  },
  {
   "cell_type": "code",
   "execution_count": 33,
   "metadata": {},
   "outputs": [
    {
     "name": "stdout",
     "output_type": "stream",
     "text": [
      "Progress: 100%  14082 Out of 14082   \r"
     ]
    }
   ],
   "source": [
    "genes = bp_go_human[1].unique()\n",
    "attributes = bp_go_human[5].unique()\n",
    "\n",
    "bp_df = pd.DataFrame(index=genes, columns=attributes, data=0)\n",
    "\n",
    "for i, gene in enumerate(genes):\n",
    "    \n",
    "    progressPercent = ((i+1)/len(genes))*100\n",
    "\n",
    "    sys.stdout.write(\"Progress: %d%%  %d Out of %d   \\r\" % (progressPercent, (i+1), len(genes)))\n",
    "    sys.stdout.flush()\n",
    "    \n",
    "    col = bp_go_human[bp_go_human[1]==gene][5].tolist()\n",
    "    bp_df.ix[gene, col] = 1\n",
    "    \n",
    "# filter out any row are column that doesnt have at least 'min' values\n",
    "bp_df.replace(0, np.nan, inplace=True)\n",
    "bp_df.dropna(thresh=min_terms, axis=0,inplace=True)\n",
    "bp_df.dropna(thresh=min_genes, axis=1,inplace=True)\n",
    "bp_df.replace(np.nan, 0, inplace=True)\n",
    "\n",
    "# filter out any row are column that has more than 'max' values\n",
    "bp_df.replace(1, np.nan, inplace=True)\n",
    "bp_df.dropna(thresh=len(bp_df.columns)-max_terms, axis=0,inplace=True)\n",
    "bp_df.dropna(thresh=len(bp_df.index)-max_genes, axis=1,inplace=True)\n",
    "bp_df.replace(np.nan, 1, inplace=True)\n",
    "    \n",
    "filename = 'output/go_biological_process_binary_matrix__%s.tsv'% str(datetime.date.today())[0:7].replace('-', '_')\n",
    "bp_df.to_csv(filename, sep='\\t')"
   ]
  },
  {
   "cell_type": "code",
   "execution_count": 34,
   "metadata": {},
   "outputs": [],
   "source": [
    "# Check the Jaccard distance between the genes\n",
    "bp_gene_similarity_matrix = dist.pdist(bp_df, 'jaccard')\n",
    "bp_gene_similarity_matrix = dist.squareform(bp_gene_similarity_matrix)\n",
    "bp_gene_similarity_df = pd.DataFrame(data=bp_gene_similarity_matrix[0:,0:], index=bp_df.index, columns=bp_df.index)\n",
    "bp_gene_similarity_df = bp_gene_similarity_df.applymap(lambda x: 1-x)\n",
    "\n",
    "filename = 'output/go_biological_process_gene_similarity_%s.tsv'% str(datetime.date.today())[0:7].replace('-', '_')\n",
    "bp_gene_similarity_df.to_csv(filename, sep='\\t')"
   ]
  },
  {
   "cell_type": "code",
   "execution_count": 35,
   "metadata": {},
   "outputs": [],
   "source": [
    "# Check the cosine distance between the samples (attributes)\n",
    "bp_attribute_similarity_matrix = dist.pdist(bp_df.T, 'jaccard')\n",
    "bp_attribute_similarity_matrix = dist.squareform(bp_attribute_similarity_matrix)\n",
    "bp_attribute_similarity_df = pd.DataFrame(data=bp_attribute_similarity_matrix[0:,0:], index=bp_df.columns, columns=bp_df.columns)\n",
    "bp_attribute_similarity_df = bp_attribute_similarity_df.applymap(lambda x: 1-x)\n",
    "\n",
    "filename = 'output/go_biological_process_attribute_similarity_%s.tsv'% str(datetime.date.today())[0:7].replace('-', '_')\n",
    "bp_attribute_similarity_df.to_csv(filename, sep='\\t')"
   ]
  },
  {
   "cell_type": "markdown",
   "metadata": {},
   "source": [
    "create gene list"
   ]
  },
  {
   "cell_type": "code",
   "execution_count": 36,
   "metadata": {},
   "outputs": [],
   "source": [
    "gene_list = pd.DataFrame(columns=['GeneSym', 'UniprotACC', 'GeneID'])\n",
    "\n",
    "gene_list['GeneSym'] = bp_df.index\n",
    "\n",
    "gene_mapping.reset_index(inplace=True)\n",
    "gene_mapping.set_index('Approved Symbol', inplace=True)\n",
    "for index in gene_list.index:\n",
    "    symbol = gene_list.ix[index, 'GeneSym']\n",
    "    gene_list.ix[index, 'GeneID'] = int(gene_mapping.ix[symbol, 'Entrez Gene ID'])\n",
    "    gene_list.ix[index, 'UniprotACC'] = gene_mapping.ix[symbol, 'UniProt ID(supplied by UniProt)']\n",
    "gene_mapping.reset_index(inplace=True)\n",
    "gene_mapping.set_index('UniProt ID(supplied by UniProt)', inplace=True)\n",
    "\n",
    "filename = 'output/go_biological_process_gene_list_%s.tsv'% str(datetime.date.today())[0:7].replace('-', '_')\n",
    "gene_list.to_csv(filename, index=False,sep='\\t')"
   ]
  },
  {
   "cell_type": "code",
   "execution_count": 37,
   "metadata": {},
   "outputs": [
    {
     "data": {
      "text/html": [
       "<div>\n",
       "<table border=\"1\" class=\"dataframe\">\n",
       "  <thead>\n",
       "    <tr style=\"text-align: right;\">\n",
       "      <th></th>\n",
       "      <th>GeneSym</th>\n",
       "      <th>UniprotACC</th>\n",
       "      <th>GeneID</th>\n",
       "    </tr>\n",
       "  </thead>\n",
       "  <tbody>\n",
       "    <tr>\n",
       "      <th>0</th>\n",
       "      <td>IGKV2-28</td>\n",
       "      <td>A0A075B6P5</td>\n",
       "      <td>28921</td>\n",
       "    </tr>\n",
       "    <tr>\n",
       "      <th>1</th>\n",
       "      <td>IGHV3-64</td>\n",
       "      <td>A0A075B6Q5</td>\n",
       "      <td>28414</td>\n",
       "    </tr>\n",
       "    <tr>\n",
       "      <th>2</th>\n",
       "      <td>IGHV4-4</td>\n",
       "      <td>A0A075B6R2</td>\n",
       "      <td>28401</td>\n",
       "    </tr>\n",
       "    <tr>\n",
       "      <th>3</th>\n",
       "      <td>IGKV2D-30</td>\n",
       "      <td>A0A075B6S6</td>\n",
       "      <td>28881</td>\n",
       "    </tr>\n",
       "    <tr>\n",
       "      <th>4</th>\n",
       "      <td>IGHV4-30-2</td>\n",
       "      <td>A0A087WSY4</td>\n",
       "      <td>28398</td>\n",
       "    </tr>\n",
       "  </tbody>\n",
       "</table>\n",
       "</div>"
      ],
      "text/plain": [
       "      GeneSym  UniprotACC GeneID\n",
       "0    IGKV2-28  A0A075B6P5  28921\n",
       "1    IGHV3-64  A0A075B6Q5  28414\n",
       "2     IGHV4-4  A0A075B6R2  28401\n",
       "3   IGKV2D-30  A0A075B6S6  28881\n",
       "4  IGHV4-30-2  A0A087WSY4  28398"
      ]
     },
     "execution_count": 37,
     "metadata": {},
     "output_type": "execute_result"
    }
   ],
   "source": [
    "gene_list.head()"
   ]
  },
  {
   "cell_type": "markdown",
   "metadata": {},
   "source": [
    "create attribute list"
   ]
  },
  {
   "cell_type": "code",
   "execution_count": 38,
   "metadata": {
    "collapsed": true
   },
   "outputs": [],
   "source": [
    "attribute_list = pd.DataFrame(columns=['GO Phrase', 'GO', 'NA'])\n",
    "\n",
    "attribute_list['GO Phrase'] = bp_df.columns\n",
    "\n",
    "for index in attribute_list.index:\n",
    "    term = attribute_list.ix[index, 'GO Phrase']\n",
    "    attribute_list['GO'] = bp_go_human[bp_go_human[5]==term][4].tolist()[0]\n",
    "\n",
    "attribute_list['NA'] = 'na'\n",
    "\n",
    "filename = 'output/go_biological_process_attribute_list_%s.tsv'% str(datetime.date.today())[0:7].replace('-', '_')\n",
    "attribute_list.to_csv(filename, index=False,sep='\\t')"
   ]
  },
  {
   "cell_type": "code",
   "execution_count": 39,
   "metadata": {},
   "outputs": [
    {
     "data": {
      "text/html": [
       "<div>\n",
       "<table border=\"1\" class=\"dataframe\">\n",
       "  <thead>\n",
       "    <tr style=\"text-align: right;\">\n",
       "      <th></th>\n",
       "      <th>GO Phrase</th>\n",
       "      <th>GO</th>\n",
       "      <th>NA</th>\n",
       "    </tr>\n",
       "  </thead>\n",
       "  <tbody>\n",
       "    <tr>\n",
       "      <th>0</th>\n",
       "      <td>receptor-mediated endocytosis</td>\n",
       "      <td>GO:0016573</td>\n",
       "      <td>na</td>\n",
       "    </tr>\n",
       "    <tr>\n",
       "      <th>1</th>\n",
       "      <td>complement activation</td>\n",
       "      <td>GO:0016573</td>\n",
       "      <td>na</td>\n",
       "    </tr>\n",
       "    <tr>\n",
       "      <th>2</th>\n",
       "      <td>complement activation, classical pathway</td>\n",
       "      <td>GO:0016573</td>\n",
       "      <td>na</td>\n",
       "    </tr>\n",
       "    <tr>\n",
       "      <th>3</th>\n",
       "      <td>regulation of complement activation</td>\n",
       "      <td>GO:0016573</td>\n",
       "      <td>na</td>\n",
       "    </tr>\n",
       "    <tr>\n",
       "      <th>4</th>\n",
       "      <td>Fc-epsilon receptor signaling pathway</td>\n",
       "      <td>GO:0016573</td>\n",
       "      <td>na</td>\n",
       "    </tr>\n",
       "  </tbody>\n",
       "</table>\n",
       "</div>"
      ],
      "text/plain": [
       "                                  GO Phrase          GO  NA\n",
       "0             receptor-mediated endocytosis  GO:0016573  na\n",
       "1                     complement activation  GO:0016573  na\n",
       "2  complement activation, classical pathway  GO:0016573  na\n",
       "3       regulation of complement activation  GO:0016573  na\n",
       "4     Fc-epsilon receptor signaling pathway  GO:0016573  na"
      ]
     },
     "execution_count": 39,
     "metadata": {},
     "output_type": "execute_result"
    }
   ],
   "source": [
    "attribute_list.head()"
   ]
  },
  {
   "cell_type": "markdown",
   "metadata": {},
   "source": [
    "create gene attribute edges"
   ]
  },
  {
   "cell_type": "code",
   "execution_count": 40,
   "metadata": {
    "collapsed": true
   },
   "outputs": [],
   "source": [
    "bp_gene_attribute_edges = pd.DataFrame(columns=['source', 'source_desc', 'source_id', 'target', 'target_desc', 'target_id', 'weight'])\n",
    "\n",
    "bp_gene_attribute_edges['source'] = gene_list['GeneSym']\n",
    "bp_gene_attribute_edges['source_desc'] = gene_list['UniprotACC']\n",
    "bp_gene_attribute_edges['source_id'] = gene_list['GeneID']\n",
    "bp_gene_attribute_edges['target'] = attribute_list['GO Phrase']\n",
    "bp_gene_attribute_edges['target_desc'] = attribute_list['GO']\n",
    "bp_gene_attribute_edges['target_id'] = attribute_list['NA']\n",
    "bp_gene_attribute_edges['weight'] = 1.0\n",
    "\n",
    "col = ['GeneSym', 'UniProtACC', 'GeneID', 'GO Phrase', 'GO', 'NA', 'weight']\n",
    "line = pd.DataFrame(data=col).T\n",
    "line.columns = ['source', 'source_desc', 'source_id', 'target', 'target_desc', 'target_id', 'weight']\n",
    "bp_gene_attribute_edges = pd.concat([line, bp_gene_attribute_edges]).reset_index(drop=True)\n",
    "\n",
    "filename = 'output/go_biological_process_gene_attribute_edges_%s.tsv'% str(datetime.date.today())[0:7].replace('-', '_')\n",
    "bp_gene_attribute_edges.to_csv(filename, index=False,sep='\\t')"
   ]
  },
  {
   "cell_type": "code",
   "execution_count": 41,
   "metadata": {},
   "outputs": [
    {
     "data": {
      "text/html": [
       "<div>\n",
       "<table border=\"1\" class=\"dataframe\">\n",
       "  <thead>\n",
       "    <tr style=\"text-align: right;\">\n",
       "      <th></th>\n",
       "      <th>source</th>\n",
       "      <th>source_desc</th>\n",
       "      <th>source_id</th>\n",
       "      <th>target</th>\n",
       "      <th>target_desc</th>\n",
       "      <th>target_id</th>\n",
       "      <th>weight</th>\n",
       "    </tr>\n",
       "  </thead>\n",
       "  <tbody>\n",
       "    <tr>\n",
       "      <th>0</th>\n",
       "      <td>GeneSym</td>\n",
       "      <td>UniProtACC</td>\n",
       "      <td>GeneID</td>\n",
       "      <td>GO Phrase</td>\n",
       "      <td>GO</td>\n",
       "      <td>NA</td>\n",
       "      <td>weight</td>\n",
       "    </tr>\n",
       "    <tr>\n",
       "      <th>1</th>\n",
       "      <td>IGKV2-28</td>\n",
       "      <td>A0A075B6P5</td>\n",
       "      <td>28921</td>\n",
       "      <td>receptor-mediated endocytosis</td>\n",
       "      <td>GO:0016573</td>\n",
       "      <td>na</td>\n",
       "      <td>1</td>\n",
       "    </tr>\n",
       "    <tr>\n",
       "      <th>2</th>\n",
       "      <td>IGHV3-64</td>\n",
       "      <td>A0A075B6Q5</td>\n",
       "      <td>28414</td>\n",
       "      <td>complement activation</td>\n",
       "      <td>GO:0016573</td>\n",
       "      <td>na</td>\n",
       "      <td>1</td>\n",
       "    </tr>\n",
       "    <tr>\n",
       "      <th>3</th>\n",
       "      <td>IGHV4-4</td>\n",
       "      <td>A0A075B6R2</td>\n",
       "      <td>28401</td>\n",
       "      <td>complement activation, classical pathway</td>\n",
       "      <td>GO:0016573</td>\n",
       "      <td>na</td>\n",
       "      <td>1</td>\n",
       "    </tr>\n",
       "    <tr>\n",
       "      <th>4</th>\n",
       "      <td>IGKV2D-30</td>\n",
       "      <td>A0A075B6S6</td>\n",
       "      <td>28881</td>\n",
       "      <td>regulation of complement activation</td>\n",
       "      <td>GO:0016573</td>\n",
       "      <td>na</td>\n",
       "      <td>1</td>\n",
       "    </tr>\n",
       "  </tbody>\n",
       "</table>\n",
       "</div>"
      ],
      "text/plain": [
       "      source source_desc source_id                                    target  \\\n",
       "0    GeneSym  UniProtACC    GeneID                                 GO Phrase   \n",
       "1   IGKV2-28  A0A075B6P5     28921             receptor-mediated endocytosis   \n",
       "2   IGHV3-64  A0A075B6Q5     28414                     complement activation   \n",
       "3    IGHV4-4  A0A075B6R2     28401  complement activation, classical pathway   \n",
       "4  IGKV2D-30  A0A075B6S6     28881       regulation of complement activation   \n",
       "\n",
       "  target_desc target_id  weight  \n",
       "0          GO        NA  weight  \n",
       "1  GO:0016573        na       1  \n",
       "2  GO:0016573        na       1  \n",
       "3  GO:0016573        na       1  \n",
       "4  GO:0016573        na       1  "
      ]
     },
     "execution_count": 41,
     "metadata": {},
     "output_type": "execute_result"
    }
   ],
   "source": [
    "bp_gene_attribute_edges.head()"
   ]
  },
  {
   "cell_type": "markdown",
   "metadata": {},
   "source": [
    "### Cellular Component (C)"
   ]
  },
  {
   "cell_type": "code",
   "execution_count": 42,
   "metadata": {
    "collapsed": true
   },
   "outputs": [],
   "source": [
    "cc_go_human = go_human[go_human[8]=='C'].copy()"
   ]
  },
  {
   "cell_type": "code",
   "execution_count": 43,
   "metadata": {},
   "outputs": [
    {
     "data": {
      "text/plain": [
       "(140382, 17)"
      ]
     },
     "execution_count": 43,
     "metadata": {},
     "output_type": "execute_result"
    }
   ],
   "source": [
    "cc_go_human.shape"
   ]
  },
  {
   "cell_type": "markdown",
   "metadata": {},
   "source": [
    "filter data by eveidance type (currently not in use)"
   ]
  },
  {
   "cell_type": "code",
   "execution_count": 44,
   "metadata": {
    "collapsed": true
   },
   "outputs": [],
   "source": [
    "cc_go_human = cc_go_human[~cc_go_human[6].isin(['IEA'])]"
   ]
  },
  {
   "cell_type": "code",
   "execution_count": 45,
   "metadata": {},
   "outputs": [
    {
     "data": {
      "text/plain": [
       "(121001, 17)"
      ]
     },
     "execution_count": 45,
     "metadata": {},
     "output_type": "execute_result"
    }
   ],
   "source": [
    "cc_go_human.shape"
   ]
  },
  {
   "cell_type": "code",
   "execution_count": 46,
   "metadata": {
    "collapsed": true
   },
   "outputs": [],
   "source": [
    "cc_go_human = cc_go_human[[1,2,4]]"
   ]
  },
  {
   "cell_type": "code",
   "execution_count": 47,
   "metadata": {},
   "outputs": [
    {
     "data": {
      "text/html": [
       "<div>\n",
       "<table border=\"1\" class=\"dataframe\">\n",
       "  <thead>\n",
       "    <tr style=\"text-align: right;\">\n",
       "      <th></th>\n",
       "      <th>1</th>\n",
       "      <th>2</th>\n",
       "      <th>4</th>\n",
       "    </tr>\n",
       "  </thead>\n",
       "  <tbody>\n",
       "    <tr>\n",
       "      <th>4</th>\n",
       "      <td>A0A075B6H7</td>\n",
       "      <td>IGKV3-7</td>\n",
       "      <td>GO:0005615</td>\n",
       "    </tr>\n",
       "    <tr>\n",
       "      <th>7</th>\n",
       "      <td>A0A075B6H8</td>\n",
       "      <td>IGKV1D-42</td>\n",
       "      <td>GO:0005615</td>\n",
       "    </tr>\n",
       "    <tr>\n",
       "      <th>12</th>\n",
       "      <td>A0A075B6H9</td>\n",
       "      <td>IGLV4-69</td>\n",
       "      <td>GO:0005615</td>\n",
       "    </tr>\n",
       "    <tr>\n",
       "      <th>18</th>\n",
       "      <td>A0A075B6I0</td>\n",
       "      <td>IGLV8-61</td>\n",
       "      <td>GO:0005615</td>\n",
       "    </tr>\n",
       "    <tr>\n",
       "      <th>24</th>\n",
       "      <td>A0A075B6I1</td>\n",
       "      <td>IGLV4-60</td>\n",
       "      <td>GO:0005615</td>\n",
       "    </tr>\n",
       "  </tbody>\n",
       "</table>\n",
       "</div>"
      ],
      "text/plain": [
       "             1          2           4\n",
       "4   A0A075B6H7    IGKV3-7  GO:0005615\n",
       "7   A0A075B6H8  IGKV1D-42  GO:0005615\n",
       "12  A0A075B6H9   IGLV4-69  GO:0005615\n",
       "18  A0A075B6I0   IGLV8-61  GO:0005615\n",
       "24  A0A075B6I1   IGLV4-60  GO:0005615"
      ]
     },
     "execution_count": 47,
     "metadata": {},
     "output_type": "execute_result"
    }
   ],
   "source": [
    "cc_go_human.head()"
   ]
  },
  {
   "cell_type": "markdown",
   "metadata": {},
   "source": [
    "map Uniprot to id gene symbol "
   ]
  },
  {
   "cell_type": "code",
   "execution_count": 48,
   "metadata": {},
   "outputs": [
    {
     "name": "stdout",
     "output_type": "stream",
     "text": [
      "Progress: 100%  121001 Out of 121001   \r"
     ]
    }
   ],
   "source": [
    "lst = []\n",
    "\n",
    "for i,index in enumerate(cc_go_human.index):\n",
    "    \n",
    "    progressPercent = ((i+1)/len(cc_go_human.index))*100\n",
    "\n",
    "    sys.stdout.write(\"Progress: %d%%  %d Out of %d   \\r\" % (progressPercent, (i+1), len(cc_go_human.index)))\n",
    "    sys.stdout.flush()\n",
    "    \n",
    "    geneID = cc_go_human.ix[index, 1]\n",
    "    if geneID in gene_mapping.index:\n",
    "        if type(gene_mapping.ix[geneID, 'Approved Symbol']) == str:\n",
    "            lst.append(gene_mapping.ix[geneID, 'Approved Symbol'])\n",
    "        else:\n",
    "            lst.append(cc_go_human.ix[index, 2])\n",
    "    else:\n",
    "        lst.append(np.nan)\n",
    "\n",
    "cc_go_human[1] = lst\n",
    "cc_go_human.drop(2, axis=1, inplace=True)"
   ]
  },
  {
   "cell_type": "code",
   "execution_count": 49,
   "metadata": {},
   "outputs": [
    {
     "data": {
      "text/html": [
       "<div>\n",
       "<table border=\"1\" class=\"dataframe\">\n",
       "  <thead>\n",
       "    <tr style=\"text-align: right;\">\n",
       "      <th></th>\n",
       "      <th>1</th>\n",
       "      <th>4</th>\n",
       "    </tr>\n",
       "  </thead>\n",
       "  <tbody>\n",
       "    <tr>\n",
       "      <th>4</th>\n",
       "      <td>NaN</td>\n",
       "      <td>GO:0005615</td>\n",
       "    </tr>\n",
       "    <tr>\n",
       "      <th>7</th>\n",
       "      <td>NaN</td>\n",
       "      <td>GO:0005615</td>\n",
       "    </tr>\n",
       "    <tr>\n",
       "      <th>12</th>\n",
       "      <td>IGLV4-69</td>\n",
       "      <td>GO:0005615</td>\n",
       "    </tr>\n",
       "    <tr>\n",
       "      <th>18</th>\n",
       "      <td>IGLV8-61</td>\n",
       "      <td>GO:0005615</td>\n",
       "    </tr>\n",
       "    <tr>\n",
       "      <th>24</th>\n",
       "      <td>IGLV4-60</td>\n",
       "      <td>GO:0005615</td>\n",
       "    </tr>\n",
       "  </tbody>\n",
       "</table>\n",
       "</div>"
      ],
      "text/plain": [
       "           1           4\n",
       "4        NaN  GO:0005615\n",
       "7        NaN  GO:0005615\n",
       "12  IGLV4-69  GO:0005615\n",
       "18  IGLV8-61  GO:0005615\n",
       "24  IGLV4-60  GO:0005615"
      ]
     },
     "execution_count": 49,
     "metadata": {},
     "output_type": "execute_result"
    }
   ],
   "source": [
    "cc_go_human.head()"
   ]
  },
  {
   "cell_type": "markdown",
   "metadata": {},
   "source": [
    "Drop genes that dont map to NCBI entraz ids"
   ]
  },
  {
   "cell_type": "code",
   "execution_count": 50,
   "metadata": {},
   "outputs": [
    {
     "data": {
      "text/plain": [
       "(121001, 2)"
      ]
     },
     "execution_count": 50,
     "metadata": {},
     "output_type": "execute_result"
    }
   ],
   "source": [
    "cc_go_human.shape"
   ]
  },
  {
   "cell_type": "code",
   "execution_count": 51,
   "metadata": {
    "collapsed": true
   },
   "outputs": [],
   "source": [
    "cc_go_human.dropna(inplace=True)"
   ]
  },
  {
   "cell_type": "code",
   "execution_count": 52,
   "metadata": {},
   "outputs": [
    {
     "data": {
      "text/plain": [
       "(119695, 2)"
      ]
     },
     "execution_count": 52,
     "metadata": {},
     "output_type": "execute_result"
    }
   ],
   "source": [
    "cc_go_human.shape"
   ]
  },
  {
   "cell_type": "markdown",
   "metadata": {},
   "source": [
    "map GO term to id for lower level (i.e. detailed) terms (level defined by depth variable)"
   ]
  },
  {
   "cell_type": "code",
   "execution_count": 53,
   "metadata": {
    "collapsed": true
   },
   "outputs": [],
   "source": [
    "lst = []\n",
    "\n",
    "for index in cc_go_human.index:\n",
    "    termID = cc_go_human.ix[index, 4]\n",
    "    ansestors = go_tems.ix[termID, 'ANCESTOR'].split('|')\n",
    "    if len(ansestors) > depth:\n",
    "        lst.append(go_tems.ix[termID, 'TERM'])\n",
    "    else:\n",
    "        lst.append(np.nan)\n",
    "\n",
    "cc_go_human[5] = lst"
   ]
  },
  {
   "cell_type": "code",
   "execution_count": 54,
   "metadata": {},
   "outputs": [
    {
     "data": {
      "text/html": [
       "<div>\n",
       "<table border=\"1\" class=\"dataframe\">\n",
       "  <thead>\n",
       "    <tr style=\"text-align: right;\">\n",
       "      <th></th>\n",
       "      <th>1</th>\n",
       "      <th>4</th>\n",
       "      <th>5</th>\n",
       "    </tr>\n",
       "  </thead>\n",
       "  <tbody>\n",
       "    <tr>\n",
       "      <th>12</th>\n",
       "      <td>IGLV4-69</td>\n",
       "      <td>GO:0005615</td>\n",
       "      <td>NaN</td>\n",
       "    </tr>\n",
       "    <tr>\n",
       "      <th>18</th>\n",
       "      <td>IGLV8-61</td>\n",
       "      <td>GO:0005615</td>\n",
       "      <td>NaN</td>\n",
       "    </tr>\n",
       "    <tr>\n",
       "      <th>24</th>\n",
       "      <td>IGLV4-60</td>\n",
       "      <td>GO:0005615</td>\n",
       "      <td>NaN</td>\n",
       "    </tr>\n",
       "    <tr>\n",
       "      <th>33</th>\n",
       "      <td>IGLV10-54</td>\n",
       "      <td>GO:0005615</td>\n",
       "      <td>NaN</td>\n",
       "    </tr>\n",
       "    <tr>\n",
       "      <th>45</th>\n",
       "      <td>IGLV7-46</td>\n",
       "      <td>GO:0005615</td>\n",
       "      <td>NaN</td>\n",
       "    </tr>\n",
       "  </tbody>\n",
       "</table>\n",
       "</div>"
      ],
      "text/plain": [
       "            1           4    5\n",
       "12   IGLV4-69  GO:0005615  NaN\n",
       "18   IGLV8-61  GO:0005615  NaN\n",
       "24   IGLV4-60  GO:0005615  NaN\n",
       "33  IGLV10-54  GO:0005615  NaN\n",
       "45   IGLV7-46  GO:0005615  NaN"
      ]
     },
     "execution_count": 54,
     "metadata": {},
     "output_type": "execute_result"
    }
   ],
   "source": [
    "cc_go_human.head()"
   ]
  },
  {
   "cell_type": "markdown",
   "metadata": {},
   "source": [
    "Drop High Level (too general description as defined by depth)"
   ]
  },
  {
   "cell_type": "code",
   "execution_count": 55,
   "metadata": {},
   "outputs": [
    {
     "data": {
      "text/plain": [
       "(119695, 3)"
      ]
     },
     "execution_count": 55,
     "metadata": {},
     "output_type": "execute_result"
    }
   ],
   "source": [
    "cc_go_human.shape"
   ]
  },
  {
   "cell_type": "code",
   "execution_count": 56,
   "metadata": {
    "collapsed": true
   },
   "outputs": [],
   "source": [
    "cc_go_human.dropna(inplace=True)"
   ]
  },
  {
   "cell_type": "code",
   "execution_count": 57,
   "metadata": {},
   "outputs": [
    {
     "data": {
      "text/plain": [
       "(104082, 3)"
      ]
     },
     "execution_count": 57,
     "metadata": {},
     "output_type": "execute_result"
    }
   ],
   "source": [
    "cc_go_human.shape"
   ]
  },
  {
   "cell_type": "markdown",
   "metadata": {},
   "source": [
    "create gene set library per go term"
   ]
  },
  {
   "cell_type": "code",
   "execution_count": 58,
   "metadata": {},
   "outputs": [
    {
     "name": "stdout",
     "output_type": "stream",
     "text": [
      "Progress: 100%  1340 Out of 1340   \r"
     ]
    }
   ],
   "source": [
    "filenameTSV = 'output/go_cellular_component_human_gene_set_%s.tsv'% str(datetime.date.today())[0:7].replace('-', '_')\n",
    "filenameGMT = 'output/go_cellular_component_human_gene_set_%s.gmt'% str(datetime.date.today())[0:7].replace('-', '_')\n",
    "\n",
    "if os.path.isfile(filenameTSV):\n",
    "    os.remove(filenameTSV)\n",
    "if os.path.isfile(filenameGMT):\n",
    "    os.remove(filenameGMT)\n",
    "\n",
    "for i,term in enumerate(cc_go_human[5].unique()):\n",
    "    \n",
    "    progressPercent = ((i+1)/len(cc_go_human[5].unique()))*100\n",
    "\n",
    "    sys.stdout.write(\"Progress: %d%%  %d Out of %d   \\r\" % (progressPercent, (i+1), len(cc_go_human[5].unique())))\n",
    "    sys.stdout.flush()\n",
    "    \n",
    "    ID = cc_go_human[cc_go_human[5]==term][4].tolist()[0]\n",
    "    lst = cc_go_human[cc_go_human[5]==term][1].tolist()\n",
    "    lst = list(set(lst))\n",
    "    if len(lst) >= min_genes and len(lst) <= max_genes:\n",
    "        lst.insert(0,term)\n",
    "        lst.insert(1, '('+ID+')')\n",
    "        lst = ['{0}\\t'.format(elem) for elem in lst] # add tabs between terms in the lst\n",
    "        lst.insert(len(lst), '\\n') # add a newline char at the end of each lst\n",
    "        \n",
    "        with open(filenameTSV, 'a') as the_file:\n",
    "            the_file.writelines(lst)\n",
    "\n",
    "        with open(filenameGMT, 'a') as the_file:\n",
    "            the_file.writelines(lst)"
   ]
  },
  {
   "cell_type": "markdown",
   "metadata": {},
   "source": [
    "create go term set library per gene"
   ]
  },
  {
   "cell_type": "code",
   "execution_count": 59,
   "metadata": {},
   "outputs": [
    {
     "name": "stdout",
     "output_type": "stream",
     "text": [
      "Progress: 100%  14373 Out of 14373   \r"
     ]
    }
   ],
   "source": [
    "filenameTSV = 'output/go_cellular_component_human_attibute _set_%s.tsv'% str(datetime.date.today())[0:7].replace('-', '_')\n",
    "filenameGMT = 'output/go_cellular_component_human_attribute_set_%s.gmt'% str(datetime.date.today())[0:7].replace('-', '_')\n",
    "\n",
    "if os.path.isfile(filenameTSV):\n",
    "    os.remove(filenameTSV)\n",
    "if os.path.isfile(filenameGMT):\n",
    "    os.remove(filenameGMT)\n",
    "\n",
    "for i,gene in enumerate(cc_go_human[1].unique()):\n",
    "    \n",
    "    progressPercent = ((i+1)/len(cc_go_human[1].unique()))*100\n",
    "\n",
    "    sys.stdout.write(\"Progress: %d%%  %d Out of %d   \\r\" % (progressPercent, (i+1), len(cc_go_human[1].unique())))\n",
    "    sys.stdout.flush()\n",
    "    \n",
    "    lst = cc_go_human[cc_go_human[1]==gene][5].tolist()\n",
    "    lst = list(set(lst))\n",
    "    if len(lst) >= min_terms and len(lst) <= max_terms:\n",
    "        lst.insert(0, gene)\n",
    "        lst.insert(1, 'NA')\n",
    "        lst = ['{0}\\t'.format(elem) for elem in lst] # add tabs between terms in the lst\n",
    "        lst.insert(len(lst), '\\n') # add a newline char at the end of each lst\n",
    "        \n",
    "        with open(filenameTSV, 'a') as the_file:\n",
    "            the_file.writelines(lst)\n",
    "\n",
    "        with open(filenameGMT, 'a') as the_file:\n",
    "            the_file.writelines(lst)"
   ]
  },
  {
   "cell_type": "markdown",
   "metadata": {},
   "source": [
    "create binary matrix"
   ]
  },
  {
   "cell_type": "code",
   "execution_count": 60,
   "metadata": {},
   "outputs": [
    {
     "name": "stdout",
     "output_type": "stream",
     "text": [
      "Progress: 100%  14373 Out of 14373   \r"
     ]
    }
   ],
   "source": [
    "genes = cc_go_human[1].unique()\n",
    "attributes = cc_go_human[5].unique()\n",
    "\n",
    "cc_df = pd.DataFrame(index=genes, columns=attributes, data=0)\n",
    "\n",
    "for i, gene in enumerate(genes):\n",
    "    \n",
    "    progressPercent = ((i+1)/len(genes))*100\n",
    "\n",
    "    sys.stdout.write(\"Progress: %d%%  %d Out of %d   \\r\" % (progressPercent, (i+1), len(genes)))\n",
    "    sys.stdout.flush()\n",
    "    \n",
    "    col = cc_go_human[cc_go_human[1]==gene][5].tolist()\n",
    "    cc_df.ix[gene, col] = 1\n",
    "    \n",
    "# filter out any row are column that doesnt have at least 'min' values\n",
    "cc_df.replace(0, np.nan, inplace=True)\n",
    "cc_df.dropna(thresh=min_terms, axis=0,inplace=True)\n",
    "cc_df.dropna(thresh=min_genes, axis=1,inplace=True)\n",
    "cc_df.replace(np.nan, 0, inplace=True)\n",
    "\n",
    "# filter out any row are column that has more than 'max' values\n",
    "cc_df.replace(1, np.nan, inplace=True)\n",
    "cc_df.dropna(thresh=len(cc_df.columns)-max_terms, axis=0,inplace=True)\n",
    "cc_df.dropna(thresh=len(cc_df.index)-max_genes, axis=1,inplace=True)\n",
    "cc_df.replace(np.nan, 1, inplace=True)\n",
    "    \n",
    "filename = 'output/go_cellular_component_binary_matrix_%s.tsv'% str(datetime.date.today())[0:7].replace('-', '_')\n",
    "cc_df.to_csv(filename, sep='\\t')"
   ]
  },
  {
   "cell_type": "code",
   "execution_count": 61,
   "metadata": {
    "collapsed": true
   },
   "outputs": [],
   "source": [
    "# Check the Jaccard distance between the genes\n",
    "cc_gene_similarity_matrix = dist.pdist(cc_df, 'jaccard')\n",
    "cc_gene_similarity_matrix = dist.squareform(cc_gene_similarity_matrix)\n",
    "cc_gene_similarity_df = pd.DataFrame(data=cc_gene_similarity_matrix[0:,0:], index=cc_df.index, columns=cc_df.index)\n",
    "cc_gene_similarity_df = cc_gene_similarity_df.applymap(lambda x: 1-x)\n",
    "\n",
    "filename = 'output/go_cellular_component_gene_similarity_%s.tsv'% str(datetime.date.today())[0:7].replace('-', '_')\n",
    "cc_gene_similarity_df.to_csv(filename, sep='\\t')"
   ]
  },
  {
   "cell_type": "code",
   "execution_count": 62,
   "metadata": {
    "collapsed": true
   },
   "outputs": [],
   "source": [
    "# Check the cosine distance between the samples (attributes)\n",
    "cc_attribute_similarity_matrix = dist.pdist(cc_df.T, 'jaccard')\n",
    "cc_attribute_similarity_matrix = dist.squareform(cc_attribute_similarity_matrix)\n",
    "cc_attribute_similarity_df = pd.DataFrame(data=cc_attribute_similarity_matrix[0:,0:], index=cc_df.columns, columns=cc_df.columns)\n",
    "cc_attribute_similarity_df = cc_attribute_similarity_df.applymap(lambda x: 1-x)\n",
    "\n",
    "filename = 'output/go_cellular_component_attribute_similarity_%s.tsv'% str(datetime.date.today())[0:7].replace('-', '_')\n",
    "cc_attribute_similarity_df.to_csv(filename, sep='\\t')"
   ]
  },
  {
   "cell_type": "markdown",
   "metadata": {},
   "source": [
    "create gene list"
   ]
  },
  {
   "cell_type": "code",
   "execution_count": 63,
   "metadata": {
    "collapsed": true
   },
   "outputs": [],
   "source": [
    "gene_list = pd.DataFrame(columns=['GeneSym', 'UniprotACC', 'GeneID'])\n",
    "\n",
    "gene_list['GeneSym'] = cc_df.index\n",
    "\n",
    "gene_mapping.reset_index(inplace=True)\n",
    "gene_mapping.set_index('Approved Symbol', inplace=True)\n",
    "for index in gene_list.index:\n",
    "    symbol = gene_list.ix[index, 'GeneSym']\n",
    "    gene_list.ix[index, 'GeneID'] = int(gene_mapping.ix[symbol, 'Entrez Gene ID'])\n",
    "    gene_list.ix[index, 'UniprotACC'] = gene_mapping.ix[symbol, 'UniProt ID(supplied by UniProt)']\n",
    "gene_mapping.reset_index(inplace=True)\n",
    "gene_mapping.set_index('UniProt ID(supplied by UniProt)', inplace=True)\n",
    "\n",
    "filename = 'output/go_cellular_component_gene_list_%s.tsv'% str(datetime.date.today())[0:7].replace('-', '_')\n",
    "gene_list.to_csv(filename, index=False,sep='\\t')"
   ]
  },
  {
   "cell_type": "markdown",
   "metadata": {},
   "source": [
    "create attribute list"
   ]
  },
  {
   "cell_type": "code",
   "execution_count": 64,
   "metadata": {
    "collapsed": true
   },
   "outputs": [],
   "source": [
    "attribute_list = pd.DataFrame(columns=['GO Phrase', 'GO', 'NA'])\n",
    "\n",
    "attribute_list['GO Phrase'] = cc_df.columns\n",
    "\n",
    "for index in attribute_list.index:\n",
    "    term = attribute_list.ix[index, 'GO Phrase']\n",
    "    attribute_list['GO'] = cc_go_human[cc_go_human[5]==term][4].tolist()[0]\n",
    "\n",
    "attribute_list['NA'] = 'na'\n",
    "\n",
    "filename = 'output/go_cellular_component_attribute_list_%s.tsv'% str(datetime.date.today())[0:7].replace('-', '_')\n",
    "attribute_list.to_csv(filename, index=False,sep='\\t')"
   ]
  },
  {
   "cell_type": "markdown",
   "metadata": {},
   "source": [
    "create gene attribute edges"
   ]
  },
  {
   "cell_type": "code",
   "execution_count": 65,
   "metadata": {
    "collapsed": true
   },
   "outputs": [],
   "source": [
    "cc_gene_attribute_edges = pd.DataFrame(columns=['source', 'source_desc', 'source_id', 'target', 'target_desc', 'target_id', 'weight'])\n",
    "\n",
    "cc_gene_attribute_edges['source'] = gene_list['GeneSym']\n",
    "cc_gene_attribute_edges['source_desc'] = gene_list['UniprotACC']\n",
    "cc_gene_attribute_edges['source_id'] = gene_list['GeneID']\n",
    "cc_gene_attribute_edges['target'] = attribute_list['GO Phrase']\n",
    "cc_gene_attribute_edges['target_desc'] = attribute_list['GO']\n",
    "cc_gene_attribute_edges['target_id'] = attribute_list['NA']\n",
    "cc_gene_attribute_edges['weight'] = 1.0\n",
    "\n",
    "col = ['GeneSym', 'UniProtACC', 'GeneID', 'GO Phrase', 'GO', 'NA', 'weight']\n",
    "line = pd.DataFrame(data=col).T\n",
    "line.columns = ['source', 'source_desc', 'source_id', 'target', 'target_desc', 'target_id', 'weight']\n",
    "cc_gene_attribute_edges = pd.concat([line, cc_gene_attribute_edges]).reset_index(drop=True)\n",
    "\n",
    "filename = 'output/go_cellular_component_gene_attribute_edges_%s.tsv'% str(datetime.date.today())[0:7].replace('-', '_')\n",
    "cc_gene_attribute_edges.to_csv(filename, index=False,sep='\\t')"
   ]
  },
  {
   "cell_type": "markdown",
   "metadata": {},
   "source": [
    "### Molecular Function (F)"
   ]
  },
  {
   "cell_type": "code",
   "execution_count": 66,
   "metadata": {
    "collapsed": true
   },
   "outputs": [],
   "source": [
    "mf_go_human = go_human[go_human[8]=='F'].copy()"
   ]
  },
  {
   "cell_type": "code",
   "execution_count": 67,
   "metadata": {},
   "outputs": [
    {
     "data": {
      "text/plain": [
       "(135735, 17)"
      ]
     },
     "execution_count": 67,
     "metadata": {},
     "output_type": "execute_result"
    }
   ],
   "source": [
    "mf_go_human.shape"
   ]
  },
  {
   "cell_type": "markdown",
   "metadata": {},
   "source": [
    "filter data by eveidance type (currently not in use)"
   ]
  },
  {
   "cell_type": "code",
   "execution_count": 68,
   "metadata": {},
   "outputs": [],
   "source": [
    "mf_go_human = mf_go_human[~mf_go_human[6].isin(['IEA'])]"
   ]
  },
  {
   "cell_type": "code",
   "execution_count": null,
   "metadata": {
    "collapsed": true
   },
   "outputs": [],
   "source": []
  },
  {
   "cell_type": "code",
   "execution_count": 69,
   "metadata": {},
   "outputs": [
    {
     "data": {
      "text/plain": [
       "(118767, 17)"
      ]
     },
     "execution_count": 69,
     "metadata": {},
     "output_type": "execute_result"
    }
   ],
   "source": [
    "mf_go_human.shape"
   ]
  },
  {
   "cell_type": "code",
   "execution_count": 70,
   "metadata": {
    "collapsed": true
   },
   "outputs": [],
   "source": [
    "mf_go_human = mf_go_human[[1,2,4]]"
   ]
  },
  {
   "cell_type": "code",
   "execution_count": 71,
   "metadata": {},
   "outputs": [
    {
     "data": {
      "text/html": [
       "<div>\n",
       "<table border=\"1\" class=\"dataframe\">\n",
       "  <thead>\n",
       "    <tr style=\"text-align: right;\">\n",
       "      <th></th>\n",
       "      <th>1</th>\n",
       "      <th>2</th>\n",
       "      <th>4</th>\n",
       "    </tr>\n",
       "  </thead>\n",
       "  <tbody>\n",
       "    <tr>\n",
       "      <th>98</th>\n",
       "      <td>A0A075B6P5</td>\n",
       "      <td>IGKV2-28</td>\n",
       "      <td>GO:0004252</td>\n",
       "    </tr>\n",
       "    <tr>\n",
       "      <th>99</th>\n",
       "      <td>A0A075B6P5</td>\n",
       "      <td>IGKV2-28</td>\n",
       "      <td>GO:0004252</td>\n",
       "    </tr>\n",
       "    <tr>\n",
       "      <th>160</th>\n",
       "      <td>A0A075B6Q5</td>\n",
       "      <td>IGHV3-64</td>\n",
       "      <td>GO:0003823</td>\n",
       "    </tr>\n",
       "    <tr>\n",
       "      <th>165</th>\n",
       "      <td>A0A075B6Q5</td>\n",
       "      <td>IGHV3-64</td>\n",
       "      <td>GO:0034987</td>\n",
       "    </tr>\n",
       "    <tr>\n",
       "      <th>172</th>\n",
       "      <td>A0A075B6R2</td>\n",
       "      <td>IGHV4-4</td>\n",
       "      <td>GO:0003823</td>\n",
       "    </tr>\n",
       "  </tbody>\n",
       "</table>\n",
       "</div>"
      ],
      "text/plain": [
       "              1         2           4\n",
       "98   A0A075B6P5  IGKV2-28  GO:0004252\n",
       "99   A0A075B6P5  IGKV2-28  GO:0004252\n",
       "160  A0A075B6Q5  IGHV3-64  GO:0003823\n",
       "165  A0A075B6Q5  IGHV3-64  GO:0034987\n",
       "172  A0A075B6R2   IGHV4-4  GO:0003823"
      ]
     },
     "execution_count": 71,
     "metadata": {},
     "output_type": "execute_result"
    }
   ],
   "source": [
    "mf_go_human.head()"
   ]
  },
  {
   "cell_type": "markdown",
   "metadata": {},
   "source": [
    "map Uniprot to id gene symbol "
   ]
  },
  {
   "cell_type": "code",
   "execution_count": 72,
   "metadata": {},
   "outputs": [
    {
     "name": "stdout",
     "output_type": "stream",
     "text": [
      "Progress: 100%  118767 Out of 118767   \r"
     ]
    }
   ],
   "source": [
    " lst = []\n",
    "\n",
    "for i,index in enumerate(mf_go_human.index):\n",
    "    \n",
    "    progressPercent = ((i+1)/len(mf_go_human.index))*100\n",
    "\n",
    "    sys.stdout.write(\"Progress: %d%%  %d Out of %d   \\r\" % (progressPercent, (i+1), len(mf_go_human.index)))\n",
    "    sys.stdout.flush()\n",
    "    \n",
    "    geneID = mf_go_human.ix[index, 1]\n",
    "    if geneID in gene_mapping.index:\n",
    "        if type(gene_mapping.ix[geneID, 'Approved Symbol']) == str:\n",
    "            lst.append(gene_mapping.ix[geneID, 'Approved Symbol'])\n",
    "        else:\n",
    "            lst.append(mf_go_human.ix[index, 2])\n",
    "    else:\n",
    "        lst.append(np.nan)\n",
    "\n",
    "mf_go_human[1] = lst\n",
    "mf_go_human.drop(2, axis=1, inplace=True)"
   ]
  },
  {
   "cell_type": "markdown",
   "metadata": {},
   "source": [
    "Drop genes that dont map to NCBI entraz ids"
   ]
  },
  {
   "cell_type": "code",
   "execution_count": 73,
   "metadata": {},
   "outputs": [
    {
     "data": {
      "text/plain": [
       "(118767, 2)"
      ]
     },
     "execution_count": 73,
     "metadata": {},
     "output_type": "execute_result"
    }
   ],
   "source": [
    "mf_go_human.shape"
   ]
  },
  {
   "cell_type": "code",
   "execution_count": 74,
   "metadata": {
    "collapsed": true
   },
   "outputs": [],
   "source": [
    "mf_go_human.dropna(inplace=True)"
   ]
  },
  {
   "cell_type": "code",
   "execution_count": 75,
   "metadata": {},
   "outputs": [
    {
     "data": {
      "text/plain": [
       "(117515, 2)"
      ]
     },
     "execution_count": 75,
     "metadata": {},
     "output_type": "execute_result"
    }
   ],
   "source": [
    "mf_go_human.shape"
   ]
  },
  {
   "cell_type": "code",
   "execution_count": null,
   "metadata": {
    "collapsed": true
   },
   "outputs": [],
   "source": []
  },
  {
   "cell_type": "markdown",
   "metadata": {},
   "source": [
    "map GO term to id for lower level (i.e. detailed) terms (level defined by depth variable)"
   ]
  },
  {
   "cell_type": "code",
   "execution_count": 76,
   "metadata": {
    "collapsed": true
   },
   "outputs": [],
   "source": [
    "lst = []\n",
    "\n",
    "for index in mf_go_human.index:\n",
    "    termID = mf_go_human.ix[index, 4]\n",
    "    ansestors = go_tems.ix[termID, 'ANCESTOR'].split('|')\n",
    "    if len(ansestors) > depth:\n",
    "        lst.append(go_tems.ix[termID, 'TERM'])\n",
    "    else:\n",
    "        lst.append(np.nan)\n",
    "\n",
    "mf_go_human[5] = lst"
   ]
  },
  {
   "cell_type": "markdown",
   "metadata": {},
   "source": [
    "Drop High Level (too general description as defined by depth)"
   ]
  },
  {
   "cell_type": "code",
   "execution_count": 77,
   "metadata": {},
   "outputs": [
    {
     "data": {
      "text/plain": [
       "(117515, 3)"
      ]
     },
     "execution_count": 77,
     "metadata": {},
     "output_type": "execute_result"
    }
   ],
   "source": [
    "mf_go_human.shape"
   ]
  },
  {
   "cell_type": "code",
   "execution_count": 78,
   "metadata": {
    "collapsed": true
   },
   "outputs": [],
   "source": [
    "mf_go_human.dropna(inplace=True)"
   ]
  },
  {
   "cell_type": "code",
   "execution_count": 79,
   "metadata": {},
   "outputs": [
    {
     "data": {
      "text/plain": [
       "(38482, 3)"
      ]
     },
     "execution_count": 79,
     "metadata": {},
     "output_type": "execute_result"
    }
   ],
   "source": [
    "mf_go_human.shape"
   ]
  },
  {
   "cell_type": "code",
   "execution_count": 80,
   "metadata": {},
   "outputs": [
    {
     "data": {
      "text/html": [
       "<div>\n",
       "<table border=\"1\" class=\"dataframe\">\n",
       "  <thead>\n",
       "    <tr style=\"text-align: right;\">\n",
       "      <th></th>\n",
       "      <th>1</th>\n",
       "      <th>4</th>\n",
       "      <th>5</th>\n",
       "    </tr>\n",
       "  </thead>\n",
       "  <tbody>\n",
       "    <tr>\n",
       "      <th>98</th>\n",
       "      <td>IGKV2-28</td>\n",
       "      <td>GO:0004252</td>\n",
       "      <td>serine-type endopeptidase activity</td>\n",
       "    </tr>\n",
       "    <tr>\n",
       "      <th>99</th>\n",
       "      <td>IGKV2-28</td>\n",
       "      <td>GO:0004252</td>\n",
       "      <td>serine-type endopeptidase activity</td>\n",
       "    </tr>\n",
       "    <tr>\n",
       "      <th>165</th>\n",
       "      <td>IGHV3-64</td>\n",
       "      <td>GO:0034987</td>\n",
       "      <td>immunoglobulin receptor binding</td>\n",
       "    </tr>\n",
       "    <tr>\n",
       "      <th>177</th>\n",
       "      <td>IGHV4-4</td>\n",
       "      <td>GO:0034987</td>\n",
       "      <td>immunoglobulin receptor binding</td>\n",
       "    </tr>\n",
       "    <tr>\n",
       "      <th>207</th>\n",
       "      <td>IGKV2D-30</td>\n",
       "      <td>GO:0004252</td>\n",
       "      <td>serine-type endopeptidase activity</td>\n",
       "    </tr>\n",
       "  </tbody>\n",
       "</table>\n",
       "</div>"
      ],
      "text/plain": [
       "             1           4                                   5\n",
       "98    IGKV2-28  GO:0004252  serine-type endopeptidase activity\n",
       "99    IGKV2-28  GO:0004252  serine-type endopeptidase activity\n",
       "165   IGHV3-64  GO:0034987     immunoglobulin receptor binding\n",
       "177    IGHV4-4  GO:0034987     immunoglobulin receptor binding\n",
       "207  IGKV2D-30  GO:0004252  serine-type endopeptidase activity"
      ]
     },
     "execution_count": 80,
     "metadata": {},
     "output_type": "execute_result"
    }
   ],
   "source": [
    "mf_go_human.head()"
   ]
  },
  {
   "cell_type": "markdown",
   "metadata": {},
   "source": [
    "create gene set library per go term"
   ]
  },
  {
   "cell_type": "code",
   "execution_count": 81,
   "metadata": {},
   "outputs": [
    {
     "name": "stdout",
     "output_type": "stream",
     "text": [
      "Progress: 100%  3370 Out of 3370   \r"
     ]
    }
   ],
   "source": [
    "filenameTSV = 'output/go_molecular_function_gene_set_%s.tsv'% str(datetime.date.today())[0:7].replace('-', '_')\n",
    "filenameGMT = 'output/go_molecular_function_gene_set_%s.gmt'% str(datetime.date.today())[0:7].replace('-', '_')\n",
    "\n",
    "if os.path.isfile(filenameTSV):\n",
    "    os.remove(filenameTSV)\n",
    "if os.path.isfile(filenameGMT):\n",
    "    os.remove(filenameGMT)\n",
    "\n",
    "for i,term in enumerate(mf_go_human[5].unique()):\n",
    "    \n",
    "    progressPercent = ((i+1)/len(mf_go_human[5].unique()))*100\n",
    "\n",
    "    sys.stdout.write(\"Progress: %d%%  %d Out of %d   \\r\" % (progressPercent, (i+1), len(mf_go_human[5].unique())))\n",
    "    sys.stdout.flush()\n",
    "    \n",
    "    ID = mf_go_human[mf_go_human[5]==term][4].tolist()[0]\n",
    "    lst = mf_go_human[mf_go_human[5]==term][1].tolist()\n",
    "    lst = list(set(lst))\n",
    "    if len(lst) >= min_genes and len(lst) <= max_genes:\n",
    "        lst.insert(0,term)\n",
    "        lst.insert(1, '('+ID+')')\n",
    "        lst = ['{0}\\t'.format(elem) for elem in lst] # add tabs between terms in the lst\n",
    "        lst.insert(len(lst), '\\n') # add a newline char at the end of each lst\n",
    "        \n",
    "        with open(filenameTSV, 'a') as the_file:\n",
    "            the_file.writelines(lst)\n",
    "\n",
    "        with open(filenameGMT, 'a') as the_file:\n",
    "            the_file.writelines(lst)"
   ]
  },
  {
   "cell_type": "markdown",
   "metadata": {},
   "source": [
    "create go term set library per gene"
   ]
  },
  {
   "cell_type": "code",
   "execution_count": 82,
   "metadata": {},
   "outputs": [
    {
     "name": "stdout",
     "output_type": "stream",
     "text": [
      "Progress: 100%  11577 Out of 11577   \r"
     ]
    }
   ],
   "source": [
    "filenameTSV = 'output/go_molecular_function_human_attibute _set_%s.tsv'% str(datetime.date.today())[0:7].replace('-', '_')\n",
    "filenameGMT = 'output/go_molecular_function_human_attribute_set_%s.gmt'% str(datetime.date.today())[0:7].replace('-', '_')\n",
    "\n",
    "if os.path.isfile(filenameTSV):\n",
    "    os.remove(filenameTSV)\n",
    "if os.path.isfile(filenameGMT):\n",
    "    os.remove(filenameGMT)\n",
    "\n",
    "for i,gene in enumerate(mf_go_human[1].unique()):\n",
    "    \n",
    "    progressPercent = ((i+1)/len(mf_go_human[1].unique()))*100\n",
    "\n",
    "    sys.stdout.write(\"Progress: %d%%  %d Out of %d   \\r\" % (progressPercent, (i+1), len(mf_go_human[1].unique())))\n",
    "    sys.stdout.flush()\n",
    "    \n",
    "    lst = mf_go_human[mf_go_human[1]==gene][5].tolist()\n",
    "    lst = list(set(lst))\n",
    "    if len(lst) >= min_terms and len(lst) <= max_terms:\n",
    "        lst.insert(0, gene)\n",
    "        lst.insert(1, 'NA')\n",
    "        lst = ['{0}\\t'.format(elem) for elem in lst] # add tabs between terms in the lst\n",
    "        lst.insert(len(lst), '\\n') # add a newline char at the end of each lst\n",
    "        \n",
    "        with open(filenameTSV, 'a') as the_file:\n",
    "            the_file.writelines(lst)\n",
    "\n",
    "        with open(filenameGMT, 'a') as the_file:\n",
    "            the_file.writelines(lst)"
   ]
  },
  {
   "cell_type": "markdown",
   "metadata": {},
   "source": [
    "create binary matrix"
   ]
  },
  {
   "cell_type": "code",
   "execution_count": 83,
   "metadata": {},
   "outputs": [
    {
     "name": "stdout",
     "output_type": "stream",
     "text": [
      "Progress: 100%  11577 Out of 11577   \r"
     ]
    }
   ],
   "source": [
    "genes = mf_go_human[1].unique()\n",
    "attributes = mf_go_human[5].unique()\n",
    "\n",
    "mf_df = pd.DataFrame(index=genes, columns=attributes, data=0)\n",
    "\n",
    "for i, gene in enumerate(genes):\n",
    "    \n",
    "    progressPercent = ((i+1)/len(genes))*100\n",
    "\n",
    "    sys.stdout.write(\"Progress: %d%%  %d Out of %d   \\r\" % (progressPercent, (i+1), len(genes)))\n",
    "    sys.stdout.flush()\n",
    "    \n",
    "    col = mf_go_human[mf_go_human[1]==gene][5].tolist()\n",
    "    mf_df.ix[gene, col] = 1\n",
    "\n",
    "# filter out any row are column that doesnt have at least 'min' values\n",
    "mf_df.replace(0, np.nan, inplace=True)\n",
    "mf_df.dropna(thresh=min_terms, axis=0,inplace=True)\n",
    "mf_df.dropna(thresh=min_genes, axis=1,inplace=True)\n",
    "mf_df.replace(np.nan, 0, inplace=True)\n",
    "\n",
    "# filter out any row are column that has more than 'max' values\n",
    "mf_df.replace(1, np.nan, inplace=True)\n",
    "mf_df.dropna(thresh=len(mf_df.columns)-max_terms, axis=0,inplace=True)\n",
    "mf_df.dropna(thresh=len(mf_df.index)-max_genes, axis=1,inplace=True)\n",
    "mf_df.replace(np.nan, 1, inplace=True)\n",
    "    \n",
    "filename = 'output/go_molecular_function_binary_matrix_%s.tsv'% str(datetime.date.today())[0:7].replace('-', '_')\n",
    "mf_df.to_csv(filename, sep='\\t')"
   ]
  },
  {
   "cell_type": "code",
   "execution_count": 84,
   "metadata": {
    "collapsed": true
   },
   "outputs": [],
   "source": [
    "# Check the Jaccard distance between the genes\n",
    "mf_gene_similarity_matrix = dist.pdist(mf_df, 'jaccard')\n",
    "mf_gene_similarity_matrix = dist.squareform(mf_gene_similarity_matrix)\n",
    "mf_gene_similarity_df = pd.DataFrame(data=mf_gene_similarity_matrix[0:,0:], index=mf_df.index, columns=mf_df.index)\n",
    "mf_gene_similarity_df = mf_gene_similarity_df.applymap(lambda x: 1-x)\n",
    "\n",
    "filename = 'output/go_molecular_function_gene_similarity_%s.tsv'% str(datetime.date.today())[0:7].replace('-', '_')\n",
    "mf_gene_similarity_df.to_csv(filename, sep='\\t')"
   ]
  },
  {
   "cell_type": "code",
   "execution_count": 85,
   "metadata": {},
   "outputs": [],
   "source": [
    "# Check the cosine distance between the samples (attributes)\n",
    "mf_attribute_similarity_matrix = dist.pdist(mf_df.T, 'jaccard')\n",
    "mf_attribute_similarity_matrix = dist.squareform(mf_attribute_similarity_matrix)\n",
    "mf_attribute_similarity_df = pd.DataFrame(data=mf_attribute_similarity_matrix[0:,0:], index=mf_df.columns, columns=mf_df.columns)\n",
    "mf_attribute_similarity_df = mf_attribute_similarity_df.applymap(lambda x: 1-x)\n",
    "\n",
    "filename = 'output/go_molecular_function_attribute_similarity_%s.tsv'% str(datetime.date.today())[0:7].replace('-', '_')\n",
    "mf_attribute_similarity_df.to_csv(filename, sep='\\t')"
   ]
  },
  {
   "cell_type": "markdown",
   "metadata": {},
   "source": [
    "create gene list"
   ]
  },
  {
   "cell_type": "code",
   "execution_count": 86,
   "metadata": {
    "collapsed": true
   },
   "outputs": [],
   "source": [
    "gene_list = pd.DataFrame(columns=['GeneSym', 'UniprotACC', 'GeneID'])\n",
    "\n",
    "gene_list['GeneSym'] = mf_df.index\n",
    "\n",
    "gene_mapping.reset_index(inplace=True)\n",
    "gene_mapping.set_index('Approved Symbol', inplace=True)\n",
    "for index in gene_list.index:\n",
    "    symbol = gene_list.ix[index, 'GeneSym']\n",
    "    gene_list.ix[index, 'GeneID'] = int(gene_mapping.ix[symbol, 'Entrez Gene ID'])\n",
    "    gene_list.ix[index, 'UniprotACC'] = gene_mapping.ix[symbol, 'UniProt ID(supplied by UniProt)']\n",
    "gene_mapping.reset_index(inplace=True)\n",
    "gene_mapping.set_index('UniProt ID(supplied by UniProt)', inplace=True)\n",
    "\n",
    "filename = 'output/go_molecular_function_gene_list_%s.tsv'% str(datetime.date.today())[0:7].replace('-', '_')\n",
    "gene_list.to_csv(filename, index=False,sep='\\t')"
   ]
  },
  {
   "cell_type": "markdown",
   "metadata": {},
   "source": [
    "create attribute list"
   ]
  },
  {
   "cell_type": "code",
   "execution_count": 87,
   "metadata": {
    "collapsed": true
   },
   "outputs": [],
   "source": [
    "attribute_list = pd.DataFrame(columns=['GO Phrase', 'GO', 'NA'])\n",
    "\n",
    "attribute_list['GO Phrase'] = mf_df.columns\n",
    "\n",
    "for index in attribute_list.index:\n",
    "    term = attribute_list.ix[index, 'GO Phrase']\n",
    "    attribute_list['GO'] = mf_go_human[mf_go_human[5]==term][4].tolist()[0]\n",
    "\n",
    "attribute_list['NA'] = 'na'\n",
    "\n",
    "filename = 'output/go_molecular_function_attribute_list_%s.tsv'% str(datetime.date.today())[0:7].replace('-', '_')\n",
    "attribute_list.to_csv(filename, index=False,sep='\\t')"
   ]
  },
  {
   "cell_type": "markdown",
   "metadata": {},
   "source": [
    "create gene attribute edges"
   ]
  },
  {
   "cell_type": "code",
   "execution_count": 88,
   "metadata": {
    "collapsed": true
   },
   "outputs": [],
   "source": [
    "mf_gene_attribute_edges = pd.DataFrame(columns=['source', 'source_desc', 'source_id', 'target', 'target_desc', 'target_id', 'weight'])\n",
    "\n",
    "mf_gene_attribute_edges['source'] = gene_list['GeneSym']\n",
    "mf_gene_attribute_edges['source_desc'] = gene_list['UniprotACC']\n",
    "mf_gene_attribute_edges['source_id'] = gene_list['GeneID']\n",
    "mf_gene_attribute_edges['target'] = attribute_list['GO Phrase']\n",
    "mf_gene_attribute_edges['target_desc'] = attribute_list['GO']\n",
    "mf_gene_attribute_edges['target_id'] = attribute_list['NA']\n",
    "mf_gene_attribute_edges['weight'] = 1.0\n",
    "\n",
    "col = ['GeneSym', 'UniProtACC', 'GeneID', 'GO Phrase', 'GO', 'NA', 'weight']\n",
    "line = pd.DataFrame(data=col).T\n",
    "line.columns = ['source', 'source_desc', 'source_id', 'target', 'target_desc', 'target_id', 'weight']\n",
    "mf_gene_attribute_edges = pd.concat([line, mf_gene_attribute_edges]).reset_index(drop=True)\n",
    "\n",
    "filename = 'output/go_molecular_function_gene_attribute_edges_%s.tsv'% str(datetime.date.today())[0:7].replace('-', '_')\n",
    "mf_gene_attribute_edges.to_csv(filename, index=False,sep='\\t')"
   ]
  }
 ],
 "metadata": {
  "kernelspec": {
   "display_name": "Python [default]",
   "language": "python",
   "name": "python3"
  },
  "language_info": {
   "codemirror_mode": {
    "name": "ipython",
    "version": 3
   },
   "file_extension": ".py",
   "mimetype": "text/x-python",
   "name": "python",
   "nbconvert_exporter": "python",
   "pygments_lexer": "ipython3",
   "version": "3.5.2"
  }
 },
 "nbformat": 4,
 "nbformat_minor": 2
}
