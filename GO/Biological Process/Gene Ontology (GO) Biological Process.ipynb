{
 "cells": [
  {
   "cell_type": "markdown",
   "metadata": {},
   "source": [
    "# Gene Ontology (GO) Biological Process"
   ]
  },
  {
   "cell_type": "markdown",
   "metadata": {},
   "source": [
    "Author: Moshe Silverstein <br/>\n",
    "Date: 7-17 <br/>\n",
    "Data Downloaded: 04-2017 <br/>\n",
    "Data Source: http://geneontology.org/gene-associations/goa_human.gaf.gz"
   ]
  },
  {
   "cell_type": "code",
   "execution_count": 1,
   "metadata": {},
   "outputs": [],
   "source": [
    "import sys, datetime\n",
    "import numpy as np\n",
    "import pandas as pd\n",
    "import importlib\n",
    "import my_functions as mf\n",
    "import goenrich\n",
    "%matplotlib inline"
   ]
  },
  {
   "cell_type": "code",
   "execution_count": 2,
   "metadata": {},
   "outputs": [
    {
     "data": {
      "text/plain": [
       "<module 'my_functions' from '/Users/moshesilverstein/Documents/Harmonizome/GO/my_functions.py'>"
      ]
     },
     "execution_count": 2,
     "metadata": {},
     "output_type": "execute_result"
    }
   ],
   "source": [
    "importlib.reload(mf)"
   ]
  },
  {
   "cell_type": "markdown",
   "metadata": {},
   "source": [
    "# Load Data"
   ]
  },
  {
   "cell_type": "code",
   "execution_count": 3,
   "metadata": {},
   "outputs": [],
   "source": [
    "df = pd.read_csv('input/goa_human.gaf', sep='\\t', skiprows=34, header=None, index_col=False)"
   ]
  },
  {
   "cell_type": "code",
   "execution_count": 4,
   "metadata": {},
   "outputs": [
    {
     "data": {
      "text/html": [
       "<div>\n",
       "<table border=\"1\" class=\"dataframe\">\n",
       "  <thead>\n",
       "    <tr style=\"text-align: right;\">\n",
       "      <th></th>\n",
       "      <th>0</th>\n",
       "      <th>1</th>\n",
       "      <th>2</th>\n",
       "      <th>3</th>\n",
       "      <th>4</th>\n",
       "      <th>5</th>\n",
       "      <th>6</th>\n",
       "      <th>7</th>\n",
       "      <th>8</th>\n",
       "      <th>9</th>\n",
       "      <th>10</th>\n",
       "      <th>11</th>\n",
       "      <th>12</th>\n",
       "      <th>13</th>\n",
       "      <th>14</th>\n",
       "      <th>15</th>\n",
       "      <th>16</th>\n",
       "    </tr>\n",
       "  </thead>\n",
       "  <tbody>\n",
       "    <tr>\n",
       "      <th>0</th>\n",
       "      <td>UniProtKB</td>\n",
       "      <td>A0A024R161</td>\n",
       "      <td>DNAJC25-GNG10</td>\n",
       "      <td>NaN</td>\n",
       "      <td>GO:0004871</td>\n",
       "      <td>GO_REF:0000038</td>\n",
       "      <td>IEA</td>\n",
       "      <td>UniProtKB-KW:KW-0807</td>\n",
       "      <td>F</td>\n",
       "      <td>Guanine nucleotide-binding protein subunit gamma</td>\n",
       "      <td>A0A024R161_HUMAN|DNAJC25-GNG10|hCG_1994888</td>\n",
       "      <td>protein</td>\n",
       "      <td>taxon:9606</td>\n",
       "      <td>20170506</td>\n",
       "      <td>UniProt</td>\n",
       "      <td>NaN</td>\n",
       "      <td>NaN</td>\n",
       "    </tr>\n",
       "    <tr>\n",
       "      <th>1</th>\n",
       "      <td>UniProtKB</td>\n",
       "      <td>A0A024R161</td>\n",
       "      <td>DNAJC25-GNG10</td>\n",
       "      <td>NaN</td>\n",
       "      <td>GO:0005834</td>\n",
       "      <td>GO_REF:0000002</td>\n",
       "      <td>IEA</td>\n",
       "      <td>InterPro:IPR001770|InterPro:IPR015898</td>\n",
       "      <td>C</td>\n",
       "      <td>Guanine nucleotide-binding protein subunit gamma</td>\n",
       "      <td>A0A024R161_HUMAN|DNAJC25-GNG10|hCG_1994888</td>\n",
       "      <td>protein</td>\n",
       "      <td>taxon:9606</td>\n",
       "      <td>20170506</td>\n",
       "      <td>InterPro</td>\n",
       "      <td>NaN</td>\n",
       "      <td>NaN</td>\n",
       "    </tr>\n",
       "    <tr>\n",
       "      <th>2</th>\n",
       "      <td>UniProtKB</td>\n",
       "      <td>A0A024R161</td>\n",
       "      <td>DNAJC25-GNG10</td>\n",
       "      <td>NaN</td>\n",
       "      <td>GO:0007186</td>\n",
       "      <td>GO_REF:0000002</td>\n",
       "      <td>IEA</td>\n",
       "      <td>InterPro:IPR001770|InterPro:IPR015898</td>\n",
       "      <td>P</td>\n",
       "      <td>Guanine nucleotide-binding protein subunit gamma</td>\n",
       "      <td>A0A024R161_HUMAN|DNAJC25-GNG10|hCG_1994888</td>\n",
       "      <td>protein</td>\n",
       "      <td>taxon:9606</td>\n",
       "      <td>20170506</td>\n",
       "      <td>InterPro</td>\n",
       "      <td>NaN</td>\n",
       "      <td>NaN</td>\n",
       "    </tr>\n",
       "    <tr>\n",
       "      <th>3</th>\n",
       "      <td>UniProtKB</td>\n",
       "      <td>A0A075B6H7</td>\n",
       "      <td>IGKV3-7</td>\n",
       "      <td>NaN</td>\n",
       "      <td>GO:0002377</td>\n",
       "      <td>GO_REF:0000033</td>\n",
       "      <td>IBA</td>\n",
       "      <td>PANTHER:PTN000587099</td>\n",
       "      <td>P</td>\n",
       "      <td>Immunoglobulin kappa variable 3-7 (non-functio...</td>\n",
       "      <td>A0A075B6H7_HUMAN|IGKV3-7</td>\n",
       "      <td>protein</td>\n",
       "      <td>taxon:9606</td>\n",
       "      <td>20150528</td>\n",
       "      <td>GO_Central</td>\n",
       "      <td>NaN</td>\n",
       "      <td>NaN</td>\n",
       "    </tr>\n",
       "    <tr>\n",
       "      <th>4</th>\n",
       "      <td>UniProtKB</td>\n",
       "      <td>A0A075B6H7</td>\n",
       "      <td>IGKV3-7</td>\n",
       "      <td>NaN</td>\n",
       "      <td>GO:0005615</td>\n",
       "      <td>GO_REF:0000033</td>\n",
       "      <td>IBA</td>\n",
       "      <td>PANTHER:PTN000587099</td>\n",
       "      <td>C</td>\n",
       "      <td>Immunoglobulin kappa variable 3-7 (non-functio...</td>\n",
       "      <td>A0A075B6H7_HUMAN|IGKV3-7</td>\n",
       "      <td>protein</td>\n",
       "      <td>taxon:9606</td>\n",
       "      <td>20150528</td>\n",
       "      <td>GO_Central</td>\n",
       "      <td>NaN</td>\n",
       "      <td>NaN</td>\n",
       "    </tr>\n",
       "  </tbody>\n",
       "</table>\n",
       "</div>"
      ],
      "text/plain": [
       "          0           1              2    3           4               5    6   \\\n",
       "0  UniProtKB  A0A024R161  DNAJC25-GNG10  NaN  GO:0004871  GO_REF:0000038  IEA   \n",
       "1  UniProtKB  A0A024R161  DNAJC25-GNG10  NaN  GO:0005834  GO_REF:0000002  IEA   \n",
       "2  UniProtKB  A0A024R161  DNAJC25-GNG10  NaN  GO:0007186  GO_REF:0000002  IEA   \n",
       "3  UniProtKB  A0A075B6H7        IGKV3-7  NaN  GO:0002377  GO_REF:0000033  IBA   \n",
       "4  UniProtKB  A0A075B6H7        IGKV3-7  NaN  GO:0005615  GO_REF:0000033  IBA   \n",
       "\n",
       "                                      7  8   \\\n",
       "0                   UniProtKB-KW:KW-0807  F   \n",
       "1  InterPro:IPR001770|InterPro:IPR015898  C   \n",
       "2  InterPro:IPR001770|InterPro:IPR015898  P   \n",
       "3                   PANTHER:PTN000587099  P   \n",
       "4                   PANTHER:PTN000587099  C   \n",
       "\n",
       "                                                  9   \\\n",
       "0   Guanine nucleotide-binding protein subunit gamma   \n",
       "1   Guanine nucleotide-binding protein subunit gamma   \n",
       "2   Guanine nucleotide-binding protein subunit gamma   \n",
       "3  Immunoglobulin kappa variable 3-7 (non-functio...   \n",
       "4  Immunoglobulin kappa variable 3-7 (non-functio...   \n",
       "\n",
       "                                           10       11          12        13  \\\n",
       "0  A0A024R161_HUMAN|DNAJC25-GNG10|hCG_1994888  protein  taxon:9606  20170506   \n",
       "1  A0A024R161_HUMAN|DNAJC25-GNG10|hCG_1994888  protein  taxon:9606  20170506   \n",
       "2  A0A024R161_HUMAN|DNAJC25-GNG10|hCG_1994888  protein  taxon:9606  20170506   \n",
       "3                    A0A075B6H7_HUMAN|IGKV3-7  protein  taxon:9606  20150528   \n",
       "4                    A0A075B6H7_HUMAN|IGKV3-7  protein  taxon:9606  20150528   \n",
       "\n",
       "           14   15  16  \n",
       "0     UniProt  NaN NaN  \n",
       "1    InterPro  NaN NaN  \n",
       "2    InterPro  NaN NaN  \n",
       "3  GO_Central  NaN NaN  \n",
       "4  GO_Central  NaN NaN  "
      ]
     },
     "execution_count": 4,
     "metadata": {},
     "output_type": "execute_result"
    }
   ],
   "source": [
    "df.head()"
   ]
  },
  {
   "cell_type": "code",
   "execution_count": 5,
   "metadata": {},
   "outputs": [
    {
     "data": {
      "text/plain": [
       "(417076, 17)"
      ]
     },
     "execution_count": 5,
     "metadata": {},
     "output_type": "execute_result"
    }
   ],
   "source": [
    "df.shape"
   ]
  },
  {
   "cell_type": "markdown",
   "metadata": {},
   "source": [
    "# Get Relevent Columns and Data"
   ]
  },
  {
   "cell_type": "code",
   "execution_count": 6,
   "metadata": {
    "collapsed": true
   },
   "outputs": [],
   "source": [
    "columns = [\"DB\", \"DB Object ID\", \"DB Object Symbol\", \"Qualifier\", \"GO ID\", \"DB:Reference\", \"Evidence Code\", \n",
    "               \"With (or) From\", \"Aspect\", \"DB Object Name\", \"DB Object Synonym\", \"DB Object Type\", \"Taxon\", \n",
    "               \"Date\", \"Assigned By\", \"Annotation Extension\", \"Gene Product Form ID\"]"
   ]
  },
  {
   "cell_type": "code",
   "execution_count": 7,
   "metadata": {
    "collapsed": true
   },
   "outputs": [],
   "source": [
    "df.columns = columns"
   ]
  },
  {
   "cell_type": "code",
   "execution_count": 8,
   "metadata": {},
   "outputs": [
    {
     "data": {
      "text/html": [
       "<div>\n",
       "<table border=\"1\" class=\"dataframe\">\n",
       "  <thead>\n",
       "    <tr style=\"text-align: right;\">\n",
       "      <th></th>\n",
       "      <th>DB</th>\n",
       "      <th>DB Object ID</th>\n",
       "      <th>DB Object Symbol</th>\n",
       "      <th>Qualifier</th>\n",
       "      <th>GO ID</th>\n",
       "      <th>DB:Reference</th>\n",
       "      <th>Evidence Code</th>\n",
       "      <th>With (or) From</th>\n",
       "      <th>Aspect</th>\n",
       "      <th>DB Object Name</th>\n",
       "      <th>DB Object Synonym</th>\n",
       "      <th>DB Object Type</th>\n",
       "      <th>Taxon</th>\n",
       "      <th>Date</th>\n",
       "      <th>Assigned By</th>\n",
       "      <th>Annotation Extension</th>\n",
       "      <th>Gene Product Form ID</th>\n",
       "    </tr>\n",
       "  </thead>\n",
       "  <tbody>\n",
       "    <tr>\n",
       "      <th>0</th>\n",
       "      <td>UniProtKB</td>\n",
       "      <td>A0A024R161</td>\n",
       "      <td>DNAJC25-GNG10</td>\n",
       "      <td>NaN</td>\n",
       "      <td>GO:0004871</td>\n",
       "      <td>GO_REF:0000038</td>\n",
       "      <td>IEA</td>\n",
       "      <td>UniProtKB-KW:KW-0807</td>\n",
       "      <td>F</td>\n",
       "      <td>Guanine nucleotide-binding protein subunit gamma</td>\n",
       "      <td>A0A024R161_HUMAN|DNAJC25-GNG10|hCG_1994888</td>\n",
       "      <td>protein</td>\n",
       "      <td>taxon:9606</td>\n",
       "      <td>20170506</td>\n",
       "      <td>UniProt</td>\n",
       "      <td>NaN</td>\n",
       "      <td>NaN</td>\n",
       "    </tr>\n",
       "    <tr>\n",
       "      <th>1</th>\n",
       "      <td>UniProtKB</td>\n",
       "      <td>A0A024R161</td>\n",
       "      <td>DNAJC25-GNG10</td>\n",
       "      <td>NaN</td>\n",
       "      <td>GO:0005834</td>\n",
       "      <td>GO_REF:0000002</td>\n",
       "      <td>IEA</td>\n",
       "      <td>InterPro:IPR001770|InterPro:IPR015898</td>\n",
       "      <td>C</td>\n",
       "      <td>Guanine nucleotide-binding protein subunit gamma</td>\n",
       "      <td>A0A024R161_HUMAN|DNAJC25-GNG10|hCG_1994888</td>\n",
       "      <td>protein</td>\n",
       "      <td>taxon:9606</td>\n",
       "      <td>20170506</td>\n",
       "      <td>InterPro</td>\n",
       "      <td>NaN</td>\n",
       "      <td>NaN</td>\n",
       "    </tr>\n",
       "    <tr>\n",
       "      <th>2</th>\n",
       "      <td>UniProtKB</td>\n",
       "      <td>A0A024R161</td>\n",
       "      <td>DNAJC25-GNG10</td>\n",
       "      <td>NaN</td>\n",
       "      <td>GO:0007186</td>\n",
       "      <td>GO_REF:0000002</td>\n",
       "      <td>IEA</td>\n",
       "      <td>InterPro:IPR001770|InterPro:IPR015898</td>\n",
       "      <td>P</td>\n",
       "      <td>Guanine nucleotide-binding protein subunit gamma</td>\n",
       "      <td>A0A024R161_HUMAN|DNAJC25-GNG10|hCG_1994888</td>\n",
       "      <td>protein</td>\n",
       "      <td>taxon:9606</td>\n",
       "      <td>20170506</td>\n",
       "      <td>InterPro</td>\n",
       "      <td>NaN</td>\n",
       "      <td>NaN</td>\n",
       "    </tr>\n",
       "    <tr>\n",
       "      <th>3</th>\n",
       "      <td>UniProtKB</td>\n",
       "      <td>A0A075B6H7</td>\n",
       "      <td>IGKV3-7</td>\n",
       "      <td>NaN</td>\n",
       "      <td>GO:0002377</td>\n",
       "      <td>GO_REF:0000033</td>\n",
       "      <td>IBA</td>\n",
       "      <td>PANTHER:PTN000587099</td>\n",
       "      <td>P</td>\n",
       "      <td>Immunoglobulin kappa variable 3-7 (non-functio...</td>\n",
       "      <td>A0A075B6H7_HUMAN|IGKV3-7</td>\n",
       "      <td>protein</td>\n",
       "      <td>taxon:9606</td>\n",
       "      <td>20150528</td>\n",
       "      <td>GO_Central</td>\n",
       "      <td>NaN</td>\n",
       "      <td>NaN</td>\n",
       "    </tr>\n",
       "    <tr>\n",
       "      <th>4</th>\n",
       "      <td>UniProtKB</td>\n",
       "      <td>A0A075B6H7</td>\n",
       "      <td>IGKV3-7</td>\n",
       "      <td>NaN</td>\n",
       "      <td>GO:0005615</td>\n",
       "      <td>GO_REF:0000033</td>\n",
       "      <td>IBA</td>\n",
       "      <td>PANTHER:PTN000587099</td>\n",
       "      <td>C</td>\n",
       "      <td>Immunoglobulin kappa variable 3-7 (non-functio...</td>\n",
       "      <td>A0A075B6H7_HUMAN|IGKV3-7</td>\n",
       "      <td>protein</td>\n",
       "      <td>taxon:9606</td>\n",
       "      <td>20150528</td>\n",
       "      <td>GO_Central</td>\n",
       "      <td>NaN</td>\n",
       "      <td>NaN</td>\n",
       "    </tr>\n",
       "  </tbody>\n",
       "</table>\n",
       "</div>"
      ],
      "text/plain": [
       "          DB DB Object ID DB Object Symbol Qualifier       GO ID  \\\n",
       "0  UniProtKB   A0A024R161    DNAJC25-GNG10       NaN  GO:0004871   \n",
       "1  UniProtKB   A0A024R161    DNAJC25-GNG10       NaN  GO:0005834   \n",
       "2  UniProtKB   A0A024R161    DNAJC25-GNG10       NaN  GO:0007186   \n",
       "3  UniProtKB   A0A075B6H7          IGKV3-7       NaN  GO:0002377   \n",
       "4  UniProtKB   A0A075B6H7          IGKV3-7       NaN  GO:0005615   \n",
       "\n",
       "     DB:Reference Evidence Code                         With (or) From Aspect  \\\n",
       "0  GO_REF:0000038           IEA                   UniProtKB-KW:KW-0807      F   \n",
       "1  GO_REF:0000002           IEA  InterPro:IPR001770|InterPro:IPR015898      C   \n",
       "2  GO_REF:0000002           IEA  InterPro:IPR001770|InterPro:IPR015898      P   \n",
       "3  GO_REF:0000033           IBA                   PANTHER:PTN000587099      P   \n",
       "4  GO_REF:0000033           IBA                   PANTHER:PTN000587099      C   \n",
       "\n",
       "                                      DB Object Name  \\\n",
       "0   Guanine nucleotide-binding protein subunit gamma   \n",
       "1   Guanine nucleotide-binding protein subunit gamma   \n",
       "2   Guanine nucleotide-binding protein subunit gamma   \n",
       "3  Immunoglobulin kappa variable 3-7 (non-functio...   \n",
       "4  Immunoglobulin kappa variable 3-7 (non-functio...   \n",
       "\n",
       "                            DB Object Synonym DB Object Type       Taxon  \\\n",
       "0  A0A024R161_HUMAN|DNAJC25-GNG10|hCG_1994888        protein  taxon:9606   \n",
       "1  A0A024R161_HUMAN|DNAJC25-GNG10|hCG_1994888        protein  taxon:9606   \n",
       "2  A0A024R161_HUMAN|DNAJC25-GNG10|hCG_1994888        protein  taxon:9606   \n",
       "3                    A0A075B6H7_HUMAN|IGKV3-7        protein  taxon:9606   \n",
       "4                    A0A075B6H7_HUMAN|IGKV3-7        protein  taxon:9606   \n",
       "\n",
       "       Date Assigned By Annotation Extension  Gene Product Form ID  \n",
       "0  20170506     UniProt                  NaN                   NaN  \n",
       "1  20170506    InterPro                  NaN                   NaN  \n",
       "2  20170506    InterPro                  NaN                   NaN  \n",
       "3  20150528  GO_Central                  NaN                   NaN  \n",
       "4  20150528  GO_Central                  NaN                   NaN  "
      ]
     },
     "execution_count": 8,
     "metadata": {},
     "output_type": "execute_result"
    }
   ],
   "source": [
    "df.head()"
   ]
  },
  {
   "cell_type": "markdown",
   "metadata": {},
   "source": [
    "#### Get Only Biological Process Data"
   ]
  },
  {
   "cell_type": "code",
   "execution_count": 9,
   "metadata": {
    "collapsed": true
   },
   "outputs": [],
   "source": [
    "df = df[df['Aspect']=='P'].copy()"
   ]
  },
  {
   "cell_type": "markdown",
   "metadata": {},
   "source": [
    "#### Drop All Data That Is Inferred from Electronic Annotation"
   ]
  },
  {
   "cell_type": "code",
   "execution_count": 10,
   "metadata": {},
   "outputs": [],
   "source": [
    "df = df[~df['Evidence Code'].isin(['IEA'])]"
   ]
  },
  {
   "cell_type": "markdown",
   "metadata": {},
   "source": [
    "#### Drop All 'Non' in Qualifier "
   ]
  },
  {
   "cell_type": "code",
   "execution_count": 11,
   "metadata": {
    "collapsed": true
   },
   "outputs": [],
   "source": [
    "df = df[~df['Qualifier'].isin(['NOT'])]"
   ]
  },
  {
   "cell_type": "code",
   "execution_count": 12,
   "metadata": {
    "collapsed": true
   },
   "outputs": [],
   "source": [
    "df = df[['DB Object Symbol', 'GO ID']]"
   ]
  },
  {
   "cell_type": "code",
   "execution_count": 13,
   "metadata": {
    "collapsed": true
   },
   "outputs": [],
   "source": [
    "df.reset_index(inplace=True)"
   ]
  },
  {
   "cell_type": "code",
   "execution_count": 14,
   "metadata": {
    "collapsed": true
   },
   "outputs": [],
   "source": [
    "df.drop('index', axis=1, inplace=True)"
   ]
  },
  {
   "cell_type": "code",
   "execution_count": 15,
   "metadata": {},
   "outputs": [
    {
     "data": {
      "text/html": [
       "<div>\n",
       "<table border=\"1\" class=\"dataframe\">\n",
       "  <thead>\n",
       "    <tr style=\"text-align: right;\">\n",
       "      <th></th>\n",
       "      <th>DB Object Symbol</th>\n",
       "      <th>GO ID</th>\n",
       "    </tr>\n",
       "  </thead>\n",
       "  <tbody>\n",
       "    <tr>\n",
       "      <th>0</th>\n",
       "      <td>IGKV3-7</td>\n",
       "      <td>GO:0002377</td>\n",
       "    </tr>\n",
       "    <tr>\n",
       "      <th>1</th>\n",
       "      <td>IGKV3-7</td>\n",
       "      <td>GO:0006955</td>\n",
       "    </tr>\n",
       "    <tr>\n",
       "      <th>2</th>\n",
       "      <td>IGKV1D-42</td>\n",
       "      <td>GO:0002377</td>\n",
       "    </tr>\n",
       "    <tr>\n",
       "      <th>3</th>\n",
       "      <td>IGKV1D-42</td>\n",
       "      <td>GO:0006955</td>\n",
       "    </tr>\n",
       "    <tr>\n",
       "      <th>4</th>\n",
       "      <td>IGLV4-69</td>\n",
       "      <td>GO:0002377</td>\n",
       "    </tr>\n",
       "  </tbody>\n",
       "</table>\n",
       "</div>"
      ],
      "text/plain": [
       "  DB Object Symbol       GO ID\n",
       "0          IGKV3-7  GO:0002377\n",
       "1          IGKV3-7  GO:0006955\n",
       "2        IGKV1D-42  GO:0002377\n",
       "3        IGKV1D-42  GO:0006955\n",
       "4         IGLV4-69  GO:0002377"
      ]
     },
     "execution_count": 15,
     "metadata": {},
     "output_type": "execute_result"
    }
   ],
   "source": [
    "df.head()"
   ]
  },
  {
   "cell_type": "code",
   "execution_count": 16,
   "metadata": {},
   "outputs": [
    {
     "data": {
      "text/plain": [
       "(94691, 2)"
      ]
     },
     "execution_count": 16,
     "metadata": {},
     "output_type": "execute_result"
    }
   ],
   "source": [
    "df.shape"
   ]
  },
  {
   "cell_type": "markdown",
   "metadata": {},
   "source": [
    "# Load Gene Ontology Tree Digraph"
   ]
  },
  {
   "cell_type": "code",
   "execution_count": 17,
   "metadata": {},
   "outputs": [],
   "source": [
    "digraph = goenrich.obo.ontology('input/go-basic.ob')"
   ]
  },
  {
   "cell_type": "markdown",
   "metadata": {},
   "source": [
    "# Keep Only Terms With a Tree Depth of 4 or Greater"
   ]
  },
  {
   "cell_type": "code",
   "execution_count": 18,
   "metadata": {},
   "outputs": [
    {
     "name": "stdout",
     "output_type": "stream",
     "text": [
      "Progress: 100%  94691 Out of 94691   \r"
     ]
    }
   ],
   "source": [
    "lst = []\n",
    "\n",
    "for i,index in enumerate(df.index):\n",
    "    \n",
    "    progressPercent = ((i+1)/len(df.index))*100\n",
    "\n",
    "    sys.stdout.write(\"Progress: %d%%  %d Out of %d   \\r\" % (progressPercent, (i+1), len(df.index)))\n",
    "    sys.stdout.flush()\n",
    "    \n",
    "    term = df.ix[index, 'GO ID']\n",
    "    if term in digraph.node:\n",
    "        if digraph.node[term]['depth'] >= 4:\n",
    "            lst.append(term)\n",
    "        else:\n",
    "            lst.append(np.nan)\n",
    "    else:\n",
    "        lst.append(np.nan)\n",
    "\n",
    "df['GO ID'] = lst"
   ]
  },
  {
   "cell_type": "code",
   "execution_count": 19,
   "metadata": {},
   "outputs": [
    {
     "data": {
      "text/plain": [
       "(94691, 2)"
      ]
     },
     "execution_count": 19,
     "metadata": {},
     "output_type": "execute_result"
    }
   ],
   "source": [
    "df.shape"
   ]
  },
  {
   "cell_type": "code",
   "execution_count": 20,
   "metadata": {},
   "outputs": [],
   "source": [
    "df.dropna(inplace=True)"
   ]
  },
  {
   "cell_type": "code",
   "execution_count": 21,
   "metadata": {},
   "outputs": [
    {
     "data": {
      "text/plain": [
       "(79686, 2)"
      ]
     },
     "execution_count": 21,
     "metadata": {},
     "output_type": "execute_result"
    }
   ],
   "source": [
    "df.shape"
   ]
  },
  {
   "cell_type": "code",
   "execution_count": 22,
   "metadata": {},
   "outputs": [
    {
     "data": {
      "text/html": [
       "<div>\n",
       "<table border=\"1\" class=\"dataframe\">\n",
       "  <thead>\n",
       "    <tr style=\"text-align: right;\">\n",
       "      <th></th>\n",
       "      <th>DB Object Symbol</th>\n",
       "      <th>GO ID</th>\n",
       "    </tr>\n",
       "  </thead>\n",
       "  <tbody>\n",
       "    <tr>\n",
       "      <th>39</th>\n",
       "      <td>IGKV2-28</td>\n",
       "      <td>GO:0006898</td>\n",
       "    </tr>\n",
       "    <tr>\n",
       "      <th>42</th>\n",
       "      <td>IGKV2-28</td>\n",
       "      <td>GO:0006958</td>\n",
       "    </tr>\n",
       "    <tr>\n",
       "      <th>43</th>\n",
       "      <td>IGKV2-28</td>\n",
       "      <td>GO:0030449</td>\n",
       "    </tr>\n",
       "    <tr>\n",
       "      <th>44</th>\n",
       "      <td>IGKV2-28</td>\n",
       "      <td>GO:0038095</td>\n",
       "    </tr>\n",
       "    <tr>\n",
       "      <th>45</th>\n",
       "      <td>IGKV2-28</td>\n",
       "      <td>GO:0038096</td>\n",
       "    </tr>\n",
       "  </tbody>\n",
       "</table>\n",
       "</div>"
      ],
      "text/plain": [
       "   DB Object Symbol       GO ID\n",
       "39         IGKV2-28  GO:0006898\n",
       "42         IGKV2-28  GO:0006958\n",
       "43         IGKV2-28  GO:0030449\n",
       "44         IGKV2-28  GO:0038095\n",
       "45         IGKV2-28  GO:0038096"
      ]
     },
     "execution_count": 22,
     "metadata": {},
     "output_type": "execute_result"
    }
   ],
   "source": [
    "df.head()"
   ]
  },
  {
   "cell_type": "markdown",
   "metadata": {},
   "source": [
    "# Term Propagation-propergate child gene term relationships to parent terms"
   ]
  },
  {
   "cell_type": "code",
   "execution_count": 23,
   "metadata": {},
   "outputs": [
    {
     "name": "stdout",
     "output_type": "stream",
     "text": [
      "Progress: 100%  79686 Out of 79686   \r"
     ]
    }
   ],
   "source": [
    "lst1 = []\n",
    "lst2 = []\n",
    "\n",
    "for i,index in enumerate(df.index):\n",
    "    \n",
    "    progressPercent = ((i+1)/len(df.index))*100\n",
    "\n",
    "    sys.stdout.write(\"Progress: %d%%  %d Out of %d   \\r\" % (progressPercent, (i+1), len(df.index)))\n",
    "    sys.stdout.flush()\n",
    "    \n",
    "    term = df.ix[index, 'GO ID']\n",
    "    for parent in digraph.predecessors(term):\n",
    "        if parent in digraph.node:\n",
    "            if digraph.node[parent]['depth'] >= 4:\n",
    "                lst1.append(df.ix[index, 'DB Object Symbol'])\n",
    "                lst2.append(parent)\n",
    "\n",
    "\n",
    "temp = pd.DataFrame()\n",
    "temp['DB Object Symbol'] = lst1\n",
    "temp['GO ID']  = lst2\n",
    "df = pd.concat([df, temp])\n",
    "df.reset_index(inplace=True)\n",
    "df.drop('index', axis=1, inplace=True)"
   ]
  },
  {
   "cell_type": "code",
   "execution_count": 24,
   "metadata": {},
   "outputs": [
    {
     "data": {
      "text/plain": [
       "(618023, 2)"
      ]
     },
     "execution_count": 24,
     "metadata": {},
     "output_type": "execute_result"
    }
   ],
   "source": [
    "df.shape"
   ]
  },
  {
   "cell_type": "markdown",
   "metadata": {},
   "source": [
    "# Map GO ID to Descriptive Name "
   ]
  },
  {
   "cell_type": "code",
   "execution_count": 25,
   "metadata": {},
   "outputs": [
    {
     "name": "stdout",
     "output_type": "stream",
     "text": [
      "Progress: 100%  618023 Out of 618023   \r"
     ]
    }
   ],
   "source": [
    "lst = []\n",
    "\n",
    "for i,index in enumerate(df.index):\n",
    "    \n",
    "    progressPercent = ((i+1)/len(df.index))*100\n",
    "\n",
    "    sys.stdout.write(\"Progress: %d%%  %d Out of %d   \\r\" % (progressPercent, (i+1), len(df.index)))\n",
    "    sys.stdout.flush()\n",
    "    \n",
    "    lst.append(digraph.node[df.ix[index, 'GO ID']]['name'])\n",
    "    \n",
    "df['GO ID'] = lst"
   ]
  },
  {
   "cell_type": "code",
   "execution_count": 26,
   "metadata": {},
   "outputs": [
    {
     "data": {
      "text/html": [
       "<div>\n",
       "<table border=\"1\" class=\"dataframe\">\n",
       "  <thead>\n",
       "    <tr style=\"text-align: right;\">\n",
       "      <th></th>\n",
       "      <th>DB Object Symbol</th>\n",
       "      <th>GO ID</th>\n",
       "    </tr>\n",
       "  </thead>\n",
       "  <tbody>\n",
       "    <tr>\n",
       "      <th>0</th>\n",
       "      <td>IGKV2-28</td>\n",
       "      <td>receptor-mediated endocytosis</td>\n",
       "    </tr>\n",
       "    <tr>\n",
       "      <th>1</th>\n",
       "      <td>IGKV2-28</td>\n",
       "      <td>complement activation, classical pathway</td>\n",
       "    </tr>\n",
       "    <tr>\n",
       "      <th>2</th>\n",
       "      <td>IGKV2-28</td>\n",
       "      <td>regulation of complement activation</td>\n",
       "    </tr>\n",
       "    <tr>\n",
       "      <th>3</th>\n",
       "      <td>IGKV2-28</td>\n",
       "      <td>Fc-epsilon receptor signaling pathway</td>\n",
       "    </tr>\n",
       "    <tr>\n",
       "      <th>4</th>\n",
       "      <td>IGKV2-28</td>\n",
       "      <td>Fc-gamma receptor signaling pathway involved i...</td>\n",
       "    </tr>\n",
       "  </tbody>\n",
       "</table>\n",
       "</div>"
      ],
      "text/plain": [
       "  DB Object Symbol                                              GO ID\n",
       "0         IGKV2-28                      receptor-mediated endocytosis\n",
       "1         IGKV2-28           complement activation, classical pathway\n",
       "2         IGKV2-28                regulation of complement activation\n",
       "3         IGKV2-28              Fc-epsilon receptor signaling pathway\n",
       "4         IGKV2-28  Fc-gamma receptor signaling pathway involved i..."
      ]
     },
     "execution_count": 26,
     "metadata": {},
     "output_type": "execute_result"
    }
   ],
   "source": [
    "df.head()"
   ]
  },
  {
   "cell_type": "markdown",
   "metadata": {},
   "source": [
    "# Map Gene Symbols To Up-to-date Approved Gene Symbols"
   ]
  },
  {
   "cell_type": "code",
   "execution_count": 27,
   "metadata": {
    "collapsed": true
   },
   "outputs": [],
   "source": [
    "df.set_index('DB Object Symbol', inplace=True)"
   ]
  },
  {
   "cell_type": "code",
   "execution_count": 28,
   "metadata": {},
   "outputs": [
    {
     "name": "stdout",
     "output_type": "stream",
     "text": [
      "Progeres: 99%  618020 Out of 618023   \r"
     ]
    }
   ],
   "source": [
    "mf.mapgenesymbols(df)"
   ]
  },
  {
   "cell_type": "code",
   "execution_count": 29,
   "metadata": {},
   "outputs": [],
   "source": [
    "df.shape"
   ]
  },
  {
   "cell_type": "markdown",
   "metadata": {},
   "source": [
    "# Drop Duplicates"
   ]
  },
  {
   "cell_type": "code",
   "execution_count": 30,
   "metadata": {
    "collapsed": true
   },
   "outputs": [],
   "source": [
    "df.reset_index(inplace=True)"
   ]
  },
  {
   "cell_type": "code",
   "execution_count": 31,
   "metadata": {
    "collapsed": true
   },
   "outputs": [],
   "source": [
    "df.drop_duplicates(inplace=True)"
   ]
  },
  {
   "cell_type": "code",
   "execution_count": 32,
   "metadata": {},
   "outputs": [
    {
     "data": {
      "text/plain": [
       "(510389, 2)"
      ]
     },
     "execution_count": 32,
     "metadata": {},
     "output_type": "execute_result"
    }
   ],
   "source": [
    "df.shape"
   ]
  },
  {
   "cell_type": "markdown",
   "metadata": {},
   "source": [
    "# Create Binary Matrix"
   ]
  },
  {
   "cell_type": "code",
   "execution_count": 41,
   "metadata": {},
   "outputs": [
    {
     "name": "stdout",
     "output_type": "stream",
     "text": [
      "Progeres: 100%  13334 Out of 13334   \r"
     ]
    }
   ],
   "source": [
    "binary_matrix = mf.createBinaryMatix(df)"
   ]
  },
  {
   "cell_type": "code",
   "execution_count": 42,
   "metadata": {},
   "outputs": [
    {
     "data": {
      "text/html": [
       "<div>\n",
       "<table border=\"1\" class=\"dataframe\">\n",
       "  <thead>\n",
       "    <tr style=\"text-align: right;\">\n",
       "      <th></th>\n",
       "      <th>tRNA modification</th>\n",
       "      <th>Fc-gamma receptor signaling pathway</th>\n",
       "      <th>minus-end-directed organelle transport along microtubule</th>\n",
       "      <th>termination of mitochondrial transcription</th>\n",
       "      <th>regulation of ribonuclease activity</th>\n",
       "      <th>T-helper 1 cell activation</th>\n",
       "      <th>saturated monocarboxylic acid metabolic process</th>\n",
       "      <th>purine nucleotide interconversion</th>\n",
       "      <th>regulation of endoplasmic reticulum stress-induced neuron intrinsic apoptotic signaling pathway</th>\n",
       "      <th>cellular response to potassium ion</th>\n",
       "      <th>...</th>\n",
       "      <th>fibroblast growth factor receptor signaling pathway involved in somitogenesis</th>\n",
       "      <th>sinoatrial node development</th>\n",
       "      <th>protein deglycation, methylglyoxal removal</th>\n",
       "      <th>positive regulation of slow-twitch skeletal muscle fiber contraction</th>\n",
       "      <th>positive regulation of interleukin-22 biosynthetic process</th>\n",
       "      <th>positive regulation of oxidative stress-induced intrinsic apoptotic signaling pathway</th>\n",
       "      <th>regulation of phagocytosis</th>\n",
       "      <th>calcium ion transmembrane import into cytosol</th>\n",
       "      <th>smooth muscle cell chemotaxis</th>\n",
       "      <th>viral protein processing</th>\n",
       "    </tr>\n",
       "  </thead>\n",
       "  <tbody>\n",
       "    <tr>\n",
       "      <th>C9</th>\n",
       "      <td>0</td>\n",
       "      <td>0</td>\n",
       "      <td>0</td>\n",
       "      <td>0</td>\n",
       "      <td>0</td>\n",
       "      <td>0</td>\n",
       "      <td>0</td>\n",
       "      <td>0</td>\n",
       "      <td>0</td>\n",
       "      <td>0</td>\n",
       "      <td>...</td>\n",
       "      <td>0</td>\n",
       "      <td>0</td>\n",
       "      <td>0</td>\n",
       "      <td>0</td>\n",
       "      <td>0</td>\n",
       "      <td>0</td>\n",
       "      <td>0</td>\n",
       "      <td>0</td>\n",
       "      <td>0</td>\n",
       "      <td>0</td>\n",
       "    </tr>\n",
       "    <tr>\n",
       "      <th>UBLCP1</th>\n",
       "      <td>0</td>\n",
       "      <td>0</td>\n",
       "      <td>0</td>\n",
       "      <td>0</td>\n",
       "      <td>0</td>\n",
       "      <td>0</td>\n",
       "      <td>0</td>\n",
       "      <td>0</td>\n",
       "      <td>0</td>\n",
       "      <td>0</td>\n",
       "      <td>...</td>\n",
       "      <td>0</td>\n",
       "      <td>0</td>\n",
       "      <td>0</td>\n",
       "      <td>0</td>\n",
       "      <td>0</td>\n",
       "      <td>0</td>\n",
       "      <td>0</td>\n",
       "      <td>0</td>\n",
       "      <td>0</td>\n",
       "      <td>0</td>\n",
       "    </tr>\n",
       "    <tr>\n",
       "      <th>RAD51C</th>\n",
       "      <td>0</td>\n",
       "      <td>0</td>\n",
       "      <td>0</td>\n",
       "      <td>0</td>\n",
       "      <td>0</td>\n",
       "      <td>0</td>\n",
       "      <td>0</td>\n",
       "      <td>0</td>\n",
       "      <td>0</td>\n",
       "      <td>0</td>\n",
       "      <td>...</td>\n",
       "      <td>0</td>\n",
       "      <td>0</td>\n",
       "      <td>0</td>\n",
       "      <td>0</td>\n",
       "      <td>0</td>\n",
       "      <td>0</td>\n",
       "      <td>0</td>\n",
       "      <td>0</td>\n",
       "      <td>0</td>\n",
       "      <td>0</td>\n",
       "    </tr>\n",
       "    <tr>\n",
       "      <th>CD27</th>\n",
       "      <td>0</td>\n",
       "      <td>0</td>\n",
       "      <td>0</td>\n",
       "      <td>0</td>\n",
       "      <td>0</td>\n",
       "      <td>0</td>\n",
       "      <td>0</td>\n",
       "      <td>0</td>\n",
       "      <td>0</td>\n",
       "      <td>0</td>\n",
       "      <td>...</td>\n",
       "      <td>0</td>\n",
       "      <td>0</td>\n",
       "      <td>0</td>\n",
       "      <td>0</td>\n",
       "      <td>0</td>\n",
       "      <td>0</td>\n",
       "      <td>0</td>\n",
       "      <td>0</td>\n",
       "      <td>0</td>\n",
       "      <td>0</td>\n",
       "    </tr>\n",
       "    <tr>\n",
       "      <th>CYGB</th>\n",
       "      <td>0</td>\n",
       "      <td>0</td>\n",
       "      <td>0</td>\n",
       "      <td>0</td>\n",
       "      <td>0</td>\n",
       "      <td>0</td>\n",
       "      <td>0</td>\n",
       "      <td>0</td>\n",
       "      <td>0</td>\n",
       "      <td>0</td>\n",
       "      <td>...</td>\n",
       "      <td>0</td>\n",
       "      <td>0</td>\n",
       "      <td>0</td>\n",
       "      <td>0</td>\n",
       "      <td>0</td>\n",
       "      <td>0</td>\n",
       "      <td>0</td>\n",
       "      <td>0</td>\n",
       "      <td>0</td>\n",
       "      <td>0</td>\n",
       "    </tr>\n",
       "  </tbody>\n",
       "</table>\n",
       "<p>5 rows × 17820 columns</p>\n",
       "</div>"
      ],
      "text/plain": [
       "        tRNA modification  Fc-gamma receptor signaling pathway  \\\n",
       "C9                      0                                    0   \n",
       "UBLCP1                  0                                    0   \n",
       "RAD51C                  0                                    0   \n",
       "CD27                    0                                    0   \n",
       "CYGB                    0                                    0   \n",
       "\n",
       "        minus-end-directed organelle transport along microtubule  \\\n",
       "C9                                                      0          \n",
       "UBLCP1                                                  0          \n",
       "RAD51C                                                  0          \n",
       "CD27                                                    0          \n",
       "CYGB                                                    0          \n",
       "\n",
       "        termination of mitochondrial transcription  \\\n",
       "C9                                               0   \n",
       "UBLCP1                                           0   \n",
       "RAD51C                                           0   \n",
       "CD27                                             0   \n",
       "CYGB                                             0   \n",
       "\n",
       "        regulation of ribonuclease activity  T-helper 1 cell activation  \\\n",
       "C9                                        0                           0   \n",
       "UBLCP1                                    0                           0   \n",
       "RAD51C                                    0                           0   \n",
       "CD27                                      0                           0   \n",
       "CYGB                                      0                           0   \n",
       "\n",
       "        saturated monocarboxylic acid metabolic process  \\\n",
       "C9                                                    0   \n",
       "UBLCP1                                                0   \n",
       "RAD51C                                                0   \n",
       "CD27                                                  0   \n",
       "CYGB                                                  0   \n",
       "\n",
       "        purine nucleotide interconversion  \\\n",
       "C9                                      0   \n",
       "UBLCP1                                  0   \n",
       "RAD51C                                  0   \n",
       "CD27                                    0   \n",
       "CYGB                                    0   \n",
       "\n",
       "        regulation of endoplasmic reticulum stress-induced neuron intrinsic apoptotic signaling pathway  \\\n",
       "C9                                                      0                                                 \n",
       "UBLCP1                                                  0                                                 \n",
       "RAD51C                                                  0                                                 \n",
       "CD27                                                    0                                                 \n",
       "CYGB                                                    0                                                 \n",
       "\n",
       "        cellular response to potassium ion            ...             \\\n",
       "C9                                       0            ...              \n",
       "UBLCP1                                   0            ...              \n",
       "RAD51C                                   0            ...              \n",
       "CD27                                     0            ...              \n",
       "CYGB                                     0            ...              \n",
       "\n",
       "        fibroblast growth factor receptor signaling pathway involved in somitogenesis  \\\n",
       "C9                                                      0                               \n",
       "UBLCP1                                                  0                               \n",
       "RAD51C                                                  0                               \n",
       "CD27                                                    0                               \n",
       "CYGB                                                    0                               \n",
       "\n",
       "        sinoatrial node development  \\\n",
       "C9                                0   \n",
       "UBLCP1                            0   \n",
       "RAD51C                            0   \n",
       "CD27                              0   \n",
       "CYGB                              0   \n",
       "\n",
       "        protein deglycation, methylglyoxal removal  \\\n",
       "C9                                               0   \n",
       "UBLCP1                                           0   \n",
       "RAD51C                                           0   \n",
       "CD27                                             0   \n",
       "CYGB                                             0   \n",
       "\n",
       "        positive regulation of slow-twitch skeletal muscle fiber contraction  \\\n",
       "C9                                                      0                      \n",
       "UBLCP1                                                  0                      \n",
       "RAD51C                                                  0                      \n",
       "CD27                                                    0                      \n",
       "CYGB                                                    0                      \n",
       "\n",
       "        positive regulation of interleukin-22 biosynthetic process  \\\n",
       "C9                                                      0            \n",
       "UBLCP1                                                  0            \n",
       "RAD51C                                                  0            \n",
       "CD27                                                    0            \n",
       "CYGB                                                    0            \n",
       "\n",
       "        positive regulation of oxidative stress-induced intrinsic apoptotic signaling pathway  \\\n",
       "C9                                                      0                                       \n",
       "UBLCP1                                                  0                                       \n",
       "RAD51C                                                  0                                       \n",
       "CD27                                                    0                                       \n",
       "CYGB                                                    0                                       \n",
       "\n",
       "        regulation of phagocytosis  \\\n",
       "C9                               0   \n",
       "UBLCP1                           0   \n",
       "RAD51C                           0   \n",
       "CD27                             0   \n",
       "CYGB                             0   \n",
       "\n",
       "        calcium ion transmembrane import into cytosol  \\\n",
       "C9                                                  0   \n",
       "UBLCP1                                              0   \n",
       "RAD51C                                              0   \n",
       "CD27                                                0   \n",
       "CYGB                                                0   \n",
       "\n",
       "        smooth muscle cell chemotaxis  viral protein processing  \n",
       "C9                                  0                         0  \n",
       "UBLCP1                              0                         0  \n",
       "RAD51C                              0                         0  \n",
       "CD27                                0                         0  \n",
       "CYGB                                0                         0  \n",
       "\n",
       "[5 rows x 17820 columns]"
      ]
     },
     "execution_count": 42,
     "metadata": {},
     "output_type": "execute_result"
    }
   ],
   "source": [
    "binary_matrix.head()"
   ]
  },
  {
   "cell_type": "code",
   "execution_count": 43,
   "metadata": {},
   "outputs": [
    {
     "data": {
      "text/plain": [
       "(13334, 17820)"
      ]
     },
     "execution_count": 43,
     "metadata": {},
     "output_type": "execute_result"
    }
   ],
   "source": [
    "binary_matrix.shape"
   ]
  },
  {
   "cell_type": "markdown",
   "metadata": {},
   "source": [
    "# Save Binary Matrix"
   ]
  },
  {
   "cell_type": "code",
   "execution_count": 44,
   "metadata": {},
   "outputs": [],
   "source": [
    "filename = '~/./Documents/Harmonizome/GO/output/go_biological_process_binary_matrix_%s.tsv.zip'% str(datetime.date.today())[0:7].replace('-', '_')\n",
    "binary_matrix.to_csv(filename, sep='\\t', compression='gzip')"
   ]
  },
  {
   "cell_type": "markdown",
   "metadata": {},
   "source": [
    "# Create Gene Set Library"
   ]
  },
  {
   "cell_type": "code",
   "execution_count": 45,
   "metadata": {
    "collapsed": true
   },
   "outputs": [],
   "source": [
    "path = '/Users/moshesilverstein/Documents/Harmonizome/GO/output/'"
   ]
  },
  {
   "cell_type": "code",
   "execution_count": 46,
   "metadata": {
    "collapsed": true
   },
   "outputs": [],
   "source": [
    "name = 'go_biological_process_gene_set'"
   ]
  },
  {
   "cell_type": "code",
   "execution_count": 47,
   "metadata": {},
   "outputs": [
    {
     "name": "stdout",
     "output_type": "stream",
     "text": [
      "Progeres: 100%  17820 Out of 17820   \r"
     ]
    }
   ],
   "source": [
    "mf.createUpGeneSetLib(binary_matrix, path, name)"
   ]
  },
  {
   "cell_type": "markdown",
   "metadata": {},
   "source": [
    "# Create Attribute Library"
   ]
  },
  {
   "cell_type": "code",
   "execution_count": 48,
   "metadata": {
    "collapsed": true
   },
   "outputs": [],
   "source": [
    "path = '/Users/moshesilverstein/Documents/Harmonizome/GO/output/'"
   ]
  },
  {
   "cell_type": "code",
   "execution_count": 49,
   "metadata": {
    "collapsed": true
   },
   "outputs": [],
   "source": [
    "name = 'go_biological_process_attribute_set'"
   ]
  },
  {
   "cell_type": "code",
   "execution_count": 50,
   "metadata": {},
   "outputs": [
    {
     "name": "stdout",
     "output_type": "stream",
     "text": [
      "Progeres: 100%  13334 Out of 13334   \r"
     ]
    }
   ],
   "source": [
    "mf.createUpAttributeSetLib(binary_matrix, path, name)"
   ]
  },
  {
   "cell_type": "markdown",
   "metadata": {},
   "source": [
    "# Create Gene Similarity Matrix"
   ]
  },
  {
   "cell_type": "code",
   "execution_count": 51,
   "metadata": {
    "collapsed": true
   },
   "outputs": [],
   "source": [
    "gene_similarity_matix = mf.createSimilarityMatrix(binary_matrix, 'jaccard')"
   ]
  },
  {
   "cell_type": "code",
   "execution_count": 52,
   "metadata": {},
   "outputs": [
    {
     "data": {
      "text/html": [
       "<div>\n",
       "<table border=\"1\" class=\"dataframe\">\n",
       "  <thead>\n",
       "    <tr style=\"text-align: right;\">\n",
       "      <th></th>\n",
       "      <th>C9</th>\n",
       "      <th>UBLCP1</th>\n",
       "      <th>RAD51C</th>\n",
       "      <th>CD27</th>\n",
       "      <th>CYGB</th>\n",
       "      <th>OR4X2</th>\n",
       "      <th>PCGF6</th>\n",
       "      <th>ITGB3BP</th>\n",
       "      <th>ZNF701</th>\n",
       "      <th>ASAH1</th>\n",
       "      <th>...</th>\n",
       "      <th>DAZ1</th>\n",
       "      <th>TOX3</th>\n",
       "      <th>FIG4</th>\n",
       "      <th>ZGPAT</th>\n",
       "      <th>PMAIP1</th>\n",
       "      <th>PDCD10</th>\n",
       "      <th>FUNDC1</th>\n",
       "      <th>SCAMP2</th>\n",
       "      <th>PRKAA1</th>\n",
       "      <th>ATAT1</th>\n",
       "    </tr>\n",
       "  </thead>\n",
       "  <tbody>\n",
       "    <tr>\n",
       "      <th>C9</th>\n",
       "      <td>1.0</td>\n",
       "      <td>0.0</td>\n",
       "      <td>0.0</td>\n",
       "      <td>0.0</td>\n",
       "      <td>0.0</td>\n",
       "      <td>0.0</td>\n",
       "      <td>0.0</td>\n",
       "      <td>0.0</td>\n",
       "      <td>0.0</td>\n",
       "      <td>0.0</td>\n",
       "      <td>...</td>\n",
       "      <td>0.0</td>\n",
       "      <td>0.000000</td>\n",
       "      <td>0.0</td>\n",
       "      <td>0.0</td>\n",
       "      <td>0.000</td>\n",
       "      <td>0.000000</td>\n",
       "      <td>0.0</td>\n",
       "      <td>0.0</td>\n",
       "      <td>0.000000</td>\n",
       "      <td>0.0</td>\n",
       "    </tr>\n",
       "    <tr>\n",
       "      <th>UBLCP1</th>\n",
       "      <td>0.0</td>\n",
       "      <td>1.0</td>\n",
       "      <td>0.0</td>\n",
       "      <td>0.0</td>\n",
       "      <td>0.0</td>\n",
       "      <td>0.0</td>\n",
       "      <td>0.0</td>\n",
       "      <td>0.0</td>\n",
       "      <td>0.0</td>\n",
       "      <td>0.0</td>\n",
       "      <td>...</td>\n",
       "      <td>0.0</td>\n",
       "      <td>0.000000</td>\n",
       "      <td>0.0</td>\n",
       "      <td>0.0</td>\n",
       "      <td>0.000</td>\n",
       "      <td>0.000000</td>\n",
       "      <td>0.0</td>\n",
       "      <td>0.0</td>\n",
       "      <td>0.000000</td>\n",
       "      <td>0.0</td>\n",
       "    </tr>\n",
       "    <tr>\n",
       "      <th>RAD51C</th>\n",
       "      <td>0.0</td>\n",
       "      <td>0.0</td>\n",
       "      <td>1.0</td>\n",
       "      <td>0.0</td>\n",
       "      <td>0.0</td>\n",
       "      <td>0.0</td>\n",
       "      <td>0.0</td>\n",
       "      <td>0.0</td>\n",
       "      <td>0.0</td>\n",
       "      <td>0.0</td>\n",
       "      <td>...</td>\n",
       "      <td>0.0</td>\n",
       "      <td>0.000000</td>\n",
       "      <td>0.0</td>\n",
       "      <td>0.0</td>\n",
       "      <td>0.000</td>\n",
       "      <td>0.000000</td>\n",
       "      <td>0.0</td>\n",
       "      <td>0.0</td>\n",
       "      <td>0.005000</td>\n",
       "      <td>0.0</td>\n",
       "    </tr>\n",
       "    <tr>\n",
       "      <th>CD27</th>\n",
       "      <td>0.0</td>\n",
       "      <td>0.0</td>\n",
       "      <td>0.0</td>\n",
       "      <td>1.0</td>\n",
       "      <td>0.0</td>\n",
       "      <td>0.0</td>\n",
       "      <td>0.0</td>\n",
       "      <td>0.0</td>\n",
       "      <td>0.0</td>\n",
       "      <td>0.0</td>\n",
       "      <td>...</td>\n",
       "      <td>0.0</td>\n",
       "      <td>0.009009</td>\n",
       "      <td>0.0</td>\n",
       "      <td>0.0</td>\n",
       "      <td>0.005</td>\n",
       "      <td>0.105769</td>\n",
       "      <td>0.0</td>\n",
       "      <td>0.0</td>\n",
       "      <td>0.090047</td>\n",
       "      <td>0.0</td>\n",
       "    </tr>\n",
       "    <tr>\n",
       "      <th>CYGB</th>\n",
       "      <td>0.0</td>\n",
       "      <td>0.0</td>\n",
       "      <td>0.0</td>\n",
       "      <td>0.0</td>\n",
       "      <td>1.0</td>\n",
       "      <td>0.0</td>\n",
       "      <td>0.0</td>\n",
       "      <td>0.0</td>\n",
       "      <td>0.0</td>\n",
       "      <td>0.0</td>\n",
       "      <td>...</td>\n",
       "      <td>0.0</td>\n",
       "      <td>0.000000</td>\n",
       "      <td>0.0</td>\n",
       "      <td>0.0</td>\n",
       "      <td>0.000</td>\n",
       "      <td>0.000000</td>\n",
       "      <td>0.0</td>\n",
       "      <td>0.0</td>\n",
       "      <td>0.000000</td>\n",
       "      <td>0.0</td>\n",
       "    </tr>\n",
       "  </tbody>\n",
       "</table>\n",
       "<p>5 rows × 13334 columns</p>\n",
       "</div>"
      ],
      "text/plain": [
       "         C9  UBLCP1  RAD51C  CD27  CYGB  OR4X2  PCGF6  ITGB3BP  ZNF701  ASAH1  \\\n",
       "C9      1.0     0.0     0.0   0.0   0.0    0.0    0.0      0.0     0.0    0.0   \n",
       "UBLCP1  0.0     1.0     0.0   0.0   0.0    0.0    0.0      0.0     0.0    0.0   \n",
       "RAD51C  0.0     0.0     1.0   0.0   0.0    0.0    0.0      0.0     0.0    0.0   \n",
       "CD27    0.0     0.0     0.0   1.0   0.0    0.0    0.0      0.0     0.0    0.0   \n",
       "CYGB    0.0     0.0     0.0   0.0   1.0    0.0    0.0      0.0     0.0    0.0   \n",
       "\n",
       "        ...    DAZ1      TOX3  FIG4  ZGPAT  PMAIP1    PDCD10  FUNDC1  SCAMP2  \\\n",
       "C9      ...     0.0  0.000000   0.0    0.0   0.000  0.000000     0.0     0.0   \n",
       "UBLCP1  ...     0.0  0.000000   0.0    0.0   0.000  0.000000     0.0     0.0   \n",
       "RAD51C  ...     0.0  0.000000   0.0    0.0   0.000  0.000000     0.0     0.0   \n",
       "CD27    ...     0.0  0.009009   0.0    0.0   0.005  0.105769     0.0     0.0   \n",
       "CYGB    ...     0.0  0.000000   0.0    0.0   0.000  0.000000     0.0     0.0   \n",
       "\n",
       "          PRKAA1  ATAT1  \n",
       "C9      0.000000    0.0  \n",
       "UBLCP1  0.000000    0.0  \n",
       "RAD51C  0.005000    0.0  \n",
       "CD27    0.090047    0.0  \n",
       "CYGB    0.000000    0.0  \n",
       "\n",
       "[5 rows x 13334 columns]"
      ]
     },
     "execution_count": 52,
     "metadata": {},
     "output_type": "execute_result"
    }
   ],
   "source": [
    "gene_similarity_matix.head()"
   ]
  },
  {
   "cell_type": "markdown",
   "metadata": {},
   "source": [
    "# Save Gene Similarity Matrix "
   ]
  },
  {
   "cell_type": "code",
   "execution_count": 53,
   "metadata": {
    "collapsed": true
   },
   "outputs": [],
   "source": [
    "filename = '~/./Documents/Harmonizome/GO/output/go_biological_process_gene_similarity_matix_%s.tsv.zip'% str(datetime.date.today())[0:7].replace('-', '_')\n",
    "gene_similarity_matix.to_csv(filename, sep='\\t', compression='gzip')"
   ]
  },
  {
   "cell_type": "markdown",
   "metadata": {},
   "source": [
    "# Create Attribute Similarity matrix"
   ]
  },
  {
   "cell_type": "code",
   "execution_count": 54,
   "metadata": {
    "collapsed": true
   },
   "outputs": [],
   "source": [
    "attribute_similarity_matix = mf.createSimilarityMatrix(binary_matrix.T, 'jaccard')"
   ]
  },
  {
   "cell_type": "code",
   "execution_count": 55,
   "metadata": {},
   "outputs": [
    {
     "data": {
      "text/html": [
       "<div>\n",
       "<table border=\"1\" class=\"dataframe\">\n",
       "  <thead>\n",
       "    <tr style=\"text-align: right;\">\n",
       "      <th></th>\n",
       "      <th>tRNA modification</th>\n",
       "      <th>Fc-gamma receptor signaling pathway</th>\n",
       "      <th>minus-end-directed organelle transport along microtubule</th>\n",
       "      <th>termination of mitochondrial transcription</th>\n",
       "      <th>regulation of ribonuclease activity</th>\n",
       "      <th>T-helper 1 cell activation</th>\n",
       "      <th>saturated monocarboxylic acid metabolic process</th>\n",
       "      <th>purine nucleotide interconversion</th>\n",
       "      <th>regulation of endoplasmic reticulum stress-induced neuron intrinsic apoptotic signaling pathway</th>\n",
       "      <th>cellular response to potassium ion</th>\n",
       "      <th>...</th>\n",
       "      <th>fibroblast growth factor receptor signaling pathway involved in somitogenesis</th>\n",
       "      <th>sinoatrial node development</th>\n",
       "      <th>protein deglycation, methylglyoxal removal</th>\n",
       "      <th>positive regulation of slow-twitch skeletal muscle fiber contraction</th>\n",
       "      <th>positive regulation of interleukin-22 biosynthetic process</th>\n",
       "      <th>positive regulation of oxidative stress-induced intrinsic apoptotic signaling pathway</th>\n",
       "      <th>regulation of phagocytosis</th>\n",
       "      <th>calcium ion transmembrane import into cytosol</th>\n",
       "      <th>smooth muscle cell chemotaxis</th>\n",
       "      <th>viral protein processing</th>\n",
       "    </tr>\n",
       "  </thead>\n",
       "  <tbody>\n",
       "    <tr>\n",
       "      <th>tRNA modification</th>\n",
       "      <td>1.0</td>\n",
       "      <td>0.0</td>\n",
       "      <td>0.0</td>\n",
       "      <td>0.0</td>\n",
       "      <td>0.0</td>\n",
       "      <td>0.0</td>\n",
       "      <td>0.0</td>\n",
       "      <td>0.0</td>\n",
       "      <td>0.0</td>\n",
       "      <td>0.0</td>\n",
       "      <td>...</td>\n",
       "      <td>0.000000</td>\n",
       "      <td>0.0</td>\n",
       "      <td>0.0</td>\n",
       "      <td>0.0</td>\n",
       "      <td>0.0</td>\n",
       "      <td>0.0</td>\n",
       "      <td>0.0</td>\n",
       "      <td>0.0</td>\n",
       "      <td>0.000000</td>\n",
       "      <td>0.000000</td>\n",
       "    </tr>\n",
       "    <tr>\n",
       "      <th>Fc-gamma receptor signaling pathway</th>\n",
       "      <td>0.0</td>\n",
       "      <td>1.0</td>\n",
       "      <td>0.0</td>\n",
       "      <td>0.0</td>\n",
       "      <td>0.0</td>\n",
       "      <td>0.0</td>\n",
       "      <td>0.0</td>\n",
       "      <td>0.0</td>\n",
       "      <td>0.0</td>\n",
       "      <td>0.0</td>\n",
       "      <td>...</td>\n",
       "      <td>0.000000</td>\n",
       "      <td>0.0</td>\n",
       "      <td>0.0</td>\n",
       "      <td>0.0</td>\n",
       "      <td>0.0</td>\n",
       "      <td>0.0</td>\n",
       "      <td>0.0</td>\n",
       "      <td>0.0</td>\n",
       "      <td>0.019608</td>\n",
       "      <td>0.000000</td>\n",
       "    </tr>\n",
       "    <tr>\n",
       "      <th>minus-end-directed organelle transport along microtubule</th>\n",
       "      <td>0.0</td>\n",
       "      <td>0.0</td>\n",
       "      <td>1.0</td>\n",
       "      <td>0.0</td>\n",
       "      <td>0.0</td>\n",
       "      <td>0.0</td>\n",
       "      <td>0.0</td>\n",
       "      <td>0.0</td>\n",
       "      <td>0.0</td>\n",
       "      <td>0.0</td>\n",
       "      <td>...</td>\n",
       "      <td>0.000000</td>\n",
       "      <td>0.0</td>\n",
       "      <td>0.0</td>\n",
       "      <td>0.0</td>\n",
       "      <td>0.0</td>\n",
       "      <td>0.0</td>\n",
       "      <td>0.0</td>\n",
       "      <td>0.0</td>\n",
       "      <td>0.000000</td>\n",
       "      <td>0.020833</td>\n",
       "    </tr>\n",
       "    <tr>\n",
       "      <th>termination of mitochondrial transcription</th>\n",
       "      <td>0.0</td>\n",
       "      <td>0.0</td>\n",
       "      <td>0.0</td>\n",
       "      <td>1.0</td>\n",
       "      <td>0.0</td>\n",
       "      <td>0.0</td>\n",
       "      <td>0.0</td>\n",
       "      <td>0.0</td>\n",
       "      <td>0.0</td>\n",
       "      <td>0.0</td>\n",
       "      <td>...</td>\n",
       "      <td>0.022222</td>\n",
       "      <td>0.0</td>\n",
       "      <td>0.0</td>\n",
       "      <td>0.0</td>\n",
       "      <td>0.0</td>\n",
       "      <td>0.0</td>\n",
       "      <td>0.0</td>\n",
       "      <td>0.0</td>\n",
       "      <td>0.000000</td>\n",
       "      <td>0.000000</td>\n",
       "    </tr>\n",
       "    <tr>\n",
       "      <th>regulation of ribonuclease activity</th>\n",
       "      <td>0.0</td>\n",
       "      <td>0.0</td>\n",
       "      <td>0.0</td>\n",
       "      <td>0.0</td>\n",
       "      <td>1.0</td>\n",
       "      <td>0.0</td>\n",
       "      <td>0.0</td>\n",
       "      <td>0.0</td>\n",
       "      <td>0.0</td>\n",
       "      <td>0.0</td>\n",
       "      <td>...</td>\n",
       "      <td>0.000000</td>\n",
       "      <td>0.0</td>\n",
       "      <td>0.0</td>\n",
       "      <td>0.0</td>\n",
       "      <td>0.0</td>\n",
       "      <td>0.0</td>\n",
       "      <td>0.0</td>\n",
       "      <td>0.0</td>\n",
       "      <td>0.000000</td>\n",
       "      <td>0.000000</td>\n",
       "    </tr>\n",
       "  </tbody>\n",
       "</table>\n",
       "<p>5 rows × 17820 columns</p>\n",
       "</div>"
      ],
      "text/plain": [
       "                                                    tRNA modification  \\\n",
       "tRNA modification                                                 1.0   \n",
       "Fc-gamma receptor signaling pathway                               0.0   \n",
       "minus-end-directed organelle transport along mi...                0.0   \n",
       "termination of mitochondrial transcription                        0.0   \n",
       "regulation of ribonuclease activity                               0.0   \n",
       "\n",
       "                                                    Fc-gamma receptor signaling pathway  \\\n",
       "tRNA modification                                                                   0.0   \n",
       "Fc-gamma receptor signaling pathway                                                 1.0   \n",
       "minus-end-directed organelle transport along mi...                                  0.0   \n",
       "termination of mitochondrial transcription                                          0.0   \n",
       "regulation of ribonuclease activity                                                 0.0   \n",
       "\n",
       "                                                    minus-end-directed organelle transport along microtubule  \\\n",
       "tRNA modification                                                                                 0.0          \n",
       "Fc-gamma receptor signaling pathway                                                               0.0          \n",
       "minus-end-directed organelle transport along mi...                                                1.0          \n",
       "termination of mitochondrial transcription                                                        0.0          \n",
       "regulation of ribonuclease activity                                                               0.0          \n",
       "\n",
       "                                                    termination of mitochondrial transcription  \\\n",
       "tRNA modification                                                                          0.0   \n",
       "Fc-gamma receptor signaling pathway                                                        0.0   \n",
       "minus-end-directed organelle transport along mi...                                         0.0   \n",
       "termination of mitochondrial transcription                                                 1.0   \n",
       "regulation of ribonuclease activity                                                        0.0   \n",
       "\n",
       "                                                    regulation of ribonuclease activity  \\\n",
       "tRNA modification                                                                   0.0   \n",
       "Fc-gamma receptor signaling pathway                                                 0.0   \n",
       "minus-end-directed organelle transport along mi...                                  0.0   \n",
       "termination of mitochondrial transcription                                          0.0   \n",
       "regulation of ribonuclease activity                                                 1.0   \n",
       "\n",
       "                                                    T-helper 1 cell activation  \\\n",
       "tRNA modification                                                          0.0   \n",
       "Fc-gamma receptor signaling pathway                                        0.0   \n",
       "minus-end-directed organelle transport along mi...                         0.0   \n",
       "termination of mitochondrial transcription                                 0.0   \n",
       "regulation of ribonuclease activity                                        0.0   \n",
       "\n",
       "                                                    saturated monocarboxylic acid metabolic process  \\\n",
       "tRNA modification                                                                               0.0   \n",
       "Fc-gamma receptor signaling pathway                                                             0.0   \n",
       "minus-end-directed organelle transport along mi...                                              0.0   \n",
       "termination of mitochondrial transcription                                                      0.0   \n",
       "regulation of ribonuclease activity                                                             0.0   \n",
       "\n",
       "                                                    purine nucleotide interconversion  \\\n",
       "tRNA modification                                                                 0.0   \n",
       "Fc-gamma receptor signaling pathway                                               0.0   \n",
       "minus-end-directed organelle transport along mi...                                0.0   \n",
       "termination of mitochondrial transcription                                        0.0   \n",
       "regulation of ribonuclease activity                                               0.0   \n",
       "\n",
       "                                                    regulation of endoplasmic reticulum stress-induced neuron intrinsic apoptotic signaling pathway  \\\n",
       "tRNA modification                                                                                 0.0                                                 \n",
       "Fc-gamma receptor signaling pathway                                                               0.0                                                 \n",
       "minus-end-directed organelle transport along mi...                                                0.0                                                 \n",
       "termination of mitochondrial transcription                                                        0.0                                                 \n",
       "regulation of ribonuclease activity                                                               0.0                                                 \n",
       "\n",
       "                                                    cellular response to potassium ion  \\\n",
       "tRNA modification                                                                  0.0   \n",
       "Fc-gamma receptor signaling pathway                                                0.0   \n",
       "minus-end-directed organelle transport along mi...                                 0.0   \n",
       "termination of mitochondrial transcription                                         0.0   \n",
       "regulation of ribonuclease activity                                                0.0   \n",
       "\n",
       "                                                              ...             \\\n",
       "tRNA modification                                             ...              \n",
       "Fc-gamma receptor signaling pathway                           ...              \n",
       "minus-end-directed organelle transport along mi...            ...              \n",
       "termination of mitochondrial transcription                    ...              \n",
       "regulation of ribonuclease activity                           ...              \n",
       "\n",
       "                                                    fibroblast growth factor receptor signaling pathway involved in somitogenesis  \\\n",
       "tRNA modification                                                                            0.000000                               \n",
       "Fc-gamma receptor signaling pathway                                                          0.000000                               \n",
       "minus-end-directed organelle transport along mi...                                           0.000000                               \n",
       "termination of mitochondrial transcription                                                   0.022222                               \n",
       "regulation of ribonuclease activity                                                          0.000000                               \n",
       "\n",
       "                                                    sinoatrial node development  \\\n",
       "tRNA modification                                                           0.0   \n",
       "Fc-gamma receptor signaling pathway                                         0.0   \n",
       "minus-end-directed organelle transport along mi...                          0.0   \n",
       "termination of mitochondrial transcription                                  0.0   \n",
       "regulation of ribonuclease activity                                         0.0   \n",
       "\n",
       "                                                    protein deglycation, methylglyoxal removal  \\\n",
       "tRNA modification                                                                          0.0   \n",
       "Fc-gamma receptor signaling pathway                                                        0.0   \n",
       "minus-end-directed organelle transport along mi...                                         0.0   \n",
       "termination of mitochondrial transcription                                                 0.0   \n",
       "regulation of ribonuclease activity                                                        0.0   \n",
       "\n",
       "                                                    positive regulation of slow-twitch skeletal muscle fiber contraction  \\\n",
       "tRNA modification                                                                                 0.0                      \n",
       "Fc-gamma receptor signaling pathway                                                               0.0                      \n",
       "minus-end-directed organelle transport along mi...                                                0.0                      \n",
       "termination of mitochondrial transcription                                                        0.0                      \n",
       "regulation of ribonuclease activity                                                               0.0                      \n",
       "\n",
       "                                                    positive regulation of interleukin-22 biosynthetic process  \\\n",
       "tRNA modification                                                                                 0.0            \n",
       "Fc-gamma receptor signaling pathway                                                               0.0            \n",
       "minus-end-directed organelle transport along mi...                                                0.0            \n",
       "termination of mitochondrial transcription                                                        0.0            \n",
       "regulation of ribonuclease activity                                                               0.0            \n",
       "\n",
       "                                                    positive regulation of oxidative stress-induced intrinsic apoptotic signaling pathway  \\\n",
       "tRNA modification                                                                                 0.0                                       \n",
       "Fc-gamma receptor signaling pathway                                                               0.0                                       \n",
       "minus-end-directed organelle transport along mi...                                                0.0                                       \n",
       "termination of mitochondrial transcription                                                        0.0                                       \n",
       "regulation of ribonuclease activity                                                               0.0                                       \n",
       "\n",
       "                                                    regulation of phagocytosis  \\\n",
       "tRNA modification                                                          0.0   \n",
       "Fc-gamma receptor signaling pathway                                        0.0   \n",
       "minus-end-directed organelle transport along mi...                         0.0   \n",
       "termination of mitochondrial transcription                                 0.0   \n",
       "regulation of ribonuclease activity                                        0.0   \n",
       "\n",
       "                                                    calcium ion transmembrane import into cytosol  \\\n",
       "tRNA modification                                                                             0.0   \n",
       "Fc-gamma receptor signaling pathway                                                           0.0   \n",
       "minus-end-directed organelle transport along mi...                                            0.0   \n",
       "termination of mitochondrial transcription                                                    0.0   \n",
       "regulation of ribonuclease activity                                                           0.0   \n",
       "\n",
       "                                                    smooth muscle cell chemotaxis  \\\n",
       "tRNA modification                                                        0.000000   \n",
       "Fc-gamma receptor signaling pathway                                      0.019608   \n",
       "minus-end-directed organelle transport along mi...                       0.000000   \n",
       "termination of mitochondrial transcription                               0.000000   \n",
       "regulation of ribonuclease activity                                      0.000000   \n",
       "\n",
       "                                                    viral protein processing  \n",
       "tRNA modification                                                   0.000000  \n",
       "Fc-gamma receptor signaling pathway                                 0.000000  \n",
       "minus-end-directed organelle transport along mi...                  0.020833  \n",
       "termination of mitochondrial transcription                          0.000000  \n",
       "regulation of ribonuclease activity                                 0.000000  \n",
       "\n",
       "[5 rows x 17820 columns]"
      ]
     },
     "execution_count": 55,
     "metadata": {},
     "output_type": "execute_result"
    }
   ],
   "source": [
    "attribute_similarity_matix.head()"
   ]
  },
  {
   "cell_type": "markdown",
   "metadata": {},
   "source": [
    "# Save Attribute Similarity Matrix"
   ]
  },
  {
   "cell_type": "code",
   "execution_count": 56,
   "metadata": {
    "collapsed": true
   },
   "outputs": [],
   "source": [
    "filename = '~/./Documents/Harmonizome/GO/output/go_biological_process_attribute_similarity_matix_%s.tsv.zip'% str(datetime.date.today())[0:7].replace('-', '_')\n",
    "attribute_similarity_matix.to_csv(filename, sep='\\t', compression='gzip')"
   ]
  },
  {
   "cell_type": "markdown",
   "metadata": {},
   "source": [
    "# Create Gene List"
   ]
  },
  {
   "cell_type": "code",
   "execution_count": 57,
   "metadata": {},
   "outputs": [
    {
     "name": "stdout",
     "output_type": "stream",
     "text": [
      "Progeres: 100%  13334 Out of 13334   \r"
     ]
    }
   ],
   "source": [
    "gene_list = mf.createGeneList(binary_matrix)"
   ]
  },
  {
   "cell_type": "code",
   "execution_count": 58,
   "metadata": {},
   "outputs": [
    {
     "data": {
      "text/html": [
       "<div>\n",
       "<table border=\"1\" class=\"dataframe\">\n",
       "  <thead>\n",
       "    <tr style=\"text-align: right;\">\n",
       "      <th></th>\n",
       "      <th>GeneSym</th>\n",
       "      <th>GeneID</th>\n",
       "    </tr>\n",
       "  </thead>\n",
       "  <tbody>\n",
       "    <tr>\n",
       "      <th>0</th>\n",
       "      <td>C9</td>\n",
       "      <td>735</td>\n",
       "    </tr>\n",
       "    <tr>\n",
       "      <th>1</th>\n",
       "      <td>UBLCP1</td>\n",
       "      <td>134510</td>\n",
       "    </tr>\n",
       "    <tr>\n",
       "      <th>2</th>\n",
       "      <td>RAD51C</td>\n",
       "      <td>5889</td>\n",
       "    </tr>\n",
       "    <tr>\n",
       "      <th>3</th>\n",
       "      <td>CD27</td>\n",
       "      <td>939</td>\n",
       "    </tr>\n",
       "    <tr>\n",
       "      <th>4</th>\n",
       "      <td>CYGB</td>\n",
       "      <td>114757</td>\n",
       "    </tr>\n",
       "  </tbody>\n",
       "</table>\n",
       "</div>"
      ],
      "text/plain": [
       "  GeneSym  GeneID\n",
       "0      C9     735\n",
       "1  UBLCP1  134510\n",
       "2  RAD51C    5889\n",
       "3    CD27     939\n",
       "4    CYGB  114757"
      ]
     },
     "execution_count": 58,
     "metadata": {},
     "output_type": "execute_result"
    }
   ],
   "source": [
    "gene_list.head()"
   ]
  },
  {
   "cell_type": "code",
   "execution_count": 59,
   "metadata": {},
   "outputs": [
    {
     "data": {
      "text/plain": [
       "(13334, 2)"
      ]
     },
     "execution_count": 59,
     "metadata": {},
     "output_type": "execute_result"
    }
   ],
   "source": [
    "gene_list.shape"
   ]
  },
  {
   "cell_type": "markdown",
   "metadata": {},
   "source": [
    "# Save Gene List"
   ]
  },
  {
   "cell_type": "code",
   "execution_count": 60,
   "metadata": {
    "collapsed": true
   },
   "outputs": [],
   "source": [
    "filename = '~/./Documents/Harmonizome/GO/output/go_biological_process_gene_list_%s.tsv.zip'% str(datetime.date.today())[0:7].replace('-', '_')\n",
    "gene_list.to_csv(filename, sep='\\t', index=False, compression='gzip')"
   ]
  },
  {
   "cell_type": "markdown",
   "metadata": {},
   "source": [
    "# Create Attribute List "
   ]
  },
  {
   "cell_type": "code",
   "execution_count": 61,
   "metadata": {
    "collapsed": true
   },
   "outputs": [],
   "source": [
    "attribute_list = mf.createAttributeList(binary_matrix)"
   ]
  },
  {
   "cell_type": "code",
   "execution_count": 62,
   "metadata": {},
   "outputs": [
    {
     "data": {
      "text/html": [
       "<div>\n",
       "<table border=\"1\" class=\"dataframe\">\n",
       "  <thead>\n",
       "    <tr style=\"text-align: right;\">\n",
       "      <th></th>\n",
       "      <th>Attributes</th>\n",
       "    </tr>\n",
       "  </thead>\n",
       "  <tbody>\n",
       "    <tr>\n",
       "      <th>0</th>\n",
       "      <td>tRNA modification</td>\n",
       "    </tr>\n",
       "    <tr>\n",
       "      <th>1</th>\n",
       "      <td>Fc-gamma receptor signaling pathway</td>\n",
       "    </tr>\n",
       "    <tr>\n",
       "      <th>2</th>\n",
       "      <td>minus-end-directed organelle transport along m...</td>\n",
       "    </tr>\n",
       "    <tr>\n",
       "      <th>3</th>\n",
       "      <td>termination of mitochondrial transcription</td>\n",
       "    </tr>\n",
       "    <tr>\n",
       "      <th>4</th>\n",
       "      <td>regulation of ribonuclease activity</td>\n",
       "    </tr>\n",
       "  </tbody>\n",
       "</table>\n",
       "</div>"
      ],
      "text/plain": [
       "                                          Attributes\n",
       "0                                  tRNA modification\n",
       "1                Fc-gamma receptor signaling pathway\n",
       "2  minus-end-directed organelle transport along m...\n",
       "3         termination of mitochondrial transcription\n",
       "4                regulation of ribonuclease activity"
      ]
     },
     "execution_count": 62,
     "metadata": {},
     "output_type": "execute_result"
    }
   ],
   "source": [
    "attribute_list.head()"
   ]
  },
  {
   "cell_type": "code",
   "execution_count": 63,
   "metadata": {},
   "outputs": [
    {
     "data": {
      "text/plain": [
       "(17820, 1)"
      ]
     },
     "execution_count": 63,
     "metadata": {},
     "output_type": "execute_result"
    }
   ],
   "source": [
    "attribute_list.shape"
   ]
  },
  {
   "cell_type": "markdown",
   "metadata": {},
   "source": [
    "# Save Attribute List"
   ]
  },
  {
   "cell_type": "code",
   "execution_count": 64,
   "metadata": {
    "collapsed": true
   },
   "outputs": [],
   "source": [
    "filename = '~/./Documents/Harmonizome/GO/output/go_biological_process_attribute_list_%s.tsv.zip'% str(datetime.date.today())[0:7].replace('-', '_')\n",
    "attribute_list.to_csv(filename, sep='\\t', index=False, compression='gzip')"
   ]
  },
  {
   "cell_type": "markdown",
   "metadata": {},
   "source": [
    "# Create Gene-Attribute Edge List"
   ]
  },
  {
   "cell_type": "code",
   "execution_count": 65,
   "metadata": {
    "collapsed": true
   },
   "outputs": [],
   "source": [
    "path = '/Users/moshesilverstein/Documents/Harmonizome/GO/output/'"
   ]
  },
  {
   "cell_type": "code",
   "execution_count": 66,
   "metadata": {
    "collapsed": true
   },
   "outputs": [],
   "source": [
    "name = 'go_biological_process_gene_attribute_edge_list'"
   ]
  },
  {
   "cell_type": "code",
   "execution_count": 67,
   "metadata": {},
   "outputs": [
    {
     "name": "stdout",
     "output_type": "stream",
     "text": [
      "Progeres: 100%  17820 Out of 17820   \n",
      "\n",
      " The number of statisticaly relevent gene-attribute associations is: 510389\n"
     ]
    }
   ],
   "source": [
    "mf.createGeneAttributeEdgeList(binary_matrix, gene_list, path, name)"
   ]
  }
 ],
 "metadata": {
  "kernelspec": {
   "display_name": "Python [default]",
   "language": "python",
   "name": "python3"
  },
  "language_info": {
   "codemirror_mode": {
    "name": "ipython",
    "version": 3
   },
   "file_extension": ".py",
   "mimetype": "text/x-python",
   "name": "python",
   "nbconvert_exporter": "python",
   "pygments_lexer": "ipython3",
   "version": "3.5.2"
  }
 },
 "nbformat": 4,
 "nbformat_minor": 2
}
