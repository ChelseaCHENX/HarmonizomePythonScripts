{
 "cells": [
  {
   "cell_type": "markdown",
   "metadata": {},
   "source": [
    "# Gene Ontology (GO) Molecular Function"
   ]
  },
  {
   "cell_type": "markdown",
   "metadata": {},
   "source": [
    "Author: Moshe Silverstein <br/>\n",
    "Date: 7-17 <br/>\n",
    "Data Downloaded: 04-2017 <br/>\n",
    "Data Source: http://geneontology.org/gene-associations/goa_human.gaf.gz"
   ]
  },
  {
   "cell_type": "code",
   "execution_count": 1,
   "metadata": {
    "collapsed": true
   },
   "outputs": [],
   "source": [
    "import sys, datetime\n",
    "import numpy as np\n",
    "import pandas as pd\n",
    "import importlib\n",
    "import my_functions as mf\n",
    "import goenrich\n",
    "%matplotlib inline"
   ]
  },
  {
   "cell_type": "code",
   "execution_count": 2,
   "metadata": {},
   "outputs": [
    {
     "data": {
      "text/plain": [
       "<module 'my_functions' from '/Users/moshesilverstein/Documents/Harmonizome/GO/my_functions.py'>"
      ]
     },
     "execution_count": 2,
     "metadata": {},
     "output_type": "execute_result"
    }
   ],
   "source": [
    "importlib.reload(mf)"
   ]
  },
  {
   "cell_type": "markdown",
   "metadata": {},
   "source": [
    "# Load Data"
   ]
  },
  {
   "cell_type": "code",
   "execution_count": 3,
   "metadata": {
    "collapsed": true
   },
   "outputs": [],
   "source": [
    "df = pd.read_csv('input/goa_human.gaf', sep='\\t', skiprows=34, header=None, index_col=False)"
   ]
  },
  {
   "cell_type": "code",
   "execution_count": 4,
   "metadata": {},
   "outputs": [
    {
     "data": {
      "text/html": [
       "<div>\n",
       "<table border=\"1\" class=\"dataframe\">\n",
       "  <thead>\n",
       "    <tr style=\"text-align: right;\">\n",
       "      <th></th>\n",
       "      <th>0</th>\n",
       "      <th>1</th>\n",
       "      <th>2</th>\n",
       "      <th>3</th>\n",
       "      <th>4</th>\n",
       "      <th>5</th>\n",
       "      <th>6</th>\n",
       "      <th>7</th>\n",
       "      <th>8</th>\n",
       "      <th>9</th>\n",
       "      <th>10</th>\n",
       "      <th>11</th>\n",
       "      <th>12</th>\n",
       "      <th>13</th>\n",
       "      <th>14</th>\n",
       "      <th>15</th>\n",
       "      <th>16</th>\n",
       "    </tr>\n",
       "  </thead>\n",
       "  <tbody>\n",
       "    <tr>\n",
       "      <th>0</th>\n",
       "      <td>UniProtKB</td>\n",
       "      <td>A0A024R161</td>\n",
       "      <td>DNAJC25-GNG10</td>\n",
       "      <td>NaN</td>\n",
       "      <td>GO:0004871</td>\n",
       "      <td>GO_REF:0000038</td>\n",
       "      <td>IEA</td>\n",
       "      <td>UniProtKB-KW:KW-0807</td>\n",
       "      <td>F</td>\n",
       "      <td>Guanine nucleotide-binding protein subunit gamma</td>\n",
       "      <td>A0A024R161_HUMAN|DNAJC25-GNG10|hCG_1994888</td>\n",
       "      <td>protein</td>\n",
       "      <td>taxon:9606</td>\n",
       "      <td>20170506</td>\n",
       "      <td>UniProt</td>\n",
       "      <td>NaN</td>\n",
       "      <td>NaN</td>\n",
       "    </tr>\n",
       "    <tr>\n",
       "      <th>1</th>\n",
       "      <td>UniProtKB</td>\n",
       "      <td>A0A024R161</td>\n",
       "      <td>DNAJC25-GNG10</td>\n",
       "      <td>NaN</td>\n",
       "      <td>GO:0005834</td>\n",
       "      <td>GO_REF:0000002</td>\n",
       "      <td>IEA</td>\n",
       "      <td>InterPro:IPR001770|InterPro:IPR015898</td>\n",
       "      <td>C</td>\n",
       "      <td>Guanine nucleotide-binding protein subunit gamma</td>\n",
       "      <td>A0A024R161_HUMAN|DNAJC25-GNG10|hCG_1994888</td>\n",
       "      <td>protein</td>\n",
       "      <td>taxon:9606</td>\n",
       "      <td>20170506</td>\n",
       "      <td>InterPro</td>\n",
       "      <td>NaN</td>\n",
       "      <td>NaN</td>\n",
       "    </tr>\n",
       "    <tr>\n",
       "      <th>2</th>\n",
       "      <td>UniProtKB</td>\n",
       "      <td>A0A024R161</td>\n",
       "      <td>DNAJC25-GNG10</td>\n",
       "      <td>NaN</td>\n",
       "      <td>GO:0007186</td>\n",
       "      <td>GO_REF:0000002</td>\n",
       "      <td>IEA</td>\n",
       "      <td>InterPro:IPR001770|InterPro:IPR015898</td>\n",
       "      <td>P</td>\n",
       "      <td>Guanine nucleotide-binding protein subunit gamma</td>\n",
       "      <td>A0A024R161_HUMAN|DNAJC25-GNG10|hCG_1994888</td>\n",
       "      <td>protein</td>\n",
       "      <td>taxon:9606</td>\n",
       "      <td>20170506</td>\n",
       "      <td>InterPro</td>\n",
       "      <td>NaN</td>\n",
       "      <td>NaN</td>\n",
       "    </tr>\n",
       "    <tr>\n",
       "      <th>3</th>\n",
       "      <td>UniProtKB</td>\n",
       "      <td>A0A075B6H7</td>\n",
       "      <td>IGKV3-7</td>\n",
       "      <td>NaN</td>\n",
       "      <td>GO:0002377</td>\n",
       "      <td>GO_REF:0000033</td>\n",
       "      <td>IBA</td>\n",
       "      <td>PANTHER:PTN000587099</td>\n",
       "      <td>P</td>\n",
       "      <td>Immunoglobulin kappa variable 3-7 (non-functio...</td>\n",
       "      <td>A0A075B6H7_HUMAN|IGKV3-7</td>\n",
       "      <td>protein</td>\n",
       "      <td>taxon:9606</td>\n",
       "      <td>20150528</td>\n",
       "      <td>GO_Central</td>\n",
       "      <td>NaN</td>\n",
       "      <td>NaN</td>\n",
       "    </tr>\n",
       "    <tr>\n",
       "      <th>4</th>\n",
       "      <td>UniProtKB</td>\n",
       "      <td>A0A075B6H7</td>\n",
       "      <td>IGKV3-7</td>\n",
       "      <td>NaN</td>\n",
       "      <td>GO:0005615</td>\n",
       "      <td>GO_REF:0000033</td>\n",
       "      <td>IBA</td>\n",
       "      <td>PANTHER:PTN000587099</td>\n",
       "      <td>C</td>\n",
       "      <td>Immunoglobulin kappa variable 3-7 (non-functio...</td>\n",
       "      <td>A0A075B6H7_HUMAN|IGKV3-7</td>\n",
       "      <td>protein</td>\n",
       "      <td>taxon:9606</td>\n",
       "      <td>20150528</td>\n",
       "      <td>GO_Central</td>\n",
       "      <td>NaN</td>\n",
       "      <td>NaN</td>\n",
       "    </tr>\n",
       "  </tbody>\n",
       "</table>\n",
       "</div>"
      ],
      "text/plain": [
       "          0           1              2    3           4               5    6   \\\n",
       "0  UniProtKB  A0A024R161  DNAJC25-GNG10  NaN  GO:0004871  GO_REF:0000038  IEA   \n",
       "1  UniProtKB  A0A024R161  DNAJC25-GNG10  NaN  GO:0005834  GO_REF:0000002  IEA   \n",
       "2  UniProtKB  A0A024R161  DNAJC25-GNG10  NaN  GO:0007186  GO_REF:0000002  IEA   \n",
       "3  UniProtKB  A0A075B6H7        IGKV3-7  NaN  GO:0002377  GO_REF:0000033  IBA   \n",
       "4  UniProtKB  A0A075B6H7        IGKV3-7  NaN  GO:0005615  GO_REF:0000033  IBA   \n",
       "\n",
       "                                      7  8   \\\n",
       "0                   UniProtKB-KW:KW-0807  F   \n",
       "1  InterPro:IPR001770|InterPro:IPR015898  C   \n",
       "2  InterPro:IPR001770|InterPro:IPR015898  P   \n",
       "3                   PANTHER:PTN000587099  P   \n",
       "4                   PANTHER:PTN000587099  C   \n",
       "\n",
       "                                                  9   \\\n",
       "0   Guanine nucleotide-binding protein subunit gamma   \n",
       "1   Guanine nucleotide-binding protein subunit gamma   \n",
       "2   Guanine nucleotide-binding protein subunit gamma   \n",
       "3  Immunoglobulin kappa variable 3-7 (non-functio...   \n",
       "4  Immunoglobulin kappa variable 3-7 (non-functio...   \n",
       "\n",
       "                                           10       11          12        13  \\\n",
       "0  A0A024R161_HUMAN|DNAJC25-GNG10|hCG_1994888  protein  taxon:9606  20170506   \n",
       "1  A0A024R161_HUMAN|DNAJC25-GNG10|hCG_1994888  protein  taxon:9606  20170506   \n",
       "2  A0A024R161_HUMAN|DNAJC25-GNG10|hCG_1994888  protein  taxon:9606  20170506   \n",
       "3                    A0A075B6H7_HUMAN|IGKV3-7  protein  taxon:9606  20150528   \n",
       "4                    A0A075B6H7_HUMAN|IGKV3-7  protein  taxon:9606  20150528   \n",
       "\n",
       "           14   15  16  \n",
       "0     UniProt  NaN NaN  \n",
       "1    InterPro  NaN NaN  \n",
       "2    InterPro  NaN NaN  \n",
       "3  GO_Central  NaN NaN  \n",
       "4  GO_Central  NaN NaN  "
      ]
     },
     "execution_count": 4,
     "metadata": {},
     "output_type": "execute_result"
    }
   ],
   "source": [
    "df.head()"
   ]
  },
  {
   "cell_type": "code",
   "execution_count": 5,
   "metadata": {},
   "outputs": [
    {
     "data": {
      "text/plain": [
       "(417076, 17)"
      ]
     },
     "execution_count": 5,
     "metadata": {},
     "output_type": "execute_result"
    }
   ],
   "source": [
    "df.shape"
   ]
  },
  {
   "cell_type": "markdown",
   "metadata": {},
   "source": [
    "# Get Relevent Columns and Data"
   ]
  },
  {
   "cell_type": "code",
   "execution_count": 6,
   "metadata": {
    "collapsed": true
   },
   "outputs": [],
   "source": [
    "columns = [\"DB\", \"DB Object ID\", \"DB Object Symbol\", \"Qualifier\", \"GO ID\", \"DB:Reference\", \"Evidence Code\", \n",
    "               \"With (or) From\", \"Aspect\", \"DB Object Name\", \"DB Object Synonym\", \"DB Object Type\", \"Taxon\", \n",
    "               \"Date\", \"Assigned By\", \"Annotation Extension\", \"Gene Product Form ID\"]"
   ]
  },
  {
   "cell_type": "code",
   "execution_count": 7,
   "metadata": {
    "collapsed": true
   },
   "outputs": [],
   "source": [
    "df.columns = columns"
   ]
  },
  {
   "cell_type": "code",
   "execution_count": 8,
   "metadata": {},
   "outputs": [
    {
     "data": {
      "text/html": [
       "<div>\n",
       "<table border=\"1\" class=\"dataframe\">\n",
       "  <thead>\n",
       "    <tr style=\"text-align: right;\">\n",
       "      <th></th>\n",
       "      <th>DB</th>\n",
       "      <th>DB Object ID</th>\n",
       "      <th>DB Object Symbol</th>\n",
       "      <th>Qualifier</th>\n",
       "      <th>GO ID</th>\n",
       "      <th>DB:Reference</th>\n",
       "      <th>Evidence Code</th>\n",
       "      <th>With (or) From</th>\n",
       "      <th>Aspect</th>\n",
       "      <th>DB Object Name</th>\n",
       "      <th>DB Object Synonym</th>\n",
       "      <th>DB Object Type</th>\n",
       "      <th>Taxon</th>\n",
       "      <th>Date</th>\n",
       "      <th>Assigned By</th>\n",
       "      <th>Annotation Extension</th>\n",
       "      <th>Gene Product Form ID</th>\n",
       "    </tr>\n",
       "  </thead>\n",
       "  <tbody>\n",
       "    <tr>\n",
       "      <th>0</th>\n",
       "      <td>UniProtKB</td>\n",
       "      <td>A0A024R161</td>\n",
       "      <td>DNAJC25-GNG10</td>\n",
       "      <td>NaN</td>\n",
       "      <td>GO:0004871</td>\n",
       "      <td>GO_REF:0000038</td>\n",
       "      <td>IEA</td>\n",
       "      <td>UniProtKB-KW:KW-0807</td>\n",
       "      <td>F</td>\n",
       "      <td>Guanine nucleotide-binding protein subunit gamma</td>\n",
       "      <td>A0A024R161_HUMAN|DNAJC25-GNG10|hCG_1994888</td>\n",
       "      <td>protein</td>\n",
       "      <td>taxon:9606</td>\n",
       "      <td>20170506</td>\n",
       "      <td>UniProt</td>\n",
       "      <td>NaN</td>\n",
       "      <td>NaN</td>\n",
       "    </tr>\n",
       "    <tr>\n",
       "      <th>1</th>\n",
       "      <td>UniProtKB</td>\n",
       "      <td>A0A024R161</td>\n",
       "      <td>DNAJC25-GNG10</td>\n",
       "      <td>NaN</td>\n",
       "      <td>GO:0005834</td>\n",
       "      <td>GO_REF:0000002</td>\n",
       "      <td>IEA</td>\n",
       "      <td>InterPro:IPR001770|InterPro:IPR015898</td>\n",
       "      <td>C</td>\n",
       "      <td>Guanine nucleotide-binding protein subunit gamma</td>\n",
       "      <td>A0A024R161_HUMAN|DNAJC25-GNG10|hCG_1994888</td>\n",
       "      <td>protein</td>\n",
       "      <td>taxon:9606</td>\n",
       "      <td>20170506</td>\n",
       "      <td>InterPro</td>\n",
       "      <td>NaN</td>\n",
       "      <td>NaN</td>\n",
       "    </tr>\n",
       "    <tr>\n",
       "      <th>2</th>\n",
       "      <td>UniProtKB</td>\n",
       "      <td>A0A024R161</td>\n",
       "      <td>DNAJC25-GNG10</td>\n",
       "      <td>NaN</td>\n",
       "      <td>GO:0007186</td>\n",
       "      <td>GO_REF:0000002</td>\n",
       "      <td>IEA</td>\n",
       "      <td>InterPro:IPR001770|InterPro:IPR015898</td>\n",
       "      <td>P</td>\n",
       "      <td>Guanine nucleotide-binding protein subunit gamma</td>\n",
       "      <td>A0A024R161_HUMAN|DNAJC25-GNG10|hCG_1994888</td>\n",
       "      <td>protein</td>\n",
       "      <td>taxon:9606</td>\n",
       "      <td>20170506</td>\n",
       "      <td>InterPro</td>\n",
       "      <td>NaN</td>\n",
       "      <td>NaN</td>\n",
       "    </tr>\n",
       "    <tr>\n",
       "      <th>3</th>\n",
       "      <td>UniProtKB</td>\n",
       "      <td>A0A075B6H7</td>\n",
       "      <td>IGKV3-7</td>\n",
       "      <td>NaN</td>\n",
       "      <td>GO:0002377</td>\n",
       "      <td>GO_REF:0000033</td>\n",
       "      <td>IBA</td>\n",
       "      <td>PANTHER:PTN000587099</td>\n",
       "      <td>P</td>\n",
       "      <td>Immunoglobulin kappa variable 3-7 (non-functio...</td>\n",
       "      <td>A0A075B6H7_HUMAN|IGKV3-7</td>\n",
       "      <td>protein</td>\n",
       "      <td>taxon:9606</td>\n",
       "      <td>20150528</td>\n",
       "      <td>GO_Central</td>\n",
       "      <td>NaN</td>\n",
       "      <td>NaN</td>\n",
       "    </tr>\n",
       "    <tr>\n",
       "      <th>4</th>\n",
       "      <td>UniProtKB</td>\n",
       "      <td>A0A075B6H7</td>\n",
       "      <td>IGKV3-7</td>\n",
       "      <td>NaN</td>\n",
       "      <td>GO:0005615</td>\n",
       "      <td>GO_REF:0000033</td>\n",
       "      <td>IBA</td>\n",
       "      <td>PANTHER:PTN000587099</td>\n",
       "      <td>C</td>\n",
       "      <td>Immunoglobulin kappa variable 3-7 (non-functio...</td>\n",
       "      <td>A0A075B6H7_HUMAN|IGKV3-7</td>\n",
       "      <td>protein</td>\n",
       "      <td>taxon:9606</td>\n",
       "      <td>20150528</td>\n",
       "      <td>GO_Central</td>\n",
       "      <td>NaN</td>\n",
       "      <td>NaN</td>\n",
       "    </tr>\n",
       "  </tbody>\n",
       "</table>\n",
       "</div>"
      ],
      "text/plain": [
       "          DB DB Object ID DB Object Symbol Qualifier       GO ID  \\\n",
       "0  UniProtKB   A0A024R161    DNAJC25-GNG10       NaN  GO:0004871   \n",
       "1  UniProtKB   A0A024R161    DNAJC25-GNG10       NaN  GO:0005834   \n",
       "2  UniProtKB   A0A024R161    DNAJC25-GNG10       NaN  GO:0007186   \n",
       "3  UniProtKB   A0A075B6H7          IGKV3-7       NaN  GO:0002377   \n",
       "4  UniProtKB   A0A075B6H7          IGKV3-7       NaN  GO:0005615   \n",
       "\n",
       "     DB:Reference Evidence Code                         With (or) From Aspect  \\\n",
       "0  GO_REF:0000038           IEA                   UniProtKB-KW:KW-0807      F   \n",
       "1  GO_REF:0000002           IEA  InterPro:IPR001770|InterPro:IPR015898      C   \n",
       "2  GO_REF:0000002           IEA  InterPro:IPR001770|InterPro:IPR015898      P   \n",
       "3  GO_REF:0000033           IBA                   PANTHER:PTN000587099      P   \n",
       "4  GO_REF:0000033           IBA                   PANTHER:PTN000587099      C   \n",
       "\n",
       "                                      DB Object Name  \\\n",
       "0   Guanine nucleotide-binding protein subunit gamma   \n",
       "1   Guanine nucleotide-binding protein subunit gamma   \n",
       "2   Guanine nucleotide-binding protein subunit gamma   \n",
       "3  Immunoglobulin kappa variable 3-7 (non-functio...   \n",
       "4  Immunoglobulin kappa variable 3-7 (non-functio...   \n",
       "\n",
       "                            DB Object Synonym DB Object Type       Taxon  \\\n",
       "0  A0A024R161_HUMAN|DNAJC25-GNG10|hCG_1994888        protein  taxon:9606   \n",
       "1  A0A024R161_HUMAN|DNAJC25-GNG10|hCG_1994888        protein  taxon:9606   \n",
       "2  A0A024R161_HUMAN|DNAJC25-GNG10|hCG_1994888        protein  taxon:9606   \n",
       "3                    A0A075B6H7_HUMAN|IGKV3-7        protein  taxon:9606   \n",
       "4                    A0A075B6H7_HUMAN|IGKV3-7        protein  taxon:9606   \n",
       "\n",
       "       Date Assigned By Annotation Extension  Gene Product Form ID  \n",
       "0  20170506     UniProt                  NaN                   NaN  \n",
       "1  20170506    InterPro                  NaN                   NaN  \n",
       "2  20170506    InterPro                  NaN                   NaN  \n",
       "3  20150528  GO_Central                  NaN                   NaN  \n",
       "4  20150528  GO_Central                  NaN                   NaN  "
      ]
     },
     "execution_count": 8,
     "metadata": {},
     "output_type": "execute_result"
    }
   ],
   "source": [
    "df.head()"
   ]
  },
  {
   "cell_type": "markdown",
   "metadata": {},
   "source": [
    "#### Get Only Molecular Function Data"
   ]
  },
  {
   "cell_type": "code",
   "execution_count": 9,
   "metadata": {
    "collapsed": true
   },
   "outputs": [],
   "source": [
    "df = df[df['Aspect']=='F'].copy()"
   ]
  },
  {
   "cell_type": "markdown",
   "metadata": {},
   "source": [
    "#### Drop All Data That Is Inferred from Electronic Annotation"
   ]
  },
  {
   "cell_type": "code",
   "execution_count": 10,
   "metadata": {
    "collapsed": true
   },
   "outputs": [],
   "source": [
    "df = df[~df['Evidence Code'].isin(['IEA'])]"
   ]
  },
  {
   "cell_type": "markdown",
   "metadata": {},
   "source": [
    "#### Drop All 'Non' in Qualifier "
   ]
  },
  {
   "cell_type": "code",
   "execution_count": 11,
   "metadata": {
    "collapsed": true
   },
   "outputs": [],
   "source": [
    "df = df[~df['Qualifier'].isin(['NOT'])]"
   ]
  },
  {
   "cell_type": "code",
   "execution_count": 12,
   "metadata": {
    "collapsed": true
   },
   "outputs": [],
   "source": [
    "df = df[['DB Object Symbol', 'GO ID']]"
   ]
  },
  {
   "cell_type": "code",
   "execution_count": 13,
   "metadata": {
    "collapsed": true
   },
   "outputs": [],
   "source": [
    "df.reset_index(inplace=True)"
   ]
  },
  {
   "cell_type": "code",
   "execution_count": 14,
   "metadata": {
    "collapsed": true
   },
   "outputs": [],
   "source": [
    "df.drop('index', axis=1, inplace=True)"
   ]
  },
  {
   "cell_type": "code",
   "execution_count": 15,
   "metadata": {},
   "outputs": [
    {
     "data": {
      "text/html": [
       "<div>\n",
       "<table border=\"1\" class=\"dataframe\">\n",
       "  <thead>\n",
       "    <tr style=\"text-align: right;\">\n",
       "      <th></th>\n",
       "      <th>DB Object Symbol</th>\n",
       "      <th>GO ID</th>\n",
       "    </tr>\n",
       "  </thead>\n",
       "  <tbody>\n",
       "    <tr>\n",
       "      <th>0</th>\n",
       "      <td>IGKV2-28</td>\n",
       "      <td>GO:0004252</td>\n",
       "    </tr>\n",
       "    <tr>\n",
       "      <th>1</th>\n",
       "      <td>IGKV2-28</td>\n",
       "      <td>GO:0004252</td>\n",
       "    </tr>\n",
       "    <tr>\n",
       "      <th>2</th>\n",
       "      <td>IGHV3-64</td>\n",
       "      <td>GO:0003823</td>\n",
       "    </tr>\n",
       "    <tr>\n",
       "      <th>3</th>\n",
       "      <td>IGHV3-64</td>\n",
       "      <td>GO:0034987</td>\n",
       "    </tr>\n",
       "    <tr>\n",
       "      <th>4</th>\n",
       "      <td>IGHV4-4</td>\n",
       "      <td>GO:0003823</td>\n",
       "    </tr>\n",
       "  </tbody>\n",
       "</table>\n",
       "</div>"
      ],
      "text/plain": [
       "  DB Object Symbol       GO ID\n",
       "0         IGKV2-28  GO:0004252\n",
       "1         IGKV2-28  GO:0004252\n",
       "2         IGHV3-64  GO:0003823\n",
       "3         IGHV3-64  GO:0034987\n",
       "4          IGHV4-4  GO:0003823"
      ]
     },
     "execution_count": 15,
     "metadata": {},
     "output_type": "execute_result"
    }
   ],
   "source": [
    "df.head()"
   ]
  },
  {
   "cell_type": "code",
   "execution_count": 16,
   "metadata": {},
   "outputs": [
    {
     "data": {
      "text/plain": [
       "(118343, 2)"
      ]
     },
     "execution_count": 16,
     "metadata": {},
     "output_type": "execute_result"
    }
   ],
   "source": [
    "df.shape"
   ]
  },
  {
   "cell_type": "markdown",
   "metadata": {},
   "source": [
    "# Load Gene Ontology Tree Digraph"
   ]
  },
  {
   "cell_type": "code",
   "execution_count": 17,
   "metadata": {
    "collapsed": true
   },
   "outputs": [],
   "source": [
    "digraph = goenrich.obo.ontology('input/go-basic.ob')"
   ]
  },
  {
   "cell_type": "markdown",
   "metadata": {},
   "source": [
    "# Keep Only Terms With a Tree Depth of 4 or Greaterm"
   ]
  },
  {
   "cell_type": "code",
   "execution_count": 18,
   "metadata": {},
   "outputs": [
    {
     "name": "stdout",
     "output_type": "stream",
     "text": [
      "Progress: 100%  118343 Out of 118343   \r"
     ]
    }
   ],
   "source": [
    "lst = []\n",
    "\n",
    "for i,index in enumerate(df.index):\n",
    "    \n",
    "    progressPercent = ((i+1)/len(df.index))*100\n",
    "\n",
    "    sys.stdout.write(\"Progress: %d%%  %d Out of %d   \\r\" % (progressPercent, (i+1), len(df.index)))\n",
    "    sys.stdout.flush()\n",
    "    \n",
    "    term = df.ix[index, 'GO ID']\n",
    "    if term in digraph.node:\n",
    "        if digraph.node[term]['depth'] >= 4:\n",
    "            lst.append(term)\n",
    "        else:\n",
    "            lst.append(np.nan)\n",
    "    else:\n",
    "        lst.append(np.nan)\n",
    "\n",
    "df['GO ID'] = lst"
   ]
  },
  {
   "cell_type": "code",
   "execution_count": 19,
   "metadata": {},
   "outputs": [
    {
     "data": {
      "text/plain": [
       "(118343, 2)"
      ]
     },
     "execution_count": 19,
     "metadata": {},
     "output_type": "execute_result"
    }
   ],
   "source": [
    "df.shape"
   ]
  },
  {
   "cell_type": "code",
   "execution_count": 20,
   "metadata": {
    "collapsed": true
   },
   "outputs": [],
   "source": [
    "df.dropna(inplace=True)"
   ]
  },
  {
   "cell_type": "code",
   "execution_count": 21,
   "metadata": {},
   "outputs": [
    {
     "data": {
      "text/plain": [
       "(34198, 2)"
      ]
     },
     "execution_count": 21,
     "metadata": {},
     "output_type": "execute_result"
    }
   ],
   "source": [
    "df.shape"
   ]
  },
  {
   "cell_type": "code",
   "execution_count": 22,
   "metadata": {},
   "outputs": [
    {
     "data": {
      "text/html": [
       "<div>\n",
       "<table border=\"1\" class=\"dataframe\">\n",
       "  <thead>\n",
       "    <tr style=\"text-align: right;\">\n",
       "      <th></th>\n",
       "      <th>DB Object Symbol</th>\n",
       "      <th>GO ID</th>\n",
       "    </tr>\n",
       "  </thead>\n",
       "  <tbody>\n",
       "    <tr>\n",
       "      <th>0</th>\n",
       "      <td>IGKV2-28</td>\n",
       "      <td>GO:0004252</td>\n",
       "    </tr>\n",
       "    <tr>\n",
       "      <th>1</th>\n",
       "      <td>IGKV2-28</td>\n",
       "      <td>GO:0004252</td>\n",
       "    </tr>\n",
       "    <tr>\n",
       "      <th>3</th>\n",
       "      <td>IGHV3-64</td>\n",
       "      <td>GO:0034987</td>\n",
       "    </tr>\n",
       "    <tr>\n",
       "      <th>5</th>\n",
       "      <td>IGHV4-4</td>\n",
       "      <td>GO:0034987</td>\n",
       "    </tr>\n",
       "    <tr>\n",
       "      <th>6</th>\n",
       "      <td>IGKV2D-30</td>\n",
       "      <td>GO:0004252</td>\n",
       "    </tr>\n",
       "  </tbody>\n",
       "</table>\n",
       "</div>"
      ],
      "text/plain": [
       "  DB Object Symbol       GO ID\n",
       "0         IGKV2-28  GO:0004252\n",
       "1         IGKV2-28  GO:0004252\n",
       "3         IGHV3-64  GO:0034987\n",
       "5          IGHV4-4  GO:0034987\n",
       "6        IGKV2D-30  GO:0004252"
      ]
     },
     "execution_count": 22,
     "metadata": {},
     "output_type": "execute_result"
    }
   ],
   "source": [
    "df.head()"
   ]
  },
  {
   "cell_type": "markdown",
   "metadata": {},
   "source": [
    "# Term Propagation-propergate child gene term relationships to parent terms"
   ]
  },
  {
   "cell_type": "code",
   "execution_count": 23,
   "metadata": {},
   "outputs": [
    {
     "name": "stdout",
     "output_type": "stream",
     "text": [
      "Progress: 100%  34198 Out of 34198   \r"
     ]
    }
   ],
   "source": [
    "lst1 = []\n",
    "lst2 = []\n",
    "\n",
    "for i,index in enumerate(df.index):\n",
    "    \n",
    "    progressPercent = ((i+1)/len(df.index))*100\n",
    "\n",
    "    sys.stdout.write(\"Progress: %d%%  %d Out of %d   \\r\" % (progressPercent, (i+1), len(df.index)))\n",
    "    sys.stdout.flush()\n",
    "    \n",
    "    term = df.ix[index, 'GO ID']\n",
    "    for parent in digraph.predecessors(term):\n",
    "        if parent in digraph.node:\n",
    "            if digraph.node[parent]['depth'] >= 4:\n",
    "                lst1.append(df.ix[index, 'DB Object Symbol'])\n",
    "                lst2.append(parent)\n",
    "\n",
    "\n",
    "temp = pd.DataFrame()\n",
    "temp['DB Object Symbol'] = lst1\n",
    "temp['GO ID']  = lst2\n",
    "df = pd.concat([df, temp])\n",
    "df.reset_index(inplace=True)\n",
    "df.drop('index', axis=1, inplace=True)"
   ]
  },
  {
   "cell_type": "code",
   "execution_count": 24,
   "metadata": {},
   "outputs": [
    {
     "data": {
      "text/plain": [
       "(229223, 2)"
      ]
     },
     "execution_count": 24,
     "metadata": {},
     "output_type": "execute_result"
    }
   ],
   "source": [
    "df.shape"
   ]
  },
  {
   "cell_type": "markdown",
   "metadata": {},
   "source": [
    "# Map GO ID to Descriptive Name "
   ]
  },
  {
   "cell_type": "code",
   "execution_count": 25,
   "metadata": {},
   "outputs": [
    {
     "name": "stdout",
     "output_type": "stream",
     "text": [
      "Progress: 99%  228388 Out of 229223   \r"
     ]
    }
   ],
   "source": [
    "lst = []\n",
    "\n",
    "for i,index in enumerate(df.index):\n",
    "    \n",
    "    progressPercent = ((i+1)/len(df.index))*100\n",
    "\n",
    "    sys.stdout.write(\"Progress: %d%%  %d Out of %d   \\r\" % (progressPercent, (i+1), len(df.index)))\n",
    "    sys.stdout.flush()\n",
    "    \n",
    "    lst.append(digraph.node[df.ix[index, 'GO ID']]['name'])\n",
    "    \n",
    "df['GO ID'] = lst"
   ]
  },
  {
   "cell_type": "code",
   "execution_count": 31,
   "metadata": {},
   "outputs": [
    {
     "data": {
      "text/html": [
       "<div>\n",
       "<table border=\"1\" class=\"dataframe\">\n",
       "  <thead>\n",
       "    <tr style=\"text-align: right;\">\n",
       "      <th></th>\n",
       "      <th>DB Object Symbol</th>\n",
       "      <th>GO ID</th>\n",
       "    </tr>\n",
       "  </thead>\n",
       "  <tbody>\n",
       "    <tr>\n",
       "      <th>0</th>\n",
       "      <td>IGKV2-28</td>\n",
       "      <td>serine-type endopeptidase activity</td>\n",
       "    </tr>\n",
       "    <tr>\n",
       "      <th>1</th>\n",
       "      <td>IGKV2-28</td>\n",
       "      <td>serine-type endopeptidase activity</td>\n",
       "    </tr>\n",
       "    <tr>\n",
       "      <th>2</th>\n",
       "      <td>IGHV3-64</td>\n",
       "      <td>immunoglobulin receptor binding</td>\n",
       "    </tr>\n",
       "    <tr>\n",
       "      <th>3</th>\n",
       "      <td>IGHV4-4</td>\n",
       "      <td>immunoglobulin receptor binding</td>\n",
       "    </tr>\n",
       "    <tr>\n",
       "      <th>4</th>\n",
       "      <td>IGKV2D-30</td>\n",
       "      <td>serine-type endopeptidase activity</td>\n",
       "    </tr>\n",
       "  </tbody>\n",
       "</table>\n",
       "</div>"
      ],
      "text/plain": [
       "  DB Object Symbol                               GO ID\n",
       "0         IGKV2-28  serine-type endopeptidase activity\n",
       "1         IGKV2-28  serine-type endopeptidase activity\n",
       "2         IGHV3-64     immunoglobulin receptor binding\n",
       "3          IGHV4-4     immunoglobulin receptor binding\n",
       "4        IGKV2D-30  serine-type endopeptidase activity"
      ]
     },
     "execution_count": 31,
     "metadata": {},
     "output_type": "execute_result"
    }
   ],
   "source": [
    "df.head()"
   ]
  },
  {
   "cell_type": "markdown",
   "metadata": {},
   "source": [
    "# Map Gene Symbols To Up-to-date Approved Gene Symbols"
   ]
  },
  {
   "cell_type": "code",
   "execution_count": 32,
   "metadata": {
    "collapsed": true
   },
   "outputs": [],
   "source": [
    "df.set_index('DB Object Symbol', inplace=True)"
   ]
  },
  {
   "cell_type": "code",
   "execution_count": 33,
   "metadata": {},
   "outputs": [
    {
     "name": "stdout",
     "output_type": "stream",
     "text": [
      "Progeres: 100%  229223 Out of 229223   \r"
     ]
    }
   ],
   "source": [
    "mf.mapgenesymbols(df)"
   ]
  },
  {
   "cell_type": "code",
   "execution_count": 34,
   "metadata": {},
   "outputs": [
    {
     "data": {
      "text/plain": [
       "(228712, 1)"
      ]
     },
     "execution_count": 34,
     "metadata": {},
     "output_type": "execute_result"
    }
   ],
   "source": [
    "df.shape"
   ]
  },
  {
   "cell_type": "markdown",
   "metadata": {},
   "source": [
    "# Drop Duplicates"
   ]
  },
  {
   "cell_type": "code",
   "execution_count": 35,
   "metadata": {
    "collapsed": true
   },
   "outputs": [],
   "source": [
    "df.reset_index(inplace=True)"
   ]
  },
  {
   "cell_type": "code",
   "execution_count": 36,
   "metadata": {
    "collapsed": true
   },
   "outputs": [],
   "source": [
    "df.drop_duplicates(inplace=True)"
   ]
  },
  {
   "cell_type": "code",
   "execution_count": 37,
   "metadata": {},
   "outputs": [
    {
     "data": {
      "text/plain": [
       "(157088, 2)"
      ]
     },
     "execution_count": 37,
     "metadata": {},
     "output_type": "execute_result"
    }
   ],
   "source": [
    "df.shape"
   ]
  },
  {
   "cell_type": "markdown",
   "metadata": {},
   "source": [
    "# Create Binary Matrix"
   ]
  },
  {
   "cell_type": "code",
   "execution_count": 38,
   "metadata": {},
   "outputs": [
    {
     "name": "stdout",
     "output_type": "stream",
     "text": [
      "Progeres: 100%  10716 Out of 10716   \r"
     ]
    }
   ],
   "source": [
    "binary_matrix = mf.createBinaryMatix(df)"
   ]
  },
  {
   "cell_type": "code",
   "execution_count": 39,
   "metadata": {},
   "outputs": [
    {
     "data": {
      "text/html": [
       "<div>\n",
       "<table border=\"1\" class=\"dataframe\">\n",
       "  <thead>\n",
       "    <tr style=\"text-align: right;\">\n",
       "      <th></th>\n",
       "      <th>polygalacturonase activity</th>\n",
       "      <th>NAD(P)+-protein-arginine ADP-ribosyltransferase activity</th>\n",
       "      <th>cholate 7-alpha-dehydrogenase activity</th>\n",
       "      <th>carbon monoxide sensor activity</th>\n",
       "      <th>phospholipase A2 activity</th>\n",
       "      <th>CCR9 chemokine receptor binding</th>\n",
       "      <th>D-glucose transmembrane transporter activity</th>\n",
       "      <th>11-hydroxythromboxane B2 dehydrogenase activity</th>\n",
       "      <th>methionine transmembrane transporter activity</th>\n",
       "      <th>isocitrate O-dihydroxycinnamoyltransferase activity</th>\n",
       "      <th>...</th>\n",
       "      <th>ubiquitin-specific protease activity involved in positive regulation of ERAD pathway</th>\n",
       "      <th>oligoxyloglucan reducing-end-specific cellobiohydrolase activity</th>\n",
       "      <th>G-protein coupled glutamate receptor binding</th>\n",
       "      <th>type 5A serotonin receptor binding</th>\n",
       "      <th>sn-1-glycerol-3-phosphate C16:0-DCA-CoA acyl transferase activity</th>\n",
       "      <th>1,2-diacylglycerol 3-glucosyltransferase activity</th>\n",
       "      <th>type 4 somatostatin receptor binding</th>\n",
       "      <th>insulin-like growth factor-activated receptor activity</th>\n",
       "      <th>protein methyltransferase activity</th>\n",
       "      <th>sequence-specific DNA binding</th>\n",
       "    </tr>\n",
       "  </thead>\n",
       "  <tbody>\n",
       "    <tr>\n",
       "      <th>PNPLA3</th>\n",
       "      <td>0</td>\n",
       "      <td>0</td>\n",
       "      <td>0</td>\n",
       "      <td>0</td>\n",
       "      <td>1</td>\n",
       "      <td>0</td>\n",
       "      <td>0</td>\n",
       "      <td>0</td>\n",
       "      <td>0</td>\n",
       "      <td>0</td>\n",
       "      <td>...</td>\n",
       "      <td>0</td>\n",
       "      <td>0</td>\n",
       "      <td>0</td>\n",
       "      <td>0</td>\n",
       "      <td>0</td>\n",
       "      <td>0</td>\n",
       "      <td>0</td>\n",
       "      <td>0</td>\n",
       "      <td>0</td>\n",
       "      <td>0</td>\n",
       "    </tr>\n",
       "    <tr>\n",
       "      <th>KRT18</th>\n",
       "      <td>0</td>\n",
       "      <td>0</td>\n",
       "      <td>0</td>\n",
       "      <td>0</td>\n",
       "      <td>0</td>\n",
       "      <td>0</td>\n",
       "      <td>0</td>\n",
       "      <td>0</td>\n",
       "      <td>0</td>\n",
       "      <td>0</td>\n",
       "      <td>...</td>\n",
       "      <td>0</td>\n",
       "      <td>0</td>\n",
       "      <td>0</td>\n",
       "      <td>0</td>\n",
       "      <td>0</td>\n",
       "      <td>0</td>\n",
       "      <td>0</td>\n",
       "      <td>0</td>\n",
       "      <td>0</td>\n",
       "      <td>0</td>\n",
       "    </tr>\n",
       "    <tr>\n",
       "      <th>ZGPAT</th>\n",
       "      <td>0</td>\n",
       "      <td>0</td>\n",
       "      <td>0</td>\n",
       "      <td>0</td>\n",
       "      <td>0</td>\n",
       "      <td>0</td>\n",
       "      <td>0</td>\n",
       "      <td>0</td>\n",
       "      <td>0</td>\n",
       "      <td>0</td>\n",
       "      <td>...</td>\n",
       "      <td>0</td>\n",
       "      <td>0</td>\n",
       "      <td>0</td>\n",
       "      <td>0</td>\n",
       "      <td>0</td>\n",
       "      <td>0</td>\n",
       "      <td>0</td>\n",
       "      <td>0</td>\n",
       "      <td>0</td>\n",
       "      <td>1</td>\n",
       "    </tr>\n",
       "    <tr>\n",
       "      <th>DNAJB4</th>\n",
       "      <td>0</td>\n",
       "      <td>0</td>\n",
       "      <td>0</td>\n",
       "      <td>0</td>\n",
       "      <td>0</td>\n",
       "      <td>0</td>\n",
       "      <td>0</td>\n",
       "      <td>0</td>\n",
       "      <td>0</td>\n",
       "      <td>0</td>\n",
       "      <td>...</td>\n",
       "      <td>0</td>\n",
       "      <td>0</td>\n",
       "      <td>0</td>\n",
       "      <td>0</td>\n",
       "      <td>0</td>\n",
       "      <td>0</td>\n",
       "      <td>0</td>\n",
       "      <td>0</td>\n",
       "      <td>0</td>\n",
       "      <td>0</td>\n",
       "    </tr>\n",
       "    <tr>\n",
       "      <th>LZTS1</th>\n",
       "      <td>0</td>\n",
       "      <td>0</td>\n",
       "      <td>0</td>\n",
       "      <td>0</td>\n",
       "      <td>0</td>\n",
       "      <td>0</td>\n",
       "      <td>0</td>\n",
       "      <td>0</td>\n",
       "      <td>0</td>\n",
       "      <td>0</td>\n",
       "      <td>...</td>\n",
       "      <td>0</td>\n",
       "      <td>0</td>\n",
       "      <td>0</td>\n",
       "      <td>0</td>\n",
       "      <td>0</td>\n",
       "      <td>0</td>\n",
       "      <td>0</td>\n",
       "      <td>0</td>\n",
       "      <td>0</td>\n",
       "      <td>1</td>\n",
       "    </tr>\n",
       "  </tbody>\n",
       "</table>\n",
       "<p>5 rows × 7115 columns</p>\n",
       "</div>"
      ],
      "text/plain": [
       "        polygalacturonase activity  \\\n",
       "PNPLA3                           0   \n",
       "KRT18                            0   \n",
       "ZGPAT                            0   \n",
       "DNAJB4                           0   \n",
       "LZTS1                            0   \n",
       "\n",
       "        NAD(P)+-protein-arginine ADP-ribosyltransferase activity  \\\n",
       "PNPLA3                                                  0          \n",
       "KRT18                                                   0          \n",
       "ZGPAT                                                   0          \n",
       "DNAJB4                                                  0          \n",
       "LZTS1                                                   0          \n",
       "\n",
       "        cholate 7-alpha-dehydrogenase activity  \\\n",
       "PNPLA3                                       0   \n",
       "KRT18                                        0   \n",
       "ZGPAT                                        0   \n",
       "DNAJB4                                       0   \n",
       "LZTS1                                        0   \n",
       "\n",
       "        carbon monoxide sensor activity  phospholipase A2 activity  \\\n",
       "PNPLA3                                0                          1   \n",
       "KRT18                                 0                          0   \n",
       "ZGPAT                                 0                          0   \n",
       "DNAJB4                                0                          0   \n",
       "LZTS1                                 0                          0   \n",
       "\n",
       "        CCR9 chemokine receptor binding  \\\n",
       "PNPLA3                                0   \n",
       "KRT18                                 0   \n",
       "ZGPAT                                 0   \n",
       "DNAJB4                                0   \n",
       "LZTS1                                 0   \n",
       "\n",
       "        D-glucose transmembrane transporter activity  \\\n",
       "PNPLA3                                             0   \n",
       "KRT18                                              0   \n",
       "ZGPAT                                              0   \n",
       "DNAJB4                                             0   \n",
       "LZTS1                                              0   \n",
       "\n",
       "        11-hydroxythromboxane B2 dehydrogenase activity  \\\n",
       "PNPLA3                                                0   \n",
       "KRT18                                                 0   \n",
       "ZGPAT                                                 0   \n",
       "DNAJB4                                                0   \n",
       "LZTS1                                                 0   \n",
       "\n",
       "        methionine transmembrane transporter activity  \\\n",
       "PNPLA3                                              0   \n",
       "KRT18                                               0   \n",
       "ZGPAT                                               0   \n",
       "DNAJB4                                              0   \n",
       "LZTS1                                               0   \n",
       "\n",
       "        isocitrate O-dihydroxycinnamoyltransferase activity  \\\n",
       "PNPLA3                                                  0     \n",
       "KRT18                                                   0     \n",
       "ZGPAT                                                   0     \n",
       "DNAJB4                                                  0     \n",
       "LZTS1                                                   0     \n",
       "\n",
       "                    ...                \\\n",
       "PNPLA3              ...                 \n",
       "KRT18               ...                 \n",
       "ZGPAT               ...                 \n",
       "DNAJB4              ...                 \n",
       "LZTS1               ...                 \n",
       "\n",
       "        ubiquitin-specific protease activity involved in positive regulation of ERAD pathway  \\\n",
       "PNPLA3                                                  0                                      \n",
       "KRT18                                                   0                                      \n",
       "ZGPAT                                                   0                                      \n",
       "DNAJB4                                                  0                                      \n",
       "LZTS1                                                   0                                      \n",
       "\n",
       "        oligoxyloglucan reducing-end-specific cellobiohydrolase activity  \\\n",
       "PNPLA3                                                  0                  \n",
       "KRT18                                                   0                  \n",
       "ZGPAT                                                   0                  \n",
       "DNAJB4                                                  0                  \n",
       "LZTS1                                                   0                  \n",
       "\n",
       "        G-protein coupled glutamate receptor binding  \\\n",
       "PNPLA3                                             0   \n",
       "KRT18                                              0   \n",
       "ZGPAT                                              0   \n",
       "DNAJB4                                             0   \n",
       "LZTS1                                              0   \n",
       "\n",
       "        type 5A serotonin receptor binding  \\\n",
       "PNPLA3                                   0   \n",
       "KRT18                                    0   \n",
       "ZGPAT                                    0   \n",
       "DNAJB4                                   0   \n",
       "LZTS1                                    0   \n",
       "\n",
       "        sn-1-glycerol-3-phosphate C16:0-DCA-CoA acyl transferase activity  \\\n",
       "PNPLA3                                                  0                   \n",
       "KRT18                                                   0                   \n",
       "ZGPAT                                                   0                   \n",
       "DNAJB4                                                  0                   \n",
       "LZTS1                                                   0                   \n",
       "\n",
       "        1,2-diacylglycerol 3-glucosyltransferase activity  \\\n",
       "PNPLA3                                                  0   \n",
       "KRT18                                                   0   \n",
       "ZGPAT                                                   0   \n",
       "DNAJB4                                                  0   \n",
       "LZTS1                                                   0   \n",
       "\n",
       "        type 4 somatostatin receptor binding  \\\n",
       "PNPLA3                                     0   \n",
       "KRT18                                      0   \n",
       "ZGPAT                                      0   \n",
       "DNAJB4                                     0   \n",
       "LZTS1                                      0   \n",
       "\n",
       "        insulin-like growth factor-activated receptor activity  \\\n",
       "PNPLA3                                                  0        \n",
       "KRT18                                                   0        \n",
       "ZGPAT                                                   0        \n",
       "DNAJB4                                                  0        \n",
       "LZTS1                                                   0        \n",
       "\n",
       "        protein methyltransferase activity  sequence-specific DNA binding  \n",
       "PNPLA3                                   0                              0  \n",
       "KRT18                                    0                              0  \n",
       "ZGPAT                                    0                              1  \n",
       "DNAJB4                                   0                              0  \n",
       "LZTS1                                    0                              1  \n",
       "\n",
       "[5 rows x 7115 columns]"
      ]
     },
     "execution_count": 39,
     "metadata": {},
     "output_type": "execute_result"
    }
   ],
   "source": [
    "binary_matrix.head()"
   ]
  },
  {
   "cell_type": "code",
   "execution_count": 40,
   "metadata": {},
   "outputs": [
    {
     "data": {
      "text/plain": [
       "(10716, 7115)"
      ]
     },
     "execution_count": 40,
     "metadata": {},
     "output_type": "execute_result"
    }
   ],
   "source": [
    "binary_matrix.shape"
   ]
  },
  {
   "cell_type": "markdown",
   "metadata": {},
   "source": [
    "# Save Binary Matrix"
   ]
  },
  {
   "cell_type": "code",
   "execution_count": 41,
   "metadata": {
    "collapsed": true
   },
   "outputs": [],
   "source": [
    "filename = '~/./Documents/Harmonizome/GO/output/go_molecular_function_binary_matrix_%s.tsv.zip'% str(datetime.date.today())[0:7].replace('-', '_')\n",
    "binary_matrix.to_csv(filename, sep='\\t', compression='gzip')"
   ]
  },
  {
   "cell_type": "markdown",
   "metadata": {},
   "source": [
    "# Create Gene Set Library"
   ]
  },
  {
   "cell_type": "code",
   "execution_count": 42,
   "metadata": {
    "collapsed": true
   },
   "outputs": [],
   "source": [
    "path = '/Users/moshesilverstein/Documents/Harmonizome/GO/output/'"
   ]
  },
  {
   "cell_type": "code",
   "execution_count": 43,
   "metadata": {
    "collapsed": true
   },
   "outputs": [],
   "source": [
    "name = 'go_molecular_function_gene_set'"
   ]
  },
  {
   "cell_type": "code",
   "execution_count": 44,
   "metadata": {},
   "outputs": [
    {
     "name": "stdout",
     "output_type": "stream",
     "text": [
      "Progeres: 100%  7115 Out of 7115   \r"
     ]
    }
   ],
   "source": [
    "mf.createUpGeneSetLib(binary_matrix, path, name)"
   ]
  },
  {
   "cell_type": "markdown",
   "metadata": {},
   "source": [
    "# Create Attribute Library"
   ]
  },
  {
   "cell_type": "code",
   "execution_count": 45,
   "metadata": {
    "collapsed": true
   },
   "outputs": [],
   "source": [
    "path = '/Users/moshesilverstein/Documents/Harmonizome/GO/output/'"
   ]
  },
  {
   "cell_type": "code",
   "execution_count": 46,
   "metadata": {
    "collapsed": true
   },
   "outputs": [],
   "source": [
    "name = 'go_molecular_function_attribute_set'"
   ]
  },
  {
   "cell_type": "code",
   "execution_count": 47,
   "metadata": {},
   "outputs": [
    {
     "name": "stdout",
     "output_type": "stream",
     "text": [
      "Progeres: 100%  10716 Out of 10716   \r"
     ]
    }
   ],
   "source": [
    "mf.createUpAttributeSetLib(binary_matrix, path, name)"
   ]
  },
  {
   "cell_type": "markdown",
   "metadata": {},
   "source": [
    "# Create Gene Similarity Matrix"
   ]
  },
  {
   "cell_type": "code",
   "execution_count": 48,
   "metadata": {
    "collapsed": true
   },
   "outputs": [],
   "source": [
    "gene_similarity_matix = mf.createSimilarityMatrix(binary_matrix, 'jaccard')"
   ]
  },
  {
   "cell_type": "code",
   "execution_count": 49,
   "metadata": {},
   "outputs": [
    {
     "data": {
      "text/html": [
       "<div>\n",
       "<table border=\"1\" class=\"dataframe\">\n",
       "  <thead>\n",
       "    <tr style=\"text-align: right;\">\n",
       "      <th></th>\n",
       "      <th>PNPLA3</th>\n",
       "      <th>KRT18</th>\n",
       "      <th>ZGPAT</th>\n",
       "      <th>DNAJB4</th>\n",
       "      <th>LZTS1</th>\n",
       "      <th>NET1</th>\n",
       "      <th>CARF</th>\n",
       "      <th>FCER1G</th>\n",
       "      <th>OR1C1</th>\n",
       "      <th>GPR157</th>\n",
       "      <th>...</th>\n",
       "      <th>KNG1</th>\n",
       "      <th>RPIA</th>\n",
       "      <th>BAHCC1</th>\n",
       "      <th>SLC6A5</th>\n",
       "      <th>PDIA6</th>\n",
       "      <th>KITLG</th>\n",
       "      <th>MAGEL2</th>\n",
       "      <th>CELA1</th>\n",
       "      <th>PPP2R2B</th>\n",
       "      <th>PGM3</th>\n",
       "    </tr>\n",
       "  </thead>\n",
       "  <tbody>\n",
       "    <tr>\n",
       "      <th>PNPLA3</th>\n",
       "      <td>1.0</td>\n",
       "      <td>0.0</td>\n",
       "      <td>0.000000</td>\n",
       "      <td>0.0</td>\n",
       "      <td>0.000000</td>\n",
       "      <td>0.0</td>\n",
       "      <td>0.000000</td>\n",
       "      <td>0.0</td>\n",
       "      <td>0.0</td>\n",
       "      <td>0.0</td>\n",
       "      <td>...</td>\n",
       "      <td>0.0</td>\n",
       "      <td>0.0</td>\n",
       "      <td>0.0</td>\n",
       "      <td>0.0</td>\n",
       "      <td>0.0</td>\n",
       "      <td>0.0</td>\n",
       "      <td>0.0</td>\n",
       "      <td>0.0</td>\n",
       "      <td>0.0</td>\n",
       "      <td>0.0</td>\n",
       "    </tr>\n",
       "    <tr>\n",
       "      <th>KRT18</th>\n",
       "      <td>0.0</td>\n",
       "      <td>1.0</td>\n",
       "      <td>0.000000</td>\n",
       "      <td>0.0</td>\n",
       "      <td>0.000000</td>\n",
       "      <td>0.0</td>\n",
       "      <td>0.000000</td>\n",
       "      <td>0.0</td>\n",
       "      <td>0.0</td>\n",
       "      <td>0.0</td>\n",
       "      <td>...</td>\n",
       "      <td>0.0</td>\n",
       "      <td>0.0</td>\n",
       "      <td>0.0</td>\n",
       "      <td>0.0</td>\n",
       "      <td>0.0</td>\n",
       "      <td>0.0</td>\n",
       "      <td>0.0</td>\n",
       "      <td>0.0</td>\n",
       "      <td>0.0</td>\n",
       "      <td>0.0</td>\n",
       "    </tr>\n",
       "    <tr>\n",
       "      <th>ZGPAT</th>\n",
       "      <td>0.0</td>\n",
       "      <td>0.0</td>\n",
       "      <td>1.000000</td>\n",
       "      <td>0.0</td>\n",
       "      <td>0.032258</td>\n",
       "      <td>0.0</td>\n",
       "      <td>0.032258</td>\n",
       "      <td>0.0</td>\n",
       "      <td>0.0</td>\n",
       "      <td>0.0</td>\n",
       "      <td>...</td>\n",
       "      <td>0.0</td>\n",
       "      <td>0.0</td>\n",
       "      <td>0.0</td>\n",
       "      <td>0.0</td>\n",
       "      <td>0.0</td>\n",
       "      <td>0.0</td>\n",
       "      <td>0.0</td>\n",
       "      <td>0.0</td>\n",
       "      <td>0.0</td>\n",
       "      <td>0.0</td>\n",
       "    </tr>\n",
       "    <tr>\n",
       "      <th>DNAJB4</th>\n",
       "      <td>0.0</td>\n",
       "      <td>0.0</td>\n",
       "      <td>0.000000</td>\n",
       "      <td>1.0</td>\n",
       "      <td>0.000000</td>\n",
       "      <td>0.0</td>\n",
       "      <td>0.000000</td>\n",
       "      <td>0.0</td>\n",
       "      <td>0.0</td>\n",
       "      <td>0.0</td>\n",
       "      <td>...</td>\n",
       "      <td>0.0</td>\n",
       "      <td>0.0</td>\n",
       "      <td>0.0</td>\n",
       "      <td>0.0</td>\n",
       "      <td>0.0</td>\n",
       "      <td>0.0</td>\n",
       "      <td>0.0</td>\n",
       "      <td>0.0</td>\n",
       "      <td>0.0</td>\n",
       "      <td>0.0</td>\n",
       "    </tr>\n",
       "    <tr>\n",
       "      <th>LZTS1</th>\n",
       "      <td>0.0</td>\n",
       "      <td>0.0</td>\n",
       "      <td>0.032258</td>\n",
       "      <td>0.0</td>\n",
       "      <td>1.000000</td>\n",
       "      <td>0.0</td>\n",
       "      <td>1.000000</td>\n",
       "      <td>0.0</td>\n",
       "      <td>0.0</td>\n",
       "      <td>0.0</td>\n",
       "      <td>...</td>\n",
       "      <td>0.0</td>\n",
       "      <td>0.0</td>\n",
       "      <td>0.0</td>\n",
       "      <td>0.0</td>\n",
       "      <td>0.0</td>\n",
       "      <td>0.0</td>\n",
       "      <td>0.0</td>\n",
       "      <td>0.0</td>\n",
       "      <td>0.0</td>\n",
       "      <td>0.0</td>\n",
       "    </tr>\n",
       "  </tbody>\n",
       "</table>\n",
       "<p>5 rows × 10716 columns</p>\n",
       "</div>"
      ],
      "text/plain": [
       "        PNPLA3  KRT18     ZGPAT  DNAJB4     LZTS1  NET1      CARF  FCER1G  \\\n",
       "PNPLA3     1.0    0.0  0.000000     0.0  0.000000   0.0  0.000000     0.0   \n",
       "KRT18      0.0    1.0  0.000000     0.0  0.000000   0.0  0.000000     0.0   \n",
       "ZGPAT      0.0    0.0  1.000000     0.0  0.032258   0.0  0.032258     0.0   \n",
       "DNAJB4     0.0    0.0  0.000000     1.0  0.000000   0.0  0.000000     0.0   \n",
       "LZTS1      0.0    0.0  0.032258     0.0  1.000000   0.0  1.000000     0.0   \n",
       "\n",
       "        OR1C1  GPR157  ...   KNG1  RPIA  BAHCC1  SLC6A5  PDIA6  KITLG  MAGEL2  \\\n",
       "PNPLA3    0.0     0.0  ...    0.0   0.0     0.0     0.0    0.0    0.0     0.0   \n",
       "KRT18     0.0     0.0  ...    0.0   0.0     0.0     0.0    0.0    0.0     0.0   \n",
       "ZGPAT     0.0     0.0  ...    0.0   0.0     0.0     0.0    0.0    0.0     0.0   \n",
       "DNAJB4    0.0     0.0  ...    0.0   0.0     0.0     0.0    0.0    0.0     0.0   \n",
       "LZTS1     0.0     0.0  ...    0.0   0.0     0.0     0.0    0.0    0.0     0.0   \n",
       "\n",
       "        CELA1  PPP2R2B  PGM3  \n",
       "PNPLA3    0.0      0.0   0.0  \n",
       "KRT18     0.0      0.0   0.0  \n",
       "ZGPAT     0.0      0.0   0.0  \n",
       "DNAJB4    0.0      0.0   0.0  \n",
       "LZTS1     0.0      0.0   0.0  \n",
       "\n",
       "[5 rows x 10716 columns]"
      ]
     },
     "execution_count": 49,
     "metadata": {},
     "output_type": "execute_result"
    }
   ],
   "source": [
    "gene_similarity_matix.head()"
   ]
  },
  {
   "cell_type": "markdown",
   "metadata": {},
   "source": [
    "# Save Gene Similarity Matrix "
   ]
  },
  {
   "cell_type": "code",
   "execution_count": 50,
   "metadata": {
    "collapsed": true
   },
   "outputs": [],
   "source": [
    "filename = '~/./Documents/Harmonizome/GO/output/go_molecular_function_gene_similarity_matix_%s.tsv.zip'% str(datetime.date.today())[0:7].replace('-', '_')\n",
    "gene_similarity_matix.to_csv(filename, sep='\\t', compression='gzip')"
   ]
  },
  {
   "cell_type": "markdown",
   "metadata": {},
   "source": [
    "# Create Attribute Similarity matrix"
   ]
  },
  {
   "cell_type": "code",
   "execution_count": 51,
   "metadata": {
    "collapsed": true
   },
   "outputs": [],
   "source": [
    "attribute_similarity_matix = mf.createSimilarityMatrix(binary_matrix.T, 'jaccard')"
   ]
  },
  {
   "cell_type": "code",
   "execution_count": 52,
   "metadata": {},
   "outputs": [
    {
     "data": {
      "text/html": [
       "<div>\n",
       "<table border=\"1\" class=\"dataframe\">\n",
       "  <thead>\n",
       "    <tr style=\"text-align: right;\">\n",
       "      <th></th>\n",
       "      <th>polygalacturonase activity</th>\n",
       "      <th>NAD(P)+-protein-arginine ADP-ribosyltransferase activity</th>\n",
       "      <th>cholate 7-alpha-dehydrogenase activity</th>\n",
       "      <th>carbon monoxide sensor activity</th>\n",
       "      <th>phospholipase A2 activity</th>\n",
       "      <th>CCR9 chemokine receptor binding</th>\n",
       "      <th>D-glucose transmembrane transporter activity</th>\n",
       "      <th>11-hydroxythromboxane B2 dehydrogenase activity</th>\n",
       "      <th>methionine transmembrane transporter activity</th>\n",
       "      <th>isocitrate O-dihydroxycinnamoyltransferase activity</th>\n",
       "      <th>...</th>\n",
       "      <th>ubiquitin-specific protease activity involved in positive regulation of ERAD pathway</th>\n",
       "      <th>oligoxyloglucan reducing-end-specific cellobiohydrolase activity</th>\n",
       "      <th>G-protein coupled glutamate receptor binding</th>\n",
       "      <th>type 5A serotonin receptor binding</th>\n",
       "      <th>sn-1-glycerol-3-phosphate C16:0-DCA-CoA acyl transferase activity</th>\n",
       "      <th>1,2-diacylglycerol 3-glucosyltransferase activity</th>\n",
       "      <th>type 4 somatostatin receptor binding</th>\n",
       "      <th>insulin-like growth factor-activated receptor activity</th>\n",
       "      <th>protein methyltransferase activity</th>\n",
       "      <th>sequence-specific DNA binding</th>\n",
       "    </tr>\n",
       "  </thead>\n",
       "  <tbody>\n",
       "    <tr>\n",
       "      <th>polygalacturonase activity</th>\n",
       "      <td>1.0</td>\n",
       "      <td>0.0</td>\n",
       "      <td>0.0</td>\n",
       "      <td>0.0</td>\n",
       "      <td>0.0</td>\n",
       "      <td>0.0</td>\n",
       "      <td>0.0</td>\n",
       "      <td>0.0</td>\n",
       "      <td>0.0</td>\n",
       "      <td>0.0</td>\n",
       "      <td>...</td>\n",
       "      <td>0.0</td>\n",
       "      <td>1.0</td>\n",
       "      <td>0.0</td>\n",
       "      <td>0.0</td>\n",
       "      <td>0.0</td>\n",
       "      <td>0.0</td>\n",
       "      <td>0.0</td>\n",
       "      <td>0.0</td>\n",
       "      <td>0.0</td>\n",
       "      <td>0.0</td>\n",
       "    </tr>\n",
       "    <tr>\n",
       "      <th>NAD(P)+-protein-arginine ADP-ribosyltransferase activity</th>\n",
       "      <td>0.0</td>\n",
       "      <td>1.0</td>\n",
       "      <td>0.0</td>\n",
       "      <td>0.0</td>\n",
       "      <td>0.0</td>\n",
       "      <td>0.0</td>\n",
       "      <td>0.0</td>\n",
       "      <td>0.0</td>\n",
       "      <td>0.0</td>\n",
       "      <td>0.0</td>\n",
       "      <td>...</td>\n",
       "      <td>0.0</td>\n",
       "      <td>0.0</td>\n",
       "      <td>0.0</td>\n",
       "      <td>0.0</td>\n",
       "      <td>0.0</td>\n",
       "      <td>0.0</td>\n",
       "      <td>0.0</td>\n",
       "      <td>0.0</td>\n",
       "      <td>0.0</td>\n",
       "      <td>0.0</td>\n",
       "    </tr>\n",
       "    <tr>\n",
       "      <th>cholate 7-alpha-dehydrogenase activity</th>\n",
       "      <td>0.0</td>\n",
       "      <td>0.0</td>\n",
       "      <td>1.0</td>\n",
       "      <td>0.0</td>\n",
       "      <td>0.0</td>\n",
       "      <td>0.0</td>\n",
       "      <td>0.0</td>\n",
       "      <td>0.0</td>\n",
       "      <td>0.0</td>\n",
       "      <td>0.0</td>\n",
       "      <td>...</td>\n",
       "      <td>0.0</td>\n",
       "      <td>0.0</td>\n",
       "      <td>0.0</td>\n",
       "      <td>0.0</td>\n",
       "      <td>0.0</td>\n",
       "      <td>0.0</td>\n",
       "      <td>0.0</td>\n",
       "      <td>0.0</td>\n",
       "      <td>0.0</td>\n",
       "      <td>0.0</td>\n",
       "    </tr>\n",
       "    <tr>\n",
       "      <th>carbon monoxide sensor activity</th>\n",
       "      <td>0.0</td>\n",
       "      <td>0.0</td>\n",
       "      <td>0.0</td>\n",
       "      <td>1.0</td>\n",
       "      <td>0.0</td>\n",
       "      <td>0.0</td>\n",
       "      <td>0.0</td>\n",
       "      <td>0.0</td>\n",
       "      <td>0.0</td>\n",
       "      <td>0.0</td>\n",
       "      <td>...</td>\n",
       "      <td>0.0</td>\n",
       "      <td>0.0</td>\n",
       "      <td>0.0</td>\n",
       "      <td>0.0</td>\n",
       "      <td>0.0</td>\n",
       "      <td>0.0</td>\n",
       "      <td>0.0</td>\n",
       "      <td>0.0</td>\n",
       "      <td>0.0</td>\n",
       "      <td>0.0</td>\n",
       "    </tr>\n",
       "    <tr>\n",
       "      <th>phospholipase A2 activity</th>\n",
       "      <td>0.0</td>\n",
       "      <td>0.0</td>\n",
       "      <td>0.0</td>\n",
       "      <td>0.0</td>\n",
       "      <td>1.0</td>\n",
       "      <td>0.0</td>\n",
       "      <td>0.0</td>\n",
       "      <td>0.0</td>\n",
       "      <td>0.0</td>\n",
       "      <td>0.0</td>\n",
       "      <td>...</td>\n",
       "      <td>0.0</td>\n",
       "      <td>0.0</td>\n",
       "      <td>0.0</td>\n",
       "      <td>0.0</td>\n",
       "      <td>0.0</td>\n",
       "      <td>0.0</td>\n",
       "      <td>0.0</td>\n",
       "      <td>0.0</td>\n",
       "      <td>0.0</td>\n",
       "      <td>0.0</td>\n",
       "    </tr>\n",
       "  </tbody>\n",
       "</table>\n",
       "<p>5 rows × 7115 columns</p>\n",
       "</div>"
      ],
      "text/plain": [
       "                                                    polygalacturonase activity  \\\n",
       "polygalacturonase activity                                                 1.0   \n",
       "NAD(P)+-protein-arginine ADP-ribosyltransferase...                         0.0   \n",
       "cholate 7-alpha-dehydrogenase activity                                     0.0   \n",
       "carbon monoxide sensor activity                                            0.0   \n",
       "phospholipase A2 activity                                                  0.0   \n",
       "\n",
       "                                                    NAD(P)+-protein-arginine ADP-ribosyltransferase activity  \\\n",
       "polygalacturonase activity                                                                        0.0          \n",
       "NAD(P)+-protein-arginine ADP-ribosyltransferase...                                                1.0          \n",
       "cholate 7-alpha-dehydrogenase activity                                                            0.0          \n",
       "carbon monoxide sensor activity                                                                   0.0          \n",
       "phospholipase A2 activity                                                                         0.0          \n",
       "\n",
       "                                                    cholate 7-alpha-dehydrogenase activity  \\\n",
       "polygalacturonase activity                                                             0.0   \n",
       "NAD(P)+-protein-arginine ADP-ribosyltransferase...                                     0.0   \n",
       "cholate 7-alpha-dehydrogenase activity                                                 1.0   \n",
       "carbon monoxide sensor activity                                                        0.0   \n",
       "phospholipase A2 activity                                                              0.0   \n",
       "\n",
       "                                                    carbon monoxide sensor activity  \\\n",
       "polygalacturonase activity                                                      0.0   \n",
       "NAD(P)+-protein-arginine ADP-ribosyltransferase...                              0.0   \n",
       "cholate 7-alpha-dehydrogenase activity                                          0.0   \n",
       "carbon monoxide sensor activity                                                 1.0   \n",
       "phospholipase A2 activity                                                       0.0   \n",
       "\n",
       "                                                    phospholipase A2 activity  \\\n",
       "polygalacturonase activity                                                0.0   \n",
       "NAD(P)+-protein-arginine ADP-ribosyltransferase...                        0.0   \n",
       "cholate 7-alpha-dehydrogenase activity                                    0.0   \n",
       "carbon monoxide sensor activity                                           0.0   \n",
       "phospholipase A2 activity                                                 1.0   \n",
       "\n",
       "                                                    CCR9 chemokine receptor binding  \\\n",
       "polygalacturonase activity                                                      0.0   \n",
       "NAD(P)+-protein-arginine ADP-ribosyltransferase...                              0.0   \n",
       "cholate 7-alpha-dehydrogenase activity                                          0.0   \n",
       "carbon monoxide sensor activity                                                 0.0   \n",
       "phospholipase A2 activity                                                       0.0   \n",
       "\n",
       "                                                    D-glucose transmembrane transporter activity  \\\n",
       "polygalacturonase activity                                                                   0.0   \n",
       "NAD(P)+-protein-arginine ADP-ribosyltransferase...                                           0.0   \n",
       "cholate 7-alpha-dehydrogenase activity                                                       0.0   \n",
       "carbon monoxide sensor activity                                                              0.0   \n",
       "phospholipase A2 activity                                                                    0.0   \n",
       "\n",
       "                                                    11-hydroxythromboxane B2 dehydrogenase activity  \\\n",
       "polygalacturonase activity                                                                      0.0   \n",
       "NAD(P)+-protein-arginine ADP-ribosyltransferase...                                              0.0   \n",
       "cholate 7-alpha-dehydrogenase activity                                                          0.0   \n",
       "carbon monoxide sensor activity                                                                 0.0   \n",
       "phospholipase A2 activity                                                                       0.0   \n",
       "\n",
       "                                                    methionine transmembrane transporter activity  \\\n",
       "polygalacturonase activity                                                                    0.0   \n",
       "NAD(P)+-protein-arginine ADP-ribosyltransferase...                                            0.0   \n",
       "cholate 7-alpha-dehydrogenase activity                                                        0.0   \n",
       "carbon monoxide sensor activity                                                               0.0   \n",
       "phospholipase A2 activity                                                                     0.0   \n",
       "\n",
       "                                                    isocitrate O-dihydroxycinnamoyltransferase activity  \\\n",
       "polygalacturonase activity                                                                        0.0     \n",
       "NAD(P)+-protein-arginine ADP-ribosyltransferase...                                                0.0     \n",
       "cholate 7-alpha-dehydrogenase activity                                                            0.0     \n",
       "carbon monoxide sensor activity                                                                   0.0     \n",
       "phospholipase A2 activity                                                                         0.0     \n",
       "\n",
       "                                                                ...                \\\n",
       "polygalacturonase activity                                      ...                 \n",
       "NAD(P)+-protein-arginine ADP-ribosyltransferase...              ...                 \n",
       "cholate 7-alpha-dehydrogenase activity                          ...                 \n",
       "carbon monoxide sensor activity                                 ...                 \n",
       "phospholipase A2 activity                                       ...                 \n",
       "\n",
       "                                                    ubiquitin-specific protease activity involved in positive regulation of ERAD pathway  \\\n",
       "polygalacturonase activity                                                                        0.0                                      \n",
       "NAD(P)+-protein-arginine ADP-ribosyltransferase...                                                0.0                                      \n",
       "cholate 7-alpha-dehydrogenase activity                                                            0.0                                      \n",
       "carbon monoxide sensor activity                                                                   0.0                                      \n",
       "phospholipase A2 activity                                                                         0.0                                      \n",
       "\n",
       "                                                    oligoxyloglucan reducing-end-specific cellobiohydrolase activity  \\\n",
       "polygalacturonase activity                                                                        1.0                  \n",
       "NAD(P)+-protein-arginine ADP-ribosyltransferase...                                                0.0                  \n",
       "cholate 7-alpha-dehydrogenase activity                                                            0.0                  \n",
       "carbon monoxide sensor activity                                                                   0.0                  \n",
       "phospholipase A2 activity                                                                         0.0                  \n",
       "\n",
       "                                                    G-protein coupled glutamate receptor binding  \\\n",
       "polygalacturonase activity                                                                   0.0   \n",
       "NAD(P)+-protein-arginine ADP-ribosyltransferase...                                           0.0   \n",
       "cholate 7-alpha-dehydrogenase activity                                                       0.0   \n",
       "carbon monoxide sensor activity                                                              0.0   \n",
       "phospholipase A2 activity                                                                    0.0   \n",
       "\n",
       "                                                    type 5A serotonin receptor binding  \\\n",
       "polygalacturonase activity                                                         0.0   \n",
       "NAD(P)+-protein-arginine ADP-ribosyltransferase...                                 0.0   \n",
       "cholate 7-alpha-dehydrogenase activity                                             0.0   \n",
       "carbon monoxide sensor activity                                                    0.0   \n",
       "phospholipase A2 activity                                                          0.0   \n",
       "\n",
       "                                                    sn-1-glycerol-3-phosphate C16:0-DCA-CoA acyl transferase activity  \\\n",
       "polygalacturonase activity                                                                        0.0                   \n",
       "NAD(P)+-protein-arginine ADP-ribosyltransferase...                                                0.0                   \n",
       "cholate 7-alpha-dehydrogenase activity                                                            0.0                   \n",
       "carbon monoxide sensor activity                                                                   0.0                   \n",
       "phospholipase A2 activity                                                                         0.0                   \n",
       "\n",
       "                                                    1,2-diacylglycerol 3-glucosyltransferase activity  \\\n",
       "polygalacturonase activity                                                                        0.0   \n",
       "NAD(P)+-protein-arginine ADP-ribosyltransferase...                                                0.0   \n",
       "cholate 7-alpha-dehydrogenase activity                                                            0.0   \n",
       "carbon monoxide sensor activity                                                                   0.0   \n",
       "phospholipase A2 activity                                                                         0.0   \n",
       "\n",
       "                                                    type 4 somatostatin receptor binding  \\\n",
       "polygalacturonase activity                                                           0.0   \n",
       "NAD(P)+-protein-arginine ADP-ribosyltransferase...                                   0.0   \n",
       "cholate 7-alpha-dehydrogenase activity                                               0.0   \n",
       "carbon monoxide sensor activity                                                      0.0   \n",
       "phospholipase A2 activity                                                            0.0   \n",
       "\n",
       "                                                    insulin-like growth factor-activated receptor activity  \\\n",
       "polygalacturonase activity                                                                        0.0        \n",
       "NAD(P)+-protein-arginine ADP-ribosyltransferase...                                                0.0        \n",
       "cholate 7-alpha-dehydrogenase activity                                                            0.0        \n",
       "carbon monoxide sensor activity                                                                   0.0        \n",
       "phospholipase A2 activity                                                                         0.0        \n",
       "\n",
       "                                                    protein methyltransferase activity  \\\n",
       "polygalacturonase activity                                                         0.0   \n",
       "NAD(P)+-protein-arginine ADP-ribosyltransferase...                                 0.0   \n",
       "cholate 7-alpha-dehydrogenase activity                                             0.0   \n",
       "carbon monoxide sensor activity                                                    0.0   \n",
       "phospholipase A2 activity                                                          0.0   \n",
       "\n",
       "                                                    sequence-specific DNA binding  \n",
       "polygalacturonase activity                                                    0.0  \n",
       "NAD(P)+-protein-arginine ADP-ribosyltransferase...                            0.0  \n",
       "cholate 7-alpha-dehydrogenase activity                                        0.0  \n",
       "carbon monoxide sensor activity                                               0.0  \n",
       "phospholipase A2 activity                                                     0.0  \n",
       "\n",
       "[5 rows x 7115 columns]"
      ]
     },
     "execution_count": 52,
     "metadata": {},
     "output_type": "execute_result"
    }
   ],
   "source": [
    "attribute_similarity_matix.head()"
   ]
  },
  {
   "cell_type": "markdown",
   "metadata": {},
   "source": [
    "# Save Attribute Similarity Matrix"
   ]
  },
  {
   "cell_type": "code",
   "execution_count": 53,
   "metadata": {
    "collapsed": true
   },
   "outputs": [],
   "source": [
    "filename = '~/./Documents/Harmonizome/GO/output/go_molecular_function_attribute_similarity_matix_%s.tsv.zip'% str(datetime.date.today())[0:7].replace('-', '_')\n",
    "attribute_similarity_matix.to_csv(filename, sep='\\t', compression='gzip')"
   ]
  },
  {
   "cell_type": "markdown",
   "metadata": {},
   "source": [
    "# Create Gene List"
   ]
  },
  {
   "cell_type": "code",
   "execution_count": 54,
   "metadata": {},
   "outputs": [
    {
     "name": "stdout",
     "output_type": "stream",
     "text": [
      "Progeres: 100%  10716 Out of 10716   \r"
     ]
    }
   ],
   "source": [
    "gene_list = mf.createGeneList(binary_matrix)"
   ]
  },
  {
   "cell_type": "code",
   "execution_count": 55,
   "metadata": {},
   "outputs": [
    {
     "data": {
      "text/html": [
       "<div>\n",
       "<table border=\"1\" class=\"dataframe\">\n",
       "  <thead>\n",
       "    <tr style=\"text-align: right;\">\n",
       "      <th></th>\n",
       "      <th>GeneSym</th>\n",
       "      <th>GeneID</th>\n",
       "    </tr>\n",
       "  </thead>\n",
       "  <tbody>\n",
       "    <tr>\n",
       "      <th>0</th>\n",
       "      <td>PNPLA3</td>\n",
       "      <td>80339</td>\n",
       "    </tr>\n",
       "    <tr>\n",
       "      <th>1</th>\n",
       "      <td>KRT18</td>\n",
       "      <td>3875</td>\n",
       "    </tr>\n",
       "    <tr>\n",
       "      <th>2</th>\n",
       "      <td>ZGPAT</td>\n",
       "      <td>84619</td>\n",
       "    </tr>\n",
       "    <tr>\n",
       "      <th>3</th>\n",
       "      <td>DNAJB4</td>\n",
       "      <td>11080</td>\n",
       "    </tr>\n",
       "    <tr>\n",
       "      <th>4</th>\n",
       "      <td>LZTS1</td>\n",
       "      <td>11178</td>\n",
       "    </tr>\n",
       "  </tbody>\n",
       "</table>\n",
       "</div>"
      ],
      "text/plain": [
       "  GeneSym GeneID\n",
       "0  PNPLA3  80339\n",
       "1   KRT18   3875\n",
       "2   ZGPAT  84619\n",
       "3  DNAJB4  11080\n",
       "4   LZTS1  11178"
      ]
     },
     "execution_count": 55,
     "metadata": {},
     "output_type": "execute_result"
    }
   ],
   "source": [
    "gene_list.head()"
   ]
  },
  {
   "cell_type": "code",
   "execution_count": 56,
   "metadata": {},
   "outputs": [
    {
     "data": {
      "text/plain": [
       "(10716, 2)"
      ]
     },
     "execution_count": 56,
     "metadata": {},
     "output_type": "execute_result"
    }
   ],
   "source": [
    "gene_list.shape"
   ]
  },
  {
   "cell_type": "markdown",
   "metadata": {},
   "source": [
    "# Save Gene List"
   ]
  },
  {
   "cell_type": "code",
   "execution_count": 57,
   "metadata": {
    "collapsed": true
   },
   "outputs": [],
   "source": [
    "filename = '~/./Documents/Harmonizome/GO/output/go_molecular_function_gene_list_%s.tsv.zip'% str(datetime.date.today())[0:7].replace('-', '_')\n",
    "gene_list.to_csv(filename, sep='\\t', index=False, compression='gzip')"
   ]
  },
  {
   "cell_type": "markdown",
   "metadata": {},
   "source": [
    "# Create Attribute List "
   ]
  },
  {
   "cell_type": "code",
   "execution_count": 58,
   "metadata": {
    "collapsed": true
   },
   "outputs": [],
   "source": [
    "attribute_list = mf.createAttributeList(binary_matrix)"
   ]
  },
  {
   "cell_type": "code",
   "execution_count": 59,
   "metadata": {},
   "outputs": [
    {
     "data": {
      "text/html": [
       "<div>\n",
       "<table border=\"1\" class=\"dataframe\">\n",
       "  <thead>\n",
       "    <tr style=\"text-align: right;\">\n",
       "      <th></th>\n",
       "      <th>Attributes</th>\n",
       "    </tr>\n",
       "  </thead>\n",
       "  <tbody>\n",
       "    <tr>\n",
       "      <th>0</th>\n",
       "      <td>polygalacturonase activity</td>\n",
       "    </tr>\n",
       "    <tr>\n",
       "      <th>1</th>\n",
       "      <td>NAD(P)+-protein-arginine ADP-ribosyltransferas...</td>\n",
       "    </tr>\n",
       "    <tr>\n",
       "      <th>2</th>\n",
       "      <td>cholate 7-alpha-dehydrogenase activity</td>\n",
       "    </tr>\n",
       "    <tr>\n",
       "      <th>3</th>\n",
       "      <td>carbon monoxide sensor activity</td>\n",
       "    </tr>\n",
       "    <tr>\n",
       "      <th>4</th>\n",
       "      <td>phospholipase A2 activity</td>\n",
       "    </tr>\n",
       "  </tbody>\n",
       "</table>\n",
       "</div>"
      ],
      "text/plain": [
       "                                          Attributes\n",
       "0                         polygalacturonase activity\n",
       "1  NAD(P)+-protein-arginine ADP-ribosyltransferas...\n",
       "2             cholate 7-alpha-dehydrogenase activity\n",
       "3                    carbon monoxide sensor activity\n",
       "4                          phospholipase A2 activity"
      ]
     },
     "execution_count": 59,
     "metadata": {},
     "output_type": "execute_result"
    }
   ],
   "source": [
    "attribute_list.head()"
   ]
  },
  {
   "cell_type": "code",
   "execution_count": 60,
   "metadata": {},
   "outputs": [
    {
     "data": {
      "text/plain": [
       "(7115, 1)"
      ]
     },
     "execution_count": 60,
     "metadata": {},
     "output_type": "execute_result"
    }
   ],
   "source": [
    "attribute_list.shape"
   ]
  },
  {
   "cell_type": "markdown",
   "metadata": {},
   "source": [
    "# Save Attribute List"
   ]
  },
  {
   "cell_type": "code",
   "execution_count": 61,
   "metadata": {
    "collapsed": true
   },
   "outputs": [],
   "source": [
    "filename = '~/./Documents/Harmonizome/GO/output/go_molecular_function_attribute_list_%s.tsv.zip'% str(datetime.date.today())[0:7].replace('-', '_')\n",
    "attribute_list.to_csv(filename, sep='\\t', index=False, compression='gzip')"
   ]
  },
  {
   "cell_type": "markdown",
   "metadata": {},
   "source": [
    "# Create Gene-Attribute Edge List"
   ]
  },
  {
   "cell_type": "code",
   "execution_count": 62,
   "metadata": {
    "collapsed": true
   },
   "outputs": [],
   "source": [
    "path = '/Users/moshesilverstein/Documents/Harmonizome/GO/output/'"
   ]
  },
  {
   "cell_type": "code",
   "execution_count": 63,
   "metadata": {
    "collapsed": true
   },
   "outputs": [],
   "source": [
    "name = 'go_molecular_function_gene_attribute_edge_list'"
   ]
  },
  {
   "cell_type": "code",
   "execution_count": 64,
   "metadata": {},
   "outputs": [
    {
     "name": "stdout",
     "output_type": "stream",
     "text": [
      "Progeres: 100%  7115 Out of 7115   \n",
      "\n",
      " The number of statisticaly relevent gene-attribute associations is: 157088\n"
     ]
    }
   ],
   "source": [
    "mf.createGeneAttributeEdgeList(binary_matrix, gene_list, path, name)"
   ]
  }
 ],
 "metadata": {
  "kernelspec": {
   "display_name": "Python [default]",
   "language": "python",
   "name": "python3"
  },
  "language_info": {
   "codemirror_mode": {
    "name": "ipython",
    "version": 3
   },
   "file_extension": ".py",
   "mimetype": "text/x-python",
   "name": "python",
   "nbconvert_exporter": "python",
   "pygments_lexer": "ipython3",
   "version": "3.5.2"
  }
 },
 "nbformat": 4,
 "nbformat_minor": 2
}
