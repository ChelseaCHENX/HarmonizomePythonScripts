{
 "cells": [
  {
   "cell_type": "markdown",
   "metadata": {},
   "source": [
    "# Gene Ontology (GO) Cellular Component"
   ]
  },
  {
   "cell_type": "markdown",
   "metadata": {},
   "source": [
    "Author: Moshe Silverstein <br/>\n",
    "Date: 7-17 <br/>\n",
    "Data Downloaded: 04-2017 <br/>\n",
    "Data Source: http://geneontology.org/gene-associations/goa_human.gaf.gz"
   ]
  },
  {
   "cell_type": "code",
   "execution_count": 1,
   "metadata": {
    "collapsed": true
   },
   "outputs": [],
   "source": [
    "import sys, datetime\n",
    "import numpy as np\n",
    "import pandas as pd\n",
    "import importlib\n",
    "import my_functions as mf\n",
    "import goenrich\n",
    "%matplotlib inline"
   ]
  },
  {
   "cell_type": "code",
   "execution_count": 2,
   "metadata": {},
   "outputs": [
    {
     "data": {
      "text/plain": [
       "<module 'my_functions' from '/Users/moshesilverstein/Documents/Harmonizome/GO/my_functions.py'>"
      ]
     },
     "execution_count": 2,
     "metadata": {},
     "output_type": "execute_result"
    }
   ],
   "source": [
    "importlib.reload(mf)"
   ]
  },
  {
   "cell_type": "markdown",
   "metadata": {},
   "source": [
    "# Load Data"
   ]
  },
  {
   "cell_type": "code",
   "execution_count": 3,
   "metadata": {
    "collapsed": true
   },
   "outputs": [],
   "source": [
    "df = pd.read_csv('input/goa_human.gaf', sep='\\t', skiprows=34, header=None, index_col=False)"
   ]
  },
  {
   "cell_type": "code",
   "execution_count": 4,
   "metadata": {},
   "outputs": [
    {
     "data": {
      "text/html": [
       "<div>\n",
       "<table border=\"1\" class=\"dataframe\">\n",
       "  <thead>\n",
       "    <tr style=\"text-align: right;\">\n",
       "      <th></th>\n",
       "      <th>0</th>\n",
       "      <th>1</th>\n",
       "      <th>2</th>\n",
       "      <th>3</th>\n",
       "      <th>4</th>\n",
       "      <th>5</th>\n",
       "      <th>6</th>\n",
       "      <th>7</th>\n",
       "      <th>8</th>\n",
       "      <th>9</th>\n",
       "      <th>10</th>\n",
       "      <th>11</th>\n",
       "      <th>12</th>\n",
       "      <th>13</th>\n",
       "      <th>14</th>\n",
       "      <th>15</th>\n",
       "      <th>16</th>\n",
       "    </tr>\n",
       "  </thead>\n",
       "  <tbody>\n",
       "    <tr>\n",
       "      <th>0</th>\n",
       "      <td>UniProtKB</td>\n",
       "      <td>A0A024R161</td>\n",
       "      <td>DNAJC25-GNG10</td>\n",
       "      <td>NaN</td>\n",
       "      <td>GO:0004871</td>\n",
       "      <td>GO_REF:0000038</td>\n",
       "      <td>IEA</td>\n",
       "      <td>UniProtKB-KW:KW-0807</td>\n",
       "      <td>F</td>\n",
       "      <td>Guanine nucleotide-binding protein subunit gamma</td>\n",
       "      <td>A0A024R161_HUMAN|DNAJC25-GNG10|hCG_1994888</td>\n",
       "      <td>protein</td>\n",
       "      <td>taxon:9606</td>\n",
       "      <td>20170506</td>\n",
       "      <td>UniProt</td>\n",
       "      <td>NaN</td>\n",
       "      <td>NaN</td>\n",
       "    </tr>\n",
       "    <tr>\n",
       "      <th>1</th>\n",
       "      <td>UniProtKB</td>\n",
       "      <td>A0A024R161</td>\n",
       "      <td>DNAJC25-GNG10</td>\n",
       "      <td>NaN</td>\n",
       "      <td>GO:0005834</td>\n",
       "      <td>GO_REF:0000002</td>\n",
       "      <td>IEA</td>\n",
       "      <td>InterPro:IPR001770|InterPro:IPR015898</td>\n",
       "      <td>C</td>\n",
       "      <td>Guanine nucleotide-binding protein subunit gamma</td>\n",
       "      <td>A0A024R161_HUMAN|DNAJC25-GNG10|hCG_1994888</td>\n",
       "      <td>protein</td>\n",
       "      <td>taxon:9606</td>\n",
       "      <td>20170506</td>\n",
       "      <td>InterPro</td>\n",
       "      <td>NaN</td>\n",
       "      <td>NaN</td>\n",
       "    </tr>\n",
       "    <tr>\n",
       "      <th>2</th>\n",
       "      <td>UniProtKB</td>\n",
       "      <td>A0A024R161</td>\n",
       "      <td>DNAJC25-GNG10</td>\n",
       "      <td>NaN</td>\n",
       "      <td>GO:0007186</td>\n",
       "      <td>GO_REF:0000002</td>\n",
       "      <td>IEA</td>\n",
       "      <td>InterPro:IPR001770|InterPro:IPR015898</td>\n",
       "      <td>P</td>\n",
       "      <td>Guanine nucleotide-binding protein subunit gamma</td>\n",
       "      <td>A0A024R161_HUMAN|DNAJC25-GNG10|hCG_1994888</td>\n",
       "      <td>protein</td>\n",
       "      <td>taxon:9606</td>\n",
       "      <td>20170506</td>\n",
       "      <td>InterPro</td>\n",
       "      <td>NaN</td>\n",
       "      <td>NaN</td>\n",
       "    </tr>\n",
       "    <tr>\n",
       "      <th>3</th>\n",
       "      <td>UniProtKB</td>\n",
       "      <td>A0A075B6H7</td>\n",
       "      <td>IGKV3-7</td>\n",
       "      <td>NaN</td>\n",
       "      <td>GO:0002377</td>\n",
       "      <td>GO_REF:0000033</td>\n",
       "      <td>IBA</td>\n",
       "      <td>PANTHER:PTN000587099</td>\n",
       "      <td>P</td>\n",
       "      <td>Immunoglobulin kappa variable 3-7 (non-functio...</td>\n",
       "      <td>A0A075B6H7_HUMAN|IGKV3-7</td>\n",
       "      <td>protein</td>\n",
       "      <td>taxon:9606</td>\n",
       "      <td>20150528</td>\n",
       "      <td>GO_Central</td>\n",
       "      <td>NaN</td>\n",
       "      <td>NaN</td>\n",
       "    </tr>\n",
       "    <tr>\n",
       "      <th>4</th>\n",
       "      <td>UniProtKB</td>\n",
       "      <td>A0A075B6H7</td>\n",
       "      <td>IGKV3-7</td>\n",
       "      <td>NaN</td>\n",
       "      <td>GO:0005615</td>\n",
       "      <td>GO_REF:0000033</td>\n",
       "      <td>IBA</td>\n",
       "      <td>PANTHER:PTN000587099</td>\n",
       "      <td>C</td>\n",
       "      <td>Immunoglobulin kappa variable 3-7 (non-functio...</td>\n",
       "      <td>A0A075B6H7_HUMAN|IGKV3-7</td>\n",
       "      <td>protein</td>\n",
       "      <td>taxon:9606</td>\n",
       "      <td>20150528</td>\n",
       "      <td>GO_Central</td>\n",
       "      <td>NaN</td>\n",
       "      <td>NaN</td>\n",
       "    </tr>\n",
       "  </tbody>\n",
       "</table>\n",
       "</div>"
      ],
      "text/plain": [
       "          0           1              2    3           4               5    6   \\\n",
       "0  UniProtKB  A0A024R161  DNAJC25-GNG10  NaN  GO:0004871  GO_REF:0000038  IEA   \n",
       "1  UniProtKB  A0A024R161  DNAJC25-GNG10  NaN  GO:0005834  GO_REF:0000002  IEA   \n",
       "2  UniProtKB  A0A024R161  DNAJC25-GNG10  NaN  GO:0007186  GO_REF:0000002  IEA   \n",
       "3  UniProtKB  A0A075B6H7        IGKV3-7  NaN  GO:0002377  GO_REF:0000033  IBA   \n",
       "4  UniProtKB  A0A075B6H7        IGKV3-7  NaN  GO:0005615  GO_REF:0000033  IBA   \n",
       "\n",
       "                                      7  8   \\\n",
       "0                   UniProtKB-KW:KW-0807  F   \n",
       "1  InterPro:IPR001770|InterPro:IPR015898  C   \n",
       "2  InterPro:IPR001770|InterPro:IPR015898  P   \n",
       "3                   PANTHER:PTN000587099  P   \n",
       "4                   PANTHER:PTN000587099  C   \n",
       "\n",
       "                                                  9   \\\n",
       "0   Guanine nucleotide-binding protein subunit gamma   \n",
       "1   Guanine nucleotide-binding protein subunit gamma   \n",
       "2   Guanine nucleotide-binding protein subunit gamma   \n",
       "3  Immunoglobulin kappa variable 3-7 (non-functio...   \n",
       "4  Immunoglobulin kappa variable 3-7 (non-functio...   \n",
       "\n",
       "                                           10       11          12        13  \\\n",
       "0  A0A024R161_HUMAN|DNAJC25-GNG10|hCG_1994888  protein  taxon:9606  20170506   \n",
       "1  A0A024R161_HUMAN|DNAJC25-GNG10|hCG_1994888  protein  taxon:9606  20170506   \n",
       "2  A0A024R161_HUMAN|DNAJC25-GNG10|hCG_1994888  protein  taxon:9606  20170506   \n",
       "3                    A0A075B6H7_HUMAN|IGKV3-7  protein  taxon:9606  20150528   \n",
       "4                    A0A075B6H7_HUMAN|IGKV3-7  protein  taxon:9606  20150528   \n",
       "\n",
       "           14   15  16  \n",
       "0     UniProt  NaN NaN  \n",
       "1    InterPro  NaN NaN  \n",
       "2    InterPro  NaN NaN  \n",
       "3  GO_Central  NaN NaN  \n",
       "4  GO_Central  NaN NaN  "
      ]
     },
     "execution_count": 4,
     "metadata": {},
     "output_type": "execute_result"
    }
   ],
   "source": [
    "df.head()"
   ]
  },
  {
   "cell_type": "code",
   "execution_count": 5,
   "metadata": {},
   "outputs": [
    {
     "data": {
      "text/plain": [
       "(417076, 17)"
      ]
     },
     "execution_count": 5,
     "metadata": {},
     "output_type": "execute_result"
    }
   ],
   "source": [
    "df.shape"
   ]
  },
  {
   "cell_type": "markdown",
   "metadata": {},
   "source": [
    "# Get Relevent Columns and Data"
   ]
  },
  {
   "cell_type": "code",
   "execution_count": 6,
   "metadata": {
    "collapsed": true
   },
   "outputs": [],
   "source": [
    "columns = [\"DB\", \"DB Object ID\", \"DB Object Symbol\", \"Qualifier\", \"GO ID\", \"DB:Reference\", \"Evidence Code\", \n",
    "               \"With (or) From\", \"Aspect\", \"DB Object Name\", \"DB Object Synonym\", \"DB Object Type\", \"Taxon\", \n",
    "               \"Date\", \"Assigned By\", \"Annotation Extension\", \"Gene Product Form ID\"]"
   ]
  },
  {
   "cell_type": "code",
   "execution_count": 7,
   "metadata": {
    "collapsed": true
   },
   "outputs": [],
   "source": [
    "df.columns = columns"
   ]
  },
  {
   "cell_type": "code",
   "execution_count": 8,
   "metadata": {},
   "outputs": [
    {
     "data": {
      "text/html": [
       "<div>\n",
       "<table border=\"1\" class=\"dataframe\">\n",
       "  <thead>\n",
       "    <tr style=\"text-align: right;\">\n",
       "      <th></th>\n",
       "      <th>DB</th>\n",
       "      <th>DB Object ID</th>\n",
       "      <th>DB Object Symbol</th>\n",
       "      <th>Qualifier</th>\n",
       "      <th>GO ID</th>\n",
       "      <th>DB:Reference</th>\n",
       "      <th>Evidence Code</th>\n",
       "      <th>With (or) From</th>\n",
       "      <th>Aspect</th>\n",
       "      <th>DB Object Name</th>\n",
       "      <th>DB Object Synonym</th>\n",
       "      <th>DB Object Type</th>\n",
       "      <th>Taxon</th>\n",
       "      <th>Date</th>\n",
       "      <th>Assigned By</th>\n",
       "      <th>Annotation Extension</th>\n",
       "      <th>Gene Product Form ID</th>\n",
       "    </tr>\n",
       "  </thead>\n",
       "  <tbody>\n",
       "    <tr>\n",
       "      <th>0</th>\n",
       "      <td>UniProtKB</td>\n",
       "      <td>A0A024R161</td>\n",
       "      <td>DNAJC25-GNG10</td>\n",
       "      <td>NaN</td>\n",
       "      <td>GO:0004871</td>\n",
       "      <td>GO_REF:0000038</td>\n",
       "      <td>IEA</td>\n",
       "      <td>UniProtKB-KW:KW-0807</td>\n",
       "      <td>F</td>\n",
       "      <td>Guanine nucleotide-binding protein subunit gamma</td>\n",
       "      <td>A0A024R161_HUMAN|DNAJC25-GNG10|hCG_1994888</td>\n",
       "      <td>protein</td>\n",
       "      <td>taxon:9606</td>\n",
       "      <td>20170506</td>\n",
       "      <td>UniProt</td>\n",
       "      <td>NaN</td>\n",
       "      <td>NaN</td>\n",
       "    </tr>\n",
       "    <tr>\n",
       "      <th>1</th>\n",
       "      <td>UniProtKB</td>\n",
       "      <td>A0A024R161</td>\n",
       "      <td>DNAJC25-GNG10</td>\n",
       "      <td>NaN</td>\n",
       "      <td>GO:0005834</td>\n",
       "      <td>GO_REF:0000002</td>\n",
       "      <td>IEA</td>\n",
       "      <td>InterPro:IPR001770|InterPro:IPR015898</td>\n",
       "      <td>C</td>\n",
       "      <td>Guanine nucleotide-binding protein subunit gamma</td>\n",
       "      <td>A0A024R161_HUMAN|DNAJC25-GNG10|hCG_1994888</td>\n",
       "      <td>protein</td>\n",
       "      <td>taxon:9606</td>\n",
       "      <td>20170506</td>\n",
       "      <td>InterPro</td>\n",
       "      <td>NaN</td>\n",
       "      <td>NaN</td>\n",
       "    </tr>\n",
       "    <tr>\n",
       "      <th>2</th>\n",
       "      <td>UniProtKB</td>\n",
       "      <td>A0A024R161</td>\n",
       "      <td>DNAJC25-GNG10</td>\n",
       "      <td>NaN</td>\n",
       "      <td>GO:0007186</td>\n",
       "      <td>GO_REF:0000002</td>\n",
       "      <td>IEA</td>\n",
       "      <td>InterPro:IPR001770|InterPro:IPR015898</td>\n",
       "      <td>P</td>\n",
       "      <td>Guanine nucleotide-binding protein subunit gamma</td>\n",
       "      <td>A0A024R161_HUMAN|DNAJC25-GNG10|hCG_1994888</td>\n",
       "      <td>protein</td>\n",
       "      <td>taxon:9606</td>\n",
       "      <td>20170506</td>\n",
       "      <td>InterPro</td>\n",
       "      <td>NaN</td>\n",
       "      <td>NaN</td>\n",
       "    </tr>\n",
       "    <tr>\n",
       "      <th>3</th>\n",
       "      <td>UniProtKB</td>\n",
       "      <td>A0A075B6H7</td>\n",
       "      <td>IGKV3-7</td>\n",
       "      <td>NaN</td>\n",
       "      <td>GO:0002377</td>\n",
       "      <td>GO_REF:0000033</td>\n",
       "      <td>IBA</td>\n",
       "      <td>PANTHER:PTN000587099</td>\n",
       "      <td>P</td>\n",
       "      <td>Immunoglobulin kappa variable 3-7 (non-functio...</td>\n",
       "      <td>A0A075B6H7_HUMAN|IGKV3-7</td>\n",
       "      <td>protein</td>\n",
       "      <td>taxon:9606</td>\n",
       "      <td>20150528</td>\n",
       "      <td>GO_Central</td>\n",
       "      <td>NaN</td>\n",
       "      <td>NaN</td>\n",
       "    </tr>\n",
       "    <tr>\n",
       "      <th>4</th>\n",
       "      <td>UniProtKB</td>\n",
       "      <td>A0A075B6H7</td>\n",
       "      <td>IGKV3-7</td>\n",
       "      <td>NaN</td>\n",
       "      <td>GO:0005615</td>\n",
       "      <td>GO_REF:0000033</td>\n",
       "      <td>IBA</td>\n",
       "      <td>PANTHER:PTN000587099</td>\n",
       "      <td>C</td>\n",
       "      <td>Immunoglobulin kappa variable 3-7 (non-functio...</td>\n",
       "      <td>A0A075B6H7_HUMAN|IGKV3-7</td>\n",
       "      <td>protein</td>\n",
       "      <td>taxon:9606</td>\n",
       "      <td>20150528</td>\n",
       "      <td>GO_Central</td>\n",
       "      <td>NaN</td>\n",
       "      <td>NaN</td>\n",
       "    </tr>\n",
       "  </tbody>\n",
       "</table>\n",
       "</div>"
      ],
      "text/plain": [
       "          DB DB Object ID DB Object Symbol Qualifier       GO ID  \\\n",
       "0  UniProtKB   A0A024R161    DNAJC25-GNG10       NaN  GO:0004871   \n",
       "1  UniProtKB   A0A024R161    DNAJC25-GNG10       NaN  GO:0005834   \n",
       "2  UniProtKB   A0A024R161    DNAJC25-GNG10       NaN  GO:0007186   \n",
       "3  UniProtKB   A0A075B6H7          IGKV3-7       NaN  GO:0002377   \n",
       "4  UniProtKB   A0A075B6H7          IGKV3-7       NaN  GO:0005615   \n",
       "\n",
       "     DB:Reference Evidence Code                         With (or) From Aspect  \\\n",
       "0  GO_REF:0000038           IEA                   UniProtKB-KW:KW-0807      F   \n",
       "1  GO_REF:0000002           IEA  InterPro:IPR001770|InterPro:IPR015898      C   \n",
       "2  GO_REF:0000002           IEA  InterPro:IPR001770|InterPro:IPR015898      P   \n",
       "3  GO_REF:0000033           IBA                   PANTHER:PTN000587099      P   \n",
       "4  GO_REF:0000033           IBA                   PANTHER:PTN000587099      C   \n",
       "\n",
       "                                      DB Object Name  \\\n",
       "0   Guanine nucleotide-binding protein subunit gamma   \n",
       "1   Guanine nucleotide-binding protein subunit gamma   \n",
       "2   Guanine nucleotide-binding protein subunit gamma   \n",
       "3  Immunoglobulin kappa variable 3-7 (non-functio...   \n",
       "4  Immunoglobulin kappa variable 3-7 (non-functio...   \n",
       "\n",
       "                            DB Object Synonym DB Object Type       Taxon  \\\n",
       "0  A0A024R161_HUMAN|DNAJC25-GNG10|hCG_1994888        protein  taxon:9606   \n",
       "1  A0A024R161_HUMAN|DNAJC25-GNG10|hCG_1994888        protein  taxon:9606   \n",
       "2  A0A024R161_HUMAN|DNAJC25-GNG10|hCG_1994888        protein  taxon:9606   \n",
       "3                    A0A075B6H7_HUMAN|IGKV3-7        protein  taxon:9606   \n",
       "4                    A0A075B6H7_HUMAN|IGKV3-7        protein  taxon:9606   \n",
       "\n",
       "       Date Assigned By Annotation Extension  Gene Product Form ID  \n",
       "0  20170506     UniProt                  NaN                   NaN  \n",
       "1  20170506    InterPro                  NaN                   NaN  \n",
       "2  20170506    InterPro                  NaN                   NaN  \n",
       "3  20150528  GO_Central                  NaN                   NaN  \n",
       "4  20150528  GO_Central                  NaN                   NaN  "
      ]
     },
     "execution_count": 8,
     "metadata": {},
     "output_type": "execute_result"
    }
   ],
   "source": [
    "df.head()"
   ]
  },
  {
   "cell_type": "markdown",
   "metadata": {},
   "source": [
    "#### Get Only Cellular Component Data"
   ]
  },
  {
   "cell_type": "code",
   "execution_count": 9,
   "metadata": {
    "collapsed": true
   },
   "outputs": [],
   "source": [
    "df = df[df['Aspect']=='C'].copy()"
   ]
  },
  {
   "cell_type": "markdown",
   "metadata": {},
   "source": [
    "#### Drop All Data That Is Inferred from Electronic Annotation"
   ]
  },
  {
   "cell_type": "code",
   "execution_count": 10,
   "metadata": {
    "collapsed": true
   },
   "outputs": [],
   "source": [
    "df = df[~df['Evidence Code'].isin(['IEA'])]"
   ]
  },
  {
   "cell_type": "markdown",
   "metadata": {},
   "source": [
    "#### Drop All 'Non' in Qualifier "
   ]
  },
  {
   "cell_type": "code",
   "execution_count": 11,
   "metadata": {
    "collapsed": true
   },
   "outputs": [],
   "source": [
    "df = df[~df['Qualifier'].isin(['NOT'])]"
   ]
  },
  {
   "cell_type": "code",
   "execution_count": 12,
   "metadata": {
    "collapsed": true
   },
   "outputs": [],
   "source": [
    "df = df[['DB Object Symbol', 'GO ID']]"
   ]
  },
  {
   "cell_type": "code",
   "execution_count": 13,
   "metadata": {
    "collapsed": true
   },
   "outputs": [],
   "source": [
    "df.reset_index(inplace=True)"
   ]
  },
  {
   "cell_type": "code",
   "execution_count": 14,
   "metadata": {
    "collapsed": true
   },
   "outputs": [],
   "source": [
    "df.drop('index', axis=1, inplace=True)"
   ]
  },
  {
   "cell_type": "code",
   "execution_count": 15,
   "metadata": {},
   "outputs": [
    {
     "data": {
      "text/html": [
       "<div>\n",
       "<table border=\"1\" class=\"dataframe\">\n",
       "  <thead>\n",
       "    <tr style=\"text-align: right;\">\n",
       "      <th></th>\n",
       "      <th>DB Object Symbol</th>\n",
       "      <th>GO ID</th>\n",
       "    </tr>\n",
       "  </thead>\n",
       "  <tbody>\n",
       "    <tr>\n",
       "      <th>0</th>\n",
       "      <td>IGKV3-7</td>\n",
       "      <td>GO:0005615</td>\n",
       "    </tr>\n",
       "    <tr>\n",
       "      <th>1</th>\n",
       "      <td>IGKV1D-42</td>\n",
       "      <td>GO:0005615</td>\n",
       "    </tr>\n",
       "    <tr>\n",
       "      <th>2</th>\n",
       "      <td>IGLV4-69</td>\n",
       "      <td>GO:0005615</td>\n",
       "    </tr>\n",
       "    <tr>\n",
       "      <th>3</th>\n",
       "      <td>IGLV8-61</td>\n",
       "      <td>GO:0005615</td>\n",
       "    </tr>\n",
       "    <tr>\n",
       "      <th>4</th>\n",
       "      <td>IGLV4-60</td>\n",
       "      <td>GO:0005615</td>\n",
       "    </tr>\n",
       "  </tbody>\n",
       "</table>\n",
       "</div>"
      ],
      "text/plain": [
       "  DB Object Symbol       GO ID\n",
       "0          IGKV3-7  GO:0005615\n",
       "1        IGKV1D-42  GO:0005615\n",
       "2         IGLV4-69  GO:0005615\n",
       "3         IGLV8-61  GO:0005615\n",
       "4         IGLV4-60  GO:0005615"
      ]
     },
     "execution_count": 15,
     "metadata": {},
     "output_type": "execute_result"
    }
   ],
   "source": [
    "df.head()"
   ]
  },
  {
   "cell_type": "code",
   "execution_count": 16,
   "metadata": {},
   "outputs": [
    {
     "data": {
      "text/plain": [
       "(120758, 2)"
      ]
     },
     "execution_count": 16,
     "metadata": {},
     "output_type": "execute_result"
    }
   ],
   "source": [
    "df.shape"
   ]
  },
  {
   "cell_type": "markdown",
   "metadata": {},
   "source": [
    "# Load Gene Ontology Tree Digraph"
   ]
  },
  {
   "cell_type": "code",
   "execution_count": 17,
   "metadata": {
    "collapsed": true
   },
   "outputs": [],
   "source": [
    "digraph = goenrich.obo.ontology('input/go-basic.ob')"
   ]
  },
  {
   "cell_type": "markdown",
   "metadata": {},
   "source": [
    "# Keep Only Terms With a Tree Depth of 4 or Greater"
   ]
  },
  {
   "cell_type": "code",
   "execution_count": 18,
   "metadata": {},
   "outputs": [
    {
     "name": "stdout",
     "output_type": "stream",
     "text": [
      "Progress: 99%  120534 Out of 120758   \r"
     ]
    }
   ],
   "source": [
    "lst = []\n",
    "\n",
    "for i,index in enumerate(df.index):\n",
    "    \n",
    "    progressPercent = ((i+1)/len(df.index))*100\n",
    "\n",
    "    sys.stdout.write(\"Progress: %d%%  %d Out of %d   \\r\" % (progressPercent, (i+1), len(df.index)))\n",
    "    sys.stdout.flush()\n",
    "    \n",
    "    term = df.ix[index, 'GO ID']\n",
    "    if term in digraph.node:\n",
    "        if digraph.node[term]['depth'] >= 4:\n",
    "            lst.append(term)\n",
    "        else:\n",
    "            lst.append(np.nan)\n",
    "    else:\n",
    "        lst.append(np.nan)\n",
    "\n",
    "df['GO ID'] = lst"
   ]
  },
  {
   "cell_type": "code",
   "execution_count": 19,
   "metadata": {},
   "outputs": [
    {
     "data": {
      "text/plain": [
       "(120758, 2)"
      ]
     },
     "execution_count": 19,
     "metadata": {},
     "output_type": "execute_result"
    }
   ],
   "source": [
    "df.shape"
   ]
  },
  {
   "cell_type": "code",
   "execution_count": 20,
   "metadata": {
    "collapsed": true
   },
   "outputs": [],
   "source": [
    "df.dropna(inplace=True)"
   ]
  },
  {
   "cell_type": "code",
   "execution_count": 21,
   "metadata": {},
   "outputs": [
    {
     "data": {
      "text/plain": [
       "(69139, 2)"
      ]
     },
     "execution_count": 21,
     "metadata": {},
     "output_type": "execute_result"
    }
   ],
   "source": [
    "df.shape"
   ]
  },
  {
   "cell_type": "code",
   "execution_count": 22,
   "metadata": {},
   "outputs": [
    {
     "data": {
      "text/html": [
       "<div>\n",
       "<table border=\"1\" class=\"dataframe\">\n",
       "  <thead>\n",
       "    <tr style=\"text-align: right;\">\n",
       "      <th></th>\n",
       "      <th>DB Object Symbol</th>\n",
       "      <th>GO ID</th>\n",
       "    </tr>\n",
       "  </thead>\n",
       "  <tbody>\n",
       "    <tr>\n",
       "      <th>63</th>\n",
       "      <td>A0A075B6Q4</td>\n",
       "      <td>GO:0005634</td>\n",
       "    </tr>\n",
       "    <tr>\n",
       "      <th>64</th>\n",
       "      <td>A0A075B6Q4</td>\n",
       "      <td>GO:0030688</td>\n",
       "    </tr>\n",
       "    <tr>\n",
       "      <th>65</th>\n",
       "      <td>A0A075B6Q4</td>\n",
       "      <td>GO:0031902</td>\n",
       "    </tr>\n",
       "    <tr>\n",
       "      <th>152</th>\n",
       "      <td>A0A087WVE0</td>\n",
       "      <td>GO:0005634</td>\n",
       "    </tr>\n",
       "    <tr>\n",
       "      <th>158</th>\n",
       "      <td>A0A087WWV3</td>\n",
       "      <td>GO:0005634</td>\n",
       "    </tr>\n",
       "  </tbody>\n",
       "</table>\n",
       "</div>"
      ],
      "text/plain": [
       "    DB Object Symbol       GO ID\n",
       "63        A0A075B6Q4  GO:0005634\n",
       "64        A0A075B6Q4  GO:0030688\n",
       "65        A0A075B6Q4  GO:0031902\n",
       "152       A0A087WVE0  GO:0005634\n",
       "158       A0A087WWV3  GO:0005634"
      ]
     },
     "execution_count": 22,
     "metadata": {},
     "output_type": "execute_result"
    }
   ],
   "source": [
    "df.head()"
   ]
  },
  {
   "cell_type": "markdown",
   "metadata": {},
   "source": [
    "# Term Propagation-propergate child gene term relationships to parent terms"
   ]
  },
  {
   "cell_type": "code",
   "execution_count": 23,
   "metadata": {},
   "outputs": [
    {
     "name": "stdout",
     "output_type": "stream",
     "text": [
      "Progress: 99%  69067 Out of 69139   \r"
     ]
    }
   ],
   "source": [
    "lst1 = []\n",
    "lst2 = []\n",
    "\n",
    "for i,index in enumerate(df.index):\n",
    "    \n",
    "    progressPercent = ((i+1)/len(df.index))*100\n",
    "\n",
    "    sys.stdout.write(\"Progress: %d%%  %d Out of %d   \\r\" % (progressPercent, (i+1), len(df.index)))\n",
    "    sys.stdout.flush()\n",
    "    \n",
    "    term = df.ix[index, 'GO ID']\n",
    "    for parent in digraph.predecessors(term):\n",
    "        if parent in digraph.node:\n",
    "            if digraph.node[parent]['depth'] >= 4:\n",
    "                lst1.append(df.ix[index, 'DB Object Symbol'])\n",
    "                lst2.append(parent)\n",
    "\n",
    "\n",
    "temp = pd.DataFrame()\n",
    "temp['DB Object Symbol'] = lst1\n",
    "temp['GO ID']  = lst2\n",
    "df = pd.concat([df, temp])\n",
    "df.reset_index(inplace=True)\n",
    "df.drop('index', axis=1, inplace=True)"
   ]
  },
  {
   "cell_type": "code",
   "execution_count": 24,
   "metadata": {},
   "outputs": [
    {
     "data": {
      "text/plain": [
       "(333911, 2)"
      ]
     },
     "execution_count": 24,
     "metadata": {},
     "output_type": "execute_result"
    }
   ],
   "source": [
    "df.shape"
   ]
  },
  {
   "cell_type": "markdown",
   "metadata": {},
   "source": [
    "# Map GO ID to Descriptive Name "
   ]
  },
  {
   "cell_type": "code",
   "execution_count": 25,
   "metadata": {},
   "outputs": [
    {
     "name": "stdout",
     "output_type": "stream",
     "text": [
      "Progress: 99%  333393 Out of 333911   \r"
     ]
    }
   ],
   "source": [
    "lst = []\n",
    "\n",
    "for i,index in enumerate(df.index):\n",
    "    \n",
    "    progressPercent = ((i+1)/len(df.index))*100\n",
    "\n",
    "    sys.stdout.write(\"Progress: %d%%  %d Out of %d   \\r\" % (progressPercent, (i+1), len(df.index)))\n",
    "    sys.stdout.flush()\n",
    "    \n",
    "    lst.append(digraph.node[df.ix[index, 'GO ID']]['name'])\n",
    "    \n",
    "df['GO ID'] = lst"
   ]
  },
  {
   "cell_type": "code",
   "execution_count": 26,
   "metadata": {},
   "outputs": [
    {
     "data": {
      "text/html": [
       "<div>\n",
       "<table border=\"1\" class=\"dataframe\">\n",
       "  <thead>\n",
       "    <tr style=\"text-align: right;\">\n",
       "      <th></th>\n",
       "      <th>DB Object Symbol</th>\n",
       "      <th>GO ID</th>\n",
       "    </tr>\n",
       "  </thead>\n",
       "  <tbody>\n",
       "    <tr>\n",
       "      <th>0</th>\n",
       "      <td>A0A075B6Q4</td>\n",
       "      <td>nucleus</td>\n",
       "    </tr>\n",
       "    <tr>\n",
       "      <th>1</th>\n",
       "      <td>A0A075B6Q4</td>\n",
       "      <td>preribosome, small subunit precursor</td>\n",
       "    </tr>\n",
       "    <tr>\n",
       "      <th>2</th>\n",
       "      <td>A0A075B6Q4</td>\n",
       "      <td>late endosome membrane</td>\n",
       "    </tr>\n",
       "    <tr>\n",
       "      <th>3</th>\n",
       "      <td>A0A087WVE0</td>\n",
       "      <td>nucleus</td>\n",
       "    </tr>\n",
       "    <tr>\n",
       "      <th>4</th>\n",
       "      <td>A0A087WWV3</td>\n",
       "      <td>nucleus</td>\n",
       "    </tr>\n",
       "  </tbody>\n",
       "</table>\n",
       "</div>"
      ],
      "text/plain": [
       "  DB Object Symbol                                 GO ID\n",
       "0       A0A075B6Q4                               nucleus\n",
       "1       A0A075B6Q4  preribosome, small subunit precursor\n",
       "2       A0A075B6Q4                late endosome membrane\n",
       "3       A0A087WVE0                               nucleus\n",
       "4       A0A087WWV3                               nucleus"
      ]
     },
     "execution_count": 26,
     "metadata": {},
     "output_type": "execute_result"
    }
   ],
   "source": [
    "df.head()"
   ]
  },
  {
   "cell_type": "markdown",
   "metadata": {},
   "source": [
    "# Map Gene Symbols To Up-to-date Approved Gene Symbols"
   ]
  },
  {
   "cell_type": "code",
   "execution_count": 29,
   "metadata": {
    "collapsed": true
   },
   "outputs": [],
   "source": [
    "df.set_index('DB Object Symbol', inplace=True)"
   ]
  },
  {
   "cell_type": "code",
   "execution_count": 30,
   "metadata": {},
   "outputs": [
    {
     "name": "stdout",
     "output_type": "stream",
     "text": [
      "Progeres: 100%  333911 Out of 333911   \r"
     ]
    }
   ],
   "source": [
    "mf.mapgenesymbols(df)"
   ]
  },
  {
   "cell_type": "code",
   "execution_count": 31,
   "metadata": {},
   "outputs": [
    {
     "data": {
      "text/plain": [
       "(332819, 1)"
      ]
     },
     "execution_count": 31,
     "metadata": {},
     "output_type": "execute_result"
    }
   ],
   "source": [
    "df.shape"
   ]
  },
  {
   "cell_type": "markdown",
   "metadata": {},
   "source": [
    "# Drop Duplicates"
   ]
  },
  {
   "cell_type": "code",
   "execution_count": 32,
   "metadata": {
    "collapsed": true
   },
   "outputs": [],
   "source": [
    "df.reset_index(inplace=True)"
   ]
  },
  {
   "cell_type": "code",
   "execution_count": 33,
   "metadata": {
    "collapsed": true
   },
   "outputs": [],
   "source": [
    "df.drop_duplicates(inplace=True)"
   ]
  },
  {
   "cell_type": "code",
   "execution_count": 34,
   "metadata": {},
   "outputs": [
    {
     "data": {
      "text/plain": [
       "(188564, 2)"
      ]
     },
     "execution_count": 34,
     "metadata": {},
     "output_type": "execute_result"
    }
   ],
   "source": [
    "df.shape"
   ]
  },
  {
   "cell_type": "markdown",
   "metadata": {},
   "source": [
    "# Create Binary Matrix"
   ]
  },
  {
   "cell_type": "code",
   "execution_count": 35,
   "metadata": {},
   "outputs": [
    {
     "name": "stdout",
     "output_type": "stream",
     "text": [
      "Progeres: 100%  11532 Out of 11532   \r"
     ]
    }
   ],
   "source": [
    "binary_matrix = mf.createBinaryMatix(df)"
   ]
  },
  {
   "cell_type": "code",
   "execution_count": 36,
   "metadata": {},
   "outputs": [
    {
     "data": {
      "text/html": [
       "<div>\n",
       "<table border=\"1\" class=\"dataframe\">\n",
       "  <thead>\n",
       "    <tr style=\"text-align: right;\">\n",
       "      <th></th>\n",
       "      <th>vacuolar proton-transporting V-type ATPase, V1 domain</th>\n",
       "      <th>extrinsic component of autophagosome membrane</th>\n",
       "      <th>junctional sarcoplasmic reticulum membrane</th>\n",
       "      <th>Barr body</th>\n",
       "      <th>cytoplasmic ribonucleoprotein granule</th>\n",
       "      <th>NatA complex</th>\n",
       "      <th>phagocytic vesicle lumen</th>\n",
       "      <th>TEAD-2-YAP complex</th>\n",
       "      <th>chromaffin granule</th>\n",
       "      <th>vacuolar proton-transporting V-type ATPase complex</th>\n",
       "      <th>...</th>\n",
       "      <th>endoplasmic reticulum tubular network</th>\n",
       "      <th>axonemal outer doublet</th>\n",
       "      <th>actin cap</th>\n",
       "      <th>integrin alpha3-beta1 complex</th>\n",
       "      <th>microsporocyte nucleus</th>\n",
       "      <th>bicellular tight junction</th>\n",
       "      <th>cytolytic granule</th>\n",
       "      <th>generative cell nucleus</th>\n",
       "      <th>telomerase catalytic core complex</th>\n",
       "      <th>PBAF complex</th>\n",
       "    </tr>\n",
       "  </thead>\n",
       "  <tbody>\n",
       "    <tr>\n",
       "      <th>ADAM22</th>\n",
       "      <td>0</td>\n",
       "      <td>0</td>\n",
       "      <td>0</td>\n",
       "      <td>0</td>\n",
       "      <td>0</td>\n",
       "      <td>0</td>\n",
       "      <td>0</td>\n",
       "      <td>0</td>\n",
       "      <td>0</td>\n",
       "      <td>0</td>\n",
       "      <td>...</td>\n",
       "      <td>0</td>\n",
       "      <td>0</td>\n",
       "      <td>0</td>\n",
       "      <td>0</td>\n",
       "      <td>0</td>\n",
       "      <td>0</td>\n",
       "      <td>0</td>\n",
       "      <td>0</td>\n",
       "      <td>0</td>\n",
       "      <td>0</td>\n",
       "    </tr>\n",
       "    <tr>\n",
       "      <th>NDUFA1</th>\n",
       "      <td>0</td>\n",
       "      <td>0</td>\n",
       "      <td>0</td>\n",
       "      <td>0</td>\n",
       "      <td>0</td>\n",
       "      <td>0</td>\n",
       "      <td>0</td>\n",
       "      <td>0</td>\n",
       "      <td>0</td>\n",
       "      <td>0</td>\n",
       "      <td>...</td>\n",
       "      <td>0</td>\n",
       "      <td>0</td>\n",
       "      <td>0</td>\n",
       "      <td>0</td>\n",
       "      <td>0</td>\n",
       "      <td>0</td>\n",
       "      <td>0</td>\n",
       "      <td>0</td>\n",
       "      <td>0</td>\n",
       "      <td>0</td>\n",
       "    </tr>\n",
       "    <tr>\n",
       "      <th>FBXO3</th>\n",
       "      <td>0</td>\n",
       "      <td>0</td>\n",
       "      <td>0</td>\n",
       "      <td>0</td>\n",
       "      <td>0</td>\n",
       "      <td>0</td>\n",
       "      <td>0</td>\n",
       "      <td>0</td>\n",
       "      <td>0</td>\n",
       "      <td>0</td>\n",
       "      <td>...</td>\n",
       "      <td>0</td>\n",
       "      <td>0</td>\n",
       "      <td>0</td>\n",
       "      <td>0</td>\n",
       "      <td>0</td>\n",
       "      <td>0</td>\n",
       "      <td>0</td>\n",
       "      <td>0</td>\n",
       "      <td>0</td>\n",
       "      <td>0</td>\n",
       "    </tr>\n",
       "    <tr>\n",
       "      <th>KCNQ2</th>\n",
       "      <td>0</td>\n",
       "      <td>0</td>\n",
       "      <td>0</td>\n",
       "      <td>0</td>\n",
       "      <td>0</td>\n",
       "      <td>0</td>\n",
       "      <td>0</td>\n",
       "      <td>0</td>\n",
       "      <td>0</td>\n",
       "      <td>0</td>\n",
       "      <td>...</td>\n",
       "      <td>0</td>\n",
       "      <td>0</td>\n",
       "      <td>0</td>\n",
       "      <td>0</td>\n",
       "      <td>0</td>\n",
       "      <td>0</td>\n",
       "      <td>0</td>\n",
       "      <td>0</td>\n",
       "      <td>0</td>\n",
       "      <td>0</td>\n",
       "    </tr>\n",
       "    <tr>\n",
       "      <th>PIK3AP1</th>\n",
       "      <td>0</td>\n",
       "      <td>0</td>\n",
       "      <td>0</td>\n",
       "      <td>0</td>\n",
       "      <td>0</td>\n",
       "      <td>0</td>\n",
       "      <td>0</td>\n",
       "      <td>0</td>\n",
       "      <td>0</td>\n",
       "      <td>0</td>\n",
       "      <td>...</td>\n",
       "      <td>0</td>\n",
       "      <td>0</td>\n",
       "      <td>0</td>\n",
       "      <td>0</td>\n",
       "      <td>0</td>\n",
       "      <td>0</td>\n",
       "      <td>0</td>\n",
       "      <td>0</td>\n",
       "      <td>0</td>\n",
       "      <td>0</td>\n",
       "    </tr>\n",
       "  </tbody>\n",
       "</table>\n",
       "<p>5 rows × 1275 columns</p>\n",
       "</div>"
      ],
      "text/plain": [
       "         vacuolar proton-transporting V-type ATPase, V1 domain  \\\n",
       "ADAM22                                                   0       \n",
       "NDUFA1                                                   0       \n",
       "FBXO3                                                    0       \n",
       "KCNQ2                                                    0       \n",
       "PIK3AP1                                                  0       \n",
       "\n",
       "         extrinsic component of autophagosome membrane  \\\n",
       "ADAM22                                               0   \n",
       "NDUFA1                                               0   \n",
       "FBXO3                                                0   \n",
       "KCNQ2                                                0   \n",
       "PIK3AP1                                              0   \n",
       "\n",
       "         junctional sarcoplasmic reticulum membrane  Barr body  \\\n",
       "ADAM22                                            0          0   \n",
       "NDUFA1                                            0          0   \n",
       "FBXO3                                             0          0   \n",
       "KCNQ2                                             0          0   \n",
       "PIK3AP1                                           0          0   \n",
       "\n",
       "         cytoplasmic ribonucleoprotein granule  NatA complex  \\\n",
       "ADAM22                                       0             0   \n",
       "NDUFA1                                       0             0   \n",
       "FBXO3                                        0             0   \n",
       "KCNQ2                                        0             0   \n",
       "PIK3AP1                                      0             0   \n",
       "\n",
       "         phagocytic vesicle lumen  TEAD-2-YAP complex  chromaffin granule  \\\n",
       "ADAM22                          0                   0                   0   \n",
       "NDUFA1                          0                   0                   0   \n",
       "FBXO3                           0                   0                   0   \n",
       "KCNQ2                           0                   0                   0   \n",
       "PIK3AP1                         0                   0                   0   \n",
       "\n",
       "         vacuolar proton-transporting V-type ATPase complex      ...       \\\n",
       "ADAM22                                                   0       ...        \n",
       "NDUFA1                                                   0       ...        \n",
       "FBXO3                                                    0       ...        \n",
       "KCNQ2                                                    0       ...        \n",
       "PIK3AP1                                                  0       ...        \n",
       "\n",
       "         endoplasmic reticulum tubular network  axonemal outer doublet  \\\n",
       "ADAM22                                       0                       0   \n",
       "NDUFA1                                       0                       0   \n",
       "FBXO3                                        0                       0   \n",
       "KCNQ2                                        0                       0   \n",
       "PIK3AP1                                      0                       0   \n",
       "\n",
       "         actin cap  integrin alpha3-beta1 complex  microsporocyte nucleus  \\\n",
       "ADAM22           0                              0                       0   \n",
       "NDUFA1           0                              0                       0   \n",
       "FBXO3            0                              0                       0   \n",
       "KCNQ2            0                              0                       0   \n",
       "PIK3AP1          0                              0                       0   \n",
       "\n",
       "         bicellular tight junction  cytolytic granule  \\\n",
       "ADAM22                           0                  0   \n",
       "NDUFA1                           0                  0   \n",
       "FBXO3                            0                  0   \n",
       "KCNQ2                            0                  0   \n",
       "PIK3AP1                          0                  0   \n",
       "\n",
       "         generative cell nucleus  telomerase catalytic core complex  \\\n",
       "ADAM22                         0                                  0   \n",
       "NDUFA1                         0                                  0   \n",
       "FBXO3                          0                                  0   \n",
       "KCNQ2                          0                                  0   \n",
       "PIK3AP1                        0                                  0   \n",
       "\n",
       "         PBAF complex  \n",
       "ADAM22              0  \n",
       "NDUFA1              0  \n",
       "FBXO3               0  \n",
       "KCNQ2               0  \n",
       "PIK3AP1             0  \n",
       "\n",
       "[5 rows x 1275 columns]"
      ]
     },
     "execution_count": 36,
     "metadata": {},
     "output_type": "execute_result"
    }
   ],
   "source": [
    "binary_matrix.head()"
   ]
  },
  {
   "cell_type": "code",
   "execution_count": 37,
   "metadata": {},
   "outputs": [
    {
     "data": {
      "text/plain": [
       "(11532, 1275)"
      ]
     },
     "execution_count": 37,
     "metadata": {},
     "output_type": "execute_result"
    }
   ],
   "source": [
    "binary_matrix.shape"
   ]
  },
  {
   "cell_type": "markdown",
   "metadata": {},
   "source": [
    "# Save Binary Matrix"
   ]
  },
  {
   "cell_type": "code",
   "execution_count": 38,
   "metadata": {
    "collapsed": true
   },
   "outputs": [],
   "source": [
    "filename = '~/./Documents/Harmonizome/GO/output/go_cellular_component_binary_matrix_%s.tsv.zip'% str(datetime.date.today())[0:7].replace('-', '_')\n",
    "binary_matrix.to_csv(filename, sep='\\t', compression='gzip')"
   ]
  },
  {
   "cell_type": "markdown",
   "metadata": {},
   "source": [
    "# Create Gene Set Library"
   ]
  },
  {
   "cell_type": "code",
   "execution_count": 39,
   "metadata": {
    "collapsed": true
   },
   "outputs": [],
   "source": [
    "path = '/Users/moshesilverstein/Documents/Harmonizome/GO/output/'"
   ]
  },
  {
   "cell_type": "code",
   "execution_count": 40,
   "metadata": {
    "collapsed": true
   },
   "outputs": [],
   "source": [
    "name = 'go_cellular_component_gene_set'"
   ]
  },
  {
   "cell_type": "code",
   "execution_count": 41,
   "metadata": {},
   "outputs": [
    {
     "name": "stdout",
     "output_type": "stream",
     "text": [
      "Progeres: 100%  1275 Out of 1275   \r"
     ]
    }
   ],
   "source": [
    "mf.createUpGeneSetLib(binary_matrix, path, name)"
   ]
  },
  {
   "cell_type": "markdown",
   "metadata": {},
   "source": [
    "# Create Attribute Library"
   ]
  },
  {
   "cell_type": "code",
   "execution_count": 42,
   "metadata": {
    "collapsed": true
   },
   "outputs": [],
   "source": [
    "path = '/Users/moshesilverstein/Documents/Harmonizome/GO/output/'"
   ]
  },
  {
   "cell_type": "code",
   "execution_count": 43,
   "metadata": {
    "collapsed": true
   },
   "outputs": [],
   "source": [
    "name = 'go_cellular_component_attribute_set'"
   ]
  },
  {
   "cell_type": "code",
   "execution_count": 44,
   "metadata": {},
   "outputs": [
    {
     "name": "stdout",
     "output_type": "stream",
     "text": [
      "Progeres: 100%  11532 Out of 11532   \r"
     ]
    }
   ],
   "source": [
    "mf.createUpAttributeSetLib(binary_matrix, path, name)"
   ]
  },
  {
   "cell_type": "markdown",
   "metadata": {},
   "source": [
    "# Create Gene Similarity Matrix"
   ]
  },
  {
   "cell_type": "code",
   "execution_count": 45,
   "metadata": {
    "collapsed": true
   },
   "outputs": [],
   "source": [
    "gene_similarity_matix = mf.createSimilarityMatrix(binary_matrix, 'jaccard')"
   ]
  },
  {
   "cell_type": "code",
   "execution_count": 46,
   "metadata": {},
   "outputs": [
    {
     "data": {
      "text/html": [
       "<div>\n",
       "<table border=\"1\" class=\"dataframe\">\n",
       "  <thead>\n",
       "    <tr style=\"text-align: right;\">\n",
       "      <th></th>\n",
       "      <th>ADAM22</th>\n",
       "      <th>NDUFA1</th>\n",
       "      <th>FBXO3</th>\n",
       "      <th>KCNQ2</th>\n",
       "      <th>PIK3AP1</th>\n",
       "      <th>BEST2</th>\n",
       "      <th>CDH2</th>\n",
       "      <th>ATP5I</th>\n",
       "      <th>HERC5</th>\n",
       "      <th>B3GALT6</th>\n",
       "      <th>...</th>\n",
       "      <th>GBF1</th>\n",
       "      <th>MLIP</th>\n",
       "      <th>DDX3Y</th>\n",
       "      <th>FUK</th>\n",
       "      <th>EFCAB6</th>\n",
       "      <th>GNRHR2</th>\n",
       "      <th>BCL11B</th>\n",
       "      <th>ZYG11B</th>\n",
       "      <th>GAK</th>\n",
       "      <th>OXSR1</th>\n",
       "    </tr>\n",
       "  </thead>\n",
       "  <tbody>\n",
       "    <tr>\n",
       "      <th>ADAM22</th>\n",
       "      <td>1.0</td>\n",
       "      <td>0.000000</td>\n",
       "      <td>0.0</td>\n",
       "      <td>0.0</td>\n",
       "      <td>0.000000</td>\n",
       "      <td>0.0</td>\n",
       "      <td>0.0</td>\n",
       "      <td>0.0000</td>\n",
       "      <td>0.000000</td>\n",
       "      <td>0.0</td>\n",
       "      <td>...</td>\n",
       "      <td>0.000000</td>\n",
       "      <td>0.000000</td>\n",
       "      <td>0.000000</td>\n",
       "      <td>0.000000</td>\n",
       "      <td>0.0</td>\n",
       "      <td>0.0</td>\n",
       "      <td>0.0</td>\n",
       "      <td>0.0</td>\n",
       "      <td>0.000000</td>\n",
       "      <td>0.000000</td>\n",
       "    </tr>\n",
       "    <tr>\n",
       "      <th>NDUFA1</th>\n",
       "      <td>0.0</td>\n",
       "      <td>1.000000</td>\n",
       "      <td>0.2</td>\n",
       "      <td>0.0</td>\n",
       "      <td>0.230769</td>\n",
       "      <td>0.0</td>\n",
       "      <td>0.0</td>\n",
       "      <td>0.4375</td>\n",
       "      <td>0.230769</td>\n",
       "      <td>0.0</td>\n",
       "      <td>...</td>\n",
       "      <td>0.136364</td>\n",
       "      <td>0.000000</td>\n",
       "      <td>0.090909</td>\n",
       "      <td>0.230769</td>\n",
       "      <td>0.0</td>\n",
       "      <td>0.0</td>\n",
       "      <td>0.0</td>\n",
       "      <td>0.0</td>\n",
       "      <td>0.230769</td>\n",
       "      <td>0.230769</td>\n",
       "    </tr>\n",
       "    <tr>\n",
       "      <th>FBXO3</th>\n",
       "      <td>0.0</td>\n",
       "      <td>0.200000</td>\n",
       "      <td>1.0</td>\n",
       "      <td>0.0</td>\n",
       "      <td>0.600000</td>\n",
       "      <td>0.0</td>\n",
       "      <td>0.0</td>\n",
       "      <td>0.0000</td>\n",
       "      <td>0.600000</td>\n",
       "      <td>0.0</td>\n",
       "      <td>...</td>\n",
       "      <td>0.214286</td>\n",
       "      <td>0.071429</td>\n",
       "      <td>0.120000</td>\n",
       "      <td>0.600000</td>\n",
       "      <td>0.4</td>\n",
       "      <td>0.0</td>\n",
       "      <td>0.0</td>\n",
       "      <td>0.0</td>\n",
       "      <td>0.600000</td>\n",
       "      <td>0.600000</td>\n",
       "    </tr>\n",
       "    <tr>\n",
       "      <th>KCNQ2</th>\n",
       "      <td>0.0</td>\n",
       "      <td>0.000000</td>\n",
       "      <td>0.0</td>\n",
       "      <td>1.0</td>\n",
       "      <td>0.000000</td>\n",
       "      <td>0.0</td>\n",
       "      <td>0.0</td>\n",
       "      <td>0.0000</td>\n",
       "      <td>0.000000</td>\n",
       "      <td>0.0</td>\n",
       "      <td>...</td>\n",
       "      <td>0.000000</td>\n",
       "      <td>0.000000</td>\n",
       "      <td>0.000000</td>\n",
       "      <td>0.000000</td>\n",
       "      <td>0.0</td>\n",
       "      <td>0.0</td>\n",
       "      <td>0.0</td>\n",
       "      <td>0.0</td>\n",
       "      <td>0.000000</td>\n",
       "      <td>0.000000</td>\n",
       "    </tr>\n",
       "    <tr>\n",
       "      <th>PIK3AP1</th>\n",
       "      <td>0.0</td>\n",
       "      <td>0.230769</td>\n",
       "      <td>0.6</td>\n",
       "      <td>0.0</td>\n",
       "      <td>1.000000</td>\n",
       "      <td>0.0</td>\n",
       "      <td>0.0</td>\n",
       "      <td>0.0000</td>\n",
       "      <td>1.000000</td>\n",
       "      <td>0.0</td>\n",
       "      <td>...</td>\n",
       "      <td>0.250000</td>\n",
       "      <td>0.000000</td>\n",
       "      <td>0.130435</td>\n",
       "      <td>1.000000</td>\n",
       "      <td>0.0</td>\n",
       "      <td>0.0</td>\n",
       "      <td>0.0</td>\n",
       "      <td>0.0</td>\n",
       "      <td>1.000000</td>\n",
       "      <td>1.000000</td>\n",
       "    </tr>\n",
       "  </tbody>\n",
       "</table>\n",
       "<p>5 rows × 11532 columns</p>\n",
       "</div>"
      ],
      "text/plain": [
       "         ADAM22    NDUFA1  FBXO3  KCNQ2   PIK3AP1  BEST2  CDH2   ATP5I  \\\n",
       "ADAM22      1.0  0.000000    0.0    0.0  0.000000    0.0   0.0  0.0000   \n",
       "NDUFA1      0.0  1.000000    0.2    0.0  0.230769    0.0   0.0  0.4375   \n",
       "FBXO3       0.0  0.200000    1.0    0.0  0.600000    0.0   0.0  0.0000   \n",
       "KCNQ2       0.0  0.000000    0.0    1.0  0.000000    0.0   0.0  0.0000   \n",
       "PIK3AP1     0.0  0.230769    0.6    0.0  1.000000    0.0   0.0  0.0000   \n",
       "\n",
       "            HERC5  B3GALT6    ...         GBF1      MLIP     DDX3Y       FUK  \\\n",
       "ADAM22   0.000000      0.0    ...     0.000000  0.000000  0.000000  0.000000   \n",
       "NDUFA1   0.230769      0.0    ...     0.136364  0.000000  0.090909  0.230769   \n",
       "FBXO3    0.600000      0.0    ...     0.214286  0.071429  0.120000  0.600000   \n",
       "KCNQ2    0.000000      0.0    ...     0.000000  0.000000  0.000000  0.000000   \n",
       "PIK3AP1  1.000000      0.0    ...     0.250000  0.000000  0.130435  1.000000   \n",
       "\n",
       "         EFCAB6  GNRHR2  BCL11B  ZYG11B       GAK     OXSR1  \n",
       "ADAM22      0.0     0.0     0.0     0.0  0.000000  0.000000  \n",
       "NDUFA1      0.0     0.0     0.0     0.0  0.230769  0.230769  \n",
       "FBXO3       0.4     0.0     0.0     0.0  0.600000  0.600000  \n",
       "KCNQ2       0.0     0.0     0.0     0.0  0.000000  0.000000  \n",
       "PIK3AP1     0.0     0.0     0.0     0.0  1.000000  1.000000  \n",
       "\n",
       "[5 rows x 11532 columns]"
      ]
     },
     "execution_count": 46,
     "metadata": {},
     "output_type": "execute_result"
    }
   ],
   "source": [
    "gene_similarity_matix.head()"
   ]
  },
  {
   "cell_type": "markdown",
   "metadata": {},
   "source": [
    "# Save Gene Similarity Matrix "
   ]
  },
  {
   "cell_type": "code",
   "execution_count": 47,
   "metadata": {
    "collapsed": true
   },
   "outputs": [],
   "source": [
    "filename = '~/./Documents/Harmonizome/GO/output/go_cellular_component_gene_similarity_matix_%s.tsv.zip'% str(datetime.date.today())[0:7].replace('-', '_')\n",
    "gene_similarity_matix.to_csv(filename, sep='\\t', compression='gzip')"
   ]
  },
  {
   "cell_type": "markdown",
   "metadata": {},
   "source": [
    "# Create Attribute Similarity matrix"
   ]
  },
  {
   "cell_type": "code",
   "execution_count": 48,
   "metadata": {
    "collapsed": true
   },
   "outputs": [],
   "source": [
    "attribute_similarity_matix = mf.createSimilarityMatrix(binary_matrix.T, 'jaccard')"
   ]
  },
  {
   "cell_type": "code",
   "execution_count": 49,
   "metadata": {},
   "outputs": [
    {
     "data": {
      "text/html": [
       "<div>\n",
       "<table border=\"1\" class=\"dataframe\">\n",
       "  <thead>\n",
       "    <tr style=\"text-align: right;\">\n",
       "      <th></th>\n",
       "      <th>vacuolar proton-transporting V-type ATPase, V1 domain</th>\n",
       "      <th>extrinsic component of autophagosome membrane</th>\n",
       "      <th>junctional sarcoplasmic reticulum membrane</th>\n",
       "      <th>Barr body</th>\n",
       "      <th>cytoplasmic ribonucleoprotein granule</th>\n",
       "      <th>NatA complex</th>\n",
       "      <th>phagocytic vesicle lumen</th>\n",
       "      <th>TEAD-2-YAP complex</th>\n",
       "      <th>chromaffin granule</th>\n",
       "      <th>vacuolar proton-transporting V-type ATPase complex</th>\n",
       "      <th>...</th>\n",
       "      <th>endoplasmic reticulum tubular network</th>\n",
       "      <th>axonemal outer doublet</th>\n",
       "      <th>actin cap</th>\n",
       "      <th>integrin alpha3-beta1 complex</th>\n",
       "      <th>microsporocyte nucleus</th>\n",
       "      <th>bicellular tight junction</th>\n",
       "      <th>cytolytic granule</th>\n",
       "      <th>generative cell nucleus</th>\n",
       "      <th>telomerase catalytic core complex</th>\n",
       "      <th>PBAF complex</th>\n",
       "    </tr>\n",
       "  </thead>\n",
       "  <tbody>\n",
       "    <tr>\n",
       "      <th>vacuolar proton-transporting V-type ATPase, V1 domain</th>\n",
       "      <td>1.0</td>\n",
       "      <td>0.0</td>\n",
       "      <td>0.0</td>\n",
       "      <td>0.0</td>\n",
       "      <td>0.0</td>\n",
       "      <td>0.0</td>\n",
       "      <td>0.0</td>\n",
       "      <td>0.0</td>\n",
       "      <td>0.0</td>\n",
       "      <td>0.666667</td>\n",
       "      <td>...</td>\n",
       "      <td>0.0</td>\n",
       "      <td>0.0</td>\n",
       "      <td>0.0</td>\n",
       "      <td>0.0</td>\n",
       "      <td>0.000000</td>\n",
       "      <td>0.0</td>\n",
       "      <td>0.0</td>\n",
       "      <td>0.000000</td>\n",
       "      <td>0.000000</td>\n",
       "      <td>0.000000</td>\n",
       "    </tr>\n",
       "    <tr>\n",
       "      <th>extrinsic component of autophagosome membrane</th>\n",
       "      <td>0.0</td>\n",
       "      <td>1.0</td>\n",
       "      <td>0.0</td>\n",
       "      <td>0.0</td>\n",
       "      <td>0.0</td>\n",
       "      <td>0.0</td>\n",
       "      <td>0.0</td>\n",
       "      <td>0.0</td>\n",
       "      <td>0.0</td>\n",
       "      <td>0.000000</td>\n",
       "      <td>...</td>\n",
       "      <td>0.0</td>\n",
       "      <td>0.0</td>\n",
       "      <td>0.0</td>\n",
       "      <td>0.0</td>\n",
       "      <td>0.000000</td>\n",
       "      <td>0.0</td>\n",
       "      <td>0.0</td>\n",
       "      <td>0.000000</td>\n",
       "      <td>0.000000</td>\n",
       "      <td>0.000000</td>\n",
       "    </tr>\n",
       "    <tr>\n",
       "      <th>junctional sarcoplasmic reticulum membrane</th>\n",
       "      <td>0.0</td>\n",
       "      <td>0.0</td>\n",
       "      <td>1.0</td>\n",
       "      <td>0.0</td>\n",
       "      <td>0.0</td>\n",
       "      <td>0.0</td>\n",
       "      <td>0.0</td>\n",
       "      <td>0.0</td>\n",
       "      <td>0.0</td>\n",
       "      <td>0.000000</td>\n",
       "      <td>...</td>\n",
       "      <td>0.0</td>\n",
       "      <td>0.0</td>\n",
       "      <td>0.0</td>\n",
       "      <td>0.0</td>\n",
       "      <td>0.000000</td>\n",
       "      <td>0.0</td>\n",
       "      <td>0.0</td>\n",
       "      <td>0.000000</td>\n",
       "      <td>0.000000</td>\n",
       "      <td>0.000000</td>\n",
       "    </tr>\n",
       "    <tr>\n",
       "      <th>Barr body</th>\n",
       "      <td>0.0</td>\n",
       "      <td>0.0</td>\n",
       "      <td>0.0</td>\n",
       "      <td>1.0</td>\n",
       "      <td>0.0</td>\n",
       "      <td>0.0</td>\n",
       "      <td>0.0</td>\n",
       "      <td>0.0</td>\n",
       "      <td>0.0</td>\n",
       "      <td>0.000000</td>\n",
       "      <td>...</td>\n",
       "      <td>0.0</td>\n",
       "      <td>0.0</td>\n",
       "      <td>0.0</td>\n",
       "      <td>0.0</td>\n",
       "      <td>0.005457</td>\n",
       "      <td>0.0</td>\n",
       "      <td>0.0</td>\n",
       "      <td>0.005457</td>\n",
       "      <td>0.000000</td>\n",
       "      <td>0.038462</td>\n",
       "    </tr>\n",
       "    <tr>\n",
       "      <th>cytoplasmic ribonucleoprotein granule</th>\n",
       "      <td>0.0</td>\n",
       "      <td>0.0</td>\n",
       "      <td>0.0</td>\n",
       "      <td>0.0</td>\n",
       "      <td>1.0</td>\n",
       "      <td>0.0</td>\n",
       "      <td>0.0</td>\n",
       "      <td>0.0</td>\n",
       "      <td>0.0</td>\n",
       "      <td>0.000000</td>\n",
       "      <td>...</td>\n",
       "      <td>0.0</td>\n",
       "      <td>0.0</td>\n",
       "      <td>0.0</td>\n",
       "      <td>0.0</td>\n",
       "      <td>0.004901</td>\n",
       "      <td>0.0</td>\n",
       "      <td>0.0</td>\n",
       "      <td>0.004901</td>\n",
       "      <td>0.019231</td>\n",
       "      <td>0.000000</td>\n",
       "    </tr>\n",
       "  </tbody>\n",
       "</table>\n",
       "<p>5 rows × 1275 columns</p>\n",
       "</div>"
      ],
      "text/plain": [
       "                                                    vacuolar proton-transporting V-type ATPase, V1 domain  \\\n",
       "vacuolar proton-transporting V-type ATPase, V1 ...                                                1.0       \n",
       "extrinsic component of autophagosome membrane                                                     0.0       \n",
       "junctional sarcoplasmic reticulum membrane                                                        0.0       \n",
       "Barr body                                                                                         0.0       \n",
       "cytoplasmic ribonucleoprotein granule                                                             0.0       \n",
       "\n",
       "                                                    extrinsic component of autophagosome membrane  \\\n",
       "vacuolar proton-transporting V-type ATPase, V1 ...                                            0.0   \n",
       "extrinsic component of autophagosome membrane                                                 1.0   \n",
       "junctional sarcoplasmic reticulum membrane                                                    0.0   \n",
       "Barr body                                                                                     0.0   \n",
       "cytoplasmic ribonucleoprotein granule                                                         0.0   \n",
       "\n",
       "                                                    junctional sarcoplasmic reticulum membrane  \\\n",
       "vacuolar proton-transporting V-type ATPase, V1 ...                                         0.0   \n",
       "extrinsic component of autophagosome membrane                                              0.0   \n",
       "junctional sarcoplasmic reticulum membrane                                                 1.0   \n",
       "Barr body                                                                                  0.0   \n",
       "cytoplasmic ribonucleoprotein granule                                                      0.0   \n",
       "\n",
       "                                                    Barr body  \\\n",
       "vacuolar proton-transporting V-type ATPase, V1 ...        0.0   \n",
       "extrinsic component of autophagosome membrane             0.0   \n",
       "junctional sarcoplasmic reticulum membrane                0.0   \n",
       "Barr body                                                 1.0   \n",
       "cytoplasmic ribonucleoprotein granule                     0.0   \n",
       "\n",
       "                                                    cytoplasmic ribonucleoprotein granule  \\\n",
       "vacuolar proton-transporting V-type ATPase, V1 ...                                    0.0   \n",
       "extrinsic component of autophagosome membrane                                         0.0   \n",
       "junctional sarcoplasmic reticulum membrane                                            0.0   \n",
       "Barr body                                                                             0.0   \n",
       "cytoplasmic ribonucleoprotein granule                                                 1.0   \n",
       "\n",
       "                                                    NatA complex  \\\n",
       "vacuolar proton-transporting V-type ATPase, V1 ...           0.0   \n",
       "extrinsic component of autophagosome membrane                0.0   \n",
       "junctional sarcoplasmic reticulum membrane                   0.0   \n",
       "Barr body                                                    0.0   \n",
       "cytoplasmic ribonucleoprotein granule                        0.0   \n",
       "\n",
       "                                                    phagocytic vesicle lumen  \\\n",
       "vacuolar proton-transporting V-type ATPase, V1 ...                       0.0   \n",
       "extrinsic component of autophagosome membrane                            0.0   \n",
       "junctional sarcoplasmic reticulum membrane                               0.0   \n",
       "Barr body                                                                0.0   \n",
       "cytoplasmic ribonucleoprotein granule                                    0.0   \n",
       "\n",
       "                                                    TEAD-2-YAP complex  \\\n",
       "vacuolar proton-transporting V-type ATPase, V1 ...                 0.0   \n",
       "extrinsic component of autophagosome membrane                      0.0   \n",
       "junctional sarcoplasmic reticulum membrane                         0.0   \n",
       "Barr body                                                          0.0   \n",
       "cytoplasmic ribonucleoprotein granule                              0.0   \n",
       "\n",
       "                                                    chromaffin granule  \\\n",
       "vacuolar proton-transporting V-type ATPase, V1 ...                 0.0   \n",
       "extrinsic component of autophagosome membrane                      0.0   \n",
       "junctional sarcoplasmic reticulum membrane                         0.0   \n",
       "Barr body                                                          0.0   \n",
       "cytoplasmic ribonucleoprotein granule                              0.0   \n",
       "\n",
       "                                                    vacuolar proton-transporting V-type ATPase complex  \\\n",
       "vacuolar proton-transporting V-type ATPase, V1 ...                                           0.666667    \n",
       "extrinsic component of autophagosome membrane                                                0.000000    \n",
       "junctional sarcoplasmic reticulum membrane                                                   0.000000    \n",
       "Barr body                                                                                    0.000000    \n",
       "cytoplasmic ribonucleoprotein granule                                                        0.000000    \n",
       "\n",
       "                                                        ...       \\\n",
       "vacuolar proton-transporting V-type ATPase, V1 ...      ...        \n",
       "extrinsic component of autophagosome membrane           ...        \n",
       "junctional sarcoplasmic reticulum membrane              ...        \n",
       "Barr body                                               ...        \n",
       "cytoplasmic ribonucleoprotein granule                   ...        \n",
       "\n",
       "                                                    endoplasmic reticulum tubular network  \\\n",
       "vacuolar proton-transporting V-type ATPase, V1 ...                                    0.0   \n",
       "extrinsic component of autophagosome membrane                                         0.0   \n",
       "junctional sarcoplasmic reticulum membrane                                            0.0   \n",
       "Barr body                                                                             0.0   \n",
       "cytoplasmic ribonucleoprotein granule                                                 0.0   \n",
       "\n",
       "                                                    axonemal outer doublet  \\\n",
       "vacuolar proton-transporting V-type ATPase, V1 ...                     0.0   \n",
       "extrinsic component of autophagosome membrane                          0.0   \n",
       "junctional sarcoplasmic reticulum membrane                             0.0   \n",
       "Barr body                                                              0.0   \n",
       "cytoplasmic ribonucleoprotein granule                                  0.0   \n",
       "\n",
       "                                                    actin cap  \\\n",
       "vacuolar proton-transporting V-type ATPase, V1 ...        0.0   \n",
       "extrinsic component of autophagosome membrane             0.0   \n",
       "junctional sarcoplasmic reticulum membrane                0.0   \n",
       "Barr body                                                 0.0   \n",
       "cytoplasmic ribonucleoprotein granule                     0.0   \n",
       "\n",
       "                                                    integrin alpha3-beta1 complex  \\\n",
       "vacuolar proton-transporting V-type ATPase, V1 ...                            0.0   \n",
       "extrinsic component of autophagosome membrane                                 0.0   \n",
       "junctional sarcoplasmic reticulum membrane                                    0.0   \n",
       "Barr body                                                                     0.0   \n",
       "cytoplasmic ribonucleoprotein granule                                         0.0   \n",
       "\n",
       "                                                    microsporocyte nucleus  \\\n",
       "vacuolar proton-transporting V-type ATPase, V1 ...                0.000000   \n",
       "extrinsic component of autophagosome membrane                     0.000000   \n",
       "junctional sarcoplasmic reticulum membrane                        0.000000   \n",
       "Barr body                                                         0.005457   \n",
       "cytoplasmic ribonucleoprotein granule                             0.004901   \n",
       "\n",
       "                                                    bicellular tight junction  \\\n",
       "vacuolar proton-transporting V-type ATPase, V1 ...                        0.0   \n",
       "extrinsic component of autophagosome membrane                             0.0   \n",
       "junctional sarcoplasmic reticulum membrane                                0.0   \n",
       "Barr body                                                                 0.0   \n",
       "cytoplasmic ribonucleoprotein granule                                     0.0   \n",
       "\n",
       "                                                    cytolytic granule  \\\n",
       "vacuolar proton-transporting V-type ATPase, V1 ...                0.0   \n",
       "extrinsic component of autophagosome membrane                     0.0   \n",
       "junctional sarcoplasmic reticulum membrane                        0.0   \n",
       "Barr body                                                         0.0   \n",
       "cytoplasmic ribonucleoprotein granule                             0.0   \n",
       "\n",
       "                                                    generative cell nucleus  \\\n",
       "vacuolar proton-transporting V-type ATPase, V1 ...                 0.000000   \n",
       "extrinsic component of autophagosome membrane                      0.000000   \n",
       "junctional sarcoplasmic reticulum membrane                         0.000000   \n",
       "Barr body                                                          0.005457   \n",
       "cytoplasmic ribonucleoprotein granule                              0.004901   \n",
       "\n",
       "                                                    telomerase catalytic core complex  \\\n",
       "vacuolar proton-transporting V-type ATPase, V1 ...                           0.000000   \n",
       "extrinsic component of autophagosome membrane                                0.000000   \n",
       "junctional sarcoplasmic reticulum membrane                                   0.000000   \n",
       "Barr body                                                                    0.000000   \n",
       "cytoplasmic ribonucleoprotein granule                                        0.019231   \n",
       "\n",
       "                                                    PBAF complex  \n",
       "vacuolar proton-transporting V-type ATPase, V1 ...      0.000000  \n",
       "extrinsic component of autophagosome membrane           0.000000  \n",
       "junctional sarcoplasmic reticulum membrane              0.000000  \n",
       "Barr body                                               0.038462  \n",
       "cytoplasmic ribonucleoprotein granule                   0.000000  \n",
       "\n",
       "[5 rows x 1275 columns]"
      ]
     },
     "execution_count": 49,
     "metadata": {},
     "output_type": "execute_result"
    }
   ],
   "source": [
    "attribute_similarity_matix.head()"
   ]
  },
  {
   "cell_type": "markdown",
   "metadata": {},
   "source": [
    "# Save Attribute Similarity Matrix"
   ]
  },
  {
   "cell_type": "code",
   "execution_count": 50,
   "metadata": {
    "collapsed": true
   },
   "outputs": [],
   "source": [
    "filename = '~/./Documents/Harmonizome/GO/output/go_cellular_component_attribute_similarity_matix_%s.tsv.zip'% str(datetime.date.today())[0:7].replace('-', '_')\n",
    "attribute_similarity_matix.to_csv(filename, sep='\\t', compression='gzip')"
   ]
  },
  {
   "cell_type": "markdown",
   "metadata": {},
   "source": [
    "# Create Gene List"
   ]
  },
  {
   "cell_type": "code",
   "execution_count": 51,
   "metadata": {},
   "outputs": [
    {
     "name": "stdout",
     "output_type": "stream",
     "text": [
      "Progeres: 100%  11532 Out of 11532   \r"
     ]
    }
   ],
   "source": [
    "gene_list = mf.createGeneList(binary_matrix)"
   ]
  },
  {
   "cell_type": "code",
   "execution_count": 52,
   "metadata": {},
   "outputs": [
    {
     "data": {
      "text/html": [
       "<div>\n",
       "<table border=\"1\" class=\"dataframe\">\n",
       "  <thead>\n",
       "    <tr style=\"text-align: right;\">\n",
       "      <th></th>\n",
       "      <th>GeneSym</th>\n",
       "      <th>GeneID</th>\n",
       "    </tr>\n",
       "  </thead>\n",
       "  <tbody>\n",
       "    <tr>\n",
       "      <th>0</th>\n",
       "      <td>ADAM22</td>\n",
       "      <td>53616</td>\n",
       "    </tr>\n",
       "    <tr>\n",
       "      <th>1</th>\n",
       "      <td>NDUFA1</td>\n",
       "      <td>4694</td>\n",
       "    </tr>\n",
       "    <tr>\n",
       "      <th>2</th>\n",
       "      <td>FBXO3</td>\n",
       "      <td>26273</td>\n",
       "    </tr>\n",
       "    <tr>\n",
       "      <th>3</th>\n",
       "      <td>KCNQ2</td>\n",
       "      <td>3785</td>\n",
       "    </tr>\n",
       "    <tr>\n",
       "      <th>4</th>\n",
       "      <td>PIK3AP1</td>\n",
       "      <td>118788</td>\n",
       "    </tr>\n",
       "  </tbody>\n",
       "</table>\n",
       "</div>"
      ],
      "text/plain": [
       "   GeneSym  GeneID\n",
       "0   ADAM22   53616\n",
       "1   NDUFA1    4694\n",
       "2    FBXO3   26273\n",
       "3    KCNQ2    3785\n",
       "4  PIK3AP1  118788"
      ]
     },
     "execution_count": 52,
     "metadata": {},
     "output_type": "execute_result"
    }
   ],
   "source": [
    "gene_list.head()"
   ]
  },
  {
   "cell_type": "code",
   "execution_count": 53,
   "metadata": {},
   "outputs": [
    {
     "data": {
      "text/plain": [
       "(11532, 2)"
      ]
     },
     "execution_count": 53,
     "metadata": {},
     "output_type": "execute_result"
    }
   ],
   "source": [
    "gene_list.shape"
   ]
  },
  {
   "cell_type": "markdown",
   "metadata": {},
   "source": [
    "# Save Gene List"
   ]
  },
  {
   "cell_type": "code",
   "execution_count": 54,
   "metadata": {
    "collapsed": true
   },
   "outputs": [],
   "source": [
    "filename = '~/./Documents/Harmonizome/GO/output/go_cellular_component_gene_list_%s.tsv.zip'% str(datetime.date.today())[0:7].replace('-', '_')\n",
    "gene_list.to_csv(filename, sep='\\t', index=False, compression='gzip')"
   ]
  },
  {
   "cell_type": "markdown",
   "metadata": {},
   "source": [
    "# Create Attribute List "
   ]
  },
  {
   "cell_type": "code",
   "execution_count": 55,
   "metadata": {
    "collapsed": true
   },
   "outputs": [],
   "source": [
    "attribute_list = mf.createAttributeList(binary_matrix)"
   ]
  },
  {
   "cell_type": "code",
   "execution_count": 56,
   "metadata": {},
   "outputs": [
    {
     "data": {
      "text/html": [
       "<div>\n",
       "<table border=\"1\" class=\"dataframe\">\n",
       "  <thead>\n",
       "    <tr style=\"text-align: right;\">\n",
       "      <th></th>\n",
       "      <th>Attributes</th>\n",
       "    </tr>\n",
       "  </thead>\n",
       "  <tbody>\n",
       "    <tr>\n",
       "      <th>0</th>\n",
       "      <td>vacuolar proton-transporting V-type ATPase, V1...</td>\n",
       "    </tr>\n",
       "    <tr>\n",
       "      <th>1</th>\n",
       "      <td>extrinsic component of autophagosome membrane</td>\n",
       "    </tr>\n",
       "    <tr>\n",
       "      <th>2</th>\n",
       "      <td>junctional sarcoplasmic reticulum membrane</td>\n",
       "    </tr>\n",
       "    <tr>\n",
       "      <th>3</th>\n",
       "      <td>Barr body</td>\n",
       "    </tr>\n",
       "    <tr>\n",
       "      <th>4</th>\n",
       "      <td>cytoplasmic ribonucleoprotein granule</td>\n",
       "    </tr>\n",
       "  </tbody>\n",
       "</table>\n",
       "</div>"
      ],
      "text/plain": [
       "                                          Attributes\n",
       "0  vacuolar proton-transporting V-type ATPase, V1...\n",
       "1      extrinsic component of autophagosome membrane\n",
       "2         junctional sarcoplasmic reticulum membrane\n",
       "3                                          Barr body\n",
       "4              cytoplasmic ribonucleoprotein granule"
      ]
     },
     "execution_count": 56,
     "metadata": {},
     "output_type": "execute_result"
    }
   ],
   "source": [
    "attribute_list.head()"
   ]
  },
  {
   "cell_type": "code",
   "execution_count": 57,
   "metadata": {},
   "outputs": [
    {
     "data": {
      "text/plain": [
       "(1275, 1)"
      ]
     },
     "execution_count": 57,
     "metadata": {},
     "output_type": "execute_result"
    }
   ],
   "source": [
    "attribute_list.shape"
   ]
  },
  {
   "cell_type": "markdown",
   "metadata": {},
   "source": [
    "# Save Attribute List"
   ]
  },
  {
   "cell_type": "code",
   "execution_count": 58,
   "metadata": {
    "collapsed": true
   },
   "outputs": [],
   "source": [
    "filename = '~/./Documents/Harmonizome/GO/output/go_cellular_component_attribute_list_%s.tsv.zip'% str(datetime.date.today())[0:7].replace('-', '_')\n",
    "attribute_list.to_csv(filename, sep='\\t', index=False, compression='gzip')"
   ]
  },
  {
   "cell_type": "markdown",
   "metadata": {},
   "source": [
    "# Create Gene-Attribute Edge List"
   ]
  },
  {
   "cell_type": "code",
   "execution_count": 59,
   "metadata": {
    "collapsed": true
   },
   "outputs": [],
   "source": [
    "path = '/Users/moshesilverstein/Documents/Harmonizome/GO/output/'"
   ]
  },
  {
   "cell_type": "code",
   "execution_count": 60,
   "metadata": {
    "collapsed": true
   },
   "outputs": [],
   "source": [
    "name = 'go_cellular_component_gene_attribute_edge_list'"
   ]
  },
  {
   "cell_type": "code",
   "execution_count": 61,
   "metadata": {},
   "outputs": [
    {
     "name": "stdout",
     "output_type": "stream",
     "text": [
      "Progeres: 100%  1275 Out of 1275   \n",
      "\n",
      " The number of statisticaly relevent gene-attribute associations is: 188564\n"
     ]
    }
   ],
   "source": [
    "mf.createGeneAttributeEdgeList(binary_matrix, gene_list, path, name)"
   ]
  }
 ],
 "metadata": {
  "kernelspec": {
   "display_name": "Python [default]",
   "language": "python",
   "name": "python3"
  },
  "language_info": {
   "codemirror_mode": {
    "name": "ipython",
    "version": 3
   },
   "file_extension": ".py",
   "mimetype": "text/x-python",
   "name": "python",
   "nbconvert_exporter": "python",
   "pygments_lexer": "ipython3",
   "version": "3.5.2"
  }
 },
 "nbformat": 4,
 "nbformat_minor": 2
}
