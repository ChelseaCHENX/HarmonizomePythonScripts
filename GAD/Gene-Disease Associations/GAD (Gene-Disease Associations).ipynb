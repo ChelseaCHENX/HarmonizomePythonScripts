{
 "cells": [
  {
   "cell_type": "markdown",
   "metadata": {},
   "source": [
    "# GAD (Gene-Disease Associations)"
   ]
  },
  {
   "cell_type": "markdown",
   "metadata": {},
   "source": [
    "Author: Moshe Silverstein <br/>\n",
    "Date: 8-17 <br/>\n",
    "Data Source: https://geneticassociationdb.nih.gov/"
   ]
  },
  {
   "cell_type": "code",
   "execution_count": 1,
   "metadata": {
    "collapsed": true
   },
   "outputs": [],
   "source": [
    "import sys, datetime, os\n",
    "import numpy as np\n",
    "import pandas as pd\n",
    "import importlib\n",
    "import my_functions as mf\n",
    "%matplotlib inline"
   ]
  },
  {
   "cell_type": "code",
   "execution_count": 2,
   "metadata": {},
   "outputs": [
    {
     "data": {
      "text/plain": [
       "<module 'my_functions' from '/Users/moshesilverstein/Documents/Harmonizome/GAD/my_functions.py'>"
      ]
     },
     "execution_count": 2,
     "metadata": {},
     "output_type": "execute_result"
    }
   ],
   "source": [
    "importlib.reload(mf)"
   ]
  },
  {
   "cell_type": "markdown",
   "metadata": {},
   "source": [
    "# Load Data"
   ]
  },
  {
   "cell_type": "code",
   "execution_count": 3,
   "metadata": {},
   "outputs": [],
   "source": [
    "df = pd.read_csv('Input/data/GADCDC/GADCDC_data.zip', sep='\\t', low_memory=False)"
   ]
  },
  {
   "cell_type": "code",
   "execution_count": 4,
   "metadata": {},
   "outputs": [
    {
     "data": {
      "text/html": [
       "<div>\n",
       "<table border=\"1\" class=\"dataframe\">\n",
       "  <thead>\n",
       "    <tr style=\"text-align: right;\">\n",
       "      <th></th>\n",
       "      <th>ID</th>\n",
       "      <th>ALTNAME</th>\n",
       "      <th>DISEASE</th>\n",
       "      <th>DIS_CLAS</th>\n",
       "      <th>CH_BAND</th>\n",
       "      <th>GENE</th>\n",
       "      <th>DNAPOST</th>\n",
       "      <th>P_VALUE</th>\n",
       "      <th>REFERENC</th>\n",
       "      <th>PUBMEDID</th>\n",
       "      <th>...</th>\n",
       "      <th>I_CHECK</th>\n",
       "      <th>UCSC</th>\n",
       "      <th>CHECKED</th>\n",
       "      <th>IPADDR</th>\n",
       "      <th>CNV</th>\n",
       "      <th>GEOLOC</th>\n",
       "      <th>MESHDIS</th>\n",
       "      <th>ACEVIEW</th>\n",
       "      <th>CTD</th>\n",
       "      <th>SNPEDIA</th>\n",
       "    </tr>\n",
       "  </thead>\n",
       "  <tbody>\n",
       "    <tr>\n",
       "      <th>0</th>\n",
       "      <td>125158</td>\n",
       "      <td>||HLA-A||HLA-H||HLA-J||leukocyte antigen-A*010...</td>\n",
       "      <td>leukemia</td>\n",
       "      <td>CANCER</td>\n",
       "      <td>6p21.3</td>\n",
       "      <td>HLA-A</td>\n",
       "      <td>NaN</td>\n",
       "      <td>NaN</td>\n",
       "      <td>Xiao, W. Y.  et al. 2005</td>\n",
       "      <td>16120569.0</td>\n",
       "      <td>...</td>\n",
       "      <td>NaN</td>\n",
       "      <td>http://genome.ucsc.edu/cgi-bin/hgTracks?org=Hu...</td>\n",
       "      <td>NaN</td>\n",
       "      <td>NaN</td>\n",
       "      <td>http://projects.tcag.ca/variation/search.asp?k...</td>\n",
       "      <td>NaN</td>\n",
       "      <td>NaN</td>\n",
       "      <td>http://www.ncbi.nlm.nih.gov/IEB/Research/Acemb...</td>\n",
       "      <td>http://ctd.mdibl.org/detail.go?type=gene&amp;db=GE...</td>\n",
       "      <td>http://www.snpedia.com/index.php/HLA-A</td>\n",
       "    </tr>\n",
       "    <tr>\n",
       "      <th>1</th>\n",
       "      <td>125159</td>\n",
       "      <td>||HLA-A||HLA-H||HLA-J||leukocyte antigen-A*010...</td>\n",
       "      <td>leukemia</td>\n",
       "      <td>CANCER</td>\n",
       "      <td>6p21.3</td>\n",
       "      <td>HLA-A</td>\n",
       "      <td>NaN</td>\n",
       "      <td>NaN</td>\n",
       "      <td>Zhou, L. X.  et al. 2005</td>\n",
       "      <td>16143070.0</td>\n",
       "      <td>...</td>\n",
       "      <td>NaN</td>\n",
       "      <td>http://genome.ucsc.edu/cgi-bin/hgTracks?org=Hu...</td>\n",
       "      <td>NaN</td>\n",
       "      <td>NaN</td>\n",
       "      <td>http://projects.tcag.ca/variation/search.asp?k...</td>\n",
       "      <td>NaN</td>\n",
       "      <td>NaN</td>\n",
       "      <td>http://www.ncbi.nlm.nih.gov/IEB/Research/Acemb...</td>\n",
       "      <td>http://ctd.mdibl.org/detail.go?type=gene&amp;db=GE...</td>\n",
       "      <td>http://www.snpedia.com/index.php/HLA-A</td>\n",
       "    </tr>\n",
       "    <tr>\n",
       "      <th>2</th>\n",
       "      <td>125160</td>\n",
       "      <td>||HLA-A||HLA-H||HLA-J||leukocyte antigen-A*010...</td>\n",
       "      <td>alopecia areata</td>\n",
       "      <td>IMMUNE</td>\n",
       "      <td>6p21.3</td>\n",
       "      <td>HLA-A</td>\n",
       "      <td>NaN</td>\n",
       "      <td>NaN</td>\n",
       "      <td>Xiao, F. L.  et al. 2005</td>\n",
       "      <td>16185849.0</td>\n",
       "      <td>...</td>\n",
       "      <td>NaN</td>\n",
       "      <td>http://genome.ucsc.edu/cgi-bin/hgTracks?org=Hu...</td>\n",
       "      <td>NaN</td>\n",
       "      <td>NaN</td>\n",
       "      <td>http://projects.tcag.ca/variation/search.asp?k...</td>\n",
       "      <td>NaN</td>\n",
       "      <td>Alopecia Areata</td>\n",
       "      <td>http://www.ncbi.nlm.nih.gov/IEB/Research/Acemb...</td>\n",
       "      <td>http://ctd.mdibl.org/detail.go?type=gene&amp;db=GE...</td>\n",
       "      <td>http://www.snpedia.com/index.php/HLA-A</td>\n",
       "    </tr>\n",
       "    <tr>\n",
       "      <th>3</th>\n",
       "      <td>125155</td>\n",
       "      <td>||HLA-A||HLA-H||HLA-J||leukocyte antigen-A*010...</td>\n",
       "      <td>leukemia</td>\n",
       "      <td>CANCER</td>\n",
       "      <td>6p21.3</td>\n",
       "      <td>HLA-A</td>\n",
       "      <td>NaN</td>\n",
       "      <td>NaN</td>\n",
       "      <td>Kang, L.  et al. 2005</td>\n",
       "      <td>15793795.0</td>\n",
       "      <td>...</td>\n",
       "      <td>NaN</td>\n",
       "      <td>http://genome.ucsc.edu/cgi-bin/hgTracks?org=Hu...</td>\n",
       "      <td>NaN</td>\n",
       "      <td>NaN</td>\n",
       "      <td>http://projects.tcag.ca/variation/search.asp?k...</td>\n",
       "      <td>NaN</td>\n",
       "      <td>NaN</td>\n",
       "      <td>http://www.ncbi.nlm.nih.gov/IEB/Research/Acemb...</td>\n",
       "      <td>http://ctd.mdibl.org/detail.go?type=gene&amp;db=GE...</td>\n",
       "      <td>http://www.snpedia.com/index.php/HLA-A</td>\n",
       "    </tr>\n",
       "    <tr>\n",
       "      <th>4</th>\n",
       "      <td>125157</td>\n",
       "      <td>||HLA-A||HLA-H||HLA-J||leukocyte antigen-A*010...</td>\n",
       "      <td>melanoma</td>\n",
       "      <td>CANCER</td>\n",
       "      <td>6p21.3</td>\n",
       "      <td>HLA-A</td>\n",
       "      <td>NaN</td>\n",
       "      <td>NaN</td>\n",
       "      <td>Spinola, H.  et al. 2005</td>\n",
       "      <td>16101833.0</td>\n",
       "      <td>...</td>\n",
       "      <td>NaN</td>\n",
       "      <td>http://genome.ucsc.edu/cgi-bin/hgTracks?org=Hu...</td>\n",
       "      <td>NaN</td>\n",
       "      <td>NaN</td>\n",
       "      <td>http://projects.tcag.ca/variation/search.asp?k...</td>\n",
       "      <td>NaN</td>\n",
       "      <td>NaN</td>\n",
       "      <td>http://www.ncbi.nlm.nih.gov/IEB/Research/Acemb...</td>\n",
       "      <td>http://ctd.mdibl.org/detail.go?type=gene&amp;db=GE...</td>\n",
       "      <td>http://www.snpedia.com/index.php/HLA-A</td>\n",
       "    </tr>\n",
       "  </tbody>\n",
       "</table>\n",
       "<p>5 rows × 89 columns</p>\n",
       "</div>"
      ],
      "text/plain": [
       "       ID                                            ALTNAME          DISEASE  \\\n",
       "0  125158  ||HLA-A||HLA-H||HLA-J||leukocyte antigen-A*010...         leukemia   \n",
       "1  125159  ||HLA-A||HLA-H||HLA-J||leukocyte antigen-A*010...         leukemia   \n",
       "2  125160  ||HLA-A||HLA-H||HLA-J||leukocyte antigen-A*010...  alopecia areata   \n",
       "3  125155  ||HLA-A||HLA-H||HLA-J||leukocyte antigen-A*010...         leukemia   \n",
       "4  125157  ||HLA-A||HLA-H||HLA-J||leukocyte antigen-A*010...         melanoma   \n",
       "\n",
       "  DIS_CLAS CH_BAND   GENE  DNAPOST P_VALUE                  REFERENC  \\\n",
       "0   CANCER  6p21.3  HLA-A      NaN     NaN  Xiao, W. Y.  et al. 2005   \n",
       "1   CANCER  6p21.3  HLA-A      NaN     NaN  Zhou, L. X.  et al. 2005   \n",
       "2   IMMUNE  6p21.3  HLA-A      NaN     NaN  Xiao, F. L.  et al. 2005   \n",
       "3   CANCER  6p21.3  HLA-A      NaN     NaN     Kang, L.  et al. 2005   \n",
       "4   CANCER  6p21.3  HLA-A      NaN     NaN  Spinola, H.  et al. 2005   \n",
       "\n",
       "     PUBMEDID                   ...                   I_CHECK  \\\n",
       "0  16120569.0                   ...                       NaN   \n",
       "1  16143070.0                   ...                       NaN   \n",
       "2  16185849.0                   ...                       NaN   \n",
       "3  15793795.0                   ...                       NaN   \n",
       "4  16101833.0                   ...                       NaN   \n",
       "\n",
       "                                                UCSC  CHECKED IPADDR  \\\n",
       "0  http://genome.ucsc.edu/cgi-bin/hgTracks?org=Hu...      NaN    NaN   \n",
       "1  http://genome.ucsc.edu/cgi-bin/hgTracks?org=Hu...      NaN    NaN   \n",
       "2  http://genome.ucsc.edu/cgi-bin/hgTracks?org=Hu...      NaN    NaN   \n",
       "3  http://genome.ucsc.edu/cgi-bin/hgTracks?org=Hu...      NaN    NaN   \n",
       "4  http://genome.ucsc.edu/cgi-bin/hgTracks?org=Hu...      NaN    NaN   \n",
       "\n",
       "                                                 CNV GEOLOC          MESHDIS  \\\n",
       "0  http://projects.tcag.ca/variation/search.asp?k...    NaN              NaN   \n",
       "1  http://projects.tcag.ca/variation/search.asp?k...    NaN              NaN   \n",
       "2  http://projects.tcag.ca/variation/search.asp?k...    NaN  Alopecia Areata   \n",
       "3  http://projects.tcag.ca/variation/search.asp?k...    NaN              NaN   \n",
       "4  http://projects.tcag.ca/variation/search.asp?k...    NaN              NaN   \n",
       "\n",
       "                                             ACEVIEW  \\\n",
       "0  http://www.ncbi.nlm.nih.gov/IEB/Research/Acemb...   \n",
       "1  http://www.ncbi.nlm.nih.gov/IEB/Research/Acemb...   \n",
       "2  http://www.ncbi.nlm.nih.gov/IEB/Research/Acemb...   \n",
       "3  http://www.ncbi.nlm.nih.gov/IEB/Research/Acemb...   \n",
       "4  http://www.ncbi.nlm.nih.gov/IEB/Research/Acemb...   \n",
       "\n",
       "                                                 CTD  \\\n",
       "0  http://ctd.mdibl.org/detail.go?type=gene&db=GE...   \n",
       "1  http://ctd.mdibl.org/detail.go?type=gene&db=GE...   \n",
       "2  http://ctd.mdibl.org/detail.go?type=gene&db=GE...   \n",
       "3  http://ctd.mdibl.org/detail.go?type=gene&db=GE...   \n",
       "4  http://ctd.mdibl.org/detail.go?type=gene&db=GE...   \n",
       "\n",
       "                                  SNPEDIA  \n",
       "0  http://www.snpedia.com/index.php/HLA-A  \n",
       "1  http://www.snpedia.com/index.php/HLA-A  \n",
       "2  http://www.snpedia.com/index.php/HLA-A  \n",
       "3  http://www.snpedia.com/index.php/HLA-A  \n",
       "4  http://www.snpedia.com/index.php/HLA-A  \n",
       "\n",
       "[5 rows x 89 columns]"
      ]
     },
     "execution_count": 4,
     "metadata": {},
     "output_type": "execute_result"
    }
   ],
   "source": [
    "df.head()"
   ]
  },
  {
   "cell_type": "code",
   "execution_count": 5,
   "metadata": {},
   "outputs": [
    {
     "data": {
      "text/plain": [
       "(167132, 89)"
      ]
     },
     "execution_count": 5,
     "metadata": {},
     "output_type": "execute_result"
    }
   ],
   "source": [
    "df.shape"
   ]
  },
  {
   "cell_type": "markdown",
   "metadata": {},
   "source": [
    "# Get Relevant Data"
   ]
  },
  {
   "cell_type": "code",
   "execution_count": 6,
   "metadata": {
    "collapsed": true
   },
   "outputs": [],
   "source": [
    "df = df[['GENE', 'DISEASE']]"
   ]
  },
  {
   "cell_type": "code",
   "execution_count": 7,
   "metadata": {
    "collapsed": true
   },
   "outputs": [],
   "source": [
    "df.dropna(how='any', inplace=True)"
   ]
  },
  {
   "cell_type": "code",
   "execution_count": 8,
   "metadata": {},
   "outputs": [
    {
     "data": {
      "text/html": [
       "<div>\n",
       "<table border=\"1\" class=\"dataframe\">\n",
       "  <thead>\n",
       "    <tr style=\"text-align: right;\">\n",
       "      <th></th>\n",
       "      <th>GENE</th>\n",
       "      <th>DISEASE</th>\n",
       "    </tr>\n",
       "  </thead>\n",
       "  <tbody>\n",
       "    <tr>\n",
       "      <th>0</th>\n",
       "      <td>HLA-A</td>\n",
       "      <td>leukemia</td>\n",
       "    </tr>\n",
       "    <tr>\n",
       "      <th>1</th>\n",
       "      <td>HLA-A</td>\n",
       "      <td>leukemia</td>\n",
       "    </tr>\n",
       "    <tr>\n",
       "      <th>2</th>\n",
       "      <td>HLA-A</td>\n",
       "      <td>alopecia areata</td>\n",
       "    </tr>\n",
       "    <tr>\n",
       "      <th>3</th>\n",
       "      <td>HLA-A</td>\n",
       "      <td>leukemia</td>\n",
       "    </tr>\n",
       "    <tr>\n",
       "      <th>4</th>\n",
       "      <td>HLA-A</td>\n",
       "      <td>melanoma</td>\n",
       "    </tr>\n",
       "  </tbody>\n",
       "</table>\n",
       "</div>"
      ],
      "text/plain": [
       "    GENE          DISEASE\n",
       "0  HLA-A         leukemia\n",
       "1  HLA-A         leukemia\n",
       "2  HLA-A  alopecia areata\n",
       "3  HLA-A         leukemia\n",
       "4  HLA-A         melanoma"
      ]
     },
     "execution_count": 8,
     "metadata": {},
     "output_type": "execute_result"
    }
   ],
   "source": [
    "df.head()"
   ]
  },
  {
   "cell_type": "markdown",
   "metadata": {},
   "source": [
    "# Map Gene Symbols To Up-to-date Approved Gene Symbols"
   ]
  },
  {
   "cell_type": "code",
   "execution_count": 10,
   "metadata": {
    "collapsed": true
   },
   "outputs": [],
   "source": [
    "df.set_index('GENE', inplace=True)"
   ]
  },
  {
   "cell_type": "code",
   "execution_count": 11,
   "metadata": {},
   "outputs": [
    {
     "name": "stdout",
     "output_type": "stream",
     "text": [
      "Progeres: 100%  163203 Out of 163203   \r"
     ]
    }
   ],
   "source": [
    "mf.mapgenesymbols(df)"
   ]
  },
  {
   "cell_type": "markdown",
   "metadata": {},
   "source": [
    "# Drop Duplicates"
   ]
  },
  {
   "cell_type": "code",
   "execution_count": 12,
   "metadata": {
    "collapsed": true
   },
   "outputs": [],
   "source": [
    "df.reset_index(inplace=True)"
   ]
  },
  {
   "cell_type": "code",
   "execution_count": 13,
   "metadata": {
    "collapsed": true
   },
   "outputs": [],
   "source": [
    "df.drop_duplicates(inplace=True)"
   ]
  },
  {
   "cell_type": "code",
   "execution_count": 14,
   "metadata": {},
   "outputs": [
    {
     "data": {
      "text/plain": [
       "(109098, 2)"
      ]
     },
     "execution_count": 14,
     "metadata": {},
     "output_type": "execute_result"
    }
   ],
   "source": [
    "df.shape"
   ]
  },
  {
   "cell_type": "markdown",
   "metadata": {},
   "source": [
    "# Create Binary Matrix"
   ]
  },
  {
   "cell_type": "code",
   "execution_count": 15,
   "metadata": {},
   "outputs": [
    {
     "name": "stdout",
     "output_type": "stream",
     "text": [
      "Progeres: 100%  14107 Out of 14107   \r"
     ]
    }
   ],
   "source": [
    "binary_matrix = mf.createBinaryMatix(df)"
   ]
  },
  {
   "cell_type": "code",
   "execution_count": 16,
   "metadata": {},
   "outputs": [
    {
     "data": {
      "text/html": [
       "<div>\n",
       "<table border=\"1\" class=\"dataframe\">\n",
       "  <thead>\n",
       "    <tr style=\"text-align: right;\">\n",
       "      <th></th>\n",
       "      <th>Renal cell carcinoma</th>\n",
       "      <th>congenital goiter and defective TG synthesis.</th>\n",
       "      <th>diabetes, type 2; hypertension; glucose tolerance</th>\n",
       "      <th>carotid artery atherosclerosis</th>\n",
       "      <th>Crohn Disease|Inflammatory Bowel Diseases</th>\n",
       "      <th>blood pressure; left ventricular mass; atherosclerosis, carotid</th>\n",
       "      <th>Body Weight|Hypertension|Insulin Resistance|Obesity</th>\n",
       "      <th>myocardial infarction; folate; homocysteine</th>\n",
       "      <th>side-effects of clozapine</th>\n",
       "      <th>Coronary Restenosis|Recurrence</th>\n",
       "      <th>...</th>\n",
       "      <th>Chronic renal failure|Hypertension|Kidney Failure, Chronic|Nephrosclerosis</th>\n",
       "      <th>Adenoma|Colonic Neoplasms|Colonic Polyps|Neoplasm Recurrence, Local</th>\n",
       "      <th>myocardial infarct; C-reactive protein; stroke, ischemic</th>\n",
       "      <th>Alopecia Areata|</th>\n",
       "      <th>retinopathy, diabetic; nephropathy in other diseases; neuropathy</th>\n",
       "      <th>obesity; bulimia nervosa</th>\n",
       "      <th>Bloom syndrome; Fanconi's anemia</th>\n",
       "      <th>Language Development Disorders|Mental Retardation</th>\n",
       "      <th>Graves disease</th>\n",
       "      <th>schizophrenia; body fat; weight gain</th>\n",
       "    </tr>\n",
       "  </thead>\n",
       "  <tbody>\n",
       "    <tr>\n",
       "      <th>EGF</th>\n",
       "      <td>0</td>\n",
       "      <td>0</td>\n",
       "      <td>0</td>\n",
       "      <td>0</td>\n",
       "      <td>0</td>\n",
       "      <td>0</td>\n",
       "      <td>0</td>\n",
       "      <td>0</td>\n",
       "      <td>0</td>\n",
       "      <td>0</td>\n",
       "      <td>...</td>\n",
       "      <td>0</td>\n",
       "      <td>0</td>\n",
       "      <td>0</td>\n",
       "      <td>0</td>\n",
       "      <td>0</td>\n",
       "      <td>0</td>\n",
       "      <td>0</td>\n",
       "      <td>0</td>\n",
       "      <td>0</td>\n",
       "      <td>0</td>\n",
       "    </tr>\n",
       "    <tr>\n",
       "      <th>MIR128-2</th>\n",
       "      <td>0</td>\n",
       "      <td>0</td>\n",
       "      <td>0</td>\n",
       "      <td>0</td>\n",
       "      <td>0</td>\n",
       "      <td>0</td>\n",
       "      <td>0</td>\n",
       "      <td>0</td>\n",
       "      <td>0</td>\n",
       "      <td>0</td>\n",
       "      <td>...</td>\n",
       "      <td>0</td>\n",
       "      <td>0</td>\n",
       "      <td>0</td>\n",
       "      <td>0</td>\n",
       "      <td>0</td>\n",
       "      <td>0</td>\n",
       "      <td>0</td>\n",
       "      <td>0</td>\n",
       "      <td>0</td>\n",
       "      <td>0</td>\n",
       "    </tr>\n",
       "    <tr>\n",
       "      <th>HLA-J</th>\n",
       "      <td>0</td>\n",
       "      <td>0</td>\n",
       "      <td>0</td>\n",
       "      <td>0</td>\n",
       "      <td>0</td>\n",
       "      <td>0</td>\n",
       "      <td>0</td>\n",
       "      <td>0</td>\n",
       "      <td>0</td>\n",
       "      <td>0</td>\n",
       "      <td>...</td>\n",
       "      <td>0</td>\n",
       "      <td>0</td>\n",
       "      <td>0</td>\n",
       "      <td>0</td>\n",
       "      <td>0</td>\n",
       "      <td>0</td>\n",
       "      <td>0</td>\n",
       "      <td>0</td>\n",
       "      <td>0</td>\n",
       "      <td>0</td>\n",
       "    </tr>\n",
       "    <tr>\n",
       "      <th>LSAMP</th>\n",
       "      <td>0</td>\n",
       "      <td>0</td>\n",
       "      <td>0</td>\n",
       "      <td>0</td>\n",
       "      <td>0</td>\n",
       "      <td>0</td>\n",
       "      <td>0</td>\n",
       "      <td>0</td>\n",
       "      <td>0</td>\n",
       "      <td>0</td>\n",
       "      <td>...</td>\n",
       "      <td>0</td>\n",
       "      <td>0</td>\n",
       "      <td>0</td>\n",
       "      <td>0</td>\n",
       "      <td>0</td>\n",
       "      <td>0</td>\n",
       "      <td>0</td>\n",
       "      <td>0</td>\n",
       "      <td>0</td>\n",
       "      <td>0</td>\n",
       "    </tr>\n",
       "    <tr>\n",
       "      <th>KIAA0895</th>\n",
       "      <td>0</td>\n",
       "      <td>0</td>\n",
       "      <td>0</td>\n",
       "      <td>0</td>\n",
       "      <td>0</td>\n",
       "      <td>0</td>\n",
       "      <td>0</td>\n",
       "      <td>0</td>\n",
       "      <td>0</td>\n",
       "      <td>0</td>\n",
       "      <td>...</td>\n",
       "      <td>0</td>\n",
       "      <td>0</td>\n",
       "      <td>0</td>\n",
       "      <td>0</td>\n",
       "      <td>0</td>\n",
       "      <td>0</td>\n",
       "      <td>0</td>\n",
       "      <td>0</td>\n",
       "      <td>0</td>\n",
       "      <td>0</td>\n",
       "    </tr>\n",
       "  </tbody>\n",
       "</table>\n",
       "<p>5 rows × 15522 columns</p>\n",
       "</div>"
      ],
      "text/plain": [
       "          Renal cell carcinoma  congenital goiter and defective TG synthesis.  \\\n",
       "EGF                          0                                              0   \n",
       "MIR128-2                     0                                              0   \n",
       "HLA-J                        0                                              0   \n",
       "LSAMP                        0                                              0   \n",
       "KIAA0895                     0                                              0   \n",
       "\n",
       "          diabetes, type 2; hypertension; glucose tolerance  \\\n",
       "EGF                                                       0   \n",
       "MIR128-2                                                  0   \n",
       "HLA-J                                                     0   \n",
       "LSAMP                                                     0   \n",
       "KIAA0895                                                  0   \n",
       "\n",
       "          carotid artery atherosclerosis  \\\n",
       "EGF                                    0   \n",
       "MIR128-2                               0   \n",
       "HLA-J                                  0   \n",
       "LSAMP                                  0   \n",
       "KIAA0895                               0   \n",
       "\n",
       "          Crohn Disease|Inflammatory Bowel Diseases  \\\n",
       "EGF                                               0   \n",
       "MIR128-2                                          0   \n",
       "HLA-J                                             0   \n",
       "LSAMP                                             0   \n",
       "KIAA0895                                          0   \n",
       "\n",
       "          blood pressure; left ventricular mass; atherosclerosis, carotid  \\\n",
       "EGF                                                       0                 \n",
       "MIR128-2                                                  0                 \n",
       "HLA-J                                                     0                 \n",
       "LSAMP                                                     0                 \n",
       "KIAA0895                                                  0                 \n",
       "\n",
       "          Body Weight|Hypertension|Insulin Resistance|Obesity  \\\n",
       "EGF                                                       0     \n",
       "MIR128-2                                                  0     \n",
       "HLA-J                                                     0     \n",
       "LSAMP                                                     0     \n",
       "KIAA0895                                                  0     \n",
       "\n",
       "          myocardial infarction; folate; homocysteine  \\\n",
       "EGF                                                 0   \n",
       "MIR128-2                                            0   \n",
       "HLA-J                                               0   \n",
       "LSAMP                                               0   \n",
       "KIAA0895                                            0   \n",
       "\n",
       "          side-effects of clozapine  Coronary Restenosis|Recurrence  \\\n",
       "EGF                               0                               0   \n",
       "MIR128-2                          0                               0   \n",
       "HLA-J                             0                               0   \n",
       "LSAMP                             0                               0   \n",
       "KIAA0895                          0                               0   \n",
       "\n",
       "                          ...                   \\\n",
       "EGF                       ...                    \n",
       "MIR128-2                  ...                    \n",
       "HLA-J                     ...                    \n",
       "LSAMP                     ...                    \n",
       "KIAA0895                  ...                    \n",
       "\n",
       "          Chronic renal failure|Hypertension|Kidney Failure, Chronic|Nephrosclerosis  \\\n",
       "EGF                                                       0                            \n",
       "MIR128-2                                                  0                            \n",
       "HLA-J                                                     0                            \n",
       "LSAMP                                                     0                            \n",
       "KIAA0895                                                  0                            \n",
       "\n",
       "          Adenoma|Colonic Neoplasms|Colonic Polyps|Neoplasm Recurrence, Local  \\\n",
       "EGF                                                       0                     \n",
       "MIR128-2                                                  0                     \n",
       "HLA-J                                                     0                     \n",
       "LSAMP                                                     0                     \n",
       "KIAA0895                                                  0                     \n",
       "\n",
       "          myocardial infarct; C-reactive protein; stroke, ischemic  \\\n",
       "EGF                                                       0          \n",
       "MIR128-2                                                  0          \n",
       "HLA-J                                                     0          \n",
       "LSAMP                                                     0          \n",
       "KIAA0895                                                  0          \n",
       "\n",
       "          Alopecia Areata|  \\\n",
       "EGF                      0   \n",
       "MIR128-2                 0   \n",
       "HLA-J                    0   \n",
       "LSAMP                    0   \n",
       "KIAA0895                 0   \n",
       "\n",
       "          retinopathy, diabetic; nephropathy in other diseases; neuropathy  \\\n",
       "EGF                                                       0                  \n",
       "MIR128-2                                                  0                  \n",
       "HLA-J                                                     0                  \n",
       "LSAMP                                                     0                  \n",
       "KIAA0895                                                  0                  \n",
       "\n",
       "          obesity; bulimia nervosa  Bloom syndrome; Fanconi's anemia  \\\n",
       "EGF                              0                                 0   \n",
       "MIR128-2                         0                                 0   \n",
       "HLA-J                            0                                 0   \n",
       "LSAMP                            0                                 0   \n",
       "KIAA0895                         0                                 0   \n",
       "\n",
       "          Language Development Disorders|Mental Retardation  Graves disease  \\\n",
       "EGF                                                       0               0   \n",
       "MIR128-2                                                  0               0   \n",
       "HLA-J                                                     0               0   \n",
       "LSAMP                                                     0               0   \n",
       "KIAA0895                                                  0               0   \n",
       "\n",
       "          schizophrenia; body fat; weight gain  \n",
       "EGF                                          0  \n",
       "MIR128-2                                     0  \n",
       "HLA-J                                        0  \n",
       "LSAMP                                        0  \n",
       "KIAA0895                                     0  \n",
       "\n",
       "[5 rows x 15522 columns]"
      ]
     },
     "execution_count": 16,
     "metadata": {},
     "output_type": "execute_result"
    }
   ],
   "source": [
    "binary_matrix.head()"
   ]
  },
  {
   "cell_type": "code",
   "execution_count": 17,
   "metadata": {},
   "outputs": [
    {
     "data": {
      "text/plain": [
       "(14107, 15522)"
      ]
     },
     "execution_count": 17,
     "metadata": {},
     "output_type": "execute_result"
    }
   ],
   "source": [
    "binary_matrix.shape"
   ]
  },
  {
   "cell_type": "markdown",
   "metadata": {},
   "source": [
    "# Save Binary Matrix"
   ]
  },
  {
   "cell_type": "code",
   "execution_count": 18,
   "metadata": {},
   "outputs": [],
   "source": [
    "filename = '~/./Documents/Harmonizome/GAD/Output/gad_binary_matrix_%s.tsv.zip'% str(datetime.date.today())[0:7].replace('-', '_')\n",
    "binary_matrix.to_csv(filename, sep='\\t', compression='gzip')"
   ]
  },
  {
   "cell_type": "markdown",
   "metadata": {},
   "source": [
    "# Create Gene Set Library"
   ]
  },
  {
   "cell_type": "code",
   "execution_count": 19,
   "metadata": {
    "collapsed": true
   },
   "outputs": [],
   "source": [
    "path = '/Users/moshesilverstein/Documents/Harmonizome/GAD/Output/'"
   ]
  },
  {
   "cell_type": "code",
   "execution_count": 20,
   "metadata": {
    "collapsed": true
   },
   "outputs": [],
   "source": [
    "name = 'gad_gene_set'"
   ]
  },
  {
   "cell_type": "code",
   "execution_count": 21,
   "metadata": {},
   "outputs": [
    {
     "name": "stdout",
     "output_type": "stream",
     "text": [
      "Progeres: 100%  15522 Out of 15522   \r"
     ]
    }
   ],
   "source": [
    "mf.createUpGeneSetLib(binary_matrix, path, name)"
   ]
  },
  {
   "cell_type": "markdown",
   "metadata": {},
   "source": [
    "# Create Attribute Library"
   ]
  },
  {
   "cell_type": "code",
   "execution_count": 22,
   "metadata": {
    "collapsed": true
   },
   "outputs": [],
   "source": [
    "path = '/Users/moshesilverstein/Documents/Harmonizome/GAD/Output/'"
   ]
  },
  {
   "cell_type": "code",
   "execution_count": 23,
   "metadata": {
    "collapsed": true
   },
   "outputs": [],
   "source": [
    "name = 'gad_attribute_set'"
   ]
  },
  {
   "cell_type": "code",
   "execution_count": 24,
   "metadata": {},
   "outputs": [
    {
     "name": "stdout",
     "output_type": "stream",
     "text": [
      "Progeres: 100%  14107 Out of 14107   \r"
     ]
    }
   ],
   "source": [
    "mf.createUpAttributeSetLib(binary_matrix, path, name)"
   ]
  },
  {
   "cell_type": "markdown",
   "metadata": {},
   "source": [
    "# Create Gene Similarity Matrix"
   ]
  },
  {
   "cell_type": "code",
   "execution_count": 25,
   "metadata": {
    "collapsed": true
   },
   "outputs": [],
   "source": [
    "gene_similarity_matix = mf.createSimilarityMatrix(binary_matrix, 'jaccard')"
   ]
  },
  {
   "cell_type": "code",
   "execution_count": 26,
   "metadata": {},
   "outputs": [
    {
     "data": {
      "text/html": [
       "<div>\n",
       "<table border=\"1\" class=\"dataframe\">\n",
       "  <thead>\n",
       "    <tr style=\"text-align: right;\">\n",
       "      <th></th>\n",
       "      <th>EGF</th>\n",
       "      <th>MIR128-2</th>\n",
       "      <th>HLA-J</th>\n",
       "      <th>LSAMP</th>\n",
       "      <th>KIAA0895</th>\n",
       "      <th>TNFSF9</th>\n",
       "      <th>KCNIP2</th>\n",
       "      <th>FAT1P1</th>\n",
       "      <th>MYH6</th>\n",
       "      <th>HNF1B</th>\n",
       "      <th>...</th>\n",
       "      <th>PDZD2</th>\n",
       "      <th>SEPT9</th>\n",
       "      <th>GOT2P1</th>\n",
       "      <th>NANOG</th>\n",
       "      <th>FOXD2</th>\n",
       "      <th>MTMR8</th>\n",
       "      <th>HSPA1A</th>\n",
       "      <th>PIGG</th>\n",
       "      <th>PARK7</th>\n",
       "      <th>LILRB4</th>\n",
       "    </tr>\n",
       "  </thead>\n",
       "  <tbody>\n",
       "    <tr>\n",
       "      <th>EGF</th>\n",
       "      <td>1.000000</td>\n",
       "      <td>0.014706</td>\n",
       "      <td>0.0</td>\n",
       "      <td>0.013889</td>\n",
       "      <td>0.0</td>\n",
       "      <td>0.013158</td>\n",
       "      <td>0.0</td>\n",
       "      <td>0.0</td>\n",
       "      <td>0.013889</td>\n",
       "      <td>0.053191</td>\n",
       "      <td>...</td>\n",
       "      <td>0.014085</td>\n",
       "      <td>0.013333</td>\n",
       "      <td>0.0</td>\n",
       "      <td>0.0</td>\n",
       "      <td>0.0</td>\n",
       "      <td>0.0</td>\n",
       "      <td>0.055556</td>\n",
       "      <td>0.014286</td>\n",
       "      <td>0.0</td>\n",
       "      <td>0.0</td>\n",
       "    </tr>\n",
       "    <tr>\n",
       "      <th>MIR128-2</th>\n",
       "      <td>0.014706</td>\n",
       "      <td>1.000000</td>\n",
       "      <td>0.0</td>\n",
       "      <td>0.000000</td>\n",
       "      <td>0.0</td>\n",
       "      <td>0.000000</td>\n",
       "      <td>0.0</td>\n",
       "      <td>0.0</td>\n",
       "      <td>0.000000</td>\n",
       "      <td>0.000000</td>\n",
       "      <td>...</td>\n",
       "      <td>0.000000</td>\n",
       "      <td>0.000000</td>\n",
       "      <td>0.0</td>\n",
       "      <td>0.0</td>\n",
       "      <td>0.0</td>\n",
       "      <td>0.0</td>\n",
       "      <td>0.000000</td>\n",
       "      <td>0.000000</td>\n",
       "      <td>0.0</td>\n",
       "      <td>0.0</td>\n",
       "    </tr>\n",
       "    <tr>\n",
       "      <th>HLA-J</th>\n",
       "      <td>0.000000</td>\n",
       "      <td>0.000000</td>\n",
       "      <td>1.0</td>\n",
       "      <td>0.000000</td>\n",
       "      <td>0.0</td>\n",
       "      <td>0.000000</td>\n",
       "      <td>0.0</td>\n",
       "      <td>0.0</td>\n",
       "      <td>0.000000</td>\n",
       "      <td>0.000000</td>\n",
       "      <td>...</td>\n",
       "      <td>0.000000</td>\n",
       "      <td>0.000000</td>\n",
       "      <td>0.0</td>\n",
       "      <td>0.0</td>\n",
       "      <td>0.0</td>\n",
       "      <td>0.0</td>\n",
       "      <td>0.021739</td>\n",
       "      <td>0.000000</td>\n",
       "      <td>0.0</td>\n",
       "      <td>0.0</td>\n",
       "    </tr>\n",
       "    <tr>\n",
       "      <th>LSAMP</th>\n",
       "      <td>0.013889</td>\n",
       "      <td>0.000000</td>\n",
       "      <td>0.0</td>\n",
       "      <td>1.000000</td>\n",
       "      <td>0.0</td>\n",
       "      <td>0.000000</td>\n",
       "      <td>0.0</td>\n",
       "      <td>0.0</td>\n",
       "      <td>0.000000</td>\n",
       "      <td>0.028571</td>\n",
       "      <td>...</td>\n",
       "      <td>0.125000</td>\n",
       "      <td>0.000000</td>\n",
       "      <td>0.0</td>\n",
       "      <td>0.0</td>\n",
       "      <td>0.0</td>\n",
       "      <td>0.0</td>\n",
       "      <td>0.000000</td>\n",
       "      <td>0.000000</td>\n",
       "      <td>0.0</td>\n",
       "      <td>0.0</td>\n",
       "    </tr>\n",
       "    <tr>\n",
       "      <th>KIAA0895</th>\n",
       "      <td>0.000000</td>\n",
       "      <td>0.000000</td>\n",
       "      <td>0.0</td>\n",
       "      <td>0.000000</td>\n",
       "      <td>1.0</td>\n",
       "      <td>0.000000</td>\n",
       "      <td>0.0</td>\n",
       "      <td>0.0</td>\n",
       "      <td>0.000000</td>\n",
       "      <td>0.000000</td>\n",
       "      <td>...</td>\n",
       "      <td>0.000000</td>\n",
       "      <td>0.000000</td>\n",
       "      <td>0.0</td>\n",
       "      <td>0.0</td>\n",
       "      <td>0.0</td>\n",
       "      <td>0.0</td>\n",
       "      <td>0.000000</td>\n",
       "      <td>0.000000</td>\n",
       "      <td>0.0</td>\n",
       "      <td>0.0</td>\n",
       "    </tr>\n",
       "  </tbody>\n",
       "</table>\n",
       "<p>5 rows × 14107 columns</p>\n",
       "</div>"
      ],
      "text/plain": [
       "               EGF  MIR128-2  HLA-J     LSAMP  KIAA0895    TNFSF9  KCNIP2  \\\n",
       "EGF       1.000000  0.014706    0.0  0.013889       0.0  0.013158     0.0   \n",
       "MIR128-2  0.014706  1.000000    0.0  0.000000       0.0  0.000000     0.0   \n",
       "HLA-J     0.000000  0.000000    1.0  0.000000       0.0  0.000000     0.0   \n",
       "LSAMP     0.013889  0.000000    0.0  1.000000       0.0  0.000000     0.0   \n",
       "KIAA0895  0.000000  0.000000    0.0  0.000000       1.0  0.000000     0.0   \n",
       "\n",
       "          FAT1P1      MYH6     HNF1B   ...       PDZD2     SEPT9  GOT2P1  \\\n",
       "EGF          0.0  0.013889  0.053191   ...    0.014085  0.013333     0.0   \n",
       "MIR128-2     0.0  0.000000  0.000000   ...    0.000000  0.000000     0.0   \n",
       "HLA-J        0.0  0.000000  0.000000   ...    0.000000  0.000000     0.0   \n",
       "LSAMP        0.0  0.000000  0.028571   ...    0.125000  0.000000     0.0   \n",
       "KIAA0895     0.0  0.000000  0.000000   ...    0.000000  0.000000     0.0   \n",
       "\n",
       "          NANOG  FOXD2  MTMR8    HSPA1A      PIGG  PARK7  LILRB4  \n",
       "EGF         0.0    0.0    0.0  0.055556  0.014286    0.0     0.0  \n",
       "MIR128-2    0.0    0.0    0.0  0.000000  0.000000    0.0     0.0  \n",
       "HLA-J       0.0    0.0    0.0  0.021739  0.000000    0.0     0.0  \n",
       "LSAMP       0.0    0.0    0.0  0.000000  0.000000    0.0     0.0  \n",
       "KIAA0895    0.0    0.0    0.0  0.000000  0.000000    0.0     0.0  \n",
       "\n",
       "[5 rows x 14107 columns]"
      ]
     },
     "execution_count": 26,
     "metadata": {},
     "output_type": "execute_result"
    }
   ],
   "source": [
    "gene_similarity_matix.head()"
   ]
  },
  {
   "cell_type": "markdown",
   "metadata": {},
   "source": [
    "# Save Gene Similarity Matrix"
   ]
  },
  {
   "cell_type": "code",
   "execution_count": 27,
   "metadata": {
    "collapsed": true
   },
   "outputs": [],
   "source": [
    "filename = '~/./Documents/Harmonizome/GAD/Output/gad_gene_similarity_matix_%s.tsv.zip'% str(datetime.date.today())[0:7].replace('-', '_')\n",
    "gene_similarity_matix.to_csv(filename, sep='\\t', compression='gzip')"
   ]
  },
  {
   "cell_type": "markdown",
   "metadata": {},
   "source": [
    "# Create Attribute Similarity matrix"
   ]
  },
  {
   "cell_type": "code",
   "execution_count": 28,
   "metadata": {
    "collapsed": true
   },
   "outputs": [],
   "source": [
    "attribute_similarity_matix = mf.createSimilarityMatrix(binary_matrix.T, 'jaccard')"
   ]
  },
  {
   "cell_type": "code",
   "execution_count": 29,
   "metadata": {},
   "outputs": [
    {
     "data": {
      "text/html": [
       "<div>\n",
       "<table border=\"1\" class=\"dataframe\">\n",
       "  <thead>\n",
       "    <tr style=\"text-align: right;\">\n",
       "      <th></th>\n",
       "      <th>Renal cell carcinoma</th>\n",
       "      <th>congenital goiter and defective TG synthesis.</th>\n",
       "      <th>diabetes, type 2; hypertension; glucose tolerance</th>\n",
       "      <th>carotid artery atherosclerosis</th>\n",
       "      <th>Crohn Disease|Inflammatory Bowel Diseases</th>\n",
       "      <th>blood pressure; left ventricular mass; atherosclerosis, carotid</th>\n",
       "      <th>Body Weight|Hypertension|Insulin Resistance|Obesity</th>\n",
       "      <th>myocardial infarction; folate; homocysteine</th>\n",
       "      <th>side-effects of clozapine</th>\n",
       "      <th>Coronary Restenosis|Recurrence</th>\n",
       "      <th>...</th>\n",
       "      <th>Chronic renal failure|Hypertension|Kidney Failure, Chronic|Nephrosclerosis</th>\n",
       "      <th>Adenoma|Colonic Neoplasms|Colonic Polyps|Neoplasm Recurrence, Local</th>\n",
       "      <th>myocardial infarct; C-reactive protein; stroke, ischemic</th>\n",
       "      <th>Alopecia Areata|</th>\n",
       "      <th>retinopathy, diabetic; nephropathy in other diseases; neuropathy</th>\n",
       "      <th>obesity; bulimia nervosa</th>\n",
       "      <th>Bloom syndrome; Fanconi's anemia</th>\n",
       "      <th>Language Development Disorders|Mental Retardation</th>\n",
       "      <th>Graves disease</th>\n",
       "      <th>schizophrenia; body fat; weight gain</th>\n",
       "    </tr>\n",
       "  </thead>\n",
       "  <tbody>\n",
       "    <tr>\n",
       "      <th>Renal cell carcinoma</th>\n",
       "      <td>1.0</td>\n",
       "      <td>0.0</td>\n",
       "      <td>0.0</td>\n",
       "      <td>0.0</td>\n",
       "      <td>0.0</td>\n",
       "      <td>0.0</td>\n",
       "      <td>0.0</td>\n",
       "      <td>0.0</td>\n",
       "      <td>0.0</td>\n",
       "      <td>0.0</td>\n",
       "      <td>...</td>\n",
       "      <td>0.0</td>\n",
       "      <td>0.0</td>\n",
       "      <td>0.0</td>\n",
       "      <td>0.0</td>\n",
       "      <td>0.0</td>\n",
       "      <td>0.0</td>\n",
       "      <td>0.0</td>\n",
       "      <td>0.0</td>\n",
       "      <td>0.00000</td>\n",
       "      <td>0.0</td>\n",
       "    </tr>\n",
       "    <tr>\n",
       "      <th>congenital goiter and defective TG synthesis.</th>\n",
       "      <td>0.0</td>\n",
       "      <td>1.0</td>\n",
       "      <td>0.0</td>\n",
       "      <td>0.0</td>\n",
       "      <td>0.0</td>\n",
       "      <td>0.0</td>\n",
       "      <td>0.0</td>\n",
       "      <td>0.0</td>\n",
       "      <td>0.0</td>\n",
       "      <td>0.0</td>\n",
       "      <td>...</td>\n",
       "      <td>0.0</td>\n",
       "      <td>0.0</td>\n",
       "      <td>0.0</td>\n",
       "      <td>0.0</td>\n",
       "      <td>0.0</td>\n",
       "      <td>0.0</td>\n",
       "      <td>0.0</td>\n",
       "      <td>0.0</td>\n",
       "      <td>0.02439</td>\n",
       "      <td>0.0</td>\n",
       "    </tr>\n",
       "    <tr>\n",
       "      <th>diabetes, type 2; hypertension; glucose tolerance</th>\n",
       "      <td>0.0</td>\n",
       "      <td>0.0</td>\n",
       "      <td>1.0</td>\n",
       "      <td>0.0</td>\n",
       "      <td>0.0</td>\n",
       "      <td>0.0</td>\n",
       "      <td>0.0</td>\n",
       "      <td>0.0</td>\n",
       "      <td>0.0</td>\n",
       "      <td>0.0</td>\n",
       "      <td>...</td>\n",
       "      <td>0.0</td>\n",
       "      <td>0.0</td>\n",
       "      <td>0.0</td>\n",
       "      <td>0.0</td>\n",
       "      <td>0.0</td>\n",
       "      <td>0.0</td>\n",
       "      <td>0.0</td>\n",
       "      <td>0.0</td>\n",
       "      <td>0.00000</td>\n",
       "      <td>0.0</td>\n",
       "    </tr>\n",
       "    <tr>\n",
       "      <th>carotid artery atherosclerosis</th>\n",
       "      <td>0.0</td>\n",
       "      <td>0.0</td>\n",
       "      <td>0.0</td>\n",
       "      <td>1.0</td>\n",
       "      <td>0.0</td>\n",
       "      <td>0.0</td>\n",
       "      <td>0.0</td>\n",
       "      <td>0.0</td>\n",
       "      <td>0.0</td>\n",
       "      <td>0.0</td>\n",
       "      <td>...</td>\n",
       "      <td>0.0</td>\n",
       "      <td>0.0</td>\n",
       "      <td>0.0</td>\n",
       "      <td>0.0</td>\n",
       "      <td>0.0</td>\n",
       "      <td>0.0</td>\n",
       "      <td>0.0</td>\n",
       "      <td>0.0</td>\n",
       "      <td>0.00000</td>\n",
       "      <td>0.0</td>\n",
       "    </tr>\n",
       "    <tr>\n",
       "      <th>Crohn Disease|Inflammatory Bowel Diseases</th>\n",
       "      <td>0.0</td>\n",
       "      <td>0.0</td>\n",
       "      <td>0.0</td>\n",
       "      <td>0.0</td>\n",
       "      <td>1.0</td>\n",
       "      <td>0.0</td>\n",
       "      <td>0.0</td>\n",
       "      <td>0.0</td>\n",
       "      <td>0.0</td>\n",
       "      <td>0.0</td>\n",
       "      <td>...</td>\n",
       "      <td>0.0</td>\n",
       "      <td>0.0</td>\n",
       "      <td>0.0</td>\n",
       "      <td>0.0</td>\n",
       "      <td>0.0</td>\n",
       "      <td>0.0</td>\n",
       "      <td>0.0</td>\n",
       "      <td>0.0</td>\n",
       "      <td>0.00000</td>\n",
       "      <td>0.0</td>\n",
       "    </tr>\n",
       "  </tbody>\n",
       "</table>\n",
       "<p>5 rows × 15522 columns</p>\n",
       "</div>"
      ],
      "text/plain": [
       "                                                   Renal cell carcinoma  \\\n",
       "Renal cell carcinoma                                                1.0   \n",
       "congenital goiter and defective TG synthesis.                       0.0   \n",
       "diabetes, type 2; hypertension; glucose tolerance                   0.0   \n",
       "carotid artery atherosclerosis                                      0.0   \n",
       "Crohn Disease|Inflammatory Bowel Diseases                           0.0   \n",
       "\n",
       "                                                   congenital goiter and defective TG synthesis.  \\\n",
       "Renal cell carcinoma                                                                         0.0   \n",
       "congenital goiter and defective TG synthesis.                                                1.0   \n",
       "diabetes, type 2; hypertension; glucose tolerance                                            0.0   \n",
       "carotid artery atherosclerosis                                                               0.0   \n",
       "Crohn Disease|Inflammatory Bowel Diseases                                                    0.0   \n",
       "\n",
       "                                                   diabetes, type 2; hypertension; glucose tolerance  \\\n",
       "Renal cell carcinoma                                                                             0.0   \n",
       "congenital goiter and defective TG synthesis.                                                    0.0   \n",
       "diabetes, type 2; hypertension; glucose tolerance                                                1.0   \n",
       "carotid artery atherosclerosis                                                                   0.0   \n",
       "Crohn Disease|Inflammatory Bowel Diseases                                                        0.0   \n",
       "\n",
       "                                                   carotid artery atherosclerosis  \\\n",
       "Renal cell carcinoma                                                          0.0   \n",
       "congenital goiter and defective TG synthesis.                                 0.0   \n",
       "diabetes, type 2; hypertension; glucose tolerance                             0.0   \n",
       "carotid artery atherosclerosis                                                1.0   \n",
       "Crohn Disease|Inflammatory Bowel Diseases                                     0.0   \n",
       "\n",
       "                                                   Crohn Disease|Inflammatory Bowel Diseases  \\\n",
       "Renal cell carcinoma                                                                     0.0   \n",
       "congenital goiter and defective TG synthesis.                                            0.0   \n",
       "diabetes, type 2; hypertension; glucose tolerance                                        0.0   \n",
       "carotid artery atherosclerosis                                                           0.0   \n",
       "Crohn Disease|Inflammatory Bowel Diseases                                                1.0   \n",
       "\n",
       "                                                   blood pressure; left ventricular mass; atherosclerosis, carotid  \\\n",
       "Renal cell carcinoma                                                                             0.0                 \n",
       "congenital goiter and defective TG synthesis.                                                    0.0                 \n",
       "diabetes, type 2; hypertension; glucose tolerance                                                0.0                 \n",
       "carotid artery atherosclerosis                                                                   0.0                 \n",
       "Crohn Disease|Inflammatory Bowel Diseases                                                        0.0                 \n",
       "\n",
       "                                                   Body Weight|Hypertension|Insulin Resistance|Obesity  \\\n",
       "Renal cell carcinoma                                                                             0.0     \n",
       "congenital goiter and defective TG synthesis.                                                    0.0     \n",
       "diabetes, type 2; hypertension; glucose tolerance                                                0.0     \n",
       "carotid artery atherosclerosis                                                                   0.0     \n",
       "Crohn Disease|Inflammatory Bowel Diseases                                                        0.0     \n",
       "\n",
       "                                                   myocardial infarction; folate; homocysteine  \\\n",
       "Renal cell carcinoma                                                                       0.0   \n",
       "congenital goiter and defective TG synthesis.                                              0.0   \n",
       "diabetes, type 2; hypertension; glucose tolerance                                          0.0   \n",
       "carotid artery atherosclerosis                                                             0.0   \n",
       "Crohn Disease|Inflammatory Bowel Diseases                                                  0.0   \n",
       "\n",
       "                                                   side-effects of clozapine  \\\n",
       "Renal cell carcinoma                                                     0.0   \n",
       "congenital goiter and defective TG synthesis.                            0.0   \n",
       "diabetes, type 2; hypertension; glucose tolerance                        0.0   \n",
       "carotid artery atherosclerosis                                           0.0   \n",
       "Crohn Disease|Inflammatory Bowel Diseases                                0.0   \n",
       "\n",
       "                                                   Coronary Restenosis|Recurrence  \\\n",
       "Renal cell carcinoma                                                          0.0   \n",
       "congenital goiter and defective TG synthesis.                                 0.0   \n",
       "diabetes, type 2; hypertension; glucose tolerance                             0.0   \n",
       "carotid artery atherosclerosis                                                0.0   \n",
       "Crohn Disease|Inflammatory Bowel Diseases                                     0.0   \n",
       "\n",
       "                                                                   ...                   \\\n",
       "Renal cell carcinoma                                               ...                    \n",
       "congenital goiter and defective TG synthesis.                      ...                    \n",
       "diabetes, type 2; hypertension; glucose tolerance                  ...                    \n",
       "carotid artery atherosclerosis                                     ...                    \n",
       "Crohn Disease|Inflammatory Bowel Diseases                          ...                    \n",
       "\n",
       "                                                   Chronic renal failure|Hypertension|Kidney Failure, Chronic|Nephrosclerosis  \\\n",
       "Renal cell carcinoma                                                                             0.0                            \n",
       "congenital goiter and defective TG synthesis.                                                    0.0                            \n",
       "diabetes, type 2; hypertension; glucose tolerance                                                0.0                            \n",
       "carotid artery atherosclerosis                                                                   0.0                            \n",
       "Crohn Disease|Inflammatory Bowel Diseases                                                        0.0                            \n",
       "\n",
       "                                                   Adenoma|Colonic Neoplasms|Colonic Polyps|Neoplasm Recurrence, Local  \\\n",
       "Renal cell carcinoma                                                                             0.0                     \n",
       "congenital goiter and defective TG synthesis.                                                    0.0                     \n",
       "diabetes, type 2; hypertension; glucose tolerance                                                0.0                     \n",
       "carotid artery atherosclerosis                                                                   0.0                     \n",
       "Crohn Disease|Inflammatory Bowel Diseases                                                        0.0                     \n",
       "\n",
       "                                                   myocardial infarct; C-reactive protein; stroke, ischemic  \\\n",
       "Renal cell carcinoma                                                                             0.0          \n",
       "congenital goiter and defective TG synthesis.                                                    0.0          \n",
       "diabetes, type 2; hypertension; glucose tolerance                                                0.0          \n",
       "carotid artery atherosclerosis                                                                   0.0          \n",
       "Crohn Disease|Inflammatory Bowel Diseases                                                        0.0          \n",
       "\n",
       "                                                   Alopecia Areata|  \\\n",
       "Renal cell carcinoma                                            0.0   \n",
       "congenital goiter and defective TG synthesis.                   0.0   \n",
       "diabetes, type 2; hypertension; glucose tolerance               0.0   \n",
       "carotid artery atherosclerosis                                  0.0   \n",
       "Crohn Disease|Inflammatory Bowel Diseases                       0.0   \n",
       "\n",
       "                                                   retinopathy, diabetic; nephropathy in other diseases; neuropathy  \\\n",
       "Renal cell carcinoma                                                                             0.0                  \n",
       "congenital goiter and defective TG synthesis.                                                    0.0                  \n",
       "diabetes, type 2; hypertension; glucose tolerance                                                0.0                  \n",
       "carotid artery atherosclerosis                                                                   0.0                  \n",
       "Crohn Disease|Inflammatory Bowel Diseases                                                        0.0                  \n",
       "\n",
       "                                                   obesity; bulimia nervosa  \\\n",
       "Renal cell carcinoma                                                    0.0   \n",
       "congenital goiter and defective TG synthesis.                           0.0   \n",
       "diabetes, type 2; hypertension; glucose tolerance                       0.0   \n",
       "carotid artery atherosclerosis                                          0.0   \n",
       "Crohn Disease|Inflammatory Bowel Diseases                               0.0   \n",
       "\n",
       "                                                   Bloom syndrome; Fanconi's anemia  \\\n",
       "Renal cell carcinoma                                                            0.0   \n",
       "congenital goiter and defective TG synthesis.                                   0.0   \n",
       "diabetes, type 2; hypertension; glucose tolerance                               0.0   \n",
       "carotid artery atherosclerosis                                                  0.0   \n",
       "Crohn Disease|Inflammatory Bowel Diseases                                       0.0   \n",
       "\n",
       "                                                   Language Development Disorders|Mental Retardation  \\\n",
       "Renal cell carcinoma                                                                             0.0   \n",
       "congenital goiter and defective TG synthesis.                                                    0.0   \n",
       "diabetes, type 2; hypertension; glucose tolerance                                                0.0   \n",
       "carotid artery atherosclerosis                                                                   0.0   \n",
       "Crohn Disease|Inflammatory Bowel Diseases                                                        0.0   \n",
       "\n",
       "                                                   Graves disease  \\\n",
       "Renal cell carcinoma                                      0.00000   \n",
       "congenital goiter and defective TG synthesis.             0.02439   \n",
       "diabetes, type 2; hypertension; glucose tolerance         0.00000   \n",
       "carotid artery atherosclerosis                            0.00000   \n",
       "Crohn Disease|Inflammatory Bowel Diseases                 0.00000   \n",
       "\n",
       "                                                   schizophrenia; body fat; weight gain  \n",
       "Renal cell carcinoma                                                                0.0  \n",
       "congenital goiter and defective TG synthesis.                                       0.0  \n",
       "diabetes, type 2; hypertension; glucose tolerance                                   0.0  \n",
       "carotid artery atherosclerosis                                                      0.0  \n",
       "Crohn Disease|Inflammatory Bowel Diseases                                           0.0  \n",
       "\n",
       "[5 rows x 15522 columns]"
      ]
     },
     "execution_count": 29,
     "metadata": {},
     "output_type": "execute_result"
    }
   ],
   "source": [
    "attribute_similarity_matix.head()"
   ]
  },
  {
   "cell_type": "markdown",
   "metadata": {},
   "source": [
    "# Save Attribute Similarity Matrix"
   ]
  },
  {
   "cell_type": "code",
   "execution_count": 30,
   "metadata": {
    "collapsed": true
   },
   "outputs": [],
   "source": [
    "filename = '~/./Documents/Harmonizome/GAD/Output/gad_attribute_similarity_matix_%s.tsv.zip'% str(datetime.date.today())[0:7].replace('-', '_')\n",
    "attribute_similarity_matix.to_csv(filename, sep='\\t', compression='gzip')"
   ]
  },
  {
   "cell_type": "markdown",
   "metadata": {},
   "source": [
    "# Create Gene List"
   ]
  },
  {
   "cell_type": "code",
   "execution_count": 31,
   "metadata": {},
   "outputs": [
    {
     "name": "stdout",
     "output_type": "stream",
     "text": [
      "Progeres: 100%  14107 Out of 14107   \r"
     ]
    }
   ],
   "source": [
    "gene_list = mf.createGeneList(binary_matrix)"
   ]
  },
  {
   "cell_type": "code",
   "execution_count": 32,
   "metadata": {},
   "outputs": [
    {
     "data": {
      "text/html": [
       "<div>\n",
       "<table border=\"1\" class=\"dataframe\">\n",
       "  <thead>\n",
       "    <tr style=\"text-align: right;\">\n",
       "      <th></th>\n",
       "      <th>GeneSym</th>\n",
       "      <th>GeneID</th>\n",
       "    </tr>\n",
       "  </thead>\n",
       "  <tbody>\n",
       "    <tr>\n",
       "      <th>0</th>\n",
       "      <td>EGF</td>\n",
       "      <td>1950</td>\n",
       "    </tr>\n",
       "    <tr>\n",
       "      <th>1</th>\n",
       "      <td>MIR128-2</td>\n",
       "      <td>406916</td>\n",
       "    </tr>\n",
       "    <tr>\n",
       "      <th>2</th>\n",
       "      <td>HLA-J</td>\n",
       "      <td>3137</td>\n",
       "    </tr>\n",
       "    <tr>\n",
       "      <th>3</th>\n",
       "      <td>LSAMP</td>\n",
       "      <td>4045</td>\n",
       "    </tr>\n",
       "    <tr>\n",
       "      <th>4</th>\n",
       "      <td>KIAA0895</td>\n",
       "      <td>23366</td>\n",
       "    </tr>\n",
       "  </tbody>\n",
       "</table>\n",
       "</div>"
      ],
      "text/plain": [
       "    GeneSym  GeneID\n",
       "0       EGF    1950\n",
       "1  MIR128-2  406916\n",
       "2     HLA-J    3137\n",
       "3     LSAMP    4045\n",
       "4  KIAA0895   23366"
      ]
     },
     "execution_count": 32,
     "metadata": {},
     "output_type": "execute_result"
    }
   ],
   "source": [
    "gene_list.head()"
   ]
  },
  {
   "cell_type": "code",
   "execution_count": 33,
   "metadata": {},
   "outputs": [
    {
     "data": {
      "text/plain": [
       "(14107, 2)"
      ]
     },
     "execution_count": 33,
     "metadata": {},
     "output_type": "execute_result"
    }
   ],
   "source": [
    "gene_list.shape"
   ]
  },
  {
   "cell_type": "markdown",
   "metadata": {},
   "source": [
    "# Save Gene List"
   ]
  },
  {
   "cell_type": "code",
   "execution_count": 34,
   "metadata": {
    "collapsed": true
   },
   "outputs": [],
   "source": [
    "filename = '~/./Documents/Harmonizome/GAD/Output/gad_gene_list_%s.tsv.zip'% str(datetime.date.today())[0:7].replace('-', '_')\n",
    "gene_list.to_csv(filename, sep='\\t', index=False, compression='gzip')"
   ]
  },
  {
   "cell_type": "markdown",
   "metadata": {},
   "source": [
    "# Create Attribute List"
   ]
  },
  {
   "cell_type": "code",
   "execution_count": 35,
   "metadata": {
    "collapsed": true
   },
   "outputs": [],
   "source": [
    "attribute_list = mf.createAttributeList(binary_matrix)"
   ]
  },
  {
   "cell_type": "code",
   "execution_count": 36,
   "metadata": {},
   "outputs": [
    {
     "data": {
      "text/html": [
       "<div>\n",
       "<table border=\"1\" class=\"dataframe\">\n",
       "  <thead>\n",
       "    <tr style=\"text-align: right;\">\n",
       "      <th></th>\n",
       "      <th>Attributes</th>\n",
       "    </tr>\n",
       "  </thead>\n",
       "  <tbody>\n",
       "    <tr>\n",
       "      <th>0</th>\n",
       "      <td>Renal cell carcinoma</td>\n",
       "    </tr>\n",
       "    <tr>\n",
       "      <th>1</th>\n",
       "      <td>congenital goiter and defective TG synthesis.</td>\n",
       "    </tr>\n",
       "    <tr>\n",
       "      <th>2</th>\n",
       "      <td>diabetes, type 2; hypertension; glucose tolerance</td>\n",
       "    </tr>\n",
       "    <tr>\n",
       "      <th>3</th>\n",
       "      <td>carotid artery atherosclerosis</td>\n",
       "    </tr>\n",
       "    <tr>\n",
       "      <th>4</th>\n",
       "      <td>Crohn Disease|Inflammatory Bowel Diseases</td>\n",
       "    </tr>\n",
       "  </tbody>\n",
       "</table>\n",
       "</div>"
      ],
      "text/plain": [
       "                                          Attributes\n",
       "0                               Renal cell carcinoma\n",
       "1      congenital goiter and defective TG synthesis.\n",
       "2  diabetes, type 2; hypertension; glucose tolerance\n",
       "3                     carotid artery atherosclerosis\n",
       "4          Crohn Disease|Inflammatory Bowel Diseases"
      ]
     },
     "execution_count": 36,
     "metadata": {},
     "output_type": "execute_result"
    }
   ],
   "source": [
    "attribute_list.head()"
   ]
  },
  {
   "cell_type": "code",
   "execution_count": 37,
   "metadata": {},
   "outputs": [
    {
     "data": {
      "text/plain": [
       "(15522, 1)"
      ]
     },
     "execution_count": 37,
     "metadata": {},
     "output_type": "execute_result"
    }
   ],
   "source": [
    "attribute_list.shape"
   ]
  },
  {
   "cell_type": "markdown",
   "metadata": {},
   "source": [
    "# Save Attribute List"
   ]
  },
  {
   "cell_type": "code",
   "execution_count": 38,
   "metadata": {
    "collapsed": true
   },
   "outputs": [],
   "source": [
    "filename = '~/./Documents/Harmonizome/GAD/Output/gad_attribute_list_%s.tsv.zip'% str(datetime.date.today())[0:7].replace('-', '_')\n",
    "attribute_list.to_csv(filename, sep='\\t', index=False, compression='gzip')"
   ]
  },
  {
   "cell_type": "markdown",
   "metadata": {},
   "source": [
    "# Create Gene-Attribute Edge List"
   ]
  },
  {
   "cell_type": "code",
   "execution_count": 39,
   "metadata": {
    "collapsed": true
   },
   "outputs": [],
   "source": [
    "path = '/Users/moshesilverstein/Documents/Harmonizome/GAD/Output/'"
   ]
  },
  {
   "cell_type": "code",
   "execution_count": 40,
   "metadata": {
    "collapsed": true
   },
   "outputs": [],
   "source": [
    "name = 'gad_gene_attribute_edge_list'"
   ]
  },
  {
   "cell_type": "code",
   "execution_count": 41,
   "metadata": {},
   "outputs": [
    {
     "name": "stdout",
     "output_type": "stream",
     "text": [
      "Progeres: 100%  15522 Out of 15522   \n",
      "\n",
      " The number of statisticaly relevent gene-attribute associations is: 109097\n"
     ]
    }
   ],
   "source": [
    "mf.createGeneAttributeEdgeList(binary_matrix, gene_list, path, name)"
   ]
  }
 ],
 "metadata": {
  "kernelspec": {
   "display_name": "Python [default]",
   "language": "python",
   "name": "python3"
  },
  "language_info": {
   "codemirror_mode": {
    "name": "ipython",
    "version": 3
   },
   "file_extension": ".py",
   "mimetype": "text/x-python",
   "name": "python",
   "nbconvert_exporter": "python",
   "pygments_lexer": "ipython3",
   "version": "3.5.2"
  }
 },
 "nbformat": 4,
 "nbformat_minor": 2
}
