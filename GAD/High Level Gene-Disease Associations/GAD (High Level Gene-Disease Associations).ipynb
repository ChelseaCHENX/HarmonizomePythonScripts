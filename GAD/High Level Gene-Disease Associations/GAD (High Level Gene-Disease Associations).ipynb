{
 "cells": [
  {
   "cell_type": "markdown",
   "metadata": {},
   "source": [
    "# GAD (High Level Gene-Disease Associations)"
   ]
  },
  {
   "cell_type": "markdown",
   "metadata": {},
   "source": [
    "Author: Moshe Silverstein <br/>\n",
    "Date: 8-17 <br/>\n",
    "Data Source: https://geneticassociationdb.nih.gov/"
   ]
  },
  {
   "cell_type": "code",
   "execution_count": 1,
   "metadata": {
    "collapsed": true
   },
   "outputs": [],
   "source": [
    "import sys, datetime, os\n",
    "import numpy as np\n",
    "import pandas as pd\n",
    "import importlib\n",
    "import untility_functions as uf\n",
    "%matplotlib inline"
   ]
  },
  {
   "cell_type": "code",
   "execution_count": 2,
   "metadata": {},
   "outputs": [
    {
     "data": {
      "text/plain": [
       "<module 'untility_functions' from '/Users/moshesilverstein/Documents/Harmonizome/GAD/untility_functions.py'>"
      ]
     },
     "execution_count": 2,
     "metadata": {},
     "output_type": "execute_result"
    }
   ],
   "source": [
    "importlib.reload(uf)"
   ]
  },
  {
   "cell_type": "markdown",
   "metadata": {},
   "source": [
    "# Load Data"
   ]
  },
  {
   "cell_type": "code",
   "execution_count": 3,
   "metadata": {
    "collapsed": true
   },
   "outputs": [],
   "source": [
    "df = pd.read_csv('Input/data/GADCDC/GADCDC_data.zip', sep='\\t', low_memory=False)"
   ]
  },
  {
   "cell_type": "code",
   "execution_count": 4,
   "metadata": {},
   "outputs": [
    {
     "data": {
      "text/html": [
       "<div>\n",
       "<table border=\"1\" class=\"dataframe\">\n",
       "  <thead>\n",
       "    <tr style=\"text-align: right;\">\n",
       "      <th></th>\n",
       "      <th>ID</th>\n",
       "      <th>ALTNAME</th>\n",
       "      <th>DISEASE</th>\n",
       "      <th>DIS_CLAS</th>\n",
       "      <th>CH_BAND</th>\n",
       "      <th>GENE</th>\n",
       "      <th>DNAPOST</th>\n",
       "      <th>P_VALUE</th>\n",
       "      <th>REFERENC</th>\n",
       "      <th>PUBMEDID</th>\n",
       "      <th>...</th>\n",
       "      <th>I_CHECK</th>\n",
       "      <th>UCSC</th>\n",
       "      <th>CHECKED</th>\n",
       "      <th>IPADDR</th>\n",
       "      <th>CNV</th>\n",
       "      <th>GEOLOC</th>\n",
       "      <th>MESHDIS</th>\n",
       "      <th>ACEVIEW</th>\n",
       "      <th>CTD</th>\n",
       "      <th>SNPEDIA</th>\n",
       "    </tr>\n",
       "  </thead>\n",
       "  <tbody>\n",
       "    <tr>\n",
       "      <th>0</th>\n",
       "      <td>125158</td>\n",
       "      <td>||HLA-A||HLA-H||HLA-J||leukocyte antigen-A*010...</td>\n",
       "      <td>leukemia</td>\n",
       "      <td>CANCER</td>\n",
       "      <td>6p21.3</td>\n",
       "      <td>HLA-A</td>\n",
       "      <td>NaN</td>\n",
       "      <td>NaN</td>\n",
       "      <td>Xiao, W. Y.  et al. 2005</td>\n",
       "      <td>16120569.0</td>\n",
       "      <td>...</td>\n",
       "      <td>NaN</td>\n",
       "      <td>http://genome.ucsc.edu/cgi-bin/hgTracks?org=Hu...</td>\n",
       "      <td>NaN</td>\n",
       "      <td>NaN</td>\n",
       "      <td>http://projects.tcag.ca/variation/search.asp?k...</td>\n",
       "      <td>NaN</td>\n",
       "      <td>NaN</td>\n",
       "      <td>http://www.ncbi.nlm.nih.gov/IEB/Research/Acemb...</td>\n",
       "      <td>http://ctd.mdibl.org/detail.go?type=gene&amp;db=GE...</td>\n",
       "      <td>http://www.snpedia.com/index.php/HLA-A</td>\n",
       "    </tr>\n",
       "    <tr>\n",
       "      <th>1</th>\n",
       "      <td>125159</td>\n",
       "      <td>||HLA-A||HLA-H||HLA-J||leukocyte antigen-A*010...</td>\n",
       "      <td>leukemia</td>\n",
       "      <td>CANCER</td>\n",
       "      <td>6p21.3</td>\n",
       "      <td>HLA-A</td>\n",
       "      <td>NaN</td>\n",
       "      <td>NaN</td>\n",
       "      <td>Zhou, L. X.  et al. 2005</td>\n",
       "      <td>16143070.0</td>\n",
       "      <td>...</td>\n",
       "      <td>NaN</td>\n",
       "      <td>http://genome.ucsc.edu/cgi-bin/hgTracks?org=Hu...</td>\n",
       "      <td>NaN</td>\n",
       "      <td>NaN</td>\n",
       "      <td>http://projects.tcag.ca/variation/search.asp?k...</td>\n",
       "      <td>NaN</td>\n",
       "      <td>NaN</td>\n",
       "      <td>http://www.ncbi.nlm.nih.gov/IEB/Research/Acemb...</td>\n",
       "      <td>http://ctd.mdibl.org/detail.go?type=gene&amp;db=GE...</td>\n",
       "      <td>http://www.snpedia.com/index.php/HLA-A</td>\n",
       "    </tr>\n",
       "    <tr>\n",
       "      <th>2</th>\n",
       "      <td>125160</td>\n",
       "      <td>||HLA-A||HLA-H||HLA-J||leukocyte antigen-A*010...</td>\n",
       "      <td>alopecia areata</td>\n",
       "      <td>IMMUNE</td>\n",
       "      <td>6p21.3</td>\n",
       "      <td>HLA-A</td>\n",
       "      <td>NaN</td>\n",
       "      <td>NaN</td>\n",
       "      <td>Xiao, F. L.  et al. 2005</td>\n",
       "      <td>16185849.0</td>\n",
       "      <td>...</td>\n",
       "      <td>NaN</td>\n",
       "      <td>http://genome.ucsc.edu/cgi-bin/hgTracks?org=Hu...</td>\n",
       "      <td>NaN</td>\n",
       "      <td>NaN</td>\n",
       "      <td>http://projects.tcag.ca/variation/search.asp?k...</td>\n",
       "      <td>NaN</td>\n",
       "      <td>Alopecia Areata</td>\n",
       "      <td>http://www.ncbi.nlm.nih.gov/IEB/Research/Acemb...</td>\n",
       "      <td>http://ctd.mdibl.org/detail.go?type=gene&amp;db=GE...</td>\n",
       "      <td>http://www.snpedia.com/index.php/HLA-A</td>\n",
       "    </tr>\n",
       "    <tr>\n",
       "      <th>3</th>\n",
       "      <td>125155</td>\n",
       "      <td>||HLA-A||HLA-H||HLA-J||leukocyte antigen-A*010...</td>\n",
       "      <td>leukemia</td>\n",
       "      <td>CANCER</td>\n",
       "      <td>6p21.3</td>\n",
       "      <td>HLA-A</td>\n",
       "      <td>NaN</td>\n",
       "      <td>NaN</td>\n",
       "      <td>Kang, L.  et al. 2005</td>\n",
       "      <td>15793795.0</td>\n",
       "      <td>...</td>\n",
       "      <td>NaN</td>\n",
       "      <td>http://genome.ucsc.edu/cgi-bin/hgTracks?org=Hu...</td>\n",
       "      <td>NaN</td>\n",
       "      <td>NaN</td>\n",
       "      <td>http://projects.tcag.ca/variation/search.asp?k...</td>\n",
       "      <td>NaN</td>\n",
       "      <td>NaN</td>\n",
       "      <td>http://www.ncbi.nlm.nih.gov/IEB/Research/Acemb...</td>\n",
       "      <td>http://ctd.mdibl.org/detail.go?type=gene&amp;db=GE...</td>\n",
       "      <td>http://www.snpedia.com/index.php/HLA-A</td>\n",
       "    </tr>\n",
       "    <tr>\n",
       "      <th>4</th>\n",
       "      <td>125157</td>\n",
       "      <td>||HLA-A||HLA-H||HLA-J||leukocyte antigen-A*010...</td>\n",
       "      <td>melanoma</td>\n",
       "      <td>CANCER</td>\n",
       "      <td>6p21.3</td>\n",
       "      <td>HLA-A</td>\n",
       "      <td>NaN</td>\n",
       "      <td>NaN</td>\n",
       "      <td>Spinola, H.  et al. 2005</td>\n",
       "      <td>16101833.0</td>\n",
       "      <td>...</td>\n",
       "      <td>NaN</td>\n",
       "      <td>http://genome.ucsc.edu/cgi-bin/hgTracks?org=Hu...</td>\n",
       "      <td>NaN</td>\n",
       "      <td>NaN</td>\n",
       "      <td>http://projects.tcag.ca/variation/search.asp?k...</td>\n",
       "      <td>NaN</td>\n",
       "      <td>NaN</td>\n",
       "      <td>http://www.ncbi.nlm.nih.gov/IEB/Research/Acemb...</td>\n",
       "      <td>http://ctd.mdibl.org/detail.go?type=gene&amp;db=GE...</td>\n",
       "      <td>http://www.snpedia.com/index.php/HLA-A</td>\n",
       "    </tr>\n",
       "  </tbody>\n",
       "</table>\n",
       "<p>5 rows × 89 columns</p>\n",
       "</div>"
      ],
      "text/plain": [
       "       ID                                            ALTNAME          DISEASE  \\\n",
       "0  125158  ||HLA-A||HLA-H||HLA-J||leukocyte antigen-A*010...         leukemia   \n",
       "1  125159  ||HLA-A||HLA-H||HLA-J||leukocyte antigen-A*010...         leukemia   \n",
       "2  125160  ||HLA-A||HLA-H||HLA-J||leukocyte antigen-A*010...  alopecia areata   \n",
       "3  125155  ||HLA-A||HLA-H||HLA-J||leukocyte antigen-A*010...         leukemia   \n",
       "4  125157  ||HLA-A||HLA-H||HLA-J||leukocyte antigen-A*010...         melanoma   \n",
       "\n",
       "  DIS_CLAS CH_BAND   GENE  DNAPOST P_VALUE                  REFERENC  \\\n",
       "0   CANCER  6p21.3  HLA-A      NaN     NaN  Xiao, W. Y.  et al. 2005   \n",
       "1   CANCER  6p21.3  HLA-A      NaN     NaN  Zhou, L. X.  et al. 2005   \n",
       "2   IMMUNE  6p21.3  HLA-A      NaN     NaN  Xiao, F. L.  et al. 2005   \n",
       "3   CANCER  6p21.3  HLA-A      NaN     NaN     Kang, L.  et al. 2005   \n",
       "4   CANCER  6p21.3  HLA-A      NaN     NaN  Spinola, H.  et al. 2005   \n",
       "\n",
       "     PUBMEDID                   ...                   I_CHECK  \\\n",
       "0  16120569.0                   ...                       NaN   \n",
       "1  16143070.0                   ...                       NaN   \n",
       "2  16185849.0                   ...                       NaN   \n",
       "3  15793795.0                   ...                       NaN   \n",
       "4  16101833.0                   ...                       NaN   \n",
       "\n",
       "                                                UCSC  CHECKED IPADDR  \\\n",
       "0  http://genome.ucsc.edu/cgi-bin/hgTracks?org=Hu...      NaN    NaN   \n",
       "1  http://genome.ucsc.edu/cgi-bin/hgTracks?org=Hu...      NaN    NaN   \n",
       "2  http://genome.ucsc.edu/cgi-bin/hgTracks?org=Hu...      NaN    NaN   \n",
       "3  http://genome.ucsc.edu/cgi-bin/hgTracks?org=Hu...      NaN    NaN   \n",
       "4  http://genome.ucsc.edu/cgi-bin/hgTracks?org=Hu...      NaN    NaN   \n",
       "\n",
       "                                                 CNV GEOLOC          MESHDIS  \\\n",
       "0  http://projects.tcag.ca/variation/search.asp?k...    NaN              NaN   \n",
       "1  http://projects.tcag.ca/variation/search.asp?k...    NaN              NaN   \n",
       "2  http://projects.tcag.ca/variation/search.asp?k...    NaN  Alopecia Areata   \n",
       "3  http://projects.tcag.ca/variation/search.asp?k...    NaN              NaN   \n",
       "4  http://projects.tcag.ca/variation/search.asp?k...    NaN              NaN   \n",
       "\n",
       "                                             ACEVIEW  \\\n",
       "0  http://www.ncbi.nlm.nih.gov/IEB/Research/Acemb...   \n",
       "1  http://www.ncbi.nlm.nih.gov/IEB/Research/Acemb...   \n",
       "2  http://www.ncbi.nlm.nih.gov/IEB/Research/Acemb...   \n",
       "3  http://www.ncbi.nlm.nih.gov/IEB/Research/Acemb...   \n",
       "4  http://www.ncbi.nlm.nih.gov/IEB/Research/Acemb...   \n",
       "\n",
       "                                                 CTD  \\\n",
       "0  http://ctd.mdibl.org/detail.go?type=gene&db=GE...   \n",
       "1  http://ctd.mdibl.org/detail.go?type=gene&db=GE...   \n",
       "2  http://ctd.mdibl.org/detail.go?type=gene&db=GE...   \n",
       "3  http://ctd.mdibl.org/detail.go?type=gene&db=GE...   \n",
       "4  http://ctd.mdibl.org/detail.go?type=gene&db=GE...   \n",
       "\n",
       "                                  SNPEDIA  \n",
       "0  http://www.snpedia.com/index.php/HLA-A  \n",
       "1  http://www.snpedia.com/index.php/HLA-A  \n",
       "2  http://www.snpedia.com/index.php/HLA-A  \n",
       "3  http://www.snpedia.com/index.php/HLA-A  \n",
       "4  http://www.snpedia.com/index.php/HLA-A  \n",
       "\n",
       "[5 rows x 89 columns]"
      ]
     },
     "execution_count": 4,
     "metadata": {},
     "output_type": "execute_result"
    }
   ],
   "source": [
    "df.head()"
   ]
  },
  {
   "cell_type": "code",
   "execution_count": 5,
   "metadata": {},
   "outputs": [
    {
     "data": {
      "text/plain": [
       "(167132, 89)"
      ]
     },
     "execution_count": 5,
     "metadata": {},
     "output_type": "execute_result"
    }
   ],
   "source": [
    "df.shape"
   ]
  },
  {
   "cell_type": "markdown",
   "metadata": {},
   "source": [
    "# Get Relevant Data"
   ]
  },
  {
   "cell_type": "code",
   "execution_count": 6,
   "metadata": {
    "collapsed": true
   },
   "outputs": [],
   "source": [
    "df = df[['GENE', 'DIS_CLAS']]"
   ]
  },
  {
   "cell_type": "code",
   "execution_count": 7,
   "metadata": {
    "collapsed": true
   },
   "outputs": [],
   "source": [
    "df.dropna(how='any', inplace=True)"
   ]
  },
  {
   "cell_type": "code",
   "execution_count": 8,
   "metadata": {},
   "outputs": [
    {
     "data": {
      "text/html": [
       "<div>\n",
       "<table border=\"1\" class=\"dataframe\">\n",
       "  <thead>\n",
       "    <tr style=\"text-align: right;\">\n",
       "      <th></th>\n",
       "      <th>GENE</th>\n",
       "      <th>DIS_CLAS</th>\n",
       "    </tr>\n",
       "  </thead>\n",
       "  <tbody>\n",
       "    <tr>\n",
       "      <th>0</th>\n",
       "      <td>HLA-A</td>\n",
       "      <td>CANCER</td>\n",
       "    </tr>\n",
       "    <tr>\n",
       "      <th>1</th>\n",
       "      <td>HLA-A</td>\n",
       "      <td>CANCER</td>\n",
       "    </tr>\n",
       "    <tr>\n",
       "      <th>2</th>\n",
       "      <td>HLA-A</td>\n",
       "      <td>IMMUNE</td>\n",
       "    </tr>\n",
       "    <tr>\n",
       "      <th>3</th>\n",
       "      <td>HLA-A</td>\n",
       "      <td>CANCER</td>\n",
       "    </tr>\n",
       "    <tr>\n",
       "      <th>4</th>\n",
       "      <td>HLA-A</td>\n",
       "      <td>CANCER</td>\n",
       "    </tr>\n",
       "  </tbody>\n",
       "</table>\n",
       "</div>"
      ],
      "text/plain": [
       "    GENE DIS_CLAS\n",
       "0  HLA-A   CANCER\n",
       "1  HLA-A   CANCER\n",
       "2  HLA-A   IMMUNE\n",
       "3  HLA-A   CANCER\n",
       "4  HLA-A   CANCER"
      ]
     },
     "execution_count": 8,
     "metadata": {},
     "output_type": "execute_result"
    }
   ],
   "source": [
    "df.head()"
   ]
  },
  {
   "cell_type": "markdown",
   "metadata": {},
   "source": [
    "# Map Gene Symbols To Up-to-date Approved Gene Symbols"
   ]
  },
  {
   "cell_type": "code",
   "execution_count": 9,
   "metadata": {
    "collapsed": true
   },
   "outputs": [],
   "source": [
    "df.set_index('GENE', inplace=True)"
   ]
  },
  {
   "cell_type": "code",
   "execution_count": 10,
   "metadata": {},
   "outputs": [
    {
     "name": "stdout",
     "output_type": "stream",
     "text": [
      "Progeres: 99%  166329 Out of 166447   \r"
     ]
    }
   ],
   "source": [
    "uf.mapgenesymbols(df)"
   ]
  },
  {
   "cell_type": "markdown",
   "metadata": {},
   "source": [
    "# Drop Duplicates"
   ]
  },
  {
   "cell_type": "code",
   "execution_count": 11,
   "metadata": {
    "collapsed": true
   },
   "outputs": [],
   "source": [
    "df.reset_index(inplace=True)"
   ]
  },
  {
   "cell_type": "code",
   "execution_count": 12,
   "metadata": {
    "collapsed": true
   },
   "outputs": [],
   "source": [
    "df.drop_duplicates(inplace=True)"
   ]
  },
  {
   "cell_type": "code",
   "execution_count": 13,
   "metadata": {},
   "outputs": [],
   "source": [
    "df.shape"
   ]
  },
  {
   "cell_type": "markdown",
   "metadata": {},
   "source": [
    "# Create Binary Matrix"
   ]
  },
  {
   "cell_type": "code",
   "execution_count": 14,
   "metadata": {},
   "outputs": [
    {
     "name": "stdout",
     "output_type": "stream",
     "text": [
      "Progeres: 100%  14120 Out of 14120   \r"
     ]
    }
   ],
   "source": [
    "binary_matrix = uf.createBinaryMatix(df)"
   ]
  },
  {
   "cell_type": "code",
   "execution_count": 15,
   "metadata": {},
   "outputs": [
    {
     "data": {
      "text/html": [
       "<div>\n",
       "<table border=\"1\" class=\"dataframe\">\n",
       "  <thead>\n",
       "    <tr style=\"text-align: right;\">\n",
       "      <th></th>\n",
       "      <th>METABOLIC</th>\n",
       "      <th>CARDIOVASCULAR</th>\n",
       "      <th>NEUROLOGICAL</th>\n",
       "      <th>AGING</th>\n",
       "      <th>VISION</th>\n",
       "      <th>UNKNOWN</th>\n",
       "      <th>RENAL</th>\n",
       "      <th>MITOCHONDRIAL</th>\n",
       "      <th>DEVELOPMENTAL</th>\n",
       "      <th>INFECTION</th>\n",
       "      <th>OTHER</th>\n",
       "      <th>REPRODUCTION</th>\n",
       "      <th>HEMATOLOGICAL</th>\n",
       "      <th>PHARMACOGENOMIC</th>\n",
       "      <th>PSYCH</th>\n",
       "      <th>CANCER</th>\n",
       "      <th>NORMALVARIATION</th>\n",
       "      <th>IMMUNE</th>\n",
       "      <th>CHEMDEPENDENCY</th>\n",
       "    </tr>\n",
       "  </thead>\n",
       "  <tbody>\n",
       "    <tr>\n",
       "      <th>BLOC1S5</th>\n",
       "      <td>0</td>\n",
       "      <td>0</td>\n",
       "      <td>0</td>\n",
       "      <td>0</td>\n",
       "      <td>0</td>\n",
       "      <td>0</td>\n",
       "      <td>0</td>\n",
       "      <td>0</td>\n",
       "      <td>0</td>\n",
       "      <td>0</td>\n",
       "      <td>0</td>\n",
       "      <td>0</td>\n",
       "      <td>0</td>\n",
       "      <td>0</td>\n",
       "      <td>1</td>\n",
       "      <td>0</td>\n",
       "      <td>0</td>\n",
       "      <td>0</td>\n",
       "      <td>0</td>\n",
       "    </tr>\n",
       "    <tr>\n",
       "      <th>RPS3AP1</th>\n",
       "      <td>1</td>\n",
       "      <td>0</td>\n",
       "      <td>1</td>\n",
       "      <td>1</td>\n",
       "      <td>1</td>\n",
       "      <td>0</td>\n",
       "      <td>0</td>\n",
       "      <td>0</td>\n",
       "      <td>0</td>\n",
       "      <td>0</td>\n",
       "      <td>0</td>\n",
       "      <td>0</td>\n",
       "      <td>1</td>\n",
       "      <td>0</td>\n",
       "      <td>1</td>\n",
       "      <td>0</td>\n",
       "      <td>0</td>\n",
       "      <td>0</td>\n",
       "      <td>0</td>\n",
       "    </tr>\n",
       "    <tr>\n",
       "      <th>HLA-DRB5</th>\n",
       "      <td>1</td>\n",
       "      <td>1</td>\n",
       "      <td>1</td>\n",
       "      <td>0</td>\n",
       "      <td>0</td>\n",
       "      <td>0</td>\n",
       "      <td>0</td>\n",
       "      <td>0</td>\n",
       "      <td>0</td>\n",
       "      <td>1</td>\n",
       "      <td>1</td>\n",
       "      <td>1</td>\n",
       "      <td>0</td>\n",
       "      <td>0</td>\n",
       "      <td>1</td>\n",
       "      <td>1</td>\n",
       "      <td>0</td>\n",
       "      <td>1</td>\n",
       "      <td>0</td>\n",
       "    </tr>\n",
       "    <tr>\n",
       "      <th>PPIAP15</th>\n",
       "      <td>1</td>\n",
       "      <td>1</td>\n",
       "      <td>0</td>\n",
       "      <td>0</td>\n",
       "      <td>0</td>\n",
       "      <td>0</td>\n",
       "      <td>0</td>\n",
       "      <td>0</td>\n",
       "      <td>0</td>\n",
       "      <td>0</td>\n",
       "      <td>0</td>\n",
       "      <td>0</td>\n",
       "      <td>0</td>\n",
       "      <td>0</td>\n",
       "      <td>0</td>\n",
       "      <td>0</td>\n",
       "      <td>0</td>\n",
       "      <td>1</td>\n",
       "      <td>0</td>\n",
       "    </tr>\n",
       "    <tr>\n",
       "      <th>SLC25A31</th>\n",
       "      <td>0</td>\n",
       "      <td>0</td>\n",
       "      <td>0</td>\n",
       "      <td>0</td>\n",
       "      <td>0</td>\n",
       "      <td>0</td>\n",
       "      <td>0</td>\n",
       "      <td>0</td>\n",
       "      <td>0</td>\n",
       "      <td>1</td>\n",
       "      <td>0</td>\n",
       "      <td>0</td>\n",
       "      <td>0</td>\n",
       "      <td>0</td>\n",
       "      <td>0</td>\n",
       "      <td>0</td>\n",
       "      <td>0</td>\n",
       "      <td>0</td>\n",
       "      <td>0</td>\n",
       "    </tr>\n",
       "  </tbody>\n",
       "</table>\n",
       "</div>"
      ],
      "text/plain": [
       "          METABOLIC  CARDIOVASCULAR  NEUROLOGICAL  AGING  VISION  UNKNOWN  \\\n",
       "BLOC1S5           0               0             0      0       0        0   \n",
       "RPS3AP1           1               0             1      1       1        0   \n",
       "HLA-DRB5          1               1             1      0       0        0   \n",
       "PPIAP15           1               1             0      0       0        0   \n",
       "SLC25A31          0               0             0      0       0        0   \n",
       "\n",
       "          RENAL  MITOCHONDRIAL  DEVELOPMENTAL  INFECTION  OTHER  REPRODUCTION  \\\n",
       "BLOC1S5       0              0              0          0      0             0   \n",
       "RPS3AP1       0              0              0          0      0             0   \n",
       "HLA-DRB5      0              0              0          1      1             1   \n",
       "PPIAP15       0              0              0          0      0             0   \n",
       "SLC25A31      0              0              0          1      0             0   \n",
       "\n",
       "          HEMATOLOGICAL  PHARMACOGENOMIC  PSYCH  CANCER  NORMALVARIATION  \\\n",
       "BLOC1S5               0                0      1       0                0   \n",
       "RPS3AP1               1                0      1       0                0   \n",
       "HLA-DRB5              0                0      1       1                0   \n",
       "PPIAP15               0                0      0       0                0   \n",
       "SLC25A31              0                0      0       0                0   \n",
       "\n",
       "          IMMUNE  CHEMDEPENDENCY  \n",
       "BLOC1S5        0               0  \n",
       "RPS3AP1        0               0  \n",
       "HLA-DRB5       1               0  \n",
       "PPIAP15        1               0  \n",
       "SLC25A31       0               0  "
      ]
     },
     "execution_count": 15,
     "metadata": {},
     "output_type": "execute_result"
    }
   ],
   "source": [
    "binary_matrix.head()"
   ]
  },
  {
   "cell_type": "code",
   "execution_count": 16,
   "metadata": {},
   "outputs": [
    {
     "data": {
      "text/plain": [
       "(14120, 19)"
      ]
     },
     "execution_count": 16,
     "metadata": {},
     "output_type": "execute_result"
    }
   ],
   "source": [
    "binary_matrix.shape"
   ]
  },
  {
   "cell_type": "markdown",
   "metadata": {},
   "source": [
    "# Save Binary Matrix"
   ]
  },
  {
   "cell_type": "code",
   "execution_count": 17,
   "metadata": {},
   "outputs": [],
   "source": [
    "filename = '~/./Documents/Harmonizome/GAD/Output/gad_high_level_binary_matrix_%s.tsv.zip'% str(datetime.date.today())[0:7].replace('-', '_')\n",
    "binary_matrix.to_csv(filename, sep='\\t', compression='gzip')"
   ]
  },
  {
   "cell_type": "markdown",
   "metadata": {},
   "source": [
    "# Create Gene Set Library"
   ]
  },
  {
   "cell_type": "code",
   "execution_count": 18,
   "metadata": {
    "collapsed": true
   },
   "outputs": [],
   "source": [
    "path = '/Users/moshesilverstein/Documents/Harmonizome/GAD/Output/'"
   ]
  },
  {
   "cell_type": "code",
   "execution_count": 19,
   "metadata": {
    "collapsed": true
   },
   "outputs": [],
   "source": [
    "name = 'gad_high_level_gene_set'"
   ]
  },
  {
   "cell_type": "code",
   "execution_count": 20,
   "metadata": {},
   "outputs": [
    {
     "name": "stdout",
     "output_type": "stream",
     "text": [
      "Progeres: 100%  19 Out of 19   \r"
     ]
    }
   ],
   "source": [
    "uf.createUpGeneSetLib(binary_matrix, path, name)"
   ]
  },
  {
   "cell_type": "markdown",
   "metadata": {},
   "source": [
    "# Create Attribute Library"
   ]
  },
  {
   "cell_type": "code",
   "execution_count": 21,
   "metadata": {
    "collapsed": true
   },
   "outputs": [],
   "source": [
    "path = '/Users/moshesilverstein/Documents/Harmonizome/GAD/Output/'"
   ]
  },
  {
   "cell_type": "code",
   "execution_count": 22,
   "metadata": {
    "collapsed": true
   },
   "outputs": [],
   "source": [
    "name = 'gad_high_level_attribute_set'"
   ]
  },
  {
   "cell_type": "code",
   "execution_count": 23,
   "metadata": {},
   "outputs": [
    {
     "name": "stdout",
     "output_type": "stream",
     "text": [
      "Progeres: 100%  14120 Out of 14120   \r"
     ]
    }
   ],
   "source": [
    "uf.createUpAttributeSetLib(binary_matrix, path, name)"
   ]
  },
  {
   "cell_type": "markdown",
   "metadata": {},
   "source": [
    "# Create Gene Similarity Matrix"
   ]
  },
  {
   "cell_type": "code",
   "execution_count": 24,
   "metadata": {
    "collapsed": true
   },
   "outputs": [],
   "source": [
    "gene_similarity_matix = uf.createSimilarityMatrix(binary_matrix, 'jaccard')"
   ]
  },
  {
   "cell_type": "code",
   "execution_count": 25,
   "metadata": {},
   "outputs": [
    {
     "data": {
      "text/html": [
       "<div>\n",
       "<table border=\"1\" class=\"dataframe\">\n",
       "  <thead>\n",
       "    <tr style=\"text-align: right;\">\n",
       "      <th></th>\n",
       "      <th>BLOC1S5</th>\n",
       "      <th>RPS3AP1</th>\n",
       "      <th>HLA-DRB5</th>\n",
       "      <th>PPIAP15</th>\n",
       "      <th>SLC25A31</th>\n",
       "      <th>CNBP</th>\n",
       "      <th>ZMAT4</th>\n",
       "      <th>FTCD</th>\n",
       "      <th>LIN28AP2</th>\n",
       "      <th>LUZP4</th>\n",
       "      <th>...</th>\n",
       "      <th>NTSR2</th>\n",
       "      <th>LY9</th>\n",
       "      <th>ZGPAT</th>\n",
       "      <th>LYPD2</th>\n",
       "      <th>ADGRG1</th>\n",
       "      <th>TECRL</th>\n",
       "      <th>CSF1</th>\n",
       "      <th>HEMGN</th>\n",
       "      <th>C20orf194</th>\n",
       "      <th>MIRLET7B</th>\n",
       "    </tr>\n",
       "  </thead>\n",
       "  <tbody>\n",
       "    <tr>\n",
       "      <th>BLOC1S5</th>\n",
       "      <td>1.000000</td>\n",
       "      <td>0.166667</td>\n",
       "      <td>0.111111</td>\n",
       "      <td>0.000000</td>\n",
       "      <td>0.000000</td>\n",
       "      <td>0.0</td>\n",
       "      <td>0.250000</td>\n",
       "      <td>0.000000</td>\n",
       "      <td>0.000000</td>\n",
       "      <td>0.000000</td>\n",
       "      <td>...</td>\n",
       "      <td>0.500000</td>\n",
       "      <td>0.000000</td>\n",
       "      <td>0.00</td>\n",
       "      <td>0.000000</td>\n",
       "      <td>0.000000</td>\n",
       "      <td>0.000000</td>\n",
       "      <td>0.000000</td>\n",
       "      <td>0.0</td>\n",
       "      <td>0.000000</td>\n",
       "      <td>0.000000</td>\n",
       "    </tr>\n",
       "    <tr>\n",
       "      <th>RPS3AP1</th>\n",
       "      <td>0.166667</td>\n",
       "      <td>1.000000</td>\n",
       "      <td>0.250000</td>\n",
       "      <td>0.125000</td>\n",
       "      <td>0.000000</td>\n",
       "      <td>0.0</td>\n",
       "      <td>0.428571</td>\n",
       "      <td>0.125000</td>\n",
       "      <td>0.333333</td>\n",
       "      <td>0.000000</td>\n",
       "      <td>...</td>\n",
       "      <td>0.142857</td>\n",
       "      <td>0.000000</td>\n",
       "      <td>0.00</td>\n",
       "      <td>0.166667</td>\n",
       "      <td>0.166667</td>\n",
       "      <td>0.000000</td>\n",
       "      <td>0.153846</td>\n",
       "      <td>0.0</td>\n",
       "      <td>0.000000</td>\n",
       "      <td>0.000000</td>\n",
       "    </tr>\n",
       "    <tr>\n",
       "      <th>HLA-DRB5</th>\n",
       "      <td>0.111111</td>\n",
       "      <td>0.250000</td>\n",
       "      <td>1.000000</td>\n",
       "      <td>0.333333</td>\n",
       "      <td>0.111111</td>\n",
       "      <td>0.0</td>\n",
       "      <td>0.444444</td>\n",
       "      <td>0.090909</td>\n",
       "      <td>0.100000</td>\n",
       "      <td>0.111111</td>\n",
       "      <td>...</td>\n",
       "      <td>0.100000</td>\n",
       "      <td>0.111111</td>\n",
       "      <td>0.10</td>\n",
       "      <td>0.111111</td>\n",
       "      <td>0.111111</td>\n",
       "      <td>0.090909</td>\n",
       "      <td>0.500000</td>\n",
       "      <td>0.2</td>\n",
       "      <td>0.111111</td>\n",
       "      <td>0.111111</td>\n",
       "    </tr>\n",
       "    <tr>\n",
       "      <th>PPIAP15</th>\n",
       "      <td>0.000000</td>\n",
       "      <td>0.125000</td>\n",
       "      <td>0.333333</td>\n",
       "      <td>1.000000</td>\n",
       "      <td>0.000000</td>\n",
       "      <td>0.0</td>\n",
       "      <td>0.400000</td>\n",
       "      <td>0.000000</td>\n",
       "      <td>0.250000</td>\n",
       "      <td>0.333333</td>\n",
       "      <td>...</td>\n",
       "      <td>0.000000</td>\n",
       "      <td>0.333333</td>\n",
       "      <td>0.25</td>\n",
       "      <td>0.333333</td>\n",
       "      <td>0.333333</td>\n",
       "      <td>0.200000</td>\n",
       "      <td>0.333333</td>\n",
       "      <td>0.2</td>\n",
       "      <td>0.000000</td>\n",
       "      <td>0.000000</td>\n",
       "    </tr>\n",
       "    <tr>\n",
       "      <th>SLC25A31</th>\n",
       "      <td>0.000000</td>\n",
       "      <td>0.000000</td>\n",
       "      <td>0.111111</td>\n",
       "      <td>0.000000</td>\n",
       "      <td>1.000000</td>\n",
       "      <td>0.0</td>\n",
       "      <td>0.000000</td>\n",
       "      <td>0.000000</td>\n",
       "      <td>0.000000</td>\n",
       "      <td>0.000000</td>\n",
       "      <td>...</td>\n",
       "      <td>0.000000</td>\n",
       "      <td>0.000000</td>\n",
       "      <td>0.00</td>\n",
       "      <td>0.000000</td>\n",
       "      <td>0.000000</td>\n",
       "      <td>0.000000</td>\n",
       "      <td>0.000000</td>\n",
       "      <td>0.0</td>\n",
       "      <td>1.000000</td>\n",
       "      <td>0.000000</td>\n",
       "    </tr>\n",
       "  </tbody>\n",
       "</table>\n",
       "<p>5 rows × 14120 columns</p>\n",
       "</div>"
      ],
      "text/plain": [
       "           BLOC1S5   RPS3AP1  HLA-DRB5   PPIAP15  SLC25A31  CNBP     ZMAT4  \\\n",
       "BLOC1S5   1.000000  0.166667  0.111111  0.000000  0.000000   0.0  0.250000   \n",
       "RPS3AP1   0.166667  1.000000  0.250000  0.125000  0.000000   0.0  0.428571   \n",
       "HLA-DRB5  0.111111  0.250000  1.000000  0.333333  0.111111   0.0  0.444444   \n",
       "PPIAP15   0.000000  0.125000  0.333333  1.000000  0.000000   0.0  0.400000   \n",
       "SLC25A31  0.000000  0.000000  0.111111  0.000000  1.000000   0.0  0.000000   \n",
       "\n",
       "              FTCD  LIN28AP2     LUZP4    ...        NTSR2       LY9  ZGPAT  \\\n",
       "BLOC1S5   0.000000  0.000000  0.000000    ...     0.500000  0.000000   0.00   \n",
       "RPS3AP1   0.125000  0.333333  0.000000    ...     0.142857  0.000000   0.00   \n",
       "HLA-DRB5  0.090909  0.100000  0.111111    ...     0.100000  0.111111   0.10   \n",
       "PPIAP15   0.000000  0.250000  0.333333    ...     0.000000  0.333333   0.25   \n",
       "SLC25A31  0.000000  0.000000  0.000000    ...     0.000000  0.000000   0.00   \n",
       "\n",
       "             LYPD2    ADGRG1     TECRL      CSF1  HEMGN  C20orf194  MIRLET7B  \n",
       "BLOC1S5   0.000000  0.000000  0.000000  0.000000    0.0   0.000000  0.000000  \n",
       "RPS3AP1   0.166667  0.166667  0.000000  0.153846    0.0   0.000000  0.000000  \n",
       "HLA-DRB5  0.111111  0.111111  0.090909  0.500000    0.2   0.111111  0.111111  \n",
       "PPIAP15   0.333333  0.333333  0.200000  0.333333    0.2   0.000000  0.000000  \n",
       "SLC25A31  0.000000  0.000000  0.000000  0.000000    0.0   1.000000  0.000000  \n",
       "\n",
       "[5 rows x 14120 columns]"
      ]
     },
     "execution_count": 25,
     "metadata": {},
     "output_type": "execute_result"
    }
   ],
   "source": [
    "gene_similarity_matix.head()"
   ]
  },
  {
   "cell_type": "markdown",
   "metadata": {},
   "source": [
    "# Save Gene Similarity Matrix"
   ]
  },
  {
   "cell_type": "code",
   "execution_count": 26,
   "metadata": {
    "collapsed": true
   },
   "outputs": [],
   "source": [
    "filename = '~/./Documents/Harmonizome/GAD/Output/gad_high_level_gene_similarity_matix_%s.tsv.zip'% str(datetime.date.today())[0:7].replace('-', '_')\n",
    "gene_similarity_matix.to_csv(filename, sep='\\t', compression='gzip')"
   ]
  },
  {
   "cell_type": "markdown",
   "metadata": {},
   "source": [
    "# Create Attribute Similarity matrix"
   ]
  },
  {
   "cell_type": "code",
   "execution_count": 27,
   "metadata": {
    "collapsed": true
   },
   "outputs": [],
   "source": [
    "attribute_similarity_matix = uf.createSimilarityMatrix(binary_matrix.T, 'jaccard')"
   ]
  },
  {
   "cell_type": "code",
   "execution_count": 28,
   "metadata": {},
   "outputs": [
    {
     "data": {
      "text/html": [
       "<div>\n",
       "<table border=\"1\" class=\"dataframe\">\n",
       "  <thead>\n",
       "    <tr style=\"text-align: right;\">\n",
       "      <th></th>\n",
       "      <th>METABOLIC</th>\n",
       "      <th>CARDIOVASCULAR</th>\n",
       "      <th>NEUROLOGICAL</th>\n",
       "      <th>AGING</th>\n",
       "      <th>VISION</th>\n",
       "      <th>UNKNOWN</th>\n",
       "      <th>RENAL</th>\n",
       "      <th>MITOCHONDRIAL</th>\n",
       "      <th>DEVELOPMENTAL</th>\n",
       "      <th>INFECTION</th>\n",
       "      <th>OTHER</th>\n",
       "      <th>REPRODUCTION</th>\n",
       "      <th>HEMATOLOGICAL</th>\n",
       "      <th>PHARMACOGENOMIC</th>\n",
       "      <th>PSYCH</th>\n",
       "      <th>CANCER</th>\n",
       "      <th>NORMALVARIATION</th>\n",
       "      <th>IMMUNE</th>\n",
       "      <th>CHEMDEPENDENCY</th>\n",
       "    </tr>\n",
       "  </thead>\n",
       "  <tbody>\n",
       "    <tr>\n",
       "      <th>METABOLIC</th>\n",
       "      <td>1.000000</td>\n",
       "      <td>0.359425</td>\n",
       "      <td>0.236038</td>\n",
       "      <td>0.094996</td>\n",
       "      <td>0.066520</td>\n",
       "      <td>0.152298</td>\n",
       "      <td>0.136891</td>\n",
       "      <td>0.000494</td>\n",
       "      <td>0.143238</td>\n",
       "      <td>0.119843</td>\n",
       "      <td>0.158212</td>\n",
       "      <td>0.100171</td>\n",
       "      <td>0.171606</td>\n",
       "      <td>0.193904</td>\n",
       "      <td>0.188712</td>\n",
       "      <td>0.210567</td>\n",
       "      <td>0.059855</td>\n",
       "      <td>0.220424</td>\n",
       "      <td>0.240031</td>\n",
       "    </tr>\n",
       "    <tr>\n",
       "      <th>CARDIOVASCULAR</th>\n",
       "      <td>0.359425</td>\n",
       "      <td>1.000000</td>\n",
       "      <td>0.237573</td>\n",
       "      <td>0.101557</td>\n",
       "      <td>0.070139</td>\n",
       "      <td>0.158739</td>\n",
       "      <td>0.151608</td>\n",
       "      <td>0.000407</td>\n",
       "      <td>0.137739</td>\n",
       "      <td>0.123572</td>\n",
       "      <td>0.161830</td>\n",
       "      <td>0.114599</td>\n",
       "      <td>0.185641</td>\n",
       "      <td>0.205770</td>\n",
       "      <td>0.173160</td>\n",
       "      <td>0.201881</td>\n",
       "      <td>0.066732</td>\n",
       "      <td>0.221887</td>\n",
       "      <td>0.233084</td>\n",
       "    </tr>\n",
       "    <tr>\n",
       "      <th>NEUROLOGICAL</th>\n",
       "      <td>0.236038</td>\n",
       "      <td>0.237573</td>\n",
       "      <td>1.000000</td>\n",
       "      <td>0.129453</td>\n",
       "      <td>0.089696</td>\n",
       "      <td>0.187752</td>\n",
       "      <td>0.147508</td>\n",
       "      <td>0.001284</td>\n",
       "      <td>0.125563</td>\n",
       "      <td>0.134162</td>\n",
       "      <td>0.179328</td>\n",
       "      <td>0.126888</td>\n",
       "      <td>0.140387</td>\n",
       "      <td>0.197488</td>\n",
       "      <td>0.181164</td>\n",
       "      <td>0.195994</td>\n",
       "      <td>0.085577</td>\n",
       "      <td>0.192860</td>\n",
       "      <td>0.188630</td>\n",
       "    </tr>\n",
       "    <tr>\n",
       "      <th>AGING</th>\n",
       "      <td>0.094996</td>\n",
       "      <td>0.101557</td>\n",
       "      <td>0.129453</td>\n",
       "      <td>1.000000</td>\n",
       "      <td>0.079462</td>\n",
       "      <td>0.109244</td>\n",
       "      <td>0.116600</td>\n",
       "      <td>0.000957</td>\n",
       "      <td>0.079839</td>\n",
       "      <td>0.088235</td>\n",
       "      <td>0.116143</td>\n",
       "      <td>0.104461</td>\n",
       "      <td>0.090702</td>\n",
       "      <td>0.109069</td>\n",
       "      <td>0.106013</td>\n",
       "      <td>0.108372</td>\n",
       "      <td>0.085136</td>\n",
       "      <td>0.096691</td>\n",
       "      <td>0.087188</td>\n",
       "    </tr>\n",
       "    <tr>\n",
       "      <th>VISION</th>\n",
       "      <td>0.066520</td>\n",
       "      <td>0.070139</td>\n",
       "      <td>0.089696</td>\n",
       "      <td>0.079462</td>\n",
       "      <td>1.000000</td>\n",
       "      <td>0.131323</td>\n",
       "      <td>0.110268</td>\n",
       "      <td>0.001368</td>\n",
       "      <td>0.083410</td>\n",
       "      <td>0.078723</td>\n",
       "      <td>0.133752</td>\n",
       "      <td>0.141717</td>\n",
       "      <td>0.068447</td>\n",
       "      <td>0.092068</td>\n",
       "      <td>0.071749</td>\n",
       "      <td>0.086909</td>\n",
       "      <td>0.141674</td>\n",
       "      <td>0.090203</td>\n",
       "      <td>0.058384</td>\n",
       "    </tr>\n",
       "  </tbody>\n",
       "</table>\n",
       "</div>"
      ],
      "text/plain": [
       "                METABOLIC  CARDIOVASCULAR  NEUROLOGICAL     AGING    VISION  \\\n",
       "METABOLIC        1.000000        0.359425      0.236038  0.094996  0.066520   \n",
       "CARDIOVASCULAR   0.359425        1.000000      0.237573  0.101557  0.070139   \n",
       "NEUROLOGICAL     0.236038        0.237573      1.000000  0.129453  0.089696   \n",
       "AGING            0.094996        0.101557      0.129453  1.000000  0.079462   \n",
       "VISION           0.066520        0.070139      0.089696  0.079462  1.000000   \n",
       "\n",
       "                 UNKNOWN     RENAL  MITOCHONDRIAL  DEVELOPMENTAL  INFECTION  \\\n",
       "METABOLIC       0.152298  0.136891       0.000494       0.143238   0.119843   \n",
       "CARDIOVASCULAR  0.158739  0.151608       0.000407       0.137739   0.123572   \n",
       "NEUROLOGICAL    0.187752  0.147508       0.001284       0.125563   0.134162   \n",
       "AGING           0.109244  0.116600       0.000957       0.079839   0.088235   \n",
       "VISION          0.131323  0.110268       0.001368       0.083410   0.078723   \n",
       "\n",
       "                   OTHER  REPRODUCTION  HEMATOLOGICAL  PHARMACOGENOMIC  \\\n",
       "METABOLIC       0.158212      0.100171       0.171606         0.193904   \n",
       "CARDIOVASCULAR  0.161830      0.114599       0.185641         0.205770   \n",
       "NEUROLOGICAL    0.179328      0.126888       0.140387         0.197488   \n",
       "AGING           0.116143      0.104461       0.090702         0.109069   \n",
       "VISION          0.133752      0.141717       0.068447         0.092068   \n",
       "\n",
       "                   PSYCH    CANCER  NORMALVARIATION    IMMUNE  CHEMDEPENDENCY  \n",
       "METABOLIC       0.188712  0.210567         0.059855  0.220424        0.240031  \n",
       "CARDIOVASCULAR  0.173160  0.201881         0.066732  0.221887        0.233084  \n",
       "NEUROLOGICAL    0.181164  0.195994         0.085577  0.192860        0.188630  \n",
       "AGING           0.106013  0.108372         0.085136  0.096691        0.087188  \n",
       "VISION          0.071749  0.086909         0.141674  0.090203        0.058384  "
      ]
     },
     "execution_count": 28,
     "metadata": {},
     "output_type": "execute_result"
    }
   ],
   "source": [
    "attribute_similarity_matix.head()"
   ]
  },
  {
   "cell_type": "markdown",
   "metadata": {},
   "source": [
    "# Save Attribute Similarity Matrix"
   ]
  },
  {
   "cell_type": "code",
   "execution_count": 29,
   "metadata": {
    "collapsed": true
   },
   "outputs": [],
   "source": [
    "filename = '~/./Documents/Harmonizome/GAD/Output/gad_high_level_attribute_similarity_matix_%s.tsv.zip'% str(datetime.date.today())[0:7].replace('-', '_')\n",
    "attribute_similarity_matix.to_csv(filename, sep='\\t', compression='gzip')"
   ]
  },
  {
   "cell_type": "markdown",
   "metadata": {},
   "source": [
    "# Create Gene List"
   ]
  },
  {
   "cell_type": "code",
   "execution_count": 30,
   "metadata": {},
   "outputs": [
    {
     "name": "stdout",
     "output_type": "stream",
     "text": [
      "Progeres: 100%  14120 Out of 14120   \r"
     ]
    }
   ],
   "source": [
    "gene_list = uf.createGeneList(binary_matrix)"
   ]
  },
  {
   "cell_type": "code",
   "execution_count": 31,
   "metadata": {},
   "outputs": [
    {
     "data": {
      "text/html": [
       "<div>\n",
       "<table border=\"1\" class=\"dataframe\">\n",
       "  <thead>\n",
       "    <tr style=\"text-align: right;\">\n",
       "      <th></th>\n",
       "      <th>GeneSym</th>\n",
       "      <th>GeneID</th>\n",
       "    </tr>\n",
       "  </thead>\n",
       "  <tbody>\n",
       "    <tr>\n",
       "      <th>0</th>\n",
       "      <td>BLOC1S5</td>\n",
       "      <td>63915</td>\n",
       "    </tr>\n",
       "    <tr>\n",
       "      <th>1</th>\n",
       "      <td>RPS3AP1</td>\n",
       "      <td>1.01242e+08</td>\n",
       "    </tr>\n",
       "    <tr>\n",
       "      <th>2</th>\n",
       "      <td>HLA-DRB5</td>\n",
       "      <td>3127</td>\n",
       "    </tr>\n",
       "    <tr>\n",
       "      <th>3</th>\n",
       "      <td>PPIAP15</td>\n",
       "      <td>5487</td>\n",
       "    </tr>\n",
       "    <tr>\n",
       "      <th>4</th>\n",
       "      <td>SLC25A31</td>\n",
       "      <td>83447</td>\n",
       "    </tr>\n",
       "  </tbody>\n",
       "</table>\n",
       "</div>"
      ],
      "text/plain": [
       "    GeneSym       GeneID\n",
       "0   BLOC1S5        63915\n",
       "1   RPS3AP1  1.01242e+08\n",
       "2  HLA-DRB5         3127\n",
       "3   PPIAP15         5487\n",
       "4  SLC25A31        83447"
      ]
     },
     "execution_count": 31,
     "metadata": {},
     "output_type": "execute_result"
    }
   ],
   "source": [
    "gene_list.head()"
   ]
  },
  {
   "cell_type": "code",
   "execution_count": 32,
   "metadata": {},
   "outputs": [
    {
     "data": {
      "text/plain": [
       "(14120, 2)"
      ]
     },
     "execution_count": 32,
     "metadata": {},
     "output_type": "execute_result"
    }
   ],
   "source": [
    "gene_list.shape"
   ]
  },
  {
   "cell_type": "markdown",
   "metadata": {},
   "source": [
    "# Save Gene List"
   ]
  },
  {
   "cell_type": "code",
   "execution_count": 33,
   "metadata": {
    "collapsed": true
   },
   "outputs": [],
   "source": [
    "filename = '~/./Documents/Harmonizome/GAD/Output/gad_high_level_gene_list_%s.tsv.zip'% str(datetime.date.today())[0:7].replace('-', '_')\n",
    "gene_list.to_csv(filename, sep='\\t', index=False, compression='gzip')"
   ]
  },
  {
   "cell_type": "markdown",
   "metadata": {},
   "source": [
    "# Create Attribute List"
   ]
  },
  {
   "cell_type": "code",
   "execution_count": 34,
   "metadata": {
    "collapsed": true
   },
   "outputs": [],
   "source": [
    "attribute_list = uf.createAttributeList(binary_matrix)"
   ]
  },
  {
   "cell_type": "code",
   "execution_count": 35,
   "metadata": {},
   "outputs": [
    {
     "data": {
      "text/html": [
       "<div>\n",
       "<table border=\"1\" class=\"dataframe\">\n",
       "  <thead>\n",
       "    <tr style=\"text-align: right;\">\n",
       "      <th></th>\n",
       "      <th>Attributes</th>\n",
       "    </tr>\n",
       "  </thead>\n",
       "  <tbody>\n",
       "    <tr>\n",
       "      <th>0</th>\n",
       "      <td>METABOLIC</td>\n",
       "    </tr>\n",
       "    <tr>\n",
       "      <th>1</th>\n",
       "      <td>CARDIOVASCULAR</td>\n",
       "    </tr>\n",
       "    <tr>\n",
       "      <th>2</th>\n",
       "      <td>NEUROLOGICAL</td>\n",
       "    </tr>\n",
       "    <tr>\n",
       "      <th>3</th>\n",
       "      <td>AGING</td>\n",
       "    </tr>\n",
       "    <tr>\n",
       "      <th>4</th>\n",
       "      <td>VISION</td>\n",
       "    </tr>\n",
       "  </tbody>\n",
       "</table>\n",
       "</div>"
      ],
      "text/plain": [
       "       Attributes\n",
       "0       METABOLIC\n",
       "1  CARDIOVASCULAR\n",
       "2    NEUROLOGICAL\n",
       "3           AGING\n",
       "4          VISION"
      ]
     },
     "execution_count": 35,
     "metadata": {},
     "output_type": "execute_result"
    }
   ],
   "source": [
    "attribute_list.head()"
   ]
  },
  {
   "cell_type": "code",
   "execution_count": 36,
   "metadata": {},
   "outputs": [
    {
     "data": {
      "text/plain": [
       "(19, 1)"
      ]
     },
     "execution_count": 36,
     "metadata": {},
     "output_type": "execute_result"
    }
   ],
   "source": [
    "attribute_list.shape"
   ]
  },
  {
   "cell_type": "markdown",
   "metadata": {},
   "source": [
    "# Save Attribute List"
   ]
  },
  {
   "cell_type": "code",
   "execution_count": 37,
   "metadata": {
    "collapsed": true
   },
   "outputs": [],
   "source": [
    "filename = '~/./Documents/Harmonizome/GAD/Output/gad_high_level_attribute_list_%s.tsv.zip'% str(datetime.date.today())[0:7].replace('-', '_')\n",
    "attribute_list.to_csv(filename, sep='\\t', index=False, compression='gzip')"
   ]
  },
  {
   "cell_type": "markdown",
   "metadata": {},
   "source": [
    "# Create Gene-Attribute Edge List"
   ]
  },
  {
   "cell_type": "code",
   "execution_count": 38,
   "metadata": {
    "collapsed": true
   },
   "outputs": [],
   "source": [
    "path = '/Users/moshesilverstein/Documents/Harmonizome/GAD/Output/'"
   ]
  },
  {
   "cell_type": "code",
   "execution_count": 39,
   "metadata": {
    "collapsed": true
   },
   "outputs": [],
   "source": [
    "name = 'gad_high_level_gene_attribute_edge_list'"
   ]
  },
  {
   "cell_type": "code",
   "execution_count": 40,
   "metadata": {},
   "outputs": [
    {
     "name": "stdout",
     "output_type": "stream",
     "text": [
      "Progeres: 100%  19 Out of 19   \n",
      "\n",
      " The number of statisticaly relevent gene-attribute associations is: 42691\n"
     ]
    }
   ],
   "source": [
    "uf.createGeneAttributeEdgeList(binary_matrix, gene_list, path, name)"
   ]
  }
 ],
 "metadata": {
  "kernelspec": {
   "display_name": "Python [default]",
   "language": "python",
   "name": "python3"
  },
  "language_info": {
   "codemirror_mode": {
    "name": "ipython",
    "version": 3
   },
   "file_extension": ".py",
   "mimetype": "text/x-python",
   "name": "python",
   "nbconvert_exporter": "python",
   "pygments_lexer": "ipython3",
   "version": "3.5.2"
  }
 },
 "nbformat": 4,
 "nbformat_minor": 2
}
