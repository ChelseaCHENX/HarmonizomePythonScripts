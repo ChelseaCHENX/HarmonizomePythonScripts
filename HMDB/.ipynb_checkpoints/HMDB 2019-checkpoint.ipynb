{
 "cells": [
  {
   "cell_type": "markdown",
   "metadata": {},
   "source": [
    "# The Human Metabolome Database (HMDB)"
   ]
  },
  {
   "cell_type": "markdown",
   "metadata": {},
   "source": [
    "Author: John Erol Evangelista<br/>\n",
    "Adapted from: https://github.com/MaayanLab/HarmonizomePythonScripts/blob/master/HMDB/HMDB.ipynb <br/>\n",
    "Date: 01-19 <br/>\n",
    "Data Source: http://www.hmdb.ca/ <br/>\n",
    "Notes: Used 2019 dataset and updated gene mapping values"
   ]
  },
  {
   "cell_type": "code",
   "execution_count": 1,
   "metadata": {},
   "outputs": [],
   "source": [
    "import sys, datetime, os\n",
    "import numpy as np\n",
    "import pandas as pd\n",
    "import importlib\n",
    "if \"/Users/maayan/sigsets/Harmonizome/HarmonizomePythonScripts\" not in sys.path:\n",
    "    sys.path.append(\"/Users/maayan/sigsets/Harmonizome/HarmonizomePythonScripts\")\n",
    "import utility_functions as uf\n",
    "import xmltodict\n",
    "import xml.etree.ElementTree as ET\n",
    "\n",
    "%matplotlib inline"
   ]
  },
  {
   "cell_type": "code",
   "execution_count": 2,
   "metadata": {},
   "outputs": [
    {
     "data": {
      "text/plain": [
       "<module 'utility_functions' from '/Users/maayan/sigsets/Harmonizome/HarmonizomePythonScripts/utility_functions.py'>"
      ]
     },
     "execution_count": 2,
     "metadata": {},
     "output_type": "execute_result"
    }
   ],
   "source": [
    "importlib.reload(uf)"
   ]
  },
  {
   "cell_type": "markdown",
   "metadata": {},
   "source": [
    "## Load XML file"
   ]
  },
  {
   "cell_type": "code",
   "execution_count": 3,
   "metadata": {},
   "outputs": [],
   "source": [
    "data_path = '/Users/maayan/sigsets/Harmonizome/Data/'\n",
    "with open(data_path + \"hmdb_metabolites.xml\", \"rb\") as fd:\n",
    "    d = xmltodict.parse(fd)"
   ]
  },
  {
   "cell_type": "code",
   "execution_count": 11,
   "metadata": {},
   "outputs": [],
   "source": [
    "a = [dict(x) for x in d['hmdb']['metabolite']]"
   ]
  },
  {
   "cell_type": "code",
   "execution_count": 13,
   "metadata": {},
   "outputs": [
    {
     "data": {
      "text/plain": [
       "dict_keys(['version', 'creation_date', 'update_date', 'accession', 'status', 'secondary_accessions', 'name', 'cs_description', 'description', 'synonyms', 'chemical_formula', 'average_molecular_weight', 'monisotopic_molecular_weight', 'iupac_name', 'traditional_iupac', 'cas_registry_number', 'smiles', 'inchi', 'inchikey', 'taxonomy', 'ontology', 'state', 'experimental_properties', 'predicted_properties', 'spectra', 'cellular_locations', 'biospecimen_locations', 'tissue_locations', 'pathways', 'normal_concentrations', 'abnormal_concentrations', 'diseases', 'drugbank_id', 'drugbank_metabolite_id', 'phenol_explorer_compound_id', 'phenol_explorer_metabolite_id', 'foodb_id', 'knapsack_id', 'chemspider_id', 'kegg_id', 'biocyc_id', 'bigg_id', 'wikipidia', 'nugowiki', 'metagene', 'metlin_id', 'pubchem_compound_id', 'het_id', 'chebi_id', 'synthesis_reference', 'general_references', 'protein_associations'])"
      ]
     },
     "execution_count": 13,
     "metadata": {},
     "output_type": "execute_result"
    }
   ],
   "source": [
    "a[0].keys()"
   ]
  },
  {
   "cell_type": "code",
   "execution_count": 15,
   "metadata": {},
   "outputs": [
    {
     "data": {
      "text/html": [
       "<div>\n",
       "<style scoped>\n",
       "    .dataframe tbody tr th:only-of-type {\n",
       "        vertical-align: middle;\n",
       "    }\n",
       "\n",
       "    .dataframe tbody tr th {\n",
       "        vertical-align: top;\n",
       "    }\n",
       "\n",
       "    .dataframe thead th {\n",
       "        text-align: right;\n",
       "    }\n",
       "</style>\n",
       "<table border=\"1\" class=\"dataframe\">\n",
       "  <thead>\n",
       "    <tr style=\"text-align: right;\">\n",
       "      <th></th>\n",
       "      <th>abnormal_concentrations</th>\n",
       "      <th>accession</th>\n",
       "      <th>average_molecular_weight</th>\n",
       "      <th>bigg_id</th>\n",
       "      <th>biocyc_id</th>\n",
       "      <th>biological_properties</th>\n",
       "      <th>biospecimen_locations</th>\n",
       "      <th>cas_registry_number</th>\n",
       "      <th>cellular_locations</th>\n",
       "      <th>chebi_id</th>\n",
       "      <th>...</th>\n",
       "      <th>state</th>\n",
       "      <th>status</th>\n",
       "      <th>synonyms</th>\n",
       "      <th>synthesis_reference</th>\n",
       "      <th>taxonomy</th>\n",
       "      <th>tissue_locations</th>\n",
       "      <th>traditional_iupac</th>\n",
       "      <th>update_date</th>\n",
       "      <th>version</th>\n",
       "      <th>wikipidia</th>\n",
       "    </tr>\n",
       "  </thead>\n",
       "  <tbody>\n",
       "    <tr>\n",
       "      <th>0</th>\n",
       "      <td>{'concentration': [{'biospecimen': 'Blood', 'c...</td>\n",
       "      <td>HMDB0000001</td>\n",
       "      <td>169.1811</td>\n",
       "      <td>None</td>\n",
       "      <td>CPD-1823</td>\n",
       "      <td>NaN</td>\n",
       "      <td>{'biospecimen': ['Blood', 'Cerebrospinal Fluid...</td>\n",
       "      <td>332-80-9</td>\n",
       "      <td>{'cellular': 'Cytoplasm'}</td>\n",
       "      <td>50599</td>\n",
       "      <td>...</td>\n",
       "      <td>Solid</td>\n",
       "      <td>quantified</td>\n",
       "      <td>{'synonym': ['(2S)-2-amino-3-(1-Methyl-1H-imid...</td>\n",
       "      <td>Jain, Rahul; Cohen, Louis A. Regiospecific alk...</td>\n",
       "      <td>{'description': 'This compound belongs to the ...</td>\n",
       "      <td>{'tissue': ['Muscle', 'Skeletal Muscle']}</td>\n",
       "      <td>1 methylhistidine</td>\n",
       "      <td>2018-05-20 20:24:02 UTC</td>\n",
       "      <td>4.0</td>\n",
       "      <td>None</td>\n",
       "    </tr>\n",
       "    <tr>\n",
       "      <th>1</th>\n",
       "      <td>{'concentration': [{'biospecimen': 'Blood', 'c...</td>\n",
       "      <td>HMDB0000002</td>\n",
       "      <td>74.1249</td>\n",
       "      <td>36543</td>\n",
       "      <td>CPD-313</td>\n",
       "      <td>NaN</td>\n",
       "      <td>{'biospecimen': ['Blood', 'Feces', 'Urine']}</td>\n",
       "      <td>109-76-2</td>\n",
       "      <td>{'cellular': 'Cytoplasm'}</td>\n",
       "      <td>15725</td>\n",
       "      <td>...</td>\n",
       "      <td>Liquid</td>\n",
       "      <td>quantified</td>\n",
       "      <td>{'synonym': ['1,3-Propanediamine', '1,3-Propyl...</td>\n",
       "      <td>Takayanagi, Yasuyuki; Oohinata, Takahiro.  Pre...</td>\n",
       "      <td>{'description': 'This compound belongs to the ...</td>\n",
       "      <td>None</td>\n",
       "      <td>α,ω-propanediamine</td>\n",
       "      <td>2018-05-20 06:57:20 UTC</td>\n",
       "      <td>4.0</td>\n",
       "      <td>None</td>\n",
       "    </tr>\n",
       "    <tr>\n",
       "      <th>2</th>\n",
       "      <td>{'concentration': {'biospecimen': 'Urine', 'co...</td>\n",
       "      <td>HMDB0000005</td>\n",
       "      <td>102.0886</td>\n",
       "      <td>33889</td>\n",
       "      <td>2-OXOBUTANOATE</td>\n",
       "      <td>NaN</td>\n",
       "      <td>{'biospecimen': ['Blood', 'Cerebrospinal Fluid...</td>\n",
       "      <td>600-18-0</td>\n",
       "      <td>{'cellular': 'Cytoplasm'}</td>\n",
       "      <td>30831</td>\n",
       "      <td>...</td>\n",
       "      <td>Solid</td>\n",
       "      <td>quantified</td>\n",
       "      <td>{'synonym': ['2-Ketobutanoic acid', '2-Oxobuty...</td>\n",
       "      <td>Figge, Rainer; Lux, Fabien; Raynaud, Celine; S...</td>\n",
       "      <td>{'description': 'This compound belongs to the ...</td>\n",
       "      <td>None</td>\n",
       "      <td>2-oxobutanoic acid</td>\n",
       "      <td>2018-05-20 02:21:35 UTC</td>\n",
       "      <td>4.0</td>\n",
       "      <td>Alpha-ketobutyric_acid</td>\n",
       "    </tr>\n",
       "    <tr>\n",
       "      <th>3</th>\n",
       "      <td>{'concentration': [{'biospecimen': 'Blood', 'c...</td>\n",
       "      <td>HMDB0000008</td>\n",
       "      <td>104.1045</td>\n",
       "      <td>47130</td>\n",
       "      <td>CPD-3564</td>\n",
       "      <td>NaN</td>\n",
       "      <td>{'biospecimen': ['Blood', 'Cerebrospinal Fluid...</td>\n",
       "      <td>600-15-7</td>\n",
       "      <td>{'cellular': ['Cytoplasm', 'Extracellular']}</td>\n",
       "      <td>1148</td>\n",
       "      <td>...</td>\n",
       "      <td>Solid</td>\n",
       "      <td>quantified</td>\n",
       "      <td>{'synonym': ['2-Hydroxybutanoic acid', 'alpha-...</td>\n",
       "      <td>Carlier, J. P.; Henry, C.; Lorin, V.; Rouffign...</td>\n",
       "      <td>{'description': 'This compound belongs to the ...</td>\n",
       "      <td>{'tissue': 'Prostate'}</td>\n",
       "      <td>α-hydroxybutyric acid</td>\n",
       "      <td>2018-05-20 20:40:32 UTC</td>\n",
       "      <td>4.0</td>\n",
       "      <td>2-Hydroxybutyric acid</td>\n",
       "    </tr>\n",
       "    <tr>\n",
       "      <th>4</th>\n",
       "      <td>{'concentration': {'biospecimen': 'Urine', 'co...</td>\n",
       "      <td>HMDB0000010</td>\n",
       "      <td>300.3921</td>\n",
       "      <td>None</td>\n",
       "      <td>None</td>\n",
       "      <td>NaN</td>\n",
       "      <td>{'biospecimen': ['Blood', 'Urine']}</td>\n",
       "      <td>362-08-3</td>\n",
       "      <td>{'cellular': ['Extracellular', 'Membrane']}</td>\n",
       "      <td>1189</td>\n",
       "      <td>...</td>\n",
       "      <td>Solid</td>\n",
       "      <td>quantified</td>\n",
       "      <td>{'synonym': ['2-(8S,9S,13S,14S)-3-Hydroxy-2-me...</td>\n",
       "      <td>Stoelwinder, Johannes; Moers, Nicolaas Elisabe...</td>\n",
       "      <td>{'description': 'This compound belongs to the ...</td>\n",
       "      <td>None</td>\n",
       "      <td>2-methoxyestrone</td>\n",
       "      <td>2018-05-25 18:22:39 UTC</td>\n",
       "      <td>4.0</td>\n",
       "      <td>None</td>\n",
       "    </tr>\n",
       "  </tbody>\n",
       "</table>\n",
       "<p>5 rows × 54 columns</p>\n",
       "</div>"
      ],
      "text/plain": [
       "                             abnormal_concentrations    accession  \\\n",
       "0  {'concentration': [{'biospecimen': 'Blood', 'c...  HMDB0000001   \n",
       "1  {'concentration': [{'biospecimen': 'Blood', 'c...  HMDB0000002   \n",
       "2  {'concentration': {'biospecimen': 'Urine', 'co...  HMDB0000005   \n",
       "3  {'concentration': [{'biospecimen': 'Blood', 'c...  HMDB0000008   \n",
       "4  {'concentration': {'biospecimen': 'Urine', 'co...  HMDB0000010   \n",
       "\n",
       "  average_molecular_weight bigg_id       biocyc_id biological_properties  \\\n",
       "0                 169.1811    None        CPD-1823                   NaN   \n",
       "1                  74.1249   36543         CPD-313                   NaN   \n",
       "2                 102.0886   33889  2-OXOBUTANOATE                   NaN   \n",
       "3                 104.1045   47130        CPD-3564                   NaN   \n",
       "4                 300.3921    None            None                   NaN   \n",
       "\n",
       "                               biospecimen_locations cas_registry_number  \\\n",
       "0  {'biospecimen': ['Blood', 'Cerebrospinal Fluid...            332-80-9   \n",
       "1       {'biospecimen': ['Blood', 'Feces', 'Urine']}            109-76-2   \n",
       "2  {'biospecimen': ['Blood', 'Cerebrospinal Fluid...            600-18-0   \n",
       "3  {'biospecimen': ['Blood', 'Cerebrospinal Fluid...            600-15-7   \n",
       "4                {'biospecimen': ['Blood', 'Urine']}            362-08-3   \n",
       "\n",
       "                             cellular_locations chebi_id  \\\n",
       "0                     {'cellular': 'Cytoplasm'}    50599   \n",
       "1                     {'cellular': 'Cytoplasm'}    15725   \n",
       "2                     {'cellular': 'Cytoplasm'}    30831   \n",
       "3  {'cellular': ['Cytoplasm', 'Extracellular']}     1148   \n",
       "4   {'cellular': ['Extracellular', 'Membrane']}     1189   \n",
       "\n",
       "            ...             state      status  \\\n",
       "0           ...             Solid  quantified   \n",
       "1           ...            Liquid  quantified   \n",
       "2           ...             Solid  quantified   \n",
       "3           ...             Solid  quantified   \n",
       "4           ...             Solid  quantified   \n",
       "\n",
       "                                            synonyms  \\\n",
       "0  {'synonym': ['(2S)-2-amino-3-(1-Methyl-1H-imid...   \n",
       "1  {'synonym': ['1,3-Propanediamine', '1,3-Propyl...   \n",
       "2  {'synonym': ['2-Ketobutanoic acid', '2-Oxobuty...   \n",
       "3  {'synonym': ['2-Hydroxybutanoic acid', 'alpha-...   \n",
       "4  {'synonym': ['2-(8S,9S,13S,14S)-3-Hydroxy-2-me...   \n",
       "\n",
       "                                 synthesis_reference  \\\n",
       "0  Jain, Rahul; Cohen, Louis A. Regiospecific alk...   \n",
       "1  Takayanagi, Yasuyuki; Oohinata, Takahiro.  Pre...   \n",
       "2  Figge, Rainer; Lux, Fabien; Raynaud, Celine; S...   \n",
       "3  Carlier, J. P.; Henry, C.; Lorin, V.; Rouffign...   \n",
       "4  Stoelwinder, Johannes; Moers, Nicolaas Elisabe...   \n",
       "\n",
       "                                            taxonomy  \\\n",
       "0  {'description': 'This compound belongs to the ...   \n",
       "1  {'description': 'This compound belongs to the ...   \n",
       "2  {'description': 'This compound belongs to the ...   \n",
       "3  {'description': 'This compound belongs to the ...   \n",
       "4  {'description': 'This compound belongs to the ...   \n",
       "\n",
       "                            tissue_locations      traditional_iupac  \\\n",
       "0  {'tissue': ['Muscle', 'Skeletal Muscle']}      1 methylhistidine   \n",
       "1                                       None     α,ω-propanediamine   \n",
       "2                                       None     2-oxobutanoic acid   \n",
       "3                     {'tissue': 'Prostate'}  α-hydroxybutyric acid   \n",
       "4                                       None       2-methoxyestrone   \n",
       "\n",
       "               update_date version               wikipidia  \n",
       "0  2018-05-20 20:24:02 UTC     4.0                    None  \n",
       "1  2018-05-20 06:57:20 UTC     4.0                    None  \n",
       "2  2018-05-20 02:21:35 UTC     4.0  Alpha-ketobutyric_acid  \n",
       "3  2018-05-20 20:40:32 UTC     4.0   2-Hydroxybutyric acid  \n",
       "4  2018-05-25 18:22:39 UTC     4.0                    None  \n",
       "\n",
       "[5 rows x 54 columns]"
      ]
     },
     "execution_count": 15,
     "metadata": {},
     "output_type": "execute_result"
    }
   ],
   "source": [
    "df = pd.DataFrame.from_records(a)\n",
    "df.head()"
   ]
  },
  {
   "cell_type": "code",
   "execution_count": 16,
   "metadata": {},
   "outputs": [
    {
     "data": {
      "text/plain": [
       "(114100, 54)"
      ]
     },
     "execution_count": 16,
     "metadata": {},
     "output_type": "execute_result"
    }
   ],
   "source": [
    "df.shape"
   ]
  },
  {
   "cell_type": "code",
   "execution_count": 18,
   "metadata": {},
   "outputs": [
    {
     "data": {
      "text/html": [
       "<div>\n",
       "<style scoped>\n",
       "    .dataframe tbody tr th:only-of-type {\n",
       "        vertical-align: middle;\n",
       "    }\n",
       "\n",
       "    .dataframe tbody tr th {\n",
       "        vertical-align: top;\n",
       "    }\n",
       "\n",
       "    .dataframe thead th {\n",
       "        text-align: right;\n",
       "    }\n",
       "</style>\n",
       "<table border=\"1\" class=\"dataframe\">\n",
       "  <thead>\n",
       "    <tr style=\"text-align: right;\">\n",
       "      <th></th>\n",
       "      <th>name</th>\n",
       "      <th>protein_associations</th>\n",
       "    </tr>\n",
       "  </thead>\n",
       "  <tbody>\n",
       "    <tr>\n",
       "      <th>0</th>\n",
       "      <td>1-Methylhistidine</td>\n",
       "      <td>{'protein': [{'protein_accession': 'HMDBP00473...</td>\n",
       "    </tr>\n",
       "    <tr>\n",
       "      <th>1</th>\n",
       "      <td>1,3-Diaminopropane</td>\n",
       "      <td>{'protein': [{'protein_accession': 'HMDBP00217...</td>\n",
       "    </tr>\n",
       "    <tr>\n",
       "      <th>2</th>\n",
       "      <td>2-Ketobutyric acid</td>\n",
       "      <td>{'protein': [{'protein_accession': 'HMDBP00012...</td>\n",
       "    </tr>\n",
       "    <tr>\n",
       "      <th>3</th>\n",
       "      <td>2-Hydroxybutyric acid</td>\n",
       "      <td>{'protein': [{'protein_accession': 'HMDBP00054...</td>\n",
       "    </tr>\n",
       "    <tr>\n",
       "      <th>4</th>\n",
       "      <td>2-Methoxyestrone</td>\n",
       "      <td>{'protein': [{'protein_accession': 'HMDBP00272...</td>\n",
       "    </tr>\n",
       "  </tbody>\n",
       "</table>\n",
       "</div>"
      ],
      "text/plain": [
       "                    name                               protein_associations\n",
       "0      1-Methylhistidine  {'protein': [{'protein_accession': 'HMDBP00473...\n",
       "1     1,3-Diaminopropane  {'protein': [{'protein_accession': 'HMDBP00217...\n",
       "2     2-Ketobutyric acid  {'protein': [{'protein_accession': 'HMDBP00012...\n",
       "3  2-Hydroxybutyric acid  {'protein': [{'protein_accession': 'HMDBP00054...\n",
       "4       2-Methoxyestrone  {'protein': [{'protein_accession': 'HMDBP00272..."
      ]
     },
     "execution_count": 18,
     "metadata": {},
     "output_type": "execute_result"
    }
   ],
   "source": [
    "df = df[['name', 'protein_associations']]\n",
    "df.head()"
   ]
  },
  {
   "cell_type": "code",
   "execution_count": 39,
   "metadata": {},
   "outputs": [
    {
     "name": "stdout",
     "output_type": "stream",
     "text": [
      "Progress: 77%  88416 Out of 114100   \r"
     ]
    },
    {
     "name": "stderr",
     "output_type": "stream",
     "text": [
      "IOPub message rate exceeded.\n",
      "The notebook server will temporarily stop sending output\n",
      "to the client in order to avoid crashing it.\n",
      "To change this limit, set the config variable\n",
      "`--NotebookApp.iopub_msg_rate_limit`.\n",
      "\n",
      "Current values:\n",
      "NotebookApp.iopub_msg_rate_limit=1000.0 (msgs/sec)\n",
      "NotebookApp.rate_limit_window=3.0 (secs)\n",
      "\n"
     ]
    },
    {
     "name": "stdout",
     "output_type": "stream",
     "text": [
      "Progress: 97%  110727 Out of 114100   \r"
     ]
    },
    {
     "name": "stderr",
     "output_type": "stream",
     "text": [
      "IOPub message rate exceeded.\n",
      "The notebook server will temporarily stop sending output\n",
      "to the client in order to avoid crashing it.\n",
      "To change this limit, set the config variable\n",
      "`--NotebookApp.iopub_msg_rate_limit`.\n",
      "\n",
      "Current values:\n",
      "NotebookApp.iopub_msg_rate_limit=1000.0 (msgs/sec)\n",
      "NotebookApp.rate_limit_window=3.0 (secs)\n",
      "\n"
     ]
    },
    {
     "name": "stdout",
     "output_type": "stream",
     "text": [
      "Progress: 100%  114100 Out of 114100   \r"
     ]
    }
   ],
   "source": [
    "df_interactions = pd.DataFrame()\n",
    "\n",
    "for i, index in enumerate(df.index):\n",
    "    \n",
    "    lst2 = []\n",
    "    \n",
    "    progressPercent = ((i+1)/len(df.index))*100\n",
    "\n",
    "    if i%1000 == 0:\n",
    "        sys.stdout.write(\"Progress: %d%%  %d Out of %d   \\r\" % (progressPercent, (i+1), len(df.index)))\n",
    "        sys.stdout.flush()\n",
    "    if df.loc[index]['protein_associations']:\n",
    "        if len(df.loc[1]['protein_associations']) > 1:\n",
    "            print(df.loc[1]['protein_associations'])\n",
    "#         if type(df.ix[index, 'protein_associations']['protein']) == list:\n",
    "#             for j in range(0, len(df.ix[index, 'protein_associations']['protein'])):\n",
    "#                 lst2.append(df.ix[index, 'protein_associations']['protein'][j]['gene_name'])\n",
    "#         else:\n",
    "#             lst2.append(df.ix[index, 'protein_associations']['protein']['gene_name'])\n",
    "#         lst1 = [df.ix[index, 'name']]*(len(lst2))\n",
    "#         temp = pd.DataFrame()\n",
    "#         temp['Metabolite'] = lst1\n",
    "#         temp['Gene'] = lst2\n",
    "#         df_interactions = pd.concat([df_interactions, temp]) "
   ]
  },
  {
   "cell_type": "code",
   "execution_count": 38,
   "metadata": {},
   "outputs": [
    {
     "data": {
      "text/plain": [
       "1"
      ]
     },
     "execution_count": 38,
     "metadata": {},
     "output_type": "execute_result"
    }
   ],
   "source": [
    "len(df.loc[1]['protein_associations'])"
   ]
  },
  {
   "cell_type": "code",
   "execution_count": 41,
   "metadata": {},
   "outputs": [
    {
     "data": {
      "text/plain": [
       "3"
      ]
     },
     "execution_count": 41,
     "metadata": {},
     "output_type": "execute_result"
    }
   ],
   "source": [
    "3%4"
   ]
  },
  {
   "cell_type": "code",
   "execution_count": null,
   "metadata": {},
   "outputs": [],
   "source": []
  }
 ],
 "metadata": {
  "kernelspec": {
   "display_name": "pvenv",
   "language": "python",
   "name": "pvenv"
  },
  "language_info": {
   "codemirror_mode": {
    "name": "ipython",
    "version": 3
   },
   "file_extension": ".py",
   "mimetype": "text/x-python",
   "name": "python",
   "nbconvert_exporter": "python",
   "pygments_lexer": "ipython3",
   "version": "3.6.5"
  }
 },
 "nbformat": 4,
 "nbformat_minor": 2
}
