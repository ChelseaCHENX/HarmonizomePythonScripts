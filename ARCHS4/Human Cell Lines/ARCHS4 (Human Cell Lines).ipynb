{
 "cells": [
  {
   "cell_type": "markdown",
   "metadata": {},
   "source": [
    "# ARCHS4 (Human Cell Lines)"
   ]
  },
  {
   "cell_type": "markdown",
   "metadata": {},
   "source": [
    "Author: Moshe Silverstein <br/>\n",
    "Date: 8-17 <br/>\n",
    "Data Source: "
   ]
  },
  {
   "cell_type": "code",
   "execution_count": 1,
   "metadata": {
    "collapsed": true
   },
   "outputs": [],
   "source": [
    "import sys, datetime, os\n",
    "import numpy as np\n",
    "import pandas as pd\n",
    "import importlib\n",
    "import untility_functions as uf\n",
    "from collections import Counter\n",
    "import json\n",
    "import re\n",
    "import scipy\n",
    "from sklearn.metrics import jaccard_similarity_score\n",
    "from sklearn.metrics.pairwise import cosine_similarity\n",
    "import scipy.stats as stats\n",
    "%matplotlib inline"
   ]
  },
  {
   "cell_type": "code",
   "execution_count": 2,
   "metadata": {},
   "outputs": [
    {
     "data": {
      "text/plain": [
       "<module 'untility_functions' from '/Users/moshesilverstein/Documents/Harmonizome/ARCHS4/untility_functions.py'>"
      ]
     },
     "execution_count": 2,
     "metadata": {},
     "output_type": "execute_result"
    }
   ],
   "source": [
    "importlib.reload(uf)"
   ]
  },
  {
   "cell_type": "markdown",
   "metadata": {},
   "source": [
    "# Download the data using r scripts provided by ARCHS4"
   ]
  },
  {
   "cell_type": "code",
   "execution_count": 3,
   "metadata": {
    "collapsed": true
   },
   "outputs": [],
   "source": [
    "import h5py\n",
    "\n",
    "filename = '/Users/moshesilverstein/Documents/Harmonizome/ARCHS4/Input/Human/Tissue/human_matrix.h5'\n",
    "f = h5py.File(filename, 'r')"
   ]
  },
  {
   "cell_type": "markdown",
   "metadata": {},
   "source": [
    "# Load Data "
   ]
  },
  {
   "cell_type": "code",
   "execution_count": 4,
   "metadata": {
    "collapsed": true
   },
   "outputs": [],
   "source": [
    "matrix = pd.DataFrame(data = f['data/expression'][:,:])"
   ]
  },
  {
   "cell_type": "code",
   "execution_count": 5,
   "metadata": {
    "collapsed": true
   },
   "outputs": [],
   "source": [
    "matrix = matrix.T"
   ]
  },
  {
   "cell_type": "code",
   "execution_count": 6,
   "metadata": {},
   "outputs": [
    {
     "data": {
      "text/html": [
       "<div>\n",
       "<table border=\"1\" class=\"dataframe\">\n",
       "  <thead>\n",
       "    <tr style=\"text-align: right;\">\n",
       "      <th></th>\n",
       "      <th>0</th>\n",
       "      <th>1</th>\n",
       "      <th>2</th>\n",
       "      <th>3</th>\n",
       "      <th>4</th>\n",
       "      <th>5</th>\n",
       "      <th>6</th>\n",
       "      <th>7</th>\n",
       "      <th>8</th>\n",
       "      <th>9</th>\n",
       "      <th>...</th>\n",
       "      <th>65419</th>\n",
       "      <th>65420</th>\n",
       "      <th>65421</th>\n",
       "      <th>65422</th>\n",
       "      <th>65423</th>\n",
       "      <th>65424</th>\n",
       "      <th>65425</th>\n",
       "      <th>65426</th>\n",
       "      <th>65427</th>\n",
       "      <th>65428</th>\n",
       "    </tr>\n",
       "  </thead>\n",
       "  <tbody>\n",
       "    <tr>\n",
       "      <th>0</th>\n",
       "      <td>124</td>\n",
       "      <td>0</td>\n",
       "      <td>0</td>\n",
       "      <td>0</td>\n",
       "      <td>108</td>\n",
       "      <td>0</td>\n",
       "      <td>0</td>\n",
       "      <td>0</td>\n",
       "      <td>0</td>\n",
       "      <td>0</td>\n",
       "      <td>...</td>\n",
       "      <td>82</td>\n",
       "      <td>81</td>\n",
       "      <td>86</td>\n",
       "      <td>133</td>\n",
       "      <td>597</td>\n",
       "      <td>808</td>\n",
       "      <td>458</td>\n",
       "      <td>435</td>\n",
       "      <td>766</td>\n",
       "      <td>525</td>\n",
       "    </tr>\n",
       "    <tr>\n",
       "      <th>1</th>\n",
       "      <td>77</td>\n",
       "      <td>0</td>\n",
       "      <td>0</td>\n",
       "      <td>0</td>\n",
       "      <td>56</td>\n",
       "      <td>0</td>\n",
       "      <td>0</td>\n",
       "      <td>0</td>\n",
       "      <td>0</td>\n",
       "      <td>0</td>\n",
       "      <td>...</td>\n",
       "      <td>7</td>\n",
       "      <td>6</td>\n",
       "      <td>5</td>\n",
       "      <td>4</td>\n",
       "      <td>3</td>\n",
       "      <td>11</td>\n",
       "      <td>6</td>\n",
       "      <td>7</td>\n",
       "      <td>14</td>\n",
       "      <td>8</td>\n",
       "    </tr>\n",
       "    <tr>\n",
       "      <th>2</th>\n",
       "      <td>10743</td>\n",
       "      <td>189</td>\n",
       "      <td>1518</td>\n",
       "      <td>1873</td>\n",
       "      <td>26007</td>\n",
       "      <td>835</td>\n",
       "      <td>1077</td>\n",
       "      <td>12724</td>\n",
       "      <td>545</td>\n",
       "      <td>1100</td>\n",
       "      <td>...</td>\n",
       "      <td>234</td>\n",
       "      <td>8514</td>\n",
       "      <td>320</td>\n",
       "      <td>13332</td>\n",
       "      <td>41</td>\n",
       "      <td>42</td>\n",
       "      <td>45</td>\n",
       "      <td>30</td>\n",
       "      <td>73</td>\n",
       "      <td>25</td>\n",
       "    </tr>\n",
       "    <tr>\n",
       "      <th>3</th>\n",
       "      <td>28</td>\n",
       "      <td>6</td>\n",
       "      <td>0</td>\n",
       "      <td>0</td>\n",
       "      <td>20</td>\n",
       "      <td>0</td>\n",
       "      <td>0</td>\n",
       "      <td>0</td>\n",
       "      <td>0</td>\n",
       "      <td>0</td>\n",
       "      <td>...</td>\n",
       "      <td>13</td>\n",
       "      <td>12</td>\n",
       "      <td>24</td>\n",
       "      <td>15</td>\n",
       "      <td>10</td>\n",
       "      <td>10</td>\n",
       "      <td>5</td>\n",
       "      <td>7</td>\n",
       "      <td>15</td>\n",
       "      <td>9</td>\n",
       "    </tr>\n",
       "    <tr>\n",
       "      <th>4</th>\n",
       "      <td>119</td>\n",
       "      <td>0</td>\n",
       "      <td>0</td>\n",
       "      <td>0</td>\n",
       "      <td>69</td>\n",
       "      <td>0</td>\n",
       "      <td>0</td>\n",
       "      <td>0</td>\n",
       "      <td>0</td>\n",
       "      <td>0</td>\n",
       "      <td>...</td>\n",
       "      <td>13</td>\n",
       "      <td>15</td>\n",
       "      <td>23</td>\n",
       "      <td>14</td>\n",
       "      <td>2</td>\n",
       "      <td>1</td>\n",
       "      <td>1</td>\n",
       "      <td>0</td>\n",
       "      <td>0</td>\n",
       "      <td>1</td>\n",
       "    </tr>\n",
       "  </tbody>\n",
       "</table>\n",
       "<p>5 rows × 65429 columns</p>\n",
       "</div>"
      ],
      "text/plain": [
       "   0      1      2      3      4      5      6      7      8      9      \\\n",
       "0    124      0      0      0    108      0      0      0      0      0   \n",
       "1     77      0      0      0     56      0      0      0      0      0   \n",
       "2  10743    189   1518   1873  26007    835   1077  12724    545   1100   \n",
       "3     28      6      0      0     20      0      0      0      0      0   \n",
       "4    119      0      0      0     69      0      0      0      0      0   \n",
       "\n",
       "   ...    65419  65420  65421  65422  65423  65424  65425  65426  65427  65428  \n",
       "0  ...       82     81     86    133    597    808    458    435    766    525  \n",
       "1  ...        7      6      5      4      3     11      6      7     14      8  \n",
       "2  ...      234   8514    320  13332     41     42     45     30     73     25  \n",
       "3  ...       13     12     24     15     10     10      5      7     15      9  \n",
       "4  ...       13     15     23     14      2      1      1      0      0      1  \n",
       "\n",
       "[5 rows x 65429 columns]"
      ]
     },
     "execution_count": 6,
     "metadata": {},
     "output_type": "execute_result"
    }
   ],
   "source": [
    "matrix.head()"
   ]
  },
  {
   "cell_type": "code",
   "execution_count": 7,
   "metadata": {},
   "outputs": [
    {
     "data": {
      "text/plain": [
       "(35238, 65429)"
      ]
     },
     "execution_count": 7,
     "metadata": {},
     "output_type": "execute_result"
    }
   ],
   "source": [
    "matrix.shape"
   ]
  },
  {
   "cell_type": "markdown",
   "metadata": {},
   "source": [
    "# Load Sample Meta Data"
   ]
  },
  {
   "cell_type": "code",
   "execution_count": 8,
   "metadata": {
    "collapsed": true
   },
   "outputs": [],
   "source": [
    "sample_meta = f['meta/Sample_source_name_ch1'][:].tolist()"
   ]
  },
  {
   "cell_type": "code",
   "execution_count": 9,
   "metadata": {
    "collapsed": true
   },
   "outputs": [],
   "source": [
    "lst = []\n",
    "for sample in sample_meta:\n",
    "    lst.append(sample.decode(\"utf-8\"))\n",
    "\n",
    "sample_meta = lst"
   ]
  },
  {
   "cell_type": "code",
   "execution_count": 10,
   "metadata": {},
   "outputs": [
    {
     "data": {
      "text/plain": [
       "['HeLa ELAVL1/HuR siRNA1 5d',\n",
       " 'brain',\n",
       " 'heart',\n",
       " 'lymph node',\n",
       " 'HeLa mock knockdown 5d',\n",
       " 'ovary',\n",
       " 'kidney',\n",
       " 'liver',\n",
       " 'thyroid',\n",
       " 'breast']"
      ]
     },
     "execution_count": 10,
     "metadata": {},
     "output_type": "execute_result"
    }
   ],
   "source": [
    "sample_meta[0:10]"
   ]
  },
  {
   "cell_type": "markdown",
   "metadata": {},
   "source": [
    "# Get Cell Line Data"
   ]
  },
  {
   "cell_type": "code",
   "execution_count": 11,
   "metadata": {
    "collapsed": true
   },
   "outputs": [],
   "source": [
    "human_celline = pd.read_csv('/Users/moshesilverstein/Documents/Harmonizome/ARCHS4/Input/Human/Cell_Lines/human_cell_lines.txt', sep='\\t')"
   ]
  },
  {
   "cell_type": "code",
   "execution_count": 12,
   "metadata": {},
   "outputs": [
    {
     "data": {
      "text/html": [
       "<div>\n",
       "<table border=\"1\" class=\"dataframe\">\n",
       "  <thead>\n",
       "    <tr style=\"text-align: right;\">\n",
       "      <th></th>\n",
       "      <th>cell_line</th>\n",
       "      <th>species</th>\n",
       "      <th>tissue</th>\n",
       "      <th>num_hits</th>\n",
       "    </tr>\n",
       "  </thead>\n",
       "  <tbody>\n",
       "    <tr>\n",
       "      <th>0</th>\n",
       "      <td>K562</td>\n",
       "      <td>Human</td>\n",
       "      <td>Bone marrow</td>\n",
       "      <td>729.0</td>\n",
       "    </tr>\n",
       "    <tr>\n",
       "      <th>1</th>\n",
       "      <td>HELA</td>\n",
       "      <td>Human</td>\n",
       "      <td>Cervix</td>\n",
       "      <td>588.0</td>\n",
       "    </tr>\n",
       "    <tr>\n",
       "      <th>2</th>\n",
       "      <td>HEPG2</td>\n",
       "      <td>Human</td>\n",
       "      <td>Liver</td>\n",
       "      <td>552.0</td>\n",
       "    </tr>\n",
       "    <tr>\n",
       "      <th>3</th>\n",
       "      <td>HEK293</td>\n",
       "      <td>Human</td>\n",
       "      <td>Kidney</td>\n",
       "      <td>533.0</td>\n",
       "    </tr>\n",
       "    <tr>\n",
       "      <th>4</th>\n",
       "      <td>MCF7</td>\n",
       "      <td>Human</td>\n",
       "      <td>Breast/Mammary</td>\n",
       "      <td>377.0</td>\n",
       "    </tr>\n",
       "  </tbody>\n",
       "</table>\n",
       "</div>"
      ],
      "text/plain": [
       "  cell_line species          tissue  num_hits\n",
       "0      K562   Human     Bone marrow     729.0\n",
       "1      HELA   Human          Cervix     588.0\n",
       "2     HEPG2   Human           Liver     552.0\n",
       "3    HEK293   Human          Kidney     533.0\n",
       "4      MCF7   Human  Breast/Mammary     377.0"
      ]
     },
     "execution_count": 12,
     "metadata": {},
     "output_type": "execute_result"
    }
   ],
   "source": [
    "human_celline.head()"
   ]
  },
  {
   "cell_type": "code",
   "execution_count": 13,
   "metadata": {},
   "outputs": [
    {
     "data": {
      "text/plain": [
       "(228, 4)"
      ]
     },
     "execution_count": 13,
     "metadata": {},
     "output_type": "execute_result"
    }
   ],
   "source": [
    "human_celline.shape"
   ]
  },
  {
   "cell_type": "code",
   "execution_count": 14,
   "metadata": {
    "collapsed": true
   },
   "outputs": [],
   "source": [
    "ccle_celline = pd.read_csv('/Users/moshesilverstein/Documents/Harmonizome/ARCHS4/Input/Human/Cell_Lines/CCLE_cell_lines.txt', sep='\\t')"
   ]
  },
  {
   "cell_type": "code",
   "execution_count": 15,
   "metadata": {},
   "outputs": [
    {
     "data": {
      "text/html": [
       "<div>\n",
       "<table border=\"1\" class=\"dataframe\">\n",
       "  <thead>\n",
       "    <tr style=\"text-align: right;\">\n",
       "      <th></th>\n",
       "      <th>cell_line</th>\n",
       "      <th>tissue</th>\n",
       "      <th>num_hits</th>\n",
       "    </tr>\n",
       "  </thead>\n",
       "  <tbody>\n",
       "    <tr>\n",
       "      <th>0</th>\n",
       "      <td>K562</td>\n",
       "      <td>haematopoietic_and_lymphoid_tissue</td>\n",
       "      <td>729</td>\n",
       "    </tr>\n",
       "    <tr>\n",
       "      <th>1</th>\n",
       "      <td>MCF7</td>\n",
       "      <td>breast</td>\n",
       "      <td>377</td>\n",
       "    </tr>\n",
       "    <tr>\n",
       "      <th>2</th>\n",
       "      <td>HN</td>\n",
       "      <td>upper_aerodigestive_tract</td>\n",
       "      <td>225</td>\n",
       "    </tr>\n",
       "    <tr>\n",
       "      <th>3</th>\n",
       "      <td>HT29</td>\n",
       "      <td>large_intestine</td>\n",
       "      <td>101</td>\n",
       "    </tr>\n",
       "    <tr>\n",
       "      <th>4</th>\n",
       "      <td>MDAMB231</td>\n",
       "      <td>breast</td>\n",
       "      <td>101</td>\n",
       "    </tr>\n",
       "  </tbody>\n",
       "</table>\n",
       "</div>"
      ],
      "text/plain": [
       "  cell_line                              tissue  num_hits\n",
       "0      K562  haematopoietic_and_lymphoid_tissue       729\n",
       "1      MCF7                              breast       377\n",
       "2        HN           upper_aerodigestive_tract       225\n",
       "3      HT29                     large_intestine       101\n",
       "4  MDAMB231                              breast       101"
      ]
     },
     "execution_count": 15,
     "metadata": {},
     "output_type": "execute_result"
    }
   ],
   "source": [
    "ccle_celline.head()"
   ]
  },
  {
   "cell_type": "code",
   "execution_count": 16,
   "metadata": {},
   "outputs": [
    {
     "data": {
      "text/plain": [
       "(109, 3)"
      ]
     },
     "execution_count": 16,
     "metadata": {},
     "output_type": "execute_result"
    }
   ],
   "source": [
    "ccle_celline.shape"
   ]
  },
  {
   "cell_type": "code",
   "execution_count": 17,
   "metadata": {
    "collapsed": true
   },
   "outputs": [],
   "source": [
    "list_of_cellines = list(set(human_celline['cell_line'].values.tolist()+ccle_celline['cell_line'].values.tolist()))"
   ]
  },
  {
   "cell_type": "code",
   "execution_count": 18,
   "metadata": {},
   "outputs": [
    {
     "data": {
      "text/plain": [
       "['NHFF',\n",
       " 'HT4',\n",
       " 'VCAP',\n",
       " '9HTE',\n",
       " 'HEK293',\n",
       " 'RPMI8226',\n",
       " 'KC18240 CELLS',\n",
       " 'MONOMAC6 ',\n",
       " 'NCIH1975',\n",
       " 'RKO']"
      ]
     },
     "execution_count": 18,
     "metadata": {},
     "output_type": "execute_result"
    }
   ],
   "source": [
    "list_of_cellines[0:10]"
   ]
  },
  {
   "cell_type": "code",
   "execution_count": 19,
   "metadata": {},
   "outputs": [
    {
     "data": {
      "text/plain": [
       "296"
      ]
     },
     "execution_count": 19,
     "metadata": {},
     "output_type": "execute_result"
    }
   ],
   "source": [
    "len(list_of_cellines)"
   ]
  },
  {
   "cell_type": "markdown",
   "metadata": {},
   "source": [
    "# Create list of Cell Line sample locations within matrix"
   ]
  },
  {
   "cell_type": "code",
   "execution_count": 20,
   "metadata": {
    "collapsed": true
   },
   "outputs": [],
   "source": [
    "matrix.columns = sample_meta"
   ]
  },
  {
   "cell_type": "code",
   "execution_count": 21,
   "metadata": {},
   "outputs": [
    {
     "name": "stdout",
     "output_type": "stream",
     "text": [
      "Progress: 99%  65398 Out of 65429   \r"
     ]
    }
   ],
   "source": [
    "celline_loc_list = []\n",
    "celline_list = []\n",
    "\n",
    "\n",
    "for i,sample in enumerate(matrix.columns):\n",
    "    \n",
    "    progressPercent = ((i+1)/len(matrix.columns))*100\n",
    "\n",
    "    sys.stdout.write(\"Progress: %d%%  %d Out of %d   \\r\" % (progressPercent, (i+1), len(matrix.columns)))\n",
    "    sys.stdout.flush()\n",
    "    \n",
    "    for celline in list_of_cellines:\n",
    "        if re.search(celline.lower(), sample.lower()):\n",
    "            celline_loc_list.append(i)\n",
    "            celline_list.append(celline)"
   ]
  },
  {
   "cell_type": "code",
   "execution_count": 22,
   "metadata": {
    "collapsed": true
   },
   "outputs": [],
   "source": [
    "matrix = matrix[celline_loc_list].copy()"
   ]
  },
  {
   "cell_type": "code",
   "execution_count": 23,
   "metadata": {
    "collapsed": true
   },
   "outputs": [],
   "source": [
    "matrix.columns = celline_list"
   ]
  },
  {
   "cell_type": "code",
   "execution_count": 24,
   "metadata": {},
   "outputs": [
    {
     "data": {
      "text/html": [
       "<div>\n",
       "<table border=\"1\" class=\"dataframe\">\n",
       "  <thead>\n",
       "    <tr style=\"text-align: right;\">\n",
       "      <th></th>\n",
       "      <th>HELA</th>\n",
       "      <th>HELA</th>\n",
       "      <th>HELA</th>\n",
       "      <th>HELA</th>\n",
       "      <th>HELA</th>\n",
       "      <th>HCT116</th>\n",
       "      <th>HEK293</th>\n",
       "      <th>LNCAP</th>\n",
       "      <th>HCT116</th>\n",
       "      <th>NTERA2</th>\n",
       "      <th>...</th>\n",
       "      <th>HEK293</th>\n",
       "      <th>HEK293</th>\n",
       "      <th>HEK293</th>\n",
       "      <th>HEK293</th>\n",
       "      <th>BT549</th>\n",
       "      <th>BT549</th>\n",
       "      <th>BT549</th>\n",
       "      <th>BT549</th>\n",
       "      <th>BT549</th>\n",
       "      <th>BT549</th>\n",
       "    </tr>\n",
       "  </thead>\n",
       "  <tbody>\n",
       "    <tr>\n",
       "      <th>0</th>\n",
       "      <td>124</td>\n",
       "      <td>108</td>\n",
       "      <td>86</td>\n",
       "      <td>18</td>\n",
       "      <td>60</td>\n",
       "      <td>0</td>\n",
       "      <td>33</td>\n",
       "      <td>126</td>\n",
       "      <td>22</td>\n",
       "      <td>132</td>\n",
       "      <td>...</td>\n",
       "      <td>969</td>\n",
       "      <td>914</td>\n",
       "      <td>973</td>\n",
       "      <td>1206</td>\n",
       "      <td>158</td>\n",
       "      <td>178</td>\n",
       "      <td>174</td>\n",
       "      <td>158</td>\n",
       "      <td>162</td>\n",
       "      <td>167</td>\n",
       "    </tr>\n",
       "    <tr>\n",
       "      <th>1</th>\n",
       "      <td>77</td>\n",
       "      <td>56</td>\n",
       "      <td>57</td>\n",
       "      <td>4</td>\n",
       "      <td>7</td>\n",
       "      <td>0</td>\n",
       "      <td>1</td>\n",
       "      <td>6</td>\n",
       "      <td>16</td>\n",
       "      <td>6</td>\n",
       "      <td>...</td>\n",
       "      <td>62</td>\n",
       "      <td>53</td>\n",
       "      <td>61</td>\n",
       "      <td>76</td>\n",
       "      <td>1</td>\n",
       "      <td>2</td>\n",
       "      <td>3</td>\n",
       "      <td>1</td>\n",
       "      <td>4</td>\n",
       "      <td>3</td>\n",
       "    </tr>\n",
       "    <tr>\n",
       "      <th>2</th>\n",
       "      <td>10743</td>\n",
       "      <td>26007</td>\n",
       "      <td>12424</td>\n",
       "      <td>18219</td>\n",
       "      <td>670</td>\n",
       "      <td>0</td>\n",
       "      <td>0</td>\n",
       "      <td>4</td>\n",
       "      <td>329</td>\n",
       "      <td>96</td>\n",
       "      <td>...</td>\n",
       "      <td>58</td>\n",
       "      <td>24</td>\n",
       "      <td>25</td>\n",
       "      <td>45</td>\n",
       "      <td>0</td>\n",
       "      <td>0</td>\n",
       "      <td>0</td>\n",
       "      <td>0</td>\n",
       "      <td>0</td>\n",
       "      <td>0</td>\n",
       "    </tr>\n",
       "    <tr>\n",
       "      <th>3</th>\n",
       "      <td>28</td>\n",
       "      <td>20</td>\n",
       "      <td>19</td>\n",
       "      <td>2</td>\n",
       "      <td>19</td>\n",
       "      <td>2</td>\n",
       "      <td>7</td>\n",
       "      <td>14</td>\n",
       "      <td>7</td>\n",
       "      <td>53</td>\n",
       "      <td>...</td>\n",
       "      <td>103</td>\n",
       "      <td>66</td>\n",
       "      <td>99</td>\n",
       "      <td>91</td>\n",
       "      <td>1</td>\n",
       "      <td>2</td>\n",
       "      <td>4</td>\n",
       "      <td>1</td>\n",
       "      <td>2</td>\n",
       "      <td>6</td>\n",
       "    </tr>\n",
       "    <tr>\n",
       "      <th>4</th>\n",
       "      <td>119</td>\n",
       "      <td>69</td>\n",
       "      <td>64</td>\n",
       "      <td>87</td>\n",
       "      <td>8</td>\n",
       "      <td>0</td>\n",
       "      <td>0</td>\n",
       "      <td>0</td>\n",
       "      <td>1</td>\n",
       "      <td>3</td>\n",
       "      <td>...</td>\n",
       "      <td>24</td>\n",
       "      <td>23</td>\n",
       "      <td>39</td>\n",
       "      <td>32</td>\n",
       "      <td>0</td>\n",
       "      <td>0</td>\n",
       "      <td>0</td>\n",
       "      <td>0</td>\n",
       "      <td>0</td>\n",
       "      <td>0</td>\n",
       "    </tr>\n",
       "  </tbody>\n",
       "</table>\n",
       "<p>5 rows × 5937 columns</p>\n",
       "</div>"
      ],
      "text/plain": [
       "    HELA   HELA   HELA   HELA  HELA  HCT116  HEK293  LNCAP  HCT116  NTERA2  \\\n",
       "0    124    108     86     18    60       0      33    126      22     132   \n",
       "1     77     56     57      4     7       0       1      6      16       6   \n",
       "2  10743  26007  12424  18219   670       0       0      4     329      96   \n",
       "3     28     20     19      2    19       2       7     14       7      53   \n",
       "4    119     69     64     87     8       0       0      0       1       3   \n",
       "\n",
       "   ...    HEK293  HEK293  HEK293  HEK293  BT549  BT549  BT549  BT549  BT549  \\\n",
       "0  ...       969     914     973    1206    158    178    174    158    162   \n",
       "1  ...        62      53      61      76      1      2      3      1      4   \n",
       "2  ...        58      24      25      45      0      0      0      0      0   \n",
       "3  ...       103      66      99      91      1      2      4      1      2   \n",
       "4  ...        24      23      39      32      0      0      0      0      0   \n",
       "\n",
       "   BT549  \n",
       "0    167  \n",
       "1      3  \n",
       "2      0  \n",
       "3      6  \n",
       "4      0  \n",
       "\n",
       "[5 rows x 5937 columns]"
      ]
     },
     "execution_count": 24,
     "metadata": {},
     "output_type": "execute_result"
    }
   ],
   "source": [
    "matrix.head()"
   ]
  },
  {
   "cell_type": "code",
   "execution_count": 25,
   "metadata": {},
   "outputs": [
    {
     "data": {
      "text/plain": [
       "(35238, 5937)"
      ]
     },
     "execution_count": 25,
     "metadata": {},
     "output_type": "execute_result"
    }
   ],
   "source": [
    "matrix.shape"
   ]
  },
  {
   "cell_type": "markdown",
   "metadata": {},
   "source": [
    "# Get Gene Symbols"
   ]
  },
  {
   "cell_type": "code",
   "execution_count": 26,
   "metadata": {
    "collapsed": true
   },
   "outputs": [],
   "source": [
    "gene_list = f['meta/genes'][:].tolist() "
   ]
  },
  {
   "cell_type": "code",
   "execution_count": 27,
   "metadata": {
    "collapsed": true
   },
   "outputs": [],
   "source": [
    "lst = []\n",
    "for gene in gene_list:\n",
    "    lst.append(gene.decode(\"utf-8\"))\n",
    "\n",
    "gene_list = lst"
   ]
  },
  {
   "cell_type": "code",
   "execution_count": 28,
   "metadata": {},
   "outputs": [
    {
     "data": {
      "text/plain": [
       "['A1BG',\n",
       " 'A1CF',\n",
       " 'A2M',\n",
       " 'A2ML1',\n",
       " 'A2MP1',\n",
       " 'A3GALT2',\n",
       " 'A4GALT',\n",
       " 'A4GNT',\n",
       " 'AAAS',\n",
       " 'AACS']"
      ]
     },
     "execution_count": 28,
     "metadata": {},
     "output_type": "execute_result"
    }
   ],
   "source": [
    "gene_list[0:10]"
   ]
  },
  {
   "cell_type": "markdown",
   "metadata": {},
   "source": [
    "# Map Gene Symbols to ID's"
   ]
  },
  {
   "cell_type": "code",
   "execution_count": 29,
   "metadata": {
    "collapsed": true
   },
   "outputs": [],
   "source": [
    "matrix.index = gene_list"
   ]
  },
  {
   "cell_type": "code",
   "execution_count": 30,
   "metadata": {},
   "outputs": [
    {
     "data": {
      "text/html": [
       "<div>\n",
       "<table border=\"1\" class=\"dataframe\">\n",
       "  <thead>\n",
       "    <tr style=\"text-align: right;\">\n",
       "      <th></th>\n",
       "      <th>HELA</th>\n",
       "      <th>HELA</th>\n",
       "      <th>HELA</th>\n",
       "      <th>HELA</th>\n",
       "      <th>HELA</th>\n",
       "      <th>HCT116</th>\n",
       "      <th>HEK293</th>\n",
       "      <th>LNCAP</th>\n",
       "      <th>HCT116</th>\n",
       "      <th>NTERA2</th>\n",
       "      <th>...</th>\n",
       "      <th>HEK293</th>\n",
       "      <th>HEK293</th>\n",
       "      <th>HEK293</th>\n",
       "      <th>HEK293</th>\n",
       "      <th>BT549</th>\n",
       "      <th>BT549</th>\n",
       "      <th>BT549</th>\n",
       "      <th>BT549</th>\n",
       "      <th>BT549</th>\n",
       "      <th>BT549</th>\n",
       "    </tr>\n",
       "  </thead>\n",
       "  <tbody>\n",
       "    <tr>\n",
       "      <th>A1BG</th>\n",
       "      <td>124</td>\n",
       "      <td>108</td>\n",
       "      <td>86</td>\n",
       "      <td>18</td>\n",
       "      <td>60</td>\n",
       "      <td>0</td>\n",
       "      <td>33</td>\n",
       "      <td>126</td>\n",
       "      <td>22</td>\n",
       "      <td>132</td>\n",
       "      <td>...</td>\n",
       "      <td>969</td>\n",
       "      <td>914</td>\n",
       "      <td>973</td>\n",
       "      <td>1206</td>\n",
       "      <td>158</td>\n",
       "      <td>178</td>\n",
       "      <td>174</td>\n",
       "      <td>158</td>\n",
       "      <td>162</td>\n",
       "      <td>167</td>\n",
       "    </tr>\n",
       "    <tr>\n",
       "      <th>A1CF</th>\n",
       "      <td>77</td>\n",
       "      <td>56</td>\n",
       "      <td>57</td>\n",
       "      <td>4</td>\n",
       "      <td>7</td>\n",
       "      <td>0</td>\n",
       "      <td>1</td>\n",
       "      <td>6</td>\n",
       "      <td>16</td>\n",
       "      <td>6</td>\n",
       "      <td>...</td>\n",
       "      <td>62</td>\n",
       "      <td>53</td>\n",
       "      <td>61</td>\n",
       "      <td>76</td>\n",
       "      <td>1</td>\n",
       "      <td>2</td>\n",
       "      <td>3</td>\n",
       "      <td>1</td>\n",
       "      <td>4</td>\n",
       "      <td>3</td>\n",
       "    </tr>\n",
       "    <tr>\n",
       "      <th>A2M</th>\n",
       "      <td>10743</td>\n",
       "      <td>26007</td>\n",
       "      <td>12424</td>\n",
       "      <td>18219</td>\n",
       "      <td>670</td>\n",
       "      <td>0</td>\n",
       "      <td>0</td>\n",
       "      <td>4</td>\n",
       "      <td>329</td>\n",
       "      <td>96</td>\n",
       "      <td>...</td>\n",
       "      <td>58</td>\n",
       "      <td>24</td>\n",
       "      <td>25</td>\n",
       "      <td>45</td>\n",
       "      <td>0</td>\n",
       "      <td>0</td>\n",
       "      <td>0</td>\n",
       "      <td>0</td>\n",
       "      <td>0</td>\n",
       "      <td>0</td>\n",
       "    </tr>\n",
       "    <tr>\n",
       "      <th>A2ML1</th>\n",
       "      <td>28</td>\n",
       "      <td>20</td>\n",
       "      <td>19</td>\n",
       "      <td>2</td>\n",
       "      <td>19</td>\n",
       "      <td>2</td>\n",
       "      <td>7</td>\n",
       "      <td>14</td>\n",
       "      <td>7</td>\n",
       "      <td>53</td>\n",
       "      <td>...</td>\n",
       "      <td>103</td>\n",
       "      <td>66</td>\n",
       "      <td>99</td>\n",
       "      <td>91</td>\n",
       "      <td>1</td>\n",
       "      <td>2</td>\n",
       "      <td>4</td>\n",
       "      <td>1</td>\n",
       "      <td>2</td>\n",
       "      <td>6</td>\n",
       "    </tr>\n",
       "    <tr>\n",
       "      <th>A2MP1</th>\n",
       "      <td>119</td>\n",
       "      <td>69</td>\n",
       "      <td>64</td>\n",
       "      <td>87</td>\n",
       "      <td>8</td>\n",
       "      <td>0</td>\n",
       "      <td>0</td>\n",
       "      <td>0</td>\n",
       "      <td>1</td>\n",
       "      <td>3</td>\n",
       "      <td>...</td>\n",
       "      <td>24</td>\n",
       "      <td>23</td>\n",
       "      <td>39</td>\n",
       "      <td>32</td>\n",
       "      <td>0</td>\n",
       "      <td>0</td>\n",
       "      <td>0</td>\n",
       "      <td>0</td>\n",
       "      <td>0</td>\n",
       "      <td>0</td>\n",
       "    </tr>\n",
       "  </tbody>\n",
       "</table>\n",
       "<p>5 rows × 5937 columns</p>\n",
       "</div>"
      ],
      "text/plain": [
       "        HELA   HELA   HELA   HELA  HELA  HCT116  HEK293  LNCAP  HCT116  \\\n",
       "A1BG     124    108     86     18    60       0      33    126      22   \n",
       "A1CF      77     56     57      4     7       0       1      6      16   \n",
       "A2M    10743  26007  12424  18219   670       0       0      4     329   \n",
       "A2ML1     28     20     19      2    19       2       7     14       7   \n",
       "A2MP1    119     69     64     87     8       0       0      0       1   \n",
       "\n",
       "       NTERA2  ...    HEK293  HEK293  HEK293  HEK293  BT549  BT549  BT549  \\\n",
       "A1BG      132  ...       969     914     973    1206    158    178    174   \n",
       "A1CF        6  ...        62      53      61      76      1      2      3   \n",
       "A2M        96  ...        58      24      25      45      0      0      0   \n",
       "A2ML1      53  ...       103      66      99      91      1      2      4   \n",
       "A2MP1       3  ...        24      23      39      32      0      0      0   \n",
       "\n",
       "       BT549  BT549  BT549  \n",
       "A1BG     158    162    167  \n",
       "A1CF       1      4      3  \n",
       "A2M        0      0      0  \n",
       "A2ML1      1      2      6  \n",
       "A2MP1      0      0      0  \n",
       "\n",
       "[5 rows x 5937 columns]"
      ]
     },
     "execution_count": 30,
     "metadata": {},
     "output_type": "execute_result"
    }
   ],
   "source": [
    "matrix.head()"
   ]
  },
  {
   "cell_type": "markdown",
   "metadata": {},
   "source": [
    "# Save Unfiltered Matrix To File"
   ]
  },
  {
   "cell_type": "code",
   "execution_count": 31,
   "metadata": {
    "collapsed": true
   },
   "outputs": [],
   "source": [
    "filename = '~/./Documents/Harmonizome/ARCHS4/Output/archs4_celline_matrix_unfilltered_%s.tsv.zip'% str(datetime.date.today())[0:7].replace('-', '_')\n",
    "matrix.to_csv(filename, sep='\\t', compression='gzip')"
   ]
  },
  {
   "cell_type": "code",
   "execution_count": 32,
   "metadata": {
    "collapsed": true
   },
   "outputs": [],
   "source": [
    "normalized_matrix = matrix.copy()"
   ]
  },
  {
   "cell_type": "markdown",
   "metadata": {},
   "source": [
    "# Drop Any Genes That Have Zero Expression Across 95% Of The Samples"
   ]
  },
  {
   "cell_type": "code",
   "execution_count": 33,
   "metadata": {
    "collapsed": true
   },
   "outputs": [],
   "source": [
    "normalized_matrix.replace(0, np.nan, inplace=True)"
   ]
  },
  {
   "cell_type": "code",
   "execution_count": 34,
   "metadata": {
    "collapsed": true
   },
   "outputs": [],
   "source": [
    "normalized_matrix.dropna(thresh=(0.05*normalized_matrix.shape[1]), axis=0, inplace=True)"
   ]
  },
  {
   "cell_type": "code",
   "execution_count": 35,
   "metadata": {
    "collapsed": true
   },
   "outputs": [],
   "source": [
    "normalized_matrix.replace(np.nan, 0, inplace=True)"
   ]
  },
  {
   "cell_type": "code",
   "execution_count": 36,
   "metadata": {},
   "outputs": [
    {
     "data": {
      "text/plain": [
       "(29839, 5937)"
      ]
     },
     "execution_count": 36,
     "metadata": {},
     "output_type": "execute_result"
    }
   ],
   "source": [
    "normalized_matrix.shape"
   ]
  },
  {
   "cell_type": "code",
   "execution_count": 37,
   "metadata": {},
   "outputs": [
    {
     "data": {
      "text/html": [
       "<div>\n",
       "<table border=\"1\" class=\"dataframe\">\n",
       "  <thead>\n",
       "    <tr style=\"text-align: right;\">\n",
       "      <th></th>\n",
       "      <th>HELA</th>\n",
       "      <th>HELA</th>\n",
       "      <th>HELA</th>\n",
       "      <th>HELA</th>\n",
       "      <th>HELA</th>\n",
       "      <th>HCT116</th>\n",
       "      <th>HEK293</th>\n",
       "      <th>LNCAP</th>\n",
       "      <th>HCT116</th>\n",
       "      <th>NTERA2</th>\n",
       "      <th>...</th>\n",
       "      <th>HEK293</th>\n",
       "      <th>HEK293</th>\n",
       "      <th>HEK293</th>\n",
       "      <th>HEK293</th>\n",
       "      <th>BT549</th>\n",
       "      <th>BT549</th>\n",
       "      <th>BT549</th>\n",
       "      <th>BT549</th>\n",
       "      <th>BT549</th>\n",
       "      <th>BT549</th>\n",
       "    </tr>\n",
       "  </thead>\n",
       "  <tbody>\n",
       "    <tr>\n",
       "      <th>A1BG</th>\n",
       "      <td>124.0</td>\n",
       "      <td>108.0</td>\n",
       "      <td>86.0</td>\n",
       "      <td>18.0</td>\n",
       "      <td>60.0</td>\n",
       "      <td>0.0</td>\n",
       "      <td>33.0</td>\n",
       "      <td>126.0</td>\n",
       "      <td>22.0</td>\n",
       "      <td>132.0</td>\n",
       "      <td>...</td>\n",
       "      <td>969.0</td>\n",
       "      <td>914.0</td>\n",
       "      <td>973.0</td>\n",
       "      <td>1206.0</td>\n",
       "      <td>158.0</td>\n",
       "      <td>178.0</td>\n",
       "      <td>174.0</td>\n",
       "      <td>158.0</td>\n",
       "      <td>162.0</td>\n",
       "      <td>167.0</td>\n",
       "    </tr>\n",
       "    <tr>\n",
       "      <th>A1CF</th>\n",
       "      <td>77.0</td>\n",
       "      <td>56.0</td>\n",
       "      <td>57.0</td>\n",
       "      <td>4.0</td>\n",
       "      <td>7.0</td>\n",
       "      <td>0.0</td>\n",
       "      <td>1.0</td>\n",
       "      <td>6.0</td>\n",
       "      <td>16.0</td>\n",
       "      <td>6.0</td>\n",
       "      <td>...</td>\n",
       "      <td>62.0</td>\n",
       "      <td>53.0</td>\n",
       "      <td>61.0</td>\n",
       "      <td>76.0</td>\n",
       "      <td>1.0</td>\n",
       "      <td>2.0</td>\n",
       "      <td>3.0</td>\n",
       "      <td>1.0</td>\n",
       "      <td>4.0</td>\n",
       "      <td>3.0</td>\n",
       "    </tr>\n",
       "    <tr>\n",
       "      <th>A2M</th>\n",
       "      <td>10743.0</td>\n",
       "      <td>26007.0</td>\n",
       "      <td>12424.0</td>\n",
       "      <td>18219.0</td>\n",
       "      <td>670.0</td>\n",
       "      <td>0.0</td>\n",
       "      <td>0.0</td>\n",
       "      <td>4.0</td>\n",
       "      <td>329.0</td>\n",
       "      <td>96.0</td>\n",
       "      <td>...</td>\n",
       "      <td>58.0</td>\n",
       "      <td>24.0</td>\n",
       "      <td>25.0</td>\n",
       "      <td>45.0</td>\n",
       "      <td>0.0</td>\n",
       "      <td>0.0</td>\n",
       "      <td>0.0</td>\n",
       "      <td>0.0</td>\n",
       "      <td>0.0</td>\n",
       "      <td>0.0</td>\n",
       "    </tr>\n",
       "    <tr>\n",
       "      <th>A2ML1</th>\n",
       "      <td>28.0</td>\n",
       "      <td>20.0</td>\n",
       "      <td>19.0</td>\n",
       "      <td>2.0</td>\n",
       "      <td>19.0</td>\n",
       "      <td>2.0</td>\n",
       "      <td>7.0</td>\n",
       "      <td>14.0</td>\n",
       "      <td>7.0</td>\n",
       "      <td>53.0</td>\n",
       "      <td>...</td>\n",
       "      <td>103.0</td>\n",
       "      <td>66.0</td>\n",
       "      <td>99.0</td>\n",
       "      <td>91.0</td>\n",
       "      <td>1.0</td>\n",
       "      <td>2.0</td>\n",
       "      <td>4.0</td>\n",
       "      <td>1.0</td>\n",
       "      <td>2.0</td>\n",
       "      <td>6.0</td>\n",
       "    </tr>\n",
       "    <tr>\n",
       "      <th>A2MP1</th>\n",
       "      <td>119.0</td>\n",
       "      <td>69.0</td>\n",
       "      <td>64.0</td>\n",
       "      <td>87.0</td>\n",
       "      <td>8.0</td>\n",
       "      <td>0.0</td>\n",
       "      <td>0.0</td>\n",
       "      <td>0.0</td>\n",
       "      <td>1.0</td>\n",
       "      <td>3.0</td>\n",
       "      <td>...</td>\n",
       "      <td>24.0</td>\n",
       "      <td>23.0</td>\n",
       "      <td>39.0</td>\n",
       "      <td>32.0</td>\n",
       "      <td>0.0</td>\n",
       "      <td>0.0</td>\n",
       "      <td>0.0</td>\n",
       "      <td>0.0</td>\n",
       "      <td>0.0</td>\n",
       "      <td>0.0</td>\n",
       "    </tr>\n",
       "  </tbody>\n",
       "</table>\n",
       "<p>5 rows × 5937 columns</p>\n",
       "</div>"
      ],
      "text/plain": [
       "          HELA     HELA     HELA     HELA   HELA  HCT116  HEK293  LNCAP  \\\n",
       "A1BG     124.0    108.0     86.0     18.0   60.0     0.0    33.0  126.0   \n",
       "A1CF      77.0     56.0     57.0      4.0    7.0     0.0     1.0    6.0   \n",
       "A2M    10743.0  26007.0  12424.0  18219.0  670.0     0.0     0.0    4.0   \n",
       "A2ML1     28.0     20.0     19.0      2.0   19.0     2.0     7.0   14.0   \n",
       "A2MP1    119.0     69.0     64.0     87.0    8.0     0.0     0.0    0.0   \n",
       "\n",
       "       HCT116  NTERA2  ...    HEK293  HEK293  HEK293  HEK293  BT549  BT549  \\\n",
       "A1BG     22.0   132.0  ...     969.0   914.0   973.0  1206.0  158.0  178.0   \n",
       "A1CF     16.0     6.0  ...      62.0    53.0    61.0    76.0    1.0    2.0   \n",
       "A2M     329.0    96.0  ...      58.0    24.0    25.0    45.0    0.0    0.0   \n",
       "A2ML1     7.0    53.0  ...     103.0    66.0    99.0    91.0    1.0    2.0   \n",
       "A2MP1     1.0     3.0  ...      24.0    23.0    39.0    32.0    0.0    0.0   \n",
       "\n",
       "       BT549  BT549  BT549  BT549  \n",
       "A1BG   174.0  158.0  162.0  167.0  \n",
       "A1CF     3.0    1.0    4.0    3.0  \n",
       "A2M      0.0    0.0    0.0    0.0  \n",
       "A2ML1    4.0    1.0    2.0    6.0  \n",
       "A2MP1    0.0    0.0    0.0    0.0  \n",
       "\n",
       "[5 rows x 5937 columns]"
      ]
     },
     "execution_count": 37,
     "metadata": {},
     "output_type": "execute_result"
    }
   ],
   "source": [
    "normalized_matrix.head()"
   ]
  },
  {
   "cell_type": "markdown",
   "metadata": {},
   "source": [
    "# Normalize Matrix (Quantile Normalize the matrix for the columns)`"
   ]
  },
  {
   "cell_type": "code",
   "execution_count": 38,
   "metadata": {
    "collapsed": true
   },
   "outputs": [],
   "source": [
    "normalized_matrix.columns = range(0, len(normalized_matrix.columns))"
   ]
  },
  {
   "cell_type": "code",
   "execution_count": 39,
   "metadata": {},
   "outputs": [
    {
     "name": "stdout",
     "output_type": "stream",
     "text": [
      "Step 2/2 progress: 100%  5937 Out of 5937   \r"
     ]
    }
   ],
   "source": [
    "normalized_matrix = uf.quantileNormalize(normalized_matrix)"
   ]
  },
  {
   "cell_type": "code",
   "execution_count": 40,
   "metadata": {},
   "outputs": [
    {
     "data": {
      "text/html": [
       "<div>\n",
       "<table border=\"1\" class=\"dataframe\">\n",
       "  <thead>\n",
       "    <tr style=\"text-align: right;\">\n",
       "      <th></th>\n",
       "      <th>0</th>\n",
       "      <th>1</th>\n",
       "      <th>2</th>\n",
       "      <th>3</th>\n",
       "      <th>4</th>\n",
       "      <th>5</th>\n",
       "      <th>6</th>\n",
       "      <th>7</th>\n",
       "      <th>8</th>\n",
       "      <th>9</th>\n",
       "      <th>...</th>\n",
       "      <th>5927</th>\n",
       "      <th>5928</th>\n",
       "      <th>5929</th>\n",
       "      <th>5930</th>\n",
       "      <th>5931</th>\n",
       "      <th>5932</th>\n",
       "      <th>5933</th>\n",
       "      <th>5934</th>\n",
       "      <th>5935</th>\n",
       "      <th>5936</th>\n",
       "    </tr>\n",
       "  </thead>\n",
       "  <tbody>\n",
       "    <tr>\n",
       "      <th>A1BG</th>\n",
       "      <td>46.470608</td>\n",
       "      <td>39.073269</td>\n",
       "      <td>36.206670</td>\n",
       "      <td>32.370558</td>\n",
       "      <td>207.050867</td>\n",
       "      <td>0.000000</td>\n",
       "      <td>85.870136</td>\n",
       "      <td>2089.556342</td>\n",
       "      <td>64.902981</td>\n",
       "      <td>573.035203</td>\n",
       "      <td>...</td>\n",
       "      <td>204.582786</td>\n",
       "      <td>242.651507</td>\n",
       "      <td>173.026276</td>\n",
       "      <td>205.150750</td>\n",
       "      <td>445.229746</td>\n",
       "      <td>438.849419</td>\n",
       "      <td>399.059458</td>\n",
       "      <td>441.747010</td>\n",
       "      <td>406.826343</td>\n",
       "      <td>416.266633</td>\n",
       "    </tr>\n",
       "    <tr>\n",
       "      <th>A1CF</th>\n",
       "      <td>29.685363</td>\n",
       "      <td>21.602661</td>\n",
       "      <td>25.405424</td>\n",
       "      <td>8.423109</td>\n",
       "      <td>6.575038</td>\n",
       "      <td>0.000000</td>\n",
       "      <td>4.112515</td>\n",
       "      <td>10.040256</td>\n",
       "      <td>45.025434</td>\n",
       "      <td>2.118578</td>\n",
       "      <td>...</td>\n",
       "      <td>8.372410</td>\n",
       "      <td>9.357251</td>\n",
       "      <td>7.165067</td>\n",
       "      <td>10.427152</td>\n",
       "      <td>3.347313</td>\n",
       "      <td>6.986862</td>\n",
       "      <td>9.336534</td>\n",
       "      <td>3.272865</td>\n",
       "      <td>13.381843</td>\n",
       "      <td>9.467576</td>\n",
       "    </tr>\n",
       "    <tr>\n",
       "      <th>A2M</th>\n",
       "      <td>4050.306889</td>\n",
       "      <td>9518.532761</td>\n",
       "      <td>4494.616641</td>\n",
       "      <td>22473.623210</td>\n",
       "      <td>2584.112515</td>\n",
       "      <td>0.000000</td>\n",
       "      <td>0.000000</td>\n",
       "      <td>6.374937</td>\n",
       "      <td>571.894728</td>\n",
       "      <td>335.630453</td>\n",
       "      <td>...</td>\n",
       "      <td>7.860872</td>\n",
       "      <td>4.233957</td>\n",
       "      <td>2.917972</td>\n",
       "      <td>6.406940</td>\n",
       "      <td>0.000000</td>\n",
       "      <td>0.000000</td>\n",
       "      <td>0.000000</td>\n",
       "      <td>0.000000</td>\n",
       "      <td>0.000000</td>\n",
       "      <td>0.000000</td>\n",
       "    </tr>\n",
       "    <tr>\n",
       "      <th>A2ML1</th>\n",
       "      <td>11.184437</td>\n",
       "      <td>7.918983</td>\n",
       "      <td>8.727135</td>\n",
       "      <td>3.961934</td>\n",
       "      <td>25.666667</td>\n",
       "      <td>406.826343</td>\n",
       "      <td>21.578575</td>\n",
       "      <td>35.136096</td>\n",
       "      <td>16.614115</td>\n",
       "      <td>90.839144</td>\n",
       "      <td>...</td>\n",
       "      <td>14.313963</td>\n",
       "      <td>11.702375</td>\n",
       "      <td>11.876874</td>\n",
       "      <td>12.205828</td>\n",
       "      <td>3.347313</td>\n",
       "      <td>6.986862</td>\n",
       "      <td>12.484757</td>\n",
       "      <td>3.272865</td>\n",
       "      <td>6.314637</td>\n",
       "      <td>19.346808</td>\n",
       "    </tr>\n",
       "    <tr>\n",
       "      <th>A2MP1</th>\n",
       "      <td>44.692774</td>\n",
       "      <td>26.488967</td>\n",
       "      <td>27.929763</td>\n",
       "      <td>110.613273</td>\n",
       "      <td>7.690079</td>\n",
       "      <td>0.000000</td>\n",
       "      <td>0.000000</td>\n",
       "      <td>0.000000</td>\n",
       "      <td>2.183426</td>\n",
       "      <td>0.821459</td>\n",
       "      <td>...</td>\n",
       "      <td>3.190837</td>\n",
       "      <td>4.061142</td>\n",
       "      <td>4.566785</td>\n",
       "      <td>4.594408</td>\n",
       "      <td>0.000000</td>\n",
       "      <td>0.000000</td>\n",
       "      <td>0.000000</td>\n",
       "      <td>0.000000</td>\n",
       "      <td>0.000000</td>\n",
       "      <td>0.000000</td>\n",
       "    </tr>\n",
       "  </tbody>\n",
       "</table>\n",
       "<p>5 rows × 5937 columns</p>\n",
       "</div>"
      ],
      "text/plain": [
       "              0            1            2             3            4     \\\n",
       "A1BG     46.470608    39.073269    36.206670     32.370558   207.050867   \n",
       "A1CF     29.685363    21.602661    25.405424      8.423109     6.575038   \n",
       "A2M    4050.306889  9518.532761  4494.616641  22473.623210  2584.112515   \n",
       "A2ML1    11.184437     7.918983     8.727135      3.961934    25.666667   \n",
       "A2MP1    44.692774    26.488967    27.929763    110.613273     7.690079   \n",
       "\n",
       "             5          6            7           8           9        ...      \\\n",
       "A1BG     0.000000  85.870136  2089.556342   64.902981  573.035203     ...       \n",
       "A1CF     0.000000   4.112515    10.040256   45.025434    2.118578     ...       \n",
       "A2M      0.000000   0.000000     6.374937  571.894728  335.630453     ...       \n",
       "A2ML1  406.826343  21.578575    35.136096   16.614115   90.839144     ...       \n",
       "A2MP1    0.000000   0.000000     0.000000    2.183426    0.821459     ...       \n",
       "\n",
       "             5927        5928        5929        5930        5931        5932  \\\n",
       "A1BG   204.582786  242.651507  173.026276  205.150750  445.229746  438.849419   \n",
       "A1CF     8.372410    9.357251    7.165067   10.427152    3.347313    6.986862   \n",
       "A2M      7.860872    4.233957    2.917972    6.406940    0.000000    0.000000   \n",
       "A2ML1   14.313963   11.702375   11.876874   12.205828    3.347313    6.986862   \n",
       "A2MP1    3.190837    4.061142    4.566785    4.594408    0.000000    0.000000   \n",
       "\n",
       "             5933        5934        5935        5936  \n",
       "A1BG   399.059458  441.747010  406.826343  416.266633  \n",
       "A1CF     9.336534    3.272865   13.381843    9.467576  \n",
       "A2M      0.000000    0.000000    0.000000    0.000000  \n",
       "A2ML1   12.484757    3.272865    6.314637   19.346808  \n",
       "A2MP1    0.000000    0.000000    0.000000    0.000000  \n",
       "\n",
       "[5 rows x 5937 columns]"
      ]
     },
     "execution_count": 40,
     "metadata": {},
     "output_type": "execute_result"
    }
   ],
   "source": [
    "normalized_matrix.head()"
   ]
  },
  {
   "cell_type": "markdown",
   "metadata": {
    "collapsed": true
   },
   "source": [
    "# Nomalize Matrix (z-score the rows)"
   ]
  },
  {
   "cell_type": "code",
   "execution_count": 41,
   "metadata": {},
   "outputs": [
    {
     "name": "stdout",
     "output_type": "stream",
     "text": [
      "Progress: 100%  29839 Out of 29839   \r"
     ]
    }
   ],
   "source": [
    "uf.zscore(normalized_matrix, 'row')"
   ]
  },
  {
   "cell_type": "code",
   "execution_count": 42,
   "metadata": {},
   "outputs": [
    {
     "data": {
      "text/html": [
       "<div>\n",
       "<table border=\"1\" class=\"dataframe\">\n",
       "  <thead>\n",
       "    <tr style=\"text-align: right;\">\n",
       "      <th></th>\n",
       "      <th>0</th>\n",
       "      <th>1</th>\n",
       "      <th>2</th>\n",
       "      <th>3</th>\n",
       "      <th>4</th>\n",
       "      <th>5</th>\n",
       "      <th>6</th>\n",
       "      <th>7</th>\n",
       "      <th>8</th>\n",
       "      <th>9</th>\n",
       "      <th>...</th>\n",
       "      <th>5927</th>\n",
       "      <th>5928</th>\n",
       "      <th>5929</th>\n",
       "      <th>5930</th>\n",
       "      <th>5931</th>\n",
       "      <th>5932</th>\n",
       "      <th>5933</th>\n",
       "      <th>5934</th>\n",
       "      <th>5935</th>\n",
       "      <th>5936</th>\n",
       "    </tr>\n",
       "  </thead>\n",
       "  <tbody>\n",
       "    <tr>\n",
       "      <th>A1BG</th>\n",
       "      <td>-0.527902</td>\n",
       "      <td>-0.542683</td>\n",
       "      <td>-0.548410</td>\n",
       "      <td>-0.556075</td>\n",
       "      <td>-0.207047</td>\n",
       "      <td>-0.620755</td>\n",
       "      <td>-0.449178</td>\n",
       "      <td>3.554380</td>\n",
       "      <td>-0.491072</td>\n",
       "      <td>0.524225</td>\n",
       "      <td>...</td>\n",
       "      <td>-0.211979</td>\n",
       "      <td>-0.135914</td>\n",
       "      <td>-0.275032</td>\n",
       "      <td>-0.210844</td>\n",
       "      <td>0.268857</td>\n",
       "      <td>0.256109</td>\n",
       "      <td>0.176605</td>\n",
       "      <td>0.261898</td>\n",
       "      <td>0.192124</td>\n",
       "      <td>0.210986</td>\n",
       "    </tr>\n",
       "    <tr>\n",
       "      <th>A1CF</th>\n",
       "      <td>-0.314229</td>\n",
       "      <td>-0.319815</td>\n",
       "      <td>-0.317187</td>\n",
       "      <td>-0.328923</td>\n",
       "      <td>-0.330200</td>\n",
       "      <td>-0.334744</td>\n",
       "      <td>-0.331902</td>\n",
       "      <td>-0.327805</td>\n",
       "      <td>-0.303627</td>\n",
       "      <td>-0.333280</td>\n",
       "      <td>...</td>\n",
       "      <td>-0.328958</td>\n",
       "      <td>-0.328277</td>\n",
       "      <td>-0.329792</td>\n",
       "      <td>-0.327538</td>\n",
       "      <td>-0.332431</td>\n",
       "      <td>-0.329915</td>\n",
       "      <td>-0.328291</td>\n",
       "      <td>-0.332482</td>\n",
       "      <td>-0.325496</td>\n",
       "      <td>-0.328201</td>\n",
       "    </tr>\n",
       "    <tr>\n",
       "      <th>A2M</th>\n",
       "      <td>-0.215140</td>\n",
       "      <td>-0.077106</td>\n",
       "      <td>-0.203924</td>\n",
       "      <td>0.249918</td>\n",
       "      <td>-0.252151</td>\n",
       "      <td>-0.317381</td>\n",
       "      <td>-0.317381</td>\n",
       "      <td>-0.317220</td>\n",
       "      <td>-0.302945</td>\n",
       "      <td>-0.308909</td>\n",
       "      <td>...</td>\n",
       "      <td>-0.317183</td>\n",
       "      <td>-0.317274</td>\n",
       "      <td>-0.317307</td>\n",
       "      <td>-0.317219</td>\n",
       "      <td>-0.317381</td>\n",
       "      <td>-0.317381</td>\n",
       "      <td>-0.317381</td>\n",
       "      <td>-0.317381</td>\n",
       "      <td>-0.317381</td>\n",
       "      <td>-0.317381</td>\n",
       "    </tr>\n",
       "    <tr>\n",
       "      <th>A2ML1</th>\n",
       "      <td>-0.111086</td>\n",
       "      <td>-0.113976</td>\n",
       "      <td>-0.113261</td>\n",
       "      <td>-0.117478</td>\n",
       "      <td>-0.098271</td>\n",
       "      <td>0.239031</td>\n",
       "      <td>-0.101888</td>\n",
       "      <td>-0.089891</td>\n",
       "      <td>-0.106282</td>\n",
       "      <td>-0.040597</td>\n",
       "      <td>...</td>\n",
       "      <td>-0.108317</td>\n",
       "      <td>-0.110628</td>\n",
       "      <td>-0.110474</td>\n",
       "      <td>-0.110183</td>\n",
       "      <td>-0.118022</td>\n",
       "      <td>-0.114801</td>\n",
       "      <td>-0.109936</td>\n",
       "      <td>-0.118088</td>\n",
       "      <td>-0.115396</td>\n",
       "      <td>-0.103863</td>\n",
       "    </tr>\n",
       "    <tr>\n",
       "      <th>A2MP1</th>\n",
       "      <td>0.190662</td>\n",
       "      <td>0.058723</td>\n",
       "      <td>0.069166</td>\n",
       "      <td>0.668445</td>\n",
       "      <td>-0.077529</td>\n",
       "      <td>-0.133265</td>\n",
       "      <td>-0.133265</td>\n",
       "      <td>-0.133265</td>\n",
       "      <td>-0.117440</td>\n",
       "      <td>-0.127312</td>\n",
       "      <td>...</td>\n",
       "      <td>-0.110139</td>\n",
       "      <td>-0.103831</td>\n",
       "      <td>-0.100166</td>\n",
       "      <td>-0.099966</td>\n",
       "      <td>-0.133265</td>\n",
       "      <td>-0.133265</td>\n",
       "      <td>-0.133265</td>\n",
       "      <td>-0.133265</td>\n",
       "      <td>-0.133265</td>\n",
       "      <td>-0.133265</td>\n",
       "    </tr>\n",
       "  </tbody>\n",
       "</table>\n",
       "<p>5 rows × 5937 columns</p>\n",
       "</div>"
      ],
      "text/plain": [
       "           0         1         2         3         4         5         6     \\\n",
       "A1BG  -0.527902 -0.542683 -0.548410 -0.556075 -0.207047 -0.620755 -0.449178   \n",
       "A1CF  -0.314229 -0.319815 -0.317187 -0.328923 -0.330200 -0.334744 -0.331902   \n",
       "A2M   -0.215140 -0.077106 -0.203924  0.249918 -0.252151 -0.317381 -0.317381   \n",
       "A2ML1 -0.111086 -0.113976 -0.113261 -0.117478 -0.098271  0.239031 -0.101888   \n",
       "A2MP1  0.190662  0.058723  0.069166  0.668445 -0.077529 -0.133265 -0.133265   \n",
       "\n",
       "           7         8         9       ...         5927      5928      5929  \\\n",
       "A1BG   3.554380 -0.491072  0.524225    ...    -0.211979 -0.135914 -0.275032   \n",
       "A1CF  -0.327805 -0.303627 -0.333280    ...    -0.328958 -0.328277 -0.329792   \n",
       "A2M   -0.317220 -0.302945 -0.308909    ...    -0.317183 -0.317274 -0.317307   \n",
       "A2ML1 -0.089891 -0.106282 -0.040597    ...    -0.108317 -0.110628 -0.110474   \n",
       "A2MP1 -0.133265 -0.117440 -0.127312    ...    -0.110139 -0.103831 -0.100166   \n",
       "\n",
       "           5930      5931      5932      5933      5934      5935      5936  \n",
       "A1BG  -0.210844  0.268857  0.256109  0.176605  0.261898  0.192124  0.210986  \n",
       "A1CF  -0.327538 -0.332431 -0.329915 -0.328291 -0.332482 -0.325496 -0.328201  \n",
       "A2M   -0.317219 -0.317381 -0.317381 -0.317381 -0.317381 -0.317381 -0.317381  \n",
       "A2ML1 -0.110183 -0.118022 -0.114801 -0.109936 -0.118088 -0.115396 -0.103863  \n",
       "A2MP1 -0.099966 -0.133265 -0.133265 -0.133265 -0.133265 -0.133265 -0.133265  \n",
       "\n",
       "[5 rows x 5937 columns]"
      ]
     },
     "execution_count": 42,
     "metadata": {},
     "output_type": "execute_result"
    }
   ],
   "source": [
    "normalized_matrix.head()"
   ]
  },
  {
   "cell_type": "markdown",
   "metadata": {},
   "source": [
    "# Merge Duplicate Samples By Columns (by taking the mean)"
   ]
  },
  {
   "cell_type": "code",
   "execution_count": 43,
   "metadata": {
    "collapsed": true
   },
   "outputs": [],
   "source": [
    "normalized_matrix.columns = celline_list"
   ]
  },
  {
   "cell_type": "code",
   "execution_count": 44,
   "metadata": {
    "collapsed": true
   },
   "outputs": [],
   "source": [
    "normalized_matrix = uf.merge(normalized_matrix, 'column', 'mean')"
   ]
  },
  {
   "cell_type": "code",
   "execution_count": 45,
   "metadata": {},
   "outputs": [
    {
     "data": {
      "text/plain": [
       "(29839, 127)"
      ]
     },
     "execution_count": 45,
     "metadata": {},
     "output_type": "execute_result"
    }
   ],
   "source": [
    "normalized_matrix.shape"
   ]
  },
  {
   "cell_type": "markdown",
   "metadata": {},
   "source": [
    "# Map Gene Symbols To Up-to-date Approved Gene Symbols"
   ]
  },
  {
   "cell_type": "code",
   "execution_count": 46,
   "metadata": {},
   "outputs": [
    {
     "name": "stdout",
     "output_type": "stream",
     "text": [
      "Progeres: 99%  29784 Out of 29839   \r"
     ]
    }
   ],
   "source": [
    "uf.mapgenesymbols(normalized_matrix)"
   ]
  },
  {
   "cell_type": "code",
   "execution_count": 47,
   "metadata": {
    "collapsed": true
   },
   "outputs": [],
   "source": [
    "normalized_matrix.shape"
   ]
  },
  {
   "cell_type": "markdown",
   "metadata": {},
   "source": [
    "# Merge Duplicate Genes By Rows"
   ]
  },
  {
   "cell_type": "code",
   "execution_count": 48,
   "metadata": {
    "collapsed": true
   },
   "outputs": [],
   "source": [
    "normalized_matrix = uf.merge(normalized_matrix, 'row', 'mean')"
   ]
  },
  {
   "cell_type": "code",
   "execution_count": 49,
   "metadata": {},
   "outputs": [
    {
     "data": {
      "text/plain": [
       "(35238, 5937)"
      ]
     },
     "execution_count": 49,
     "metadata": {},
     "output_type": "execute_result"
    }
   ],
   "source": [
    "matrix.shape"
   ]
  },
  {
   "cell_type": "markdown",
   "metadata": {},
   "source": [
    "# Save Filtered Matrix"
   ]
  },
  {
   "cell_type": "code",
   "execution_count": 50,
   "metadata": {
    "collapsed": true
   },
   "outputs": [],
   "source": [
    "filename = '~/./Documents/Harmonizome/ARCHS4/Output/archs4_celline_matrix_filltered_%s.tsv.zip'% str(datetime.date.today())[0:7].replace('-', '_')\n",
    "normalized_matrix.to_csv(filename, sep='\\t', compression='gzip')"
   ]
  },
  {
   "cell_type": "markdown",
   "metadata": {},
   "source": [
    "# Create Tertiary Matrix"
   ]
  },
  {
   "cell_type": "code",
   "execution_count": 51,
   "metadata": {},
   "outputs": [
    {
     "name": "stdout",
     "output_type": "stream",
     "text": [
      "Progeres: 100%  127 Out of 127   \r"
     ]
    }
   ],
   "source": [
    "tertiary_matrix = uf.createTertiaryMarix(normalized_matrix)"
   ]
  },
  {
   "cell_type": "code",
   "execution_count": 52,
   "metadata": {},
   "outputs": [
    {
     "data": {
      "text/html": [
       "<div>\n",
       "<table border=\"1\" class=\"dataframe\">\n",
       "  <thead>\n",
       "    <tr style=\"text-align: right;\">\n",
       "      <th></th>\n",
       "      <th>22RV1</th>\n",
       "      <th>293F</th>\n",
       "      <th>A172</th>\n",
       "      <th>A375</th>\n",
       "      <th>A431</th>\n",
       "      <th>A549</th>\n",
       "      <th>A673</th>\n",
       "      <th>ASPC1</th>\n",
       "      <th>BEAS2B</th>\n",
       "      <th>BEWO</th>\n",
       "      <th>...</th>\n",
       "      <th>T24</th>\n",
       "      <th>T47D</th>\n",
       "      <th>T84</th>\n",
       "      <th>T98G</th>\n",
       "      <th>THP1</th>\n",
       "      <th>U266</th>\n",
       "      <th>U87</th>\n",
       "      <th>U937</th>\n",
       "      <th>VCAP</th>\n",
       "      <th>WSUDLCL2</th>\n",
       "    </tr>\n",
       "    <tr>\n",
       "      <th>index</th>\n",
       "      <th></th>\n",
       "      <th></th>\n",
       "      <th></th>\n",
       "      <th></th>\n",
       "      <th></th>\n",
       "      <th></th>\n",
       "      <th></th>\n",
       "      <th></th>\n",
       "      <th></th>\n",
       "      <th></th>\n",
       "      <th></th>\n",
       "      <th></th>\n",
       "      <th></th>\n",
       "      <th></th>\n",
       "      <th></th>\n",
       "      <th></th>\n",
       "      <th></th>\n",
       "      <th></th>\n",
       "      <th></th>\n",
       "      <th></th>\n",
       "      <th></th>\n",
       "    </tr>\n",
       "  </thead>\n",
       "  <tbody>\n",
       "    <tr>\n",
       "      <th>A1BG</th>\n",
       "      <td>0.0</td>\n",
       "      <td>1.0</td>\n",
       "      <td>0.0</td>\n",
       "      <td>0.0</td>\n",
       "      <td>0.0</td>\n",
       "      <td>0.0</td>\n",
       "      <td>0.0</td>\n",
       "      <td>0.0</td>\n",
       "      <td>0.0</td>\n",
       "      <td>0.0</td>\n",
       "      <td>...</td>\n",
       "      <td>1.0</td>\n",
       "      <td>0.0</td>\n",
       "      <td>0.0</td>\n",
       "      <td>0.0</td>\n",
       "      <td>0.0</td>\n",
       "      <td>0.0</td>\n",
       "      <td>0.0</td>\n",
       "      <td>0.0</td>\n",
       "      <td>0.0</td>\n",
       "      <td>0.0</td>\n",
       "    </tr>\n",
       "    <tr>\n",
       "      <th>A1CF</th>\n",
       "      <td>0.0</td>\n",
       "      <td>0.0</td>\n",
       "      <td>0.0</td>\n",
       "      <td>0.0</td>\n",
       "      <td>0.0</td>\n",
       "      <td>0.0</td>\n",
       "      <td>0.0</td>\n",
       "      <td>0.0</td>\n",
       "      <td>0.0</td>\n",
       "      <td>0.0</td>\n",
       "      <td>...</td>\n",
       "      <td>0.0</td>\n",
       "      <td>0.0</td>\n",
       "      <td>0.0</td>\n",
       "      <td>0.0</td>\n",
       "      <td>0.0</td>\n",
       "      <td>0.0</td>\n",
       "      <td>0.0</td>\n",
       "      <td>0.0</td>\n",
       "      <td>0.0</td>\n",
       "      <td>0.0</td>\n",
       "    </tr>\n",
       "    <tr>\n",
       "      <th>A2M</th>\n",
       "      <td>0.0</td>\n",
       "      <td>0.0</td>\n",
       "      <td>0.0</td>\n",
       "      <td>0.0</td>\n",
       "      <td>0.0</td>\n",
       "      <td>0.0</td>\n",
       "      <td>0.0</td>\n",
       "      <td>0.0</td>\n",
       "      <td>0.0</td>\n",
       "      <td>0.0</td>\n",
       "      <td>...</td>\n",
       "      <td>0.0</td>\n",
       "      <td>0.0</td>\n",
       "      <td>0.0</td>\n",
       "      <td>0.0</td>\n",
       "      <td>0.0</td>\n",
       "      <td>0.0</td>\n",
       "      <td>0.0</td>\n",
       "      <td>0.0</td>\n",
       "      <td>0.0</td>\n",
       "      <td>0.0</td>\n",
       "    </tr>\n",
       "    <tr>\n",
       "      <th>A2ML1</th>\n",
       "      <td>0.0</td>\n",
       "      <td>0.0</td>\n",
       "      <td>0.0</td>\n",
       "      <td>0.0</td>\n",
       "      <td>0.0</td>\n",
       "      <td>0.0</td>\n",
       "      <td>0.0</td>\n",
       "      <td>0.0</td>\n",
       "      <td>0.0</td>\n",
       "      <td>0.0</td>\n",
       "      <td>...</td>\n",
       "      <td>0.0</td>\n",
       "      <td>0.0</td>\n",
       "      <td>0.0</td>\n",
       "      <td>0.0</td>\n",
       "      <td>0.0</td>\n",
       "      <td>0.0</td>\n",
       "      <td>0.0</td>\n",
       "      <td>0.0</td>\n",
       "      <td>0.0</td>\n",
       "      <td>0.0</td>\n",
       "    </tr>\n",
       "    <tr>\n",
       "      <th>A2MP1</th>\n",
       "      <td>0.0</td>\n",
       "      <td>0.0</td>\n",
       "      <td>0.0</td>\n",
       "      <td>0.0</td>\n",
       "      <td>0.0</td>\n",
       "      <td>0.0</td>\n",
       "      <td>0.0</td>\n",
       "      <td>0.0</td>\n",
       "      <td>0.0</td>\n",
       "      <td>0.0</td>\n",
       "      <td>...</td>\n",
       "      <td>0.0</td>\n",
       "      <td>0.0</td>\n",
       "      <td>0.0</td>\n",
       "      <td>0.0</td>\n",
       "      <td>0.0</td>\n",
       "      <td>0.0</td>\n",
       "      <td>0.0</td>\n",
       "      <td>0.0</td>\n",
       "      <td>0.0</td>\n",
       "      <td>0.0</td>\n",
       "    </tr>\n",
       "  </tbody>\n",
       "</table>\n",
       "<p>5 rows × 127 columns</p>\n",
       "</div>"
      ],
      "text/plain": [
       "       22RV1  293F  A172  A375  A431  A549  A673  ASPC1  BEAS2B  BEWO  \\\n",
       "index                                                                   \n",
       "A1BG     0.0   1.0   0.0   0.0   0.0   0.0   0.0    0.0     0.0   0.0   \n",
       "A1CF     0.0   0.0   0.0   0.0   0.0   0.0   0.0    0.0     0.0   0.0   \n",
       "A2M      0.0   0.0   0.0   0.0   0.0   0.0   0.0    0.0     0.0   0.0   \n",
       "A2ML1    0.0   0.0   0.0   0.0   0.0   0.0   0.0    0.0     0.0   0.0   \n",
       "A2MP1    0.0   0.0   0.0   0.0   0.0   0.0   0.0    0.0     0.0   0.0   \n",
       "\n",
       "         ...     T24  T47D  T84  T98G  THP1  U266  U87  U937  VCAP  WSUDLCL2  \n",
       "index    ...                                                                  \n",
       "A1BG     ...     1.0   0.0  0.0   0.0   0.0   0.0  0.0   0.0   0.0       0.0  \n",
       "A1CF     ...     0.0   0.0  0.0   0.0   0.0   0.0  0.0   0.0   0.0       0.0  \n",
       "A2M      ...     0.0   0.0  0.0   0.0   0.0   0.0  0.0   0.0   0.0       0.0  \n",
       "A2ML1    ...     0.0   0.0  0.0   0.0   0.0   0.0  0.0   0.0   0.0       0.0  \n",
       "A2MP1    ...     0.0   0.0  0.0   0.0   0.0   0.0  0.0   0.0   0.0       0.0  \n",
       "\n",
       "[5 rows x 127 columns]"
      ]
     },
     "execution_count": 52,
     "metadata": {},
     "output_type": "execute_result"
    }
   ],
   "source": [
    "tertiary_matrix.head()"
   ]
  },
  {
   "cell_type": "markdown",
   "metadata": {},
   "source": [
    "# Save Teriary Matrix"
   ]
  },
  {
   "cell_type": "code",
   "execution_count": 53,
   "metadata": {
    "collapsed": true
   },
   "outputs": [],
   "source": [
    "filename = '~/./Documents/Harmonizome/ARCHS4/Output/archs4_celline_tertiary_matrix_%s.tsv.zip'% str(datetime.date.today())[0:7].replace('-', '_')\n",
    "tertiary_matrix.to_csv(filename, sep='\\t', compression='gzip')"
   ]
  },
  {
   "cell_type": "markdown",
   "metadata": {},
   "source": [
    "#### Path to output files"
   ]
  },
  {
   "cell_type": "code",
   "execution_count": 54,
   "metadata": {
    "collapsed": true
   },
   "outputs": [],
   "source": [
    "path = '/Users/moshesilverstein/Documents/Harmonizome/ARCHS4/Output/'"
   ]
  },
  {
   "cell_type": "markdown",
   "metadata": {},
   "source": [
    "# Create Up Gene Set Library"
   ]
  },
  {
   "cell_type": "code",
   "execution_count": 55,
   "metadata": {
    "collapsed": true
   },
   "outputs": [],
   "source": [
    "name = 'archs4_celline_gene_up_set'"
   ]
  },
  {
   "cell_type": "code",
   "execution_count": 56,
   "metadata": {},
   "outputs": [
    {
     "name": "stdout",
     "output_type": "stream",
     "text": [
      "Progeres: 100%  127 Out of 127   \r"
     ]
    }
   ],
   "source": [
    "uf.createUpGeneSetLib(normalized_matrix, path, name)"
   ]
  },
  {
   "cell_type": "markdown",
   "metadata": {},
   "source": [
    "# Create Down Gene Set Library"
   ]
  },
  {
   "cell_type": "code",
   "execution_count": 57,
   "metadata": {
    "collapsed": true
   },
   "outputs": [],
   "source": [
    "name = 'archs4_celline_gene_down_set'"
   ]
  },
  {
   "cell_type": "code",
   "execution_count": 58,
   "metadata": {},
   "outputs": [
    {
     "name": "stdout",
     "output_type": "stream",
     "text": [
      "Progeres: 100%  127 Out of 127   \r"
     ]
    }
   ],
   "source": [
    "uf.createDownGeneSetLib(normalized_matrix, path, name)"
   ]
  },
  {
   "cell_type": "markdown",
   "metadata": {},
   "source": [
    "# Create Up Attribute Library"
   ]
  },
  {
   "cell_type": "code",
   "execution_count": 59,
   "metadata": {
    "collapsed": true
   },
   "outputs": [],
   "source": [
    "name = 'archs4_celline_attribute_up_set'"
   ]
  },
  {
   "cell_type": "code",
   "execution_count": 60,
   "metadata": {},
   "outputs": [
    {
     "name": "stdout",
     "output_type": "stream",
     "text": [
      "Progeres: 100%  23956 Out of 23956   \r"
     ]
    }
   ],
   "source": [
    "uf.createUpAttributeSetLib(tertiary_matrix, path, name)"
   ]
  },
  {
   "cell_type": "markdown",
   "metadata": {},
   "source": [
    "# Create Down Attribute Library"
   ]
  },
  {
   "cell_type": "code",
   "execution_count": 61,
   "metadata": {
    "collapsed": true
   },
   "outputs": [],
   "source": [
    "name = 'archs4_celline_attribute_down_set'"
   ]
  },
  {
   "cell_type": "code",
   "execution_count": 62,
   "metadata": {},
   "outputs": [
    {
     "name": "stdout",
     "output_type": "stream",
     "text": [
      "Progeres: 100%  23956 Out of 23956   \r"
     ]
    }
   ],
   "source": [
    "uf.createDownAttributeSetLib(tertiary_matrix, path, name)"
   ]
  },
  {
   "cell_type": "markdown",
   "metadata": {},
   "source": [
    "# Create Gene Similarity Matrix"
   ]
  },
  {
   "cell_type": "code",
   "execution_count": 63,
   "metadata": {
    "collapsed": true
   },
   "outputs": [],
   "source": [
    "gene_similarity_matix = uf.createSimilarityMatrix(normalized_matrix, 'cosine')"
   ]
  },
  {
   "cell_type": "code",
   "execution_count": 64,
   "metadata": {},
   "outputs": [
    {
     "data": {
      "text/html": [
       "<div>\n",
       "<table border=\"1\" class=\"dataframe\">\n",
       "  <thead>\n",
       "    <tr style=\"text-align: right;\">\n",
       "      <th>index</th>\n",
       "      <th>A1BG</th>\n",
       "      <th>A1CF</th>\n",
       "      <th>A2M</th>\n",
       "      <th>A2ML1</th>\n",
       "      <th>A2MP1</th>\n",
       "      <th>A3GALT2</th>\n",
       "      <th>A4GALT</th>\n",
       "      <th>A4GNT</th>\n",
       "      <th>AAAS</th>\n",
       "      <th>AACS</th>\n",
       "      <th>...</th>\n",
       "      <th>ZWILCH</th>\n",
       "      <th>ZWINT</th>\n",
       "      <th>ZXDA</th>\n",
       "      <th>ZXDB</th>\n",
       "      <th>ZXDC</th>\n",
       "      <th>ZYG11A</th>\n",
       "      <th>ZYG11B</th>\n",
       "      <th>ZYX</th>\n",
       "      <th>ZZEF1</th>\n",
       "      <th>ZZZ3</th>\n",
       "    </tr>\n",
       "    <tr>\n",
       "      <th>index</th>\n",
       "      <th></th>\n",
       "      <th></th>\n",
       "      <th></th>\n",
       "      <th></th>\n",
       "      <th></th>\n",
       "      <th></th>\n",
       "      <th></th>\n",
       "      <th></th>\n",
       "      <th></th>\n",
       "      <th></th>\n",
       "      <th></th>\n",
       "      <th></th>\n",
       "      <th></th>\n",
       "      <th></th>\n",
       "      <th></th>\n",
       "      <th></th>\n",
       "      <th></th>\n",
       "      <th></th>\n",
       "      <th></th>\n",
       "      <th></th>\n",
       "      <th></th>\n",
       "    </tr>\n",
       "  </thead>\n",
       "  <tbody>\n",
       "    <tr>\n",
       "      <th>A1BG</th>\n",
       "      <td>1.000000</td>\n",
       "      <td>0.273559</td>\n",
       "      <td>0.236431</td>\n",
       "      <td>-0.047602</td>\n",
       "      <td>0.005709</td>\n",
       "      <td>0.034153</td>\n",
       "      <td>-0.128975</td>\n",
       "      <td>0.332170</td>\n",
       "      <td>0.063119</td>\n",
       "      <td>0.023362</td>\n",
       "      <td>...</td>\n",
       "      <td>-0.205567</td>\n",
       "      <td>-0.101939</td>\n",
       "      <td>-0.087121</td>\n",
       "      <td>-0.071282</td>\n",
       "      <td>0.000553</td>\n",
       "      <td>0.169553</td>\n",
       "      <td>0.014680</td>\n",
       "      <td>-0.022291</td>\n",
       "      <td>0.080974</td>\n",
       "      <td>0.043841</td>\n",
       "    </tr>\n",
       "    <tr>\n",
       "      <th>A1CF</th>\n",
       "      <td>0.273559</td>\n",
       "      <td>1.000000</td>\n",
       "      <td>0.636600</td>\n",
       "      <td>-0.015143</td>\n",
       "      <td>0.138744</td>\n",
       "      <td>0.061235</td>\n",
       "      <td>-0.163280</td>\n",
       "      <td>0.125625</td>\n",
       "      <td>0.126898</td>\n",
       "      <td>0.681730</td>\n",
       "      <td>...</td>\n",
       "      <td>0.106948</td>\n",
       "      <td>-0.006110</td>\n",
       "      <td>-0.101558</td>\n",
       "      <td>0.014581</td>\n",
       "      <td>-0.012382</td>\n",
       "      <td>0.267105</td>\n",
       "      <td>0.050072</td>\n",
       "      <td>-0.042522</td>\n",
       "      <td>-0.109480</td>\n",
       "      <td>0.081050</td>\n",
       "    </tr>\n",
       "    <tr>\n",
       "      <th>A2M</th>\n",
       "      <td>0.236431</td>\n",
       "      <td>0.636600</td>\n",
       "      <td>1.000000</td>\n",
       "      <td>0.021290</td>\n",
       "      <td>0.302984</td>\n",
       "      <td>0.099805</td>\n",
       "      <td>-0.174337</td>\n",
       "      <td>-0.014501</td>\n",
       "      <td>0.087469</td>\n",
       "      <td>0.117354</td>\n",
       "      <td>...</td>\n",
       "      <td>0.008128</td>\n",
       "      <td>-0.061724</td>\n",
       "      <td>-0.101202</td>\n",
       "      <td>0.019490</td>\n",
       "      <td>-0.022213</td>\n",
       "      <td>0.240423</td>\n",
       "      <td>0.092147</td>\n",
       "      <td>-0.050519</td>\n",
       "      <td>-0.047780</td>\n",
       "      <td>0.090788</td>\n",
       "    </tr>\n",
       "    <tr>\n",
       "      <th>A2ML1</th>\n",
       "      <td>-0.047602</td>\n",
       "      <td>-0.015143</td>\n",
       "      <td>0.021290</td>\n",
       "      <td>1.000000</td>\n",
       "      <td>-0.006756</td>\n",
       "      <td>0.013614</td>\n",
       "      <td>0.242330</td>\n",
       "      <td>-0.009463</td>\n",
       "      <td>-0.079584</td>\n",
       "      <td>-0.006383</td>\n",
       "      <td>...</td>\n",
       "      <td>-0.086327</td>\n",
       "      <td>-0.085475</td>\n",
       "      <td>-0.042977</td>\n",
       "      <td>-0.028367</td>\n",
       "      <td>-0.027883</td>\n",
       "      <td>-0.057363</td>\n",
       "      <td>-0.040754</td>\n",
       "      <td>-0.011052</td>\n",
       "      <td>-0.053611</td>\n",
       "      <td>-0.065382</td>\n",
       "    </tr>\n",
       "    <tr>\n",
       "      <th>A2MP1</th>\n",
       "      <td>0.005709</td>\n",
       "      <td>0.138744</td>\n",
       "      <td>0.302984</td>\n",
       "      <td>-0.006756</td>\n",
       "      <td>1.000000</td>\n",
       "      <td>0.292675</td>\n",
       "      <td>0.034807</td>\n",
       "      <td>-0.121881</td>\n",
       "      <td>0.010475</td>\n",
       "      <td>-0.006228</td>\n",
       "      <td>...</td>\n",
       "      <td>0.072381</td>\n",
       "      <td>0.034564</td>\n",
       "      <td>-0.038095</td>\n",
       "      <td>0.028527</td>\n",
       "      <td>-0.088422</td>\n",
       "      <td>0.357370</td>\n",
       "      <td>0.073605</td>\n",
       "      <td>-0.042305</td>\n",
       "      <td>0.018205</td>\n",
       "      <td>0.039404</td>\n",
       "    </tr>\n",
       "  </tbody>\n",
       "</table>\n",
       "<p>5 rows × 23956 columns</p>\n",
       "</div>"
      ],
      "text/plain": [
       "index      A1BG      A1CF       A2M     A2ML1     A2MP1   A3GALT2    A4GALT  \\\n",
       "index                                                                         \n",
       "A1BG   1.000000  0.273559  0.236431 -0.047602  0.005709  0.034153 -0.128975   \n",
       "A1CF   0.273559  1.000000  0.636600 -0.015143  0.138744  0.061235 -0.163280   \n",
       "A2M    0.236431  0.636600  1.000000  0.021290  0.302984  0.099805 -0.174337   \n",
       "A2ML1 -0.047602 -0.015143  0.021290  1.000000 -0.006756  0.013614  0.242330   \n",
       "A2MP1  0.005709  0.138744  0.302984 -0.006756  1.000000  0.292675  0.034807   \n",
       "\n",
       "index     A4GNT      AAAS      AACS    ...       ZWILCH     ZWINT      ZXDA  \\\n",
       "index                                  ...                                    \n",
       "A1BG   0.332170  0.063119  0.023362    ...    -0.205567 -0.101939 -0.087121   \n",
       "A1CF   0.125625  0.126898  0.681730    ...     0.106948 -0.006110 -0.101558   \n",
       "A2M   -0.014501  0.087469  0.117354    ...     0.008128 -0.061724 -0.101202   \n",
       "A2ML1 -0.009463 -0.079584 -0.006383    ...    -0.086327 -0.085475 -0.042977   \n",
       "A2MP1 -0.121881  0.010475 -0.006228    ...     0.072381  0.034564 -0.038095   \n",
       "\n",
       "index      ZXDB      ZXDC    ZYG11A    ZYG11B       ZYX     ZZEF1      ZZZ3  \n",
       "index                                                                        \n",
       "A1BG  -0.071282  0.000553  0.169553  0.014680 -0.022291  0.080974  0.043841  \n",
       "A1CF   0.014581 -0.012382  0.267105  0.050072 -0.042522 -0.109480  0.081050  \n",
       "A2M    0.019490 -0.022213  0.240423  0.092147 -0.050519 -0.047780  0.090788  \n",
       "A2ML1 -0.028367 -0.027883 -0.057363 -0.040754 -0.011052 -0.053611 -0.065382  \n",
       "A2MP1  0.028527 -0.088422  0.357370  0.073605 -0.042305  0.018205  0.039404  \n",
       "\n",
       "[5 rows x 23956 columns]"
      ]
     },
     "execution_count": 64,
     "metadata": {},
     "output_type": "execute_result"
    }
   ],
   "source": [
    "gene_similarity_matix.head()"
   ]
  },
  {
   "cell_type": "markdown",
   "metadata": {},
   "source": [
    "# Save Gene Similarity Matrix "
   ]
  },
  {
   "cell_type": "code",
   "execution_count": 65,
   "metadata": {
    "collapsed": true
   },
   "outputs": [],
   "source": [
    "filename = 'Output/archs4_celline_gene_similarity_matix_%s.tsv.zip'% str(datetime.date.today())[0:7].replace('-', '_')\n",
    "gene_similarity_matix.to_csv(filename, sep='\\t', compression='gzip')"
   ]
  },
  {
   "cell_type": "markdown",
   "metadata": {},
   "source": [
    "# Create Attribute Similarity matrix"
   ]
  },
  {
   "cell_type": "code",
   "execution_count": 66,
   "metadata": {
    "collapsed": true
   },
   "outputs": [],
   "source": [
    "attribute_similarity_matix = uf.createSimilarityMatrix(normalized_matrix.T, 'cosine')"
   ]
  },
  {
   "cell_type": "code",
   "execution_count": 67,
   "metadata": {},
   "outputs": [
    {
     "data": {
      "text/html": [
       "<div>\n",
       "<table border=\"1\" class=\"dataframe\">\n",
       "  <thead>\n",
       "    <tr style=\"text-align: right;\">\n",
       "      <th></th>\n",
       "      <th>22RV1</th>\n",
       "      <th>293F</th>\n",
       "      <th>A172</th>\n",
       "      <th>A375</th>\n",
       "      <th>A431</th>\n",
       "      <th>A549</th>\n",
       "      <th>A673</th>\n",
       "      <th>ASPC1</th>\n",
       "      <th>BEAS2B</th>\n",
       "      <th>BEWO</th>\n",
       "      <th>...</th>\n",
       "      <th>T24</th>\n",
       "      <th>T47D</th>\n",
       "      <th>T84</th>\n",
       "      <th>T98G</th>\n",
       "      <th>THP1</th>\n",
       "      <th>U266</th>\n",
       "      <th>U87</th>\n",
       "      <th>U937</th>\n",
       "      <th>VCAP</th>\n",
       "      <th>WSUDLCL2</th>\n",
       "    </tr>\n",
       "  </thead>\n",
       "  <tbody>\n",
       "    <tr>\n",
       "      <th>22RV1</th>\n",
       "      <td>1.000000</td>\n",
       "      <td>0.000320</td>\n",
       "      <td>-0.031884</td>\n",
       "      <td>0.009296</td>\n",
       "      <td>0.002175</td>\n",
       "      <td>-0.023022</td>\n",
       "      <td>-0.003752</td>\n",
       "      <td>0.060502</td>\n",
       "      <td>-0.052642</td>\n",
       "      <td>0.006221</td>\n",
       "      <td>...</td>\n",
       "      <td>-0.061014</td>\n",
       "      <td>0.086913</td>\n",
       "      <td>0.047510</td>\n",
       "      <td>-0.040830</td>\n",
       "      <td>0.007836</td>\n",
       "      <td>0.032968</td>\n",
       "      <td>0.016501</td>\n",
       "      <td>-0.036830</td>\n",
       "      <td>0.184509</td>\n",
       "      <td>0.003570</td>\n",
       "    </tr>\n",
       "    <tr>\n",
       "      <th>293F</th>\n",
       "      <td>0.000320</td>\n",
       "      <td>1.000000</td>\n",
       "      <td>-0.093339</td>\n",
       "      <td>-0.024260</td>\n",
       "      <td>-0.112915</td>\n",
       "      <td>-0.081628</td>\n",
       "      <td>0.026968</td>\n",
       "      <td>-0.139459</td>\n",
       "      <td>0.013534</td>\n",
       "      <td>-0.029567</td>\n",
       "      <td>...</td>\n",
       "      <td>-0.068633</td>\n",
       "      <td>-0.109193</td>\n",
       "      <td>-0.076865</td>\n",
       "      <td>-0.079225</td>\n",
       "      <td>-0.082707</td>\n",
       "      <td>-0.005714</td>\n",
       "      <td>-0.089967</td>\n",
       "      <td>-0.078120</td>\n",
       "      <td>-0.022988</td>\n",
       "      <td>0.002230</td>\n",
       "    </tr>\n",
       "    <tr>\n",
       "      <th>A172</th>\n",
       "      <td>-0.031884</td>\n",
       "      <td>-0.093339</td>\n",
       "      <td>1.000000</td>\n",
       "      <td>0.154721</td>\n",
       "      <td>0.103930</td>\n",
       "      <td>0.149249</td>\n",
       "      <td>0.061423</td>\n",
       "      <td>0.026405</td>\n",
       "      <td>0.237593</td>\n",
       "      <td>-0.010797</td>\n",
       "      <td>...</td>\n",
       "      <td>-0.036390</td>\n",
       "      <td>0.076992</td>\n",
       "      <td>-0.011683</td>\n",
       "      <td>0.291151</td>\n",
       "      <td>0.034949</td>\n",
       "      <td>0.004343</td>\n",
       "      <td>0.171542</td>\n",
       "      <td>0.038247</td>\n",
       "      <td>-0.064470</td>\n",
       "      <td>-0.035048</td>\n",
       "    </tr>\n",
       "    <tr>\n",
       "      <th>A375</th>\n",
       "      <td>0.009296</td>\n",
       "      <td>-0.024260</td>\n",
       "      <td>0.154721</td>\n",
       "      <td>1.000000</td>\n",
       "      <td>0.052179</td>\n",
       "      <td>0.078715</td>\n",
       "      <td>0.025044</td>\n",
       "      <td>-0.019986</td>\n",
       "      <td>0.036244</td>\n",
       "      <td>-0.026496</td>\n",
       "      <td>...</td>\n",
       "      <td>0.018819</td>\n",
       "      <td>-0.027937</td>\n",
       "      <td>-0.001032</td>\n",
       "      <td>0.101217</td>\n",
       "      <td>-0.004197</td>\n",
       "      <td>0.023465</td>\n",
       "      <td>0.066339</td>\n",
       "      <td>0.030358</td>\n",
       "      <td>-0.043078</td>\n",
       "      <td>-0.035601</td>\n",
       "    </tr>\n",
       "    <tr>\n",
       "      <th>A431</th>\n",
       "      <td>0.002175</td>\n",
       "      <td>-0.112915</td>\n",
       "      <td>0.103930</td>\n",
       "      <td>0.052179</td>\n",
       "      <td>1.000000</td>\n",
       "      <td>0.049042</td>\n",
       "      <td>-0.019924</td>\n",
       "      <td>0.087041</td>\n",
       "      <td>0.020629</td>\n",
       "      <td>0.030706</td>\n",
       "      <td>...</td>\n",
       "      <td>0.016657</td>\n",
       "      <td>0.048821</td>\n",
       "      <td>0.095836</td>\n",
       "      <td>0.043158</td>\n",
       "      <td>0.013695</td>\n",
       "      <td>-0.029874</td>\n",
       "      <td>-0.007743</td>\n",
       "      <td>0.026622</td>\n",
       "      <td>-0.074221</td>\n",
       "      <td>-0.040731</td>\n",
       "    </tr>\n",
       "  </tbody>\n",
       "</table>\n",
       "<p>5 rows × 127 columns</p>\n",
       "</div>"
      ],
      "text/plain": [
       "          22RV1      293F      A172      A375      A431      A549      A673  \\\n",
       "22RV1  1.000000  0.000320 -0.031884  0.009296  0.002175 -0.023022 -0.003752   \n",
       "293F   0.000320  1.000000 -0.093339 -0.024260 -0.112915 -0.081628  0.026968   \n",
       "A172  -0.031884 -0.093339  1.000000  0.154721  0.103930  0.149249  0.061423   \n",
       "A375   0.009296 -0.024260  0.154721  1.000000  0.052179  0.078715  0.025044   \n",
       "A431   0.002175 -0.112915  0.103930  0.052179  1.000000  0.049042 -0.019924   \n",
       "\n",
       "          ASPC1    BEAS2B      BEWO    ...          T24      T47D       T84  \\\n",
       "22RV1  0.060502 -0.052642  0.006221    ...    -0.061014  0.086913  0.047510   \n",
       "293F  -0.139459  0.013534 -0.029567    ...    -0.068633 -0.109193 -0.076865   \n",
       "A172   0.026405  0.237593 -0.010797    ...    -0.036390  0.076992 -0.011683   \n",
       "A375  -0.019986  0.036244 -0.026496    ...     0.018819 -0.027937 -0.001032   \n",
       "A431   0.087041  0.020629  0.030706    ...     0.016657  0.048821  0.095836   \n",
       "\n",
       "           T98G      THP1      U266       U87      U937      VCAP  WSUDLCL2  \n",
       "22RV1 -0.040830  0.007836  0.032968  0.016501 -0.036830  0.184509  0.003570  \n",
       "293F  -0.079225 -0.082707 -0.005714 -0.089967 -0.078120 -0.022988  0.002230  \n",
       "A172   0.291151  0.034949  0.004343  0.171542  0.038247 -0.064470 -0.035048  \n",
       "A375   0.101217 -0.004197  0.023465  0.066339  0.030358 -0.043078 -0.035601  \n",
       "A431   0.043158  0.013695 -0.029874 -0.007743  0.026622 -0.074221 -0.040731  \n",
       "\n",
       "[5 rows x 127 columns]"
      ]
     },
     "execution_count": 67,
     "metadata": {},
     "output_type": "execute_result"
    }
   ],
   "source": [
    "attribute_similarity_matix.head()"
   ]
  },
  {
   "cell_type": "markdown",
   "metadata": {},
   "source": [
    "# Save Attribute Similarity Matrix"
   ]
  },
  {
   "cell_type": "code",
   "execution_count": 68,
   "metadata": {
    "collapsed": true
   },
   "outputs": [],
   "source": [
    "filename = 'Output/archs4_celline_attribute_similarity_matix_%s.tsv.zip'% str(datetime.date.today())[0:7].replace('-', '_')\n",
    "attribute_similarity_matix.to_csv(filename, sep='\\t', compression='gzip')"
   ]
  },
  {
   "cell_type": "markdown",
   "metadata": {},
   "source": [
    "# Create Gene List"
   ]
  },
  {
   "cell_type": "code",
   "execution_count": 69,
   "metadata": {},
   "outputs": [
    {
     "name": "stdout",
     "output_type": "stream",
     "text": [
      "Progeres: 100%  23956 Out of 23956   \r"
     ]
    }
   ],
   "source": [
    "gene_list = uf.createGeneList(normalized_matrix)"
   ]
  },
  {
   "cell_type": "code",
   "execution_count": 70,
   "metadata": {},
   "outputs": [
    {
     "data": {
      "text/html": [
       "<div>\n",
       "<table border=\"1\" class=\"dataframe\">\n",
       "  <thead>\n",
       "    <tr style=\"text-align: right;\">\n",
       "      <th></th>\n",
       "      <th>GeneSym</th>\n",
       "      <th>GeneID</th>\n",
       "    </tr>\n",
       "  </thead>\n",
       "  <tbody>\n",
       "    <tr>\n",
       "      <th>0</th>\n",
       "      <td>A1BG</td>\n",
       "      <td>1</td>\n",
       "    </tr>\n",
       "    <tr>\n",
       "      <th>1</th>\n",
       "      <td>A1CF</td>\n",
       "      <td>29974</td>\n",
       "    </tr>\n",
       "    <tr>\n",
       "      <th>2</th>\n",
       "      <td>A2M</td>\n",
       "      <td>2</td>\n",
       "    </tr>\n",
       "    <tr>\n",
       "      <th>3</th>\n",
       "      <td>A2ML1</td>\n",
       "      <td>144568</td>\n",
       "    </tr>\n",
       "    <tr>\n",
       "      <th>4</th>\n",
       "      <td>A2MP1</td>\n",
       "      <td>3</td>\n",
       "    </tr>\n",
       "  </tbody>\n",
       "</table>\n",
       "</div>"
      ],
      "text/plain": [
       "  GeneSym  GeneID\n",
       "0    A1BG       1\n",
       "1    A1CF   29974\n",
       "2     A2M       2\n",
       "3   A2ML1  144568\n",
       "4   A2MP1       3"
      ]
     },
     "execution_count": 70,
     "metadata": {},
     "output_type": "execute_result"
    }
   ],
   "source": [
    "gene_list.head()"
   ]
  },
  {
   "cell_type": "code",
   "execution_count": 71,
   "metadata": {},
   "outputs": [
    {
     "data": {
      "text/plain": [
       "(23956, 2)"
      ]
     },
     "execution_count": 71,
     "metadata": {},
     "output_type": "execute_result"
    }
   ],
   "source": [
    "gene_list.shape"
   ]
  },
  {
   "cell_type": "markdown",
   "metadata": {},
   "source": [
    "# Save Gene List"
   ]
  },
  {
   "cell_type": "code",
   "execution_count": 72,
   "metadata": {
    "collapsed": true
   },
   "outputs": [],
   "source": [
    "filename = 'Output/archs4_celline_gene_list_%s.tsv.zip'% str(datetime.date.today())[0:7].replace('-', '_')\n",
    "gene_list.to_csv(filename, sep='\\t', index=False, compression='gzip')"
   ]
  },
  {
   "cell_type": "markdown",
   "metadata": {},
   "source": [
    "# Create Attribute List "
   ]
  },
  {
   "cell_type": "code",
   "execution_count": 73,
   "metadata": {
    "collapsed": true
   },
   "outputs": [],
   "source": [
    "attribute_list = uf.createAttributeList(normalized_matrix)"
   ]
  },
  {
   "cell_type": "code",
   "execution_count": 74,
   "metadata": {},
   "outputs": [
    {
     "data": {
      "text/html": [
       "<div>\n",
       "<table border=\"1\" class=\"dataframe\">\n",
       "  <thead>\n",
       "    <tr style=\"text-align: right;\">\n",
       "      <th></th>\n",
       "      <th>Attributes</th>\n",
       "    </tr>\n",
       "  </thead>\n",
       "  <tbody>\n",
       "    <tr>\n",
       "      <th>0</th>\n",
       "      <td>22RV1</td>\n",
       "    </tr>\n",
       "    <tr>\n",
       "      <th>1</th>\n",
       "      <td>293F</td>\n",
       "    </tr>\n",
       "    <tr>\n",
       "      <th>2</th>\n",
       "      <td>A172</td>\n",
       "    </tr>\n",
       "    <tr>\n",
       "      <th>3</th>\n",
       "      <td>A375</td>\n",
       "    </tr>\n",
       "    <tr>\n",
       "      <th>4</th>\n",
       "      <td>A431</td>\n",
       "    </tr>\n",
       "  </tbody>\n",
       "</table>\n",
       "</div>"
      ],
      "text/plain": [
       "  Attributes\n",
       "0      22RV1\n",
       "1       293F\n",
       "2       A172\n",
       "3       A375\n",
       "4       A431"
      ]
     },
     "execution_count": 74,
     "metadata": {},
     "output_type": "execute_result"
    }
   ],
   "source": [
    "attribute_list.head()"
   ]
  },
  {
   "cell_type": "code",
   "execution_count": 75,
   "metadata": {},
   "outputs": [
    {
     "data": {
      "text/plain": [
       "(127, 1)"
      ]
     },
     "execution_count": 75,
     "metadata": {},
     "output_type": "execute_result"
    }
   ],
   "source": [
    "attribute_list.shape"
   ]
  },
  {
   "cell_type": "markdown",
   "metadata": {},
   "source": [
    "# Save Attribute List"
   ]
  },
  {
   "cell_type": "code",
   "execution_count": 76,
   "metadata": {
    "collapsed": true
   },
   "outputs": [],
   "source": [
    "filename = 'Output/archs4_celline_attribute_list_%s.tsv.zip'% str(datetime.date.today())[0:7].replace('-', '_')\n",
    "attribute_list.to_csv(filename, sep='\\t', index=False, compression='gzip')"
   ]
  },
  {
   "cell_type": "markdown",
   "metadata": {},
   "source": [
    "# Create Gene-Attribute Edge List"
   ]
  },
  {
   "cell_type": "code",
   "execution_count": 77,
   "metadata": {
    "collapsed": true
   },
   "outputs": [],
   "source": [
    "path = '/Users/moshesilverstein/Documents/Harmonizome/ARCHS4/Output/'"
   ]
  },
  {
   "cell_type": "code",
   "execution_count": 78,
   "metadata": {
    "collapsed": true
   },
   "outputs": [],
   "source": [
    "name = 'archs4_celline_gene_attribute_edge_list'"
   ]
  },
  {
   "cell_type": "code",
   "execution_count": 79,
   "metadata": {},
   "outputs": [
    {
     "name": "stdout",
     "output_type": "stream",
     "text": [
      "Progeres: 100%  127 Out of 127   \n",
      "\n",
      " The number of statisticaly relevent gene-attribute associations is: 608457\n"
     ]
    }
   ],
   "source": [
    "uf.createGeneAttributeEdgeList(tertiary_matrix, gene_list, path, name)"
   ]
  }
 ],
 "metadata": {
  "kernelspec": {
   "display_name": "Python [default]",
   "language": "python",
   "name": "python3"
  },
  "language_info": {
   "codemirror_mode": {
    "name": "ipython",
    "version": 3
   },
   "file_extension": ".py",
   "mimetype": "text/x-python",
   "name": "python",
   "nbconvert_exporter": "python",
   "pygments_lexer": "ipython3",
   "version": "3.5.2"
  }
 },
 "nbformat": 4,
 "nbformat_minor": 2
}
