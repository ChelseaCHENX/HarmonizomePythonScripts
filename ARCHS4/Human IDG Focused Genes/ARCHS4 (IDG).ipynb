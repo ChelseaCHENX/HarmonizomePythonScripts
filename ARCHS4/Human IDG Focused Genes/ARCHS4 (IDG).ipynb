{
 "cells": [
  {
   "cell_type": "markdown",
   "metadata": {},
   "source": [
    "# ARCHS4 (IDG)"
   ]
  },
  {
   "cell_type": "markdown",
   "metadata": {},
   "source": [
    "Author: Moshe Silverstein <br/>\n",
    "Date: 8-17 <br/>\n",
    "Data Source: "
   ]
  },
  {
   "cell_type": "code",
   "execution_count": 1,
   "metadata": {
    "collapsed": true
   },
   "outputs": [],
   "source": [
    "import sys, datetime, os\n",
    "import numpy as np\n",
    "import pandas as pd\n",
    "import importlib\n",
    "import untility_functions as uf\n",
    "from collections import Counter\n",
    "import json\n",
    "import re\n",
    "import scipy\n",
    "from sklearn.metrics import jaccard_similarity_score\n",
    "from sklearn.metrics.pairwise import cosine_similarity\n",
    "import scipy.stats as stats\n",
    "%matplotlib inline"
   ]
  },
  {
   "cell_type": "code",
   "execution_count": 2,
   "metadata": {},
   "outputs": [
    {
     "data": {
      "text/plain": [
       "<module 'untility_functions' from '/Users/moshesilverstein/Documents/Harmonizome/ARCHS4/untility_functions.py'>"
      ]
     },
     "execution_count": 2,
     "metadata": {},
     "output_type": "execute_result"
    }
   ],
   "source": [
    "importlib.reload(uf)"
   ]
  },
  {
   "cell_type": "markdown",
   "metadata": {},
   "source": [
    "# Load Data (coexpression data generated gmt file)"
   ]
  },
  {
   "cell_type": "code",
   "execution_count": 7,
   "metadata": {},
   "outputs": [],
   "source": [
    "df = pd.read_csv('Input/IDG/ARCHS4_human_IDG_Coexp.gmt', sep='$', header=None)"
   ]
  },
  {
   "cell_type": "code",
   "execution_count": 8,
   "metadata": {},
   "outputs": [
    {
     "data": {
      "text/html": [
       "<div>\n",
       "<table border=\"1\" class=\"dataframe\">\n",
       "  <thead>\n",
       "    <tr style=\"text-align: right;\">\n",
       "      <th></th>\n",
       "      <th>0</th>\n",
       "    </tr>\n",
       "  </thead>\n",
       "  <tbody>\n",
       "    <tr>\n",
       "      <th>0</th>\n",
       "      <td>PRKAG1_IDG_kinase_ARCHS4_coexpression\\tSLC29A4...</td>\n",
       "    </tr>\n",
       "    <tr>\n",
       "      <th>1</th>\n",
       "      <td>PRKAB1_IDG_kinase_ARCHS4_coexpression\\tCIR1P1\\...</td>\n",
       "    </tr>\n",
       "    <tr>\n",
       "      <th>2</th>\n",
       "      <td>ADCK2_IDG_kinase_ARCHS4_coexpression\\tHOXC9\\tN...</td>\n",
       "    </tr>\n",
       "    <tr>\n",
       "      <th>3</th>\n",
       "      <td>ADCK5_IDG_kinase_ARCHS4_coexpression\\tRP11-402...</td>\n",
       "    </tr>\n",
       "    <tr>\n",
       "      <th>4</th>\n",
       "      <td>ALPK3_IDG_kinase_ARCHS4_coexpression\\tTNNC1\\tM...</td>\n",
       "    </tr>\n",
       "  </tbody>\n",
       "</table>\n",
       "</div>"
      ],
      "text/plain": [
       "                                                   0\n",
       "0  PRKAG1_IDG_kinase_ARCHS4_coexpression\\tSLC29A4...\n",
       "1  PRKAB1_IDG_kinase_ARCHS4_coexpression\\tCIR1P1\\...\n",
       "2  ADCK2_IDG_kinase_ARCHS4_coexpression\\tHOXC9\\tN...\n",
       "3  ADCK5_IDG_kinase_ARCHS4_coexpression\\tRP11-402...\n",
       "4  ALPK3_IDG_kinase_ARCHS4_coexpression\\tTNNC1\\tM..."
      ]
     },
     "execution_count": 8,
     "metadata": {},
     "output_type": "execute_result"
    }
   ],
   "source": [
    "df.head()"
   ]
  },
  {
   "cell_type": "code",
   "execution_count": 9,
   "metadata": {},
   "outputs": [
    {
     "name": "stdout",
     "output_type": "stream",
     "text": [
      "Progeres: 100%  352 Out of 352   \r"
     ]
    }
   ],
   "source": [
    "df_interactions = pd.DataFrame()\n",
    "\n",
    "for i, index in enumerate(df.index):\n",
    "    \n",
    "    progressPercent = ((i+1)/len(df.index))*100\n",
    "\n",
    "    sys.stdout.write(\"Progeres: %d%%  %d Out of %d   \\r\" % (progressPercent, (i+1), len(df.index)))\n",
    "    sys.stdout.flush()\n",
    "    \n",
    "    \n",
    "    lst2 = df.ix[index, 0].split('\\t')[1:]\n",
    "    lst1 = [df.ix[index, 0].split('\\t')[0].split('_')[0]]*(len(lst2)-1)\n",
    "    lst2.pop(0)\n",
    "    temp = pd.DataFrame()\n",
    "    temp['IDG Term'] = lst1\n",
    "    temp['Gene'] = lst2\n",
    "    df_interactions = pd.concat([df_interactions, temp]) "
   ]
  },
  {
   "cell_type": "code",
   "execution_count": 10,
   "metadata": {},
   "outputs": [
    {
     "data": {
      "text/html": [
       "<div>\n",
       "<table border=\"1\" class=\"dataframe\">\n",
       "  <thead>\n",
       "    <tr style=\"text-align: right;\">\n",
       "      <th></th>\n",
       "      <th>IDG Term</th>\n",
       "      <th>Gene</th>\n",
       "    </tr>\n",
       "  </thead>\n",
       "  <tbody>\n",
       "    <tr>\n",
       "      <th>0</th>\n",
       "      <td>PRKAG1</td>\n",
       "      <td>PPP1R7</td>\n",
       "    </tr>\n",
       "    <tr>\n",
       "      <th>1</th>\n",
       "      <td>PRKAG1</td>\n",
       "      <td>OR4F13P</td>\n",
       "    </tr>\n",
       "    <tr>\n",
       "      <th>2</th>\n",
       "      <td>PRKAG1</td>\n",
       "      <td>CHMP2B</td>\n",
       "    </tr>\n",
       "    <tr>\n",
       "      <th>3</th>\n",
       "      <td>PRKAG1</td>\n",
       "      <td>BBOX1</td>\n",
       "    </tr>\n",
       "    <tr>\n",
       "      <th>4</th>\n",
       "      <td>PRKAG1</td>\n",
       "      <td>TRBV2</td>\n",
       "    </tr>\n",
       "  </tbody>\n",
       "</table>\n",
       "</div>"
      ],
      "text/plain": [
       "  IDG Term     Gene\n",
       "0   PRKAG1   PPP1R7\n",
       "1   PRKAG1  OR4F13P\n",
       "2   PRKAG1   CHMP2B\n",
       "3   PRKAG1    BBOX1\n",
       "4   PRKAG1    TRBV2"
      ]
     },
     "execution_count": 10,
     "metadata": {},
     "output_type": "execute_result"
    }
   ],
   "source": [
    "df_interactions.head()"
   ]
  },
  {
   "cell_type": "code",
   "execution_count": 11,
   "metadata": {},
   "outputs": [
    {
     "data": {
      "text/plain": [
       "(105248, 2)"
      ]
     },
     "execution_count": 11,
     "metadata": {},
     "output_type": "execute_result"
    }
   ],
   "source": [
    "df_interactions.shape"
   ]
  },
  {
   "cell_type": "markdown",
   "metadata": {},
   "source": [
    "# Map Gene Symbols To Up-to-date Approved Gene Symbols"
   ]
  },
  {
   "cell_type": "code",
   "execution_count": 12,
   "metadata": {
    "collapsed": true
   },
   "outputs": [],
   "source": [
    "df_interactions.set_index('Gene', inplace=True)"
   ]
  },
  {
   "cell_type": "code",
   "execution_count": 13,
   "metadata": {},
   "outputs": [
    {
     "name": "stdout",
     "output_type": "stream",
     "text": [
      "Progeres: 99%  105238 Out of 105248   \r"
     ]
    }
   ],
   "source": [
    "uf.mapgenesymbols(df_interactions)"
   ]
  },
  {
   "cell_type": "markdown",
   "metadata": {},
   "source": [
    "# Drop Duplicates"
   ]
  },
  {
   "cell_type": "code",
   "execution_count": 14,
   "metadata": {
    "collapsed": true
   },
   "outputs": [],
   "source": [
    "df_interactions.reset_index(inplace=True)"
   ]
  },
  {
   "cell_type": "code",
   "execution_count": 15,
   "metadata": {
    "collapsed": true
   },
   "outputs": [],
   "source": [
    "df_interactions.drop_duplicates(inplace=True)"
   ]
  },
  {
   "cell_type": "code",
   "execution_count": 16,
   "metadata": {},
   "outputs": [
    {
     "data": {
      "text/plain": [
       "(95958, 2)"
      ]
     },
     "execution_count": 16,
     "metadata": {},
     "output_type": "execute_result"
    }
   ],
   "source": [
    "df_interactions.shape"
   ]
  },
  {
   "cell_type": "markdown",
   "metadata": {},
   "source": [
    "# Create Binary Matrix"
   ]
  },
  {
   "cell_type": "code",
   "execution_count": 17,
   "metadata": {},
   "outputs": [
    {
     "name": "stdout",
     "output_type": "stream",
     "text": [
      "Progeres: 100%  18020 Out of 18020   \r"
     ]
    }
   ],
   "source": [
    "binary_matrix = uf.createBinaryMatix(df_interactions)"
   ]
  },
  {
   "cell_type": "code",
   "execution_count": 18,
   "metadata": {},
   "outputs": [
    {
     "data": {
      "text/html": [
       "<div>\n",
       "<table border=\"1\" class=\"dataframe\">\n",
       "  <thead>\n",
       "    <tr style=\"text-align: right;\">\n",
       "      <th></th>\n",
       "      <th>CHRND</th>\n",
       "      <th>SUCNR1</th>\n",
       "      <th>GPR75</th>\n",
       "      <th>GPR63</th>\n",
       "      <th>ADGRG2</th>\n",
       "      <th>HCN3</th>\n",
       "      <th>GPR146</th>\n",
       "      <th>ADCK2</th>\n",
       "      <th>KCNAB3</th>\n",
       "      <th>MRGPRX3</th>\n",
       "      <th>...</th>\n",
       "      <th>KCNIP1</th>\n",
       "      <th>TTYH2</th>\n",
       "      <th>PKD2L2</th>\n",
       "      <th>PIK3C2G</th>\n",
       "      <th>CACNA2D2</th>\n",
       "      <th>GABRG1</th>\n",
       "      <th>ADGRE1</th>\n",
       "      <th>TPRA1</th>\n",
       "      <th>SLC26A1</th>\n",
       "      <th>PRPF4B</th>\n",
       "    </tr>\n",
       "  </thead>\n",
       "  <tbody>\n",
       "    <tr>\n",
       "      <th>CFAP45</th>\n",
       "      <td>0</td>\n",
       "      <td>0</td>\n",
       "      <td>0</td>\n",
       "      <td>0</td>\n",
       "      <td>0</td>\n",
       "      <td>0</td>\n",
       "      <td>0</td>\n",
       "      <td>0</td>\n",
       "      <td>0</td>\n",
       "      <td>0</td>\n",
       "      <td>...</td>\n",
       "      <td>0</td>\n",
       "      <td>0</td>\n",
       "      <td>0</td>\n",
       "      <td>0</td>\n",
       "      <td>0</td>\n",
       "      <td>0</td>\n",
       "      <td>0</td>\n",
       "      <td>0</td>\n",
       "      <td>0</td>\n",
       "      <td>0</td>\n",
       "    </tr>\n",
       "    <tr>\n",
       "      <th>HTR4</th>\n",
       "      <td>0</td>\n",
       "      <td>0</td>\n",
       "      <td>0</td>\n",
       "      <td>0</td>\n",
       "      <td>0</td>\n",
       "      <td>0</td>\n",
       "      <td>0</td>\n",
       "      <td>0</td>\n",
       "      <td>0</td>\n",
       "      <td>0</td>\n",
       "      <td>...</td>\n",
       "      <td>0</td>\n",
       "      <td>0</td>\n",
       "      <td>0</td>\n",
       "      <td>1</td>\n",
       "      <td>0</td>\n",
       "      <td>0</td>\n",
       "      <td>0</td>\n",
       "      <td>0</td>\n",
       "      <td>0</td>\n",
       "      <td>0</td>\n",
       "    </tr>\n",
       "    <tr>\n",
       "      <th>TMEM176B</th>\n",
       "      <td>0</td>\n",
       "      <td>0</td>\n",
       "      <td>0</td>\n",
       "      <td>0</td>\n",
       "      <td>0</td>\n",
       "      <td>0</td>\n",
       "      <td>0</td>\n",
       "      <td>0</td>\n",
       "      <td>0</td>\n",
       "      <td>0</td>\n",
       "      <td>...</td>\n",
       "      <td>0</td>\n",
       "      <td>0</td>\n",
       "      <td>0</td>\n",
       "      <td>0</td>\n",
       "      <td>0</td>\n",
       "      <td>0</td>\n",
       "      <td>0</td>\n",
       "      <td>0</td>\n",
       "      <td>0</td>\n",
       "      <td>0</td>\n",
       "    </tr>\n",
       "    <tr>\n",
       "      <th>CCDC144CP</th>\n",
       "      <td>0</td>\n",
       "      <td>0</td>\n",
       "      <td>0</td>\n",
       "      <td>0</td>\n",
       "      <td>0</td>\n",
       "      <td>0</td>\n",
       "      <td>0</td>\n",
       "      <td>0</td>\n",
       "      <td>0</td>\n",
       "      <td>1</td>\n",
       "      <td>...</td>\n",
       "      <td>0</td>\n",
       "      <td>0</td>\n",
       "      <td>0</td>\n",
       "      <td>0</td>\n",
       "      <td>0</td>\n",
       "      <td>0</td>\n",
       "      <td>0</td>\n",
       "      <td>0</td>\n",
       "      <td>0</td>\n",
       "      <td>0</td>\n",
       "    </tr>\n",
       "    <tr>\n",
       "      <th>ZNF223</th>\n",
       "      <td>0</td>\n",
       "      <td>0</td>\n",
       "      <td>0</td>\n",
       "      <td>0</td>\n",
       "      <td>0</td>\n",
       "      <td>0</td>\n",
       "      <td>0</td>\n",
       "      <td>0</td>\n",
       "      <td>0</td>\n",
       "      <td>0</td>\n",
       "      <td>...</td>\n",
       "      <td>0</td>\n",
       "      <td>0</td>\n",
       "      <td>0</td>\n",
       "      <td>0</td>\n",
       "      <td>0</td>\n",
       "      <td>0</td>\n",
       "      <td>0</td>\n",
       "      <td>0</td>\n",
       "      <td>0</td>\n",
       "      <td>0</td>\n",
       "    </tr>\n",
       "  </tbody>\n",
       "</table>\n",
       "<p>5 rows × 352 columns</p>\n",
       "</div>"
      ],
      "text/plain": [
       "           CHRND  SUCNR1  GPR75  GPR63  ADGRG2  HCN3  GPR146  ADCK2  KCNAB3  \\\n",
       "CFAP45         0       0      0      0       0     0       0      0       0   \n",
       "HTR4           0       0      0      0       0     0       0      0       0   \n",
       "TMEM176B       0       0      0      0       0     0       0      0       0   \n",
       "CCDC144CP      0       0      0      0       0     0       0      0       0   \n",
       "ZNF223         0       0      0      0       0     0       0      0       0   \n",
       "\n",
       "           MRGPRX3   ...    KCNIP1  TTYH2  PKD2L2  PIK3C2G  CACNA2D2  GABRG1  \\\n",
       "CFAP45           0   ...         0      0       0        0         0       0   \n",
       "HTR4             0   ...         0      0       0        1         0       0   \n",
       "TMEM176B         0   ...         0      0       0        0         0       0   \n",
       "CCDC144CP        1   ...         0      0       0        0         0       0   \n",
       "ZNF223           0   ...         0      0       0        0         0       0   \n",
       "\n",
       "           ADGRE1  TPRA1  SLC26A1  PRPF4B  \n",
       "CFAP45          0      0        0       0  \n",
       "HTR4            0      0        0       0  \n",
       "TMEM176B        0      0        0       0  \n",
       "CCDC144CP       0      0        0       0  \n",
       "ZNF223          0      0        0       0  \n",
       "\n",
       "[5 rows x 352 columns]"
      ]
     },
     "execution_count": 18,
     "metadata": {},
     "output_type": "execute_result"
    }
   ],
   "source": [
    "binary_matrix.head()"
   ]
  },
  {
   "cell_type": "code",
   "execution_count": 19,
   "metadata": {},
   "outputs": [
    {
     "data": {
      "text/plain": [
       "(18020, 352)"
      ]
     },
     "execution_count": 19,
     "metadata": {},
     "output_type": "execute_result"
    }
   ],
   "source": [
    "binary_matrix.shape"
   ]
  },
  {
   "cell_type": "markdown",
   "metadata": {},
   "source": [
    "# Save Binary Matrix"
   ]
  },
  {
   "cell_type": "code",
   "execution_count": 21,
   "metadata": {},
   "outputs": [],
   "source": [
    "filename = '~/./Documents/Harmonizome/ARCHS4/Output/archs4_idg_binary_matrix_%s.tsv.zip'% str(datetime.date.today())[0:7].replace('-', '_')\n",
    "binary_matrix.to_csv(filename, sep='\\t', compression='gzip')"
   ]
  },
  {
   "cell_type": "markdown",
   "metadata": {},
   "source": [
    "# Create Gene Set Library"
   ]
  },
  {
   "cell_type": "code",
   "execution_count": 25,
   "metadata": {
    "collapsed": true
   },
   "outputs": [],
   "source": [
    "path = '/Users/moshesilverstein/Documents/Harmonizome/ARCHS4/Output/'"
   ]
  },
  {
   "cell_type": "code",
   "execution_count": 26,
   "metadata": {
    "collapsed": true
   },
   "outputs": [],
   "source": [
    "name = 'archs4_idg_gene_set'"
   ]
  },
  {
   "cell_type": "code",
   "execution_count": 27,
   "metadata": {},
   "outputs": [
    {
     "name": "stdout",
     "output_type": "stream",
     "text": [
      "Progeres: 100%  352 Out of 352   \r"
     ]
    }
   ],
   "source": [
    "uf.createUpGeneSetLib(binary_matrix, path, name)"
   ]
  },
  {
   "cell_type": "markdown",
   "metadata": {},
   "source": [
    "# Create Attribute Library"
   ]
  },
  {
   "cell_type": "code",
   "execution_count": 28,
   "metadata": {
    "collapsed": true
   },
   "outputs": [],
   "source": [
    "path = '/Users/moshesilverstein/Documents/Harmonizome/ARCHS4/Output/'"
   ]
  },
  {
   "cell_type": "code",
   "execution_count": 29,
   "metadata": {
    "collapsed": true
   },
   "outputs": [],
   "source": [
    "name = 'archs4_idg_attribute_set'"
   ]
  },
  {
   "cell_type": "code",
   "execution_count": 30,
   "metadata": {},
   "outputs": [
    {
     "name": "stdout",
     "output_type": "stream",
     "text": [
      "Progeres: 100%  18020 Out of 18020   \r"
     ]
    }
   ],
   "source": [
    "uf.createUpAttributeSetLib(binary_matrix, path, name)"
   ]
  },
  {
   "cell_type": "markdown",
   "metadata": {},
   "source": [
    "# Create Gene Similarity Matrix"
   ]
  },
  {
   "cell_type": "code",
   "execution_count": 31,
   "metadata": {
    "collapsed": true
   },
   "outputs": [],
   "source": [
    "gene_similarity_matix = uf.createSimilarityMatrix(binary_matrix, 'jaccard')"
   ]
  },
  {
   "cell_type": "code",
   "execution_count": 32,
   "metadata": {},
   "outputs": [
    {
     "data": {
      "text/html": [
       "<div>\n",
       "<table border=\"1\" class=\"dataframe\">\n",
       "  <thead>\n",
       "    <tr style=\"text-align: right;\">\n",
       "      <th></th>\n",
       "      <th>CFAP45</th>\n",
       "      <th>HTR4</th>\n",
       "      <th>TMEM176B</th>\n",
       "      <th>CCDC144CP</th>\n",
       "      <th>ZNF223</th>\n",
       "      <th>TAB2</th>\n",
       "      <th>ZNF346</th>\n",
       "      <th>GOLGA2P11</th>\n",
       "      <th>LSMEM1</th>\n",
       "      <th>NDUFA3</th>\n",
       "      <th>...</th>\n",
       "      <th>RFX4</th>\n",
       "      <th>TNFSF8</th>\n",
       "      <th>HAAO</th>\n",
       "      <th>SLC25A41</th>\n",
       "      <th>NDFIP2</th>\n",
       "      <th>RPL12P17</th>\n",
       "      <th>IQCF3</th>\n",
       "      <th>SVIL</th>\n",
       "      <th>CFLAR</th>\n",
       "      <th>GOLGA5</th>\n",
       "    </tr>\n",
       "  </thead>\n",
       "  <tbody>\n",
       "    <tr>\n",
       "      <th>CFAP45</th>\n",
       "      <td>1.0</td>\n",
       "      <td>0.0</td>\n",
       "      <td>0.0</td>\n",
       "      <td>0.0</td>\n",
       "      <td>0.0</td>\n",
       "      <td>0.0</td>\n",
       "      <td>0.0</td>\n",
       "      <td>0.0</td>\n",
       "      <td>0.0</td>\n",
       "      <td>0.0</td>\n",
       "      <td>...</td>\n",
       "      <td>0.0</td>\n",
       "      <td>0.0</td>\n",
       "      <td>0.000000</td>\n",
       "      <td>0.0</td>\n",
       "      <td>0.0</td>\n",
       "      <td>0.0</td>\n",
       "      <td>0.000000</td>\n",
       "      <td>0.025641</td>\n",
       "      <td>0.000000</td>\n",
       "      <td>0.0</td>\n",
       "    </tr>\n",
       "    <tr>\n",
       "      <th>HTR4</th>\n",
       "      <td>0.0</td>\n",
       "      <td>1.0</td>\n",
       "      <td>0.0</td>\n",
       "      <td>0.0</td>\n",
       "      <td>0.0</td>\n",
       "      <td>0.0</td>\n",
       "      <td>0.0</td>\n",
       "      <td>0.0</td>\n",
       "      <td>0.0</td>\n",
       "      <td>0.0</td>\n",
       "      <td>...</td>\n",
       "      <td>0.0</td>\n",
       "      <td>0.0</td>\n",
       "      <td>0.111111</td>\n",
       "      <td>0.0</td>\n",
       "      <td>0.0</td>\n",
       "      <td>0.0</td>\n",
       "      <td>0.000000</td>\n",
       "      <td>0.000000</td>\n",
       "      <td>0.047619</td>\n",
       "      <td>0.0</td>\n",
       "    </tr>\n",
       "    <tr>\n",
       "      <th>TMEM176B</th>\n",
       "      <td>0.0</td>\n",
       "      <td>0.0</td>\n",
       "      <td>1.0</td>\n",
       "      <td>0.0</td>\n",
       "      <td>0.0</td>\n",
       "      <td>0.0</td>\n",
       "      <td>0.0</td>\n",
       "      <td>0.0</td>\n",
       "      <td>0.0</td>\n",
       "      <td>0.0</td>\n",
       "      <td>...</td>\n",
       "      <td>0.0</td>\n",
       "      <td>0.0</td>\n",
       "      <td>0.000000</td>\n",
       "      <td>0.0</td>\n",
       "      <td>0.0</td>\n",
       "      <td>0.0</td>\n",
       "      <td>0.000000</td>\n",
       "      <td>0.000000</td>\n",
       "      <td>0.000000</td>\n",
       "      <td>0.0</td>\n",
       "    </tr>\n",
       "    <tr>\n",
       "      <th>CCDC144CP</th>\n",
       "      <td>0.0</td>\n",
       "      <td>0.0</td>\n",
       "      <td>0.0</td>\n",
       "      <td>1.0</td>\n",
       "      <td>0.0</td>\n",
       "      <td>0.0</td>\n",
       "      <td>0.0</td>\n",
       "      <td>0.0</td>\n",
       "      <td>0.0</td>\n",
       "      <td>0.0</td>\n",
       "      <td>...</td>\n",
       "      <td>0.0</td>\n",
       "      <td>0.0</td>\n",
       "      <td>0.000000</td>\n",
       "      <td>0.0</td>\n",
       "      <td>0.0</td>\n",
       "      <td>0.0</td>\n",
       "      <td>0.000000</td>\n",
       "      <td>0.000000</td>\n",
       "      <td>0.000000</td>\n",
       "      <td>0.0</td>\n",
       "    </tr>\n",
       "    <tr>\n",
       "      <th>ZNF223</th>\n",
       "      <td>0.0</td>\n",
       "      <td>0.0</td>\n",
       "      <td>0.0</td>\n",
       "      <td>0.0</td>\n",
       "      <td>1.0</td>\n",
       "      <td>0.0</td>\n",
       "      <td>0.0</td>\n",
       "      <td>0.0</td>\n",
       "      <td>0.0</td>\n",
       "      <td>0.0</td>\n",
       "      <td>...</td>\n",
       "      <td>0.0</td>\n",
       "      <td>0.0</td>\n",
       "      <td>0.000000</td>\n",
       "      <td>0.0</td>\n",
       "      <td>0.0</td>\n",
       "      <td>0.0</td>\n",
       "      <td>0.083333</td>\n",
       "      <td>0.038462</td>\n",
       "      <td>0.000000</td>\n",
       "      <td>0.0</td>\n",
       "    </tr>\n",
       "  </tbody>\n",
       "</table>\n",
       "<p>5 rows × 18020 columns</p>\n",
       "</div>"
      ],
      "text/plain": [
       "           CFAP45  HTR4  TMEM176B  CCDC144CP  ZNF223  TAB2  ZNF346  GOLGA2P11  \\\n",
       "CFAP45        1.0   0.0       0.0        0.0     0.0   0.0     0.0        0.0   \n",
       "HTR4          0.0   1.0       0.0        0.0     0.0   0.0     0.0        0.0   \n",
       "TMEM176B      0.0   0.0       1.0        0.0     0.0   0.0     0.0        0.0   \n",
       "CCDC144CP     0.0   0.0       0.0        1.0     0.0   0.0     0.0        0.0   \n",
       "ZNF223        0.0   0.0       0.0        0.0     1.0   0.0     0.0        0.0   \n",
       "\n",
       "           LSMEM1  NDUFA3   ...    RFX4  TNFSF8      HAAO  SLC25A41  NDFIP2  \\\n",
       "CFAP45        0.0     0.0   ...     0.0     0.0  0.000000       0.0     0.0   \n",
       "HTR4          0.0     0.0   ...     0.0     0.0  0.111111       0.0     0.0   \n",
       "TMEM176B      0.0     0.0   ...     0.0     0.0  0.000000       0.0     0.0   \n",
       "CCDC144CP     0.0     0.0   ...     0.0     0.0  0.000000       0.0     0.0   \n",
       "ZNF223        0.0     0.0   ...     0.0     0.0  0.000000       0.0     0.0   \n",
       "\n",
       "           RPL12P17     IQCF3      SVIL     CFLAR  GOLGA5  \n",
       "CFAP45          0.0  0.000000  0.025641  0.000000     0.0  \n",
       "HTR4            0.0  0.000000  0.000000  0.047619     0.0  \n",
       "TMEM176B        0.0  0.000000  0.000000  0.000000     0.0  \n",
       "CCDC144CP       0.0  0.000000  0.000000  0.000000     0.0  \n",
       "ZNF223          0.0  0.083333  0.038462  0.000000     0.0  \n",
       "\n",
       "[5 rows x 18020 columns]"
      ]
     },
     "execution_count": 32,
     "metadata": {},
     "output_type": "execute_result"
    }
   ],
   "source": [
    "gene_similarity_matix.head()"
   ]
  },
  {
   "cell_type": "markdown",
   "metadata": {},
   "source": [
    "# Save Gene Similarity Matrix"
   ]
  },
  {
   "cell_type": "code",
   "execution_count": 33,
   "metadata": {
    "collapsed": true
   },
   "outputs": [],
   "source": [
    "filename = '~/./Documents/Harmonizome/ARCHS4/Output/archs4_idg_gene_similarity_matix_%s.tsv.zip'% str(datetime.date.today())[0:7].replace('-', '_')\n",
    "gene_similarity_matix.to_csv(filename, sep='\\t', compression='gzip')"
   ]
  },
  {
   "cell_type": "markdown",
   "metadata": {},
   "source": [
    "# Create Attribute Similarity matrix"
   ]
  },
  {
   "cell_type": "code",
   "execution_count": 34,
   "metadata": {
    "collapsed": true
   },
   "outputs": [],
   "source": [
    "attribute_similarity_matix = uf.createSimilarityMatrix(binary_matrix.T, 'jaccard')"
   ]
  },
  {
   "cell_type": "code",
   "execution_count": 35,
   "metadata": {},
   "outputs": [
    {
     "data": {
      "text/html": [
       "<div>\n",
       "<table border=\"1\" class=\"dataframe\">\n",
       "  <thead>\n",
       "    <tr style=\"text-align: right;\">\n",
       "      <th></th>\n",
       "      <th>CHRND</th>\n",
       "      <th>SUCNR1</th>\n",
       "      <th>GPR75</th>\n",
       "      <th>GPR63</th>\n",
       "      <th>ADGRG2</th>\n",
       "      <th>HCN3</th>\n",
       "      <th>GPR146</th>\n",
       "      <th>ADCK2</th>\n",
       "      <th>KCNAB3</th>\n",
       "      <th>MRGPRX3</th>\n",
       "      <th>...</th>\n",
       "      <th>KCNIP1</th>\n",
       "      <th>TTYH2</th>\n",
       "      <th>PKD2L2</th>\n",
       "      <th>PIK3C2G</th>\n",
       "      <th>CACNA2D2</th>\n",
       "      <th>GABRG1</th>\n",
       "      <th>ADGRE1</th>\n",
       "      <th>TPRA1</th>\n",
       "      <th>SLC26A1</th>\n",
       "      <th>PRPF4B</th>\n",
       "    </tr>\n",
       "  </thead>\n",
       "  <tbody>\n",
       "    <tr>\n",
       "      <th>CHRND</th>\n",
       "      <td>1.000000</td>\n",
       "      <td>0.0</td>\n",
       "      <td>0.005474</td>\n",
       "      <td>0.001767</td>\n",
       "      <td>0.000000</td>\n",
       "      <td>0.001754</td>\n",
       "      <td>0.009363</td>\n",
       "      <td>0.001733</td>\n",
       "      <td>0.000000</td>\n",
       "      <td>0.001953</td>\n",
       "      <td>...</td>\n",
       "      <td>0.000000</td>\n",
       "      <td>0.008666</td>\n",
       "      <td>0.000000</td>\n",
       "      <td>0.000000</td>\n",
       "      <td>0.003670</td>\n",
       "      <td>0.000000</td>\n",
       "      <td>0.000000</td>\n",
       "      <td>0.000</td>\n",
       "      <td>0.000000</td>\n",
       "      <td>0.000000</td>\n",
       "    </tr>\n",
       "    <tr>\n",
       "      <th>SUCNR1</th>\n",
       "      <td>0.000000</td>\n",
       "      <td>1.0</td>\n",
       "      <td>0.000000</td>\n",
       "      <td>0.000000</td>\n",
       "      <td>0.000000</td>\n",
       "      <td>0.000000</td>\n",
       "      <td>0.007449</td>\n",
       "      <td>0.017544</td>\n",
       "      <td>0.000000</td>\n",
       "      <td>0.005859</td>\n",
       "      <td>...</td>\n",
       "      <td>0.000000</td>\n",
       "      <td>0.001715</td>\n",
       "      <td>0.000000</td>\n",
       "      <td>0.000000</td>\n",
       "      <td>0.001825</td>\n",
       "      <td>0.000000</td>\n",
       "      <td>0.104762</td>\n",
       "      <td>0.154</td>\n",
       "      <td>0.003478</td>\n",
       "      <td>0.003534</td>\n",
       "    </tr>\n",
       "    <tr>\n",
       "      <th>GPR75</th>\n",
       "      <td>0.005474</td>\n",
       "      <td>0.0</td>\n",
       "      <td>1.000000</td>\n",
       "      <td>0.005505</td>\n",
       "      <td>0.003861</td>\n",
       "      <td>0.003636</td>\n",
       "      <td>0.001927</td>\n",
       "      <td>0.000000</td>\n",
       "      <td>0.007921</td>\n",
       "      <td>0.000000</td>\n",
       "      <td>...</td>\n",
       "      <td>0.035382</td>\n",
       "      <td>0.048417</td>\n",
       "      <td>0.005952</td>\n",
       "      <td>0.003623</td>\n",
       "      <td>0.009560</td>\n",
       "      <td>0.108696</td>\n",
       "      <td>0.000000</td>\n",
       "      <td>0.000</td>\n",
       "      <td>0.001802</td>\n",
       "      <td>0.030132</td>\n",
       "    </tr>\n",
       "    <tr>\n",
       "      <th>GPR63</th>\n",
       "      <td>0.001767</td>\n",
       "      <td>0.0</td>\n",
       "      <td>0.005505</td>\n",
       "      <td>1.000000</td>\n",
       "      <td>0.044834</td>\n",
       "      <td>0.003534</td>\n",
       "      <td>0.000000</td>\n",
       "      <td>0.000000</td>\n",
       "      <td>0.031434</td>\n",
       "      <td>0.000000</td>\n",
       "      <td>...</td>\n",
       "      <td>0.008818</td>\n",
       "      <td>0.000000</td>\n",
       "      <td>0.027505</td>\n",
       "      <td>0.003521</td>\n",
       "      <td>0.007407</td>\n",
       "      <td>0.006981</td>\n",
       "      <td>0.000000</td>\n",
       "      <td>0.000</td>\n",
       "      <td>0.000000</td>\n",
       "      <td>0.010772</td>\n",
       "    </tr>\n",
       "    <tr>\n",
       "      <th>ADGRG2</th>\n",
       "      <td>0.000000</td>\n",
       "      <td>0.0</td>\n",
       "      <td>0.003861</td>\n",
       "      <td>0.044834</td>\n",
       "      <td>1.000000</td>\n",
       "      <td>0.000000</td>\n",
       "      <td>0.000000</td>\n",
       "      <td>0.000000</td>\n",
       "      <td>0.197590</td>\n",
       "      <td>0.000000</td>\n",
       "      <td>...</td>\n",
       "      <td>0.011152</td>\n",
       "      <td>0.000000</td>\n",
       "      <td>0.246851</td>\n",
       "      <td>0.013084</td>\n",
       "      <td>0.003891</td>\n",
       "      <td>0.000000</td>\n",
       "      <td>0.000000</td>\n",
       "      <td>0.000</td>\n",
       "      <td>0.000000</td>\n",
       "      <td>0.000000</td>\n",
       "    </tr>\n",
       "  </tbody>\n",
       "</table>\n",
       "<p>5 rows × 352 columns</p>\n",
       "</div>"
      ],
      "text/plain": [
       "           CHRND  SUCNR1     GPR75     GPR63    ADGRG2      HCN3    GPR146  \\\n",
       "CHRND   1.000000     0.0  0.005474  0.001767  0.000000  0.001754  0.009363   \n",
       "SUCNR1  0.000000     1.0  0.000000  0.000000  0.000000  0.000000  0.007449   \n",
       "GPR75   0.005474     0.0  1.000000  0.005505  0.003861  0.003636  0.001927   \n",
       "GPR63   0.001767     0.0  0.005505  1.000000  0.044834  0.003534  0.000000   \n",
       "ADGRG2  0.000000     0.0  0.003861  0.044834  1.000000  0.000000  0.000000   \n",
       "\n",
       "           ADCK2    KCNAB3   MRGPRX3    ...       KCNIP1     TTYH2    PKD2L2  \\\n",
       "CHRND   0.001733  0.000000  0.001953    ...     0.000000  0.008666  0.000000   \n",
       "SUCNR1  0.017544  0.000000  0.005859    ...     0.000000  0.001715  0.000000   \n",
       "GPR75   0.000000  0.007921  0.000000    ...     0.035382  0.048417  0.005952   \n",
       "GPR63   0.000000  0.031434  0.000000    ...     0.008818  0.000000  0.027505   \n",
       "ADGRG2  0.000000  0.197590  0.000000    ...     0.011152  0.000000  0.246851   \n",
       "\n",
       "         PIK3C2G  CACNA2D2    GABRG1    ADGRE1  TPRA1   SLC26A1    PRPF4B  \n",
       "CHRND   0.000000  0.003670  0.000000  0.000000  0.000  0.000000  0.000000  \n",
       "SUCNR1  0.000000  0.001825  0.000000  0.104762  0.154  0.003478  0.003534  \n",
       "GPR75   0.003623  0.009560  0.108696  0.000000  0.000  0.001802  0.030132  \n",
       "GPR63   0.003521  0.007407  0.006981  0.000000  0.000  0.000000  0.010772  \n",
       "ADGRG2  0.013084  0.003891  0.000000  0.000000  0.000  0.000000  0.000000  \n",
       "\n",
       "[5 rows x 352 columns]"
      ]
     },
     "execution_count": 35,
     "metadata": {},
     "output_type": "execute_result"
    }
   ],
   "source": [
    "attribute_similarity_matix.head()"
   ]
  },
  {
   "cell_type": "markdown",
   "metadata": {},
   "source": [
    "# Save Attribute Similarity Matrix"
   ]
  },
  {
   "cell_type": "code",
   "execution_count": 36,
   "metadata": {
    "collapsed": true
   },
   "outputs": [],
   "source": [
    "filename = '~/./Documents/Harmonizome/ARCHS4/Output/archs4_idg_attribute_similarity_matix_%s.tsv.zip'% str(datetime.date.today())[0:7].replace('-', '_')\n",
    "attribute_similarity_matix.to_csv(filename, sep='\\t', compression='gzip')"
   ]
  },
  {
   "cell_type": "markdown",
   "metadata": {},
   "source": [
    "# Create Gene List"
   ]
  },
  {
   "cell_type": "code",
   "execution_count": 37,
   "metadata": {},
   "outputs": [
    {
     "name": "stdout",
     "output_type": "stream",
     "text": [
      "Progeres: 100%  18020 Out of 18020   \r"
     ]
    }
   ],
   "source": [
    "gene_list = uf.createGeneList(binary_matrix)"
   ]
  },
  {
   "cell_type": "code",
   "execution_count": 38,
   "metadata": {},
   "outputs": [
    {
     "data": {
      "text/html": [
       "<div>\n",
       "<table border=\"1\" class=\"dataframe\">\n",
       "  <thead>\n",
       "    <tr style=\"text-align: right;\">\n",
       "      <th></th>\n",
       "      <th>GeneSym</th>\n",
       "      <th>GeneID</th>\n",
       "    </tr>\n",
       "  </thead>\n",
       "  <tbody>\n",
       "    <tr>\n",
       "      <th>0</th>\n",
       "      <td>CFAP45</td>\n",
       "      <td>25790</td>\n",
       "    </tr>\n",
       "    <tr>\n",
       "      <th>1</th>\n",
       "      <td>HTR4</td>\n",
       "      <td>3360</td>\n",
       "    </tr>\n",
       "    <tr>\n",
       "      <th>2</th>\n",
       "      <td>TMEM176B</td>\n",
       "      <td>28959</td>\n",
       "    </tr>\n",
       "    <tr>\n",
       "      <th>3</th>\n",
       "      <td>CCDC144CP</td>\n",
       "      <td>348254</td>\n",
       "    </tr>\n",
       "    <tr>\n",
       "      <th>4</th>\n",
       "      <td>ZNF223</td>\n",
       "      <td>7766</td>\n",
       "    </tr>\n",
       "  </tbody>\n",
       "</table>\n",
       "</div>"
      ],
      "text/plain": [
       "     GeneSym  GeneID\n",
       "0     CFAP45   25790\n",
       "1       HTR4    3360\n",
       "2   TMEM176B   28959\n",
       "3  CCDC144CP  348254\n",
       "4     ZNF223    7766"
      ]
     },
     "execution_count": 38,
     "metadata": {},
     "output_type": "execute_result"
    }
   ],
   "source": [
    "gene_list.head()"
   ]
  },
  {
   "cell_type": "code",
   "execution_count": 39,
   "metadata": {},
   "outputs": [
    {
     "data": {
      "text/plain": [
       "(18020, 2)"
      ]
     },
     "execution_count": 39,
     "metadata": {},
     "output_type": "execute_result"
    }
   ],
   "source": [
    "gene_list.shape"
   ]
  },
  {
   "cell_type": "markdown",
   "metadata": {},
   "source": [
    "# Save Gene List"
   ]
  },
  {
   "cell_type": "code",
   "execution_count": 40,
   "metadata": {
    "collapsed": true
   },
   "outputs": [],
   "source": [
    "filename = '~/./Documents/Harmonizome/ARCHS4/Output/archs4_idg_gene_list_%s.tsv.zip'% str(datetime.date.today())[0:7].replace('-', '_')\n",
    "gene_list.to_csv(filename, sep='\\t', index=False, compression='gzip')"
   ]
  },
  {
   "cell_type": "markdown",
   "metadata": {},
   "source": [
    "# Create Attribute List"
   ]
  },
  {
   "cell_type": "code",
   "execution_count": 44,
   "metadata": {
    "collapsed": true
   },
   "outputs": [],
   "source": [
    "attribute_list = uf.createAttributeList(binary_matrix)"
   ]
  },
  {
   "cell_type": "code",
   "execution_count": 45,
   "metadata": {},
   "outputs": [
    {
     "data": {
      "text/html": [
       "<div>\n",
       "<table border=\"1\" class=\"dataframe\">\n",
       "  <thead>\n",
       "    <tr style=\"text-align: right;\">\n",
       "      <th></th>\n",
       "      <th>Attributes</th>\n",
       "    </tr>\n",
       "  </thead>\n",
       "  <tbody>\n",
       "    <tr>\n",
       "      <th>0</th>\n",
       "      <td>CHRND</td>\n",
       "    </tr>\n",
       "    <tr>\n",
       "      <th>1</th>\n",
       "      <td>SUCNR1</td>\n",
       "    </tr>\n",
       "    <tr>\n",
       "      <th>2</th>\n",
       "      <td>GPR75</td>\n",
       "    </tr>\n",
       "    <tr>\n",
       "      <th>3</th>\n",
       "      <td>GPR63</td>\n",
       "    </tr>\n",
       "    <tr>\n",
       "      <th>4</th>\n",
       "      <td>ADGRG2</td>\n",
       "    </tr>\n",
       "  </tbody>\n",
       "</table>\n",
       "</div>"
      ],
      "text/plain": [
       "  Attributes\n",
       "0      CHRND\n",
       "1     SUCNR1\n",
       "2      GPR75\n",
       "3      GPR63\n",
       "4     ADGRG2"
      ]
     },
     "execution_count": 45,
     "metadata": {},
     "output_type": "execute_result"
    }
   ],
   "source": [
    "attribute_list.head()"
   ]
  },
  {
   "cell_type": "code",
   "execution_count": 46,
   "metadata": {},
   "outputs": [
    {
     "data": {
      "text/plain": [
       "(352, 1)"
      ]
     },
     "execution_count": 46,
     "metadata": {},
     "output_type": "execute_result"
    }
   ],
   "source": [
    "attribute_list.shape"
   ]
  },
  {
   "cell_type": "markdown",
   "metadata": {},
   "source": [
    "# Save Attribute List"
   ]
  },
  {
   "cell_type": "code",
   "execution_count": 47,
   "metadata": {
    "collapsed": true
   },
   "outputs": [],
   "source": [
    "filename = '~/./Documents/Harmonizome/ARCHS4/Output/archs4_idg_attribute_list_%s.tsv.zip'% str(datetime.date.today())[0:7].replace('-', '_')\n",
    "attribute_list.to_csv(filename, sep='\\t', index=False, compression='gzip')"
   ]
  },
  {
   "cell_type": "markdown",
   "metadata": {},
   "source": [
    "# Create Gene-Attribute Edge List"
   ]
  },
  {
   "cell_type": "code",
   "execution_count": 48,
   "metadata": {
    "collapsed": true
   },
   "outputs": [],
   "source": [
    "path = '/Users/moshesilverstein/Documents/Harmonizome/ARCHS4/Output/'"
   ]
  },
  {
   "cell_type": "code",
   "execution_count": 49,
   "metadata": {
    "collapsed": true
   },
   "outputs": [],
   "source": [
    "name = 'archs4_idg_gene_attribute_edge_list'"
   ]
  },
  {
   "cell_type": "code",
   "execution_count": 50,
   "metadata": {},
   "outputs": [
    {
     "name": "stdout",
     "output_type": "stream",
     "text": [
      "Progeres: 100%  352 Out of 352   \n",
      "\n",
      " The number of statisticaly relevent gene-attribute associations is: 95958\n"
     ]
    }
   ],
   "source": [
    "uf.createGeneAttributeEdgeList(binary_matrix, gene_list, path, name)"
   ]
  }
 ],
 "metadata": {
  "kernelspec": {
   "display_name": "Python [default]",
   "language": "python",
   "name": "python3"
  },
  "language_info": {
   "codemirror_mode": {
    "name": "ipython",
    "version": 3
   },
   "file_extension": ".py",
   "mimetype": "text/x-python",
   "name": "python",
   "nbconvert_exporter": "python",
   "pygments_lexer": "ipython3",
   "version": "3.5.2"
  }
 },
 "nbformat": 4,
 "nbformat_minor": 2
}
