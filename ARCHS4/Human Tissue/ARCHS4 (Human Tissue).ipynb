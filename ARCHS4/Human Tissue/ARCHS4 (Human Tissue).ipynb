{
 "cells": [
  {
   "cell_type": "markdown",
   "metadata": {},
   "source": [
    "# ARCHS4 (Human Tissue)"
   ]
  },
  {
   "cell_type": "markdown",
   "metadata": {},
   "source": [
    "Author: Moshe Silverstein <br/>\n",
    "Date: 8-17 <br/>\n",
    "Data Source: "
   ]
  },
  {
   "cell_type": "code",
   "execution_count": 1,
   "metadata": {
    "collapsed": true
   },
   "outputs": [],
   "source": [
    "import sys, datetime, os\n",
    "import numpy as np\n",
    "import pandas as pd\n",
    "import importlib\n",
    "import my_functions as mf\n",
    "from collections import Counter\n",
    "import json\n",
    "import re\n",
    "import scipy\n",
    "from sklearn.metrics import jaccard_similarity_score\n",
    "from sklearn.metrics.pairwise import cosine_similarity\n",
    "import scipy.stats as stats\n",
    "%matplotlib inline"
   ]
  },
  {
   "cell_type": "code",
   "execution_count": 2,
   "metadata": {},
   "outputs": [
    {
     "data": {
      "text/plain": [
       "<module 'my_functions' from '/Users/moshesilverstein/Documents/Harmonizome/ARCHS4/my_functions.py'>"
      ]
     },
     "execution_count": 2,
     "metadata": {},
     "output_type": "execute_result"
    }
   ],
   "source": [
    "importlib.reload(mf)"
   ]
  },
  {
   "cell_type": "markdown",
   "metadata": {},
   "source": [
    "# Download the data using r scripts provided by ARCHS4"
   ]
  },
  {
   "cell_type": "code",
   "execution_count": 3,
   "metadata": {
    "collapsed": true
   },
   "outputs": [],
   "source": [
    "import h5py\n",
    "\n",
    "filename = '/Users/moshesilverstein/Documents/Harmonizome/ARCHS4/Input/Human/Tissue/human_matrix.h5'\n",
    "f = h5py.File(filename, 'r')"
   ]
  },
  {
   "cell_type": "markdown",
   "metadata": {},
   "source": [
    "# Load Data "
   ]
  },
  {
   "cell_type": "code",
   "execution_count": 4,
   "metadata": {
    "collapsed": true
   },
   "outputs": [],
   "source": [
    "matrix = pd.DataFrame(data = f['data/expression'][:,:])"
   ]
  },
  {
   "cell_type": "code",
   "execution_count": 5,
   "metadata": {
    "collapsed": true
   },
   "outputs": [],
   "source": [
    "matrix = matrix.T"
   ]
  },
  {
   "cell_type": "code",
   "execution_count": 6,
   "metadata": {},
   "outputs": [
    {
     "data": {
      "text/html": [
       "<div>\n",
       "<table border=\"1\" class=\"dataframe\">\n",
       "  <thead>\n",
       "    <tr style=\"text-align: right;\">\n",
       "      <th></th>\n",
       "      <th>0</th>\n",
       "      <th>1</th>\n",
       "      <th>2</th>\n",
       "      <th>3</th>\n",
       "      <th>4</th>\n",
       "      <th>5</th>\n",
       "      <th>6</th>\n",
       "      <th>7</th>\n",
       "      <th>8</th>\n",
       "      <th>9</th>\n",
       "      <th>...</th>\n",
       "      <th>65419</th>\n",
       "      <th>65420</th>\n",
       "      <th>65421</th>\n",
       "      <th>65422</th>\n",
       "      <th>65423</th>\n",
       "      <th>65424</th>\n",
       "      <th>65425</th>\n",
       "      <th>65426</th>\n",
       "      <th>65427</th>\n",
       "      <th>65428</th>\n",
       "    </tr>\n",
       "  </thead>\n",
       "  <tbody>\n",
       "    <tr>\n",
       "      <th>0</th>\n",
       "      <td>124</td>\n",
       "      <td>0</td>\n",
       "      <td>0</td>\n",
       "      <td>0</td>\n",
       "      <td>108</td>\n",
       "      <td>0</td>\n",
       "      <td>0</td>\n",
       "      <td>0</td>\n",
       "      <td>0</td>\n",
       "      <td>0</td>\n",
       "      <td>...</td>\n",
       "      <td>82</td>\n",
       "      <td>81</td>\n",
       "      <td>86</td>\n",
       "      <td>133</td>\n",
       "      <td>597</td>\n",
       "      <td>808</td>\n",
       "      <td>458</td>\n",
       "      <td>435</td>\n",
       "      <td>766</td>\n",
       "      <td>525</td>\n",
       "    </tr>\n",
       "    <tr>\n",
       "      <th>1</th>\n",
       "      <td>77</td>\n",
       "      <td>0</td>\n",
       "      <td>0</td>\n",
       "      <td>0</td>\n",
       "      <td>56</td>\n",
       "      <td>0</td>\n",
       "      <td>0</td>\n",
       "      <td>0</td>\n",
       "      <td>0</td>\n",
       "      <td>0</td>\n",
       "      <td>...</td>\n",
       "      <td>7</td>\n",
       "      <td>6</td>\n",
       "      <td>5</td>\n",
       "      <td>4</td>\n",
       "      <td>3</td>\n",
       "      <td>11</td>\n",
       "      <td>6</td>\n",
       "      <td>7</td>\n",
       "      <td>14</td>\n",
       "      <td>8</td>\n",
       "    </tr>\n",
       "    <tr>\n",
       "      <th>2</th>\n",
       "      <td>10743</td>\n",
       "      <td>189</td>\n",
       "      <td>1518</td>\n",
       "      <td>1873</td>\n",
       "      <td>26007</td>\n",
       "      <td>835</td>\n",
       "      <td>1077</td>\n",
       "      <td>12724</td>\n",
       "      <td>545</td>\n",
       "      <td>1100</td>\n",
       "      <td>...</td>\n",
       "      <td>234</td>\n",
       "      <td>8514</td>\n",
       "      <td>320</td>\n",
       "      <td>13332</td>\n",
       "      <td>41</td>\n",
       "      <td>42</td>\n",
       "      <td>45</td>\n",
       "      <td>30</td>\n",
       "      <td>73</td>\n",
       "      <td>25</td>\n",
       "    </tr>\n",
       "    <tr>\n",
       "      <th>3</th>\n",
       "      <td>28</td>\n",
       "      <td>6</td>\n",
       "      <td>0</td>\n",
       "      <td>0</td>\n",
       "      <td>20</td>\n",
       "      <td>0</td>\n",
       "      <td>0</td>\n",
       "      <td>0</td>\n",
       "      <td>0</td>\n",
       "      <td>0</td>\n",
       "      <td>...</td>\n",
       "      <td>13</td>\n",
       "      <td>12</td>\n",
       "      <td>24</td>\n",
       "      <td>15</td>\n",
       "      <td>10</td>\n",
       "      <td>10</td>\n",
       "      <td>5</td>\n",
       "      <td>7</td>\n",
       "      <td>15</td>\n",
       "      <td>9</td>\n",
       "    </tr>\n",
       "    <tr>\n",
       "      <th>4</th>\n",
       "      <td>119</td>\n",
       "      <td>0</td>\n",
       "      <td>0</td>\n",
       "      <td>0</td>\n",
       "      <td>69</td>\n",
       "      <td>0</td>\n",
       "      <td>0</td>\n",
       "      <td>0</td>\n",
       "      <td>0</td>\n",
       "      <td>0</td>\n",
       "      <td>...</td>\n",
       "      <td>13</td>\n",
       "      <td>15</td>\n",
       "      <td>23</td>\n",
       "      <td>14</td>\n",
       "      <td>2</td>\n",
       "      <td>1</td>\n",
       "      <td>1</td>\n",
       "      <td>0</td>\n",
       "      <td>0</td>\n",
       "      <td>1</td>\n",
       "    </tr>\n",
       "  </tbody>\n",
       "</table>\n",
       "<p>5 rows × 65429 columns</p>\n",
       "</div>"
      ],
      "text/plain": [
       "   0      1      2      3      4      5      6      7      8      9      \\\n",
       "0    124      0      0      0    108      0      0      0      0      0   \n",
       "1     77      0      0      0     56      0      0      0      0      0   \n",
       "2  10743    189   1518   1873  26007    835   1077  12724    545   1100   \n",
       "3     28      6      0      0     20      0      0      0      0      0   \n",
       "4    119      0      0      0     69      0      0      0      0      0   \n",
       "\n",
       "   ...    65419  65420  65421  65422  65423  65424  65425  65426  65427  65428  \n",
       "0  ...       82     81     86    133    597    808    458    435    766    525  \n",
       "1  ...        7      6      5      4      3     11      6      7     14      8  \n",
       "2  ...      234   8514    320  13332     41     42     45     30     73     25  \n",
       "3  ...       13     12     24     15     10     10      5      7     15      9  \n",
       "4  ...       13     15     23     14      2      1      1      0      0      1  \n",
       "\n",
       "[5 rows x 65429 columns]"
      ]
     },
     "execution_count": 6,
     "metadata": {},
     "output_type": "execute_result"
    }
   ],
   "source": [
    "matrix.head()"
   ]
  },
  {
   "cell_type": "code",
   "execution_count": 7,
   "metadata": {},
   "outputs": [
    {
     "data": {
      "text/plain": [
       "(35238, 65429)"
      ]
     },
     "execution_count": 7,
     "metadata": {},
     "output_type": "execute_result"
    }
   ],
   "source": [
    "matrix.shape"
   ]
  },
  {
   "cell_type": "markdown",
   "metadata": {},
   "source": [
    "# Load Sample Meta Data"
   ]
  },
  {
   "cell_type": "code",
   "execution_count": 8,
   "metadata": {
    "collapsed": true
   },
   "outputs": [],
   "source": [
    "sample_meta = f['meta/Sample_source_name_ch1'][:].tolist()"
   ]
  },
  {
   "cell_type": "code",
   "execution_count": 9,
   "metadata": {
    "collapsed": true
   },
   "outputs": [],
   "source": [
    "lst = []\n",
    "for sample in sample_meta:\n",
    "    lst.append(sample.decode(\"utf-8\"))\n",
    "\n",
    "sample_meta = lst"
   ]
  },
  {
   "cell_type": "code",
   "execution_count": 10,
   "metadata": {},
   "outputs": [
    {
     "data": {
      "text/plain": [
       "['HeLa ELAVL1/HuR siRNA1 5d',\n",
       " 'brain',\n",
       " 'heart',\n",
       " 'lymph node',\n",
       " 'HeLa mock knockdown 5d',\n",
       " 'ovary',\n",
       " 'kidney',\n",
       " 'liver',\n",
       " 'thyroid',\n",
       " 'breast']"
      ]
     },
     "execution_count": 10,
     "metadata": {},
     "output_type": "execute_result"
    }
   ],
   "source": [
    "sample_meta[0:10]"
   ]
  },
  {
   "cell_type": "markdown",
   "metadata": {},
   "source": [
    "# Get index of Tissue Data"
   ]
  },
  {
   "cell_type": "code",
   "execution_count": 11,
   "metadata": {
    "collapsed": true
   },
   "outputs": [],
   "source": [
    "tissues = pd.read_excel('/Users/moshesilverstein/Documents/Harmonizome/ARCHS4/Input/Human/Tissue/tissues_expanded.xlsx')"
   ]
  },
  {
   "cell_type": "code",
   "execution_count": 12,
   "metadata": {},
   "outputs": [
    {
     "data": {
      "text/html": [
       "<div>\n",
       "<table border=\"1\" class=\"dataframe\">\n",
       "  <thead>\n",
       "    <tr style=\"text-align: right;\">\n",
       "      <th></th>\n",
       "      <th>cell_type</th>\n",
       "      <th>synonyms</th>\n",
       "      <th>not</th>\n",
       "      <th>exact</th>\n",
       "    </tr>\n",
       "  </thead>\n",
       "  <tbody>\n",
       "    <tr>\n",
       "      <th>0</th>\n",
       "      <td>CARDIAC MUSCLE FIBER</td>\n",
       "      <td>CARDIOMYOCYTE|CARDIAC MUSCLE CELL|CARDIAC MYOCYTE</td>\n",
       "      <td>NaN</td>\n",
       "      <td>NaN</td>\n",
       "    </tr>\n",
       "    <tr>\n",
       "      <th>1</th>\n",
       "      <td>PERICARDIUM</td>\n",
       "      <td>PERICARDIAL SAC</td>\n",
       "      <td>NaN</td>\n",
       "      <td>NaN</td>\n",
       "    </tr>\n",
       "    <tr>\n",
       "      <th>2</th>\n",
       "      <td>VENTRICLE</td>\n",
       "      <td>NaN</td>\n",
       "      <td>NaN</td>\n",
       "      <td>NaN</td>\n",
       "    </tr>\n",
       "    <tr>\n",
       "      <th>3</th>\n",
       "      <td>ATRIUM</td>\n",
       "      <td>ATRIAL TISSUE|CARDIAC ATRIUM</td>\n",
       "      <td>NaN</td>\n",
       "      <td>NaN</td>\n",
       "    </tr>\n",
       "    <tr>\n",
       "      <th>4</th>\n",
       "      <td>VALVE</td>\n",
       "      <td>NaN</td>\n",
       "      <td>NaN</td>\n",
       "      <td>NaN</td>\n",
       "    </tr>\n",
       "  </tbody>\n",
       "</table>\n",
       "</div>"
      ],
      "text/plain": [
       "              cell_type                                           synonyms  \\\n",
       "0  CARDIAC MUSCLE FIBER  CARDIOMYOCYTE|CARDIAC MUSCLE CELL|CARDIAC MYOCYTE   \n",
       "1           PERICARDIUM                                    PERICARDIAL SAC   \n",
       "2             VENTRICLE                                                NaN   \n",
       "3                ATRIUM                       ATRIAL TISSUE|CARDIAC ATRIUM   \n",
       "4                 VALVE                                                NaN   \n",
       "\n",
       "   not exact  \n",
       "0  NaN   NaN  \n",
       "1  NaN   NaN  \n",
       "2  NaN   NaN  \n",
       "3  NaN   NaN  \n",
       "4  NaN   NaN  "
      ]
     },
     "execution_count": 12,
     "metadata": {},
     "output_type": "execute_result"
    }
   ],
   "source": [
    "tissues.head()"
   ]
  },
  {
   "cell_type": "code",
   "execution_count": 13,
   "metadata": {},
   "outputs": [
    {
     "data": {
      "text/plain": [
       "(112, 4)"
      ]
     },
     "execution_count": 13,
     "metadata": {},
     "output_type": "execute_result"
    }
   ],
   "source": [
    "tissues.shape"
   ]
  },
  {
   "cell_type": "markdown",
   "metadata": {},
   "source": [
    "# Map Sample Meta Data to Samples"
   ]
  },
  {
   "cell_type": "code",
   "execution_count": 14,
   "metadata": {
    "collapsed": true
   },
   "outputs": [],
   "source": [
    "matrix.columns = sample_meta"
   ]
  },
  {
   "cell_type": "code",
   "execution_count": 15,
   "metadata": {},
   "outputs": [
    {
     "data": {
      "text/html": [
       "<div>\n",
       "<table border=\"1\" class=\"dataframe\">\n",
       "  <thead>\n",
       "    <tr style=\"text-align: right;\">\n",
       "      <th></th>\n",
       "      <th>HeLa ELAVL1/HuR siRNA1 5d</th>\n",
       "      <th>brain</th>\n",
       "      <th>heart</th>\n",
       "      <th>lymph node</th>\n",
       "      <th>HeLa mock knockdown 5d</th>\n",
       "      <th>ovary</th>\n",
       "      <th>kidney</th>\n",
       "      <th>liver</th>\n",
       "      <th>thyroid</th>\n",
       "      <th>breast</th>\n",
       "      <th>...</th>\n",
       "      <th>astrocytes</th>\n",
       "      <th>astrocytes</th>\n",
       "      <th>astrocytes</th>\n",
       "      <th>astrocytes</th>\n",
       "      <th>Human embryonic stem cells (VUB01), MSC DM1</th>\n",
       "      <th>Human embryonic stem cells (VUB01), MSC DM1, Digoxin</th>\n",
       "      <th>Human embryonic stem cells (VUB01), MSC DM1</th>\n",
       "      <th>Human embryonic stem cells (VUB01), MSC DM1, Digoxin</th>\n",
       "      <th>Human embryonic stem cells (VUB01), MSC DM1</th>\n",
       "      <th>Human embryonic stem cells (VUB01), MSC DM1, Digoxin</th>\n",
       "    </tr>\n",
       "  </thead>\n",
       "  <tbody>\n",
       "    <tr>\n",
       "      <th>0</th>\n",
       "      <td>124</td>\n",
       "      <td>0</td>\n",
       "      <td>0</td>\n",
       "      <td>0</td>\n",
       "      <td>108</td>\n",
       "      <td>0</td>\n",
       "      <td>0</td>\n",
       "      <td>0</td>\n",
       "      <td>0</td>\n",
       "      <td>0</td>\n",
       "      <td>...</td>\n",
       "      <td>82</td>\n",
       "      <td>81</td>\n",
       "      <td>86</td>\n",
       "      <td>133</td>\n",
       "      <td>597</td>\n",
       "      <td>808</td>\n",
       "      <td>458</td>\n",
       "      <td>435</td>\n",
       "      <td>766</td>\n",
       "      <td>525</td>\n",
       "    </tr>\n",
       "    <tr>\n",
       "      <th>1</th>\n",
       "      <td>77</td>\n",
       "      <td>0</td>\n",
       "      <td>0</td>\n",
       "      <td>0</td>\n",
       "      <td>56</td>\n",
       "      <td>0</td>\n",
       "      <td>0</td>\n",
       "      <td>0</td>\n",
       "      <td>0</td>\n",
       "      <td>0</td>\n",
       "      <td>...</td>\n",
       "      <td>7</td>\n",
       "      <td>6</td>\n",
       "      <td>5</td>\n",
       "      <td>4</td>\n",
       "      <td>3</td>\n",
       "      <td>11</td>\n",
       "      <td>6</td>\n",
       "      <td>7</td>\n",
       "      <td>14</td>\n",
       "      <td>8</td>\n",
       "    </tr>\n",
       "    <tr>\n",
       "      <th>2</th>\n",
       "      <td>10743</td>\n",
       "      <td>189</td>\n",
       "      <td>1518</td>\n",
       "      <td>1873</td>\n",
       "      <td>26007</td>\n",
       "      <td>835</td>\n",
       "      <td>1077</td>\n",
       "      <td>12724</td>\n",
       "      <td>545</td>\n",
       "      <td>1100</td>\n",
       "      <td>...</td>\n",
       "      <td>234</td>\n",
       "      <td>8514</td>\n",
       "      <td>320</td>\n",
       "      <td>13332</td>\n",
       "      <td>41</td>\n",
       "      <td>42</td>\n",
       "      <td>45</td>\n",
       "      <td>30</td>\n",
       "      <td>73</td>\n",
       "      <td>25</td>\n",
       "    </tr>\n",
       "    <tr>\n",
       "      <th>3</th>\n",
       "      <td>28</td>\n",
       "      <td>6</td>\n",
       "      <td>0</td>\n",
       "      <td>0</td>\n",
       "      <td>20</td>\n",
       "      <td>0</td>\n",
       "      <td>0</td>\n",
       "      <td>0</td>\n",
       "      <td>0</td>\n",
       "      <td>0</td>\n",
       "      <td>...</td>\n",
       "      <td>13</td>\n",
       "      <td>12</td>\n",
       "      <td>24</td>\n",
       "      <td>15</td>\n",
       "      <td>10</td>\n",
       "      <td>10</td>\n",
       "      <td>5</td>\n",
       "      <td>7</td>\n",
       "      <td>15</td>\n",
       "      <td>9</td>\n",
       "    </tr>\n",
       "    <tr>\n",
       "      <th>4</th>\n",
       "      <td>119</td>\n",
       "      <td>0</td>\n",
       "      <td>0</td>\n",
       "      <td>0</td>\n",
       "      <td>69</td>\n",
       "      <td>0</td>\n",
       "      <td>0</td>\n",
       "      <td>0</td>\n",
       "      <td>0</td>\n",
       "      <td>0</td>\n",
       "      <td>...</td>\n",
       "      <td>13</td>\n",
       "      <td>15</td>\n",
       "      <td>23</td>\n",
       "      <td>14</td>\n",
       "      <td>2</td>\n",
       "      <td>1</td>\n",
       "      <td>1</td>\n",
       "      <td>0</td>\n",
       "      <td>0</td>\n",
       "      <td>1</td>\n",
       "    </tr>\n",
       "  </tbody>\n",
       "</table>\n",
       "<p>5 rows × 65429 columns</p>\n",
       "</div>"
      ],
      "text/plain": [
       "   HeLa ELAVL1/HuR siRNA1 5d  brain  heart  lymph node  \\\n",
       "0                        124      0      0           0   \n",
       "1                         77      0      0           0   \n",
       "2                      10743    189   1518        1873   \n",
       "3                         28      6      0           0   \n",
       "4                        119      0      0           0   \n",
       "\n",
       "   HeLa mock knockdown 5d  ovary  kidney  liver  thyroid  breast  \\\n",
       "0                     108      0       0      0        0       0   \n",
       "1                      56      0       0      0        0       0   \n",
       "2                   26007    835    1077  12724      545    1100   \n",
       "3                      20      0       0      0        0       0   \n",
       "4                      69      0       0      0        0       0   \n",
       "\n",
       "                           ...                           astrocytes  \\\n",
       "0                          ...                                   82   \n",
       "1                          ...                                    7   \n",
       "2                          ...                                  234   \n",
       "3                          ...                                   13   \n",
       "4                          ...                                   13   \n",
       "\n",
       "   astrocytes  astrocytes  astrocytes  \\\n",
       "0          81          86         133   \n",
       "1           6           5           4   \n",
       "2        8514         320       13332   \n",
       "3          12          24          15   \n",
       "4          15          23          14   \n",
       "\n",
       "   Human embryonic stem cells (VUB01), MSC DM1  \\\n",
       "0                                          597   \n",
       "1                                            3   \n",
       "2                                           41   \n",
       "3                                           10   \n",
       "4                                            2   \n",
       "\n",
       "   Human embryonic stem cells (VUB01), MSC DM1, Digoxin  \\\n",
       "0                                                808      \n",
       "1                                                 11      \n",
       "2                                                 42      \n",
       "3                                                 10      \n",
       "4                                                  1      \n",
       "\n",
       "   Human embryonic stem cells (VUB01), MSC DM1  \\\n",
       "0                                          458   \n",
       "1                                            6   \n",
       "2                                           45   \n",
       "3                                            5   \n",
       "4                                            1   \n",
       "\n",
       "   Human embryonic stem cells (VUB01), MSC DM1, Digoxin  \\\n",
       "0                                                435      \n",
       "1                                                  7      \n",
       "2                                                 30      \n",
       "3                                                  7      \n",
       "4                                                  0      \n",
       "\n",
       "   Human embryonic stem cells (VUB01), MSC DM1  \\\n",
       "0                                          766   \n",
       "1                                           14   \n",
       "2                                           73   \n",
       "3                                           15   \n",
       "4                                            0   \n",
       "\n",
       "   Human embryonic stem cells (VUB01), MSC DM1, Digoxin  \n",
       "0                                                525     \n",
       "1                                                  8     \n",
       "2                                                 25     \n",
       "3                                                  9     \n",
       "4                                                  1     \n",
       "\n",
       "[5 rows x 65429 columns]"
      ]
     },
     "execution_count": 15,
     "metadata": {},
     "output_type": "execute_result"
    }
   ],
   "source": [
    "matrix.head()"
   ]
  },
  {
   "cell_type": "code",
   "execution_count": 16,
   "metadata": {},
   "outputs": [
    {
     "name": "stdout",
     "output_type": "stream",
     "text": [
      "Progress: 100%  65429 Out of 65429   \r"
     ]
    }
   ],
   "source": [
    "tissue_loc_list = []\n",
    "tissue_list = []\n",
    "\n",
    "\n",
    "for i,sample in enumerate(matrix.columns):\n",
    "    \n",
    "    progressPercent = ((i+1)/len(matrix.columns))*100\n",
    "\n",
    "    sys.stdout.write(\"Progress: %d%%  %d Out of %d   \\r\" % (progressPercent, (i+1), len(matrix.columns)))\n",
    "    sys.stdout.flush()\n",
    "    \n",
    "    \n",
    "    \n",
    "    for index in tissues.index:\n",
    "        \n",
    "        if type(tissues.ix[index,'exact']) != float and sample.lower() == tissues.ix[index,'exact'].lower():\n",
    "                tissue_loc_list.append(i)\n",
    "                tissue_list.append(tissues.ix[index,'cell_type'])\n",
    "        \n",
    "        elif re.search(tissues.ix[index,'cell_type'].lower(), sample.lower()):\n",
    "            if type(tissues.ix[index,'not']) != float:\n",
    "                excludes = tissues.ix[index,'not'].split('|')\n",
    "                for bad_term in excludes:\n",
    "                    if re.search(bad_term.lower(), sample.lower()):\n",
    "                        break\n",
    "                    elif bad_term == excludes[-1]:\n",
    "                        tissue_loc_list.append(i)\n",
    "                        tissue_list.append(tissues.ix[index,'cell_type'])\n",
    "            else:\n",
    "                tissue_loc_list.append(i)\n",
    "                tissue_list.append(tissues.ix[index,'cell_type'])\n",
    "\n",
    "        else:\n",
    "            if type(tissues.ix[index,'synonyms']) != float:\n",
    "                for synonym in tissues.ix[index,'synonyms'].split('|'):\n",
    "                    if re.search(synonym.lower(), sample.lower()):\n",
    "                        if type(tissues.ix[index,'not']) != float:\n",
    "                            excludes = tissues.ix[index,'not'].split('|')\n",
    "                            for bad_term in excludes:\n",
    "                                if re.search(bad_term.lower(), sample.lower()):\n",
    "                                    break\n",
    "                                elif bad_term == excludes[-1]:\n",
    "                                    tissue_loc_list.append(i)\n",
    "                                    tissue_list.append(tissues.ix[index,'cell_type'])\n",
    "                        else:\n",
    "                            tissue_loc_list.append(i)\n",
    "                            tissue_list.append(tissues.ix[index,'cell_type'])"
   ]
  },
  {
   "cell_type": "code",
   "execution_count": 17,
   "metadata": {
    "collapsed": true
   },
   "outputs": [],
   "source": [
    "matrix= matrix[tissue_loc_list]"
   ]
  },
  {
   "cell_type": "code",
   "execution_count": 18,
   "metadata": {
    "collapsed": true
   },
   "outputs": [],
   "source": [
    "matrix.columns = tissue_list"
   ]
  },
  {
   "cell_type": "code",
   "execution_count": 19,
   "metadata": {},
   "outputs": [
    {
     "data": {
      "text/html": [
       "<div>\n",
       "<table border=\"1\" class=\"dataframe\">\n",
       "  <thead>\n",
       "    <tr style=\"text-align: right;\">\n",
       "      <th></th>\n",
       "      <th>BRAIN (BULK)</th>\n",
       "      <th>HEART (BULK TISSUE)</th>\n",
       "      <th>OVARY (BULK TISSUE)</th>\n",
       "      <th>KIDNEY (BULK TISSUE)</th>\n",
       "      <th>LIVER (BULK TISSUE)</th>\n",
       "      <th>THYROID (BULK TISSUE)</th>\n",
       "      <th>SKELETAL MUSCLE (BULK TISSUE)</th>\n",
       "      <th>ADRENAL GLAND</th>\n",
       "      <th>LUNG (BULK TISSUE)</th>\n",
       "      <th>BLASTOCYST</th>\n",
       "      <th>...</th>\n",
       "      <th>ASTROCYTE</th>\n",
       "      <th>ASTROCYTE</th>\n",
       "      <th>ASTROCYTE</th>\n",
       "      <th>ASTROCYTE</th>\n",
       "      <th>HUMAN EMBRYO</th>\n",
       "      <th>HUMAN EMBRYO</th>\n",
       "      <th>HUMAN EMBRYO</th>\n",
       "      <th>HUMAN EMBRYO</th>\n",
       "      <th>HUMAN EMBRYO</th>\n",
       "      <th>HUMAN EMBRYO</th>\n",
       "    </tr>\n",
       "  </thead>\n",
       "  <tbody>\n",
       "    <tr>\n",
       "      <th>0</th>\n",
       "      <td>0</td>\n",
       "      <td>0</td>\n",
       "      <td>0</td>\n",
       "      <td>0</td>\n",
       "      <td>0</td>\n",
       "      <td>0</td>\n",
       "      <td>0</td>\n",
       "      <td>0</td>\n",
       "      <td>0</td>\n",
       "      <td>16</td>\n",
       "      <td>...</td>\n",
       "      <td>82</td>\n",
       "      <td>81</td>\n",
       "      <td>86</td>\n",
       "      <td>133</td>\n",
       "      <td>597</td>\n",
       "      <td>808</td>\n",
       "      <td>458</td>\n",
       "      <td>435</td>\n",
       "      <td>766</td>\n",
       "      <td>525</td>\n",
       "    </tr>\n",
       "    <tr>\n",
       "      <th>1</th>\n",
       "      <td>0</td>\n",
       "      <td>0</td>\n",
       "      <td>0</td>\n",
       "      <td>0</td>\n",
       "      <td>0</td>\n",
       "      <td>0</td>\n",
       "      <td>0</td>\n",
       "      <td>0</td>\n",
       "      <td>0</td>\n",
       "      <td>1</td>\n",
       "      <td>...</td>\n",
       "      <td>7</td>\n",
       "      <td>6</td>\n",
       "      <td>5</td>\n",
       "      <td>4</td>\n",
       "      <td>3</td>\n",
       "      <td>11</td>\n",
       "      <td>6</td>\n",
       "      <td>7</td>\n",
       "      <td>14</td>\n",
       "      <td>8</td>\n",
       "    </tr>\n",
       "    <tr>\n",
       "      <th>2</th>\n",
       "      <td>189</td>\n",
       "      <td>1518</td>\n",
       "      <td>835</td>\n",
       "      <td>1077</td>\n",
       "      <td>12724</td>\n",
       "      <td>545</td>\n",
       "      <td>361</td>\n",
       "      <td>1629</td>\n",
       "      <td>8451</td>\n",
       "      <td>0</td>\n",
       "      <td>...</td>\n",
       "      <td>234</td>\n",
       "      <td>8514</td>\n",
       "      <td>320</td>\n",
       "      <td>13332</td>\n",
       "      <td>41</td>\n",
       "      <td>42</td>\n",
       "      <td>45</td>\n",
       "      <td>30</td>\n",
       "      <td>73</td>\n",
       "      <td>25</td>\n",
       "    </tr>\n",
       "    <tr>\n",
       "      <th>3</th>\n",
       "      <td>6</td>\n",
       "      <td>0</td>\n",
       "      <td>0</td>\n",
       "      <td>0</td>\n",
       "      <td>0</td>\n",
       "      <td>0</td>\n",
       "      <td>0</td>\n",
       "      <td>0</td>\n",
       "      <td>0</td>\n",
       "      <td>10</td>\n",
       "      <td>...</td>\n",
       "      <td>13</td>\n",
       "      <td>12</td>\n",
       "      <td>24</td>\n",
       "      <td>15</td>\n",
       "      <td>10</td>\n",
       "      <td>10</td>\n",
       "      <td>5</td>\n",
       "      <td>7</td>\n",
       "      <td>15</td>\n",
       "      <td>9</td>\n",
       "    </tr>\n",
       "    <tr>\n",
       "      <th>4</th>\n",
       "      <td>0</td>\n",
       "      <td>0</td>\n",
       "      <td>0</td>\n",
       "      <td>0</td>\n",
       "      <td>0</td>\n",
       "      <td>0</td>\n",
       "      <td>0</td>\n",
       "      <td>0</td>\n",
       "      <td>0</td>\n",
       "      <td>0</td>\n",
       "      <td>...</td>\n",
       "      <td>13</td>\n",
       "      <td>15</td>\n",
       "      <td>23</td>\n",
       "      <td>14</td>\n",
       "      <td>2</td>\n",
       "      <td>1</td>\n",
       "      <td>1</td>\n",
       "      <td>0</td>\n",
       "      <td>0</td>\n",
       "      <td>1</td>\n",
       "    </tr>\n",
       "  </tbody>\n",
       "</table>\n",
       "<p>5 rows × 26746 columns</p>\n",
       "</div>"
      ],
      "text/plain": [
       "   BRAIN (BULK)  HEART (BULK TISSUE)  OVARY (BULK TISSUE)  \\\n",
       "0             0                    0                    0   \n",
       "1             0                    0                    0   \n",
       "2           189                 1518                  835   \n",
       "3             6                    0                    0   \n",
       "4             0                    0                    0   \n",
       "\n",
       "   KIDNEY (BULK TISSUE)  LIVER (BULK TISSUE)  THYROID (BULK TISSUE)  \\\n",
       "0                     0                    0                      0   \n",
       "1                     0                    0                      0   \n",
       "2                  1077                12724                    545   \n",
       "3                     0                    0                      0   \n",
       "4                     0                    0                      0   \n",
       "\n",
       "   SKELETAL MUSCLE (BULK TISSUE)  ADRENAL GLAND  LUNG (BULK TISSUE)  \\\n",
       "0                              0              0                   0   \n",
       "1                              0              0                   0   \n",
       "2                            361           1629                8451   \n",
       "3                              0              0                   0   \n",
       "4                              0              0                   0   \n",
       "\n",
       "   BLASTOCYST      ...       ASTROCYTE  ASTROCYTE  ASTROCYTE  ASTROCYTE  \\\n",
       "0          16      ...              82         81         86        133   \n",
       "1           1      ...               7          6          5          4   \n",
       "2           0      ...             234       8514        320      13332   \n",
       "3          10      ...              13         12         24         15   \n",
       "4           0      ...              13         15         23         14   \n",
       "\n",
       "   HUMAN EMBRYO  HUMAN EMBRYO  HUMAN EMBRYO  HUMAN EMBRYO  HUMAN EMBRYO  \\\n",
       "0           597           808           458           435           766   \n",
       "1             3            11             6             7            14   \n",
       "2            41            42            45            30            73   \n",
       "3            10            10             5             7            15   \n",
       "4             2             1             1             0             0   \n",
       "\n",
       "   HUMAN EMBRYO  \n",
       "0           525  \n",
       "1             8  \n",
       "2            25  \n",
       "3             9  \n",
       "4             1  \n",
       "\n",
       "[5 rows x 26746 columns]"
      ]
     },
     "execution_count": 19,
     "metadata": {},
     "output_type": "execute_result"
    }
   ],
   "source": [
    "matrix.head()"
   ]
  },
  {
   "cell_type": "code",
   "execution_count": 20,
   "metadata": {},
   "outputs": [
    {
     "data": {
      "text/plain": [
       "(35238, 26746)"
      ]
     },
     "execution_count": 20,
     "metadata": {},
     "output_type": "execute_result"
    }
   ],
   "source": [
    "matrix.shape"
   ]
  },
  {
   "cell_type": "markdown",
   "metadata": {},
   "source": [
    "# Get Gene Symbols"
   ]
  },
  {
   "cell_type": "code",
   "execution_count": 21,
   "metadata": {
    "collapsed": true
   },
   "outputs": [],
   "source": [
    "gene_list = f['meta/genes'][:].tolist() "
   ]
  },
  {
   "cell_type": "code",
   "execution_count": 22,
   "metadata": {
    "collapsed": true
   },
   "outputs": [],
   "source": [
    "lst = []\n",
    "for gene in gene_list:\n",
    "    lst.append(gene.decode(\"utf-8\"))\n",
    "\n",
    "gene_list = lst"
   ]
  },
  {
   "cell_type": "code",
   "execution_count": 23,
   "metadata": {},
   "outputs": [
    {
     "data": {
      "text/plain": [
       "['A1BG',\n",
       " 'A1CF',\n",
       " 'A2M',\n",
       " 'A2ML1',\n",
       " 'A2MP1',\n",
       " 'A3GALT2',\n",
       " 'A4GALT',\n",
       " 'A4GNT',\n",
       " 'AAAS',\n",
       " 'AACS']"
      ]
     },
     "execution_count": 23,
     "metadata": {},
     "output_type": "execute_result"
    }
   ],
   "source": [
    "gene_list[0:10]"
   ]
  },
  {
   "cell_type": "markdown",
   "metadata": {},
   "source": [
    "# Map Gene Symbols to ID's"
   ]
  },
  {
   "cell_type": "code",
   "execution_count": 24,
   "metadata": {
    "collapsed": true
   },
   "outputs": [],
   "source": [
    "matrix.index = gene_list"
   ]
  },
  {
   "cell_type": "code",
   "execution_count": 25,
   "metadata": {},
   "outputs": [
    {
     "data": {
      "text/html": [
       "<div>\n",
       "<table border=\"1\" class=\"dataframe\">\n",
       "  <thead>\n",
       "    <tr style=\"text-align: right;\">\n",
       "      <th></th>\n",
       "      <th>BRAIN (BULK)</th>\n",
       "      <th>HEART (BULK TISSUE)</th>\n",
       "      <th>OVARY (BULK TISSUE)</th>\n",
       "      <th>KIDNEY (BULK TISSUE)</th>\n",
       "      <th>LIVER (BULK TISSUE)</th>\n",
       "      <th>THYROID (BULK TISSUE)</th>\n",
       "      <th>SKELETAL MUSCLE (BULK TISSUE)</th>\n",
       "      <th>ADRENAL GLAND</th>\n",
       "      <th>LUNG (BULK TISSUE)</th>\n",
       "      <th>BLASTOCYST</th>\n",
       "      <th>...</th>\n",
       "      <th>ASTROCYTE</th>\n",
       "      <th>ASTROCYTE</th>\n",
       "      <th>ASTROCYTE</th>\n",
       "      <th>ASTROCYTE</th>\n",
       "      <th>HUMAN EMBRYO</th>\n",
       "      <th>HUMAN EMBRYO</th>\n",
       "      <th>HUMAN EMBRYO</th>\n",
       "      <th>HUMAN EMBRYO</th>\n",
       "      <th>HUMAN EMBRYO</th>\n",
       "      <th>HUMAN EMBRYO</th>\n",
       "    </tr>\n",
       "  </thead>\n",
       "  <tbody>\n",
       "    <tr>\n",
       "      <th>A1BG</th>\n",
       "      <td>0</td>\n",
       "      <td>0</td>\n",
       "      <td>0</td>\n",
       "      <td>0</td>\n",
       "      <td>0</td>\n",
       "      <td>0</td>\n",
       "      <td>0</td>\n",
       "      <td>0</td>\n",
       "      <td>0</td>\n",
       "      <td>16</td>\n",
       "      <td>...</td>\n",
       "      <td>82</td>\n",
       "      <td>81</td>\n",
       "      <td>86</td>\n",
       "      <td>133</td>\n",
       "      <td>597</td>\n",
       "      <td>808</td>\n",
       "      <td>458</td>\n",
       "      <td>435</td>\n",
       "      <td>766</td>\n",
       "      <td>525</td>\n",
       "    </tr>\n",
       "    <tr>\n",
       "      <th>A1CF</th>\n",
       "      <td>0</td>\n",
       "      <td>0</td>\n",
       "      <td>0</td>\n",
       "      <td>0</td>\n",
       "      <td>0</td>\n",
       "      <td>0</td>\n",
       "      <td>0</td>\n",
       "      <td>0</td>\n",
       "      <td>0</td>\n",
       "      <td>1</td>\n",
       "      <td>...</td>\n",
       "      <td>7</td>\n",
       "      <td>6</td>\n",
       "      <td>5</td>\n",
       "      <td>4</td>\n",
       "      <td>3</td>\n",
       "      <td>11</td>\n",
       "      <td>6</td>\n",
       "      <td>7</td>\n",
       "      <td>14</td>\n",
       "      <td>8</td>\n",
       "    </tr>\n",
       "    <tr>\n",
       "      <th>A2M</th>\n",
       "      <td>189</td>\n",
       "      <td>1518</td>\n",
       "      <td>835</td>\n",
       "      <td>1077</td>\n",
       "      <td>12724</td>\n",
       "      <td>545</td>\n",
       "      <td>361</td>\n",
       "      <td>1629</td>\n",
       "      <td>8451</td>\n",
       "      <td>0</td>\n",
       "      <td>...</td>\n",
       "      <td>234</td>\n",
       "      <td>8514</td>\n",
       "      <td>320</td>\n",
       "      <td>13332</td>\n",
       "      <td>41</td>\n",
       "      <td>42</td>\n",
       "      <td>45</td>\n",
       "      <td>30</td>\n",
       "      <td>73</td>\n",
       "      <td>25</td>\n",
       "    </tr>\n",
       "    <tr>\n",
       "      <th>A2ML1</th>\n",
       "      <td>6</td>\n",
       "      <td>0</td>\n",
       "      <td>0</td>\n",
       "      <td>0</td>\n",
       "      <td>0</td>\n",
       "      <td>0</td>\n",
       "      <td>0</td>\n",
       "      <td>0</td>\n",
       "      <td>0</td>\n",
       "      <td>10</td>\n",
       "      <td>...</td>\n",
       "      <td>13</td>\n",
       "      <td>12</td>\n",
       "      <td>24</td>\n",
       "      <td>15</td>\n",
       "      <td>10</td>\n",
       "      <td>10</td>\n",
       "      <td>5</td>\n",
       "      <td>7</td>\n",
       "      <td>15</td>\n",
       "      <td>9</td>\n",
       "    </tr>\n",
       "    <tr>\n",
       "      <th>A2MP1</th>\n",
       "      <td>0</td>\n",
       "      <td>0</td>\n",
       "      <td>0</td>\n",
       "      <td>0</td>\n",
       "      <td>0</td>\n",
       "      <td>0</td>\n",
       "      <td>0</td>\n",
       "      <td>0</td>\n",
       "      <td>0</td>\n",
       "      <td>0</td>\n",
       "      <td>...</td>\n",
       "      <td>13</td>\n",
       "      <td>15</td>\n",
       "      <td>23</td>\n",
       "      <td>14</td>\n",
       "      <td>2</td>\n",
       "      <td>1</td>\n",
       "      <td>1</td>\n",
       "      <td>0</td>\n",
       "      <td>0</td>\n",
       "      <td>1</td>\n",
       "    </tr>\n",
       "  </tbody>\n",
       "</table>\n",
       "<p>5 rows × 26746 columns</p>\n",
       "</div>"
      ],
      "text/plain": [
       "       BRAIN (BULK)  HEART (BULK TISSUE)  OVARY (BULK TISSUE)  \\\n",
       "A1BG              0                    0                    0   \n",
       "A1CF              0                    0                    0   \n",
       "A2M             189                 1518                  835   \n",
       "A2ML1             6                    0                    0   \n",
       "A2MP1             0                    0                    0   \n",
       "\n",
       "       KIDNEY (BULK TISSUE)  LIVER (BULK TISSUE)  THYROID (BULK TISSUE)  \\\n",
       "A1BG                      0                    0                      0   \n",
       "A1CF                      0                    0                      0   \n",
       "A2M                    1077                12724                    545   \n",
       "A2ML1                     0                    0                      0   \n",
       "A2MP1                     0                    0                      0   \n",
       "\n",
       "       SKELETAL MUSCLE (BULK TISSUE)  ADRENAL GLAND  LUNG (BULK TISSUE)  \\\n",
       "A1BG                               0              0                   0   \n",
       "A1CF                               0              0                   0   \n",
       "A2M                              361           1629                8451   \n",
       "A2ML1                              0              0                   0   \n",
       "A2MP1                              0              0                   0   \n",
       "\n",
       "       BLASTOCYST      ...       ASTROCYTE  ASTROCYTE  ASTROCYTE  ASTROCYTE  \\\n",
       "A1BG           16      ...              82         81         86        133   \n",
       "A1CF            1      ...               7          6          5          4   \n",
       "A2M             0      ...             234       8514        320      13332   \n",
       "A2ML1          10      ...              13         12         24         15   \n",
       "A2MP1           0      ...              13         15         23         14   \n",
       "\n",
       "       HUMAN EMBRYO  HUMAN EMBRYO  HUMAN EMBRYO  HUMAN EMBRYO  HUMAN EMBRYO  \\\n",
       "A1BG            597           808           458           435           766   \n",
       "A1CF              3            11             6             7            14   \n",
       "A2M              41            42            45            30            73   \n",
       "A2ML1            10            10             5             7            15   \n",
       "A2MP1             2             1             1             0             0   \n",
       "\n",
       "       HUMAN EMBRYO  \n",
       "A1BG            525  \n",
       "A1CF              8  \n",
       "A2M              25  \n",
       "A2ML1             9  \n",
       "A2MP1             1  \n",
       "\n",
       "[5 rows x 26746 columns]"
      ]
     },
     "execution_count": 25,
     "metadata": {},
     "output_type": "execute_result"
    }
   ],
   "source": [
    "matrix.head()"
   ]
  },
  {
   "cell_type": "markdown",
   "metadata": {},
   "source": [
    "# Save Unfiltered Matrix To File"
   ]
  },
  {
   "cell_type": "code",
   "execution_count": 26,
   "metadata": {
    "collapsed": true
   },
   "outputs": [],
   "source": [
    "filename = '~/./Documents/Harmonizome/ARCHS4/Output/archs4_tissue_matrix_unfilltered_%s.tsv.zip'% str(datetime.date.today())[0:7].replace('-', '_')\n",
    "matrix.to_csv(filename, sep='\\t', compression='gzip')"
   ]
  },
  {
   "cell_type": "code",
   "execution_count": 27,
   "metadata": {
    "collapsed": true
   },
   "outputs": [],
   "source": [
    "normalized_matrix = matrix.copy()"
   ]
  },
  {
   "cell_type": "markdown",
   "metadata": {},
   "source": [
    "# Drop Any Genes That Have Zero Expression Across 95% Of The Samples"
   ]
  },
  {
   "cell_type": "code",
   "execution_count": 28,
   "metadata": {
    "collapsed": true
   },
   "outputs": [],
   "source": [
    "normalized_matrix.replace(0, np.nan, inplace=True)"
   ]
  },
  {
   "cell_type": "code",
   "execution_count": 29,
   "metadata": {
    "collapsed": true
   },
   "outputs": [],
   "source": [
    "normalized_matrix.dropna(thresh=(0.05*normalized_matrix.shape[1]), axis=0, inplace=True)"
   ]
  },
  {
   "cell_type": "code",
   "execution_count": 30,
   "metadata": {
    "collapsed": true
   },
   "outputs": [],
   "source": [
    "normalized_matrix.replace(np.nan, 0, inplace=True)"
   ]
  },
  {
   "cell_type": "code",
   "execution_count": 31,
   "metadata": {},
   "outputs": [
    {
     "data": {
      "text/plain": [
       "(28260, 26746)"
      ]
     },
     "execution_count": 31,
     "metadata": {},
     "output_type": "execute_result"
    }
   ],
   "source": [
    "normalized_matrix.shape"
   ]
  },
  {
   "cell_type": "markdown",
   "metadata": {},
   "source": [
    "# Normalize Matrix (Quantile Normalize the matrix for the columns)"
   ]
  },
  {
   "cell_type": "code",
   "execution_count": 32,
   "metadata": {
    "collapsed": true
   },
   "outputs": [],
   "source": [
    "normalized_matrix.columns = range(0, len(normalized_matrix.columns))"
   ]
  },
  {
   "cell_type": "code",
   "execution_count": 33,
   "metadata": {},
   "outputs": [
    {
     "name": "stdout",
     "output_type": "stream",
     "text": [
      "Step 2/2 progress: 100%  26746 Out of 26746   \r"
     ]
    }
   ],
   "source": [
    "normalized_matrix = mf.quantileNormalize(normalized_matrix)"
   ]
  },
  {
   "cell_type": "code",
   "execution_count": 34,
   "metadata": {},
   "outputs": [
    {
     "data": {
      "text/html": [
       "<div>\n",
       "<table border=\"1\" class=\"dataframe\">\n",
       "  <thead>\n",
       "    <tr style=\"text-align: right;\">\n",
       "      <th></th>\n",
       "      <th>0</th>\n",
       "      <th>1</th>\n",
       "      <th>2</th>\n",
       "      <th>3</th>\n",
       "      <th>4</th>\n",
       "      <th>5</th>\n",
       "      <th>6</th>\n",
       "      <th>7</th>\n",
       "      <th>8</th>\n",
       "      <th>9</th>\n",
       "      <th>...</th>\n",
       "      <th>26736</th>\n",
       "      <th>26737</th>\n",
       "      <th>26738</th>\n",
       "      <th>26739</th>\n",
       "      <th>26740</th>\n",
       "      <th>26741</th>\n",
       "      <th>26742</th>\n",
       "      <th>26743</th>\n",
       "      <th>26744</th>\n",
       "      <th>26745</th>\n",
       "    </tr>\n",
       "  </thead>\n",
       "  <tbody>\n",
       "    <tr>\n",
       "      <th>A1BG</th>\n",
       "      <td>0.000000</td>\n",
       "      <td>0.000000</td>\n",
       "      <td>0.000000</td>\n",
       "      <td>0.000000</td>\n",
       "      <td>0.000000</td>\n",
       "      <td>0.000000</td>\n",
       "      <td>0.000000</td>\n",
       "      <td>0.000000</td>\n",
       "      <td>0.000000</td>\n",
       "      <td>117.052083</td>\n",
       "      <td>...</td>\n",
       "      <td>71.465602</td>\n",
       "      <td>59.247140</td>\n",
       "      <td>46.393853</td>\n",
       "      <td>101.991588</td>\n",
       "      <td>81.434084</td>\n",
       "      <td>85.404584</td>\n",
       "      <td>67.727660</td>\n",
       "      <td>71.719771</td>\n",
       "      <td>72.508749</td>\n",
       "      <td>79.489120</td>\n",
       "    </tr>\n",
       "    <tr>\n",
       "      <th>A1CF</th>\n",
       "      <td>0.000000</td>\n",
       "      <td>0.000000</td>\n",
       "      <td>0.000000</td>\n",
       "      <td>0.000000</td>\n",
       "      <td>0.000000</td>\n",
       "      <td>0.000000</td>\n",
       "      <td>0.000000</td>\n",
       "      <td>0.000000</td>\n",
       "      <td>0.000000</td>\n",
       "      <td>5.604128</td>\n",
       "      <td>...</td>\n",
       "      <td>6.698310</td>\n",
       "      <td>5.727361</td>\n",
       "      <td>3.396022</td>\n",
       "      <td>3.723398</td>\n",
       "      <td>1.331564</td>\n",
       "      <td>4.119008</td>\n",
       "      <td>2.578404</td>\n",
       "      <td>3.752374</td>\n",
       "      <td>4.004449</td>\n",
       "      <td>4.345210</td>\n",
       "    </tr>\n",
       "    <tr>\n",
       "      <th>A2M</th>\n",
       "      <td>5486.442459</td>\n",
       "      <td>43119.354446</td>\n",
       "      <td>18806.324572</td>\n",
       "      <td>39943.373402</td>\n",
       "      <td>98073.484895</td>\n",
       "      <td>9706.046287</td>\n",
       "      <td>7124.903911</td>\n",
       "      <td>55117.475024</td>\n",
       "      <td>197372.303709</td>\n",
       "      <td>0.000000</td>\n",
       "      <td>...</td>\n",
       "      <td>269.571300</td>\n",
       "      <td>18563.166193</td>\n",
       "      <td>224.057280</td>\n",
       "      <td>27063.252412</td>\n",
       "      <td>14.092874</td>\n",
       "      <td>13.078367</td>\n",
       "      <td>14.694721</td>\n",
       "      <td>13.211022</td>\n",
       "      <td>15.633179</td>\n",
       "      <td>11.465228</td>\n",
       "    </tr>\n",
       "    <tr>\n",
       "      <th>A2ML1</th>\n",
       "      <td>604.570440</td>\n",
       "      <td>0.000000</td>\n",
       "      <td>0.000000</td>\n",
       "      <td>0.000000</td>\n",
       "      <td>0.000000</td>\n",
       "      <td>0.000000</td>\n",
       "      <td>0.000000</td>\n",
       "      <td>0.000000</td>\n",
       "      <td>0.000000</td>\n",
       "      <td>81.572011</td>\n",
       "      <td>...</td>\n",
       "      <td>11.645854</td>\n",
       "      <td>10.535744</td>\n",
       "      <td>14.005534</td>\n",
       "      <td>12.118971</td>\n",
       "      <td>4.408958</td>\n",
       "      <td>3.750654</td>\n",
       "      <td>2.164847</td>\n",
       "      <td>3.752374</td>\n",
       "      <td>4.249346</td>\n",
       "      <td>4.787931</td>\n",
       "    </tr>\n",
       "    <tr>\n",
       "      <th>A2MP1</th>\n",
       "      <td>0.000000</td>\n",
       "      <td>0.000000</td>\n",
       "      <td>0.000000</td>\n",
       "      <td>0.000000</td>\n",
       "      <td>0.000000</td>\n",
       "      <td>0.000000</td>\n",
       "      <td>0.000000</td>\n",
       "      <td>0.000000</td>\n",
       "      <td>0.000000</td>\n",
       "      <td>0.000000</td>\n",
       "      <td>...</td>\n",
       "      <td>11.645854</td>\n",
       "      <td>12.728296</td>\n",
       "      <td>13.463845</td>\n",
       "      <td>11.406491</td>\n",
       "      <td>0.839228</td>\n",
       "      <td>0.249121</td>\n",
       "      <td>0.294773</td>\n",
       "      <td>0.000000</td>\n",
       "      <td>0.000000</td>\n",
       "      <td>0.398265</td>\n",
       "    </tr>\n",
       "  </tbody>\n",
       "</table>\n",
       "<p>5 rows × 26746 columns</p>\n",
       "</div>"
      ],
      "text/plain": [
       "             0             1             2             3             4      \\\n",
       "A1BG      0.000000      0.000000      0.000000      0.000000      0.000000   \n",
       "A1CF      0.000000      0.000000      0.000000      0.000000      0.000000   \n",
       "A2M    5486.442459  43119.354446  18806.324572  39943.373402  98073.484895   \n",
       "A2ML1   604.570440      0.000000      0.000000      0.000000      0.000000   \n",
       "A2MP1     0.000000      0.000000      0.000000      0.000000      0.000000   \n",
       "\n",
       "             5            6             7              8           9      \\\n",
       "A1BG      0.000000     0.000000      0.000000       0.000000  117.052083   \n",
       "A1CF      0.000000     0.000000      0.000000       0.000000    5.604128   \n",
       "A2M    9706.046287  7124.903911  55117.475024  197372.303709    0.000000   \n",
       "A2ML1     0.000000     0.000000      0.000000       0.000000   81.572011   \n",
       "A2MP1     0.000000     0.000000      0.000000       0.000000    0.000000   \n",
       "\n",
       "         ...           26736         26737       26738         26739  \\\n",
       "A1BG     ...       71.465602     59.247140   46.393853    101.991588   \n",
       "A1CF     ...        6.698310      5.727361    3.396022      3.723398   \n",
       "A2M      ...      269.571300  18563.166193  224.057280  27063.252412   \n",
       "A2ML1    ...       11.645854     10.535744   14.005534     12.118971   \n",
       "A2MP1    ...       11.645854     12.728296   13.463845     11.406491   \n",
       "\n",
       "           26740      26741      26742      26743      26744      26745  \n",
       "A1BG   81.434084  85.404584  67.727660  71.719771  72.508749  79.489120  \n",
       "A1CF    1.331564   4.119008   2.578404   3.752374   4.004449   4.345210  \n",
       "A2M    14.092874  13.078367  14.694721  13.211022  15.633179  11.465228  \n",
       "A2ML1   4.408958   3.750654   2.164847   3.752374   4.249346   4.787931  \n",
       "A2MP1   0.839228   0.249121   0.294773   0.000000   0.000000   0.398265  \n",
       "\n",
       "[5 rows x 26746 columns]"
      ]
     },
     "execution_count": 34,
     "metadata": {},
     "output_type": "execute_result"
    }
   ],
   "source": [
    "normalized_matrix.head()"
   ]
  },
  {
   "cell_type": "markdown",
   "metadata": {},
   "source": [
    "# Nomalize Matrix (z-score the rows)"
   ]
  },
  {
   "cell_type": "code",
   "execution_count": 35,
   "metadata": {},
   "outputs": [
    {
     "name": "stdout",
     "output_type": "stream",
     "text": [
      "Progress: 100%  28260 Out of 28260   \r"
     ]
    }
   ],
   "source": [
    "mf.zscore(normalized_matrix, 'row')"
   ]
  },
  {
   "cell_type": "code",
   "execution_count": 36,
   "metadata": {},
   "outputs": [
    {
     "data": {
      "text/html": [
       "<div>\n",
       "<table border=\"1\" class=\"dataframe\">\n",
       "  <thead>\n",
       "    <tr style=\"text-align: right;\">\n",
       "      <th></th>\n",
       "      <th>0</th>\n",
       "      <th>1</th>\n",
       "      <th>2</th>\n",
       "      <th>3</th>\n",
       "      <th>4</th>\n",
       "      <th>5</th>\n",
       "      <th>6</th>\n",
       "      <th>7</th>\n",
       "      <th>8</th>\n",
       "      <th>9</th>\n",
       "      <th>...</th>\n",
       "      <th>26736</th>\n",
       "      <th>26737</th>\n",
       "      <th>26738</th>\n",
       "      <th>26739</th>\n",
       "      <th>26740</th>\n",
       "      <th>26741</th>\n",
       "      <th>26742</th>\n",
       "      <th>26743</th>\n",
       "      <th>26744</th>\n",
       "      <th>26745</th>\n",
       "    </tr>\n",
       "  </thead>\n",
       "  <tbody>\n",
       "    <tr>\n",
       "      <th>A1BG</th>\n",
       "      <td>-0.318826</td>\n",
       "      <td>-0.318826</td>\n",
       "      <td>-0.318826</td>\n",
       "      <td>-0.318826</td>\n",
       "      <td>-0.318826</td>\n",
       "      <td>-0.318826</td>\n",
       "      <td>-0.318826</td>\n",
       "      <td>-0.318826</td>\n",
       "      <td>-0.318826</td>\n",
       "      <td>-0.227924</td>\n",
       "      <td>...</td>\n",
       "      <td>-0.263326</td>\n",
       "      <td>-0.272815</td>\n",
       "      <td>-0.282797</td>\n",
       "      <td>-0.239620</td>\n",
       "      <td>-0.255585</td>\n",
       "      <td>-0.252501</td>\n",
       "      <td>-0.266229</td>\n",
       "      <td>-0.263129</td>\n",
       "      <td>-0.262516</td>\n",
       "      <td>-0.257095</td>\n",
       "    </tr>\n",
       "    <tr>\n",
       "      <th>A1CF</th>\n",
       "      <td>-0.215275</td>\n",
       "      <td>-0.215275</td>\n",
       "      <td>-0.215275</td>\n",
       "      <td>-0.215275</td>\n",
       "      <td>-0.215275</td>\n",
       "      <td>-0.215275</td>\n",
       "      <td>-0.215275</td>\n",
       "      <td>-0.215275</td>\n",
       "      <td>-0.215275</td>\n",
       "      <td>-0.208870</td>\n",
       "      <td>...</td>\n",
       "      <td>-0.207620</td>\n",
       "      <td>-0.208729</td>\n",
       "      <td>-0.211394</td>\n",
       "      <td>-0.211019</td>\n",
       "      <td>-0.213753</td>\n",
       "      <td>-0.210567</td>\n",
       "      <td>-0.212328</td>\n",
       "      <td>-0.210986</td>\n",
       "      <td>-0.210698</td>\n",
       "      <td>-0.210309</td>\n",
       "    </tr>\n",
       "    <tr>\n",
       "      <th>A2M</th>\n",
       "      <td>0.253755</td>\n",
       "      <td>3.961472</td>\n",
       "      <td>1.566073</td>\n",
       "      <td>3.648564</td>\n",
       "      <td>9.375731</td>\n",
       "      <td>0.669484</td>\n",
       "      <td>0.415182</td>\n",
       "      <td>5.143566</td>\n",
       "      <td>19.158974</td>\n",
       "      <td>-0.286787</td>\n",
       "      <td>...</td>\n",
       "      <td>-0.260228</td>\n",
       "      <td>1.542116</td>\n",
       "      <td>-0.264712</td>\n",
       "      <td>2.379572</td>\n",
       "      <td>-0.285399</td>\n",
       "      <td>-0.285499</td>\n",
       "      <td>-0.285339</td>\n",
       "      <td>-0.285486</td>\n",
       "      <td>-0.285247</td>\n",
       "      <td>-0.285658</td>\n",
       "    </tr>\n",
       "    <tr>\n",
       "      <th>A2ML1</th>\n",
       "      <td>0.462461</td>\n",
       "      <td>-0.133311</td>\n",
       "      <td>-0.133311</td>\n",
       "      <td>-0.133311</td>\n",
       "      <td>-0.133311</td>\n",
       "      <td>-0.133311</td>\n",
       "      <td>-0.133311</td>\n",
       "      <td>-0.133311</td>\n",
       "      <td>-0.133311</td>\n",
       "      <td>-0.052926</td>\n",
       "      <td>...</td>\n",
       "      <td>-0.121835</td>\n",
       "      <td>-0.122929</td>\n",
       "      <td>-0.119509</td>\n",
       "      <td>-0.121369</td>\n",
       "      <td>-0.128966</td>\n",
       "      <td>-0.129615</td>\n",
       "      <td>-0.131178</td>\n",
       "      <td>-0.129613</td>\n",
       "      <td>-0.129124</td>\n",
       "      <td>-0.128593</td>\n",
       "    </tr>\n",
       "    <tr>\n",
       "      <th>A2MP1</th>\n",
       "      <td>-0.154353</td>\n",
       "      <td>-0.154353</td>\n",
       "      <td>-0.154353</td>\n",
       "      <td>-0.154353</td>\n",
       "      <td>-0.154353</td>\n",
       "      <td>-0.154353</td>\n",
       "      <td>-0.154353</td>\n",
       "      <td>-0.154353</td>\n",
       "      <td>-0.154353</td>\n",
       "      <td>-0.154353</td>\n",
       "      <td>...</td>\n",
       "      <td>-0.091925</td>\n",
       "      <td>-0.086123</td>\n",
       "      <td>-0.082180</td>\n",
       "      <td>-0.093208</td>\n",
       "      <td>-0.149854</td>\n",
       "      <td>-0.153018</td>\n",
       "      <td>-0.152773</td>\n",
       "      <td>-0.154353</td>\n",
       "      <td>-0.154353</td>\n",
       "      <td>-0.152218</td>\n",
       "    </tr>\n",
       "  </tbody>\n",
       "</table>\n",
       "<p>5 rows × 26746 columns</p>\n",
       "</div>"
      ],
      "text/plain": [
       "          0         1         2         3         4         5         6      \\\n",
       "A1BG  -0.318826 -0.318826 -0.318826 -0.318826 -0.318826 -0.318826 -0.318826   \n",
       "A1CF  -0.215275 -0.215275 -0.215275 -0.215275 -0.215275 -0.215275 -0.215275   \n",
       "A2M    0.253755  3.961472  1.566073  3.648564  9.375731  0.669484  0.415182   \n",
       "A2ML1  0.462461 -0.133311 -0.133311 -0.133311 -0.133311 -0.133311 -0.133311   \n",
       "A2MP1 -0.154353 -0.154353 -0.154353 -0.154353 -0.154353 -0.154353 -0.154353   \n",
       "\n",
       "          7          8         9        ...        26736     26737     26738  \\\n",
       "A1BG  -0.318826  -0.318826 -0.227924    ...    -0.263326 -0.272815 -0.282797   \n",
       "A1CF  -0.215275  -0.215275 -0.208870    ...    -0.207620 -0.208729 -0.211394   \n",
       "A2M    5.143566  19.158974 -0.286787    ...    -0.260228  1.542116 -0.264712   \n",
       "A2ML1 -0.133311  -0.133311 -0.052926    ...    -0.121835 -0.122929 -0.119509   \n",
       "A2MP1 -0.154353  -0.154353 -0.154353    ...    -0.091925 -0.086123 -0.082180   \n",
       "\n",
       "          26739     26740     26741     26742     26743     26744     26745  \n",
       "A1BG  -0.239620 -0.255585 -0.252501 -0.266229 -0.263129 -0.262516 -0.257095  \n",
       "A1CF  -0.211019 -0.213753 -0.210567 -0.212328 -0.210986 -0.210698 -0.210309  \n",
       "A2M    2.379572 -0.285399 -0.285499 -0.285339 -0.285486 -0.285247 -0.285658  \n",
       "A2ML1 -0.121369 -0.128966 -0.129615 -0.131178 -0.129613 -0.129124 -0.128593  \n",
       "A2MP1 -0.093208 -0.149854 -0.153018 -0.152773 -0.154353 -0.154353 -0.152218  \n",
       "\n",
       "[5 rows x 26746 columns]"
      ]
     },
     "execution_count": 36,
     "metadata": {},
     "output_type": "execute_result"
    }
   ],
   "source": [
    "normalized_matrix.head()"
   ]
  },
  {
   "cell_type": "markdown",
   "metadata": {},
   "source": [
    "# Merge Duplicate Samples By Columns (by taking the mean)"
   ]
  },
  {
   "cell_type": "code",
   "execution_count": 37,
   "metadata": {
    "collapsed": true
   },
   "outputs": [],
   "source": [
    "normalized_matrix.columns = tissue_list"
   ]
  },
  {
   "cell_type": "code",
   "execution_count": 38,
   "metadata": {
    "collapsed": true
   },
   "outputs": [],
   "source": [
    "normalized_matrix = mf.merge(normalized_matrix, 'column', 'mean')"
   ]
  },
  {
   "cell_type": "code",
   "execution_count": 39,
   "metadata": {},
   "outputs": [
    {
     "data": {
      "text/plain": [
       "(28260, 108)"
      ]
     },
     "execution_count": 39,
     "metadata": {},
     "output_type": "execute_result"
    }
   ],
   "source": [
    "normalized_matrix.shape"
   ]
  },
  {
   "cell_type": "markdown",
   "metadata": {},
   "source": [
    "# Map Gene Symbols To Up-to-date Approved Gene Symbols"
   ]
  },
  {
   "cell_type": "code",
   "execution_count": 40,
   "metadata": {},
   "outputs": [
    {
     "name": "stdout",
     "output_type": "stream",
     "text": [
      "Progeres: 99%  28201 Out of 28260   \r"
     ]
    }
   ],
   "source": [
    "mf.mapgenesymbols(normalized_matrix)"
   ]
  },
  {
   "cell_type": "code",
   "execution_count": 41,
   "metadata": {
    "collapsed": true
   },
   "outputs": [],
   "source": [
    "matrix.shape"
   ]
  },
  {
   "cell_type": "markdown",
   "metadata": {},
   "source": [
    "# Merge Duplicate Genes By Rows"
   ]
  },
  {
   "cell_type": "code",
   "execution_count": 42,
   "metadata": {
    "collapsed": true
   },
   "outputs": [],
   "source": [
    "normalized_matrix = mf.merge(normalized_matrix, 'row', 'mean')"
   ]
  },
  {
   "cell_type": "code",
   "execution_count": 43,
   "metadata": {},
   "outputs": [
    {
     "data": {
      "text/plain": [
       "(23169, 108)"
      ]
     },
     "execution_count": 43,
     "metadata": {},
     "output_type": "execute_result"
    }
   ],
   "source": [
    "normalized_matrix.shape"
   ]
  },
  {
   "cell_type": "markdown",
   "metadata": {},
   "source": [
    "# Save Filtered Matrix"
   ]
  },
  {
   "cell_type": "code",
   "execution_count": 44,
   "metadata": {
    "collapsed": true
   },
   "outputs": [],
   "source": [
    "filename = '~/./Documents/Harmonizome/ARCHS4/Output/archs4_tissue_matrix_filltered_%s.tsv.zip'% str(datetime.date.today())[0:7].replace('-', '_')\n",
    "normalized_matrix.to_csv(filename, sep='\\t', compression='gzip')"
   ]
  },
  {
   "cell_type": "markdown",
   "metadata": {},
   "source": [
    "# Create Tertiary Matrix"
   ]
  },
  {
   "cell_type": "code",
   "execution_count": 45,
   "metadata": {},
   "outputs": [
    {
     "name": "stdout",
     "output_type": "stream",
     "text": [
      "Progeres: 100%  108 Out of 108   \r"
     ]
    }
   ],
   "source": [
    "tertiary_matrix = mf.createTertiaryMarix(normalized_matrix)"
   ]
  },
  {
   "cell_type": "code",
   "execution_count": 46,
   "metadata": {},
   "outputs": [
    {
     "data": {
      "text/html": [
       "<div>\n",
       "<table border=\"1\" class=\"dataframe\">\n",
       "  <thead>\n",
       "    <tr style=\"text-align: right;\">\n",
       "      <th></th>\n",
       "      <th>ADIPOSE (BULK TISSUE)</th>\n",
       "      <th>ADRENAL GLAND</th>\n",
       "      <th>ALPHA CELL</th>\n",
       "      <th>ALVEOLAR CELL TYPE II</th>\n",
       "      <th>ALVEOLAR MACROPHAGE</th>\n",
       "      <th>AMNIOTIC FLUID</th>\n",
       "      <th>ASTROCYTE</th>\n",
       "      <th>ATRIUM</th>\n",
       "      <th>BASAL CELL</th>\n",
       "      <th>BETA CELL</th>\n",
       "      <th>...</th>\n",
       "      <th>SUPERIOR FRONTAL GYRUS</th>\n",
       "      <th>TESTIS (BULK TISSUE)</th>\n",
       "      <th>THYMUS (BULK TISSUE)</th>\n",
       "      <th>THYROID (BULK TISSUE)</th>\n",
       "      <th>TLYMPHOCYTE</th>\n",
       "      <th>TRACHEA (BULK TISSUE)</th>\n",
       "      <th>VALVE</th>\n",
       "      <th>VASCULAR SMOOTH MUSCLE</th>\n",
       "      <th>VENTRICLE</th>\n",
       "      <th>WHARTONS JELLY</th>\n",
       "    </tr>\n",
       "    <tr>\n",
       "      <th>index</th>\n",
       "      <th></th>\n",
       "      <th></th>\n",
       "      <th></th>\n",
       "      <th></th>\n",
       "      <th></th>\n",
       "      <th></th>\n",
       "      <th></th>\n",
       "      <th></th>\n",
       "      <th></th>\n",
       "      <th></th>\n",
       "      <th></th>\n",
       "      <th></th>\n",
       "      <th></th>\n",
       "      <th></th>\n",
       "      <th></th>\n",
       "      <th></th>\n",
       "      <th></th>\n",
       "      <th></th>\n",
       "      <th></th>\n",
       "      <th></th>\n",
       "      <th></th>\n",
       "    </tr>\n",
       "  </thead>\n",
       "  <tbody>\n",
       "    <tr>\n",
       "      <th>A1BG</th>\n",
       "      <td>0.0</td>\n",
       "      <td>0.0</td>\n",
       "      <td>0.0</td>\n",
       "      <td>0.0</td>\n",
       "      <td>0.0</td>\n",
       "      <td>0.0</td>\n",
       "      <td>0.0</td>\n",
       "      <td>0.0</td>\n",
       "      <td>0.0</td>\n",
       "      <td>0.0</td>\n",
       "      <td>...</td>\n",
       "      <td>0.0</td>\n",
       "      <td>0.0</td>\n",
       "      <td>0.0</td>\n",
       "      <td>0.0</td>\n",
       "      <td>0.0</td>\n",
       "      <td>0.0</td>\n",
       "      <td>0.0</td>\n",
       "      <td>0.0</td>\n",
       "      <td>0.0</td>\n",
       "      <td>0.0</td>\n",
       "    </tr>\n",
       "    <tr>\n",
       "      <th>A1CF</th>\n",
       "      <td>0.0</td>\n",
       "      <td>0.0</td>\n",
       "      <td>1.0</td>\n",
       "      <td>0.0</td>\n",
       "      <td>0.0</td>\n",
       "      <td>0.0</td>\n",
       "      <td>0.0</td>\n",
       "      <td>0.0</td>\n",
       "      <td>0.0</td>\n",
       "      <td>1.0</td>\n",
       "      <td>...</td>\n",
       "      <td>0.0</td>\n",
       "      <td>0.0</td>\n",
       "      <td>0.0</td>\n",
       "      <td>0.0</td>\n",
       "      <td>0.0</td>\n",
       "      <td>0.0</td>\n",
       "      <td>0.0</td>\n",
       "      <td>0.0</td>\n",
       "      <td>0.0</td>\n",
       "      <td>0.0</td>\n",
       "    </tr>\n",
       "    <tr>\n",
       "      <th>A2M</th>\n",
       "      <td>1.0</td>\n",
       "      <td>1.0</td>\n",
       "      <td>0.0</td>\n",
       "      <td>0.0</td>\n",
       "      <td>0.0</td>\n",
       "      <td>0.0</td>\n",
       "      <td>0.0</td>\n",
       "      <td>1.0</td>\n",
       "      <td>0.0</td>\n",
       "      <td>0.0</td>\n",
       "      <td>...</td>\n",
       "      <td>0.0</td>\n",
       "      <td>0.0</td>\n",
       "      <td>0.0</td>\n",
       "      <td>0.0</td>\n",
       "      <td>-1.0</td>\n",
       "      <td>0.0</td>\n",
       "      <td>0.0</td>\n",
       "      <td>0.0</td>\n",
       "      <td>1.0</td>\n",
       "      <td>0.0</td>\n",
       "    </tr>\n",
       "    <tr>\n",
       "      <th>A2ML1</th>\n",
       "      <td>0.0</td>\n",
       "      <td>0.0</td>\n",
       "      <td>0.0</td>\n",
       "      <td>0.0</td>\n",
       "      <td>0.0</td>\n",
       "      <td>1.0</td>\n",
       "      <td>0.0</td>\n",
       "      <td>0.0</td>\n",
       "      <td>0.0</td>\n",
       "      <td>0.0</td>\n",
       "      <td>...</td>\n",
       "      <td>0.0</td>\n",
       "      <td>0.0</td>\n",
       "      <td>0.0</td>\n",
       "      <td>0.0</td>\n",
       "      <td>0.0</td>\n",
       "      <td>1.0</td>\n",
       "      <td>0.0</td>\n",
       "      <td>0.0</td>\n",
       "      <td>0.0</td>\n",
       "      <td>0.0</td>\n",
       "    </tr>\n",
       "    <tr>\n",
       "      <th>A2MP1</th>\n",
       "      <td>0.0</td>\n",
       "      <td>0.0</td>\n",
       "      <td>0.0</td>\n",
       "      <td>0.0</td>\n",
       "      <td>0.0</td>\n",
       "      <td>0.0</td>\n",
       "      <td>0.0</td>\n",
       "      <td>0.0</td>\n",
       "      <td>0.0</td>\n",
       "      <td>0.0</td>\n",
       "      <td>...</td>\n",
       "      <td>0.0</td>\n",
       "      <td>0.0</td>\n",
       "      <td>1.0</td>\n",
       "      <td>0.0</td>\n",
       "      <td>0.0</td>\n",
       "      <td>1.0</td>\n",
       "      <td>0.0</td>\n",
       "      <td>0.0</td>\n",
       "      <td>0.0</td>\n",
       "      <td>0.0</td>\n",
       "    </tr>\n",
       "  </tbody>\n",
       "</table>\n",
       "<p>5 rows × 108 columns</p>\n",
       "</div>"
      ],
      "text/plain": [
       "       ADIPOSE (BULK TISSUE)  ADRENAL GLAND  ALPHA CELL  \\\n",
       "index                                                     \n",
       "A1BG                     0.0            0.0         0.0   \n",
       "A1CF                     0.0            0.0         1.0   \n",
       "A2M                      1.0            1.0         0.0   \n",
       "A2ML1                    0.0            0.0         0.0   \n",
       "A2MP1                    0.0            0.0         0.0   \n",
       "\n",
       "       ALVEOLAR CELL TYPE II  ALVEOLAR MACROPHAGE  AMNIOTIC FLUID  ASTROCYTE  \\\n",
       "index                                                                          \n",
       "A1BG                     0.0                  0.0             0.0        0.0   \n",
       "A1CF                     0.0                  0.0             0.0        0.0   \n",
       "A2M                      0.0                  0.0             0.0        0.0   \n",
       "A2ML1                    0.0                  0.0             1.0        0.0   \n",
       "A2MP1                    0.0                  0.0             0.0        0.0   \n",
       "\n",
       "       ATRIUM  BASAL CELL  BETA CELL       ...        SUPERIOR FRONTAL GYRUS  \\\n",
       "index                                      ...                                 \n",
       "A1BG      0.0         0.0        0.0       ...                           0.0   \n",
       "A1CF      0.0         0.0        1.0       ...                           0.0   \n",
       "A2M       1.0         0.0        0.0       ...                           0.0   \n",
       "A2ML1     0.0         0.0        0.0       ...                           0.0   \n",
       "A2MP1     0.0         0.0        0.0       ...                           0.0   \n",
       "\n",
       "       TESTIS (BULK TISSUE)  THYMUS (BULK TISSUE)  THYROID (BULK TISSUE)  \\\n",
       "index                                                                      \n",
       "A1BG                    0.0                   0.0                    0.0   \n",
       "A1CF                    0.0                   0.0                    0.0   \n",
       "A2M                     0.0                   0.0                    0.0   \n",
       "A2ML1                   0.0                   0.0                    0.0   \n",
       "A2MP1                   0.0                   1.0                    0.0   \n",
       "\n",
       "       TLYMPHOCYTE  TRACHEA (BULK TISSUE)  VALVE  VASCULAR SMOOTH MUSCLE  \\\n",
       "index                                                                      \n",
       "A1BG           0.0                    0.0    0.0                     0.0   \n",
       "A1CF           0.0                    0.0    0.0                     0.0   \n",
       "A2M           -1.0                    0.0    0.0                     0.0   \n",
       "A2ML1          0.0                    1.0    0.0                     0.0   \n",
       "A2MP1          0.0                    1.0    0.0                     0.0   \n",
       "\n",
       "       VENTRICLE  WHARTONS JELLY  \n",
       "index                             \n",
       "A1BG         0.0             0.0  \n",
       "A1CF         0.0             0.0  \n",
       "A2M          1.0             0.0  \n",
       "A2ML1        0.0             0.0  \n",
       "A2MP1        0.0             0.0  \n",
       "\n",
       "[5 rows x 108 columns]"
      ]
     },
     "execution_count": 46,
     "metadata": {},
     "output_type": "execute_result"
    }
   ],
   "source": [
    "tertiary_matrix.head()"
   ]
  },
  {
   "cell_type": "markdown",
   "metadata": {},
   "source": [
    "# Save Teriary Matrix"
   ]
  },
  {
   "cell_type": "code",
   "execution_count": 47,
   "metadata": {
    "collapsed": true
   },
   "outputs": [],
   "source": [
    "filename = '~/./Documents/Harmonizome/ARCHS4/Output/archs4_tissue_tertiary_matrix_%s.tsv.zip'% str(datetime.date.today())[0:7].replace('-', '_')\n",
    "tertiary_matrix.to_csv(filename, sep='\\t', compression='gzip')"
   ]
  },
  {
   "cell_type": "markdown",
   "metadata": {},
   "source": [
    "#### Path to output files"
   ]
  },
  {
   "cell_type": "code",
   "execution_count": 48,
   "metadata": {
    "collapsed": true
   },
   "outputs": [],
   "source": [
    "path = '/Users/moshesilverstein/Documents/Harmonizome/ARCHS4/Output/'"
   ]
  },
  {
   "cell_type": "markdown",
   "metadata": {},
   "source": [
    "# Create Up Gene Set Library"
   ]
  },
  {
   "cell_type": "code",
   "execution_count": 49,
   "metadata": {
    "collapsed": true
   },
   "outputs": [],
   "source": [
    "name = 'archs4_tissue_gene_up_set'"
   ]
  },
  {
   "cell_type": "code",
   "execution_count": 50,
   "metadata": {},
   "outputs": [
    {
     "name": "stdout",
     "output_type": "stream",
     "text": [
      "Progeres: 100%  108 Out of 108   \r"
     ]
    }
   ],
   "source": [
    "mf.createUpGeneSetLib(normalized_matrix, path, name)"
   ]
  },
  {
   "cell_type": "markdown",
   "metadata": {},
   "source": [
    "# Create Down Gene Set Library"
   ]
  },
  {
   "cell_type": "code",
   "execution_count": 52,
   "metadata": {
    "collapsed": true
   },
   "outputs": [],
   "source": [
    "name = 'archs4_tissue_gene_down_set'"
   ]
  },
  {
   "cell_type": "code",
   "execution_count": 53,
   "metadata": {},
   "outputs": [
    {
     "name": "stdout",
     "output_type": "stream",
     "text": [
      "Progeres: 100%  108 Out of 108   \r"
     ]
    }
   ],
   "source": [
    "mf.createDownGeneSetLib(normalized_matrix, path, name)"
   ]
  },
  {
   "cell_type": "markdown",
   "metadata": {},
   "source": [
    "# Create Up Attribute Library"
   ]
  },
  {
   "cell_type": "code",
   "execution_count": 54,
   "metadata": {
    "collapsed": true
   },
   "outputs": [],
   "source": [
    "name = 'archs4_tissue_attribute_up_set'"
   ]
  },
  {
   "cell_type": "code",
   "execution_count": 55,
   "metadata": {},
   "outputs": [
    {
     "name": "stdout",
     "output_type": "stream",
     "text": [
      "Progeres: 100%  23169 Out of 23169   \r"
     ]
    }
   ],
   "source": [
    "mf.createUpAttributeSetLib(tertiary_matrix, path, name)"
   ]
  },
  {
   "cell_type": "markdown",
   "metadata": {},
   "source": [
    "# Create Down Attribute Library"
   ]
  },
  {
   "cell_type": "code",
   "execution_count": 56,
   "metadata": {
    "collapsed": true
   },
   "outputs": [],
   "source": [
    "name = 'archs4_tissue_attribute_down_set'"
   ]
  },
  {
   "cell_type": "code",
   "execution_count": 57,
   "metadata": {},
   "outputs": [
    {
     "name": "stdout",
     "output_type": "stream",
     "text": [
      "Progeres: 100%  23169 Out of 23169   \r"
     ]
    }
   ],
   "source": [
    "mf.createDownAttributeSetLib(tertiary_matrix, path, name)"
   ]
  },
  {
   "cell_type": "markdown",
   "metadata": {},
   "source": [
    "# Create Gene Similarity Matrix"
   ]
  },
  {
   "cell_type": "code",
   "execution_count": 58,
   "metadata": {
    "collapsed": true
   },
   "outputs": [],
   "source": [
    "gene_similarity_matix = mf.createSimilarityMatrix(normalized_matrix, 'cosine')"
   ]
  },
  {
   "cell_type": "code",
   "execution_count": 59,
   "metadata": {},
   "outputs": [
    {
     "data": {
      "text/html": [
       "<div>\n",
       "<table border=\"1\" class=\"dataframe\">\n",
       "  <thead>\n",
       "    <tr style=\"text-align: right;\">\n",
       "      <th>index</th>\n",
       "      <th>A1BG</th>\n",
       "      <th>A1CF</th>\n",
       "      <th>A2M</th>\n",
       "      <th>A2ML1</th>\n",
       "      <th>A2MP1</th>\n",
       "      <th>A3GALT2</th>\n",
       "      <th>A4GALT</th>\n",
       "      <th>A4GNT</th>\n",
       "      <th>AAAS</th>\n",
       "      <th>AACS</th>\n",
       "      <th>...</th>\n",
       "      <th>ZWILCH</th>\n",
       "      <th>ZWINT</th>\n",
       "      <th>ZXDA</th>\n",
       "      <th>ZXDB</th>\n",
       "      <th>ZXDC</th>\n",
       "      <th>ZYG11A</th>\n",
       "      <th>ZYG11B</th>\n",
       "      <th>ZYX</th>\n",
       "      <th>ZZEF1</th>\n",
       "      <th>ZZZ3</th>\n",
       "    </tr>\n",
       "    <tr>\n",
       "      <th>index</th>\n",
       "      <th></th>\n",
       "      <th></th>\n",
       "      <th></th>\n",
       "      <th></th>\n",
       "      <th></th>\n",
       "      <th></th>\n",
       "      <th></th>\n",
       "      <th></th>\n",
       "      <th></th>\n",
       "      <th></th>\n",
       "      <th></th>\n",
       "      <th></th>\n",
       "      <th></th>\n",
       "      <th></th>\n",
       "      <th></th>\n",
       "      <th></th>\n",
       "      <th></th>\n",
       "      <th></th>\n",
       "      <th></th>\n",
       "      <th></th>\n",
       "      <th></th>\n",
       "    </tr>\n",
       "  </thead>\n",
       "  <tbody>\n",
       "    <tr>\n",
       "      <th>A1BG</th>\n",
       "      <td>1.000000</td>\n",
       "      <td>0.672171</td>\n",
       "      <td>0.207036</td>\n",
       "      <td>-0.058123</td>\n",
       "      <td>-0.010649</td>\n",
       "      <td>-0.021419</td>\n",
       "      <td>-0.143480</td>\n",
       "      <td>0.089566</td>\n",
       "      <td>0.111268</td>\n",
       "      <td>0.096429</td>\n",
       "      <td>...</td>\n",
       "      <td>-0.007573</td>\n",
       "      <td>0.013799</td>\n",
       "      <td>-0.178479</td>\n",
       "      <td>0.096395</td>\n",
       "      <td>0.013083</td>\n",
       "      <td>0.124240</td>\n",
       "      <td>-0.090784</td>\n",
       "      <td>-0.035394</td>\n",
       "      <td>-0.171055</td>\n",
       "      <td>-0.094701</td>\n",
       "    </tr>\n",
       "    <tr>\n",
       "      <th>A1CF</th>\n",
       "      <td>0.672171</td>\n",
       "      <td>1.000000</td>\n",
       "      <td>0.113603</td>\n",
       "      <td>-0.043191</td>\n",
       "      <td>-0.077302</td>\n",
       "      <td>-0.046565</td>\n",
       "      <td>-0.156881</td>\n",
       "      <td>0.095818</td>\n",
       "      <td>-0.037113</td>\n",
       "      <td>0.153261</td>\n",
       "      <td>...</td>\n",
       "      <td>-0.071209</td>\n",
       "      <td>-0.047596</td>\n",
       "      <td>-0.130969</td>\n",
       "      <td>0.199071</td>\n",
       "      <td>0.072584</td>\n",
       "      <td>0.104794</td>\n",
       "      <td>-0.119189</td>\n",
       "      <td>-0.139822</td>\n",
       "      <td>0.122622</td>\n",
       "      <td>0.026036</td>\n",
       "    </tr>\n",
       "    <tr>\n",
       "      <th>A2M</th>\n",
       "      <td>0.207036</td>\n",
       "      <td>0.113603</td>\n",
       "      <td>1.000000</td>\n",
       "      <td>-0.050936</td>\n",
       "      <td>-0.002689</td>\n",
       "      <td>-0.077225</td>\n",
       "      <td>0.101411</td>\n",
       "      <td>0.116864</td>\n",
       "      <td>-0.056305</td>\n",
       "      <td>-0.126552</td>\n",
       "      <td>...</td>\n",
       "      <td>-0.314093</td>\n",
       "      <td>-0.221030</td>\n",
       "      <td>-0.064823</td>\n",
       "      <td>-0.104333</td>\n",
       "      <td>0.097675</td>\n",
       "      <td>-0.230689</td>\n",
       "      <td>0.040998</td>\n",
       "      <td>0.077230</td>\n",
       "      <td>0.153744</td>\n",
       "      <td>-0.229208</td>\n",
       "    </tr>\n",
       "    <tr>\n",
       "      <th>A2ML1</th>\n",
       "      <td>-0.058123</td>\n",
       "      <td>-0.043191</td>\n",
       "      <td>-0.050936</td>\n",
       "      <td>1.000000</td>\n",
       "      <td>0.061358</td>\n",
       "      <td>-0.032232</td>\n",
       "      <td>0.105175</td>\n",
       "      <td>-0.017789</td>\n",
       "      <td>-0.001333</td>\n",
       "      <td>0.029846</td>\n",
       "      <td>...</td>\n",
       "      <td>-0.070858</td>\n",
       "      <td>-0.072212</td>\n",
       "      <td>0.085783</td>\n",
       "      <td>0.137574</td>\n",
       "      <td>0.089242</td>\n",
       "      <td>-0.033137</td>\n",
       "      <td>-0.029402</td>\n",
       "      <td>-0.079595</td>\n",
       "      <td>0.049261</td>\n",
       "      <td>0.122823</td>\n",
       "    </tr>\n",
       "    <tr>\n",
       "      <th>A2MP1</th>\n",
       "      <td>-0.010649</td>\n",
       "      <td>-0.077302</td>\n",
       "      <td>-0.002689</td>\n",
       "      <td>0.061358</td>\n",
       "      <td>1.000000</td>\n",
       "      <td>-0.039241</td>\n",
       "      <td>0.081773</td>\n",
       "      <td>-0.055501</td>\n",
       "      <td>-0.012608</td>\n",
       "      <td>0.088613</td>\n",
       "      <td>...</td>\n",
       "      <td>-0.096248</td>\n",
       "      <td>-0.069835</td>\n",
       "      <td>0.075643</td>\n",
       "      <td>0.034786</td>\n",
       "      <td>0.188475</td>\n",
       "      <td>0.062940</td>\n",
       "      <td>-0.076712</td>\n",
       "      <td>-0.157378</td>\n",
       "      <td>0.096808</td>\n",
       "      <td>0.022541</td>\n",
       "    </tr>\n",
       "  </tbody>\n",
       "</table>\n",
       "<p>5 rows × 23169 columns</p>\n",
       "</div>"
      ],
      "text/plain": [
       "index      A1BG      A1CF       A2M     A2ML1     A2MP1   A3GALT2    A4GALT  \\\n",
       "index                                                                         \n",
       "A1BG   1.000000  0.672171  0.207036 -0.058123 -0.010649 -0.021419 -0.143480   \n",
       "A1CF   0.672171  1.000000  0.113603 -0.043191 -0.077302 -0.046565 -0.156881   \n",
       "A2M    0.207036  0.113603  1.000000 -0.050936 -0.002689 -0.077225  0.101411   \n",
       "A2ML1 -0.058123 -0.043191 -0.050936  1.000000  0.061358 -0.032232  0.105175   \n",
       "A2MP1 -0.010649 -0.077302 -0.002689  0.061358  1.000000 -0.039241  0.081773   \n",
       "\n",
       "index     A4GNT      AAAS      AACS    ...       ZWILCH     ZWINT      ZXDA  \\\n",
       "index                                  ...                                    \n",
       "A1BG   0.089566  0.111268  0.096429    ...    -0.007573  0.013799 -0.178479   \n",
       "A1CF   0.095818 -0.037113  0.153261    ...    -0.071209 -0.047596 -0.130969   \n",
       "A2M    0.116864 -0.056305 -0.126552    ...    -0.314093 -0.221030 -0.064823   \n",
       "A2ML1 -0.017789 -0.001333  0.029846    ...    -0.070858 -0.072212  0.085783   \n",
       "A2MP1 -0.055501 -0.012608  0.088613    ...    -0.096248 -0.069835  0.075643   \n",
       "\n",
       "index      ZXDB      ZXDC    ZYG11A    ZYG11B       ZYX     ZZEF1      ZZZ3  \n",
       "index                                                                        \n",
       "A1BG   0.096395  0.013083  0.124240 -0.090784 -0.035394 -0.171055 -0.094701  \n",
       "A1CF   0.199071  0.072584  0.104794 -0.119189 -0.139822  0.122622  0.026036  \n",
       "A2M   -0.104333  0.097675 -0.230689  0.040998  0.077230  0.153744 -0.229208  \n",
       "A2ML1  0.137574  0.089242 -0.033137 -0.029402 -0.079595  0.049261  0.122823  \n",
       "A2MP1  0.034786  0.188475  0.062940 -0.076712 -0.157378  0.096808  0.022541  \n",
       "\n",
       "[5 rows x 23169 columns]"
      ]
     },
     "execution_count": 59,
     "metadata": {},
     "output_type": "execute_result"
    }
   ],
   "source": [
    "gene_similarity_matix.head()"
   ]
  },
  {
   "cell_type": "markdown",
   "metadata": {},
   "source": [
    "# Save Gene Similarity Matrix "
   ]
  },
  {
   "cell_type": "code",
   "execution_count": 60,
   "metadata": {
    "collapsed": true
   },
   "outputs": [],
   "source": [
    "filename = 'Output/archs4_tissue_gene_similarity_matix_%s.tsv.zip'% str(datetime.date.today())[0:7].replace('-', '_')\n",
    "gene_similarity_matix.to_csv(filename, sep='\\t', compression='gzip')"
   ]
  },
  {
   "cell_type": "markdown",
   "metadata": {},
   "source": [
    "# Create Attribute Similarity matrix"
   ]
  },
  {
   "cell_type": "code",
   "execution_count": 61,
   "metadata": {
    "collapsed": true
   },
   "outputs": [],
   "source": [
    "attribute_similarity_matix = mf.createSimilarityMatrix(normalized_matrix.T, 'cosine')"
   ]
  },
  {
   "cell_type": "code",
   "execution_count": 62,
   "metadata": {},
   "outputs": [
    {
     "data": {
      "text/html": [
       "<div>\n",
       "<table border=\"1\" class=\"dataframe\">\n",
       "  <thead>\n",
       "    <tr style=\"text-align: right;\">\n",
       "      <th></th>\n",
       "      <th>ADIPOSE (BULK TISSUE)</th>\n",
       "      <th>ADRENAL GLAND</th>\n",
       "      <th>ALPHA CELL</th>\n",
       "      <th>ALVEOLAR CELL TYPE II</th>\n",
       "      <th>ALVEOLAR MACROPHAGE</th>\n",
       "      <th>AMNIOTIC FLUID</th>\n",
       "      <th>ASTROCYTE</th>\n",
       "      <th>ATRIUM</th>\n",
       "      <th>BASAL CELL</th>\n",
       "      <th>BETA CELL</th>\n",
       "      <th>...</th>\n",
       "      <th>SUPERIOR FRONTAL GYRUS</th>\n",
       "      <th>TESTIS (BULK TISSUE)</th>\n",
       "      <th>THYMUS (BULK TISSUE)</th>\n",
       "      <th>THYROID (BULK TISSUE)</th>\n",
       "      <th>TLYMPHOCYTE</th>\n",
       "      <th>TRACHEA (BULK TISSUE)</th>\n",
       "      <th>VALVE</th>\n",
       "      <th>VASCULAR SMOOTH MUSCLE</th>\n",
       "      <th>VENTRICLE</th>\n",
       "      <th>WHARTONS JELLY</th>\n",
       "    </tr>\n",
       "  </thead>\n",
       "  <tbody>\n",
       "    <tr>\n",
       "      <th>ADIPOSE (BULK TISSUE)</th>\n",
       "      <td>1.000000</td>\n",
       "      <td>0.140132</td>\n",
       "      <td>-0.015300</td>\n",
       "      <td>-0.009833</td>\n",
       "      <td>0.048859</td>\n",
       "      <td>0.049832</td>\n",
       "      <td>0.207686</td>\n",
       "      <td>0.252345</td>\n",
       "      <td>0.071373</td>\n",
       "      <td>0.027550</td>\n",
       "      <td>...</td>\n",
       "      <td>0.085214</td>\n",
       "      <td>0.035777</td>\n",
       "      <td>-0.001794</td>\n",
       "      <td>0.184176</td>\n",
       "      <td>-0.216132</td>\n",
       "      <td>0.108436</td>\n",
       "      <td>0.358305</td>\n",
       "      <td>0.227074</td>\n",
       "      <td>0.287865</td>\n",
       "      <td>0.097166</td>\n",
       "    </tr>\n",
       "    <tr>\n",
       "      <th>ADRENAL GLAND</th>\n",
       "      <td>0.140132</td>\n",
       "      <td>1.000000</td>\n",
       "      <td>0.076550</td>\n",
       "      <td>0.021021</td>\n",
       "      <td>0.064642</td>\n",
       "      <td>0.034227</td>\n",
       "      <td>0.120628</td>\n",
       "      <td>0.133880</td>\n",
       "      <td>0.055860</td>\n",
       "      <td>0.120456</td>\n",
       "      <td>...</td>\n",
       "      <td>0.056904</td>\n",
       "      <td>0.090125</td>\n",
       "      <td>0.024559</td>\n",
       "      <td>0.176387</td>\n",
       "      <td>-0.139140</td>\n",
       "      <td>0.083207</td>\n",
       "      <td>0.100382</td>\n",
       "      <td>0.103203</td>\n",
       "      <td>0.111508</td>\n",
       "      <td>0.081343</td>\n",
       "    </tr>\n",
       "    <tr>\n",
       "      <th>ALPHA CELL</th>\n",
       "      <td>-0.015300</td>\n",
       "      <td>0.076550</td>\n",
       "      <td>1.000000</td>\n",
       "      <td>0.083025</td>\n",
       "      <td>0.035614</td>\n",
       "      <td>0.127987</td>\n",
       "      <td>0.034586</td>\n",
       "      <td>0.046760</td>\n",
       "      <td>0.047318</td>\n",
       "      <td>0.713479</td>\n",
       "      <td>...</td>\n",
       "      <td>0.114232</td>\n",
       "      <td>0.091285</td>\n",
       "      <td>0.012206</td>\n",
       "      <td>0.157543</td>\n",
       "      <td>-0.181161</td>\n",
       "      <td>0.025794</td>\n",
       "      <td>-0.022764</td>\n",
       "      <td>0.010647</td>\n",
       "      <td>0.046466</td>\n",
       "      <td>-0.039002</td>\n",
       "    </tr>\n",
       "    <tr>\n",
       "      <th>ALVEOLAR CELL TYPE II</th>\n",
       "      <td>-0.009833</td>\n",
       "      <td>0.021021</td>\n",
       "      <td>0.083025</td>\n",
       "      <td>1.000000</td>\n",
       "      <td>0.056189</td>\n",
       "      <td>0.064740</td>\n",
       "      <td>0.006488</td>\n",
       "      <td>0.013331</td>\n",
       "      <td>0.180918</td>\n",
       "      <td>0.062327</td>\n",
       "      <td>...</td>\n",
       "      <td>-0.064224</td>\n",
       "      <td>0.017245</td>\n",
       "      <td>-0.015949</td>\n",
       "      <td>0.114191</td>\n",
       "      <td>-0.049787</td>\n",
       "      <td>0.090903</td>\n",
       "      <td>-0.050713</td>\n",
       "      <td>0.034364</td>\n",
       "      <td>0.001978</td>\n",
       "      <td>0.091283</td>\n",
       "    </tr>\n",
       "    <tr>\n",
       "      <th>ALVEOLAR MACROPHAGE</th>\n",
       "      <td>0.048859</td>\n",
       "      <td>0.064642</td>\n",
       "      <td>0.035614</td>\n",
       "      <td>0.056189</td>\n",
       "      <td>1.000000</td>\n",
       "      <td>0.024868</td>\n",
       "      <td>0.006764</td>\n",
       "      <td>0.012762</td>\n",
       "      <td>0.065226</td>\n",
       "      <td>0.052260</td>\n",
       "      <td>...</td>\n",
       "      <td>-0.071215</td>\n",
       "      <td>0.020691</td>\n",
       "      <td>0.042011</td>\n",
       "      <td>0.106980</td>\n",
       "      <td>-0.090124</td>\n",
       "      <td>0.060575</td>\n",
       "      <td>-0.004661</td>\n",
       "      <td>0.043279</td>\n",
       "      <td>0.007078</td>\n",
       "      <td>0.089992</td>\n",
       "    </tr>\n",
       "  </tbody>\n",
       "</table>\n",
       "<p>5 rows × 108 columns</p>\n",
       "</div>"
      ],
      "text/plain": [
       "                       ADIPOSE (BULK TISSUE)  ADRENAL GLAND  ALPHA CELL  \\\n",
       "ADIPOSE (BULK TISSUE)               1.000000       0.140132   -0.015300   \n",
       "ADRENAL GLAND                       0.140132       1.000000    0.076550   \n",
       "ALPHA CELL                         -0.015300       0.076550    1.000000   \n",
       "ALVEOLAR CELL TYPE II              -0.009833       0.021021    0.083025   \n",
       "ALVEOLAR MACROPHAGE                 0.048859       0.064642    0.035614   \n",
       "\n",
       "                       ALVEOLAR CELL TYPE II  ALVEOLAR MACROPHAGE  \\\n",
       "ADIPOSE (BULK TISSUE)              -0.009833             0.048859   \n",
       "ADRENAL GLAND                       0.021021             0.064642   \n",
       "ALPHA CELL                          0.083025             0.035614   \n",
       "ALVEOLAR CELL TYPE II               1.000000             0.056189   \n",
       "ALVEOLAR MACROPHAGE                 0.056189             1.000000   \n",
       "\n",
       "                       AMNIOTIC FLUID  ASTROCYTE    ATRIUM  BASAL CELL  \\\n",
       "ADIPOSE (BULK TISSUE)        0.049832   0.207686  0.252345    0.071373   \n",
       "ADRENAL GLAND                0.034227   0.120628  0.133880    0.055860   \n",
       "ALPHA CELL                   0.127987   0.034586  0.046760    0.047318   \n",
       "ALVEOLAR CELL TYPE II        0.064740   0.006488  0.013331    0.180918   \n",
       "ALVEOLAR MACROPHAGE          0.024868   0.006764  0.012762    0.065226   \n",
       "\n",
       "                       BETA CELL       ...        SUPERIOR FRONTAL GYRUS  \\\n",
       "ADIPOSE (BULK TISSUE)   0.027550       ...                      0.085214   \n",
       "ADRENAL GLAND           0.120456       ...                      0.056904   \n",
       "ALPHA CELL              0.713479       ...                      0.114232   \n",
       "ALVEOLAR CELL TYPE II   0.062327       ...                     -0.064224   \n",
       "ALVEOLAR MACROPHAGE     0.052260       ...                     -0.071215   \n",
       "\n",
       "                       TESTIS (BULK TISSUE)  THYMUS (BULK TISSUE)  \\\n",
       "ADIPOSE (BULK TISSUE)              0.035777             -0.001794   \n",
       "ADRENAL GLAND                      0.090125              0.024559   \n",
       "ALPHA CELL                         0.091285              0.012206   \n",
       "ALVEOLAR CELL TYPE II              0.017245             -0.015949   \n",
       "ALVEOLAR MACROPHAGE                0.020691              0.042011   \n",
       "\n",
       "                       THYROID (BULK TISSUE)  TLYMPHOCYTE  \\\n",
       "ADIPOSE (BULK TISSUE)               0.184176    -0.216132   \n",
       "ADRENAL GLAND                       0.176387    -0.139140   \n",
       "ALPHA CELL                          0.157543    -0.181161   \n",
       "ALVEOLAR CELL TYPE II               0.114191    -0.049787   \n",
       "ALVEOLAR MACROPHAGE                 0.106980    -0.090124   \n",
       "\n",
       "                       TRACHEA (BULK TISSUE)     VALVE  \\\n",
       "ADIPOSE (BULK TISSUE)               0.108436  0.358305   \n",
       "ADRENAL GLAND                       0.083207  0.100382   \n",
       "ALPHA CELL                          0.025794 -0.022764   \n",
       "ALVEOLAR CELL TYPE II               0.090903 -0.050713   \n",
       "ALVEOLAR MACROPHAGE                 0.060575 -0.004661   \n",
       "\n",
       "                       VASCULAR SMOOTH MUSCLE  VENTRICLE  WHARTONS JELLY  \n",
       "ADIPOSE (BULK TISSUE)                0.227074   0.287865        0.097166  \n",
       "ADRENAL GLAND                        0.103203   0.111508        0.081343  \n",
       "ALPHA CELL                           0.010647   0.046466       -0.039002  \n",
       "ALVEOLAR CELL TYPE II                0.034364   0.001978        0.091283  \n",
       "ALVEOLAR MACROPHAGE                  0.043279   0.007078        0.089992  \n",
       "\n",
       "[5 rows x 108 columns]"
      ]
     },
     "execution_count": 62,
     "metadata": {},
     "output_type": "execute_result"
    }
   ],
   "source": [
    "attribute_similarity_matix.head()"
   ]
  },
  {
   "cell_type": "markdown",
   "metadata": {},
   "source": [
    "# Save Attribute Similarity Matrix"
   ]
  },
  {
   "cell_type": "code",
   "execution_count": 63,
   "metadata": {
    "collapsed": true
   },
   "outputs": [],
   "source": [
    "filename = 'Output/archs4_tissue_attribute_similarity_matix_%s.tsv.zip'% str(datetime.date.today())[0:7].replace('-', '_')\n",
    "attribute_similarity_matix.to_csv(filename, sep='\\t', compression='gzip')"
   ]
  },
  {
   "cell_type": "markdown",
   "metadata": {},
   "source": [
    "# Create Gene List"
   ]
  },
  {
   "cell_type": "code",
   "execution_count": 64,
   "metadata": {},
   "outputs": [
    {
     "name": "stdout",
     "output_type": "stream",
     "text": [
      "Progeres: 100%  23169 Out of 23169   \r"
     ]
    }
   ],
   "source": [
    "gene_list = mf.createGeneList(normalized_matrix)"
   ]
  },
  {
   "cell_type": "code",
   "execution_count": 65,
   "metadata": {},
   "outputs": [
    {
     "data": {
      "text/html": [
       "<div>\n",
       "<table border=\"1\" class=\"dataframe\">\n",
       "  <thead>\n",
       "    <tr style=\"text-align: right;\">\n",
       "      <th></th>\n",
       "      <th>GeneSym</th>\n",
       "      <th>GeneID</th>\n",
       "    </tr>\n",
       "  </thead>\n",
       "  <tbody>\n",
       "    <tr>\n",
       "      <th>0</th>\n",
       "      <td>A1BG</td>\n",
       "      <td>1</td>\n",
       "    </tr>\n",
       "    <tr>\n",
       "      <th>1</th>\n",
       "      <td>A1CF</td>\n",
       "      <td>29974</td>\n",
       "    </tr>\n",
       "    <tr>\n",
       "      <th>2</th>\n",
       "      <td>A2M</td>\n",
       "      <td>2</td>\n",
       "    </tr>\n",
       "    <tr>\n",
       "      <th>3</th>\n",
       "      <td>A2ML1</td>\n",
       "      <td>144568</td>\n",
       "    </tr>\n",
       "    <tr>\n",
       "      <th>4</th>\n",
       "      <td>A2MP1</td>\n",
       "      <td>3</td>\n",
       "    </tr>\n",
       "  </tbody>\n",
       "</table>\n",
       "</div>"
      ],
      "text/plain": [
       "  GeneSym  GeneID\n",
       "0    A1BG       1\n",
       "1    A1CF   29974\n",
       "2     A2M       2\n",
       "3   A2ML1  144568\n",
       "4   A2MP1       3"
      ]
     },
     "execution_count": 65,
     "metadata": {},
     "output_type": "execute_result"
    }
   ],
   "source": [
    "gene_list.head()"
   ]
  },
  {
   "cell_type": "code",
   "execution_count": 66,
   "metadata": {},
   "outputs": [
    {
     "data": {
      "text/plain": [
       "(23169, 2)"
      ]
     },
     "execution_count": 66,
     "metadata": {},
     "output_type": "execute_result"
    }
   ],
   "source": [
    "gene_list.shape"
   ]
  },
  {
   "cell_type": "markdown",
   "metadata": {},
   "source": [
    "# Save Gene List"
   ]
  },
  {
   "cell_type": "code",
   "execution_count": 67,
   "metadata": {
    "collapsed": true
   },
   "outputs": [],
   "source": [
    "filename = 'Output/archs4_tissue_gene_list_%s.tsv.zip'% str(datetime.date.today())[0:7].replace('-', '_')\n",
    "gene_list.to_csv(filename, sep='\\t', index=False, compression='gzip')"
   ]
  },
  {
   "cell_type": "markdown",
   "metadata": {},
   "source": [
    "# Create Attribute List "
   ]
  },
  {
   "cell_type": "code",
   "execution_count": 68,
   "metadata": {
    "collapsed": true
   },
   "outputs": [],
   "source": [
    "attribute_list = mf.createAttributeList(normalized_matrix)"
   ]
  },
  {
   "cell_type": "code",
   "execution_count": 69,
   "metadata": {},
   "outputs": [
    {
     "data": {
      "text/html": [
       "<div>\n",
       "<table border=\"1\" class=\"dataframe\">\n",
       "  <thead>\n",
       "    <tr style=\"text-align: right;\">\n",
       "      <th></th>\n",
       "      <th>Attributes</th>\n",
       "    </tr>\n",
       "  </thead>\n",
       "  <tbody>\n",
       "    <tr>\n",
       "      <th>0</th>\n",
       "      <td>ADIPOSE (BULK TISSUE)</td>\n",
       "    </tr>\n",
       "    <tr>\n",
       "      <th>1</th>\n",
       "      <td>ADRENAL GLAND</td>\n",
       "    </tr>\n",
       "    <tr>\n",
       "      <th>2</th>\n",
       "      <td>ALPHA CELL</td>\n",
       "    </tr>\n",
       "    <tr>\n",
       "      <th>3</th>\n",
       "      <td>ALVEOLAR CELL TYPE II</td>\n",
       "    </tr>\n",
       "    <tr>\n",
       "      <th>4</th>\n",
       "      <td>ALVEOLAR MACROPHAGE</td>\n",
       "    </tr>\n",
       "  </tbody>\n",
       "</table>\n",
       "</div>"
      ],
      "text/plain": [
       "              Attributes\n",
       "0  ADIPOSE (BULK TISSUE)\n",
       "1          ADRENAL GLAND\n",
       "2             ALPHA CELL\n",
       "3  ALVEOLAR CELL TYPE II\n",
       "4    ALVEOLAR MACROPHAGE"
      ]
     },
     "execution_count": 69,
     "metadata": {},
     "output_type": "execute_result"
    }
   ],
   "source": [
    "attribute_list.head()"
   ]
  },
  {
   "cell_type": "code",
   "execution_count": 70,
   "metadata": {},
   "outputs": [
    {
     "data": {
      "text/plain": [
       "(108, 1)"
      ]
     },
     "execution_count": 70,
     "metadata": {},
     "output_type": "execute_result"
    }
   ],
   "source": [
    "attribute_list.shape"
   ]
  },
  {
   "cell_type": "markdown",
   "metadata": {},
   "source": [
    "# Save Attribute List"
   ]
  },
  {
   "cell_type": "code",
   "execution_count": 71,
   "metadata": {
    "collapsed": true
   },
   "outputs": [],
   "source": [
    "filename = 'Output/archs4_tissue_attribute_list_%s.tsv.zip'% str(datetime.date.today())[0:7].replace('-', '_')\n",
    "attribute_list.to_csv(filename, sep='\\t', index=False, compression='gzip')"
   ]
  },
  {
   "cell_type": "markdown",
   "metadata": {},
   "source": [
    "# Create Gene-Attribute Edge List"
   ]
  },
  {
   "cell_type": "code",
   "execution_count": 72,
   "metadata": {
    "collapsed": true
   },
   "outputs": [],
   "source": [
    "path = '/Users/moshesilverstein/Documents/Harmonizome/ARCHS4/Output/'"
   ]
  },
  {
   "cell_type": "code",
   "execution_count": 73,
   "metadata": {
    "collapsed": true
   },
   "outputs": [],
   "source": [
    "name = 'archs4_tissue_gene_attribute_edge_list'"
   ]
  },
  {
   "cell_type": "code",
   "execution_count": 74,
   "metadata": {},
   "outputs": [
    {
     "name": "stdout",
     "output_type": "stream",
     "text": [
      "Progeres: 100%  108 Out of 108   \n",
      "\n",
      " The number of statisticaly relevent gene-attribute associations is: 500364\n"
     ]
    }
   ],
   "source": [
    "mf.createGeneAttributeEdgeList(tertiary_matrix, gene_list, path, name)"
   ]
  }
 ],
 "metadata": {
  "kernelspec": {
   "display_name": "Python [default]",
   "language": "python",
   "name": "python3"
  },
  "language_info": {
   "codemirror_mode": {
    "name": "ipython",
    "version": 3
   },
   "file_extension": ".py",
   "mimetype": "text/x-python",
   "name": "python",
   "nbconvert_exporter": "python",
   "pygments_lexer": "ipython3",
   "version": "3.5.2"
  }
 },
 "nbformat": 4,
 "nbformat_minor": 2
}
