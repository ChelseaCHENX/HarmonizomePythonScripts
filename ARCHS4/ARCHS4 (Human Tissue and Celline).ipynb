{
 "cells": [
  {
   "cell_type": "markdown",
   "metadata": {},
   "source": [
    "# ARCHS4 (Human Tissue and Celline)"
   ]
  },
  {
   "cell_type": "markdown",
   "metadata": {},
   "source": [
    "Author: Moshe Silverstein <br/>\n",
    "Date: 8-17 <br/>\n",
    "Data Source: "
   ]
  },
  {
   "cell_type": "code",
   "execution_count": 1,
   "metadata": {
    "collapsed": true
   },
   "outputs": [],
   "source": [
    "import sys, datetime, os\n",
    "import numpy as np\n",
    "import pandas as pd\n",
    "import importlib\n",
    "import my_functions as mf\n",
    "from collections import Counter\n",
    "import json\n",
    "import re\n",
    "%matplotlib inline"
   ]
  },
  {
   "cell_type": "code",
   "execution_count": 2,
   "metadata": {},
   "outputs": [
    {
     "data": {
      "text/plain": [
       "<module 'my_functions' from '/Users/moshesilverstein/Documents/Harmonizome/ARCHS4/my_functions.py'>"
      ]
     },
     "execution_count": 2,
     "metadata": {},
     "output_type": "execute_result"
    }
   ],
   "source": [
    "importlib.reload(mf)"
   ]
  },
  {
   "cell_type": "markdown",
   "metadata": {},
   "source": [
    "# Download the data using r scripts provided by ARCHS4"
   ]
  },
  {
   "cell_type": "code",
   "execution_count": 3,
   "metadata": {
    "collapsed": true
   },
   "outputs": [],
   "source": [
    "import h5py\n",
    "#filename = '/Users/moshesilverstein/Documents/Harmonizome/ARCHS4/Input/Human/Tissue/human_matrix_download.h5'\n",
    "filename = '/Users/moshesilverstein/Documents/Harmonizome/ARCHS4/Input/Human/Tissue/human_matrix.h5'\n",
    "f = h5py.File(filename, 'r')\n",
    "\n",
    "# # List all groups\n",
    "# print(\"Keys: %s\" % list(f.keys()))\n",
    "# a_group_key = f.attrs.keys()"
   ]
  },
  {
   "cell_type": "code",
   "execution_count": 4,
   "metadata": {
    "collapsed": true
   },
   "outputs": [],
   "source": [
    "#list(f['data'].keys())"
   ]
  },
  {
   "cell_type": "code",
   "execution_count": 5,
   "metadata": {
    "collapsed": true
   },
   "outputs": [],
   "source": [
    "#list(f['meta'].keys())"
   ]
  },
  {
   "cell_type": "code",
   "execution_count": 6,
   "metadata": {
    "collapsed": true
   },
   "outputs": [],
   "source": [
    "#test = f['meta/Sample_title'][:].tolist()"
   ]
  },
  {
   "cell_type": "markdown",
   "metadata": {},
   "source": [
    "# Load Data "
   ]
  },
  {
   "cell_type": "code",
   "execution_count": 7,
   "metadata": {
    "collapsed": true
   },
   "outputs": [],
   "source": [
    "matrix = pd.DataFrame(data = f['data/expression'][:,:])"
   ]
  },
  {
   "cell_type": "code",
   "execution_count": 8,
   "metadata": {
    "collapsed": true
   },
   "outputs": [],
   "source": [
    "matrix = matrix.T"
   ]
  },
  {
   "cell_type": "code",
   "execution_count": 9,
   "metadata": {},
   "outputs": [
    {
     "data": {
      "text/html": [
       "<div>\n",
       "<table border=\"1\" class=\"dataframe\">\n",
       "  <thead>\n",
       "    <tr style=\"text-align: right;\">\n",
       "      <th></th>\n",
       "      <th>0</th>\n",
       "      <th>1</th>\n",
       "      <th>2</th>\n",
       "      <th>3</th>\n",
       "      <th>4</th>\n",
       "      <th>5</th>\n",
       "      <th>6</th>\n",
       "      <th>7</th>\n",
       "      <th>8</th>\n",
       "      <th>9</th>\n",
       "      <th>...</th>\n",
       "      <th>51969</th>\n",
       "      <th>51970</th>\n",
       "      <th>51971</th>\n",
       "      <th>51972</th>\n",
       "      <th>51973</th>\n",
       "      <th>51974</th>\n",
       "      <th>51975</th>\n",
       "      <th>51976</th>\n",
       "      <th>51977</th>\n",
       "      <th>51978</th>\n",
       "    </tr>\n",
       "  </thead>\n",
       "  <tbody>\n",
       "    <tr>\n",
       "      <th>0</th>\n",
       "      <td>124</td>\n",
       "      <td>0</td>\n",
       "      <td>0</td>\n",
       "      <td>0</td>\n",
       "      <td>108</td>\n",
       "      <td>0</td>\n",
       "      <td>0</td>\n",
       "      <td>0</td>\n",
       "      <td>0</td>\n",
       "      <td>0</td>\n",
       "      <td>...</td>\n",
       "      <td>160</td>\n",
       "      <td>11</td>\n",
       "      <td>3</td>\n",
       "      <td>28</td>\n",
       "      <td>31</td>\n",
       "      <td>33</td>\n",
       "      <td>70</td>\n",
       "      <td>27</td>\n",
       "      <td>21</td>\n",
       "      <td>85</td>\n",
       "    </tr>\n",
       "    <tr>\n",
       "      <th>1</th>\n",
       "      <td>77</td>\n",
       "      <td>0</td>\n",
       "      <td>0</td>\n",
       "      <td>0</td>\n",
       "      <td>56</td>\n",
       "      <td>0</td>\n",
       "      <td>0</td>\n",
       "      <td>0</td>\n",
       "      <td>0</td>\n",
       "      <td>0</td>\n",
       "      <td>...</td>\n",
       "      <td>7</td>\n",
       "      <td>0</td>\n",
       "      <td>0</td>\n",
       "      <td>1</td>\n",
       "      <td>0</td>\n",
       "      <td>0</td>\n",
       "      <td>4</td>\n",
       "      <td>4</td>\n",
       "      <td>2</td>\n",
       "      <td>0</td>\n",
       "    </tr>\n",
       "    <tr>\n",
       "      <th>2</th>\n",
       "      <td>10743</td>\n",
       "      <td>189</td>\n",
       "      <td>1518</td>\n",
       "      <td>1873</td>\n",
       "      <td>26007</td>\n",
       "      <td>835</td>\n",
       "      <td>1077</td>\n",
       "      <td>12724</td>\n",
       "      <td>545</td>\n",
       "      <td>1100</td>\n",
       "      <td>...</td>\n",
       "      <td>4</td>\n",
       "      <td>0</td>\n",
       "      <td>0</td>\n",
       "      <td>0</td>\n",
       "      <td>0</td>\n",
       "      <td>0</td>\n",
       "      <td>4</td>\n",
       "      <td>0</td>\n",
       "      <td>0</td>\n",
       "      <td>0</td>\n",
       "    </tr>\n",
       "    <tr>\n",
       "      <th>3</th>\n",
       "      <td>28</td>\n",
       "      <td>6</td>\n",
       "      <td>0</td>\n",
       "      <td>0</td>\n",
       "      <td>20</td>\n",
       "      <td>0</td>\n",
       "      <td>0</td>\n",
       "      <td>0</td>\n",
       "      <td>0</td>\n",
       "      <td>0</td>\n",
       "      <td>...</td>\n",
       "      <td>334</td>\n",
       "      <td>3</td>\n",
       "      <td>3</td>\n",
       "      <td>8</td>\n",
       "      <td>24</td>\n",
       "      <td>17</td>\n",
       "      <td>23</td>\n",
       "      <td>10</td>\n",
       "      <td>25</td>\n",
       "      <td>0</td>\n",
       "    </tr>\n",
       "    <tr>\n",
       "      <th>4</th>\n",
       "      <td>119</td>\n",
       "      <td>0</td>\n",
       "      <td>0</td>\n",
       "      <td>0</td>\n",
       "      <td>69</td>\n",
       "      <td>0</td>\n",
       "      <td>0</td>\n",
       "      <td>0</td>\n",
       "      <td>0</td>\n",
       "      <td>0</td>\n",
       "      <td>...</td>\n",
       "      <td>11</td>\n",
       "      <td>0</td>\n",
       "      <td>0</td>\n",
       "      <td>0</td>\n",
       "      <td>0</td>\n",
       "      <td>0</td>\n",
       "      <td>0</td>\n",
       "      <td>0</td>\n",
       "      <td>0</td>\n",
       "      <td>0</td>\n",
       "    </tr>\n",
       "  </tbody>\n",
       "</table>\n",
       "<p>5 rows × 51979 columns</p>\n",
       "</div>"
      ],
      "text/plain": [
       "   0      1      2      3      4      5      6      7      8      9      \\\n",
       "0    124      0      0      0    108      0      0      0      0      0   \n",
       "1     77      0      0      0     56      0      0      0      0      0   \n",
       "2  10743    189   1518   1873  26007    835   1077  12724    545   1100   \n",
       "3     28      6      0      0     20      0      0      0      0      0   \n",
       "4    119      0      0      0     69      0      0      0      0      0   \n",
       "\n",
       "   ...    51969  51970  51971  51972  51973  51974  51975  51976  51977  51978  \n",
       "0  ...      160     11      3     28     31     33     70     27     21     85  \n",
       "1  ...        7      0      0      1      0      0      4      4      2      0  \n",
       "2  ...        4      0      0      0      0      0      4      0      0      0  \n",
       "3  ...      334      3      3      8     24     17     23     10     25      0  \n",
       "4  ...       11      0      0      0      0      0      0      0      0      0  \n",
       "\n",
       "[5 rows x 51979 columns]"
      ]
     },
     "execution_count": 9,
     "metadata": {},
     "output_type": "execute_result"
    }
   ],
   "source": [
    "matrix.head()"
   ]
  },
  {
   "cell_type": "code",
   "execution_count": 10,
   "metadata": {},
   "outputs": [
    {
     "data": {
      "text/plain": [
       "(35238, 51979)"
      ]
     },
     "execution_count": 10,
     "metadata": {},
     "output_type": "execute_result"
    }
   ],
   "source": [
    "matrix.shape"
   ]
  },
  {
   "cell_type": "markdown",
   "metadata": {},
   "source": [
    "# Load Sample Meta Data"
   ]
  },
  {
   "cell_type": "code",
   "execution_count": 11,
   "metadata": {
    "collapsed": true
   },
   "outputs": [],
   "source": [
    "sample_meta = f['meta/tissue'][:].tolist()"
   ]
  },
  {
   "cell_type": "code",
   "execution_count": 12,
   "metadata": {
    "collapsed": true
   },
   "outputs": [],
   "source": [
    "lst = []\n",
    "for sample in sample_meta:\n",
    "    lst.append(sample.decode(\"utf-8\"))\n",
    "\n",
    "sample_meta = lst"
   ]
  },
  {
   "cell_type": "code",
   "execution_count": 13,
   "metadata": {},
   "outputs": [
    {
     "data": {
      "text/plain": [
       "['HeLa ELAVL1/HuR siRNA1 5d',\n",
       " 'brain',\n",
       " 'heart',\n",
       " 'lymph node',\n",
       " 'HeLa mock knockdown 5d',\n",
       " 'ovary',\n",
       " 'kidney',\n",
       " 'liver',\n",
       " 'thyroid',\n",
       " 'breast']"
      ]
     },
     "execution_count": 13,
     "metadata": {},
     "output_type": "execute_result"
    }
   ],
   "source": [
    "sample_meta[0:10]"
   ]
  },
  {
   "cell_type": "markdown",
   "metadata": {},
   "source": [
    "# Get index of Tissue Data"
   ]
  },
  {
   "cell_type": "code",
   "execution_count": 14,
   "metadata": {},
   "outputs": [],
   "source": [
    "tissues = pd.read_excel('/Users/moshesilverstein/Documents/Harmonizome/ARCHS4/Input/Human/Tissue/tissues_expanded.xlsx')"
   ]
  },
  {
   "cell_type": "code",
   "execution_count": 15,
   "metadata": {},
   "outputs": [
    {
     "data": {
      "text/html": [
       "<div>\n",
       "<table border=\"1\" class=\"dataframe\">\n",
       "  <thead>\n",
       "    <tr style=\"text-align: right;\">\n",
       "      <th></th>\n",
       "      <th>cell_type</th>\n",
       "      <th>synonyms</th>\n",
       "      <th>not</th>\n",
       "      <th>exact</th>\n",
       "    </tr>\n",
       "  </thead>\n",
       "  <tbody>\n",
       "    <tr>\n",
       "      <th>0</th>\n",
       "      <td>CARDIAC MUSCLE FIBER</td>\n",
       "      <td>CARDIOMYOCYTE|CARDIAC MUSCLE CELL|CARDIAC MYOCYTE</td>\n",
       "      <td>NaN</td>\n",
       "      <td>NaN</td>\n",
       "    </tr>\n",
       "    <tr>\n",
       "      <th>1</th>\n",
       "      <td>PERICARDIUM</td>\n",
       "      <td>PERICARDIAL SAC</td>\n",
       "      <td>NaN</td>\n",
       "      <td>NaN</td>\n",
       "    </tr>\n",
       "    <tr>\n",
       "      <th>2</th>\n",
       "      <td>VENTRICLE</td>\n",
       "      <td>NaN</td>\n",
       "      <td>NaN</td>\n",
       "      <td>NaN</td>\n",
       "    </tr>\n",
       "    <tr>\n",
       "      <th>3</th>\n",
       "      <td>ATRIUM</td>\n",
       "      <td>ATRIAL TISSUE|CARDIAC ATRIUM</td>\n",
       "      <td>NaN</td>\n",
       "      <td>NaN</td>\n",
       "    </tr>\n",
       "    <tr>\n",
       "      <th>4</th>\n",
       "      <td>VALVE</td>\n",
       "      <td>NaN</td>\n",
       "      <td>NaN</td>\n",
       "      <td>NaN</td>\n",
       "    </tr>\n",
       "    <tr>\n",
       "      <th>5</th>\n",
       "      <td>HEART (BULK TISSUE)</td>\n",
       "      <td>HEART</td>\n",
       "      <td>NaN</td>\n",
       "      <td>NaN</td>\n",
       "    </tr>\n",
       "    <tr>\n",
       "      <th>6</th>\n",
       "      <td>CHONDROCYTE</td>\n",
       "      <td>CARTILAGE CELL</td>\n",
       "      <td>NaN</td>\n",
       "      <td>NaN</td>\n",
       "    </tr>\n",
       "    <tr>\n",
       "      <th>7</th>\n",
       "      <td>PREADIPOCYTE</td>\n",
       "      <td>NaN</td>\n",
       "      <td>NaN</td>\n",
       "      <td>NaN</td>\n",
       "    </tr>\n",
       "    <tr>\n",
       "      <th>8</th>\n",
       "      <td>ADIPOSE (BULK TISSUE)</td>\n",
       "      <td>ADIPOSE TISSUE|ADIPOSE CONTROL</td>\n",
       "      <td>NaN</td>\n",
       "      <td>NaN</td>\n",
       "    </tr>\n",
       "    <tr>\n",
       "      <th>9</th>\n",
       "      <td>BONE MARROW (BULK TISSUE)</td>\n",
       "      <td>BONE MARROW</td>\n",
       "      <td>PLASMA|MONONUCLEAR|MESENCHYMAL</td>\n",
       "      <td>NaN</td>\n",
       "    </tr>\n",
       "    <tr>\n",
       "      <th>10</th>\n",
       "      <td>OSTEOBLAST</td>\n",
       "      <td>NaN</td>\n",
       "      <td>NONBONE</td>\n",
       "      <td>NaN</td>\n",
       "    </tr>\n",
       "    <tr>\n",
       "      <th>11</th>\n",
       "      <td>STROMAL CELL</td>\n",
       "      <td>NaN</td>\n",
       "      <td>ENDOMETRIAL</td>\n",
       "      <td>NaN</td>\n",
       "    </tr>\n",
       "    <tr>\n",
       "      <th>12</th>\n",
       "      <td>BLYMPHOCYTE</td>\n",
       "      <td>B CELL|BCELL|B LYMPHOCYTE</td>\n",
       "      <td>LYMPHOMA|IMMORTALIZED</td>\n",
       "      <td>NaN</td>\n",
       "    </tr>\n",
       "    <tr>\n",
       "      <th>13</th>\n",
       "      <td>TLYMPHOCYTE</td>\n",
       "      <td>T CELL|TCELL|T LYMPHOCYTE|CD4+|CD8+</td>\n",
       "      <td>293T|MYOBLAST|HIFT|JURKAT|KNOCKOUT CELLS|FIBRO...</td>\n",
       "      <td>NaN</td>\n",
       "    </tr>\n",
       "    <tr>\n",
       "      <th>14</th>\n",
       "      <td>PLASMA CELL</td>\n",
       "      <td>PLASMOCYTE|PLASMACYTE</td>\n",
       "      <td>NaN</td>\n",
       "      <td>NaN</td>\n",
       "    </tr>\n",
       "    <tr>\n",
       "      <th>15</th>\n",
       "      <td>PLASMACYTOID DENDRITIC CELL</td>\n",
       "      <td>PDC CELL|IPC CELL|INTERFERONPRODUCING CELL</td>\n",
       "      <td>NaN</td>\n",
       "      <td>NaN</td>\n",
       "    </tr>\n",
       "    <tr>\n",
       "      <th>16</th>\n",
       "      <td>DENDRITIC CELL</td>\n",
       "      <td>RETICULAR CELL|INTERDIGITATING CELL|VEILED CEL...</td>\n",
       "      <td>PLASMACYTOID</td>\n",
       "      <td>NaN</td>\n",
       "    </tr>\n",
       "    <tr>\n",
       "      <th>17</th>\n",
       "      <td>MACROPHAGE</td>\n",
       "      <td>MACROPHAGOCYTE|MONOCYTEDERIVED MACROPHAGE</td>\n",
       "      <td>THP1|H1</td>\n",
       "      <td>NaN</td>\n",
       "    </tr>\n",
       "    <tr>\n",
       "      <th>18</th>\n",
       "      <td>KUPFFER CELL</td>\n",
       "      <td>NaN</td>\n",
       "      <td>NaN</td>\n",
       "      <td>NaN</td>\n",
       "    </tr>\n",
       "    <tr>\n",
       "      <th>19</th>\n",
       "      <td>ALVEOLAR MACROPHAGE</td>\n",
       "      <td>ALVEOLAR PHAGOCYTE|DUST CELL</td>\n",
       "      <td>NaN</td>\n",
       "      <td>NaN</td>\n",
       "    </tr>\n",
       "  </tbody>\n",
       "</table>\n",
       "</div>"
      ],
      "text/plain": [
       "                      cell_type  \\\n",
       "0          CARDIAC MUSCLE FIBER   \n",
       "1                   PERICARDIUM   \n",
       "2                     VENTRICLE   \n",
       "3                        ATRIUM   \n",
       "4                         VALVE   \n",
       "5           HEART (BULK TISSUE)   \n",
       "6                   CHONDROCYTE   \n",
       "7                  PREADIPOCYTE   \n",
       "8         ADIPOSE (BULK TISSUE)   \n",
       "9     BONE MARROW (BULK TISSUE)   \n",
       "10                   OSTEOBLAST   \n",
       "11                 STROMAL CELL   \n",
       "12                  BLYMPHOCYTE   \n",
       "13                  TLYMPHOCYTE   \n",
       "14                  PLASMA CELL   \n",
       "15  PLASMACYTOID DENDRITIC CELL   \n",
       "16               DENDRITIC CELL   \n",
       "17                   MACROPHAGE   \n",
       "18                 KUPFFER CELL   \n",
       "19          ALVEOLAR MACROPHAGE   \n",
       "\n",
       "                                             synonyms  \\\n",
       "0   CARDIOMYOCYTE|CARDIAC MUSCLE CELL|CARDIAC MYOCYTE   \n",
       "1                                     PERICARDIAL SAC   \n",
       "2                                                 NaN   \n",
       "3                        ATRIAL TISSUE|CARDIAC ATRIUM   \n",
       "4                                                 NaN   \n",
       "5                                               HEART   \n",
       "6                                      CARTILAGE CELL   \n",
       "7                                                 NaN   \n",
       "8                      ADIPOSE TISSUE|ADIPOSE CONTROL   \n",
       "9                                         BONE MARROW   \n",
       "10                                                NaN   \n",
       "11                                                NaN   \n",
       "12                          B CELL|BCELL|B LYMPHOCYTE   \n",
       "13                T CELL|TCELL|T LYMPHOCYTE|CD4+|CD8+   \n",
       "14                              PLASMOCYTE|PLASMACYTE   \n",
       "15         PDC CELL|IPC CELL|INTERFERONPRODUCING CELL   \n",
       "16  RETICULAR CELL|INTERDIGITATING CELL|VEILED CEL...   \n",
       "17          MACROPHAGOCYTE|MONOCYTEDERIVED MACROPHAGE   \n",
       "18                                                NaN   \n",
       "19                       ALVEOLAR PHAGOCYTE|DUST CELL   \n",
       "\n",
       "                                                  not exact  \n",
       "0                                                 NaN   NaN  \n",
       "1                                                 NaN   NaN  \n",
       "2                                                 NaN   NaN  \n",
       "3                                                 NaN   NaN  \n",
       "4                                                 NaN   NaN  \n",
       "5                                                 NaN   NaN  \n",
       "6                                                 NaN   NaN  \n",
       "7                                                 NaN   NaN  \n",
       "8                                                 NaN   NaN  \n",
       "9                      PLASMA|MONONUCLEAR|MESENCHYMAL   NaN  \n",
       "10                                            NONBONE   NaN  \n",
       "11                                        ENDOMETRIAL   NaN  \n",
       "12                              LYMPHOMA|IMMORTALIZED   NaN  \n",
       "13  293T|MYOBLAST|HIFT|JURKAT|KNOCKOUT CELLS|FIBRO...   NaN  \n",
       "14                                                NaN   NaN  \n",
       "15                                                NaN   NaN  \n",
       "16                                       PLASMACYTOID   NaN  \n",
       "17                                            THP1|H1   NaN  \n",
       "18                                                NaN   NaN  \n",
       "19                                                NaN   NaN  "
      ]
     },
     "execution_count": 15,
     "metadata": {},
     "output_type": "execute_result"
    }
   ],
   "source": [
    "tissues.head(20)"
   ]
  },
  {
   "cell_type": "code",
   "execution_count": 16,
   "metadata": {},
   "outputs": [
    {
     "data": {
      "text/plain": [
       "(112, 4)"
      ]
     },
     "execution_count": 16,
     "metadata": {},
     "output_type": "execute_result"
    }
   ],
   "source": [
    "tissues.shape"
   ]
  },
  {
   "cell_type": "markdown",
   "metadata": {},
   "source": [
    "# Map Sample Meta Data to Samples"
   ]
  },
  {
   "cell_type": "code",
   "execution_count": 17,
   "metadata": {
    "collapsed": true
   },
   "outputs": [],
   "source": [
    "matrix.columns = sample_meta"
   ]
  },
  {
   "cell_type": "code",
   "execution_count": 18,
   "metadata": {},
   "outputs": [
    {
     "data": {
      "text/html": [
       "<div>\n",
       "<table border=\"1\" class=\"dataframe\">\n",
       "  <thead>\n",
       "    <tr style=\"text-align: right;\">\n",
       "      <th></th>\n",
       "      <th>HeLa ELAVL1/HuR siRNA1 5d</th>\n",
       "      <th>brain</th>\n",
       "      <th>heart</th>\n",
       "      <th>lymph node</th>\n",
       "      <th>HeLa mock knockdown 5d</th>\n",
       "      <th>ovary</th>\n",
       "      <th>kidney</th>\n",
       "      <th>liver</th>\n",
       "      <th>thyroid</th>\n",
       "      <th>breast</th>\n",
       "      <th>...</th>\n",
       "      <th>undifferentiated hESC (H9 line) feeder free</th>\n",
       "      <th>BC05_Single-cell RNA-seq</th>\n",
       "      <th>BC05_Single-cell RNA-seq</th>\n",
       "      <th>BC05_Single-cell RNA-seq</th>\n",
       "      <th>BC05_Single-cell RNA-seq</th>\n",
       "      <th>BC05_Single-cell RNA-seq</th>\n",
       "      <th>BC05_Single-cell RNA-seq</th>\n",
       "      <th>BC05_Single-cell RNA-seq</th>\n",
       "      <th>BC05_Single-cell RNA-seq</th>\n",
       "      <th>BC05_Single-cell RNA-seq</th>\n",
       "    </tr>\n",
       "  </thead>\n",
       "  <tbody>\n",
       "    <tr>\n",
       "      <th>0</th>\n",
       "      <td>124</td>\n",
       "      <td>0</td>\n",
       "      <td>0</td>\n",
       "      <td>0</td>\n",
       "      <td>108</td>\n",
       "      <td>0</td>\n",
       "      <td>0</td>\n",
       "      <td>0</td>\n",
       "      <td>0</td>\n",
       "      <td>0</td>\n",
       "      <td>...</td>\n",
       "      <td>160</td>\n",
       "      <td>11</td>\n",
       "      <td>3</td>\n",
       "      <td>28</td>\n",
       "      <td>31</td>\n",
       "      <td>33</td>\n",
       "      <td>70</td>\n",
       "      <td>27</td>\n",
       "      <td>21</td>\n",
       "      <td>85</td>\n",
       "    </tr>\n",
       "    <tr>\n",
       "      <th>1</th>\n",
       "      <td>77</td>\n",
       "      <td>0</td>\n",
       "      <td>0</td>\n",
       "      <td>0</td>\n",
       "      <td>56</td>\n",
       "      <td>0</td>\n",
       "      <td>0</td>\n",
       "      <td>0</td>\n",
       "      <td>0</td>\n",
       "      <td>0</td>\n",
       "      <td>...</td>\n",
       "      <td>7</td>\n",
       "      <td>0</td>\n",
       "      <td>0</td>\n",
       "      <td>1</td>\n",
       "      <td>0</td>\n",
       "      <td>0</td>\n",
       "      <td>4</td>\n",
       "      <td>4</td>\n",
       "      <td>2</td>\n",
       "      <td>0</td>\n",
       "    </tr>\n",
       "    <tr>\n",
       "      <th>2</th>\n",
       "      <td>10743</td>\n",
       "      <td>189</td>\n",
       "      <td>1518</td>\n",
       "      <td>1873</td>\n",
       "      <td>26007</td>\n",
       "      <td>835</td>\n",
       "      <td>1077</td>\n",
       "      <td>12724</td>\n",
       "      <td>545</td>\n",
       "      <td>1100</td>\n",
       "      <td>...</td>\n",
       "      <td>4</td>\n",
       "      <td>0</td>\n",
       "      <td>0</td>\n",
       "      <td>0</td>\n",
       "      <td>0</td>\n",
       "      <td>0</td>\n",
       "      <td>4</td>\n",
       "      <td>0</td>\n",
       "      <td>0</td>\n",
       "      <td>0</td>\n",
       "    </tr>\n",
       "    <tr>\n",
       "      <th>3</th>\n",
       "      <td>28</td>\n",
       "      <td>6</td>\n",
       "      <td>0</td>\n",
       "      <td>0</td>\n",
       "      <td>20</td>\n",
       "      <td>0</td>\n",
       "      <td>0</td>\n",
       "      <td>0</td>\n",
       "      <td>0</td>\n",
       "      <td>0</td>\n",
       "      <td>...</td>\n",
       "      <td>334</td>\n",
       "      <td>3</td>\n",
       "      <td>3</td>\n",
       "      <td>8</td>\n",
       "      <td>24</td>\n",
       "      <td>17</td>\n",
       "      <td>23</td>\n",
       "      <td>10</td>\n",
       "      <td>25</td>\n",
       "      <td>0</td>\n",
       "    </tr>\n",
       "    <tr>\n",
       "      <th>4</th>\n",
       "      <td>119</td>\n",
       "      <td>0</td>\n",
       "      <td>0</td>\n",
       "      <td>0</td>\n",
       "      <td>69</td>\n",
       "      <td>0</td>\n",
       "      <td>0</td>\n",
       "      <td>0</td>\n",
       "      <td>0</td>\n",
       "      <td>0</td>\n",
       "      <td>...</td>\n",
       "      <td>11</td>\n",
       "      <td>0</td>\n",
       "      <td>0</td>\n",
       "      <td>0</td>\n",
       "      <td>0</td>\n",
       "      <td>0</td>\n",
       "      <td>0</td>\n",
       "      <td>0</td>\n",
       "      <td>0</td>\n",
       "      <td>0</td>\n",
       "    </tr>\n",
       "  </tbody>\n",
       "</table>\n",
       "<p>5 rows × 51979 columns</p>\n",
       "</div>"
      ],
      "text/plain": [
       "   HeLa ELAVL1/HuR siRNA1 5d  brain  heart  lymph node  \\\n",
       "0                        124      0      0           0   \n",
       "1                         77      0      0           0   \n",
       "2                      10743    189   1518        1873   \n",
       "3                         28      6      0           0   \n",
       "4                        119      0      0           0   \n",
       "\n",
       "   HeLa mock knockdown 5d  ovary  kidney  liver  thyroid  breast  \\\n",
       "0                     108      0       0      0        0       0   \n",
       "1                      56      0       0      0        0       0   \n",
       "2                   26007    835    1077  12724      545    1100   \n",
       "3                      20      0       0      0        0       0   \n",
       "4                      69      0       0      0        0       0   \n",
       "\n",
       "             ...             undifferentiated hESC (H9 line) feeder free  \\\n",
       "0            ...                                                     160   \n",
       "1            ...                                                       7   \n",
       "2            ...                                                       4   \n",
       "3            ...                                                     334   \n",
       "4            ...                                                      11   \n",
       "\n",
       "   BC05_Single-cell RNA-seq  BC05_Single-cell RNA-seq  \\\n",
       "0                        11                         3   \n",
       "1                         0                         0   \n",
       "2                         0                         0   \n",
       "3                         3                         3   \n",
       "4                         0                         0   \n",
       "\n",
       "   BC05_Single-cell RNA-seq  BC05_Single-cell RNA-seq  \\\n",
       "0                        28                        31   \n",
       "1                         1                         0   \n",
       "2                         0                         0   \n",
       "3                         8                        24   \n",
       "4                         0                         0   \n",
       "\n",
       "   BC05_Single-cell RNA-seq  BC05_Single-cell RNA-seq  \\\n",
       "0                        33                        70   \n",
       "1                         0                         4   \n",
       "2                         0                         4   \n",
       "3                        17                        23   \n",
       "4                         0                         0   \n",
       "\n",
       "   BC05_Single-cell RNA-seq  BC05_Single-cell RNA-seq  \\\n",
       "0                        27                        21   \n",
       "1                         4                         2   \n",
       "2                         0                         0   \n",
       "3                        10                        25   \n",
       "4                         0                         0   \n",
       "\n",
       "   BC05_Single-cell RNA-seq  \n",
       "0                        85  \n",
       "1                         0  \n",
       "2                         0  \n",
       "3                         0  \n",
       "4                         0  \n",
       "\n",
       "[5 rows x 51979 columns]"
      ]
     },
     "execution_count": 18,
     "metadata": {},
     "output_type": "execute_result"
    }
   ],
   "source": [
    "matrix.head()"
   ]
  },
  {
   "cell_type": "markdown",
   "metadata": {},
   "source": [
    "### Create list of tissue sample locations within matrix"
   ]
  },
  {
   "cell_type": "code",
   "execution_count": 19,
   "metadata": {},
   "outputs": [
    {
     "name": "stdout",
     "output_type": "stream",
     "text": [
      "Progress: 100%  51979 Out of 51979   \r"
     ]
    }
   ],
   "source": [
    "tissue_loc_list = []\n",
    "tissue_list = []\n",
    "\n",
    "\n",
    "for i,sample in enumerate(matrix.columns):\n",
    "    \n",
    "    progressPercent = ((i+1)/len(matrix.columns))*100\n",
    "\n",
    "    sys.stdout.write(\"Progress: %d%%  %d Out of %d   \\r\" % (progressPercent, (i+1), len(matrix.columns)))\n",
    "    sys.stdout.flush()\n",
    "    \n",
    "    \n",
    "    \n",
    "    for index in tissues.index:\n",
    "        \n",
    "        if type(tissues.ix[index,'exact']) != float and sample.lower() == tissues.ix[index,'exact'].lower():\n",
    "                tissue_loc_list.append(i)\n",
    "                tissue_list.append(tissues.ix[index,'cell_type'])\n",
    "        \n",
    "        elif re.search(tissues.ix[index,'cell_type'].lower(), sample.lower()):\n",
    "            if type(tissues.ix[index,'not']) != float:\n",
    "                excludes = tissues.ix[index,'not'].split('|')\n",
    "                for bad_term in excludes:\n",
    "                    if re.search(bad_term.lower(), sample.lower()):\n",
    "                        break\n",
    "                    elif bad_term == excludes[-1]:\n",
    "                        tissue_loc_list.append(i)\n",
    "                        tissue_list.append(tissues.ix[index,'cell_type'])\n",
    "            else:\n",
    "                tissue_loc_list.append(i)\n",
    "                tissue_list.append(tissues.ix[index,'cell_type'])\n",
    "\n",
    "        else:\n",
    "            if type(tissues.ix[index,'synonyms']) != float:\n",
    "                for synonym in tissues.ix[index,'synonyms'].split('|'):\n",
    "                    if re.search(synonym.lower(), sample.lower()):\n",
    "                        if type(tissues.ix[index,'not']) != float:\n",
    "                            excludes = tissues.ix[index,'not'].split('|')\n",
    "                            for bad_term in excludes:\n",
    "                                if re.search(bad_term.lower(), sample.lower()):\n",
    "                                    break\n",
    "                                elif bad_term == excludes[-1]:\n",
    "                                    tissue_loc_list.append(i)\n",
    "                                    tissue_list.append(tissues.ix[index,'cell_type'])\n",
    "                        else:\n",
    "                            tissue_loc_list.append(i)\n",
    "                            tissue_list.append(tissues.ix[index,'cell_type'])"
   ]
  },
  {
   "cell_type": "code",
   "execution_count": 20,
   "metadata": {},
   "outputs": [
    {
     "data": {
      "text/plain": [
       "19020"
      ]
     },
     "execution_count": 20,
     "metadata": {},
     "output_type": "execute_result"
    }
   ],
   "source": [
    "len(tissue_loc_list)"
   ]
  },
  {
   "cell_type": "code",
   "execution_count": 21,
   "metadata": {},
   "outputs": [
    {
     "data": {
      "text/plain": [
       "19020"
      ]
     },
     "execution_count": 21,
     "metadata": {},
     "output_type": "execute_result"
    }
   ],
   "source": [
    "len(tissue_list)"
   ]
  },
  {
   "cell_type": "code",
   "execution_count": 22,
   "metadata": {},
   "outputs": [
    {
     "data": {
      "text/plain": [
       "108"
      ]
     },
     "execution_count": 22,
     "metadata": {},
     "output_type": "execute_result"
    }
   ],
   "source": [
    "len(set(tissue_list))"
   ]
  },
  {
   "cell_type": "code",
   "execution_count": 23,
   "metadata": {},
   "outputs": [
    {
     "data": {
      "text/plain": [
       "[1, 2, 5, 6, 7, 8, 18, 20, 21, 22]"
      ]
     },
     "execution_count": 23,
     "metadata": {},
     "output_type": "execute_result"
    }
   ],
   "source": [
    "tissue_loc_list[0:10]"
   ]
  },
  {
   "cell_type": "code",
   "execution_count": 24,
   "metadata": {},
   "outputs": [
    {
     "data": {
      "text/plain": [
       "['BRAIN (BULK)',\n",
       " 'HEART (BULK TISSUE)',\n",
       " 'OVARY (BULK TISSUE)',\n",
       " 'KIDNEY (BULK TISSUE)',\n",
       " 'LIVER (BULK TISSUE)',\n",
       " 'THYROID (BULK TISSUE)',\n",
       " 'SKELETAL MUSCLE (BULK TISSUE)',\n",
       " 'ADRENAL GLAND',\n",
       " 'LUNG (BULK TISSUE)',\n",
       " 'BLASTOCYST']"
      ]
     },
     "execution_count": 24,
     "metadata": {},
     "output_type": "execute_result"
    }
   ],
   "source": [
    "tissue_list[0:10]"
   ]
  },
  {
   "cell_type": "code",
   "execution_count": 25,
   "metadata": {},
   "outputs": [
    {
     "name": "stdout",
     "output_type": "stream",
     "text": [
      "BCELL PRECURSOR\n",
      "BLOOD PRECDCS\n",
      "CD8+ T CELL\n",
      "PLACENTA VILLOUS TISSUE\n"
     ]
    }
   ],
   "source": [
    "for tissue in tissues['cell_type']:\n",
    "    if tissue not in tissue_list:\n",
    "        print(tissue)"
   ]
  },
  {
   "cell_type": "code",
   "execution_count": 26,
   "metadata": {
    "collapsed": true
   },
   "outputs": [],
   "source": [
    "matrix_tissue = matrix[tissue_loc_list].copy()"
   ]
  },
  {
   "cell_type": "code",
   "execution_count": 27,
   "metadata": {
    "collapsed": true
   },
   "outputs": [],
   "source": [
    "matrix_tissue.columns = tissue_list"
   ]
  },
  {
   "cell_type": "code",
   "execution_count": 28,
   "metadata": {},
   "outputs": [
    {
     "data": {
      "text/plain": [
       "(35238, 19020)"
      ]
     },
     "execution_count": 28,
     "metadata": {},
     "output_type": "execute_result"
    }
   ],
   "source": [
    "matrix_tissue.shape"
   ]
  },
  {
   "cell_type": "code",
   "execution_count": 29,
   "metadata": {},
   "outputs": [],
   "source": [
    "matrix_tissue = mf.merge(matrix_tissue, 'column', 'mean')"
   ]
  },
  {
   "cell_type": "code",
   "execution_count": 30,
   "metadata": {},
   "outputs": [
    {
     "data": {
      "text/html": [
       "<div>\n",
       "<table border=\"1\" class=\"dataframe\">\n",
       "  <thead>\n",
       "    <tr style=\"text-align: right;\">\n",
       "      <th></th>\n",
       "      <th>ADIPOSE (BULK TISSUE)</th>\n",
       "      <th>ADRENAL GLAND</th>\n",
       "      <th>ALPHA CELL</th>\n",
       "      <th>ALVEOLAR CELL TYPE II</th>\n",
       "      <th>ALVEOLAR MACROPHAGE</th>\n",
       "      <th>AMNIOTIC FLUID</th>\n",
       "      <th>ASTROCYTE</th>\n",
       "      <th>ATRIUM</th>\n",
       "      <th>BASAL CELL</th>\n",
       "      <th>BETA CELL</th>\n",
       "      <th>...</th>\n",
       "      <th>SUPERIOR FRONTAL GYRUS</th>\n",
       "      <th>TESTIS (BULK TISSUE)</th>\n",
       "      <th>THYMUS (BULK TISSUE)</th>\n",
       "      <th>THYROID (BULK TISSUE)</th>\n",
       "      <th>TLYMPHOCYTE</th>\n",
       "      <th>TRACHEA (BULK TISSUE)</th>\n",
       "      <th>VALVE</th>\n",
       "      <th>VASCULAR SMOOTH MUSCLE</th>\n",
       "      <th>VENTRICLE</th>\n",
       "      <th>WHARTONS JELLY</th>\n",
       "    </tr>\n",
       "  </thead>\n",
       "  <tbody>\n",
       "    <tr>\n",
       "      <th>0</th>\n",
       "      <td>95.740458</td>\n",
       "      <td>199.30</td>\n",
       "      <td>294.846154</td>\n",
       "      <td>542.5</td>\n",
       "      <td>328.5</td>\n",
       "      <td>35.761905</td>\n",
       "      <td>492.454545</td>\n",
       "      <td>408.857143</td>\n",
       "      <td>110.793103</td>\n",
       "      <td>208.157895</td>\n",
       "      <td>...</td>\n",
       "      <td>72.529412</td>\n",
       "      <td>702.5</td>\n",
       "      <td>1241.222222</td>\n",
       "      <td>216.865079</td>\n",
       "      <td>110.780170</td>\n",
       "      <td>621.333333</td>\n",
       "      <td>272.844444</td>\n",
       "      <td>391.750</td>\n",
       "      <td>45.971429</td>\n",
       "      <td>214.00</td>\n",
       "    </tr>\n",
       "    <tr>\n",
       "      <th>1</th>\n",
       "      <td>10.885496</td>\n",
       "      <td>68.10</td>\n",
       "      <td>2148.538462</td>\n",
       "      <td>108.0</td>\n",
       "      <td>49.5</td>\n",
       "      <td>187.619048</td>\n",
       "      <td>6.363636</td>\n",
       "      <td>13.000000</td>\n",
       "      <td>14.551724</td>\n",
       "      <td>683.421053</td>\n",
       "      <td>...</td>\n",
       "      <td>1.029412</td>\n",
       "      <td>140.5</td>\n",
       "      <td>58.333333</td>\n",
       "      <td>14.738095</td>\n",
       "      <td>4.646470</td>\n",
       "      <td>31.333333</td>\n",
       "      <td>0.222222</td>\n",
       "      <td>2.750</td>\n",
       "      <td>4.238095</td>\n",
       "      <td>10.50</td>\n",
       "    </tr>\n",
       "    <tr>\n",
       "      <th>2</th>\n",
       "      <td>32161.129771</td>\n",
       "      <td>17544.95</td>\n",
       "      <td>171.538462</td>\n",
       "      <td>71.0</td>\n",
       "      <td>8844.5</td>\n",
       "      <td>171.095238</td>\n",
       "      <td>1600.363636</td>\n",
       "      <td>14982.714286</td>\n",
       "      <td>150.586207</td>\n",
       "      <td>229.052632</td>\n",
       "      <td>...</td>\n",
       "      <td>1493.294118</td>\n",
       "      <td>7402.0</td>\n",
       "      <td>13944.333333</td>\n",
       "      <td>7449.547619</td>\n",
       "      <td>150.744116</td>\n",
       "      <td>4345.500000</td>\n",
       "      <td>8936.711111</td>\n",
       "      <td>1695.375</td>\n",
       "      <td>11068.904762</td>\n",
       "      <td>2.30</td>\n",
       "    </tr>\n",
       "    <tr>\n",
       "      <th>3</th>\n",
       "      <td>12.587786</td>\n",
       "      <td>69.05</td>\n",
       "      <td>50.615385</td>\n",
       "      <td>276.5</td>\n",
       "      <td>22.0</td>\n",
       "      <td>9683.666667</td>\n",
       "      <td>17.181818</td>\n",
       "      <td>36.571429</td>\n",
       "      <td>1921.068966</td>\n",
       "      <td>32.368421</td>\n",
       "      <td>...</td>\n",
       "      <td>34.676471</td>\n",
       "      <td>2479.0</td>\n",
       "      <td>2875.111111</td>\n",
       "      <td>36.341270</td>\n",
       "      <td>12.500751</td>\n",
       "      <td>5205.000000</td>\n",
       "      <td>11.066667</td>\n",
       "      <td>24.625</td>\n",
       "      <td>10.104762</td>\n",
       "      <td>21.55</td>\n",
       "    </tr>\n",
       "    <tr>\n",
       "      <th>4</th>\n",
       "      <td>84.725191</td>\n",
       "      <td>72.00</td>\n",
       "      <td>4.384615</td>\n",
       "      <td>56.5</td>\n",
       "      <td>54.5</td>\n",
       "      <td>3.904762</td>\n",
       "      <td>2.090909</td>\n",
       "      <td>34.142857</td>\n",
       "      <td>1.896552</td>\n",
       "      <td>2.789474</td>\n",
       "      <td>...</td>\n",
       "      <td>11.588235</td>\n",
       "      <td>138.5</td>\n",
       "      <td>203.111111</td>\n",
       "      <td>23.595238</td>\n",
       "      <td>29.155734</td>\n",
       "      <td>136.333333</td>\n",
       "      <td>10.555556</td>\n",
       "      <td>2.625</td>\n",
       "      <td>26.304762</td>\n",
       "      <td>1.30</td>\n",
       "    </tr>\n",
       "  </tbody>\n",
       "</table>\n",
       "<p>5 rows × 108 columns</p>\n",
       "</div>"
      ],
      "text/plain": [
       "   ADIPOSE (BULK TISSUE)  ADRENAL GLAND   ALPHA CELL  ALVEOLAR CELL TYPE II  \\\n",
       "0              95.740458         199.30   294.846154                  542.5   \n",
       "1              10.885496          68.10  2148.538462                  108.0   \n",
       "2           32161.129771       17544.95   171.538462                   71.0   \n",
       "3              12.587786          69.05    50.615385                  276.5   \n",
       "4              84.725191          72.00     4.384615                   56.5   \n",
       "\n",
       "   ALVEOLAR MACROPHAGE  AMNIOTIC FLUID    ASTROCYTE        ATRIUM  \\\n",
       "0                328.5       35.761905   492.454545    408.857143   \n",
       "1                 49.5      187.619048     6.363636     13.000000   \n",
       "2               8844.5      171.095238  1600.363636  14982.714286   \n",
       "3                 22.0     9683.666667    17.181818     36.571429   \n",
       "4                 54.5        3.904762     2.090909     34.142857   \n",
       "\n",
       "    BASAL CELL   BETA CELL       ...        SUPERIOR FRONTAL GYRUS  \\\n",
       "0   110.793103  208.157895       ...                     72.529412   \n",
       "1    14.551724  683.421053       ...                      1.029412   \n",
       "2   150.586207  229.052632       ...                   1493.294118   \n",
       "3  1921.068966   32.368421       ...                     34.676471   \n",
       "4     1.896552    2.789474       ...                     11.588235   \n",
       "\n",
       "   TESTIS (BULK TISSUE)  THYMUS (BULK TISSUE)  THYROID (BULK TISSUE)  \\\n",
       "0                 702.5           1241.222222             216.865079   \n",
       "1                 140.5             58.333333              14.738095   \n",
       "2                7402.0          13944.333333            7449.547619   \n",
       "3                2479.0           2875.111111              36.341270   \n",
       "4                 138.5            203.111111              23.595238   \n",
       "\n",
       "   TLYMPHOCYTE  TRACHEA (BULK TISSUE)        VALVE  VASCULAR SMOOTH MUSCLE  \\\n",
       "0   110.780170             621.333333   272.844444                 391.750   \n",
       "1     4.646470              31.333333     0.222222                   2.750   \n",
       "2   150.744116            4345.500000  8936.711111                1695.375   \n",
       "3    12.500751            5205.000000    11.066667                  24.625   \n",
       "4    29.155734             136.333333    10.555556                   2.625   \n",
       "\n",
       "      VENTRICLE  WHARTONS JELLY  \n",
       "0     45.971429          214.00  \n",
       "1      4.238095           10.50  \n",
       "2  11068.904762            2.30  \n",
       "3     10.104762           21.55  \n",
       "4     26.304762            1.30  \n",
       "\n",
       "[5 rows x 108 columns]"
      ]
     },
     "execution_count": 30,
     "metadata": {},
     "output_type": "execute_result"
    }
   ],
   "source": [
    "matrix_tissue.head()"
   ]
  },
  {
   "cell_type": "code",
   "execution_count": 31,
   "metadata": {},
   "outputs": [
    {
     "data": {
      "text/plain": [
       "(35238, 108)"
      ]
     },
     "execution_count": 31,
     "metadata": {},
     "output_type": "execute_result"
    }
   ],
   "source": [
    "matrix_tissue.shape"
   ]
  },
  {
   "cell_type": "markdown",
   "metadata": {},
   "source": [
    "# Get Celline Data"
   ]
  },
  {
   "cell_type": "code",
   "execution_count": 32,
   "metadata": {},
   "outputs": [],
   "source": [
    "human_celline = pd.read_csv('/Users/moshesilverstein/Documents/Harmonizome/ARCHS4/Input/Human/Cell_Lines/human_cell_lines.txt', sep='\\t')"
   ]
  },
  {
   "cell_type": "code",
   "execution_count": 33,
   "metadata": {},
   "outputs": [
    {
     "data": {
      "text/html": [
       "<div>\n",
       "<table border=\"1\" class=\"dataframe\">\n",
       "  <thead>\n",
       "    <tr style=\"text-align: right;\">\n",
       "      <th></th>\n",
       "      <th>cell_line</th>\n",
       "      <th>species</th>\n",
       "      <th>tissue</th>\n",
       "      <th>num_hits</th>\n",
       "    </tr>\n",
       "  </thead>\n",
       "  <tbody>\n",
       "    <tr>\n",
       "      <th>0</th>\n",
       "      <td>K562</td>\n",
       "      <td>Human</td>\n",
       "      <td>Bone marrow</td>\n",
       "      <td>729.0</td>\n",
       "    </tr>\n",
       "    <tr>\n",
       "      <th>1</th>\n",
       "      <td>HELA</td>\n",
       "      <td>Human</td>\n",
       "      <td>Cervix</td>\n",
       "      <td>588.0</td>\n",
       "    </tr>\n",
       "    <tr>\n",
       "      <th>2</th>\n",
       "      <td>HEPG2</td>\n",
       "      <td>Human</td>\n",
       "      <td>Liver</td>\n",
       "      <td>552.0</td>\n",
       "    </tr>\n",
       "    <tr>\n",
       "      <th>3</th>\n",
       "      <td>HEK293</td>\n",
       "      <td>Human</td>\n",
       "      <td>Kidney</td>\n",
       "      <td>533.0</td>\n",
       "    </tr>\n",
       "    <tr>\n",
       "      <th>4</th>\n",
       "      <td>MCF7</td>\n",
       "      <td>Human</td>\n",
       "      <td>Breast/Mammary</td>\n",
       "      <td>377.0</td>\n",
       "    </tr>\n",
       "  </tbody>\n",
       "</table>\n",
       "</div>"
      ],
      "text/plain": [
       "  cell_line species          tissue  num_hits\n",
       "0      K562   Human     Bone marrow     729.0\n",
       "1      HELA   Human          Cervix     588.0\n",
       "2     HEPG2   Human           Liver     552.0\n",
       "3    HEK293   Human          Kidney     533.0\n",
       "4      MCF7   Human  Breast/Mammary     377.0"
      ]
     },
     "execution_count": 33,
     "metadata": {},
     "output_type": "execute_result"
    }
   ],
   "source": [
    "human_celline.head()"
   ]
  },
  {
   "cell_type": "code",
   "execution_count": 34,
   "metadata": {},
   "outputs": [
    {
     "data": {
      "text/plain": [
       "(228, 4)"
      ]
     },
     "execution_count": 34,
     "metadata": {},
     "output_type": "execute_result"
    }
   ],
   "source": [
    "human_celline.shape"
   ]
  },
  {
   "cell_type": "code",
   "execution_count": 35,
   "metadata": {
    "collapsed": true
   },
   "outputs": [],
   "source": [
    "ccle_celline = pd.read_csv('/Users/moshesilverstein/Documents/Harmonizome/ARCHS4/Input/Human/Cell_Lines/CCLE_cell_lines.txt', sep='\\t')"
   ]
  },
  {
   "cell_type": "code",
   "execution_count": 36,
   "metadata": {},
   "outputs": [
    {
     "data": {
      "text/html": [
       "<div>\n",
       "<table border=\"1\" class=\"dataframe\">\n",
       "  <thead>\n",
       "    <tr style=\"text-align: right;\">\n",
       "      <th></th>\n",
       "      <th>cell_line</th>\n",
       "      <th>tissue</th>\n",
       "      <th>num_hits</th>\n",
       "    </tr>\n",
       "  </thead>\n",
       "  <tbody>\n",
       "    <tr>\n",
       "      <th>0</th>\n",
       "      <td>K562</td>\n",
       "      <td>haematopoietic_and_lymphoid_tissue</td>\n",
       "      <td>729</td>\n",
       "    </tr>\n",
       "    <tr>\n",
       "      <th>1</th>\n",
       "      <td>MCF7</td>\n",
       "      <td>breast</td>\n",
       "      <td>377</td>\n",
       "    </tr>\n",
       "    <tr>\n",
       "      <th>2</th>\n",
       "      <td>HN</td>\n",
       "      <td>upper_aerodigestive_tract</td>\n",
       "      <td>225</td>\n",
       "    </tr>\n",
       "    <tr>\n",
       "      <th>3</th>\n",
       "      <td>HT29</td>\n",
       "      <td>large_intestine</td>\n",
       "      <td>101</td>\n",
       "    </tr>\n",
       "    <tr>\n",
       "      <th>4</th>\n",
       "      <td>MDAMB231</td>\n",
       "      <td>breast</td>\n",
       "      <td>101</td>\n",
       "    </tr>\n",
       "  </tbody>\n",
       "</table>\n",
       "</div>"
      ],
      "text/plain": [
       "  cell_line                              tissue  num_hits\n",
       "0      K562  haematopoietic_and_lymphoid_tissue       729\n",
       "1      MCF7                              breast       377\n",
       "2        HN           upper_aerodigestive_tract       225\n",
       "3      HT29                     large_intestine       101\n",
       "4  MDAMB231                              breast       101"
      ]
     },
     "execution_count": 36,
     "metadata": {},
     "output_type": "execute_result"
    }
   ],
   "source": [
    "ccle_celline.head()"
   ]
  },
  {
   "cell_type": "code",
   "execution_count": 37,
   "metadata": {},
   "outputs": [
    {
     "data": {
      "text/plain": [
       "(109, 3)"
      ]
     },
     "execution_count": 37,
     "metadata": {},
     "output_type": "execute_result"
    }
   ],
   "source": [
    "ccle_celline.shape"
   ]
  },
  {
   "cell_type": "code",
   "execution_count": 38,
   "metadata": {
    "collapsed": true
   },
   "outputs": [],
   "source": [
    "list_of_cellines = list(set(human_celline['cell_line'].values.tolist()+ccle_celline['cell_line'].values.tolist()))"
   ]
  },
  {
   "cell_type": "code",
   "execution_count": 39,
   "metadata": {},
   "outputs": [
    {
     "data": {
      "text/plain": [
       "['COLO205',\n",
       " 'REH',\n",
       " 'TF1 CELL',\n",
       " 'U698',\n",
       " 'KYSE510',\n",
       " 'HUH7',\n",
       " 'EBC1',\n",
       " '293S',\n",
       " 'SUPT1',\n",
       " 'HEP3B']"
      ]
     },
     "execution_count": 39,
     "metadata": {},
     "output_type": "execute_result"
    }
   ],
   "source": [
    "list_of_cellines[0:10]"
   ]
  },
  {
   "cell_type": "code",
   "execution_count": 40,
   "metadata": {},
   "outputs": [
    {
     "data": {
      "text/plain": [
       "296"
      ]
     },
     "execution_count": 40,
     "metadata": {},
     "output_type": "execute_result"
    }
   ],
   "source": [
    "len(list_of_cellines)"
   ]
  },
  {
   "cell_type": "markdown",
   "metadata": {},
   "source": [
    "### Create list of Cell Line sample locations within matrix"
   ]
  },
  {
   "cell_type": "code",
   "execution_count": 41,
   "metadata": {},
   "outputs": [
    {
     "name": "stdout",
     "output_type": "stream",
     "text": [
      "Progress: 100%  51979 Out of 51979   \r"
     ]
    }
   ],
   "source": [
    "celline_loc_list = []\n",
    "celline_list = []\n",
    "\n",
    "\n",
    "for i,sample in enumerate(matrix.columns):\n",
    "    \n",
    "    progressPercent = ((i+1)/len(matrix.columns))*100\n",
    "\n",
    "    sys.stdout.write(\"Progress: %d%%  %d Out of %d   \\r\" % (progressPercent, (i+1), len(matrix.columns)))\n",
    "    sys.stdout.flush()\n",
    "    \n",
    "    for celline in list_of_cellines:\n",
    "        if re.search(celline.lower(), sample.lower()):\n",
    "            celline_loc_list.append(i)\n",
    "            celline_list.append(celline)"
   ]
  },
  {
   "cell_type": "code",
   "execution_count": 42,
   "metadata": {},
   "outputs": [
    {
     "data": {
      "text/plain": [
       "5128"
      ]
     },
     "execution_count": 42,
     "metadata": {},
     "output_type": "execute_result"
    }
   ],
   "source": [
    "len(celline_loc_list)"
   ]
  },
  {
   "cell_type": "code",
   "execution_count": 43,
   "metadata": {},
   "outputs": [
    {
     "data": {
      "text/plain": [
       "5128"
      ]
     },
     "execution_count": 43,
     "metadata": {},
     "output_type": "execute_result"
    }
   ],
   "source": [
    "len(celline_list)"
   ]
  },
  {
   "cell_type": "code",
   "execution_count": 44,
   "metadata": {},
   "outputs": [
    {
     "data": {
      "text/plain": [
       "[0, 4, 14, 32, 40, 47, 52, 56, 65, 67]"
      ]
     },
     "execution_count": 44,
     "metadata": {},
     "output_type": "execute_result"
    }
   ],
   "source": [
    "celline_loc_list[0:10]"
   ]
  },
  {
   "cell_type": "code",
   "execution_count": 45,
   "metadata": {},
   "outputs": [
    {
     "data": {
      "text/plain": [
       "['HELA',\n",
       " 'HELA',\n",
       " 'HELA',\n",
       " 'HELA',\n",
       " 'HELA',\n",
       " 'HCT116',\n",
       " 'HEK293',\n",
       " 'LNCAP',\n",
       " 'HCT116',\n",
       " 'NTERA2']"
      ]
     },
     "execution_count": 45,
     "metadata": {},
     "output_type": "execute_result"
    }
   ],
   "source": [
    "celline_list[0:10]"
   ]
  },
  {
   "cell_type": "code",
   "execution_count": 46,
   "metadata": {},
   "outputs": [
    {
     "data": {
      "text/plain": [
       "117"
      ]
     },
     "execution_count": 46,
     "metadata": {},
     "output_type": "execute_result"
    }
   ],
   "source": [
    "len(set(celline_list))"
   ]
  },
  {
   "cell_type": "code",
   "execution_count": 47,
   "metadata": {
    "collapsed": true
   },
   "outputs": [],
   "source": [
    "matrix_celline = matrix[celline_loc_list].copy()"
   ]
  },
  {
   "cell_type": "code",
   "execution_count": 48,
   "metadata": {
    "collapsed": true
   },
   "outputs": [],
   "source": [
    "matrix_celline.columns = celline_list"
   ]
  },
  {
   "cell_type": "code",
   "execution_count": 49,
   "metadata": {},
   "outputs": [
    {
     "data": {
      "text/plain": [
       "(35238, 5128)"
      ]
     },
     "execution_count": 49,
     "metadata": {},
     "output_type": "execute_result"
    }
   ],
   "source": [
    "matrix_celline.shape"
   ]
  },
  {
   "cell_type": "code",
   "execution_count": 50,
   "metadata": {
    "collapsed": true
   },
   "outputs": [],
   "source": [
    "matrix_celline = mf.merge(matrix_celline, 'column', 'mean')"
   ]
  },
  {
   "cell_type": "code",
   "execution_count": 51,
   "metadata": {},
   "outputs": [
    {
     "data": {
      "text/html": [
       "<div>\n",
       "<table border=\"1\" class=\"dataframe\">\n",
       "  <thead>\n",
       "    <tr style=\"text-align: right;\">\n",
       "      <th></th>\n",
       "      <th>22RV1</th>\n",
       "      <th>293F</th>\n",
       "      <th>A172</th>\n",
       "      <th>A375</th>\n",
       "      <th>A431</th>\n",
       "      <th>A549</th>\n",
       "      <th>A673</th>\n",
       "      <th>ASPC1</th>\n",
       "      <th>BEAS2B</th>\n",
       "      <th>BEWO</th>\n",
       "      <th>...</th>\n",
       "      <th>SUPT1</th>\n",
       "      <th>T24</th>\n",
       "      <th>T47D</th>\n",
       "      <th>T84</th>\n",
       "      <th>T98G</th>\n",
       "      <th>THP1</th>\n",
       "      <th>U87</th>\n",
       "      <th>U937</th>\n",
       "      <th>VCAP</th>\n",
       "      <th>WSUDLCL2</th>\n",
       "    </tr>\n",
       "  </thead>\n",
       "  <tbody>\n",
       "    <tr>\n",
       "      <th>0</th>\n",
       "      <td>320.181818</td>\n",
       "      <td>143.314286</td>\n",
       "      <td>689.333333</td>\n",
       "      <td>174.672131</td>\n",
       "      <td>131.909091</td>\n",
       "      <td>169.885714</td>\n",
       "      <td>312.322581</td>\n",
       "      <td>90.0</td>\n",
       "      <td>193.75</td>\n",
       "      <td>391.500000</td>\n",
       "      <td>...</td>\n",
       "      <td>68.8</td>\n",
       "      <td>41.528736</td>\n",
       "      <td>230.205882</td>\n",
       "      <td>91.0</td>\n",
       "      <td>703.5</td>\n",
       "      <td>454.133333</td>\n",
       "      <td>129.5</td>\n",
       "      <td>41.647059</td>\n",
       "      <td>117.907407</td>\n",
       "      <td>662.0</td>\n",
       "    </tr>\n",
       "    <tr>\n",
       "      <th>1</th>\n",
       "      <td>749.181818</td>\n",
       "      <td>9.457143</td>\n",
       "      <td>7.666667</td>\n",
       "      <td>8.081967</td>\n",
       "      <td>7.181818</td>\n",
       "      <td>267.014286</td>\n",
       "      <td>7.483871</td>\n",
       "      <td>2022.5</td>\n",
       "      <td>1.75</td>\n",
       "      <td>3.833333</td>\n",
       "      <td>...</td>\n",
       "      <td>15.5</td>\n",
       "      <td>2.183908</td>\n",
       "      <td>2.500000</td>\n",
       "      <td>556.0</td>\n",
       "      <td>1.5</td>\n",
       "      <td>5.000000</td>\n",
       "      <td>10.5</td>\n",
       "      <td>3.058824</td>\n",
       "      <td>127.537037</td>\n",
       "      <td>1.8</td>\n",
       "    </tr>\n",
       "    <tr>\n",
       "      <th>2</th>\n",
       "      <td>37.909091</td>\n",
       "      <td>6.371429</td>\n",
       "      <td>3031.333333</td>\n",
       "      <td>1146.540984</td>\n",
       "      <td>827.818182</td>\n",
       "      <td>7.185714</td>\n",
       "      <td>1231.129032</td>\n",
       "      <td>0.0</td>\n",
       "      <td>0.25</td>\n",
       "      <td>0.833333</td>\n",
       "      <td>...</td>\n",
       "      <td>10.3</td>\n",
       "      <td>59.011494</td>\n",
       "      <td>1.088235</td>\n",
       "      <td>9.5</td>\n",
       "      <td>5108.5</td>\n",
       "      <td>15473.600000</td>\n",
       "      <td>20.0</td>\n",
       "      <td>49.588235</td>\n",
       "      <td>18.111111</td>\n",
       "      <td>6.4</td>\n",
       "    </tr>\n",
       "    <tr>\n",
       "      <th>3</th>\n",
       "      <td>37.545455</td>\n",
       "      <td>10.228571</td>\n",
       "      <td>101.333333</td>\n",
       "      <td>10.934426</td>\n",
       "      <td>22.000000</td>\n",
       "      <td>25.657143</td>\n",
       "      <td>133.064516</td>\n",
       "      <td>58.5</td>\n",
       "      <td>4.50</td>\n",
       "      <td>190.166667</td>\n",
       "      <td>...</td>\n",
       "      <td>14.4</td>\n",
       "      <td>7.080460</td>\n",
       "      <td>12.617647</td>\n",
       "      <td>19.5</td>\n",
       "      <td>4.5</td>\n",
       "      <td>38.000000</td>\n",
       "      <td>24.5</td>\n",
       "      <td>6.705882</td>\n",
       "      <td>17.777778</td>\n",
       "      <td>15.4</td>\n",
       "    </tr>\n",
       "    <tr>\n",
       "      <th>4</th>\n",
       "      <td>14.909091</td>\n",
       "      <td>8.228571</td>\n",
       "      <td>0.000000</td>\n",
       "      <td>5.311475</td>\n",
       "      <td>0.000000</td>\n",
       "      <td>0.971429</td>\n",
       "      <td>0.709677</td>\n",
       "      <td>0.0</td>\n",
       "      <td>0.00</td>\n",
       "      <td>0.166667</td>\n",
       "      <td>...</td>\n",
       "      <td>1.5</td>\n",
       "      <td>0.068966</td>\n",
       "      <td>0.058824</td>\n",
       "      <td>0.5</td>\n",
       "      <td>0.5</td>\n",
       "      <td>1.200000</td>\n",
       "      <td>14.5</td>\n",
       "      <td>1.117647</td>\n",
       "      <td>0.740741</td>\n",
       "      <td>8.0</td>\n",
       "    </tr>\n",
       "  </tbody>\n",
       "</table>\n",
       "<p>5 rows × 117 columns</p>\n",
       "</div>"
      ],
      "text/plain": [
       "        22RV1        293F         A172         A375        A431        A549  \\\n",
       "0  320.181818  143.314286   689.333333   174.672131  131.909091  169.885714   \n",
       "1  749.181818    9.457143     7.666667     8.081967    7.181818  267.014286   \n",
       "2   37.909091    6.371429  3031.333333  1146.540984  827.818182    7.185714   \n",
       "3   37.545455   10.228571   101.333333    10.934426   22.000000   25.657143   \n",
       "4   14.909091    8.228571     0.000000     5.311475    0.000000    0.971429   \n",
       "\n",
       "          A673   ASPC1  BEAS2B        BEWO    ...     SUPT1        T24  \\\n",
       "0   312.322581    90.0  193.75  391.500000    ...      68.8  41.528736   \n",
       "1     7.483871  2022.5    1.75    3.833333    ...      15.5   2.183908   \n",
       "2  1231.129032     0.0    0.25    0.833333    ...      10.3  59.011494   \n",
       "3   133.064516    58.5    4.50  190.166667    ...      14.4   7.080460   \n",
       "4     0.709677     0.0    0.00    0.166667    ...       1.5   0.068966   \n",
       "\n",
       "         T47D    T84    T98G          THP1    U87       U937        VCAP  \\\n",
       "0  230.205882   91.0   703.5    454.133333  129.5  41.647059  117.907407   \n",
       "1    2.500000  556.0     1.5      5.000000   10.5   3.058824  127.537037   \n",
       "2    1.088235    9.5  5108.5  15473.600000   20.0  49.588235   18.111111   \n",
       "3   12.617647   19.5     4.5     38.000000   24.5   6.705882   17.777778   \n",
       "4    0.058824    0.5     0.5      1.200000   14.5   1.117647    0.740741   \n",
       "\n",
       "   WSUDLCL2  \n",
       "0     662.0  \n",
       "1       1.8  \n",
       "2       6.4  \n",
       "3      15.4  \n",
       "4       8.0  \n",
       "\n",
       "[5 rows x 117 columns]"
      ]
     },
     "execution_count": 51,
     "metadata": {},
     "output_type": "execute_result"
    }
   ],
   "source": [
    "matrix_celline.head()"
   ]
  },
  {
   "cell_type": "code",
   "execution_count": 52,
   "metadata": {},
   "outputs": [
    {
     "data": {
      "text/plain": [
       "(35238, 117)"
      ]
     },
     "execution_count": 52,
     "metadata": {},
     "output_type": "execute_result"
    }
   ],
   "source": [
    "matrix_celline.shape"
   ]
  },
  {
   "cell_type": "markdown",
   "metadata": {},
   "source": [
    "# Get Gene Symbols"
   ]
  },
  {
   "cell_type": "code",
   "execution_count": 53,
   "metadata": {
    "collapsed": true
   },
   "outputs": [],
   "source": [
    "gene_list = f['meta/genes'][:].tolist() "
   ]
  },
  {
   "cell_type": "code",
   "execution_count": 54,
   "metadata": {
    "collapsed": true
   },
   "outputs": [],
   "source": [
    "lst = []\n",
    "for gene in gene_list:\n",
    "    lst.append(gene.decode(\"utf-8\"))\n",
    "\n",
    "gene_list = lst"
   ]
  },
  {
   "cell_type": "code",
   "execution_count": 55,
   "metadata": {},
   "outputs": [
    {
     "data": {
      "text/plain": [
       "['A1BG',\n",
       " 'A1CF',\n",
       " 'A2M',\n",
       " 'A2ML1',\n",
       " 'A2MP1',\n",
       " 'A3GALT2',\n",
       " 'A4GALT',\n",
       " 'A4GNT',\n",
       " 'AAAS',\n",
       " 'AACS']"
      ]
     },
     "execution_count": 55,
     "metadata": {},
     "output_type": "execute_result"
    }
   ],
   "source": [
    "gene_list[0:10]"
   ]
  },
  {
   "cell_type": "code",
   "execution_count": 56,
   "metadata": {},
   "outputs": [
    {
     "data": {
      "text/plain": [
       "35238"
      ]
     },
     "execution_count": 56,
     "metadata": {},
     "output_type": "execute_result"
    }
   ],
   "source": [
    "len(gene_list)"
   ]
  },
  {
   "cell_type": "markdown",
   "metadata": {},
   "source": [
    "# Map Gene Symbols to ID's"
   ]
  },
  {
   "cell_type": "code",
   "execution_count": 57,
   "metadata": {
    "collapsed": true
   },
   "outputs": [],
   "source": [
    "matrix_tissue.index = gene_list"
   ]
  },
  {
   "cell_type": "code",
   "execution_count": 58,
   "metadata": {},
   "outputs": [
    {
     "data": {
      "text/html": [
       "<div>\n",
       "<table border=\"1\" class=\"dataframe\">\n",
       "  <thead>\n",
       "    <tr style=\"text-align: right;\">\n",
       "      <th></th>\n",
       "      <th>ADIPOSE (BULK TISSUE)</th>\n",
       "      <th>ADRENAL GLAND</th>\n",
       "      <th>ALPHA CELL</th>\n",
       "      <th>ALVEOLAR CELL TYPE II</th>\n",
       "      <th>ALVEOLAR MACROPHAGE</th>\n",
       "      <th>AMNIOTIC FLUID</th>\n",
       "      <th>ASTROCYTE</th>\n",
       "      <th>ATRIUM</th>\n",
       "      <th>BASAL CELL</th>\n",
       "      <th>BETA CELL</th>\n",
       "      <th>...</th>\n",
       "      <th>SUPERIOR FRONTAL GYRUS</th>\n",
       "      <th>TESTIS (BULK TISSUE)</th>\n",
       "      <th>THYMUS (BULK TISSUE)</th>\n",
       "      <th>THYROID (BULK TISSUE)</th>\n",
       "      <th>TLYMPHOCYTE</th>\n",
       "      <th>TRACHEA (BULK TISSUE)</th>\n",
       "      <th>VALVE</th>\n",
       "      <th>VASCULAR SMOOTH MUSCLE</th>\n",
       "      <th>VENTRICLE</th>\n",
       "      <th>WHARTONS JELLY</th>\n",
       "    </tr>\n",
       "  </thead>\n",
       "  <tbody>\n",
       "    <tr>\n",
       "      <th>A1BG</th>\n",
       "      <td>95.740458</td>\n",
       "      <td>199.30</td>\n",
       "      <td>294.846154</td>\n",
       "      <td>542.5</td>\n",
       "      <td>328.5</td>\n",
       "      <td>35.761905</td>\n",
       "      <td>492.454545</td>\n",
       "      <td>408.857143</td>\n",
       "      <td>110.793103</td>\n",
       "      <td>208.157895</td>\n",
       "      <td>...</td>\n",
       "      <td>72.529412</td>\n",
       "      <td>702.5</td>\n",
       "      <td>1241.222222</td>\n",
       "      <td>216.865079</td>\n",
       "      <td>110.780170</td>\n",
       "      <td>621.333333</td>\n",
       "      <td>272.844444</td>\n",
       "      <td>391.750</td>\n",
       "      <td>45.971429</td>\n",
       "      <td>214.00</td>\n",
       "    </tr>\n",
       "    <tr>\n",
       "      <th>A1CF</th>\n",
       "      <td>10.885496</td>\n",
       "      <td>68.10</td>\n",
       "      <td>2148.538462</td>\n",
       "      <td>108.0</td>\n",
       "      <td>49.5</td>\n",
       "      <td>187.619048</td>\n",
       "      <td>6.363636</td>\n",
       "      <td>13.000000</td>\n",
       "      <td>14.551724</td>\n",
       "      <td>683.421053</td>\n",
       "      <td>...</td>\n",
       "      <td>1.029412</td>\n",
       "      <td>140.5</td>\n",
       "      <td>58.333333</td>\n",
       "      <td>14.738095</td>\n",
       "      <td>4.646470</td>\n",
       "      <td>31.333333</td>\n",
       "      <td>0.222222</td>\n",
       "      <td>2.750</td>\n",
       "      <td>4.238095</td>\n",
       "      <td>10.50</td>\n",
       "    </tr>\n",
       "    <tr>\n",
       "      <th>A2M</th>\n",
       "      <td>32161.129771</td>\n",
       "      <td>17544.95</td>\n",
       "      <td>171.538462</td>\n",
       "      <td>71.0</td>\n",
       "      <td>8844.5</td>\n",
       "      <td>171.095238</td>\n",
       "      <td>1600.363636</td>\n",
       "      <td>14982.714286</td>\n",
       "      <td>150.586207</td>\n",
       "      <td>229.052632</td>\n",
       "      <td>...</td>\n",
       "      <td>1493.294118</td>\n",
       "      <td>7402.0</td>\n",
       "      <td>13944.333333</td>\n",
       "      <td>7449.547619</td>\n",
       "      <td>150.744116</td>\n",
       "      <td>4345.500000</td>\n",
       "      <td>8936.711111</td>\n",
       "      <td>1695.375</td>\n",
       "      <td>11068.904762</td>\n",
       "      <td>2.30</td>\n",
       "    </tr>\n",
       "    <tr>\n",
       "      <th>A2ML1</th>\n",
       "      <td>12.587786</td>\n",
       "      <td>69.05</td>\n",
       "      <td>50.615385</td>\n",
       "      <td>276.5</td>\n",
       "      <td>22.0</td>\n",
       "      <td>9683.666667</td>\n",
       "      <td>17.181818</td>\n",
       "      <td>36.571429</td>\n",
       "      <td>1921.068966</td>\n",
       "      <td>32.368421</td>\n",
       "      <td>...</td>\n",
       "      <td>34.676471</td>\n",
       "      <td>2479.0</td>\n",
       "      <td>2875.111111</td>\n",
       "      <td>36.341270</td>\n",
       "      <td>12.500751</td>\n",
       "      <td>5205.000000</td>\n",
       "      <td>11.066667</td>\n",
       "      <td>24.625</td>\n",
       "      <td>10.104762</td>\n",
       "      <td>21.55</td>\n",
       "    </tr>\n",
       "    <tr>\n",
       "      <th>A2MP1</th>\n",
       "      <td>84.725191</td>\n",
       "      <td>72.00</td>\n",
       "      <td>4.384615</td>\n",
       "      <td>56.5</td>\n",
       "      <td>54.5</td>\n",
       "      <td>3.904762</td>\n",
       "      <td>2.090909</td>\n",
       "      <td>34.142857</td>\n",
       "      <td>1.896552</td>\n",
       "      <td>2.789474</td>\n",
       "      <td>...</td>\n",
       "      <td>11.588235</td>\n",
       "      <td>138.5</td>\n",
       "      <td>203.111111</td>\n",
       "      <td>23.595238</td>\n",
       "      <td>29.155734</td>\n",
       "      <td>136.333333</td>\n",
       "      <td>10.555556</td>\n",
       "      <td>2.625</td>\n",
       "      <td>26.304762</td>\n",
       "      <td>1.30</td>\n",
       "    </tr>\n",
       "  </tbody>\n",
       "</table>\n",
       "<p>5 rows × 108 columns</p>\n",
       "</div>"
      ],
      "text/plain": [
       "       ADIPOSE (BULK TISSUE)  ADRENAL GLAND   ALPHA CELL  \\\n",
       "A1BG               95.740458         199.30   294.846154   \n",
       "A1CF               10.885496          68.10  2148.538462   \n",
       "A2M             32161.129771       17544.95   171.538462   \n",
       "A2ML1              12.587786          69.05    50.615385   \n",
       "A2MP1              84.725191          72.00     4.384615   \n",
       "\n",
       "       ALVEOLAR CELL TYPE II  ALVEOLAR MACROPHAGE  AMNIOTIC FLUID  \\\n",
       "A1BG                   542.5                328.5       35.761905   \n",
       "A1CF                   108.0                 49.5      187.619048   \n",
       "A2M                     71.0               8844.5      171.095238   \n",
       "A2ML1                  276.5                 22.0     9683.666667   \n",
       "A2MP1                   56.5                 54.5        3.904762   \n",
       "\n",
       "         ASTROCYTE        ATRIUM   BASAL CELL   BETA CELL       ...        \\\n",
       "A1BG    492.454545    408.857143   110.793103  208.157895       ...         \n",
       "A1CF      6.363636     13.000000    14.551724  683.421053       ...         \n",
       "A2M    1600.363636  14982.714286   150.586207  229.052632       ...         \n",
       "A2ML1    17.181818     36.571429  1921.068966   32.368421       ...         \n",
       "A2MP1     2.090909     34.142857     1.896552    2.789474       ...         \n",
       "\n",
       "       SUPERIOR FRONTAL GYRUS  TESTIS (BULK TISSUE)  THYMUS (BULK TISSUE)  \\\n",
       "A1BG                72.529412                 702.5           1241.222222   \n",
       "A1CF                 1.029412                 140.5             58.333333   \n",
       "A2M               1493.294118                7402.0          13944.333333   \n",
       "A2ML1               34.676471                2479.0           2875.111111   \n",
       "A2MP1               11.588235                 138.5            203.111111   \n",
       "\n",
       "       THYROID (BULK TISSUE)  TLYMPHOCYTE  TRACHEA (BULK TISSUE)        VALVE  \\\n",
       "A1BG              216.865079   110.780170             621.333333   272.844444   \n",
       "A1CF               14.738095     4.646470              31.333333     0.222222   \n",
       "A2M              7449.547619   150.744116            4345.500000  8936.711111   \n",
       "A2ML1              36.341270    12.500751            5205.000000    11.066667   \n",
       "A2MP1              23.595238    29.155734             136.333333    10.555556   \n",
       "\n",
       "       VASCULAR SMOOTH MUSCLE     VENTRICLE  WHARTONS JELLY  \n",
       "A1BG                  391.750     45.971429          214.00  \n",
       "A1CF                    2.750      4.238095           10.50  \n",
       "A2M                  1695.375  11068.904762            2.30  \n",
       "A2ML1                  24.625     10.104762           21.55  \n",
       "A2MP1                   2.625     26.304762            1.30  \n",
       "\n",
       "[5 rows x 108 columns]"
      ]
     },
     "execution_count": 58,
     "metadata": {},
     "output_type": "execute_result"
    }
   ],
   "source": [
    "matrix_tissue.head()"
   ]
  },
  {
   "cell_type": "code",
   "execution_count": 59,
   "metadata": {},
   "outputs": [
    {
     "data": {
      "text/plain": [
       "(35238, 108)"
      ]
     },
     "execution_count": 59,
     "metadata": {},
     "output_type": "execute_result"
    }
   ],
   "source": [
    "matrix_tissue.shape"
   ]
  },
  {
   "cell_type": "code",
   "execution_count": 60,
   "metadata": {
    "collapsed": true
   },
   "outputs": [],
   "source": [
    "matrix_celline.index = gene_list"
   ]
  },
  {
   "cell_type": "code",
   "execution_count": 61,
   "metadata": {},
   "outputs": [
    {
     "data": {
      "text/html": [
       "<div>\n",
       "<table border=\"1\" class=\"dataframe\">\n",
       "  <thead>\n",
       "    <tr style=\"text-align: right;\">\n",
       "      <th></th>\n",
       "      <th>22RV1</th>\n",
       "      <th>293F</th>\n",
       "      <th>A172</th>\n",
       "      <th>A375</th>\n",
       "      <th>A431</th>\n",
       "      <th>A549</th>\n",
       "      <th>A673</th>\n",
       "      <th>ASPC1</th>\n",
       "      <th>BEAS2B</th>\n",
       "      <th>BEWO</th>\n",
       "      <th>...</th>\n",
       "      <th>SUPT1</th>\n",
       "      <th>T24</th>\n",
       "      <th>T47D</th>\n",
       "      <th>T84</th>\n",
       "      <th>T98G</th>\n",
       "      <th>THP1</th>\n",
       "      <th>U87</th>\n",
       "      <th>U937</th>\n",
       "      <th>VCAP</th>\n",
       "      <th>WSUDLCL2</th>\n",
       "    </tr>\n",
       "  </thead>\n",
       "  <tbody>\n",
       "    <tr>\n",
       "      <th>A1BG</th>\n",
       "      <td>320.181818</td>\n",
       "      <td>143.314286</td>\n",
       "      <td>689.333333</td>\n",
       "      <td>174.672131</td>\n",
       "      <td>131.909091</td>\n",
       "      <td>169.885714</td>\n",
       "      <td>312.322581</td>\n",
       "      <td>90.0</td>\n",
       "      <td>193.75</td>\n",
       "      <td>391.500000</td>\n",
       "      <td>...</td>\n",
       "      <td>68.8</td>\n",
       "      <td>41.528736</td>\n",
       "      <td>230.205882</td>\n",
       "      <td>91.0</td>\n",
       "      <td>703.5</td>\n",
       "      <td>454.133333</td>\n",
       "      <td>129.5</td>\n",
       "      <td>41.647059</td>\n",
       "      <td>117.907407</td>\n",
       "      <td>662.0</td>\n",
       "    </tr>\n",
       "    <tr>\n",
       "      <th>A1CF</th>\n",
       "      <td>749.181818</td>\n",
       "      <td>9.457143</td>\n",
       "      <td>7.666667</td>\n",
       "      <td>8.081967</td>\n",
       "      <td>7.181818</td>\n",
       "      <td>267.014286</td>\n",
       "      <td>7.483871</td>\n",
       "      <td>2022.5</td>\n",
       "      <td>1.75</td>\n",
       "      <td>3.833333</td>\n",
       "      <td>...</td>\n",
       "      <td>15.5</td>\n",
       "      <td>2.183908</td>\n",
       "      <td>2.500000</td>\n",
       "      <td>556.0</td>\n",
       "      <td>1.5</td>\n",
       "      <td>5.000000</td>\n",
       "      <td>10.5</td>\n",
       "      <td>3.058824</td>\n",
       "      <td>127.537037</td>\n",
       "      <td>1.8</td>\n",
       "    </tr>\n",
       "    <tr>\n",
       "      <th>A2M</th>\n",
       "      <td>37.909091</td>\n",
       "      <td>6.371429</td>\n",
       "      <td>3031.333333</td>\n",
       "      <td>1146.540984</td>\n",
       "      <td>827.818182</td>\n",
       "      <td>7.185714</td>\n",
       "      <td>1231.129032</td>\n",
       "      <td>0.0</td>\n",
       "      <td>0.25</td>\n",
       "      <td>0.833333</td>\n",
       "      <td>...</td>\n",
       "      <td>10.3</td>\n",
       "      <td>59.011494</td>\n",
       "      <td>1.088235</td>\n",
       "      <td>9.5</td>\n",
       "      <td>5108.5</td>\n",
       "      <td>15473.600000</td>\n",
       "      <td>20.0</td>\n",
       "      <td>49.588235</td>\n",
       "      <td>18.111111</td>\n",
       "      <td>6.4</td>\n",
       "    </tr>\n",
       "    <tr>\n",
       "      <th>A2ML1</th>\n",
       "      <td>37.545455</td>\n",
       "      <td>10.228571</td>\n",
       "      <td>101.333333</td>\n",
       "      <td>10.934426</td>\n",
       "      <td>22.000000</td>\n",
       "      <td>25.657143</td>\n",
       "      <td>133.064516</td>\n",
       "      <td>58.5</td>\n",
       "      <td>4.50</td>\n",
       "      <td>190.166667</td>\n",
       "      <td>...</td>\n",
       "      <td>14.4</td>\n",
       "      <td>7.080460</td>\n",
       "      <td>12.617647</td>\n",
       "      <td>19.5</td>\n",
       "      <td>4.5</td>\n",
       "      <td>38.000000</td>\n",
       "      <td>24.5</td>\n",
       "      <td>6.705882</td>\n",
       "      <td>17.777778</td>\n",
       "      <td>15.4</td>\n",
       "    </tr>\n",
       "    <tr>\n",
       "      <th>A2MP1</th>\n",
       "      <td>14.909091</td>\n",
       "      <td>8.228571</td>\n",
       "      <td>0.000000</td>\n",
       "      <td>5.311475</td>\n",
       "      <td>0.000000</td>\n",
       "      <td>0.971429</td>\n",
       "      <td>0.709677</td>\n",
       "      <td>0.0</td>\n",
       "      <td>0.00</td>\n",
       "      <td>0.166667</td>\n",
       "      <td>...</td>\n",
       "      <td>1.5</td>\n",
       "      <td>0.068966</td>\n",
       "      <td>0.058824</td>\n",
       "      <td>0.5</td>\n",
       "      <td>0.5</td>\n",
       "      <td>1.200000</td>\n",
       "      <td>14.5</td>\n",
       "      <td>1.117647</td>\n",
       "      <td>0.740741</td>\n",
       "      <td>8.0</td>\n",
       "    </tr>\n",
       "  </tbody>\n",
       "</table>\n",
       "<p>5 rows × 117 columns</p>\n",
       "</div>"
      ],
      "text/plain": [
       "            22RV1        293F         A172         A375        A431  \\\n",
       "A1BG   320.181818  143.314286   689.333333   174.672131  131.909091   \n",
       "A1CF   749.181818    9.457143     7.666667     8.081967    7.181818   \n",
       "A2M     37.909091    6.371429  3031.333333  1146.540984  827.818182   \n",
       "A2ML1   37.545455   10.228571   101.333333    10.934426   22.000000   \n",
       "A2MP1   14.909091    8.228571     0.000000     5.311475    0.000000   \n",
       "\n",
       "             A549         A673   ASPC1  BEAS2B        BEWO    ...     SUPT1  \\\n",
       "A1BG   169.885714   312.322581    90.0  193.75  391.500000    ...      68.8   \n",
       "A1CF   267.014286     7.483871  2022.5    1.75    3.833333    ...      15.5   \n",
       "A2M      7.185714  1231.129032     0.0    0.25    0.833333    ...      10.3   \n",
       "A2ML1   25.657143   133.064516    58.5    4.50  190.166667    ...      14.4   \n",
       "A2MP1    0.971429     0.709677     0.0    0.00    0.166667    ...       1.5   \n",
       "\n",
       "             T24        T47D    T84    T98G          THP1    U87       U937  \\\n",
       "A1BG   41.528736  230.205882   91.0   703.5    454.133333  129.5  41.647059   \n",
       "A1CF    2.183908    2.500000  556.0     1.5      5.000000   10.5   3.058824   \n",
       "A2M    59.011494    1.088235    9.5  5108.5  15473.600000   20.0  49.588235   \n",
       "A2ML1   7.080460   12.617647   19.5     4.5     38.000000   24.5   6.705882   \n",
       "A2MP1   0.068966    0.058824    0.5     0.5      1.200000   14.5   1.117647   \n",
       "\n",
       "             VCAP  WSUDLCL2  \n",
       "A1BG   117.907407     662.0  \n",
       "A1CF   127.537037       1.8  \n",
       "A2M     18.111111       6.4  \n",
       "A2ML1   17.777778      15.4  \n",
       "A2MP1    0.740741       8.0  \n",
       "\n",
       "[5 rows x 117 columns]"
      ]
     },
     "execution_count": 61,
     "metadata": {},
     "output_type": "execute_result"
    }
   ],
   "source": [
    "matrix_celline.head()"
   ]
  },
  {
   "cell_type": "code",
   "execution_count": 62,
   "metadata": {},
   "outputs": [
    {
     "data": {
      "text/plain": [
       "(35238, 117)"
      ]
     },
     "execution_count": 62,
     "metadata": {},
     "output_type": "execute_result"
    }
   ],
   "source": [
    "matrix_celline.shape"
   ]
  },
  {
   "cell_type": "markdown",
   "metadata": {},
   "source": [
    "# Combine Tissue and Celline Data"
   ]
  },
  {
   "cell_type": "code",
   "execution_count": 63,
   "metadata": {
    "collapsed": true
   },
   "outputs": [],
   "source": [
    "matrix = pd.concat([matrix_tissue, matrix_celline], axis=1)"
   ]
  },
  {
   "cell_type": "code",
   "execution_count": 64,
   "metadata": {},
   "outputs": [
    {
     "data": {
      "text/html": [
       "<div>\n",
       "<table border=\"1\" class=\"dataframe\">\n",
       "  <thead>\n",
       "    <tr style=\"text-align: right;\">\n",
       "      <th></th>\n",
       "      <th>ADIPOSE (BULK TISSUE)</th>\n",
       "      <th>ADRENAL GLAND</th>\n",
       "      <th>ALPHA CELL</th>\n",
       "      <th>ALVEOLAR CELL TYPE II</th>\n",
       "      <th>ALVEOLAR MACROPHAGE</th>\n",
       "      <th>AMNIOTIC FLUID</th>\n",
       "      <th>ASTROCYTE</th>\n",
       "      <th>ATRIUM</th>\n",
       "      <th>BASAL CELL</th>\n",
       "      <th>BETA CELL</th>\n",
       "      <th>...</th>\n",
       "      <th>SUPT1</th>\n",
       "      <th>T24</th>\n",
       "      <th>T47D</th>\n",
       "      <th>T84</th>\n",
       "      <th>T98G</th>\n",
       "      <th>THP1</th>\n",
       "      <th>U87</th>\n",
       "      <th>U937</th>\n",
       "      <th>VCAP</th>\n",
       "      <th>WSUDLCL2</th>\n",
       "    </tr>\n",
       "  </thead>\n",
       "  <tbody>\n",
       "    <tr>\n",
       "      <th>A1BG</th>\n",
       "      <td>95.740458</td>\n",
       "      <td>199.30</td>\n",
       "      <td>294.846154</td>\n",
       "      <td>542.5</td>\n",
       "      <td>328.5</td>\n",
       "      <td>35.761905</td>\n",
       "      <td>492.454545</td>\n",
       "      <td>408.857143</td>\n",
       "      <td>110.793103</td>\n",
       "      <td>208.157895</td>\n",
       "      <td>...</td>\n",
       "      <td>68.8</td>\n",
       "      <td>41.528736</td>\n",
       "      <td>230.205882</td>\n",
       "      <td>91.0</td>\n",
       "      <td>703.5</td>\n",
       "      <td>454.133333</td>\n",
       "      <td>129.5</td>\n",
       "      <td>41.647059</td>\n",
       "      <td>117.907407</td>\n",
       "      <td>662.0</td>\n",
       "    </tr>\n",
       "    <tr>\n",
       "      <th>A1CF</th>\n",
       "      <td>10.885496</td>\n",
       "      <td>68.10</td>\n",
       "      <td>2148.538462</td>\n",
       "      <td>108.0</td>\n",
       "      <td>49.5</td>\n",
       "      <td>187.619048</td>\n",
       "      <td>6.363636</td>\n",
       "      <td>13.000000</td>\n",
       "      <td>14.551724</td>\n",
       "      <td>683.421053</td>\n",
       "      <td>...</td>\n",
       "      <td>15.5</td>\n",
       "      <td>2.183908</td>\n",
       "      <td>2.500000</td>\n",
       "      <td>556.0</td>\n",
       "      <td>1.5</td>\n",
       "      <td>5.000000</td>\n",
       "      <td>10.5</td>\n",
       "      <td>3.058824</td>\n",
       "      <td>127.537037</td>\n",
       "      <td>1.8</td>\n",
       "    </tr>\n",
       "    <tr>\n",
       "      <th>A2M</th>\n",
       "      <td>32161.129771</td>\n",
       "      <td>17544.95</td>\n",
       "      <td>171.538462</td>\n",
       "      <td>71.0</td>\n",
       "      <td>8844.5</td>\n",
       "      <td>171.095238</td>\n",
       "      <td>1600.363636</td>\n",
       "      <td>14982.714286</td>\n",
       "      <td>150.586207</td>\n",
       "      <td>229.052632</td>\n",
       "      <td>...</td>\n",
       "      <td>10.3</td>\n",
       "      <td>59.011494</td>\n",
       "      <td>1.088235</td>\n",
       "      <td>9.5</td>\n",
       "      <td>5108.5</td>\n",
       "      <td>15473.600000</td>\n",
       "      <td>20.0</td>\n",
       "      <td>49.588235</td>\n",
       "      <td>18.111111</td>\n",
       "      <td>6.4</td>\n",
       "    </tr>\n",
       "    <tr>\n",
       "      <th>A2ML1</th>\n",
       "      <td>12.587786</td>\n",
       "      <td>69.05</td>\n",
       "      <td>50.615385</td>\n",
       "      <td>276.5</td>\n",
       "      <td>22.0</td>\n",
       "      <td>9683.666667</td>\n",
       "      <td>17.181818</td>\n",
       "      <td>36.571429</td>\n",
       "      <td>1921.068966</td>\n",
       "      <td>32.368421</td>\n",
       "      <td>...</td>\n",
       "      <td>14.4</td>\n",
       "      <td>7.080460</td>\n",
       "      <td>12.617647</td>\n",
       "      <td>19.5</td>\n",
       "      <td>4.5</td>\n",
       "      <td>38.000000</td>\n",
       "      <td>24.5</td>\n",
       "      <td>6.705882</td>\n",
       "      <td>17.777778</td>\n",
       "      <td>15.4</td>\n",
       "    </tr>\n",
       "    <tr>\n",
       "      <th>A2MP1</th>\n",
       "      <td>84.725191</td>\n",
       "      <td>72.00</td>\n",
       "      <td>4.384615</td>\n",
       "      <td>56.5</td>\n",
       "      <td>54.5</td>\n",
       "      <td>3.904762</td>\n",
       "      <td>2.090909</td>\n",
       "      <td>34.142857</td>\n",
       "      <td>1.896552</td>\n",
       "      <td>2.789474</td>\n",
       "      <td>...</td>\n",
       "      <td>1.5</td>\n",
       "      <td>0.068966</td>\n",
       "      <td>0.058824</td>\n",
       "      <td>0.5</td>\n",
       "      <td>0.5</td>\n",
       "      <td>1.200000</td>\n",
       "      <td>14.5</td>\n",
       "      <td>1.117647</td>\n",
       "      <td>0.740741</td>\n",
       "      <td>8.0</td>\n",
       "    </tr>\n",
       "  </tbody>\n",
       "</table>\n",
       "<p>5 rows × 225 columns</p>\n",
       "</div>"
      ],
      "text/plain": [
       "       ADIPOSE (BULK TISSUE)  ADRENAL GLAND   ALPHA CELL  \\\n",
       "A1BG               95.740458         199.30   294.846154   \n",
       "A1CF               10.885496          68.10  2148.538462   \n",
       "A2M             32161.129771       17544.95   171.538462   \n",
       "A2ML1              12.587786          69.05    50.615385   \n",
       "A2MP1              84.725191          72.00     4.384615   \n",
       "\n",
       "       ALVEOLAR CELL TYPE II  ALVEOLAR MACROPHAGE  AMNIOTIC FLUID  \\\n",
       "A1BG                   542.5                328.5       35.761905   \n",
       "A1CF                   108.0                 49.5      187.619048   \n",
       "A2M                     71.0               8844.5      171.095238   \n",
       "A2ML1                  276.5                 22.0     9683.666667   \n",
       "A2MP1                   56.5                 54.5        3.904762   \n",
       "\n",
       "         ASTROCYTE        ATRIUM   BASAL CELL   BETA CELL    ...     SUPT1  \\\n",
       "A1BG    492.454545    408.857143   110.793103  208.157895    ...      68.8   \n",
       "A1CF      6.363636     13.000000    14.551724  683.421053    ...      15.5   \n",
       "A2M    1600.363636  14982.714286   150.586207  229.052632    ...      10.3   \n",
       "A2ML1    17.181818     36.571429  1921.068966   32.368421    ...      14.4   \n",
       "A2MP1     2.090909     34.142857     1.896552    2.789474    ...       1.5   \n",
       "\n",
       "             T24        T47D    T84    T98G          THP1    U87       U937  \\\n",
       "A1BG   41.528736  230.205882   91.0   703.5    454.133333  129.5  41.647059   \n",
       "A1CF    2.183908    2.500000  556.0     1.5      5.000000   10.5   3.058824   \n",
       "A2M    59.011494    1.088235    9.5  5108.5  15473.600000   20.0  49.588235   \n",
       "A2ML1   7.080460   12.617647   19.5     4.5     38.000000   24.5   6.705882   \n",
       "A2MP1   0.068966    0.058824    0.5     0.5      1.200000   14.5   1.117647   \n",
       "\n",
       "             VCAP  WSUDLCL2  \n",
       "A1BG   117.907407     662.0  \n",
       "A1CF   127.537037       1.8  \n",
       "A2M     18.111111       6.4  \n",
       "A2ML1   17.777778      15.4  \n",
       "A2MP1    0.740741       8.0  \n",
       "\n",
       "[5 rows x 225 columns]"
      ]
     },
     "execution_count": 64,
     "metadata": {},
     "output_type": "execute_result"
    }
   ],
   "source": [
    "matrix.head()"
   ]
  },
  {
   "cell_type": "code",
   "execution_count": 65,
   "metadata": {},
   "outputs": [
    {
     "data": {
      "text/plain": [
       "(35238, 225)"
      ]
     },
     "execution_count": 65,
     "metadata": {},
     "output_type": "execute_result"
    }
   ],
   "source": [
    "matrix.shape"
   ]
  },
  {
   "cell_type": "markdown",
   "metadata": {},
   "source": [
    "# Map Gene Symbols To Up-to-date Approved Gene Symbols"
   ]
  },
  {
   "cell_type": "code",
   "execution_count": 66,
   "metadata": {},
   "outputs": [
    {
     "name": "stdout",
     "output_type": "stream",
     "text": [
      "Progeres: 100%  35238 Out of 35238   \r"
     ]
    }
   ],
   "source": [
    "mf.mapgenesymbols(matrix)"
   ]
  },
  {
   "cell_type": "code",
   "execution_count": 67,
   "metadata": {},
   "outputs": [
    {
     "data": {
      "text/plain": [
       "(26989, 225)"
      ]
     },
     "execution_count": 67,
     "metadata": {},
     "output_type": "execute_result"
    }
   ],
   "source": [
    "matrix.shape"
   ]
  },
  {
   "cell_type": "markdown",
   "metadata": {},
   "source": [
    "# Merge Duplicate Genes By Rows"
   ]
  },
  {
   "cell_type": "code",
   "execution_count": 68,
   "metadata": {
    "collapsed": true
   },
   "outputs": [],
   "source": [
    "matrix = mf.merge(matrix, 'row', 'mean')"
   ]
  },
  {
   "cell_type": "code",
   "execution_count": 69,
   "metadata": {},
   "outputs": [
    {
     "data": {
      "text/plain": [
       "(26883, 225)"
      ]
     },
     "execution_count": 69,
     "metadata": {},
     "output_type": "execute_result"
    }
   ],
   "source": [
    "matrix.shape"
   ]
  },
  {
   "cell_type": "markdown",
   "metadata": {},
   "source": [
    "# Save Unfiltered Matrix To File"
   ]
  },
  {
   "cell_type": "code",
   "execution_count": 70,
   "metadata": {
    "collapsed": true
   },
   "outputs": [],
   "source": [
    "filename = '~/./Documents/Harmonizome/ARCHS4/Output/archs4_matrix_unfilltered_%s.tsv.zip'% str(datetime.date.today())[0:7].replace('-', '_')\n",
    "matrix.to_csv(filename, sep='\\t', compression='gzip')"
   ]
  },
  {
   "cell_type": "markdown",
   "metadata": {},
   "source": [
    "# Drop Any Genes That Have Zero Expression Across 95% Of The Samples"
   ]
  },
  {
   "cell_type": "code",
   "execution_count": 71,
   "metadata": {
    "collapsed": true
   },
   "outputs": [],
   "source": [
    "matrix.replace(0, np.nan, inplace=True)"
   ]
  },
  {
   "cell_type": "code",
   "execution_count": 72,
   "metadata": {},
   "outputs": [
    {
     "data": {
      "text/plain": [
       "(26883, 225)"
      ]
     },
     "execution_count": 72,
     "metadata": {},
     "output_type": "execute_result"
    }
   ],
   "source": [
    "matrix.shape"
   ]
  },
  {
   "cell_type": "code",
   "execution_count": 73,
   "metadata": {
    "collapsed": true
   },
   "outputs": [],
   "source": [
    "matrix.dropna(thresh=(0.05*matrix.shape[1]), axis=0, inplace=True)"
   ]
  },
  {
   "cell_type": "code",
   "execution_count": 74,
   "metadata": {
    "collapsed": true
   },
   "outputs": [],
   "source": [
    "matrix.replace(np.nan, 0, inplace=True)"
   ]
  },
  {
   "cell_type": "code",
   "execution_count": 75,
   "metadata": {},
   "outputs": [
    {
     "data": {
      "text/plain": [
       "(26845, 225)"
      ]
     },
     "execution_count": 75,
     "metadata": {},
     "output_type": "execute_result"
    }
   ],
   "source": [
    "matrix.shape"
   ]
  },
  {
   "cell_type": "markdown",
   "metadata": {},
   "source": [
    "# Normalize Matrix (Quantile Normalize the matrix for the columns)"
   ]
  },
  {
   "cell_type": "code",
   "execution_count": 76,
   "metadata": {},
   "outputs": [
    {
     "name": "stdout",
     "output_type": "stream",
     "text": [
      "Step 2/2 progress: 100%  225 Out of 225   \r"
     ]
    }
   ],
   "source": [
    "normalized_matrix = mf.quantileNormalize(matrix)"
   ]
  },
  {
   "cell_type": "code",
   "execution_count": 77,
   "metadata": {},
   "outputs": [
    {
     "data": {
      "text/html": [
       "<div>\n",
       "<table border=\"1\" class=\"dataframe\">\n",
       "  <thead>\n",
       "    <tr style=\"text-align: right;\">\n",
       "      <th></th>\n",
       "      <th>ADIPOSE (BULK TISSUE)</th>\n",
       "      <th>ADRENAL GLAND</th>\n",
       "      <th>ALPHA CELL</th>\n",
       "      <th>ALVEOLAR CELL TYPE II</th>\n",
       "      <th>ALVEOLAR MACROPHAGE</th>\n",
       "      <th>AMNIOTIC FLUID</th>\n",
       "      <th>ASTROCYTE</th>\n",
       "      <th>ATRIUM</th>\n",
       "      <th>BASAL CELL</th>\n",
       "      <th>BETA CELL</th>\n",
       "      <th>...</th>\n",
       "      <th>SUPT1</th>\n",
       "      <th>T24</th>\n",
       "      <th>T47D</th>\n",
       "      <th>T84</th>\n",
       "      <th>T98G</th>\n",
       "      <th>THP1</th>\n",
       "      <th>U87</th>\n",
       "      <th>U937</th>\n",
       "      <th>VCAP</th>\n",
       "      <th>WSUDLCL2</th>\n",
       "    </tr>\n",
       "    <tr>\n",
       "      <th>index</th>\n",
       "      <th></th>\n",
       "      <th></th>\n",
       "      <th></th>\n",
       "      <th></th>\n",
       "      <th></th>\n",
       "      <th></th>\n",
       "      <th></th>\n",
       "      <th></th>\n",
       "      <th></th>\n",
       "      <th></th>\n",
       "      <th></th>\n",
       "      <th></th>\n",
       "      <th></th>\n",
       "      <th></th>\n",
       "      <th></th>\n",
       "      <th></th>\n",
       "      <th></th>\n",
       "      <th></th>\n",
       "      <th></th>\n",
       "      <th></th>\n",
       "      <th></th>\n",
       "    </tr>\n",
       "  </thead>\n",
       "  <tbody>\n",
       "    <tr>\n",
       "      <th>A1BG</th>\n",
       "      <td>77.639452</td>\n",
       "      <td>114.235621</td>\n",
       "      <td>800.132994</td>\n",
       "      <td>955.286048</td>\n",
       "      <td>238.406309</td>\n",
       "      <td>53.516273</td>\n",
       "      <td>325.612017</td>\n",
       "      <td>237.298777</td>\n",
       "      <td>74.476720</td>\n",
       "      <td>381.848632</td>\n",
       "      <td>...</td>\n",
       "      <td>498.935955</td>\n",
       "      <td>843.761224</td>\n",
       "      <td>336.050291</td>\n",
       "      <td>208.050620</td>\n",
       "      <td>422.115190</td>\n",
       "      <td>403.362228</td>\n",
       "      <td>1120.536579</td>\n",
       "      <td>240.213623</td>\n",
       "      <td>154.713879</td>\n",
       "      <td>549.742871</td>\n",
       "    </tr>\n",
       "    <tr>\n",
       "      <th>A1CF</th>\n",
       "      <td>10.632456</td>\n",
       "      <td>31.834606</td>\n",
       "      <td>7119.267513</td>\n",
       "      <td>55.739348</td>\n",
       "      <td>36.396718</td>\n",
       "      <td>603.393438</td>\n",
       "      <td>7.531154</td>\n",
       "      <td>8.459340</td>\n",
       "      <td>13.034768</td>\n",
       "      <td>1918.543828</td>\n",
       "      <td>...</td>\n",
       "      <td>108.887595</td>\n",
       "      <td>29.256328</td>\n",
       "      <td>8.185460</td>\n",
       "      <td>1246.120016</td>\n",
       "      <td>4.584466</td>\n",
       "      <td>7.523892</td>\n",
       "      <td>46.577809</td>\n",
       "      <td>22.040011</td>\n",
       "      <td>166.233771</td>\n",
       "      <td>4.617449</td>\n",
       "    </tr>\n",
       "    <tr>\n",
       "      <th>A2M</th>\n",
       "      <td>35382.113857</td>\n",
       "      <td>26385.461129</td>\n",
       "      <td>394.017068</td>\n",
       "      <td>26.184292</td>\n",
       "      <td>3989.424678</td>\n",
       "      <td>541.156330</td>\n",
       "      <td>1190.490916</td>\n",
       "      <td>12383.461054</td>\n",
       "      <td>99.098079</td>\n",
       "      <td>447.326010</td>\n",
       "      <td>...</td>\n",
       "      <td>63.932298</td>\n",
       "      <td>1177.819667</td>\n",
       "      <td>3.892942</td>\n",
       "      <td>20.556971</td>\n",
       "      <td>2874.092503</td>\n",
       "      <td>13897.809200</td>\n",
       "      <td>108.631229</td>\n",
       "      <td>267.874961</td>\n",
       "      <td>25.789261</td>\n",
       "      <td>16.457042</td>\n",
       "    </tr>\n",
       "    <tr>\n",
       "      <th>A2ML1</th>\n",
       "      <td>12.084040</td>\n",
       "      <td>32.279124</td>\n",
       "      <td>57.979952</td>\n",
       "      <td>362.038656</td>\n",
       "      <td>16.264354</td>\n",
       "      <td>25645.115726</td>\n",
       "      <td>16.583468</td>\n",
       "      <td>20.282336</td>\n",
       "      <td>1311.834669</td>\n",
       "      <td>21.484428</td>\n",
       "      <td>...</td>\n",
       "      <td>99.218320</td>\n",
       "      <td>114.442516</td>\n",
       "      <td>33.339891</td>\n",
       "      <td>44.678800</td>\n",
       "      <td>12.027306</td>\n",
       "      <td>47.350926</td>\n",
       "      <td>144.080518</td>\n",
       "      <td>48.902087</td>\n",
       "      <td>25.284724</td>\n",
       "      <td>40.618978</td>\n",
       "    </tr>\n",
       "    <tr>\n",
       "      <th>A2MP1</th>\n",
       "      <td>68.617861</td>\n",
       "      <td>33.831503</td>\n",
       "      <td>3.011133</td>\n",
       "      <td>17.372489</td>\n",
       "      <td>39.958297</td>\n",
       "      <td>4.949708</td>\n",
       "      <td>3.271094</td>\n",
       "      <td>19.210936</td>\n",
       "      <td>2.123901</td>\n",
       "      <td>2.173348</td>\n",
       "      <td>...</td>\n",
       "      <td>6.078565</td>\n",
       "      <td>2.272334</td>\n",
       "      <td>0.253718</td>\n",
       "      <td>0.884930</td>\n",
       "      <td>1.462491</td>\n",
       "      <td>1.998350</td>\n",
       "      <td>69.118073</td>\n",
       "      <td>8.627351</td>\n",
       "      <td>0.959753</td>\n",
       "      <td>20.945156</td>\n",
       "    </tr>\n",
       "  </tbody>\n",
       "</table>\n",
       "<p>5 rows × 225 columns</p>\n",
       "</div>"
      ],
      "text/plain": [
       "       ADIPOSE (BULK TISSUE)  ADRENAL GLAND   ALPHA CELL  \\\n",
       "index                                                      \n",
       "A1BG               77.639452     114.235621   800.132994   \n",
       "A1CF               10.632456      31.834606  7119.267513   \n",
       "A2M             35382.113857   26385.461129   394.017068   \n",
       "A2ML1              12.084040      32.279124    57.979952   \n",
       "A2MP1              68.617861      33.831503     3.011133   \n",
       "\n",
       "       ALVEOLAR CELL TYPE II  ALVEOLAR MACROPHAGE  AMNIOTIC FLUID  \\\n",
       "index                                                               \n",
       "A1BG              955.286048           238.406309       53.516273   \n",
       "A1CF               55.739348            36.396718      603.393438   \n",
       "A2M                26.184292          3989.424678      541.156330   \n",
       "A2ML1             362.038656            16.264354    25645.115726   \n",
       "A2MP1              17.372489            39.958297        4.949708   \n",
       "\n",
       "         ASTROCYTE        ATRIUM   BASAL CELL    BETA CELL     ...      \\\n",
       "index                                                          ...       \n",
       "A1BG    325.612017    237.298777    74.476720   381.848632     ...       \n",
       "A1CF      7.531154      8.459340    13.034768  1918.543828     ...       \n",
       "A2M    1190.490916  12383.461054    99.098079   447.326010     ...       \n",
       "A2ML1    16.583468     20.282336  1311.834669    21.484428     ...       \n",
       "A2MP1     3.271094     19.210936     2.123901     2.173348     ...       \n",
       "\n",
       "            SUPT1          T24        T47D          T84         T98G  \\\n",
       "index                                                                  \n",
       "A1BG   498.935955   843.761224  336.050291   208.050620   422.115190   \n",
       "A1CF   108.887595    29.256328    8.185460  1246.120016     4.584466   \n",
       "A2M     63.932298  1177.819667    3.892942    20.556971  2874.092503   \n",
       "A2ML1   99.218320   114.442516   33.339891    44.678800    12.027306   \n",
       "A2MP1    6.078565     2.272334    0.253718     0.884930     1.462491   \n",
       "\n",
       "               THP1          U87        U937        VCAP    WSUDLCL2  \n",
       "index                                                                 \n",
       "A1BG     403.362228  1120.536579  240.213623  154.713879  549.742871  \n",
       "A1CF       7.523892    46.577809   22.040011  166.233771    4.617449  \n",
       "A2M    13897.809200   108.631229  267.874961   25.789261   16.457042  \n",
       "A2ML1     47.350926   144.080518   48.902087   25.284724   40.618978  \n",
       "A2MP1      1.998350    69.118073    8.627351    0.959753   20.945156  \n",
       "\n",
       "[5 rows x 225 columns]"
      ]
     },
     "execution_count": 77,
     "metadata": {},
     "output_type": "execute_result"
    }
   ],
   "source": [
    "normalized_matrix.head()"
   ]
  },
  {
   "cell_type": "markdown",
   "metadata": {},
   "source": [
    "# Nomalize Matrix (z-score the rows)"
   ]
  },
  {
   "cell_type": "code",
   "execution_count": 78,
   "metadata": {},
   "outputs": [
    {
     "name": "stdout",
     "output_type": "stream",
     "text": [
      "Progress: 100%  26845 Out of 26845   \r"
     ]
    }
   ],
   "source": [
    "mf.zscore(normalized_matrix, 'row')"
   ]
  },
  {
   "cell_type": "code",
   "execution_count": 79,
   "metadata": {},
   "outputs": [
    {
     "data": {
      "text/html": [
       "<div>\n",
       "<table border=\"1\" class=\"dataframe\">\n",
       "  <thead>\n",
       "    <tr style=\"text-align: right;\">\n",
       "      <th></th>\n",
       "      <th>ADIPOSE (BULK TISSUE)</th>\n",
       "      <th>ADRENAL GLAND</th>\n",
       "      <th>ALPHA CELL</th>\n",
       "      <th>ALVEOLAR CELL TYPE II</th>\n",
       "      <th>ALVEOLAR MACROPHAGE</th>\n",
       "      <th>AMNIOTIC FLUID</th>\n",
       "      <th>ASTROCYTE</th>\n",
       "      <th>ATRIUM</th>\n",
       "      <th>BASAL CELL</th>\n",
       "      <th>BETA CELL</th>\n",
       "      <th>...</th>\n",
       "      <th>SUPT1</th>\n",
       "      <th>T24</th>\n",
       "      <th>T47D</th>\n",
       "      <th>T84</th>\n",
       "      <th>T98G</th>\n",
       "      <th>THP1</th>\n",
       "      <th>U87</th>\n",
       "      <th>U937</th>\n",
       "      <th>VCAP</th>\n",
       "      <th>WSUDLCL2</th>\n",
       "    </tr>\n",
       "    <tr>\n",
       "      <th>index</th>\n",
       "      <th></th>\n",
       "      <th></th>\n",
       "      <th></th>\n",
       "      <th></th>\n",
       "      <th></th>\n",
       "      <th></th>\n",
       "      <th></th>\n",
       "      <th></th>\n",
       "      <th></th>\n",
       "      <th></th>\n",
       "      <th></th>\n",
       "      <th></th>\n",
       "      <th></th>\n",
       "      <th></th>\n",
       "      <th></th>\n",
       "      <th></th>\n",
       "      <th></th>\n",
       "      <th></th>\n",
       "      <th></th>\n",
       "      <th></th>\n",
       "      <th></th>\n",
       "    </tr>\n",
       "  </thead>\n",
       "  <tbody>\n",
       "    <tr>\n",
       "      <th>A1BG</th>\n",
       "      <td>-0.200403</td>\n",
       "      <td>-0.185935</td>\n",
       "      <td>0.085238</td>\n",
       "      <td>0.146578</td>\n",
       "      <td>-0.136843</td>\n",
       "      <td>-0.209940</td>\n",
       "      <td>-0.102366</td>\n",
       "      <td>-0.137281</td>\n",
       "      <td>-0.201653</td>\n",
       "      <td>-0.080133</td>\n",
       "      <td>...</td>\n",
       "      <td>-0.033842</td>\n",
       "      <td>0.102486</td>\n",
       "      <td>-0.098239</td>\n",
       "      <td>-0.148844</td>\n",
       "      <td>-0.064213</td>\n",
       "      <td>-0.071627</td>\n",
       "      <td>0.211910</td>\n",
       "      <td>-0.136129</td>\n",
       "      <td>-0.169931</td>\n",
       "      <td>-0.013755</td>\n",
       "    </tr>\n",
       "    <tr>\n",
       "      <th>A1CF</th>\n",
       "      <td>-0.236927</td>\n",
       "      <td>-0.218805</td>\n",
       "      <td>5.838843</td>\n",
       "      <td>-0.198374</td>\n",
       "      <td>-0.214906</td>\n",
       "      <td>0.269708</td>\n",
       "      <td>-0.239577</td>\n",
       "      <td>-0.238784</td>\n",
       "      <td>-0.234873</td>\n",
       "      <td>1.393770</td>\n",
       "      <td>...</td>\n",
       "      <td>-0.152948</td>\n",
       "      <td>-0.221009</td>\n",
       "      <td>-0.239018</td>\n",
       "      <td>0.819048</td>\n",
       "      <td>-0.242096</td>\n",
       "      <td>-0.239584</td>\n",
       "      <td>-0.206204</td>\n",
       "      <td>-0.227177</td>\n",
       "      <td>-0.103934</td>\n",
       "      <td>-0.242068</td>\n",
       "    </tr>\n",
       "    <tr>\n",
       "      <th>A2M</th>\n",
       "      <td>1.738118</td>\n",
       "      <td>1.192424</td>\n",
       "      <td>-0.384093</td>\n",
       "      <td>-0.406404</td>\n",
       "      <td>-0.166013</td>\n",
       "      <td>-0.375169</td>\n",
       "      <td>-0.335783</td>\n",
       "      <td>0.343129</td>\n",
       "      <td>-0.401982</td>\n",
       "      <td>-0.380860</td>\n",
       "      <td>...</td>\n",
       "      <td>-0.404115</td>\n",
       "      <td>-0.336552</td>\n",
       "      <td>-0.407756</td>\n",
       "      <td>-0.406746</td>\n",
       "      <td>-0.233664</td>\n",
       "      <td>0.434982</td>\n",
       "      <td>-0.401404</td>\n",
       "      <td>-0.391745</td>\n",
       "      <td>-0.406428</td>\n",
       "      <td>-0.406994</td>\n",
       "    </tr>\n",
       "    <tr>\n",
       "      <th>A2ML1</th>\n",
       "      <td>-0.155404</td>\n",
       "      <td>-0.150269</td>\n",
       "      <td>-0.143734</td>\n",
       "      <td>-0.066424</td>\n",
       "      <td>-0.154341</td>\n",
       "      <td>6.362096</td>\n",
       "      <td>-0.154260</td>\n",
       "      <td>-0.153319</td>\n",
       "      <td>0.175073</td>\n",
       "      <td>-0.153013</td>\n",
       "      <td>...</td>\n",
       "      <td>-0.133249</td>\n",
       "      <td>-0.129378</td>\n",
       "      <td>-0.149999</td>\n",
       "      <td>-0.147116</td>\n",
       "      <td>-0.155418</td>\n",
       "      <td>-0.146437</td>\n",
       "      <td>-0.121842</td>\n",
       "      <td>-0.146042</td>\n",
       "      <td>-0.152047</td>\n",
       "      <td>-0.148148</td>\n",
       "    </tr>\n",
       "    <tr>\n",
       "      <th>A2MP1</th>\n",
       "      <td>0.267999</td>\n",
       "      <td>-0.010336</td>\n",
       "      <td>-0.256938</td>\n",
       "      <td>-0.142029</td>\n",
       "      <td>0.038686</td>\n",
       "      <td>-0.241427</td>\n",
       "      <td>-0.254858</td>\n",
       "      <td>-0.127319</td>\n",
       "      <td>-0.264037</td>\n",
       "      <td>-0.263641</td>\n",
       "      <td>...</td>\n",
       "      <td>-0.232394</td>\n",
       "      <td>-0.262849</td>\n",
       "      <td>-0.279001</td>\n",
       "      <td>-0.273950</td>\n",
       "      <td>-0.269329</td>\n",
       "      <td>-0.265041</td>\n",
       "      <td>0.272002</td>\n",
       "      <td>-0.212001</td>\n",
       "      <td>-0.273351</td>\n",
       "      <td>-0.113443</td>\n",
       "    </tr>\n",
       "  </tbody>\n",
       "</table>\n",
       "<p>5 rows × 225 columns</p>\n",
       "</div>"
      ],
      "text/plain": [
       "       ADIPOSE (BULK TISSUE)  ADRENAL GLAND  ALPHA CELL  \\\n",
       "index                                                     \n",
       "A1BG               -0.200403      -0.185935    0.085238   \n",
       "A1CF               -0.236927      -0.218805    5.838843   \n",
       "A2M                 1.738118       1.192424   -0.384093   \n",
       "A2ML1              -0.155404      -0.150269   -0.143734   \n",
       "A2MP1               0.267999      -0.010336   -0.256938   \n",
       "\n",
       "       ALVEOLAR CELL TYPE II  ALVEOLAR MACROPHAGE  AMNIOTIC FLUID  ASTROCYTE  \\\n",
       "index                                                                          \n",
       "A1BG                0.146578            -0.136843       -0.209940  -0.102366   \n",
       "A1CF               -0.198374            -0.214906        0.269708  -0.239577   \n",
       "A2M                -0.406404            -0.166013       -0.375169  -0.335783   \n",
       "A2ML1              -0.066424            -0.154341        6.362096  -0.154260   \n",
       "A2MP1              -0.142029             0.038686       -0.241427  -0.254858   \n",
       "\n",
       "         ATRIUM  BASAL CELL  BETA CELL    ...        SUPT1       T24  \\\n",
       "index                                     ...                          \n",
       "A1BG  -0.137281   -0.201653  -0.080133    ...    -0.033842  0.102486   \n",
       "A1CF  -0.238784   -0.234873   1.393770    ...    -0.152948 -0.221009   \n",
       "A2M    0.343129   -0.401982  -0.380860    ...    -0.404115 -0.336552   \n",
       "A2ML1 -0.153319    0.175073  -0.153013    ...    -0.133249 -0.129378   \n",
       "A2MP1 -0.127319   -0.264037  -0.263641    ...    -0.232394 -0.262849   \n",
       "\n",
       "           T47D       T84      T98G      THP1       U87      U937      VCAP  \\\n",
       "index                                                                         \n",
       "A1BG  -0.098239 -0.148844 -0.064213 -0.071627  0.211910 -0.136129 -0.169931   \n",
       "A1CF  -0.239018  0.819048 -0.242096 -0.239584 -0.206204 -0.227177 -0.103934   \n",
       "A2M   -0.407756 -0.406746 -0.233664  0.434982 -0.401404 -0.391745 -0.406428   \n",
       "A2ML1 -0.149999 -0.147116 -0.155418 -0.146437 -0.121842 -0.146042 -0.152047   \n",
       "A2MP1 -0.279001 -0.273950 -0.269329 -0.265041  0.272002 -0.212001 -0.273351   \n",
       "\n",
       "       WSUDLCL2  \n",
       "index            \n",
       "A1BG  -0.013755  \n",
       "A1CF  -0.242068  \n",
       "A2M   -0.406994  \n",
       "A2ML1 -0.148148  \n",
       "A2MP1 -0.113443  \n",
       "\n",
       "[5 rows x 225 columns]"
      ]
     },
     "execution_count": 79,
     "metadata": {},
     "output_type": "execute_result"
    }
   ],
   "source": [
    "normalized_matrix.head()"
   ]
  },
  {
   "cell_type": "markdown",
   "metadata": {},
   "source": [
    "# Save Filtered Matrix"
   ]
  },
  {
   "cell_type": "code",
   "execution_count": 80,
   "metadata": {
    "collapsed": true
   },
   "outputs": [],
   "source": [
    "filename = '~/./Documents/Harmonizome/ARCHS4/Output/archs4_matrix_filltered_%s.tsv.zip'% str(datetime.date.today())[0:7].replace('-', '_')\n",
    "normalized_matrix.to_csv(filename, sep='\\t', compression='gzip')"
   ]
  },
  {
   "cell_type": "markdown",
   "metadata": {},
   "source": [
    "# Create Tertiary Matrix"
   ]
  },
  {
   "cell_type": "code",
   "execution_count": 81,
   "metadata": {},
   "outputs": [
    {
     "name": "stdout",
     "output_type": "stream",
     "text": [
      "Progeres: 100%  225 Out of 225   \r"
     ]
    }
   ],
   "source": [
    "tertiary_matrix = mf.createTertiaryMarix(normalized_matrix)"
   ]
  },
  {
   "cell_type": "code",
   "execution_count": 82,
   "metadata": {},
   "outputs": [
    {
     "data": {
      "text/html": [
       "<div>\n",
       "<table border=\"1\" class=\"dataframe\">\n",
       "  <thead>\n",
       "    <tr style=\"text-align: right;\">\n",
       "      <th></th>\n",
       "      <th>ADIPOSE (BULK TISSUE)</th>\n",
       "      <th>ADRENAL GLAND</th>\n",
       "      <th>ALPHA CELL</th>\n",
       "      <th>ALVEOLAR CELL TYPE II</th>\n",
       "      <th>ALVEOLAR MACROPHAGE</th>\n",
       "      <th>AMNIOTIC FLUID</th>\n",
       "      <th>ASTROCYTE</th>\n",
       "      <th>ATRIUM</th>\n",
       "      <th>BASAL CELL</th>\n",
       "      <th>BETA CELL</th>\n",
       "      <th>...</th>\n",
       "      <th>SUPT1</th>\n",
       "      <th>T24</th>\n",
       "      <th>T47D</th>\n",
       "      <th>T84</th>\n",
       "      <th>T98G</th>\n",
       "      <th>THP1</th>\n",
       "      <th>U87</th>\n",
       "      <th>U937</th>\n",
       "      <th>VCAP</th>\n",
       "      <th>WSUDLCL2</th>\n",
       "    </tr>\n",
       "    <tr>\n",
       "      <th>index</th>\n",
       "      <th></th>\n",
       "      <th></th>\n",
       "      <th></th>\n",
       "      <th></th>\n",
       "      <th></th>\n",
       "      <th></th>\n",
       "      <th></th>\n",
       "      <th></th>\n",
       "      <th></th>\n",
       "      <th></th>\n",
       "      <th></th>\n",
       "      <th></th>\n",
       "      <th></th>\n",
       "      <th></th>\n",
       "      <th></th>\n",
       "      <th></th>\n",
       "      <th></th>\n",
       "      <th></th>\n",
       "      <th></th>\n",
       "      <th></th>\n",
       "      <th></th>\n",
       "    </tr>\n",
       "  </thead>\n",
       "  <tbody>\n",
       "    <tr>\n",
       "      <th>A1BG</th>\n",
       "      <td>0.0</td>\n",
       "      <td>0.0</td>\n",
       "      <td>0.0</td>\n",
       "      <td>0.0</td>\n",
       "      <td>0.0</td>\n",
       "      <td>0.0</td>\n",
       "      <td>0.0</td>\n",
       "      <td>0.0</td>\n",
       "      <td>0.0</td>\n",
       "      <td>0.0</td>\n",
       "      <td>...</td>\n",
       "      <td>0.0</td>\n",
       "      <td>0.0</td>\n",
       "      <td>0.0</td>\n",
       "      <td>0.0</td>\n",
       "      <td>0.0</td>\n",
       "      <td>0.0</td>\n",
       "      <td>0.0</td>\n",
       "      <td>0.0</td>\n",
       "      <td>0.0</td>\n",
       "      <td>0.0</td>\n",
       "    </tr>\n",
       "    <tr>\n",
       "      <th>A1CF</th>\n",
       "      <td>0.0</td>\n",
       "      <td>0.0</td>\n",
       "      <td>1.0</td>\n",
       "      <td>0.0</td>\n",
       "      <td>0.0</td>\n",
       "      <td>0.0</td>\n",
       "      <td>0.0</td>\n",
       "      <td>0.0</td>\n",
       "      <td>0.0</td>\n",
       "      <td>1.0</td>\n",
       "      <td>...</td>\n",
       "      <td>0.0</td>\n",
       "      <td>0.0</td>\n",
       "      <td>0.0</td>\n",
       "      <td>1.0</td>\n",
       "      <td>0.0</td>\n",
       "      <td>0.0</td>\n",
       "      <td>0.0</td>\n",
       "      <td>0.0</td>\n",
       "      <td>0.0</td>\n",
       "      <td>0.0</td>\n",
       "    </tr>\n",
       "    <tr>\n",
       "      <th>A2M</th>\n",
       "      <td>1.0</td>\n",
       "      <td>1.0</td>\n",
       "      <td>0.0</td>\n",
       "      <td>0.0</td>\n",
       "      <td>0.0</td>\n",
       "      <td>0.0</td>\n",
       "      <td>0.0</td>\n",
       "      <td>0.0</td>\n",
       "      <td>0.0</td>\n",
       "      <td>0.0</td>\n",
       "      <td>...</td>\n",
       "      <td>0.0</td>\n",
       "      <td>0.0</td>\n",
       "      <td>0.0</td>\n",
       "      <td>0.0</td>\n",
       "      <td>0.0</td>\n",
       "      <td>0.0</td>\n",
       "      <td>0.0</td>\n",
       "      <td>0.0</td>\n",
       "      <td>0.0</td>\n",
       "      <td>0.0</td>\n",
       "    </tr>\n",
       "    <tr>\n",
       "      <th>A2ML1</th>\n",
       "      <td>0.0</td>\n",
       "      <td>0.0</td>\n",
       "      <td>0.0</td>\n",
       "      <td>0.0</td>\n",
       "      <td>0.0</td>\n",
       "      <td>1.0</td>\n",
       "      <td>0.0</td>\n",
       "      <td>0.0</td>\n",
       "      <td>0.0</td>\n",
       "      <td>0.0</td>\n",
       "      <td>...</td>\n",
       "      <td>0.0</td>\n",
       "      <td>0.0</td>\n",
       "      <td>0.0</td>\n",
       "      <td>0.0</td>\n",
       "      <td>0.0</td>\n",
       "      <td>0.0</td>\n",
       "      <td>0.0</td>\n",
       "      <td>0.0</td>\n",
       "      <td>0.0</td>\n",
       "      <td>0.0</td>\n",
       "    </tr>\n",
       "    <tr>\n",
       "      <th>A2MP1</th>\n",
       "      <td>0.0</td>\n",
       "      <td>0.0</td>\n",
       "      <td>0.0</td>\n",
       "      <td>0.0</td>\n",
       "      <td>0.0</td>\n",
       "      <td>0.0</td>\n",
       "      <td>0.0</td>\n",
       "      <td>0.0</td>\n",
       "      <td>0.0</td>\n",
       "      <td>0.0</td>\n",
       "      <td>...</td>\n",
       "      <td>0.0</td>\n",
       "      <td>0.0</td>\n",
       "      <td>0.0</td>\n",
       "      <td>0.0</td>\n",
       "      <td>0.0</td>\n",
       "      <td>0.0</td>\n",
       "      <td>0.0</td>\n",
       "      <td>0.0</td>\n",
       "      <td>0.0</td>\n",
       "      <td>0.0</td>\n",
       "    </tr>\n",
       "  </tbody>\n",
       "</table>\n",
       "<p>5 rows × 225 columns</p>\n",
       "</div>"
      ],
      "text/plain": [
       "       ADIPOSE (BULK TISSUE)  ADRENAL GLAND  ALPHA CELL  \\\n",
       "index                                                     \n",
       "A1BG                     0.0            0.0         0.0   \n",
       "A1CF                     0.0            0.0         1.0   \n",
       "A2M                      1.0            1.0         0.0   \n",
       "A2ML1                    0.0            0.0         0.0   \n",
       "A2MP1                    0.0            0.0         0.0   \n",
       "\n",
       "       ALVEOLAR CELL TYPE II  ALVEOLAR MACROPHAGE  AMNIOTIC FLUID  ASTROCYTE  \\\n",
       "index                                                                          \n",
       "A1BG                     0.0                  0.0             0.0        0.0   \n",
       "A1CF                     0.0                  0.0             0.0        0.0   \n",
       "A2M                      0.0                  0.0             0.0        0.0   \n",
       "A2ML1                    0.0                  0.0             1.0        0.0   \n",
       "A2MP1                    0.0                  0.0             0.0        0.0   \n",
       "\n",
       "       ATRIUM  BASAL CELL  BETA CELL    ...     SUPT1  T24  T47D  T84  T98G  \\\n",
       "index                                   ...                                   \n",
       "A1BG      0.0         0.0        0.0    ...       0.0  0.0   0.0  0.0   0.0   \n",
       "A1CF      0.0         0.0        1.0    ...       0.0  0.0   0.0  1.0   0.0   \n",
       "A2M       0.0         0.0        0.0    ...       0.0  0.0   0.0  0.0   0.0   \n",
       "A2ML1     0.0         0.0        0.0    ...       0.0  0.0   0.0  0.0   0.0   \n",
       "A2MP1     0.0         0.0        0.0    ...       0.0  0.0   0.0  0.0   0.0   \n",
       "\n",
       "       THP1  U87  U937  VCAP  WSUDLCL2  \n",
       "index                                   \n",
       "A1BG    0.0  0.0   0.0   0.0       0.0  \n",
       "A1CF    0.0  0.0   0.0   0.0       0.0  \n",
       "A2M     0.0  0.0   0.0   0.0       0.0  \n",
       "A2ML1   0.0  0.0   0.0   0.0       0.0  \n",
       "A2MP1   0.0  0.0   0.0   0.0       0.0  \n",
       "\n",
       "[5 rows x 225 columns]"
      ]
     },
     "execution_count": 82,
     "metadata": {},
     "output_type": "execute_result"
    }
   ],
   "source": [
    "tertiary_matrix.head()"
   ]
  },
  {
   "cell_type": "markdown",
   "metadata": {},
   "source": [
    "# Save Teriary Matrix"
   ]
  },
  {
   "cell_type": "code",
   "execution_count": 83,
   "metadata": {
    "collapsed": true
   },
   "outputs": [],
   "source": [
    "filename = '~/./Documents/Harmonizome/ARCHS4/Output/archs4_tertiary_matrix_%s.tsv.zip'% str(datetime.date.today())[0:7].replace('-', '_')\n",
    "tertiary_matrix.to_csv(filename, sep='\\t', compression='gzip')"
   ]
  },
  {
   "cell_type": "markdown",
   "metadata": {},
   "source": [
    "#### Path to output files"
   ]
  },
  {
   "cell_type": "code",
   "execution_count": 84,
   "metadata": {
    "collapsed": true
   },
   "outputs": [],
   "source": [
    "path = '/Users/moshesilverstein/Documents/Harmonizome/ARCHS4/Output/'"
   ]
  },
  {
   "cell_type": "markdown",
   "metadata": {},
   "source": [
    "# Create Up Gene Set Library"
   ]
  },
  {
   "cell_type": "code",
   "execution_count": 85,
   "metadata": {
    "collapsed": true
   },
   "outputs": [],
   "source": [
    "name = 'archs4_gene_up_set'"
   ]
  },
  {
   "cell_type": "code",
   "execution_count": 86,
   "metadata": {},
   "outputs": [
    {
     "name": "stdout",
     "output_type": "stream",
     "text": [
      "Progeres: 100%  225 Out of 225   \r"
     ]
    }
   ],
   "source": [
    "mf.createUpGeneSetLib(tertiary_matrix, path, name)"
   ]
  },
  {
   "cell_type": "markdown",
   "metadata": {},
   "source": [
    "# Create Down Gene Set Library"
   ]
  },
  {
   "cell_type": "code",
   "execution_count": 87,
   "metadata": {
    "collapsed": true
   },
   "outputs": [],
   "source": [
    "name = 'archs4_gene_down_set'"
   ]
  },
  {
   "cell_type": "code",
   "execution_count": 88,
   "metadata": {},
   "outputs": [
    {
     "name": "stdout",
     "output_type": "stream",
     "text": [
      "Progeres: 100%  225 Out of 225   \r"
     ]
    }
   ],
   "source": [
    "mf.createDownGeneSetLib(tertiary_matrix, path, name)"
   ]
  },
  {
   "cell_type": "markdown",
   "metadata": {},
   "source": [
    "# Create Up Attribute Library"
   ]
  },
  {
   "cell_type": "code",
   "execution_count": 89,
   "metadata": {
    "collapsed": true
   },
   "outputs": [],
   "source": [
    "name = 'archs4_attribute_up_set'"
   ]
  },
  {
   "cell_type": "code",
   "execution_count": 90,
   "metadata": {},
   "outputs": [
    {
     "name": "stdout",
     "output_type": "stream",
     "text": [
      "Progeres: 100%  26845 Out of 26845   \r"
     ]
    }
   ],
   "source": [
    "mf.createUpAttributeSetLib(tertiary_matrix, path, name)"
   ]
  },
  {
   "cell_type": "markdown",
   "metadata": {},
   "source": [
    "# Create Down Attribute Library"
   ]
  },
  {
   "cell_type": "code",
   "execution_count": 91,
   "metadata": {
    "collapsed": true
   },
   "outputs": [],
   "source": [
    "name = 'archs4_attribute_down_set'"
   ]
  },
  {
   "cell_type": "code",
   "execution_count": 92,
   "metadata": {},
   "outputs": [
    {
     "name": "stdout",
     "output_type": "stream",
     "text": [
      "Progeres: 100%  26845 Out of 26845   \r"
     ]
    }
   ],
   "source": [
    "mf.createDownAttributeSetLib(tertiary_matrix, path, name)"
   ]
  },
  {
   "cell_type": "markdown",
   "metadata": {},
   "source": [
    "# Create Gene Similarity Matrix"
   ]
  },
  {
   "cell_type": "code",
   "execution_count": 93,
   "metadata": {
    "collapsed": true
   },
   "outputs": [],
   "source": [
    "gene_similarity_matix = mf.createSimilarityMatrix(normalized_matrix, 'cosine')"
   ]
  },
  {
   "cell_type": "code",
   "execution_count": 94,
   "metadata": {},
   "outputs": [
    {
     "data": {
      "text/html": [
       "<div>\n",
       "<table border=\"1\" class=\"dataframe\">\n",
       "  <thead>\n",
       "    <tr style=\"text-align: right;\">\n",
       "      <th>index</th>\n",
       "      <th>A1BG</th>\n",
       "      <th>A1CF</th>\n",
       "      <th>A2M</th>\n",
       "      <th>A2ML1</th>\n",
       "      <th>A2MP1</th>\n",
       "      <th>A3GALT2</th>\n",
       "      <th>A4GALT</th>\n",
       "      <th>A4GNT</th>\n",
       "      <th>AAAS</th>\n",
       "      <th>AACS</th>\n",
       "      <th>...</th>\n",
       "      <th>ZXDA</th>\n",
       "      <th>ZXDB</th>\n",
       "      <th>ZXDC</th>\n",
       "      <th>ZYG11A</th>\n",
       "      <th>ZYG11AP1</th>\n",
       "      <th>ZYG11B</th>\n",
       "      <th>ZYX</th>\n",
       "      <th>ZYXP1</th>\n",
       "      <th>ZZEF1</th>\n",
       "      <th>ZZZ3</th>\n",
       "    </tr>\n",
       "    <tr>\n",
       "      <th>index</th>\n",
       "      <th></th>\n",
       "      <th></th>\n",
       "      <th></th>\n",
       "      <th></th>\n",
       "      <th></th>\n",
       "      <th></th>\n",
       "      <th></th>\n",
       "      <th></th>\n",
       "      <th></th>\n",
       "      <th></th>\n",
       "      <th></th>\n",
       "      <th></th>\n",
       "      <th></th>\n",
       "      <th></th>\n",
       "      <th></th>\n",
       "      <th></th>\n",
       "      <th></th>\n",
       "      <th></th>\n",
       "      <th></th>\n",
       "      <th></th>\n",
       "      <th></th>\n",
       "    </tr>\n",
       "  </thead>\n",
       "  <tbody>\n",
       "    <tr>\n",
       "      <th>A1BG</th>\n",
       "      <td>1.000000</td>\n",
       "      <td>0.673029</td>\n",
       "      <td>0.267123</td>\n",
       "      <td>-0.028901</td>\n",
       "      <td>0.022421</td>\n",
       "      <td>-0.019108</td>\n",
       "      <td>-0.052057</td>\n",
       "      <td>0.065376</td>\n",
       "      <td>-0.013190</td>\n",
       "      <td>-0.057218</td>\n",
       "      <td>...</td>\n",
       "      <td>-0.065518</td>\n",
       "      <td>0.014156</td>\n",
       "      <td>0.107607</td>\n",
       "      <td>-0.033926</td>\n",
       "      <td>-0.021491</td>\n",
       "      <td>-0.010341</td>\n",
       "      <td>0.003938</td>\n",
       "      <td>0.106816</td>\n",
       "      <td>-0.033943</td>\n",
       "      <td>-0.103793</td>\n",
       "    </tr>\n",
       "    <tr>\n",
       "      <th>A1CF</th>\n",
       "      <td>0.673029</td>\n",
       "      <td>1.000000</td>\n",
       "      <td>0.355726</td>\n",
       "      <td>-0.018799</td>\n",
       "      <td>-0.014312</td>\n",
       "      <td>-0.047752</td>\n",
       "      <td>-0.115841</td>\n",
       "      <td>0.053403</td>\n",
       "      <td>-0.101031</td>\n",
       "      <td>0.151921</td>\n",
       "      <td>...</td>\n",
       "      <td>-0.092944</td>\n",
       "      <td>0.032962</td>\n",
       "      <td>0.122776</td>\n",
       "      <td>-0.008717</td>\n",
       "      <td>0.038415</td>\n",
       "      <td>-0.047353</td>\n",
       "      <td>-0.079557</td>\n",
       "      <td>0.259536</td>\n",
       "      <td>0.094030</td>\n",
       "      <td>-0.038789</td>\n",
       "    </tr>\n",
       "    <tr>\n",
       "      <th>A2M</th>\n",
       "      <td>0.267123</td>\n",
       "      <td>0.355726</td>\n",
       "      <td>1.000000</td>\n",
       "      <td>-0.027291</td>\n",
       "      <td>0.027744</td>\n",
       "      <td>-0.059195</td>\n",
       "      <td>0.020771</td>\n",
       "      <td>0.094126</td>\n",
       "      <td>-0.110816</td>\n",
       "      <td>-0.049047</td>\n",
       "      <td>...</td>\n",
       "      <td>-0.134941</td>\n",
       "      <td>-0.060730</td>\n",
       "      <td>-0.029731</td>\n",
       "      <td>-0.181712</td>\n",
       "      <td>-0.049343</td>\n",
       "      <td>0.061969</td>\n",
       "      <td>0.007164</td>\n",
       "      <td>0.009681</td>\n",
       "      <td>0.019850</td>\n",
       "      <td>-0.127373</td>\n",
       "    </tr>\n",
       "    <tr>\n",
       "      <th>A2ML1</th>\n",
       "      <td>-0.028901</td>\n",
       "      <td>-0.018799</td>\n",
       "      <td>-0.027291</td>\n",
       "      <td>1.000000</td>\n",
       "      <td>-0.010264</td>\n",
       "      <td>-0.033137</td>\n",
       "      <td>0.038865</td>\n",
       "      <td>-0.055690</td>\n",
       "      <td>-0.090654</td>\n",
       "      <td>0.046746</td>\n",
       "      <td>...</td>\n",
       "      <td>-0.021412</td>\n",
       "      <td>0.004219</td>\n",
       "      <td>-0.013889</td>\n",
       "      <td>-0.050630</td>\n",
       "      <td>-0.002220</td>\n",
       "      <td>-0.008675</td>\n",
       "      <td>-0.058092</td>\n",
       "      <td>-0.007483</td>\n",
       "      <td>0.006554</td>\n",
       "      <td>0.029288</td>\n",
       "    </tr>\n",
       "    <tr>\n",
       "      <th>A2MP1</th>\n",
       "      <td>0.022421</td>\n",
       "      <td>-0.014312</td>\n",
       "      <td>0.027744</td>\n",
       "      <td>-0.010264</td>\n",
       "      <td>1.000000</td>\n",
       "      <td>0.036623</td>\n",
       "      <td>0.198878</td>\n",
       "      <td>-0.057125</td>\n",
       "      <td>-0.004515</td>\n",
       "      <td>0.090587</td>\n",
       "      <td>...</td>\n",
       "      <td>-0.012984</td>\n",
       "      <td>-0.024966</td>\n",
       "      <td>0.077975</td>\n",
       "      <td>0.058259</td>\n",
       "      <td>-0.039648</td>\n",
       "      <td>-0.055510</td>\n",
       "      <td>-0.057325</td>\n",
       "      <td>-0.028254</td>\n",
       "      <td>0.009574</td>\n",
       "      <td>-0.118611</td>\n",
       "    </tr>\n",
       "  </tbody>\n",
       "</table>\n",
       "<p>5 rows × 26845 columns</p>\n",
       "</div>"
      ],
      "text/plain": [
       "index      A1BG      A1CF       A2M     A2ML1     A2MP1   A3GALT2    A4GALT  \\\n",
       "index                                                                         \n",
       "A1BG   1.000000  0.673029  0.267123 -0.028901  0.022421 -0.019108 -0.052057   \n",
       "A1CF   0.673029  1.000000  0.355726 -0.018799 -0.014312 -0.047752 -0.115841   \n",
       "A2M    0.267123  0.355726  1.000000 -0.027291  0.027744 -0.059195  0.020771   \n",
       "A2ML1 -0.028901 -0.018799 -0.027291  1.000000 -0.010264 -0.033137  0.038865   \n",
       "A2MP1  0.022421 -0.014312  0.027744 -0.010264  1.000000  0.036623  0.198878   \n",
       "\n",
       "index     A4GNT      AAAS      AACS    ...         ZXDA      ZXDB      ZXDC  \\\n",
       "index                                  ...                                    \n",
       "A1BG   0.065376 -0.013190 -0.057218    ...    -0.065518  0.014156  0.107607   \n",
       "A1CF   0.053403 -0.101031  0.151921    ...    -0.092944  0.032962  0.122776   \n",
       "A2M    0.094126 -0.110816 -0.049047    ...    -0.134941 -0.060730 -0.029731   \n",
       "A2ML1 -0.055690 -0.090654  0.046746    ...    -0.021412  0.004219 -0.013889   \n",
       "A2MP1 -0.057125 -0.004515  0.090587    ...    -0.012984 -0.024966  0.077975   \n",
       "\n",
       "index    ZYG11A  ZYG11AP1    ZYG11B       ZYX     ZYXP1     ZZEF1      ZZZ3  \n",
       "index                                                                        \n",
       "A1BG  -0.033926 -0.021491 -0.010341  0.003938  0.106816 -0.033943 -0.103793  \n",
       "A1CF  -0.008717  0.038415 -0.047353 -0.079557  0.259536  0.094030 -0.038789  \n",
       "A2M   -0.181712 -0.049343  0.061969  0.007164  0.009681  0.019850 -0.127373  \n",
       "A2ML1 -0.050630 -0.002220 -0.008675 -0.058092 -0.007483  0.006554  0.029288  \n",
       "A2MP1  0.058259 -0.039648 -0.055510 -0.057325 -0.028254  0.009574 -0.118611  \n",
       "\n",
       "[5 rows x 26845 columns]"
      ]
     },
     "execution_count": 94,
     "metadata": {},
     "output_type": "execute_result"
    }
   ],
   "source": [
    "gene_similarity_matix.head()"
   ]
  },
  {
   "cell_type": "markdown",
   "metadata": {},
   "source": [
    "# Save Gene Similarity Matrix "
   ]
  },
  {
   "cell_type": "code",
   "execution_count": 95,
   "metadata": {},
   "outputs": [],
   "source": [
    "filename = '~/./Documents/Harmonizome/ARCHS4/Output/archs4_gene_similarity_matix_%s.tsv.zip'% str(datetime.date.today())[0:7].replace('-', '_')\n",
    "gene_similarity_matix.to_csv(filename, sep='\\t', compression='gzip')"
   ]
  },
  {
   "cell_type": "markdown",
   "metadata": {},
   "source": [
    "# Create Attribute Similarity matrix"
   ]
  },
  {
   "cell_type": "code",
   "execution_count": 96,
   "metadata": {
    "collapsed": true
   },
   "outputs": [],
   "source": [
    "attribute_similarity_matix = mf.createSimilarityMatrix(normalized_matrix.T, 'cosine')"
   ]
  },
  {
   "cell_type": "code",
   "execution_count": 97,
   "metadata": {},
   "outputs": [
    {
     "data": {
      "text/html": [
       "<div>\n",
       "<table border=\"1\" class=\"dataframe\">\n",
       "  <thead>\n",
       "    <tr style=\"text-align: right;\">\n",
       "      <th></th>\n",
       "      <th>ADIPOSE (BULK TISSUE)</th>\n",
       "      <th>ADRENAL GLAND</th>\n",
       "      <th>ALPHA CELL</th>\n",
       "      <th>ALVEOLAR CELL TYPE II</th>\n",
       "      <th>ALVEOLAR MACROPHAGE</th>\n",
       "      <th>AMNIOTIC FLUID</th>\n",
       "      <th>ASTROCYTE</th>\n",
       "      <th>ATRIUM</th>\n",
       "      <th>BASAL CELL</th>\n",
       "      <th>BETA CELL</th>\n",
       "      <th>...</th>\n",
       "      <th>SUPT1</th>\n",
       "      <th>T24</th>\n",
       "      <th>T47D</th>\n",
       "      <th>T84</th>\n",
       "      <th>T98G</th>\n",
       "      <th>THP1</th>\n",
       "      <th>U87</th>\n",
       "      <th>U937</th>\n",
       "      <th>VCAP</th>\n",
       "      <th>WSUDLCL2</th>\n",
       "    </tr>\n",
       "  </thead>\n",
       "  <tbody>\n",
       "    <tr>\n",
       "      <th>ADIPOSE (BULK TISSUE)</th>\n",
       "      <td>1.000000</td>\n",
       "      <td>0.181116</td>\n",
       "      <td>-0.012809</td>\n",
       "      <td>-0.049156</td>\n",
       "      <td>0.016841</td>\n",
       "      <td>0.020332</td>\n",
       "      <td>0.131782</td>\n",
       "      <td>0.270084</td>\n",
       "      <td>-0.001029</td>\n",
       "      <td>0.032353</td>\n",
       "      <td>...</td>\n",
       "      <td>-0.182980</td>\n",
       "      <td>-0.014943</td>\n",
       "      <td>0.004004</td>\n",
       "      <td>-0.098564</td>\n",
       "      <td>0.000532</td>\n",
       "      <td>0.007966</td>\n",
       "      <td>0.003161</td>\n",
       "      <td>-0.080062</td>\n",
       "      <td>-0.033579</td>\n",
       "      <td>-0.124675</td>\n",
       "    </tr>\n",
       "    <tr>\n",
       "      <th>ADRENAL GLAND</th>\n",
       "      <td>0.181116</td>\n",
       "      <td>1.000000</td>\n",
       "      <td>0.079787</td>\n",
       "      <td>0.005419</td>\n",
       "      <td>0.040103</td>\n",
       "      <td>0.023350</td>\n",
       "      <td>0.070108</td>\n",
       "      <td>0.180670</td>\n",
       "      <td>0.001888</td>\n",
       "      <td>0.137787</td>\n",
       "      <td>...</td>\n",
       "      <td>-0.090161</td>\n",
       "      <td>-0.017692</td>\n",
       "      <td>-0.004019</td>\n",
       "      <td>-0.010200</td>\n",
       "      <td>-0.046753</td>\n",
       "      <td>-0.018846</td>\n",
       "      <td>0.017805</td>\n",
       "      <td>-0.062047</td>\n",
       "      <td>0.034267</td>\n",
       "      <td>-0.116561</td>\n",
       "    </tr>\n",
       "    <tr>\n",
       "      <th>ALPHA CELL</th>\n",
       "      <td>-0.012809</td>\n",
       "      <td>0.079787</td>\n",
       "      <td>1.000000</td>\n",
       "      <td>0.148023</td>\n",
       "      <td>0.070121</td>\n",
       "      <td>0.144207</td>\n",
       "      <td>-0.050368</td>\n",
       "      <td>0.015756</td>\n",
       "      <td>-0.002505</td>\n",
       "      <td>0.593797</td>\n",
       "      <td>...</td>\n",
       "      <td>0.040008</td>\n",
       "      <td>0.023220</td>\n",
       "      <td>-0.066736</td>\n",
       "      <td>0.045348</td>\n",
       "      <td>-0.141121</td>\n",
       "      <td>-0.074331</td>\n",
       "      <td>0.017564</td>\n",
       "      <td>-0.065330</td>\n",
       "      <td>0.083968</td>\n",
       "      <td>-0.103058</td>\n",
       "    </tr>\n",
       "    <tr>\n",
       "      <th>ALVEOLAR CELL TYPE II</th>\n",
       "      <td>-0.049156</td>\n",
       "      <td>0.005419</td>\n",
       "      <td>0.148023</td>\n",
       "      <td>1.000000</td>\n",
       "      <td>0.063669</td>\n",
       "      <td>0.103728</td>\n",
       "      <td>-0.090488</td>\n",
       "      <td>-0.017467</td>\n",
       "      <td>0.115423</td>\n",
       "      <td>0.083310</td>\n",
       "      <td>...</td>\n",
       "      <td>0.083155</td>\n",
       "      <td>0.046907</td>\n",
       "      <td>-0.079958</td>\n",
       "      <td>0.085437</td>\n",
       "      <td>-0.122482</td>\n",
       "      <td>-0.060791</td>\n",
       "      <td>0.040186</td>\n",
       "      <td>-0.011677</td>\n",
       "      <td>-0.017983</td>\n",
       "      <td>-0.126353</td>\n",
       "    </tr>\n",
       "    <tr>\n",
       "      <th>ALVEOLAR MACROPHAGE</th>\n",
       "      <td>0.016841</td>\n",
       "      <td>0.040103</td>\n",
       "      <td>0.070121</td>\n",
       "      <td>0.063669</td>\n",
       "      <td>1.000000</td>\n",
       "      <td>0.027223</td>\n",
       "      <td>-0.074105</td>\n",
       "      <td>-0.029941</td>\n",
       "      <td>0.027833</td>\n",
       "      <td>0.027072</td>\n",
       "      <td>...</td>\n",
       "      <td>0.026119</td>\n",
       "      <td>-0.004203</td>\n",
       "      <td>-0.085371</td>\n",
       "      <td>0.102548</td>\n",
       "      <td>-0.109503</td>\n",
       "      <td>0.134105</td>\n",
       "      <td>-0.024324</td>\n",
       "      <td>0.164849</td>\n",
       "      <td>-0.061785</td>\n",
       "      <td>-0.038395</td>\n",
       "    </tr>\n",
       "  </tbody>\n",
       "</table>\n",
       "<p>5 rows × 225 columns</p>\n",
       "</div>"
      ],
      "text/plain": [
       "                       ADIPOSE (BULK TISSUE)  ADRENAL GLAND  ALPHA CELL  \\\n",
       "ADIPOSE (BULK TISSUE)               1.000000       0.181116   -0.012809   \n",
       "ADRENAL GLAND                       0.181116       1.000000    0.079787   \n",
       "ALPHA CELL                         -0.012809       0.079787    1.000000   \n",
       "ALVEOLAR CELL TYPE II              -0.049156       0.005419    0.148023   \n",
       "ALVEOLAR MACROPHAGE                 0.016841       0.040103    0.070121   \n",
       "\n",
       "                       ALVEOLAR CELL TYPE II  ALVEOLAR MACROPHAGE  \\\n",
       "ADIPOSE (BULK TISSUE)              -0.049156             0.016841   \n",
       "ADRENAL GLAND                       0.005419             0.040103   \n",
       "ALPHA CELL                          0.148023             0.070121   \n",
       "ALVEOLAR CELL TYPE II               1.000000             0.063669   \n",
       "ALVEOLAR MACROPHAGE                 0.063669             1.000000   \n",
       "\n",
       "                       AMNIOTIC FLUID  ASTROCYTE    ATRIUM  BASAL CELL  \\\n",
       "ADIPOSE (BULK TISSUE)        0.020332   0.131782  0.270084   -0.001029   \n",
       "ADRENAL GLAND                0.023350   0.070108  0.180670    0.001888   \n",
       "ALPHA CELL                   0.144207  -0.050368  0.015756   -0.002505   \n",
       "ALVEOLAR CELL TYPE II        0.103728  -0.090488 -0.017467    0.115423   \n",
       "ALVEOLAR MACROPHAGE          0.027223  -0.074105 -0.029941    0.027833   \n",
       "\n",
       "                       BETA CELL    ...        SUPT1       T24      T47D  \\\n",
       "ADIPOSE (BULK TISSUE)   0.032353    ...    -0.182980 -0.014943  0.004004   \n",
       "ADRENAL GLAND           0.137787    ...    -0.090161 -0.017692 -0.004019   \n",
       "ALPHA CELL              0.593797    ...     0.040008  0.023220 -0.066736   \n",
       "ALVEOLAR CELL TYPE II   0.083310    ...     0.083155  0.046907 -0.079958   \n",
       "ALVEOLAR MACROPHAGE     0.027072    ...     0.026119 -0.004203 -0.085371   \n",
       "\n",
       "                            T84      T98G      THP1       U87      U937  \\\n",
       "ADIPOSE (BULK TISSUE) -0.098564  0.000532  0.007966  0.003161 -0.080062   \n",
       "ADRENAL GLAND         -0.010200 -0.046753 -0.018846  0.017805 -0.062047   \n",
       "ALPHA CELL             0.045348 -0.141121 -0.074331  0.017564 -0.065330   \n",
       "ALVEOLAR CELL TYPE II  0.085437 -0.122482 -0.060791  0.040186 -0.011677   \n",
       "ALVEOLAR MACROPHAGE    0.102548 -0.109503  0.134105 -0.024324  0.164849   \n",
       "\n",
       "                           VCAP  WSUDLCL2  \n",
       "ADIPOSE (BULK TISSUE) -0.033579 -0.124675  \n",
       "ADRENAL GLAND          0.034267 -0.116561  \n",
       "ALPHA CELL             0.083968 -0.103058  \n",
       "ALVEOLAR CELL TYPE II -0.017983 -0.126353  \n",
       "ALVEOLAR MACROPHAGE   -0.061785 -0.038395  \n",
       "\n",
       "[5 rows x 225 columns]"
      ]
     },
     "execution_count": 97,
     "metadata": {},
     "output_type": "execute_result"
    }
   ],
   "source": [
    "attribute_similarity_matix.head()"
   ]
  },
  {
   "cell_type": "markdown",
   "metadata": {},
   "source": [
    "# Save Attribute Similarity Matrix"
   ]
  },
  {
   "cell_type": "code",
   "execution_count": 98,
   "metadata": {
    "collapsed": true
   },
   "outputs": [],
   "source": [
    "filename = '~/./Documents/Harmonizome/ARCHS4/Output/archs4_attribute_similarity_matix_%s.tsv.zip'% str(datetime.date.today())[0:7].replace('-', '_')\n",
    "attribute_similarity_matix.to_csv(filename, sep='\\t', compression='gzip')"
   ]
  },
  {
   "cell_type": "markdown",
   "metadata": {},
   "source": [
    "# Create Gene List"
   ]
  },
  {
   "cell_type": "code",
   "execution_count": 99,
   "metadata": {},
   "outputs": [
    {
     "name": "stdout",
     "output_type": "stream",
     "text": [
      "Progeres: 100%  26845 Out of 26845   \r"
     ]
    }
   ],
   "source": [
    "gene_list = mf.createGeneList(normalized_matrix)"
   ]
  },
  {
   "cell_type": "code",
   "execution_count": 100,
   "metadata": {},
   "outputs": [
    {
     "data": {
      "text/html": [
       "<div>\n",
       "<table border=\"1\" class=\"dataframe\">\n",
       "  <thead>\n",
       "    <tr style=\"text-align: right;\">\n",
       "      <th></th>\n",
       "      <th>GeneSym</th>\n",
       "      <th>GeneID</th>\n",
       "    </tr>\n",
       "  </thead>\n",
       "  <tbody>\n",
       "    <tr>\n",
       "      <th>0</th>\n",
       "      <td>A1BG</td>\n",
       "      <td>1</td>\n",
       "    </tr>\n",
       "    <tr>\n",
       "      <th>1</th>\n",
       "      <td>A1CF</td>\n",
       "      <td>29974</td>\n",
       "    </tr>\n",
       "    <tr>\n",
       "      <th>2</th>\n",
       "      <td>A2M</td>\n",
       "      <td>2</td>\n",
       "    </tr>\n",
       "    <tr>\n",
       "      <th>3</th>\n",
       "      <td>A2ML1</td>\n",
       "      <td>144568</td>\n",
       "    </tr>\n",
       "    <tr>\n",
       "      <th>4</th>\n",
       "      <td>A2MP1</td>\n",
       "      <td>3</td>\n",
       "    </tr>\n",
       "  </tbody>\n",
       "</table>\n",
       "</div>"
      ],
      "text/plain": [
       "  GeneSym  GeneID\n",
       "0    A1BG       1\n",
       "1    A1CF   29974\n",
       "2     A2M       2\n",
       "3   A2ML1  144568\n",
       "4   A2MP1       3"
      ]
     },
     "execution_count": 100,
     "metadata": {},
     "output_type": "execute_result"
    }
   ],
   "source": [
    "gene_list.head()"
   ]
  },
  {
   "cell_type": "code",
   "execution_count": 101,
   "metadata": {},
   "outputs": [
    {
     "data": {
      "text/plain": [
       "(26845, 2)"
      ]
     },
     "execution_count": 101,
     "metadata": {},
     "output_type": "execute_result"
    }
   ],
   "source": [
    "gene_list.shape"
   ]
  },
  {
   "cell_type": "markdown",
   "metadata": {},
   "source": [
    "# Save Gene List"
   ]
  },
  {
   "cell_type": "code",
   "execution_count": 102,
   "metadata": {
    "collapsed": true
   },
   "outputs": [],
   "source": [
    "filename = '~/./Documents/Harmonizome/ARCHS4/Output/archs4_gene_list_%s.tsv.zip'% str(datetime.date.today())[0:7].replace('-', '_')\n",
    "gene_list.to_csv(filename, sep='\\t', index=False, compression='gzip')"
   ]
  },
  {
   "cell_type": "markdown",
   "metadata": {},
   "source": [
    "# Create Attribute List "
   ]
  },
  {
   "cell_type": "code",
   "execution_count": 103,
   "metadata": {
    "collapsed": true
   },
   "outputs": [],
   "source": [
    "attribute_list = mf.createAttributeList(normalized_matrix)"
   ]
  },
  {
   "cell_type": "code",
   "execution_count": 104,
   "metadata": {},
   "outputs": [
    {
     "data": {
      "text/html": [
       "<div>\n",
       "<table border=\"1\" class=\"dataframe\">\n",
       "  <thead>\n",
       "    <tr style=\"text-align: right;\">\n",
       "      <th></th>\n",
       "      <th>Attributes</th>\n",
       "    </tr>\n",
       "  </thead>\n",
       "  <tbody>\n",
       "    <tr>\n",
       "      <th>0</th>\n",
       "      <td>ADIPOSE (BULK TISSUE)</td>\n",
       "    </tr>\n",
       "    <tr>\n",
       "      <th>1</th>\n",
       "      <td>ADRENAL GLAND</td>\n",
       "    </tr>\n",
       "    <tr>\n",
       "      <th>2</th>\n",
       "      <td>ALPHA CELL</td>\n",
       "    </tr>\n",
       "    <tr>\n",
       "      <th>3</th>\n",
       "      <td>ALVEOLAR CELL TYPE II</td>\n",
       "    </tr>\n",
       "    <tr>\n",
       "      <th>4</th>\n",
       "      <td>ALVEOLAR MACROPHAGE</td>\n",
       "    </tr>\n",
       "  </tbody>\n",
       "</table>\n",
       "</div>"
      ],
      "text/plain": [
       "              Attributes\n",
       "0  ADIPOSE (BULK TISSUE)\n",
       "1          ADRENAL GLAND\n",
       "2             ALPHA CELL\n",
       "3  ALVEOLAR CELL TYPE II\n",
       "4    ALVEOLAR MACROPHAGE"
      ]
     },
     "execution_count": 104,
     "metadata": {},
     "output_type": "execute_result"
    }
   ],
   "source": [
    "attribute_list.head()"
   ]
  },
  {
   "cell_type": "code",
   "execution_count": 105,
   "metadata": {},
   "outputs": [
    {
     "data": {
      "text/plain": [
       "(225, 1)"
      ]
     },
     "execution_count": 105,
     "metadata": {},
     "output_type": "execute_result"
    }
   ],
   "source": [
    "attribute_list.shape"
   ]
  },
  {
   "cell_type": "markdown",
   "metadata": {},
   "source": [
    "# Save Attribute List"
   ]
  },
  {
   "cell_type": "code",
   "execution_count": 106,
   "metadata": {
    "collapsed": true
   },
   "outputs": [],
   "source": [
    "filename = '~/./Documents/Harmonizome/ARCHS4/Output/archs4_attribute_list_%s.tsv.zip'% str(datetime.date.today())[0:7].replace('-', '_')\n",
    "attribute_list.to_csv(filename, sep='\\t', index=False, compression='gzip')"
   ]
  },
  {
   "cell_type": "markdown",
   "metadata": {},
   "source": [
    "# Create Gene-Attribute Edge List"
   ]
  },
  {
   "cell_type": "code",
   "execution_count": 107,
   "metadata": {
    "collapsed": true
   },
   "outputs": [],
   "source": [
    "path = '/Users/moshesilverstein/Documents/Harmonizome/ARCHS4/Output/'"
   ]
  },
  {
   "cell_type": "code",
   "execution_count": 108,
   "metadata": {
    "collapsed": true
   },
   "outputs": [],
   "source": [
    "name = 'archs4_gene_attribute_edge_list'"
   ]
  },
  {
   "cell_type": "code",
   "execution_count": 109,
   "metadata": {},
   "outputs": [
    {
     "name": "stdout",
     "output_type": "stream",
     "text": [
      "Progeres: 100%  225 Out of 225   \n",
      "\n",
      " The number of statisticaly relevent gene-attribute associations is: 1208025\n"
     ]
    }
   ],
   "source": [
    "mf.createGeneAttributeEdgeList(tertiary_matrix, gene_list, path, name)"
   ]
  }
 ],
 "metadata": {
  "kernelspec": {
   "display_name": "Python [default]",
   "language": "python",
   "name": "python3"
  },
  "language_info": {
   "codemirror_mode": {
    "name": "ipython",
    "version": 3
   },
   "file_extension": ".py",
   "mimetype": "text/x-python",
   "name": "python",
   "nbconvert_exporter": "python",
   "pygments_lexer": "ipython3",
   "version": "3.5.2"
  }
 },
 "nbformat": 4,
 "nbformat_minor": 2
}
