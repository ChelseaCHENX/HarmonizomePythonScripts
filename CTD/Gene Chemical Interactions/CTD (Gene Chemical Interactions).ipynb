{
 "cells": [
  {
   "cell_type": "markdown",
   "metadata": {},
   "source": [
    "# CTD -Comparative Toxicogenomics Database- (Gene Chemical Interactions)"
   ]
  },
  {
   "cell_type": "markdown",
   "metadata": {},
   "source": [
    "Author: Moshe Silverstein <br/>\n",
    "Date: 8-17 <br/>\n",
    "Data Downloaded: 3-10-2017 <br/>\n",
    "Data Source: http://ctdbase.org/"
   ]
  },
  {
   "cell_type": "code",
   "execution_count": 1,
   "metadata": {
    "collapsed": true
   },
   "outputs": [],
   "source": [
    "import sys, datetime\n",
    "import numpy as np\n",
    "import pandas as pd\n",
    "import importlib\n",
    "import my_functions as mf\n",
    "import goenrich\n",
    "%matplotlib inline"
   ]
  },
  {
   "cell_type": "code",
   "execution_count": 2,
   "metadata": {},
   "outputs": [
    {
     "data": {
      "text/plain": [
       "<module 'my_functions' from '/Users/moshesilverstein/Documents/Harmonizome/CTD/my_functions.py'>"
      ]
     },
     "execution_count": 2,
     "metadata": {},
     "output_type": "execute_result"
    }
   ],
   "source": [
    "importlib.reload(mf)"
   ]
  },
  {
   "cell_type": "markdown",
   "metadata": {},
   "source": [
    "# Load Data"
   ]
  },
  {
   "cell_type": "code",
   "execution_count": 3,
   "metadata": {
    "collapsed": true
   },
   "outputs": [],
   "source": [
    "df = pd.read_csv('Input/CTD_chem_gene_ixns.tsv', sep='\\t', skiprows=27)"
   ]
  },
  {
   "cell_type": "code",
   "execution_count": 4,
   "metadata": {},
   "outputs": [
    {
     "data": {
      "text/html": [
       "<div>\n",
       "<table border=\"1\" class=\"dataframe\">\n",
       "  <thead>\n",
       "    <tr style=\"text-align: right;\">\n",
       "      <th></th>\n",
       "      <th># ChemicalName</th>\n",
       "      <th>ChemicalID</th>\n",
       "      <th>CasRN</th>\n",
       "      <th>GeneSymbol</th>\n",
       "      <th>GeneID</th>\n",
       "      <th>GeneForms</th>\n",
       "      <th>Organism</th>\n",
       "      <th>OrganismID</th>\n",
       "      <th>Interaction</th>\n",
       "      <th>InteractionActions</th>\n",
       "      <th>PubMedIDs</th>\n",
       "    </tr>\n",
       "  </thead>\n",
       "  <tbody>\n",
       "    <tr>\n",
       "      <th>0</th>\n",
       "      <td>#</td>\n",
       "      <td>NaN</td>\n",
       "      <td>NaN</td>\n",
       "      <td>NaN</td>\n",
       "      <td>NaN</td>\n",
       "      <td>NaN</td>\n",
       "      <td>NaN</td>\n",
       "      <td>NaN</td>\n",
       "      <td>NaN</td>\n",
       "      <td>NaN</td>\n",
       "      <td>NaN</td>\n",
       "    </tr>\n",
       "    <tr>\n",
       "      <th>1</th>\n",
       "      <td>10074-G5</td>\n",
       "      <td>C534883</td>\n",
       "      <td>NaN</td>\n",
       "      <td>MAX</td>\n",
       "      <td>4149.0</td>\n",
       "      <td>protein</td>\n",
       "      <td>NaN</td>\n",
       "      <td>NaN</td>\n",
       "      <td>10074-G5 affects the folding of and results in...</td>\n",
       "      <td>affects^binding|affects^folding|decreases^acti...</td>\n",
       "      <td>26474287</td>\n",
       "    </tr>\n",
       "    <tr>\n",
       "      <th>2</th>\n",
       "      <td>10074-G5</td>\n",
       "      <td>C534883</td>\n",
       "      <td>NaN</td>\n",
       "      <td>MAX</td>\n",
       "      <td>4149.0</td>\n",
       "      <td>protein</td>\n",
       "      <td>NaN</td>\n",
       "      <td>NaN</td>\n",
       "      <td>10074-G5 inhibits the reaction [MYC protein bi...</td>\n",
       "      <td>affects^binding|decreases^reaction</td>\n",
       "      <td>26474287</td>\n",
       "    </tr>\n",
       "    <tr>\n",
       "      <th>3</th>\n",
       "      <td>10074-G5</td>\n",
       "      <td>C534883</td>\n",
       "      <td>NaN</td>\n",
       "      <td>MYC</td>\n",
       "      <td>4609.0</td>\n",
       "      <td>protein</td>\n",
       "      <td>Homo sapiens</td>\n",
       "      <td>9606.0</td>\n",
       "      <td>10074-G5 analog results in decreased expressio...</td>\n",
       "      <td>decreases^expression</td>\n",
       "      <td>26036281</td>\n",
       "    </tr>\n",
       "    <tr>\n",
       "      <th>4</th>\n",
       "      <td>10074-G5</td>\n",
       "      <td>C534883</td>\n",
       "      <td>NaN</td>\n",
       "      <td>MYC</td>\n",
       "      <td>4609.0</td>\n",
       "      <td>protein</td>\n",
       "      <td>Homo sapiens</td>\n",
       "      <td>9606.0</td>\n",
       "      <td>10074-G5 results in decreased activity of MYC ...</td>\n",
       "      <td>decreases^activity</td>\n",
       "      <td>25716159</td>\n",
       "    </tr>\n",
       "  </tbody>\n",
       "</table>\n",
       "</div>"
      ],
      "text/plain": [
       "  # ChemicalName ChemicalID CasRN GeneSymbol  GeneID GeneForms      Organism  \\\n",
       "0              #        NaN   NaN        NaN     NaN       NaN           NaN   \n",
       "1       10074-G5    C534883   NaN        MAX  4149.0   protein           NaN   \n",
       "2       10074-G5    C534883   NaN        MAX  4149.0   protein           NaN   \n",
       "3       10074-G5    C534883   NaN        MYC  4609.0   protein  Homo sapiens   \n",
       "4       10074-G5    C534883   NaN        MYC  4609.0   protein  Homo sapiens   \n",
       "\n",
       "   OrganismID                                        Interaction  \\\n",
       "0         NaN                                                NaN   \n",
       "1         NaN  10074-G5 affects the folding of and results in...   \n",
       "2         NaN  10074-G5 inhibits the reaction [MYC protein bi...   \n",
       "3      9606.0  10074-G5 analog results in decreased expressio...   \n",
       "4      9606.0  10074-G5 results in decreased activity of MYC ...   \n",
       "\n",
       "                                  InteractionActions PubMedIDs  \n",
       "0                                                NaN       NaN  \n",
       "1  affects^binding|affects^folding|decreases^acti...  26474287  \n",
       "2                 affects^binding|decreases^reaction  26474287  \n",
       "3                               decreases^expression  26036281  \n",
       "4                                 decreases^activity  25716159  "
      ]
     },
     "execution_count": 4,
     "metadata": {},
     "output_type": "execute_result"
    }
   ],
   "source": [
    "df.head()"
   ]
  },
  {
   "cell_type": "code",
   "execution_count": 5,
   "metadata": {},
   "outputs": [
    {
     "data": {
      "text/plain": [
       "(1415701, 11)"
      ]
     },
     "execution_count": 5,
     "metadata": {},
     "output_type": "execute_result"
    }
   ],
   "source": [
    "df.shape"
   ]
  },
  {
   "cell_type": "markdown",
   "metadata": {},
   "source": [
    "# Get Relevent Data"
   ]
  },
  {
   "cell_type": "code",
   "execution_count": 6,
   "metadata": {},
   "outputs": [],
   "source": [
    "df = df[['GeneSymbol', '# ChemicalName']].copy()"
   ]
  },
  {
   "cell_type": "code",
   "execution_count": 7,
   "metadata": {},
   "outputs": [],
   "source": [
    "df.drop(0, axis=0, inplace=True)"
   ]
  },
  {
   "cell_type": "code",
   "execution_count": 8,
   "metadata": {},
   "outputs": [],
   "source": [
    "df.drop_duplicates(inplace=True)"
   ]
  },
  {
   "cell_type": "code",
   "execution_count": 9,
   "metadata": {},
   "outputs": [
    {
     "data": {
      "text/html": [
       "<div>\n",
       "<table border=\"1\" class=\"dataframe\">\n",
       "  <thead>\n",
       "    <tr style=\"text-align: right;\">\n",
       "      <th></th>\n",
       "      <th>GeneSymbol</th>\n",
       "      <th># ChemicalName</th>\n",
       "    </tr>\n",
       "  </thead>\n",
       "  <tbody>\n",
       "    <tr>\n",
       "      <th>1</th>\n",
       "      <td>MAX</td>\n",
       "      <td>10074-G5</td>\n",
       "    </tr>\n",
       "    <tr>\n",
       "      <th>3</th>\n",
       "      <td>MYC</td>\n",
       "      <td>10074-G5</td>\n",
       "    </tr>\n",
       "    <tr>\n",
       "      <th>8</th>\n",
       "      <td>KCNQ1</td>\n",
       "      <td>10,10-bis(4-pyridinylmethyl)-9(10H)-anthracenone</td>\n",
       "    </tr>\n",
       "    <tr>\n",
       "      <th>9</th>\n",
       "      <td>KCNQ2</td>\n",
       "      <td>10,10-bis(4-pyridinylmethyl)-9(10H)-anthracenone</td>\n",
       "    </tr>\n",
       "    <tr>\n",
       "      <th>11</th>\n",
       "      <td>KCNQ3</td>\n",
       "      <td>10,10-bis(4-pyridinylmethyl)-9(10H)-anthracenone</td>\n",
       "    </tr>\n",
       "  </tbody>\n",
       "</table>\n",
       "</div>"
      ],
      "text/plain": [
       "   GeneSymbol                                    # ChemicalName\n",
       "1         MAX                                          10074-G5\n",
       "3         MYC                                          10074-G5\n",
       "8       KCNQ1  10,10-bis(4-pyridinylmethyl)-9(10H)-anthracenone\n",
       "9       KCNQ2  10,10-bis(4-pyridinylmethyl)-9(10H)-anthracenone\n",
       "11      KCNQ3  10,10-bis(4-pyridinylmethyl)-9(10H)-anthracenone"
      ]
     },
     "execution_count": 9,
     "metadata": {},
     "output_type": "execute_result"
    }
   ],
   "source": [
    "df.head()"
   ]
  },
  {
   "cell_type": "markdown",
   "metadata": {},
   "source": [
    "# Map Gene Symbols To Up-to-date Approved Gene Symbols"
   ]
  },
  {
   "cell_type": "code",
   "execution_count": 10,
   "metadata": {
    "collapsed": true
   },
   "outputs": [],
   "source": [
    "df.set_index('GeneSymbol', inplace=True)"
   ]
  },
  {
   "cell_type": "code",
   "execution_count": 11,
   "metadata": {},
   "outputs": [
    {
     "name": "stdout",
     "output_type": "stream",
     "text": [
      "Progeres: 100%  846574 Out of 846574   \r"
     ]
    }
   ],
   "source": [
    "mf.mapgenesymbols(df)"
   ]
  },
  {
   "cell_type": "code",
   "execution_count": 12,
   "metadata": {},
   "outputs": [
    {
     "data": {
      "text/plain": [
       "(781505, 1)"
      ]
     },
     "execution_count": 12,
     "metadata": {},
     "output_type": "execute_result"
    }
   ],
   "source": [
    "df.shape"
   ]
  },
  {
   "cell_type": "markdown",
   "metadata": {},
   "source": [
    "# Drop Duplicates"
   ]
  },
  {
   "cell_type": "code",
   "execution_count": 13,
   "metadata": {
    "collapsed": true
   },
   "outputs": [],
   "source": [
    "df.reset_index(inplace=True)"
   ]
  },
  {
   "cell_type": "code",
   "execution_count": 14,
   "metadata": {
    "collapsed": true
   },
   "outputs": [],
   "source": [
    "df.drop_duplicates(inplace=True)"
   ]
  },
  {
   "cell_type": "code",
   "execution_count": 15,
   "metadata": {},
   "outputs": [
    {
     "data": {
      "text/plain": [
       "(779022, 2)"
      ]
     },
     "execution_count": 15,
     "metadata": {},
     "output_type": "execute_result"
    }
   ],
   "source": [
    "df.shape"
   ]
  },
  {
   "cell_type": "markdown",
   "metadata": {},
   "source": [
    "# Create Binary Matrix"
   ]
  },
  {
   "cell_type": "code",
   "execution_count": 16,
   "metadata": {},
   "outputs": [
    {
     "name": "stdout",
     "output_type": "stream",
     "text": [
      "Progeres: 100%  21810 Out of 21810   \r"
     ]
    }
   ],
   "source": [
    "binary_matrix = mf.createBinaryMatix(df)"
   ]
  },
  {
   "cell_type": "code",
   "execution_count": 17,
   "metadata": {},
   "outputs": [
    {
     "data": {
      "text/html": [
       "<div>\n",
       "<table border=\"1\" class=\"dataframe\">\n",
       "  <thead>\n",
       "    <tr style=\"text-align: right;\">\n",
       "      <th></th>\n",
       "      <th>Maleic Anhydrides</th>\n",
       "      <th>Hydroxyprogesterones</th>\n",
       "      <th>HS 1200</th>\n",
       "      <th>ginsenoside Rd</th>\n",
       "      <th>geranylgeraniol</th>\n",
       "      <th>6-methyl-1,3,8-trichlorodibenzofuran</th>\n",
       "      <th>hydroxyoctadecadienoic acid</th>\n",
       "      <th>SEA 0400</th>\n",
       "      <th>Y 27632</th>\n",
       "      <th>3-methyl-N-phenyl-N-(3-(piperidin-1-yl)propyl)benzofuran-2-carboxamide</th>\n",
       "      <th>...</th>\n",
       "      <th>trisialoganglioside GT1</th>\n",
       "      <th>quercetin 3-acetyl-7,3',4'-trisulfate</th>\n",
       "      <th>2-amino-3-hydroxy-2-hydroxymethylpropyl 3-acetylbetulinoate</th>\n",
       "      <th>vaninolol</th>\n",
       "      <th>tetralol</th>\n",
       "      <th>2,5-diaziridinyl-3-(hydroxymethyl)-6-methyl-1,4-benzoquinone</th>\n",
       "      <th>S-Adenosylhomocysteine</th>\n",
       "      <th>palonosetron</th>\n",
       "      <th>2,3-dimethylsuccinic acid</th>\n",
       "      <th>Amlodipine</th>\n",
       "    </tr>\n",
       "  </thead>\n",
       "  <tbody>\n",
       "    <tr>\n",
       "      <th>OR10V1</th>\n",
       "      <td>0</td>\n",
       "      <td>0</td>\n",
       "      <td>0</td>\n",
       "      <td>0</td>\n",
       "      <td>0</td>\n",
       "      <td>0</td>\n",
       "      <td>0</td>\n",
       "      <td>0</td>\n",
       "      <td>0</td>\n",
       "      <td>0</td>\n",
       "      <td>...</td>\n",
       "      <td>0</td>\n",
       "      <td>0</td>\n",
       "      <td>0</td>\n",
       "      <td>0</td>\n",
       "      <td>0</td>\n",
       "      <td>0</td>\n",
       "      <td>0</td>\n",
       "      <td>0</td>\n",
       "      <td>0</td>\n",
       "      <td>0</td>\n",
       "    </tr>\n",
       "    <tr>\n",
       "      <th>ZAR1</th>\n",
       "      <td>0</td>\n",
       "      <td>0</td>\n",
       "      <td>0</td>\n",
       "      <td>0</td>\n",
       "      <td>0</td>\n",
       "      <td>0</td>\n",
       "      <td>0</td>\n",
       "      <td>0</td>\n",
       "      <td>0</td>\n",
       "      <td>0</td>\n",
       "      <td>...</td>\n",
       "      <td>0</td>\n",
       "      <td>0</td>\n",
       "      <td>0</td>\n",
       "      <td>0</td>\n",
       "      <td>0</td>\n",
       "      <td>0</td>\n",
       "      <td>0</td>\n",
       "      <td>0</td>\n",
       "      <td>0</td>\n",
       "      <td>0</td>\n",
       "    </tr>\n",
       "    <tr>\n",
       "      <th>ARL3</th>\n",
       "      <td>0</td>\n",
       "      <td>0</td>\n",
       "      <td>0</td>\n",
       "      <td>0</td>\n",
       "      <td>0</td>\n",
       "      <td>0</td>\n",
       "      <td>0</td>\n",
       "      <td>0</td>\n",
       "      <td>0</td>\n",
       "      <td>0</td>\n",
       "      <td>...</td>\n",
       "      <td>0</td>\n",
       "      <td>0</td>\n",
       "      <td>0</td>\n",
       "      <td>0</td>\n",
       "      <td>0</td>\n",
       "      <td>0</td>\n",
       "      <td>0</td>\n",
       "      <td>0</td>\n",
       "      <td>0</td>\n",
       "      <td>0</td>\n",
       "    </tr>\n",
       "    <tr>\n",
       "      <th>SNORD100</th>\n",
       "      <td>0</td>\n",
       "      <td>0</td>\n",
       "      <td>0</td>\n",
       "      <td>0</td>\n",
       "      <td>0</td>\n",
       "      <td>0</td>\n",
       "      <td>0</td>\n",
       "      <td>0</td>\n",
       "      <td>0</td>\n",
       "      <td>0</td>\n",
       "      <td>...</td>\n",
       "      <td>0</td>\n",
       "      <td>0</td>\n",
       "      <td>0</td>\n",
       "      <td>0</td>\n",
       "      <td>0</td>\n",
       "      <td>0</td>\n",
       "      <td>0</td>\n",
       "      <td>0</td>\n",
       "      <td>0</td>\n",
       "      <td>0</td>\n",
       "    </tr>\n",
       "    <tr>\n",
       "      <th>MYLK-AS1</th>\n",
       "      <td>0</td>\n",
       "      <td>0</td>\n",
       "      <td>0</td>\n",
       "      <td>0</td>\n",
       "      <td>0</td>\n",
       "      <td>0</td>\n",
       "      <td>0</td>\n",
       "      <td>0</td>\n",
       "      <td>0</td>\n",
       "      <td>0</td>\n",
       "      <td>...</td>\n",
       "      <td>0</td>\n",
       "      <td>0</td>\n",
       "      <td>0</td>\n",
       "      <td>0</td>\n",
       "      <td>0</td>\n",
       "      <td>0</td>\n",
       "      <td>0</td>\n",
       "      <td>0</td>\n",
       "      <td>0</td>\n",
       "      <td>0</td>\n",
       "    </tr>\n",
       "  </tbody>\n",
       "</table>\n",
       "<p>5 rows × 12020 columns</p>\n",
       "</div>"
      ],
      "text/plain": [
       "          Maleic Anhydrides  Hydroxyprogesterones  HS 1200  ginsenoside Rd  \\\n",
       "OR10V1                    0                     0        0               0   \n",
       "ZAR1                      0                     0        0               0   \n",
       "ARL3                      0                     0        0               0   \n",
       "SNORD100                  0                     0        0               0   \n",
       "MYLK-AS1                  0                     0        0               0   \n",
       "\n",
       "          geranylgeraniol  6-methyl-1,3,8-trichlorodibenzofuran  \\\n",
       "OR10V1                  0                                     0   \n",
       "ZAR1                    0                                     0   \n",
       "ARL3                    0                                     0   \n",
       "SNORD100                0                                     0   \n",
       "MYLK-AS1                0                                     0   \n",
       "\n",
       "          hydroxyoctadecadienoic acid  SEA 0400  Y 27632  \\\n",
       "OR10V1                              0         0        0   \n",
       "ZAR1                                0         0        0   \n",
       "ARL3                                0         0        0   \n",
       "SNORD100                            0         0        0   \n",
       "MYLK-AS1                            0         0        0   \n",
       "\n",
       "          3-methyl-N-phenyl-N-(3-(piperidin-1-yl)propyl)benzofuran-2-carboxamide  \\\n",
       "OR10V1                                                    0                        \n",
       "ZAR1                                                      0                        \n",
       "ARL3                                                      0                        \n",
       "SNORD100                                                  0                        \n",
       "MYLK-AS1                                                  0                        \n",
       "\n",
       "             ...      trisialoganglioside GT1  \\\n",
       "OR10V1       ...                            0   \n",
       "ZAR1         ...                            0   \n",
       "ARL3         ...                            0   \n",
       "SNORD100     ...                            0   \n",
       "MYLK-AS1     ...                            0   \n",
       "\n",
       "          quercetin 3-acetyl-7,3',4'-trisulfate  \\\n",
       "OR10V1                                        0   \n",
       "ZAR1                                          0   \n",
       "ARL3                                          0   \n",
       "SNORD100                                      0   \n",
       "MYLK-AS1                                      0   \n",
       "\n",
       "          2-amino-3-hydroxy-2-hydroxymethylpropyl 3-acetylbetulinoate  \\\n",
       "OR10V1                                                    0             \n",
       "ZAR1                                                      0             \n",
       "ARL3                                                      0             \n",
       "SNORD100                                                  0             \n",
       "MYLK-AS1                                                  0             \n",
       "\n",
       "          vaninolol  tetralol  \\\n",
       "OR10V1            0         0   \n",
       "ZAR1              0         0   \n",
       "ARL3              0         0   \n",
       "SNORD100          0         0   \n",
       "MYLK-AS1          0         0   \n",
       "\n",
       "          2,5-diaziridinyl-3-(hydroxymethyl)-6-methyl-1,4-benzoquinone  \\\n",
       "OR10V1                                                    0              \n",
       "ZAR1                                                      0              \n",
       "ARL3                                                      0              \n",
       "SNORD100                                                  0              \n",
       "MYLK-AS1                                                  0              \n",
       "\n",
       "          S-Adenosylhomocysteine  palonosetron  2,3-dimethylsuccinic acid  \\\n",
       "OR10V1                         0             0                          0   \n",
       "ZAR1                           0             0                          0   \n",
       "ARL3                           0             0                          0   \n",
       "SNORD100                       0             0                          0   \n",
       "MYLK-AS1                       0             0                          0   \n",
       "\n",
       "          Amlodipine  \n",
       "OR10V1             0  \n",
       "ZAR1               0  \n",
       "ARL3               0  \n",
       "SNORD100           0  \n",
       "MYLK-AS1           0  \n",
       "\n",
       "[5 rows x 12020 columns]"
      ]
     },
     "execution_count": 17,
     "metadata": {},
     "output_type": "execute_result"
    }
   ],
   "source": [
    "binary_matrix.head()"
   ]
  },
  {
   "cell_type": "code",
   "execution_count": 18,
   "metadata": {},
   "outputs": [
    {
     "data": {
      "text/plain": [
       "(21810, 12020)"
      ]
     },
     "execution_count": 18,
     "metadata": {},
     "output_type": "execute_result"
    }
   ],
   "source": [
    "binary_matrix.shape"
   ]
  },
  {
   "cell_type": "markdown",
   "metadata": {},
   "source": [
    "# Save Binary Matrix"
   ]
  },
  {
   "cell_type": "code",
   "execution_count": 19,
   "metadata": {},
   "outputs": [],
   "source": [
    "filename = '~/./Documents/Harmonizome/CTD/Output/ctd_chemical_process_binary_matrix_%s.tsv.zip'% str(datetime.date.today())[0:7].replace('-', '_')\n",
    "binary_matrix.to_csv(filename, sep='\\t', compression='gzip')"
   ]
  },
  {
   "cell_type": "markdown",
   "metadata": {},
   "source": [
    "# Create Gene Set Library"
   ]
  },
  {
   "cell_type": "code",
   "execution_count": 20,
   "metadata": {
    "collapsed": true
   },
   "outputs": [],
   "source": [
    "path = '/Users/moshesilverstein/Documents/Harmonizome/CTD/Output/'"
   ]
  },
  {
   "cell_type": "code",
   "execution_count": 21,
   "metadata": {
    "collapsed": true
   },
   "outputs": [],
   "source": [
    "name = 'ctd_chemical_gene_set'"
   ]
  },
  {
   "cell_type": "code",
   "execution_count": 22,
   "metadata": {},
   "outputs": [
    {
     "name": "stdout",
     "output_type": "stream",
     "text": [
      "Progeres: 100%  12020 Out of 12020   \r"
     ]
    }
   ],
   "source": [
    "mf.createUpGeneSetLib(binary_matrix, path, name)"
   ]
  },
  {
   "cell_type": "markdown",
   "metadata": {},
   "source": [
    "# Create Attribute Library"
   ]
  },
  {
   "cell_type": "code",
   "execution_count": 23,
   "metadata": {
    "collapsed": true
   },
   "outputs": [],
   "source": [
    "path = '/Users/moshesilverstein/Documents/Harmonizome/CTD/Output/'"
   ]
  },
  {
   "cell_type": "code",
   "execution_count": 24,
   "metadata": {
    "collapsed": true
   },
   "outputs": [],
   "source": [
    "name = 'ctd_chemical_attribute_set'"
   ]
  },
  {
   "cell_type": "code",
   "execution_count": 25,
   "metadata": {},
   "outputs": [
    {
     "name": "stdout",
     "output_type": "stream",
     "text": [
      "Progeres: 100%  21810 Out of 21810   \r"
     ]
    }
   ],
   "source": [
    "mf.createUpAttributeSetLib(binary_matrix, path, name)"
   ]
  },
  {
   "cell_type": "markdown",
   "metadata": {},
   "source": [
    "# Create Gene Similarity Matrix"
   ]
  },
  {
   "cell_type": "code",
   "execution_count": 26,
   "metadata": {
    "collapsed": true
   },
   "outputs": [],
   "source": [
    "gene_similarity_matix = mf.createSimilarityMatrix(binary_matrix, 'jaccard')"
   ]
  },
  {
   "cell_type": "code",
   "execution_count": 27,
   "metadata": {},
   "outputs": [
    {
     "data": {
      "text/html": [
       "<div>\n",
       "<table border=\"1\" class=\"dataframe\">\n",
       "  <thead>\n",
       "    <tr style=\"text-align: right;\">\n",
       "      <th></th>\n",
       "      <th>OR10V1</th>\n",
       "      <th>ZAR1</th>\n",
       "      <th>ARL3</th>\n",
       "      <th>SNORD100</th>\n",
       "      <th>MYLK-AS1</th>\n",
       "      <th>CD99L2</th>\n",
       "      <th>MTHFD2</th>\n",
       "      <th>SEPT7P2</th>\n",
       "      <th>RBM20</th>\n",
       "      <th>MIR302F</th>\n",
       "      <th>...</th>\n",
       "      <th>PRRG4</th>\n",
       "      <th>FAM213B</th>\n",
       "      <th>SLCO2A1</th>\n",
       "      <th>OR2L8</th>\n",
       "      <th>SP7</th>\n",
       "      <th>CD6</th>\n",
       "      <th>ZNF395</th>\n",
       "      <th>ARPC4</th>\n",
       "      <th>CELSR3</th>\n",
       "      <th>TXNIP</th>\n",
       "    </tr>\n",
       "  </thead>\n",
       "  <tbody>\n",
       "    <tr>\n",
       "      <th>OR10V1</th>\n",
       "      <td>1.000000</td>\n",
       "      <td>0.076923</td>\n",
       "      <td>0.043478</td>\n",
       "      <td>0.0</td>\n",
       "      <td>0.000000</td>\n",
       "      <td>0.057692</td>\n",
       "      <td>0.028037</td>\n",
       "      <td>0.00000</td>\n",
       "      <td>0.045455</td>\n",
       "      <td>0.0</td>\n",
       "      <td>...</td>\n",
       "      <td>0.041667</td>\n",
       "      <td>0.083333</td>\n",
       "      <td>0.041096</td>\n",
       "      <td>0.200000</td>\n",
       "      <td>0.015625</td>\n",
       "      <td>0.034483</td>\n",
       "      <td>0.076923</td>\n",
       "      <td>0.021277</td>\n",
       "      <td>0.047619</td>\n",
       "      <td>0.021390</td>\n",
       "    </tr>\n",
       "    <tr>\n",
       "      <th>ZAR1</th>\n",
       "      <td>0.076923</td>\n",
       "      <td>1.000000</td>\n",
       "      <td>0.058824</td>\n",
       "      <td>0.0</td>\n",
       "      <td>0.000000</td>\n",
       "      <td>0.089286</td>\n",
       "      <td>0.045045</td>\n",
       "      <td>0.00000</td>\n",
       "      <td>0.074074</td>\n",
       "      <td>0.0</td>\n",
       "      <td>...</td>\n",
       "      <td>0.098039</td>\n",
       "      <td>0.066667</td>\n",
       "      <td>0.037975</td>\n",
       "      <td>0.090909</td>\n",
       "      <td>0.028986</td>\n",
       "      <td>0.028571</td>\n",
       "      <td>0.116279</td>\n",
       "      <td>0.058824</td>\n",
       "      <td>0.020408</td>\n",
       "      <td>0.036842</td>\n",
       "    </tr>\n",
       "    <tr>\n",
       "      <th>ARL3</th>\n",
       "      <td>0.043478</td>\n",
       "      <td>0.058824</td>\n",
       "      <td>1.000000</td>\n",
       "      <td>0.0</td>\n",
       "      <td>0.022727</td>\n",
       "      <td>0.202532</td>\n",
       "      <td>0.162791</td>\n",
       "      <td>0.06383</td>\n",
       "      <td>0.105263</td>\n",
       "      <td>0.0</td>\n",
       "      <td>...</td>\n",
       "      <td>0.232877</td>\n",
       "      <td>0.064516</td>\n",
       "      <td>0.171717</td>\n",
       "      <td>0.022222</td>\n",
       "      <td>0.071429</td>\n",
       "      <td>0.093750</td>\n",
       "      <td>0.205882</td>\n",
       "      <td>0.189189</td>\n",
       "      <td>0.135135</td>\n",
       "      <td>0.115942</td>\n",
       "    </tr>\n",
       "    <tr>\n",
       "      <th>SNORD100</th>\n",
       "      <td>0.000000</td>\n",
       "      <td>0.000000</td>\n",
       "      <td>0.000000</td>\n",
       "      <td>1.0</td>\n",
       "      <td>0.000000</td>\n",
       "      <td>0.019608</td>\n",
       "      <td>0.009434</td>\n",
       "      <td>0.00000</td>\n",
       "      <td>0.000000</td>\n",
       "      <td>0.0</td>\n",
       "      <td>...</td>\n",
       "      <td>0.000000</td>\n",
       "      <td>0.000000</td>\n",
       "      <td>0.000000</td>\n",
       "      <td>0.000000</td>\n",
       "      <td>0.000000</td>\n",
       "      <td>0.000000</td>\n",
       "      <td>0.000000</td>\n",
       "      <td>0.022727</td>\n",
       "      <td>0.025000</td>\n",
       "      <td>0.005348</td>\n",
       "    </tr>\n",
       "    <tr>\n",
       "      <th>MYLK-AS1</th>\n",
       "      <td>0.000000</td>\n",
       "      <td>0.000000</td>\n",
       "      <td>0.022727</td>\n",
       "      <td>0.0</td>\n",
       "      <td>1.000000</td>\n",
       "      <td>0.019608</td>\n",
       "      <td>0.009434</td>\n",
       "      <td>0.00000</td>\n",
       "      <td>0.052632</td>\n",
       "      <td>0.0</td>\n",
       "      <td>...</td>\n",
       "      <td>0.021739</td>\n",
       "      <td>0.000000</td>\n",
       "      <td>0.000000</td>\n",
       "      <td>0.000000</td>\n",
       "      <td>0.000000</td>\n",
       "      <td>0.000000</td>\n",
       "      <td>0.000000</td>\n",
       "      <td>0.000000</td>\n",
       "      <td>0.000000</td>\n",
       "      <td>0.005348</td>\n",
       "    </tr>\n",
       "  </tbody>\n",
       "</table>\n",
       "<p>5 rows × 21810 columns</p>\n",
       "</div>"
      ],
      "text/plain": [
       "            OR10V1      ZAR1      ARL3  SNORD100  MYLK-AS1    CD99L2  \\\n",
       "OR10V1    1.000000  0.076923  0.043478       0.0  0.000000  0.057692   \n",
       "ZAR1      0.076923  1.000000  0.058824       0.0  0.000000  0.089286   \n",
       "ARL3      0.043478  0.058824  1.000000       0.0  0.022727  0.202532   \n",
       "SNORD100  0.000000  0.000000  0.000000       1.0  0.000000  0.019608   \n",
       "MYLK-AS1  0.000000  0.000000  0.022727       0.0  1.000000  0.019608   \n",
       "\n",
       "            MTHFD2  SEPT7P2     RBM20  MIR302F    ...        PRRG4   FAM213B  \\\n",
       "OR10V1    0.028037  0.00000  0.045455      0.0    ...     0.041667  0.083333   \n",
       "ZAR1      0.045045  0.00000  0.074074      0.0    ...     0.098039  0.066667   \n",
       "ARL3      0.162791  0.06383  0.105263      0.0    ...     0.232877  0.064516   \n",
       "SNORD100  0.009434  0.00000  0.000000      0.0    ...     0.000000  0.000000   \n",
       "MYLK-AS1  0.009434  0.00000  0.052632      0.0    ...     0.021739  0.000000   \n",
       "\n",
       "           SLCO2A1     OR2L8       SP7       CD6    ZNF395     ARPC4  \\\n",
       "OR10V1    0.041096  0.200000  0.015625  0.034483  0.076923  0.021277   \n",
       "ZAR1      0.037975  0.090909  0.028986  0.028571  0.116279  0.058824   \n",
       "ARL3      0.171717  0.022222  0.071429  0.093750  0.205882  0.189189   \n",
       "SNORD100  0.000000  0.000000  0.000000  0.000000  0.000000  0.022727   \n",
       "MYLK-AS1  0.000000  0.000000  0.000000  0.000000  0.000000  0.000000   \n",
       "\n",
       "            CELSR3     TXNIP  \n",
       "OR10V1    0.047619  0.021390  \n",
       "ZAR1      0.020408  0.036842  \n",
       "ARL3      0.135135  0.115942  \n",
       "SNORD100  0.025000  0.005348  \n",
       "MYLK-AS1  0.000000  0.005348  \n",
       "\n",
       "[5 rows x 21810 columns]"
      ]
     },
     "execution_count": 27,
     "metadata": {},
     "output_type": "execute_result"
    }
   ],
   "source": [
    "gene_similarity_matix.head()"
   ]
  },
  {
   "cell_type": "markdown",
   "metadata": {},
   "source": [
    "# Save Gene Similarity Matrix"
   ]
  },
  {
   "cell_type": "code",
   "execution_count": 28,
   "metadata": {
    "collapsed": true
   },
   "outputs": [],
   "source": [
    "filename = '~/./Documents/Harmonizome/CTD/Output/ctd_chemical_gene_similarity_matix_%s.tsv.zip'% str(datetime.date.today())[0:7].replace('-', '_')\n",
    "gene_similarity_matix.to_csv(filename, sep='\\t', compression='gzip')"
   ]
  },
  {
   "cell_type": "markdown",
   "metadata": {},
   "source": [
    "# Create Attribute Similarity matrix"
   ]
  },
  {
   "cell_type": "code",
   "execution_count": 29,
   "metadata": {
    "collapsed": true
   },
   "outputs": [],
   "source": [
    "attribute_similarity_matix = mf.createSimilarityMatrix(binary_matrix.T, 'jaccard')"
   ]
  },
  {
   "cell_type": "code",
   "execution_count": 30,
   "metadata": {},
   "outputs": [
    {
     "data": {
      "text/html": [
       "<div>\n",
       "<table border=\"1\" class=\"dataframe\">\n",
       "  <thead>\n",
       "    <tr style=\"text-align: right;\">\n",
       "      <th></th>\n",
       "      <th>Maleic Anhydrides</th>\n",
       "      <th>Hydroxyprogesterones</th>\n",
       "      <th>HS 1200</th>\n",
       "      <th>ginsenoside Rd</th>\n",
       "      <th>geranylgeraniol</th>\n",
       "      <th>6-methyl-1,3,8-trichlorodibenzofuran</th>\n",
       "      <th>hydroxyoctadecadienoic acid</th>\n",
       "      <th>SEA 0400</th>\n",
       "      <th>Y 27632</th>\n",
       "      <th>3-methyl-N-phenyl-N-(3-(piperidin-1-yl)propyl)benzofuran-2-carboxamide</th>\n",
       "      <th>...</th>\n",
       "      <th>trisialoganglioside GT1</th>\n",
       "      <th>quercetin 3-acetyl-7,3',4'-trisulfate</th>\n",
       "      <th>2-amino-3-hydroxy-2-hydroxymethylpropyl 3-acetylbetulinoate</th>\n",
       "      <th>vaninolol</th>\n",
       "      <th>tetralol</th>\n",
       "      <th>2,5-diaziridinyl-3-(hydroxymethyl)-6-methyl-1,4-benzoquinone</th>\n",
       "      <th>S-Adenosylhomocysteine</th>\n",
       "      <th>palonosetron</th>\n",
       "      <th>2,3-dimethylsuccinic acid</th>\n",
       "      <th>Amlodipine</th>\n",
       "    </tr>\n",
       "  </thead>\n",
       "  <tbody>\n",
       "    <tr>\n",
       "      <th>Maleic Anhydrides</th>\n",
       "      <td>1.0</td>\n",
       "      <td>0.000000</td>\n",
       "      <td>0.000000</td>\n",
       "      <td>0.000000</td>\n",
       "      <td>0.000000</td>\n",
       "      <td>0.000000</td>\n",
       "      <td>0.000000</td>\n",
       "      <td>0.0</td>\n",
       "      <td>0.000000</td>\n",
       "      <td>0.0</td>\n",
       "      <td>...</td>\n",
       "      <td>0.0</td>\n",
       "      <td>0.0</td>\n",
       "      <td>0.00</td>\n",
       "      <td>0.0</td>\n",
       "      <td>0.000000</td>\n",
       "      <td>0.055556</td>\n",
       "      <td>0.000000</td>\n",
       "      <td>0.0</td>\n",
       "      <td>0.0</td>\n",
       "      <td>0.000000</td>\n",
       "    </tr>\n",
       "    <tr>\n",
       "      <th>Hydroxyprogesterones</th>\n",
       "      <td>0.0</td>\n",
       "      <td>1.000000</td>\n",
       "      <td>0.000000</td>\n",
       "      <td>0.000000</td>\n",
       "      <td>0.052632</td>\n",
       "      <td>0.000000</td>\n",
       "      <td>0.000000</td>\n",
       "      <td>0.0</td>\n",
       "      <td>0.000000</td>\n",
       "      <td>0.0</td>\n",
       "      <td>...</td>\n",
       "      <td>0.0</td>\n",
       "      <td>0.0</td>\n",
       "      <td>0.00</td>\n",
       "      <td>0.0</td>\n",
       "      <td>0.000000</td>\n",
       "      <td>0.000000</td>\n",
       "      <td>0.000000</td>\n",
       "      <td>0.0</td>\n",
       "      <td>0.0</td>\n",
       "      <td>0.000000</td>\n",
       "    </tr>\n",
       "    <tr>\n",
       "      <th>HS 1200</th>\n",
       "      <td>0.0</td>\n",
       "      <td>0.000000</td>\n",
       "      <td>1.000000</td>\n",
       "      <td>0.088235</td>\n",
       "      <td>0.000000</td>\n",
       "      <td>0.034483</td>\n",
       "      <td>0.000000</td>\n",
       "      <td>0.0</td>\n",
       "      <td>0.045872</td>\n",
       "      <td>0.0</td>\n",
       "      <td>...</td>\n",
       "      <td>0.0</td>\n",
       "      <td>0.0</td>\n",
       "      <td>0.10</td>\n",
       "      <td>0.0</td>\n",
       "      <td>0.000000</td>\n",
       "      <td>0.000000</td>\n",
       "      <td>0.000000</td>\n",
       "      <td>0.0</td>\n",
       "      <td>0.0</td>\n",
       "      <td>0.111111</td>\n",
       "    </tr>\n",
       "    <tr>\n",
       "      <th>ginsenoside Rd</th>\n",
       "      <td>0.0</td>\n",
       "      <td>0.000000</td>\n",
       "      <td>0.088235</td>\n",
       "      <td>1.000000</td>\n",
       "      <td>0.000000</td>\n",
       "      <td>0.035714</td>\n",
       "      <td>0.045455</td>\n",
       "      <td>0.0</td>\n",
       "      <td>0.066038</td>\n",
       "      <td>0.0</td>\n",
       "      <td>...</td>\n",
       "      <td>0.0</td>\n",
       "      <td>0.0</td>\n",
       "      <td>0.05</td>\n",
       "      <td>0.0</td>\n",
       "      <td>0.000000</td>\n",
       "      <td>0.000000</td>\n",
       "      <td>0.027027</td>\n",
       "      <td>0.0</td>\n",
       "      <td>0.0</td>\n",
       "      <td>0.067568</td>\n",
       "    </tr>\n",
       "    <tr>\n",
       "      <th>geranylgeraniol</th>\n",
       "      <td>0.0</td>\n",
       "      <td>0.052632</td>\n",
       "      <td>0.000000</td>\n",
       "      <td>0.000000</td>\n",
       "      <td>1.000000</td>\n",
       "      <td>0.000000</td>\n",
       "      <td>0.000000</td>\n",
       "      <td>0.0</td>\n",
       "      <td>0.036697</td>\n",
       "      <td>0.0</td>\n",
       "      <td>...</td>\n",
       "      <td>0.0</td>\n",
       "      <td>0.0</td>\n",
       "      <td>0.00</td>\n",
       "      <td>0.0</td>\n",
       "      <td>0.047619</td>\n",
       "      <td>0.000000</td>\n",
       "      <td>0.000000</td>\n",
       "      <td>0.0</td>\n",
       "      <td>0.0</td>\n",
       "      <td>0.012821</td>\n",
       "    </tr>\n",
       "  </tbody>\n",
       "</table>\n",
       "<p>5 rows × 12020 columns</p>\n",
       "</div>"
      ],
      "text/plain": [
       "                      Maleic Anhydrides  Hydroxyprogesterones   HS 1200  \\\n",
       "Maleic Anhydrides                   1.0              0.000000  0.000000   \n",
       "Hydroxyprogesterones                0.0              1.000000  0.000000   \n",
       "HS 1200                             0.0              0.000000  1.000000   \n",
       "ginsenoside Rd                      0.0              0.000000  0.088235   \n",
       "geranylgeraniol                     0.0              0.052632  0.000000   \n",
       "\n",
       "                      ginsenoside Rd  geranylgeraniol  \\\n",
       "Maleic Anhydrides           0.000000         0.000000   \n",
       "Hydroxyprogesterones        0.000000         0.052632   \n",
       "HS 1200                     0.088235         0.000000   \n",
       "ginsenoside Rd              1.000000         0.000000   \n",
       "geranylgeraniol             0.000000         1.000000   \n",
       "\n",
       "                      6-methyl-1,3,8-trichlorodibenzofuran  \\\n",
       "Maleic Anhydrides                                 0.000000   \n",
       "Hydroxyprogesterones                              0.000000   \n",
       "HS 1200                                           0.034483   \n",
       "ginsenoside Rd                                    0.035714   \n",
       "geranylgeraniol                                   0.000000   \n",
       "\n",
       "                      hydroxyoctadecadienoic acid  SEA 0400   Y 27632  \\\n",
       "Maleic Anhydrides                        0.000000       0.0  0.000000   \n",
       "Hydroxyprogesterones                     0.000000       0.0  0.000000   \n",
       "HS 1200                                  0.000000       0.0  0.045872   \n",
       "ginsenoside Rd                           0.045455       0.0  0.066038   \n",
       "geranylgeraniol                          0.000000       0.0  0.036697   \n",
       "\n",
       "                      3-methyl-N-phenyl-N-(3-(piperidin-1-yl)propyl)benzofuran-2-carboxamide  \\\n",
       "Maleic Anhydrides                                                   0.0                        \n",
       "Hydroxyprogesterones                                                0.0                        \n",
       "HS 1200                                                             0.0                        \n",
       "ginsenoside Rd                                                      0.0                        \n",
       "geranylgeraniol                                                     0.0                        \n",
       "\n",
       "                         ...      trisialoganglioside GT1  \\\n",
       "Maleic Anhydrides        ...                          0.0   \n",
       "Hydroxyprogesterones     ...                          0.0   \n",
       "HS 1200                  ...                          0.0   \n",
       "ginsenoside Rd           ...                          0.0   \n",
       "geranylgeraniol          ...                          0.0   \n",
       "\n",
       "                      quercetin 3-acetyl-7,3',4'-trisulfate  \\\n",
       "Maleic Anhydrides                                       0.0   \n",
       "Hydroxyprogesterones                                    0.0   \n",
       "HS 1200                                                 0.0   \n",
       "ginsenoside Rd                                          0.0   \n",
       "geranylgeraniol                                         0.0   \n",
       "\n",
       "                      2-amino-3-hydroxy-2-hydroxymethylpropyl 3-acetylbetulinoate  \\\n",
       "Maleic Anhydrides                                                  0.00             \n",
       "Hydroxyprogesterones                                               0.00             \n",
       "HS 1200                                                            0.10             \n",
       "ginsenoside Rd                                                     0.05             \n",
       "geranylgeraniol                                                    0.00             \n",
       "\n",
       "                      vaninolol  tetralol  \\\n",
       "Maleic Anhydrides           0.0  0.000000   \n",
       "Hydroxyprogesterones        0.0  0.000000   \n",
       "HS 1200                     0.0  0.000000   \n",
       "ginsenoside Rd              0.0  0.000000   \n",
       "geranylgeraniol             0.0  0.047619   \n",
       "\n",
       "                      2,5-diaziridinyl-3-(hydroxymethyl)-6-methyl-1,4-benzoquinone  \\\n",
       "Maleic Anhydrides                                              0.055556              \n",
       "Hydroxyprogesterones                                           0.000000              \n",
       "HS 1200                                                        0.000000              \n",
       "ginsenoside Rd                                                 0.000000              \n",
       "geranylgeraniol                                                0.000000              \n",
       "\n",
       "                      S-Adenosylhomocysteine  palonosetron  \\\n",
       "Maleic Anhydrides                   0.000000           0.0   \n",
       "Hydroxyprogesterones                0.000000           0.0   \n",
       "HS 1200                             0.000000           0.0   \n",
       "ginsenoside Rd                      0.027027           0.0   \n",
       "geranylgeraniol                     0.000000           0.0   \n",
       "\n",
       "                      2,3-dimethylsuccinic acid  Amlodipine  \n",
       "Maleic Anhydrides                           0.0    0.000000  \n",
       "Hydroxyprogesterones                        0.0    0.000000  \n",
       "HS 1200                                     0.0    0.111111  \n",
       "ginsenoside Rd                              0.0    0.067568  \n",
       "geranylgeraniol                             0.0    0.012821  \n",
       "\n",
       "[5 rows x 12020 columns]"
      ]
     },
     "execution_count": 30,
     "metadata": {},
     "output_type": "execute_result"
    }
   ],
   "source": [
    "attribute_similarity_matix.head()"
   ]
  },
  {
   "cell_type": "markdown",
   "metadata": {},
   "source": [
    "# Save Attribute Similarity Matrix"
   ]
  },
  {
   "cell_type": "code",
   "execution_count": 31,
   "metadata": {
    "collapsed": true
   },
   "outputs": [],
   "source": [
    "filename = '~/./Documents/Harmonizome/CTD/Output/ctd_chemical_attribute_similarity_matix_%s.tsv.zip'% str(datetime.date.today())[0:7].replace('-', '_')\n",
    "attribute_similarity_matix.to_csv(filename, sep='\\t', compression='gzip')"
   ]
  },
  {
   "cell_type": "markdown",
   "metadata": {},
   "source": [
    "# Create Gene List"
   ]
  },
  {
   "cell_type": "code",
   "execution_count": 32,
   "metadata": {},
   "outputs": [
    {
     "name": "stdout",
     "output_type": "stream",
     "text": [
      "Progeres: 100%  21810 Out of 21810   \r"
     ]
    }
   ],
   "source": [
    "gene_list = mf.createGeneList(binary_matrix)"
   ]
  },
  {
   "cell_type": "code",
   "execution_count": 33,
   "metadata": {},
   "outputs": [
    {
     "data": {
      "text/html": [
       "<div>\n",
       "<table border=\"1\" class=\"dataframe\">\n",
       "  <thead>\n",
       "    <tr style=\"text-align: right;\">\n",
       "      <th></th>\n",
       "      <th>GeneSym</th>\n",
       "      <th>GeneID</th>\n",
       "    </tr>\n",
       "  </thead>\n",
       "  <tbody>\n",
       "    <tr>\n",
       "      <th>0</th>\n",
       "      <td>OR10V1</td>\n",
       "      <td>390201</td>\n",
       "    </tr>\n",
       "    <tr>\n",
       "      <th>1</th>\n",
       "      <td>ZAR1</td>\n",
       "      <td>326340</td>\n",
       "    </tr>\n",
       "    <tr>\n",
       "      <th>2</th>\n",
       "      <td>ARL3</td>\n",
       "      <td>403</td>\n",
       "    </tr>\n",
       "    <tr>\n",
       "      <th>3</th>\n",
       "      <td>SNORD100</td>\n",
       "      <td>594838</td>\n",
       "    </tr>\n",
       "    <tr>\n",
       "      <th>4</th>\n",
       "      <td>MYLK-AS1</td>\n",
       "      <td>1.00507e+08</td>\n",
       "    </tr>\n",
       "  </tbody>\n",
       "</table>\n",
       "</div>"
      ],
      "text/plain": [
       "    GeneSym       GeneID\n",
       "0    OR10V1       390201\n",
       "1      ZAR1       326340\n",
       "2      ARL3          403\n",
       "3  SNORD100       594838\n",
       "4  MYLK-AS1  1.00507e+08"
      ]
     },
     "execution_count": 33,
     "metadata": {},
     "output_type": "execute_result"
    }
   ],
   "source": [
    "gene_list.head()"
   ]
  },
  {
   "cell_type": "code",
   "execution_count": 34,
   "metadata": {},
   "outputs": [
    {
     "data": {
      "text/plain": [
       "(21810, 2)"
      ]
     },
     "execution_count": 34,
     "metadata": {},
     "output_type": "execute_result"
    }
   ],
   "source": [
    "gene_list.shape"
   ]
  },
  {
   "cell_type": "markdown",
   "metadata": {},
   "source": [
    "# Save Gene List"
   ]
  },
  {
   "cell_type": "code",
   "execution_count": 36,
   "metadata": {
    "collapsed": true
   },
   "outputs": [],
   "source": [
    "filename = '~/./Documents/Harmonizome/CTD/Output/ctd_chemical_gene_list_%s.tsv.zip'% str(datetime.date.today())[0:7].replace('-', '_')\n",
    "gene_list.to_csv(filename, sep='\\t', index=False, compression='gzip')"
   ]
  },
  {
   "cell_type": "markdown",
   "metadata": {},
   "source": [
    "# Create Attribute List"
   ]
  },
  {
   "cell_type": "code",
   "execution_count": 37,
   "metadata": {
    "collapsed": true
   },
   "outputs": [],
   "source": [
    "attribute_list = mf.createAttributeList(binary_matrix)"
   ]
  },
  {
   "cell_type": "code",
   "execution_count": 38,
   "metadata": {},
   "outputs": [
    {
     "data": {
      "text/html": [
       "<div>\n",
       "<table border=\"1\" class=\"dataframe\">\n",
       "  <thead>\n",
       "    <tr style=\"text-align: right;\">\n",
       "      <th></th>\n",
       "      <th>Attributes</th>\n",
       "    </tr>\n",
       "  </thead>\n",
       "  <tbody>\n",
       "    <tr>\n",
       "      <th>0</th>\n",
       "      <td>Maleic Anhydrides</td>\n",
       "    </tr>\n",
       "    <tr>\n",
       "      <th>1</th>\n",
       "      <td>Hydroxyprogesterones</td>\n",
       "    </tr>\n",
       "    <tr>\n",
       "      <th>2</th>\n",
       "      <td>HS 1200</td>\n",
       "    </tr>\n",
       "    <tr>\n",
       "      <th>3</th>\n",
       "      <td>ginsenoside Rd</td>\n",
       "    </tr>\n",
       "    <tr>\n",
       "      <th>4</th>\n",
       "      <td>geranylgeraniol</td>\n",
       "    </tr>\n",
       "  </tbody>\n",
       "</table>\n",
       "</div>"
      ],
      "text/plain": [
       "             Attributes\n",
       "0     Maleic Anhydrides\n",
       "1  Hydroxyprogesterones\n",
       "2               HS 1200\n",
       "3        ginsenoside Rd\n",
       "4       geranylgeraniol"
      ]
     },
     "execution_count": 38,
     "metadata": {},
     "output_type": "execute_result"
    }
   ],
   "source": [
    "attribute_list.head()"
   ]
  },
  {
   "cell_type": "code",
   "execution_count": 39,
   "metadata": {},
   "outputs": [
    {
     "data": {
      "text/plain": [
       "(12020, 1)"
      ]
     },
     "execution_count": 39,
     "metadata": {},
     "output_type": "execute_result"
    }
   ],
   "source": [
    "attribute_list.shape"
   ]
  },
  {
   "cell_type": "markdown",
   "metadata": {},
   "source": [
    "# Save Attribute List"
   ]
  },
  {
   "cell_type": "code",
   "execution_count": 40,
   "metadata": {
    "collapsed": true
   },
   "outputs": [],
   "source": [
    "filename = '~/./Documents/Harmonizome/CTD/Output/ctd_chemical_attribute_list_%s.tsv.zip'% str(datetime.date.today())[0:7].replace('-', '_')\n",
    "attribute_list.to_csv(filename, sep='\\t', index=False, compression='gzip')"
   ]
  },
  {
   "cell_type": "markdown",
   "metadata": {},
   "source": [
    "# Create Gene-Attribute Edge List"
   ]
  },
  {
   "cell_type": "code",
   "execution_count": 41,
   "metadata": {
    "collapsed": true
   },
   "outputs": [],
   "source": [
    "path = '/Users/moshesilverstein/Documents/Harmonizome/CTD/Output/'"
   ]
  },
  {
   "cell_type": "code",
   "execution_count": 42,
   "metadata": {
    "collapsed": true
   },
   "outputs": [],
   "source": [
    "name = 'ctd_chemical_gene_attribute_edge_list'"
   ]
  },
  {
   "cell_type": "code",
   "execution_count": 43,
   "metadata": {},
   "outputs": [
    {
     "name": "stdout",
     "output_type": "stream",
     "text": [
      "Progeres: 100%  12020 Out of 12020   \n",
      "\n",
      " The number of statisticaly relevent gene-attribute associations is: 779022\n"
     ]
    }
   ],
   "source": [
    "mf.createGeneAttributeEdgeList(binary_matrix, gene_list, path, name)"
   ]
  }
 ],
 "metadata": {
  "kernelspec": {
   "display_name": "Python [default]",
   "language": "python",
   "name": "python3"
  },
  "language_info": {
   "codemirror_mode": {
    "name": "ipython",
    "version": 3
   },
   "file_extension": ".py",
   "mimetype": "text/x-python",
   "name": "python",
   "nbconvert_exporter": "python",
   "pygments_lexer": "ipython3",
   "version": "3.5.2"
  }
 },
 "nbformat": 4,
 "nbformat_minor": 2
}
