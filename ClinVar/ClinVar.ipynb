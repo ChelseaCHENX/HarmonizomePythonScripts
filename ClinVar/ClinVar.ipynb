{
 "cells": [
  {
   "cell_type": "markdown",
   "metadata": {},
   "source": [
    "# ClinVar"
   ]
  },
  {
   "cell_type": "markdown",
   "metadata": {},
   "source": [
    "Author: Moshe Silverstein <br/>\n",
    "Date: 8-17 <br/>\n",
    "Data Downloaded: 08-2017 <br/>\n",
    "Data Source: http://www.ncbi.nlm.nih.gov/clinvar/"
   ]
  },
  {
   "cell_type": "code",
   "execution_count": 1,
   "metadata": {
    "collapsed": true
   },
   "outputs": [],
   "source": [
    "import sys, datetime\n",
    "import numpy as np\n",
    "import pandas as pd\n",
    "import importlib\n",
    "import my_functions as mf\n",
    "import goenrich\n",
    "%matplotlib inline"
   ]
  },
  {
   "cell_type": "code",
   "execution_count": 2,
   "metadata": {},
   "outputs": [
    {
     "data": {
      "text/plain": [
       "<module 'my_functions' from '/Users/moshesilverstein/Documents/Harmonizome/ClinVar/my_functions.py'>"
      ]
     },
     "execution_count": 2,
     "metadata": {},
     "output_type": "execute_result"
    }
   ],
   "source": [
    "importlib.reload(mf)"
   ]
  },
  {
   "cell_type": "markdown",
   "metadata": {},
   "source": [
    "# Load Data"
   ]
  },
  {
   "cell_type": "code",
   "execution_count": 3,
   "metadata": {},
   "outputs": [
    {
     "name": "stderr",
     "output_type": "stream",
     "text": [
      "/Users/moshesilverstein/anaconda/lib/python3.5/site-packages/IPython/core/interactiveshell.py:2717: DtypeWarning: Columns (18) have mixed types. Specify dtype option on import or set low_memory=False.\n",
      "  interactivity=interactivity, compiler=compiler, result=result)\n"
     ]
    }
   ],
   "source": [
    "df = pd.read_csv('Input/variant_summary.txt', sep='\\t')"
   ]
  },
  {
   "cell_type": "code",
   "execution_count": 4,
   "metadata": {},
   "outputs": [
    {
     "data": {
      "text/html": [
       "<div>\n",
       "<table border=\"1\" class=\"dataframe\">\n",
       "  <thead>\n",
       "    <tr style=\"text-align: right;\">\n",
       "      <th></th>\n",
       "      <th>#AlleleID</th>\n",
       "      <th>Type</th>\n",
       "      <th>Name</th>\n",
       "      <th>GeneID</th>\n",
       "      <th>GeneSymbol</th>\n",
       "      <th>HGNC_ID</th>\n",
       "      <th>ClinicalSignificance</th>\n",
       "      <th>ClinSigSimple</th>\n",
       "      <th>LastEvaluated</th>\n",
       "      <th>RS# (dbSNP)</th>\n",
       "      <th>...</th>\n",
       "      <th>Stop</th>\n",
       "      <th>ReferenceAllele</th>\n",
       "      <th>AlternateAllele</th>\n",
       "      <th>Cytogenetic</th>\n",
       "      <th>ReviewStatus</th>\n",
       "      <th>NumberSubmitters</th>\n",
       "      <th>Guidelines</th>\n",
       "      <th>TestedInGTR</th>\n",
       "      <th>OtherIDs</th>\n",
       "      <th>SubmitterCategories</th>\n",
       "    </tr>\n",
       "  </thead>\n",
       "  <tbody>\n",
       "    <tr>\n",
       "      <th>0</th>\n",
       "      <td>15041</td>\n",
       "      <td>indel</td>\n",
       "      <td>NM_014855.2(AP5Z1):c.80_83delGGATinsTGCTGTAAAC...</td>\n",
       "      <td>9907</td>\n",
       "      <td>AP5Z1</td>\n",
       "      <td>HGNC:22197</td>\n",
       "      <td>Pathogenic</td>\n",
       "      <td>1</td>\n",
       "      <td>Jun 29, 2010</td>\n",
       "      <td>397704705</td>\n",
       "      <td>...</td>\n",
       "      <td>4820847</td>\n",
       "      <td>GGAT</td>\n",
       "      <td>TGCTGTAAACTGTAACTGTAAA</td>\n",
       "      <td>7p22.1</td>\n",
       "      <td>no assertion criteria provided</td>\n",
       "      <td>1</td>\n",
       "      <td>NaN</td>\n",
       "      <td>N</td>\n",
       "      <td>OMIM Allelic Variant:613653.0001</td>\n",
       "      <td>1</td>\n",
       "    </tr>\n",
       "    <tr>\n",
       "      <th>1</th>\n",
       "      <td>15041</td>\n",
       "      <td>indel</td>\n",
       "      <td>NM_014855.2(AP5Z1):c.80_83delGGATinsTGCTGTAAAC...</td>\n",
       "      <td>9907</td>\n",
       "      <td>AP5Z1</td>\n",
       "      <td>HGNC:22197</td>\n",
       "      <td>Pathogenic</td>\n",
       "      <td>1</td>\n",
       "      <td>Jun 29, 2010</td>\n",
       "      <td>397704705</td>\n",
       "      <td>...</td>\n",
       "      <td>4781216</td>\n",
       "      <td>GGAT</td>\n",
       "      <td>TGCTGTAAACTGTAACTGTAAA</td>\n",
       "      <td>7p22.1</td>\n",
       "      <td>no assertion criteria provided</td>\n",
       "      <td>1</td>\n",
       "      <td>NaN</td>\n",
       "      <td>N</td>\n",
       "      <td>OMIM Allelic Variant:613653.0001</td>\n",
       "      <td>1</td>\n",
       "    </tr>\n",
       "    <tr>\n",
       "      <th>2</th>\n",
       "      <td>15042</td>\n",
       "      <td>deletion</td>\n",
       "      <td>NM_014855.2(AP5Z1):c.1413_1426delGGACCTGCCCTGC...</td>\n",
       "      <td>9907</td>\n",
       "      <td>AP5Z1</td>\n",
       "      <td>HGNC:22197</td>\n",
       "      <td>Pathogenic</td>\n",
       "      <td>1</td>\n",
       "      <td>Jun 29, 2010</td>\n",
       "      <td>397704709</td>\n",
       "      <td>...</td>\n",
       "      <td>4827379</td>\n",
       "      <td>GGACCTGCCCTGCT</td>\n",
       "      <td>-</td>\n",
       "      <td>7p22.1</td>\n",
       "      <td>no assertion criteria provided</td>\n",
       "      <td>1</td>\n",
       "      <td>NaN</td>\n",
       "      <td>N</td>\n",
       "      <td>OMIM Allelic Variant:613653.0002</td>\n",
       "      <td>1</td>\n",
       "    </tr>\n",
       "    <tr>\n",
       "      <th>3</th>\n",
       "      <td>15042</td>\n",
       "      <td>deletion</td>\n",
       "      <td>NM_014855.2(AP5Z1):c.1413_1426delGGACCTGCCCTGC...</td>\n",
       "      <td>9907</td>\n",
       "      <td>AP5Z1</td>\n",
       "      <td>HGNC:22197</td>\n",
       "      <td>Pathogenic</td>\n",
       "      <td>1</td>\n",
       "      <td>Jun 29, 2010</td>\n",
       "      <td>397704709</td>\n",
       "      <td>...</td>\n",
       "      <td>4787748</td>\n",
       "      <td>GGACCTGCCCTGCT</td>\n",
       "      <td>-</td>\n",
       "      <td>7p22.1</td>\n",
       "      <td>no assertion criteria provided</td>\n",
       "      <td>1</td>\n",
       "      <td>NaN</td>\n",
       "      <td>N</td>\n",
       "      <td>OMIM Allelic Variant:613653.0002</td>\n",
       "      <td>1</td>\n",
       "    </tr>\n",
       "    <tr>\n",
       "      <th>4</th>\n",
       "      <td>15043</td>\n",
       "      <td>single nucleotide variant</td>\n",
       "      <td>NM_014630.2(ZNF592):c.3136G&gt;A (p.Gly1046Arg)</td>\n",
       "      <td>9640</td>\n",
       "      <td>ZNF592</td>\n",
       "      <td>HGNC:28986</td>\n",
       "      <td>Uncertain significance</td>\n",
       "      <td>0</td>\n",
       "      <td>Jun 29, 2015</td>\n",
       "      <td>150829393</td>\n",
       "      <td>...</td>\n",
       "      <td>85342440</td>\n",
       "      <td>G</td>\n",
       "      <td>A</td>\n",
       "      <td>15q25</td>\n",
       "      <td>no assertion criteria provided</td>\n",
       "      <td>1</td>\n",
       "      <td>NaN</td>\n",
       "      <td>N</td>\n",
       "      <td>OMIM Allelic Variant:613624.0001,UniProtKB (pr...</td>\n",
       "      <td>1</td>\n",
       "    </tr>\n",
       "  </tbody>\n",
       "</table>\n",
       "<p>5 rows × 30 columns</p>\n",
       "</div>"
      ],
      "text/plain": [
       "   #AlleleID                       Type  \\\n",
       "0      15041                      indel   \n",
       "1      15041                      indel   \n",
       "2      15042                   deletion   \n",
       "3      15042                   deletion   \n",
       "4      15043  single nucleotide variant   \n",
       "\n",
       "                                                Name  GeneID GeneSymbol  \\\n",
       "0  NM_014855.2(AP5Z1):c.80_83delGGATinsTGCTGTAAAC...    9907      AP5Z1   \n",
       "1  NM_014855.2(AP5Z1):c.80_83delGGATinsTGCTGTAAAC...    9907      AP5Z1   \n",
       "2  NM_014855.2(AP5Z1):c.1413_1426delGGACCTGCCCTGC...    9907      AP5Z1   \n",
       "3  NM_014855.2(AP5Z1):c.1413_1426delGGACCTGCCCTGC...    9907      AP5Z1   \n",
       "4       NM_014630.2(ZNF592):c.3136G>A (p.Gly1046Arg)    9640     ZNF592   \n",
       "\n",
       "      HGNC_ID    ClinicalSignificance  ClinSigSimple LastEvaluated  \\\n",
       "0  HGNC:22197              Pathogenic              1  Jun 29, 2010   \n",
       "1  HGNC:22197              Pathogenic              1  Jun 29, 2010   \n",
       "2  HGNC:22197              Pathogenic              1  Jun 29, 2010   \n",
       "3  HGNC:22197              Pathogenic              1  Jun 29, 2010   \n",
       "4  HGNC:28986  Uncertain significance              0  Jun 29, 2015   \n",
       "\n",
       "   RS# (dbSNP)         ...               Stop ReferenceAllele  \\\n",
       "0    397704705         ...            4820847            GGAT   \n",
       "1    397704705         ...            4781216            GGAT   \n",
       "2    397704709         ...            4827379  GGACCTGCCCTGCT   \n",
       "3    397704709         ...            4787748  GGACCTGCCCTGCT   \n",
       "4    150829393         ...           85342440               G   \n",
       "\n",
       "          AlternateAllele Cytogenetic                    ReviewStatus  \\\n",
       "0  TGCTGTAAACTGTAACTGTAAA      7p22.1  no assertion criteria provided   \n",
       "1  TGCTGTAAACTGTAACTGTAAA      7p22.1  no assertion criteria provided   \n",
       "2                       -      7p22.1  no assertion criteria provided   \n",
       "3                       -      7p22.1  no assertion criteria provided   \n",
       "4                       A       15q25  no assertion criteria provided   \n",
       "\n",
       "  NumberSubmitters Guidelines TestedInGTR  \\\n",
       "0                1        NaN           N   \n",
       "1                1        NaN           N   \n",
       "2                1        NaN           N   \n",
       "3                1        NaN           N   \n",
       "4                1        NaN           N   \n",
       "\n",
       "                                            OtherIDs  SubmitterCategories  \n",
       "0                   OMIM Allelic Variant:613653.0001                    1  \n",
       "1                   OMIM Allelic Variant:613653.0001                    1  \n",
       "2                   OMIM Allelic Variant:613653.0002                    1  \n",
       "3                   OMIM Allelic Variant:613653.0002                    1  \n",
       "4  OMIM Allelic Variant:613624.0001,UniProtKB (pr...                    1  \n",
       "\n",
       "[5 rows x 30 columns]"
      ]
     },
     "execution_count": 4,
     "metadata": {},
     "output_type": "execute_result"
    }
   ],
   "source": [
    "df.head()"
   ]
  },
  {
   "cell_type": "code",
   "execution_count": 5,
   "metadata": {},
   "outputs": [
    {
     "data": {
      "text/plain": [
       "(648289, 30)"
      ]
     },
     "execution_count": 5,
     "metadata": {},
     "output_type": "execute_result"
    }
   ],
   "source": [
    "df.shape"
   ]
  },
  {
   "cell_type": "markdown",
   "metadata": {},
   "source": [
    "# Get Relevent Data"
   ]
  },
  {
   "cell_type": "code",
   "execution_count": 6,
   "metadata": {},
   "outputs": [
    {
     "data": {
      "text/plain": [
       "(17912, 30)"
      ]
     },
     "execution_count": 6,
     "metadata": {},
     "output_type": "execute_result"
    }
   ],
   "source": [
    "df[df['ReviewStatus'] == 'reviewed by expert panel'].shape"
   ]
  },
  {
   "cell_type": "code",
   "execution_count": 7,
   "metadata": {},
   "outputs": [
    {
     "data": {
      "text/plain": [
       "(67319, 30)"
      ]
     },
     "execution_count": 7,
     "metadata": {},
     "output_type": "execute_result"
    }
   ],
   "source": [
    "df[df['ReviewStatus'] == 'criteria provided, multiple submitters, no conflicts'].shape"
   ]
  },
  {
   "cell_type": "code",
   "execution_count": 8,
   "metadata": {
    "collapsed": true
   },
   "outputs": [],
   "source": [
    "df = pd.concat([df[df['ReviewStatus'] == 'reviewed by expert panel'], df[df['ReviewStatus'] == 'criteria provided, multiple submitters, no conflicts']])"
   ]
  },
  {
   "cell_type": "code",
   "execution_count": 9,
   "metadata": {},
   "outputs": [
    {
     "data": {
      "text/plain": [
       "(85231, 30)"
      ]
     },
     "execution_count": 9,
     "metadata": {},
     "output_type": "execute_result"
    }
   ],
   "source": [
    "df.shape"
   ]
  },
  {
   "cell_type": "code",
   "execution_count": 10,
   "metadata": {
    "collapsed": true
   },
   "outputs": [],
   "source": [
    "df = df[['GeneSymbol', 'PhenotypeList']]"
   ]
  },
  {
   "cell_type": "code",
   "execution_count": 11,
   "metadata": {},
   "outputs": [
    {
     "data": {
      "text/html": [
       "<div>\n",
       "<table border=\"1\" class=\"dataframe\">\n",
       "  <thead>\n",
       "    <tr style=\"text-align: right;\">\n",
       "      <th></th>\n",
       "      <th>GeneSymbol</th>\n",
       "      <th>PhenotypeList</th>\n",
       "    </tr>\n",
       "  </thead>\n",
       "  <tbody>\n",
       "    <tr>\n",
       "      <th>10740</th>\n",
       "      <td>DPYD</td>\n",
       "      <td>Dihydropyrimidine dehydrogenase deficiency;Flu...</td>\n",
       "    </tr>\n",
       "    <tr>\n",
       "      <th>10741</th>\n",
       "      <td>DPYD</td>\n",
       "      <td>Dihydropyrimidine dehydrogenase deficiency;Flu...</td>\n",
       "    </tr>\n",
       "    <tr>\n",
       "      <th>10742</th>\n",
       "      <td>DPYD</td>\n",
       "      <td>Dihydropyrimidine dehydrogenase deficiency;Flu...</td>\n",
       "    </tr>\n",
       "    <tr>\n",
       "      <th>11265</th>\n",
       "      <td>NAT2</td>\n",
       "      <td>Slow acetylator due to N-acetyltransferase enz...</td>\n",
       "    </tr>\n",
       "    <tr>\n",
       "      <th>11266</th>\n",
       "      <td>NAT2</td>\n",
       "      <td>Slow acetylator due to N-acetyltransferase enz...</td>\n",
       "    </tr>\n",
       "  </tbody>\n",
       "</table>\n",
       "</div>"
      ],
      "text/plain": [
       "      GeneSymbol                                      PhenotypeList\n",
       "10740       DPYD  Dihydropyrimidine dehydrogenase deficiency;Flu...\n",
       "10741       DPYD  Dihydropyrimidine dehydrogenase deficiency;Flu...\n",
       "10742       DPYD  Dihydropyrimidine dehydrogenase deficiency;Flu...\n",
       "11265       NAT2  Slow acetylator due to N-acetyltransferase enz...\n",
       "11266       NAT2  Slow acetylator due to N-acetyltransferase enz..."
      ]
     },
     "execution_count": 11,
     "metadata": {},
     "output_type": "execute_result"
    }
   ],
   "source": [
    "df.head()"
   ]
  },
  {
   "cell_type": "code",
   "execution_count": 12,
   "metadata": {
    "collapsed": true
   },
   "outputs": [],
   "source": [
    "df.drop_duplicates(inplace=True)"
   ]
  },
  {
   "cell_type": "code",
   "execution_count": 13,
   "metadata": {},
   "outputs": [
    {
     "data": {
      "text/plain": [
       "(7363, 2)"
      ]
     },
     "execution_count": 13,
     "metadata": {},
     "output_type": "execute_result"
    }
   ],
   "source": [
    "df.shape"
   ]
  },
  {
   "cell_type": "code",
   "execution_count": 14,
   "metadata": {},
   "outputs": [
    {
     "name": "stdout",
     "output_type": "stream",
     "text": [
      "Progeres: 100%  7363 Out of 7363   \r"
     ]
    }
   ],
   "source": [
    "df_interactions = pd.DataFrame()\n",
    "\n",
    "for i, index in enumerate(df.index):\n",
    "    \n",
    "    progressPercent = ((i+1)/len(df.index))*100\n",
    "\n",
    "    sys.stdout.write(\"Progeres: %d%%  %d Out of %d   \\r\" % (progressPercent, (i+1), len(df.index)))\n",
    "    sys.stdout.flush()\n",
    "    \n",
    "    \n",
    "    lst2 = df.ix[index, 'PhenotypeList'].split(';')\n",
    "    lst1 = [df.ix[index, 'GeneSymbol']]*(len(lst2)-1)\n",
    "    lst2.pop(0)\n",
    "    temp = pd.DataFrame()\n",
    "    temp['GeneSymbol'] = lst1\n",
    "    temp['Phenotype'] = lst2\n",
    "    df_interactions = pd.concat([df_interactions, temp]) "
   ]
  },
  {
   "cell_type": "code",
   "execution_count": 15,
   "metadata": {},
   "outputs": [
    {
     "data": {
      "text/html": [
       "<div>\n",
       "<table border=\"1\" class=\"dataframe\">\n",
       "  <thead>\n",
       "    <tr style=\"text-align: right;\">\n",
       "      <th></th>\n",
       "      <th>GeneSymbol</th>\n",
       "      <th>Phenotype</th>\n",
       "    </tr>\n",
       "  </thead>\n",
       "  <tbody>\n",
       "    <tr>\n",
       "      <th>0</th>\n",
       "      <td>DPYD</td>\n",
       "      <td>Fluorouracil response</td>\n",
       "    </tr>\n",
       "    <tr>\n",
       "      <th>1</th>\n",
       "      <td>DPYD</td>\n",
       "      <td>Hirschsprung disease 1</td>\n",
       "    </tr>\n",
       "    <tr>\n",
       "      <th>2</th>\n",
       "      <td>DPYD</td>\n",
       "      <td>Pyrimidine analogues response - Toxicity/ADR</td>\n",
       "    </tr>\n",
       "    <tr>\n",
       "      <th>3</th>\n",
       "      <td>DPYD</td>\n",
       "      <td>capecitabine response - Toxicity/ADR</td>\n",
       "    </tr>\n",
       "    <tr>\n",
       "      <th>4</th>\n",
       "      <td>DPYD</td>\n",
       "      <td>fluorouracil response - Toxicity/ADR</td>\n",
       "    </tr>\n",
       "  </tbody>\n",
       "</table>\n",
       "</div>"
      ],
      "text/plain": [
       "  GeneSymbol                                     Phenotype\n",
       "0       DPYD                         Fluorouracil response\n",
       "1       DPYD                        Hirschsprung disease 1\n",
       "2       DPYD  Pyrimidine analogues response - Toxicity/ADR\n",
       "3       DPYD          capecitabine response - Toxicity/ADR\n",
       "4       DPYD          fluorouracil response - Toxicity/ADR"
      ]
     },
     "execution_count": 15,
     "metadata": {},
     "output_type": "execute_result"
    }
   ],
   "source": [
    "df_interactions.head()"
   ]
  },
  {
   "cell_type": "code",
   "execution_count": 16,
   "metadata": {},
   "outputs": [
    {
     "data": {
      "text/plain": [
       "(13567, 2)"
      ]
     },
     "execution_count": 16,
     "metadata": {},
     "output_type": "execute_result"
    }
   ],
   "source": [
    "df_interactions.shape"
   ]
  },
  {
   "cell_type": "markdown",
   "metadata": {},
   "source": [
    "# Map Gene Symbols To Up-to-date Approved Gene Symbols"
   ]
  },
  {
   "cell_type": "code",
   "execution_count": 17,
   "metadata": {
    "collapsed": true
   },
   "outputs": [],
   "source": [
    "df_interactions.set_index('GeneSymbol', inplace=True)"
   ]
  },
  {
   "cell_type": "code",
   "execution_count": 18,
   "metadata": {},
   "outputs": [
    {
     "name": "stdout",
     "output_type": "stream",
     "text": [
      "Progeres: 100%  13567 Out of 13567   \r"
     ]
    }
   ],
   "source": [
    "mf.mapgenesymbols(df_interactions)"
   ]
  },
  {
   "cell_type": "code",
   "execution_count": 19,
   "metadata": {
    "collapsed": true
   },
   "outputs": [],
   "source": [
    "df_interactions.reset_index(inplace=True)"
   ]
  },
  {
   "cell_type": "code",
   "execution_count": 20,
   "metadata": {
    "collapsed": true
   },
   "outputs": [],
   "source": [
    "df_interactions.drop_duplicates(inplace=True)"
   ]
  },
  {
   "cell_type": "code",
   "execution_count": 21,
   "metadata": {},
   "outputs": [
    {
     "data": {
      "text/plain": [
       "(5208, 2)"
      ]
     },
     "execution_count": 21,
     "metadata": {},
     "output_type": "execute_result"
    }
   ],
   "source": [
    "df_interactions.shape"
   ]
  },
  {
   "cell_type": "markdown",
   "metadata": {},
   "source": [
    "# Create Binary Matrix"
   ]
  },
  {
   "cell_type": "code",
   "execution_count": 22,
   "metadata": {},
   "outputs": [
    {
     "name": "stdout",
     "output_type": "stream",
     "text": [
      "Progeres: 100%  1786 Out of 1786   \r"
     ]
    }
   ],
   "source": [
    "binary_matrix = mf.createBinaryMatix(df_interactions)"
   ]
  },
  {
   "cell_type": "code",
   "execution_count": 23,
   "metadata": {},
   "outputs": [
    {
     "data": {
      "text/html": [
       "<div>\n",
       "<table border=\"1\" class=\"dataframe\">\n",
       "  <thead>\n",
       "    <tr style=\"text-align: right;\">\n",
       "      <th></th>\n",
       "      <th>Tyrosinase-negative oculocutaneous albinism</th>\n",
       "      <th>Keratosis, seborrheic</th>\n",
       "      <th>Renal-hepatic-pancreatic dysplasia</th>\n",
       "      <th>Multiple mitochondrial dysfunctions syndrome</th>\n",
       "      <th>Glomerulopathy</th>\n",
       "      <th>Familial febrile seizures 8</th>\n",
       "      <th>Congenital atresia of mitral valve</th>\n",
       "      <th>Rippling muscle disease</th>\n",
       "      <th>Transient Neonatal Diabetes, Dominant</th>\n",
       "      <th>Noonan syndrome 4</th>\n",
       "      <th>...</th>\n",
       "      <th>Juvenile hemochromatosis</th>\n",
       "      <th>Cardiac arrhythmia</th>\n",
       "      <th>Dyskeratosis congenita autosomal dominant</th>\n",
       "      <th>Thrombocytopenia, X-linked</th>\n",
       "      <th>Paget disease of bone, familial</th>\n",
       "      <th>atazanavir and ritonavir response - Toxicity/ADR</th>\n",
       "      <th>Short QT Syndrome 4</th>\n",
       "      <th>Carnitine palmitoyltransferase II deficiency, myopathic, stress-induced</th>\n",
       "      <th>Arrhythmogenic right ventricular cardiomyopathy, type 10</th>\n",
       "      <th>Waardenburg syndrome</th>\n",
       "    </tr>\n",
       "  </thead>\n",
       "  <tbody>\n",
       "    <tr>\n",
       "      <th>SRCAP</th>\n",
       "      <td>0</td>\n",
       "      <td>0</td>\n",
       "      <td>0</td>\n",
       "      <td>0</td>\n",
       "      <td>0</td>\n",
       "      <td>0</td>\n",
       "      <td>0</td>\n",
       "      <td>0</td>\n",
       "      <td>0</td>\n",
       "      <td>0</td>\n",
       "      <td>...</td>\n",
       "      <td>0</td>\n",
       "      <td>0</td>\n",
       "      <td>0</td>\n",
       "      <td>0</td>\n",
       "      <td>0</td>\n",
       "      <td>0</td>\n",
       "      <td>0</td>\n",
       "      <td>0</td>\n",
       "      <td>0</td>\n",
       "      <td>0</td>\n",
       "    </tr>\n",
       "    <tr>\n",
       "      <th>COG8</th>\n",
       "      <td>0</td>\n",
       "      <td>0</td>\n",
       "      <td>0</td>\n",
       "      <td>0</td>\n",
       "      <td>0</td>\n",
       "      <td>0</td>\n",
       "      <td>0</td>\n",
       "      <td>0</td>\n",
       "      <td>0</td>\n",
       "      <td>0</td>\n",
       "      <td>...</td>\n",
       "      <td>0</td>\n",
       "      <td>0</td>\n",
       "      <td>0</td>\n",
       "      <td>0</td>\n",
       "      <td>0</td>\n",
       "      <td>0</td>\n",
       "      <td>0</td>\n",
       "      <td>0</td>\n",
       "      <td>0</td>\n",
       "      <td>0</td>\n",
       "    </tr>\n",
       "    <tr>\n",
       "      <th>TGM1</th>\n",
       "      <td>0</td>\n",
       "      <td>0</td>\n",
       "      <td>0</td>\n",
       "      <td>0</td>\n",
       "      <td>0</td>\n",
       "      <td>0</td>\n",
       "      <td>0</td>\n",
       "      <td>0</td>\n",
       "      <td>0</td>\n",
       "      <td>0</td>\n",
       "      <td>...</td>\n",
       "      <td>0</td>\n",
       "      <td>0</td>\n",
       "      <td>0</td>\n",
       "      <td>0</td>\n",
       "      <td>0</td>\n",
       "      <td>0</td>\n",
       "      <td>0</td>\n",
       "      <td>0</td>\n",
       "      <td>0</td>\n",
       "      <td>0</td>\n",
       "    </tr>\n",
       "    <tr>\n",
       "      <th>LDB3</th>\n",
       "      <td>0</td>\n",
       "      <td>0</td>\n",
       "      <td>0</td>\n",
       "      <td>0</td>\n",
       "      <td>0</td>\n",
       "      <td>0</td>\n",
       "      <td>0</td>\n",
       "      <td>0</td>\n",
       "      <td>0</td>\n",
       "      <td>0</td>\n",
       "      <td>...</td>\n",
       "      <td>0</td>\n",
       "      <td>0</td>\n",
       "      <td>0</td>\n",
       "      <td>0</td>\n",
       "      <td>0</td>\n",
       "      <td>0</td>\n",
       "      <td>0</td>\n",
       "      <td>0</td>\n",
       "      <td>0</td>\n",
       "      <td>0</td>\n",
       "    </tr>\n",
       "    <tr>\n",
       "      <th>SZT2</th>\n",
       "      <td>0</td>\n",
       "      <td>0</td>\n",
       "      <td>0</td>\n",
       "      <td>0</td>\n",
       "      <td>0</td>\n",
       "      <td>0</td>\n",
       "      <td>0</td>\n",
       "      <td>0</td>\n",
       "      <td>0</td>\n",
       "      <td>0</td>\n",
       "      <td>...</td>\n",
       "      <td>0</td>\n",
       "      <td>0</td>\n",
       "      <td>0</td>\n",
       "      <td>0</td>\n",
       "      <td>0</td>\n",
       "      <td>0</td>\n",
       "      <td>0</td>\n",
       "      <td>0</td>\n",
       "      <td>0</td>\n",
       "      <td>0</td>\n",
       "    </tr>\n",
       "  </tbody>\n",
       "</table>\n",
       "<p>5 rows × 1764 columns</p>\n",
       "</div>"
      ],
      "text/plain": [
       "       Tyrosinase-negative oculocutaneous albinism  Keratosis, seborrheic  \\\n",
       "SRCAP                                            0                      0   \n",
       "COG8                                             0                      0   \n",
       "TGM1                                             0                      0   \n",
       "LDB3                                             0                      0   \n",
       "SZT2                                             0                      0   \n",
       "\n",
       "       Renal-hepatic-pancreatic dysplasia  \\\n",
       "SRCAP                                   0   \n",
       "COG8                                    0   \n",
       "TGM1                                    0   \n",
       "LDB3                                    0   \n",
       "SZT2                                    0   \n",
       "\n",
       "       Multiple mitochondrial dysfunctions syndrome  Glomerulopathy  \\\n",
       "SRCAP                                             0               0   \n",
       "COG8                                              0               0   \n",
       "TGM1                                              0               0   \n",
       "LDB3                                              0               0   \n",
       "SZT2                                              0               0   \n",
       "\n",
       "       Familial febrile seizures 8  Congenital atresia of mitral valve  \\\n",
       "SRCAP                            0                                   0   \n",
       "COG8                             0                                   0   \n",
       "TGM1                             0                                   0   \n",
       "LDB3                             0                                   0   \n",
       "SZT2                             0                                   0   \n",
       "\n",
       "       Rippling muscle disease  Transient Neonatal Diabetes, Dominant  \\\n",
       "SRCAP                        0                                      0   \n",
       "COG8                         0                                      0   \n",
       "TGM1                         0                                      0   \n",
       "LDB3                         0                                      0   \n",
       "SZT2                         0                                      0   \n",
       "\n",
       "       Noonan syndrome 4          ...           Juvenile hemochromatosis  \\\n",
       "SRCAP                  0          ...                                  0   \n",
       "COG8                   0          ...                                  0   \n",
       "TGM1                   0          ...                                  0   \n",
       "LDB3                   0          ...                                  0   \n",
       "SZT2                   0          ...                                  0   \n",
       "\n",
       "       Cardiac arrhythmia  Dyskeratosis congenita autosomal dominant  \\\n",
       "SRCAP                   0                                          0   \n",
       "COG8                    0                                          0   \n",
       "TGM1                    0                                          0   \n",
       "LDB3                    0                                          0   \n",
       "SZT2                    0                                          0   \n",
       "\n",
       "       Thrombocytopenia, X-linked  Paget disease of bone, familial  \\\n",
       "SRCAP                           0                                0   \n",
       "COG8                            0                                0   \n",
       "TGM1                            0                                0   \n",
       "LDB3                            0                                0   \n",
       "SZT2                            0                                0   \n",
       "\n",
       "       atazanavir and ritonavir response - Toxicity/ADR  Short QT Syndrome 4  \\\n",
       "SRCAP                                                 0                    0   \n",
       "COG8                                                  0                    0   \n",
       "TGM1                                                  0                    0   \n",
       "LDB3                                                  0                    0   \n",
       "SZT2                                                  0                    0   \n",
       "\n",
       "       Carnitine palmitoyltransferase II deficiency, myopathic, stress-induced  \\\n",
       "SRCAP                                                  0                         \n",
       "COG8                                                   0                         \n",
       "TGM1                                                   0                         \n",
       "LDB3                                                   0                         \n",
       "SZT2                                                   0                         \n",
       "\n",
       "       Arrhythmogenic right ventricular cardiomyopathy, type 10  \\\n",
       "SRCAP                                                  0          \n",
       "COG8                                                   0          \n",
       "TGM1                                                   0          \n",
       "LDB3                                                   0          \n",
       "SZT2                                                   0          \n",
       "\n",
       "       Waardenburg syndrome  \n",
       "SRCAP                     0  \n",
       "COG8                      0  \n",
       "TGM1                      0  \n",
       "LDB3                      0  \n",
       "SZT2                      0  \n",
       "\n",
       "[5 rows x 1764 columns]"
      ]
     },
     "execution_count": 23,
     "metadata": {},
     "output_type": "execute_result"
    }
   ],
   "source": [
    "binary_matrix.head()"
   ]
  },
  {
   "cell_type": "code",
   "execution_count": 24,
   "metadata": {},
   "outputs": [
    {
     "data": {
      "text/plain": [
       "(1786, 1764)"
      ]
     },
     "execution_count": 24,
     "metadata": {},
     "output_type": "execute_result"
    }
   ],
   "source": [
    "binary_matrix.shape"
   ]
  },
  {
   "cell_type": "markdown",
   "metadata": {},
   "source": [
    "# Save Binary Matrix"
   ]
  },
  {
   "cell_type": "code",
   "execution_count": 25,
   "metadata": {},
   "outputs": [],
   "source": [
    "filename = '~/./Documents/Harmonizome/ClinVar/Output/clinvar_binary_matrix_%s.tsv.zip'% str(datetime.date.today())[0:7].replace('-', '_')\n",
    "binary_matrix.to_csv(filename, sep='\\t', compression='gzip')"
   ]
  },
  {
   "cell_type": "markdown",
   "metadata": {},
   "source": [
    "# Create Gene Set Library"
   ]
  },
  {
   "cell_type": "code",
   "execution_count": 26,
   "metadata": {
    "collapsed": true
   },
   "outputs": [],
   "source": [
    "path = '/Users/moshesilverstein/Documents/Harmonizome/ClinVar/Output/'"
   ]
  },
  {
   "cell_type": "code",
   "execution_count": 27,
   "metadata": {
    "collapsed": true
   },
   "outputs": [],
   "source": [
    "name = 'clinvar_gene_set'"
   ]
  },
  {
   "cell_type": "code",
   "execution_count": 28,
   "metadata": {},
   "outputs": [
    {
     "name": "stdout",
     "output_type": "stream",
     "text": [
      "Progeres: 100%  1764 Out of 1764   \r"
     ]
    }
   ],
   "source": [
    "mf.createUpGeneSetLib(binary_matrix, path, name)"
   ]
  },
  {
   "cell_type": "markdown",
   "metadata": {},
   "source": [
    "# Create Attribute Library"
   ]
  },
  {
   "cell_type": "code",
   "execution_count": 29,
   "metadata": {
    "collapsed": true
   },
   "outputs": [],
   "source": [
    "path = '/Users/moshesilverstein/Documents/Harmonizome/ClinVar/Output/'"
   ]
  },
  {
   "cell_type": "code",
   "execution_count": 30,
   "metadata": {
    "collapsed": true
   },
   "outputs": [],
   "source": [
    "name = 'clinvar_attribute_set'"
   ]
  },
  {
   "cell_type": "code",
   "execution_count": 31,
   "metadata": {},
   "outputs": [
    {
     "name": "stdout",
     "output_type": "stream",
     "text": [
      "Progeres: 100%  1786 Out of 1786   \r"
     ]
    }
   ],
   "source": [
    "mf.createUpAttributeSetLib(binary_matrix, path, name)"
   ]
  },
  {
   "cell_type": "markdown",
   "metadata": {},
   "source": [
    "# Create Gene Similarity Matrix"
   ]
  },
  {
   "cell_type": "code",
   "execution_count": 32,
   "metadata": {
    "collapsed": true
   },
   "outputs": [],
   "source": [
    "gene_similarity_matix = mf.createSimilarityMatrix(binary_matrix, 'jaccard')"
   ]
  },
  {
   "cell_type": "code",
   "execution_count": 33,
   "metadata": {},
   "outputs": [
    {
     "data": {
      "text/html": [
       "<div>\n",
       "<table border=\"1\" class=\"dataframe\">\n",
       "  <thead>\n",
       "    <tr style=\"text-align: right;\">\n",
       "      <th></th>\n",
       "      <th>SRCAP</th>\n",
       "      <th>COG8</th>\n",
       "      <th>TGM1</th>\n",
       "      <th>LDB3</th>\n",
       "      <th>SZT2</th>\n",
       "      <th>MFN2</th>\n",
       "      <th>ADRB2</th>\n",
       "      <th>FANCA</th>\n",
       "      <th>COL11A2</th>\n",
       "      <th>NSD1</th>\n",
       "      <th>...</th>\n",
       "      <th>DLX3</th>\n",
       "      <th>CHRND</th>\n",
       "      <th>CHRNA1</th>\n",
       "      <th>RPL5</th>\n",
       "      <th>PYGM</th>\n",
       "      <th>KLF1</th>\n",
       "      <th>NDUFAF6</th>\n",
       "      <th>SLC40A1</th>\n",
       "      <th>TTBK2</th>\n",
       "      <th>PAK3</th>\n",
       "    </tr>\n",
       "  </thead>\n",
       "  <tbody>\n",
       "    <tr>\n",
       "      <th>SRCAP</th>\n",
       "      <td>1.000000</td>\n",
       "      <td>0.500000</td>\n",
       "      <td>0.666667</td>\n",
       "      <td>0.333333</td>\n",
       "      <td>0.500000</td>\n",
       "      <td>0.090909</td>\n",
       "      <td>0.0</td>\n",
       "      <td>0.666667</td>\n",
       "      <td>0.285714</td>\n",
       "      <td>0.105263</td>\n",
       "      <td>...</td>\n",
       "      <td>0.500000</td>\n",
       "      <td>0.333333</td>\n",
       "      <td>0.333333</td>\n",
       "      <td>0.500000</td>\n",
       "      <td>1.000000</td>\n",
       "      <td>0.500000</td>\n",
       "      <td>0.500000</td>\n",
       "      <td>0.333333</td>\n",
       "      <td>1.000000</td>\n",
       "      <td>0.500000</td>\n",
       "    </tr>\n",
       "    <tr>\n",
       "      <th>COG8</th>\n",
       "      <td>0.500000</td>\n",
       "      <td>1.000000</td>\n",
       "      <td>0.333333</td>\n",
       "      <td>0.166667</td>\n",
       "      <td>1.000000</td>\n",
       "      <td>0.045455</td>\n",
       "      <td>0.0</td>\n",
       "      <td>0.333333</td>\n",
       "      <td>0.142857</td>\n",
       "      <td>0.052632</td>\n",
       "      <td>...</td>\n",
       "      <td>1.000000</td>\n",
       "      <td>0.500000</td>\n",
       "      <td>0.500000</td>\n",
       "      <td>1.000000</td>\n",
       "      <td>0.500000</td>\n",
       "      <td>1.000000</td>\n",
       "      <td>1.000000</td>\n",
       "      <td>0.500000</td>\n",
       "      <td>0.500000</td>\n",
       "      <td>0.000000</td>\n",
       "    </tr>\n",
       "    <tr>\n",
       "      <th>TGM1</th>\n",
       "      <td>0.666667</td>\n",
       "      <td>0.333333</td>\n",
       "      <td>1.000000</td>\n",
       "      <td>0.285714</td>\n",
       "      <td>0.333333</td>\n",
       "      <td>0.086957</td>\n",
       "      <td>0.0</td>\n",
       "      <td>0.500000</td>\n",
       "      <td>0.250000</td>\n",
       "      <td>0.100000</td>\n",
       "      <td>...</td>\n",
       "      <td>0.333333</td>\n",
       "      <td>0.250000</td>\n",
       "      <td>0.250000</td>\n",
       "      <td>0.333333</td>\n",
       "      <td>0.666667</td>\n",
       "      <td>0.333333</td>\n",
       "      <td>0.333333</td>\n",
       "      <td>0.250000</td>\n",
       "      <td>0.666667</td>\n",
       "      <td>0.333333</td>\n",
       "    </tr>\n",
       "    <tr>\n",
       "      <th>LDB3</th>\n",
       "      <td>0.333333</td>\n",
       "      <td>0.166667</td>\n",
       "      <td>0.285714</td>\n",
       "      <td>1.000000</td>\n",
       "      <td>0.166667</td>\n",
       "      <td>0.076923</td>\n",
       "      <td>0.0</td>\n",
       "      <td>0.285714</td>\n",
       "      <td>0.181818</td>\n",
       "      <td>0.086957</td>\n",
       "      <td>...</td>\n",
       "      <td>0.166667</td>\n",
       "      <td>0.142857</td>\n",
       "      <td>0.142857</td>\n",
       "      <td>0.166667</td>\n",
       "      <td>0.333333</td>\n",
       "      <td>0.166667</td>\n",
       "      <td>0.166667</td>\n",
       "      <td>0.142857</td>\n",
       "      <td>0.333333</td>\n",
       "      <td>0.166667</td>\n",
       "    </tr>\n",
       "    <tr>\n",
       "      <th>SZT2</th>\n",
       "      <td>0.500000</td>\n",
       "      <td>1.000000</td>\n",
       "      <td>0.333333</td>\n",
       "      <td>0.166667</td>\n",
       "      <td>1.000000</td>\n",
       "      <td>0.045455</td>\n",
       "      <td>0.0</td>\n",
       "      <td>0.333333</td>\n",
       "      <td>0.142857</td>\n",
       "      <td>0.052632</td>\n",
       "      <td>...</td>\n",
       "      <td>1.000000</td>\n",
       "      <td>0.500000</td>\n",
       "      <td>0.500000</td>\n",
       "      <td>1.000000</td>\n",
       "      <td>0.500000</td>\n",
       "      <td>1.000000</td>\n",
       "      <td>1.000000</td>\n",
       "      <td>0.500000</td>\n",
       "      <td>0.500000</td>\n",
       "      <td>0.000000</td>\n",
       "    </tr>\n",
       "  </tbody>\n",
       "</table>\n",
       "<p>5 rows × 1786 columns</p>\n",
       "</div>"
      ],
      "text/plain": [
       "          SRCAP      COG8      TGM1      LDB3      SZT2      MFN2  ADRB2  \\\n",
       "SRCAP  1.000000  0.500000  0.666667  0.333333  0.500000  0.090909    0.0   \n",
       "COG8   0.500000  1.000000  0.333333  0.166667  1.000000  0.045455    0.0   \n",
       "TGM1   0.666667  0.333333  1.000000  0.285714  0.333333  0.086957    0.0   \n",
       "LDB3   0.333333  0.166667  0.285714  1.000000  0.166667  0.076923    0.0   \n",
       "SZT2   0.500000  1.000000  0.333333  0.166667  1.000000  0.045455    0.0   \n",
       "\n",
       "          FANCA   COL11A2      NSD1    ...         DLX3     CHRND    CHRNA1  \\\n",
       "SRCAP  0.666667  0.285714  0.105263    ...     0.500000  0.333333  0.333333   \n",
       "COG8   0.333333  0.142857  0.052632    ...     1.000000  0.500000  0.500000   \n",
       "TGM1   0.500000  0.250000  0.100000    ...     0.333333  0.250000  0.250000   \n",
       "LDB3   0.285714  0.181818  0.086957    ...     0.166667  0.142857  0.142857   \n",
       "SZT2   0.333333  0.142857  0.052632    ...     1.000000  0.500000  0.500000   \n",
       "\n",
       "           RPL5      PYGM      KLF1   NDUFAF6   SLC40A1     TTBK2      PAK3  \n",
       "SRCAP  0.500000  1.000000  0.500000  0.500000  0.333333  1.000000  0.500000  \n",
       "COG8   1.000000  0.500000  1.000000  1.000000  0.500000  0.500000  0.000000  \n",
       "TGM1   0.333333  0.666667  0.333333  0.333333  0.250000  0.666667  0.333333  \n",
       "LDB3   0.166667  0.333333  0.166667  0.166667  0.142857  0.333333  0.166667  \n",
       "SZT2   1.000000  0.500000  1.000000  1.000000  0.500000  0.500000  0.000000  \n",
       "\n",
       "[5 rows x 1786 columns]"
      ]
     },
     "execution_count": 33,
     "metadata": {},
     "output_type": "execute_result"
    }
   ],
   "source": [
    "gene_similarity_matix.head()"
   ]
  },
  {
   "cell_type": "markdown",
   "metadata": {},
   "source": [
    "# Save Gene Similarity Matrix"
   ]
  },
  {
   "cell_type": "code",
   "execution_count": 34,
   "metadata": {
    "collapsed": true
   },
   "outputs": [],
   "source": [
    "filename = '~/./Documents/Harmonizome/ClinVar/Output/clinvar_gene_similarity_matix_%s.tsv.zip'% str(datetime.date.today())[0:7].replace('-', '_')\n",
    "gene_similarity_matix.to_csv(filename, sep='\\t', compression='gzip')"
   ]
  },
  {
   "cell_type": "markdown",
   "metadata": {},
   "source": [
    "# Create Attribute Similarity matrix"
   ]
  },
  {
   "cell_type": "code",
   "execution_count": 35,
   "metadata": {
    "collapsed": true
   },
   "outputs": [],
   "source": [
    "attribute_similarity_matix = mf.createSimilarityMatrix(binary_matrix.T, 'jaccard')"
   ]
  },
  {
   "cell_type": "code",
   "execution_count": 36,
   "metadata": {},
   "outputs": [
    {
     "data": {
      "text/html": [
       "<div>\n",
       "<table border=\"1\" class=\"dataframe\">\n",
       "  <thead>\n",
       "    <tr style=\"text-align: right;\">\n",
       "      <th></th>\n",
       "      <th>Tyrosinase-negative oculocutaneous albinism</th>\n",
       "      <th>Keratosis, seborrheic</th>\n",
       "      <th>Renal-hepatic-pancreatic dysplasia</th>\n",
       "      <th>Multiple mitochondrial dysfunctions syndrome</th>\n",
       "      <th>Glomerulopathy</th>\n",
       "      <th>Familial febrile seizures 8</th>\n",
       "      <th>Congenital atresia of mitral valve</th>\n",
       "      <th>Rippling muscle disease</th>\n",
       "      <th>Transient Neonatal Diabetes, Dominant</th>\n",
       "      <th>Noonan syndrome 4</th>\n",
       "      <th>...</th>\n",
       "      <th>Juvenile hemochromatosis</th>\n",
       "      <th>Cardiac arrhythmia</th>\n",
       "      <th>Dyskeratosis congenita autosomal dominant</th>\n",
       "      <th>Thrombocytopenia, X-linked</th>\n",
       "      <th>Paget disease of bone, familial</th>\n",
       "      <th>atazanavir and ritonavir response - Toxicity/ADR</th>\n",
       "      <th>Short QT Syndrome 4</th>\n",
       "      <th>Carnitine palmitoyltransferase II deficiency, myopathic, stress-induced</th>\n",
       "      <th>Arrhythmogenic right ventricular cardiomyopathy, type 10</th>\n",
       "      <th>Waardenburg syndrome</th>\n",
       "    </tr>\n",
       "  </thead>\n",
       "  <tbody>\n",
       "    <tr>\n",
       "      <th>Tyrosinase-negative oculocutaneous albinism</th>\n",
       "      <td>1.0</td>\n",
       "      <td>0.0</td>\n",
       "      <td>0.0</td>\n",
       "      <td>0.0</td>\n",
       "      <td>0.0</td>\n",
       "      <td>0.0</td>\n",
       "      <td>0.0</td>\n",
       "      <td>0.0</td>\n",
       "      <td>0.0</td>\n",
       "      <td>0.0</td>\n",
       "      <td>...</td>\n",
       "      <td>0.0</td>\n",
       "      <td>0.0</td>\n",
       "      <td>0.0</td>\n",
       "      <td>0.0</td>\n",
       "      <td>0.0</td>\n",
       "      <td>0.0</td>\n",
       "      <td>0.0</td>\n",
       "      <td>0.0</td>\n",
       "      <td>0.0</td>\n",
       "      <td>0.0</td>\n",
       "    </tr>\n",
       "    <tr>\n",
       "      <th>Keratosis, seborrheic</th>\n",
       "      <td>0.0</td>\n",
       "      <td>1.0</td>\n",
       "      <td>0.0</td>\n",
       "      <td>0.0</td>\n",
       "      <td>0.0</td>\n",
       "      <td>0.0</td>\n",
       "      <td>0.0</td>\n",
       "      <td>0.0</td>\n",
       "      <td>0.0</td>\n",
       "      <td>0.0</td>\n",
       "      <td>...</td>\n",
       "      <td>0.0</td>\n",
       "      <td>0.0</td>\n",
       "      <td>0.0</td>\n",
       "      <td>0.0</td>\n",
       "      <td>0.0</td>\n",
       "      <td>0.0</td>\n",
       "      <td>0.0</td>\n",
       "      <td>0.0</td>\n",
       "      <td>0.0</td>\n",
       "      <td>0.0</td>\n",
       "    </tr>\n",
       "    <tr>\n",
       "      <th>Renal-hepatic-pancreatic dysplasia</th>\n",
       "      <td>0.0</td>\n",
       "      <td>0.0</td>\n",
       "      <td>1.0</td>\n",
       "      <td>0.0</td>\n",
       "      <td>0.0</td>\n",
       "      <td>0.0</td>\n",
       "      <td>0.0</td>\n",
       "      <td>0.0</td>\n",
       "      <td>0.0</td>\n",
       "      <td>0.0</td>\n",
       "      <td>...</td>\n",
       "      <td>0.0</td>\n",
       "      <td>0.0</td>\n",
       "      <td>0.0</td>\n",
       "      <td>0.0</td>\n",
       "      <td>0.0</td>\n",
       "      <td>0.0</td>\n",
       "      <td>0.0</td>\n",
       "      <td>0.0</td>\n",
       "      <td>0.0</td>\n",
       "      <td>0.0</td>\n",
       "    </tr>\n",
       "    <tr>\n",
       "      <th>Multiple mitochondrial dysfunctions syndrome</th>\n",
       "      <td>0.0</td>\n",
       "      <td>0.0</td>\n",
       "      <td>0.0</td>\n",
       "      <td>1.0</td>\n",
       "      <td>0.0</td>\n",
       "      <td>0.0</td>\n",
       "      <td>0.0</td>\n",
       "      <td>0.0</td>\n",
       "      <td>0.0</td>\n",
       "      <td>0.0</td>\n",
       "      <td>...</td>\n",
       "      <td>0.0</td>\n",
       "      <td>0.0</td>\n",
       "      <td>0.0</td>\n",
       "      <td>0.0</td>\n",
       "      <td>0.0</td>\n",
       "      <td>0.0</td>\n",
       "      <td>0.0</td>\n",
       "      <td>0.0</td>\n",
       "      <td>0.0</td>\n",
       "      <td>0.0</td>\n",
       "    </tr>\n",
       "    <tr>\n",
       "      <th>Glomerulopathy</th>\n",
       "      <td>0.0</td>\n",
       "      <td>0.0</td>\n",
       "      <td>0.0</td>\n",
       "      <td>0.0</td>\n",
       "      <td>1.0</td>\n",
       "      <td>0.0</td>\n",
       "      <td>0.0</td>\n",
       "      <td>0.0</td>\n",
       "      <td>0.0</td>\n",
       "      <td>0.0</td>\n",
       "      <td>...</td>\n",
       "      <td>0.0</td>\n",
       "      <td>0.0</td>\n",
       "      <td>0.0</td>\n",
       "      <td>0.0</td>\n",
       "      <td>0.0</td>\n",
       "      <td>0.0</td>\n",
       "      <td>0.0</td>\n",
       "      <td>0.0</td>\n",
       "      <td>0.0</td>\n",
       "      <td>0.0</td>\n",
       "    </tr>\n",
       "  </tbody>\n",
       "</table>\n",
       "<p>5 rows × 1764 columns</p>\n",
       "</div>"
      ],
      "text/plain": [
       "                                              Tyrosinase-negative oculocutaneous albinism  \\\n",
       "Tyrosinase-negative oculocutaneous albinism                                           1.0   \n",
       "Keratosis, seborrheic                                                                 0.0   \n",
       "Renal-hepatic-pancreatic dysplasia                                                    0.0   \n",
       "Multiple mitochondrial dysfunctions syndrome                                          0.0   \n",
       "Glomerulopathy                                                                        0.0   \n",
       "\n",
       "                                              Keratosis, seborrheic  \\\n",
       "Tyrosinase-negative oculocutaneous albinism                     0.0   \n",
       "Keratosis, seborrheic                                           1.0   \n",
       "Renal-hepatic-pancreatic dysplasia                              0.0   \n",
       "Multiple mitochondrial dysfunctions syndrome                    0.0   \n",
       "Glomerulopathy                                                  0.0   \n",
       "\n",
       "                                              Renal-hepatic-pancreatic dysplasia  \\\n",
       "Tyrosinase-negative oculocutaneous albinism                                  0.0   \n",
       "Keratosis, seborrheic                                                        0.0   \n",
       "Renal-hepatic-pancreatic dysplasia                                           1.0   \n",
       "Multiple mitochondrial dysfunctions syndrome                                 0.0   \n",
       "Glomerulopathy                                                               0.0   \n",
       "\n",
       "                                              Multiple mitochondrial dysfunctions syndrome  \\\n",
       "Tyrosinase-negative oculocutaneous albinism                                            0.0   \n",
       "Keratosis, seborrheic                                                                  0.0   \n",
       "Renal-hepatic-pancreatic dysplasia                                                     0.0   \n",
       "Multiple mitochondrial dysfunctions syndrome                                           1.0   \n",
       "Glomerulopathy                                                                         0.0   \n",
       "\n",
       "                                              Glomerulopathy  \\\n",
       "Tyrosinase-negative oculocutaneous albinism              0.0   \n",
       "Keratosis, seborrheic                                    0.0   \n",
       "Renal-hepatic-pancreatic dysplasia                       0.0   \n",
       "Multiple mitochondrial dysfunctions syndrome             0.0   \n",
       "Glomerulopathy                                           1.0   \n",
       "\n",
       "                                              Familial febrile seizures 8  \\\n",
       "Tyrosinase-negative oculocutaneous albinism                           0.0   \n",
       "Keratosis, seborrheic                                                 0.0   \n",
       "Renal-hepatic-pancreatic dysplasia                                    0.0   \n",
       "Multiple mitochondrial dysfunctions syndrome                          0.0   \n",
       "Glomerulopathy                                                        0.0   \n",
       "\n",
       "                                              Congenital atresia of mitral valve  \\\n",
       "Tyrosinase-negative oculocutaneous albinism                                  0.0   \n",
       "Keratosis, seborrheic                                                        0.0   \n",
       "Renal-hepatic-pancreatic dysplasia                                           0.0   \n",
       "Multiple mitochondrial dysfunctions syndrome                                 0.0   \n",
       "Glomerulopathy                                                               0.0   \n",
       "\n",
       "                                              Rippling muscle disease  \\\n",
       "Tyrosinase-negative oculocutaneous albinism                       0.0   \n",
       "Keratosis, seborrheic                                             0.0   \n",
       "Renal-hepatic-pancreatic dysplasia                                0.0   \n",
       "Multiple mitochondrial dysfunctions syndrome                      0.0   \n",
       "Glomerulopathy                                                    0.0   \n",
       "\n",
       "                                              Transient Neonatal Diabetes, Dominant  \\\n",
       "Tyrosinase-negative oculocutaneous albinism                                     0.0   \n",
       "Keratosis, seborrheic                                                           0.0   \n",
       "Renal-hepatic-pancreatic dysplasia                                              0.0   \n",
       "Multiple mitochondrial dysfunctions syndrome                                    0.0   \n",
       "Glomerulopathy                                                                  0.0   \n",
       "\n",
       "                                              Noonan syndrome 4  \\\n",
       "Tyrosinase-negative oculocutaneous albinism                 0.0   \n",
       "Keratosis, seborrheic                                       0.0   \n",
       "Renal-hepatic-pancreatic dysplasia                          0.0   \n",
       "Multiple mitochondrial dysfunctions syndrome                0.0   \n",
       "Glomerulopathy                                              0.0   \n",
       "\n",
       "                                                      ...           \\\n",
       "Tyrosinase-negative oculocutaneous albinism           ...            \n",
       "Keratosis, seborrheic                                 ...            \n",
       "Renal-hepatic-pancreatic dysplasia                    ...            \n",
       "Multiple mitochondrial dysfunctions syndrome          ...            \n",
       "Glomerulopathy                                        ...            \n",
       "\n",
       "                                              Juvenile hemochromatosis  \\\n",
       "Tyrosinase-negative oculocutaneous albinism                        0.0   \n",
       "Keratosis, seborrheic                                              0.0   \n",
       "Renal-hepatic-pancreatic dysplasia                                 0.0   \n",
       "Multiple mitochondrial dysfunctions syndrome                       0.0   \n",
       "Glomerulopathy                                                     0.0   \n",
       "\n",
       "                                              Cardiac arrhythmia  \\\n",
       "Tyrosinase-negative oculocutaneous albinism                  0.0   \n",
       "Keratosis, seborrheic                                        0.0   \n",
       "Renal-hepatic-pancreatic dysplasia                           0.0   \n",
       "Multiple mitochondrial dysfunctions syndrome                 0.0   \n",
       "Glomerulopathy                                               0.0   \n",
       "\n",
       "                                              Dyskeratosis congenita autosomal dominant  \\\n",
       "Tyrosinase-negative oculocutaneous albinism                                         0.0   \n",
       "Keratosis, seborrheic                                                               0.0   \n",
       "Renal-hepatic-pancreatic dysplasia                                                  0.0   \n",
       "Multiple mitochondrial dysfunctions syndrome                                        0.0   \n",
       "Glomerulopathy                                                                      0.0   \n",
       "\n",
       "                                              Thrombocytopenia, X-linked  \\\n",
       "Tyrosinase-negative oculocutaneous albinism                          0.0   \n",
       "Keratosis, seborrheic                                                0.0   \n",
       "Renal-hepatic-pancreatic dysplasia                                   0.0   \n",
       "Multiple mitochondrial dysfunctions syndrome                         0.0   \n",
       "Glomerulopathy                                                       0.0   \n",
       "\n",
       "                                              Paget disease of bone, familial  \\\n",
       "Tyrosinase-negative oculocutaneous albinism                               0.0   \n",
       "Keratosis, seborrheic                                                     0.0   \n",
       "Renal-hepatic-pancreatic dysplasia                                        0.0   \n",
       "Multiple mitochondrial dysfunctions syndrome                              0.0   \n",
       "Glomerulopathy                                                            0.0   \n",
       "\n",
       "                                              atazanavir and ritonavir response - Toxicity/ADR  \\\n",
       "Tyrosinase-negative oculocutaneous albinism                                                0.0   \n",
       "Keratosis, seborrheic                                                                      0.0   \n",
       "Renal-hepatic-pancreatic dysplasia                                                         0.0   \n",
       "Multiple mitochondrial dysfunctions syndrome                                               0.0   \n",
       "Glomerulopathy                                                                             0.0   \n",
       "\n",
       "                                              Short QT Syndrome 4  \\\n",
       "Tyrosinase-negative oculocutaneous albinism                   0.0   \n",
       "Keratosis, seborrheic                                         0.0   \n",
       "Renal-hepatic-pancreatic dysplasia                            0.0   \n",
       "Multiple mitochondrial dysfunctions syndrome                  0.0   \n",
       "Glomerulopathy                                                0.0   \n",
       "\n",
       "                                              Carnitine palmitoyltransferase II deficiency, myopathic, stress-induced  \\\n",
       "Tyrosinase-negative oculocutaneous albinism                                                 0.0                         \n",
       "Keratosis, seborrheic                                                                       0.0                         \n",
       "Renal-hepatic-pancreatic dysplasia                                                          0.0                         \n",
       "Multiple mitochondrial dysfunctions syndrome                                                0.0                         \n",
       "Glomerulopathy                                                                              0.0                         \n",
       "\n",
       "                                              Arrhythmogenic right ventricular cardiomyopathy, type 10  \\\n",
       "Tyrosinase-negative oculocutaneous albinism                                                 0.0          \n",
       "Keratosis, seborrheic                                                                       0.0          \n",
       "Renal-hepatic-pancreatic dysplasia                                                          0.0          \n",
       "Multiple mitochondrial dysfunctions syndrome                                                0.0          \n",
       "Glomerulopathy                                                                              0.0          \n",
       "\n",
       "                                              Waardenburg syndrome  \n",
       "Tyrosinase-negative oculocutaneous albinism                    0.0  \n",
       "Keratosis, seborrheic                                          0.0  \n",
       "Renal-hepatic-pancreatic dysplasia                             0.0  \n",
       "Multiple mitochondrial dysfunctions syndrome                   0.0  \n",
       "Glomerulopathy                                                 0.0  \n",
       "\n",
       "[5 rows x 1764 columns]"
      ]
     },
     "execution_count": 36,
     "metadata": {},
     "output_type": "execute_result"
    }
   ],
   "source": [
    "attribute_similarity_matix.head()"
   ]
  },
  {
   "cell_type": "markdown",
   "metadata": {},
   "source": [
    "# Save Attribute Similarity Matrix"
   ]
  },
  {
   "cell_type": "code",
   "execution_count": 37,
   "metadata": {
    "collapsed": true
   },
   "outputs": [],
   "source": [
    "filename = '~/./Documents/Harmonizome/ClinVar/Output/clinvar_attribute_similarity_matix_%s.tsv.zip'% str(datetime.date.today())[0:7].replace('-', '_')\n",
    "attribute_similarity_matix.to_csv(filename, sep='\\t', compression='gzip')"
   ]
  },
  {
   "cell_type": "markdown",
   "metadata": {},
   "source": [
    "# Create Gene List"
   ]
  },
  {
   "cell_type": "code",
   "execution_count": 38,
   "metadata": {},
   "outputs": [
    {
     "name": "stdout",
     "output_type": "stream",
     "text": [
      "Progeres: 100%  1786 Out of 1786   \r"
     ]
    }
   ],
   "source": [
    "gene_list = mf.createGeneList(binary_matrix)"
   ]
  },
  {
   "cell_type": "code",
   "execution_count": 39,
   "metadata": {},
   "outputs": [
    {
     "data": {
      "text/html": [
       "<div>\n",
       "<table border=\"1\" class=\"dataframe\">\n",
       "  <thead>\n",
       "    <tr style=\"text-align: right;\">\n",
       "      <th></th>\n",
       "      <th>GeneSym</th>\n",
       "      <th>GeneID</th>\n",
       "    </tr>\n",
       "  </thead>\n",
       "  <tbody>\n",
       "    <tr>\n",
       "      <th>0</th>\n",
       "      <td>SRCAP</td>\n",
       "      <td>10847</td>\n",
       "    </tr>\n",
       "    <tr>\n",
       "      <th>1</th>\n",
       "      <td>COG8</td>\n",
       "      <td>84342</td>\n",
       "    </tr>\n",
       "    <tr>\n",
       "      <th>2</th>\n",
       "      <td>TGM1</td>\n",
       "      <td>7051</td>\n",
       "    </tr>\n",
       "    <tr>\n",
       "      <th>3</th>\n",
       "      <td>LDB3</td>\n",
       "      <td>11155</td>\n",
       "    </tr>\n",
       "    <tr>\n",
       "      <th>4</th>\n",
       "      <td>SZT2</td>\n",
       "      <td>23334</td>\n",
       "    </tr>\n",
       "  </tbody>\n",
       "</table>\n",
       "</div>"
      ],
      "text/plain": [
       "  GeneSym GeneID\n",
       "0   SRCAP  10847\n",
       "1    COG8  84342\n",
       "2    TGM1   7051\n",
       "3    LDB3  11155\n",
       "4    SZT2  23334"
      ]
     },
     "execution_count": 39,
     "metadata": {},
     "output_type": "execute_result"
    }
   ],
   "source": [
    "gene_list.head()"
   ]
  },
  {
   "cell_type": "code",
   "execution_count": 40,
   "metadata": {},
   "outputs": [
    {
     "data": {
      "text/plain": [
       "(1786, 2)"
      ]
     },
     "execution_count": 40,
     "metadata": {},
     "output_type": "execute_result"
    }
   ],
   "source": [
    "gene_list.shape"
   ]
  },
  {
   "cell_type": "markdown",
   "metadata": {},
   "source": [
    "# Save Gene List"
   ]
  },
  {
   "cell_type": "code",
   "execution_count": 41,
   "metadata": {
    "collapsed": true
   },
   "outputs": [],
   "source": [
    "filename = '~/./Documents/Harmonizome/ClinVar/Output/clinvar_gene_list_%s.tsv.zip'% str(datetime.date.today())[0:7].replace('-', '_')\n",
    "gene_list.to_csv(filename, sep='\\t', index=False, compression='gzip')"
   ]
  },
  {
   "cell_type": "markdown",
   "metadata": {},
   "source": [
    "# Create Attribute List"
   ]
  },
  {
   "cell_type": "code",
   "execution_count": 42,
   "metadata": {
    "collapsed": true
   },
   "outputs": [],
   "source": [
    "attribute_list = mf.createAttributeList(binary_matrix)"
   ]
  },
  {
   "cell_type": "code",
   "execution_count": 43,
   "metadata": {},
   "outputs": [
    {
     "data": {
      "text/html": [
       "<div>\n",
       "<table border=\"1\" class=\"dataframe\">\n",
       "  <thead>\n",
       "    <tr style=\"text-align: right;\">\n",
       "      <th></th>\n",
       "      <th>Attributes</th>\n",
       "    </tr>\n",
       "  </thead>\n",
       "  <tbody>\n",
       "    <tr>\n",
       "      <th>0</th>\n",
       "      <td>Tyrosinase-negative oculocutaneous albinism</td>\n",
       "    </tr>\n",
       "    <tr>\n",
       "      <th>1</th>\n",
       "      <td>Keratosis, seborrheic</td>\n",
       "    </tr>\n",
       "    <tr>\n",
       "      <th>2</th>\n",
       "      <td>Renal-hepatic-pancreatic dysplasia</td>\n",
       "    </tr>\n",
       "    <tr>\n",
       "      <th>3</th>\n",
       "      <td>Multiple mitochondrial dysfunctions syndrome</td>\n",
       "    </tr>\n",
       "    <tr>\n",
       "      <th>4</th>\n",
       "      <td>Glomerulopathy</td>\n",
       "    </tr>\n",
       "  </tbody>\n",
       "</table>\n",
       "</div>"
      ],
      "text/plain": [
       "                                     Attributes\n",
       "0   Tyrosinase-negative oculocutaneous albinism\n",
       "1                         Keratosis, seborrheic\n",
       "2            Renal-hepatic-pancreatic dysplasia\n",
       "3  Multiple mitochondrial dysfunctions syndrome\n",
       "4                                Glomerulopathy"
      ]
     },
     "execution_count": 43,
     "metadata": {},
     "output_type": "execute_result"
    }
   ],
   "source": [
    "attribute_list.head()"
   ]
  },
  {
   "cell_type": "code",
   "execution_count": 44,
   "metadata": {},
   "outputs": [
    {
     "data": {
      "text/plain": [
       "(1764, 1)"
      ]
     },
     "execution_count": 44,
     "metadata": {},
     "output_type": "execute_result"
    }
   ],
   "source": [
    "attribute_list.shape"
   ]
  },
  {
   "cell_type": "markdown",
   "metadata": {},
   "source": [
    "# Save Attribute List"
   ]
  },
  {
   "cell_type": "code",
   "execution_count": 45,
   "metadata": {
    "collapsed": true
   },
   "outputs": [],
   "source": [
    "filename = '~/./Documents/Harmonizome/ClinVar/Output/clinvar_attribute_list_%s.tsv.zip'% str(datetime.date.today())[0:7].replace('-', '_')\n",
    "attribute_list.to_csv(filename, sep='\\t', index=False, compression='gzip')"
   ]
  },
  {
   "cell_type": "markdown",
   "metadata": {},
   "source": [
    "# Create Gene-Attribute Edge List"
   ]
  },
  {
   "cell_type": "code",
   "execution_count": 46,
   "metadata": {
    "collapsed": true
   },
   "outputs": [],
   "source": [
    "path = '/Users/moshesilverstein/Documents/Harmonizome/ClinVar/Output/'"
   ]
  },
  {
   "cell_type": "code",
   "execution_count": 47,
   "metadata": {
    "collapsed": true
   },
   "outputs": [],
   "source": [
    "name = 'clinvar_gene_attribute_edge_list'"
   ]
  },
  {
   "cell_type": "code",
   "execution_count": 48,
   "metadata": {},
   "outputs": [
    {
     "name": "stdout",
     "output_type": "stream",
     "text": [
      "Progeres: 100%  1764 Out of 1764   \n",
      "\n",
      " The number of statisticaly relevent gene-attribute associations is: 5208\n"
     ]
    }
   ],
   "source": [
    "mf.createGeneAttributeEdgeList(binary_matrix, gene_list, path, name)"
   ]
  }
 ],
 "metadata": {
  "kernelspec": {
   "display_name": "Python [default]",
   "language": "python",
   "name": "python3"
  },
  "language_info": {
   "codemirror_mode": {
    "name": "ipython",
    "version": 3
   },
   "file_extension": ".py",
   "mimetype": "text/x-python",
   "name": "python",
   "nbconvert_exporter": "python",
   "pygments_lexer": "ipython3",
   "version": "3.5.2"
  }
 },
 "nbformat": 4,
 "nbformat_minor": 2
}
