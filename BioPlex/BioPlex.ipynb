{
 "cells": [
  {
   "cell_type": "code",
   "execution_count": 39,
   "metadata": {
    "collapsed": true
   },
   "outputs": [],
   "source": [
    "import numpy as np\n",
    "import pandas as pd\n",
    "import sys\n",
    "import datetime"
   ]
  },
  {
   "cell_type": "markdown",
   "metadata": {},
   "source": [
    "data downloaded 5-30-2017 "
   ]
  },
  {
   "cell_type": "code",
   "execution_count": 5,
   "metadata": {},
   "outputs": [],
   "source": [
    "df = pd.read_csv('~/./Documents/Harmonizome/BioPlex/input/BioPlex_interactionList_v4a.tsv', sep='\\t')"
   ]
  },
  {
   "cell_type": "code",
   "execution_count": 6,
   "metadata": {},
   "outputs": [
    {
     "data": {
      "text/html": [
       "<div>\n",
       "<table border=\"1\" class=\"dataframe\">\n",
       "  <thead>\n",
       "    <tr style=\"text-align: right;\">\n",
       "      <th></th>\n",
       "      <th>GeneA</th>\n",
       "      <th>GeneB</th>\n",
       "      <th>UniprotA</th>\n",
       "      <th>UniprotB</th>\n",
       "      <th>SymbolA</th>\n",
       "      <th>SymbolB</th>\n",
       "      <th>p(Wrong)</th>\n",
       "      <th>p(No Interaction)</th>\n",
       "      <th>p(Interaction)</th>\n",
       "    </tr>\n",
       "  </thead>\n",
       "  <tbody>\n",
       "    <tr>\n",
       "      <th>0</th>\n",
       "      <td>100</td>\n",
       "      <td>728378</td>\n",
       "      <td>P00813</td>\n",
       "      <td>A5A3E0</td>\n",
       "      <td>ADA</td>\n",
       "      <td>POTEF</td>\n",
       "      <td>2.380858e-09</td>\n",
       "      <td>0.000332</td>\n",
       "      <td>0.999668</td>\n",
       "    </tr>\n",
       "    <tr>\n",
       "      <th>1</th>\n",
       "      <td>100</td>\n",
       "      <td>345651</td>\n",
       "      <td>P00813</td>\n",
       "      <td>Q562R1</td>\n",
       "      <td>ADA</td>\n",
       "      <td>ACTBL2</td>\n",
       "      <td>9.786437e-18</td>\n",
       "      <td>0.211914</td>\n",
       "      <td>0.788086</td>\n",
       "    </tr>\n",
       "    <tr>\n",
       "      <th>2</th>\n",
       "      <td>222389</td>\n",
       "      <td>708</td>\n",
       "      <td>Q8N7W2</td>\n",
       "      <td>Q07021</td>\n",
       "      <td>BEND7</td>\n",
       "      <td>C1QBP</td>\n",
       "      <td>2.962215e-17</td>\n",
       "      <td>0.005645</td>\n",
       "      <td>0.994355</td>\n",
       "    </tr>\n",
       "    <tr>\n",
       "      <th>3</th>\n",
       "      <td>222389</td>\n",
       "      <td>4038</td>\n",
       "      <td>Q8N7W2</td>\n",
       "      <td>O75096</td>\n",
       "      <td>BEND7</td>\n",
       "      <td>LRP4</td>\n",
       "      <td>3.302994e-10</td>\n",
       "      <td>0.000280</td>\n",
       "      <td>0.999720</td>\n",
       "    </tr>\n",
       "    <tr>\n",
       "      <th>4</th>\n",
       "      <td>645121</td>\n",
       "      <td>3312</td>\n",
       "      <td>Q6ZMN8</td>\n",
       "      <td>P11142</td>\n",
       "      <td>CCNI2</td>\n",
       "      <td>HSPA8</td>\n",
       "      <td>2.060285e-16</td>\n",
       "      <td>0.036235</td>\n",
       "      <td>0.963765</td>\n",
       "    </tr>\n",
       "  </tbody>\n",
       "</table>\n",
       "</div>"
      ],
      "text/plain": [
       "    GeneA   GeneB UniprotA UniprotB SymbolA SymbolB      p(Wrong)  \\\n",
       "0     100  728378   P00813   A5A3E0     ADA   POTEF  2.380858e-09   \n",
       "1     100  345651   P00813   Q562R1     ADA  ACTBL2  9.786437e-18   \n",
       "2  222389     708   Q8N7W2   Q07021   BEND7   C1QBP  2.962215e-17   \n",
       "3  222389    4038   Q8N7W2   O75096   BEND7    LRP4  3.302994e-10   \n",
       "4  645121    3312   Q6ZMN8   P11142   CCNI2   HSPA8  2.060285e-16   \n",
       "\n",
       "   p(No Interaction)  p(Interaction)  \n",
       "0           0.000332        0.999668  \n",
       "1           0.211914        0.788086  \n",
       "2           0.005645        0.994355  \n",
       "3           0.000280        0.999720  \n",
       "4           0.036235        0.963765  "
      ]
     },
     "execution_count": 6,
     "metadata": {},
     "output_type": "execute_result"
    }
   ],
   "source": [
    "df.head()"
   ]
  },
  {
   "cell_type": "code",
   "execution_count": 8,
   "metadata": {},
   "outputs": [],
   "source": [
    "df_ppi = df[['SymbolA','SymbolB']].copy()"
   ]
  },
  {
   "cell_type": "code",
   "execution_count": 9,
   "metadata": {},
   "outputs": [
    {
     "data": {
      "text/html": [
       "<div>\n",
       "<table border=\"1\" class=\"dataframe\">\n",
       "  <thead>\n",
       "    <tr style=\"text-align: right;\">\n",
       "      <th></th>\n",
       "      <th>SymbolA</th>\n",
       "      <th>SymbolB</th>\n",
       "    </tr>\n",
       "  </thead>\n",
       "  <tbody>\n",
       "    <tr>\n",
       "      <th>0</th>\n",
       "      <td>ADA</td>\n",
       "      <td>POTEF</td>\n",
       "    </tr>\n",
       "    <tr>\n",
       "      <th>1</th>\n",
       "      <td>ADA</td>\n",
       "      <td>ACTBL2</td>\n",
       "    </tr>\n",
       "    <tr>\n",
       "      <th>2</th>\n",
       "      <td>BEND7</td>\n",
       "      <td>C1QBP</td>\n",
       "    </tr>\n",
       "    <tr>\n",
       "      <th>3</th>\n",
       "      <td>BEND7</td>\n",
       "      <td>LRP4</td>\n",
       "    </tr>\n",
       "    <tr>\n",
       "      <th>4</th>\n",
       "      <td>CCNI2</td>\n",
       "      <td>HSPA8</td>\n",
       "    </tr>\n",
       "  </tbody>\n",
       "</table>\n",
       "</div>"
      ],
      "text/plain": [
       "  SymbolA SymbolB\n",
       "0     ADA   POTEF\n",
       "1     ADA  ACTBL2\n",
       "2   BEND7   C1QBP\n",
       "3   BEND7    LRP4\n",
       "4   CCNI2   HSPA8"
      ]
     },
     "execution_count": 9,
     "metadata": {},
     "output_type": "execute_result"
    }
   ],
   "source": [
    "df_ppi.head()"
   ]
  },
  {
   "cell_type": "code",
   "execution_count": 16,
   "metadata": {},
   "outputs": [],
   "source": [
    "# generate a unique list of proteins that are found in the dataset\n",
    "proteins = list(set(df_ppi['SymbolA'].unique().tolist()+df_ppi['SymbolB'].unique().tolist()))"
   ]
  },
  {
   "cell_type": "code",
   "execution_count": 17,
   "metadata": {},
   "outputs": [
    {
     "data": {
      "text/plain": [
       "['ASB16',\n",
       " 'TACSTD2',\n",
       " 'ZNF805',\n",
       " 'ZSCAN12',\n",
       " 'NDST1',\n",
       " 'C6orf211',\n",
       " 'MEF2C',\n",
       " 'COBLL1',\n",
       " 'SENP1',\n",
       " 'CST5']"
      ]
     },
     "execution_count": 17,
     "metadata": {},
     "output_type": "execute_result"
    }
   ],
   "source": [
    "proteins[0:10]"
   ]
  },
  {
   "cell_type": "markdown",
   "metadata": {},
   "source": [
    "generate the gmt file"
   ]
  },
  {
   "cell_type": "code",
   "execution_count": 42,
   "metadata": {},
   "outputs": [
    {
     "name": "stdout",
     "output_type": "stream",
     "text": [
      "Progress: 100%   \r"
     ]
    }
   ],
   "source": [
    "bioplex = pd.DataFrame()\n",
    "for i,p in enumerate(proteins):\n",
    "    lst = df_ppi[df_ppi['SymbolA'] == p]['SymbolB'].tolist()\n",
    "    lst += df_ppi[df_ppi['SymbolB'] == p]['SymbolA'].tolist()\n",
    "    lst = set(lst)\n",
    "    lst.discard(p)\n",
    "    lst = list(lst)\n",
    "    lst.insert(0,p)\n",
    "    if len(lst) >= 5:\n",
    "        temp = pd.DataFrame(data=lst)\n",
    "        bioplex = pd.concat([bioplex, temp.T])\n",
    "              \n",
    "        progress = ((i+1)/len(proteins))*100\n",
    "        sys.stdout.write(\"Progress: %d%%   \\r\" % (progress))\n",
    "        sys.stdout.flush()\n",
    "        \n",
    "filename = '~/./Documents/Harmonizome/BioPlex/output/bioplex_ppi_%s.tsv'% str(datetime.date.today()).replace('-', '_')\n",
    "bioplex.to_csv(filename, sep='\\t', header=False, index=False)\n",
    "\n",
    "filename = '~/./Documents/Harmonizome/BioPlex/output/bioplex_ppi_%s.gmt'% str(datetime.date.today()).replace('-', '_')\n",
    "bioplex.to_csv(filename, sep='\\t', header=False, index=False)"
   ]
  }
 ],
 "metadata": {
  "kernelspec": {
   "display_name": "Python [default]",
   "language": "python",
   "name": "python3"
  },
  "language_info": {
   "codemirror_mode": {
    "name": "ipython",
    "version": 3
   },
   "file_extension": ".py",
   "mimetype": "text/x-python",
   "name": "python",
   "nbconvert_exporter": "python",
   "pygments_lexer": "ipython3",
   "version": "3.5.2"
  }
 },
 "nbformat": 4,
 "nbformat_minor": 2
}
