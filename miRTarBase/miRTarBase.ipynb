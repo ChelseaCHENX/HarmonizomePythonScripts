{
 "cells": [
  {
   "cell_type": "markdown",
   "metadata": {},
   "source": [
    "# miRTarBase"
   ]
  },
  {
   "cell_type": "markdown",
   "metadata": {},
   "source": [
    "Author: Moshe Silverstein <br/>\n",
    "Date: 11-17 <br/>\n",
    "Data Source: http://mirtarbase.mbc.nctu.edu.tw/php/index.php"
   ]
  },
  {
   "cell_type": "code",
   "execution_count": 1,
   "metadata": {
    "collapsed": true
   },
   "outputs": [],
   "source": [
    "import sys, datetime, os\n",
    "import numpy as np\n",
    "import pandas as pd\n",
    "import importlib\n",
    "import untility_functions as uf\n",
    "%matplotlib inline"
   ]
  },
  {
   "cell_type": "code",
   "execution_count": 2,
   "metadata": {},
   "outputs": [
    {
     "data": {
      "text/plain": [
       "<module 'untility_functions' from '/Users/moshesilverstein/Documents/Harmonizome/miTarBase/untility_functions.py'>"
      ]
     },
     "execution_count": 2,
     "metadata": {},
     "output_type": "execute_result"
    }
   ],
   "source": [
    "importlib.reload(uf)"
   ]
  },
  {
   "cell_type": "markdown",
   "metadata": {},
   "source": [
    "# Load Data"
   ]
  },
  {
   "cell_type": "code",
   "execution_count": 4,
   "metadata": {},
   "outputs": [],
   "source": [
    "df = pd.read_excel('Input/miRTarBase_MTI.xlsx')"
   ]
  },
  {
   "cell_type": "code",
   "execution_count": 6,
   "metadata": {},
   "outputs": [
    {
     "data": {
      "text/html": [
       "<div>\n",
       "<table border=\"1\" class=\"dataframe\">\n",
       "  <thead>\n",
       "    <tr style=\"text-align: right;\">\n",
       "      <th></th>\n",
       "      <th>miRTarBase ID</th>\n",
       "      <th>miRNA</th>\n",
       "      <th>Species (miRNA)</th>\n",
       "      <th>Target Gene</th>\n",
       "      <th>Target Gene (Entrez ID)</th>\n",
       "      <th>Species (Target Gene)</th>\n",
       "      <th>Experiments</th>\n",
       "      <th>Support Type</th>\n",
       "      <th>References (PMID)</th>\n",
       "    </tr>\n",
       "  </thead>\n",
       "  <tbody>\n",
       "    <tr>\n",
       "      <th>0</th>\n",
       "      <td>MIRT002091</td>\n",
       "      <td>ath-miR398c-3p</td>\n",
       "      <td>Arabidopsis thaliana</td>\n",
       "      <td>CSD2</td>\n",
       "      <td>817365</td>\n",
       "      <td>Arabidopsis thaliana</td>\n",
       "      <td>Western blot</td>\n",
       "      <td>Functional MTI</td>\n",
       "      <td>18392778</td>\n",
       "    </tr>\n",
       "    <tr>\n",
       "      <th>1</th>\n",
       "      <td>MIRT002091</td>\n",
       "      <td>ath-miR398c-3p</td>\n",
       "      <td>Arabidopsis thaliana</td>\n",
       "      <td>CSD2</td>\n",
       "      <td>817365</td>\n",
       "      <td>Arabidopsis thaliana</td>\n",
       "      <td>5\"RACE//Northern blot</td>\n",
       "      <td>Functional MTI (Weak)</td>\n",
       "      <td>20400846</td>\n",
       "    </tr>\n",
       "    <tr>\n",
       "      <th>2</th>\n",
       "      <td>MIRT002092</td>\n",
       "      <td>ath-miR398b-3p</td>\n",
       "      <td>Arabidopsis thaliana</td>\n",
       "      <td>CSD2</td>\n",
       "      <td>817365</td>\n",
       "      <td>Arabidopsis thaliana</td>\n",
       "      <td>Western blot</td>\n",
       "      <td>Functional MTI</td>\n",
       "      <td>18392778</td>\n",
       "    </tr>\n",
       "    <tr>\n",
       "      <th>3</th>\n",
       "      <td>MIRT002092</td>\n",
       "      <td>ath-miR398b-3p</td>\n",
       "      <td>Arabidopsis thaliana</td>\n",
       "      <td>CSD2</td>\n",
       "      <td>817365</td>\n",
       "      <td>Arabidopsis thaliana</td>\n",
       "      <td>5\"RACE//Northern blot</td>\n",
       "      <td>Functional MTI (Weak)</td>\n",
       "      <td>20400846</td>\n",
       "    </tr>\n",
       "    <tr>\n",
       "      <th>4</th>\n",
       "      <td>MIRT002093</td>\n",
       "      <td>ath-miR398c-3p</td>\n",
       "      <td>Arabidopsis thaliana</td>\n",
       "      <td>CSD1</td>\n",
       "      <td>837405</td>\n",
       "      <td>Arabidopsis thaliana</td>\n",
       "      <td>Western blot</td>\n",
       "      <td>Functional MTI</td>\n",
       "      <td>18392778</td>\n",
       "    </tr>\n",
       "  </tbody>\n",
       "</table>\n",
       "</div>"
      ],
      "text/plain": [
       "  miRTarBase ID           miRNA       Species (miRNA) Target Gene  \\\n",
       "0    MIRT002091  ath-miR398c-3p  Arabidopsis thaliana        CSD2   \n",
       "1    MIRT002091  ath-miR398c-3p  Arabidopsis thaliana        CSD2   \n",
       "2    MIRT002092  ath-miR398b-3p  Arabidopsis thaliana        CSD2   \n",
       "3    MIRT002092  ath-miR398b-3p  Arabidopsis thaliana        CSD2   \n",
       "4    MIRT002093  ath-miR398c-3p  Arabidopsis thaliana        CSD1   \n",
       "\n",
       "   Target Gene (Entrez ID) Species (Target Gene)            Experiments  \\\n",
       "0                   817365  Arabidopsis thaliana           Western blot   \n",
       "1                   817365  Arabidopsis thaliana  5\"RACE//Northern blot   \n",
       "2                   817365  Arabidopsis thaliana           Western blot   \n",
       "3                   817365  Arabidopsis thaliana  5\"RACE//Northern blot   \n",
       "4                   837405  Arabidopsis thaliana           Western blot   \n",
       "\n",
       "            Support Type  References (PMID)  \n",
       "0         Functional MTI           18392778  \n",
       "1  Functional MTI (Weak)           20400846  \n",
       "2         Functional MTI           18392778  \n",
       "3  Functional MTI (Weak)           20400846  \n",
       "4         Functional MTI           18392778  "
      ]
     },
     "execution_count": 6,
     "metadata": {},
     "output_type": "execute_result"
    }
   ],
   "source": [
    "df.head()"
   ]
  },
  {
   "cell_type": "code",
   "execution_count": 7,
   "metadata": {},
   "outputs": [
    {
     "data": {
      "text/plain": [
       "(557182, 9)"
      ]
     },
     "execution_count": 7,
     "metadata": {},
     "output_type": "execute_result"
    }
   ],
   "source": [
    "df.shape"
   ]
  },
  {
   "cell_type": "markdown",
   "metadata": {},
   "source": [
    "# Get Relevant Data"
   ]
  },
  {
   "cell_type": "code",
   "execution_count": 8,
   "metadata": {
    "collapsed": true
   },
   "outputs": [],
   "source": [
    "# get only relevetn spcies\n",
    "\n",
    "human = df[df['Species (miRNA)'] == 'Homo sapiens'].copy()\n",
    "mouse = df[df['Species (miRNA)'] == 'Mus musculus'].copy()\n",
    "\n",
    "df = pd.concat([human, mouse])"
   ]
  },
  {
   "cell_type": "code",
   "execution_count": 9,
   "metadata": {},
   "outputs": [
    {
     "data": {
      "text/plain": [
       "(552486, 9)"
      ]
     },
     "execution_count": 9,
     "metadata": {},
     "output_type": "execute_result"
    }
   ],
   "source": [
    "df.shape"
   ]
  },
  {
   "cell_type": "code",
   "execution_count": 10,
   "metadata": {
    "collapsed": true
   },
   "outputs": [],
   "source": [
    "# get only relevetn spcies\n",
    "\n",
    "human = df[df['Species (Target Gene)'] == 'Homo sapiens'].copy()\n",
    "mouse = df[df['Species (Target Gene)'] == 'Mus musculus'].copy()\n",
    "\n",
    "df = pd.concat([human, mouse])"
   ]
  },
  {
   "cell_type": "code",
   "execution_count": 11,
   "metadata": {},
   "outputs": [
    {
     "data": {
      "text/plain": [
       "(552482, 9)"
      ]
     },
     "execution_count": 11,
     "metadata": {},
     "output_type": "execute_result"
    }
   ],
   "source": [
    "df.shape"
   ]
  },
  {
   "cell_type": "code",
   "execution_count": 12,
   "metadata": {
    "collapsed": true
   },
   "outputs": [],
   "source": [
    "df = df[['miRNA', 'Target Gene']] "
   ]
  },
  {
   "cell_type": "code",
   "execution_count": 13,
   "metadata": {},
   "outputs": [
    {
     "data": {
      "text/html": [
       "<div>\n",
       "<table border=\"1\" class=\"dataframe\">\n",
       "  <thead>\n",
       "    <tr style=\"text-align: right;\">\n",
       "      <th></th>\n",
       "      <th>miRNA</th>\n",
       "      <th>Target Gene</th>\n",
       "    </tr>\n",
       "  </thead>\n",
       "  <tbody>\n",
       "    <tr>\n",
       "      <th>4014</th>\n",
       "      <td>hsa-miR-20a-5p</td>\n",
       "      <td>HIF1A</td>\n",
       "    </tr>\n",
       "    <tr>\n",
       "      <th>4015</th>\n",
       "      <td>hsa-miR-20a-5p</td>\n",
       "      <td>HIF1A</td>\n",
       "    </tr>\n",
       "    <tr>\n",
       "      <th>4016</th>\n",
       "      <td>hsa-miR-20a-5p</td>\n",
       "      <td>HIF1A</td>\n",
       "    </tr>\n",
       "    <tr>\n",
       "      <th>4017</th>\n",
       "      <td>hsa-miR-146a-5p</td>\n",
       "      <td>CXCR4</td>\n",
       "    </tr>\n",
       "    <tr>\n",
       "      <th>4018</th>\n",
       "      <td>hsa-miR-146a-5p</td>\n",
       "      <td>CXCR4</td>\n",
       "    </tr>\n",
       "  </tbody>\n",
       "</table>\n",
       "</div>"
      ],
      "text/plain": [
       "                miRNA Target Gene\n",
       "4014   hsa-miR-20a-5p       HIF1A\n",
       "4015   hsa-miR-20a-5p       HIF1A\n",
       "4016   hsa-miR-20a-5p       HIF1A\n",
       "4017  hsa-miR-146a-5p       CXCR4\n",
       "4018  hsa-miR-146a-5p       CXCR4"
      ]
     },
     "execution_count": 13,
     "metadata": {},
     "output_type": "execute_result"
    }
   ],
   "source": [
    "df.head()"
   ]
  },
  {
   "cell_type": "code",
   "execution_count": 14,
   "metadata": {
    "collapsed": true
   },
   "outputs": [],
   "source": [
    "df.drop_duplicates(inplace=True)"
   ]
  },
  {
   "cell_type": "code",
   "execution_count": 15,
   "metadata": {},
   "outputs": [
    {
     "data": {
      "text/plain": [
       "(421320, 2)"
      ]
     },
     "execution_count": 15,
     "metadata": {},
     "output_type": "execute_result"
    }
   ],
   "source": [
    "df.shape"
   ]
  },
  {
   "cell_type": "markdown",
   "metadata": {},
   "source": [
    "# Map Gene Symbols To Up-to-date Approved Gene Symbols"
   ]
  },
  {
   "cell_type": "code",
   "execution_count": 16,
   "metadata": {
    "collapsed": true
   },
   "outputs": [],
   "source": [
    "df.set_index('Target Gene', inplace=True)"
   ]
  },
  {
   "cell_type": "code",
   "execution_count": 17,
   "metadata": {},
   "outputs": [
    {
     "name": "stdout",
     "output_type": "stream",
     "text": [
      "Progeres: 100%  421320 Out of 421320   \r"
     ]
    }
   ],
   "source": [
    "uf.mapgenesymbols(df)"
   ]
  },
  {
   "cell_type": "markdown",
   "metadata": {},
   "source": [
    "# Drop Duplicates"
   ]
  },
  {
   "cell_type": "code",
   "execution_count": 18,
   "metadata": {
    "collapsed": true
   },
   "outputs": [],
   "source": [
    "df.reset_index(inplace=True)"
   ]
  },
  {
   "cell_type": "code",
   "execution_count": 19,
   "metadata": {
    "collapsed": true
   },
   "outputs": [],
   "source": [
    "df.drop_duplicates(inplace=True)"
   ]
  },
  {
   "cell_type": "code",
   "execution_count": 20,
   "metadata": {},
   "outputs": [
    {
     "data": {
      "text/plain": [
       "(417884, 2)"
      ]
     },
     "execution_count": 20,
     "metadata": {},
     "output_type": "execute_result"
    }
   ],
   "source": [
    "df.shape"
   ]
  },
  {
   "cell_type": "markdown",
   "metadata": {},
   "source": [
    "# Create Binary Matrix"
   ]
  },
  {
   "cell_type": "code",
   "execution_count": 21,
   "metadata": {},
   "outputs": [
    {
     "name": "stdout",
     "output_type": "stream",
     "text": [
      "Progeres: 100%  15575 Out of 15575   \r"
     ]
    }
   ],
   "source": [
    "binary_matrix = uf.createBinaryMatix(df)"
   ]
  },
  {
   "cell_type": "code",
   "execution_count": 22,
   "metadata": {},
   "outputs": [
    {
     "data": {
      "text/html": [
       "<div>\n",
       "<table border=\"1\" class=\"dataframe\">\n",
       "  <thead>\n",
       "    <tr style=\"text-align: right;\">\n",
       "      <th></th>\n",
       "      <th>hsa-miR-507</th>\n",
       "      <th>hsa-miR-6723-5p</th>\n",
       "      <th>mmu-miR-7222-3p</th>\n",
       "      <th>hsa-miR-3934-3p</th>\n",
       "      <th>hsa-miR-4657</th>\n",
       "      <th>hsa-miR-130b-5p</th>\n",
       "      <th>mmu-miR-1193-5p</th>\n",
       "      <th>hsa-miR-6782-5p</th>\n",
       "      <th>hsa-miR-190b</th>\n",
       "      <th>hsa-miR-1286</th>\n",
       "      <th>...</th>\n",
       "      <th>hsa-miR-6886-3p</th>\n",
       "      <th>hsa-miR-1226-3p</th>\n",
       "      <th>hsa-miR-513a-5p</th>\n",
       "      <th>hsa-miR-6767-5p</th>\n",
       "      <th>mmu-miR-374c-5p</th>\n",
       "      <th>hsa-miR-126-5p</th>\n",
       "      <th>hsa-miR-3944-5p</th>\n",
       "      <th>hsa-miR-548ay-5p</th>\n",
       "      <th>hsa-miR-4322</th>\n",
       "      <th>mmu-miR-935</th>\n",
       "    </tr>\n",
       "  </thead>\n",
       "  <tbody>\n",
       "    <tr>\n",
       "      <th>PABPN1L</th>\n",
       "      <td>0</td>\n",
       "      <td>0</td>\n",
       "      <td>0</td>\n",
       "      <td>0</td>\n",
       "      <td>0</td>\n",
       "      <td>0</td>\n",
       "      <td>0</td>\n",
       "      <td>0</td>\n",
       "      <td>0</td>\n",
       "      <td>0</td>\n",
       "      <td>...</td>\n",
       "      <td>0</td>\n",
       "      <td>0</td>\n",
       "      <td>0</td>\n",
       "      <td>0</td>\n",
       "      <td>0</td>\n",
       "      <td>0</td>\n",
       "      <td>0</td>\n",
       "      <td>0</td>\n",
       "      <td>0</td>\n",
       "      <td>0</td>\n",
       "    </tr>\n",
       "    <tr>\n",
       "      <th>GJB7</th>\n",
       "      <td>0</td>\n",
       "      <td>0</td>\n",
       "      <td>0</td>\n",
       "      <td>0</td>\n",
       "      <td>0</td>\n",
       "      <td>0</td>\n",
       "      <td>0</td>\n",
       "      <td>0</td>\n",
       "      <td>0</td>\n",
       "      <td>0</td>\n",
       "      <td>...</td>\n",
       "      <td>0</td>\n",
       "      <td>0</td>\n",
       "      <td>0</td>\n",
       "      <td>0</td>\n",
       "      <td>0</td>\n",
       "      <td>0</td>\n",
       "      <td>0</td>\n",
       "      <td>0</td>\n",
       "      <td>0</td>\n",
       "      <td>0</td>\n",
       "    </tr>\n",
       "    <tr>\n",
       "      <th>DEFB105B</th>\n",
       "      <td>0</td>\n",
       "      <td>0</td>\n",
       "      <td>0</td>\n",
       "      <td>0</td>\n",
       "      <td>0</td>\n",
       "      <td>0</td>\n",
       "      <td>0</td>\n",
       "      <td>0</td>\n",
       "      <td>0</td>\n",
       "      <td>0</td>\n",
       "      <td>...</td>\n",
       "      <td>0</td>\n",
       "      <td>0</td>\n",
       "      <td>0</td>\n",
       "      <td>0</td>\n",
       "      <td>0</td>\n",
       "      <td>0</td>\n",
       "      <td>0</td>\n",
       "      <td>0</td>\n",
       "      <td>0</td>\n",
       "      <td>0</td>\n",
       "    </tr>\n",
       "    <tr>\n",
       "      <th>NME2</th>\n",
       "      <td>0</td>\n",
       "      <td>0</td>\n",
       "      <td>0</td>\n",
       "      <td>0</td>\n",
       "      <td>0</td>\n",
       "      <td>0</td>\n",
       "      <td>0</td>\n",
       "      <td>0</td>\n",
       "      <td>0</td>\n",
       "      <td>0</td>\n",
       "      <td>...</td>\n",
       "      <td>0</td>\n",
       "      <td>0</td>\n",
       "      <td>0</td>\n",
       "      <td>0</td>\n",
       "      <td>0</td>\n",
       "      <td>0</td>\n",
       "      <td>0</td>\n",
       "      <td>0</td>\n",
       "      <td>0</td>\n",
       "      <td>0</td>\n",
       "    </tr>\n",
       "    <tr>\n",
       "      <th>CALN1</th>\n",
       "      <td>0</td>\n",
       "      <td>0</td>\n",
       "      <td>0</td>\n",
       "      <td>0</td>\n",
       "      <td>0</td>\n",
       "      <td>0</td>\n",
       "      <td>0</td>\n",
       "      <td>0</td>\n",
       "      <td>0</td>\n",
       "      <td>0</td>\n",
       "      <td>...</td>\n",
       "      <td>0</td>\n",
       "      <td>0</td>\n",
       "      <td>0</td>\n",
       "      <td>0</td>\n",
       "      <td>0</td>\n",
       "      <td>0</td>\n",
       "      <td>0</td>\n",
       "      <td>0</td>\n",
       "      <td>0</td>\n",
       "      <td>0</td>\n",
       "    </tr>\n",
       "  </tbody>\n",
       "</table>\n",
       "<p>5 rows × 3551 columns</p>\n",
       "</div>"
      ],
      "text/plain": [
       "          hsa-miR-507  hsa-miR-6723-5p  mmu-miR-7222-3p  hsa-miR-3934-3p  \\\n",
       "PABPN1L             0                0                0                0   \n",
       "GJB7                0                0                0                0   \n",
       "DEFB105B            0                0                0                0   \n",
       "NME2                0                0                0                0   \n",
       "CALN1               0                0                0                0   \n",
       "\n",
       "          hsa-miR-4657  hsa-miR-130b-5p  mmu-miR-1193-5p  hsa-miR-6782-5p  \\\n",
       "PABPN1L              0                0                0                0   \n",
       "GJB7                 0                0                0                0   \n",
       "DEFB105B             0                0                0                0   \n",
       "NME2                 0                0                0                0   \n",
       "CALN1                0                0                0                0   \n",
       "\n",
       "          hsa-miR-190b  hsa-miR-1286     ...       hsa-miR-6886-3p  \\\n",
       "PABPN1L              0             0     ...                     0   \n",
       "GJB7                 0             0     ...                     0   \n",
       "DEFB105B             0             0     ...                     0   \n",
       "NME2                 0             0     ...                     0   \n",
       "CALN1                0             0     ...                     0   \n",
       "\n",
       "          hsa-miR-1226-3p  hsa-miR-513a-5p  hsa-miR-6767-5p  mmu-miR-374c-5p  \\\n",
       "PABPN1L                 0                0                0                0   \n",
       "GJB7                    0                0                0                0   \n",
       "DEFB105B                0                0                0                0   \n",
       "NME2                    0                0                0                0   \n",
       "CALN1                   0                0                0                0   \n",
       "\n",
       "          hsa-miR-126-5p  hsa-miR-3944-5p  hsa-miR-548ay-5p  hsa-miR-4322  \\\n",
       "PABPN1L                0                0                 0             0   \n",
       "GJB7                   0                0                 0             0   \n",
       "DEFB105B               0                0                 0             0   \n",
       "NME2                   0                0                 0             0   \n",
       "CALN1                  0                0                 0             0   \n",
       "\n",
       "          mmu-miR-935  \n",
       "PABPN1L             0  \n",
       "GJB7                0  \n",
       "DEFB105B            0  \n",
       "NME2                0  \n",
       "CALN1               0  \n",
       "\n",
       "[5 rows x 3551 columns]"
      ]
     },
     "execution_count": 22,
     "metadata": {},
     "output_type": "execute_result"
    }
   ],
   "source": [
    "binary_matrix.head()"
   ]
  },
  {
   "cell_type": "code",
   "execution_count": 23,
   "metadata": {},
   "outputs": [
    {
     "data": {
      "text/plain": [
       "(15575, 3551)"
      ]
     },
     "execution_count": 23,
     "metadata": {},
     "output_type": "execute_result"
    }
   ],
   "source": [
    "binary_matrix.shape"
   ]
  },
  {
   "cell_type": "markdown",
   "metadata": {},
   "source": [
    "# Save Binary Matrix"
   ]
  },
  {
   "cell_type": "code",
   "execution_count": 24,
   "metadata": {
    "collapsed": true
   },
   "outputs": [],
   "source": [
    "filename = '~/./Documents/Harmonizome/miTarBase/Output/mirtarbase_binary_matrix_%s.tsv.zip'% str(datetime.date.today())[0:7].replace('-', '_')\n",
    "binary_matrix.to_csv(filename, sep='\\t', compression='gzip')"
   ]
  },
  {
   "cell_type": "markdown",
   "metadata": {},
   "source": [
    "# Create Gene Set Library"
   ]
  },
  {
   "cell_type": "code",
   "execution_count": 25,
   "metadata": {
    "collapsed": true
   },
   "outputs": [],
   "source": [
    "path = '/Users/moshesilverstein/Documents/Harmonizome/miTarBase/Output/'"
   ]
  },
  {
   "cell_type": "code",
   "execution_count": 26,
   "metadata": {
    "collapsed": true
   },
   "outputs": [],
   "source": [
    "name = 'mirtarbase_gene_set'"
   ]
  },
  {
   "cell_type": "code",
   "execution_count": 27,
   "metadata": {},
   "outputs": [
    {
     "name": "stdout",
     "output_type": "stream",
     "text": [
      "Progeres: 100%  3551 Out of 3551   \r"
     ]
    }
   ],
   "source": [
    "uf.createUpGeneSetLib(binary_matrix, path, name)"
   ]
  },
  {
   "cell_type": "markdown",
   "metadata": {},
   "source": [
    "# Create Attribute Library"
   ]
  },
  {
   "cell_type": "code",
   "execution_count": 28,
   "metadata": {
    "collapsed": true
   },
   "outputs": [],
   "source": [
    "path = '/Users/moshesilverstein/Documents/Harmonizome/miTarBase/Output/'"
   ]
  },
  {
   "cell_type": "code",
   "execution_count": 29,
   "metadata": {
    "collapsed": true
   },
   "outputs": [],
   "source": [
    "name = 'mirtarbase_attribute_set'"
   ]
  },
  {
   "cell_type": "code",
   "execution_count": 30,
   "metadata": {},
   "outputs": [
    {
     "name": "stdout",
     "output_type": "stream",
     "text": [
      "Progeres: 100%  15575 Out of 15575   \r"
     ]
    }
   ],
   "source": [
    "uf.createUpAttributeSetLib(binary_matrix, path, name)"
   ]
  },
  {
   "cell_type": "markdown",
   "metadata": {},
   "source": [
    "# Create Gene Similarity Matrix"
   ]
  },
  {
   "cell_type": "code",
   "execution_count": 31,
   "metadata": {
    "collapsed": true
   },
   "outputs": [],
   "source": [
    "gene_similarity_matix = uf.createSimilarityMatrix(binary_matrix, 'jaccard')"
   ]
  },
  {
   "cell_type": "code",
   "execution_count": 32,
   "metadata": {},
   "outputs": [
    {
     "data": {
      "text/html": [
       "<div>\n",
       "<table border=\"1\" class=\"dataframe\">\n",
       "  <thead>\n",
       "    <tr style=\"text-align: right;\">\n",
       "      <th></th>\n",
       "      <th>PABPN1L</th>\n",
       "      <th>GJB7</th>\n",
       "      <th>DEFB105B</th>\n",
       "      <th>NME2</th>\n",
       "      <th>CALN1</th>\n",
       "      <th>CLDN14</th>\n",
       "      <th>TTC22</th>\n",
       "      <th>CCDC120</th>\n",
       "      <th>MT-ND1</th>\n",
       "      <th>SMG5</th>\n",
       "      <th>...</th>\n",
       "      <th>EIF1</th>\n",
       "      <th>SPRR2C</th>\n",
       "      <th>ZBTB37</th>\n",
       "      <th>TCAM1P</th>\n",
       "      <th>CBLN3</th>\n",
       "      <th>IGLC1</th>\n",
       "      <th>TXNL4A</th>\n",
       "      <th>ECE1</th>\n",
       "      <th>HARS</th>\n",
       "      <th>ADGRF2</th>\n",
       "    </tr>\n",
       "  </thead>\n",
       "  <tbody>\n",
       "    <tr>\n",
       "      <th>PABPN1L</th>\n",
       "      <td>1.0</td>\n",
       "      <td>0.000000</td>\n",
       "      <td>0.000000</td>\n",
       "      <td>0.000000</td>\n",
       "      <td>0.000000</td>\n",
       "      <td>0.0</td>\n",
       "      <td>0.076923</td>\n",
       "      <td>0.031250</td>\n",
       "      <td>0.0</td>\n",
       "      <td>0.0</td>\n",
       "      <td>...</td>\n",
       "      <td>0.000000</td>\n",
       "      <td>0.0</td>\n",
       "      <td>0.011834</td>\n",
       "      <td>0.0</td>\n",
       "      <td>0.0</td>\n",
       "      <td>0.0</td>\n",
       "      <td>0.02381</td>\n",
       "      <td>0.000000</td>\n",
       "      <td>0.027027</td>\n",
       "      <td>0.000000</td>\n",
       "    </tr>\n",
       "    <tr>\n",
       "      <th>GJB7</th>\n",
       "      <td>0.0</td>\n",
       "      <td>1.000000</td>\n",
       "      <td>0.000000</td>\n",
       "      <td>0.032258</td>\n",
       "      <td>0.000000</td>\n",
       "      <td>0.0</td>\n",
       "      <td>0.000000</td>\n",
       "      <td>0.000000</td>\n",
       "      <td>0.0</td>\n",
       "      <td>0.0</td>\n",
       "      <td>...</td>\n",
       "      <td>0.034483</td>\n",
       "      <td>0.0</td>\n",
       "      <td>0.000000</td>\n",
       "      <td>0.0</td>\n",
       "      <td>0.0</td>\n",
       "      <td>0.0</td>\n",
       "      <td>0.00000</td>\n",
       "      <td>0.000000</td>\n",
       "      <td>0.000000</td>\n",
       "      <td>0.000000</td>\n",
       "    </tr>\n",
       "    <tr>\n",
       "      <th>DEFB105B</th>\n",
       "      <td>0.0</td>\n",
       "      <td>0.000000</td>\n",
       "      <td>1.000000</td>\n",
       "      <td>0.029851</td>\n",
       "      <td>0.015385</td>\n",
       "      <td>0.0</td>\n",
       "      <td>0.000000</td>\n",
       "      <td>0.000000</td>\n",
       "      <td>0.0</td>\n",
       "      <td>0.0</td>\n",
       "      <td>...</td>\n",
       "      <td>0.000000</td>\n",
       "      <td>0.0</td>\n",
       "      <td>0.005000</td>\n",
       "      <td>0.0</td>\n",
       "      <td>0.0</td>\n",
       "      <td>0.0</td>\n",
       "      <td>0.00000</td>\n",
       "      <td>0.022727</td>\n",
       "      <td>0.000000</td>\n",
       "      <td>0.025316</td>\n",
       "    </tr>\n",
       "    <tr>\n",
       "      <th>NME2</th>\n",
       "      <td>0.0</td>\n",
       "      <td>0.032258</td>\n",
       "      <td>0.029851</td>\n",
       "      <td>1.000000</td>\n",
       "      <td>0.000000</td>\n",
       "      <td>0.0</td>\n",
       "      <td>0.037736</td>\n",
       "      <td>0.045455</td>\n",
       "      <td>0.0</td>\n",
       "      <td>0.0</td>\n",
       "      <td>...</td>\n",
       "      <td>0.026316</td>\n",
       "      <td>0.0</td>\n",
       "      <td>0.010989</td>\n",
       "      <td>0.0</td>\n",
       "      <td>0.0</td>\n",
       "      <td>0.0</td>\n",
       "      <td>0.00000</td>\n",
       "      <td>0.053571</td>\n",
       "      <td>0.000000</td>\n",
       "      <td>0.015873</td>\n",
       "    </tr>\n",
       "    <tr>\n",
       "      <th>CALN1</th>\n",
       "      <td>0.0</td>\n",
       "      <td>0.000000</td>\n",
       "      <td>0.015385</td>\n",
       "      <td>0.000000</td>\n",
       "      <td>1.000000</td>\n",
       "      <td>0.0</td>\n",
       "      <td>0.000000</td>\n",
       "      <td>0.000000</td>\n",
       "      <td>0.0</td>\n",
       "      <td>0.0</td>\n",
       "      <td>...</td>\n",
       "      <td>0.013514</td>\n",
       "      <td>0.0</td>\n",
       "      <td>0.005556</td>\n",
       "      <td>0.0</td>\n",
       "      <td>0.0</td>\n",
       "      <td>0.0</td>\n",
       "      <td>0.00000</td>\n",
       "      <td>0.026786</td>\n",
       "      <td>0.000000</td>\n",
       "      <td>0.000000</td>\n",
       "    </tr>\n",
       "  </tbody>\n",
       "</table>\n",
       "<p>5 rows × 15575 columns</p>\n",
       "</div>"
      ],
      "text/plain": [
       "          PABPN1L      GJB7  DEFB105B      NME2     CALN1  CLDN14     TTC22  \\\n",
       "PABPN1L       1.0  0.000000  0.000000  0.000000  0.000000     0.0  0.076923   \n",
       "GJB7          0.0  1.000000  0.000000  0.032258  0.000000     0.0  0.000000   \n",
       "DEFB105B      0.0  0.000000  1.000000  0.029851  0.015385     0.0  0.000000   \n",
       "NME2          0.0  0.032258  0.029851  1.000000  0.000000     0.0  0.037736   \n",
       "CALN1         0.0  0.000000  0.015385  0.000000  1.000000     0.0  0.000000   \n",
       "\n",
       "           CCDC120  MT-ND1  SMG5    ...         EIF1  SPRR2C    ZBTB37  \\\n",
       "PABPN1L   0.031250     0.0   0.0    ...     0.000000     0.0  0.011834   \n",
       "GJB7      0.000000     0.0   0.0    ...     0.034483     0.0  0.000000   \n",
       "DEFB105B  0.000000     0.0   0.0    ...     0.000000     0.0  0.005000   \n",
       "NME2      0.045455     0.0   0.0    ...     0.026316     0.0  0.010989   \n",
       "CALN1     0.000000     0.0   0.0    ...     0.013514     0.0  0.005556   \n",
       "\n",
       "          TCAM1P  CBLN3  IGLC1   TXNL4A      ECE1      HARS    ADGRF2  \n",
       "PABPN1L      0.0    0.0    0.0  0.02381  0.000000  0.027027  0.000000  \n",
       "GJB7         0.0    0.0    0.0  0.00000  0.000000  0.000000  0.000000  \n",
       "DEFB105B     0.0    0.0    0.0  0.00000  0.022727  0.000000  0.025316  \n",
       "NME2         0.0    0.0    0.0  0.00000  0.053571  0.000000  0.015873  \n",
       "CALN1        0.0    0.0    0.0  0.00000  0.026786  0.000000  0.000000  \n",
       "\n",
       "[5 rows x 15575 columns]"
      ]
     },
     "execution_count": 32,
     "metadata": {},
     "output_type": "execute_result"
    }
   ],
   "source": [
    "gene_similarity_matix.head()"
   ]
  },
  {
   "cell_type": "markdown",
   "metadata": {},
   "source": [
    "# Save Gene Similarity Matrix"
   ]
  },
  {
   "cell_type": "code",
   "execution_count": 33,
   "metadata": {
    "collapsed": true
   },
   "outputs": [],
   "source": [
    "filename = '~/./Documents/Harmonizome/miTarBase/Output/mirtarbase_gene_similarity_matix_%s.tsv.zip'% str(datetime.date.today())[0:7].replace('-', '_')\n",
    "gene_similarity_matix.to_csv(filename, sep='\\t', compression='gzip')"
   ]
  },
  {
   "cell_type": "markdown",
   "metadata": {},
   "source": [
    "# Create Attribute Similarity matrix"
   ]
  },
  {
   "cell_type": "code",
   "execution_count": 34,
   "metadata": {
    "collapsed": true
   },
   "outputs": [],
   "source": [
    "attribute_similarity_matix = uf.createSimilarityMatrix(binary_matrix.T, 'jaccard')"
   ]
  },
  {
   "cell_type": "code",
   "execution_count": 35,
   "metadata": {},
   "outputs": [
    {
     "data": {
      "text/html": [
       "<div>\n",
       "<table border=\"1\" class=\"dataframe\">\n",
       "  <thead>\n",
       "    <tr style=\"text-align: right;\">\n",
       "      <th></th>\n",
       "      <th>hsa-miR-507</th>\n",
       "      <th>hsa-miR-6723-5p</th>\n",
       "      <th>mmu-miR-7222-3p</th>\n",
       "      <th>hsa-miR-3934-3p</th>\n",
       "      <th>hsa-miR-4657</th>\n",
       "      <th>hsa-miR-130b-5p</th>\n",
       "      <th>mmu-miR-1193-5p</th>\n",
       "      <th>hsa-miR-6782-5p</th>\n",
       "      <th>hsa-miR-190b</th>\n",
       "      <th>hsa-miR-1286</th>\n",
       "      <th>...</th>\n",
       "      <th>hsa-miR-6886-3p</th>\n",
       "      <th>hsa-miR-1226-3p</th>\n",
       "      <th>hsa-miR-513a-5p</th>\n",
       "      <th>hsa-miR-6767-5p</th>\n",
       "      <th>mmu-miR-374c-5p</th>\n",
       "      <th>hsa-miR-126-5p</th>\n",
       "      <th>hsa-miR-3944-5p</th>\n",
       "      <th>hsa-miR-548ay-5p</th>\n",
       "      <th>hsa-miR-4322</th>\n",
       "      <th>mmu-miR-935</th>\n",
       "    </tr>\n",
       "  </thead>\n",
       "  <tbody>\n",
       "    <tr>\n",
       "      <th>hsa-miR-507</th>\n",
       "      <td>1.000000</td>\n",
       "      <td>0.004950</td>\n",
       "      <td>0.0</td>\n",
       "      <td>0.000000</td>\n",
       "      <td>0.011673</td>\n",
       "      <td>0.019268</td>\n",
       "      <td>0.0</td>\n",
       "      <td>0.003559</td>\n",
       "      <td>0.004032</td>\n",
       "      <td>0.010453</td>\n",
       "      <td>...</td>\n",
       "      <td>0.000000</td>\n",
       "      <td>0.009756</td>\n",
       "      <td>0.007673</td>\n",
       "      <td>0.000000</td>\n",
       "      <td>0.0</td>\n",
       "      <td>0.016611</td>\n",
       "      <td>0.003300</td>\n",
       "      <td>0.034853</td>\n",
       "      <td>0.016064</td>\n",
       "      <td>0.0</td>\n",
       "    </tr>\n",
       "    <tr>\n",
       "      <th>hsa-miR-6723-5p</th>\n",
       "      <td>0.004950</td>\n",
       "      <td>1.000000</td>\n",
       "      <td>0.0</td>\n",
       "      <td>0.009259</td>\n",
       "      <td>0.000000</td>\n",
       "      <td>0.002801</td>\n",
       "      <td>0.0</td>\n",
       "      <td>0.000000</td>\n",
       "      <td>0.000000</td>\n",
       "      <td>0.000000</td>\n",
       "      <td>...</td>\n",
       "      <td>0.000000</td>\n",
       "      <td>0.000000</td>\n",
       "      <td>0.000000</td>\n",
       "      <td>0.000000</td>\n",
       "      <td>0.0</td>\n",
       "      <td>0.000000</td>\n",
       "      <td>0.000000</td>\n",
       "      <td>0.000000</td>\n",
       "      <td>0.012346</td>\n",
       "      <td>0.0</td>\n",
       "    </tr>\n",
       "    <tr>\n",
       "      <th>mmu-miR-7222-3p</th>\n",
       "      <td>0.000000</td>\n",
       "      <td>0.000000</td>\n",
       "      <td>1.0</td>\n",
       "      <td>0.000000</td>\n",
       "      <td>0.000000</td>\n",
       "      <td>0.000000</td>\n",
       "      <td>0.0</td>\n",
       "      <td>0.000000</td>\n",
       "      <td>0.000000</td>\n",
       "      <td>0.000000</td>\n",
       "      <td>...</td>\n",
       "      <td>0.000000</td>\n",
       "      <td>0.000000</td>\n",
       "      <td>0.000000</td>\n",
       "      <td>0.000000</td>\n",
       "      <td>0.0</td>\n",
       "      <td>0.000000</td>\n",
       "      <td>0.000000</td>\n",
       "      <td>0.000000</td>\n",
       "      <td>0.000000</td>\n",
       "      <td>0.0</td>\n",
       "    </tr>\n",
       "    <tr>\n",
       "      <th>hsa-miR-3934-3p</th>\n",
       "      <td>0.000000</td>\n",
       "      <td>0.009259</td>\n",
       "      <td>0.0</td>\n",
       "      <td>1.000000</td>\n",
       "      <td>0.012195</td>\n",
       "      <td>0.013986</td>\n",
       "      <td>0.0</td>\n",
       "      <td>0.010753</td>\n",
       "      <td>0.019737</td>\n",
       "      <td>0.020833</td>\n",
       "      <td>...</td>\n",
       "      <td>0.006329</td>\n",
       "      <td>0.006289</td>\n",
       "      <td>0.016949</td>\n",
       "      <td>0.000000</td>\n",
       "      <td>0.0</td>\n",
       "      <td>0.004739</td>\n",
       "      <td>0.014493</td>\n",
       "      <td>0.010381</td>\n",
       "      <td>0.032468</td>\n",
       "      <td>0.0</td>\n",
       "    </tr>\n",
       "    <tr>\n",
       "      <th>hsa-miR-4657</th>\n",
       "      <td>0.011673</td>\n",
       "      <td>0.000000</td>\n",
       "      <td>0.0</td>\n",
       "      <td>0.012195</td>\n",
       "      <td>1.000000</td>\n",
       "      <td>0.007282</td>\n",
       "      <td>0.0</td>\n",
       "      <td>0.012048</td>\n",
       "      <td>0.015038</td>\n",
       "      <td>0.005714</td>\n",
       "      <td>...</td>\n",
       "      <td>0.000000</td>\n",
       "      <td>0.003344</td>\n",
       "      <td>0.010830</td>\n",
       "      <td>0.012987</td>\n",
       "      <td>0.0</td>\n",
       "      <td>0.021277</td>\n",
       "      <td>0.016043</td>\n",
       "      <td>0.014925</td>\n",
       "      <td>0.000000</td>\n",
       "      <td>0.0</td>\n",
       "    </tr>\n",
       "  </tbody>\n",
       "</table>\n",
       "<p>5 rows × 3551 columns</p>\n",
       "</div>"
      ],
      "text/plain": [
       "                 hsa-miR-507  hsa-miR-6723-5p  mmu-miR-7222-3p  \\\n",
       "hsa-miR-507         1.000000         0.004950              0.0   \n",
       "hsa-miR-6723-5p     0.004950         1.000000              0.0   \n",
       "mmu-miR-7222-3p     0.000000         0.000000              1.0   \n",
       "hsa-miR-3934-3p     0.000000         0.009259              0.0   \n",
       "hsa-miR-4657        0.011673         0.000000              0.0   \n",
       "\n",
       "                 hsa-miR-3934-3p  hsa-miR-4657  hsa-miR-130b-5p  \\\n",
       "hsa-miR-507             0.000000      0.011673         0.019268   \n",
       "hsa-miR-6723-5p         0.009259      0.000000         0.002801   \n",
       "mmu-miR-7222-3p         0.000000      0.000000         0.000000   \n",
       "hsa-miR-3934-3p         1.000000      0.012195         0.013986   \n",
       "hsa-miR-4657            0.012195      1.000000         0.007282   \n",
       "\n",
       "                 mmu-miR-1193-5p  hsa-miR-6782-5p  hsa-miR-190b  hsa-miR-1286  \\\n",
       "hsa-miR-507                  0.0         0.003559      0.004032      0.010453   \n",
       "hsa-miR-6723-5p              0.0         0.000000      0.000000      0.000000   \n",
       "mmu-miR-7222-3p              0.0         0.000000      0.000000      0.000000   \n",
       "hsa-miR-3934-3p              0.0         0.010753      0.019737      0.020833   \n",
       "hsa-miR-4657                 0.0         0.012048      0.015038      0.005714   \n",
       "\n",
       "                    ...       hsa-miR-6886-3p  hsa-miR-1226-3p  \\\n",
       "hsa-miR-507         ...              0.000000         0.009756   \n",
       "hsa-miR-6723-5p     ...              0.000000         0.000000   \n",
       "mmu-miR-7222-3p     ...              0.000000         0.000000   \n",
       "hsa-miR-3934-3p     ...              0.006329         0.006289   \n",
       "hsa-miR-4657        ...              0.000000         0.003344   \n",
       "\n",
       "                 hsa-miR-513a-5p  hsa-miR-6767-5p  mmu-miR-374c-5p  \\\n",
       "hsa-miR-507             0.007673         0.000000              0.0   \n",
       "hsa-miR-6723-5p         0.000000         0.000000              0.0   \n",
       "mmu-miR-7222-3p         0.000000         0.000000              0.0   \n",
       "hsa-miR-3934-3p         0.016949         0.000000              0.0   \n",
       "hsa-miR-4657            0.010830         0.012987              0.0   \n",
       "\n",
       "                 hsa-miR-126-5p  hsa-miR-3944-5p  hsa-miR-548ay-5p  \\\n",
       "hsa-miR-507            0.016611         0.003300          0.034853   \n",
       "hsa-miR-6723-5p        0.000000         0.000000          0.000000   \n",
       "mmu-miR-7222-3p        0.000000         0.000000          0.000000   \n",
       "hsa-miR-3934-3p        0.004739         0.014493          0.010381   \n",
       "hsa-miR-4657           0.021277         0.016043          0.014925   \n",
       "\n",
       "                 hsa-miR-4322  mmu-miR-935  \n",
       "hsa-miR-507          0.016064          0.0  \n",
       "hsa-miR-6723-5p      0.012346          0.0  \n",
       "mmu-miR-7222-3p      0.000000          0.0  \n",
       "hsa-miR-3934-3p      0.032468          0.0  \n",
       "hsa-miR-4657         0.000000          0.0  \n",
       "\n",
       "[5 rows x 3551 columns]"
      ]
     },
     "execution_count": 35,
     "metadata": {},
     "output_type": "execute_result"
    }
   ],
   "source": [
    "attribute_similarity_matix.head()"
   ]
  },
  {
   "cell_type": "markdown",
   "metadata": {},
   "source": [
    "# Save Attribute Similarity Matrix"
   ]
  },
  {
   "cell_type": "code",
   "execution_count": 36,
   "metadata": {
    "collapsed": true
   },
   "outputs": [],
   "source": [
    "filename = '~/./Documents/Harmonizome/miTarBase/Output/mirtarbase_attribute_similarity_matix_%s.tsv.zip'% str(datetime.date.today())[0:7].replace('-', '_')\n",
    "attribute_similarity_matix.to_csv(filename, sep='\\t', compression='gzip')"
   ]
  },
  {
   "cell_type": "markdown",
   "metadata": {},
   "source": [
    "# Create Gene List"
   ]
  },
  {
   "cell_type": "code",
   "execution_count": 37,
   "metadata": {},
   "outputs": [
    {
     "name": "stdout",
     "output_type": "stream",
     "text": [
      "Progeres: 100%  15575 Out of 15575   \r"
     ]
    }
   ],
   "source": [
    "gene_list = uf.createGeneList(binary_matrix)"
   ]
  },
  {
   "cell_type": "code",
   "execution_count": 38,
   "metadata": {},
   "outputs": [
    {
     "data": {
      "text/html": [
       "<div>\n",
       "<table border=\"1\" class=\"dataframe\">\n",
       "  <thead>\n",
       "    <tr style=\"text-align: right;\">\n",
       "      <th></th>\n",
       "      <th>GeneSym</th>\n",
       "      <th>GeneID</th>\n",
       "    </tr>\n",
       "  </thead>\n",
       "  <tbody>\n",
       "    <tr>\n",
       "      <th>0</th>\n",
       "      <td>PABPN1L</td>\n",
       "      <td>390748</td>\n",
       "    </tr>\n",
       "    <tr>\n",
       "      <th>1</th>\n",
       "      <td>GJB7</td>\n",
       "      <td>375519</td>\n",
       "    </tr>\n",
       "    <tr>\n",
       "      <th>2</th>\n",
       "      <td>DEFB105B</td>\n",
       "      <td>504180</td>\n",
       "    </tr>\n",
       "    <tr>\n",
       "      <th>3</th>\n",
       "      <td>NME2</td>\n",
       "      <td>4831</td>\n",
       "    </tr>\n",
       "    <tr>\n",
       "      <th>4</th>\n",
       "      <td>CALN1</td>\n",
       "      <td>83698</td>\n",
       "    </tr>\n",
       "  </tbody>\n",
       "</table>\n",
       "</div>"
      ],
      "text/plain": [
       "    GeneSym  GeneID\n",
       "0   PABPN1L  390748\n",
       "1      GJB7  375519\n",
       "2  DEFB105B  504180\n",
       "3      NME2    4831\n",
       "4     CALN1   83698"
      ]
     },
     "execution_count": 38,
     "metadata": {},
     "output_type": "execute_result"
    }
   ],
   "source": [
    "gene_list.head()"
   ]
  },
  {
   "cell_type": "code",
   "execution_count": 39,
   "metadata": {},
   "outputs": [
    {
     "data": {
      "text/plain": [
       "(15575, 2)"
      ]
     },
     "execution_count": 39,
     "metadata": {},
     "output_type": "execute_result"
    }
   ],
   "source": [
    "gene_list.shape"
   ]
  },
  {
   "cell_type": "markdown",
   "metadata": {},
   "source": [
    "# Save Gene List"
   ]
  },
  {
   "cell_type": "code",
   "execution_count": 40,
   "metadata": {
    "collapsed": true
   },
   "outputs": [],
   "source": [
    "filename = '~/./Documents/Harmonizome/miTarBase/Output/mirtarbase_gene_list_%s.tsv.zip'% str(datetime.date.today())[0:7].replace('-', '_')\n",
    "gene_list.to_csv(filename, sep='\\t', index=False, compression='gzip')"
   ]
  },
  {
   "cell_type": "markdown",
   "metadata": {},
   "source": [
    "# Create Attribute List"
   ]
  },
  {
   "cell_type": "code",
   "execution_count": 41,
   "metadata": {
    "collapsed": true
   },
   "outputs": [],
   "source": [
    "attribute_list = uf.createAttributeList(binary_matrix)"
   ]
  },
  {
   "cell_type": "code",
   "execution_count": 42,
   "metadata": {},
   "outputs": [
    {
     "data": {
      "text/html": [
       "<div>\n",
       "<table border=\"1\" class=\"dataframe\">\n",
       "  <thead>\n",
       "    <tr style=\"text-align: right;\">\n",
       "      <th></th>\n",
       "      <th>Attributes</th>\n",
       "    </tr>\n",
       "  </thead>\n",
       "  <tbody>\n",
       "    <tr>\n",
       "      <th>0</th>\n",
       "      <td>hsa-miR-507</td>\n",
       "    </tr>\n",
       "    <tr>\n",
       "      <th>1</th>\n",
       "      <td>hsa-miR-6723-5p</td>\n",
       "    </tr>\n",
       "    <tr>\n",
       "      <th>2</th>\n",
       "      <td>mmu-miR-7222-3p</td>\n",
       "    </tr>\n",
       "    <tr>\n",
       "      <th>3</th>\n",
       "      <td>hsa-miR-3934-3p</td>\n",
       "    </tr>\n",
       "    <tr>\n",
       "      <th>4</th>\n",
       "      <td>hsa-miR-4657</td>\n",
       "    </tr>\n",
       "  </tbody>\n",
       "</table>\n",
       "</div>"
      ],
      "text/plain": [
       "        Attributes\n",
       "0      hsa-miR-507\n",
       "1  hsa-miR-6723-5p\n",
       "2  mmu-miR-7222-3p\n",
       "3  hsa-miR-3934-3p\n",
       "4     hsa-miR-4657"
      ]
     },
     "execution_count": 42,
     "metadata": {},
     "output_type": "execute_result"
    }
   ],
   "source": [
    "attribute_list.head()"
   ]
  },
  {
   "cell_type": "code",
   "execution_count": 43,
   "metadata": {},
   "outputs": [
    {
     "data": {
      "text/plain": [
       "(3551, 1)"
      ]
     },
     "execution_count": 43,
     "metadata": {},
     "output_type": "execute_result"
    }
   ],
   "source": [
    "attribute_list.shape"
   ]
  },
  {
   "cell_type": "markdown",
   "metadata": {},
   "source": [
    "# Save Attribute List"
   ]
  },
  {
   "cell_type": "code",
   "execution_count": 44,
   "metadata": {
    "collapsed": true
   },
   "outputs": [],
   "source": [
    "filename = '~/./Documents/Harmonizome/miTarBase/Output/mirtarbase_attribute_list_%s.tsv.zip'% str(datetime.date.today())[0:7].replace('-', '_')\n",
    "attribute_list.to_csv(filename, sep='\\t', index=False, compression='gzip')"
   ]
  },
  {
   "cell_type": "markdown",
   "metadata": {},
   "source": [
    "# Create Gene-Attribute Edge List"
   ]
  },
  {
   "cell_type": "code",
   "execution_count": 45,
   "metadata": {
    "collapsed": true
   },
   "outputs": [],
   "source": [
    "path = '/Users/moshesilverstein/Documents/Harmonizome/miTarBase/Output/'"
   ]
  },
  {
   "cell_type": "code",
   "execution_count": 46,
   "metadata": {
    "collapsed": true
   },
   "outputs": [],
   "source": [
    "name = 'mirtarbase_gene_attribute_edge_list'"
   ]
  },
  {
   "cell_type": "code",
   "execution_count": 47,
   "metadata": {},
   "outputs": [
    {
     "name": "stdout",
     "output_type": "stream",
     "text": [
      "Progeres: 100%  3551 Out of 3551   \n",
      "\n",
      " The number of statisticaly relevent gene-attribute associations is: 417884\n"
     ]
    }
   ],
   "source": [
    "uf.createGeneAttributeEdgeList(binary_matrix, gene_list, path, name)"
   ]
  }
 ],
 "metadata": {
  "kernelspec": {
   "display_name": "Python [default]",
   "language": "python",
   "name": "python3"
  },
  "language_info": {
   "codemirror_mode": {
    "name": "ipython",
    "version": 3
   },
   "file_extension": ".py",
   "mimetype": "text/x-python",
   "name": "python",
   "nbconvert_exporter": "python",
   "pygments_lexer": "ipython3",
   "version": "3.5.2"
  }
 },
 "nbformat": 4,
 "nbformat_minor": 2
}
