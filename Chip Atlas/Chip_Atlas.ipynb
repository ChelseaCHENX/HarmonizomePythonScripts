{
 "cells": [
  {
   "cell_type": "markdown",
   "metadata": {},
   "source": [
    "# Chip Atlas"
   ]
  },
  {
   "cell_type": "markdown",
   "metadata": {},
   "source": [
    "Author: Moshe Silverstein  \n",
    "Date: 05-18  \n",
    "Data Source Home: http://chip-atlas.org/  \n",
    "Data Source Download: http://chip-atlas.org/target_genes  "
   ]
  },
  {
   "cell_type": "code",
   "execution_count": 1,
   "metadata": {},
   "outputs": [],
   "source": [
    "import sys, datetime, os\n",
    "import numpy as np\n",
    "import pandas as pd\n",
    "import importlib\n",
    "import utility_functions as uf\n",
    "import matplotlib.pyplot as plt\n",
    "%matplotlib inline\n",
    "from collections import Counter"
   ]
  },
  {
   "cell_type": "code",
   "execution_count": 2,
   "metadata": {},
   "outputs": [],
   "source": [
    "import seaborn as sns\n",
    "sns.set(color_codes=True)\n",
    "np.random.seed(sum(map(ord, \"distributions\")))"
   ]
  },
  {
   "cell_type": "code",
   "execution_count": 3,
   "metadata": {},
   "outputs": [],
   "source": [
    "# %load_ext version_information\n",
    "# %version_information numpy, pandas, clustergrammer_widget, seaborn "
   ]
  },
  {
   "cell_type": "markdown",
   "metadata": {},
   "source": [
    "# Path to Output Files"
   ]
  },
  {
   "cell_type": "code",
   "execution_count": 29,
   "metadata": {},
   "outputs": [],
   "source": [
    "path = '/Users/moshesilverstein/Documents/Harmonizome/Chip-Atlas/Output/'"
   ]
  },
  {
   "cell_type": "code",
   "execution_count": 4,
   "metadata": {},
   "outputs": [],
   "source": [
    "import urllib.request, json\n",
    "url = \"http://chip-atlas.org/data/target_genes_analysis.json\"\n",
    "x = urllib.request.urlopen(url)\n",
    "raw_data = x.read()\n",
    "encoding = x.info().get_content_charset('utf8')  # JSON default\n",
    "data = json.loads(raw_data.decode(encoding))"
   ]
  },
  {
   "cell_type": "code",
   "execution_count": 5,
   "metadata": {},
   "outputs": [],
   "source": [
    "specieslist = [\"hg19\", \"mm9\"]"
   ]
  },
  {
   "cell_type": "code",
   "execution_count": 6,
   "metadata": {},
   "outputs": [
    {
     "name": "stdout",
     "output_type": "stream",
     "text": [
      "Progress: 100%  602 Out of 602   \r"
     ]
    }
   ],
   "source": [
    "tfs_list = []\n",
    "targets = []\n",
    "\n",
    "for species in specieslist:\n",
    "    \n",
    "    tfs = data[species]\n",
    "    \n",
    "    for i,tf in enumerate(tfs):\n",
    "        \n",
    "        distance = \"1\"\n",
    "        \n",
    "        progressPercent = ((i+1)/len(tfs))*100\n",
    "\n",
    "        sys.stdout.write(\"Progress: %d%%  %d Out of %d   \\r\" % (progressPercent, (i+1), len(tfs)))\n",
    "        sys.stdout.flush()\n",
    "        \n",
    "        if distance == \"1\":\n",
    "            try:\n",
    "                url = \"http://dbarchive.biosciencedbc.jp/kyushu-u/\"+species+\"/target/\"+tf+\".\"+distance+\".tsv\"\n",
    "                temp_df = pd.read_csv(url, sep='\\t')\n",
    "                target_list = list(temp_df['Target_genes'][0:2000].values)\n",
    "                targets.extend(target_list)\n",
    "                tfs_list.extend([tf]*len(target_list))\n",
    "            except:\n",
    "                distance = \"5\"\n",
    "\n",
    "        if distance == \"5\":\n",
    "            try:\n",
    "                url = \"http://dbarchive.biosciencedbc.jp/kyushu-u/\"+species+\"/target/\"+tf+\".\"+distance+\".tsv\"\n",
    "                temp_df = pd.read_csv(url, sep='\\t')\n",
    "                target_list = list(temp_df['Target_genes'][0:2000].values)\n",
    "                targets.extend(target_list)\n",
    "                tfs_list.extend([tf]*len(target_list))\n",
    "            except:\n",
    "                distance = \"10\"\n",
    "                \n",
    "        if distance == \"10\":\n",
    "            try:\n",
    "                url = \"http://dbarchive.biosciencedbc.jp/kyushu-u/\"+species+\"/target/\"+tf+\".\"+distance+\".tsv\"\n",
    "                temp_df = pd.read_csv(url, sep='\\t')\n",
    "                target_list = list(temp_df['Target_genes'][0:2000].values)\n",
    "                targets.extend(target_list)\n",
    "                tfs_list.extend([tf]*len(target_list))\n",
    "            except:\n",
    "                pass\n",
    "            \n",
    "df = pd.DataFrame(columns=['TF', 'Target'])\n",
    "df['TF'] = tfs_list\n",
    "df['Target'] = targets"
   ]
  },
  {
   "cell_type": "code",
   "execution_count": 7,
   "metadata": {},
   "outputs": [
    {
     "data": {
      "text/html": [
       "<div>\n",
       "<style scoped>\n",
       "    .dataframe tbody tr th:only-of-type {\n",
       "        vertical-align: middle;\n",
       "    }\n",
       "\n",
       "    .dataframe tbody tr th {\n",
       "        vertical-align: top;\n",
       "    }\n",
       "\n",
       "    .dataframe thead th {\n",
       "        text-align: right;\n",
       "    }\n",
       "</style>\n",
       "<table border=\"1\" class=\"dataframe\">\n",
       "  <thead>\n",
       "    <tr style=\"text-align: right;\">\n",
       "      <th></th>\n",
       "      <th>TF</th>\n",
       "      <th>Target</th>\n",
       "    </tr>\n",
       "  </thead>\n",
       "  <tbody>\n",
       "    <tr>\n",
       "      <th>0</th>\n",
       "      <td>ADNP2</td>\n",
       "      <td>MAMDC2</td>\n",
       "    </tr>\n",
       "    <tr>\n",
       "      <th>1</th>\n",
       "      <td>ADNP2</td>\n",
       "      <td>TRIM48</td>\n",
       "    </tr>\n",
       "    <tr>\n",
       "      <th>2</th>\n",
       "      <td>ADNP2</td>\n",
       "      <td>ISG15</td>\n",
       "    </tr>\n",
       "    <tr>\n",
       "      <th>3</th>\n",
       "      <td>ADNP2</td>\n",
       "      <td>COL23A1</td>\n",
       "    </tr>\n",
       "    <tr>\n",
       "      <th>4</th>\n",
       "      <td>ADNP2</td>\n",
       "      <td>AGRN</td>\n",
       "    </tr>\n",
       "  </tbody>\n",
       "</table>\n",
       "</div>"
      ],
      "text/plain": [
       "      TF   Target\n",
       "0  ADNP2   MAMDC2\n",
       "1  ADNP2   TRIM48\n",
       "2  ADNP2    ISG15\n",
       "3  ADNP2  COL23A1\n",
       "4  ADNP2     AGRN"
      ]
     },
     "execution_count": 7,
     "metadata": {},
     "output_type": "execute_result"
    }
   ],
   "source": [
    "df.head()"
   ]
  },
  {
   "cell_type": "code",
   "execution_count": 8,
   "metadata": {},
   "outputs": [
    {
     "data": {
      "text/plain": [
       "(1580513, 2)"
      ]
     },
     "execution_count": 8,
     "metadata": {},
     "output_type": "execute_result"
    }
   ],
   "source": [
    "df.shape"
   ]
  },
  {
   "cell_type": "markdown",
   "metadata": {},
   "source": [
    "# Map Gene Symbols To Up-to-date Approved Gene Symbols"
   ]
  },
  {
   "cell_type": "code",
   "execution_count": 9,
   "metadata": {},
   "outputs": [],
   "source": [
    "df.set_index('TF', inplace=True)"
   ]
  },
  {
   "cell_type": "code",
   "execution_count": 10,
   "metadata": {},
   "outputs": [
    {
     "name": "stdout",
     "output_type": "stream",
     "text": [
      "Progeres: 100%  1580513 Out of 1580513   \r"
     ]
    }
   ],
   "source": [
    "uf.mapgenesymbols(df)"
   ]
  },
  {
   "cell_type": "code",
   "execution_count": 11,
   "metadata": {},
   "outputs": [],
   "source": [
    "df.reset_index(inplace=True)"
   ]
  },
  {
   "cell_type": "code",
   "execution_count": 12,
   "metadata": {},
   "outputs": [
    {
     "data": {
      "text/plain": [
       "(1559153, 2)"
      ]
     },
     "execution_count": 12,
     "metadata": {},
     "output_type": "execute_result"
    }
   ],
   "source": [
    "df.shape"
   ]
  },
  {
   "cell_type": "code",
   "execution_count": 13,
   "metadata": {},
   "outputs": [],
   "source": [
    "df.set_index('Target', inplace=True)"
   ]
  },
  {
   "cell_type": "code",
   "execution_count": 14,
   "metadata": {},
   "outputs": [
    {
     "name": "stdout",
     "output_type": "stream",
     "text": [
      "Progeres: 100%  1559153 Out of 1559153   \r"
     ]
    }
   ],
   "source": [
    "uf.mapgenesymbols(df)"
   ]
  },
  {
   "cell_type": "code",
   "execution_count": 15,
   "metadata": {},
   "outputs": [
    {
     "data": {
      "text/plain": [
       "(1488907, 1)"
      ]
     },
     "execution_count": 15,
     "metadata": {},
     "output_type": "execute_result"
    }
   ],
   "source": [
    "df.shape"
   ]
  },
  {
   "cell_type": "markdown",
   "metadata": {},
   "source": [
    "# Drop Duplicates"
   ]
  },
  {
   "cell_type": "code",
   "execution_count": 16,
   "metadata": {},
   "outputs": [],
   "source": [
    "df.reset_index(inplace=True)"
   ]
  },
  {
   "cell_type": "code",
   "execution_count": 18,
   "metadata": {},
   "outputs": [],
   "source": [
    "df.drop_duplicates(inplace=True)"
   ]
  },
  {
   "cell_type": "code",
   "execution_count": 19,
   "metadata": {},
   "outputs": [
    {
     "data": {
      "text/plain": [
       "(1361487, 2)"
      ]
     },
     "execution_count": 19,
     "metadata": {},
     "output_type": "execute_result"
    }
   ],
   "source": [
    "df.shape"
   ]
  },
  {
   "cell_type": "code",
   "execution_count": 20,
   "metadata": {},
   "outputs": [
    {
     "data": {
      "text/plain": [
       "(1361487, 2)"
      ]
     },
     "execution_count": 20,
     "metadata": {},
     "output_type": "execute_result"
    }
   ],
   "source": [
    "df.shape"
   ]
  },
  {
   "cell_type": "code",
   "execution_count": 17,
   "metadata": {},
   "outputs": [
    {
     "data": {
      "text/html": [
       "<div>\n",
       "<style scoped>\n",
       "    .dataframe tbody tr th:only-of-type {\n",
       "        vertical-align: middle;\n",
       "    }\n",
       "\n",
       "    .dataframe tbody tr th {\n",
       "        vertical-align: top;\n",
       "    }\n",
       "\n",
       "    .dataframe thead th {\n",
       "        text-align: right;\n",
       "    }\n",
       "</style>\n",
       "<table border=\"1\" class=\"dataframe\">\n",
       "  <thead>\n",
       "    <tr style=\"text-align: right;\">\n",
       "      <th></th>\n",
       "      <th>Target</th>\n",
       "      <th>TF</th>\n",
       "    </tr>\n",
       "  </thead>\n",
       "  <tbody>\n",
       "    <tr>\n",
       "      <th>0</th>\n",
       "      <td>MAMDC2</td>\n",
       "      <td>ADNP2</td>\n",
       "    </tr>\n",
       "    <tr>\n",
       "      <th>1</th>\n",
       "      <td>TRIM48</td>\n",
       "      <td>ADNP2</td>\n",
       "    </tr>\n",
       "    <tr>\n",
       "      <th>2</th>\n",
       "      <td>ISG15</td>\n",
       "      <td>ADNP2</td>\n",
       "    </tr>\n",
       "    <tr>\n",
       "      <th>3</th>\n",
       "      <td>COL23A1</td>\n",
       "      <td>ADNP2</td>\n",
       "    </tr>\n",
       "    <tr>\n",
       "      <th>4</th>\n",
       "      <td>AGRN</td>\n",
       "      <td>ADNP2</td>\n",
       "    </tr>\n",
       "  </tbody>\n",
       "</table>\n",
       "</div>"
      ],
      "text/plain": [
       "    Target     TF\n",
       "0   MAMDC2  ADNP2\n",
       "1   TRIM48  ADNP2\n",
       "2    ISG15  ADNP2\n",
       "3  COL23A1  ADNP2\n",
       "4     AGRN  ADNP2"
      ]
     },
     "execution_count": 17,
     "metadata": {},
     "output_type": "execute_result"
    }
   ],
   "source": [
    "df.head()"
   ]
  },
  {
   "cell_type": "markdown",
   "metadata": {},
   "source": [
    "# Create Binary Matrix"
   ]
  },
  {
   "cell_type": "code",
   "execution_count": 26,
   "metadata": {},
   "outputs": [
    {
     "name": "stdout",
     "output_type": "stream",
     "text": [
      "Progeres: 100%  18539 Out of 18539   \r"
     ]
    }
   ],
   "source": [
    "binary_matrix = uf.createBinaryMatrix(df)"
   ]
  },
  {
   "cell_type": "code",
   "execution_count": 27,
   "metadata": {},
   "outputs": [
    {
     "data": {
      "text/html": [
       "<div>\n",
       "<style scoped>\n",
       "    .dataframe tbody tr th:only-of-type {\n",
       "        vertical-align: middle;\n",
       "    }\n",
       "\n",
       "    .dataframe tbody tr th {\n",
       "        vertical-align: top;\n",
       "    }\n",
       "\n",
       "    .dataframe thead th {\n",
       "        text-align: right;\n",
       "    }\n",
       "</style>\n",
       "<table border=\"1\" class=\"dataframe\">\n",
       "  <thead>\n",
       "    <tr style=\"text-align: right;\">\n",
       "      <th></th>\n",
       "      <th>CDK6</th>\n",
       "      <th>CTCFL</th>\n",
       "      <th>RXRA</th>\n",
       "      <th>SVIL</th>\n",
       "      <th>WRNIP1</th>\n",
       "      <th>LHX5</th>\n",
       "      <th>LCOR</th>\n",
       "      <th>SHOX2</th>\n",
       "      <th>ZNF266</th>\n",
       "      <th>PCGF2</th>\n",
       "      <th>...</th>\n",
       "      <th>NR2C2</th>\n",
       "      <th>ZBTB2</th>\n",
       "      <th>TSHZ1</th>\n",
       "      <th>TBL1Y</th>\n",
       "      <th>NKX3-1</th>\n",
       "      <th>IRF5</th>\n",
       "      <th>ATF4</th>\n",
       "      <th>HOXA5</th>\n",
       "      <th>TFCP2L1</th>\n",
       "      <th>ARID5B</th>\n",
       "    </tr>\n",
       "  </thead>\n",
       "  <tbody>\n",
       "    <tr>\n",
       "      <th>OCEL1</th>\n",
       "      <td>0</td>\n",
       "      <td>1</td>\n",
       "      <td>0</td>\n",
       "      <td>0</td>\n",
       "      <td>0</td>\n",
       "      <td>0</td>\n",
       "      <td>0</td>\n",
       "      <td>0</td>\n",
       "      <td>0</td>\n",
       "      <td>0</td>\n",
       "      <td>...</td>\n",
       "      <td>0</td>\n",
       "      <td>0</td>\n",
       "      <td>0</td>\n",
       "      <td>0</td>\n",
       "      <td>0</td>\n",
       "      <td>0</td>\n",
       "      <td>0</td>\n",
       "      <td>0</td>\n",
       "      <td>0</td>\n",
       "      <td>0</td>\n",
       "    </tr>\n",
       "    <tr>\n",
       "      <th>CACNB3</th>\n",
       "      <td>0</td>\n",
       "      <td>1</td>\n",
       "      <td>0</td>\n",
       "      <td>0</td>\n",
       "      <td>0</td>\n",
       "      <td>0</td>\n",
       "      <td>0</td>\n",
       "      <td>0</td>\n",
       "      <td>0</td>\n",
       "      <td>0</td>\n",
       "      <td>...</td>\n",
       "      <td>0</td>\n",
       "      <td>1</td>\n",
       "      <td>0</td>\n",
       "      <td>0</td>\n",
       "      <td>0</td>\n",
       "      <td>0</td>\n",
       "      <td>0</td>\n",
       "      <td>0</td>\n",
       "      <td>0</td>\n",
       "      <td>0</td>\n",
       "    </tr>\n",
       "    <tr>\n",
       "      <th>SVIL</th>\n",
       "      <td>0</td>\n",
       "      <td>1</td>\n",
       "      <td>0</td>\n",
       "      <td>0</td>\n",
       "      <td>0</td>\n",
       "      <td>0</td>\n",
       "      <td>0</td>\n",
       "      <td>0</td>\n",
       "      <td>0</td>\n",
       "      <td>0</td>\n",
       "      <td>...</td>\n",
       "      <td>0</td>\n",
       "      <td>0</td>\n",
       "      <td>0</td>\n",
       "      <td>0</td>\n",
       "      <td>0</td>\n",
       "      <td>0</td>\n",
       "      <td>0</td>\n",
       "      <td>0</td>\n",
       "      <td>0</td>\n",
       "      <td>0</td>\n",
       "    </tr>\n",
       "    <tr>\n",
       "      <th>GPR173</th>\n",
       "      <td>0</td>\n",
       "      <td>0</td>\n",
       "      <td>0</td>\n",
       "      <td>0</td>\n",
       "      <td>0</td>\n",
       "      <td>0</td>\n",
       "      <td>0</td>\n",
       "      <td>0</td>\n",
       "      <td>0</td>\n",
       "      <td>0</td>\n",
       "      <td>...</td>\n",
       "      <td>1</td>\n",
       "      <td>0</td>\n",
       "      <td>0</td>\n",
       "      <td>0</td>\n",
       "      <td>0</td>\n",
       "      <td>0</td>\n",
       "      <td>0</td>\n",
       "      <td>0</td>\n",
       "      <td>0</td>\n",
       "      <td>0</td>\n",
       "    </tr>\n",
       "    <tr>\n",
       "      <th>SCFD1</th>\n",
       "      <td>1</td>\n",
       "      <td>0</td>\n",
       "      <td>0</td>\n",
       "      <td>0</td>\n",
       "      <td>0</td>\n",
       "      <td>0</td>\n",
       "      <td>0</td>\n",
       "      <td>0</td>\n",
       "      <td>0</td>\n",
       "      <td>0</td>\n",
       "      <td>...</td>\n",
       "      <td>1</td>\n",
       "      <td>0</td>\n",
       "      <td>0</td>\n",
       "      <td>0</td>\n",
       "      <td>0</td>\n",
       "      <td>0</td>\n",
       "      <td>0</td>\n",
       "      <td>0</td>\n",
       "      <td>0</td>\n",
       "      <td>0</td>\n",
       "    </tr>\n",
       "  </tbody>\n",
       "</table>\n",
       "<p>5 rows × 963 columns</p>\n",
       "</div>"
      ],
      "text/plain": [
       "        CDK6  CTCFL  RXRA  SVIL  WRNIP1  LHX5  LCOR  SHOX2  ZNF266  PCGF2  \\\n",
       "OCEL1      0      1     0     0       0     0     0      0       0      0   \n",
       "CACNB3     0      1     0     0       0     0     0      0       0      0   \n",
       "SVIL       0      1     0     0       0     0     0      0       0      0   \n",
       "GPR173     0      0     0     0       0     0     0      0       0      0   \n",
       "SCFD1      1      0     0     0       0     0     0      0       0      0   \n",
       "\n",
       "         ...    NR2C2  ZBTB2  TSHZ1  TBL1Y  NKX3-1  IRF5  ATF4  HOXA5  \\\n",
       "OCEL1    ...        0      0      0      0       0     0     0      0   \n",
       "CACNB3   ...        0      1      0      0       0     0     0      0   \n",
       "SVIL     ...        0      0      0      0       0     0     0      0   \n",
       "GPR173   ...        1      0      0      0       0     0     0      0   \n",
       "SCFD1    ...        1      0      0      0       0     0     0      0   \n",
       "\n",
       "        TFCP2L1  ARID5B  \n",
       "OCEL1         0       0  \n",
       "CACNB3        0       0  \n",
       "SVIL          0       0  \n",
       "GPR173        0       0  \n",
       "SCFD1         0       0  \n",
       "\n",
       "[5 rows x 963 columns]"
      ]
     },
     "execution_count": 27,
     "metadata": {},
     "output_type": "execute_result"
    }
   ],
   "source": [
    "binary_matrix.head()"
   ]
  },
  {
   "cell_type": "code",
   "execution_count": 28,
   "metadata": {},
   "outputs": [
    {
     "data": {
      "text/plain": [
       "(18539, 963)"
      ]
     },
     "execution_count": 28,
     "metadata": {},
     "output_type": "execute_result"
    }
   ],
   "source": [
    "binary_matrix.shape"
   ]
  },
  {
   "cell_type": "markdown",
   "metadata": {},
   "source": [
    "# Save Binary Matrix"
   ]
  },
  {
   "cell_type": "code",
   "execution_count": 30,
   "metadata": {},
   "outputs": [],
   "source": [
    "filename = path+'chip_atlas_binary_matrix_%s.tsv.zip'% str(datetime.date.today())[0:7].replace('-', '_')\n",
    "binary_matrix.to_csv(filename, sep='\\t', compression='gzip')"
   ]
  },
  {
   "cell_type": "markdown",
   "metadata": {},
   "source": [
    "# Create Gene Set Library"
   ]
  },
  {
   "cell_type": "code",
   "execution_count": 31,
   "metadata": {},
   "outputs": [],
   "source": [
    "name = 'chip_atlas_gene_set'"
   ]
  },
  {
   "cell_type": "code",
   "execution_count": 32,
   "metadata": {},
   "outputs": [
    {
     "name": "stdout",
     "output_type": "stream",
     "text": [
      "Progeres: 100%  963 Out of 963   \r"
     ]
    }
   ],
   "source": [
    "uf.createUpGeneSetLib(binary_matrix, path, name)"
   ]
  },
  {
   "cell_type": "markdown",
   "metadata": {},
   "source": [
    "# Create Attribute Library"
   ]
  },
  {
   "cell_type": "code",
   "execution_count": 33,
   "metadata": {},
   "outputs": [],
   "source": [
    "name = 'chip_atlas_attribute_set'"
   ]
  },
  {
   "cell_type": "code",
   "execution_count": 34,
   "metadata": {},
   "outputs": [
    {
     "name": "stdout",
     "output_type": "stream",
     "text": [
      "Progeres: 100%  18539 Out of 18539   \r"
     ]
    }
   ],
   "source": [
    "uf.createUpAttributeSetLib(binary_matrix, path, name)"
   ]
  },
  {
   "cell_type": "markdown",
   "metadata": {},
   "source": [
    "# Create Gene Similarity Matrix"
   ]
  },
  {
   "cell_type": "code",
   "execution_count": 36,
   "metadata": {},
   "outputs": [],
   "source": [
    "gene_similarity_matix = uf.createSimilarityMatrix(binary_matrix, 'jaccard')"
   ]
  },
  {
   "cell_type": "code",
   "execution_count": 37,
   "metadata": {},
   "outputs": [
    {
     "data": {
      "text/html": [
       "<div>\n",
       "<style scoped>\n",
       "    .dataframe tbody tr th:only-of-type {\n",
       "        vertical-align: middle;\n",
       "    }\n",
       "\n",
       "    .dataframe tbody tr th {\n",
       "        vertical-align: top;\n",
       "    }\n",
       "\n",
       "    .dataframe thead th {\n",
       "        text-align: right;\n",
       "    }\n",
       "</style>\n",
       "<table border=\"1\" class=\"dataframe\">\n",
       "  <thead>\n",
       "    <tr style=\"text-align: right;\">\n",
       "      <th></th>\n",
       "      <th>OCEL1</th>\n",
       "      <th>CACNB3</th>\n",
       "      <th>SVIL</th>\n",
       "      <th>GPR173</th>\n",
       "      <th>SCFD1</th>\n",
       "      <th>ZNF320</th>\n",
       "      <th>GJA4</th>\n",
       "      <th>STMN4</th>\n",
       "      <th>SDC2</th>\n",
       "      <th>TPM4</th>\n",
       "      <th>...</th>\n",
       "      <th>SCRN1</th>\n",
       "      <th>UROC1</th>\n",
       "      <th>LAG3</th>\n",
       "      <th>DNHD1</th>\n",
       "      <th>TRIM62</th>\n",
       "      <th>ZBTB14</th>\n",
       "      <th>PRMT7</th>\n",
       "      <th>TRMT61B</th>\n",
       "      <th>GAB4</th>\n",
       "      <th>GTF2A1</th>\n",
       "    </tr>\n",
       "    <tr>\n",
       "      <th></th>\n",
       "      <th></th>\n",
       "      <th></th>\n",
       "      <th></th>\n",
       "      <th></th>\n",
       "      <th></th>\n",
       "      <th></th>\n",
       "      <th></th>\n",
       "      <th></th>\n",
       "      <th></th>\n",
       "      <th></th>\n",
       "      <th></th>\n",
       "      <th></th>\n",
       "      <th></th>\n",
       "      <th></th>\n",
       "      <th></th>\n",
       "      <th></th>\n",
       "      <th></th>\n",
       "      <th></th>\n",
       "      <th></th>\n",
       "      <th></th>\n",
       "      <th></th>\n",
       "    </tr>\n",
       "  </thead>\n",
       "  <tbody>\n",
       "    <tr>\n",
       "      <th>OCEL1</th>\n",
       "      <td>1.000000</td>\n",
       "      <td>0.153333</td>\n",
       "      <td>0.130081</td>\n",
       "      <td>0.020202</td>\n",
       "      <td>0.105058</td>\n",
       "      <td>0.030000</td>\n",
       "      <td>0.010989</td>\n",
       "      <td>0.021739</td>\n",
       "      <td>0.088710</td>\n",
       "      <td>0.094488</td>\n",
       "      <td>...</td>\n",
       "      <td>0.079646</td>\n",
       "      <td>0.027778</td>\n",
       "      <td>0.053763</td>\n",
       "      <td>0.000000</td>\n",
       "      <td>0.104478</td>\n",
       "      <td>0.067114</td>\n",
       "      <td>0.120536</td>\n",
       "      <td>0.126582</td>\n",
       "      <td>0.000000</td>\n",
       "      <td>0.097973</td>\n",
       "    </tr>\n",
       "    <tr>\n",
       "      <th>CACNB3</th>\n",
       "      <td>0.153333</td>\n",
       "      <td>1.000000</td>\n",
       "      <td>0.100775</td>\n",
       "      <td>0.019608</td>\n",
       "      <td>0.091255</td>\n",
       "      <td>0.019231</td>\n",
       "      <td>0.010638</td>\n",
       "      <td>0.021053</td>\n",
       "      <td>0.086614</td>\n",
       "      <td>0.126984</td>\n",
       "      <td>...</td>\n",
       "      <td>0.059322</td>\n",
       "      <td>0.008850</td>\n",
       "      <td>0.020202</td>\n",
       "      <td>0.000000</td>\n",
       "      <td>0.126866</td>\n",
       "      <td>0.109589</td>\n",
       "      <td>0.085470</td>\n",
       "      <td>0.125000</td>\n",
       "      <td>0.011364</td>\n",
       "      <td>0.111864</td>\n",
       "    </tr>\n",
       "    <tr>\n",
       "      <th>SVIL</th>\n",
       "      <td>0.130081</td>\n",
       "      <td>0.100775</td>\n",
       "      <td>1.000000</td>\n",
       "      <td>0.044776</td>\n",
       "      <td>0.045455</td>\n",
       "      <td>0.014085</td>\n",
       "      <td>0.033898</td>\n",
       "      <td>0.016129</td>\n",
       "      <td>0.083333</td>\n",
       "      <td>0.102041</td>\n",
       "      <td>...</td>\n",
       "      <td>0.034091</td>\n",
       "      <td>0.111111</td>\n",
       "      <td>0.046875</td>\n",
       "      <td>0.018182</td>\n",
       "      <td>0.054054</td>\n",
       "      <td>0.040650</td>\n",
       "      <td>0.047619</td>\n",
       "      <td>0.063063</td>\n",
       "      <td>0.000000</td>\n",
       "      <td>0.065217</td>\n",
       "    </tr>\n",
       "    <tr>\n",
       "      <th>GPR173</th>\n",
       "      <td>0.020202</td>\n",
       "      <td>0.019608</td>\n",
       "      <td>0.044776</td>\n",
       "      <td>1.000000</td>\n",
       "      <td>0.028708</td>\n",
       "      <td>0.030303</td>\n",
       "      <td>0.045455</td>\n",
       "      <td>0.136364</td>\n",
       "      <td>0.015385</td>\n",
       "      <td>0.044776</td>\n",
       "      <td>...</td>\n",
       "      <td>0.060000</td>\n",
       "      <td>0.024390</td>\n",
       "      <td>0.000000</td>\n",
       "      <td>0.000000</td>\n",
       "      <td>0.053333</td>\n",
       "      <td>0.034483</td>\n",
       "      <td>0.011111</td>\n",
       "      <td>0.020619</td>\n",
       "      <td>0.000000</td>\n",
       "      <td>0.028112</td>\n",
       "    </tr>\n",
       "    <tr>\n",
       "      <th>SCFD1</th>\n",
       "      <td>0.105058</td>\n",
       "      <td>0.091255</td>\n",
       "      <td>0.045455</td>\n",
       "      <td>0.028708</td>\n",
       "      <td>1.000000</td>\n",
       "      <td>0.018779</td>\n",
       "      <td>0.000000</td>\n",
       "      <td>0.014634</td>\n",
       "      <td>0.068670</td>\n",
       "      <td>0.100000</td>\n",
       "      <td>...</td>\n",
       "      <td>0.039648</td>\n",
       "      <td>0.004464</td>\n",
       "      <td>0.034146</td>\n",
       "      <td>0.000000</td>\n",
       "      <td>0.035573</td>\n",
       "      <td>0.087649</td>\n",
       "      <td>0.241497</td>\n",
       "      <td>0.249180</td>\n",
       "      <td>0.000000</td>\n",
       "      <td>0.346626</td>\n",
       "    </tr>\n",
       "  </tbody>\n",
       "</table>\n",
       "<p>5 rows × 18539 columns</p>\n",
       "</div>"
      ],
      "text/plain": [
       "           OCEL1    CACNB3      SVIL    GPR173     SCFD1    ZNF320      GJA4  \\\n",
       "                                                                               \n",
       "OCEL1   1.000000  0.153333  0.130081  0.020202  0.105058  0.030000  0.010989   \n",
       "CACNB3  0.153333  1.000000  0.100775  0.019608  0.091255  0.019231  0.010638   \n",
       "SVIL    0.130081  0.100775  1.000000  0.044776  0.045455  0.014085  0.033898   \n",
       "GPR173  0.020202  0.019608  0.044776  1.000000  0.028708  0.030303  0.045455   \n",
       "SCFD1   0.105058  0.091255  0.045455  0.028708  1.000000  0.018779  0.000000   \n",
       "\n",
       "           STMN4      SDC2      TPM4    ...        SCRN1     UROC1      LAG3  \\\n",
       "                                        ...                                    \n",
       "OCEL1   0.021739  0.088710  0.094488    ...     0.079646  0.027778  0.053763   \n",
       "CACNB3  0.021053  0.086614  0.126984    ...     0.059322  0.008850  0.020202   \n",
       "SVIL    0.016129  0.083333  0.102041    ...     0.034091  0.111111  0.046875   \n",
       "GPR173  0.136364  0.015385  0.044776    ...     0.060000  0.024390  0.000000   \n",
       "SCFD1   0.014634  0.068670  0.100000    ...     0.039648  0.004464  0.034146   \n",
       "\n",
       "           DNHD1    TRIM62    ZBTB14     PRMT7   TRMT61B      GAB4    GTF2A1  \n",
       "                                                                              \n",
       "OCEL1   0.000000  0.104478  0.067114  0.120536  0.126582  0.000000  0.097973  \n",
       "CACNB3  0.000000  0.126866  0.109589  0.085470  0.125000  0.011364  0.111864  \n",
       "SVIL    0.018182  0.054054  0.040650  0.047619  0.063063  0.000000  0.065217  \n",
       "GPR173  0.000000  0.053333  0.034483  0.011111  0.020619  0.000000  0.028112  \n",
       "SCFD1   0.000000  0.035573  0.087649  0.241497  0.249180  0.000000  0.346626  \n",
       "\n",
       "[5 rows x 18539 columns]"
      ]
     },
     "execution_count": 37,
     "metadata": {},
     "output_type": "execute_result"
    }
   ],
   "source": [
    "gene_similarity_matix.head()"
   ]
  },
  {
   "cell_type": "markdown",
   "metadata": {},
   "source": [
    "# Save Gene Similarity Matrix"
   ]
  },
  {
   "cell_type": "code",
   "execution_count": 38,
   "metadata": {},
   "outputs": [],
   "source": [
    "filename = path+'chip_atlas_gene_similarity_matix_%s.tsv.zip'% str(datetime.date.today())[0:7].replace('-', '_')\n",
    "gene_similarity_matix.to_csv(filename, sep='\\t', compression='gzip')"
   ]
  },
  {
   "cell_type": "markdown",
   "metadata": {},
   "source": [
    "# Create Attribute Similarity matrix"
   ]
  },
  {
   "cell_type": "code",
   "execution_count": 39,
   "metadata": {},
   "outputs": [],
   "source": [
    "attribute_similarity_matix = uf.createSimilarityMatrix(binary_matrix.T, 'jaccard')"
   ]
  },
  {
   "cell_type": "code",
   "execution_count": 40,
   "metadata": {},
   "outputs": [
    {
     "data": {
      "text/html": [
       "<div>\n",
       "<style scoped>\n",
       "    .dataframe tbody tr th:only-of-type {\n",
       "        vertical-align: middle;\n",
       "    }\n",
       "\n",
       "    .dataframe tbody tr th {\n",
       "        vertical-align: top;\n",
       "    }\n",
       "\n",
       "    .dataframe thead th {\n",
       "        text-align: right;\n",
       "    }\n",
       "</style>\n",
       "<table border=\"1\" class=\"dataframe\">\n",
       "  <thead>\n",
       "    <tr style=\"text-align: right;\">\n",
       "      <th></th>\n",
       "      <th>CDK6</th>\n",
       "      <th>CTCFL</th>\n",
       "      <th>RXRA</th>\n",
       "      <th>SVIL</th>\n",
       "      <th>WRNIP1</th>\n",
       "      <th>LHX5</th>\n",
       "      <th>LCOR</th>\n",
       "      <th>SHOX2</th>\n",
       "      <th>ZNF266</th>\n",
       "      <th>PCGF2</th>\n",
       "      <th>...</th>\n",
       "      <th>NR2C2</th>\n",
       "      <th>ZBTB2</th>\n",
       "      <th>TSHZ1</th>\n",
       "      <th>TBL1Y</th>\n",
       "      <th>NKX3-1</th>\n",
       "      <th>IRF5</th>\n",
       "      <th>ATF4</th>\n",
       "      <th>HOXA5</th>\n",
       "      <th>TFCP2L1</th>\n",
       "      <th>ARID5B</th>\n",
       "    </tr>\n",
       "    <tr>\n",
       "      <th></th>\n",
       "      <th></th>\n",
       "      <th></th>\n",
       "      <th></th>\n",
       "      <th></th>\n",
       "      <th></th>\n",
       "      <th></th>\n",
       "      <th></th>\n",
       "      <th></th>\n",
       "      <th></th>\n",
       "      <th></th>\n",
       "      <th></th>\n",
       "      <th></th>\n",
       "      <th></th>\n",
       "      <th></th>\n",
       "      <th></th>\n",
       "      <th></th>\n",
       "      <th></th>\n",
       "      <th></th>\n",
       "      <th></th>\n",
       "      <th></th>\n",
       "      <th></th>\n",
       "    </tr>\n",
       "  </thead>\n",
       "  <tbody>\n",
       "    <tr>\n",
       "      <th>CDK6</th>\n",
       "      <td>1.000000</td>\n",
       "      <td>0.120583</td>\n",
       "      <td>0.168552</td>\n",
       "      <td>0.005040</td>\n",
       "      <td>0.127215</td>\n",
       "      <td>0.002520</td>\n",
       "      <td>0.0</td>\n",
       "      <td>0.000000</td>\n",
       "      <td>0.002515</td>\n",
       "      <td>0.059726</td>\n",
       "      <td>...</td>\n",
       "      <td>0.162011</td>\n",
       "      <td>0.108714</td>\n",
       "      <td>0.000000</td>\n",
       "      <td>0.191425</td>\n",
       "      <td>0.139286</td>\n",
       "      <td>0.004916</td>\n",
       "      <td>0.098794</td>\n",
       "      <td>0.010427</td>\n",
       "      <td>0.002479</td>\n",
       "      <td>0.007996</td>\n",
       "    </tr>\n",
       "    <tr>\n",
       "      <th>CTCFL</th>\n",
       "      <td>0.120583</td>\n",
       "      <td>1.000000</td>\n",
       "      <td>0.160008</td>\n",
       "      <td>0.000367</td>\n",
       "      <td>0.051537</td>\n",
       "      <td>0.000000</td>\n",
       "      <td>0.0</td>\n",
       "      <td>0.000369</td>\n",
       "      <td>0.001103</td>\n",
       "      <td>0.074105</td>\n",
       "      <td>...</td>\n",
       "      <td>0.084067</td>\n",
       "      <td>0.126290</td>\n",
       "      <td>0.000368</td>\n",
       "      <td>0.118421</td>\n",
       "      <td>0.118038</td>\n",
       "      <td>0.001806</td>\n",
       "      <td>0.107801</td>\n",
       "      <td>0.008023</td>\n",
       "      <td>0.004748</td>\n",
       "      <td>0.002556</td>\n",
       "    </tr>\n",
       "    <tr>\n",
       "      <th>RXRA</th>\n",
       "      <td>0.168552</td>\n",
       "      <td>0.160008</td>\n",
       "      <td>1.000000</td>\n",
       "      <td>0.003455</td>\n",
       "      <td>0.133017</td>\n",
       "      <td>0.001570</td>\n",
       "      <td>0.0</td>\n",
       "      <td>0.000314</td>\n",
       "      <td>0.002511</td>\n",
       "      <td>0.070354</td>\n",
       "      <td>...</td>\n",
       "      <td>0.195869</td>\n",
       "      <td>0.151708</td>\n",
       "      <td>0.000314</td>\n",
       "      <td>0.169773</td>\n",
       "      <td>0.213821</td>\n",
       "      <td>0.002781</td>\n",
       "      <td>0.162458</td>\n",
       "      <td>0.007472</td>\n",
       "      <td>0.005303</td>\n",
       "      <td>0.005625</td>\n",
       "    </tr>\n",
       "    <tr>\n",
       "      <th>SVIL</th>\n",
       "      <td>0.005040</td>\n",
       "      <td>0.000367</td>\n",
       "      <td>0.003455</td>\n",
       "      <td>1.000000</td>\n",
       "      <td>0.010193</td>\n",
       "      <td>0.266667</td>\n",
       "      <td>0.0</td>\n",
       "      <td>0.000000</td>\n",
       "      <td>0.150000</td>\n",
       "      <td>0.002388</td>\n",
       "      <td>...</td>\n",
       "      <td>0.004562</td>\n",
       "      <td>0.000000</td>\n",
       "      <td>0.000000</td>\n",
       "      <td>0.002028</td>\n",
       "      <td>0.002385</td>\n",
       "      <td>0.000000</td>\n",
       "      <td>0.002535</td>\n",
       "      <td>0.065574</td>\n",
       "      <td>0.019608</td>\n",
       "      <td>0.175000</td>\n",
       "    </tr>\n",
       "    <tr>\n",
       "      <th>WRNIP1</th>\n",
       "      <td>0.127215</td>\n",
       "      <td>0.051537</td>\n",
       "      <td>0.133017</td>\n",
       "      <td>0.010193</td>\n",
       "      <td>1.000000</td>\n",
       "      <td>0.005669</td>\n",
       "      <td>0.0</td>\n",
       "      <td>0.001136</td>\n",
       "      <td>0.005643</td>\n",
       "      <td>0.060094</td>\n",
       "      <td>...</td>\n",
       "      <td>0.138179</td>\n",
       "      <td>0.057220</td>\n",
       "      <td>0.000000</td>\n",
       "      <td>0.123223</td>\n",
       "      <td>0.130377</td>\n",
       "      <td>0.005336</td>\n",
       "      <td>0.076377</td>\n",
       "      <td>0.009740</td>\n",
       "      <td>0.002179</td>\n",
       "      <td>0.013289</td>\n",
       "    </tr>\n",
       "  </tbody>\n",
       "</table>\n",
       "<p>5 rows × 963 columns</p>\n",
       "</div>"
      ],
      "text/plain": [
       "            CDK6     CTCFL      RXRA      SVIL    WRNIP1      LHX5  LCOR  \\\n",
       "                                                                           \n",
       "CDK6    1.000000  0.120583  0.168552  0.005040  0.127215  0.002520   0.0   \n",
       "CTCFL   0.120583  1.000000  0.160008  0.000367  0.051537  0.000000   0.0   \n",
       "RXRA    0.168552  0.160008  1.000000  0.003455  0.133017  0.001570   0.0   \n",
       "SVIL    0.005040  0.000367  0.003455  1.000000  0.010193  0.266667   0.0   \n",
       "WRNIP1  0.127215  0.051537  0.133017  0.010193  1.000000  0.005669   0.0   \n",
       "\n",
       "           SHOX2    ZNF266     PCGF2    ...        NR2C2     ZBTB2     TSHZ1  \\\n",
       "                                        ...                                    \n",
       "CDK6    0.000000  0.002515  0.059726    ...     0.162011  0.108714  0.000000   \n",
       "CTCFL   0.000369  0.001103  0.074105    ...     0.084067  0.126290  0.000368   \n",
       "RXRA    0.000314  0.002511  0.070354    ...     0.195869  0.151708  0.000314   \n",
       "SVIL    0.000000  0.150000  0.002388    ...     0.004562  0.000000  0.000000   \n",
       "WRNIP1  0.001136  0.005643  0.060094    ...     0.138179  0.057220  0.000000   \n",
       "\n",
       "           TBL1Y    NKX3-1      IRF5      ATF4     HOXA5   TFCP2L1    ARID5B  \n",
       "                                                                              \n",
       "CDK6    0.191425  0.139286  0.004916  0.098794  0.010427  0.002479  0.007996  \n",
       "CTCFL   0.118421  0.118038  0.001806  0.107801  0.008023  0.004748  0.002556  \n",
       "RXRA    0.169773  0.213821  0.002781  0.162458  0.007472  0.005303  0.005625  \n",
       "SVIL    0.002028  0.002385  0.000000  0.002535  0.065574  0.019608  0.175000  \n",
       "WRNIP1  0.123223  0.130377  0.005336  0.076377  0.009740  0.002179  0.013289  \n",
       "\n",
       "[5 rows x 963 columns]"
      ]
     },
     "execution_count": 40,
     "metadata": {},
     "output_type": "execute_result"
    }
   ],
   "source": [
    "attribute_similarity_matix.head()"
   ]
  },
  {
   "cell_type": "markdown",
   "metadata": {},
   "source": [
    "# Save Attribute Similarity Matrix"
   ]
  },
  {
   "cell_type": "code",
   "execution_count": 41,
   "metadata": {},
   "outputs": [],
   "source": [
    "filename = path+'chip_atlas_attribute_similarity_matix_%s.tsv.zip'% str(datetime.date.today())[0:7].replace('-', '_')\n",
    "attribute_similarity_matix.to_csv(filename, sep='\\t', compression='gzip')"
   ]
  },
  {
   "cell_type": "markdown",
   "metadata": {},
   "source": [
    "# Create Gene List"
   ]
  },
  {
   "cell_type": "code",
   "execution_count": 42,
   "metadata": {},
   "outputs": [
    {
     "name": "stdout",
     "output_type": "stream",
     "text": [
      "Progeres: 100%  18539 Out of 18539   \r"
     ]
    }
   ],
   "source": [
    "gene_list = uf.createGeneList(binary_matrix)"
   ]
  },
  {
   "cell_type": "code",
   "execution_count": 43,
   "metadata": {},
   "outputs": [
    {
     "data": {
      "text/html": [
       "<div>\n",
       "<style scoped>\n",
       "    .dataframe tbody tr th:only-of-type {\n",
       "        vertical-align: middle;\n",
       "    }\n",
       "\n",
       "    .dataframe tbody tr th {\n",
       "        vertical-align: top;\n",
       "    }\n",
       "\n",
       "    .dataframe thead th {\n",
       "        text-align: right;\n",
       "    }\n",
       "</style>\n",
       "<table border=\"1\" class=\"dataframe\">\n",
       "  <thead>\n",
       "    <tr style=\"text-align: right;\">\n",
       "      <th></th>\n",
       "      <th>GeneSym</th>\n",
       "      <th>GeneID</th>\n",
       "    </tr>\n",
       "  </thead>\n",
       "  <tbody>\n",
       "    <tr>\n",
       "      <th>0</th>\n",
       "      <td>OCEL1</td>\n",
       "      <td>79629</td>\n",
       "    </tr>\n",
       "    <tr>\n",
       "      <th>1</th>\n",
       "      <td>CACNB3</td>\n",
       "      <td>784</td>\n",
       "    </tr>\n",
       "    <tr>\n",
       "      <th>2</th>\n",
       "      <td>SVIL</td>\n",
       "      <td>6840</td>\n",
       "    </tr>\n",
       "    <tr>\n",
       "      <th>3</th>\n",
       "      <td>GPR173</td>\n",
       "      <td>54328</td>\n",
       "    </tr>\n",
       "    <tr>\n",
       "      <th>4</th>\n",
       "      <td>SCFD1</td>\n",
       "      <td>23256</td>\n",
       "    </tr>\n",
       "  </tbody>\n",
       "</table>\n",
       "</div>"
      ],
      "text/plain": [
       "  GeneSym GeneID\n",
       "0   OCEL1  79629\n",
       "1  CACNB3    784\n",
       "2    SVIL   6840\n",
       "3  GPR173  54328\n",
       "4   SCFD1  23256"
      ]
     },
     "execution_count": 43,
     "metadata": {},
     "output_type": "execute_result"
    }
   ],
   "source": [
    "gene_list.head()"
   ]
  },
  {
   "cell_type": "code",
   "execution_count": 44,
   "metadata": {},
   "outputs": [
    {
     "data": {
      "text/plain": [
       "(18539, 2)"
      ]
     },
     "execution_count": 44,
     "metadata": {},
     "output_type": "execute_result"
    }
   ],
   "source": [
    "gene_list.shape"
   ]
  },
  {
   "cell_type": "markdown",
   "metadata": {},
   "source": [
    "# Save Gene List"
   ]
  },
  {
   "cell_type": "code",
   "execution_count": 45,
   "metadata": {},
   "outputs": [],
   "source": [
    "filename = path+'chip_atlas_gene_list_%s.tsv.zip'% str(datetime.date.today())[0:7].replace('-', '_')\n",
    "gene_list.to_csv(filename, sep='\\t', index=False, compression='gzip')"
   ]
  },
  {
   "cell_type": "markdown",
   "metadata": {},
   "source": [
    "# Create Attribute List"
   ]
  },
  {
   "cell_type": "code",
   "execution_count": 46,
   "metadata": {},
   "outputs": [],
   "source": [
    "attribute_list = uf.createAttributeList(binary_matrix)"
   ]
  },
  {
   "cell_type": "code",
   "execution_count": 47,
   "metadata": {},
   "outputs": [
    {
     "data": {
      "text/html": [
       "<div>\n",
       "<style scoped>\n",
       "    .dataframe tbody tr th:only-of-type {\n",
       "        vertical-align: middle;\n",
       "    }\n",
       "\n",
       "    .dataframe tbody tr th {\n",
       "        vertical-align: top;\n",
       "    }\n",
       "\n",
       "    .dataframe thead th {\n",
       "        text-align: right;\n",
       "    }\n",
       "</style>\n",
       "<table border=\"1\" class=\"dataframe\">\n",
       "  <thead>\n",
       "    <tr style=\"text-align: right;\">\n",
       "      <th></th>\n",
       "    </tr>\n",
       "    <tr>\n",
       "      <th>Attributes</th>\n",
       "    </tr>\n",
       "  </thead>\n",
       "  <tbody>\n",
       "    <tr>\n",
       "      <th>CDK6</th>\n",
       "    </tr>\n",
       "    <tr>\n",
       "      <th>CTCFL</th>\n",
       "    </tr>\n",
       "    <tr>\n",
       "      <th>RXRA</th>\n",
       "    </tr>\n",
       "    <tr>\n",
       "      <th>SVIL</th>\n",
       "    </tr>\n",
       "    <tr>\n",
       "      <th>WRNIP1</th>\n",
       "    </tr>\n",
       "  </tbody>\n",
       "</table>\n",
       "</div>"
      ],
      "text/plain": [
       "Empty DataFrame\n",
       "Columns: []\n",
       "Index: [CDK6, CTCFL, RXRA, SVIL, WRNIP1]"
      ]
     },
     "execution_count": 47,
     "metadata": {},
     "output_type": "execute_result"
    }
   ],
   "source": [
    "attribute_list.head()"
   ]
  },
  {
   "cell_type": "code",
   "execution_count": 48,
   "metadata": {},
   "outputs": [
    {
     "data": {
      "text/plain": [
       "(963, 0)"
      ]
     },
     "execution_count": 48,
     "metadata": {},
     "output_type": "execute_result"
    }
   ],
   "source": [
    "attribute_list.shape"
   ]
  },
  {
   "cell_type": "markdown",
   "metadata": {},
   "source": [
    "# Save Attribute List"
   ]
  },
  {
   "cell_type": "code",
   "execution_count": 49,
   "metadata": {},
   "outputs": [],
   "source": [
    "filename = path+'chip_atlas_attribute_list_%s.tsv.zip'% str(datetime.date.today())[0:7].replace('-', '_')\n",
    "attribute_list.to_csv(filename, sep='\\t', index=False, compression='gzip')"
   ]
  },
  {
   "cell_type": "markdown",
   "metadata": {},
   "source": [
    "# Create Gene-Attribute Edge List"
   ]
  },
  {
   "cell_type": "code",
   "execution_count": 50,
   "metadata": {},
   "outputs": [],
   "source": [
    "name = 'chip_atlas_gene_attribute_edge_list'"
   ]
  },
  {
   "cell_type": "code",
   "execution_count": 51,
   "metadata": {},
   "outputs": [
    {
     "name": "stdout",
     "output_type": "stream",
     "text": [
      "Progeres: 100%  963 Out of 963   \n",
      "\n",
      " The number of statisticaly relevent gene-attribute associations is: 1361218\n"
     ]
    }
   ],
   "source": [
    "uf.createGeneAttributeEdgeList(binary_matrix, attribute_list, gene_list, path, name)"
   ]
  }
 ],
 "metadata": {
  "kernelspec": {
   "display_name": "Python 3",
   "language": "python",
   "name": "python3"
  },
  "language_info": {
   "codemirror_mode": {
    "name": "ipython",
    "version": 3
   },
   "file_extension": ".py",
   "mimetype": "text/x-python",
   "name": "python",
   "nbconvert_exporter": "python",
   "pygments_lexer": "ipython3",
   "version": "3.6.4"
  }
 },
 "nbformat": 4,
 "nbformat_minor": 2
}
