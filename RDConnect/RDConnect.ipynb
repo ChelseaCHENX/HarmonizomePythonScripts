{
 "cells": [
  {
   "cell_type": "markdown",
   "metadata": {},
   "source": [
    "# RD Connect"
   ]
  },
  {
   "cell_type": "markdown",
   "metadata": {},
   "source": [
    "Author: John Erol Evangelista <br/>\n",
    "Date: 01-19 <br/>\n",
    "Data Source: https://rd-connect.eu/"
   ]
  },
  {
   "cell_type": "code",
   "execution_count": 1,
   "metadata": {},
   "outputs": [],
   "source": [
    "import sys, datetime, os\n",
    "import numpy as np\n",
    "import pandas as pd\n",
    "import importlib\n",
    "import requests\n",
    "from bs4 import BeautifulSoup\n",
    "import time\n",
    "import json, csv\n",
    "%matplotlib inline\n",
    "if \"/Users/maayan/sigsets/Harmonizome/HarmonizomePythonScripts\" not in sys.path:\n",
    "    sys.path.append(\"/Users/maayan/sigsets/Harmonizome/HarmonizomePythonScripts\")\n",
    "import utility_functions as uf\n",
    "from entrez_helper import entrez"
   ]
  },
  {
   "cell_type": "code",
   "execution_count": 2,
   "metadata": {},
   "outputs": [],
   "source": [
    "ez = entrez(\"JohnErol.Evangelista@mssm.edu\", \"83a36edabe6b67dec8d71446a47b7c3b3e09\")"
   ]
  },
  {
   "cell_type": "code",
   "execution_count": 3,
   "metadata": {},
   "outputs": [],
   "source": [
    "# RD_connect_Sample_2019-01-03_23_13_37.csv"
   ]
  },
  {
   "cell_type": "markdown",
   "metadata": {},
   "source": [
    "## Extract diseases from csv file"
   ]
  },
  {
   "cell_type": "code",
   "execution_count": 4,
   "metadata": {},
   "outputs": [],
   "source": [
    "csv_filename = \"/Users/maayan/sigsets/Harmonizome/Data/RD_connect_Sample_2019-01-03_23_13_37.csv\""
   ]
  },
  {
   "cell_type": "code",
   "execution_count": 7,
   "metadata": {},
   "outputs": [],
   "source": [
    "with open(csv_filename) as o:\n",
    "    rare_disease = set([])\n",
    "    csvfile = csv.reader(o)\n",
    "    for row in csvfile:\n",
    "        if row[0] not in [\"Undiagnosed\", \"Healthy subject\", \"Invalid Data\", \"Healthy Control\"]:\n",
    "            \n",
    "            if \"OBSOLETE\" not in row[0]:\n",
    "                rare_disease.add(row[0])"
   ]
  },
  {
   "cell_type": "code",
   "execution_count": 8,
   "metadata": {},
   "outputs": [
    {
     "data": {
      "text/plain": [
       "210"
      ]
     },
     "execution_count": 8,
     "metadata": {},
     "output_type": "execute_result"
    }
   ],
   "source": [
    "len(rare_disease)"
   ]
  },
  {
   "cell_type": "code",
   "execution_count": 13,
   "metadata": {},
   "outputs": [],
   "source": [
    "rare_disease = rare_disease - set([\"Disease\"])"
   ]
  },
  {
   "cell_type": "markdown",
   "metadata": {},
   "source": [
    "## Get PMIDs"
   ]
  },
  {
   "cell_type": "code",
   "execution_count": 14,
   "metadata": {},
   "outputs": [],
   "source": [
    "# Get disease dict from another library\n",
    "GARD_pmid_file = \"/Users/maayan/sigsets/Harmonizome/Output/GARD/GARD_PMID.json\"\n",
    "with open(GARD_pmid_file) as o:\n",
    "    GARD_pmids = json.loads(o.read())"
   ]
  },
  {
   "cell_type": "code",
   "execution_count": 16,
   "metadata": {},
   "outputs": [
    {
     "data": {
      "text/plain": [
       "6328"
      ]
     },
     "execution_count": 16,
     "metadata": {},
     "output_type": "execute_result"
    }
   ],
   "source": [
    "len(GARD_pmids)"
   ]
  },
  {
   "cell_type": "code",
   "execution_count": 18,
   "metadata": {},
   "outputs": [
    {
     "name": "stdout",
     "output_type": "stream",
     "text": [
      "Processing term Autosomal recessive limb-girdle muscular dystrophy type 2Ieuropathyal dementia\r"
     ]
    }
   ],
   "source": [
    "rare_disease_pmids = ez.get_all_pmids_of_list(rare_disease, GARD_pmids, timeout1=1, timeout2=5)"
   ]
  },
  {
   "cell_type": "code",
   "execution_count": 26,
   "metadata": {},
   "outputs": [],
   "source": [
    "with open(\"/Users/maayan/sigsets/Harmonizome/Output/RDConnect/RDConnect_PMID.json\", \"w\") as o:\n",
    "    o.write(json.dumps(rare_disease_pmids))"
   ]
  },
  {
   "cell_type": "markdown",
   "metadata": {},
   "source": [
    "## Load Mapping File, GeneRIF, and AutoRIF"
   ]
  },
  {
   "cell_type": "code",
   "execution_count": 19,
   "metadata": {},
   "outputs": [],
   "source": [
    "mappingDFHMR_updated = pd.read_csv('/Users/maayan/sigsets/Harmonizome/Data/mappingFileHMR_2019.tsv', sep='\\t', header=None, index_col=[0,1]).sort_index()\n",
    "getGeneIDsHMR_updated = pd.read_csv('/Users/maayan/sigsets/Harmonizome/Data/GeneSymbolsAndIDSHMR_2019.tsv', sep='\\t', index_col=[0,2]).sort_index()"
   ]
  },
  {
   "cell_type": "code",
   "execution_count": 21,
   "metadata": {},
   "outputs": [],
   "source": [
    "geneRIF = pd.read_csv('/Users/maayan/sigsets/Harmonizome/Data/generifs_basic', sep='\\t', index_col=[0,2]).sort_index()"
   ]
  },
  {
   "cell_type": "code",
   "execution_count": 22,
   "metadata": {},
   "outputs": [],
   "source": [
    "autoRIF = pd.read_csv('/Users/maayan/sigsets/Harmonizome/Data/autorif.tsv', sep='\\t', header=None, index_col=1)"
   ]
  },
  {
   "cell_type": "markdown",
   "metadata": {},
   "source": [
    "## GeneRIF Geneset"
   ]
  },
  {
   "cell_type": "code",
   "execution_count": 23,
   "metadata": {},
   "outputs": [],
   "source": [
    "HUMAN_TAXON_ID = 9606"
   ]
  },
  {
   "cell_type": "code",
   "execution_count": 24,
   "metadata": {},
   "outputs": [
    {
     "name": "stdout",
     "output_type": "stream",
     "text": [
      "Processing disease Autosomal recessive limb-girdle muscular dystrophy type 2Ieuropathyal dementia\r"
     ]
    }
   ],
   "source": [
    "with open(\"/Users/maayan/sigsets/Harmonizome/Output/RDConnect/RDConnect_GeneRIF.gmt\", \"w\") as o:\n",
    "    for disease, pmids in rare_disease_pmids.items():\n",
    "        gmt_line = disease + \"\\t\\t\"\n",
    "        sys.stdout.write(\"Processing disease %s\\r\" % (disease))\n",
    "        genes = set([])\n",
    "        for pmid in pmids:\n",
    "            pmid = int(pmid)\n",
    "            if (HUMAN_TAXON_ID, pmid) in geneRIF.index:\n",
    "                gene_ids = geneRIF.loc[(HUMAN_TAXON_ID,pmid), \"Gene ID\"]\n",
    "                for gene_id in gene_ids:\n",
    "                    if (HUMAN_TAXON_ID, gene_id) in getGeneIDsHMR_updated.index:\n",
    "                        gene = getGeneIDsHMR_updated.loc[(HUMAN_TAXON_ID, gene_id), \"Human, Mouse, and Rat Approved Symbol\"]\n",
    "                        genes.add(gene)\n",
    "                        # gmt_line += (\"\\t\" + gene)\n",
    "        if genes:\n",
    "            gmt_line += (\"\\t\".join(list(genes)) +\"\\n\")        \n",
    "            o.write(gmt_line)"
   ]
  },
  {
   "cell_type": "markdown",
   "metadata": {},
   "source": [
    "## AutoRIF Geneset"
   ]
  },
  {
   "cell_type": "code",
   "execution_count": 25,
   "metadata": {},
   "outputs": [
    {
     "name": "stdout",
     "output_type": "stream",
     "text": [
      "Processing disease Autosomal recessive limb-girdle muscular dystrophy type 2Ieuropathyal dementia\r"
     ]
    }
   ],
   "source": [
    "with open(\"/Users/maayan/sigsets/Harmonizome/Output/RDConnect/RDConnect_AutoRIF.gmt\", \"w\") as o:\n",
    "    for disease, pmids in rare_disease_pmids.items():\n",
    "        gmt_line = disease + \"\\t\\t\"\n",
    "        sys.stdout.write(\"Processing disease %s\\r\" % (disease))\n",
    "        genes = set([])\n",
    "        for pmid in pmids:\n",
    "            pmid = int(pmid)\n",
    "            if pmid in autoRIF.index:\n",
    "                gene = autoRIF.loc[pmid, 0]\n",
    "                if not isinstance(gene, str): # Multiple genes\n",
    "                    for g in gene:\n",
    "                        genes.add(g)\n",
    "                else:\n",
    "                    genes.add(gene)\n",
    "               # gmt_line += (\"\\t\" + genes)\n",
    "        if genes:\n",
    "            gmt_line += (\"\\t\".join(list(genes)) +\"\\n\")        \n",
    "            o.write(gmt_line)"
   ]
  },
  {
   "cell_type": "code",
   "execution_count": null,
   "metadata": {},
   "outputs": [],
   "source": [
    " "
   ]
  }
 ],
 "metadata": {
  "kernelspec": {
   "display_name": "pvenv",
   "language": "python",
   "name": "pvenv"
  },
  "language_info": {
   "codemirror_mode": {
    "name": "ipython",
    "version": 3
   },
   "file_extension": ".py",
   "mimetype": "text/x-python",
   "name": "python",
   "nbconvert_exporter": "python",
   "pygments_lexer": "ipython3",
   "version": "3.6.5"
  }
 },
 "nbformat": 4,
 "nbformat_minor": 2
}
