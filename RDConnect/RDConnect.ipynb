{
 "cells": [
  {
   "cell_type": "markdown",
   "metadata": {},
   "source": [
    "# RD Connect"
   ]
  },
  {
   "cell_type": "markdown",
   "metadata": {},
   "source": [
    "Author: John Erol Evangelista <br/>\n",
    "Date: 01-19 <br/>\n",
    "Data Source: https://rd-connect.eu/"
   ]
  },
  {
   "cell_type": "code",
   "execution_count": 1,
   "metadata": {},
   "outputs": [],
   "source": [
    "import sys, datetime, os\n",
    "import numpy as np\n",
    "import pandas as pd\n",
    "import importlib\n",
    "import requests\n",
    "from bs4 import BeautifulSoup\n",
    "import time\n",
    "import json, csv\n",
    "%matplotlib inline\n",
    "if \"/Users/maayan/sigsets/Harmonizome/HarmonizomePythonScripts\" not in sys.path:\n",
    "    sys.path.append(\"/Users/maayan/sigsets/Harmonizome/HarmonizomePythonScripts\")\n",
    "import utility_functions as uf\n",
    "from entrez_helper import entrez"
   ]
  },
  {
   "cell_type": "code",
   "execution_count": 2,
   "metadata": {},
   "outputs": [],
   "source": [
    "ez = entrez(\"JohnErol.Evangelista@mssm.edu\", \"83a36edabe6b67dec8d71446a47b7c3b3e09\")"
   ]
  },
  {
   "cell_type": "code",
   "execution_count": 3,
   "metadata": {},
   "outputs": [],
   "source": [
    "# RD_connect_Sample_2019-01-03_23_13_37.csv"
   ]
  },
  {
   "cell_type": "markdown",
   "metadata": {},
   "source": [
    "## Extract diseases from csv file"
   ]
  },
  {
   "cell_type": "code",
   "execution_count": 4,
   "metadata": {},
   "outputs": [],
   "source": [
    "csv_filename = \"/Users/maayan/sigsets/Harmonizome/Data/RD_connect_Sample_2019-01-03_23_13_37.csv\""
   ]
  },
  {
   "cell_type": "code",
   "execution_count": 7,
   "metadata": {},
   "outputs": [],
   "source": [
    "with open(csv_filename) as o:\n",
    "    rare_disease = set([])\n",
    "    csvfile = csv.reader(o)\n",
    "    for row in csvfile:\n",
    "        if row[0] not in [\"Undiagnosed\", \"Healthy subject\", \"Invalid Data\", \"Healthy Control\"]:\n",
    "            \n",
    "            if \"OBSOLETE\" not in row[0]:\n",
    "                rare_disease.add(row[0])"
   ]
  },
  {
   "cell_type": "code",
   "execution_count": 8,
   "metadata": {},
   "outputs": [
    {
     "data": {
      "text/plain": [
       "210"
      ]
     },
     "execution_count": 8,
     "metadata": {},
     "output_type": "execute_result"
    }
   ],
   "source": [
    "len(rare_disease)"
   ]
  },
  {
   "cell_type": "code",
   "execution_count": 13,
   "metadata": {},
   "outputs": [],
   "source": [
    "rare_disease = rare_disease - set([\"Disease\"])"
   ]
  },
  {
   "cell_type": "markdown",
   "metadata": {},
   "source": [
    "## Get PMIDs"
   ]
  },
  {
   "cell_type": "code",
   "execution_count": 14,
   "metadata": {},
   "outputs": [],
   "source": [
    "# Get disease dict from another library\n",
    "GARD_pmid_file = \"/Users/maayan/sigsets/Harmonizome/Output/GARD/GARD_PMID.json\"\n",
    "with open(GARD_pmid_file) as o:\n",
    "    GARD_pmids = json.loads(o.read())"
   ]
  },
  {
   "cell_type": "code",
   "execution_count": 16,
   "metadata": {},
   "outputs": [
    {
     "data": {
      "text/plain": [
       "6328"
      ]
     },
     "execution_count": 16,
     "metadata": {},
     "output_type": "execute_result"
    }
   ],
   "source": [
    "len(GARD_pmids)"
   ]
  },
  {
   "cell_type": "code",
   "execution_count": 18,
   "metadata": {},
   "outputs": [
    {
     "name": "stdout",
     "output_type": "stream",
     "text": [
      "Processing term Autosomal recessive limb-girdle muscular dystrophy type 2Ieuropathyal dementia\r"
     ]
    }
   ],
   "source": [
    "rare_disease_pmids = ez.get_all_pmids_of_list(rare_disease, GARD_pmids, timeout1=1, timeout2=5)"
   ]
  },
  {
   "cell_type": "code",
   "execution_count": 26,
   "metadata": {},
   "outputs": [],
   "source": [
    "with open(\"/Users/maayan/sigsets/Harmonizome/Output/RDConnect/RDConnect_PMID.json\", \"w\") as o:\n",
    "    o.write(json.dumps(rare_disease_pmids))"
   ]
  },
  {
   "cell_type": "markdown",
   "metadata": {},
   "source": [
    "## Load Mapping File, GeneRIF, and AutoRIF"
   ]
  },
  {
   "cell_type": "code",
   "execution_count": 19,
   "metadata": {},
   "outputs": [],
   "source": [
    "mappingDFHMR_updated = pd.read_csv('/Users/maayan/sigsets/Harmonizome/Data/mappingFileHMR_2019.tsv', sep='\\t', header=None, index_col=[0,1]).sort_index()\n",
    "getGeneIDsHMR_updated = pd.read_csv('/Users/maayan/sigsets/Harmonizome/Data/GeneSymbolsAndIDSHMR_2019.tsv', sep='\\t', index_col=[0,2]).sort_index()"
   ]
  },
  {
   "cell_type": "code",
   "execution_count": 21,
   "metadata": {},
   "outputs": [],
   "source": [
    "geneRIF = pd.read_csv('/Users/maayan/sigsets/Harmonizome/Data/generifs_basic', sep='\\t', index_col=[0,2]).sort_index()"
   ]
  },
  {
   "cell_type": "code",
   "execution_count": 22,
   "metadata": {},
   "outputs": [],
   "source": [
    "autoRIF = pd.read_csv('/Users/maayan/sigsets/Harmonizome/Data/autorif.tsv', sep='\\t', header=None, index_col=1)"
   ]
  },
  {
   "cell_type": "markdown",
   "metadata": {},
   "source": [
    "## GeneRIF Geneset"
   ]
  },
  {
   "cell_type": "code",
   "execution_count": 23,
   "metadata": {},
   "outputs": [],
   "source": [
    "HUMAN_TAXON_ID = 9606"
   ]
  },
  {
   "cell_type": "code",
   "execution_count": 24,
   "metadata": {},
   "outputs": [
    {
     "name": "stdout",
     "output_type": "stream",
     "text": [
      "Processing disease Autosomal recessive limb-girdle muscular dystrophy type 2Ieuropathyal dementia\r"
     ]
    }
   ],
   "source": [
    "with open(\"/Users/maayan/sigsets/Harmonizome/Output/RDConnect/RDConnect_GeneRIF.gmt\", \"w\") as o:\n",
    "    for disease, pmids in rare_disease_pmids.items():\n",
    "        gmt_line = disease + \"\\t\\t\"\n",
    "        sys.stdout.write(\"Processing disease %s\\r\" % (disease))\n",
    "        genes = set([])\n",
    "        for pmid in pmids:\n",
    "            pmid = int(pmid)\n",
    "            if (HUMAN_TAXON_ID, pmid) in geneRIF.index:\n",
    "                gene_ids = geneRIF.loc[(HUMAN_TAXON_ID,pmid), \"Gene ID\"]\n",
    "                for gene_id in gene_ids:\n",
    "                    if (HUMAN_TAXON_ID, gene_id) in getGeneIDsHMR_updated.index:\n",
    "                        gene = getGeneIDsHMR_updated.loc[(HUMAN_TAXON_ID, gene_id), \"Human, Mouse, and Rat Approved Symbol\"]\n",
    "                        genes.add(gene)\n",
    "                        # gmt_line += (\"\\t\" + gene)\n",
    "        if genes:\n",
    "            gmt_line += (\"\\t\".join(list(genes)) +\"\\n\")        \n",
    "            o.write(gmt_line)"
   ]
  },
  {
   "cell_type": "markdown",
   "metadata": {},
   "source": [
    "## AutoRIF Geneset"
   ]
  },
  {
   "cell_type": "code",
   "execution_count": 25,
   "metadata": {},
   "outputs": [
    {
     "name": "stdout",
     "output_type": "stream",
     "text": [
      "Processing disease Autosomal recessive limb-girdle muscular dystrophy type 2Ieuropathyal dementia\r"
     ]
    }
   ],
   "source": [
    "with open(\"/Users/maayan/sigsets/Harmonizome/Output/RDConnect/RDConnect_AutoRIF.gmt\", \"w\") as o:\n",
    "    for disease, pmids in rare_disease_pmids.items():\n",
    "        gmt_line = disease + \"\\t\\t\"\n",
    "        sys.stdout.write(\"Processing disease %s\\r\" % (disease))\n",
    "        genes = set([])\n",
    "        for pmid in pmids:\n",
    "            pmid = int(pmid)\n",
    "            if pmid in autoRIF.index:\n",
    "                gene = autoRIF.loc[pmid, 0]\n",
    "                if not isinstance(gene, str): # Multiple genes\n",
    "                    for g in gene:\n",
    "                        genes.add(g)\n",
    "                else:\n",
    "                    genes.add(gene)\n",
    "               # gmt_line += (\"\\t\" + genes)\n",
    "        if genes:\n",
    "            gmt_line += (\"\\t\".join(list(genes)) +\"\\n\")        \n",
    "            o.write(gmt_line)"
   ]
  },
  {
   "cell_type": "markdown",
   "metadata": {},
   "source": [
    "## GeneShot API"
   ]
  },
  {
   "cell_type": "code",
   "execution_count": 32,
   "metadata": {},
   "outputs": [
    {
     "data": {
      "text/plain": [
       "{'22q11.2 deletion syndrome',\n",
       " 'Acromegaly',\n",
       " 'Acute intermittent porphyria',\n",
       " 'Adams-Oliver syndrome',\n",
       " 'Addison disease',\n",
       " 'Adult-onset autosomal recessive cerebellar ataxia',\n",
       " 'Alexander disease',\n",
       " 'Alpha-1-antitrypsin deficiency',\n",
       " 'Amyotrophic lateral sclerosis',\n",
       " 'Aniridia',\n",
       " 'Apert syndrome',\n",
       " 'Atypical hemolytic-uremic syndrome',\n",
       " 'Autosomal dominant Charcot-Marie-Tooth disease type 2D',\n",
       " 'Autosomal dominant Charcot-Marie-Tooth disease type 2N',\n",
       " 'Autosomal dominant Charcot-Marie-Tooth disease type 2O',\n",
       " 'Autosomal dominant cerebellar ataxia',\n",
       " 'Autosomal dominant epidermolytic ichthyosis',\n",
       " 'Autosomal dominant limb-girdle muscular dystrophy type 1B',\n",
       " 'Autosomal dominant limb-girdle muscular dystrophy type 1C',\n",
       " 'Autosomal dominant progressive external ophthalmoplegia',\n",
       " 'Autosomal dominant spastic paraplegia type 4',\n",
       " 'Autosomal erythropoietic protoporphyria',\n",
       " 'Autosomal recessive congenital ichthyosis',\n",
       " 'Autosomal recessive limb-girdle muscular dystrophy type 2A',\n",
       " 'Autosomal recessive limb-girdle muscular dystrophy type 2B',\n",
       " 'Autosomal recessive limb-girdle muscular dystrophy type 2C',\n",
       " 'Autosomal recessive limb-girdle muscular dystrophy type 2D',\n",
       " 'Autosomal recessive limb-girdle muscular dystrophy type 2E',\n",
       " 'Autosomal recessive limb-girdle muscular dystrophy type 2F',\n",
       " 'Autosomal recessive limb-girdle muscular dystrophy type 2I',\n",
       " 'Autosomal recessive limb-girdle muscular dystrophy type 2K',\n",
       " 'Autosomal recessive limb-girdle muscular dystrophy type 2L',\n",
       " 'Autosomal recessive spastic ataxia of Charlevoix-Saguenay',\n",
       " 'Axonal hereditary motor and sensory neuropathy',\n",
       " 'Becker muscular dystrophy',\n",
       " 'Beckwith-Wiedemann syndrome',\n",
       " 'Behçet disease',\n",
       " 'Bethlem myopathy',\n",
       " 'Bladder exstrophy',\n",
       " 'Blue cone monochromatism',\n",
       " 'Bullous pemphigoid',\n",
       " 'CACH syndrome',\n",
       " 'CREST syndrome',\n",
       " 'Central core disease',\n",
       " 'Centronuclear myopathy',\n",
       " 'Charcot-Marie-Tooth disease type 1A',\n",
       " 'Charcot-Marie-Tooth disease type 1B',\n",
       " 'Charcot-Marie-Tooth disease/Hereditary motor and sensory neuropathy',\n",
       " 'Chronic intestinal pseudoobstruction',\n",
       " 'Cloacal exstrophy',\n",
       " 'Coenzyme Q10 deficiency',\n",
       " 'Common variable immunodeficiency',\n",
       " 'Communicating congenital bronchopulmonary-foregut malformation',\n",
       " 'Complex regional pain syndrome type 1',\n",
       " 'Congenital adrenal hyperplasia',\n",
       " 'Congenital erythropoietic porphyria',\n",
       " 'Congenital fiber-type disproportion myopathy',\n",
       " 'Congenital muscular dystrophy type 1A',\n",
       " 'Congenital muscular dystrophy type 1C',\n",
       " 'Congenital muscular dystrophy, Ullrich type',\n",
       " 'Congenital myasthenic syndrome',\n",
       " 'Congenital myopathy',\n",
       " 'Congenital myotonia',\n",
       " 'Congenital nemaline myopathy',\n",
       " 'Cushing disease',\n",
       " 'Cystic fibrosis',\n",
       " 'Discoid lupus erythematosus',\n",
       " 'Disease predisposing to age-related macular degeneration',\n",
       " 'Distal myopathy',\n",
       " 'Dravet syndrome',\n",
       " 'Duchenne and Becker muscular dystrophy',\n",
       " 'Duchenne muscular dystrophy',\n",
       " 'Dural sinus malformation',\n",
       " 'Dystrophic epidermolysis bullosa',\n",
       " 'Early infantile epileptic encephalopathy',\n",
       " 'Early-onset generalized limb-onset dystonia',\n",
       " 'Ehlers-Danlos syndrome',\n",
       " 'Ehlers-Danlos syndrome, hypermobility type',\n",
       " 'Emery-Dreifuss muscular dystrophy',\n",
       " 'Epispadias',\n",
       " 'Facioscapulohumeral dystrophy',\n",
       " 'Familial multiple lipomatosis',\n",
       " 'Fragile X syndrome',\n",
       " 'Friedreich ataxia',\n",
       " 'GNE myopathy',\n",
       " 'Gaucher disease',\n",
       " 'Glycogen storage disease due to acid maltase deficiency',\n",
       " 'Glycogen storage disease due to glucose-6-phosphatase deficiency',\n",
       " 'Glycogen storage disease due to muscle glycogen phosphorylase deficiency',\n",
       " 'Goldmann-Favre syndrome',\n",
       " 'Granulomatosis with polyangiitis',\n",
       " 'Hereditary angioedema',\n",
       " 'Hereditary proximal myopathy with early respiratory failure',\n",
       " 'Hereditary spastic paraplegia',\n",
       " 'Huntington disease',\n",
       " 'Hypophosphatasia',\n",
       " 'Hypoxanthine guanine phosphoribosyltransferase partial deficiency',\n",
       " 'Idiopathic pulmonary arterial hypertension',\n",
       " 'Immune thrombocytopenic purpura',\n",
       " 'Inclusion body myopathy with Paget disease of bone and frontotemporal dementia',\n",
       " 'Inclusion body myositis',\n",
       " 'Interstitial cystitis',\n",
       " 'Isolated biliary atresia',\n",
       " 'Isolated complex I deficiency',\n",
       " 'Isolated complex III deficiency',\n",
       " 'Isolated cytochrome C oxidase deficiency',\n",
       " 'Isolated succinate-CoQ reductase deficiency',\n",
       " 'Joubert syndrome',\n",
       " 'Klippel-TrÃ©naunay syndrome',\n",
       " 'Lamellar ichthyosis',\n",
       " 'Langerhans cell histiocytosis',\n",
       " 'Leber congenital amaurosis',\n",
       " 'Leber hereditary optic neuropathy',\n",
       " 'Lesch-Nyhan syndrome',\n",
       " 'Leukodystrophy',\n",
       " 'Lichen planopilaris',\n",
       " 'Limb-girdle muscular dystrophy',\n",
       " 'Localized scleroderma',\n",
       " 'Lymphangioleiomyomatosis',\n",
       " 'MELAS',\n",
       " 'MERRF',\n",
       " 'Marfan syndrome',\n",
       " 'Marinesco-Sjögren syndrome',\n",
       " 'Maternally-inherited progressive external ophthalmoplegia',\n",
       " 'Megaconial congenital muscular dystrophy',\n",
       " 'Menkes disease',\n",
       " 'Metachromatic leukodystrophy',\n",
       " 'Milroy disease',\n",
       " 'Mitochondrial myopathy',\n",
       " 'Mitochondrial neurogastrointestinal encephalomyopathy',\n",
       " 'Mixed connective tissue disease',\n",
       " 'Miyoshi myopathy',\n",
       " 'Monosomy 22q13',\n",
       " 'Monosomy 5p',\n",
       " 'Mucopolysaccharidosis type 3',\n",
       " 'Mucopolysaccharidosis type 4',\n",
       " 'Multiminicore myopathy',\n",
       " 'Multiple acyl-CoA dehydrogenase deficiency',\n",
       " 'Multiple sclerose',\n",
       " 'Multiple symmetric lipomatosis',\n",
       " 'Multiple system atrophy, cerebellar type',\n",
       " 'Muscular dystrophy',\n",
       " 'Myasthenia gravis',\n",
       " 'Myofibrillar myopathy',\n",
       " 'Myotonic dystrophy',\n",
       " 'NARP syndrome',\n",
       " 'Nemaline myopathy',\n",
       " 'Neuroferritinopathy',\n",
       " 'Neurofibromatosis type 1',\n",
       " 'Neutral lipid storage myopathy',\n",
       " 'Oculopharyngeal muscular dystrophy',\n",
       " 'Osteogenesis imperfecta',\n",
       " 'PMM2-CDG',\n",
       " 'POEMS syndrome',\n",
       " 'Paroxysmal nocturnal hemoglobinuria',\n",
       " 'Perineural cyst',\n",
       " 'Poland syndrome',\n",
       " 'Polymyositis',\n",
       " 'Porphyria variegata',\n",
       " 'Postpoliomyelitis syndrome',\n",
       " 'Prader-Willi syndrome',\n",
       " 'Proximal myotonic myopathy',\n",
       " 'Proximal spinal muscular atrophy type 1',\n",
       " 'Proximal spinal muscular atrophy type 2',\n",
       " 'Proximal spinal muscular atrophy type 3',\n",
       " 'Pseudohypoparathyroidism type 1A',\n",
       " 'Pseudoxanthoma elasticum',\n",
       " 'Qualitative or quantitative defects of beta-myosin heavy chain (MYH7)',\n",
       " 'Rare disease with autism',\n",
       " 'Relapsing polychondritis',\n",
       " 'Renal nutcracker syndrome',\n",
       " 'Retinitis pigmentosa',\n",
       " 'Rhizomelic chondrodysplasia punctata',\n",
       " 'Rotor syndrome',\n",
       " 'Rubinstein-Taybi syndrome',\n",
       " 'Sarcoidosis',\n",
       " 'Severe early-onset axonal neuropathy due to MFN2 deficiency',\n",
       " 'Shwachman-Diamond syndrome',\n",
       " 'Sjögren syndrome',\n",
       " 'Smith-Magenis syndrome',\n",
       " 'Sotos syndrome',\n",
       " 'Spinal muscular atrophy with respiratory distress type 1',\n",
       " 'Spinocerebellar ataxia type 3',\n",
       " 'Spinocerebellar ataxia type 6',\n",
       " 'Spinocerebellar ataxia type 7',\n",
       " 'Spondyloepiphyseal dysplasia congenita',\n",
       " 'Sporadic adult-onset ataxia of unknown etiology',\n",
       " 'Stargardt disease',\n",
       " 'Steinert myotonic dystrophy',\n",
       " 'Stickler syndrome',\n",
       " 'Stiff person syndrome and related disorders',\n",
       " 'Superficial siderosis',\n",
       " 'Syringomyelia',\n",
       " 'Systemic sclerosis',\n",
       " 'Thomsen and Becker disease',\n",
       " 'Thrombotic thrombocytopenic purpura',\n",
       " 'Toxic oil syndrome',\n",
       " 'Treacher-Collins syndrome',\n",
       " 'Triple A syndrome',\n",
       " 'Tuberous sclerosis complex',\n",
       " 'Usher syndrome',\n",
       " 'Whipple disease',\n",
       " 'Williams syndrome',\n",
       " 'Wilson disease',\n",
       " 'Wolfram syndrome',\n",
       " 'X-linked Charcot-Marie-Tooth disease',\n",
       " 'X-linked Charcot-Marie-Tooth disease type 1',\n",
       " 'X-linked adrenoleukodystrophy',\n",
       " 'X-linked hypohidrotic ectodermal dysplasia'}"
      ]
     },
     "execution_count": 32,
     "metadata": {},
     "output_type": "execute_result"
    }
   ],
   "source": [
    "rare_disease"
   ]
  },
  {
   "cell_type": "code",
   "execution_count": 33,
   "metadata": {},
   "outputs": [],
   "source": [
    "API_url = \"https://amp.pharm.mssm.edu/geneshot/api/search/%s\""
   ]
  },
  {
   "cell_type": "code",
   "execution_count": 37,
   "metadata": {},
   "outputs": [
    {
     "name": "stdout",
     "output_type": "stream",
     "text": [
      "Processing disease Autosomal recessive limb-girdle muscular dystrophy type 2Ieuropathyal dementia\r"
     ]
    }
   ],
   "source": [
    "with open(\"/Users/maayan/sigsets/Harmonizome/Output/RDConnect/RDConnect_GeneShot.gmt\", \"w\") as o:\n",
    "    for disease in rare_disease:\n",
    "        sys.stdout.write(\"Processing disease %s\\r\" % (disease))\n",
    "        sys.stdout.flush()\n",
    "        url = API_url%disease\n",
    "        res = requests.get(url)\n",
    "        genes = res.json()[\"gene_count\"]\n",
    "        gene_set = set([])\n",
    "        i = 0\n",
    "        for gene in genes:\n",
    "            if i > 2000:\n",
    "                break\n",
    "            i+=1\n",
    "            gene_set.add(gene)\n",
    "        gene_list = \"\\t\".join(list(gene_set))\n",
    "        if len(gene_set) > 2:\n",
    "            o.write(disease + \"\\t\\t\" + gene_list + \"\\n\")\n",
    "        time.sleep(0.3)\n"
   ]
  },
  {
   "cell_type": "code",
   "execution_count": null,
   "metadata": {},
   "outputs": [],
   "source": []
  }
 ],
 "metadata": {
  "kernelspec": {
   "display_name": "pvenv",
   "language": "python",
   "name": "pvenv"
  },
  "language_info": {
   "codemirror_mode": {
    "name": "ipython",
    "version": 3
   },
   "file_extension": ".py",
   "mimetype": "text/x-python",
   "name": "python",
   "nbconvert_exporter": "python",
   "pygments_lexer": "ipython3",
   "version": "3.6.5"
  }
 },
 "nbformat": 4,
 "nbformat_minor": 2
}
