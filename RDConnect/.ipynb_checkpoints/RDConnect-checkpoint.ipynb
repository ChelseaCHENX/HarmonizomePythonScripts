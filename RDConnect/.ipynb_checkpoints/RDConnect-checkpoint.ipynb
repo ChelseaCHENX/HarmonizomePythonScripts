{
 "cells": [
  {
   "cell_type": "markdown",
   "metadata": {},
   "source": [
    "# RD Connect"
   ]
  },
  {
   "cell_type": "markdown",
   "metadata": {},
   "source": [
    "Author: John Erol Evangelista <br/>\n",
    "Date: 01-19 <br/>\n",
    "Data Source: https://rd-connect.eu/"
   ]
  },
  {
   "cell_type": "code",
   "execution_count": 1,
   "metadata": {},
   "outputs": [],
   "source": [
    "import sys, datetime, os\n",
    "import numpy as np\n",
    "import pandas as pd\n",
    "import importlib\n",
    "import requests\n",
    "from bs4 import BeautifulSoup\n",
    "import time\n",
    "import json, csv\n",
    "%matplotlib inline\n",
    "if \"/Users/maayan/sigsets/Harmonizome/HarmonizomePythonScripts\" not in sys.path:\n",
    "    sys.path.append(\"/Users/maayan/sigsets/Harmonizome/HarmonizomePythonScripts\")\n",
    "import utility_functions as uf\n",
    "from entrez_helper import entrez"
   ]
  },
  {
   "cell_type": "code",
   "execution_count": 2,
   "metadata": {},
   "outputs": [],
   "source": [
    "ez = entrez(\"JohnErol.Evangelista@mssm.edu\", \"83a36edabe6b67dec8d71446a47b7c3b3e09\")"
   ]
  },
  {
   "cell_type": "code",
   "execution_count": 3,
   "metadata": {},
   "outputs": [],
   "source": [
    "# RD_connect_Sample_2019-01-03_23_13_37.csv"
   ]
  },
  {
   "cell_type": "markdown",
   "metadata": {},
   "source": [
    "## Extract diseases from csv file"
   ]
  },
  {
   "cell_type": "code",
   "execution_count": 4,
   "metadata": {},
   "outputs": [],
   "source": [
    "csv_filename = \"/Users/maayan/sigsets/Harmonizome/Data/RD_connect_Sample_2019-01-03_23_13_37.csv\""
   ]
  },
  {
   "cell_type": "code",
   "execution_count": 9,
   "metadata": {},
   "outputs": [],
   "source": [
    "with open(csv_filename) as o:\n",
    "    print(json.loads(o.read()))\n",
    "#     rare_disease = set([])\n",
    "#     csvfile = csv.reader(o)\n",
    "#     for row in csvfile:\n",
    "#         print(row[0])\n",
    "#         if row[0] not in [\"Undiagnosed\", \"Healthy subject\", \"Invalid Data\", \"Healthy Control\"]:\n",
    "            \n",
    "#             if \"OBSOLETE\" not in row[0]:\n",
    "#                 rare_disease.add(row[0])"
   ]
  },
  {
   "cell_type": "code",
   "execution_count": 6,
   "metadata": {},
   "outputs": [],
   "source": [
    "len(rare_disease)"
   ]
  },
  {
   "cell_type": "code",
   "execution_count": null,
   "metadata": {},
   "outputs": [],
   "source": []
  }
 ],
 "metadata": {
  "kernelspec": {
   "display_name": "pvenv",
   "language": "python",
   "name": "pvenv"
  },
  "language_info": {
   "codemirror_mode": {
    "name": "ipython",
    "version": 3
   },
   "file_extension": ".py",
   "mimetype": "text/x-python",
   "name": "python",
   "nbconvert_exporter": "python",
   "pygments_lexer": "ipython3",
   "version": "3.6.5"
  }
 },
 "nbformat": 4,
 "nbformat_minor": 2
}
