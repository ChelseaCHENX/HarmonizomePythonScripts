{
 "cells": [
  {
   "cell_type": "markdown",
   "metadata": {},
   "source": [
    "# hu.MAP"
   ]
  },
  {
   "cell_type": "markdown",
   "metadata": {},
   "source": [
    "Author: Moshe Silverstein <br/>\n",
    "Date: 7-17 <br/>\n",
    "Data Downloaded: 5-30-2017 <br/>\n",
    "Data Source: "
   ]
  },
  {
   "cell_type": "code",
   "execution_count": 1,
   "metadata": {
    "collapsed": true
   },
   "outputs": [],
   "source": [
    "import sys, datetime\n",
    "import numpy as np\n",
    "import pandas as pd\n",
    "import importlib\n",
    "import untility_functions as uf\n",
    "%matplotlib inline"
   ]
  },
  {
   "cell_type": "code",
   "execution_count": 2,
   "metadata": {},
   "outputs": [
    {
     "data": {
      "text/plain": [
       "<module 'untility_functions' from '/Users/moshesilverstein/Documents/Harmonizome/hu.MAP/untility_functions.py'>"
      ]
     },
     "execution_count": 2,
     "metadata": {},
     "output_type": "execute_result"
    }
   ],
   "source": [
    "importlib.reload(uf)"
   ]
  },
  {
   "cell_type": "markdown",
   "metadata": {},
   "source": [
    "# Load Data"
   ]
  },
  {
   "cell_type": "code",
   "execution_count": 3,
   "metadata": {
    "collapsed": true
   },
   "outputs": [],
   "source": [
    "df = pd.read_csv('Protein Interaction Network with probability scores.txt', sep='\\t', header=None)"
   ]
  },
  {
   "cell_type": "code",
   "execution_count": 4,
   "metadata": {},
   "outputs": [
    {
     "data": {
      "text/html": [
       "<div>\n",
       "<table border=\"1\" class=\"dataframe\">\n",
       "  <thead>\n",
       "    <tr style=\"text-align: right;\">\n",
       "      <th></th>\n",
       "      <th>0</th>\n",
       "      <th>1</th>\n",
       "      <th>2</th>\n",
       "    </tr>\n",
       "  </thead>\n",
       "  <tbody>\n",
       "    <tr>\n",
       "      <th>0</th>\n",
       "      <td>1627</td>\n",
       "      <td>71</td>\n",
       "      <td>0.893189</td>\n",
       "    </tr>\n",
       "    <tr>\n",
       "      <th>1</th>\n",
       "      <td>1965</td>\n",
       "      <td>10969</td>\n",
       "      <td>0.088725</td>\n",
       "    </tr>\n",
       "    <tr>\n",
       "      <th>2</th>\n",
       "      <td>3192</td>\n",
       "      <td>3326</td>\n",
       "      <td>0.198868</td>\n",
       "    </tr>\n",
       "    <tr>\n",
       "      <th>3</th>\n",
       "      <td>64599</td>\n",
       "      <td>7699</td>\n",
       "      <td>0.171414</td>\n",
       "    </tr>\n",
       "    <tr>\n",
       "      <th>4</th>\n",
       "      <td>28755</td>\n",
       "      <td>102157402</td>\n",
       "      <td>0.000000</td>\n",
       "    </tr>\n",
       "  </tbody>\n",
       "</table>\n",
       "</div>"
      ],
      "text/plain": [
       "       0          1         2\n",
       "0   1627         71  0.893189\n",
       "1   1965      10969  0.088725\n",
       "2   3192       3326  0.198868\n",
       "3  64599       7699  0.171414\n",
       "4  28755  102157402  0.000000"
      ]
     },
     "execution_count": 4,
     "metadata": {},
     "output_type": "execute_result"
    }
   ],
   "source": [
    "df.head()"
   ]
  },
  {
   "cell_type": "code",
   "execution_count": 5,
   "metadata": {},
   "outputs": [
    {
     "data": {
      "text/plain": [
       "(64048, 3)"
      ]
     },
     "execution_count": 5,
     "metadata": {},
     "output_type": "execute_result"
    }
   ],
   "source": [
    "df.shape"
   ]
  },
  {
   "cell_type": "markdown",
   "metadata": {},
   "source": [
    "# Get Only Protein-Protein Interactions"
   ]
  },
  {
   "cell_type": "markdown",
   "metadata": {},
   "source": [
    "### Load mapping File"
   ]
  },
  {
   "cell_type": "code",
   "execution_count": 6,
   "metadata": {
    "collapsed": true
   },
   "outputs": [],
   "source": [
    "mapping_df = pd.read_csv('SymbolToId.tsv', sep='\\t')"
   ]
  },
  {
   "cell_type": "code",
   "execution_count": 7,
   "metadata": {},
   "outputs": [
    {
     "data": {
      "text/html": [
       "<div>\n",
       "<table border=\"1\" class=\"dataframe\">\n",
       "  <thead>\n",
       "    <tr style=\"text-align: right;\">\n",
       "      <th></th>\n",
       "      <th>Approved Symbol</th>\n",
       "      <th>Entrez Gene ID</th>\n",
       "      <th>Ensembl Gene ID</th>\n",
       "    </tr>\n",
       "  </thead>\n",
       "  <tbody>\n",
       "    <tr>\n",
       "      <th>0</th>\n",
       "      <td>A1BG</td>\n",
       "      <td>1.0</td>\n",
       "      <td>ENSG00000121410</td>\n",
       "    </tr>\n",
       "    <tr>\n",
       "      <th>1</th>\n",
       "      <td>A1BG-AS1</td>\n",
       "      <td>503538.0</td>\n",
       "      <td>ENSG00000268895</td>\n",
       "    </tr>\n",
       "    <tr>\n",
       "      <th>2</th>\n",
       "      <td>A1CF</td>\n",
       "      <td>29974.0</td>\n",
       "      <td>ENSG00000148584</td>\n",
       "    </tr>\n",
       "    <tr>\n",
       "      <th>3</th>\n",
       "      <td>A1S9T~withdrawn</td>\n",
       "      <td>NaN</td>\n",
       "      <td>NaN</td>\n",
       "    </tr>\n",
       "    <tr>\n",
       "      <th>4</th>\n",
       "      <td>A2M</td>\n",
       "      <td>2.0</td>\n",
       "      <td>ENSG00000175899</td>\n",
       "    </tr>\n",
       "  </tbody>\n",
       "</table>\n",
       "</div>"
      ],
      "text/plain": [
       "   Approved Symbol  Entrez Gene ID  Ensembl Gene ID\n",
       "0             A1BG             1.0  ENSG00000121410\n",
       "1         A1BG-AS1        503538.0  ENSG00000268895\n",
       "2             A1CF         29974.0  ENSG00000148584\n",
       "3  A1S9T~withdrawn             NaN              NaN\n",
       "4              A2M             2.0  ENSG00000175899"
      ]
     },
     "execution_count": 7,
     "metadata": {},
     "output_type": "execute_result"
    }
   ],
   "source": [
    "mapping_df.head()"
   ]
  },
  {
   "cell_type": "code",
   "execution_count": 8,
   "metadata": {
    "collapsed": true
   },
   "outputs": [],
   "source": [
    "mapping_df.set_index('Entrez Gene ID', inplace=True)"
   ]
  },
  {
   "cell_type": "markdown",
   "metadata": {},
   "source": [
    "### Map Gene Symbols to IDs "
   ]
  },
  {
   "cell_type": "code",
   "execution_count": 9,
   "metadata": {},
   "outputs": [
    {
     "name": "stdout",
     "output_type": "stream",
     "text": [
      "Progeres: 100%  64048 Out of 64048   \r"
     ]
    }
   ],
   "source": [
    "lst = []\n",
    "\n",
    "for i,index in enumerate(df.index):\n",
    "    \n",
    "    progressPercent = ((i+1)/len(df.index))*100\n",
    "\n",
    "    sys.stdout.write(\"Progeres: %d%%  %d Out of %d   \\r\" % (progressPercent, (i+1), len(df.index)))\n",
    "    sys.stdout.flush()\n",
    "    \n",
    "    if 'E' in df.ix[index, 0]:\n",
    "        lst.append(np.nan)\n",
    "    elif float(df.ix[index, 0]) in mapping_df.index:\n",
    "        lst.append(mapping_df.ix[float(df.ix[index, 0]), 'Approved Symbol'])\n",
    "    else:\n",
    "        lst.append(np.nan)\n",
    "\n",
    "df[0] = lst\n",
    "\n",
    "lst = []\n",
    "\n",
    "for i,index in enumerate(df.index):\n",
    "    \n",
    "    progressPercent = ((i+1)/len(df.index))*100\n",
    "\n",
    "    sys.stdout.write(\"Progeres: %d%%  %d Out of %d   \\r\" % (progressPercent, (i+1), len(df.index)))\n",
    "    sys.stdout.flush()\n",
    "    \n",
    "    if 'E' in df.ix[index, 1]:\n",
    "        lst.append(np.nan)\n",
    "    elif float(df.ix[index, 1]) in mapping_df.index:\n",
    "        lst.append(mapping_df.ix[float(df.ix[index, 1]), 'Approved Symbol'])\n",
    "    else:\n",
    "        lst.append(np.nan)\n",
    "\n",
    "df[1] = lst"
   ]
  },
  {
   "cell_type": "code",
   "execution_count": 11,
   "metadata": {},
   "outputs": [
    {
     "data": {
      "text/html": [
       "<div>\n",
       "<table border=\"1\" class=\"dataframe\">\n",
       "  <thead>\n",
       "    <tr style=\"text-align: right;\">\n",
       "      <th></th>\n",
       "      <th>0</th>\n",
       "      <th>1</th>\n",
       "      <th>2</th>\n",
       "    </tr>\n",
       "  </thead>\n",
       "  <tbody>\n",
       "    <tr>\n",
       "      <th>0</th>\n",
       "      <td>DBN1</td>\n",
       "      <td>ACTG1</td>\n",
       "      <td>0.893189</td>\n",
       "    </tr>\n",
       "    <tr>\n",
       "      <th>1</th>\n",
       "      <td>EIF2S1</td>\n",
       "      <td>EBNA1BP2</td>\n",
       "      <td>0.088725</td>\n",
       "    </tr>\n",
       "    <tr>\n",
       "      <th>2</th>\n",
       "      <td>HNRNPU</td>\n",
       "      <td>HSP90AB1</td>\n",
       "      <td>0.198868</td>\n",
       "    </tr>\n",
       "    <tr>\n",
       "      <th>3</th>\n",
       "      <td>GIGYF1</td>\n",
       "      <td>ZNF140</td>\n",
       "      <td>0.171414</td>\n",
       "    </tr>\n",
       "    <tr>\n",
       "      <th>4</th>\n",
       "      <td>TRAC</td>\n",
       "      <td>AK6</td>\n",
       "      <td>0.000000</td>\n",
       "    </tr>\n",
       "  </tbody>\n",
       "</table>\n",
       "</div>"
      ],
      "text/plain": [
       "        0         1         2\n",
       "0    DBN1     ACTG1  0.893189\n",
       "1  EIF2S1  EBNA1BP2  0.088725\n",
       "2  HNRNPU  HSP90AB1  0.198868\n",
       "3  GIGYF1    ZNF140  0.171414\n",
       "4    TRAC       AK6  0.000000"
      ]
     },
     "execution_count": 11,
     "metadata": {},
     "output_type": "execute_result"
    }
   ],
   "source": [
    "df.head()"
   ]
  },
  {
   "cell_type": "code",
   "execution_count": 13,
   "metadata": {},
   "outputs": [],
   "source": [
    "df_ppi = df[[0,1]].copy()"
   ]
  },
  {
   "cell_type": "code",
   "execution_count": 14,
   "metadata": {},
   "outputs": [
    {
     "data": {
      "text/html": [
       "<div>\n",
       "<table border=\"1\" class=\"dataframe\">\n",
       "  <thead>\n",
       "    <tr style=\"text-align: right;\">\n",
       "      <th></th>\n",
       "      <th>0</th>\n",
       "      <th>1</th>\n",
       "    </tr>\n",
       "  </thead>\n",
       "  <tbody>\n",
       "    <tr>\n",
       "      <th>0</th>\n",
       "      <td>DBN1</td>\n",
       "      <td>ACTG1</td>\n",
       "    </tr>\n",
       "    <tr>\n",
       "      <th>1</th>\n",
       "      <td>EIF2S1</td>\n",
       "      <td>EBNA1BP2</td>\n",
       "    </tr>\n",
       "    <tr>\n",
       "      <th>2</th>\n",
       "      <td>HNRNPU</td>\n",
       "      <td>HSP90AB1</td>\n",
       "    </tr>\n",
       "    <tr>\n",
       "      <th>3</th>\n",
       "      <td>GIGYF1</td>\n",
       "      <td>ZNF140</td>\n",
       "    </tr>\n",
       "    <tr>\n",
       "      <th>4</th>\n",
       "      <td>TRAC</td>\n",
       "      <td>AK6</td>\n",
       "    </tr>\n",
       "  </tbody>\n",
       "</table>\n",
       "</div>"
      ],
      "text/plain": [
       "        0         1\n",
       "0    DBN1     ACTG1\n",
       "1  EIF2S1  EBNA1BP2\n",
       "2  HNRNPU  HSP90AB1\n",
       "3  GIGYF1    ZNF140\n",
       "4    TRAC       AK6"
      ]
     },
     "execution_count": 14,
     "metadata": {},
     "output_type": "execute_result"
    }
   ],
   "source": [
    "df_ppi.head()"
   ]
  },
  {
   "cell_type": "markdown",
   "metadata": {},
   "source": [
    "# Map Gene Symbols To Up-to-date Approved Gene Symbols"
   ]
  },
  {
   "cell_type": "code",
   "execution_count": 16,
   "metadata": {},
   "outputs": [
    {
     "name": "stdout",
     "output_type": "stream",
     "text": [
      "Progeres: 99%  63830 Out of 64048   \r"
     ]
    }
   ],
   "source": [
    "df_ppi.set_index(0, inplace=True)\n",
    "uf.mapgenesymbols(df_ppi)"
   ]
  },
  {
   "cell_type": "code",
   "execution_count": 17,
   "metadata": {
    "collapsed": true
   },
   "outputs": [],
   "source": [
    "df_ppi.reset_index(inplace=True)"
   ]
  },
  {
   "cell_type": "code",
   "execution_count": 18,
   "metadata": {},
   "outputs": [
    {
     "name": "stdout",
     "output_type": "stream",
     "text": [
      "Progeres: 100%  64019 Out of 64019   \r"
     ]
    }
   ],
   "source": [
    "df_ppi.set_index(1, inplace=True)\n",
    "uf.mapgenesymbols(df_ppi)"
   ]
  },
  {
   "cell_type": "code",
   "execution_count": 19,
   "metadata": {
    "collapsed": true
   },
   "outputs": [],
   "source": [
    "df_ppi.reset_index(inplace=True)"
   ]
  },
  {
   "cell_type": "code",
   "execution_count": 20,
   "metadata": {},
   "outputs": [
    {
     "data": {
      "text/plain": [
       "(64005, 2)"
      ]
     },
     "execution_count": 20,
     "metadata": {},
     "output_type": "execute_result"
    }
   ],
   "source": [
    "df_ppi.shape"
   ]
  },
  {
   "cell_type": "markdown",
   "metadata": {},
   "source": [
    "# Create Binary Matrix"
   ]
  },
  {
   "cell_type": "code",
   "execution_count": 21,
   "metadata": {},
   "outputs": [
    {
     "name": "stdout",
     "output_type": "stream",
     "text": [
      "Progeres: 100%  7669 Out of 7669   \r"
     ]
    }
   ],
   "source": [
    "binary_matrix = uf.createBinaryMatix(df_ppi)"
   ]
  },
  {
   "cell_type": "code",
   "execution_count": 22,
   "metadata": {},
   "outputs": [
    {
     "data": {
      "text/html": [
       "<div>\n",
       "<table border=\"1\" class=\"dataframe\">\n",
       "  <thead>\n",
       "    <tr style=\"text-align: right;\">\n",
       "      <th></th>\n",
       "      <th>GNG2</th>\n",
       "      <th>PHYKPL</th>\n",
       "      <th>NUDCD2</th>\n",
       "      <th>PRPF31</th>\n",
       "      <th>HSP90AA5P</th>\n",
       "      <th>RPL23A</th>\n",
       "      <th>PRSS50</th>\n",
       "      <th>ASCC2</th>\n",
       "      <th>CYLD</th>\n",
       "      <th>RSRP1</th>\n",
       "      <th>...</th>\n",
       "      <th>CCDC126</th>\n",
       "      <th>THAP3</th>\n",
       "      <th>IK</th>\n",
       "      <th>CST7</th>\n",
       "      <th>DNASE1L2</th>\n",
       "      <th>PTK2B</th>\n",
       "      <th>FAM90A5P</th>\n",
       "      <th>PKN1</th>\n",
       "      <th>GALNS</th>\n",
       "      <th>XRCC1</th>\n",
       "    </tr>\n",
       "  </thead>\n",
       "  <tbody>\n",
       "    <tr>\n",
       "      <th>GNG2</th>\n",
       "      <td>0</td>\n",
       "      <td>0</td>\n",
       "      <td>0</td>\n",
       "      <td>0</td>\n",
       "      <td>0</td>\n",
       "      <td>0</td>\n",
       "      <td>0</td>\n",
       "      <td>0</td>\n",
       "      <td>0</td>\n",
       "      <td>0</td>\n",
       "      <td>...</td>\n",
       "      <td>0</td>\n",
       "      <td>0</td>\n",
       "      <td>0</td>\n",
       "      <td>0</td>\n",
       "      <td>0</td>\n",
       "      <td>0</td>\n",
       "      <td>0</td>\n",
       "      <td>0</td>\n",
       "      <td>0</td>\n",
       "      <td>0</td>\n",
       "    </tr>\n",
       "    <tr>\n",
       "      <th>PHYKPL</th>\n",
       "      <td>0</td>\n",
       "      <td>0</td>\n",
       "      <td>0</td>\n",
       "      <td>0</td>\n",
       "      <td>0</td>\n",
       "      <td>0</td>\n",
       "      <td>0</td>\n",
       "      <td>0</td>\n",
       "      <td>0</td>\n",
       "      <td>0</td>\n",
       "      <td>...</td>\n",
       "      <td>0</td>\n",
       "      <td>0</td>\n",
       "      <td>0</td>\n",
       "      <td>0</td>\n",
       "      <td>0</td>\n",
       "      <td>0</td>\n",
       "      <td>0</td>\n",
       "      <td>0</td>\n",
       "      <td>0</td>\n",
       "      <td>0</td>\n",
       "    </tr>\n",
       "    <tr>\n",
       "      <th>NUDCD2</th>\n",
       "      <td>0</td>\n",
       "      <td>0</td>\n",
       "      <td>0</td>\n",
       "      <td>0</td>\n",
       "      <td>0</td>\n",
       "      <td>0</td>\n",
       "      <td>0</td>\n",
       "      <td>0</td>\n",
       "      <td>0</td>\n",
       "      <td>0</td>\n",
       "      <td>...</td>\n",
       "      <td>0</td>\n",
       "      <td>0</td>\n",
       "      <td>0</td>\n",
       "      <td>0</td>\n",
       "      <td>0</td>\n",
       "      <td>0</td>\n",
       "      <td>0</td>\n",
       "      <td>0</td>\n",
       "      <td>0</td>\n",
       "      <td>0</td>\n",
       "    </tr>\n",
       "    <tr>\n",
       "      <th>PRPF31</th>\n",
       "      <td>0</td>\n",
       "      <td>0</td>\n",
       "      <td>0</td>\n",
       "      <td>0</td>\n",
       "      <td>0</td>\n",
       "      <td>0</td>\n",
       "      <td>0</td>\n",
       "      <td>0</td>\n",
       "      <td>0</td>\n",
       "      <td>0</td>\n",
       "      <td>...</td>\n",
       "      <td>0</td>\n",
       "      <td>0</td>\n",
       "      <td>0</td>\n",
       "      <td>0</td>\n",
       "      <td>0</td>\n",
       "      <td>0</td>\n",
       "      <td>0</td>\n",
       "      <td>0</td>\n",
       "      <td>0</td>\n",
       "      <td>0</td>\n",
       "    </tr>\n",
       "    <tr>\n",
       "      <th>HSP90AA5P</th>\n",
       "      <td>0</td>\n",
       "      <td>0</td>\n",
       "      <td>0</td>\n",
       "      <td>0</td>\n",
       "      <td>0</td>\n",
       "      <td>0</td>\n",
       "      <td>0</td>\n",
       "      <td>0</td>\n",
       "      <td>0</td>\n",
       "      <td>0</td>\n",
       "      <td>...</td>\n",
       "      <td>0</td>\n",
       "      <td>0</td>\n",
       "      <td>0</td>\n",
       "      <td>0</td>\n",
       "      <td>0</td>\n",
       "      <td>0</td>\n",
       "      <td>0</td>\n",
       "      <td>0</td>\n",
       "      <td>0</td>\n",
       "      <td>0</td>\n",
       "    </tr>\n",
       "  </tbody>\n",
       "</table>\n",
       "<p>5 rows × 7669 columns</p>\n",
       "</div>"
      ],
      "text/plain": [
       "           GNG2  PHYKPL  NUDCD2  PRPF31  HSP90AA5P  RPL23A  PRSS50  ASCC2  \\\n",
       "GNG2          0       0       0       0          0       0       0      0   \n",
       "PHYKPL        0       0       0       0          0       0       0      0   \n",
       "NUDCD2        0       0       0       0          0       0       0      0   \n",
       "PRPF31        0       0       0       0          0       0       0      0   \n",
       "HSP90AA5P     0       0       0       0          0       0       0      0   \n",
       "\n",
       "           CYLD  RSRP1  ...    CCDC126  THAP3  IK  CST7  DNASE1L2  PTK2B  \\\n",
       "GNG2          0      0  ...          0      0   0     0         0      0   \n",
       "PHYKPL        0      0  ...          0      0   0     0         0      0   \n",
       "NUDCD2        0      0  ...          0      0   0     0         0      0   \n",
       "PRPF31        0      0  ...          0      0   0     0         0      0   \n",
       "HSP90AA5P     0      0  ...          0      0   0     0         0      0   \n",
       "\n",
       "           FAM90A5P  PKN1  GALNS  XRCC1  \n",
       "GNG2              0     0      0      0  \n",
       "PHYKPL            0     0      0      0  \n",
       "NUDCD2            0     0      0      0  \n",
       "PRPF31            0     0      0      0  \n",
       "HSP90AA5P         0     0      0      0  \n",
       "\n",
       "[5 rows x 7669 columns]"
      ]
     },
     "execution_count": 22,
     "metadata": {},
     "output_type": "execute_result"
    }
   ],
   "source": [
    "binary_matrix.head()"
   ]
  },
  {
   "cell_type": "markdown",
   "metadata": {},
   "source": [
    "# Save Binary Matrix"
   ]
  },
  {
   "cell_type": "code",
   "execution_count": 24,
   "metadata": {},
   "outputs": [],
   "source": [
    "filename = '~/./Documents/Harmonizome/hu.MAP/Output/hu.map_binary_matrix_%s.tsv.zip'% str(datetime.date.today())[0:7].replace('-', '_')\n",
    "binary_matrix.to_csv(filename, sep='\\t', compression='gzip')"
   ]
  },
  {
   "cell_type": "markdown",
   "metadata": {},
   "source": [
    "# Create Gene Set Library"
   ]
  },
  {
   "cell_type": "code",
   "execution_count": 28,
   "metadata": {
    "collapsed": true
   },
   "outputs": [],
   "source": [
    "path = '/Users/moshesilverstein/Documents/Harmonizome/hu.MAP/Output/'"
   ]
  },
  {
   "cell_type": "code",
   "execution_count": 29,
   "metadata": {
    "collapsed": true
   },
   "outputs": [],
   "source": [
    "name = 'hu.MAP_gene_set'"
   ]
  },
  {
   "cell_type": "code",
   "execution_count": 30,
   "metadata": {},
   "outputs": [
    {
     "name": "stdout",
     "output_type": "stream",
     "text": [
      "Progeres: 100%  7669 Out of 7669   \r"
     ]
    }
   ],
   "source": [
    "uf.createUpGeneSetLib(binary_matrix, path, name)"
   ]
  },
  {
   "cell_type": "markdown",
   "metadata": {},
   "source": [
    "# Create Gene Similarity Matrix"
   ]
  },
  {
   "cell_type": "code",
   "execution_count": 31,
   "metadata": {
    "collapsed": true
   },
   "outputs": [],
   "source": [
    "gene_similarity_matix = uf.createSimilarityMatrix(binary_matrix, 'jaccard')"
   ]
  },
  {
   "cell_type": "code",
   "execution_count": 32,
   "metadata": {},
   "outputs": [
    {
     "data": {
      "text/html": [
       "<div>\n",
       "<table border=\"1\" class=\"dataframe\">\n",
       "  <thead>\n",
       "    <tr style=\"text-align: right;\">\n",
       "      <th></th>\n",
       "      <th>GNG2</th>\n",
       "      <th>PHYKPL</th>\n",
       "      <th>NUDCD2</th>\n",
       "      <th>PRPF31</th>\n",
       "      <th>HSP90AA5P</th>\n",
       "      <th>RPL23A</th>\n",
       "      <th>PRSS50</th>\n",
       "      <th>ASCC2</th>\n",
       "      <th>CYLD</th>\n",
       "      <th>RSRP1</th>\n",
       "      <th>...</th>\n",
       "      <th>CCDC126</th>\n",
       "      <th>THAP3</th>\n",
       "      <th>IK</th>\n",
       "      <th>CST7</th>\n",
       "      <th>DNASE1L2</th>\n",
       "      <th>PTK2B</th>\n",
       "      <th>FAM90A5P</th>\n",
       "      <th>PKN1</th>\n",
       "      <th>GALNS</th>\n",
       "      <th>XRCC1</th>\n",
       "    </tr>\n",
       "  </thead>\n",
       "  <tbody>\n",
       "    <tr>\n",
       "      <th>GNG2</th>\n",
       "      <td>1.0</td>\n",
       "      <td>0.0</td>\n",
       "      <td>0.0</td>\n",
       "      <td>0.0</td>\n",
       "      <td>0.0</td>\n",
       "      <td>0.0</td>\n",
       "      <td>0.0</td>\n",
       "      <td>0.0</td>\n",
       "      <td>0.0</td>\n",
       "      <td>0.0</td>\n",
       "      <td>...</td>\n",
       "      <td>0.016393</td>\n",
       "      <td>0.0</td>\n",
       "      <td>0.000000</td>\n",
       "      <td>0.0</td>\n",
       "      <td>0.0</td>\n",
       "      <td>0.0</td>\n",
       "      <td>0.0</td>\n",
       "      <td>0.0</td>\n",
       "      <td>0.0</td>\n",
       "      <td>0.0</td>\n",
       "    </tr>\n",
       "    <tr>\n",
       "      <th>PHYKPL</th>\n",
       "      <td>0.0</td>\n",
       "      <td>1.0</td>\n",
       "      <td>0.0</td>\n",
       "      <td>0.0</td>\n",
       "      <td>0.0</td>\n",
       "      <td>0.0</td>\n",
       "      <td>0.0</td>\n",
       "      <td>0.0</td>\n",
       "      <td>0.0</td>\n",
       "      <td>0.0</td>\n",
       "      <td>...</td>\n",
       "      <td>0.000000</td>\n",
       "      <td>0.0</td>\n",
       "      <td>0.000000</td>\n",
       "      <td>0.0</td>\n",
       "      <td>0.0</td>\n",
       "      <td>0.0</td>\n",
       "      <td>0.0</td>\n",
       "      <td>0.0</td>\n",
       "      <td>0.0</td>\n",
       "      <td>0.0</td>\n",
       "    </tr>\n",
       "    <tr>\n",
       "      <th>NUDCD2</th>\n",
       "      <td>0.0</td>\n",
       "      <td>0.0</td>\n",
       "      <td>1.0</td>\n",
       "      <td>0.0</td>\n",
       "      <td>0.0</td>\n",
       "      <td>0.0</td>\n",
       "      <td>0.0</td>\n",
       "      <td>0.0</td>\n",
       "      <td>0.0</td>\n",
       "      <td>0.0</td>\n",
       "      <td>...</td>\n",
       "      <td>0.000000</td>\n",
       "      <td>0.0</td>\n",
       "      <td>0.000000</td>\n",
       "      <td>0.0</td>\n",
       "      <td>0.0</td>\n",
       "      <td>0.0</td>\n",
       "      <td>0.0</td>\n",
       "      <td>0.0</td>\n",
       "      <td>0.0</td>\n",
       "      <td>0.0</td>\n",
       "    </tr>\n",
       "    <tr>\n",
       "      <th>PRPF31</th>\n",
       "      <td>0.0</td>\n",
       "      <td>0.0</td>\n",
       "      <td>0.0</td>\n",
       "      <td>1.0</td>\n",
       "      <td>0.0</td>\n",
       "      <td>0.0</td>\n",
       "      <td>0.0</td>\n",
       "      <td>0.0</td>\n",
       "      <td>0.0</td>\n",
       "      <td>0.0</td>\n",
       "      <td>...</td>\n",
       "      <td>0.000000</td>\n",
       "      <td>0.0</td>\n",
       "      <td>0.227273</td>\n",
       "      <td>0.0</td>\n",
       "      <td>0.0</td>\n",
       "      <td>0.0</td>\n",
       "      <td>0.0</td>\n",
       "      <td>0.0</td>\n",
       "      <td>0.0</td>\n",
       "      <td>0.0</td>\n",
       "    </tr>\n",
       "    <tr>\n",
       "      <th>HSP90AA5P</th>\n",
       "      <td>0.0</td>\n",
       "      <td>0.0</td>\n",
       "      <td>0.0</td>\n",
       "      <td>0.0</td>\n",
       "      <td>1.0</td>\n",
       "      <td>0.0</td>\n",
       "      <td>0.0</td>\n",
       "      <td>0.0</td>\n",
       "      <td>0.0</td>\n",
       "      <td>0.0</td>\n",
       "      <td>...</td>\n",
       "      <td>0.000000</td>\n",
       "      <td>0.0</td>\n",
       "      <td>0.000000</td>\n",
       "      <td>0.0</td>\n",
       "      <td>0.0</td>\n",
       "      <td>0.0</td>\n",
       "      <td>0.0</td>\n",
       "      <td>0.0</td>\n",
       "      <td>0.0</td>\n",
       "      <td>0.0</td>\n",
       "    </tr>\n",
       "  </tbody>\n",
       "</table>\n",
       "<p>5 rows × 7669 columns</p>\n",
       "</div>"
      ],
      "text/plain": [
       "           GNG2  PHYKPL  NUDCD2  PRPF31  HSP90AA5P  RPL23A  PRSS50  ASCC2  \\\n",
       "GNG2        1.0     0.0     0.0     0.0        0.0     0.0     0.0    0.0   \n",
       "PHYKPL      0.0     1.0     0.0     0.0        0.0     0.0     0.0    0.0   \n",
       "NUDCD2      0.0     0.0     1.0     0.0        0.0     0.0     0.0    0.0   \n",
       "PRPF31      0.0     0.0     0.0     1.0        0.0     0.0     0.0    0.0   \n",
       "HSP90AA5P   0.0     0.0     0.0     0.0        1.0     0.0     0.0    0.0   \n",
       "\n",
       "           CYLD  RSRP1  ...     CCDC126  THAP3        IK  CST7  DNASE1L2  \\\n",
       "GNG2        0.0    0.0  ...    0.016393    0.0  0.000000   0.0       0.0   \n",
       "PHYKPL      0.0    0.0  ...    0.000000    0.0  0.000000   0.0       0.0   \n",
       "NUDCD2      0.0    0.0  ...    0.000000    0.0  0.000000   0.0       0.0   \n",
       "PRPF31      0.0    0.0  ...    0.000000    0.0  0.227273   0.0       0.0   \n",
       "HSP90AA5P   0.0    0.0  ...    0.000000    0.0  0.000000   0.0       0.0   \n",
       "\n",
       "           PTK2B  FAM90A5P  PKN1  GALNS  XRCC1  \n",
       "GNG2         0.0       0.0   0.0    0.0    0.0  \n",
       "PHYKPL       0.0       0.0   0.0    0.0    0.0  \n",
       "NUDCD2       0.0       0.0   0.0    0.0    0.0  \n",
       "PRPF31       0.0       0.0   0.0    0.0    0.0  \n",
       "HSP90AA5P    0.0       0.0   0.0    0.0    0.0  \n",
       "\n",
       "[5 rows x 7669 columns]"
      ]
     },
     "execution_count": 32,
     "metadata": {},
     "output_type": "execute_result"
    }
   ],
   "source": [
    "gene_similarity_matix.head()"
   ]
  },
  {
   "cell_type": "markdown",
   "metadata": {},
   "source": [
    "# Save Gene Similarity Matrix "
   ]
  },
  {
   "cell_type": "code",
   "execution_count": 33,
   "metadata": {
    "collapsed": true
   },
   "outputs": [],
   "source": [
    "filename = '~/./Documents/Harmonizome/hu.MAP/Output/hu.map_gene_similarity_matix_%s.tsv.zip'% str(datetime.date.today())[0:7].replace('-', '_')\n",
    "gene_similarity_matix.to_csv(filename, sep='\\t', compression='gzip')"
   ]
  },
  {
   "cell_type": "markdown",
   "metadata": {},
   "source": [
    "# Create Gene List"
   ]
  },
  {
   "cell_type": "code",
   "execution_count": 34,
   "metadata": {},
   "outputs": [
    {
     "name": "stdout",
     "output_type": "stream",
     "text": [
      "Progeres: 100%  7669 Out of 7669   \r"
     ]
    }
   ],
   "source": [
    "gene_list = uf.createGeneList(binary_matrix)"
   ]
  },
  {
   "cell_type": "code",
   "execution_count": 35,
   "metadata": {},
   "outputs": [
    {
     "data": {
      "text/html": [
       "<div>\n",
       "<table border=\"1\" class=\"dataframe\">\n",
       "  <thead>\n",
       "    <tr style=\"text-align: right;\">\n",
       "      <th></th>\n",
       "      <th>GeneSym</th>\n",
       "      <th>GeneID</th>\n",
       "    </tr>\n",
       "  </thead>\n",
       "  <tbody>\n",
       "    <tr>\n",
       "      <th>0</th>\n",
       "      <td>GNG2</td>\n",
       "      <td>54331</td>\n",
       "    </tr>\n",
       "    <tr>\n",
       "      <th>1</th>\n",
       "      <td>PHYKPL</td>\n",
       "      <td>85007</td>\n",
       "    </tr>\n",
       "    <tr>\n",
       "      <th>2</th>\n",
       "      <td>NUDCD2</td>\n",
       "      <td>134492</td>\n",
       "    </tr>\n",
       "    <tr>\n",
       "      <th>3</th>\n",
       "      <td>PRPF31</td>\n",
       "      <td>26121</td>\n",
       "    </tr>\n",
       "    <tr>\n",
       "      <th>4</th>\n",
       "      <td>HSP90AA5P</td>\n",
       "      <td>730211</td>\n",
       "    </tr>\n",
       "  </tbody>\n",
       "</table>\n",
       "</div>"
      ],
      "text/plain": [
       "     GeneSym  GeneID\n",
       "0       GNG2   54331\n",
       "1     PHYKPL   85007\n",
       "2     NUDCD2  134492\n",
       "3     PRPF31   26121\n",
       "4  HSP90AA5P  730211"
      ]
     },
     "execution_count": 35,
     "metadata": {},
     "output_type": "execute_result"
    }
   ],
   "source": [
    "gene_list.head()"
   ]
  },
  {
   "cell_type": "code",
   "execution_count": 36,
   "metadata": {},
   "outputs": [
    {
     "data": {
      "text/plain": [
       "(7669, 2)"
      ]
     },
     "execution_count": 36,
     "metadata": {},
     "output_type": "execute_result"
    }
   ],
   "source": [
    "gene_list.shape"
   ]
  },
  {
   "cell_type": "markdown",
   "metadata": {},
   "source": [
    "### Save Gene List"
   ]
  },
  {
   "cell_type": "code",
   "execution_count": 37,
   "metadata": {
    "collapsed": true
   },
   "outputs": [],
   "source": [
    "filename = '~/./Documents/Harmonizome/hu.MAP/Output/hu.ma[_gene_list_%s.tsv.zip'% str(datetime.date.today())[0:7].replace('-', '_')\n",
    "gene_list.to_csv(filename, sep='\\t', index=False, compression='gzip')"
   ]
  },
  {
   "cell_type": "markdown",
   "metadata": {},
   "source": [
    "# Create Gene-Attribute Edge List"
   ]
  },
  {
   "cell_type": "code",
   "execution_count": 38,
   "metadata": {},
   "outputs": [
    {
     "name": "stdout",
     "output_type": "stream",
     "text": [
      "Progeres: 100%  7669 Out of 7669   \r"
     ]
    }
   ],
   "source": [
    "gene_attribute_edge_list = uf.createGeneAttributeEdgeList(binary_matrix, gene_list)"
   ]
  },
  {
   "cell_type": "code",
   "execution_count": 39,
   "metadata": {},
   "outputs": [
    {
     "data": {
      "text/html": [
       "<div>\n",
       "<table border=\"1\" class=\"dataframe\">\n",
       "  <thead>\n",
       "    <tr style=\"text-align: right;\">\n",
       "      <th></th>\n",
       "      <th>Attribute</th>\n",
       "      <th>Gene</th>\n",
       "      <th>GeneID</th>\n",
       "      <th>Weight</th>\n",
       "    </tr>\n",
       "  </thead>\n",
       "  <tbody>\n",
       "    <tr>\n",
       "      <th>0</th>\n",
       "      <td>GNG2</td>\n",
       "      <td>GNG2</td>\n",
       "      <td>54331</td>\n",
       "      <td>0.0</td>\n",
       "    </tr>\n",
       "    <tr>\n",
       "      <th>1</th>\n",
       "      <td>GNG2</td>\n",
       "      <td>PHYKPL</td>\n",
       "      <td>85007</td>\n",
       "      <td>0.0</td>\n",
       "    </tr>\n",
       "    <tr>\n",
       "      <th>2</th>\n",
       "      <td>GNG2</td>\n",
       "      <td>NUDCD2</td>\n",
       "      <td>134492</td>\n",
       "      <td>0.0</td>\n",
       "    </tr>\n",
       "    <tr>\n",
       "      <th>3</th>\n",
       "      <td>GNG2</td>\n",
       "      <td>PRPF31</td>\n",
       "      <td>26121</td>\n",
       "      <td>0.0</td>\n",
       "    </tr>\n",
       "    <tr>\n",
       "      <th>4</th>\n",
       "      <td>GNG2</td>\n",
       "      <td>HSP90AA5P</td>\n",
       "      <td>730211</td>\n",
       "      <td>0.0</td>\n",
       "    </tr>\n",
       "  </tbody>\n",
       "</table>\n",
       "</div>"
      ],
      "text/plain": [
       "  Attribute       Gene  GeneID  Weight\n",
       "0      GNG2       GNG2   54331     0.0\n",
       "1      GNG2     PHYKPL   85007     0.0\n",
       "2      GNG2     NUDCD2  134492     0.0\n",
       "3      GNG2     PRPF31   26121     0.0\n",
       "4      GNG2  HSP90AA5P  730211     0.0"
      ]
     },
     "execution_count": 39,
     "metadata": {},
     "output_type": "execute_result"
    }
   ],
   "source": [
    "gene_attribute_edge_list.head()"
   ]
  },
  {
   "cell_type": "code",
   "execution_count": 40,
   "metadata": {},
   "outputs": [
    {
     "data": {
      "text/plain": [
       "(58813561, 4)"
      ]
     },
     "execution_count": 40,
     "metadata": {},
     "output_type": "execute_result"
    }
   ],
   "source": [
    "gene_attribute_edge_list.shape"
   ]
  },
  {
   "cell_type": "markdown",
   "metadata": {},
   "source": [
    "### Get Number of (Statistically Relevant) Gene-Attribute Associations"
   ]
  },
  {
   "cell_type": "code",
   "execution_count": 41,
   "metadata": {},
   "outputs": [
    {
     "data": {
      "text/plain": [
       "(126176, 4)"
      ]
     },
     "execution_count": 41,
     "metadata": {},
     "output_type": "execute_result"
    }
   ],
   "source": [
    "gene_attribute_edge_list[gene_attribute_edge_list['Weight'] != 0].shape"
   ]
  },
  {
   "cell_type": "markdown",
   "metadata": {},
   "source": [
    "### Save Gene-Attribute Edge List"
   ]
  },
  {
   "cell_type": "code",
   "execution_count": 42,
   "metadata": {
    "collapsed": true
   },
   "outputs": [],
   "source": [
    "filename = '~/./Documents/Harmonizome/hu.MAP/Output/hu.map_gene_attribute_edge_list_%s.tsv.zip'% str(datetime.date.today())[0:7].replace('-', '_')\n",
    "gene_attribute_edge_list.to_csv(filename, sep='\\t', index=False, compression='gzip')"
   ]
  }
 ],
 "metadata": {
  "kernelspec": {
   "display_name": "Python [default]",
   "language": "python",
   "name": "python3"
  },
  "language_info": {
   "codemirror_mode": {
    "name": "ipython",
    "version": 3
   },
   "file_extension": ".py",
   "mimetype": "text/x-python",
   "name": "python",
   "nbconvert_exporter": "python",
   "pygments_lexer": "ipython3",
   "version": "3.5.2"
  }
 },
 "nbformat": 4,
 "nbformat_minor": 2
}
