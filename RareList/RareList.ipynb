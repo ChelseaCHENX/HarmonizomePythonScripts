{
 "cells": [
  {
   "cell_type": "markdown",
   "metadata": {},
   "source": [
    "# RARE List"
   ]
  },
  {
   "cell_type": "markdown",
   "metadata": {},
   "source": [
    "Author: John Erol Evangelista <br/>\n",
    "Date: 01-19 <br/>\n",
    "Data Source: https://globalgenes.org/rarelist/ <br/>"
   ]
  },
  {
   "cell_type": "code",
   "execution_count": 1,
   "metadata": {},
   "outputs": [],
   "source": [
    "import sys, datetime, os, csv, json\n",
    "import pandas as pd\n",
    "import requests, time"
   ]
  },
  {
   "cell_type": "markdown",
   "metadata": {},
   "source": [
    "## Read List"
   ]
  },
  {
   "cell_type": "code",
   "execution_count": 2,
   "metadata": {},
   "outputs": [],
   "source": [
    "with open(\"../../Data/GLOBAL_GENES_rare_disease_list_modified.json\") as o:\n",
    "    rare_diseases = json.loads(o.read())"
   ]
  },
  {
   "cell_type": "code",
   "execution_count": 3,
   "metadata": {},
   "outputs": [
    {
     "data": {
      "text/plain": [
       "5714"
      ]
     },
     "execution_count": 3,
     "metadata": {},
     "output_type": "execute_result"
    }
   ],
   "source": [
    "len(rare_diseases)"
   ]
  },
  {
   "cell_type": "markdown",
   "metadata": {},
   "source": [
    "## GeneShot API"
   ]
  },
  {
   "cell_type": "code",
   "execution_count": 8,
   "metadata": {},
   "outputs": [],
   "source": [
    "API_url = \"https://amp.pharm.mssm.edu/geneshot/api/search/%s\""
   ]
  },
  {
   "cell_type": "code",
   "execution_count": 9,
   "metadata": {},
   "outputs": [],
   "source": [
    "gene_lib = {}"
   ]
  },
  {
   "cell_type": "code",
   "execution_count": 26,
   "metadata": {},
   "outputs": [
    {
     "name": "stdout",
     "output_type": "stream",
     "text": [
      "Processing disease Zygomycosiseaseodermal syndromeomeon syndromermal microcephaly clubtionon of retination and dysmorphic featuresy\r"
     ]
    }
   ],
   "source": [
    "for disease in rare_diseases:\n",
    "    if disease not in gene_lib and not disease=='Persistent migraine aura without infarction (also known as \"Visual Snow\")':\n",
    "        sys.stdout.write(\"Processing disease %s\\r\" % (disease))\n",
    "        sys.stdout.flush()\n",
    "        url = API_url%disease\n",
    "        res = requests.get(url)\n",
    "        if not res.status_code == 200:\n",
    "            for i in range(5):\n",
    "                time.sleep(30)\n",
    "                res = requests.get(url)\n",
    "                if res.status_code == 200:\n",
    "                    break\n",
    "            else:\n",
    "                raise Exception(res.status_code)\n",
    "        genes = res.json()[\"gene_count\"]\n",
    "        gene_set = set([])\n",
    "        i = 0\n",
    "        for gene in genes:\n",
    "            if i > 2000:\n",
    "                break\n",
    "            i+=1\n",
    "            gene_set.add(gene)\n",
    "        gene_list = \"\\t\".join(list(gene_set))\n",
    "        if len(gene_set) > 2:\n",
    "            gene_lib[disease] = gene_list\n",
    "        time.sleep(1)\n"
   ]
  },
  {
   "cell_type": "code",
   "execution_count": 27,
   "metadata": {},
   "outputs": [
    {
     "data": {
      "text/plain": [
       "2214"
      ]
     },
     "execution_count": 27,
     "metadata": {},
     "output_type": "execute_result"
    }
   ],
   "source": [
    "len(gene_lib)"
   ]
  },
  {
   "cell_type": "code",
   "execution_count": 30,
   "metadata": {},
   "outputs": [],
   "source": [
    "with open(\"/Users/maayan/sigsets/Harmonizome/Output/RareList/RareList_GeneShot_GeneRIF.gmt\", \"w\") as o:\n",
    "    for k,v in gene_lib.items():\n",
    "        o.write(\"%s\\t\\t%s\\n\"%(k,v))"
   ]
  },
  {
   "cell_type": "markdown",
   "metadata": {},
   "source": [
    "## Geneshot AutoRIF"
   ]
  },
  {
   "cell_type": "code",
   "execution_count": 31,
   "metadata": {},
   "outputs": [],
   "source": [
    "Autorif_API_url = \"https://amp.pharm.mssm.edu/geneshot/api/search/auto/%s\""
   ]
  },
  {
   "cell_type": "code",
   "execution_count": 32,
   "metadata": {},
   "outputs": [],
   "source": [
    "autorif_lib = {}"
   ]
  },
  {
   "cell_type": "code",
   "execution_count": 38,
   "metadata": {},
   "outputs": [
    {
     "name": "stdout",
     "output_type": "stream",
     "text": [
      "Processing disease Zygomycosiseaseodermal syndromeomeon syndromermal microcephaly clubtionon of retination and dysmorphic featuresy\r"
     ]
    }
   ],
   "source": [
    "for disease in rare_diseases:\n",
    "    if disease not in autorif_lib and not disease=='Persistent migraine aura without infarction (also known as \"Visual Snow\")':\n",
    "        sys.stdout.write(\"Processing disease %s\\r\" % (disease))\n",
    "        sys.stdout.flush()\n",
    "        url = Autorif_API_url%disease\n",
    "        res = requests.get(url)\n",
    "        if not res.status_code == 200:\n",
    "            for i in range(5):\n",
    "                time.sleep(30)\n",
    "                res = requests.get(url)\n",
    "                if res.status_code == 200:\n",
    "                    break\n",
    "            else:\n",
    "                raise Exception(res.status_code)\n",
    "        genes = res.json()[\"gene_count\"]\n",
    "        gene_set = set([])\n",
    "        i = 0\n",
    "        for gene in genes:\n",
    "            if i > 2000:\n",
    "                break\n",
    "            i+=1\n",
    "            gene_set.add(gene)\n",
    "        gene_list = \"\\t\".join(list(gene_set))\n",
    "        if len(gene_set) > 2:\n",
    "            autorif_lib[disease] = gene_list\n",
    "        time.sleep(1)\n"
   ]
  },
  {
   "cell_type": "code",
   "execution_count": 43,
   "metadata": {},
   "outputs": [],
   "source": [
    "with open(\"/Users/maayan/sigsets/Harmonizome/Output/RareList/RareList_GeneShot_AutoRIF.gmt\", \"w\") as o:\n",
    "    for k,v in autorif_lib.items():\n",
    "        o.write(\"%s\\t\\t%s\\n\"%(k,v))"
   ]
  },
  {
   "cell_type": "code",
   "execution_count": null,
   "metadata": {},
   "outputs": [],
   "source": []
  }
 ],
 "metadata": {
  "kernelspec": {
   "display_name": "pvenv",
   "language": "python",
   "name": "pvenv"
  },
  "language_info": {
   "codemirror_mode": {
    "name": "ipython",
    "version": 3
   },
   "file_extension": ".py",
   "mimetype": "text/x-python",
   "name": "python",
   "nbconvert_exporter": "python",
   "pygments_lexer": "ipython3",
   "version": "3.6.5"
  }
 },
 "nbformat": 4,
 "nbformat_minor": 2
}
