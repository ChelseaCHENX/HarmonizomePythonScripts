{
 "cells": [
  {
   "cell_type": "markdown",
   "metadata": {},
   "source": [
    "# Achilles"
   ]
  },
  {
   "cell_type": "markdown",
   "metadata": {},
   "source": [
    "Author: Moshe Silverstein <br/>\n",
    "Date: 8-17 <br/>\n",
    "Data Source: http://portals.broadinstitute.org/achilles/"
   ]
  },
  {
   "cell_type": "code",
   "execution_count": 1,
   "metadata": {
    "collapsed": true
   },
   "outputs": [],
   "source": [
    "import sys, datetime, os\n",
    "import numpy as np\n",
    "import pandas as pd\n",
    "import importlib\n",
    "import my_functions as mf\n",
    "%matplotlib inline"
   ]
  },
  {
   "cell_type": "code",
   "execution_count": 2,
   "metadata": {},
   "outputs": [
    {
     "data": {
      "text/plain": [
       "<module 'my_functions' from '/Users/moshesilverstein/Documents/Harmonizome/Achilles/my_functions.py'>"
      ]
     },
     "execution_count": 2,
     "metadata": {},
     "output_type": "execute_result"
    }
   ],
   "source": [
    "importlib.reload(mf)"
   ]
  },
  {
   "cell_type": "markdown",
   "metadata": {},
   "source": [
    "# Load Data"
   ]
  },
  {
   "cell_type": "code",
   "execution_count": 16,
   "metadata": {},
   "outputs": [],
   "source": [
    "matrix = pd.read_csv('Input/Achilles_QC_v2.4.3.rnai.gct', sep='\\t', skiprows=2)"
   ]
  },
  {
   "cell_type": "code",
   "execution_count": 17,
   "metadata": {},
   "outputs": [
    {
     "data": {
      "text/html": [
       "<div>\n",
       "<table border=\"1\" class=\"dataframe\">\n",
       "  <thead>\n",
       "    <tr style=\"text-align: right;\">\n",
       "      <th></th>\n",
       "      <th>Name</th>\n",
       "      <th>Description</th>\n",
       "      <th>22RV1_PROSTATE</th>\n",
       "      <th>697_HAEMATOPOIETIC_AND_LYMPHOID_TISSUE</th>\n",
       "      <th>786O_KIDNEY</th>\n",
       "      <th>A1207_CENTRAL_NERVOUS_SYSTEM</th>\n",
       "      <th>A172_CENTRAL_NERVOUS_SYSTEM</th>\n",
       "      <th>A204_SOFT_TISSUE</th>\n",
       "      <th>A2058_SKIN</th>\n",
       "      <th>A549_LUNG</th>\n",
       "      <th>...</th>\n",
       "      <th>TT_OESOPHAGUS</th>\n",
       "      <th>TYKNU_OVARY</th>\n",
       "      <th>U178_CENTRAL_NERVOUS_SYSTEM</th>\n",
       "      <th>U251MG_CENTRAL_NERVOUS_SYSTEM</th>\n",
       "      <th>U343_CENTRAL_NERVOUS_SYSTEM</th>\n",
       "      <th>U87MG_CENTRAL_NERVOUS_SYSTEM</th>\n",
       "      <th>UOK101_KIDNEY</th>\n",
       "      <th>VCAP_PROSTATE</th>\n",
       "      <th>YKG1_CENTRAL_NERVOUS_SYSTEM</th>\n",
       "      <th>ZR7530_BREAST</th>\n",
       "    </tr>\n",
       "  </thead>\n",
       "  <tbody>\n",
       "    <tr>\n",
       "      <th>0</th>\n",
       "      <td>GCCCACCAAAGCAAGAAACTT_61E3.4</td>\n",
       "      <td>61E3.4</td>\n",
       "      <td>-1.026155</td>\n",
       "      <td>-2.393699</td>\n",
       "      <td>-0.991135</td>\n",
       "      <td>-1.866095</td>\n",
       "      <td>-2.661319</td>\n",
       "      <td>-1.626864</td>\n",
       "      <td>1.200009</td>\n",
       "      <td>-0.162825</td>\n",
       "      <td>...</td>\n",
       "      <td>-2.066177</td>\n",
       "      <td>-0.590565</td>\n",
       "      <td>-2.387387</td>\n",
       "      <td>-1.503449</td>\n",
       "      <td>-3.352456</td>\n",
       "      <td>-0.873772</td>\n",
       "      <td>-1.554755</td>\n",
       "      <td>-1.585234</td>\n",
       "      <td>-1.627780</td>\n",
       "      <td>-1.145502</td>\n",
       "    </tr>\n",
       "    <tr>\n",
       "      <th>1</th>\n",
       "      <td>CAGTGACAGAAGCAGCCATAT_A1BG</td>\n",
       "      <td>A1BG</td>\n",
       "      <td>-1.621685</td>\n",
       "      <td>-1.704836</td>\n",
       "      <td>-2.818621</td>\n",
       "      <td>-1.779226</td>\n",
       "      <td>-1.844484</td>\n",
       "      <td>-2.262645</td>\n",
       "      <td>-2.723932</td>\n",
       "      <td>-2.630040</td>\n",
       "      <td>...</td>\n",
       "      <td>-3.061138</td>\n",
       "      <td>-2.665076</td>\n",
       "      <td>-1.611657</td>\n",
       "      <td>-2.642140</td>\n",
       "      <td>-1.470433</td>\n",
       "      <td>-1.223504</td>\n",
       "      <td>0.035213</td>\n",
       "      <td>-2.618386</td>\n",
       "      <td>-2.703610</td>\n",
       "      <td>-2.600708</td>\n",
       "    </tr>\n",
       "    <tr>\n",
       "      <th>2</th>\n",
       "      <td>CCGCCTGTGCTGATGCACCAT_A1BG</td>\n",
       "      <td>A1BG</td>\n",
       "      <td>-1.439204</td>\n",
       "      <td>-1.277287</td>\n",
       "      <td>-2.191798</td>\n",
       "      <td>-1.111282</td>\n",
       "      <td>-0.876551</td>\n",
       "      <td>0.017669</td>\n",
       "      <td>-2.646508</td>\n",
       "      <td>-1.788262</td>\n",
       "      <td>...</td>\n",
       "      <td>-0.426853</td>\n",
       "      <td>-2.829203</td>\n",
       "      <td>-0.639940</td>\n",
       "      <td>-2.060242</td>\n",
       "      <td>-0.710171</td>\n",
       "      <td>-1.428283</td>\n",
       "      <td>-1.541270</td>\n",
       "      <td>-3.182819</td>\n",
       "      <td>-1.641099</td>\n",
       "      <td>-2.069618</td>\n",
       "    </tr>\n",
       "    <tr>\n",
       "      <th>3</th>\n",
       "      <td>CTCTTCGAGCTGCACAACATT_A1BG</td>\n",
       "      <td>A1BG</td>\n",
       "      <td>-1.345253</td>\n",
       "      <td>-1.100449</td>\n",
       "      <td>-2.964029</td>\n",
       "      <td>-2.632790</td>\n",
       "      <td>-2.231610</td>\n",
       "      <td>-1.195225</td>\n",
       "      <td>-1.751131</td>\n",
       "      <td>-1.773799</td>\n",
       "      <td>...</td>\n",
       "      <td>-1.600203</td>\n",
       "      <td>4.345251</td>\n",
       "      <td>-0.256374</td>\n",
       "      <td>-2.461035</td>\n",
       "      <td>-1.005150</td>\n",
       "      <td>-2.055229</td>\n",
       "      <td>-1.973568</td>\n",
       "      <td>1.495429</td>\n",
       "      <td>-2.564715</td>\n",
       "      <td>-2.670118</td>\n",
       "    </tr>\n",
       "    <tr>\n",
       "      <th>4</th>\n",
       "      <td>GAGTCCGAATCACTGCTGAAA_A1BG</td>\n",
       "      <td>A1BG</td>\n",
       "      <td>-0.792654</td>\n",
       "      <td>-0.337205</td>\n",
       "      <td>0.277514</td>\n",
       "      <td>-0.666183</td>\n",
       "      <td>-0.833114</td>\n",
       "      <td>-0.807820</td>\n",
       "      <td>-0.442167</td>\n",
       "      <td>0.619277</td>\n",
       "      <td>...</td>\n",
       "      <td>-0.883189</td>\n",
       "      <td>-1.983697</td>\n",
       "      <td>-1.732623</td>\n",
       "      <td>0.063039</td>\n",
       "      <td>-0.162693</td>\n",
       "      <td>-2.012714</td>\n",
       "      <td>-0.735565</td>\n",
       "      <td>-0.438505</td>\n",
       "      <td>-0.786879</td>\n",
       "      <td>-0.249362</td>\n",
       "    </tr>\n",
       "  </tbody>\n",
       "</table>\n",
       "<p>5 rows × 218 columns</p>\n",
       "</div>"
      ],
      "text/plain": [
       "                           Name Description  22RV1_PROSTATE  \\\n",
       "0  GCCCACCAAAGCAAGAAACTT_61E3.4      61E3.4       -1.026155   \n",
       "1    CAGTGACAGAAGCAGCCATAT_A1BG        A1BG       -1.621685   \n",
       "2    CCGCCTGTGCTGATGCACCAT_A1BG        A1BG       -1.439204   \n",
       "3    CTCTTCGAGCTGCACAACATT_A1BG        A1BG       -1.345253   \n",
       "4    GAGTCCGAATCACTGCTGAAA_A1BG        A1BG       -0.792654   \n",
       "\n",
       "   697_HAEMATOPOIETIC_AND_LYMPHOID_TISSUE  786O_KIDNEY  \\\n",
       "0                               -2.393699    -0.991135   \n",
       "1                               -1.704836    -2.818621   \n",
       "2                               -1.277287    -2.191798   \n",
       "3                               -1.100449    -2.964029   \n",
       "4                               -0.337205     0.277514   \n",
       "\n",
       "   A1207_CENTRAL_NERVOUS_SYSTEM  A172_CENTRAL_NERVOUS_SYSTEM  \\\n",
       "0                     -1.866095                    -2.661319   \n",
       "1                     -1.779226                    -1.844484   \n",
       "2                     -1.111282                    -0.876551   \n",
       "3                     -2.632790                    -2.231610   \n",
       "4                     -0.666183                    -0.833114   \n",
       "\n",
       "   A204_SOFT_TISSUE  A2058_SKIN  A549_LUNG      ...        TT_OESOPHAGUS  \\\n",
       "0         -1.626864    1.200009  -0.162825      ...            -2.066177   \n",
       "1         -2.262645   -2.723932  -2.630040      ...            -3.061138   \n",
       "2          0.017669   -2.646508  -1.788262      ...            -0.426853   \n",
       "3         -1.195225   -1.751131  -1.773799      ...            -1.600203   \n",
       "4         -0.807820   -0.442167   0.619277      ...            -0.883189   \n",
       "\n",
       "   TYKNU_OVARY  U178_CENTRAL_NERVOUS_SYSTEM  U251MG_CENTRAL_NERVOUS_SYSTEM  \\\n",
       "0    -0.590565                    -2.387387                      -1.503449   \n",
       "1    -2.665076                    -1.611657                      -2.642140   \n",
       "2    -2.829203                    -0.639940                      -2.060242   \n",
       "3     4.345251                    -0.256374                      -2.461035   \n",
       "4    -1.983697                    -1.732623                       0.063039   \n",
       "\n",
       "   U343_CENTRAL_NERVOUS_SYSTEM  U87MG_CENTRAL_NERVOUS_SYSTEM  UOK101_KIDNEY  \\\n",
       "0                    -3.352456                     -0.873772      -1.554755   \n",
       "1                    -1.470433                     -1.223504       0.035213   \n",
       "2                    -0.710171                     -1.428283      -1.541270   \n",
       "3                    -1.005150                     -2.055229      -1.973568   \n",
       "4                    -0.162693                     -2.012714      -0.735565   \n",
       "\n",
       "   VCAP_PROSTATE  YKG1_CENTRAL_NERVOUS_SYSTEM  ZR7530_BREAST  \n",
       "0      -1.585234                    -1.627780      -1.145502  \n",
       "1      -2.618386                    -2.703610      -2.600708  \n",
       "2      -3.182819                    -1.641099      -2.069618  \n",
       "3       1.495429                    -2.564715      -2.670118  \n",
       "4      -0.438505                    -0.786879      -0.249362  \n",
       "\n",
       "[5 rows x 218 columns]"
      ]
     },
     "execution_count": 17,
     "metadata": {},
     "output_type": "execute_result"
    }
   ],
   "source": [
    "matrix.head()"
   ]
  },
  {
   "cell_type": "code",
   "execution_count": 18,
   "metadata": {},
   "outputs": [
    {
     "data": {
      "text/plain": [
       "(56903, 218)"
      ]
     },
     "execution_count": 18,
     "metadata": {},
     "output_type": "execute_result"
    }
   ],
   "source": [
    "matrix.shape"
   ]
  },
  {
   "cell_type": "markdown",
   "metadata": {},
   "source": [
    "# Load Sample Meta Data"
   ]
  },
  {
   "cell_type": "code",
   "execution_count": 10,
   "metadata": {},
   "outputs": [],
   "source": [
    "sample_meta = pd.read_csv('Input/Achilles_v2.4_SampleInfo_small.txt', sep='\\t')"
   ]
  },
  {
   "cell_type": "code",
   "execution_count": 11,
   "metadata": {},
   "outputs": [
    {
     "data": {
      "text/html": [
       "<div>\n",
       "<table border=\"1\" class=\"dataframe\">\n",
       "  <thead>\n",
       "    <tr style=\"text-align: right;\">\n",
       "      <th></th>\n",
       "      <th>Name</th>\n",
       "      <th>Type</th>\n",
       "      <th>Subtype</th>\n",
       "      <th>Published</th>\n",
       "      <th>Data_status</th>\n",
       "      <th>Fingerprint</th>\n",
       "      <th>QC_notes</th>\n",
       "      <th>Mean.75th.percentile.distribution.score</th>\n",
       "      <th>Conditions</th>\n",
       "      <th>Passage_number</th>\n",
       "      <th>...</th>\n",
       "      <th>KRAS</th>\n",
       "      <th>PIK3CA</th>\n",
       "      <th>BRAF</th>\n",
       "      <th>NRAS</th>\n",
       "      <th>PTEN</th>\n",
       "      <th>APC</th>\n",
       "      <th>CTNNB1</th>\n",
       "      <th>EGFR</th>\n",
       "      <th>Mut_source</th>\n",
       "      <th>GenomicDNA_isolation_date</th>\n",
       "    </tr>\n",
       "  </thead>\n",
       "  <tbody>\n",
       "    <tr>\n",
       "      <th>0</th>\n",
       "      <td>22RV1_PROSTATE</td>\n",
       "      <td>Prostate</td>\n",
       "      <td>Carcinoma</td>\n",
       "      <td>NaN</td>\n",
       "      <td>Array, Seq</td>\n",
       "      <td>match SNP6.0 ref</td>\n",
       "      <td>Array failed QC, remove</td>\n",
       "      <td>3.862775</td>\n",
       "      <td>Adherent</td>\n",
       "      <td>8.0</td>\n",
       "      <td>...</td>\n",
       "      <td>WT</td>\n",
       "      <td>PIK3CA_Q546R</td>\n",
       "      <td>BRAF_L597R</td>\n",
       "      <td>WT</td>\n",
       "      <td>WT</td>\n",
       "      <td>WT</td>\n",
       "      <td>WT</td>\n",
       "      <td>WT</td>\n",
       "      <td>Sanger; CCLE Oncomap, hc(BRAF)</td>\n",
       "      <td>20090812.0</td>\n",
       "    </tr>\n",
       "    <tr>\n",
       "      <th>1</th>\n",
       "      <td>697_HAEMATOPOIETIC_AND_LYMPHOID_TISSUE</td>\n",
       "      <td>Leukemia</td>\n",
       "      <td>B-ALL</td>\n",
       "      <td>NaN</td>\n",
       "      <td>Seq</td>\n",
       "      <td>match SNP6.0 ref</td>\n",
       "      <td>NaN</td>\n",
       "      <td>4.180375</td>\n",
       "      <td>Suspension</td>\n",
       "      <td>8.0</td>\n",
       "      <td>...</td>\n",
       "      <td>WT</td>\n",
       "      <td>WT</td>\n",
       "      <td>WT</td>\n",
       "      <td>NRAS_G12D</td>\n",
       "      <td>WT</td>\n",
       "      <td>WT</td>\n",
       "      <td>WT</td>\n",
       "      <td>WT</td>\n",
       "      <td>Sanger; CCLE Oncomap, hc</td>\n",
       "      <td>20110804.0</td>\n",
       "    </tr>\n",
       "    <tr>\n",
       "      <th>2</th>\n",
       "      <td>786O_KIDNEY</td>\n",
       "      <td>Renal Cell Carcinoma</td>\n",
       "      <td>Adenocarcinoma</td>\n",
       "      <td>Cheung et al.</td>\n",
       "      <td>Array, Seq</td>\n",
       "      <td>match SNP6.0 ref</td>\n",
       "      <td>NaN</td>\n",
       "      <td>4.551950</td>\n",
       "      <td>Adherent</td>\n",
       "      <td>8.0</td>\n",
       "      <td>...</td>\n",
       "      <td>WT</td>\n",
       "      <td>WT</td>\n",
       "      <td>WT</td>\n",
       "      <td>WT</td>\n",
       "      <td>PTEN_Q149*</td>\n",
       "      <td>WT</td>\n",
       "      <td>WT</td>\n",
       "      <td>WT</td>\n",
       "      <td>Sanger; CCLE Oncomap, hc</td>\n",
       "      <td>20100511.0</td>\n",
       "    </tr>\n",
       "    <tr>\n",
       "      <th>3</th>\n",
       "      <td>A1207_CENTRAL_NERVOUS_SYSTEM</td>\n",
       "      <td>GBM</td>\n",
       "      <td>NaN</td>\n",
       "      <td>NaN</td>\n",
       "      <td>Seq</td>\n",
       "      <td>no reference</td>\n",
       "      <td>NaN</td>\n",
       "      <td>4.381733</td>\n",
       "      <td>Adherent</td>\n",
       "      <td>9.0</td>\n",
       "      <td>...</td>\n",
       "      <td>NA/WT</td>\n",
       "      <td>NA/WT</td>\n",
       "      <td>BRAF_V600E</td>\n",
       "      <td>NA/WT</td>\n",
       "      <td>NA/WT</td>\n",
       "      <td>NA/WT</td>\n",
       "      <td>NA/WT</td>\n",
       "      <td>NA/WT</td>\n",
       "      <td>Achilles Oncomap</td>\n",
       "      <td>20120509.0</td>\n",
       "    </tr>\n",
       "    <tr>\n",
       "      <th>4</th>\n",
       "      <td>A172_CENTRAL_NERVOUS_SYSTEM</td>\n",
       "      <td>GBM</td>\n",
       "      <td>NaN</td>\n",
       "      <td>NaN</td>\n",
       "      <td>Seq</td>\n",
       "      <td>match SNP6.0 ref</td>\n",
       "      <td>NaN</td>\n",
       "      <td>4.249325</td>\n",
       "      <td>Adherent</td>\n",
       "      <td>NaN</td>\n",
       "      <td>...</td>\n",
       "      <td>WT</td>\n",
       "      <td>WT</td>\n",
       "      <td>WT</td>\n",
       "      <td>WT</td>\n",
       "      <td>PTEN_R55fs*1</td>\n",
       "      <td>WT</td>\n",
       "      <td>WT</td>\n",
       "      <td>WT</td>\n",
       "      <td>Sanger(PTEN); CCLE Oncomap, hc</td>\n",
       "      <td>20110113.0</td>\n",
       "    </tr>\n",
       "  </tbody>\n",
       "</table>\n",
       "<p>5 rows × 22 columns</p>\n",
       "</div>"
      ],
      "text/plain": [
       "                                     Name                  Type  \\\n",
       "0                          22RV1_PROSTATE              Prostate   \n",
       "1  697_HAEMATOPOIETIC_AND_LYMPHOID_TISSUE              Leukemia   \n",
       "2                             786O_KIDNEY  Renal Cell Carcinoma   \n",
       "3            A1207_CENTRAL_NERVOUS_SYSTEM                   GBM   \n",
       "4             A172_CENTRAL_NERVOUS_SYSTEM                   GBM   \n",
       "\n",
       "          Subtype      Published Data_status       Fingerprint  \\\n",
       "0       Carcinoma            NaN  Array, Seq  match SNP6.0 ref   \n",
       "1           B-ALL            NaN         Seq  match SNP6.0 ref   \n",
       "2  Adenocarcinoma  Cheung et al.  Array, Seq  match SNP6.0 ref   \n",
       "3             NaN            NaN         Seq      no reference   \n",
       "4             NaN            NaN         Seq  match SNP6.0 ref   \n",
       "\n",
       "                  QC_notes  Mean.75th.percentile.distribution.score  \\\n",
       "0  Array failed QC, remove                                 3.862775   \n",
       "1                      NaN                                 4.180375   \n",
       "2                      NaN                                 4.551950   \n",
       "3                      NaN                                 4.381733   \n",
       "4                      NaN                                 4.249325   \n",
       "\n",
       "   Conditions  Passage_number            ...              KRAS        PIK3CA  \\\n",
       "0    Adherent             8.0            ...                WT  PIK3CA_Q546R   \n",
       "1  Suspension             8.0            ...                WT            WT   \n",
       "2    Adherent             8.0            ...                WT            WT   \n",
       "3    Adherent             9.0            ...             NA/WT         NA/WT   \n",
       "4    Adherent             NaN            ...                WT            WT   \n",
       "\n",
       "         BRAF       NRAS          PTEN    APC CTNNB1   EGFR  \\\n",
       "0  BRAF_L597R         WT            WT     WT     WT     WT   \n",
       "1          WT  NRAS_G12D            WT     WT     WT     WT   \n",
       "2          WT         WT    PTEN_Q149*     WT     WT     WT   \n",
       "3  BRAF_V600E      NA/WT         NA/WT  NA/WT  NA/WT  NA/WT   \n",
       "4          WT         WT  PTEN_R55fs*1     WT     WT     WT   \n",
       "\n",
       "                       Mut_source GenomicDNA_isolation_date  \n",
       "0  Sanger; CCLE Oncomap, hc(BRAF)                20090812.0  \n",
       "1        Sanger; CCLE Oncomap, hc                20110804.0  \n",
       "2        Sanger; CCLE Oncomap, hc                20100511.0  \n",
       "3                Achilles Oncomap                20120509.0  \n",
       "4  Sanger(PTEN); CCLE Oncomap, hc                20110113.0  \n",
       "\n",
       "[5 rows x 22 columns]"
      ]
     },
     "execution_count": 11,
     "metadata": {},
     "output_type": "execute_result"
    }
   ],
   "source": [
    "sample_meta.head()"
   ]
  },
  {
   "cell_type": "markdown",
   "metadata": {},
   "source": [
    "# Get Relevent Data"
   ]
  },
  {
   "cell_type": "code",
   "execution_count": 20,
   "metadata": {
    "collapsed": true
   },
   "outputs": [],
   "source": [
    "matrix = matrix.iloc[:,1:]"
   ]
  },
  {
   "cell_type": "code",
   "execution_count": 21,
   "metadata": {
    "collapsed": true
   },
   "outputs": [],
   "source": [
    "matrix.rename(columns={'Description':'Gene'}, inplace=True)"
   ]
  },
  {
   "cell_type": "code",
   "execution_count": 22,
   "metadata": {
    "collapsed": true
   },
   "outputs": [],
   "source": [
    "matrix.set_index('Gene', inplace=True)"
   ]
  },
  {
   "cell_type": "code",
   "execution_count": 34,
   "metadata": {},
   "outputs": [],
   "source": [
    "lst = []\n",
    "\n",
    "for col in matrix.columns:\n",
    "    lst.append(col.split('_')[0])\n",
    "    \n",
    "matrix.columns = lst"
   ]
  },
  {
   "cell_type": "code",
   "execution_count": 35,
   "metadata": {},
   "outputs": [
    {
     "data": {
      "text/html": [
       "<div>\n",
       "<table border=\"1\" class=\"dataframe\">\n",
       "  <thead>\n",
       "    <tr style=\"text-align: right;\">\n",
       "      <th></th>\n",
       "      <th>22RV1</th>\n",
       "      <th>697</th>\n",
       "      <th>786O</th>\n",
       "      <th>A1207</th>\n",
       "      <th>A172</th>\n",
       "      <th>A204</th>\n",
       "      <th>A2058</th>\n",
       "      <th>A549</th>\n",
       "      <th>A673</th>\n",
       "      <th>ACHN</th>\n",
       "      <th>...</th>\n",
       "      <th>TT</th>\n",
       "      <th>TYKNU</th>\n",
       "      <th>U178</th>\n",
       "      <th>U251MG</th>\n",
       "      <th>U343</th>\n",
       "      <th>U87MG</th>\n",
       "      <th>UOK101</th>\n",
       "      <th>VCAP</th>\n",
       "      <th>YKG1</th>\n",
       "      <th>ZR7530</th>\n",
       "    </tr>\n",
       "    <tr>\n",
       "      <th>Gene</th>\n",
       "      <th></th>\n",
       "      <th></th>\n",
       "      <th></th>\n",
       "      <th></th>\n",
       "      <th></th>\n",
       "      <th></th>\n",
       "      <th></th>\n",
       "      <th></th>\n",
       "      <th></th>\n",
       "      <th></th>\n",
       "      <th></th>\n",
       "      <th></th>\n",
       "      <th></th>\n",
       "      <th></th>\n",
       "      <th></th>\n",
       "      <th></th>\n",
       "      <th></th>\n",
       "      <th></th>\n",
       "      <th></th>\n",
       "      <th></th>\n",
       "      <th></th>\n",
       "    </tr>\n",
       "  </thead>\n",
       "  <tbody>\n",
       "    <tr>\n",
       "      <th>61E3.4</th>\n",
       "      <td>-1.026155</td>\n",
       "      <td>-2.393699</td>\n",
       "      <td>-0.991135</td>\n",
       "      <td>-1.866095</td>\n",
       "      <td>-2.661319</td>\n",
       "      <td>-1.626864</td>\n",
       "      <td>1.200009</td>\n",
       "      <td>-0.162825</td>\n",
       "      <td>-1.383299</td>\n",
       "      <td>-2.619783</td>\n",
       "      <td>...</td>\n",
       "      <td>-2.066177</td>\n",
       "      <td>-0.590565</td>\n",
       "      <td>-2.387387</td>\n",
       "      <td>-1.503449</td>\n",
       "      <td>-3.352456</td>\n",
       "      <td>-0.873772</td>\n",
       "      <td>-1.554755</td>\n",
       "      <td>-1.585234</td>\n",
       "      <td>-1.627780</td>\n",
       "      <td>-1.145502</td>\n",
       "    </tr>\n",
       "    <tr>\n",
       "      <th>A1BG</th>\n",
       "      <td>-1.621685</td>\n",
       "      <td>-1.704836</td>\n",
       "      <td>-2.818621</td>\n",
       "      <td>-1.779226</td>\n",
       "      <td>-1.844484</td>\n",
       "      <td>-2.262645</td>\n",
       "      <td>-2.723932</td>\n",
       "      <td>-2.630040</td>\n",
       "      <td>-1.359432</td>\n",
       "      <td>-2.071313</td>\n",
       "      <td>...</td>\n",
       "      <td>-3.061138</td>\n",
       "      <td>-2.665076</td>\n",
       "      <td>-1.611657</td>\n",
       "      <td>-2.642140</td>\n",
       "      <td>-1.470433</td>\n",
       "      <td>-1.223504</td>\n",
       "      <td>0.035213</td>\n",
       "      <td>-2.618386</td>\n",
       "      <td>-2.703610</td>\n",
       "      <td>-2.600708</td>\n",
       "    </tr>\n",
       "    <tr>\n",
       "      <th>A1BG</th>\n",
       "      <td>-1.439204</td>\n",
       "      <td>-1.277287</td>\n",
       "      <td>-2.191798</td>\n",
       "      <td>-1.111282</td>\n",
       "      <td>-0.876551</td>\n",
       "      <td>0.017669</td>\n",
       "      <td>-2.646508</td>\n",
       "      <td>-1.788262</td>\n",
       "      <td>-1.399407</td>\n",
       "      <td>-0.752848</td>\n",
       "      <td>...</td>\n",
       "      <td>-0.426853</td>\n",
       "      <td>-2.829203</td>\n",
       "      <td>-0.639940</td>\n",
       "      <td>-2.060242</td>\n",
       "      <td>-0.710171</td>\n",
       "      <td>-1.428283</td>\n",
       "      <td>-1.541270</td>\n",
       "      <td>-3.182819</td>\n",
       "      <td>-1.641099</td>\n",
       "      <td>-2.069618</td>\n",
       "    </tr>\n",
       "    <tr>\n",
       "      <th>A1BG</th>\n",
       "      <td>-1.345253</td>\n",
       "      <td>-1.100449</td>\n",
       "      <td>-2.964029</td>\n",
       "      <td>-2.632790</td>\n",
       "      <td>-2.231610</td>\n",
       "      <td>-1.195225</td>\n",
       "      <td>-1.751131</td>\n",
       "      <td>-1.773799</td>\n",
       "      <td>0.655036</td>\n",
       "      <td>-1.913486</td>\n",
       "      <td>...</td>\n",
       "      <td>-1.600203</td>\n",
       "      <td>4.345251</td>\n",
       "      <td>-0.256374</td>\n",
       "      <td>-2.461035</td>\n",
       "      <td>-1.005150</td>\n",
       "      <td>-2.055229</td>\n",
       "      <td>-1.973568</td>\n",
       "      <td>1.495429</td>\n",
       "      <td>-2.564715</td>\n",
       "      <td>-2.670118</td>\n",
       "    </tr>\n",
       "    <tr>\n",
       "      <th>A1BG</th>\n",
       "      <td>-0.792654</td>\n",
       "      <td>-0.337205</td>\n",
       "      <td>0.277514</td>\n",
       "      <td>-0.666183</td>\n",
       "      <td>-0.833114</td>\n",
       "      <td>-0.807820</td>\n",
       "      <td>-0.442167</td>\n",
       "      <td>0.619277</td>\n",
       "      <td>-1.270333</td>\n",
       "      <td>-1.317376</td>\n",
       "      <td>...</td>\n",
       "      <td>-0.883189</td>\n",
       "      <td>-1.983697</td>\n",
       "      <td>-1.732623</td>\n",
       "      <td>0.063039</td>\n",
       "      <td>-0.162693</td>\n",
       "      <td>-2.012714</td>\n",
       "      <td>-0.735565</td>\n",
       "      <td>-0.438505</td>\n",
       "      <td>-0.786879</td>\n",
       "      <td>-0.249362</td>\n",
       "    </tr>\n",
       "  </tbody>\n",
       "</table>\n",
       "<p>5 rows × 216 columns</p>\n",
       "</div>"
      ],
      "text/plain": [
       "           22RV1       697      786O     A1207      A172      A204     A2058  \\\n",
       "Gene                                                                           \n",
       "61E3.4 -1.026155 -2.393699 -0.991135 -1.866095 -2.661319 -1.626864  1.200009   \n",
       "A1BG   -1.621685 -1.704836 -2.818621 -1.779226 -1.844484 -2.262645 -2.723932   \n",
       "A1BG   -1.439204 -1.277287 -2.191798 -1.111282 -0.876551  0.017669 -2.646508   \n",
       "A1BG   -1.345253 -1.100449 -2.964029 -2.632790 -2.231610 -1.195225 -1.751131   \n",
       "A1BG   -0.792654 -0.337205  0.277514 -0.666183 -0.833114 -0.807820 -0.442167   \n",
       "\n",
       "            A549      A673      ACHN    ...           TT     TYKNU      U178  \\\n",
       "Gene                                    ...                                    \n",
       "61E3.4 -0.162825 -1.383299 -2.619783    ...    -2.066177 -0.590565 -2.387387   \n",
       "A1BG   -2.630040 -1.359432 -2.071313    ...    -3.061138 -2.665076 -1.611657   \n",
       "A1BG   -1.788262 -1.399407 -0.752848    ...    -0.426853 -2.829203 -0.639940   \n",
       "A1BG   -1.773799  0.655036 -1.913486    ...    -1.600203  4.345251 -0.256374   \n",
       "A1BG    0.619277 -1.270333 -1.317376    ...    -0.883189 -1.983697 -1.732623   \n",
       "\n",
       "          U251MG      U343     U87MG    UOK101      VCAP      YKG1    ZR7530  \n",
       "Gene                                                                          \n",
       "61E3.4 -1.503449 -3.352456 -0.873772 -1.554755 -1.585234 -1.627780 -1.145502  \n",
       "A1BG   -2.642140 -1.470433 -1.223504  0.035213 -2.618386 -2.703610 -2.600708  \n",
       "A1BG   -2.060242 -0.710171 -1.428283 -1.541270 -3.182819 -1.641099 -2.069618  \n",
       "A1BG   -2.461035 -1.005150 -2.055229 -1.973568  1.495429 -2.564715 -2.670118  \n",
       "A1BG    0.063039 -0.162693 -2.012714 -0.735565 -0.438505 -0.786879 -0.249362  \n",
       "\n",
       "[5 rows x 216 columns]"
      ]
     },
     "execution_count": 35,
     "metadata": {},
     "output_type": "execute_result"
    }
   ],
   "source": [
    "matrix.head()"
   ]
  },
  {
   "cell_type": "markdown",
   "metadata": {},
   "source": [
    "# Map Gene Symbols To Up-to-date Approved Gene Symbols"
   ]
  },
  {
   "cell_type": "code",
   "execution_count": 36,
   "metadata": {},
   "outputs": [
    {
     "name": "stdout",
     "output_type": "stream",
     "text": [
      "Progeres: 99%  56784 Out of 56903   \r"
     ]
    }
   ],
   "source": [
    "mf.mapgenesymbols(matrix)"
   ]
  },
  {
   "cell_type": "code",
   "execution_count": 37,
   "metadata": {},
   "outputs": [
    {
     "data": {
      "text/plain": [
       "(53503, 216)"
      ]
     },
     "execution_count": 37,
     "metadata": {},
     "output_type": "execute_result"
    }
   ],
   "source": [
    "matrix.shape"
   ]
  },
  {
   "cell_type": "markdown",
   "metadata": {},
   "source": [
    "# Merge Duplicate Genes By Rows"
   ]
  },
  {
   "cell_type": "code",
   "execution_count": 38,
   "metadata": {
    "collapsed": true
   },
   "outputs": [],
   "source": [
    "matrix = mf.merge(matrix, 'row', 'mean')"
   ]
  },
  {
   "cell_type": "code",
   "execution_count": 39,
   "metadata": {},
   "outputs": [
    {
     "data": {
      "text/plain": [
       "(11980, 216)"
      ]
     },
     "execution_count": 39,
     "metadata": {},
     "output_type": "execute_result"
    }
   ],
   "source": [
    "matrix.shape"
   ]
  },
  {
   "cell_type": "markdown",
   "metadata": {},
   "source": [
    "# Save Unfiltered Matrix To File"
   ]
  },
  {
   "cell_type": "code",
   "execution_count": 40,
   "metadata": {
    "collapsed": true
   },
   "outputs": [],
   "source": [
    "filename = 'Output/achilles_matrix_unfilltered_%s.tsv.zip'% str(datetime.date.today())[0:7].replace('-', '_')\n",
    "matrix.to_csv(filename, sep='\\t', compression='gzip')"
   ]
  },
  {
   "cell_type": "markdown",
   "metadata": {},
   "source": [
    "# Drop Any Genes That Have Zero Expression Across 95% Of The Samples"
   ]
  },
  {
   "cell_type": "code",
   "execution_count": 41,
   "metadata": {
    "collapsed": true
   },
   "outputs": [],
   "source": [
    "matrix.replace(0, np.nan, inplace=True)"
   ]
  },
  {
   "cell_type": "code",
   "execution_count": 42,
   "metadata": {
    "collapsed": true
   },
   "outputs": [],
   "source": [
    "matrix.dropna(thresh=(0.05*matrix.shape[1]), axis=0, inplace=True)"
   ]
  },
  {
   "cell_type": "code",
   "execution_count": 43,
   "metadata": {
    "collapsed": true
   },
   "outputs": [],
   "source": [
    "matrix.replace(np.nan, 0, inplace=True)"
   ]
  },
  {
   "cell_type": "code",
   "execution_count": 44,
   "metadata": {},
   "outputs": [
    {
     "data": {
      "text/plain": [
       "(11980, 216)"
      ]
     },
     "execution_count": 44,
     "metadata": {},
     "output_type": "execute_result"
    }
   ],
   "source": [
    "matrix.shape"
   ]
  },
  {
   "cell_type": "markdown",
   "metadata": {},
   "source": [
    "# Nomalize Matrix (z-score the rows)"
   ]
  },
  {
   "cell_type": "code",
   "execution_count": 46,
   "metadata": {
    "collapsed": true
   },
   "outputs": [],
   "source": [
    "normalized_matrix = matrix.copy()"
   ]
  },
  {
   "cell_type": "code",
   "execution_count": 47,
   "metadata": {},
   "outputs": [
    {
     "name": "stdout",
     "output_type": "stream",
     "text": [
      "Progress: 100%  11980 Out of 11980   \r"
     ]
    }
   ],
   "source": [
    "mf.zscore(normalized_matrix, 'row')"
   ]
  },
  {
   "cell_type": "code",
   "execution_count": 48,
   "metadata": {},
   "outputs": [
    {
     "data": {
      "text/html": [
       "<div>\n",
       "<table border=\"1\" class=\"dataframe\">\n",
       "  <thead>\n",
       "    <tr style=\"text-align: right;\">\n",
       "      <th></th>\n",
       "      <th>22RV1</th>\n",
       "      <th>697</th>\n",
       "      <th>786O</th>\n",
       "      <th>A1207</th>\n",
       "      <th>A172</th>\n",
       "      <th>A204</th>\n",
       "      <th>A2058</th>\n",
       "      <th>A549</th>\n",
       "      <th>A673</th>\n",
       "      <th>ACHN</th>\n",
       "      <th>...</th>\n",
       "      <th>TT</th>\n",
       "      <th>TYKNU</th>\n",
       "      <th>U178</th>\n",
       "      <th>U251MG</th>\n",
       "      <th>U343</th>\n",
       "      <th>U87MG</th>\n",
       "      <th>UOK101</th>\n",
       "      <th>VCAP</th>\n",
       "      <th>YKG1</th>\n",
       "      <th>ZR7530</th>\n",
       "    </tr>\n",
       "    <tr>\n",
       "      <th>Gene</th>\n",
       "      <th></th>\n",
       "      <th></th>\n",
       "      <th></th>\n",
       "      <th></th>\n",
       "      <th></th>\n",
       "      <th></th>\n",
       "      <th></th>\n",
       "      <th></th>\n",
       "      <th></th>\n",
       "      <th></th>\n",
       "      <th></th>\n",
       "      <th></th>\n",
       "      <th></th>\n",
       "      <th></th>\n",
       "      <th></th>\n",
       "      <th></th>\n",
       "      <th></th>\n",
       "      <th></th>\n",
       "      <th></th>\n",
       "      <th></th>\n",
       "      <th></th>\n",
       "    </tr>\n",
       "  </thead>\n",
       "  <tbody>\n",
       "    <tr>\n",
       "      <th>A1BG</th>\n",
       "      <td>0.150637</td>\n",
       "      <td>0.577257</td>\n",
       "      <td>-1.217437</td>\n",
       "      <td>-0.391899</td>\n",
       "      <td>-0.170805</td>\n",
       "      <td>0.671318</td>\n",
       "      <td>-1.144494</td>\n",
       "      <td>-0.054194</td>\n",
       "      <td>1.149890</td>\n",
       "      <td>-0.318264</td>\n",
       "      <td>...</td>\n",
       "      <td>-0.272460</td>\n",
       "      <td>1.282095</td>\n",
       "      <td>0.675385</td>\n",
       "      <td>-0.890741</td>\n",
       "      <td>1.163958</td>\n",
       "      <td>-0.682283</td>\n",
       "      <td>0.689297</td>\n",
       "      <td>0.399547</td>\n",
       "      <td>-1.217091</td>\n",
       "      <td>-1.158769</td>\n",
       "    </tr>\n",
       "    <tr>\n",
       "      <th>A1CF</th>\n",
       "      <td>-0.647737</td>\n",
       "      <td>0.805576</td>\n",
       "      <td>-0.357445</td>\n",
       "      <td>1.395020</td>\n",
       "      <td>-0.127047</td>\n",
       "      <td>-0.009082</td>\n",
       "      <td>-1.713388</td>\n",
       "      <td>-1.012017</td>\n",
       "      <td>-1.480936</td>\n",
       "      <td>-0.683454</td>\n",
       "      <td>...</td>\n",
       "      <td>-0.745686</td>\n",
       "      <td>0.905955</td>\n",
       "      <td>-1.030863</td>\n",
       "      <td>0.362845</td>\n",
       "      <td>1.435050</td>\n",
       "      <td>0.174299</td>\n",
       "      <td>-0.911848</td>\n",
       "      <td>-0.485953</td>\n",
       "      <td>1.654512</td>\n",
       "      <td>-0.343983</td>\n",
       "    </tr>\n",
       "    <tr>\n",
       "      <th>A2M</th>\n",
       "      <td>-0.439085</td>\n",
       "      <td>0.071545</td>\n",
       "      <td>0.442089</td>\n",
       "      <td>-0.433158</td>\n",
       "      <td>0.592635</td>\n",
       "      <td>1.093204</td>\n",
       "      <td>-0.376625</td>\n",
       "      <td>0.243576</td>\n",
       "      <td>0.658250</td>\n",
       "      <td>1.053299</td>\n",
       "      <td>...</td>\n",
       "      <td>1.123958</td>\n",
       "      <td>-0.595001</td>\n",
       "      <td>-0.542952</td>\n",
       "      <td>0.686485</td>\n",
       "      <td>0.083591</td>\n",
       "      <td>-2.257578</td>\n",
       "      <td>-0.465275</td>\n",
       "      <td>1.159367</td>\n",
       "      <td>0.810057</td>\n",
       "      <td>2.559985</td>\n",
       "    </tr>\n",
       "    <tr>\n",
       "      <th>A2ML1</th>\n",
       "      <td>0.414332</td>\n",
       "      <td>0.323890</td>\n",
       "      <td>-0.568790</td>\n",
       "      <td>1.297904</td>\n",
       "      <td>-0.187955</td>\n",
       "      <td>2.055259</td>\n",
       "      <td>0.013900</td>\n",
       "      <td>1.165648</td>\n",
       "      <td>-0.151622</td>\n",
       "      <td>-0.599228</td>\n",
       "      <td>...</td>\n",
       "      <td>-0.781210</td>\n",
       "      <td>1.896407</td>\n",
       "      <td>-0.673152</td>\n",
       "      <td>-0.430485</td>\n",
       "      <td>0.957669</td>\n",
       "      <td>-0.963601</td>\n",
       "      <td>0.170557</td>\n",
       "      <td>2.042646</td>\n",
       "      <td>-1.034170</td>\n",
       "      <td>0.832668</td>\n",
       "    </tr>\n",
       "    <tr>\n",
       "      <th>A4GALT</th>\n",
       "      <td>0.310171</td>\n",
       "      <td>-1.507275</td>\n",
       "      <td>0.215904</td>\n",
       "      <td>1.631897</td>\n",
       "      <td>0.720867</td>\n",
       "      <td>-0.694243</td>\n",
       "      <td>0.858454</td>\n",
       "      <td>-0.406138</td>\n",
       "      <td>-0.123815</td>\n",
       "      <td>-0.148920</td>\n",
       "      <td>...</td>\n",
       "      <td>0.108907</td>\n",
       "      <td>-0.887332</td>\n",
       "      <td>-1.151974</td>\n",
       "      <td>0.375489</td>\n",
       "      <td>0.793452</td>\n",
       "      <td>0.749814</td>\n",
       "      <td>0.544340</td>\n",
       "      <td>0.730073</td>\n",
       "      <td>-0.554642</td>\n",
       "      <td>-0.073100</td>\n",
       "    </tr>\n",
       "  </tbody>\n",
       "</table>\n",
       "<p>5 rows × 216 columns</p>\n",
       "</div>"
      ],
      "text/plain": [
       "           22RV1       697      786O     A1207      A172      A204     A2058  \\\n",
       "Gene                                                                           \n",
       "A1BG    0.150637  0.577257 -1.217437 -0.391899 -0.170805  0.671318 -1.144494   \n",
       "A1CF   -0.647737  0.805576 -0.357445  1.395020 -0.127047 -0.009082 -1.713388   \n",
       "A2M    -0.439085  0.071545  0.442089 -0.433158  0.592635  1.093204 -0.376625   \n",
       "A2ML1   0.414332  0.323890 -0.568790  1.297904 -0.187955  2.055259  0.013900   \n",
       "A4GALT  0.310171 -1.507275  0.215904  1.631897  0.720867 -0.694243  0.858454   \n",
       "\n",
       "            A549      A673      ACHN    ...           TT     TYKNU      U178  \\\n",
       "Gene                                    ...                                    \n",
       "A1BG   -0.054194  1.149890 -0.318264    ...    -0.272460  1.282095  0.675385   \n",
       "A1CF   -1.012017 -1.480936 -0.683454    ...    -0.745686  0.905955 -1.030863   \n",
       "A2M     0.243576  0.658250  1.053299    ...     1.123958 -0.595001 -0.542952   \n",
       "A2ML1   1.165648 -0.151622 -0.599228    ...    -0.781210  1.896407 -0.673152   \n",
       "A4GALT -0.406138 -0.123815 -0.148920    ...     0.108907 -0.887332 -1.151974   \n",
       "\n",
       "          U251MG      U343     U87MG    UOK101      VCAP      YKG1    ZR7530  \n",
       "Gene                                                                          \n",
       "A1BG   -0.890741  1.163958 -0.682283  0.689297  0.399547 -1.217091 -1.158769  \n",
       "A1CF    0.362845  1.435050  0.174299 -0.911848 -0.485953  1.654512 -0.343983  \n",
       "A2M     0.686485  0.083591 -2.257578 -0.465275  1.159367  0.810057  2.559985  \n",
       "A2ML1  -0.430485  0.957669 -0.963601  0.170557  2.042646 -1.034170  0.832668  \n",
       "A4GALT  0.375489  0.793452  0.749814  0.544340  0.730073 -0.554642 -0.073100  \n",
       "\n",
       "[5 rows x 216 columns]"
      ]
     },
     "execution_count": 48,
     "metadata": {},
     "output_type": "execute_result"
    }
   ],
   "source": [
    "normalized_matrix.head()"
   ]
  },
  {
   "cell_type": "markdown",
   "metadata": {},
   "source": [
    "# Save Filtered Matrix"
   ]
  },
  {
   "cell_type": "code",
   "execution_count": 52,
   "metadata": {
    "collapsed": true
   },
   "outputs": [],
   "source": [
    "filename = 'Output/achilles_matrix_filltered_%s.tsv.zip'% str(datetime.date.today())[0:7].replace('-', '_')\n",
    "normalized_matrix.to_csv(filename, sep='\\t', compression='gzip')"
   ]
  },
  {
   "cell_type": "markdown",
   "metadata": {},
   "source": [
    "# Create Tertiary Matrix"
   ]
  },
  {
   "cell_type": "code",
   "execution_count": 53,
   "metadata": {},
   "outputs": [
    {
     "name": "stdout",
     "output_type": "stream",
     "text": [
      "Progeres: 100%  216 Out of 216   \r"
     ]
    }
   ],
   "source": [
    "tertiary_matrix = mf.createTertiaryMarix(normalized_matrix)"
   ]
  },
  {
   "cell_type": "code",
   "execution_count": 54,
   "metadata": {},
   "outputs": [
    {
     "data": {
      "text/html": [
       "<div>\n",
       "<table border=\"1\" class=\"dataframe\">\n",
       "  <thead>\n",
       "    <tr style=\"text-align: right;\">\n",
       "      <th></th>\n",
       "      <th>22RV1</th>\n",
       "      <th>697</th>\n",
       "      <th>786O</th>\n",
       "      <th>A1207</th>\n",
       "      <th>A172</th>\n",
       "      <th>A204</th>\n",
       "      <th>A2058</th>\n",
       "      <th>A549</th>\n",
       "      <th>A673</th>\n",
       "      <th>ACHN</th>\n",
       "      <th>...</th>\n",
       "      <th>TT</th>\n",
       "      <th>TYKNU</th>\n",
       "      <th>U178</th>\n",
       "      <th>U251MG</th>\n",
       "      <th>U343</th>\n",
       "      <th>U87MG</th>\n",
       "      <th>UOK101</th>\n",
       "      <th>VCAP</th>\n",
       "      <th>YKG1</th>\n",
       "      <th>ZR7530</th>\n",
       "    </tr>\n",
       "    <tr>\n",
       "      <th>Gene</th>\n",
       "      <th></th>\n",
       "      <th></th>\n",
       "      <th></th>\n",
       "      <th></th>\n",
       "      <th></th>\n",
       "      <th></th>\n",
       "      <th></th>\n",
       "      <th></th>\n",
       "      <th></th>\n",
       "      <th></th>\n",
       "      <th></th>\n",
       "      <th></th>\n",
       "      <th></th>\n",
       "      <th></th>\n",
       "      <th></th>\n",
       "      <th></th>\n",
       "      <th></th>\n",
       "      <th></th>\n",
       "      <th></th>\n",
       "      <th></th>\n",
       "      <th></th>\n",
       "    </tr>\n",
       "  </thead>\n",
       "  <tbody>\n",
       "    <tr>\n",
       "      <th>A1BG</th>\n",
       "      <td>0.0</td>\n",
       "      <td>0.0</td>\n",
       "      <td>-1.0</td>\n",
       "      <td>0.0</td>\n",
       "      <td>0.0</td>\n",
       "      <td>0.0</td>\n",
       "      <td>0.0</td>\n",
       "      <td>0.0</td>\n",
       "      <td>0.0</td>\n",
       "      <td>0.0</td>\n",
       "      <td>...</td>\n",
       "      <td>0.0</td>\n",
       "      <td>0.0</td>\n",
       "      <td>0.0</td>\n",
       "      <td>0.0</td>\n",
       "      <td>0.0</td>\n",
       "      <td>0.0</td>\n",
       "      <td>0.0</td>\n",
       "      <td>0.0</td>\n",
       "      <td>-1.0</td>\n",
       "      <td>0.0</td>\n",
       "    </tr>\n",
       "    <tr>\n",
       "      <th>A1CF</th>\n",
       "      <td>0.0</td>\n",
       "      <td>0.0</td>\n",
       "      <td>0.0</td>\n",
       "      <td>0.0</td>\n",
       "      <td>0.0</td>\n",
       "      <td>0.0</td>\n",
       "      <td>-1.0</td>\n",
       "      <td>0.0</td>\n",
       "      <td>-1.0</td>\n",
       "      <td>0.0</td>\n",
       "      <td>...</td>\n",
       "      <td>0.0</td>\n",
       "      <td>0.0</td>\n",
       "      <td>0.0</td>\n",
       "      <td>0.0</td>\n",
       "      <td>0.0</td>\n",
       "      <td>0.0</td>\n",
       "      <td>0.0</td>\n",
       "      <td>0.0</td>\n",
       "      <td>1.0</td>\n",
       "      <td>0.0</td>\n",
       "    </tr>\n",
       "    <tr>\n",
       "      <th>A2M</th>\n",
       "      <td>0.0</td>\n",
       "      <td>0.0</td>\n",
       "      <td>0.0</td>\n",
       "      <td>0.0</td>\n",
       "      <td>0.0</td>\n",
       "      <td>0.0</td>\n",
       "      <td>0.0</td>\n",
       "      <td>0.0</td>\n",
       "      <td>0.0</td>\n",
       "      <td>0.0</td>\n",
       "      <td>...</td>\n",
       "      <td>0.0</td>\n",
       "      <td>0.0</td>\n",
       "      <td>0.0</td>\n",
       "      <td>0.0</td>\n",
       "      <td>0.0</td>\n",
       "      <td>-1.0</td>\n",
       "      <td>0.0</td>\n",
       "      <td>0.0</td>\n",
       "      <td>0.0</td>\n",
       "      <td>1.0</td>\n",
       "    </tr>\n",
       "    <tr>\n",
       "      <th>A2ML1</th>\n",
       "      <td>0.0</td>\n",
       "      <td>0.0</td>\n",
       "      <td>0.0</td>\n",
       "      <td>0.0</td>\n",
       "      <td>0.0</td>\n",
       "      <td>1.0</td>\n",
       "      <td>0.0</td>\n",
       "      <td>0.0</td>\n",
       "      <td>0.0</td>\n",
       "      <td>0.0</td>\n",
       "      <td>...</td>\n",
       "      <td>0.0</td>\n",
       "      <td>1.0</td>\n",
       "      <td>0.0</td>\n",
       "      <td>0.0</td>\n",
       "      <td>0.0</td>\n",
       "      <td>0.0</td>\n",
       "      <td>0.0</td>\n",
       "      <td>1.0</td>\n",
       "      <td>0.0</td>\n",
       "      <td>0.0</td>\n",
       "    </tr>\n",
       "    <tr>\n",
       "      <th>A4GALT</th>\n",
       "      <td>0.0</td>\n",
       "      <td>-1.0</td>\n",
       "      <td>0.0</td>\n",
       "      <td>1.0</td>\n",
       "      <td>0.0</td>\n",
       "      <td>0.0</td>\n",
       "      <td>0.0</td>\n",
       "      <td>0.0</td>\n",
       "      <td>0.0</td>\n",
       "      <td>0.0</td>\n",
       "      <td>...</td>\n",
       "      <td>0.0</td>\n",
       "      <td>0.0</td>\n",
       "      <td>0.0</td>\n",
       "      <td>0.0</td>\n",
       "      <td>0.0</td>\n",
       "      <td>0.0</td>\n",
       "      <td>0.0</td>\n",
       "      <td>0.0</td>\n",
       "      <td>0.0</td>\n",
       "      <td>0.0</td>\n",
       "    </tr>\n",
       "  </tbody>\n",
       "</table>\n",
       "<p>5 rows × 216 columns</p>\n",
       "</div>"
      ],
      "text/plain": [
       "        22RV1  697  786O  A1207  A172  A204  A2058  A549  A673  ACHN   ...    \\\n",
       "Gene                                                                   ...     \n",
       "A1BG      0.0  0.0  -1.0    0.0   0.0   0.0    0.0   0.0   0.0   0.0   ...     \n",
       "A1CF      0.0  0.0   0.0    0.0   0.0   0.0   -1.0   0.0  -1.0   0.0   ...     \n",
       "A2M       0.0  0.0   0.0    0.0   0.0   0.0    0.0   0.0   0.0   0.0   ...     \n",
       "A2ML1     0.0  0.0   0.0    0.0   0.0   1.0    0.0   0.0   0.0   0.0   ...     \n",
       "A4GALT    0.0 -1.0   0.0    1.0   0.0   0.0    0.0   0.0   0.0   0.0   ...     \n",
       "\n",
       "         TT  TYKNU  U178  U251MG  U343  U87MG  UOK101  VCAP  YKG1  ZR7530  \n",
       "Gene                                                                       \n",
       "A1BG    0.0    0.0   0.0     0.0   0.0    0.0     0.0   0.0  -1.0     0.0  \n",
       "A1CF    0.0    0.0   0.0     0.0   0.0    0.0     0.0   0.0   1.0     0.0  \n",
       "A2M     0.0    0.0   0.0     0.0   0.0   -1.0     0.0   0.0   0.0     1.0  \n",
       "A2ML1   0.0    1.0   0.0     0.0   0.0    0.0     0.0   1.0   0.0     0.0  \n",
       "A4GALT  0.0    0.0   0.0     0.0   0.0    0.0     0.0   0.0   0.0     0.0  \n",
       "\n",
       "[5 rows x 216 columns]"
      ]
     },
     "execution_count": 54,
     "metadata": {},
     "output_type": "execute_result"
    }
   ],
   "source": [
    "tertiary_matrix.head()"
   ]
  },
  {
   "cell_type": "markdown",
   "metadata": {},
   "source": [
    "# Save Teriary Matrix"
   ]
  },
  {
   "cell_type": "code",
   "execution_count": 55,
   "metadata": {
    "collapsed": true
   },
   "outputs": [],
   "source": [
    "filename = 'Output/achilles_tertiary_matrix_%s.tsv.zip'% str(datetime.date.today())[0:7].replace('-', '_')\n",
    "tertiary_matrix.to_csv(filename, sep='\\t', compression='gzip')"
   ]
  },
  {
   "cell_type": "markdown",
   "metadata": {},
   "source": [
    "#### Path to output files"
   ]
  },
  {
   "cell_type": "code",
   "execution_count": 58,
   "metadata": {
    "collapsed": true
   },
   "outputs": [],
   "source": [
    "path = '/Users/moshesilverstein/Documents/Harmonizome/Achilles/Output/'"
   ]
  },
  {
   "cell_type": "markdown",
   "metadata": {},
   "source": [
    "# Create Up Gene Set Library"
   ]
  },
  {
   "cell_type": "code",
   "execution_count": 59,
   "metadata": {
    "collapsed": true
   },
   "outputs": [],
   "source": [
    "name = 'achilles_gene_up_set'"
   ]
  },
  {
   "cell_type": "code",
   "execution_count": 60,
   "metadata": {},
   "outputs": [
    {
     "name": "stdout",
     "output_type": "stream",
     "text": [
      "Progeres: 100%  216 Out of 216   \r"
     ]
    }
   ],
   "source": [
    "mf.createUpGeneSetLib(tertiary_matrix, path, name)"
   ]
  },
  {
   "cell_type": "markdown",
   "metadata": {},
   "source": [
    "# Create Down Gene Set Library"
   ]
  },
  {
   "cell_type": "code",
   "execution_count": 61,
   "metadata": {
    "collapsed": true
   },
   "outputs": [],
   "source": [
    "name = 'achilles_gene_down_set'"
   ]
  },
  {
   "cell_type": "code",
   "execution_count": 62,
   "metadata": {},
   "outputs": [
    {
     "name": "stdout",
     "output_type": "stream",
     "text": [
      "Progeres: 100%  216 Out of 216   \r"
     ]
    }
   ],
   "source": [
    "mf.createDownGeneSetLib(tertiary_matrix, path, name)"
   ]
  },
  {
   "cell_type": "markdown",
   "metadata": {},
   "source": [
    "# Create Up Attribute Library"
   ]
  },
  {
   "cell_type": "code",
   "execution_count": 63,
   "metadata": {
    "collapsed": true
   },
   "outputs": [],
   "source": [
    "name = 'achilles_attribute_up_set'"
   ]
  },
  {
   "cell_type": "code",
   "execution_count": 64,
   "metadata": {},
   "outputs": [
    {
     "name": "stdout",
     "output_type": "stream",
     "text": [
      "Progeres: 100%  11980 Out of 11980   \r"
     ]
    }
   ],
   "source": [
    "mf.createUpAttributeSetLib(tertiary_matrix, path, name)"
   ]
  },
  {
   "cell_type": "markdown",
   "metadata": {},
   "source": [
    "# Create Down Attribute Library"
   ]
  },
  {
   "cell_type": "code",
   "execution_count": 65,
   "metadata": {
    "collapsed": true
   },
   "outputs": [],
   "source": [
    "name = 'achilles_attribute_down_set'"
   ]
  },
  {
   "cell_type": "code",
   "execution_count": 66,
   "metadata": {},
   "outputs": [
    {
     "name": "stdout",
     "output_type": "stream",
     "text": [
      "Progeres: 100%  11980 Out of 11980   \r"
     ]
    }
   ],
   "source": [
    "mf.createDownAttributeSetLib(tertiary_matrix, path, name)"
   ]
  },
  {
   "cell_type": "markdown",
   "metadata": {},
   "source": [
    "# Create Gene Similarity Matrix"
   ]
  },
  {
   "cell_type": "code",
   "execution_count": 67,
   "metadata": {
    "collapsed": true
   },
   "outputs": [],
   "source": [
    "gene_similarity_matix = mf.createSimilarityMatrix(normalized_matrix, 'cosine')"
   ]
  },
  {
   "cell_type": "code",
   "execution_count": 68,
   "metadata": {},
   "outputs": [
    {
     "data": {
      "text/html": [
       "<div>\n",
       "<table border=\"1\" class=\"dataframe\">\n",
       "  <thead>\n",
       "    <tr style=\"text-align: right;\">\n",
       "      <th>Gene</th>\n",
       "      <th>A1BG</th>\n",
       "      <th>A1CF</th>\n",
       "      <th>A2M</th>\n",
       "      <th>A2ML1</th>\n",
       "      <th>A4GALT</th>\n",
       "      <th>A4GNT</th>\n",
       "      <th>AACS</th>\n",
       "      <th>AADAC</th>\n",
       "      <th>AADAT</th>\n",
       "      <th>AAK1</th>\n",
       "      <th>...</th>\n",
       "      <th>ZSCAN32</th>\n",
       "      <th>ZSCAN4</th>\n",
       "      <th>ZSCAN5A</th>\n",
       "      <th>ZSCAN9</th>\n",
       "      <th>ZSWIM2</th>\n",
       "      <th>ZWILCH</th>\n",
       "      <th>ZYG11A</th>\n",
       "      <th>ZYG11B</th>\n",
       "      <th>ZYX</th>\n",
       "      <th>ZZEF1</th>\n",
       "    </tr>\n",
       "    <tr>\n",
       "      <th>Gene</th>\n",
       "      <th></th>\n",
       "      <th></th>\n",
       "      <th></th>\n",
       "      <th></th>\n",
       "      <th></th>\n",
       "      <th></th>\n",
       "      <th></th>\n",
       "      <th></th>\n",
       "      <th></th>\n",
       "      <th></th>\n",
       "      <th></th>\n",
       "      <th></th>\n",
       "      <th></th>\n",
       "      <th></th>\n",
       "      <th></th>\n",
       "      <th></th>\n",
       "      <th></th>\n",
       "      <th></th>\n",
       "      <th></th>\n",
       "      <th></th>\n",
       "      <th></th>\n",
       "    </tr>\n",
       "  </thead>\n",
       "  <tbody>\n",
       "    <tr>\n",
       "      <th>A1BG</th>\n",
       "      <td>1.000000</td>\n",
       "      <td>-0.159641</td>\n",
       "      <td>-0.062173</td>\n",
       "      <td>0.077849</td>\n",
       "      <td>-0.136589</td>\n",
       "      <td>-0.140795</td>\n",
       "      <td>0.056023</td>\n",
       "      <td>-0.001209</td>\n",
       "      <td>0.141038</td>\n",
       "      <td>0.148191</td>\n",
       "      <td>...</td>\n",
       "      <td>-0.224909</td>\n",
       "      <td>0.053214</td>\n",
       "      <td>0.018885</td>\n",
       "      <td>-0.069482</td>\n",
       "      <td>0.056352</td>\n",
       "      <td>-0.074837</td>\n",
       "      <td>0.129067</td>\n",
       "      <td>0.129067</td>\n",
       "      <td>0.028711</td>\n",
       "      <td>-0.013245</td>\n",
       "    </tr>\n",
       "    <tr>\n",
       "      <th>A1CF</th>\n",
       "      <td>-0.159641</td>\n",
       "      <td>1.000000</td>\n",
       "      <td>0.012856</td>\n",
       "      <td>0.024818</td>\n",
       "      <td>0.018352</td>\n",
       "      <td>0.134036</td>\n",
       "      <td>-0.052131</td>\n",
       "      <td>0.078772</td>\n",
       "      <td>-0.021134</td>\n",
       "      <td>0.132006</td>\n",
       "      <td>...</td>\n",
       "      <td>0.055129</td>\n",
       "      <td>0.015786</td>\n",
       "      <td>0.057882</td>\n",
       "      <td>-0.095813</td>\n",
       "      <td>0.011158</td>\n",
       "      <td>0.000556</td>\n",
       "      <td>0.037792</td>\n",
       "      <td>0.037792</td>\n",
       "      <td>-0.037190</td>\n",
       "      <td>0.196676</td>\n",
       "    </tr>\n",
       "    <tr>\n",
       "      <th>A2M</th>\n",
       "      <td>-0.062173</td>\n",
       "      <td>0.012856</td>\n",
       "      <td>1.000000</td>\n",
       "      <td>0.053229</td>\n",
       "      <td>-0.177169</td>\n",
       "      <td>-0.143766</td>\n",
       "      <td>-0.010045</td>\n",
       "      <td>0.098668</td>\n",
       "      <td>0.210701</td>\n",
       "      <td>-0.030437</td>\n",
       "      <td>...</td>\n",
       "      <td>0.009504</td>\n",
       "      <td>0.095373</td>\n",
       "      <td>-0.099673</td>\n",
       "      <td>-0.057722</td>\n",
       "      <td>-0.055443</td>\n",
       "      <td>0.010525</td>\n",
       "      <td>0.057545</td>\n",
       "      <td>0.057545</td>\n",
       "      <td>0.086122</td>\n",
       "      <td>-0.041541</td>\n",
       "    </tr>\n",
       "    <tr>\n",
       "      <th>A2ML1</th>\n",
       "      <td>0.077849</td>\n",
       "      <td>0.024818</td>\n",
       "      <td>0.053229</td>\n",
       "      <td>1.000000</td>\n",
       "      <td>-0.150917</td>\n",
       "      <td>-0.045069</td>\n",
       "      <td>-0.053243</td>\n",
       "      <td>0.162486</td>\n",
       "      <td>0.082857</td>\n",
       "      <td>-0.001906</td>\n",
       "      <td>...</td>\n",
       "      <td>0.107988</td>\n",
       "      <td>0.052065</td>\n",
       "      <td>-0.039779</td>\n",
       "      <td>0.113189</td>\n",
       "      <td>-0.101758</td>\n",
       "      <td>-0.061157</td>\n",
       "      <td>0.400307</td>\n",
       "      <td>0.400307</td>\n",
       "      <td>0.134098</td>\n",
       "      <td>0.052520</td>\n",
       "    </tr>\n",
       "    <tr>\n",
       "      <th>A4GALT</th>\n",
       "      <td>-0.136589</td>\n",
       "      <td>0.018352</td>\n",
       "      <td>-0.177169</td>\n",
       "      <td>-0.150917</td>\n",
       "      <td>1.000000</td>\n",
       "      <td>0.083390</td>\n",
       "      <td>-0.042429</td>\n",
       "      <td>0.078808</td>\n",
       "      <td>-0.221758</td>\n",
       "      <td>-0.169829</td>\n",
       "      <td>...</td>\n",
       "      <td>0.117682</td>\n",
       "      <td>-0.153100</td>\n",
       "      <td>0.101428</td>\n",
       "      <td>-0.176211</td>\n",
       "      <td>-0.104625</td>\n",
       "      <td>0.102026</td>\n",
       "      <td>-0.183212</td>\n",
       "      <td>-0.183212</td>\n",
       "      <td>0.091538</td>\n",
       "      <td>-0.150938</td>\n",
       "    </tr>\n",
       "  </tbody>\n",
       "</table>\n",
       "<p>5 rows × 11980 columns</p>\n",
       "</div>"
      ],
      "text/plain": [
       "Gene        A1BG      A1CF       A2M     A2ML1    A4GALT     A4GNT      AACS  \\\n",
       "Gene                                                                           \n",
       "A1BG    1.000000 -0.159641 -0.062173  0.077849 -0.136589 -0.140795  0.056023   \n",
       "A1CF   -0.159641  1.000000  0.012856  0.024818  0.018352  0.134036 -0.052131   \n",
       "A2M    -0.062173  0.012856  1.000000  0.053229 -0.177169 -0.143766 -0.010045   \n",
       "A2ML1   0.077849  0.024818  0.053229  1.000000 -0.150917 -0.045069 -0.053243   \n",
       "A4GALT -0.136589  0.018352 -0.177169 -0.150917  1.000000  0.083390 -0.042429   \n",
       "\n",
       "Gene       AADAC     AADAT      AAK1    ...      ZSCAN32    ZSCAN4   ZSCAN5A  \\\n",
       "Gene                                    ...                                    \n",
       "A1BG   -0.001209  0.141038  0.148191    ...    -0.224909  0.053214  0.018885   \n",
       "A1CF    0.078772 -0.021134  0.132006    ...     0.055129  0.015786  0.057882   \n",
       "A2M     0.098668  0.210701 -0.030437    ...     0.009504  0.095373 -0.099673   \n",
       "A2ML1   0.162486  0.082857 -0.001906    ...     0.107988  0.052065 -0.039779   \n",
       "A4GALT  0.078808 -0.221758 -0.169829    ...     0.117682 -0.153100  0.101428   \n",
       "\n",
       "Gene      ZSCAN9    ZSWIM2    ZWILCH    ZYG11A    ZYG11B       ZYX     ZZEF1  \n",
       "Gene                                                                          \n",
       "A1BG   -0.069482  0.056352 -0.074837  0.129067  0.129067  0.028711 -0.013245  \n",
       "A1CF   -0.095813  0.011158  0.000556  0.037792  0.037792 -0.037190  0.196676  \n",
       "A2M    -0.057722 -0.055443  0.010525  0.057545  0.057545  0.086122 -0.041541  \n",
       "A2ML1   0.113189 -0.101758 -0.061157  0.400307  0.400307  0.134098  0.052520  \n",
       "A4GALT -0.176211 -0.104625  0.102026 -0.183212 -0.183212  0.091538 -0.150938  \n",
       "\n",
       "[5 rows x 11980 columns]"
      ]
     },
     "execution_count": 68,
     "metadata": {},
     "output_type": "execute_result"
    }
   ],
   "source": [
    "gene_similarity_matix.head()"
   ]
  },
  {
   "cell_type": "markdown",
   "metadata": {},
   "source": [
    "# Save Gene Similarity Matrix "
   ]
  },
  {
   "cell_type": "code",
   "execution_count": 69,
   "metadata": {
    "collapsed": true
   },
   "outputs": [],
   "source": [
    "filename = 'Output/achilles_gene_similarity_matix_%s.tsv.zip'% str(datetime.date.today())[0:7].replace('-', '_')\n",
    "gene_similarity_matix.to_csv(filename, sep='\\t', compression='gzip')"
   ]
  },
  {
   "cell_type": "markdown",
   "metadata": {},
   "source": [
    "# Create Attribute Similarity matrix"
   ]
  },
  {
   "cell_type": "code",
   "execution_count": 70,
   "metadata": {
    "collapsed": true
   },
   "outputs": [],
   "source": [
    "attribute_similarity_matix = mf.createSimilarityMatrix(normalized_matrix.T, 'cosine')"
   ]
  },
  {
   "cell_type": "code",
   "execution_count": 71,
   "metadata": {},
   "outputs": [
    {
     "data": {
      "text/html": [
       "<div>\n",
       "<table border=\"1\" class=\"dataframe\">\n",
       "  <thead>\n",
       "    <tr style=\"text-align: right;\">\n",
       "      <th></th>\n",
       "      <th>22RV1</th>\n",
       "      <th>697</th>\n",
       "      <th>786O</th>\n",
       "      <th>A1207</th>\n",
       "      <th>A172</th>\n",
       "      <th>A204</th>\n",
       "      <th>A2058</th>\n",
       "      <th>A549</th>\n",
       "      <th>A673</th>\n",
       "      <th>ACHN</th>\n",
       "      <th>...</th>\n",
       "      <th>TT</th>\n",
       "      <th>TYKNU</th>\n",
       "      <th>U178</th>\n",
       "      <th>U251MG</th>\n",
       "      <th>U343</th>\n",
       "      <th>U87MG</th>\n",
       "      <th>UOK101</th>\n",
       "      <th>VCAP</th>\n",
       "      <th>YKG1</th>\n",
       "      <th>ZR7530</th>\n",
       "    </tr>\n",
       "  </thead>\n",
       "  <tbody>\n",
       "    <tr>\n",
       "      <th>22RV1</th>\n",
       "      <td>1.000000</td>\n",
       "      <td>0.195841</td>\n",
       "      <td>-0.106514</td>\n",
       "      <td>-0.155068</td>\n",
       "      <td>0.011556</td>\n",
       "      <td>0.029933</td>\n",
       "      <td>0.018891</td>\n",
       "      <td>-0.009258</td>\n",
       "      <td>0.214370</td>\n",
       "      <td>0.035980</td>\n",
       "      <td>...</td>\n",
       "      <td>0.028026</td>\n",
       "      <td>-0.135054</td>\n",
       "      <td>0.116879</td>\n",
       "      <td>-0.040206</td>\n",
       "      <td>-0.067898</td>\n",
       "      <td>-0.054126</td>\n",
       "      <td>-0.074319</td>\n",
       "      <td>0.030735</td>\n",
       "      <td>-0.151858</td>\n",
       "      <td>0.063723</td>\n",
       "    </tr>\n",
       "    <tr>\n",
       "      <th>697</th>\n",
       "      <td>0.195841</td>\n",
       "      <td>1.000000</td>\n",
       "      <td>-0.088186</td>\n",
       "      <td>-0.108262</td>\n",
       "      <td>0.037689</td>\n",
       "      <td>0.077473</td>\n",
       "      <td>0.013952</td>\n",
       "      <td>-0.030635</td>\n",
       "      <td>0.247887</td>\n",
       "      <td>0.059063</td>\n",
       "      <td>...</td>\n",
       "      <td>0.010117</td>\n",
       "      <td>-0.024512</td>\n",
       "      <td>0.116777</td>\n",
       "      <td>-0.043156</td>\n",
       "      <td>0.010541</td>\n",
       "      <td>-0.030915</td>\n",
       "      <td>-0.057771</td>\n",
       "      <td>-0.014946</td>\n",
       "      <td>-0.150516</td>\n",
       "      <td>-0.102823</td>\n",
       "    </tr>\n",
       "    <tr>\n",
       "      <th>786O</th>\n",
       "      <td>-0.106514</td>\n",
       "      <td>-0.088186</td>\n",
       "      <td>1.000000</td>\n",
       "      <td>0.120428</td>\n",
       "      <td>0.034014</td>\n",
       "      <td>-0.004784</td>\n",
       "      <td>-0.075739</td>\n",
       "      <td>0.069607</td>\n",
       "      <td>-0.129670</td>\n",
       "      <td>0.098488</td>\n",
       "      <td>...</td>\n",
       "      <td>-0.087532</td>\n",
       "      <td>-0.014233</td>\n",
       "      <td>-0.065406</td>\n",
       "      <td>0.045354</td>\n",
       "      <td>0.078564</td>\n",
       "      <td>0.028846</td>\n",
       "      <td>0.214275</td>\n",
       "      <td>-0.065147</td>\n",
       "      <td>-0.018074</td>\n",
       "      <td>-0.027223</td>\n",
       "    </tr>\n",
       "    <tr>\n",
       "      <th>A1207</th>\n",
       "      <td>-0.155068</td>\n",
       "      <td>-0.108262</td>\n",
       "      <td>0.120428</td>\n",
       "      <td>1.000000</td>\n",
       "      <td>0.101372</td>\n",
       "      <td>0.140950</td>\n",
       "      <td>-0.199324</td>\n",
       "      <td>0.051486</td>\n",
       "      <td>-0.071126</td>\n",
       "      <td>0.101371</td>\n",
       "      <td>...</td>\n",
       "      <td>-0.133940</td>\n",
       "      <td>0.144375</td>\n",
       "      <td>0.054570</td>\n",
       "      <td>0.005540</td>\n",
       "      <td>0.328747</td>\n",
       "      <td>0.109269</td>\n",
       "      <td>0.140073</td>\n",
       "      <td>-0.023680</td>\n",
       "      <td>0.051034</td>\n",
       "      <td>-0.161659</td>\n",
       "    </tr>\n",
       "    <tr>\n",
       "      <th>A172</th>\n",
       "      <td>0.011556</td>\n",
       "      <td>0.037689</td>\n",
       "      <td>0.034014</td>\n",
       "      <td>0.101372</td>\n",
       "      <td>1.000000</td>\n",
       "      <td>0.113211</td>\n",
       "      <td>0.043932</td>\n",
       "      <td>0.071927</td>\n",
       "      <td>0.058730</td>\n",
       "      <td>0.164967</td>\n",
       "      <td>...</td>\n",
       "      <td>-0.042303</td>\n",
       "      <td>-0.064275</td>\n",
       "      <td>0.148251</td>\n",
       "      <td>0.156010</td>\n",
       "      <td>0.156517</td>\n",
       "      <td>0.192919</td>\n",
       "      <td>0.113034</td>\n",
       "      <td>-0.117892</td>\n",
       "      <td>0.114698</td>\n",
       "      <td>-0.128303</td>\n",
       "    </tr>\n",
       "  </tbody>\n",
       "</table>\n",
       "<p>5 rows × 216 columns</p>\n",
       "</div>"
      ],
      "text/plain": [
       "          22RV1       697      786O     A1207      A172      A204     A2058  \\\n",
       "22RV1  1.000000  0.195841 -0.106514 -0.155068  0.011556  0.029933  0.018891   \n",
       "697    0.195841  1.000000 -0.088186 -0.108262  0.037689  0.077473  0.013952   \n",
       "786O  -0.106514 -0.088186  1.000000  0.120428  0.034014 -0.004784 -0.075739   \n",
       "A1207 -0.155068 -0.108262  0.120428  1.000000  0.101372  0.140950 -0.199324   \n",
       "A172   0.011556  0.037689  0.034014  0.101372  1.000000  0.113211  0.043932   \n",
       "\n",
       "           A549      A673      ACHN    ...           TT     TYKNU      U178  \\\n",
       "22RV1 -0.009258  0.214370  0.035980    ...     0.028026 -0.135054  0.116879   \n",
       "697   -0.030635  0.247887  0.059063    ...     0.010117 -0.024512  0.116777   \n",
       "786O   0.069607 -0.129670  0.098488    ...    -0.087532 -0.014233 -0.065406   \n",
       "A1207  0.051486 -0.071126  0.101371    ...    -0.133940  0.144375  0.054570   \n",
       "A172   0.071927  0.058730  0.164967    ...    -0.042303 -0.064275  0.148251   \n",
       "\n",
       "         U251MG      U343     U87MG    UOK101      VCAP      YKG1    ZR7530  \n",
       "22RV1 -0.040206 -0.067898 -0.054126 -0.074319  0.030735 -0.151858  0.063723  \n",
       "697   -0.043156  0.010541 -0.030915 -0.057771 -0.014946 -0.150516 -0.102823  \n",
       "786O   0.045354  0.078564  0.028846  0.214275 -0.065147 -0.018074 -0.027223  \n",
       "A1207  0.005540  0.328747  0.109269  0.140073 -0.023680  0.051034 -0.161659  \n",
       "A172   0.156010  0.156517  0.192919  0.113034 -0.117892  0.114698 -0.128303  \n",
       "\n",
       "[5 rows x 216 columns]"
      ]
     },
     "execution_count": 71,
     "metadata": {},
     "output_type": "execute_result"
    }
   ],
   "source": [
    "attribute_similarity_matix.head()"
   ]
  },
  {
   "cell_type": "markdown",
   "metadata": {},
   "source": [
    "# Save Attribute Similarity Matrix"
   ]
  },
  {
   "cell_type": "code",
   "execution_count": 72,
   "metadata": {
    "collapsed": true
   },
   "outputs": [],
   "source": [
    "filename = 'Output/achilles_attribute_similarity_matix_%s.tsv.zip'% str(datetime.date.today())[0:7].replace('-', '_')\n",
    "attribute_similarity_matix.to_csv(filename, sep='\\t', compression='gzip')"
   ]
  },
  {
   "cell_type": "markdown",
   "metadata": {},
   "source": [
    "# Create Gene List"
   ]
  },
  {
   "cell_type": "code",
   "execution_count": 73,
   "metadata": {},
   "outputs": [
    {
     "name": "stdout",
     "output_type": "stream",
     "text": [
      "Progeres: 100%  11980 Out of 11980   \r"
     ]
    }
   ],
   "source": [
    "gene_list = mf.createGeneList(normalized_matrix)"
   ]
  },
  {
   "cell_type": "code",
   "execution_count": 74,
   "metadata": {},
   "outputs": [
    {
     "data": {
      "text/html": [
       "<div>\n",
       "<table border=\"1\" class=\"dataframe\">\n",
       "  <thead>\n",
       "    <tr style=\"text-align: right;\">\n",
       "      <th></th>\n",
       "      <th>GeneSym</th>\n",
       "      <th>GeneID</th>\n",
       "    </tr>\n",
       "  </thead>\n",
       "  <tbody>\n",
       "    <tr>\n",
       "      <th>0</th>\n",
       "      <td>A1BG</td>\n",
       "      <td>1</td>\n",
       "    </tr>\n",
       "    <tr>\n",
       "      <th>1</th>\n",
       "      <td>A1CF</td>\n",
       "      <td>29974</td>\n",
       "    </tr>\n",
       "    <tr>\n",
       "      <th>2</th>\n",
       "      <td>A2M</td>\n",
       "      <td>2</td>\n",
       "    </tr>\n",
       "    <tr>\n",
       "      <th>3</th>\n",
       "      <td>A2ML1</td>\n",
       "      <td>144568</td>\n",
       "    </tr>\n",
       "    <tr>\n",
       "      <th>4</th>\n",
       "      <td>A4GALT</td>\n",
       "      <td>53947</td>\n",
       "    </tr>\n",
       "  </tbody>\n",
       "</table>\n",
       "</div>"
      ],
      "text/plain": [
       "  GeneSym  GeneID\n",
       "0    A1BG       1\n",
       "1    A1CF   29974\n",
       "2     A2M       2\n",
       "3   A2ML1  144568\n",
       "4  A4GALT   53947"
      ]
     },
     "execution_count": 74,
     "metadata": {},
     "output_type": "execute_result"
    }
   ],
   "source": [
    "gene_list.head()"
   ]
  },
  {
   "cell_type": "code",
   "execution_count": 75,
   "metadata": {},
   "outputs": [
    {
     "data": {
      "text/plain": [
       "(11980, 2)"
      ]
     },
     "execution_count": 75,
     "metadata": {},
     "output_type": "execute_result"
    }
   ],
   "source": [
    "gene_list.shape"
   ]
  },
  {
   "cell_type": "markdown",
   "metadata": {},
   "source": [
    "# Save Gene List"
   ]
  },
  {
   "cell_type": "code",
   "execution_count": 76,
   "metadata": {
    "collapsed": true
   },
   "outputs": [],
   "source": [
    "filename = 'Output/achilles_gene_list_%s.tsv.zip'% str(datetime.date.today())[0:7].replace('-', '_')\n",
    "gene_list.to_csv(filename, sep='\\t', index=False, compression='gzip')"
   ]
  },
  {
   "cell_type": "markdown",
   "metadata": {},
   "source": [
    "# Create Attribute List "
   ]
  },
  {
   "cell_type": "code",
   "execution_count": 77,
   "metadata": {
    "collapsed": true
   },
   "outputs": [],
   "source": [
    "attribute_list = mf.createAttributeList(normalized_matrix)"
   ]
  },
  {
   "cell_type": "code",
   "execution_count": 78,
   "metadata": {},
   "outputs": [
    {
     "data": {
      "text/html": [
       "<div>\n",
       "<table border=\"1\" class=\"dataframe\">\n",
       "  <thead>\n",
       "    <tr style=\"text-align: right;\">\n",
       "      <th></th>\n",
       "      <th>Attributes</th>\n",
       "    </tr>\n",
       "  </thead>\n",
       "  <tbody>\n",
       "    <tr>\n",
       "      <th>0</th>\n",
       "      <td>22RV1</td>\n",
       "    </tr>\n",
       "    <tr>\n",
       "      <th>1</th>\n",
       "      <td>697</td>\n",
       "    </tr>\n",
       "    <tr>\n",
       "      <th>2</th>\n",
       "      <td>786O</td>\n",
       "    </tr>\n",
       "    <tr>\n",
       "      <th>3</th>\n",
       "      <td>A1207</td>\n",
       "    </tr>\n",
       "    <tr>\n",
       "      <th>4</th>\n",
       "      <td>A172</td>\n",
       "    </tr>\n",
       "  </tbody>\n",
       "</table>\n",
       "</div>"
      ],
      "text/plain": [
       "  Attributes\n",
       "0      22RV1\n",
       "1        697\n",
       "2       786O\n",
       "3      A1207\n",
       "4       A172"
      ]
     },
     "execution_count": 78,
     "metadata": {},
     "output_type": "execute_result"
    }
   ],
   "source": [
    "attribute_list.head()"
   ]
  },
  {
   "cell_type": "code",
   "execution_count": 79,
   "metadata": {},
   "outputs": [
    {
     "data": {
      "text/plain": [
       "(216, 1)"
      ]
     },
     "execution_count": 79,
     "metadata": {},
     "output_type": "execute_result"
    }
   ],
   "source": [
    "attribute_list.shape"
   ]
  },
  {
   "cell_type": "markdown",
   "metadata": {},
   "source": [
    "# Save Attribute List"
   ]
  },
  {
   "cell_type": "code",
   "execution_count": 80,
   "metadata": {
    "collapsed": true
   },
   "outputs": [],
   "source": [
    "filename = 'Output/achilles_attribute_list_%s.tsv.zip'% str(datetime.date.today())[0:7].replace('-', '_')\n",
    "attribute_list.to_csv(filename, sep='\\t', index=False, compression='gzip')"
   ]
  },
  {
   "cell_type": "markdown",
   "metadata": {},
   "source": [
    "# Create Gene-Attribute Edge List"
   ]
  },
  {
   "cell_type": "code",
   "execution_count": 81,
   "metadata": {
    "collapsed": true
   },
   "outputs": [],
   "source": [
    "path = '/Users/moshesilverstein/Documents/Harmonizome/Achilles/Output/'"
   ]
  },
  {
   "cell_type": "code",
   "execution_count": 82,
   "metadata": {
    "collapsed": true
   },
   "outputs": [],
   "source": [
    "name = 'achilles_gene_attribute_edge_list'"
   ]
  },
  {
   "cell_type": "code",
   "execution_count": 83,
   "metadata": {},
   "outputs": [
    {
     "name": "stdout",
     "output_type": "stream",
     "text": [
      "Progeres: 100%  216 Out of 216   \n",
      "\n",
      " The number of statisticaly relevent gene-attribute associations is: 517878\n"
     ]
    }
   ],
   "source": [
    "mf.createGeneAttributeEdgeList(tertiary_matrix, gene_list, path, name)"
   ]
  }
 ],
 "metadata": {
  "kernelspec": {
   "display_name": "Python [default]",
   "language": "python",
   "name": "python3"
  },
  "language_info": {
   "codemirror_mode": {
    "name": "ipython",
    "version": 3
   },
   "file_extension": ".py",
   "mimetype": "text/x-python",
   "name": "python",
   "nbconvert_exporter": "python",
   "pygments_lexer": "ipython3",
   "version": "3.5.2"
  }
 },
 "nbformat": 4,
 "nbformat_minor": 2
}
