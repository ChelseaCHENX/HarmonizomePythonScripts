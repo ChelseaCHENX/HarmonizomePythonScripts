{
 "cells": [
  {
   "cell_type": "markdown",
   "metadata": {},
   "source": [
    "# Public Health Genomics Knowledge Base (PHGKB)"
   ]
  },
  {
   "cell_type": "markdown",
   "metadata": {},
   "source": [
    "Author: Moshe Silverstein <br/>\n",
    "Date: 11-17 <br/>\n",
    "Data Source: https://phgkb.cdc.gov/PHGKB/downloadCenter.action"
   ]
  },
  {
   "cell_type": "code",
   "execution_count": 1,
   "metadata": {
    "collapsed": true
   },
   "outputs": [],
   "source": [
    "import sys, datetime, os\n",
    "import numpy as np\n",
    "import pandas as pd\n",
    "import importlib\n",
    "import untility_functions as uf\n",
    "%matplotlib inline"
   ]
  },
  {
   "cell_type": "code",
   "execution_count": 2,
   "metadata": {},
   "outputs": [
    {
     "data": {
      "text/plain": [
       "<module 'untility_functions' from '/Users/moshesilverstein/Documents/Harmonizome/Public Health Genomics Knowledge Base (PHGKB)/untility_functions.py'>"
      ]
     },
     "execution_count": 2,
     "metadata": {},
     "output_type": "execute_result"
    }
   ],
   "source": [
    "importlib.reload(uf)"
   ]
  },
  {
   "cell_type": "markdown",
   "metadata": {},
   "source": [
    "# Load Data"
   ]
  },
  {
   "cell_type": "code",
   "execution_count": 11,
   "metadata": {},
   "outputs": [],
   "source": [
    "df = pd.read_csv('Input/Disease-GeneID.txt', skiprows=4, sep='~', header=None)"
   ]
  },
  {
   "cell_type": "code",
   "execution_count": 12,
   "metadata": {},
   "outputs": [
    {
     "data": {
      "text/html": [
       "<div>\n",
       "<table border=\"1\" class=\"dataframe\">\n",
       "  <thead>\n",
       "    <tr style=\"text-align: right;\">\n",
       "      <th></th>\n",
       "      <th>0</th>\n",
       "    </tr>\n",
       "  </thead>\n",
       "  <tbody>\n",
       "    <tr>\n",
       "      <th>0</th>\n",
       "      <td>22q11 Deletion Syndrome(C2936346)\\tCTD(1283)\\t...</td>\n",
       "    </tr>\n",
       "    <tr>\n",
       "      <th>1</th>\n",
       "      <td>46, XX Disorders of Sex Development(C2936403)\\...</td>\n",
       "    </tr>\n",
       "    <tr>\n",
       "      <th>2</th>\n",
       "      <td>46, XY Disorders of Sex Development(C2751824)\\...</td>\n",
       "    </tr>\n",
       "    <tr>\n",
       "      <th>3</th>\n",
       "      <td>Abdomen, Acute(C0000727)\\tMEFV(4210)</td>\n",
       "    </tr>\n",
       "    <tr>\n",
       "      <th>4</th>\n",
       "      <td>Abdominal Neoplasms(C0000735)\\tCHEK1(1111)\\tPS...</td>\n",
       "    </tr>\n",
       "  </tbody>\n",
       "</table>\n",
       "</div>"
      ],
      "text/plain": [
       "                                                   0\n",
       "0  22q11 Deletion Syndrome(C2936346)\\tCTD(1283)\\t...\n",
       "1  46, XX Disorders of Sex Development(C2936403)\\...\n",
       "2  46, XY Disorders of Sex Development(C2751824)\\...\n",
       "3               Abdomen, Acute(C0000727)\\tMEFV(4210)\n",
       "4  Abdominal Neoplasms(C0000735)\\tCHEK1(1111)\\tPS..."
      ]
     },
     "execution_count": 12,
     "metadata": {},
     "output_type": "execute_result"
    }
   ],
   "source": [
    "df.head()"
   ]
  },
  {
   "cell_type": "code",
   "execution_count": 15,
   "metadata": {},
   "outputs": [
    {
     "name": "stdout",
     "output_type": "stream",
     "text": [
      "Progeres: 100%  3032 Out of 3032   \r"
     ]
    }
   ],
   "source": [
    "df_interactions = pd.DataFrame()\n",
    "\n",
    "for i, index in enumerate(df.index):\n",
    "    \n",
    "    progressPercent = ((i+1)/len(df.index))*100\n",
    "\n",
    "    sys.stdout.write(\"Progeres: %d%%  %d Out of %d   \\r\" % (progressPercent, (i+1), len(df.index)))\n",
    "    sys.stdout.flush()\n",
    "    \n",
    "    \n",
    "    lst2 = df.ix[index, 0].split('\\t')[1:]\n",
    "    lst1 = [df.ix[index, 0].split('\\t')[0].split('_')[0]]*(len(lst2))\n",
    "    temp = pd.DataFrame()\n",
    "    temp['Phenotype'] = lst1\n",
    "    temp['Gene'] = lst2\n",
    "    df_interactions = pd.concat([df_interactions, temp]) "
   ]
  },
  {
   "cell_type": "code",
   "execution_count": 24,
   "metadata": {
    "collapsed": true
   },
   "outputs": [],
   "source": [
    "df_interactions.reset_index(inplace=True)"
   ]
  },
  {
   "cell_type": "code",
   "execution_count": 26,
   "metadata": {
    "collapsed": true
   },
   "outputs": [],
   "source": [
    "df_interactions.drop('index', axis=1, inplace=True)"
   ]
  },
  {
   "cell_type": "code",
   "execution_count": 27,
   "metadata": {},
   "outputs": [
    {
     "data": {
      "text/html": [
       "<div>\n",
       "<table border=\"1\" class=\"dataframe\">\n",
       "  <thead>\n",
       "    <tr style=\"text-align: right;\">\n",
       "      <th></th>\n",
       "      <th>Phenotype</th>\n",
       "      <th>Gene</th>\n",
       "    </tr>\n",
       "  </thead>\n",
       "  <tbody>\n",
       "    <tr>\n",
       "      <th>0</th>\n",
       "      <td>22q11 Deletion Syndrome(C2936346)</td>\n",
       "      <td>CTD(1283)</td>\n",
       "    </tr>\n",
       "    <tr>\n",
       "      <th>1</th>\n",
       "      <td>22q11 Deletion Syndrome(C2936346)</td>\n",
       "      <td>COMT(1312)</td>\n",
       "    </tr>\n",
       "    <tr>\n",
       "      <th>2</th>\n",
       "      <td>22q11 Deletion Syndrome(C2936346)</td>\n",
       "      <td>JMJD1C(221037)</td>\n",
       "    </tr>\n",
       "    <tr>\n",
       "      <th>3</th>\n",
       "      <td>22q11 Deletion Syndrome(C2936346)</td>\n",
       "      <td>FGF1(2246)</td>\n",
       "    </tr>\n",
       "    <tr>\n",
       "      <th>4</th>\n",
       "      <td>22q11 Deletion Syndrome(C2936346)</td>\n",
       "      <td>FGF10(2255)</td>\n",
       "    </tr>\n",
       "  </tbody>\n",
       "</table>\n",
       "</div>"
      ],
      "text/plain": [
       "                           Phenotype            Gene\n",
       "0  22q11 Deletion Syndrome(C2936346)       CTD(1283)\n",
       "1  22q11 Deletion Syndrome(C2936346)      COMT(1312)\n",
       "2  22q11 Deletion Syndrome(C2936346)  JMJD1C(221037)\n",
       "3  22q11 Deletion Syndrome(C2936346)      FGF1(2246)\n",
       "4  22q11 Deletion Syndrome(C2936346)     FGF10(2255)"
      ]
     },
     "execution_count": 27,
     "metadata": {},
     "output_type": "execute_result"
    }
   ],
   "source": [
    "df_interactions.head()"
   ]
  },
  {
   "cell_type": "code",
   "execution_count": 28,
   "metadata": {},
   "outputs": [
    {
     "name": "stdout",
     "output_type": "stream",
     "text": [
      "Progeres: 99%  572067 Out of 572161   \r"
     ]
    }
   ],
   "source": [
    "lst1 = []\n",
    "lst2 = []\n",
    "\n",
    "for i, index in enumerate(df_interactions.index):\n",
    "    \n",
    "    progressPercent = ((i+1)/len(df_interactions.index))*100\n",
    "\n",
    "    sys.stdout.write(\"Progeres: %d%%  %d Out of %d   \\r\" % (progressPercent, (i+1), len(df_interactions.index)))\n",
    "    sys.stdout.flush()\n",
    "    \n",
    "    lst1.append(df_interactions.ix[index, 'Phenotype'].split('(')[0])\n",
    "    lst2.append(df_interactions.ix[index, 'Gene'].split('(')[0])\n",
    "    \n",
    "df_interactions['Phenotype'] = lst1\n",
    "df_interactions['Gene'] = lst2"
   ]
  },
  {
   "cell_type": "code",
   "execution_count": 29,
   "metadata": {},
   "outputs": [
    {
     "data": {
      "text/html": [
       "<div>\n",
       "<table border=\"1\" class=\"dataframe\">\n",
       "  <thead>\n",
       "    <tr style=\"text-align: right;\">\n",
       "      <th></th>\n",
       "      <th>Phenotype</th>\n",
       "      <th>Gene</th>\n",
       "    </tr>\n",
       "  </thead>\n",
       "  <tbody>\n",
       "    <tr>\n",
       "      <th>0</th>\n",
       "      <td>22q11 Deletion Syndrome</td>\n",
       "      <td>CTD</td>\n",
       "    </tr>\n",
       "    <tr>\n",
       "      <th>1</th>\n",
       "      <td>22q11 Deletion Syndrome</td>\n",
       "      <td>COMT</td>\n",
       "    </tr>\n",
       "    <tr>\n",
       "      <th>2</th>\n",
       "      <td>22q11 Deletion Syndrome</td>\n",
       "      <td>JMJD1C</td>\n",
       "    </tr>\n",
       "    <tr>\n",
       "      <th>3</th>\n",
       "      <td>22q11 Deletion Syndrome</td>\n",
       "      <td>FGF1</td>\n",
       "    </tr>\n",
       "    <tr>\n",
       "      <th>4</th>\n",
       "      <td>22q11 Deletion Syndrome</td>\n",
       "      <td>FGF10</td>\n",
       "    </tr>\n",
       "  </tbody>\n",
       "</table>\n",
       "</div>"
      ],
      "text/plain": [
       "                 Phenotype    Gene\n",
       "0  22q11 Deletion Syndrome     CTD\n",
       "1  22q11 Deletion Syndrome    COMT\n",
       "2  22q11 Deletion Syndrome  JMJD1C\n",
       "3  22q11 Deletion Syndrome    FGF1\n",
       "4  22q11 Deletion Syndrome   FGF10"
      ]
     },
     "execution_count": 29,
     "metadata": {},
     "output_type": "execute_result"
    }
   ],
   "source": [
    "df_interactions.head()"
   ]
  },
  {
   "cell_type": "code",
   "execution_count": 30,
   "metadata": {},
   "outputs": [
    {
     "data": {
      "text/plain": [
       "(572161, 2)"
      ]
     },
     "execution_count": 30,
     "metadata": {},
     "output_type": "execute_result"
    }
   ],
   "source": [
    "df_interactions.shape"
   ]
  },
  {
   "cell_type": "code",
   "execution_count": 31,
   "metadata": {
    "collapsed": true
   },
   "outputs": [],
   "source": [
    "df_interactions.drop_duplicates(inplace=True)"
   ]
  },
  {
   "cell_type": "code",
   "execution_count": 32,
   "metadata": {},
   "outputs": [
    {
     "data": {
      "text/plain": [
       "(548395, 2)"
      ]
     },
     "execution_count": 32,
     "metadata": {},
     "output_type": "execute_result"
    }
   ],
   "source": [
    "df_interactions.shape"
   ]
  },
  {
   "cell_type": "markdown",
   "metadata": {},
   "source": [
    "# Map Gene Symbols To Up-to-date Approved Gene Symbols"
   ]
  },
  {
   "cell_type": "code",
   "execution_count": 34,
   "metadata": {},
   "outputs": [],
   "source": [
    "df_interactions.set_index('Gene', inplace=True)"
   ]
  },
  {
   "cell_type": "code",
   "execution_count": 35,
   "metadata": {},
   "outputs": [
    {
     "name": "stdout",
     "output_type": "stream",
     "text": [
      "Progeres: 100%  548395 Out of 548395   \r"
     ]
    }
   ],
   "source": [
    "uf.mapgenesymbols(df_interactions)"
   ]
  },
  {
   "cell_type": "markdown",
   "metadata": {},
   "source": [
    "# Drop Duplicates"
   ]
  },
  {
   "cell_type": "code",
   "execution_count": 36,
   "metadata": {
    "collapsed": true
   },
   "outputs": [],
   "source": [
    "df_interactions.reset_index(inplace=True)"
   ]
  },
  {
   "cell_type": "code",
   "execution_count": 37,
   "metadata": {
    "collapsed": true
   },
   "outputs": [],
   "source": [
    "df_interactions.drop_duplicates(inplace=True)"
   ]
  },
  {
   "cell_type": "code",
   "execution_count": 38,
   "metadata": {},
   "outputs": [
    {
     "data": {
      "text/plain": [
       "(531075, 2)"
      ]
     },
     "execution_count": 38,
     "metadata": {},
     "output_type": "execute_result"
    }
   ],
   "source": [
    "df_interactions.shape"
   ]
  },
  {
   "cell_type": "markdown",
   "metadata": {},
   "source": [
    "# Create Binary Matrix"
   ]
  },
  {
   "cell_type": "code",
   "execution_count": 39,
   "metadata": {},
   "outputs": [
    {
     "name": "stdout",
     "output_type": "stream",
     "text": [
      "Progeres: 100%  13221 Out of 13221   \r"
     ]
    }
   ],
   "source": [
    "binary_matrix = uf.createBinaryMatix(df_interactions)"
   ]
  },
  {
   "cell_type": "code",
   "execution_count": 40,
   "metadata": {},
   "outputs": [
    {
     "data": {
      "text/html": [
       "<div>\n",
       "<table border=\"1\" class=\"dataframe\">\n",
       "  <thead>\n",
       "    <tr style=\"text-align: right;\">\n",
       "      <th></th>\n",
       "      <th>Forensic Psychiatry</th>\n",
       "      <th>Vomiting</th>\n",
       "      <th>Vaginal Neoplasms</th>\n",
       "      <th>Bone Marrow Neoplasms</th>\n",
       "      <th>Gonadal Dysgenesis, 46,XY</th>\n",
       "      <th>Glaucoma</th>\n",
       "      <th>Respiratory Insufficiency</th>\n",
       "      <th>Tooth Demineralization</th>\n",
       "      <th>22q11 Deletion Syndrome</th>\n",
       "      <th>Prader-Willi Syndrome</th>\n",
       "      <th>...</th>\n",
       "      <th>Amnesia, Transient Global</th>\n",
       "      <th>Accelerated Idioventricular Rhythm</th>\n",
       "      <th>Blepharoptosis</th>\n",
       "      <th>Keratoderma, Palmoplantar</th>\n",
       "      <th>Dementia, Vascular</th>\n",
       "      <th>Lupus Erythematosus, Cutaneous</th>\n",
       "      <th>Pneumonia, Pneumocystis</th>\n",
       "      <th>Supratentorial Neoplasms</th>\n",
       "      <th>Genetic Determinism</th>\n",
       "      <th>Vitamin B 12 Deficiency</th>\n",
       "    </tr>\n",
       "  </thead>\n",
       "  <tbody>\n",
       "    <tr>\n",
       "      <th>SOX14</th>\n",
       "      <td>0</td>\n",
       "      <td>0</td>\n",
       "      <td>0</td>\n",
       "      <td>0</td>\n",
       "      <td>0</td>\n",
       "      <td>0</td>\n",
       "      <td>0</td>\n",
       "      <td>0</td>\n",
       "      <td>0</td>\n",
       "      <td>0</td>\n",
       "      <td>...</td>\n",
       "      <td>0</td>\n",
       "      <td>0</td>\n",
       "      <td>0</td>\n",
       "      <td>0</td>\n",
       "      <td>0</td>\n",
       "      <td>0</td>\n",
       "      <td>0</td>\n",
       "      <td>0</td>\n",
       "      <td>0</td>\n",
       "      <td>0</td>\n",
       "    </tr>\n",
       "    <tr>\n",
       "      <th>MCM4</th>\n",
       "      <td>0</td>\n",
       "      <td>0</td>\n",
       "      <td>0</td>\n",
       "      <td>0</td>\n",
       "      <td>0</td>\n",
       "      <td>0</td>\n",
       "      <td>0</td>\n",
       "      <td>0</td>\n",
       "      <td>0</td>\n",
       "      <td>0</td>\n",
       "      <td>...</td>\n",
       "      <td>0</td>\n",
       "      <td>0</td>\n",
       "      <td>0</td>\n",
       "      <td>0</td>\n",
       "      <td>0</td>\n",
       "      <td>0</td>\n",
       "      <td>0</td>\n",
       "      <td>0</td>\n",
       "      <td>0</td>\n",
       "      <td>0</td>\n",
       "    </tr>\n",
       "    <tr>\n",
       "      <th>ACTA2</th>\n",
       "      <td>0</td>\n",
       "      <td>0</td>\n",
       "      <td>0</td>\n",
       "      <td>0</td>\n",
       "      <td>0</td>\n",
       "      <td>0</td>\n",
       "      <td>0</td>\n",
       "      <td>0</td>\n",
       "      <td>0</td>\n",
       "      <td>0</td>\n",
       "      <td>...</td>\n",
       "      <td>0</td>\n",
       "      <td>0</td>\n",
       "      <td>0</td>\n",
       "      <td>0</td>\n",
       "      <td>0</td>\n",
       "      <td>0</td>\n",
       "      <td>0</td>\n",
       "      <td>0</td>\n",
       "      <td>0</td>\n",
       "      <td>0</td>\n",
       "    </tr>\n",
       "    <tr>\n",
       "      <th>CYTL1</th>\n",
       "      <td>0</td>\n",
       "      <td>0</td>\n",
       "      <td>0</td>\n",
       "      <td>0</td>\n",
       "      <td>0</td>\n",
       "      <td>0</td>\n",
       "      <td>0</td>\n",
       "      <td>0</td>\n",
       "      <td>0</td>\n",
       "      <td>0</td>\n",
       "      <td>...</td>\n",
       "      <td>0</td>\n",
       "      <td>0</td>\n",
       "      <td>0</td>\n",
       "      <td>0</td>\n",
       "      <td>0</td>\n",
       "      <td>0</td>\n",
       "      <td>0</td>\n",
       "      <td>0</td>\n",
       "      <td>0</td>\n",
       "      <td>0</td>\n",
       "    </tr>\n",
       "    <tr>\n",
       "      <th>COL23A1</th>\n",
       "      <td>0</td>\n",
       "      <td>0</td>\n",
       "      <td>0</td>\n",
       "      <td>0</td>\n",
       "      <td>0</td>\n",
       "      <td>0</td>\n",
       "      <td>0</td>\n",
       "      <td>0</td>\n",
       "      <td>0</td>\n",
       "      <td>0</td>\n",
       "      <td>...</td>\n",
       "      <td>0</td>\n",
       "      <td>0</td>\n",
       "      <td>0</td>\n",
       "      <td>0</td>\n",
       "      <td>0</td>\n",
       "      <td>0</td>\n",
       "      <td>0</td>\n",
       "      <td>0</td>\n",
       "      <td>0</td>\n",
       "      <td>0</td>\n",
       "    </tr>\n",
       "  </tbody>\n",
       "</table>\n",
       "<p>5 rows × 2911 columns</p>\n",
       "</div>"
      ],
      "text/plain": [
       "         Forensic Psychiatry  Vomiting  Vaginal Neoplasms  \\\n",
       "SOX14                      0         0                  0   \n",
       "MCM4                       0         0                  0   \n",
       "ACTA2                      0         0                  0   \n",
       "CYTL1                      0         0                  0   \n",
       "COL23A1                    0         0                  0   \n",
       "\n",
       "         Bone Marrow Neoplasms  Gonadal Dysgenesis, 46,XY  Glaucoma  \\\n",
       "SOX14                        0                          0         0   \n",
       "MCM4                         0                          0         0   \n",
       "ACTA2                        0                          0         0   \n",
       "CYTL1                        0                          0         0   \n",
       "COL23A1                      0                          0         0   \n",
       "\n",
       "         Respiratory Insufficiency  Tooth Demineralization  \\\n",
       "SOX14                            0                       0   \n",
       "MCM4                             0                       0   \n",
       "ACTA2                            0                       0   \n",
       "CYTL1                            0                       0   \n",
       "COL23A1                          0                       0   \n",
       "\n",
       "         22q11 Deletion Syndrome  Prader-Willi Syndrome  \\\n",
       "SOX14                          0                      0   \n",
       "MCM4                           0                      0   \n",
       "ACTA2                          0                      0   \n",
       "CYTL1                          0                      0   \n",
       "COL23A1                        0                      0   \n",
       "\n",
       "                  ...             Amnesia, Transient Global  \\\n",
       "SOX14             ...                                     0   \n",
       "MCM4              ...                                     0   \n",
       "ACTA2             ...                                     0   \n",
       "CYTL1             ...                                     0   \n",
       "COL23A1           ...                                     0   \n",
       "\n",
       "         Accelerated Idioventricular Rhythm  Blepharoptosis  \\\n",
       "SOX14                                     0               0   \n",
       "MCM4                                      0               0   \n",
       "ACTA2                                     0               0   \n",
       "CYTL1                                     0               0   \n",
       "COL23A1                                   0               0   \n",
       "\n",
       "         Keratoderma, Palmoplantar  Dementia, Vascular  \\\n",
       "SOX14                            0                   0   \n",
       "MCM4                             0                   0   \n",
       "ACTA2                            0                   0   \n",
       "CYTL1                            0                   0   \n",
       "COL23A1                          0                   0   \n",
       "\n",
       "         Lupus Erythematosus, Cutaneous  Pneumonia, Pneumocystis  \\\n",
       "SOX14                                 0                        0   \n",
       "MCM4                                  0                        0   \n",
       "ACTA2                                 0                        0   \n",
       "CYTL1                                 0                        0   \n",
       "COL23A1                               0                        0   \n",
       "\n",
       "         Supratentorial Neoplasms  Genetic Determinism  \\\n",
       "SOX14                           0                    0   \n",
       "MCM4                            0                    0   \n",
       "ACTA2                           0                    0   \n",
       "CYTL1                           0                    0   \n",
       "COL23A1                         0                    0   \n",
       "\n",
       "         Vitamin B 12 Deficiency  \n",
       "SOX14                          0  \n",
       "MCM4                           0  \n",
       "ACTA2                          0  \n",
       "CYTL1                          0  \n",
       "COL23A1                        0  \n",
       "\n",
       "[5 rows x 2911 columns]"
      ]
     },
     "execution_count": 40,
     "metadata": {},
     "output_type": "execute_result"
    }
   ],
   "source": [
    "binary_matrix.head()"
   ]
  },
  {
   "cell_type": "code",
   "execution_count": 41,
   "metadata": {},
   "outputs": [
    {
     "data": {
      "text/plain": [
       "(13221, 2911)"
      ]
     },
     "execution_count": 41,
     "metadata": {},
     "output_type": "execute_result"
    }
   ],
   "source": [
    "binary_matrix.shape"
   ]
  },
  {
   "cell_type": "markdown",
   "metadata": {},
   "source": [
    "# Save Binary Matrix"
   ]
  },
  {
   "cell_type": "code",
   "execution_count": 42,
   "metadata": {
    "collapsed": true
   },
   "outputs": [],
   "source": [
    "filename = '~/./Documents/Harmonizome/Public Health Genomics Knowledge Base (PHGKB)/Output/phgkb_binary_matrix_%s.tsv.zip'% str(datetime.date.today())[0:7].replace('-', '_')\n",
    "binary_matrix.to_csv(filename, sep='\\t', compression='gzip')"
   ]
  },
  {
   "cell_type": "markdown",
   "metadata": {},
   "source": [
    "# Create Gene Set Library"
   ]
  },
  {
   "cell_type": "code",
   "execution_count": 43,
   "metadata": {
    "collapsed": true
   },
   "outputs": [],
   "source": [
    "path = '/Users/moshesilverstein/Documents/Harmonizome/Public Health Genomics Knowledge Base (PHGKB)/Output/'"
   ]
  },
  {
   "cell_type": "code",
   "execution_count": 44,
   "metadata": {
    "collapsed": true
   },
   "outputs": [],
   "source": [
    "name = 'phgkb_gene_set'"
   ]
  },
  {
   "cell_type": "code",
   "execution_count": 45,
   "metadata": {},
   "outputs": [
    {
     "name": "stdout",
     "output_type": "stream",
     "text": [
      "Progeres: 100%  2911 Out of 2911   \r"
     ]
    }
   ],
   "source": [
    "uf.createUpGeneSetLib(binary_matrix, path, name)"
   ]
  },
  {
   "cell_type": "markdown",
   "metadata": {},
   "source": [
    "# Create Attribute Library"
   ]
  },
  {
   "cell_type": "code",
   "execution_count": 46,
   "metadata": {
    "collapsed": true
   },
   "outputs": [],
   "source": [
    "path = '/Users/moshesilverstein/Documents/Harmonizome/Public Health Genomics Knowledge Base (PHGKB)/Output/'"
   ]
  },
  {
   "cell_type": "code",
   "execution_count": 47,
   "metadata": {
    "collapsed": true
   },
   "outputs": [],
   "source": [
    "name = 'phgkb_attribute_set'"
   ]
  },
  {
   "cell_type": "code",
   "execution_count": 48,
   "metadata": {},
   "outputs": [
    {
     "name": "stdout",
     "output_type": "stream",
     "text": [
      "Progeres: 100%  13221 Out of 13221   \r"
     ]
    }
   ],
   "source": [
    "uf.createUpAttributeSetLib(binary_matrix, path, name)"
   ]
  },
  {
   "cell_type": "markdown",
   "metadata": {},
   "source": [
    "# Create Gene Similarity Matrix"
   ]
  },
  {
   "cell_type": "code",
   "execution_count": 49,
   "metadata": {
    "collapsed": true
   },
   "outputs": [],
   "source": [
    "gene_similarity_matix = uf.createSimilarityMatrix(binary_matrix, 'jaccard')"
   ]
  },
  {
   "cell_type": "code",
   "execution_count": 50,
   "metadata": {},
   "outputs": [
    {
     "data": {
      "text/html": [
       "<div>\n",
       "<table border=\"1\" class=\"dataframe\">\n",
       "  <thead>\n",
       "    <tr style=\"text-align: right;\">\n",
       "      <th></th>\n",
       "      <th>SOX14</th>\n",
       "      <th>MCM4</th>\n",
       "      <th>ACTA2</th>\n",
       "      <th>CYTL1</th>\n",
       "      <th>COL23A1</th>\n",
       "      <th>ORAI1</th>\n",
       "      <th>CHAC1</th>\n",
       "      <th>NKPD1</th>\n",
       "      <th>ADA</th>\n",
       "      <th>KCTD13</th>\n",
       "      <th>...</th>\n",
       "      <th>CDKL1</th>\n",
       "      <th>CYP19A1</th>\n",
       "      <th>CYP8B1</th>\n",
       "      <th>SHE</th>\n",
       "      <th>STON2</th>\n",
       "      <th>COMP</th>\n",
       "      <th>MAP1LC3A</th>\n",
       "      <th>DGKB</th>\n",
       "      <th>HTRA2</th>\n",
       "      <th>EQTN</th>\n",
       "    </tr>\n",
       "  </thead>\n",
       "  <tbody>\n",
       "    <tr>\n",
       "      <th>SOX14</th>\n",
       "      <td>1.000000</td>\n",
       "      <td>0.040816</td>\n",
       "      <td>0.025641</td>\n",
       "      <td>0.250000</td>\n",
       "      <td>0.032258</td>\n",
       "      <td>0.041667</td>\n",
       "      <td>0.222222</td>\n",
       "      <td>0.0</td>\n",
       "      <td>0.022222</td>\n",
       "      <td>0.000000</td>\n",
       "      <td>...</td>\n",
       "      <td>0.000000</td>\n",
       "      <td>0.012422</td>\n",
       "      <td>0.065217</td>\n",
       "      <td>0.000000</td>\n",
       "      <td>0.000000</td>\n",
       "      <td>0.034483</td>\n",
       "      <td>0.027778</td>\n",
       "      <td>0.053571</td>\n",
       "      <td>0.031250</td>\n",
       "      <td>0.000000</td>\n",
       "    </tr>\n",
       "    <tr>\n",
       "      <th>MCM4</th>\n",
       "      <td>0.040816</td>\n",
       "      <td>1.000000</td>\n",
       "      <td>0.160377</td>\n",
       "      <td>0.000000</td>\n",
       "      <td>0.056338</td>\n",
       "      <td>0.081395</td>\n",
       "      <td>0.048387</td>\n",
       "      <td>0.0</td>\n",
       "      <td>0.135000</td>\n",
       "      <td>0.000000</td>\n",
       "      <td>...</td>\n",
       "      <td>0.020000</td>\n",
       "      <td>0.111446</td>\n",
       "      <td>0.150000</td>\n",
       "      <td>0.037736</td>\n",
       "      <td>0.046154</td>\n",
       "      <td>0.072917</td>\n",
       "      <td>0.333333</td>\n",
       "      <td>0.108696</td>\n",
       "      <td>0.055556</td>\n",
       "      <td>0.020000</td>\n",
       "    </tr>\n",
       "    <tr>\n",
       "      <th>ACTA2</th>\n",
       "      <td>0.025641</td>\n",
       "      <td>0.160377</td>\n",
       "      <td>1.000000</td>\n",
       "      <td>0.013158</td>\n",
       "      <td>0.142857</td>\n",
       "      <td>0.129630</td>\n",
       "      <td>0.093023</td>\n",
       "      <td>0.0</td>\n",
       "      <td>0.174312</td>\n",
       "      <td>0.012821</td>\n",
       "      <td>...</td>\n",
       "      <td>0.025641</td>\n",
       "      <td>0.156977</td>\n",
       "      <td>0.070796</td>\n",
       "      <td>0.076923</td>\n",
       "      <td>0.065934</td>\n",
       "      <td>0.320000</td>\n",
       "      <td>0.068627</td>\n",
       "      <td>0.190909</td>\n",
       "      <td>0.129032</td>\n",
       "      <td>0.025641</td>\n",
       "    </tr>\n",
       "    <tr>\n",
       "      <th>CYTL1</th>\n",
       "      <td>0.250000</td>\n",
       "      <td>0.000000</td>\n",
       "      <td>0.013158</td>\n",
       "      <td>1.000000</td>\n",
       "      <td>0.035714</td>\n",
       "      <td>0.021739</td>\n",
       "      <td>0.055556</td>\n",
       "      <td>0.0</td>\n",
       "      <td>0.005556</td>\n",
       "      <td>0.000000</td>\n",
       "      <td>...</td>\n",
       "      <td>0.000000</td>\n",
       "      <td>0.003106</td>\n",
       "      <td>0.022222</td>\n",
       "      <td>0.000000</td>\n",
       "      <td>0.000000</td>\n",
       "      <td>0.017857</td>\n",
       "      <td>0.000000</td>\n",
       "      <td>0.018182</td>\n",
       "      <td>0.034483</td>\n",
       "      <td>0.000000</td>\n",
       "    </tr>\n",
       "    <tr>\n",
       "      <th>COL23A1</th>\n",
       "      <td>0.032258</td>\n",
       "      <td>0.056338</td>\n",
       "      <td>0.142857</td>\n",
       "      <td>0.035714</td>\n",
       "      <td>1.000000</td>\n",
       "      <td>0.138462</td>\n",
       "      <td>0.069767</td>\n",
       "      <td>0.0</td>\n",
       "      <td>0.072165</td>\n",
       "      <td>0.033333</td>\n",
       "      <td>...</td>\n",
       "      <td>0.142857</td>\n",
       "      <td>0.067073</td>\n",
       "      <td>0.140625</td>\n",
       "      <td>0.000000</td>\n",
       "      <td>0.166667</td>\n",
       "      <td>0.150685</td>\n",
       "      <td>0.033898</td>\n",
       "      <td>0.202899</td>\n",
       "      <td>0.140000</td>\n",
       "      <td>0.142857</td>\n",
       "    </tr>\n",
       "  </tbody>\n",
       "</table>\n",
       "<p>5 rows × 13221 columns</p>\n",
       "</div>"
      ],
      "text/plain": [
       "            SOX14      MCM4     ACTA2     CYTL1   COL23A1     ORAI1     CHAC1  \\\n",
       "SOX14    1.000000  0.040816  0.025641  0.250000  0.032258  0.041667  0.222222   \n",
       "MCM4     0.040816  1.000000  0.160377  0.000000  0.056338  0.081395  0.048387   \n",
       "ACTA2    0.025641  0.160377  1.000000  0.013158  0.142857  0.129630  0.093023   \n",
       "CYTL1    0.250000  0.000000  0.013158  1.000000  0.035714  0.021739  0.055556   \n",
       "COL23A1  0.032258  0.056338  0.142857  0.035714  1.000000  0.138462  0.069767   \n",
       "\n",
       "         NKPD1       ADA    KCTD13    ...        CDKL1   CYP19A1    CYP8B1  \\\n",
       "SOX14      0.0  0.022222  0.000000    ...     0.000000  0.012422  0.065217   \n",
       "MCM4       0.0  0.135000  0.000000    ...     0.020000  0.111446  0.150000   \n",
       "ACTA2      0.0  0.174312  0.012821    ...     0.025641  0.156977  0.070796   \n",
       "CYTL1      0.0  0.005556  0.000000    ...     0.000000  0.003106  0.022222   \n",
       "COL23A1    0.0  0.072165  0.033333    ...     0.142857  0.067073  0.140625   \n",
       "\n",
       "              SHE     STON2      COMP  MAP1LC3A      DGKB     HTRA2      EQTN  \n",
       "SOX14    0.000000  0.000000  0.034483  0.027778  0.053571  0.031250  0.000000  \n",
       "MCM4     0.037736  0.046154  0.072917  0.333333  0.108696  0.055556  0.020000  \n",
       "ACTA2    0.076923  0.065934  0.320000  0.068627  0.190909  0.129032  0.025641  \n",
       "CYTL1    0.000000  0.000000  0.017857  0.000000  0.018182  0.034483  0.000000  \n",
       "COL23A1  0.000000  0.166667  0.150685  0.033898  0.202899  0.140000  0.142857  \n",
       "\n",
       "[5 rows x 13221 columns]"
      ]
     },
     "execution_count": 50,
     "metadata": {},
     "output_type": "execute_result"
    }
   ],
   "source": [
    "gene_similarity_matix.head()"
   ]
  },
  {
   "cell_type": "markdown",
   "metadata": {},
   "source": [
    "# Save Gene Similarity Matrix"
   ]
  },
  {
   "cell_type": "code",
   "execution_count": 51,
   "metadata": {
    "collapsed": true
   },
   "outputs": [],
   "source": [
    "filename = '~/./Documents/Harmonizome/Public Health Genomics Knowledge Base (PHGKB)/Output/phgkb_gene_similarity_matix_%s.tsv.zip'% str(datetime.date.today())[0:7].replace('-', '_')\n",
    "gene_similarity_matix.to_csv(filename, sep='\\t', compression='gzip')"
   ]
  },
  {
   "cell_type": "markdown",
   "metadata": {},
   "source": [
    "# Create Attribute Similarity matrix"
   ]
  },
  {
   "cell_type": "code",
   "execution_count": 52,
   "metadata": {
    "collapsed": true
   },
   "outputs": [],
   "source": [
    "attribute_similarity_matix = uf.createSimilarityMatrix(binary_matrix.T, 'jaccard')"
   ]
  },
  {
   "cell_type": "code",
   "execution_count": 53,
   "metadata": {},
   "outputs": [
    {
     "data": {
      "text/html": [
       "<div>\n",
       "<table border=\"1\" class=\"dataframe\">\n",
       "  <thead>\n",
       "    <tr style=\"text-align: right;\">\n",
       "      <th></th>\n",
       "      <th>Forensic Psychiatry</th>\n",
       "      <th>Vomiting</th>\n",
       "      <th>Vaginal Neoplasms</th>\n",
       "      <th>Bone Marrow Neoplasms</th>\n",
       "      <th>Gonadal Dysgenesis, 46,XY</th>\n",
       "      <th>Glaucoma</th>\n",
       "      <th>Respiratory Insufficiency</th>\n",
       "      <th>Tooth Demineralization</th>\n",
       "      <th>22q11 Deletion Syndrome</th>\n",
       "      <th>Prader-Willi Syndrome</th>\n",
       "      <th>...</th>\n",
       "      <th>Amnesia, Transient Global</th>\n",
       "      <th>Accelerated Idioventricular Rhythm</th>\n",
       "      <th>Blepharoptosis</th>\n",
       "      <th>Keratoderma, Palmoplantar</th>\n",
       "      <th>Dementia, Vascular</th>\n",
       "      <th>Lupus Erythematosus, Cutaneous</th>\n",
       "      <th>Pneumonia, Pneumocystis</th>\n",
       "      <th>Supratentorial Neoplasms</th>\n",
       "      <th>Genetic Determinism</th>\n",
       "      <th>Vitamin B 12 Deficiency</th>\n",
       "    </tr>\n",
       "  </thead>\n",
       "  <tbody>\n",
       "    <tr>\n",
       "      <th>Forensic Psychiatry</th>\n",
       "      <td>1.000000</td>\n",
       "      <td>0.015873</td>\n",
       "      <td>0.0</td>\n",
       "      <td>0.000000</td>\n",
       "      <td>0.071429</td>\n",
       "      <td>0.000000</td>\n",
       "      <td>0.010582</td>\n",
       "      <td>0.000000</td>\n",
       "      <td>0.030303</td>\n",
       "      <td>0.047619</td>\n",
       "      <td>...</td>\n",
       "      <td>0.000000</td>\n",
       "      <td>0.0</td>\n",
       "      <td>0.0</td>\n",
       "      <td>0.000000</td>\n",
       "      <td>0.015385</td>\n",
       "      <td>0.000000</td>\n",
       "      <td>0.000000</td>\n",
       "      <td>0.021277</td>\n",
       "      <td>0.000000</td>\n",
       "      <td>0.029412</td>\n",
       "    </tr>\n",
       "    <tr>\n",
       "      <th>Vomiting</th>\n",
       "      <td>0.015873</td>\n",
       "      <td>1.000000</td>\n",
       "      <td>0.0</td>\n",
       "      <td>0.007092</td>\n",
       "      <td>0.000000</td>\n",
       "      <td>0.036232</td>\n",
       "      <td>0.033898</td>\n",
       "      <td>0.009852</td>\n",
       "      <td>0.013699</td>\n",
       "      <td>0.007407</td>\n",
       "      <td>...</td>\n",
       "      <td>0.008264</td>\n",
       "      <td>0.0</td>\n",
       "      <td>0.0</td>\n",
       "      <td>0.007874</td>\n",
       "      <td>0.034483</td>\n",
       "      <td>0.019868</td>\n",
       "      <td>0.015038</td>\n",
       "      <td>0.065789</td>\n",
       "      <td>0.014493</td>\n",
       "      <td>0.041958</td>\n",
       "    </tr>\n",
       "    <tr>\n",
       "      <th>Vaginal Neoplasms</th>\n",
       "      <td>0.000000</td>\n",
       "      <td>0.000000</td>\n",
       "      <td>1.0</td>\n",
       "      <td>0.000000</td>\n",
       "      <td>0.000000</td>\n",
       "      <td>0.000000</td>\n",
       "      <td>0.000000</td>\n",
       "      <td>0.000000</td>\n",
       "      <td>0.000000</td>\n",
       "      <td>0.000000</td>\n",
       "      <td>...</td>\n",
       "      <td>0.000000</td>\n",
       "      <td>0.0</td>\n",
       "      <td>0.0</td>\n",
       "      <td>0.000000</td>\n",
       "      <td>0.000000</td>\n",
       "      <td>0.000000</td>\n",
       "      <td>0.000000</td>\n",
       "      <td>0.000000</td>\n",
       "      <td>0.000000</td>\n",
       "      <td>0.000000</td>\n",
       "    </tr>\n",
       "    <tr>\n",
       "      <th>Bone Marrow Neoplasms</th>\n",
       "      <td>0.000000</td>\n",
       "      <td>0.007092</td>\n",
       "      <td>0.0</td>\n",
       "      <td>1.000000</td>\n",
       "      <td>0.000000</td>\n",
       "      <td>0.009202</td>\n",
       "      <td>0.009852</td>\n",
       "      <td>0.000000</td>\n",
       "      <td>0.000000</td>\n",
       "      <td>0.000000</td>\n",
       "      <td>...</td>\n",
       "      <td>0.000000</td>\n",
       "      <td>0.0</td>\n",
       "      <td>0.0</td>\n",
       "      <td>0.000000</td>\n",
       "      <td>0.000000</td>\n",
       "      <td>0.000000</td>\n",
       "      <td>0.000000</td>\n",
       "      <td>0.033333</td>\n",
       "      <td>0.000000</td>\n",
       "      <td>0.000000</td>\n",
       "    </tr>\n",
       "    <tr>\n",
       "      <th>Gonadal Dysgenesis, 46,XY</th>\n",
       "      <td>0.071429</td>\n",
       "      <td>0.000000</td>\n",
       "      <td>0.0</td>\n",
       "      <td>0.000000</td>\n",
       "      <td>1.000000</td>\n",
       "      <td>0.000000</td>\n",
       "      <td>0.000000</td>\n",
       "      <td>0.000000</td>\n",
       "      <td>0.000000</td>\n",
       "      <td>0.045455</td>\n",
       "      <td>...</td>\n",
       "      <td>0.000000</td>\n",
       "      <td>0.0</td>\n",
       "      <td>0.0</td>\n",
       "      <td>0.000000</td>\n",
       "      <td>0.015152</td>\n",
       "      <td>0.000000</td>\n",
       "      <td>0.000000</td>\n",
       "      <td>0.000000</td>\n",
       "      <td>0.000000</td>\n",
       "      <td>0.000000</td>\n",
       "    </tr>\n",
       "  </tbody>\n",
       "</table>\n",
       "<p>5 rows × 2911 columns</p>\n",
       "</div>"
      ],
      "text/plain": [
       "                           Forensic Psychiatry  Vomiting  Vaginal Neoplasms  \\\n",
       "Forensic Psychiatry                   1.000000  0.015873                0.0   \n",
       "Vomiting                              0.015873  1.000000                0.0   \n",
       "Vaginal Neoplasms                     0.000000  0.000000                1.0   \n",
       "Bone Marrow Neoplasms                 0.000000  0.007092                0.0   \n",
       "Gonadal Dysgenesis, 46,XY             0.071429  0.000000                0.0   \n",
       "\n",
       "                           Bone Marrow Neoplasms  Gonadal Dysgenesis, 46,XY  \\\n",
       "Forensic Psychiatry                     0.000000                   0.071429   \n",
       "Vomiting                                0.007092                   0.000000   \n",
       "Vaginal Neoplasms                       0.000000                   0.000000   \n",
       "Bone Marrow Neoplasms                   1.000000                   0.000000   \n",
       "Gonadal Dysgenesis, 46,XY               0.000000                   1.000000   \n",
       "\n",
       "                           Glaucoma  Respiratory Insufficiency  \\\n",
       "Forensic Psychiatry        0.000000                   0.010582   \n",
       "Vomiting                   0.036232                   0.033898   \n",
       "Vaginal Neoplasms          0.000000                   0.000000   \n",
       "Bone Marrow Neoplasms      0.009202                   0.009852   \n",
       "Gonadal Dysgenesis, 46,XY  0.000000                   0.000000   \n",
       "\n",
       "                           Tooth Demineralization  22q11 Deletion Syndrome  \\\n",
       "Forensic Psychiatry                      0.000000                 0.030303   \n",
       "Vomiting                                 0.009852                 0.013699   \n",
       "Vaginal Neoplasms                        0.000000                 0.000000   \n",
       "Bone Marrow Neoplasms                    0.000000                 0.000000   \n",
       "Gonadal Dysgenesis, 46,XY                0.000000                 0.000000   \n",
       "\n",
       "                           Prader-Willi Syndrome           ...             \\\n",
       "Forensic Psychiatry                     0.047619           ...              \n",
       "Vomiting                                0.007407           ...              \n",
       "Vaginal Neoplasms                       0.000000           ...              \n",
       "Bone Marrow Neoplasms                   0.000000           ...              \n",
       "Gonadal Dysgenesis, 46,XY               0.045455           ...              \n",
       "\n",
       "                           Amnesia, Transient Global  \\\n",
       "Forensic Psychiatry                         0.000000   \n",
       "Vomiting                                    0.008264   \n",
       "Vaginal Neoplasms                           0.000000   \n",
       "Bone Marrow Neoplasms                       0.000000   \n",
       "Gonadal Dysgenesis, 46,XY                   0.000000   \n",
       "\n",
       "                           Accelerated Idioventricular Rhythm  Blepharoptosis  \\\n",
       "Forensic Psychiatry                                       0.0             0.0   \n",
       "Vomiting                                                  0.0             0.0   \n",
       "Vaginal Neoplasms                                         0.0             0.0   \n",
       "Bone Marrow Neoplasms                                     0.0             0.0   \n",
       "Gonadal Dysgenesis, 46,XY                                 0.0             0.0   \n",
       "\n",
       "                           Keratoderma, Palmoplantar  Dementia, Vascular  \\\n",
       "Forensic Psychiatry                         0.000000            0.015385   \n",
       "Vomiting                                    0.007874            0.034483   \n",
       "Vaginal Neoplasms                           0.000000            0.000000   \n",
       "Bone Marrow Neoplasms                       0.000000            0.000000   \n",
       "Gonadal Dysgenesis, 46,XY                   0.000000            0.015152   \n",
       "\n",
       "                           Lupus Erythematosus, Cutaneous  \\\n",
       "Forensic Psychiatry                              0.000000   \n",
       "Vomiting                                         0.019868   \n",
       "Vaginal Neoplasms                                0.000000   \n",
       "Bone Marrow Neoplasms                            0.000000   \n",
       "Gonadal Dysgenesis, 46,XY                        0.000000   \n",
       "\n",
       "                           Pneumonia, Pneumocystis  Supratentorial Neoplasms  \\\n",
       "Forensic Psychiatry                       0.000000                  0.021277   \n",
       "Vomiting                                  0.015038                  0.065789   \n",
       "Vaginal Neoplasms                         0.000000                  0.000000   \n",
       "Bone Marrow Neoplasms                     0.000000                  0.033333   \n",
       "Gonadal Dysgenesis, 46,XY                 0.000000                  0.000000   \n",
       "\n",
       "                           Genetic Determinism  Vitamin B 12 Deficiency  \n",
       "Forensic Psychiatry                   0.000000                 0.029412  \n",
       "Vomiting                              0.014493                 0.041958  \n",
       "Vaginal Neoplasms                     0.000000                 0.000000  \n",
       "Bone Marrow Neoplasms                 0.000000                 0.000000  \n",
       "Gonadal Dysgenesis, 46,XY             0.000000                 0.000000  \n",
       "\n",
       "[5 rows x 2911 columns]"
      ]
     },
     "execution_count": 53,
     "metadata": {},
     "output_type": "execute_result"
    }
   ],
   "source": [
    "attribute_similarity_matix.head()"
   ]
  },
  {
   "cell_type": "markdown",
   "metadata": {},
   "source": [
    "# Save Attribute Similarity Matrix"
   ]
  },
  {
   "cell_type": "code",
   "execution_count": 54,
   "metadata": {
    "collapsed": true
   },
   "outputs": [],
   "source": [
    "filename = '~/./Documents/Harmonizome/Public Health Genomics Knowledge Base (PHGKB)/Output/phgkb_attribute_similarity_matix_%s.tsv.zip'% str(datetime.date.today())[0:7].replace('-', '_')\n",
    "attribute_similarity_matix.to_csv(filename, sep='\\t', compression='gzip')"
   ]
  },
  {
   "cell_type": "markdown",
   "metadata": {},
   "source": [
    "# Create Gene List"
   ]
  },
  {
   "cell_type": "code",
   "execution_count": 55,
   "metadata": {},
   "outputs": [
    {
     "name": "stdout",
     "output_type": "stream",
     "text": [
      "Progeres: 100%  13221 Out of 13221   \r"
     ]
    }
   ],
   "source": [
    "gene_list = uf.createGeneList(binary_matrix)"
   ]
  },
  {
   "cell_type": "code",
   "execution_count": 56,
   "metadata": {},
   "outputs": [
    {
     "data": {
      "text/html": [
       "<div>\n",
       "<table border=\"1\" class=\"dataframe\">\n",
       "  <thead>\n",
       "    <tr style=\"text-align: right;\">\n",
       "      <th></th>\n",
       "      <th>GeneSym</th>\n",
       "      <th>GeneID</th>\n",
       "    </tr>\n",
       "  </thead>\n",
       "  <tbody>\n",
       "    <tr>\n",
       "      <th>0</th>\n",
       "      <td>SOX14</td>\n",
       "      <td>8403</td>\n",
       "    </tr>\n",
       "    <tr>\n",
       "      <th>1</th>\n",
       "      <td>MCM4</td>\n",
       "      <td>4173</td>\n",
       "    </tr>\n",
       "    <tr>\n",
       "      <th>2</th>\n",
       "      <td>ACTA2</td>\n",
       "      <td>59</td>\n",
       "    </tr>\n",
       "    <tr>\n",
       "      <th>3</th>\n",
       "      <td>CYTL1</td>\n",
       "      <td>54360</td>\n",
       "    </tr>\n",
       "    <tr>\n",
       "      <th>4</th>\n",
       "      <td>COL23A1</td>\n",
       "      <td>91522</td>\n",
       "    </tr>\n",
       "  </tbody>\n",
       "</table>\n",
       "</div>"
      ],
      "text/plain": [
       "   GeneSym GeneID\n",
       "0    SOX14   8403\n",
       "1     MCM4   4173\n",
       "2    ACTA2     59\n",
       "3    CYTL1  54360\n",
       "4  COL23A1  91522"
      ]
     },
     "execution_count": 56,
     "metadata": {},
     "output_type": "execute_result"
    }
   ],
   "source": [
    "gene_list.head()"
   ]
  },
  {
   "cell_type": "code",
   "execution_count": 57,
   "metadata": {},
   "outputs": [
    {
     "data": {
      "text/plain": [
       "(13221, 2)"
      ]
     },
     "execution_count": 57,
     "metadata": {},
     "output_type": "execute_result"
    }
   ],
   "source": [
    "gene_list.shape"
   ]
  },
  {
   "cell_type": "markdown",
   "metadata": {},
   "source": [
    "# Save Gene List"
   ]
  },
  {
   "cell_type": "code",
   "execution_count": 58,
   "metadata": {
    "collapsed": true
   },
   "outputs": [],
   "source": [
    "filename = '~/./Documents/Harmonizome/Public Health Genomics Knowledge Base (PHGKB)/Output/phgkb_gene_list_%s.tsv.zip'% str(datetime.date.today())[0:7].replace('-', '_')\n",
    "gene_list.to_csv(filename, sep='\\t', index=False, compression='gzip')"
   ]
  },
  {
   "cell_type": "markdown",
   "metadata": {},
   "source": [
    "# Create Attribute List"
   ]
  },
  {
   "cell_type": "code",
   "execution_count": 59,
   "metadata": {
    "collapsed": true
   },
   "outputs": [],
   "source": [
    "attribute_list = uf.createAttributeList(binary_matrix)"
   ]
  },
  {
   "cell_type": "code",
   "execution_count": 60,
   "metadata": {},
   "outputs": [
    {
     "data": {
      "text/html": [
       "<div>\n",
       "<table border=\"1\" class=\"dataframe\">\n",
       "  <thead>\n",
       "    <tr style=\"text-align: right;\">\n",
       "      <th></th>\n",
       "      <th>Attributes</th>\n",
       "    </tr>\n",
       "  </thead>\n",
       "  <tbody>\n",
       "    <tr>\n",
       "      <th>0</th>\n",
       "      <td>Forensic Psychiatry</td>\n",
       "    </tr>\n",
       "    <tr>\n",
       "      <th>1</th>\n",
       "      <td>Vomiting</td>\n",
       "    </tr>\n",
       "    <tr>\n",
       "      <th>2</th>\n",
       "      <td>Vaginal Neoplasms</td>\n",
       "    </tr>\n",
       "    <tr>\n",
       "      <th>3</th>\n",
       "      <td>Bone Marrow Neoplasms</td>\n",
       "    </tr>\n",
       "    <tr>\n",
       "      <th>4</th>\n",
       "      <td>Gonadal Dysgenesis, 46,XY</td>\n",
       "    </tr>\n",
       "  </tbody>\n",
       "</table>\n",
       "</div>"
      ],
      "text/plain": [
       "                  Attributes\n",
       "0        Forensic Psychiatry\n",
       "1                   Vomiting\n",
       "2          Vaginal Neoplasms\n",
       "3      Bone Marrow Neoplasms\n",
       "4  Gonadal Dysgenesis, 46,XY"
      ]
     },
     "execution_count": 60,
     "metadata": {},
     "output_type": "execute_result"
    }
   ],
   "source": [
    "attribute_list.head()"
   ]
  },
  {
   "cell_type": "code",
   "execution_count": 61,
   "metadata": {},
   "outputs": [
    {
     "data": {
      "text/plain": [
       "(2911, 1)"
      ]
     },
     "execution_count": 61,
     "metadata": {},
     "output_type": "execute_result"
    }
   ],
   "source": [
    "attribute_list.shape"
   ]
  },
  {
   "cell_type": "markdown",
   "metadata": {},
   "source": [
    "# Save Attribute List"
   ]
  },
  {
   "cell_type": "code",
   "execution_count": 62,
   "metadata": {
    "collapsed": true
   },
   "outputs": [],
   "source": [
    "filename = '~/./Documents/Harmonizome/Public Health Genomics Knowledge Base (PHGKB)/Output/phgkb_attribute_list_%s.tsv.zip'% str(datetime.date.today())[0:7].replace('-', '_')\n",
    "attribute_list.to_csv(filename, sep='\\t', index=False, compression='gzip')"
   ]
  },
  {
   "cell_type": "markdown",
   "metadata": {},
   "source": [
    "# Create Gene-Attribute Edge List"
   ]
  },
  {
   "cell_type": "code",
   "execution_count": 63,
   "metadata": {
    "collapsed": true
   },
   "outputs": [],
   "source": [
    "path = '/Users/moshesilverstein/Documents/Harmonizome/Public Health Genomics Knowledge Base (PHGKB)/Output/'"
   ]
  },
  {
   "cell_type": "code",
   "execution_count": 64,
   "metadata": {
    "collapsed": true
   },
   "outputs": [],
   "source": [
    "name = 'phgkb_gene_attribute_edge_list'"
   ]
  },
  {
   "cell_type": "code",
   "execution_count": 65,
   "metadata": {},
   "outputs": [
    {
     "name": "stdout",
     "output_type": "stream",
     "text": [
      "Progeres: 100%  2911 Out of 2911   \n",
      "\n",
      " The number of statisticaly relevent gene-attribute associations is: 531075\n"
     ]
    }
   ],
   "source": [
    "uf.createGeneAttributeEdgeList(binary_matrix, gene_list, path, name)"
   ]
  }
 ],
 "metadata": {
  "kernelspec": {
   "display_name": "Python [default]",
   "language": "python",
   "name": "python3"
  },
  "language_info": {
   "codemirror_mode": {
    "name": "ipython",
    "version": 3
   },
   "file_extension": ".py",
   "mimetype": "text/x-python",
   "name": "python",
   "nbconvert_exporter": "python",
   "pygments_lexer": "ipython3",
   "version": "3.5.2"
  }
 },
 "nbformat": 4,
 "nbformat_minor": 2
}
