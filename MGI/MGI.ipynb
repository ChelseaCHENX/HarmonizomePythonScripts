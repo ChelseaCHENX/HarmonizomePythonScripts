{
 "cells": [
  {
   "cell_type": "markdown",
   "metadata": {},
   "source": [
    "# MGI (Mouse Genome Informatics)"
   ]
  },
  {
   "cell_type": "markdown",
   "metadata": {},
   "source": [
    "Downlaod dependencies"
   ]
  },
  {
   "cell_type": "code",
   "execution_count": 3,
   "metadata": {
    "collapsed": true
   },
   "outputs": [],
   "source": [
    "import numpy as np\n",
    "import pandas as pd\n",
    "import datetime\n",
    "import sys"
   ]
  },
  {
   "cell_type": "markdown",
   "metadata": {},
   "source": [
    "Data was downloded 04-2017\n",
    "\n",
    "The data comes from a file on the MGI site (http://www.informatics.jax.org/) with the fallowing description:\n",
    "\n",
    "\"Genotypes and Mammalian Phenotype Annotations for Marker Type Genes excluding conditional mutations\"\n",
    "\n",
    "http://www.informatics.jax.org/downloads/reports/MGI_GenePheno.rpt"
   ]
  },
  {
   "cell_type": "code",
   "execution_count": 203,
   "metadata": {
    "collapsed": true
   },
   "outputs": [],
   "source": [
    "low_level_data = pd.read_table('http://www.informatics.jax.org/downloads/reports/MGI_GenePheno.rpt', header=None)"
   ]
  },
  {
   "cell_type": "code",
   "execution_count": 204,
   "metadata": {
    "collapsed": true
   },
   "outputs": [],
   "source": [
    "low_level_data.drop(7, axis=1, inplace=True) # drop blank column"
   ]
  },
  {
   "cell_type": "code",
   "execution_count": 205,
   "metadata": {
    "scrolled": true
   },
   "outputs": [
    {
     "data": {
      "text/html": [
       "<div>\n",
       "<table border=\"1\" class=\"dataframe\">\n",
       "  <thead>\n",
       "    <tr style=\"text-align: right;\">\n",
       "      <th></th>\n",
       "      <th>0</th>\n",
       "      <th>1</th>\n",
       "      <th>2</th>\n",
       "      <th>3</th>\n",
       "      <th>4</th>\n",
       "      <th>5</th>\n",
       "      <th>6</th>\n",
       "      <th>8</th>\n",
       "    </tr>\n",
       "  </thead>\n",
       "  <tbody>\n",
       "    <tr>\n",
       "      <th>0</th>\n",
       "      <td>Rb1&lt;tm1Tyj&gt;/Rb1&lt;tm1Tyj&gt;</td>\n",
       "      <td>Rb1&lt;tm1Tyj&gt;</td>\n",
       "      <td>MGI:1857242</td>\n",
       "      <td>involves: 129S2/SvPas</td>\n",
       "      <td>MP:0000600</td>\n",
       "      <td>12529408</td>\n",
       "      <td>MGI:97874</td>\n",
       "      <td>MGI:2166359</td>\n",
       "    </tr>\n",
       "    <tr>\n",
       "      <th>1</th>\n",
       "      <td>Rb1&lt;tm1Tyj&gt;/Rb1&lt;tm1Tyj&gt;</td>\n",
       "      <td>Rb1&lt;tm1Tyj&gt;</td>\n",
       "      <td>MGI:1857242</td>\n",
       "      <td>involves: 129S2/SvPas</td>\n",
       "      <td>MP:0001716</td>\n",
       "      <td>16449662</td>\n",
       "      <td>MGI:97874</td>\n",
       "      <td>MGI:2166359</td>\n",
       "    </tr>\n",
       "    <tr>\n",
       "      <th>2</th>\n",
       "      <td>Rb1&lt;tm1Tyj&gt;/Rb1&lt;tm1Tyj&gt;</td>\n",
       "      <td>Rb1&lt;tm1Tyj&gt;</td>\n",
       "      <td>MGI:1857242</td>\n",
       "      <td>involves: 129S2/SvPas</td>\n",
       "      <td>MP:0001698</td>\n",
       "      <td>16449662</td>\n",
       "      <td>MGI:97874</td>\n",
       "      <td>MGI:2166359</td>\n",
       "    </tr>\n",
       "    <tr>\n",
       "      <th>3</th>\n",
       "      <td>Rb1&lt;tm1Tyj&gt;/Rb1&lt;tm1Tyj&gt;</td>\n",
       "      <td>Rb1&lt;tm1Tyj&gt;</td>\n",
       "      <td>MGI:1857242</td>\n",
       "      <td>involves: 129S2/SvPas</td>\n",
       "      <td>MP:0001092</td>\n",
       "      <td>16449662</td>\n",
       "      <td>MGI:97874</td>\n",
       "      <td>MGI:2166359</td>\n",
       "    </tr>\n",
       "    <tr>\n",
       "      <th>4</th>\n",
       "      <td>Rb1&lt;tm1Tyj&gt;/Rb1&lt;tm1Tyj&gt;</td>\n",
       "      <td>Rb1&lt;tm1Tyj&gt;</td>\n",
       "      <td>MGI:1857242</td>\n",
       "      <td>involves: 129S2/SvPas</td>\n",
       "      <td>MP:0000961</td>\n",
       "      <td>16449662</td>\n",
       "      <td>MGI:97874</td>\n",
       "      <td>MGI:2166359</td>\n",
       "    </tr>\n",
       "  </tbody>\n",
       "</table>\n",
       "</div>"
      ],
      "text/plain": [
       "                         0            1            2                      3  \\\n",
       "0  Rb1<tm1Tyj>/Rb1<tm1Tyj>  Rb1<tm1Tyj>  MGI:1857242  involves: 129S2/SvPas   \n",
       "1  Rb1<tm1Tyj>/Rb1<tm1Tyj>  Rb1<tm1Tyj>  MGI:1857242  involves: 129S2/SvPas   \n",
       "2  Rb1<tm1Tyj>/Rb1<tm1Tyj>  Rb1<tm1Tyj>  MGI:1857242  involves: 129S2/SvPas   \n",
       "3  Rb1<tm1Tyj>/Rb1<tm1Tyj>  Rb1<tm1Tyj>  MGI:1857242  involves: 129S2/SvPas   \n",
       "4  Rb1<tm1Tyj>/Rb1<tm1Tyj>  Rb1<tm1Tyj>  MGI:1857242  involves: 129S2/SvPas   \n",
       "\n",
       "            4         5          6            8  \n",
       "0  MP:0000600  12529408  MGI:97874  MGI:2166359  \n",
       "1  MP:0001716  16449662  MGI:97874  MGI:2166359  \n",
       "2  MP:0001698  16449662  MGI:97874  MGI:2166359  \n",
       "3  MP:0001092  16449662  MGI:97874  MGI:2166359  \n",
       "4  MP:0000961  16449662  MGI:97874  MGI:2166359  "
      ]
     },
     "execution_count": 205,
     "metadata": {},
     "output_type": "execute_result"
    }
   ],
   "source": [
    "low_level_data.head()"
   ]
  },
  {
   "cell_type": "code",
   "execution_count": 206,
   "metadata": {},
   "outputs": [
    {
     "data": {
      "text/plain": [
       "(201860, 8)"
      ]
     },
     "execution_count": 206,
     "metadata": {},
     "output_type": "execute_result"
    }
   ],
   "source": [
    "low_level_data.shape"
   ]
  },
  {
   "cell_type": "markdown",
   "metadata": {},
   "source": [
    "The following sets the names of the columns for the data as found in the description on the MGI website"
   ]
  },
  {
   "cell_type": "code",
   "execution_count": null,
   "metadata": {
    "collapsed": true
   },
   "outputs": [],
   "source": [
    "col = ['Allelic Composition','Allele Symbol(s)','Allele ID(s)','Genetic Background','Mammalian Phenotype ID','PubMed ID','MGI Marker Accession ID (comma-delimited)','MGI Genotype Accession ID (comma-delimited)']"
   ]
  },
  {
   "cell_type": "code",
   "execution_count": 208,
   "metadata": {
    "collapsed": true
   },
   "outputs": [],
   "source": [
    "low_level_data.columns = col"
   ]
  },
  {
   "cell_type": "code",
   "execution_count": 209,
   "metadata": {},
   "outputs": [
    {
     "data": {
      "text/html": [
       "<div>\n",
       "<table border=\"1\" class=\"dataframe\">\n",
       "  <thead>\n",
       "    <tr style=\"text-align: right;\">\n",
       "      <th></th>\n",
       "      <th>Allelic Composition</th>\n",
       "      <th>Allele Symbol(s)</th>\n",
       "      <th>Allele ID(s)</th>\n",
       "      <th>Genetic Background</th>\n",
       "      <th>Mammalian Phenotype ID</th>\n",
       "      <th>PubMed ID</th>\n",
       "      <th>MGI Marker Accession ID (comma-delimited)</th>\n",
       "      <th>MGI Genotype Accession ID (comma-delimited)</th>\n",
       "    </tr>\n",
       "  </thead>\n",
       "  <tbody>\n",
       "    <tr>\n",
       "      <th>0</th>\n",
       "      <td>Rb1&lt;tm1Tyj&gt;/Rb1&lt;tm1Tyj&gt;</td>\n",
       "      <td>Rb1&lt;tm1Tyj&gt;</td>\n",
       "      <td>MGI:1857242</td>\n",
       "      <td>involves: 129S2/SvPas</td>\n",
       "      <td>MP:0000600</td>\n",
       "      <td>12529408</td>\n",
       "      <td>MGI:97874</td>\n",
       "      <td>MGI:2166359</td>\n",
       "    </tr>\n",
       "    <tr>\n",
       "      <th>1</th>\n",
       "      <td>Rb1&lt;tm1Tyj&gt;/Rb1&lt;tm1Tyj&gt;</td>\n",
       "      <td>Rb1&lt;tm1Tyj&gt;</td>\n",
       "      <td>MGI:1857242</td>\n",
       "      <td>involves: 129S2/SvPas</td>\n",
       "      <td>MP:0001716</td>\n",
       "      <td>16449662</td>\n",
       "      <td>MGI:97874</td>\n",
       "      <td>MGI:2166359</td>\n",
       "    </tr>\n",
       "    <tr>\n",
       "      <th>2</th>\n",
       "      <td>Rb1&lt;tm1Tyj&gt;/Rb1&lt;tm1Tyj&gt;</td>\n",
       "      <td>Rb1&lt;tm1Tyj&gt;</td>\n",
       "      <td>MGI:1857242</td>\n",
       "      <td>involves: 129S2/SvPas</td>\n",
       "      <td>MP:0001698</td>\n",
       "      <td>16449662</td>\n",
       "      <td>MGI:97874</td>\n",
       "      <td>MGI:2166359</td>\n",
       "    </tr>\n",
       "    <tr>\n",
       "      <th>3</th>\n",
       "      <td>Rb1&lt;tm1Tyj&gt;/Rb1&lt;tm1Tyj&gt;</td>\n",
       "      <td>Rb1&lt;tm1Tyj&gt;</td>\n",
       "      <td>MGI:1857242</td>\n",
       "      <td>involves: 129S2/SvPas</td>\n",
       "      <td>MP:0001092</td>\n",
       "      <td>16449662</td>\n",
       "      <td>MGI:97874</td>\n",
       "      <td>MGI:2166359</td>\n",
       "    </tr>\n",
       "    <tr>\n",
       "      <th>4</th>\n",
       "      <td>Rb1&lt;tm1Tyj&gt;/Rb1&lt;tm1Tyj&gt;</td>\n",
       "      <td>Rb1&lt;tm1Tyj&gt;</td>\n",
       "      <td>MGI:1857242</td>\n",
       "      <td>involves: 129S2/SvPas</td>\n",
       "      <td>MP:0000961</td>\n",
       "      <td>16449662</td>\n",
       "      <td>MGI:97874</td>\n",
       "      <td>MGI:2166359</td>\n",
       "    </tr>\n",
       "  </tbody>\n",
       "</table>\n",
       "</div>"
      ],
      "text/plain": [
       "       Allelic Composition Allele Symbol(s) Allele ID(s)  \\\n",
       "0  Rb1<tm1Tyj>/Rb1<tm1Tyj>      Rb1<tm1Tyj>  MGI:1857242   \n",
       "1  Rb1<tm1Tyj>/Rb1<tm1Tyj>      Rb1<tm1Tyj>  MGI:1857242   \n",
       "2  Rb1<tm1Tyj>/Rb1<tm1Tyj>      Rb1<tm1Tyj>  MGI:1857242   \n",
       "3  Rb1<tm1Tyj>/Rb1<tm1Tyj>      Rb1<tm1Tyj>  MGI:1857242   \n",
       "4  Rb1<tm1Tyj>/Rb1<tm1Tyj>      Rb1<tm1Tyj>  MGI:1857242   \n",
       "\n",
       "      Genetic Background Mammalian Phenotype ID PubMed ID  \\\n",
       "0  involves: 129S2/SvPas             MP:0000600  12529408   \n",
       "1  involves: 129S2/SvPas             MP:0001716  16449662   \n",
       "2  involves: 129S2/SvPas             MP:0001698  16449662   \n",
       "3  involves: 129S2/SvPas             MP:0001092  16449662   \n",
       "4  involves: 129S2/SvPas             MP:0000961  16449662   \n",
       "\n",
       "  MGI Marker Accession ID (comma-delimited)  \\\n",
       "0                                 MGI:97874   \n",
       "1                                 MGI:97874   \n",
       "2                                 MGI:97874   \n",
       "3                                 MGI:97874   \n",
       "4                                 MGI:97874   \n",
       "\n",
       "  MGI Genotype Accession ID (comma-delimited)  \n",
       "0                                 MGI:2166359  \n",
       "1                                 MGI:2166359  \n",
       "2                                 MGI:2166359  \n",
       "3                                 MGI:2166359  \n",
       "4                                 MGI:2166359  "
      ]
     },
     "execution_count": 209,
     "metadata": {},
     "output_type": "execute_result"
    }
   ],
   "source": [
    "low_level_data.head()"
   ]
  },
  {
   "cell_type": "markdown",
   "metadata": {},
   "source": [
    "link to data used"
   ]
  },
  {
   "cell_type": "code",
   "execution_count": null,
   "metadata": {
    "collapsed": true
   },
   "outputs": [],
   "source": [
    "# Genotypes and Mammalian Phenotype Annotations for Marker Type Genes excluding conditional mutations (tab-delimited)\n",
    "# http://www.informatics.jax.org/downloads/reports/MGI_GenePheno.rpt"
   ]
  },
  {
   "cell_type": "markdown",
   "metadata": {},
   "source": [
    "link to data including mutations (not used in this analysis)"
   ]
  },
  {
   "cell_type": "code",
   "execution_count": null,
   "metadata": {
    "collapsed": true
   },
   "outputs": [],
   "source": [
    "# All Genotypes and Mammalian Phenotype Annotations (tab-delimited) \n",
    "# http://www.informatics.jax.org/downloads/reports/MGI_PhenoGenoMP.rpt "
   ]
  },
  {
   "cell_type": "markdown",
   "metadata": {},
   "source": [
    "The following data coresponding to high level phenotypes is used to map gene names to thier human counterpart when applicable.\n",
    "\n",
    "It is descripe on the website as:\n",
    "\n",
    "\"Mouse/Human Orthology with Phenotype Annotations\"\n",
    "\n",
    "The link to the file is:\n",
    "\n",
    "http://www.informatics.jax.org/downloads/reports/HMD_HumanPhenotype.rpt"
   ]
  },
  {
   "cell_type": "code",
   "execution_count": 22,
   "metadata": {
    "collapsed": true
   },
   "outputs": [],
   "source": [
    "data = pd.read_table('http://www.informatics.jax.org/downloads/reports/HMD_HumanPhenotype.rpt', header=None)"
   ]
  },
  {
   "cell_type": "code",
   "execution_count": 23,
   "metadata": {},
   "outputs": [
    {
     "data": {
      "text/html": [
       "<div>\n",
       "<table border=\"1\" class=\"dataframe\">\n",
       "  <thead>\n",
       "    <tr style=\"text-align: right;\">\n",
       "      <th></th>\n",
       "      <th>0</th>\n",
       "      <th>1</th>\n",
       "      <th>2</th>\n",
       "      <th>3</th>\n",
       "      <th>4</th>\n",
       "      <th>5</th>\n",
       "      <th>6</th>\n",
       "      <th>7</th>\n",
       "    </tr>\n",
       "  </thead>\n",
       "  <tbody>\n",
       "    <tr>\n",
       "      <th>0</th>\n",
       "      <td>A1BG</td>\n",
       "      <td>1</td>\n",
       "      <td>11167.0</td>\n",
       "      <td>yes</td>\n",
       "      <td>A1bg</td>\n",
       "      <td>MGI:2152878</td>\n",
       "      <td>NaN</td>\n",
       "      <td>NaN</td>\n",
       "    </tr>\n",
       "    <tr>\n",
       "      <th>1</th>\n",
       "      <td>A1CF</td>\n",
       "      <td>29974</td>\n",
       "      <td>16363.0</td>\n",
       "      <td>yes</td>\n",
       "      <td>A1cf</td>\n",
       "      <td>MGI:1917115</td>\n",
       "      <td>MP:0005387 MP:0005386 MP:0005388 MP:0005378 ...</td>\n",
       "      <td>NaN</td>\n",
       "    </tr>\n",
       "    <tr>\n",
       "      <th>2</th>\n",
       "      <td>A2M</td>\n",
       "      <td>2</td>\n",
       "      <td>37248.0</td>\n",
       "      <td>yes</td>\n",
       "      <td>A2m</td>\n",
       "      <td>MGI:2449119</td>\n",
       "      <td>MP:0002873</td>\n",
       "      <td>NaN</td>\n",
       "    </tr>\n",
       "    <tr>\n",
       "      <th>3</th>\n",
       "      <td>A3GALT2</td>\n",
       "      <td>127550</td>\n",
       "      <td>16326.0</td>\n",
       "      <td>yes</td>\n",
       "      <td>A3galt2</td>\n",
       "      <td>MGI:2685279</td>\n",
       "      <td>NaN</td>\n",
       "      <td>NaN</td>\n",
       "    </tr>\n",
       "    <tr>\n",
       "      <th>4</th>\n",
       "      <td>A4GALT</td>\n",
       "      <td>53947</td>\n",
       "      <td>9690.0</td>\n",
       "      <td>yes</td>\n",
       "      <td>A4galt</td>\n",
       "      <td>MGI:3512453</td>\n",
       "      <td>MP:0005386 MP:0010768 MP:0005376</td>\n",
       "      <td>NaN</td>\n",
       "    </tr>\n",
       "  </tbody>\n",
       "</table>\n",
       "</div>"
      ],
      "text/plain": [
       "         0       1        2    3        4              5  \\\n",
       "0     A1BG       1  11167.0  yes     A1bg    MGI:2152878   \n",
       "1     A1CF   29974  16363.0  yes     A1cf    MGI:1917115   \n",
       "2      A2M       2  37248.0  yes      A2m    MGI:2449119   \n",
       "3  A3GALT2  127550  16326.0  yes  A3galt2    MGI:2685279   \n",
       "4   A4GALT   53947   9690.0  yes   A4galt    MGI:3512453   \n",
       "\n",
       "                                                   6   7  \n",
       "0                                                NaN NaN  \n",
       "1    MP:0005387 MP:0005386 MP:0005388 MP:0005378 ... NaN  \n",
       "2                                         MP:0002873 NaN  \n",
       "3                                                NaN NaN  \n",
       "4                   MP:0005386 MP:0010768 MP:0005376 NaN  "
      ]
     },
     "execution_count": 23,
     "metadata": {},
     "output_type": "execute_result"
    }
   ],
   "source": [
    "data.head()"
   ]
  },
  {
   "cell_type": "code",
   "execution_count": 210,
   "metadata": {
    "collapsed": true
   },
   "outputs": [],
   "source": [
    "mapping_to_gene = pd.read_table('http://www.informatics.jax.org/downloads/reports/MRK_GXDAssay.rpt', header=None)"
   ]
  },
  {
   "cell_type": "code",
   "execution_count": 211,
   "metadata": {},
   "outputs": [
    {
     "data": {
      "text/html": [
       "<div>\n",
       "<table border=\"1\" class=\"dataframe\">\n",
       "  <thead>\n",
       "    <tr style=\"text-align: right;\">\n",
       "      <th></th>\n",
       "      <th>0</th>\n",
       "      <th>1</th>\n",
       "      <th>2</th>\n",
       "    </tr>\n",
       "  </thead>\n",
       "  <tbody>\n",
       "    <tr>\n",
       "      <th>0</th>\n",
       "      <td>MGI:1353431</td>\n",
       "      <td>Pcsk1n</td>\n",
       "      <td>MGI:5421241,MGI:2662712,MGI:3586139,MGI:482710...</td>\n",
       "    </tr>\n",
       "    <tr>\n",
       "      <th>1</th>\n",
       "      <td>MGI:1931526</td>\n",
       "      <td>Hist1h1c</td>\n",
       "      <td>MGI:4825375,MGI:5291705,MGI:3845788</td>\n",
       "    </tr>\n",
       "    <tr>\n",
       "      <th>2</th>\n",
       "      <td>MGI:2177151</td>\n",
       "      <td>Cd99l2</td>\n",
       "      <td>MGI:3806997,MGI:3806967,MGI:3806994,MGI:382859...</td>\n",
       "    </tr>\n",
       "    <tr>\n",
       "      <th>3</th>\n",
       "      <td>MGI:1916858</td>\n",
       "      <td>Sec24d</td>\n",
       "      <td>MGI:4827936,MGI:5698498</td>\n",
       "    </tr>\n",
       "    <tr>\n",
       "      <th>4</th>\n",
       "      <td>MGI:1915444</td>\n",
       "      <td>Ndufb4</td>\n",
       "      <td>MGI:3691813,MGI:5423678,MGI:3691814</td>\n",
       "    </tr>\n",
       "  </tbody>\n",
       "</table>\n",
       "</div>"
      ],
      "text/plain": [
       "             0         1                                                  2\n",
       "0  MGI:1353431    Pcsk1n  MGI:5421241,MGI:2662712,MGI:3586139,MGI:482710...\n",
       "1  MGI:1931526  Hist1h1c                MGI:4825375,MGI:5291705,MGI:3845788\n",
       "2  MGI:2177151    Cd99l2  MGI:3806997,MGI:3806967,MGI:3806994,MGI:382859...\n",
       "3  MGI:1916858    Sec24d                            MGI:4827936,MGI:5698498\n",
       "4  MGI:1915444    Ndufb4                MGI:3691813,MGI:5423678,MGI:3691814"
      ]
     },
     "execution_count": 211,
     "metadata": {},
     "output_type": "execute_result"
    }
   ],
   "source": [
    "mapping_to_gene.head()"
   ]
  },
  {
   "cell_type": "code",
   "execution_count": 213,
   "metadata": {
    "collapsed": true
   },
   "outputs": [],
   "source": [
    "mapping_to_gene.set_index(0, inplace=True)"
   ]
  },
  {
   "cell_type": "code",
   "execution_count": 214,
   "metadata": {
    "collapsed": true
   },
   "outputs": [],
   "source": [
    "# used to fix data once (for some reason the data comes with two spaces before each name)\n",
    "# # get rid of spaces infront of marker id in data\n",
    "# lst = []\n",
    "# for index in data.index:\n",
    "#     lst.append(data.ix[index, 5].split(' ')[2])\n",
    "# data[5] = lst"
   ]
  },
  {
   "cell_type": "markdown",
   "metadata": {},
   "source": [
    "The following craets a datafram with three columns: gene symbol, mgi id, phenotype id "
   ]
  },
  {
   "cell_type": "code",
   "execution_count": 217,
   "metadata": {},
   "outputs": [
    {
     "name": "stdout",
     "output_type": "stream",
     "text": [
      "Progress: 100%   \r"
     ]
    }
   ],
   "source": [
    "df = pd.DataFrame()\n",
    "\n",
    "i = 0\n",
    "\n",
    "for index in low_level_data.index:\n",
    "    \n",
    "    i += 1\n",
    "    \n",
    "    progress = (i/len(low_level_data.index))*100\n",
    "        \n",
    "    sys.stdout.write(\"Progress: %d%%   \\r\" % (progress))\n",
    "    sys.stdout.flush()\n",
    "    \n",
    "    \n",
    "    \n",
    "    if len(low_level_data.ix[index, 'MGI Marker Accession ID (comma-delimited)'].split(',')) > 1:\n",
    "        for mgi in low_level_data.ix[index, 'MGI Marker Accession ID (comma-delimited)'].split(','):\n",
    "            if mgi in mapping_to_gene.index:\n",
    "                lst = []\n",
    "                lst.append(mapping_to_gene.ix[mgi, 1])\n",
    "                lst.append(mgi)\n",
    "                lst.append(low_level_data.ix[index, 'Mammalian Phenotype ID'])\n",
    "                temp = pd.DataFrame(data=lst)\n",
    "                df = pd.concat([df,temp.T])\n",
    "    else:\n",
    "        mgi = low_level_data.ix[index, 'MGI Marker Accession ID (comma-delimited)'].split(',')[0]\n",
    "        if mgi in mapping_to_gene.index:\n",
    "            lst = []\n",
    "            lst.append(mapping_to_gene.ix[mgi, 1])\n",
    "            lst.append(mgi)\n",
    "            lst.append(low_level_data.ix[index, 'Mammalian Phenotype ID'])\n",
    "            temp = pd.DataFrame(data=lst)\n",
    "            df = pd.concat([df,temp.T])\n",
    "    \n",
    "    "
   ]
  },
  {
   "cell_type": "code",
   "execution_count": 218,
   "metadata": {},
   "outputs": [
    {
     "data": {
      "text/html": [
       "<div>\n",
       "<table border=\"1\" class=\"dataframe\">\n",
       "  <thead>\n",
       "    <tr style=\"text-align: right;\">\n",
       "      <th></th>\n",
       "      <th>0</th>\n",
       "      <th>1</th>\n",
       "      <th>2</th>\n",
       "    </tr>\n",
       "  </thead>\n",
       "  <tbody>\n",
       "    <tr>\n",
       "      <th>0</th>\n",
       "      <td>Rb1</td>\n",
       "      <td>MGI:97874</td>\n",
       "      <td>MP:0000600</td>\n",
       "    </tr>\n",
       "    <tr>\n",
       "      <th>0</th>\n",
       "      <td>Rb1</td>\n",
       "      <td>MGI:97874</td>\n",
       "      <td>MP:0001716</td>\n",
       "    </tr>\n",
       "    <tr>\n",
       "      <th>0</th>\n",
       "      <td>Rb1</td>\n",
       "      <td>MGI:97874</td>\n",
       "      <td>MP:0001698</td>\n",
       "    </tr>\n",
       "    <tr>\n",
       "      <th>0</th>\n",
       "      <td>Rb1</td>\n",
       "      <td>MGI:97874</td>\n",
       "      <td>MP:0001092</td>\n",
       "    </tr>\n",
       "    <tr>\n",
       "      <th>0</th>\n",
       "      <td>Rb1</td>\n",
       "      <td>MGI:97874</td>\n",
       "      <td>MP:0000961</td>\n",
       "    </tr>\n",
       "  </tbody>\n",
       "</table>\n",
       "</div>"
      ],
      "text/plain": [
       "     0          1           2\n",
       "0  Rb1  MGI:97874  MP:0000600\n",
       "0  Rb1  MGI:97874  MP:0001716\n",
       "0  Rb1  MGI:97874  MP:0001698\n",
       "0  Rb1  MGI:97874  MP:0001092\n",
       "0  Rb1  MGI:97874  MP:0000961"
      ]
     },
     "execution_count": 218,
     "metadata": {},
     "output_type": "execute_result"
    }
   ],
   "source": [
    "df.head()"
   ]
  },
  {
   "cell_type": "code",
   "execution_count": 219,
   "metadata": {},
   "outputs": [
    {
     "data": {
      "text/plain": [
       "(179604, 3)"
      ]
     },
     "execution_count": 219,
     "metadata": {},
     "output_type": "execute_result"
    }
   ],
   "source": [
    "df.shape"
   ]
  },
  {
   "cell_type": "code",
   "execution_count": 220,
   "metadata": {
    "collapsed": true
   },
   "outputs": [],
   "source": [
    "df.drop_duplicates(inplace=True)"
   ]
  },
  {
   "cell_type": "code",
   "execution_count": 221,
   "metadata": {},
   "outputs": [
    {
     "data": {
      "text/plain": [
       "(137349, 3)"
      ]
     },
     "execution_count": 221,
     "metadata": {},
     "output_type": "execute_result"
    }
   ],
   "source": [
    "df.shape"
   ]
  },
  {
   "cell_type": "code",
   "execution_count": 223,
   "metadata": {
    "collapsed": true
   },
   "outputs": [],
   "source": [
    "df.reset_index(inplace=True) # used to get an index with number values"
   ]
  },
  {
   "cell_type": "code",
   "execution_count": 224,
   "metadata": {
    "collapsed": true
   },
   "outputs": [],
   "source": [
    "df.drop('index', axis=1,inplace=True)"
   ]
  },
  {
   "cell_type": "code",
   "execution_count": 225,
   "metadata": {},
   "outputs": [
    {
     "data": {
      "text/plain": [
       "(137349, 3)"
      ]
     },
     "execution_count": 225,
     "metadata": {},
     "output_type": "execute_result"
    }
   ],
   "source": [
    "df.shape"
   ]
  },
  {
   "cell_type": "code",
   "execution_count": 226,
   "metadata": {
    "collapsed": true
   },
   "outputs": [],
   "source": [
    "df.to_csv('data_04_25_17.txt', header=False, index=False) # saves the datafram we just created"
   ]
  },
  {
   "cell_type": "code",
   "execution_count": 227,
   "metadata": {
    "collapsed": true
   },
   "outputs": [],
   "source": [
    "df.set_index(0, inplace=True)"
   ]
  },
  {
   "cell_type": "markdown",
   "metadata": {},
   "source": [
    "The following data was used to map phenotype ids to ther descriptions\n",
    "\n",
    "It is described on the MGI website as:\n",
    "\n",
    "\"Mammalian Phenotype Vocabulary\"\n",
    "\n",
    "And the link to the file can be found here:\n",
    "\n",
    "http://www.informatics.jax.org/downloads/reports/VOC_MammalianPhenotype.rpt"
   ]
  },
  {
   "cell_type": "code",
   "execution_count": 8,
   "metadata": {
    "collapsed": true
   },
   "outputs": [],
   "source": [
    "meta = pd.read_table('http://www.informatics.jax.org/downloads/reports/VOC_MammalianPhenotype.rpt', header=None)"
   ]
  },
  {
   "cell_type": "code",
   "execution_count": 9,
   "metadata": {
    "collapsed": true
   },
   "outputs": [],
   "source": [
    "meta.set_index(0, inplace=True)"
   ]
  },
  {
   "cell_type": "code",
   "execution_count": 230,
   "metadata": {},
   "outputs": [
    {
     "name": "stdout",
     "output_type": "stream",
     "text": [
      "Progress: 100%   \r"
     ]
    }
   ],
   "source": [
    "attribute_set_lib = pd.DataFrame()\n",
    "\n",
    "i = 0\n",
    "\n",
    "for index in df.index.unique():\n",
    "    \n",
    "    i += 1\n",
    "    \n",
    "    progress = (i/len(df.index.unique())*100)\n",
    "        \n",
    "    sys.stdout.write(\"Progress: %d%%   \\r\" % (progress))\n",
    "    sys.stdout.flush()\n",
    "    \n",
    "    lst = []\n",
    "    #lst.append(data.ix[index, 'Human Marker Symbol'])\n",
    "    lst.append(index)\n",
    "    if type(df.ix[index, 1]) == str:\n",
    "        lst.append(df.ix[index, 1])\n",
    "    else:\n",
    "        lst.append(df.ix[index, 1].values.tolist()[0])\n",
    "    if type(df.ix[index, 2]) == str:\n",
    "        lst.append(meta.ix[phe, 1])\n",
    "    else:\n",
    "        for phe in df.ix[index, 2]:\n",
    "            lst.append(meta.ix[phe, 1])\n",
    "    temp = pd.DataFrame(data=lst)\n",
    "    attribute_set_lib = pd.concat([attribute_set_lib, temp.T])"
   ]
  },
  {
   "cell_type": "code",
   "execution_count": 231,
   "metadata": {
    "collapsed": true
   },
   "outputs": [],
   "source": [
    "attribute_set_lib.replace(np.nan, ' ', inplace=True)"
   ]
  },
  {
   "cell_type": "code",
   "execution_count": 232,
   "metadata": {
    "collapsed": true
   },
   "outputs": [],
   "source": [
    "attribute_set_lib.set_index(0, inplace=True)"
   ]
  },
  {
   "cell_type": "code",
   "execution_count": 233,
   "metadata": {
    "collapsed": true
   },
   "outputs": [],
   "source": [
    "attribute_set_lib.reset_index(inplace=True)"
   ]
  },
  {
   "cell_type": "code",
   "execution_count": 234,
   "metadata": {},
   "outputs": [
    {
     "name": "stdout",
     "output_type": "stream",
     "text": [
      "Progress: 100.000000%   \r"
     ]
    }
   ],
   "source": [
    "i = 0\n",
    "\n",
    "\n",
    "for index in attribute_set_lib.index:\n",
    "    i += 1\n",
    "    for ind in data.index:  \n",
    "        if attribute_set_lib.ix[index, 0] == data.ix[ind, 4]:\n",
    "            attribute_set_lib.ix[index, 0] = data.ix[ind, 0]\n",
    "            \n",
    "    progress = (i/len(attribute_set_lib.index))*100\n",
    "\n",
    "    sys.stdout.write(\"Progress: %f%%   \\r\" % (progress))\n",
    "    sys.stdout.flush()"
   ]
  },
  {
   "cell_type": "code",
   "execution_count": 235,
   "metadata": {
    "collapsed": true
   },
   "outputs": [],
   "source": [
    "attribute_set_lib.set_index(0, inplace=True)"
   ]
  },
  {
   "cell_type": "code",
   "execution_count": 236,
   "metadata": {
    "collapsed": true
   },
   "outputs": [],
   "source": [
    "attribute_set_lib.sort_index(inplace=True)"
   ]
  },
  {
   "cell_type": "code",
   "execution_count": 237,
   "metadata": {},
   "outputs": [
    {
     "data": {
      "text/plain": [
       "(8237, 260)"
      ]
     },
     "execution_count": 237,
     "metadata": {},
     "output_type": "execute_result"
    }
   ],
   "source": [
    "attribute_set_lib.shape"
   ]
  },
  {
   "cell_type": "code",
   "execution_count": 238,
   "metadata": {
    "collapsed": true
   },
   "outputs": [],
   "source": [
    "filename = 'mgi_attribute_set_lib_%s.tsv'% str(datetime.date.today()).replace('-', '_')\n",
    "attribute_set_lib.to_csv(filename, sep='\\t', header=False)"
   ]
  },
  {
   "cell_type": "code",
   "execution_count": 239,
   "metadata": {
    "collapsed": true
   },
   "outputs": [],
   "source": [
    "#df.ix[index, 1].values.tolist()[0]"
   ]
  },
  {
   "cell_type": "code",
   "execution_count": 240,
   "metadata": {},
   "outputs": [
    {
     "data": {
      "text/html": [
       "<div>\n",
       "<table border=\"1\" class=\"dataframe\">\n",
       "  <thead>\n",
       "    <tr style=\"text-align: right;\">\n",
       "      <th></th>\n",
       "      <th>1</th>\n",
       "      <th>2</th>\n",
       "      <th>3</th>\n",
       "      <th>4</th>\n",
       "      <th>5</th>\n",
       "      <th>6</th>\n",
       "      <th>7</th>\n",
       "      <th>8</th>\n",
       "      <th>9</th>\n",
       "      <th>10</th>\n",
       "      <th>...</th>\n",
       "      <th>251</th>\n",
       "      <th>252</th>\n",
       "      <th>253</th>\n",
       "      <th>254</th>\n",
       "      <th>255</th>\n",
       "      <th>256</th>\n",
       "      <th>257</th>\n",
       "      <th>258</th>\n",
       "      <th>259</th>\n",
       "      <th>260</th>\n",
       "    </tr>\n",
       "    <tr>\n",
       "      <th>0</th>\n",
       "      <th></th>\n",
       "      <th></th>\n",
       "      <th></th>\n",
       "      <th></th>\n",
       "      <th></th>\n",
       "      <th></th>\n",
       "      <th></th>\n",
       "      <th></th>\n",
       "      <th></th>\n",
       "      <th></th>\n",
       "      <th></th>\n",
       "      <th></th>\n",
       "      <th></th>\n",
       "      <th></th>\n",
       "      <th></th>\n",
       "      <th></th>\n",
       "      <th></th>\n",
       "      <th></th>\n",
       "      <th></th>\n",
       "      <th></th>\n",
       "      <th></th>\n",
       "    </tr>\n",
       "  </thead>\n",
       "  <tbody>\n",
       "    <tr>\n",
       "      <th>2210010C04Rik</th>\n",
       "      <td>MGI:1914623</td>\n",
       "      <td>abnormal lumbar vertebrae morphology</td>\n",
       "      <td>decreased threshold for auditory brainstem res...</td>\n",
       "      <td></td>\n",
       "      <td></td>\n",
       "      <td></td>\n",
       "      <td></td>\n",
       "      <td></td>\n",
       "      <td></td>\n",
       "      <td></td>\n",
       "      <td>...</td>\n",
       "      <td></td>\n",
       "      <td></td>\n",
       "      <td></td>\n",
       "      <td></td>\n",
       "      <td></td>\n",
       "      <td></td>\n",
       "      <td></td>\n",
       "      <td></td>\n",
       "      <td></td>\n",
       "      <td></td>\n",
       "    </tr>\n",
       "    <tr>\n",
       "      <th>A1CF</th>\n",
       "      <td>MGI:1917115</td>\n",
       "      <td>decreased cell proliferation</td>\n",
       "      <td>embryonic lethality before implantation, compl...</td>\n",
       "      <td>decreased cardiac muscle contractility</td>\n",
       "      <td>abnormal myocardium layer morphology</td>\n",
       "      <td>dilated cardiomyopathy</td>\n",
       "      <td></td>\n",
       "      <td></td>\n",
       "      <td></td>\n",
       "      <td></td>\n",
       "      <td>...</td>\n",
       "      <td></td>\n",
       "      <td></td>\n",
       "      <td></td>\n",
       "      <td></td>\n",
       "      <td></td>\n",
       "      <td></td>\n",
       "      <td></td>\n",
       "      <td></td>\n",
       "      <td></td>\n",
       "      <td></td>\n",
       "    </tr>\n",
       "    <tr>\n",
       "      <th>A2M</th>\n",
       "      <td>MGI:2449119</td>\n",
       "      <td>impaired febrile response</td>\n",
       "      <td></td>\n",
       "      <td></td>\n",
       "      <td></td>\n",
       "      <td></td>\n",
       "      <td></td>\n",
       "      <td></td>\n",
       "      <td></td>\n",
       "      <td></td>\n",
       "      <td>...</td>\n",
       "      <td></td>\n",
       "      <td></td>\n",
       "      <td></td>\n",
       "      <td></td>\n",
       "      <td></td>\n",
       "      <td></td>\n",
       "      <td></td>\n",
       "      <td></td>\n",
       "      <td></td>\n",
       "      <td></td>\n",
       "    </tr>\n",
       "    <tr>\n",
       "      <th>A4GALT</th>\n",
       "      <td>MGI:3512453</td>\n",
       "      <td>decreased physiological sensitivity to xenobiotic</td>\n",
       "      <td>impaired behavioral response to xenobiotic</td>\n",
       "      <td>decreased sensitivity to xenobiotic induced mo...</td>\n",
       "      <td></td>\n",
       "      <td></td>\n",
       "      <td></td>\n",
       "      <td></td>\n",
       "      <td></td>\n",
       "      <td></td>\n",
       "      <td>...</td>\n",
       "      <td></td>\n",
       "      <td></td>\n",
       "      <td></td>\n",
       "      <td></td>\n",
       "      <td></td>\n",
       "      <td></td>\n",
       "      <td></td>\n",
       "      <td></td>\n",
       "      <td></td>\n",
       "      <td></td>\n",
       "    </tr>\n",
       "    <tr>\n",
       "      <th>A4GNT</th>\n",
       "      <td>MGI:2143261</td>\n",
       "      <td>abnormal digestive system physiology</td>\n",
       "      <td>increased cell proliferation</td>\n",
       "      <td>stomach inflammation</td>\n",
       "      <td>stomach epithelial hyperplasia</td>\n",
       "      <td>increased angiogenesis</td>\n",
       "      <td>increased tumor growth/size</td>\n",
       "      <td>increased gastric adenocarcinoma incidence</td>\n",
       "      <td>abnormal stomach mucosa morphology</td>\n",
       "      <td></td>\n",
       "      <td>...</td>\n",
       "      <td></td>\n",
       "      <td></td>\n",
       "      <td></td>\n",
       "      <td></td>\n",
       "      <td></td>\n",
       "      <td></td>\n",
       "      <td></td>\n",
       "      <td></td>\n",
       "      <td></td>\n",
       "      <td></td>\n",
       "    </tr>\n",
       "  </tbody>\n",
       "</table>\n",
       "<p>5 rows × 260 columns</p>\n",
       "</div>"
      ],
      "text/plain": [
       "                       1                                                  2    \\\n",
       "0                                                                               \n",
       "2210010C04Rik  MGI:1914623               abnormal lumbar vertebrae morphology   \n",
       "A1CF           MGI:1917115                       decreased cell proliferation   \n",
       "A2M            MGI:2449119                          impaired febrile response   \n",
       "A4GALT         MGI:3512453  decreased physiological sensitivity to xenobiotic   \n",
       "A4GNT          MGI:2143261               abnormal digestive system physiology   \n",
       "\n",
       "                                                             3    \\\n",
       "0                                                                  \n",
       "2210010C04Rik  decreased threshold for auditory brainstem res...   \n",
       "A1CF           embryonic lethality before implantation, compl...   \n",
       "A2M                                                                \n",
       "A4GALT                impaired behavioral response to xenobiotic   \n",
       "A4GNT                               increased cell proliferation   \n",
       "\n",
       "                                                             4    \\\n",
       "0                                                                  \n",
       "2210010C04Rik                                                      \n",
       "A1CF                      decreased cardiac muscle contractility   \n",
       "A2M                                                                \n",
       "A4GALT         decreased sensitivity to xenobiotic induced mo...   \n",
       "A4GNT                                       stomach inflammation   \n",
       "\n",
       "                                                5                       6    \\\n",
       "0                                                                             \n",
       "2210010C04Rik                                                                 \n",
       "A1CF           abnormal myocardium layer morphology  dilated cardiomyopathy   \n",
       "A2M                                                                           \n",
       "A4GALT                                                                        \n",
       "A4GNT                stomach epithelial hyperplasia  increased angiogenesis   \n",
       "\n",
       "                                       7    \\\n",
       "0                                            \n",
       "2210010C04Rik                                \n",
       "A1CF                                         \n",
       "A2M                                          \n",
       "A4GALT                                       \n",
       "A4GNT          increased tumor growth/size   \n",
       "\n",
       "                                                      8    \\\n",
       "0                                                           \n",
       "2210010C04Rik                                               \n",
       "A1CF                                                        \n",
       "A2M                                                         \n",
       "A4GALT                                                      \n",
       "A4GNT          increased gastric adenocarcinoma incidence   \n",
       "\n",
       "                                              9   10  ... 251 252 253 254 255  \\\n",
       "0                                                     ...                       \n",
       "2210010C04Rik                                         ...                       \n",
       "A1CF                                                  ...                       \n",
       "A2M                                                   ...                       \n",
       "A4GALT                                                ...                       \n",
       "A4GNT          abnormal stomach mucosa morphology     ...                       \n",
       "\n",
       "              256 257 258 259 260  \n",
       "0                                  \n",
       "2210010C04Rik                      \n",
       "A1CF                               \n",
       "A2M                                \n",
       "A4GALT                             \n",
       "A4GNT                              \n",
       "\n",
       "[5 rows x 260 columns]"
      ]
     },
     "execution_count": 240,
     "metadata": {},
     "output_type": "execute_result"
    }
   ],
   "source": [
    "attribute_set_lib.head()"
   ]
  },
  {
   "cell_type": "markdown",
   "metadata": {},
   "source": [
    "## GMT File"
   ]
  },
  {
   "cell_type": "code",
   "execution_count": 4,
   "metadata": {
    "collapsed": true
   },
   "outputs": [],
   "source": [
    "df = pd.read_csv('data_04_25_17.txt', header=None)"
   ]
  },
  {
   "cell_type": "code",
   "execution_count": 7,
   "metadata": {},
   "outputs": [
    {
     "data": {
      "text/html": [
       "<div>\n",
       "<table border=\"1\" class=\"dataframe\">\n",
       "  <thead>\n",
       "    <tr style=\"text-align: right;\">\n",
       "      <th></th>\n",
       "      <th>0</th>\n",
       "      <th>1</th>\n",
       "    </tr>\n",
       "    <tr>\n",
       "      <th>2</th>\n",
       "      <th></th>\n",
       "      <th></th>\n",
       "    </tr>\n",
       "  </thead>\n",
       "  <tbody>\n",
       "    <tr>\n",
       "      <th>MP:0000600</th>\n",
       "      <td>Rb1</td>\n",
       "      <td>MGI:97874</td>\n",
       "    </tr>\n",
       "    <tr>\n",
       "      <th>MP:0001716</th>\n",
       "      <td>Rb1</td>\n",
       "      <td>MGI:97874</td>\n",
       "    </tr>\n",
       "    <tr>\n",
       "      <th>MP:0001698</th>\n",
       "      <td>Rb1</td>\n",
       "      <td>MGI:97874</td>\n",
       "    </tr>\n",
       "    <tr>\n",
       "      <th>MP:0001092</th>\n",
       "      <td>Rb1</td>\n",
       "      <td>MGI:97874</td>\n",
       "    </tr>\n",
       "    <tr>\n",
       "      <th>MP:0000961</th>\n",
       "      <td>Rb1</td>\n",
       "      <td>MGI:97874</td>\n",
       "    </tr>\n",
       "  </tbody>\n",
       "</table>\n",
       "</div>"
      ],
      "text/plain": [
       "              0          1\n",
       "2                         \n",
       "MP:0000600  Rb1  MGI:97874\n",
       "MP:0001716  Rb1  MGI:97874\n",
       "MP:0001698  Rb1  MGI:97874\n",
       "MP:0001092  Rb1  MGI:97874\n",
       "MP:0000961  Rb1  MGI:97874"
      ]
     },
     "execution_count": 7,
     "metadata": {},
     "output_type": "execute_result"
    }
   ],
   "source": [
    "df.head()"
   ]
  },
  {
   "cell_type": "code",
   "execution_count": 6,
   "metadata": {
    "collapsed": true
   },
   "outputs": [],
   "source": [
    "df.set_index(2, inplace=True)"
   ]
  },
  {
   "cell_type": "code",
   "execution_count": 24,
   "metadata": {
    "collapsed": true
   },
   "outputs": [],
   "source": [
    "data.set_index(4, inplace=True)"
   ]
  },
  {
   "cell_type": "code",
   "execution_count": 25,
   "metadata": {},
   "outputs": [
    {
     "data": {
      "text/html": [
       "<div>\n",
       "<table border=\"1\" class=\"dataframe\">\n",
       "  <thead>\n",
       "    <tr style=\"text-align: right;\">\n",
       "      <th></th>\n",
       "      <th>0</th>\n",
       "      <th>1</th>\n",
       "      <th>2</th>\n",
       "      <th>3</th>\n",
       "      <th>5</th>\n",
       "      <th>6</th>\n",
       "      <th>7</th>\n",
       "    </tr>\n",
       "    <tr>\n",
       "      <th>4</th>\n",
       "      <th></th>\n",
       "      <th></th>\n",
       "      <th></th>\n",
       "      <th></th>\n",
       "      <th></th>\n",
       "      <th></th>\n",
       "      <th></th>\n",
       "    </tr>\n",
       "  </thead>\n",
       "  <tbody>\n",
       "    <tr>\n",
       "      <th>A1bg</th>\n",
       "      <td>A1BG</td>\n",
       "      <td>1</td>\n",
       "      <td>11167.0</td>\n",
       "      <td>yes</td>\n",
       "      <td>MGI:2152878</td>\n",
       "      <td>NaN</td>\n",
       "      <td>NaN</td>\n",
       "    </tr>\n",
       "    <tr>\n",
       "      <th>A1cf</th>\n",
       "      <td>A1CF</td>\n",
       "      <td>29974</td>\n",
       "      <td>16363.0</td>\n",
       "      <td>yes</td>\n",
       "      <td>MGI:1917115</td>\n",
       "      <td>MP:0005387 MP:0005386 MP:0005388 MP:0005378 ...</td>\n",
       "      <td>NaN</td>\n",
       "    </tr>\n",
       "    <tr>\n",
       "      <th>A2m</th>\n",
       "      <td>A2M</td>\n",
       "      <td>2</td>\n",
       "      <td>37248.0</td>\n",
       "      <td>yes</td>\n",
       "      <td>MGI:2449119</td>\n",
       "      <td>MP:0002873</td>\n",
       "      <td>NaN</td>\n",
       "    </tr>\n",
       "    <tr>\n",
       "      <th>A3galt2</th>\n",
       "      <td>A3GALT2</td>\n",
       "      <td>127550</td>\n",
       "      <td>16326.0</td>\n",
       "      <td>yes</td>\n",
       "      <td>MGI:2685279</td>\n",
       "      <td>NaN</td>\n",
       "      <td>NaN</td>\n",
       "    </tr>\n",
       "    <tr>\n",
       "      <th>A4galt</th>\n",
       "      <td>A4GALT</td>\n",
       "      <td>53947</td>\n",
       "      <td>9690.0</td>\n",
       "      <td>yes</td>\n",
       "      <td>MGI:3512453</td>\n",
       "      <td>MP:0005386 MP:0010768 MP:0005376</td>\n",
       "      <td>NaN</td>\n",
       "    </tr>\n",
       "  </tbody>\n",
       "</table>\n",
       "</div>"
      ],
      "text/plain": [
       "               0       1        2    3              5  \\\n",
       "4                                                       \n",
       "A1bg        A1BG       1  11167.0  yes    MGI:2152878   \n",
       "A1cf        A1CF   29974  16363.0  yes    MGI:1917115   \n",
       "A2m          A2M       2  37248.0  yes    MGI:2449119   \n",
       "A3galt2  A3GALT2  127550  16326.0  yes    MGI:2685279   \n",
       "A4galt    A4GALT   53947   9690.0  yes    MGI:3512453   \n",
       "\n",
       "                                                         6   7  \n",
       "4                                                               \n",
       "A1bg                                                   NaN NaN  \n",
       "A1cf       MP:0005387 MP:0005386 MP:0005388 MP:0005378 ... NaN  \n",
       "A2m                                             MP:0002873 NaN  \n",
       "A3galt2                                                NaN NaN  \n",
       "A4galt                    MP:0005386 MP:0010768 MP:0005376 NaN  "
      ]
     },
     "execution_count": 25,
     "metadata": {},
     "output_type": "execute_result"
    }
   ],
   "source": [
    "data.head()"
   ]
  },
  {
   "cell_type": "code",
   "execution_count": 69,
   "metadata": {},
   "outputs": [
    {
     "name": "stdout",
     "output_type": "stream",
     "text": [
      "Progress: 100%   \r"
     ]
    }
   ],
   "source": [
    "MGI_Mammalian_Phenotype = pd.DataFrame()\n",
    "\n",
    "i = 0\n",
    "\n",
    "for index in df.index.unique():\n",
    "    \n",
    "\n",
    "    \n",
    "    lst = []\n",
    "    #lst.append(data.ix[index, 'Human Marker Symbol'])\n",
    "    lst.append(str(index)+'_'+str(meta.ix[index,1]))\n",
    "     \n",
    "    \n",
    "    if type(df.ix[index, 0]) == str:\n",
    "        if gene in data.index:\n",
    "            lst.append(data.ix[gene, 0])\n",
    "        else:\n",
    "            lst.append(gene)\n",
    "    else:    \n",
    "        for gene in df.ix[index, 0]:\n",
    "            if gene in data.index:\n",
    "                if type(data.ix[gene, 0]) == str:\n",
    "                    lst.append(data.ix[gene, 0])\n",
    "                else:\n",
    "                    lst.append(data.ix[gene, 0].values.tolist()[0])\n",
    "            else:\n",
    "                lst.append(gene)\n",
    "    \n",
    "\n",
    "\n",
    "    if len(lst) >= 5:\n",
    "        temp = pd.DataFrame(data=lst)\n",
    "        MGI_Mammalian_Phenotype = pd.concat([MGI_Mammalian_Phenotype, temp.T])\n",
    "    \n",
    "    i += 1\n",
    "    \n",
    "    progress = (i/len(df.index.unique())*100)\n",
    "        \n",
    "    sys.stdout.write(\"Progress: %d%%   \\r\" % (progress))\n",
    "    sys.stdout.flush()\n",
    "    \n"
   ]
  },
  {
   "cell_type": "code",
   "execution_count": 59,
   "metadata": {
    "collapsed": true
   },
   "outputs": [],
   "source": [
    "#df.ix[index, 0]"
   ]
  },
  {
   "cell_type": "code",
   "execution_count": 44,
   "metadata": {
    "collapsed": true
   },
   "outputs": [],
   "source": [
    "#df.index.unique()[0:3]"
   ]
  },
  {
   "cell_type": "code",
   "execution_count": 56,
   "metadata": {
    "collapsed": true
   },
   "outputs": [],
   "source": [
    "#MGI_Mammalian_Phenotype.replace(np.nan, ' ', inplace=True)"
   ]
  },
  {
   "cell_type": "code",
   "execution_count": 71,
   "metadata": {
    "collapsed": true
   },
   "outputs": [],
   "source": [
    "filename = 'MGI_Mammalian_Phenotype_%s.gmt'% str(datetime.date.today()).replace('-', '_')\n",
    "MGI_Mammalian_Phenotype.to_csv(filename, sep='\\t', header=False, index=False)"
   ]
  },
  {
   "cell_type": "code",
   "execution_count": 45,
   "metadata": {},
   "outputs": [
    {
     "data": {
      "text/html": [
       "<div>\n",
       "<table border=\"1\" class=\"dataframe\">\n",
       "  <thead>\n",
       "    <tr style=\"text-align: right;\">\n",
       "      <th></th>\n",
       "      <th>0</th>\n",
       "      <th>1</th>\n",
       "      <th>2</th>\n",
       "      <th>3</th>\n",
       "      <th>4</th>\n",
       "      <th>5</th>\n",
       "      <th>6</th>\n",
       "      <th>7</th>\n",
       "      <th>8</th>\n",
       "      <th>9</th>\n",
       "      <th>...</th>\n",
       "      <th>464</th>\n",
       "      <th>465</th>\n",
       "      <th>466</th>\n",
       "      <th>467</th>\n",
       "      <th>468</th>\n",
       "      <th>469</th>\n",
       "      <th>470</th>\n",
       "      <th>471</th>\n",
       "      <th>472</th>\n",
       "      <th>473</th>\n",
       "    </tr>\n",
       "  </thead>\n",
       "  <tbody>\n",
       "    <tr>\n",
       "      <th>0</th>\n",
       "      <td>MP:0000600_liver hypoplasia</td>\n",
       "      <td>RB1</td>\n",
       "      <td>HGF</td>\n",
       "      <td>TSC2</td>\n",
       "      <td>NF1</td>\n",
       "      <td>LHX2</td>\n",
       "      <td>SPTBN1</td>\n",
       "      <td>SP3</td>\n",
       "      <td>SPEN</td>\n",
       "      <td>IKZF1</td>\n",
       "      <td>...</td>\n",
       "      <td>NaN</td>\n",
       "      <td>NaN</td>\n",
       "      <td>NaN</td>\n",
       "      <td>NaN</td>\n",
       "      <td>NaN</td>\n",
       "      <td>NaN</td>\n",
       "      <td>NaN</td>\n",
       "      <td>NaN</td>\n",
       "      <td>NaN</td>\n",
       "      <td>NaN</td>\n",
       "    </tr>\n",
       "    <tr>\n",
       "      <th>0</th>\n",
       "      <td>MP:0001716_abnormal placenta labyrinth morphology</td>\n",
       "      <td>RB1</td>\n",
       "      <td>HSP90AB1</td>\n",
       "      <td>PPARG</td>\n",
       "      <td>NOTCH2</td>\n",
       "      <td>CDKN1C</td>\n",
       "      <td>EGFR</td>\n",
       "      <td>DLX3</td>\n",
       "      <td>ADM</td>\n",
       "      <td>GAB1</td>\n",
       "      <td>...</td>\n",
       "      <td>NaN</td>\n",
       "      <td>NaN</td>\n",
       "      <td>NaN</td>\n",
       "      <td>NaN</td>\n",
       "      <td>NaN</td>\n",
       "      <td>NaN</td>\n",
       "      <td>NaN</td>\n",
       "      <td>NaN</td>\n",
       "      <td>NaN</td>\n",
       "      <td>NaN</td>\n",
       "    </tr>\n",
       "    <tr>\n",
       "      <th>0</th>\n",
       "      <td>MP:0001698_decreased embryo size</td>\n",
       "      <td>RB1</td>\n",
       "      <td>OTX2</td>\n",
       "      <td>ESRRB</td>\n",
       "      <td>ZFPM1</td>\n",
       "      <td>KDR</td>\n",
       "      <td>PTK2</td>\n",
       "      <td>HAND2</td>\n",
       "      <td>VCAM1</td>\n",
       "      <td>FN1</td>\n",
       "      <td>...</td>\n",
       "      <td>LONP1</td>\n",
       "      <td>BMP10</td>\n",
       "      <td>CHD1</td>\n",
       "      <td>LETM1</td>\n",
       "      <td>KATNB1</td>\n",
       "      <td>ATP2A2</td>\n",
       "      <td>KDM2B</td>\n",
       "      <td>EMG1</td>\n",
       "      <td>SEC23A</td>\n",
       "      <td>UFL1</td>\n",
       "    </tr>\n",
       "  </tbody>\n",
       "</table>\n",
       "<p>3 rows × 474 columns</p>\n",
       "</div>"
      ],
      "text/plain": [
       "                                                 0    1         2      3    \\\n",
       "0                        MP:0000600_liver hypoplasia  RB1       HGF   TSC2   \n",
       "0  MP:0001716_abnormal placenta labyrinth morphology  RB1  HSP90AB1  PPARG   \n",
       "0                   MP:0001698_decreased embryo size  RB1      OTX2  ESRRB   \n",
       "\n",
       "      4       5       6      7      8      9    ...     464    465   466  \\\n",
       "0     NF1    LHX2  SPTBN1    SP3   SPEN  IKZF1  ...     NaN    NaN   NaN   \n",
       "0  NOTCH2  CDKN1C    EGFR   DLX3    ADM   GAB1  ...     NaN    NaN   NaN   \n",
       "0   ZFPM1     KDR    PTK2  HAND2  VCAM1    FN1  ...   LONP1  BMP10  CHD1   \n",
       "\n",
       "     467     468     469    470   471     472   473  \n",
       "0    NaN     NaN     NaN    NaN   NaN     NaN   NaN  \n",
       "0    NaN     NaN     NaN    NaN   NaN     NaN   NaN  \n",
       "0  LETM1  KATNB1  ATP2A2  KDM2B  EMG1  SEC23A  UFL1  \n",
       "\n",
       "[3 rows x 474 columns]"
      ]
     },
     "execution_count": 45,
     "metadata": {},
     "output_type": "execute_result"
    }
   ],
   "source": [
    "MGI_Mammalian_Phenotype.head()"
   ]
  },
  {
   "cell_type": "code",
   "execution_count": 32,
   "metadata": {},
   "outputs": [
    {
     "data": {
      "text/plain": [
       "(8523, 1677)"
      ]
     },
     "execution_count": 32,
     "metadata": {},
     "output_type": "execute_result"
    }
   ],
   "source": [
    "MGI_Mammalian_Phenotype.shape"
   ]
  }
 ],
 "metadata": {
  "kernelspec": {
   "display_name": "Python [default]",
   "language": "python",
   "name": "python3"
  },
  "language_info": {
   "codemirror_mode": {
    "name": "ipython",
    "version": 3
   },
   "file_extension": ".py",
   "mimetype": "text/x-python",
   "name": "python",
   "nbconvert_exporter": "python",
   "pygments_lexer": "ipython3",
   "version": "3.5.2"
  }
 },
 "nbformat": 4,
 "nbformat_minor": 2
}
