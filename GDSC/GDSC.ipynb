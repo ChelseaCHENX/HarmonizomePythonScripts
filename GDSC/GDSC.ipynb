{
 "cells": [
  {
   "cell_type": "markdown",
   "metadata": {},
   "source": [
    "# GDSC (Genomics of Drug Sensitivity in Cancer)"
   ]
  },
  {
   "cell_type": "markdown",
   "metadata": {},
   "source": [
    "Author: Moshe Silverstein <br/>\n",
    "Date: 8-17 <br/>\n",
    "Data Source: http://www.cancerrxgene.org/"
   ]
  },
  {
   "cell_type": "code",
   "execution_count": 1,
   "metadata": {
    "collapsed": true
   },
   "outputs": [],
   "source": [
    "import sys, datetime, os\n",
    "import numpy as np\n",
    "import pandas as pd\n",
    "import importlib\n",
    "import untility_functions as uf\n",
    "%matplotlib inline"
   ]
  },
  {
   "cell_type": "code",
   "execution_count": 2,
   "metadata": {},
   "outputs": [
    {
     "data": {
      "text/plain": [
       "<module 'untility_functions' from '/Users/moshesilverstein/Documents/Harmonizome/GDSC/untility_functions.py'>"
      ]
     },
     "execution_count": 2,
     "metadata": {},
     "output_type": "execute_result"
    }
   ],
   "source": [
    "importlib.reload(uf)"
   ]
  },
  {
   "cell_type": "markdown",
   "metadata": {},
   "source": [
    "# Load Data"
   ]
  },
  {
   "cell_type": "code",
   "execution_count": 3,
   "metadata": {},
   "outputs": [],
   "source": [
    "matrix = pd.read_csv('Input/expU133A.txt.zip', sep='\\t')"
   ]
  },
  {
   "cell_type": "code",
   "execution_count": 4,
   "metadata": {},
   "outputs": [
    {
     "data": {
      "text/html": [
       "<div>\n",
       "<table border=\"1\" class=\"dataframe\">\n",
       "  <thead>\n",
       "    <tr style=\"text-align: right;\">\n",
       "      <th></th>\n",
       "      <th>PROBE</th>\n",
       "      <th>BxPC-3</th>\n",
       "      <th>KMOE-2</th>\n",
       "      <th>ufM-223</th>\n",
       "      <th>NUGC-3</th>\n",
       "      <th>OC-314</th>\n",
       "      <th>COLO-741</th>\n",
       "      <th>KARPAS-45</th>\n",
       "      <th>JAR</th>\n",
       "      <th>DU-4475</th>\n",
       "      <th>...</th>\n",
       "      <th>SF268</th>\n",
       "      <th>TK10</th>\n",
       "      <th>A2780</th>\n",
       "      <th>OVCAR-4.1</th>\n",
       "      <th>A375</th>\n",
       "      <th>KP-N-S19s</th>\n",
       "      <th>BC-3</th>\n",
       "      <th>PANC-08-13.1</th>\n",
       "      <th>EKVX.1</th>\n",
       "      <th>DMS-114.1</th>\n",
       "    </tr>\n",
       "  </thead>\n",
       "  <tbody>\n",
       "    <tr>\n",
       "      <th>0</th>\n",
       "      <td>1007_s_at</td>\n",
       "      <td>639.944183</td>\n",
       "      <td>16.373449</td>\n",
       "      <td>318.155778</td>\n",
       "      <td>450.998247</td>\n",
       "      <td>239.469002</td>\n",
       "      <td>154.087362</td>\n",
       "      <td>46.001733</td>\n",
       "      <td>203.582799</td>\n",
       "      <td>171.863044</td>\n",
       "      <td>...</td>\n",
       "      <td>84.766663</td>\n",
       "      <td>235.219129</td>\n",
       "      <td>46.343851</td>\n",
       "      <td>263.266154</td>\n",
       "      <td>230.686727</td>\n",
       "      <td>101.217233</td>\n",
       "      <td>17.466248</td>\n",
       "      <td>506.256421</td>\n",
       "      <td>305.627689</td>\n",
       "      <td>89.021586</td>\n",
       "    </tr>\n",
       "    <tr>\n",
       "      <th>1</th>\n",
       "      <td>1053_at</td>\n",
       "      <td>51.349139</td>\n",
       "      <td>135.185672</td>\n",
       "      <td>68.408031</td>\n",
       "      <td>65.130261</td>\n",
       "      <td>126.891209</td>\n",
       "      <td>146.355079</td>\n",
       "      <td>163.087330</td>\n",
       "      <td>103.647606</td>\n",
       "      <td>204.069724</td>\n",
       "      <td>...</td>\n",
       "      <td>78.853615</td>\n",
       "      <td>55.688551</td>\n",
       "      <td>76.178632</td>\n",
       "      <td>23.357161</td>\n",
       "      <td>35.835890</td>\n",
       "      <td>75.858236</td>\n",
       "      <td>199.226068</td>\n",
       "      <td>63.581571</td>\n",
       "      <td>63.613736</td>\n",
       "      <td>91.283199</td>\n",
       "    </tr>\n",
       "    <tr>\n",
       "      <th>2</th>\n",
       "      <td>117_at</td>\n",
       "      <td>5.900338</td>\n",
       "      <td>53.393754</td>\n",
       "      <td>3.679530</td>\n",
       "      <td>0.835631</td>\n",
       "      <td>0.624551</td>\n",
       "      <td>3.906931</td>\n",
       "      <td>28.396109</td>\n",
       "      <td>10.808254</td>\n",
       "      <td>165.628891</td>\n",
       "      <td>...</td>\n",
       "      <td>0.769494</td>\n",
       "      <td>2.808876</td>\n",
       "      <td>3.210985</td>\n",
       "      <td>0.670012</td>\n",
       "      <td>13.643147</td>\n",
       "      <td>7.977687</td>\n",
       "      <td>2.249444</td>\n",
       "      <td>1.784688</td>\n",
       "      <td>2.224977</td>\n",
       "      <td>3.879441</td>\n",
       "    </tr>\n",
       "    <tr>\n",
       "      <th>3</th>\n",
       "      <td>121_at</td>\n",
       "      <td>29.984657</td>\n",
       "      <td>18.760248</td>\n",
       "      <td>22.707359</td>\n",
       "      <td>37.108880</td>\n",
       "      <td>347.899885</td>\n",
       "      <td>21.480952</td>\n",
       "      <td>40.950497</td>\n",
       "      <td>31.545490</td>\n",
       "      <td>31.226368</td>\n",
       "      <td>...</td>\n",
       "      <td>22.735391</td>\n",
       "      <td>553.756598</td>\n",
       "      <td>16.793050</td>\n",
       "      <td>638.726055</td>\n",
       "      <td>38.407900</td>\n",
       "      <td>32.861390</td>\n",
       "      <td>53.520014</td>\n",
       "      <td>46.280554</td>\n",
       "      <td>21.681985</td>\n",
       "      <td>23.478692</td>\n",
       "    </tr>\n",
       "    <tr>\n",
       "      <th>4</th>\n",
       "      <td>1255_g_at</td>\n",
       "      <td>0.329891</td>\n",
       "      <td>1.891916</td>\n",
       "      <td>0.371882</td>\n",
       "      <td>1.384804</td>\n",
       "      <td>0.516666</td>\n",
       "      <td>0.461409</td>\n",
       "      <td>0.503592</td>\n",
       "      <td>0.550652</td>\n",
       "      <td>1.156150</td>\n",
       "      <td>...</td>\n",
       "      <td>0.667385</td>\n",
       "      <td>1.072061</td>\n",
       "      <td>0.372600</td>\n",
       "      <td>6.173136</td>\n",
       "      <td>1.860528</td>\n",
       "      <td>18.326121</td>\n",
       "      <td>3.964986</td>\n",
       "      <td>0.492764</td>\n",
       "      <td>0.611497</td>\n",
       "      <td>13.048996</td>\n",
       "    </tr>\n",
       "  </tbody>\n",
       "</table>\n",
       "<p>5 rows × 790 columns</p>\n",
       "</div>"
      ],
      "text/plain": [
       "       PROBE      BxPC-3      KMOE-2     ufM-223      NUGC-3      OC-314  \\\n",
       "0  1007_s_at  639.944183   16.373449  318.155778  450.998247  239.469002   \n",
       "1    1053_at   51.349139  135.185672   68.408031   65.130261  126.891209   \n",
       "2     117_at    5.900338   53.393754    3.679530    0.835631    0.624551   \n",
       "3     121_at   29.984657   18.760248   22.707359   37.108880  347.899885   \n",
       "4  1255_g_at    0.329891    1.891916    0.371882    1.384804    0.516666   \n",
       "\n",
       "     COLO-741   KARPAS-45         JAR     DU-4475    ...          SF268  \\\n",
       "0  154.087362   46.001733  203.582799  171.863044    ...      84.766663   \n",
       "1  146.355079  163.087330  103.647606  204.069724    ...      78.853615   \n",
       "2    3.906931   28.396109   10.808254  165.628891    ...       0.769494   \n",
       "3   21.480952   40.950497   31.545490   31.226368    ...      22.735391   \n",
       "4    0.461409    0.503592    0.550652    1.156150    ...       0.667385   \n",
       "\n",
       "         TK10      A2780   OVCAR-4.1        A375   KP-N-S19s        BC-3  \\\n",
       "0  235.219129  46.343851  263.266154  230.686727  101.217233   17.466248   \n",
       "1   55.688551  76.178632   23.357161   35.835890   75.858236  199.226068   \n",
       "2    2.808876   3.210985    0.670012   13.643147    7.977687    2.249444   \n",
       "3  553.756598  16.793050  638.726055   38.407900   32.861390   53.520014   \n",
       "4    1.072061   0.372600    6.173136    1.860528   18.326121    3.964986   \n",
       "\n",
       "   PANC-08-13.1      EKVX.1  DMS-114.1  \n",
       "0    506.256421  305.627689  89.021586  \n",
       "1     63.581571   63.613736  91.283199  \n",
       "2      1.784688    2.224977   3.879441  \n",
       "3     46.280554   21.681985  23.478692  \n",
       "4      0.492764    0.611497  13.048996  \n",
       "\n",
       "[5 rows x 790 columns]"
      ]
     },
     "execution_count": 4,
     "metadata": {},
     "output_type": "execute_result"
    }
   ],
   "source": [
    "matrix.head()"
   ]
  },
  {
   "cell_type": "code",
   "execution_count": 5,
   "metadata": {},
   "outputs": [
    {
     "data": {
      "text/plain": [
       "(22277, 790)"
      ]
     },
     "execution_count": 5,
     "metadata": {},
     "output_type": "execute_result"
    }
   ],
   "source": [
    "matrix.shape"
   ]
  },
  {
   "cell_type": "markdown",
   "metadata": {},
   "source": [
    "# Load Gene Meta Data"
   ]
  },
  {
   "cell_type": "code",
   "execution_count": 6,
   "metadata": {},
   "outputs": [],
   "source": [
    "gene_meta = pd.read_csv('Input/ProbesToGenesU133A.tsv', sep='\\t', header=None, index_col=0)"
   ]
  },
  {
   "cell_type": "code",
   "execution_count": 7,
   "metadata": {},
   "outputs": [
    {
     "data": {
      "text/html": [
       "<div>\n",
       "<table border=\"1\" class=\"dataframe\">\n",
       "  <thead>\n",
       "    <tr style=\"text-align: right;\">\n",
       "      <th></th>\n",
       "      <th>1</th>\n",
       "      <th>2</th>\n",
       "      <th>3</th>\n",
       "    </tr>\n",
       "    <tr>\n",
       "      <th>0</th>\n",
       "      <th></th>\n",
       "      <th></th>\n",
       "      <th></th>\n",
       "    </tr>\n",
       "  </thead>\n",
       "  <tbody>\n",
       "    <tr>\n",
       "      <th>1007_s_at</th>\n",
       "      <td>DDR1</td>\n",
       "      <td>780.0</td>\n",
       "      <td>discoidin domain receptor tyrosine kinase 1</td>\n",
       "    </tr>\n",
       "    <tr>\n",
       "      <th>1007_s_at</th>\n",
       "      <td>MIR4640</td>\n",
       "      <td>100616237.0</td>\n",
       "      <td>microRNA 4640</td>\n",
       "    </tr>\n",
       "    <tr>\n",
       "      <th>1053_at</th>\n",
       "      <td>RFC2</td>\n",
       "      <td>5982.0</td>\n",
       "      <td>replication factor C subunit 2</td>\n",
       "    </tr>\n",
       "    <tr>\n",
       "      <th>117_at</th>\n",
       "      <td>HSPA6</td>\n",
       "      <td>3310.0</td>\n",
       "      <td>heat shock protein family A (Hsp70) member 6</td>\n",
       "    </tr>\n",
       "    <tr>\n",
       "      <th>121_at</th>\n",
       "      <td>PAX8</td>\n",
       "      <td>7849.0</td>\n",
       "      <td>paired box 8</td>\n",
       "    </tr>\n",
       "  </tbody>\n",
       "</table>\n",
       "</div>"
      ],
      "text/plain": [
       "                 1            2                                             3\n",
       "0                                                                            \n",
       "1007_s_at     DDR1        780.0   discoidin domain receptor tyrosine kinase 1\n",
       "1007_s_at  MIR4640  100616237.0                                 microRNA 4640\n",
       "1053_at       RFC2       5982.0                replication factor C subunit 2\n",
       "117_at       HSPA6       3310.0  heat shock protein family A (Hsp70) member 6\n",
       "121_at        PAX8       7849.0                                  paired box 8"
      ]
     },
     "execution_count": 7,
     "metadata": {},
     "output_type": "execute_result"
    }
   ],
   "source": [
    "gene_meta.head()"
   ]
  },
  {
   "cell_type": "markdown",
   "metadata": {},
   "source": [
    "# Map Gene ID to Symbol "
   ]
  },
  {
   "cell_type": "code",
   "execution_count": 8,
   "metadata": {},
   "outputs": [
    {
     "name": "stdout",
     "output_type": "stream",
     "text": [
      "Progress: 100%  22277 Out of 22277   \r"
     ]
    }
   ],
   "source": [
    "lst = []\n",
    "\n",
    "for i,index in enumerate(matrix.index):\n",
    "    \n",
    "    progressPercent = ((i+1)/len(matrix.index))*100\n",
    "\n",
    "    sys.stdout.write(\"Progress: %d%%  %d Out of %d   \\r\" % (progressPercent, (i+1), len(matrix.index)))\n",
    "    sys.stdout.flush()\n",
    "    \n",
    "    probe = matrix.ix[index, 'PROBE']\n",
    "    if probe in gene_meta.index and type(gene_meta.ix[probe, 1]) == str:\n",
    "        lst.append(gene_meta.ix[probe, 1])\n",
    "    else:\n",
    "        lst.append(np.nan)\n",
    "        \n",
    "matrix['PROBE'] = lst\n",
    "matrix.dropna(how='any', inplace=True)"
   ]
  },
  {
   "cell_type": "code",
   "execution_count": 9,
   "metadata": {
    "collapsed": true
   },
   "outputs": [],
   "source": [
    "matrix.set_index('PROBE', inplace=True)"
   ]
  },
  {
   "cell_type": "code",
   "execution_count": 10,
   "metadata": {},
   "outputs": [
    {
     "data": {
      "text/html": [
       "<div>\n",
       "<table border=\"1\" class=\"dataframe\">\n",
       "  <thead>\n",
       "    <tr style=\"text-align: right;\">\n",
       "      <th></th>\n",
       "      <th>BxPC-3</th>\n",
       "      <th>KMOE-2</th>\n",
       "      <th>ufM-223</th>\n",
       "      <th>NUGC-3</th>\n",
       "      <th>OC-314</th>\n",
       "      <th>COLO-741</th>\n",
       "      <th>KARPAS-45</th>\n",
       "      <th>JAR</th>\n",
       "      <th>DU-4475</th>\n",
       "      <th>MONO-MAC-6</th>\n",
       "      <th>...</th>\n",
       "      <th>SF268</th>\n",
       "      <th>TK10</th>\n",
       "      <th>A2780</th>\n",
       "      <th>OVCAR-4.1</th>\n",
       "      <th>A375</th>\n",
       "      <th>KP-N-S19s</th>\n",
       "      <th>BC-3</th>\n",
       "      <th>PANC-08-13.1</th>\n",
       "      <th>EKVX.1</th>\n",
       "      <th>DMS-114.1</th>\n",
       "    </tr>\n",
       "    <tr>\n",
       "      <th>PROBE</th>\n",
       "      <th></th>\n",
       "      <th></th>\n",
       "      <th></th>\n",
       "      <th></th>\n",
       "      <th></th>\n",
       "      <th></th>\n",
       "      <th></th>\n",
       "      <th></th>\n",
       "      <th></th>\n",
       "      <th></th>\n",
       "      <th></th>\n",
       "      <th></th>\n",
       "      <th></th>\n",
       "      <th></th>\n",
       "      <th></th>\n",
       "      <th></th>\n",
       "      <th></th>\n",
       "      <th></th>\n",
       "      <th></th>\n",
       "      <th></th>\n",
       "      <th></th>\n",
       "    </tr>\n",
       "  </thead>\n",
       "  <tbody>\n",
       "    <tr>\n",
       "      <th>RFC2</th>\n",
       "      <td>51.349139</td>\n",
       "      <td>135.185672</td>\n",
       "      <td>68.408031</td>\n",
       "      <td>65.130261</td>\n",
       "      <td>126.891209</td>\n",
       "      <td>146.355079</td>\n",
       "      <td>163.087330</td>\n",
       "      <td>103.647606</td>\n",
       "      <td>204.069724</td>\n",
       "      <td>113.892333</td>\n",
       "      <td>...</td>\n",
       "      <td>78.853615</td>\n",
       "      <td>55.688551</td>\n",
       "      <td>76.178632</td>\n",
       "      <td>23.357161</td>\n",
       "      <td>35.835890</td>\n",
       "      <td>75.858236</td>\n",
       "      <td>199.226068</td>\n",
       "      <td>63.581571</td>\n",
       "      <td>63.613736</td>\n",
       "      <td>91.283199</td>\n",
       "    </tr>\n",
       "    <tr>\n",
       "      <th>HSPA6</th>\n",
       "      <td>5.900338</td>\n",
       "      <td>53.393754</td>\n",
       "      <td>3.679530</td>\n",
       "      <td>0.835631</td>\n",
       "      <td>0.624551</td>\n",
       "      <td>3.906931</td>\n",
       "      <td>28.396109</td>\n",
       "      <td>10.808254</td>\n",
       "      <td>165.628891</td>\n",
       "      <td>3.575531</td>\n",
       "      <td>...</td>\n",
       "      <td>0.769494</td>\n",
       "      <td>2.808876</td>\n",
       "      <td>3.210985</td>\n",
       "      <td>0.670012</td>\n",
       "      <td>13.643147</td>\n",
       "      <td>7.977687</td>\n",
       "      <td>2.249444</td>\n",
       "      <td>1.784688</td>\n",
       "      <td>2.224977</td>\n",
       "      <td>3.879441</td>\n",
       "    </tr>\n",
       "    <tr>\n",
       "      <th>PAX8</th>\n",
       "      <td>29.984657</td>\n",
       "      <td>18.760248</td>\n",
       "      <td>22.707359</td>\n",
       "      <td>37.108880</td>\n",
       "      <td>347.899885</td>\n",
       "      <td>21.480952</td>\n",
       "      <td>40.950497</td>\n",
       "      <td>31.545490</td>\n",
       "      <td>31.226368</td>\n",
       "      <td>18.414480</td>\n",
       "      <td>...</td>\n",
       "      <td>22.735391</td>\n",
       "      <td>553.756598</td>\n",
       "      <td>16.793050</td>\n",
       "      <td>638.726055</td>\n",
       "      <td>38.407900</td>\n",
       "      <td>32.861390</td>\n",
       "      <td>53.520014</td>\n",
       "      <td>46.280554</td>\n",
       "      <td>21.681985</td>\n",
       "      <td>23.478692</td>\n",
       "    </tr>\n",
       "    <tr>\n",
       "      <th>GUCA1A</th>\n",
       "      <td>0.329891</td>\n",
       "      <td>1.891916</td>\n",
       "      <td>0.371882</td>\n",
       "      <td>1.384804</td>\n",
       "      <td>0.516666</td>\n",
       "      <td>0.461409</td>\n",
       "      <td>0.503592</td>\n",
       "      <td>0.550652</td>\n",
       "      <td>1.156150</td>\n",
       "      <td>0.565504</td>\n",
       "      <td>...</td>\n",
       "      <td>0.667385</td>\n",
       "      <td>1.072061</td>\n",
       "      <td>0.372600</td>\n",
       "      <td>6.173136</td>\n",
       "      <td>1.860528</td>\n",
       "      <td>18.326121</td>\n",
       "      <td>3.964986</td>\n",
       "      <td>0.492764</td>\n",
       "      <td>0.611497</td>\n",
       "      <td>13.048996</td>\n",
       "    </tr>\n",
       "    <tr>\n",
       "      <th>THRA</th>\n",
       "      <td>8.927264</td>\n",
       "      <td>22.617141</td>\n",
       "      <td>22.832327</td>\n",
       "      <td>9.482732</td>\n",
       "      <td>12.532744</td>\n",
       "      <td>20.129683</td>\n",
       "      <td>23.326317</td>\n",
       "      <td>7.619551</td>\n",
       "      <td>42.629940</td>\n",
       "      <td>20.252146</td>\n",
       "      <td>...</td>\n",
       "      <td>13.123840</td>\n",
       "      <td>10.745271</td>\n",
       "      <td>7.717689</td>\n",
       "      <td>16.380232</td>\n",
       "      <td>18.574513</td>\n",
       "      <td>19.247007</td>\n",
       "      <td>49.339992</td>\n",
       "      <td>12.359365</td>\n",
       "      <td>20.152065</td>\n",
       "      <td>30.058033</td>\n",
       "    </tr>\n",
       "  </tbody>\n",
       "</table>\n",
       "<p>5 rows × 789 columns</p>\n",
       "</div>"
      ],
      "text/plain": [
       "           BxPC-3      KMOE-2    ufM-223     NUGC-3      OC-314    COLO-741  \\\n",
       "PROBE                                                                         \n",
       "RFC2    51.349139  135.185672  68.408031  65.130261  126.891209  146.355079   \n",
       "HSPA6    5.900338   53.393754   3.679530   0.835631    0.624551    3.906931   \n",
       "PAX8    29.984657   18.760248  22.707359  37.108880  347.899885   21.480952   \n",
       "GUCA1A   0.329891    1.891916   0.371882   1.384804    0.516666    0.461409   \n",
       "THRA     8.927264   22.617141  22.832327   9.482732   12.532744   20.129683   \n",
       "\n",
       "         KARPAS-45         JAR     DU-4475  MONO-MAC-6    ...          SF268  \\\n",
       "PROBE                                                     ...                  \n",
       "RFC2    163.087330  103.647606  204.069724  113.892333    ...      78.853615   \n",
       "HSPA6    28.396109   10.808254  165.628891    3.575531    ...       0.769494   \n",
       "PAX8     40.950497   31.545490   31.226368   18.414480    ...      22.735391   \n",
       "GUCA1A    0.503592    0.550652    1.156150    0.565504    ...       0.667385   \n",
       "THRA     23.326317    7.619551   42.629940   20.252146    ...      13.123840   \n",
       "\n",
       "              TK10      A2780   OVCAR-4.1       A375  KP-N-S19s        BC-3  \\\n",
       "PROBE                                                                         \n",
       "RFC2     55.688551  76.178632   23.357161  35.835890  75.858236  199.226068   \n",
       "HSPA6     2.808876   3.210985    0.670012  13.643147   7.977687    2.249444   \n",
       "PAX8    553.756598  16.793050  638.726055  38.407900  32.861390   53.520014   \n",
       "GUCA1A    1.072061   0.372600    6.173136   1.860528  18.326121    3.964986   \n",
       "THRA     10.745271   7.717689   16.380232  18.574513  19.247007   49.339992   \n",
       "\n",
       "        PANC-08-13.1     EKVX.1  DMS-114.1  \n",
       "PROBE                                       \n",
       "RFC2       63.581571  63.613736  91.283199  \n",
       "HSPA6       1.784688   2.224977   3.879441  \n",
       "PAX8       46.280554  21.681985  23.478692  \n",
       "GUCA1A      0.492764   0.611497  13.048996  \n",
       "THRA       12.359365  20.152065  30.058033  \n",
       "\n",
       "[5 rows x 789 columns]"
      ]
     },
     "execution_count": 10,
     "metadata": {},
     "output_type": "execute_result"
    }
   ],
   "source": [
    "matrix.head()"
   ]
  },
  {
   "cell_type": "code",
   "execution_count": 11,
   "metadata": {},
   "outputs": [
    {
     "data": {
      "text/plain": [
       "(19862, 789)"
      ]
     },
     "execution_count": 11,
     "metadata": {},
     "output_type": "execute_result"
    }
   ],
   "source": [
    "matrix.shape"
   ]
  },
  {
   "cell_type": "markdown",
   "metadata": {},
   "source": [
    "# Save Unfiltered Matrix To File"
   ]
  },
  {
   "cell_type": "code",
   "execution_count": 12,
   "metadata": {},
   "outputs": [],
   "source": [
    "filename = '~/./Documents/Harmonizome/GDSC/Output/gdsc_matrix_unfilltered_%s.tsv.zip'% str(datetime.date.today())[0:7].replace('-', '_')\n",
    "matrix.to_csv(filename, sep='\\t', compression='gzip')"
   ]
  },
  {
   "cell_type": "markdown",
   "metadata": {},
   "source": [
    "# Drop Any Genes That Have Zero Expression Across 95% Of The Samples"
   ]
  },
  {
   "cell_type": "code",
   "execution_count": 13,
   "metadata": {
    "collapsed": true
   },
   "outputs": [],
   "source": [
    "normalized_matrix = matrix.copy()"
   ]
  },
  {
   "cell_type": "code",
   "execution_count": 14,
   "metadata": {
    "collapsed": true
   },
   "outputs": [],
   "source": [
    " normalized_matrix.replace(0, np.nan, inplace=True)"
   ]
  },
  {
   "cell_type": "code",
   "execution_count": 15,
   "metadata": {
    "collapsed": true
   },
   "outputs": [],
   "source": [
    "normalized_matrix.dropna(thresh=(0.05*normalized_matrix.shape[1]), axis=0, inplace=True)"
   ]
  },
  {
   "cell_type": "code",
   "execution_count": 16,
   "metadata": {
    "collapsed": true
   },
   "outputs": [],
   "source": [
    "normalized_matrix.replace(np.nan, 0, inplace=True)"
   ]
  },
  {
   "cell_type": "code",
   "execution_count": 17,
   "metadata": {},
   "outputs": [
    {
     "data": {
      "text/plain": [
       "(19862, 789)"
      ]
     },
     "execution_count": 17,
     "metadata": {},
     "output_type": "execute_result"
    }
   ],
   "source": [
    "normalized_matrix.shape"
   ]
  },
  {
   "cell_type": "markdown",
   "metadata": {},
   "source": [
    "# Normalize Matrix (Quantile Normalize the matrix for the columns)"
   ]
  },
  {
   "cell_type": "code",
   "execution_count": 18,
   "metadata": {},
   "outputs": [
    {
     "name": "stdout",
     "output_type": "stream",
     "text": [
      "Step 2/2 progress: 100%  789 Out of 789   \r"
     ]
    }
   ],
   "source": [
    "normalized_matrix = uf.quantileNormalize(normalized_matrix)"
   ]
  },
  {
   "cell_type": "code",
   "execution_count": 19,
   "metadata": {},
   "outputs": [
    {
     "data": {
      "text/html": [
       "<div>\n",
       "<table border=\"1\" class=\"dataframe\">\n",
       "  <thead>\n",
       "    <tr style=\"text-align: right;\">\n",
       "      <th></th>\n",
       "      <th>BxPC-3</th>\n",
       "      <th>KMOE-2</th>\n",
       "      <th>ufM-223</th>\n",
       "      <th>NUGC-3</th>\n",
       "      <th>OC-314</th>\n",
       "      <th>COLO-741</th>\n",
       "      <th>KARPAS-45</th>\n",
       "      <th>JAR</th>\n",
       "      <th>DU-4475</th>\n",
       "      <th>MONO-MAC-6</th>\n",
       "      <th>...</th>\n",
       "      <th>SF268</th>\n",
       "      <th>TK10</th>\n",
       "      <th>A2780</th>\n",
       "      <th>OVCAR-4.1</th>\n",
       "      <th>A375</th>\n",
       "      <th>KP-N-S19s</th>\n",
       "      <th>BC-3</th>\n",
       "      <th>PANC-08-13.1</th>\n",
       "      <th>EKVX.1</th>\n",
       "      <th>DMS-114.1</th>\n",
       "    </tr>\n",
       "    <tr>\n",
       "      <th>PROBE</th>\n",
       "      <th></th>\n",
       "      <th></th>\n",
       "      <th></th>\n",
       "      <th></th>\n",
       "      <th></th>\n",
       "      <th></th>\n",
       "      <th></th>\n",
       "      <th></th>\n",
       "      <th></th>\n",
       "      <th></th>\n",
       "      <th></th>\n",
       "      <th></th>\n",
       "      <th></th>\n",
       "      <th></th>\n",
       "      <th></th>\n",
       "      <th></th>\n",
       "      <th></th>\n",
       "      <th></th>\n",
       "      <th></th>\n",
       "      <th></th>\n",
       "      <th></th>\n",
       "    </tr>\n",
       "  </thead>\n",
       "  <tbody>\n",
       "    <tr>\n",
       "      <th>RFC2</th>\n",
       "      <td>49.912741</td>\n",
       "      <td>131.919818</td>\n",
       "      <td>68.849847</td>\n",
       "      <td>60.170185</td>\n",
       "      <td>113.173296</td>\n",
       "      <td>140.442908</td>\n",
       "      <td>158.879180</td>\n",
       "      <td>104.863396</td>\n",
       "      <td>208.419544</td>\n",
       "      <td>111.458477</td>\n",
       "      <td>...</td>\n",
       "      <td>74.955031</td>\n",
       "      <td>50.965606</td>\n",
       "      <td>74.218338</td>\n",
       "      <td>22.769558</td>\n",
       "      <td>29.971693</td>\n",
       "      <td>64.374866</td>\n",
       "      <td>205.414014</td>\n",
       "      <td>61.439664</td>\n",
       "      <td>61.120339</td>\n",
       "      <td>84.524163</td>\n",
       "    </tr>\n",
       "    <tr>\n",
       "      <th>HSPA6</th>\n",
       "      <td>6.432464</td>\n",
       "      <td>57.822184</td>\n",
       "      <td>5.386406</td>\n",
       "      <td>1.454813</td>\n",
       "      <td>1.059324</td>\n",
       "      <td>5.386406</td>\n",
       "      <td>32.118009</td>\n",
       "      <td>15.690193</td>\n",
       "      <td>168.134055</td>\n",
       "      <td>5.318793</td>\n",
       "      <td>...</td>\n",
       "      <td>0.849222</td>\n",
       "      <td>3.045805</td>\n",
       "      <td>4.215177</td>\n",
       "      <td>0.572874</td>\n",
       "      <td>11.035236</td>\n",
       "      <td>5.729556</td>\n",
       "      <td>1.656562</td>\n",
       "      <td>2.519119</td>\n",
       "      <td>2.396972</td>\n",
       "      <td>3.524920</td>\n",
       "    </tr>\n",
       "    <tr>\n",
       "      <th>PAX8</th>\n",
       "      <td>29.200466</td>\n",
       "      <td>24.173254</td>\n",
       "      <td>26.446721</td>\n",
       "      <td>36.610704</td>\n",
       "      <td>339.543847</td>\n",
       "      <td>24.964202</td>\n",
       "      <td>44.647413</td>\n",
       "      <td>37.369442</td>\n",
       "      <td>31.011522</td>\n",
       "      <td>23.094729</td>\n",
       "      <td>...</td>\n",
       "      <td>22.305402</td>\n",
       "      <td>549.481252</td>\n",
       "      <td>18.747931</td>\n",
       "      <td>633.144859</td>\n",
       "      <td>32.174341</td>\n",
       "      <td>24.366186</td>\n",
       "      <td>49.164260</td>\n",
       "      <td>45.575087</td>\n",
       "      <td>20.193253</td>\n",
       "      <td>19.480752</td>\n",
       "    </tr>\n",
       "    <tr>\n",
       "      <th>GUCA1A</th>\n",
       "      <td>0.438586</td>\n",
       "      <td>3.109434</td>\n",
       "      <td>0.715395</td>\n",
       "      <td>2.051112</td>\n",
       "      <td>0.917630</td>\n",
       "      <td>0.832674</td>\n",
       "      <td>0.578145</td>\n",
       "      <td>0.903686</td>\n",
       "      <td>1.250702</td>\n",
       "      <td>0.931887</td>\n",
       "      <td>...</td>\n",
       "      <td>0.733659</td>\n",
       "      <td>1.086581</td>\n",
       "      <td>0.379426</td>\n",
       "      <td>5.878178</td>\n",
       "      <td>1.695669</td>\n",
       "      <td>13.114842</td>\n",
       "      <td>3.852042</td>\n",
       "      <td>0.641114</td>\n",
       "      <td>0.793042</td>\n",
       "      <td>10.230372</td>\n",
       "    </tr>\n",
       "    <tr>\n",
       "      <th>THRA</th>\n",
       "      <td>9.885777</td>\n",
       "      <td>28.196345</td>\n",
       "      <td>26.601635</td>\n",
       "      <td>12.932332</td>\n",
       "      <td>14.440789</td>\n",
       "      <td>23.711994</td>\n",
       "      <td>27.345918</td>\n",
       "      <td>11.095612</td>\n",
       "      <td>42.731143</td>\n",
       "      <td>24.956751</td>\n",
       "      <td>...</td>\n",
       "      <td>12.887476</td>\n",
       "      <td>9.794829</td>\n",
       "      <td>8.963791</td>\n",
       "      <td>15.533873</td>\n",
       "      <td>14.962072</td>\n",
       "      <td>13.679505</td>\n",
       "      <td>45.262149</td>\n",
       "      <td>13.782679</td>\n",
       "      <td>18.781430</td>\n",
       "      <td>25.802687</td>\n",
       "    </tr>\n",
       "  </tbody>\n",
       "</table>\n",
       "<p>5 rows × 789 columns</p>\n",
       "</div>"
      ],
      "text/plain": [
       "           BxPC-3      KMOE-2    ufM-223     NUGC-3      OC-314    COLO-741  \\\n",
       "PROBE                                                                         \n",
       "RFC2    49.912741  131.919818  68.849847  60.170185  113.173296  140.442908   \n",
       "HSPA6    6.432464   57.822184   5.386406   1.454813    1.059324    5.386406   \n",
       "PAX8    29.200466   24.173254  26.446721  36.610704  339.543847   24.964202   \n",
       "GUCA1A   0.438586    3.109434   0.715395   2.051112    0.917630    0.832674   \n",
       "THRA     9.885777   28.196345  26.601635  12.932332   14.440789   23.711994   \n",
       "\n",
       "         KARPAS-45         JAR     DU-4475  MONO-MAC-6    ...          SF268  \\\n",
       "PROBE                                                     ...                  \n",
       "RFC2    158.879180  104.863396  208.419544  111.458477    ...      74.955031   \n",
       "HSPA6    32.118009   15.690193  168.134055    5.318793    ...       0.849222   \n",
       "PAX8     44.647413   37.369442   31.011522   23.094729    ...      22.305402   \n",
       "GUCA1A    0.578145    0.903686    1.250702    0.931887    ...       0.733659   \n",
       "THRA     27.345918   11.095612   42.731143   24.956751    ...      12.887476   \n",
       "\n",
       "              TK10      A2780   OVCAR-4.1       A375  KP-N-S19s        BC-3  \\\n",
       "PROBE                                                                         \n",
       "RFC2     50.965606  74.218338   22.769558  29.971693  64.374866  205.414014   \n",
       "HSPA6     3.045805   4.215177    0.572874  11.035236   5.729556    1.656562   \n",
       "PAX8    549.481252  18.747931  633.144859  32.174341  24.366186   49.164260   \n",
       "GUCA1A    1.086581   0.379426    5.878178   1.695669  13.114842    3.852042   \n",
       "THRA      9.794829   8.963791   15.533873  14.962072  13.679505   45.262149   \n",
       "\n",
       "        PANC-08-13.1     EKVX.1  DMS-114.1  \n",
       "PROBE                                       \n",
       "RFC2       61.439664  61.120339  84.524163  \n",
       "HSPA6       2.519119   2.396972   3.524920  \n",
       "PAX8       45.575087  20.193253  19.480752  \n",
       "GUCA1A      0.641114   0.793042  10.230372  \n",
       "THRA       13.782679  18.781430  25.802687  \n",
       "\n",
       "[5 rows x 789 columns]"
      ]
     },
     "execution_count": 19,
     "metadata": {},
     "output_type": "execute_result"
    }
   ],
   "source": [
    "normalized_matrix.head()"
   ]
  },
  {
   "cell_type": "markdown",
   "metadata": {},
   "source": [
    "# Nomalize Matrix (z-score the rows)"
   ]
  },
  {
   "cell_type": "code",
   "execution_count": 20,
   "metadata": {},
   "outputs": [
    {
     "name": "stdout",
     "output_type": "stream",
     "text": [
      "Progress: 100%  19862 Out of 19862   \r"
     ]
    }
   ],
   "source": [
    "uf.zscore(normalized_matrix, 'row')"
   ]
  },
  {
   "cell_type": "code",
   "execution_count": 21,
   "metadata": {},
   "outputs": [
    {
     "data": {
      "text/html": [
       "<div>\n",
       "<table border=\"1\" class=\"dataframe\">\n",
       "  <thead>\n",
       "    <tr style=\"text-align: right;\">\n",
       "      <th></th>\n",
       "      <th>BxPC-3</th>\n",
       "      <th>KMOE-2</th>\n",
       "      <th>ufM-223</th>\n",
       "      <th>NUGC-3</th>\n",
       "      <th>OC-314</th>\n",
       "      <th>COLO-741</th>\n",
       "      <th>KARPAS-45</th>\n",
       "      <th>JAR</th>\n",
       "      <th>DU-4475</th>\n",
       "      <th>MONO-MAC-6</th>\n",
       "      <th>...</th>\n",
       "      <th>SF268</th>\n",
       "      <th>TK10</th>\n",
       "      <th>A2780</th>\n",
       "      <th>OVCAR-4.1</th>\n",
       "      <th>A375</th>\n",
       "      <th>KP-N-S19s</th>\n",
       "      <th>BC-3</th>\n",
       "      <th>PANC-08-13.1</th>\n",
       "      <th>EKVX.1</th>\n",
       "      <th>DMS-114.1</th>\n",
       "    </tr>\n",
       "    <tr>\n",
       "      <th>PROBE</th>\n",
       "      <th></th>\n",
       "      <th></th>\n",
       "      <th></th>\n",
       "      <th></th>\n",
       "      <th></th>\n",
       "      <th></th>\n",
       "      <th></th>\n",
       "      <th></th>\n",
       "      <th></th>\n",
       "      <th></th>\n",
       "      <th></th>\n",
       "      <th></th>\n",
       "      <th></th>\n",
       "      <th></th>\n",
       "      <th></th>\n",
       "      <th></th>\n",
       "      <th></th>\n",
       "      <th></th>\n",
       "      <th></th>\n",
       "      <th></th>\n",
       "      <th></th>\n",
       "    </tr>\n",
       "  </thead>\n",
       "  <tbody>\n",
       "    <tr>\n",
       "      <th>RFC2</th>\n",
       "      <td>-0.711609</td>\n",
       "      <td>1.131753</td>\n",
       "      <td>-0.285939</td>\n",
       "      <td>-0.481041</td>\n",
       "      <td>0.710367</td>\n",
       "      <td>1.323336</td>\n",
       "      <td>1.737748</td>\n",
       "      <td>0.523577</td>\n",
       "      <td>2.851321</td>\n",
       "      <td>0.671822</td>\n",
       "      <td>...</td>\n",
       "      <td>-0.148706</td>\n",
       "      <td>-0.687942</td>\n",
       "      <td>-0.165265</td>\n",
       "      <td>-1.321736</td>\n",
       "      <td>-1.159845</td>\n",
       "      <td>-0.386528</td>\n",
       "      <td>2.783762</td>\n",
       "      <td>-0.452506</td>\n",
       "      <td>-0.459683</td>\n",
       "      <td>0.066390</td>\n",
       "    </tr>\n",
       "    <tr>\n",
       "      <th>HSPA6</th>\n",
       "      <td>-0.185270</td>\n",
       "      <td>0.598926</td>\n",
       "      <td>-0.201232</td>\n",
       "      <td>-0.261228</td>\n",
       "      <td>-0.267263</td>\n",
       "      <td>-0.201232</td>\n",
       "      <td>0.206686</td>\n",
       "      <td>-0.043999</td>\n",
       "      <td>2.282262</td>\n",
       "      <td>-0.202264</td>\n",
       "      <td>...</td>\n",
       "      <td>-0.270469</td>\n",
       "      <td>-0.236949</td>\n",
       "      <td>-0.219105</td>\n",
       "      <td>-0.274686</td>\n",
       "      <td>-0.115032</td>\n",
       "      <td>-0.195996</td>\n",
       "      <td>-0.258149</td>\n",
       "      <td>-0.244986</td>\n",
       "      <td>-0.246850</td>\n",
       "      <td>-0.229638</td>\n",
       "    </tr>\n",
       "    <tr>\n",
       "      <th>PAX8</th>\n",
       "      <td>-0.252337</td>\n",
       "      <td>-0.272261</td>\n",
       "      <td>-0.263251</td>\n",
       "      <td>-0.222968</td>\n",
       "      <td>0.977647</td>\n",
       "      <td>-0.269127</td>\n",
       "      <td>-0.191116</td>\n",
       "      <td>-0.219961</td>\n",
       "      <td>-0.245159</td>\n",
       "      <td>-0.276536</td>\n",
       "      <td>...</td>\n",
       "      <td>-0.279664</td>\n",
       "      <td>1.809692</td>\n",
       "      <td>-0.293764</td>\n",
       "      <td>2.141276</td>\n",
       "      <td>-0.240551</td>\n",
       "      <td>-0.271497</td>\n",
       "      <td>-0.173215</td>\n",
       "      <td>-0.187440</td>\n",
       "      <td>-0.288035</td>\n",
       "      <td>-0.290859</td>\n",
       "    </tr>\n",
       "    <tr>\n",
       "      <th>GUCA1A</th>\n",
       "      <td>-0.089372</td>\n",
       "      <td>-0.058817</td>\n",
       "      <td>-0.086205</td>\n",
       "      <td>-0.070924</td>\n",
       "      <td>-0.083892</td>\n",
       "      <td>-0.084863</td>\n",
       "      <td>-0.087775</td>\n",
       "      <td>-0.084051</td>\n",
       "      <td>-0.080081</td>\n",
       "      <td>-0.083728</td>\n",
       "      <td>...</td>\n",
       "      <td>-0.085996</td>\n",
       "      <td>-0.081959</td>\n",
       "      <td>-0.090049</td>\n",
       "      <td>-0.027142</td>\n",
       "      <td>-0.074991</td>\n",
       "      <td>0.055647</td>\n",
       "      <td>-0.050321</td>\n",
       "      <td>-0.087055</td>\n",
       "      <td>-0.085317</td>\n",
       "      <td>0.022648</td>\n",
       "    </tr>\n",
       "    <tr>\n",
       "      <th>THRA</th>\n",
       "      <td>-1.068731</td>\n",
       "      <td>0.398442</td>\n",
       "      <td>0.270662</td>\n",
       "      <td>-0.824620</td>\n",
       "      <td>-0.703751</td>\n",
       "      <td>0.039124</td>\n",
       "      <td>0.330299</td>\n",
       "      <td>-0.971791</td>\n",
       "      <td>1.563073</td>\n",
       "      <td>0.138862</td>\n",
       "      <td>...</td>\n",
       "      <td>-0.828214</td>\n",
       "      <td>-1.076018</td>\n",
       "      <td>-1.142607</td>\n",
       "      <td>-0.616166</td>\n",
       "      <td>-0.661982</td>\n",
       "      <td>-0.764751</td>\n",
       "      <td>1.765875</td>\n",
       "      <td>-0.756484</td>\n",
       "      <td>-0.355948</td>\n",
       "      <td>0.206645</td>\n",
       "    </tr>\n",
       "  </tbody>\n",
       "</table>\n",
       "<p>5 rows × 789 columns</p>\n",
       "</div>"
      ],
      "text/plain": [
       "          BxPC-3    KMOE-2   ufM-223    NUGC-3    OC-314  COLO-741  KARPAS-45  \\\n",
       "PROBE                                                                           \n",
       "RFC2   -0.711609  1.131753 -0.285939 -0.481041  0.710367  1.323336   1.737748   \n",
       "HSPA6  -0.185270  0.598926 -0.201232 -0.261228 -0.267263 -0.201232   0.206686   \n",
       "PAX8   -0.252337 -0.272261 -0.263251 -0.222968  0.977647 -0.269127  -0.191116   \n",
       "GUCA1A -0.089372 -0.058817 -0.086205 -0.070924 -0.083892 -0.084863  -0.087775   \n",
       "THRA   -1.068731  0.398442  0.270662 -0.824620 -0.703751  0.039124   0.330299   \n",
       "\n",
       "             JAR   DU-4475  MONO-MAC-6    ...         SF268      TK10  \\\n",
       "PROBE                                     ...                           \n",
       "RFC2    0.523577  2.851321    0.671822    ...     -0.148706 -0.687942   \n",
       "HSPA6  -0.043999  2.282262   -0.202264    ...     -0.270469 -0.236949   \n",
       "PAX8   -0.219961 -0.245159   -0.276536    ...     -0.279664  1.809692   \n",
       "GUCA1A -0.084051 -0.080081   -0.083728    ...     -0.085996 -0.081959   \n",
       "THRA   -0.971791  1.563073    0.138862    ...     -0.828214 -1.076018   \n",
       "\n",
       "           A2780  OVCAR-4.1      A375  KP-N-S19s      BC-3  PANC-08-13.1  \\\n",
       "PROBE                                                                      \n",
       "RFC2   -0.165265  -1.321736 -1.159845  -0.386528  2.783762     -0.452506   \n",
       "HSPA6  -0.219105  -0.274686 -0.115032  -0.195996 -0.258149     -0.244986   \n",
       "PAX8   -0.293764   2.141276 -0.240551  -0.271497 -0.173215     -0.187440   \n",
       "GUCA1A -0.090049  -0.027142 -0.074991   0.055647 -0.050321     -0.087055   \n",
       "THRA   -1.142607  -0.616166 -0.661982  -0.764751  1.765875     -0.756484   \n",
       "\n",
       "          EKVX.1  DMS-114.1  \n",
       "PROBE                        \n",
       "RFC2   -0.459683   0.066390  \n",
       "HSPA6  -0.246850  -0.229638  \n",
       "PAX8   -0.288035  -0.290859  \n",
       "GUCA1A -0.085317   0.022648  \n",
       "THRA   -0.355948   0.206645  \n",
       "\n",
       "[5 rows x 789 columns]"
      ]
     },
     "execution_count": 21,
     "metadata": {},
     "output_type": "execute_result"
    }
   ],
   "source": [
    "normalized_matrix.head()"
   ]
  },
  {
   "cell_type": "markdown",
   "metadata": {},
   "source": [
    "# Merge Duplicate Samples By Columns (by taking the mean)"
   ]
  },
  {
   "cell_type": "code",
   "execution_count": 22,
   "metadata": {},
   "outputs": [],
   "source": [
    "lst = []\n",
    "\n",
    "for col in normalized_matrix.columns:\n",
    "    lst.append(col.split('.')[0])\n",
    "    \n",
    "normalized_matrix.columns = lst"
   ]
  },
  {
   "cell_type": "code",
   "execution_count": 23,
   "metadata": {
    "collapsed": true
   },
   "outputs": [],
   "source": [
    "normalized_matrix = uf.merge(normalized_matrix, 'column', 'mean')"
   ]
  },
  {
   "cell_type": "code",
   "execution_count": 24,
   "metadata": {},
   "outputs": [
    {
     "data": {
      "text/plain": [
       "(19862, 727)"
      ]
     },
     "execution_count": 24,
     "metadata": {},
     "output_type": "execute_result"
    }
   ],
   "source": [
    "normalized_matrix.shape"
   ]
  },
  {
   "cell_type": "markdown",
   "metadata": {},
   "source": [
    "# Map Gene Symbols To Up-to-date Approved Gene Symbols"
   ]
  },
  {
   "cell_type": "code",
   "execution_count": 25,
   "metadata": {},
   "outputs": [
    {
     "name": "stdout",
     "output_type": "stream",
     "text": [
      "Progeres: 100%  19862 Out of 19862   \r"
     ]
    }
   ],
   "source": [
    "uf.mapgenesymbols(normalized_matrix)"
   ]
  },
  {
   "cell_type": "code",
   "execution_count": 26,
   "metadata": {},
   "outputs": [
    {
     "data": {
      "text/plain": [
       "(19862, 789)"
      ]
     },
     "execution_count": 26,
     "metadata": {},
     "output_type": "execute_result"
    }
   ],
   "source": [
    "matrix.shape"
   ]
  },
  {
   "cell_type": "markdown",
   "metadata": {},
   "source": [
    "# Merge Duplicate Genes By Rows"
   ]
  },
  {
   "cell_type": "code",
   "execution_count": 27,
   "metadata": {
    "collapsed": true
   },
   "outputs": [],
   "source": [
    "normalized_matrix = uf.merge(normalized_matrix, 'row', 'mean')"
   ]
  },
  {
   "cell_type": "code",
   "execution_count": 28,
   "metadata": {},
   "outputs": [
    {
     "data": {
      "text/plain": [
       "(12296, 727)"
      ]
     },
     "execution_count": 28,
     "metadata": {},
     "output_type": "execute_result"
    }
   ],
   "source": [
    "normalized_matrix.shape"
   ]
  },
  {
   "cell_type": "markdown",
   "metadata": {},
   "source": [
    "# Save Filtered Matrix"
   ]
  },
  {
   "cell_type": "code",
   "execution_count": 29,
   "metadata": {
    "collapsed": true
   },
   "outputs": [],
   "source": [
    "filename = '~/./Documents/Harmonizome/GDSC/Output/gdsc_matrix_filltered_%s.tsv.zip'% str(datetime.date.today())[0:7].replace('-', '_')\n",
    "normalized_matrix.to_csv(filename, sep='\\t', compression='gzip')"
   ]
  },
  {
   "cell_type": "markdown",
   "metadata": {},
   "source": [
    "# Create Tertiary Matrix"
   ]
  },
  {
   "cell_type": "code",
   "execution_count": 30,
   "metadata": {},
   "outputs": [
    {
     "name": "stdout",
     "output_type": "stream",
     "text": [
      "Progeres: 100%  727 Out of 727   \r"
     ]
    }
   ],
   "source": [
    "tertiary_matrix = uf.createTertiaryMarix(normalized_matrix)"
   ]
  },
  {
   "cell_type": "code",
   "execution_count": 31,
   "metadata": {},
   "outputs": [
    {
     "data": {
      "text/html": [
       "<div>\n",
       "<table border=\"1\" class=\"dataframe\">\n",
       "  <thead>\n",
       "    <tr style=\"text-align: right;\">\n",
       "      <th></th>\n",
       "      <th>22RV1</th>\n",
       "      <th>23132-87</th>\n",
       "      <th>380</th>\n",
       "      <th>5637</th>\n",
       "      <th>639-V</th>\n",
       "      <th>647-V</th>\n",
       "      <th>697</th>\n",
       "      <th>769-P</th>\n",
       "      <th>786-0</th>\n",
       "      <th>8-MG-BA</th>\n",
       "      <th>...</th>\n",
       "      <th>VMRC-RCZ</th>\n",
       "      <th>WERI-Rb-1</th>\n",
       "      <th>WM-115</th>\n",
       "      <th>WSU-NHL</th>\n",
       "      <th>YAPC</th>\n",
       "      <th>YH-13</th>\n",
       "      <th>YKG-1</th>\n",
       "      <th>ZR-75-30</th>\n",
       "      <th>no-10</th>\n",
       "      <th>no-11</th>\n",
       "    </tr>\n",
       "    <tr>\n",
       "      <th>PROBE</th>\n",
       "      <th></th>\n",
       "      <th></th>\n",
       "      <th></th>\n",
       "      <th></th>\n",
       "      <th></th>\n",
       "      <th></th>\n",
       "      <th></th>\n",
       "      <th></th>\n",
       "      <th></th>\n",
       "      <th></th>\n",
       "      <th></th>\n",
       "      <th></th>\n",
       "      <th></th>\n",
       "      <th></th>\n",
       "      <th></th>\n",
       "      <th></th>\n",
       "      <th></th>\n",
       "      <th></th>\n",
       "      <th></th>\n",
       "      <th></th>\n",
       "      <th></th>\n",
       "    </tr>\n",
       "  </thead>\n",
       "  <tbody>\n",
       "    <tr>\n",
       "      <th>A1CF</th>\n",
       "      <td>1.0</td>\n",
       "      <td>0.0</td>\n",
       "      <td>0.0</td>\n",
       "      <td>0.0</td>\n",
       "      <td>0.0</td>\n",
       "      <td>0.0</td>\n",
       "      <td>0.0</td>\n",
       "      <td>1.0</td>\n",
       "      <td>0.0</td>\n",
       "      <td>0.0</td>\n",
       "      <td>...</td>\n",
       "      <td>0.0</td>\n",
       "      <td>0.0</td>\n",
       "      <td>0.0</td>\n",
       "      <td>0.0</td>\n",
       "      <td>0.0</td>\n",
       "      <td>0.0</td>\n",
       "      <td>0.0</td>\n",
       "      <td>0.0</td>\n",
       "      <td>0.0</td>\n",
       "      <td>0.0</td>\n",
       "    </tr>\n",
       "    <tr>\n",
       "      <th>A2M</th>\n",
       "      <td>0.0</td>\n",
       "      <td>0.0</td>\n",
       "      <td>0.0</td>\n",
       "      <td>0.0</td>\n",
       "      <td>0.0</td>\n",
       "      <td>0.0</td>\n",
       "      <td>0.0</td>\n",
       "      <td>0.0</td>\n",
       "      <td>0.0</td>\n",
       "      <td>0.0</td>\n",
       "      <td>...</td>\n",
       "      <td>0.0</td>\n",
       "      <td>0.0</td>\n",
       "      <td>1.0</td>\n",
       "      <td>0.0</td>\n",
       "      <td>0.0</td>\n",
       "      <td>0.0</td>\n",
       "      <td>0.0</td>\n",
       "      <td>0.0</td>\n",
       "      <td>0.0</td>\n",
       "      <td>0.0</td>\n",
       "    </tr>\n",
       "    <tr>\n",
       "      <th>A4GALT</th>\n",
       "      <td>-1.0</td>\n",
       "      <td>0.0</td>\n",
       "      <td>-1.0</td>\n",
       "      <td>0.0</td>\n",
       "      <td>0.0</td>\n",
       "      <td>-1.0</td>\n",
       "      <td>-1.0</td>\n",
       "      <td>0.0</td>\n",
       "      <td>-1.0</td>\n",
       "      <td>0.0</td>\n",
       "      <td>...</td>\n",
       "      <td>0.0</td>\n",
       "      <td>0.0</td>\n",
       "      <td>0.0</td>\n",
       "      <td>-1.0</td>\n",
       "      <td>0.0</td>\n",
       "      <td>0.0</td>\n",
       "      <td>0.0</td>\n",
       "      <td>0.0</td>\n",
       "      <td>0.0</td>\n",
       "      <td>1.0</td>\n",
       "    </tr>\n",
       "    <tr>\n",
       "      <th>A4GNT</th>\n",
       "      <td>-1.0</td>\n",
       "      <td>0.0</td>\n",
       "      <td>-1.0</td>\n",
       "      <td>-1.0</td>\n",
       "      <td>0.0</td>\n",
       "      <td>0.0</td>\n",
       "      <td>1.0</td>\n",
       "      <td>0.0</td>\n",
       "      <td>1.0</td>\n",
       "      <td>0.0</td>\n",
       "      <td>...</td>\n",
       "      <td>0.0</td>\n",
       "      <td>-1.0</td>\n",
       "      <td>0.0</td>\n",
       "      <td>-1.0</td>\n",
       "      <td>0.0</td>\n",
       "      <td>0.0</td>\n",
       "      <td>0.0</td>\n",
       "      <td>-1.0</td>\n",
       "      <td>0.0</td>\n",
       "      <td>0.0</td>\n",
       "    </tr>\n",
       "    <tr>\n",
       "      <th>AAAS</th>\n",
       "      <td>0.0</td>\n",
       "      <td>0.0</td>\n",
       "      <td>-1.0</td>\n",
       "      <td>-1.0</td>\n",
       "      <td>0.0</td>\n",
       "      <td>-1.0</td>\n",
       "      <td>0.0</td>\n",
       "      <td>1.0</td>\n",
       "      <td>-1.0</td>\n",
       "      <td>0.0</td>\n",
       "      <td>...</td>\n",
       "      <td>0.0</td>\n",
       "      <td>0.0</td>\n",
       "      <td>0.0</td>\n",
       "      <td>0.0</td>\n",
       "      <td>0.0</td>\n",
       "      <td>0.0</td>\n",
       "      <td>0.0</td>\n",
       "      <td>-1.0</td>\n",
       "      <td>-1.0</td>\n",
       "      <td>0.0</td>\n",
       "    </tr>\n",
       "  </tbody>\n",
       "</table>\n",
       "<p>5 rows × 727 columns</p>\n",
       "</div>"
      ],
      "text/plain": [
       "        22RV1  23132-87  380  5637  639-V  647-V  697  769-P  786-0  8-MG-BA  \\\n",
       "PROBE                                                                          \n",
       "A1CF      1.0       0.0  0.0   0.0    0.0    0.0  0.0    1.0    0.0      0.0   \n",
       "A2M       0.0       0.0  0.0   0.0    0.0    0.0  0.0    0.0    0.0      0.0   \n",
       "A4GALT   -1.0       0.0 -1.0   0.0    0.0   -1.0 -1.0    0.0   -1.0      0.0   \n",
       "A4GNT    -1.0       0.0 -1.0  -1.0    0.0    0.0  1.0    0.0    1.0      0.0   \n",
       "AAAS      0.0       0.0 -1.0  -1.0    0.0   -1.0  0.0    1.0   -1.0      0.0   \n",
       "\n",
       "        ...    VMRC-RCZ  WERI-Rb-1  WM-115  WSU-NHL  YAPC  YH-13  YKG-1  \\\n",
       "PROBE   ...                                                               \n",
       "A1CF    ...         0.0        0.0     0.0      0.0   0.0    0.0    0.0   \n",
       "A2M     ...         0.0        0.0     1.0      0.0   0.0    0.0    0.0   \n",
       "A4GALT  ...         0.0        0.0     0.0     -1.0   0.0    0.0    0.0   \n",
       "A4GNT   ...         0.0       -1.0     0.0     -1.0   0.0    0.0    0.0   \n",
       "AAAS    ...         0.0        0.0     0.0      0.0   0.0    0.0    0.0   \n",
       "\n",
       "        ZR-75-30  no-10  no-11  \n",
       "PROBE                           \n",
       "A1CF         0.0    0.0    0.0  \n",
       "A2M          0.0    0.0    0.0  \n",
       "A4GALT       0.0    0.0    1.0  \n",
       "A4GNT       -1.0    0.0    0.0  \n",
       "AAAS        -1.0   -1.0    0.0  \n",
       "\n",
       "[5 rows x 727 columns]"
      ]
     },
     "execution_count": 31,
     "metadata": {},
     "output_type": "execute_result"
    }
   ],
   "source": [
    "tertiary_matrix.head()"
   ]
  },
  {
   "cell_type": "markdown",
   "metadata": {},
   "source": [
    "# Save Teriary Matrix"
   ]
  },
  {
   "cell_type": "code",
   "execution_count": 32,
   "metadata": {
    "collapsed": true
   },
   "outputs": [],
   "source": [
    "filename = '~/./Documents/Harmonizome/GDSC/Output/gdsc_tertiary_matrix_%s.tsv.zip'% str(datetime.date.today())[0:7].replace('-', '_')\n",
    "tertiary_matrix.to_csv(filename, sep='\\t', compression='gzip')"
   ]
  },
  {
   "cell_type": "markdown",
   "metadata": {},
   "source": [
    "### Path to output files"
   ]
  },
  {
   "cell_type": "code",
   "execution_count": 42,
   "metadata": {
    "collapsed": true
   },
   "outputs": [],
   "source": [
    "path = '/Users/moshesilverstein/Documents/Harmonizome/GDSC/Output/'"
   ]
  },
  {
   "cell_type": "markdown",
   "metadata": {},
   "source": [
    "# Create Up Gene Set Library"
   ]
  },
  {
   "cell_type": "code",
   "execution_count": 43,
   "metadata": {
    "collapsed": true
   },
   "outputs": [],
   "source": [
    "name = 'gdsc_gene_up_set'"
   ]
  },
  {
   "cell_type": "code",
   "execution_count": 44,
   "metadata": {},
   "outputs": [
    {
     "name": "stdout",
     "output_type": "stream",
     "text": [
      "Progeres: 100%  727 Out of 727   \r"
     ]
    }
   ],
   "source": [
    "uf.createUpGeneSetLib(tertiary_matrix, path, name)"
   ]
  },
  {
   "cell_type": "markdown",
   "metadata": {},
   "source": [
    "# Create Down Gene Set Library"
   ]
  },
  {
   "cell_type": "code",
   "execution_count": 45,
   "metadata": {
    "collapsed": true
   },
   "outputs": [],
   "source": [
    "name = 'gdsc_gene_down_set'"
   ]
  },
  {
   "cell_type": "code",
   "execution_count": 46,
   "metadata": {},
   "outputs": [
    {
     "name": "stdout",
     "output_type": "stream",
     "text": [
      "Progeres: 100%  727 Out of 727   \r"
     ]
    }
   ],
   "source": [
    "uf.createDownGeneSetLib(tertiary_matrix, path, name)"
   ]
  },
  {
   "cell_type": "markdown",
   "metadata": {},
   "source": [
    "# Create Up Attribute Library"
   ]
  },
  {
   "cell_type": "code",
   "execution_count": 47,
   "metadata": {
    "collapsed": true
   },
   "outputs": [],
   "source": [
    "name = 'gdsc_attribute_up_set'"
   ]
  },
  {
   "cell_type": "code",
   "execution_count": 48,
   "metadata": {},
   "outputs": [
    {
     "name": "stdout",
     "output_type": "stream",
     "text": [
      "Progeres: 100%  12296 Out of 12296   \r"
     ]
    }
   ],
   "source": [
    "uf.createUpAttributeSetLib(tertiary_matrix, path, name)"
   ]
  },
  {
   "cell_type": "markdown",
   "metadata": {},
   "source": [
    "# Create Down Attribute Library"
   ]
  },
  {
   "cell_type": "code",
   "execution_count": 49,
   "metadata": {
    "collapsed": true
   },
   "outputs": [],
   "source": [
    "name = 'gdsc_attribute_down_set'"
   ]
  },
  {
   "cell_type": "code",
   "execution_count": 50,
   "metadata": {},
   "outputs": [
    {
     "name": "stdout",
     "output_type": "stream",
     "text": [
      "Progeres: 100%  12296 Out of 12296   \r"
     ]
    }
   ],
   "source": [
    "uf.createDownAttributeSetLib(tertiary_matrix, path, name)"
   ]
  },
  {
   "cell_type": "markdown",
   "metadata": {},
   "source": [
    "# Create Gene Similarity Matrix"
   ]
  },
  {
   "cell_type": "code",
   "execution_count": 51,
   "metadata": {
    "collapsed": true
   },
   "outputs": [],
   "source": [
    "gene_similarity_matix = uf.createSimilarityMatrix(normalized_matrix, 'cosine')"
   ]
  },
  {
   "cell_type": "code",
   "execution_count": 52,
   "metadata": {},
   "outputs": [
    {
     "data": {
      "text/html": [
       "<div>\n",
       "<table border=\"1\" class=\"dataframe\">\n",
       "  <thead>\n",
       "    <tr style=\"text-align: right;\">\n",
       "      <th>PROBE</th>\n",
       "      <th>A1CF</th>\n",
       "      <th>A2M</th>\n",
       "      <th>A4GALT</th>\n",
       "      <th>A4GNT</th>\n",
       "      <th>AAAS</th>\n",
       "      <th>AACS</th>\n",
       "      <th>AADAC</th>\n",
       "      <th>AAGAB</th>\n",
       "      <th>AAK1</th>\n",
       "      <th>AAMDC</th>\n",
       "      <th>...</th>\n",
       "      <th>ZSWIM1</th>\n",
       "      <th>ZSWIM8</th>\n",
       "      <th>ZW10</th>\n",
       "      <th>ZWILCH</th>\n",
       "      <th>ZWINT</th>\n",
       "      <th>ZXDB</th>\n",
       "      <th>ZXDC</th>\n",
       "      <th>ZYX</th>\n",
       "      <th>ZZEF1</th>\n",
       "      <th>ZZZ3</th>\n",
       "    </tr>\n",
       "    <tr>\n",
       "      <th>PROBE</th>\n",
       "      <th></th>\n",
       "      <th></th>\n",
       "      <th></th>\n",
       "      <th></th>\n",
       "      <th></th>\n",
       "      <th></th>\n",
       "      <th></th>\n",
       "      <th></th>\n",
       "      <th></th>\n",
       "      <th></th>\n",
       "      <th></th>\n",
       "      <th></th>\n",
       "      <th></th>\n",
       "      <th></th>\n",
       "      <th></th>\n",
       "      <th></th>\n",
       "      <th></th>\n",
       "      <th></th>\n",
       "      <th></th>\n",
       "      <th></th>\n",
       "      <th></th>\n",
       "    </tr>\n",
       "  </thead>\n",
       "  <tbody>\n",
       "    <tr>\n",
       "      <th>A1CF</th>\n",
       "      <td>1.000000</td>\n",
       "      <td>0.255595</td>\n",
       "      <td>-0.033207</td>\n",
       "      <td>0.049937</td>\n",
       "      <td>0.082120</td>\n",
       "      <td>0.147871</td>\n",
       "      <td>0.015613</td>\n",
       "      <td>0.004685</td>\n",
       "      <td>-0.055131</td>\n",
       "      <td>0.064878</td>\n",
       "      <td>...</td>\n",
       "      <td>0.145505</td>\n",
       "      <td>0.008739</td>\n",
       "      <td>-0.049840</td>\n",
       "      <td>-0.010036</td>\n",
       "      <td>0.035482</td>\n",
       "      <td>0.012953</td>\n",
       "      <td>0.008065</td>\n",
       "      <td>-0.034493</td>\n",
       "      <td>-0.031332</td>\n",
       "      <td>-0.084004</td>\n",
       "    </tr>\n",
       "    <tr>\n",
       "      <th>A2M</th>\n",
       "      <td>0.255595</td>\n",
       "      <td>1.000000</td>\n",
       "      <td>-0.065254</td>\n",
       "      <td>-0.040466</td>\n",
       "      <td>-0.023013</td>\n",
       "      <td>-0.042714</td>\n",
       "      <td>-0.022066</td>\n",
       "      <td>0.018307</td>\n",
       "      <td>-0.040571</td>\n",
       "      <td>0.035798</td>\n",
       "      <td>...</td>\n",
       "      <td>0.013060</td>\n",
       "      <td>0.018648</td>\n",
       "      <td>-0.034983</td>\n",
       "      <td>-0.009465</td>\n",
       "      <td>-0.117534</td>\n",
       "      <td>0.011927</td>\n",
       "      <td>-0.074811</td>\n",
       "      <td>0.026035</td>\n",
       "      <td>-0.012152</td>\n",
       "      <td>0.003269</td>\n",
       "    </tr>\n",
       "    <tr>\n",
       "      <th>A4GALT</th>\n",
       "      <td>-0.033207</td>\n",
       "      <td>-0.065254</td>\n",
       "      <td>1.000000</td>\n",
       "      <td>0.021044</td>\n",
       "      <td>0.009858</td>\n",
       "      <td>-0.002789</td>\n",
       "      <td>-0.014219</td>\n",
       "      <td>-0.051756</td>\n",
       "      <td>0.026850</td>\n",
       "      <td>-0.004466</td>\n",
       "      <td>...</td>\n",
       "      <td>-0.063633</td>\n",
       "      <td>0.087421</td>\n",
       "      <td>-0.046712</td>\n",
       "      <td>-0.034705</td>\n",
       "      <td>-0.062013</td>\n",
       "      <td>-0.002014</td>\n",
       "      <td>0.019820</td>\n",
       "      <td>-0.019787</td>\n",
       "      <td>-0.065415</td>\n",
       "      <td>-0.019700</td>\n",
       "    </tr>\n",
       "    <tr>\n",
       "      <th>A4GNT</th>\n",
       "      <td>0.049937</td>\n",
       "      <td>-0.040466</td>\n",
       "      <td>0.021044</td>\n",
       "      <td>1.000000</td>\n",
       "      <td>0.042046</td>\n",
       "      <td>0.014076</td>\n",
       "      <td>0.044933</td>\n",
       "      <td>-0.004480</td>\n",
       "      <td>-0.002613</td>\n",
       "      <td>-0.032182</td>\n",
       "      <td>...</td>\n",
       "      <td>0.070155</td>\n",
       "      <td>-0.029523</td>\n",
       "      <td>0.034823</td>\n",
       "      <td>-0.003093</td>\n",
       "      <td>-0.011110</td>\n",
       "      <td>0.063289</td>\n",
       "      <td>-0.008444</td>\n",
       "      <td>0.004539</td>\n",
       "      <td>0.029043</td>\n",
       "      <td>0.049417</td>\n",
       "    </tr>\n",
       "    <tr>\n",
       "      <th>AAAS</th>\n",
       "      <td>0.082120</td>\n",
       "      <td>-0.023013</td>\n",
       "      <td>0.009858</td>\n",
       "      <td>0.042046</td>\n",
       "      <td>1.000000</td>\n",
       "      <td>0.056060</td>\n",
       "      <td>-0.049126</td>\n",
       "      <td>0.114366</td>\n",
       "      <td>0.204521</td>\n",
       "      <td>0.106213</td>\n",
       "      <td>...</td>\n",
       "      <td>0.098341</td>\n",
       "      <td>0.170105</td>\n",
       "      <td>-0.116632</td>\n",
       "      <td>0.060668</td>\n",
       "      <td>0.267183</td>\n",
       "      <td>0.071900</td>\n",
       "      <td>0.077259</td>\n",
       "      <td>0.043894</td>\n",
       "      <td>0.229175</td>\n",
       "      <td>-0.121875</td>\n",
       "    </tr>\n",
       "  </tbody>\n",
       "</table>\n",
       "<p>5 rows × 12296 columns</p>\n",
       "</div>"
      ],
      "text/plain": [
       "PROBE       A1CF       A2M    A4GALT     A4GNT      AAAS      AACS     AADAC  \\\n",
       "PROBE                                                                          \n",
       "A1CF    1.000000  0.255595 -0.033207  0.049937  0.082120  0.147871  0.015613   \n",
       "A2M     0.255595  1.000000 -0.065254 -0.040466 -0.023013 -0.042714 -0.022066   \n",
       "A4GALT -0.033207 -0.065254  1.000000  0.021044  0.009858 -0.002789 -0.014219   \n",
       "A4GNT   0.049937 -0.040466  0.021044  1.000000  0.042046  0.014076  0.044933   \n",
       "AAAS    0.082120 -0.023013  0.009858  0.042046  1.000000  0.056060 -0.049126   \n",
       "\n",
       "PROBE      AAGAB      AAK1     AAMDC    ...       ZSWIM1    ZSWIM8      ZW10  \\\n",
       "PROBE                                   ...                                    \n",
       "A1CF    0.004685 -0.055131  0.064878    ...     0.145505  0.008739 -0.049840   \n",
       "A2M     0.018307 -0.040571  0.035798    ...     0.013060  0.018648 -0.034983   \n",
       "A4GALT -0.051756  0.026850 -0.004466    ...    -0.063633  0.087421 -0.046712   \n",
       "A4GNT  -0.004480 -0.002613 -0.032182    ...     0.070155 -0.029523  0.034823   \n",
       "AAAS    0.114366  0.204521  0.106213    ...     0.098341  0.170105 -0.116632   \n",
       "\n",
       "PROBE     ZWILCH     ZWINT      ZXDB      ZXDC       ZYX     ZZEF1      ZZZ3  \n",
       "PROBE                                                                         \n",
       "A1CF   -0.010036  0.035482  0.012953  0.008065 -0.034493 -0.031332 -0.084004  \n",
       "A2M    -0.009465 -0.117534  0.011927 -0.074811  0.026035 -0.012152  0.003269  \n",
       "A4GALT -0.034705 -0.062013 -0.002014  0.019820 -0.019787 -0.065415 -0.019700  \n",
       "A4GNT  -0.003093 -0.011110  0.063289 -0.008444  0.004539  0.029043  0.049417  \n",
       "AAAS    0.060668  0.267183  0.071900  0.077259  0.043894  0.229175 -0.121875  \n",
       "\n",
       "[5 rows x 12296 columns]"
      ]
     },
     "execution_count": 52,
     "metadata": {},
     "output_type": "execute_result"
    }
   ],
   "source": [
    "gene_similarity_matix.head()"
   ]
  },
  {
   "cell_type": "markdown",
   "metadata": {},
   "source": [
    "# Save Gene Similarity Matrix"
   ]
  },
  {
   "cell_type": "code",
   "execution_count": 53,
   "metadata": {
    "collapsed": true
   },
   "outputs": [],
   "source": [
    "filename = 'Output/gdsc_gene_similarity_matix_%s.tsv.zip'% str(datetime.date.today())[0:7].replace('-', '_')\n",
    "gene_similarity_matix.to_csv(filename, sep='\\t', compression='gzip')"
   ]
  },
  {
   "cell_type": "markdown",
   "metadata": {},
   "source": [
    "# Create Attribute Similarity matrix"
   ]
  },
  {
   "cell_type": "code",
   "execution_count": 54,
   "metadata": {
    "collapsed": true
   },
   "outputs": [],
   "source": [
    "attribute_similarity_matix = uf.createSimilarityMatrix(normalized_matrix.T, 'cosine')"
   ]
  },
  {
   "cell_type": "code",
   "execution_count": 55,
   "metadata": {},
   "outputs": [
    {
     "data": {
      "text/html": [
       "<div>\n",
       "<table border=\"1\" class=\"dataframe\">\n",
       "  <thead>\n",
       "    <tr style=\"text-align: right;\">\n",
       "      <th></th>\n",
       "      <th>22RV1</th>\n",
       "      <th>23132-87</th>\n",
       "      <th>380</th>\n",
       "      <th>5637</th>\n",
       "      <th>639-V</th>\n",
       "      <th>647-V</th>\n",
       "      <th>697</th>\n",
       "      <th>769-P</th>\n",
       "      <th>786-0</th>\n",
       "      <th>8-MG-BA</th>\n",
       "      <th>...</th>\n",
       "      <th>VMRC-RCZ</th>\n",
       "      <th>WERI-Rb-1</th>\n",
       "      <th>WM-115</th>\n",
       "      <th>WSU-NHL</th>\n",
       "      <th>YAPC</th>\n",
       "      <th>YH-13</th>\n",
       "      <th>YKG-1</th>\n",
       "      <th>ZR-75-30</th>\n",
       "      <th>no-10</th>\n",
       "      <th>no-11</th>\n",
       "    </tr>\n",
       "  </thead>\n",
       "  <tbody>\n",
       "    <tr>\n",
       "      <th>22RV1</th>\n",
       "      <td>1.000000</td>\n",
       "      <td>0.093720</td>\n",
       "      <td>0.015854</td>\n",
       "      <td>-0.041533</td>\n",
       "      <td>-0.032991</td>\n",
       "      <td>-0.052188</td>\n",
       "      <td>0.023710</td>\n",
       "      <td>0.025385</td>\n",
       "      <td>-0.058713</td>\n",
       "      <td>-0.009366</td>\n",
       "      <td>...</td>\n",
       "      <td>-0.030108</td>\n",
       "      <td>0.044262</td>\n",
       "      <td>-0.052859</td>\n",
       "      <td>0.044498</td>\n",
       "      <td>-0.063227</td>\n",
       "      <td>-0.006082</td>\n",
       "      <td>0.025773</td>\n",
       "      <td>0.068811</td>\n",
       "      <td>-0.049298</td>\n",
       "      <td>-0.020784</td>\n",
       "    </tr>\n",
       "    <tr>\n",
       "      <th>23132-87</th>\n",
       "      <td>0.093720</td>\n",
       "      <td>1.000000</td>\n",
       "      <td>-0.153124</td>\n",
       "      <td>-0.082618</td>\n",
       "      <td>-0.042215</td>\n",
       "      <td>-0.058100</td>\n",
       "      <td>-0.123190</td>\n",
       "      <td>0.176170</td>\n",
       "      <td>-0.089834</td>\n",
       "      <td>0.119579</td>\n",
       "      <td>...</td>\n",
       "      <td>0.116601</td>\n",
       "      <td>-0.036058</td>\n",
       "      <td>-0.127101</td>\n",
       "      <td>0.077109</td>\n",
       "      <td>0.139792</td>\n",
       "      <td>0.010487</td>\n",
       "      <td>-0.011674</td>\n",
       "      <td>0.026777</td>\n",
       "      <td>0.002449</td>\n",
       "      <td>0.111138</td>\n",
       "    </tr>\n",
       "    <tr>\n",
       "      <th>380</th>\n",
       "      <td>0.015854</td>\n",
       "      <td>-0.153124</td>\n",
       "      <td>1.000000</td>\n",
       "      <td>-0.026266</td>\n",
       "      <td>-0.029638</td>\n",
       "      <td>0.002096</td>\n",
       "      <td>0.421550</td>\n",
       "      <td>-0.142021</td>\n",
       "      <td>-0.044042</td>\n",
       "      <td>-0.140735</td>\n",
       "      <td>...</td>\n",
       "      <td>-0.141415</td>\n",
       "      <td>0.055105</td>\n",
       "      <td>-0.016475</td>\n",
       "      <td>0.151626</td>\n",
       "      <td>-0.083199</td>\n",
       "      <td>-0.141315</td>\n",
       "      <td>-0.084273</td>\n",
       "      <td>-0.011065</td>\n",
       "      <td>-0.147236</td>\n",
       "      <td>-0.141819</td>\n",
       "    </tr>\n",
       "    <tr>\n",
       "      <th>5637</th>\n",
       "      <td>-0.041533</td>\n",
       "      <td>-0.082618</td>\n",
       "      <td>-0.026266</td>\n",
       "      <td>1.000000</td>\n",
       "      <td>0.087810</td>\n",
       "      <td>0.141352</td>\n",
       "      <td>-0.005326</td>\n",
       "      <td>-0.117565</td>\n",
       "      <td>0.147874</td>\n",
       "      <td>-0.060139</td>\n",
       "      <td>...</td>\n",
       "      <td>-0.103327</td>\n",
       "      <td>-0.069679</td>\n",
       "      <td>0.031470</td>\n",
       "      <td>-0.163151</td>\n",
       "      <td>0.059555</td>\n",
       "      <td>-0.093072</td>\n",
       "      <td>-0.071513</td>\n",
       "      <td>-0.014852</td>\n",
       "      <td>-0.030563</td>\n",
       "      <td>-0.096335</td>\n",
       "    </tr>\n",
       "    <tr>\n",
       "      <th>639-V</th>\n",
       "      <td>-0.032991</td>\n",
       "      <td>-0.042215</td>\n",
       "      <td>-0.029638</td>\n",
       "      <td>0.087810</td>\n",
       "      <td>1.000000</td>\n",
       "      <td>0.052778</td>\n",
       "      <td>0.011460</td>\n",
       "      <td>-0.100320</td>\n",
       "      <td>0.175232</td>\n",
       "      <td>-0.071871</td>\n",
       "      <td>...</td>\n",
       "      <td>-0.109451</td>\n",
       "      <td>-0.041760</td>\n",
       "      <td>-0.025760</td>\n",
       "      <td>-0.151005</td>\n",
       "      <td>-0.057722</td>\n",
       "      <td>-0.128256</td>\n",
       "      <td>-0.015021</td>\n",
       "      <td>-0.043742</td>\n",
       "      <td>0.035568</td>\n",
       "      <td>-0.009198</td>\n",
       "    </tr>\n",
       "  </tbody>\n",
       "</table>\n",
       "<p>5 rows × 727 columns</p>\n",
       "</div>"
      ],
      "text/plain": [
       "             22RV1  23132-87       380      5637     639-V     647-V  \\\n",
       "22RV1     1.000000  0.093720  0.015854 -0.041533 -0.032991 -0.052188   \n",
       "23132-87  0.093720  1.000000 -0.153124 -0.082618 -0.042215 -0.058100   \n",
       "380       0.015854 -0.153124  1.000000 -0.026266 -0.029638  0.002096   \n",
       "5637     -0.041533 -0.082618 -0.026266  1.000000  0.087810  0.141352   \n",
       "639-V    -0.032991 -0.042215 -0.029638  0.087810  1.000000  0.052778   \n",
       "\n",
       "               697     769-P     786-0   8-MG-BA    ...     VMRC-RCZ  \\\n",
       "22RV1     0.023710  0.025385 -0.058713 -0.009366    ...    -0.030108   \n",
       "23132-87 -0.123190  0.176170 -0.089834  0.119579    ...     0.116601   \n",
       "380       0.421550 -0.142021 -0.044042 -0.140735    ...    -0.141415   \n",
       "5637     -0.005326 -0.117565  0.147874 -0.060139    ...    -0.103327   \n",
       "639-V     0.011460 -0.100320  0.175232 -0.071871    ...    -0.109451   \n",
       "\n",
       "          WERI-Rb-1    WM-115   WSU-NHL      YAPC     YH-13     YKG-1  \\\n",
       "22RV1      0.044262 -0.052859  0.044498 -0.063227 -0.006082  0.025773   \n",
       "23132-87  -0.036058 -0.127101  0.077109  0.139792  0.010487 -0.011674   \n",
       "380        0.055105 -0.016475  0.151626 -0.083199 -0.141315 -0.084273   \n",
       "5637      -0.069679  0.031470 -0.163151  0.059555 -0.093072 -0.071513   \n",
       "639-V     -0.041760 -0.025760 -0.151005 -0.057722 -0.128256 -0.015021   \n",
       "\n",
       "          ZR-75-30     no-10     no-11  \n",
       "22RV1     0.068811 -0.049298 -0.020784  \n",
       "23132-87  0.026777  0.002449  0.111138  \n",
       "380      -0.011065 -0.147236 -0.141819  \n",
       "5637     -0.014852 -0.030563 -0.096335  \n",
       "639-V    -0.043742  0.035568 -0.009198  \n",
       "\n",
       "[5 rows x 727 columns]"
      ]
     },
     "execution_count": 55,
     "metadata": {},
     "output_type": "execute_result"
    }
   ],
   "source": [
    "attribute_similarity_matix.head()"
   ]
  },
  {
   "cell_type": "markdown",
   "metadata": {},
   "source": [
    "# Save Attribute Similarity Matrix"
   ]
  },
  {
   "cell_type": "code",
   "execution_count": 56,
   "metadata": {
    "collapsed": true
   },
   "outputs": [],
   "source": [
    "filename = 'Output/gdsc_attribute_similarity_matix_%s.tsv.zip'% str(datetime.date.today())[0:7].replace('-', '_')\n",
    "attribute_similarity_matix.to_csv(filename, sep='\\t', compression='gzip')"
   ]
  },
  {
   "cell_type": "markdown",
   "metadata": {},
   "source": [
    "# Create Gene List"
   ]
  },
  {
   "cell_type": "code",
   "execution_count": 57,
   "metadata": {},
   "outputs": [
    {
     "name": "stdout",
     "output_type": "stream",
     "text": [
      "Progeres: 100%  12296 Out of 12296   \r"
     ]
    }
   ],
   "source": [
    "gene_list = uf.createGeneList(normalized_matrix)"
   ]
  },
  {
   "cell_type": "code",
   "execution_count": 58,
   "metadata": {},
   "outputs": [
    {
     "data": {
      "text/html": [
       "<div>\n",
       "<table border=\"1\" class=\"dataframe\">\n",
       "  <thead>\n",
       "    <tr style=\"text-align: right;\">\n",
       "      <th></th>\n",
       "      <th>GeneSym</th>\n",
       "      <th>GeneID</th>\n",
       "    </tr>\n",
       "  </thead>\n",
       "  <tbody>\n",
       "    <tr>\n",
       "      <th>0</th>\n",
       "      <td>A1CF</td>\n",
       "      <td>29974</td>\n",
       "    </tr>\n",
       "    <tr>\n",
       "      <th>1</th>\n",
       "      <td>A2M</td>\n",
       "      <td>2</td>\n",
       "    </tr>\n",
       "    <tr>\n",
       "      <th>2</th>\n",
       "      <td>A4GALT</td>\n",
       "      <td>53947</td>\n",
       "    </tr>\n",
       "    <tr>\n",
       "      <th>3</th>\n",
       "      <td>A4GNT</td>\n",
       "      <td>51146</td>\n",
       "    </tr>\n",
       "    <tr>\n",
       "      <th>4</th>\n",
       "      <td>AAAS</td>\n",
       "      <td>8086</td>\n",
       "    </tr>\n",
       "  </tbody>\n",
       "</table>\n",
       "</div>"
      ],
      "text/plain": [
       "  GeneSym GeneID\n",
       "0    A1CF  29974\n",
       "1     A2M      2\n",
       "2  A4GALT  53947\n",
       "3   A4GNT  51146\n",
       "4    AAAS   8086"
      ]
     },
     "execution_count": 58,
     "metadata": {},
     "output_type": "execute_result"
    }
   ],
   "source": [
    "gene_list.head()"
   ]
  },
  {
   "cell_type": "code",
   "execution_count": 59,
   "metadata": {},
   "outputs": [
    {
     "data": {
      "text/plain": [
       "(12296, 2)"
      ]
     },
     "execution_count": 59,
     "metadata": {},
     "output_type": "execute_result"
    }
   ],
   "source": [
    "gene_list.shape"
   ]
  },
  {
   "cell_type": "markdown",
   "metadata": {},
   "source": [
    "# Save Gene List"
   ]
  },
  {
   "cell_type": "code",
   "execution_count": 60,
   "metadata": {
    "collapsed": true
   },
   "outputs": [],
   "source": [
    "filename = 'Output/gdsc_gene_list_%s.tsv.zip'% str(datetime.date.today())[0:7].replace('-', '_')\n",
    "gene_list.to_csv(filename, sep='\\t', index=False, compression='gzip')"
   ]
  },
  {
   "cell_type": "markdown",
   "metadata": {},
   "source": [
    "# Create Attribute List"
   ]
  },
  {
   "cell_type": "code",
   "execution_count": 61,
   "metadata": {
    "collapsed": true
   },
   "outputs": [],
   "source": [
    "attribute_list = uf.createAttributeList(normalized_matrix)"
   ]
  },
  {
   "cell_type": "code",
   "execution_count": 62,
   "metadata": {},
   "outputs": [
    {
     "data": {
      "text/html": [
       "<div>\n",
       "<table border=\"1\" class=\"dataframe\">\n",
       "  <thead>\n",
       "    <tr style=\"text-align: right;\">\n",
       "      <th></th>\n",
       "      <th>Attributes</th>\n",
       "    </tr>\n",
       "  </thead>\n",
       "  <tbody>\n",
       "    <tr>\n",
       "      <th>0</th>\n",
       "      <td>22RV1</td>\n",
       "    </tr>\n",
       "    <tr>\n",
       "      <th>1</th>\n",
       "      <td>23132-87</td>\n",
       "    </tr>\n",
       "    <tr>\n",
       "      <th>2</th>\n",
       "      <td>380</td>\n",
       "    </tr>\n",
       "    <tr>\n",
       "      <th>3</th>\n",
       "      <td>5637</td>\n",
       "    </tr>\n",
       "    <tr>\n",
       "      <th>4</th>\n",
       "      <td>639-V</td>\n",
       "    </tr>\n",
       "  </tbody>\n",
       "</table>\n",
       "</div>"
      ],
      "text/plain": [
       "  Attributes\n",
       "0      22RV1\n",
       "1   23132-87\n",
       "2        380\n",
       "3       5637\n",
       "4      639-V"
      ]
     },
     "execution_count": 62,
     "metadata": {},
     "output_type": "execute_result"
    }
   ],
   "source": [
    "attribute_list.head()"
   ]
  },
  {
   "cell_type": "code",
   "execution_count": 63,
   "metadata": {},
   "outputs": [
    {
     "data": {
      "text/plain": [
       "(727, 1)"
      ]
     },
     "execution_count": 63,
     "metadata": {},
     "output_type": "execute_result"
    }
   ],
   "source": [
    "attribute_list.shape"
   ]
  },
  {
   "cell_type": "markdown",
   "metadata": {},
   "source": [
    "# Save Attribute List"
   ]
  },
  {
   "cell_type": "code",
   "execution_count": 64,
   "metadata": {
    "collapsed": true
   },
   "outputs": [],
   "source": [
    "filename = 'Output/gdsc_attribute_list_%s.tsv.zip'% str(datetime.date.today())[0:7].replace('-', '_')\n",
    "attribute_list.to_csv(filename, sep='\\t', index=False, compression='gzip')"
   ]
  },
  {
   "cell_type": "markdown",
   "metadata": {},
   "source": [
    "# Create Gene-Attribute Edge List"
   ]
  },
  {
   "cell_type": "code",
   "execution_count": 65,
   "metadata": {
    "collapsed": true
   },
   "outputs": [],
   "source": [
    "path = '/Users/moshesilverstein/Documents/Harmonizome/GDSC/Output/'"
   ]
  },
  {
   "cell_type": "code",
   "execution_count": 66,
   "metadata": {
    "collapsed": true
   },
   "outputs": [],
   "source": [
    "name = 'gdsc_gene_attribute_edge_list'"
   ]
  },
  {
   "cell_type": "code",
   "execution_count": 67,
   "metadata": {},
   "outputs": [
    {
     "name": "stdout",
     "output_type": "stream",
     "text": [
      "Progeres: 100%  727 Out of 727   \n",
      "\n",
      " The number of statisticaly relevent gene-attribute associations is: 1787693\n"
     ]
    }
   ],
   "source": [
    "uf.createGeneAttributeEdgeList(tertiary_matrix, gene_list, path, name)"
   ]
  }
 ],
 "metadata": {
  "kernelspec": {
   "display_name": "Python [default]",
   "language": "python",
   "name": "python3"
  },
  "language_info": {
   "codemirror_mode": {
    "name": "ipython",
    "version": 3
   },
   "file_extension": ".py",
   "mimetype": "text/x-python",
   "name": "python",
   "nbconvert_exporter": "python",
   "pygments_lexer": "ipython3",
   "version": "3.5.2"
  }
 },
 "nbformat": 4,
 "nbformat_minor": 2
}
